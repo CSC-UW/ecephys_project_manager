{
 "cells": [
  {
   "cell_type": "code",
   "execution_count": null,
   "metadata": {},
   "outputs": [],
   "source": [
    "%load_ext autoreload\n",
    "%autoreload 2\n"
   ]
  },
  {
   "cell_type": "code",
   "execution_count": null,
   "metadata": {},
   "outputs": [],
   "source": [
    "from pathlib import Path\n",
    "import matplotlib.pyplot as plt\n",
    "import itertools"
   ]
  },
  {
   "cell_type": "code",
   "execution_count": null,
   "metadata": {},
   "outputs": [],
   "source": [
    "import ecephys.utils\n",
    "from ecephys_analyses.psth import make_psth_heatmap, make_pooled_psth_hist\n",
    "from ecephys_analyses.data import paths"
   ]
  },
  {
   "cell_type": "code",
   "execution_count": null,
   "metadata": {},
   "outputs": [],
   "source": [
    "plt.rcParams['figure.figsize'] = [8, 4]\n",
    "plt.rcParams['figure.dpi'] = 200 # 200 e.g. is really fine, but slower\n",
    "\n",
    "SMALL_SIZE = 12\n",
    "MEDIUM_SIZE = 15\n",
    "BIGGER_SIZE = 18\n",
    "\n",
    "plt.rc('font', size=SMALL_SIZE)          # controls default text sizes\n",
    "plt.rc('axes', titlesize=MEDIUM_SIZE)     # fontsize of the axes title\n",
    "plt.rc('axes', labelsize=MEDIUM_SIZE)    # fontsize of the x and y labels\n",
    "plt.rc('xtick', labelsize=SMALL_SIZE)    # fontsize of the tick labels\n",
    "plt.rc('ytick', labelsize=SMALL_SIZE)    # fontsize of the tick labels\n",
    "plt.rc('legend', fontsize=SMALL_SIZE)    # legend fontsize\n",
    "plt.rc('figure', titlesize=BIGGER_SIZE)  # fontsize of the figure title"
   ]
  },
  {
   "cell_type": "markdown",
   "metadata": {},
   "source": [
    "# All"
   ]
  },
  {
   "cell_type": "code",
   "execution_count": null,
   "metadata": {},
   "outputs": [],
   "source": [
    "# OUTPUT_DIR = None  # If None, save all the plots in root_dir/subject/condition/plots/sorting_condition\n",
    "OUTPUT_DIR = './plots/psth_hist'  # If None, save all the plots in root_dir/subject/condition/plots/sorting_condition\n",
    "\n",
    "\n",
    "#### Data params\n",
    "\n",
    "root_key = 'eStim'  # A key in `ecephys_analyses/data/conditions.yml` specifying the path where we save all subjects' data\n",
    "\n",
    "condition_group = 'eStim'  # eg 'eStim'. A key in `ecephys_analyses/data/conditions.yml` specifying the list of conditions to process\n",
    "\n",
    "subjects = [\n",
    "    # 'Santiago',\n",
    "]\n",
    "\n",
    "sorting_condition = 'ks2_5_catgt_Th=12-10_lam=50_8s-batches_postpro_2' # Name of the curated kilosort output directory. For all subjects/conditions\n",
    "\n",
    "states = [\n",
    "    \"N2\", \"Wake\", \"REM\", \"Sevo\"\n",
    "]  # States to compute. The `stim_times.csv` file should have a `stim_state` column\n",
    "\n",
    "regions = [\n",
    "    'cortex_base',\n",
    "    'thalamus_base',\n",
    "#     'all',\n",
    "]  # Regions to compute. if not 'all', should be a key in `ecephys_analyses/data/regions.yml`\n",
    "\n",
    "selection_intervals = {\n",
    "    'fr': (0.0, float('inf')),\n",
    "} # etc, etc, Keys are columns from cluster_info.tsv or metrics.csv.\n",
    "\n",
    "selected_groups = ['good', 'mua', 'noise_contam']\n",
    "\n",
    "\n",
    "#### PSTH params\n",
    "\n",
    "normalize = 'baseline_norm'\n",
    "\n",
    "# norm_window = [-10000, 2000]  # Window for computing and normalizing PSTH. [norm_window[0], -binsize] is used as baseline to normalize the PSTH\n",
    "norm_window = [-4000, 2000]  # For Allan only since the pulses are closeby\n",
    "plot_window = [-200, 800]  # Window for plotting the PSTH. (Can be shorter than window for normalization)\n",
    "binsize = 5  # To bin spikes\n",
    "\n",
    "#### Plot\n",
    "\n",
    "ylim = [0, 3]  # Color scale domain for z-scored data\n",
    "# ylim = None  # Color scale domain for z-scored data\n",
    "\n",
    "#### Run\n",
    "\n",
    "n_jobs = 10  # How many jobs in parallel\n",
    "\n",
    "\n",
    "kwargs = {\n",
    "    'selection_intervals': selection_intervals,\n",
    "    'selected_groups': selected_groups,\n",
    "    'binsize': binsize,\n",
    "    'normalize': normalize,\n",
    "    'norm_window': norm_window,\n",
    "    'plot_window': plot_window,\n",
    "    'ylim': ylim,\n",
    "    'save': True,\n",
    "    'show': False,\n",
    "    'output_dir': OUTPUT_DIR,\n",
    "    'root_key': root_key,\n",
    "}\n",
    "\n",
    "data = [] \n",
    "for s in subjects:\n",
    "    data += [(s, c) for c in paths.get_conditions(s, condition_group)]\n",
    "# conditions = paths.get_conditions(subject, condition_group)\n",
    "print(f\"N={len(data)} conditions: {data}\")"
   ]
  },
  {
   "cell_type": "code",
   "execution_count": null,
   "metadata": {},
   "outputs": [],
   "source": [
    "# Example fig..\n",
    "fig, ax = make_pooled_psth_hist(\n",
    "    data[0][0], data[0][1], sorting_condition,\n",
    "    region=regions[0],\n",
    "    state=states[0],\n",
    "    **kwargs,\n",
    ")"
   ]
  },
  {
   "cell_type": "code",
   "execution_count": null,
   "metadata": {},
   "outputs": [],
   "source": [
    "if n_jobs == 1:\n",
    "    for (\n",
    "            (subject, condition),\n",
    "            state,\n",
    "            region, \n",
    "    ) in itertools.product(\n",
    "        data, regions,\n",
    "    ):\n",
    "\n",
    "        make_pooled_psth_hist(\n",
    "            subject, condition, sorting_condition,\n",
    "            region=region,\n",
    "            state=state,\n",
    "            **kwargs,\n",
    "        )\n",
    "else:\n",
    "    from joblib import Parallel, delayed\n",
    "    \n",
    "    def make_figures_parall( subject, condition, state, region):\n",
    "        make_pooled_psth_hist(\n",
    "            subject, condition, sorting_condition,\n",
    "            region=region,\n",
    "            state=state,\n",
    "            **kwargs,\n",
    "        )\n",
    "        \n",
    "    Parallel(n_jobs=n_jobs, backend='multiprocessing')(\n",
    "        delayed(make_figures_parall)(\n",
    "            subject, condition,\n",
    "            state,\n",
    "            region, \n",
    "        ) for (\n",
    "            (subject, condition), state, region, \n",
    "        ) in itertools.product(\n",
    "            data, states, regions\n",
    "        )\n",
    "    )\n",
    "    print('done')"
   ]
  },
  {
   "cell_type": "code",
   "execution_count": null,
   "metadata": {},
   "outputs": [],
   "source": []
  }
 ],
 "metadata": {
  "interpreter": {
   "hash": "163f60fd0c4893f6b5b5d02a992f8da0ba0b440a8f2d02cc21012d9cf8bf4e5f"
  },
  "kernelspec": {
   "display_name": "Python 3",
   "language": "python",
   "name": "python3"
  },
  "language_info": {
   "codemirror_mode": {
    "name": "ipython",
    "version": 3
   },
   "file_extension": ".py",
   "mimetype": "text/x-python",
   "name": "python",
   "nbconvert_exporter": "python",
   "pygments_lexer": "ipython3",
   "version": "3.7.7"
  }
 },
 "nbformat": 4,
 "nbformat_minor": 4
}
