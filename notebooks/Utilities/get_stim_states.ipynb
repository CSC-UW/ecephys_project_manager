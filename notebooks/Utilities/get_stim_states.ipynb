{
 "cells": [
  {
   "cell_type": "code",
   "execution_count": 1,
   "metadata": {
    "execution": {
     "iopub.execute_input": "2021-03-26T03:35:33.865772Z",
     "iopub.status.busy": "2021-03-26T03:35:33.865590Z",
     "iopub.status.idle": "2021-03-26T03:35:33.917576Z",
     "shell.execute_reply": "2021-03-26T03:35:33.916759Z",
     "shell.execute_reply.started": "2021-03-26T03:35:33.865750Z"
    }
   },
   "outputs": [],
   "source": [
    "from pathlib import Path\n",
    "from scipy.io import loadmat\n",
    "import numpy as np\n",
    "import pandas as pd"
   ]
  },
  {
   "cell_type": "code",
   "execution_count": 2,
   "metadata": {
    "execution": {
     "iopub.execute_input": "2021-03-26T03:35:37.863472Z",
     "iopub.status.busy": "2021-03-26T03:35:37.862961Z",
     "iopub.status.idle": "2021-03-26T03:35:37.877001Z",
     "shell.execute_reply": "2021-03-26T03:35:37.875877Z",
     "shell.execute_reply.started": "2021-03-26T03:35:37.863412Z"
    }
   },
   "outputs": [],
   "source": [
    "def get_start_time(H, row):\n",
    "    \"\"\"Infer a bout's start time from the previous bout's end time.\n",
    "\n",
    "    Parameters\n",
    "    ----------\n",
    "    H: DataFrame, (n_bouts, ?)\n",
    "        Hypogram in Visbrain format with 'start_time'.\n",
    "    row: Series\n",
    "        A row from `H`, representing the bout that you want the start time of.\n",
    "\n",
    "    Returns\n",
    "    -------\n",
    "    start_time: float\n",
    "        The start time of the bout from `row`.\n",
    "    \"\"\"\n",
    "    if row.name == 0:\n",
    "        start_time = 0.0\n",
    "    else:\n",
    "        start_time = H.loc[row.name - 1].end_time\n",
    "\n",
    "    return start_time\n",
    "\n",
    "\n",
    "def load_visbrain_hypnogram(path):\n",
    "    \"\"\"Load a Visbrain-formatted hypngoram.\n",
    "\n",
    "    Parameters\n",
    "    ----------\n",
    "    path: pathlib.Path\n",
    "        The path to the hypnogram.\n",
    "\n",
    "    Returns:\n",
    "    --------\n",
    "    H: DataFrame\n",
    "        The loaded hypnogram.\n",
    "    \"\"\"\n",
    "    H = pd.read_csv(path, sep=\"\\t\", names=[\"state\", \"end_time\"], skiprows=1)\n",
    "    H[\"start_time\"] = H.apply(lambda row: get_start_time(H, row), axis=1)\n",
    "    H[\"duration\"] = H.apply(lambda row: row.end_time - row.start_time, axis=1)\n",
    "\n",
    "    return H"
   ]
  },
  {
   "cell_type": "code",
   "execution_count": 6,
   "metadata": {
    "execution": {
     "iopub.execute_input": "2021-03-26T03:35:40.683551Z",
     "iopub.status.busy": "2021-03-26T03:35:40.683057Z",
     "iopub.status.idle": "2021-03-26T03:35:40.691750Z",
     "shell.execute_reply": "2021-03-26T03:35:40.690431Z",
     "shell.execute_reply.started": "2021-03-26T03:35:40.683491Z"
    }
   },
   "outputs": [],
   "source": [
    "def get_state(t, hypnogram):\n",
    "    bout = hypnogram[np.logical_and(hypnogram.start_time <= t, hypnogram.end_time >= t)]\n",
    "    assert len(bout) == 1, f\"More than one state found for time {t}\"\n",
    "    return bout.state.squeeze()"
   ]
  },
  {
   "cell_type": "code",
   "execution_count": 3,
   "metadata": {
    "execution": {
     "iopub.execute_input": "2021-03-26T03:35:38.172253Z",
     "iopub.status.busy": "2021-03-26T03:35:38.171935Z",
     "iopub.status.idle": "2021-03-26T03:35:38.177371Z",
     "shell.execute_reply": "2021-03-26T03:35:38.176185Z",
     "shell.execute_reply.started": "2021-03-26T03:35:38.172213Z"
    }
   },
   "outputs": [],
   "source": [
    "stim_times_path = Path('/Volumes/neuropixel/Data/CNPIX8-Allan/3-5-2021/3-5-2021_g3/stim_times.mat')\n",
    "hypnogram_path = Path('/Volumes/neuropixel/Data/CNPIX8-Allan/3-5-2021/3-5-2021_g3/hypno.txt')"
   ]
  },
  {
   "cell_type": "code",
   "execution_count": 4,
   "metadata": {
    "execution": {
     "iopub.execute_input": "2021-03-26T03:35:38.740172Z",
     "iopub.status.busy": "2021-03-26T03:35:38.739728Z",
     "iopub.status.idle": "2021-03-26T03:35:38.770662Z",
     "shell.execute_reply": "2021-03-26T03:35:38.770006Z",
     "shell.execute_reply.started": "2021-03-26T03:35:38.740116Z"
    }
   },
   "outputs": [],
   "source": [
    "hypnogram = load_visbrain_hypnogram(hypnogram_path)\n",
    "m = loadmat(stim_times_path, squeeze_me=True)"
   ]
  },
  {
   "cell_type": "code",
   "execution_count": 5,
   "metadata": {
    "execution": {
     "iopub.execute_input": "2021-03-26T03:35:39.376953Z",
     "iopub.status.busy": "2021-03-26T03:35:39.376480Z",
     "iopub.status.idle": "2021-03-26T03:35:39.386387Z",
     "shell.execute_reply": "2021-03-26T03:35:39.385250Z",
     "shell.execute_reply.started": "2021-03-26T03:35:39.376896Z"
    }
   },
   "outputs": [],
   "source": [
    "stim_times = m['sglx_stim_times']\n",
    "stim_times = stim_times[np.logical_and(stim_times >= 0, stim_times <= hypnogram.end_time.max())]\n",
    "stim_states = np.vectorize(lambda t: get_state(t, hypnogram))(stim_times)\n",
    "df = pd.DataFrame({'sglx_stim_time': stim_times, 'stim_state': stim_states})"
   ]
  },
  {
   "cell_type": "code",
   "execution_count": 9,
   "metadata": {
    "execution": {
     "iopub.execute_input": "2021-03-26T03:35:44.553741Z",
     "iopub.status.busy": "2021-03-26T03:35:44.553117Z",
     "iopub.status.idle": "2021-03-26T03:35:44.562833Z",
     "shell.execute_reply": "2021-03-26T03:35:44.562162Z",
     "shell.execute_reply.started": "2021-03-26T03:35:44.553675Z"
    }
   },
   "outputs": [],
   "source": [
    "df.to_csv('stim_times.csv', index=False)"
   ]
  }
 ],
 "metadata": {
  "kernelspec": {
   "display_name": "Python 3",
   "language": "python",
   "name": "python3"
  },
  "language_info": {
   "codemirror_mode": {
    "name": "ipython",
    "version": 3
   },
   "file_extension": ".py",
   "mimetype": "text/x-python",
   "name": "python",
   "nbconvert_exporter": "python",
   "pygments_lexer": "ipython3",
   "version": "3.7.9"
  }
 },
 "nbformat": 4,
 "nbformat_minor": 4
}
