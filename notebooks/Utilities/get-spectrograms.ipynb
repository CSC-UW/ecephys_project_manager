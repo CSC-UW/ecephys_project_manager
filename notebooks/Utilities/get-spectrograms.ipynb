{
 "cells": [
  {
   "cell_type": "code",
   "execution_count": 1,
   "metadata": {
    "execution": {
     "iopub.execute_input": "2021-10-12T22:22:46.888413Z",
     "iopub.status.busy": "2021-10-12T22:22:46.887849Z",
     "iopub.status.idle": "2021-10-12T22:22:46.907462Z",
     "shell.execute_reply": "2021-10-12T22:22:46.905911Z",
     "shell.execute_reply.started": "2021-10-12T22:22:46.888353Z"
    },
    "tags": []
   },
   "outputs": [],
   "source": [
    "%load_ext autoreload\n",
    "%autoreload 2"
   ]
  },
  {
   "cell_type": "markdown",
   "metadata": {},
   "source": [
    "# Imports and definitions"
   ]
  },
  {
   "cell_type": "code",
   "execution_count": 2,
   "metadata": {
    "execution": {
     "iopub.execute_input": "2021-10-12T22:22:46.908426Z",
     "iopub.status.busy": "2021-10-12T22:22:46.908311Z",
     "iopub.status.idle": "2021-10-12T22:22:47.531921Z",
     "shell.execute_reply": "2021-10-12T22:22:47.531275Z",
     "shell.execute_reply.started": "2021-10-12T22:22:46.908412Z"
    },
    "tags": []
   },
   "outputs": [],
   "source": [
    "from datetime import datetime\n",
    "import xarray as xr\n",
    "from pathlib import Path"
   ]
  },
  {
   "cell_type": "code",
   "execution_count": 3,
   "metadata": {
    "execution": {
     "iopub.execute_input": "2021-10-12T22:22:47.533202Z",
     "iopub.status.busy": "2021-10-12T22:22:47.532951Z",
     "iopub.status.idle": "2021-10-12T22:22:47.930869Z",
     "shell.execute_reply": "2021-10-12T22:22:47.930155Z",
     "shell.execute_reply.started": "2021-10-12T22:22:47.533185Z"
    },
    "tags": []
   },
   "outputs": [],
   "source": [
    "import ecephys_analyses as ea\n",
    "from sglxarray import load_trigger\n",
    "from ecephys.xrsig import parallel_spectrogram_welch"
   ]
  },
  {
   "cell_type": "code",
   "execution_count": 4,
   "metadata": {
    "execution": {
     "iopub.execute_input": "2021-10-12T22:22:47.932133Z",
     "iopub.status.busy": "2021-10-12T22:22:47.931807Z",
     "iopub.status.idle": "2021-10-12T22:22:47.955266Z",
     "shell.execute_reply": "2021-10-12T22:22:47.954600Z",
     "shell.execute_reply.started": "2021-10-12T22:22:47.932106Z"
    },
    "tags": []
   },
   "outputs": [
    {
     "data": {
      "text/plain": [
       "<xarray.core.options.set_options at 0x7fc44032e210>"
      ]
     },
     "execution_count": 4,
     "metadata": {},
     "output_type": "execute_result"
    }
   ],
   "source": [
    "xr.set_options(keep_attrs=True)"
   ]
  },
  {
   "cell_type": "code",
   "execution_count": 5,
   "metadata": {
    "execution": {
     "iopub.execute_input": "2021-10-12T22:22:47.956436Z",
     "iopub.status.busy": "2021-10-12T22:22:47.956139Z",
     "iopub.status.idle": "2021-10-12T22:22:47.977381Z",
     "shell.execute_reply": "2021-10-12T22:22:47.976580Z",
     "shell.execute_reply.started": "2021-10-12T22:22:47.956410Z"
    },
    "tags": []
   },
   "outputs": [],
   "source": [
    "def get_spectrogram(sig, **kwargs):\n",
    "    nperseg = int(4 * sig.fs) # 4 second window\n",
    "    noverlap = nperseg // 4 # 1 second overlap\n",
    "    spg = parallel_spectrogram_welch(sig, nperseg=nperseg, noverlap=noverlap, **kwargs)\n",
    "    return spg.median(dim=\"channel\").sel(frequency=slice(0, 300))"
   ]
  },
  {
   "cell_type": "code",
   "execution_count": 8,
   "metadata": {
    "execution": {
     "iopub.execute_input": "2021-10-12T22:30:20.779479Z",
     "iopub.status.busy": "2021-10-12T22:30:20.778710Z",
     "iopub.status.idle": "2021-10-12T22:30:20.804555Z",
     "shell.execute_reply": "2021-10-12T22:30:20.803953Z",
     "shell.execute_reply.started": "2021-10-12T22:30:20.779417Z"
    },
    "tags": []
   },
   "outputs": [],
   "source": [
    "def get_condition_spgs(subject, experiment, alias, probe):\n",
    "    cx_chans = ea.get_channels(subject, experiment, probe, \"superficial_ctx\", asarray=False)\n",
    "    wm_chans = ea.get_channels(subject, experiment, probe, \"white_matter\", asarray=False)\n",
    "    \n",
    "    bin_paths = ea.get_lfp_bin_paths(subject, experiment, alias, probe=probe)\n",
    "    spg_paths = ea.get_analysis_counterparts(bin_paths, \"tbd_spg.nc\", subject)\n",
    "    \n",
    "    for bin_path, spg_path in zip(bin_paths, spg_paths):\n",
    "        cx = load_trigger(bin_path, cx_chans)\n",
    "        wm = load_trigger(bin_path, wm_chans)\n",
    "\n",
    "        cx_wm_ref = cx - wm.values\n",
    "\n",
    "        spgs = xr.Dataset({'cx_wm_ref': get_spectrogram(cx_wm_ref), \n",
    "                           'cx_cbm_ref': get_spectrogram(cx)})\n",
    "            \n",
    "        Path(spg_path).parent.mkdir(parents=True, exist_ok=True) # Create parent directories if they do not already exist.\n",
    "        spgs.to_netcdf(spg_path)\n",
    "        spgs.close()\n",
    "        \n",
    "        current_time = datetime.now().strftime(\"%H:%M:%S\")\n",
    "        print(f\"{current_time}: Finished {str(bin_path)}\")"
   ]
  },
  {
   "cell_type": "code",
   "execution_count": 9,
   "metadata": {
    "execution": {
     "iopub.execute_input": "2021-10-12T22:30:28.999399Z",
     "iopub.status.busy": "2021-10-12T22:30:28.998711Z",
     "iopub.status.idle": "2021-10-12T23:45:19.092205Z",
     "shell.execute_reply": "2021-10-12T23:45:19.091704Z",
     "shell.execute_reply.started": "2021-10-12T22:30:28.999338Z"
    },
    "tags": []
   },
   "outputs": [
    {
     "name": "stdout",
     "output_type": "stream",
     "text": [
      "nChan: 385, nFileSamp: 18000082\n",
      "nChan: 385, nFileSamp: 18000082\n",
      "17:39:16: Finished /Volumes/neuropixel_archive/Data/chronic/CNPIX11-Adrian/8-30-2021/SpikeGLX/8-30-2021_g0/8-30-2021_g0_imec1/8-30-2021_g0_t0.imec1.lf.bin\n",
      "nChan: 385, nFileSamp: 18000083\n",
      "nChan: 385, nFileSamp: 18000083\n",
      "17:45:24: Finished /Volumes/neuropixel_archive/Data/chronic/CNPIX11-Adrian/8-30-2021/SpikeGLX/8-30-2021_g0/8-30-2021_g0_imec1/8-30-2021_g0_t1.imec1.lf.bin\n",
      "nChan: 385, nFileSamp: 18000083\n",
      "nChan: 385, nFileSamp: 18000083\n",
      "17:49:28: Finished /Volumes/neuropixel_archive/Data/chronic/CNPIX11-Adrian/8-30-2021/SpikeGLX/8-30-2021_g0/8-30-2021_g0_imec1/8-30-2021_g0_t2.imec1.lf.bin\n",
      "nChan: 385, nFileSamp: 18000083\n",
      "nChan: 385, nFileSamp: 18000083\n",
      "17:54:11: Finished /Volumes/neuropixel_archive/Data/chronic/CNPIX11-Adrian/8-30-2021/SpikeGLX/8-30-2021_g0/8-30-2021_g0_imec1/8-30-2021_g0_t3.imec1.lf.bin\n",
      "nChan: 385, nFileSamp: 18000082\n",
      "nChan: 385, nFileSamp: 18000082\n",
      "18:02:43: Finished /Volumes/neuropixel_archive/Data/chronic/CNPIX11-Adrian/8-30-2021/SpikeGLX/8-30-2021_g0/8-30-2021_g0_imec1/8-30-2021_g0_t4.imec1.lf.bin\n",
      "nChan: 385, nFileSamp: 18000082\n",
      "nChan: 385, nFileSamp: 18000082\n",
      "18:11:16: Finished /Volumes/neuropixel_archive/Data/chronic/CNPIX11-Adrian/8-30-2021/SpikeGLX/8-30-2021_g0/8-30-2021_g0_imec1/8-30-2021_g0_t5.imec1.lf.bin\n",
      "nChan: 385, nFileSamp: 18000083\n",
      "nChan: 385, nFileSamp: 18000083\n",
      "18:16:14: Finished /Volumes/neuropixel_archive/Data/chronic/CNPIX11-Adrian/8-30-2021/SpikeGLX/8-30-2021_g0/8-30-2021_g0_imec1/8-30-2021_g0_t6.imec1.lf.bin\n",
      "nChan: 385, nFileSamp: 18000083\n",
      "nChan: 385, nFileSamp: 18000083\n",
      "18:25:41: Finished /Volumes/neuropixel_archive/Data/chronic/CNPIX11-Adrian/8-30-2021/SpikeGLX/8-30-2021_g0/8-30-2021_g0_imec1/8-30-2021_g0_t7.imec1.lf.bin\n",
      "nChan: 385, nFileSamp: 18000083\n",
      "nChan: 385, nFileSamp: 18000083\n",
      "18:32:59: Finished /Volumes/neuropixel_archive/Data/chronic/CNPIX11-Adrian/8-30-2021/SpikeGLX/8-30-2021_g0/8-30-2021_g0_imec1/8-30-2021_g0_t8.imec1.lf.bin\n",
      "nChan: 385, nFileSamp: 18000083\n",
      "nChan: 385, nFileSamp: 18000083\n",
      "18:39:51: Finished /Volumes/neuropixel_archive/Data/chronic/CNPIX11-Adrian/8-30-2021/SpikeGLX/8-30-2021_g0/8-30-2021_g0_imec1/8-30-2021_g0_t9.imec1.lf.bin\n",
      "nChan: 385, nFileSamp: 18000082\n",
      "nChan: 385, nFileSamp: 18000082\n",
      "18:44:26: Finished /Volumes/neuropixel_archive/Data/chronic/CNPIX11-Adrian/8-30-2021/SpikeGLX/8-30-2021_g0/8-30-2021_g0_imec1/8-30-2021_g0_t10.imec1.lf.bin\n",
      "nChan: 385, nFileSamp: 1824235\n",
      "nChan: 385, nFileSamp: 1824235\n",
      "18:45:19: Finished /Volumes/neuropixel_archive/Data/chronic/CNPIX11-Adrian/8-30-2021/SpikeGLX/8-30-2021_g0/8-30-2021_g0_imec1/8-30-2021_g0_t11.imec1.lf.bin\n"
     ]
    }
   ],
   "source": [
    "get_condition_spgs(\"Adrian\", \"sleep_homeostasis\", \"circadian_match\", \"imec1\")"
   ]
  },
  {
   "cell_type": "code",
   "execution_count": null,
   "metadata": {},
   "outputs": [],
   "source": []
  }
 ],
 "metadata": {
  "kernelspec": {
   "display_name": "Python 3 (ipykernel)",
   "language": "python",
   "name": "python3"
  },
  "language_info": {
   "codemirror_mode": {
    "name": "ipython",
    "version": 3
   },
   "file_extension": ".py",
   "mimetype": "text/x-python",
   "name": "python",
   "nbconvert_exporter": "python",
   "pygments_lexer": "ipython3",
   "version": "3.7.10"
  }
 },
 "nbformat": 4,
 "nbformat_minor": 4
}
