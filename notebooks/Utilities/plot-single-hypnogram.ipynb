{
 "cells": [
  {
   "cell_type": "code",
   "execution_count": 29,
   "metadata": {
    "execution": {
     "iopub.execute_input": "2021-02-01T19:17:44.940466Z",
     "iopub.status.busy": "2021-02-01T19:17:44.939843Z",
     "iopub.status.idle": "2021-02-01T19:17:44.961768Z",
     "shell.execute_reply": "2021-02-01T19:17:44.960915Z",
     "shell.execute_reply.started": "2021-02-01T19:17:44.940404Z"
    }
   },
   "outputs": [],
   "source": [
    "from ecephys_analyses.data import paths\n",
    "from ecephys.scoring import load_visbrain_hypnogram\n",
    "import ecephys.plot as eplt"
   ]
  },
  {
   "cell_type": "code",
   "execution_count": 36,
   "metadata": {
    "execution": {
     "iopub.execute_input": "2021-02-02T21:35:01.619664Z",
     "iopub.status.busy": "2021-02-02T21:35:01.619235Z",
     "iopub.status.idle": "2021-02-02T21:35:01.638394Z",
     "shell.execute_reply": "2021-02-02T21:35:01.637927Z",
     "shell.execute_reply.started": "2021-02-02T21:35:01.619609Z"
    }
   },
   "outputs": [],
   "source": [
    "subject = \"Segundo\"\n",
    "condition = \"dark-period-last-2h\""
   ]
  },
  {
   "cell_type": "code",
   "execution_count": 37,
   "metadata": {
    "execution": {
     "iopub.execute_input": "2021-02-02T21:35:01.973325Z",
     "iopub.status.busy": "2021-02-02T21:35:01.973189Z",
     "iopub.status.idle": "2021-02-02T21:35:02.012294Z",
     "shell.execute_reply": "2021-02-02T21:35:02.011587Z",
     "shell.execute_reply.started": "2021-02-02T21:35:01.973308Z"
    }
   },
   "outputs": [],
   "source": [
    "hypnogram_path = paths.get_sglx_style_datapaths(subject=subject, condition=condition, ext=\"hypnogram.txt\")[0]\n",
    "hypnogram = load_visbrain_hypnogram(hypnogram_path)"
   ]
  },
  {
   "cell_type": "code",
   "execution_count": 38,
   "metadata": {
    "execution": {
     "iopub.execute_input": "2021-02-02T21:35:02.279486Z",
     "iopub.status.busy": "2021-02-02T21:35:02.279097Z",
     "iopub.status.idle": "2021-02-02T21:35:02.328430Z",
     "shell.execute_reply": "2021-02-02T21:35:02.327724Z",
     "shell.execute_reply.started": "2021-02-02T21:35:02.279437Z"
    }
   },
   "outputs": [
    {
     "data": {
      "application/vnd.jupyter.widget-view+json": {
       "model_id": "0cb6b537a45f407ebbc02649b5c6d0ce",
       "version_major": 2,
       "version_minor": 0
      },
      "text/plain": [
       "Canvas(toolbar=Toolbar(toolitems=[('Home', 'Reset original view', 'home', 'home'), ('Back', 'Back to previous …"
      ]
     },
     "metadata": {},
     "output_type": "display_data"
    }
   ],
   "source": [
    "eplt.plot_hypnogram_overlay(hypnogram, figsize=(22, 2))"
   ]
  },
  {
   "cell_type": "code",
   "execution_count": null,
   "metadata": {},
   "outputs": [],
   "source": []
  }
 ],
 "metadata": {
  "kernelspec": {
   "display_name": "Python 3",
   "language": "python",
   "name": "python3"
  },
  "language_info": {
   "codemirror_mode": {
    "name": "ipython",
    "version": 3
   },
   "file_extension": ".py",
   "mimetype": "text/x-python",
   "name": "python",
   "nbconvert_exporter": "python",
   "pygments_lexer": "ipython3",
   "version": "3.7.9"
  }
 },
 "nbformat": 4,
 "nbformat_minor": 4
}
