{
 "cells": [
  {
   "cell_type": "code",
   "execution_count": 1,
   "metadata": {
    "execution": {
     "iopub.execute_input": "2021-02-12T02:11:07.443594Z",
     "iopub.status.busy": "2021-02-12T02:11:07.443169Z",
     "iopub.status.idle": "2021-02-12T02:11:08.085413Z",
     "shell.execute_reply": "2021-02-12T02:11:08.084207Z",
     "shell.execute_reply.started": "2021-02-12T02:11:07.443539Z"
    }
   },
   "outputs": [],
   "source": [
    "from ecephys_analyses.data import paths\n",
    "from ecephys.scoring import load_visbrain_hypnogram\n",
    "import ecephys.plot as eplt"
   ]
  },
  {
   "cell_type": "code",
   "execution_count": 2,
   "metadata": {
    "execution": {
     "iopub.execute_input": "2021-02-12T02:11:08.092052Z",
     "iopub.status.busy": "2021-02-12T02:11:08.091923Z",
     "iopub.status.idle": "2021-02-12T02:11:08.094925Z",
     "shell.execute_reply": "2021-02-12T02:11:08.094236Z",
     "shell.execute_reply.started": "2021-02-12T02:11:08.092036Z"
    }
   },
   "outputs": [],
   "source": [
    "subject = \"Eugene\"\n",
    "condition = \"dark-period-last-2h\""
   ]
  },
  {
   "cell_type": "code",
   "execution_count": 3,
   "metadata": {
    "execution": {
     "iopub.execute_input": "2021-02-12T02:11:08.095627Z",
     "iopub.status.busy": "2021-02-12T02:11:08.095514Z",
     "iopub.status.idle": "2021-02-12T02:11:08.129362Z",
     "shell.execute_reply": "2021-02-12T02:11:08.128155Z",
     "shell.execute_reply.started": "2021-02-12T02:11:08.095613Z"
    }
   },
   "outputs": [],
   "source": [
    "hypnogram_path = paths.get_sglx_style_datapaths(subject=subject, condition=condition, ext=\"hypnogram.txt\")[0]\n",
    "hypnogram = load_visbrain_hypnogram(hypnogram_path)"
   ]
  },
  {
   "cell_type": "code",
   "execution_count": 4,
   "metadata": {
    "execution": {
     "iopub.execute_input": "2021-02-12T02:11:08.446681Z",
     "iopub.status.busy": "2021-02-12T02:11:08.446256Z",
     "iopub.status.idle": "2021-02-12T02:11:08.552610Z",
     "shell.execute_reply": "2021-02-12T02:11:08.551746Z",
     "shell.execute_reply.started": "2021-02-12T02:11:08.446626Z"
    }
   },
   "outputs": [
    {
     "data": {
      "image/png": "[encoded data removed]",
      "text/plain": [
       "<Figure size 1584x144 with 1 Axes>"
      ]
     },
     "metadata": {
      "needs_background": "light"
     },
     "output_type": "display_data"
    }
   ],
   "source": [
    "eplt.plot_hypnogram_overlay(hypnogram, figsize=(22, 2))"
   ]
  },
  {
   "cell_type": "code",
   "execution_count": null,
   "metadata": {},
   "outputs": [],
   "source": []
  }
 ],
 "metadata": {
  "kernelspec": {
   "display_name": "Python 3",
   "language": "python",
   "name": "python3"
  },
  "language_info": {
   "codemirror_mode": {
    "name": "ipython",
    "version": 3
   },
   "file_extension": ".py",
   "mimetype": "text/x-python",
   "name": "python",
   "nbconvert_exporter": "python",
   "pygments_lexer": "ipython3",
   "version": "3.7.9"
  }
 },
 "nbformat": 4,
 "nbformat_minor": 4
}
