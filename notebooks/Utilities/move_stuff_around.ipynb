{
 "cells": [
  {
   "cell_type": "code",
   "execution_count": 89,
   "metadata": {},
   "outputs": [
    {
     "name": "stdout",
     "output_type": "stream",
     "text": [
      "The autoreload extension is already loaded. To reload it, use:\n",
      "  %reload_ext autoreload\n"
     ]
    }
   ],
   "source": [
    "%load_ext autoreload\n",
    "%autoreload 2"
   ]
  },
  {
   "cell_type": "code",
   "execution_count": 3,
   "metadata": {},
   "outputs": [],
   "source": [
    "from pathlib import Path\n",
    "import pandas as pd\n",
    "from ecephys_analyses.data import paths\n",
    "\n",
    "from ecephys import sglx_utils\n"
   ]
  },
  {
   "cell_type": "code",
   "execution_count": 58,
   "metadata": {},
   "outputs": [],
   "source": [
    "# Check duration of catgt concatenated data"
   ]
  },
  {
   "cell_type": "code",
   "execution_count": 77,
   "metadata": {},
   "outputs": [],
   "source": [
    "subj='Adrian'\n",
    "cond = '9-1-2021_imec0'\n",
    "stim_paths = [\n",
    "#     '/Volumes/neuropixel_analysis/Data/tom/catgt/CNPIX11-Adrian/9-1-2021_imec0/stim_times_t0.csv',\n",
    "#     '/Volumes/neuropixel_analysis/Data/tom/catgt/CNPIX11-Adrian/9-1-2021_imec0/stim_times_t1.csv',\n",
    "]\n",
    "\n",
    "raw_binpaths = paths.get_sglx_style_datapaths(\n",
    "    subj, cond, 'ap.bin', catgt_data=False, root_key='raw_chronic'\n",
    ")\n",
    "cat_binpaths = paths.get_sglx_style_datapaths(\n",
    "    subj, cond, 'ap.bin', catgt_data=True, root_key='catgt'\n",
    ")\n",
    "assert len(cat_binpaths) == 1\n",
    "assert cat_binpaths[0].exists()"
   ]
  },
  {
   "cell_type": "code",
   "execution_count": 78,
   "metadata": {},
   "outputs": [
    {
     "data": {
      "text/plain": [
       "PosixPath('/Volumes/scratch/neuropixels/data/tom/catgt/CNPIX11-Adrian/9-1-2021_g0_imec0/9-1-2021/catgt_9-1-2021_g0/9-1-2021_g0_imec0/9-1-2021_g0_tcat.imec0.ap.bin')"
      ]
     },
     "execution_count": 78,
     "metadata": {},
     "output_type": "execute_result"
    }
   ],
   "source": [
    "cat_binpaths[0]"
   ]
  },
  {
   "cell_type": "code",
   "execution_count": 79,
   "metadata": {},
   "outputs": [
    {
     "name": "stdout",
     "output_type": "stream",
     "text": [
      "no meta file\n"
     ]
    },
    {
     "ename": "KeyError",
     "evalue": "'fileTimeSecs'",
     "output_type": "error",
     "traceback": [
      "\u001b[0;31m---------------------------------------------------------------------------\u001b[0m",
      "\u001b[0;31mKeyError\u001b[0m                                  Traceback (most recent call last)",
      "\u001b[0;32m<ipython-input-79-a062095dd767>\u001b[0m in \u001b[0;36m<module>\u001b[0;34m\u001b[0m\n\u001b[0;32m----> 1\u001b[0;31m \u001b[0mfloat\u001b[0m\u001b[0;34m(\u001b[0m\u001b[0msglx_utils\u001b[0m\u001b[0;34m.\u001b[0m\u001b[0mget_meta\u001b[0m\u001b[0;34m(\u001b[0m\u001b[0mcat_binpaths\u001b[0m\u001b[0;34m[\u001b[0m\u001b[0;36m0\u001b[0m\u001b[0;34m]\u001b[0m\u001b[0;34m)\u001b[0m\u001b[0;34m[\u001b[0m\u001b[0;34m'fileTimeSecs'\u001b[0m\u001b[0;34m]\u001b[0m\u001b[0;34m)\u001b[0m\u001b[0;34m\u001b[0m\u001b[0;34m\u001b[0m\u001b[0m\n\u001b[0m",
      "\u001b[0;31mKeyError\u001b[0m: 'fileTimeSecs'"
     ]
    }
   ],
   "source": [
    "float(sglx_utils.get_meta(cat_binpaths[0])['fileTimeSecs'])"
   ]
  },
  {
   "cell_type": "code",
   "execution_count": 80,
   "metadata": {},
   "outputs": [
    {
     "data": {
      "text/plain": [
       "12489.66070637746"
      ]
     },
     "execution_count": 80,
     "metadata": {},
     "output_type": "execute_result"
    }
   ],
   "source": [
    "sum([float(sglx_utils.get_meta(path)['fileTimeSecs']) for path in raw_binpaths])"
   ]
  },
  {
   "cell_type": "code",
   "execution_count": 71,
   "metadata": {},
   "outputs": [],
   "source": [
    "subj='Giuseppe'\n",
    "cond = '12-27-2020_g1_imec1'\n",
    "stim_paths = [\n",
    "#     '/Volumes/neuropixel_analysis/Data/tom/catgt/CNPIX11-Adrian/9-1-2021_imec0/stim_times_t0.csv',\n",
    "#     '/Volumes/neuropixel_analysis/Data/tom/catgt/CNPIX11-Adrian/9-1-2021_imec0/stim_times_t1.csv',\n",
    "]\n",
    "\n",
    "raw_binpaths = paths.get_sglx_style_datapaths(\n",
    "    subj, cond, 'ap.bin', catgt_data=False, root_key='raw_chronic'\n",
    ")\n",
    "cat_binpaths = paths.get_sglx_style_datapaths(\n",
    "    subj, cond, 'ap.bin', catgt_data=True, root_key='catgt'\n",
    ")\n",
    "assert len(cat_binpaths) == 1\n",
    "assert cat_binpaths[0].exists()"
   ]
  },
  {
   "cell_type": "code",
   "execution_count": 72,
   "metadata": {},
   "outputs": [
    {
     "data": {
      "text/plain": [
       "[PosixPath('/Volumes/scratch/neuropixels/data/tom/catgt/CNPIX7-Giuseppe/12-27-2020_g1_imec1/12-27-2020/catgt_12-27-2020_Stim1-3_g1/12-27-2020_Stim1-3_g1_imec1/12-27-2020_Stim1-3_g1_tcat.imec1.ap.bin')]"
      ]
     },
     "execution_count": 72,
     "metadata": {},
     "output_type": "execute_result"
    }
   ],
   "source": [
    "cat_binpaths"
   ]
  },
  {
   "cell_type": "code",
   "execution_count": 73,
   "metadata": {},
   "outputs": [
    {
     "data": {
      "text/plain": [
       "PosixPath('/Volumes/scratch/neuropixels/data/tom/catgt/CNPIX7-Giuseppe/12-27-2020_g1_imec1/12-27-2020/catgt_12-27-2020_Stim1-3_g1/12-27-2020_Stim1-3_g1_imec1/12-27-2020_Stim1-3_g1_tcat.imec1.ap.bin')"
      ]
     },
     "execution_count": 73,
     "metadata": {},
     "output_type": "execute_result"
    }
   ],
   "source": [
    "cat_binpaths[0]"
   ]
  },
  {
   "cell_type": "code",
   "execution_count": 74,
   "metadata": {},
   "outputs": [
    {
     "data": {
      "text/plain": [
       "7591.385996116273"
      ]
     },
     "execution_count": 74,
     "metadata": {},
     "output_type": "execute_result"
    }
   ],
   "source": [
    "float(sglx_utils.get_meta(cat_binpaths[0])['fileTimeSecs'])"
   ]
  },
  {
   "cell_type": "code",
   "execution_count": 76,
   "metadata": {},
   "outputs": [
    {
     "data": {
      "text/plain": [
       "7591.3860294496035"
      ]
     },
     "execution_count": 76,
     "metadata": {},
     "output_type": "execute_result"
    }
   ],
   "source": [
    "sum([float(sglx_utils.get_meta(path)['fileTimeSecs']) for path in raw_binpaths])"
   ]
  },
  {
   "cell_type": "markdown",
   "metadata": {},
   "source": [
    "# Stim_times.txt"
   ]
  },
  {
   "cell_type": "code",
   "execution_count": null,
   "metadata": {},
   "outputs": [],
   "source": [
    "### Allan"
   ]
  },
  {
   "cell_type": "code",
   "execution_count": null,
   "metadata": {},
   "outputs": [],
   "source": [
    "# simple conditions"
   ]
  },
  {
   "cell_type": "code",
   "execution_count": null,
   "metadata": {},
   "outputs": [],
   "source": [
    "conditions =  [\n",
    "#     '3-5-2021_g0_imec0',\n",
    "#     '3-5-2021_g0_imec1',\n",
    "    '3-5-2021_g2_imec0',\n",
    "    '3-5-2021_g2_imec1',\n",
    "    '3-5-2021_g3_imec0',\n",
    "    '3-5-2021_g3_imec1',\n",
    "#     '3-5-2021_g4_imec0',\n",
    "#     '3-5-2021_g4_imec1',\n",
    "#     '3-5-2021_g5_imec0',\n",
    "#     '3-5-2021_g5_imec1',\n",
    "#     '3-5-2021_g6_imec0',\n",
    "#     '3-5-2021_g6_imec1',\n",
    "]\n",
    "print(conditions)\n"
   ]
  },
  {
   "cell_type": "code",
   "execution_count": null,
   "metadata": {},
   "outputs": [],
   "source": [
    "for cond in conditions:\n",
    "    path = paths.get_datapath('Allan', cond, 'dummy')\n",
    "    print(path.parent)\n",
    "    path.parent.mkdir()"
   ]
  },
  {
   "cell_type": "code",
   "execution_count": null,
   "metadata": {},
   "outputs": [],
   "source": [
    "# Combined"
   ]
  },
  {
   "cell_type": "code",
   "execution_count": null,
   "metadata": {},
   "outputs": [],
   "source": [
    "combined_cond = '3-5-2021_g2-3_imec1'\n",
    "conditions =  paths.load_datapath_yaml()['Allan'][combined_cond]\n",
    "print(conditions)\n"
   ]
  },
  {
   "cell_type": "code",
   "execution_count": null,
   "metadata": {},
   "outputs": [],
   "source": [
    "dfs = []\n",
    "start_time = 0\n",
    "for cond in conditions:\n",
    "    print(cond, 'start time', start_time)\n",
    "    path = paths.get_datapath('Allan', cond, 'stim_times.csv')\n",
    "    df = pd.read_csv(path)\n",
    "    df['sglx_stim_time'] = df['sglx_stim_time'] + start_time\n",
    "    dfs.append(df)\n",
    "    binpaths = paths.get_sglx_style_datapaths('Allan', cond, 'ap.bin', catgt_data=True)\n",
    "    assert len(binpaths) == 1\n",
    "    start_time += float(sglx_utils.get_meta(binpaths[0])['fileTimeSecs'])\n",
    "df_combined = pd.concat(dfs)\n",
    "    \n",
    "#     end_time \n",
    "#     df\n",
    "#     print(path.exists())\n",
    "#     print(path)\n",
    "    "
   ]
  },
  {
   "cell_type": "code",
   "execution_count": null,
   "metadata": {},
   "outputs": [],
   "source": [
    "save_path = paths.get_datapath('Allan', combined_cond, 'stim_times.csv')\n",
    "save_path"
   ]
  },
  {
   "cell_type": "code",
   "execution_count": null,
   "metadata": {},
   "outputs": [],
   "source": [
    "df_combined.to_csv(save_path, index=False)"
   ]
  },
  {
   "cell_type": "code",
   "execution_count": null,
   "metadata": {},
   "outputs": [],
   "source": [
    "### EUGENE"
   ]
  },
  {
   "cell_type": "code",
   "execution_count": null,
   "metadata": {},
   "outputs": [],
   "source": [
    "eugene = pd.read_excel('Eugene.xlsx', engine='openpyxl')"
   ]
  },
  {
   "cell_type": "code",
   "execution_count": null,
   "metadata": {},
   "outputs": [],
   "source": [
    "eugene.columns"
   ]
  },
  {
   "cell_type": "code",
   "execution_count": null,
   "metadata": {},
   "outputs": [],
   "source": [
    "eugene.columns = 'datapath', 'state', 'depth', 'stimpath', 'N_trials', 'trials_reordered_BL'"
   ]
  },
  {
   "cell_type": "code",
   "execution_count": null,
   "metadata": {},
   "outputs": [],
   "source": [
    "eugene['datapath'][0:1].values"
   ]
  },
  {
   "cell_type": "code",
   "execution_count": null,
   "metadata": {},
   "outputs": [],
   "source": [
    "conditions = paths.get_conditions('Eugene', 'eStim')"
   ]
  },
  {
   "cell_type": "code",
   "execution_count": null,
   "metadata": {},
   "outputs": [],
   "source": [
    "eugene[0:10]"
   ]
  },
  {
   "cell_type": "code",
   "execution_count": null,
   "metadata": {},
   "outputs": [],
   "source": [
    "# add condition dir to run path\n",
    "\n",
    "for cond in conditions: \n",
    "    pathname = paths.get_sglx_style_datapaths('Eugene', cond, 'ap.bin')[0]\n",
    "    rundir = pathname.parents[1]\n",
    "    run = rundir.name\n",
    "    for i, row in eugene.iterrows():\n",
    "        path = row['datapath']\n",
    "        assert rundir not in eugene.columns or eugene.iloc[i, 'rundir'] is None \n",
    "        if run in path:\n",
    "            eugene.loc[i, 'rundir'] = rundir\n",
    "            eugene.loc[i, 'condition'] = cond.split('_imec')[0]"
   ]
  },
  {
   "cell_type": "code",
   "execution_count": null,
   "metadata": {},
   "outputs": [],
   "source": [
    "eugene['condition']"
   ]
  },
  {
   "cell_type": "code",
   "execution_count": null,
   "metadata": {},
   "outputs": [],
   "source": [
    "import numpy as np\n",
    "\n",
    "# for i, row in eugene.iterrows():\n",
    "for cond in conditions:\n",
    "    for i, row in eugene.iterrows():\n",
    "        if row['condition'] not in cond:\n",
    "            continue\n",
    "        stimpath = row['stimpath'].split('CNPIX6-Eugene')[1].replace('\\\\', '/').replace(\"'\", '')\n",
    "\n",
    "        stimpath = Path('/Volumes/neuropixel/Data/CNPIX6-Eugene' + stimpath)\n",
    "    #     print(stimpath, stimpath.exists())\n",
    "\n",
    "        stim_times = pd.read_csv(stimpath, header=None)\n",
    "\n",
    "        df = pd.DataFrame({'sglx_stim_time': np.concatenate(stim_times.values), 'stim_state': row['state']})\n",
    "        print(df[0:5])\n",
    "\n",
    "    #     dfpath = path.get_filename()\n",
    "        df_path = paths.get_datapath('Eugene', cond, 'stim_times.csv')\n",
    "        print(df_path)\n",
    "\n",
    "        df.to_csv(df_path, index=False)\n",
    "\n",
    "    #     if i > 3:\n",
    "    #         break\n",
    "    #     stimtimes = "
   ]
  },
  {
   "cell_type": "code",
   "execution_count": null,
   "metadata": {},
   "outputs": [],
   "source": [
    "### Alessandro"
   ]
  },
  {
   "cell_type": "code",
   "execution_count": null,
   "metadata": {},
   "outputs": [],
   "source": [
    "aless = pd.read_excel('Alessandro stim location.xlsx', engine='openpyxl')"
   ]
  },
  {
   "cell_type": "code",
   "execution_count": null,
   "metadata": {},
   "outputs": [],
   "source": [
    "aless.columns"
   ]
  },
  {
   "cell_type": "code",
   "execution_count": null,
   "metadata": {},
   "outputs": [],
   "source": [
    "aless.columns = 'datapath', 'state', 'depth', 'stimpath', 'N_trials', 'trials_reordered_BL'"
   ]
  },
  {
   "cell_type": "code",
   "execution_count": null,
   "metadata": {},
   "outputs": [],
   "source": [
    "aless['datapath'][0:1].values"
   ]
  },
  {
   "cell_type": "code",
   "execution_count": null,
   "metadata": {},
   "outputs": [],
   "source": [
    "conditions = paths.get_conditions('Alessandro', 'eStim')"
   ]
  },
  {
   "cell_type": "code",
   "execution_count": null,
   "metadata": {},
   "outputs": [],
   "source": [
    "aless[0:10]"
   ]
  },
  {
   "cell_type": "code",
   "execution_count": null,
   "metadata": {},
   "outputs": [],
   "source": [
    "# add condition dir to run path\n",
    "\n",
    "for cond in conditions: \n",
    "    pathname = paths.get_sglx_style_datapaths('Alessandro', cond, 'ap.bin')[0]\n",
    "    rundir = pathname.parents[1]\n",
    "    run = rundir.name\n",
    "    for i, row in aless.iterrows():\n",
    "        path = row['datapath']\n",
    "        assert rundir not in aless.columns or aless.iloc[i, 'rundir'] is None \n",
    "        if run in path:\n",
    "            aless.loc[i, 'rundir'] = rundir\n",
    "            aless.loc[i, 'condition'] = cond"
   ]
  },
  {
   "cell_type": "code",
   "execution_count": null,
   "metadata": {},
   "outputs": [],
   "source": [
    "aless"
   ]
  },
  {
   "cell_type": "code",
   "execution_count": null,
   "metadata": {},
   "outputs": [],
   "source": [
    "aless['condition']"
   ]
  },
  {
   "cell_type": "code",
   "execution_count": null,
   "metadata": {},
   "outputs": [],
   "source": [
    "aless['rundir'][0]"
   ]
  },
  {
   "cell_type": "code",
   "execution_count": null,
   "metadata": {},
   "outputs": [],
   "source": [
    "aless['stimpath'][0]"
   ]
  },
  {
   "cell_type": "code",
   "execution_count": null,
   "metadata": {},
   "outputs": [],
   "source": [
    "import numpy as np\n",
    "\n",
    "# for i, row in eugene.iterrows():\n",
    "for cond in conditions:\n",
    "    for i, row in aless.iterrows():\n",
    "        if row['condition'] not in cond:\n",
    "            continue\n",
    "        stimpath = row['stimpath'].split('CNPIX5-Alessandro')[1].replace('\\\\', '/').replace(\"'\", '')\n",
    "\n",
    "        stimpath = Path('/Volumes/neuropixel/Data/CNPIX5-Alessandro' + stimpath)\n",
    "        print(stimpath, stimpath.exists())\n",
    "\n",
    "        stim_times = pd.read_csv(stimpath, header=None)\n",
    "\n",
    "        df = pd.DataFrame({'sglx_stim_time': np.concatenate(stim_times.values), 'stim_state': row['state']})\n",
    "        print(df[0:5])\n",
    "\n",
    "    #     dfpath = path.get_filename()\n",
    "        df_path = paths.get_datapath('Alessandro', cond, 'stim_times.csv')\n",
    "        print(df_path)\n",
    "\n",
    "        df_path.parent.mkdir()\n",
    "        df.to_csv(df_path, index=False)\n",
    "\n",
    "    #     if i > 3:\n",
    "    #         break\n",
    "    #     stimtimes = "
   ]
  },
  {
   "cell_type": "code",
   "execution_count": null,
   "metadata": {},
   "outputs": [],
   "source": [
    "# Giuseppe Combined"
   ]
  },
  {
   "cell_type": "code",
   "execution_count": null,
   "metadata": {},
   "outputs": [],
   "source": [
    "combined_cond = '8-31-2020_REMmerged_imec0'\n",
    "conditions =  paths.load_datapath_yaml()['Alessandro'][combined_cond]\n",
    "# conds = paths.get_sglx_style_datapaths('Giuseppe', '12-27-2020_Wake_NREM_REM_depth1.5_imec0', 'dummy')\n",
    "print(conditions)"
   ]
  },
  {
   "cell_type": "code",
   "execution_count": null,
   "metadata": {},
   "outputs": [],
   "source": [
    "# dfs = []\n",
    "# start_time = 0\n",
    "# for cond in conditions:\n",
    "#     path = (paths.get_datapath('Alessandro', cond, 'stim_times.csv'))\n",
    "#     df = pd.read_csv(path)\n",
    "#     df['sglx_stim_time'] = df['sglx_stim_time'] + start_time\n",
    "#     dfs.append(df)\n",
    "# #     binpaths = paths.get_sglx_style_datapaths('Giuseppe', cond, 'ap.bin', catgt_data=True)\n",
    "#     assert len(binpaths) == 1\n",
    "#     start_time = float(sglx_utils.get_meta(binpaths[0])['fileTimeSecs'])\n",
    "# df_combined = pd.concat(dfs)\n",
    "# df_combined\n",
    "    \n",
    "# #     end_time \n",
    "# #     df\n",
    "# #     print(path.exists())\n",
    "# #     print(path)\n",
    "    "
   ]
  },
  {
   "cell_type": "code",
   "execution_count": null,
   "metadata": {},
   "outputs": [],
   "source": [
    "# Giuseppe"
   ]
  },
  {
   "cell_type": "code",
   "execution_count": null,
   "metadata": {},
   "outputs": [],
   "source": [
    "# Combined"
   ]
  },
  {
   "cell_type": "code",
   "execution_count": 82,
   "metadata": {},
   "outputs": [
    {
     "name": "stdout",
     "output_type": "stream",
     "text": [
      "['12-27-2020_g0_imec1', '12-27-2020_g1_imec1']\n"
     ]
    }
   ],
   "source": [
    "# combined_cond = '12-27-2020_Wake_NREM_REM_depth1.5_imec0'\n",
    "combined_cond = '12-27-2020_imec1'\n",
    "conditions =  paths.load_datapath_yaml()['Giuseppe'][combined_cond]\n",
    "# conds = paths.get_sglx_style_datapaths('Giuseppe', '12-27-2020_Wake_NREM_REM_depth1.5_imec0', 'dummy')\n",
    "# conds\n",
    "print(conditions)"
   ]
  },
  {
   "cell_type": "code",
   "execution_count": 85,
   "metadata": {},
   "outputs": [
    {
     "name": "stdout",
     "output_type": "stream",
     "text": [
      "/Volumes/neuropixel_analysis/Data/tom/catgt/CNPIX7-Giuseppe/12-27-2020_g0_imec1/stim_times.csv\n",
      "   sglx_stim_time stim_state\n",
      "0      148.802219          N\n",
      "1      168.802028          N\n",
      "2      178.802178          N\n",
      "3      188.802329          N\n",
      "4      268.802548          N 245 0\n",
      "/Volumes/neuropixel_analysis/Data/tom/catgt/CNPIX7-Giuseppe/12-27-2020_g1_imec1/stim_times.csv\n",
      "   sglx_stim_time stim_state\n",
      "0      107.070523          W\n",
      "1      117.070347          W\n",
      "2      137.070651          W\n",
      "3      147.070476          W\n",
      "4      157.070628          W 55 7061.4953452484615\n"
     ]
    }
   ],
   "source": [
    "dfs = []\n",
    "start_time = 0\n",
    "for cond in conditions:\n",
    "#     path = (paths.get_sglx_style_datapaths('Giuseppe', cond, 'dummy', catgt_data=False, root_key='eStim')[0].parents[1])/'stim_times.csv'\n",
    "    path = paths.get_datapath('Giuseppe', cond, 'stim_times.csv', root_key='eStim')\n",
    "    print(path)\n",
    "    df = pd.read_csv(path)\n",
    "    df.columns = [\n",
    "        c.replace('stim_times', 'sglx_stim_time').replace('state', 'stim_state')\n",
    "        for c in df.columns\n",
    "    ]\n",
    "    print(df[0:5], len(df), start_time)\n",
    "    df['sglx_stim_time'] = df['sglx_stim_time'] + start_time\n",
    "    dfs.append(df)\n",
    "    binpaths = paths.get_sglx_style_datapaths('Giuseppe', cond, 'ap.bin', catgt_data=True)\n",
    "    assert len(binpaths) == 1\n",
    "    start_time += float(sglx_utils.get_meta(binpaths[0])['fileTimeSecs'])\n",
    "df_combined = pd.concat(dfs)\n",
    "    \n",
    "#     end_time \n",
    "#     df\n",
    "#     print(path.exists())\n",
    "#     print(path)\n",
    "    "
   ]
  },
  {
   "cell_type": "code",
   "execution_count": 87,
   "metadata": {},
   "outputs": [
    {
     "data": {
      "text/plain": [
       "PosixPath('/Volumes/neuropixel_analysis/Data/tom/catgt/CNPIX7-Giuseppe/12-27-2020_imec1/stim_times.csv')"
      ]
     },
     "execution_count": 87,
     "metadata": {},
     "output_type": "execute_result"
    }
   ],
   "source": [
    "save_path = paths.get_datapath('Giuseppe', combined_cond, 'stim_times.csv', root_key='eStim')\n",
    "save_path"
   ]
  },
  {
   "cell_type": "code",
   "execution_count": 88,
   "metadata": {},
   "outputs": [],
   "source": [
    "df_combined.to_csv(save_path, index=False)"
   ]
  },
  {
   "cell_type": "code",
   "execution_count": null,
   "metadata": {},
   "outputs": [],
   "source": [
    "# Adrian. concatenate t0 and t1"
   ]
  },
  {
   "cell_type": "code",
   "execution_count": 16,
   "metadata": {},
   "outputs": [],
   "source": [
    "cond = '9-1-2021_imec0'\n",
    "stim_paths = [\n",
    "    '/Volumes/neuropixel_analysis/Data/tom/catgt/CNPIX11-Adrian/9-1-2021_imec0/stim_times_t0.csv',\n",
    "    '/Volumes/neuropixel_analysis/Data/tom/catgt/CNPIX11-Adrian/9-1-2021_imec0/stim_times_t1.csv',\n",
    "]"
   ]
  },
  {
   "cell_type": "code",
   "execution_count": 17,
   "metadata": {},
   "outputs": [],
   "source": [
    "bin_paths = paths.get_sglx_style_datapaths('Adrian', cond, 'ap.bin', catgt_data=False, root_key='raw_chronic')"
   ]
  },
  {
   "cell_type": "code",
   "execution_count": 18,
   "metadata": {},
   "outputs": [
    {
     "data": {
      "text/plain": [
       "[PosixPath('/Volumes/neuropixel_archive/Data/chronic/CNPIX11-Adrian/9-1-2021/9-1-2021_g0/9-1-2021_g0_imec0/9-1-2021_g0_t0.imec0.ap.bin'),\n",
       " PosixPath('/Volumes/neuropixel_archive/Data/chronic/CNPIX11-Adrian/9-1-2021/9-1-2021_g0/9-1-2021_g0_imec0/9-1-2021_g0_t1.imec0.ap.bin')]"
      ]
     },
     "execution_count": 18,
     "metadata": {},
     "output_type": "execute_result"
    }
   ],
   "source": [
    "bin_paths"
   ]
  },
  {
   "cell_type": "code",
   "execution_count": 36,
   "metadata": {},
   "outputs": [
    {
     "name": "stdout",
     "output_type": "stream",
     "text": [
      "189 0\n",
      "123 7199.999991386681\n"
     ]
    }
   ],
   "source": [
    "assert len(bin_paths) == len(stim_paths)\n",
    "\n",
    "dfs = []\n",
    "start_time = 0\n",
    "for i in range(len(bin_paths)):\n",
    "    stim_path = stim_paths[i]\n",
    "    bin_path = bin_paths[i]\n",
    "    df = pd.read_csv(stim_path)\n",
    "    print(len(df), start_time)\n",
    "    df['sglx_stim_time'] = df['sglx_stim_time'] + start_time\n",
    "    dfs.append(df)\n",
    "    start_time += float(sglx_utils.get_meta(bin_path)['fileTimeSecs'])\n",
    "df_combined = pd.concat(dfs)\n",
    "    \n",
    "#     end_time \n",
    "#     df\n",
    "#     print(path.exists())\n",
    "#     print(path)\n",
    "    "
   ]
  },
  {
   "cell_type": "code",
   "execution_count": 37,
   "metadata": {},
   "outputs": [
    {
     "data": {
      "text/html": [
       "<div>\n",
       "<style scoped>\n",
       "    .dataframe tbody tr th:only-of-type {\n",
       "        vertical-align: middle;\n",
       "    }\n",
       "\n",
       "    .dataframe tbody tr th {\n",
       "        vertical-align: top;\n",
       "    }\n",
       "\n",
       "    .dataframe thead th {\n",
       "        text-align: right;\n",
       "    }\n",
       "</style>\n",
       "<table border=\"1\" class=\"dataframe\">\n",
       "  <thead>\n",
       "    <tr style=\"text-align: right;\">\n",
       "      <th></th>\n",
       "      <th>sglx_stim_time</th>\n",
       "      <th>stim_state</th>\n",
       "    </tr>\n",
       "  </thead>\n",
       "  <tbody>\n",
       "    <tr>\n",
       "      <th>0</th>\n",
       "      <td>307.655850</td>\n",
       "      <td>Wake</td>\n",
       "    </tr>\n",
       "    <tr>\n",
       "      <th>1</th>\n",
       "      <td>347.758797</td>\n",
       "      <td>Wake</td>\n",
       "    </tr>\n",
       "    <tr>\n",
       "      <th>2</th>\n",
       "      <td>386.195826</td>\n",
       "      <td>Wake</td>\n",
       "    </tr>\n",
       "    <tr>\n",
       "      <th>3</th>\n",
       "      <td>421.839067</td>\n",
       "      <td>Wake</td>\n",
       "    </tr>\n",
       "    <tr>\n",
       "      <th>4</th>\n",
       "      <td>431.618963</td>\n",
       "      <td>Wake</td>\n",
       "    </tr>\n",
       "    <tr>\n",
       "      <th>...</th>\n",
       "      <td>...</td>\n",
       "      <td>...</td>\n",
       "    </tr>\n",
       "    <tr>\n",
       "      <th>118</th>\n",
       "      <td>8653.017945</td>\n",
       "      <td>REM</td>\n",
       "    </tr>\n",
       "    <tr>\n",
       "      <th>119</th>\n",
       "      <td>8660.849464</td>\n",
       "      <td>REM</td>\n",
       "    </tr>\n",
       "    <tr>\n",
       "      <th>120</th>\n",
       "      <td>8666.955755</td>\n",
       "      <td>REM</td>\n",
       "    </tr>\n",
       "    <tr>\n",
       "      <th>121</th>\n",
       "      <td>8674.849860</td>\n",
       "      <td>REM</td>\n",
       "    </tr>\n",
       "    <tr>\n",
       "      <th>122</th>\n",
       "      <td>8852.372042</td>\n",
       "      <td>REM</td>\n",
       "    </tr>\n",
       "  </tbody>\n",
       "</table>\n",
       "<p>312 rows × 2 columns</p>\n",
       "</div>"
      ],
      "text/plain": [
       "     sglx_stim_time stim_state\n",
       "0        307.655850       Wake\n",
       "1        347.758797       Wake\n",
       "2        386.195826       Wake\n",
       "3        421.839067       Wake\n",
       "4        431.618963       Wake\n",
       "..              ...        ...\n",
       "118     8653.017945        REM\n",
       "119     8660.849464        REM\n",
       "120     8666.955755        REM\n",
       "121     8674.849860        REM\n",
       "122     8852.372042        REM\n",
       "\n",
       "[312 rows x 2 columns]"
      ]
     },
     "execution_count": 37,
     "metadata": {},
     "output_type": "execute_result"
    }
   ],
   "source": [
    "df_combined"
   ]
  },
  {
   "cell_type": "code",
   "execution_count": 33,
   "metadata": {},
   "outputs": [
    {
     "data": {
      "text/plain": [
       "PosixPath('/Volumes/neuropixel_analysis/Data/tom/catgt/CNPIX11-Adrian/9-1-2021_imec0/stim_times.csv')"
      ]
     },
     "execution_count": 33,
     "metadata": {},
     "output_type": "execute_result"
    }
   ],
   "source": [
    "save_path = paths.get_datapath('Adrian', cond, 'stim_times.csv', root_key='eStim')\n",
    "save_path"
   ]
  },
  {
   "cell_type": "code",
   "execution_count": 38,
   "metadata": {},
   "outputs": [],
   "source": [
    "df_combined.to_csv(save_path, index=False)"
   ]
  },
  {
   "cell_type": "code",
   "execution_count": null,
   "metadata": {},
   "outputs": [],
   "source": [
    "# Charles. concatenate g3-6"
   ]
  },
  {
   "cell_type": "code",
   "execution_count": 112,
   "metadata": {},
   "outputs": [],
   "source": [
    "cond = '7-14-2021_imec1'\n",
    "stim_paths = [\n",
    "    '/Volumes/neuropixel_analysis/Data/tom/catgt/CNPIX10-Charles/7-14-2021_imec1/stim_times_g3-g6_tom-g3.csv',\n",
    "    '/Volumes/neuropixel_analysis/Data/tom/catgt/CNPIX10-Charles/7-14-2021_imec1/stim_times_g3-g6_tom-g4.csv',\n",
    "    '/Volumes/neuropixel_analysis/Data/tom/catgt/CNPIX10-Charles/7-14-2021_imec1/stim_times_g3-g6_tom-g5.csv',\n",
    "    '/Volumes/neuropixel_analysis/Data/tom/catgt/CNPIX10-Charles/7-14-2021_imec1/stim_times_g3-g6_tom-g6.csv',\n",
    "]"
   ]
  },
  {
   "cell_type": "code",
   "execution_count": 113,
   "metadata": {},
   "outputs": [],
   "source": [
    "bin_paths = paths.get_sglx_style_datapaths('Charles', cond, 'ap.bin', catgt_data=False, root_key='raw_chronic')"
   ]
  },
  {
   "cell_type": "code",
   "execution_count": 114,
   "metadata": {},
   "outputs": [
    {
     "data": {
      "text/plain": [
       "[PosixPath('/Volumes/neuropixel_archive/Data/chronic/CNPIX10-Charles/7-14-2021/7-14-2021_g3/7-14-2021_g3_imec1/7-14-2021_g3_t0.imec1.ap.bin'),\n",
       " PosixPath('/Volumes/neuropixel_archive/Data/chronic/CNPIX10-Charles/7-14-2021/7-14-2021_g4/7-14-2021_g4_imec1/7-14-2021_g4_t0.imec1.ap.bin'),\n",
       " PosixPath('/Volumes/neuropixel_archive/Data/chronic/CNPIX10-Charles/7-14-2021/7-14-2021_g5/7-14-2021_g5_imec1/7-14-2021_g5_t0.imec1.ap.bin'),\n",
       " PosixPath('/Volumes/neuropixel_archive/Data/chronic/CNPIX10-Charles/7-14-2021/7-14-2021_g6/7-14-2021_g6_imec1/7-14-2021_g6_t0.imec1.ap.bin')]"
      ]
     },
     "execution_count": 114,
     "metadata": {},
     "output_type": "execute_result"
    }
   ],
   "source": [
    "bin_paths"
   ]
  },
  {
   "cell_type": "code",
   "execution_count": 115,
   "metadata": {},
   "outputs": [
    {
     "name": "stdout",
     "output_type": "stream",
     "text": [
      "   sglx_stim_time stim_state\n",
      "0      310.940164        NaN\n",
      "1      334.794684        NaN\n",
      "2      350.823416        NaN\n",
      "3      360.159311        NaN\n",
      "4      394.689112        NaN 110 0\n",
      "   sglx_stim_time stim_state\n",
      "0      840.716945        NaN\n",
      "1      958.103109        NaN\n",
      "2      970.105982          N\n",
      "3     2448.412639          R\n",
      "4     4434.221274          N 154 5124.036964092644\n",
      "   sglx_stim_time stim_state\n",
      "0     1076.725529        NaN\n",
      "1     1079.646131          R\n",
      "2     1082.739418        NaN\n",
      "3     1189.230765          R\n",
      "4     1196.988560          R 45 12295.780870408336\n",
      "   sglx_stim_time stim_state\n",
      "0     1142.288360        NaN\n",
      "1     1148.288159          S\n",
      "2     1154.288285          S\n",
      "3     1160.288084          S\n",
      "4     1166.288211          S 100 14561.997573430126\n"
     ]
    }
   ],
   "source": [
    "assert len(bin_paths) == len(stim_paths)\n",
    "\n",
    "dfs = []\n",
    "start_time = 0\n",
    "for i in range(len(bin_paths)):\n",
    "    stim_path = stim_paths[i]\n",
    "    bin_path = bin_paths[i]\n",
    "    df = pd.read_csv(stim_path)\n",
    "    df.columns = [\n",
    "        c.replace('stim_times', 'sglx_stim_time').replace('state', 'stim_state')\n",
    "        for c in df.columns\n",
    "    ]\n",
    "    \n",
    "    print(df[0:5], len(df), start_time)\n",
    "    df['sglx_stim_time'] = df['sglx_stim_time'] + start_time\n",
    "    dfs.append(df)\n",
    "    start_time = start_time + float(sglx_utils.get_meta(bin_path)['fileTimeSecs'])\n",
    "df_combined = pd.concat(dfs)\n",
    "    \n",
    "#     end_time \n",
    "#     df\n",
    "#     print(path.exists())\n",
    "#     print(path)\n",
    "    "
   ]
  },
  {
   "cell_type": "code",
   "execution_count": 116,
   "metadata": {},
   "outputs": [
    {
     "data": {
      "text/plain": [
       "1823.817023930207"
      ]
     },
     "execution_count": 116,
     "metadata": {},
     "output_type": "execute_result"
    }
   ],
   "source": [
    "float(sglx_utils.get_meta(bin_path)['fileTimeSecs'])"
   ]
  },
  {
   "cell_type": "code",
   "execution_count": 117,
   "metadata": {},
   "outputs": [
    {
     "data": {
      "text/html": [
       "<div>\n",
       "<style scoped>\n",
       "    .dataframe tbody tr th:only-of-type {\n",
       "        vertical-align: middle;\n",
       "    }\n",
       "\n",
       "    .dataframe tbody tr th {\n",
       "        vertical-align: top;\n",
       "    }\n",
       "\n",
       "    .dataframe thead th {\n",
       "        text-align: right;\n",
       "    }\n",
       "</style>\n",
       "<table border=\"1\" class=\"dataframe\">\n",
       "  <thead>\n",
       "    <tr style=\"text-align: right;\">\n",
       "      <th></th>\n",
       "      <th>sglx_stim_time</th>\n",
       "      <th>stim_state</th>\n",
       "    </tr>\n",
       "  </thead>\n",
       "  <tbody>\n",
       "    <tr>\n",
       "      <th>0</th>\n",
       "      <td>310.940164</td>\n",
       "      <td>NaN</td>\n",
       "    </tr>\n",
       "    <tr>\n",
       "      <th>1</th>\n",
       "      <td>334.794684</td>\n",
       "      <td>NaN</td>\n",
       "    </tr>\n",
       "    <tr>\n",
       "      <th>2</th>\n",
       "      <td>350.823416</td>\n",
       "      <td>NaN</td>\n",
       "    </tr>\n",
       "    <tr>\n",
       "      <th>3</th>\n",
       "      <td>360.159311</td>\n",
       "      <td>NaN</td>\n",
       "    </tr>\n",
       "    <tr>\n",
       "      <th>4</th>\n",
       "      <td>394.689112</td>\n",
       "      <td>NaN</td>\n",
       "    </tr>\n",
       "    <tr>\n",
       "      <th>...</th>\n",
       "      <td>...</td>\n",
       "      <td>...</td>\n",
       "    </tr>\n",
       "    <tr>\n",
       "      <th>95</th>\n",
       "      <td>16274.282221</td>\n",
       "      <td>S</td>\n",
       "    </tr>\n",
       "    <tr>\n",
       "      <th>96</th>\n",
       "      <td>16280.282347</td>\n",
       "      <td>S</td>\n",
       "    </tr>\n",
       "    <tr>\n",
       "      <th>97</th>\n",
       "      <td>16286.282146</td>\n",
       "      <td>S</td>\n",
       "    </tr>\n",
       "    <tr>\n",
       "      <th>98</th>\n",
       "      <td>16292.282272</td>\n",
       "      <td>S</td>\n",
       "    </tr>\n",
       "    <tr>\n",
       "      <th>99</th>\n",
       "      <td>16298.282071</td>\n",
       "      <td>S</td>\n",
       "    </tr>\n",
       "  </tbody>\n",
       "</table>\n",
       "<p>409 rows × 2 columns</p>\n",
       "</div>"
      ],
      "text/plain": [
       "    sglx_stim_time stim_state\n",
       "0       310.940164        NaN\n",
       "1       334.794684        NaN\n",
       "2       350.823416        NaN\n",
       "3       360.159311        NaN\n",
       "4       394.689112        NaN\n",
       "..             ...        ...\n",
       "95    16274.282221          S\n",
       "96    16280.282347          S\n",
       "97    16286.282146          S\n",
       "98    16292.282272          S\n",
       "99    16298.282071          S\n",
       "\n",
       "[409 rows x 2 columns]"
      ]
     },
     "execution_count": 117,
     "metadata": {},
     "output_type": "execute_result"
    }
   ],
   "source": [
    "df_combined"
   ]
  },
  {
   "cell_type": "code",
   "execution_count": 118,
   "metadata": {},
   "outputs": [
    {
     "data": {
      "text/html": [
       "<div>\n",
       "<style scoped>\n",
       "    .dataframe tbody tr th:only-of-type {\n",
       "        vertical-align: middle;\n",
       "    }\n",
       "\n",
       "    .dataframe tbody tr th {\n",
       "        vertical-align: top;\n",
       "    }\n",
       "\n",
       "    .dataframe thead th {\n",
       "        text-align: right;\n",
       "    }\n",
       "</style>\n",
       "<table border=\"1\" class=\"dataframe\">\n",
       "  <thead>\n",
       "    <tr style=\"text-align: right;\">\n",
       "      <th></th>\n",
       "      <th>sglx_stim_time</th>\n",
       "    </tr>\n",
       "    <tr>\n",
       "      <th>stim_state</th>\n",
       "      <th></th>\n",
       "    </tr>\n",
       "  </thead>\n",
       "  <tbody>\n",
       "    <tr>\n",
       "      <th>N</th>\n",
       "      <td>83</td>\n",
       "    </tr>\n",
       "    <tr>\n",
       "      <th>R</th>\n",
       "      <td>104</td>\n",
       "    </tr>\n",
       "    <tr>\n",
       "      <th>S</th>\n",
       "      <td>99</td>\n",
       "    </tr>\n",
       "    <tr>\n",
       "      <th>W</th>\n",
       "      <td>87</td>\n",
       "    </tr>\n",
       "  </tbody>\n",
       "</table>\n",
       "</div>"
      ],
      "text/plain": [
       "            sglx_stim_time\n",
       "stim_state                \n",
       "N                       83\n",
       "R                      104\n",
       "S                       99\n",
       "W                       87"
      ]
     },
     "execution_count": 118,
     "metadata": {},
     "output_type": "execute_result"
    }
   ],
   "source": [
    "df_combined.groupby('stim_state').count()"
   ]
  },
  {
   "cell_type": "code",
   "execution_count": 119,
   "metadata": {},
   "outputs": [
    {
     "data": {
      "text/plain": [
       "PosixPath('/Volumes/neuropixel_analysis/Data/tom/catgt/CNPIX10-Charles/7-14-2021_imec1/stim_times.csv')"
      ]
     },
     "execution_count": 119,
     "metadata": {},
     "output_type": "execute_result"
    }
   ],
   "source": [
    "save_path = paths.get_datapath('Charles', cond, 'stim_times.csv', root_key='eStim')\n",
    "save_path"
   ]
  },
  {
   "cell_type": "code",
   "execution_count": 120,
   "metadata": {},
   "outputs": [],
   "source": [
    "df_combined.to_csv(save_path, index=False)"
   ]
  },
  {
   "cell_type": "code",
   "execution_count": null,
   "metadata": {},
   "outputs": [],
   "source": [
    "# Allan. concatenate g2-g3"
   ]
  },
  {
   "cell_type": "code",
   "execution_count": 121,
   "metadata": {},
   "outputs": [],
   "source": [
    "subj = 'Allan'\n",
    "cond = '3-5-2021_g2-3_imec1'\n",
    "stim_paths = [\n",
    "    '/Volumes/neuropixel_analysis/Data/tom/catgt/CNPIX8-Allan/3-5-2021_g2_imec1/stim_times_tom_g2.csv',\n",
    "    '/Volumes/neuropixel_analysis/Data/tom/catgt/CNPIX8-Allan/3-5-2021_g3_imec1/stim_times_tom_g3.csv',\n",
    "]"
   ]
  },
  {
   "cell_type": "code",
   "execution_count": 122,
   "metadata": {},
   "outputs": [],
   "source": [
    "bin_paths = paths.get_sglx_style_datapaths('Allan', cond, 'ap.bin', catgt_data=False, root_key='raw_chronic')"
   ]
  },
  {
   "cell_type": "code",
   "execution_count": 123,
   "metadata": {},
   "outputs": [
    {
     "data": {
      "text/plain": [
       "[PosixPath('/Volumes/neuropixel_archive/Data/chronic/CNPIX8-Allan/3-5-2021/3-5-2021_g2/3-5-2021_g2_imec1/3-5-2021_g2_t0.imec1.ap.bin'),\n",
       " PosixPath('/Volumes/neuropixel_archive/Data/chronic/CNPIX8-Allan/3-5-2021/3-5-2021_g3/3-5-2021_g3_imec1/3-5-2021_g3_t0.imec1.ap.bin')]"
      ]
     },
     "execution_count": 123,
     "metadata": {},
     "output_type": "execute_result"
    }
   ],
   "source": [
    "bin_paths"
   ]
  },
  {
   "cell_type": "code",
   "execution_count": 124,
   "metadata": {},
   "outputs": [
    {
     "name": "stdout",
     "output_type": "stream",
     "text": [
      "   sglx_stim_time stim_states\n",
      "0      348.814932           W\n",
      "1      809.522402           W\n",
      "2      816.434488           W\n",
      "3      823.104745           W\n",
      "4      832.188693           W 65 0\n",
      "   sglx_stim_time stim_states\n",
      "0     1788.169566           W\n",
      "1     1796.680401           W\n",
      "2     1950.648761           W\n",
      "3     2018.312736           W\n",
      "4     2040.640203           W 164 1087.0443558685154\n"
     ]
    }
   ],
   "source": [
    "assert len(bin_paths) == len(stim_paths)\n",
    "\n",
    "dfs = []\n",
    "start_time = 0\n",
    "for i in range(len(bin_paths)):\n",
    "    stim_path = stim_paths[i]\n",
    "    bin_path = bin_paths[i]\n",
    "    df = pd.read_csv(stim_path)\n",
    "    df.columns = [\n",
    "        c.replace('stim_times', 'sglx_stim_time').replace('state', 'stim_state')\n",
    "        for c in df.columns\n",
    "    ]\n",
    "    \n",
    "    print(df[0:5], len(df), start_time)\n",
    "    df['sglx_stim_time'] = df['sglx_stim_time'] + start_time\n",
    "    dfs.append(df)\n",
    "    start_time = start_time + float(sglx_utils.get_meta(bin_path)['fileTimeSecs'])\n",
    "df_combined = pd.concat(dfs)\n",
    "    \n",
    "#     end_time \n",
    "#     df\n",
    "#     print(path.exists())\n",
    "#     print(path)\n",
    "    "
   ]
  },
  {
   "cell_type": "code",
   "execution_count": 125,
   "metadata": {},
   "outputs": [
    {
     "data": {
      "text/plain": [
       "1087.0443558685154"
      ]
     },
     "execution_count": 125,
     "metadata": {},
     "output_type": "execute_result"
    }
   ],
   "source": [
    "float(sglx_utils.get_meta(bin_paths[0])['fileTimeSecs'])"
   ]
  },
  {
   "cell_type": "code",
   "execution_count": 129,
   "metadata": {},
   "outputs": [
    {
     "data": {
      "text/html": [
       "<div>\n",
       "<style scoped>\n",
       "    .dataframe tbody tr th:only-of-type {\n",
       "        vertical-align: middle;\n",
       "    }\n",
       "\n",
       "    .dataframe tbody tr th {\n",
       "        vertical-align: top;\n",
       "    }\n",
       "\n",
       "    .dataframe thead th {\n",
       "        text-align: right;\n",
       "    }\n",
       "</style>\n",
       "<table border=\"1\" class=\"dataframe\">\n",
       "  <thead>\n",
       "    <tr style=\"text-align: right;\">\n",
       "      <th></th>\n",
       "      <th>sglx_stim_time</th>\n",
       "      <th>stim_states</th>\n",
       "    </tr>\n",
       "  </thead>\n",
       "  <tbody>\n",
       "    <tr>\n",
       "      <th>0</th>\n",
       "      <td>348.814932</td>\n",
       "      <td>W</td>\n",
       "    </tr>\n",
       "    <tr>\n",
       "      <th>1</th>\n",
       "      <td>809.522402</td>\n",
       "      <td>W</td>\n",
       "    </tr>\n",
       "    <tr>\n",
       "      <th>2</th>\n",
       "      <td>816.434488</td>\n",
       "      <td>W</td>\n",
       "    </tr>\n",
       "    <tr>\n",
       "      <th>3</th>\n",
       "      <td>823.104745</td>\n",
       "      <td>W</td>\n",
       "    </tr>\n",
       "    <tr>\n",
       "      <th>4</th>\n",
       "      <td>832.188693</td>\n",
       "      <td>W</td>\n",
       "    </tr>\n",
       "    <tr>\n",
       "      <th>...</th>\n",
       "      <td>...</td>\n",
       "      <td>...</td>\n",
       "    </tr>\n",
       "    <tr>\n",
       "      <th>159</th>\n",
       "      <td>2701.332114</td>\n",
       "      <td>R</td>\n",
       "    </tr>\n",
       "    <tr>\n",
       "      <th>160</th>\n",
       "      <td>2709.751527</td>\n",
       "      <td>R</td>\n",
       "    </tr>\n",
       "    <tr>\n",
       "      <th>161</th>\n",
       "      <td>2717.155131</td>\n",
       "      <td>R</td>\n",
       "    </tr>\n",
       "    <tr>\n",
       "      <th>162</th>\n",
       "      <td>2725.713480</td>\n",
       "      <td>R</td>\n",
       "    </tr>\n",
       "    <tr>\n",
       "      <th>163</th>\n",
       "      <td>2740.102241</td>\n",
       "      <td>R</td>\n",
       "    </tr>\n",
       "  </tbody>\n",
       "</table>\n",
       "<p>229 rows × 2 columns</p>\n",
       "</div>"
      ],
      "text/plain": [
       "     sglx_stim_time stim_states\n",
       "0        348.814932           W\n",
       "1        809.522402           W\n",
       "2        816.434488           W\n",
       "3        823.104745           W\n",
       "4        832.188693           W\n",
       "..              ...         ...\n",
       "159     2701.332114           R\n",
       "160     2709.751527           R\n",
       "161     2717.155131           R\n",
       "162     2725.713480           R\n",
       "163     2740.102241           R\n",
       "\n",
       "[229 rows x 2 columns]"
      ]
     },
     "execution_count": 129,
     "metadata": {},
     "output_type": "execute_result"
    }
   ],
   "source": [
    "df_combined"
   ]
  },
  {
   "cell_type": "code",
   "execution_count": 130,
   "metadata": {},
   "outputs": [
    {
     "data": {
      "text/html": [
       "<div>\n",
       "<style scoped>\n",
       "    .dataframe tbody tr th:only-of-type {\n",
       "        vertical-align: middle;\n",
       "    }\n",
       "\n",
       "    .dataframe tbody tr th {\n",
       "        vertical-align: top;\n",
       "    }\n",
       "\n",
       "    .dataframe thead th {\n",
       "        text-align: right;\n",
       "    }\n",
       "</style>\n",
       "<table border=\"1\" class=\"dataframe\">\n",
       "  <thead>\n",
       "    <tr style=\"text-align: right;\">\n",
       "      <th></th>\n",
       "      <th>sglx_stim_time</th>\n",
       "    </tr>\n",
       "    <tr>\n",
       "      <th>stim_states</th>\n",
       "      <th></th>\n",
       "    </tr>\n",
       "  </thead>\n",
       "  <tbody>\n",
       "    <tr>\n",
       "      <th>N</th>\n",
       "      <td>102</td>\n",
       "    </tr>\n",
       "    <tr>\n",
       "      <th>R</th>\n",
       "      <td>47</td>\n",
       "    </tr>\n",
       "    <tr>\n",
       "      <th>W</th>\n",
       "      <td>80</td>\n",
       "    </tr>\n",
       "  </tbody>\n",
       "</table>\n",
       "</div>"
      ],
      "text/plain": [
       "             sglx_stim_time\n",
       "stim_states                \n",
       "N                       102\n",
       "R                        47\n",
       "W                        80"
      ]
     },
     "execution_count": 130,
     "metadata": {},
     "output_type": "execute_result"
    }
   ],
   "source": [
    "df_combined.groupby('stim_states').count()"
   ]
  },
  {
   "cell_type": "code",
   "execution_count": 127,
   "metadata": {},
   "outputs": [
    {
     "data": {
      "text/plain": [
       "PosixPath('/Volumes/neuropixel_analysis/Data/tom/catgt/CNPIX8-Allan/3-5-2021_g2-3_imec1/stim_times.csv')"
      ]
     },
     "execution_count": 127,
     "metadata": {},
     "output_type": "execute_result"
    }
   ],
   "source": [
    "save_path = paths.get_datapath(subj, cond, 'stim_times.csv', root_key='eStim')\n",
    "save_path"
   ]
  },
  {
   "cell_type": "code",
   "execution_count": 128,
   "metadata": {},
   "outputs": [],
   "source": [
    "df_combined.to_csv(save_path, index=False)"
   ]
  },
  {
   "cell_type": "markdown",
   "metadata": {},
   "source": [
    "# Copy concatenated hypnograms to condition dir"
   ]
  },
  {
   "cell_type": "code",
   "execution_count": 3,
   "metadata": {},
   "outputs": [],
   "source": [
    "from pathlib import Path\n",
    "import pandas as pd\n",
    "from ecephys_analyses.data import paths\n",
    "from ecephys import scoring\n"
   ]
  },
  {
   "cell_type": "code",
   "execution_count": 4,
   "metadata": {},
   "outputs": [
    {
     "name": "stdout",
     "output_type": "stream",
     "text": [
      "Data condition N=2 (Looks good?): [('Alessandro', 'baseline-sleep-2h-circadian-match_imec0'), ('Alessandro', 'recovery-sleep-2h_imec0')]\n"
     ]
    }
   ],
   "source": [
    "condition_groups = [\n",
    "#     ('Doppio', 'SD'),\n",
    "#     ('Allan', 'SD'),\n",
    "#     ('Luigi', 'SD'),\n",
    "#     ('Segundo', 'SD_catgt'),\n",
    "    ('Alessandro', 'SD_catgt'),\n",
    "    \n",
    "]\n",
    "\n",
    "data_conditions = []\n",
    "for subject, condition_group in condition_groups:\n",
    "    data_conditions += [\n",
    "        (subject, cond)\n",
    "        for cond in paths.get_conditions(subject, condition_group)\n",
    "    ]\n",
    "print(f'Data condition N={len(data_conditions)} (Looks good?): {data_conditions}')"
   ]
  },
  {
   "cell_type": "code",
   "execution_count": 14,
   "metadata": {
    "tags": []
   },
   "outputs": [
    {
     "ename": "AssertionError",
     "evalue": "",
     "output_type": "error",
     "traceback": [
      "\u001b[0;31m---------------------------------------------------------------------------\u001b[0m",
      "\u001b[0;31mAssertionError\u001b[0m                            Traceback (most recent call last)",
      "\u001b[0;32m<ipython-input-14-3123c4a0fcac>\u001b[0m in \u001b[0;36m<module>\u001b[0;34m\u001b[0m\n\u001b[1;32m      1\u001b[0m \u001b[0;32mfor\u001b[0m \u001b[0msubject\u001b[0m\u001b[0;34m,\u001b[0m \u001b[0mcondition\u001b[0m \u001b[0;32min\u001b[0m \u001b[0mdata_conditions\u001b[0m\u001b[0;34m:\u001b[0m\u001b[0;34m\u001b[0m\u001b[0;34m\u001b[0m\u001b[0m\n\u001b[0;32m----> 2\u001b[0;31m     \u001b[0;32massert\u001b[0m \u001b[0;32mnot\u001b[0m \u001b[0mis_combined_condition\u001b[0m\u001b[0;34m(\u001b[0m\u001b[0msubject\u001b[0m\u001b[0;34m,\u001b[0m \u001b[0mcondition\u001b[0m\u001b[0;34m)\u001b[0m\u001b[0;34m\u001b[0m\u001b[0;34m\u001b[0m\u001b[0m\n\u001b[0m\u001b[1;32m      3\u001b[0m     \u001b[0mhyp_paths\u001b[0m \u001b[0;34m=\u001b[0m \u001b[0mpaths\u001b[0m\u001b[0;34m.\u001b[0m\u001b[0mget_hypno_datapaths\u001b[0m\u001b[0;34m(\u001b[0m\u001b[0msubject\u001b[0m\u001b[0;34m,\u001b[0m \u001b[0mcondition\u001b[0m\u001b[0;34m)\u001b[0m\u001b[0;34m\u001b[0m\u001b[0;34m\u001b[0m\u001b[0m\n\u001b[1;32m      4\u001b[0m     \u001b[0mprint\u001b[0m\u001b[0;34m(\u001b[0m\u001b[0msubject\u001b[0m\u001b[0;34m,\u001b[0m \u001b[0mcondition\u001b[0m\u001b[0;34m)\u001b[0m\u001b[0;34m\u001b[0m\u001b[0;34m\u001b[0m\u001b[0m\n\u001b[1;32m      5\u001b[0m     \u001b[0;32mfor\u001b[0m \u001b[0mprb\u001b[0m \u001b[0;32min\u001b[0m \u001b[0;34m[\u001b[0m\u001b[0;34m'imec0'\u001b[0m\u001b[0;34m,\u001b[0m \u001b[0;34m'imec1'\u001b[0m\u001b[0;34m]\u001b[0m\u001b[0;34m:\u001b[0m\u001b[0;34m\u001b[0m\u001b[0;34m\u001b[0m\u001b[0m\n",
      "\u001b[0;31mAssertionError\u001b[0m: "
     ]
    }
   ],
   "source": [
    "for subject, condition in data_conditions:\n",
    "    assert not is_combined_condition(subject, condition)\n",
    "    hyp_paths = paths.get_hypno_datapaths(subject, condition)\n",
    "    print(subject, condition)\n",
    "    for prb in ['imec0', 'imec1']:\n",
    "        try:\n",
    "            print(f'Try loading hyp saved for {prb}...', end='')\n",
    "            imec_hyp_paths = [\n",
    "                Path(str(p).replace('imec0', 'imec1').replace('imec1', prb))\n",
    "                for p in hyp_paths\n",
    "            ]\n",
    "            print(imec_hyp_paths)\n",
    "            if len(imec_hyp_paths) > 1:\n",
    "                print(\"MULTIPLE HYPNOGRAMS???? ARE YOU SURE?\")\n",
    "#             assert len(imec_hyp_paths) == 1\n",
    "            hyp = scoring.load_consecutive_visbrain_hypnograms(\n",
    "                imec_hyp_paths\n",
    "            )\n",
    "            found=True\n",
    "            print('Found it!')\n",
    "            break\n",
    "        except FileNotFoundError:\n",
    "            print('not found')\n",
    "            found=False\n",
    "            continue\n",
    "    if not found:\n",
    "        print('NOT FOUND :( :( :(')\n",
    "        continue\n",
    "    print(\"Save in condition dir\")\n",
    "    savepath = paths.get_datapath(subject, condition, 'hypnogram.csv', root_key='eStim')\n",
    "    savepath.parent.mkdir(exist_ok=True)\n",
    "    print(savepath)\n",
    "    hyp.to_csv(savepath, index=False)\n",
    "    print(\"Done\")\n",
    "    print('\\n\\n')\n",
    "        "
   ]
  },
  {
   "cell_type": "code",
   "execution_count": 6,
   "metadata": {},
   "outputs": [
    {
     "data": {
      "text/plain": [
       "[PosixPath('/Volumes/neuropixel_analysis/Data/CNPIX5-Alessandro/8-24-2020/8-24-2020_g0/8-24-2020_g0_imec0/8-24-2020_g0_t6.imec0.hypnogram.txt'),\n",
       " PosixPath('/Volumes/neuropixel_analysis/Data/CNPIX5-Alessandro/8-24-2020/8-24-2020_g0/8-24-2020_g0_imec0/8-24-2020_g0_t7.imec0.hypnogram.txt')]"
      ]
     },
     "execution_count": 6,
     "metadata": {},
     "output_type": "execute_result"
    }
   ],
   "source": [
    "imec_hyp_paths"
   ]
  },
  {
   "cell_type": "code",
   "execution_count": 9,
   "metadata": {},
   "outputs": [],
   "source": [
    "# hyp = scoring.load_consecutive_visbrain_hypnograms(\n",
    "#     paths.get_hypno_datapaths('Allan', 'baseline-sleep-2h-circadian-match_imec1')\n",
    "# )"
   ]
  },
  {
   "cell_type": "code",
   "execution_count": 10,
   "metadata": {},
   "outputs": [
    {
     "data": {
      "text/html": [
       "<div>\n",
       "<style scoped>\n",
       "    .dataframe tbody tr th:only-of-type {\n",
       "        vertical-align: middle;\n",
       "    }\n",
       "\n",
       "    .dataframe tbody tr th {\n",
       "        vertical-align: top;\n",
       "    }\n",
       "\n",
       "    .dataframe thead th {\n",
       "        text-align: right;\n",
       "    }\n",
       "</style>\n",
       "<table border=\"1\" class=\"dataframe\">\n",
       "  <thead>\n",
       "    <tr style=\"text-align: right;\">\n",
       "      <th></th>\n",
       "      <th>state</th>\n",
       "      <th>end_time</th>\n",
       "      <th>start_time</th>\n",
       "      <th>duration</th>\n",
       "    </tr>\n",
       "  </thead>\n",
       "  <tbody>\n",
       "    <tr>\n",
       "      <th>0</th>\n",
       "      <td>N2</td>\n",
       "      <td>59.990002</td>\n",
       "      <td>0.000000</td>\n",
       "      <td>59.990002</td>\n",
       "    </tr>\n",
       "    <tr>\n",
       "      <th>1</th>\n",
       "      <td>IS</td>\n",
       "      <td>77.989998</td>\n",
       "      <td>59.990002</td>\n",
       "      <td>17.999996</td>\n",
       "    </tr>\n",
       "    <tr>\n",
       "      <th>2</th>\n",
       "      <td>REM</td>\n",
       "      <td>101.989998</td>\n",
       "      <td>77.989998</td>\n",
       "      <td>24.000000</td>\n",
       "    </tr>\n",
       "    <tr>\n",
       "      <th>3</th>\n",
       "      <td>Trans</td>\n",
       "      <td>107.989998</td>\n",
       "      <td>101.989998</td>\n",
       "      <td>6.000000</td>\n",
       "    </tr>\n",
       "    <tr>\n",
       "      <th>4</th>\n",
       "      <td>Arousal</td>\n",
       "      <td>125.989998</td>\n",
       "      <td>107.989998</td>\n",
       "      <td>18.000000</td>\n",
       "    </tr>\n",
       "    <tr>\n",
       "      <th>...</th>\n",
       "      <td>...</td>\n",
       "      <td>...</td>\n",
       "      <td>...</td>\n",
       "      <td>...</td>\n",
       "    </tr>\n",
       "    <tr>\n",
       "      <th>136</th>\n",
       "      <td>Trans</td>\n",
       "      <td>7109.979980</td>\n",
       "      <td>7091.979980</td>\n",
       "      <td>18.000000</td>\n",
       "    </tr>\n",
       "    <tr>\n",
       "      <th>137</th>\n",
       "      <td>Wake</td>\n",
       "      <td>7145.979980</td>\n",
       "      <td>7109.979980</td>\n",
       "      <td>36.000000</td>\n",
       "    </tr>\n",
       "    <tr>\n",
       "      <th>138</th>\n",
       "      <td>Trans</td>\n",
       "      <td>7163.979980</td>\n",
       "      <td>7145.979980</td>\n",
       "      <td>18.000000</td>\n",
       "    </tr>\n",
       "    <tr>\n",
       "      <th>139</th>\n",
       "      <td>Arousal</td>\n",
       "      <td>7175.979980</td>\n",
       "      <td>7163.979980</td>\n",
       "      <td>12.000000</td>\n",
       "    </tr>\n",
       "    <tr>\n",
       "      <th>140</th>\n",
       "      <td>Trans</td>\n",
       "      <td>7199.979980</td>\n",
       "      <td>7175.979980</td>\n",
       "      <td>24.000000</td>\n",
       "    </tr>\n",
       "  </tbody>\n",
       "</table>\n",
       "<p>234 rows × 4 columns</p>\n",
       "</div>"
      ],
      "text/plain": [
       "       state     end_time   start_time   duration\n",
       "0         N2    59.990002     0.000000  59.990002\n",
       "1         IS    77.989998    59.990002  17.999996\n",
       "2        REM   101.989998    77.989998  24.000000\n",
       "3      Trans   107.989998   101.989998   6.000000\n",
       "4    Arousal   125.989998   107.989998  18.000000\n",
       "..       ...          ...          ...        ...\n",
       "136    Trans  7109.979980  7091.979980  18.000000\n",
       "137     Wake  7145.979980  7109.979980  36.000000\n",
       "138    Trans  7163.979980  7145.979980  18.000000\n",
       "139  Arousal  7175.979980  7163.979980  12.000000\n",
       "140    Trans  7199.979980  7175.979980  24.000000\n",
       "\n",
       "[234 rows x 4 columns]"
      ]
     },
     "execution_count": 10,
     "metadata": {},
     "output_type": "execute_result"
    }
   ],
   "source": [
    "# hyp"
   ]
  },
  {
   "cell_type": "markdown",
   "metadata": {},
   "source": [
    "# Change format of hypnogram  (hypnogram.txt to hypnogram.csv in same dir)"
   ]
  },
  {
   "cell_type": "code",
   "execution_count": null,
   "metadata": {},
   "outputs": [],
   "source": [
    "root = Path('/Volumes/scratch/neuropixels/data/tom/catgt/CNPIX10-Charles/recovery-sleep-2h_imec0/')\n",
    "src_filename = 'hypnogram.txt'\n",
    "tgt_filename = 'hypnogram.csv'\n",
    "\n",
    "hyp = scoring.load_visbrain_hypnogram(root/src_filename)\n",
    "hyp.to_csv(root/tgt_filename, index=False)\n",
    "\n",
    "\n"
   ]
  },
  {
   "cell_type": "markdown",
   "metadata": {},
   "source": [
    "# Copy concatenated hypnograms to \"multiple\" condition dir"
   ]
  },
  {
   "cell_type": "code",
   "execution_count": 11,
   "metadata": {},
   "outputs": [],
   "source": [
    "from pathlib import Path\n",
    "import pandas as pd\n",
    "from ecephys_analyses.data import paths\n",
    "from ecephys import scoring\n"
   ]
  },
  {
   "cell_type": "code",
   "execution_count": 12,
   "metadata": {},
   "outputs": [
    {
     "name": "stdout",
     "output_type": "stream",
     "text": [
      "Data condition N=1 (Looks good?): [('Alessandro', 'sleep-homeostasis-2h_imec0')]\n"
     ]
    }
   ],
   "source": [
    "condition_groups = [\n",
    "#     ('Doppio', 'SD'),\n",
    "#     ('Allan', 'SD'),\n",
    "#     ('Luigi', 'SD'),\n",
    "#     ('Charles', 'SD'),\n",
    "#     ('Segundo', 'SD'),\n",
    "    ('Alessandro', 'SD'),\n",
    "]\n",
    "\n",
    "root_key = 'sleep-homeostasis'\n",
    "\n",
    "data_conditions = []\n",
    "for subject, condition_group in condition_groups:\n",
    "    data_conditions += [\n",
    "        (subject, cond)\n",
    "        for cond in paths.get_conditions(subject, condition_group)\n",
    "    ]\n",
    "print(f'Data condition N={len(data_conditions)} (Looks good?): {data_conditions}')"
   ]
  },
  {
   "cell_type": "code",
   "execution_count": 13,
   "metadata": {},
   "outputs": [
    {
     "name": "stdout",
     "output_type": "stream",
     "text": [
      "Save in condition dir\n",
      "/Volumes/scratch/neuropixels/data/tom/catgt/CNPIX5-Alessandro/sleep-homeostasis-2h_imec0/hypnogram.csv\n",
      "Done\n"
     ]
    }
   ],
   "source": [
    "from ecephys_analyses.data.paths import get_subconditions, is_combined_condition\n",
    "from ecephys.scoring import load_consecutive_csv_hypnograms\n",
    "\n",
    "for subject, condition in data_conditions:\n",
    "\n",
    "    if is_combined_condition(subject, condition):\n",
    "        subconditions = get_subconditions(subject, condition)\n",
    "        hyp = load_consecutive_csv_hypnograms(\n",
    "            [\n",
    "                paths.get_datapath(subject, subcondition, 'hypnogram.csv', root_key=root_key)\n",
    "                 for subcondition in subconditions\n",
    "            ],\n",
    "            conditions = subconditions,\n",
    "        )\n",
    "        print(\"Save in condition dir\")\n",
    "        savepath = paths.get_datapath(subject, condition, 'hypnogram.csv', root_key=root_key)\n",
    "        savepath.parent.mkdir(exist_ok=True)\n",
    "        print(savepath)\n",
    "        hyp.to_csv(savepath, index=False)\n",
    "        print(\"Done\")\n",
    "        \n",
    "    # subconditions = get_subconditions('Doppio', 'baseline-sleep-2h-circadian-match_imec1')\n",
    "    else:\n",
    "        print(f\"Pass {subject} {condition}: Not 'combined' condition\")\n"
   ]
  },
  {
   "cell_type": "code",
   "execution_count": 16,
   "metadata": {},
   "outputs": [
    {
     "data": {
      "text/html": [
       "<div>\n",
       "<style scoped>\n",
       "    .dataframe tbody tr th:only-of-type {\n",
       "        vertical-align: middle;\n",
       "    }\n",
       "\n",
       "    .dataframe tbody tr th {\n",
       "        vertical-align: top;\n",
       "    }\n",
       "\n",
       "    .dataframe thead th {\n",
       "        text-align: right;\n",
       "    }\n",
       "</style>\n",
       "<table border=\"1\" class=\"dataframe\">\n",
       "  <thead>\n",
       "    <tr style=\"text-align: right;\">\n",
       "      <th></th>\n",
       "      <th>state</th>\n",
       "      <th>end_time</th>\n",
       "      <th>start_time</th>\n",
       "      <th>duration</th>\n",
       "      <th>condition</th>\n",
       "    </tr>\n",
       "  </thead>\n",
       "  <tbody>\n",
       "    <tr>\n",
       "      <th>0</th>\n",
       "      <td>N2</td>\n",
       "      <td>19.990000</td>\n",
       "      <td>0.000000</td>\n",
       "      <td>19.990000</td>\n",
       "      <td>baseline-sleep-2h-circadian-match_imec0</td>\n",
       "    </tr>\n",
       "    <tr>\n",
       "      <th>1</th>\n",
       "      <td>Wake</td>\n",
       "      <td>27.990000</td>\n",
       "      <td>19.990000</td>\n",
       "      <td>8.000000</td>\n",
       "      <td>baseline-sleep-2h-circadian-match_imec0</td>\n",
       "    </tr>\n",
       "    <tr>\n",
       "      <th>2</th>\n",
       "      <td>N2</td>\n",
       "      <td>67.989998</td>\n",
       "      <td>27.990000</td>\n",
       "      <td>39.999998</td>\n",
       "      <td>baseline-sleep-2h-circadian-match_imec0</td>\n",
       "    </tr>\n",
       "    <tr>\n",
       "      <th>3</th>\n",
       "      <td>N1</td>\n",
       "      <td>79.989998</td>\n",
       "      <td>67.989998</td>\n",
       "      <td>12.000000</td>\n",
       "      <td>baseline-sleep-2h-circadian-match_imec0</td>\n",
       "    </tr>\n",
       "    <tr>\n",
       "      <th>4</th>\n",
       "      <td>Wake</td>\n",
       "      <td>87.989998</td>\n",
       "      <td>79.989998</td>\n",
       "      <td>8.000000</td>\n",
       "      <td>baseline-sleep-2h-circadian-match_imec0</td>\n",
       "    </tr>\n",
       "    <tr>\n",
       "      <th>...</th>\n",
       "      <td>...</td>\n",
       "      <td>...</td>\n",
       "      <td>...</td>\n",
       "      <td>...</td>\n",
       "      <td>...</td>\n",
       "    </tr>\n",
       "    <tr>\n",
       "      <th>108</th>\n",
       "      <td>REM</td>\n",
       "      <td>14087.959961</td>\n",
       "      <td>14079.959961</td>\n",
       "      <td>8.000000</td>\n",
       "      <td>recovery-sleep-2h_imec0</td>\n",
       "    </tr>\n",
       "    <tr>\n",
       "      <th>109</th>\n",
       "      <td>N1</td>\n",
       "      <td>14095.959961</td>\n",
       "      <td>14087.959961</td>\n",
       "      <td>8.000000</td>\n",
       "      <td>recovery-sleep-2h_imec0</td>\n",
       "    </tr>\n",
       "    <tr>\n",
       "      <th>110</th>\n",
       "      <td>REM</td>\n",
       "      <td>14155.959961</td>\n",
       "      <td>14095.959961</td>\n",
       "      <td>60.000000</td>\n",
       "      <td>recovery-sleep-2h_imec0</td>\n",
       "    </tr>\n",
       "    <tr>\n",
       "      <th>111</th>\n",
       "      <td>N1</td>\n",
       "      <td>14187.959961</td>\n",
       "      <td>14155.959961</td>\n",
       "      <td>32.000000</td>\n",
       "      <td>recovery-sleep-2h_imec0</td>\n",
       "    </tr>\n",
       "    <tr>\n",
       "      <th>112</th>\n",
       "      <td>N2</td>\n",
       "      <td>14399.959961</td>\n",
       "      <td>14187.959961</td>\n",
       "      <td>212.000000</td>\n",
       "      <td>recovery-sleep-2h_imec0</td>\n",
       "    </tr>\n",
       "  </tbody>\n",
       "</table>\n",
       "<p>344 rows × 5 columns</p>\n",
       "</div>"
      ],
      "text/plain": [
       "    state      end_time    start_time    duration  \\\n",
       "0      N2     19.990000      0.000000   19.990000   \n",
       "1    Wake     27.990000     19.990000    8.000000   \n",
       "2      N2     67.989998     27.990000   39.999998   \n",
       "3      N1     79.989998     67.989998   12.000000   \n",
       "4    Wake     87.989998     79.989998    8.000000   \n",
       "..    ...           ...           ...         ...   \n",
       "108   REM  14087.959961  14079.959961    8.000000   \n",
       "109    N1  14095.959961  14087.959961    8.000000   \n",
       "110   REM  14155.959961  14095.959961   60.000000   \n",
       "111    N1  14187.959961  14155.959961   32.000000   \n",
       "112    N2  14399.959961  14187.959961  212.000000   \n",
       "\n",
       "                                   condition  \n",
       "0    baseline-sleep-2h-circadian-match_imec0  \n",
       "1    baseline-sleep-2h-circadian-match_imec0  \n",
       "2    baseline-sleep-2h-circadian-match_imec0  \n",
       "3    baseline-sleep-2h-circadian-match_imec0  \n",
       "4    baseline-sleep-2h-circadian-match_imec0  \n",
       "..                                       ...  \n",
       "108                  recovery-sleep-2h_imec0  \n",
       "109                  recovery-sleep-2h_imec0  \n",
       "110                  recovery-sleep-2h_imec0  \n",
       "111                  recovery-sleep-2h_imec0  \n",
       "112                  recovery-sleep-2h_imec0  \n",
       "\n",
       "[344 rows x 5 columns]"
      ]
     },
     "execution_count": 16,
     "metadata": {},
     "output_type": "execute_result"
    }
   ],
   "source": [
    "hyp"
   ]
  },
  {
   "cell_type": "code",
   "execution_count": null,
   "metadata": {},
   "outputs": [],
   "source": []
  },
  {
   "cell_type": "markdown",
   "metadata": {},
   "source": [
    "# Channel depths"
   ]
  },
  {
   "cell_type": "code",
   "execution_count": 2,
   "metadata": {},
   "outputs": [],
   "source": [
    "from pathlib import Path"
   ]
  },
  {
   "cell_type": "code",
   "execution_count": 4,
   "metadata": {},
   "outputs": [],
   "source": [
    "# metapath = Path('/Volumes/scratch/neuropixels/data/tom/catgt/CNPIX4-Doppio/3-17-2020/catgt_3-17-2020_g0/3-17-2020_g0_imec0/3-17-2020_g0_tcat.imec0.ap.meta')\n",
    "metapath = Path('/Volumes/scratch/neuropixels/data/tom/catgt/CNPIX4-Doppio/baseline-sleep-2h-circadian-match_imec0/3-17-2020/catgt_3-17-2020_g0/3-17-2020_g0_imec0/3-17-2020_g0_tcat.imec0.ap.meta')"
   ]
  },
  {
   "cell_type": "code",
   "execution_count": 7,
   "metadata": {},
   "outputs": [
    {
     "name": "stdout",
     "output_type": "stream",
     "text": [
      "0\n",
      "1 0.0\n",
      "2 20.0\n",
      "3 40.0\n",
      "4 60.0\n",
      "5 80.0\n",
      "6 100.0\n",
      "7 120.0\n",
      "8 140.0\n",
      "9 160.0\n",
      "10 180.0\n",
      "11 200.0\n",
      "12 220.0\n",
      "13 240.0\n",
      "14 260.0\n",
      "15 280.0\n",
      "16 300.0\n",
      "17 320.0\n",
      "18 340.0\n",
      "19 360.0\n",
      "20 380.0\n",
      "21 400.0\n",
      "22 420.0\n",
      "23 440.0\n",
      "24 460.0\n",
      "25 480.0\n",
      "26 500.0\n",
      "27 520.0\n",
      "28 540.0\n",
      "29 560.0\n",
      "30 580.0\n",
      "31 600.0\n",
      "32 620.0\n",
      "33 640.0\n",
      "34 660.0\n",
      "35 680.0\n",
      "36 700.0\n",
      "37 720.0\n",
      "38 740.0\n",
      "39 760.0\n",
      "40 780.0\n",
      "41 800.0\n",
      "42 820.0\n",
      "43 840.0\n",
      "44 860.0\n",
      "45 880.0\n",
      "46 900.0\n",
      "47 920.0\n",
      "48 940.0\n",
      "49 960.0\n",
      "50 980.0\n",
      "51 1000.0\n",
      "52 1020.0\n",
      "53 1040.0\n",
      "54 1060.0\n",
      "55 1080.0\n",
      "56 1100.0\n",
      "57 1120.0\n",
      "58 1140.0\n",
      "59 1160.0\n",
      "60 1180.0\n",
      "61 1200.0\n",
      "62 1220.0\n",
      "63 1240.0\n",
      "64 1260.0\n",
      "65 1280.0\n",
      "66 1300.0\n",
      "67 1320.0\n",
      "68 1340.0\n",
      "69 1360.0\n",
      "70 1380.0\n",
      "71 1400.0\n",
      "72 1420.0\n",
      "73 1440.0\n",
      "74 1460.0\n",
      "75 1480.0\n",
      "76 1500.0\n",
      "77 1520.0\n",
      "78 1540.0\n",
      "79 1560.0\n",
      "80 1580.0\n",
      "81 1600.0\n",
      "82 1620.0\n",
      "83 1640.0\n",
      "84 1660.0\n",
      "85 1680.0\n",
      "86 1700.0\n",
      "87 1720.0\n",
      "88 1740.0\n",
      "89 1760.0\n",
      "90 1780.0\n",
      "91 1800.0\n",
      "92 1820.0\n",
      "93 1840.0\n",
      "94 1860.0\n",
      "95 1880.0\n",
      "96 1900.0\n",
      "97 1920.0\n",
      "98 1940.0\n",
      "99 1960.0\n",
      "100 1980.0\n",
      "101 2000.0\n",
      "102 2020.0\n",
      "103 2040.0\n",
      "104 2060.0\n",
      "105 2080.0\n",
      "106 2100.0\n",
      "107 2120.0\n",
      "108 2140.0\n",
      "109 2160.0\n",
      "110 2180.0\n",
      "111 2200.0\n",
      "112 2220.0\n",
      "113 2240.0\n",
      "114 2260.0\n",
      "115 2280.0\n",
      "116 2300.0\n",
      "117 2320.0\n",
      "118 2340.0\n",
      "119 2360.0\n",
      "120 2380.0\n",
      "121 2400.0\n",
      "122 2420.0\n",
      "123 2440.0\n",
      "124 2460.0\n",
      "125 2480.0\n",
      "126 2500.0\n",
      "127 2520.0\n",
      "128 2540.0\n",
      "129 2560.0\n",
      "130 2580.0\n",
      "131 2600.0\n",
      "132 2620.0\n",
      "133 2640.0\n",
      "134 2660.0\n",
      "135 2680.0\n",
      "136 2700.0\n",
      "137 2720.0\n",
      "138 2740.0\n",
      "139 2760.0\n",
      "140 2780.0\n",
      "141 2800.0\n",
      "142 2820.0\n",
      "143 2840.0\n",
      "144 2860.0\n",
      "145 2880.0\n",
      "146 2900.0\n",
      "147 2920.0\n",
      "148 2940.0\n",
      "149 2960.0\n",
      "150 2980.0\n",
      "151 3000.0\n",
      "152 3020.0\n",
      "153 3040.0\n",
      "154 3060.0\n",
      "155 3080.0\n",
      "156 3100.0\n",
      "157 3120.0\n",
      "158 3140.0\n",
      "159 3160.0\n",
      "160 3180.0\n",
      "161 3200.0\n",
      "162 3220.0\n",
      "163 3240.0\n",
      "164 3260.0\n",
      "165 3280.0\n",
      "166 3300.0\n",
      "167 3320.0\n",
      "168 3340.0\n",
      "169 3360.0\n",
      "170 3380.0\n",
      "171 3400.0\n",
      "172 3420.0\n",
      "173 3440.0\n",
      "174 3460.0\n",
      "175 3480.0\n",
      "176 3500.0\n",
      "177 3520.0\n",
      "178 3540.0\n",
      "179 3560.0\n",
      "180 3580.0\n",
      "181 3600.0\n",
      "182 3620.0\n",
      "183 3640.0\n",
      "184 3660.0\n",
      "185 3680.0\n",
      "186 3700.0\n",
      "187 3720.0\n",
      "188 3740.0\n",
      "189 3760.0\n",
      "190 3780.0\n",
      "191 3800.0\n",
      "192 3820.0\n",
      "193 3840.0\n",
      "194 3860.0\n",
      "195 3880.0\n",
      "196 3900.0\n",
      "197 3920.0\n",
      "198 3940.0\n",
      "199 3960.0\n",
      "200 3980.0\n",
      "201 4000.0\n",
      "202 4020.0\n",
      "203 4040.0\n",
      "204 4060.0\n",
      "205 4080.0\n",
      "206 4100.0\n",
      "207 4120.0\n",
      "208 4140.0\n",
      "209 4160.0\n",
      "210 4180.0\n",
      "211 4200.0\n",
      "212 4220.0\n",
      "213 4240.0\n",
      "214 4260.0\n",
      "215 4280.0\n",
      "216 4300.0\n",
      "217 4320.0\n",
      "218 4340.0\n",
      "219 4360.0\n",
      "220 4380.0\n",
      "221 4400.0\n",
      "222 4420.0\n",
      "223 4440.0\n",
      "224 4460.0\n",
      "225 4480.0\n",
      "226 4500.0\n",
      "227 4520.0\n",
      "228 4540.0\n",
      "229 4560.0\n",
      "230 4580.0\n",
      "231 4600.0\n",
      "232 4620.0\n",
      "233 4640.0\n",
      "234 4660.0\n",
      "235 4680.0\n",
      "236 4700.0\n",
      "237 4720.0\n",
      "238 4740.0\n",
      "239 4760.0\n",
      "240 4780.0\n",
      "241 4800.0\n",
      "242 4820.0\n",
      "243 4840.0\n",
      "244 4860.0\n",
      "245 4880.0\n",
      "246 4900.0\n",
      "247 4920.0\n",
      "248 4940.0\n",
      "249 4960.0\n",
      "250 4980.0\n",
      "251 5000.0\n",
      "252 5020.0\n",
      "253 5040.0\n",
      "254 5060.0\n",
      "255 5080.0\n",
      "256 5100.0\n",
      "257 5120.0\n",
      "258 5140.0\n",
      "259 5160.0\n",
      "260 5180.0\n",
      "261 5200.0\n",
      "262 5220.0\n",
      "263 5240.0\n",
      "264 5260.0\n",
      "265 5280.0\n",
      "266 5300.0\n",
      "267 5320.0\n",
      "268 5340.0\n",
      "269 5360.0\n",
      "270 5380.0\n",
      "271 5400.0\n",
      "272 5420.0\n",
      "273 5440.0\n",
      "274 5460.0\n",
      "275 5480.0\n",
      "276 5500.0\n",
      "277 5520.0\n",
      "278 5540.0\n",
      "279 5560.0\n",
      "280 5580.0\n",
      "281 5600.0\n",
      "282 5620.0\n",
      "283 5640.0\n",
      "284 5660.0\n",
      "285 5680.0\n",
      "286 5700.0\n",
      "287 5720.0\n",
      "288 5740.0\n",
      "289 5760.0\n",
      "290 5780.0\n",
      "291 5800.0\n",
      "292 5820.0\n",
      "293 5840.0\n",
      "294 5860.0\n",
      "295 5880.0\n",
      "296 5900.0\n",
      "297 5920.0\n",
      "298 5940.0\n",
      "299 5960.0\n",
      "300 5980.0\n",
      "301 6000.0\n",
      "302 6020.0\n",
      "303 6040.0\n",
      "304 6060.0\n",
      "305 6080.0\n",
      "306 6100.0\n",
      "307 6120.0\n",
      "308 6140.0\n",
      "309 6160.0\n",
      "310 6180.0\n",
      "311 6200.0\n",
      "312 6220.0\n",
      "313 6240.0\n",
      "314 6260.0\n",
      "315 6280.0\n",
      "316 6300.0\n",
      "317 6320.0\n",
      "318 6340.0\n",
      "319 6360.0\n",
      "320 6380.0\n",
      "321 6400.0\n",
      "322 6420.0\n",
      "323 6440.0\n",
      "324 6460.0\n",
      "325 6480.0\n",
      "326 6500.0\n",
      "327 6520.0\n",
      "328 6540.0\n",
      "329 6560.0\n",
      "330 6580.0\n",
      "331 6600.0\n",
      "332 6620.0\n",
      "333 6640.0\n",
      "334 6660.0\n",
      "335 6680.0\n",
      "336 6700.0\n",
      "337 6720.0\n",
      "338 6740.0\n",
      "339 6760.0\n",
      "340 6780.0\n",
      "341 6800.0\n",
      "342 6820.0\n",
      "343 6840.0\n",
      "344 6860.0\n",
      "345 6880.0\n",
      "346 6900.0\n",
      "347 6920.0\n",
      "348 6940.0\n",
      "349 6960.0\n",
      "350 6980.0\n",
      "351 7000.0\n",
      "352 7020.0\n",
      "353 7040.0\n",
      "354 7060.0\n",
      "355 7080.0\n",
      "356 7100.0\n",
      "357 7120.0\n",
      "358 7140.0\n",
      "359 7160.0\n",
      "360 7180.0\n",
      "361 7200.0\n",
      "362 7220.0\n",
      "363 7240.0\n",
      "364 7260.0\n",
      "365 7280.0\n",
      "366 7300.0\n",
      "367 7320.0\n",
      "368 7340.0\n",
      "369 7360.0\n",
      "370 7380.0\n",
      "371 7400.0\n",
      "372 7420.0\n",
      "373 7440.0\n",
      "374 7460.0\n",
      "375 7480.0\n",
      "376 7500.0\n",
      "377 7520.0\n",
      "378 7540.0\n",
      "379 7560.0\n",
      "380 7580.0\n",
      "381 7600.0\n",
      "382 7620.0\n",
      "383 7640.0\n",
      "384 7660.0\n"
     ]
    },
    {
     "data": {
      "text/plain": [
       "array([   0.,  560.,  580., 1600., 1620., 3040., 3060., 3980., 4000.,\n",
       "       5940., 5960., 7460.])"
      ]
     },
     "execution_count": 7,
     "metadata": {},
     "output_type": "execute_result"
    }
   ],
   "source": [
    "from ecephys_analyses.data.utils import depth_from_channel\n",
    "\n",
    "depth_from_channel(metapath, [1, 29, 30, 81, 82, 153, 154, 200, 201, 298, 299, 374])\n",
    "# (array([286]),)\n",
    "# (array([175]),)\n",
    "# (array([290]"
   ]
  },
  {
   "cell_type": "code",
   "execution_count": 8,
   "metadata": {},
   "outputs": [],
   "source": [
    "from ecephys.units.io import get_cluster_info\n"
   ]
  },
  {
   "cell_type": "code",
   "execution_count": 10,
   "metadata": {},
   "outputs": [],
   "source": [
    "df = get_cluster_info(Path('/Volumes/scratch/neuropixels/data/tom/catgt/CNPIX4-Doppio/sleep-homeostasis-2h_imec0/ks2_5_catgt_Th=12-10_lam=50_8s-batches_postpro_2_metrics_1'))"
   ]
  },
  {
   "cell_type": "code",
   "execution_count": 41,
   "metadata": {},
   "outputs": [],
   "source": [
    "df = get_cluster_info(Path('/Volumes/scratch/neuropixels/data/tom/catgt/CNPIX10-Charles/sleep-homeostasis-2h_imec1/ks2_5_catgt_Th=12-10_lam=50_8s-batches_postpro_2_metrics_1'))"
   ]
  },
  {
   "cell_type": "code",
   "execution_count": 19,
   "metadata": {},
   "outputs": [
    {
     "data": {
      "text/plain": [
       "<matplotlib.axes._subplots.AxesSubplot at 0x7f647fff7690>"
      ]
     },
     "execution_count": 19,
     "metadata": {},
     "output_type": "execute_result"
    },
    {
     "data": {
      "image/png": "[encoded data removed]",
      "text/plain": [
       "<Figure size 432x288 with 1 Axes>"
      ]
     },
     "metadata": {
      "needs_background": "light"
     },
     "output_type": "display_data"
    }
   ],
   "source": [
    "df.depth.hist(bins=100)"
   ]
  },
  {
   "cell_type": "code",
   "execution_count": 44,
   "metadata": {},
   "outputs": [
    {
     "data": {
      "text/plain": [
       "Index(['cluster_id', 'Unnamed: 1', 'Amplitude', 'ContamPct', 'KSLabel', 'amp',\n",
       "       'amplitude_cutoff', 'ch', 'cumulative_drift', 'd_prime', 'depth',\n",
       "       'epoch_name', 'firing_rate', 'fr', 'group', 'isi_viol',\n",
       "       'isolation_distance', 'l_ratio', 'max_drift', 'n_spikes', 'nn_hit_rate',\n",
       "       'nn_miss_rate', 'presence_ratio', 'sh', 'silhouette_score'],\n",
       "      dtype='object')"
      ]
     },
     "execution_count": 44,
     "metadata": {},
     "output_type": "execute_result"
    }
   ],
   "source": [
    "df.columns"
   ]
  },
  {
   "cell_type": "code",
   "execution_count": 45,
   "metadata": {},
   "outputs": [
    {
     "data": {
      "text/plain": [
       "<matplotlib.axes._subplots.AxesSubplot at 0x7f64730e71d0>"
      ]
     },
     "execution_count": 45,
     "metadata": {},
     "output_type": "execute_result"
    },
    {
     "data": {
      "image/png": "[encoded data removed]",
      "text/plain": [
       "<Figure size 432x288 with 1 Axes>"
      ]
     },
     "metadata": {
      "needs_background": "light"
     },
     "output_type": "display_data"
    }
   ],
   "source": [
    "df.fr.hist(bins=100)"
   ]
  },
  {
   "cell_type": "code",
   "execution_count": 48,
   "metadata": {},
   "outputs": [
    {
     "data": {
      "text/plain": [
       "<matplotlib.axes._subplots.AxesSubplot at 0x7f646c5c1650>"
      ]
     },
     "execution_count": 48,
     "metadata": {},
     "output_type": "execute_result"
    },
    {
     "data": {
      "image/png": "[encoded data removed]",
      "text/plain": [
       "<Figure size 432x288 with 1 Axes>"
      ]
     },
     "metadata": {
      "needs_background": "light"
     },
     "output_type": "display_data"
    }
   ],
   "source": [
    "df[\n",
    "    (df['isi_viol'] < 0.5)\n",
    "    & (df['depth'] > 800)\n",
    "    & (df['depth'] < 3800)\n",
    "].fr.hist(bins=100)"
   ]
  },
  {
   "cell_type": "code",
   "execution_count": null,
   "metadata": {},
   "outputs": [],
   "source": []
  }
 ],
 "metadata": {
  "kernelspec": {
   "display_name": "Python 3",
   "language": "python",
   "name": "python3"
  },
  "language_info": {
   "codemirror_mode": {
    "name": "ipython",
    "version": 3
   },
   "file_extension": ".py",
   "mimetype": "text/x-python",
   "name": "python",
   "nbconvert_exporter": "python",
   "pygments_lexer": "ipython3",
   "version": "3.7.7"
  }
 },
 "nbformat": 4,
 "nbformat_minor": 4
}
