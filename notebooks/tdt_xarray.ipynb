{
 "cells": [
  {
   "cell_type": "code",
   "execution_count": 1,
   "metadata": {
    "execution": {
     "iopub.execute_input": "2021-06-29T00:56:07.193411Z",
     "iopub.status.busy": "2021-06-29T00:56:07.192271Z",
     "iopub.status.idle": "2021-06-29T00:56:07.206396Z",
     "shell.execute_reply": "2021-06-29T00:56:07.205896Z",
     "shell.execute_reply.started": "2021-06-29T00:56:07.193378Z"
    }
   },
   "outputs": [],
   "source": [
    "%load_ext autoreload\n",
    "%autoreload 2"
   ]
  },
  {
   "cell_type": "code",
   "execution_count": 127,
   "metadata": {
    "execution": {
     "iopub.execute_input": "2021-06-29T01:42:28.640167Z",
     "iopub.status.busy": "2021-06-29T01:42:28.639672Z",
     "iopub.status.idle": "2021-06-29T01:42:28.662155Z",
     "shell.execute_reply": "2021-06-29T01:42:28.661456Z",
     "shell.execute_reply.started": "2021-06-29T01:42:28.640105Z"
    }
   },
   "outputs": [],
   "source": [
    "import numpy as np\n",
    "import pandas as pd\n",
    "import xarray as xr\n",
    "import tdt\n",
    "from collections.abc import Iterable"
   ]
  },
  {
   "cell_type": "code",
   "execution_count": 5,
   "metadata": {
    "execution": {
     "iopub.execute_input": "2021-06-29T00:56:26.452120Z",
     "iopub.status.busy": "2021-06-29T00:56:26.451664Z",
     "iopub.status.idle": "2021-06-29T00:56:26.475056Z",
     "shell.execute_reply": "2021-06-29T00:56:26.474413Z",
     "shell.execute_reply.started": "2021-06-29T00:56:26.452064Z"
    }
   },
   "outputs": [
    {
     "data": {
      "text/plain": [
       "<xarray.core.options.set_options at 0x7f4ecb7b1cd0>"
      ]
     },
     "execution_count": 5,
     "metadata": {},
     "output_type": "execute_result"
    }
   ],
   "source": [
    "xr.set_options(keep_attrs=True)"
   ]
  },
  {
   "cell_type": "code",
   "execution_count": 202,
   "metadata": {
    "execution": {
     "iopub.execute_input": "2021-06-29T02:18:15.624945Z",
     "iopub.status.busy": "2021-06-29T02:18:15.624461Z",
     "iopub.status.idle": "2021-06-29T02:18:15.646498Z",
     "shell.execute_reply": "2021-06-29T02:18:15.645622Z",
     "shell.execute_reply.started": "2021-06-29T02:18:15.624886Z"
    }
   },
   "outputs": [],
   "source": [
    "from pathlib import Path\n",
    "block_path = Path('/Volumes/paxilline/Data/PAX_3/PAX_3_TANK/PAX_3-sal3-bl')"
   ]
  },
  {
   "cell_type": "code",
   "execution_count": 203,
   "metadata": {
    "execution": {
     "iopub.execute_input": "2021-06-29T02:18:15.900402Z",
     "iopub.status.busy": "2021-06-29T02:18:15.900024Z",
     "iopub.status.idle": "2021-06-29T02:18:31.346288Z",
     "shell.execute_reply": "2021-06-29T02:18:31.345568Z",
     "shell.execute_reply.started": "2021-06-29T02:18:15.900356Z"
    }
   },
   "outputs": [
    {
     "name": "stdout",
     "output_type": "stream",
     "text": [
      "read from t=0s to t=86358.05s\n",
      "read from t=0s to t=86358.05s\n"
     ]
    }
   ],
   "source": [
    "store_names = load_store_names(block_path)\n",
    "channel_lists = load_channel_lists(block_path)"
   ]
  },
  {
   "cell_type": "code",
   "execution_count": 205,
   "metadata": {
    "execution": {
     "iopub.execute_input": "2021-06-29T02:18:42.525235Z",
     "iopub.status.busy": "2021-06-29T02:18:42.524706Z",
     "iopub.status.idle": "2021-06-29T02:18:42.547987Z",
     "shell.execute_reply": "2021-06-29T02:18:42.547329Z",
     "shell.execute_reply.started": "2021-06-29T02:18:42.525174Z"
    }
   },
   "outputs": [
    {
     "name": "stdout",
     "output_type": "stream",
     "text": [
      "Store name: EEG_\n",
      "Channels: [5, 6]\n"
     ]
    }
   ],
   "source": [
    "store_name = store_names[0]\n",
    "channels = channel_lists[store_name][-2:]\n",
    "print(f\"Store name: {store_name}\")\n",
    "print(f\"Channels: {channels}\")"
   ]
  },
  {
   "cell_type": "code",
   "execution_count": 208,
   "metadata": {
    "execution": {
     "iopub.execute_input": "2021-06-29T02:19:08.368001Z",
     "iopub.status.busy": "2021-06-29T02:19:08.367643Z",
     "iopub.status.idle": "2021-06-29T02:19:08.388437Z",
     "shell.execute_reply": "2021-06-29T02:19:08.387533Z",
     "shell.execute_reply.started": "2021-06-29T02:19:08.367965Z"
    }
   },
   "outputs": [],
   "source": [
    "start_time, end_time = (0, 60)"
   ]
  },
  {
   "cell_type": "code",
   "execution_count": 209,
   "metadata": {
    "execution": {
     "iopub.execute_input": "2021-06-29T02:19:10.882136Z",
     "iopub.status.busy": "2021-06-29T02:19:10.881891Z",
     "iopub.status.idle": "2021-06-29T02:19:10.903268Z",
     "shell.execute_reply": "2021-06-29T02:19:10.902317Z",
     "shell.execute_reply.started": "2021-06-29T02:19:10.882109Z"
    }
   },
   "outputs": [],
   "source": [
    "def load_store_names(block_path):\n",
    "    \"\"\"Get the names of each stream store in the block.\"\"\"\n",
    "    hdr = tdt.read_block(block_path, headers=True)\n",
    "    return [store.name for key, store in hdr.stores.items()]\n",
    "\n",
    "def load_channel_lists(block_path):\n",
    "    \"\"\"Get the list of channels associated with each stream store.\"\"\"\n",
    "    hdr = tdt.read_block(block_path, headers=True)\n",
    "    return {store.name: list(np.unique(store.chan)) for key, store in hdr.stores.items()}"
   ]
  },
  {
   "cell_type": "code",
   "execution_count": 218,
   "metadata": {
    "execution": {
     "iopub.execute_input": "2021-06-29T02:29:23.055452Z",
     "iopub.status.busy": "2021-06-29T02:29:23.054959Z",
     "iopub.status.idle": "2021-06-29T02:29:23.079402Z",
     "shell.execute_reply": "2021-06-29T02:29:23.078565Z",
     "shell.execute_reply.started": "2021-06-29T02:29:23.055392Z"
    }
   },
   "outputs": [],
   "source": [
    "def _load_stream_store(block_path, store_name, chans=None, start_time=0, end_time=0):\n",
    "    \"\"\"Load a single stream store from disk.\n",
    "    \n",
    "    Parameters:\n",
    "    -----------\n",
    "    block_path: \n",
    "        Path to the TDT block directory which contains files of type .Tbk, .tev, .tsq, etc. \n",
    "    store_name: string\n",
    "        The name of the stream store to load.\n",
    "    chans: Iterable, optional, default: None\n",
    "        The list of channels to load, as they appear in Synapse/OpenEx. These will be 1-indexed, \n",
    "        rather than 0-indexed. Passing `None` (default) loads all channels. \n",
    "    start_time: float, optional, default: 0\n",
    "        Start time of the data to load, relative to the file start, in seconds. \n",
    "    end_time: float, optional, default: 0\n",
    "        End time of the data to load, relative to the file start, in seconds.\n",
    "        Passing `0` (default) will load until the end of the file.  \n",
    "    \n",
    "    Returns:\n",
    "    --------\n",
    "    info: tdt.StructType\n",
    "        The `info` field of a tdt `blk` struct, used to get the file start time.\n",
    "    store: tdt.StructType\n",
    "        The store field of a tdt `blk.streams` struct, which contains the data. \n",
    "    \"\"\"\n",
    "    assert store_name not in [\n",
    "        \"epocs\",\n",
    "        \"snips\",\n",
    "        \"streams\",\n",
    "        \"scalars\",\n",
    "        \"info\",\n",
    "        \"time_ranges\",\n",
    "    ]\n",
    "\n",
    "    read_block_kwargs = dict(store=[\"info\", store_name], t1=start_time, t2=end_time)\n",
    "    if chans:\n",
    "        assert isinstance(chans, Iterable)\n",
    "        assert 0 not in chans, \"Passing 0 to tdt.read_block will load all channels.\"\n",
    "        read_block_kwargs.update(channel=chans)\n",
    "\n",
    "    blk = tdt.read_block(block_path, **read_block_kwargs)\n",
    "    return blk.info, blk.streams[store_name]"
   ]
  },
  {
   "cell_type": "code",
   "execution_count": 211,
   "metadata": {
    "execution": {
     "iopub.execute_input": "2021-06-29T02:19:25.143531Z",
     "iopub.status.busy": "2021-06-29T02:19:25.143041Z",
     "iopub.status.idle": "2021-06-29T02:19:25.937476Z",
     "shell.execute_reply": "2021-06-29T02:19:25.936502Z",
     "shell.execute_reply.started": "2021-06-29T02:19:25.143470Z"
    }
   },
   "outputs": [
    {
     "name": "stdout",
     "output_type": "stream",
     "text": [
      "read from t=0s to t=5991.81s\n"
     ]
    }
   ],
   "source": [
    "info, store = _load_stream_store(block_path, store_name, chans=channels, start_time=start_time, end_time=end_time)"
   ]
  },
  {
   "cell_type": "code",
   "execution_count": 212,
   "metadata": {
    "execution": {
     "iopub.execute_input": "2021-06-29T02:19:27.188215Z",
     "iopub.status.busy": "2021-06-29T02:19:27.187771Z",
     "iopub.status.idle": "2021-06-29T02:19:27.214745Z",
     "shell.execute_reply": "2021-06-29T02:19:27.213889Z",
     "shell.execute_reply.started": "2021-06-29T02:19:27.188160Z"
    }
   },
   "outputs": [],
   "source": [
    "def stream_store_to_xarray(info, store):\n",
    "    \"\"\"Convert a single stream store to xarray format.\n",
    "    \n",
    "    Paramters:\n",
    "    ----------\n",
    "    info: tdt.StructType\n",
    "        The `info` field of a tdt `blk` struct, as returned by `_load_stream_store`.\n",
    "    store: tdt.StructType\n",
    "        The store field of a tdt `blk.streams` struct, as returned by `_load_stream_store`.\n",
    "        \n",
    "    Returns:\n",
    "    --------\n",
    "    data: xr.DataArray (n_samples, n_channels)\n",
    "        Values: The data, in microvolts. \n",
    "        Attrs: units, fs\n",
    "        Name: The store name\n",
    "    \"\"\"  \n",
    "    n_channels, n_samples = store.data.shape\n",
    "\n",
    "    time = np.arange(0, n_samples) / store.fs\n",
    "    timedelta = pd.to_timedelta(time, \"s\")\n",
    "    datetime = pd.to_datetime(info.start_date) + timedelta\n",
    "\n",
    "    volts_to_microvolts = 1e6\n",
    "    data = xr.DataArray(\n",
    "        store.data.T * volts_to_microvolts,\n",
    "        dims=(\"time\", \"channel\"),\n",
    "        coords={\n",
    "            \"time\": time,\n",
    "            \"channel\": store.channel,\n",
    "            \"timedelta\": (\"time\", timedelta),\n",
    "            \"datetime\": (\"time\", datetime),\n",
    "        },\n",
    "        name=store.name,\n",
    "    )\n",
    "    data.attrs[\"units\"] = \"uV\"\n",
    "    data.attrs[\"fs\"] = store.fs\n",
    "\n",
    "    return data"
   ]
  },
  {
   "cell_type": "code",
   "execution_count": 221,
   "metadata": {
    "execution": {
     "iopub.execute_input": "2021-06-29T02:33:41.455037Z",
     "iopub.status.busy": "2021-06-29T02:33:41.454549Z",
     "iopub.status.idle": "2021-06-29T02:33:41.476445Z",
     "shell.execute_reply": "2021-06-29T02:33:41.475633Z",
     "shell.execute_reply.started": "2021-06-29T02:33:41.454977Z"
    }
   },
   "outputs": [],
   "source": [
    "def load_stream_store(*args, **kwargs):\n",
    "    \"\"\"Load a single stream store from disk and convert to xarray format.\n",
    "    \n",
    "    Parameters:\n",
    "    -----------\n",
    "    block_path: \n",
    "        Path to the TDT block directory which contains files of type .Tbk, .tev, .tsq, etc. \n",
    "    store_name: string\n",
    "        The name of the stream store to load.\n",
    "    chans: Iterable, optional, default: None\n",
    "        The list of channels to load, as they appear in Synapse/OpenEx. These will be 1-indexed, \n",
    "        rather than 0-indexed. Passing `None` (default) loads all channels. \n",
    "    start_time: float, optional, default: 0\n",
    "        Start time of the data to load, relative to the file start, in seconds. \n",
    "    end_time: float, optional, default: 0\n",
    "        End time of the data to load, relative to the file start, in seconds.\n",
    "        Passing `0` (default) will load until the end of the file. \n",
    "        \n",
    "    Returns:\n",
    "    --------\n",
    "    data: xr.DataArray (n_samples, n_channels)\n",
    "        Values: The data, in microvolts. \n",
    "        Attrs: units, fs\n",
    "        Name: The store name\n",
    "    \"\"\"  \n",
    "    info, store = _load_stream_store(*args, **kwargs)\n",
    "    return stream_store_to_xarray(info, store)"
   ]
  },
  {
   "cell_type": "code",
   "execution_count": 214,
   "metadata": {
    "execution": {
     "iopub.execute_input": "2021-06-29T02:19:38.079396Z",
     "iopub.status.busy": "2021-06-29T02:19:38.078908Z",
     "iopub.status.idle": "2021-06-29T02:19:38.903667Z",
     "shell.execute_reply": "2021-06-29T02:19:38.902782Z",
     "shell.execute_reply.started": "2021-06-29T02:19:38.079336Z"
    }
   },
   "outputs": [
    {
     "name": "stdout",
     "output_type": "stream",
     "text": [
      "read from t=0s to t=5991.81s\n"
     ]
    }
   ],
   "source": [
    "sig = load_stream_store(block_path, store_name, chans=channels, start_time=start_time, end_time=end_time)"
   ]
  },
  {
   "cell_type": "code",
   "execution_count": 215,
   "metadata": {
    "execution": {
     "iopub.execute_input": "2021-06-29T02:19:43.708426Z",
     "iopub.status.busy": "2021-06-29T02:19:43.707942Z",
     "iopub.status.idle": "2021-06-29T02:19:43.731401Z",
     "shell.execute_reply": "2021-06-29T02:19:43.730566Z",
     "shell.execute_reply.started": "2021-06-29T02:19:43.708365Z"
    }
   },
   "outputs": [],
   "source": [
    "def load_block(block_path, start_time=0, end_time=0):\n",
    "    \"\"\"Load all stream stores in a block.\"\"\"\n",
    "    store_names = load_store_names(block_path)\n",
    "    store_data = dict()\n",
    "    for name in store_names:\n",
    "        store_data[name] = load_stream_store(block_path, store_name, start_time=start_time, end_time=end_time)\n",
    "    \n",
    "    return store_data"
   ]
  },
  {
   "cell_type": "code",
   "execution_count": 216,
   "metadata": {
    "execution": {
     "iopub.execute_input": "2021-06-29T02:19:50.633791Z",
     "iopub.status.busy": "2021-06-29T02:19:50.633304Z",
     "iopub.status.idle": "2021-06-29T02:20:00.570385Z",
     "shell.execute_reply": "2021-06-29T02:20:00.569680Z",
     "shell.execute_reply.started": "2021-06-29T02:19:50.633733Z"
    }
   },
   "outputs": [
    {
     "name": "stdout",
     "output_type": "stream",
     "text": [
      "read from t=0s to t=86358.05s\n",
      "read from t=0s to t=5991.81s\n",
      "read from t=0s to t=5991.81s\n",
      "read from t=0s to t=5991.81s\n"
     ]
    }
   ],
   "source": [
    "d = load_block(block_path, start_time=start_time, end_time=end_time)"
   ]
  },
  {
   "cell_type": "code",
   "execution_count": null,
   "metadata": {},
   "outputs": [],
   "source": []
  }
 ],
 "metadata": {
  "kernelspec": {
   "display_name": "Python 3",
   "language": "python",
   "name": "python3"
  },
  "language_info": {
   "codemirror_mode": {
    "name": "ipython",
    "version": 3
   },
   "file_extension": ".py",
   "mimetype": "text/x-python",
   "name": "python",
   "nbconvert_exporter": "python",
   "pygments_lexer": "ipython3",
   "version": "3.7.9"
  }
 },
 "nbformat": 4,
 "nbformat_minor": 4
}
