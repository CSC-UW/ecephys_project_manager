{
 "cells": [
  {
   "cell_type": "code",
   "execution_count": 1,
   "metadata": {
    "execution": {
     "iopub.execute_input": "2021-06-29T04:11:36.393054Z",
     "iopub.status.busy": "2021-06-29T04:11:36.392589Z",
     "iopub.status.idle": "2021-06-29T04:11:36.411415Z",
     "shell.execute_reply": "2021-06-29T04:11:36.410308Z",
     "shell.execute_reply.started": "2021-06-29T04:11:36.392996Z"
    }
   },
   "outputs": [],
   "source": [
    "%load_ext autoreload\n",
    "%autoreload 2"
   ]
  },
  {
   "cell_type": "code",
   "execution_count": 2,
   "metadata": {
    "execution": {
     "iopub.execute_input": "2021-06-29T04:11:37.020295Z",
     "iopub.status.busy": "2021-06-29T04:11:37.019860Z",
     "iopub.status.idle": "2021-06-29T04:11:37.294268Z",
     "shell.execute_reply": "2021-06-29T04:11:37.293161Z",
     "shell.execute_reply.started": "2021-06-29T04:11:37.020238Z"
    }
   },
   "outputs": [],
   "source": [
    "import tdt_xarray as txr"
   ]
  },
  {
   "cell_type": "code",
   "execution_count": 3,
   "metadata": {
    "execution": {
     "iopub.execute_input": "2021-06-29T04:11:44.301974Z",
     "iopub.status.busy": "2021-06-29T04:11:44.301493Z",
     "iopub.status.idle": "2021-06-29T04:11:44.319976Z",
     "shell.execute_reply": "2021-06-29T04:11:44.319188Z",
     "shell.execute_reply.started": "2021-06-29T04:11:44.301913Z"
    }
   },
   "outputs": [],
   "source": [
    "from pathlib import Path\n",
    "block_path = Path('/Volumes/paxilline/Data/PAX_3/PAX_3_TANK/PAX_3-sal3-bl')"
   ]
  },
  {
   "cell_type": "code",
   "execution_count": 4,
   "metadata": {
    "execution": {
     "iopub.execute_input": "2021-06-29T04:12:38.195988Z",
     "iopub.status.busy": "2021-06-29T04:12:38.195506Z",
     "iopub.status.idle": "2021-06-29T04:12:52.547530Z",
     "shell.execute_reply": "2021-06-29T04:12:52.546757Z",
     "shell.execute_reply.started": "2021-06-29T04:12:38.195929Z"
    }
   },
   "outputs": [
    {
     "name": "stdout",
     "output_type": "stream",
     "text": [
      "read from t=0s to t=86358.05s\n",
      "read from t=0s to t=86358.05s\n",
      "Store names: ['EEG_', 'EEGr', 'EMGr']\n",
      "Channel lists: {'EEG_': [1, 2, 3, 4, 5, 6], 'EEGr': [1, 2, 3, 4, 5, 6], 'EMGr': [1, 2]}\n"
     ]
    }
   ],
   "source": [
    "store_names = txr.load_store_names(block_path)\n",
    "channel_lists = txr.load_channel_lists(block_path)\n",
    "print(f\"Store names: {store_names}\")\n",
    "print(f\"Channel lists: {channel_lists}\")"
   ]
  },
  {
   "cell_type": "code",
   "execution_count": 13,
   "metadata": {
    "execution": {
     "iopub.execute_input": "2021-06-29T04:18:13.243910Z",
     "iopub.status.busy": "2021-06-29T04:18:13.243425Z",
     "iopub.status.idle": "2021-06-29T04:18:13.264348Z",
     "shell.execute_reply": "2021-06-29T04:18:13.263684Z",
     "shell.execute_reply.started": "2021-06-29T04:18:13.243847Z"
    }
   },
   "outputs": [
    {
     "name": "stdout",
     "output_type": "stream",
     "text": [
      "Store name: EEGr\n",
      "Channels: [1, 3, 6]\n"
     ]
    }
   ],
   "source": [
    "store_name = 'EEGr'\n",
    "channels = [1, 3, 6]\n",
    "print(f\"Store name: {store_name}\")\n",
    "print(f\"Channels: {channels}\")"
   ]
  },
  {
   "cell_type": "code",
   "execution_count": 14,
   "metadata": {
    "execution": {
     "iopub.execute_input": "2021-06-29T04:18:15.494355Z",
     "iopub.status.busy": "2021-06-29T04:18:15.494075Z",
     "iopub.status.idle": "2021-06-29T04:18:15.509906Z",
     "shell.execute_reply": "2021-06-29T04:18:15.509106Z",
     "shell.execute_reply.started": "2021-06-29T04:18:15.494322Z"
    }
   },
   "outputs": [],
   "source": [
    "start_time, end_time = (0, 60)"
   ]
  },
  {
   "cell_type": "code",
   "execution_count": 15,
   "metadata": {
    "execution": {
     "iopub.execute_input": "2021-06-29T04:18:43.731649Z",
     "iopub.status.busy": "2021-06-29T04:18:43.731137Z",
     "iopub.status.idle": "2021-06-29T04:18:44.466834Z",
     "shell.execute_reply": "2021-06-29T04:18:44.466107Z",
     "shell.execute_reply.started": "2021-06-29T04:18:43.731584Z"
    }
   },
   "outputs": [
    {
     "name": "stdout",
     "output_type": "stream",
     "text": [
      "read from t=0s to t=5991.81s\n"
     ]
    }
   ],
   "source": [
    "info, store = txr.tdt_xarray._load_stream_store(block_path, store_name, chans=channels, start_time=start_time, end_time=end_time)"
   ]
  },
  {
   "cell_type": "code",
   "execution_count": 16,
   "metadata": {
    "execution": {
     "iopub.execute_input": "2021-06-29T04:18:44.541750Z",
     "iopub.status.busy": "2021-06-29T04:18:44.541628Z",
     "iopub.status.idle": "2021-06-29T04:18:45.264537Z",
     "shell.execute_reply": "2021-06-29T04:18:45.263819Z",
     "shell.execute_reply.started": "2021-06-29T04:18:44.541734Z"
    }
   },
   "outputs": [
    {
     "name": "stdout",
     "output_type": "stream",
     "text": [
      "read from t=0s to t=5991.81s\n"
     ]
    }
   ],
   "source": [
    "sig = txr.load_stream_store(block_path, store_name, chans=channels, start_time=start_time, end_time=end_time)"
   ]
  },
  {
   "cell_type": "code",
   "execution_count": 17,
   "metadata": {
    "execution": {
     "iopub.execute_input": "2021-06-29T04:18:46.040882Z",
     "iopub.status.busy": "2021-06-29T04:18:46.040419Z",
     "iopub.status.idle": "2021-06-29T04:18:55.217879Z",
     "shell.execute_reply": "2021-06-29T04:18:55.217027Z",
     "shell.execute_reply.started": "2021-06-29T04:18:46.040824Z"
    }
   },
   "outputs": [
    {
     "name": "stdout",
     "output_type": "stream",
     "text": [
      "read from t=0s to t=86358.05s\n",
      "read from t=0s to t=5991.81s\n",
      "read from t=0s to t=5991.81s\n",
      "read from t=0s to t=5991.81s\n"
     ]
    }
   ],
   "source": [
    "d = txr.load_block(block_path, start_time=start_time, end_time=end_time)"
   ]
  },
  {
   "cell_type": "code",
   "execution_count": 21,
   "metadata": {
    "execution": {
     "iopub.execute_input": "2021-06-29T04:19:17.703717Z",
     "iopub.status.busy": "2021-06-29T04:19:17.703233Z",
     "iopub.status.idle": "2021-06-29T04:19:17.727737Z",
     "shell.execute_reply": "2021-06-29T04:19:17.726330Z",
     "shell.execute_reply.started": "2021-06-29T04:19:17.703654Z"
    }
   },
   "outputs": [
    {
     "name": "stdout",
     "output_type": "stream",
     "text": [
      "<xarray.DataArray 'EEGr' (time: 91553, channel: 3)>\n",
      "array([[  3.136    ,  57.407997 ,  24.703999 ],\n",
      "       [ 19.904    ,  59.519997 ,  16.64     ],\n",
      "       [ 11.903999 ,  57.024    ,  15.487998 ],\n",
      "       ...,\n",
      "       [  4.8639994, -24.895998 ,   5.568    ],\n",
      "       [  6.8479996, -22.463999 ,   5.7599998],\n",
      "       [ 20.735998 ,  -7.3599997,   2.4319997]], dtype=float32)\n",
      "Coordinates:\n",
      "  * time       (time) float64 0.0 0.0006554 0.001311 0.001966 ... 60.0 60.0 60.0\n",
      "  * channel    (channel) int64 1 3 6\n",
      "    timedelta  (time) timedelta64[ns] 00:00:00 ... 00:00:59.999518720\n",
      "    datetime   (time) datetime64[ns] 2021-04-21T09:08:28.999999 ... 2021-04-2...\n",
      "Attributes:\n",
      "    units:    uV\n",
      "    fs:       1525.87890625\n"
     ]
    }
   ],
   "source": [
    "print(sig)"
   ]
  },
  {
   "cell_type": "code",
   "execution_count": null,
   "metadata": {},
   "outputs": [],
   "source": []
  }
 ],
 "metadata": {
  "kernelspec": {
   "display_name": "Python 3",
   "language": "python",
   "name": "python3"
  },
  "language_info": {
   "codemirror_mode": {
    "name": "ipython",
    "version": 3
   },
   "file_extension": ".py",
   "mimetype": "text/x-python",
   "name": "python",
   "nbconvert_exporter": "python",
   "pygments_lexer": "ipython3",
   "version": "3.7.9"
  }
 },
 "nbformat": 4,
 "nbformat_minor": 4
}
