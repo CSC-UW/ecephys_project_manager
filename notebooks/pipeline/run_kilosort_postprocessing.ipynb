{
 "cells": [
  {
   "cell_type": "code",
   "execution_count": null,
   "metadata": {
    "tags": []
   },
   "outputs": [],
   "source": [
    "%load_ext autoreload\n",
    "%autoreload 2"
   ]
  },
  {
   "cell_type": "code",
   "execution_count": null,
   "metadata": {},
   "outputs": [],
   "source": [
    "from ecephys_analyses.data import paths\n",
    "from ecephys_analyses.sorting.postprocessing import run_postprocessing"
   ]
  },
  {
   "cell_type": "code",
   "execution_count": null,
   "metadata": {},
   "outputs": [],
   "source": [
    "## USER\n",
    "\n",
    "ks_sorting_condition = 'ks2_5_catgt_Th=12-10_lam=50_8s-batches'\n",
    "\n",
    "postprocessing_condition = 'postpro_1'\n",
    "\n",
    "##########\n",
    "## Manual:\n",
    "# Subject, condition, catgt_data\n",
    "data_conditions = [\n",
    "#     ('Eugene', '10-9-2020_NREM_depth1.5_imec0', True),\n",
    "#     ('Eugene', '10-19-2020_NREM_depth1.5_imec0', True),\n",
    "]\n",
    "##########\n",
    "## Auto\n",
    "\n",
    "condition_groups = [\n",
    "    ('Allan', 'SD'),\n",
    "    ('Doppio', 'SD'),\n",
    "    ('Luigi', 'SD'),\n",
    "]\n",
    "\n",
    "data_conditions = []\n",
    "for subject, condition_group in condition_groups:\n",
    "    data_conditions += [\n",
    "        (subject, cond)\n",
    "        for cond in paths.get_conditions(subject, condition_group)\n",
    "    ]\n",
    "print(f'Data condition N={len(data_conditions)} (Looks good?): {data_conditions}')\n",
    "\n",
    "#########\n",
    "\n",
    "\n",
    "n_jobs = 1  # Don't parallelize (possibly messed up tmp directories?)\n",
    "assert n_jobs == 1\n",
    "\n",
    "## end USER"
   ]
  },
  {
   "cell_type": "code",
   "execution_count": null,
   "metadata": {},
   "outputs": [],
   "source": [
    "for (subject, condition) in data_conditions:\n",
    "    print(subject, condition, ks_sorting_condition, postprocessing_condition)\n",
    "    run_postprocessing(\n",
    "        subject,\n",
    "        condition,\n",
    "        ks_sorting_condition,\n",
    "        postprocessing_condition,\n",
    "        rerun_existing=False\n",
    "    )"
   ]
  }
 ],
 "metadata": {
  "kernelspec": {
   "display_name": "Python 3",
   "language": "python",
   "name": "python3"
  },
  "language_info": {
   "codemirror_mode": {
    "name": "ipython",
    "version": 3
   },
   "file_extension": ".py",
   "mimetype": "text/x-python",
   "name": "python",
   "nbconvert_exporter": "python",
   "pygments_lexer": "ipython3",
   "version": "3.7.7"
  }
 },
 "nbformat": 4,
 "nbformat_minor": 4
}
