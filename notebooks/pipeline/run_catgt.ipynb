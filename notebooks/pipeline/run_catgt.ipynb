{
 "cells": [
  {
   "cell_type": "markdown",
   "metadata": {},
   "source": [
    "- Time to concatenate 24 hours of LFP (12x 2hr files) = 30 minutes. \n",
    "- Size of 24 hours of LFP = ~160 GB"
   ]
  },
  {
   "cell_type": "code",
   "execution_count": null,
   "metadata": {
    "execution": {
     "iopub.execute_input": "2020-12-31T20:00:58.806552Z",
     "iopub.status.busy": "2020-12-31T20:00:58.806111Z",
     "iopub.status.idle": "2020-12-31T20:00:58.823039Z",
     "shell.execute_reply": "2020-12-31T20:00:58.821897Z",
     "shell.execute_reply.started": "2020-12-31T20:00:58.806495Z"
    }
   },
   "outputs": [],
   "source": [
    "%load_ext autoreload\n",
    "%autoreload 2"
   ]
  },
  {
   "cell_type": "code",
   "execution_count": null,
   "metadata": {
    "execution": {
     "iopub.execute_input": "2020-12-31T20:00:59.955640Z",
     "iopub.status.busy": "2020-12-31T20:00:59.955323Z",
     "iopub.status.idle": "2020-12-31T20:01:00.496425Z",
     "shell.execute_reply": "2020-12-31T20:01:00.495867Z",
     "shell.execute_reply.started": "2020-12-31T20:00:59.955600Z"
    }
   },
   "outputs": [],
   "source": [
    "import subprocess\n",
    "from pathlib import Path\n",
    "from datetime import datetime\n",
    "from joblib import Parallel, delayed\n",
    "from ecephys.sglx_utils.cat_gt import get_catGT_command"
   ]
  },
  {
   "cell_type": "code",
   "execution_count": null,
   "metadata": {},
   "outputs": [],
   "source": [
    "def get_run_specs(subject, condition_group):\n",
    "    from ecephys_analyses.data import paths\n",
    "    from ecephys_analyses.data.channel_groups import full_names\n",
    "    from ecephys.data.paths import parse_sglx_stem\n",
    "    conditions = paths.get_conditions(subject, condition_group)\n",
    "    datapath_dict = paths.load_datapath_yaml()\n",
    "    all_run_specs = []\n",
    "    for cond in conditions:\n",
    "        cond_spec = datapath_dict[subject][cond]\n",
    "        # Name\n",
    "        full_name = full_names[subject]\n",
    "        # exp\n",
    "        assert len(cond_spec.keys()) == 1\n",
    "        exp = list(cond_spec.keys())[0]\n",
    "        # run\n",
    "        stems = cond_spec[exp]\n",
    "        assert len(stems) == 1\n",
    "        run, gate, trig, probe = parse_sglx_stem(stems[0])\n",
    "        all_run_specs.append(\n",
    "            tuple([full_name, exp, run, {\n",
    "                'g': gate.split('g')[1],\n",
    "                'prb': probe.split('imec')[1],\n",
    "                't': trig.split('t')[1],\n",
    "            }])\n",
    "        )\n",
    "    return all_run_specs"
   ]
  },
  {
   "cell_type": "code",
   "execution_count": null,
   "metadata": {},
   "outputs": [],
   "source": [
    "# ----------\n",
    "# USER\n",
    "\n",
    "analysis_id = 'tom/catgt'\n",
    "\n",
    "catgt_base_cfg = {\n",
    "    'aphipass': 300,\n",
    "    'aplopass': 9000,\n",
    "    'gbldmx': True,\n",
    "    'gfix': '0.40,0.10,0.02',\n",
    "}  # Applied to all\n",
    "\n",
    "sync_channel = 384  # Applied to all\n",
    "\n",
    "###\n",
    "####\n",
    "######## Manual\n",
    "# Subject, experiment, run, catgt_cfg\n",
    "# catGT_cfg must contains the following keys: run, t, g, prb, \n",
    "# all_run_specs = [\n",
    "#     ('CNPIX8-Allan', '3-5-2021', '3-5-2021',    {'g': '2', 'prb': '0', 't': '0,0',}), \n",
    "#     ('CNPIX5-Alessandro', '8-31-2020', '8-31-2020_REMStim',    {'g': '0', 'prb': '0', 't': '0,0',}), \n",
    "# ]\n",
    "########## Auto\n",
    "subject, condition_group = 'Eugene', 'eStim'\n",
    "all_run_specs = get_run_specs(subject, condition_group)\n",
    "print(f\"N runs = {len(all_run_specs)}\")\n",
    "print(f\"run specs (first 5). ```subject, experiment, run, catgt_cfg``` Looks good?: {all_run_specs[0:5]}\")\n",
    "####\n",
    "####\n",
    "####\n",
    "\n",
    "\n",
    "ap = True\n",
    "lf = False\n",
    "\n",
    "n_jobs = 5\n",
    "\n",
    "dry_run=False  # Creates output dirs, doesn't run catGT\n",
    "\n",
    "# END USER\n",
    "# ----------"
   ]
  },
  {
   "cell_type": "code",
   "execution_count": null,
   "metadata": {},
   "outputs": [],
   "source": [
    "ANALYSIS_ROOT = '/Volumes/neuropixel/Data/'\n",
    "RAW_DATA_ROOT = '/Volumes/neuropixel_archive/Data/chronic'"
   ]
  },
  {
   "cell_type": "code",
   "execution_count": null,
   "metadata": {},
   "outputs": [],
   "source": [
    "CATGT_PATH = \"/Volumes/scratch/neuropixels/bin/CatGT-linux/runit.sh\"\n",
    "WINE_PATH = None"
   ]
  },
  {
   "cell_type": "code",
   "execution_count": null,
   "metadata": {},
   "outputs": [],
   "source": [
    "def run_catgt(run_specs, dry_run=dry_run):\n",
    "    subj_id, exp_id, run_id, run_catgt_cfg = run_specs\n",
    "    \n",
    "    catgt_cfg = {\n",
    "        **run_catgt_cfg,\n",
    "        **catgt_base_cfg,\n",
    "    }\n",
    "    \n",
    "    for key in ['g', 't', 'prb']:\n",
    "        assert key in catgt_cfg\n",
    "    \n",
    "    src_dir = Path(RAW_DATA_ROOT)/subj_id/exp_id\n",
    "    dest_dir = Path(ANALYSIS_ROOT)/analysis_id/subj_id/exp_id\n",
    "    dest_dir.mkdir(parents=True, exist_ok=True)\n",
    "    \n",
    "    cmd = get_catGT_command(\n",
    "        catGT_path=CATGT_PATH,\n",
    "        wine_path=WINE_PATH,\n",
    "        dir=str(src_dir),\n",
    "        dest=str(dest_dir),\n",
    "        run=run_id,\n",
    "        ap=ap,\n",
    "        lf=lf,\n",
    "        SY=f\"{catgt_cfg['prb']},{sync_channel},6,500\",\n",
    "        prb_fld=True,\n",
    "        out_prb_fld=True,\n",
    "        **catgt_cfg,\n",
    "    )\n",
    "    \n",
    "\n",
    "    start = datetime.now()\n",
    "    print(f\"Running {cmd}\")\n",
    "    if not dry_run:\n",
    "        process = subprocess.run(cmd, shell=True, capture_output=True, text=True)\n",
    "    end = datetime.now()\n",
    "\n",
    "    print(f\"{end.strftime('%H:%M:%S')}: Finished {subj_id}, {run_id}. Run time = {str(end - start)}\")"
   ]
  },
  {
   "cell_type": "code",
   "execution_count": null,
   "metadata": {},
   "outputs": [],
   "source": [
    "if n_jobs == 1:\n",
    "    for run_specs in all_run_specs:\n",
    "        print(run_specs)\n",
    "        run_catgt(run_specs)\n",
    "else:\n",
    "    parallel = Parallel(\n",
    "        n_jobs=n_jobs,\n",
    "        backend='multiprocessing',\n",
    "    )(delayed(run_catgt)(run_specs) for run_specs in all_run_specs)"
   ]
  },
  {
   "cell_type": "code",
   "execution_count": null,
   "metadata": {},
   "outputs": [],
   "source": []
  }
 ],
 "metadata": {
  "kernelspec": {
   "display_name": "Python 3",
   "language": "python",
   "name": "python3"
  },
  "language_info": {
   "codemirror_mode": {
    "name": "ipython",
    "version": 3
   },
   "file_extension": ".py",
   "mimetype": "text/x-python",
   "name": "python",
   "nbconvert_exporter": "python",
   "pygments_lexer": "ipython3",
   "version": "3.7.7"
  }
 },
 "nbformat": 4,
 "nbformat_minor": 4
}
