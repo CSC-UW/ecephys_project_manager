{
 "cells": [
  {
   "cell_type": "markdown",
   "metadata": {},
   "source": [
    "- Time to concatenate 24 hours of LFP (12x 2hr files) = 30 minutes. \n",
    "- Size of 24 hours of LFP = ~160 GB"
   ]
  },
  {
   "cell_type": "code",
   "execution_count": null,
   "metadata": {
    "tags": []
   },
   "outputs": [],
   "source": [
    "%load_ext autoreload\n",
    "%autoreload 2"
   ]
  },
  {
   "cell_type": "code",
   "execution_count": null,
   "metadata": {
    "tags": []
   },
   "outputs": [],
   "source": [
    "from joblib import Parallel, delayed\n",
    "\n",
    "from ecephys_analyses.prepro import get_run_specs, run_catgt"
   ]
  },
  {
   "cell_type": "code",
   "execution_count": null,
   "metadata": {},
   "outputs": [],
   "source": [
    "# ----------\n",
    "# USER\n",
    "\n",
    "####\n",
    "######## Manual\n",
    "# Subject, experiment, run, catgt_cfg\n",
    "# catGT_cfg must contains the following keys: run, t, g, prb, \n",
    "# all_run_specs = [\n",
    "#     ('CNPIX3-Valentino', '2-19-2020', '2-19-2020',    {'g': '1', 'prb': '0', 't': '4,4',}), \n",
    "# ]\n",
    "########## Auto generation of bins to process\n",
    "\n",
    "# [(<subject>, <condition_group>), ]\n",
    "condition_groups = [\n",
    "    ('Doppio', 'SD_catgt'),\n",
    "    ('Allan', 'SD_catgt'),\n",
    "    ('Luigi', 'SD_catgt'),\n",
    "    ('Charles', 'SD_catgt'),\n",
    "]\n",
    "\n",
    "rerun_existing=False  # Pass if output meta file exists\n",
    "\n",
    "all_run_specs = []\n",
    "for subject, condition_group in condition_groups:\n",
    "    all_run_specs += get_run_specs(subject, condition_group, rerun_existing=rerun_existing)\n",
    "print(f\"N runs (rerun_existing={rerun_existing}) = {len(all_run_specs)}\")\n",
    "print(f\"run specs (first 5). ```subject, experiment, run, catgt_cfg``` Looks good?: {all_run_specs[0:5]}\")\n",
    "\n",
    "####\n",
    "####\n",
    "####\n",
    "\n",
    "n_jobs = 1\n",
    "\n",
    "dry_run = False\n",
    "\n",
    "# END USER\n",
    "# ----------"
   ]
  },
  {
   "cell_type": "code",
   "execution_count": null,
   "metadata": {},
   "outputs": [],
   "source": [
    "# Keys in roots.yml\n",
    "src_root_key = 'raw_chronic'\n",
    "tgt_root_key = 'catgt'"
   ]
  },
  {
   "cell_type": "code",
   "execution_count": null,
   "metadata": {},
   "outputs": [],
   "source": [
    "if n_jobs == 1:\n",
    "    for run_specs in all_run_specs:\n",
    "        print(run_specs)\n",
    "        run_catgt(run_specs, dry_run=dry_run, src_root_key=src_root_key, tgt_root_key=tgt_root_key)\n",
    "else:\n",
    "    assert False\n",
    "#     parallel = Parallel(\n",
    "#         n_jobs=n_jobs,\n",
    "#         backend='multiprocessing',\n",
    "#     )(delayed(run_catgt)(run_specs, dry_run=dry_run) for run_specs in all_run_specs)"
   ]
  },
  {
   "cell_type": "code",
   "execution_count": null,
   "metadata": {},
   "outputs": [],
   "source": []
  }
 ],
 "metadata": {
  "kernelspec": {
   "display_name": "Python 3",
   "language": "python",
   "name": "python3"
  },
  "language_info": {
   "codemirror_mode": {
    "name": "ipython",
    "version": 3
   },
   "file_extension": ".py",
   "mimetype": "text/x-python",
   "name": "python",
   "nbconvert_exporter": "python",
   "pygments_lexer": "ipython3",
   "version": "3.7.7"
  }
 },
 "nbformat": 4,
 "nbformat_minor": 4
}
