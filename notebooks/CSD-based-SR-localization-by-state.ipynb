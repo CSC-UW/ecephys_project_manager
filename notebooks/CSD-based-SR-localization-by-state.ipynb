{
 "cells": [
  {
   "cell_type": "code",
   "execution_count": null,
   "metadata": {},
   "outputs": [],
   "source": [
    "%load_ext autoreload\n",
    "%autoreload 2"
   ]
  },
  {
   "cell_type": "code",
   "execution_count": null,
   "metadata": {},
   "outputs": [],
   "source": [
    "%matplotlib widget\n",
    "import matplotlib.pyplot as plt\n",
    "import matplotlib.cm as cm"
   ]
  },
  {
   "cell_type": "code",
   "execution_count": null,
   "metadata": {},
   "outputs": [],
   "source": [
    "import numpy as np\n",
    "import pandas as pd\n",
    "import seaborn as sns\n",
    "from kcsd import KCSD1D\n",
    "from scipy.signal import find_peaks\n",
    "from scipy.ndimage import gaussian_filter1d\n",
    "from pathlib import Path"
   ]
  },
  {
   "cell_type": "code",
   "execution_count": null,
   "metadata": {},
   "outputs": [],
   "source": [
    "from ecephys.sglx_utils import load_timeseries\n",
    "from ecephys_analyses.data import channel_groups, paths\n",
    "from ecephys.plot import lfp_explorer, colormesh_timeseries_explorer\n",
    "from ecephys.signal.utils import mean_subtract, median_subtract\n",
    "from ecephys.signal.csd import get_kcsd"
   ]
  },
  {
   "cell_type": "code",
   "execution_count": null,
   "metadata": {},
   "outputs": [],
   "source": [
    "def get_csd(sig):\n",
    "    gdx = intersite_distance = 0.020\n",
    "    k = get_kcsd(\n",
    "        sig, intersite_distance=intersite_distance, gdx=gdx, do_lcurve=True\n",
    "    )\n",
    "    est_csd = k.values('CSD')\n",
    "    \n",
    "    return k.estm_x, est_csd"
   ]
  },
  {
   "cell_type": "code",
   "execution_count": 41,
   "metadata": {
    "execution": {
     "iopub.execute_input": "2021-03-17T19:15:16.936367Z",
     "iopub.status.busy": "2021-03-17T19:15:16.935870Z",
     "iopub.status.idle": "2021-03-17T19:15:16.960408Z",
     "shell.execute_reply": "2021-03-17T19:15:16.959572Z",
     "shell.execute_reply.started": "2021-03-17T19:15:16.936305Z"
    }
   },
   "outputs": [],
   "source": [
    "subject = \"Valentino\"\n",
    "#chans = channel_groups.full[subject]\n",
    "chans = channel_groups.drift_tracking[subject]\n",
    "channel_indices = np.arange(len(chans))\n",
    "start_time=0\n",
    "end_time=30"
   ]
  },
  {
   "cell_type": "code",
   "execution_count": 42,
   "metadata": {
    "execution": {
     "iopub.execute_input": "2021-03-17T19:15:17.233065Z",
     "iopub.status.busy": "2021-03-17T19:15:17.232628Z",
     "iopub.status.idle": "2021-03-17T19:15:22.009978Z",
     "shell.execute_reply": "2021-03-17T19:15:22.009092Z",
     "shell.execute_reply.started": "2021-03-17T19:15:17.233008Z"
    }
   },
   "outputs": [
    {
     "name": "stdout",
     "output_type": "stream",
     "text": [
      "nChan: 385, nFileSamp: 150000\n",
      "Performing L-curve parameter estimation...\n",
      "No lambda given, using defaults\n",
      "min lambda 1e-14\n",
      "max lambda 0.0106\n",
      "min lambda 1e-14\n",
      "max lambda 0.0106\n",
      "l-curve (all lambda):  0.23\n",
      "Best lambda and R =  0.0006359501216457479 ,  0.23\n"
     ]
    }
   ],
   "source": [
    "N2_bin_path = Path('/Volumes/neuropixel/Data/CNPIX3-Valentino/state_samples/N2.exported.imec0.lf.bin')\n",
    "N2_sig = load_timeseries(N2_bin_path, chans, start_time=start_time, end_time=end_time)\n",
    "N2_pos, N2_csd = get_csd(N2_sig)"
   ]
  },
  {
   "cell_type": "code",
   "execution_count": 43,
   "metadata": {
    "execution": {
     "iopub.execute_input": "2021-03-17T19:15:22.073347Z",
     "iopub.status.busy": "2021-03-17T19:15:22.073086Z",
     "iopub.status.idle": "2021-03-17T19:15:26.741117Z",
     "shell.execute_reply": "2021-03-17T19:15:26.740478Z",
     "shell.execute_reply.started": "2021-03-17T19:15:22.073296Z"
    }
   },
   "outputs": [
    {
     "name": "stdout",
     "output_type": "stream",
     "text": [
      "nChan: 385, nFileSamp: 150000\n",
      "Performing L-curve parameter estimation...\n",
      "No lambda given, using defaults\n",
      "min lambda 1e-14\n",
      "max lambda 0.0106\n",
      "min lambda 1e-14\n",
      "max lambda 0.0106\n",
      "l-curve (all lambda):  0.23\n",
      "Best lambda and R =  0.0006359501216457479 ,  0.23\n"
     ]
    }
   ],
   "source": [
    "N1_bin_path = Path('/Volumes/neuropixel/Data/CNPIX3-Valentino/state_samples/N1.exported.imec0.lf.bin')\n",
    "N1_sig = load_timeseries(N1_bin_path, chans, start_time=start_time, end_time=end_time)\n",
    "N1_pos, N1_csd = get_csd(N1_sig)"
   ]
  },
  {
   "cell_type": "code",
   "execution_count": 44,
   "metadata": {
    "execution": {
     "iopub.execute_input": "2021-03-17T19:15:26.742235Z",
     "iopub.status.busy": "2021-03-17T19:15:26.742059Z",
     "iopub.status.idle": "2021-03-17T19:15:30.942919Z",
     "shell.execute_reply": "2021-03-17T19:15:30.942031Z",
     "shell.execute_reply.started": "2021-03-17T19:15:26.742212Z"
    }
   },
   "outputs": [
    {
     "name": "stdout",
     "output_type": "stream",
     "text": [
      "nChan: 385, nFileSamp: 150000\n",
      "Performing L-curve parameter estimation...\n",
      "No lambda given, using defaults\n",
      "min lambda 1e-14\n",
      "max lambda 0.0106\n",
      "min lambda 1e-14\n",
      "max lambda 0.0106\n",
      "l-curve (all lambda):  0.23\n",
      "Best lambda and R =  0.0025957755090429014 ,  0.23\n"
     ]
    }
   ],
   "source": [
    "QWK_bin_path = Path('/Volumes/neuropixel/Data/CNPIX3-Valentino/state_samples/QWK.exported.imec0.lf.bin')\n",
    "QWK_sig = load_timeseries(QWK_bin_path, chans, start_time=start_time, end_time=end_time)\n",
    "QWK_pos, QWK_csd = get_csd(QWK_sig)"
   ]
  },
  {
   "cell_type": "code",
   "execution_count": 45,
   "metadata": {
    "execution": {
     "iopub.execute_input": "2021-03-17T19:15:30.944387Z",
     "iopub.status.busy": "2021-03-17T19:15:30.944144Z",
     "iopub.status.idle": "2021-03-17T19:15:35.558196Z",
     "shell.execute_reply": "2021-03-17T19:15:35.557471Z",
     "shell.execute_reply.started": "2021-03-17T19:15:30.944355Z"
    }
   },
   "outputs": [
    {
     "name": "stdout",
     "output_type": "stream",
     "text": [
      "nChan: 385, nFileSamp: 150000\n",
      "Performing L-curve parameter estimation...\n",
      "No lambda given, using defaults\n",
      "min lambda 1e-14\n",
      "max lambda 0.0106\n",
      "min lambda 1e-14\n",
      "max lambda 0.0106\n",
      "l-curve (all lambda):  0.23\n",
      "Best lambda and R =  0.0006359501216457479 ,  0.23\n"
     ]
    }
   ],
   "source": [
    "AWK_bin_path = Path('/Volumes/neuropixel/Data/CNPIX3-Valentino/state_samples/AWK.exported.imec0.lf.bin')\n",
    "AWK_sig = load_timeseries(AWK_bin_path, chans, start_time=start_time, end_time=end_time)\n",
    "AWK_pos, AWK_csd = get_csd(AWK_sig)"
   ]
  },
  {
   "cell_type": "code",
   "execution_count": 46,
   "metadata": {
    "execution": {
     "iopub.execute_input": "2021-03-17T19:15:35.559535Z",
     "iopub.status.busy": "2021-03-17T19:15:35.559298Z",
     "iopub.status.idle": "2021-03-17T19:15:39.738115Z",
     "shell.execute_reply": "2021-03-17T19:15:39.737284Z",
     "shell.execute_reply.started": "2021-03-17T19:15:35.559503Z"
    }
   },
   "outputs": [
    {
     "name": "stdout",
     "output_type": "stream",
     "text": [
      "nChan: 385, nFileSamp: 150000\n",
      "Performing L-curve parameter estimation...\n",
      "No lambda given, using defaults\n",
      "min lambda 1e-14\n",
      "max lambda 0.0106\n",
      "min lambda 1e-14\n",
      "max lambda 0.0106\n",
      "l-curve (all lambda):  0.23\n",
      "Best lambda and R =  0.0025957755090429014 ,  0.23\n"
     ]
    }
   ],
   "source": [
    "REM_bin_path = Path('/Volumes/neuropixel/Data/CNPIX3-Valentino/state_samples/REM.exported.imec0.lf.bin')\n",
    "REM_sig = load_timeseries(REM_bin_path, chans, start_time=start_time, end_time=end_time)\n",
    "REM_pos, REM_csd = get_csd(REM_sig)"
   ]
  },
  {
   "cell_type": "code",
   "execution_count": 47,
   "metadata": {
    "execution": {
     "iopub.execute_input": "2021-03-17T19:15:39.803582Z",
     "iopub.status.busy": "2021-03-17T19:15:39.803351Z",
     "iopub.status.idle": "2021-03-17T19:15:39.824135Z",
     "shell.execute_reply": "2021-03-17T19:15:39.823405Z",
     "shell.execute_reply.started": "2021-03-17T19:15:39.803550Z"
    }
   },
   "outputs": [],
   "source": [
    "#colormesh_timeseries_explorer(sig.time.values, est_csd.T, y=k.estm_x)"
   ]
  },
  {
   "cell_type": "code",
   "execution_count": 48,
   "metadata": {
    "execution": {
     "iopub.execute_input": "2021-03-17T19:15:39.825512Z",
     "iopub.status.busy": "2021-03-17T19:15:39.825134Z",
     "iopub.status.idle": "2021-03-17T19:15:39.845514Z",
     "shell.execute_reply": "2021-03-17T19:15:39.844776Z",
     "shell.execute_reply.started": "2021-03-17T19:15:39.825480Z"
    }
   },
   "outputs": [],
   "source": [
    "#165-170 should be SR?"
   ]
  },
  {
   "cell_type": "code",
   "execution_count": 49,
   "metadata": {
    "execution": {
     "iopub.execute_input": "2021-03-17T19:15:39.846869Z",
     "iopub.status.busy": "2021-03-17T19:15:39.846639Z",
     "iopub.status.idle": "2021-03-17T19:15:39.866181Z",
     "shell.execute_reply": "2021-03-17T19:15:39.865581Z",
     "shell.execute_reply.started": "2021-03-17T19:15:39.846838Z"
    }
   },
   "outputs": [],
   "source": [
    "def get_biggest_sinks(est_csd, smooth=False):\n",
    "    biggest_sinks_by_channel = est_csd.min(axis=1)\n",
    "    if smooth:\n",
    "        biggest_sinks_by_channel = gaussian_filter1d(biggest_sinks_by_channel, sigma=0.5)\n",
    "    peaks, properties = find_peaks(-biggest_sinks_by_channel, prominence=1000, distance=10)\n",
    "    print(chans[peaks])\n",
    "\n",
    "    fig, ax = plt.subplots(figsize=(25, 5))\n",
    "    sns.barplot(x=channel_indices, y=biggest_sinks_by_channel, color='steelblue', ax=ax)\n",
    "    ax.set(xlabel=\"Channel\", ylabel=\"Biggest Sink Amplitude\")\n",
    "    ax.set_xticks(channel_indices[::2]);\n",
    "    ax.set_xticklabels(chans[::2], rotation=90, fontsize=6);\n",
    "\n",
    "    sns.scatterplot(x=peaks, y=biggest_sinks_by_channel[peaks], marker='x', color='red', ax=ax)"
   ]
  },
  {
   "cell_type": "code",
   "execution_count": 50,
   "metadata": {
    "execution": {
     "iopub.execute_input": "2021-03-17T19:15:39.867266Z",
     "iopub.status.busy": "2021-03-17T19:15:39.867035Z",
     "iopub.status.idle": "2021-03-17T19:15:40.213390Z",
     "shell.execute_reply": "2021-03-17T19:15:40.212896Z",
     "shell.execute_reply.started": "2021-03-17T19:15:39.867237Z"
    }
   },
   "outputs": [
    {
     "name": "stdout",
     "output_type": "stream",
     "text": [
      "[368  41 106 141 166 193 225]\n"
     ]
    },
    {
     "data": {
      "application/vnd.jupyter.widget-view+json": {
       "model_id": "7253fc0605a143baa09c45e1a672db69",
       "version_major": 2,
       "version_minor": 0
      },
      "text/plain": [
       "Canvas(toolbar=Toolbar(toolitems=[('Home', 'Reset original view', 'home', 'home'), ('Back', 'Back to previous …"
      ]
     },
     "metadata": {},
     "output_type": "display_data"
    }
   ],
   "source": [
    "get_biggest_sinks(N2_csd)"
   ]
  },
  {
   "cell_type": "code",
   "execution_count": 51,
   "metadata": {
    "execution": {
     "iopub.execute_input": "2021-03-17T19:15:40.214224Z",
     "iopub.status.busy": "2021-03-17T19:15:40.214085Z",
     "iopub.status.idle": "2021-03-17T19:15:40.557857Z",
     "shell.execute_reply": "2021-03-17T19:15:40.557182Z",
     "shell.execute_reply.started": "2021-03-17T19:15:40.214206Z"
    }
   },
   "outputs": [
    {
     "name": "stdout",
     "output_type": "stream",
     "text": [
      "[368  41 106 141 166 193 225]\n"
     ]
    },
    {
     "data": {
      "application/vnd.jupyter.widget-view+json": {
       "model_id": "e152e2e641c14393b150c6379f99860a",
       "version_major": 2,
       "version_minor": 0
      },
      "text/plain": [
       "Canvas(toolbar=Toolbar(toolitems=[('Home', 'Reset original view', 'home', 'home'), ('Back', 'Back to previous …"
      ]
     },
     "metadata": {},
     "output_type": "display_data"
    }
   ],
   "source": [
    "get_biggest_sinks(N2_csd, smooth=True)"
   ]
  },
  {
   "cell_type": "code",
   "execution_count": 52,
   "metadata": {
    "execution": {
     "iopub.execute_input": "2021-03-17T19:15:40.558748Z",
     "iopub.status.busy": "2021-03-17T19:15:40.558616Z",
     "iopub.status.idle": "2021-03-17T19:15:40.910222Z",
     "shell.execute_reply": "2021-03-17T19:15:40.909688Z",
     "shell.execute_reply.started": "2021-03-17T19:15:40.558730Z"
    }
   },
   "outputs": [
    {
     "name": "stdout",
     "output_type": "stream",
     "text": [
      "[367  21  41  85 146 169 198 229]\n"
     ]
    },
    {
     "data": {
      "application/vnd.jupyter.widget-view+json": {
       "model_id": "aa759bc19700485f86716668f0f8448c",
       "version_major": 2,
       "version_minor": 0
      },
      "text/plain": [
       "Canvas(toolbar=Toolbar(toolitems=[('Home', 'Reset original view', 'home', 'home'), ('Back', 'Back to previous …"
      ]
     },
     "metadata": {},
     "output_type": "display_data"
    }
   ],
   "source": [
    "get_biggest_sinks(N1_csd)"
   ]
  },
  {
   "cell_type": "code",
   "execution_count": 53,
   "metadata": {
    "execution": {
     "iopub.execute_input": "2021-03-17T19:15:40.911007Z",
     "iopub.status.busy": "2021-03-17T19:15:40.910876Z",
     "iopub.status.idle": "2021-03-17T19:15:41.634349Z",
     "shell.execute_reply": "2021-03-17T19:15:41.633704Z",
     "shell.execute_reply.started": "2021-03-17T19:15:40.910990Z"
    }
   },
   "outputs": [
    {
     "name": "stdout",
     "output_type": "stream",
     "text": [
      "[ 46 101 142 169 197 241]\n"
     ]
    },
    {
     "data": {
      "application/vnd.jupyter.widget-view+json": {
       "model_id": "1690b6e5a4874aa98592a6ce8b11bc73",
       "version_major": 2,
       "version_minor": 0
      },
      "text/plain": [
       "Canvas(toolbar=Toolbar(toolitems=[('Home', 'Reset original view', 'home', 'home'), ('Back', 'Back to previous …"
      ]
     },
     "metadata": {},
     "output_type": "display_data"
    }
   ],
   "source": [
    "get_biggest_sinks(QWK_csd)"
   ]
  },
  {
   "cell_type": "code",
   "execution_count": 54,
   "metadata": {
    "execution": {
     "iopub.execute_input": "2021-03-17T19:15:41.671615Z",
     "iopub.status.busy": "2021-03-17T19:15:41.671489Z",
     "iopub.status.idle": "2021-03-17T19:15:42.031283Z",
     "shell.execute_reply": "2021-03-17T19:15:42.030643Z",
     "shell.execute_reply.started": "2021-03-17T19:15:41.671600Z"
    }
   },
   "outputs": [
    {
     "name": "stdout",
     "output_type": "stream",
     "text": [
      "[ 21  42 138 170 197]\n"
     ]
    },
    {
     "data": {
      "application/vnd.jupyter.widget-view+json": {
       "model_id": "02b62bab78f9430c907b0cb102b5593d",
       "version_major": 2,
       "version_minor": 0
      },
      "text/plain": [
       "Canvas(toolbar=Toolbar(toolitems=[('Home', 'Reset original view', 'home', 'home'), ('Back', 'Back to previous …"
      ]
     },
     "metadata": {},
     "output_type": "display_data"
    }
   ],
   "source": [
    "get_biggest_sinks(AWK_csd)"
   ]
  },
  {
   "cell_type": "code",
   "execution_count": 55,
   "metadata": {
    "execution": {
     "iopub.execute_input": "2021-03-17T19:15:42.032102Z",
     "iopub.status.busy": "2021-03-17T19:15:42.031971Z",
     "iopub.status.idle": "2021-03-17T19:15:42.386757Z",
     "shell.execute_reply": "2021-03-17T19:15:42.386095Z",
     "shell.execute_reply.started": "2021-03-17T19:15:42.032086Z"
    }
   },
   "outputs": [
    {
     "name": "stdout",
     "output_type": "stream",
     "text": [
      "[ 21  42 138 170 197]\n"
     ]
    },
    {
     "data": {
      "application/vnd.jupyter.widget-view+json": {
       "model_id": "4b677c9574664e28b740a47a5857bc04",
       "version_major": 2,
       "version_minor": 0
      },
      "text/plain": [
       "Canvas(toolbar=Toolbar(toolitems=[('Home', 'Reset original view', 'home', 'home'), ('Back', 'Back to previous …"
      ]
     },
     "metadata": {},
     "output_type": "display_data"
    }
   ],
   "source": [
    "get_biggest_sinks(AWK_csd, smooth=True)"
   ]
  },
  {
   "cell_type": "code",
   "execution_count": 56,
   "metadata": {
    "execution": {
     "iopub.execute_input": "2021-03-17T19:15:42.387596Z",
     "iopub.status.busy": "2021-03-17T19:15:42.387464Z",
     "iopub.status.idle": "2021-03-17T19:15:42.744114Z",
     "shell.execute_reply": "2021-03-17T19:15:42.743556Z",
     "shell.execute_reply.started": "2021-03-17T19:15:42.387580Z"
    }
   },
   "outputs": [
    {
     "name": "stdout",
     "output_type": "stream",
     "text": [
      "[ 34 105 146 197]\n"
     ]
    },
    {
     "data": {
      "application/vnd.jupyter.widget-view+json": {
       "model_id": "a6c20d4b57a944ad9b8fb798c9fcf5ed",
       "version_major": 2,
       "version_minor": 0
      },
      "text/plain": [
       "Canvas(toolbar=Toolbar(toolitems=[('Home', 'Reset original view', 'home', 'home'), ('Back', 'Back to previous …"
      ]
     },
     "metadata": {},
     "output_type": "display_data"
    }
   ],
   "source": [
    "get_biggest_sinks(REM_csd)"
   ]
  },
  {
   "cell_type": "code",
   "execution_count": 57,
   "metadata": {
    "execution": {
     "iopub.execute_input": "2021-03-17T19:15:42.863676Z",
     "iopub.status.busy": "2021-03-17T19:15:42.863558Z",
     "iopub.status.idle": "2021-03-17T19:15:42.880545Z",
     "shell.execute_reply": "2021-03-17T19:15:42.879946Z",
     "shell.execute_reply.started": "2021-03-17T19:15:42.863661Z"
    }
   },
   "outputs": [],
   "source": [
    "def get_sink_fingerprint(est_csd):    \n",
    "    nbins = 50\n",
    "    bin_edges = np.linspace(0, -est_csd.min(), nbins)\n",
    "\n",
    "    res = np.apply_along_axis(lambda x: np.histogram(x, bins=bin_edges), axis=1, arr=-est_csd)\n",
    "    hist = np.vstack(res[:, 0])\n",
    "    \n",
    "    fig, ax = plt.subplots(figsize=(25, 5))\n",
    "    sns.heatmap(np.log1p(hist.T), cbar=False)\n",
    "    ax.set_xticks(channel_indices[::2]);\n",
    "    ax.set_xticklabels(chans[::2], rotation=90, fontsize=6);\n",
    "    ax.set_yticks([])\n",
    "    ax.set(xlabel='Channel', ylabel='CSD amplitude count');"
   ]
  },
  {
   "cell_type": "code",
   "execution_count": 58,
   "metadata": {
    "execution": {
     "iopub.execute_input": "2021-03-17T19:15:42.881349Z",
     "iopub.status.busy": "2021-03-17T19:15:42.881197Z",
     "iopub.status.idle": "2021-03-17T19:15:43.830708Z",
     "shell.execute_reply": "2021-03-17T19:15:43.830041Z",
     "shell.execute_reply.started": "2021-03-17T19:15:42.881331Z"
    }
   },
   "outputs": [
    {
     "name": "stderr",
     "output_type": "stream",
     "text": [
      "/home/gfindlay/miniconda3/envs/ecephys/lib/python3.7/site-packages/numpy/core/_asarray.py:136: VisibleDeprecationWarning: Creating an ndarray from ragged nested sequences (which is a list-or-tuple of lists-or-tuples-or ndarrays with different lengths or shapes) is deprecated. If you meant to do this, you must specify 'dtype=object' when creating the ndarray\n",
      "  return array(a, dtype, copy=False, order=order, subok=True)\n"
     ]
    },
    {
     "data": {
      "application/vnd.jupyter.widget-view+json": {
       "model_id": "02d79b93ba4e43adbb8bcc2e159ff6cb",
       "version_major": 2,
       "version_minor": 0
      },
      "text/plain": [
       "Canvas(toolbar=Toolbar(toolitems=[('Home', 'Reset original view', 'home', 'home'), ('Back', 'Back to previous …"
      ]
     },
     "metadata": {},
     "output_type": "display_data"
    }
   ],
   "source": [
    "get_sink_fingerprint(N2_csd)"
   ]
  },
  {
   "cell_type": "code",
   "execution_count": 59,
   "metadata": {
    "execution": {
     "iopub.execute_input": "2021-03-17T19:15:43.831587Z",
     "iopub.status.busy": "2021-03-17T19:15:43.831452Z",
     "iopub.status.idle": "2021-03-17T19:15:44.773009Z",
     "shell.execute_reply": "2021-03-17T19:15:44.772339Z",
     "shell.execute_reply.started": "2021-03-17T19:15:43.831570Z"
    }
   },
   "outputs": [
    {
     "name": "stderr",
     "output_type": "stream",
     "text": [
      "/home/gfindlay/miniconda3/envs/ecephys/lib/python3.7/site-packages/numpy/core/_asarray.py:136: VisibleDeprecationWarning: Creating an ndarray from ragged nested sequences (which is a list-or-tuple of lists-or-tuples-or ndarrays with different lengths or shapes) is deprecated. If you meant to do this, you must specify 'dtype=object' when creating the ndarray\n",
      "  return array(a, dtype, copy=False, order=order, subok=True)\n"
     ]
    },
    {
     "data": {
      "application/vnd.jupyter.widget-view+json": {
       "model_id": "f5013f6aef4b4365af3cd559727525ca",
       "version_major": 2,
       "version_minor": 0
      },
      "text/plain": [
       "Canvas(toolbar=Toolbar(toolitems=[('Home', 'Reset original view', 'home', 'home'), ('Back', 'Back to previous …"
      ]
     },
     "metadata": {},
     "output_type": "display_data"
    }
   ],
   "source": [
    "get_sink_fingerprint(N1_csd)"
   ]
  },
  {
   "cell_type": "code",
   "execution_count": 60,
   "metadata": {
    "execution": {
     "iopub.execute_input": "2021-03-17T19:15:44.773919Z",
     "iopub.status.busy": "2021-03-17T19:15:44.773764Z",
     "iopub.status.idle": "2021-03-17T19:15:45.721752Z",
     "shell.execute_reply": "2021-03-17T19:15:45.721081Z",
     "shell.execute_reply.started": "2021-03-17T19:15:44.773899Z"
    }
   },
   "outputs": [
    {
     "name": "stderr",
     "output_type": "stream",
     "text": [
      "/home/gfindlay/miniconda3/envs/ecephys/lib/python3.7/site-packages/numpy/core/_asarray.py:136: VisibleDeprecationWarning: Creating an ndarray from ragged nested sequences (which is a list-or-tuple of lists-or-tuples-or ndarrays with different lengths or shapes) is deprecated. If you meant to do this, you must specify 'dtype=object' when creating the ndarray\n",
      "  return array(a, dtype, copy=False, order=order, subok=True)\n"
     ]
    },
    {
     "data": {
      "application/vnd.jupyter.widget-view+json": {
       "model_id": "bf7915e86d95438eaf0dba9a8ab4c808",
       "version_major": 2,
       "version_minor": 0
      },
      "text/plain": [
       "Canvas(toolbar=Toolbar(toolitems=[('Home', 'Reset original view', 'home', 'home'), ('Back', 'Back to previous …"
      ]
     },
     "metadata": {},
     "output_type": "display_data"
    }
   ],
   "source": [
    "get_sink_fingerprint(N1_csd)"
   ]
  },
  {
   "cell_type": "code",
   "execution_count": 61,
   "metadata": {
    "execution": {
     "iopub.execute_input": "2021-03-17T19:15:45.722719Z",
     "iopub.status.busy": "2021-03-17T19:15:45.722583Z",
     "iopub.status.idle": "2021-03-17T19:15:46.672634Z",
     "shell.execute_reply": "2021-03-17T19:15:46.671949Z",
     "shell.execute_reply.started": "2021-03-17T19:15:45.722701Z"
    }
   },
   "outputs": [
    {
     "name": "stderr",
     "output_type": "stream",
     "text": [
      "/home/gfindlay/miniconda3/envs/ecephys/lib/python3.7/site-packages/numpy/core/_asarray.py:136: VisibleDeprecationWarning: Creating an ndarray from ragged nested sequences (which is a list-or-tuple of lists-or-tuples-or ndarrays with different lengths or shapes) is deprecated. If you meant to do this, you must specify 'dtype=object' when creating the ndarray\n",
      "  return array(a, dtype, copy=False, order=order, subok=True)\n"
     ]
    },
    {
     "data": {
      "application/vnd.jupyter.widget-view+json": {
       "model_id": "b3f200ad2cf342a882d8f303a03d77ca",
       "version_major": 2,
       "version_minor": 0
      },
      "text/plain": [
       "Canvas(toolbar=Toolbar(toolitems=[('Home', 'Reset original view', 'home', 'home'), ('Back', 'Back to previous …"
      ]
     },
     "metadata": {},
     "output_type": "display_data"
    }
   ],
   "source": [
    "get_sink_fingerprint(QWK_csd)"
   ]
  },
  {
   "cell_type": "code",
   "execution_count": 62,
   "metadata": {
    "execution": {
     "iopub.execute_input": "2021-03-17T19:15:46.673630Z",
     "iopub.status.busy": "2021-03-17T19:15:46.673462Z",
     "iopub.status.idle": "2021-03-17T19:15:47.654589Z",
     "shell.execute_reply": "2021-03-17T19:15:47.653880Z",
     "shell.execute_reply.started": "2021-03-17T19:15:46.673609Z"
    }
   },
   "outputs": [
    {
     "name": "stderr",
     "output_type": "stream",
     "text": [
      "/home/gfindlay/miniconda3/envs/ecephys/lib/python3.7/site-packages/numpy/core/_asarray.py:136: VisibleDeprecationWarning: Creating an ndarray from ragged nested sequences (which is a list-or-tuple of lists-or-tuples-or ndarrays with different lengths or shapes) is deprecated. If you meant to do this, you must specify 'dtype=object' when creating the ndarray\n",
      "  return array(a, dtype, copy=False, order=order, subok=True)\n"
     ]
    },
    {
     "data": {
      "application/vnd.jupyter.widget-view+json": {
       "model_id": "cb61d6e49d0c4dcbb17ed98f5180265a",
       "version_major": 2,
       "version_minor": 0
      },
      "text/plain": [
       "Canvas(toolbar=Toolbar(toolitems=[('Home', 'Reset original view', 'home', 'home'), ('Back', 'Back to previous …"
      ]
     },
     "metadata": {},
     "output_type": "display_data"
    }
   ],
   "source": [
    "get_sink_fingerprint(AWK_csd)"
   ]
  },
  {
   "cell_type": "code",
   "execution_count": 63,
   "metadata": {
    "execution": {
     "iopub.execute_input": "2021-03-17T19:15:47.655459Z",
     "iopub.status.busy": "2021-03-17T19:15:47.655324Z",
     "iopub.status.idle": "2021-03-17T19:15:48.624656Z",
     "shell.execute_reply": "2021-03-17T19:15:48.623990Z",
     "shell.execute_reply.started": "2021-03-17T19:15:47.655441Z"
    }
   },
   "outputs": [
    {
     "name": "stderr",
     "output_type": "stream",
     "text": [
      "/home/gfindlay/miniconda3/envs/ecephys/lib/python3.7/site-packages/numpy/core/_asarray.py:136: VisibleDeprecationWarning: Creating an ndarray from ragged nested sequences (which is a list-or-tuple of lists-or-tuples-or ndarrays with different lengths or shapes) is deprecated. If you meant to do this, you must specify 'dtype=object' when creating the ndarray\n",
      "  return array(a, dtype, copy=False, order=order, subok=True)\n"
     ]
    },
    {
     "data": {
      "application/vnd.jupyter.widget-view+json": {
       "model_id": "bacf52b873bf4edab93ac314b7dff3cb",
       "version_major": 2,
       "version_minor": 0
      },
      "text/plain": [
       "Canvas(toolbar=Toolbar(toolitems=[('Home', 'Reset original view', 'home', 'home'), ('Back', 'Back to previous …"
      ]
     },
     "metadata": {},
     "output_type": "display_data"
    }
   ],
   "source": [
    "get_sink_fingerprint(REM_csd)"
   ]
  },
  {
   "cell_type": "code",
   "execution_count": 64,
   "metadata": {
    "execution": {
     "iopub.execute_input": "2021-03-17T19:15:48.666396Z",
     "iopub.status.busy": "2021-03-17T19:15:48.666255Z",
     "iopub.status.idle": "2021-03-17T19:15:49.238379Z",
     "shell.execute_reply": "2021-03-17T19:15:49.237696Z",
     "shell.execute_reply.started": "2021-03-17T19:15:48.666378Z"
    }
   },
   "outputs": [
    {
     "data": {
      "application/vnd.jupyter.widget-view+json": {
       "model_id": "d9b7190dc3174c42947a81c9cb018365",
       "version_major": 2,
       "version_minor": 0
      },
      "text/plain": [
       "Canvas(toolbar=Toolbar(toolitems=[('Home', 'Reset original view', 'home', 'home'), ('Back', 'Back to previous …"
      ]
     },
     "metadata": {},
     "output_type": "display_data"
    },
    {
     "data": {
      "application/vnd.jupyter.widget-view+json": {
       "model_id": "2b462dcbd41a4117a411cc713031b6a9",
       "version_major": 2,
       "version_minor": 0
      },
      "text/plain": [
       "HBox(children=(FloatSlider(value=1.0, description='Secs', max=4.0, min=0.25, step=0.25), BoundedFloatText(valu…"
      ]
     },
     "metadata": {},
     "output_type": "display_data"
    },
    {
     "data": {
      "application/vnd.jupyter.widget-view+json": {
       "model_id": "bd4a039ed697457db4be6c7991ba6443",
       "version_major": 2,
       "version_minor": 0
      },
      "text/plain": [
       "Output()"
      ]
     },
     "metadata": {},
     "output_type": "display_data"
    }
   ],
   "source": [
    "colormesh_timeseries_explorer(REM_sig.time.values, REM_csd.T, y=REM_pos)"
   ]
  },
  {
   "cell_type": "code",
   "execution_count": 65,
   "metadata": {
    "execution": {
     "iopub.execute_input": "2021-03-17T19:15:49.239340Z",
     "iopub.status.busy": "2021-03-17T19:15:49.239186Z",
     "iopub.status.idle": "2021-03-17T19:15:49.261331Z",
     "shell.execute_reply": "2021-03-17T19:15:49.260726Z",
     "shell.execute_reply.started": "2021-03-17T19:15:49.239309Z"
    }
   },
   "outputs": [],
   "source": [
    "def get_mean_sinks(est_csd, smooth=False):\n",
    "    est_csd[est_csd > 0] = 0\n",
    "    mean_sinks_by_channel = est_csd.mean(axis=1)\n",
    "    if smooth:\n",
    "        mean_sinks_by_channel = gaussian_filter1d(biggest_sinks_by_channel, sigma=0.5)\n",
    "    peaks, properties = find_peaks(-mean_sinks_by_channel, prominence=1000, distance=10)\n",
    "    print(chans[peaks])\n",
    "\n",
    "    fig, ax = plt.subplots(figsize=(25, 5))\n",
    "    sns.barplot(x=channel_indices, y=mean_sinks_by_channel, color='steelblue', ax=ax)\n",
    "    ax.set(xlabel=\"Channel\", ylabel=\"Mean Sink Amplitude\")\n",
    "    ax.set_xticks(channel_indices[::2]);\n",
    "    ax.set_xticklabels(chans[::2], rotation=90, fontsize=6);\n",
    "\n",
    "    sns.scatterplot(x=peaks, y=mean_sinks_by_channel[peaks], marker='x', color='red', ax=ax)"
   ]
  },
  {
   "cell_type": "code",
   "execution_count": 66,
   "metadata": {
    "execution": {
     "iopub.execute_input": "2021-03-17T19:15:49.262202Z",
     "iopub.status.busy": "2021-03-17T19:15:49.262058Z",
     "iopub.status.idle": "2021-03-17T19:15:49.646764Z",
     "shell.execute_reply": "2021-03-17T19:15:49.646041Z",
     "shell.execute_reply.started": "2021-03-17T19:15:49.262183Z"
    }
   },
   "outputs": [
    {
     "name": "stdout",
     "output_type": "stream",
     "text": [
      "[141 173 237]\n"
     ]
    },
    {
     "data": {
      "application/vnd.jupyter.widget-view+json": {
       "model_id": "664929a082894bd89d63412450df05a2",
       "version_major": 2,
       "version_minor": 0
      },
      "text/plain": [
       "Canvas(toolbar=Toolbar(toolitems=[('Home', 'Reset original view', 'home', 'home'), ('Back', 'Back to previous …"
      ]
     },
     "metadata": {},
     "output_type": "display_data"
    }
   ],
   "source": [
    "get_mean_sinks(N2_csd)"
   ]
  },
  {
   "cell_type": "code",
   "execution_count": 67,
   "metadata": {
    "execution": {
     "iopub.execute_input": "2021-03-17T19:15:49.647634Z",
     "iopub.status.busy": "2021-03-17T19:15:49.647498Z",
     "iopub.status.idle": "2021-03-17T19:15:50.471014Z",
     "shell.execute_reply": "2021-03-17T19:15:50.470330Z",
     "shell.execute_reply.started": "2021-03-17T19:15:49.647617Z"
    }
   },
   "outputs": [
    {
     "name": "stdout",
     "output_type": "stream",
     "text": [
      "[ 49 142 173 237]\n"
     ]
    },
    {
     "data": {
      "application/vnd.jupyter.widget-view+json": {
       "model_id": "be73eb48b5464a87b9824f4adee7e964",
       "version_major": 2,
       "version_minor": 0
      },
      "text/plain": [
       "Canvas(toolbar=Toolbar(toolitems=[('Home', 'Reset original view', 'home', 'home'), ('Back', 'Back to previous …"
      ]
     },
     "metadata": {},
     "output_type": "display_data"
    }
   ],
   "source": [
    "get_mean_sinks(N1_csd)"
   ]
  },
  {
   "cell_type": "code",
   "execution_count": 68,
   "metadata": {
    "execution": {
     "iopub.execute_input": "2021-03-17T19:15:50.471821Z",
     "iopub.status.busy": "2021-03-17T19:15:50.471689Z",
     "iopub.status.idle": "2021-03-17T19:15:50.856317Z",
     "shell.execute_reply": "2021-03-17T19:15:50.855671Z",
     "shell.execute_reply.started": "2021-03-17T19:15:50.471804Z"
    }
   },
   "outputs": [
    {
     "name": "stdout",
     "output_type": "stream",
     "text": [
      "[ 89 142]\n"
     ]
    },
    {
     "data": {
      "application/vnd.jupyter.widget-view+json": {
       "model_id": "f3b12201bd484583b146360c202ad61f",
       "version_major": 2,
       "version_minor": 0
      },
      "text/plain": [
       "Canvas(toolbar=Toolbar(toolitems=[('Home', 'Reset original view', 'home', 'home'), ('Back', 'Back to previous …"
      ]
     },
     "metadata": {},
     "output_type": "display_data"
    }
   ],
   "source": [
    "get_mean_sinks(QWK_csd)"
   ]
  },
  {
   "cell_type": "code",
   "execution_count": 69,
   "metadata": {
    "execution": {
     "iopub.execute_input": "2021-03-17T19:15:50.857207Z",
     "iopub.status.busy": "2021-03-17T19:15:50.857072Z",
     "iopub.status.idle": "2021-03-17T19:15:51.238692Z",
     "shell.execute_reply": "2021-03-17T19:15:51.238029Z",
     "shell.execute_reply.started": "2021-03-17T19:15:50.857190Z"
    }
   },
   "outputs": [
    {
     "name": "stdout",
     "output_type": "stream",
     "text": [
      "[142 238]\n"
     ]
    },
    {
     "data": {
      "application/vnd.jupyter.widget-view+json": {
       "model_id": "ecb92220de8a4e60b0b3894c41cc39cd",
       "version_major": 2,
       "version_minor": 0
      },
      "text/plain": [
       "Canvas(toolbar=Toolbar(toolitems=[('Home', 'Reset original view', 'home', 'home'), ('Back', 'Back to previous …"
      ]
     },
     "metadata": {},
     "output_type": "display_data"
    }
   ],
   "source": [
    "get_mean_sinks(AWK_csd)"
   ]
  },
  {
   "cell_type": "code",
   "execution_count": 70,
   "metadata": {
    "execution": {
     "iopub.execute_input": "2021-03-17T19:15:51.239540Z",
     "iopub.status.busy": "2021-03-17T19:15:51.239405Z",
     "iopub.status.idle": "2021-03-17T19:15:51.620379Z",
     "shell.execute_reply": "2021-03-17T19:15:51.619748Z",
     "shell.execute_reply.started": "2021-03-17T19:15:51.239522Z"
    }
   },
   "outputs": [
    {
     "name": "stdout",
     "output_type": "stream",
     "text": [
      "[ 93 146]\n"
     ]
    },
    {
     "data": {
      "application/vnd.jupyter.widget-view+json": {
       "model_id": "96a60928a34742c29bb4134bbd6fcd53",
       "version_major": 2,
       "version_minor": 0
      },
      "text/plain": [
       "Canvas(toolbar=Toolbar(toolitems=[('Home', 'Reset original view', 'home', 'home'), ('Back', 'Back to previous …"
      ]
     },
     "metadata": {},
     "output_type": "display_data"
    }
   ],
   "source": [
    "get_mean_sinks(REM_csd)"
   ]
  },
  {
   "cell_type": "code",
   "execution_count": 71,
   "metadata": {
    "execution": {
     "iopub.execute_input": "2021-03-17T19:15:51.621275Z",
     "iopub.status.busy": "2021-03-17T19:15:51.621136Z",
     "iopub.status.idle": "2021-03-17T19:15:52.899108Z",
     "shell.execute_reply": "2021-03-17T19:15:52.898434Z",
     "shell.execute_reply.started": "2021-03-17T19:15:51.621257Z"
    }
   },
   "outputs": [
    {
     "data": {
      "application/vnd.jupyter.widget-view+json": {
       "model_id": "da08fb9b635843af9ffdf37c46092373",
       "version_major": 2,
       "version_minor": 0
      },
      "text/plain": [
       "Canvas(toolbar=Toolbar(toolitems=[('Home', 'Reset original view', 'home', 'home'), ('Back', 'Back to previous …"
      ]
     },
     "metadata": {},
     "output_type": "display_data"
    },
    {
     "data": {
      "text/plain": [
       "<AxesSubplot:>"
      ]
     },
     "execution_count": 71,
     "metadata": {},
     "output_type": "execute_result"
    }
   ],
   "source": [
    "fig, ax = plt.subplots()\n",
    "sns.heatmap(np.cov(N2_csd), xticklabels=chans, yticklabels=chans, ax=ax)"
   ]
  },
  {
   "cell_type": "code",
   "execution_count": 72,
   "metadata": {
    "execution": {
     "iopub.execute_input": "2021-03-17T19:15:52.899996Z",
     "iopub.status.busy": "2021-03-17T19:15:52.899861Z",
     "iopub.status.idle": "2021-03-17T19:15:54.148736Z",
     "shell.execute_reply": "2021-03-17T19:15:54.148230Z",
     "shell.execute_reply.started": "2021-03-17T19:15:52.899978Z"
    }
   },
   "outputs": [
    {
     "data": {
      "application/vnd.jupyter.widget-view+json": {
       "model_id": "a9bc6c24c0b64919b6957dd0a8d2fe4d",
       "version_major": 2,
       "version_minor": 0
      },
      "text/plain": [
       "Canvas(toolbar=Toolbar(toolitems=[('Home', 'Reset original view', 'home', 'home'), ('Back', 'Back to previous …"
      ]
     },
     "metadata": {},
     "output_type": "display_data"
    },
    {
     "data": {
      "text/plain": [
       "<AxesSubplot:>"
      ]
     },
     "execution_count": 72,
     "metadata": {},
     "output_type": "execute_result"
    }
   ],
   "source": [
    "fig, ax = plt.subplots()\n",
    "sns.heatmap(np.cov(N1_csd), xticklabels=chans, yticklabels=chans, ax=ax)"
   ]
  },
  {
   "cell_type": "code",
   "execution_count": 73,
   "metadata": {
    "execution": {
     "iopub.execute_input": "2021-03-17T19:15:54.595700Z",
     "iopub.status.busy": "2021-03-17T19:15:54.595571Z",
     "iopub.status.idle": "2021-03-17T19:15:55.872353Z",
     "shell.execute_reply": "2021-03-17T19:15:55.871870Z",
     "shell.execute_reply.started": "2021-03-17T19:15:54.595683Z"
    }
   },
   "outputs": [
    {
     "data": {
      "application/vnd.jupyter.widget-view+json": {
       "model_id": "5aa5f677648a4de886250f699618c21c",
       "version_major": 2,
       "version_minor": 0
      },
      "text/plain": [
       "Canvas(toolbar=Toolbar(toolitems=[('Home', 'Reset original view', 'home', 'home'), ('Back', 'Back to previous …"
      ]
     },
     "metadata": {},
     "output_type": "display_data"
    },
    {
     "data": {
      "text/plain": [
       "<AxesSubplot:>"
      ]
     },
     "execution_count": 73,
     "metadata": {},
     "output_type": "execute_result"
    }
   ],
   "source": [
    "fig, ax = plt.subplots()\n",
    "sns.heatmap(np.cov(QWK_csd), xticklabels=chans, yticklabels=chans, ax=ax)"
   ]
  },
  {
   "cell_type": "code",
   "execution_count": 74,
   "metadata": {
    "execution": {
     "iopub.execute_input": "2021-03-17T19:15:56.211100Z",
     "iopub.status.busy": "2021-03-17T19:15:56.210970Z",
     "iopub.status.idle": "2021-03-17T19:15:57.485514Z",
     "shell.execute_reply": "2021-03-17T19:15:57.484835Z",
     "shell.execute_reply.started": "2021-03-17T19:15:56.211082Z"
    }
   },
   "outputs": [
    {
     "data": {
      "application/vnd.jupyter.widget-view+json": {
       "model_id": "3ec086f17eb24d9f893689bb9af7e884",
       "version_major": 2,
       "version_minor": 0
      },
      "text/plain": [
       "Canvas(toolbar=Toolbar(toolitems=[('Home', 'Reset original view', 'home', 'home'), ('Back', 'Back to previous …"
      ]
     },
     "metadata": {},
     "output_type": "display_data"
    },
    {
     "data": {
      "text/plain": [
       "<AxesSubplot:>"
      ]
     },
     "execution_count": 74,
     "metadata": {},
     "output_type": "execute_result"
    }
   ],
   "source": [
    "fig, ax = plt.subplots()\n",
    "sns.heatmap(np.cov(AWK_csd), xticklabels=chans, yticklabels=chans, ax=ax)"
   ]
  },
  {
   "cell_type": "code",
   "execution_count": 75,
   "metadata": {
    "execution": {
     "iopub.execute_input": "2021-03-17T19:15:57.835990Z",
     "iopub.status.busy": "2021-03-17T19:15:57.835846Z",
     "iopub.status.idle": "2021-03-17T19:15:59.108775Z",
     "shell.execute_reply": "2021-03-17T19:15:59.108044Z",
     "shell.execute_reply.started": "2021-03-17T19:15:57.835971Z"
    }
   },
   "outputs": [
    {
     "data": {
      "application/vnd.jupyter.widget-view+json": {
       "model_id": "9b7cc6ca58d742d79cd3e7ce7d6b6f3d",
       "version_major": 2,
       "version_minor": 0
      },
      "text/plain": [
       "Canvas(toolbar=Toolbar(toolitems=[('Home', 'Reset original view', 'home', 'home'), ('Back', 'Back to previous …"
      ]
     },
     "metadata": {},
     "output_type": "display_data"
    },
    {
     "data": {
      "text/plain": [
       "<AxesSubplot:>"
      ]
     },
     "execution_count": 75,
     "metadata": {},
     "output_type": "execute_result"
    }
   ],
   "source": [
    "fig, ax = plt.subplots()\n",
    "sns.heatmap(np.cov(REM_csd), xticklabels=chans, yticklabels=chans, ax=ax)"
   ]
  },
  {
   "cell_type": "code",
   "execution_count": 76,
   "metadata": {
    "execution": {
     "iopub.execute_input": "2021-03-17T19:15:59.109701Z",
     "iopub.status.busy": "2021-03-17T19:15:59.109556Z",
     "iopub.status.idle": "2021-03-17T19:15:59.129844Z",
     "shell.execute_reply": "2021-03-17T19:15:59.129313Z",
     "shell.execute_reply.started": "2021-03-17T19:15:59.109682Z"
    }
   },
   "outputs": [],
   "source": [
    "def plot_csd_variance(csd):\n",
    "    fig, ax = plt.subplots(figsize=(25, 5))\n",
    "    sns.barplot(x=channel_indices, y=np.diag(np.cov(csd)), color='steelblue', ax=ax)\n",
    "    ax.set(xlabel=\"Channel\", ylabel=\"CSD variance\")\n",
    "    ax.set_xticks(channel_indices[::2]);\n",
    "    ax.set_xticklabels(chans[::2], rotation=90, fontsize=6);"
   ]
  },
  {
   "cell_type": "code",
   "execution_count": 77,
   "metadata": {
    "execution": {
     "iopub.execute_input": "2021-03-17T19:15:59.489663Z",
     "iopub.status.busy": "2021-03-17T19:15:59.489491Z",
     "iopub.status.idle": "2021-03-17T19:16:00.483238Z",
     "shell.execute_reply": "2021-03-17T19:16:00.482545Z",
     "shell.execute_reply.started": "2021-03-17T19:15:59.489633Z"
    }
   },
   "outputs": [
    {
     "data": {
      "application/vnd.jupyter.widget-view+json": {
       "model_id": "f7c3ef10c59c4ce49f818b3b76213cb3",
       "version_major": 2,
       "version_minor": 0
      },
      "text/plain": [
       "Canvas(toolbar=Toolbar(toolitems=[('Home', 'Reset original view', 'home', 'home'), ('Back', 'Back to previous …"
      ]
     },
     "metadata": {},
     "output_type": "display_data"
    }
   ],
   "source": [
    "plot_csd_variance(N2_csd)"
   ]
  },
  {
   "cell_type": "code",
   "execution_count": 78,
   "metadata": {
    "execution": {
     "iopub.execute_input": "2021-03-17T19:16:01.158053Z",
     "iopub.status.busy": "2021-03-17T19:16:01.157909Z",
     "iopub.status.idle": "2021-03-17T19:16:01.605197Z",
     "shell.execute_reply": "2021-03-17T19:16:01.604525Z",
     "shell.execute_reply.started": "2021-03-17T19:16:01.158034Z"
    }
   },
   "outputs": [
    {
     "data": {
      "application/vnd.jupyter.widget-view+json": {
       "model_id": "4ee35d07b3c24843a75143cd69d3c8ac",
       "version_major": 2,
       "version_minor": 0
      },
      "text/plain": [
       "Canvas(toolbar=Toolbar(toolitems=[('Home', 'Reset original view', 'home', 'home'), ('Back', 'Back to previous …"
      ]
     },
     "metadata": {},
     "output_type": "display_data"
    }
   ],
   "source": [
    "plot_csd_variance(N1_csd)"
   ]
  },
  {
   "cell_type": "code",
   "execution_count": 79,
   "metadata": {
    "execution": {
     "iopub.execute_input": "2021-03-17T19:16:01.952172Z",
     "iopub.status.busy": "2021-03-17T19:16:01.952038Z",
     "iopub.status.idle": "2021-03-17T19:16:02.392289Z",
     "shell.execute_reply": "2021-03-17T19:16:02.391638Z",
     "shell.execute_reply.started": "2021-03-17T19:16:01.952154Z"
    }
   },
   "outputs": [
    {
     "data": {
      "application/vnd.jupyter.widget-view+json": {
       "model_id": "a9ec48e7e0fe4d3d9e5a76c776d1fcd2",
       "version_major": 2,
       "version_minor": 0
      },
      "text/plain": [
       "Canvas(toolbar=Toolbar(toolitems=[('Home', 'Reset original view', 'home', 'home'), ('Back', 'Back to previous …"
      ]
     },
     "metadata": {},
     "output_type": "display_data"
    }
   ],
   "source": [
    "plot_csd_variance(QWK_csd)"
   ]
  },
  {
   "cell_type": "code",
   "execution_count": 80,
   "metadata": {
    "execution": {
     "iopub.execute_input": "2021-03-17T19:16:02.393170Z",
     "iopub.status.busy": "2021-03-17T19:16:02.393031Z",
     "iopub.status.idle": "2021-03-17T19:16:02.836446Z",
     "shell.execute_reply": "2021-03-17T19:16:02.835761Z",
     "shell.execute_reply.started": "2021-03-17T19:16:02.393152Z"
    }
   },
   "outputs": [
    {
     "data": {
      "application/vnd.jupyter.widget-view+json": {
       "model_id": "8f58f833da7a454d8022bb4f66f9d1d1",
       "version_major": 2,
       "version_minor": 0
      },
      "text/plain": [
       "Canvas(toolbar=Toolbar(toolitems=[('Home', 'Reset original view', 'home', 'home'), ('Back', 'Back to previous …"
      ]
     },
     "metadata": {},
     "output_type": "display_data"
    }
   ],
   "source": [
    "plot_csd_variance(AWK_csd)"
   ]
  },
  {
   "cell_type": "code",
   "execution_count": 81,
   "metadata": {
    "execution": {
     "iopub.execute_input": "2021-03-17T19:16:03.155731Z",
     "iopub.status.busy": "2021-03-17T19:16:03.155601Z",
     "iopub.status.idle": "2021-03-17T19:16:03.615289Z",
     "shell.execute_reply": "2021-03-17T19:16:03.614566Z",
     "shell.execute_reply.started": "2021-03-17T19:16:03.155713Z"
    }
   },
   "outputs": [
    {
     "data": {
      "application/vnd.jupyter.widget-view+json": {
       "model_id": "77ad1decfa1a427d90f0fb2791c0a979",
       "version_major": 2,
       "version_minor": 0
      },
      "text/plain": [
       "Canvas(toolbar=Toolbar(toolitems=[('Home', 'Reset original view', 'home', 'home'), ('Back', 'Back to previous …"
      ]
     },
     "metadata": {},
     "output_type": "display_data"
    }
   ],
   "source": [
    "plot_csd_variance(REM_csd)"
   ]
  },
  {
   "cell_type": "code",
   "execution_count": null,
   "metadata": {},
   "outputs": [],
   "source": []
  }
 ],
 "metadata": {
  "kernelspec": {
   "display_name": "Python 3",
   "language": "python",
   "name": "python3"
  },
  "language_info": {
   "codemirror_mode": {
    "name": "ipython",
    "version": 3
   },
   "file_extension": ".py",
   "mimetype": "text/x-python",
   "name": "python",
   "nbconvert_exporter": "python",
   "pygments_lexer": "ipython3",
   "version": "3.7.9"
  }
 },
 "nbformat": 4,
 "nbformat_minor": 4
}
