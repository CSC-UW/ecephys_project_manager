{
 "cells": [
  {
   "cell_type": "code",
   "execution_count": 1,
   "metadata": {
    "execution": {
     "iopub.execute_input": "2021-03-13T21:40:21.524905Z",
     "iopub.status.busy": "2021-03-13T21:40:21.524421Z",
     "iopub.status.idle": "2021-03-13T21:40:21.540945Z",
     "shell.execute_reply": "2021-03-13T21:40:21.540299Z",
     "shell.execute_reply.started": "2021-03-13T21:40:21.524845Z"
    }
   },
   "outputs": [],
   "source": [
    "%load_ext autoreload\n",
    "%autoreload 2"
   ]
  },
  {
   "cell_type": "code",
   "execution_count": 2,
   "metadata": {
    "execution": {
     "iopub.execute_input": "2021-03-13T21:40:22.029845Z",
     "iopub.status.busy": "2021-03-13T21:40:22.029365Z",
     "iopub.status.idle": "2021-03-13T21:40:23.029894Z",
     "shell.execute_reply": "2021-03-13T21:40:23.029154Z",
     "shell.execute_reply.started": "2021-03-13T21:40:22.029785Z"
    }
   },
   "outputs": [],
   "source": [
    "from ecephys_analyses.data import paths, channel_groups\n",
    "from ecephys.signal.sharp_wave_ripples import apply_ripple_filter\n",
    "from ecephys.sglx_utils import load_timeseries\n",
    "from ecephys.plot import lfp_explorer\n",
    "import ecephys.signal.timefrequency as tfr"
   ]
  },
  {
   "cell_type": "code",
   "execution_count": 3,
   "metadata": {
    "execution": {
     "iopub.execute_input": "2021-03-13T21:40:23.197717Z",
     "iopub.status.busy": "2021-03-13T21:40:23.197338Z",
     "iopub.status.idle": "2021-03-13T21:40:23.223365Z",
     "shell.execute_reply": "2021-03-13T21:40:23.222743Z",
     "shell.execute_reply.started": "2021-03-13T21:40:23.197670Z"
    }
   },
   "outputs": [],
   "source": [
    "import pandas as pd\n",
    "import numpy as np\n",
    "from ripple_detection.core import get_envelope\n",
    "import seaborn as sns\n",
    "import matplotlib.pyplot as plt\n",
    "import xarray as xr\n",
    "from matplotlib.backends.backend_pdf import PdfPages\n",
    "from datetime import datetime"
   ]
  },
  {
   "cell_type": "code",
   "execution_count": 4,
   "metadata": {
    "execution": {
     "iopub.execute_input": "2021-03-13T21:40:25.797242Z",
     "iopub.status.busy": "2021-03-13T21:40:25.796758Z",
     "iopub.status.idle": "2021-03-13T21:40:25.820693Z",
     "shell.execute_reply": "2021-03-13T21:40:25.819907Z",
     "shell.execute_reply.started": "2021-03-13T21:40:25.797183Z"
    }
   },
   "outputs": [],
   "source": [
    "def parallel_spectrogram_welch(sig, **kwargs):\n",
    "    freqs, spg_times, spg = tfr.parallel_spectrogram_welch(sig.values, sig.fs, **kwargs)\n",
    "    spg_times = spg_times + sig.time.values.min()\n",
    "    return xr.DataArray(\n",
    "        spg,\n",
    "        dims=(\"frequency\", \"time\", \"channel\"),\n",
    "        coords={\"frequency\": freqs, \"time\": spg_times, \"channel\": sig.channel.values},\n",
    "        attrs={'units': f\"{sig.units}^2/Hz\", 'file_start': sig.fileCreateTime}\n",
    "    )"
   ]
  },
  {
   "cell_type": "code",
   "execution_count": 5,
   "metadata": {
    "execution": {
     "iopub.execute_input": "2021-03-13T21:40:26.035110Z",
     "iopub.status.busy": "2021-03-13T21:40:26.034952Z",
     "iopub.status.idle": "2021-03-13T21:40:26.053209Z",
     "shell.execute_reply": "2021-03-13T21:40:26.052348Z",
     "shell.execute_reply.started": "2021-03-13T21:40:26.035093Z"
    }
   },
   "outputs": [],
   "source": [
    "def get_bandpower(spg, f_range, chans):\n",
    "    bandpower = spg.sel(frequency=slice(*f_range)).sum(\n",
    "        dim=\"frequency\"\n",
    "    )\n",
    "    bandpower.attrs[\"freq_range\"] = f_range\n",
    "    bandpower.attrs['chans'] = chans\n",
    "\n",
    "    return bandpower"
   ]
  },
  {
   "cell_type": "code",
   "execution_count": 6,
   "metadata": {
    "execution": {
     "iopub.execute_input": "2021-03-13T21:40:26.307244Z",
     "iopub.status.busy": "2021-03-13T21:40:26.307000Z",
     "iopub.status.idle": "2021-03-13T21:40:26.328702Z",
     "shell.execute_reply": "2021-03-13T21:40:26.328019Z",
     "shell.execute_reply.started": "2021-03-13T21:40:26.307216Z"
    }
   },
   "outputs": [],
   "source": [
    "def plot_bandpower_vs_channel_vs_time(da, figsize=(36, 8)):\n",
    "    fig, ax = plt.subplots(figsize=figsize)\n",
    "    sns.heatmap(da.T, xticklabels=da.time.values.round(), yticklabels=da.channel.values, cbar=False)\n",
    "    ax.set(xticks=ax.get_xticks()[::2], yticks=ax.get_yticks()[::4], xlabel='Epoch center time (s)', ylabel='Channel')"
   ]
  },
  {
   "cell_type": "code",
   "execution_count": 7,
   "metadata": {
    "execution": {
     "iopub.execute_input": "2021-03-13T21:40:26.594940Z",
     "iopub.status.busy": "2021-03-13T21:40:26.594790Z",
     "iopub.status.idle": "2021-03-13T21:40:26.612574Z",
     "shell.execute_reply": "2021-03-13T21:40:26.611800Z",
     "shell.execute_reply.started": "2021-03-13T21:40:26.594923Z"
    }
   },
   "outputs": [],
   "source": [
    "def plot_bandpower_vs_channel(da, figsize=(36, 5)):\n",
    "    fig, ax = plt.subplots(figsize=figsize)\n",
    "    channel_indices = np.arange(len(da.channel))\n",
    "    sns.barplot(x=channel_indices, y=da, color='steelblue', ax=ax)\n",
    "    ax.set(xlabel=\"Channel\", ylabel=\"Power\")\n",
    "    ax.set_xticks(channel_indices);\n",
    "    ax.set_xticklabels(da.channel.values, rotation=90);"
   ]
  },
  {
   "cell_type": "code",
   "execution_count": 8,
   "metadata": {
    "execution": {
     "iopub.execute_input": "2021-03-13T21:40:27.812733Z",
     "iopub.status.busy": "2021-03-13T21:40:27.812248Z",
     "iopub.status.idle": "2021-03-13T21:40:27.854407Z",
     "shell.execute_reply": "2021-03-13T21:40:27.853468Z",
     "shell.execute_reply.started": "2021-03-13T21:40:27.812674Z"
    }
   },
   "outputs": [],
   "source": [
    "def create_drift_report(spg, epoch_length, pdf_path):\n",
    "    \n",
    "    theta_range = (5, 10)\n",
    "    theta_power = get_bandpower(spg, theta_range, spg.channel.values)\n",
    "    epoched_theta_power = theta_power.coarsen(time=epoch_length, boundary='trim').mean()\n",
    "\n",
    "    ripple_range = (150, 250)\n",
    "    ripple_power = get_bandpower(spg, ripple_range, spg.channel.values)\n",
    "    epoched_ripple_power = ripple_power.coarsen(time=epoch_length, boundary='trim').mean()\n",
    "    \n",
    "    pdf_path = pdf_path.parent / (pdf_path.stem + f'-{epoch_length}s' + pdf_path.suffix)\n",
    "    with PdfPages(pdf_path) as pdf:\n",
    "        plot_bandpower_vs_channel_vs_time(epoched_theta_power)\n",
    "        plt.title(f'Theta power, {theta_range}, {epoch_length}s epochs')\n",
    "        pdf.savefig()\n",
    "        plt.close()\n",
    "\n",
    "        plot_bandpower_vs_channel_vs_time(epoched_ripple_power)\n",
    "        plt.title(f'Ripple power, {ripple_range}, {epoch_length}s epochs')\n",
    "        pdf.savefig()\n",
    "        plt.close()\n",
    "\n",
    "        assert len(epoched_theta_power) == len(epoched_ripple_power)\n",
    "        for epoch in range(len(epoched_theta_power)):\n",
    "            plot_bandpower_vs_channel(epoched_theta_power[epoch])\n",
    "            plt.title(f'Theta power, epoch: {epoch}, time: {epoched_theta_power[epoch].time.values}s')\n",
    "            pdf.savefig()\n",
    "            plt.close()\n",
    "\n",
    "            plot_bandpower_vs_channel(epoched_ripple_power[epoch])\n",
    "            plt.title(f'Ripple power, epoch: {epoch}, time: {epoched_theta_power[epoch].time.values}s')\n",
    "            pdf.savefig()\n",
    "            plt.close()\n",
    "\n",
    "        d = pdf.infodict()\n",
    "        d['Title'] = f'{pdf_path.stem}'\n",
    "        d['Author'] = 'Graham Findlay'\n",
    "        d['Subject'] = 'Power profiles for tracking CA1 drift'\n",
    "        d['CreationDate'] = datetime.now()"
   ]
  },
  {
   "cell_type": "code",
   "execution_count": 9,
   "metadata": {
    "execution": {
     "iopub.execute_input": "2021-03-13T21:40:29.140714Z",
     "iopub.status.busy": "2021-03-13T21:40:29.140232Z",
     "iopub.status.idle": "2021-03-13T21:40:29.162330Z",
     "shell.execute_reply": "2021-03-13T21:40:29.160918Z",
     "shell.execute_reply.started": "2021-03-13T21:40:29.140654Z"
    }
   },
   "outputs": [],
   "source": [
    "def create_drift_reports(bin_path, pdf_path, chans):\n",
    "    sig = load_timeseries(bin_path, chans)\n",
    "    spg = parallel_spectrogram_welch(sig)\n",
    "    \n",
    "    create_drift_report(spg, 600, pdf_path)\n",
    "    create_drift_report(spg, 300, pdf_path)\n",
    "    create_drift_report(spg, 60, pdf_path)"
   ]
  },
  {
   "cell_type": "code",
   "execution_count": 32,
   "metadata": {
    "execution": {
     "iopub.execute_input": "2021-03-15T01:34:26.298742Z",
     "iopub.status.busy": "2021-03-15T01:34:26.298266Z",
     "iopub.status.idle": "2021-03-15T01:34:26.318077Z",
     "shell.execute_reply": "2021-03-15T01:34:26.317233Z",
     "shell.execute_reply.started": "2021-03-15T01:34:26.298682Z"
    }
   },
   "outputs": [],
   "source": [
    "subject = \"Doppio\""
   ]
  },
  {
   "cell_type": "code",
   "execution_count": 39,
   "metadata": {
    "execution": {
     "iopub.execute_input": "2021-03-15T01:37:42.497008Z",
     "iopub.status.busy": "2021-03-15T01:37:42.496529Z",
     "iopub.status.idle": "2021-03-15T03:25:05.934502Z",
     "shell.execute_reply": "2021-03-15T03:25:05.933466Z",
     "shell.execute_reply.started": "2021-03-15T01:37:42.496949Z"
    }
   },
   "outputs": [
    {
     "name": "stdout",
     "output_type": "stream",
     "text": [
      "nChan: 385, nFileSamp: 18000019\n",
      "20:51:22: Finished /Volumes/neuropixel_archive/Data/chronic/CNPIX4-Doppio/3-17-2020/3-17-2020_g0/3-17-2020_g0_imec0/3-17-2020_g0_t6.imec0.lf.bin\n",
      "nChan: 385, nFileSamp: 18000019\n",
      "21:01:35: Finished /Volumes/neuropixel_archive/Data/chronic/CNPIX4-Doppio/3-17-2020/3-17-2020_g0/3-17-2020_g0_imec0/3-17-2020_g0_t7.imec0.lf.bin\n",
      "nChan: 385, nFileSamp: 18000019\n",
      "21:11:46: Finished /Volumes/neuropixel_archive/Data/chronic/CNPIX4-Doppio/3-17-2020/3-17-2020_g0/3-17-2020_g0_imec0/3-17-2020_g0_t8.imec0.lf.bin\n",
      "nChan: 385, nFileSamp: 18000019\n",
      "21:22:28: Finished /Volumes/neuropixel_archive/Data/chronic/CNPIX4-Doppio/3-17-2020/3-17-2020_g0/3-17-2020_g0_imec0/3-17-2020_g0_t9.imec0.lf.bin\n",
      "nChan: 385, nFileSamp: 18000019\n",
      "21:33:32: Finished /Volumes/neuropixel_archive/Data/chronic/CNPIX4-Doppio/3-17-2020/3-17-2020_g0/3-17-2020_g0_imec0/3-17-2020_g0_t10.imec0.lf.bin\n",
      "nChan: 385, nFileSamp: 17715805\n",
      "21:44:44: Finished /Volumes/neuropixel_archive/Data/chronic/CNPIX4-Doppio/3-17-2020/3-17-2020_g0/3-17-2020_g0_imec0/3-17-2020_g0_t11.imec0.lf.bin\n",
      "nChan: 385, nFileSamp: 18000019\n",
      "21:56:11: Finished /Volumes/neuropixel_archive/Data/chronic/CNPIX4-Doppio/3-17-2020/3-18-2020_g0/3-18-2020_g0_imec0/3-18-2020_g0_t6.imec0.lf.bin\n",
      "nChan: 385, nFileSamp: 18000019\n",
      "22:07:29: Finished /Volumes/neuropixel_archive/Data/chronic/CNPIX4-Doppio/3-17-2020/3-18-2020_g0/3-18-2020_g0_imec0/3-18-2020_g0_t7.imec0.lf.bin\n",
      "nChan: 385, nFileSamp: 18000019\n",
      "22:18:52: Finished /Volumes/neuropixel_archive/Data/chronic/CNPIX4-Doppio/3-17-2020/3-18-2020_g0/3-18-2020_g0_imec0/3-18-2020_g0_t8.imec0.lf.bin\n",
      "nChan: 385, nFileSamp: 10392376\n",
      "22:25:05: Finished /Volumes/neuropixel_archive/Data/chronic/CNPIX4-Doppio/3-17-2020/3-18-2020_g0/3-18-2020_g0_imec0/3-18-2020_g0_t9.imec0.lf.bin\n",
      "no meta file\n"
     ]
    },
    {
     "ename": "KeyError",
     "evalue": "'nSavedChans'",
     "output_type": "error",
     "traceback": [
      "\u001b[0;31m---------------------------------------------------------------------------\u001b[0m",
      "\u001b[0;31mKeyError\u001b[0m                                  Traceback (most recent call last)",
      "\u001b[0;32m<ipython-input-39-398f8880e177>\u001b[0m in \u001b[0;36m<module>\u001b[0;34m()\u001b[0m\n\u001b[1;32m      5\u001b[0m \u001b[0;34m\u001b[0m\u001b[0m\n\u001b[1;32m      6\u001b[0m \u001b[0;32mfor\u001b[0m \u001b[0mbin_path\u001b[0m\u001b[0;34m,\u001b[0m \u001b[0mpdf_path\u001b[0m \u001b[0;32min\u001b[0m \u001b[0mzip\u001b[0m\u001b[0;34m(\u001b[0m\u001b[0mbin_paths\u001b[0m\u001b[0;34m,\u001b[0m \u001b[0mpdf_paths\u001b[0m\u001b[0;34m)\u001b[0m\u001b[0;34m:\u001b[0m\u001b[0;34m\u001b[0m\u001b[0;34m\u001b[0m\u001b[0m\n\u001b[0;32m----> 7\u001b[0;31m     \u001b[0mcreate_drift_reports\u001b[0m\u001b[0;34m(\u001b[0m\u001b[0mbin_path\u001b[0m\u001b[0;34m,\u001b[0m \u001b[0mpdf_path\u001b[0m\u001b[0;34m,\u001b[0m \u001b[0mdrift_tracking_chans\u001b[0m\u001b[0;34m)\u001b[0m\u001b[0;34m\u001b[0m\u001b[0;34m\u001b[0m\u001b[0m\n\u001b[0m\u001b[1;32m      8\u001b[0m     \u001b[0mcurrent_time\u001b[0m \u001b[0;34m=\u001b[0m \u001b[0mdatetime\u001b[0m\u001b[0;34m.\u001b[0m\u001b[0mnow\u001b[0m\u001b[0;34m(\u001b[0m\u001b[0;34m)\u001b[0m\u001b[0;34m.\u001b[0m\u001b[0mstrftime\u001b[0m\u001b[0;34m(\u001b[0m\u001b[0;34m\"%H:%M:%S\"\u001b[0m\u001b[0;34m)\u001b[0m\u001b[0;34m\u001b[0m\u001b[0;34m\u001b[0m\u001b[0m\n\u001b[1;32m      9\u001b[0m     \u001b[0mprint\u001b[0m\u001b[0;34m(\u001b[0m\u001b[0;34mf\"{current_time}: Finished {str(bin_path)}\"\u001b[0m\u001b[0;34m)\u001b[0m\u001b[0;34m\u001b[0m\u001b[0;34m\u001b[0m\u001b[0m\n",
      "\u001b[0;32m<ipython-input-9-2e13e5cabaf2>\u001b[0m in \u001b[0;36mcreate_drift_reports\u001b[0;34m(bin_path, pdf_path, chans)\u001b[0m\n\u001b[1;32m      1\u001b[0m \u001b[0;32mdef\u001b[0m \u001b[0mcreate_drift_reports\u001b[0m\u001b[0;34m(\u001b[0m\u001b[0mbin_path\u001b[0m\u001b[0;34m,\u001b[0m \u001b[0mpdf_path\u001b[0m\u001b[0;34m,\u001b[0m \u001b[0mchans\u001b[0m\u001b[0;34m)\u001b[0m\u001b[0;34m:\u001b[0m\u001b[0;34m\u001b[0m\u001b[0;34m\u001b[0m\u001b[0m\n\u001b[0;32m----> 2\u001b[0;31m     \u001b[0msig\u001b[0m \u001b[0;34m=\u001b[0m \u001b[0mload_timeseries\u001b[0m\u001b[0;34m(\u001b[0m\u001b[0mbin_path\u001b[0m\u001b[0;34m,\u001b[0m \u001b[0mchans\u001b[0m\u001b[0;34m)\u001b[0m\u001b[0;34m\u001b[0m\u001b[0;34m\u001b[0m\u001b[0m\n\u001b[0m\u001b[1;32m      3\u001b[0m     \u001b[0mspg\u001b[0m \u001b[0;34m=\u001b[0m \u001b[0mparallel_spectrogram_welch\u001b[0m\u001b[0;34m(\u001b[0m\u001b[0msig\u001b[0m\u001b[0;34m)\u001b[0m\u001b[0;34m\u001b[0m\u001b[0;34m\u001b[0m\u001b[0m\n\u001b[1;32m      4\u001b[0m \u001b[0;34m\u001b[0m\u001b[0m\n\u001b[1;32m      5\u001b[0m     \u001b[0mcreate_drift_report\u001b[0m\u001b[0;34m(\u001b[0m\u001b[0mspg\u001b[0m\u001b[0;34m,\u001b[0m \u001b[0;36m600\u001b[0m\u001b[0;34m,\u001b[0m \u001b[0mpdf_path\u001b[0m\u001b[0;34m)\u001b[0m\u001b[0;34m\u001b[0m\u001b[0;34m\u001b[0m\u001b[0m\n",
      "\u001b[0;32m/home/gfindlay/Documents/ecephys/ecephys/sglx_utils/sglx_utils.py\u001b[0m in \u001b[0;36mload_timeseries\u001b[0;34m(bin_path, chans, start_time, end_time)\u001b[0m\n\u001b[1;32m     44\u001b[0m \u001b[0;34m\u001b[0m\u001b[0m\n\u001b[1;32m     45\u001b[0m     \u001b[0mmeta\u001b[0m \u001b[0;34m=\u001b[0m \u001b[0mreadMeta\u001b[0m\u001b[0;34m(\u001b[0m\u001b[0mbin_path\u001b[0m\u001b[0;34m)\u001b[0m\u001b[0;34m\u001b[0m\u001b[0;34m\u001b[0m\u001b[0m\n\u001b[0;32m---> 46\u001b[0;31m     \u001b[0mrawData\u001b[0m \u001b[0;34m=\u001b[0m \u001b[0mmakeMemMapRaw\u001b[0m\u001b[0;34m(\u001b[0m\u001b[0mbin_path\u001b[0m\u001b[0;34m,\u001b[0m \u001b[0mmeta\u001b[0m\u001b[0;34m)\u001b[0m\u001b[0;34m\u001b[0m\u001b[0;34m\u001b[0m\u001b[0m\n\u001b[0m\u001b[1;32m     47\u001b[0m     \u001b[0mfs\u001b[0m \u001b[0;34m=\u001b[0m \u001b[0mSampRate\u001b[0m\u001b[0;34m(\u001b[0m\u001b[0mmeta\u001b[0m\u001b[0;34m)\u001b[0m\u001b[0;34m\u001b[0m\u001b[0;34m\u001b[0m\u001b[0m\n\u001b[1;32m     48\u001b[0m \u001b[0;34m\u001b[0m\u001b[0m\n",
      "\u001b[0;32m/home/gfindlay/Documents/ecephys/ecephys/sglx_utils/external/readSGLX.py\u001b[0m in \u001b[0;36mmakeMemMapRaw\u001b[0;34m(binFullPath, meta)\u001b[0m\n\u001b[1;32m    269\u001b[0m \u001b[0;34m\u001b[0m\u001b[0m\n\u001b[1;32m    270\u001b[0m \u001b[0;32mdef\u001b[0m \u001b[0mmakeMemMapRaw\u001b[0m\u001b[0;34m(\u001b[0m\u001b[0mbinFullPath\u001b[0m\u001b[0;34m,\u001b[0m \u001b[0mmeta\u001b[0m\u001b[0;34m)\u001b[0m\u001b[0;34m:\u001b[0m\u001b[0;34m\u001b[0m\u001b[0;34m\u001b[0m\u001b[0m\n\u001b[0;32m--> 271\u001b[0;31m     \u001b[0mnChan\u001b[0m \u001b[0;34m=\u001b[0m \u001b[0mint\u001b[0m\u001b[0;34m(\u001b[0m\u001b[0mmeta\u001b[0m\u001b[0;34m[\u001b[0m\u001b[0;34m'nSavedChans'\u001b[0m\u001b[0;34m]\u001b[0m\u001b[0;34m)\u001b[0m\u001b[0;34m\u001b[0m\u001b[0;34m\u001b[0m\u001b[0m\n\u001b[0m\u001b[1;32m    272\u001b[0m     \u001b[0mnFileSamp\u001b[0m \u001b[0;34m=\u001b[0m \u001b[0mint\u001b[0m\u001b[0;34m(\u001b[0m\u001b[0mint\u001b[0m\u001b[0;34m(\u001b[0m\u001b[0mmeta\u001b[0m\u001b[0;34m[\u001b[0m\u001b[0;34m'fileSizeBytes'\u001b[0m\u001b[0;34m]\u001b[0m\u001b[0;34m)\u001b[0m\u001b[0;34m/\u001b[0m\u001b[0;34m(\u001b[0m\u001b[0;36m2\u001b[0m\u001b[0;34m*\u001b[0m\u001b[0mnChan\u001b[0m\u001b[0;34m)\u001b[0m\u001b[0;34m)\u001b[0m\u001b[0;34m\u001b[0m\u001b[0;34m\u001b[0m\u001b[0m\n\u001b[1;32m    273\u001b[0m     \u001b[0mprint\u001b[0m\u001b[0;34m(\u001b[0m\u001b[0;34m\"nChan: %d, nFileSamp: %d\"\u001b[0m \u001b[0;34m%\u001b[0m \u001b[0;34m(\u001b[0m\u001b[0mnChan\u001b[0m\u001b[0;34m,\u001b[0m \u001b[0mnFileSamp\u001b[0m\u001b[0;34m)\u001b[0m\u001b[0;34m)\u001b[0m\u001b[0;34m\u001b[0m\u001b[0;34m\u001b[0m\u001b[0m\n",
      "\u001b[0;31mKeyError\u001b[0m: 'nSavedChans'"
     ]
    }
   ],
   "source": [
    "drift_tracking_chans = channel_groups.drift_tracking[subject]\n",
    "\n",
    "bin_paths = paths.get_sglx_style_datapaths(subject=subject, condition=\"all-dark-periods\", ext=\"lf.bin\")\n",
    "pdf_paths = paths.get_sglx_style_datapaths(subject=subject, condition=\"all-dark-periods\", ext=\"drift.pdf\")\n",
    "\n",
    "for bin_path, pdf_path in zip(bin_paths, pdf_paths):\n",
    "    create_drift_reports(bin_path, pdf_path, drift_tracking_chans)\n",
    "    current_time = datetime.now().strftime(\"%H:%M:%S\")\n",
    "    print(f\"{current_time}: Finished {str(bin_path)}\")"
   ]
  },
  {
   "cell_type": "code",
   "execution_count": null,
   "metadata": {},
   "outputs": [],
   "source": []
  }
 ],
 "metadata": {
  "kernelspec": {
   "display_name": "Python 3",
   "language": "python",
   "name": "python3"
  },
  "language_info": {
   "codemirror_mode": {
    "name": "ipython",
    "version": 3
   },
   "file_extension": ".py",
   "mimetype": "text/x-python",
   "name": "python",
   "nbconvert_exporter": "python",
   "pygments_lexer": "ipython3",
   "version": "3.7.9"
  }
 },
 "nbformat": 4,
 "nbformat_minor": 4
}
