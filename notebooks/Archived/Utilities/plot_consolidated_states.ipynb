{
 "cells": [
  {
   "cell_type": "code",
   "execution_count": 1,
   "metadata": {
    "execution": {
     "iopub.execute_input": "2021-03-17T18:57:31.886898Z",
     "iopub.status.busy": "2021-03-17T18:57:31.886362Z",
     "iopub.status.idle": "2021-03-17T18:57:31.909176Z",
     "shell.execute_reply": "2021-03-17T18:57:31.908329Z",
     "shell.execute_reply.started": "2021-03-17T18:57:31.886836Z"
    }
   },
   "outputs": [],
   "source": [
    "%load_ext autoreload\n",
    "%autoreload 2"
   ]
  },
  {
   "cell_type": "code",
   "execution_count": 42,
   "metadata": {
    "execution": {
     "iopub.execute_input": "2021-03-17T19:08:36.563558Z",
     "iopub.status.busy": "2021-03-17T19:08:36.563064Z",
     "iopub.status.idle": "2021-03-17T19:08:36.583210Z",
     "shell.execute_reply": "2021-03-17T19:08:36.582307Z",
     "shell.execute_reply.started": "2021-03-17T19:08:36.563499Z"
    }
   },
   "outputs": [],
   "source": [
    "from ecephys_analyses.data import paths\n",
    "from ecephys.scoring import load_datetime_hypnogram\n",
    "import ecephys.plot as eplt\n",
    "import pandas as pd\n",
    "import matplotlib.pyplot as plt"
   ]
  },
  {
   "cell_type": "code",
   "execution_count": 77,
   "metadata": {
    "execution": {
     "iopub.execute_input": "2021-03-17T20:36:36.014232Z",
     "iopub.status.busy": "2021-03-17T20:36:36.013738Z",
     "iopub.status.idle": "2021-03-17T20:36:36.035877Z",
     "shell.execute_reply": "2021-03-17T20:36:36.035170Z",
     "shell.execute_reply.started": "2021-03-17T20:36:36.014173Z"
    }
   },
   "outputs": [],
   "source": [
    "subject=\"Valentino\"\n",
    "condition=\"sleep-deprivation-12h\""
   ]
  },
  {
   "cell_type": "code",
   "execution_count": 78,
   "metadata": {
    "execution": {
     "iopub.execute_input": "2021-03-17T20:36:36.415376Z",
     "iopub.status.busy": "2021-03-17T20:36:36.414899Z",
     "iopub.status.idle": "2021-03-17T20:36:36.459704Z",
     "shell.execute_reply": "2021-03-17T20:36:36.458837Z",
     "shell.execute_reply.started": "2021-03-17T20:36:36.415318Z"
    }
   },
   "outputs": [],
   "source": [
    "hypnogram_paths = paths.get_sglx_style_datapaths(subject=subject, condition=condition, ext=\"hypnogram.tsv\")"
   ]
  },
  {
   "cell_type": "code",
   "execution_count": 79,
   "metadata": {
    "execution": {
     "iopub.execute_input": "2021-03-17T20:36:36.806283Z",
     "iopub.status.busy": "2021-03-17T20:36:36.805787Z",
     "iopub.status.idle": "2021-03-17T20:36:40.547185Z",
     "shell.execute_reply": "2021-03-17T20:36:40.545776Z",
     "shell.execute_reply.started": "2021-03-17T20:36:36.806225Z"
    }
   },
   "outputs": [],
   "source": [
    "hypnograms = [load_datetime_hypnogram(path) for path in hypnogram_paths]"
   ]
  },
  {
   "cell_type": "code",
   "execution_count": 80,
   "metadata": {
    "execution": {
     "iopub.execute_input": "2021-03-17T20:36:40.630794Z",
     "iopub.status.busy": "2021-03-17T20:36:40.630647Z",
     "iopub.status.idle": "2021-03-17T20:36:40.647739Z",
     "shell.execute_reply": "2021-03-17T20:36:40.646993Z",
     "shell.execute_reply.started": "2021-03-17T20:36:40.630776Z"
    }
   },
   "outputs": [],
   "source": [
    "hypnogram = pd.concat(hypnograms).reset_index(drop=True)"
   ]
  },
  {
   "cell_type": "code",
   "execution_count": 81,
   "metadata": {
    "execution": {
     "iopub.execute_input": "2021-03-17T20:36:40.648816Z",
     "iopub.status.busy": "2021-03-17T20:36:40.648665Z",
     "iopub.status.idle": "2021-03-17T20:36:40.669881Z",
     "shell.execute_reply": "2021-03-17T20:36:40.669330Z",
     "shell.execute_reply.started": "2021-03-17T20:36:40.648794Z"
    }
   },
   "outputs": [
    {
     "data": {
      "text/html": [
       "<div>\n",
       "<style scoped>\n",
       "    .dataframe tbody tr th:only-of-type {\n",
       "        vertical-align: middle;\n",
       "    }\n",
       "\n",
       "    .dataframe tbody tr th {\n",
       "        vertical-align: top;\n",
       "    }\n",
       "\n",
       "    .dataframe thead th {\n",
       "        text-align: right;\n",
       "    }\n",
       "</style>\n",
       "<table border=\"1\" class=\"dataframe\">\n",
       "  <thead>\n",
       "    <tr style=\"text-align: right;\">\n",
       "      <th></th>\n",
       "      <th>state</th>\n",
       "      <th>start_time</th>\n",
       "      <th>end_time</th>\n",
       "      <th>duration</th>\n",
       "    </tr>\n",
       "  </thead>\n",
       "  <tbody>\n",
       "    <tr>\n",
       "      <th>0</th>\n",
       "      <td>aWk</td>\n",
       "      <td>2020-02-20 09:07:26.000000000</td>\n",
       "      <td>2020-02-20 09:09:18.525599999</td>\n",
       "      <td>0 days 00:01:52.525599999</td>\n",
       "    </tr>\n",
       "    <tr>\n",
       "      <th>1</th>\n",
       "      <td>qWk</td>\n",
       "      <td>2020-02-20 09:09:18.525599999</td>\n",
       "      <td>2020-02-20 09:09:39.530400000</td>\n",
       "      <td>0 days 00:00:21.004800</td>\n",
       "    </tr>\n",
       "    <tr>\n",
       "      <th>2</th>\n",
       "      <td>aWk</td>\n",
       "      <td>2020-02-20 09:09:39.530400000</td>\n",
       "      <td>2020-02-20 09:11:34.181600000</td>\n",
       "      <td>0 days 00:01:54.651200</td>\n",
       "    </tr>\n",
       "    <tr>\n",
       "      <th>3</th>\n",
       "      <td>qWk</td>\n",
       "      <td>2020-02-20 09:11:34.181600000</td>\n",
       "      <td>2020-02-20 09:12:00.351889980</td>\n",
       "      <td>0 days 00:00:26.170289980</td>\n",
       "    </tr>\n",
       "    <tr>\n",
       "      <th>4</th>\n",
       "      <td>aWk</td>\n",
       "      <td>2020-02-20 09:12:00.351889980</td>\n",
       "      <td>2020-02-20 09:12:16.702002614</td>\n",
       "      <td>0 days 00:00:16.350112634</td>\n",
       "    </tr>\n",
       "    <tr>\n",
       "      <th>...</th>\n",
       "      <td>...</td>\n",
       "      <td>...</td>\n",
       "      <td>...</td>\n",
       "      <td>...</td>\n",
       "    </tr>\n",
       "    <tr>\n",
       "      <th>865</th>\n",
       "      <td>Wake</td>\n",
       "      <td>2020-02-20 21:01:55.990234375</td>\n",
       "      <td>2020-02-20 21:02:13.990234375</td>\n",
       "      <td>0 days 00:00:18</td>\n",
       "    </tr>\n",
       "    <tr>\n",
       "      <th>866</th>\n",
       "      <td>N1</td>\n",
       "      <td>2020-02-20 21:02:13.990234375</td>\n",
       "      <td>2020-02-20 21:02:43.990234375</td>\n",
       "      <td>0 days 00:00:30</td>\n",
       "    </tr>\n",
       "    <tr>\n",
       "      <th>867</th>\n",
       "      <td>N2</td>\n",
       "      <td>2020-02-20 21:02:43.990234375</td>\n",
       "      <td>2020-02-20 21:03:01.990234375</td>\n",
       "      <td>0 days 00:00:18</td>\n",
       "    </tr>\n",
       "    <tr>\n",
       "      <th>868</th>\n",
       "      <td>N1</td>\n",
       "      <td>2020-02-20 21:03:01.990234375</td>\n",
       "      <td>2020-02-20 21:04:07.990234375</td>\n",
       "      <td>0 days 00:01:06</td>\n",
       "    </tr>\n",
       "    <tr>\n",
       "      <th>869</th>\n",
       "      <td>Wake</td>\n",
       "      <td>2020-02-20 21:04:07.990234375</td>\n",
       "      <td>2020-02-20 21:07:25.990234375</td>\n",
       "      <td>0 days 00:03:18</td>\n",
       "    </tr>\n",
       "  </tbody>\n",
       "</table>\n",
       "<p>870 rows × 4 columns</p>\n",
       "</div>"
      ],
      "text/plain": [
       "    state                    start_time                      end_time  \\\n",
       "0     aWk 2020-02-20 09:07:26.000000000 2020-02-20 09:09:18.525599999   \n",
       "1     qWk 2020-02-20 09:09:18.525599999 2020-02-20 09:09:39.530400000   \n",
       "2     aWk 2020-02-20 09:09:39.530400000 2020-02-20 09:11:34.181600000   \n",
       "3     qWk 2020-02-20 09:11:34.181600000 2020-02-20 09:12:00.351889980   \n",
       "4     aWk 2020-02-20 09:12:00.351889980 2020-02-20 09:12:16.702002614   \n",
       "..    ...                           ...                           ...   \n",
       "865  Wake 2020-02-20 21:01:55.990234375 2020-02-20 21:02:13.990234375   \n",
       "866    N1 2020-02-20 21:02:13.990234375 2020-02-20 21:02:43.990234375   \n",
       "867    N2 2020-02-20 21:02:43.990234375 2020-02-20 21:03:01.990234375   \n",
       "868    N1 2020-02-20 21:03:01.990234375 2020-02-20 21:04:07.990234375   \n",
       "869  Wake 2020-02-20 21:04:07.990234375 2020-02-20 21:07:25.990234375   \n",
       "\n",
       "                     duration  \n",
       "0   0 days 00:01:52.525599999  \n",
       "1      0 days 00:00:21.004800  \n",
       "2      0 days 00:01:54.651200  \n",
       "3   0 days 00:00:26.170289980  \n",
       "4   0 days 00:00:16.350112634  \n",
       "..                        ...  \n",
       "865           0 days 00:00:18  \n",
       "866           0 days 00:00:30  \n",
       "867           0 days 00:00:18  \n",
       "868           0 days 00:01:06  \n",
       "869           0 days 00:03:18  \n",
       "\n",
       "[870 rows x 4 columns]"
      ]
     },
     "execution_count": 81,
     "metadata": {},
     "output_type": "execute_result"
    }
   ],
   "source": [
    "hypnogram"
   ]
  },
  {
   "cell_type": "code",
   "execution_count": 82,
   "metadata": {
    "execution": {
     "iopub.execute_input": "2021-03-17T20:36:40.670715Z",
     "iopub.status.busy": "2021-03-17T20:36:40.670558Z",
     "iopub.status.idle": "2021-03-17T20:36:41.800332Z",
     "shell.execute_reply": "2021-03-17T20:36:41.799649Z",
     "shell.execute_reply.started": "2021-03-17T20:36:40.670699Z"
    }
   },
   "outputs": [
    {
     "data": {
      "image/png": "[encoded data removed]",
      "text/plain": [
       "<Figure size 2592x144 with 1 Axes>"
      ]
     },
     "metadata": {
      "needs_background": "light"
     },
     "output_type": "display_data"
    }
   ],
   "source": [
    "eplt.plot_hypnogram_overlay(hypnogram, figsize=(36, 2))"
   ]
  },
  {
   "cell_type": "code",
   "execution_count": 83,
   "metadata": {
    "execution": {
     "iopub.execute_input": "2021-03-17T20:36:56.722140Z",
     "iopub.status.busy": "2021-03-17T20:36:56.721631Z",
     "iopub.status.idle": "2021-03-17T20:36:56.742781Z",
     "shell.execute_reply": "2021-03-17T20:36:56.741875Z",
     "shell.execute_reply.started": "2021-03-17T20:36:56.722069Z"
    }
   },
   "outputs": [],
   "source": [
    "matches = hypnogram['state'].isin(['N1', 'N2', 'qWk']) & (hypnogram['duration'] > pd.Timedelta(45, 's'))"
   ]
  },
  {
   "cell_type": "code",
   "execution_count": 85,
   "metadata": {
    "execution": {
     "iopub.execute_input": "2021-03-17T20:37:17.237143Z",
     "iopub.status.busy": "2021-03-17T20:37:17.236649Z",
     "iopub.status.idle": "2021-03-17T20:37:18.575968Z",
     "shell.execute_reply": "2021-03-17T20:37:18.575267Z",
     "shell.execute_reply.started": "2021-03-17T20:37:17.237084Z"
    }
   },
   "outputs": [
    {
     "data": {
      "image/png": "[encoded data removed]",
      "text/plain": [
       "<Figure size 2592x144 with 1 Axes>"
      ]
     },
     "metadata": {
      "needs_background": "light"
     },
     "output_type": "display_data"
    }
   ],
   "source": [
    "eplt.plot_hypnogram_overlay(hypnogram, figsize=(36, 2))\n",
    "ax = plt.gca()\n",
    "eplt.plot_hypnogram_overlay(hypnogram[matches], state_colors={'N1': 'orange', 'N2': 'red', 'qWk': 'yellow'}, ax=ax, figsize=(36, 2))"
   ]
  },
  {
   "cell_type": "code",
   "execution_count": 74,
   "metadata": {
    "execution": {
     "iopub.execute_input": "2021-03-17T19:26:22.749983Z",
     "iopub.status.busy": "2021-03-17T19:26:22.749484Z",
     "iopub.status.idle": "2021-03-17T19:26:22.769606Z",
     "shell.execute_reply": "2021-03-17T19:26:22.768912Z",
     "shell.execute_reply.started": "2021-03-17T19:26:22.749924Z"
    }
   },
   "outputs": [],
   "source": [
    "# Merge N1 and N2 into NREM"
   ]
  },
  {
   "cell_type": "code",
   "execution_count": null,
   "metadata": {},
   "outputs": [],
   "source": []
  }
 ],
 "metadata": {
  "kernelspec": {
   "display_name": "Python 3 (ipykernel)",
   "language": "python",
   "name": "python3"
  },
  "language_info": {
   "codemirror_mode": {
    "name": "ipython",
    "version": 3
   },
   "file_extension": ".py",
   "mimetype": "text/x-python",
   "name": "python",
   "nbconvert_exporter": "python",
   "pygments_lexer": "ipython3",
   "version": "3.7.10"
  }
 },
 "nbformat": 4,
 "nbformat_minor": 4
}
