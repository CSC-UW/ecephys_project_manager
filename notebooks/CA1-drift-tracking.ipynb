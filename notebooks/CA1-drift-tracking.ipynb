{
 "cells": [
  {
   "cell_type": "code",
   "execution_count": 1,
   "metadata": {
    "execution": {
     "iopub.execute_input": "2021-02-20T00:00:51.172828Z",
     "iopub.status.busy": "2021-02-20T00:00:51.172405Z",
     "iopub.status.idle": "2021-02-20T00:00:51.188927Z",
     "shell.execute_reply": "2021-02-20T00:00:51.188149Z",
     "shell.execute_reply.started": "2021-02-20T00:00:51.172772Z"
    }
   },
   "outputs": [],
   "source": [
    "%load_ext autoreload\n",
    "%autoreload 2"
   ]
  },
  {
   "cell_type": "code",
   "execution_count": 2,
   "metadata": {
    "execution": {
     "iopub.execute_input": "2021-02-20T00:00:51.872600Z",
     "iopub.status.busy": "2021-02-20T00:00:51.872289Z",
     "iopub.status.idle": "2021-02-20T00:00:52.463613Z",
     "shell.execute_reply": "2021-02-20T00:00:52.462889Z",
     "shell.execute_reply.started": "2021-02-20T00:00:51.872559Z"
    }
   },
   "outputs": [],
   "source": [
    "from ecephys_analyses.data import paths, channel_groups\n",
    "from ecephys.signal.sharp_wave_ripples import apply_ripple_filter\n",
    "from ecephys.sglx_utils import load_timeseries\n",
    "from ecephys.plot import lfp_explorer\n",
    "import ecephys.signal.timefrequency as tfr"
   ]
  },
  {
   "cell_type": "code",
   "execution_count": 3,
   "metadata": {
    "execution": {
     "iopub.execute_input": "2021-02-20T00:00:52.656573Z",
     "iopub.status.busy": "2021-02-20T00:00:52.656259Z",
     "iopub.status.idle": "2021-02-20T00:00:52.677123Z",
     "shell.execute_reply": "2021-02-20T00:00:52.676543Z",
     "shell.execute_reply.started": "2021-02-20T00:00:52.656532Z"
    }
   },
   "outputs": [],
   "source": [
    "import pandas as pd\n",
    "import numpy as np\n",
    "from ripple_detection.core import get_envelope\n",
    "import seaborn as sns\n",
    "import matplotlib.pyplot as plt\n",
    "import xarray as xr\n",
    "from matplotlib.backends.backend_pdf import PdfPages\n",
    "from datetime import datetime"
   ]
  },
  {
   "cell_type": "code",
   "execution_count": 4,
   "metadata": {
    "execution": {
     "iopub.execute_input": "2021-02-20T00:00:53.168211Z",
     "iopub.status.busy": "2021-02-20T00:00:53.167998Z",
     "iopub.status.idle": "2021-02-20T00:00:53.186353Z",
     "shell.execute_reply": "2021-02-20T00:00:53.185803Z",
     "shell.execute_reply.started": "2021-02-20T00:00:53.168186Z"
    }
   },
   "outputs": [],
   "source": [
    "def parallel_spectrogram_welch(sig, **kwargs):\n",
    "    freqs, spg_times, spg = tfr.parallel_spectrogram_welch(sig.values, sig.fs, **kwargs)\n",
    "    spg_times = spg_times + sig.time.values.min()\n",
    "    return xr.DataArray(\n",
    "        spg,\n",
    "        dims=(\"frequency\", \"time\", \"channel\"),\n",
    "        coords={\"frequency\": freqs, \"time\": spg_times, \"channel\": sig.channel.values},\n",
    "        attrs={'units': f\"{sig.units}^2/Hz\", 'file_start': sig.fileCreateTime}\n",
    "    )"
   ]
  },
  {
   "cell_type": "code",
   "execution_count": 5,
   "metadata": {
    "execution": {
     "iopub.execute_input": "2021-02-20T00:00:53.616079Z",
     "iopub.status.busy": "2021-02-20T00:00:53.615953Z",
     "iopub.status.idle": "2021-02-20T00:00:53.633006Z",
     "shell.execute_reply": "2021-02-20T00:00:53.632515Z",
     "shell.execute_reply.started": "2021-02-20T00:00:53.616064Z"
    }
   },
   "outputs": [],
   "source": [
    "def get_bandpower(spg, f_range, chans):\n",
    "    bandpower = spg.sel(frequency=slice(*f_range)).sum(\n",
    "        dim=\"frequency\"\n",
    "    )\n",
    "    bandpower.attrs[\"freq_range\"] = f_range\n",
    "    bandpower.attrs['chans'] = chans\n",
    "\n",
    "    return bandpower"
   ]
  },
  {
   "cell_type": "code",
   "execution_count": 6,
   "metadata": {
    "execution": {
     "iopub.execute_input": "2021-02-20T00:00:53.952949Z",
     "iopub.status.busy": "2021-02-20T00:00:53.952706Z",
     "iopub.status.idle": "2021-02-20T00:00:53.970786Z",
     "shell.execute_reply": "2021-02-20T00:00:53.970069Z",
     "shell.execute_reply.started": "2021-02-20T00:00:53.952918Z"
    }
   },
   "outputs": [],
   "source": [
    "def plot_bandpower_vs_channel_vs_time(da, figsize=(36, 8)):\n",
    "    fig, ax = plt.subplots(figsize=figsize)\n",
    "    sns.heatmap(da.T, xticklabels=da.time.values.round(), yticklabels=da.channel.values, cbar=False)\n",
    "    ax.set(xticks=ax.get_xticks()[::2], yticks=ax.get_yticks()[::4], xlabel='Epoch center time (s)', ylabel='Channel')"
   ]
  },
  {
   "cell_type": "code",
   "execution_count": 7,
   "metadata": {
    "execution": {
     "iopub.execute_input": "2021-02-20T00:00:54.215825Z",
     "iopub.status.busy": "2021-02-20T00:00:54.215581Z",
     "iopub.status.idle": "2021-02-20T00:00:54.234405Z",
     "shell.execute_reply": "2021-02-20T00:00:54.233933Z",
     "shell.execute_reply.started": "2021-02-20T00:00:54.215793Z"
    }
   },
   "outputs": [],
   "source": [
    "def plot_bandpower_vs_channel(da, figsize=(36, 5)):\n",
    "    fig, ax = plt.subplots(figsize=figsize)\n",
    "    channel_indices = np.arange(len(da.channel))\n",
    "    sns.barplot(x=channel_indices, y=da, color='steelblue', ax=ax)\n",
    "    ax.set(xlabel=\"Channel\", ylabel=\"Power\")\n",
    "    ax.set_xticks(channel_indices);\n",
    "    ax.set_xticklabels(da.channel.values, rotation=90);"
   ]
  },
  {
   "cell_type": "code",
   "execution_count": 8,
   "metadata": {
    "execution": {
     "iopub.execute_input": "2021-02-20T00:00:54.535669Z",
     "iopub.status.busy": "2021-02-20T00:00:54.535484Z",
     "iopub.status.idle": "2021-02-20T00:00:54.568781Z",
     "shell.execute_reply": "2021-02-20T00:00:54.568450Z",
     "shell.execute_reply.started": "2021-02-20T00:00:54.535643Z"
    }
   },
   "outputs": [],
   "source": [
    "def create_drift_report(spg, epoch_length, pdf_path):\n",
    "    \n",
    "    theta_range = (5, 10)\n",
    "    theta_power = get_bandpower(spg, theta_range, spg.channel.values)\n",
    "    epoched_theta_power = theta_power.coarsen(time=epoch_length, boundary='trim').mean()\n",
    "\n",
    "    ripple_range = (150, 250)\n",
    "    ripple_power = get_bandpower(spg, ripple_range, spg.channel.values)\n",
    "    epoched_ripple_power = ripple_power.coarsen(time=epoch_length, boundary='trim').mean()\n",
    "    \n",
    "    pdf_path = pdf_path.parent / (pdf_path.stem + f'-{epoch_length}s' + pdf_path.suffix)\n",
    "    with PdfPages(pdf_path) as pdf:\n",
    "        plot_bandpower_vs_channel_vs_time(epoched_theta_power)\n",
    "        plt.title(f'Theta power, {theta_range}, {epoch_length}s epochs')\n",
    "        pdf.savefig()\n",
    "        plt.close()\n",
    "\n",
    "        plot_bandpower_vs_channel_vs_time(epoched_ripple_power)\n",
    "        plt.title(f'Ripple power, {ripple_range}, {epoch_length}s epochs')\n",
    "        pdf.savefig()\n",
    "        plt.close()\n",
    "\n",
    "        assert len(epoched_theta_power) == len(epoched_ripple_power)\n",
    "        for epoch in range(len(epoched_theta_power)):\n",
    "            plot_bandpower_vs_channel(epoched_theta_power[epoch])\n",
    "            plt.title(f'Theta power, epoch: {epoch}, time: {epoched_theta_power[epoch].time.values}s')\n",
    "            pdf.savefig()\n",
    "            plt.close()\n",
    "\n",
    "            plot_bandpower_vs_channel(epoched_ripple_power[epoch])\n",
    "            plt.title(f'Ripple power, epoch: {epoch}, time: {epoched_theta_power[epoch].time.values}s')\n",
    "            pdf.savefig()\n",
    "            plt.close()\n",
    "\n",
    "        d = pdf.infodict()\n",
    "        d['Title'] = f'{pdf_path.stem}'\n",
    "        d['Author'] = 'Graham Findlay'\n",
    "        d['Subject'] = 'Power profiles for tracking CA1 drift'\n",
    "        d['CreationDate'] = datetime.now()"
   ]
  },
  {
   "cell_type": "code",
   "execution_count": 9,
   "metadata": {
    "execution": {
     "iopub.execute_input": "2021-02-20T00:00:55.023500Z",
     "iopub.status.busy": "2021-02-20T00:00:55.023358Z",
     "iopub.status.idle": "2021-02-20T00:00:55.039393Z",
     "shell.execute_reply": "2021-02-20T00:00:55.038704Z",
     "shell.execute_reply.started": "2021-02-20T00:00:55.023484Z"
    }
   },
   "outputs": [],
   "source": [
    "def create_drift_reports(bin_path, pdf_path, chans):\n",
    "    sig = load_timeseries(bin_path, chans)\n",
    "    spg = parallel_spectrogram_welch(sig)\n",
    "    \n",
    "    create_drift_report(spg, 600, pdf_path)\n",
    "    create_drift_report(spg, 300, pdf_path)\n",
    "    create_drift_report(spg, 60, pdf_path)"
   ]
  },
  {
   "cell_type": "code",
   "execution_count": 10,
   "metadata": {
    "execution": {
     "iopub.execute_input": "2021-02-20T00:00:55.359537Z",
     "iopub.status.busy": "2021-02-20T00:00:55.359390Z",
     "iopub.status.idle": "2021-02-20T00:00:55.375660Z",
     "shell.execute_reply": "2021-02-20T00:00:55.375168Z",
     "shell.execute_reply.started": "2021-02-20T00:00:55.359519Z"
    }
   },
   "outputs": [],
   "source": [
    "subject = \"Valentino\""
   ]
  },
  {
   "cell_type": "code",
   "execution_count": null,
   "metadata": {
    "execution": {
     "iopub.execute_input": "2021-02-20T00:00:55.816808Z",
     "iopub.status.busy": "2021-02-20T00:00:55.816683Z"
    }
   },
   "outputs": [
    {
     "name": "stdout",
     "output_type": "stream",
     "text": [
      "nChan: 385, nFileSamp: 18000000\n",
      "18:09:34: Finished /Volumes/neuropixel_archive/Data/chronic/CNPIX3-Valentino/raw/2-19-2020_g1/2-19-2020_g1_imec0/2-19-2020_g1_t0.imec0.lf.bin\n",
      "nChan: 385, nFileSamp: 18000000\n",
      "18:18:54: Finished /Volumes/neuropixel_archive/Data/chronic/CNPIX3-Valentino/raw/2-19-2020_g1/2-19-2020_g1_imec0/2-19-2020_g1_t1.imec0.lf.bin\n",
      "nChan: 385, nFileSamp: 18000000\n",
      "18:28:08: Finished /Volumes/neuropixel_archive/Data/chronic/CNPIX3-Valentino/raw/2-19-2020_g1/2-19-2020_g1_imec0/2-19-2020_g1_t2.imec0.lf.bin\n",
      "nChan: 385, nFileSamp: 18000000\n",
      "18:37:19: Finished /Volumes/neuropixel_archive/Data/chronic/CNPIX3-Valentino/raw/2-19-2020_g1/2-19-2020_g1_imec0/2-19-2020_g1_t3.imec0.lf.bin\n",
      "nChan: 385, nFileSamp: 18000000\n",
      "18:46:34: Finished /Volumes/neuropixel_archive/Data/chronic/CNPIX3-Valentino/raw/2-19-2020_g1/2-19-2020_g1_imec0/2-19-2020_g1_t4.imec0.lf.bin\n",
      "nChan: 385, nFileSamp: 18000000\n",
      "18:55:53: Finished /Volumes/neuropixel_archive/Data/chronic/CNPIX3-Valentino/raw/2-19-2020_g1/2-19-2020_g1_imec0/2-19-2020_g1_t5.imec0.lf.bin\n",
      "nChan: 385, nFileSamp: 18000000\n",
      "19:05:18: Finished /Volumes/neuropixel_archive/Data/chronic/CNPIX3-Valentino/raw/2-20-2020_g0/2-20-2020_g0_imec0/2-20-2020_g0_t0.imec0.lf.bin\n",
      "nChan: 385, nFileSamp: 18000000\n",
      "19:15:49: Finished /Volumes/neuropixel_archive/Data/chronic/CNPIX3-Valentino/raw/2-20-2020_g0/2-20-2020_g0_imec0/2-20-2020_g0_t1.imec0.lf.bin\n",
      "nChan: 385, nFileSamp: 18000000\n",
      "19:26:07: Finished /Volumes/neuropixel_archive/Data/chronic/CNPIX3-Valentino/raw/2-20-2020_g0/2-20-2020_g0_imec0/2-20-2020_g0_t2.imec0.lf.bin\n",
      "nChan: 385, nFileSamp: 18000000\n"
     ]
    }
   ],
   "source": [
    "drift_tracking_chans = channel_groups.drift_tracking[subject]\n",
    "\n",
    "bin_paths = paths.get_sglx_style_datapaths(subject=subject, condition=\"all\", ext=\"lf.bin\")\n",
    "pdf_paths = paths.get_sglx_style_datapaths(subject=subject, condition=\"all\", ext=\"drift.pdf\")\n",
    "\n",
    "for bin_path, pdf_path in zip(bin_paths, pdf_paths):\n",
    "    create_drift_reports(bin_path, pdf_path, drift_tracking_chans)\n",
    "    current_time = datetime.now().strftime(\"%H:%M:%S\")\n",
    "    print(f\"{current_time}: Finished {str(bin_path)}\")"
   ]
  },
  {
   "cell_type": "code",
   "execution_count": null,
   "metadata": {},
   "outputs": [],
   "source": []
  }
 ],
 "metadata": {
  "kernelspec": {
   "display_name": "Python 3",
   "language": "python",
   "name": "python3"
  },
  "language_info": {
   "codemirror_mode": {
    "name": "ipython",
    "version": 3
   },
   "file_extension": ".py",
   "mimetype": "text/x-python",
   "name": "python",
   "nbconvert_exporter": "python",
   "pygments_lexer": "ipython3",
   "version": "3.7.9"
  }
 },
 "nbformat": 4,
 "nbformat_minor": 4
}
