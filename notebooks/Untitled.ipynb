{
 "cells": [
  {
   "cell_type": "code",
   "execution_count": 20,
   "metadata": {
    "execution": {
     "iopub.execute_input": "2021-03-23T23:24:11.613032Z",
     "iopub.status.busy": "2021-03-23T23:24:11.612555Z",
     "iopub.status.idle": "2021-03-23T23:24:11.631277Z",
     "shell.execute_reply": "2021-03-23T23:24:11.630361Z",
     "shell.execute_reply.started": "2021-03-23T23:24:11.612972Z"
    }
   },
   "outputs": [
    {
     "name": "stdout",
     "output_type": "stream",
     "text": [
      "The autoreload extension is already loaded. To reload it, use:\n",
      "  %reload_ext autoreload\n"
     ]
    }
   ],
   "source": [
    "%load_ext autoreload\n",
    "%autoreload 2"
   ]
  },
  {
   "cell_type": "code",
   "execution_count": 24,
   "metadata": {
    "execution": {
     "iopub.execute_input": "2021-03-23T23:28:35.967456Z",
     "iopub.status.busy": "2021-03-23T23:28:35.966972Z",
     "iopub.status.idle": "2021-03-23T23:28:35.988208Z",
     "shell.execute_reply": "2021-03-23T23:28:35.987562Z",
     "shell.execute_reply.started": "2021-03-23T23:28:35.967394Z"
    }
   },
   "outputs": [],
   "source": [
    "from ecephys_analyses.data import paths, channel_groups"
   ]
  },
  {
   "cell_type": "code",
   "execution_count": 34,
   "metadata": {
    "execution": {
     "iopub.execute_input": "2021-03-23T23:55:35.874535Z",
     "iopub.status.busy": "2021-03-23T23:55:35.874215Z",
     "iopub.status.idle": "2021-03-23T23:55:35.953939Z",
     "shell.execute_reply": "2021-03-23T23:55:35.953162Z",
     "shell.execute_reply.started": "2021-03-23T23:55:35.874499Z"
    }
   },
   "outputs": [],
   "source": [
    "bin_paths = paths.get_sglx_style_datapaths(subject=\"Allan\", experiment=\"3-5-2021\", condition=\"all\", ext=\"lf.bin\")"
   ]
  },
  {
   "cell_type": "code",
   "execution_count": 33,
   "metadata": {
    "execution": {
     "iopub.execute_input": "2021-03-23T23:34:26.919872Z",
     "iopub.status.busy": "2021-03-23T23:34:26.919373Z",
     "iopub.status.idle": "2021-03-23T23:34:26.941548Z",
     "shell.execute_reply": "2021-03-23T23:34:26.940962Z",
     "shell.execute_reply.started": "2021-03-23T23:34:26.919802Z"
    }
   },
   "outputs": [
    {
     "data": {
      "text/plain": [
       "[PosixPath('/Volumes/neuropixel_archive/Data/chronic/CNPIX8-Allan/eStim/3-5-2021/3-5-2021_g0/3-5-2021_g0_imec0/3-5-2021_g0_t0.imec0.lf.bin'),\n",
       " PosixPath('/Volumes/neuropixel_archive/Data/chronic/CNPIX8-Allan/eStim/3-5-2021/3-5-2021_g1/3-5-2021_g1_imec0/3-5-2021_g1_t0.imec0.lf.bin'),\n",
       " PosixPath('/Volumes/neuropixel_archive/Data/chronic/CNPIX8-Allan/eStim/3-5-2021/3-5-2021_g2/3-5-2021_g2_imec0/3-5-2021_g2_t0.imec0.lf.bin'),\n",
       " PosixPath('/Volumes/neuropixel_archive/Data/chronic/CNPIX8-Allan/eStim/3-5-2021/3-5-2021_g3/3-5-2021_g3_imec0/3-5-2021_g3_t0.imec0.lf.bin'),\n",
       " PosixPath('/Volumes/neuropixel_archive/Data/chronic/CNPIX8-Allan/eStim/3-5-2021/3-5-2021_g4/3-5-2021_g4_imec0/3-5-2021_g4_t0.imec0.lf.bin'),\n",
       " PosixPath('/Volumes/neuropixel_archive/Data/chronic/CNPIX8-Allan/eStim/3-5-2021/3-5-2021_g5/3-5-2021_g5_imec0/3-5-2021_g5_t0.imec0.lf.bin'),\n",
       " PosixPath('/Volumes/neuropixel_archive/Data/chronic/CNPIX8-Allan/eStim/3-5-2021/3-5-2021_g6/3-5-2021_g6_imec0/3-5-2021_g6_t0.imec0.lf.bin')]"
      ]
     },
     "execution_count": 33,
     "metadata": {},
     "output_type": "execute_result"
    }
   ],
   "source": [
    "bin_paths"
   ]
  }
 ],
 "metadata": {
  "kernelspec": {
   "display_name": "Python 3",
   "language": "python",
   "name": "python3"
  },
  "language_info": {
   "codemirror_mode": {
    "name": "ipython",
    "version": 3
   },
   "file_extension": ".py",
   "mimetype": "text/x-python",
   "name": "python",
   "nbconvert_exporter": "python",
   "pygments_lexer": "ipython3",
   "version": "3.7.9"
  }
 },
 "nbformat": 4,
 "nbformat_minor": 4
}
