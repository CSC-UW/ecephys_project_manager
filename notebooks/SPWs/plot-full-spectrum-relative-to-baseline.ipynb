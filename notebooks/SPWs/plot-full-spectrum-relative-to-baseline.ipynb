{
 "cells": [
  {
   "cell_type": "code",
   "execution_count": 1,
   "metadata": {
    "execution": {
     "iopub.execute_input": "2021-04-27T00:11:25.976517Z",
     "iopub.status.busy": "2021-04-27T00:11:25.976198Z",
     "iopub.status.idle": "2021-04-27T00:11:25.993477Z",
     "shell.execute_reply": "2021-04-27T00:11:25.992810Z",
     "shell.execute_reply.started": "2021-04-27T00:11:25.976475Z"
    }
   },
   "outputs": [],
   "source": [
    "%load_ext autoreload\n",
    "%autoreload 2"
   ]
  },
  {
   "cell_type": "code",
   "execution_count": 2,
   "metadata": {
    "execution": {
     "iopub.execute_input": "2021-04-27T00:11:26.451416Z",
     "iopub.status.busy": "2021-04-27T00:11:26.451082Z",
     "iopub.status.idle": "2021-04-27T00:11:26.796840Z",
     "shell.execute_reply": "2021-04-27T00:11:26.796350Z",
     "shell.execute_reply.started": "2021-04-27T00:11:26.451371Z"
    }
   },
   "outputs": [],
   "source": [
    "%matplotlib widget\n",
    "import matplotlib.pyplot as plt\n",
    "import seaborn as sns"
   ]
  },
  {
   "cell_type": "code",
   "execution_count": 3,
   "metadata": {
    "execution": {
     "iopub.execute_input": "2021-04-27T00:11:26.899083Z",
     "iopub.status.busy": "2021-04-27T00:11:26.898893Z",
     "iopub.status.idle": "2021-04-27T00:11:27.118850Z",
     "shell.execute_reply": "2021-04-27T00:11:27.118425Z",
     "shell.execute_reply.started": "2021-04-27T00:11:26.899058Z"
    }
   },
   "outputs": [],
   "source": [
    "import xarray as xr\n",
    "import numpy as np\n",
    "import pandas as pd"
   ]
  },
  {
   "cell_type": "code",
   "execution_count": 4,
   "metadata": {
    "execution": {
     "iopub.execute_input": "2021-04-27T00:11:27.266858Z",
     "iopub.status.busy": "2021-04-27T00:11:27.266670Z",
     "iopub.status.idle": "2021-04-27T00:11:27.284865Z",
     "shell.execute_reply": "2021-04-27T00:11:27.284317Z",
     "shell.execute_reply.started": "2021-04-27T00:11:27.266834Z"
    }
   },
   "outputs": [],
   "source": [
    "from ecephys.scoring import filter_ds"
   ]
  },
  {
   "cell_type": "code",
   "execution_count": 5,
   "metadata": {
    "execution": {
     "iopub.execute_input": "2021-04-27T00:11:27.515743Z",
     "iopub.status.busy": "2021-04-27T00:11:27.515540Z",
     "iopub.status.idle": "2021-04-27T00:11:27.532732Z",
     "shell.execute_reply": "2021-04-27T00:11:27.532248Z",
     "shell.execute_reply.started": "2021-04-27T00:11:27.515717Z"
    }
   },
   "outputs": [
    {
     "data": {
      "text/plain": [
       "<xarray.core.options.set_options at 0x7f0391128e90>"
      ]
     },
     "execution_count": 5,
     "metadata": {},
     "output_type": "execute_result"
    }
   ],
   "source": [
    "xr.set_options(keep_attrs=True)"
   ]
  },
  {
   "cell_type": "code",
   "execution_count": 6,
   "metadata": {
    "execution": {
     "iopub.execute_input": "2021-04-27T00:11:27.955600Z",
     "iopub.status.busy": "2021-04-27T00:11:27.955233Z",
     "iopub.status.idle": "2021-04-27T00:11:27.973891Z",
     "shell.execute_reply": "2021-04-27T00:11:27.973445Z",
     "shell.execute_reply.started": "2021-04-27T00:11:27.955554Z"
    }
   },
   "outputs": [],
   "source": [
    "from ecephys_analyses.data import paths, load\n",
    "from ecephys import utils"
   ]
  },
  {
   "cell_type": "code",
   "execution_count": 7,
   "metadata": {
    "execution": {
     "iopub.execute_input": "2021-04-27T00:11:28.843789Z",
     "iopub.status.busy": "2021-04-27T00:11:28.843517Z",
     "iopub.status.idle": "2021-04-27T00:11:28.861326Z",
     "shell.execute_reply": "2021-04-27T00:11:28.860655Z",
     "shell.execute_reply.started": "2021-04-27T00:11:28.843753Z"
    }
   },
   "outputs": [],
   "source": [
    "subject = \"Valentino\"\n",
    "experiment = \"sleep-homeostasis\"\n",
    "bsl_condition = \"light-period-circadian-match\"\n",
    "rec_condition = \"recovery-sleep\"\n",
    "states = [\"N1\", \"N2\"]"
   ]
  },
  {
   "cell_type": "code",
   "execution_count": 8,
   "metadata": {
    "execution": {
     "iopub.execute_input": "2021-04-27T00:11:29.259053Z",
     "iopub.status.busy": "2021-04-27T00:11:29.258781Z",
     "iopub.status.idle": "2021-04-27T00:11:33.855569Z",
     "shell.execute_reply": "2021-04-27T00:11:33.854884Z",
     "shell.execute_reply.started": "2021-04-27T00:11:29.259016Z"
    }
   },
   "outputs": [],
   "source": [
    "bsl_spg = load.load_spectrogram(subject, experiment, bsl_condition)\n",
    "bsl_hyp = load.load_hypnogram(subject, experiment, bsl_condition)\n",
    "bsl_nrem_spg = filter_ds(bsl_spg, bsl_hyp, states)\n",
    "bsl_prm = bsl_nrem_spg / bsl_nrem_spg.mean(dim=\"time\") * 100"
   ]
  },
  {
   "cell_type": "code",
   "execution_count": 9,
   "metadata": {
    "execution": {
     "iopub.execute_input": "2021-04-27T00:11:33.877208Z",
     "iopub.status.busy": "2021-04-27T00:11:33.877079Z",
     "iopub.status.idle": "2021-04-27T00:11:36.149429Z",
     "shell.execute_reply": "2021-04-27T00:11:36.148777Z",
     "shell.execute_reply.started": "2021-04-27T00:11:33.877192Z"
    }
   },
   "outputs": [],
   "source": [
    "rec_spg = load.load_spectrogram(subject, experiment, rec_condition)\n",
    "rec_hyp = load.load_hypnogram(subject, experiment, rec_condition)\n",
    "rec_nrem_spg = filter_ds(rec_spg, rec_hyp, states).sel(time=slice(rec_spg.time.min(), rec_spg.time.min() + pd.to_timedelta(2, 'h')))\n",
    "rec_prm = rec_nrem_spg / bsl_nrem_spg.mean(dim=\"time\") * 100"
   ]
  },
  {
   "cell_type": "code",
   "execution_count": 10,
   "metadata": {
    "execution": {
     "iopub.execute_input": "2021-04-27T00:11:36.150513Z",
     "iopub.status.busy": "2021-04-27T00:11:36.150371Z",
     "iopub.status.idle": "2021-04-27T00:11:39.403929Z",
     "shell.execute_reply": "2021-04-27T00:11:39.402981Z",
     "shell.execute_reply.started": "2021-04-27T00:11:36.150496Z"
    }
   },
   "outputs": [],
   "source": [
    "nrem_spg = pd.concat([bsl_nrem_spg.to_dataframe().assign(condition=\"baseline\"), rec_nrem_spg.to_dataframe().assign(condition=\"recovery\")])\n",
    "nrem_prm = pd.concat([bsl_prm.to_dataframe().assign(condition=\"baseline\"), rec_prm.to_dataframe().assign(condition=\"recovery\")])"
   ]
  },
  {
   "cell_type": "code",
   "execution_count": 11,
   "metadata": {
    "execution": {
     "iopub.execute_input": "2021-04-27T00:11:39.405049Z",
     "iopub.status.busy": "2021-04-27T00:11:39.404900Z",
     "iopub.status.idle": "2021-04-27T00:11:39.418962Z",
     "shell.execute_reply": "2021-04-27T00:11:39.418311Z",
     "shell.execute_reply.started": "2021-04-27T00:11:39.405029Z"
    }
   },
   "outputs": [],
   "source": [
    "def plot_spectrum(spg, y, ylabel, yscale='log'):\n",
    "    fig, ax = plt.subplots(figsize=(16, 9))\n",
    "    sns.lineplot(data=spg, x='frequency', y=y, hue=\"condition\", style='condition', markers=True, dashes=False, ci=None, ax=ax)\n",
    "    ax.set(ylabel=ylabel, xscale='log', yscale=yscale)"
   ]
  },
  {
   "cell_type": "code",
   "execution_count": 16,
   "metadata": {
    "execution": {
     "iopub.execute_input": "2021-04-27T00:28:00.287929Z",
     "iopub.status.busy": "2021-04-27T00:28:00.287445Z",
     "iopub.status.idle": "2021-04-27T00:28:28.289502Z",
     "shell.execute_reply": "2021-04-27T00:28:28.288772Z",
     "shell.execute_reply.started": "2021-04-27T00:28:00.287868Z"
    }
   },
   "outputs": [
    {
     "data": {
      "application/vnd.jupyter.widget-view+json": {
       "model_id": "1e2a0497aa4b4f19b863d11814d62fcd",
       "version_major": 2,
       "version_minor": 0
      },
      "text/plain": [
       "Canvas(toolbar=Toolbar(toolitems=[('Home', 'Reset original view', 'home', 'home'), ('Back', 'Back to previous …"
      ]
     },
     "metadata": {},
     "output_type": "display_data"
    }
   ],
   "source": [
    "plot_spectrum(nrem_spg, 'mpta_wm_ref', 'CTX PSD, WM ref', yscale='linear')"
   ]
  },
  {
   "cell_type": "code",
   "execution_count": 17,
   "metadata": {
    "execution": {
     "iopub.execute_input": "2021-04-27T00:28:28.663175Z",
     "iopub.status.busy": "2021-04-27T00:28:28.663047Z",
     "iopub.status.idle": "2021-04-27T00:28:56.469299Z",
     "shell.execute_reply": "2021-04-27T00:28:56.468585Z",
     "shell.execute_reply.started": "2021-04-27T00:28:28.663158Z"
    }
   },
   "outputs": [
    {
     "data": {
      "application/vnd.jupyter.widget-view+json": {
       "model_id": "6974ab2e80924584b6f4cfa95d9c2e2e",
       "version_major": 2,
       "version_minor": 0
      },
      "text/plain": [
       "Canvas(toolbar=Toolbar(toolitems=[('Home', 'Reset original view', 'home', 'home'), ('Back', 'Back to previous …"
      ]
     },
     "metadata": {},
     "output_type": "display_data"
    }
   ],
   "source": [
    "plot_spectrum(nrem_spg, 'sr_wm_ref', 'SR PSD, WM ref', yscale='linear')"
   ]
  },
  {
   "cell_type": "code",
   "execution_count": 14,
   "metadata": {
    "execution": {
     "iopub.execute_input": "2021-04-27T00:12:36.236402Z",
     "iopub.status.busy": "2021-04-27T00:12:36.236262Z",
     "iopub.status.idle": "2021-04-27T00:13:04.535453Z",
     "shell.execute_reply": "2021-04-27T00:13:04.534788Z",
     "shell.execute_reply.started": "2021-04-27T00:12:36.236385Z"
    }
   },
   "outputs": [
    {
     "data": {
      "application/vnd.jupyter.widget-view+json": {
       "model_id": "751b13691cbc4c5ba6d1962c89aa246b",
       "version_major": 2,
       "version_minor": 0
      },
      "text/plain": [
       "Canvas(toolbar=Toolbar(toolitems=[('Home', 'Reset original view', 'home', 'home'), ('Back', 'Back to previous …"
      ]
     },
     "metadata": {},
     "output_type": "display_data"
    }
   ],
   "source": [
    "plot_spectrum(nrem_prm, 'mpta_wm_ref', 'CTX PSD, WM ref, % BSL', yscale='linear')"
   ]
  },
  {
   "cell_type": "code",
   "execution_count": 15,
   "metadata": {
    "execution": {
     "iopub.execute_input": "2021-04-27T00:13:04.536482Z",
     "iopub.status.busy": "2021-04-27T00:13:04.536335Z",
     "iopub.status.idle": "2021-04-27T00:13:32.631451Z",
     "shell.execute_reply": "2021-04-27T00:13:32.630777Z",
     "shell.execute_reply.started": "2021-04-27T00:13:04.536462Z"
    }
   },
   "outputs": [
    {
     "data": {
      "application/vnd.jupyter.widget-view+json": {
       "model_id": "a21b732c1df0473683643e893272ae2d",
       "version_major": 2,
       "version_minor": 0
      },
      "text/plain": [
       "Canvas(toolbar=Toolbar(toolitems=[('Home', 'Reset original view', 'home', 'home'), ('Back', 'Back to previous …"
      ]
     },
     "metadata": {},
     "output_type": "display_data"
    }
   ],
   "source": [
    "plot_spectrum(nrem_prm, 'sr_wm_ref', 'SR PSD, WM ref, % BSL', yscale='linear')"
   ]
  },
  {
   "cell_type": "code",
   "execution_count": null,
   "metadata": {},
   "outputs": [],
   "source": []
  }
 ],
 "metadata": {
  "kernelspec": {
   "display_name": "Python 3",
   "language": "python",
   "name": "python3"
  },
  "language_info": {
   "codemirror_mode": {
    "name": "ipython",
    "version": 3
   },
   "file_extension": ".py",
   "mimetype": "text/x-python",
   "name": "python",
   "nbconvert_exporter": "python",
   "pygments_lexer": "ipython3",
   "version": "3.7.9"
  }
 },
 "nbformat": 4,
 "nbformat_minor": 4
}
