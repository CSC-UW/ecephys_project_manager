{
 "cells": [
  {
   "cell_type": "code",
   "execution_count": 1,
   "metadata": {
    "execution": {
     "iopub.execute_input": "2021-05-12T21:00:15.219225Z",
     "iopub.status.busy": "2021-05-12T21:00:15.218739Z",
     "iopub.status.idle": "2021-05-12T21:00:15.236844Z",
     "shell.execute_reply": "2021-05-12T21:00:15.236037Z",
     "shell.execute_reply.started": "2021-05-12T21:00:15.219167Z"
    }
   },
   "outputs": [],
   "source": [
    "%load_ext autoreload\n",
    "%autoreload 2"
   ]
  },
  {
   "cell_type": "code",
   "execution_count": 2,
   "metadata": {
    "execution": {
     "iopub.execute_input": "2021-05-12T21:00:15.429932Z",
     "iopub.status.busy": "2021-05-12T21:00:15.429520Z",
     "iopub.status.idle": "2021-05-12T21:00:15.682463Z",
     "shell.execute_reply": "2021-05-12T21:00:15.681675Z",
     "shell.execute_reply.started": "2021-05-12T21:00:15.429887Z"
    }
   },
   "outputs": [],
   "source": [
    "%matplotlib widget\n",
    "import matplotlib.pyplot as plt\n",
    "import matplotlib.cm as cm"
   ]
  },
  {
   "cell_type": "code",
   "execution_count": 3,
   "metadata": {
    "execution": {
     "iopub.execute_input": "2021-05-12T21:00:15.698309Z",
     "iopub.status.busy": "2021-05-12T21:00:15.698055Z",
     "iopub.status.idle": "2021-05-12T21:00:15.850787Z",
     "shell.execute_reply": "2021-05-12T21:00:15.850057Z",
     "shell.execute_reply.started": "2021-05-12T21:00:15.698277Z"
    }
   },
   "outputs": [],
   "source": [
    "import numpy as np\n",
    "import pandas as pd\n",
    "from kcsd import KCSD1D"
   ]
  },
  {
   "cell_type": "code",
   "execution_count": 4,
   "metadata": {
    "execution": {
     "iopub.execute_input": "2021-05-12T21:00:16.109581Z",
     "iopub.status.busy": "2021-05-12T21:00:16.109150Z",
     "iopub.status.idle": "2021-05-12T21:00:16.612827Z",
     "shell.execute_reply": "2021-05-12T21:00:16.612074Z",
     "shell.execute_reply.started": "2021-05-12T21:00:16.109530Z"
    }
   },
   "outputs": [],
   "source": [
    "from ecephys.sglx_utils import load_timeseries\n",
    "from ecephys.plot import lfp_explorer, colormesh_timeseries_explorer\n",
    "from ecephys.signal.utils import mean_subtract, median_subtract\n",
    "from ecephys.signal.csd import get_kcsd\n",
    "import ecephys_analyses as ea"
   ]
  },
  {
   "cell_type": "code",
   "execution_count": 51,
   "metadata": {
    "execution": {
     "iopub.execute_input": "2021-05-12T22:56:44.562785Z",
     "iopub.status.busy": "2021-05-12T22:56:44.562348Z",
     "iopub.status.idle": "2021-05-12T22:56:44.592292Z",
     "shell.execute_reply": "2021-05-12T22:56:44.591188Z",
     "shell.execute_reply.started": "2021-05-12T22:56:44.562747Z"
    }
   },
   "outputs": [],
   "source": [
    "def mm_to_mask(lo, hi, ele_pos):\n",
    "    assert lo < hi, \"Lower bound must be less than upper bound.\"     \n",
    "    return np.logical_and(ele_pos >= lo, ele_pos <= hi).flatten()\n",
    "\n",
    "def mm_to_idx(lo, hi, ele_pos):\n",
    "    idx = np.where(millimeters_to_mask(lo, hi, ele_pos))[0]\n",
    "    return idx\n",
    "\n",
    "def mm_to_chans(lo, hi, ele_pos, chans):\n",
    "    return chans[mm_to_mask(lo, hi, ele_pos)]"
   ]
  },
  {
   "cell_type": "code",
   "execution_count": 8,
   "metadata": {
    "execution": {
     "iopub.execute_input": "2021-05-03T22:13:27.668310Z",
     "iopub.status.busy": "2021-05-03T22:13:27.667987Z",
     "iopub.status.idle": "2021-05-03T22:13:27.693952Z",
     "shell.execute_reply": "2021-05-03T22:13:27.693203Z",
     "shell.execute_reply.started": "2021-05-03T22:13:27.668272Z"
    }
   },
   "outputs": [],
   "source": [
    "SUBJECT = \"Segundo\"\n",
    "EXPERIMENT = \"sleep-homeostasis\"\n",
    "CONDITION = \"recovery-sleep\"\n",
    "START_TIME = 1680 # pick a 1 second window that has SPW-Rs"
   ]
  },
  {
   "cell_type": "code",
   "execution_count": 31,
   "metadata": {
    "execution": {
     "iopub.execute_input": "2021-05-07T22:28:12.707748Z",
     "iopub.status.busy": "2021-05-07T22:28:12.707439Z",
     "iopub.status.idle": "2021-05-07T22:28:12.726256Z",
     "shell.execute_reply": "2021-05-07T22:28:12.725594Z",
     "shell.execute_reply.started": "2021-05-07T22:28:12.707712Z"
    }
   },
   "outputs": [],
   "source": [
    "SUBJECT = \"Segundo\"\n",
    "EXPERIMENT = \"isoflurane\"\n",
    "CONDITION = \"all\"\n",
    "START_TIME = 2 # pick a 1 second window that has SPW-Rs"
   ]
  },
  {
   "cell_type": "code",
   "execution_count": 9,
   "metadata": {
    "execution": {
     "iopub.execute_input": "2021-05-03T22:13:27.995833Z",
     "iopub.status.busy": "2021-05-03T22:13:27.995577Z",
     "iopub.status.idle": "2021-05-03T22:13:28.018771Z",
     "shell.execute_reply": "2021-05-03T22:13:28.018032Z",
     "shell.execute_reply.started": "2021-05-03T22:13:27.995799Z"
    }
   },
   "outputs": [],
   "source": [
    "SUBJECT = \"Valentino\"\n",
    "EXPERIMENT = \"sleep-homeostasis\"\n",
    "CONDITION = \"recovery-sleep\"\n",
    "START_TIME = 3880 # pick a 1 second window that has SPW-Rs"
   ]
  },
  {
   "cell_type": "code",
   "execution_count": 10,
   "metadata": {
    "execution": {
     "iopub.execute_input": "2021-05-03T22:13:29.044770Z",
     "iopub.status.busy": "2021-05-03T22:13:29.044450Z",
     "iopub.status.idle": "2021-05-03T22:13:29.070055Z",
     "shell.execute_reply": "2021-05-03T22:13:29.069224Z",
     "shell.execute_reply.started": "2021-05-03T22:13:29.044733Z"
    }
   },
   "outputs": [],
   "source": [
    "SUBJECT = \"Valentino\"\n",
    "EXPERIMENT = \"sevo-dex\"\n",
    "CONDITION = \"all\"\n",
    "PROBE = \"imec0\"\n",
    "START_TIME = 355 # pick a 1 second window that has SPW-Rs"
   ]
  },
  {
   "cell_type": "code",
   "execution_count": 19,
   "metadata": {
    "execution": {
     "iopub.execute_input": "2021-05-06T22:23:29.054730Z",
     "iopub.status.busy": "2021-05-06T22:23:29.054242Z",
     "iopub.status.idle": "2021-05-06T22:23:29.077140Z",
     "shell.execute_reply": "2021-05-06T22:23:29.076530Z",
     "shell.execute_reply.started": "2021-05-06T22:23:29.054671Z"
    }
   },
   "outputs": [],
   "source": [
    "# During Dex-induced theta, in 2-25-2020_g0_t1\n",
    "\n",
    "SUBJECT = \"Valentino\"\n",
    "EXPERIMENT = \"sevo-dex\"\n",
    "CONDITION = \"all\"\n",
    "PROBE = \"imec0\"\n",
    "START_TIME = 2986 # pick a 1 second window that has SPW-Rs"
   ]
  },
  {
   "cell_type": "code",
   "execution_count": 10,
   "metadata": {
    "execution": {
     "iopub.execute_input": "2021-05-04T17:35:12.810491Z",
     "iopub.status.busy": "2021-05-04T17:35:12.810098Z",
     "iopub.status.idle": "2021-05-04T17:35:12.841655Z",
     "shell.execute_reply": "2021-05-04T17:35:12.840652Z",
     "shell.execute_reply.started": "2021-05-04T17:35:12.810450Z"
    }
   },
   "outputs": [],
   "source": [
    "SUBJECT = \"Valentino\"\n",
    "EXPERIMENT = \"atropine\"\n",
    "CONDITION = \"all\"\n",
    "PROBE = \"imec0\"\n",
    "START_TIME = 828 # pick a 1 second window that has SPW-Rs"
   ]
  },
  {
   "cell_type": "code",
   "execution_count": 15,
   "metadata": {
    "execution": {
     "iopub.execute_input": "2021-05-12T21:12:25.272466Z",
     "iopub.status.busy": "2021-05-12T21:12:25.271754Z",
     "iopub.status.idle": "2021-05-12T21:12:25.294088Z",
     "shell.execute_reply": "2021-05-12T21:12:25.293282Z",
     "shell.execute_reply.started": "2021-05-12T21:12:25.272386Z"
    }
   },
   "outputs": [],
   "source": [
    "SUBJECT = \"Valentino\"\n",
    "EXPERIMENT = \"isoflurane\"\n",
    "CONDITION = \"all\"\n",
    "PROBE = \"imec0\"\n",
    "START_TIME = 83 # pick a 1 second window that has SPW-Rs\n",
    "\n",
    "hpc_lo = 3.8\n",
    "hpc_hi = 6.1\n",
    "wm_center = 6.12\n",
    "wm_thickness = 0.133"
   ]
  },
  {
   "cell_type": "code",
   "execution_count": 66,
   "metadata": {
    "execution": {
     "iopub.execute_input": "2021-05-13T22:30:57.554199Z",
     "iopub.status.busy": "2021-05-13T22:30:57.553702Z",
     "iopub.status.idle": "2021-05-13T22:30:57.575486Z",
     "shell.execute_reply": "2021-05-13T22:30:57.574865Z",
     "shell.execute_reply.started": "2021-05-13T22:30:57.554140Z"
    }
   },
   "outputs": [],
   "source": [
    "SUBJECT = \"Valentino\"\n",
    "EXPERIMENT = \"sevoflurane\"\n",
    "CONDITION = \"all\"\n",
    "PROBE = \"imec0\"\n",
    "START_TIME = 77 # pick a 1 second window that has SPW-Rs\n",
    "\n",
    "hpc_lo = 3.866\n",
    "hpc_hi = 6.166\n",
    "wm_center = 6.36\n",
    "wm_thickness = 0.133"
   ]
  },
  {
   "cell_type": "code",
   "execution_count": 97,
   "metadata": {
    "execution": {
     "iopub.execute_input": "2021-05-14T00:08:26.126405Z",
     "iopub.status.busy": "2021-05-14T00:08:26.125924Z",
     "iopub.status.idle": "2021-05-14T00:08:26.147703Z",
     "shell.execute_reply": "2021-05-14T00:08:26.146923Z",
     "shell.execute_reply.started": "2021-05-14T00:08:26.126345Z"
    }
   },
   "outputs": [],
   "source": [
    "SUBJECT = \"Valentino\"\n",
    "EXPERIMENT = \"ketamine-90mg\"\n",
    "CONDITION = \"all\"\n",
    "PROBE = \"imec0\"\n",
    "START_TIME = 16 # pick a 1 second window that has SPW-Rs\n",
    "\n",
    "hpc_lo = 3.856\n",
    "hpc_hi = 6.156\n",
    "wm_center = 6.28\n",
    "wm_thickness = 0.133"
   ]
  },
  {
   "cell_type": "code",
   "execution_count": 48,
   "metadata": {
    "execution": {
     "iopub.execute_input": "2021-05-12T22:56:40.781158Z",
     "iopub.status.busy": "2021-05-12T22:56:40.780771Z",
     "iopub.status.idle": "2021-05-12T22:56:40.809792Z",
     "shell.execute_reply": "2021-05-12T22:56:40.808705Z",
     "shell.execute_reply.started": "2021-05-12T22:56:40.781113Z"
    }
   },
   "outputs": [],
   "source": [
    "SUBJECT = \"Doppio\"\n",
    "EXPERIMENT = \"isoflurane\"\n",
    "CONDITION = \"all\"\n",
    "PROBE = \"imec0\"\n",
    "START_TIME = 77 # pick a 1 second window that has SPW-Rs\n",
    "\n",
    "hpc_lo = 3.8\n",
    "hpc_hi = 5.8\n",
    "wm_center = 5.9\n",
    "wm_thickness = 0.133"
   ]
  },
  {
   "cell_type": "code",
   "execution_count": 77,
   "metadata": {
    "execution": {
     "iopub.execute_input": "2021-05-13T23:20:20.062556Z",
     "iopub.status.busy": "2021-05-13T23:20:20.062295Z",
     "iopub.status.idle": "2021-05-13T23:20:20.087312Z",
     "shell.execute_reply": "2021-05-13T23:20:20.086552Z",
     "shell.execute_reply.started": "2021-05-13T23:20:20.062523Z"
    }
   },
   "outputs": [],
   "source": [
    "SUBJECT = \"Doppio\"\n",
    "EXPERIMENT = \"sevoflurane\"\n",
    "CONDITION = \"all\"\n",
    "PROBE = \"imec0\"\n",
    "START_TIME = 202 # pick a 1 second window that has SPW-Rs\n",
    "\n",
    "hpc_lo = 3.8\n",
    "hpc_hi = 6.0\n",
    "wm_center = 5.94\n",
    "wm_thickness = 0.133"
   ]
  },
  {
   "cell_type": "code",
   "execution_count": 139,
   "metadata": {
    "execution": {
     "iopub.execute_input": "2021-04-13T00:03:32.613587Z",
     "iopub.status.busy": "2021-04-13T00:03:32.613024Z",
     "iopub.status.idle": "2021-04-13T00:03:32.639378Z",
     "shell.execute_reply": "2021-04-13T00:03:32.638550Z",
     "shell.execute_reply.started": "2021-04-13T00:03:32.613507Z"
    }
   },
   "outputs": [],
   "source": [
    "SUBJECT = \"Doppio\"\n",
    "EXPERIMENT = \"sleep-homeostasis\"\n",
    "CONDITION = \"recovery-sleep\"\n",
    "START_TIME = 1708 # pick a 1 second window that has SPW-Rs"
   ]
  },
  {
   "cell_type": "code",
   "execution_count": 8,
   "metadata": {
    "execution": {
     "iopub.execute_input": "2021-04-14T19:53:13.438648Z",
     "iopub.status.busy": "2021-04-14T19:53:13.438160Z",
     "iopub.status.idle": "2021-04-14T19:53:13.459998Z",
     "shell.execute_reply": "2021-04-14T19:53:13.459613Z",
     "shell.execute_reply.started": "2021-04-14T19:53:13.438589Z"
    }
   },
   "outputs": [],
   "source": [
    "SUBJECT = \"Doppio\"\n",
    "EXPERIMENT = \"atropine-50mg\"\n",
    "CONDITION = \"all\"\n",
    "START_TIME = 1159 # pick a 1 second window that has SPW-Rs"
   ]
  },
  {
   "cell_type": "code",
   "execution_count": 189,
   "metadata": {
    "execution": {
     "iopub.execute_input": "2021-04-13T16:10:30.712220Z",
     "iopub.status.busy": "2021-04-13T16:10:30.711740Z",
     "iopub.status.idle": "2021-04-13T16:10:30.734900Z",
     "shell.execute_reply": "2021-04-13T16:10:30.734083Z",
     "shell.execute_reply.started": "2021-04-13T16:10:30.712160Z"
    }
   },
   "outputs": [],
   "source": [
    "SUBJECT = \"Alessandro\"\n",
    "EXPERIMENT = \"sleep-homeostasis\"\n",
    "CONDITION = \"recovery-sleep\"\n",
    "START_TIME = 1766 # pick a 1 second window that has SPW-Rs"
   ]
  },
  {
   "cell_type": "code",
   "execution_count": 215,
   "metadata": {
    "execution": {
     "iopub.execute_input": "2021-04-13T16:24:17.097657Z",
     "iopub.status.busy": "2021-04-13T16:24:17.097140Z",
     "iopub.status.idle": "2021-04-13T16:24:17.119040Z",
     "shell.execute_reply": "2021-04-13T16:24:17.118403Z",
     "shell.execute_reply.started": "2021-04-13T16:24:17.097596Z"
    }
   },
   "outputs": [],
   "source": [
    "SUBJECT = \"Eugene\"\n",
    "EXPERIMENT = \"sleep-homeostasis\"\n",
    "CONDITION = \"recovery-sleep\"\n",
    "START_TIME = 2600 # pick a 1 second window that has SPW-Rs"
   ]
  },
  {
   "cell_type": "code",
   "execution_count": 239,
   "metadata": {
    "execution": {
     "iopub.execute_input": "2021-04-13T16:30:27.672851Z",
     "iopub.status.busy": "2021-04-13T16:30:27.672359Z",
     "iopub.status.idle": "2021-04-13T16:30:27.694975Z",
     "shell.execute_reply": "2021-04-13T16:30:27.694199Z",
     "shell.execute_reply.started": "2021-04-13T16:30:27.672792Z"
    }
   },
   "outputs": [],
   "source": [
    "SUBJECT = \"Allan\"\n",
    "EXPERIMENT = \"sleep-homeostasis\"\n",
    "CONDITION = \"recovery-sleep\"\n",
    "START_TIME = 2007 # pick a 1 second window that has SPW-Rs"
   ]
  },
  {
   "cell_type": "code",
   "execution_count": 7,
   "metadata": {
    "execution": {
     "iopub.execute_input": "2021-05-05T17:52:02.166336Z",
     "iopub.status.busy": "2021-05-05T17:52:02.165952Z",
     "iopub.status.idle": "2021-05-05T17:52:02.188299Z",
     "shell.execute_reply": "2021-05-05T17:52:02.187708Z",
     "shell.execute_reply.started": "2021-05-05T17:52:02.166290Z"
    }
   },
   "outputs": [],
   "source": [
    "SUBJECT = \"Allan\"\n",
    "EXPERIMENT = \"dexmedetomidine\"\n",
    "CONDITION = \"all\"\n",
    "PROBE = \"imec0\"\n",
    "START_TIME = 3 # pick a 1 second window that has SPW-Rs"
   ]
  },
  {
   "cell_type": "code",
   "execution_count": 8,
   "metadata": {
    "execution": {
     "iopub.execute_input": "2021-05-05T17:52:10.647139Z",
     "iopub.status.busy": "2021-05-05T17:52:10.646628Z",
     "iopub.status.idle": "2021-05-05T17:52:10.673762Z",
     "shell.execute_reply": "2021-05-05T17:52:10.672887Z",
     "shell.execute_reply.started": "2021-05-05T17:52:10.647075Z"
    }
   },
   "outputs": [],
   "source": [
    "SUBJECT = \"Allan\"\n",
    "EXPERIMENT = \"atropine\"\n",
    "CONDITION = \"all\"\n",
    "PROBE = \"imec0\"\n",
    "START_TIME = 35 # pick a 1 second window that has SPW-Rs"
   ]
  },
  {
   "cell_type": "code",
   "execution_count": null,
   "metadata": {},
   "outputs": [],
   "source": []
  },
  {
   "cell_type": "code",
   "execution_count": 106,
   "metadata": {
    "execution": {
     "iopub.execute_input": "2021-05-14T19:44:35.189278Z",
     "iopub.status.busy": "2021-05-14T19:44:35.188760Z",
     "iopub.status.idle": "2021-05-14T19:44:35.211145Z",
     "shell.execute_reply": "2021-05-14T19:44:35.210547Z",
     "shell.execute_reply.started": "2021-05-14T19:44:35.189216Z"
    }
   },
   "outputs": [],
   "source": [
    "SUBJECT = \"Allan\"\n",
    "EXPERIMENT = \"ketamine\"\n",
    "CONDITION = \"all\"\n",
    "PROBE = \"imec0\"\n",
    "START_TIME = 1791 # pick a 1 second window that has SPW-Rs\n",
    "\n",
    "hpc_lo = 3.2\n",
    "hpc_hi = 5.4\n",
    "wm_center = 5.48\n",
    "wm_thickness = 0.133"
   ]
  },
  {
   "cell_type": "markdown",
   "metadata": {},
   "source": [
    "## 1D kCSD on whole probe"
   ]
  },
  {
   "cell_type": "code",
   "execution_count": 102,
   "metadata": {
    "execution": {
     "iopub.execute_input": "2021-05-14T19:43:37.039581Z",
     "iopub.status.busy": "2021-05-14T19:43:37.039287Z",
     "iopub.status.idle": "2021-05-14T19:43:38.969010Z",
     "shell.execute_reply": "2021-05-14T19:43:38.968300Z",
     "shell.execute_reply.started": "2021-05-14T19:43:37.039547Z"
    }
   },
   "outputs": [
    {
     "name": "stdout",
     "output_type": "stream",
     "text": [
      "nChan: 385, nFileSamp: 17610153\n"
     ]
    }
   ],
   "source": [
    "chans = ea.get_channels(SUBJECT, EXPERIMENT, PROBE, \"all\")\n",
    "bin_path = ea.get_sglx_style_datapaths(subject=SUBJECT, experiment=EXPERIMENT, condition=CONDITION, ext=\"lf.bin\")[0]\n",
    "_sig = load_timeseries(bin_path, chans, start_time=(START_TIME), end_time=(START_TIME + 1.0))\n",
    "(sig, times, fs) = (_sig.values, _sig.time.values, _sig.fs)\n",
    "sig = mean_subtract(sig)"
   ]
  },
  {
   "cell_type": "code",
   "execution_count": 103,
   "metadata": {
    "execution": {
     "iopub.execute_input": "2021-05-14T19:43:38.997733Z",
     "iopub.status.busy": "2021-05-14T19:43:38.997558Z",
     "iopub.status.idle": "2021-05-14T19:44:20.679546Z",
     "shell.execute_reply": "2021-05-14T19:44:20.678804Z",
     "shell.execute_reply.started": "2021-05-14T19:43:38.997711Z"
    }
   },
   "outputs": [
    {
     "name": "stdout",
     "output_type": "stream",
     "text": [
      "Performing L-curve parameter estimation...\n",
      "No lambda given, using defaults\n",
      "min lambda 1e-09\n",
      "max lambda 0.0043\n",
      "min lambda 1e-09\n",
      "max lambda 0.0043\n",
      "l-curve (all lambda):  0.23\n",
      "Best lambda and R =  0.0001517905987030163 ,  0.23\n"
     ]
    }
   ],
   "source": [
    "gdx = intersite_distance = 0.020\n",
    "k = get_kcsd(\n",
    "    sig, intersite_distance=intersite_distance, gdx=gdx, do_lcurve=True\n",
    ")\n",
    "est_csd = k.values('CSD')"
   ]
  },
  {
   "cell_type": "code",
   "execution_count": 107,
   "metadata": {
    "execution": {
     "iopub.execute_input": "2021-05-14T19:44:37.677641Z",
     "iopub.status.busy": "2021-05-14T19:44:37.677153Z",
     "iopub.status.idle": "2021-05-14T19:44:37.701591Z",
     "shell.execute_reply": "2021-05-14T19:44:37.700985Z",
     "shell.execute_reply.started": "2021-05-14T19:44:37.677581Z"
    }
   },
   "outputs": [
    {
     "name": "stdout",
     "output_type": "stream",
     "text": [
      "Hippocampus: 3.2mm, 5.4mm\n",
      "Channels:\n",
      " [ 19  21  23  25  27  29  31  33  35  37  39  41  43  45  47  49  51  53\n",
      "  55  57  59  61  63  65  67  69  71  73  75  77  79  81  83  85  87  89\n",
      "  91  93  95  97  99 101 103 105 107 109 111 113 115 117 119 121 123 125\n",
      " 127 129 131 133 135 137 139 141 143 145 147 149 151 153 155 157 159 161\n",
      " 163 165 167 169 171 173 175 177 179 181 183 185 187 189 191 193 195 197\n",
      " 199 201 203 205 207 209 211 213 215 217 219 221 223 225 227 229 231 233\n",
      " 235 237 239]\n",
      "\n",
      "White matter: 5.347mm, 5.613mm\n",
      "Channels:\n",
      " [235 237 239 241 243 245 247 249 251 253 255 257 259]\n"
     ]
    }
   ],
   "source": [
    "print(f\"Hippocampus: {hpc_lo}mm, {hpc_hi}mm\")\n",
    "hpc_chans = chans[mm_to_mask(hpc_lo, hpc_hi, k.ele_pos)] # These are the channel numbers belonging to the hippocampus\n",
    "print(f\"Channels:\\n {hpc_chans}\")\n",
    "print(\"\")\n",
    "\n",
    "wm_lo = wm_center - wm_thickness\n",
    "wm_hi = wm_center + wm_thickness\n",
    "print(f\"White matter: {wm_lo}mm, {wm_hi}mm\")\n",
    "wm_chans = chans[mm_to_mask(wm_lo, wm_hi, k.ele_pos)] # These are the channel numbers belonging to the hippocampus\n",
    "print(f\"Channels:\\n {wm_chans}\")"
   ]
  },
  {
   "cell_type": "code",
   "execution_count": 108,
   "metadata": {
    "execution": {
     "iopub.execute_input": "2021-05-14T19:44:42.043841Z",
     "iopub.status.busy": "2021-05-14T19:44:42.043329Z",
     "iopub.status.idle": "2021-05-14T19:44:42.162563Z",
     "shell.execute_reply": "2021-05-14T19:44:42.161907Z",
     "shell.execute_reply.started": "2021-05-14T19:44:42.043778Z"
    }
   },
   "outputs": [
    {
     "data": {
      "application/vnd.jupyter.widget-view+json": {
       "model_id": "5f1d29e6f9e4404fa2b3ed7e26c77cf5",
       "version_major": 2,
       "version_minor": 0
      },
      "text/plain": [
       "Canvas(toolbar=Toolbar(toolitems=[('Home', 'Reset original view', 'home', 'home'), ('Back', 'Back to previous …"
      ]
     },
     "metadata": {},
     "output_type": "display_data"
    },
    {
     "data": {
      "text/plain": [
       "<matplotlib.lines.Line2D at 0x7f2fb4d7bb90>"
      ]
     },
     "execution_count": 108,
     "metadata": {},
     "output_type": "execute_result"
    }
   ],
   "source": [
    "_, ax = plt.subplots(figsize=(20, 10))\n",
    "ax.pcolormesh(times, k.estm_x, est_csd, shading=\"gouraud\")\n",
    "ax.set_xlabel(\"Time [sec]\")\n",
    "ax.set_ylabel(\"Depth (mm)\")\n",
    "ax.set_title(f\"{SUBJECT}, {EXPERIMENT}, {bin_path.stem} ({hpc_lo}mm - {hpc_hi}mm), ({wm_lo}mm - {wm_hi}mm)\")\n",
    "ax.axhline(hpc_hi, alpha=0.5, color='dimgrey', linestyle=\"--\")\n",
    "ax.axhline(hpc_lo, alpha=0.5, color='dimgrey', linestyle=\"--\")\n",
    "ax.axhline(wm_hi, alpha=0.5, color='brown', linestyle=\"--\")\n",
    "ax.axhline(wm_lo, alpha=0.5, color='brown', linestyle=\"--\")"
   ]
  },
  {
   "cell_type": "code",
   "execution_count": 100,
   "metadata": {
    "execution": {
     "iopub.execute_input": "2021-05-14T00:09:13.060713Z",
     "iopub.status.busy": "2021-05-14T00:09:13.060225Z",
     "iopub.status.idle": "2021-05-14T00:09:13.083160Z",
     "shell.execute_reply": "2021-05-14T00:09:13.082561Z",
     "shell.execute_reply.started": "2021-05-14T00:09:13.060653Z"
    }
   },
   "outputs": [
    {
     "data": {
      "text/plain": [
       "array([  2,   5,   6,   9,  10,  13,  14,  17,  18,  21,  22,  25,  26,\n",
       "        29,  30,  33,  34,  37,  38,  41,  42,  45,  46,  49,  50,  53,\n",
       "        54,  57,  58,  61,  62,  65,  66,  69,  70,  73,  74,  77,  78,\n",
       "        81,  82,  85,  86,  89,  90,  93,  94,  97,  98, 101, 102, 105,\n",
       "       106, 109, 110, 113, 114, 117, 118, 121, 122, 125, 126, 129, 130,\n",
       "       133, 134, 137, 138, 141, 142, 145, 146, 149, 150, 153, 154, 157,\n",
       "       158, 161, 162, 165, 166, 169, 170, 173, 174, 177, 178, 181, 182,\n",
       "       185, 186, 189, 190, 193, 194, 197, 198, 201, 202, 205, 206, 209,\n",
       "       210, 213, 214, 217, 218, 221, 222, 225, 226, 229, 230])"
      ]
     },
     "execution_count": 100,
     "metadata": {},
     "output_type": "execute_result"
    }
   ],
   "source": [
    "hpc_chans"
   ]
  },
  {
   "cell_type": "code",
   "execution_count": null,
   "metadata": {},
   "outputs": [],
   "source": []
  }
 ],
 "metadata": {
  "kernelspec": {
   "display_name": "Python 3",
   "language": "python",
   "name": "python3"
  },
  "language_info": {
   "codemirror_mode": {
    "name": "ipython",
    "version": 3
   },
   "file_extension": ".py",
   "mimetype": "text/x-python",
   "name": "python",
   "nbconvert_exporter": "python",
   "pygments_lexer": "ipython3",
   "version": "3.7.9"
  }
 },
 "nbformat": 4,
 "nbformat_minor": 4
}
