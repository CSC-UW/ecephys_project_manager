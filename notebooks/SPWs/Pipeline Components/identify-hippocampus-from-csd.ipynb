{
 "cells": [
  {
   "cell_type": "code",
   "execution_count": 4,
   "metadata": {
    "execution": {
     "iopub.execute_input": "2021-04-14T19:53:10.015965Z",
     "iopub.status.busy": "2021-04-14T19:53:10.015488Z",
     "iopub.status.idle": "2021-04-14T19:53:10.032516Z",
     "shell.execute_reply": "2021-04-14T19:53:10.032143Z",
     "shell.execute_reply.started": "2021-04-14T19:53:10.015904Z"
    }
   },
   "outputs": [],
   "source": [
    "%load_ext autoreload\n",
    "%autoreload 2"
   ]
  },
  {
   "cell_type": "code",
   "execution_count": 5,
   "metadata": {
    "execution": {
     "iopub.execute_input": "2021-04-14T19:53:10.169578Z",
     "iopub.status.busy": "2021-04-14T19:53:10.169302Z",
     "iopub.status.idle": "2021-04-14T19:53:10.327635Z",
     "shell.execute_reply": "2021-04-14T19:53:10.327217Z",
     "shell.execute_reply.started": "2021-04-14T19:53:10.169544Z"
    }
   },
   "outputs": [],
   "source": [
    "%matplotlib widget\n",
    "import matplotlib.pyplot as plt\n",
    "import matplotlib.cm as cm"
   ]
  },
  {
   "cell_type": "code",
   "execution_count": 6,
   "metadata": {
    "execution": {
     "iopub.execute_input": "2021-04-14T19:53:10.337818Z",
     "iopub.status.busy": "2021-04-14T19:53:10.337695Z",
     "iopub.status.idle": "2021-04-14T19:53:10.461215Z",
     "shell.execute_reply": "2021-04-14T19:53:10.460832Z",
     "shell.execute_reply.started": "2021-04-14T19:53:10.337803Z"
    }
   },
   "outputs": [],
   "source": [
    "import numpy as np\n",
    "import pandas as pd\n",
    "from kcsd import KCSD1D"
   ]
  },
  {
   "cell_type": "code",
   "execution_count": 7,
   "metadata": {
    "execution": {
     "iopub.execute_input": "2021-04-14T19:53:10.689168Z",
     "iopub.status.busy": "2021-04-14T19:53:10.688942Z",
     "iopub.status.idle": "2021-04-14T19:53:11.068535Z",
     "shell.execute_reply": "2021-04-14T19:53:11.068100Z",
     "shell.execute_reply.started": "2021-04-14T19:53:10.689142Z"
    }
   },
   "outputs": [],
   "source": [
    "from ecephys.sglx_utils import load_timeseries\n",
    "from ecephys_analyses.data import channel_groups, paths\n",
    "from ecephys.plot import lfp_explorer, colormesh_timeseries_explorer\n",
    "from ecephys.signal.utils import mean_subtract, median_subtract\n",
    "from ecephys.signal.csd import get_kcsd"
   ]
  },
  {
   "cell_type": "code",
   "execution_count": 150,
   "metadata": {
    "execution": {
     "iopub.execute_input": "2021-04-13T16:01:00.756550Z",
     "iopub.status.busy": "2021-04-13T16:01:00.756063Z",
     "iopub.status.idle": "2021-04-13T16:01:00.778890Z",
     "shell.execute_reply": "2021-04-13T16:01:00.778104Z",
     "shell.execute_reply.started": "2021-04-13T16:01:00.756490Z"
    }
   },
   "outputs": [],
   "source": [
    "SUBJECT = \"Segundo\"\n",
    "EXPERIMENT = \"sleep-homeostasis\"\n",
    "CONDITION = \"recovery-sleep\"\n",
    "START_TIME = 1680 # pick a 1 second window that has SPW-Rs"
   ]
  },
  {
   "cell_type": "code",
   "execution_count": 150,
   "metadata": {
    "execution": {
     "iopub.execute_input": "2021-04-13T16:01:00.756550Z",
     "iopub.status.busy": "2021-04-13T16:01:00.756063Z",
     "iopub.status.idle": "2021-04-13T16:01:00.778890Z",
     "shell.execute_reply": "2021-04-13T16:01:00.778104Z",
     "shell.execute_reply.started": "2021-04-13T16:01:00.756490Z"
    }
   },
   "outputs": [],
   "source": [
    "SUBJECT = \"Valentino\"\n",
    "EXPERIMENT = \"sleep-homeostasis\"\n",
    "CONDITION = \"recovery-sleep\"\n",
    "START_TIME = 3880 # pick a 1 second window that has SPW-Rs"
   ]
  },
  {
   "cell_type": "code",
   "execution_count": 139,
   "metadata": {
    "execution": {
     "iopub.execute_input": "2021-04-13T00:03:32.613587Z",
     "iopub.status.busy": "2021-04-13T00:03:32.613024Z",
     "iopub.status.idle": "2021-04-13T00:03:32.639378Z",
     "shell.execute_reply": "2021-04-13T00:03:32.638550Z",
     "shell.execute_reply.started": "2021-04-13T00:03:32.613507Z"
    }
   },
   "outputs": [],
   "source": [
    "SUBJECT = \"Doppio\"\n",
    "EXPERIMENT = \"sleep-homeostasis\"\n",
    "CONDITION = \"recovery-sleep\"\n",
    "START_TIME = 1708 # pick a 1 second window that has SPW-Rs"
   ]
  },
  {
   "cell_type": "code",
   "execution_count": 8,
   "metadata": {
    "execution": {
     "iopub.execute_input": "2021-04-14T19:53:13.438648Z",
     "iopub.status.busy": "2021-04-14T19:53:13.438160Z",
     "iopub.status.idle": "2021-04-14T19:53:13.459998Z",
     "shell.execute_reply": "2021-04-14T19:53:13.459613Z",
     "shell.execute_reply.started": "2021-04-14T19:53:13.438589Z"
    }
   },
   "outputs": [],
   "source": [
    "SUBJECT = \"Doppio\"\n",
    "EXPERIMENT = \"atropine-50mg\"\n",
    "CONDITION = \"all\"\n",
    "START_TIME = 1159 # pick a 1 second window that has SPW-Rs"
   ]
  },
  {
   "cell_type": "code",
   "execution_count": 189,
   "metadata": {
    "execution": {
     "iopub.execute_input": "2021-04-13T16:10:30.712220Z",
     "iopub.status.busy": "2021-04-13T16:10:30.711740Z",
     "iopub.status.idle": "2021-04-13T16:10:30.734900Z",
     "shell.execute_reply": "2021-04-13T16:10:30.734083Z",
     "shell.execute_reply.started": "2021-04-13T16:10:30.712160Z"
    }
   },
   "outputs": [],
   "source": [
    "SUBJECT = \"Alessandro\"\n",
    "EXPERIMENT = \"sleep-homeostasis\"\n",
    "CONDITION = \"recovery-sleep\"\n",
    "START_TIME = 1766 # pick a 1 second window that has SPW-Rs"
   ]
  },
  {
   "cell_type": "code",
   "execution_count": 215,
   "metadata": {
    "execution": {
     "iopub.execute_input": "2021-04-13T16:24:17.097657Z",
     "iopub.status.busy": "2021-04-13T16:24:17.097140Z",
     "iopub.status.idle": "2021-04-13T16:24:17.119040Z",
     "shell.execute_reply": "2021-04-13T16:24:17.118403Z",
     "shell.execute_reply.started": "2021-04-13T16:24:17.097596Z"
    }
   },
   "outputs": [],
   "source": [
    "SUBJECT = \"Eugene\"\n",
    "EXPERIMENT = \"sleep-homeostasis\"\n",
    "CONDITION = \"recovery-sleep\"\n",
    "START_TIME = 2600 # pick a 1 second window that has SPW-Rs"
   ]
  },
  {
   "cell_type": "code",
   "execution_count": 239,
   "metadata": {
    "execution": {
     "iopub.execute_input": "2021-04-13T16:30:27.672851Z",
     "iopub.status.busy": "2021-04-13T16:30:27.672359Z",
     "iopub.status.idle": "2021-04-13T16:30:27.694975Z",
     "shell.execute_reply": "2021-04-13T16:30:27.694199Z",
     "shell.execute_reply.started": "2021-04-13T16:30:27.672792Z"
    }
   },
   "outputs": [],
   "source": [
    "SUBJECT = \"Allan\"\n",
    "EXPERIMENT = \"sleep-homeostasis\"\n",
    "CONDITION = \"recovery-sleep\"\n",
    "START_TIME = 2007 # pick a 1 second window that has SPW-Rs"
   ]
  },
  {
   "cell_type": "code",
   "execution_count": 9,
   "metadata": {
    "execution": {
     "iopub.execute_input": "2021-04-14T19:53:15.742867Z",
     "iopub.status.busy": "2021-04-14T19:53:15.742422Z",
     "iopub.status.idle": "2021-04-14T19:53:26.013781Z",
     "shell.execute_reply": "2021-04-14T19:53:26.013344Z",
     "shell.execute_reply.started": "2021-04-14T19:53:15.742813Z"
    }
   },
   "outputs": [
    {
     "name": "stdout",
     "output_type": "stream",
     "text": [
      "nChan: 385, nFileSamp: 5683927\n"
     ]
    }
   ],
   "source": [
    "chans = channel_groups.full[SUBJECT]\n",
    "bin_path = paths.get_sglx_style_datapaths(subject=SUBJECT, experiment=EXPERIMENT, condition=CONDITION, ext=\"lf.bin\")[1]\n",
    "_sig = load_timeseries(bin_path, chans, start_time=(START_TIME), end_time=(START_TIME + 1.0))\n",
    "(sig, times, fs) = (_sig.values, _sig.time.values, _sig.fs)"
   ]
  },
  {
   "cell_type": "code",
   "execution_count": 10,
   "metadata": {
    "execution": {
     "iopub.execute_input": "2021-04-14T19:53:26.031442Z",
     "iopub.status.busy": "2021-04-14T19:53:26.031317Z",
     "iopub.status.idle": "2021-04-14T19:53:26.048886Z",
     "shell.execute_reply": "2021-04-14T19:53:26.048539Z",
     "shell.execute_reply.started": "2021-04-14T19:53:26.031426Z"
    }
   },
   "outputs": [],
   "source": [
    "sig = mean_subtract(sig)"
   ]
  },
  {
   "cell_type": "markdown",
   "metadata": {},
   "source": [
    "## 1D kCSD on whole probe"
   ]
  },
  {
   "cell_type": "code",
   "execution_count": 11,
   "metadata": {
    "execution": {
     "iopub.execute_input": "2021-04-14T19:53:26.049670Z",
     "iopub.status.busy": "2021-04-14T19:53:26.049544Z",
     "iopub.status.idle": "2021-04-14T19:53:28.183726Z",
     "shell.execute_reply": "2021-04-14T19:53:28.182966Z",
     "shell.execute_reply.started": "2021-04-14T19:53:26.049654Z"
    }
   },
   "outputs": [
    {
     "name": "stdout",
     "output_type": "stream",
     "text": [
      "Performing L-curve parameter estimation...\n",
      "No lambda given, using defaults\n",
      "min lambda 1e-09\n",
      "max lambda 0.0043\n",
      "min lambda 1e-09\n",
      "max lambda 0.0043\n",
      "l-curve (all lambda):  0.23\n",
      "Best lambda and R =  2.8528971443615913e-05 ,  0.23\n"
     ]
    }
   ],
   "source": [
    "gdx = intersite_distance = 0.020\n",
    "k = get_kcsd(\n",
    "    sig, intersite_distance=intersite_distance, gdx=gdx, do_lcurve=True\n",
    ")\n",
    "est_csd = k.values('CSD')"
   ]
  },
  {
   "cell_type": "code",
   "execution_count": 22,
   "metadata": {
    "execution": {
     "iopub.execute_input": "2021-04-14T19:56:19.305980Z",
     "iopub.status.busy": "2021-04-14T19:56:19.305705Z",
     "iopub.status.idle": "2021-04-14T19:56:19.502830Z",
     "shell.execute_reply": "2021-04-14T19:56:19.502143Z",
     "shell.execute_reply.started": "2021-04-14T19:56:19.305946Z"
    }
   },
   "outputs": [
    {
     "data": {
      "application/vnd.jupyter.widget-view+json": {
       "model_id": "a618001755e748bab5459607f4c3a6c3",
       "version_major": 2,
       "version_minor": 0
      },
      "text/plain": [
       "Canvas(toolbar=Toolbar(toolitems=[('Home', 'Reset original view', 'home', 'home'), ('Back', 'Back to previous …"
      ]
     },
     "metadata": {},
     "output_type": "display_data"
    },
    {
     "name": "stdout",
     "output_type": "stream",
     "text": [
      "5.767 6.033\n"
     ]
    },
    {
     "data": {
      "text/plain": [
       "<matplotlib.lines.Line2D at 0x7f6d59af7d90>"
      ]
     },
     "execution_count": 22,
     "metadata": {},
     "output_type": "execute_result"
    }
   ],
   "source": [
    "_, ax = plt.subplots(figsize=(20, 10))\n",
    "ax.pcolormesh(times, k.estm_x, est_csd, shading=\"gouraud\")\n",
    "ax.set_xlabel(\"Time [sec]\")\n",
    "ax.set_ylabel(\"Depth (mm)\")\n",
    "\n",
    "lo = 5.9 - 0.133\n",
    "hi = 5.9 + 0.133\n",
    "print(lo, hi)\n",
    "ax.axhline(hi, alpha=0.5, color='k', linestyle=\"--\")\n",
    "ax.axhline(lo, alpha=0.5, color='k', linestyle=\"--\")"
   ]
  },
  {
   "cell_type": "code",
   "execution_count": 23,
   "metadata": {
    "execution": {
     "iopub.execute_input": "2021-04-14T19:56:27.060723Z",
     "iopub.status.busy": "2021-04-14T19:56:27.060483Z",
     "iopub.status.idle": "2021-04-14T19:56:27.090221Z",
     "shell.execute_reply": "2021-04-14T19:56:27.089522Z",
     "shell.execute_reply.started": "2021-04-14T19:56:27.060682Z"
    }
   },
   "outputs": [
    {
     "name": "stdout",
     "output_type": "stream",
     "text": [
      "[194 197 198 201 202 205 206 209 210 213 214 217 218]\n"
     ]
    }
   ],
   "source": [
    "hpc_chans = chans[np.logical_and(k.ele_pos >= lo, k.ele_pos <= hi).flatten()] # These are the channel numbers belonging to the hippocampus\n",
    "print(hpc_chans)"
   ]
  },
  {
   "cell_type": "code",
   "execution_count": 24,
   "metadata": {
    "execution": {
     "iopub.execute_input": "2021-04-14T19:56:27.091674Z",
     "iopub.status.busy": "2021-04-14T19:56:27.091436Z",
     "iopub.status.idle": "2021-04-14T19:56:27.113538Z",
     "shell.execute_reply": "2021-04-14T19:56:27.112883Z",
     "shell.execute_reply.started": "2021-04-14T19:56:27.091642Z"
    }
   },
   "outputs": [],
   "source": [
    "hpc_idx = np.where(np.logical_and(k.ele_pos >= lo, k.ele_pos <= hi).flatten())[0] # These are the indices of the above channels"
   ]
  },
  {
   "cell_type": "code",
   "execution_count": 25,
   "metadata": {
    "execution": {
     "iopub.execute_input": "2021-04-14T19:56:27.115270Z",
     "iopub.status.busy": "2021-04-14T19:56:27.115031Z",
     "iopub.status.idle": "2021-04-14T19:56:27.135590Z",
     "shell.execute_reply": "2021-04-14T19:56:27.134933Z",
     "shell.execute_reply.started": "2021-04-14T19:56:27.115239Z"
    }
   },
   "outputs": [],
   "source": [
    "assert np.array_equal(hpc_chans, chans[hpc_idx]) # Confirm that indexing is correct"
   ]
  },
  {
   "cell_type": "code",
   "execution_count": 26,
   "metadata": {
    "execution": {
     "iopub.execute_input": "2021-04-14T19:56:27.137237Z",
     "iopub.status.busy": "2021-04-14T19:56:27.136897Z",
     "iopub.status.idle": "2021-04-14T19:56:27.158141Z",
     "shell.execute_reply": "2021-04-14T19:56:27.157464Z",
     "shell.execute_reply.started": "2021-04-14T19:56:27.137205Z"
    }
   },
   "outputs": [
    {
     "name": "stdout",
     "output_type": "stream",
     "text": [
      "Min HPC index: 289 \n",
      "Max HPC index: 302\n"
     ]
    }
   ],
   "source": [
    "print(f\"Min HPC index: {hpc_idx.min()} \\nMax HPC index: {hpc_idx.max() + 1}\")"
   ]
  },
  {
   "cell_type": "markdown",
   "metadata": {},
   "source": [
    "## 1D kCSD on hippocampal channels"
   ]
  },
  {
   "cell_type": "code",
   "execution_count": 251,
   "metadata": {
    "execution": {
     "iopub.execute_input": "2021-01-08T00:49:04.550089Z",
     "iopub.status.busy": "2021-01-08T00:49:04.549961Z",
     "iopub.status.idle": "2021-01-08T00:49:05.487728Z",
     "shell.execute_reply": "2021-01-08T00:49:05.487075Z",
     "shell.execute_reply.started": "2021-01-08T00:49:04.550074Z"
    }
   },
   "outputs": [
    {
     "name": "stdout",
     "output_type": "stream",
     "text": [
      "Performing L-curve parameter estimation...\n",
      "No lambda given, using defaults\n",
      "min lambda 1e-12\n",
      "max lambda 0.0119\n",
      "min lambda 1e-12\n",
      "max lambda 0.0119\n",
      "l-curve (all lambda):  0.23\n",
      "Best lambda and R =  2.8175859627735274e-05 ,  0.23\n"
     ]
    }
   ],
   "source": [
    "hpc_k = get_kcsd(\n",
    "    sig[:, hpc_idx], intersite_distance=intersite_distance, gdx=gdx, do_lcurve=True\n",
    ")\n",
    "hpc_est_csd = hpc_k.values('CSD')"
   ]
  },
  {
   "cell_type": "code",
   "execution_count": 252,
   "metadata": {
    "execution": {
     "iopub.execute_input": "2021-01-08T00:49:05.489343Z",
     "iopub.status.busy": "2021-01-08T00:49:05.488876Z",
     "iopub.status.idle": "2021-01-08T00:49:05.606051Z",
     "shell.execute_reply": "2021-01-08T00:49:05.605418Z",
     "shell.execute_reply.started": "2021-01-08T00:49:05.489306Z"
    }
   },
   "outputs": [
    {
     "data": {
      "application/vnd.jupyter.widget-view+json": {
       "model_id": "5f1e2abe29b44ae4a10ead8abd048183",
       "version_major": 2,
       "version_minor": 0
      },
      "text/plain": [
       "Canvas(toolbar=Toolbar(toolitems=[('Home', 'Reset original view', 'home', 'home'), ('Back', 'Back to previous …"
      ]
     },
     "metadata": {},
     "output_type": "display_data"
    },
    {
     "data": {
      "text/plain": [
       "<matplotlib.lines.Line2D at 0x7f43383190d0>"
      ]
     },
     "execution_count": 252,
     "metadata": {},
     "output_type": "execute_result"
    }
   ],
   "source": [
    "_, ax = plt.subplots(figsize=(20, 10))\n",
    "ax.pcolormesh(times, hpc_k.estm_x, hpc_est_csd, shading=\"gouraud\")\n",
    "ax.set_xlabel(\"Time [sec]\")\n",
    "ax.set_ylabel(\"Depth (mm)\")\n",
    "\n",
    "# Visualize stratum radiatum position\n",
    "sr_chans = channel_groups.stratum_radiatum_140um_to_200um[SUBJECT]\n",
    "sr_mask = np.isin(hpc_chans, sr_chans)\n",
    "sr_pos = hpc_k.ele_pos[sr_mask]\n",
    "ax.axhline(sr_pos.min(), alpha=0.5, color='k', linestyle=\":\")\n",
    "ax.axhline(sr_pos.max(), alpha=0.5, color='k', linestyle=\":\")"
   ]
  }
 ],
 "metadata": {
  "kernelspec": {
   "display_name": "Python 3",
   "language": "python",
   "name": "python3"
  },
  "language_info": {
   "codemirror_mode": {
    "name": "ipython",
    "version": 3
   },
   "file_extension": ".py",
   "mimetype": "text/x-python",
   "name": "python",
   "nbconvert_exporter": "python",
   "pygments_lexer": "ipython3",
   "version": "3.7.9"
  }
 },
 "nbformat": 4,
 "nbformat_minor": 4
}
