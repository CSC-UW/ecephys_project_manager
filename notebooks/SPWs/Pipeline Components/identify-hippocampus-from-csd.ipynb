{
 "cells": [
  {
   "cell_type": "code",
   "execution_count": 1,
   "metadata": {
    "execution": {
     "iopub.execute_input": "2021-05-05T17:51:31.128849Z",
     "iopub.status.busy": "2021-05-05T17:51:31.128362Z",
     "iopub.status.idle": "2021-05-05T17:51:31.145930Z",
     "shell.execute_reply": "2021-05-05T17:51:31.145214Z",
     "shell.execute_reply.started": "2021-05-05T17:51:31.128790Z"
    }
   },
   "outputs": [],
   "source": [
    "%load_ext autoreload\n",
    "%autoreload 2"
   ]
  },
  {
   "cell_type": "code",
   "execution_count": 2,
   "metadata": {
    "execution": {
     "iopub.execute_input": "2021-05-05T17:51:32.015553Z",
     "iopub.status.busy": "2021-05-05T17:51:32.015156Z",
     "iopub.status.idle": "2021-05-05T17:51:32.176936Z",
     "shell.execute_reply": "2021-05-05T17:51:32.176260Z",
     "shell.execute_reply.started": "2021-05-05T17:51:32.015509Z"
    }
   },
   "outputs": [],
   "source": [
    "%matplotlib widget\n",
    "import matplotlib.pyplot as plt\n",
    "import matplotlib.cm as cm"
   ]
  },
  {
   "cell_type": "code",
   "execution_count": 3,
   "metadata": {
    "execution": {
     "iopub.execute_input": "2021-05-05T17:51:33.255961Z",
     "iopub.status.busy": "2021-05-05T17:51:33.255596Z",
     "iopub.status.idle": "2021-05-05T17:51:33.395038Z",
     "shell.execute_reply": "2021-05-05T17:51:33.394255Z",
     "shell.execute_reply.started": "2021-05-05T17:51:33.255920Z"
    }
   },
   "outputs": [],
   "source": [
    "import numpy as np\n",
    "import pandas as pd\n",
    "from kcsd import KCSD1D"
   ]
  },
  {
   "cell_type": "code",
   "execution_count": 4,
   "metadata": {
    "execution": {
     "iopub.execute_input": "2021-05-05T17:51:33.734647Z",
     "iopub.status.busy": "2021-05-05T17:51:33.734437Z",
     "iopub.status.idle": "2021-05-05T17:51:34.131463Z",
     "shell.execute_reply": "2021-05-05T17:51:34.130779Z",
     "shell.execute_reply.started": "2021-05-05T17:51:33.734623Z"
    }
   },
   "outputs": [],
   "source": [
    "from ecephys.sglx_utils import load_timeseries\n",
    "from ecephys.plot import lfp_explorer, colormesh_timeseries_explorer\n",
    "from ecephys.signal.utils import mean_subtract, median_subtract\n",
    "from ecephys.signal.csd import get_kcsd\n",
    "import ecephys_analyses as ea"
   ]
  },
  {
   "cell_type": "code",
   "execution_count": 8,
   "metadata": {
    "execution": {
     "iopub.execute_input": "2021-05-03T22:13:27.668310Z",
     "iopub.status.busy": "2021-05-03T22:13:27.667987Z",
     "iopub.status.idle": "2021-05-03T22:13:27.693952Z",
     "shell.execute_reply": "2021-05-03T22:13:27.693203Z",
     "shell.execute_reply.started": "2021-05-03T22:13:27.668272Z"
    }
   },
   "outputs": [],
   "source": [
    "SUBJECT = \"Segundo\"\n",
    "EXPERIMENT = \"sleep-homeostasis\"\n",
    "CONDITION = \"recovery-sleep\"\n",
    "START_TIME = 1680 # pick a 1 second window that has SPW-Rs"
   ]
  },
  {
   "cell_type": "code",
   "execution_count": 9,
   "metadata": {
    "execution": {
     "iopub.execute_input": "2021-05-03T22:13:27.995833Z",
     "iopub.status.busy": "2021-05-03T22:13:27.995577Z",
     "iopub.status.idle": "2021-05-03T22:13:28.018771Z",
     "shell.execute_reply": "2021-05-03T22:13:28.018032Z",
     "shell.execute_reply.started": "2021-05-03T22:13:27.995799Z"
    }
   },
   "outputs": [],
   "source": [
    "SUBJECT = \"Valentino\"\n",
    "EXPERIMENT = \"sleep-homeostasis\"\n",
    "CONDITION = \"recovery-sleep\"\n",
    "START_TIME = 3880 # pick a 1 second window that has SPW-Rs"
   ]
  },
  {
   "cell_type": "code",
   "execution_count": 10,
   "metadata": {
    "execution": {
     "iopub.execute_input": "2021-05-03T22:13:29.044770Z",
     "iopub.status.busy": "2021-05-03T22:13:29.044450Z",
     "iopub.status.idle": "2021-05-03T22:13:29.070055Z",
     "shell.execute_reply": "2021-05-03T22:13:29.069224Z",
     "shell.execute_reply.started": "2021-05-03T22:13:29.044733Z"
    }
   },
   "outputs": [],
   "source": [
    "SUBJECT = \"Valentino\"\n",
    "EXPERIMENT = \"sevo-dex\"\n",
    "CONDITION = \"all\"\n",
    "PROBE = \"imec0\"\n",
    "START_TIME = 355 # pick a 1 second window that has SPW-Rs"
   ]
  },
  {
   "cell_type": "code",
   "execution_count": 10,
   "metadata": {
    "execution": {
     "iopub.execute_input": "2021-05-04T17:35:12.810491Z",
     "iopub.status.busy": "2021-05-04T17:35:12.810098Z",
     "iopub.status.idle": "2021-05-04T17:35:12.841655Z",
     "shell.execute_reply": "2021-05-04T17:35:12.840652Z",
     "shell.execute_reply.started": "2021-05-04T17:35:12.810450Z"
    }
   },
   "outputs": [],
   "source": [
    "SUBJECT = \"Valentino\"\n",
    "EXPERIMENT = \"atropine\"\n",
    "CONDITION = \"all\"\n",
    "PROBE = \"imec0\"\n",
    "START_TIME = 828 # pick a 1 second window that has SPW-Rs"
   ]
  },
  {
   "cell_type": "code",
   "execution_count": 139,
   "metadata": {
    "execution": {
     "iopub.execute_input": "2021-04-13T00:03:32.613587Z",
     "iopub.status.busy": "2021-04-13T00:03:32.613024Z",
     "iopub.status.idle": "2021-04-13T00:03:32.639378Z",
     "shell.execute_reply": "2021-04-13T00:03:32.638550Z",
     "shell.execute_reply.started": "2021-04-13T00:03:32.613507Z"
    }
   },
   "outputs": [],
   "source": [
    "SUBJECT = \"Doppio\"\n",
    "EXPERIMENT = \"sleep-homeostasis\"\n",
    "CONDITION = \"recovery-sleep\"\n",
    "START_TIME = 1708 # pick a 1 second window that has SPW-Rs"
   ]
  },
  {
   "cell_type": "code",
   "execution_count": 8,
   "metadata": {
    "execution": {
     "iopub.execute_input": "2021-04-14T19:53:13.438648Z",
     "iopub.status.busy": "2021-04-14T19:53:13.438160Z",
     "iopub.status.idle": "2021-04-14T19:53:13.459998Z",
     "shell.execute_reply": "2021-04-14T19:53:13.459613Z",
     "shell.execute_reply.started": "2021-04-14T19:53:13.438589Z"
    }
   },
   "outputs": [],
   "source": [
    "SUBJECT = \"Doppio\"\n",
    "EXPERIMENT = \"atropine-50mg\"\n",
    "CONDITION = \"all\"\n",
    "START_TIME = 1159 # pick a 1 second window that has SPW-Rs"
   ]
  },
  {
   "cell_type": "code",
   "execution_count": 189,
   "metadata": {
    "execution": {
     "iopub.execute_input": "2021-04-13T16:10:30.712220Z",
     "iopub.status.busy": "2021-04-13T16:10:30.711740Z",
     "iopub.status.idle": "2021-04-13T16:10:30.734900Z",
     "shell.execute_reply": "2021-04-13T16:10:30.734083Z",
     "shell.execute_reply.started": "2021-04-13T16:10:30.712160Z"
    }
   },
   "outputs": [],
   "source": [
    "SUBJECT = \"Alessandro\"\n",
    "EXPERIMENT = \"sleep-homeostasis\"\n",
    "CONDITION = \"recovery-sleep\"\n",
    "START_TIME = 1766 # pick a 1 second window that has SPW-Rs"
   ]
  },
  {
   "cell_type": "code",
   "execution_count": 215,
   "metadata": {
    "execution": {
     "iopub.execute_input": "2021-04-13T16:24:17.097657Z",
     "iopub.status.busy": "2021-04-13T16:24:17.097140Z",
     "iopub.status.idle": "2021-04-13T16:24:17.119040Z",
     "shell.execute_reply": "2021-04-13T16:24:17.118403Z",
     "shell.execute_reply.started": "2021-04-13T16:24:17.097596Z"
    }
   },
   "outputs": [],
   "source": [
    "SUBJECT = \"Eugene\"\n",
    "EXPERIMENT = \"sleep-homeostasis\"\n",
    "CONDITION = \"recovery-sleep\"\n",
    "START_TIME = 2600 # pick a 1 second window that has SPW-Rs"
   ]
  },
  {
   "cell_type": "code",
   "execution_count": 239,
   "metadata": {
    "execution": {
     "iopub.execute_input": "2021-04-13T16:30:27.672851Z",
     "iopub.status.busy": "2021-04-13T16:30:27.672359Z",
     "iopub.status.idle": "2021-04-13T16:30:27.694975Z",
     "shell.execute_reply": "2021-04-13T16:30:27.694199Z",
     "shell.execute_reply.started": "2021-04-13T16:30:27.672792Z"
    }
   },
   "outputs": [],
   "source": [
    "SUBJECT = \"Allan\"\n",
    "EXPERIMENT = \"sleep-homeostasis\"\n",
    "CONDITION = \"recovery-sleep\"\n",
    "START_TIME = 2007 # pick a 1 second window that has SPW-Rs"
   ]
  },
  {
   "cell_type": "code",
   "execution_count": 7,
   "metadata": {
    "execution": {
     "iopub.execute_input": "2021-05-05T17:52:02.166336Z",
     "iopub.status.busy": "2021-05-05T17:52:02.165952Z",
     "iopub.status.idle": "2021-05-05T17:52:02.188299Z",
     "shell.execute_reply": "2021-05-05T17:52:02.187708Z",
     "shell.execute_reply.started": "2021-05-05T17:52:02.166290Z"
    }
   },
   "outputs": [],
   "source": [
    "SUBJECT = \"Allan\"\n",
    "EXPERIMENT = \"dexmedetomidine\"\n",
    "CONDITION = \"all\"\n",
    "PROBE = \"imec0\"\n",
    "START_TIME = 3 # pick a 1 second window that has SPW-Rs"
   ]
  },
  {
   "cell_type": "code",
   "execution_count": 8,
   "metadata": {
    "execution": {
     "iopub.execute_input": "2021-05-05T17:52:10.647139Z",
     "iopub.status.busy": "2021-05-05T17:52:10.646628Z",
     "iopub.status.idle": "2021-05-05T17:52:10.673762Z",
     "shell.execute_reply": "2021-05-05T17:52:10.672887Z",
     "shell.execute_reply.started": "2021-05-05T17:52:10.647075Z"
    }
   },
   "outputs": [],
   "source": [
    "SUBJECT = \"Allan\"\n",
    "EXPERIMENT = \"atropine\"\n",
    "CONDITION = \"all\"\n",
    "PROBE = \"imec0\"\n",
    "START_TIME = 35 # pick a 1 second window that has SPW-Rs"
   ]
  },
  {
   "cell_type": "code",
   "execution_count": 9,
   "metadata": {
    "execution": {
     "iopub.execute_input": "2021-05-05T17:52:12.053256Z",
     "iopub.status.busy": "2021-05-05T17:52:12.052773Z",
     "iopub.status.idle": "2021-05-05T17:52:13.455643Z",
     "shell.execute_reply": "2021-05-05T17:52:13.454912Z",
     "shell.execute_reply.started": "2021-05-05T17:52:12.053200Z"
    }
   },
   "outputs": [
    {
     "name": "stdout",
     "output_type": "stream",
     "text": [
      "nChan: 385, nFileSamp: 17644049\n"
     ]
    }
   ],
   "source": [
    "chans = ea.get_channels(SUBJECT, EXPERIMENT, PROBE, \"all\")\n",
    "bin_path = ea.get_sglx_style_datapaths(subject=SUBJECT, experiment=EXPERIMENT, condition=CONDITION, ext=\"lf.bin\")[0]\n",
    "_sig = load_timeseries(bin_path, chans, start_time=(START_TIME), end_time=(START_TIME + 1.0))\n",
    "(sig, times, fs) = (_sig.values, _sig.time.values, _sig.fs)"
   ]
  },
  {
   "cell_type": "code",
   "execution_count": 10,
   "metadata": {
    "execution": {
     "iopub.execute_input": "2021-05-05T17:52:13.704566Z",
     "iopub.status.busy": "2021-05-05T17:52:13.704075Z",
     "iopub.status.idle": "2021-05-05T17:52:13.733605Z",
     "shell.execute_reply": "2021-05-05T17:52:13.732932Z",
     "shell.execute_reply.started": "2021-05-05T17:52:13.704497Z"
    }
   },
   "outputs": [],
   "source": [
    "sig = mean_subtract(sig)"
   ]
  },
  {
   "cell_type": "markdown",
   "metadata": {},
   "source": [
    "## 1D kCSD on whole probe"
   ]
  },
  {
   "cell_type": "code",
   "execution_count": 11,
   "metadata": {
    "execution": {
     "iopub.execute_input": "2021-05-05T17:52:14.560072Z",
     "iopub.status.busy": "2021-05-05T17:52:14.559813Z",
     "iopub.status.idle": "2021-05-05T17:52:16.388777Z",
     "shell.execute_reply": "2021-05-05T17:52:16.387996Z",
     "shell.execute_reply.started": "2021-05-05T17:52:14.560043Z"
    }
   },
   "outputs": [
    {
     "name": "stdout",
     "output_type": "stream",
     "text": [
      "Performing L-curve parameter estimation...\n",
      "No lambda given, using defaults\n",
      "min lambda 1e-09\n",
      "max lambda 0.0043\n",
      "min lambda 1e-09\n",
      "max lambda 0.0043\n",
      "l-curve (all lambda):  0.23\n",
      "Best lambda and R =  0.0001517905987030163 ,  0.23\n"
     ]
    }
   ],
   "source": [
    "gdx = intersite_distance = 0.020\n",
    "k = get_kcsd(\n",
    "    sig, intersite_distance=intersite_distance, gdx=gdx, do_lcurve=True\n",
    ")\n",
    "est_csd = k.values('CSD')"
   ]
  },
  {
   "cell_type": "code",
   "execution_count": 16,
   "metadata": {
    "execution": {
     "iopub.execute_input": "2021-05-05T17:55:16.507152Z",
     "iopub.status.busy": "2021-05-05T17:55:16.506824Z",
     "iopub.status.idle": "2021-05-05T17:55:16.707577Z",
     "shell.execute_reply": "2021-05-05T17:55:16.706868Z",
     "shell.execute_reply.started": "2021-05-05T17:55:16.507105Z"
    }
   },
   "outputs": [
    {
     "data": {
      "application/vnd.jupyter.widget-view+json": {
       "model_id": "346b19a6131e4bc590628a362c22d52f",
       "version_major": 2,
       "version_minor": 0
      },
      "text/plain": [
       "Canvas(toolbar=Toolbar(toolitems=[('Home', 'Reset original view', 'home', 'home'), ('Back', 'Back to previous …"
      ]
     },
     "metadata": {},
     "output_type": "display_data"
    },
    {
     "name": "stdout",
     "output_type": "stream",
     "text": [
      "5.48 5.48\n"
     ]
    },
    {
     "data": {
      "text/plain": [
       "<matplotlib.lines.Line2D at 0x7f573db4e650>"
      ]
     },
     "execution_count": 16,
     "metadata": {},
     "output_type": "execute_result"
    }
   ],
   "source": [
    "_, ax = plt.subplots(figsize=(20, 10))\n",
    "ax.pcolormesh(times, k.estm_x, est_csd, shading=\"gouraud\")\n",
    "ax.set_xlabel(\"Time [sec]\")\n",
    "ax.set_ylabel(\"Depth (mm)\")\n",
    "\n",
    "#lo = 3.2\n",
    "#hi = 5.4\n",
    "#lo = 5.48 - 0.133 \n",
    "#hi = 5.48 + 0.133\n",
    "lo = 5.48\n",
    "hi = 5.48\n",
    "print(lo, hi)\n",
    "ax.axhline(hi, alpha=0.5, color='k', linestyle=\"--\")\n",
    "ax.axhline(lo, alpha=0.5, color='k', linestyle=\"--\")"
   ]
  },
  {
   "cell_type": "code",
   "execution_count": 17,
   "metadata": {
    "execution": {
     "iopub.execute_input": "2021-05-05T17:55:24.487321Z",
     "iopub.status.busy": "2021-05-05T17:55:24.486937Z",
     "iopub.status.idle": "2021-05-05T17:55:24.518041Z",
     "shell.execute_reply": "2021-05-05T17:55:24.517400Z",
     "shell.execute_reply.started": "2021-05-05T17:55:24.487276Z"
    }
   },
   "outputs": [
    {
     "data": {
      "text/plain": [
       "array([247])"
      ]
     },
     "execution_count": 17,
     "metadata": {},
     "output_type": "execute_result"
    }
   ],
   "source": [
    "hpc_chans = chans[np.logical_and(k.ele_pos >= lo, k.ele_pos <= hi).flatten()] # These are the channel numbers belonging to the hippocampus\n",
    "hpc_chans"
   ]
  },
  {
   "cell_type": "code",
   "execution_count": 24,
   "metadata": {
    "execution": {
     "iopub.execute_input": "2021-04-14T19:56:27.091674Z",
     "iopub.status.busy": "2021-04-14T19:56:27.091436Z",
     "iopub.status.idle": "2021-04-14T19:56:27.113538Z",
     "shell.execute_reply": "2021-04-14T19:56:27.112883Z",
     "shell.execute_reply.started": "2021-04-14T19:56:27.091642Z"
    }
   },
   "outputs": [],
   "source": [
    "hpc_idx = np.where(np.logical_and(k.ele_pos >= lo, k.ele_pos <= hi).flatten())[0] # These are the indices of the above channels"
   ]
  },
  {
   "cell_type": "code",
   "execution_count": 25,
   "metadata": {
    "execution": {
     "iopub.execute_input": "2021-04-14T19:56:27.115270Z",
     "iopub.status.busy": "2021-04-14T19:56:27.115031Z",
     "iopub.status.idle": "2021-04-14T19:56:27.135590Z",
     "shell.execute_reply": "2021-04-14T19:56:27.134933Z",
     "shell.execute_reply.started": "2021-04-14T19:56:27.115239Z"
    }
   },
   "outputs": [],
   "source": [
    "assert np.array_equal(hpc_chans, chans[hpc_idx]) # Confirm that indexing is correct"
   ]
  },
  {
   "cell_type": "code",
   "execution_count": 26,
   "metadata": {
    "execution": {
     "iopub.execute_input": "2021-04-14T19:56:27.137237Z",
     "iopub.status.busy": "2021-04-14T19:56:27.136897Z",
     "iopub.status.idle": "2021-04-14T19:56:27.158141Z",
     "shell.execute_reply": "2021-04-14T19:56:27.157464Z",
     "shell.execute_reply.started": "2021-04-14T19:56:27.137205Z"
    }
   },
   "outputs": [
    {
     "name": "stdout",
     "output_type": "stream",
     "text": [
      "Min HPC index: 289 \n",
      "Max HPC index: 302\n"
     ]
    }
   ],
   "source": [
    "print(f\"Min HPC index: {hpc_idx.min()} \\nMax HPC index: {hpc_idx.max() + 1}\")"
   ]
  },
  {
   "cell_type": "markdown",
   "metadata": {},
   "source": [
    "## 1D kCSD on hippocampal channels"
   ]
  },
  {
   "cell_type": "code",
   "execution_count": 251,
   "metadata": {
    "execution": {
     "iopub.execute_input": "2021-01-08T00:49:04.550089Z",
     "iopub.status.busy": "2021-01-08T00:49:04.549961Z",
     "iopub.status.idle": "2021-01-08T00:49:05.487728Z",
     "shell.execute_reply": "2021-01-08T00:49:05.487075Z",
     "shell.execute_reply.started": "2021-01-08T00:49:04.550074Z"
    }
   },
   "outputs": [
    {
     "name": "stdout",
     "output_type": "stream",
     "text": [
      "Performing L-curve parameter estimation...\n",
      "No lambda given, using defaults\n",
      "min lambda 1e-12\n",
      "max lambda 0.0119\n",
      "min lambda 1e-12\n",
      "max lambda 0.0119\n",
      "l-curve (all lambda):  0.23\n",
      "Best lambda and R =  2.8175859627735274e-05 ,  0.23\n"
     ]
    }
   ],
   "source": [
    "hpc_k = get_kcsd(\n",
    "    sig[:, hpc_idx], intersite_distance=intersite_distance, gdx=gdx, do_lcurve=True\n",
    ")\n",
    "hpc_est_csd = hpc_k.values('CSD')"
   ]
  },
  {
   "cell_type": "code",
   "execution_count": 252,
   "metadata": {
    "execution": {
     "iopub.execute_input": "2021-01-08T00:49:05.489343Z",
     "iopub.status.busy": "2021-01-08T00:49:05.488876Z",
     "iopub.status.idle": "2021-01-08T00:49:05.606051Z",
     "shell.execute_reply": "2021-01-08T00:49:05.605418Z",
     "shell.execute_reply.started": "2021-01-08T00:49:05.489306Z"
    }
   },
   "outputs": [
    {
     "data": {
      "application/vnd.jupyter.widget-view+json": {
       "model_id": "5f1e2abe29b44ae4a10ead8abd048183",
       "version_major": 2,
       "version_minor": 0
      },
      "text/plain": [
       "Canvas(toolbar=Toolbar(toolitems=[('Home', 'Reset original view', 'home', 'home'), ('Back', 'Back to previous …"
      ]
     },
     "metadata": {},
     "output_type": "display_data"
    },
    {
     "data": {
      "text/plain": [
       "<matplotlib.lines.Line2D at 0x7f43383190d0>"
      ]
     },
     "execution_count": 252,
     "metadata": {},
     "output_type": "execute_result"
    }
   ],
   "source": [
    "_, ax = plt.subplots(figsize=(20, 10))\n",
    "ax.pcolormesh(times, hpc_k.estm_x, hpc_est_csd, shading=\"gouraud\")\n",
    "ax.set_xlabel(\"Time [sec]\")\n",
    "ax.set_ylabel(\"Depth (mm)\")\n",
    "\n",
    "# Visualize stratum radiatum position\n",
    "sr_chans = channel_groups.stratum_radiatum_140um_to_200um[SUBJECT]\n",
    "sr_mask = np.isin(hpc_chans, sr_chans)\n",
    "sr_pos = hpc_k.ele_pos[sr_mask]\n",
    "ax.axhline(sr_pos.min(), alpha=0.5, color='k', linestyle=\":\")\n",
    "ax.axhline(sr_pos.max(), alpha=0.5, color='k', linestyle=\":\")"
   ]
  }
 ],
 "metadata": {
  "kernelspec": {
   "display_name": "Python 3",
   "language": "python",
   "name": "python3"
  },
  "language_info": {
   "codemirror_mode": {
    "name": "ipython",
    "version": 3
   },
   "file_extension": ".py",
   "mimetype": "text/x-python",
   "name": "python",
   "nbconvert_exporter": "python",
   "pygments_lexer": "ipython3",
   "version": "3.7.9"
  }
 },
 "nbformat": 4,
 "nbformat_minor": 4
}
