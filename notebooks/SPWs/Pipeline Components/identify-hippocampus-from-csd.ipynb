{
 "cells": [
  {
   "cell_type": "code",
   "execution_count": 45,
   "metadata": {
    "execution": {
     "iopub.execute_input": "2021-04-08T22:16:20.397148Z",
     "iopub.status.busy": "2021-04-08T22:16:20.396947Z",
     "iopub.status.idle": "2021-04-08T22:16:20.416610Z",
     "shell.execute_reply": "2021-04-08T22:16:20.415792Z",
     "shell.execute_reply.started": "2021-04-08T22:16:20.397120Z"
    }
   },
   "outputs": [
    {
     "name": "stdout",
     "output_type": "stream",
     "text": [
      "The autoreload extension is already loaded. To reload it, use:\n",
      "  %reload_ext autoreload\n"
     ]
    }
   ],
   "source": [
    "%load_ext autoreload\n",
    "%autoreload 2"
   ]
  },
  {
   "cell_type": "code",
   "execution_count": 46,
   "metadata": {
    "execution": {
     "iopub.execute_input": "2021-04-08T22:16:20.417631Z",
     "iopub.status.busy": "2021-04-08T22:16:20.417500Z",
     "iopub.status.idle": "2021-04-08T22:16:20.433319Z",
     "shell.execute_reply": "2021-04-08T22:16:20.432772Z",
     "shell.execute_reply.started": "2021-04-08T22:16:20.417615Z"
    }
   },
   "outputs": [],
   "source": [
    "%matplotlib widget\n",
    "import matplotlib.pyplot as plt\n",
    "import matplotlib.cm as cm"
   ]
  },
  {
   "cell_type": "code",
   "execution_count": 47,
   "metadata": {
    "execution": {
     "iopub.execute_input": "2021-04-08T22:16:20.436211Z",
     "iopub.status.busy": "2021-04-08T22:16:20.436031Z",
     "iopub.status.idle": "2021-04-08T22:16:20.446945Z",
     "shell.execute_reply": "2021-04-08T22:16:20.446333Z",
     "shell.execute_reply.started": "2021-04-08T22:16:20.436194Z"
    }
   },
   "outputs": [],
   "source": [
    "import numpy as np\n",
    "import pandas as pd\n",
    "from kcsd import KCSD1D"
   ]
  },
  {
   "cell_type": "code",
   "execution_count": 48,
   "metadata": {
    "execution": {
     "iopub.execute_input": "2021-04-08T22:16:20.447974Z",
     "iopub.status.busy": "2021-04-08T22:16:20.447847Z",
     "iopub.status.idle": "2021-04-08T22:16:20.459777Z",
     "shell.execute_reply": "2021-04-08T22:16:20.459111Z",
     "shell.execute_reply.started": "2021-04-08T22:16:20.447958Z"
    }
   },
   "outputs": [],
   "source": [
    "from ecephys.sglx_utils import load_timeseries\n",
    "from ecephys_analyses.data import channel_groups, paths\n",
    "from ecephys.plot import lfp_explorer, colormesh_timeseries_explorer\n",
    "from ecephys.signal.utils import mean_subtract, median_subtract\n",
    "from ecephys.signal.csd import get_kcsd"
   ]
  },
  {
   "cell_type": "code",
   "execution_count": 49,
   "metadata": {
    "execution": {
     "iopub.execute_input": "2021-04-08T22:16:20.460677Z",
     "iopub.status.busy": "2021-04-08T22:16:20.460552Z",
     "iopub.status.idle": "2021-04-08T22:16:20.473546Z",
     "shell.execute_reply": "2021-04-08T22:16:20.473031Z",
     "shell.execute_reply.started": "2021-04-08T22:16:20.460662Z"
    }
   },
   "outputs": [],
   "source": [
    "SUBJECT = \"Doppio\"\n",
    "START_TIME = 2123 # pick a 1 second window that has SPW-Rs"
   ]
  },
  {
   "cell_type": "code",
   "execution_count": 50,
   "metadata": {
    "execution": {
     "iopub.execute_input": "2021-04-08T22:16:20.474168Z",
     "iopub.status.busy": "2021-04-08T22:16:20.474047Z",
     "iopub.status.idle": "2021-04-08T22:16:20.577644Z",
     "shell.execute_reply": "2021-04-08T22:16:20.576892Z",
     "shell.execute_reply.started": "2021-04-08T22:16:20.474153Z"
    }
   },
   "outputs": [
    {
     "name": "stdout",
     "output_type": "stream",
     "text": [
      "nChan: 385, nFileSamp: 18000019\n"
     ]
    }
   ],
   "source": [
    "chans = channel_groups.full[SUBJECT]\n",
    "bin_path = paths.get_sglx_style_datapaths(subject=SUBJECT, experiment=\"sleep-homeostasis\", condition=\"recovery-sleep\", ext=\"lf.bin\")[0]\n",
    "_sig = load_timeseries(bin_path, chans, start_time=(START_TIME), end_time=(START_TIME + 1.0))\n",
    "(sig, times, fs) = (_sig.values, _sig.time.values, _sig.fs)"
   ]
  },
  {
   "cell_type": "code",
   "execution_count": 51,
   "metadata": {
    "execution": {
     "iopub.execute_input": "2021-04-08T22:16:20.578694Z",
     "iopub.status.busy": "2021-04-08T22:16:20.578489Z",
     "iopub.status.idle": "2021-04-08T22:16:20.592082Z",
     "shell.execute_reply": "2021-04-08T22:16:20.591381Z",
     "shell.execute_reply.started": "2021-04-08T22:16:20.578668Z"
    }
   },
   "outputs": [],
   "source": [
    "# sig = mean_subtract(sig)"
   ]
  },
  {
   "cell_type": "markdown",
   "metadata": {},
   "source": [
    "## 1D kCSD on whole probe"
   ]
  },
  {
   "cell_type": "code",
   "execution_count": 52,
   "metadata": {
    "execution": {
     "iopub.execute_input": "2021-04-08T22:16:20.595717Z",
     "iopub.status.busy": "2021-04-08T22:16:20.595598Z",
     "iopub.status.idle": "2021-04-08T22:16:22.012874Z",
     "shell.execute_reply": "2021-04-08T22:16:22.012273Z",
     "shell.execute_reply.started": "2021-04-08T22:16:20.595702Z"
    }
   },
   "outputs": [
    {
     "name": "stdout",
     "output_type": "stream",
     "text": [
      "Performing L-curve parameter estimation...\n",
      "No lambda given, using defaults\n",
      "min lambda 1e-09\n",
      "max lambda 0.0043\n",
      "min lambda 1e-09\n",
      "max lambda 0.0043\n",
      "l-curve (all lambda):  0.23\n",
      "Best lambda and R =  0.0018628719929130466 ,  0.23\n"
     ]
    }
   ],
   "source": [
    "gdx = intersite_distance = 0.020\n",
    "k = get_kcsd(\n",
    "    sig, intersite_distance=intersite_distance, gdx=gdx, do_lcurve=True\n",
    ")\n",
    "est_csd = k.values('CSD')"
   ]
  },
  {
   "cell_type": "code",
   "execution_count": 62,
   "metadata": {
    "execution": {
     "iopub.execute_input": "2021-04-08T22:36:39.355970Z",
     "iopub.status.busy": "2021-04-08T22:36:39.355491Z",
     "iopub.status.idle": "2021-04-08T22:36:39.466285Z",
     "shell.execute_reply": "2021-04-08T22:36:39.465673Z",
     "shell.execute_reply.started": "2021-04-08T22:36:39.355911Z"
    }
   },
   "outputs": [
    {
     "data": {
      "application/vnd.jupyter.widget-view+json": {
       "model_id": "e32fcbe40f5c4fdcbdbdb88827060695",
       "version_major": 2,
       "version_minor": 0
      },
      "text/plain": [
       "Canvas(toolbar=Toolbar(toolitems=[('Home', 'Reset original view', 'home', 'home'), ('Back', 'Back to previous …"
      ]
     },
     "metadata": {},
     "output_type": "display_data"
    },
    {
     "data": {
      "text/plain": [
       "<matplotlib.lines.Line2D at 0x7ef8ec7b3b90>"
      ]
     },
     "execution_count": 62,
     "metadata": {},
     "output_type": "execute_result"
    }
   ],
   "source": [
    "_, ax = plt.subplots(figsize=(20, 10))\n",
    "ax.pcolormesh(times, k.estm_x, est_csd, shading=\"gouraud\")\n",
    "ax.set_xlabel(\"Time [sec]\")\n",
    "ax.set_ylabel(\"Depth (mm)\")\n",
    "\n",
    "lo = 5.7333\n",
    "hi = 6.0666\n",
    "ax.axhline(hi, alpha=0.5, color='k', linestyle=\"--\")\n",
    "ax.axhline(lo, alpha=0.5, color='k', linestyle=\"--\")"
   ]
  },
  {
   "cell_type": "code",
   "execution_count": 63,
   "metadata": {
    "execution": {
     "iopub.execute_input": "2021-04-08T22:36:56.777811Z",
     "iopub.status.busy": "2021-04-08T22:36:56.777335Z",
     "iopub.status.idle": "2021-04-08T22:36:56.800055Z",
     "shell.execute_reply": "2021-04-08T22:36:56.799397Z",
     "shell.execute_reply.started": "2021-04-08T22:36:56.777752Z"
    }
   },
   "outputs": [
    {
     "name": "stdout",
     "output_type": "stream",
     "text": [
      "[190 193 194 197 198 201 202 205 206 209 210 213 214 217 218 221 222]\n"
     ]
    }
   ],
   "source": [
    "hpc_chans = chans[np.logical_and(k.ele_pos >= lo, k.ele_pos <= hi).flatten()] # These are the channel numbers belonging to the hippocampus\n",
    "print(hpc_chans)"
   ]
  },
  {
   "cell_type": "code",
   "execution_count": 42,
   "metadata": {
    "execution": {
     "iopub.execute_input": "2021-04-02T00:01:23.846852Z",
     "iopub.status.busy": "2021-04-02T00:01:23.846367Z",
     "iopub.status.idle": "2021-04-02T00:01:23.869785Z",
     "shell.execute_reply": "2021-04-02T00:01:23.869045Z",
     "shell.execute_reply.started": "2021-04-02T00:01:23.846792Z"
    }
   },
   "outputs": [],
   "source": [
    "hpc_idx = np.where(np.logical_and(k.ele_pos >= lo, k.ele_pos <= hi).flatten())[0] # These are the indices of the above channels"
   ]
  },
  {
   "cell_type": "code",
   "execution_count": 43,
   "metadata": {
    "execution": {
     "iopub.execute_input": "2021-04-02T00:01:24.621754Z",
     "iopub.status.busy": "2021-04-02T00:01:24.621126Z",
     "iopub.status.idle": "2021-04-02T00:01:24.642453Z",
     "shell.execute_reply": "2021-04-02T00:01:24.641699Z",
     "shell.execute_reply.started": "2021-04-02T00:01:24.621687Z"
    }
   },
   "outputs": [],
   "source": [
    "assert np.array_equal(hpc_chans, chans[hpc_idx]) # Confirm that indexing is correct"
   ]
  },
  {
   "cell_type": "code",
   "execution_count": 44,
   "metadata": {
    "execution": {
     "iopub.execute_input": "2021-04-02T00:01:26.047002Z",
     "iopub.status.busy": "2021-04-02T00:01:26.046523Z",
     "iopub.status.idle": "2021-04-02T00:01:26.067098Z",
     "shell.execute_reply": "2021-04-02T00:01:26.066287Z",
     "shell.execute_reply.started": "2021-04-02T00:01:26.046942Z"
    }
   },
   "outputs": [
    {
     "name": "stdout",
     "output_type": "stream",
     "text": [
      "Min HPC index: 175 \n",
      "Max HPC index: 291\n"
     ]
    }
   ],
   "source": [
    "print(f\"Min HPC index: {hpc_idx.min()} \\nMax HPC index: {hpc_idx.max() + 1}\")"
   ]
  },
  {
   "cell_type": "markdown",
   "metadata": {},
   "source": [
    "## 1D kCSD on hippocampal channels"
   ]
  },
  {
   "cell_type": "code",
   "execution_count": 251,
   "metadata": {
    "execution": {
     "iopub.execute_input": "2021-01-08T00:49:04.550089Z",
     "iopub.status.busy": "2021-01-08T00:49:04.549961Z",
     "iopub.status.idle": "2021-01-08T00:49:05.487728Z",
     "shell.execute_reply": "2021-01-08T00:49:05.487075Z",
     "shell.execute_reply.started": "2021-01-08T00:49:04.550074Z"
    }
   },
   "outputs": [
    {
     "name": "stdout",
     "output_type": "stream",
     "text": [
      "Performing L-curve parameter estimation...\n",
      "No lambda given, using defaults\n",
      "min lambda 1e-12\n",
      "max lambda 0.0119\n",
      "min lambda 1e-12\n",
      "max lambda 0.0119\n",
      "l-curve (all lambda):  0.23\n",
      "Best lambda and R =  2.8175859627735274e-05 ,  0.23\n"
     ]
    }
   ],
   "source": [
    "hpc_k = get_kcsd(\n",
    "    sig[:, hpc_idx], intersite_distance=intersite_distance, gdx=gdx, do_lcurve=True\n",
    ")\n",
    "hpc_est_csd = hpc_k.values('CSD')"
   ]
  },
  {
   "cell_type": "code",
   "execution_count": 252,
   "metadata": {
    "execution": {
     "iopub.execute_input": "2021-01-08T00:49:05.489343Z",
     "iopub.status.busy": "2021-01-08T00:49:05.488876Z",
     "iopub.status.idle": "2021-01-08T00:49:05.606051Z",
     "shell.execute_reply": "2021-01-08T00:49:05.605418Z",
     "shell.execute_reply.started": "2021-01-08T00:49:05.489306Z"
    }
   },
   "outputs": [
    {
     "data": {
      "application/vnd.jupyter.widget-view+json": {
       "model_id": "5f1e2abe29b44ae4a10ead8abd048183",
       "version_major": 2,
       "version_minor": 0
      },
      "text/plain": [
       "Canvas(toolbar=Toolbar(toolitems=[('Home', 'Reset original view', 'home', 'home'), ('Back', 'Back to previous …"
      ]
     },
     "metadata": {},
     "output_type": "display_data"
    },
    {
     "data": {
      "text/plain": [
       "<matplotlib.lines.Line2D at 0x7f43383190d0>"
      ]
     },
     "execution_count": 252,
     "metadata": {},
     "output_type": "execute_result"
    }
   ],
   "source": [
    "_, ax = plt.subplots(figsize=(20, 10))\n",
    "ax.pcolormesh(times, hpc_k.estm_x, hpc_est_csd, shading=\"gouraud\")\n",
    "ax.set_xlabel(\"Time [sec]\")\n",
    "ax.set_ylabel(\"Depth (mm)\")\n",
    "\n",
    "# Visualize stratum radiatum position\n",
    "sr_chans = channel_groups.stratum_radiatum_140um_to_200um[SUBJECT]\n",
    "sr_mask = np.isin(hpc_chans, sr_chans)\n",
    "sr_pos = hpc_k.ele_pos[sr_mask]\n",
    "ax.axhline(sr_pos.min(), alpha=0.5, color='k', linestyle=\":\")\n",
    "ax.axhline(sr_pos.max(), alpha=0.5, color='k', linestyle=\":\")"
   ]
  }
 ],
 "metadata": {
  "kernelspec": {
   "display_name": "Python 3",
   "language": "python",
   "name": "python3"
  },
  "language_info": {
   "codemirror_mode": {
    "name": "ipython",
    "version": 3
   },
   "file_extension": ".py",
   "mimetype": "text/x-python",
   "name": "python",
   "nbconvert_exporter": "python",
   "pygments_lexer": "ipython3",
   "version": "3.7.9"
  }
 },
 "nbformat": 4,
 "nbformat_minor": 4
}
