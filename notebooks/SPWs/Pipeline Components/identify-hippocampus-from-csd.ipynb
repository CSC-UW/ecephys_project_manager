{
 "cells": [
  {
   "cell_type": "code",
   "execution_count": 5,
   "metadata": {
    "execution": {
     "iopub.execute_input": "2021-05-21T21:58:24.751332Z",
     "iopub.status.busy": "2021-05-21T21:58:24.750789Z",
     "iopub.status.idle": "2021-05-21T21:58:24.775089Z",
     "shell.execute_reply": "2021-05-21T21:58:24.774536Z",
     "shell.execute_reply.started": "2021-05-21T21:58:24.751262Z"
    }
   },
   "outputs": [
    {
     "name": "stdout",
     "output_type": "stream",
     "text": [
      "The autoreload extension is already loaded. To reload it, use:\n",
      "  %reload_ext autoreload\n"
     ]
    }
   ],
   "source": [
    "%load_ext autoreload\n",
    "%autoreload 2"
   ]
  },
  {
   "cell_type": "code",
   "execution_count": 6,
   "metadata": {
    "execution": {
     "iopub.execute_input": "2021-05-21T21:58:25.001836Z",
     "iopub.status.busy": "2021-05-21T21:58:25.001476Z",
     "iopub.status.idle": "2021-05-21T21:58:25.055292Z",
     "shell.execute_reply": "2021-05-21T21:58:25.054089Z",
     "shell.execute_reply.started": "2021-05-21T21:58:25.001790Z"
    }
   },
   "outputs": [],
   "source": [
    "%matplotlib widget\n",
    "import matplotlib.pyplot as plt\n",
    "import matplotlib.cm as cm"
   ]
  },
  {
   "cell_type": "code",
   "execution_count": 7,
   "metadata": {
    "execution": {
     "iopub.execute_input": "2021-05-21T21:58:25.298724Z",
     "iopub.status.busy": "2021-05-21T21:58:25.298212Z",
     "iopub.status.idle": "2021-05-21T21:58:25.318312Z",
     "shell.execute_reply": "2021-05-21T21:58:25.317531Z",
     "shell.execute_reply.started": "2021-05-21T21:58:25.298663Z"
    }
   },
   "outputs": [],
   "source": [
    "import numpy as np\n",
    "import pandas as pd\n",
    "from kcsd import KCSD1D"
   ]
  },
  {
   "cell_type": "code",
   "execution_count": 8,
   "metadata": {
    "execution": {
     "iopub.execute_input": "2021-05-21T21:58:25.587794Z",
     "iopub.status.busy": "2021-05-21T21:58:25.587367Z",
     "iopub.status.idle": "2021-05-21T21:58:25.620395Z",
     "shell.execute_reply": "2021-05-21T21:58:25.619814Z",
     "shell.execute_reply.started": "2021-05-21T21:58:25.587745Z"
    }
   },
   "outputs": [],
   "source": [
    "from ecephys.sglx_utils import load_trigger\n",
    "from ecephys.plot import lfp_explorer, colormesh_timeseries_explorer\n",
    "from ecephys.signal.utils import mean_subtract, median_subtract\n",
    "from ecephys.signal.csd import get_kcsd\n",
    "import ecephys_analyses as ea"
   ]
  },
  {
   "cell_type": "code",
   "execution_count": 9,
   "metadata": {
    "execution": {
     "iopub.execute_input": "2021-05-21T21:58:26.450636Z",
     "iopub.status.busy": "2021-05-21T21:58:26.450108Z",
     "iopub.status.idle": "2021-05-21T21:58:26.474619Z",
     "shell.execute_reply": "2021-05-21T21:58:26.473975Z",
     "shell.execute_reply.started": "2021-05-21T21:58:26.450571Z"
    }
   },
   "outputs": [],
   "source": [
    "def mm_to_mask(lo, hi, ele_pos):\n",
    "    assert lo < hi, \"Lower bound must be less than upper bound.\"     \n",
    "    return np.logical_and(ele_pos >= lo, ele_pos <= hi).flatten()\n",
    "\n",
    "def mm_to_idx(lo, hi, ele_pos):\n",
    "    idx = np.where(millimeters_to_mask(lo, hi, ele_pos))[0]\n",
    "    return idx\n",
    "\n",
    "def mm_to_chans(lo, hi, ele_pos, chans):\n",
    "    return chans[mm_to_mask(lo, hi, ele_pos)]"
   ]
  },
  {
   "cell_type": "code",
   "execution_count": 8,
   "metadata": {
    "execution": {
     "iopub.execute_input": "2021-05-03T22:13:27.668310Z",
     "iopub.status.busy": "2021-05-03T22:13:27.667987Z",
     "iopub.status.idle": "2021-05-03T22:13:27.693952Z",
     "shell.execute_reply": "2021-05-03T22:13:27.693203Z",
     "shell.execute_reply.started": "2021-05-03T22:13:27.668272Z"
    }
   },
   "outputs": [],
   "source": [
    "SUBJECT = \"Segundo\"\n",
    "EXPERIMENT = \"sleep-homeostasis\"\n",
    "CONDITION = \"recovery-sleep\"\n",
    "START_TIME = 1680 # pick a 1 second window that has SPW-Rs"
   ]
  },
  {
   "cell_type": "code",
   "execution_count": 31,
   "metadata": {
    "execution": {
     "iopub.execute_input": "2021-05-07T22:28:12.707748Z",
     "iopub.status.busy": "2021-05-07T22:28:12.707439Z",
     "iopub.status.idle": "2021-05-07T22:28:12.726256Z",
     "shell.execute_reply": "2021-05-07T22:28:12.725594Z",
     "shell.execute_reply.started": "2021-05-07T22:28:12.707712Z"
    }
   },
   "outputs": [],
   "source": [
    "SUBJECT = \"Segundo\"\n",
    "EXPERIMENT = \"isoflurane\"\n",
    "CONDITION = \"all\"\n",
    "START_TIME = 2 # pick a 1 second window that has SPW-Rs"
   ]
  },
  {
   "cell_type": "code",
   "execution_count": 9,
   "metadata": {
    "execution": {
     "iopub.execute_input": "2021-05-03T22:13:27.995833Z",
     "iopub.status.busy": "2021-05-03T22:13:27.995577Z",
     "iopub.status.idle": "2021-05-03T22:13:28.018771Z",
     "shell.execute_reply": "2021-05-03T22:13:28.018032Z",
     "shell.execute_reply.started": "2021-05-03T22:13:27.995799Z"
    }
   },
   "outputs": [],
   "source": [
    "SUBJECT = \"Valentino\"\n",
    "EXPERIMENT = \"sleep-homeostasis\"\n",
    "CONDITION = \"recovery-sleep\"\n",
    "START_TIME = 3880 # pick a 1 second window that has SPW-Rs"
   ]
  },
  {
   "cell_type": "code",
   "execution_count": 10,
   "metadata": {
    "execution": {
     "iopub.execute_input": "2021-05-03T22:13:29.044770Z",
     "iopub.status.busy": "2021-05-03T22:13:29.044450Z",
     "iopub.status.idle": "2021-05-03T22:13:29.070055Z",
     "shell.execute_reply": "2021-05-03T22:13:29.069224Z",
     "shell.execute_reply.started": "2021-05-03T22:13:29.044733Z"
    }
   },
   "outputs": [],
   "source": [
    "SUBJECT = \"Valentino\"\n",
    "EXPERIMENT = \"sevo-dex\"\n",
    "CONDITION = \"all\"\n",
    "PROBE = \"imec0\"\n",
    "START_TIME = 355 # pick a 1 second window that has SPW-Rs"
   ]
  },
  {
   "cell_type": "code",
   "execution_count": 19,
   "metadata": {
    "execution": {
     "iopub.execute_input": "2021-05-06T22:23:29.054730Z",
     "iopub.status.busy": "2021-05-06T22:23:29.054242Z",
     "iopub.status.idle": "2021-05-06T22:23:29.077140Z",
     "shell.execute_reply": "2021-05-06T22:23:29.076530Z",
     "shell.execute_reply.started": "2021-05-06T22:23:29.054671Z"
    }
   },
   "outputs": [],
   "source": [
    "# During Dex-induced theta, in 2-25-2020_g0_t1\n",
    "\n",
    "SUBJECT = \"Valentino\"\n",
    "EXPERIMENT = \"sevo-dex\"\n",
    "CONDITION = \"all\"\n",
    "PROBE = \"imec0\"\n",
    "START_TIME = 2986 # pick a 1 second window that has SPW-Rs"
   ]
  },
  {
   "cell_type": "code",
   "execution_count": 10,
   "metadata": {
    "execution": {
     "iopub.execute_input": "2021-05-04T17:35:12.810491Z",
     "iopub.status.busy": "2021-05-04T17:35:12.810098Z",
     "iopub.status.idle": "2021-05-04T17:35:12.841655Z",
     "shell.execute_reply": "2021-05-04T17:35:12.840652Z",
     "shell.execute_reply.started": "2021-05-04T17:35:12.810450Z"
    }
   },
   "outputs": [],
   "source": [
    "SUBJECT = \"Valentino\"\n",
    "EXPERIMENT = \"atropine\"\n",
    "CONDITION = \"all\"\n",
    "PROBE = \"imec0\"\n",
    "START_TIME = 828 # pick a 1 second window that has SPW-Rs"
   ]
  },
  {
   "cell_type": "code",
   "execution_count": 15,
   "metadata": {
    "execution": {
     "iopub.execute_input": "2021-05-12T21:12:25.272466Z",
     "iopub.status.busy": "2021-05-12T21:12:25.271754Z",
     "iopub.status.idle": "2021-05-12T21:12:25.294088Z",
     "shell.execute_reply": "2021-05-12T21:12:25.293282Z",
     "shell.execute_reply.started": "2021-05-12T21:12:25.272386Z"
    }
   },
   "outputs": [],
   "source": [
    "SUBJECT = \"Valentino\"\n",
    "EXPERIMENT = \"isoflurane\"\n",
    "CONDITION = \"all\"\n",
    "PROBE = \"imec0\"\n",
    "START_TIME = 83 # pick a 1 second window that has SPW-Rs\n",
    "\n",
    "hpc_lo = 3.8\n",
    "hpc_hi = 6.1\n",
    "wm_center = 6.12\n",
    "wm_thickness = 0.133"
   ]
  },
  {
   "cell_type": "code",
   "execution_count": 66,
   "metadata": {
    "execution": {
     "iopub.execute_input": "2021-05-13T22:30:57.554199Z",
     "iopub.status.busy": "2021-05-13T22:30:57.553702Z",
     "iopub.status.idle": "2021-05-13T22:30:57.575486Z",
     "shell.execute_reply": "2021-05-13T22:30:57.574865Z",
     "shell.execute_reply.started": "2021-05-13T22:30:57.554140Z"
    }
   },
   "outputs": [],
   "source": [
    "SUBJECT = \"Valentino\"\n",
    "EXPERIMENT = \"sevoflurane\"\n",
    "CONDITION = \"all\"\n",
    "PROBE = \"imec0\"\n",
    "START_TIME = 77 # pick a 1 second window that has SPW-Rs\n",
    "\n",
    "hpc_lo = 3.866\n",
    "hpc_hi = 6.166\n",
    "wm_center = 6.36\n",
    "wm_thickness = 0.133"
   ]
  },
  {
   "cell_type": "code",
   "execution_count": 97,
   "metadata": {
    "execution": {
     "iopub.execute_input": "2021-05-14T00:08:26.126405Z",
     "iopub.status.busy": "2021-05-14T00:08:26.125924Z",
     "iopub.status.idle": "2021-05-14T00:08:26.147703Z",
     "shell.execute_reply": "2021-05-14T00:08:26.146923Z",
     "shell.execute_reply.started": "2021-05-14T00:08:26.126345Z"
    }
   },
   "outputs": [],
   "source": [
    "SUBJECT = \"Valentino\"\n",
    "EXPERIMENT = \"ketamine-90mg\"\n",
    "CONDITION = \"all\"\n",
    "PROBE = \"imec0\"\n",
    "START_TIME = 16 # pick a 1 second window that has SPW-Rs\n",
    "\n",
    "hpc_lo = 3.856\n",
    "hpc_hi = 6.156\n",
    "wm_center = 6.28\n",
    "wm_thickness = 0.133"
   ]
  },
  {
   "cell_type": "code",
   "execution_count": 48,
   "metadata": {
    "execution": {
     "iopub.execute_input": "2021-05-12T22:56:40.781158Z",
     "iopub.status.busy": "2021-05-12T22:56:40.780771Z",
     "iopub.status.idle": "2021-05-12T22:56:40.809792Z",
     "shell.execute_reply": "2021-05-12T22:56:40.808705Z",
     "shell.execute_reply.started": "2021-05-12T22:56:40.781113Z"
    }
   },
   "outputs": [],
   "source": [
    "SUBJECT = \"Doppio\"\n",
    "EXPERIMENT = \"isoflurane\"\n",
    "CONDITION = \"all\"\n",
    "PROBE = \"imec0\"\n",
    "START_TIME = 77 # pick a 1 second window that has SPW-Rs\n",
    "\n",
    "hpc_lo = 3.8\n",
    "hpc_hi = 5.8\n",
    "wm_center = 5.9\n",
    "wm_thickness = 0.133"
   ]
  },
  {
   "cell_type": "code",
   "execution_count": 77,
   "metadata": {
    "execution": {
     "iopub.execute_input": "2021-05-13T23:20:20.062556Z",
     "iopub.status.busy": "2021-05-13T23:20:20.062295Z",
     "iopub.status.idle": "2021-05-13T23:20:20.087312Z",
     "shell.execute_reply": "2021-05-13T23:20:20.086552Z",
     "shell.execute_reply.started": "2021-05-13T23:20:20.062523Z"
    }
   },
   "outputs": [],
   "source": [
    "SUBJECT = \"Doppio\"\n",
    "EXPERIMENT = \"sevoflurane\"\n",
    "CONDITION = \"all\"\n",
    "PROBE = \"imec0\"\n",
    "START_TIME = 202 # pick a 1 second window that has SPW-Rs\n",
    "\n",
    "hpc_lo = 3.8\n",
    "hpc_hi = 6.0\n",
    "wm_center = 5.94\n",
    "wm_thickness = 0.133"
   ]
  },
  {
   "cell_type": "code",
   "execution_count": 139,
   "metadata": {
    "execution": {
     "iopub.execute_input": "2021-04-13T00:03:32.613587Z",
     "iopub.status.busy": "2021-04-13T00:03:32.613024Z",
     "iopub.status.idle": "2021-04-13T00:03:32.639378Z",
     "shell.execute_reply": "2021-04-13T00:03:32.638550Z",
     "shell.execute_reply.started": "2021-04-13T00:03:32.613507Z"
    }
   },
   "outputs": [],
   "source": [
    "SUBJECT = \"Doppio\"\n",
    "EXPERIMENT = \"sleep-homeostasis\"\n",
    "CONDITION = \"recovery-sleep\"\n",
    "START_TIME = 1708 # pick a 1 second window that has SPW-Rs"
   ]
  },
  {
   "cell_type": "code",
   "execution_count": 8,
   "metadata": {
    "execution": {
     "iopub.execute_input": "2021-04-14T19:53:13.438648Z",
     "iopub.status.busy": "2021-04-14T19:53:13.438160Z",
     "iopub.status.idle": "2021-04-14T19:53:13.459998Z",
     "shell.execute_reply": "2021-04-14T19:53:13.459613Z",
     "shell.execute_reply.started": "2021-04-14T19:53:13.438589Z"
    }
   },
   "outputs": [],
   "source": [
    "SUBJECT = \"Doppio\"\n",
    "EXPERIMENT = \"atropine-50mg\"\n",
    "CONDITION = \"all\"\n",
    "START_TIME = 1159 # pick a 1 second window that has SPW-Rs"
   ]
  },
  {
   "cell_type": "code",
   "execution_count": 189,
   "metadata": {
    "execution": {
     "iopub.execute_input": "2021-04-13T16:10:30.712220Z",
     "iopub.status.busy": "2021-04-13T16:10:30.711740Z",
     "iopub.status.idle": "2021-04-13T16:10:30.734900Z",
     "shell.execute_reply": "2021-04-13T16:10:30.734083Z",
     "shell.execute_reply.started": "2021-04-13T16:10:30.712160Z"
    }
   },
   "outputs": [],
   "source": [
    "SUBJECT = \"Alessandro\"\n",
    "EXPERIMENT = \"sleep-homeostasis\"\n",
    "CONDITION = \"recovery-sleep\"\n",
    "START_TIME = 1766 # pick a 1 second window that has SPW-Rs"
   ]
  },
  {
   "cell_type": "code",
   "execution_count": 215,
   "metadata": {
    "execution": {
     "iopub.execute_input": "2021-04-13T16:24:17.097657Z",
     "iopub.status.busy": "2021-04-13T16:24:17.097140Z",
     "iopub.status.idle": "2021-04-13T16:24:17.119040Z",
     "shell.execute_reply": "2021-04-13T16:24:17.118403Z",
     "shell.execute_reply.started": "2021-04-13T16:24:17.097596Z"
    }
   },
   "outputs": [],
   "source": [
    "SUBJECT = \"Eugene\"\n",
    "EXPERIMENT = \"sleep-homeostasis\"\n",
    "CONDITION = \"recovery-sleep\"\n",
    "START_TIME = 2600 # pick a 1 second window that has SPW-Rs"
   ]
  },
  {
   "cell_type": "code",
   "execution_count": 239,
   "metadata": {
    "execution": {
     "iopub.execute_input": "2021-04-13T16:30:27.672851Z",
     "iopub.status.busy": "2021-04-13T16:30:27.672359Z",
     "iopub.status.idle": "2021-04-13T16:30:27.694975Z",
     "shell.execute_reply": "2021-04-13T16:30:27.694199Z",
     "shell.execute_reply.started": "2021-04-13T16:30:27.672792Z"
    }
   },
   "outputs": [],
   "source": [
    "SUBJECT = \"Allan\"\n",
    "EXPERIMENT = \"sleep-homeostasis\"\n",
    "CONDITION = \"recovery-sleep\"\n",
    "START_TIME = 2007 # pick a 1 second window that has SPW-Rs"
   ]
  },
  {
   "cell_type": "code",
   "execution_count": 7,
   "metadata": {
    "execution": {
     "iopub.execute_input": "2021-05-05T17:52:02.166336Z",
     "iopub.status.busy": "2021-05-05T17:52:02.165952Z",
     "iopub.status.idle": "2021-05-05T17:52:02.188299Z",
     "shell.execute_reply": "2021-05-05T17:52:02.187708Z",
     "shell.execute_reply.started": "2021-05-05T17:52:02.166290Z"
    }
   },
   "outputs": [],
   "source": [
    "SUBJECT = \"Allan\"\n",
    "EXPERIMENT = \"dexmedetomidine\"\n",
    "CONDITION = \"all\"\n",
    "PROBE = \"imec0\"\n",
    "START_TIME = 3 # pick a 1 second window that has SPW-Rs"
   ]
  },
  {
   "cell_type": "code",
   "execution_count": 8,
   "metadata": {
    "execution": {
     "iopub.execute_input": "2021-05-05T17:52:10.647139Z",
     "iopub.status.busy": "2021-05-05T17:52:10.646628Z",
     "iopub.status.idle": "2021-05-05T17:52:10.673762Z",
     "shell.execute_reply": "2021-05-05T17:52:10.672887Z",
     "shell.execute_reply.started": "2021-05-05T17:52:10.647075Z"
    }
   },
   "outputs": [],
   "source": [
    "SUBJECT = \"Allan\"\n",
    "EXPERIMENT = \"atropine\"\n",
    "CONDITION = \"all\"\n",
    "PROBE = \"imec0\"\n",
    "START_TIME = 35 # pick a 1 second window that has SPW-Rs"
   ]
  },
  {
   "cell_type": "code",
   "execution_count": 106,
   "metadata": {
    "execution": {
     "iopub.execute_input": "2021-05-14T19:44:35.189278Z",
     "iopub.status.busy": "2021-05-14T19:44:35.188760Z",
     "iopub.status.idle": "2021-05-14T19:44:35.211145Z",
     "shell.execute_reply": "2021-05-14T19:44:35.210547Z",
     "shell.execute_reply.started": "2021-05-14T19:44:35.189216Z"
    }
   },
   "outputs": [],
   "source": [
    "SUBJECT = \"Allan\"\n",
    "EXPERIMENT = \"ketamine\"\n",
    "CONDITION = \"all\"\n",
    "PROBE = \"imec0\"\n",
    "START_TIME = 1791 # pick a 1 second window that has SPW-Rs\n",
    "\n",
    "hpc_lo = 3.2\n",
    "hpc_hi = 5.4\n",
    "wm_center = 5.48\n",
    "wm_thickness = 0.133"
   ]
  },
  {
   "cell_type": "code",
   "execution_count": null,
   "metadata": {},
   "outputs": [],
   "source": []
  },
  {
   "cell_type": "code",
   "execution_count": 39,
   "metadata": {
    "execution": {
     "iopub.execute_input": "2021-05-21T22:37:30.878525Z",
     "iopub.status.busy": "2021-05-21T22:37:30.877950Z",
     "iopub.status.idle": "2021-05-21T22:37:30.901377Z",
     "shell.execute_reply": "2021-05-21T22:37:30.900774Z",
     "shell.execute_reply.started": "2021-05-21T22:37:30.878439Z"
    }
   },
   "outputs": [],
   "source": [
    "SUBJECT = \"Doppio\"\n",
    "EXPERIMENT = \"ketamine-120mg\"\n",
    "CONDITION = \"all\"\n",
    "PROBE = \"imec1\"\n",
    "START_TIME = 14 # pick a 1 second window that has SPW-Rs\n",
    "\n",
    "hpc_lo = 3.3\n",
    "hpc_hi = 5.066\n",
    "wm_center = 5.2\n",
    "wm_thickness = 0.133"
   ]
  },
  {
   "cell_type": "markdown",
   "metadata": {},
   "source": [
    "## 1D kCSD on whole probe"
   ]
  },
  {
   "cell_type": "code",
   "execution_count": 11,
   "metadata": {
    "execution": {
     "iopub.execute_input": "2021-05-21T21:59:18.698525Z",
     "iopub.status.busy": "2021-05-21T21:59:18.698002Z",
     "iopub.status.idle": "2021-05-21T21:59:19.022097Z",
     "shell.execute_reply": "2021-05-21T21:59:19.021195Z",
     "shell.execute_reply.started": "2021-05-21T21:59:18.698460Z"
    }
   },
   "outputs": [
    {
     "name": "stdout",
     "output_type": "stream",
     "text": [
      "nChan: 385, nFileSamp: 9000060\n"
     ]
    }
   ],
   "source": [
    "chans = ea.get_channels(SUBJECT, EXPERIMENT, PROBE, \"all\")\n",
    "bin_path = ea.get_sglx_style_datapaths(subject=SUBJECT, experiment=EXPERIMENT, condition=CONDITION, ext=\"lf.bin\")[0]\n",
    "sig = load_trigger(bin_path, chans, start_time=(START_TIME), end_time=(START_TIME + 1.0))\n",
    "sig.values = mean_subtract(sig.values)"
   ]
  },
  {
   "cell_type": "code",
   "execution_count": null,
   "metadata": {},
   "outputs": [],
   "source": [
    "electrode_pitch = 0.020\n",
    "ele_pos = np.arange(0, len(sig.channel)) * electrode_pitch\n",
    "csd = get_kcsd(\n",
    "    sig, ele_pos, gdx=electrode_pitch, do_lcurve=True\n",
    ")"
   ]
  },
  {
   "cell_type": "code",
   "execution_count": 40,
   "metadata": {
    "execution": {
     "iopub.execute_input": "2021-05-21T22:37:33.355439Z",
     "iopub.status.busy": "2021-05-21T22:37:33.354917Z",
     "iopub.status.idle": "2021-05-21T22:37:33.380930Z",
     "shell.execute_reply": "2021-05-21T22:37:33.380227Z",
     "shell.execute_reply.started": "2021-05-21T22:37:33.355366Z"
    }
   },
   "outputs": [
    {
     "name": "stdout",
     "output_type": "stream",
     "text": [
      "Hippocampus: 3.3mm, 5.066mm\n",
      "Channels:\n",
      " [331 332 335 336 339 340 343 344 347 348 351 352 355 356 359 360 363 364\n",
      " 367 368 371 372 375 376 379 380 383   1   2   5   6   9  10  13  14  17\n",
      "  18  21  22  25  26  29  30  33  34  37  38  41  42  45  46  49  50  53\n",
      "  54  57  58  61  62  65  66  69  70  73  74  77  78  81  82  85  86  89\n",
      "  90  93  94  97  98 101 102 105 106 109 110 113 114 117 118 121 122]\n",
      "\n",
      "White matter: 5.067mm, 5.333mm\n",
      "Channels:\n",
      " [125 126 129 130 133 134 137 138 141 142 145 146 149]\n"
     ]
    }
   ],
   "source": [
    "print(f\"Hippocampus: {hpc_lo}mm, {hpc_hi}mm\")\n",
    "hpc_chans = csd.sel(pos=slice(hpc_lo, hpc_hi)).channel.values # These are the channel numbers belonging to the hippocampus\n",
    "print(f\"Channels:\\n {hpc_chans}\")\n",
    "print(\"\")\n",
    "\n",
    "wm_lo = wm_center - wm_thickness\n",
    "wm_hi = wm_center + wm_thickness\n",
    "print(f\"White matter: {wm_lo}mm, {wm_hi}mm\")\n",
    "wm_chans = csd.sel(pos=slice(wm_lo, wm_hi)).channel.values # These are the channel numbers belonging to the hippocampus\n",
    "print(f\"Channels:\\n {wm_chans}\")"
   ]
  },
  {
   "cell_type": "code",
   "execution_count": 41,
   "metadata": {
    "execution": {
     "iopub.execute_input": "2021-05-21T22:37:33.534367Z",
     "iopub.status.busy": "2021-05-21T22:37:33.533864Z",
     "iopub.status.idle": "2021-05-21T22:37:33.652779Z",
     "shell.execute_reply": "2021-05-21T22:37:33.652128Z",
     "shell.execute_reply.started": "2021-05-21T22:37:33.534305Z"
    }
   },
   "outputs": [
    {
     "data": {
      "application/vnd.jupyter.widget-view+json": {
       "model_id": "86f5d8c6f7cb4e2495a728602af606c8",
       "version_major": 2,
       "version_minor": 0
      },
      "text/plain": [
       "Canvas(toolbar=Toolbar(toolitems=[('Home', 'Reset original view', 'home', 'home'), ('Back', 'Back to previous …"
      ]
     },
     "metadata": {},
     "output_type": "display_data"
    },
    {
     "data": {
      "text/plain": [
       "<matplotlib.lines.Line2D at 0x7f2fbc2f7050>"
      ]
     },
     "execution_count": 41,
     "metadata": {},
     "output_type": "execute_result"
    }
   ],
   "source": [
    "_, ax = plt.subplots(figsize=(20, 10))\n",
    "ax.pcolormesh(csd.time.values, csd.kcsd.estm_x, csd.values, shading=\"gouraud\")\n",
    "ax.set_xlabel(\"Time [sec]\")\n",
    "ax.set_ylabel(\"Depth (mm)\")\n",
    "ax.set_title(f\"{SUBJECT}, {EXPERIMENT}, {bin_path.stem} ({hpc_lo}mm - {hpc_hi}mm), ({wm_lo}mm - {wm_hi}mm)\")\n",
    "ax.axhline(hpc_hi, alpha=0.5, color='dimgrey', linestyle=\"--\")\n",
    "ax.axhline(hpc_lo, alpha=0.5, color='dimgrey', linestyle=\"--\")\n",
    "ax.axhline(wm_hi, alpha=0.5, color='brown', linestyle=\"--\")\n",
    "ax.axhline(wm_lo, alpha=0.5, color='brown', linestyle=\"--\")"
   ]
  },
  {
   "cell_type": "code",
   "execution_count": 42,
   "metadata": {
    "execution": {
     "iopub.execute_input": "2021-05-21T22:37:41.534398Z",
     "iopub.status.busy": "2021-05-21T22:37:41.534250Z",
     "iopub.status.idle": "2021-05-21T22:37:41.550991Z",
     "shell.execute_reply": "2021-05-21T22:37:41.550441Z",
     "shell.execute_reply.started": "2021-05-21T22:37:41.534377Z"
    }
   },
   "outputs": [
    {
     "data": {
      "text/plain": [
       "array([331, 332, 335, 336, 339, 340, 343, 344, 347, 348, 351, 352, 355,\n",
       "       356, 359, 360, 363, 364, 367, 368, 371, 372, 375, 376, 379, 380,\n",
       "       383,   1,   2,   5,   6,   9,  10,  13,  14,  17,  18,  21,  22,\n",
       "        25,  26,  29,  30,  33,  34,  37,  38,  41,  42,  45,  46,  49,\n",
       "        50,  53,  54,  57,  58,  61,  62,  65,  66,  69,  70,  73,  74,\n",
       "        77,  78,  81,  82,  85,  86,  89,  90,  93,  94,  97,  98, 101,\n",
       "       102, 105, 106, 109, 110, 113, 114, 117, 118, 121, 122])"
      ]
     },
     "execution_count": 42,
     "metadata": {},
     "output_type": "execute_result"
    }
   ],
   "source": [
    "hpc_chans"
   ]
  },
  {
   "cell_type": "code",
   "execution_count": null,
   "metadata": {},
   "outputs": [],
   "source": []
  }
 ],
 "metadata": {
  "kernelspec": {
   "display_name": "Python 3",
   "language": "python",
   "name": "python3"
  },
  "language_info": {
   "codemirror_mode": {
    "name": "ipython",
    "version": 3
   },
   "file_extension": ".py",
   "mimetype": "text/x-python",
   "name": "python",
   "nbconvert_exporter": "python",
   "pygments_lexer": "ipython3",
   "version": "3.7.9"
  }
 },
 "nbformat": 4,
 "nbformat_minor": 4
}
