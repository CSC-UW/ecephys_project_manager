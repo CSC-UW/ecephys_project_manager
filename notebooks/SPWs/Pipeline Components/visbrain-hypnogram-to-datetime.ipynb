{
 "cells": [
  {
   "cell_type": "code",
   "execution_count": 4,
   "metadata": {
    "execution": {
     "iopub.execute_input": "2021-04-02T19:06:43.021598Z",
     "iopub.status.busy": "2021-04-02T19:06:43.021030Z",
     "iopub.status.idle": "2021-04-02T19:06:43.044918Z",
     "shell.execute_reply": "2021-04-02T19:06:43.044111Z",
     "shell.execute_reply.started": "2021-04-02T19:06:43.021531Z"
    }
   },
   "outputs": [
    {
     "name": "stdout",
     "output_type": "stream",
     "text": [
      "The autoreload extension is already loaded. To reload it, use:\n",
      "  %reload_ext autoreload\n"
     ]
    }
   ],
   "source": [
    "%load_ext autoreload\n",
    "%autoreload 2"
   ]
  },
  {
   "cell_type": "code",
   "execution_count": 5,
   "metadata": {
    "execution": {
     "iopub.execute_input": "2021-04-02T19:06:43.562680Z",
     "iopub.status.busy": "2021-04-02T19:06:43.562307Z",
     "iopub.status.idle": "2021-04-02T19:06:43.581202Z",
     "shell.execute_reply": "2021-04-02T19:06:43.580399Z",
     "shell.execute_reply.started": "2021-04-02T19:06:43.562631Z"
    }
   },
   "outputs": [],
   "source": [
    "import pandas as pd"
   ]
  },
  {
   "cell_type": "code",
   "execution_count": 6,
   "metadata": {
    "execution": {
     "iopub.execute_input": "2021-04-02T19:06:46.019655Z",
     "iopub.status.busy": "2021-04-02T19:06:46.019126Z",
     "iopub.status.idle": "2021-04-02T19:06:46.040196Z",
     "shell.execute_reply": "2021-04-02T19:06:46.039285Z",
     "shell.execute_reply.started": "2021-04-02T19:06:46.019593Z"
    }
   },
   "outputs": [],
   "source": [
    "from ecephys.scoring import load_visbrain_hypnogram, visbrain_hypnogram_to_datetime, write_datetime_hypnogram\n",
    "from ecephys_analyses.data import paths\n",
    "from ecephys.sglx_utils import load_timeseries"
   ]
  },
  {
   "cell_type": "code",
   "execution_count": 7,
   "metadata": {
    "execution": {
     "iopub.execute_input": "2021-04-02T19:07:28.831021Z",
     "iopub.status.busy": "2021-04-02T19:07:28.830484Z",
     "iopub.status.idle": "2021-04-02T19:07:28.855803Z",
     "shell.execute_reply": "2021-04-02T19:07:28.854934Z",
     "shell.execute_reply.started": "2021-04-02T19:07:28.830954Z"
    }
   },
   "outputs": [],
   "source": [
    "def write_condition(subject, condition):\n",
    "    hypnogram_paths = paths.get_sglx_style_datapaths(subject=subject, experiment=\"sleep-homeostasis\", condition=condition, ext=\"hypnogram.txt\")\n",
    "    bin_paths = paths.get_sglx_style_datapaths(subject=subject, experiment=\"sleep-homeostasis\", condition=condition, ext=\"lf.bin\")\n",
    "    hypnogram_dt_paths = paths.get_sglx_style_datapaths(subject=subject, experiment=\"sleep-homeostasis\", condition=condition, ext=\"hypnogram.tsv\")\n",
    "    \n",
    "    hypnograms = [load_visbrain_hypnogram(path) for path in hypnogram_paths]\n",
    "    sigs = [load_timeseries(path, chans=[0], start_time=0, end_time=1) for path in bin_paths]\n",
    "    \n",
    "    for sig, hypnogram, hypnogram_dt_path in zip(sigs, hypnograms, hypnogram_dt_paths):\n",
    "        file_start_dt = pd.to_datetime(sig.fileCreateTime)\n",
    "        hypnogram_dt = visbrain_hypnogram_to_datetime(hypnogram, file_start_dt)\n",
    "        write_datetime_hypnogram(hypnogram_dt, hypnogram_dt_path)"
   ]
  },
  {
   "cell_type": "code",
   "execution_count": 22,
   "metadata": {
    "execution": {
     "iopub.execute_input": "2021-04-07T20:57:45.505790Z",
     "iopub.status.busy": "2021-04-07T20:57:45.505249Z",
     "iopub.status.idle": "2021-04-07T20:58:24.022446Z",
     "shell.execute_reply": "2021-04-07T20:58:24.021523Z",
     "shell.execute_reply.started": "2021-04-07T20:57:45.505728Z"
    }
   },
   "outputs": [
    {
     "name": "stdout",
     "output_type": "stream",
     "text": [
      "nChan: 385, nFileSamp: 18000000\n",
      "nChan: 385, nFileSamp: 18000000\n",
      "nChan: 385, nFileSamp: 18000000\n",
      "nChan: 385, nFileSamp: 18000000\n",
      "nChan: 385, nFileSamp: 18000000\n",
      "nChan: 385, nFileSamp: 18000000\n",
      "nChan: 385, nFileSamp: 18000000\n",
      "nChan: 385, nFileSamp: 18000000\n",
      "nChan: 385, nFileSamp: 18000000\n",
      "nChan: 385, nFileSamp: 18000000\n",
      "nChan: 385, nFileSamp: 18000000\n",
      "nChan: 385, nFileSamp: 18000001\n",
      "nChan: 385, nFileSamp: 18000001\n",
      "nChan: 385, nFileSamp: 18000001\n",
      "nChan: 385, nFileSamp: 18000001\n",
      "nChan: 385, nFileSamp: 18000001\n",
      "nChan: 385, nFileSamp: 18000001\n",
      "nChan: 385, nFileSamp: 18000001\n",
      "nChan: 385, nFileSamp: 18000001\n",
      "nChan: 385, nFileSamp: 18000001\n",
      "nChan: 385, nFileSamp: 18000001\n",
      "nChan: 385, nFileSamp: 18000001\n",
      "nChan: 385, nFileSamp: 18000001\n",
      "nChan: 385, nFileSamp: 18000001\n"
     ]
    }
   ],
   "source": [
    "write_condition(\"Segundo\", \"all\")"
   ]
  },
  {
   "cell_type": "code",
   "execution_count": 23,
   "metadata": {
    "execution": {
     "iopub.execute_input": "2021-04-07T20:58:24.043573Z",
     "iopub.status.busy": "2021-04-07T20:58:24.043435Z",
     "iopub.status.idle": "2021-04-07T20:58:54.171629Z",
     "shell.execute_reply": "2021-04-07T20:58:54.170468Z",
     "shell.execute_reply.started": "2021-04-07T20:58:24.043555Z"
    }
   },
   "outputs": [
    {
     "name": "stdout",
     "output_type": "stream",
     "text": [
      "nChan: 385, nFileSamp: 18000000\n",
      "nChan: 385, nFileSamp: 18000000\n",
      "nChan: 385, nFileSamp: 18000000\n",
      "nChan: 385, nFileSamp: 18000000\n",
      "nChan: 385, nFileSamp: 18000000\n",
      "nChan: 385, nFileSamp: 18000000\n",
      "nChan: 385, nFileSamp: 18000000\n",
      "nChan: 385, nFileSamp: 18000000\n",
      "nChan: 385, nFileSamp: 18000000\n",
      "nChan: 385, nFileSamp: 18000000\n",
      "nChan: 385, nFileSamp: 18000000\n",
      "nChan: 385, nFileSamp: 18000000\n",
      "nChan: 385, nFileSamp: 18000000\n",
      "nChan: 385, nFileSamp: 18000000\n",
      "nChan: 385, nFileSamp: 18000000\n",
      "nChan: 385, nFileSamp: 18000000\n",
      "nChan: 385, nFileSamp: 18000000\n",
      "nChan: 385, nFileSamp: 18000000\n",
      "nChan: 385, nFileSamp: 18000000\n",
      "nChan: 385, nFileSamp: 18000000\n",
      "nChan: 385, nFileSamp: 18000000\n",
      "nChan: 385, nFileSamp: 18000000\n",
      "nChan: 385, nFileSamp: 18000000\n",
      "nChan: 385, nFileSamp: 18000000\n"
     ]
    }
   ],
   "source": [
    "write_condition(\"Valentino\", \"all\")"
   ]
  },
  {
   "cell_type": "code",
   "execution_count": 24,
   "metadata": {
    "execution": {
     "iopub.execute_input": "2021-04-07T20:58:54.172977Z",
     "iopub.status.busy": "2021-04-07T20:58:54.172781Z",
     "iopub.status.idle": "2021-04-07T20:59:18.878260Z",
     "shell.execute_reply": "2021-04-07T20:59:18.877292Z",
     "shell.execute_reply.started": "2021-04-07T20:58:54.172950Z"
    }
   },
   "outputs": [
    {
     "name": "stdout",
     "output_type": "stream",
     "text": [
      "nChan: 385, nFileSamp: 18000019\n",
      "nChan: 385, nFileSamp: 18000019\n",
      "nChan: 385, nFileSamp: 18000019\n",
      "nChan: 385, nFileSamp: 18000019\n",
      "nChan: 385, nFileSamp: 18000019\n",
      "nChan: 385, nFileSamp: 18000019\n",
      "nChan: 385, nFileSamp: 18000019\n",
      "nChan: 385, nFileSamp: 18000019\n",
      "nChan: 385, nFileSamp: 18000019\n",
      "nChan: 385, nFileSamp: 18000019\n",
      "nChan: 385, nFileSamp: 18000019\n",
      "nChan: 385, nFileSamp: 17715805\n",
      "nChan: 385, nFileSamp: 18000019\n",
      "nChan: 385, nFileSamp: 18000019\n",
      "nChan: 385, nFileSamp: 18000019\n",
      "nChan: 385, nFileSamp: 18000019\n",
      "nChan: 385, nFileSamp: 18000019\n",
      "nChan: 385, nFileSamp: 18000019\n",
      "nChan: 385, nFileSamp: 18000019\n",
      "nChan: 385, nFileSamp: 18000019\n",
      "nChan: 385, nFileSamp: 18000019\n",
      "nChan: 385, nFileSamp: 10392376\n"
     ]
    }
   ],
   "source": [
    "write_condition(\"Doppio\", \"all\")"
   ]
  },
  {
   "cell_type": "code",
   "execution_count": 25,
   "metadata": {
    "execution": {
     "iopub.execute_input": "2021-04-07T20:59:18.879498Z",
     "iopub.status.busy": "2021-04-07T20:59:18.879305Z",
     "iopub.status.idle": "2021-04-07T20:59:52.207910Z",
     "shell.execute_reply": "2021-04-07T20:59:52.207104Z",
     "shell.execute_reply.started": "2021-04-07T20:59:18.879474Z"
    }
   },
   "outputs": [
    {
     "name": "stdout",
     "output_type": "stream",
     "text": [
      "nChan: 385, nFileSamp: 9000051\n",
      "nChan: 385, nFileSamp: 9000052\n",
      "nChan: 385, nFileSamp: 9000052\n",
      "nChan: 385, nFileSamp: 9000052\n",
      "nChan: 385, nFileSamp: 9000051\n",
      "nChan: 385, nFileSamp: 9000051\n",
      "nChan: 385, nFileSamp: 9000052\n",
      "nChan: 385, nFileSamp: 9000052\n",
      "nChan: 385, nFileSamp: 9000052\n",
      "nChan: 385, nFileSamp: 9000052\n",
      "nChan: 385, nFileSamp: 9000051\n",
      "nChan: 385, nFileSamp: 9000052\n",
      "nChan: 385, nFileSamp: 9000052\n",
      "nChan: 385, nFileSamp: 9000052\n",
      "nChan: 385, nFileSamp: 9000052\n",
      "nChan: 385, nFileSamp: 9000051\n",
      "nChan: 385, nFileSamp: 7422289\n",
      "nChan: 385, nFileSamp: 9000051\n",
      "nChan: 385, nFileSamp: 9000052\n",
      "nChan: 385, nFileSamp: 8127109\n",
      "nChan: 385, nFileSamp: 8277840\n",
      "nChan: 385, nFileSamp: 9000052\n",
      "nChan: 385, nFileSamp: 9000052\n",
      "nChan: 385, nFileSamp: 9000052\n",
      "nChan: 385, nFileSamp: 9000052\n",
      "nChan: 385, nFileSamp: 9000051\n",
      "nChan: 385, nFileSamp: 9000052\n",
      "nChan: 385, nFileSamp: 9000052\n",
      "nChan: 385, nFileSamp: 9000052\n",
      "nChan: 385, nFileSamp: 9000051\n",
      "nChan: 385, nFileSamp: 9000052\n",
      "nChan: 385, nFileSamp: 9000052\n",
      "nChan: 385, nFileSamp: 9000052\n",
      "nChan: 385, nFileSamp: 5651199\n"
     ]
    }
   ],
   "source": [
    "write_condition(\"Alessandro\", \"all\")"
   ]
  },
  {
   "cell_type": "code",
   "execution_count": 28,
   "metadata": {
    "execution": {
     "iopub.execute_input": "2021-04-07T21:33:04.289123Z",
     "iopub.status.busy": "2021-04-07T21:33:04.288614Z",
     "iopub.status.idle": "2021-04-07T21:33:40.058614Z",
     "shell.execute_reply": "2021-04-07T21:33:40.057237Z",
     "shell.execute_reply.started": "2021-04-07T21:33:04.289058Z"
    }
   },
   "outputs": [
    {
     "name": "stdout",
     "output_type": "stream",
     "text": [
      "nChan: 385, nFileSamp: 9000025\n",
      "nChan: 385, nFileSamp: 9000025\n",
      "nChan: 385, nFileSamp: 9000026\n",
      "nChan: 385, nFileSamp: 9000026\n",
      "nChan: 385, nFileSamp: 9000026\n",
      "nChan: 385, nFileSamp: 9000026\n",
      "nChan: 385, nFileSamp: 9000025\n",
      "nChan: 385, nFileSamp: 6003650\n",
      "nChan: 385, nFileSamp: 9000026\n",
      "nChan: 385, nFileSamp: 7633369\n",
      "nChan: 385, nFileSamp: 5834484\n",
      "nChan: 385, nFileSamp: 1296137\n",
      "nChan: 385, nFileSamp: 9000026\n",
      "nChan: 385, nFileSamp: 9000026\n",
      "nChan: 385, nFileSamp: 9000026\n",
      "nChan: 385, nFileSamp: 9000026\n",
      "nChan: 385, nFileSamp: 4232185\n",
      "nChan: 385, nFileSamp: 4616615\n",
      "nChan: 385, nFileSamp: 800217\n",
      "nChan: 385, nFileSamp: 2877424\n",
      "nChan: 385, nFileSamp: 2430722\n",
      "nChan: 385, nFileSamp: 5735230\n",
      "nChan: 385, nFileSamp: 9000025\n",
      "nChan: 385, nFileSamp: 5608943\n",
      "nChan: 385, nFileSamp: 2417612\n",
      "nChan: 385, nFileSamp: 3435368\n",
      "nChan: 385, nFileSamp: 1369314\n",
      "nChan: 385, nFileSamp: 9000025\n",
      "nChan: 385, nFileSamp: 2946948\n",
      "nChan: 385, nFileSamp: 9000026\n",
      "nChan: 385, nFileSamp: 9000026\n",
      "nChan: 385, nFileSamp: 9000026\n",
      "nChan: 385, nFileSamp: 9000026\n",
      "nChan: 385, nFileSamp: 9000025\n",
      "nChan: 385, nFileSamp: 510366\n",
      "nChan: 385, nFileSamp: 5341730\n",
      "nChan: 385, nFileSamp: 5191945\n",
      "nChan: 385, nFileSamp: 6811583\n",
      "nChan: 385, nFileSamp: 9000025\n",
      "nChan: 385, nFileSamp: 9000026\n",
      "nChan: 385, nFileSamp: 6221025\n"
     ]
    }
   ],
   "source": [
    "write_condition(\"Eugene\", \"all\")"
   ]
  },
  {
   "cell_type": "code",
   "execution_count": 39,
   "metadata": {
    "execution": {
     "iopub.execute_input": "2021-04-08T00:13:26.338483Z",
     "iopub.status.busy": "2021-04-08T00:13:26.337980Z",
     "iopub.status.idle": "2021-04-08T00:13:45.640034Z",
     "shell.execute_reply": "2021-04-08T00:13:45.638836Z",
     "shell.execute_reply.started": "2021-04-08T00:13:26.338422Z"
    }
   },
   "outputs": [
    {
     "name": "stdout",
     "output_type": "stream",
     "text": [
      "nChan: 385, nFileSamp: 4242731\n",
      "nChan: 385, nFileSamp: 361262\n",
      "nChan: 385, nFileSamp: 3863847\n",
      "nChan: 385, nFileSamp: 8999998\n",
      "nChan: 385, nFileSamp: 8999998\n",
      "nChan: 385, nFileSamp: 4274822\n",
      "nChan: 385, nFileSamp: 8999998\n",
      "nChan: 385, nFileSamp: 8999998\n",
      "nChan: 385, nFileSamp: 8999998\n",
      "nChan: 385, nFileSamp: 8999998\n",
      "nChan: 385, nFileSamp: 8999998\n",
      "nChan: 385, nFileSamp: 8999998\n",
      "nChan: 385, nFileSamp: 8999998\n",
      "nChan: 385, nFileSamp: 8999998\n",
      "nChan: 385, nFileSamp: 6626338\n",
      "nChan: 385, nFileSamp: 8999999\n",
      "nChan: 385, nFileSamp: 8999998\n",
      "nChan: 385, nFileSamp: 1747894\n",
      "nChan: 385, nFileSamp: 8999998\n",
      "nChan: 385, nFileSamp: 8998952\n",
      "nChan: 385, nFileSamp: 8999999\n",
      "nChan: 385, nFileSamp: 6172746\n",
      "nChan: 385, nFileSamp: 8999998\n",
      "nChan: 385, nFileSamp: 8999998\n",
      "nChan: 385, nFileSamp: 3449805\n",
      "nChan: 385, nFileSamp: 4577439\n",
      "nChan: 385, nFileSamp: 3682820\n",
      "nChan: 385, nFileSamp: 8999998\n",
      "nChan: 385, nFileSamp: 4821759\n",
      "nChan: 385, nFileSamp: 7183437\n",
      "nChan: 385, nFileSamp: 8999999\n",
      "nChan: 385, nFileSamp: 8999998\n",
      "nChan: 385, nFileSamp: 4053617\n",
      "nChan: 385, nFileSamp: 2128585\n",
      "nChan: 385, nFileSamp: 8999998\n",
      "nChan: 385, nFileSamp: 8999998\n",
      "nChan: 385, nFileSamp: 8999998\n",
      "nChan: 385, nFileSamp: 8999998\n",
      "nChan: 385, nFileSamp: 8999999\n",
      "nChan: 385, nFileSamp: 8999999\n",
      "nChan: 385, nFileSamp: 787423\n",
      "nChan: 385, nFileSamp: 4193453\n",
      "nChan: 385, nFileSamp: 8999998\n",
      "nChan: 385, nFileSamp: 8223829\n",
      "nChan: 385, nFileSamp: 8999999\n",
      "nChan: 385, nFileSamp: 8999998\n",
      "nChan: 385, nFileSamp: 8999998\n",
      "nChan: 385, nFileSamp: 8999999\n",
      "nChan: 385, nFileSamp: 7934693\n",
      "nChan: 385, nFileSamp: 5289645\n",
      "nChan: 385, nFileSamp: 5093264\n"
     ]
    }
   ],
   "source": [
    "write_condition(\"Allan\", \"all\")"
   ]
  },
  {
   "cell_type": "code",
   "execution_count": null,
   "metadata": {},
   "outputs": [],
   "source": []
  }
 ],
 "metadata": {
  "kernelspec": {
   "display_name": "Python 3",
   "language": "python",
   "name": "python3"
  },
  "language_info": {
   "codemirror_mode": {
    "name": "ipython",
    "version": 3
   },
   "file_extension": ".py",
   "mimetype": "text/x-python",
   "name": "python",
   "nbconvert_exporter": "python",
   "pygments_lexer": "ipython3",
   "version": "3.7.9"
  }
 },
 "nbformat": 4,
 "nbformat_minor": 4
}
