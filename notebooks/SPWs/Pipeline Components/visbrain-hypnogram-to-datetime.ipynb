{
 "cells": [
  {
   "cell_type": "code",
   "execution_count": 46,
   "metadata": {
    "execution": {
     "iopub.execute_input": "2021-04-12T23:07:10.045251Z",
     "iopub.status.busy": "2021-04-12T23:07:10.045010Z",
     "iopub.status.idle": "2021-04-12T23:07:10.064814Z",
     "shell.execute_reply": "2021-04-12T23:07:10.063980Z",
     "shell.execute_reply.started": "2021-04-12T23:07:10.045225Z"
    }
   },
   "outputs": [
    {
     "name": "stdout",
     "output_type": "stream",
     "text": [
      "The autoreload extension is already loaded. To reload it, use:\n",
      "  %reload_ext autoreload\n"
     ]
    }
   ],
   "source": [
    "%load_ext autoreload\n",
    "%autoreload 2"
   ]
  },
  {
   "cell_type": "code",
   "execution_count": 47,
   "metadata": {
    "execution": {
     "iopub.execute_input": "2021-04-12T23:07:10.296621Z",
     "iopub.status.busy": "2021-04-12T23:07:10.296381Z",
     "iopub.status.idle": "2021-04-12T23:07:10.315127Z",
     "shell.execute_reply": "2021-04-12T23:07:10.314236Z",
     "shell.execute_reply.started": "2021-04-12T23:07:10.296593Z"
    }
   },
   "outputs": [],
   "source": [
    "import pandas as pd"
   ]
  },
  {
   "cell_type": "code",
   "execution_count": 48,
   "metadata": {
    "execution": {
     "iopub.execute_input": "2021-04-12T23:07:10.560391Z",
     "iopub.status.busy": "2021-04-12T23:07:10.560245Z",
     "iopub.status.idle": "2021-04-12T23:07:10.575642Z",
     "shell.execute_reply": "2021-04-12T23:07:10.574916Z",
     "shell.execute_reply.started": "2021-04-12T23:07:10.560374Z"
    }
   },
   "outputs": [],
   "source": [
    "from ecephys.scoring import load_visbrain_hypnogram, visbrain_hypnogram_to_datetime, write_datetime_hypnogram\n",
    "from ecephys_analyses.data import paths\n",
    "from ecephys.sglx_utils import load_timeseries"
   ]
  },
  {
   "cell_type": "code",
   "execution_count": 49,
   "metadata": {
    "execution": {
     "iopub.execute_input": "2021-04-12T23:07:11.073703Z",
     "iopub.status.busy": "2021-04-12T23:07:11.073467Z",
     "iopub.status.idle": "2021-04-12T23:07:11.094623Z",
     "shell.execute_reply": "2021-04-12T23:07:11.093703Z",
     "shell.execute_reply.started": "2021-04-12T23:07:11.073678Z"
    }
   },
   "outputs": [],
   "source": [
    "def write_condition(subject, experiment, condition):\n",
    "    hypnogram_paths = paths.get_sglx_style_datapaths(subject, experiment, condition, ext=\"hypnogram.txt\")\n",
    "    bin_paths = paths.get_sglx_style_datapaths(subject, experiment, condition, ext=\"lf.bin\")\n",
    "    hypnogram_dt_paths = paths.get_sglx_style_datapaths(subject, experiment, condition, ext=\"hypnogram.tsv\")\n",
    "    \n",
    "    hypnograms = [load_visbrain_hypnogram(path) for path in hypnogram_paths]\n",
    "    sigs = [load_timeseries(path, chans=[0], start_time=0, end_time=1) for path in bin_paths]\n",
    "    \n",
    "    for sig, hypnogram, hypnogram_dt_path in zip(sigs, hypnograms, hypnogram_dt_paths):\n",
    "        file_start_dt = pd.to_datetime(sig.fileCreateTime)\n",
    "        hypnogram_dt = visbrain_hypnogram_to_datetime(hypnogram, file_start_dt)\n",
    "        write_datetime_hypnogram(hypnogram_dt, hypnogram_dt_path)"
   ]
  },
  {
   "cell_type": "code",
   "execution_count": 50,
   "metadata": {
    "execution": {
     "iopub.execute_input": "2021-04-12T23:07:14.924464Z",
     "iopub.status.busy": "2021-04-12T23:07:14.924244Z",
     "iopub.status.idle": "2021-04-12T23:07:28.120213Z",
     "shell.execute_reply": "2021-04-12T23:07:28.118845Z",
     "shell.execute_reply.started": "2021-04-12T23:07:14.924439Z"
    }
   },
   "outputs": [
    {
     "name": "stdout",
     "output_type": "stream",
     "text": [
      "nChan: 385, nFileSamp: 1802362\n",
      "nChan: 385, nFileSamp: 4977007\n",
      "nChan: 385, nFileSamp: 18000039\n",
      "nChan: 385, nFileSamp: 8553813\n"
     ]
    }
   ],
   "source": [
    "write_condition(\"Doppio\", \"atropine\", \"all\")"
   ]
  },
  {
   "cell_type": "code",
   "execution_count": null,
   "metadata": {},
   "outputs": [],
   "source": []
  }
 ],
 "metadata": {
  "kernelspec": {
   "display_name": "Python 3",
   "language": "python",
   "name": "python3"
  },
  "language_info": {
   "codemirror_mode": {
    "name": "ipython",
    "version": 3
   },
   "file_extension": ".py",
   "mimetype": "text/x-python",
   "name": "python",
   "nbconvert_exporter": "python",
   "pygments_lexer": "ipython3",
   "version": "3.7.9"
  }
 },
 "nbformat": 4,
 "nbformat_minor": 4
}
