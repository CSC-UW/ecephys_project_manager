{
 "cells": [
  {
   "cell_type": "code",
   "execution_count": 1,
   "metadata": {
    "execution": {
     "iopub.execute_input": "2021-05-12T22:19:18.389971Z",
     "iopub.status.busy": "2021-05-12T22:19:18.389455Z",
     "iopub.status.idle": "2021-05-12T22:19:18.409209Z",
     "shell.execute_reply": "2021-05-12T22:19:18.408479Z",
     "shell.execute_reply.started": "2021-05-12T22:19:18.389914Z"
    }
   },
   "outputs": [],
   "source": [
    "%load_ext autoreload\n",
    "%autoreload 2"
   ]
  },
  {
   "cell_type": "code",
   "execution_count": 2,
   "metadata": {
    "execution": {
     "iopub.execute_input": "2021-05-12T22:19:18.650425Z",
     "iopub.status.busy": "2021-05-12T22:19:18.649967Z",
     "iopub.status.idle": "2021-05-12T22:19:18.665471Z",
     "shell.execute_reply": "2021-05-12T22:19:18.664587Z",
     "shell.execute_reply.started": "2021-05-12T22:19:18.650370Z"
    }
   },
   "outputs": [],
   "source": [
    "import pandas as pd"
   ]
  },
  {
   "cell_type": "code",
   "execution_count": 3,
   "metadata": {
    "execution": {
     "iopub.execute_input": "2021-05-12T22:19:18.993775Z",
     "iopub.status.busy": "2021-05-12T22:19:18.993436Z",
     "iopub.status.idle": "2021-05-12T22:19:19.611078Z",
     "shell.execute_reply": "2021-05-12T22:19:19.610245Z",
     "shell.execute_reply.started": "2021-05-12T22:19:18.993736Z"
    }
   },
   "outputs": [],
   "source": [
    "from ecephys.scoring import load_visbrain_hypnogram, visbrain_hypnogram_to_datetime, write_datetime_hypnogram\n",
    "from ecephys.sglx_utils import load_timeseries\n",
    "import ecephys_analyses as ea"
   ]
  },
  {
   "cell_type": "code",
   "execution_count": 4,
   "metadata": {
    "execution": {
     "iopub.execute_input": "2021-05-12T22:19:19.627847Z",
     "iopub.status.busy": "2021-05-12T22:19:19.627716Z",
     "iopub.status.idle": "2021-05-12T22:19:19.643048Z",
     "shell.execute_reply": "2021-05-12T22:19:19.642244Z",
     "shell.execute_reply.started": "2021-05-12T22:19:19.627831Z"
    }
   },
   "outputs": [],
   "source": [
    "def write_condition(subject, experiment, condition):\n",
    "    hypnogram_paths = ea.get_sglx_style_datapaths(subject, experiment, condition, ext=\"hypnogram.txt\")\n",
    "    bin_paths = ea.get_sglx_style_datapaths(subject, experiment, condition, ext=\"lf.bin\")\n",
    "    hypnogram_dt_paths = ea.get_sglx_style_datapaths(subject, experiment, condition, ext=\"hypnogram.tsv\")\n",
    "    \n",
    "    hypnograms = [load_visbrain_hypnogram(path) for path in hypnogram_paths]\n",
    "    sigs = [load_timeseries(path, chans=[0], start_time=0, end_time=1) for path in bin_paths]\n",
    "    \n",
    "    for sig, hypnogram, hypnogram_dt_path in zip(sigs, hypnograms, hypnogram_dt_paths):\n",
    "        file_start_dt = pd.to_datetime(sig.fileCreateTime)\n",
    "        hypnogram_dt = visbrain_hypnogram_to_datetime(hypnogram, file_start_dt)\n",
    "        write_datetime_hypnogram(hypnogram_dt, hypnogram_dt_path)"
   ]
  },
  {
   "cell_type": "code",
   "execution_count": 12,
   "metadata": {
    "execution": {
     "iopub.execute_input": "2021-05-14T22:28:15.757854Z",
     "iopub.status.busy": "2021-05-14T22:28:15.757491Z",
     "iopub.status.idle": "2021-05-14T22:28:16.581709Z",
     "shell.execute_reply": "2021-05-14T22:28:16.580577Z",
     "shell.execute_reply.started": "2021-05-14T22:28:15.757807Z"
    }
   },
   "outputs": [
    {
     "name": "stdout",
     "output_type": "stream",
     "text": [
      "nChan: 385, nFileSamp: 17610153\n",
      "nChan: 385, nFileSamp: 17999996\n",
      "nChan: 385, nFileSamp: 17999996\n",
      "nChan: 385, nFileSamp: 8530138\n"
     ]
    }
   ],
   "source": [
    "write_condition(\"Allan\", \"ketamine\", \"all\")"
   ]
  },
  {
   "cell_type": "code",
   "execution_count": null,
   "metadata": {},
   "outputs": [],
   "source": []
  }
 ],
 "metadata": {
  "kernelspec": {
   "display_name": "Python 3",
   "language": "python",
   "name": "python3"
  },
  "language_info": {
   "codemirror_mode": {
    "name": "ipython",
    "version": 3
   },
   "file_extension": ".py",
   "mimetype": "text/x-python",
   "name": "python",
   "nbconvert_exporter": "python",
   "pygments_lexer": "ipython3",
   "version": "3.7.9"
  }
 },
 "nbformat": 4,
 "nbformat_minor": 4
}
