{
 "cells": [
  {
   "cell_type": "code",
   "execution_count": 1,
   "metadata": {
    "execution": {
     "iopub.execute_input": "2021-05-05T19:32:08.545361Z",
     "iopub.status.busy": "2021-05-05T19:32:08.544840Z",
     "iopub.status.idle": "2021-05-05T19:32:08.560269Z",
     "shell.execute_reply": "2021-05-05T19:32:08.559242Z",
     "shell.execute_reply.started": "2021-05-05T19:32:08.545296Z"
    }
   },
   "outputs": [],
   "source": [
    "%load_ext autoreload\n",
    "%autoreload 2"
   ]
  },
  {
   "cell_type": "code",
   "execution_count": 2,
   "metadata": {
    "execution": {
     "iopub.execute_input": "2021-05-05T19:32:09.085584Z",
     "iopub.status.busy": "2021-05-05T19:32:09.085074Z",
     "iopub.status.idle": "2021-05-05T19:32:09.098231Z",
     "shell.execute_reply": "2021-05-05T19:32:09.097389Z",
     "shell.execute_reply.started": "2021-05-05T19:32:09.085538Z"
    }
   },
   "outputs": [],
   "source": [
    "import pandas as pd"
   ]
  },
  {
   "cell_type": "code",
   "execution_count": 3,
   "metadata": {
    "execution": {
     "iopub.execute_input": "2021-05-05T19:32:09.468431Z",
     "iopub.status.busy": "2021-05-05T19:32:09.468131Z",
     "iopub.status.idle": "2021-05-05T19:32:10.092247Z",
     "shell.execute_reply": "2021-05-05T19:32:10.091480Z",
     "shell.execute_reply.started": "2021-05-05T19:32:09.468389Z"
    }
   },
   "outputs": [],
   "source": [
    "from ecephys.scoring import load_visbrain_hypnogram, visbrain_hypnogram_to_datetime, write_datetime_hypnogram\n",
    "from ecephys.sglx_utils import load_timeseries\n",
    "import ecephys_analyses as ea"
   ]
  },
  {
   "cell_type": "code",
   "execution_count": 4,
   "metadata": {
    "execution": {
     "iopub.execute_input": "2021-05-05T19:32:10.110642Z",
     "iopub.status.busy": "2021-05-05T19:32:10.110214Z",
     "iopub.status.idle": "2021-05-05T19:32:10.129055Z",
     "shell.execute_reply": "2021-05-05T19:32:10.128308Z",
     "shell.execute_reply.started": "2021-05-05T19:32:10.110585Z"
    }
   },
   "outputs": [],
   "source": [
    "def write_condition(subject, experiment, condition):\n",
    "    hypnogram_paths = ea.get_sglx_style_datapaths(subject, experiment, condition, ext=\"hypnogram.txt\")\n",
    "    bin_paths = ea.get_sglx_style_datapaths(subject, experiment, condition, ext=\"lf.bin\")\n",
    "    hypnogram_dt_paths = ea.get_sglx_style_datapaths(subject, experiment, condition, ext=\"hypnogram.tsv\")\n",
    "    \n",
    "    hypnograms = [load_visbrain_hypnogram(path) for path in hypnogram_paths]\n",
    "    sigs = [load_timeseries(path, chans=[0], start_time=0, end_time=1) for path in bin_paths]\n",
    "    \n",
    "    for sig, hypnogram, hypnogram_dt_path in zip(sigs, hypnograms, hypnogram_dt_paths):\n",
    "        file_start_dt = pd.to_datetime(sig.fileCreateTime)\n",
    "        hypnogram_dt = visbrain_hypnogram_to_datetime(hypnogram, file_start_dt)\n",
    "        write_datetime_hypnogram(hypnogram_dt, hypnogram_dt_path)"
   ]
  },
  {
   "cell_type": "code",
   "execution_count": 5,
   "metadata": {
    "execution": {
     "iopub.execute_input": "2021-05-05T19:32:14.145222Z",
     "iopub.status.busy": "2021-05-05T19:32:14.144922Z",
     "iopub.status.idle": "2021-05-05T19:32:18.957749Z",
     "shell.execute_reply": "2021-05-05T19:32:18.956559Z",
     "shell.execute_reply.started": "2021-05-05T19:32:14.145187Z"
    }
   },
   "outputs": [
    {
     "name": "stdout",
     "output_type": "stream",
     "text": [
      "nChan: 385, nFileSamp: 17644049\n",
      "nChan: 385, nFileSamp: 17999996\n",
      "nChan: 385, nFileSamp: 17999996\n",
      "nChan: 385, nFileSamp: 6268558\n"
     ]
    }
   ],
   "source": [
    "write_condition(\"Allan\", \"atropine\", \"all\")"
   ]
  },
  {
   "cell_type": "code",
   "execution_count": null,
   "metadata": {},
   "outputs": [],
   "source": []
  }
 ],
 "metadata": {
  "kernelspec": {
   "display_name": "Python 3",
   "language": "python",
   "name": "python3"
  },
  "language_info": {
   "codemirror_mode": {
    "name": "ipython",
    "version": 3
   },
   "file_extension": ".py",
   "mimetype": "text/x-python",
   "name": "python",
   "nbconvert_exporter": "python",
   "pygments_lexer": "ipython3",
   "version": "3.7.9"
  }
 },
 "nbformat": 4,
 "nbformat_minor": 4
}
