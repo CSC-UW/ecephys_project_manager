{
 "cells": [
  {
   "cell_type": "code",
   "execution_count": 1,
   "metadata": {
    "execution": {
     "iopub.execute_input": "2021-10-08T23:21:56.183052Z",
     "iopub.status.busy": "2021-10-08T23:21:56.182373Z",
     "iopub.status.idle": "2021-10-08T23:21:56.203326Z",
     "shell.execute_reply": "2021-10-08T23:21:56.202738Z",
     "shell.execute_reply.started": "2021-10-08T23:21:56.182894Z"
    },
    "tags": []
   },
   "outputs": [],
   "source": [
    "%load_ext autoreload\n",
    "%autoreload 2"
   ]
  },
  {
   "cell_type": "markdown",
   "metadata": {},
   "source": [
    "# Imports and definitions"
   ]
  },
  {
   "cell_type": "code",
   "execution_count": 2,
   "metadata": {
    "execution": {
     "iopub.execute_input": "2021-10-08T23:21:56.827259Z",
     "iopub.status.busy": "2021-10-08T23:21:56.826672Z",
     "iopub.status.idle": "2021-10-08T23:21:57.449282Z",
     "shell.execute_reply": "2021-10-08T23:21:57.448563Z",
     "shell.execute_reply.started": "2021-10-08T23:21:56.827202Z"
    },
    "tags": []
   },
   "outputs": [],
   "source": [
    "from datetime import datetime\n",
    "import xarray as xr\n",
    "from pathlib import Path"
   ]
  },
  {
   "cell_type": "code",
   "execution_count": 3,
   "metadata": {
    "execution": {
     "iopub.execute_input": "2021-10-08T23:21:57.450471Z",
     "iopub.status.busy": "2021-10-08T23:21:57.450213Z",
     "iopub.status.idle": "2021-10-08T23:21:57.843379Z",
     "shell.execute_reply": "2021-10-08T23:21:57.842281Z",
     "shell.execute_reply.started": "2021-10-08T23:21:57.450453Z"
    },
    "tags": []
   },
   "outputs": [],
   "source": [
    "import ecephys_analyses as ea\n",
    "from ecephys_analyses.load import load_sr_chans\n",
    "from sglxarray import load_trigger\n",
    "from ecephys.xrsig import parallel_spectrogram_welch"
   ]
  },
  {
   "cell_type": "code",
   "execution_count": 4,
   "metadata": {
    "execution": {
     "iopub.execute_input": "2021-10-08T23:21:57.844206Z",
     "iopub.status.busy": "2021-10-08T23:21:57.844069Z",
     "iopub.status.idle": "2021-10-08T23:21:57.863355Z",
     "shell.execute_reply": "2021-10-08T23:21:57.862984Z",
     "shell.execute_reply.started": "2021-10-08T23:21:57.844190Z"
    },
    "tags": []
   },
   "outputs": [
    {
     "data": {
      "text/plain": [
       "<xarray.core.options.set_options at 0x7f4c1be63b90>"
      ]
     },
     "execution_count": 4,
     "metadata": {},
     "output_type": "execute_result"
    }
   ],
   "source": [
    "xr.set_options(keep_attrs=True)"
   ]
  },
  {
   "cell_type": "code",
   "execution_count": 5,
   "metadata": {
    "execution": {
     "iopub.execute_input": "2021-10-08T23:21:58.724156Z",
     "iopub.status.busy": "2021-10-08T23:21:58.723609Z",
     "iopub.status.idle": "2021-10-08T23:21:58.746738Z",
     "shell.execute_reply": "2021-10-08T23:21:58.746077Z",
     "shell.execute_reply.started": "2021-10-08T23:21:58.724102Z"
    },
    "tags": []
   },
   "outputs": [],
   "source": [
    "def get_spectrogram(sig, **kwargs):\n",
    "    nperseg = int(4 * sig.fs) # 4 second window\n",
    "    noverlap = nperseg // 4 # 1 second overlap\n",
    "    spg = parallel_spectrogram_welch(sig, nperseg=nperseg, noverlap=noverlap, **kwargs)\n",
    "    return spg.median(dim=\"channel\").sel(frequency=slice(0, 300))"
   ]
  },
  {
   "cell_type": "code",
   "execution_count": 6,
   "metadata": {
    "execution": {
     "iopub.execute_input": "2021-10-08T23:23:21.809112Z",
     "iopub.status.busy": "2021-10-08T23:23:21.808737Z",
     "iopub.status.idle": "2021-10-08T23:23:21.833152Z",
     "shell.execute_reply": "2021-10-08T23:23:21.832549Z",
     "shell.execute_reply.started": "2021-10-08T23:23:21.809083Z"
    },
    "tags": []
   },
   "outputs": [],
   "source": [
    "def get_alias_spectrograms(subject, experiment, alias, probe):\n",
    "    cx_chans = ea.get_channels(subject, experiment, probe, \"superficial_ctx\", asarray=False)\n",
    "    wm_chans = ea.get_channels(subject, experiment, probe, \"white_matter\", asarray=False)\n",
    "    \n",
    "    bin_paths = ea.get_lfp_bin_paths(subject, experiment, alias, probe=probe)\n",
    "    sr_chans_paths = ea.get_analysis_counterparts(bin_paths, \"sr_chans.csv\", subject)\n",
    "    spg_paths = ea.get_analysis_counterparts(bin_paths, \"spg.nc\", subject)\n",
    "    \n",
    "    \n",
    "    #bin_paths = ea.get_sglx_style_datapaths(subject, experiment, condition, \"lf.bin\")\n",
    "    #sr_chans_paths = ea.get_sglx_style_datapaths(subject, experiment, condition, \"sr_chans.csv\")\n",
    "    #spg_paths = ea.get_sglx_style_datapaths(subject, experiment, condition, \"spg.nc\")\n",
    "    \n",
    "    for bin_path, sr_chans_path, spg_path in zip(bin_paths, sr_chans_paths, spg_paths):\n",
    "        sr_chans_df = load_sr_chans(sr_chans_path)\n",
    "        epochs = list()\n",
    "        for epoch in sr_chans_df.itertuples():\n",
    "            if not epoch.sr_chans:\n",
    "                continue\n",
    "            cx = load_trigger(bin_path, cx_chans, start_time=epoch.start_time, end_time=epoch.end_time)\n",
    "            wm = load_trigger(bin_path, wm_chans, start_time=epoch.start_time, end_time=epoch.end_time)\n",
    "            sr = load_trigger(bin_path, epoch.sr_chans, start_time=epoch.start_time, end_time=epoch.end_time)\n",
    "\n",
    "            cx_wm_ref = cx - wm.values\n",
    "            sr_wm_ref = sr - wm.values\n",
    "\n",
    "            spgs = xr.Dataset({'mpta_wm_ref': get_spectrogram(cx_wm_ref), \n",
    "                               'sr_wm_ref': get_spectrogram(sr_wm_ref)})\n",
    "            epochs.append(spgs)\n",
    "            \n",
    "        if not epochs:\n",
    "            continue\n",
    "        spgs = xr.concat(epochs, dim=\"time\")\n",
    "        Path(spg_path).parent.mkdir(parents=True, exist_ok=True) # Create parent directories if they do not already exist.\n",
    "        spgs.to_netcdf(spg_path)\n",
    "        spgs.close()\n",
    "        \n",
    "        current_time = datetime.now().strftime(\"%H:%M:%S\")\n",
    "        print(f\"{current_time}: Finished {str(bin_path)}\")"
   ]
  },
  {
   "cell_type": "code",
   "execution_count": 7,
   "metadata": {
    "execution": {
     "iopub.execute_input": "2021-10-08T23:23:22.005515Z",
     "iopub.status.busy": "2021-10-08T23:23:22.005277Z",
     "iopub.status.idle": "2021-10-09T01:22:15.743777Z",
     "shell.execute_reply": "2021-10-09T01:22:15.743013Z",
     "shell.execute_reply.started": "2021-10-08T23:23:22.005496Z"
    },
    "tags": []
   },
   "outputs": [
    {
     "name": "stdout",
     "output_type": "stream",
     "text": [
      "nChan: 385, nFileSamp: 18000038\n",
      "nChan: 385, nFileSamp: 18000038\n",
      "nChan: 385, nFileSamp: 18000038\n",
      "11:46:46: Finished /Volumes/neuropixel_archive/Data/chronic/CNPIX12-Santiago/10-31-2021/SpikeGLX/10-31-2021_g0/10-31-2021_g0_imec1/10-31-2021_g0_t0.imec1.lf.bin\n",
      "nChan: 385, nFileSamp: 18000038\n",
      "nChan: 385, nFileSamp: 18000038\n",
      "nChan: 385, nFileSamp: 18000038\n",
      "11:58:59: Finished /Volumes/neuropixel_archive/Data/chronic/CNPIX12-Santiago/10-31-2021/SpikeGLX/10-31-2021_g0/10-31-2021_g0_imec1/10-31-2021_g0_t1.imec1.lf.bin\n",
      "nChan: 385, nFileSamp: 18000038\n",
      "nChan: 385, nFileSamp: 18000038\n",
      "nChan: 385, nFileSamp: 18000038\n",
      "12:01:54: Finished /Volumes/neuropixel_archive/Data/chronic/CNPIX12-Santiago/10-31-2021/SpikeGLX/10-31-2021_g0/10-31-2021_g0_imec1/10-31-2021_g0_t2.imec1.lf.bin\n",
      "nChan: 385, nFileSamp: 18000038\n",
      "nChan: 385, nFileSamp: 18000038\n",
      "nChan: 385, nFileSamp: 18000038\n",
      "12:04:42: Finished /Volumes/neuropixel_archive/Data/chronic/CNPIX12-Santiago/10-31-2021/SpikeGLX/10-31-2021_g0/10-31-2021_g0_imec1/10-31-2021_g0_t3.imec1.lf.bin\n",
      "nChan: 385, nFileSamp: 18000039\n",
      "nChan: 385, nFileSamp: 18000039\n",
      "nChan: 385, nFileSamp: 18000039\n",
      "12:09:18: Finished /Volumes/neuropixel_archive/Data/chronic/CNPIX12-Santiago/10-31-2021/SpikeGLX/10-31-2021_g0/10-31-2021_g0_imec1/10-31-2021_g0_t4.imec1.lf.bin\n",
      "nChan: 385, nFileSamp: 18000038\n",
      "nChan: 385, nFileSamp: 18000038\n",
      "nChan: 385, nFileSamp: 18000038\n",
      "12:12:02: Finished /Volumes/neuropixel_archive/Data/chronic/CNPIX12-Santiago/10-31-2021/SpikeGLX/10-31-2021_g0/10-31-2021_g0_imec1/10-31-2021_g0_t5.imec1.lf.bin\n",
      "nChan: 385, nFileSamp: 18000038\n",
      "nChan: 385, nFileSamp: 18000038\n",
      "nChan: 385, nFileSamp: 18000038\n",
      "12:14:53: Finished /Volumes/neuropixel_archive/Data/chronic/CNPIX12-Santiago/10-31-2021/SpikeGLX/10-31-2021_g0/10-31-2021_g0_imec1/10-31-2021_g0_t6.imec1.lf.bin\n",
      "nChan: 385, nFileSamp: 18000039\n",
      "nChan: 385, nFileSamp: 18000039\n",
      "nChan: 385, nFileSamp: 18000039\n",
      "12:19:28: Finished /Volumes/neuropixel_archive/Data/chronic/CNPIX12-Santiago/10-31-2021/SpikeGLX/10-31-2021_g0/10-31-2021_g0_imec1/10-31-2021_g0_t7.imec1.lf.bin\n",
      "nChan: 385, nFileSamp: 18000038\n",
      "nChan: 385, nFileSamp: 18000038\n",
      "nChan: 385, nFileSamp: 18000038\n",
      "12:22:11: Finished /Volumes/neuropixel_archive/Data/chronic/CNPIX12-Santiago/10-31-2021/SpikeGLX/10-31-2021_g0/10-31-2021_g0_imec1/10-31-2021_g0_t8.imec1.lf.bin\n",
      "nChan: 385, nFileSamp: 18000039\n",
      "nChan: 385, nFileSamp: 18000039\n",
      "nChan: 385, nFileSamp: 18000039\n",
      "12:30:36: Finished /Volumes/neuropixel_archive/Data/chronic/CNPIX12-Santiago/10-31-2021/SpikeGLX/10-31-2021_g0/10-31-2021_g0_imec1/10-31-2021_g0_t9.imec1.lf.bin\n",
      "nChan: 385, nFileSamp: 18000038\n",
      "nChan: 385, nFileSamp: 18000038\n",
      "nChan: 385, nFileSamp: 18000038\n",
      "12:33:17: Finished /Volumes/neuropixel_archive/Data/chronic/CNPIX12-Santiago/10-31-2021/SpikeGLX/10-31-2021_g0/10-31-2021_g0_imec1/10-31-2021_g0_t10.imec1.lf.bin\n",
      "nChan: 385, nFileSamp: 17039141\n",
      "nChan: 385, nFileSamp: 17039141\n",
      "nChan: 385, nFileSamp: 17039141\n",
      "12:37:43: Finished /Volumes/neuropixel_archive/Data/chronic/CNPIX12-Santiago/10-31-2021/SpikeGLX/10-31-2021_g0/10-31-2021_g0_imec1/10-31-2021_g0_t11.imec1.lf.bin\n",
      "nChan: 385, nFileSamp: 18000038\n",
      "nChan: 385, nFileSamp: 18000038\n",
      "nChan: 385, nFileSamp: 18000038\n",
      "12:40:29: Finished /Volumes/neuropixel_archive/Data/chronic/CNPIX12-Santiago/11-1-2021/SpikeGLX/11-1-2021_g0/11-1-2021_g0_imec1/11-1-2021_g0_t0.imec1.lf.bin\n",
      "nChan: 385, nFileSamp: 18000038\n",
      "nChan: 385, nFileSamp: 18000038\n",
      "nChan: 385, nFileSamp: 18000038\n",
      "12:45:05: Finished /Volumes/neuropixel_archive/Data/chronic/CNPIX12-Santiago/11-1-2021/SpikeGLX/11-1-2021_g0/11-1-2021_g0_imec1/11-1-2021_g0_t1.imec1.lf.bin\n",
      "nChan: 385, nFileSamp: 16650692\n",
      "nChan: 385, nFileSamp: 16650692\n",
      "nChan: 385, nFileSamp: 16650692\n",
      "nChan: 385, nFileSamp: 16650692\n",
      "nChan: 385, nFileSamp: 16650692\n",
      "nChan: 385, nFileSamp: 16650692\n",
      "12:48:01: Finished /Volumes/neuropixel_archive/Data/chronic/CNPIX12-Santiago/11-1-2021/SpikeGLX/11-1-2021_g0/11-1-2021_g0_imec1/11-1-2021_g0_t2.imec1.lf.bin\n",
      "nChan: 385, nFileSamp: 18000038\n",
      "nChan: 385, nFileSamp: 18000038\n",
      "nChan: 385, nFileSamp: 18000038\n",
      "12:53:39: Finished /Volumes/neuropixel_archive/Data/chronic/CNPIX12-Santiago/11-1-2021/SpikeGLX/11-1-2021_g1/11-1-2021_g1_imec1/11-1-2021_g1_t0.imec1.lf.bin\n",
      "nChan: 385, nFileSamp: 18000038\n",
      "nChan: 385, nFileSamp: 18000038\n",
      "nChan: 385, nFileSamp: 18000038\n",
      "12:59:04: Finished /Volumes/neuropixel_archive/Data/chronic/CNPIX12-Santiago/11-1-2021/SpikeGLX/11-1-2021_g1/11-1-2021_g1_imec1/11-1-2021_g1_t1.imec1.lf.bin\n",
      "nChan: 385, nFileSamp: 18000038\n",
      "nChan: 385, nFileSamp: 18000038\n",
      "nChan: 385, nFileSamp: 18000038\n",
      "nChan: 385, nFileSamp: 18000038\n",
      "nChan: 385, nFileSamp: 18000038\n",
      "nChan: 385, nFileSamp: 18000038\n",
      "13:01:49: Finished /Volumes/neuropixel_archive/Data/chronic/CNPIX12-Santiago/11-1-2021/SpikeGLX/11-1-2021_g1/11-1-2021_g1_imec1/11-1-2021_g1_t2.imec1.lf.bin\n",
      "nChan: 385, nFileSamp: 18000039\n",
      "nChan: 385, nFileSamp: 18000039\n",
      "nChan: 385, nFileSamp: 18000039\n",
      "13:06:39: Finished /Volumes/neuropixel_archive/Data/chronic/CNPIX12-Santiago/11-1-2021/SpikeGLX/11-1-2021_g1/11-1-2021_g1_imec1/11-1-2021_g1_t3.imec1.lf.bin\n",
      "nChan: 385, nFileSamp: 18000038\n",
      "nChan: 385, nFileSamp: 18000038\n",
      "nChan: 385, nFileSamp: 18000038\n",
      "13:15:01: Finished /Volumes/neuropixel_archive/Data/chronic/CNPIX12-Santiago/11-1-2021/SpikeGLX/11-1-2021_g1/11-1-2021_g1_imec1/11-1-2021_g1_t4.imec1.lf.bin\n",
      "nChan: 385, nFileSamp: 18000039\n",
      "nChan: 385, nFileSamp: 18000039\n",
      "nChan: 385, nFileSamp: 18000039\n",
      "13:18:19: Finished /Volumes/neuropixel_archive/Data/chronic/CNPIX12-Santiago/11-1-2021/SpikeGLX/11-1-2021_g1/11-1-2021_g1_imec1/11-1-2021_g1_t5.imec1.lf.bin\n",
      "nChan: 385, nFileSamp: 18000038\n",
      "nChan: 385, nFileSamp: 18000038\n",
      "nChan: 385, nFileSamp: 18000038\n",
      "13:23:20: Finished /Volumes/neuropixel_archive/Data/chronic/CNPIX12-Santiago/11-1-2021/SpikeGLX/11-1-2021_g1/11-1-2021_g1_imec1/11-1-2021_g1_t6.imec1.lf.bin\n",
      "nChan: 385, nFileSamp: 18000038\n",
      "nChan: 385, nFileSamp: 18000038\n",
      "nChan: 385, nFileSamp: 18000038\n",
      "13:27:59: Finished /Volumes/neuropixel_archive/Data/chronic/CNPIX12-Santiago/11-1-2021/SpikeGLX/11-1-2021_g1/11-1-2021_g1_imec1/11-1-2021_g1_t7.imec1.lf.bin\n",
      "nChan: 385, nFileSamp: 18000038\n",
      "nChan: 385, nFileSamp: 18000038\n",
      "nChan: 385, nFileSamp: 18000038\n",
      "13:35:21: Finished /Volumes/neuropixel_archive/Data/chronic/CNPIX12-Santiago/11-1-2021/SpikeGLX/11-1-2021_g1/11-1-2021_g1_imec1/11-1-2021_g1_t8.imec1.lf.bin\n"
     ]
    }
   ],
   "source": [
    "get_alias_spectrograms(\"Santiago\", \"novel_objects_deprivation\", \"all\", \"imec1\")"
   ]
  },
  {
   "cell_type": "code",
   "execution_count": null,
   "metadata": {},
   "outputs": [],
   "source": []
  }
 ],
 "metadata": {
  "interpreter": {
   "hash": "f06ef39cb6ee7741943854b92e7f7bd5e36de2ca6c2d3088dba84f9a49c05b4a"
  },
  "kernelspec": {
   "display_name": "Python 3.7.10 64-bit ('ecephys': conda)",
   "name": "python3"
  },
  "language_info": {
   "codemirror_mode": {
    "name": "ipython",
    "version": 3
   },
   "file_extension": ".py",
   "mimetype": "text/x-python",
   "name": "python",
   "nbconvert_exporter": "python",
   "pygments_lexer": "ipython3",
   "version": "3.7.10"
  }
 },
 "nbformat": 4,
 "nbformat_minor": 4
}
