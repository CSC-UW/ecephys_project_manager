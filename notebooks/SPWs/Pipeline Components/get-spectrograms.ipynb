{
 "cells": [
  {
   "cell_type": "code",
   "execution_count": 1,
   "metadata": {
    "execution": {
     "iopub.execute_input": "2021-05-12T21:49:38.167264Z",
     "iopub.status.busy": "2021-05-12T21:49:38.166767Z",
     "iopub.status.idle": "2021-05-12T21:49:38.187374Z",
     "shell.execute_reply": "2021-05-12T21:49:38.186644Z",
     "shell.execute_reply.started": "2021-05-12T21:49:38.167202Z"
    }
   },
   "outputs": [],
   "source": [
    "%load_ext autoreload\n",
    "%autoreload 2"
   ]
  },
  {
   "cell_type": "markdown",
   "metadata": {},
   "source": [
    "# Imports and definitions"
   ]
  },
  {
   "cell_type": "code",
   "execution_count": 2,
   "metadata": {
    "execution": {
     "iopub.execute_input": "2021-05-12T21:49:38.523774Z",
     "iopub.status.busy": "2021-05-12T21:49:38.523278Z",
     "iopub.status.idle": "2021-05-12T21:49:38.857099Z",
     "shell.execute_reply": "2021-05-12T21:49:38.856290Z",
     "shell.execute_reply.started": "2021-05-12T21:49:38.523713Z"
    }
   },
   "outputs": [],
   "source": [
    "import numpy as np\n",
    "import pandas as pd\n",
    "from datetime import datetime\n",
    "import xarray as xr\n",
    "from pathlib import Path"
   ]
  },
  {
   "cell_type": "code",
   "execution_count": 3,
   "metadata": {
    "execution": {
     "iopub.execute_input": "2021-05-12T21:49:38.872333Z",
     "iopub.status.busy": "2021-05-12T21:49:38.872179Z",
     "iopub.status.idle": "2021-05-12T21:49:39.229749Z",
     "shell.execute_reply": "2021-05-12T21:49:39.229008Z",
     "shell.execute_reply.started": "2021-05-12T21:49:38.872314Z"
    }
   },
   "outputs": [],
   "source": [
    "import ecephys_analyses as ea\n",
    "from ecephys.sglx_utils import load_timeseries\n",
    "import ecephys.signal.timefrequency as tfr"
   ]
  },
  {
   "cell_type": "code",
   "execution_count": 4,
   "metadata": {
    "execution": {
     "iopub.execute_input": "2021-05-12T21:49:39.230871Z",
     "iopub.status.busy": "2021-05-12T21:49:39.230710Z",
     "iopub.status.idle": "2021-05-12T21:49:39.245705Z",
     "shell.execute_reply": "2021-05-12T21:49:39.245074Z",
     "shell.execute_reply.started": "2021-05-12T21:49:39.230851Z"
    }
   },
   "outputs": [
    {
     "data": {
      "text/plain": [
       "<xarray.core.options.set_options at 0x7fa5439e6d10>"
      ]
     },
     "execution_count": 4,
     "metadata": {},
     "output_type": "execute_result"
    }
   ],
   "source": [
    "xr.set_options(keep_attrs=True)"
   ]
  },
  {
   "cell_type": "code",
   "execution_count": 5,
   "metadata": {
    "execution": {
     "iopub.execute_input": "2021-05-12T21:49:39.263188Z",
     "iopub.status.busy": "2021-05-12T21:49:39.263039Z",
     "iopub.status.idle": "2021-05-12T21:49:39.277386Z",
     "shell.execute_reply": "2021-05-12T21:49:39.276900Z",
     "shell.execute_reply.started": "2021-05-12T21:49:39.263169Z"
    }
   },
   "outputs": [],
   "source": [
    "def get_spectrogram(sig, **kwargs):\n",
    "    nperseg = int(4 * sig.fs) # 4 second window\n",
    "    noverlap = nperseg // 4 # 1 second overlap\n",
    "    freqs, spg_times, spg_data = tfr.parallel_spectrogram_welch(sig.values, sig.fs, nperseg=nperseg, noverlap=noverlap, **kwargs)\n",
    "    spg_times = spg_times + sig.time.values.min()\n",
    "    spg = xr.DataArray(\n",
    "        spg_data,\n",
    "        dims=(\"frequency\", \"time\", \"channel\"),\n",
    "        coords={\"frequency\": freqs, \"time\": spg_times, \"channel\": sig.channel.values},\n",
    "        attrs={'units': f\"{sig.units}^2/Hz\", 'file_start': sig.fileCreateTime}\n",
    "    )\n",
    "    return spg.median(dim=\"channel\").sel(frequency=slice(0, 300))"
   ]
  },
  {
   "cell_type": "code",
   "execution_count": 6,
   "metadata": {
    "execution": {
     "iopub.execute_input": "2021-05-12T21:49:39.292899Z",
     "iopub.status.busy": "2021-05-12T21:49:39.292763Z",
     "iopub.status.idle": "2021-05-12T21:49:39.324897Z",
     "shell.execute_reply": "2021-05-12T21:49:39.324076Z",
     "shell.execute_reply.started": "2021-05-12T21:49:39.292881Z"
    }
   },
   "outputs": [],
   "source": [
    "def get_condition_spgs(subject, experiment, condition, probe):\n",
    "    cx_chans = ea.get_channels(subject, experiment, probe, \"superficial_ctx\", asarray=False)\n",
    "    wm_chans = ea.get_channels(subject, experiment, probe, \"white_matter\", asarray=False)\n",
    "    \n",
    "    bin_paths = ea.get_sglx_style_datapaths(subject, experiment, condition, \"lf.bin\")\n",
    "    sr_chans_paths = ea.get_sglx_style_datapaths(subject, experiment, condition, \"sr_chans.csv\")\n",
    "    spg_paths = ea.get_sglx_style_datapaths(subject, experiment, condition, \"spg2.nc\")\n",
    "    \n",
    "    for bin_path, sr_chans_path, spg_path in zip(bin_paths, sr_chans_paths, spg_paths):\n",
    "        sr_chans_df = ea.load_sr_chans(sr_chans_path)\n",
    "        epochs = list()\n",
    "        for epoch in sr_chans_df.itertuples():\n",
    "            if not epoch.sr_chans:\n",
    "                continue\n",
    "            cx = load_timeseries(bin_path, cx_chans, start_time=epoch.start_time, end_time=epoch.end_time)\n",
    "            wm = load_timeseries(bin_path, wm_chans, start_time=epoch.start_time, end_time=epoch.end_time)\n",
    "            sr = load_timeseries(bin_path, epoch.sr_chans, start_time=epoch.start_time, end_time=epoch.end_time)\n",
    "\n",
    "            cx_wm_ref = cx - wm.values\n",
    "            sr_wm_ref = sr - wm.values\n",
    "\n",
    "            spgs = xr.Dataset({'mpta_wm_ref': get_spectrogram(cx_wm_ref), \n",
    "                               'sr_wm_ref': get_spectrogram(sr_wm_ref)})\n",
    "            epochs.append(spgs)\n",
    "            \n",
    "        if not epochs:\n",
    "            continue\n",
    "        spgs = xr.concat(epochs, dim=\"time\")\n",
    "        spgs.attrs['file_start'] = cx.fileCreateTime\n",
    "        Path(spg_path).parent.mkdir(parents=True, exist_ok=True) # Create parent directories if they do not already exist.\n",
    "        spgs.to_netcdf(spg_path)\n",
    "        spgs.close()\n",
    "        \n",
    "        current_time = datetime.now().strftime(\"%H:%M:%S\")\n",
    "        print(f\"{current_time}: Finished {str(bin_path)}\")"
   ]
  },
  {
   "cell_type": "code",
   "execution_count": 18,
   "metadata": {
    "execution": {
     "iopub.execute_input": "2021-05-14T19:56:02.019965Z",
     "iopub.status.busy": "2021-05-14T19:56:02.019462Z",
     "iopub.status.idle": "2021-05-14T20:15:13.533825Z",
     "shell.execute_reply": "2021-05-14T20:15:13.533000Z",
     "shell.execute_reply.started": "2021-05-14T19:56:02.019903Z"
    }
   },
   "outputs": [
    {
     "name": "stdout",
     "output_type": "stream",
     "text": [
      "nChan: 385, nFileSamp: 17610153\n",
      "nChan: 385, nFileSamp: 17610153\n",
      "nChan: 385, nFileSamp: 17610153\n",
      "15:00:40: Finished /Volumes/neuropixel_archive/Data/chronic/CNPIX8-Allan/4-20-2021/4.20.2021_g0/4.20.2021_g0_imec0/4.20.2021_g0_t0.imec0.lf.bin\n",
      "nChan: 385, nFileSamp: 17999996\n",
      "nChan: 385, nFileSamp: 17999996\n",
      "nChan: 385, nFileSamp: 17999996\n",
      "15:09:06: Finished /Volumes/neuropixel_archive/Data/chronic/CNPIX8-Allan/4-20-2021/4.20.2021_g1/4.20.2021_g1_imec0/4.20.2021_g1_t0.imec0.lf.bin\n",
      "nChan: 385, nFileSamp: 17999996\n",
      "nChan: 385, nFileSamp: 17999996\n",
      "nChan: 385, nFileSamp: 17999996\n",
      "15:14:49: Finished /Volumes/neuropixel_archive/Data/chronic/CNPIX8-Allan/4-20-2021/4.20.2021_g1/4.20.2021_g1_imec0/4.20.2021_g1_t1.imec0.lf.bin\n",
      "nChan: 385, nFileSamp: 8530138\n",
      "nChan: 385, nFileSamp: 8530138\n",
      "nChan: 385, nFileSamp: 8530138\n",
      "15:15:13: Finished /Volumes/neuropixel_archive/Data/chronic/CNPIX8-Allan/4-20-2021/4.20.2021_g1/4.20.2021_g1_imec0/4.20.2021_g1_t2.imec0.lf.bin\n"
     ]
    }
   ],
   "source": [
    "get_condition_spgs(\"Allan\", \"ketamine\", \"all\", \"imec0\")"
   ]
  },
  {
   "cell_type": "code",
   "execution_count": null,
   "metadata": {},
   "outputs": [],
   "source": []
  }
 ],
 "metadata": {
  "kernelspec": {
   "display_name": "Python 3",
   "language": "python",
   "name": "python3"
  },
  "language_info": {
   "codemirror_mode": {
    "name": "ipython",
    "version": 3
   },
   "file_extension": ".py",
   "mimetype": "text/x-python",
   "name": "python",
   "nbconvert_exporter": "python",
   "pygments_lexer": "ipython3",
   "version": "3.7.9"
  }
 },
 "nbformat": 4,
 "nbformat_minor": 4
}
