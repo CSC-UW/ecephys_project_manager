{
 "cells": [
  {
   "cell_type": "code",
   "execution_count": 1,
   "metadata": {
    "execution": {
     "iopub.execute_input": "2021-04-27T00:24:15.434796Z",
     "iopub.status.busy": "2021-04-27T00:24:15.434675Z",
     "iopub.status.idle": "2021-04-27T00:24:15.442841Z",
     "shell.execute_reply": "2021-04-27T00:24:15.442438Z",
     "shell.execute_reply.started": "2021-04-27T00:24:15.434780Z"
    }
   },
   "outputs": [],
   "source": [
    "%load_ext autoreload\n",
    "%autoreload 2"
   ]
  },
  {
   "cell_type": "markdown",
   "metadata": {},
   "source": [
    "# Imports and definitions"
   ]
  },
  {
   "cell_type": "code",
   "execution_count": 2,
   "metadata": {
    "execution": {
     "iopub.execute_input": "2021-04-27T00:24:16.386128Z",
     "iopub.status.busy": "2021-04-27T00:24:16.385699Z",
     "iopub.status.idle": "2021-04-27T00:24:16.620578Z",
     "shell.execute_reply": "2021-04-27T00:24:16.620090Z",
     "shell.execute_reply.started": "2021-04-27T00:24:16.386073Z"
    }
   },
   "outputs": [],
   "source": [
    "import numpy as np\n",
    "import pandas as pd\n",
    "from datetime import datetime\n",
    "import xarray as xr\n",
    "from pathlib import Path"
   ]
  },
  {
   "cell_type": "code",
   "execution_count": 3,
   "metadata": {
    "execution": {
     "iopub.execute_input": "2021-04-27T00:24:16.657902Z",
     "iopub.status.busy": "2021-04-27T00:24:16.657662Z",
     "iopub.status.idle": "2021-04-27T00:24:16.951313Z",
     "shell.execute_reply": "2021-04-27T00:24:16.950631Z",
     "shell.execute_reply.started": "2021-04-27T00:24:16.657872Z"
    }
   },
   "outputs": [],
   "source": [
    "from ecephys_analyses.data import channel_groups, paths, load\n",
    "from ecephys.sglx_utils import load_timeseries\n",
    "import ecephys.signal.timefrequency as tfr"
   ]
  },
  {
   "cell_type": "code",
   "execution_count": 4,
   "metadata": {
    "execution": {
     "iopub.execute_input": "2021-04-27T00:24:16.966727Z",
     "iopub.status.busy": "2021-04-27T00:24:16.966603Z",
     "iopub.status.idle": "2021-04-27T00:24:16.978421Z",
     "shell.execute_reply": "2021-04-27T00:24:16.977952Z",
     "shell.execute_reply.started": "2021-04-27T00:24:16.966711Z"
    }
   },
   "outputs": [
    {
     "data": {
      "text/plain": [
       "<xarray.core.options.set_options at 0x7fca7460ead0>"
      ]
     },
     "execution_count": 4,
     "metadata": {},
     "output_type": "execute_result"
    }
   ],
   "source": [
    "xr.set_options(keep_attrs=True)"
   ]
  },
  {
   "cell_type": "code",
   "execution_count": 5,
   "metadata": {
    "execution": {
     "iopub.execute_input": "2021-04-27T00:24:17.329816Z",
     "iopub.status.busy": "2021-04-27T00:24:17.329428Z",
     "iopub.status.idle": "2021-04-27T00:24:17.348779Z",
     "shell.execute_reply": "2021-04-27T00:24:17.348108Z",
     "shell.execute_reply.started": "2021-04-27T00:24:17.329766Z"
    }
   },
   "outputs": [],
   "source": [
    "def get_spectrogram(sig, **kwargs):\n",
    "    nperseg = int(4 * sig.fs) # 4 second window\n",
    "    noverlap = nperseg // 4 # 1 second overlap\n",
    "    freqs, spg_times, spg_data = tfr.parallel_spectrogram_welch(sig.values, sig.fs, nperseg=nperseg, noverlap=noverlap, **kwargs)\n",
    "    spg_times = spg_times + sig.time.values.min()\n",
    "    spg = xr.DataArray(\n",
    "        spg_data,\n",
    "        dims=(\"frequency\", \"time\", \"channel\"),\n",
    "        coords={\"frequency\": freqs, \"time\": spg_times, \"channel\": sig.channel.values},\n",
    "        attrs={'units': f\"{sig.units}^2/Hz\", 'file_start': sig.fileCreateTime}\n",
    "    )\n",
    "    return spg.median(dim=\"channel\").sel(frequency=slice(0, 300))"
   ]
  },
  {
   "cell_type": "code",
   "execution_count": 6,
   "metadata": {
    "execution": {
     "iopub.execute_input": "2021-04-27T00:24:22.740566Z",
     "iopub.status.busy": "2021-04-27T00:24:22.740135Z",
     "iopub.status.idle": "2021-04-27T00:24:22.772298Z",
     "shell.execute_reply": "2021-04-27T00:24:22.771593Z",
     "shell.execute_reply.started": "2021-04-27T00:24:22.740511Z"
    }
   },
   "outputs": [],
   "source": [
    "def get_condition_spgs(subject, experiment, condition):\n",
    "    cx_chans = channel_groups.superficial_ctx[subject]\n",
    "    wm_chans = channel_groups.white_matter[subject]\n",
    "    \n",
    "    bin_paths = paths.get_sglx_style_datapaths(subject, experiment, condition, \"lf.bin\")\n",
    "    sr_chans_paths = paths.get_sglx_style_datapaths(subject, experiment, condition, \"sr_chans.csv\")\n",
    "    spg_paths = paths.get_sglx_style_datapaths(subject, experiment, condition, \"spg2.nc\")\n",
    "    \n",
    "    for bin_path, sr_chans_path, spg_path in zip(bin_paths, sr_chans_paths, spg_paths):\n",
    "        sr_chans_df = load.load_sr_chans(sr_chans_path)\n",
    "        epochs = list()\n",
    "        for epoch in sr_chans_df.itertuples():\n",
    "            if epoch.sr_chans is None:\n",
    "                continue\n",
    "            cx = load_timeseries(bin_path, cx_chans, start_time=epoch.start_time, end_time=epoch.end_time)\n",
    "            wm = load_timeseries(bin_path, wm_chans, start_time=epoch.start_time, end_time=epoch.end_time)\n",
    "            sr = load_timeseries(bin_path, epoch.sr_chans, start_time=epoch.start_time, end_time=epoch.end_time)\n",
    "\n",
    "            cx_wm_ref = cx - wm.values\n",
    "            sr_wm_ref = sr - wm.values\n",
    "\n",
    "            spgs = xr.Dataset({'mpta_wm_ref': get_spectrogram(cx_wm_ref), \n",
    "                               'sr_wm_ref': get_spectrogram(sr_wm_ref)})\n",
    "            epochs.append(spgs)\n",
    "            \n",
    "        spgs = xr.concat(epochs, dim=\"time\")\n",
    "        spgs.attrs['file_start'] = cx.fileCreateTime\n",
    "        Path(spg_path).parent.mkdir(parents=True, exist_ok=True) # Create parent directories if they do not already exist.\n",
    "        spgs.to_netcdf(spg_path)\n",
    "        spgs.close()\n",
    "        \n",
    "        current_time = datetime.now().strftime(\"%H:%M:%S\")\n",
    "        print(f\"{current_time}: Finished {str(bin_path)}\")"
   ]
  },
  {
   "cell_type": "code",
   "execution_count": null,
   "metadata": {
    "execution": {
     "iopub.execute_input": "2021-04-27T00:24:26.996469Z",
     "iopub.status.busy": "2021-04-27T00:24:26.996038Z"
    }
   },
   "outputs": [
    {
     "name": "stdout",
     "output_type": "stream",
     "text": [
      "nChan: 385, nFileSamp: 18000000\n",
      "nChan: 385, nFileSamp: 18000000\n",
      "nChan: 385, nFileSamp: 18000000\n",
      "19:31:17: Finished /Volumes/neuropixel_archive/Data/chronic/CNPIX2-Segundo/1-21-2020/1-21-2020_g0/1-21-2020_g0_imec0/1-21-2020_g0_t8.imec0.lf.bin\n",
      "nChan: 385, nFileSamp: 18000000\n",
      "nChan: 385, nFileSamp: 18000000\n",
      "nChan: 385, nFileSamp: 18000000\n",
      "19:37:39: Finished /Volumes/neuropixel_archive/Data/chronic/CNPIX2-Segundo/1-21-2020/1-21-2020_g0/1-21-2020_g0_imec0/1-21-2020_g0_t9.imec0.lf.bin\n",
      "nChan: 385, nFileSamp: 18000000\n",
      "nChan: 385, nFileSamp: 18000000\n",
      "nChan: 385, nFileSamp: 18000000\n",
      "19:44:17: Finished /Volumes/neuropixel_archive/Data/chronic/CNPIX2-Segundo/1-21-2020/1-21-2020_g0/1-21-2020_g0_imec0/1-21-2020_g0_t10.imec0.lf.bin\n",
      "nChan: 385, nFileSamp: 18000000\n",
      "nChan: 385, nFileSamp: 18000000\n",
      "nChan: 385, nFileSamp: 18000000\n",
      "19:51:02: Finished /Volumes/neuropixel_archive/Data/chronic/CNPIX2-Segundo/1-21-2020/1-21-2020_g0/1-21-2020_g0_imec0/1-21-2020_g0_t11.imec0.lf.bin\n",
      "nChan: 385, nFileSamp: 18000000\n",
      "nChan: 385, nFileSamp: 18000000\n",
      "nChan: 385, nFileSamp: 18000000\n",
      "nChan: 385, nFileSamp: 18000000\n",
      "nChan: 385, nFileSamp: 18000000\n",
      "nChan: 385, nFileSamp: 18000000\n",
      "19:58:10: Finished /Volumes/neuropixel_archive/Data/chronic/CNPIX2-Segundo/1-21-2020/1-21-2020_g0/1-21-2020_g0_imec0/1-21-2020_g0_t12.imec0.lf.bin\n",
      "nChan: 385, nFileSamp: 18000000\n",
      "nChan: 385, nFileSamp: 18000000\n"
     ]
    }
   ],
   "source": [
    "get_condition_spgs(\"Segundo\", \"sleep-homeostasis\", \"light-period-circadian-match\")"
   ]
  },
  {
   "cell_type": "code",
   "execution_count": null,
   "metadata": {},
   "outputs": [],
   "source": [
    "get_condition_spgs(\"Segundo\", \"sleep-homeostasis\", \"recovery-sleep\")"
   ]
  },
  {
   "cell_type": "code",
   "execution_count": null,
   "metadata": {},
   "outputs": [],
   "source": [
    "get_condition_spgs(\"Valentino\", \"sleep-homeostasis\", \"light-period-circadian-match\")"
   ]
  },
  {
   "cell_type": "code",
   "execution_count": null,
   "metadata": {},
   "outputs": [],
   "source": [
    "get_condition_spgs(\"Valentino\", \"sleep-homeostasis\", \"recovery-sleep\")"
   ]
  },
  {
   "cell_type": "code",
   "execution_count": null,
   "metadata": {},
   "outputs": [],
   "source": [
    "get_condition_spgs(\"Doppio\", \"sleep-homeostasis\", \"light-period-circadian-match\")"
   ]
  },
  {
   "cell_type": "code",
   "execution_count": null,
   "metadata": {},
   "outputs": [],
   "source": [
    "get_condition_spgs(\"Doppio\", \"sleep-homeostasis\", \"recovery-sleep\")"
   ]
  },
  {
   "cell_type": "code",
   "execution_count": null,
   "metadata": {},
   "outputs": [],
   "source": [
    "get_condition_spgs(\"Alessandro\", \"sleep-homeostasis\", \"light-period-circadian-match\")"
   ]
  },
  {
   "cell_type": "code",
   "execution_count": null,
   "metadata": {},
   "outputs": [],
   "source": [
    "get_condition_spgs(\"Alessandro\", \"sleep-homeostasis\", \"recovery-sleep\")"
   ]
  },
  {
   "cell_type": "code",
   "execution_count": null,
   "metadata": {},
   "outputs": [],
   "source": [
    "get_condition_spgs(\"Allan\", \"sleep-homeostasis\", \"light-period-circadian-match\")"
   ]
  },
  {
   "cell_type": "code",
   "execution_count": null,
   "metadata": {},
   "outputs": [],
   "source": [
    "get_condition_spgs(\"Allan\", \"sleep-homeostasis\", \"recovery-sleep\")"
   ]
  },
  {
   "cell_type": "code",
   "execution_count": null,
   "metadata": {},
   "outputs": [],
   "source": [
    "get_condition_spgs(\"Eugene\", \"sleep-homeostasis\", \"light-period-circadian-match\")"
   ]
  },
  {
   "cell_type": "code",
   "execution_count": null,
   "metadata": {},
   "outputs": [],
   "source": [
    "get_condition_spgs(\"Eugene\", \"sleep-homeostasis\", \"recovery-sleep\")"
   ]
  },
  {
   "cell_type": "code",
   "execution_count": null,
   "metadata": {},
   "outputs": [],
   "source": []
  }
 ],
 "metadata": {
  "kernelspec": {
   "display_name": "Python 3",
   "language": "python",
   "name": "python3"
  },
  "language_info": {
   "codemirror_mode": {
    "name": "ipython",
    "version": 3
   },
   "file_extension": ".py",
   "mimetype": "text/x-python",
   "name": "python",
   "nbconvert_exporter": "python",
   "pygments_lexer": "ipython3",
   "version": "3.7.9"
  }
 },
 "nbformat": 4,
 "nbformat_minor": 4
}
