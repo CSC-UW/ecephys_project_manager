{
 "cells": [
  {
   "cell_type": "code",
   "execution_count": 1,
   "metadata": {
    "execution": {
     "iopub.execute_input": "2021-07-23T21:42:41.472043Z",
     "iopub.status.busy": "2021-07-23T21:42:41.471825Z",
     "iopub.status.idle": "2021-07-23T21:42:41.486766Z",
     "shell.execute_reply": "2021-07-23T21:42:41.486113Z",
     "shell.execute_reply.started": "2021-07-23T21:42:41.472008Z"
    }
   },
   "outputs": [],
   "source": [
    "%load_ext autoreload\n",
    "%autoreload 2"
   ]
  },
  {
   "cell_type": "markdown",
   "metadata": {},
   "source": [
    "# Imports and definitions"
   ]
  },
  {
   "cell_type": "code",
   "execution_count": 2,
   "metadata": {
    "execution": {
     "iopub.execute_input": "2021-07-23T21:42:42.238241Z",
     "iopub.status.busy": "2021-07-23T21:42:42.237972Z",
     "iopub.status.idle": "2021-07-23T21:42:42.510004Z",
     "shell.execute_reply": "2021-07-23T21:42:42.509315Z",
     "shell.execute_reply.started": "2021-07-23T21:42:42.238210Z"
    }
   },
   "outputs": [],
   "source": [
    "from datetime import datetime\n",
    "import xarray as xr\n",
    "from pathlib import Path"
   ]
  },
  {
   "cell_type": "code",
   "execution_count": 3,
   "metadata": {
    "execution": {
     "iopub.execute_input": "2021-07-23T21:42:42.830682Z",
     "iopub.status.busy": "2021-07-23T21:42:42.830396Z",
     "iopub.status.idle": "2021-07-23T21:42:43.204758Z",
     "shell.execute_reply": "2021-07-23T21:42:43.204076Z",
     "shell.execute_reply.started": "2021-07-23T21:42:42.830648Z"
    }
   },
   "outputs": [],
   "source": [
    "import ecephys_analyses as ea\n",
    "from ecephys_analyses.load import load_sr_chans\n",
    "from sglxarray import load_trigger\n",
    "from ecephys.xrsig import parallel_spectrogram_welch"
   ]
  },
  {
   "cell_type": "code",
   "execution_count": 4,
   "metadata": {
    "execution": {
     "iopub.execute_input": "2021-07-23T21:42:43.219997Z",
     "iopub.status.busy": "2021-07-23T21:42:43.219870Z",
     "iopub.status.idle": "2021-07-23T21:42:43.232428Z",
     "shell.execute_reply": "2021-07-23T21:42:43.231858Z",
     "shell.execute_reply.started": "2021-07-23T21:42:43.219981Z"
    }
   },
   "outputs": [
    {
     "data": {
      "text/plain": [
       "<xarray.core.options.set_options at 0x7f6aaa0c8fd0>"
      ]
     },
     "execution_count": 4,
     "metadata": {},
     "output_type": "execute_result"
    }
   ],
   "source": [
    "xr.set_options(keep_attrs=True)"
   ]
  },
  {
   "cell_type": "code",
   "execution_count": 5,
   "metadata": {
    "execution": {
     "iopub.execute_input": "2021-07-23T21:42:43.573609Z",
     "iopub.status.busy": "2021-07-23T21:42:43.573204Z",
     "iopub.status.idle": "2021-07-23T21:42:43.595801Z",
     "shell.execute_reply": "2021-07-23T21:42:43.595037Z",
     "shell.execute_reply.started": "2021-07-23T21:42:43.573558Z"
    }
   },
   "outputs": [],
   "source": [
    "def get_spectrogram(sig, **kwargs):\n",
    "    nperseg = int(4 * sig.fs) # 4 second window\n",
    "    noverlap = nperseg // 4 # 1 second overlap\n",
    "    spg = parallel_spectrogram_welch(sig, nperseg=nperseg, noverlap=noverlap, **kwargs)\n",
    "    return spg.median(dim=\"channel\").sel(frequency=slice(0, 300))"
   ]
  },
  {
   "cell_type": "code",
   "execution_count": 6,
   "metadata": {
    "execution": {
     "iopub.execute_input": "2021-07-23T21:42:43.893476Z",
     "iopub.status.busy": "2021-07-23T21:42:43.893204Z",
     "iopub.status.idle": "2021-07-23T21:42:43.926873Z",
     "shell.execute_reply": "2021-07-23T21:42:43.926302Z",
     "shell.execute_reply.started": "2021-07-23T21:42:43.893443Z"
    }
   },
   "outputs": [],
   "source": [
    "def get_condition_spgs(subject, experiment, condition, probe):\n",
    "    cx_chans = ea.get_channels(subject, experiment, probe, \"superficial_ctx\", asarray=False)\n",
    "    wm_chans = ea.get_channels(subject, experiment, probe, \"white_matter\", asarray=False)\n",
    "    \n",
    "    bin_paths = ea.get_sglx_style_datapaths(subject, experiment, condition, \"lf.bin\")\n",
    "    sr_chans_paths = ea.get_sglx_style_datapaths(subject, experiment, condition, \"sr_chans.csv\")\n",
    "    spg_paths = ea.get_sglx_style_datapaths(subject, experiment, condition, \"spg.nc\")\n",
    "    \n",
    "    for bin_path, sr_chans_path, spg_path in zip(bin_paths, sr_chans_paths, spg_paths):\n",
    "        sr_chans_df = load_sr_chans(sr_chans_path)\n",
    "        epochs = list()\n",
    "        for epoch in sr_chans_df.itertuples():\n",
    "            if not epoch.sr_chans:\n",
    "                continue\n",
    "            cx = load_trigger(bin_path, cx_chans, start_time=epoch.start_time, end_time=epoch.end_time)\n",
    "            wm = load_trigger(bin_path, wm_chans, start_time=epoch.start_time, end_time=epoch.end_time)\n",
    "            sr = load_trigger(bin_path, epoch.sr_chans, start_time=epoch.start_time, end_time=epoch.end_time)\n",
    "\n",
    "            cx_wm_ref = cx - wm.values\n",
    "            sr_wm_ref = sr - wm.values\n",
    "\n",
    "            spgs = xr.Dataset({'mpta_wm_ref': get_spectrogram(cx_wm_ref), \n",
    "                               'sr_wm_ref': get_spectrogram(sr_wm_ref)})\n",
    "            epochs.append(spgs)\n",
    "            \n",
    "        if not epochs:\n",
    "            continue\n",
    "        spgs = xr.concat(epochs, dim=\"time\")\n",
    "        Path(spg_path).parent.mkdir(parents=True, exist_ok=True) # Create parent directories if they do not already exist.\n",
    "        spgs.to_netcdf(spg_path)\n",
    "        spgs.close()\n",
    "        \n",
    "        current_time = datetime.now().strftime(\"%H:%M:%S\")\n",
    "        print(f\"{current_time}: Finished {str(bin_path)}\")"
   ]
  },
  {
   "cell_type": "code",
   "execution_count": null,
   "metadata": {
    "execution": {
     "iopub.execute_input": "2021-07-23T21:42:44.509707Z",
     "iopub.status.busy": "2021-07-23T21:42:44.509486Z"
    }
   },
   "outputs": [
    {
     "name": "stdout",
     "output_type": "stream",
     "text": [
      "nChan: 385, nFileSamp: 18000070\n",
      "nChan: 385, nFileSamp: 18000070\n",
      "nChan: 385, nFileSamp: 18000070\n",
      "16:48:17: Finished /Volumes/neuropixel_archive/Data/chronic/CNPIX9-Luigi/6-20-2021/6-20-2021_g0/6-20-2021_g0_imec0/6-20-2021_g0_t0.imec0.lf.bin\n",
      "nChan: 385, nFileSamp: 18000070\n",
      "nChan: 385, nFileSamp: 18000070\n",
      "nChan: 385, nFileSamp: 18000070\n",
      "16:56:53: Finished /Volumes/neuropixel_archive/Data/chronic/CNPIX9-Luigi/6-20-2021/6-20-2021_g0/6-20-2021_g0_imec0/6-20-2021_g0_t1.imec0.lf.bin\n",
      "nChan: 385, nFileSamp: 18000070\n",
      "nChan: 385, nFileSamp: 18000070\n",
      "nChan: 385, nFileSamp: 18000070\n",
      "17:07:38: Finished /Volumes/neuropixel_archive/Data/chronic/CNPIX9-Luigi/6-20-2021/6-20-2021_g0/6-20-2021_g0_imec0/6-20-2021_g0_t2.imec0.lf.bin\n",
      "nChan: 385, nFileSamp: 18000070\n",
      "nChan: 385, nFileSamp: 18000070\n",
      "nChan: 385, nFileSamp: 18000070\n",
      "17:19:56: Finished /Volumes/neuropixel_archive/Data/chronic/CNPIX9-Luigi/6-20-2021/6-20-2021_g0/6-20-2021_g0_imec0/6-20-2021_g0_t3.imec0.lf.bin\n",
      "nChan: 385, nFileSamp: 18000070\n",
      "nChan: 385, nFileSamp: 18000070\n"
     ]
    }
   ],
   "source": [
    "get_condition_spgs(\"Luigi\", \"sleep-homeostasis\", \"all\", \"imec0\")"
   ]
  },
  {
   "cell_type": "code",
   "execution_count": null,
   "metadata": {},
   "outputs": [],
   "source": []
  }
 ],
 "metadata": {
  "kernelspec": {
   "display_name": "Python 3 (ipykernel)",
   "language": "python",
   "name": "python3"
  },
  "language_info": {
   "codemirror_mode": {
    "name": "ipython",
    "version": 3
   },
   "file_extension": ".py",
   "mimetype": "text/x-python",
   "name": "python",
   "nbconvert_exporter": "python",
   "pygments_lexer": "ipython3",
   "version": "3.7.10"
  }
 },
 "nbformat": 4,
 "nbformat_minor": 4
}
