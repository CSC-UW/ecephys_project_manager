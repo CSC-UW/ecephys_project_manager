{
 "cells": [
  {
   "cell_type": "code",
   "execution_count": 1,
   "metadata": {
    "execution": {
     "iopub.execute_input": "2021-08-12T15:49:04.869014Z",
     "iopub.status.busy": "2021-08-12T15:49:04.868469Z",
     "iopub.status.idle": "2021-08-12T15:49:04.888161Z",
     "shell.execute_reply": "2021-08-12T15:49:04.887574Z",
     "shell.execute_reply.started": "2021-08-12T15:49:04.868895Z"
    },
    "tags": []
   },
   "outputs": [],
   "source": [
    "%load_ext autoreload\n",
    "%autoreload 2"
   ]
  },
  {
   "cell_type": "markdown",
   "metadata": {},
   "source": [
    "# Imports and definitions"
   ]
  },
  {
   "cell_type": "code",
   "execution_count": 2,
   "metadata": {
    "execution": {
     "iopub.execute_input": "2021-08-12T15:49:05.440961Z",
     "iopub.status.busy": "2021-08-12T15:49:05.440534Z",
     "iopub.status.idle": "2021-08-12T15:49:06.083343Z",
     "shell.execute_reply": "2021-08-12T15:49:06.082665Z",
     "shell.execute_reply.started": "2021-08-12T15:49:05.440922Z"
    },
    "tags": []
   },
   "outputs": [],
   "source": [
    "from datetime import datetime\n",
    "import xarray as xr\n",
    "from pathlib import Path"
   ]
  },
  {
   "cell_type": "code",
   "execution_count": 3,
   "metadata": {
    "execution": {
     "iopub.execute_input": "2021-08-12T15:49:06.084476Z",
     "iopub.status.busy": "2021-08-12T15:49:06.084228Z",
     "iopub.status.idle": "2021-08-12T15:49:06.541764Z",
     "shell.execute_reply": "2021-08-12T15:49:06.540868Z",
     "shell.execute_reply.started": "2021-08-12T15:49:06.084459Z"
    },
    "tags": []
   },
   "outputs": [],
   "source": [
    "import ecephys_analyses as ea\n",
    "from ecephys_analyses.load import load_sr_chans\n",
    "from sglxarray import load_trigger\n",
    "from ecephys.xrsig import parallel_spectrogram_welch"
   ]
  },
  {
   "cell_type": "code",
   "execution_count": 4,
   "metadata": {
    "execution": {
     "iopub.execute_input": "2021-08-12T15:49:06.543152Z",
     "iopub.status.busy": "2021-08-12T15:49:06.542996Z",
     "iopub.status.idle": "2021-08-12T15:49:06.560630Z",
     "shell.execute_reply": "2021-08-12T15:49:06.559798Z",
     "shell.execute_reply.started": "2021-08-12T15:49:06.543136Z"
    },
    "tags": []
   },
   "outputs": [
    {
     "data": {
      "text/plain": [
       "<xarray.core.options.set_options at 0x7f0ec4723210>"
      ]
     },
     "execution_count": 4,
     "metadata": {},
     "output_type": "execute_result"
    }
   ],
   "source": [
    "xr.set_options(keep_attrs=True)"
   ]
  },
  {
   "cell_type": "code",
   "execution_count": 5,
   "metadata": {
    "execution": {
     "iopub.execute_input": "2021-08-12T15:49:06.561736Z",
     "iopub.status.busy": "2021-08-12T15:49:06.561582Z",
     "iopub.status.idle": "2021-08-12T15:49:06.575565Z",
     "shell.execute_reply": "2021-08-12T15:49:06.574757Z",
     "shell.execute_reply.started": "2021-08-12T15:49:06.561720Z"
    },
    "tags": []
   },
   "outputs": [],
   "source": [
    "def get_spectrogram(sig, **kwargs):\n",
    "    nperseg = int(4 * sig.fs) # 4 second window\n",
    "    noverlap = nperseg // 4 # 1 second overlap\n",
    "    spg = parallel_spectrogram_welch(sig, nperseg=nperseg, noverlap=noverlap, **kwargs)\n",
    "    return spg.median(dim=\"channel\").sel(frequency=slice(0, 300))"
   ]
  },
  {
   "cell_type": "code",
   "execution_count": 6,
   "metadata": {
    "execution": {
     "iopub.execute_input": "2021-08-12T15:49:06.904731Z",
     "iopub.status.busy": "2021-08-12T15:49:06.904348Z",
     "iopub.status.idle": "2021-08-12T15:49:06.926872Z",
     "shell.execute_reply": "2021-08-12T15:49:06.926043Z",
     "shell.execute_reply.started": "2021-08-12T15:49:06.904699Z"
    },
    "tags": []
   },
   "outputs": [],
   "source": [
    "def get_condition_spgs(subject, experiment, condition, probe):\n",
    "    cx_chans = ea.get_channels(subject, experiment, probe, \"superficial_ctx\", asarray=False)\n",
    "    wm_chans = ea.get_channels(subject, experiment, probe, \"white_matter\", asarray=False)\n",
    "    \n",
    "    bin_paths = ea.get_sglx_style_datapaths(subject, experiment, condition, \"lf.bin\")\n",
    "    sr_chans_paths = ea.get_sglx_style_datapaths(subject, experiment, condition, \"sr_chans.csv\")\n",
    "    spg_paths = ea.get_sglx_style_datapaths(subject, experiment, condition, \"spg.nc\")\n",
    "    \n",
    "    for bin_path, sr_chans_path, spg_path in zip(bin_paths, sr_chans_paths, spg_paths):\n",
    "        sr_chans_df = load_sr_chans(sr_chans_path)\n",
    "        epochs = list()\n",
    "        for epoch in sr_chans_df.itertuples():\n",
    "            if not epoch.sr_chans:\n",
    "                continue\n",
    "            cx = load_trigger(bin_path, cx_chans, start_time=epoch.start_time, end_time=epoch.end_time)\n",
    "            wm = load_trigger(bin_path, wm_chans, start_time=epoch.start_time, end_time=epoch.end_time)\n",
    "            sr = load_trigger(bin_path, epoch.sr_chans, start_time=epoch.start_time, end_time=epoch.end_time)\n",
    "\n",
    "            cx_wm_ref = cx - wm.values\n",
    "            sr_wm_ref = sr - wm.values\n",
    "\n",
    "            spgs = xr.Dataset({'mpta_wm_ref': get_spectrogram(cx_wm_ref), \n",
    "                               'sr_wm_ref': get_spectrogram(sr_wm_ref)})\n",
    "            epochs.append(spgs)\n",
    "            \n",
    "        if not epochs:\n",
    "            continue\n",
    "        spgs = xr.concat(epochs, dim=\"time\")\n",
    "        Path(spg_path).parent.mkdir(parents=True, exist_ok=True) # Create parent directories if they do not already exist.\n",
    "        spgs.to_netcdf(spg_path)\n",
    "        spgs.close()\n",
    "        \n",
    "        current_time = datetime.now().strftime(\"%H:%M:%S\")\n",
    "        print(f\"{current_time}: Finished {str(bin_path)}\")"
   ]
  },
  {
   "cell_type": "code",
   "execution_count": 12,
   "metadata": {
    "execution": {
     "iopub.execute_input": "2021-08-13T17:37:23.820980Z",
     "iopub.status.busy": "2021-08-13T17:37:23.820540Z",
     "iopub.status.idle": "2021-08-13T17:39:11.649056Z",
     "shell.execute_reply": "2021-08-13T17:39:11.648205Z",
     "shell.execute_reply.started": "2021-08-13T17:37:23.820927Z"
    },
    "tags": []
   },
   "outputs": [
    {
     "name": "stdout",
     "output_type": "stream",
     "text": [
      "nChan: 385, nFileSamp: 7122380\n",
      "nChan: 385, nFileSamp: 7122380\n",
      "nChan: 385, nFileSamp: 7122380\n",
      "12:38:38: Finished /Volumes/neuropixel_archive/Data/chronic/CNPIX5-Alessandro/9-2-2020/9-2-2020_Dex_g0/9-2-2020_Dex_g0_imec0/9-2-2020_Dex_g0_t0.imec0.lf.bin\n",
      "nChan: 385, nFileSamp: 3753750\n",
      "nChan: 385, nFileSamp: 3753750\n",
      "nChan: 385, nFileSamp: 3753750\n",
      "12:39:11: Finished /Volumes/neuropixel_archive/Data/chronic/CNPIX5-Alessandro/9-2-2020/9-2-2020_Dex_g1/9-2-2020_Dex_g1_imec0/9-2-2020_Dex_g1_t0.imec0.lf.bin\n"
     ]
    }
   ],
   "source": [
    "get_condition_spgs(\"Alessandro\", \"dexmedetomidine-eStim\", \"all\", \"imec0\")"
   ]
  },
  {
   "cell_type": "code",
   "execution_count": null,
   "metadata": {},
   "outputs": [],
   "source": []
  }
 ],
 "metadata": {
  "kernelspec": {
   "display_name": "Python 3 (ipykernel)",
   "language": "python",
   "name": "python3"
  },
  "language_info": {
   "codemirror_mode": {
    "name": "ipython",
    "version": 3
   },
   "file_extension": ".py",
   "mimetype": "text/x-python",
   "name": "python",
   "nbconvert_exporter": "python",
   "pygments_lexer": "ipython3",
   "version": "3.7.10"
  }
 },
 "nbformat": 4,
 "nbformat_minor": 4
}
