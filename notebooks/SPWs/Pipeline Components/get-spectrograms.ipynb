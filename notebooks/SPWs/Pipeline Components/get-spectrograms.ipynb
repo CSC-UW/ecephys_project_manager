{
 "cells": [
  {
   "cell_type": "code",
   "execution_count": 1,
   "metadata": {
    "execution": {
     "iopub.execute_input": "2021-04-27T22:26:49.521258Z",
     "iopub.status.busy": "2021-04-27T22:26:49.520998Z",
     "iopub.status.idle": "2021-04-27T22:26:49.548929Z",
     "shell.execute_reply": "2021-04-27T22:26:49.547652Z",
     "shell.execute_reply.started": "2021-04-27T22:26:49.521229Z"
    }
   },
   "outputs": [],
   "source": [
    "%load_ext autoreload\n",
    "%autoreload 2"
   ]
  },
  {
   "cell_type": "markdown",
   "metadata": {},
   "source": [
    "# Imports and definitions"
   ]
  },
  {
   "cell_type": "code",
   "execution_count": 2,
   "metadata": {
    "execution": {
     "iopub.execute_input": "2021-04-27T22:26:50.423064Z",
     "iopub.status.busy": "2021-04-27T22:26:50.422451Z",
     "iopub.status.idle": "2021-04-27T22:26:50.732140Z",
     "shell.execute_reply": "2021-04-27T22:26:50.731049Z",
     "shell.execute_reply.started": "2021-04-27T22:26:50.422998Z"
    }
   },
   "outputs": [],
   "source": [
    "import numpy as np\n",
    "import pandas as pd\n",
    "from datetime import datetime\n",
    "import xarray as xr\n",
    "from pathlib import Path"
   ]
  },
  {
   "cell_type": "code",
   "execution_count": 3,
   "metadata": {
    "execution": {
     "iopub.execute_input": "2021-04-27T22:26:50.745922Z",
     "iopub.status.busy": "2021-04-27T22:26:50.745799Z",
     "iopub.status.idle": "2021-04-27T22:26:51.050276Z",
     "shell.execute_reply": "2021-04-27T22:26:51.049478Z",
     "shell.execute_reply.started": "2021-04-27T22:26:50.745907Z"
    }
   },
   "outputs": [],
   "source": [
    "from ecephys_analyses.data import channel_groups, paths, load\n",
    "from ecephys.sglx_utils import load_timeseries\n",
    "import ecephys.signal.timefrequency as tfr"
   ]
  },
  {
   "cell_type": "code",
   "execution_count": 4,
   "metadata": {
    "execution": {
     "iopub.execute_input": "2021-04-27T22:26:51.051444Z",
     "iopub.status.busy": "2021-04-27T22:26:51.051296Z",
     "iopub.status.idle": "2021-04-27T22:26:51.065387Z",
     "shell.execute_reply": "2021-04-27T22:26:51.064755Z",
     "shell.execute_reply.started": "2021-04-27T22:26:51.051426Z"
    }
   },
   "outputs": [
    {
     "data": {
      "text/plain": [
       "<xarray.core.options.set_options at 0x7fd4b1adf0d0>"
      ]
     },
     "execution_count": 4,
     "metadata": {},
     "output_type": "execute_result"
    }
   ],
   "source": [
    "xr.set_options(keep_attrs=True)"
   ]
  },
  {
   "cell_type": "code",
   "execution_count": 5,
   "metadata": {
    "execution": {
     "iopub.execute_input": "2021-04-27T22:26:51.079689Z",
     "iopub.status.busy": "2021-04-27T22:26:51.079567Z",
     "iopub.status.idle": "2021-04-27T22:26:51.091706Z",
     "shell.execute_reply": "2021-04-27T22:26:51.090893Z",
     "shell.execute_reply.started": "2021-04-27T22:26:51.079673Z"
    }
   },
   "outputs": [],
   "source": [
    "def get_spectrogram(sig, **kwargs):\n",
    "    nperseg = int(4 * sig.fs) # 4 second window\n",
    "    noverlap = nperseg // 4 # 1 second overlap\n",
    "    freqs, spg_times, spg_data = tfr.parallel_spectrogram_welch(sig.values, sig.fs, nperseg=nperseg, noverlap=noverlap, **kwargs)\n",
    "    spg_times = spg_times + sig.time.values.min()\n",
    "    spg = xr.DataArray(\n",
    "        spg_data,\n",
    "        dims=(\"frequency\", \"time\", \"channel\"),\n",
    "        coords={\"frequency\": freqs, \"time\": spg_times, \"channel\": sig.channel.values},\n",
    "        attrs={'units': f\"{sig.units}^2/Hz\", 'file_start': sig.fileCreateTime}\n",
    "    )\n",
    "    return spg.median(dim=\"channel\").sel(frequency=slice(0, 300))"
   ]
  },
  {
   "cell_type": "code",
   "execution_count": 6,
   "metadata": {
    "execution": {
     "iopub.execute_input": "2021-04-27T22:26:51.169887Z",
     "iopub.status.busy": "2021-04-27T22:26:51.169766Z",
     "iopub.status.idle": "2021-04-27T22:26:51.194091Z",
     "shell.execute_reply": "2021-04-27T22:26:51.193423Z",
     "shell.execute_reply.started": "2021-04-27T22:26:51.169872Z"
    }
   },
   "outputs": [],
   "source": [
    "def get_condition_spgs(subject, experiment, condition):\n",
    "    cx_chans = channel_groups.superficial_ctx[subject]\n",
    "    wm_chans = channel_groups.white_matter[subject]\n",
    "    \n",
    "    bin_paths = paths.get_sglx_style_datapaths(subject, experiment, condition, \"lf.bin\")\n",
    "    sr_chans_paths = paths.get_sglx_style_datapaths(subject, experiment, condition, \"sr_chans.csv\")\n",
    "    spg_paths = paths.get_sglx_style_datapaths(subject, experiment, condition, \"spg2.nc\")\n",
    "    \n",
    "    for bin_path, sr_chans_path, spg_path in zip(bin_paths, sr_chans_paths, spg_paths):\n",
    "        sr_chans_df = load.load_sr_chans(sr_chans_path)\n",
    "        epochs = list()\n",
    "        for epoch in sr_chans_df.itertuples():\n",
    "            if not epoch.sr_chans:\n",
    "                continue\n",
    "            cx = load_timeseries(bin_path, cx_chans, start_time=epoch.start_time, end_time=epoch.end_time)\n",
    "            wm = load_timeseries(bin_path, wm_chans, start_time=epoch.start_time, end_time=epoch.end_time)\n",
    "            sr = load_timeseries(bin_path, epoch.sr_chans, start_time=epoch.start_time, end_time=epoch.end_time)\n",
    "\n",
    "            cx_wm_ref = cx - wm.values\n",
    "            sr_wm_ref = sr - wm.values\n",
    "\n",
    "            spgs = xr.Dataset({'mpta_wm_ref': get_spectrogram(cx_wm_ref), \n",
    "                               'sr_wm_ref': get_spectrogram(sr_wm_ref)})\n",
    "            epochs.append(spgs)\n",
    "            \n",
    "        if not epochs:\n",
    "            continue\n",
    "        spgs = xr.concat(epochs, dim=\"time\")\n",
    "        spgs.attrs['file_start'] = cx.fileCreateTime\n",
    "        Path(spg_path).parent.mkdir(parents=True, exist_ok=True) # Create parent directories if they do not already exist.\n",
    "        spgs.to_netcdf(spg_path)\n",
    "        spgs.close()\n",
    "        \n",
    "        current_time = datetime.now().strftime(\"%H:%M:%S\")\n",
    "        print(f\"{current_time}: Finished {str(bin_path)}\")"
   ]
  }
 ],
 "metadata": {
  "kernelspec": {
   "display_name": "Python 3",
   "language": "python",
   "name": "python3"
  },
  "language_info": {
   "codemirror_mode": {
    "name": "ipython",
    "version": 3
   },
   "file_extension": ".py",
   "mimetype": "text/x-python",
   "name": "python",
   "nbconvert_exporter": "python",
   "pygments_lexer": "ipython3",
   "version": "3.7.9"
  }
 },
 "nbformat": 4,
 "nbformat_minor": 4
}
