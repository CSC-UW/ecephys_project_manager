{
 "cells": [
  {
   "cell_type": "code",
   "execution_count": 1,
   "metadata": {
    "execution": {
     "iopub.execute_input": "2021-05-05T18:17:33.191286Z",
     "iopub.status.busy": "2021-05-05T18:17:33.191163Z",
     "iopub.status.idle": "2021-05-05T18:17:33.199851Z",
     "shell.execute_reply": "2021-05-05T18:17:33.199399Z",
     "shell.execute_reply.started": "2021-05-05T18:17:33.191270Z"
    }
   },
   "outputs": [],
   "source": [
    "%load_ext autoreload\n",
    "%autoreload 2"
   ]
  },
  {
   "cell_type": "markdown",
   "metadata": {},
   "source": [
    "# Imports and definitions"
   ]
  },
  {
   "cell_type": "code",
   "execution_count": 2,
   "metadata": {
    "execution": {
     "iopub.execute_input": "2021-05-05T18:17:33.914217Z",
     "iopub.status.busy": "2021-05-05T18:17:33.913913Z",
     "iopub.status.idle": "2021-05-05T18:17:34.189890Z",
     "shell.execute_reply": "2021-05-05T18:17:34.189055Z",
     "shell.execute_reply.started": "2021-05-05T18:17:33.914180Z"
    }
   },
   "outputs": [],
   "source": [
    "import numpy as np\n",
    "import pandas as pd\n",
    "from datetime import datetime\n",
    "import xarray as xr\n",
    "from pathlib import Path"
   ]
  },
  {
   "cell_type": "code",
   "execution_count": 3,
   "metadata": {
    "execution": {
     "iopub.execute_input": "2021-05-05T18:17:34.345779Z",
     "iopub.status.busy": "2021-05-05T18:17:34.345464Z",
     "iopub.status.idle": "2021-05-05T18:17:34.664900Z",
     "shell.execute_reply": "2021-05-05T18:17:34.664213Z",
     "shell.execute_reply.started": "2021-05-05T18:17:34.345741Z"
    }
   },
   "outputs": [],
   "source": [
    "import ecephys_analyses as ea\n",
    "from ecephys.sglx_utils import load_timeseries\n",
    "import ecephys.signal.timefrequency as tfr"
   ]
  },
  {
   "cell_type": "code",
   "execution_count": 4,
   "metadata": {
    "execution": {
     "iopub.execute_input": "2021-05-05T18:17:34.679779Z",
     "iopub.status.busy": "2021-05-05T18:17:34.679653Z",
     "iopub.status.idle": "2021-05-05T18:17:34.691540Z",
     "shell.execute_reply": "2021-05-05T18:17:34.691055Z",
     "shell.execute_reply.started": "2021-05-05T18:17:34.679763Z"
    }
   },
   "outputs": [
    {
     "data": {
      "text/plain": [
       "<xarray.core.options.set_options at 0x7f9c6da84b10>"
      ]
     },
     "execution_count": 4,
     "metadata": {},
     "output_type": "execute_result"
    }
   ],
   "source": [
    "xr.set_options(keep_attrs=True)"
   ]
  },
  {
   "cell_type": "code",
   "execution_count": 5,
   "metadata": {
    "execution": {
     "iopub.execute_input": "2021-05-05T18:17:34.889984Z",
     "iopub.status.busy": "2021-05-05T18:17:34.889750Z",
     "iopub.status.idle": "2021-05-05T18:17:34.910954Z",
     "shell.execute_reply": "2021-05-05T18:17:34.910193Z",
     "shell.execute_reply.started": "2021-05-05T18:17:34.889958Z"
    }
   },
   "outputs": [],
   "source": [
    "def get_spectrogram(sig, **kwargs):\n",
    "    nperseg = int(4 * sig.fs) # 4 second window\n",
    "    noverlap = nperseg // 4 # 1 second overlap\n",
    "    freqs, spg_times, spg_data = tfr.parallel_spectrogram_welch(sig.values, sig.fs, nperseg=nperseg, noverlap=noverlap, **kwargs)\n",
    "    spg_times = spg_times + sig.time.values.min()\n",
    "    spg = xr.DataArray(\n",
    "        spg_data,\n",
    "        dims=(\"frequency\", \"time\", \"channel\"),\n",
    "        coords={\"frequency\": freqs, \"time\": spg_times, \"channel\": sig.channel.values},\n",
    "        attrs={'units': f\"{sig.units}^2/Hz\", 'file_start': sig.fileCreateTime}\n",
    "    )\n",
    "    return spg.median(dim=\"channel\").sel(frequency=slice(0, 300))"
   ]
  },
  {
   "cell_type": "code",
   "execution_count": 6,
   "metadata": {
    "execution": {
     "iopub.execute_input": "2021-05-05T18:17:35.218221Z",
     "iopub.status.busy": "2021-05-05T18:17:35.217987Z",
     "iopub.status.idle": "2021-05-05T18:17:35.253867Z",
     "shell.execute_reply": "2021-05-05T18:17:35.253068Z",
     "shell.execute_reply.started": "2021-05-05T18:17:35.218195Z"
    }
   },
   "outputs": [],
   "source": [
    "def get_condition_spgs(subject, experiment, condition, probe):\n",
    "    cx_chans = ea.get_channels(subject, experiment, probe, \"superficial_ctx\", asarray=False)\n",
    "    wm_chans = ea.get_channels(subject, experiment, probe, \"white_matter\", asarray=False)\n",
    "    \n",
    "    bin_paths = ea.get_sglx_style_datapaths(subject, experiment, condition, \"lf.bin\")\n",
    "    sr_chans_paths = ea.get_sglx_style_datapaths(subject, experiment, condition, \"sr_chans.csv\")\n",
    "    spg_paths = ea.get_sglx_style_datapaths(subject, experiment, condition, \"spg2.nc\")\n",
    "    \n",
    "    for bin_path, sr_chans_path, spg_path in zip(bin_paths, sr_chans_paths, spg_paths):\n",
    "        sr_chans_df = ea.load_sr_chans(sr_chans_path)\n",
    "        epochs = list()\n",
    "        for epoch in sr_chans_df.itertuples():\n",
    "            if not epoch.sr_chans:\n",
    "                continue\n",
    "            cx = load_timeseries(bin_path, cx_chans, start_time=epoch.start_time, end_time=epoch.end_time)\n",
    "            wm = load_timeseries(bin_path, wm_chans, start_time=epoch.start_time, end_time=epoch.end_time)\n",
    "            sr = load_timeseries(bin_path, epoch.sr_chans, start_time=epoch.start_time, end_time=epoch.end_time)\n",
    "\n",
    "            cx_wm_ref = cx - wm.values\n",
    "            sr_wm_ref = sr - wm.values\n",
    "\n",
    "            spgs = xr.Dataset({'mpta_wm_ref': get_spectrogram(cx_wm_ref), \n",
    "                               'sr_wm_ref': get_spectrogram(sr_wm_ref)})\n",
    "            epochs.append(spgs)\n",
    "            \n",
    "        if not epochs:\n",
    "            continue\n",
    "        spgs = xr.concat(epochs, dim=\"time\")\n",
    "        spgs.attrs['file_start'] = cx.fileCreateTime\n",
    "        Path(spg_path).parent.mkdir(parents=True, exist_ok=True) # Create parent directories if they do not already exist.\n",
    "        spgs.to_netcdf(spg_path)\n",
    "        spgs.close()\n",
    "        \n",
    "        current_time = datetime.now().strftime(\"%H:%M:%S\")\n",
    "        print(f\"{current_time}: Finished {str(bin_path)}\")"
   ]
  },
  {
   "cell_type": "code",
   "execution_count": 7,
   "metadata": {
    "execution": {
     "iopub.execute_input": "2021-05-05T18:17:39.959412Z",
     "iopub.status.busy": "2021-05-05T18:17:39.958919Z",
     "iopub.status.idle": "2021-05-05T18:35:30.328102Z",
     "shell.execute_reply": "2021-05-05T18:35:30.326914Z",
     "shell.execute_reply.started": "2021-05-05T18:17:39.959352Z"
    }
   },
   "outputs": [
    {
     "name": "stdout",
     "output_type": "stream",
     "text": [
      "nChan: 385, nFileSamp: 17644049\n",
      "nChan: 385, nFileSamp: 17644049\n",
      "nChan: 385, nFileSamp: 17644049\n",
      "13:21:38: Finished /Volumes/neuropixel_archive/Data/chronic/CNPIX8-Allan/4-16-2021/4.16.2021_g0/4.16.2021_g0_imec0/4.16.2021_g0_t0.imec0.lf.bin\n",
      "nChan: 385, nFileSamp: 17999996\n",
      "nChan: 385, nFileSamp: 17999996\n",
      "nChan: 385, nFileSamp: 17999996\n",
      "13:26:44: Finished /Volumes/neuropixel_archive/Data/chronic/CNPIX8-Allan/4-16-2021/4.16.2021_g1/4.16.2021_g1_imec0/4.16.2021_g1_t0.imec0.lf.bin\n",
      "nChan: 385, nFileSamp: 17999996\n",
      "nChan: 385, nFileSamp: 17999996\n",
      "nChan: 385, nFileSamp: 17999996\n",
      "13:34:06: Finished /Volumes/neuropixel_archive/Data/chronic/CNPIX8-Allan/4-16-2021/4.16.2021_g1/4.16.2021_g1_imec0/4.16.2021_g1_t1.imec0.lf.bin\n",
      "nChan: 385, nFileSamp: 6268558\n",
      "nChan: 385, nFileSamp: 6268558\n",
      "nChan: 385, nFileSamp: 6268558\n",
      "13:35:30: Finished /Volumes/neuropixel_archive/Data/chronic/CNPIX8-Allan/4-16-2021/4.16.2021_g1/4.16.2021_g1_imec0/4.16.2021_g1_t2.imec0.lf.bin\n"
     ]
    }
   ],
   "source": [
    "get_condition_spgs(\"Allan\", \"atropine\", \"all\", \"imec0\")"
   ]
  },
  {
   "cell_type": "code",
   "execution_count": null,
   "metadata": {},
   "outputs": [],
   "source": []
  }
 ],
 "metadata": {
  "kernelspec": {
   "display_name": "Python 3",
   "language": "python",
   "name": "python3"
  },
  "language_info": {
   "codemirror_mode": {
    "name": "ipython",
    "version": 3
   },
   "file_extension": ".py",
   "mimetype": "text/x-python",
   "name": "python",
   "nbconvert_exporter": "python",
   "pygments_lexer": "ipython3",
   "version": "3.7.9"
  }
 },
 "nbformat": 4,
 "nbformat_minor": 4
}
