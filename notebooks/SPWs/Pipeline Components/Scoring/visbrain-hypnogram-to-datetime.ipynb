{
 "cells": [
  {
   "cell_type": "code",
   "execution_count": 1,
   "metadata": {
    "execution": {
     "iopub.execute_input": "2021-08-10T18:38:04.289470Z",
     "iopub.status.busy": "2021-08-10T18:38:04.288886Z",
     "iopub.status.idle": "2021-08-10T18:38:04.310726Z",
     "shell.execute_reply": "2021-08-10T18:38:04.310112Z",
     "shell.execute_reply.started": "2021-08-10T18:38:04.289312Z"
    },
    "tags": []
   },
   "outputs": [],
   "source": [
    "%load_ext autoreload\n",
    "%autoreload 2"
   ]
  },
  {
   "cell_type": "code",
   "execution_count": 2,
   "metadata": {
    "execution": {
     "iopub.execute_input": "2021-08-10T18:38:04.698551Z",
     "iopub.status.busy": "2021-08-10T18:38:04.698072Z",
     "iopub.status.idle": "2021-08-10T18:38:04.900489Z",
     "shell.execute_reply": "2021-08-10T18:38:04.899731Z",
     "shell.execute_reply.started": "2021-08-10T18:38:04.698490Z"
    },
    "tags": []
   },
   "outputs": [],
   "source": [
    "import pandas as pd"
   ]
  },
  {
   "cell_type": "code",
   "execution_count": 3,
   "metadata": {
    "execution": {
     "iopub.execute_input": "2021-08-10T18:38:05.155081Z",
     "iopub.status.busy": "2021-08-10T18:38:05.154564Z",
     "iopub.status.idle": "2021-08-10T18:38:05.946174Z",
     "shell.execute_reply": "2021-08-10T18:38:05.945512Z",
     "shell.execute_reply.started": "2021-08-10T18:38:05.155032Z"
    },
    "tags": []
   },
   "outputs": [],
   "source": [
    "import hypnogram as hg\n",
    "from sglxarray import load_trigger\n",
    "import ecephys_analyses as ea"
   ]
  },
  {
   "cell_type": "code",
   "execution_count": 4,
   "metadata": {
    "execution": {
     "iopub.execute_input": "2021-08-10T18:38:05.947358Z",
     "iopub.status.busy": "2021-08-10T18:38:05.947097Z",
     "iopub.status.idle": "2021-08-10T18:38:05.963836Z",
     "shell.execute_reply": "2021-08-10T18:38:05.963285Z",
     "shell.execute_reply.started": "2021-08-10T18:38:05.947341Z"
    },
    "tags": []
   },
   "outputs": [],
   "source": [
    "def write_condition(subject, experiment, condition):\n",
    "    hypnogram_paths = ea.get_sglx_style_datapaths(subject, experiment, condition, ext=\"hypnogram.txt\")\n",
    "    bin_paths = ea.get_sglx_style_datapaths(subject, experiment, condition, ext=\"lf.bin\")\n",
    "    hypnogram_dt_paths = ea.get_sglx_style_datapaths(subject, experiment, condition, ext=\"hypnogram.tsv\")\n",
    "    \n",
    "    hypnograms = [hg.load_visbrain_hypnogram(path) for path in hypnogram_paths]\n",
    "    sigs = [load_trigger(path, chans=[0], start_time=0, end_time=1) for path in bin_paths]\n",
    "    \n",
    "    for sig, hypnogram, hypnogram_dt_path in zip(sigs, hypnograms, hypnogram_dt_paths):\n",
    "        file_start_dt = pd.to_datetime(sig.datetime.values.min())\n",
    "        hypnogram_dt = hypnogram.as_datetime(file_start_dt)\n",
    "        hypnogram_dt.write(hypnogram_dt_path)"
   ]
  },
  {
   "cell_type": "code",
   "execution_count": 7,
   "metadata": {
    "execution": {
     "iopub.execute_input": "2021-08-10T19:31:26.326482Z",
     "iopub.status.busy": "2021-08-10T19:31:26.325986Z",
     "iopub.status.idle": "2021-08-10T19:31:42.927154Z",
     "shell.execute_reply": "2021-08-10T19:31:42.926337Z",
     "shell.execute_reply.started": "2021-08-10T19:31:26.326440Z"
    },
    "tags": []
   },
   "outputs": [
    {
     "name": "stdout",
     "output_type": "stream",
     "text": [
      "nChan: 385, nFileSamp: 18000031\n",
      "nChan: 385, nFileSamp: 18000031\n",
      "nChan: 385, nFileSamp: 18000032\n",
      "nChan: 385, nFileSamp: 18000031\n",
      "nChan: 385, nFileSamp: 18000032\n",
      "nChan: 385, nFileSamp: 18000032\n",
      "nChan: 385, nFileSamp: 18000031\n",
      "nChan: 385, nFileSamp: 18000032\n",
      "nChan: 385, nFileSamp: 18000031\n",
      "nChan: 385, nFileSamp: 18000031\n",
      "nChan: 385, nFileSamp: 18000032\n",
      "nChan: 385, nFileSamp: 1825006\n",
      "nChan: 385, nFileSamp: 18000032\n",
      "nChan: 385, nFileSamp: 18000032\n",
      "nChan: 385, nFileSamp: 15007083\n",
      "nChan: 385, nFileSamp: 18000032\n",
      "nChan: 385, nFileSamp: 18000031\n",
      "nChan: 385, nFileSamp: 18000031\n",
      "nChan: 385, nFileSamp: 18000032\n",
      "nChan: 385, nFileSamp: 18000032\n",
      "nChan: 385, nFileSamp: 18000031\n",
      "nChan: 385, nFileSamp: 18000032\n",
      "nChan: 385, nFileSamp: 18000032\n",
      "nChan: 385, nFileSamp: 4731969\n"
     ]
    }
   ],
   "source": [
    "write_condition(\"Charles\", \"sleep-homeostasis\", \"all\")"
   ]
  },
  {
   "cell_type": "code",
   "execution_count": null,
   "metadata": {},
   "outputs": [],
   "source": []
  }
 ],
 "metadata": {
  "kernelspec": {
   "display_name": "Python 3 (ipykernel)",
   "language": "python",
   "name": "python3"
  },
  "language_info": {
   "codemirror_mode": {
    "name": "ipython",
    "version": 3
   },
   "file_extension": ".py",
   "mimetype": "text/x-python",
   "name": "python",
   "nbconvert_exporter": "python",
   "pygments_lexer": "ipython3",
   "version": "3.7.10"
  }
 },
 "nbformat": 4,
 "nbformat_minor": 4
}
