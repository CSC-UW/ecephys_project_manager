{
 "cells": [
  {
   "cell_type": "code",
   "execution_count": 1,
   "metadata": {
    "execution": {
     "iopub.execute_input": "2021-10-13T15:39:43.492912Z",
     "iopub.status.busy": "2021-10-13T15:39:43.492244Z",
     "iopub.status.idle": "2021-10-13T15:39:43.508141Z",
     "shell.execute_reply": "2021-10-13T15:39:43.507733Z",
     "shell.execute_reply.started": "2021-10-13T15:39:43.492756Z"
    },
    "tags": []
   },
   "outputs": [],
   "source": [
    "%load_ext autoreload\n",
    "%autoreload 2"
   ]
  },
  {
   "cell_type": "code",
   "execution_count": 2,
   "metadata": {
    "execution": {
     "iopub.execute_input": "2021-10-13T15:39:43.824653Z",
     "iopub.status.busy": "2021-10-13T15:39:43.824134Z",
     "iopub.status.idle": "2021-10-13T15:39:44.026287Z",
     "shell.execute_reply": "2021-10-13T15:39:44.025843Z",
     "shell.execute_reply.started": "2021-10-13T15:39:43.824599Z"
    },
    "tags": []
   },
   "outputs": [],
   "source": [
    "import pandas as pd"
   ]
  },
  {
   "cell_type": "code",
   "execution_count": 3,
   "metadata": {
    "execution": {
     "iopub.execute_input": "2021-10-13T15:39:44.168298Z",
     "iopub.status.busy": "2021-10-13T15:39:44.167817Z",
     "iopub.status.idle": "2021-10-13T15:39:44.977035Z",
     "shell.execute_reply": "2021-10-13T15:39:44.976583Z",
     "shell.execute_reply.started": "2021-10-13T15:39:44.168253Z"
    },
    "tags": []
   },
   "outputs": [],
   "source": [
    "import hypnogram as hg\n",
    "from sglxarray import load_trigger\n",
    "import ecephys_analyses as ea"
   ]
  },
  {
   "cell_type": "code",
   "execution_count": 6,
   "metadata": {
    "execution": {
     "iopub.execute_input": "2021-10-13T15:39:48.392077Z",
     "iopub.status.busy": "2021-10-13T15:39:48.391470Z",
     "iopub.status.idle": "2021-10-13T15:39:48.418406Z",
     "shell.execute_reply": "2021-10-13T15:39:48.417739Z",
     "shell.execute_reply.started": "2021-10-13T15:39:48.391947Z"
    },
    "tags": []
   },
   "outputs": [],
   "source": [
    "def write_alias(subject, experiment, alias, probe):\n",
    "    bin_paths = ea.get_lfp_bin_paths(subject, experiment, alias, probe=probe)\n",
    "    hypnogram_paths = ea.get_project_counterparts(\"SPWRs\", subject, bin_paths, \".hypnogram.txt\", remove_stream=True)\n",
    "    hypnogram_dt_paths = ea.get_project_counterparts(\"SPWRs\", subject, bin_paths, \".hypnogram.tsv\", remove_stream=True)\n",
    "    \n",
    "    hypnograms = [hg.load_visbrain_hypnogram(path) for path in hypnogram_paths]\n",
    "    sigs = [load_trigger(path, chans=[0], start_time=0, end_time=1) for path in bin_paths]\n",
    "    \n",
    "    for sig, hypnogram, hypnogram_dt_path in zip(sigs, hypnograms, hypnogram_dt_paths):\n",
    "        file_start_dt = pd.to_datetime(sig.datetime.values.min())\n",
    "        hypnogram_dt = hypnogram.as_datetime(file_start_dt)\n",
    "        hypnogram_dt.write(hypnogram_dt_path)"
   ]
  },
  {
   "cell_type": "code",
   "execution_count": 8,
   "metadata": {
    "execution": {
     "iopub.execute_input": "2021-10-13T15:41:03.755674Z",
     "iopub.status.busy": "2021-10-13T15:41:03.755077Z",
     "iopub.status.idle": "2021-10-13T15:49:37.465249Z",
     "shell.execute_reply": "2021-10-13T15:49:37.464065Z",
     "shell.execute_reply.started": "2021-10-13T15:41:03.755619Z"
    },
    "tags": []
   },
   "outputs": [
    {
     "name": "stdout",
     "output_type": "stream",
     "text": [
      "nChan: 385, nFileSamp: 18000039\n",
      "nChan: 385, nFileSamp: 18000038\n",
      "nChan: 385, nFileSamp: 18000039\n",
      "nChan: 385, nFileSamp: 18000038\n",
      "nChan: 385, nFileSamp: 18000039\n",
      "nChan: 385, nFileSamp: 18000038\n",
      "nChan: 385, nFileSamp: 18000038\n",
      "nChan: 385, nFileSamp: 18000038\n",
      "nChan: 385, nFileSamp: 18000038\n",
      "nChan: 385, nFileSamp: 18000038\n",
      "nChan: 385, nFileSamp: 18000038\n",
      "nChan: 385, nFileSamp: 17429335\n",
      "nChan: 385, nFileSamp: 18000038\n",
      "nChan: 385, nFileSamp: 18000039\n",
      "nChan: 385, nFileSamp: 18000038\n",
      "nChan: 385, nFileSamp: 18000038\n",
      "nChan: 385, nFileSamp: 18000039\n",
      "nChan: 385, nFileSamp: 18000038\n",
      "nChan: 385, nFileSamp: 18000038\n",
      "nChan: 385, nFileSamp: 18000039\n",
      "nChan: 385, nFileSamp: 18000038\n",
      "nChan: 385, nFileSamp: 18000038\n",
      "nChan: 385, nFileSamp: 18000038\n",
      "nChan: 385, nFileSamp: 17997626\n"
     ]
    }
   ],
   "source": [
    "write_alias(\"CNPIX12-Santiago\", \"conveyor_over_water\", \"full_48h\", \"imec1\")"
   ]
  },
  {
   "cell_type": "code",
   "execution_count": null,
   "metadata": {},
   "outputs": [],
   "source": []
  }
 ],
 "metadata": {
  "interpreter": {
   "hash": "f06ef39cb6ee7741943854b92e7f7bd5e36de2ca6c2d3088dba84f9a49c05b4a"
  },
  "kernelspec": {
   "display_name": "Python 3.7.10 64-bit ('ecephys': conda)",
   "name": "python3"
  },
  "language_info": {
   "codemirror_mode": {
    "name": "ipython",
    "version": 3
   },
   "file_extension": ".py",
   "mimetype": "text/x-python",
   "name": "python",
   "nbconvert_exporter": "python",
   "pygments_lexer": "ipython3",
   "version": "3.10.0"
  }
 },
 "nbformat": 4,
 "nbformat_minor": 4
}
