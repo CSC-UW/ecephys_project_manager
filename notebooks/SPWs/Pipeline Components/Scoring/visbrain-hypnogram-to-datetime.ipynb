{
 "cells": [
  {
   "cell_type": "code",
   "execution_count": 4,
   "metadata": {
    "execution": {
     "iopub.execute_input": "2021-05-24T22:46:31.240095Z",
     "iopub.status.busy": "2021-05-24T22:46:31.239538Z",
     "iopub.status.idle": "2021-05-24T22:46:31.262728Z",
     "shell.execute_reply": "2021-05-24T22:46:31.261959Z",
     "shell.execute_reply.started": "2021-05-24T22:46:31.240029Z"
    }
   },
   "outputs": [
    {
     "name": "stdout",
     "output_type": "stream",
     "text": [
      "The autoreload extension is already loaded. To reload it, use:\n",
      "  %reload_ext autoreload\n"
     ]
    }
   ],
   "source": [
    "%load_ext autoreload\n",
    "%autoreload 2"
   ]
  },
  {
   "cell_type": "code",
   "execution_count": 5,
   "metadata": {
    "execution": {
     "iopub.execute_input": "2021-05-24T22:46:31.508466Z",
     "iopub.status.busy": "2021-05-24T22:46:31.508181Z",
     "iopub.status.idle": "2021-05-24T22:46:31.527987Z",
     "shell.execute_reply": "2021-05-24T22:46:31.527030Z",
     "shell.execute_reply.started": "2021-05-24T22:46:31.508439Z"
    }
   },
   "outputs": [],
   "source": [
    "import pandas as pd"
   ]
  },
  {
   "cell_type": "code",
   "execution_count": 6,
   "metadata": {
    "execution": {
     "iopub.execute_input": "2021-05-24T22:46:31.821735Z",
     "iopub.status.busy": "2021-05-24T22:46:31.821278Z",
     "iopub.status.idle": "2021-05-24T22:46:31.843699Z",
     "shell.execute_reply": "2021-05-24T22:46:31.842976Z",
     "shell.execute_reply.started": "2021-05-24T22:46:31.821684Z"
    }
   },
   "outputs": [],
   "source": [
    "from ecephys.scoring import load_visbrain_hypnogram, visbrain_hypnogram_to_datetime, write_datetime_hypnogram\n",
    "from ecephys.sglx_utils import load_trigger\n",
    "import ecephys_analyses as ea"
   ]
  },
  {
   "cell_type": "code",
   "execution_count": 10,
   "metadata": {
    "execution": {
     "iopub.execute_input": "2021-05-24T22:56:49.167438Z",
     "iopub.status.busy": "2021-05-24T22:56:49.166883Z",
     "iopub.status.idle": "2021-05-24T22:56:49.191490Z",
     "shell.execute_reply": "2021-05-24T22:56:49.190861Z",
     "shell.execute_reply.started": "2021-05-24T22:56:49.167375Z"
    }
   },
   "outputs": [],
   "source": [
    "def write_condition(subject, experiment, condition):\n",
    "    hypnogram_paths = ea.get_sglx_style_datapaths(subject, experiment, condition, ext=\"hypnogram.txt\")\n",
    "    bin_paths = ea.get_sglx_style_datapaths(subject, experiment, condition, ext=\"lf.bin\")\n",
    "    hypnogram_dt_paths = ea.get_sglx_style_datapaths(subject, experiment, condition, ext=\"hypnogram.tsv\")\n",
    "    \n",
    "    hypnograms = [load_visbrain_hypnogram(path) for path in hypnogram_paths]\n",
    "    sigs = [load_trigger(path, chans=[0], start_time=0, end_time=1) for path in bin_paths]\n",
    "    \n",
    "    for sig, hypnogram, hypnogram_dt_path in zip(sigs, hypnograms, hypnogram_dt_paths):\n",
    "        file_start_dt = pd.to_datetime(sig.datetime.values.min())\n",
    "        hypnogram_dt = visbrain_hypnogram_to_datetime(hypnogram, file_start_dt)\n",
    "        write_datetime_hypnogram(hypnogram_dt, hypnogram_dt_path)"
   ]
  },
  {
   "cell_type": "code",
   "execution_count": 11,
   "metadata": {
    "execution": {
     "iopub.execute_input": "2021-05-24T22:56:49.622270Z",
     "iopub.status.busy": "2021-05-24T22:56:49.621723Z",
     "iopub.status.idle": "2021-05-24T22:56:50.179867Z",
     "shell.execute_reply": "2021-05-24T22:56:50.179064Z",
     "shell.execute_reply.started": "2021-05-24T22:56:49.622206Z"
    }
   },
   "outputs": [
    {
     "name": "stdout",
     "output_type": "stream",
     "text": [
      "nChan: 385, nFileSamp: 9000060\n",
      "nChan: 385, nFileSamp: 9000059\n",
      "nChan: 385, nFileSamp: 9000059\n",
      "nChan: 385, nFileSamp: 9000060\n"
     ]
    }
   ],
   "source": [
    "write_condition(\"Doppio\", \"ketamine-120mg\", \"all\")"
   ]
  },
  {
   "cell_type": "code",
   "execution_count": null,
   "metadata": {},
   "outputs": [],
   "source": []
  }
 ],
 "metadata": {
  "kernelspec": {
   "display_name": "Python 3",
   "language": "python",
   "name": "python3"
  },
  "language_info": {
   "codemirror_mode": {
    "name": "ipython",
    "version": 3
   },
   "file_extension": ".py",
   "mimetype": "text/x-python",
   "name": "python",
   "nbconvert_exporter": "python",
   "pygments_lexer": "ipython3",
   "version": "3.7.9"
  }
 },
 "nbformat": 4,
 "nbformat_minor": 4
}
