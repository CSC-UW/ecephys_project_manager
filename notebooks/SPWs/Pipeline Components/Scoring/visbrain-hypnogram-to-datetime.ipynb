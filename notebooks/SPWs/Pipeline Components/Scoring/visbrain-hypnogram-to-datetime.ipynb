{
 "cells": [
  {
   "cell_type": "code",
   "execution_count": 6,
   "metadata": {
    "execution": {
     "iopub.execute_input": "2021-07-23T21:56:51.880835Z",
     "iopub.status.busy": "2021-07-23T21:56:51.880343Z",
     "iopub.status.idle": "2021-07-23T21:56:51.904015Z",
     "shell.execute_reply": "2021-07-23T21:56:51.903333Z",
     "shell.execute_reply.started": "2021-07-23T21:56:51.880776Z"
    }
   },
   "outputs": [
    {
     "name": "stdout",
     "output_type": "stream",
     "text": [
      "The autoreload extension is already loaded. To reload it, use:\n",
      "  %reload_ext autoreload\n"
     ]
    }
   ],
   "source": [
    "%load_ext autoreload\n",
    "%autoreload 2"
   ]
  },
  {
   "cell_type": "code",
   "execution_count": 7,
   "metadata": {
    "execution": {
     "iopub.execute_input": "2021-07-23T21:56:52.242190Z",
     "iopub.status.busy": "2021-07-23T21:56:52.241925Z",
     "iopub.status.idle": "2021-07-23T21:56:52.263373Z",
     "shell.execute_reply": "2021-07-23T21:56:52.262535Z",
     "shell.execute_reply.started": "2021-07-23T21:56:52.242160Z"
    }
   },
   "outputs": [],
   "source": [
    "import pandas as pd"
   ]
  },
  {
   "cell_type": "code",
   "execution_count": 8,
   "metadata": {
    "execution": {
     "iopub.execute_input": "2021-07-23T21:56:52.586542Z",
     "iopub.status.busy": "2021-07-23T21:56:52.586116Z",
     "iopub.status.idle": "2021-07-23T21:56:52.609111Z",
     "shell.execute_reply": "2021-07-23T21:56:52.608201Z",
     "shell.execute_reply.started": "2021-07-23T21:56:52.586490Z"
    }
   },
   "outputs": [],
   "source": [
    "import hypnogram as hg\n",
    "from sglxarray import load_trigger\n",
    "import ecephys_analyses as ea"
   ]
  },
  {
   "cell_type": "code",
   "execution_count": 9,
   "metadata": {
    "execution": {
     "iopub.execute_input": "2021-07-23T21:56:52.946172Z",
     "iopub.status.busy": "2021-07-23T21:56:52.945797Z",
     "iopub.status.idle": "2021-07-23T21:56:52.973482Z",
     "shell.execute_reply": "2021-07-23T21:56:52.972586Z",
     "shell.execute_reply.started": "2021-07-23T21:56:52.946128Z"
    }
   },
   "outputs": [],
   "source": [
    "def write_condition(subject, experiment, condition):\n",
    "    hypnogram_paths = ea.get_sglx_style_datapaths(subject, experiment, condition, ext=\"hypnogram.txt\")\n",
    "    bin_paths = ea.get_sglx_style_datapaths(subject, experiment, condition, ext=\"lf.bin\")\n",
    "    hypnogram_dt_paths = ea.get_sglx_style_datapaths(subject, experiment, condition, ext=\"hypnogram.tsv\")\n",
    "    \n",
    "    hypnograms = [hg.load_visbrain_hypnogram(path) for path in hypnogram_paths]\n",
    "    sigs = [load_trigger(path, chans=[0], start_time=0, end_time=1) for path in bin_paths]\n",
    "    \n",
    "    for sig, hypnogram, hypnogram_dt_path in zip(sigs, hypnograms, hypnogram_dt_paths):\n",
    "        file_start_dt = pd.to_datetime(sig.datetime.values.min())\n",
    "        hypnogram_dt = hypnogram.as_datetime(file_start_dt)\n",
    "        hypnogram_dt.write(hypnogram_dt_path)"
   ]
  },
  {
   "cell_type": "code",
   "execution_count": 10,
   "metadata": {
    "execution": {
     "iopub.execute_input": "2021-07-23T21:56:53.226520Z",
     "iopub.status.busy": "2021-07-23T21:56:53.226247Z",
     "iopub.status.idle": "2021-07-23T21:57:14.806094Z",
     "shell.execute_reply": "2021-07-23T21:57:14.804439Z",
     "shell.execute_reply.started": "2021-07-23T21:56:53.226489Z"
    }
   },
   "outputs": [
    {
     "name": "stdout",
     "output_type": "stream",
     "text": [
      "nChan: 385, nFileSamp: 18000070\n",
      "nChan: 385, nFileSamp: 18000070\n",
      "nChan: 385, nFileSamp: 18000070\n",
      "nChan: 385, nFileSamp: 18000070\n",
      "nChan: 385, nFileSamp: 18000070\n",
      "nChan: 385, nFileSamp: 18000070\n",
      "nChan: 385, nFileSamp: 18000071\n",
      "nChan: 385, nFileSamp: 18000070\n",
      "nChan: 385, nFileSamp: 18000070\n",
      "nChan: 385, nFileSamp: 18000071\n",
      "nChan: 385, nFileSamp: 18000070\n",
      "nChan: 385, nFileSamp: 17203190\n",
      "nChan: 385, nFileSamp: 18000071\n",
      "nChan: 385, nFileSamp: 18000070\n",
      "nChan: 385, nFileSamp: 17719059\n",
      "nChan: 385, nFileSamp: 18000070\n",
      "nChan: 385, nFileSamp: 18000070\n",
      "nChan: 385, nFileSamp: 18000070\n",
      "nChan: 385, nFileSamp: 18000070\n",
      "nChan: 385, nFileSamp: 18000070\n",
      "nChan: 385, nFileSamp: 18000070\n",
      "nChan: 385, nFileSamp: 18000070\n",
      "nChan: 385, nFileSamp: 18000070\n",
      "nChan: 385, nFileSamp: 18000070\n"
     ]
    }
   ],
   "source": [
    "write_condition(\"Luigi\", \"sleep-homeostasis\", \"all\")"
   ]
  },
  {
   "cell_type": "code",
   "execution_count": null,
   "metadata": {},
   "outputs": [],
   "source": []
  }
 ],
 "metadata": {
  "kernelspec": {
   "display_name": "Python 3",
   "language": "python",
   "name": "python3"
  },
  "language_info": {
   "codemirror_mode": {
    "name": "ipython",
    "version": 3
   },
   "file_extension": ".py",
   "mimetype": "text/x-python",
   "name": "python",
   "nbconvert_exporter": "python",
   "pygments_lexer": "ipython3",
   "version": "3.7.9"
  }
 },
 "nbformat": 4,
 "nbformat_minor": 4
}
