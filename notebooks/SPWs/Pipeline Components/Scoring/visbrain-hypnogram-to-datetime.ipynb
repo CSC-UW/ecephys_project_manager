{
 "cells": [
  {
   "cell_type": "code",
   "execution_count": 1,
   "metadata": {
    "execution": {
     "iopub.execute_input": "2021-10-08T23:46:52.303505Z",
     "iopub.status.busy": "2021-10-08T23:46:52.303073Z",
     "iopub.status.idle": "2021-10-08T23:46:52.318566Z",
     "shell.execute_reply": "2021-10-08T23:46:52.318030Z",
     "shell.execute_reply.started": "2021-10-08T23:46:52.303434Z"
    },
    "tags": []
   },
   "outputs": [],
   "source": [
    "%load_ext autoreload\n",
    "%autoreload 2"
   ]
  },
  {
   "cell_type": "code",
   "execution_count": 2,
   "metadata": {
    "execution": {
     "iopub.execute_input": "2021-10-08T23:46:52.319207Z",
     "iopub.status.busy": "2021-10-08T23:46:52.319089Z",
     "iopub.status.idle": "2021-10-08T23:46:52.539103Z",
     "shell.execute_reply": "2021-10-08T23:46:52.538503Z",
     "shell.execute_reply.started": "2021-10-08T23:46:52.319192Z"
    },
    "tags": []
   },
   "outputs": [],
   "source": [
    "import pandas as pd"
   ]
  },
  {
   "cell_type": "code",
   "execution_count": 3,
   "metadata": {
    "execution": {
     "iopub.execute_input": "2021-10-08T23:46:52.540398Z",
     "iopub.status.busy": "2021-10-08T23:46:52.540152Z",
     "iopub.status.idle": "2021-10-08T23:46:53.891147Z",
     "shell.execute_reply": "2021-10-08T23:46:53.890659Z",
     "shell.execute_reply.started": "2021-10-08T23:46:52.540380Z"
    },
    "tags": []
   },
   "outputs": [],
   "source": [
    "import hypnogram as hg\n",
    "from sglxarray import load_trigger\n",
    "import ecephys_analyses as ea"
   ]
  },
  {
   "cell_type": "code",
   "execution_count": 4,
   "metadata": {
    "execution": {
     "iopub.execute_input": "2021-10-08T23:46:53.891960Z",
     "iopub.status.busy": "2021-10-08T23:46:53.891811Z",
     "iopub.status.idle": "2021-10-08T23:46:53.908886Z",
     "shell.execute_reply": "2021-10-08T23:46:53.908323Z",
     "shell.execute_reply.started": "2021-10-08T23:46:53.891943Z"
    },
    "tags": []
   },
   "outputs": [],
   "source": [
    "def write_condition(subject, experiment, probe):\n",
    "    bin_paths = ea.get_lfp_bin_paths(subject, experiment, probe=probe)\n",
    "    hypnogram_paths = ea.get_analysis_counterparts(bin_paths, \"hypnogram.txt\", subject)\n",
    "    hypnogram_dt_paths = ea.get_analysis_counterparts(bin_paths, \"hypnogram.tsv\", subject)\n",
    "    \n",
    "    #hypnogram_paths = ea.get_sglx_style_datapaths(subject, experiment, condition, ext=\"hypnogram.txt\")\n",
    "    #bin_paths = ea.get_sglx_style_datapaths(subject, experiment, condition, ext=\"lf.bin\")\n",
    "    #hypnogram_dt_paths = ea.get_sglx_style_datapaths(subject, experiment, condition, ext=\"hypnogram.tsv\")\n",
    "    \n",
    "    hypnograms = [hg.load_visbrain_hypnogram(path) for path in hypnogram_paths]\n",
    "    sigs = [load_trigger(path, chans=[0], start_time=0, end_time=1) for path in bin_paths]\n",
    "    \n",
    "    for sig, hypnogram, hypnogram_dt_path in zip(sigs, hypnograms, hypnogram_dt_paths):\n",
    "        file_start_dt = pd.to_datetime(sig.datetime.values.min())\n",
    "        hypnogram_dt = hypnogram.as_datetime(file_start_dt)\n",
    "        hypnogram_dt.write(hypnogram_dt_path)"
   ]
  },
  {
   "cell_type": "code",
   "execution_count": 5,
   "metadata": {
    "execution": {
     "iopub.execute_input": "2021-10-08T23:46:53.909729Z",
     "iopub.status.busy": "2021-10-08T23:46:53.909543Z",
     "iopub.status.idle": "2021-10-08T23:51:12.294362Z",
     "shell.execute_reply": "2021-10-08T23:51:12.293178Z",
     "shell.execute_reply.started": "2021-10-08T23:46:53.909712Z"
    },
    "tags": []
   },
   "outputs": [
    {
     "name": "stdout",
     "output_type": "stream",
     "text": [
      "nChan: 385, nFileSamp: 42859\n",
      "nChan: 385, nFileSamp: 175788\n",
      "nChan: 385, nFileSamp: 18000083\n",
      "nChan: 385, nFileSamp: 18000083\n",
      "nChan: 385, nFileSamp: 18000083\n",
      "nChan: 385, nFileSamp: 18000083\n",
      "nChan: 385, nFileSamp: 18000082\n",
      "nChan: 385, nFileSamp: 18000082\n",
      "nChan: 385, nFileSamp: 18000083\n",
      "nChan: 385, nFileSamp: 18000083\n",
      "nChan: 385, nFileSamp: 18000083\n",
      "nChan: 385, nFileSamp: 18000083\n",
      "nChan: 385, nFileSamp: 18000082\n",
      "nChan: 385, nFileSamp: 1585160\n",
      "nChan: 385, nFileSamp: 6564653\n",
      "nChan: 385, nFileSamp: 18000082\n",
      "nChan: 385, nFileSamp: 18000083\n",
      "nChan: 385, nFileSamp: 18000083\n",
      "nChan: 385, nFileSamp: 18000083\n",
      "nChan: 385, nFileSamp: 18000083\n",
      "nChan: 385, nFileSamp: 18000083\n",
      "nChan: 385, nFileSamp: 18000082\n",
      "nChan: 385, nFileSamp: 18000083\n",
      "nChan: 385, nFileSamp: 18000083\n",
      "nChan: 385, nFileSamp: 18000083\n",
      "nChan: 385, nFileSamp: 18000083\n",
      "nChan: 385, nFileSamp: 1824811\n",
      "nChan: 385, nFileSamp: 11257696\n"
     ]
    }
   ],
   "source": [
    "write_condition(\"Adrian\", \"conveyor_over_water\", \"imec1\")"
   ]
  },
  {
   "cell_type": "code",
   "execution_count": null,
   "metadata": {},
   "outputs": [],
   "source": []
  }
 ],
 "metadata": {
  "kernelspec": {
   "display_name": "Python 3 (ipykernel)",
   "language": "python",
   "name": "python3"
  },
  "language_info": {
   "codemirror_mode": {
    "name": "ipython",
    "version": 3
   },
   "file_extension": ".py",
   "mimetype": "text/x-python",
   "name": "python",
   "nbconvert_exporter": "python",
   "pygments_lexer": "ipython3",
   "version": "3.7.10"
  }
 },
 "nbformat": 4,
 "nbformat_minor": 4
}
