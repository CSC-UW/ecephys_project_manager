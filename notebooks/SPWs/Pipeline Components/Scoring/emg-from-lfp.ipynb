{
 "cells": [
  {
   "cell_type": "code",
   "execution_count": 1,
   "metadata": {
    "execution": {
     "iopub.execute_input": "2021-09-24T22:47:17.929647Z",
     "iopub.status.busy": "2021-09-24T22:47:17.929089Z",
     "iopub.status.idle": "2021-09-24T22:47:17.952321Z",
     "shell.execute_reply": "2021-09-24T22:47:17.951474Z",
     "shell.execute_reply.started": "2021-09-24T22:47:17.929492Z"
    },
    "tags": []
   },
   "outputs": [],
   "source": [
    "%load_ext autoreload\n",
    "%autoreload 2"
   ]
  },
  {
   "cell_type": "code",
   "execution_count": 2,
   "metadata": {
    "execution": {
     "iopub.execute_input": "2021-09-24T22:47:18.487007Z",
     "iopub.status.busy": "2021-09-24T22:47:18.486446Z",
     "iopub.status.idle": "2021-09-24T22:47:18.501262Z",
     "shell.execute_reply": "2021-09-24T22:47:18.500508Z",
     "shell.execute_reply.started": "2021-09-24T22:47:18.486951Z"
    },
    "tags": []
   },
   "outputs": [],
   "source": [
    "from pathlib import Path\n",
    "from datetime import datetime"
   ]
  },
  {
   "cell_type": "code",
   "execution_count": 3,
   "metadata": {
    "execution": {
     "iopub.execute_input": "2021-09-24T22:47:18.957917Z",
     "iopub.status.busy": "2021-09-24T22:47:18.957579Z",
     "iopub.status.idle": "2021-09-24T22:47:19.944906Z",
     "shell.execute_reply": "2021-09-24T22:47:19.944209Z",
     "shell.execute_reply.started": "2021-09-24T22:47:18.957886Z"
    },
    "tags": []
   },
   "outputs": [],
   "source": [
    "from ecephys.xrsig import get_emg\n",
    "from sglxarray import load_trigger\n",
    "import ecephys_analyses as ea"
   ]
  },
  {
   "cell_type": "code",
   "execution_count": 4,
   "metadata": {
    "execution": {
     "iopub.execute_input": "2021-09-24T22:47:19.946181Z",
     "iopub.status.busy": "2021-09-24T22:47:19.945861Z",
     "iopub.status.idle": "2021-09-24T22:47:19.961598Z",
     "shell.execute_reply": "2021-09-24T22:47:19.961227Z",
     "shell.execute_reply.started": "2021-09-24T22:47:19.946161Z"
    },
    "tags": []
   },
   "outputs": [],
   "source": [
    "EMG_OPTS = dict(target_sf=20, window_size=25.0, wp=[300, 600], ws=[275, 625], gpass=1, gstop=60, ftype='butter')"
   ]
  },
  {
   "cell_type": "code",
   "execution_count": 5,
   "metadata": {
    "execution": {
     "iopub.execute_input": "2021-09-24T22:47:19.962310Z",
     "iopub.status.busy": "2021-09-24T22:47:19.962145Z",
     "iopub.status.idle": "2021-09-24T22:47:19.978760Z",
     "shell.execute_reply": "2021-09-24T22:47:19.978429Z",
     "shell.execute_reply.started": "2021-09-24T22:47:19.962295Z"
    },
    "tags": []
   },
   "outputs": [],
   "source": [
    "def get_condition_emg(subject, experiment, probe):\n",
    "    emg_chans = ea.get_channels(subject, experiment, probe, \"emg_from_lfp\")\n",
    "    \n",
    "    bin_paths = ea.get_lfp_bin_paths(subject, experiment, probe=probe)\n",
    "    emg_paths = ea.get_analysis_counterparts(bin_paths, \"emg.nc\", subject)\n",
    "    #bin_paths = ea.get_sglx_style_datapaths(subject=subject, experiment=experiment, condition=condition, ext=\"lf.bin\")\n",
    "    #emg_paths = ea.get_sglx_style_datapaths(subject=subject, experiment=experiment, condition=condition, ext=\"emg.nc\")\n",
    "\n",
    "    for bin_path, emg_path in zip(bin_paths, emg_paths):\n",
    "        sig = load_trigger(bin_path, emg_chans)\n",
    "        emg = get_emg(sig, **EMG_OPTS)\n",
    "        \n",
    "        # Create parent directories if they do not already exist.\n",
    "        Path(emg_path).parent.mkdir(parents=True, exist_ok=True)  \n",
    "        emg.to_netcdf(emg_path)\n",
    "        emg.close()\n",
    "        \n",
    "        current_time = datetime.now().strftime(\"%H:%M:%S\")\n",
    "        print(f\"{current_time}: Finished {str(bin_path)}\")"
   ]
  },
  {
   "cell_type": "code",
   "execution_count": null,
   "metadata": {
    "execution": {
     "iopub.execute_input": "2021-09-24T22:47:22.107563Z",
     "iopub.status.busy": "2021-09-24T22:47:22.106971Z"
    },
    "tags": []
   },
   "outputs": [
    {
     "name": "stdout",
     "output_type": "stream",
     "text": [
      "nChan: 385, nFileSamp: 42859\n",
      "Filtering LFP with wp=[300, 600], ws=[275, 625], gpass=1, gstop=60,filter type=butter\n",
      "Computing EMG from filtered LFP...\n",
      "target sf = 20, window size = 25.0, LFP sf=2500.0113678480425, LFP nchans = 3\n"
     ]
    },
    {
     "data": {
      "application/vnd.jupyter.widget-view+json": {
       "model_id": "61a87db82a8847b5b24db40b6e633788",
       "version_major": 2,
       "version_minor": 0
      },
      "text/plain": [
       "HBox(children=(HTML(value='XCorr: Iterate on channel pairs'), FloatProgress(value=0.0, max=3.0), HTML(value=''…"
      ]
     },
     "metadata": {},
     "output_type": "display_data"
    },
    {
     "data": {
      "application/vnd.jupyter.widget-view+json": {
       "model_id": "f70f68fad7064ed593a88eed165c2c16",
       "version_major": 2,
       "version_minor": 0
      },
      "text/plain": [
       "HBox(children=(HTML(value='XCorr: Iterate on windows'), FloatProgress(value=0.0, max=343.0), HTML(value='')))"
      ]
     },
     "metadata": {},
     "output_type": "display_data"
    },
    {
     "name": "stdout",
     "output_type": "stream",
     "text": [
      "\n"
     ]
    },
    {
     "data": {
      "application/vnd.jupyter.widget-view+json": {
       "model_id": "732d841dd1fe41edb4998e6bb3c1db86",
       "version_major": 2,
       "version_minor": 0
      },
      "text/plain": [
       "HBox(children=(HTML(value='XCorr: Iterate on windows'), FloatProgress(value=0.0, max=343.0), HTML(value='')))"
      ]
     },
     "metadata": {},
     "output_type": "display_data"
    },
    {
     "name": "stdout",
     "output_type": "stream",
     "text": [
      "\n"
     ]
    },
    {
     "data": {
      "application/vnd.jupyter.widget-view+json": {
       "model_id": "93c0feecbd9a419597ffc61ac441e810",
       "version_major": 2,
       "version_minor": 0
      },
      "text/plain": [
       "HBox(children=(HTML(value='XCorr: Iterate on windows'), FloatProgress(value=0.0, max=343.0), HTML(value='')))"
      ]
     },
     "metadata": {},
     "output_type": "display_data"
    },
    {
     "name": "stdout",
     "output_type": "stream",
     "text": [
      "\n",
      "\n",
      "Done!\n",
      "17:47:24: Finished /Volumes/neuropixel_archive/Data/chronic/CNPIX11-Adrian/8-27-2021/SpikeGLX/8-27-2021_g0/8-27-2021_g0_imec1/8-27-2021_g0_t0.imec1.lf.bin\n",
      "nChan: 385, nFileSamp: 175788\n",
      "Filtering LFP with wp=[300, 600], ws=[275, 625], gpass=1, gstop=60,filter type=butter\n",
      "Computing EMG from filtered LFP...\n",
      "target sf = 20, window size = 25.0, LFP sf=2500.0113678480425, LFP nchans = 3\n"
     ]
    },
    {
     "data": {
      "application/vnd.jupyter.widget-view+json": {
       "model_id": "9593abf3e3ff4aa8abb64510af94d68c",
       "version_major": 2,
       "version_minor": 0
      },
      "text/plain": [
       "HBox(children=(HTML(value='XCorr: Iterate on channel pairs'), FloatProgress(value=0.0, max=3.0), HTML(value=''…"
      ]
     },
     "metadata": {},
     "output_type": "display_data"
    },
    {
     "data": {
      "application/vnd.jupyter.widget-view+json": {
       "model_id": "4d2b1339b82a422cb49ffb02dd4bf204",
       "version_major": 2,
       "version_minor": 0
      },
      "text/plain": [
       "HBox(children=(HTML(value='XCorr: Iterate on windows'), FloatProgress(value=0.0, max=1407.0), HTML(value='')))"
      ]
     },
     "metadata": {},
     "output_type": "display_data"
    },
    {
     "name": "stdout",
     "output_type": "stream",
     "text": [
      "\n"
     ]
    },
    {
     "data": {
      "application/vnd.jupyter.widget-view+json": {
       "model_id": "cd108b4e55594105a228522dfc638f50",
       "version_major": 2,
       "version_minor": 0
      },
      "text/plain": [
       "HBox(children=(HTML(value='XCorr: Iterate on windows'), FloatProgress(value=0.0, max=1407.0), HTML(value='')))"
      ]
     },
     "metadata": {},
     "output_type": "display_data"
    },
    {
     "name": "stdout",
     "output_type": "stream",
     "text": [
      "\n"
     ]
    },
    {
     "data": {
      "application/vnd.jupyter.widget-view+json": {
       "model_id": "58a7b082a4e64c618e014825df15a27b",
       "version_major": 2,
       "version_minor": 0
      },
      "text/plain": [
       "HBox(children=(HTML(value='XCorr: Iterate on windows'), FloatProgress(value=0.0, max=1407.0), HTML(value='')))"
      ]
     },
     "metadata": {},
     "output_type": "display_data"
    },
    {
     "name": "stdout",
     "output_type": "stream",
     "text": [
      "\n",
      "\n",
      "Done!\n",
      "17:47:29: Finished /Volumes/neuropixel_archive/Data/chronic/CNPIX11-Adrian/8-27-2021/SpikeGLX/8-27-2021_g1/8-27-2021_g1_imec1/8-27-2021_g1_t0.imec1.lf.bin\n",
      "nChan: 385, nFileSamp: 18000083\n"
     ]
    }
   ],
   "source": [
    "get_condition_emg(\"Adrian\", \"conveyor_over_water\", \"imec1\")"
   ]
  },
  {
   "cell_type": "code",
   "execution_count": null,
   "metadata": {},
   "outputs": [],
   "source": []
  }
 ],
 "metadata": {
  "kernelspec": {
   "display_name": "Python 3 (ipykernel)",
   "language": "python",
   "name": "python3"
  },
  "language_info": {
   "codemirror_mode": {
    "name": "ipython",
    "version": 3
   },
   "file_extension": ".py",
   "mimetype": "text/x-python",
   "name": "python",
   "nbconvert_exporter": "python",
   "pygments_lexer": "ipython3",
   "version": "3.7.10"
  }
 },
 "nbformat": 4,
 "nbformat_minor": 4
}
