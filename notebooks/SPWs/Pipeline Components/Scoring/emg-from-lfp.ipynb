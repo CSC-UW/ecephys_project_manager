{
 "cells": [
  {
   "cell_type": "code",
   "execution_count": 1,
   "metadata": {
    "execution": {
     "iopub.execute_input": "2021-08-12T15:39:38.784162Z",
     "iopub.status.busy": "2021-08-12T15:39:38.783407Z",
     "iopub.status.idle": "2021-08-12T15:39:38.804277Z",
     "shell.execute_reply": "2021-08-12T15:39:38.803684Z",
     "shell.execute_reply.started": "2021-08-12T15:39:38.783981Z"
    },
    "tags": []
   },
   "outputs": [],
   "source": [
    "%load_ext autoreload\n",
    "%autoreload 2"
   ]
  },
  {
   "cell_type": "code",
   "execution_count": 2,
   "metadata": {
    "execution": {
     "iopub.execute_input": "2021-08-12T15:39:39.083779Z",
     "iopub.status.busy": "2021-08-12T15:39:39.083229Z",
     "iopub.status.idle": "2021-08-12T15:39:39.099029Z",
     "shell.execute_reply": "2021-08-12T15:39:39.098378Z",
     "shell.execute_reply.started": "2021-08-12T15:39:39.083722Z"
    },
    "tags": []
   },
   "outputs": [],
   "source": [
    "from pathlib import Path\n",
    "from datetime import datetime"
   ]
  },
  {
   "cell_type": "code",
   "execution_count": 3,
   "metadata": {
    "execution": {
     "iopub.execute_input": "2021-08-12T15:39:39.395696Z",
     "iopub.status.busy": "2021-08-12T15:39:39.395090Z",
     "iopub.status.idle": "2021-08-12T15:39:40.424813Z",
     "shell.execute_reply": "2021-08-12T15:39:40.424134Z",
     "shell.execute_reply.started": "2021-08-12T15:39:39.395643Z"
    },
    "tags": []
   },
   "outputs": [],
   "source": [
    "from ecephys.xrsig import get_emg\n",
    "from sglxarray import load_trigger\n",
    "import ecephys_analyses as ea"
   ]
  },
  {
   "cell_type": "code",
   "execution_count": 4,
   "metadata": {
    "execution": {
     "iopub.execute_input": "2021-08-12T15:39:40.426055Z",
     "iopub.status.busy": "2021-08-12T15:39:40.425804Z",
     "iopub.status.idle": "2021-08-12T15:39:40.442368Z",
     "shell.execute_reply": "2021-08-12T15:39:40.441898Z",
     "shell.execute_reply.started": "2021-08-12T15:39:40.426038Z"
    },
    "tags": []
   },
   "outputs": [],
   "source": [
    "EMG_OPTS = dict(target_sf=20, window_size=25.0, wp=[300, 600], ws=[275, 625], gpass=1, gstop=60, ftype='butter')"
   ]
  },
  {
   "cell_type": "code",
   "execution_count": 5,
   "metadata": {
    "execution": {
     "iopub.execute_input": "2021-08-12T15:39:40.443014Z",
     "iopub.status.busy": "2021-08-12T15:39:40.442890Z",
     "iopub.status.idle": "2021-08-12T15:39:40.456784Z",
     "shell.execute_reply": "2021-08-12T15:39:40.456176Z",
     "shell.execute_reply.started": "2021-08-12T15:39:40.442998Z"
    },
    "tags": []
   },
   "outputs": [],
   "source": [
    "def get_condition_emg(subject, experiment, condition, probe):\n",
    "    emg_chans = ea.get_channels(subject, experiment, probe, \"emg_from_lfp\")\n",
    "    \n",
    "    bin_paths = ea.get_sglx_style_datapaths(subject=subject, experiment=experiment, condition=condition, ext=\"lf.bin\")\n",
    "    emg_paths = ea.get_sglx_style_datapaths(subject=subject, experiment=experiment, condition=condition, ext=\"emg.nc\")\n",
    "\n",
    "    for bin_path, emg_path in zip(bin_paths, emg_paths):\n",
    "        sig = load_trigger(bin_path, emg_chans)\n",
    "        emg = get_emg(sig, **EMG_OPTS)\n",
    "        \n",
    "        # Create parent directories if they do not already exist.\n",
    "        Path(emg_path).parent.mkdir(parents=True, exist_ok=True)  \n",
    "        emg.to_netcdf(emg_path)\n",
    "        emg.close()\n",
    "        \n",
    "        current_time = datetime.now().strftime(\"%H:%M:%S\")\n",
    "        print(f\"{current_time}: Finished {str(bin_path)}\")"
   ]
  },
  {
   "cell_type": "code",
   "execution_count": 10,
   "metadata": {
    "execution": {
     "iopub.execute_input": "2021-08-13T17:34:01.865921Z",
     "iopub.status.busy": "2021-08-13T17:34:01.864759Z",
     "iopub.status.idle": "2021-08-13T17:39:14.031663Z",
     "shell.execute_reply": "2021-08-13T17:39:14.030695Z",
     "shell.execute_reply.started": "2021-08-13T17:34:01.865841Z"
    },
    "tags": []
   },
   "outputs": [
    {
     "name": "stdout",
     "output_type": "stream",
     "text": [
      "nChan: 385, nFileSamp: 7122380\n",
      "Filtering LFP with wp=[300, 600], ws=[275, 625], gpass=1, gstop=60,filter type=butter\n",
      "Computing EMG from filtered LFP...\n",
      "target sf = 20, window size = 25.0, LFP sf=2500.0141365, LFP nchans = 3\n"
     ]
    },
    {
     "data": {
      "application/vnd.jupyter.widget-view+json": {
       "model_id": "9333faf710ac4f5c8ff0fed5ed4abfbd",
       "version_major": 2,
       "version_minor": 0
      },
      "text/plain": [
       "HBox(children=(HTML(value='XCorr: Iterate on channel pairs'), FloatProgress(value=0.0, max=3.0), HTML(value=''…"
      ]
     },
     "metadata": {},
     "output_type": "display_data"
    },
    {
     "data": {
      "application/vnd.jupyter.widget-view+json": {
       "model_id": "58fc29d758b14dd08982c38b9ad0fd5b",
       "version_major": 2,
       "version_minor": 0
      },
      "text/plain": [
       "HBox(children=(HTML(value='XCorr: Iterate on windows'), FloatProgress(value=0.0, max=56979.0), HTML(value=''))…"
      ]
     },
     "metadata": {},
     "output_type": "display_data"
    },
    {
     "name": "stdout",
     "output_type": "stream",
     "text": [
      "\n"
     ]
    },
    {
     "data": {
      "application/vnd.jupyter.widget-view+json": {
       "model_id": "83fe03a0eeb9468ebb7142d132f39fec",
       "version_major": 2,
       "version_minor": 0
      },
      "text/plain": [
       "HBox(children=(HTML(value='XCorr: Iterate on windows'), FloatProgress(value=0.0, max=56979.0), HTML(value=''))…"
      ]
     },
     "metadata": {},
     "output_type": "display_data"
    },
    {
     "name": "stdout",
     "output_type": "stream",
     "text": [
      "\n"
     ]
    },
    {
     "data": {
      "application/vnd.jupyter.widget-view+json": {
       "model_id": "9ca3e1b969d442218600c2d150364cc0",
       "version_major": 2,
       "version_minor": 0
      },
      "text/plain": [
       "HBox(children=(HTML(value='XCorr: Iterate on windows'), FloatProgress(value=0.0, max=56979.0), HTML(value=''))…"
      ]
     },
     "metadata": {},
     "output_type": "display_data"
    },
    {
     "name": "stdout",
     "output_type": "stream",
     "text": [
      "\n",
      "\n",
      "Done!\n",
      "12:37:23: Finished /Volumes/neuropixel_archive/Data/chronic/CNPIX5-Alessandro/9-2-2020/9-2-2020_Dex_g0/9-2-2020_Dex_g0_imec0/9-2-2020_Dex_g0_t0.imec0.lf.bin\n",
      "nChan: 385, nFileSamp: 3753750\n",
      "Filtering LFP with wp=[300, 600], ws=[275, 625], gpass=1, gstop=60,filter type=butter\n",
      "Computing EMG from filtered LFP...\n",
      "target sf = 20, window size = 25.0, LFP sf=2500.0141365, LFP nchans = 3\n"
     ]
    },
    {
     "data": {
      "application/vnd.jupyter.widget-view+json": {
       "model_id": "fa032befa452451ba045b3f06d996bd1",
       "version_major": 2,
       "version_minor": 0
      },
      "text/plain": [
       "HBox(children=(HTML(value='XCorr: Iterate on channel pairs'), FloatProgress(value=0.0, max=3.0), HTML(value=''…"
      ]
     },
     "metadata": {},
     "output_type": "display_data"
    },
    {
     "data": {
      "application/vnd.jupyter.widget-view+json": {
       "model_id": "990e5256af4f487bab7f561d7631c3da",
       "version_major": 2,
       "version_minor": 0
      },
      "text/plain": [
       "HBox(children=(HTML(value='XCorr: Iterate on windows'), FloatProgress(value=0.0, max=30030.0), HTML(value=''))…"
      ]
     },
     "metadata": {},
     "output_type": "display_data"
    },
    {
     "name": "stdout",
     "output_type": "stream",
     "text": [
      "\n"
     ]
    },
    {
     "data": {
      "application/vnd.jupyter.widget-view+json": {
       "model_id": "903314dc488e479fa4ffcd81fd182c64",
       "version_major": 2,
       "version_minor": 0
      },
      "text/plain": [
       "HBox(children=(HTML(value='XCorr: Iterate on windows'), FloatProgress(value=0.0, max=30030.0), HTML(value=''))…"
      ]
     },
     "metadata": {},
     "output_type": "display_data"
    },
    {
     "name": "stdout",
     "output_type": "stream",
     "text": [
      "\n"
     ]
    },
    {
     "data": {
      "application/vnd.jupyter.widget-view+json": {
       "model_id": "55c0c77e25e34966ba7d011338e3687b",
       "version_major": 2,
       "version_minor": 0
      },
      "text/plain": [
       "HBox(children=(HTML(value='XCorr: Iterate on windows'), FloatProgress(value=0.0, max=30030.0), HTML(value=''))…"
      ]
     },
     "metadata": {},
     "output_type": "display_data"
    },
    {
     "name": "stdout",
     "output_type": "stream",
     "text": [
      "\n",
      "\n",
      "Done!\n",
      "12:39:14: Finished /Volumes/neuropixel_archive/Data/chronic/CNPIX5-Alessandro/9-2-2020/9-2-2020_Dex_g1/9-2-2020_Dex_g1_imec0/9-2-2020_Dex_g1_t0.imec0.lf.bin\n"
     ]
    }
   ],
   "source": [
    "get_condition_emg(\"Alessandro\", \"dexmedetomidine-eStim\", \"all\", \"imec0\")"
   ]
  },
  {
   "cell_type": "code",
   "execution_count": null,
   "metadata": {},
   "outputs": [],
   "source": []
  }
 ],
 "metadata": {
  "kernelspec": {
   "display_name": "Python 3 (ipykernel)",
   "language": "python",
   "name": "python3"
  },
  "language_info": {
   "codemirror_mode": {
    "name": "ipython",
    "version": 3
   },
   "file_extension": ".py",
   "mimetype": "text/x-python",
   "name": "python",
   "nbconvert_exporter": "python",
   "pygments_lexer": "ipython3",
   "version": "3.7.10"
  }
 },
 "nbformat": 4,
 "nbformat_minor": 4
}
