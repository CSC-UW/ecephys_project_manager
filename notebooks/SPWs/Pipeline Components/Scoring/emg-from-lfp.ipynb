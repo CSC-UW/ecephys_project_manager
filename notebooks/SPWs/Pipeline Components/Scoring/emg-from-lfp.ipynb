{
 "cells": [
  {
   "cell_type": "code",
   "execution_count": 1,
   "metadata": {
    "execution": {
     "iopub.execute_input": "2021-10-13T15:31:09.626976Z",
     "iopub.status.busy": "2021-10-13T15:31:09.626284Z",
     "iopub.status.idle": "2021-10-13T15:31:09.647599Z",
     "shell.execute_reply": "2021-10-13T15:31:09.646982Z",
     "shell.execute_reply.started": "2021-10-13T15:31:09.626821Z"
    },
    "tags": []
   },
   "outputs": [],
   "source": [
    "%load_ext autoreload\n",
    "%autoreload 2"
   ]
  },
  {
   "cell_type": "code",
   "execution_count": 2,
   "metadata": {
    "execution": {
     "iopub.execute_input": "2021-10-13T15:31:10.189926Z",
     "iopub.status.busy": "2021-10-13T15:31:10.189532Z",
     "iopub.status.idle": "2021-10-13T15:31:10.202006Z",
     "shell.execute_reply": "2021-10-13T15:31:10.201256Z",
     "shell.execute_reply.started": "2021-10-13T15:31:10.189895Z"
    },
    "tags": []
   },
   "outputs": [],
   "source": [
    "from pathlib import Path\n",
    "from datetime import datetime"
   ]
  },
  {
   "cell_type": "code",
   "execution_count": 3,
   "metadata": {
    "execution": {
     "iopub.execute_input": "2021-10-13T15:31:10.566220Z",
     "iopub.status.busy": "2021-10-13T15:31:10.565803Z",
     "iopub.status.idle": "2021-10-13T15:31:12.138780Z",
     "shell.execute_reply": "2021-10-13T15:31:12.137856Z",
     "shell.execute_reply.started": "2021-10-13T15:31:10.566186Z"
    },
    "tags": []
   },
   "outputs": [],
   "source": [
    "from ecephys.xrsig import get_emg\n",
    "from sglxarray import load_trigger\n",
    "import ecephys_analyses as ea"
   ]
  },
  {
   "cell_type": "code",
   "execution_count": 4,
   "metadata": {
    "execution": {
     "iopub.execute_input": "2021-10-13T15:31:12.140227Z",
     "iopub.status.busy": "2021-10-13T15:31:12.140081Z",
     "iopub.status.idle": "2021-10-13T15:31:12.154386Z",
     "shell.execute_reply": "2021-10-13T15:31:12.153544Z",
     "shell.execute_reply.started": "2021-10-13T15:31:12.140212Z"
    },
    "tags": []
   },
   "outputs": [],
   "source": [
    "EMG_OPTS = dict(target_sf=20, window_size=25.0, wp=[300, 600], ws=[275, 625], gpass=1, gstop=60, ftype='butter')"
   ]
  },
  {
   "cell_type": "code",
   "execution_count": 5,
   "metadata": {
    "execution": {
     "iopub.execute_input": "2021-10-13T15:31:12.155317Z",
     "iopub.status.busy": "2021-10-13T15:31:12.155201Z",
     "iopub.status.idle": "2021-10-13T15:31:12.169772Z",
     "shell.execute_reply": "2021-10-13T15:31:12.168943Z",
     "shell.execute_reply.started": "2021-10-13T15:31:12.155303Z"
    },
    "tags": []
   },
   "outputs": [],
   "source": [
    "def get_condition_emg(subject, experiment, alias, probe):\n",
    "    emg_chans = ea.get_channels(subject, experiment, probe, \"emg_from_lfp\")\n",
    "    \n",
    "    bin_paths = ea.get_lfp_bin_paths(subject, experiment, alias, probe=probe)\n",
    "    emg_paths = ea.get_analysis_counterparts(bin_paths, \"emg.nc\", subject)\n",
    "    #bin_paths = ea.get_sglx_style_datapaths(subject=subject, experiment=experiment, condition=condition, ext=\"lf.bin\")\n",
    "    #emg_paths = ea.get_sglx_style_datapaths(subject=subject, experiment=experiment, condition=condition, ext=\"emg.nc\")\n",
    "\n",
    "    for bin_path, emg_path in zip(bin_paths, emg_paths):\n",
    "        sig = load_trigger(bin_path, emg_chans)\n",
    "        emg = get_emg(sig, **EMG_OPTS)\n",
    "        \n",
    "        # Create parent directories if they do not already exist.\n",
    "        Path(emg_path).parent.mkdir(parents=True, exist_ok=True)  \n",
    "        emg.to_netcdf(emg_path)\n",
    "        emg.close()\n",
    "        \n",
    "        current_time = datetime.now().strftime(\"%H:%M:%S\")\n",
    "        print(f\"{current_time}: Finished {str(bin_path)}\")"
   ]
  },
  {
   "cell_type": "code",
   "execution_count": 8,
   "metadata": {},
   "outputs": [
    {
     "name": "stdout",
     "output_type": "stream",
     "text": [
      "nChan: 385, nFileSamp: 12750840\n",
      "Filtering LFP with wp=[300, 600], ws=[275, 625], gpass=1, gstop=60,filter type=butter\n",
      "Computing EMG from filtered LFP...\n",
      "target sf = 20, window size = 25.0, LFP sf=2500.0113678480425, LFP nchans = 3\n"
     ]
    },
    {
     "data": {
      "application/vnd.jupyter.widget-view+json": {
       "model_id": "a113e820a06446699bd0f4dd1668ada4",
       "version_major": 2,
       "version_minor": 0
      },
      "text/plain": [
       "HBox(children=(HTML(value='XCorr: Iterate on channel pairs'), FloatProgress(value=0.0, max=3.0), HTML(value=''…"
      ]
     },
     "metadata": {},
     "output_type": "display_data"
    },
    {
     "data": {
      "application/vnd.jupyter.widget-view+json": {
       "model_id": "0fae934785b64bdfb7d64a23614840ed",
       "version_major": 2,
       "version_minor": 0
      },
      "text/plain": [
       "HBox(children=(HTML(value='XCorr: Iterate on windows'), FloatProgress(value=0.0, max=102007.0), HTML(value='')…"
      ]
     },
     "metadata": {},
     "output_type": "display_data"
    },
    {
     "name": "stdout",
     "output_type": "stream",
     "text": [
      "\n"
     ]
    },
    {
     "data": {
      "application/vnd.jupyter.widget-view+json": {
       "model_id": "1bd6cfc5aec146bdac5fe289c539e924",
       "version_major": 2,
       "version_minor": 0
      },
      "text/plain": [
       "HBox(children=(HTML(value='XCorr: Iterate on windows'), FloatProgress(value=0.0, max=102007.0), HTML(value='')…"
      ]
     },
     "metadata": {},
     "output_type": "display_data"
    },
    {
     "name": "stdout",
     "output_type": "stream",
     "text": [
      "\n"
     ]
    },
    {
     "data": {
      "application/vnd.jupyter.widget-view+json": {
       "model_id": "61601486cfb84ac59bae5d20e06a9d7b",
       "version_major": 2,
       "version_minor": 0
      },
      "text/plain": [
       "HBox(children=(HTML(value='XCorr: Iterate on windows'), FloatProgress(value=0.0, max=102007.0), HTML(value='')…"
      ]
     },
     "metadata": {},
     "output_type": "display_data"
    },
    {
     "name": "stdout",
     "output_type": "stream",
     "text": [
      "\n",
      "\n",
      "Done!\n",
      "11:34:29: Finished /Volumes/neuropixel_archive/Data/chronic/CNPIX11-Adrian/8-31-2021/SpikeGLX/8-31-2021_g1/8-31-2021_g1_imec1/8-31-2021_g1_t1.imec1.lf.bin\n"
     ]
    }
   ],
   "source": [
    "get_condition_emg(\"Adrian\", \"sleep_homeostasis\", \"patch3\", \"imec1\")"
   ]
  },
  {
   "cell_type": "code",
   "execution_count": null,
   "metadata": {},
   "outputs": [],
   "source": []
  }
 ],
 "metadata": {
  "interpreter": {
   "hash": "f06ef39cb6ee7741943854b92e7f7bd5e36de2ca6c2d3088dba84f9a49c05b4a"
  },
  "kernelspec": {
   "display_name": "Python 3.7.10 64-bit ('ecephys': conda)",
   "name": "python3"
  },
  "language_info": {
   "codemirror_mode": {
    "name": "ipython",
    "version": 3
   },
   "file_extension": ".py",
   "mimetype": "text/x-python",
   "name": "python",
   "nbconvert_exporter": "python",
   "pygments_lexer": "ipython3",
   "version": "3.7.10"
  }
 },
 "nbformat": 4,
 "nbformat_minor": 4
}
