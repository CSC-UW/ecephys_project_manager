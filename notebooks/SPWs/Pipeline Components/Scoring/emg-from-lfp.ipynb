{
 "cells": [
  {
   "cell_type": "code",
   "execution_count": 1,
   "metadata": {
    "execution": {
     "iopub.execute_input": "2021-07-20T20:25:15.356468Z",
     "iopub.status.busy": "2021-07-20T20:25:15.355972Z",
     "iopub.status.idle": "2021-07-20T20:25:15.373767Z",
     "shell.execute_reply": "2021-07-20T20:25:15.373177Z",
     "shell.execute_reply.started": "2021-07-20T20:25:15.356410Z"
    }
   },
   "outputs": [],
   "source": [
    "%load_ext autoreload\n",
    "%autoreload 2"
   ]
  },
  {
   "cell_type": "code",
   "execution_count": 2,
   "metadata": {
    "execution": {
     "iopub.execute_input": "2021-07-20T20:25:17.584281Z",
     "iopub.status.busy": "2021-07-20T20:25:17.583953Z",
     "iopub.status.idle": "2021-07-20T20:25:17.848880Z",
     "shell.execute_reply": "2021-07-20T20:25:17.848194Z",
     "shell.execute_reply.started": "2021-07-20T20:25:17.584243Z"
    }
   },
   "outputs": [],
   "source": [
    "from pathlib import Path\n",
    "from datetime import datetime"
   ]
  },
  {
   "cell_type": "code",
   "execution_count": 3,
   "metadata": {
    "execution": {
     "iopub.execute_input": "2021-07-20T20:25:27.212680Z",
     "iopub.status.busy": "2021-07-20T20:25:27.212199Z",
     "iopub.status.idle": "2021-07-20T20:25:27.567233Z",
     "shell.execute_reply": "2021-07-20T20:25:27.566548Z",
     "shell.execute_reply.started": "2021-07-20T20:25:27.212621Z"
    }
   },
   "outputs": [],
   "source": [
    "from xrsig import get_emg\n",
    "from sglxarray import load_trigger\n",
    "import ecephys_analyses as ea"
   ]
  },
  {
   "cell_type": "code",
   "execution_count": 4,
   "metadata": {
    "execution": {
     "iopub.execute_input": "2021-07-20T20:25:29.000086Z",
     "iopub.status.busy": "2021-07-20T20:25:28.999764Z",
     "iopub.status.idle": "2021-07-20T20:25:29.019091Z",
     "shell.execute_reply": "2021-07-20T20:25:29.018369Z",
     "shell.execute_reply.started": "2021-07-20T20:25:29.000049Z"
    }
   },
   "outputs": [],
   "source": [
    "EMG_OPTS = dict(target_sf=20, window_size=25.0, wp=[300, 600], ws=[275, 625], gpass=1, gstop=60, ftype='butter')"
   ]
  },
  {
   "cell_type": "code",
   "execution_count": 6,
   "metadata": {
    "execution": {
     "iopub.execute_input": "2021-07-20T20:26:21.197077Z",
     "iopub.status.busy": "2021-07-20T20:26:21.196594Z",
     "iopub.status.idle": "2021-07-20T20:26:21.221580Z",
     "shell.execute_reply": "2021-07-20T20:26:21.220791Z",
     "shell.execute_reply.started": "2021-07-20T20:26:21.197019Z"
    }
   },
   "outputs": [],
   "source": [
    "def get_condition_emg(subject, experiment, condition, probe):\n",
    "    emg_chans = ea.get_channels(subject, experiment, probe, \"emg_from_lfp\")\n",
    "    \n",
    "    bin_paths = ea.get_sglx_style_datapaths(subject=subject, experiment=experiment, condition=condition, ext=\"lf.bin\")\n",
    "    emg_paths = ea.get_sglx_style_datapaths(subject=subject, experiment=experiment, condition=condition, ext=\"emg.nc\")\n",
    "\n",
    "    for bin_path, emg_path in zip(bin_paths, emg_paths):\n",
    "        sig = load_trigger(bin_path, emg_chans)\n",
    "        emg = get_emg(sig, **EMG_OPTS)\n",
    "        \n",
    "        # Create parent directories if they do not already exist.\n",
    "        Path(emg_path).parent.mkdir(parents=True, exist_ok=True)  \n",
    "        emg.to_netcdf(emg_path)\n",
    "        emg.close()\n",
    "        \n",
    "        current_time = datetime.now().strftime(\"%H:%M:%S\")\n",
    "        print(f\"{current_time}: Finished {str(bin_path)}\")"
   ]
  },
  {
   "cell_type": "code",
   "execution_count": null,
   "metadata": {
    "execution": {
     "iopub.execute_input": "2021-07-20T20:26:37.301529Z",
     "iopub.status.busy": "2021-07-20T20:26:37.301048Z"
    }
   },
   "outputs": [
    {
     "name": "stdout",
     "output_type": "stream",
     "text": [
      "nChan: 385, nFileSamp: 18000070\n",
      "Filtering LFP with wp=[300, 600], ws=[275, 625], gpass=1, gstop=60,filter type=butter\n",
      "Computing EMG from filtered LFP...\n",
      "target sf = 20, window size = 25.0, LFP sf=2500.0096305, LFP nchans = 3\n"
     ]
    },
    {
     "data": {
      "application/vnd.jupyter.widget-view+json": {
       "model_id": "d5d2df008ea744bd89fe0935b2143e27",
       "version_major": 2,
       "version_minor": 0
      },
      "text/plain": [
       "HBox(children=(HTML(value='XCorr: Iterate on channel pairs'), FloatProgress(value=0.0, max=3.0), HTML(value=''…"
      ]
     },
     "metadata": {},
     "output_type": "display_data"
    },
    {
     "data": {
      "application/vnd.jupyter.widget-view+json": {
       "model_id": "69dc110b99d74bddbe734fb58e32ab2f",
       "version_major": 2,
       "version_minor": 0
      },
      "text/plain": [
       "HBox(children=(HTML(value='XCorr: Iterate on windows'), FloatProgress(value=0.0, max=144001.0), HTML(value='')…"
      ]
     },
     "metadata": {},
     "output_type": "display_data"
    },
    {
     "name": "stdout",
     "output_type": "stream",
     "text": [
      "\n"
     ]
    },
    {
     "data": {
      "application/vnd.jupyter.widget-view+json": {
       "model_id": "b37fc490767643efaee34c13ce7f4317",
       "version_major": 2,
       "version_minor": 0
      },
      "text/plain": [
       "HBox(children=(HTML(value='XCorr: Iterate on windows'), FloatProgress(value=0.0, max=144001.0), HTML(value='')…"
      ]
     },
     "metadata": {},
     "output_type": "display_data"
    },
    {
     "name": "stdout",
     "output_type": "stream",
     "text": [
      "\n"
     ]
    },
    {
     "data": {
      "application/vnd.jupyter.widget-view+json": {
       "model_id": "ed63ad4d3bb641a4a0a374a65101e11f",
       "version_major": 2,
       "version_minor": 0
      },
      "text/plain": [
       "HBox(children=(HTML(value='XCorr: Iterate on windows'), FloatProgress(value=0.0, max=144001.0), HTML(value='')…"
      ]
     },
     "metadata": {},
     "output_type": "display_data"
    },
    {
     "name": "stdout",
     "output_type": "stream",
     "text": [
      "\n",
      "\n",
      "Done!\n",
      "15:36:16: Finished /Volumes/neuropixel_archive/Data/chronic/CNPIX9-Luigi/6-20-2021/6-20-2021_g0/6-20-2021_g0_imec0/6-20-2021_g0_t0.imec0.lf.bin\n",
      "nChan: 385, nFileSamp: 18000070\n",
      "Filtering LFP with wp=[300, 600], ws=[275, 625], gpass=1, gstop=60,filter type=butter\n",
      "Computing EMG from filtered LFP...\n",
      "target sf = 20, window size = 25.0, LFP sf=2500.0096305, LFP nchans = 3\n"
     ]
    },
    {
     "data": {
      "application/vnd.jupyter.widget-view+json": {
       "model_id": "0d635a8fcfe44bd6a54b44bee12c9bfe",
       "version_major": 2,
       "version_minor": 0
      },
      "text/plain": [
       "HBox(children=(HTML(value='XCorr: Iterate on channel pairs'), FloatProgress(value=0.0, max=3.0), HTML(value=''…"
      ]
     },
     "metadata": {},
     "output_type": "display_data"
    },
    {
     "data": {
      "application/vnd.jupyter.widget-view+json": {
       "model_id": "5713a86d277a4e0786fccba3c10c9380",
       "version_major": 2,
       "version_minor": 0
      },
      "text/plain": [
       "HBox(children=(HTML(value='XCorr: Iterate on windows'), FloatProgress(value=0.0, max=144001.0), HTML(value='')…"
      ]
     },
     "metadata": {},
     "output_type": "display_data"
    },
    {
     "name": "stdout",
     "output_type": "stream",
     "text": [
      "\n"
     ]
    },
    {
     "data": {
      "application/vnd.jupyter.widget-view+json": {
       "model_id": "fb6acabf1a0242da91924b77fad50732",
       "version_major": 2,
       "version_minor": 0
      },
      "text/plain": [
       "HBox(children=(HTML(value='XCorr: Iterate on windows'), FloatProgress(value=0.0, max=144001.0), HTML(value='')…"
      ]
     },
     "metadata": {},
     "output_type": "display_data"
    },
    {
     "name": "stdout",
     "output_type": "stream",
     "text": [
      "\n"
     ]
    },
    {
     "data": {
      "application/vnd.jupyter.widget-view+json": {
       "model_id": "f833a300e9d74025a2ca5d799f9ff0e2",
       "version_major": 2,
       "version_minor": 0
      },
      "text/plain": [
       "HBox(children=(HTML(value='XCorr: Iterate on windows'), FloatProgress(value=0.0, max=144001.0), HTML(value='')…"
      ]
     },
     "metadata": {},
     "output_type": "display_data"
    },
    {
     "name": "stdout",
     "output_type": "stream",
     "text": [
      "\n",
      "\n",
      "Done!\n",
      "15:45:24: Finished /Volumes/neuropixel_archive/Data/chronic/CNPIX9-Luigi/6-20-2021/6-20-2021_g0/6-20-2021_g0_imec0/6-20-2021_g0_t1.imec0.lf.bin\n",
      "nChan: 385, nFileSamp: 18000070\n",
      "Filtering LFP with wp=[300, 600], ws=[275, 625], gpass=1, gstop=60,filter type=butter\n",
      "Computing EMG from filtered LFP...\n",
      "target sf = 20, window size = 25.0, LFP sf=2500.0096305, LFP nchans = 3\n"
     ]
    },
    {
     "data": {
      "application/vnd.jupyter.widget-view+json": {
       "model_id": "24de5ce44f0f4a9d8308d510b18e3345",
       "version_major": 2,
       "version_minor": 0
      },
      "text/plain": [
       "HBox(children=(HTML(value='XCorr: Iterate on channel pairs'), FloatProgress(value=0.0, max=3.0), HTML(value=''…"
      ]
     },
     "metadata": {},
     "output_type": "display_data"
    },
    {
     "data": {
      "application/vnd.jupyter.widget-view+json": {
       "model_id": "030cad3a12d941f39050a227651f7a5d",
       "version_major": 2,
       "version_minor": 0
      },
      "text/plain": [
       "HBox(children=(HTML(value='XCorr: Iterate on windows'), FloatProgress(value=0.0, max=144001.0), HTML(value='')…"
      ]
     },
     "metadata": {},
     "output_type": "display_data"
    },
    {
     "name": "stdout",
     "output_type": "stream",
     "text": [
      "\n"
     ]
    },
    {
     "data": {
      "application/vnd.jupyter.widget-view+json": {
       "model_id": "4434781f239f4722a0cccfa5368291fd",
       "version_major": 2,
       "version_minor": 0
      },
      "text/plain": [
       "HBox(children=(HTML(value='XCorr: Iterate on windows'), FloatProgress(value=0.0, max=144001.0), HTML(value='')…"
      ]
     },
     "metadata": {},
     "output_type": "display_data"
    },
    {
     "name": "stdout",
     "output_type": "stream",
     "text": [
      "\n"
     ]
    },
    {
     "data": {
      "application/vnd.jupyter.widget-view+json": {
       "model_id": "69509fdaf5c041ae89ccd727660df0bf",
       "version_major": 2,
       "version_minor": 0
      },
      "text/plain": [
       "HBox(children=(HTML(value='XCorr: Iterate on windows'), FloatProgress(value=0.0, max=144001.0), HTML(value='')…"
      ]
     },
     "metadata": {},
     "output_type": "display_data"
    },
    {
     "name": "stdout",
     "output_type": "stream",
     "text": [
      "\n",
      "\n",
      "Done!\n",
      "15:54:57: Finished /Volumes/neuropixel_archive/Data/chronic/CNPIX9-Luigi/6-20-2021/6-20-2021_g0/6-20-2021_g0_imec0/6-20-2021_g0_t2.imec0.lf.bin\n",
      "nChan: 385, nFileSamp: 18000070\n",
      "Filtering LFP with wp=[300, 600], ws=[275, 625], gpass=1, gstop=60,filter type=butter\n",
      "Computing EMG from filtered LFP...\n",
      "target sf = 20, window size = 25.0, LFP sf=2500.0096305, LFP nchans = 3\n"
     ]
    },
    {
     "data": {
      "application/vnd.jupyter.widget-view+json": {
       "model_id": "40a8abe5edf4436d8ad0a1071c35ad55",
       "version_major": 2,
       "version_minor": 0
      },
      "text/plain": [
       "HBox(children=(HTML(value='XCorr: Iterate on channel pairs'), FloatProgress(value=0.0, max=3.0), HTML(value=''…"
      ]
     },
     "metadata": {},
     "output_type": "display_data"
    },
    {
     "data": {
      "application/vnd.jupyter.widget-view+json": {
       "model_id": "6db939e67fea4dc6a68d2227d841461a",
       "version_major": 2,
       "version_minor": 0
      },
      "text/plain": [
       "HBox(children=(HTML(value='XCorr: Iterate on windows'), FloatProgress(value=0.0, max=144001.0), HTML(value='')…"
      ]
     },
     "metadata": {},
     "output_type": "display_data"
    },
    {
     "name": "stdout",
     "output_type": "stream",
     "text": [
      "\n"
     ]
    },
    {
     "data": {
      "application/vnd.jupyter.widget-view+json": {
       "model_id": "96c5092d54f94cada862d490942549fd",
       "version_major": 2,
       "version_minor": 0
      },
      "text/plain": [
       "HBox(children=(HTML(value='XCorr: Iterate on windows'), FloatProgress(value=0.0, max=144001.0), HTML(value='')…"
      ]
     },
     "metadata": {},
     "output_type": "display_data"
    },
    {
     "name": "stdout",
     "output_type": "stream",
     "text": [
      "\n"
     ]
    },
    {
     "data": {
      "application/vnd.jupyter.widget-view+json": {
       "model_id": "63a81f326fa740089f03c7752e0792be",
       "version_major": 2,
       "version_minor": 0
      },
      "text/plain": [
       "HBox(children=(HTML(value='XCorr: Iterate on windows'), FloatProgress(value=0.0, max=144001.0), HTML(value='')…"
      ]
     },
     "metadata": {},
     "output_type": "display_data"
    },
    {
     "name": "stdout",
     "output_type": "stream",
     "text": [
      "\n",
      "\n",
      "Done!\n",
      "16:04:31: Finished /Volumes/neuropixel_archive/Data/chronic/CNPIX9-Luigi/6-20-2021/6-20-2021_g0/6-20-2021_g0_imec0/6-20-2021_g0_t3.imec0.lf.bin\n",
      "nChan: 385, nFileSamp: 18000070\n",
      "Filtering LFP with wp=[300, 600], ws=[275, 625], gpass=1, gstop=60,filter type=butter\n",
      "Computing EMG from filtered LFP...\n",
      "target sf = 20, window size = 25.0, LFP sf=2500.0096305, LFP nchans = 3\n"
     ]
    },
    {
     "data": {
      "application/vnd.jupyter.widget-view+json": {
       "model_id": "22a40a5e7d4242a8b0dbc9865a2bb6e4",
       "version_major": 2,
       "version_minor": 0
      },
      "text/plain": [
       "HBox(children=(HTML(value='XCorr: Iterate on channel pairs'), FloatProgress(value=0.0, max=3.0), HTML(value=''…"
      ]
     },
     "metadata": {},
     "output_type": "display_data"
    },
    {
     "data": {
      "application/vnd.jupyter.widget-view+json": {
       "model_id": "cc1332f4848443579ee7a064f01bbd4c",
       "version_major": 2,
       "version_minor": 0
      },
      "text/plain": [
       "HBox(children=(HTML(value='XCorr: Iterate on windows'), FloatProgress(value=0.0, max=144001.0), HTML(value='')…"
      ]
     },
     "metadata": {},
     "output_type": "display_data"
    },
    {
     "name": "stdout",
     "output_type": "stream",
     "text": [
      "\n"
     ]
    },
    {
     "data": {
      "application/vnd.jupyter.widget-view+json": {
       "model_id": "4a56f5fa13ed41b6bc7e8ac253bf563f",
       "version_major": 2,
       "version_minor": 0
      },
      "text/plain": [
       "HBox(children=(HTML(value='XCorr: Iterate on windows'), FloatProgress(value=0.0, max=144001.0), HTML(value='')…"
      ]
     },
     "metadata": {},
     "output_type": "display_data"
    },
    {
     "name": "stdout",
     "output_type": "stream",
     "text": [
      "\n"
     ]
    },
    {
     "data": {
      "application/vnd.jupyter.widget-view+json": {
       "model_id": "83133ca6048a45e59068285b08b2bc60",
       "version_major": 2,
       "version_minor": 0
      },
      "text/plain": [
       "HBox(children=(HTML(value='XCorr: Iterate on windows'), FloatProgress(value=0.0, max=144001.0), HTML(value='')…"
      ]
     },
     "metadata": {},
     "output_type": "display_data"
    },
    {
     "name": "stdout",
     "output_type": "stream",
     "text": [
      "\n",
      "\n",
      "Done!\n",
      "16:13:50: Finished /Volumes/neuropixel_archive/Data/chronic/CNPIX9-Luigi/6-20-2021/6-20-2021_g0/6-20-2021_g0_imec0/6-20-2021_g0_t4.imec0.lf.bin\n",
      "nChan: 385, nFileSamp: 18000070\n",
      "Filtering LFP with wp=[300, 600], ws=[275, 625], gpass=1, gstop=60,filter type=butter\n",
      "Computing EMG from filtered LFP...\n",
      "target sf = 20, window size = 25.0, LFP sf=2500.0096305, LFP nchans = 3\n"
     ]
    },
    {
     "data": {
      "application/vnd.jupyter.widget-view+json": {
       "model_id": "12e056aee0e1434ca6ce1570fd98d747",
       "version_major": 2,
       "version_minor": 0
      },
      "text/plain": [
       "HBox(children=(HTML(value='XCorr: Iterate on channel pairs'), FloatProgress(value=0.0, max=3.0), HTML(value=''…"
      ]
     },
     "metadata": {},
     "output_type": "display_data"
    },
    {
     "data": {
      "application/vnd.jupyter.widget-view+json": {
       "model_id": "4210a22b4e2c44629616a5086335ac7d",
       "version_major": 2,
       "version_minor": 0
      },
      "text/plain": [
       "HBox(children=(HTML(value='XCorr: Iterate on windows'), FloatProgress(value=0.0, max=144001.0), HTML(value='')…"
      ]
     },
     "metadata": {},
     "output_type": "display_data"
    },
    {
     "name": "stdout",
     "output_type": "stream",
     "text": [
      "\n"
     ]
    },
    {
     "data": {
      "application/vnd.jupyter.widget-view+json": {
       "model_id": "0ccd11172b7242d8bbc418695cd59227",
       "version_major": 2,
       "version_minor": 0
      },
      "text/plain": [
       "HBox(children=(HTML(value='XCorr: Iterate on windows'), FloatProgress(value=0.0, max=144001.0), HTML(value='')…"
      ]
     },
     "metadata": {},
     "output_type": "display_data"
    },
    {
     "name": "stdout",
     "output_type": "stream",
     "text": [
      "\n"
     ]
    },
    {
     "data": {
      "application/vnd.jupyter.widget-view+json": {
       "model_id": "b8893ace12224a51afd57563bc2c9029",
       "version_major": 2,
       "version_minor": 0
      },
      "text/plain": [
       "HBox(children=(HTML(value='XCorr: Iterate on windows'), FloatProgress(value=0.0, max=144001.0), HTML(value='')…"
      ]
     },
     "metadata": {},
     "output_type": "display_data"
    },
    {
     "name": "stdout",
     "output_type": "stream",
     "text": [
      "\n",
      "\n",
      "Done!\n",
      "16:25:19: Finished /Volumes/neuropixel_archive/Data/chronic/CNPIX9-Luigi/6-20-2021/6-20-2021_g0/6-20-2021_g0_imec0/6-20-2021_g0_t5.imec0.lf.bin\n",
      "nChan: 385, nFileSamp: 18000071\n"
     ]
    }
   ],
   "source": [
    "get_condition_emg(\"Luigi\", \"sleep-homeostasis\", \"all\", \"imec0\")"
   ]
  },
  {
   "cell_type": "code",
   "execution_count": null,
   "metadata": {},
   "outputs": [],
   "source": []
  }
 ],
 "metadata": {
  "kernelspec": {
   "display_name": "Python 3",
   "language": "python",
   "name": "python3"
  },
  "language_info": {
   "codemirror_mode": {
    "name": "ipython",
    "version": 3
   },
   "file_extension": ".py",
   "mimetype": "text/x-python",
   "name": "python",
   "nbconvert_exporter": "python",
   "pygments_lexer": "ipython3",
   "version": "3.7.9"
  }
 },
 "nbformat": 4,
 "nbformat_minor": 4
}
