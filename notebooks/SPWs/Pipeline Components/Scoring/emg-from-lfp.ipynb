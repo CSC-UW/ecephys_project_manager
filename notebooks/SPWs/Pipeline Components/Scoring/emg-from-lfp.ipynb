{
 "cells": [
  {
   "cell_type": "code",
   "execution_count": 1,
   "metadata": {
    "execution": {
     "iopub.execute_input": "2021-05-21T23:56:14.151982Z",
     "iopub.status.busy": "2021-05-21T23:56:14.151632Z",
     "iopub.status.idle": "2021-05-21T23:56:14.168099Z",
     "shell.execute_reply": "2021-05-21T23:56:14.167602Z",
     "shell.execute_reply.started": "2021-05-21T23:56:14.151939Z"
    }
   },
   "outputs": [],
   "source": [
    "%load_ext autoreload\n",
    "%autoreload 2"
   ]
  },
  {
   "cell_type": "code",
   "execution_count": 2,
   "metadata": {
    "execution": {
     "iopub.execute_input": "2021-05-21T23:56:14.580650Z",
     "iopub.status.busy": "2021-05-21T23:56:14.580459Z",
     "iopub.status.idle": "2021-05-21T23:56:14.853753Z",
     "shell.execute_reply": "2021-05-21T23:56:14.853138Z",
     "shell.execute_reply.started": "2021-05-21T23:56:14.580629Z"
    }
   },
   "outputs": [],
   "source": [
    "from pathlib import Path\n",
    "import numpy as np\n",
    "import pandas as pd\n",
    "from datetime import datetime\n",
    "import xarray as xr"
   ]
  },
  {
   "cell_type": "code",
   "execution_count": 3,
   "metadata": {
    "execution": {
     "iopub.execute_input": "2021-05-21T23:56:14.867088Z",
     "iopub.status.busy": "2021-05-21T23:56:14.866889Z",
     "iopub.status.idle": "2021-05-21T23:56:15.177096Z",
     "shell.execute_reply": "2021-05-21T23:56:15.176597Z",
     "shell.execute_reply.started": "2021-05-21T23:56:14.867061Z"
    }
   },
   "outputs": [],
   "source": [
    "from emg_from_lfp import compute_emg\n",
    "from ecephys.sglx_utils import load_trigger\n",
    "import ecephys_analyses as ea"
   ]
  },
  {
   "cell_type": "code",
   "execution_count": 4,
   "metadata": {
    "execution": {
     "iopub.execute_input": "2021-05-21T23:56:15.192519Z",
     "iopub.status.busy": "2021-05-21T23:56:15.192325Z",
     "iopub.status.idle": "2021-05-21T23:56:15.204523Z",
     "shell.execute_reply": "2021-05-21T23:56:15.204030Z",
     "shell.execute_reply.started": "2021-05-21T23:56:15.192493Z"
    }
   },
   "outputs": [],
   "source": [
    "EMG_OPTS = dict(target_sf=20, window_size=25.0, wp=[300, 600], ws=[275, 625], gpass=1, gstop=60, ftype='butter')"
   ]
  },
  {
   "cell_type": "code",
   "execution_count": 5,
   "metadata": {
    "execution": {
     "iopub.execute_input": "2021-05-21T23:56:15.205484Z",
     "iopub.status.busy": "2021-05-21T23:56:15.205301Z",
     "iopub.status.idle": "2021-05-21T23:56:15.221215Z",
     "shell.execute_reply": "2021-05-21T23:56:15.220523Z",
     "shell.execute_reply.started": "2021-05-21T23:56:15.205464Z"
    }
   },
   "outputs": [],
   "source": [
    "def get_emg(sig, **emg_kwargs):\n",
    "    values = compute_emg(sig.values.T, sig.fs, **emg_kwargs).flatten()\n",
    "    time = np.linspace(sig.time.min(), sig.time.max(), values.size)\n",
    "    timedelta = pd.to_timedelta(time, \"s\")\n",
    "    datetime = sig.datetime.values.min() + timedelta\n",
    "\n",
    "    emg = xr.DataArray(\n",
    "        values,\n",
    "        dims=\"time\",\n",
    "        coords={\n",
    "            \"time\": time,\n",
    "            \"timedelta\": (\"time\", timedelta),\n",
    "            \"datetime\": (\"time\", datetime),\n",
    "        },\n",
    "        attrs={\"long_name\": \"emg_from_lfp\", \"units\": \"zero-lag correlation\"},\n",
    "    )\n",
    "    for key in emg_kwargs:\n",
    "        emg.attrs[key] = emg_kwargs[key]\n",
    "\n",
    "    return emg"
   ]
  },
  {
   "cell_type": "code",
   "execution_count": 6,
   "metadata": {
    "execution": {
     "iopub.execute_input": "2021-05-21T23:56:15.314674Z",
     "iopub.status.busy": "2021-05-21T23:56:15.314473Z",
     "iopub.status.idle": "2021-05-21T23:56:15.335625Z",
     "shell.execute_reply": "2021-05-21T23:56:15.334885Z",
     "shell.execute_reply.started": "2021-05-21T23:56:15.314648Z"
    }
   },
   "outputs": [],
   "source": [
    "def get_condition_emg(subject, experiment, condition, probe):\n",
    "    emg_chans = ea.get_channels(subject, experiment, probe, \"emg_from_lfp\")\n",
    "    \n",
    "    bin_paths = ea.get_sglx_style_datapaths(subject=subject, experiment=experiment, condition=condition, ext=\"lf.bin\")\n",
    "    emg_paths = ea.get_sglx_style_datapaths(subject=subject, experiment=experiment, condition=condition, ext=\"emg.nc\")\n",
    "\n",
    "    for bin_path, emg_path in zip(bin_paths, emg_paths):\n",
    "        sig = load_trigger(bin_path, emg_chans)\n",
    "        emg = get_emg(sig, **EMG_OPTS)\n",
    "        \n",
    "        # Create parent directories if they do not already exist.\n",
    "        Path(emg_path).parent.mkdir(parents=True, exist_ok=True)  \n",
    "        emg.to_netcdf(emg_path)\n",
    "        emg.close()\n",
    "        \n",
    "        current_time = datetime.now().strftime(\"%H:%M:%S\")\n",
    "        print(f\"{current_time}: Finished {str(bin_path)}\")"
   ]
  },
  {
   "cell_type": "code",
   "execution_count": 7,
   "metadata": {
    "execution": {
     "iopub.execute_input": "2021-05-21T23:56:15.488872Z",
     "iopub.status.busy": "2021-05-21T23:56:15.488562Z",
     "iopub.status.idle": "2021-05-22T00:17:15.091291Z",
     "shell.execute_reply": "2021-05-22T00:17:15.090533Z",
     "shell.execute_reply.started": "2021-05-21T23:56:15.488836Z"
    }
   },
   "outputs": [
    {
     "name": "stdout",
     "output_type": "stream",
     "text": [
      "nChan: 385, nFileSamp: 9000060\n",
      "Filtering LFP with wp=[300, 600], ws=[275, 625], gpass=1, gstop=60,filter type=butter\n",
      "Computing EMG from filtered LFP...\n",
      "target sf = 20, window size = 25.0, LFP sf=2500.016225626741, LFP nchans = 3\n"
     ]
    },
    {
     "data": {
      "application/vnd.jupyter.widget-view+json": {
       "model_id": "9e304168011941e09e41174edddd091e",
       "version_major": 2,
       "version_minor": 0
      },
      "text/plain": [
       "HBox(children=(HTML(value='XCorr: Iterate on channel pairs'), FloatProgress(value=0.0, max=3.0), HTML(value=''…"
      ]
     },
     "metadata": {},
     "output_type": "display_data"
    },
    {
     "data": {
      "application/vnd.jupyter.widget-view+json": {
       "model_id": "3ecf816ab9a34e908be1a1d99c6f80f6",
       "version_major": 2,
       "version_minor": 0
      },
      "text/plain": [
       "HBox(children=(HTML(value='XCorr: Iterate on windows'), FloatProgress(value=0.0, max=72001.0), HTML(value=''))…"
      ]
     },
     "metadata": {},
     "output_type": "display_data"
    },
    {
     "name": "stdout",
     "output_type": "stream",
     "text": [
      "\n"
     ]
    },
    {
     "data": {
      "application/vnd.jupyter.widget-view+json": {
       "model_id": "117a570266444513aac773dbba36c7dd",
       "version_major": 2,
       "version_minor": 0
      },
      "text/plain": [
       "HBox(children=(HTML(value='XCorr: Iterate on windows'), FloatProgress(value=0.0, max=72001.0), HTML(value=''))…"
      ]
     },
     "metadata": {},
     "output_type": "display_data"
    },
    {
     "name": "stdout",
     "output_type": "stream",
     "text": [
      "\n"
     ]
    },
    {
     "data": {
      "application/vnd.jupyter.widget-view+json": {
       "model_id": "11294685ab0644b689ff763ec1bdccfa",
       "version_major": 2,
       "version_minor": 0
      },
      "text/plain": [
       "HBox(children=(HTML(value='XCorr: Iterate on windows'), FloatProgress(value=0.0, max=72001.0), HTML(value=''))…"
      ]
     },
     "metadata": {},
     "output_type": "display_data"
    },
    {
     "name": "stdout",
     "output_type": "stream",
     "text": [
      "\n",
      "\n",
      "Done!\n",
      "19:00:59: Finished /Volumes/neuropixel_archive/Data/chronic/CNPIX4-Doppio/4-24-2020/4-24-2020_g0/4-24-2020_g0_imec1/4-24-2020_g0_t0.imec1.lf.bin\n",
      "nChan: 385, nFileSamp: 9000059\n",
      "Filtering LFP with wp=[300, 600], ws=[275, 625], gpass=1, gstop=60,filter type=butter\n",
      "Computing EMG from filtered LFP...\n",
      "target sf = 20, window size = 25.0, LFP sf=2500.016225626741, LFP nchans = 3\n"
     ]
    },
    {
     "data": {
      "application/vnd.jupyter.widget-view+json": {
       "model_id": "10569acfc34a4fbba8da4b53496511ac",
       "version_major": 2,
       "version_minor": 0
      },
      "text/plain": [
       "HBox(children=(HTML(value='XCorr: Iterate on channel pairs'), FloatProgress(value=0.0, max=3.0), HTML(value=''…"
      ]
     },
     "metadata": {},
     "output_type": "display_data"
    },
    {
     "data": {
      "application/vnd.jupyter.widget-view+json": {
       "model_id": "e90601464c424eb6ad9cce12676730a3",
       "version_major": 2,
       "version_minor": 0
      },
      "text/plain": [
       "HBox(children=(HTML(value='XCorr: Iterate on windows'), FloatProgress(value=0.0, max=72001.0), HTML(value=''))…"
      ]
     },
     "metadata": {},
     "output_type": "display_data"
    },
    {
     "name": "stdout",
     "output_type": "stream",
     "text": [
      "\n"
     ]
    },
    {
     "data": {
      "application/vnd.jupyter.widget-view+json": {
       "model_id": "d415107eaaab4baaa3adc301062ad930",
       "version_major": 2,
       "version_minor": 0
      },
      "text/plain": [
       "HBox(children=(HTML(value='XCorr: Iterate on windows'), FloatProgress(value=0.0, max=72001.0), HTML(value=''))…"
      ]
     },
     "metadata": {},
     "output_type": "display_data"
    },
    {
     "name": "stdout",
     "output_type": "stream",
     "text": [
      "\n"
     ]
    },
    {
     "data": {
      "application/vnd.jupyter.widget-view+json": {
       "model_id": "776a056f655b446fb2374807a4753f39",
       "version_major": 2,
       "version_minor": 0
      },
      "text/plain": [
       "HBox(children=(HTML(value='XCorr: Iterate on windows'), FloatProgress(value=0.0, max=72001.0), HTML(value=''))…"
      ]
     },
     "metadata": {},
     "output_type": "display_data"
    },
    {
     "name": "stdout",
     "output_type": "stream",
     "text": [
      "\n",
      "\n",
      "Done!\n",
      "19:05:52: Finished /Volumes/neuropixel_archive/Data/chronic/CNPIX4-Doppio/4-24-2020/4-24-2020_g0/4-24-2020_g0_imec1/4-24-2020_g0_t1.imec1.lf.bin\n",
      "nChan: 385, nFileSamp: 9000059\n",
      "Filtering LFP with wp=[300, 600], ws=[275, 625], gpass=1, gstop=60,filter type=butter\n",
      "Computing EMG from filtered LFP...\n",
      "target sf = 20, window size = 25.0, LFP sf=2500.016225626741, LFP nchans = 3\n"
     ]
    },
    {
     "data": {
      "application/vnd.jupyter.widget-view+json": {
       "model_id": "3b07bd4003be4d7d9e7cc63c3ba3b7ed",
       "version_major": 2,
       "version_minor": 0
      },
      "text/plain": [
       "HBox(children=(HTML(value='XCorr: Iterate on channel pairs'), FloatProgress(value=0.0, max=3.0), HTML(value=''…"
      ]
     },
     "metadata": {},
     "output_type": "display_data"
    },
    {
     "data": {
      "application/vnd.jupyter.widget-view+json": {
       "model_id": "f82f2133c2a94118b1a6346ec5ec70ee",
       "version_major": 2,
       "version_minor": 0
      },
      "text/plain": [
       "HBox(children=(HTML(value='XCorr: Iterate on windows'), FloatProgress(value=0.0, max=72001.0), HTML(value=''))…"
      ]
     },
     "metadata": {},
     "output_type": "display_data"
    },
    {
     "name": "stdout",
     "output_type": "stream",
     "text": [
      "\n"
     ]
    },
    {
     "data": {
      "application/vnd.jupyter.widget-view+json": {
       "model_id": "5db0c61f63f849a0b0747de6ae02285c",
       "version_major": 2,
       "version_minor": 0
      },
      "text/plain": [
       "HBox(children=(HTML(value='XCorr: Iterate on windows'), FloatProgress(value=0.0, max=72001.0), HTML(value=''))…"
      ]
     },
     "metadata": {},
     "output_type": "display_data"
    },
    {
     "name": "stdout",
     "output_type": "stream",
     "text": [
      "\n"
     ]
    },
    {
     "data": {
      "application/vnd.jupyter.widget-view+json": {
       "model_id": "5277cfa162f04eeab68ab7dc15628507",
       "version_major": 2,
       "version_minor": 0
      },
      "text/plain": [
       "HBox(children=(HTML(value='XCorr: Iterate on windows'), FloatProgress(value=0.0, max=72001.0), HTML(value=''))…"
      ]
     },
     "metadata": {},
     "output_type": "display_data"
    },
    {
     "name": "stdout",
     "output_type": "stream",
     "text": [
      "\n",
      "\n",
      "Done!\n",
      "19:12:03: Finished /Volumes/neuropixel_archive/Data/chronic/CNPIX4-Doppio/4-24-2020/4-24-2020_g0/4-24-2020_g0_imec1/4-24-2020_g0_t2.imec1.lf.bin\n",
      "nChan: 385, nFileSamp: 9000060\n",
      "Filtering LFP with wp=[300, 600], ws=[275, 625], gpass=1, gstop=60,filter type=butter\n",
      "Computing EMG from filtered LFP...\n",
      "target sf = 20, window size = 25.0, LFP sf=2500.016225626741, LFP nchans = 3\n"
     ]
    },
    {
     "data": {
      "application/vnd.jupyter.widget-view+json": {
       "model_id": "9e46cd8b6d46408898aa58da9a933080",
       "version_major": 2,
       "version_minor": 0
      },
      "text/plain": [
       "HBox(children=(HTML(value='XCorr: Iterate on channel pairs'), FloatProgress(value=0.0, max=3.0), HTML(value=''…"
      ]
     },
     "metadata": {},
     "output_type": "display_data"
    },
    {
     "data": {
      "application/vnd.jupyter.widget-view+json": {
       "model_id": "375f1ba935714425baf54fb8d6c67e36",
       "version_major": 2,
       "version_minor": 0
      },
      "text/plain": [
       "HBox(children=(HTML(value='XCorr: Iterate on windows'), FloatProgress(value=0.0, max=72001.0), HTML(value=''))…"
      ]
     },
     "metadata": {},
     "output_type": "display_data"
    },
    {
     "name": "stdout",
     "output_type": "stream",
     "text": [
      "\n"
     ]
    },
    {
     "data": {
      "application/vnd.jupyter.widget-view+json": {
       "model_id": "bbb325f41708449cbcb2bf8abe064890",
       "version_major": 2,
       "version_minor": 0
      },
      "text/plain": [
       "HBox(children=(HTML(value='XCorr: Iterate on windows'), FloatProgress(value=0.0, max=72001.0), HTML(value=''))…"
      ]
     },
     "metadata": {},
     "output_type": "display_data"
    },
    {
     "name": "stdout",
     "output_type": "stream",
     "text": [
      "\n"
     ]
    },
    {
     "data": {
      "application/vnd.jupyter.widget-view+json": {
       "model_id": "9f6ec44d3dc54c9698e1ad8d424f4b2e",
       "version_major": 2,
       "version_minor": 0
      },
      "text/plain": [
       "HBox(children=(HTML(value='XCorr: Iterate on windows'), FloatProgress(value=0.0, max=72001.0), HTML(value=''))…"
      ]
     },
     "metadata": {},
     "output_type": "display_data"
    },
    {
     "name": "stdout",
     "output_type": "stream",
     "text": [
      "\n",
      "\n",
      "Done!\n",
      "19:17:15: Finished /Volumes/neuropixel_archive/Data/chronic/CNPIX4-Doppio/4-24-2020/4-24-2020_g0/4-24-2020_g0_imec1/4-24-2020_g0_t3.imec1.lf.bin\n"
     ]
    }
   ],
   "source": [
    "get_condition_emg(\"Doppio\", \"ketamine-120mg\", \"all\", \"imec1\")"
   ]
  },
  {
   "cell_type": "code",
   "execution_count": null,
   "metadata": {},
   "outputs": [],
   "source": []
  }
 ],
 "metadata": {
  "kernelspec": {
   "display_name": "Python 3",
   "language": "python",
   "name": "python3"
  },
  "language_info": {
   "codemirror_mode": {
    "name": "ipython",
    "version": 3
   },
   "file_extension": ".py",
   "mimetype": "text/x-python",
   "name": "python",
   "nbconvert_exporter": "python",
   "pygments_lexer": "ipython3",
   "version": "3.7.9"
  }
 },
 "nbformat": 4,
 "nbformat_minor": 4
}
