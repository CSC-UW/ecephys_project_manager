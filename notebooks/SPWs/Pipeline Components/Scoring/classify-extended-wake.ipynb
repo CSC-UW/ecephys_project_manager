{
 "cells": [
  {
   "cell_type": "code",
   "execution_count": 1,
   "metadata": {
    "execution": {
     "iopub.execute_input": "2021-03-31T23:19:51.769352Z",
     "iopub.status.busy": "2021-03-31T23:19:51.768723Z",
     "iopub.status.idle": "2021-03-31T23:19:51.787393Z",
     "shell.execute_reply": "2021-03-31T23:19:51.786571Z",
     "shell.execute_reply.started": "2021-03-31T23:19:51.769260Z"
    }
   },
   "outputs": [],
   "source": [
    "%load_ext autoreload\n",
    "%autoreload 2"
   ]
  },
  {
   "cell_type": "markdown",
   "metadata": {},
   "source": [
    "# Imports and definitions"
   ]
  },
  {
   "cell_type": "code",
   "execution_count": 2,
   "metadata": {
    "execution": {
     "iopub.execute_input": "2021-03-31T23:19:52.883833Z",
     "iopub.status.busy": "2021-03-31T23:19:52.883298Z",
     "iopub.status.idle": "2021-03-31T23:19:53.750342Z",
     "shell.execute_reply": "2021-03-31T23:19:53.749386Z",
     "shell.execute_reply.started": "2021-03-31T23:19:52.883772Z"
    }
   },
   "outputs": [],
   "source": [
    "import numpy as np\n",
    "import pandas as pd\n",
    "import matplotlib.pyplot as plt\n",
    "from datetime import datetime\n",
    "import xarray as xr\n",
    "from scipy.stats import zscore"
   ]
  },
  {
   "cell_type": "code",
   "execution_count": 3,
   "metadata": {
    "execution": {
     "iopub.execute_input": "2021-03-31T23:19:53.767085Z",
     "iopub.status.busy": "2021-03-31T23:19:53.766947Z",
     "iopub.status.idle": "2021-03-31T23:19:53.802594Z",
     "shell.execute_reply": "2021-03-31T23:19:53.801818Z",
     "shell.execute_reply.started": "2021-03-31T23:19:53.767068Z"
    }
   },
   "outputs": [],
   "source": [
    "from ripple_detection.core import gaussian_smooth, segment_boolean_series"
   ]
  },
  {
   "cell_type": "code",
   "execution_count": 4,
   "metadata": {
    "execution": {
     "iopub.execute_input": "2021-03-31T23:19:54.035372Z",
     "iopub.status.busy": "2021-03-31T23:19:54.034888Z",
     "iopub.status.idle": "2021-03-31T23:19:54.056520Z",
     "shell.execute_reply": "2021-03-31T23:19:54.055838Z",
     "shell.execute_reply.started": "2021-03-31T23:19:54.035316Z"
    }
   },
   "outputs": [],
   "source": [
    "from ecephys_analyses.data import paths\n",
    "from ecephys.utils import load_df_h5, add_attrs, get_disjoint_interval_intersections, get_interval_complements\n",
    "from ecephys.scoring import get_separated_wake_hypnogram, write_visbrain_hypnogram"
   ]
  },
  {
   "cell_type": "code",
   "execution_count": 5,
   "metadata": {
    "execution": {
     "iopub.execute_input": "2021-03-31T23:19:54.411556Z",
     "iopub.status.busy": "2021-03-31T23:19:54.411035Z",
     "iopub.status.idle": "2021-03-31T23:19:54.433189Z",
     "shell.execute_reply": "2021-03-31T23:19:54.432281Z",
     "shell.execute_reply.started": "2021-03-31T23:19:54.411491Z"
    }
   },
   "outputs": [],
   "source": [
    "SMOOTHING_SIGMA = 4\n",
    "TD_THRESHOLD_ZSCORE = 1\n",
    "EMG_THRESHOLD_ZSCORE = 0\n",
    "MINIMUM_QWK_DURATION = 10"
   ]
  },
  {
   "cell_type": "code",
   "execution_count": 6,
   "metadata": {
    "execution": {
     "iopub.execute_input": "2021-03-31T23:19:54.715125Z",
     "iopub.status.busy": "2021-03-31T23:19:54.714659Z",
     "iopub.status.idle": "2021-03-31T23:19:54.733752Z",
     "shell.execute_reply": "2021-03-31T23:19:54.732715Z",
     "shell.execute_reply.started": "2021-03-31T23:19:54.715067Z"
    }
   },
   "outputs": [],
   "source": [
    "def my_gaussian_smooth(da, smoothing_sigma=4):\n",
    "    estimated_fs = 1 / np.diff(da.time.values).mean()\n",
    "    return gaussian_smooth(da, smoothing_sigma, estimated_fs)"
   ]
  },
  {
   "cell_type": "code",
   "execution_count": 7,
   "metadata": {
    "execution": {
     "iopub.execute_input": "2021-03-31T23:19:55.147264Z",
     "iopub.status.busy": "2021-03-31T23:19:55.146784Z",
     "iopub.status.idle": "2021-03-31T23:19:55.167189Z",
     "shell.execute_reply": "2021-03-31T23:19:55.166285Z",
     "shell.execute_reply.started": "2021-03-31T23:19:55.147206Z"
    }
   },
   "outputs": [],
   "source": [
    "def below_threshold_intervals(sig, threshold, time):\n",
    "    _is_below_threshold = pd.Series(sig < threshold, index=time)\n",
    "    return segment_boolean_series(_is_below_threshold, minimum_duration=0)\n",
    "\n",
    "def above_threshold_intervals(sig, threshold, time):\n",
    "    _is_below_threshold = pd.Series(sig > threshold, index=time)\n",
    "    return segment_boolean_series(_is_below_threshold, minimum_duration=0)"
   ]
  },
  {
   "cell_type": "code",
   "execution_count": 13,
   "metadata": {
    "execution": {
     "iopub.execute_input": "2021-04-01T19:24:09.683204Z",
     "iopub.status.busy": "2021-04-01T19:24:09.682706Z",
     "iopub.status.idle": "2021-04-01T19:24:09.711665Z",
     "shell.execute_reply": "2021-04-01T19:24:09.710851Z",
     "shell.execute_reply.started": "2021-04-01T19:24:09.683144Z"
    }
   },
   "outputs": [],
   "source": [
    "def run_classification_pipeline_on_file(bandpower_path, emg_path, hypnogram_path):\n",
    "    lfp_bandpower = xr.open_dataset(bandpower_path)\n",
    "    emg = xr.open_dataarray(emg_path)\n",
    "    \n",
    "    td_smooth = my_gaussian_smooth(lfp_bandpower.sr_theta / lfp_bandpower.sr_delta, smoothing_sigma=SMOOTHING_SIGMA)\n",
    "    tds_threshold = td_smooth[zscore(np.log(td_smooth)) < TD_THRESHOLD_ZSCORE].max()\n",
    "    tds_below_threshold_intervals = below_threshold_intervals(td_smooth, tds_threshold, lfp_bandpower.time.values)\n",
    "    \n",
    "    emg_smooth = my_gaussian_smooth(emg, smoothing_sigma=SMOOTHING_SIGMA)\n",
    "    emgs_threshold = emg_smooth[zscore(emg_smooth) < EMG_THRESHOLD_ZSCORE].max()\n",
    "    emgs_below_threshold_intervals = below_threshold_intervals(emg_smooth, emgs_threshold, emg.time.values)\n",
    "    \n",
    "    recording_length = np.max([lfp_bandpower.time.values.max(), emg.time.values.max()])\n",
    "    qwk_intervals = np.asarray(get_disjoint_interval_intersections(emgs_below_threshold_intervals, tds_below_threshold_intervals))\n",
    "    qwk_durations = np.asarray([end - start for start, end in qwk_intervals])\n",
    "    qwk_intervals = qwk_intervals[qwk_durations > MINIMUM_QWK_DURATION]\n",
    "    awk_intervals = get_interval_complements(qwk_intervals, 0, recording_length)\n",
    "    \n",
    "    hypnogram = get_separated_wake_hypnogram(qwk_intervals, awk_intervals)\n",
    "    write_visbrain_hypnogram(hypnogram, hypnogram_path)\n",
    "    \n",
    "    lfp_bandpower.close()\n",
    "    emg.close()"
   ]
  },
  {
   "cell_type": "code",
   "execution_count": 14,
   "metadata": {
    "execution": {
     "iopub.execute_input": "2021-04-01T19:24:11.897250Z",
     "iopub.status.busy": "2021-04-01T19:24:11.896756Z",
     "iopub.status.idle": "2021-04-01T19:24:11.920553Z",
     "shell.execute_reply": "2021-04-01T19:24:11.919702Z",
     "shell.execute_reply.started": "2021-04-01T19:24:11.897190Z"
    }
   },
   "outputs": [],
   "source": [
    "def get_wake_classification(subject):    \n",
    "    bandpower_paths = paths.get_sglx_style_datapaths(subject=subject, experiment=\"novel_objects_deprivation\", condition=\"extended-wake\", ext=\"pow.nc\")\n",
    "    emg_paths = paths.get_sglx_style_datapaths(subject=subject, experiment=\"novel_objects_deprivation\", condition=\"extended-wake\", ext=\"emg.nc\")\n",
    "    hypnogram_paths = paths.get_sglx_style_datapaths(subject=subject, experiment=\"novel_objects_deprivation\", condition=\"extended-wake\", ext=\"hypnogram.txt\")\n",
    "\n",
    "    for bandpower_path, emg_path, hypnogram_path in zip(bandpower_paths, emg_paths, hypnogram_paths):\n",
    "        run_classification_pipeline_on_file(bandpower_path, emg_path, hypnogram_path)\n",
    "        current_time = datetime.now().strftime(\"%H:%M:%S\")\n",
    "        print(f\"{current_time}: Finished {str(bandpower_path.stem)}\")"
   ]
  },
  {
   "cell_type": "markdown",
   "metadata": {},
   "source": [
    "# Run automated pipeline"
   ]
  },
  {
   "cell_type": "code",
   "execution_count": 15,
   "metadata": {
    "execution": {
     "iopub.execute_input": "2021-04-01T19:24:14.409725Z",
     "iopub.status.busy": "2021-04-01T19:24:14.409222Z",
     "iopub.status.idle": "2021-04-01T19:24:23.895654Z",
     "shell.execute_reply": "2021-04-01T19:24:23.894293Z",
     "shell.execute_reply.started": "2021-04-01T19:24:14.409668Z"
    }
   },
   "outputs": [
    {
     "name": "stdout",
     "output_type": "stream",
     "text": [
      "14:24:15: Finished 3-2-2021_A_g0_t0.imec1.pow\n",
      "14:24:16: Finished 3-2-2021_B_g0_t0.imec1.pow\n",
      "14:24:17: Finished 3-2-2021_B_g0_t1.imec1.pow\n",
      "14:24:19: Finished 3-2-2021_C_g0_t0.imec1.pow\n",
      "14:24:20: Finished 3-2-2021_D_g0_t0.imec1.pow\n",
      "14:24:21: Finished 3-2-2021_D_g0_t1.imec1.pow\n",
      "14:24:22: Finished 3-2-2021_D_g0_t2.imec1.pow\n",
      "14:24:23: Finished 3-2-2021_E_g0_t0.imec1.pow\n"
     ]
    }
   ],
   "source": [
    "get_wake_classification(\"Allan\")"
   ]
  },
  {
   "cell_type": "markdown",
   "metadata": {
    "collapsed": "true"
   },
   "source": [
    "# Run pipeline piecemeal"
   ]
  },
  {
   "cell_type": "code",
   "execution_count": 121,
   "metadata": {
    "execution": {
     "iopub.execute_input": "2021-01-12T19:34:10.288191Z",
     "iopub.status.busy": "2021-01-12T19:34:10.287936Z",
     "iopub.status.idle": "2021-01-12T19:34:10.309609Z",
     "shell.execute_reply": "2021-01-12T19:34:10.308963Z",
     "shell.execute_reply.started": "2021-01-12T19:34:10.288169Z"
    }
   },
   "outputs": [],
   "source": [
    "%matplotlib widget\n",
    "import matplotlib.pyplot as plt\n",
    "from neurodsp.plts.time_series import plot_time_series\n",
    "import ecephys.plot as eplt"
   ]
  },
  {
   "cell_type": "code",
   "execution_count": 122,
   "metadata": {
    "execution": {
     "iopub.execute_input": "2021-01-12T19:34:11.245174Z",
     "iopub.status.busy": "2021-01-12T19:34:11.244671Z",
     "iopub.status.idle": "2021-01-12T19:34:11.266348Z",
     "shell.execute_reply": "2021-01-12T19:34:11.265514Z",
     "shell.execute_reply.started": "2021-01-12T19:34:11.245092Z"
    }
   },
   "outputs": [],
   "source": [
    "SUBJECT = \"Segundo\"\n",
    "CONDITION = \"REC-6-4\""
   ]
  },
  {
   "cell_type": "code",
   "execution_count": 124,
   "metadata": {
    "execution": {
     "iopub.execute_input": "2021-01-12T19:34:26.251140Z",
     "iopub.status.busy": "2021-01-12T19:34:26.250664Z",
     "iopub.status.idle": "2021-01-12T19:34:26.322300Z",
     "shell.execute_reply": "2021-01-12T19:34:26.321450Z",
     "shell.execute_reply.started": "2021-01-12T19:34:26.251087Z"
    }
   },
   "outputs": [],
   "source": [
    "lfp_bandpower = xr.open_dataset(paths.get_datapath_from_csv(subject=SUBJECT, condition=CONDITION, data=\"lfp_bandpower.nc\"))\n",
    "emg = xr.open_dataset(paths.get_datapath_from_csv(subject=SUBJECT, condition=CONDITION, data=\"emg.nc\")).emg"
   ]
  },
  {
   "cell_type": "code",
   "execution_count": 110,
   "metadata": {
    "execution": {
     "iopub.execute_input": "2021-01-08T18:41:49.247705Z",
     "iopub.status.busy": "2021-01-08T18:41:49.247461Z",
     "iopub.status.idle": "2021-01-08T18:41:49.270741Z",
     "shell.execute_reply": "2021-01-08T18:41:49.270157Z",
     "shell.execute_reply.started": "2021-01-08T18:41:49.247673Z"
    }
   },
   "outputs": [],
   "source": [
    "td_smooth = my_gaussian_smooth(lfp_bandpower.sr_theta / lfp_bandpower.sr_delta, smoothing_sigma=SMOOTHING_SIGMA)\n",
    "tds_threshold = td_smooth[zscore(np.log(td_smooth)) < TD_THRESHOLD_ZSCORE].max()\n",
    "tds_below_threshold_intervals = below_threshold_intervals(td_smooth, tds_threshold, lfp_bandpower.time.values)"
   ]
  },
  {
   "cell_type": "code",
   "execution_count": 111,
   "metadata": {
    "execution": {
     "iopub.execute_input": "2021-01-08T18:41:49.568121Z",
     "iopub.status.busy": "2021-01-08T18:41:49.567694Z",
     "iopub.status.idle": "2021-01-08T18:41:49.702699Z",
     "shell.execute_reply": "2021-01-08T18:41:49.702144Z",
     "shell.execute_reply.started": "2021-01-08T18:41:49.568065Z"
    }
   },
   "outputs": [],
   "source": [
    "emg_smooth = my_gaussian_smooth(emg, smoothing_sigma=SMOOTHING_SIGMA)\n",
    "emgs_threshold = emg_smooth[zscore(emg_smooth) < EMG_THRESHOLD_ZSCORE].max()\n",
    "emgs_below_threshold_intervals = below_threshold_intervals(emg_smooth, emgs_threshold, emg.time.values)"
   ]
  },
  {
   "cell_type": "code",
   "execution_count": 112,
   "metadata": {
    "execution": {
     "iopub.execute_input": "2021-01-08T18:41:49.948384Z",
     "iopub.status.busy": "2021-01-08T18:41:49.947954Z",
     "iopub.status.idle": "2021-01-08T18:41:49.969049Z",
     "shell.execute_reply": "2021-01-08T18:41:49.968327Z",
     "shell.execute_reply.started": "2021-01-08T18:41:49.948328Z"
    }
   },
   "outputs": [],
   "source": [
    "recording_length = np.max([lfp_bandpower.time.values.max(), emg.time.values.max()])\n",
    "qwk_intervals = np.asarray(get_disjoint_interval_intersections(emgs_below_threshold_intervals, tds_below_threshold_intervals))\n",
    "qwk_durations = np.asarray([end - start for start, end in qwk_intervals])\n",
    "qwk_intervals = qwk_intervals[qwk_durations > MINIMUM_QWK_DURATION]\n",
    "awk_intervals = get_interval_complements(qwk_intervals, 0, recording_length)"
   ]
  },
  {
   "cell_type": "code",
   "execution_count": 113,
   "metadata": {
    "execution": {
     "iopub.execute_input": "2021-01-08T18:41:50.432411Z",
     "iopub.status.busy": "2021-01-08T18:41:50.432215Z",
     "iopub.status.idle": "2021-01-08T18:41:50.452198Z",
     "shell.execute_reply": "2021-01-08T18:41:50.451592Z",
     "shell.execute_reply.started": "2021-01-08T18:41:50.432386Z"
    }
   },
   "outputs": [],
   "source": [
    "hypnogram = get_separated_wake_hypnogram(qwk_intervals, awk_intervals)"
   ]
  },
  {
   "cell_type": "code",
   "execution_count": 102,
   "metadata": {
    "execution": {
     "iopub.execute_input": "2021-01-08T18:35:41.687177Z",
     "iopub.status.busy": "2021-01-08T18:35:41.687051Z",
     "iopub.status.idle": "2021-01-08T18:35:41.711604Z",
     "shell.execute_reply": "2021-01-08T18:35:41.711022Z",
     "shell.execute_reply.started": "2021-01-08T18:35:41.687161Z"
    }
   },
   "outputs": [],
   "source": [
    "write_visbrain_hypnogram(hypnogram, paths.get_datapath(subject=SUBJECT, condition=CONDITION, data=\"hypnogram.txt\"))"
   ]
  },
  {
   "cell_type": "code",
   "execution_count": 114,
   "metadata": {
    "execution": {
     "iopub.execute_input": "2021-01-08T18:41:54.106728Z",
     "iopub.status.busy": "2021-01-08T18:41:54.106298Z",
     "iopub.status.idle": "2021-01-08T18:41:54.315165Z",
     "shell.execute_reply": "2021-01-08T18:41:54.314574Z",
     "shell.execute_reply.started": "2021-01-08T18:41:54.106671Z"
    }
   },
   "outputs": [
    {
     "data": {
      "application/vnd.jupyter.widget-view+json": {
       "model_id": "0bed6d6ca77f4f129a7b18f7fee88642",
       "version_major": 2,
       "version_minor": 0
      },
      "text/plain": [
       "Canvas(toolbar=Toolbar(toolitems=[('Home', 'Reset original view', 'home', 'home'), ('Back', 'Back to previous …"
      ]
     },
     "metadata": {},
     "output_type": "display_data"
    }
   ],
   "source": [
    "fig, axes = plt.subplots(2, 1, figsize=(20, 4))\n",
    "plot_time_series(lfp_bandpower.time.values, td_smooth, ax=axes[0], title=\"Theta / Delta ratio, smoothed.\", ylabel=\"Ratio\")\n",
    "plot_time_series(emg.time.values, emg_smooth, ax=axes[1], title=\"Buzsaki-style EMG, smoothed\", ylabel=\"Corr\")\n",
    "for i in range(0, len(axes)):\n",
    "    eplt.plot_hypnogram_overlay(hypnogram, ax=axes[i])\n",
    "    axes[i].set_xlim(axes[0].get_xlim())"
   ]
  },
  {
   "cell_type": "code",
   "execution_count": 115,
   "metadata": {
    "execution": {
     "iopub.execute_input": "2021-01-08T18:41:57.617929Z",
     "iopub.status.busy": "2021-01-08T18:41:57.617452Z",
     "iopub.status.idle": "2021-01-08T18:41:57.641682Z",
     "shell.execute_reply": "2021-01-08T18:41:57.640800Z",
     "shell.execute_reply.started": "2021-01-08T18:41:57.617853Z"
    }
   },
   "outputs": [],
   "source": [
    "lfp_bandpower.close()\n",
    "emg.close()"
   ]
  },
  {
   "cell_type": "code",
   "execution_count": null,
   "metadata": {},
   "outputs": [],
   "source": []
  }
 ],
 "metadata": {
  "kernelspec": {
   "display_name": "Python 3",
   "language": "python",
   "name": "python3"
  },
  "language_info": {
   "codemirror_mode": {
    "name": "ipython",
    "version": 3
   },
   "file_extension": ".py",
   "mimetype": "text/x-python",
   "name": "python",
   "nbconvert_exporter": "python",
   "pygments_lexer": "ipython3",
   "version": "3.7.9"
  }
 },
 "nbformat": 4,
 "nbformat_minor": 4
}
