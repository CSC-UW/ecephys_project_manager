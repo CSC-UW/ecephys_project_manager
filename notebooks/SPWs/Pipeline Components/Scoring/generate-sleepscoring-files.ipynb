{
 "cells": [
  {
   "cell_type": "code",
   "execution_count": 12,
   "metadata": {
    "execution": {
     "iopub.execute_input": "2021-07-20T21:01:11.515322Z",
     "iopub.status.busy": "2021-07-20T21:01:11.515008Z",
     "iopub.status.idle": "2021-07-20T21:01:11.518812Z",
     "shell.execute_reply": "2021-07-20T21:01:11.518060Z",
     "shell.execute_reply.started": "2021-07-20T21:01:11.515287Z"
    }
   },
   "outputs": [],
   "source": [
    "import ecephys_analyses as ea"
   ]
  },
  {
   "cell_type": "code",
   "execution_count": 13,
   "metadata": {
    "execution": {
     "iopub.execute_input": "2021-07-20T21:01:11.735546Z",
     "iopub.status.busy": "2021-07-20T21:01:11.735306Z",
     "iopub.status.idle": "2021-07-20T21:01:11.738874Z",
     "shell.execute_reply": "2021-07-20T21:01:11.738231Z",
     "shell.execute_reply.started": "2021-07-20T21:01:11.735515Z"
    }
   },
   "outputs": [],
   "source": [
    "subject = \"Luigi\"\n",
    "experiment = \"sleep-homeostasis\"\n",
    "condition = \"extended-wake-circadian-match\""
   ]
  },
  {
   "cell_type": "markdown",
   "metadata": {},
   "source": [
    "## Create empty hypnograms"
   ]
  },
  {
   "cell_type": "code",
   "execution_count": 14,
   "metadata": {
    "execution": {
     "iopub.execute_input": "2021-07-20T21:01:12.992097Z",
     "iopub.status.busy": "2021-07-20T21:01:12.991812Z",
     "iopub.status.idle": "2021-07-20T21:01:12.999832Z",
     "shell.execute_reply": "2021-07-20T21:01:12.999161Z",
     "shell.execute_reply.started": "2021-07-20T21:01:12.992061Z"
    }
   },
   "outputs": [],
   "source": [
    "from ecephys.sglx_utils.external.readSGLX import readMeta\n",
    "\n",
    "def write_empty_hypnogram(bin_path, hypnogram_path, default_state=\"None\"):\n",
    "    meta = readMeta(bin_path)\n",
    "    duration = round(float(meta[\"fileTimeSecs\"]), 2)\n",
    "    with open(hypnogram_path, 'x') as f:\n",
    "        f.write(f\"*Duration_sec\\t{duration}\")\n",
    "        f.write(\"\\n\")\n",
    "        f.write(f\"{default_state}\\t{duration}\")\n",
    "        f.write(\"\\n\")"
   ]
  },
  {
   "cell_type": "code",
   "execution_count": 15,
   "metadata": {
    "execution": {
     "iopub.execute_input": "2021-07-20T21:01:13.663994Z",
     "iopub.status.busy": "2021-07-20T21:01:13.663705Z",
     "iopub.status.idle": "2021-07-20T21:01:13.873211Z",
     "shell.execute_reply": "2021-07-20T21:01:13.872438Z",
     "shell.execute_reply.started": "2021-07-20T21:01:13.663959Z"
    }
   },
   "outputs": [],
   "source": [
    "bin_paths = ea.get_sglx_style_datapaths(subject, experiment, condition, ext=\"lf.bin\")\n",
    "hypnogram_paths = ea.get_sglx_style_datapaths(subject, experiment, condition, ext=\"hypnogram.txt\")"
   ]
  },
  {
   "cell_type": "code",
   "execution_count": 16,
   "metadata": {
    "execution": {
     "iopub.execute_input": "2021-07-20T21:01:18.945385Z",
     "iopub.status.busy": "2021-07-20T21:01:18.945076Z",
     "iopub.status.idle": "2021-07-20T21:01:19.049425Z",
     "shell.execute_reply": "2021-07-20T21:01:19.048744Z",
     "shell.execute_reply.started": "2021-07-20T21:01:18.945340Z"
    }
   },
   "outputs": [],
   "source": [
    "for bin_path, hypnogram_path in zip(bin_paths, hypnogram_paths):\n",
    "    write_empty_hypnogram(bin_path, hypnogram_path)"
   ]
  },
  {
   "cell_type": "markdown",
   "metadata": {},
   "source": [
    "## Create Sleepscore config files"
   ]
  },
  {
   "cell_type": "code",
   "execution_count": 17,
   "metadata": {
    "execution": {
     "iopub.execute_input": "2021-07-20T21:01:24.144886Z",
     "iopub.status.busy": "2021-07-20T21:01:24.144573Z",
     "iopub.status.idle": "2021-07-20T21:01:24.150845Z",
     "shell.execute_reply": "2021-07-20T21:01:24.150152Z",
     "shell.execute_reply.started": "2021-07-20T21:01:24.144849Z"
    }
   },
   "outputs": [],
   "source": [
    "from pathlib import PureWindowsPath\n",
    "\n",
    "def translate_server_path(path, drive):\n",
    "    data_dir_idx = path.parts.index('Data')\n",
    "    path_parts = path.parts[data_dir_idx:]\n",
    "    windows_path = PureWindowsPath(drive).joinpath(*path_parts)\n",
    "    return str(windows_path)"
   ]
  },
  {
   "cell_type": "code",
   "execution_count": 21,
   "metadata": {
    "execution": {
     "iopub.execute_input": "2021-07-20T21:22:47.656423Z",
     "iopub.status.busy": "2021-07-20T21:22:47.656056Z",
     "iopub.status.idle": "2021-07-20T21:22:47.665449Z",
     "shell.execute_reply": "2021-07-20T21:22:47.664753Z",
     "shell.execute_reply.started": "2021-07-20T21:22:47.656381Z"
    }
   },
   "outputs": [],
   "source": [
    "import yaml\n",
    "\n",
    "def write_sleepscore_config(cfg_path, bin_path, emg_path, bin_drive='U:\\\\', emg_drive='W:\\\\', chan_list=[], states_config_file='W:\\Data\\sleepscore_states_with_drug.yml'):\n",
    "    dataset = dict(binPath=translate_server_path(bin_path, bin_drive), datatype=\"SGLX\", chanList=chan_list)\n",
    "    config = dict(\n",
    "        datasets=[dataset],\n",
    "        downSample=100.0,\n",
    "        ds_method=\"interpolation\",\n",
    "        tStart=0.0,\n",
    "        tEnd=None,\n",
    "        EMGdatapath=translate_server_path(emg_path, emg_drive),\n",
    "        kwargs_sleep=dict(states_config_file=states_config_file),\n",
    "    )\n",
    "    with open(cfg_path, \"x\") as f: \n",
    "        yaml.dump(config, f, sort_keys=False)"
   ]
  },
  {
   "cell_type": "code",
   "execution_count": 19,
   "metadata": {
    "execution": {
     "iopub.execute_input": "2021-07-20T21:03:49.788281Z",
     "iopub.status.busy": "2021-07-20T21:03:49.787691Z",
     "iopub.status.idle": "2021-07-20T21:03:50.100032Z",
     "shell.execute_reply": "2021-07-20T21:03:50.099060Z",
     "shell.execute_reply.started": "2021-07-20T21:03:49.788234Z"
    }
   },
   "outputs": [],
   "source": [
    "bin_paths = ea.get_sglx_style_datapaths(subject, experiment, condition, ext=\"lf.bin\")\n",
    "emg_paths = ea.get_sglx_style_datapaths(subject, experiment, condition, ext=\"emg.nc\")\n",
    "cfg_paths = ea.get_sglx_style_datapaths(subject, experiment, condition, ext=\"sleepscore-config.yml\")"
   ]
  },
  {
   "cell_type": "code",
   "execution_count": 20,
   "metadata": {
    "execution": {
     "iopub.execute_input": "2021-07-20T21:03:50.849508Z",
     "iopub.status.busy": "2021-07-20T21:03:50.849255Z",
     "iopub.status.idle": "2021-07-20T21:03:50.865181Z",
     "shell.execute_reply": "2021-07-20T21:03:50.864435Z",
     "shell.execute_reply.started": "2021-07-20T21:03:50.849476Z"
    }
   },
   "outputs": [],
   "source": [
    "for bin_path, emg_path, cfg_path in zip(bin_paths, emg_paths, cfg_paths):\n",
    "    write_sleepscore_config(cfg_path, bin_path, emg_path)"
   ]
  },
  {
   "cell_type": "code",
   "execution_count": null,
   "metadata": {},
   "outputs": [],
   "source": []
  }
 ],
 "metadata": {
  "kernelspec": {
   "display_name": "Python 3",
   "language": "python",
   "name": "python3"
  },
  "language_info": {
   "codemirror_mode": {
    "name": "ipython",
    "version": 3
   },
   "file_extension": ".py",
   "mimetype": "text/x-python",
   "name": "python",
   "nbconvert_exporter": "python",
   "pygments_lexer": "ipython3",
   "version": "3.7.9"
  }
 },
 "nbformat": 4,
 "nbformat_minor": 4
}
