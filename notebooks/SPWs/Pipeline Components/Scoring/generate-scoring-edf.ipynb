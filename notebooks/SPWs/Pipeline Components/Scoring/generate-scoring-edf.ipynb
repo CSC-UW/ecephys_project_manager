{
 "cells": [
  {
   "cell_type": "code",
   "execution_count": 1,
   "metadata": {
    "execution": {
     "iopub.execute_input": "2021-10-08T21:09:53.609241Z",
     "iopub.status.busy": "2021-10-08T21:09:53.609050Z",
     "iopub.status.idle": "2021-10-08T21:09:53.627623Z",
     "shell.execute_reply": "2021-10-08T21:09:53.625793Z",
     "shell.execute_reply.started": "2021-10-08T21:09:53.609182Z"
    },
    "tags": []
   },
   "outputs": [],
   "source": [
    "%load_ext autoreload\n",
    "%autoreload 2"
   ]
  },
  {
   "cell_type": "code",
   "execution_count": 2,
   "metadata": {
    "execution": {
     "iopub.execute_input": "2021-10-08T21:09:53.628459Z",
     "iopub.status.busy": "2021-10-08T21:09:53.628339Z",
     "iopub.status.idle": "2021-10-08T21:09:53.636977Z",
     "shell.execute_reply": "2021-10-08T21:09:53.635852Z",
     "shell.execute_reply.started": "2021-10-08T21:09:53.628444Z"
    },
    "tags": []
   },
   "outputs": [],
   "source": [
    "import warnings\n",
    "warnings.filterwarnings(action='once')"
   ]
  },
  {
   "cell_type": "code",
   "execution_count": 3,
   "metadata": {
    "execution": {
     "iopub.execute_input": "2021-10-08T21:09:53.638333Z",
     "iopub.status.busy": "2021-10-08T21:09:53.638153Z",
     "iopub.status.idle": "2021-10-08T21:09:54.698862Z",
     "shell.execute_reply": "2021-10-08T21:09:54.698178Z",
     "shell.execute_reply.started": "2021-10-08T21:09:53.638316Z"
    },
    "tags": []
   },
   "outputs": [],
   "source": [
    "import ecephys_analyses as ea\n",
    "from sglxarray import load_trigger\n",
    "from pyedflib import highlevel as edf\n",
    "import numpy as np\n",
    "from scipy.interpolate import interp1d\n",
    "import xarray as xr"
   ]
  },
  {
   "cell_type": "code",
   "execution_count": 4,
   "metadata": {
    "execution": {
     "iopub.execute_input": "2021-10-08T21:09:54.700068Z",
     "iopub.status.busy": "2021-10-08T21:09:54.699842Z",
     "iopub.status.idle": "2021-10-08T21:09:54.715203Z",
     "shell.execute_reply": "2021-10-08T21:09:54.714649Z",
     "shell.execute_reply.started": "2021-10-08T21:09:54.700052Z"
    },
    "tags": []
   },
   "outputs": [],
   "source": [
    "def resample(sig, target_fs):\n",
    "    f = interp1d(sig.time, sig.T, kind='cubic')\n",
    "    new_times = np.arange(sig.time.min(), sig.time.max(), 1/target_fs)\n",
    "    new_data = f(new_times)\n",
    "    return (new_times, new_data)"
   ]
  },
  {
   "cell_type": "code",
   "execution_count": 5,
   "metadata": {
    "execution": {
     "iopub.execute_input": "2021-10-08T21:09:54.715873Z",
     "iopub.status.busy": "2021-10-08T21:09:54.715756Z",
     "iopub.status.idle": "2021-10-08T21:09:54.732103Z",
     "shell.execute_reply": "2021-10-08T21:09:54.731499Z",
     "shell.execute_reply.started": "2021-10-08T21:09:54.715858Z"
    },
    "tags": []
   },
   "outputs": [],
   "source": [
    "def write_edf(sig, emg, edf_path):\n",
    "    target_fs = 100.0\n",
    "    sig_time_rs, sig_data_rs = resample(sig, target_fs)\n",
    "    emg_time_rs, emg_data_rs = resample(emg, target_fs)\n",
    "    \n",
    "    signals = np.vstack([sig_data_rs, emg_data_rs])\n",
    "    signal_labels = [f\"LF{ch}\" for ch in sig.channel.values] + [\"dEMG\"]\n",
    "    \n",
    "    signal_headers = edf.make_signal_headers(signal_labels, dimension=sig.units, sample_rate=target_fs, physical_min=signals.min(), physical_max=signals.max())\n",
    "    edf.write_edf(str(edf_path), signals, signal_headers)"
   ]
  },
  {
   "cell_type": "code",
   "execution_count": 6,
   "metadata": {
    "execution": {
     "iopub.execute_input": "2021-10-08T21:09:54.732986Z",
     "iopub.status.busy": "2021-10-08T21:09:54.732833Z",
     "iopub.status.idle": "2021-10-08T21:09:54.746766Z",
     "shell.execute_reply": "2021-10-08T21:09:54.746352Z",
     "shell.execute_reply.started": "2021-10-08T21:09:54.732971Z"
    },
    "tags": []
   },
   "outputs": [],
   "source": [
    "def write_condition_edfs(subject, experiment, probe):\n",
    "    chans = ea.get_channels(subject, experiment, probe, 'scoring')\n",
    "    bin_paths = ea.get_lfp_bin_paths(subject, experiment, probe=probe)\n",
    "    emg_paths = ea.get_analysis_counterparts(bin_paths, \"emg.nc\", subject)\n",
    "    edf_paths = ea.get_analysis_counterparts(bin_paths, \"edf\", subject)\n",
    "    \n",
    "    #bin_paths = ea.get_sglx_style_datapaths(subject, experiment, condition, ext=\"lf.bin\")\n",
    "    #emg_paths = ea.get_sglx_style_datapaths(subject, experiment, condition, ext=\"emg.nc\")\n",
    "    #edf_paths = ea.get_sglx_style_datapaths(subject, experiment, condition, ext=\"edf\")\n",
    "    \n",
    "    for bin_path, emg_path, edf_path in zip(bin_paths, emg_paths, edf_paths):\n",
    "        sig = load_trigger(bin_path, chans)\n",
    "        emg = xr.load_dataarray(emg_path)\n",
    "        write_edf(sig, emg, edf_path)"
   ]
  },
  {
   "cell_type": "code",
   "execution_count": 7,
   "metadata": {
    "execution": {
     "iopub.execute_input": "2021-10-08T21:09:54.747817Z",
     "iopub.status.busy": "2021-10-08T21:09:54.747654Z",
     "iopub.status.idle": "2021-10-08T21:09:54.763187Z",
     "shell.execute_reply": "2021-10-08T21:09:54.762712Z",
     "shell.execute_reply.started": "2021-10-08T21:09:54.747802Z"
    },
    "tags": []
   },
   "outputs": [],
   "source": [
    "import matplotlib.pyplot as plt\n",
    "\n",
    "def check_lfp_resampling(sig, time_rs, data_rs, n_seconds=4, iCh=0):\n",
    "    fig, ax = plt.subplots(figsize=(36, 3))\n",
    "    ax.plot(sig.time.values[:int(n_seconds*sig.fs)], sig.T.values[iCh, :int(n_seconds*sig.fs)])\n",
    "    ax.plot(time_rs[:int(n_seconds*target_fs)], data_rs[iCh, :int(n_seconds*target_fs)])\n",
    "    \n",
    "def check_emg_resampling(emg, time_rs, data_rs, n_seconds=4, iCh=0):\n",
    "    fig, ax = plt.subplots(figsize=(36, 3))\n",
    "    ax.plot(emg.time.values[:int(n_seconds*emg.target_sf)], emg.values[:int(n_seconds*emg.target_sf)])\n",
    "    ax.plot(time_rs[:int(n_seconds*target_fs)], data_rs[:int(n_seconds*target_fs)])"
   ]
  },
  {
   "cell_type": "code",
   "execution_count": 8,
   "metadata": {
    "execution": {
     "iopub.execute_input": "2021-10-08T21:09:59.026472Z",
     "iopub.status.busy": "2021-10-08T21:09:59.025873Z",
     "iopub.status.idle": "2021-10-08T21:09:59.048292Z",
     "shell.execute_reply": "2021-10-08T21:09:59.047525Z",
     "shell.execute_reply.started": "2021-10-08T21:09:59.026416Z"
    },
    "tags": []
   },
   "outputs": [],
   "source": [
    "#write_condition_edfs(\"Adrian\", \"conveyor_over_water\", \"imec1\")"
   ]
  },
  {
   "cell_type": "code",
   "execution_count": null,
   "metadata": {},
   "outputs": [],
   "source": [
    "#write_condition_edfs(\"Charles\", \"sleep_homeostasis\", \"imec1\")"
   ]
  },
  {
   "cell_type": "code",
   "execution_count": null,
   "metadata": {},
   "outputs": [],
   "source": []
  }
 ],
 "metadata": {
  "kernelspec": {
   "display_name": "Python 3 (ipykernel)",
   "language": "python",
   "name": "python3"
  },
  "language_info": {
   "codemirror_mode": {
    "name": "ipython",
    "version": 3
   },
   "file_extension": ".py",
   "mimetype": "text/x-python",
   "name": "python",
   "nbconvert_exporter": "python",
   "pygments_lexer": "ipython3",
   "version": "3.7.10"
  }
 },
 "nbformat": 4,
 "nbformat_minor": 4
}
