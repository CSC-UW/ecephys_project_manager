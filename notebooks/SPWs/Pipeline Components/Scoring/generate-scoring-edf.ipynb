{
 "cells": [
  {
   "cell_type": "code",
   "execution_count": 8,
   "metadata": {
    "execution": {
     "iopub.execute_input": "2021-05-22T00:12:32.014716Z",
     "iopub.status.busy": "2021-05-22T00:12:32.014517Z",
     "iopub.status.idle": "2021-05-22T00:12:32.017942Z",
     "shell.execute_reply": "2021-05-22T00:12:32.017336Z",
     "shell.execute_reply.started": "2021-05-22T00:12:32.014696Z"
    }
   },
   "outputs": [],
   "source": [
    "import ecephys_analyses as ea\n",
    "from ecephys.sglx_utils import load_trigger\n",
    "from pyedflib import highlevel as edf\n",
    "import numpy as np\n",
    "from scipy.interpolate import interp1d\n",
    "import xarray as xr"
   ]
  },
  {
   "cell_type": "code",
   "execution_count": 9,
   "metadata": {
    "execution": {
     "iopub.execute_input": "2021-05-22T00:12:33.338798Z",
     "iopub.status.busy": "2021-05-22T00:12:33.338492Z",
     "iopub.status.idle": "2021-05-22T00:12:33.344643Z",
     "shell.execute_reply": "2021-05-22T00:12:33.343755Z",
     "shell.execute_reply.started": "2021-05-22T00:12:33.338762Z"
    }
   },
   "outputs": [],
   "source": [
    "def resample(sig, target_fs):\n",
    "    f = interp1d(sig.time, sig.T, kind='cubic')\n",
    "    new_times = np.arange(sig.time.min(), sig.time.max(), 1/target_fs)\n",
    "    new_data = f(new_times)\n",
    "    return (new_times, new_data)"
   ]
  },
  {
   "cell_type": "code",
   "execution_count": 10,
   "metadata": {
    "execution": {
     "iopub.execute_input": "2021-05-22T00:12:33.625318Z",
     "iopub.status.busy": "2021-05-22T00:12:33.624931Z",
     "iopub.status.idle": "2021-05-22T00:12:33.634853Z",
     "shell.execute_reply": "2021-05-22T00:12:33.634457Z",
     "shell.execute_reply.started": "2021-05-22T00:12:33.625272Z"
    }
   },
   "outputs": [],
   "source": [
    "def write_edf(sig, emg, edf_path):\n",
    "    target_fs = 100.0\n",
    "    sig_time_rs, sig_data_rs = resample(sig, target_fs)\n",
    "    emg_time_rs, emg_data_rs = resample(emg, target_fs)\n",
    "    \n",
    "    signals = np.vstack([sig_data_rs, emg_data_rs])\n",
    "    signal_labels = [f\"LF{ch}\" for ch in sig.channel.values] + [\"dEMG\"]\n",
    "    \n",
    "    signal_headers = edf.make_signal_headers(signal_labels, dimension=sig.units, sample_rate=target_fs, physical_min=signals.min(), physical_max=signals.max())\n",
    "    edf.write_edf(str(edf_path), signals, signal_headers)"
   ]
  },
  {
   "cell_type": "code",
   "execution_count": 11,
   "metadata": {
    "execution": {
     "iopub.execute_input": "2021-05-22T00:12:33.954119Z",
     "iopub.status.busy": "2021-05-22T00:12:33.953752Z",
     "iopub.status.idle": "2021-05-22T00:12:33.964479Z",
     "shell.execute_reply": "2021-05-22T00:12:33.963796Z",
     "shell.execute_reply.started": "2021-05-22T00:12:33.954076Z"
    }
   },
   "outputs": [],
   "source": [
    "def write_condition_edfs(subject, experiment, condition, probe):\n",
    "    chans = ea.get_channels(subject, experiment, probe, 'scoring')\n",
    "    bin_paths = ea.get_sglx_style_datapaths(subject, experiment, condition, ext=\"lf.bin\")\n",
    "    emg_paths = ea.get_sglx_style_datapaths(subject, experiment, condition, ext=\"emg.nc\")\n",
    "    edf_paths = ea.get_sglx_style_datapaths(subject, experiment, condition, ext=\"edf\")\n",
    "    \n",
    "    for bin_path, emg_path, edf_path in zip(bin_paths, emg_paths, edf_paths):\n",
    "        sig = load_trigger(bin_path, chans)\n",
    "        emg = xr.load_dataarray(emg_path)\n",
    "        write_edf(sig, emg, edf_path)"
   ]
  },
  {
   "cell_type": "code",
   "execution_count": 12,
   "metadata": {
    "execution": {
     "iopub.execute_input": "2021-05-22T00:12:35.144640Z",
     "iopub.status.busy": "2021-05-22T00:12:35.144415Z",
     "iopub.status.idle": "2021-05-22T00:12:35.154100Z",
     "shell.execute_reply": "2021-05-22T00:12:35.153425Z",
     "shell.execute_reply.started": "2021-05-22T00:12:35.144616Z"
    }
   },
   "outputs": [],
   "source": [
    "import matplotlib.pyplot as plt\n",
    "\n",
    "def check_lfp_resampling(sig, time_rs, data_rs, n_seconds=4, iCh=0):\n",
    "    fig, ax = plt.subplots(figsize=(36, 3))\n",
    "    ax.plot(sig.time.values[:int(n_seconds*sig.fs)], sig.T.values[iCh, :int(n_seconds*sig.fs)])\n",
    "    ax.plot(time_rs[:int(n_seconds*target_fs)], data_rs[iCh, :int(n_seconds*target_fs)])\n",
    "    \n",
    "def check_emg_resampling(emg, time_rs, data_rs, n_seconds=4, iCh=0):\n",
    "    fig, ax = plt.subplots(figsize=(36, 3))\n",
    "    ax.plot(emg.time.values[:int(n_seconds*emg.target_sf)], emg.values[:int(n_seconds*emg.target_sf)])\n",
    "    ax.plot(time_rs[:int(n_seconds*target_fs)], data_rs[:int(n_seconds*target_fs)])"
   ]
  },
  {
   "cell_type": "code",
   "execution_count": 13,
   "metadata": {
    "execution": {
     "iopub.execute_input": "2021-05-22T00:18:05.666316Z",
     "iopub.status.busy": "2021-05-22T00:18:05.665962Z",
     "iopub.status.idle": "2021-05-22T00:25:23.776842Z",
     "shell.execute_reply": "2021-05-22T00:25:23.776287Z",
     "shell.execute_reply.started": "2021-05-22T00:18:05.666274Z"
    }
   },
   "outputs": [
    {
     "name": "stdout",
     "output_type": "stream",
     "text": [
      "nChan: 385, nFileSamp: 9000060\n"
     ]
    },
    {
     "name": "stderr",
     "output_type": "stream",
     "text": [
      "/home/gfindlay/miniconda3/envs/ecephys/lib/python3.7/site-packages/pyedflib/highlevel.py:487: UserWarning: signals are in Fortran order. Will automatically transfer to C order for compatibility with edflib.\n",
      "  warnings.warn('signals are in Fortran order. Will automatically ' \\\n"
     ]
    },
    {
     "name": "stdout",
     "output_type": "stream",
     "text": [
      "nChan: 385, nFileSamp: 9000059\n"
     ]
    },
    {
     "name": "stderr",
     "output_type": "stream",
     "text": [
      "/home/gfindlay/miniconda3/envs/ecephys/lib/python3.7/site-packages/pyedflib/highlevel.py:487: UserWarning: signals are in Fortran order. Will automatically transfer to C order for compatibility with edflib.\n",
      "  warnings.warn('signals are in Fortran order. Will automatically ' \\\n"
     ]
    },
    {
     "name": "stdout",
     "output_type": "stream",
     "text": [
      "nChan: 385, nFileSamp: 9000059\n"
     ]
    },
    {
     "name": "stderr",
     "output_type": "stream",
     "text": [
      "/home/gfindlay/miniconda3/envs/ecephys/lib/python3.7/site-packages/pyedflib/highlevel.py:487: UserWarning: signals are in Fortran order. Will automatically transfer to C order for compatibility with edflib.\n",
      "  warnings.warn('signals are in Fortran order. Will automatically ' \\\n"
     ]
    },
    {
     "name": "stdout",
     "output_type": "stream",
     "text": [
      "nChan: 385, nFileSamp: 9000060\n"
     ]
    },
    {
     "name": "stderr",
     "output_type": "stream",
     "text": [
      "/home/gfindlay/miniconda3/envs/ecephys/lib/python3.7/site-packages/pyedflib/highlevel.py:487: UserWarning: signals are in Fortran order. Will automatically transfer to C order for compatibility with edflib.\n",
      "  warnings.warn('signals are in Fortran order. Will automatically ' \\\n"
     ]
    }
   ],
   "source": [
    "write_condition_edfs(\"Doppio\", \"ketamine-120mg\", \"all\", \"imec1\")"
   ]
  },
  {
   "cell_type": "code",
   "execution_count": null,
   "metadata": {},
   "outputs": [],
   "source": []
  }
 ],
 "metadata": {
  "kernelspec": {
   "display_name": "Python 3",
   "language": "python",
   "name": "python3"
  },
  "language_info": {
   "codemirror_mode": {
    "name": "ipython",
    "version": 3
   },
   "file_extension": ".py",
   "mimetype": "text/x-python",
   "name": "python",
   "nbconvert_exporter": "python",
   "pygments_lexer": "ipython3",
   "version": "3.7.9"
  }
 },
 "nbformat": 4,
 "nbformat_minor": 4
}
