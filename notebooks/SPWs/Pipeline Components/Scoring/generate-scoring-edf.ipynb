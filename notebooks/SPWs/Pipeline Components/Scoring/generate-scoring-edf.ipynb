{
 "cells": [
  {
   "cell_type": "code",
   "execution_count": 1,
   "metadata": {
    "execution": {
     "iopub.execute_input": "2021-08-12T17:17:15.080232Z",
     "iopub.status.busy": "2021-08-12T17:17:15.079660Z",
     "iopub.status.idle": "2021-08-12T17:17:16.037259Z",
     "shell.execute_reply": "2021-08-12T17:17:16.036543Z",
     "shell.execute_reply.started": "2021-08-12T17:17:15.080106Z"
    },
    "tags": []
   },
   "outputs": [],
   "source": [
    "import ecephys_analyses as ea\n",
    "from sglxarray import load_trigger\n",
    "from pyedflib import highlevel as edf\n",
    "import numpy as np\n",
    "from scipy.interpolate import interp1d\n",
    "import xarray as xr"
   ]
  },
  {
   "cell_type": "code",
   "execution_count": 2,
   "metadata": {
    "execution": {
     "iopub.execute_input": "2021-08-12T17:17:16.038534Z",
     "iopub.status.busy": "2021-08-12T17:17:16.038273Z",
     "iopub.status.idle": "2021-08-12T17:17:16.042727Z",
     "shell.execute_reply": "2021-08-12T17:17:16.041991Z",
     "shell.execute_reply.started": "2021-08-12T17:17:16.038516Z"
    },
    "tags": []
   },
   "outputs": [],
   "source": [
    "def resample(sig, target_fs):\n",
    "    f = interp1d(sig.time, sig.T, kind='cubic')\n",
    "    new_times = np.arange(sig.time.min(), sig.time.max(), 1/target_fs)\n",
    "    new_data = f(new_times)\n",
    "    return (new_times, new_data)"
   ]
  },
  {
   "cell_type": "code",
   "execution_count": 3,
   "metadata": {
    "execution": {
     "iopub.execute_input": "2021-08-12T17:17:16.043594Z",
     "iopub.status.busy": "2021-08-12T17:17:16.043388Z",
     "iopub.status.idle": "2021-08-12T17:17:16.048076Z",
     "shell.execute_reply": "2021-08-12T17:17:16.047540Z",
     "shell.execute_reply.started": "2021-08-12T17:17:16.043576Z"
    },
    "tags": []
   },
   "outputs": [],
   "source": [
    "def write_edf(sig, emg, edf_path):\n",
    "    target_fs = 100.0\n",
    "    sig_time_rs, sig_data_rs = resample(sig, target_fs)\n",
    "    emg_time_rs, emg_data_rs = resample(emg, target_fs)\n",
    "    \n",
    "    signals = np.vstack([sig_data_rs, emg_data_rs])\n",
    "    signal_labels = [f\"LF{ch}\" for ch in sig.channel.values] + [\"dEMG\"]\n",
    "    \n",
    "    signal_headers = edf.make_signal_headers(signal_labels, dimension=sig.units, sample_rate=target_fs, physical_min=signals.min(), physical_max=signals.max())\n",
    "    edf.write_edf(str(edf_path), signals, signal_headers)"
   ]
  },
  {
   "cell_type": "code",
   "execution_count": 4,
   "metadata": {
    "execution": {
     "iopub.execute_input": "2021-08-12T17:17:16.049227Z",
     "iopub.status.busy": "2021-08-12T17:17:16.048959Z",
     "iopub.status.idle": "2021-08-12T17:17:16.054169Z",
     "shell.execute_reply": "2021-08-12T17:17:16.053514Z",
     "shell.execute_reply.started": "2021-08-12T17:17:16.049208Z"
    },
    "tags": []
   },
   "outputs": [],
   "source": [
    "def write_condition_edfs(subject, experiment, condition, probe):\n",
    "    chans = ea.get_channels(subject, experiment, probe, 'scoring')\n",
    "    bin_paths = ea.get_sglx_style_datapaths(subject, experiment, condition, ext=\"lf.bin\")\n",
    "    emg_paths = ea.get_sglx_style_datapaths(subject, experiment, condition, ext=\"emg.nc\")\n",
    "    edf_paths = ea.get_sglx_style_datapaths(subject, experiment, condition, ext=\"edf\")\n",
    "    \n",
    "    for bin_path, emg_path, edf_path in zip(bin_paths, emg_paths, edf_paths):\n",
    "        sig = load_trigger(bin_path, chans)\n",
    "        emg = xr.load_dataarray(emg_path)\n",
    "        write_edf(sig, emg, edf_path)"
   ]
  },
  {
   "cell_type": "code",
   "execution_count": 5,
   "metadata": {
    "execution": {
     "iopub.execute_input": "2021-08-12T17:17:16.094228Z",
     "iopub.status.busy": "2021-08-12T17:17:16.093687Z",
     "iopub.status.idle": "2021-08-12T17:17:16.107875Z",
     "shell.execute_reply": "2021-08-12T17:17:16.107260Z",
     "shell.execute_reply.started": "2021-08-12T17:17:16.094159Z"
    },
    "tags": []
   },
   "outputs": [],
   "source": [
    "import matplotlib.pyplot as plt\n",
    "\n",
    "def check_lfp_resampling(sig, time_rs, data_rs, n_seconds=4, iCh=0):\n",
    "    fig, ax = plt.subplots(figsize=(36, 3))\n",
    "    ax.plot(sig.time.values[:int(n_seconds*sig.fs)], sig.T.values[iCh, :int(n_seconds*sig.fs)])\n",
    "    ax.plot(time_rs[:int(n_seconds*target_fs)], data_rs[iCh, :int(n_seconds*target_fs)])\n",
    "    \n",
    "def check_emg_resampling(emg, time_rs, data_rs, n_seconds=4, iCh=0):\n",
    "    fig, ax = plt.subplots(figsize=(36, 3))\n",
    "    ax.plot(emg.time.values[:int(n_seconds*emg.target_sf)], emg.values[:int(n_seconds*emg.target_sf)])\n",
    "    ax.plot(time_rs[:int(n_seconds*target_fs)], data_rs[:int(n_seconds*target_fs)])"
   ]
  },
  {
   "cell_type": "code",
   "execution_count": 9,
   "metadata": {
    "execution": {
     "iopub.execute_input": "2021-08-13T17:45:18.331924Z",
     "iopub.status.busy": "2021-08-13T17:45:18.331452Z",
     "iopub.status.idle": "2021-08-13T17:46:38.631133Z",
     "shell.execute_reply": "2021-08-13T17:46:38.630295Z",
     "shell.execute_reply.started": "2021-08-13T17:45:18.331869Z"
    },
    "tags": []
   },
   "outputs": [
    {
     "name": "stdout",
     "output_type": "stream",
     "text": [
      "nChan: 385, nFileSamp: 7122380\n"
     ]
    },
    {
     "name": "stderr",
     "output_type": "stream",
     "text": [
      "/home/gfindlay/miniconda3/envs/ecephys/lib/python3.7/site-packages/pyedflib/highlevel.py:487: UserWarning: signals are in Fortran order. Will automatically transfer to C order for compatibility with edflib.\n",
      "  warnings.warn('signals are in Fortran order. Will automatically ' \\\n"
     ]
    },
    {
     "name": "stdout",
     "output_type": "stream",
     "text": [
      "nChan: 385, nFileSamp: 3753750\n"
     ]
    },
    {
     "name": "stderr",
     "output_type": "stream",
     "text": [
      "/home/gfindlay/miniconda3/envs/ecephys/lib/python3.7/site-packages/pyedflib/highlevel.py:487: UserWarning: signals are in Fortran order. Will automatically transfer to C order for compatibility with edflib.\n",
      "  warnings.warn('signals are in Fortran order. Will automatically ' \\\n"
     ]
    }
   ],
   "source": [
    "write_condition_edfs(\"Alessandro\", \"dexmedetomidine-eStim\", \"all\", \"imec0\")"
   ]
  },
  {
   "cell_type": "code",
   "execution_count": null,
   "metadata": {},
   "outputs": [],
   "source": []
  }
 ],
 "metadata": {
  "kernelspec": {
   "display_name": "Python 3 (ipykernel)",
   "language": "python",
   "name": "python3"
  },
  "language_info": {
   "codemirror_mode": {
    "name": "ipython",
    "version": 3
   },
   "file_extension": ".py",
   "mimetype": "text/x-python",
   "name": "python",
   "nbconvert_exporter": "python",
   "pygments_lexer": "ipython3",
   "version": "3.7.10"
  }
 },
 "nbformat": 4,
 "nbformat_minor": 4
}
