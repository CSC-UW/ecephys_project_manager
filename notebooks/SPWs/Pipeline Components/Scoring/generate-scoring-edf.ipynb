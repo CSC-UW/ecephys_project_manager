{
 "cells": [
  {
   "cell_type": "code",
   "execution_count": 1,
   "metadata": {
    "execution": {
     "iopub.execute_input": "2021-07-20T21:05:21.530347Z",
     "iopub.status.busy": "2021-07-20T21:05:21.529844Z",
     "iopub.status.idle": "2021-07-20T21:05:22.203411Z",
     "shell.execute_reply": "2021-07-20T21:05:22.202690Z",
     "shell.execute_reply.started": "2021-07-20T21:05:21.530286Z"
    }
   },
   "outputs": [],
   "source": [
    "import ecephys_analyses as ea\n",
    "from sglxarray import load_trigger\n",
    "from pyedflib import highlevel as edf\n",
    "import numpy as np\n",
    "from scipy.interpolate import interp1d\n",
    "import xarray as xr"
   ]
  },
  {
   "cell_type": "code",
   "execution_count": 2,
   "metadata": {
    "execution": {
     "iopub.execute_input": "2021-07-20T21:06:39.446018Z",
     "iopub.status.busy": "2021-07-20T21:06:39.445506Z",
     "iopub.status.idle": "2021-07-20T21:06:39.453394Z",
     "shell.execute_reply": "2021-07-20T21:06:39.452399Z",
     "shell.execute_reply.started": "2021-07-20T21:06:39.445959Z"
    }
   },
   "outputs": [],
   "source": [
    "def resample(sig, target_fs):\n",
    "    f = interp1d(sig.time, sig.T, kind='cubic')\n",
    "    new_times = np.arange(sig.time.min(), sig.time.max(), 1/target_fs)\n",
    "    new_data = f(new_times)\n",
    "    return (new_times, new_data)"
   ]
  },
  {
   "cell_type": "code",
   "execution_count": 3,
   "metadata": {
    "execution": {
     "iopub.execute_input": "2021-07-20T21:06:47.212630Z",
     "iopub.status.busy": "2021-07-20T21:06:47.212143Z",
     "iopub.status.idle": "2021-07-20T21:06:47.226214Z",
     "shell.execute_reply": "2021-07-20T21:06:47.225405Z",
     "shell.execute_reply.started": "2021-07-20T21:06:47.212556Z"
    }
   },
   "outputs": [],
   "source": [
    "def write_edf(sig, emg, edf_path):\n",
    "    target_fs = 100.0\n",
    "    sig_time_rs, sig_data_rs = resample(sig, target_fs)\n",
    "    emg_time_rs, emg_data_rs = resample(emg, target_fs)\n",
    "    \n",
    "    signals = np.vstack([sig_data_rs, emg_data_rs])\n",
    "    signal_labels = [f\"LF{ch}\" for ch in sig.channel.values] + [\"dEMG\"]\n",
    "    \n",
    "    signal_headers = edf.make_signal_headers(signal_labels, dimension=sig.units, sample_rate=target_fs, physical_min=signals.min(), physical_max=signals.max())\n",
    "    edf.write_edf(str(edf_path), signals, signal_headers)"
   ]
  },
  {
   "cell_type": "code",
   "execution_count": 4,
   "metadata": {
    "execution": {
     "iopub.execute_input": "2021-07-20T21:06:52.261132Z",
     "iopub.status.busy": "2021-07-20T21:06:52.260626Z",
     "iopub.status.idle": "2021-07-20T21:06:52.274625Z",
     "shell.execute_reply": "2021-07-20T21:06:52.274093Z",
     "shell.execute_reply.started": "2021-07-20T21:06:52.261073Z"
    }
   },
   "outputs": [],
   "source": [
    "def write_condition_edfs(subject, experiment, condition, probe):\n",
    "    chans = ea.get_channels(subject, experiment, probe, 'scoring')\n",
    "    bin_paths = ea.get_sglx_style_datapaths(subject, experiment, condition, ext=\"lf.bin\")\n",
    "    emg_paths = ea.get_sglx_style_datapaths(subject, experiment, condition, ext=\"emg.nc\")\n",
    "    edf_paths = ea.get_sglx_style_datapaths(subject, experiment, condition, ext=\"edf\")\n",
    "    \n",
    "    for bin_path, emg_path, edf_path in zip(bin_paths, emg_paths, edf_paths):\n",
    "        sig = load_trigger(bin_path, chans)\n",
    "        emg = xr.load_dataarray(emg_path)\n",
    "        write_edf(sig, emg, edf_path)"
   ]
  },
  {
   "cell_type": "code",
   "execution_count": 5,
   "metadata": {
    "execution": {
     "iopub.execute_input": "2021-07-20T21:06:57.577296Z",
     "iopub.status.busy": "2021-07-20T21:06:57.577083Z",
     "iopub.status.idle": "2021-07-20T21:06:57.583845Z",
     "shell.execute_reply": "2021-07-20T21:06:57.583081Z",
     "shell.execute_reply.started": "2021-07-20T21:06:57.577275Z"
    }
   },
   "outputs": [],
   "source": [
    "import matplotlib.pyplot as plt\n",
    "\n",
    "def check_lfp_resampling(sig, time_rs, data_rs, n_seconds=4, iCh=0):\n",
    "    fig, ax = plt.subplots(figsize=(36, 3))\n",
    "    ax.plot(sig.time.values[:int(n_seconds*sig.fs)], sig.T.values[iCh, :int(n_seconds*sig.fs)])\n",
    "    ax.plot(time_rs[:int(n_seconds*target_fs)], data_rs[iCh, :int(n_seconds*target_fs)])\n",
    "    \n",
    "def check_emg_resampling(emg, time_rs, data_rs, n_seconds=4, iCh=0):\n",
    "    fig, ax = plt.subplots(figsize=(36, 3))\n",
    "    ax.plot(emg.time.values[:int(n_seconds*emg.target_sf)], emg.values[:int(n_seconds*emg.target_sf)])\n",
    "    ax.plot(time_rs[:int(n_seconds*target_fs)], data_rs[:int(n_seconds*target_fs)])"
   ]
  },
  {
   "cell_type": "code",
   "execution_count": 8,
   "metadata": {
    "execution": {
     "iopub.execute_input": "2021-07-20T21:13:13.275608Z",
     "iopub.status.busy": "2021-07-20T21:13:13.275278Z",
     "iopub.status.idle": "2021-07-20T21:24:00.414264Z",
     "shell.execute_reply": "2021-07-20T21:24:00.413016Z",
     "shell.execute_reply.started": "2021-07-20T21:13:13.275573Z"
    }
   },
   "outputs": [
    {
     "name": "stdout",
     "output_type": "stream",
     "text": [
      "nChan: 385, nFileSamp: 18000070\n"
     ]
    },
    {
     "name": "stderr",
     "output_type": "stream",
     "text": [
      "/home/gfindlay/miniconda3/envs/ecephys/lib/python3.7/site-packages/pyedflib/highlevel.py:487: UserWarning: signals are in Fortran order. Will automatically transfer to C order for compatibility with edflib.\n",
      "  warnings.warn('signals are in Fortran order. Will automatically ' \\\n"
     ]
    },
    {
     "name": "stdout",
     "output_type": "stream",
     "text": [
      "nChan: 385, nFileSamp: 18000070\n"
     ]
    },
    {
     "name": "stderr",
     "output_type": "stream",
     "text": [
      "/home/gfindlay/miniconda3/envs/ecephys/lib/python3.7/site-packages/pyedflib/highlevel.py:487: UserWarning: signals are in Fortran order. Will automatically transfer to C order for compatibility with edflib.\n",
      "  warnings.warn('signals are in Fortran order. Will automatically ' \\\n"
     ]
    },
    {
     "name": "stdout",
     "output_type": "stream",
     "text": [
      "nChan: 385, nFileSamp: 18000070\n"
     ]
    },
    {
     "name": "stderr",
     "output_type": "stream",
     "text": [
      "/home/gfindlay/miniconda3/envs/ecephys/lib/python3.7/site-packages/pyedflib/highlevel.py:487: UserWarning: signals are in Fortran order. Will automatically transfer to C order for compatibility with edflib.\n",
      "  warnings.warn('signals are in Fortran order. Will automatically ' \\\n"
     ]
    }
   ],
   "source": [
    "write_condition_edfs(\"Luigi\", \"sleep-homeostasis\", \"extended-wake-circadian-match\", \"imec0\")"
   ]
  },
  {
   "cell_type": "code",
   "execution_count": 9,
   "metadata": {
    "execution": {
     "iopub.execute_input": "2021-07-20T22:50:36.225116Z",
     "iopub.status.busy": "2021-07-20T22:50:36.224593Z",
     "iopub.status.idle": "2021-07-20T22:59:47.245153Z",
     "shell.execute_reply": "2021-07-20T22:59:47.243885Z",
     "shell.execute_reply.started": "2021-07-20T22:50:36.225056Z"
    }
   },
   "outputs": [
    {
     "name": "stdout",
     "output_type": "stream",
     "text": [
      "nChan: 385, nFileSamp: 18000070\n"
     ]
    },
    {
     "name": "stderr",
     "output_type": "stream",
     "text": [
      "/home/gfindlay/miniconda3/envs/ecephys/lib/python3.7/site-packages/pyedflib/highlevel.py:487: UserWarning: signals are in Fortran order. Will automatically transfer to C order for compatibility with edflib.\n",
      "  warnings.warn('signals are in Fortran order. Will automatically ' \\\n"
     ]
    },
    {
     "name": "stdout",
     "output_type": "stream",
     "text": [
      "nChan: 385, nFileSamp: 18000070\n"
     ]
    },
    {
     "name": "stderr",
     "output_type": "stream",
     "text": [
      "/home/gfindlay/miniconda3/envs/ecephys/lib/python3.7/site-packages/pyedflib/highlevel.py:487: UserWarning: signals are in Fortran order. Will automatically transfer to C order for compatibility with edflib.\n",
      "  warnings.warn('signals are in Fortran order. Will automatically ' \\\n"
     ]
    },
    {
     "name": "stdout",
     "output_type": "stream",
     "text": [
      "nChan: 385, nFileSamp: 18000070\n"
     ]
    },
    {
     "name": "stderr",
     "output_type": "stream",
     "text": [
      "/home/gfindlay/miniconda3/envs/ecephys/lib/python3.7/site-packages/pyedflib/highlevel.py:487: UserWarning: signals are in Fortran order. Will automatically transfer to C order for compatibility with edflib.\n",
      "  warnings.warn('signals are in Fortran order. Will automatically ' \\\n"
     ]
    }
   ],
   "source": [
    "write_condition_edfs(\"Luigi\", \"sleep-homeostasis\", \"recovery-sleep-circadian-match\", \"imec0\")"
   ]
  },
  {
   "cell_type": "code",
   "execution_count": 10,
   "metadata": {
    "execution": {
     "iopub.execute_input": "2021-07-20T22:59:47.254726Z",
     "iopub.status.busy": "2021-07-20T22:59:47.254599Z",
     "iopub.status.idle": "2021-07-20T23:18:44.559865Z",
     "shell.execute_reply": "2021-07-20T23:18:44.558986Z",
     "shell.execute_reply.started": "2021-07-20T22:59:47.254711Z"
    }
   },
   "outputs": [
    {
     "name": "stdout",
     "output_type": "stream",
     "text": [
      "nChan: 385, nFileSamp: 18000071\n"
     ]
    },
    {
     "name": "stderr",
     "output_type": "stream",
     "text": [
      "/home/gfindlay/miniconda3/envs/ecephys/lib/python3.7/site-packages/pyedflib/highlevel.py:487: UserWarning: signals are in Fortran order. Will automatically transfer to C order for compatibility with edflib.\n",
      "  warnings.warn('signals are in Fortran order. Will automatically ' \\\n"
     ]
    },
    {
     "name": "stdout",
     "output_type": "stream",
     "text": [
      "nChan: 385, nFileSamp: 18000070\n"
     ]
    },
    {
     "name": "stderr",
     "output_type": "stream",
     "text": [
      "/home/gfindlay/miniconda3/envs/ecephys/lib/python3.7/site-packages/pyedflib/highlevel.py:487: UserWarning: signals are in Fortran order. Will automatically transfer to C order for compatibility with edflib.\n",
      "  warnings.warn('signals are in Fortran order. Will automatically ' \\\n"
     ]
    },
    {
     "name": "stdout",
     "output_type": "stream",
     "text": [
      "nChan: 385, nFileSamp: 18000070\n"
     ]
    },
    {
     "name": "stderr",
     "output_type": "stream",
     "text": [
      "/home/gfindlay/miniconda3/envs/ecephys/lib/python3.7/site-packages/pyedflib/highlevel.py:487: UserWarning: signals are in Fortran order. Will automatically transfer to C order for compatibility with edflib.\n",
      "  warnings.warn('signals are in Fortran order. Will automatically ' \\\n"
     ]
    },
    {
     "name": "stdout",
     "output_type": "stream",
     "text": [
      "nChan: 385, nFileSamp: 18000071\n"
     ]
    },
    {
     "name": "stderr",
     "output_type": "stream",
     "text": [
      "/home/gfindlay/miniconda3/envs/ecephys/lib/python3.7/site-packages/pyedflib/highlevel.py:487: UserWarning: signals are in Fortran order. Will automatically transfer to C order for compatibility with edflib.\n",
      "  warnings.warn('signals are in Fortran order. Will automatically ' \\\n"
     ]
    },
    {
     "name": "stdout",
     "output_type": "stream",
     "text": [
      "nChan: 385, nFileSamp: 18000070\n"
     ]
    },
    {
     "name": "stderr",
     "output_type": "stream",
     "text": [
      "/home/gfindlay/miniconda3/envs/ecephys/lib/python3.7/site-packages/pyedflib/highlevel.py:487: UserWarning: signals are in Fortran order. Will automatically transfer to C order for compatibility with edflib.\n",
      "  warnings.warn('signals are in Fortran order. Will automatically ' \\\n"
     ]
    },
    {
     "name": "stdout",
     "output_type": "stream",
     "text": [
      "nChan: 385, nFileSamp: 17203190\n"
     ]
    },
    {
     "name": "stderr",
     "output_type": "stream",
     "text": [
      "/home/gfindlay/miniconda3/envs/ecephys/lib/python3.7/site-packages/pyedflib/highlevel.py:487: UserWarning: signals are in Fortran order. Will automatically transfer to C order for compatibility with edflib.\n",
      "  warnings.warn('signals are in Fortran order. Will automatically ' \\\n"
     ]
    }
   ],
   "source": [
    "write_condition_edfs(\"Luigi\", \"sleep-homeostasis\", \"dark-period-circadian-match\", \"imec0\")"
   ]
  },
  {
   "cell_type": "code",
   "execution_count": 11,
   "metadata": {
    "execution": {
     "iopub.execute_input": "2021-07-20T23:18:44.574801Z",
     "iopub.status.busy": "2021-07-20T23:18:44.574454Z",
     "iopub.status.idle": "2021-07-20T23:27:47.836136Z",
     "shell.execute_reply": "2021-07-20T23:27:47.835007Z",
     "shell.execute_reply.started": "2021-07-20T23:18:44.574769Z"
    }
   },
   "outputs": [
    {
     "name": "stdout",
     "output_type": "stream",
     "text": [
      "nChan: 385, nFileSamp: 18000071\n"
     ]
    },
    {
     "name": "stderr",
     "output_type": "stream",
     "text": [
      "/home/gfindlay/miniconda3/envs/ecephys/lib/python3.7/site-packages/pyedflib/highlevel.py:487: UserWarning: signals are in Fortran order. Will automatically transfer to C order for compatibility with edflib.\n",
      "  warnings.warn('signals are in Fortran order. Will automatically ' \\\n"
     ]
    },
    {
     "name": "stdout",
     "output_type": "stream",
     "text": [
      "nChan: 385, nFileSamp: 18000070\n"
     ]
    },
    {
     "name": "stderr",
     "output_type": "stream",
     "text": [
      "/home/gfindlay/miniconda3/envs/ecephys/lib/python3.7/site-packages/pyedflib/highlevel.py:487: UserWarning: signals are in Fortran order. Will automatically transfer to C order for compatibility with edflib.\n",
      "  warnings.warn('signals are in Fortran order. Will automatically ' \\\n"
     ]
    },
    {
     "name": "stdout",
     "output_type": "stream",
     "text": [
      "nChan: 385, nFileSamp: 17719059\n"
     ]
    },
    {
     "name": "stderr",
     "output_type": "stream",
     "text": [
      "/home/gfindlay/miniconda3/envs/ecephys/lib/python3.7/site-packages/pyedflib/highlevel.py:487: UserWarning: signals are in Fortran order. Will automatically transfer to C order for compatibility with edflib.\n",
      "  warnings.warn('signals are in Fortran order. Will automatically ' \\\n"
     ]
    }
   ],
   "source": [
    "write_condition_edfs(\"Luigi\", \"sleep-homeostasis\", \"extended-wake\", \"imec0\")"
   ]
  },
  {
   "cell_type": "code",
   "execution_count": 12,
   "metadata": {
    "execution": {
     "iopub.execute_input": "2021-07-22T19:34:08.194646Z",
     "iopub.status.busy": "2021-07-22T19:34:08.194262Z",
     "iopub.status.idle": "2021-07-22T19:44:30.195397Z",
     "shell.execute_reply": "2021-07-22T19:44:30.194192Z",
     "shell.execute_reply.started": "2021-07-22T19:34:08.194600Z"
    }
   },
   "outputs": [
    {
     "name": "stdout",
     "output_type": "stream",
     "text": [
      "nChan: 385, nFileSamp: 18000070\n"
     ]
    },
    {
     "name": "stderr",
     "output_type": "stream",
     "text": [
      "/home/gfindlay/miniconda3/envs/ecephys/lib/python3.7/site-packages/pyedflib/highlevel.py:487: UserWarning: signals are in Fortran order. Will automatically transfer to C order for compatibility with edflib.\n",
      "  warnings.warn('signals are in Fortran order. Will automatically ' \\\n"
     ]
    },
    {
     "name": "stdout",
     "output_type": "stream",
     "text": [
      "nChan: 385, nFileSamp: 18000070\n"
     ]
    },
    {
     "name": "stderr",
     "output_type": "stream",
     "text": [
      "/home/gfindlay/miniconda3/envs/ecephys/lib/python3.7/site-packages/pyedflib/highlevel.py:487: UserWarning: signals are in Fortran order. Will automatically transfer to C order for compatibility with edflib.\n",
      "  warnings.warn('signals are in Fortran order. Will automatically ' \\\n"
     ]
    },
    {
     "name": "stdout",
     "output_type": "stream",
     "text": [
      "nChan: 385, nFileSamp: 18000070\n"
     ]
    },
    {
     "name": "stderr",
     "output_type": "stream",
     "text": [
      "/home/gfindlay/miniconda3/envs/ecephys/lib/python3.7/site-packages/pyedflib/highlevel.py:487: UserWarning: signals are in Fortran order. Will automatically transfer to C order for compatibility with edflib.\n",
      "  warnings.warn('signals are in Fortran order. Will automatically ' \\\n"
     ]
    }
   ],
   "source": [
    "write_condition_edfs(\"Luigi\", \"sleep-homeostasis\", \"recovery-sleep\", \"imec0\")"
   ]
  },
  {
   "cell_type": "code",
   "execution_count": 13,
   "metadata": {
    "execution": {
     "iopub.execute_input": "2021-07-22T19:44:30.203216Z",
     "iopub.status.busy": "2021-07-22T19:44:30.203078Z",
     "iopub.status.idle": "2021-07-22T20:05:43.199920Z",
     "shell.execute_reply": "2021-07-22T20:05:43.198553Z",
     "shell.execute_reply.started": "2021-07-22T19:44:30.203199Z"
    }
   },
   "outputs": [
    {
     "name": "stdout",
     "output_type": "stream",
     "text": [
      "nChan: 385, nFileSamp: 18000070\n"
     ]
    },
    {
     "name": "stderr",
     "output_type": "stream",
     "text": [
      "/home/gfindlay/miniconda3/envs/ecephys/lib/python3.7/site-packages/pyedflib/highlevel.py:487: UserWarning: signals are in Fortran order. Will automatically transfer to C order for compatibility with edflib.\n",
      "  warnings.warn('signals are in Fortran order. Will automatically ' \\\n"
     ]
    },
    {
     "name": "stdout",
     "output_type": "stream",
     "text": [
      "nChan: 385, nFileSamp: 18000070\n"
     ]
    },
    {
     "name": "stderr",
     "output_type": "stream",
     "text": [
      "/home/gfindlay/miniconda3/envs/ecephys/lib/python3.7/site-packages/pyedflib/highlevel.py:487: UserWarning: signals are in Fortran order. Will automatically transfer to C order for compatibility with edflib.\n",
      "  warnings.warn('signals are in Fortran order. Will automatically ' \\\n"
     ]
    },
    {
     "name": "stdout",
     "output_type": "stream",
     "text": [
      "nChan: 385, nFileSamp: 18000070\n"
     ]
    },
    {
     "name": "stderr",
     "output_type": "stream",
     "text": [
      "/home/gfindlay/miniconda3/envs/ecephys/lib/python3.7/site-packages/pyedflib/highlevel.py:487: UserWarning: signals are in Fortran order. Will automatically transfer to C order for compatibility with edflib.\n",
      "  warnings.warn('signals are in Fortran order. Will automatically ' \\\n"
     ]
    },
    {
     "name": "stdout",
     "output_type": "stream",
     "text": [
      "nChan: 385, nFileSamp: 18000070\n"
     ]
    },
    {
     "name": "stderr",
     "output_type": "stream",
     "text": [
      "/home/gfindlay/miniconda3/envs/ecephys/lib/python3.7/site-packages/pyedflib/highlevel.py:487: UserWarning: signals are in Fortran order. Will automatically transfer to C order for compatibility with edflib.\n",
      "  warnings.warn('signals are in Fortran order. Will automatically ' \\\n"
     ]
    },
    {
     "name": "stdout",
     "output_type": "stream",
     "text": [
      "nChan: 385, nFileSamp: 18000070\n"
     ]
    },
    {
     "name": "stderr",
     "output_type": "stream",
     "text": [
      "/home/gfindlay/miniconda3/envs/ecephys/lib/python3.7/site-packages/pyedflib/highlevel.py:487: UserWarning: signals are in Fortran order. Will automatically transfer to C order for compatibility with edflib.\n",
      "  warnings.warn('signals are in Fortran order. Will automatically ' \\\n"
     ]
    },
    {
     "name": "stdout",
     "output_type": "stream",
     "text": [
      "nChan: 385, nFileSamp: 18000070\n"
     ]
    },
    {
     "name": "stderr",
     "output_type": "stream",
     "text": [
      "/home/gfindlay/miniconda3/envs/ecephys/lib/python3.7/site-packages/pyedflib/highlevel.py:487: UserWarning: signals are in Fortran order. Will automatically transfer to C order for compatibility with edflib.\n",
      "  warnings.warn('signals are in Fortran order. Will automatically ' \\\n"
     ]
    }
   ],
   "source": [
    "write_condition_edfs(\"Luigi\", \"sleep-homeostasis\", \"dark-period\", \"imec0\")"
   ]
  },
  {
   "cell_type": "code",
   "execution_count": null,
   "metadata": {},
   "outputs": [],
   "source": []
  }
 ],
 "metadata": {
  "kernelspec": {
   "display_name": "Python 3",
   "language": "python",
   "name": "python3"
  },
  "language_info": {
   "codemirror_mode": {
    "name": "ipython",
    "version": 3
   },
   "file_extension": ".py",
   "mimetype": "text/x-python",
   "name": "python",
   "nbconvert_exporter": "python",
   "pygments_lexer": "ipython3",
   "version": "3.7.9"
  }
 },
 "nbformat": 4,
 "nbformat_minor": 4
}
