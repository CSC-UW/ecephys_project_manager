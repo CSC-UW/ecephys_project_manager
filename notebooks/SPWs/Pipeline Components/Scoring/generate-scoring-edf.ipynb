{
 "cells": [
  {
   "cell_type": "code",
   "execution_count": 1,
   "metadata": {
    "execution": {
     "iopub.execute_input": "2021-10-13T23:50:37.288490Z",
     "iopub.status.busy": "2021-10-13T23:50:37.288234Z",
     "iopub.status.idle": "2021-10-13T23:50:37.304181Z",
     "shell.execute_reply": "2021-10-13T23:50:37.303651Z",
     "shell.execute_reply.started": "2021-10-13T23:50:37.288418Z"
    },
    "tags": []
   },
   "outputs": [],
   "source": [
    "%load_ext autoreload\n",
    "%autoreload 2"
   ]
  },
  {
   "cell_type": "code",
   "execution_count": 2,
   "metadata": {
    "execution": {
     "iopub.execute_input": "2021-10-13T23:50:37.304930Z",
     "iopub.status.busy": "2021-10-13T23:50:37.304769Z",
     "iopub.status.idle": "2021-10-13T23:50:37.314102Z",
     "shell.execute_reply": "2021-10-13T23:50:37.313350Z",
     "shell.execute_reply.started": "2021-10-13T23:50:37.304915Z"
    },
    "tags": []
   },
   "outputs": [],
   "source": [
    "import warnings\n",
    "warnings.filterwarnings(action='once')"
   ]
  },
  {
   "cell_type": "code",
   "execution_count": 3,
   "metadata": {
    "execution": {
     "iopub.execute_input": "2021-10-13T23:50:37.315118Z",
     "iopub.status.busy": "2021-10-13T23:50:37.314946Z",
     "iopub.status.idle": "2021-10-13T23:50:38.281046Z",
     "shell.execute_reply": "2021-10-13T23:50:38.280432Z",
     "shell.execute_reply.started": "2021-10-13T23:50:37.315103Z"
    },
    "tags": []
   },
   "outputs": [
    {
     "name": "stderr",
     "output_type": "stream",
     "text": [
      "/home/gfindlay/miniconda3/envs/ecephys/lib/python3.10/site-packages/matplotlib_inline/config.py:66: DeprecationWarning: InlineBackend._figure_formats_changed is deprecated in traitlets 4.1: use @observe and @unobserve instead.\n",
      "  def _figure_formats_changed(self, name, old, new):\n"
     ]
    }
   ],
   "source": [
    "import ecephys_analyses as ea\n",
    "from sglxarray import load_trigger\n",
    "from pyedflib import highlevel as edf\n",
    "import numpy as np\n",
    "from scipy.interpolate import interp1d\n",
    "import xarray as xr\n",
    "from datetime import datetime"
   ]
  },
  {
   "cell_type": "code",
   "execution_count": 4,
   "metadata": {
    "execution": {
     "iopub.execute_input": "2021-10-13T23:50:38.282035Z",
     "iopub.status.busy": "2021-10-13T23:50:38.281793Z",
     "iopub.status.idle": "2021-10-13T23:50:38.296595Z",
     "shell.execute_reply": "2021-10-13T23:50:38.296010Z",
     "shell.execute_reply.started": "2021-10-13T23:50:38.282018Z"
    },
    "tags": []
   },
   "outputs": [],
   "source": [
    "def resample(sig, target_fs):\n",
    "    f = interp1d(sig.time, sig.T, kind='cubic')\n",
    "    new_times = np.arange(sig.time.min(), sig.time.max(), 1/target_fs)\n",
    "    new_data = f(new_times)\n",
    "    return (new_times, new_data)"
   ]
  },
  {
   "cell_type": "code",
   "execution_count": 5,
   "metadata": {
    "execution": {
     "iopub.execute_input": "2021-10-13T23:50:38.297684Z",
     "iopub.status.busy": "2021-10-13T23:50:38.297491Z",
     "iopub.status.idle": "2021-10-13T23:50:38.312922Z",
     "shell.execute_reply": "2021-10-13T23:50:38.312336Z",
     "shell.execute_reply.started": "2021-10-13T23:50:38.297667Z"
    },
    "tags": []
   },
   "outputs": [],
   "source": [
    "def write_edf(sig, emg, edf_path):\n",
    "    target_fs = 100.0\n",
    "    sig_time_rs, sig_data_rs = resample(sig, target_fs)\n",
    "    emg_time_rs, emg_data_rs = resample(emg, target_fs)\n",
    "    \n",
    "    signals = np.vstack([sig_data_rs, emg_data_rs])\n",
    "    signal_labels = [f\"LF{ch}\" for ch in sig.channel.values] + [\"dEMG\"]\n",
    "    \n",
    "    signal_headers = edf.make_signal_headers(signal_labels, dimension=sig.units, sample_rate=target_fs, physical_min=signals.min(), physical_max=signals.max())\n",
    "    edf.write_edf(str(edf_path), signals, signal_headers)"
   ]
  },
  {
   "cell_type": "code",
   "execution_count": 6,
   "metadata": {
    "execution": {
     "iopub.execute_input": "2021-10-13T23:50:38.313681Z",
     "iopub.status.busy": "2021-10-13T23:50:38.313480Z",
     "iopub.status.idle": "2021-10-13T23:50:38.330208Z",
     "shell.execute_reply": "2021-10-13T23:50:38.329568Z",
     "shell.execute_reply.started": "2021-10-13T23:50:38.313666Z"
    },
    "tags": []
   },
   "outputs": [],
   "source": [
    "def write_alias_edfs(subject, experiment, alias, probe):\n",
    "    chans = ea.get_channels(subject, experiment, probe, 'scoring')\n",
    "    bin_paths = ea.get_lfp_bin_paths(subject, experiment, alias, probe=probe)\n",
    "    emg_paths = ea.get_project_counterparts(\"SPWRs\", subject, bin_paths, \".emg.nc\")\n",
    "    edf_paths = ea.get_project_counterparts(\"SPWRs\", subject, bin_paths, \".edf\", remove_stream=True)\n",
    "    \n",
    "    for bin_path, emg_path, edf_path in zip(bin_paths, emg_paths, edf_paths):\n",
    "        current_time = datetime.now().strftime(\"%H:%M:%S\")\n",
    "        print(f\"{current_time}: Starting {str(bin_path)}\")\n",
    "        sig = load_trigger(bin_path, chans)\n",
    "        emg = xr.load_dataarray(emg_path)\n",
    "        write_edf(sig, emg, edf_path)\n",
    "        print(\"Done!\")"
   ]
  },
  {
   "cell_type": "code",
   "execution_count": 7,
   "metadata": {
    "execution": {
     "iopub.execute_input": "2021-10-13T23:50:38.636467Z",
     "iopub.status.busy": "2021-10-13T23:50:38.635802Z",
     "iopub.status.idle": "2021-10-13T23:50:38.658023Z",
     "shell.execute_reply": "2021-10-13T23:50:38.657302Z",
     "shell.execute_reply.started": "2021-10-13T23:50:38.636413Z"
    },
    "tags": []
   },
   "outputs": [],
   "source": [
    "import matplotlib.pyplot as plt\n",
    "\n",
    "def check_lfp_resampling(sig, time_rs, data_rs, n_seconds=4, iCh=0):\n",
    "    fig, ax = plt.subplots(figsize=(36, 3))\n",
    "    ax.plot(sig.time.values[:int(n_seconds*sig.fs)], sig.T.values[iCh, :int(n_seconds*sig.fs)])\n",
    "    ax.plot(time_rs[:int(n_seconds*target_fs)], data_rs[iCh, :int(n_seconds*target_fs)])\n",
    "    \n",
    "def check_emg_resampling(emg, time_rs, data_rs, n_seconds=4, iCh=0):\n",
    "    fig, ax = plt.subplots(figsize=(36, 3))\n",
    "    ax.plot(emg.time.values[:int(n_seconds*emg.target_sf)], emg.values[:int(n_seconds*emg.target_sf)])\n",
    "    ax.plot(time_rs[:int(n_seconds*target_fs)], data_rs[:int(n_seconds*target_fs)])"
   ]
  },
  {
   "cell_type": "code",
   "execution_count": 10,
   "metadata": {},
   "outputs": [
    {
     "name": "stdout",
     "output_type": "stream",
     "text": [
      "15:21:03: Starting /Volumes/neuropixel_archive/Data/chronic/CNPIX12-Santiago/11-3-2021/SpikeGLX/11-3-2021_g0/11-3-2021_g0_imec1/11-3-2021_g0_t0.imec1.lf.bin\n",
      "nChan: 385, nFileSamp: 18000039\n"
     ]
    },
    {
     "name": "stderr",
     "output_type": "stream",
     "text": [
      "/home/gfindlay/miniconda3/envs/ecephys/lib/python3.10/site-packages/xarray/backends/plugins.py:102: DeprecationWarning: SelectableGroups dict interface is deprecated. Use select.\n",
      "  entrypoints = entry_points().get(\"xarray.backends\", ())\n"
     ]
    },
    {
     "name": "stdout",
     "output_type": "stream",
     "text": [
      "Done!\n",
      "15:24:49: Starting /Volumes/neuropixel_archive/Data/chronic/CNPIX12-Santiago/11-3-2021/SpikeGLX/11-3-2021_g0/11-3-2021_g0_imec1/11-3-2021_g0_t1.imec1.lf.bin\n",
      "nChan: 385, nFileSamp: 18000038\n",
      "Done!\n",
      "15:29:13: Starting /Volumes/neuropixel_archive/Data/chronic/CNPIX12-Santiago/11-3-2021/SpikeGLX/11-3-2021_g0/11-3-2021_g0_imec1/11-3-2021_g0_t2.imec1.lf.bin\n",
      "nChan: 385, nFileSamp: 18000039\n",
      "Done!\n",
      "15:32:45: Starting /Volumes/neuropixel_archive/Data/chronic/CNPIX12-Santiago/11-3-2021/SpikeGLX/11-3-2021_g0/11-3-2021_g0_imec1/11-3-2021_g0_t3.imec1.lf.bin\n",
      "nChan: 385, nFileSamp: 18000038\n",
      "Done!\n",
      "15:36:06: Starting /Volumes/neuropixel_archive/Data/chronic/CNPIX12-Santiago/11-3-2021/SpikeGLX/11-3-2021_g0/11-3-2021_g0_imec1/11-3-2021_g0_t4.imec1.lf.bin\n",
      "nChan: 385, nFileSamp: 18000039\n",
      "Done!\n",
      "15:39:39: Starting /Volumes/neuropixel_archive/Data/chronic/CNPIX12-Santiago/11-3-2021/SpikeGLX/11-3-2021_g0/11-3-2021_g0_imec1/11-3-2021_g0_t5.imec1.lf.bin\n",
      "nChan: 385, nFileSamp: 18000038\n",
      "Done!\n",
      "15:42:59: Starting /Volumes/neuropixel_archive/Data/chronic/CNPIX12-Santiago/11-3-2021/SpikeGLX/11-3-2021_g0/11-3-2021_g0_imec1/11-3-2021_g0_t6.imec1.lf.bin\n",
      "nChan: 385, nFileSamp: 18000038\n",
      "Done!\n",
      "15:46:28: Starting /Volumes/neuropixel_archive/Data/chronic/CNPIX12-Santiago/11-3-2021/SpikeGLX/11-3-2021_g0/11-3-2021_g0_imec1/11-3-2021_g0_t7.imec1.lf.bin\n",
      "nChan: 385, nFileSamp: 18000038\n",
      "Done!\n",
      "15:49:49: Starting /Volumes/neuropixel_archive/Data/chronic/CNPIX12-Santiago/11-3-2021/SpikeGLX/11-3-2021_g0/11-3-2021_g0_imec1/11-3-2021_g0_t8.imec1.lf.bin\n",
      "nChan: 385, nFileSamp: 18000038\n",
      "Done!\n",
      "15:53:09: Starting /Volumes/neuropixel_archive/Data/chronic/CNPIX12-Santiago/11-3-2021/SpikeGLX/11-3-2021_g0/11-3-2021_g0_imec1/11-3-2021_g0_t9.imec1.lf.bin\n",
      "nChan: 385, nFileSamp: 18000038\n",
      "Done!\n",
      "15:56:37: Starting /Volumes/neuropixel_archive/Data/chronic/CNPIX12-Santiago/11-3-2021/SpikeGLX/11-3-2021_g0/11-3-2021_g0_imec1/11-3-2021_g0_t10.imec1.lf.bin\n",
      "nChan: 385, nFileSamp: 18000038\n",
      "Done!\n",
      "16:00:13: Starting /Volumes/neuropixel_archive/Data/chronic/CNPIX12-Santiago/11-3-2021/SpikeGLX/11-3-2021_g0/11-3-2021_g0_imec1/11-3-2021_g0_t11.imec1.lf.bin\n",
      "nChan: 385, nFileSamp: 17429335\n",
      "Done!\n",
      "16:04:21: Starting /Volumes/neuropixel_archive/Data/chronic/CNPIX12-Santiago/11-4-2021/SpikeGLX/11-4-2021_g0/11-4-2021_g0_imec1/11-4-2021_g0_t0.imec1.lf.bin\n",
      "nChan: 385, nFileSamp: 18000038\n",
      "Done!\n",
      "16:08:20: Starting /Volumes/neuropixel_archive/Data/chronic/CNPIX12-Santiago/11-4-2021/SpikeGLX/11-4-2021_g0/11-4-2021_g0_imec1/11-4-2021_g0_t1.imec1.lf.bin\n",
      "nChan: 385, nFileSamp: 18000039\n",
      "Done!\n",
      "16:13:13: Starting /Volumes/neuropixel_archive/Data/chronic/CNPIX12-Santiago/11-4-2021/SpikeGLX/11-4-2021_g0/11-4-2021_g0_imec1/11-4-2021_g0_t2.imec1.lf.bin\n",
      "nChan: 385, nFileSamp: 18000038\n",
      "Done!\n",
      "16:17:52: Starting /Volumes/neuropixel_archive/Data/chronic/CNPIX12-Santiago/11-4-2021/SpikeGLX/11-4-2021_g0/11-4-2021_g0_imec1/11-4-2021_g0_t3.imec1.lf.bin\n",
      "nChan: 385, nFileSamp: 18000038\n",
      "Done!\n",
      "16:22:32: Starting /Volumes/neuropixel_archive/Data/chronic/CNPIX12-Santiago/11-4-2021/SpikeGLX/11-4-2021_g0/11-4-2021_g0_imec1/11-4-2021_g0_t4.imec1.lf.bin\n",
      "nChan: 385, nFileSamp: 18000039\n",
      "Done!\n",
      "16:27:26: Starting /Volumes/neuropixel_archive/Data/chronic/CNPIX12-Santiago/11-4-2021/SpikeGLX/11-4-2021_g0/11-4-2021_g0_imec1/11-4-2021_g0_t5.imec1.lf.bin\n",
      "nChan: 385, nFileSamp: 18000038\n",
      "Done!\n",
      "16:31:53: Starting /Volumes/neuropixel_archive/Data/chronic/CNPIX12-Santiago/11-4-2021/SpikeGLX/11-4-2021_g0/11-4-2021_g0_imec1/11-4-2021_g0_t6.imec1.lf.bin\n",
      "nChan: 385, nFileSamp: 18000038\n",
      "Done!\n",
      "16:36:33: Starting /Volumes/neuropixel_archive/Data/chronic/CNPIX12-Santiago/11-4-2021/SpikeGLX/11-4-2021_g0/11-4-2021_g0_imec1/11-4-2021_g0_t7.imec1.lf.bin\n",
      "nChan: 385, nFileSamp: 18000039\n",
      "Done!\n",
      "16:41:18: Starting /Volumes/neuropixel_archive/Data/chronic/CNPIX12-Santiago/11-4-2021/SpikeGLX/11-4-2021_g0/11-4-2021_g0_imec1/11-4-2021_g0_t8.imec1.lf.bin\n",
      "nChan: 385, nFileSamp: 18000038\n",
      "Done!\n",
      "16:46:00: Starting /Volumes/neuropixel_archive/Data/chronic/CNPIX12-Santiago/11-4-2021/SpikeGLX/11-4-2021_g0/11-4-2021_g0_imec1/11-4-2021_g0_t9.imec1.lf.bin\n",
      "nChan: 385, nFileSamp: 18000038\n",
      "Done!\n",
      "16:50:26: Starting /Volumes/neuropixel_archive/Data/chronic/CNPIX12-Santiago/11-4-2021/SpikeGLX/11-4-2021_g0/11-4-2021_g0_imec1/11-4-2021_g0_t10.imec1.lf.bin\n",
      "nChan: 385, nFileSamp: 18000038\n",
      "Done!\n",
      "16:55:03: Starting /Volumes/neuropixel_archive/Data/chronic/CNPIX12-Santiago/11-4-2021/SpikeGLX/11-4-2021_g0/11-4-2021_g0_imec1/11-4-2021_g0_t11.imec1.lf.bin\n",
      "nChan: 385, nFileSamp: 17997626\n",
      "Done!\n"
     ]
    }
   ],
   "source": [
    "write_alias_edfs(\"CNPIX12-Santiago\", \"conveyor_over_water\", \"full_48h\", \"imec1\")"
   ]
  },
  {
   "cell_type": "code",
   "execution_count": null,
   "metadata": {},
   "outputs": [],
   "source": []
  }
 ],
 "metadata": {
  "interpreter": {
   "hash": "f06ef39cb6ee7741943854b92e7f7bd5e36de2ca6c2d3088dba84f9a49c05b4a"
  },
  "kernelspec": {
   "display_name": "Python 3.7.10 64-bit ('ecephys': conda)",
   "name": "python3"
  },
  "language_info": {
   "codemirror_mode": {
    "name": "ipython",
    "version": 3
   },
   "file_extension": ".py",
   "mimetype": "text/x-python",
   "name": "python",
   "nbconvert_exporter": "python",
   "pygments_lexer": "ipython3",
   "version": "3.10.0"
  }
 },
 "nbformat": 4,
 "nbformat_minor": 4
}
