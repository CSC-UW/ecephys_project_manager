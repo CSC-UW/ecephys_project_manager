{
 "cells": [
  {
   "cell_type": "code",
   "execution_count": 11,
   "metadata": {
    "execution": {
     "iopub.execute_input": "2021-04-12T22:22:39.484056Z",
     "iopub.status.busy": "2021-04-12T22:22:39.483562Z",
     "iopub.status.idle": "2021-04-12T22:22:39.507314Z",
     "shell.execute_reply": "2021-04-12T22:22:39.506637Z",
     "shell.execute_reply.started": "2021-04-12T22:22:39.483997Z"
    }
   },
   "outputs": [
    {
     "name": "stdout",
     "output_type": "stream",
     "text": [
      "The autoreload extension is already loaded. To reload it, use:\n",
      "  %reload_ext autoreload\n"
     ]
    }
   ],
   "source": [
    "%load_ext autoreload\n",
    "%autoreload 2"
   ]
  },
  {
   "cell_type": "markdown",
   "metadata": {},
   "source": [
    "# Imports and definitions"
   ]
  },
  {
   "cell_type": "code",
   "execution_count": 12,
   "metadata": {
    "execution": {
     "iopub.execute_input": "2021-04-12T22:22:40.208219Z",
     "iopub.status.busy": "2021-04-12T22:22:40.207909Z",
     "iopub.status.idle": "2021-04-12T22:22:40.228388Z",
     "shell.execute_reply": "2021-04-12T22:22:40.227690Z",
     "shell.execute_reply.started": "2021-04-12T22:22:40.208182Z"
    }
   },
   "outputs": [],
   "source": [
    "import numpy as np\n",
    "import pandas as pd\n",
    "from datetime import datetime\n",
    "import xarray as xr\n",
    "from pathlib import Path"
   ]
  },
  {
   "cell_type": "code",
   "execution_count": 13,
   "metadata": {
    "execution": {
     "iopub.execute_input": "2021-04-12T22:22:40.480506Z",
     "iopub.status.busy": "2021-04-12T22:22:40.480050Z",
     "iopub.status.idle": "2021-04-12T22:22:40.501675Z",
     "shell.execute_reply": "2021-04-12T22:22:40.500962Z",
     "shell.execute_reply.started": "2021-04-12T22:22:40.480450Z"
    }
   },
   "outputs": [],
   "source": [
    "from ecephys_analyses.data import channel_groups, paths, load\n",
    "from ecephys.sglx_utils import load_timeseries\n",
    "import ecephys.signal.timefrequency as tfr"
   ]
  },
  {
   "cell_type": "code",
   "execution_count": 14,
   "metadata": {
    "execution": {
     "iopub.execute_input": "2021-04-12T22:22:40.833454Z",
     "iopub.status.busy": "2021-04-12T22:22:40.832947Z",
     "iopub.status.idle": "2021-04-12T22:22:40.855059Z",
     "shell.execute_reply": "2021-04-12T22:22:40.854450Z",
     "shell.execute_reply.started": "2021-04-12T22:22:40.833394Z"
    }
   },
   "outputs": [
    {
     "data": {
      "text/plain": [
       "<xarray.core.options.set_options at 0x7f6394d9d150>"
      ]
     },
     "execution_count": 14,
     "metadata": {},
     "output_type": "execute_result"
    }
   ],
   "source": [
    "xr.set_options(keep_attrs=True)"
   ]
  },
  {
   "cell_type": "code",
   "execution_count": 15,
   "metadata": {
    "execution": {
     "iopub.execute_input": "2021-04-12T22:22:41.183202Z",
     "iopub.status.busy": "2021-04-12T22:22:41.182955Z",
     "iopub.status.idle": "2021-04-12T22:22:41.203728Z",
     "shell.execute_reply": "2021-04-12T22:22:41.203034Z",
     "shell.execute_reply.started": "2021-04-12T22:22:41.183174Z"
    }
   },
   "outputs": [],
   "source": [
    "def parallel_spectrogram_welch(sig, **kwargs):\n",
    "    freqs, spg_times, spg = tfr.parallel_spectrogram_welch(sig.values, sig.fs, **kwargs)\n",
    "    spg_times = spg_times + sig.time.values.min()\n",
    "    return xr.DataArray(\n",
    "        spg,\n",
    "        dims=(\"frequency\", \"time\", \"channel\"),\n",
    "        coords={\"frequency\": freqs, \"time\": spg_times, \"channel\": sig.channel.values},\n",
    "        attrs={'units': f\"{sig.units}^2/Hz\", 'file_start': sig.fileCreateTime}\n",
    "    )"
   ]
  },
  {
   "cell_type": "code",
   "execution_count": 16,
   "metadata": {
    "execution": {
     "iopub.execute_input": "2021-04-12T22:22:41.534759Z",
     "iopub.status.busy": "2021-04-12T22:22:41.534506Z",
     "iopub.status.idle": "2021-04-12T22:22:41.553110Z",
     "shell.execute_reply": "2021-04-12T22:22:41.552496Z",
     "shell.execute_reply.started": "2021-04-12T22:22:41.534730Z"
    }
   },
   "outputs": [],
   "source": [
    "def get_bandpower_from_spectrogram(spg, chans, f_range):\n",
    "    bandpower = spg.sel(frequency=slice(*f_range)).sum(\n",
    "        dim=\"frequency\"\n",
    "    )\n",
    "    bandpower.attrs[\"freq_range\"] = f_range\n",
    "    bandpower.attrs['chans'] = chans\n",
    "\n",
    "    return bandpower"
   ]
  },
  {
   "cell_type": "code",
   "execution_count": 17,
   "metadata": {
    "execution": {
     "iopub.execute_input": "2021-04-12T22:22:41.926908Z",
     "iopub.status.busy": "2021-04-12T22:22:41.926597Z",
     "iopub.status.idle": "2021-04-12T22:22:41.944843Z",
     "shell.execute_reply": "2021-04-12T22:22:41.944238Z",
     "shell.execute_reply.started": "2021-04-12T22:22:41.926872Z"
    }
   },
   "outputs": [],
   "source": [
    "def get_bandpower(sig, chans, f_range):\n",
    "    spg = parallel_spectrogram_welch(sig).median(dim=\"channel\")\n",
    "    return get_bandpower_from_spectrogram(spg, chans, f_range)"
   ]
  },
  {
   "cell_type": "code",
   "execution_count": 23,
   "metadata": {
    "execution": {
     "iopub.execute_input": "2021-04-12T23:26:05.552380Z",
     "iopub.status.busy": "2021-04-12T23:26:05.552236Z",
     "iopub.status.idle": "2021-04-12T23:26:05.584510Z",
     "shell.execute_reply": "2021-04-12T23:26:05.583621Z",
     "shell.execute_reply.started": "2021-04-12T23:26:05.552364Z"
    }
   },
   "outputs": [],
   "source": [
    "def get_condition_power(subject, experiment, condition):\n",
    "    cx_chans = channel_groups.superficial_ctx[subject]\n",
    "    wm_chans = channel_groups.white_matter[subject]\n",
    "    \n",
    "    bin_paths = paths.get_sglx_style_datapaths(subject, experiment, condition, \"lf.bin\")\n",
    "    sr_chans_paths = paths.get_sglx_style_datapaths(subject, experiment, condition, \"sr_chans.csv\")\n",
    "    power_paths = paths.get_sglx_style_datapaths(subject, experiment, condition, \"pow.nc\")\n",
    "    \n",
    "    for bin_path, sr_chans_path, power_path in zip(bin_paths, sr_chans_paths, power_paths):\n",
    "        sr_chans_df = load.load_sr_chans(sr_chans_path)\n",
    "        power_by_epoch = list()\n",
    "        for epoch in sr_chans_df.itertuples():\n",
    "            cx = load_timeseries(bin_path, cx_chans, start_time=epoch.start_time, end_time=epoch.end_time)\n",
    "            wm = load_timeseries(bin_path, wm_chans, start_time=epoch.start_time, end_time=epoch.end_time)\n",
    "            sr = load_timeseries(bin_path, epoch.sr_chans, start_time=epoch.start_time, end_time=epoch.end_time)\n",
    "\n",
    "            cx_wm_ref = cx - wm.values\n",
    "            cx_wm_ref.attrs['reference'] = wm.channel.values\n",
    "\n",
    "            sr_wm_ref = sr - wm.values\n",
    "            sr_wm_ref.attrs['reference'] = wm.channel.values\n",
    "\n",
    "            delta = (0.5, 4)\n",
    "            theta = (5, 10)\n",
    "            power = xr.Dataset({'mpta_delta_cbm_ref': get_bandpower(cx, cx_chans, delta), \n",
    "                                'mpta_theta_cbm_ref': get_bandpower(cx, cx_chans, theta),\n",
    "                                'sr_delta_cbm_ref': get_bandpower(sr, epoch.sr_chans, delta), \n",
    "                                'sr_theta_cbm_ref': get_bandpower(sr, epoch.sr_chans, theta),\n",
    "                                'mpta_delta_wm_ref': get_bandpower(cx_wm_ref, cx_chans, delta),\n",
    "                                'mpta_theta_wm_ref': get_bandpower(cx_wm_ref, cx_chans, theta),\n",
    "                                'sr_delta_wm_ref': get_bandpower(sr_wm_ref, epoch.sr_chans, delta),\n",
    "                                'sr_theta_wm_ref': get_bandpower(sr_wm_ref, epoch.sr_chans, theta)})\n",
    "            power_by_epoch.append(power)\n",
    "            \n",
    "        power = xr.concat(power_by_epoch, dim=\"time\")\n",
    "        Path(power_path).parent.mkdir(parents=True, exist_ok=True) # Create parent directories if they do not already exist.\n",
    "        power.to_netcdf(power_path)\n",
    "        power.close()\n",
    "        \n",
    "        current_time = datetime.now().strftime(\"%H:%M:%S\")\n",
    "        print(f\"{current_time}: Finished {str(bin_path)}\")"
   ]
  },
  {
   "cell_type": "code",
   "execution_count": 20,
   "metadata": {
    "execution": {
     "iopub.execute_input": "2021-04-12T23:05:11.332699Z",
     "iopub.status.busy": "2021-04-12T23:05:11.332209Z",
     "iopub.status.idle": "2021-04-12T23:26:05.376137Z",
     "shell.execute_reply": "2021-04-12T23:26:05.375140Z",
     "shell.execute_reply.started": "2021-04-12T23:05:11.332639Z"
    }
   },
   "outputs": [
    {
     "name": "stdout",
     "output_type": "stream",
     "text": [
      "nChan: 385, nFileSamp: 1802362\n",
      "nChan: 385, nFileSamp: 1802362\n",
      "nChan: 385, nFileSamp: 1802362\n",
      "nChan: 385, nFileSamp: 4977007\n",
      "nChan: 385, nFileSamp: 4977007\n",
      "nChan: 385, nFileSamp: 4977007\n",
      "nChan: 385, nFileSamp: 18000039\n",
      "nChan: 385, nFileSamp: 18000039\n",
      "nChan: 385, nFileSamp: 18000039\n",
      "nChan: 385, nFileSamp: 8553813\n",
      "nChan: 385, nFileSamp: 8553813\n",
      "nChan: 385, nFileSamp: 8553813\n",
      "18:26:05: Finished /Volumes/neuropixel_archive/Data/chronic/CNPIX4-Doppio/3-26-2020/3-26-2020_3_g0/3-26-2020_3_g0_imec0/3-26-2020_3_g0_t1.imec0.lf.bin\n"
     ]
    }
   ],
   "source": [
    "get_condition_power(\"Doppio\", \"atropine\", \"all\")"
   ]
  },
  {
   "cell_type": "code",
   "execution_count": null,
   "metadata": {},
   "outputs": [],
   "source": []
  }
 ],
 "metadata": {
  "kernelspec": {
   "display_name": "Python 3",
   "language": "python",
   "name": "python3"
  },
  "language_info": {
   "codemirror_mode": {
    "name": "ipython",
    "version": 3
   },
   "file_extension": ".py",
   "mimetype": "text/x-python",
   "name": "python",
   "nbconvert_exporter": "python",
   "pygments_lexer": "ipython3",
   "version": "3.7.9"
  }
 },
 "nbformat": 4,
 "nbformat_minor": 4
}
