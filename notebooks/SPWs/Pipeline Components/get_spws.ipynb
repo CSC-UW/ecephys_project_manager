{
 "cells": [
  {
   "cell_type": "markdown",
   "metadata": {},
   "source": [
    "- TODO: Parallelize sharp wave property computation"
   ]
  },
  {
   "cell_type": "markdown",
   "metadata": {
    "execution": {
     "iopub.execute_input": "2020-11-30T16:00:22.289233Z",
     "iopub.status.busy": "2020-11-30T16:00:22.288802Z",
     "iopub.status.idle": "2020-11-30T16:00:22.305803Z",
     "shell.execute_reply": "2020-11-30T16:00:22.305354Z",
     "shell.execute_reply.started": "2020-11-30T16:00:22.289179Z"
    }
   },
   "source": [
    "# Imports and definitions"
   ]
  },
  {
   "cell_type": "code",
   "execution_count": 1,
   "metadata": {
    "execution": {
     "iopub.execute_input": "2021-07-23T21:30:49.065847Z",
     "iopub.status.busy": "2021-07-23T21:30:49.065364Z",
     "iopub.status.idle": "2021-07-23T21:30:49.082797Z",
     "shell.execute_reply": "2021-07-23T21:30:49.082182Z",
     "shell.execute_reply.started": "2021-07-23T21:30:49.065790Z"
    }
   },
   "outputs": [],
   "source": [
    "%load_ext autoreload\n",
    "%autoreload 2"
   ]
  },
  {
   "cell_type": "code",
   "execution_count": 12,
   "metadata": {
    "execution": {
     "iopub.execute_input": "2021-07-23T21:46:14.590204Z",
     "iopub.status.busy": "2021-07-23T21:46:14.589699Z",
     "iopub.status.idle": "2021-07-23T21:46:14.613126Z",
     "shell.execute_reply": "2021-07-23T21:46:14.612487Z",
     "shell.execute_reply.started": "2021-07-23T21:46:14.590144Z"
    }
   },
   "outputs": [],
   "source": [
    "import numpy as np\n",
    "import pandas as pd\n",
    "import json\n",
    "from datetime import datetime"
   ]
  },
  {
   "cell_type": "code",
   "execution_count": 13,
   "metadata": {
    "execution": {
     "iopub.execute_input": "2021-07-23T21:46:14.826750Z",
     "iopub.status.busy": "2021-07-23T21:46:14.826390Z",
     "iopub.status.idle": "2021-07-23T21:46:14.848141Z",
     "shell.execute_reply": "2021-07-23T21:46:14.847366Z",
     "shell.execute_reply.started": "2021-07-23T21:46:14.826706Z"
    }
   },
   "outputs": [],
   "source": [
    "import ecephys_analyses as ea\n",
    "from ecephys_analyses.load import load_sr_chans\n",
    "from sglxarray import load_trigger\n",
    "from ecephys.xrsig import get_kcsd\n",
    "from ecephys.signal.sharp_wave_ripples import detect_sharp_waves_by_value, get_durations, get_midpoints, get_sink_amplitudes, get_sink_integrals\n",
    "from ecephys.utils import store_df_h5"
   ]
  },
  {
   "cell_type": "markdown",
   "metadata": {},
   "source": [
    "## Detect SPWS, accounting for drift"
   ]
  },
  {
   "cell_type": "code",
   "execution_count": 14,
   "metadata": {
    "execution": {
     "iopub.execute_input": "2021-07-23T21:46:15.379231Z",
     "iopub.status.busy": "2021-07-23T21:46:15.378939Z",
     "iopub.status.idle": "2021-07-23T21:46:15.404688Z",
     "shell.execute_reply": "2021-07-23T21:46:15.404062Z",
     "shell.execute_reply.started": "2021-07-23T21:46:15.379198Z"
    }
   },
   "outputs": [],
   "source": [
    "def get_epoch_spws(csd, spw_params, epoch_start, epoch_end, sr_chans):\n",
    "    if not sr_chans:\n",
    "        return pd.DataFrame()\n",
    "    \n",
    "    sr_csd = csd.sel(time=slice(epoch_start, epoch_end), channel=sr_chans)\n",
    "    \n",
    "    spws = detect_sharp_waves_by_value(\n",
    "        sr_csd.time.values,\n",
    "        sr_csd.values,\n",
    "        spw_params[\"detection_threshold\"],\n",
    "        spw_params[\"boundary_threshold\"],\n",
    "        spw_params[\"minimum_duration\"],\n",
    "    )\n",
    "\n",
    "    if not spws.empty:\n",
    "        spws[\"duration\"] = get_durations(spws)\n",
    "        spws[\"midpoint\"] = get_midpoints(spws)\n",
    "        spws[\"sink_amplitude\"] = get_sink_amplitudes(spws, sr_csd.time.values, sr_csd.values) * (\n",
    "            1e-6\n",
    "        )  # Scale to mA/mm\n",
    "        spws[\"sink_integral\"] = (\n",
    "            get_sink_integrals(spws, sr_csd.time.values, sr_csd.fs, sr_csd.values) * (1e-6) * (1e3)\n",
    "        )  # Scale to mA * ms\n",
    "\n",
    "        spws[\"sr_chans\"] = [sr_chans] * len(spws)\n",
    "    \n",
    "    return spws"
   ]
  },
  {
   "cell_type": "code",
   "execution_count": 15,
   "metadata": {
    "execution": {
     "iopub.execute_input": "2021-07-23T21:46:15.682614Z",
     "iopub.status.busy": "2021-07-23T21:46:15.682386Z",
     "iopub.status.idle": "2021-07-23T21:46:15.708822Z",
     "shell.execute_reply": "2021-07-23T21:46:15.708058Z",
     "shell.execute_reply.started": "2021-07-23T21:46:15.682587Z"
    }
   },
   "outputs": [],
   "source": [
    "def get_file_spws(bin_path, sr_chans_path, spw_path, params_path):\n",
    "    with open(params_path) as params_file:\n",
    "        spw_params = json.load(params_file)\n",
    "        csd_params = spw_params[\"csd_params\"]\n",
    "\n",
    "    sig = load_trigger(bin_path, csd_params['csd_channels'])\n",
    "        \n",
    "    csd = get_kcsd(\n",
    "        sig,\n",
    "        np.arange(0, len(sig.channel)) * csd_params['electrode_pitch'],\n",
    "        drop_chans=csd_params[\"channels_omitted_from_csd_estimation\"],\n",
    "        do_lcurve=False,\n",
    "        gdx=csd_params[\"gdx\"],\n",
    "        R_init=csd_params[\"R\"],\n",
    "        lambd=csd_params[\"lambd\"],\n",
    "    ).swap_dims({'pos': 'channel'})\n",
    "\n",
    "    sr_chans_df = load_sr_chans(sr_chans_path)\n",
    "    spws_by_epoch = list()\n",
    "    for epoch in sr_chans_df.itertuples():\n",
    "        spws_by_epoch.append(\n",
    "            get_epoch_spws(\n",
    "                csd, spw_params, epoch.start_time, epoch.end_time, epoch.sr_chans\n",
    "            )\n",
    "        )\n",
    "\n",
    "    spws = pd.concat(spws_by_epoch)\n",
    "    metadata = dict(\n",
    "        spw_params=spw_params,\n",
    "        csd_params=csd_params,\n",
    "        file_start=str(sig.datetime.values.min()),\n",
    "    )\n",
    "    metadata.update(spws.attrs)\n",
    "\n",
    "    store_df_h5(spw_path, spws, **metadata)"
   ]
  },
  {
   "cell_type": "code",
   "execution_count": 16,
   "metadata": {
    "execution": {
     "iopub.execute_input": "2021-07-23T21:46:16.058789Z",
     "iopub.status.busy": "2021-07-23T21:46:16.058573Z",
     "iopub.status.idle": "2021-07-23T21:46:16.081151Z",
     "shell.execute_reply": "2021-07-23T21:46:16.080544Z",
     "shell.execute_reply.started": "2021-07-23T21:46:16.058766Z"
    }
   },
   "outputs": [],
   "source": [
    "def get_experiment_spws(subject, experiment, probe):\n",
    "    #hpc_chans = ea.get_channels(subject, experiment, probe, \"hippocampus\")\n",
    "    #internal_reference = ea.get_channels(subject, experiment, probe, \"internal_reference\")\n",
    "    \n",
    "    bin_paths = ea.get_sglx_style_datapaths(subject=subject, experiment=experiment, condition=\"all\", ext=\"lf.bin\")\n",
    "    sr_chans_paths = ea.get_sglx_style_datapaths(subject=subject, experiment=experiment, condition=\"all\", ext=\"sr_chans.csv\")\n",
    "    spw_paths = ea.get_sglx_style_datapaths(subject=subject, experiment=experiment, condition=\"all\", ext=\"spws.h5\")\n",
    "    params_path = ea.get_datapath(file=\"sharp_wave_detection_params.json\", subject=subject, experiment=experiment)\n",
    "\n",
    "    for bin_path, sr_chans_path, spw_path in zip(bin_paths, sr_chans_paths, spw_paths):\n",
    "        #get_file_spws(bin_path, sr_chans_path, spw_path, params_path, hpc_chans, internal_reference)\n",
    "        get_file_spws(bin_path, sr_chans_path, spw_path, params_path)\n",
    "        current_time = datetime.now().strftime(\"%H:%M:%S\")\n",
    "        print(f\"{current_time}: Finished {str(bin_path)}\")"
   ]
  },
  {
   "cell_type": "markdown",
   "metadata": {},
   "source": [
    "# Run automated pipeline"
   ]
  },
  {
   "cell_type": "code",
   "execution_count": null,
   "metadata": {
    "execution": {
     "iopub.execute_input": "2021-07-23T21:46:16.724032Z",
     "iopub.status.busy": "2021-07-23T21:46:16.723646Z"
    }
   },
   "outputs": [
    {
     "name": "stdout",
     "output_type": "stream",
     "text": [
      "nChan: 385, nFileSamp: 18000070\n"
     ]
    },
    {
     "name": "stderr",
     "output_type": "stream",
     "text": [
      "/home/gfindlay/miniconda3/envs/ecephys/lib/python3.7/site-packages/ipykernel_launcher.py:12: PerformanceWarning: \n",
      "your performance may suffer as PyTables will pickle object types that it cannot\n",
      "map directly to c-types [inferred_type->mixed,key->block1_values] [items->Index(['sr_chans'], dtype='object')]\n",
      "\n",
      "  if sys.path[0] == '':\n"
     ]
    },
    {
     "name": "stdout",
     "output_type": "stream",
     "text": [
      "16:57:23: Finished /Volumes/neuropixel_archive/Data/chronic/CNPIX9-Luigi/6-20-2021/6-20-2021_g0/6-20-2021_g0_imec0/6-20-2021_g0_t0.imec0.lf.bin\n",
      "nChan: 385, nFileSamp: 18000070\n",
      "17:10:09: Finished /Volumes/neuropixel_archive/Data/chronic/CNPIX9-Luigi/6-20-2021/6-20-2021_g0/6-20-2021_g0_imec0/6-20-2021_g0_t1.imec0.lf.bin\n",
      "nChan: 385, nFileSamp: 18000070\n",
      "17:22:34: Finished /Volumes/neuropixel_archive/Data/chronic/CNPIX9-Luigi/6-20-2021/6-20-2021_g0/6-20-2021_g0_imec0/6-20-2021_g0_t2.imec0.lf.bin\n",
      "nChan: 385, nFileSamp: 18000070\n"
     ]
    }
   ],
   "source": [
    "get_experiment_spws(\"Luigi\", \"sleep-homeostasis\", \"imec0\")"
   ]
  },
  {
   "cell_type": "code",
   "execution_count": null,
   "metadata": {},
   "outputs": [],
   "source": []
  }
 ],
 "metadata": {
  "kernelspec": {
   "display_name": "Python 3",
   "language": "python",
   "name": "python3"
  },
  "language_info": {
   "codemirror_mode": {
    "name": "ipython",
    "version": 3
   },
   "file_extension": ".py",
   "mimetype": "text/x-python",
   "name": "python",
   "nbconvert_exporter": "python",
   "pygments_lexer": "ipython3",
   "version": "3.7.9"
  }
 },
 "nbformat": 4,
 "nbformat_minor": 4
}
