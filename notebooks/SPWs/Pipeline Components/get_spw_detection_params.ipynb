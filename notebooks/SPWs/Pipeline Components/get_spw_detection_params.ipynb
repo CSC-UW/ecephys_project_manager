{
 "cells": [
  {
   "cell_type": "code",
   "execution_count": 1,
   "metadata": {
    "execution": {
     "iopub.execute_input": "2021-05-21T21:24:49.016185Z",
     "iopub.status.busy": "2021-05-21T21:24:49.016065Z",
     "iopub.status.idle": "2021-05-21T21:24:49.025044Z",
     "shell.execute_reply": "2021-05-21T21:24:49.024629Z",
     "shell.execute_reply.started": "2021-05-21T21:24:49.016170Z"
    }
   },
   "outputs": [],
   "source": [
    "%load_ext autoreload\n",
    "%autoreload 2\n",
    "from IPython.core.debugger import set_trace"
   ]
  },
  {
   "cell_type": "code",
   "execution_count": 2,
   "metadata": {
    "execution": {
     "iopub.execute_input": "2021-05-21T21:24:49.253568Z",
     "iopub.status.busy": "2021-05-21T21:24:49.253283Z",
     "iopub.status.idle": "2021-05-21T21:24:49.915928Z",
     "shell.execute_reply": "2021-05-21T21:24:49.915321Z",
     "shell.execute_reply.started": "2021-05-21T21:24:49.253512Z"
    }
   },
   "outputs": [],
   "source": [
    "import numpy as np\n",
    "import ecephys_analyses as ea\n",
    "from ecephys.sglx_utils import load_contiguous_triggers, load_trigger\n",
    "from ecephys.signal.csd import get_kcsd\n",
    "from ecephys.utils import zscore_to_value"
   ]
  },
  {
   "cell_type": "code",
   "execution_count": 3,
   "metadata": {
    "execution": {
     "iopub.execute_input": "2021-05-21T21:24:49.930351Z",
     "iopub.status.busy": "2021-05-21T21:24:49.930223Z",
     "iopub.status.idle": "2021-05-21T21:24:49.954774Z",
     "shell.execute_reply": "2021-05-21T21:24:49.954209Z",
     "shell.execute_reply.started": "2021-05-21T21:24:49.930335Z"
    }
   },
   "outputs": [],
   "source": [
    "def get_spw_detection_parameters(subject, experiment, condition, probe, files, detection_threshold_zscore=2.5, boundary_threshold_zscore=1):\n",
    "    sr_chans = ea.get_channels(subject, experiment, probe, 'stratum_radiatum')\n",
    "    hpc_chans = ea.get_channels(subject, experiment, probe, 'hippocampus')\n",
    "    internal_reference = ea.get_channels(subject, experiment, probe, 'internal_reference')\n",
    "    bin_paths = ea.get_sglx_style_datapaths(subject, experiment, condition, \"lf.bin\")[files]\n",
    "    params_path = ea.get_datapath(\"sharp_wave_detection_params.json\", subject, experiment)\n",
    "    \n",
    "    sig = load_contiguous_triggers(bin_paths, hpc_chans)\n",
    "        \n",
    "    electrode_pitch = 0.020\n",
    "    ele_pos = np.arange(0, len(sig.channel)) * electrode_pitch\n",
    "    csd = get_kcsd(sig, ele_pos, drop_chans=internal_reference, do_lcurve=True, gdx=electrode_pitch)\n",
    "    \n",
    "    sr_csd = csd.swap_dims({'pos': 'channel'}).sel(channel=sr_chans)\n",
    "    combined_csd = -sr_csd.sum(dim='channel')\n",
    "    detection_threshold = zscore_to_value(combined_csd.values, detection_threshold_zscore)\n",
    "    boundary_threshold = zscore_to_value(combined_csd.values, boundary_threshold_zscore)\n",
    "    \n",
    "    csd_params = dict(\n",
    "        files_used_for_parameter_estimation=[str(path) for path in bin_paths],\n",
    "        electrode_pitch=electrode_pitch,\n",
    "        xmin=csd.kcsd.xmin,\n",
    "        xmax=csd.kcsd.xmax,\n",
    "        n_estm=csd.kcsd.n_estm,\n",
    "        gdx=csd.kcsd.gdx,\n",
    "        lambd=csd.kcsd.lambd,\n",
    "        R=csd.kcsd.R,\n",
    "        csd_channels=hpc_chans.tolist(),\n",
    "        channels_omitted_from_csd_estimation=internal_reference.tolist(),\n",
    "        ele_pos=csd.kcsd.ele_pos.tolist(),\n",
    "    )\n",
    "    spw_params = dict(\n",
    "        files_used_for_parameter_estimation=[str(path) for path in bin_paths],\n",
    "        detection_threshold_zscore=detection_threshold_zscore,\n",
    "        boundary_threshold_zscore=boundary_threshold_zscore,\n",
    "        detection_threshold=detection_threshold,\n",
    "        boundary_threshold=boundary_threshold,\n",
    "        minimum_duration=0.005,\n",
    "        detection_chans=sr_chans.tolist(),\n",
    "        csd_params=csd_params\n",
    "    )\n",
    "    \n",
    "    params_path.parent.mkdir(parents=True, exist_ok=True)\n",
    "    with open(params_path, \"x\") as params_file:\n",
    "        json.dump(spw_params, params_file, indent=4)"
   ]
  },
  {
   "cell_type": "code",
   "execution_count": 52,
   "metadata": {
    "execution": {
     "iopub.execute_input": "2021-05-21T23:28:11.219837Z",
     "iopub.status.busy": "2021-05-21T23:28:11.219698Z",
     "iopub.status.idle": "2021-05-21T23:33:37.424072Z",
     "shell.execute_reply": "2021-05-21T23:33:37.423210Z",
     "shell.execute_reply.started": "2021-05-21T23:28:11.219820Z"
    }
   },
   "outputs": [
    {
     "name": "stdout",
     "output_type": "stream",
     "text": [
      "nChan: 385, nFileSamp: 9000060\n",
      "Performing L-curve parameter estimation...\n",
      "No lambda given, using defaults\n",
      "min lambda 1e-11\n",
      "max lambda 0.0133\n",
      "min lambda 1e-11\n",
      "max lambda 0.0133\n",
      "l-curve (all lambda):  0.23\n",
      "Best lambda and R =  0.0004121781173889719 ,  0.23\n"
     ]
    }
   ],
   "source": [
    "get_spw_detection_parameters(\"Doppio\", \"ketamine-120mg\", \"all\", \"imec1\", slice(None, 1))"
   ]
  }
 ],
 "metadata": {
  "kernelspec": {
   "display_name": "Python 3",
   "language": "python",
   "name": "python3"
  },
  "language_info": {
   "codemirror_mode": {
    "name": "ipython",
    "version": 3
   },
   "file_extension": ".py",
   "mimetype": "text/x-python",
   "name": "python",
   "nbconvert_exporter": "python",
   "pygments_lexer": "ipython3",
   "version": "3.7.9"
  }
 },
 "nbformat": 4,
 "nbformat_minor": 4
}
