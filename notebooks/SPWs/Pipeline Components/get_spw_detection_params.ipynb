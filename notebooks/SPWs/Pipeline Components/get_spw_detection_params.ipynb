{
 "cells": [
  {
   "cell_type": "code",
   "execution_count": 1,
   "metadata": {
    "execution": {
     "iopub.execute_input": "2021-10-12T22:02:52.704457Z",
     "iopub.status.busy": "2021-10-12T22:02:52.703745Z",
     "iopub.status.idle": "2021-10-12T22:02:52.724906Z",
     "shell.execute_reply": "2021-10-12T22:02:52.724353Z",
     "shell.execute_reply.started": "2021-10-12T22:02:52.704311Z"
    },
    "tags": []
   },
   "outputs": [],
   "source": [
    "%load_ext autoreload\n",
    "%autoreload 2"
   ]
  },
  {
   "cell_type": "code",
   "execution_count": 2,
   "metadata": {
    "execution": {
     "iopub.execute_input": "2021-10-12T22:02:53.339005Z",
     "iopub.status.busy": "2021-10-12T22:02:53.338179Z",
     "iopub.status.idle": "2021-10-12T22:02:54.364707Z",
     "shell.execute_reply": "2021-10-12T22:02:54.364020Z",
     "shell.execute_reply.started": "2021-10-12T22:02:53.338949Z"
    },
    "tags": []
   },
   "outputs": [],
   "source": [
    "import numpy as np\n",
    "import json \n",
    "import ecephys_analyses as ea\n",
    "from sglxarray import load_contiguous_triggers, load_trigger\n",
    "from ecephys.xrsig import get_kcsd\n",
    "from ecephys.utils import zscore_to_value"
   ]
  },
  {
   "cell_type": "code",
   "execution_count": 3,
   "metadata": {
    "execution": {
     "iopub.execute_input": "2021-10-12T22:02:55.298945Z",
     "iopub.status.busy": "2021-10-12T22:02:55.298492Z",
     "iopub.status.idle": "2021-10-12T22:02:55.327779Z",
     "shell.execute_reply": "2021-10-12T22:02:55.327057Z",
     "shell.execute_reply.started": "2021-10-12T22:02:55.298903Z"
    },
    "tags": []
   },
   "outputs": [],
   "source": [
    "def get_spw_detection_parameters(subject, experiment, alias, probe, files, detection_threshold_zscore=2.5, boundary_threshold_zscore=1):\n",
    "    sr_chans = ea.get_channels(subject, experiment, probe, 'stratum_radiatum')\n",
    "    hpc_chans = ea.get_channels(subject, experiment, probe, 'hippocampus')\n",
    "    internal_reference = ea.get_channels(subject, experiment, probe, 'internal_reference')\n",
    "    \n",
    "    bin_paths = ea.get_lfp_bin_paths(subject, experiment, alias, probe=probe)[files]\n",
    "    #bin_paths = ea.get_sglx_style_datapaths(subject, experiment, condition, \"lf.bin\")[files]\n",
    "    \n",
    "    params_path = ea.get_experiment_file(\"sharp_wave_detection_params.json\", experiment, subject)\n",
    "    #params_path = ea.get_datapath(\"sharp_wave_detection_params.json\", subject, experiment)\n",
    "    \n",
    "    sig = load_contiguous_triggers(bin_paths, hpc_chans)\n",
    "        \n",
    "    electrode_pitch = 0.020\n",
    "    ele_pos = np.arange(0, len(sig.channel)) * electrode_pitch\n",
    "    csd = get_kcsd(sig, ele_pos, drop_chans=internal_reference, do_lcurve=True, gdx=electrode_pitch)\n",
    "    \n",
    "    sr_csd = csd.swap_dims({'pos': 'channel'}).sel(channel=sr_chans)\n",
    "    combined_csd = -sr_csd.sum(dim='channel')\n",
    "    detection_threshold = zscore_to_value(combined_csd.values, detection_threshold_zscore)\n",
    "    boundary_threshold = zscore_to_value(combined_csd.values, boundary_threshold_zscore)\n",
    "    \n",
    "    csd_params = dict(\n",
    "        files_used_for_parameter_estimation=[str(path) for path in bin_paths],\n",
    "        electrode_pitch=electrode_pitch,\n",
    "        xmin=csd.kcsd.xmin,\n",
    "        xmax=csd.kcsd.xmax,\n",
    "        n_estm=csd.kcsd.n_estm,\n",
    "        gdx=csd.kcsd.gdx,\n",
    "        lambd=csd.kcsd.lambd,\n",
    "        R=csd.kcsd.R,\n",
    "        csd_channels=hpc_chans.tolist(),\n",
    "        channels_omitted_from_csd_estimation=internal_reference.tolist(),\n",
    "        ele_pos=csd.kcsd.ele_pos.tolist(),\n",
    "    )\n",
    "    spw_params = dict(\n",
    "        files_used_for_parameter_estimation=[str(path) for path in bin_paths],\n",
    "        detection_threshold_zscore=detection_threshold_zscore,\n",
    "        boundary_threshold_zscore=boundary_threshold_zscore,\n",
    "        detection_threshold=detection_threshold,\n",
    "        boundary_threshold=boundary_threshold,\n",
    "        minimum_duration=0.005,\n",
    "        detection_chans=sr_chans.tolist(),\n",
    "        csd_params=csd_params\n",
    "    )\n",
    "    \n",
    "    params_path.parent.mkdir(parents=True, exist_ok=True)\n",
    "    with open(params_path, \"x\") as params_file:\n",
    "        json.dump(spw_params, params_file, indent=4)"
   ]
  },
  {
   "cell_type": "code",
   "execution_count": 4,
   "metadata": {
    "execution": {
     "iopub.execute_input": "2021-10-12T22:03:05.648397Z",
     "iopub.status.busy": "2021-10-12T22:03:05.647802Z",
     "iopub.status.idle": "2021-10-12T22:14:56.750452Z",
     "shell.execute_reply": "2021-10-12T22:14:56.749815Z",
     "shell.execute_reply.started": "2021-10-12T22:03:05.648341Z"
    },
    "tags": []
   },
   "outputs": [
    {
     "name": "stdout",
     "output_type": "stream",
     "text": [
      "nChan: 385, nFileSamp: 18000083\n",
      "Performing L-curve parameter estimation...\n",
      "No lambda given, using defaults\n",
      "min lambda 1e-12\n",
      "max lambda 0.0126\n",
      "min lambda 1e-12\n",
      "max lambda 0.0126\n",
      "l-curve (all lambda):  0.23\n",
      "Best lambda and R =  0.0011704755183051712 ,  0.23\n"
     ]
    }
   ],
   "source": [
    "get_spw_detection_parameters(\"Adrian\", \"novel_objects_deprivation\", \"recovery_sleep\", \"imec1\", slice(None, 1))"
   ]
  },
  {
   "cell_type": "code",
   "execution_count": null,
   "metadata": {},
   "outputs": [],
   "source": []
  }
 ],
 "metadata": {
  "kernelspec": {
   "display_name": "Python 3 (ipykernel)",
   "language": "python",
   "name": "python3"
  },
  "language_info": {
   "codemirror_mode": {
    "name": "ipython",
    "version": 3
   },
   "file_extension": ".py",
   "mimetype": "text/x-python",
   "name": "python",
   "nbconvert_exporter": "python",
   "pygments_lexer": "ipython3",
   "version": "3.7.10"
  }
 },
 "nbformat": 4,
 "nbformat_minor": 4
}
