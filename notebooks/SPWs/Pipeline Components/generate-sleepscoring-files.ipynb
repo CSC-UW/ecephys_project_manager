{
 "cells": [
  {
   "cell_type": "code",
   "execution_count": 34,
   "metadata": {
    "execution": {
     "iopub.execute_input": "2021-05-14T23:38:55.478429Z",
     "iopub.status.busy": "2021-05-14T23:38:55.477924Z",
     "iopub.status.idle": "2021-05-14T23:38:55.489770Z",
     "shell.execute_reply": "2021-05-14T23:38:55.485578Z",
     "shell.execute_reply.started": "2021-05-14T23:38:55.478366Z"
    }
   },
   "outputs": [],
   "source": [
    "import ecephys_analyses as ea"
   ]
  },
  {
   "cell_type": "code",
   "execution_count": 35,
   "metadata": {
    "execution": {
     "iopub.execute_input": "2021-05-14T23:38:56.932224Z",
     "iopub.status.busy": "2021-05-14T23:38:56.931744Z",
     "iopub.status.idle": "2021-05-14T23:38:56.937856Z",
     "shell.execute_reply": "2021-05-14T23:38:56.936504Z",
     "shell.execute_reply.started": "2021-05-14T23:38:56.932164Z"
    }
   },
   "outputs": [],
   "source": [
    "subject = \"Allan\"\n",
    "experiment = \"ketamine\"\n",
    "condition = \"all\""
   ]
  },
  {
   "cell_type": "code",
   "execution_count": 94,
   "metadata": {
    "execution": {
     "iopub.execute_input": "2021-05-15T00:08:17.228634Z",
     "iopub.status.busy": "2021-05-15T00:08:17.228083Z",
     "iopub.status.idle": "2021-05-15T00:08:17.240252Z",
     "shell.execute_reply": "2021-05-15T00:08:17.238832Z",
     "shell.execute_reply.started": "2021-05-15T00:08:17.228567Z"
    }
   },
   "outputs": [],
   "source": [
    "from ecephys.sglx_utils.external.readSGLX import readMeta\n",
    "\n",
    "def write_empty_hypnogram(bin_path, hypnogram_path, default_state=\"None\"):\n",
    "    meta = readMeta(bin_path)\n",
    "    duration = round(float(meta[\"fileTimeSecs\"]), 2)\n",
    "    with open(hypnogram_path, 'x') as f:\n",
    "        f.write(f\"*Duration_sec\\t{duration}\")\n",
    "        f.write(\"\\n\")\n",
    "        f.write(f\"{default_state}\\t{duration}\")\n",
    "        f.write(\"\\n\")"
   ]
  },
  {
   "cell_type": "code",
   "execution_count": 36,
   "metadata": {
    "execution": {
     "iopub.execute_input": "2021-05-14T23:38:57.579320Z",
     "iopub.status.busy": "2021-05-14T23:38:57.579030Z",
     "iopub.status.idle": "2021-05-14T23:38:57.763586Z",
     "shell.execute_reply": "2021-05-14T23:38:57.762746Z",
     "shell.execute_reply.started": "2021-05-14T23:38:57.579293Z"
    }
   },
   "outputs": [],
   "source": [
    "bin_paths = ea.get_sglx_style_datapaths(subject, experiment, condition, ext=\"lf.bin\")\n",
    "hypnogram_paths = ea.get_sglx_style_datapaths(subject, experiment, condition, ext=\"hypnogram.txt\")"
   ]
  },
  {
   "cell_type": "code",
   "execution_count": null,
   "metadata": {},
   "outputs": [],
   "source": [
    "for bin_path, hypnogram_path in zip(bin_paths, hypnogram_paths):\n",
    "    write_empty_hypnogram(bin_path, hypnogram_path)"
   ]
  },
  {
   "cell_type": "code",
   "execution_count": 90,
   "metadata": {
    "execution": {
     "iopub.execute_input": "2021-05-15T00:03:22.060404Z",
     "iopub.status.busy": "2021-05-15T00:03:22.059851Z",
     "iopub.status.idle": "2021-05-15T00:03:22.068740Z",
     "shell.execute_reply": "2021-05-15T00:03:22.067454Z",
     "shell.execute_reply.started": "2021-05-15T00:03:22.060334Z"
    }
   },
   "outputs": [],
   "source": [
    "from pathlib import PureWindowsPath\n",
    "\n",
    "def translate_server_path(path, drive):\n",
    "    data_dir_idx = path.parts.index('Data')\n",
    "    path_parts = path.parts[data_dir_idx:]\n",
    "    windows_path = PureWindowsPath(drive).joinpath(*path_parts)\n",
    "    return str(windows_path)"
   ]
  },
  {
   "cell_type": "code",
   "execution_count": 106,
   "metadata": {
    "execution": {
     "iopub.execute_input": "2021-05-15T00:20:13.996013Z",
     "iopub.status.busy": "2021-05-15T00:20:13.995494Z",
     "iopub.status.idle": "2021-05-15T00:20:14.009741Z",
     "shell.execute_reply": "2021-05-15T00:20:14.008659Z",
     "shell.execute_reply.started": "2021-05-15T00:20:13.995948Z"
    }
   },
   "outputs": [],
   "source": [
    "import yaml\n",
    "\n",
    "def write_sleepscore_config(cfg_path, bin_path, emg_path, bin_drive='U:\\\\', emg_drive='W:\\\\', chan_list=[], states_config_file='W:\\Data\\sleepscore_states_with_drug.yml'):\n",
    "    dataset = dict(binPath=translate_server_path(bin_path, bin_drive), datatype=\"SGLX\", chanList=chan_list)\n",
    "    config = dict(\n",
    "        datasets=[dataset],\n",
    "        downSample=100.0,\n",
    "        ds_method=\"interpolation\",\n",
    "        tStart=0.0,\n",
    "        tEnd=None,\n",
    "        EMGdatapath=translate_server_path(emg_path, emg_drive),\n",
    "        kwargs_sleep=dict(states_config_file=states_config_file),\n",
    "    )\n",
    "    with open(cfg_path, \"x\") as f: \n",
    "        yaml.dump(config, f, sort_keys=False)"
   ]
  },
  {
   "cell_type": "code",
   "execution_count": 99,
   "metadata": {
    "execution": {
     "iopub.execute_input": "2021-05-15T00:13:30.016250Z",
     "iopub.status.busy": "2021-05-15T00:13:30.015747Z",
     "iopub.status.idle": "2021-05-15T00:13:30.141807Z",
     "shell.execute_reply": "2021-05-15T00:13:30.141109Z",
     "shell.execute_reply.started": "2021-05-15T00:13:30.016188Z"
    }
   },
   "outputs": [],
   "source": [
    "bin_paths = ea.get_sglx_style_datapaths(subject, experiment, condition, ext=\"lf.bin\")\n",
    "emg_paths = ea.get_sglx_style_datapaths(subject, experiment, condition, ext=\"emg.nc\")\n",
    "cfg_paths = ea.get_sglx_style_datapaths(subject, experiment, condition, ext=\"sleepscore-config.yml\")"
   ]
  },
  {
   "cell_type": "code",
   "execution_count": null,
   "metadata": {},
   "outputs": [],
   "source": [
    "for bin_path, emg_path, cfg_path in zip(bin_paths, emg_paths, cfg_paths):\n",
    "    write_sleepscore_config(cfg_path, bin_path, emg_path)"
   ]
  },
  {
   "cell_type": "code",
   "execution_count": null,
   "metadata": {},
   "outputs": [],
   "source": []
  }
 ],
 "metadata": {
  "kernelspec": {
   "display_name": "Python 3",
   "language": "python",
   "name": "python3"
  },
  "language_info": {
   "codemirror_mode": {
    "name": "ipython",
    "version": 3
   },
   "file_extension": ".py",
   "mimetype": "text/x-python",
   "name": "python",
   "nbconvert_exporter": "python",
   "pygments_lexer": "ipython3",
   "version": "3.7.9"
  }
 },
 "nbformat": 4,
 "nbformat_minor": 4
}
