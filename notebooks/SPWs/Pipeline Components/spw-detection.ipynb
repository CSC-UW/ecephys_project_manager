{
 "cells": [
  {
   "cell_type": "markdown",
   "metadata": {},
   "source": [
    "- TODO: Parallelize sharp wave property computation"
   ]
  },
  {
   "cell_type": "markdown",
   "metadata": {
    "execution": {
     "iopub.execute_input": "2020-11-30T16:00:22.289233Z",
     "iopub.status.busy": "2020-11-30T16:00:22.288802Z",
     "iopub.status.idle": "2020-11-30T16:00:22.305803Z",
     "shell.execute_reply": "2020-11-30T16:00:22.305354Z",
     "shell.execute_reply.started": "2020-11-30T16:00:22.289179Z"
    }
   },
   "source": [
    "# Imports and definitions"
   ]
  },
  {
   "cell_type": "code",
   "execution_count": 1,
   "metadata": {
    "execution": {
     "iopub.execute_input": "2021-05-12T21:49:09.725675Z",
     "iopub.status.busy": "2021-05-12T21:49:09.725263Z",
     "iopub.status.idle": "2021-05-12T21:49:09.743094Z",
     "shell.execute_reply": "2021-05-12T21:49:09.742433Z",
     "shell.execute_reply.started": "2021-05-12T21:49:09.725625Z"
    }
   },
   "outputs": [],
   "source": [
    "%load_ext autoreload\n",
    "%autoreload 2\n",
    "from IPython.core.debugger import set_trace"
   ]
  },
  {
   "cell_type": "code",
   "execution_count": 2,
   "metadata": {
    "execution": {
     "iopub.execute_input": "2021-05-12T21:49:09.930820Z",
     "iopub.status.busy": "2021-05-12T21:49:09.930409Z",
     "iopub.status.idle": "2021-05-12T21:49:10.118098Z",
     "shell.execute_reply": "2021-05-12T21:49:10.117337Z",
     "shell.execute_reply.started": "2021-05-12T21:49:09.930769Z"
    }
   },
   "outputs": [],
   "source": [
    "%matplotlib widget\n",
    "import matplotlib.pyplot as plt"
   ]
  },
  {
   "cell_type": "code",
   "execution_count": 3,
   "metadata": {
    "execution": {
     "iopub.execute_input": "2021-05-12T21:49:10.138761Z",
     "iopub.status.busy": "2021-05-12T21:49:10.138610Z",
     "iopub.status.idle": "2021-05-12T21:49:10.471650Z",
     "shell.execute_reply": "2021-05-12T21:49:10.470904Z",
     "shell.execute_reply.started": "2021-05-12T21:49:10.138740Z"
    }
   },
   "outputs": [],
   "source": [
    "import numpy as np\n",
    "import pandas as pd\n",
    "import xarray as xr\n",
    "import json\n",
    "from datetime import datetime\n",
    "from ast import literal_eval"
   ]
  },
  {
   "cell_type": "code",
   "execution_count": 4,
   "metadata": {
    "execution": {
     "iopub.execute_input": "2021-05-12T21:49:10.487211Z",
     "iopub.status.busy": "2021-05-12T21:49:10.487056Z",
     "iopub.status.idle": "2021-05-12T21:49:10.766822Z",
     "shell.execute_reply": "2021-05-12T21:49:10.766039Z",
     "shell.execute_reply.started": "2021-05-12T21:49:10.487191Z"
    }
   },
   "outputs": [],
   "source": [
    "import ecephys_analyses as ea\n",
    "from ecephys.sglx_utils import load_timeseries, load_multifile_timeseries\n",
    "from ecephys.signal.csd import get_kcsd\n",
    "from ecephys.signal.sharp_wave_ripples import detect_sharp_waves_by_value, detect_sharp_waves_by_zscore, get_durations, get_midpoints, get_sink_amplitudes, get_sink_integrals\n",
    "from ecephys.utils import load_df_h5, store_df_h5, zscore_to_value\n",
    "import ecephys.plot as eplt"
   ]
  },
  {
   "cell_type": "markdown",
   "metadata": {},
   "source": [
    "## Get SPW detection parameters from early recovery sleep"
   ]
  },
  {
   "cell_type": "code",
   "execution_count": 5,
   "metadata": {
    "execution": {
     "iopub.execute_input": "2021-05-12T21:49:11.227187Z",
     "iopub.status.busy": "2021-05-12T21:49:11.226765Z",
     "iopub.status.idle": "2021-05-12T21:49:11.268251Z",
     "shell.execute_reply": "2021-05-12T21:49:11.267408Z",
     "shell.execute_reply.started": "2021-05-12T21:49:11.227140Z"
    }
   },
   "outputs": [],
   "source": [
    "def get_spw_detection_parameters(subject, nfiles, detection_threshold_zscore=2.5, boundary_threshold_zscore=1):\n",
    "    sr_chans = channel_groups.stratum_radiatum_140um_to_200um[subject]\n",
    "    hpc_chans = channel_groups.hippocampus[subject]\n",
    "    \n",
    "    bin_paths = paths.get_sglx_style_datapaths(subject=subject, experiment=\"sleep-homeostasis\", condition=\"recovery-sleep\", ext=\"lf.bin\")[:nfiles]\n",
    "    params_path = paths.get_datapath(subject=subject, experiment=\"sleep-homeostasis\", file=\"sharp_wave_detection_params.json\")\n",
    "    \n",
    "    if nfiles > 1:\n",
    "        da = load_multifile_timeseries(bin_paths, hpc_chans, contiguous=True)\n",
    "    else:\n",
    "        da = load_timeseries(bin_paths[0], hpc_chans)\n",
    "    (time, hpc_lfps, fs) = (da.time.values, da.values, da.fs)\n",
    "    \n",
    "    gdx = intersite_distance = 0.020\n",
    "    k = get_kcsd(\n",
    "        hpc_lfps, intersite_distance=intersite_distance, gdx=gdx, do_lcurve=True\n",
    "    )\n",
    "    \n",
    "    hpc_csd = k.values(\"CSD\")\n",
    "    sr_csd = hpc_csd[np.isin(hpc_chans, sr_chans)]\n",
    "    combined_csd = np.sum(-sr_csd.T, axis=1)\n",
    "\n",
    "    detection_threshold = zscore_to_value(combined_csd, detection_threshold_zscore)\n",
    "    boundary_threshold = zscore_to_value(combined_csd, boundary_threshold_zscore)\n",
    "    \n",
    "    metadata = dict(\n",
    "        csd_chans=hpc_chans.tolist(),\n",
    "        detection_chans=sr_chans,\n",
    "        electrode_positions=k.ele_pos.tolist(),\n",
    "        intersite_distance=intersite_distance,\n",
    "        gdx=k.gdx,\n",
    "        lambd=k.lambd,\n",
    "        R=k.R,\n",
    "        detect_states=[\"all\"],\n",
    "        detection_threshold_zscore=detection_threshold_zscore,\n",
    "        boundary_threshold_zscore=boundary_threshold_zscore,\n",
    "        detection_threshold=detection_threshold,\n",
    "        boundary_threshold=boundary_threshold,\n",
    "        minimum_duration=0.005,\n",
    "        params_source_files=[str(path) for path in bin_paths] \n",
    "    )\n",
    "    \n",
    "    params_path.parent.mkdir(parents=True, exist_ok=True)\n",
    "    with open(params_path, \"x\") as params_file:\n",
    "        json.dump(metadata, params_file, indent=4)"
   ]
  },
  {
   "cell_type": "markdown",
   "metadata": {},
   "source": [
    "## Detect SPWS, accounting for drift"
   ]
  },
  {
   "cell_type": "code",
   "execution_count": 6,
   "metadata": {
    "execution": {
     "iopub.execute_input": "2021-05-12T21:49:12.491285Z",
     "iopub.status.busy": "2021-05-12T21:49:12.490808Z",
     "iopub.status.idle": "2021-05-12T21:49:12.520094Z",
     "shell.execute_reply": "2021-05-12T21:49:12.519274Z",
     "shell.execute_reply.started": "2021-05-12T21:49:12.491233Z"
    }
   },
   "outputs": [],
   "source": [
    "def get_epoch_spws(hpc_csd, params, epoch_start, epoch_end, sr_chans):\n",
    "    if not sr_chans:\n",
    "        return pd.DataFrame()\n",
    "    \n",
    "    sr_csd = hpc_csd.sel(time=slice(epoch_start, epoch_end), channel=sr_chans)\n",
    "    \n",
    "    spws = detect_sharp_waves_by_value(\n",
    "        sr_csd.time.values,\n",
    "        sr_csd.values,\n",
    "        params[\"detection_threshold\"],\n",
    "        params[\"boundary_threshold\"],\n",
    "        params[\"minimum_duration\"],\n",
    "    )\n",
    "\n",
    "    if not spws.empty:\n",
    "        spws[\"duration\"] = get_durations(spws)\n",
    "        spws[\"midpoint\"] = get_midpoints(spws)\n",
    "        spws[\"sink_amplitude\"] = get_sink_amplitudes(spws, sr_csd.time.values, sr_csd.values) * (\n",
    "            1e-6\n",
    "        )  # Scale to mA/mm\n",
    "        spws[\"sink_integral\"] = (\n",
    "            get_sink_integrals(spws, sr_csd.time.values, sr_csd.fs, sr_csd.values) * (1e-6) * (1e3)\n",
    "        )  # Scale to mA * ms\n",
    "\n",
    "        spws[\"sr_chans\"] = [sr_chans] * len(spws)\n",
    "    \n",
    "    return spws"
   ]
  },
  {
   "cell_type": "code",
   "execution_count": 7,
   "metadata": {
    "execution": {
     "iopub.execute_input": "2021-05-12T21:49:12.954615Z",
     "iopub.status.busy": "2021-05-12T21:49:12.954405Z",
     "iopub.status.idle": "2021-05-12T21:49:12.985958Z",
     "shell.execute_reply": "2021-05-12T21:49:12.985155Z",
     "shell.execute_reply.started": "2021-05-12T21:49:12.954592Z"
    }
   },
   "outputs": [],
   "source": [
    "def get_file_spws(bin_path, sr_chans_path, spw_path, params_path, hpc_chans):\n",
    "    hpc_lfps = load_timeseries(bin_path, hpc_chans)\n",
    "\n",
    "    with open(params_path) as params_file:\n",
    "        params = json.load(params_file)\n",
    "\n",
    "    intersite_distance = params[\"intersite_distance\"]\n",
    "    k = get_kcsd(\n",
    "        hpc_lfps.values,\n",
    "        intersite_distance=params[\"intersite_distance\"],\n",
    "        gdx=params[\"gdx\"],\n",
    "        lambd=params[\"lambd\"],\n",
    "        R_init=params[\"R\"],\n",
    "        do_lcurve=False,\n",
    "    )\n",
    "    \n",
    "    hpc_csd = xr.DataArray(\n",
    "        k.values(\"CSD\"),\n",
    "        dims=(\"channel\", \"time\"),\n",
    "        coords={\"channel\": hpc_lfps.channel.values, \"time\": hpc_lfps.time.values},\n",
    "        attrs={'units': \"nA/mm\", 'fs': hpc_lfps.fs}\n",
    "    ) \n",
    "\n",
    "    spws_by_epoch = list()\n",
    "    sr_chans_df = pd.read_csv(sr_chans_path)\n",
    "    sr_chans_df.sr_chans = sr_chans_df.sr_chans.apply(lambda x: [] if pd.isnull(x) else list(literal_eval(x)))\n",
    "    for epoch in sr_chans_df.itertuples():\n",
    "        spws_by_epoch.append(get_epoch_spws(hpc_csd, params, epoch.start_time, epoch.end_time, epoch.sr_chans))\n",
    "    \n",
    "    spws = pd.concat(spws_by_epoch)\n",
    "    metadata = dict(\n",
    "        csd_chans=hpc_chans,\n",
    "        electrode_positions=k.ele_pos,\n",
    "        intersite_distance=intersite_distance,\n",
    "        gdx=k.gdx,\n",
    "        lambd=k.lambd,\n",
    "        R=k.R,\n",
    "        detect_states=[\"all\"],\n",
    "        file_start=hpc_lfps.fileCreateTime,\n",
    "    )\n",
    "    metadata.update(spws.attrs)\n",
    "\n",
    "    store_df_h5(spw_path, spws, **metadata)"
   ]
  },
  {
   "cell_type": "code",
   "execution_count": 8,
   "metadata": {
    "execution": {
     "iopub.execute_input": "2021-05-12T21:49:13.491396Z",
     "iopub.status.busy": "2021-05-12T21:49:13.491058Z",
     "iopub.status.idle": "2021-05-12T21:49:13.517891Z",
     "shell.execute_reply": "2021-05-12T21:49:13.516920Z",
     "shell.execute_reply.started": "2021-05-12T21:49:13.491355Z"
    }
   },
   "outputs": [],
   "source": [
    "def get_experiment_spws(subject, experiment, probe):\n",
    "    hpc_chans = ea.get_channels(subject, experiment, probe, \"hippocampus\")\n",
    "    \n",
    "    bin_paths = ea.get_sglx_style_datapaths(subject=subject, experiment=experiment, condition=\"all\", ext=\"lf.bin\")\n",
    "    sr_chans_paths = ea.get_sglx_style_datapaths(subject=subject, experiment=experiment, condition=\"all\", ext=\"sr_chans.csv\")\n",
    "    spw_paths = ea.get_sglx_style_datapaths(subject=subject, experiment=experiment, condition=\"all\", ext=\"spws.h5\")\n",
    "    params_path = ea.get_datapath(file=\"sharp_wave_detection_params.json\", subject=subject, experiment=experiment)\n",
    "\n",
    "    for bin_path, sr_chans_path, spw_path in zip(bin_paths, sr_chans_paths, spw_paths):\n",
    "        get_file_spws(bin_path, sr_chans_path, spw_path, params_path, hpc_chans)\n",
    "        current_time = datetime.now().strftime(\"%H:%M:%S\")\n",
    "        print(f\"{current_time}: Finished {str(bin_path)}\")"
   ]
  },
  {
   "cell_type": "markdown",
   "metadata": {},
   "source": [
    "# Run automated pipeline"
   ]
  },
  {
   "cell_type": "code",
   "execution_count": 14,
   "metadata": {
    "execution": {
     "iopub.execute_input": "2021-05-14T19:56:18.668472Z",
     "iopub.status.busy": "2021-05-14T19:56:18.667970Z",
     "iopub.status.idle": "2021-05-14T20:18:44.751680Z",
     "shell.execute_reply": "2021-05-14T20:18:44.749995Z",
     "shell.execute_reply.started": "2021-05-14T19:56:18.668411Z"
    }
   },
   "outputs": [
    {
     "name": "stdout",
     "output_type": "stream",
     "text": [
      "nChan: 385, nFileSamp: 17610153\n"
     ]
    },
    {
     "name": "stderr",
     "output_type": "stream",
     "text": [
      "/home/gfindlay/miniconda3/envs/ecephys/lib/python3.7/site-packages/ipykernel_launcher.py:10: PerformanceWarning: \n",
      "your performance may suffer as PyTables will pickle object types that it cannot\n",
      "map directly to c-types [inferred_type->mixed,key->block1_values] [items->Index(['sr_chans'], dtype='object')]\n",
      "\n",
      "  # Remove the CWD from sys.path while we load stuff.\n"
     ]
    },
    {
     "name": "stdout",
     "output_type": "stream",
     "text": [
      "15:02:56: Finished /Volumes/neuropixel_archive/Data/chronic/CNPIX8-Allan/4-20-2021/4.20.2021_g0/4.20.2021_g0_imec0/4.20.2021_g0_t0.imec0.lf.bin\n",
      "nChan: 385, nFileSamp: 17999996\n",
      "15:10:52: Finished /Volumes/neuropixel_archive/Data/chronic/CNPIX8-Allan/4-20-2021/4.20.2021_g1/4.20.2021_g1_imec0/4.20.2021_g1_t0.imec0.lf.bin\n",
      "nChan: 385, nFileSamp: 17999996\n",
      "15:16:38: Finished /Volumes/neuropixel_archive/Data/chronic/CNPIX8-Allan/4-20-2021/4.20.2021_g1/4.20.2021_g1_imec0/4.20.2021_g1_t1.imec0.lf.bin\n",
      "nChan: 385, nFileSamp: 8530138\n",
      "15:18:44: Finished /Volumes/neuropixel_archive/Data/chronic/CNPIX8-Allan/4-20-2021/4.20.2021_g1/4.20.2021_g1_imec0/4.20.2021_g1_t2.imec0.lf.bin\n"
     ]
    }
   ],
   "source": [
    "get_experiment_spws(\"Allan\", \"ketamine\", \"imec0\")"
   ]
  },
  {
   "cell_type": "code",
   "execution_count": null,
   "metadata": {},
   "outputs": [],
   "source": []
  }
 ],
 "metadata": {
  "kernelspec": {
   "display_name": "Python 3",
   "language": "python",
   "name": "python3"
  },
  "language_info": {
   "codemirror_mode": {
    "name": "ipython",
    "version": 3
   },
   "file_extension": ".py",
   "mimetype": "text/x-python",
   "name": "python",
   "nbconvert_exporter": "python",
   "pygments_lexer": "ipython3",
   "version": "3.7.9"
  }
 },
 "nbformat": 4,
 "nbformat_minor": 4
}
