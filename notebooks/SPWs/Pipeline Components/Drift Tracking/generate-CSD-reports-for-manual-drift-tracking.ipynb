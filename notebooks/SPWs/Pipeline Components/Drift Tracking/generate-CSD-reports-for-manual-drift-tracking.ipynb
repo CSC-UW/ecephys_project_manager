{
 "cells": [
  {
   "cell_type": "code",
   "execution_count": 1,
   "metadata": {
    "execution": {
     "iopub.execute_input": "2021-05-12T20:59:16.472552Z",
     "iopub.status.busy": "2021-05-12T20:59:16.472219Z",
     "iopub.status.idle": "2021-05-12T20:59:16.489623Z",
     "shell.execute_reply": "2021-05-12T20:59:16.489016Z",
     "shell.execute_reply.started": "2021-05-12T20:59:16.472512Z"
    }
   },
   "outputs": [],
   "source": [
    "%load_ext autoreload\n",
    "%autoreload 2"
   ]
  },
  {
   "cell_type": "code",
   "execution_count": 2,
   "metadata": {
    "execution": {
     "iopub.execute_input": "2021-05-12T20:59:16.844657Z",
     "iopub.status.busy": "2021-05-12T20:59:16.844363Z",
     "iopub.status.idle": "2021-05-12T20:59:17.555931Z",
     "shell.execute_reply": "2021-05-12T20:59:17.555137Z",
     "shell.execute_reply.started": "2021-05-12T20:59:16.844623Z"
    }
   },
   "outputs": [],
   "source": [
    "from ecephys.sglx_utils import load_timeseries\n",
    "from ecephys.signal.csd import get_kcsd\n",
    "from ecephys.utils import find_nearest\n",
    "import ecephys_analyses as ea"
   ]
  },
  {
   "cell_type": "code",
   "execution_count": 3,
   "metadata": {
    "execution": {
     "iopub.execute_input": "2021-05-12T20:59:17.580780Z",
     "iopub.status.busy": "2021-05-12T20:59:17.580625Z",
     "iopub.status.idle": "2021-05-12T20:59:17.681235Z",
     "shell.execute_reply": "2021-05-12T20:59:17.680483Z",
     "shell.execute_reply.started": "2021-05-12T20:59:17.580761Z"
    }
   },
   "outputs": [],
   "source": [
    "import numpy as np\n",
    "import pandas as pd\n",
    "import seaborn as sns\n",
    "from kcsd import KCSD1D\n",
    "from scipy.signal import find_peaks\n",
    "import xarray as xr\n",
    "import matplotlib.pyplot as plt\n",
    "from matplotlib.backends.backend_pdf import PdfPages\n",
    "from datetime import datetime"
   ]
  },
  {
   "cell_type": "code",
   "execution_count": 4,
   "metadata": {
    "execution": {
     "iopub.execute_input": "2021-05-12T20:59:17.707904Z",
     "iopub.status.busy": "2021-05-12T20:59:17.707751Z",
     "iopub.status.idle": "2021-05-12T20:59:17.724649Z",
     "shell.execute_reply": "2021-05-12T20:59:17.723852Z",
     "shell.execute_reply.started": "2021-05-12T20:59:17.707885Z"
    }
   },
   "outputs": [],
   "source": [
    "def get_csd(sig, params):\n",
    "    k = get_kcsd(\n",
    "        sig.values,\n",
    "        intersite_distance=params[\"intersite_distance\"],\n",
    "        gdx=params[\"gdx\"],\n",
    "        lambd=params[\"lambd\"],\n",
    "        R_init=params[\"R\"],\n",
    "        do_lcurve=False,\n",
    "    )\n",
    "    est_csd = k.values('CSD')\n",
    "    \n",
    "    return xr.DataArray(\n",
    "        est_csd,\n",
    "        dims=(\"channel\", \"time\"),\n",
    "        coords={\"channel\": sig.channel.values, \"time\": sig.time.values},\n",
    "        attrs={'units': \"nA/mm\", 'fs': sig.fs}\n",
    "    )"
   ]
  },
  {
   "cell_type": "code",
   "execution_count": 5,
   "metadata": {
    "execution": {
     "iopub.execute_input": "2021-05-12T20:59:18.060295Z",
     "iopub.status.busy": "2021-05-12T20:59:18.059841Z",
     "iopub.status.idle": "2021-05-12T20:59:18.084068Z",
     "shell.execute_reply": "2021-05-12T20:59:18.083271Z",
     "shell.execute_reply.started": "2021-05-12T20:59:18.060238Z"
    }
   },
   "outputs": [],
   "source": [
    "def plot_epoched_profile(da, figsize=(36, 8)):\n",
    "    fig, ax = plt.subplots(figsize=figsize)\n",
    "    sns.heatmap(da, xticklabels=da.time.values.round(), yticklabels=da.channel.values, cbar=False)\n",
    "    ax.set(xticks=ax.get_xticks()[::2], yticks=ax.get_yticks()[::4], xlabel='Epoch center time (s)', ylabel='Channel')"
   ]
  },
  {
   "cell_type": "code",
   "execution_count": 6,
   "metadata": {
    "execution": {
     "iopub.execute_input": "2021-05-12T20:59:18.580588Z",
     "iopub.status.busy": "2021-05-12T20:59:18.580234Z",
     "iopub.status.idle": "2021-05-12T20:59:18.606485Z",
     "shell.execute_reply": "2021-05-12T20:59:18.605640Z",
     "shell.execute_reply.started": "2021-05-12T20:59:18.580546Z"
    }
   },
   "outputs": [],
   "source": [
    "def plot_profile(da, figsize=(36, 5), ylabel=None, negative_peaks=False):\n",
    "    fig, ax = plt.subplots(figsize=figsize)\n",
    "    channel_indices = np.arange(len(da.channel))\n",
    "    sns.barplot(x=channel_indices, y=da, color='steelblue', ax=ax)\n",
    "    ax.set(xlabel=\"Channel\", ylabel=ylabel)\n",
    "    ax.set_xticks(channel_indices);\n",
    "    ax.set_xticklabels(da.channel.values, rotation=90);\n",
    "    \n",
    "    if negative_peaks:\n",
    "        peaks, _ = find_peaks(-da.values, prominence=1000, distance=10)\n",
    "    else:\n",
    "        peaks, _ = find_peaks(da.values, prominence=1000, distance=10)\n",
    "    sns.scatterplot(x=peaks, y=da.values[peaks], marker='x', color='red', ax=ax)"
   ]
  },
  {
   "cell_type": "code",
   "execution_count": 7,
   "metadata": {
    "execution": {
     "iopub.execute_input": "2021-05-12T20:59:18.964612Z",
     "iopub.status.busy": "2021-05-12T20:59:18.964110Z",
     "iopub.status.idle": "2021-05-12T20:59:19.003251Z",
     "shell.execute_reply": "2021-05-12T20:59:19.002351Z",
     "shell.execute_reply.started": "2021-05-12T20:59:18.964552Z"
    }
   },
   "outputs": [],
   "source": [
    "def write_file_report(csd, epoch_length, pdf_path):\n",
    "    \n",
    "    if csd.time.values.max() < epoch_length:\n",
    "        return\n",
    "    \n",
    "    epoched_csd_nadirs = csd.coarsen(time=int(csd.fs *epoch_length), boundary='trim', coord_func={\"time\": \"min\"}).min()\n",
    "    epoched_csd_variance = csd.coarsen(time=int(csd.fs *epoch_length), boundary='trim', coord_func={\"time\": \"min\"}).var()\n",
    "    \n",
    "    pdf_path = pdf_path.parent / (pdf_path.stem + f'-{epoch_length}s' + pdf_path.suffix)\n",
    "    with PdfPages(pdf_path) as pdf:\n",
    "        plot_epoched_profile(epoched_csd_variance)\n",
    "        plt.title(f'CSD variance, {epoch_length}s epochs')\n",
    "        pdf.savefig()\n",
    "        plt.close()\n",
    "        \n",
    "        plot_epoched_profile(-epoched_csd_nadirs)\n",
    "        plt.title(f'CSD nadirs, {epoch_length}s epochs')\n",
    "        pdf.savefig()\n",
    "        plt.close()\n",
    "\n",
    "        for epoch in range(epoched_csd_nadirs.shape[1]):\n",
    "            plot_profile(epoched_csd_variance[:, epoch], ylabel=\"CSD variance\")\n",
    "            plt.title(f'CSD variance, epoch: {epoch}, time: {epoched_csd_nadirs.time.values[epoch]}s')\n",
    "            pdf.savefig()\n",
    "            plt.close()\n",
    "            \n",
    "            plot_profile(epoched_csd_nadirs[:, epoch], ylabel=\"Deepest CSD sink (mA/mm)\", negative_peaks=True)\n",
    "            plt.title(f'CSD nadirs, epoch: {epoch}, time: {epoched_csd_nadirs.time.values[epoch]}s')\n",
    "            pdf.savefig()\n",
    "            plt.close()\n",
    "\n",
    "        d = pdf.infodict()\n",
    "        d['Title'] = f'{pdf_path.stem}'\n",
    "        d['Author'] = 'Graham Findlay'\n",
    "        d['Subject'] = 'CSD nadir profiles for tracking CA1 drift'\n",
    "        d['CreationDate'] = datetime.now()"
   ]
  },
  {
   "cell_type": "code",
   "execution_count": 8,
   "metadata": {
    "execution": {
     "iopub.execute_input": "2021-05-12T20:59:19.571982Z",
     "iopub.status.busy": "2021-05-12T20:59:19.571630Z",
     "iopub.status.idle": "2021-05-12T20:59:19.594924Z",
     "shell.execute_reply": "2021-05-12T20:59:19.594122Z",
     "shell.execute_reply.started": "2021-05-12T20:59:19.571940Z"
    }
   },
   "outputs": [],
   "source": [
    "def write_file_reports(bin_path, pdf_path, chans, csd_params):\n",
    "    sig = load_timeseries(bin_path, chans)\n",
    "    csd = get_csd(sig, csd_params)\n",
    "    \n",
    "    write_file_report(csd, 600, pdf_path)\n",
    "    write_file_report(csd, 300, pdf_path)\n",
    "    write_file_report(csd, 60, pdf_path)"
   ]
  },
  {
   "cell_type": "code",
   "execution_count": 9,
   "metadata": {
    "execution": {
     "iopub.execute_input": "2021-05-12T20:59:19.779663Z",
     "iopub.status.busy": "2021-05-12T20:59:19.779297Z",
     "iopub.status.idle": "2021-05-12T20:59:19.805966Z",
     "shell.execute_reply": "2021-05-12T20:59:19.805137Z",
     "shell.execute_reply.started": "2021-05-12T20:59:19.779620Z"
    }
   },
   "outputs": [],
   "source": [
    "def write_condition_reports(subject, experiment, condition, probe):\n",
    "    drift_tracking_chans = ea.get_channels(subject, experiment, probe, \"drift_tracking\")\n",
    "    csd_params_path = ea.get_datapath(\"sharp_wave_detection_params.json\", subject, experiment)\n",
    "    with open(csd_params_path) as csd_params_file:\n",
    "        csd_params = json.load(csd_params_file)\n",
    "\n",
    "    bin_paths = ea.get_sglx_style_datapaths(subject, experiment, condition, ext=\"lf.bin\")\n",
    "    pdf_paths = ea.get_sglx_style_datapaths(subject, experiment, condition, ext=\"CSD_SR_markers.pdf\")\n",
    "\n",
    "    for bin_path, pdf_path in zip(bin_paths, pdf_paths):\n",
    "        write_file_reports(bin_path, pdf_path, drift_tracking_chans, csd_params)\n",
    "        current_time = datetime.now().strftime(\"%H:%M:%S\")\n",
    "        print(f\"{current_time}: Finished {str(bin_path)}\")"
   ]
  },
  {
   "cell_type": "code",
   "execution_count": 20,
   "metadata": {
    "execution": {
     "iopub.execute_input": "2021-05-14T19:38:59.432963Z",
     "iopub.status.busy": "2021-05-14T19:38:59.432633Z",
     "iopub.status.idle": "2021-05-14T20:18:15.706137Z",
     "shell.execute_reply": "2021-05-14T20:18:15.705330Z",
     "shell.execute_reply.started": "2021-05-14T19:38:59.432913Z"
    }
   },
   "outputs": [
    {
     "name": "stdout",
     "output_type": "stream",
     "text": [
      "nChan: 385, nFileSamp: 17610153\n",
      "14:50:32: Finished /Volumes/neuropixel_archive/Data/chronic/CNPIX8-Allan/4-20-2021/4.20.2021_g0/4.20.2021_g0_imec0/4.20.2021_g0_t0.imec0.lf.bin\n",
      "nChan: 385, nFileSamp: 17999996\n",
      "15:01:24: Finished /Volumes/neuropixel_archive/Data/chronic/CNPIX8-Allan/4-20-2021/4.20.2021_g1/4.20.2021_g1_imec0/4.20.2021_g1_t0.imec0.lf.bin\n",
      "nChan: 385, nFileSamp: 17999996\n",
      "15:13:26: Finished /Volumes/neuropixel_archive/Data/chronic/CNPIX8-Allan/4-20-2021/4.20.2021_g1/4.20.2021_g1_imec0/4.20.2021_g1_t1.imec0.lf.bin\n",
      "nChan: 385, nFileSamp: 8530138\n",
      "15:18:15: Finished /Volumes/neuropixel_archive/Data/chronic/CNPIX8-Allan/4-20-2021/4.20.2021_g1/4.20.2021_g1_imec0/4.20.2021_g1_t2.imec0.lf.bin\n"
     ]
    }
   ],
   "source": [
    "write_condition_reports(\"Allan\", \"ketamine\", \"all\", \"imec0\")"
   ]
  },
  {
   "cell_type": "code",
   "execution_count": null,
   "metadata": {},
   "outputs": [],
   "source": []
  }
 ],
 "metadata": {
  "kernelspec": {
   "display_name": "Python 3",
   "language": "python",
   "name": "python3"
  },
  "language_info": {
   "codemirror_mode": {
    "name": "ipython",
    "version": 3
   },
   "file_extension": ".py",
   "mimetype": "text/x-python",
   "name": "python",
   "nbconvert_exporter": "python",
   "pygments_lexer": "ipython3",
   "version": "3.7.9"
  }
 },
 "nbformat": 4,
 "nbformat_minor": 4
}
