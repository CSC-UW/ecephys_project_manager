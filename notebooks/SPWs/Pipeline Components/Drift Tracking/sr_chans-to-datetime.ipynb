{
 "cells": [
  {
   "cell_type": "code",
   "execution_count": 1,
   "metadata": {
    "execution": {
     "iopub.execute_input": "2021-07-23T20:48:19.703486Z",
     "iopub.status.busy": "2021-07-23T20:48:19.703107Z",
     "iopub.status.idle": "2021-07-23T20:48:19.721306Z",
     "shell.execute_reply": "2021-07-23T20:48:19.720668Z",
     "shell.execute_reply.started": "2021-07-23T20:48:19.703440Z"
    }
   },
   "outputs": [],
   "source": [
    "%load_ext autoreload\n",
    "%autoreload 2"
   ]
  },
  {
   "cell_type": "code",
   "execution_count": 2,
   "metadata": {
    "execution": {
     "iopub.execute_input": "2021-07-23T20:48:20.675580Z",
     "iopub.status.busy": "2021-07-23T20:48:20.675331Z",
     "iopub.status.idle": "2021-07-23T20:48:20.689342Z",
     "shell.execute_reply": "2021-07-23T20:48:20.688498Z",
     "shell.execute_reply.started": "2021-07-23T20:48:20.675552Z"
    }
   },
   "outputs": [],
   "source": [
    "import pandas as pd\n",
    "from ast import literal_eval\n",
    "from pathlib import Path"
   ]
  },
  {
   "cell_type": "code",
   "execution_count": 14,
   "metadata": {
    "execution": {
     "iopub.execute_input": "2021-07-23T21:26:54.330960Z",
     "iopub.status.busy": "2021-07-23T21:26:54.330458Z",
     "iopub.status.idle": "2021-07-23T21:26:54.353458Z",
     "shell.execute_reply": "2021-07-23T21:26:54.352654Z",
     "shell.execute_reply.started": "2021-07-23T21:26:54.330900Z"
    }
   },
   "outputs": [],
   "source": [
    "from sglxarray import load_trigger\n",
    "import ecephys_analyses as ea\n",
    "from ecephys_analyses.load import load_sr_chans\n",
    "import hypnogram as hg"
   ]
  },
  {
   "cell_type": "code",
   "execution_count": 21,
   "metadata": {
    "execution": {
     "iopub.execute_input": "2021-07-23T21:37:21.041700Z",
     "iopub.status.busy": "2021-07-23T21:37:21.041204Z",
     "iopub.status.idle": "2021-07-23T21:37:21.068110Z",
     "shell.execute_reply": "2021-07-23T21:37:21.067454Z",
     "shell.execute_reply.started": "2021-07-23T21:37:21.041635Z"
    }
   },
   "outputs": [],
   "source": [
    "def add_duration(df):\n",
    "    df = df.copy()\n",
    "    df[\"duration\"] = df.apply(lambda row: row.end_time - row.start_time, axis=1)\n",
    "    return df\n",
    "\n",
    "def write_experiment(subject, experiment):\n",
    "    bin_paths = ea.get_sglx_style_datapaths(subject, experiment, \"all\", ext=\"lf.bin\")\n",
    "    sr_chans_paths = ea.get_sglx_style_datapaths(subject, experiment, \"all\", ext=\"sr_chans.csv\")\n",
    "    sr_chans_dt_paths = ea.get_sglx_style_datapaths(subject, experiment, \"all\", ext=\"sr_chans.tsv\")\n",
    "    \n",
    "    all_sr_chans = [load_sr_chans(path) for path in sr_chans_paths]\n",
    "    sigs = [load_trigger(path, chans=[0], start_time=0, end_time=1) for path in bin_paths]\n",
    "        \n",
    "    for sig, sr_chans, sr_chans_dt_path in zip(sigs, all_sr_chans, sr_chans_dt_paths):\n",
    "        file_start_dt = pd.to_datetime(sig.datetime.values.min())\n",
    "        sr_chans_dt = hg.FloatHypnogram(sr_chans)\n",
    "        sr_chans_dt = add_duration(sr_chans_dt)\n",
    "        sr_chans_dt.as_datetime(file_start_dt).write(sr_chans_dt_path)"
   ]
  },
  {
   "cell_type": "code",
   "execution_count": 22,
   "metadata": {
    "execution": {
     "iopub.execute_input": "2021-07-23T21:37:21.279949Z",
     "iopub.status.busy": "2021-07-23T21:37:21.279765Z",
     "iopub.status.idle": "2021-07-23T21:37:22.927018Z",
     "shell.execute_reply": "2021-07-23T21:37:22.926146Z",
     "shell.execute_reply.started": "2021-07-23T21:37:21.279929Z"
    }
   },
   "outputs": [
    {
     "name": "stdout",
     "output_type": "stream",
     "text": [
      "nChan: 385, nFileSamp: 18000070\n",
      "nChan: 385, nFileSamp: 18000070\n",
      "nChan: 385, nFileSamp: 18000070\n",
      "nChan: 385, nFileSamp: 18000070\n",
      "nChan: 385, nFileSamp: 18000070\n",
      "nChan: 385, nFileSamp: 18000070\n",
      "nChan: 385, nFileSamp: 18000071\n",
      "nChan: 385, nFileSamp: 18000070\n",
      "nChan: 385, nFileSamp: 18000070\n",
      "nChan: 385, nFileSamp: 18000071\n",
      "nChan: 385, nFileSamp: 18000070\n",
      "nChan: 385, nFileSamp: 17203190\n",
      "nChan: 385, nFileSamp: 18000071\n",
      "nChan: 385, nFileSamp: 18000070\n",
      "nChan: 385, nFileSamp: 17719059\n",
      "nChan: 385, nFileSamp: 18000070\n",
      "nChan: 385, nFileSamp: 18000070\n",
      "nChan: 385, nFileSamp: 18000070\n",
      "nChan: 385, nFileSamp: 18000070\n",
      "nChan: 385, nFileSamp: 18000070\n",
      "nChan: 385, nFileSamp: 18000070\n",
      "nChan: 385, nFileSamp: 18000070\n",
      "nChan: 385, nFileSamp: 18000070\n",
      "nChan: 385, nFileSamp: 18000070\n"
     ]
    }
   ],
   "source": [
    "write_experiment(\"Luigi\", \"sleep-homeostasis\")"
   ]
  },
  {
   "cell_type": "code",
   "execution_count": null,
   "metadata": {},
   "outputs": [],
   "source": []
  }
 ],
 "metadata": {
  "kernelspec": {
   "display_name": "Python 3",
   "language": "python",
   "name": "python3"
  },
  "language_info": {
   "codemirror_mode": {
    "name": "ipython",
    "version": 3
   },
   "file_extension": ".py",
   "mimetype": "text/x-python",
   "name": "python",
   "nbconvert_exporter": "python",
   "pygments_lexer": "ipython3",
   "version": "3.7.9"
  }
 },
 "nbformat": 4,
 "nbformat_minor": 4
}
