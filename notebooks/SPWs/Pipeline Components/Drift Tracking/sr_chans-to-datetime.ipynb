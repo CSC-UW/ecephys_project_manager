{
 "cells": [
  {
   "cell_type": "code",
   "execution_count": 2,
   "metadata": {
    "execution": {
     "iopub.execute_input": "2021-08-13T17:36:03.312741Z",
     "iopub.status.busy": "2021-08-13T17:36:03.312344Z",
     "iopub.status.idle": "2021-08-13T17:36:03.326071Z",
     "shell.execute_reply": "2021-08-13T17:36:03.325447Z",
     "shell.execute_reply.started": "2021-08-13T17:36:03.312701Z"
    },
    "tags": []
   },
   "outputs": [],
   "source": [
    "%load_ext autoreload\n",
    "%autoreload 2"
   ]
  },
  {
   "cell_type": "code",
   "execution_count": 3,
   "metadata": {
    "execution": {
     "iopub.execute_input": "2021-08-13T17:36:03.494620Z",
     "iopub.status.busy": "2021-08-13T17:36:03.494245Z",
     "iopub.status.idle": "2021-08-13T17:36:03.748441Z",
     "shell.execute_reply": "2021-08-13T17:36:03.747672Z",
     "shell.execute_reply.started": "2021-08-13T17:36:03.494580Z"
    },
    "tags": []
   },
   "outputs": [],
   "source": [
    "import pandas as pd\n",
    "from ast import literal_eval\n",
    "from pathlib import Path"
   ]
  },
  {
   "cell_type": "code",
   "execution_count": 4,
   "metadata": {
    "execution": {
     "iopub.execute_input": "2021-08-13T17:36:03.749796Z",
     "iopub.status.busy": "2021-08-13T17:36:03.749499Z",
     "iopub.status.idle": "2021-08-13T17:36:04.632988Z",
     "shell.execute_reply": "2021-08-13T17:36:04.632241Z",
     "shell.execute_reply.started": "2021-08-13T17:36:03.749772Z"
    },
    "tags": []
   },
   "outputs": [],
   "source": [
    "from sglxarray import load_trigger\n",
    "import ecephys_analyses as ea\n",
    "from ecephys_analyses.load import load_sr_chans\n",
    "import hypnogram as hg"
   ]
  },
  {
   "cell_type": "code",
   "execution_count": 5,
   "metadata": {
    "execution": {
     "iopub.execute_input": "2021-08-13T17:36:04.634489Z",
     "iopub.status.busy": "2021-08-13T17:36:04.634200Z",
     "iopub.status.idle": "2021-08-13T17:36:04.651458Z",
     "shell.execute_reply": "2021-08-13T17:36:04.650834Z",
     "shell.execute_reply.started": "2021-08-13T17:36:04.634469Z"
    },
    "tags": []
   },
   "outputs": [],
   "source": [
    "def add_duration(df):\n",
    "    df = df.copy()\n",
    "    df[\"duration\"] = df.apply(lambda row: row.end_time - row.start_time, axis=1)\n",
    "    return df\n",
    "\n",
    "def write_experiment(subject, experiment):\n",
    "    bin_paths = ea.get_sglx_style_datapaths(subject, experiment, \"all\", ext=\"lf.bin\")\n",
    "    sr_chans_paths = ea.get_sglx_style_datapaths(subject, experiment, \"all\", ext=\"sr_chans.csv\")\n",
    "    sr_chans_dt_paths = ea.get_sglx_style_datapaths(subject, experiment, \"all\", ext=\"sr_chans.tsv\")\n",
    "    \n",
    "    all_sr_chans = [load_sr_chans(path) for path in sr_chans_paths]\n",
    "    sigs = [load_trigger(path, chans=[0], start_time=0, end_time=1) for path in bin_paths]\n",
    "        \n",
    "    for sig, sr_chans, sr_chans_dt_path in zip(sigs, all_sr_chans, sr_chans_dt_paths):\n",
    "        file_start_dt = pd.to_datetime(sig.datetime.values.min())\n",
    "        sr_chans_dt = hg.FloatHypnogram(sr_chans)\n",
    "        sr_chans_dt = add_duration(sr_chans_dt)\n",
    "        sr_chans_dt.as_datetime(file_start_dt).write(sr_chans_dt_path)"
   ]
  },
  {
   "cell_type": "code",
   "execution_count": 10,
   "metadata": {
    "execution": {
     "iopub.execute_input": "2021-08-13T17:36:35.524134Z",
     "iopub.status.busy": "2021-08-13T17:36:35.523565Z",
     "iopub.status.idle": "2021-08-13T17:36:36.429276Z",
     "shell.execute_reply": "2021-08-13T17:36:36.427625Z",
     "shell.execute_reply.started": "2021-08-13T17:36:35.524085Z"
    },
    "tags": []
   },
   "outputs": [
    {
     "name": "stdout",
     "output_type": "stream",
     "text": [
      "nChan: 385, nFileSamp: 7122380\n",
      "nChan: 385, nFileSamp: 3753750\n"
     ]
    }
   ],
   "source": [
    "write_experiment(\"Alessandro\", \"dexmedetomidine-eStim\")"
   ]
  },
  {
   "cell_type": "code",
   "execution_count": null,
   "metadata": {},
   "outputs": [],
   "source": []
  }
 ],
 "metadata": {
  "kernelspec": {
   "display_name": "Python 3 (ipykernel)",
   "language": "python",
   "name": "python3"
  },
  "language_info": {
   "codemirror_mode": {
    "name": "ipython",
    "version": 3
   },
   "file_extension": ".py",
   "mimetype": "text/x-python",
   "name": "python",
   "nbconvert_exporter": "python",
   "pygments_lexer": "ipython3",
   "version": "3.7.10"
  }
 },
 "nbformat": 4,
 "nbformat_minor": 4
}
