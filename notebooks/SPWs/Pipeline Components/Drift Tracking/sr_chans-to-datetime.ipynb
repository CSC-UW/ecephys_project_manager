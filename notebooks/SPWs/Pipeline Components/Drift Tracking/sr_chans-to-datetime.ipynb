{
 "cells": [
  {
   "cell_type": "code",
   "execution_count": 1,
   "metadata": {
    "execution": {
     "iopub.execute_input": "2021-10-08T23:17:58.242999Z",
     "iopub.status.busy": "2021-10-08T23:17:58.242720Z",
     "iopub.status.idle": "2021-10-08T23:17:58.263979Z",
     "shell.execute_reply": "2021-10-08T23:17:58.263427Z",
     "shell.execute_reply.started": "2021-10-08T23:17:58.242910Z"
    },
    "tags": []
   },
   "outputs": [],
   "source": [
    "%load_ext autoreload\n",
    "%autoreload 2"
   ]
  },
  {
   "cell_type": "code",
   "execution_count": 2,
   "metadata": {
    "execution": {
     "iopub.execute_input": "2021-10-08T23:17:58.264939Z",
     "iopub.status.busy": "2021-10-08T23:17:58.264731Z",
     "iopub.status.idle": "2021-10-08T23:17:58.486364Z",
     "shell.execute_reply": "2021-10-08T23:17:58.485699Z",
     "shell.execute_reply.started": "2021-10-08T23:17:58.264912Z"
    },
    "tags": []
   },
   "outputs": [],
   "source": [
    "import pandas as pd\n",
    "from ast import literal_eval\n",
    "from pathlib import Path"
   ]
  },
  {
   "cell_type": "code",
   "execution_count": 3,
   "metadata": {
    "execution": {
     "iopub.execute_input": "2021-10-08T23:17:58.487984Z",
     "iopub.status.busy": "2021-10-08T23:17:58.487659Z",
     "iopub.status.idle": "2021-10-08T23:17:59.282516Z",
     "shell.execute_reply": "2021-10-08T23:17:59.281848Z",
     "shell.execute_reply.started": "2021-10-08T23:17:58.487955Z"
    },
    "tags": []
   },
   "outputs": [],
   "source": [
    "from sglxarray import load_trigger\n",
    "import ecephys_analyses as ea\n",
    "from ecephys_analyses.load import load_sr_chans\n",
    "import hypnogram as hg"
   ]
  },
  {
   "cell_type": "code",
   "execution_count": 4,
   "metadata": {
    "execution": {
     "iopub.execute_input": "2021-10-08T23:17:59.283485Z",
     "iopub.status.busy": "2021-10-08T23:17:59.283288Z",
     "iopub.status.idle": "2021-10-08T23:17:59.302807Z",
     "shell.execute_reply": "2021-10-08T23:17:59.302341Z",
     "shell.execute_reply.started": "2021-10-08T23:17:59.283461Z"
    },
    "tags": []
   },
   "outputs": [],
   "source": [
    "def add_duration(df):\n",
    "    df = df.copy()\n",
    "    df[\"duration\"] = df.apply(lambda row: row.end_time - row.start_time, axis=1)\n",
    "    return df\n",
    "\n",
    "def write_experiment(subject, experiment, probe):\n",
    "    bin_paths = ea.get_lfp_bin_paths(subject, experiment, probe=probe)\n",
    "    #bin_paths = ea.get_sglx_style_datapaths(subject, experiment, \"all\", ext=\"lf.bin\")\n",
    "    sr_chans_paths = ea.get_analysis_counterparts(bin_paths, \"sr_chans.csv\", subject)\n",
    "    #sr_chans_paths = ea.get_sglx_style_datapaths(subject, experiment, \"all\", ext=\"sr_chans.csv\")\n",
    "    sr_chans_dt_paths = ea.get_analysis_counterparts(bin_paths, \"sr_chans.tsv\", subject)\n",
    "    #sr_chans_dt_paths = ea.get_sglx_style_datapaths(subject, experiment, \"all\", ext=\"sr_chans.tsv\")\n",
    "    \n",
    "    all_sr_chans = [load_sr_chans(path) for path in sr_chans_paths]\n",
    "    sigs = [load_trigger(path, chans=[0], start_time=0, end_time=1) for path in bin_paths]\n",
    "        \n",
    "    for sig, sr_chans, sr_chans_dt_path in zip(sigs, all_sr_chans, sr_chans_dt_paths):\n",
    "        file_start_dt = pd.to_datetime(sig.datetime.values.min())\n",
    "        sr_chans_dt = hg.FloatHypnogram(sr_chans)\n",
    "        sr_chans_dt = add_duration(sr_chans_dt)\n",
    "        sr_chans_dt.as_datetime(file_start_dt).write(sr_chans_dt_path)"
   ]
  },
  {
   "cell_type": "code",
   "execution_count": 5,
   "metadata": {
    "execution": {
     "iopub.execute_input": "2021-10-08T23:17:59.303857Z",
     "iopub.status.busy": "2021-10-08T23:17:59.303606Z",
     "iopub.status.idle": "2021-10-08T23:18:10.237613Z",
     "shell.execute_reply": "2021-10-08T23:18:10.236886Z",
     "shell.execute_reply.started": "2021-10-08T23:17:59.303831Z"
    },
    "tags": []
   },
   "outputs": [
    {
     "name": "stdout",
     "output_type": "stream",
     "text": [
      "nChan: 385, nFileSamp: 42859\n",
      "nChan: 385, nFileSamp: 175788\n",
      "nChan: 385, nFileSamp: 18000083\n",
      "nChan: 385, nFileSamp: 18000083\n",
      "nChan: 385, nFileSamp: 18000083\n",
      "nChan: 385, nFileSamp: 18000083\n",
      "nChan: 385, nFileSamp: 18000082\n",
      "nChan: 385, nFileSamp: 18000082\n",
      "nChan: 385, nFileSamp: 18000083\n",
      "nChan: 385, nFileSamp: 18000083\n",
      "nChan: 385, nFileSamp: 18000083\n",
      "nChan: 385, nFileSamp: 18000083\n",
      "nChan: 385, nFileSamp: 18000082\n",
      "nChan: 385, nFileSamp: 1585160\n",
      "nChan: 385, nFileSamp: 6564653\n",
      "nChan: 385, nFileSamp: 18000082\n",
      "nChan: 385, nFileSamp: 18000083\n",
      "nChan: 385, nFileSamp: 18000083\n",
      "nChan: 385, nFileSamp: 18000083\n",
      "nChan: 385, nFileSamp: 18000083\n",
      "nChan: 385, nFileSamp: 18000083\n",
      "nChan: 385, nFileSamp: 18000082\n",
      "nChan: 385, nFileSamp: 18000083\n",
      "nChan: 385, nFileSamp: 18000083\n",
      "nChan: 385, nFileSamp: 18000083\n",
      "nChan: 385, nFileSamp: 18000083\n",
      "nChan: 385, nFileSamp: 1824811\n",
      "nChan: 385, nFileSamp: 11257696\n"
     ]
    }
   ],
   "source": [
    "write_experiment(\"Adrian\", \"conveyor_over_water\", \"imec1\")"
   ]
  },
  {
   "cell_type": "code",
   "execution_count": null,
   "metadata": {},
   "outputs": [],
   "source": []
  }
 ],
 "metadata": {
  "kernelspec": {
   "display_name": "Python 3 (ipykernel)",
   "language": "python",
   "name": "python3"
  },
  "language_info": {
   "codemirror_mode": {
    "name": "ipython",
    "version": 3
   },
   "file_extension": ".py",
   "mimetype": "text/x-python",
   "name": "python",
   "nbconvert_exporter": "python",
   "pygments_lexer": "ipython3",
   "version": "3.7.10"
  }
 },
 "nbformat": 4,
 "nbformat_minor": 4
}
