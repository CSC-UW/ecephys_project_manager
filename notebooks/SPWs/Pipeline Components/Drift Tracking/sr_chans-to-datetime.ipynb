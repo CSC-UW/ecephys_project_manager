{
 "cells": [
  {
   "cell_type": "code",
   "execution_count": 4,
   "metadata": {
    "execution": {
     "iopub.execute_input": "2021-05-24T20:16:34.976343Z",
     "iopub.status.busy": "2021-05-24T20:16:34.975845Z",
     "iopub.status.idle": "2021-05-24T20:16:34.995714Z",
     "shell.execute_reply": "2021-05-24T20:16:34.995059Z",
     "shell.execute_reply.started": "2021-05-24T20:16:34.976283Z"
    }
   },
   "outputs": [
    {
     "name": "stdout",
     "output_type": "stream",
     "text": [
      "The autoreload extension is already loaded. To reload it, use:\n",
      "  %reload_ext autoreload\n"
     ]
    }
   ],
   "source": [
    "%load_ext autoreload\n",
    "%autoreload 2"
   ]
  },
  {
   "cell_type": "code",
   "execution_count": 5,
   "metadata": {
    "execution": {
     "iopub.execute_input": "2021-05-24T20:16:35.237661Z",
     "iopub.status.busy": "2021-05-24T20:16:35.237317Z",
     "iopub.status.idle": "2021-05-24T20:16:35.257249Z",
     "shell.execute_reply": "2021-05-24T20:16:35.256331Z",
     "shell.execute_reply.started": "2021-05-24T20:16:35.237614Z"
    }
   },
   "outputs": [],
   "source": [
    "import pandas as pd\n",
    "from ast import literal_eval\n",
    "from pathlib import Path"
   ]
  },
  {
   "cell_type": "code",
   "execution_count": 6,
   "metadata": {
    "execution": {
     "iopub.execute_input": "2021-05-24T20:16:35.640025Z",
     "iopub.status.busy": "2021-05-24T20:16:35.639779Z",
     "iopub.status.idle": "2021-05-24T20:16:35.660792Z",
     "shell.execute_reply": "2021-05-24T20:16:35.660138Z",
     "shell.execute_reply.started": "2021-05-24T20:16:35.639997Z"
    }
   },
   "outputs": [],
   "source": [
    "from ecephys.scoring import visbrain_hypnogram_to_datetime, write_datetime_hypnogram\n",
    "from ecephys.sglx_utils import load_trigger\n",
    "import ecephys_analyses as ea"
   ]
  },
  {
   "cell_type": "code",
   "execution_count": 7,
   "metadata": {
    "execution": {
     "iopub.execute_input": "2021-05-24T20:16:36.333812Z",
     "iopub.status.busy": "2021-05-24T20:16:36.333345Z",
     "iopub.status.idle": "2021-05-24T20:16:36.354904Z",
     "shell.execute_reply": "2021-05-24T20:16:36.354265Z",
     "shell.execute_reply.started": "2021-05-24T20:16:36.333757Z"
    }
   },
   "outputs": [],
   "source": [
    "def load_sr_chans(sr_chans_path):\n",
    "    df = pd.read_csv(sr_chans_path)\n",
    "    df.sr_chans = df.sr_chans.apply(lambda x: [] if pd.isnull(x) else list(literal_eval(x)))\n",
    "    df[\"duration\"] = df.apply(lambda row: row.end_time - row.start_time, axis=1)\n",
    "    \n",
    "    return df"
   ]
  },
  {
   "cell_type": "code",
   "execution_count": 8,
   "metadata": {
    "execution": {
     "iopub.execute_input": "2021-05-24T20:16:36.741783Z",
     "iopub.status.busy": "2021-05-24T20:16:36.741304Z",
     "iopub.status.idle": "2021-05-24T20:16:36.760698Z",
     "shell.execute_reply": "2021-05-24T20:16:36.759855Z",
     "shell.execute_reply.started": "2021-05-24T20:16:36.741725Z"
    }
   },
   "outputs": [],
   "source": [
    "def write_datetime_format(sr_chans_dt, path):\n",
    "    Path(path).parent.mkdir(parents=True, exist_ok=True)\n",
    "    sr_chans_dt.to_csv(\n",
    "        path,\n",
    "        columns=[\"sr_chans\", \"start_time\", \"end_time\", \"duration\"],\n",
    "        sep=\"\\t\",\n",
    "        index=False\n",
    "    )"
   ]
  },
  {
   "cell_type": "code",
   "execution_count": 15,
   "metadata": {
    "execution": {
     "iopub.execute_input": "2021-05-24T20:43:02.413568Z",
     "iopub.status.busy": "2021-05-24T20:43:02.413049Z",
     "iopub.status.idle": "2021-05-24T20:43:02.437272Z",
     "shell.execute_reply": "2021-05-24T20:43:02.436632Z",
     "shell.execute_reply.started": "2021-05-24T20:43:02.413505Z"
    }
   },
   "outputs": [],
   "source": [
    "def write_experiment(subject, experiment):\n",
    "    bin_paths = ea.get_sglx_style_datapaths(subject, experiment, \"all\", ext=\"lf.bin\")\n",
    "    sr_chans_paths = ea.get_sglx_style_datapaths(subject, experiment, \"all\", ext=\"sr_chans.csv\")\n",
    "    sr_chans_dt_paths = ea.get_sglx_style_datapaths(subject, experiment, \"all\", ext=\"sr_chans.tsv\")\n",
    "    \n",
    "    all_sr_chans = [load_sr_chans(path) for path in sr_chans_paths]\n",
    "    sigs = [load_trigger(path, chans=[0], start_time=0, end_time=1) for path in bin_paths]\n",
    "        \n",
    "    for sig, sr_chans, sr_chans_dt_path in zip(sigs, all_sr_chans, sr_chans_dt_paths):\n",
    "        file_start_dt = pd.to_datetime(sig.datetime.values.min())\n",
    "        sr_chans_dt = visbrain_hypnogram_to_datetime(sr_chans, file_start_dt)\n",
    "        write_datetime_format(sr_chans_dt, sr_chans_dt_path)"
   ]
  },
  {
   "cell_type": "code",
   "execution_count": 16,
   "metadata": {
    "execution": {
     "iopub.execute_input": "2021-05-24T20:43:03.491425Z",
     "iopub.status.busy": "2021-05-24T20:43:03.490956Z",
     "iopub.status.idle": "2021-05-24T20:44:49.941783Z",
     "shell.execute_reply": "2021-05-24T20:44:49.940796Z",
     "shell.execute_reply.started": "2021-05-24T20:43:03.491369Z"
    }
   },
   "outputs": [
    {
     "name": "stdout",
     "output_type": "stream",
     "text": [
      "nChan: 385, nFileSamp: 9000060\n",
      "nChan: 385, nFileSamp: 9000059\n",
      "nChan: 385, nFileSamp: 9000059\n",
      "nChan: 385, nFileSamp: 9000060\n"
     ]
    }
   ],
   "source": [
    "write_experiment(\"Doppio\", \"ketamine-120mg\")"
   ]
  },
  {
   "cell_type": "code",
   "execution_count": null,
   "metadata": {},
   "outputs": [],
   "source": []
  }
 ],
 "metadata": {
  "kernelspec": {
   "display_name": "Python 3",
   "language": "python",
   "name": "python3"
  },
  "language_info": {
   "codemirror_mode": {
    "name": "ipython",
    "version": 3
   },
   "file_extension": ".py",
   "mimetype": "text/x-python",
   "name": "python",
   "nbconvert_exporter": "python",
   "pygments_lexer": "ipython3",
   "version": "3.7.9"
  }
 },
 "nbformat": 4,
 "nbformat_minor": 4
}
