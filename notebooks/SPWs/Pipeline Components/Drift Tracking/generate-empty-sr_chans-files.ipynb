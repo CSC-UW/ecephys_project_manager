{
 "cells": [
  {
   "cell_type": "code",
   "execution_count": 1,
   "metadata": {
    "execution": {
     "iopub.execute_input": "2021-05-22T00:26:26.430777Z",
     "iopub.status.busy": "2021-05-22T00:26:26.430554Z",
     "iopub.status.idle": "2021-05-22T00:26:26.445207Z",
     "shell.execute_reply": "2021-05-22T00:26:26.444660Z",
     "shell.execute_reply.started": "2021-05-22T00:26:26.430754Z"
    }
   },
   "outputs": [],
   "source": [
    "%load_ext autoreload\n",
    "%autoreload 2"
   ]
  },
  {
   "cell_type": "code",
   "execution_count": 2,
   "metadata": {
    "execution": {
     "iopub.execute_input": "2021-05-22T00:26:27.003807Z",
     "iopub.status.busy": "2021-05-22T00:26:27.003529Z",
     "iopub.status.idle": "2021-05-22T00:26:27.596566Z",
     "shell.execute_reply": "2021-05-22T00:26:27.595838Z",
     "shell.execute_reply.started": "2021-05-22T00:26:27.003776Z"
    }
   },
   "outputs": [],
   "source": [
    "import pandas as pd\n",
    "import numpy as np\n",
    "from datetime import datetime\n",
    "\n",
    "from ecephys.sglx_utils import load_timestamps\n",
    "import ecephys_analyses as ea"
   ]
  },
  {
   "cell_type": "code",
   "execution_count": 3,
   "metadata": {
    "execution": {
     "iopub.execute_input": "2021-05-22T00:26:29.484124Z",
     "iopub.status.busy": "2021-05-22T00:26:29.483784Z",
     "iopub.status.idle": "2021-05-22T00:26:29.503200Z",
     "shell.execute_reply": "2021-05-22T00:26:29.502460Z",
     "shell.execute_reply.started": "2021-05-22T00:26:29.484084Z"
    }
   },
   "outputs": [],
   "source": [
    "def write_empty_sr_chans_file(bin_path, sr_chans_path):\n",
    "    time = load_timestamps(bin_path)\n",
    "    sr_chans = pd.DataFrame({'start_time': [time[0]], 'end_time': [time[-1]], 'sr_chans': [np.NaN]})\n",
    "    sr_chans.to_csv(sr_chans_path, index=False, mode='x')"
   ]
  },
  {
   "cell_type": "code",
   "execution_count": 4,
   "metadata": {
    "execution": {
     "iopub.execute_input": "2021-05-22T00:26:31.621002Z",
     "iopub.status.busy": "2021-05-22T00:26:31.620495Z",
     "iopub.status.idle": "2021-05-22T00:26:31.641231Z",
     "shell.execute_reply": "2021-05-22T00:26:31.640424Z",
     "shell.execute_reply.started": "2021-05-22T00:26:31.620922Z"
    }
   },
   "outputs": [],
   "source": [
    "def write_condition(subject, experiment, condition):\n",
    "    bin_paths = ea.get_sglx_style_datapaths(subject, experiment, condition, \"lf.bin\")\n",
    "    sr_chans_paths = ea.get_sglx_style_datapaths(subject, experiment, condition, \"sr_chans.csv\")\n",
    "    \n",
    "    for sr_chans_path in sr_chans_paths:\n",
    "        sr_chans_path.parent.mkdir(parents=True, exist_ok=True)\n",
    "        \n",
    "    for bin_path, sr_chans_path in zip(bin_paths, sr_chans_paths):\n",
    "        write_empty_sr_chans_file(bin_path, sr_chans_path)\n",
    "        current_time = datetime.now().strftime(\"%H:%M:%S\")\n",
    "        print(f\"{current_time}: Finished {str(bin_path)}\")"
   ]
  },
  {
   "cell_type": "code",
   "execution_count": 5,
   "metadata": {
    "execution": {
     "iopub.execute_input": "2021-05-22T00:26:39.561935Z",
     "iopub.status.busy": "2021-05-22T00:26:39.561696Z",
     "iopub.status.idle": "2021-05-22T00:26:41.375588Z",
     "shell.execute_reply": "2021-05-22T00:26:41.374887Z",
     "shell.execute_reply.started": "2021-05-22T00:26:39.561909Z"
    }
   },
   "outputs": [
    {
     "name": "stdout",
     "output_type": "stream",
     "text": [
      "19:26:40: Finished /Volumes/neuropixel_archive/Data/chronic/CNPIX4-Doppio/4-24-2020/4-24-2020_g0/4-24-2020_g0_imec1/4-24-2020_g0_t0.imec1.lf.bin\n",
      "19:26:40: Finished /Volumes/neuropixel_archive/Data/chronic/CNPIX4-Doppio/4-24-2020/4-24-2020_g0/4-24-2020_g0_imec1/4-24-2020_g0_t1.imec1.lf.bin\n",
      "19:26:40: Finished /Volumes/neuropixel_archive/Data/chronic/CNPIX4-Doppio/4-24-2020/4-24-2020_g0/4-24-2020_g0_imec1/4-24-2020_g0_t2.imec1.lf.bin\n",
      "19:26:41: Finished /Volumes/neuropixel_archive/Data/chronic/CNPIX4-Doppio/4-24-2020/4-24-2020_g0/4-24-2020_g0_imec1/4-24-2020_g0_t3.imec1.lf.bin\n"
     ]
    }
   ],
   "source": [
    "write_condition(\"Doppio\", \"ketamine-120mg\", \"all\")"
   ]
  },
  {
   "cell_type": "code",
   "execution_count": null,
   "metadata": {},
   "outputs": [],
   "source": []
  }
 ],
 "metadata": {
  "kernelspec": {
   "display_name": "Python 3",
   "language": "python",
   "name": "python3"
  },
  "language_info": {
   "codemirror_mode": {
    "name": "ipython",
    "version": 3
   },
   "file_extension": ".py",
   "mimetype": "text/x-python",
   "name": "python",
   "nbconvert_exporter": "python",
   "pygments_lexer": "ipython3",
   "version": "3.7.9"
  }
 },
 "nbformat": 4,
 "nbformat_minor": 4
}
