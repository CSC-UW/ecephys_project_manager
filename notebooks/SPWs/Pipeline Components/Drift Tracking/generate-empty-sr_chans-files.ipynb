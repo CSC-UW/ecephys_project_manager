{
 "cells": [
  {
   "cell_type": "code",
   "execution_count": 1,
   "metadata": {
    "execution": {
     "iopub.execute_input": "2021-07-22T23:58:40.313278Z",
     "iopub.status.busy": "2021-07-22T23:58:40.312716Z",
     "iopub.status.idle": "2021-07-22T23:58:40.332443Z",
     "shell.execute_reply": "2021-07-22T23:58:40.331284Z",
     "shell.execute_reply.started": "2021-07-22T23:58:40.313212Z"
    }
   },
   "outputs": [],
   "source": [
    "%load_ext autoreload\n",
    "%autoreload 2"
   ]
  },
  {
   "cell_type": "code",
   "execution_count": 2,
   "metadata": {
    "execution": {
     "iopub.execute_input": "2021-07-22T23:58:46.706237Z",
     "iopub.status.busy": "2021-07-22T23:58:46.705786Z",
     "iopub.status.idle": "2021-07-22T23:58:47.386745Z",
     "shell.execute_reply": "2021-07-22T23:58:47.385853Z",
     "shell.execute_reply.started": "2021-07-22T23:58:46.706185Z"
    }
   },
   "outputs": [],
   "source": [
    "import pandas as pd\n",
    "import numpy as np\n",
    "from datetime import datetime\n",
    "\n",
    "from sglxarray import load_timestamps\n",
    "import ecephys_analyses as ea"
   ]
  },
  {
   "cell_type": "code",
   "execution_count": 3,
   "metadata": {
    "execution": {
     "iopub.execute_input": "2021-07-22T23:58:53.888362Z",
     "iopub.status.busy": "2021-07-22T23:58:53.887952Z",
     "iopub.status.idle": "2021-07-22T23:58:53.910326Z",
     "shell.execute_reply": "2021-07-22T23:58:53.909489Z",
     "shell.execute_reply.started": "2021-07-22T23:58:53.888311Z"
    }
   },
   "outputs": [],
   "source": [
    "def write_empty_sr_chans_file(bin_path, sr_chans_path):\n",
    "    time = load_timestamps(bin_path)\n",
    "    sr_chans = pd.DataFrame({'start_time': [time[0]], 'end_time': [time[-1]], 'sr_chans': [np.NaN]})\n",
    "    sr_chans.to_csv(sr_chans_path, index=False, mode='x')"
   ]
  },
  {
   "cell_type": "code",
   "execution_count": 4,
   "metadata": {
    "execution": {
     "iopub.execute_input": "2021-07-22T23:58:54.400399Z",
     "iopub.status.busy": "2021-07-22T23:58:54.399893Z",
     "iopub.status.idle": "2021-07-22T23:58:54.423854Z",
     "shell.execute_reply": "2021-07-22T23:58:54.423051Z",
     "shell.execute_reply.started": "2021-07-22T23:58:54.400339Z"
    }
   },
   "outputs": [],
   "source": [
    "def write_condition(subject, experiment, condition):\n",
    "    bin_paths = ea.get_sglx_style_datapaths(subject, experiment, condition, \"lf.bin\")\n",
    "    sr_chans_paths = ea.get_sglx_style_datapaths(subject, experiment, condition, \"sr_chans.csv\")\n",
    "    \n",
    "    for sr_chans_path in sr_chans_paths:\n",
    "        sr_chans_path.parent.mkdir(parents=True, exist_ok=True)\n",
    "        \n",
    "    for bin_path, sr_chans_path in zip(bin_paths, sr_chans_paths):\n",
    "        write_empty_sr_chans_file(bin_path, sr_chans_path)\n",
    "        current_time = datetime.now().strftime(\"%H:%M:%S\")\n",
    "        print(f\"{current_time}: Finished {str(bin_path)}\")"
   ]
  },
  {
   "cell_type": "code",
   "execution_count": 5,
   "metadata": {
    "execution": {
     "iopub.execute_input": "2021-07-22T23:59:15.850841Z",
     "iopub.status.busy": "2021-07-22T23:59:15.850518Z",
     "iopub.status.idle": "2021-07-22T23:59:30.556543Z",
     "shell.execute_reply": "2021-07-22T23:59:30.555467Z",
     "shell.execute_reply.started": "2021-07-22T23:59:15.850805Z"
    }
   },
   "outputs": [
    {
     "name": "stdout",
     "output_type": "stream",
     "text": [
      "18:59:16: Finished /Volumes/neuropixel_archive/Data/chronic/CNPIX9-Luigi/6-20-2021/6-20-2021_g0/6-20-2021_g0_imec0/6-20-2021_g0_t0.imec0.lf.bin\n",
      "18:59:17: Finished /Volumes/neuropixel_archive/Data/chronic/CNPIX9-Luigi/6-20-2021/6-20-2021_g0/6-20-2021_g0_imec0/6-20-2021_g0_t1.imec0.lf.bin\n",
      "18:59:17: Finished /Volumes/neuropixel_archive/Data/chronic/CNPIX9-Luigi/6-20-2021/6-20-2021_g0/6-20-2021_g0_imec0/6-20-2021_g0_t2.imec0.lf.bin\n",
      "18:59:18: Finished /Volumes/neuropixel_archive/Data/chronic/CNPIX9-Luigi/6-20-2021/6-20-2021_g0/6-20-2021_g0_imec0/6-20-2021_g0_t3.imec0.lf.bin\n",
      "18:59:18: Finished /Volumes/neuropixel_archive/Data/chronic/CNPIX9-Luigi/6-20-2021/6-20-2021_g0/6-20-2021_g0_imec0/6-20-2021_g0_t4.imec0.lf.bin\n",
      "18:59:19: Finished /Volumes/neuropixel_archive/Data/chronic/CNPIX9-Luigi/6-20-2021/6-20-2021_g0/6-20-2021_g0_imec0/6-20-2021_g0_t5.imec0.lf.bin\n",
      "18:59:19: Finished /Volumes/neuropixel_archive/Data/chronic/CNPIX9-Luigi/6-20-2021/6-20-2021_g0/6-20-2021_g0_imec0/6-20-2021_g0_t6.imec0.lf.bin\n",
      "18:59:20: Finished /Volumes/neuropixel_archive/Data/chronic/CNPIX9-Luigi/6-20-2021/6-20-2021_g0/6-20-2021_g0_imec0/6-20-2021_g0_t7.imec0.lf.bin\n",
      "18:59:21: Finished /Volumes/neuropixel_archive/Data/chronic/CNPIX9-Luigi/6-20-2021/6-20-2021_g0/6-20-2021_g0_imec0/6-20-2021_g0_t8.imec0.lf.bin\n",
      "18:59:22: Finished /Volumes/neuropixel_archive/Data/chronic/CNPIX9-Luigi/6-20-2021/6-20-2021_g0/6-20-2021_g0_imec0/6-20-2021_g0_t9.imec0.lf.bin\n",
      "18:59:22: Finished /Volumes/neuropixel_archive/Data/chronic/CNPIX9-Luigi/6-20-2021/6-20-2021_g0/6-20-2021_g0_imec0/6-20-2021_g0_t10.imec0.lf.bin\n",
      "18:59:23: Finished /Volumes/neuropixel_archive/Data/chronic/CNPIX9-Luigi/6-20-2021/6-20-2021_g0/6-20-2021_g0_imec0/6-20-2021_g0_t11.imec0.lf.bin\n",
      "18:59:24: Finished /Volumes/neuropixel_archive/Data/chronic/CNPIX9-Luigi/6-20-2021/6-21-2021_g0/6-21-2021_g0_imec0/6-21-2021_g0_t0.imec0.lf.bin\n",
      "18:59:24: Finished /Volumes/neuropixel_archive/Data/chronic/CNPIX9-Luigi/6-20-2021/6-21-2021_g0/6-21-2021_g0_imec0/6-21-2021_g0_t1.imec0.lf.bin\n",
      "18:59:25: Finished /Volumes/neuropixel_archive/Data/chronic/CNPIX9-Luigi/6-20-2021/6-21-2021_g0/6-21-2021_g0_imec0/6-21-2021_g0_t2.imec0.lf.bin\n",
      "18:59:26: Finished /Volumes/neuropixel_archive/Data/chronic/CNPIX9-Luigi/6-20-2021/6-21-2021_g1/6-21-2021_g1_imec0/6-21-2021_g1_t0.imec0.lf.bin\n",
      "18:59:26: Finished /Volumes/neuropixel_archive/Data/chronic/CNPIX9-Luigi/6-20-2021/6-21-2021_g1/6-21-2021_g1_imec0/6-21-2021_g1_t1.imec0.lf.bin\n",
      "18:59:27: Finished /Volumes/neuropixel_archive/Data/chronic/CNPIX9-Luigi/6-20-2021/6-21-2021_g1/6-21-2021_g1_imec0/6-21-2021_g1_t2.imec0.lf.bin\n",
      "18:59:27: Finished /Volumes/neuropixel_archive/Data/chronic/CNPIX9-Luigi/6-20-2021/6-21-2021_g1/6-21-2021_g1_imec0/6-21-2021_g1_t3.imec0.lf.bin\n",
      "18:59:28: Finished /Volumes/neuropixel_archive/Data/chronic/CNPIX9-Luigi/6-20-2021/6-21-2021_g1/6-21-2021_g1_imec0/6-21-2021_g1_t4.imec0.lf.bin\n",
      "18:59:28: Finished /Volumes/neuropixel_archive/Data/chronic/CNPIX9-Luigi/6-20-2021/6-21-2021_g1/6-21-2021_g1_imec0/6-21-2021_g1_t5.imec0.lf.bin\n",
      "18:59:29: Finished /Volumes/neuropixel_archive/Data/chronic/CNPIX9-Luigi/6-20-2021/6-21-2021_g1/6-21-2021_g1_imec0/6-21-2021_g1_t6.imec0.lf.bin\n",
      "18:59:30: Finished /Volumes/neuropixel_archive/Data/chronic/CNPIX9-Luigi/6-20-2021/6-21-2021_g1/6-21-2021_g1_imec0/6-21-2021_g1_t7.imec0.lf.bin\n",
      "18:59:30: Finished /Volumes/neuropixel_archive/Data/chronic/CNPIX9-Luigi/6-20-2021/6-21-2021_g1/6-21-2021_g1_imec0/6-21-2021_g1_t8.imec0.lf.bin\n"
     ]
    }
   ],
   "source": [
    "write_condition(\"Luigi\", \"sleep-homeostasis\", \"all\")"
   ]
  },
  {
   "cell_type": "code",
   "execution_count": null,
   "metadata": {},
   "outputs": [],
   "source": []
  }
 ],
 "metadata": {
  "kernelspec": {
   "display_name": "Python 3",
   "language": "python",
   "name": "python3"
  },
  "language_info": {
   "codemirror_mode": {
    "name": "ipython",
    "version": 3
   },
   "file_extension": ".py",
   "mimetype": "text/x-python",
   "name": "python",
   "nbconvert_exporter": "python",
   "pygments_lexer": "ipython3",
   "version": "3.7.9"
  }
 },
 "nbformat": 4,
 "nbformat_minor": 4
}
