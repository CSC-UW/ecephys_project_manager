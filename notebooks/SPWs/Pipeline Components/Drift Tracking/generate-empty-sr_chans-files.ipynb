{
 "cells": [
  {
   "cell_type": "code",
   "execution_count": 1,
   "metadata": {
    "execution": {
     "iopub.execute_input": "2021-10-12T22:24:28.122751Z",
     "iopub.status.busy": "2021-10-12T22:24:28.122179Z",
     "iopub.status.idle": "2021-10-12T22:24:28.143456Z",
     "shell.execute_reply": "2021-10-12T22:24:28.142866Z",
     "shell.execute_reply.started": "2021-10-12T22:24:28.122591Z"
    },
    "tags": []
   },
   "outputs": [],
   "source": [
    "%load_ext autoreload\n",
    "%autoreload 2"
   ]
  },
  {
   "cell_type": "code",
   "execution_count": 2,
   "metadata": {
    "execution": {
     "iopub.execute_input": "2021-10-12T22:24:28.511662Z",
     "iopub.status.busy": "2021-10-12T22:24:28.511099Z",
     "iopub.status.idle": "2021-10-12T22:24:29.518536Z",
     "shell.execute_reply": "2021-10-12T22:24:29.517864Z",
     "shell.execute_reply.started": "2021-10-12T22:24:28.511606Z"
    },
    "tags": []
   },
   "outputs": [],
   "source": [
    "import pandas as pd\n",
    "import numpy as np\n",
    "from datetime import datetime\n",
    "\n",
    "from sglxarray import load_timestamps\n",
    "import ecephys_analyses as ea"
   ]
  },
  {
   "cell_type": "code",
   "execution_count": 3,
   "metadata": {
    "execution": {
     "iopub.execute_input": "2021-10-12T22:24:29.519748Z",
     "iopub.status.busy": "2021-10-12T22:24:29.519491Z",
     "iopub.status.idle": "2021-10-12T22:24:29.536293Z",
     "shell.execute_reply": "2021-10-12T22:24:29.535491Z",
     "shell.execute_reply.started": "2021-10-12T22:24:29.519731Z"
    },
    "tags": []
   },
   "outputs": [],
   "source": [
    "def write_empty_sr_chans_file(bin_path, sr_chans_path):\n",
    "    time = load_timestamps(bin_path)\n",
    "    sr_chans = pd.DataFrame({'start_time': [time[0]], 'end_time': [time[-1]], 'sr_chans': [np.NaN]})\n",
    "    sr_chans.to_csv(sr_chans_path, index=False, mode='x')"
   ]
  },
  {
   "cell_type": "code",
   "execution_count": 4,
   "metadata": {
    "execution": {
     "iopub.execute_input": "2021-10-12T22:24:29.880189Z",
     "iopub.status.busy": "2021-10-12T22:24:29.879630Z",
     "iopub.status.idle": "2021-10-12T22:24:29.902209Z",
     "shell.execute_reply": "2021-10-12T22:24:29.901544Z",
     "shell.execute_reply.started": "2021-10-12T22:24:29.880134Z"
    },
    "tags": []
   },
   "outputs": [],
   "source": [
    "def write_condition(subject, experiment, probe):\n",
    "    bin_paths = ea.get_lfp_bin_paths(subject, experiment, probe=probe)\n",
    "    #bin_paths = ea.get_sglx_style_datapaths(subject, experiment, condition, \"lf.bin\")\n",
    "    sr_chans_paths = ea.get_analysis_counterparts(bin_paths, \"sr_chans.csv\", subject)\n",
    "    #sr_chans_paths = ea.get_sglx_style_datapaths(subject, experiment, condition, \"sr_chans.csv\")\n",
    "    \n",
    "    for sr_chans_path in sr_chans_paths:\n",
    "        sr_chans_path.parent.mkdir(parents=True, exist_ok=True)\n",
    "        \n",
    "    for bin_path, sr_chans_path in zip(bin_paths, sr_chans_paths):\n",
    "        write_empty_sr_chans_file(bin_path, sr_chans_path)\n",
    "        current_time = datetime.now().strftime(\"%H:%M:%S\")\n",
    "        print(f\"{current_time}: Finished {str(bin_path)}\")"
   ]
  },
  {
   "cell_type": "code",
   "execution_count": 5,
   "metadata": {
    "execution": {
     "iopub.execute_input": "2021-10-12T22:24:31.762578Z",
     "iopub.status.busy": "2021-10-12T22:24:31.762152Z",
     "iopub.status.idle": "2021-10-12T22:25:59.483884Z",
     "shell.execute_reply": "2021-10-12T22:25:59.483158Z",
     "shell.execute_reply.started": "2021-10-12T22:24:31.762537Z"
    },
    "tags": []
   },
   "outputs": [
    {
     "name": "stdout",
     "output_type": "stream",
     "text": [
      "17:25:38: Finished /Volumes/neuropixel_archive/Data/chronic/CNPIX11-Adrian/8-30-2021/SpikeGLX/8-30-2021_g0/8-30-2021_g0_imec1/8-30-2021_g0_t0.imec1.lf.bin\n",
      "17:25:38: Finished /Volumes/neuropixel_archive/Data/chronic/CNPIX11-Adrian/8-30-2021/SpikeGLX/8-30-2021_g0/8-30-2021_g0_imec1/8-30-2021_g0_t1.imec1.lf.bin\n",
      "17:25:39: Finished /Volumes/neuropixel_archive/Data/chronic/CNPIX11-Adrian/8-30-2021/SpikeGLX/8-30-2021_g0/8-30-2021_g0_imec1/8-30-2021_g0_t2.imec1.lf.bin\n",
      "17:25:39: Finished /Volumes/neuropixel_archive/Data/chronic/CNPIX11-Adrian/8-30-2021/SpikeGLX/8-30-2021_g0/8-30-2021_g0_imec1/8-30-2021_g0_t3.imec1.lf.bin\n",
      "17:25:40: Finished /Volumes/neuropixel_archive/Data/chronic/CNPIX11-Adrian/8-30-2021/SpikeGLX/8-30-2021_g0/8-30-2021_g0_imec1/8-30-2021_g0_t4.imec1.lf.bin\n",
      "17:25:40: Finished /Volumes/neuropixel_archive/Data/chronic/CNPIX11-Adrian/8-30-2021/SpikeGLX/8-30-2021_g0/8-30-2021_g0_imec1/8-30-2021_g0_t5.imec1.lf.bin\n",
      "17:25:41: Finished /Volumes/neuropixel_archive/Data/chronic/CNPIX11-Adrian/8-30-2021/SpikeGLX/8-30-2021_g0/8-30-2021_g0_imec1/8-30-2021_g0_t6.imec1.lf.bin\n",
      "17:25:41: Finished /Volumes/neuropixel_archive/Data/chronic/CNPIX11-Adrian/8-30-2021/SpikeGLX/8-30-2021_g0/8-30-2021_g0_imec1/8-30-2021_g0_t7.imec1.lf.bin\n",
      "17:25:42: Finished /Volumes/neuropixel_archive/Data/chronic/CNPIX11-Adrian/8-30-2021/SpikeGLX/8-30-2021_g0/8-30-2021_g0_imec1/8-30-2021_g0_t8.imec1.lf.bin\n",
      "17:25:43: Finished /Volumes/neuropixel_archive/Data/chronic/CNPIX11-Adrian/8-30-2021/SpikeGLX/8-30-2021_g0/8-30-2021_g0_imec1/8-30-2021_g0_t9.imec1.lf.bin\n",
      "17:25:44: Finished /Volumes/neuropixel_archive/Data/chronic/CNPIX11-Adrian/8-30-2021/SpikeGLX/8-30-2021_g0/8-30-2021_g0_imec1/8-30-2021_g0_t10.imec1.lf.bin\n",
      "17:25:45: Finished /Volumes/neuropixel_archive/Data/chronic/CNPIX11-Adrian/8-30-2021/SpikeGLX/8-30-2021_g0/8-30-2021_g0_imec1/8-30-2021_g0_t11.imec1.lf.bin\n",
      "17:25:46: Finished /Volumes/neuropixel_archive/Data/chronic/CNPIX11-Adrian/8-30-2021/SpikeGLX/8-30-2021_g1/8-30-2021_g1_imec1/8-30-2021_g1_t0.imec1.lf.bin\n",
      "17:25:47: Finished /Volumes/neuropixel_archive/Data/chronic/CNPIX11-Adrian/8-31-2021/SpikeGLX/8-31-2021_g0/8-31-2021_g0_imec1/8-31-2021_g0_t0.imec1.lf.bin\n",
      "17:25:49: Finished /Volumes/neuropixel_archive/Data/chronic/CNPIX11-Adrian/8-31-2021/SpikeGLX/8-31-2021_g0/8-31-2021_g0_imec1/8-31-2021_g0_t1.imec1.lf.bin\n",
      "17:25:50: Finished /Volumes/neuropixel_archive/Data/chronic/CNPIX11-Adrian/8-31-2021/SpikeGLX/8-31-2021_g0/8-31-2021_g0_imec1/8-31-2021_g0_t2.imec1.lf.bin\n",
      "17:25:52: Finished /Volumes/neuropixel_archive/Data/chronic/CNPIX11-Adrian/8-31-2021/SpikeGLX/8-31-2021_g0/8-31-2021_g0_imec1/8-31-2021_g0_t3.imec1.lf.bin\n",
      "17:25:53: Finished /Volumes/neuropixel_archive/Data/chronic/CNPIX11-Adrian/8-31-2021/SpikeGLX/8-31-2021_g0/8-31-2021_g0_imec1/8-31-2021_g0_t4.imec1.lf.bin\n",
      "17:25:54: Finished /Volumes/neuropixel_archive/Data/chronic/CNPIX11-Adrian/8-31-2021/SpikeGLX/8-31-2021_g0/8-31-2021_g0_imec1/8-31-2021_g0_t5.imec1.lf.bin\n",
      "17:25:55: Finished /Volumes/neuropixel_archive/Data/chronic/CNPIX11-Adrian/8-31-2021/SpikeGLX/8-31-2021_g0/8-31-2021_g0_imec1/8-31-2021_g0_t6.imec1.lf.bin\n",
      "17:25:56: Finished /Volumes/neuropixel_archive/Data/chronic/CNPIX11-Adrian/8-31-2021/SpikeGLX/8-31-2021_g0/8-31-2021_g0_imec1/8-31-2021_g0_t7.imec1.lf.bin\n",
      "17:25:56: Finished /Volumes/neuropixel_archive/Data/chronic/CNPIX11-Adrian/8-31-2021/SpikeGLX/8-31-2021_g0/8-31-2021_g0_imec1/8-31-2021_g0_t8.imec1.lf.bin\n",
      "17:25:57: Finished /Volumes/neuropixel_archive/Data/chronic/CNPIX11-Adrian/8-31-2021/SpikeGLX/8-31-2021_g0/8-31-2021_g0_imec1/8-31-2021_g0_t9.imec1.lf.bin\n",
      "17:25:57: Finished /Volumes/neuropixel_archive/Data/chronic/CNPIX11-Adrian/8-31-2021/SpikeGLX/8-31-2021_g0/8-31-2021_g0_imec1/8-31-2021_g0_t10.imec1.lf.bin\n",
      "17:25:58: Finished /Volumes/neuropixel_archive/Data/chronic/CNPIX11-Adrian/8-31-2021/SpikeGLX/8-31-2021_g0/8-31-2021_g0_imec1/8-31-2021_g0_t11.imec1.lf.bin\n",
      "17:25:59: Finished /Volumes/neuropixel_archive/Data/chronic/CNPIX11-Adrian/8-31-2021/SpikeGLX/8-31-2021_g1/8-31-2021_g1_imec1/8-31-2021_g1_t0.imec1.lf.bin\n",
      "17:25:59: Finished /Volumes/neuropixel_archive/Data/chronic/CNPIX11-Adrian/8-31-2021/SpikeGLX/8-31-2021_g1/8-31-2021_g1_imec1/8-31-2021_g1_t1.imec1.lf.bin\n"
     ]
    }
   ],
   "source": [
    "write_condition(\"Adrian\", \"sleep_homeostasis\", \"imec1\")"
   ]
  },
  {
   "cell_type": "code",
   "execution_count": null,
   "metadata": {},
   "outputs": [],
   "source": []
  }
 ],
 "metadata": {
  "kernelspec": {
   "display_name": "Python 3 (ipykernel)",
   "language": "python",
   "name": "python3"
  },
  "language_info": {
   "codemirror_mode": {
    "name": "ipython",
    "version": 3
   },
   "file_extension": ".py",
   "mimetype": "text/x-python",
   "name": "python",
   "nbconvert_exporter": "python",
   "pygments_lexer": "ipython3",
   "version": "3.7.10"
  }
 },
 "nbformat": 4,
 "nbformat_minor": 4
}
