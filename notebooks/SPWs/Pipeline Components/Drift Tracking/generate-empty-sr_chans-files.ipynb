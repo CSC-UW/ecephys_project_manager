{
 "cells": [
  {
   "cell_type": "code",
   "execution_count": 1,
   "metadata": {
    "execution": {
     "iopub.execute_input": "2021-05-12T20:58:08.565395Z",
     "iopub.status.busy": "2021-05-12T20:58:08.565042Z",
     "iopub.status.idle": "2021-05-12T20:58:08.582723Z",
     "shell.execute_reply": "2021-05-12T20:58:08.582206Z",
     "shell.execute_reply.started": "2021-05-12T20:58:08.565336Z"
    }
   },
   "outputs": [],
   "source": [
    "%load_ext autoreload\n",
    "%autoreload 2"
   ]
  },
  {
   "cell_type": "code",
   "execution_count": 2,
   "metadata": {
    "execution": {
     "iopub.execute_input": "2021-05-12T20:58:08.827149Z",
     "iopub.status.busy": "2021-05-12T20:58:08.826662Z",
     "iopub.status.idle": "2021-05-12T20:58:09.501158Z",
     "shell.execute_reply": "2021-05-12T20:58:09.500400Z",
     "shell.execute_reply.started": "2021-05-12T20:58:08.827088Z"
    }
   },
   "outputs": [],
   "source": [
    "import pandas as pd\n",
    "import numpy as np\n",
    "from datetime import datetime\n",
    "\n",
    "from ecephys.sglx_utils import load_timestamps\n",
    "import ecephys_analyses as ea"
   ]
  },
  {
   "cell_type": "code",
   "execution_count": 3,
   "metadata": {
    "execution": {
     "iopub.execute_input": "2021-05-12T20:58:09.519138Z",
     "iopub.status.busy": "2021-05-12T20:58:09.518985Z",
     "iopub.status.idle": "2021-05-12T20:58:09.533351Z",
     "shell.execute_reply": "2021-05-12T20:58:09.532715Z",
     "shell.execute_reply.started": "2021-05-12T20:58:09.519119Z"
    }
   },
   "outputs": [],
   "source": [
    "def write_empty_sr_chans_file(bin_path, sr_chans_path):\n",
    "    time = load_timestamps(bin_path)\n",
    "    sr_chans = pd.DataFrame({'start_time': [time[0]], 'end_time': [time[-1]], 'sr_chans': [np.NaN]})\n",
    "    sr_chans.to_csv(sr_chans_path, index=False, mode='x')"
   ]
  },
  {
   "cell_type": "code",
   "execution_count": 4,
   "metadata": {
    "execution": {
     "iopub.execute_input": "2021-05-12T20:58:10.915334Z",
     "iopub.status.busy": "2021-05-12T20:58:10.914846Z",
     "iopub.status.idle": "2021-05-12T20:58:10.940810Z",
     "shell.execute_reply": "2021-05-12T20:58:10.939954Z",
     "shell.execute_reply.started": "2021-05-12T20:58:10.915275Z"
    }
   },
   "outputs": [],
   "source": [
    "def write_condition(subject, experiment, condition):\n",
    "    bin_paths = ea.get_sglx_style_datapaths(subject, experiment, condition, \"lf.bin\")\n",
    "    sr_chans_paths = ea.get_sglx_style_datapaths(subject, experiment, condition, \"sr_chans.csv\")\n",
    "    \n",
    "    for sr_chans_path in sr_chans_paths:\n",
    "        sr_chans_path.parent.mkdir(parents=True, exist_ok=True)\n",
    "        \n",
    "    for bin_path, sr_chans_path in zip(bin_paths, sr_chans_paths):\n",
    "        write_empty_sr_chans_file(bin_path, sr_chans_path)\n",
    "        current_time = datetime.now().strftime(\"%H:%M:%S\")\n",
    "        print(f\"{current_time}: Finished {str(bin_path)}\")"
   ]
  },
  {
   "cell_type": "code",
   "execution_count": 13,
   "metadata": {
    "execution": {
     "iopub.execute_input": "2021-05-14T19:35:39.538412Z",
     "iopub.status.busy": "2021-05-14T19:35:39.537929Z",
     "iopub.status.idle": "2021-05-14T19:35:40.784359Z",
     "shell.execute_reply": "2021-05-14T19:35:40.783644Z",
     "shell.execute_reply.started": "2021-05-14T19:35:39.538352Z"
    }
   },
   "outputs": [
    {
     "name": "stdout",
     "output_type": "stream",
     "text": [
      "14:35:40: Finished /Volumes/neuropixel_archive/Data/chronic/CNPIX8-Allan/4-20-2021/4.20.2021_g0/4.20.2021_g0_imec0/4.20.2021_g0_t0.imec0.lf.bin\n",
      "14:35:40: Finished /Volumes/neuropixel_archive/Data/chronic/CNPIX8-Allan/4-20-2021/4.20.2021_g1/4.20.2021_g1_imec0/4.20.2021_g1_t0.imec0.lf.bin\n",
      "14:35:40: Finished /Volumes/neuropixel_archive/Data/chronic/CNPIX8-Allan/4-20-2021/4.20.2021_g1/4.20.2021_g1_imec0/4.20.2021_g1_t1.imec0.lf.bin\n",
      "14:35:40: Finished /Volumes/neuropixel_archive/Data/chronic/CNPIX8-Allan/4-20-2021/4.20.2021_g1/4.20.2021_g1_imec0/4.20.2021_g1_t2.imec0.lf.bin\n"
     ]
    }
   ],
   "source": [
    "write_condition(\"Allan\", \"ketamine\", \"all\")"
   ]
  },
  {
   "cell_type": "code",
   "execution_count": null,
   "metadata": {},
   "outputs": [],
   "source": []
  }
 ],
 "metadata": {
  "kernelspec": {
   "display_name": "Python 3",
   "language": "python",
   "name": "python3"
  },
  "language_info": {
   "codemirror_mode": {
    "name": "ipython",
    "version": 3
   },
   "file_extension": ".py",
   "mimetype": "text/x-python",
   "name": "python",
   "nbconvert_exporter": "python",
   "pygments_lexer": "ipython3",
   "version": "3.7.9"
  }
 },
 "nbformat": 4,
 "nbformat_minor": 4
}
