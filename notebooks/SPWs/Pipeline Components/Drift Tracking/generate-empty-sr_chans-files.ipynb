{
 "cells": [
  {
   "cell_type": "code",
   "execution_count": 1,
   "metadata": {
    "execution": {
     "iopub.execute_input": "2021-08-12T15:45:32.585959Z",
     "iopub.status.busy": "2021-08-12T15:45:32.585289Z",
     "iopub.status.idle": "2021-08-12T15:45:32.607678Z",
     "shell.execute_reply": "2021-08-12T15:45:32.607102Z",
     "shell.execute_reply.started": "2021-08-12T15:45:32.585807Z"
    },
    "tags": []
   },
   "outputs": [],
   "source": [
    "%load_ext autoreload\n",
    "%autoreload 2"
   ]
  },
  {
   "cell_type": "code",
   "execution_count": 2,
   "metadata": {
    "execution": {
     "iopub.execute_input": "2021-08-12T15:45:32.824148Z",
     "iopub.status.busy": "2021-08-12T15:45:32.823599Z",
     "iopub.status.idle": "2021-08-12T15:45:33.940478Z",
     "shell.execute_reply": "2021-08-12T15:45:33.939795Z",
     "shell.execute_reply.started": "2021-08-12T15:45:32.824095Z"
    },
    "tags": []
   },
   "outputs": [],
   "source": [
    "import pandas as pd\n",
    "import numpy as np\n",
    "from datetime import datetime\n",
    "\n",
    "from sglxarray import load_timestamps\n",
    "import ecephys_analyses as ea"
   ]
  },
  {
   "cell_type": "code",
   "execution_count": 3,
   "metadata": {
    "execution": {
     "iopub.execute_input": "2021-08-12T15:45:33.941815Z",
     "iopub.status.busy": "2021-08-12T15:45:33.941580Z",
     "iopub.status.idle": "2021-08-12T15:45:33.956463Z",
     "shell.execute_reply": "2021-08-12T15:45:33.955752Z",
     "shell.execute_reply.started": "2021-08-12T15:45:33.941792Z"
    },
    "tags": []
   },
   "outputs": [],
   "source": [
    "def write_empty_sr_chans_file(bin_path, sr_chans_path):\n",
    "    time = load_timestamps(bin_path)\n",
    "    sr_chans = pd.DataFrame({'start_time': [time[0]], 'end_time': [time[-1]], 'sr_chans': [np.NaN]})\n",
    "    sr_chans.to_csv(sr_chans_path, index=False, mode='x')"
   ]
  },
  {
   "cell_type": "code",
   "execution_count": 4,
   "metadata": {
    "execution": {
     "iopub.execute_input": "2021-08-12T15:45:33.957353Z",
     "iopub.status.busy": "2021-08-12T15:45:33.957128Z",
     "iopub.status.idle": "2021-08-12T15:45:33.971712Z",
     "shell.execute_reply": "2021-08-12T15:45:33.970982Z",
     "shell.execute_reply.started": "2021-08-12T15:45:33.957336Z"
    },
    "tags": []
   },
   "outputs": [],
   "source": [
    "def write_condition(subject, experiment, condition):\n",
    "    bin_paths = ea.get_sglx_style_datapaths(subject, experiment, condition, \"lf.bin\")\n",
    "    sr_chans_paths = ea.get_sglx_style_datapaths(subject, experiment, condition, \"sr_chans.csv\")\n",
    "    \n",
    "    for sr_chans_path in sr_chans_paths:\n",
    "        sr_chans_path.parent.mkdir(parents=True, exist_ok=True)\n",
    "        \n",
    "    for bin_path, sr_chans_path in zip(bin_paths, sr_chans_paths):\n",
    "        write_empty_sr_chans_file(bin_path, sr_chans_path)\n",
    "        current_time = datetime.now().strftime(\"%H:%M:%S\")\n",
    "        print(f\"{current_time}: Finished {str(bin_path)}\")"
   ]
  },
  {
   "cell_type": "code",
   "execution_count": 8,
   "metadata": {
    "execution": {
     "iopub.execute_input": "2021-08-13T17:34:18.986113Z",
     "iopub.status.busy": "2021-08-13T17:34:18.985363Z",
     "iopub.status.idle": "2021-08-13T17:34:19.501952Z",
     "shell.execute_reply": "2021-08-13T17:34:19.501089Z",
     "shell.execute_reply.started": "2021-08-13T17:34:18.986042Z"
    },
    "tags": []
   },
   "outputs": [
    {
     "name": "stdout",
     "output_type": "stream",
     "text": [
      "12:34:19: Finished /Volumes/neuropixel_archive/Data/chronic/CNPIX5-Alessandro/9-2-2020/9-2-2020_Dex_g0/9-2-2020_Dex_g0_imec0/9-2-2020_Dex_g0_t0.imec0.lf.bin\n",
      "12:34:19: Finished /Volumes/neuropixel_archive/Data/chronic/CNPIX5-Alessandro/9-2-2020/9-2-2020_Dex_g1/9-2-2020_Dex_g1_imec0/9-2-2020_Dex_g1_t0.imec0.lf.bin\n"
     ]
    }
   ],
   "source": [
    "write_condition(\"Alessandro\", \"dexmedetomidine-eStim\", \"all\")"
   ]
  },
  {
   "cell_type": "code",
   "execution_count": null,
   "metadata": {},
   "outputs": [],
   "source": []
  }
 ],
 "metadata": {
  "kernelspec": {
   "display_name": "Python 3 (ipykernel)",
   "language": "python",
   "name": "python3"
  },
  "language_info": {
   "codemirror_mode": {
    "name": "ipython",
    "version": 3
   },
   "file_extension": ".py",
   "mimetype": "text/x-python",
   "name": "python",
   "nbconvert_exporter": "python",
   "pygments_lexer": "ipython3",
   "version": "3.7.10"
  }
 },
 "nbformat": 4,
 "nbformat_minor": 4
}
