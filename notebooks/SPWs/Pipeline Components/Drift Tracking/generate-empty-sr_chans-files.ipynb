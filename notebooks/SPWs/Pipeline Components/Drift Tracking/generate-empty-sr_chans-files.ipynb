{
 "cells": [
  {
   "cell_type": "code",
   "execution_count": 1,
   "metadata": {
    "execution": {
     "iopub.execute_input": "2021-10-07T22:56:03.584067Z",
     "iopub.status.busy": "2021-10-07T22:56:03.583822Z",
     "iopub.status.idle": "2021-10-07T22:56:03.605261Z",
     "shell.execute_reply": "2021-10-07T22:56:03.604580Z",
     "shell.execute_reply.started": "2021-10-07T22:56:03.583982Z"
    },
    "tags": []
   },
   "outputs": [],
   "source": [
    "%load_ext autoreload\n",
    "%autoreload 2"
   ]
  },
  {
   "cell_type": "code",
   "execution_count": 2,
   "metadata": {
    "execution": {
     "iopub.execute_input": "2021-10-07T22:56:03.606592Z",
     "iopub.status.busy": "2021-10-07T22:56:03.606292Z",
     "iopub.status.idle": "2021-10-07T22:56:05.255146Z",
     "shell.execute_reply": "2021-10-07T22:56:05.254359Z",
     "shell.execute_reply.started": "2021-10-07T22:56:03.606559Z"
    },
    "tags": []
   },
   "outputs": [],
   "source": [
    "import pandas as pd\n",
    "import numpy as np\n",
    "from datetime import datetime\n",
    "\n",
    "from sglxarray import load_timestamps\n",
    "import ecephys_analyses as ea"
   ]
  },
  {
   "cell_type": "code",
   "execution_count": 3,
   "metadata": {
    "execution": {
     "iopub.execute_input": "2021-10-07T22:56:05.256731Z",
     "iopub.status.busy": "2021-10-07T22:56:05.256460Z",
     "iopub.status.idle": "2021-10-07T22:56:05.276804Z",
     "shell.execute_reply": "2021-10-07T22:56:05.276159Z",
     "shell.execute_reply.started": "2021-10-07T22:56:05.256702Z"
    },
    "tags": []
   },
   "outputs": [],
   "source": [
    "def write_empty_sr_chans_file(bin_path, sr_chans_path):\n",
    "    time = load_timestamps(bin_path)\n",
    "    sr_chans = pd.DataFrame({'start_time': [time[0]], 'end_time': [time[-1]], 'sr_chans': [np.NaN]})\n",
    "    sr_chans.to_csv(sr_chans_path, index=False, mode='x')"
   ]
  },
  {
   "cell_type": "code",
   "execution_count": 6,
   "metadata": {
    "execution": {
     "iopub.execute_input": "2021-10-07T22:56:48.251722Z",
     "iopub.status.busy": "2021-10-07T22:56:48.251146Z",
     "iopub.status.idle": "2021-10-07T22:56:48.281977Z",
     "shell.execute_reply": "2021-10-07T22:56:48.281087Z",
     "shell.execute_reply.started": "2021-10-07T22:56:48.251656Z"
    },
    "tags": []
   },
   "outputs": [],
   "source": [
    "def write_condition(subject, experiment, probe):\n",
    "    bin_paths = ea.get_lfp_bin_paths(subject, experiment, probe=probe)\n",
    "    #bin_paths = ea.get_sglx_style_datapaths(subject, experiment, condition, \"lf.bin\")\n",
    "    sr_chans_paths = ea.get_analysis_counterparts(bin_paths, \"sr_chans.csv\", subject)\n",
    "    #sr_chans_paths = ea.get_sglx_style_datapaths(subject, experiment, condition, \"sr_chans.csv\")\n",
    "    \n",
    "    for sr_chans_path in sr_chans_paths:\n",
    "        sr_chans_path.parent.mkdir(parents=True, exist_ok=True)\n",
    "        \n",
    "    for bin_path, sr_chans_path in zip(bin_paths, sr_chans_paths):\n",
    "        write_empty_sr_chans_file(bin_path, sr_chans_path)\n",
    "        current_time = datetime.now().strftime(\"%H:%M:%S\")\n",
    "        print(f\"{current_time}: Finished {str(bin_path)}\")"
   ]
  },
  {
   "cell_type": "code",
   "execution_count": 7,
   "metadata": {
    "execution": {
     "iopub.execute_input": "2021-10-07T22:56:49.867447Z",
     "iopub.status.busy": "2021-10-07T22:56:49.866673Z",
     "iopub.status.idle": "2021-10-07T22:56:55.901034Z",
     "shell.execute_reply": "2021-10-07T22:56:55.900231Z",
     "shell.execute_reply.started": "2021-10-07T22:56:49.867375Z"
    },
    "tags": []
   },
   "outputs": [
    {
     "name": "stdout",
     "output_type": "stream",
     "text": [
      "17:56:51: Finished /Volumes/neuropixel_archive/Data/chronic/CNPIX11-Adrian/8-27-2021/SpikeGLX/8-27-2021_g0/8-27-2021_g0_imec1/8-27-2021_g0_t0.imec1.lf.bin\n",
      "17:56:51: Finished /Volumes/neuropixel_archive/Data/chronic/CNPIX11-Adrian/8-27-2021/SpikeGLX/8-27-2021_g1/8-27-2021_g1_imec1/8-27-2021_g1_t0.imec1.lf.bin\n",
      "17:56:52: Finished /Volumes/neuropixel_archive/Data/chronic/CNPIX11-Adrian/8-27-2021/SpikeGLX/8-27-2021_g2/8-27-2021_g2_imec1/8-27-2021_g2_t0.imec1.lf.bin\n",
      "17:56:52: Finished /Volumes/neuropixel_archive/Data/chronic/CNPIX11-Adrian/8-27-2021/SpikeGLX/8-27-2021_g2/8-27-2021_g2_imec1/8-27-2021_g2_t1.imec1.lf.bin\n",
      "17:56:52: Finished /Volumes/neuropixel_archive/Data/chronic/CNPIX11-Adrian/8-27-2021/SpikeGLX/8-27-2021_g2/8-27-2021_g2_imec1/8-27-2021_g2_t2.imec1.lf.bin\n",
      "17:56:52: Finished /Volumes/neuropixel_archive/Data/chronic/CNPIX11-Adrian/8-27-2021/SpikeGLX/8-27-2021_g2/8-27-2021_g2_imec1/8-27-2021_g2_t3.imec1.lf.bin\n",
      "17:56:52: Finished /Volumes/neuropixel_archive/Data/chronic/CNPIX11-Adrian/8-27-2021/SpikeGLX/8-27-2021_g2/8-27-2021_g2_imec1/8-27-2021_g2_t4.imec1.lf.bin\n",
      "17:56:52: Finished /Volumes/neuropixel_archive/Data/chronic/CNPIX11-Adrian/8-27-2021/SpikeGLX/8-27-2021_g2/8-27-2021_g2_imec1/8-27-2021_g2_t5.imec1.lf.bin\n",
      "17:56:53: Finished /Volumes/neuropixel_archive/Data/chronic/CNPIX11-Adrian/8-27-2021/SpikeGLX/8-27-2021_g2/8-27-2021_g2_imec1/8-27-2021_g2_t6.imec1.lf.bin\n",
      "17:56:53: Finished /Volumes/neuropixel_archive/Data/chronic/CNPIX11-Adrian/8-27-2021/SpikeGLX/8-27-2021_g2/8-27-2021_g2_imec1/8-27-2021_g2_t7.imec1.lf.bin\n",
      "17:56:53: Finished /Volumes/neuropixel_archive/Data/chronic/CNPIX11-Adrian/8-27-2021/SpikeGLX/8-27-2021_g2/8-27-2021_g2_imec1/8-27-2021_g2_t8.imec1.lf.bin\n",
      "17:56:53: Finished /Volumes/neuropixel_archive/Data/chronic/CNPIX11-Adrian/8-27-2021/SpikeGLX/8-27-2021_g2/8-27-2021_g2_imec1/8-27-2021_g2_t9.imec1.lf.bin\n",
      "17:56:53: Finished /Volumes/neuropixel_archive/Data/chronic/CNPIX11-Adrian/8-27-2021/SpikeGLX/8-27-2021_g2/8-27-2021_g2_imec1/8-27-2021_g2_t10.imec1.lf.bin\n",
      "17:56:53: Finished /Volumes/neuropixel_archive/Data/chronic/CNPIX11-Adrian/8-27-2021/SpikeGLX/8-27-2021_g2/8-27-2021_g2_imec1/8-27-2021_g2_t11.imec1.lf.bin\n",
      "17:56:53: Finished /Volumes/neuropixel_archive/Data/chronic/CNPIX11-Adrian/8-27-2021/SpikeGLX/8-27-2021_g3/8-27-2021_g3_imec1/8-27-2021_g3_t0.imec1.lf.bin\n",
      "17:56:54: Finished /Volumes/neuropixel_archive/Data/chronic/CNPIX11-Adrian/8-28-2021/SpikeGLX/8-28-2021_g0/8-28-2021_g0_imec1/8-28-2021_g0_t0.imec1.lf.bin\n",
      "17:56:54: Finished /Volumes/neuropixel_archive/Data/chronic/CNPIX11-Adrian/8-28-2021/SpikeGLX/8-28-2021_g0/8-28-2021_g0_imec1/8-28-2021_g0_t1.imec1.lf.bin\n",
      "17:56:54: Finished /Volumes/neuropixel_archive/Data/chronic/CNPIX11-Adrian/8-28-2021/SpikeGLX/8-28-2021_g0/8-28-2021_g0_imec1/8-28-2021_g0_t2.imec1.lf.bin\n",
      "17:56:54: Finished /Volumes/neuropixel_archive/Data/chronic/CNPIX11-Adrian/8-28-2021/SpikeGLX/8-28-2021_g0/8-28-2021_g0_imec1/8-28-2021_g0_t3.imec1.lf.bin\n",
      "17:56:54: Finished /Volumes/neuropixel_archive/Data/chronic/CNPIX11-Adrian/8-28-2021/SpikeGLX/8-28-2021_g0/8-28-2021_g0_imec1/8-28-2021_g0_t4.imec1.lf.bin\n",
      "17:56:54: Finished /Volumes/neuropixel_archive/Data/chronic/CNPIX11-Adrian/8-28-2021/SpikeGLX/8-28-2021_g0/8-28-2021_g0_imec1/8-28-2021_g0_t5.imec1.lf.bin\n",
      "17:56:55: Finished /Volumes/neuropixel_archive/Data/chronic/CNPIX11-Adrian/8-28-2021/SpikeGLX/8-28-2021_g0/8-28-2021_g0_imec1/8-28-2021_g0_t6.imec1.lf.bin\n",
      "17:56:55: Finished /Volumes/neuropixel_archive/Data/chronic/CNPIX11-Adrian/8-28-2021/SpikeGLX/8-28-2021_g0/8-28-2021_g0_imec1/8-28-2021_g0_t7.imec1.lf.bin\n",
      "17:56:55: Finished /Volumes/neuropixel_archive/Data/chronic/CNPIX11-Adrian/8-28-2021/SpikeGLX/8-28-2021_g0/8-28-2021_g0_imec1/8-28-2021_g0_t8.imec1.lf.bin\n",
      "17:56:55: Finished /Volumes/neuropixel_archive/Data/chronic/CNPIX11-Adrian/8-28-2021/SpikeGLX/8-28-2021_g0/8-28-2021_g0_imec1/8-28-2021_g0_t9.imec1.lf.bin\n",
      "17:56:55: Finished /Volumes/neuropixel_archive/Data/chronic/CNPIX11-Adrian/8-28-2021/SpikeGLX/8-28-2021_g0/8-28-2021_g0_imec1/8-28-2021_g0_t10.imec1.lf.bin\n",
      "17:56:55: Finished /Volumes/neuropixel_archive/Data/chronic/CNPIX11-Adrian/8-28-2021/SpikeGLX/8-28-2021_g0/8-28-2021_g0_imec1/8-28-2021_g0_t11.imec1.lf.bin\n",
      "17:56:55: Finished /Volumes/neuropixel_archive/Data/chronic/CNPIX11-Adrian/8-28-2021/SpikeGLX/8-28-2021_g1/8-28-2021_g1_imec1/8-28-2021_g1_t0.imec1.lf.bin\n"
     ]
    }
   ],
   "source": [
    "write_condition(\"Adrian\", \"conveyor_over_water\", \"imec1\")"
   ]
  },
  {
   "cell_type": "code",
   "execution_count": null,
   "metadata": {},
   "outputs": [],
   "source": []
  }
 ],
 "metadata": {
  "kernelspec": {
   "display_name": "Python 3 (ipykernel)",
   "language": "python",
   "name": "python3"
  },
  "language_info": {
   "codemirror_mode": {
    "name": "ipython",
    "version": 3
   },
   "file_extension": ".py",
   "mimetype": "text/x-python",
   "name": "python",
   "nbconvert_exporter": "python",
   "pygments_lexer": "ipython3",
   "version": "3.7.10"
  }
 },
 "nbformat": 4,
 "nbformat_minor": 4
}
