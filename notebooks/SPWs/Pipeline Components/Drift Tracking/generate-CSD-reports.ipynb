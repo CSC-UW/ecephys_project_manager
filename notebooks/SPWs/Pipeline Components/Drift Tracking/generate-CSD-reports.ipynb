{
 "cells": [
  {
   "cell_type": "markdown",
   "metadata": {},
   "source": [
    "CSD estimation is about twice as fast if you can use parameters from another file and avoid L-Curve. "
   ]
  },
  {
   "cell_type": "code",
   "execution_count": 1,
   "metadata": {
    "execution": {
     "iopub.execute_input": "2021-07-27T22:38:55.288770Z",
     "iopub.status.busy": "2021-07-27T22:38:55.288071Z",
     "iopub.status.idle": "2021-07-27T22:38:55.308825Z",
     "shell.execute_reply": "2021-07-27T22:38:55.308218Z",
     "shell.execute_reply.started": "2021-07-27T22:38:55.288609Z"
    },
    "tags": []
   },
   "outputs": [],
   "source": [
    "%load_ext autoreload\n",
    "%autoreload 2"
   ]
  },
  {
   "cell_type": "code",
   "execution_count": 8,
   "metadata": {
    "execution": {
     "iopub.execute_input": "2021-07-28T15:37:44.827160Z",
     "iopub.status.busy": "2021-07-28T15:37:44.826554Z",
     "iopub.status.idle": "2021-07-28T15:37:44.855277Z",
     "shell.execute_reply": "2021-07-28T15:37:44.854559Z",
     "shell.execute_reply.started": "2021-07-28T15:37:44.827088Z"
    },
    "tags": []
   },
   "outputs": [],
   "source": [
    "from sglxarray import load_trigger\n",
    "from ecephys.xrsig import get_kcsd\n",
    "import ecephys_analyses as ea"
   ]
  },
  {
   "cell_type": "code",
   "execution_count": 15,
   "metadata": {
    "execution": {
     "iopub.execute_input": "2021-07-28T15:37:59.814014Z",
     "iopub.status.busy": "2021-07-28T15:37:59.813461Z",
     "iopub.status.idle": "2021-07-28T15:37:59.835559Z",
     "shell.execute_reply": "2021-07-28T15:37:59.834841Z",
     "shell.execute_reply.started": "2021-07-28T15:37:59.813964Z"
    },
    "tags": []
   },
   "outputs": [],
   "source": [
    "import numpy as np\n",
    "import pandas as pd\n",
    "import seaborn as sns\n",
    "from scipy.signal import find_peaks\n",
    "import matplotlib.pyplot as plt\n",
    "from matplotlib.backends.backend_pdf import PdfPages\n",
    "from datetime import datetime\n",
    "import json"
   ]
  },
  {
   "cell_type": "code",
   "execution_count": 16,
   "metadata": {
    "execution": {
     "iopub.execute_input": "2021-07-28T15:38:00.082092Z",
     "iopub.status.busy": "2021-07-28T15:38:00.081784Z",
     "iopub.status.idle": "2021-07-28T15:38:00.102167Z",
     "shell.execute_reply": "2021-07-28T15:38:00.101599Z",
     "shell.execute_reply.started": "2021-07-28T15:38:00.082068Z"
    },
    "tags": []
   },
   "outputs": [],
   "source": [
    "def plot_epoched_profile(da, figsize=(36, 8)):\n",
    "    fig, ax = plt.subplots(figsize=figsize)\n",
    "    sns.heatmap(da, xticklabels=da.time.values.round(), yticklabels=da.channel.values, cbar=False)\n",
    "    ax.set(xticks=ax.get_xticks()[::2], yticks=ax.get_yticks()[::4], xlabel='Epoch center time (s)', ylabel='Channel')"
   ]
  },
  {
   "cell_type": "code",
   "execution_count": 17,
   "metadata": {
    "execution": {
     "iopub.execute_input": "2021-07-28T15:38:00.281745Z",
     "iopub.status.busy": "2021-07-28T15:38:00.281509Z",
     "iopub.status.idle": "2021-07-28T15:38:00.301809Z",
     "shell.execute_reply": "2021-07-28T15:38:00.301149Z",
     "shell.execute_reply.started": "2021-07-28T15:38:00.281729Z"
    },
    "tags": []
   },
   "outputs": [],
   "source": [
    "def plot_profile(da, figsize=(36, 5), ylabel=None, negative_peaks=False):\n",
    "    fig, ax = plt.subplots(figsize=figsize)\n",
    "    channel_indices = np.arange(len(da.channel))\n",
    "    sns.barplot(x=channel_indices, y=da, color='steelblue', ax=ax)\n",
    "    ax.set(xlabel=\"Channel\", ylabel=ylabel)\n",
    "    ax.set_xticks(channel_indices);\n",
    "    ax.set_xticklabels(da.channel.values, rotation=90);\n",
    "    \n",
    "    if negative_peaks:\n",
    "        peaks, _ = find_peaks(-da.values, prominence=1000, distance=10)\n",
    "    else:\n",
    "        peaks, _ = find_peaks(da.values, prominence=1000, distance=10)\n",
    "    sns.scatterplot(x=peaks, y=da.values[peaks], marker='x', color='red', ax=ax)"
   ]
  },
  {
   "cell_type": "code",
   "execution_count": 18,
   "metadata": {
    "execution": {
     "iopub.execute_input": "2021-07-28T15:38:00.466363Z",
     "iopub.status.busy": "2021-07-28T15:38:00.466127Z",
     "iopub.status.idle": "2021-07-28T15:38:00.487519Z",
     "shell.execute_reply": "2021-07-28T15:38:00.487108Z",
     "shell.execute_reply.started": "2021-07-28T15:38:00.466348Z"
    },
    "tags": []
   },
   "outputs": [],
   "source": [
    "def write_file_report(csd, epoch_length, pdf_path):\n",
    "    \n",
    "    if csd.time.values.max() < epoch_length:\n",
    "        return\n",
    "    \n",
    "    epoched_csd_nadirs = csd.coarsen(time=int(csd.fs *epoch_length), boundary='trim', coord_func={\"time\": \"min\"}).min()\n",
    "    epoched_csd_variance = csd.coarsen(time=int(csd.fs *epoch_length), boundary='trim', coord_func={\"time\": \"min\"}).var()\n",
    "    \n",
    "    pdf_path = pdf_path.parent / (pdf_path.stem + f'-{epoch_length}s' + pdf_path.suffix)\n",
    "    with PdfPages(pdf_path) as pdf:\n",
    "        plot_epoched_profile(epoched_csd_variance)\n",
    "        plt.title(f'CSD variance, {epoch_length}s epochs')\n",
    "        pdf.savefig()\n",
    "        plt.close()\n",
    "        \n",
    "        plot_epoched_profile(-epoched_csd_nadirs)\n",
    "        plt.title(f'CSD nadirs, {epoch_length}s epochs')\n",
    "        pdf.savefig()\n",
    "        plt.close()\n",
    "\n",
    "        for epoch in range(epoched_csd_nadirs.shape[1]):\n",
    "            plot_profile(epoched_csd_variance[:, epoch], ylabel=\"CSD variance\")\n",
    "            plt.title(f'CSD variance, epoch: {epoch}, time: {epoched_csd_nadirs.time.values[epoch]}s')\n",
    "            pdf.savefig()\n",
    "            plt.close()\n",
    "            \n",
    "            plot_profile(epoched_csd_nadirs[:, epoch], ylabel=\"Deepest CSD sink (mA/mm)\", negative_peaks=True)\n",
    "            plt.title(f'CSD nadirs, epoch: {epoch}, time: {epoched_csd_nadirs.time.values[epoch]}s')\n",
    "            pdf.savefig()\n",
    "            plt.close()\n",
    "\n",
    "        d = pdf.infodict()\n",
    "        d['Title'] = f'{pdf_path.stem}'\n",
    "        d['Author'] = 'Graham Findlay'\n",
    "        d['Subject'] = 'CSD nadir profiles for tracking CA1 drift'\n",
    "        d['CreationDate'] = datetime.now()"
   ]
  },
  {
   "cell_type": "code",
   "execution_count": 19,
   "metadata": {
    "execution": {
     "iopub.execute_input": "2021-07-28T15:38:00.641447Z",
     "iopub.status.busy": "2021-07-28T15:38:00.641135Z",
     "iopub.status.idle": "2021-07-28T15:38:00.667043Z",
     "shell.execute_reply": "2021-07-28T15:38:00.666730Z",
     "shell.execute_reply.started": "2021-07-28T15:38:00.641408Z"
    },
    "tags": []
   },
   "outputs": [],
   "source": [
    "def write_condition_reports(subject, experiment, condition, probe, use_spw_params=True):\n",
    "    drift_tracking_chans = ea.get_channels(subject, experiment, probe, \"drift_tracking\")\n",
    "\n",
    "    if use_spw_params:\n",
    "        spw_params_path = ea.get_datapath(\n",
    "            \"sharp_wave_detection_params.json\", subject, experiment\n",
    "        )\n",
    "        with open(spw_params_path) as spw_params_file:\n",
    "            spw_params = json.load(spw_params_file)\n",
    "            csd_params = spw_params[\"csd_params\"]\n",
    "    else:\n",
    "        internal_reference = ea.get_channels(\n",
    "            subject, experiment, probe, \"internal_reference\"\n",
    "        )\n",
    "\n",
    "    bin_paths = ea.get_sglx_style_datapaths(\n",
    "        subject, experiment, condition, ext=\"lf.bin\"\n",
    "    )\n",
    "    pdf_paths = ea.get_sglx_style_datapaths(\n",
    "        subject, experiment, condition, ext=\"CSD_SR_markers.pdf\"\n",
    "    )\n",
    "\n",
    "    for bin_path, pdf_path in zip(bin_paths, pdf_paths):\n",
    "        sig = load_trigger(bin_path, drift_tracking_chans)\n",
    "        \n",
    "        if use_spw_params:\n",
    "            csd = get_kcsd(\n",
    "                sig,\n",
    "                np.arange(0, len(sig.channel)) * csd_params[\"electrode_pitch\"],\n",
    "                drop_chans=csd_params[\"channels_omitted_from_csd_estimation\"],\n",
    "                do_lcurve=False,\n",
    "                gdx=csd_params[\"gdx\"],\n",
    "                R_init=csd_params[\"R\"],\n",
    "                lambd=csd_params[\"lambd\"],\n",
    "            ).swap_dims({\"pos\": \"channel\"})\n",
    "        else:\n",
    "            electrode_pitch = 0.020\n",
    "            csd = get_kcsd(\n",
    "                sig,\n",
    "                np.arange(len(sig.channel)) * electrode_pitch,\n",
    "                drop_chans=internal_reference,\n",
    "                do_lcurve=True,\n",
    "                gdx=electrode_pitch,\n",
    "            ).swap_dims({\"pos\": \"channel\"})\n",
    "\n",
    "        write_file_report(csd, 300, pdf_path)\n",
    "        write_file_report(csd, 60, pdf_path)\n",
    "\n",
    "        current_time = datetime.now().strftime(\"%H:%M:%S\")\n",
    "        print(f\"{current_time}: Finished {str(bin_path)}\")"
   ]
  },
  {
   "cell_type": "code",
   "execution_count": 20,
   "metadata": {
    "execution": {
     "iopub.execute_input": "2021-07-28T15:38:00.843060Z",
     "iopub.status.busy": "2021-07-28T15:38:00.842756Z",
     "iopub.status.idle": "2021-07-28T19:17:22.673398Z",
     "shell.execute_reply": "2021-07-28T19:17:22.672638Z",
     "shell.execute_reply.started": "2021-07-28T15:38:00.843041Z"
    },
    "tags": []
   },
   "outputs": [
    {
     "name": "stdout",
     "output_type": "stream",
     "text": [
      "nChan: 385, nFileSamp: 18000031\n",
      "10:45:25: Finished /Volumes/neuropixel_archive/Data/chronic/CNPIX10-Charles/7-10-2021/7-10-2021_g0/7-10-2021_g0_imec1/7-10-2021_g0_t0.imec1.lf.bin\n",
      "nChan: 385, nFileSamp: 18000031\n",
      "10:52:14: Finished /Volumes/neuropixel_archive/Data/chronic/CNPIX10-Charles/7-10-2021/7-10-2021_g0/7-10-2021_g0_imec1/7-10-2021_g0_t1.imec1.lf.bin\n",
      "nChan: 385, nFileSamp: 18000032\n",
      "10:58:50: Finished /Volumes/neuropixel_archive/Data/chronic/CNPIX10-Charles/7-10-2021/7-10-2021_g0/7-10-2021_g0_imec1/7-10-2021_g0_t2.imec1.lf.bin\n",
      "nChan: 385, nFileSamp: 18000031\n",
      "11:05:48: Finished /Volumes/neuropixel_archive/Data/chronic/CNPIX10-Charles/7-10-2021/7-10-2021_g0/7-10-2021_g0_imec1/7-10-2021_g0_t3.imec1.lf.bin\n",
      "nChan: 385, nFileSamp: 18000032\n",
      "11:13:04: Finished /Volumes/neuropixel_archive/Data/chronic/CNPIX10-Charles/7-10-2021/7-10-2021_g0/7-10-2021_g0_imec1/7-10-2021_g0_t4.imec1.lf.bin\n",
      "nChan: 385, nFileSamp: 18000032\n",
      "11:20:10: Finished /Volumes/neuropixel_archive/Data/chronic/CNPIX10-Charles/7-10-2021/7-10-2021_g0/7-10-2021_g0_imec1/7-10-2021_g0_t5.imec1.lf.bin\n",
      "nChan: 385, nFileSamp: 18000031\n",
      "11:27:43: Finished /Volumes/neuropixel_archive/Data/chronic/CNPIX10-Charles/7-10-2021/7-10-2021_g0/7-10-2021_g0_imec1/7-10-2021_g0_t6.imec1.lf.bin\n",
      "nChan: 385, nFileSamp: 18000032\n",
      "11:34:13: Finished /Volumes/neuropixel_archive/Data/chronic/CNPIX10-Charles/7-10-2021/7-10-2021_g0/7-10-2021_g0_imec1/7-10-2021_g0_t7.imec1.lf.bin\n",
      "nChan: 385, nFileSamp: 18000031\n",
      "11:41:15: Finished /Volumes/neuropixel_archive/Data/chronic/CNPIX10-Charles/7-10-2021/7-10-2021_g0/7-10-2021_g0_imec1/7-10-2021_g0_t8.imec1.lf.bin\n",
      "nChan: 385, nFileSamp: 18000031\n",
      "11:48:38: Finished /Volumes/neuropixel_archive/Data/chronic/CNPIX10-Charles/7-10-2021/7-10-2021_g0/7-10-2021_g0_imec1/7-10-2021_g0_t9.imec1.lf.bin\n",
      "nChan: 385, nFileSamp: 18000032\n",
      "11:56:49: Finished /Volumes/neuropixel_archive/Data/chronic/CNPIX10-Charles/7-10-2021/7-10-2021_g0/7-10-2021_g0_imec1/7-10-2021_g0_t10.imec1.lf.bin\n",
      "nChan: 385, nFileSamp: 1825006\n",
      "12:10:01: Finished /Volumes/neuropixel_archive/Data/chronic/CNPIX10-Charles/7-10-2021/7-10-2021_g0/7-10-2021_g0_imec1/7-10-2021_g0_t11.imec1.lf.bin\n",
      "nChan: 385, nFileSamp: 18000032\n",
      "12:19:16: Finished /Volumes/neuropixel_archive/Data/chronic/CNPIX10-Charles/7-10-2021/7-11-2021_g0/7-11-2021_g0_imec1/7-11-2021_g0_t0.imec1.lf.bin\n",
      "nChan: 385, nFileSamp: 18000032\n",
      "12:27:01: Finished /Volumes/neuropixel_archive/Data/chronic/CNPIX10-Charles/7-10-2021/7-11-2021_g0/7-11-2021_g0_imec1/7-11-2021_g0_t1.imec1.lf.bin\n",
      "nChan: 385, nFileSamp: 15007083\n",
      "12:34:14: Finished /Volumes/neuropixel_archive/Data/chronic/CNPIX10-Charles/7-10-2021/7-11-2021_g0/7-11-2021_g0_imec1/7-11-2021_g0_t2.imec1.lf.bin\n",
      "nChan: 385, nFileSamp: 18000032\n",
      "13:03:32: Finished /Volumes/neuropixel_archive/Data/chronic/CNPIX10-Charles/7-10-2021/7-11-2021_g1/7-11-2021_g1_imec1/7-11-2021_g1_t0.imec1.lf.bin\n",
      "nChan: 385, nFileSamp: 18000031\n",
      "13:16:56: Finished /Volumes/neuropixel_archive/Data/chronic/CNPIX10-Charles/7-10-2021/7-11-2021_g1/7-11-2021_g1_imec1/7-11-2021_g1_t1.imec1.lf.bin\n",
      "nChan: 385, nFileSamp: 18000031\n",
      "13:24:18: Finished /Volumes/neuropixel_archive/Data/chronic/CNPIX10-Charles/7-10-2021/7-11-2021_g1/7-11-2021_g1_imec1/7-11-2021_g1_t2.imec1.lf.bin\n",
      "nChan: 385, nFileSamp: 18000032\n",
      "13:34:13: Finished /Volumes/neuropixel_archive/Data/chronic/CNPIX10-Charles/7-10-2021/7-11-2021_g1/7-11-2021_g1_imec1/7-11-2021_g1_t3.imec1.lf.bin\n",
      "nChan: 385, nFileSamp: 18000032\n",
      "13:53:29: Finished /Volumes/neuropixel_archive/Data/chronic/CNPIX10-Charles/7-10-2021/7-11-2021_g1/7-11-2021_g1_imec1/7-11-2021_g1_t4.imec1.lf.bin\n",
      "nChan: 385, nFileSamp: 18000031\n",
      "14:01:03: Finished /Volumes/neuropixel_archive/Data/chronic/CNPIX10-Charles/7-10-2021/7-11-2021_g1/7-11-2021_g1_imec1/7-11-2021_g1_t5.imec1.lf.bin\n",
      "nChan: 385, nFileSamp: 18000032\n",
      "14:09:17: Finished /Volumes/neuropixel_archive/Data/chronic/CNPIX10-Charles/7-10-2021/7-11-2021_g1/7-11-2021_g1_imec1/7-11-2021_g1_t6.imec1.lf.bin\n",
      "nChan: 385, nFileSamp: 18000032\n",
      "14:15:42: Finished /Volumes/neuropixel_archive/Data/chronic/CNPIX10-Charles/7-10-2021/7-11-2021_g1/7-11-2021_g1_imec1/7-11-2021_g1_t7.imec1.lf.bin\n",
      "nChan: 385, nFileSamp: 4731969\n",
      "14:17:22: Finished /Volumes/neuropixel_archive/Data/chronic/CNPIX10-Charles/7-10-2021/7-11-2021_g1/7-11-2021_g1_imec1/7-11-2021_g1_t8.imec1.lf.bin\n"
     ]
    }
   ],
   "source": [
    "write_condition_reports(\"Charles\", \"sleep-homeostasis\", \"all\", \"imec1\")"
   ]
  },
  {
   "cell_type": "code",
   "execution_count": null,
   "metadata": {},
   "outputs": [],
   "source": []
  }
 ],
 "metadata": {
  "kernelspec": {
   "display_name": "Python 3 (ipykernel)",
   "language": "python",
   "name": "python3"
  },
  "language_info": {
   "codemirror_mode": {
    "name": "ipython",
    "version": 3
   },
   "file_extension": ".py",
   "mimetype": "text/x-python",
   "name": "python",
   "nbconvert_exporter": "python",
   "pygments_lexer": "ipython3",
   "version": "3.7.10"
  }
 },
 "nbformat": 4,
 "nbformat_minor": 4
}
