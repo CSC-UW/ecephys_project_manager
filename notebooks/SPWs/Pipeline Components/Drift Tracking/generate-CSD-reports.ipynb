{
 "cells": [
  {
   "cell_type": "markdown",
   "metadata": {},
   "source": [
    "CSD estimation is about twice as fast if you can use parameters from another file and avoid L-Curve. "
   ]
  },
  {
   "cell_type": "code",
   "execution_count": 1,
   "metadata": {
    "execution": {
     "iopub.execute_input": "2021-07-23T17:58:19.419282Z",
     "iopub.status.busy": "2021-07-23T17:58:19.419162Z",
     "iopub.status.idle": "2021-07-23T17:58:19.427370Z",
     "shell.execute_reply": "2021-07-23T17:58:19.426800Z",
     "shell.execute_reply.started": "2021-07-23T17:58:19.419266Z"
    }
   },
   "outputs": [],
   "source": [
    "%load_ext autoreload\n",
    "%autoreload 2"
   ]
  },
  {
   "cell_type": "code",
   "execution_count": 2,
   "metadata": {
    "execution": {
     "iopub.execute_input": "2021-07-23T17:58:20.021840Z",
     "iopub.status.busy": "2021-07-23T17:58:20.021720Z",
     "iopub.status.idle": "2021-07-23T17:58:20.596658Z",
     "shell.execute_reply": "2021-07-23T17:58:20.596147Z",
     "shell.execute_reply.started": "2021-07-23T17:58:20.021824Z"
    }
   },
   "outputs": [],
   "source": [
    "from sglxarray import load_trigger\n",
    "from ecephys.xrsig import get_kcsd\n",
    "import ecephys_analyses as ea"
   ]
  },
  {
   "cell_type": "code",
   "execution_count": 3,
   "metadata": {
    "execution": {
     "iopub.execute_input": "2021-07-23T17:58:20.610006Z",
     "iopub.status.busy": "2021-07-23T17:58:20.609880Z",
     "iopub.status.idle": "2021-07-23T17:58:20.639899Z",
     "shell.execute_reply": "2021-07-23T17:58:20.639442Z",
     "shell.execute_reply.started": "2021-07-23T17:58:20.609989Z"
    }
   },
   "outputs": [],
   "source": [
    "import numpy as np\n",
    "import pandas as pd\n",
    "import seaborn as sns\n",
    "from scipy.signal import find_peaks\n",
    "import matplotlib.pyplot as plt\n",
    "from matplotlib.backends.backend_pdf import PdfPages\n",
    "from datetime import datetime"
   ]
  },
  {
   "cell_type": "code",
   "execution_count": 4,
   "metadata": {
    "execution": {
     "iopub.execute_input": "2021-07-23T17:58:21.022920Z",
     "iopub.status.busy": "2021-07-23T17:58:21.022675Z",
     "iopub.status.idle": "2021-07-23T17:58:21.043023Z",
     "shell.execute_reply": "2021-07-23T17:58:21.042249Z",
     "shell.execute_reply.started": "2021-07-23T17:58:21.022890Z"
    }
   },
   "outputs": [],
   "source": [
    "def plot_epoched_profile(da, figsize=(36, 8)):\n",
    "    fig, ax = plt.subplots(figsize=figsize)\n",
    "    sns.heatmap(da, xticklabels=da.time.values.round(), yticklabels=da.channel.values, cbar=False)\n",
    "    ax.set(xticks=ax.get_xticks()[::2], yticks=ax.get_yticks()[::4], xlabel='Epoch center time (s)', ylabel='Channel')"
   ]
  },
  {
   "cell_type": "code",
   "execution_count": 5,
   "metadata": {
    "execution": {
     "iopub.execute_input": "2021-07-23T17:58:21.528357Z",
     "iopub.status.busy": "2021-07-23T17:58:21.527859Z",
     "iopub.status.idle": "2021-07-23T17:58:21.553794Z",
     "shell.execute_reply": "2021-07-23T17:58:21.553009Z",
     "shell.execute_reply.started": "2021-07-23T17:58:21.528298Z"
    }
   },
   "outputs": [],
   "source": [
    "def plot_profile(da, figsize=(36, 5), ylabel=None, negative_peaks=False):\n",
    "    fig, ax = plt.subplots(figsize=figsize)\n",
    "    channel_indices = np.arange(len(da.channel))\n",
    "    sns.barplot(x=channel_indices, y=da, color='steelblue', ax=ax)\n",
    "    ax.set(xlabel=\"Channel\", ylabel=ylabel)\n",
    "    ax.set_xticks(channel_indices);\n",
    "    ax.set_xticklabels(da.channel.values, rotation=90);\n",
    "    \n",
    "    if negative_peaks:\n",
    "        peaks, _ = find_peaks(-da.values, prominence=1000, distance=10)\n",
    "    else:\n",
    "        peaks, _ = find_peaks(da.values, prominence=1000, distance=10)\n",
    "    sns.scatterplot(x=peaks, y=da.values[peaks], marker='x', color='red', ax=ax)"
   ]
  },
  {
   "cell_type": "code",
   "execution_count": 6,
   "metadata": {
    "execution": {
     "iopub.execute_input": "2021-07-23T17:58:21.998464Z",
     "iopub.status.busy": "2021-07-23T17:58:21.998182Z",
     "iopub.status.idle": "2021-07-23T17:58:22.033232Z",
     "shell.execute_reply": "2021-07-23T17:58:22.032499Z",
     "shell.execute_reply.started": "2021-07-23T17:58:21.998427Z"
    }
   },
   "outputs": [],
   "source": [
    "def write_file_report(csd, epoch_length, pdf_path):\n",
    "    \n",
    "    if csd.time.values.max() < epoch_length:\n",
    "        return\n",
    "    \n",
    "    epoched_csd_nadirs = csd.coarsen(time=int(csd.fs *epoch_length), boundary='trim', coord_func={\"time\": \"min\"}).min()\n",
    "    epoched_csd_variance = csd.coarsen(time=int(csd.fs *epoch_length), boundary='trim', coord_func={\"time\": \"min\"}).var()\n",
    "    \n",
    "    pdf_path = pdf_path.parent / (pdf_path.stem + f'-{epoch_length}s' + pdf_path.suffix)\n",
    "    with PdfPages(pdf_path) as pdf:\n",
    "        plot_epoched_profile(epoched_csd_variance)\n",
    "        plt.title(f'CSD variance, {epoch_length}s epochs')\n",
    "        pdf.savefig()\n",
    "        plt.close()\n",
    "        \n",
    "        plot_epoched_profile(-epoched_csd_nadirs)\n",
    "        plt.title(f'CSD nadirs, {epoch_length}s epochs')\n",
    "        pdf.savefig()\n",
    "        plt.close()\n",
    "\n",
    "        for epoch in range(epoched_csd_nadirs.shape[1]):\n",
    "            plot_profile(epoched_csd_variance[:, epoch], ylabel=\"CSD variance\")\n",
    "            plt.title(f'CSD variance, epoch: {epoch}, time: {epoched_csd_nadirs.time.values[epoch]}s')\n",
    "            pdf.savefig()\n",
    "            plt.close()\n",
    "            \n",
    "            plot_profile(epoched_csd_nadirs[:, epoch], ylabel=\"Deepest CSD sink (mA/mm)\", negative_peaks=True)\n",
    "            plt.title(f'CSD nadirs, epoch: {epoch}, time: {epoched_csd_nadirs.time.values[epoch]}s')\n",
    "            pdf.savefig()\n",
    "            plt.close()\n",
    "\n",
    "        d = pdf.infodict()\n",
    "        d['Title'] = f'{pdf_path.stem}'\n",
    "        d['Author'] = 'Graham Findlay'\n",
    "        d['Subject'] = 'CSD nadir profiles for tracking CA1 drift'\n",
    "        d['CreationDate'] = datetime.now()"
   ]
  },
  {
   "cell_type": "code",
   "execution_count": 9,
   "metadata": {
    "execution": {
     "iopub.execute_input": "2021-07-23T20:07:54.596309Z",
     "iopub.status.busy": "2021-07-23T20:07:54.595780Z",
     "iopub.status.idle": "2021-07-23T20:07:54.629965Z",
     "shell.execute_reply": "2021-07-23T20:07:54.629285Z",
     "shell.execute_reply.started": "2021-07-23T20:07:54.596245Z"
    }
   },
   "outputs": [],
   "source": [
    "def write_condition_reports(subject, experiment, condition, probe, use_spw_params=True):\n",
    "    drift_tracking_chans = ea.get_channels(subject, experiment, probe, \"drift_tracking\")\n",
    "\n",
    "    if use_spw_params:\n",
    "        spw_params_path = ea.get_datapath(\n",
    "            \"sharp_wave_detection_params.json\", subject, experiment\n",
    "        )\n",
    "        with open(spw_params_path) as spw_params_file:\n",
    "            spw_params = json.load(spw_params_file)\n",
    "            csd_params = spw_params[\"csd_params\"]\n",
    "    else:\n",
    "        internal_reference = ea.get_channels(\n",
    "            subject, experiment, probe, \"internal_reference\"\n",
    "        )\n",
    "\n",
    "    bin_paths = ea.get_sglx_style_datapaths(\n",
    "        subject, experiment, condition, ext=\"lf.bin\"\n",
    "    )\n",
    "    pdf_paths = ea.get_sglx_style_datapaths(\n",
    "        subject, experiment, condition, ext=\"CSD_SR_markers.pdf\"\n",
    "    )\n",
    "\n",
    "    for bin_path, pdf_path in zip(bin_paths, pdf_paths):\n",
    "        sig = load_trigger(bin_path, drift_tracking_chans)\n",
    "        \n",
    "        if use_spw_params:\n",
    "            csd = get_kcsd(\n",
    "                sig,\n",
    "                np.arange(0, len(sig.channel)) * csd_params[\"electrode_pitch\"],\n",
    "                drop_chans=csd_params[\"channels_omitted_from_csd_estimation\"],\n",
    "                do_lcurve=False,\n",
    "                gdx=csd_params[\"gdx\"],\n",
    "                R_init=csd_params[\"R\"],\n",
    "                lambd=csd_params[\"lambd\"],\n",
    "            ).swap_dims({\"pos\": \"channel\"})\n",
    "        else:\n",
    "            electrode_pitch = 0.020\n",
    "            csd = get_kcsd(\n",
    "                sig,\n",
    "                np.arange(len(sig.channel)) * electrode_pitch,\n",
    "                drop_chans=internal_reference,\n",
    "                do_lcurve=True,\n",
    "                gdx=electrode_pitch,\n",
    "            ).swap_dims({\"pos\": \"channel\"})\n",
    "\n",
    "        write_file_report(csd, 300, pdf_path)\n",
    "        write_file_report(csd, 60, pdf_path)\n",
    "\n",
    "        current_time = datetime.now().strftime(\"%H:%M:%S\")\n",
    "        print(f\"{current_time}: Finished {str(bin_path)}\")"
   ]
  },
  {
   "cell_type": "code",
   "execution_count": null,
   "metadata": {
    "execution": {
     "iopub.execute_input": "2021-07-23T20:12:03.031526Z",
     "iopub.status.busy": "2021-07-23T20:12:03.031017Z"
    }
   },
   "outputs": [
    {
     "name": "stdout",
     "output_type": "stream",
     "text": [
      "nChan: 385, nFileSamp: 18000070\n",
      "15:19:49: Finished /Volumes/neuropixel_archive/Data/chronic/CNPIX9-Luigi/6-20-2021/6-20-2021_g0/6-20-2021_g0_imec0/6-20-2021_g0_t0.imec0.lf.bin\n",
      "nChan: 385, nFileSamp: 18000070\n",
      "15:27:58: Finished /Volumes/neuropixel_archive/Data/chronic/CNPIX9-Luigi/6-20-2021/6-20-2021_g0/6-20-2021_g0_imec0/6-20-2021_g0_t1.imec0.lf.bin\n",
      "nChan: 385, nFileSamp: 18000070\n",
      "15:35:58: Finished /Volumes/neuropixel_archive/Data/chronic/CNPIX9-Luigi/6-20-2021/6-20-2021_g0/6-20-2021_g0_imec0/6-20-2021_g0_t2.imec0.lf.bin\n",
      "nChan: 385, nFileSamp: 18000070\n",
      "15:44:27: Finished /Volumes/neuropixel_archive/Data/chronic/CNPIX9-Luigi/6-20-2021/6-20-2021_g0/6-20-2021_g0_imec0/6-20-2021_g0_t3.imec0.lf.bin\n",
      "nChan: 385, nFileSamp: 18000070\n",
      "15:52:07: Finished /Volumes/neuropixel_archive/Data/chronic/CNPIX9-Luigi/6-20-2021/6-20-2021_g0/6-20-2021_g0_imec0/6-20-2021_g0_t4.imec0.lf.bin\n",
      "nChan: 385, nFileSamp: 18000070\n",
      "16:00:30: Finished /Volumes/neuropixel_archive/Data/chronic/CNPIX9-Luigi/6-20-2021/6-20-2021_g0/6-20-2021_g0_imec0/6-20-2021_g0_t5.imec0.lf.bin\n",
      "nChan: 385, nFileSamp: 18000071\n",
      "16:09:10: Finished /Volumes/neuropixel_archive/Data/chronic/CNPIX9-Luigi/6-20-2021/6-20-2021_g0/6-20-2021_g0_imec0/6-20-2021_g0_t6.imec0.lf.bin\n",
      "nChan: 385, nFileSamp: 18000070\n",
      "16:17:05: Finished /Volumes/neuropixel_archive/Data/chronic/CNPIX9-Luigi/6-20-2021/6-20-2021_g0/6-20-2021_g0_imec0/6-20-2021_g0_t7.imec0.lf.bin\n",
      "nChan: 385, nFileSamp: 18000070\n",
      "16:25:41: Finished /Volumes/neuropixel_archive/Data/chronic/CNPIX9-Luigi/6-20-2021/6-20-2021_g0/6-20-2021_g0_imec0/6-20-2021_g0_t8.imec0.lf.bin\n",
      "nChan: 385, nFileSamp: 18000071\n",
      "16:33:09: Finished /Volumes/neuropixel_archive/Data/chronic/CNPIX9-Luigi/6-20-2021/6-20-2021_g0/6-20-2021_g0_imec0/6-20-2021_g0_t9.imec0.lf.bin\n",
      "nChan: 385, nFileSamp: 18000070\n",
      "16:41:10: Finished /Volumes/neuropixel_archive/Data/chronic/CNPIX9-Luigi/6-20-2021/6-20-2021_g0/6-20-2021_g0_imec0/6-20-2021_g0_t10.imec0.lf.bin\n",
      "nChan: 385, nFileSamp: 17203190\n",
      "16:48:11: Finished /Volumes/neuropixel_archive/Data/chronic/CNPIX9-Luigi/6-20-2021/6-20-2021_g0/6-20-2021_g0_imec0/6-20-2021_g0_t11.imec0.lf.bin\n",
      "nChan: 385, nFileSamp: 18000071\n",
      "16:58:02: Finished /Volumes/neuropixel_archive/Data/chronic/CNPIX9-Luigi/6-20-2021/6-21-2021_g0/6-21-2021_g0_imec0/6-21-2021_g0_t0.imec0.lf.bin\n",
      "nChan: 385, nFileSamp: 18000070\n",
      "17:08:10: Finished /Volumes/neuropixel_archive/Data/chronic/CNPIX9-Luigi/6-20-2021/6-21-2021_g0/6-21-2021_g0_imec0/6-21-2021_g0_t1.imec0.lf.bin\n",
      "nChan: 385, nFileSamp: 17719059\n",
      "17:18:22: Finished /Volumes/neuropixel_archive/Data/chronic/CNPIX9-Luigi/6-20-2021/6-21-2021_g0/6-21-2021_g0_imec0/6-21-2021_g0_t2.imec0.lf.bin\n",
      "nChan: 385, nFileSamp: 18000070\n"
     ]
    }
   ],
   "source": [
    "write_condition_reports(\"Luigi\", \"sleep-homeostasis\", \"all\", \"imec0\")"
   ]
  },
  {
   "cell_type": "code",
   "execution_count": null,
   "metadata": {},
   "outputs": [],
   "source": []
  }
 ],
 "metadata": {
  "kernelspec": {
   "display_name": "Python 3",
   "language": "python",
   "name": "python3"
  },
  "language_info": {
   "codemirror_mode": {
    "name": "ipython",
    "version": 3
   },
   "file_extension": ".py",
   "mimetype": "text/x-python",
   "name": "python",
   "nbconvert_exporter": "python",
   "pygments_lexer": "ipython3",
   "version": "3.7.9"
  }
 },
 "nbformat": 4,
 "nbformat_minor": 4
}
