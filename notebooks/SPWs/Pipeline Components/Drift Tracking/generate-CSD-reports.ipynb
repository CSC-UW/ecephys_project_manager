{
 "cells": [
  {
   "cell_type": "markdown",
   "metadata": {},
   "source": [
    "CSD estimation is about twice as fast if you can use parameters from another file and avoid L-Curve. "
   ]
  },
  {
   "cell_type": "code",
   "execution_count": 1,
   "metadata": {
    "execution": {
     "iopub.execute_input": "2021-05-22T00:08:03.961967Z",
     "iopub.status.busy": "2021-05-22T00:08:03.961638Z",
     "iopub.status.idle": "2021-05-22T00:08:03.978826Z",
     "shell.execute_reply": "2021-05-22T00:08:03.978086Z",
     "shell.execute_reply.started": "2021-05-22T00:08:03.961927Z"
    }
   },
   "outputs": [],
   "source": [
    "%load_ext autoreload\n",
    "%autoreload 2"
   ]
  },
  {
   "cell_type": "code",
   "execution_count": 2,
   "metadata": {
    "execution": {
     "iopub.execute_input": "2021-05-22T00:08:04.165913Z",
     "iopub.status.busy": "2021-05-22T00:08:04.165544Z",
     "iopub.status.idle": "2021-05-22T00:08:04.783132Z",
     "shell.execute_reply": "2021-05-22T00:08:04.782215Z",
     "shell.execute_reply.started": "2021-05-22T00:08:04.165865Z"
    }
   },
   "outputs": [],
   "source": [
    "from ecephys.sglx_utils import load_trigger\n",
    "from ecephys.signal.csd import get_kcsd\n",
    "import ecephys_analyses as ea"
   ]
  },
  {
   "cell_type": "code",
   "execution_count": 3,
   "metadata": {
    "execution": {
     "iopub.execute_input": "2021-05-22T00:08:04.799685Z",
     "iopub.status.busy": "2021-05-22T00:08:04.799546Z",
     "iopub.status.idle": "2021-05-22T00:08:04.890020Z",
     "shell.execute_reply": "2021-05-22T00:08:04.889211Z",
     "shell.execute_reply.started": "2021-05-22T00:08:04.799668Z"
    }
   },
   "outputs": [],
   "source": [
    "import numpy as np\n",
    "import pandas as pd\n",
    "import seaborn as sns\n",
    "from scipy.signal import find_peaks\n",
    "import matplotlib.pyplot as plt\n",
    "from matplotlib.backends.backend_pdf import PdfPages\n",
    "from datetime import datetime"
   ]
  },
  {
   "cell_type": "code",
   "execution_count": 4,
   "metadata": {
    "execution": {
     "iopub.execute_input": "2021-05-22T00:08:04.891139Z",
     "iopub.status.busy": "2021-05-22T00:08:04.890984Z",
     "iopub.status.idle": "2021-05-22T00:08:04.905075Z",
     "shell.execute_reply": "2021-05-22T00:08:04.904184Z",
     "shell.execute_reply.started": "2021-05-22T00:08:04.891118Z"
    }
   },
   "outputs": [],
   "source": [
    "def plot_epoched_profile(da, figsize=(36, 8)):\n",
    "    fig, ax = plt.subplots(figsize=figsize)\n",
    "    sns.heatmap(da, xticklabels=da.time.values.round(), yticklabels=da.channel.values, cbar=False)\n",
    "    ax.set(xticks=ax.get_xticks()[::2], yticks=ax.get_yticks()[::4], xlabel='Epoch center time (s)', ylabel='Channel')"
   ]
  },
  {
   "cell_type": "code",
   "execution_count": 5,
   "metadata": {
    "execution": {
     "iopub.execute_input": "2021-05-22T00:08:05.077230Z",
     "iopub.status.busy": "2021-05-22T00:08:05.076936Z",
     "iopub.status.idle": "2021-05-22T00:08:05.097334Z",
     "shell.execute_reply": "2021-05-22T00:08:05.096447Z",
     "shell.execute_reply.started": "2021-05-22T00:08:05.077199Z"
    }
   },
   "outputs": [],
   "source": [
    "def plot_profile(da, figsize=(36, 5), ylabel=None, negative_peaks=False):\n",
    "    fig, ax = plt.subplots(figsize=figsize)\n",
    "    channel_indices = np.arange(len(da.channel))\n",
    "    sns.barplot(x=channel_indices, y=da, color='steelblue', ax=ax)\n",
    "    ax.set(xlabel=\"Channel\", ylabel=ylabel)\n",
    "    ax.set_xticks(channel_indices);\n",
    "    ax.set_xticklabels(da.channel.values, rotation=90);\n",
    "    \n",
    "    if negative_peaks:\n",
    "        peaks, _ = find_peaks(-da.values, prominence=1000, distance=10)\n",
    "    else:\n",
    "        peaks, _ = find_peaks(da.values, prominence=1000, distance=10)\n",
    "    sns.scatterplot(x=peaks, y=da.values[peaks], marker='x', color='red', ax=ax)"
   ]
  },
  {
   "cell_type": "code",
   "execution_count": 6,
   "metadata": {
    "execution": {
     "iopub.execute_input": "2021-05-22T00:08:05.678058Z",
     "iopub.status.busy": "2021-05-22T00:08:05.677659Z",
     "iopub.status.idle": "2021-05-22T00:08:05.714393Z",
     "shell.execute_reply": "2021-05-22T00:08:05.713466Z",
     "shell.execute_reply.started": "2021-05-22T00:08:05.678009Z"
    }
   },
   "outputs": [],
   "source": [
    "def write_file_report(csd, epoch_length, pdf_path):\n",
    "    \n",
    "    if csd.time.values.max() < epoch_length:\n",
    "        return\n",
    "    \n",
    "    epoched_csd_nadirs = csd.coarsen(time=int(csd.fs *epoch_length), boundary='trim', coord_func={\"time\": \"min\"}).min()\n",
    "    epoched_csd_variance = csd.coarsen(time=int(csd.fs *epoch_length), boundary='trim', coord_func={\"time\": \"min\"}).var()\n",
    "    \n",
    "    pdf_path = pdf_path.parent / (pdf_path.stem + f'-{epoch_length}s' + pdf_path.suffix)\n",
    "    with PdfPages(pdf_path) as pdf:\n",
    "        plot_epoched_profile(epoched_csd_variance)\n",
    "        plt.title(f'CSD variance, {epoch_length}s epochs')\n",
    "        pdf.savefig()\n",
    "        plt.close()\n",
    "        \n",
    "        plot_epoched_profile(-epoched_csd_nadirs)\n",
    "        plt.title(f'CSD nadirs, {epoch_length}s epochs')\n",
    "        pdf.savefig()\n",
    "        plt.close()\n",
    "\n",
    "        for epoch in range(epoched_csd_nadirs.shape[1]):\n",
    "            plot_profile(epoched_csd_variance[:, epoch], ylabel=\"CSD variance\")\n",
    "            plt.title(f'CSD variance, epoch: {epoch}, time: {epoched_csd_nadirs.time.values[epoch]}s')\n",
    "            pdf.savefig()\n",
    "            plt.close()\n",
    "            \n",
    "            plot_profile(epoched_csd_nadirs[:, epoch], ylabel=\"Deepest CSD sink (mA/mm)\", negative_peaks=True)\n",
    "            plt.title(f'CSD nadirs, epoch: {epoch}, time: {epoched_csd_nadirs.time.values[epoch]}s')\n",
    "            pdf.savefig()\n",
    "            plt.close()\n",
    "\n",
    "        d = pdf.infodict()\n",
    "        d['Title'] = f'{pdf_path.stem}'\n",
    "        d['Author'] = 'Graham Findlay'\n",
    "        d['Subject'] = 'CSD nadir profiles for tracking CA1 drift'\n",
    "        d['CreationDate'] = datetime.now()"
   ]
  },
  {
   "cell_type": "code",
   "execution_count": 9,
   "metadata": {
    "execution": {
     "iopub.execute_input": "2021-05-22T00:08:53.482902Z",
     "iopub.status.busy": "2021-05-22T00:08:53.482566Z",
     "iopub.status.idle": "2021-05-22T00:08:53.553302Z",
     "shell.execute_reply": "2021-05-22T00:08:53.552235Z",
     "shell.execute_reply.started": "2021-05-22T00:08:53.482864Z"
    }
   },
   "outputs": [],
   "source": [
    "def write_condition_reports(subject, experiment, condition, probe, use_spw_params=True):\n",
    "    drift_tracking_chans = ea.get_channels(subject, experiment, probe, \"drift_tracking\")\n",
    "\n",
    "    if use_spw_params:\n",
    "        spw_params_path = ea.get_datapath(\n",
    "            \"sharp_wave_detection_params.json\", subject, experiment\n",
    "        )\n",
    "        with open(spw_params_path) as spw_params_file:\n",
    "            spw_params = json.load(spw_params_file)\n",
    "            csd_params = spw_params[\"csd_params\"]\n",
    "    else:\n",
    "        internal_reference = ea.get_channels(\n",
    "            subject, experiment, probe, \"internal_reference\"\n",
    "        )\n",
    "\n",
    "    bin_paths = ea.get_sglx_style_datapaths(\n",
    "        subject, experiment, condition, ext=\"lf.bin\"\n",
    "    )\n",
    "    pdf_paths = ea.get_sglx_style_datapaths(\n",
    "        subject, experiment, condition, ext=\"CSD_SR_markers.pdf\"\n",
    "    )\n",
    "\n",
    "    for bin_path, pdf_path in zip(bin_paths, pdf_paths):\n",
    "        sig = load_trigger(bin_path, drift_tracking_chans)\n",
    "        \n",
    "        if use_spw_params:\n",
    "            csd = get_kcsd(\n",
    "                sig,\n",
    "                np.arange(0, len(sig.channel)) * csd_params[\"electrode_pitch\"],\n",
    "                drop_chans=csd_params[\"channels_omitted_from_csd_estimation\"],\n",
    "                do_lcurve=False,\n",
    "                gdx=csd_params[\"gdx\"],\n",
    "                R_init=csd_params[\"R\"],\n",
    "                lambd=csd_params[\"lambd\"],\n",
    "            ).swap_dims({\"pos\": \"channel\"})\n",
    "        else:\n",
    "            electrode_pitch = 0.020\n",
    "            csd = get_kcsd(\n",
    "                sig,\n",
    "                np.arange(len(sig.channel)) * electrode_pitch,\n",
    "                drop_chans=internal_reference,\n",
    "                do_lcurve=True,\n",
    "                gdx=electrode_pitch,\n",
    "            ).swap_dims({\"pos\": \"channel\"})\n",
    "\n",
    "        write_file_report(csd, 300, pdf_path)\n",
    "        write_file_report(csd, 60, pdf_path)\n",
    "\n",
    "        current_time = datetime.now().strftime(\"%H:%M:%S\")\n",
    "        print(f\"{current_time}: Finished {str(bin_path)}\")"
   ]
  },
  {
   "cell_type": "code",
   "execution_count": 10,
   "metadata": {
    "execution": {
     "iopub.execute_input": "2021-05-22T00:08:54.883875Z",
     "iopub.status.busy": "2021-05-22T00:08:54.883511Z",
     "iopub.status.idle": "2021-05-22T00:27:25.169031Z",
     "shell.execute_reply": "2021-05-22T00:27:25.168399Z",
     "shell.execute_reply.started": "2021-05-22T00:08:54.883837Z"
    }
   },
   "outputs": [
    {
     "name": "stdout",
     "output_type": "stream",
     "text": [
      "nChan: 385, nFileSamp: 9000060\n",
      "19:13:30: Finished /Volumes/neuropixel_archive/Data/chronic/CNPIX4-Doppio/4-24-2020/4-24-2020_g0/4-24-2020_g0_imec1/4-24-2020_g0_t0.imec1.lf.bin\n",
      "nChan: 385, nFileSamp: 9000059\n",
      "19:18:52: Finished /Volumes/neuropixel_archive/Data/chronic/CNPIX4-Doppio/4-24-2020/4-24-2020_g0/4-24-2020_g0_imec1/4-24-2020_g0_t1.imec1.lf.bin\n",
      "nChan: 385, nFileSamp: 9000059\n",
      "19:23:13: Finished /Volumes/neuropixel_archive/Data/chronic/CNPIX4-Doppio/4-24-2020/4-24-2020_g0/4-24-2020_g0_imec1/4-24-2020_g0_t2.imec1.lf.bin\n",
      "nChan: 385, nFileSamp: 9000060\n",
      "19:27:24: Finished /Volumes/neuropixel_archive/Data/chronic/CNPIX4-Doppio/4-24-2020/4-24-2020_g0/4-24-2020_g0_imec1/4-24-2020_g0_t3.imec1.lf.bin\n"
     ]
    }
   ],
   "source": [
    "write_condition_reports(\"Doppio\", \"ketamine-120mg\", \"all\", \"imec1\")"
   ]
  },
  {
   "cell_type": "code",
   "execution_count": null,
   "metadata": {},
   "outputs": [],
   "source": []
  }
 ],
 "metadata": {
  "kernelspec": {
   "display_name": "Python 3",
   "language": "python",
   "name": "python3"
  },
  "language_info": {
   "codemirror_mode": {
    "name": "ipython",
    "version": 3
   },
   "file_extension": ".py",
   "mimetype": "text/x-python",
   "name": "python",
   "nbconvert_exporter": "python",
   "pygments_lexer": "ipython3",
   "version": "3.7.9"
  }
 },
 "nbformat": 4,
 "nbformat_minor": 4
}
