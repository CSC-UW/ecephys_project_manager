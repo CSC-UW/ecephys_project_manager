{
 "cells": [
  {
   "cell_type": "code",
   "execution_count": 1,
   "metadata": {
    "execution": {
     "iopub.execute_input": "2021-04-02T19:11:03.129467Z",
     "iopub.status.busy": "2021-04-02T19:11:03.128861Z",
     "iopub.status.idle": "2021-04-02T19:11:03.151367Z",
     "shell.execute_reply": "2021-04-02T19:11:03.150458Z",
     "shell.execute_reply.started": "2021-04-02T19:11:03.129401Z"
    }
   },
   "outputs": [],
   "source": [
    "%load_ext autoreload\n",
    "%autoreload 2\n",
    "from IPython.core.debugger import set_trace"
   ]
  },
  {
   "cell_type": "code",
   "execution_count": 2,
   "metadata": {
    "execution": {
     "iopub.execute_input": "2021-04-02T19:11:03.696426Z",
     "iopub.status.busy": "2021-04-02T19:11:03.695981Z",
     "iopub.status.idle": "2021-04-02T19:11:03.873838Z",
     "shell.execute_reply": "2021-04-02T19:11:03.873090Z",
     "shell.execute_reply.started": "2021-04-02T19:11:03.696369Z"
    }
   },
   "outputs": [],
   "source": [
    "%matplotlib widget\n",
    "import matplotlib.pyplot as plt"
   ]
  },
  {
   "cell_type": "code",
   "execution_count": 3,
   "metadata": {
    "execution": {
     "iopub.execute_input": "2021-04-02T19:11:04.592590Z",
     "iopub.status.busy": "2021-04-02T19:11:04.592130Z",
     "iopub.status.idle": "2021-04-02T19:11:05.155133Z",
     "shell.execute_reply": "2021-04-02T19:11:05.154398Z",
     "shell.execute_reply.started": "2021-04-02T19:11:04.592532Z"
    }
   },
   "outputs": [],
   "source": [
    "import pandas as pd\n",
    "import numpy as np\n",
    "from ast import literal_eval\n",
    "from ecephys_analyses.data import paths, channel_groups\n",
    "from ecephys.scoring import load_datetime_hypnogram\n",
    "from ecephys.plot import plot_hypnogram_overlay\n",
    "import seaborn as sns"
   ]
  },
  {
   "cell_type": "code",
   "execution_count": 4,
   "metadata": {
    "execution": {
     "iopub.execute_input": "2021-04-02T19:11:05.360721Z",
     "iopub.status.busy": "2021-04-02T19:11:05.360266Z",
     "iopub.status.idle": "2021-04-02T19:11:05.383402Z",
     "shell.execute_reply": "2021-04-02T19:11:05.382628Z",
     "shell.execute_reply.started": "2021-04-02T19:11:05.360663Z"
    }
   },
   "outputs": [],
   "source": [
    "def load_datetime_sr_chans(path):\n",
    "    df = pd.read_csv(path, sep=\"\\t\", converters={\"sr_chans\": literal_eval})\n",
    "    df[\"start_time\"] = pd.to_datetime(df[\"start_time\"])\n",
    "    df[\"end_time\"] = pd.to_datetime(df[\"end_time\"])\n",
    "    df[\"duration\"] = pd.to_timedelta(df[\"duration\"])\n",
    "\n",
    "    return df"
   ]
  },
  {
   "cell_type": "code",
   "execution_count": 5,
   "metadata": {
    "execution": {
     "iopub.execute_input": "2021-04-02T19:11:05.744043Z",
     "iopub.status.busy": "2021-04-02T19:11:05.743868Z",
     "iopub.status.idle": "2021-04-02T19:11:05.765021Z",
     "shell.execute_reply": "2021-04-02T19:11:05.764147Z",
     "shell.execute_reply.started": "2021-04-02T19:11:05.744025Z"
    }
   },
   "outputs": [],
   "source": [
    "def load_condition_hypnogram(subject, experiment, condition):\n",
    "    hypnogram_paths = paths.get_sglx_style_datapaths(subject, experiment, condition, ext=\"hypnogram.tsv\")\n",
    "    hypnograms = [load_datetime_hypnogram(path) for path in hypnogram_paths]\n",
    "    return pd.concat(hypnograms).reset_index(drop=True)\n",
    "    \n",
    "def load_condition_sr_chans(subject, experiment, condition):\n",
    "    sr_chans_paths = paths.get_sglx_style_datapaths(subject, experiment, condition, ext=\"sr_chans.tsv\")\n",
    "    sr_chans = [load_datetime_sr_chans(path) for path in sr_chans_paths]\n",
    "    return pd.concat(sr_chans).reset_index(drop=True)"
   ]
  },
  {
   "cell_type": "code",
   "execution_count": 20,
   "metadata": {
    "execution": {
     "iopub.execute_input": "2021-04-02T19:17:07.179739Z",
     "iopub.status.busy": "2021-04-02T19:17:07.179242Z",
     "iopub.status.idle": "2021-04-02T19:17:07.203095Z",
     "shell.execute_reply": "2021-04-02T19:17:07.202266Z",
     "shell.execute_reply.started": "2021-04-02T19:17:07.179677Z"
    }
   },
   "outputs": [],
   "source": [
    "subject=\"Allan\"\n",
    "chan_map = channel_groups.full[\"Allan\"]"
   ]
  },
  {
   "cell_type": "code",
   "execution_count": 21,
   "metadata": {
    "execution": {
     "iopub.execute_input": "2021-04-02T19:17:07.480078Z",
     "iopub.status.busy": "2021-04-02T19:17:07.479630Z",
     "iopub.status.idle": "2021-04-02T19:17:07.818734Z",
     "shell.execute_reply": "2021-04-02T19:17:07.818076Z",
     "shell.execute_reply.started": "2021-04-02T19:17:07.480022Z"
    }
   },
   "outputs": [],
   "source": [
    "df = load_condition_sr_chans(subject, \"sleep-homeostasis\", \"all\")"
   ]
  },
  {
   "cell_type": "code",
   "execution_count": 22,
   "metadata": {
    "execution": {
     "iopub.execute_input": "2021-04-02T19:17:07.840216Z",
     "iopub.status.busy": "2021-04-02T19:17:07.840088Z",
     "iopub.status.idle": "2021-04-02T19:17:07.852815Z",
     "shell.execute_reply": "2021-04-02T19:17:07.852108Z",
     "shell.execute_reply.started": "2021-04-02T19:17:07.840200Z"
    }
   },
   "outputs": [],
   "source": [
    "chan_depths = np.arange(len(chan_map)) * 20"
   ]
  },
  {
   "cell_type": "code",
   "execution_count": 23,
   "metadata": {
    "execution": {
     "iopub.execute_input": "2021-04-02T19:17:08.192936Z",
     "iopub.status.busy": "2021-04-02T19:17:08.192490Z",
     "iopub.status.idle": "2021-04-02T19:17:08.218029Z",
     "shell.execute_reply": "2021-04-02T19:17:08.217359Z",
     "shell.execute_reply.started": "2021-04-02T19:17:08.192879Z"
    }
   },
   "outputs": [
    {
     "name": "stderr",
     "output_type": "stream",
     "text": [
      "/home/gfindlay/miniconda3/envs/ecephys/lib/python3.7/site-packages/numpy/core/fromnumeric.py:3373: RuntimeWarning: Mean of empty slice.\n",
      "  out=out, **kwargs)\n"
     ]
    }
   ],
   "source": [
    "df[\"sr_chan_depths\"] = df.sr_chans.apply(lambda x: chan_depths[np.isin(chan_map, x)])\n",
    "df[\"sr_depth\"] = df.sr_chan_depths.apply(np.mean)"
   ]
  },
  {
   "cell_type": "code",
   "execution_count": 24,
   "metadata": {
    "execution": {
     "iopub.execute_input": "2021-04-02T19:17:08.577074Z",
     "iopub.status.busy": "2021-04-02T19:17:08.576635Z",
     "iopub.status.idle": "2021-04-02T19:17:08.829441Z",
     "shell.execute_reply": "2021-04-02T19:17:08.828053Z",
     "shell.execute_reply.started": "2021-04-02T19:17:08.577019Z"
    }
   },
   "outputs": [],
   "source": [
    "light = load_condition_hypnogram(subject, \"sleep-homeostasis\", \"light-period\")\n",
    "light_cm = load_condition_hypnogram(subject, \"sleep-homeostasis\", \"light-period-circadian-match\")"
   ]
  },
  {
   "cell_type": "code",
   "execution_count": 28,
   "metadata": {
    "execution": {
     "iopub.execute_input": "2021-04-02T19:23:46.414578Z",
     "iopub.status.busy": "2021-04-02T19:23:46.414083Z",
     "iopub.status.idle": "2021-04-02T19:23:47.988178Z",
     "shell.execute_reply": "2021-04-02T19:23:47.987505Z",
     "shell.execute_reply.started": "2021-04-02T19:23:46.414523Z"
    }
   },
   "outputs": [
    {
     "data": {
      "application/vnd.jupyter.widget-view+json": {
       "model_id": "52506224cdea40fe9690419290ba4a08",
       "version_major": 2,
       "version_minor": 0
      },
      "text/plain": [
       "Canvas(toolbar=Toolbar(toolitems=[('Home', 'Reset original view', 'home', 'home'), ('Back', 'Back to previous …"
      ]
     },
     "metadata": {},
     "output_type": "display_data"
    },
    {
     "data": {
      "text/plain": [
       "[None]"
      ]
     },
     "execution_count": 28,
     "metadata": {},
     "output_type": "execute_result"
    }
   ],
   "source": [
    "fig, ax = plt.subplots(figsize=(22, 2))\n",
    "ax.hlines(df['sr_depth'], df['start_time'], df['end_time'])\n",
    "ax.set(ylabel=\"Distance from tip (um)\", xlabel=\"Time\")\n",
    "plot_hypnogram_overlay(light, ax=ax)\n",
    "plot_hypnogram_overlay(light_cm, ax=ax)\n",
    "ax.set(xmargin=0)"
   ]
  },
  {
   "cell_type": "code",
   "execution_count": null,
   "metadata": {},
   "outputs": [],
   "source": []
  }
 ],
 "metadata": {
  "kernelspec": {
   "display_name": "Python 3",
   "language": "python",
   "name": "python3"
  },
  "language_info": {
   "codemirror_mode": {
    "name": "ipython",
    "version": 3
   },
   "file_extension": ".py",
   "mimetype": "text/x-python",
   "name": "python",
   "nbconvert_exporter": "python",
   "pygments_lexer": "ipython3",
   "version": "3.7.9"
  }
 },
 "nbformat": 4,
 "nbformat_minor": 4
}
