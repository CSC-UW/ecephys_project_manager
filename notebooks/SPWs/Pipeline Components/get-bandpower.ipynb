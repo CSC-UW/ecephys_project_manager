{
 "cells": [
  {
   "cell_type": "code",
   "execution_count": 10,
   "metadata": {
    "execution": {
     "iopub.execute_input": "2021-04-13T19:12:40.066161Z",
     "iopub.status.busy": "2021-04-13T19:12:40.065708Z",
     "iopub.status.idle": "2021-04-13T19:12:40.087752Z",
     "shell.execute_reply": "2021-04-13T19:12:40.086923Z",
     "shell.execute_reply.started": "2021-04-13T19:12:40.066106Z"
    }
   },
   "outputs": [
    {
     "name": "stdout",
     "output_type": "stream",
     "text": [
      "The autoreload extension is already loaded. To reload it, use:\n",
      "  %reload_ext autoreload\n"
     ]
    }
   ],
   "source": [
    "%load_ext autoreload\n",
    "%autoreload 2"
   ]
  },
  {
   "cell_type": "markdown",
   "metadata": {},
   "source": [
    "# Imports and definitions"
   ]
  },
  {
   "cell_type": "code",
   "execution_count": 11,
   "metadata": {
    "execution": {
     "iopub.execute_input": "2021-04-13T19:12:41.512203Z",
     "iopub.status.busy": "2021-04-13T19:12:41.511774Z",
     "iopub.status.idle": "2021-04-13T19:12:41.532011Z",
     "shell.execute_reply": "2021-04-13T19:12:41.531428Z",
     "shell.execute_reply.started": "2021-04-13T19:12:41.512149Z"
    }
   },
   "outputs": [],
   "source": [
    "import numpy as np\n",
    "import pandas as pd\n",
    "from datetime import datetime\n",
    "import xarray as xr\n",
    "from pathlib import Path"
   ]
  },
  {
   "cell_type": "code",
   "execution_count": 12,
   "metadata": {
    "execution": {
     "iopub.execute_input": "2021-04-13T19:12:41.958505Z",
     "iopub.status.busy": "2021-04-13T19:12:41.958377Z",
     "iopub.status.idle": "2021-04-13T19:12:41.975389Z",
     "shell.execute_reply": "2021-04-13T19:12:41.974914Z",
     "shell.execute_reply.started": "2021-04-13T19:12:41.958489Z"
    }
   },
   "outputs": [],
   "source": [
    "from ecephys_analyses.data import channel_groups, paths, load\n",
    "from ecephys.sglx_utils import load_timeseries\n",
    "import ecephys.signal.timefrequency as tfr"
   ]
  },
  {
   "cell_type": "code",
   "execution_count": 13,
   "metadata": {
    "execution": {
     "iopub.execute_input": "2021-04-13T19:12:42.231137Z",
     "iopub.status.busy": "2021-04-13T19:12:42.230779Z",
     "iopub.status.idle": "2021-04-13T19:12:42.251654Z",
     "shell.execute_reply": "2021-04-13T19:12:42.251137Z",
     "shell.execute_reply.started": "2021-04-13T19:12:42.231091Z"
    }
   },
   "outputs": [
    {
     "data": {
      "text/plain": [
       "<xarray.core.options.set_options at 0x7f480ea498d0>"
      ]
     },
     "execution_count": 13,
     "metadata": {},
     "output_type": "execute_result"
    }
   ],
   "source": [
    "xr.set_options(keep_attrs=True)"
   ]
  },
  {
   "cell_type": "code",
   "execution_count": 76,
   "metadata": {
    "execution": {
     "iopub.execute_input": "2021-04-13T19:32:37.594360Z",
     "iopub.status.busy": "2021-04-13T19:32:37.593883Z",
     "iopub.status.idle": "2021-04-13T19:32:37.616162Z",
     "shell.execute_reply": "2021-04-13T19:32:37.615342Z",
     "shell.execute_reply.started": "2021-04-13T19:32:37.594300Z"
    }
   },
   "outputs": [],
   "source": [
    "def parallel_spectrogram_welch(sig, **kwargs):\n",
    "    freqs, spg_times, spg = tfr.parallel_spectrogram_welch(sig.values, sig.fs, **kwargs)\n",
    "    spg_times = spg_times + sig.time.values.min()\n",
    "    return xr.DataArray(\n",
    "        spg,\n",
    "        dims=(\"frequency\", \"time\", \"channel\"),\n",
    "        coords={\"frequency\": freqs, \"time\": spg_times, \"channel\": sig.channel.values},\n",
    "        attrs={'units': f\"{sig.units}^2/Hz\", 'file_start': sig.fileCreateTime}\n",
    "    )"
   ]
  },
  {
   "cell_type": "code",
   "execution_count": 77,
   "metadata": {
    "execution": {
     "iopub.execute_input": "2021-04-13T19:32:37.795381Z",
     "iopub.status.busy": "2021-04-13T19:32:37.795197Z",
     "iopub.status.idle": "2021-04-13T19:32:37.814043Z",
     "shell.execute_reply": "2021-04-13T19:32:37.813241Z",
     "shell.execute_reply.started": "2021-04-13T19:32:37.795358Z"
    }
   },
   "outputs": [],
   "source": [
    "def get_bandpower_from_spectrogram(spg, chans, f_range):\n",
    "    bandpower = spg.sel(frequency=slice(*f_range)).sum(\n",
    "        dim=\"frequency\"\n",
    "    )\n",
    "    bandpower.attrs[\"freq_range\"] = f_range\n",
    "    bandpower.attrs['chans'] = chans\n",
    "\n",
    "    return bandpower"
   ]
  },
  {
   "cell_type": "code",
   "execution_count": 101,
   "metadata": {
    "execution": {
     "iopub.execute_input": "2021-04-13T19:53:35.371781Z",
     "iopub.status.busy": "2021-04-13T19:53:35.371291Z",
     "iopub.status.idle": "2021-04-13T19:53:35.396109Z",
     "shell.execute_reply": "2021-04-13T19:53:35.395276Z",
     "shell.execute_reply.started": "2021-04-13T19:53:35.371722Z"
    }
   },
   "outputs": [],
   "source": [
    "def get_bandpower(sig, chans, f_range):\n",
    "    # If no chans, return timeseries with negative power and approximately 1 sample per second. \n",
    "    if not chans:\n",
    "        da = xr.DataArray(\n",
    "            -1,\n",
    "            dims=sig.time.dims,\n",
    "            coords=sig.time.coords,\n",
    "            attrs={\"freq_range\": f_range, \"chans\": chans},\n",
    "        )\n",
    "        return da[0 : -1 : int(sig.fs)]\n",
    "    \n",
    "    spg = parallel_spectrogram_welch(sig).median(dim=\"channel\")\n",
    "    return get_bandpower_from_spectrogram(spg, chans, f_range)"
   ]
  },
  {
   "cell_type": "code",
   "execution_count": 102,
   "metadata": {
    "execution": {
     "iopub.execute_input": "2021-04-13T19:53:40.505240Z",
     "iopub.status.busy": "2021-04-13T19:53:40.504761Z",
     "iopub.status.idle": "2021-04-13T19:53:40.545249Z",
     "shell.execute_reply": "2021-04-13T19:53:40.544614Z",
     "shell.execute_reply.started": "2021-04-13T19:53:40.505182Z"
    }
   },
   "outputs": [],
   "source": [
    "def get_condition_power(subject, experiment, condition):\n",
    "    cx_chans = channel_groups.superficial_ctx[subject]\n",
    "    wm_chans = channel_groups.white_matter[subject]\n",
    "    \n",
    "    bin_paths = paths.get_sglx_style_datapaths(subject, experiment, condition, \"lf.bin\")\n",
    "    sr_chans_paths = paths.get_sglx_style_datapaths(subject, experiment, condition, \"sr_chans.csv\")\n",
    "    power_paths = paths.get_sglx_style_datapaths(subject, experiment, condition, \"pow2.nc\")\n",
    "    \n",
    "    for bin_path, sr_chans_path, power_path in zip(bin_paths, sr_chans_paths, power_paths):\n",
    "        sr_chans_df = load.load_sr_chans(sr_chans_path)\n",
    "        power_by_epoch = list()\n",
    "        for epoch in sr_chans_df.itertuples():\n",
    "            cx = load_timeseries(bin_path, cx_chans, start_time=epoch.start_time, end_time=epoch.end_time)\n",
    "            wm = load_timeseries(bin_path, wm_chans, start_time=epoch.start_time, end_time=epoch.end_time)\n",
    "            sr = load_timeseries(bin_path, epoch.sr_chans, start_time=epoch.start_time, end_time=epoch.end_time)\n",
    "\n",
    "            cx_wm_ref = cx - wm.values\n",
    "            cx_wm_ref.attrs['reference'] = wm.channel.values\n",
    "\n",
    "            sr_wm_ref = sr - wm.values\n",
    "            sr_wm_ref.attrs['reference'] = wm.channel.values\n",
    "\n",
    "            delta = (0.5, 4)\n",
    "            theta = (5, 10)\n",
    "            power = xr.Dataset({'mpta_delta_cbm_ref': get_bandpower(cx, cx_chans, delta), \n",
    "                                'mpta_theta_cbm_ref': get_bandpower(cx, cx_chans, theta),\n",
    "                                'sr_delta_cbm_ref': get_bandpower(sr, epoch.sr_chans, delta), \n",
    "                                'sr_theta_cbm_ref': get_bandpower(sr, epoch.sr_chans, theta),\n",
    "                                'mpta_delta_wm_ref': get_bandpower(cx_wm_ref, cx_chans, delta),\n",
    "                                'mpta_theta_wm_ref': get_bandpower(cx_wm_ref, cx_chans, theta),\n",
    "                                'sr_delta_wm_ref': get_bandpower(sr_wm_ref, epoch.sr_chans, delta),\n",
    "                                'sr_theta_wm_ref': get_bandpower(sr_wm_ref, epoch.sr_chans, theta)})\n",
    "            power_by_epoch.append(power)\n",
    "            \n",
    "        power = xr.concat(power_by_epoch, dim=\"time\")\n",
    "        Path(power_path).parent.mkdir(parents=True, exist_ok=True) # Create parent directories if they do not already exist.\n",
    "        power.to_netcdf(power_path)\n",
    "        power.close()\n",
    "        \n",
    "        current_time = datetime.now().strftime(\"%H:%M:%S\")\n",
    "        print(f\"{current_time}: Finished {str(bin_path)}\")"
   ]
  },
  {
   "cell_type": "code",
   "execution_count": null,
   "metadata": {
    "execution": {
     "iopub.execute_input": "2021-04-13T21:42:06.560811Z",
     "iopub.status.busy": "2021-04-13T21:42:06.560655Z"
    }
   },
   "outputs": [
    {
     "name": "stdout",
     "output_type": "stream",
     "text": [
      "nChan: 385, nFileSamp: 18000000\n",
      "nChan: 385, nFileSamp: 18000000\n",
      "nChan: 385, nFileSamp: 18000000\n",
      "nChan: 385, nFileSamp: 18000000\n",
      "nChan: 385, nFileSamp: 18000000\n",
      "nChan: 385, nFileSamp: 18000000\n",
      "16:49:05: Finished /Volumes/neuropixel_archive/Data/chronic/CNPIX3-Valentino/2-19-2020/2-19-2020_g1/2-19-2020_g1_imec0/2-19-2020_g1_t0.imec0.lf.bin\n",
      "nChan: 385, nFileSamp: 18000000\n",
      "nChan: 385, nFileSamp: 18000000\n",
      "nChan: 385, nFileSamp: 18000000\n",
      "nChan: 385, nFileSamp: 18000000\n",
      "nChan: 385, nFileSamp: 18000000\n",
      "nChan: 385, nFileSamp: 18000000\n",
      "nChan: 385, nFileSamp: 18000000\n",
      "nChan: 385, nFileSamp: 18000000\n",
      "nChan: 385, nFileSamp: 18000000\n",
      "16:56:19: Finished /Volumes/neuropixel_archive/Data/chronic/CNPIX3-Valentino/2-19-2020/2-19-2020_g1/2-19-2020_g1_imec0/2-19-2020_g1_t1.imec0.lf.bin\n",
      "nChan: 385, nFileSamp: 18000000\n",
      "nChan: 385, nFileSamp: 18000000\n",
      "nChan: 385, nFileSamp: 18000000\n",
      "nChan: 385, nFileSamp: 18000000\n",
      "nChan: 385, nFileSamp: 18000000\n",
      "nChan: 385, nFileSamp: 18000000\n",
      "17:03:20: Finished /Volumes/neuropixel_archive/Data/chronic/CNPIX3-Valentino/2-19-2020/2-19-2020_g1/2-19-2020_g1_imec0/2-19-2020_g1_t2.imec0.lf.bin\n",
      "nChan: 385, nFileSamp: 18000000\n",
      "nChan: 385, nFileSamp: 18000000\n",
      "nChan: 385, nFileSamp: 18000000\n",
      "nChan: 385, nFileSamp: 18000000\n",
      "nChan: 385, nFileSamp: 18000000\n",
      "nChan: 385, nFileSamp: 18000000\n",
      "nChan: 385, nFileSamp: 18000000\n",
      "nChan: 385, nFileSamp: 18000000\n",
      "nChan: 385, nFileSamp: 18000000\n",
      "nChan: 385, nFileSamp: 18000000\n",
      "nChan: 385, nFileSamp: 18000000\n",
      "nChan: 385, nFileSamp: 18000000\n",
      "17:10:23: Finished /Volumes/neuropixel_archive/Data/chronic/CNPIX3-Valentino/2-19-2020/2-19-2020_g1/2-19-2020_g1_imec0/2-19-2020_g1_t3.imec0.lf.bin\n",
      "nChan: 385, nFileSamp: 18000000\n",
      "nChan: 385, nFileSamp: 18000000\n",
      "nChan: 385, nFileSamp: 18000000\n",
      "nChan: 385, nFileSamp: 18000000\n",
      "nChan: 385, nFileSamp: 18000000\n",
      "nChan: 385, nFileSamp: 18000000\n",
      "nChan: 385, nFileSamp: 18000000\n",
      "nChan: 385, nFileSamp: 18000000\n",
      "nChan: 385, nFileSamp: 18000000\n",
      "17:17:36: Finished /Volumes/neuropixel_archive/Data/chronic/CNPIX3-Valentino/2-19-2020/2-19-2020_g1/2-19-2020_g1_imec0/2-19-2020_g1_t4.imec0.lf.bin\n",
      "nChan: 385, nFileSamp: 18000000\n",
      "nChan: 385, nFileSamp: 18000000\n",
      "nChan: 385, nFileSamp: 18000000\n",
      "nChan: 385, nFileSamp: 18000000\n",
      "nChan: 385, nFileSamp: 18000000\n",
      "nChan: 385, nFileSamp: 18000000\n",
      "nChan: 385, nFileSamp: 18000000\n",
      "nChan: 385, nFileSamp: 18000000\n",
      "nChan: 385, nFileSamp: 18000000\n",
      "nChan: 385, nFileSamp: 18000000\n",
      "nChan: 385, nFileSamp: 18000000\n",
      "nChan: 385, nFileSamp: 18000000\n",
      "17:24:31: Finished /Volumes/neuropixel_archive/Data/chronic/CNPIX3-Valentino/2-19-2020/2-19-2020_g1/2-19-2020_g1_imec0/2-19-2020_g1_t5.imec0.lf.bin\n",
      "nChan: 385, nFileSamp: 18000000\n",
      "nChan: 385, nFileSamp: 18000000\n",
      "nChan: 385, nFileSamp: 18000000\n",
      "nChan: 385, nFileSamp: 18000000\n",
      "nChan: 385, nFileSamp: 18000000\n",
      "nChan: 385, nFileSamp: 18000000\n",
      "nChan: 385, nFileSamp: 18000000\n",
      "nChan: 385, nFileSamp: 18000000\n",
      "nChan: 385, nFileSamp: 18000000\n",
      "nChan: 385, nFileSamp: 18000000\n",
      "nChan: 385, nFileSamp: 18000000\n",
      "nChan: 385, nFileSamp: 18000000\n",
      "nChan: 385, nFileSamp: 18000000\n",
      "nChan: 385, nFileSamp: 18000000\n",
      "nChan: 385, nFileSamp: 18000000\n",
      "17:38:37: Finished /Volumes/neuropixel_archive/Data/chronic/CNPIX3-Valentino/2-19-2020/2-19-2020_g1/2-19-2020_g1_imec0/2-19-2020_g1_t6.imec0.lf.bin\n",
      "nChan: 385, nFileSamp: 18000000\n",
      "nChan: 385, nFileSamp: 18000000\n",
      "nChan: 385, nFileSamp: 18000000\n",
      "nChan: 385, nFileSamp: 18000000\n",
      "nChan: 385, nFileSamp: 18000000\n",
      "nChan: 385, nFileSamp: 18000000\n",
      "nChan: 385, nFileSamp: 18000000\n",
      "nChan: 385, nFileSamp: 18000000\n",
      "nChan: 385, nFileSamp: 18000000\n",
      "17:45:43: Finished /Volumes/neuropixel_archive/Data/chronic/CNPIX3-Valentino/2-19-2020/2-19-2020_g1/2-19-2020_g1_imec0/2-19-2020_g1_t7.imec0.lf.bin\n",
      "nChan: 385, nFileSamp: 18000000\n",
      "nChan: 385, nFileSamp: 18000000\n",
      "nChan: 385, nFileSamp: 18000000\n",
      "nChan: 385, nFileSamp: 18000000\n",
      "nChan: 385, nFileSamp: 18000000\n",
      "nChan: 385, nFileSamp: 18000000\n",
      "nChan: 385, nFileSamp: 18000000\n",
      "nChan: 385, nFileSamp: 18000000\n",
      "nChan: 385, nFileSamp: 18000000\n",
      "nChan: 385, nFileSamp: 18000000\n",
      "nChan: 385, nFileSamp: 18000000\n",
      "nChan: 385, nFileSamp: 18000000\n",
      "nChan: 385, nFileSamp: 18000000\n",
      "nChan: 385, nFileSamp: 18000000\n",
      "nChan: 385, nFileSamp: 18000000\n",
      "nChan: 385, nFileSamp: 18000000\n",
      "nChan: 385, nFileSamp: 18000000\n",
      "nChan: 385, nFileSamp: 18000000\n",
      "17:53:03: Finished /Volumes/neuropixel_archive/Data/chronic/CNPIX3-Valentino/2-19-2020/2-19-2020_g1/2-19-2020_g1_imec0/2-19-2020_g1_t8.imec0.lf.bin\n",
      "nChan: 385, nFileSamp: 18000000\n",
      "nChan: 385, nFileSamp: 18000000\n",
      "nChan: 385, nFileSamp: 18000000\n",
      "nChan: 385, nFileSamp: 18000000\n",
      "nChan: 385, nFileSamp: 18000000\n",
      "nChan: 385, nFileSamp: 18000000\n",
      "nChan: 385, nFileSamp: 18000000\n",
      "nChan: 385, nFileSamp: 18000000\n",
      "nChan: 385, nFileSamp: 18000000\n",
      "17:59:58: Finished /Volumes/neuropixel_archive/Data/chronic/CNPIX3-Valentino/2-19-2020/2-19-2020_g1/2-19-2020_g1_imec0/2-19-2020_g1_t9.imec0.lf.bin\n",
      "nChan: 385, nFileSamp: 18000000\n",
      "nChan: 385, nFileSamp: 18000000\n",
      "nChan: 385, nFileSamp: 18000000\n",
      "nChan: 385, nFileSamp: 18000000\n",
      "nChan: 385, nFileSamp: 18000000\n",
      "nChan: 385, nFileSamp: 18000000\n",
      "18:06:58: Finished /Volumes/neuropixel_archive/Data/chronic/CNPIX3-Valentino/2-19-2020/2-19-2020_g1/2-19-2020_g1_imec0/2-19-2020_g1_t10.imec0.lf.bin\n",
      "nChan: 385, nFileSamp: 18000000\n",
      "nChan: 385, nFileSamp: 18000000\n",
      "nChan: 385, nFileSamp: 18000000\n",
      "nChan: 385, nFileSamp: 18000000\n",
      "nChan: 385, nFileSamp: 18000000\n",
      "nChan: 385, nFileSamp: 18000000\n",
      "nChan: 385, nFileSamp: 18000000\n",
      "nChan: 385, nFileSamp: 18000000\n",
      "nChan: 385, nFileSamp: 18000000\n",
      "18:14:28: Finished /Volumes/neuropixel_archive/Data/chronic/CNPIX3-Valentino/2-19-2020/2-19-2020_g1/2-19-2020_g1_imec0/2-19-2020_g1_t11.imec0.lf.bin\n",
      "nChan: 385, nFileSamp: 18000000\n",
      "nChan: 385, nFileSamp: 18000000\n",
      "nChan: 385, nFileSamp: 18000000\n",
      "nChan: 385, nFileSamp: 18000000\n",
      "nChan: 385, nFileSamp: 18000000\n",
      "nChan: 385, nFileSamp: 18000000\n",
      "18:21:23: Finished /Volumes/neuropixel_archive/Data/chronic/CNPIX3-Valentino/2-19-2020/2-20-2020_g0/2-20-2020_g0_imec0/2-20-2020_g0_t0.imec0.lf.bin\n",
      "nChan: 385, nFileSamp: 18000000\n",
      "nChan: 385, nFileSamp: 18000000\n",
      "nChan: 385, nFileSamp: 18000000\n",
      "nChan: 385, nFileSamp: 18000000\n",
      "nChan: 385, nFileSamp: 18000000\n",
      "nChan: 385, nFileSamp: 18000000\n",
      "nChan: 385, nFileSamp: 18000000\n",
      "nChan: 385, nFileSamp: 18000000\n",
      "nChan: 385, nFileSamp: 18000000\n",
      "nChan: 385, nFileSamp: 18000000\n",
      "nChan: 385, nFileSamp: 18000000\n",
      "nChan: 385, nFileSamp: 18000000\n",
      "nChan: 385, nFileSamp: 18000000\n",
      "nChan: 385, nFileSamp: 18000000\n",
      "nChan: 385, nFileSamp: 18000000\n",
      "nChan: 385, nFileSamp: 18000000\n",
      "nChan: 385, nFileSamp: 18000000\n",
      "nChan: 385, nFileSamp: 18000000\n",
      "18:29:21: Finished /Volumes/neuropixel_archive/Data/chronic/CNPIX3-Valentino/2-19-2020/2-20-2020_g0/2-20-2020_g0_imec0/2-20-2020_g0_t1.imec0.lf.bin\n",
      "nChan: 385, nFileSamp: 18000000\n",
      "nChan: 385, nFileSamp: 18000000\n",
      "nChan: 385, nFileSamp: 18000000\n",
      "18:36:41: Finished /Volumes/neuropixel_archive/Data/chronic/CNPIX3-Valentino/2-19-2020/2-20-2020_g0/2-20-2020_g0_imec0/2-20-2020_g0_t2.imec0.lf.bin\n",
      "nChan: 385, nFileSamp: 18000000\n",
      "nChan: 385, nFileSamp: 18000000\n",
      "nChan: 385, nFileSamp: 18000000\n",
      "nChan: 385, nFileSamp: 18000000\n",
      "nChan: 385, nFileSamp: 18000000\n",
      "nChan: 385, nFileSamp: 18000000\n",
      "nChan: 385, nFileSamp: 18000000\n",
      "nChan: 385, nFileSamp: 18000000\n",
      "nChan: 385, nFileSamp: 18000000\n",
      "nChan: 385, nFileSamp: 18000000\n",
      "nChan: 385, nFileSamp: 18000000\n",
      "nChan: 385, nFileSamp: 18000000\n",
      "18:44:06: Finished /Volumes/neuropixel_archive/Data/chronic/CNPIX3-Valentino/2-19-2020/2-20-2020_g0/2-20-2020_g0_imec0/2-20-2020_g0_t3.imec0.lf.bin\n",
      "nChan: 385, nFileSamp: 18000000\n",
      "nChan: 385, nFileSamp: 18000000\n",
      "nChan: 385, nFileSamp: 18000000\n",
      "nChan: 385, nFileSamp: 18000000\n",
      "nChan: 385, nFileSamp: 18000000\n",
      "nChan: 385, nFileSamp: 18000000\n",
      "18:51:08: Finished /Volumes/neuropixel_archive/Data/chronic/CNPIX3-Valentino/2-19-2020/2-20-2020_g0/2-20-2020_g0_imec0/2-20-2020_g0_t4.imec0.lf.bin\n",
      "nChan: 385, nFileSamp: 18000000\n",
      "nChan: 385, nFileSamp: 18000000\n",
      "nChan: 385, nFileSamp: 18000000\n",
      "nChan: 385, nFileSamp: 18000000\n",
      "nChan: 385, nFileSamp: 18000000\n",
      "nChan: 385, nFileSamp: 18000000\n",
      "nChan: 385, nFileSamp: 18000000\n",
      "nChan: 385, nFileSamp: 18000000\n",
      "nChan: 385, nFileSamp: 18000000\n",
      "18:58:05: Finished /Volumes/neuropixel_archive/Data/chronic/CNPIX3-Valentino/2-19-2020/2-20-2020_g0/2-20-2020_g0_imec0/2-20-2020_g0_t5.imec0.lf.bin\n",
      "nChan: 385, nFileSamp: 18000000\n",
      "nChan: 385, nFileSamp: 18000000\n",
      "nChan: 385, nFileSamp: 18000000\n",
      "nChan: 385, nFileSamp: 18000000\n",
      "nChan: 385, nFileSamp: 18000000\n",
      "nChan: 385, nFileSamp: 18000000\n",
      "19:04:56: Finished /Volumes/neuropixel_archive/Data/chronic/CNPIX3-Valentino/2-19-2020/2-20-2020_g0/2-20-2020_g0_imec0/2-20-2020_g0_t6.imec0.lf.bin\n",
      "nChan: 385, nFileSamp: 18000000\n",
      "nChan: 385, nFileSamp: 18000000\n",
      "nChan: 385, nFileSamp: 18000000\n",
      "nChan: 385, nFileSamp: 18000000\n",
      "nChan: 385, nFileSamp: 18000000\n",
      "nChan: 385, nFileSamp: 18000000\n",
      "nChan: 385, nFileSamp: 18000000\n",
      "nChan: 385, nFileSamp: 18000000\n",
      "nChan: 385, nFileSamp: 18000000\n",
      "nChan: 385, nFileSamp: 18000000\n",
      "nChan: 385, nFileSamp: 18000000\n",
      "nChan: 385, nFileSamp: 18000000\n",
      "nChan: 385, nFileSamp: 18000000\n",
      "nChan: 385, nFileSamp: 18000000\n",
      "nChan: 385, nFileSamp: 18000000\n",
      "19:12:15: Finished /Volumes/neuropixel_archive/Data/chronic/CNPIX3-Valentino/2-19-2020/2-20-2020_g0/2-20-2020_g0_imec0/2-20-2020_g0_t7.imec0.lf.bin\n",
      "nChan: 385, nFileSamp: 18000000\n",
      "nChan: 385, nFileSamp: 18000000\n",
      "nChan: 385, nFileSamp: 18000000\n",
      "nChan: 385, nFileSamp: 18000000\n",
      "nChan: 385, nFileSamp: 18000000\n",
      "nChan: 385, nFileSamp: 18000000\n",
      "nChan: 385, nFileSamp: 18000000\n",
      "nChan: 385, nFileSamp: 18000000\n",
      "nChan: 385, nFileSamp: 18000000\n",
      "19:19:45: Finished /Volumes/neuropixel_archive/Data/chronic/CNPIX3-Valentino/2-19-2020/2-20-2020_g0/2-20-2020_g0_imec0/2-20-2020_g0_t8.imec0.lf.bin\n",
      "nChan: 385, nFileSamp: 18000000\n",
      "nChan: 385, nFileSamp: 18000000\n",
      "nChan: 385, nFileSamp: 18000000\n",
      "nChan: 385, nFileSamp: 18000000\n",
      "nChan: 385, nFileSamp: 18000000\n",
      "nChan: 385, nFileSamp: 18000000\n",
      "19:26:47: Finished /Volumes/neuropixel_archive/Data/chronic/CNPIX3-Valentino/2-19-2020/2-20-2020_g0/2-20-2020_g0_imec0/2-20-2020_g0_t9.imec0.lf.bin\n",
      "nChan: 385, nFileSamp: 18000000\n",
      "nChan: 385, nFileSamp: 18000000\n",
      "nChan: 385, nFileSamp: 18000000\n",
      "nChan: 385, nFileSamp: 18000000\n",
      "nChan: 385, nFileSamp: 18000000\n",
      "nChan: 385, nFileSamp: 18000000\n",
      "19:34:30: Finished /Volumes/neuropixel_archive/Data/chronic/CNPIX3-Valentino/2-19-2020/2-20-2020_g0/2-20-2020_g0_imec0/2-20-2020_g0_t10.imec0.lf.bin\n",
      "nChan: 385, nFileSamp: 18000000\n",
      "nChan: 385, nFileSamp: 18000000\n",
      "nChan: 385, nFileSamp: 18000000\n",
      "nChan: 385, nFileSamp: 18000000\n",
      "nChan: 385, nFileSamp: 18000000\n",
      "nChan: 385, nFileSamp: 18000000\n",
      "nChan: 385, nFileSamp: 18000000\n",
      "nChan: 385, nFileSamp: 18000000\n",
      "nChan: 385, nFileSamp: 18000000\n",
      "nChan: 385, nFileSamp: 18000000\n",
      "nChan: 385, nFileSamp: 18000000\n",
      "nChan: 385, nFileSamp: 18000000\n",
      "nChan: 385, nFileSamp: 18000000\n",
      "nChan: 385, nFileSamp: 18000000\n"
     ]
    }
   ],
   "source": [
    "get_condition_power(\"Valentino\", \"sleep-homeostasis\", \"all\")"
   ]
  },
  {
   "cell_type": "code",
   "execution_count": null,
   "metadata": {},
   "outputs": [],
   "source": [
    "get_condition_power(\"Alessandro\", \"sleep-homeostasis\", \"all\")"
   ]
  },
  {
   "cell_type": "code",
   "execution_count": null,
   "metadata": {},
   "outputs": [],
   "source": [
    "get_condition_power(\"Eugene\", \"sleep-homeostasis\", \"all\")"
   ]
  },
  {
   "cell_type": "code",
   "execution_count": null,
   "metadata": {},
   "outputs": [],
   "source": []
  }
 ],
 "metadata": {
  "kernelspec": {
   "display_name": "Python 3",
   "language": "python",
   "name": "python3"
  },
  "language_info": {
   "codemirror_mode": {
    "name": "ipython",
    "version": 3
   },
   "file_extension": ".py",
   "mimetype": "text/x-python",
   "name": "python",
   "nbconvert_exporter": "python",
   "pygments_lexer": "ipython3",
   "version": "3.7.9"
  }
 },
 "nbformat": 4,
 "nbformat_minor": 4
}
