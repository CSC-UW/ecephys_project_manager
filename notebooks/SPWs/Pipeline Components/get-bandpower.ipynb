{
 "cells": [
  {
   "cell_type": "code",
   "execution_count": 1,
   "metadata": {
    "execution": {
     "iopub.execute_input": "2021-10-08T23:24:33.771428Z",
     "iopub.status.busy": "2021-10-08T23:24:33.771210Z",
     "iopub.status.idle": "2021-10-08T23:24:33.789370Z",
     "shell.execute_reply": "2021-10-08T23:24:33.788860Z",
     "shell.execute_reply.started": "2021-10-08T23:24:33.771359Z"
    },
    "tags": []
   },
   "outputs": [],
   "source": [
    "%load_ext autoreload\n",
    "%autoreload 2"
   ]
  },
  {
   "cell_type": "markdown",
   "metadata": {},
   "source": [
    "# Imports and definitions"
   ]
  },
  {
   "cell_type": "code",
   "execution_count": 2,
   "metadata": {
    "execution": {
     "iopub.execute_input": "2021-10-08T23:24:33.790143Z",
     "iopub.status.busy": "2021-10-08T23:24:33.789929Z",
     "iopub.status.idle": "2021-10-08T23:24:34.547941Z",
     "shell.execute_reply": "2021-10-08T23:24:34.547122Z",
     "shell.execute_reply.started": "2021-10-08T23:24:33.790126Z"
    },
    "tags": []
   },
   "outputs": [],
   "source": [
    "import xarray as xr\n",
    "xr.set_options(keep_attrs=True)\n",
    "\n",
    "from datetime import datetime\n",
    "from pathlib import Path"
   ]
  },
  {
   "cell_type": "code",
   "execution_count": 3,
   "metadata": {
    "execution": {
     "iopub.execute_input": "2021-10-08T23:24:34.549582Z",
     "iopub.status.busy": "2021-10-08T23:24:34.549366Z",
     "iopub.status.idle": "2021-10-08T23:24:34.959983Z",
     "shell.execute_reply": "2021-10-08T23:24:34.959291Z",
     "shell.execute_reply.started": "2021-10-08T23:24:34.549563Z"
    },
    "tags": []
   },
   "outputs": [],
   "source": [
    "import ecephys_analyses as ea\n",
    "from sglxarray import load_trigger\n",
    "from ecephys import xrsig"
   ]
  },
  {
   "cell_type": "code",
   "execution_count": 4,
   "metadata": {
    "execution": {
     "iopub.execute_input": "2021-10-08T23:24:34.960935Z",
     "iopub.status.busy": "2021-10-08T23:24:34.960740Z",
     "iopub.status.idle": "2021-10-08T23:24:34.976540Z",
     "shell.execute_reply": "2021-10-08T23:24:34.975802Z",
     "shell.execute_reply.started": "2021-10-08T23:24:34.960917Z"
    },
    "tags": []
   },
   "outputs": [],
   "source": [
    "def get_bandpower(sig, chans, f_range):\n",
    "    fft_window_length = 4 # seconds\n",
    "    nperseg = int(fft_window_length * sig.fs) \n",
    "    noverlap = nperseg // 4 # 1 second overlap\n",
    "    spg = xrsig.parallel_spectrogram_welch(sig, nperseg=nperseg, noverlap=noverlap).median(dim=\"channel\")\n",
    "    return xrsig.get_bandpower(spg, f_range)"
   ]
  },
  {
   "cell_type": "code",
   "execution_count": 5,
   "metadata": {
    "execution": {
     "iopub.execute_input": "2021-10-08T23:24:34.977473Z",
     "iopub.status.busy": "2021-10-08T23:24:34.977287Z",
     "iopub.status.idle": "2021-10-08T23:24:34.996789Z",
     "shell.execute_reply": "2021-10-08T23:24:34.996074Z",
     "shell.execute_reply.started": "2021-10-08T23:24:34.977456Z"
    },
    "tags": []
   },
   "outputs": [],
   "source": [
    "# This should probably not compute cx power when sr chans is absent. \n",
    "\n",
    "def get_condition_bandpower(subject, experiment, probe):\n",
    "    cx_chans = ea.get_channels(subject, experiment, probe, \"superficial_ctx\", asarray=False)\n",
    "    wm_chans = ea.get_channels(subject, experiment, probe, \"white_matter\", asarray=False)\n",
    "\n",
    "    bin_paths = ea.get_lfp_bin_paths(subject, experiment, probe=probe)\n",
    "    sr_chans_paths = ea.get_analysis_counterparts(bin_paths, \"sr_chans.csv\", subject)\n",
    "    power_paths = ea.get_analysis_counterparts(bin_paths, \"bandpower.nc\", subject)\n",
    "    \n",
    "    #bin_paths = ea.get_sglx_style_datapaths(subject, experiment, condition, \"lf.bin\")\n",
    "    #sr_chans_paths = ea.get_sglx_style_datapaths(subject, experiment, condition, \"sr_chans.csv\")\n",
    "    #power_paths = ea.get_sglx_style_datapaths(subject, experiment, condition, \"bandpower.nc\")\n",
    "    \n",
    "    for bin_path, sr_chans_path, power_path in zip(bin_paths, sr_chans_paths, power_paths):\n",
    "        sr_chans_df = ea.load.load_sr_chans(sr_chans_path)\n",
    "        epochs = list()\n",
    "        for epoch in sr_chans_df.itertuples():\n",
    "            if not epoch.sr_chans:\n",
    "                continue\n",
    "            cx = load_trigger(bin_path, cx_chans, start_time=epoch.start_time, end_time=epoch.end_time)\n",
    "            wm = load_trigger(bin_path, wm_chans, start_time=epoch.start_time, end_time=epoch.end_time)\n",
    "            sr = load_trigger(bin_path, epoch.sr_chans, start_time=epoch.start_time, end_time=epoch.end_time)\n",
    "\n",
    "            cx_wm_ref = cx - wm.values\n",
    "            cx_wm_ref.attrs['reference'] = wm.channel.values\n",
    "\n",
    "            sr_wm_ref = sr - wm.values\n",
    "            sr_wm_ref.attrs['reference'] = wm.channel.values\n",
    "\n",
    "            delta = (0.5, 4)\n",
    "            theta = (5, 10)\n",
    "            power = xr.Dataset({'mpta_delta_wm_ref': get_bandpower(cx_wm_ref, cx_chans, delta),\n",
    "                                'mpta_theta_wm_ref': get_bandpower(cx_wm_ref, cx_chans, theta),\n",
    "                                'sr_delta_wm_ref': get_bandpower(sr_wm_ref, epoch.sr_chans, delta),\n",
    "                                'sr_theta_wm_ref': get_bandpower(sr_wm_ref, epoch.sr_chans, theta)})\n",
    "            epochs.append(power)\n",
    "            \n",
    "        if not epochs:\n",
    "            continue\n",
    "        power = xr.concat(epochs, dim=\"time\")\n",
    "        Path(power_path).parent.mkdir(parents=True, exist_ok=True) # Create parent directories if they do not already exist.\n",
    "        power.to_netcdf(power_path)\n",
    "        power.close()\n",
    "        \n",
    "        current_time = datetime.now().strftime(\"%H:%M:%S\")\n",
    "        print(f\"{current_time}: Finished {str(bin_path)}\")"
   ]
  },
  {
   "cell_type": "code",
   "execution_count": 6,
   "metadata": {
    "execution": {
     "iopub.execute_input": "2021-10-08T23:24:34.997652Z",
     "iopub.status.busy": "2021-10-08T23:24:34.997443Z",
     "iopub.status.idle": "2021-10-09T01:22:16.490028Z",
     "shell.execute_reply": "2021-10-09T01:22:16.489133Z",
     "shell.execute_reply.started": "2021-10-08T23:24:34.997636Z"
    },
    "tags": []
   },
   "outputs": [
    {
     "name": "stdout",
     "output_type": "stream",
     "text": [
      "nChan: 385, nFileSamp: 18000082\n",
      "nChan: 385, nFileSamp: 18000082\n",
      "nChan: 385, nFileSamp: 18000082\n",
      "19:57:03: Finished /Volumes/neuropixel_archive/Data/chronic/CNPIX11-Adrian/8-30-2021/SpikeGLX/8-30-2021_g0/8-30-2021_g0_imec1/8-30-2021_g0_t0.imec1.lf.bin\n",
      "nChan: 385, nFileSamp: 18000083\n",
      "nChan: 385, nFileSamp: 18000083\n",
      "nChan: 385, nFileSamp: 18000083\n",
      "20:00:44: Finished /Volumes/neuropixel_archive/Data/chronic/CNPIX11-Adrian/8-30-2021/SpikeGLX/8-30-2021_g0/8-30-2021_g0_imec1/8-30-2021_g0_t1.imec1.lf.bin\n",
      "nChan: 385, nFileSamp: 18000083\n",
      "nChan: 385, nFileSamp: 18000083\n",
      "nChan: 385, nFileSamp: 18000083\n",
      "20:05:20: Finished /Volumes/neuropixel_archive/Data/chronic/CNPIX11-Adrian/8-30-2021/SpikeGLX/8-30-2021_g0/8-30-2021_g0_imec1/8-30-2021_g0_t2.imec1.lf.bin\n",
      "nChan: 385, nFileSamp: 18000083\n",
      "nChan: 385, nFileSamp: 18000083\n",
      "nChan: 385, nFileSamp: 18000083\n",
      "20:08:56: Finished /Volumes/neuropixel_archive/Data/chronic/CNPIX11-Adrian/8-30-2021/SpikeGLX/8-30-2021_g0/8-30-2021_g0_imec1/8-30-2021_g0_t3.imec1.lf.bin\n",
      "nChan: 385, nFileSamp: 18000082\n",
      "nChan: 385, nFileSamp: 18000082\n",
      "nChan: 385, nFileSamp: 18000082\n",
      "20:17:32: Finished /Volumes/neuropixel_archive/Data/chronic/CNPIX11-Adrian/8-30-2021/SpikeGLX/8-30-2021_g0/8-30-2021_g0_imec1/8-30-2021_g0_t4.imec1.lf.bin\n",
      "nChan: 385, nFileSamp: 18000082\n",
      "nChan: 385, nFileSamp: 18000082\n",
      "nChan: 385, nFileSamp: 18000082\n",
      "20:21:12: Finished /Volumes/neuropixel_archive/Data/chronic/CNPIX11-Adrian/8-30-2021/SpikeGLX/8-30-2021_g0/8-30-2021_g0_imec1/8-30-2021_g0_t5.imec1.lf.bin\n",
      "nChan: 385, nFileSamp: 18000083\n",
      "nChan: 385, nFileSamp: 18000083\n",
      "nChan: 385, nFileSamp: 18000083\n",
      "20:24:43: Finished /Volumes/neuropixel_archive/Data/chronic/CNPIX11-Adrian/8-30-2021/SpikeGLX/8-30-2021_g0/8-30-2021_g0_imec1/8-30-2021_g0_t6.imec1.lf.bin\n",
      "nChan: 385, nFileSamp: 18000083\n",
      "nChan: 385, nFileSamp: 18000083\n",
      "nChan: 385, nFileSamp: 18000083\n",
      "20:28:20: Finished /Volumes/neuropixel_archive/Data/chronic/CNPIX11-Adrian/8-30-2021/SpikeGLX/8-30-2021_g0/8-30-2021_g0_imec1/8-30-2021_g0_t7.imec1.lf.bin\n",
      "nChan: 385, nFileSamp: 18000083\n",
      "nChan: 385, nFileSamp: 18000083\n",
      "nChan: 385, nFileSamp: 18000083\n",
      "20:31:58: Finished /Volumes/neuropixel_archive/Data/chronic/CNPIX11-Adrian/8-30-2021/SpikeGLX/8-30-2021_g0/8-30-2021_g0_imec1/8-30-2021_g0_t8.imec1.lf.bin\n",
      "nChan: 385, nFileSamp: 18000083\n",
      "nChan: 385, nFileSamp: 18000083\n",
      "nChan: 385, nFileSamp: 18000083\n",
      "20:35:36: Finished /Volumes/neuropixel_archive/Data/chronic/CNPIX11-Adrian/8-30-2021/SpikeGLX/8-30-2021_g0/8-30-2021_g0_imec1/8-30-2021_g0_t9.imec1.lf.bin\n",
      "nChan: 385, nFileSamp: 18000082\n",
      "nChan: 385, nFileSamp: 18000082\n",
      "nChan: 385, nFileSamp: 18000082\n",
      "20:39:23: Finished /Volumes/neuropixel_archive/Data/chronic/CNPIX11-Adrian/8-30-2021/SpikeGLX/8-30-2021_g0/8-30-2021_g0_imec1/8-30-2021_g0_t10.imec1.lf.bin\n",
      "nChan: 385, nFileSamp: 1824235\n",
      "nChan: 385, nFileSamp: 1824235\n",
      "nChan: 385, nFileSamp: 1824235\n",
      "20:40:16: Finished /Volumes/neuropixel_archive/Data/chronic/CNPIX11-Adrian/8-30-2021/SpikeGLX/8-30-2021_g0/8-30-2021_g0_imec1/8-30-2021_g0_t11.imec1.lf.bin\n",
      "nChan: 385, nFileSamp: 9574569\n",
      "nChan: 385, nFileSamp: 9574569\n",
      "nChan: 385, nFileSamp: 9574569\n",
      "20:42:19: Finished /Volumes/neuropixel_archive/Data/chronic/CNPIX11-Adrian/8-30-2021/SpikeGLX/8-30-2021_g1/8-30-2021_g1_imec1/8-30-2021_g1_t0.imec1.lf.bin\n",
      "nChan: 385, nFileSamp: 18000082\n",
      "nChan: 385, nFileSamp: 18000082\n",
      "nChan: 385, nFileSamp: 18000082\n",
      "20:46:14: Finished /Volumes/neuropixel_archive/Data/chronic/CNPIX11-Adrian/8-31-2021/SpikeGLX/8-31-2021_g0/8-31-2021_g0_imec1/8-31-2021_g0_t0.imec1.lf.bin\n",
      "nChan: 385, nFileSamp: 18000083\n",
      "nChan: 385, nFileSamp: 18000083\n",
      "nChan: 385, nFileSamp: 18000083\n",
      "20:50:01: Finished /Volumes/neuropixel_archive/Data/chronic/CNPIX11-Adrian/8-31-2021/SpikeGLX/8-31-2021_g0/8-31-2021_g0_imec1/8-31-2021_g0_t1.imec1.lf.bin\n",
      "nChan: 385, nFileSamp: 18000083\n",
      "nChan: 385, nFileSamp: 18000083\n",
      "nChan: 385, nFileSamp: 18000083\n",
      "20:53:41: Finished /Volumes/neuropixel_archive/Data/chronic/CNPIX11-Adrian/8-31-2021/SpikeGLX/8-31-2021_g0/8-31-2021_g0_imec1/8-31-2021_g0_t2.imec1.lf.bin\n",
      "nChan: 385, nFileSamp: 18000083\n",
      "nChan: 385, nFileSamp: 18000083\n",
      "nChan: 385, nFileSamp: 18000083\n",
      "20:57:22: Finished /Volumes/neuropixel_archive/Data/chronic/CNPIX11-Adrian/8-31-2021/SpikeGLX/8-31-2021_g0/8-31-2021_g0_imec1/8-31-2021_g0_t3.imec1.lf.bin\n",
      "nChan: 385, nFileSamp: 18000083\n",
      "nChan: 385, nFileSamp: 18000083\n",
      "nChan: 385, nFileSamp: 18000083\n",
      "21:01:06: Finished /Volumes/neuropixel_archive/Data/chronic/CNPIX11-Adrian/8-31-2021/SpikeGLX/8-31-2021_g0/8-31-2021_g0_imec1/8-31-2021_g0_t4.imec1.lf.bin\n",
      "nChan: 385, nFileSamp: 18000082\n",
      "nChan: 385, nFileSamp: 18000082\n",
      "nChan: 385, nFileSamp: 18000082\n",
      "21:04:35: Finished /Volumes/neuropixel_archive/Data/chronic/CNPIX11-Adrian/8-31-2021/SpikeGLX/8-31-2021_g0/8-31-2021_g0_imec1/8-31-2021_g0_t5.imec1.lf.bin\n",
      "nChan: 385, nFileSamp: 18000082\n",
      "nChan: 385, nFileSamp: 18000082\n",
      "nChan: 385, nFileSamp: 18000082\n",
      "21:08:00: Finished /Volumes/neuropixel_archive/Data/chronic/CNPIX11-Adrian/8-31-2021/SpikeGLX/8-31-2021_g0/8-31-2021_g0_imec1/8-31-2021_g0_t6.imec1.lf.bin\n",
      "nChan: 385, nFileSamp: 18000083\n",
      "nChan: 385, nFileSamp: 18000083\n",
      "nChan: 385, nFileSamp: 18000083\n",
      "21:11:50: Finished /Volumes/neuropixel_archive/Data/chronic/CNPIX11-Adrian/8-31-2021/SpikeGLX/8-31-2021_g0/8-31-2021_g0_imec1/8-31-2021_g0_t7.imec1.lf.bin\n",
      "nChan: 385, nFileSamp: 18000083\n",
      "nChan: 385, nFileSamp: 18000083\n",
      "nChan: 385, nFileSamp: 18000083\n",
      "21:15:36: Finished /Volumes/neuropixel_archive/Data/chronic/CNPIX11-Adrian/8-31-2021/SpikeGLX/8-31-2021_g0/8-31-2021_g0_imec1/8-31-2021_g0_t8.imec1.lf.bin\n",
      "nChan: 385, nFileSamp: 18000083\n",
      "nChan: 385, nFileSamp: 18000083\n",
      "nChan: 385, nFileSamp: 18000083\n",
      "21:19:29: Finished /Volumes/neuropixel_archive/Data/chronic/CNPIX11-Adrian/8-31-2021/SpikeGLX/8-31-2021_g0/8-31-2021_g0_imec1/8-31-2021_g0_t9.imec1.lf.bin\n",
      "nChan: 385, nFileSamp: 18000083\n",
      "nChan: 385, nFileSamp: 18000083\n",
      "nChan: 385, nFileSamp: 18000083\n",
      "21:23:25: Finished /Volumes/neuropixel_archive/Data/chronic/CNPIX11-Adrian/8-31-2021/SpikeGLX/8-31-2021_g0/8-31-2021_g0_imec1/8-31-2021_g0_t10.imec1.lf.bin\n",
      "nChan: 385, nFileSamp: 1824357\n",
      "nChan: 385, nFileSamp: 1824357\n",
      "nChan: 385, nFileSamp: 1824357\n",
      "21:24:02: Finished /Volumes/neuropixel_archive/Data/chronic/CNPIX11-Adrian/8-31-2021/SpikeGLX/8-31-2021_g0/8-31-2021_g0_imec1/8-31-2021_g0_t11.imec1.lf.bin\n"
     ]
    }
   ],
   "source": [
    "get_condition_bandpower(\"Adrian\", \"sleep_homeostasis\", \"imec1\")"
   ]
  },
  {
   "cell_type": "code",
   "execution_count": null,
   "metadata": {},
   "outputs": [],
   "source": []
  }
 ],
 "metadata": {
  "interpreter": {
   "hash": "f06ef39cb6ee7741943854b92e7f7bd5e36de2ca6c2d3088dba84f9a49c05b4a"
  },
  "kernelspec": {
   "display_name": "Python 3.7.10 64-bit ('ecephys': conda)",
   "name": "python3"
  },
  "language_info": {
   "codemirror_mode": {
    "name": "ipython",
    "version": 3
   },
   "file_extension": ".py",
   "mimetype": "text/x-python",
   "name": "python",
   "nbconvert_exporter": "python",
   "pygments_lexer": "ipython3",
   "version": "3.7.10"
  }
 },
 "nbformat": 4,
 "nbformat_minor": 4
}
