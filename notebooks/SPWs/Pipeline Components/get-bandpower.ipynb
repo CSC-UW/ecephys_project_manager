{
 "cells": [
  {
   "cell_type": "code",
   "execution_count": 1,
   "metadata": {
    "execution": {
     "iopub.execute_input": "2021-04-09T16:51:46.012195Z",
     "iopub.status.busy": "2021-04-09T16:51:46.011799Z",
     "iopub.status.idle": "2021-04-09T16:51:46.026784Z",
     "shell.execute_reply": "2021-04-09T16:51:46.026074Z",
     "shell.execute_reply.started": "2021-04-09T16:51:46.012148Z"
    }
   },
   "outputs": [],
   "source": [
    "%load_ext autoreload\n",
    "%autoreload 2"
   ]
  },
  {
   "cell_type": "markdown",
   "metadata": {},
   "source": [
    "# Imports and definitions"
   ]
  },
  {
   "cell_type": "code",
   "execution_count": 2,
   "metadata": {
    "execution": {
     "iopub.execute_input": "2021-04-09T16:51:46.752717Z",
     "iopub.status.busy": "2021-04-09T16:51:46.752379Z",
     "iopub.status.idle": "2021-04-09T16:51:47.032639Z",
     "shell.execute_reply": "2021-04-09T16:51:47.031895Z",
     "shell.execute_reply.started": "2021-04-09T16:51:46.752678Z"
    }
   },
   "outputs": [],
   "source": [
    "import numpy as np\n",
    "import pandas as pd\n",
    "from datetime import datetime\n",
    "import xarray as xr\n",
    "from pathlib import Path"
   ]
  },
  {
   "cell_type": "code",
   "execution_count": 4,
   "metadata": {
    "execution": {
     "iopub.execute_input": "2021-04-09T16:52:17.527927Z",
     "iopub.status.busy": "2021-04-09T16:52:17.527474Z",
     "iopub.status.idle": "2021-04-09T16:52:17.730682Z",
     "shell.execute_reply": "2021-04-09T16:52:17.730005Z",
     "shell.execute_reply.started": "2021-04-09T16:52:17.527873Z"
    }
   },
   "outputs": [],
   "source": [
    "from ecephys_analyses.data import channel_groups, paths, load\n",
    "from ecephys.sglx_utils import load_timeseries\n",
    "import ecephys.signal.timefrequency as tfr"
   ]
  },
  {
   "cell_type": "code",
   "execution_count": 5,
   "metadata": {
    "execution": {
     "iopub.execute_input": "2021-04-09T16:52:18.427249Z",
     "iopub.status.busy": "2021-04-09T16:52:18.426757Z",
     "iopub.status.idle": "2021-04-09T16:52:18.450248Z",
     "shell.execute_reply": "2021-04-09T16:52:18.449450Z",
     "shell.execute_reply.started": "2021-04-09T16:52:18.427188Z"
    }
   },
   "outputs": [
    {
     "data": {
      "text/plain": [
       "<xarray.core.options.set_options at 0x7f321fa52390>"
      ]
     },
     "execution_count": 5,
     "metadata": {},
     "output_type": "execute_result"
    }
   ],
   "source": [
    "xr.set_options(keep_attrs=True)"
   ]
  },
  {
   "cell_type": "code",
   "execution_count": 72,
   "metadata": {
    "execution": {
     "iopub.execute_input": "2021-04-09T17:41:16.955819Z",
     "iopub.status.busy": "2021-04-09T17:41:16.955264Z",
     "iopub.status.idle": "2021-04-09T17:41:16.980312Z",
     "shell.execute_reply": "2021-04-09T17:41:16.979806Z",
     "shell.execute_reply.started": "2021-04-09T17:41:16.955747Z"
    }
   },
   "outputs": [],
   "source": [
    "def parallel_spectrogram_welch(sig, **kwargs):\n",
    "    freqs, spg_times, spg = tfr.parallel_spectrogram_welch(sig.values, sig.fs, **kwargs)\n",
    "    spg_times = spg_times + sig.time.values.min()\n",
    "    return xr.DataArray(\n",
    "        spg,\n",
    "        dims=(\"frequency\", \"time\", \"channel\"),\n",
    "        coords={\"frequency\": freqs, \"time\": spg_times, \"channel\": sig.channel.values},\n",
    "        attrs={'units': f\"{sig.units}^2/Hz\", 'file_start': sig.fileCreateTime}\n",
    "    )"
   ]
  },
  {
   "cell_type": "code",
   "execution_count": 73,
   "metadata": {
    "execution": {
     "iopub.execute_input": "2021-04-09T17:41:17.147037Z",
     "iopub.status.busy": "2021-04-09T17:41:17.146884Z",
     "iopub.status.idle": "2021-04-09T17:41:17.163240Z",
     "shell.execute_reply": "2021-04-09T17:41:17.162814Z",
     "shell.execute_reply.started": "2021-04-09T17:41:17.147020Z"
    }
   },
   "outputs": [],
   "source": [
    "def get_bandpower_from_spectrogram(spg, chans, f_range):\n",
    "    bandpower = spg.sel(frequency=slice(*f_range)).sum(\n",
    "        dim=\"frequency\"\n",
    "    )\n",
    "    bandpower.attrs[\"freq_range\"] = f_range\n",
    "    bandpower.attrs['chans'] = chans\n",
    "\n",
    "    return bandpower"
   ]
  },
  {
   "cell_type": "code",
   "execution_count": 84,
   "metadata": {
    "execution": {
     "iopub.execute_input": "2021-04-09T17:45:20.113995Z",
     "iopub.status.busy": "2021-04-09T17:45:20.113460Z",
     "iopub.status.idle": "2021-04-09T17:45:20.134985Z",
     "shell.execute_reply": "2021-04-09T17:45:20.134167Z",
     "shell.execute_reply.started": "2021-04-09T17:45:20.113927Z"
    }
   },
   "outputs": [],
   "source": [
    "def get_bandpower(sig, chans, f_range):\n",
    "    spg = parallel_spectrogram_welch(sig).median(dim=\"channel\")\n",
    "    return get_bandpower_from_spectrogram(spg, chans, f_range)"
   ]
  },
  {
   "cell_type": "code",
   "execution_count": 118,
   "metadata": {
    "execution": {
     "iopub.execute_input": "2021-04-09T20:14:07.986105Z",
     "iopub.status.busy": "2021-04-09T20:14:07.985606Z",
     "iopub.status.idle": "2021-04-09T20:14:08.025310Z",
     "shell.execute_reply": "2021-04-09T20:14:08.024571Z",
     "shell.execute_reply.started": "2021-04-09T20:14:07.986045Z"
    }
   },
   "outputs": [],
   "source": [
    "def get_condition_power(subject, experiment, condition):\n",
    "    cx_chans = channel_groups.superficial_ctx[subject]\n",
    "    wm_chans = channel_groups.white_matter[subject]\n",
    "    \n",
    "    bin_paths = paths.get_sglx_style_datapaths(subject, experiment, condition, \"lf.bin\")\n",
    "    sr_chans_paths = paths.get_sglx_style_datapaths(subject, experiment, condition, \"sr_chans.csv\")\n",
    "    power_paths = paths.get_sglx_style_datapaths(subject, experiment, condition, \"pow.nc\")\n",
    "    \n",
    "    for bin_path, sr_chans_path, power_path in zip(bin_paths, sr_chans_paths, power_paths):\n",
    "        sr_chans_df = load.load_sr_chans(sr_chans_path)\n",
    "        power_by_epoch = list()\n",
    "        for epoch in sr_chans_df.itertuples():\n",
    "            cx = load_timeseries(bin_path, cx_chans, start_time=epoch.start_time, end_time=epoch.end_time)\n",
    "            wm = load_timeseries(bin_path, wm_chans, start_time=epoch.start_time, end_time=epoch.end_time)\n",
    "            sr = load_timeseries(bin_path, epoch.sr_chans, start_time=epoch.start_time, end_time=epoch.end_time)\n",
    "\n",
    "            cx_wm_ref = cx - wm.values\n",
    "            cx_wm_ref.attrs['reference'] = wm.channel.values\n",
    "\n",
    "            sr_wm_ref = sr - wm.values\n",
    "            sr_wm_ref.attrs['reference'] = wm.channel.values\n",
    "\n",
    "            delta = (0.5, 4)\n",
    "            theta = (5, 10)\n",
    "            power = xr.Dataset({'mpta_delta_cbm_ref': get_bandpower(cx, cx_chans, delta), \n",
    "                                'mpta_theta_cbm_ref': get_bandpower(cx, cx_chans, theta),\n",
    "                                'sr_delta_cbm_ref': get_bandpower(sr, epoch.sr_chans, delta), \n",
    "                                'sr_theta_cbm_ref': get_bandpower(sr, epoch.sr_chans, theta),\n",
    "                                'mpta_delta_wm_ref': get_bandpower(cx_wm_ref, cx_chans, delta),\n",
    "                                'mpta_theta_wm_ref': get_bandpower(cx_wm_ref, cx_chans, theta),\n",
    "                                'sr_delta_wm_ref': get_bandpower(sr_wm_ref, epoch.sr_chans, delta),\n",
    "                                'sr_theta_wm_ref': get_bandpower(sr_wm_ref, epoch.sr_chans, theta)})\n",
    "            power_by_epoch.append(power)\n",
    "            \n",
    "        power = xr.concat(power_by_epoch, dim=\"time\")\n",
    "        Path(power_path).parent.mkdir(parents=True, exist_ok=True) # Create parent directories if they do not already exist.\n",
    "        power.to_netcdf(power_path)\n",
    "        power.close()\n",
    "        \n",
    "    current_time = datetime.now().strftime(\"%H:%M:%S\")\n",
    "    print(f\"{current_time}: Finished {str(bin_path)}\")"
   ]
  },
  {
   "cell_type": "code",
   "execution_count": null,
   "metadata": {},
   "outputs": [],
   "source": []
  }
 ],
 "metadata": {
  "kernelspec": {
   "display_name": "Python 3",
   "language": "python",
   "name": "python3"
  },
  "language_info": {
   "codemirror_mode": {
    "name": "ipython",
    "version": 3
   },
   "file_extension": ".py",
   "mimetype": "text/x-python",
   "name": "python",
   "nbconvert_exporter": "python",
   "pygments_lexer": "ipython3",
   "version": "3.7.9"
  }
 },
 "nbformat": 4,
 "nbformat_minor": 4
}
