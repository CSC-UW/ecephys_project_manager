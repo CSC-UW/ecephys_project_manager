{
 "cells": [
  {
   "cell_type": "code",
   "execution_count": 12,
   "metadata": {
    "execution": {
     "iopub.execute_input": "2021-04-07T16:24:09.207360Z",
     "iopub.status.busy": "2021-04-07T16:24:09.206929Z",
     "iopub.status.idle": "2021-04-07T16:24:09.226367Z",
     "shell.execute_reply": "2021-04-07T16:24:09.225719Z",
     "shell.execute_reply.started": "2021-04-07T16:24:09.207305Z"
    }
   },
   "outputs": [
    {
     "name": "stdout",
     "output_type": "stream",
     "text": [
      "The autoreload extension is already loaded. To reload it, use:\n",
      "  %reload_ext autoreload\n"
     ]
    }
   ],
   "source": [
    "%load_ext autoreload\n",
    "%autoreload 2"
   ]
  },
  {
   "cell_type": "markdown",
   "metadata": {},
   "source": [
    "# Imports and definitions"
   ]
  },
  {
   "cell_type": "code",
   "execution_count": 13,
   "metadata": {
    "execution": {
     "iopub.execute_input": "2021-04-07T16:24:09.878667Z",
     "iopub.status.busy": "2021-04-07T16:24:09.878239Z",
     "iopub.status.idle": "2021-04-07T16:24:09.895333Z",
     "shell.execute_reply": "2021-04-07T16:24:09.894751Z",
     "shell.execute_reply.started": "2021-04-07T16:24:09.878611Z"
    }
   },
   "outputs": [],
   "source": [
    "import numpy as np\n",
    "import pandas as pd\n",
    "from datetime import datetime\n",
    "import xarray as xr\n",
    "from pathlib import Path"
   ]
  },
  {
   "cell_type": "code",
   "execution_count": 14,
   "metadata": {
    "execution": {
     "iopub.execute_input": "2021-04-07T16:24:10.222408Z",
     "iopub.status.busy": "2021-04-07T16:24:10.222045Z",
     "iopub.status.idle": "2021-04-07T16:24:10.240111Z",
     "shell.execute_reply": "2021-04-07T16:24:10.239559Z",
     "shell.execute_reply.started": "2021-04-07T16:24:10.222359Z"
    }
   },
   "outputs": [],
   "source": [
    "from ecephys_analyses.data import channel_groups, paths\n",
    "from ecephys.sglx_utils import load_timeseries\n",
    "import ecephys.signal.timefrequency as tfr"
   ]
  },
  {
   "cell_type": "code",
   "execution_count": 15,
   "metadata": {
    "execution": {
     "iopub.execute_input": "2021-04-07T16:24:10.910826Z",
     "iopub.status.busy": "2021-04-07T16:24:10.910462Z",
     "iopub.status.idle": "2021-04-07T16:24:10.928491Z",
     "shell.execute_reply": "2021-04-07T16:24:10.928043Z",
     "shell.execute_reply.started": "2021-04-07T16:24:10.910778Z"
    }
   },
   "outputs": [
    {
     "data": {
      "text/plain": [
       "<xarray.core.options.set_options at 0x7f8e907fde90>"
      ]
     },
     "execution_count": 15,
     "metadata": {},
     "output_type": "execute_result"
    }
   ],
   "source": [
    "xr.set_options(keep_attrs=True)"
   ]
  },
  {
   "cell_type": "code",
   "execution_count": 16,
   "metadata": {
    "execution": {
     "iopub.execute_input": "2021-04-07T16:24:11.709502Z",
     "iopub.status.busy": "2021-04-07T16:24:11.709015Z",
     "iopub.status.idle": "2021-04-07T16:24:11.726311Z",
     "shell.execute_reply": "2021-04-07T16:24:11.725748Z",
     "shell.execute_reply.started": "2021-04-07T16:24:11.709444Z"
    }
   },
   "outputs": [],
   "source": [
    "DELTA_RANGE = (0.5, 4)\n",
    "THETA_RANGE = (5, 10)"
   ]
  },
  {
   "cell_type": "code",
   "execution_count": 17,
   "metadata": {
    "execution": {
     "iopub.execute_input": "2021-04-07T16:24:12.453863Z",
     "iopub.status.busy": "2021-04-07T16:24:12.453506Z",
     "iopub.status.idle": "2021-04-07T16:24:12.472211Z",
     "shell.execute_reply": "2021-04-07T16:24:12.471682Z",
     "shell.execute_reply.started": "2021-04-07T16:24:12.453817Z"
    }
   },
   "outputs": [],
   "source": [
    "def parallel_spectrogram_welch(sig, **kwargs):\n",
    "    freqs, spg_times, spg = tfr.parallel_spectrogram_welch(sig.values, sig.fs, **kwargs)\n",
    "    spg_times = spg_times + sig.time.values.min()\n",
    "    return xr.DataArray(\n",
    "        spg,\n",
    "        dims=(\"frequency\", \"time\", \"channel\"),\n",
    "        coords={\"frequency\": freqs, \"time\": spg_times, \"channel\": sig.channel.values},\n",
    "        attrs={'units': f\"{sig.units}^2/Hz\", 'file_start': sig.fileCreateTime}\n",
    "    )"
   ]
  },
  {
   "cell_type": "code",
   "execution_count": 18,
   "metadata": {
    "execution": {
     "iopub.execute_input": "2021-04-07T16:24:12.981815Z",
     "iopub.status.busy": "2021-04-07T16:24:12.981419Z",
     "iopub.status.idle": "2021-04-07T16:24:12.999320Z",
     "shell.execute_reply": "2021-04-07T16:24:12.998713Z",
     "shell.execute_reply.started": "2021-04-07T16:24:12.981763Z"
    }
   },
   "outputs": [],
   "source": [
    "def get_bandpower(spg, f_range, chans):\n",
    "    bandpower = spg.sel(frequency=slice(*f_range)).sum(\n",
    "        dim=\"frequency\"\n",
    "    )\n",
    "    bandpower.attrs[\"freq_range\"] = f_range\n",
    "    bandpower.attrs['chans'] = chans\n",
    "\n",
    "    return bandpower"
   ]
  },
  {
   "cell_type": "code",
   "execution_count": 19,
   "metadata": {
    "execution": {
     "iopub.execute_input": "2021-04-07T16:24:15.071119Z",
     "iopub.status.busy": "2021-04-07T16:24:15.070724Z",
     "iopub.status.idle": "2021-04-07T16:24:15.093329Z",
     "shell.execute_reply": "2021-04-07T16:24:15.092873Z",
     "shell.execute_reply.started": "2021-04-07T16:24:15.071068Z"
    }
   },
   "outputs": [],
   "source": [
    "def get_file_bandpower(bin_path, bandpower_path, cx_chans, sr_chans):\n",
    "    cx_sig = load_timeseries(bin_path, cx_chans)\n",
    "    cx_spg = parallel_spectrogram_welch(cx_sig).median(dim=\"channel\")\n",
    "    cx_theta = get_bandpower(cx_spg, THETA_RANGE, cx_chans)\n",
    "    cx_delta = get_bandpower(cx_spg, DELTA_RANGE, cx_chans)\n",
    "    \n",
    "    sr_sig = load_timeseries(bin_path, sr_chans)\n",
    "    sr_spg = parallel_spectrogram_welch(sr_sig).median(dim=\"channel\")\n",
    "    sr_theta = get_bandpower(sr_spg, THETA_RANGE, sr_chans)\n",
    "    sr_delta = get_bandpower(sr_spg, DELTA_RANGE, sr_chans)\n",
    "    \n",
    "    bandpower = xr.Dataset({'mpta_delta': cx_delta, 'mpta_theta': cx_theta, 'sr_delta': sr_delta, 'sr_theta': sr_theta})\n",
    "    \n",
    "    # Create parent directories if they do not already exist.\n",
    "    Path(bandpower_path).parent.mkdir(parents=True, exist_ok=True)\n",
    "    \n",
    "    bandpower.to_netcdf(bandpower_path)\n",
    "    bandpower.close()"
   ]
  },
  {
   "cell_type": "code",
   "execution_count": 20,
   "metadata": {
    "execution": {
     "iopub.execute_input": "2021-04-07T16:24:15.237988Z",
     "iopub.status.busy": "2021-04-07T16:24:15.237652Z",
     "iopub.status.idle": "2021-04-07T16:24:15.256089Z",
     "shell.execute_reply": "2021-04-07T16:24:15.255272Z",
     "shell.execute_reply.started": "2021-04-07T16:24:15.237946Z"
    }
   },
   "outputs": [],
   "source": [
    "def get_condition_bandpower(subject, condition):\n",
    "    cx_chans = channel_groups.superficial_ctx[subject]\n",
    "    sr_chans = channel_groups.stratum_radiatum_140um_to_200um[subject]\n",
    "    \n",
    "    bin_paths = paths.get_sglx_style_datapaths(subject=subject, experiment=\"sleep-homeostasis\", condition=condition, ext=\"lf.bin\")\n",
    "    pow_paths = paths.get_sglx_style_datapaths(subject=subject, experiment=\"sleep-homeostasis\", condition=condition, ext=\"pow.nc\")\n",
    "\n",
    "    for bin_path, pow_path in zip(bin_paths, pow_paths):\n",
    "        get_file_bandpower(bin_path, pow_path, cx_chans, sr_chans)\n",
    "        current_time = datetime.now().strftime(\"%H:%M:%S\")\n",
    "        print(f\"{current_time}: Finished {str(bin_path)}\")"
   ]
  },
  {
   "cell_type": "markdown",
   "metadata": {},
   "source": [
    "# Run automated pipeline"
   ]
  },
  {
   "cell_type": "code",
   "execution_count": 28,
   "metadata": {
    "execution": {
     "iopub.execute_input": "2021-04-07T20:53:47.847354Z",
     "iopub.status.busy": "2021-04-07T20:53:47.846853Z",
     "iopub.status.idle": "2021-04-07T21:27:06.343160Z",
     "shell.execute_reply": "2021-04-07T21:27:06.342277Z",
     "shell.execute_reply.started": "2021-04-07T20:53:47.847293Z"
    }
   },
   "outputs": [
    {
     "name": "stdout",
     "output_type": "stream",
     "text": [
      "nChan: 385, nFileSamp: 18000000\n",
      "nChan: 385, nFileSamp: 18000000\n",
      "15:58:58: Finished /Volumes/neuropixel_archive/Data/chronic/CNPIX2-Segundo/1-21-2020/1-21-2020_g0/1-21-2020_g0_imec0/1-21-2020_g0_t14.imec0.lf.bin\n",
      "nChan: 385, nFileSamp: 18000000\n",
      "nChan: 385, nFileSamp: 18000000\n",
      "16:04:06: Finished /Volumes/neuropixel_archive/Data/chronic/CNPIX2-Segundo/1-21-2020/1-21-2020_g0/1-21-2020_g0_imec0/1-21-2020_g0_t15.imec0.lf.bin\n",
      "nChan: 385, nFileSamp: 18000000\n",
      "nChan: 385, nFileSamp: 18000000\n",
      "16:09:39: Finished /Volumes/neuropixel_archive/Data/chronic/CNPIX2-Segundo/1-21-2020/1-21-2020_g0/1-21-2020_g0_imec0/1-21-2020_g0_t16.imec0.lf.bin\n",
      "nChan: 385, nFileSamp: 18000000\n",
      "nChan: 385, nFileSamp: 18000000\n",
      "16:15:24: Finished /Volumes/neuropixel_archive/Data/chronic/CNPIX2-Segundo/1-21-2020/1-21-2020_g0/1-21-2020_g0_imec0/1-21-2020_g0_t17.imec0.lf.bin\n",
      "nChan: 385, nFileSamp: 18000000\n",
      "nChan: 385, nFileSamp: 18000000\n",
      "16:20:24: Finished /Volumes/neuropixel_archive/Data/chronic/CNPIX2-Segundo/1-21-2020/1-21-2020_g0/1-21-2020_g0_imec0/1-21-2020_g0_t18.imec0.lf.bin\n",
      "nChan: 385, nFileSamp: 18000001\n",
      "nChan: 385, nFileSamp: 18000001\n",
      "16:27:06: Finished /Volumes/neuropixel_archive/Data/chronic/CNPIX2-Segundo/1-21-2020/1-21-2020_g0/1-21-2020_g0_imec0/1-21-2020_g0_t19.imec0.lf.bin\n"
     ]
    }
   ],
   "source": [
    "get_condition_bandpower(\"Segundo\", \"dark-period-circadian-match\")"
   ]
  },
  {
   "cell_type": "code",
   "execution_count": 29,
   "metadata": {
    "execution": {
     "iopub.execute_input": "2021-04-07T21:27:06.367307Z",
     "iopub.status.busy": "2021-04-07T21:27:06.367093Z",
     "iopub.status.idle": "2021-04-07T21:58:58.426895Z",
     "shell.execute_reply": "2021-04-07T21:58:58.425734Z",
     "shell.execute_reply.started": "2021-04-07T21:27:06.367281Z"
    }
   },
   "outputs": [
    {
     "name": "stdout",
     "output_type": "stream",
     "text": [
      "nChan: 385, nFileSamp: 18000001\n",
      "nChan: 385, nFileSamp: 18000001\n",
      "16:33:10: Finished /Volumes/neuropixel_archive/Data/chronic/CNPIX2-Segundo/1-21-2020/1-21-2020_g0/1-21-2020_g0_imec0/1-21-2020_g0_t26.imec0.lf.bin\n",
      "nChan: 385, nFileSamp: 18000001\n",
      "nChan: 385, nFileSamp: 18000001\n",
      "16:38:53: Finished /Volumes/neuropixel_archive/Data/chronic/CNPIX2-Segundo/1-21-2020/1-21-2020_g0/1-21-2020_g0_imec0/1-21-2020_g0_t27.imec0.lf.bin\n",
      "nChan: 385, nFileSamp: 18000001\n",
      "nChan: 385, nFileSamp: 18000001\n",
      "16:44:32: Finished /Volumes/neuropixel_archive/Data/chronic/CNPIX2-Segundo/1-21-2020/1-21-2020_g0/1-21-2020_g0_imec0/1-21-2020_g0_t28.imec0.lf.bin\n",
      "nChan: 385, nFileSamp: 18000001\n",
      "nChan: 385, nFileSamp: 18000001\n",
      "16:49:33: Finished /Volumes/neuropixel_archive/Data/chronic/CNPIX2-Segundo/1-21-2020/1-21-2020_g0/1-21-2020_g0_imec0/1-21-2020_g0_t29.imec0.lf.bin\n",
      "nChan: 385, nFileSamp: 18000001\n",
      "nChan: 385, nFileSamp: 18000001\n",
      "16:54:20: Finished /Volumes/neuropixel_archive/Data/chronic/CNPIX2-Segundo/1-21-2020/1-21-2020_g0/1-21-2020_g0_imec0/1-21-2020_g0_t30.imec0.lf.bin\n",
      "nChan: 385, nFileSamp: 18000001\n",
      "nChan: 385, nFileSamp: 18000001\n",
      "16:58:58: Finished /Volumes/neuropixel_archive/Data/chronic/CNPIX2-Segundo/1-21-2020/1-21-2020_g0/1-21-2020_g0_imec0/1-21-2020_g0_t31.imec0.lf.bin\n"
     ]
    }
   ],
   "source": [
    "get_condition_bandpower(\"Segundo\", \"dark-period\")"
   ]
  },
  {
   "cell_type": "code",
   "execution_count": 30,
   "metadata": {
    "execution": {
     "iopub.execute_input": "2021-04-07T21:58:58.428855Z",
     "iopub.status.busy": "2021-04-07T21:58:58.428659Z",
     "iopub.status.idle": "2021-04-07T22:28:22.147316Z",
     "shell.execute_reply": "2021-04-07T22:28:22.146548Z",
     "shell.execute_reply.started": "2021-04-07T21:58:58.428822Z"
    }
   },
   "outputs": [
    {
     "name": "stdout",
     "output_type": "stream",
     "text": [
      "nChan: 385, nFileSamp: 18000000\n",
      "nChan: 385, nFileSamp: 18000000\n",
      "17:04:23: Finished /Volumes/neuropixel_archive/Data/chronic/CNPIX3-Valentino/2-19-2020/2-19-2020_g1/2-19-2020_g1_imec0/2-19-2020_g1_t6.imec0.lf.bin\n",
      "nChan: 385, nFileSamp: 18000000\n",
      "nChan: 385, nFileSamp: 18000000\n",
      "17:08:46: Finished /Volumes/neuropixel_archive/Data/chronic/CNPIX3-Valentino/2-19-2020/2-19-2020_g1/2-19-2020_g1_imec0/2-19-2020_g1_t7.imec0.lf.bin\n",
      "nChan: 385, nFileSamp: 18000000\n",
      "nChan: 385, nFileSamp: 18000000\n",
      "17:13:30: Finished /Volumes/neuropixel_archive/Data/chronic/CNPIX3-Valentino/2-19-2020/2-19-2020_g1/2-19-2020_g1_imec0/2-19-2020_g1_t8.imec0.lf.bin\n",
      "nChan: 385, nFileSamp: 18000000\n",
      "nChan: 385, nFileSamp: 18000000\n",
      "17:17:58: Finished /Volumes/neuropixel_archive/Data/chronic/CNPIX3-Valentino/2-19-2020/2-19-2020_g1/2-19-2020_g1_imec0/2-19-2020_g1_t9.imec0.lf.bin\n",
      "nChan: 385, nFileSamp: 18000000\n",
      "nChan: 385, nFileSamp: 18000000\n",
      "17:23:24: Finished /Volumes/neuropixel_archive/Data/chronic/CNPIX3-Valentino/2-19-2020/2-19-2020_g1/2-19-2020_g1_imec0/2-19-2020_g1_t10.imec0.lf.bin\n",
      "nChan: 385, nFileSamp: 18000000\n",
      "nChan: 385, nFileSamp: 18000000\n",
      "17:28:22: Finished /Volumes/neuropixel_archive/Data/chronic/CNPIX3-Valentino/2-19-2020/2-19-2020_g1/2-19-2020_g1_imec0/2-19-2020_g1_t11.imec0.lf.bin\n"
     ]
    }
   ],
   "source": [
    "get_condition_bandpower(\"Valentino\", \"dark-period-circadian-match\")"
   ]
  },
  {
   "cell_type": "code",
   "execution_count": 31,
   "metadata": {
    "execution": {
     "iopub.execute_input": "2021-04-07T22:28:22.148471Z",
     "iopub.status.busy": "2021-04-07T22:28:22.148312Z",
     "iopub.status.idle": "2021-04-07T22:57:03.952693Z",
     "shell.execute_reply": "2021-04-07T22:57:03.951893Z",
     "shell.execute_reply.started": "2021-04-07T22:28:22.148450Z"
    }
   },
   "outputs": [
    {
     "name": "stdout",
     "output_type": "stream",
     "text": [
      "nChan: 385, nFileSamp: 18000000\n",
      "nChan: 385, nFileSamp: 18000000\n",
      "17:32:58: Finished /Volumes/neuropixel_archive/Data/chronic/CNPIX3-Valentino/2-19-2020/2-20-2020_g0/2-20-2020_g0_imec0/2-20-2020_g0_t6.imec0.lf.bin\n",
      "nChan: 385, nFileSamp: 18000000\n",
      "nChan: 385, nFileSamp: 18000000\n",
      "17:37:39: Finished /Volumes/neuropixel_archive/Data/chronic/CNPIX3-Valentino/2-19-2020/2-20-2020_g0/2-20-2020_g0_imec0/2-20-2020_g0_t7.imec0.lf.bin\n",
      "nChan: 385, nFileSamp: 18000000\n",
      "nChan: 385, nFileSamp: 18000000\n",
      "17:42:25: Finished /Volumes/neuropixel_archive/Data/chronic/CNPIX3-Valentino/2-19-2020/2-20-2020_g0/2-20-2020_g0_imec0/2-20-2020_g0_t8.imec0.lf.bin\n",
      "nChan: 385, nFileSamp: 18000000\n",
      "nChan: 385, nFileSamp: 18000000\n",
      "17:47:04: Finished /Volumes/neuropixel_archive/Data/chronic/CNPIX3-Valentino/2-19-2020/2-20-2020_g0/2-20-2020_g0_imec0/2-20-2020_g0_t9.imec0.lf.bin\n",
      "nChan: 385, nFileSamp: 18000000\n",
      "nChan: 385, nFileSamp: 18000000\n",
      "17:52:17: Finished /Volumes/neuropixel_archive/Data/chronic/CNPIX3-Valentino/2-19-2020/2-20-2020_g0/2-20-2020_g0_imec0/2-20-2020_g0_t10.imec0.lf.bin\n",
      "nChan: 385, nFileSamp: 18000000\n",
      "nChan: 385, nFileSamp: 18000000\n",
      "17:57:03: Finished /Volumes/neuropixel_archive/Data/chronic/CNPIX3-Valentino/2-19-2020/2-20-2020_g0/2-20-2020_g0_imec0/2-20-2020_g0_t11.imec0.lf.bin\n"
     ]
    }
   ],
   "source": [
    "get_condition_bandpower(\"Valentino\", \"dark-period\")"
   ]
  },
  {
   "cell_type": "code",
   "execution_count": 32,
   "metadata": {
    "execution": {
     "iopub.execute_input": "2021-04-07T22:57:03.953843Z",
     "iopub.status.busy": "2021-04-07T22:57:03.953682Z",
     "iopub.status.idle": "2021-04-07T23:06:24.086525Z",
     "shell.execute_reply": "2021-04-07T23:06:24.085027Z",
     "shell.execute_reply.started": "2021-04-07T22:57:03.953821Z"
    }
   },
   "outputs": [
    {
     "name": "stdout",
     "output_type": "stream",
     "text": [
      "nChan: 385, nFileSamp: 18000019\n",
      "nChan: 385, nFileSamp: 18000019\n",
      "18:01:34: Finished /Volumes/neuropixel_archive/Data/chronic/CNPIX4-Doppio/3-17-2020/3-17-2020_g0/3-17-2020_g0_imec0/3-17-2020_g0_t6.imec0.lf.bin\n",
      "nChan: 385, nFileSamp: 18000019\n",
      "nChan: 385, nFileSamp: 18000019\n"
     ]
    },
    {
     "ename": "PermissionError",
     "evalue": "[Errno 13] Permission denied: b'/Volumes/neuropixel/Data/CNPIX4-Doppio/3-17-2020/3-17-2020_g0/3-17-2020_g0_imec0/3-17-2020_g0_t7.imec0.pow.nc'",
     "output_type": "error",
     "traceback": [
      "\u001b[0;31m---------------------------------------------------------------------------\u001b[0m",
      "\u001b[0;31mKeyError\u001b[0m                                  Traceback (most recent call last)",
      "\u001b[0;32m/home/gfindlay/miniconda3/envs/ecephys/lib/python3.7/site-packages/xarray/backends/file_manager.py\u001b[0m in \u001b[0;36m_acquire_with_cache_info\u001b[0;34m(self, needs_lock)\u001b[0m\n\u001b[1;32m    198\u001b[0m             \u001b[0;32mtry\u001b[0m\u001b[0;34m:\u001b[0m\u001b[0;34m\u001b[0m\u001b[0;34m\u001b[0m\u001b[0m\n\u001b[0;32m--> 199\u001b[0;31m                 \u001b[0mfile\u001b[0m \u001b[0;34m=\u001b[0m \u001b[0mself\u001b[0m\u001b[0;34m.\u001b[0m\u001b[0m_cache\u001b[0m\u001b[0;34m[\u001b[0m\u001b[0mself\u001b[0m\u001b[0;34m.\u001b[0m\u001b[0m_key\u001b[0m\u001b[0;34m]\u001b[0m\u001b[0;34m\u001b[0m\u001b[0;34m\u001b[0m\u001b[0m\n\u001b[0m\u001b[1;32m    200\u001b[0m             \u001b[0;32mexcept\u001b[0m \u001b[0mKeyError\u001b[0m\u001b[0;34m:\u001b[0m\u001b[0;34m\u001b[0m\u001b[0;34m\u001b[0m\u001b[0m\n",
      "\u001b[0;32m/home/gfindlay/miniconda3/envs/ecephys/lib/python3.7/site-packages/xarray/backends/lru_cache.py\u001b[0m in \u001b[0;36m__getitem__\u001b[0;34m(self, key)\u001b[0m\n\u001b[1;32m     52\u001b[0m         \u001b[0;32mwith\u001b[0m \u001b[0mself\u001b[0m\u001b[0;34m.\u001b[0m\u001b[0m_lock\u001b[0m\u001b[0;34m:\u001b[0m\u001b[0;34m\u001b[0m\u001b[0;34m\u001b[0m\u001b[0m\n\u001b[0;32m---> 53\u001b[0;31m             \u001b[0mvalue\u001b[0m \u001b[0;34m=\u001b[0m \u001b[0mself\u001b[0m\u001b[0;34m.\u001b[0m\u001b[0m_cache\u001b[0m\u001b[0;34m[\u001b[0m\u001b[0mkey\u001b[0m\u001b[0;34m]\u001b[0m\u001b[0;34m\u001b[0m\u001b[0;34m\u001b[0m\u001b[0m\n\u001b[0m\u001b[1;32m     54\u001b[0m             \u001b[0mself\u001b[0m\u001b[0;34m.\u001b[0m\u001b[0m_cache\u001b[0m\u001b[0;34m.\u001b[0m\u001b[0mmove_to_end\u001b[0m\u001b[0;34m(\u001b[0m\u001b[0mkey\u001b[0m\u001b[0;34m)\u001b[0m\u001b[0;34m\u001b[0m\u001b[0;34m\u001b[0m\u001b[0m\n",
      "\u001b[0;31mKeyError\u001b[0m: [<class 'netCDF4._netCDF4.Dataset'>, ('/Volumes/neuropixel/Data/CNPIX4-Doppio/3-17-2020/3-17-2020_g0/3-17-2020_g0_imec0/3-17-2020_g0_t7.imec0.pow.nc',), 'a', (('clobber', True), ('diskless', False), ('format', 'NETCDF4'), ('persist', False))]",
      "\nDuring handling of the above exception, another exception occurred:\n",
      "\u001b[0;31mPermissionError\u001b[0m                           Traceback (most recent call last)",
      "\u001b[0;32m<ipython-input-32-ee106f71074e>\u001b[0m in \u001b[0;36m<module>\u001b[0;34m()\u001b[0m\n\u001b[0;32m----> 1\u001b[0;31m \u001b[0mget_condition_bandpower\u001b[0m\u001b[0;34m(\u001b[0m\u001b[0;34m\"Doppio\"\u001b[0m\u001b[0;34m,\u001b[0m \u001b[0;34m\"dark-period-circadian-match\"\u001b[0m\u001b[0;34m)\u001b[0m\u001b[0;34m\u001b[0m\u001b[0;34m\u001b[0m\u001b[0m\n\u001b[0m",
      "\u001b[0;32m<ipython-input-20-cfb196cef754>\u001b[0m in \u001b[0;36mget_condition_bandpower\u001b[0;34m(subject, condition)\u001b[0m\n\u001b[1;32m      7\u001b[0m \u001b[0;34m\u001b[0m\u001b[0m\n\u001b[1;32m      8\u001b[0m     \u001b[0;32mfor\u001b[0m \u001b[0mbin_path\u001b[0m\u001b[0;34m,\u001b[0m \u001b[0mpow_path\u001b[0m \u001b[0;32min\u001b[0m \u001b[0mzip\u001b[0m\u001b[0;34m(\u001b[0m\u001b[0mbin_paths\u001b[0m\u001b[0;34m,\u001b[0m \u001b[0mpow_paths\u001b[0m\u001b[0;34m)\u001b[0m\u001b[0;34m:\u001b[0m\u001b[0;34m\u001b[0m\u001b[0;34m\u001b[0m\u001b[0m\n\u001b[0;32m----> 9\u001b[0;31m         \u001b[0mget_file_bandpower\u001b[0m\u001b[0;34m(\u001b[0m\u001b[0mbin_path\u001b[0m\u001b[0;34m,\u001b[0m \u001b[0mpow_path\u001b[0m\u001b[0;34m,\u001b[0m \u001b[0mcx_chans\u001b[0m\u001b[0;34m,\u001b[0m \u001b[0msr_chans\u001b[0m\u001b[0;34m)\u001b[0m\u001b[0;34m\u001b[0m\u001b[0;34m\u001b[0m\u001b[0m\n\u001b[0m\u001b[1;32m     10\u001b[0m         \u001b[0mcurrent_time\u001b[0m \u001b[0;34m=\u001b[0m \u001b[0mdatetime\u001b[0m\u001b[0;34m.\u001b[0m\u001b[0mnow\u001b[0m\u001b[0;34m(\u001b[0m\u001b[0;34m)\u001b[0m\u001b[0;34m.\u001b[0m\u001b[0mstrftime\u001b[0m\u001b[0;34m(\u001b[0m\u001b[0;34m\"%H:%M:%S\"\u001b[0m\u001b[0;34m)\u001b[0m\u001b[0;34m\u001b[0m\u001b[0;34m\u001b[0m\u001b[0m\n\u001b[1;32m     11\u001b[0m         \u001b[0mprint\u001b[0m\u001b[0;34m(\u001b[0m\u001b[0;34mf\"{current_time}: Finished {str(bin_path)}\"\u001b[0m\u001b[0;34m)\u001b[0m\u001b[0;34m\u001b[0m\u001b[0;34m\u001b[0m\u001b[0m\n",
      "\u001b[0;32m<ipython-input-19-a7864bfd21d3>\u001b[0m in \u001b[0;36mget_file_bandpower\u001b[0;34m(bin_path, bandpower_path, cx_chans, sr_chans)\u001b[0m\n\u001b[1;32m     15\u001b[0m     \u001b[0mPath\u001b[0m\u001b[0;34m(\u001b[0m\u001b[0mbandpower_path\u001b[0m\u001b[0;34m)\u001b[0m\u001b[0;34m.\u001b[0m\u001b[0mparent\u001b[0m\u001b[0;34m.\u001b[0m\u001b[0mmkdir\u001b[0m\u001b[0;34m(\u001b[0m\u001b[0mparents\u001b[0m\u001b[0;34m=\u001b[0m\u001b[0;32mTrue\u001b[0m\u001b[0;34m,\u001b[0m \u001b[0mexist_ok\u001b[0m\u001b[0;34m=\u001b[0m\u001b[0;32mTrue\u001b[0m\u001b[0;34m)\u001b[0m\u001b[0;34m\u001b[0m\u001b[0;34m\u001b[0m\u001b[0m\n\u001b[1;32m     16\u001b[0m \u001b[0;34m\u001b[0m\u001b[0m\n\u001b[0;32m---> 17\u001b[0;31m     \u001b[0mbandpower\u001b[0m\u001b[0;34m.\u001b[0m\u001b[0mto_netcdf\u001b[0m\u001b[0;34m(\u001b[0m\u001b[0mbandpower_path\u001b[0m\u001b[0;34m)\u001b[0m\u001b[0;34m\u001b[0m\u001b[0;34m\u001b[0m\u001b[0m\n\u001b[0m\u001b[1;32m     18\u001b[0m     \u001b[0mbandpower\u001b[0m\u001b[0;34m.\u001b[0m\u001b[0mclose\u001b[0m\u001b[0;34m(\u001b[0m\u001b[0;34m)\u001b[0m\u001b[0;34m\u001b[0m\u001b[0;34m\u001b[0m\u001b[0m\n",
      "\u001b[0;32m/home/gfindlay/miniconda3/envs/ecephys/lib/python3.7/site-packages/xarray/core/dataset.py\u001b[0m in \u001b[0;36mto_netcdf\u001b[0;34m(self, path, mode, format, group, engine, encoding, unlimited_dims, compute, invalid_netcdf)\u001b[0m\n\u001b[1;32m   1652\u001b[0m             \u001b[0munlimited_dims\u001b[0m\u001b[0;34m=\u001b[0m\u001b[0munlimited_dims\u001b[0m\u001b[0;34m,\u001b[0m\u001b[0;34m\u001b[0m\u001b[0;34m\u001b[0m\u001b[0m\n\u001b[1;32m   1653\u001b[0m             \u001b[0mcompute\u001b[0m\u001b[0;34m=\u001b[0m\u001b[0mcompute\u001b[0m\u001b[0;34m,\u001b[0m\u001b[0;34m\u001b[0m\u001b[0;34m\u001b[0m\u001b[0m\n\u001b[0;32m-> 1654\u001b[0;31m             \u001b[0minvalid_netcdf\u001b[0m\u001b[0;34m=\u001b[0m\u001b[0minvalid_netcdf\u001b[0m\u001b[0;34m,\u001b[0m\u001b[0;34m\u001b[0m\u001b[0;34m\u001b[0m\u001b[0m\n\u001b[0m\u001b[1;32m   1655\u001b[0m         )\n\u001b[1;32m   1656\u001b[0m \u001b[0;34m\u001b[0m\u001b[0m\n",
      "\u001b[0;32m/home/gfindlay/miniconda3/envs/ecephys/lib/python3.7/site-packages/xarray/backends/api.py\u001b[0m in \u001b[0;36mto_netcdf\u001b[0;34m(dataset, path_or_file, mode, format, group, engine, encoding, unlimited_dims, compute, multifile, invalid_netcdf)\u001b[0m\n\u001b[1;32m   1092\u001b[0m                 \u001b[0;34m\"unrecognized option 'invalid_netcdf' for engine %s\"\u001b[0m \u001b[0;34m%\u001b[0m \u001b[0mengine\u001b[0m\u001b[0;34m\u001b[0m\u001b[0;34m\u001b[0m\u001b[0m\n\u001b[1;32m   1093\u001b[0m             )\n\u001b[0;32m-> 1094\u001b[0;31m     \u001b[0mstore\u001b[0m \u001b[0;34m=\u001b[0m \u001b[0mstore_open\u001b[0m\u001b[0;34m(\u001b[0m\u001b[0mtarget\u001b[0m\u001b[0;34m,\u001b[0m \u001b[0mmode\u001b[0m\u001b[0;34m,\u001b[0m \u001b[0mformat\u001b[0m\u001b[0;34m,\u001b[0m \u001b[0mgroup\u001b[0m\u001b[0;34m,\u001b[0m \u001b[0;34m**\u001b[0m\u001b[0mkwargs\u001b[0m\u001b[0;34m)\u001b[0m\u001b[0;34m\u001b[0m\u001b[0;34m\u001b[0m\u001b[0m\n\u001b[0m\u001b[1;32m   1095\u001b[0m \u001b[0;34m\u001b[0m\u001b[0m\n\u001b[1;32m   1096\u001b[0m     \u001b[0;32mif\u001b[0m \u001b[0munlimited_dims\u001b[0m \u001b[0;32mis\u001b[0m \u001b[0;32mNone\u001b[0m\u001b[0;34m:\u001b[0m\u001b[0;34m\u001b[0m\u001b[0;34m\u001b[0m\u001b[0m\n",
      "\u001b[0;32m/home/gfindlay/miniconda3/envs/ecephys/lib/python3.7/site-packages/xarray/backends/netCDF4_.py\u001b[0m in \u001b[0;36mopen\u001b[0;34m(cls, filename, mode, format, group, clobber, diskless, persist, lock, lock_maker, autoclose)\u001b[0m\n\u001b[1;32m    362\u001b[0m             \u001b[0mnetCDF4\u001b[0m\u001b[0;34m.\u001b[0m\u001b[0mDataset\u001b[0m\u001b[0;34m,\u001b[0m \u001b[0mfilename\u001b[0m\u001b[0;34m,\u001b[0m \u001b[0mmode\u001b[0m\u001b[0;34m=\u001b[0m\u001b[0mmode\u001b[0m\u001b[0;34m,\u001b[0m \u001b[0mkwargs\u001b[0m\u001b[0;34m=\u001b[0m\u001b[0mkwargs\u001b[0m\u001b[0;34m\u001b[0m\u001b[0;34m\u001b[0m\u001b[0m\n\u001b[1;32m    363\u001b[0m         )\n\u001b[0;32m--> 364\u001b[0;31m         \u001b[0;32mreturn\u001b[0m \u001b[0mcls\u001b[0m\u001b[0;34m(\u001b[0m\u001b[0mmanager\u001b[0m\u001b[0;34m,\u001b[0m \u001b[0mgroup\u001b[0m\u001b[0;34m=\u001b[0m\u001b[0mgroup\u001b[0m\u001b[0;34m,\u001b[0m \u001b[0mmode\u001b[0m\u001b[0;34m=\u001b[0m\u001b[0mmode\u001b[0m\u001b[0;34m,\u001b[0m \u001b[0mlock\u001b[0m\u001b[0;34m=\u001b[0m\u001b[0mlock\u001b[0m\u001b[0;34m,\u001b[0m \u001b[0mautoclose\u001b[0m\u001b[0;34m=\u001b[0m\u001b[0mautoclose\u001b[0m\u001b[0;34m)\u001b[0m\u001b[0;34m\u001b[0m\u001b[0;34m\u001b[0m\u001b[0m\n\u001b[0m\u001b[1;32m    365\u001b[0m \u001b[0;34m\u001b[0m\u001b[0m\n\u001b[1;32m    366\u001b[0m     \u001b[0;32mdef\u001b[0m \u001b[0m_acquire\u001b[0m\u001b[0;34m(\u001b[0m\u001b[0mself\u001b[0m\u001b[0;34m,\u001b[0m \u001b[0mneeds_lock\u001b[0m\u001b[0;34m=\u001b[0m\u001b[0;32mTrue\u001b[0m\u001b[0;34m)\u001b[0m\u001b[0;34m:\u001b[0m\u001b[0;34m\u001b[0m\u001b[0;34m\u001b[0m\u001b[0m\n",
      "\u001b[0;32m/home/gfindlay/miniconda3/envs/ecephys/lib/python3.7/site-packages/xarray/backends/netCDF4_.py\u001b[0m in \u001b[0;36m__init__\u001b[0;34m(self, manager, group, mode, lock, autoclose)\u001b[0m\n\u001b[1;32m    312\u001b[0m         \u001b[0mself\u001b[0m\u001b[0;34m.\u001b[0m\u001b[0m_group\u001b[0m \u001b[0;34m=\u001b[0m \u001b[0mgroup\u001b[0m\u001b[0;34m\u001b[0m\u001b[0;34m\u001b[0m\u001b[0m\n\u001b[1;32m    313\u001b[0m         \u001b[0mself\u001b[0m\u001b[0;34m.\u001b[0m\u001b[0m_mode\u001b[0m \u001b[0;34m=\u001b[0m \u001b[0mmode\u001b[0m\u001b[0;34m\u001b[0m\u001b[0;34m\u001b[0m\u001b[0m\n\u001b[0;32m--> 314\u001b[0;31m         \u001b[0mself\u001b[0m\u001b[0;34m.\u001b[0m\u001b[0mformat\u001b[0m \u001b[0;34m=\u001b[0m \u001b[0mself\u001b[0m\u001b[0;34m.\u001b[0m\u001b[0mds\u001b[0m\u001b[0;34m.\u001b[0m\u001b[0mdata_model\u001b[0m\u001b[0;34m\u001b[0m\u001b[0;34m\u001b[0m\u001b[0m\n\u001b[0m\u001b[1;32m    315\u001b[0m         \u001b[0mself\u001b[0m\u001b[0;34m.\u001b[0m\u001b[0m_filename\u001b[0m \u001b[0;34m=\u001b[0m \u001b[0mself\u001b[0m\u001b[0;34m.\u001b[0m\u001b[0mds\u001b[0m\u001b[0;34m.\u001b[0m\u001b[0mfilepath\u001b[0m\u001b[0;34m(\u001b[0m\u001b[0;34m)\u001b[0m\u001b[0;34m\u001b[0m\u001b[0;34m\u001b[0m\u001b[0m\n\u001b[1;32m    316\u001b[0m         \u001b[0mself\u001b[0m\u001b[0;34m.\u001b[0m\u001b[0mis_remote\u001b[0m \u001b[0;34m=\u001b[0m \u001b[0mis_remote_uri\u001b[0m\u001b[0;34m(\u001b[0m\u001b[0mself\u001b[0m\u001b[0;34m.\u001b[0m\u001b[0m_filename\u001b[0m\u001b[0;34m)\u001b[0m\u001b[0;34m\u001b[0m\u001b[0;34m\u001b[0m\u001b[0m\n",
      "\u001b[0;32m/home/gfindlay/miniconda3/envs/ecephys/lib/python3.7/site-packages/xarray/backends/netCDF4_.py\u001b[0m in \u001b[0;36mds\u001b[0;34m(self)\u001b[0m\n\u001b[1;32m    371\u001b[0m     \u001b[0;34m@\u001b[0m\u001b[0mproperty\u001b[0m\u001b[0;34m\u001b[0m\u001b[0;34m\u001b[0m\u001b[0m\n\u001b[1;32m    372\u001b[0m     \u001b[0;32mdef\u001b[0m \u001b[0mds\u001b[0m\u001b[0;34m(\u001b[0m\u001b[0mself\u001b[0m\u001b[0;34m)\u001b[0m\u001b[0;34m:\u001b[0m\u001b[0;34m\u001b[0m\u001b[0;34m\u001b[0m\u001b[0m\n\u001b[0;32m--> 373\u001b[0;31m         \u001b[0;32mreturn\u001b[0m \u001b[0mself\u001b[0m\u001b[0;34m.\u001b[0m\u001b[0m_acquire\u001b[0m\u001b[0;34m(\u001b[0m\u001b[0;34m)\u001b[0m\u001b[0;34m\u001b[0m\u001b[0;34m\u001b[0m\u001b[0m\n\u001b[0m\u001b[1;32m    374\u001b[0m \u001b[0;34m\u001b[0m\u001b[0m\n\u001b[1;32m    375\u001b[0m     \u001b[0;32mdef\u001b[0m \u001b[0mopen_store_variable\u001b[0m\u001b[0;34m(\u001b[0m\u001b[0mself\u001b[0m\u001b[0;34m,\u001b[0m \u001b[0mname\u001b[0m\u001b[0;34m,\u001b[0m \u001b[0mvar\u001b[0m\u001b[0;34m)\u001b[0m\u001b[0;34m:\u001b[0m\u001b[0;34m\u001b[0m\u001b[0;34m\u001b[0m\u001b[0m\n",
      "\u001b[0;32m/home/gfindlay/miniconda3/envs/ecephys/lib/python3.7/site-packages/xarray/backends/netCDF4_.py\u001b[0m in \u001b[0;36m_acquire\u001b[0;34m(self, needs_lock)\u001b[0m\n\u001b[1;32m    365\u001b[0m \u001b[0;34m\u001b[0m\u001b[0m\n\u001b[1;32m    366\u001b[0m     \u001b[0;32mdef\u001b[0m \u001b[0m_acquire\u001b[0m\u001b[0;34m(\u001b[0m\u001b[0mself\u001b[0m\u001b[0;34m,\u001b[0m \u001b[0mneeds_lock\u001b[0m\u001b[0;34m=\u001b[0m\u001b[0;32mTrue\u001b[0m\u001b[0;34m)\u001b[0m\u001b[0;34m:\u001b[0m\u001b[0;34m\u001b[0m\u001b[0;34m\u001b[0m\u001b[0m\n\u001b[0;32m--> 367\u001b[0;31m         \u001b[0;32mwith\u001b[0m \u001b[0mself\u001b[0m\u001b[0;34m.\u001b[0m\u001b[0m_manager\u001b[0m\u001b[0;34m.\u001b[0m\u001b[0macquire_context\u001b[0m\u001b[0;34m(\u001b[0m\u001b[0mneeds_lock\u001b[0m\u001b[0;34m)\u001b[0m \u001b[0;32mas\u001b[0m \u001b[0mroot\u001b[0m\u001b[0;34m:\u001b[0m\u001b[0;34m\u001b[0m\u001b[0;34m\u001b[0m\u001b[0m\n\u001b[0m\u001b[1;32m    368\u001b[0m             \u001b[0mds\u001b[0m \u001b[0;34m=\u001b[0m \u001b[0m_nc4_require_group\u001b[0m\u001b[0;34m(\u001b[0m\u001b[0mroot\u001b[0m\u001b[0;34m,\u001b[0m \u001b[0mself\u001b[0m\u001b[0;34m.\u001b[0m\u001b[0m_group\u001b[0m\u001b[0;34m,\u001b[0m \u001b[0mself\u001b[0m\u001b[0;34m.\u001b[0m\u001b[0m_mode\u001b[0m\u001b[0;34m)\u001b[0m\u001b[0;34m\u001b[0m\u001b[0;34m\u001b[0m\u001b[0m\n\u001b[1;32m    369\u001b[0m         \u001b[0;32mreturn\u001b[0m \u001b[0mds\u001b[0m\u001b[0;34m\u001b[0m\u001b[0;34m\u001b[0m\u001b[0m\n",
      "\u001b[0;32m/home/gfindlay/miniconda3/envs/ecephys/lib/python3.7/contextlib.py\u001b[0m in \u001b[0;36m__enter__\u001b[0;34m(self)\u001b[0m\n\u001b[1;32m    110\u001b[0m         \u001b[0;32mdel\u001b[0m \u001b[0mself\u001b[0m\u001b[0;34m.\u001b[0m\u001b[0margs\u001b[0m\u001b[0;34m,\u001b[0m \u001b[0mself\u001b[0m\u001b[0;34m.\u001b[0m\u001b[0mkwds\u001b[0m\u001b[0;34m,\u001b[0m \u001b[0mself\u001b[0m\u001b[0;34m.\u001b[0m\u001b[0mfunc\u001b[0m\u001b[0;34m\u001b[0m\u001b[0;34m\u001b[0m\u001b[0m\n\u001b[1;32m    111\u001b[0m         \u001b[0;32mtry\u001b[0m\u001b[0;34m:\u001b[0m\u001b[0;34m\u001b[0m\u001b[0;34m\u001b[0m\u001b[0m\n\u001b[0;32m--> 112\u001b[0;31m             \u001b[0;32mreturn\u001b[0m \u001b[0mnext\u001b[0m\u001b[0;34m(\u001b[0m\u001b[0mself\u001b[0m\u001b[0;34m.\u001b[0m\u001b[0mgen\u001b[0m\u001b[0;34m)\u001b[0m\u001b[0;34m\u001b[0m\u001b[0;34m\u001b[0m\u001b[0m\n\u001b[0m\u001b[1;32m    113\u001b[0m         \u001b[0;32mexcept\u001b[0m \u001b[0mStopIteration\u001b[0m\u001b[0;34m:\u001b[0m\u001b[0;34m\u001b[0m\u001b[0;34m\u001b[0m\u001b[0m\n\u001b[1;32m    114\u001b[0m             \u001b[0;32mraise\u001b[0m \u001b[0mRuntimeError\u001b[0m\u001b[0;34m(\u001b[0m\u001b[0;34m\"generator didn't yield\"\u001b[0m\u001b[0;34m)\u001b[0m \u001b[0;32mfrom\u001b[0m \u001b[0;32mNone\u001b[0m\u001b[0;34m\u001b[0m\u001b[0;34m\u001b[0m\u001b[0m\n",
      "\u001b[0;32m/home/gfindlay/miniconda3/envs/ecephys/lib/python3.7/site-packages/xarray/backends/file_manager.py\u001b[0m in \u001b[0;36macquire_context\u001b[0;34m(self, needs_lock)\u001b[0m\n\u001b[1;32m    185\u001b[0m     \u001b[0;32mdef\u001b[0m \u001b[0macquire_context\u001b[0m\u001b[0;34m(\u001b[0m\u001b[0mself\u001b[0m\u001b[0;34m,\u001b[0m \u001b[0mneeds_lock\u001b[0m\u001b[0;34m=\u001b[0m\u001b[0;32mTrue\u001b[0m\u001b[0;34m)\u001b[0m\u001b[0;34m:\u001b[0m\u001b[0;34m\u001b[0m\u001b[0;34m\u001b[0m\u001b[0m\n\u001b[1;32m    186\u001b[0m         \u001b[0;34m\"\"\"Context manager for acquiring a file.\"\"\"\u001b[0m\u001b[0;34m\u001b[0m\u001b[0;34m\u001b[0m\u001b[0m\n\u001b[0;32m--> 187\u001b[0;31m         \u001b[0mfile\u001b[0m\u001b[0;34m,\u001b[0m \u001b[0mcached\u001b[0m \u001b[0;34m=\u001b[0m \u001b[0mself\u001b[0m\u001b[0;34m.\u001b[0m\u001b[0m_acquire_with_cache_info\u001b[0m\u001b[0;34m(\u001b[0m\u001b[0mneeds_lock\u001b[0m\u001b[0;34m)\u001b[0m\u001b[0;34m\u001b[0m\u001b[0;34m\u001b[0m\u001b[0m\n\u001b[0m\u001b[1;32m    188\u001b[0m         \u001b[0;32mtry\u001b[0m\u001b[0;34m:\u001b[0m\u001b[0;34m\u001b[0m\u001b[0;34m\u001b[0m\u001b[0m\n\u001b[1;32m    189\u001b[0m             \u001b[0;32myield\u001b[0m \u001b[0mfile\u001b[0m\u001b[0;34m\u001b[0m\u001b[0;34m\u001b[0m\u001b[0m\n",
      "\u001b[0;32m/home/gfindlay/miniconda3/envs/ecephys/lib/python3.7/site-packages/xarray/backends/file_manager.py\u001b[0m in \u001b[0;36m_acquire_with_cache_info\u001b[0;34m(self, needs_lock)\u001b[0m\n\u001b[1;32m    203\u001b[0m                     \u001b[0mkwargs\u001b[0m \u001b[0;34m=\u001b[0m \u001b[0mkwargs\u001b[0m\u001b[0;34m.\u001b[0m\u001b[0mcopy\u001b[0m\u001b[0;34m(\u001b[0m\u001b[0;34m)\u001b[0m\u001b[0;34m\u001b[0m\u001b[0;34m\u001b[0m\u001b[0m\n\u001b[1;32m    204\u001b[0m                     \u001b[0mkwargs\u001b[0m\u001b[0;34m[\u001b[0m\u001b[0;34m\"mode\"\u001b[0m\u001b[0;34m]\u001b[0m \u001b[0;34m=\u001b[0m \u001b[0mself\u001b[0m\u001b[0;34m.\u001b[0m\u001b[0m_mode\u001b[0m\u001b[0;34m\u001b[0m\u001b[0;34m\u001b[0m\u001b[0m\n\u001b[0;32m--> 205\u001b[0;31m                 \u001b[0mfile\u001b[0m \u001b[0;34m=\u001b[0m \u001b[0mself\u001b[0m\u001b[0;34m.\u001b[0m\u001b[0m_opener\u001b[0m\u001b[0;34m(\u001b[0m\u001b[0;34m*\u001b[0m\u001b[0mself\u001b[0m\u001b[0;34m.\u001b[0m\u001b[0m_args\u001b[0m\u001b[0;34m,\u001b[0m \u001b[0;34m**\u001b[0m\u001b[0mkwargs\u001b[0m\u001b[0;34m)\u001b[0m\u001b[0;34m\u001b[0m\u001b[0;34m\u001b[0m\u001b[0m\n\u001b[0m\u001b[1;32m    206\u001b[0m                 \u001b[0;32mif\u001b[0m \u001b[0mself\u001b[0m\u001b[0;34m.\u001b[0m\u001b[0m_mode\u001b[0m \u001b[0;34m==\u001b[0m \u001b[0;34m\"w\"\u001b[0m\u001b[0;34m:\u001b[0m\u001b[0;34m\u001b[0m\u001b[0;34m\u001b[0m\u001b[0m\n\u001b[1;32m    207\u001b[0m                     \u001b[0;31m# ensure file doesn't get overriden when opened again\u001b[0m\u001b[0;34m\u001b[0m\u001b[0;34m\u001b[0m\u001b[0;34m\u001b[0m\u001b[0m\n",
      "\u001b[0;32mnetCDF4/_netCDF4.pyx\u001b[0m in \u001b[0;36mnetCDF4._netCDF4.Dataset.__init__\u001b[0;34m()\u001b[0m\n",
      "\u001b[0;32mnetCDF4/_netCDF4.pyx\u001b[0m in \u001b[0;36mnetCDF4._netCDF4._ensure_nc_success\u001b[0;34m()\u001b[0m\n",
      "\u001b[0;31mPermissionError\u001b[0m: [Errno 13] Permission denied: b'/Volumes/neuropixel/Data/CNPIX4-Doppio/3-17-2020/3-17-2020_g0/3-17-2020_g0_imec0/3-17-2020_g0_t7.imec0.pow.nc'"
     ]
    }
   ],
   "source": [
    "get_condition_bandpower(\"Doppio\", \"dark-period-circadian-match\")"
   ]
  },
  {
   "cell_type": "code",
   "execution_count": null,
   "metadata": {
    "execution": {
     "iopub.status.busy": "2021-04-07T23:06:24.087294Z",
     "iopub.status.idle": "2021-04-07T23:06:24.087494Z",
     "shell.execute_reply": "2021-04-07T23:06:24.087399Z"
    }
   },
   "outputs": [],
   "source": [
    "get_condition_bandpower(\"Doppio\", \"dark-period\")"
   ]
  },
  {
   "cell_type": "code",
   "execution_count": null,
   "metadata": {
    "execution": {
     "iopub.status.busy": "2021-04-07T23:06:24.088187Z",
     "iopub.status.idle": "2021-04-07T23:06:24.088371Z",
     "shell.execute_reply": "2021-04-07T23:06:24.088281Z"
    }
   },
   "outputs": [],
   "source": [
    "get_condition_bandpower(\"Alessandro\", \"dark-period-circadian-match\")"
   ]
  },
  {
   "cell_type": "code",
   "execution_count": null,
   "metadata": {
    "execution": {
     "iopub.status.busy": "2021-04-07T23:06:24.088886Z",
     "iopub.status.idle": "2021-04-07T23:06:24.089067Z",
     "shell.execute_reply": "2021-04-07T23:06:24.088978Z"
    }
   },
   "outputs": [],
   "source": [
    "get_condition_bandpower(\"Alessandro\", \"dark-period\")"
   ]
  },
  {
   "cell_type": "code",
   "execution_count": null,
   "metadata": {
    "execution": {
     "iopub.status.busy": "2021-04-07T23:06:24.089810Z",
     "iopub.status.idle": "2021-04-07T23:06:24.089989Z",
     "shell.execute_reply": "2021-04-07T23:06:24.089903Z"
    }
   },
   "outputs": [],
   "source": [
    "get_condition_bandpower(\"Eugene\", \"dark-period-circadian-match\")"
   ]
  },
  {
   "cell_type": "code",
   "execution_count": null,
   "metadata": {
    "execution": {
     "iopub.status.busy": "2021-04-07T23:06:24.090500Z",
     "iopub.status.idle": "2021-04-07T23:06:24.090681Z",
     "shell.execute_reply": "2021-04-07T23:06:24.090595Z"
    }
   },
   "outputs": [],
   "source": [
    "get_condition_bandpower(\"Eugene\", \"dark-period\")"
   ]
  },
  {
   "cell_type": "code",
   "execution_count": null,
   "metadata": {
    "execution": {
     "iopub.status.busy": "2021-04-07T23:06:24.091345Z",
     "iopub.status.idle": "2021-04-07T23:06:24.091522Z",
     "shell.execute_reply": "2021-04-07T23:06:24.091437Z"
    }
   },
   "outputs": [],
   "source": [
    "get_condition_bandpower(\"Allan\", \"dark-period-circadian-match\")"
   ]
  },
  {
   "cell_type": "code",
   "execution_count": null,
   "metadata": {
    "execution": {
     "iopub.status.busy": "2021-04-07T23:06:24.091999Z",
     "iopub.status.idle": "2021-04-07T23:06:24.092177Z",
     "shell.execute_reply": "2021-04-07T23:06:24.092091Z"
    }
   },
   "outputs": [],
   "source": [
    "get_condition_bandpower(\"Allan\", \"dark-period\")"
   ]
  },
  {
   "cell_type": "markdown",
   "metadata": {},
   "source": [
    "# Run pipeline piecemeal"
   ]
  },
  {
   "cell_type": "code",
   "execution_count": 11,
   "metadata": {
    "execution": {
     "iopub.execute_input": "2021-01-12T18:31:21.582529Z",
     "iopub.status.busy": "2021-01-12T18:31:21.582153Z",
     "iopub.status.idle": "2021-01-12T18:31:21.603071Z",
     "shell.execute_reply": "2021-01-12T18:31:21.602449Z",
     "shell.execute_reply.started": "2021-01-12T18:31:21.582483Z"
    }
   },
   "outputs": [],
   "source": [
    "%matplotlib widget"
   ]
  },
  {
   "cell_type": "code",
   "execution_count": 12,
   "metadata": {
    "execution": {
     "iopub.execute_input": "2021-01-12T18:31:21.903784Z",
     "iopub.status.busy": "2021-01-12T18:31:21.903489Z",
     "iopub.status.idle": "2021-01-12T18:31:21.953067Z",
     "shell.execute_reply": "2021-01-12T18:31:21.952481Z",
     "shell.execute_reply.started": "2021-01-12T18:31:21.903746Z"
    }
   },
   "outputs": [],
   "source": [
    "import matplotlib.pyplot as plt\n",
    "from ecephys.plot import plot_spectrogram, plot_hypnogram_overlay\n",
    "from ecephys.scoring import load_visbrain_hypnogram\n",
    "from neurodsp.plts.time_series import plot_time_series\n",
    "from ripple_detection.core import gaussian_smooth\n",
    "smoothing_sigma = 2 # seconds"
   ]
  },
  {
   "cell_type": "code",
   "execution_count": 13,
   "metadata": {
    "execution": {
     "iopub.execute_input": "2021-01-12T18:31:22.751849Z",
     "iopub.status.busy": "2021-01-12T18:31:22.751529Z",
     "iopub.status.idle": "2021-01-12T18:31:22.775787Z",
     "shell.execute_reply": "2021-01-12T18:31:22.775171Z",
     "shell.execute_reply.started": "2021-01-12T18:31:22.751811Z"
    }
   },
   "outputs": [],
   "source": [
    "SUBJECT=\"Segundo\"\n",
    "CONDITION=\"REC-2-0\"\n",
    "START_TIME = 0\n",
    "END_TIME = 60\n",
    "bin_path = paths.get_datapath_from_csv(subject=SUBJECT, condition=CONDITION, data=\"lf.bin\")"
   ]
  },
  {
   "cell_type": "markdown",
   "metadata": {},
   "source": [
    "## Cortex"
   ]
  },
  {
   "cell_type": "code",
   "execution_count": 14,
   "metadata": {
    "execution": {
     "iopub.execute_input": "2021-01-12T18:31:25.473423Z",
     "iopub.status.busy": "2021-01-12T18:31:25.473172Z",
     "iopub.status.idle": "2021-01-12T18:31:26.754676Z",
     "shell.execute_reply": "2021-01-12T18:31:26.753971Z",
     "shell.execute_reply.started": "2021-01-12T18:31:25.473375Z"
    }
   },
   "outputs": [
    {
     "name": "stdout",
     "output_type": "stream",
     "text": [
      "nChan: 385, nFileSamp: 18000001\n"
     ]
    }
   ],
   "source": [
    "cx_chans = channel_groups.superficial_ctx[SUBJECT]\n",
    "cx_sig = load_timeseries(bin_path, cx_chans, start_time=START_TIME, end_time=END_TIME, xarray=True)"
   ]
  },
  {
   "cell_type": "code",
   "execution_count": 104,
   "metadata": {
    "execution": {
     "iopub.execute_input": "2021-01-08T18:11:06.837571Z",
     "iopub.status.busy": "2021-01-08T18:11:06.837415Z",
     "iopub.status.idle": "2021-01-08T18:11:11.092521Z",
     "shell.execute_reply": "2021-01-08T18:11:11.092001Z",
     "shell.execute_reply.started": "2021-01-08T18:11:06.837552Z"
    }
   },
   "outputs": [],
   "source": [
    "cx_spg = get_spectrogram(cx_sig)"
   ]
  },
  {
   "cell_type": "code",
   "execution_count": 105,
   "metadata": {
    "execution": {
     "iopub.execute_input": "2021-01-08T18:11:11.093840Z",
     "iopub.status.busy": "2021-01-08T18:11:11.093651Z",
     "iopub.status.idle": "2021-01-08T18:11:11.113693Z",
     "shell.execute_reply": "2021-01-08T18:11:11.113214Z",
     "shell.execute_reply.started": "2021-01-08T18:11:11.093818Z"
    }
   },
   "outputs": [],
   "source": [
    "cx_theta = _get_bandpower(cx_spg, THETA_RANGE, cx_chans)\n",
    "cx_delta = _get_bandpower(cx_spg, DELTA_RANGE, cx_chans)"
   ]
  },
  {
   "cell_type": "markdown",
   "metadata": {},
   "source": [
    "### Plot"
   ]
  },
  {
   "cell_type": "code",
   "execution_count": 36,
   "metadata": {
    "execution": {
     "iopub.execute_input": "2021-01-08T02:24:07.665988Z",
     "iopub.status.busy": "2021-01-08T02:24:07.665863Z",
     "iopub.status.idle": "2021-01-08T02:24:08.502144Z",
     "shell.execute_reply": "2021-01-08T02:24:08.501519Z",
     "shell.execute_reply.started": "2021-01-08T02:24:07.665972Z"
    }
   },
   "outputs": [
    {
     "data": {
      "application/vnd.jupyter.widget-view+json": {
       "model_id": "ec0767009f78481a8706619c012bf87f",
       "version_major": 2,
       "version_minor": 0
      },
      "text/plain": [
       "Canvas(toolbar=Toolbar(toolitems=[('Home', 'Reset original view', 'home', 'home'), ('Back', 'Back to previous …"
      ]
     },
     "metadata": {},
     "output_type": "display_data"
    }
   ],
   "source": [
    "plot_spectrogram(cx_spg.frequency, cx_spg.time, cx_spg, yscale='log')"
   ]
  },
  {
   "cell_type": "code",
   "execution_count": 37,
   "metadata": {
    "execution": {
     "iopub.execute_input": "2021-01-08T02:24:08.503045Z",
     "iopub.status.busy": "2021-01-08T02:24:08.502902Z",
     "iopub.status.idle": "2021-01-08T02:24:08.672851Z",
     "shell.execute_reply": "2021-01-08T02:24:08.672302Z",
     "shell.execute_reply.started": "2021-01-08T02:24:08.503027Z"
    }
   },
   "outputs": [
    {
     "data": {
      "application/vnd.jupyter.widget-view+json": {
       "model_id": "2b5a6a7a6c034180a9a3f0e0ae594f3a",
       "version_major": 2,
       "version_minor": 0
      },
      "text/plain": [
       "Canvas(toolbar=Toolbar(toolitems=[('Home', 'Reset original view', 'home', 'home'), ('Back', 'Back to previous …"
      ]
     },
     "metadata": {},
     "output_type": "display_data"
    }
   ],
   "source": [
    "_, ax = plt.subplots(figsize=(24, 3))\n",
    "plot_time_series(cx_spg.time.values, cx_delta.values, ax=ax, title=\"Cortical Delta\", ylabel=\"Power\")\n",
    "#plot_hypnogram_overlay(hypno, ax=ax)"
   ]
  },
  {
   "cell_type": "code",
   "execution_count": 38,
   "metadata": {
    "execution": {
     "iopub.execute_input": "2021-01-08T02:24:08.674221Z",
     "iopub.status.busy": "2021-01-08T02:24:08.673855Z",
     "iopub.status.idle": "2021-01-08T02:24:08.804156Z",
     "shell.execute_reply": "2021-01-08T02:24:08.803774Z",
     "shell.execute_reply.started": "2021-01-08T02:24:08.674190Z"
    }
   },
   "outputs": [
    {
     "data": {
      "application/vnd.jupyter.widget-view+json": {
       "model_id": "9fec1e21649f4c93b35e046b2ddcf684",
       "version_major": 2,
       "version_minor": 0
      },
      "text/plain": [
       "Canvas(toolbar=Toolbar(toolitems=[('Home', 'Reset original view', 'home', 'home'), ('Back', 'Back to previous …"
      ]
     },
     "metadata": {},
     "output_type": "display_data"
    }
   ],
   "source": [
    "_, ax = plt.subplots(figsize=(24, 3))\n",
    "plot_time_series(cx_spg.time.values, cx_theta.values, ax=ax, title=\"Cortical Theta\", ylabel=\"Power\")\n",
    "#plot_hypnogram_overlay(hypno, ax=ax)"
   ]
  },
  {
   "cell_type": "code",
   "execution_count": 39,
   "metadata": {
    "execution": {
     "iopub.execute_input": "2021-01-08T02:24:08.805438Z",
     "iopub.status.busy": "2021-01-08T02:24:08.805306Z",
     "iopub.status.idle": "2021-01-08T02:24:08.867648Z",
     "shell.execute_reply": "2021-01-08T02:24:08.867136Z",
     "shell.execute_reply.started": "2021-01-08T02:24:08.805422Z"
    }
   },
   "outputs": [
    {
     "data": {
      "application/vnd.jupyter.widget-view+json": {
       "model_id": "a8ee12ad47f4418a81c59dfc0d0ed22a",
       "version_major": 2,
       "version_minor": 0
      },
      "text/plain": [
       "Canvas(toolbar=Toolbar(toolitems=[('Home', 'Reset original view', 'home', 'home'), ('Back', 'Back to previous …"
      ]
     },
     "metadata": {},
     "output_type": "display_data"
    }
   ],
   "source": [
    "_, ax = plt.subplots(figsize=(24, 3))\n",
    "plot_time_series(cx_spg.time.values, cx_theta.values / cx_delta.values, title=\"Cortical theta/delta ratio\", ylabel=\"Ratio\", ax=ax)\n",
    "#plot_hypnogram_overlay(hypno, ax=ax)"
   ]
  },
  {
   "cell_type": "markdown",
   "metadata": {},
   "source": [
    "## Theta"
   ]
  },
  {
   "cell_type": "code",
   "execution_count": 106,
   "metadata": {
    "execution": {
     "iopub.execute_input": "2021-01-08T18:11:11.114530Z",
     "iopub.status.busy": "2021-01-08T18:11:11.114377Z",
     "iopub.status.idle": "2021-01-08T18:13:15.734667Z",
     "shell.execute_reply": "2021-01-08T18:13:15.733874Z",
     "shell.execute_reply.started": "2021-01-08T18:11:11.114513Z"
    }
   },
   "outputs": [
    {
     "name": "stdout",
     "output_type": "stream",
     "text": [
      "nChan: 385, nFileSamp: 18000001\n"
     ]
    }
   ],
   "source": [
    "sr_chans = channel_groups.stratum_radiatum_140um_to_200um[SUBJECT]\n",
    "sr_sig = load_timeseries(bin_path, sr_chans, start_time=START_TIME, end_time=END_TIME, xarray=True)"
   ]
  },
  {
   "cell_type": "code",
   "execution_count": 107,
   "metadata": {
    "execution": {
     "iopub.execute_input": "2021-01-08T18:13:15.735896Z",
     "iopub.status.busy": "2021-01-08T18:13:15.735722Z",
     "iopub.status.idle": "2021-01-08T18:13:19.074964Z",
     "shell.execute_reply": "2021-01-08T18:13:19.074307Z",
     "shell.execute_reply.started": "2021-01-08T18:13:15.735876Z"
    }
   },
   "outputs": [],
   "source": [
    "sr_spg = get_spectrogram(sr_sig)"
   ]
  },
  {
   "cell_type": "code",
   "execution_count": 108,
   "metadata": {
    "execution": {
     "iopub.execute_input": "2021-01-08T18:13:19.076014Z",
     "iopub.status.busy": "2021-01-08T18:13:19.075852Z",
     "iopub.status.idle": "2021-01-08T18:13:19.095895Z",
     "shell.execute_reply": "2021-01-08T18:13:19.095432Z",
     "shell.execute_reply.started": "2021-01-08T18:13:19.075995Z"
    }
   },
   "outputs": [],
   "source": [
    "sr_theta = _get_bandpower(sr_spg, THETA_RANGE, sr_chans)\n",
    "sr_delta = _get_bandpower(sr_spg, DELTA_RANGE, sr_chans)"
   ]
  },
  {
   "cell_type": "markdown",
   "metadata": {},
   "source": [
    "### Plot"
   ]
  },
  {
   "cell_type": "code",
   "execution_count": 43,
   "metadata": {
    "execution": {
     "iopub.execute_input": "2021-01-08T02:26:19.293683Z",
     "iopub.status.busy": "2021-01-08T02:26:19.293522Z",
     "iopub.status.idle": "2021-01-08T02:26:20.376744Z",
     "shell.execute_reply": "2021-01-08T02:26:20.375998Z",
     "shell.execute_reply.started": "2021-01-08T02:26:19.293663Z"
    }
   },
   "outputs": [
    {
     "data": {
      "application/vnd.jupyter.widget-view+json": {
       "model_id": "758871ca2d784ee49ae363d2404638f8",
       "version_major": 2,
       "version_minor": 0
      },
      "text/plain": [
       "Canvas(toolbar=Toolbar(toolitems=[('Home', 'Reset original view', 'home', 'home'), ('Back', 'Back to previous …"
      ]
     },
     "metadata": {},
     "output_type": "display_data"
    }
   ],
   "source": [
    "plot_spectrogram(sr_spg.frequency, sr_spg.time, sr_spg, yscale='log')"
   ]
  },
  {
   "cell_type": "code",
   "execution_count": 44,
   "metadata": {
    "execution": {
     "iopub.execute_input": "2021-01-08T02:26:20.377992Z",
     "iopub.status.busy": "2021-01-08T02:26:20.377818Z",
     "iopub.status.idle": "2021-01-08T02:26:20.468660Z",
     "shell.execute_reply": "2021-01-08T02:26:20.468134Z",
     "shell.execute_reply.started": "2021-01-08T02:26:20.377970Z"
    }
   },
   "outputs": [
    {
     "data": {
      "application/vnd.jupyter.widget-view+json": {
       "model_id": "fd5d5e41365c42458540b83c20874f31",
       "version_major": 2,
       "version_minor": 0
      },
      "text/plain": [
       "Canvas(toolbar=Toolbar(toolitems=[('Home', 'Reset original view', 'home', 'home'), ('Back', 'Back to previous …"
      ]
     },
     "metadata": {},
     "output_type": "display_data"
    }
   ],
   "source": [
    "_, ax = plt.subplots(figsize=(20, 3))\n",
    "plot_time_series(sr_spg.time.values, sr_delta.values, title=\"SR Delta\", ylabel=\"Power\", ax=ax)\n",
    "#plot_hypnogram_overlay(hypno, ax=ax)"
   ]
  },
  {
   "cell_type": "code",
   "execution_count": 45,
   "metadata": {
    "execution": {
     "iopub.execute_input": "2021-01-08T02:26:20.469964Z",
     "iopub.status.busy": "2021-01-08T02:26:20.469616Z",
     "iopub.status.idle": "2021-01-08T02:26:20.635752Z",
     "shell.execute_reply": "2021-01-08T02:26:20.635176Z",
     "shell.execute_reply.started": "2021-01-08T02:26:20.469934Z"
    }
   },
   "outputs": [
    {
     "data": {
      "application/vnd.jupyter.widget-view+json": {
       "model_id": "bd2de522c04a4439b0562cefca34f048",
       "version_major": 2,
       "version_minor": 0
      },
      "text/plain": [
       "Canvas(toolbar=Toolbar(toolitems=[('Home', 'Reset original view', 'home', 'home'), ('Back', 'Back to previous …"
      ]
     },
     "metadata": {},
     "output_type": "display_data"
    }
   ],
   "source": [
    "_, ax = plt.subplots(figsize=(20, 3))\n",
    "plot_time_series(sr_spg.time.values, sr_theta.values, title=\"SR Theta\", ylabel=\"Power\", ax=ax)\n",
    "#plot_hypnogram_overlay(hypno, ax=ax)"
   ]
  },
  {
   "cell_type": "code",
   "execution_count": 46,
   "metadata": {
    "execution": {
     "iopub.execute_input": "2021-01-08T02:26:20.636863Z",
     "iopub.status.busy": "2021-01-08T02:26:20.636651Z",
     "iopub.status.idle": "2021-01-08T02:26:20.740903Z",
     "shell.execute_reply": "2021-01-08T02:26:20.740431Z",
     "shell.execute_reply.started": "2021-01-08T02:26:20.636836Z"
    }
   },
   "outputs": [
    {
     "data": {
      "application/vnd.jupyter.widget-view+json": {
       "model_id": "af2009fdc533433bb5e00c6cb04fcb0d",
       "version_major": 2,
       "version_minor": 0
      },
      "text/plain": [
       "Canvas(toolbar=Toolbar(toolitems=[('Home', 'Reset original view', 'home', 'home'), ('Back', 'Back to previous …"
      ]
     },
     "metadata": {},
     "output_type": "display_data"
    }
   ],
   "source": [
    "_, ax = plt.subplots(figsize=(20, 3))\n",
    "plot_time_series(sr_spg.time.values, sr_theta.values / sr_delta.values, title=\"SR theta/delta ratio\", ylabel=\"Ratio\", ax=ax)\n",
    "#plot_hypnogram_overlay(hypno, ax=ax)"
   ]
  },
  {
   "cell_type": "code",
   "execution_count": 47,
   "metadata": {
    "execution": {
     "iopub.execute_input": "2021-01-08T02:26:20.741642Z",
     "iopub.status.busy": "2021-01-08T02:26:20.741510Z",
     "iopub.status.idle": "2021-01-08T02:26:20.814366Z",
     "shell.execute_reply": "2021-01-08T02:26:20.813823Z",
     "shell.execute_reply.started": "2021-01-08T02:26:20.741626Z"
    }
   },
   "outputs": [
    {
     "data": {
      "application/vnd.jupyter.widget-view+json": {
       "model_id": "b3012422f585413cb68cfb0447fc60f1",
       "version_major": 2,
       "version_minor": 0
      },
      "text/plain": [
       "Canvas(toolbar=Toolbar(toolitems=[('Home', 'Reset original view', 'home', 'home'), ('Back', 'Back to previous …"
      ]
     },
     "metadata": {},
     "output_type": "display_data"
    }
   ],
   "source": [
    "_, ax = plt.subplots(figsize=(20, 3))\n",
    "plot_time_series(sr_spg.time.values, np.log10(sr_theta.values) / np.log10(sr_delta.values), title=\"SR log(theta)/log(delta) ratio\", ylabel=\"Ratio\", ax=ax)\n",
    "#plot_hypnogram_overlay(hypno, ax=ax)"
   ]
  },
  {
   "cell_type": "code",
   "execution_count": 48,
   "metadata": {
    "execution": {
     "iopub.execute_input": "2021-01-08T02:26:20.815124Z",
     "iopub.status.busy": "2021-01-08T02:26:20.814992Z",
     "iopub.status.idle": "2021-01-08T02:26:20.890092Z",
     "shell.execute_reply": "2021-01-08T02:26:20.889565Z",
     "shell.execute_reply.started": "2021-01-08T02:26:20.815108Z"
    }
   },
   "outputs": [
    {
     "name": "stderr",
     "output_type": "stream",
     "text": [
      "/home/gfindlay/miniconda3/envs/ecephys/lib/python3.7/site-packages/ipykernel_launcher.py:1: RuntimeWarning: More than 20 figures have been opened. Figures created through the pyplot interface (`matplotlib.pyplot.figure`) are retained until explicitly closed and may consume too much memory. (To control this warning, see the rcParam `figure.max_open_warning`).\n",
      "  \"\"\"Entry point for launching an IPython kernel.\n"
     ]
    },
    {
     "data": {
      "application/vnd.jupyter.widget-view+json": {
       "model_id": "73bbc2f19f8f44c1a534b38e56739623",
       "version_major": 2,
       "version_minor": 0
      },
      "text/plain": [
       "Canvas(toolbar=Toolbar(toolitems=[('Home', 'Reset original view', 'home', 'home'), ('Back', 'Back to previous …"
      ]
     },
     "metadata": {},
     "output_type": "display_data"
    }
   ],
   "source": [
    "_, ax = plt.subplots(figsize=(24, 3))\n",
    "plot_time_series(sr_spg.time.values, gaussian_smooth(sr_theta.values / sr_delta.values, smoothing_sigma, 1 / np.diff(sr_spg.time.values).mean()), title=\"Smoothed SR theta/delta ratio\", ylabel=\"Ratio\", ax=ax)\n",
    "#plot_hypnogram_overlay(hypno, ax=ax)"
   ]
  },
  {
   "cell_type": "markdown",
   "metadata": {},
   "source": [
    "## Save"
   ]
  },
  {
   "cell_type": "code",
   "execution_count": 109,
   "metadata": {
    "execution": {
     "iopub.execute_input": "2021-01-08T18:13:19.097304Z",
     "iopub.status.busy": "2021-01-08T18:13:19.097161Z",
     "iopub.status.idle": "2021-01-08T18:13:19.113977Z",
     "shell.execute_reply": "2021-01-08T18:13:19.113593Z",
     "shell.execute_reply.started": "2021-01-08T18:13:19.097287Z"
    }
   },
   "outputs": [],
   "source": [
    "bandpower = xr.Dataset({'mpta_delta': cx_delta, 'mpta_theta': cx_theta, 'sr_delta': sr_delta, 'sr_theta': sr_theta})"
   ]
  },
  {
   "cell_type": "code",
   "execution_count": 110,
   "metadata": {
    "execution": {
     "iopub.execute_input": "2021-01-08T18:13:19.114845Z",
     "iopub.status.busy": "2021-01-08T18:13:19.114717Z",
     "iopub.status.idle": "2021-01-08T18:13:19.146696Z",
     "shell.execute_reply": "2021-01-08T18:13:19.146127Z",
     "shell.execute_reply.started": "2021-01-08T18:13:19.114830Z"
    }
   },
   "outputs": [],
   "source": [
    "bandpower.to_netcdf(paths.get_datapath(subject=SUBJECT, condition=CONDITION, data=\"lfp_bandpower.nc\"))"
   ]
  },
  {
   "cell_type": "code",
   "execution_count": 111,
   "metadata": {
    "execution": {
     "iopub.execute_input": "2021-01-08T18:13:19.147632Z",
     "iopub.status.busy": "2021-01-08T18:13:19.147464Z",
     "iopub.status.idle": "2021-01-08T18:13:19.163670Z",
     "shell.execute_reply": "2021-01-08T18:13:19.163254Z",
     "shell.execute_reply.started": "2021-01-08T18:13:19.147611Z"
    }
   },
   "outputs": [],
   "source": [
    "bandpower.close()"
   ]
  },
  {
   "cell_type": "code",
   "execution_count": null,
   "metadata": {},
   "outputs": [],
   "source": []
  }
 ],
 "metadata": {
  "kernelspec": {
   "display_name": "Python 3",
   "language": "python",
   "name": "python3"
  },
  "language_info": {
   "codemirror_mode": {
    "name": "ipython",
    "version": 3
   },
   "file_extension": ".py",
   "mimetype": "text/x-python",
   "name": "python",
   "nbconvert_exporter": "python",
   "pygments_lexer": "ipython3",
   "version": "3.7.9"
  }
 },
 "nbformat": 4,
 "nbformat_minor": 4
}
