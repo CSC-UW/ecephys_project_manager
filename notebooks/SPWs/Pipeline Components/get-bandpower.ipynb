{
 "cells": [
  {
   "cell_type": "code",
   "execution_count": 1,
   "metadata": {
    "execution": {
     "iopub.execute_input": "2021-05-05T18:17:46.479845Z",
     "iopub.status.busy": "2021-05-05T18:17:46.479720Z",
     "iopub.status.idle": "2021-05-05T18:17:46.488522Z",
     "shell.execute_reply": "2021-05-05T18:17:46.488071Z",
     "shell.execute_reply.started": "2021-05-05T18:17:46.479829Z"
    }
   },
   "outputs": [],
   "source": [
    "%load_ext autoreload\n",
    "%autoreload 2"
   ]
  },
  {
   "cell_type": "markdown",
   "metadata": {},
   "source": [
    "# Imports and definitions"
   ]
  },
  {
   "cell_type": "code",
   "execution_count": 2,
   "metadata": {
    "execution": {
     "iopub.execute_input": "2021-05-05T18:17:46.818469Z",
     "iopub.status.busy": "2021-05-05T18:17:46.818217Z",
     "iopub.status.idle": "2021-05-05T18:17:47.089190Z",
     "shell.execute_reply": "2021-05-05T18:17:47.088620Z",
     "shell.execute_reply.started": "2021-05-05T18:17:46.818439Z"
    }
   },
   "outputs": [],
   "source": [
    "import numpy as np\n",
    "import pandas as pd\n",
    "from datetime import datetime\n",
    "import xarray as xr\n",
    "from pathlib import Path"
   ]
  },
  {
   "cell_type": "code",
   "execution_count": 3,
   "metadata": {
    "execution": {
     "iopub.execute_input": "2021-05-05T18:17:47.121795Z",
     "iopub.status.busy": "2021-05-05T18:17:47.121598Z",
     "iopub.status.idle": "2021-05-05T18:17:47.433399Z",
     "shell.execute_reply": "2021-05-05T18:17:47.432789Z",
     "shell.execute_reply.started": "2021-05-05T18:17:47.121769Z"
    }
   },
   "outputs": [],
   "source": [
    "import ecephys_analyses as ea\n",
    "from ecephys.sglx_utils import load_timeseries\n",
    "import ecephys.signal.timefrequency as tfr"
   ]
  },
  {
   "cell_type": "code",
   "execution_count": 4,
   "metadata": {
    "execution": {
     "iopub.execute_input": "2021-05-05T18:17:47.448058Z",
     "iopub.status.busy": "2021-05-05T18:17:47.447929Z",
     "iopub.status.idle": "2021-05-05T18:17:47.460404Z",
     "shell.execute_reply": "2021-05-05T18:17:47.459893Z",
     "shell.execute_reply.started": "2021-05-05T18:17:47.448041Z"
    }
   },
   "outputs": [
    {
     "data": {
      "text/plain": [
       "<xarray.core.options.set_options at 0x7f63ad380a90>"
      ]
     },
     "execution_count": 4,
     "metadata": {},
     "output_type": "execute_result"
    }
   ],
   "source": [
    "xr.set_options(keep_attrs=True)"
   ]
  },
  {
   "cell_type": "code",
   "execution_count": 5,
   "metadata": {
    "execution": {
     "iopub.execute_input": "2021-05-05T18:17:47.659521Z",
     "iopub.status.busy": "2021-05-05T18:17:47.659171Z",
     "iopub.status.idle": "2021-05-05T18:17:47.680601Z",
     "shell.execute_reply": "2021-05-05T18:17:47.679780Z",
     "shell.execute_reply.started": "2021-05-05T18:17:47.659479Z"
    }
   },
   "outputs": [],
   "source": [
    "def parallel_spectrogram_welch(sig, **kwargs):\n",
    "    freqs, spg_times, spg = tfr.parallel_spectrogram_welch(sig.values, sig.fs, **kwargs)\n",
    "    spg_times = spg_times + sig.time.values.min()\n",
    "    return xr.DataArray(\n",
    "        spg,\n",
    "        dims=(\"frequency\", \"time\", \"channel\"),\n",
    "        coords={\"frequency\": freqs, \"time\": spg_times, \"channel\": sig.channel.values},\n",
    "        attrs={'units': f\"{sig.units}^2/Hz\", 'file_start': sig.fileCreateTime}\n",
    "    )"
   ]
  },
  {
   "cell_type": "code",
   "execution_count": 6,
   "metadata": {
    "execution": {
     "iopub.execute_input": "2021-05-05T18:17:48.242741Z",
     "iopub.status.busy": "2021-05-05T18:17:48.242447Z",
     "iopub.status.idle": "2021-05-05T18:17:48.263415Z",
     "shell.execute_reply": "2021-05-05T18:17:48.262622Z",
     "shell.execute_reply.started": "2021-05-05T18:17:48.242707Z"
    }
   },
   "outputs": [],
   "source": [
    "def get_bandpower_from_spectrogram(spg, chans, f_range):\n",
    "    bandpower = spg.sel(frequency=slice(*f_range)).sum(\n",
    "        dim=\"frequency\"\n",
    "    )\n",
    "    bandpower.attrs[\"freq_range\"] = f_range\n",
    "    bandpower.attrs['chans'] = chans\n",
    "\n",
    "    return bandpower"
   ]
  },
  {
   "cell_type": "code",
   "execution_count": 7,
   "metadata": {
    "execution": {
     "iopub.execute_input": "2021-05-05T18:17:48.746470Z",
     "iopub.status.busy": "2021-05-05T18:17:48.746010Z",
     "iopub.status.idle": "2021-05-05T18:17:48.768738Z",
     "shell.execute_reply": "2021-05-05T18:17:48.767957Z",
     "shell.execute_reply.started": "2021-05-05T18:17:48.746411Z"
    }
   },
   "outputs": [],
   "source": [
    "def get_bandpower(sig, chans, f_range):\n",
    "    # If no chans, return timeseries with negative power and approximately 1 sample per second. \n",
    "    if not chans:\n",
    "        da = xr.DataArray(\n",
    "            -1,\n",
    "            dims=sig.time.dims,\n",
    "            coords=sig.time.coords,\n",
    "            attrs={\"freq_range\": f_range, \"chans\": chans},\n",
    "        )\n",
    "        return da[0 : -1 : int(sig.fs)]\n",
    "    \n",
    "    spg = parallel_spectrogram_welch(sig).median(dim=\"channel\")\n",
    "    return get_bandpower_from_spectrogram(spg, chans, f_range)"
   ]
  },
  {
   "cell_type": "code",
   "execution_count": 8,
   "metadata": {
    "execution": {
     "iopub.execute_input": "2021-05-05T18:17:48.954746Z",
     "iopub.status.busy": "2021-05-05T18:17:48.954426Z",
     "iopub.status.idle": "2021-05-05T18:17:48.995465Z",
     "shell.execute_reply": "2021-05-05T18:17:48.994721Z",
     "shell.execute_reply.started": "2021-05-05T18:17:48.954705Z"
    }
   },
   "outputs": [],
   "source": [
    "# This should probably not compute cx power when sr chans is absent. \n",
    "\n",
    "def get_condition_bandpower(subject, experiment, condition, probe):\n",
    "    cx_chans = ea.get_channels(subject, experiment, probe, \"superficial_ctx\", asarray=False)\n",
    "    wm_chans = ea.get_channels(subject, experiment, probe, \"white_matter\", asarray=False)\n",
    "    \n",
    "    bin_paths = ea.get_sglx_style_datapaths(subject, experiment, condition, \"lf.bin\")\n",
    "    sr_chans_paths = ea.get_sglx_style_datapaths(subject, experiment, condition, \"sr_chans.csv\")\n",
    "    power_paths = ea.get_sglx_style_datapaths(subject, experiment, condition, \"bandpower.nc\")\n",
    "    \n",
    "    for bin_path, sr_chans_path, power_path in zip(bin_paths, sr_chans_paths, power_paths):\n",
    "        sr_chans_df = ea.load_sr_chans(sr_chans_path)\n",
    "        power_by_epoch = list()\n",
    "        for epoch in sr_chans_df.itertuples():\n",
    "            cx = load_timeseries(bin_path, cx_chans, start_time=epoch.start_time, end_time=epoch.end_time)\n",
    "            wm = load_timeseries(bin_path, wm_chans, start_time=epoch.start_time, end_time=epoch.end_time)\n",
    "            sr = load_timeseries(bin_path, epoch.sr_chans, start_time=epoch.start_time, end_time=epoch.end_time)\n",
    "\n",
    "            cx_wm_ref = cx - wm.values\n",
    "            cx_wm_ref.attrs['reference'] = wm.channel.values\n",
    "\n",
    "            sr_wm_ref = sr - wm.values\n",
    "            sr_wm_ref.attrs['reference'] = wm.channel.values\n",
    "\n",
    "            delta = (0.5, 4)\n",
    "            theta = (5, 10)\n",
    "            power = xr.Dataset({'mpta_delta_cbm_ref': get_bandpower(cx, cx_chans, delta), \n",
    "                                'mpta_theta_cbm_ref': get_bandpower(cx, cx_chans, theta),\n",
    "                                'sr_delta_cbm_ref': get_bandpower(sr, epoch.sr_chans, delta), \n",
    "                                'sr_theta_cbm_ref': get_bandpower(sr, epoch.sr_chans, theta),\n",
    "                                'mpta_delta_wm_ref': get_bandpower(cx_wm_ref, cx_chans, delta),\n",
    "                                'mpta_theta_wm_ref': get_bandpower(cx_wm_ref, cx_chans, theta),\n",
    "                                'sr_delta_wm_ref': get_bandpower(sr_wm_ref, epoch.sr_chans, delta),\n",
    "                                'sr_theta_wm_ref': get_bandpower(sr_wm_ref, epoch.sr_chans, theta)})\n",
    "            power_by_epoch.append(power)\n",
    "            \n",
    "        power = xr.concat(power_by_epoch, dim=\"time\")\n",
    "        power.attrs['file_start'] = cx.fileCreateTime\n",
    "        Path(power_path).parent.mkdir(parents=True, exist_ok=True) # Create parent directories if they do not already exist.\n",
    "        power.to_netcdf(power_path)\n",
    "        power.close()\n",
    "        \n",
    "        current_time = datetime.now().strftime(\"%H:%M:%S\")\n",
    "        print(f\"{current_time}: Finished {str(bin_path)}\")"
   ]
  },
  {
   "cell_type": "code",
   "execution_count": 9,
   "metadata": {
    "execution": {
     "iopub.execute_input": "2021-05-05T18:17:53.342907Z",
     "iopub.status.busy": "2021-05-05T18:17:53.342418Z",
     "iopub.status.idle": "2021-05-05T18:35:36.562315Z",
     "shell.execute_reply": "2021-05-05T18:35:36.561181Z",
     "shell.execute_reply.started": "2021-05-05T18:17:53.342846Z"
    }
   },
   "outputs": [
    {
     "name": "stdout",
     "output_type": "stream",
     "text": [
      "nChan: 385, nFileSamp: 17644049\n",
      "nChan: 385, nFileSamp: 17644049\n",
      "nChan: 385, nFileSamp: 17644049\n",
      "13:21:58: Finished /Volumes/neuropixel_archive/Data/chronic/CNPIX8-Allan/4-16-2021/4.16.2021_g0/4.16.2021_g0_imec0/4.16.2021_g0_t0.imec0.lf.bin\n",
      "nChan: 385, nFileSamp: 17999996\n",
      "nChan: 385, nFileSamp: 17999996\n",
      "nChan: 385, nFileSamp: 17999996\n",
      "13:27:03: Finished /Volumes/neuropixel_archive/Data/chronic/CNPIX8-Allan/4-16-2021/4.16.2021_g1/4.16.2021_g1_imec0/4.16.2021_g1_t0.imec0.lf.bin\n",
      "nChan: 385, nFileSamp: 17999996\n",
      "nChan: 385, nFileSamp: 17999996\n",
      "nChan: 385, nFileSamp: 17999996\n",
      "13:34:26: Finished /Volumes/neuropixel_archive/Data/chronic/CNPIX8-Allan/4-16-2021/4.16.2021_g1/4.16.2021_g1_imec0/4.16.2021_g1_t1.imec0.lf.bin\n",
      "nChan: 385, nFileSamp: 6268558\n",
      "nChan: 385, nFileSamp: 6268558\n",
      "nChan: 385, nFileSamp: 6268558\n",
      "13:35:36: Finished /Volumes/neuropixel_archive/Data/chronic/CNPIX8-Allan/4-16-2021/4.16.2021_g1/4.16.2021_g1_imec0/4.16.2021_g1_t2.imec0.lf.bin\n"
     ]
    }
   ],
   "source": [
    "get_condition_bandpower(\"Allan\", \"atropine\", \"all\", \"imec0\")"
   ]
  },
  {
   "cell_type": "code",
   "execution_count": null,
   "metadata": {},
   "outputs": [],
   "source": []
  }
 ],
 "metadata": {
  "kernelspec": {
   "display_name": "Python 3",
   "language": "python",
   "name": "python3"
  },
  "language_info": {
   "codemirror_mode": {
    "name": "ipython",
    "version": 3
   },
   "file_extension": ".py",
   "mimetype": "text/x-python",
   "name": "python",
   "nbconvert_exporter": "python",
   "pygments_lexer": "ipython3",
   "version": "3.7.9"
  }
 },
 "nbformat": 4,
 "nbformat_minor": 4
}
