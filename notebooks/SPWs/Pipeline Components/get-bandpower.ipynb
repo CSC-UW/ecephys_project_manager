{
 "cells": [
  {
   "cell_type": "code",
   "execution_count": null,
   "metadata": {},
   "outputs": [],
   "source": [
    "%load_ext autoreload\n",
    "%autoreload 2"
   ]
  },
  {
   "cell_type": "markdown",
   "metadata": {},
   "source": [
    "# Imports and definitions"
   ]
  },
  {
   "cell_type": "code",
   "execution_count": null,
   "metadata": {},
   "outputs": [],
   "source": [
    "import numpy as np\n",
    "import pandas as pd\n",
    "from datetime import datetime\n",
    "import xarray as xr\n",
    "from pathlib import Path"
   ]
  },
  {
   "cell_type": "code",
   "execution_count": null,
   "metadata": {},
   "outputs": [],
   "source": [
    "import ecephys_analyses as ea\n",
    "from ecephys.sglx_utils import load_trigger\n",
    "import ecephys.signal.timefrequency as tfr"
   ]
  },
  {
   "cell_type": "code",
   "execution_count": null,
   "metadata": {},
   "outputs": [],
   "source": [
    "xr.set_options(keep_attrs=True)"
   ]
  },
  {
   "cell_type": "code",
   "execution_count": null,
   "metadata": {},
   "outputs": [],
   "source": [
    "def get_bandpower(sig, chans, f_range):\n",
    "    fft_window_length = 4 # seconds\n",
    "    nperseg = int(fft_window_length * sig.fs) \n",
    "    noverlap = nperseg // 4 # 1 second overlap\n",
    "    spg = tfr.parallel_spectrogram_welch(sig, nperseg=nperseg, noverlap=noverlap).median(dim=\"channel\")\n",
    "    return tfr.get_bandpower(spg, f_range)"
   ]
  },
  {
   "cell_type": "code",
   "execution_count": 8,
   "metadata": {
    "execution": {
     "iopub.execute_input": "2021-05-31T23:06:31.313398Z",
     "iopub.status.busy": "2021-05-31T23:06:31.312898Z",
     "iopub.status.idle": "2021-05-31T23:06:31.354836Z",
     "shell.execute_reply": "2021-05-31T23:06:31.354187Z",
     "shell.execute_reply.started": "2021-05-31T23:06:31.313340Z"
    }
   },
   "outputs": [],
   "source": [
    "# This should probably not compute cx power when sr chans is absent. \n",
    "\n",
    "def get_condition_bandpower(subject, experiment, condition, probe):\n",
    "    cx_chans = ea.get_channels(subject, experiment, probe, \"superficial_ctx\", asarray=False)\n",
    "    wm_chans = ea.get_channels(subject, experiment, probe, \"white_matter\", asarray=False)\n",
    "    \n",
    "    bin_paths = ea.get_sglx_style_datapaths(subject, experiment, condition, \"lf.bin\")\n",
    "    sr_chans_paths = ea.get_sglx_style_datapaths(subject, experiment, condition, \"sr_chans.csv\")\n",
    "    power_paths = ea.get_sglx_style_datapaths(subject, experiment, condition, \"bandpower.nc\")\n",
    "    \n",
    "    for bin_path, sr_chans_path, power_path in zip(bin_paths, sr_chans_paths, power_paths):\n",
    "        sr_chans_df = ea.load_sr_chans(sr_chans_path)\n",
    "        epochs = list()\n",
    "        for epoch in sr_chans_df.itertuples():\n",
    "            if not epoch.sr_chans:\n",
    "                continue\n",
    "            cx = load_trigger(bin_path, cx_chans, start_time=epoch.start_time, end_time=epoch.end_time)\n",
    "            wm = load_trigger(bin_path, wm_chans, start_time=epoch.start_time, end_time=epoch.end_time)\n",
    "            sr = load_trigger(bin_path, epoch.sr_chans, start_time=epoch.start_time, end_time=epoch.end_time)\n",
    "\n",
    "            cx_wm_ref = cx - wm.values\n",
    "            cx_wm_ref.attrs['reference'] = wm.channel.values\n",
    "\n",
    "            sr_wm_ref = sr - wm.values\n",
    "            sr_wm_ref.attrs['reference'] = wm.channel.values\n",
    "\n",
    "            delta = (0.5, 4)\n",
    "            theta = (5, 10)\n",
    "            power = xr.Dataset({'mpta_delta_wm_ref': get_bandpower(cx_wm_ref, cx_chans, delta),\n",
    "                                'mpta_theta_wm_ref': get_bandpower(cx_wm_ref, cx_chans, theta),\n",
    "                                'sr_delta_wm_ref': get_bandpower(sr_wm_ref, epoch.sr_chans, delta),\n",
    "                                'sr_theta_wm_ref': get_bandpower(sr_wm_ref, epoch.sr_chans, theta)})\n",
    "            epochs.append(power)\n",
    "            \n",
    "        if not epochs:\n",
    "            continue\n",
    "        power = xr.concat(epochs, dim=\"time\")\n",
    "        Path(power_path).parent.mkdir(parents=True, exist_ok=True) # Create parent directories if they do not already exist.\n",
    "        power.to_netcdf(power_path)\n",
    "        power.close()\n",
    "        \n",
    "        current_time = datetime.now().strftime(\"%H:%M:%S\")\n",
    "        print(f\"{current_time}: Finished {str(bin_path)}\")"
   ]
  },
  {
   "cell_type": "code",
   "execution_count": null,
   "metadata": {
    "execution": {
     "iopub.execute_input": "2021-05-31T23:06:44.580539Z",
     "iopub.status.busy": "2021-05-31T23:06:44.580061Z"
    }
   },
   "outputs": [
    {
     "name": "stdout",
     "output_type": "stream",
     "text": [
      "nChan: 385, nFileSamp: 9000025\n",
      "nChan: 385, nFileSamp: 9000025\n",
      "nChan: 385, nFileSamp: 9000025\n",
      "18:10:03: Finished /Volumes/neuropixel_archive/Data/chronic/CNPIX6-Eugene/9-24-2020/9.24.2020_BL_24hs_g0/9.24.2020_BL_24hs_g0_imec0/9.24.2020_BL_24hs_g0_t0.imec0.lf.bin\n",
      "nChan: 385, nFileSamp: 9000025\n",
      "nChan: 385, nFileSamp: 9000025\n",
      "nChan: 385, nFileSamp: 9000025\n",
      "18:13:38: Finished /Volumes/neuropixel_archive/Data/chronic/CNPIX6-Eugene/9-24-2020/9.24.2020_BL_24hs2_g0/9.24.2020_BL_24hs2_g0_imec0/9.24.2020_BL_24hs2_g0_t0.imec0.lf.bin\n",
      "nChan: 385, nFileSamp: 9000026\n",
      "nChan: 385, nFileSamp: 9000026\n",
      "nChan: 385, nFileSamp: 9000026\n",
      "18:17:02: Finished /Volumes/neuropixel_archive/Data/chronic/CNPIX6-Eugene/9-24-2020/9.24.2020_BL_24hs2_g0/9.24.2020_BL_24hs2_g0_imec0/9.24.2020_BL_24hs2_g0_t1.imec0.lf.bin\n",
      "nChan: 385, nFileSamp: 9000026\n",
      "nChan: 385, nFileSamp: 9000026\n",
      "nChan: 385, nFileSamp: 9000026\n",
      "18:20:28: Finished /Volumes/neuropixel_archive/Data/chronic/CNPIX6-Eugene/9-24-2020/9.24.2020_BL_24hs2_g0/9.24.2020_BL_24hs2_g0_imec0/9.24.2020_BL_24hs2_g0_t2.imec0.lf.bin\n",
      "nChan: 385, nFileSamp: 9000026\n",
      "nChan: 385, nFileSamp: 9000026\n",
      "nChan: 385, nFileSamp: 9000026\n",
      "18:23:59: Finished /Volumes/neuropixel_archive/Data/chronic/CNPIX6-Eugene/9-24-2020/9.24.2020_BL_24hs2_g0/9.24.2020_BL_24hs2_g0_imec0/9.24.2020_BL_24hs2_g0_t3.imec0.lf.bin\n",
      "nChan: 385, nFileSamp: 9000026\n",
      "nChan: 385, nFileSamp: 9000026\n",
      "nChan: 385, nFileSamp: 9000026\n",
      "18:24:06: Finished /Volumes/neuropixel_archive/Data/chronic/CNPIX6-Eugene/9-24-2020/9.24.2020_BL_24hs2_g0/9.24.2020_BL_24hs2_g0_imec0/9.24.2020_BL_24hs2_g0_t4.imec0.lf.bin\n",
      "nChan: 385, nFileSamp: 9000026\n",
      "nChan: 385, nFileSamp: 9000026\n",
      "nChan: 385, nFileSamp: 9000026\n",
      "18:27:37: Finished /Volumes/neuropixel_archive/Data/chronic/CNPIX6-Eugene/9-24-2020/9.24.2020_BL_24hs3_g0/9.24.2020_BL_24hs3_g0_imec0/9.24.2020_BL_24hs3_g0_t0.imec0.lf.bin\n",
      "nChan: 385, nFileSamp: 7633369\n",
      "nChan: 385, nFileSamp: 7633369\n",
      "nChan: 385, nFileSamp: 7633369\n",
      "18:28:31: Finished /Volumes/neuropixel_archive/Data/chronic/CNPIX6-Eugene/9-24-2020/9.24.2020_BL_24hs3_g0/9.24.2020_BL_24hs3_g0_imec0/9.24.2020_BL_24hs3_g0_t1.imec0.lf.bin\n",
      "nChan: 385, nFileSamp: 5834484\n",
      "nChan: 385, nFileSamp: 5834484\n",
      "nChan: 385, nFileSamp: 5834484\n",
      "nChan: 385, nFileSamp: 5834484\n",
      "nChan: 385, nFileSamp: 5834484\n",
      "nChan: 385, nFileSamp: 5834484\n",
      "18:30:33: Finished /Volumes/neuropixel_archive/Data/chronic/CNPIX6-Eugene/9-24-2020/9.24.2020_BL_24hs5_g0/9.24.2020_BL_24hs5_g0_imec0/9.24.2020_BL_24hs5_g0_t0.imec0.lf.bin\n",
      "nChan: 385, nFileSamp: 1296137\n",
      "nChan: 385, nFileSamp: 1296137\n",
      "nChan: 385, nFileSamp: 1296137\n",
      "18:31:04: Finished /Volumes/neuropixel_archive/Data/chronic/CNPIX6-Eugene/9-24-2020/9.24.2020_BL_24hs7_g0/9.24.2020_BL_24hs7_g0_imec0/9.24.2020_BL_24hs7_g0_t0.imec0.lf.bin\n",
      "nChan: 385, nFileSamp: 9000026\n",
      "nChan: 385, nFileSamp: 9000026\n",
      "nChan: 385, nFileSamp: 9000026\n",
      "18:33:20: Finished /Volumes/neuropixel_archive/Data/chronic/CNPIX6-Eugene/9-24-2020/9.24.2020_BL_24hs8_g0/9.24.2020_BL_24hs8_g0_imec0/9.24.2020_BL_24hs8_g0_t0.imec0.lf.bin\n",
      "nChan: 385, nFileSamp: 9000026\n",
      "nChan: 385, nFileSamp: 9000026\n",
      "nChan: 385, nFileSamp: 9000026\n",
      "18:34:07: Finished /Volumes/neuropixel_archive/Data/chronic/CNPIX6-Eugene/9-24-2020/9.24.2020_BL_24hs8_g0/9.24.2020_BL_24hs8_g0_imec0/9.24.2020_BL_24hs8_g0_t1.imec0.lf.bin\n",
      "nChan: 385, nFileSamp: 4232185\n",
      "nChan: 385, nFileSamp: 4232185\n",
      "nChan: 385, nFileSamp: 4232185\n",
      "18:34:17: Finished /Volumes/neuropixel_archive/Data/chronic/CNPIX6-Eugene/9-24-2020/9.24.2020_BL_24hs10_g0/9.24.2020_BL_24hs10_g0_imec0/9.24.2020_BL_24hs10_g0_t0.imec0.lf.bin\n",
      "nChan: 385, nFileSamp: 4616615\n",
      "nChan: 385, nFileSamp: 4616615\n",
      "nChan: 385, nFileSamp: 4616615\n",
      "18:36:05: Finished /Volumes/neuropixel_archive/Data/chronic/CNPIX6-Eugene/9-24-2020/9.24.2020_BL_24hs11_g0/9.24.2020_BL_24hs11_g0_imec0/9.24.2020_BL_24hs11_g0_t0.imec0.lf.bin\n",
      "nChan: 385, nFileSamp: 800217\n",
      "nChan: 385, nFileSamp: 800217\n",
      "nChan: 385, nFileSamp: 800217\n",
      "18:36:28: Finished /Volumes/neuropixel_archive/Data/chronic/CNPIX6-Eugene/9-24-2020/9.24.2020_SD_24hs_g0/9.24.2020_SD_24hs_g0_imec0/9.24.2020_SD_24hs_g0_t0.imec0.lf.bin\n",
      "nChan: 385, nFileSamp: 2877424\n",
      "nChan: 385, nFileSamp: 2877424\n",
      "nChan: 385, nFileSamp: 2877424\n",
      "18:37:34: Finished /Volumes/neuropixel_archive/Data/chronic/CNPIX6-Eugene/9-24-2020/9.24.2020_SD_24hs1_g0/9.24.2020_SD_24hs1_g0_imec0/9.24.2020_SD_24hs1_g0_t0.imec0.lf.bin\n",
      "nChan: 385, nFileSamp: 2430722\n",
      "nChan: 385, nFileSamp: 2430722\n",
      "nChan: 385, nFileSamp: 2430722\n",
      "18:38:40: Finished /Volumes/neuropixel_archive/Data/chronic/CNPIX6-Eugene/9-24-2020/9.24.2020_SD_24hs2_g0/9.24.2020_SD_24hs2_g0_imec0/9.24.2020_SD_24hs2_g0_t0.imec0.lf.bin\n",
      "nChan: 385, nFileSamp: 5735230\n",
      "nChan: 385, nFileSamp: 5735230\n",
      "nChan: 385, nFileSamp: 5735230\n",
      "nChan: 385, nFileSamp: 5735230\n"
     ]
    }
   ],
   "source": [
    "get_condition_bandpower(\"Eugene\", \"sleep-homeostasis\", \"all\", \"imec0\")"
   ]
  },
  {
   "cell_type": "code",
   "execution_count": null,
   "metadata": {},
   "outputs": [],
   "source": [
    "get_condition_bandpower(\"Allan\", \"sleep-homeostasis\", \"all\", \"imec1\")"
   ]
  },
  {
   "cell_type": "code",
   "execution_count": null,
   "metadata": {},
   "outputs": [],
   "source": [
    "get_condition_bandpower(\"Doppio\", \"sleep-homeostasis\", \"all\", \"imec0\")"
   ]
  },
  {
   "cell_type": "code",
   "execution_count": null,
   "metadata": {},
   "outputs": [],
   "source": [
    "get_condition_bandpower(\"Valentino\", \"sleep-homeostasis\", \"all\", \"imec0\")"
   ]
  },
  {
   "cell_type": "code",
   "execution_count": null,
   "metadata": {},
   "outputs": [],
   "source": [
    "get_condition_bandpower(\"Segundo\", \"sleep-homeostasis\", \"all\", \"imec0\")"
   ]
  },
  {
   "cell_type": "code",
   "execution_count": null,
   "metadata": {},
   "outputs": [],
   "source": []
  }
 ],
 "metadata": {
  "kernelspec": {
   "display_name": "Python 3",
   "language": "python",
   "name": "python3"
  },
  "language_info": {
   "codemirror_mode": {
    "name": "ipython",
    "version": 3
   },
   "file_extension": ".py",
   "mimetype": "text/x-python",
   "name": "python",
   "nbconvert_exporter": "python",
   "pygments_lexer": "ipython3",
   "version": "3.7.9"
  }
 },
 "nbformat": 4,
 "nbformat_minor": 4
}
