{
 "cells": [
  {
   "cell_type": "code",
   "execution_count": 1,
   "metadata": {
    "execution": {
     "iopub.execute_input": "2021-05-12T21:49:25.494030Z",
     "iopub.status.busy": "2021-05-12T21:49:25.493547Z",
     "iopub.status.idle": "2021-05-12T21:49:25.511615Z",
     "shell.execute_reply": "2021-05-12T21:49:25.510833Z",
     "shell.execute_reply.started": "2021-05-12T21:49:25.493976Z"
    }
   },
   "outputs": [],
   "source": [
    "%load_ext autoreload\n",
    "%autoreload 2"
   ]
  },
  {
   "cell_type": "markdown",
   "metadata": {},
   "source": [
    "# Imports and definitions"
   ]
  },
  {
   "cell_type": "code",
   "execution_count": 2,
   "metadata": {
    "execution": {
     "iopub.execute_input": "2021-05-12T21:49:25.891910Z",
     "iopub.status.busy": "2021-05-12T21:49:25.891437Z",
     "iopub.status.idle": "2021-05-12T21:49:26.251336Z",
     "shell.execute_reply": "2021-05-12T21:49:26.250440Z",
     "shell.execute_reply.started": "2021-05-12T21:49:25.891860Z"
    }
   },
   "outputs": [],
   "source": [
    "import numpy as np\n",
    "import pandas as pd\n",
    "from datetime import datetime\n",
    "import xarray as xr\n",
    "from pathlib import Path"
   ]
  },
  {
   "cell_type": "code",
   "execution_count": 3,
   "metadata": {
    "execution": {
     "iopub.execute_input": "2021-05-12T21:49:26.269354Z",
     "iopub.status.busy": "2021-05-12T21:49:26.269192Z",
     "iopub.status.idle": "2021-05-12T21:49:26.652306Z",
     "shell.execute_reply": "2021-05-12T21:49:26.651546Z",
     "shell.execute_reply.started": "2021-05-12T21:49:26.269335Z"
    }
   },
   "outputs": [],
   "source": [
    "import ecephys_analyses as ea\n",
    "from ecephys.sglx_utils import load_timeseries\n",
    "import ecephys.signal.timefrequency as tfr"
   ]
  },
  {
   "cell_type": "code",
   "execution_count": 4,
   "metadata": {
    "execution": {
     "iopub.execute_input": "2021-05-12T21:49:26.707630Z",
     "iopub.status.busy": "2021-05-12T21:49:26.707228Z",
     "iopub.status.idle": "2021-05-12T21:49:26.727799Z",
     "shell.execute_reply": "2021-05-12T21:49:26.727145Z",
     "shell.execute_reply.started": "2021-05-12T21:49:26.707582Z"
    }
   },
   "outputs": [
    {
     "data": {
      "text/plain": [
       "<xarray.core.options.set_options at 0x7ff40567dad0>"
      ]
     },
     "execution_count": 4,
     "metadata": {},
     "output_type": "execute_result"
    }
   ],
   "source": [
    "xr.set_options(keep_attrs=True)"
   ]
  },
  {
   "cell_type": "code",
   "execution_count": 5,
   "metadata": {
    "execution": {
     "iopub.execute_input": "2021-05-12T21:49:27.042482Z",
     "iopub.status.busy": "2021-05-12T21:49:27.042197Z",
     "iopub.status.idle": "2021-05-12T21:49:27.063328Z",
     "shell.execute_reply": "2021-05-12T21:49:27.062383Z",
     "shell.execute_reply.started": "2021-05-12T21:49:27.042449Z"
    }
   },
   "outputs": [],
   "source": [
    "def parallel_spectrogram_welch(sig, **kwargs):\n",
    "    freqs, spg_times, spg = tfr.parallel_spectrogram_welch(sig.values, sig.fs, **kwargs)\n",
    "    spg_times = spg_times + sig.time.values.min()\n",
    "    return xr.DataArray(\n",
    "        spg,\n",
    "        dims=(\"frequency\", \"time\", \"channel\"),\n",
    "        coords={\"frequency\": freqs, \"time\": spg_times, \"channel\": sig.channel.values},\n",
    "        attrs={'units': f\"{sig.units}^2/Hz\", 'file_start': sig.fileCreateTime}\n",
    "    )"
   ]
  },
  {
   "cell_type": "code",
   "execution_count": 6,
   "metadata": {
    "execution": {
     "iopub.execute_input": "2021-05-12T21:49:27.355278Z",
     "iopub.status.busy": "2021-05-12T21:49:27.354800Z",
     "iopub.status.idle": "2021-05-12T21:49:27.374661Z",
     "shell.execute_reply": "2021-05-12T21:49:27.373933Z",
     "shell.execute_reply.started": "2021-05-12T21:49:27.355221Z"
    }
   },
   "outputs": [],
   "source": [
    "def get_bandpower_from_spectrogram(spg, chans, f_range):\n",
    "    bandpower = spg.sel(frequency=slice(*f_range)).sum(\n",
    "        dim=\"frequency\"\n",
    "    )\n",
    "    bandpower.attrs[\"freq_range\"] = f_range\n",
    "    bandpower.attrs['chans'] = chans\n",
    "\n",
    "    return bandpower"
   ]
  },
  {
   "cell_type": "code",
   "execution_count": 7,
   "metadata": {
    "execution": {
     "iopub.execute_input": "2021-05-12T21:49:27.874457Z",
     "iopub.status.busy": "2021-05-12T21:49:27.874238Z",
     "iopub.status.idle": "2021-05-12T21:49:27.896167Z",
     "shell.execute_reply": "2021-05-12T21:49:27.895267Z",
     "shell.execute_reply.started": "2021-05-12T21:49:27.874435Z"
    }
   },
   "outputs": [],
   "source": [
    "def get_bandpower(sig, chans, f_range):\n",
    "    # If no chans, return timeseries with negative power and approximately 1 sample per second. \n",
    "    if not chans:\n",
    "        da = xr.DataArray(\n",
    "            -1,\n",
    "            dims=sig.time.dims,\n",
    "            coords=sig.time.coords,\n",
    "            attrs={\"freq_range\": f_range, \"chans\": chans},\n",
    "        )\n",
    "        return da[0 : -1 : int(sig.fs)]\n",
    "    \n",
    "    spg = parallel_spectrogram_welch(sig).median(dim=\"channel\")\n",
    "    return get_bandpower_from_spectrogram(spg, chans, f_range)"
   ]
  },
  {
   "cell_type": "code",
   "execution_count": 8,
   "metadata": {
    "execution": {
     "iopub.execute_input": "2021-05-12T21:49:28.139914Z",
     "iopub.status.busy": "2021-05-12T21:49:28.139426Z",
     "iopub.status.idle": "2021-05-12T21:49:28.185406Z",
     "shell.execute_reply": "2021-05-12T21:49:28.184440Z",
     "shell.execute_reply.started": "2021-05-12T21:49:28.139856Z"
    }
   },
   "outputs": [],
   "source": [
    "# This should probably not compute cx power when sr chans is absent. \n",
    "\n",
    "def get_condition_bandpower(subject, experiment, condition, probe):\n",
    "    cx_chans = ea.get_channels(subject, experiment, probe, \"superficial_ctx\", asarray=False)\n",
    "    wm_chans = ea.get_channels(subject, experiment, probe, \"white_matter\", asarray=False)\n",
    "    \n",
    "    bin_paths = ea.get_sglx_style_datapaths(subject, experiment, condition, \"lf.bin\")\n",
    "    sr_chans_paths = ea.get_sglx_style_datapaths(subject, experiment, condition, \"sr_chans.csv\")\n",
    "    power_paths = ea.get_sglx_style_datapaths(subject, experiment, condition, \"bandpower.nc\")\n",
    "    \n",
    "    for bin_path, sr_chans_path, power_path in zip(bin_paths, sr_chans_paths, power_paths):\n",
    "        sr_chans_df = ea.load_sr_chans(sr_chans_path)\n",
    "        power_by_epoch = list()\n",
    "        for epoch in sr_chans_df.itertuples():\n",
    "            cx = load_timeseries(bin_path, cx_chans, start_time=epoch.start_time, end_time=epoch.end_time)\n",
    "            wm = load_timeseries(bin_path, wm_chans, start_time=epoch.start_time, end_time=epoch.end_time)\n",
    "            sr = load_timeseries(bin_path, epoch.sr_chans, start_time=epoch.start_time, end_time=epoch.end_time)\n",
    "\n",
    "            cx_wm_ref = cx - wm.values\n",
    "            cx_wm_ref.attrs['reference'] = wm.channel.values\n",
    "\n",
    "            sr_wm_ref = sr - wm.values\n",
    "            sr_wm_ref.attrs['reference'] = wm.channel.values\n",
    "\n",
    "            delta = (0.5, 4)\n",
    "            theta = (5, 10)\n",
    "            power = xr.Dataset({'mpta_delta_cbm_ref': get_bandpower(cx, cx_chans, delta), \n",
    "                                'mpta_theta_cbm_ref': get_bandpower(cx, cx_chans, theta),\n",
    "                                'sr_delta_cbm_ref': get_bandpower(sr, epoch.sr_chans, delta), \n",
    "                                'sr_theta_cbm_ref': get_bandpower(sr, epoch.sr_chans, theta),\n",
    "                                'mpta_delta_wm_ref': get_bandpower(cx_wm_ref, cx_chans, delta),\n",
    "                                'mpta_theta_wm_ref': get_bandpower(cx_wm_ref, cx_chans, theta),\n",
    "                                'sr_delta_wm_ref': get_bandpower(sr_wm_ref, epoch.sr_chans, delta),\n",
    "                                'sr_theta_wm_ref': get_bandpower(sr_wm_ref, epoch.sr_chans, theta)})\n",
    "            power_by_epoch.append(power)\n",
    "            \n",
    "        power = xr.concat(power_by_epoch, dim=\"time\")\n",
    "        power.attrs['file_start'] = cx.fileCreateTime\n",
    "        Path(power_path).parent.mkdir(parents=True, exist_ok=True) # Create parent directories if they do not already exist.\n",
    "        power.to_netcdf(power_path)\n",
    "        power.close()\n",
    "        \n",
    "        current_time = datetime.now().strftime(\"%H:%M:%S\")\n",
    "        print(f\"{current_time}: Finished {str(bin_path)}\")"
   ]
  },
  {
   "cell_type": "code",
   "execution_count": 20,
   "metadata": {
    "execution": {
     "iopub.execute_input": "2021-05-14T19:56:10.243668Z",
     "iopub.status.busy": "2021-05-14T19:56:10.243184Z",
     "iopub.status.idle": "2021-05-14T20:15:30.504113Z",
     "shell.execute_reply": "2021-05-14T20:15:30.503169Z",
     "shell.execute_reply.started": "2021-05-14T19:56:10.243608Z"
    }
   },
   "outputs": [
    {
     "name": "stdout",
     "output_type": "stream",
     "text": [
      "nChan: 385, nFileSamp: 17610153\n",
      "nChan: 385, nFileSamp: 17610153\n",
      "nChan: 385, nFileSamp: 17610153\n",
      "15:01:07: Finished /Volumes/neuropixel_archive/Data/chronic/CNPIX8-Allan/4-20-2021/4.20.2021_g0/4.20.2021_g0_imec0/4.20.2021_g0_t0.imec0.lf.bin\n",
      "nChan: 385, nFileSamp: 17999996\n",
      "nChan: 385, nFileSamp: 17999996\n",
      "nChan: 385, nFileSamp: 17999996\n",
      "15:09:30: Finished /Volumes/neuropixel_archive/Data/chronic/CNPIX8-Allan/4-20-2021/4.20.2021_g1/4.20.2021_g1_imec0/4.20.2021_g1_t0.imec0.lf.bin\n",
      "nChan: 385, nFileSamp: 17999996\n",
      "nChan: 385, nFileSamp: 17999996\n",
      "nChan: 385, nFileSamp: 17999996\n",
      "15:15:10: Finished /Volumes/neuropixel_archive/Data/chronic/CNPIX8-Allan/4-20-2021/4.20.2021_g1/4.20.2021_g1_imec0/4.20.2021_g1_t1.imec0.lf.bin\n",
      "nChan: 385, nFileSamp: 8530138\n",
      "nChan: 385, nFileSamp: 8530138\n",
      "nChan: 385, nFileSamp: 8530138\n",
      "15:15:30: Finished /Volumes/neuropixel_archive/Data/chronic/CNPIX8-Allan/4-20-2021/4.20.2021_g1/4.20.2021_g1_imec0/4.20.2021_g1_t2.imec0.lf.bin\n"
     ]
    }
   ],
   "source": [
    "get_condition_bandpower(\"Allan\", \"ketamine\", \"all\", \"imec0\")"
   ]
  },
  {
   "cell_type": "code",
   "execution_count": null,
   "metadata": {},
   "outputs": [],
   "source": []
  }
 ],
 "metadata": {
  "kernelspec": {
   "display_name": "Python 3",
   "language": "python",
   "name": "python3"
  },
  "language_info": {
   "codemirror_mode": {
    "name": "ipython",
    "version": 3
   },
   "file_extension": ".py",
   "mimetype": "text/x-python",
   "name": "python",
   "nbconvert_exporter": "python",
   "pygments_lexer": "ipython3",
   "version": "3.7.9"
  }
 },
 "nbformat": 4,
 "nbformat_minor": 4
}
