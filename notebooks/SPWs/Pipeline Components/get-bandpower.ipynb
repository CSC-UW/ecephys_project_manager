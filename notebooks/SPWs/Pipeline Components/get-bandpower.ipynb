{
 "cells": [
  {
   "cell_type": "code",
   "execution_count": 2,
   "metadata": {
    "execution": {
     "iopub.execute_input": "2021-08-12T15:49:36.115004Z",
     "iopub.status.busy": "2021-08-12T15:49:36.114462Z",
     "iopub.status.idle": "2021-08-12T15:49:36.131214Z",
     "shell.execute_reply": "2021-08-12T15:49:36.130589Z",
     "shell.execute_reply.started": "2021-08-12T15:49:36.114948Z"
    },
    "tags": []
   },
   "outputs": [],
   "source": [
    "%load_ext autoreload\n",
    "%autoreload 2"
   ]
  },
  {
   "cell_type": "markdown",
   "metadata": {},
   "source": [
    "# Imports and definitions"
   ]
  },
  {
   "cell_type": "code",
   "execution_count": 3,
   "metadata": {
    "execution": {
     "iopub.execute_input": "2021-08-12T15:49:36.447377Z",
     "iopub.status.busy": "2021-08-12T15:49:36.446966Z",
     "iopub.status.idle": "2021-08-12T15:49:37.110898Z",
     "shell.execute_reply": "2021-08-12T15:49:37.109441Z",
     "shell.execute_reply.started": "2021-08-12T15:49:36.447343Z"
    },
    "tags": []
   },
   "outputs": [],
   "source": [
    "import xarray as xr\n",
    "xr.set_options(keep_attrs=True)\n",
    "\n",
    "from datetime import datetime\n",
    "from pathlib import Path"
   ]
  },
  {
   "cell_type": "code",
   "execution_count": 4,
   "metadata": {
    "execution": {
     "iopub.execute_input": "2021-08-12T15:49:37.113361Z",
     "iopub.status.busy": "2021-08-12T15:49:37.113187Z",
     "iopub.status.idle": "2021-08-12T15:49:37.530506Z",
     "shell.execute_reply": "2021-08-12T15:49:37.529769Z",
     "shell.execute_reply.started": "2021-08-12T15:49:37.113336Z"
    },
    "tags": []
   },
   "outputs": [],
   "source": [
    "import ecephys_analyses as ea\n",
    "from sglxarray import load_trigger\n",
    "from ecephys import xrsig"
   ]
  },
  {
   "cell_type": "code",
   "execution_count": 5,
   "metadata": {
    "execution": {
     "iopub.execute_input": "2021-08-12T15:49:37.531599Z",
     "iopub.status.busy": "2021-08-12T15:49:37.531260Z",
     "iopub.status.idle": "2021-08-12T15:49:37.546470Z",
     "shell.execute_reply": "2021-08-12T15:49:37.545660Z",
     "shell.execute_reply.started": "2021-08-12T15:49:37.531580Z"
    },
    "tags": []
   },
   "outputs": [],
   "source": [
    "def get_bandpower(sig, chans, f_range):\n",
    "    fft_window_length = 4 # seconds\n",
    "    nperseg = int(fft_window_length * sig.fs) \n",
    "    noverlap = nperseg // 4 # 1 second overlap\n",
    "    spg = xrsig.parallel_spectrogram_welch(sig, nperseg=nperseg, noverlap=noverlap).median(dim=\"channel\")\n",
    "    return xrsig.get_bandpower(spg, f_range)"
   ]
  },
  {
   "cell_type": "code",
   "execution_count": 6,
   "metadata": {
    "execution": {
     "iopub.execute_input": "2021-08-12T15:49:37.547582Z",
     "iopub.status.busy": "2021-08-12T15:49:37.547452Z",
     "iopub.status.idle": "2021-08-12T15:49:37.565520Z",
     "shell.execute_reply": "2021-08-12T15:49:37.564678Z",
     "shell.execute_reply.started": "2021-08-12T15:49:37.547568Z"
    },
    "tags": []
   },
   "outputs": [],
   "source": [
    "# This should probably not compute cx power when sr chans is absent. \n",
    "\n",
    "def get_condition_bandpower(subject, experiment, condition, probe):\n",
    "    cx_chans = ea.get_channels(subject, experiment, probe, \"superficial_ctx\", asarray=False)\n",
    "    wm_chans = ea.get_channels(subject, experiment, probe, \"white_matter\", asarray=False)\n",
    "    \n",
    "    bin_paths = ea.get_sglx_style_datapaths(subject, experiment, condition, \"lf.bin\")\n",
    "    sr_chans_paths = ea.get_sglx_style_datapaths(subject, experiment, condition, \"sr_chans.csv\")\n",
    "    power_paths = ea.get_sglx_style_datapaths(subject, experiment, condition, \"bandpower.nc\")\n",
    "    \n",
    "    for bin_path, sr_chans_path, power_path in zip(bin_paths, sr_chans_paths, power_paths):\n",
    "        sr_chans_df = ea.load.load_sr_chans(sr_chans_path)\n",
    "        epochs = list()\n",
    "        for epoch in sr_chans_df.itertuples():\n",
    "            if not epoch.sr_chans:\n",
    "                continue\n",
    "            cx = load_trigger(bin_path, cx_chans, start_time=epoch.start_time, end_time=epoch.end_time)\n",
    "            wm = load_trigger(bin_path, wm_chans, start_time=epoch.start_time, end_time=epoch.end_time)\n",
    "            sr = load_trigger(bin_path, epoch.sr_chans, start_time=epoch.start_time, end_time=epoch.end_time)\n",
    "\n",
    "            cx_wm_ref = cx - wm.values\n",
    "            cx_wm_ref.attrs['reference'] = wm.channel.values\n",
    "\n",
    "            sr_wm_ref = sr - wm.values\n",
    "            sr_wm_ref.attrs['reference'] = wm.channel.values\n",
    "\n",
    "            delta = (0.5, 4)\n",
    "            theta = (5, 10)\n",
    "            power = xr.Dataset({'mpta_delta_wm_ref': get_bandpower(cx_wm_ref, cx_chans, delta),\n",
    "                                'mpta_theta_wm_ref': get_bandpower(cx_wm_ref, cx_chans, theta),\n",
    "                                'sr_delta_wm_ref': get_bandpower(sr_wm_ref, epoch.sr_chans, delta),\n",
    "                                'sr_theta_wm_ref': get_bandpower(sr_wm_ref, epoch.sr_chans, theta)})\n",
    "            epochs.append(power)\n",
    "            \n",
    "        if not epochs:\n",
    "            continue\n",
    "        power = xr.concat(epochs, dim=\"time\")\n",
    "        Path(power_path).parent.mkdir(parents=True, exist_ok=True) # Create parent directories if they do not already exist.\n",
    "        power.to_netcdf(power_path)\n",
    "        power.close()\n",
    "        \n",
    "        current_time = datetime.now().strftime(\"%H:%M:%S\")\n",
    "        print(f\"{current_time}: Finished {str(bin_path)}\")"
   ]
  },
  {
   "cell_type": "code",
   "execution_count": 13,
   "metadata": {
    "execution": {
     "iopub.execute_input": "2021-08-13T17:37:13.519604Z",
     "iopub.status.busy": "2021-08-13T17:37:13.519089Z",
     "iopub.status.idle": "2021-08-13T17:39:13.162523Z",
     "shell.execute_reply": "2021-08-13T17:39:13.161910Z",
     "shell.execute_reply.started": "2021-08-13T17:37:13.519540Z"
    },
    "tags": []
   },
   "outputs": [
    {
     "name": "stdout",
     "output_type": "stream",
     "text": [
      "nChan: 385, nFileSamp: 7122380\n",
      "nChan: 385, nFileSamp: 7122380\n",
      "nChan: 385, nFileSamp: 7122380\n",
      "12:38:41: Finished /Volumes/neuropixel_archive/Data/chronic/CNPIX5-Alessandro/9-2-2020/9-2-2020_Dex_g0/9-2-2020_Dex_g0_imec0/9-2-2020_Dex_g0_t0.imec0.lf.bin\n",
      "nChan: 385, nFileSamp: 3753750\n",
      "nChan: 385, nFileSamp: 3753750\n",
      "nChan: 385, nFileSamp: 3753750\n",
      "12:39:13: Finished /Volumes/neuropixel_archive/Data/chronic/CNPIX5-Alessandro/9-2-2020/9-2-2020_Dex_g1/9-2-2020_Dex_g1_imec0/9-2-2020_Dex_g1_t0.imec0.lf.bin\n"
     ]
    }
   ],
   "source": [
    "get_condition_bandpower(\"Alessandro\", \"dexmedetomidine-eStim\", \"all\", \"imec0\")"
   ]
  },
  {
   "cell_type": "code",
   "execution_count": null,
   "metadata": {},
   "outputs": [],
   "source": []
  }
 ],
 "metadata": {
  "kernelspec": {
   "display_name": "Python 3 (ipykernel)",
   "language": "python",
   "name": "python3"
  },
  "language_info": {
   "codemirror_mode": {
    "name": "ipython",
    "version": 3
   },
   "file_extension": ".py",
   "mimetype": "text/x-python",
   "name": "python",
   "nbconvert_exporter": "python",
   "pygments_lexer": "ipython3",
   "version": "3.7.10"
  }
 },
 "nbformat": 4,
 "nbformat_minor": 4
}
