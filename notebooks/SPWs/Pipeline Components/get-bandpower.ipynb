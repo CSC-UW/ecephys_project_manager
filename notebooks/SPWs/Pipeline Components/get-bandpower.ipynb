{
 "cells": [
  {
   "cell_type": "code",
   "execution_count": 1,
   "metadata": {
    "execution": {
     "iopub.execute_input": "2021-07-26T18:07:18.019987Z",
     "iopub.status.busy": "2021-07-26T18:07:18.019677Z",
     "iopub.status.idle": "2021-07-26T18:07:18.041812Z",
     "shell.execute_reply": "2021-07-26T18:07:18.041304Z",
     "shell.execute_reply.started": "2021-07-26T18:07:18.019926Z"
    },
    "tags": []
   },
   "outputs": [],
   "source": [
    "%load_ext autoreload\n",
    "%autoreload 2"
   ]
  },
  {
   "cell_type": "markdown",
   "metadata": {},
   "source": [
    "# Imports and definitions"
   ]
  },
  {
   "cell_type": "code",
   "execution_count": 2,
   "metadata": {
    "execution": {
     "iopub.execute_input": "2021-07-26T18:07:18.042708Z",
     "iopub.status.busy": "2021-07-26T18:07:18.042458Z",
     "iopub.status.idle": "2021-07-26T18:07:18.651620Z",
     "shell.execute_reply": "2021-07-26T18:07:18.651004Z",
     "shell.execute_reply.started": "2021-07-26T18:07:18.042689Z"
    },
    "tags": []
   },
   "outputs": [],
   "source": [
    "import xarray as xr\n",
    "xr.set_options(keep_attrs=True)\n",
    "\n",
    "from datetime import datetime\n",
    "from pathlib import Path"
   ]
  },
  {
   "cell_type": "code",
   "execution_count": 3,
   "metadata": {
    "execution": {
     "iopub.execute_input": "2021-07-26T18:07:18.653026Z",
     "iopub.status.busy": "2021-07-26T18:07:18.652660Z",
     "iopub.status.idle": "2021-07-26T18:07:19.032458Z",
     "shell.execute_reply": "2021-07-26T18:07:19.031770Z",
     "shell.execute_reply.started": "2021-07-26T18:07:18.653009Z"
    },
    "tags": []
   },
   "outputs": [],
   "source": [
    "import ecephys_analyses as ea\n",
    "from sglxarray import load_trigger\n",
    "from ecephys import xrsig"
   ]
  },
  {
   "cell_type": "code",
   "execution_count": 4,
   "metadata": {
    "execution": {
     "iopub.execute_input": "2021-07-26T18:07:19.033276Z",
     "iopub.status.busy": "2021-07-26T18:07:19.033138Z",
     "iopub.status.idle": "2021-07-26T18:07:19.049393Z",
     "shell.execute_reply": "2021-07-26T18:07:19.049019Z",
     "shell.execute_reply.started": "2021-07-26T18:07:19.033260Z"
    },
    "tags": []
   },
   "outputs": [],
   "source": [
    "def get_bandpower(sig, chans, f_range):\n",
    "    fft_window_length = 4 # seconds\n",
    "    nperseg = int(fft_window_length * sig.fs) \n",
    "    noverlap = nperseg // 4 # 1 second overlap\n",
    "    spg = xrsig.parallel_spectrogram_welch(sig, nperseg=nperseg, noverlap=noverlap).median(dim=\"channel\")\n",
    "    return xrsig.get_bandpower(spg, f_range)"
   ]
  },
  {
   "cell_type": "code",
   "execution_count": 5,
   "metadata": {
    "execution": {
     "iopub.execute_input": "2021-07-26T18:07:19.050313Z",
     "iopub.status.busy": "2021-07-26T18:07:19.050140Z",
     "iopub.status.idle": "2021-07-26T18:07:19.068261Z",
     "shell.execute_reply": "2021-07-26T18:07:19.067698Z",
     "shell.execute_reply.started": "2021-07-26T18:07:19.050297Z"
    },
    "tags": []
   },
   "outputs": [],
   "source": [
    "# This should probably not compute cx power when sr chans is absent. \n",
    "\n",
    "def get_condition_bandpower(subject, experiment, condition, probe):\n",
    "    cx_chans = ea.get_channels(subject, experiment, probe, \"superficial_ctx\", asarray=False)\n",
    "    wm_chans = ea.get_channels(subject, experiment, probe, \"white_matter\", asarray=False)\n",
    "    \n",
    "    bin_paths = ea.get_sglx_style_datapaths(subject, experiment, condition, \"lf.bin\")\n",
    "    sr_chans_paths = ea.get_sglx_style_datapaths(subject, experiment, condition, \"sr_chans.csv\")\n",
    "    power_paths = ea.get_sglx_style_datapaths(subject, experiment, condition, \"bandpower.nc\")\n",
    "    \n",
    "    for bin_path, sr_chans_path, power_path in zip(bin_paths, sr_chans_paths, power_paths):\n",
    "        sr_chans_df = ea.load.load_sr_chans(sr_chans_path)\n",
    "        epochs = list()\n",
    "        for epoch in sr_chans_df.itertuples():\n",
    "            if not epoch.sr_chans:\n",
    "                continue\n",
    "            cx = load_trigger(bin_path, cx_chans, start_time=epoch.start_time, end_time=epoch.end_time)\n",
    "            wm = load_trigger(bin_path, wm_chans, start_time=epoch.start_time, end_time=epoch.end_time)\n",
    "            sr = load_trigger(bin_path, epoch.sr_chans, start_time=epoch.start_time, end_time=epoch.end_time)\n",
    "\n",
    "            cx_wm_ref = cx - wm.values\n",
    "            cx_wm_ref.attrs['reference'] = wm.channel.values\n",
    "\n",
    "            sr_wm_ref = sr - wm.values\n",
    "            sr_wm_ref.attrs['reference'] = wm.channel.values\n",
    "\n",
    "            delta = (0.5, 4)\n",
    "            theta = (5, 10)\n",
    "            power = xr.Dataset({'mpta_delta_wm_ref': get_bandpower(cx_wm_ref, cx_chans, delta),\n",
    "                                'mpta_theta_wm_ref': get_bandpower(cx_wm_ref, cx_chans, theta),\n",
    "                                'sr_delta_wm_ref': get_bandpower(sr_wm_ref, epoch.sr_chans, delta),\n",
    "                                'sr_theta_wm_ref': get_bandpower(sr_wm_ref, epoch.sr_chans, theta)})\n",
    "            epochs.append(power)\n",
    "            \n",
    "        if not epochs:\n",
    "            continue\n",
    "        power = xr.concat(epochs, dim=\"time\")\n",
    "        Path(power_path).parent.mkdir(parents=True, exist_ok=True) # Create parent directories if they do not already exist.\n",
    "        power.to_netcdf(power_path)\n",
    "        power.close()\n",
    "        \n",
    "        current_time = datetime.now().strftime(\"%H:%M:%S\")\n",
    "        print(f\"{current_time}: Finished {str(bin_path)}\")"
   ]
  },
  {
   "cell_type": "code",
   "execution_count": 6,
   "metadata": {
    "execution": {
     "iopub.execute_input": "2021-07-26T18:07:19.069240Z",
     "iopub.status.busy": "2021-07-26T18:07:19.069009Z",
     "iopub.status.idle": "2021-07-26T20:59:06.737453Z",
     "shell.execute_reply": "2021-07-26T20:59:06.736480Z",
     "shell.execute_reply.started": "2021-07-26T18:07:19.069225Z"
    },
    "tags": []
   },
   "outputs": [
    {
     "name": "stdout",
     "output_type": "stream",
     "text": [
      "nChan: 385, nFileSamp: 18000070\n",
      "nChan: 385, nFileSamp: 18000070\n",
      "nChan: 385, nFileSamp: 18000070\n",
      "13:13:50: Finished /Volumes/neuropixel_archive/Data/chronic/CNPIX9-Luigi/6-20-2021/6-20-2021_g0/6-20-2021_g0_imec0/6-20-2021_g0_t0.imec0.lf.bin\n",
      "nChan: 385, nFileSamp: 18000070\n",
      "nChan: 385, nFileSamp: 18000070\n",
      "nChan: 385, nFileSamp: 18000070\n",
      "13:20:30: Finished /Volumes/neuropixel_archive/Data/chronic/CNPIX9-Luigi/6-20-2021/6-20-2021_g0/6-20-2021_g0_imec0/6-20-2021_g0_t1.imec0.lf.bin\n",
      "nChan: 385, nFileSamp: 18000070\n",
      "nChan: 385, nFileSamp: 18000070\n",
      "nChan: 385, nFileSamp: 18000070\n",
      "13:27:16: Finished /Volumes/neuropixel_archive/Data/chronic/CNPIX9-Luigi/6-20-2021/6-20-2021_g0/6-20-2021_g0_imec0/6-20-2021_g0_t2.imec0.lf.bin\n",
      "nChan: 385, nFileSamp: 18000070\n",
      "nChan: 385, nFileSamp: 18000070\n",
      "nChan: 385, nFileSamp: 18000070\n",
      "13:34:10: Finished /Volumes/neuropixel_archive/Data/chronic/CNPIX9-Luigi/6-20-2021/6-20-2021_g0/6-20-2021_g0_imec0/6-20-2021_g0_t3.imec0.lf.bin\n",
      "nChan: 385, nFileSamp: 18000070\n",
      "nChan: 385, nFileSamp: 18000070\n",
      "nChan: 385, nFileSamp: 18000070\n",
      "13:40:45: Finished /Volumes/neuropixel_archive/Data/chronic/CNPIX9-Luigi/6-20-2021/6-20-2021_g0/6-20-2021_g0_imec0/6-20-2021_g0_t4.imec0.lf.bin\n",
      "nChan: 385, nFileSamp: 18000070\n",
      "nChan: 385, nFileSamp: 18000070\n",
      "nChan: 385, nFileSamp: 18000070\n",
      "13:47:37: Finished /Volumes/neuropixel_archive/Data/chronic/CNPIX9-Luigi/6-20-2021/6-20-2021_g0/6-20-2021_g0_imec0/6-20-2021_g0_t5.imec0.lf.bin\n",
      "nChan: 385, nFileSamp: 18000071\n",
      "nChan: 385, nFileSamp: 18000071\n",
      "nChan: 385, nFileSamp: 18000071\n",
      "13:54:29: Finished /Volumes/neuropixel_archive/Data/chronic/CNPIX9-Luigi/6-20-2021/6-20-2021_g0/6-20-2021_g0_imec0/6-20-2021_g0_t6.imec0.lf.bin\n",
      "nChan: 385, nFileSamp: 18000070\n",
      "nChan: 385, nFileSamp: 18000070\n",
      "nChan: 385, nFileSamp: 18000070\n",
      "14:01:14: Finished /Volumes/neuropixel_archive/Data/chronic/CNPIX9-Luigi/6-20-2021/6-20-2021_g0/6-20-2021_g0_imec0/6-20-2021_g0_t7.imec0.lf.bin\n",
      "nChan: 385, nFileSamp: 18000070\n",
      "nChan: 385, nFileSamp: 18000070\n",
      "nChan: 385, nFileSamp: 18000070\n",
      "14:08:03: Finished /Volumes/neuropixel_archive/Data/chronic/CNPIX9-Luigi/6-20-2021/6-20-2021_g0/6-20-2021_g0_imec0/6-20-2021_g0_t8.imec0.lf.bin\n",
      "nChan: 385, nFileSamp: 18000071\n",
      "nChan: 385, nFileSamp: 18000071\n",
      "nChan: 385, nFileSamp: 18000071\n",
      "14:14:49: Finished /Volumes/neuropixel_archive/Data/chronic/CNPIX9-Luigi/6-20-2021/6-20-2021_g0/6-20-2021_g0_imec0/6-20-2021_g0_t9.imec0.lf.bin\n",
      "nChan: 385, nFileSamp: 18000070\n",
      "nChan: 385, nFileSamp: 18000070\n",
      "nChan: 385, nFileSamp: 18000070\n",
      "14:21:32: Finished /Volumes/neuropixel_archive/Data/chronic/CNPIX9-Luigi/6-20-2021/6-20-2021_g0/6-20-2021_g0_imec0/6-20-2021_g0_t10.imec0.lf.bin\n",
      "nChan: 385, nFileSamp: 17203190\n",
      "nChan: 385, nFileSamp: 17203190\n",
      "nChan: 385, nFileSamp: 17203190\n",
      "14:28:10: Finished /Volumes/neuropixel_archive/Data/chronic/CNPIX9-Luigi/6-20-2021/6-20-2021_g0/6-20-2021_g0_imec0/6-20-2021_g0_t11.imec0.lf.bin\n",
      "nChan: 385, nFileSamp: 18000071\n",
      "nChan: 385, nFileSamp: 18000071\n",
      "nChan: 385, nFileSamp: 18000071\n",
      "14:35:06: Finished /Volumes/neuropixel_archive/Data/chronic/CNPIX9-Luigi/6-20-2021/6-21-2021_g0/6-21-2021_g0_imec0/6-21-2021_g0_t0.imec0.lf.bin\n",
      "nChan: 385, nFileSamp: 18000070\n",
      "nChan: 385, nFileSamp: 18000070\n",
      "nChan: 385, nFileSamp: 18000070\n",
      "14:43:40: Finished /Volumes/neuropixel_archive/Data/chronic/CNPIX9-Luigi/6-20-2021/6-21-2021_g0/6-21-2021_g0_imec0/6-21-2021_g0_t1.imec0.lf.bin\n",
      "nChan: 385, nFileSamp: 17719059\n",
      "nChan: 385, nFileSamp: 17719059\n",
      "nChan: 385, nFileSamp: 17719059\n",
      "14:52:19: Finished /Volumes/neuropixel_archive/Data/chronic/CNPIX9-Luigi/6-20-2021/6-21-2021_g0/6-21-2021_g0_imec0/6-21-2021_g0_t2.imec0.lf.bin\n",
      "nChan: 385, nFileSamp: 18000070\n",
      "nChan: 385, nFileSamp: 18000070\n",
      "nChan: 385, nFileSamp: 18000070\n",
      "15:01:01: Finished /Volumes/neuropixel_archive/Data/chronic/CNPIX9-Luigi/6-20-2021/6-21-2021_g1/6-21-2021_g1_imec0/6-21-2021_g1_t0.imec0.lf.bin\n",
      "nChan: 385, nFileSamp: 18000070\n",
      "nChan: 385, nFileSamp: 18000070\n",
      "nChan: 385, nFileSamp: 18000070\n",
      "15:08:33: Finished /Volumes/neuropixel_archive/Data/chronic/CNPIX9-Luigi/6-20-2021/6-21-2021_g1/6-21-2021_g1_imec0/6-21-2021_g1_t1.imec0.lf.bin\n",
      "nChan: 385, nFileSamp: 18000070\n",
      "nChan: 385, nFileSamp: 18000070\n",
      "nChan: 385, nFileSamp: 18000070\n",
      "15:15:42: Finished /Volumes/neuropixel_archive/Data/chronic/CNPIX9-Luigi/6-20-2021/6-21-2021_g1/6-21-2021_g1_imec0/6-21-2021_g1_t2.imec0.lf.bin\n",
      "nChan: 385, nFileSamp: 18000070\n",
      "nChan: 385, nFileSamp: 18000070\n",
      "nChan: 385, nFileSamp: 18000070\n",
      "15:22:27: Finished /Volumes/neuropixel_archive/Data/chronic/CNPIX9-Luigi/6-20-2021/6-21-2021_g1/6-21-2021_g1_imec0/6-21-2021_g1_t3.imec0.lf.bin\n",
      "nChan: 385, nFileSamp: 18000070\n",
      "nChan: 385, nFileSamp: 18000070\n",
      "nChan: 385, nFileSamp: 18000070\n",
      "15:29:26: Finished /Volumes/neuropixel_archive/Data/chronic/CNPIX9-Luigi/6-20-2021/6-21-2021_g1/6-21-2021_g1_imec0/6-21-2021_g1_t4.imec0.lf.bin\n",
      "nChan: 385, nFileSamp: 18000070\n",
      "nChan: 385, nFileSamp: 18000070\n",
      "nChan: 385, nFileSamp: 18000070\n",
      "15:36:14: Finished /Volumes/neuropixel_archive/Data/chronic/CNPIX9-Luigi/6-20-2021/6-21-2021_g1/6-21-2021_g1_imec0/6-21-2021_g1_t5.imec0.lf.bin\n",
      "nChan: 385, nFileSamp: 18000070\n",
      "nChan: 385, nFileSamp: 18000070\n",
      "nChan: 385, nFileSamp: 18000070\n",
      "15:43:04: Finished /Volumes/neuropixel_archive/Data/chronic/CNPIX9-Luigi/6-20-2021/6-21-2021_g1/6-21-2021_g1_imec0/6-21-2021_g1_t6.imec0.lf.bin\n",
      "nChan: 385, nFileSamp: 18000070\n",
      "nChan: 385, nFileSamp: 18000070\n",
      "nChan: 385, nFileSamp: 18000070\n",
      "15:50:27: Finished /Volumes/neuropixel_archive/Data/chronic/CNPIX9-Luigi/6-20-2021/6-21-2021_g1/6-21-2021_g1_imec0/6-21-2021_g1_t7.imec0.lf.bin\n",
      "nChan: 385, nFileSamp: 18000070\n",
      "nChan: 385, nFileSamp: 18000070\n",
      "nChan: 385, nFileSamp: 18000070\n",
      "15:59:06: Finished /Volumes/neuropixel_archive/Data/chronic/CNPIX9-Luigi/6-20-2021/6-21-2021_g1/6-21-2021_g1_imec0/6-21-2021_g1_t8.imec0.lf.bin\n"
     ]
    }
   ],
   "source": [
    "get_condition_bandpower(\"Luigi\", \"sleep-homeostasis\", \"all\", \"imec0\")"
   ]
  }
 ],
 "metadata": {
  "kernelspec": {
   "display_name": "Python 3 (ipykernel)",
   "language": "python",
   "name": "python3"
  },
  "language_info": {
   "codemirror_mode": {
    "name": "ipython",
    "version": 3
   },
   "file_extension": ".py",
   "mimetype": "text/x-python",
   "name": "python",
   "nbconvert_exporter": "python",
   "pygments_lexer": "ipython3",
   "version": "3.7.10"
  }
 },
 "nbformat": 4,
 "nbformat_minor": 4
}
