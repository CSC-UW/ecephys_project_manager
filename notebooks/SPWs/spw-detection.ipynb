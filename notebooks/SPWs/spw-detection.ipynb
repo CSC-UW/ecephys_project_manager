{
 "cells": [
  {
   "cell_type": "markdown",
   "metadata": {},
   "source": [
    "- TODO: Parallelize sharp wave property computation"
   ]
  },
  {
   "cell_type": "markdown",
   "metadata": {
    "execution": {
     "iopub.execute_input": "2020-11-30T16:00:22.289233Z",
     "iopub.status.busy": "2020-11-30T16:00:22.288802Z",
     "iopub.status.idle": "2020-11-30T16:00:22.305803Z",
     "shell.execute_reply": "2020-11-30T16:00:22.305354Z",
     "shell.execute_reply.started": "2020-11-30T16:00:22.289179Z"
    }
   },
   "source": [
    "# Imports and definitions"
   ]
  },
  {
   "cell_type": "code",
   "execution_count": 26,
   "metadata": {
    "execution": {
     "iopub.execute_input": "2021-04-02T19:18:14.285943Z",
     "iopub.status.busy": "2021-04-02T19:18:14.285438Z",
     "iopub.status.idle": "2021-04-02T19:18:14.308906Z",
     "shell.execute_reply": "2021-04-02T19:18:14.307914Z",
     "shell.execute_reply.started": "2021-04-02T19:18:14.285879Z"
    }
   },
   "outputs": [
    {
     "name": "stdout",
     "output_type": "stream",
     "text": [
      "The autoreload extension is already loaded. To reload it, use:\n",
      "  %reload_ext autoreload\n"
     ]
    }
   ],
   "source": [
    "%load_ext autoreload\n",
    "%autoreload 2\n",
    "from IPython.core.debugger import set_trace"
   ]
  },
  {
   "cell_type": "code",
   "execution_count": 27,
   "metadata": {
    "execution": {
     "iopub.execute_input": "2021-04-02T19:18:14.812061Z",
     "iopub.status.busy": "2021-04-02T19:18:14.811564Z",
     "iopub.status.idle": "2021-04-02T19:18:14.834307Z",
     "shell.execute_reply": "2021-04-02T19:18:14.833295Z",
     "shell.execute_reply.started": "2021-04-02T19:18:14.811998Z"
    }
   },
   "outputs": [],
   "source": [
    "%matplotlib widget\n",
    "import matplotlib.pyplot as plt"
   ]
  },
  {
   "cell_type": "code",
   "execution_count": 28,
   "metadata": {
    "execution": {
     "iopub.execute_input": "2021-04-02T19:18:20.558857Z",
     "iopub.status.busy": "2021-04-02T19:18:20.558320Z",
     "iopub.status.idle": "2021-04-02T19:18:20.579870Z",
     "shell.execute_reply": "2021-04-02T19:18:20.578925Z",
     "shell.execute_reply.started": "2021-04-02T19:18:20.558769Z"
    }
   },
   "outputs": [],
   "source": [
    "import numpy as np\n",
    "import pandas as pd\n",
    "import xarray as xr\n",
    "import json\n",
    "from datetime import datetime\n",
    "from ast import literal_eval"
   ]
  },
  {
   "cell_type": "code",
   "execution_count": 29,
   "metadata": {
    "execution": {
     "iopub.execute_input": "2021-04-02T19:18:20.850937Z",
     "iopub.status.busy": "2021-04-02T19:18:20.850495Z",
     "iopub.status.idle": "2021-04-02T19:18:20.872425Z",
     "shell.execute_reply": "2021-04-02T19:18:20.871622Z",
     "shell.execute_reply.started": "2021-04-02T19:18:20.850878Z"
    }
   },
   "outputs": [],
   "source": [
    "from ecephys_analyses.data import paths, channel_groups\n",
    "from ecephys.sglx_utils import load_timeseries, load_multifile_timeseries\n",
    "from ecephys.signal.csd import get_kcsd\n",
    "from ecephys.signal.sharp_wave_ripples import detect_sharp_waves_by_value, detect_sharp_waves_by_zscore, get_durations, get_midpoints, get_sink_amplitudes, get_sink_integrals\n",
    "from ecephys.utils import load_df_h5, store_df_h5, zscore_to_value\n",
    "import ecephys.plot as eplt"
   ]
  },
  {
   "cell_type": "markdown",
   "metadata": {
    "collapsed": "true"
   },
   "source": [
    "## Get SPW detection parameters from early recovery sleep"
   ]
  },
  {
   "cell_type": "code",
   "execution_count": 24,
   "metadata": {
    "execution": {
     "iopub.execute_input": "2021-04-02T00:10:41.142281Z",
     "iopub.status.busy": "2021-04-02T00:10:41.141720Z",
     "iopub.status.idle": "2021-04-02T00:10:41.179388Z",
     "shell.execute_reply": "2021-04-02T00:10:41.178665Z",
     "shell.execute_reply.started": "2021-04-02T00:10:41.142216Z"
    }
   },
   "outputs": [],
   "source": [
    "def get_spw_detection_parameters(subject, nfiles, detection_threshold_zscore=2.5, boundary_threshold_zscore=1):\n",
    "    sr_chans = channel_groups.stratum_radiatum_140um_to_200um[subject]\n",
    "    hpc_chans = channel_groups.hippocampus[subject]\n",
    "    \n",
    "    bin_paths = paths.get_sglx_style_datapaths(subject=subject, experiment=\"sleep-homeostasis\", condition=\"recovery-sleep\", ext=\"lf.bin\")[:nfiles]\n",
    "    params_path = paths.get_datapath(subject=subject, experiment=\"sleep-homeostasis\", file=\"sharp_wave_detection_params.json\")\n",
    "    \n",
    "    if nfiles > 1:\n",
    "        da = load_multifile_timeseries(bin_paths, hpc_chans, contiguous=True)\n",
    "    else:\n",
    "        da = load_timeseries(bin_paths[0], hpc_chans)\n",
    "    (time, hpc_lfps, fs) = (da.time.values, da.values, da.fs)\n",
    "    \n",
    "    gdx = intersite_distance = 0.020\n",
    "    k = get_kcsd(\n",
    "        hpc_lfps, intersite_distance=intersite_distance, gdx=gdx, do_lcurve=True\n",
    "    )\n",
    "    \n",
    "    hpc_csd = k.values(\"CSD\")\n",
    "    sr_csd = hpc_csd[np.isin(hpc_chans, sr_chans)]\n",
    "    combined_csd = np.sum(-sr_csd.T, axis=1)\n",
    "\n",
    "    detection_threshold = zscore_to_value(combined_csd, detection_threshold_zscore)\n",
    "    boundary_threshold = zscore_to_value(combined_csd, boundary_threshold_zscore)\n",
    "    \n",
    "    metadata = dict(\n",
    "        csd_chans=hpc_chans.tolist(),\n",
    "        detection_chans=sr_chans,\n",
    "        electrode_positions=k.ele_pos.tolist(),\n",
    "        intersite_distance=intersite_distance,\n",
    "        gdx=k.gdx,\n",
    "        lambd=k.lambd,\n",
    "        R=k.R,\n",
    "        detect_states=[\"all\"],\n",
    "        detection_threshold_zscore=detection_threshold_zscore,\n",
    "        boundary_threshold_zscore=boundary_threshold_zscore,\n",
    "        detection_threshold=detection_threshold,\n",
    "        boundary_threshold=boundary_threshold,\n",
    "        minimum_duration=0.005,\n",
    "        params_source_files=[str(path) for path in bin_paths] \n",
    "    )\n",
    "    \n",
    "    params_path.parent.mkdir(parents=True, exist_ok=True)\n",
    "    with open(params_path, \"x\") as params_file:\n",
    "        json.dump(metadata, params_file, indent=4)"
   ]
  },
  {
   "cell_type": "markdown",
   "metadata": {},
   "source": [
    "## Detect SPWS, accounting for drift"
   ]
  },
  {
   "cell_type": "code",
   "execution_count": 30,
   "metadata": {
    "execution": {
     "iopub.execute_input": "2021-04-02T19:19:54.700090Z",
     "iopub.status.busy": "2021-04-02T19:19:54.699585Z",
     "iopub.status.idle": "2021-04-02T19:19:54.727110Z",
     "shell.execute_reply": "2021-04-02T19:19:54.726628Z",
     "shell.execute_reply.started": "2021-04-02T19:19:54.700026Z"
    }
   },
   "outputs": [],
   "source": [
    "def get_epoch_spws(hpc_csd, params, epoch_start, epoch_end, sr_chans):\n",
    "    if not sr_chans:\n",
    "        return pd.DataFrame()\n",
    "    \n",
    "    sr_csd = hpc_csd.sel(time=slice(epoch_start, epoch_end), channel=sr_chans)\n",
    "    \n",
    "    spws = detect_sharp_waves_by_value(\n",
    "        sr_csd.time.values,\n",
    "        sr_csd.values,\n",
    "        params[\"detection_threshold\"],\n",
    "        params[\"boundary_threshold\"],\n",
    "        params[\"minimum_duration\"],\n",
    "    )\n",
    "\n",
    "    if not spws.empty:\n",
    "        spws[\"duration\"] = get_durations(spws)\n",
    "        spws[\"midpoint\"] = get_midpoints(spws)\n",
    "        spws[\"sink_amplitude\"] = get_sink_amplitudes(spws, sr_csd.time.values, sr_csd.values) * (\n",
    "            1e-6\n",
    "        )  # Scale to mA/mm\n",
    "        spws[\"sink_integral\"] = (\n",
    "            get_sink_integrals(spws, sr_csd.time.values, sr_csd.fs, sr_csd.values) * (1e-6) * (1e3)\n",
    "        )  # Scale to mA * ms\n",
    "\n",
    "        spws[\"sr_chans\"] = [sr_chans] * len(spws)\n",
    "    \n",
    "    return spws"
   ]
  },
  {
   "cell_type": "code",
   "execution_count": 31,
   "metadata": {
    "execution": {
     "iopub.execute_input": "2021-04-02T19:19:55.238576Z",
     "iopub.status.busy": "2021-04-02T19:19:55.238078Z",
     "iopub.status.idle": "2021-04-02T19:19:55.270669Z",
     "shell.execute_reply": "2021-04-02T19:19:55.270149Z",
     "shell.execute_reply.started": "2021-04-02T19:19:55.238512Z"
    }
   },
   "outputs": [],
   "source": [
    "def get_file_spws(bin_path, sr_chans_path, spw_path, params_path, hpc_chans):\n",
    "    hpc_lfps = load_timeseries(bin_path, hpc_chans)\n",
    "\n",
    "    with open(params_path) as params_file:\n",
    "        params = json.load(params_file)\n",
    "\n",
    "    intersite_distance = params[\"intersite_distance\"]\n",
    "    k = get_kcsd(\n",
    "        hpc_lfps.values,\n",
    "        intersite_distance=params[\"intersite_distance\"],\n",
    "        gdx=params[\"gdx\"],\n",
    "        lambd=params[\"lambd\"],\n",
    "        R_init=params[\"R\"],\n",
    "        do_lcurve=False,\n",
    "    )\n",
    "    \n",
    "    hpc_csd = xr.DataArray(\n",
    "        k.values(\"CSD\"),\n",
    "        dims=(\"channel\", \"time\"),\n",
    "        coords={\"channel\": hpc_lfps.channel.values, \"time\": hpc_lfps.time.values},\n",
    "        attrs={'units': \"nA/mm\", 'fs': hpc_lfps.fs}\n",
    "    ) \n",
    "\n",
    "    spws_by_epoch = list()\n",
    "    sr_chans_df = pd.read_csv(sr_chans_path)\n",
    "    sr_chans_df.sr_chans = sr_chans_df.sr_chans.apply(lambda x: [] if pd.isnull(x) else list(literal_eval(x)))\n",
    "    for epoch in sr_chans_df.itertuples():\n",
    "        spws_by_epoch.append(get_epoch_spws(hpc_csd, params, epoch.start_time, epoch.end_time, epoch.sr_chans))\n",
    "    \n",
    "    spws = pd.concat(spws_by_epoch)\n",
    "    metadata = dict(\n",
    "        csd_chans=hpc_chans,\n",
    "        electrode_positions=k.ele_pos,\n",
    "        intersite_distance=intersite_distance,\n",
    "        gdx=k.gdx,\n",
    "        lambd=k.lambd,\n",
    "        R=k.R,\n",
    "        detect_states=[\"all\"],\n",
    "        file_start=hpc_lfps.fileCreateTime,\n",
    "    )\n",
    "    metadata.update(spws.attrs)\n",
    "\n",
    "    store_df_h5(spw_path, spws, **metadata)"
   ]
  },
  {
   "cell_type": "code",
   "execution_count": 32,
   "metadata": {
    "execution": {
     "iopub.execute_input": "2021-04-02T19:19:58.294702Z",
     "iopub.status.busy": "2021-04-02T19:19:58.294196Z",
     "iopub.status.idle": "2021-04-02T19:19:58.319916Z",
     "shell.execute_reply": "2021-04-02T19:19:58.319485Z",
     "shell.execute_reply.started": "2021-04-02T19:19:58.294639Z"
    }
   },
   "outputs": [],
   "source": [
    "def get_experiment_spws(subject, experiment):\n",
    "    hpc_chans = channel_groups.hippocampus[subject]\n",
    "    \n",
    "    bin_paths = paths.get_sglx_style_datapaths(subject=subject, experiment=experiment, condition=\"all\", ext=\"lf.bin\")\n",
    "    sr_chans_paths = paths.get_sglx_style_datapaths(subject=subject, experiment=experiment, condition=\"all\", ext=\"sr_chans.csv\")\n",
    "    spw_paths = paths.get_sglx_style_datapaths(subject=subject, experiment=experiment, condition=\"all\", ext=\"spws.h5\")\n",
    "    params_path = paths.get_datapath(file=\"sharp_wave_detection_params.json\", subject=subject, experiment=experiment)\n",
    "\n",
    "    for bin_path, sr_chans_path, spw_path in zip(bin_paths, sr_chans_paths, spw_paths):\n",
    "        get_file_spws(bin_path, sr_chans_path, spw_path, params_path, hpc_chans)\n",
    "        current_time = datetime.now().strftime(\"%H:%M:%S\")\n",
    "        print(f\"{current_time}: Finished {str(bin_path)}\")"
   ]
  },
  {
   "cell_type": "markdown",
   "metadata": {},
   "source": [
    "# Run automated pipeline"
   ]
  },
  {
   "cell_type": "code",
   "execution_count": 33,
   "metadata": {
    "execution": {
     "iopub.execute_input": "2021-04-02T19:20:40.026763Z",
     "iopub.status.busy": "2021-04-02T19:20:40.026251Z",
     "iopub.status.idle": "2021-04-02T21:32:10.800908Z",
     "shell.execute_reply": "2021-04-02T21:32:10.800105Z",
     "shell.execute_reply.started": "2021-04-02T19:20:40.026698Z"
    }
   },
   "outputs": [
    {
     "name": "stdout",
     "output_type": "stream",
     "text": [
      "nChan: 385, nFileSamp: 4242731\n"
     ]
    },
    {
     "name": "stderr",
     "output_type": "stream",
     "text": [
      "/home/gfindlay/miniconda3/envs/ecephys/lib/python3.7/site-packages/ipykernel_launcher.py:10: PerformanceWarning: \n",
      "your performance may suffer as PyTables will pickle object types that it cannot\n",
      "map directly to c-types [inferred_type->mixed,key->block1_values] [items->Index(['sr_chans'], dtype='object')]\n",
      "\n",
      "  # Remove the CWD from sys.path while we load stuff.\n"
     ]
    },
    {
     "name": "stdout",
     "output_type": "stream",
     "text": [
      "14:21:53: Finished /Volumes/neuropixel_archive/Data/chronic/CNPIX8-Allan/3-1-2021/3-1-2021_g0/3-1-2021_g0_imec1/3-1-2021_g0_t0.imec1.lf.bin\n",
      "nChan: 385, nFileSamp: 361262\n",
      "14:21:59: Finished /Volumes/neuropixel_archive/Data/chronic/CNPIX8-Allan/3-1-2021/3-1-2021-a_g0/3-1-2021-a_g0_imec1/3-1-2021-a_g0_t0.imec1.lf.bin\n",
      "nChan: 385, nFileSamp: 3863847\n",
      "14:23:25: Finished /Volumes/neuropixel_archive/Data/chronic/CNPIX8-Allan/3-1-2021/3-1-2021_A_g0/3-1-2021_A_g0_imec1/3-1-2021_A_g0_t0.imec1.lf.bin\n",
      "nChan: 385, nFileSamp: 8999998\n",
      "14:26:57: Finished /Volumes/neuropixel_archive/Data/chronic/CNPIX8-Allan/3-1-2021/3-1-2021_A_g1/3-1-2021_A_g1_imec1/3-1-2021_A_g1_t0.imec1.lf.bin\n",
      "nChan: 385, nFileSamp: 8999998\n",
      "14:30:04: Finished /Volumes/neuropixel_archive/Data/chronic/CNPIX8-Allan/3-1-2021/3-1-2021_A_g1/3-1-2021_A_g1_imec1/3-1-2021_A_g1_t1.imec1.lf.bin\n",
      "nChan: 385, nFileSamp: 4274822\n",
      "14:31:15: Finished /Volumes/neuropixel_archive/Data/chronic/CNPIX8-Allan/3-1-2021/3-1-2021_B_g0/3-1-2021_B_g0_imec1/3-1-2021_B_g0_t0.imec1.lf.bin\n",
      "nChan: 385, nFileSamp: 8999998\n",
      "14:34:09: Finished /Volumes/neuropixel_archive/Data/chronic/CNPIX8-Allan/3-1-2021/3-1-2021_C_g0/3-1-2021_C_g0_imec1/3-1-2021_C_g0_t0.imec1.lf.bin\n",
      "nChan: 385, nFileSamp: 8999998\n",
      "14:38:28: Finished /Volumes/neuropixel_archive/Data/chronic/CNPIX8-Allan/3-1-2021/3-1-2021_C_g0/3-1-2021_C_g0_imec1/3-1-2021_C_g0_t1.imec1.lf.bin\n",
      "nChan: 385, nFileSamp: 8999998\n",
      "14:41:22: Finished /Volumes/neuropixel_archive/Data/chronic/CNPIX8-Allan/3-1-2021/3-1-2021_C_g0/3-1-2021_C_g0_imec1/3-1-2021_C_g0_t2.imec1.lf.bin\n",
      "nChan: 385, nFileSamp: 8999998\n",
      "14:45:40: Finished /Volumes/neuropixel_archive/Data/chronic/CNPIX8-Allan/3-1-2021/3-1-2021_C_g0/3-1-2021_C_g0_imec1/3-1-2021_C_g0_t3.imec1.lf.bin\n",
      "nChan: 385, nFileSamp: 8999998\n",
      "14:48:50: Finished /Volumes/neuropixel_archive/Data/chronic/CNPIX8-Allan/3-1-2021/3-1-2021_C_g0/3-1-2021_C_g0_imec1/3-1-2021_C_g0_t4.imec1.lf.bin\n",
      "nChan: 385, nFileSamp: 8999998\n",
      "14:51:43: Finished /Volumes/neuropixel_archive/Data/chronic/CNPIX8-Allan/3-1-2021/3-1-2021_C_g0/3-1-2021_C_g0_imec1/3-1-2021_C_g0_t5.imec1.lf.bin\n",
      "nChan: 385, nFileSamp: 8999998\n",
      "14:55:40: Finished /Volumes/neuropixel_archive/Data/chronic/CNPIX8-Allan/3-1-2021/3-1-2021_C_g0/3-1-2021_C_g0_imec1/3-1-2021_C_g0_t6.imec1.lf.bin\n",
      "nChan: 385, nFileSamp: 8999998\n",
      "14:59:10: Finished /Volumes/neuropixel_archive/Data/chronic/CNPIX8-Allan/3-1-2021/3-1-2021_C_g0/3-1-2021_C_g0_imec1/3-1-2021_C_g0_t7.imec1.lf.bin\n",
      "nChan: 385, nFileSamp: 6626338\n",
      "15:01:03: Finished /Volumes/neuropixel_archive/Data/chronic/CNPIX8-Allan/3-1-2021/3-1-2021_C_g0/3-1-2021_C_g0_imec1/3-1-2021_C_g0_t8.imec1.lf.bin\n",
      "nChan: 385, nFileSamp: 8999999\n",
      "15:03:44: Finished /Volumes/neuropixel_archive/Data/chronic/CNPIX8-Allan/3-1-2021/3-1-2021_D_g0/3-1-2021_D_g0_imec1/3-1-2021_D_g0_t0.imec1.lf.bin\n",
      "nChan: 385, nFileSamp: 8999998\n",
      "15:06:10: Finished /Volumes/neuropixel_archive/Data/chronic/CNPIX8-Allan/3-1-2021/3-1-2021_D_g0/3-1-2021_D_g0_imec1/3-1-2021_D_g0_t1.imec1.lf.bin\n",
      "nChan: 385, nFileSamp: 1747894\n",
      "15:06:38: Finished /Volumes/neuropixel_archive/Data/chronic/CNPIX8-Allan/3-1-2021/3-1-2021_D_g0/3-1-2021_D_g0_imec1/3-1-2021_D_g0_t2.imec1.lf.bin\n",
      "nChan: 385, nFileSamp: 8999998\n",
      "15:10:31: Finished /Volumes/neuropixel_archive/Data/chronic/CNPIX8-Allan/3-1-2021/3-1-2021_E_g0/3-1-2021_E_g0_imec1/3-1-2021_E_g0_t0.imec1.lf.bin\n",
      "nChan: 385, nFileSamp: 8998952\n",
      "15:13:15: Finished /Volumes/neuropixel_archive/Data/chronic/CNPIX8-Allan/3-1-2021/3-1-2021_E_g0/3-1-2021_E_g0_imec1/3-1-2021_E_g0_t1.imec1.lf.bin\n",
      "nChan: 385, nFileSamp: 8999999\n",
      "15:16:34: Finished /Volumes/neuropixel_archive/Data/chronic/CNPIX8-Allan/3-1-2021/3-1-2021_G_g0/3-1-2021_G_g0_imec1/3-1-2021_G_g0_t0.imec1.lf.bin\n",
      "nChan: 385, nFileSamp: 6172746\n",
      "15:18:19: Finished /Volumes/neuropixel_archive/Data/chronic/CNPIX8-Allan/3-1-2021/3-1-2021_G_g0/3-1-2021_G_g0_imec1/3-1-2021_G_g0_t1.imec1.lf.bin\n",
      "nChan: 385, nFileSamp: 8999998\n",
      "15:21:01: Finished /Volumes/neuropixel_archive/Data/chronic/CNPIX8-Allan/3-1-2021/3-1-2021_H_g0/3-1-2021_H_g0_imec1/3-1-2021_H_g0_t0.imec1.lf.bin\n",
      "nChan: 385, nFileSamp: 8999998\n",
      "15:24:11: Finished /Volumes/neuropixel_archive/Data/chronic/CNPIX8-Allan/3-1-2021/3-1-2021_H_g0/3-1-2021_H_g0_imec1/3-1-2021_H_g0_t1.imec1.lf.bin\n",
      "nChan: 385, nFileSamp: 3449805\n",
      "15:25:10: Finished /Volumes/neuropixel_archive/Data/chronic/CNPIX8-Allan/3-1-2021/3-1-2021_H_g0/3-1-2021_H_g0_imec1/3-1-2021_H_g0_t2.imec1.lf.bin\n",
      "nChan: 385, nFileSamp: 4577439\n",
      "15:26:31: Finished /Volumes/neuropixel_archive/Data/chronic/CNPIX8-Allan/3-1-2021/3-1-2021_J_g0/3-1-2021_J_g0_imec1/3-1-2021_J_g0_t0.imec1.lf.bin\n",
      "nChan: 385, nFileSamp: 3682820\n",
      "15:27:46: Finished /Volumes/neuropixel_archive/Data/chronic/CNPIX8-Allan/3-1-2021/3-2-2021_A_g0/3-2-2021_A_g0_imec1/3-2-2021_A_g0_t0.imec1.lf.bin\n",
      "nChan: 385, nFileSamp: 8999998\n",
      "15:30:52: Finished /Volumes/neuropixel_archive/Data/chronic/CNPIX8-Allan/3-1-2021/3-2-2021_B_g0/3-2-2021_B_g0_imec1/3-2-2021_B_g0_t0.imec1.lf.bin\n",
      "nChan: 385, nFileSamp: 4821759\n",
      "15:32:42: Finished /Volumes/neuropixel_archive/Data/chronic/CNPIX8-Allan/3-1-2021/3-2-2021_B_g0/3-2-2021_B_g0_imec1/3-2-2021_B_g0_t1.imec1.lf.bin\n",
      "nChan: 385, nFileSamp: 7183437\n",
      "15:35:33: Finished /Volumes/neuropixel_archive/Data/chronic/CNPIX8-Allan/3-1-2021/3-2-2021_C_g0/3-2-2021_C_g0_imec1/3-2-2021_C_g0_t0.imec1.lf.bin\n",
      "nChan: 385, nFileSamp: 8999999\n",
      "15:38:32: Finished /Volumes/neuropixel_archive/Data/chronic/CNPIX8-Allan/3-1-2021/3-2-2021_D_g0/3-2-2021_D_g0_imec1/3-2-2021_D_g0_t0.imec1.lf.bin\n",
      "nChan: 385, nFileSamp: 8999998\n",
      "15:42:00: Finished /Volumes/neuropixel_archive/Data/chronic/CNPIX8-Allan/3-1-2021/3-2-2021_D_g0/3-2-2021_D_g0_imec1/3-2-2021_D_g0_t1.imec1.lf.bin\n",
      "nChan: 385, nFileSamp: 4053617\n",
      "15:43:09: Finished /Volumes/neuropixel_archive/Data/chronic/CNPIX8-Allan/3-1-2021/3-2-2021_D_g0/3-2-2021_D_g0_imec1/3-2-2021_D_g0_t2.imec1.lf.bin\n",
      "nChan: 385, nFileSamp: 2128585\n",
      "15:43:46: Finished /Volumes/neuropixel_archive/Data/chronic/CNPIX8-Allan/3-1-2021/3-2-2021_E_g0/3-2-2021_E_g0_imec1/3-2-2021_E_g0_t0.imec1.lf.bin\n",
      "nChan: 385, nFileSamp: 8999998\n",
      "15:46:55: Finished /Volumes/neuropixel_archive/Data/chronic/CNPIX8-Allan/3-1-2021/3-2-2021_F_g0/3-2-2021_F_g0_imec1/3-2-2021_F_g0_t0.imec1.lf.bin\n",
      "nChan: 385, nFileSamp: 8999998\n",
      "15:53:05: Finished /Volumes/neuropixel_archive/Data/chronic/CNPIX8-Allan/3-1-2021/3-2-2021_F_g0/3-2-2021_F_g0_imec1/3-2-2021_F_g0_t1.imec1.lf.bin\n",
      "nChan: 385, nFileSamp: 8999998\n",
      "15:57:06: Finished /Volumes/neuropixel_archive/Data/chronic/CNPIX8-Allan/3-1-2021/3-2-2021_F_g0/3-2-2021_F_g0_imec1/3-2-2021_F_g0_t2.imec1.lf.bin\n",
      "nChan: 385, nFileSamp: 8999998\n",
      "16:00:10: Finished /Volumes/neuropixel_archive/Data/chronic/CNPIX8-Allan/3-1-2021/3-2-2021_F_g0/3-2-2021_F_g0_imec1/3-2-2021_F_g0_t3.imec1.lf.bin\n",
      "nChan: 385, nFileSamp: 8999999\n",
      "16:02:56: Finished /Volumes/neuropixel_archive/Data/chronic/CNPIX8-Allan/3-1-2021/3-2-2021_F_g0/3-2-2021_F_g0_imec1/3-2-2021_F_g0_t4.imec1.lf.bin\n",
      "nChan: 385, nFileSamp: 8999999\n",
      "16:05:54: Finished /Volumes/neuropixel_archive/Data/chronic/CNPIX8-Allan/3-1-2021/3-2-2021_G_g0/3-2-2021_G_g0_imec1/3-2-2021_G_g0_t0.imec1.lf.bin\n",
      "nChan: 385, nFileSamp: 787423\n",
      "16:06:07: Finished /Volumes/neuropixel_archive/Data/chronic/CNPIX8-Allan/3-1-2021/3-2-2021_G_g0/3-2-2021_G_g0_imec1/3-2-2021_G_g0_t1.imec1.lf.bin\n",
      "nChan: 385, nFileSamp: 4193453\n",
      "16:07:23: Finished /Volumes/neuropixel_archive/Data/chronic/CNPIX8-Allan/3-1-2021/3-2-2021_H_g0/3-2-2021_H_g0_imec1/3-2-2021_H_g0_t0.imec1.lf.bin\n",
      "nChan: 385, nFileSamp: 8999998\n",
      "16:11:45: Finished /Volumes/neuropixel_archive/Data/chronic/CNPIX8-Allan/3-1-2021/3-2-2021_I_g0/3-2-2021_I_g0_imec1/3-2-2021_I_g0_t0.imec1.lf.bin\n",
      "nChan: 385, nFileSamp: 8223829\n",
      "16:14:09: Finished /Volumes/neuropixel_archive/Data/chronic/CNPIX8-Allan/3-1-2021/3-2-2021_I_g0/3-2-2021_I_g0_imec1/3-2-2021_I_g0_t1.imec1.lf.bin\n",
      "nChan: 385, nFileSamp: 8999999\n",
      "16:17:33: Finished /Volumes/neuropixel_archive/Data/chronic/CNPIX8-Allan/3-1-2021/3-2-2021_J_g0/3-2-2021_J_g0_imec1/3-2-2021_J_g0_t0.imec1.lf.bin\n",
      "nChan: 385, nFileSamp: 8999998\n",
      "16:20:18: Finished /Volumes/neuropixel_archive/Data/chronic/CNPIX8-Allan/3-1-2021/3-2-2021_J_g0/3-2-2021_J_g0_imec1/3-2-2021_J_g0_t1.imec1.lf.bin\n",
      "nChan: 385, nFileSamp: 8999998\n",
      "16:22:47: Finished /Volumes/neuropixel_archive/Data/chronic/CNPIX8-Allan/3-1-2021/3-2-2021_K_g0/3-2-2021_K_g0_imec1/3-2-2021_K_g0_t0.imec1.lf.bin\n",
      "nChan: 385, nFileSamp: 8999999\n",
      "16:26:06: Finished /Volumes/neuropixel_archive/Data/chronic/CNPIX8-Allan/3-1-2021/3-2-2021_L_g0/3-2-2021_L_g0_imec1/3-2-2021_L_g0_t0.imec1.lf.bin\n",
      "nChan: 385, nFileSamp: 7934693\n",
      "16:28:45: Finished /Volumes/neuropixel_archive/Data/chronic/CNPIX8-Allan/3-1-2021/3-2-2021_M_g0/3-2-2021_M_g0_imec1/3-2-2021_M_g0_t0.imec1.lf.bin\n",
      "nChan: 385, nFileSamp: 5289645\n",
      "16:30:17: Finished /Volumes/neuropixel_archive/Data/chronic/CNPIX8-Allan/3-1-2021/3-2-2021_N_g0/3-2-2021_N_g0_imec1/3-2-2021_N_g0_t0.imec1.lf.bin\n",
      "nChan: 385, nFileSamp: 5093264\n",
      "16:32:10: Finished /Volumes/neuropixel_archive/Data/chronic/CNPIX8-Allan/3-1-2021/3-2-2021_O_g0/3-2-2021_O_g0_imec1/3-2-2021_O_g0_t0.imec1.lf.bin\n"
     ]
    }
   ],
   "source": [
    "get_experiment_spws(subject=\"Allan\", experiment=\"sleep-homeostasis\")"
   ]
  },
  {
   "cell_type": "markdown",
   "metadata": {
    "collapsed": "true"
   },
   "source": [
    "# Run pipeline piecemeal"
   ]
  },
  {
   "cell_type": "code",
   "execution_count": 17,
   "metadata": {
    "execution": {
     "iopub.execute_input": "2021-03-26T18:00:18.754125Z",
     "iopub.status.busy": "2021-03-26T18:00:18.753746Z",
     "iopub.status.idle": "2021-03-26T18:00:18.778047Z",
     "shell.execute_reply": "2021-03-26T18:00:18.776929Z",
     "shell.execute_reply.started": "2021-03-26T18:00:18.754083Z"
    }
   },
   "outputs": [],
   "source": [
    "subject = \"Eugene\"\n",
    "experiment = \"sleep-homeostasis\""
   ]
  },
  {
   "cell_type": "markdown",
   "metadata": {},
   "source": [
    "## Load the data"
   ]
  },
  {
   "cell_type": "code",
   "execution_count": 18,
   "metadata": {
    "execution": {
     "iopub.execute_input": "2021-03-26T18:00:21.206195Z",
     "iopub.status.busy": "2021-03-26T18:00:21.205776Z",
     "iopub.status.idle": "2021-03-26T18:00:21.463825Z",
     "shell.execute_reply": "2021-03-26T18:00:21.462956Z",
     "shell.execute_reply.started": "2021-03-26T18:00:21.206144Z"
    }
   },
   "outputs": [],
   "source": [
    "hpc_chans = channel_groups.hippocampus[subject]\n",
    "    \n",
    "bin_paths = paths.get_sglx_style_datapaths(subject=subject, experiment=experiment, condition=\"all\", ext=\"lf.bin\")\n",
    "sr_chans_paths = paths.get_sglx_style_datapaths(subject=subject, experiment=experiment, condition=\"all\", ext=\"sr_chans.csv\")\n",
    "spw_paths = paths.get_sglx_style_datapaths(subject=subject, experiment=experiment, condition=\"all\", ext=\"spws.h5\")\n",
    "params_path = paths.get_datapath(file=\"sharp_wave_detection_params.json\", subject=subject, experiment=experiment)"
   ]
  },
  {
   "cell_type": "code",
   "execution_count": 49,
   "metadata": {
    "execution": {
     "iopub.execute_input": "2021-03-26T18:12:15.520705Z",
     "iopub.status.busy": "2021-03-26T18:12:15.520342Z",
     "iopub.status.idle": "2021-03-26T18:12:15.552233Z",
     "shell.execute_reply": "2021-03-26T18:12:15.551015Z",
     "shell.execute_reply.started": "2021-03-26T18:12:15.520664Z"
    }
   },
   "outputs": [],
   "source": [
    "filenum = 5\n",
    "bin_path = bin_paths[filenum]\n",
    "sr_chans_path = sr_chans_paths[filenum]\n",
    "spw_path = spw_paths[filenum]"
   ]
  },
  {
   "cell_type": "code",
   "execution_count": 25,
   "metadata": {
    "execution": {
     "iopub.execute_input": "2021-03-23T00:48:00.768285Z",
     "iopub.status.busy": "2021-03-23T00:48:00.767760Z",
     "iopub.status.idle": "2021-03-23T00:49:30.028382Z",
     "shell.execute_reply": "2021-03-23T00:49:30.027188Z",
     "shell.execute_reply.started": "2021-03-23T00:48:00.768222Z"
    }
   },
   "outputs": [
    {
     "name": "stdout",
     "output_type": "stream",
     "text": [
      "nChan: 385, nFileSamp: 9000052\n"
     ]
    }
   ],
   "source": [
    "hpc_lfps = load_timeseries(bin_path, hpc_chans)"
   ]
  },
  {
   "cell_type": "markdown",
   "metadata": {},
   "source": [
    "## Detect sharp waves"
   ]
  },
  {
   "cell_type": "markdown",
   "metadata": {},
   "source": [
    "### If we need to determine detection parameters"
   ]
  },
  {
   "cell_type": "code",
   "execution_count": 8,
   "metadata": {
    "execution": {
     "iopub.execute_input": "2021-01-04T00:26:38.945022Z",
     "iopub.status.busy": "2021-01-04T00:26:38.944541Z",
     "iopub.status.idle": "2021-01-04T00:35:20.793274Z",
     "shell.execute_reply": "2021-01-04T00:35:20.791877Z",
     "shell.execute_reply.started": "2021-01-04T00:26:38.944964Z"
    }
   },
   "outputs": [
    {
     "name": "stdout",
     "output_type": "stream",
     "text": [
      "Performing L-curve parameter estimation...\n",
      "No lambda given, using defaults\n",
      "min lambda 1e-12\n",
      "max lambda 0.0126\n",
      "min lambda 1e-12\n",
      "max lambda 0.0126\n",
      "l-curve (all lambda):  0.23\n",
      "Best lambda and R =  0.0003822395851068327 ,  0.23\n"
     ]
    }
   ],
   "source": [
    "intersite_distance = 0.020\n",
    "k = get_kcsd(hpc_lfps, intersite_distance=intersite_distance, gdx=0.020, do_lcurve=True)\n",
    "hpc_csd = k.values('CSD')\n",
    "sr_csd = hpc_csd[np.isin(hpc_chans, sr_chans)]"
   ]
  },
  {
   "cell_type": "code",
   "execution_count": 32,
   "metadata": {
    "execution": {
     "iopub.execute_input": "2021-01-04T03:02:30.851252Z",
     "iopub.status.busy": "2021-01-04T03:02:30.850790Z",
     "iopub.status.idle": "2021-01-04T03:04:05.222403Z",
     "shell.execute_reply": "2021-01-04T03:04:05.221712Z",
     "shell.execute_reply.started": "2021-01-04T03:02:30.851191Z"
    }
   },
   "outputs": [],
   "source": [
    "spws = detect_sharp_waves_by_zscore(time, sr_csd)"
   ]
  },
  {
   "cell_type": "markdown",
   "metadata": {},
   "source": [
    "### If we are using detection parameters obtained elsewhere"
   ]
  },
  {
   "cell_type": "code",
   "execution_count": 26,
   "metadata": {
    "execution": {
     "iopub.execute_input": "2021-03-23T00:50:53.446668Z",
     "iopub.status.busy": "2021-03-23T00:50:53.446030Z",
     "iopub.status.idle": "2021-03-23T00:51:05.728097Z",
     "shell.execute_reply": "2021-03-23T00:51:05.726874Z",
     "shell.execute_reply.started": "2021-03-23T00:50:53.446601Z"
    }
   },
   "outputs": [],
   "source": [
    "with open(params_path) as params_file:\n",
    "    params = json.load(params_file)\n",
    "\n",
    "intersite_distance = params[\"intersite_distance\"]\n",
    "k = get_kcsd(\n",
    "    hpc_lfps.values,\n",
    "    intersite_distance=params[\"intersite_distance\"],\n",
    "    gdx=params[\"gdx\"],\n",
    "    lambd=params[\"lambd\"],\n",
    "    R_init=params[\"R\"],\n",
    "    do_lcurve=False,\n",
    ")\n",
    "\n",
    "hpc_csd = xr.DataArray(\n",
    "    k.values(\"CSD\"),\n",
    "    dims=(\"channel\", \"time\"),\n",
    "    coords={\"channel\": hpc_lfps.channel.values, \"time\": hpc_lfps.time.values},\n",
    "    attrs={'units': \"nA/mm\", 'fs': hpc_lfps.fs}\n",
    ") "
   ]
  },
  {
   "cell_type": "code",
   "execution_count": 57,
   "metadata": {
    "execution": {
     "iopub.execute_input": "2021-03-23T01:04:45.270609Z",
     "iopub.status.busy": "2021-03-23T01:04:45.270081Z",
     "iopub.status.idle": "2021-03-23T01:05:22.781073Z",
     "shell.execute_reply": "2021-03-23T01:05:22.779899Z",
     "shell.execute_reply.started": "2021-03-23T01:04:45.270548Z"
    }
   },
   "outputs": [],
   "source": [
    "spws_by_epoch = list()\n",
    "sr_chans_df = pd.read_csv(sr_chans_path, converters={\"sr_chans\": literal_eval})\n",
    "sr_chans_df.sr_chans = sr_chans_df.sr_chans.apply(list)\n",
    "for epoch in sr_chans_df.itertuples():\n",
    "    spws_by_epoch.append(get_epoch_spws(hpc_csd, params, epoch.start_time, epoch.end_time, epoch.sr_chans))\n",
    "\n",
    "spws = pd.concat(spws_by_epoch)"
   ]
  },
  {
   "cell_type": "code",
   "execution_count": 49,
   "metadata": {
    "execution": {
     "iopub.execute_input": "2021-03-23T01:02:20.881582Z",
     "iopub.status.busy": "2021-03-23T01:02:20.881019Z",
     "iopub.status.idle": "2021-03-23T01:02:21.881049Z",
     "shell.execute_reply": "2021-03-23T01:02:21.880167Z",
     "shell.execute_reply.started": "2021-03-23T01:02:20.881516Z"
    }
   },
   "outputs": [],
   "source": [
    "epoch_num = 1\n",
    "epoch_start = sr_chans_df.start_time[epoch_num]\n",
    "epoch_end = sr_chans_df.end_time[epoch_num]\n",
    "sr_chans = sr_chans_df.sr_chans[epoch_num]\n",
    "\n",
    "sr_csd = hpc_csd.sel(time=slice(epoch_start, epoch_end), channel=sr_chans)\n",
    "\n",
    "spws = detect_sharp_waves_by_value(\n",
    "    sr_csd.time.values,\n",
    "    sr_csd.values,\n",
    "    params[\"detection_threshold\"],\n",
    "    params[\"boundary_threshold\"],\n",
    "    params[\"minimum_duration\"],\n",
    ")\n",
    "\n",
    "if not spws.empty:\n",
    "    spws[\"duration\"] = get_durations(spws)\n",
    "    spws[\"midpoint\"] = get_midpoints(spws)\n",
    "    spws[\"sink_amplitude\"] = get_sink_amplitudes(spws, sr_csd.time.values, sr_csd.values) * (\n",
    "        1e-6\n",
    "    )  # Scale to mA/mm\n",
    "    spws[\"sink_integral\"] = (\n",
    "        get_sink_integrals(spws, sr_csd.time.values, sr_csd.fs, sr_csd.values) * (1e-6) * (1e3)\n",
    "    )  # Scale to mA * ms\n",
    "\n",
    "    spws[\"sr_chans\"] = [sr_chans] * len(spws)"
   ]
  },
  {
   "cell_type": "markdown",
   "metadata": {
    "execution": {
     "iopub.execute_input": "2020-12-01T00:20:18.941774Z",
     "iopub.status.busy": "2020-12-01T00:20:18.941278Z",
     "iopub.status.idle": "2020-12-01T00:20:18.960114Z",
     "shell.execute_reply": "2020-12-01T00:20:18.959367Z",
     "shell.execute_reply.started": "2020-12-01T00:20:18.941715Z"
    }
   },
   "source": [
    "## Export results"
   ]
  },
  {
   "cell_type": "code",
   "execution_count": 16,
   "metadata": {
    "execution": {
     "iopub.execute_input": "2021-01-05T20:04:09.995051Z",
     "iopub.status.busy": "2021-01-05T20:04:09.994903Z",
     "iopub.status.idle": "2021-01-05T20:04:10.050666Z",
     "shell.execute_reply": "2021-01-05T20:04:10.049955Z",
     "shell.execute_reply.started": "2021-01-05T20:04:09.995033Z"
    }
   },
   "outputs": [],
   "source": [
    "metadata = dict(\n",
    "    csd_chans=hpc_chans,\n",
    "    electrode_positions=k.ele_pos,\n",
    "    intersite_distance=intersite_distance,\n",
    "    gdx=k.gdx,\n",
    "    lambd=k.lambd,\n",
    "    R=k.R,\n",
    "    detect_states=[\"all\"],\n",
    "    file_start=hpc_lfps.fileCreateTime,\n",
    ")\n",
    "metadata.update(spws.attrs)\n",
    "\n",
    "store_df_h5(spw_path, spws, **metadata)"
   ]
  },
  {
   "cell_type": "markdown",
   "metadata": {},
   "source": [
    "## If necessary, create params file"
   ]
  },
  {
   "cell_type": "code",
   "execution_count": 85,
   "metadata": {
    "execution": {
     "iopub.execute_input": "2021-01-04T04:49:13.834943Z",
     "iopub.status.busy": "2021-01-04T04:49:13.834475Z",
     "iopub.status.idle": "2021-01-04T04:49:13.859881Z",
     "shell.execute_reply": "2021-01-04T04:49:13.859209Z",
     "shell.execute_reply.started": "2021-01-04T04:49:13.834885Z"
    }
   },
   "outputs": [],
   "source": [
    "metadata.update({'params_source_file': str(bin_path)})\n",
    "metadata['csd_chans'] = metadata['csd_chans'].tolist()\n",
    "metadata['electrode_positions'] = metadata['electrode_positions'].tolist()\n",
    "with open(params_path, 'x') as params_file:\n",
    "    json.dump(metadata, params_file, indent=4)"
   ]
  },
  {
   "cell_type": "code",
   "execution_count": null,
   "metadata": {},
   "outputs": [],
   "source": []
  }
 ],
 "metadata": {
  "kernelspec": {
   "display_name": "Python 3",
   "language": "python",
   "name": "python3"
  },
  "language_info": {
   "codemirror_mode": {
    "name": "ipython",
    "version": 3
   },
   "file_extension": ".py",
   "mimetype": "text/x-python",
   "name": "python",
   "nbconvert_exporter": "python",
   "pygments_lexer": "ipython3",
   "version": "3.7.9"
  }
 },
 "nbformat": 4,
 "nbformat_minor": 4
}
