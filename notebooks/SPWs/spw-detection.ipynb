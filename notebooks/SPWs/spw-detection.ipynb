{
 "cells": [
  {
   "cell_type": "markdown",
   "metadata": {},
   "source": [
    "- TODO: Parallelize sharp wave property computation"
   ]
  },
  {
   "cell_type": "markdown",
   "metadata": {
    "execution": {
     "iopub.execute_input": "2020-11-30T16:00:22.289233Z",
     "iopub.status.busy": "2020-11-30T16:00:22.288802Z",
     "iopub.status.idle": "2020-11-30T16:00:22.305803Z",
     "shell.execute_reply": "2020-11-30T16:00:22.305354Z",
     "shell.execute_reply.started": "2020-11-30T16:00:22.289179Z"
    }
   },
   "source": [
    "# Imports and definitions"
   ]
  },
  {
   "cell_type": "code",
   "execution_count": 9,
   "metadata": {
    "execution": {
     "iopub.execute_input": "2021-04-12T23:11:28.906545Z",
     "iopub.status.busy": "2021-04-12T23:11:28.906209Z",
     "iopub.status.idle": "2021-04-12T23:11:28.927490Z",
     "shell.execute_reply": "2021-04-12T23:11:28.926844Z",
     "shell.execute_reply.started": "2021-04-12T23:11:28.906507Z"
    }
   },
   "outputs": [
    {
     "name": "stdout",
     "output_type": "stream",
     "text": [
      "The autoreload extension is already loaded. To reload it, use:\n",
      "  %reload_ext autoreload\n"
     ]
    }
   ],
   "source": [
    "%load_ext autoreload\n",
    "%autoreload 2\n",
    "from IPython.core.debugger import set_trace"
   ]
  },
  {
   "cell_type": "code",
   "execution_count": 10,
   "metadata": {
    "execution": {
     "iopub.execute_input": "2021-04-12T23:11:29.110512Z",
     "iopub.status.busy": "2021-04-12T23:11:29.110212Z",
     "iopub.status.idle": "2021-04-12T23:11:29.129637Z",
     "shell.execute_reply": "2021-04-12T23:11:29.128967Z",
     "shell.execute_reply.started": "2021-04-12T23:11:29.110472Z"
    }
   },
   "outputs": [],
   "source": [
    "%matplotlib widget\n",
    "import matplotlib.pyplot as plt"
   ]
  },
  {
   "cell_type": "code",
   "execution_count": 11,
   "metadata": {
    "execution": {
     "iopub.execute_input": "2021-04-12T23:11:29.374241Z",
     "iopub.status.busy": "2021-04-12T23:11:29.373924Z",
     "iopub.status.idle": "2021-04-12T23:11:29.392894Z",
     "shell.execute_reply": "2021-04-12T23:11:29.392282Z",
     "shell.execute_reply.started": "2021-04-12T23:11:29.374200Z"
    }
   },
   "outputs": [],
   "source": [
    "import numpy as np\n",
    "import pandas as pd\n",
    "import xarray as xr\n",
    "import json\n",
    "from datetime import datetime\n",
    "from ast import literal_eval"
   ]
  },
  {
   "cell_type": "code",
   "execution_count": 12,
   "metadata": {
    "execution": {
     "iopub.execute_input": "2021-04-12T23:11:29.775247Z",
     "iopub.status.busy": "2021-04-12T23:11:29.774844Z",
     "iopub.status.idle": "2021-04-12T23:11:29.795394Z",
     "shell.execute_reply": "2021-04-12T23:11:29.794615Z",
     "shell.execute_reply.started": "2021-04-12T23:11:29.775199Z"
    }
   },
   "outputs": [],
   "source": [
    "from ecephys_analyses.data import paths, channel_groups\n",
    "from ecephys.sglx_utils import load_timeseries, load_multifile_timeseries\n",
    "from ecephys.signal.csd import get_kcsd\n",
    "from ecephys.signal.sharp_wave_ripples import detect_sharp_waves_by_value, detect_sharp_waves_by_zscore, get_durations, get_midpoints, get_sink_amplitudes, get_sink_integrals\n",
    "from ecephys.utils import load_df_h5, store_df_h5, zscore_to_value\n",
    "import ecephys.plot as eplt"
   ]
  },
  {
   "cell_type": "markdown",
   "metadata": {},
   "source": [
    "## Get SPW detection parameters from early recovery sleep"
   ]
  },
  {
   "cell_type": "code",
   "execution_count": 13,
   "metadata": {
    "execution": {
     "iopub.execute_input": "2021-04-12T23:11:32.793078Z",
     "iopub.status.busy": "2021-04-12T23:11:32.792568Z",
     "iopub.status.idle": "2021-04-12T23:11:32.827613Z",
     "shell.execute_reply": "2021-04-12T23:11:32.826866Z",
     "shell.execute_reply.started": "2021-04-12T23:11:32.793015Z"
    }
   },
   "outputs": [],
   "source": [
    "def get_spw_detection_parameters(subject, nfiles, detection_threshold_zscore=2.5, boundary_threshold_zscore=1):\n",
    "    sr_chans = channel_groups.stratum_radiatum_140um_to_200um[subject]\n",
    "    hpc_chans = channel_groups.hippocampus[subject]\n",
    "    \n",
    "    bin_paths = paths.get_sglx_style_datapaths(subject=subject, experiment=\"sleep-homeostasis\", condition=\"recovery-sleep\", ext=\"lf.bin\")[:nfiles]\n",
    "    params_path = paths.get_datapath(subject=subject, experiment=\"sleep-homeostasis\", file=\"sharp_wave_detection_params.json\")\n",
    "    \n",
    "    if nfiles > 1:\n",
    "        da = load_multifile_timeseries(bin_paths, hpc_chans, contiguous=True)\n",
    "    else:\n",
    "        da = load_timeseries(bin_paths[0], hpc_chans)\n",
    "    (time, hpc_lfps, fs) = (da.time.values, da.values, da.fs)\n",
    "    \n",
    "    gdx = intersite_distance = 0.020\n",
    "    k = get_kcsd(\n",
    "        hpc_lfps, intersite_distance=intersite_distance, gdx=gdx, do_lcurve=True\n",
    "    )\n",
    "    \n",
    "    hpc_csd = k.values(\"CSD\")\n",
    "    sr_csd = hpc_csd[np.isin(hpc_chans, sr_chans)]\n",
    "    combined_csd = np.sum(-sr_csd.T, axis=1)\n",
    "\n",
    "    detection_threshold = zscore_to_value(combined_csd, detection_threshold_zscore)\n",
    "    boundary_threshold = zscore_to_value(combined_csd, boundary_threshold_zscore)\n",
    "    \n",
    "    metadata = dict(\n",
    "        csd_chans=hpc_chans.tolist(),\n",
    "        detection_chans=sr_chans,\n",
    "        electrode_positions=k.ele_pos.tolist(),\n",
    "        intersite_distance=intersite_distance,\n",
    "        gdx=k.gdx,\n",
    "        lambd=k.lambd,\n",
    "        R=k.R,\n",
    "        detect_states=[\"all\"],\n",
    "        detection_threshold_zscore=detection_threshold_zscore,\n",
    "        boundary_threshold_zscore=boundary_threshold_zscore,\n",
    "        detection_threshold=detection_threshold,\n",
    "        boundary_threshold=boundary_threshold,\n",
    "        minimum_duration=0.005,\n",
    "        params_source_files=[str(path) for path in bin_paths] \n",
    "    )\n",
    "    \n",
    "    params_path.parent.mkdir(parents=True, exist_ok=True)\n",
    "    with open(params_path, \"x\") as params_file:\n",
    "        json.dump(metadata, params_file, indent=4)"
   ]
  },
  {
   "cell_type": "markdown",
   "metadata": {},
   "source": [
    "## Detect SPWS, accounting for drift"
   ]
  },
  {
   "cell_type": "code",
   "execution_count": 14,
   "metadata": {
    "execution": {
     "iopub.execute_input": "2021-04-12T23:11:34.775363Z",
     "iopub.status.busy": "2021-04-12T23:11:34.774998Z",
     "iopub.status.idle": "2021-04-12T23:11:34.800251Z",
     "shell.execute_reply": "2021-04-12T23:11:34.799692Z",
     "shell.execute_reply.started": "2021-04-12T23:11:34.775321Z"
    }
   },
   "outputs": [],
   "source": [
    "def get_epoch_spws(hpc_csd, params, epoch_start, epoch_end, sr_chans):\n",
    "    if not sr_chans:\n",
    "        return pd.DataFrame()\n",
    "    \n",
    "    sr_csd = hpc_csd.sel(time=slice(epoch_start, epoch_end), channel=sr_chans)\n",
    "    \n",
    "    spws = detect_sharp_waves_by_value(\n",
    "        sr_csd.time.values,\n",
    "        sr_csd.values,\n",
    "        params[\"detection_threshold\"],\n",
    "        params[\"boundary_threshold\"],\n",
    "        params[\"minimum_duration\"],\n",
    "    )\n",
    "\n",
    "    if not spws.empty:\n",
    "        spws[\"duration\"] = get_durations(spws)\n",
    "        spws[\"midpoint\"] = get_midpoints(spws)\n",
    "        spws[\"sink_amplitude\"] = get_sink_amplitudes(spws, sr_csd.time.values, sr_csd.values) * (\n",
    "            1e-6\n",
    "        )  # Scale to mA/mm\n",
    "        spws[\"sink_integral\"] = (\n",
    "            get_sink_integrals(spws, sr_csd.time.values, sr_csd.fs, sr_csd.values) * (1e-6) * (1e3)\n",
    "        )  # Scale to mA * ms\n",
    "\n",
    "        spws[\"sr_chans\"] = [sr_chans] * len(spws)\n",
    "    \n",
    "    return spws"
   ]
  },
  {
   "cell_type": "code",
   "execution_count": 15,
   "metadata": {
    "execution": {
     "iopub.execute_input": "2021-04-12T23:11:35.288039Z",
     "iopub.status.busy": "2021-04-12T23:11:35.287647Z",
     "iopub.status.idle": "2021-04-12T23:11:35.317946Z",
     "shell.execute_reply": "2021-04-12T23:11:35.317355Z",
     "shell.execute_reply.started": "2021-04-12T23:11:35.287993Z"
    }
   },
   "outputs": [],
   "source": [
    "def get_file_spws(bin_path, sr_chans_path, spw_path, params_path, hpc_chans):\n",
    "    hpc_lfps = load_timeseries(bin_path, hpc_chans)\n",
    "\n",
    "    with open(params_path) as params_file:\n",
    "        params = json.load(params_file)\n",
    "\n",
    "    intersite_distance = params[\"intersite_distance\"]\n",
    "    k = get_kcsd(\n",
    "        hpc_lfps.values,\n",
    "        intersite_distance=params[\"intersite_distance\"],\n",
    "        gdx=params[\"gdx\"],\n",
    "        lambd=params[\"lambd\"],\n",
    "        R_init=params[\"R\"],\n",
    "        do_lcurve=False,\n",
    "    )\n",
    "    \n",
    "    hpc_csd = xr.DataArray(\n",
    "        k.values(\"CSD\"),\n",
    "        dims=(\"channel\", \"time\"),\n",
    "        coords={\"channel\": hpc_lfps.channel.values, \"time\": hpc_lfps.time.values},\n",
    "        attrs={'units': \"nA/mm\", 'fs': hpc_lfps.fs}\n",
    "    ) \n",
    "\n",
    "    spws_by_epoch = list()\n",
    "    sr_chans_df = pd.read_csv(sr_chans_path)\n",
    "    sr_chans_df.sr_chans = sr_chans_df.sr_chans.apply(lambda x: [] if pd.isnull(x) else list(literal_eval(x)))\n",
    "    for epoch in sr_chans_df.itertuples():\n",
    "        spws_by_epoch.append(get_epoch_spws(hpc_csd, params, epoch.start_time, epoch.end_time, epoch.sr_chans))\n",
    "    \n",
    "    spws = pd.concat(spws_by_epoch)\n",
    "    metadata = dict(\n",
    "        csd_chans=hpc_chans,\n",
    "        electrode_positions=k.ele_pos,\n",
    "        intersite_distance=intersite_distance,\n",
    "        gdx=k.gdx,\n",
    "        lambd=k.lambd,\n",
    "        R=k.R,\n",
    "        detect_states=[\"all\"],\n",
    "        file_start=hpc_lfps.fileCreateTime,\n",
    "    )\n",
    "    metadata.update(spws.attrs)\n",
    "\n",
    "    store_df_h5(spw_path, spws, **metadata)"
   ]
  },
  {
   "cell_type": "code",
   "execution_count": 16,
   "metadata": {
    "execution": {
     "iopub.execute_input": "2021-04-12T23:11:36.232170Z",
     "iopub.status.busy": "2021-04-12T23:11:36.231823Z",
     "iopub.status.idle": "2021-04-12T23:11:36.254100Z",
     "shell.execute_reply": "2021-04-12T23:11:36.253495Z",
     "shell.execute_reply.started": "2021-04-12T23:11:36.232129Z"
    }
   },
   "outputs": [],
   "source": [
    "def get_experiment_spws(subject, experiment):\n",
    "    hpc_chans = channel_groups.hippocampus[subject]\n",
    "    \n",
    "    bin_paths = paths.get_sglx_style_datapaths(subject=subject, experiment=experiment, condition=\"all\", ext=\"lf.bin\")\n",
    "    sr_chans_paths = paths.get_sglx_style_datapaths(subject=subject, experiment=experiment, condition=\"all\", ext=\"sr_chans.csv\")\n",
    "    spw_paths = paths.get_sglx_style_datapaths(subject=subject, experiment=experiment, condition=\"all\", ext=\"spws.h5\")\n",
    "    params_path = paths.get_datapath(file=\"sharp_wave_detection_params.json\", subject=subject, experiment=experiment)\n",
    "\n",
    "    for bin_path, sr_chans_path, spw_path in zip(bin_paths, sr_chans_paths, spw_paths):\n",
    "        get_file_spws(bin_path, sr_chans_path, spw_path, params_path, hpc_chans)\n",
    "        current_time = datetime.now().strftime(\"%H:%M:%S\")\n",
    "        print(f\"{current_time}: Finished {str(bin_path)}\")"
   ]
  },
  {
   "cell_type": "markdown",
   "metadata": {},
   "source": [
    "# Run automated pipeline"
   ]
  },
  {
   "cell_type": "code",
   "execution_count": 17,
   "metadata": {
    "execution": {
     "iopub.execute_input": "2021-04-12T23:11:40.789562Z",
     "iopub.status.busy": "2021-04-12T23:11:40.789063Z",
     "iopub.status.idle": "2021-04-12T23:32:02.230826Z",
     "shell.execute_reply": "2021-04-12T23:32:02.229973Z",
     "shell.execute_reply.started": "2021-04-12T23:11:40.789509Z"
    }
   },
   "outputs": [
    {
     "name": "stdout",
     "output_type": "stream",
     "text": [
      "nChan: 385, nFileSamp: 1802362\n"
     ]
    },
    {
     "name": "stderr",
     "output_type": "stream",
     "text": [
      "/home/gfindlay/miniconda3/envs/ecephys/lib/python3.7/site-packages/ipykernel_launcher.py:10: PerformanceWarning: \n",
      "your performance may suffer as PyTables will pickle object types that it cannot\n",
      "map directly to c-types [inferred_type->mixed,key->block1_values] [items->Index(['sr_chans'], dtype='object')]\n",
      "\n",
      "  # Remove the CWD from sys.path while we load stuff.\n"
     ]
    },
    {
     "name": "stdout",
     "output_type": "stream",
     "text": [
      "18:12:25: Finished /Volumes/neuropixel_archive/Data/chronic/CNPIX4-Doppio/3-26-2020/3-26-2020_g0/3-26-2020_g0_imec0/3-26-2020_g0_t0.imec0.lf.bin\n",
      "nChan: 385, nFileSamp: 4977007\n",
      "18:14:41: Finished /Volumes/neuropixel_archive/Data/chronic/CNPIX4-Doppio/3-26-2020/3-26-2020_2_g0/3-26-2020_2_g0_imec0/3-26-2020_2_g0_t0.imec0.lf.bin\n",
      "nChan: 385, nFileSamp: 18000039\n",
      "18:28:06: Finished /Volumes/neuropixel_archive/Data/chronic/CNPIX4-Doppio/3-26-2020/3-26-2020_3_g0/3-26-2020_3_g0_imec0/3-26-2020_3_g0_t0.imec0.lf.bin\n",
      "nChan: 385, nFileSamp: 8553813\n",
      "18:32:02: Finished /Volumes/neuropixel_archive/Data/chronic/CNPIX4-Doppio/3-26-2020/3-26-2020_3_g0/3-26-2020_3_g0_imec0/3-26-2020_3_g0_t1.imec0.lf.bin\n"
     ]
    }
   ],
   "source": [
    "get_experiment_spws(subject=\"Doppio\", experiment=\"atropine\")"
   ]
  },
  {
   "cell_type": "code",
   "execution_count": null,
   "metadata": {},
   "outputs": [],
   "source": []
  }
 ],
 "metadata": {
  "kernelspec": {
   "display_name": "Python 3",
   "language": "python",
   "name": "python3"
  },
  "language_info": {
   "codemirror_mode": {
    "name": "ipython",
    "version": 3
   },
   "file_extension": ".py",
   "mimetype": "text/x-python",
   "name": "python",
   "nbconvert_exporter": "python",
   "pygments_lexer": "ipython3",
   "version": "3.7.9"
  }
 },
 "nbformat": 4,
 "nbformat_minor": 4
}
