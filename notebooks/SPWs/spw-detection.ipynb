{
 "cells": [
  {
   "cell_type": "markdown",
   "metadata": {},
   "source": [
    "- TODO: Parallelize sharp wave property computation"
   ]
  },
  {
   "cell_type": "markdown",
   "metadata": {
    "execution": {
     "iopub.execute_input": "2020-11-30T16:00:22.289233Z",
     "iopub.status.busy": "2020-11-30T16:00:22.288802Z",
     "iopub.status.idle": "2020-11-30T16:00:22.305803Z",
     "shell.execute_reply": "2020-11-30T16:00:22.305354Z",
     "shell.execute_reply.started": "2020-11-30T16:00:22.289179Z"
    }
   },
   "source": [
    "# Imports and definitions"
   ]
  },
  {
   "cell_type": "code",
   "execution_count": 1,
   "metadata": {
    "execution": {
     "iopub.execute_input": "2021-03-24T01:35:54.906412Z",
     "iopub.status.busy": "2021-03-24T01:35:54.905923Z",
     "iopub.status.idle": "2021-03-24T01:35:54.924145Z",
     "shell.execute_reply": "2021-03-24T01:35:54.923482Z",
     "shell.execute_reply.started": "2021-03-24T01:35:54.906353Z"
    }
   },
   "outputs": [],
   "source": [
    "%load_ext autoreload\n",
    "%autoreload 2"
   ]
  },
  {
   "cell_type": "code",
   "execution_count": 2,
   "metadata": {
    "execution": {
     "iopub.execute_input": "2021-03-24T01:35:55.477551Z",
     "iopub.status.busy": "2021-03-24T01:35:55.477062Z",
     "iopub.status.idle": "2021-03-24T01:35:55.650986Z",
     "shell.execute_reply": "2021-03-24T01:35:55.650225Z",
     "shell.execute_reply.started": "2021-03-24T01:35:55.477494Z"
    }
   },
   "outputs": [],
   "source": [
    "%matplotlib widget\n",
    "import matplotlib.pyplot as plt"
   ]
  },
  {
   "cell_type": "code",
   "execution_count": 3,
   "metadata": {
    "execution": {
     "iopub.execute_input": "2021-03-24T01:35:56.133371Z",
     "iopub.status.busy": "2021-03-24T01:35:56.132901Z",
     "iopub.status.idle": "2021-03-24T01:35:56.437751Z",
     "shell.execute_reply": "2021-03-24T01:35:56.437140Z",
     "shell.execute_reply.started": "2021-03-24T01:35:56.133296Z"
    }
   },
   "outputs": [],
   "source": [
    "import numpy as np\n",
    "import pandas as pd\n",
    "import xarray as xr\n",
    "import json\n",
    "from datetime import datetime\n",
    "from ast import literal_eval"
   ]
  },
  {
   "cell_type": "code",
   "execution_count": 4,
   "metadata": {
    "execution": {
     "iopub.execute_input": "2021-03-24T01:35:56.780993Z",
     "iopub.status.busy": "2021-03-24T01:35:56.780552Z",
     "iopub.status.idle": "2021-03-24T01:35:57.039510Z",
     "shell.execute_reply": "2021-03-24T01:35:57.038792Z",
     "shell.execute_reply.started": "2021-03-24T01:35:56.780939Z"
    }
   },
   "outputs": [],
   "source": [
    "from ecephys_analyses.data import paths, channel_groups\n",
    "from ecephys.sglx_utils import load_timeseries, load_multifile_timeseries\n",
    "from ecephys.signal.csd import get_kcsd\n",
    "from ecephys.signal.sharp_wave_ripples import detect_sharp_waves_by_value, detect_sharp_waves_by_zscore, get_durations, get_midpoints, get_sink_amplitudes, get_sink_integrals\n",
    "from ecephys.utils import load_df_h5, store_df_h5, zscore_to_value\n",
    "import ecephys.plot as eplt"
   ]
  },
  {
   "cell_type": "markdown",
   "metadata": {
    "collapsed": "true"
   },
   "source": [
    "## Get SPW detection parameters from early recovery sleep"
   ]
  },
  {
   "cell_type": "code",
   "execution_count": 5,
   "metadata": {
    "execution": {
     "iopub.execute_input": "2021-02-09T23:37:58.478363Z",
     "iopub.status.busy": "2021-02-09T23:37:58.478203Z",
     "iopub.status.idle": "2021-02-09T23:37:58.509648Z",
     "shell.execute_reply": "2021-02-09T23:37:58.508876Z",
     "shell.execute_reply.started": "2021-02-09T23:37:58.478342Z"
    }
   },
   "outputs": [],
   "source": [
    "def get_spw_detection_parameters(subject, detection_threshold_zscore=2.5, boundary_threshold_zscore=1):\n",
    "    sr_chans = channel_groups.stratum_radiatum_140um_to_200um[subject]\n",
    "    hpc_chans = channel_groups.hippocampus[subject]\n",
    "    \n",
    "    bin_paths = paths.get_sglx_style_datapaths(subject=subject, condition=\"recovery-sleep-2h\", ext=\"lf.bin\")\n",
    "    params_path = paths.get_datapath(subject=subject, condition=\"sleep-homeostasis\", file=\"sharp_wave_detection_params.json\")\n",
    "    \n",
    "    if len(bin_paths) > 1:\n",
    "        (time, hpc_lfps, fs) = load_multifile_timeseries(bin_paths, hpc_chans)\n",
    "    else:\n",
    "        (time, hpc_lfps, fs) = load_timeseries(bin_paths[0], hpc_chans)\n",
    "    \n",
    "    gdx = intersite_distance = 0.020\n",
    "    k = get_kcsd(\n",
    "        hpc_lfps, intersite_distance=intersite_distance, gdx=gdx, do_lcurve=True\n",
    "    )\n",
    "    \n",
    "    hpc_csd = k.values(\"CSD\")\n",
    "    sr_csd = hpc_csd[np.isin(hpc_chans, sr_chans)]\n",
    "    combined_csd = np.sum(-sr_csd.T, axis=1)\n",
    "\n",
    "    detection_threshold = zscore_to_value(combined_csd, detection_threshold_zscore)\n",
    "    boundary_threshold = zscore_to_value(combined_csd, boundary_threshold_zscore)\n",
    "    \n",
    "    metadata = dict(\n",
    "        csd_chans=hpc_chans.tolist(),\n",
    "        detection_chans=sr_chans,\n",
    "        electrode_positions=k.ele_pos.tolist(),\n",
    "        intersite_distance=intersite_distance,\n",
    "        gdx=k.gdx,\n",
    "        lambd=k.lambd,\n",
    "        R=k.R,\n",
    "        detect_states=[\"all\"],\n",
    "        detection_threshold_zscore=detection_threshold_zscore,\n",
    "        boundary_threshold_zscore=boundary_threshold_zscore,\n",
    "        detection_threshold=detection_threshold,\n",
    "        boundary_threshold=boundary_threshold,\n",
    "        minimum_duration=0.005,\n",
    "        params_source_files=[str(path) for path in bin_paths] \n",
    "    )\n",
    "    \n",
    "    params_path.parent.mkdir(parents=True, exist_ok=True)\n",
    "    with open(params_path, \"x\") as params_file:\n",
    "        json.dump(metadata, params_file, indent=4)"
   ]
  },
  {
   "cell_type": "markdown",
   "metadata": {},
   "source": [
    "## Detect SPWS, accounting for drift"
   ]
  },
  {
   "cell_type": "code",
   "execution_count": 5,
   "metadata": {
    "execution": {
     "iopub.execute_input": "2021-03-24T01:36:03.057541Z",
     "iopub.status.busy": "2021-03-24T01:36:03.057021Z",
     "iopub.status.idle": "2021-03-24T01:36:03.083007Z",
     "shell.execute_reply": "2021-03-24T01:36:03.082140Z",
     "shell.execute_reply.started": "2021-03-24T01:36:03.057482Z"
    }
   },
   "outputs": [],
   "source": [
    "def get_epoch_spws(hpc_csd, params, epoch_start, epoch_end, sr_chans):\n",
    "    sr_csd = hpc_csd.sel(time=slice(epoch_start, epoch_end), channel=sr_chans)\n",
    "    \n",
    "    spws = detect_sharp_waves_by_value(\n",
    "        sr_csd.time.values,\n",
    "        sr_csd.values,\n",
    "        params[\"detection_threshold\"],\n",
    "        params[\"boundary_threshold\"],\n",
    "        params[\"minimum_duration\"],\n",
    "    )\n",
    "\n",
    "    if not spws.empty:\n",
    "        spws[\"duration\"] = get_durations(spws)\n",
    "        spws[\"midpoint\"] = get_midpoints(spws)\n",
    "        spws[\"sink_amplitude\"] = get_sink_amplitudes(spws, sr_csd.time.values, sr_csd.values) * (\n",
    "            1e-6\n",
    "        )  # Scale to mA/mm\n",
    "        spws[\"sink_integral\"] = (\n",
    "            get_sink_integrals(spws, sr_csd.time.values, sr_csd.fs, sr_csd.values) * (1e-6) * (1e3)\n",
    "        )  # Scale to mA * ms\n",
    "\n",
    "        spws[\"sr_chans\"] = [sr_chans] * len(spws)\n",
    "    \n",
    "    return spws"
   ]
  },
  {
   "cell_type": "code",
   "execution_count": 6,
   "metadata": {
    "execution": {
     "iopub.execute_input": "2021-03-24T01:36:03.333656Z",
     "iopub.status.busy": "2021-03-24T01:36:03.333183Z",
     "iopub.status.idle": "2021-03-24T01:36:03.364411Z",
     "shell.execute_reply": "2021-03-24T01:36:03.363646Z",
     "shell.execute_reply.started": "2021-03-24T01:36:03.333600Z"
    }
   },
   "outputs": [],
   "source": [
    "def get_file_spws(bin_path, sr_chans_path, spw_path, params_path, hpc_chans):\n",
    "    hpc_lfps = load_timeseries(bin_path, hpc_chans)\n",
    "\n",
    "    with open(params_path) as params_file:\n",
    "        params = json.load(params_file)\n",
    "\n",
    "    intersite_distance = params[\"intersite_distance\"]\n",
    "    k = get_kcsd(\n",
    "        hpc_lfps.values,\n",
    "        intersite_distance=params[\"intersite_distance\"],\n",
    "        gdx=params[\"gdx\"],\n",
    "        lambd=params[\"lambd\"],\n",
    "        R_init=params[\"R\"],\n",
    "        do_lcurve=False,\n",
    "    )\n",
    "    \n",
    "    hpc_csd = xr.DataArray(\n",
    "        k.values(\"CSD\"),\n",
    "        dims=(\"channel\", \"time\"),\n",
    "        coords={\"channel\": hpc_lfps.channel.values, \"time\": hpc_lfps.time.values},\n",
    "        attrs={'units': \"nA/mm\", 'fs': hpc_lfps.fs}\n",
    "    ) \n",
    "\n",
    "    spws_by_epoch = list()\n",
    "    sr_chans_df = pd.read_csv(sr_chans_path, converters={\"sr_chans\": literal_eval})\n",
    "    sr_chans_df.sr_chans = sr_chans_df.sr_chans.apply(list)\n",
    "    for epoch in sr_chans_df.itertuples():\n",
    "        spws_by_epoch.append(get_epoch_spws(hpc_csd, params, epoch.start_time, epoch.end_time, epoch.sr_chans))\n",
    "    \n",
    "    spws = pd.concat(spws_by_epoch)\n",
    "    metadata = dict(\n",
    "        csd_chans=hpc_chans,\n",
    "        electrode_positions=k.ele_pos,\n",
    "        intersite_distance=intersite_distance,\n",
    "        gdx=k.gdx,\n",
    "        lambd=k.lambd,\n",
    "        R=k.R,\n",
    "        detect_states=[\"all\"],\n",
    "        file_start=hpc_lfps.fileCreateTime,\n",
    "    )\n",
    "    metadata.update(spws.attrs)\n",
    "\n",
    "    store_df_h5(spw_path, spws, **metadata)"
   ]
  },
  {
   "cell_type": "code",
   "execution_count": 12,
   "metadata": {
    "execution": {
     "iopub.execute_input": "2021-03-24T04:42:12.546353Z",
     "iopub.status.busy": "2021-03-24T04:42:12.546027Z",
     "iopub.status.idle": "2021-03-24T04:42:12.584912Z",
     "shell.execute_reply": "2021-03-24T04:42:12.583699Z",
     "shell.execute_reply.started": "2021-03-24T04:42:12.546313Z"
    }
   },
   "outputs": [],
   "source": [
    "def get_experiment_spws(subject, experiment):\n",
    "    hpc_chans = channel_groups.hippocampus[subject]\n",
    "    \n",
    "    bin_paths = paths.get_sglx_style_datapaths(subject=subject, experiment=experiment, condition=\"all\", ext=\"lf.bin\")\n",
    "    sr_chans_paths = paths.get_sglx_style_datapaths(subject=subject, experiment=experiment, condition=\"all\", ext=\"sr_chans.csv\")\n",
    "    spw_paths = paths.get_sglx_style_datapaths(subject=subject, experiment=experiment, condition=\"all\", ext=\"spws.h5\")\n",
    "    params_path = paths.get_datapath(file=\"sharp_wave_detection_params.json\", subject=subject, experiment=experiment)\n",
    "\n",
    "    for bin_path, sr_chans_path, spw_path in zip(bin_paths, sr_chans_paths, spw_paths):\n",
    "        get_file_spws(bin_path, sr_chans_path, spw_path, params_path, hpc_chans)\n",
    "        current_time = datetime.now().strftime(\"%H:%M:%S\")\n",
    "        print(f\"{current_time}: Finished {str(bin_path)}\")"
   ]
  },
  {
   "cell_type": "markdown",
   "metadata": {},
   "source": [
    "# Run automated pipeline"
   ]
  },
  {
   "cell_type": "markdown",
   "metadata": {},
   "source": [
    "### Segundo"
   ]
  },
  {
   "cell_type": "code",
   "execution_count": 16,
   "metadata": {
    "collapsed": true,
    "execution": {
     "iopub.execute_input": "2021-01-08T00:15:57.529245Z",
     "iopub.status.busy": "2021-01-08T00:15:57.528742Z",
     "iopub.status.idle": "2021-01-08T00:36:44.224106Z",
     "shell.execute_reply": "2021-01-08T00:36:44.222975Z",
     "shell.execute_reply.started": "2021-01-08T00:15:57.529187Z"
    },
    "jupyter": {
     "outputs_hidden": true
    }
   },
   "outputs": [
    {
     "name": "stdout",
     "output_type": "stream",
     "text": [
      "nChan: 385, nFileSamp: 18000001\n",
      "Performing L-curve parameter estimation...\n",
      "No lambda given, using defaults\n",
      "min lambda 1e-11\n",
      "max lambda 0.0133\n",
      "min lambda 1e-11\n",
      "max lambda 0.0133\n",
      "l-curve (all lambda):  0.23\n",
      "Best lambda and R =  0.00013089207687291224 ,  0.23\n"
     ]
    }
   ],
   "source": [
    "get_spw_detection_parameters(subject=\"Segundo\", detection_threshold_zscore=2.5, boundary_threshold_zscore=1)"
   ]
  },
  {
   "cell_type": "code",
   "execution_count": 8,
   "metadata": {
    "collapsed": true,
    "execution": {
     "iopub.execute_input": "2021-03-22T19:35:56.322834Z",
     "iopub.status.busy": "2021-03-22T19:35:56.322311Z",
     "iopub.status.idle": "2021-03-22T23:51:39.052608Z",
     "shell.execute_reply": "2021-03-22T23:51:39.051815Z",
     "shell.execute_reply.started": "2021-03-22T19:35:56.322755Z"
    },
    "jupyter": {
     "outputs_hidden": true
    }
   },
   "outputs": [
    {
     "name": "stdout",
     "output_type": "stream",
     "text": [
      "nChan: 385, nFileSamp: 18000000\n"
     ]
    },
    {
     "name": "stderr",
     "output_type": "stream",
     "text": [
      "/home/gfindlay/miniconda3/envs/ecephys/lib/python3.7/site-packages/ipykernel_launcher.py:10: PerformanceWarning: \n",
      "your performance may suffer as PyTables will pickle object types that it cannot\n",
      "map directly to c-types [inferred_type->mixed,key->block1_values] [items->Index(['sr_chans'], dtype='object')]\n",
      "\n",
      "  # Remove the CWD from sys.path while we load stuff.\n"
     ]
    },
    {
     "name": "stdout",
     "output_type": "stream",
     "text": [
      "14:51:36: Finished /Volumes/neuropixel_archive/Data/chronic/CNPIX2-Segundo/1-21-2020/1-21-2020_g0/1-21-2020_g0_imec0/1-21-2020_g0_t8.imec0.lf.bin\n",
      "nChan: 385, nFileSamp: 18000000\n",
      "15:04:08: Finished /Volumes/neuropixel_archive/Data/chronic/CNPIX2-Segundo/1-21-2020/1-21-2020_g0/1-21-2020_g0_imec0/1-21-2020_g0_t9.imec0.lf.bin\n",
      "nChan: 385, nFileSamp: 18000000\n",
      "15:17:25: Finished /Volumes/neuropixel_archive/Data/chronic/CNPIX2-Segundo/1-21-2020/1-21-2020_g0/1-21-2020_g0_imec0/1-21-2020_g0_t10.imec0.lf.bin\n",
      "nChan: 385, nFileSamp: 18000000\n",
      "15:28:50: Finished /Volumes/neuropixel_archive/Data/chronic/CNPIX2-Segundo/1-21-2020/1-21-2020_g0/1-21-2020_g0_imec0/1-21-2020_g0_t11.imec0.lf.bin\n",
      "nChan: 385, nFileSamp: 18000000\n",
      "15:35:35: Finished /Volumes/neuropixel_archive/Data/chronic/CNPIX2-Segundo/1-21-2020/1-21-2020_g0/1-21-2020_g0_imec0/1-21-2020_g0_t12.imec0.lf.bin\n",
      "nChan: 385, nFileSamp: 18000000\n",
      "15:48:19: Finished /Volumes/neuropixel_archive/Data/chronic/CNPIX2-Segundo/1-21-2020/1-21-2020_g0/1-21-2020_g0_imec0/1-21-2020_g0_t13.imec0.lf.bin\n",
      "nChan: 385, nFileSamp: 18000000\n",
      "15:56:17: Finished /Volumes/neuropixel_archive/Data/chronic/CNPIX2-Segundo/1-21-2020/1-21-2020_g0/1-21-2020_g0_imec0/1-21-2020_g0_t14.imec0.lf.bin\n",
      "nChan: 385, nFileSamp: 18000000\n",
      "16:05:06: Finished /Volumes/neuropixel_archive/Data/chronic/CNPIX2-Segundo/1-21-2020/1-21-2020_g0/1-21-2020_g0_imec0/1-21-2020_g0_t15.imec0.lf.bin\n",
      "nChan: 385, nFileSamp: 18000000\n",
      "16:13:57: Finished /Volumes/neuropixel_archive/Data/chronic/CNPIX2-Segundo/1-21-2020/1-21-2020_g0/1-21-2020_g0_imec0/1-21-2020_g0_t16.imec0.lf.bin\n",
      "nChan: 385, nFileSamp: 18000000\n",
      "16:22:37: Finished /Volumes/neuropixel_archive/Data/chronic/CNPIX2-Segundo/1-21-2020/1-21-2020_g0/1-21-2020_g0_imec0/1-21-2020_g0_t17.imec0.lf.bin\n",
      "nChan: 385, nFileSamp: 18000000\n",
      "16:32:30: Finished /Volumes/neuropixel_archive/Data/chronic/CNPIX2-Segundo/1-21-2020/1-21-2020_g0/1-21-2020_g0_imec0/1-21-2020_g0_t18.imec0.lf.bin\n",
      "nChan: 385, nFileSamp: 18000001\n",
      "16:38:21: Finished /Volumes/neuropixel_archive/Data/chronic/CNPIX2-Segundo/1-21-2020/1-21-2020_g0/1-21-2020_g0_imec0/1-21-2020_g0_t19.imec0.lf.bin\n",
      "nChan: 385, nFileSamp: 18000001\n",
      "16:43:38: Finished /Volumes/neuropixel_archive/Data/chronic/CNPIX2-Segundo/1-21-2020/1-21-2020_g0/1-21-2020_g0_imec0/1-21-2020_g0_t20.imec0.lf.bin\n",
      "nChan: 385, nFileSamp: 18000001\n",
      "16:54:35: Finished /Volumes/neuropixel_archive/Data/chronic/CNPIX2-Segundo/1-21-2020/1-21-2020_g0/1-21-2020_g0_imec0/1-21-2020_g0_t21.imec0.lf.bin\n",
      "nChan: 385, nFileSamp: 18000001\n",
      "17:06:56: Finished /Volumes/neuropixel_archive/Data/chronic/CNPIX2-Segundo/1-21-2020/1-21-2020_g0/1-21-2020_g0_imec0/1-21-2020_g0_t22.imec0.lf.bin\n",
      "nChan: 385, nFileSamp: 18000001\n",
      "17:24:00: Finished /Volumes/neuropixel_archive/Data/chronic/CNPIX2-Segundo/1-21-2020/1-21-2020_g0/1-21-2020_g0_imec0/1-21-2020_g0_t23.imec0.lf.bin\n",
      "nChan: 385, nFileSamp: 18000001\n",
      "17:35:55: Finished /Volumes/neuropixel_archive/Data/chronic/CNPIX2-Segundo/1-21-2020/1-21-2020_g0/1-21-2020_g0_imec0/1-21-2020_g0_t24.imec0.lf.bin\n",
      "nChan: 385, nFileSamp: 18000001\n",
      "17:46:37: Finished /Volumes/neuropixel_archive/Data/chronic/CNPIX2-Segundo/1-21-2020/1-21-2020_g0/1-21-2020_g0_imec0/1-21-2020_g0_t25.imec0.lf.bin\n",
      "nChan: 385, nFileSamp: 18000001\n",
      "17:59:28: Finished /Volumes/neuropixel_archive/Data/chronic/CNPIX2-Segundo/1-21-2020/1-21-2020_g0/1-21-2020_g0_imec0/1-21-2020_g0_t26.imec0.lf.bin\n",
      "nChan: 385, nFileSamp: 18000001\n",
      "18:09:48: Finished /Volumes/neuropixel_archive/Data/chronic/CNPIX2-Segundo/1-21-2020/1-21-2020_g0/1-21-2020_g0_imec0/1-21-2020_g0_t27.imec0.lf.bin\n",
      "nChan: 385, nFileSamp: 18000001\n",
      "18:21:51: Finished /Volumes/neuropixel_archive/Data/chronic/CNPIX2-Segundo/1-21-2020/1-21-2020_g0/1-21-2020_g0_imec0/1-21-2020_g0_t28.imec0.lf.bin\n",
      "nChan: 385, nFileSamp: 18000001\n",
      "18:31:53: Finished /Volumes/neuropixel_archive/Data/chronic/CNPIX2-Segundo/1-21-2020/1-21-2020_g0/1-21-2020_g0_imec0/1-21-2020_g0_t29.imec0.lf.bin\n",
      "nChan: 385, nFileSamp: 18000001\n",
      "18:43:06: Finished /Volumes/neuropixel_archive/Data/chronic/CNPIX2-Segundo/1-21-2020/1-21-2020_g0/1-21-2020_g0_imec0/1-21-2020_g0_t30.imec0.lf.bin\n",
      "nChan: 385, nFileSamp: 18000001\n",
      "18:51:39: Finished /Volumes/neuropixel_archive/Data/chronic/CNPIX2-Segundo/1-21-2020/1-21-2020_g0/1-21-2020_g0_imec0/1-21-2020_g0_t31.imec0.lf.bin\n"
     ]
    }
   ],
   "source": [
    "get_condition_spws(subject=\"Segundo\", condition=\"all\")"
   ]
  },
  {
   "cell_type": "markdown",
   "metadata": {},
   "source": [
    "### Valentino"
   ]
  },
  {
   "cell_type": "code",
   "execution_count": 19,
   "metadata": {
    "collapsed": true,
    "execution": {
     "iopub.execute_input": "2021-01-08T00:55:33.814777Z",
     "iopub.status.busy": "2021-01-08T00:55:33.814655Z",
     "iopub.status.idle": "2021-01-08T01:23:44.591780Z",
     "shell.execute_reply": "2021-01-08T01:23:44.590919Z",
     "shell.execute_reply.started": "2021-01-08T00:55:33.814762Z"
    },
    "jupyter": {
     "outputs_hidden": true
    }
   },
   "outputs": [
    {
     "name": "stdout",
     "output_type": "stream",
     "text": [
      "nChan: 385, nFileSamp: 18000000\n",
      "Performing L-curve parameter estimation...\n",
      "No lambda given, using defaults\n",
      "min lambda 1e-12\n",
      "max lambda 0.0119\n",
      "min lambda 1e-12\n",
      "max lambda 0.0119\n",
      "l-curve (all lambda):  0.23\n",
      "Best lambda and R =  0.00105886675336374 ,  0.23\n"
     ]
    }
   ],
   "source": [
    "get_spw_detection_parameters(subject=\"Valentino\", detection_threshold_zscore=2.5, boundary_threshold_zscore=1)"
   ]
  },
  {
   "cell_type": "code",
   "execution_count": 35,
   "metadata": {
    "collapsed": true,
    "execution": {
     "iopub.execute_input": "2021-03-20T00:08:06.188581Z",
     "iopub.status.busy": "2021-03-20T00:08:06.188297Z",
     "iopub.status.idle": "2021-03-20T02:44:45.749908Z",
     "shell.execute_reply": "2021-03-20T02:44:45.749250Z",
     "shell.execute_reply.started": "2021-03-20T00:08:06.188557Z"
    },
    "jupyter": {
     "outputs_hidden": true
    }
   },
   "outputs": [
    {
     "name": "stdout",
     "output_type": "stream",
     "text": [
      "nChan: 385, nFileSamp: 18000000\n"
     ]
    },
    {
     "name": "stderr",
     "output_type": "stream",
     "text": [
      "/home/gfindlay/miniconda3/envs/ecephys/lib/python3.7/site-packages/ipykernel_launcher.py:10: PerformanceWarning: \n",
      "your performance may suffer as PyTables will pickle object types that it cannot\n",
      "map directly to c-types [inferred_type->mixed,key->block1_values] [items->Index(['sr_chans'], dtype='object')]\n",
      "\n",
      "  # Remove the CWD from sys.path while we load stuff.\n"
     ]
    },
    {
     "name": "stdout",
     "output_type": "stream",
     "text": [
      "19:14:40: Finished /Volumes/neuropixel_archive/Data/chronic/CNPIX3-Valentino/2-19-2020/2-19-2020_g1/2-19-2020_g1_imec0/2-19-2020_g1_t0.imec0.lf.bin\n",
      "nChan: 385, nFileSamp: 18000000\n",
      "19:18:55: Finished /Volumes/neuropixel_archive/Data/chronic/CNPIX3-Valentino/2-19-2020/2-19-2020_g1/2-19-2020_g1_imec0/2-19-2020_g1_t1.imec0.lf.bin\n",
      "nChan: 385, nFileSamp: 18000000\n",
      "19:25:07: Finished /Volumes/neuropixel_archive/Data/chronic/CNPIX3-Valentino/2-19-2020/2-19-2020_g1/2-19-2020_g1_imec0/2-19-2020_g1_t2.imec0.lf.bin\n",
      "nChan: 385, nFileSamp: 18000000\n",
      "19:31:21: Finished /Volumes/neuropixel_archive/Data/chronic/CNPIX3-Valentino/2-19-2020/2-19-2020_g1/2-19-2020_g1_imec0/2-19-2020_g1_t3.imec0.lf.bin\n",
      "nChan: 385, nFileSamp: 18000000\n",
      "19:36:24: Finished /Volumes/neuropixel_archive/Data/chronic/CNPIX3-Valentino/2-19-2020/2-19-2020_g1/2-19-2020_g1_imec0/2-19-2020_g1_t4.imec0.lf.bin\n",
      "nChan: 385, nFileSamp: 18000000\n",
      "19:43:01: Finished /Volumes/neuropixel_archive/Data/chronic/CNPIX3-Valentino/2-19-2020/2-19-2020_g1/2-19-2020_g1_imec0/2-19-2020_g1_t5.imec0.lf.bin\n",
      "nChan: 385, nFileSamp: 18000000\n",
      "19:52:18: Finished /Volumes/neuropixel_archive/Data/chronic/CNPIX3-Valentino/2-19-2020/2-19-2020_g1/2-19-2020_g1_imec0/2-19-2020_g1_t6.imec0.lf.bin\n",
      "nChan: 385, nFileSamp: 18000000\n",
      "19:57:21: Finished /Volumes/neuropixel_archive/Data/chronic/CNPIX3-Valentino/2-19-2020/2-19-2020_g1/2-19-2020_g1_imec0/2-19-2020_g1_t7.imec0.lf.bin\n",
      "nChan: 385, nFileSamp: 18000000\n",
      "20:03:26: Finished /Volumes/neuropixel_archive/Data/chronic/CNPIX3-Valentino/2-19-2020/2-19-2020_g1/2-19-2020_g1_imec0/2-19-2020_g1_t8.imec0.lf.bin\n",
      "nChan: 385, nFileSamp: 18000000\n",
      "20:08:02: Finished /Volumes/neuropixel_archive/Data/chronic/CNPIX3-Valentino/2-19-2020/2-19-2020_g1/2-19-2020_g1_imec0/2-19-2020_g1_t9.imec0.lf.bin\n",
      "nChan: 385, nFileSamp: 18000000\n",
      "20:14:23: Finished /Volumes/neuropixel_archive/Data/chronic/CNPIX3-Valentino/2-19-2020/2-19-2020_g1/2-19-2020_g1_imec0/2-19-2020_g1_t10.imec0.lf.bin\n",
      "nChan: 385, nFileSamp: 18000000\n",
      "20:20:40: Finished /Volumes/neuropixel_archive/Data/chronic/CNPIX3-Valentino/2-19-2020/2-19-2020_g1/2-19-2020_g1_imec0/2-19-2020_g1_t11.imec0.lf.bin\n",
      "nChan: 385, nFileSamp: 18000000\n",
      "20:26:24: Finished /Volumes/neuropixel_archive/Data/chronic/CNPIX3-Valentino/2-19-2020/2-20-2020_g0/2-20-2020_g0_imec0/2-20-2020_g0_t0.imec0.lf.bin\n",
      "nChan: 385, nFileSamp: 18000000\n",
      "20:31:38: Finished /Volumes/neuropixel_archive/Data/chronic/CNPIX3-Valentino/2-19-2020/2-20-2020_g0/2-20-2020_g0_imec0/2-20-2020_g0_t1.imec0.lf.bin\n",
      "nChan: 385, nFileSamp: 18000000\n",
      "20:41:00: Finished /Volumes/neuropixel_archive/Data/chronic/CNPIX3-Valentino/2-19-2020/2-20-2020_g0/2-20-2020_g0_imec0/2-20-2020_g0_t2.imec0.lf.bin\n",
      "nChan: 385, nFileSamp: 18000000\n",
      "20:47:42: Finished /Volumes/neuropixel_archive/Data/chronic/CNPIX3-Valentino/2-19-2020/2-20-2020_g0/2-20-2020_g0_imec0/2-20-2020_g0_t3.imec0.lf.bin\n",
      "nChan: 385, nFileSamp: 18000000\n",
      "20:55:21: Finished /Volumes/neuropixel_archive/Data/chronic/CNPIX3-Valentino/2-19-2020/2-20-2020_g0/2-20-2020_g0_imec0/2-20-2020_g0_t4.imec0.lf.bin\n",
      "nChan: 385, nFileSamp: 18000000\n",
      "21:02:15: Finished /Volumes/neuropixel_archive/Data/chronic/CNPIX3-Valentino/2-19-2020/2-20-2020_g0/2-20-2020_g0_imec0/2-20-2020_g0_t5.imec0.lf.bin\n",
      "nChan: 385, nFileSamp: 18000000\n",
      "21:09:19: Finished /Volumes/neuropixel_archive/Data/chronic/CNPIX3-Valentino/2-19-2020/2-20-2020_g0/2-20-2020_g0_imec0/2-20-2020_g0_t6.imec0.lf.bin\n",
      "nChan: 385, nFileSamp: 18000000\n",
      "21:14:24: Finished /Volumes/neuropixel_archive/Data/chronic/CNPIX3-Valentino/2-19-2020/2-20-2020_g0/2-20-2020_g0_imec0/2-20-2020_g0_t7.imec0.lf.bin\n",
      "nChan: 385, nFileSamp: 18000000\n",
      "21:21:57: Finished /Volumes/neuropixel_archive/Data/chronic/CNPIX3-Valentino/2-19-2020/2-20-2020_g0/2-20-2020_g0_imec0/2-20-2020_g0_t8.imec0.lf.bin\n",
      "nChan: 385, nFileSamp: 18000000\n",
      "21:28:48: Finished /Volumes/neuropixel_archive/Data/chronic/CNPIX3-Valentino/2-19-2020/2-20-2020_g0/2-20-2020_g0_imec0/2-20-2020_g0_t9.imec0.lf.bin\n",
      "nChan: 385, nFileSamp: 18000000\n",
      "21:39:08: Finished /Volumes/neuropixel_archive/Data/chronic/CNPIX3-Valentino/2-19-2020/2-20-2020_g0/2-20-2020_g0_imec0/2-20-2020_g0_t10.imec0.lf.bin\n",
      "nChan: 385, nFileSamp: 18000000\n",
      "21:44:45: Finished /Volumes/neuropixel_archive/Data/chronic/CNPIX3-Valentino/2-19-2020/2-20-2020_g0/2-20-2020_g0_imec0/2-20-2020_g0_t11.imec0.lf.bin\n"
     ]
    }
   ],
   "source": [
    "get_condition_spws(subject=\"Valentino\", condition=\"all\")"
   ]
  },
  {
   "cell_type": "markdown",
   "metadata": {},
   "source": [
    "### Doppio"
   ]
  },
  {
   "cell_type": "code",
   "execution_count": null,
   "metadata": {},
   "outputs": [],
   "source": [
    "get_spw_detection_parameters(subject=\"Doppio\", detection_threshold_zscore=2.5, boundary_threshold_zscore=1)"
   ]
  },
  {
   "cell_type": "code",
   "execution_count": 11,
   "metadata": {
    "execution": {
     "iopub.execute_input": "2021-03-24T01:37:56.199208Z",
     "iopub.status.busy": "2021-03-24T01:37:56.198723Z",
     "iopub.status.idle": "2021-03-24T04:42:12.498786Z",
     "shell.execute_reply": "2021-03-24T04:42:12.497556Z",
     "shell.execute_reply.started": "2021-03-24T01:37:56.199149Z"
    }
   },
   "outputs": [
    {
     "name": "stdout",
     "output_type": "stream",
     "text": [
      "nChan: 385, nFileSamp: 18000019\n"
     ]
    },
    {
     "name": "stderr",
     "output_type": "stream",
     "text": [
      "/home/gfindlay/miniconda3/envs/ecephys/lib/python3.7/site-packages/ipykernel_launcher.py:10: PerformanceWarning: \n",
      "your performance may suffer as PyTables will pickle object types that it cannot\n",
      "map directly to c-types [inferred_type->mixed,key->block1_values] [items->Index(['sr_chans'], dtype='object')]\n",
      "\n",
      "  # Remove the CWD from sys.path while we load stuff.\n"
     ]
    },
    {
     "name": "stdout",
     "output_type": "stream",
     "text": [
      "20:44:09: Finished /Volumes/neuropixel_archive/Data/chronic/CNPIX4-Doppio/3-17-2020/3-17-2020_g0/3-17-2020_g0_imec0/3-17-2020_g0_t0.imec0.lf.bin\n",
      "nChan: 385, nFileSamp: 18000019\n",
      "20:55:08: Finished /Volumes/neuropixel_archive/Data/chronic/CNPIX4-Doppio/3-17-2020/3-17-2020_g0/3-17-2020_g0_imec0/3-17-2020_g0_t1.imec0.lf.bin\n",
      "nChan: 385, nFileSamp: 18000019\n",
      "21:00:14: Finished /Volumes/neuropixel_archive/Data/chronic/CNPIX4-Doppio/3-17-2020/3-17-2020_g0/3-17-2020_g0_imec0/3-17-2020_g0_t2.imec0.lf.bin\n",
      "nChan: 385, nFileSamp: 18000019\n",
      "21:11:48: Finished /Volumes/neuropixel_archive/Data/chronic/CNPIX4-Doppio/3-17-2020/3-17-2020_g0/3-17-2020_g0_imec0/3-17-2020_g0_t3.imec0.lf.bin\n",
      "nChan: 385, nFileSamp: 18000019\n",
      "21:21:27: Finished /Volumes/neuropixel_archive/Data/chronic/CNPIX4-Doppio/3-17-2020/3-17-2020_g0/3-17-2020_g0_imec0/3-17-2020_g0_t4.imec0.lf.bin\n",
      "nChan: 385, nFileSamp: 18000019\n",
      "21:29:50: Finished /Volumes/neuropixel_archive/Data/chronic/CNPIX4-Doppio/3-17-2020/3-17-2020_g0/3-17-2020_g0_imec0/3-17-2020_g0_t5.imec0.lf.bin\n",
      "nChan: 385, nFileSamp: 18000019\n",
      "21:34:11: Finished /Volumes/neuropixel_archive/Data/chronic/CNPIX4-Doppio/3-17-2020/3-17-2020_g0/3-17-2020_g0_imec0/3-17-2020_g0_t6.imec0.lf.bin\n",
      "nChan: 385, nFileSamp: 18000019\n",
      "21:42:05: Finished /Volumes/neuropixel_archive/Data/chronic/CNPIX4-Doppio/3-17-2020/3-17-2020_g0/3-17-2020_g0_imec0/3-17-2020_g0_t7.imec0.lf.bin\n",
      "nChan: 385, nFileSamp: 18000019\n",
      "21:46:36: Finished /Volumes/neuropixel_archive/Data/chronic/CNPIX4-Doppio/3-17-2020/3-17-2020_g0/3-17-2020_g0_imec0/3-17-2020_g0_t8.imec0.lf.bin\n",
      "nChan: 385, nFileSamp: 18000019\n",
      "21:49:59: Finished /Volumes/neuropixel_archive/Data/chronic/CNPIX4-Doppio/3-17-2020/3-17-2020_g0/3-17-2020_g0_imec0/3-17-2020_g0_t9.imec0.lf.bin\n",
      "nChan: 385, nFileSamp: 18000019\n",
      "21:53:21: Finished /Volumes/neuropixel_archive/Data/chronic/CNPIX4-Doppio/3-17-2020/3-17-2020_g0/3-17-2020_g0_imec0/3-17-2020_g0_t10.imec0.lf.bin\n",
      "nChan: 385, nFileSamp: 17715805\n",
      "21:59:13: Finished /Volumes/neuropixel_archive/Data/chronic/CNPIX4-Doppio/3-17-2020/3-17-2020_g0/3-17-2020_g0_imec0/3-17-2020_g0_t11.imec0.lf.bin\n",
      "nChan: 385, nFileSamp: 18000019\n",
      "22:05:06: Finished /Volumes/neuropixel_archive/Data/chronic/CNPIX4-Doppio/3-17-2020/3-18-2020_g0/3-18-2020_g0_imec0/3-18-2020_g0_t0.imec0.lf.bin\n",
      "nChan: 385, nFileSamp: 18000019\n",
      "22:16:42: Finished /Volumes/neuropixel_archive/Data/chronic/CNPIX4-Doppio/3-17-2020/3-18-2020_g0/3-18-2020_g0_imec0/3-18-2020_g0_t1.imec0.lf.bin\n",
      "nChan: 385, nFileSamp: 18000019\n",
      "22:28:42: Finished /Volumes/neuropixel_archive/Data/chronic/CNPIX4-Doppio/3-17-2020/3-18-2020_g0/3-18-2020_g0_imec0/3-18-2020_g0_t2.imec0.lf.bin\n",
      "nChan: 385, nFileSamp: 18000019\n",
      "22:41:46: Finished /Volumes/neuropixel_archive/Data/chronic/CNPIX4-Doppio/3-17-2020/3-18-2020_g0/3-18-2020_g0_imec0/3-18-2020_g0_t3.imec0.lf.bin\n",
      "nChan: 385, nFileSamp: 18000019\n",
      "22:57:25: Finished /Volumes/neuropixel_archive/Data/chronic/CNPIX4-Doppio/3-17-2020/3-18-2020_g0/3-18-2020_g0_imec0/3-18-2020_g0_t4.imec0.lf.bin\n",
      "nChan: 385, nFileSamp: 18000019\n",
      "23:06:43: Finished /Volumes/neuropixel_archive/Data/chronic/CNPIX4-Doppio/3-17-2020/3-18-2020_g0/3-18-2020_g0_imec0/3-18-2020_g0_t5.imec0.lf.bin\n",
      "nChan: 385, nFileSamp: 18000019\n",
      "23:17:58: Finished /Volumes/neuropixel_archive/Data/chronic/CNPIX4-Doppio/3-17-2020/3-18-2020_g0/3-18-2020_g0_imec0/3-18-2020_g0_t6.imec0.lf.bin\n",
      "nChan: 385, nFileSamp: 18000019\n",
      "23:26:08: Finished /Volumes/neuropixel_archive/Data/chronic/CNPIX4-Doppio/3-17-2020/3-18-2020_g0/3-18-2020_g0_imec0/3-18-2020_g0_t7.imec0.lf.bin\n",
      "nChan: 385, nFileSamp: 18000019\n",
      "23:36:48: Finished /Volumes/neuropixel_archive/Data/chronic/CNPIX4-Doppio/3-17-2020/3-18-2020_g0/3-18-2020_g0_imec0/3-18-2020_g0_t8.imec0.lf.bin\n",
      "nChan: 385, nFileSamp: 10392376\n",
      "23:42:12: Finished /Volumes/neuropixel_archive/Data/chronic/CNPIX4-Doppio/3-17-2020/3-18-2020_g0/3-18-2020_g0_imec0/3-18-2020_g0_t9.imec0.lf.bin\n"
     ]
    }
   ],
   "source": [
    "get_experiment_spws(subject=\"Doppio\", experiment=\"sleep-homeostasis\")"
   ]
  },
  {
   "cell_type": "markdown",
   "metadata": {},
   "source": [
    "### Alessandro"
   ]
  },
  {
   "cell_type": "code",
   "execution_count": 18,
   "metadata": {
    "collapsed": true,
    "execution": {
     "iopub.execute_input": "2021-01-11T21:58:48.819726Z",
     "iopub.status.busy": "2021-01-11T21:58:48.819236Z",
     "iopub.status.idle": "2021-01-11T22:10:50.685546Z",
     "shell.execute_reply": "2021-01-11T22:10:50.684512Z",
     "shell.execute_reply.started": "2021-01-11T21:58:48.819665Z"
    },
    "jupyter": {
     "outputs_hidden": true
    }
   },
   "outputs": [
    {
     "name": "stdout",
     "output_type": "stream",
     "text": [
      "nChan: 385, nFileSamp: 9000052\n",
      "nChan: 385, nFileSamp: 9000052\n",
      "You are loading multifile SGLX data without xarray.\n",
      " Are you sure you want to do this? Please see documentation.\n",
      "Performing L-curve parameter estimation...\n",
      "No lambda given, using defaults\n",
      "min lambda 1e-12\n",
      "max lambda 0.0126\n",
      "min lambda 1e-12\n",
      "max lambda 0.0126\n",
      "l-curve (all lambda):  0.23\n",
      "Best lambda and R =  3.711471263028718e-05 ,  0.23\n"
     ]
    }
   ],
   "source": [
    "get_spw_detection_parameters(subject=\"Alessandro\", detection_threshold_zscore=2.5, boundary_threshold_zscore=1)"
   ]
  },
  {
   "cell_type": "code",
   "execution_count": 8,
   "metadata": {
    "collapsed": true,
    "execution": {
     "iopub.execute_input": "2021-03-23T01:07:56.022916Z",
     "iopub.status.busy": "2021-03-23T01:07:56.022381Z",
     "iopub.status.idle": "2021-03-23T02:48:49.952569Z",
     "shell.execute_reply": "2021-03-23T02:48:49.951652Z",
     "shell.execute_reply.started": "2021-03-23T01:07:56.022853Z"
    },
    "jupyter": {
     "outputs_hidden": true
    }
   },
   "outputs": [
    {
     "name": "stdout",
     "output_type": "stream",
     "text": [
      "nChan: 385, nFileSamp: 9000051\n"
     ]
    },
    {
     "name": "stderr",
     "output_type": "stream",
     "text": [
      "/home/gfindlay/miniconda3/envs/ecephys/lib/python3.7/site-packages/ipykernel_launcher.py:10: PerformanceWarning: \n",
      "your performance may suffer as PyTables will pickle object types that it cannot\n",
      "map directly to c-types [inferred_type->mixed,key->block1_values] [items->Index(['sr_chans'], dtype='object')]\n",
      "\n",
      "  # Remove the CWD from sys.path while we load stuff.\n"
     ]
    },
    {
     "name": "stdout",
     "output_type": "stream",
     "text": [
      "20:12:07: Finished /Volumes/neuropixel_archive/Data/chronic/CNPIX5-Alessandro/8-24-2020/8-24-2020_g0/8-24-2020_g0_imec0/8-24-2020_g0_t0.imec0.lf.bin\n",
      "nChan: 385, nFileSamp: 9000052\n",
      "20:16:50: Finished /Volumes/neuropixel_archive/Data/chronic/CNPIX5-Alessandro/8-24-2020/8-24-2020_g0/8-24-2020_g0_imec0/8-24-2020_g0_t1.imec0.lf.bin\n",
      "nChan: 385, nFileSamp: 9000052\n",
      "20:19:09: Finished /Volumes/neuropixel_archive/Data/chronic/CNPIX5-Alessandro/8-24-2020/8-24-2020_g0/8-24-2020_g0_imec0/8-24-2020_g0_t2.imec0.lf.bin\n",
      "nChan: 385, nFileSamp: 9000052\n",
      "20:22:42: Finished /Volumes/neuropixel_archive/Data/chronic/CNPIX5-Alessandro/8-24-2020/8-24-2020_g0/8-24-2020_g0_imec0/8-24-2020_g0_t3.imec0.lf.bin\n",
      "nChan: 385, nFileSamp: 9000051\n",
      "20:25:49: Finished /Volumes/neuropixel_archive/Data/chronic/CNPIX5-Alessandro/8-24-2020/8-24-2020_g0/8-24-2020_g0_imec0/8-24-2020_g0_t4.imec0.lf.bin\n",
      "nChan: 385, nFileSamp: 9000051\n",
      "20:28:08: Finished /Volumes/neuropixel_archive/Data/chronic/CNPIX5-Alessandro/8-24-2020/8-24-2020_g0/8-24-2020_g0_imec0/8-24-2020_g0_t5.imec0.lf.bin\n",
      "nChan: 385, nFileSamp: 9000052\n",
      "20:31:15: Finished /Volumes/neuropixel_archive/Data/chronic/CNPIX5-Alessandro/8-24-2020/8-24-2020_g0/8-24-2020_g0_imec0/8-24-2020_g0_t6.imec0.lf.bin\n",
      "nChan: 385, nFileSamp: 9000052\n",
      "20:34:57: Finished /Volumes/neuropixel_archive/Data/chronic/CNPIX5-Alessandro/8-24-2020/8-24-2020_g0/8-24-2020_g0_imec0/8-24-2020_g0_t7.imec0.lf.bin\n",
      "nChan: 385, nFileSamp: 9000052\n",
      "20:38:02: Finished /Volumes/neuropixel_archive/Data/chronic/CNPIX5-Alessandro/8-24-2020/8-24-2020_g0/8-24-2020_g0_imec0/8-24-2020_g0_t8.imec0.lf.bin\n",
      "nChan: 385, nFileSamp: 9000052\n",
      "20:40:05: Finished /Volumes/neuropixel_archive/Data/chronic/CNPIX5-Alessandro/8-24-2020/8-24-2020_g0/8-24-2020_g0_imec0/8-24-2020_g0_t9.imec0.lf.bin\n",
      "nChan: 385, nFileSamp: 9000051\n",
      "20:42:47: Finished /Volumes/neuropixel_archive/Data/chronic/CNPIX5-Alessandro/8-24-2020/8-24-2020_g0/8-24-2020_g0_imec0/8-24-2020_g0_t10.imec0.lf.bin\n",
      "nChan: 385, nFileSamp: 9000052\n",
      "20:46:04: Finished /Volumes/neuropixel_archive/Data/chronic/CNPIX5-Alessandro/8-24-2020/8-24-2020_g0/8-24-2020_g0_imec0/8-24-2020_g0_t11.imec0.lf.bin\n",
      "nChan: 385, nFileSamp: 9000052\n",
      "20:48:50: Finished /Volumes/neuropixel_archive/Data/chronic/CNPIX5-Alessandro/8-24-2020/8-24-2020_g0/8-24-2020_g0_imec0/8-24-2020_g0_t12.imec0.lf.bin\n",
      "nChan: 385, nFileSamp: 9000052\n",
      "20:51:38: Finished /Volumes/neuropixel_archive/Data/chronic/CNPIX5-Alessandro/8-24-2020/8-24-2020_g0/8-24-2020_g0_imec0/8-24-2020_g0_t13.imec0.lf.bin\n",
      "nChan: 385, nFileSamp: 9000052\n",
      "20:54:46: Finished /Volumes/neuropixel_archive/Data/chronic/CNPIX5-Alessandro/8-24-2020/8-24-2020_g0/8-24-2020_g0_imec0/8-24-2020_g0_t14.imec0.lf.bin\n",
      "nChan: 385, nFileSamp: 9000051\n",
      "20:57:20: Finished /Volumes/neuropixel_archive/Data/chronic/CNPIX5-Alessandro/8-24-2020/8-24-2020_g0/8-24-2020_g0_imec0/8-24-2020_g0_t15.imec0.lf.bin\n",
      "nChan: 385, nFileSamp: 7422289\n",
      "20:59:40: Finished /Volumes/neuropixel_archive/Data/chronic/CNPIX5-Alessandro/8-24-2020/8-24-2020_g0/8-24-2020_g0_imec0/8-24-2020_g0_t16.imec0.lf.bin\n",
      "nChan: 385, nFileSamp: 9000051\n",
      "21:02:31: Finished /Volumes/neuropixel_archive/Data/chronic/CNPIX5-Alessandro/8-24-2020/8-25-2020_SD_g0/8-25-2020_SD_g0_imec0/8-25-2020_SD_g0_t0.imec0.lf.bin\n",
      "nChan: 385, nFileSamp: 9000052\n",
      "21:05:57: Finished /Volumes/neuropixel_archive/Data/chronic/CNPIX5-Alessandro/8-24-2020/8-25-2020_SD_g0/8-25-2020_SD_g0_imec0/8-25-2020_SD_g0_t1.imec0.lf.bin\n",
      "nChan: 385, nFileSamp: 8127109\n",
      "21:08:43: Finished /Volumes/neuropixel_archive/Data/chronic/CNPIX5-Alessandro/8-24-2020/8-25-2020_SD_g0/8-25-2020_SD_g0_imec0/8-25-2020_SD_g0_t2.imec0.lf.bin\n",
      "nChan: 385, nFileSamp: 8277840\n",
      "21:10:36: Finished /Volumes/neuropixel_archive/Data/chronic/CNPIX5-Alessandro/8-24-2020/8-25-2020_SD2_g0/8-25-2020_SD2_g0_imec0/8-25-2020_SD2_g0_t0.imec0.lf.bin\n",
      "nChan: 385, nFileSamp: 9000052\n",
      "21:13:56: Finished /Volumes/neuropixel_archive/Data/chronic/CNPIX5-Alessandro/8-24-2020/8-25-2020_g0/8-25-2020_g0_imec0/8-25-2020_g0_t0.imec0.lf.bin\n",
      "nChan: 385, nFileSamp: 9000052\n",
      "21:18:02: Finished /Volumes/neuropixel_archive/Data/chronic/CNPIX5-Alessandro/8-24-2020/8-25-2020_g0/8-25-2020_g0_imec0/8-25-2020_g0_t1.imec0.lf.bin\n",
      "nChan: 385, nFileSamp: 9000052\n",
      "21:22:30: Finished /Volumes/neuropixel_archive/Data/chronic/CNPIX5-Alessandro/8-24-2020/8-25-2020_g0/8-25-2020_g0_imec0/8-25-2020_g0_t2.imec0.lf.bin\n",
      "nChan: 385, nFileSamp: 9000052\n",
      "21:25:15: Finished /Volumes/neuropixel_archive/Data/chronic/CNPIX5-Alessandro/8-24-2020/8-25-2020_g0/8-25-2020_g0_imec0/8-25-2020_g0_t3.imec0.lf.bin\n",
      "nChan: 385, nFileSamp: 9000051\n",
      "21:29:30: Finished /Volumes/neuropixel_archive/Data/chronic/CNPIX5-Alessandro/8-24-2020/8-25-2020_g0/8-25-2020_g0_imec0/8-25-2020_g0_t4.imec0.lf.bin\n",
      "nChan: 385, nFileSamp: 9000052\n",
      "21:33:00: Finished /Volumes/neuropixel_archive/Data/chronic/CNPIX5-Alessandro/8-24-2020/8-25-2020_g0/8-25-2020_g0_imec0/8-25-2020_g0_t5.imec0.lf.bin\n",
      "nChan: 385, nFileSamp: 9000052\n",
      "21:36:05: Finished /Volumes/neuropixel_archive/Data/chronic/CNPIX5-Alessandro/8-24-2020/8-25-2020_g0/8-25-2020_g0_imec0/8-25-2020_g0_t6.imec0.lf.bin\n",
      "nChan: 385, nFileSamp: 9000052\n",
      "21:38:22: Finished /Volumes/neuropixel_archive/Data/chronic/CNPIX5-Alessandro/8-24-2020/8-25-2020_g0/8-25-2020_g0_imec0/8-25-2020_g0_t7.imec0.lf.bin\n",
      "nChan: 385, nFileSamp: 9000051\n",
      "21:40:25: Finished /Volumes/neuropixel_archive/Data/chronic/CNPIX5-Alessandro/8-24-2020/8-25-2020_g0/8-25-2020_g0_imec0/8-25-2020_g0_t8.imec0.lf.bin\n",
      "nChan: 385, nFileSamp: 9000052\n",
      "21:42:20: Finished /Volumes/neuropixel_archive/Data/chronic/CNPIX5-Alessandro/8-24-2020/8-25-2020_g0/8-25-2020_g0_imec0/8-25-2020_g0_t9.imec0.lf.bin\n",
      "nChan: 385, nFileSamp: 9000052\n",
      "21:44:50: Finished /Volumes/neuropixel_archive/Data/chronic/CNPIX5-Alessandro/8-24-2020/8-25-2020_g0/8-25-2020_g0_imec0/8-25-2020_g0_t10.imec0.lf.bin\n",
      "nChan: 385, nFileSamp: 9000052\n",
      "21:47:18: Finished /Volumes/neuropixel_archive/Data/chronic/CNPIX5-Alessandro/8-24-2020/8-25-2020_g0/8-25-2020_g0_imec0/8-25-2020_g0_t11.imec0.lf.bin\n",
      "nChan: 385, nFileSamp: 5651199\n",
      "21:48:49: Finished /Volumes/neuropixel_archive/Data/chronic/CNPIX5-Alessandro/8-24-2020/8-25-2020_g0/8-25-2020_g0_imec0/8-25-2020_g0_t12.imec0.lf.bin\n"
     ]
    }
   ],
   "source": [
    "get_condition_spws(subject=\"Alessandro\", condition=\"all\")"
   ]
  },
  {
   "cell_type": "markdown",
   "metadata": {},
   "source": [
    "### Eugene"
   ]
  },
  {
   "cell_type": "code",
   "execution_count": 34,
   "metadata": {
    "collapsed": true,
    "execution": {
     "iopub.execute_input": "2021-01-11T22:42:52.302612Z",
     "iopub.status.busy": "2021-01-11T22:42:52.302040Z",
     "iopub.status.idle": "2021-01-11T22:53:25.997541Z",
     "shell.execute_reply": "2021-01-11T22:53:25.996959Z",
     "shell.execute_reply.started": "2021-01-11T22:42:52.302545Z"
    },
    "jupyter": {
     "outputs_hidden": true
    }
   },
   "outputs": [
    {
     "name": "stdout",
     "output_type": "stream",
     "text": [
      "nChan: 385, nFileSamp: 9000026\n",
      "nChan: 385, nFileSamp: 9000026\n",
      "You are loading multifile SGLX data without xarray.\n",
      " Are you sure you want to do this? Please see documentation.\n",
      "Performing L-curve parameter estimation...\n",
      "No lambda given, using defaults\n",
      "min lambda 1e-11\n",
      "max lambda 0.0140\n",
      "min lambda 1e-11\n",
      "max lambda 0.0140\n",
      "l-curve (all lambda):  0.23\n",
      "Best lambda and R =  0.001404472887665455 ,  0.23\n"
     ]
    }
   ],
   "source": [
    "get_spw_detection_parameters(subject=\"Eugene\", detection_threshold_zscore=2.5, boundary_threshold_zscore=1)"
   ]
  },
  {
   "cell_type": "markdown",
   "metadata": {},
   "source": [
    "# Run pipeline piecemeal"
   ]
  },
  {
   "cell_type": "code",
   "execution_count": 10,
   "metadata": {
    "execution": {
     "iopub.execute_input": "2021-03-23T00:42:33.255791Z",
     "iopub.status.busy": "2021-03-23T00:42:33.255228Z",
     "iopub.status.idle": "2021-03-23T00:42:33.277199Z",
     "shell.execute_reply": "2021-03-23T00:42:33.276224Z",
     "shell.execute_reply.started": "2021-03-23T00:42:33.255730Z"
    }
   },
   "outputs": [],
   "source": [
    "subject = \"Alessandro\"\n",
    "condition = \"all\""
   ]
  },
  {
   "cell_type": "markdown",
   "metadata": {},
   "source": [
    "## Load the data"
   ]
  },
  {
   "cell_type": "code",
   "execution_count": 19,
   "metadata": {
    "execution": {
     "iopub.execute_input": "2021-03-23T00:44:59.507950Z",
     "iopub.status.busy": "2021-03-23T00:44:59.507431Z",
     "iopub.status.idle": "2021-03-23T00:44:59.622390Z",
     "shell.execute_reply": "2021-03-23T00:44:59.621552Z",
     "shell.execute_reply.started": "2021-03-23T00:44:59.507888Z"
    }
   },
   "outputs": [],
   "source": [
    "hpc_chans = channel_groups.hippocampus[subject]\n",
    "bin_paths = paths.get_sglx_style_datapaths(subject=subject, condition=condition, ext=\"lf.bin\")\n",
    "sr_chans_paths = paths.get_sglx_style_datapaths(subject=subject, condition=condition, ext=\"sr_chans.csv\")\n",
    "spw_paths = paths.get_sglx_style_datapaths(subject=subject, condition=condition, ext=\"spws.h5\")\n",
    "params_path = paths.get_datapath(subject=subject, condition=\"sleep-homeostasis\", file=\"sharp_wave_detection_params.json\")"
   ]
  },
  {
   "cell_type": "code",
   "execution_count": 21,
   "metadata": {
    "execution": {
     "iopub.execute_input": "2021-03-23T00:45:47.293420Z",
     "iopub.status.busy": "2021-03-23T00:45:47.292848Z",
     "iopub.status.idle": "2021-03-23T00:45:47.314498Z",
     "shell.execute_reply": "2021-03-23T00:45:47.313528Z",
     "shell.execute_reply.started": "2021-03-23T00:45:47.293356Z"
    }
   },
   "outputs": [],
   "source": [
    "filenum = 9\n",
    "bin_path = bin_paths[filenum]\n",
    "sr_chans_path = sr_chans_paths[filenum]\n",
    "spw_path = spw_paths[filenum]"
   ]
  },
  {
   "cell_type": "code",
   "execution_count": 25,
   "metadata": {
    "execution": {
     "iopub.execute_input": "2021-03-23T00:48:00.768285Z",
     "iopub.status.busy": "2021-03-23T00:48:00.767760Z",
     "iopub.status.idle": "2021-03-23T00:49:30.028382Z",
     "shell.execute_reply": "2021-03-23T00:49:30.027188Z",
     "shell.execute_reply.started": "2021-03-23T00:48:00.768222Z"
    }
   },
   "outputs": [
    {
     "name": "stdout",
     "output_type": "stream",
     "text": [
      "nChan: 385, nFileSamp: 9000052\n"
     ]
    }
   ],
   "source": [
    "hpc_lfps = load_timeseries(bin_path, hpc_chans)"
   ]
  },
  {
   "cell_type": "markdown",
   "metadata": {},
   "source": [
    "## Detect sharp waves"
   ]
  },
  {
   "cell_type": "markdown",
   "metadata": {},
   "source": [
    "### If we need to determine detection parameters"
   ]
  },
  {
   "cell_type": "code",
   "execution_count": 8,
   "metadata": {
    "execution": {
     "iopub.execute_input": "2021-01-04T00:26:38.945022Z",
     "iopub.status.busy": "2021-01-04T00:26:38.944541Z",
     "iopub.status.idle": "2021-01-04T00:35:20.793274Z",
     "shell.execute_reply": "2021-01-04T00:35:20.791877Z",
     "shell.execute_reply.started": "2021-01-04T00:26:38.944964Z"
    }
   },
   "outputs": [
    {
     "name": "stdout",
     "output_type": "stream",
     "text": [
      "Performing L-curve parameter estimation...\n",
      "No lambda given, using defaults\n",
      "min lambda 1e-12\n",
      "max lambda 0.0126\n",
      "min lambda 1e-12\n",
      "max lambda 0.0126\n",
      "l-curve (all lambda):  0.23\n",
      "Best lambda and R =  0.0003822395851068327 ,  0.23\n"
     ]
    }
   ],
   "source": [
    "intersite_distance = 0.020\n",
    "k = get_kcsd(hpc_lfps, intersite_distance=intersite_distance, gdx=0.020, do_lcurve=True)\n",
    "hpc_csd = k.values('CSD')\n",
    "sr_csd = hpc_csd[np.isin(hpc_chans, sr_chans)]"
   ]
  },
  {
   "cell_type": "code",
   "execution_count": 32,
   "metadata": {
    "execution": {
     "iopub.execute_input": "2021-01-04T03:02:30.851252Z",
     "iopub.status.busy": "2021-01-04T03:02:30.850790Z",
     "iopub.status.idle": "2021-01-04T03:04:05.222403Z",
     "shell.execute_reply": "2021-01-04T03:04:05.221712Z",
     "shell.execute_reply.started": "2021-01-04T03:02:30.851191Z"
    }
   },
   "outputs": [],
   "source": [
    "spws = detect_sharp_waves_by_zscore(time, sr_csd)"
   ]
  },
  {
   "cell_type": "markdown",
   "metadata": {},
   "source": [
    "### If we are using detection parameters obtained elsewhere"
   ]
  },
  {
   "cell_type": "code",
   "execution_count": 26,
   "metadata": {
    "execution": {
     "iopub.execute_input": "2021-03-23T00:50:53.446668Z",
     "iopub.status.busy": "2021-03-23T00:50:53.446030Z",
     "iopub.status.idle": "2021-03-23T00:51:05.728097Z",
     "shell.execute_reply": "2021-03-23T00:51:05.726874Z",
     "shell.execute_reply.started": "2021-03-23T00:50:53.446601Z"
    }
   },
   "outputs": [],
   "source": [
    "with open(params_path) as params_file:\n",
    "    params = json.load(params_file)\n",
    "\n",
    "intersite_distance = params[\"intersite_distance\"]\n",
    "k = get_kcsd(\n",
    "    hpc_lfps.values,\n",
    "    intersite_distance=params[\"intersite_distance\"],\n",
    "    gdx=params[\"gdx\"],\n",
    "    lambd=params[\"lambd\"],\n",
    "    R_init=params[\"R\"],\n",
    "    do_lcurve=False,\n",
    ")\n",
    "\n",
    "hpc_csd = xr.DataArray(\n",
    "    k.values(\"CSD\"),\n",
    "    dims=(\"channel\", \"time\"),\n",
    "    coords={\"channel\": hpc_lfps.channel.values, \"time\": hpc_lfps.time.values},\n",
    "    attrs={'units': \"nA/mm\", 'fs': hpc_lfps.fs}\n",
    ") "
   ]
  },
  {
   "cell_type": "code",
   "execution_count": 57,
   "metadata": {
    "execution": {
     "iopub.execute_input": "2021-03-23T01:04:45.270609Z",
     "iopub.status.busy": "2021-03-23T01:04:45.270081Z",
     "iopub.status.idle": "2021-03-23T01:05:22.781073Z",
     "shell.execute_reply": "2021-03-23T01:05:22.779899Z",
     "shell.execute_reply.started": "2021-03-23T01:04:45.270548Z"
    }
   },
   "outputs": [],
   "source": [
    "spws_by_epoch = list()\n",
    "sr_chans_df = pd.read_csv(sr_chans_path, converters={\"sr_chans\": literal_eval})\n",
    "sr_chans_df.sr_chans = sr_chans_df.sr_chans.apply(list)\n",
    "for epoch in sr_chans_df.itertuples():\n",
    "    spws_by_epoch.append(get_epoch_spws(hpc_csd, params, epoch.start_time, epoch.end_time, epoch.sr_chans))\n",
    "\n",
    "spws = pd.concat(spws_by_epoch)"
   ]
  },
  {
   "cell_type": "code",
   "execution_count": 49,
   "metadata": {
    "execution": {
     "iopub.execute_input": "2021-03-23T01:02:20.881582Z",
     "iopub.status.busy": "2021-03-23T01:02:20.881019Z",
     "iopub.status.idle": "2021-03-23T01:02:21.881049Z",
     "shell.execute_reply": "2021-03-23T01:02:21.880167Z",
     "shell.execute_reply.started": "2021-03-23T01:02:20.881516Z"
    }
   },
   "outputs": [],
   "source": [
    "epoch_num = 1\n",
    "epoch_start = sr_chans_df.start_time[epoch_num]\n",
    "epoch_end = sr_chans_df.end_time[epoch_num]\n",
    "sr_chans = sr_chans_df.sr_chans[epoch_num]\n",
    "\n",
    "sr_csd = hpc_csd.sel(time=slice(epoch_start, epoch_end), channel=sr_chans)\n",
    "\n",
    "spws = detect_sharp_waves_by_value(\n",
    "    sr_csd.time.values,\n",
    "    sr_csd.values,\n",
    "    params[\"detection_threshold\"],\n",
    "    params[\"boundary_threshold\"],\n",
    "    params[\"minimum_duration\"],\n",
    ")\n",
    "\n",
    "if not spws.empty:\n",
    "    spws[\"duration\"] = get_durations(spws)\n",
    "    spws[\"midpoint\"] = get_midpoints(spws)\n",
    "    spws[\"sink_amplitude\"] = get_sink_amplitudes(spws, sr_csd.time.values, sr_csd.values) * (\n",
    "        1e-6\n",
    "    )  # Scale to mA/mm\n",
    "    spws[\"sink_integral\"] = (\n",
    "        get_sink_integrals(spws, sr_csd.time.values, sr_csd.fs, sr_csd.values) * (1e-6) * (1e3)\n",
    "    )  # Scale to mA * ms\n",
    "\n",
    "    spws[\"sr_chans\"] = [sr_chans] * len(spws)"
   ]
  },
  {
   "cell_type": "markdown",
   "metadata": {
    "execution": {
     "iopub.execute_input": "2020-12-01T00:20:18.941774Z",
     "iopub.status.busy": "2020-12-01T00:20:18.941278Z",
     "iopub.status.idle": "2020-12-01T00:20:18.960114Z",
     "shell.execute_reply": "2020-12-01T00:20:18.959367Z",
     "shell.execute_reply.started": "2020-12-01T00:20:18.941715Z"
    }
   },
   "source": [
    "## Export results"
   ]
  },
  {
   "cell_type": "code",
   "execution_count": 16,
   "metadata": {
    "execution": {
     "iopub.execute_input": "2021-01-05T20:04:09.995051Z",
     "iopub.status.busy": "2021-01-05T20:04:09.994903Z",
     "iopub.status.idle": "2021-01-05T20:04:10.050666Z",
     "shell.execute_reply": "2021-01-05T20:04:10.049955Z",
     "shell.execute_reply.started": "2021-01-05T20:04:09.995033Z"
    }
   },
   "outputs": [],
   "source": [
    "metadata = dict(\n",
    "    csd_chans=hpc_chans,\n",
    "    electrode_positions=k.ele_pos,\n",
    "    intersite_distance=intersite_distance,\n",
    "    gdx=k.gdx,\n",
    "    lambd=k.lambd,\n",
    "    R=k.R,\n",
    "    detect_states=[\"all\"],\n",
    "    file_start=hpc_lfps.fileCreateTime,\n",
    ")\n",
    "metadata.update(spws.attrs)\n",
    "\n",
    "store_df_h5(spw_path, spws, **metadata)"
   ]
  },
  {
   "cell_type": "markdown",
   "metadata": {},
   "source": [
    "## If necessary, create params file"
   ]
  },
  {
   "cell_type": "code",
   "execution_count": 85,
   "metadata": {
    "execution": {
     "iopub.execute_input": "2021-01-04T04:49:13.834943Z",
     "iopub.status.busy": "2021-01-04T04:49:13.834475Z",
     "iopub.status.idle": "2021-01-04T04:49:13.859881Z",
     "shell.execute_reply": "2021-01-04T04:49:13.859209Z",
     "shell.execute_reply.started": "2021-01-04T04:49:13.834885Z"
    }
   },
   "outputs": [],
   "source": [
    "metadata.update({'params_source_file': str(bin_path)})\n",
    "metadata['csd_chans'] = metadata['csd_chans'].tolist()\n",
    "metadata['electrode_positions'] = metadata['electrode_positions'].tolist()\n",
    "with open(params_path, 'x') as params_file:\n",
    "    json.dump(metadata, params_file, indent=4)"
   ]
  },
  {
   "cell_type": "code",
   "execution_count": null,
   "metadata": {},
   "outputs": [],
   "source": []
  }
 ],
 "metadata": {
  "kernelspec": {
   "display_name": "Python 3",
   "language": "python",
   "name": "python3"
  },
  "language_info": {
   "codemirror_mode": {
    "name": "ipython",
    "version": 3
   },
   "file_extension": ".py",
   "mimetype": "text/x-python",
   "name": "python",
   "nbconvert_exporter": "python",
   "pygments_lexer": "ipython3",
   "version": "3.7.9"
  }
 },
 "nbformat": 4,
 "nbformat_minor": 4
}
