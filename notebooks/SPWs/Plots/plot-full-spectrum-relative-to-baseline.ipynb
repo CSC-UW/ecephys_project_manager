{
 "cells": [
  {
   "cell_type": "code",
   "execution_count": 1,
   "metadata": {
    "execution": {
     "iopub.execute_input": "2021-04-28T02:55:09.428930Z",
     "iopub.status.busy": "2021-04-28T02:55:09.428731Z",
     "iopub.status.idle": "2021-04-28T02:55:09.443752Z",
     "shell.execute_reply": "2021-04-28T02:55:09.443002Z",
     "shell.execute_reply.started": "2021-04-28T02:55:09.428905Z"
    }
   },
   "outputs": [],
   "source": [
    "%load_ext autoreload\n",
    "%autoreload 2"
   ]
  },
  {
   "cell_type": "code",
   "execution_count": 2,
   "metadata": {
    "execution": {
     "iopub.execute_input": "2021-04-28T02:55:10.193426Z",
     "iopub.status.busy": "2021-04-28T02:55:10.193164Z",
     "iopub.status.idle": "2021-04-28T02:55:10.520920Z",
     "shell.execute_reply": "2021-04-28T02:55:10.520173Z",
     "shell.execute_reply.started": "2021-04-28T02:55:10.193394Z"
    }
   },
   "outputs": [],
   "source": [
    "%matplotlib widget\n",
    "import matplotlib.pyplot as plt\n",
    "import seaborn as sns"
   ]
  },
  {
   "cell_type": "code",
   "execution_count": 3,
   "metadata": {
    "execution": {
     "iopub.execute_input": "2021-04-28T02:55:10.560935Z",
     "iopub.status.busy": "2021-04-28T02:55:10.560743Z",
     "iopub.status.idle": "2021-04-28T02:55:10.784087Z",
     "shell.execute_reply": "2021-04-28T02:55:10.783209Z",
     "shell.execute_reply.started": "2021-04-28T02:55:10.560911Z"
    }
   },
   "outputs": [],
   "source": [
    "import xarray as xr\n",
    "import numpy as np\n",
    "import pandas as pd\n",
    "from scipy.ndimage.filters import gaussian_filter"
   ]
  },
  {
   "cell_type": "code",
   "execution_count": 4,
   "metadata": {
    "execution": {
     "iopub.execute_input": "2021-04-28T02:55:10.953965Z",
     "iopub.status.busy": "2021-04-28T02:55:10.953695Z",
     "iopub.status.idle": "2021-04-28T02:55:10.973901Z",
     "shell.execute_reply": "2021-04-28T02:55:10.973324Z",
     "shell.execute_reply.started": "2021-04-28T02:55:10.953932Z"
    }
   },
   "outputs": [
    {
     "data": {
      "text/plain": [
       "<xarray.core.options.set_options at 0x7f8c0e0f1a90>"
      ]
     },
     "execution_count": 4,
     "metadata": {},
     "output_type": "execute_result"
    }
   ],
   "source": [
    "xr.set_options(keep_attrs=True)"
   ]
  },
  {
   "cell_type": "code",
   "execution_count": 5,
   "metadata": {
    "execution": {
     "iopub.execute_input": "2021-04-28T02:55:11.241551Z",
     "iopub.status.busy": "2021-04-28T02:55:11.241288Z",
     "iopub.status.idle": "2021-04-28T02:55:11.259914Z",
     "shell.execute_reply": "2021-04-28T02:55:11.259540Z",
     "shell.execute_reply.started": "2021-04-28T02:55:11.241518Z"
    }
   },
   "outputs": [],
   "source": [
    "from ecephys_analyses.data import paths, load\n",
    "from ecephys import utils\n",
    "from ecephys.scoring import filter_ds, filter_by_cumulative_time_in_state"
   ]
  },
  {
   "cell_type": "code",
   "execution_count": 6,
   "metadata": {
    "execution": {
     "iopub.execute_input": "2021-04-28T02:55:11.528621Z",
     "iopub.status.busy": "2021-04-28T02:55:11.528408Z",
     "iopub.status.idle": "2021-04-28T02:55:11.545233Z",
     "shell.execute_reply": "2021-04-28T02:55:11.544580Z",
     "shell.execute_reply.started": "2021-04-28T02:55:11.528579Z"
    }
   },
   "outputs": [],
   "source": [
    "def ds2df(ds):\n",
    "    s = ds.to_dataframe().stack()\n",
    "    s.index.names = s.index.names[:-1] + ['region']\n",
    "    return s.to_frame(name='power')"
   ]
  },
  {
   "cell_type": "code",
   "execution_count": 7,
   "metadata": {
    "execution": {
     "iopub.execute_input": "2021-04-28T02:55:11.792990Z",
     "iopub.status.busy": "2021-04-28T02:55:11.792654Z",
     "iopub.status.idle": "2021-04-28T02:55:11.812259Z",
     "shell.execute_reply": "2021-04-28T02:55:11.811563Z",
     "shell.execute_reply.started": "2021-04-28T02:55:11.792947Z"
    }
   },
   "outputs": [],
   "source": [
    "def smooth_spg(spg, smoothing_sigma):\n",
    "    # width of the kernel is ~8x sigma. So sigma=1 -> ~8 frequency bins -> ~2Hz at 0.25Hz resolution. \n",
    "    df = spg.groupby([\"frequency\", \"condition\", \"region\"]).mean()\n",
    "    df.loc[(slice(None), 'baseline', 'mpta_wm_ref'), :] = gaussian_filter(df.loc[(slice(None), 'baseline', 'mpta_wm_ref'), :], smoothing_sigma)\n",
    "    df.loc[(slice(None), 'recovery', 'mpta_wm_ref'), :] = gaussian_filter(df.loc[(slice(None), 'recovery', 'mpta_wm_ref'), :], smoothing_sigma)\n",
    "    df.loc[(slice(None), 'baseline', 'sr_wm_ref'), :] = gaussian_filter(df.loc[(slice(None), 'baseline', 'sr_wm_ref'), :], smoothing_sigma)\n",
    "    df.loc[(slice(None), 'recovery', 'sr_wm_ref'), :] = gaussian_filter(df.loc[(slice(None), 'recovery', 'sr_wm_ref'), :], smoothing_sigma)\n",
    "    return df"
   ]
  },
  {
   "cell_type": "code",
   "execution_count": 44,
   "metadata": {
    "execution": {
     "iopub.execute_input": "2021-04-28T03:01:49.454274Z",
     "iopub.status.busy": "2021-04-28T03:01:49.453828Z",
     "iopub.status.idle": "2021-04-28T03:01:49.476558Z",
     "shell.execute_reply": "2021-04-28T03:01:49.475969Z",
     "shell.execute_reply.started": "2021-04-28T03:01:49.454219Z"
    }
   },
   "outputs": [],
   "source": [
    "subject = \"Allan\"\n",
    "experiment = \"sleep-homeostasis\"\n",
    "bsl_condition = \"light-period-circadian-match\"\n",
    "rec_condition = \"recovery-sleep\"\n",
    "states = [\"N1\", \"N2\"]"
   ]
  },
  {
   "cell_type": "code",
   "execution_count": 45,
   "metadata": {
    "execution": {
     "iopub.execute_input": "2021-04-28T03:01:49.841557Z",
     "iopub.status.busy": "2021-04-28T03:01:49.841403Z",
     "iopub.status.idle": "2021-04-28T03:02:06.075341Z",
     "shell.execute_reply": "2021-04-28T03:02:06.074596Z",
     "shell.execute_reply.started": "2021-04-28T03:01:49.841539Z"
    }
   },
   "outputs": [],
   "source": [
    "bsl_spg = load.load_spectrogram(subject, experiment, bsl_condition)\n",
    "bsl_hyp = load.load_hypnogram(subject, experiment, bsl_condition)\n",
    "bsl_nrem_hyp = filter_by_cumulative_time_in_state(bsl_hyp, [\"N1\", \"N2\"], 2, 'h')\n",
    "bsl_nrem_spg = filter_ds(bsl_spg, bsl_nrem_hyp, states).dropna(dim=\"time\")\n",
    "bsl_nrem_prm = bsl_nrem_spg / bsl_nrem_spg.mean(dim=\"time\") * 100"
   ]
  },
  {
   "cell_type": "code",
   "execution_count": 46,
   "metadata": {
    "execution": {
     "iopub.execute_input": "2021-04-28T03:02:06.116352Z",
     "iopub.status.busy": "2021-04-28T03:02:06.116224Z",
     "iopub.status.idle": "2021-04-28T03:02:09.667075Z",
     "shell.execute_reply": "2021-04-28T03:02:09.665908Z",
     "shell.execute_reply.started": "2021-04-28T03:02:06.116336Z"
    }
   },
   "outputs": [],
   "source": [
    "rec_spg = load.load_spectrogram(subject, experiment, rec_condition)\n",
    "rec_hyp = load.load_hypnogram(subject, experiment, rec_condition)\n",
    "rec_nrem_hyp = filter_by_cumulative_time_in_state(rec_hyp, [\"N1\", \"N2\"], 2, 'h')\n",
    "rec_nrem_spg = filter_ds(rec_spg, rec_hyp, states).dropna(dim=\"time\")\n",
    "rec_nrem_prm = rec_nrem_spg / bsl_nrem_spg.mean(dim=\"time\") * 100"
   ]
  },
  {
   "cell_type": "code",
   "execution_count": 47,
   "metadata": {
    "execution": {
     "iopub.execute_input": "2021-04-28T03:02:09.668547Z",
     "iopub.status.busy": "2021-04-28T03:02:09.668382Z",
     "iopub.status.idle": "2021-04-28T03:02:15.369268Z",
     "shell.execute_reply": "2021-04-28T03:02:15.368380Z",
     "shell.execute_reply.started": "2021-04-28T03:02:09.668526Z"
    }
   },
   "outputs": [],
   "source": [
    "nrem_spg = pd.concat([ds2df(bsl_nrem_spg).assign(condition=\"baseline\"), ds2df(rec_nrem_spg).assign(condition=\"recovery\")])\n",
    "nrem_prm = pd.concat([ds2df(bsl_nrem_prm).assign(condition=\"baseline\"), ds2df(rec_nrem_prm).assign(condition=\"recovery\")])"
   ]
  },
  {
   "cell_type": "code",
   "execution_count": 48,
   "metadata": {
    "execution": {
     "iopub.execute_input": "2021-04-28T03:02:15.370489Z",
     "iopub.status.busy": "2021-04-28T03:02:15.370334Z",
     "iopub.status.idle": "2021-04-28T03:02:17.701867Z",
     "shell.execute_reply": "2021-04-28T03:02:17.701193Z",
     "shell.execute_reply.started": "2021-04-28T03:02:15.370469Z"
    }
   },
   "outputs": [
    {
     "data": {
      "application/vnd.jupyter.widget-view+json": {
       "model_id": "e529733fc9a24fb4bd46ac306d5499e8",
       "version_major": 2,
       "version_minor": 0
      },
      "text/plain": [
       "Canvas(toolbar=Toolbar(toolitems=[('Home', 'Reset original view', 'home', 'home'), ('Back', 'Back to previous …"
      ]
     },
     "metadata": {},
     "output_type": "display_data"
    }
   ],
   "source": [
    "g = sns.relplot(data=smooth_spg(nrem_spg, 1), x='frequency', y='power', hue='condition', col='region', kind='line', aspect=(16/9), ci=None)\n",
    "g.set(xscale='log', yscale='linear', ylabel='PSD (uV^2/Hz)')\n",
    "g.tight_layout()"
   ]
  },
  {
   "cell_type": "code",
   "execution_count": 49,
   "metadata": {
    "execution": {
     "iopub.execute_input": "2021-04-28T03:02:17.702832Z",
     "iopub.status.busy": "2021-04-28T03:02:17.702691Z",
     "iopub.status.idle": "2021-04-28T03:02:20.256089Z",
     "shell.execute_reply": "2021-04-28T03:02:20.255403Z",
     "shell.execute_reply.started": "2021-04-28T03:02:17.702812Z"
    }
   },
   "outputs": [
    {
     "data": {
      "application/vnd.jupyter.widget-view+json": {
       "model_id": "13ff2d72061a4e89980f762b276ffb06",
       "version_major": 2,
       "version_minor": 0
      },
      "text/plain": [
       "Canvas(toolbar=Toolbar(toolitems=[('Home', 'Reset original view', 'home', 'home'), ('Back', 'Back to previous …"
      ]
     },
     "metadata": {},
     "output_type": "display_data"
    }
   ],
   "source": [
    "g = sns.relplot(data=smooth_spg(nrem_spg, 1), x='frequency', y='power', hue='condition', col='region', kind='line', aspect=(16/9), ci=None)\n",
    "g.set(xscale='log', yscale='log', ylabel='PSD (uV^2/Hz)')\n",
    "g.tight_layout()"
   ]
  },
  {
   "cell_type": "code",
   "execution_count": 50,
   "metadata": {
    "execution": {
     "iopub.execute_input": "2021-04-28T03:02:20.257139Z",
     "iopub.status.busy": "2021-04-28T03:02:20.256998Z",
     "iopub.status.idle": "2021-04-28T03:02:22.587612Z",
     "shell.execute_reply": "2021-04-28T03:02:22.586957Z",
     "shell.execute_reply.started": "2021-04-28T03:02:20.257120Z"
    }
   },
   "outputs": [
    {
     "data": {
      "application/vnd.jupyter.widget-view+json": {
       "model_id": "b35e407a83054f38a8c9acc58f1d1f00",
       "version_major": 2,
       "version_minor": 0
      },
      "text/plain": [
       "Canvas(toolbar=Toolbar(toolitems=[('Home', 'Reset original view', 'home', 'home'), ('Back', 'Back to previous …"
      ]
     },
     "metadata": {},
     "output_type": "display_data"
    }
   ],
   "source": [
    "g = sns.relplot(data=smooth_spg(nrem_prm, 1), x='frequency', y='power', hue='condition', col='region', kind='line', aspect=(16/9), ci=None)\n",
    "g.set(xscale='log', ylabel='PSD (% BSL NREM)')\n",
    "g.tight_layout()"
   ]
  },
  {
   "cell_type": "code",
   "execution_count": null,
   "metadata": {},
   "outputs": [],
   "source": []
  }
 ],
 "metadata": {
  "kernelspec": {
   "display_name": "Python 3",
   "language": "python",
   "name": "python3"
  },
  "language_info": {
   "codemirror_mode": {
    "name": "ipython",
    "version": 3
   },
   "file_extension": ".py",
   "mimetype": "text/x-python",
   "name": "python",
   "nbconvert_exporter": "python",
   "pygments_lexer": "ipython3",
   "version": "3.7.9"
  }
 },
 "nbformat": 4,
 "nbformat_minor": 4
}
