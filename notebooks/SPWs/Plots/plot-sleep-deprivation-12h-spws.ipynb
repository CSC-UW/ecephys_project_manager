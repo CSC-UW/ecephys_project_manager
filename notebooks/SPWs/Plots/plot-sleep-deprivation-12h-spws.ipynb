{
 "cells": [
  {
   "cell_type": "code",
   "execution_count": 1,
   "metadata": {
    "execution": {
     "iopub.execute_input": "2021-02-01T17:53:47.708340Z",
     "iopub.status.busy": "2021-02-01T17:53:47.707811Z",
     "iopub.status.idle": "2021-02-01T17:53:47.726655Z",
     "shell.execute_reply": "2021-02-01T17:53:47.725858Z",
     "shell.execute_reply.started": "2021-02-01T17:53:47.708279Z"
    }
   },
   "outputs": [],
   "source": [
    "%load_ext autoreload\n",
    "%autoreload 2"
   ]
  },
  {
   "cell_type": "code",
   "execution_count": 12,
   "metadata": {
    "execution": {
     "iopub.execute_input": "2021-02-01T18:06:04.014892Z",
     "iopub.status.busy": "2021-02-01T18:06:04.014400Z",
     "iopub.status.idle": "2021-02-01T18:06:04.038425Z",
     "shell.execute_reply": "2021-02-01T18:06:04.037356Z",
     "shell.execute_reply.started": "2021-02-01T18:06:04.014834Z"
    }
   },
   "outputs": [],
   "source": [
    "%matplotlib widget\n",
    "import matplotlib.pyplot as plt\n",
    "import seaborn as sns"
   ]
  },
  {
   "cell_type": "code",
   "execution_count": 13,
   "metadata": {
    "execution": {
     "iopub.execute_input": "2021-02-01T18:06:04.384470Z",
     "iopub.status.busy": "2021-02-01T18:06:04.383987Z",
     "iopub.status.idle": "2021-02-01T18:06:04.403523Z",
     "shell.execute_reply": "2021-02-01T18:06:04.402715Z",
     "shell.execute_reply.started": "2021-02-01T18:06:04.384414Z"
    }
   },
   "outputs": [],
   "source": [
    "import numpy as np\n",
    "import pandas as pd\n",
    "import xarray as xr"
   ]
  },
  {
   "cell_type": "code",
   "execution_count": 14,
   "metadata": {
    "execution": {
     "iopub.execute_input": "2021-02-01T18:06:04.721026Z",
     "iopub.status.busy": "2021-02-01T18:06:04.720811Z",
     "iopub.status.idle": "2021-02-01T18:06:04.739118Z",
     "shell.execute_reply": "2021-02-01T18:06:04.738529Z",
     "shell.execute_reply.started": "2021-02-01T18:06:04.720999Z"
    }
   },
   "outputs": [],
   "source": [
    "from ecephys_analyses.data import paths\n",
    "from ecephys.scoring import load_datetime_hypnogram, filter_states\n",
    "from ecephys.utils import load_df_h5, replace_outliers\n",
    "from ecephys.signal.sharp_wave_ripples import get_events_in_interval\n",
    "import ecephys.plot as eplt\n",
    "from neurodsp.plts.time_series import plot_time_series"
   ]
  },
  {
   "cell_type": "code",
   "execution_count": 224,
   "metadata": {
    "execution": {
     "iopub.execute_input": "2021-02-05T00:30:29.378842Z",
     "iopub.status.busy": "2021-02-05T00:30:29.378330Z",
     "iopub.status.idle": "2021-02-05T00:30:29.402152Z",
     "shell.execute_reply": "2021-02-05T00:30:29.401467Z",
     "shell.execute_reply.started": "2021-02-05T00:30:29.378782Z"
    }
   },
   "outputs": [],
   "source": [
    "from ripple_detection.core import gaussian_smooth\n",
    "\n",
    "def my_gaussian_smooth(da, smoothing_sigma=10):\n",
    "    estimated_fs = 1 / np.diff(da.time.values).mean()\n",
    "    return gaussian_smooth(da, smoothing_sigma, estimated_fs)"
   ]
  },
  {
   "cell_type": "code",
   "execution_count": 265,
   "metadata": {
    "execution": {
     "iopub.execute_input": "2021-02-05T00:42:44.158059Z",
     "iopub.status.busy": "2021-02-05T00:42:44.157610Z",
     "iopub.status.idle": "2021-02-05T00:42:44.225026Z",
     "shell.execute_reply": "2021-02-05T00:42:44.224172Z",
     "shell.execute_reply.started": "2021-02-05T00:42:44.158001Z"
    }
   },
   "outputs": [],
   "source": [
    "def load_condition_data(subject, condition):\n",
    "    hypnogram_paths = paths.get_sglx_style_datapaths(subject=subject, condition=condition, ext=\"hypnogram.tsv\")\n",
    "    hypnograms = [load_datetime_hypnogram(path) for path in hypnogram_paths]\n",
    "    hypnogram = pd.concat(hypnograms).reset_index(drop=True)\n",
    "    condition_start_dt = hypnogram['start_time'].iloc[0]\n",
    "    \n",
    "    spw_paths = paths.get_sglx_style_datapaths(subject=subject, condition=condition, ext=\"spws.h5\")\n",
    "    spws = [load_df_h5(path) for path in spw_paths]\n",
    "    \n",
    "    for _spws, _hypnogram in zip(spws, hypnograms):\n",
    "        file_start_dt = _hypnogram['start_time'].min()\n",
    "        _spws['start_time'] = file_start_dt + pd.to_timedelta(_spws['start_time'], 's')\n",
    "        _spws['end_time'] = file_start_dt + pd.to_timedelta(_spws['end_time'], 's')\n",
    "        _spws['midpoint'] = file_start_dt + pd.to_timedelta(_spws['midpoint'], 's')\n",
    "        #spws['duration'] = pd.to_timedelta(spws['duration'], 's')\n",
    "        _spws['time_from_condition_start'] = _spws['start_time'] - condition_start_dt\n",
    "    \n",
    "    combined_spws = pd.concat(spws).reset_index(drop=True)\n",
    "    combined_spws.index += 1\n",
    "    combined_spws.index = combined_spws.index.rename('spw_number')\n",
    "    spws = combined_spws\n",
    "    \n",
    "    bandpower_paths = paths.get_sglx_style_datapaths(subject=subject, condition=condition, ext=\"pow.nc\")\n",
    "    bandpowers = [xr.open_dataset(path) for path in bandpower_paths]\n",
    "    for bp in bandpowers:\n",
    "        bp.mpta_delta.values = my_gaussian_smooth(bp.mpta_delta, smoothing_sigma=10)\n",
    "        bp.sr_delta.values = my_gaussian_smooth(bp.sr_delta, smoothing_sigma=10)\n",
    "        bp['time'] = pd.to_datetime(bp.mpta_delta.file_start) + pd.to_timedelta(bp.time.values, 's')\n",
    "    bandpower = xr.concat(bandpowers, dim=\"time\")\n",
    "    \n",
    "    return hypnogram, spws, bandpower"
   ]
  },
  {
   "cell_type": "code",
   "execution_count": 266,
   "metadata": {
    "execution": {
     "iopub.execute_input": "2021-02-05T00:42:45.241820Z",
     "iopub.status.busy": "2021-02-05T00:42:45.241617Z",
     "iopub.status.idle": "2021-02-05T00:42:45.259883Z",
     "shell.execute_reply": "2021-02-05T00:42:45.259082Z",
     "shell.execute_reply.started": "2021-02-05T00:42:45.241794Z"
    }
   },
   "outputs": [],
   "source": [
    "subject = \"Alessandro\"\n",
    "bsl_condition = \"sleep-deprivation-12h-circadian-match\"\n",
    "exp_condition = \"sleep-deprivation-12h\""
   ]
  },
  {
   "cell_type": "code",
   "execution_count": 267,
   "metadata": {
    "execution": {
     "iopub.execute_input": "2021-02-05T00:42:45.512875Z",
     "iopub.status.busy": "2021-02-05T00:42:45.512664Z",
     "iopub.status.idle": "2021-02-05T00:42:45.529276Z",
     "shell.execute_reply": "2021-02-05T00:42:45.528487Z",
     "shell.execute_reply.started": "2021-02-05T00:42:45.512848Z"
    }
   },
   "outputs": [],
   "source": [
    "MPTA_SWA_LIM = (0, 50000)\n",
    "SR_SWA_LIM = (0, 180000)\n",
    "DENSITY_LIM = (0, 20)\n",
    "DURATION_LIM = (0, 0.30)\n",
    "AMPLITUDE_LIM = (-0.24, -0.06)\n",
    "INTEGRAL_LIM = (-20, 0)"
   ]
  },
  {
   "cell_type": "code",
   "execution_count": 268,
   "metadata": {
    "execution": {
     "iopub.execute_input": "2021-02-05T00:42:46.258921Z",
     "iopub.status.busy": "2021-02-05T00:42:46.258524Z",
     "iopub.status.idle": "2021-02-05T00:42:47.077412Z",
     "shell.execute_reply": "2021-02-05T00:42:47.076256Z",
     "shell.execute_reply.started": "2021-02-05T00:42:46.258871Z"
    }
   },
   "outputs": [],
   "source": [
    "(bsl_hypnogram, bsl_spws, bsl_power) = load_condition_data(subject, bsl_condition)\n",
    "(exp_hypnogram, exp_spws, exp_power) = load_condition_data(subject, exp_condition)"
   ]
  },
  {
   "cell_type": "code",
   "execution_count": 269,
   "metadata": {
    "execution": {
     "iopub.execute_input": "2021-02-05T00:42:47.183216Z",
     "iopub.status.busy": "2021-02-05T00:42:47.183089Z",
     "iopub.status.idle": "2021-02-05T00:42:47.210891Z",
     "shell.execute_reply": "2021-02-05T00:42:47.210146Z",
     "shell.execute_reply.started": "2021-02-05T00:42:47.183200Z"
    }
   },
   "outputs": [],
   "source": [
    "def plot_condition(hypnogram, spws, power):\n",
    "\n",
    "    fig, (mpta_swa_ax, sr_swa_ax, density_ax, duration_ax, amplitude_ax, integral_ax) = plt.subplots(6, 1, figsize=(22,12))\n",
    "\n",
    "    xmargin=0\n",
    "\n",
    "    sns.lineplot(x=power.time.values, y=power.mpta_delta.values, color='black', ax=mpta_swa_ax)\n",
    "    mpta_swa_ax.set(xlabel=None, ylabel='CTX SWA (uV^2/Hz)', ylim=MPTA_SWA_LIM, xmargin=xmargin, xticks=[])\n",
    "\n",
    "    sns.lineplot(x=power.time.values, y=power.sr_delta.values, color='black', ax=sr_swa_ax)\n",
    "    sr_swa_ax.set(xlabel=None, ylabel='HPC SWA (uV^2/Hz)', ylim=SR_SWA_LIM, xmargin=xmargin, xticks=[])\n",
    "\n",
    "    binwidth = 10\n",
    "    nbins = np.int((spws.start_time.max() - spws.start_time.min()).total_seconds() / binwidth)\n",
    "    sns.histplot(data=spws, x='start_time', bins=nbins, color='black', ax=density_ax)\n",
    "    density_ax.set(xlabel=None, ylabel='Frequency (Hz)', ylim=DENSITY_LIM, xmargin=xmargin, xticks=[])\n",
    "\n",
    "    sns.scatterplot(data=spws, x=\"start_time\", y=\"duration\", s=2, ax=duration_ax)\n",
    "    duration_ax.set(xlabel=None, ylabel=\"Duration (s)\", ylim=DURATION_LIM, xmargin=xmargin, xticks=[])\n",
    "\n",
    "    sns.scatterplot(data=spws, x='start_time', y='sink_amplitude', s=2, ax=amplitude_ax)\n",
    "    amplitude_ax.set(xlabel=None, ylabel=\"Sink amplitude (mA/mm)\", ylim=AMPLITUDE_LIM, xmargin=xmargin, xticks=[])\n",
    "\n",
    "    sns.scatterplot(data=spws, x='start_time', y='sink_integral', s=2, ax=integral_ax)\n",
    "    integral_ax.set(xlabel=\"Event time (month-date hour)\", ylabel=\"Sink integral (mA * ms)\", ylim=INTEGRAL_LIM, xmargin=xmargin)\n",
    "\n",
    "    for ax in (mpta_swa_ax, sr_swa_ax, density_ax, duration_ax, amplitude_ax, integral_ax):\n",
    "        eplt.plot_hypnogram_overlay(hypnogram, ax=ax)\n",
    "\n",
    "    plt.tight_layout()"
   ]
  },
  {
   "cell_type": "code",
   "execution_count": 270,
   "metadata": {
    "execution": {
     "iopub.execute_input": "2021-02-05T00:42:47.492185Z",
     "iopub.status.busy": "2021-02-05T00:42:47.491891Z",
     "iopub.status.idle": "2021-02-05T00:43:20.982574Z",
     "shell.execute_reply": "2021-02-05T00:43:20.981736Z",
     "shell.execute_reply.started": "2021-02-05T00:42:47.492149Z"
    }
   },
   "outputs": [
    {
     "data": {
      "application/vnd.jupyter.widget-view+json": {
       "model_id": "0b5432097d6546bc928d9e9d82148538",
       "version_major": 2,
       "version_minor": 0
      },
      "text/plain": [
       "Canvas(toolbar=Toolbar(toolitems=[('Home', 'Reset original view', 'home', 'home'), ('Back', 'Back to previous …"
      ]
     },
     "metadata": {},
     "output_type": "display_data"
    }
   ],
   "source": [
    "plot_condition(bsl_hypnogram, bsl_spws, bsl_power)"
   ]
  },
  {
   "cell_type": "code",
   "execution_count": 271,
   "metadata": {
    "execution": {
     "iopub.execute_input": "2021-02-05T00:43:22.629823Z",
     "iopub.status.busy": "2021-02-05T00:43:22.629684Z",
     "iopub.status.idle": "2021-02-05T00:43:30.687444Z",
     "shell.execute_reply": "2021-02-05T00:43:30.686316Z",
     "shell.execute_reply.started": "2021-02-05T00:43:22.629805Z"
    }
   },
   "outputs": [
    {
     "data": {
      "application/vnd.jupyter.widget-view+json": {
       "model_id": "c2cd07c6877c4d60a693a15fa8b9b8c4",
       "version_major": 2,
       "version_minor": 0
      },
      "text/plain": [
       "Canvas(toolbar=Toolbar(toolitems=[('Home', 'Reset original view', 'home', 'home'), ('Back', 'Back to previous …"
      ]
     },
     "metadata": {},
     "output_type": "display_data"
    }
   ],
   "source": [
    "plot_condition(exp_hypnogram, exp_spws, exp_power)"
   ]
  },
  {
   "cell_type": "code",
   "execution_count": 144,
   "metadata": {
    "execution": {
     "iopub.execute_input": "2021-02-04T23:56:39.667733Z",
     "iopub.status.busy": "2021-02-04T23:56:39.667593Z",
     "iopub.status.idle": "2021-02-04T23:56:39.701895Z",
     "shell.execute_reply": "2021-02-04T23:56:39.701139Z",
     "shell.execute_reply.started": "2021-02-04T23:56:39.667716Z"
    }
   },
   "outputs": [],
   "source": [
    "def plot_both_conditions(bsl_hypnogram, bsl_spws, bsl_power, exp_hypnogram, exp_spws, exp_power):\n",
    "\n",
    "    fig, (bsl_swa_ax, bsl_density_ax, bsl_amplitude_ax, exp_swa_ax, exp_density_ax, exp_amplitude_ax) = plt.subplots(6, 1, figsize=(22,12))\n",
    "\n",
    "    xmargin=0\n",
    "\n",
    "    # Baseline\n",
    "    sns.lineplot(x=bsl_power.time.values, y=bsl_power.mpta_delta.values, color='black', ax=bsl_swa_ax)\n",
    "    bsl_swa_ax.set(xlabel=None, ylabel='BSL CTX SWA (uV^2/Hz)', ylim=MPTA_SWA_LIM, xmargin=xmargin, xticks=[])\n",
    "\n",
    "    binwidth = 10\n",
    "    nbins = np.int((bsl_spws.start_time.max() - bsl_spws.start_time.min()).total_seconds() / binwidth)\n",
    "    sns.histplot(data=bsl_spws, x='start_time', bins=nbins, color='black', ax=bsl_density_ax)\n",
    "    bsl_density_ax.set(xlabel=None, ylabel='BSL Frequency (Hz)', ylim=DENSITY_LIM, xmargin=xmargin, xticks=[])\n",
    "    \n",
    "    sns.scatterplot(data=bsl_spws, x='start_time', y='sink_amplitude', s=2, ax=bsl_amplitude_ax)\n",
    "    bsl_amplitude_ax.set(xlabel=None, ylabel=\"BSL Sink amp. (mA/mm)\", ylim=AMPLITUDE_LIM, xmargin=xmargin, xticks=[])\n",
    "    \n",
    "    for ax in (bsl_swa_ax, bsl_density_ax, bsl_amplitude_ax):\n",
    "        eplt.plot_hypnogram_overlay(bsl_hypnogram, ax=ax)\n",
    "\n",
    "    # Experiment\n",
    "    sns.lineplot(x=bsl_power.time.values, y=exp_power.mpt, color='black', ax=exp_swa_ax)\n",
    "    exp_swa_ax.set(xlabel=None, ylabel='EXP CTX SWA (uV^2/Hz)', ylim=MPTA_SWA_LIM, xmargin=xmargin, xticks=[])\n",
    "\n",
    "    binwidth = 10\n",
    "    nbins = np.int((exp_spws.start_time.max() - exp_spws.start_time.min()).total_seconds() / binwidth)\n",
    "    sns.histplot(data=exp_spws, x='start_time', bins=nbins, color='black', ax=exp_density_ax)\n",
    "    exp_density_ax.set(xlabel=None, ylabel='EXP Frequency (Hz)', ylim=DENSITY_LIM, xmargin=xmargin, xticks=[])\n",
    "    \n",
    "    sns.scatterplot(data=exp_spws, x='start_time', y='sink_amplitude', s=2, ax=exp_amplitude_ax)\n",
    "    exp_amplitude_ax.set(xlabel=None, ylabel=\"EXP Sink amp. (mA/mm)\", ylim=AMPLITUDE_LIM, xmargin=xmargin, xticks=[])\n",
    "        \n",
    "    for ax in (exp_swa_ax, exp_density_ax, exp_amplitude_ax):\n",
    "        eplt.plot_hypnogram_overlay(exp_hypnogram, ax=ax)\n",
    "\n",
    "    plt.tight_layout()"
   ]
  },
  {
   "cell_type": "code",
   "execution_count": 145,
   "metadata": {
    "execution": {
     "iopub.execute_input": "2021-02-04T23:56:39.705366Z",
     "iopub.status.busy": "2021-02-04T23:56:39.705245Z",
     "iopub.status.idle": "2021-02-04T23:56:50.191601Z",
     "shell.execute_reply": "2021-02-04T23:56:50.190727Z",
     "shell.execute_reply.started": "2021-02-04T23:56:39.705350Z"
    }
   },
   "outputs": [
    {
     "data": {
      "application/vnd.jupyter.widget-view+json": {
       "model_id": "001a282d68d34c48bb2aa45da43e690e",
       "version_major": 2,
       "version_minor": 0
      },
      "text/plain": [
       "Canvas(toolbar=Toolbar(toolitems=[('Home', 'Reset original view', 'home', 'home'), ('Back', 'Back to previous …"
      ]
     },
     "metadata": {},
     "output_type": "display_data"
    }
   ],
   "source": [
    "plot_both_conditions(bsl_hypnogram, bsl_spws, bsl_mpta_swa, bsl_mpta_swa_dt, bsl_sr_swa, bsl_sr_swa_dt, exp_hypnogram, exp_spws, exp_mpta_swa, exp_mpta_swa_dt, exp_sr_swa, exp_sr_swa_dt)"
   ]
  },
  {
   "cell_type": "code",
   "execution_count": null,
   "metadata": {},
   "outputs": [],
   "source": []
  },
  {
   "cell_type": "code",
   "execution_count": null,
   "metadata": {},
   "outputs": [],
   "source": []
  }
 ],
 "metadata": {
  "kernelspec": {
   "display_name": "Python 3",
   "language": "python",
   "name": "python3"
  },
  "language_info": {
   "codemirror_mode": {
    "name": "ipython",
    "version": 3
   },
   "file_extension": ".py",
   "mimetype": "text/x-python",
   "name": "python",
   "nbconvert_exporter": "python",
   "pygments_lexer": "ipython3",
   "version": "3.7.9"
  }
 },
 "nbformat": 4,
 "nbformat_minor": 4
}
