{
 "cells": [
  {
   "cell_type": "code",
   "execution_count": 1,
   "metadata": {
    "execution": {
     "iopub.execute_input": "2021-05-25T00:57:04.284807Z",
     "iopub.status.busy": "2021-05-25T00:57:04.284312Z",
     "iopub.status.idle": "2021-05-25T00:57:04.302397Z",
     "shell.execute_reply": "2021-05-25T00:57:04.301698Z",
     "shell.execute_reply.started": "2021-05-25T00:57:04.284742Z"
    }
   },
   "outputs": [],
   "source": [
    "%load_ext autoreload\n",
    "%autoreload 2"
   ]
  },
  {
   "cell_type": "code",
   "execution_count": 2,
   "metadata": {
    "execution": {
     "iopub.execute_input": "2021-05-25T00:57:04.558695Z",
     "iopub.status.busy": "2021-05-25T00:57:04.558205Z",
     "iopub.status.idle": "2021-05-25T00:57:04.703793Z",
     "shell.execute_reply": "2021-05-25T00:57:04.703013Z",
     "shell.execute_reply.started": "2021-05-25T00:57:04.558634Z"
    }
   },
   "outputs": [],
   "source": [
    "%matplotlib widget"
   ]
  },
  {
   "cell_type": "code",
   "execution_count": 3,
   "metadata": {
    "execution": {
     "iopub.execute_input": "2021-05-25T00:57:04.833956Z",
     "iopub.status.busy": "2021-05-25T00:57:04.833747Z",
     "iopub.status.idle": "2021-05-25T00:57:05.342936Z",
     "shell.execute_reply": "2021-05-25T00:57:05.342261Z",
     "shell.execute_reply.started": "2021-05-25T00:57:04.833929Z"
    }
   },
   "outputs": [
    {
     "data": {
      "text/plain": [
       "<xarray.core.options.set_options at 0x7efd1a40d350>"
      ]
     },
     "execution_count": 3,
     "metadata": {},
     "output_type": "execute_result"
    }
   ],
   "source": [
    "import numpy as np\n",
    "import pandas as pd\n",
    "import xarray as xr\n",
    "import matplotlib.pyplot as plt\n",
    "import seaborn as sns\n",
    "import ecephys_analyses as ea\n",
    "import ecephys.plot as eplt\n",
    "\n",
    "# For plotting bandpower\n",
    "from ecephys.utils.xarray import get_smoothed_da, estimate_fs\n",
    "\n",
    "xr.set_options(keep_attrs=True)"
   ]
  },
  {
   "cell_type": "code",
   "execution_count": 4,
   "metadata": {
    "execution": {
     "iopub.execute_input": "2021-05-25T00:57:05.358283Z",
     "iopub.status.busy": "2021-05-25T00:57:05.358155Z",
     "iopub.status.idle": "2021-05-25T00:57:07.797880Z",
     "shell.execute_reply": "2021-05-25T00:57:07.797105Z",
     "shell.execute_reply.started": "2021-05-25T00:57:05.358266Z"
    }
   },
   "outputs": [],
   "source": [
    "subject = \"Doppio\"\n",
    "experiment = \"ketamine-120mg\"\n",
    "condition = \"all\"\n",
    "\n",
    "spg = ea.load_spectrogram(subject, experiment, condition)\n",
    "hyp = ea.load_hypnogram(subject, experiment, condition)\n",
    "bp = ea.load_bandpower(subject, experiment, condition)"
   ]
  },
  {
   "cell_type": "code",
   "execution_count": 8,
   "metadata": {
    "execution": {
     "iopub.execute_input": "2021-05-25T01:00:20.626506Z",
     "iopub.status.busy": "2021-05-25T01:00:20.626333Z",
     "iopub.status.idle": "2021-05-25T01:00:20.651366Z",
     "shell.execute_reply": "2021-05-25T01:00:20.650597Z",
     "shell.execute_reply.started": "2021-05-25T01:00:20.626473Z"
    }
   },
   "outputs": [],
   "source": [
    "def plot_spectrogram_with_bandpower(spg, hyp, bp, title=None, figsize=(22, 5)):\n",
    "    fig, (bp_ax, spg_ax) = plt.subplots(ncols=1, nrows=2, figsize=figsize, gridspec_kw=dict(width_ratios=[1], height_ratios=[1, 1]))\n",
    "    \n",
    "    bp = get_smoothed_da(bp)\n",
    "    sns.lineplot(x=bp.datetime, y=bp, color='black', ax=bp_ax)\n",
    "    bp_ax.set(xlabel=None, ylabel=\"Bandpower\", xticks=[], xmargin=0)\n",
    "    eplt.plot_hypnogram_overlay(hyp, ax=bp_ax)\n",
    "    \n",
    "    eplt.plot_spectrogram(spg.frequency, spg.datetime, spg, yscale=\"linear\", f_range=(0, 20), ax=spg_ax)\n",
    "\n",
    "    if title:\n",
    "        fig.suptitle(title)\n",
    "    plt.tight_layout(h_pad=0.0)"
   ]
  },
  {
   "cell_type": "code",
   "execution_count": 9,
   "metadata": {
    "execution": {
     "iopub.execute_input": "2021-05-25T01:00:20.652337Z",
     "iopub.status.busy": "2021-05-25T01:00:20.652205Z",
     "iopub.status.idle": "2021-05-25T01:00:21.021243Z",
     "shell.execute_reply": "2021-05-25T01:00:21.020455Z",
     "shell.execute_reply.started": "2021-05-25T01:00:20.652319Z"
    }
   },
   "outputs": [
    {
     "data": {
      "application/vnd.jupyter.widget-view+json": {
       "model_id": "f56cdc1aace6412781f2c9d8d032cc47",
       "version_major": 2,
       "version_minor": 0
      },
      "text/plain": [
       "Canvas(toolbar=Toolbar(toolitems=[('Home', 'Reset original view', 'home', 'home'), ('Back', 'Back to previous …"
      ]
     },
     "metadata": {},
     "output_type": "display_data"
    }
   ],
   "source": [
    "plot_spectrogram_with_bandpower(spg.mpta_wm_ref, hyp, bp.mpta_delta_wm_ref, title=f\"{subject}, {experiment}, cortical delta, WM ref\")"
   ]
  },
  {
   "cell_type": "code",
   "execution_count": 10,
   "metadata": {
    "execution": {
     "iopub.execute_input": "2021-05-25T01:00:21.022545Z",
     "iopub.status.busy": "2021-05-25T01:00:21.022378Z",
     "iopub.status.idle": "2021-05-25T01:00:21.391597Z",
     "shell.execute_reply": "2021-05-25T01:00:21.390876Z",
     "shell.execute_reply.started": "2021-05-25T01:00:21.022521Z"
    }
   },
   "outputs": [
    {
     "data": {
      "application/vnd.jupyter.widget-view+json": {
       "model_id": "099e1e7236754c509faa4c757137ded2",
       "version_major": 2,
       "version_minor": 0
      },
      "text/plain": [
       "Canvas(toolbar=Toolbar(toolitems=[('Home', 'Reset original view', 'home', 'home'), ('Back', 'Back to previous …"
      ]
     },
     "metadata": {},
     "output_type": "display_data"
    }
   ],
   "source": [
    "plot_spectrogram_with_bandpower(spg.sr_wm_ref, hyp, bp.sr_delta_wm_ref, title=f\"{subject}, {experiment}, stratum radiatum delta, WM ref\")"
   ]
  },
  {
   "cell_type": "code",
   "execution_count": null,
   "metadata": {},
   "outputs": [],
   "source": []
  },
  {
   "cell_type": "code",
   "execution_count": null,
   "metadata": {},
   "outputs": [],
   "source": [
    "def plot_spectrogram(spg, hyp, figsize=(22, 3)):\n",
    "    fig, (hyp_ax, spg_ax) = plt.subplots(ncols=1, nrows=2, figsize=figsize, gridspec_kw=dict(width_ratios=[1], height_ratios=[1, 10]))\n",
    "    eplt.plot_spectrogram(spg.frequency, spg.datetime, spg, yscale=\"linear\", f_range=(0, 20), ax=spg_ax)\n",
    "    eplt.plot_hypnogram_overlay(hyp, xlim=spg_ax.get_xlim(), ax=hyp_ax)\n",
    "    hyp_ax.set(xticks=[], yticks=[])\n",
    "    plt.tight_layout(h_pad=0.0)"
   ]
  },
  {
   "cell_type": "code",
   "execution_count": null,
   "metadata": {},
   "outputs": [],
   "source": [
    "plot_spectrogram(spg.mpta_wm_ref, hyp)"
   ]
  },
  {
   "cell_type": "code",
   "execution_count": null,
   "metadata": {},
   "outputs": [],
   "source": [
    "plot_spectrogram(spg.sr_wm_ref, hyp)"
   ]
  },
  {
   "cell_type": "code",
   "execution_count": null,
   "metadata": {},
   "outputs": [],
   "source": []
  }
 ],
 "metadata": {
  "kernelspec": {
   "display_name": "Python 3",
   "language": "python",
   "name": "python3"
  },
  "language_info": {
   "codemirror_mode": {
    "name": "ipython",
    "version": 3
   },
   "file_extension": ".py",
   "mimetype": "text/x-python",
   "name": "python",
   "nbconvert_exporter": "python",
   "pygments_lexer": "ipython3",
   "version": "3.7.9"
  }
 },
 "nbformat": 4,
 "nbformat_minor": 4
}
