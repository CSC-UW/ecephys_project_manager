{
 "cells": [
  {
   "cell_type": "code",
   "execution_count": 1,
   "metadata": {
    "execution": {
     "iopub.execute_input": "2021-05-13T19:13:18.021985Z",
     "iopub.status.busy": "2021-05-13T19:13:18.021408Z",
     "iopub.status.idle": "2021-05-13T19:13:18.040205Z",
     "shell.execute_reply": "2021-05-13T19:13:18.039554Z",
     "shell.execute_reply.started": "2021-05-13T19:13:18.021921Z"
    }
   },
   "outputs": [],
   "source": [
    "%load_ext autoreload\n",
    "%autoreload 2"
   ]
  },
  {
   "cell_type": "code",
   "execution_count": 2,
   "metadata": {
    "execution": {
     "iopub.execute_input": "2021-05-13T19:13:18.243451Z",
     "iopub.status.busy": "2021-05-13T19:13:18.243122Z",
     "iopub.status.idle": "2021-05-13T19:13:18.438366Z",
     "shell.execute_reply": "2021-05-13T19:13:18.437562Z",
     "shell.execute_reply.started": "2021-05-13T19:13:18.243411Z"
    }
   },
   "outputs": [],
   "source": [
    "%matplotlib widget"
   ]
  },
  {
   "cell_type": "code",
   "execution_count": 93,
   "metadata": {
    "execution": {
     "iopub.execute_input": "2021-05-13T20:39:30.220116Z",
     "iopub.status.busy": "2021-05-13T20:39:30.219608Z",
     "iopub.status.idle": "2021-05-13T20:39:30.243777Z",
     "shell.execute_reply": "2021-05-13T20:39:30.243215Z",
     "shell.execute_reply.started": "2021-05-13T20:39:30.220054Z"
    }
   },
   "outputs": [
    {
     "data": {
      "text/plain": [
       "<xarray.core.options.set_options at 0x7fc1e6f74a90>"
      ]
     },
     "execution_count": 93,
     "metadata": {},
     "output_type": "execute_result"
    }
   ],
   "source": [
    "import numpy as np\n",
    "import pandas as pd\n",
    "import xarray as xr\n",
    "import matplotlib.pyplot as plt\n",
    "import seaborn as sns\n",
    "import ecephys_analyses as ea\n",
    "import ecephys.plot as eplt\n",
    "\n",
    "# For plotting bandpower\n",
    "from ecephys.utils.xarray import get_smoothed_da\n",
    "\n",
    "xr.set_options(keep_attrs=True)"
   ]
  },
  {
   "cell_type": "code",
   "execution_count": 197,
   "metadata": {
    "execution": {
     "iopub.execute_input": "2021-05-14T22:28:25.791442Z",
     "iopub.status.busy": "2021-05-14T22:28:25.790961Z",
     "iopub.status.idle": "2021-05-14T22:28:28.188609Z",
     "shell.execute_reply": "2021-05-14T22:28:28.187987Z",
     "shell.execute_reply.started": "2021-05-14T22:28:25.791382Z"
    }
   },
   "outputs": [],
   "source": [
    "subject = \"Allan\"\n",
    "experiment = \"ketamine\"\n",
    "condition = \"all\"\n",
    "\n",
    "spg = ea.load_spectrogram(subject, experiment, condition)\n",
    "hyp = ea.load_hypnogram(subject, experiment, condition)\n",
    "bp = ea.load_bandpower(subject, experiment, condition)"
   ]
  },
  {
   "cell_type": "code",
   "execution_count": 201,
   "metadata": {
    "execution": {
     "iopub.execute_input": "2021-05-14T22:30:22.695884Z",
     "iopub.status.busy": "2021-05-14T22:30:22.695313Z",
     "iopub.status.idle": "2021-05-14T22:30:22.727145Z",
     "shell.execute_reply": "2021-05-14T22:30:22.726358Z",
     "shell.execute_reply.started": "2021-05-14T22:30:22.695795Z"
    }
   },
   "outputs": [],
   "source": [
    "def plot_spectrogram_with_bandpower(spg, hyp, bp, title=None, figsize=(22, 5)):\n",
    "    fig, (bp_ax, spg_ax) = plt.subplots(ncols=1, nrows=2, figsize=figsize, gridspec_kw=dict(width_ratios=[1], height_ratios=[1, 1]))\n",
    "    \n",
    "    bp = get_smoothed_da(bp)\n",
    "    sns.lineplot(x=bp.time, y=bp, color='black', ax=bp_ax)\n",
    "    bp_ax.set(xlabel=None, ylabel=\"Bandpower\", xticks=[], xmargin=0)\n",
    "    eplt.plot_hypnogram_overlay(hyp, ax=bp_ax)\n",
    "    \n",
    "    eplt.plot_spectrogram(spg.frequency, spg.time, spg, yscale=\"log\", f_range=(0, 100), ax=spg_ax)\n",
    "\n",
    "    if title:\n",
    "        fig.suptitle(title)\n",
    "    plt.tight_layout(h_pad=0.0)"
   ]
  },
  {
   "cell_type": "code",
   "execution_count": 202,
   "metadata": {
    "execution": {
     "iopub.execute_input": "2021-05-14T22:30:22.990508Z",
     "iopub.status.busy": "2021-05-14T22:30:22.990268Z",
     "iopub.status.idle": "2021-05-14T22:30:24.565876Z",
     "shell.execute_reply": "2021-05-14T22:30:24.565203Z",
     "shell.execute_reply.started": "2021-05-14T22:30:22.990481Z"
    }
   },
   "outputs": [
    {
     "data": {
      "application/vnd.jupyter.widget-view+json": {
       "model_id": "7573b8c4858c496fb54f07610ec33ab2",
       "version_major": 2,
       "version_minor": 0
      },
      "text/plain": [
       "Canvas(toolbar=Toolbar(toolitems=[('Home', 'Reset original view', 'home', 'home'), ('Back', 'Back to previous …"
      ]
     },
     "metadata": {},
     "output_type": "display_data"
    }
   ],
   "source": [
    "plot_spectrogram_with_bandpower(spg.mpta_wm_ref, hyp, bp.mpta_delta_wm_ref, title=f\"{subject}, {experiment}, cortical delta, WM ref\")"
   ]
  },
  {
   "cell_type": "code",
   "execution_count": 203,
   "metadata": {
    "execution": {
     "iopub.execute_input": "2021-05-14T22:30:33.855568Z",
     "iopub.status.busy": "2021-05-14T22:30:33.855411Z",
     "iopub.status.idle": "2021-05-14T22:30:35.386633Z",
     "shell.execute_reply": "2021-05-14T22:30:35.385883Z",
     "shell.execute_reply.started": "2021-05-14T22:30:33.855543Z"
    }
   },
   "outputs": [
    {
     "data": {
      "application/vnd.jupyter.widget-view+json": {
       "model_id": "408cdadc20404aa98a1bee822faebd02",
       "version_major": 2,
       "version_minor": 0
      },
      "text/plain": [
       "Canvas(toolbar=Toolbar(toolitems=[('Home', 'Reset original view', 'home', 'home'), ('Back', 'Back to previous …"
      ]
     },
     "metadata": {},
     "output_type": "display_data"
    }
   ],
   "source": [
    "plot_spectrogram_with_bandpower(spg.sr_wm_ref, hyp, bp.sr_delta_wm_ref, title=f\"{subject}, {experiment}, stratum radiatum delta, WM ref\")"
   ]
  },
  {
   "cell_type": "code",
   "execution_count": null,
   "metadata": {},
   "outputs": [],
   "source": []
  },
  {
   "cell_type": "code",
   "execution_count": 48,
   "metadata": {
    "execution": {
     "iopub.execute_input": "2021-05-13T19:52:07.083776Z",
     "iopub.status.busy": "2021-05-13T19:52:07.083614Z",
     "iopub.status.idle": "2021-05-13T19:52:07.101966Z",
     "shell.execute_reply": "2021-05-13T19:52:07.101072Z",
     "shell.execute_reply.started": "2021-05-13T19:52:07.083750Z"
    }
   },
   "outputs": [],
   "source": [
    "def plot_spectrogram(spg, hyp, figsize=(22, 3)):\n",
    "    fig, (hyp_ax, spg_ax) = plt.subplots(ncols=1, nrows=2, figsize=figsize, gridspec_kw=dict(width_ratios=[1], height_ratios=[1, 10]))\n",
    "    eplt.plot_spectrogram(spg.frequency, spg.time, spg, yscale=\"linear\", f_range=(0, 20), ax=spg_ax)\n",
    "    eplt.plot_hypnogram_overlay(hyp, xlim=spg_ax.get_xlim(), ax=hyp_ax)\n",
    "    hyp_ax.set(xticks=[], yticks=[])\n",
    "    plt.tight_layout(h_pad=0.0)"
   ]
  },
  {
   "cell_type": "code",
   "execution_count": null,
   "metadata": {},
   "outputs": [],
   "source": [
    "plot_spectrogram(spg.mpta_wm_ref, hyp)"
   ]
  },
  {
   "cell_type": "code",
   "execution_count": null,
   "metadata": {},
   "outputs": [],
   "source": [
    "plot_spectrogram(spg.sr_wm_ref, hyp)"
   ]
  },
  {
   "cell_type": "code",
   "execution_count": null,
   "metadata": {},
   "outputs": [],
   "source": []
  }
 ],
 "metadata": {
  "kernelspec": {
   "display_name": "Python 3",
   "language": "python",
   "name": "python3"
  },
  "language_info": {
   "codemirror_mode": {
    "name": "ipython",
    "version": 3
   },
   "file_extension": ".py",
   "mimetype": "text/x-python",
   "name": "python",
   "nbconvert_exporter": "python",
   "pygments_lexer": "ipython3",
   "version": "3.7.9"
  }
 },
 "nbformat": 4,
 "nbformat_minor": 4
}
