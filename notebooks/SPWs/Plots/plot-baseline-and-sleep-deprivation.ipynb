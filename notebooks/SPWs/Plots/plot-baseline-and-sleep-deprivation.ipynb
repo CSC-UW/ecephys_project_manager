{
 "cells": [
  {
   "cell_type": "code",
   "execution_count": 1,
   "metadata": {
    "execution": {
     "iopub.execute_input": "2021-03-24T15:45:36.662126Z",
     "iopub.status.busy": "2021-03-24T15:45:36.661821Z",
     "iopub.status.idle": "2021-03-24T15:45:36.684018Z",
     "shell.execute_reply": "2021-03-24T15:45:36.682806Z",
     "shell.execute_reply.started": "2021-03-24T15:45:36.662086Z"
    }
   },
   "outputs": [],
   "source": [
    "%load_ext autoreload\n",
    "%autoreload 2"
   ]
  },
  {
   "cell_type": "code",
   "execution_count": 2,
   "metadata": {
    "execution": {
     "iopub.execute_input": "2021-03-24T15:45:36.932482Z",
     "iopub.status.busy": "2021-03-24T15:45:36.931915Z",
     "iopub.status.idle": "2021-03-24T15:45:37.870956Z",
     "shell.execute_reply": "2021-03-24T15:45:37.869453Z",
     "shell.execute_reply.started": "2021-03-24T15:45:36.932415Z"
    }
   },
   "outputs": [],
   "source": [
    "%matplotlib widget\n",
    "import matplotlib.pyplot as plt\n",
    "import seaborn as sns"
   ]
  },
  {
   "cell_type": "code",
   "execution_count": 3,
   "metadata": {
    "execution": {
     "iopub.execute_input": "2021-03-24T15:45:37.903374Z",
     "iopub.status.busy": "2021-03-24T15:45:37.902917Z",
     "iopub.status.idle": "2021-03-24T15:45:38.485011Z",
     "shell.execute_reply": "2021-03-24T15:45:38.483608Z",
     "shell.execute_reply.started": "2021-03-24T15:45:37.903326Z"
    }
   },
   "outputs": [],
   "source": [
    "import numpy as np\n",
    "import pandas as pd\n",
    "import xarray as xr"
   ]
  },
  {
   "cell_type": "code",
   "execution_count": 4,
   "metadata": {
    "execution": {
     "iopub.execute_input": "2021-03-24T15:45:38.487702Z",
     "iopub.status.busy": "2021-03-24T15:45:38.487285Z",
     "iopub.status.idle": "2021-03-24T15:45:38.780000Z",
     "shell.execute_reply": "2021-03-24T15:45:38.778688Z",
     "shell.execute_reply.started": "2021-03-24T15:45:38.487643Z"
    }
   },
   "outputs": [],
   "source": [
    "from ecephys_analyses.data import paths\n",
    "from ecephys.scoring import load_datetime_hypnogram, filter_states\n",
    "from ecephys.utils import load_df_h5, replace_outliers\n",
    "from ecephys.signal.sharp_wave_ripples import get_events_in_interval\n",
    "import ecephys.plot as eplt\n",
    "from neurodsp.plts.time_series import plot_time_series"
   ]
  },
  {
   "cell_type": "code",
   "execution_count": 5,
   "metadata": {
    "execution": {
     "iopub.execute_input": "2021-03-24T15:45:38.851502Z",
     "iopub.status.busy": "2021-03-24T15:45:38.851139Z",
     "iopub.status.idle": "2021-03-24T15:45:38.882743Z",
     "shell.execute_reply": "2021-03-24T15:45:38.881498Z",
     "shell.execute_reply.started": "2021-03-24T15:45:38.851447Z"
    }
   },
   "outputs": [],
   "source": [
    "from ripple_detection.core import gaussian_smooth\n",
    "\n",
    "def my_gaussian_smooth(da, smoothing_sigma=10):\n",
    "    estimated_fs = 1 / np.diff(da.time.values).mean()\n",
    "    return gaussian_smooth(da, smoothing_sigma, estimated_fs)"
   ]
  },
  {
   "cell_type": "code",
   "execution_count": 8,
   "metadata": {
    "execution": {
     "iopub.execute_input": "2021-03-24T15:47:03.463546Z",
     "iopub.status.busy": "2021-03-24T15:47:03.462980Z",
     "iopub.status.idle": "2021-03-24T15:47:03.540610Z",
     "shell.execute_reply": "2021-03-24T15:47:03.535461Z",
     "shell.execute_reply.started": "2021-03-24T15:47:03.463475Z"
    }
   },
   "outputs": [],
   "source": [
    "def load_condition_data(subject, experiment, condition):\n",
    "    hypnogram_paths = paths.get_sglx_style_datapaths(subject=subject, experiment=experiment, condition=condition, ext=\"hypnogram.tsv\")\n",
    "    hypnograms = [load_datetime_hypnogram(path) for path in hypnogram_paths]\n",
    "    hypnogram = pd.concat(hypnograms).reset_index(drop=True)\n",
    "    condition_start_dt = hypnogram['start_time'].iloc[0]\n",
    "    \n",
    "    spw_paths = paths.get_sglx_style_datapaths(subject=subject, experiment=experiment, condition=condition, ext=\"spws.h5\")\n",
    "    spws = [load_df_h5(path) for path in spw_paths]\n",
    "    \n",
    "    for _spws, _hypnogram in zip(spws, hypnograms):\n",
    "        file_start_dt = _hypnogram['start_time'].min()\n",
    "        _spws['start_time'] = file_start_dt + pd.to_timedelta(_spws['start_time'], 's')\n",
    "        _spws['end_time'] = file_start_dt + pd.to_timedelta(_spws['end_time'], 's')\n",
    "        _spws['midpoint'] = file_start_dt + pd.to_timedelta(_spws['midpoint'], 's')\n",
    "        #spws['duration'] = pd.to_timedelta(spws['duration'], 's')\n",
    "        _spws['time_from_condition_start'] = _spws['start_time'] - condition_start_dt\n",
    "    \n",
    "    combined_spws = pd.concat(spws).reset_index(drop=True)\n",
    "    combined_spws.index += 1\n",
    "    combined_spws.index = combined_spws.index.rename('spw_number')\n",
    "    spws = combined_spws\n",
    "    \n",
    "    bandpower_paths = paths.get_sglx_style_datapaths(subject=subject, experiment=experiment, condition=condition, ext=\"pow.nc\")\n",
    "    bandpowers = [xr.open_dataset(path) for path in bandpower_paths]\n",
    "    for bp in bandpowers:\n",
    "        bp.mpta_delta.values = my_gaussian_smooth(bp.mpta_delta, smoothing_sigma=10)\n",
    "        bp.sr_delta.values = my_gaussian_smooth(bp.sr_delta, smoothing_sigma=10)\n",
    "        bp['time'] = pd.to_datetime(bp.mpta_delta.file_start) + pd.to_timedelta(bp.time.values, 's')\n",
    "    bandpower = xr.concat(bandpowers, dim=\"time\")\n",
    "    \n",
    "    return hypnogram, spws, bandpower"
   ]
  },
  {
   "cell_type": "code",
   "execution_count": 9,
   "metadata": {
    "execution": {
     "iopub.execute_input": "2021-03-24T15:47:04.522691Z",
     "iopub.status.busy": "2021-03-24T15:47:04.522261Z",
     "iopub.status.idle": "2021-03-24T15:47:04.553855Z",
     "shell.execute_reply": "2021-03-24T15:47:04.552661Z",
     "shell.execute_reply.started": "2021-03-24T15:47:04.522644Z"
    }
   },
   "outputs": [],
   "source": [
    "subject = \"Doppio\"\n",
    "experiment = \"sleep-homeostasis\"\n",
    "bsl_condition = \"light-period-circadian-match\"\n",
    "exp_condition = \"light-period\""
   ]
  },
  {
   "cell_type": "code",
   "execution_count": 38,
   "metadata": {
    "execution": {
     "iopub.execute_input": "2021-03-24T16:03:30.813270Z",
     "iopub.status.busy": "2021-03-24T16:03:30.812898Z",
     "iopub.status.idle": "2021-03-24T16:03:30.847386Z",
     "shell.execute_reply": "2021-03-24T16:03:30.846249Z",
     "shell.execute_reply.started": "2021-03-24T16:03:30.813213Z"
    }
   },
   "outputs": [],
   "source": [
    "MPTA_SWA_LIM = (0, 90000)\n",
    "SR_SWA_LIM = (0, 150000)\n",
    "DENSITY_LIM = (0, 20)\n",
    "DURATION_LIM = (0, 0.3)\n",
    "AMPLITUDE_LIM = (-0.135, -0.025)\n",
    "INTEGRAL_LIM = (-13.0, 0)"
   ]
  },
  {
   "cell_type": "code",
   "execution_count": 39,
   "metadata": {
    "execution": {
     "iopub.execute_input": "2021-03-24T16:03:30.849616Z",
     "iopub.status.busy": "2021-03-24T16:03:30.849290Z",
     "iopub.status.idle": "2021-03-24T16:03:32.602541Z",
     "shell.execute_reply": "2021-03-24T16:03:32.601126Z",
     "shell.execute_reply.started": "2021-03-24T16:03:30.849573Z"
    }
   },
   "outputs": [],
   "source": [
    "(bsl_hypnogram, bsl_spws, bsl_power) = load_condition_data(subject, experiment, bsl_condition)\n",
    "(exp_hypnogram, exp_spws, exp_power) = load_condition_data(subject, experiment, exp_condition)"
   ]
  },
  {
   "cell_type": "code",
   "execution_count": 40,
   "metadata": {
    "execution": {
     "iopub.execute_input": "2021-03-24T16:03:32.605033Z",
     "iopub.status.busy": "2021-03-24T16:03:32.604651Z",
     "iopub.status.idle": "2021-03-24T16:03:32.677927Z",
     "shell.execute_reply": "2021-03-24T16:03:32.674395Z",
     "shell.execute_reply.started": "2021-03-24T16:03:32.604980Z"
    }
   },
   "outputs": [],
   "source": [
    "def plot_condition(hypnogram, spws, power):\n",
    "\n",
    "    fig, (mpta_swa_ax, sr_swa_ax, density_ax, duration_ax, amplitude_ax, integral_ax) = plt.subplots(6, 1, figsize=(22,12))\n",
    "\n",
    "    xmargin=0\n",
    "\n",
    "    sns.lineplot(x=power.time.values, y=power.mpta_delta.values, color='black', ax=mpta_swa_ax)\n",
    "    mpta_swa_ax.set(xlabel=None, ylabel='CTX SWA (uV^2/Hz)', ylim=MPTA_SWA_LIM, xmargin=xmargin, xticks=[])\n",
    "\n",
    "    sns.lineplot(x=power.time.values, y=power.sr_delta.values, color='black', ax=sr_swa_ax)\n",
    "    sr_swa_ax.set(xlabel=None, ylabel='HPC SWA (uV^2/Hz)', ylim=SR_SWA_LIM, xmargin=xmargin, xticks=[])\n",
    "\n",
    "    binwidth = 10\n",
    "    nbins = np.int((spws.start_time.max() - spws.start_time.min()).total_seconds() / binwidth)\n",
    "    sns.histplot(data=spws, x='start_time', bins=nbins, color='black', ax=density_ax)\n",
    "    density_ax.set(xlabel=None, ylabel='Frequency (Hz)', ylim=DENSITY_LIM, xmargin=xmargin, xticks=[])\n",
    "\n",
    "    sns.scatterplot(data=spws, x=\"start_time\", y=\"duration\", s=2, ax=duration_ax)\n",
    "    duration_ax.set(xlabel=None, ylabel=\"Duration (s)\", ylim=DURATION_LIM, xmargin=xmargin, xticks=[])\n",
    "\n",
    "    sns.scatterplot(data=spws, x='start_time', y='sink_amplitude', s=2, ax=amplitude_ax)\n",
    "    amplitude_ax.set(xlabel=None, ylabel=\"Sink amplitude (mA/mm)\", ylim=AMPLITUDE_LIM, xmargin=xmargin, xticks=[])\n",
    "\n",
    "    sns.scatterplot(data=spws, x='start_time', y='sink_integral', s=2, ax=integral_ax)\n",
    "    integral_ax.set(xlabel=\"Event time (month-date hour)\", ylabel=\"Sink integral (mA * ms)\", ylim=INTEGRAL_LIM, xmargin=xmargin)\n",
    "\n",
    "    for ax in (mpta_swa_ax, sr_swa_ax, density_ax, duration_ax, amplitude_ax, integral_ax):\n",
    "        eplt.plot_hypnogram_overlay(hypnogram, ax=ax)\n",
    "\n",
    "    plt.tight_layout()"
   ]
  },
  {
   "cell_type": "code",
   "execution_count": 41,
   "metadata": {
    "execution": {
     "iopub.execute_input": "2021-03-24T16:03:32.680310Z",
     "iopub.status.busy": "2021-03-24T16:03:32.679767Z",
     "iopub.status.idle": "2021-03-24T16:04:01.116594Z",
     "shell.execute_reply": "2021-03-24T16:04:01.115476Z",
     "shell.execute_reply.started": "2021-03-24T16:03:32.680255Z"
    }
   },
   "outputs": [
    {
     "data": {
      "application/vnd.jupyter.widget-view+json": {
       "model_id": "cc6c26f788e44795b54fadc0c3c3bb47",
       "version_major": 2,
       "version_minor": 0
      },
      "text/plain": [
       "Canvas(toolbar=Toolbar(toolitems=[('Home', 'Reset original view', 'home', 'home'), ('Back', 'Back to previous …"
      ]
     },
     "metadata": {},
     "output_type": "display_data"
    }
   ],
   "source": [
    "plot_condition(bsl_hypnogram, bsl_spws, bsl_power)"
   ]
  },
  {
   "cell_type": "code",
   "execution_count": 42,
   "metadata": {
    "execution": {
     "iopub.execute_input": "2021-03-24T16:04:01.118642Z",
     "iopub.status.busy": "2021-03-24T16:04:01.118325Z",
     "iopub.status.idle": "2021-03-24T16:04:19.601673Z",
     "shell.execute_reply": "2021-03-24T16:04:19.600497Z",
     "shell.execute_reply.started": "2021-03-24T16:04:01.118593Z"
    }
   },
   "outputs": [
    {
     "data": {
      "application/vnd.jupyter.widget-view+json": {
       "model_id": "cf3479bd4e20454fbdea5d675481cb26",
       "version_major": 2,
       "version_minor": 0
      },
      "text/plain": [
       "Canvas(toolbar=Toolbar(toolitems=[('Home', 'Reset original view', 'home', 'home'), ('Back', 'Back to previous …"
      ]
     },
     "metadata": {},
     "output_type": "display_data"
    }
   ],
   "source": [
    "plot_condition(exp_hypnogram, exp_spws, exp_power)"
   ]
  },
  {
   "cell_type": "code",
   "execution_count": 43,
   "metadata": {
    "execution": {
     "iopub.execute_input": "2021-03-24T16:04:19.604577Z",
     "iopub.status.busy": "2021-03-24T16:04:19.604345Z",
     "iopub.status.idle": "2021-03-24T16:04:19.679975Z",
     "shell.execute_reply": "2021-03-24T16:04:19.679063Z",
     "shell.execute_reply.started": "2021-03-24T16:04:19.604546Z"
    }
   },
   "outputs": [],
   "source": [
    "def plot_both_conditions(bsl_hypnogram, bsl_spws, bsl_power, exp_hypnogram, exp_spws, exp_power):\n",
    "\n",
    "    fig, (bsl_swa_ax, bsl_density_ax, bsl_amplitude_ax, exp_swa_ax, exp_density_ax, exp_amplitude_ax) = plt.subplots(6, 1, figsize=(22,12))\n",
    "\n",
    "    xmargin=0\n",
    "\n",
    "    # Baseline\n",
    "    sns.lineplot(x=bsl_power.time.values, y=bsl_power.mpta_delta.values, color='black', ax=bsl_swa_ax)\n",
    "    bsl_swa_ax.set(xlabel=None, ylabel='BSL CTX SWA (uV^2/Hz)', ylim=MPTA_SWA_LIM, xmargin=xmargin, xticks=[])\n",
    "\n",
    "    binwidth = 10\n",
    "    nbins = np.int((bsl_spws.start_time.max() - bsl_spws.start_time.min()).total_seconds() / binwidth)\n",
    "    sns.histplot(data=bsl_spws, x='start_time', bins=nbins, color='black', ax=bsl_density_ax)\n",
    "    bsl_density_ax.set(xlabel=None, ylabel='BSL Frequency (Hz)', ylim=DENSITY_LIM, xmargin=xmargin, xticks=[])\n",
    "    \n",
    "    sns.scatterplot(data=bsl_spws, x='start_time', y='sink_amplitude', s=2, ax=bsl_amplitude_ax)\n",
    "    bsl_amplitude_ax.set(xlabel=None, ylabel=\"BSL Sink amp. (mA/mm)\", ylim=AMPLITUDE_LIM, xmargin=xmargin, xticks=[])\n",
    "    \n",
    "    for ax in (bsl_swa_ax, bsl_density_ax, bsl_amplitude_ax):\n",
    "        eplt.plot_hypnogram_overlay(bsl_hypnogram, ax=ax)\n",
    "\n",
    "    # Experiment\n",
    "    sns.lineplot(x=exp_power.time.values, y=exp_power.mpta_delta.values, color='black', ax=exp_swa_ax)\n",
    "    exp_swa_ax.set(xlabel=None, ylabel='EXP CTX SWA (uV^2/Hz)', ylim=MPTA_SWA_LIM, xmargin=xmargin, xticks=[])\n",
    "\n",
    "    binwidth = 10\n",
    "    nbins = np.int((exp_spws.start_time.max() - exp_spws.start_time.min()).total_seconds() / binwidth)\n",
    "    sns.histplot(data=exp_spws, x='start_time', bins=nbins, color='black', ax=exp_density_ax)\n",
    "    exp_density_ax.set(xlabel=None, ylabel='EXP Frequency (Hz)', ylim=DENSITY_LIM, xmargin=xmargin, xticks=[])\n",
    "    \n",
    "    sns.scatterplot(data=exp_spws, x='start_time', y='sink_amplitude', s=2, ax=exp_amplitude_ax)\n",
    "    exp_amplitude_ax.set(xlabel=None, ylabel=\"EXP Sink amp. (mA/mm)\", ylim=AMPLITUDE_LIM, xmargin=xmargin, xticks=[])\n",
    "        \n",
    "    for ax in (exp_swa_ax, exp_density_ax, exp_amplitude_ax):\n",
    "        eplt.plot_hypnogram_overlay(exp_hypnogram, ax=ax)\n",
    "\n",
    "    plt.tight_layout()"
   ]
  },
  {
   "cell_type": "code",
   "execution_count": 44,
   "metadata": {
    "execution": {
     "iopub.execute_input": "2021-03-24T16:04:19.685660Z",
     "iopub.status.busy": "2021-03-24T16:04:19.685362Z",
     "iopub.status.idle": "2021-03-24T16:04:43.859326Z",
     "shell.execute_reply": "2021-03-24T16:04:43.858040Z",
     "shell.execute_reply.started": "2021-03-24T16:04:19.685617Z"
    }
   },
   "outputs": [
    {
     "data": {
      "application/vnd.jupyter.widget-view+json": {
       "model_id": "b713699bf0e04f36bea0371bbdbc4331",
       "version_major": 2,
       "version_minor": 0
      },
      "text/plain": [
       "Canvas(toolbar=Toolbar(toolitems=[('Home', 'Reset original view', 'home', 'home'), ('Back', 'Back to previous …"
      ]
     },
     "metadata": {},
     "output_type": "display_data"
    }
   ],
   "source": [
    "plot_both_conditions(bsl_hypnogram, bsl_spws, bsl_power, exp_hypnogram, exp_spws, exp_power)"
   ]
  },
  {
   "cell_type": "code",
   "execution_count": null,
   "metadata": {},
   "outputs": [],
   "source": []
  },
  {
   "cell_type": "code",
   "execution_count": null,
   "metadata": {},
   "outputs": [],
   "source": []
  }
 ],
 "metadata": {
  "kernelspec": {
   "display_name": "Python 3",
   "language": "python",
   "name": "python3"
  },
  "language_info": {
   "codemirror_mode": {
    "name": "ipython",
    "version": 3
   },
   "file_extension": ".py",
   "mimetype": "text/x-python",
   "name": "python",
   "nbconvert_exporter": "python",
   "pygments_lexer": "ipython3",
   "version": "3.7.9"
  }
 },
 "nbformat": 4,
 "nbformat_minor": 4
}
