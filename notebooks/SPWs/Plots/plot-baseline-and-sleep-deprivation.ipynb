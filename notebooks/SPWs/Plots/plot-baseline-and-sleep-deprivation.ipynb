{
 "cells": [
  {
   "cell_type": "code",
   "execution_count": 73,
   "metadata": {
    "execution": {
     "iopub.execute_input": "2021-04-13T00:07:35.711514Z",
     "iopub.status.busy": "2021-04-13T00:07:35.711312Z",
     "iopub.status.idle": "2021-04-13T00:07:36.433383Z",
     "shell.execute_reply": "2021-04-13T00:07:36.432684Z",
     "shell.execute_reply.started": "2021-04-13T00:07:35.711484Z"
    }
   },
   "outputs": [
    {
     "name": "stdout",
     "output_type": "stream",
     "text": [
      "The autoreload extension is already loaded. To reload it, use:\n",
      "  %reload_ext autoreload\n"
     ]
    }
   ],
   "source": [
    "%load_ext autoreload\n",
    "%autoreload 2"
   ]
  },
  {
   "cell_type": "code",
   "execution_count": 74,
   "metadata": {
    "execution": {
     "iopub.execute_input": "2021-04-13T00:07:36.434517Z",
     "iopub.status.busy": "2021-04-13T00:07:36.434350Z",
     "iopub.status.idle": "2021-04-13T00:07:36.461392Z",
     "shell.execute_reply": "2021-04-13T00:07:36.460422Z",
     "shell.execute_reply.started": "2021-04-13T00:07:36.434496Z"
    }
   },
   "outputs": [],
   "source": [
    "%matplotlib widget\n",
    "import matplotlib.pyplot as plt\n",
    "import seaborn as sns"
   ]
  },
  {
   "cell_type": "code",
   "execution_count": 75,
   "metadata": {
    "execution": {
     "iopub.execute_input": "2021-04-13T00:07:36.462930Z",
     "iopub.status.busy": "2021-04-13T00:07:36.462753Z",
     "iopub.status.idle": "2021-04-13T00:07:36.479663Z",
     "shell.execute_reply": "2021-04-13T00:07:36.478955Z",
     "shell.execute_reply.started": "2021-04-13T00:07:36.462908Z"
    }
   },
   "outputs": [],
   "source": [
    "import numpy as np\n",
    "import pandas as pd\n",
    "import xarray as xr"
   ]
  },
  {
   "cell_type": "code",
   "execution_count": 76,
   "metadata": {
    "execution": {
     "iopub.execute_input": "2021-04-13T00:07:36.480876Z",
     "iopub.status.busy": "2021-04-13T00:07:36.480716Z",
     "iopub.status.idle": "2021-04-13T00:07:36.498141Z",
     "shell.execute_reply": "2021-04-13T00:07:36.497196Z",
     "shell.execute_reply.started": "2021-04-13T00:07:36.480856Z"
    }
   },
   "outputs": [],
   "source": [
    "from ecephys_analyses.data import paths\n",
    "from ecephys.scoring import load_datetime_hypnogram, filter_states\n",
    "from ecephys.utils import load_df_h5, replace_outliers\n",
    "from ecephys.signal.sharp_wave_ripples import get_events_in_interval\n",
    "import ecephys.plot as eplt\n",
    "from neurodsp.plts.time_series import plot_time_series"
   ]
  },
  {
   "cell_type": "code",
   "execution_count": 94,
   "metadata": {
    "execution": {
     "iopub.execute_input": "2021-04-13T00:12:20.795723Z",
     "iopub.status.busy": "2021-04-13T00:12:20.795554Z",
     "iopub.status.idle": "2021-04-13T00:12:20.813439Z",
     "shell.execute_reply": "2021-04-13T00:12:20.812793Z",
     "shell.execute_reply.started": "2021-04-13T00:12:20.795700Z"
    }
   },
   "outputs": [],
   "source": [
    "from ripple_detection.core import gaussian_smooth\n",
    "\n",
    "def my_gaussian_smooth(da, smoothing_sigma=10):\n",
    "    estimated_fs = 1 / np.diff(da.time.values).mean()\n",
    "    return gaussian_smooth(da, smoothing_sigma, estimated_fs)"
   ]
  },
  {
   "cell_type": "code",
   "execution_count": 131,
   "metadata": {
    "execution": {
     "iopub.execute_input": "2021-04-13T16:50:36.746196Z",
     "iopub.status.busy": "2021-04-13T16:50:36.745778Z",
     "iopub.status.idle": "2021-04-13T16:50:36.791457Z",
     "shell.execute_reply": "2021-04-13T16:50:36.790543Z",
     "shell.execute_reply.started": "2021-04-13T16:50:36.746151Z"
    }
   },
   "outputs": [],
   "source": [
    "def load_condition_data(subject, experiment, condition):\n",
    "    hypnogram_paths = paths.get_sglx_style_datapaths(subject=subject, experiment=experiment, condition=condition, ext=\"hypnogram.tsv\")\n",
    "    hypnograms = [load_datetime_hypnogram(path) for path in hypnogram_paths]\n",
    "    hypnogram = pd.concat(hypnograms).reset_index(drop=True)\n",
    "    condition_start_dt = hypnogram['start_time'].iloc[0]\n",
    "    \n",
    "    spw_paths = paths.get_sglx_style_datapaths(subject=subject, experiment=experiment, condition=condition, ext=\"spws.h5\")\n",
    "    spws = [load_df_h5(path) for path in spw_paths]\n",
    "    \n",
    "    for _spws, _hypnogram in zip(spws, hypnograms):\n",
    "        file_start_dt = _hypnogram['start_time'].min()\n",
    "        if _spws.empty: \n",
    "            continue\n",
    "        _spws['start_time'] = file_start_dt + pd.to_timedelta(_spws['start_time'], 's')\n",
    "        _spws['end_time'] = file_start_dt + pd.to_timedelta(_spws['end_time'], 's')\n",
    "        _spws['midpoint'] = file_start_dt + pd.to_timedelta(_spws['midpoint'], 's')\n",
    "        #spws['duration'] = pd.to_timedelta(spws['duration'], 's')\n",
    "        _spws['time_from_condition_start'] = _spws['start_time'] - condition_start_dt\n",
    "    \n",
    "    combined_spws = pd.concat(spws).reset_index(drop=True)\n",
    "    combined_spws.index += 1\n",
    "    combined_spws.index = combined_spws.index.rename('spw_number')\n",
    "    spws = combined_spws\n",
    "    \n",
    "    bandpower_paths = paths.get_sglx_style_datapaths(subject=subject, experiment=experiment, condition=condition, ext=\"pow2.nc\")\n",
    "    bandpowers = [xr.open_dataset(path) for path in bandpower_paths]\n",
    "    for bp in bandpowers:\n",
    "        bp.mpta_delta_wm_ref.values = my_gaussian_smooth(bp.mpta_delta_wm_ref, smoothing_sigma=10)\n",
    "        bp.sr_delta_wm_ref.values = my_gaussian_smooth(bp.sr_delta_wm_ref, smoothing_sigma=10)\n",
    "        bp['time'] = pd.to_datetime(bp.mpta_delta_wm_ref.file_start) + pd.to_timedelta(bp.time.values, 's')\n",
    "    bandpower = xr.concat(bandpowers, dim=\"time\")\n",
    "    \n",
    "    return hypnogram, spws, bandpower"
   ]
  },
  {
   "cell_type": "code",
   "execution_count": 132,
   "metadata": {
    "execution": {
     "iopub.execute_input": "2021-04-13T16:50:37.253153Z",
     "iopub.status.busy": "2021-04-13T16:50:37.252712Z",
     "iopub.status.idle": "2021-04-13T16:50:37.276061Z",
     "shell.execute_reply": "2021-04-13T16:50:37.275060Z",
     "shell.execute_reply.started": "2021-04-13T16:50:37.253106Z"
    }
   },
   "outputs": [],
   "source": [
    "subject = \"Doppio\"\n",
    "experiment = \"sleep-homeostasis\"\n",
    "bsl_condition = \"light-period-circadian-match\"\n",
    "exp_condition = \"light-period\"\n",
    "\n",
    "MPTA_SWA_LIM = (0, 250000)\n",
    "SR_SWA_LIM = (0, 150000)\n",
    "DENSITY_LIM = (0, 20)\n",
    "DURATION_LIM = (0, 0.3)\n",
    "AMPLITUDE_LIM = (-0.13, -0.0275)\n",
    "INTEGRAL_LIM = (-13, 0)"
   ]
  },
  {
   "cell_type": "code",
   "execution_count": 154,
   "metadata": {
    "execution": {
     "iopub.execute_input": "2021-04-13T16:57:22.842542Z",
     "iopub.status.busy": "2021-04-13T16:57:22.841978Z",
     "iopub.status.idle": "2021-04-13T16:57:22.872588Z",
     "shell.execute_reply": "2021-04-13T16:57:22.871620Z",
     "shell.execute_reply.started": "2021-04-13T16:57:22.842462Z"
    }
   },
   "outputs": [],
   "source": [
    "subject = \"Segundo\"\n",
    "experiment = \"sleep-homeostasis\"\n",
    "bsl_condition = \"light-period-circadian-match\"\n",
    "exp_condition = \"light-period\"\n",
    "\n",
    "MPTA_SWA_LIM = (0, 350000)\n",
    "SR_SWA_LIM = (0, 225000)\n",
    "DENSITY_LIM = (0, 20)\n",
    "DURATION_LIM = (0, 0.3)\n",
    "AMPLITUDE_LIM = (-0.18, -0.04)\n",
    "INTEGRAL_LIM = (-15, 0)"
   ]
  },
  {
   "cell_type": "code",
   "execution_count": 189,
   "metadata": {
    "execution": {
     "iopub.execute_input": "2021-04-13T23:41:58.376306Z",
     "iopub.status.busy": "2021-04-13T23:41:58.376147Z",
     "iopub.status.idle": "2021-04-13T23:41:58.395361Z",
     "shell.execute_reply": "2021-04-13T23:41:58.394245Z",
     "shell.execute_reply.started": "2021-04-13T23:41:58.376285Z"
    }
   },
   "outputs": [],
   "source": [
    "subject = \"Allan\"\n",
    "experiment = \"sleep-homeostasis\"\n",
    "bsl_condition = \"light-period-circadian-match\"\n",
    "exp_condition = \"light-period\"\n",
    "\n",
    "MPTA_SWA_LIM = (0, 350000)\n",
    "SR_SWA_LIM = (0, 150000)\n",
    "DENSITY_LIM = (0, 20)\n",
    "DURATION_LIM = (0, 0.25)\n",
    "AMPLITUDE_LIM = (-0.085, -0.022)\n",
    "INTEGRAL_LIM = (-8, 0)"
   ]
  },
  {
   "cell_type": "code",
   "execution_count": 218,
   "metadata": {
    "execution": {
     "iopub.execute_input": "2021-04-14T00:50:19.684276Z",
     "iopub.status.busy": "2021-04-14T00:50:19.683706Z",
     "iopub.status.idle": "2021-04-14T00:50:19.756937Z",
     "shell.execute_reply": "2021-04-14T00:50:19.755943Z",
     "shell.execute_reply.started": "2021-04-14T00:50:19.684196Z"
    }
   },
   "outputs": [],
   "source": [
    "subject = \"Valentino\"\n",
    "experiment = \"sleep-homeostasis\"\n",
    "bsl_condition = \"light-period-circadian-match\"\n",
    "exp_condition = \"light-period\"\n",
    "\n",
    "MPTA_SWA_LIM = (0, 100000)\n",
    "SR_SWA_LIM = (0, 225000)\n",
    "DENSITY_LIM = (0, 20)\n",
    "DURATION_LIM = (0, 0.3)\n",
    "AMPLITUDE_LIM = (-0.098, -0.022)\n",
    "INTEGRAL_LIM = (-11, 0)"
   ]
  },
  {
   "cell_type": "code",
   "execution_count": 219,
   "metadata": {
    "execution": {
     "iopub.execute_input": "2021-04-14T00:50:19.991539Z",
     "iopub.status.busy": "2021-04-14T00:50:19.990969Z",
     "iopub.status.idle": "2021-04-14T00:50:21.121989Z",
     "shell.execute_reply": "2021-04-14T00:50:21.121005Z",
     "shell.execute_reply.started": "2021-04-14T00:50:19.991476Z"
    }
   },
   "outputs": [],
   "source": [
    "(bsl_hypnogram, bsl_spws, bsl_power) = load_condition_data(subject, experiment, bsl_condition)\n",
    "(exp_hypnogram, exp_spws, exp_power) = load_condition_data(subject, experiment, exp_condition)"
   ]
  },
  {
   "cell_type": "code",
   "execution_count": 220,
   "metadata": {
    "execution": {
     "iopub.execute_input": "2021-04-14T00:50:21.160102Z",
     "iopub.status.busy": "2021-04-14T00:50:21.159652Z",
     "iopub.status.idle": "2021-04-14T00:50:21.200954Z",
     "shell.execute_reply": "2021-04-14T00:50:21.199790Z",
     "shell.execute_reply.started": "2021-04-14T00:50:21.160044Z"
    }
   },
   "outputs": [],
   "source": [
    "def plot_condition(hypnogram, spws, power):\n",
    "\n",
    "    fig, (mpta_swa_ax, sr_swa_ax, density_ax, duration_ax, amplitude_ax, integral_ax) = plt.subplots(6, 1, figsize=(22,12))\n",
    "\n",
    "    xmargin=0\n",
    "\n",
    "    # units = (uV^2/Hz)\n",
    "    sns.lineplot(x=power.time.values, y=power.mpta_delta_wm_ref.values, color='black', ax=mpta_swa_ax)\n",
    "    mpta_swa_ax.set(xlabel=None, ylabel='CTX delta WM ref', ylim=MPTA_SWA_LIM, xmargin=xmargin, xticks=[])\n",
    "\n",
    "    sns.lineplot(x=power.time.values, y=power.sr_delta_wm_ref.values, color='black', ax=sr_swa_ax)\n",
    "    sr_swa_ax.set(xlabel=None, ylabel='HPC delta WM ref', ylim=SR_SWA_LIM, xmargin=xmargin, xticks=[])\n",
    "\n",
    "    binwidth = 10\n",
    "    nbins = np.int((spws.start_time.max() - spws.start_time.min()).total_seconds() / binwidth)\n",
    "    sns.histplot(data=spws, x='start_time', bins=nbins, color='black', ax=density_ax)\n",
    "    density_ax.set(xlabel=None, ylabel='Frequency (Hz)', ylim=DENSITY_LIM, xmargin=xmargin, xticks=[])\n",
    "\n",
    "    sns.scatterplot(data=spws, x=\"start_time\", y=\"duration\", s=2, ax=duration_ax)\n",
    "    duration_ax.set(xlabel=None, ylabel=\"Duration (s)\", ylim=DURATION_LIM, xmargin=xmargin, xticks=[])\n",
    "\n",
    "    sns.scatterplot(data=spws, x='start_time', y='sink_amplitude', s=2, ax=amplitude_ax)\n",
    "    amplitude_ax.set(xlabel=None, ylabel=\"Sink amplitude (mA/mm)\", ylim=AMPLITUDE_LIM, xmargin=xmargin, xticks=[])\n",
    "\n",
    "    sns.scatterplot(data=spws, x='start_time', y='sink_integral', s=2, ax=integral_ax)\n",
    "    integral_ax.set(xlabel=\"Event time (month-date hour)\", ylabel=\"Sink integral (mA * ms)\", ylim=INTEGRAL_LIM, xmargin=xmargin)\n",
    "\n",
    "    for ax in (mpta_swa_ax, sr_swa_ax, density_ax, duration_ax, amplitude_ax, integral_ax):\n",
    "        eplt.plot_hypnogram_overlay(hypnogram, ax=ax)\n",
    "\n",
    "    plt.tight_layout()"
   ]
  },
  {
   "cell_type": "code",
   "execution_count": 221,
   "metadata": {
    "execution": {
     "iopub.execute_input": "2021-04-14T00:50:21.208925Z",
     "iopub.status.busy": "2021-04-14T00:50:21.205234Z",
     "iopub.status.idle": "2021-04-14T00:50:33.568852Z",
     "shell.execute_reply": "2021-04-14T00:50:33.567989Z",
     "shell.execute_reply.started": "2021-04-14T00:50:21.208900Z"
    }
   },
   "outputs": [
    {
     "data": {
      "application/vnd.jupyter.widget-view+json": {
       "model_id": "85c7d34e2b684255b20346c323db9a03",
       "version_major": 2,
       "version_minor": 0
      },
      "text/plain": [
       "Canvas(toolbar=Toolbar(toolitems=[('Home', 'Reset original view', 'home', 'home'), ('Back', 'Back to previous …"
      ]
     },
     "metadata": {},
     "output_type": "display_data"
    }
   ],
   "source": [
    "plot_condition(bsl_hypnogram, bsl_spws, bsl_power)"
   ]
  },
  {
   "cell_type": "code",
   "execution_count": 222,
   "metadata": {
    "execution": {
     "iopub.execute_input": "2021-04-14T00:50:33.573974Z",
     "iopub.status.busy": "2021-04-14T00:50:33.573807Z",
     "iopub.status.idle": "2021-04-14T00:50:45.165513Z",
     "shell.execute_reply": "2021-04-14T00:50:45.164633Z",
     "shell.execute_reply.started": "2021-04-14T00:50:33.573951Z"
    }
   },
   "outputs": [
    {
     "data": {
      "application/vnd.jupyter.widget-view+json": {
       "model_id": "029e7b8760364e30b0084a3447e43fbf",
       "version_major": 2,
       "version_minor": 0
      },
      "text/plain": [
       "Canvas(toolbar=Toolbar(toolitems=[('Home', 'Reset original view', 'home', 'home'), ('Back', 'Back to previous …"
      ]
     },
     "metadata": {},
     "output_type": "display_data"
    }
   ],
   "source": [
    "plot_condition(exp_hypnogram, exp_spws, exp_power)"
   ]
  },
  {
   "cell_type": "code",
   "execution_count": 223,
   "metadata": {
    "execution": {
     "iopub.execute_input": "2021-04-14T00:50:45.167713Z",
     "iopub.status.busy": "2021-04-14T00:50:45.167534Z",
     "iopub.status.idle": "2021-04-14T00:50:45.218799Z",
     "shell.execute_reply": "2021-04-14T00:50:45.218057Z",
     "shell.execute_reply.started": "2021-04-14T00:50:45.167691Z"
    }
   },
   "outputs": [],
   "source": [
    "def plot_both_conditions(bsl_hypnogram, bsl_spws, bsl_power, exp_hypnogram, exp_spws, exp_power):\n",
    "\n",
    "    fig, (bsl_swa_ax, bsl_density_ax, bsl_amplitude_ax, exp_swa_ax, exp_density_ax, exp_amplitude_ax) = plt.subplots(6, 1, figsize=(22,12))\n",
    "\n",
    "    xmargin=0\n",
    "\n",
    "    # Baseline\n",
    "    sns.lineplot(x=bsl_power.time.values, y=bsl_power.mpta_delta_wm_ref.values, color='black', ax=bsl_swa_ax)\n",
    "    bsl_swa_ax.set(xlabel=None, ylabel='BSL CTX delta WM ref', ylim=MPTA_SWA_LIM, xmargin=xmargin, xticks=[])\n",
    "\n",
    "    binwidth = 10\n",
    "    nbins = np.int((bsl_spws.start_time.max() - bsl_spws.start_time.min()).total_seconds() / binwidth)\n",
    "    sns.histplot(data=bsl_spws, x='start_time', bins=nbins, color='black', ax=bsl_density_ax)\n",
    "    bsl_density_ax.set(xlabel=None, ylabel='BSL Frequency (Hz)', ylim=DENSITY_LIM, xmargin=xmargin, xticks=[])\n",
    "    \n",
    "    sns.scatterplot(data=bsl_spws, x='start_time', y='sink_amplitude', s=2, ax=bsl_amplitude_ax)\n",
    "    bsl_amplitude_ax.set(xlabel=None, ylabel=\"BSL Sink amp. (mA/mm)\", ylim=AMPLITUDE_LIM, xmargin=xmargin, xticks=[])\n",
    "    \n",
    "    for ax in (bsl_swa_ax, bsl_density_ax, bsl_amplitude_ax):\n",
    "        eplt.plot_hypnogram_overlay(bsl_hypnogram, ax=ax)\n",
    "\n",
    "    # Experiment\n",
    "    sns.lineplot(x=exp_power.time.values, y=exp_power.mpta_delta_wm_ref.values, color='black', ax=exp_swa_ax)\n",
    "    exp_swa_ax.set(xlabel=None, ylabel='EXP CTX delta WM Ref', ylim=MPTA_SWA_LIM, xmargin=xmargin, xticks=[])\n",
    "\n",
    "    binwidth = 10\n",
    "    nbins = np.int((exp_spws.start_time.max() - exp_spws.start_time.min()).total_seconds() / binwidth)\n",
    "    sns.histplot(data=exp_spws, x='start_time', bins=nbins, color='black', ax=exp_density_ax)\n",
    "    exp_density_ax.set(xlabel=None, ylabel='EXP Frequency (Hz)', ylim=DENSITY_LIM, xmargin=xmargin, xticks=[])\n",
    "    \n",
    "    sns.scatterplot(data=exp_spws, x='start_time', y='sink_amplitude', s=2, ax=exp_amplitude_ax)\n",
    "    exp_amplitude_ax.set(xlabel=None, ylabel=\"EXP Sink amp. (mA/mm)\", ylim=AMPLITUDE_LIM, xmargin=xmargin, xticks=[])\n",
    "        \n",
    "    for ax in (exp_swa_ax, exp_density_ax, exp_amplitude_ax):\n",
    "        eplt.plot_hypnogram_overlay(exp_hypnogram, ax=ax)\n",
    "\n",
    "    plt.tight_layout()"
   ]
  },
  {
   "cell_type": "code",
   "execution_count": 224,
   "metadata": {
    "execution": {
     "iopub.execute_input": "2021-04-14T00:50:47.625405Z",
     "iopub.status.busy": "2021-04-14T00:50:47.625221Z",
     "iopub.status.idle": "2021-04-14T00:51:02.585910Z",
     "shell.execute_reply": "2021-04-14T00:51:02.585045Z",
     "shell.execute_reply.started": "2021-04-14T00:50:47.625382Z"
    }
   },
   "outputs": [
    {
     "data": {
      "application/vnd.jupyter.widget-view+json": {
       "model_id": "ffa63a389a6944d699b61cd3c98b009a",
       "version_major": 2,
       "version_minor": 0
      },
      "text/plain": [
       "Canvas(toolbar=Toolbar(toolitems=[('Home', 'Reset original view', 'home', 'home'), ('Back', 'Back to previous …"
      ]
     },
     "metadata": {},
     "output_type": "display_data"
    }
   ],
   "source": [
    "plot_both_conditions(bsl_hypnogram, bsl_spws, bsl_power, exp_hypnogram, exp_spws, exp_power)"
   ]
  },
  {
   "cell_type": "code",
   "execution_count": null,
   "metadata": {},
   "outputs": [],
   "source": []
  }
 ],
 "metadata": {
  "kernelspec": {
   "display_name": "Python 3",
   "language": "python",
   "name": "python3"
  },
  "language_info": {
   "codemirror_mode": {
    "name": "ipython",
    "version": 3
   },
   "file_extension": ".py",
   "mimetype": "text/x-python",
   "name": "python",
   "nbconvert_exporter": "python",
   "pygments_lexer": "ipython3",
   "version": "3.7.9"
  }
 },
 "nbformat": 4,
 "nbformat_minor": 4
}
