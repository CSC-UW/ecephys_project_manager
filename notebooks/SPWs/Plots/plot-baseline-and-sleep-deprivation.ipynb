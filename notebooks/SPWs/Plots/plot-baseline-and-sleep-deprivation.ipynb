{
 "cells": [
  {
   "cell_type": "code",
   "execution_count": 1,
   "metadata": {
    "execution": {
     "iopub.execute_input": "2021-04-26T17:20:17.135356Z",
     "iopub.status.busy": "2021-04-26T17:20:17.135104Z",
     "iopub.status.idle": "2021-04-26T17:20:17.150389Z",
     "shell.execute_reply": "2021-04-26T17:20:17.149566Z",
     "shell.execute_reply.started": "2021-04-26T17:20:17.135325Z"
    }
   },
   "outputs": [],
   "source": [
    "%load_ext autoreload\n",
    "%autoreload 2"
   ]
  },
  {
   "cell_type": "code",
   "execution_count": 2,
   "metadata": {
    "execution": {
     "iopub.execute_input": "2021-04-26T17:20:17.612024Z",
     "iopub.status.busy": "2021-04-26T17:20:17.611794Z",
     "iopub.status.idle": "2021-04-26T17:20:17.940620Z",
     "shell.execute_reply": "2021-04-26T17:20:17.939925Z",
     "shell.execute_reply.started": "2021-04-26T17:20:17.611995Z"
    }
   },
   "outputs": [],
   "source": [
    "%matplotlib widget\n",
    "import matplotlib.pyplot as plt\n",
    "import seaborn as sns"
   ]
  },
  {
   "cell_type": "code",
   "execution_count": 3,
   "metadata": {
    "execution": {
     "iopub.execute_input": "2021-04-26T17:20:17.951856Z",
     "iopub.status.busy": "2021-04-26T17:20:17.951730Z",
     "iopub.status.idle": "2021-04-26T17:20:18.165675Z",
     "shell.execute_reply": "2021-04-26T17:20:18.165161Z",
     "shell.execute_reply.started": "2021-04-26T17:20:17.951839Z"
    }
   },
   "outputs": [],
   "source": [
    "import numpy as np\n",
    "import pandas as pd\n",
    "import xarray as xr"
   ]
  },
  {
   "cell_type": "code",
   "execution_count": 4,
   "metadata": {
    "execution": {
     "iopub.execute_input": "2021-04-26T17:20:18.192949Z",
     "iopub.status.busy": "2021-04-26T17:20:18.192756Z",
     "iopub.status.idle": "2021-04-26T17:20:18.206491Z",
     "shell.execute_reply": "2021-04-26T17:20:18.205940Z",
     "shell.execute_reply.started": "2021-04-26T17:20:18.192924Z"
    }
   },
   "outputs": [
    {
     "data": {
      "text/plain": [
       "<xarray.core.options.set_options at 0x7f3230d6e850>"
      ]
     },
     "execution_count": 4,
     "metadata": {},
     "output_type": "execute_result"
    }
   ],
   "source": [
    "xr.set_options(keep_attrs=True)"
   ]
  },
  {
   "cell_type": "code",
   "execution_count": 5,
   "metadata": {
    "execution": {
     "iopub.execute_input": "2021-04-26T17:20:18.458851Z",
     "iopub.status.busy": "2021-04-26T17:20:18.458646Z",
     "iopub.status.idle": "2021-04-26T17:20:18.544005Z",
     "shell.execute_reply": "2021-04-26T17:20:18.543346Z",
     "shell.execute_reply.started": "2021-04-26T17:20:18.458825Z"
    }
   },
   "outputs": [],
   "source": [
    "from ecephys_analyses.data import load\n",
    "import ecephys.plot as eplt"
   ]
  },
  {
   "cell_type": "code",
   "execution_count": 6,
   "metadata": {
    "execution": {
     "iopub.execute_input": "2021-04-26T17:20:18.730672Z",
     "iopub.status.busy": "2021-04-26T17:20:18.730476Z",
     "iopub.status.idle": "2021-04-26T17:20:18.748783Z",
     "shell.execute_reply": "2021-04-26T17:20:18.748113Z",
     "shell.execute_reply.started": "2021-04-26T17:20:18.730647Z"
    }
   },
   "outputs": [],
   "source": [
    "from scipy.stats import mode\n",
    "\n",
    "def estimate_fs(da):\n",
    "    sample_period = mode(np.diff(da.time.values)).mode[0]\n",
    "    assert isinstance(sample_period, np.timedelta64)\n",
    "    sample_period = sample_period / pd.to_timedelta(1, 's')\n",
    "    return 1 / sample_period"
   ]
  },
  {
   "cell_type": "code",
   "execution_count": 7,
   "metadata": {
    "execution": {
     "iopub.execute_input": "2021-04-26T17:20:18.954825Z",
     "iopub.status.busy": "2021-04-26T17:20:18.954564Z",
     "iopub.status.idle": "2021-04-26T17:20:18.974783Z",
     "shell.execute_reply": "2021-04-26T17:20:18.974250Z",
     "shell.execute_reply.started": "2021-04-26T17:20:18.954791Z"
    }
   },
   "outputs": [],
   "source": [
    "from ripple_detection.core import gaussian_smooth\n",
    "\n",
    "def get_smoothed_da(da, smoothing_sigma=10, in_place=False):\n",
    "    if not in_place:\n",
    "        da = da.copy()\n",
    "    da.values = gaussian_smooth(da, smoothing_sigma, estimate_fs(da))\n",
    "    return da    \n",
    "\n",
    "def get_smoothed_ds(ds, smoothing_sigma=10, in_place=False):\n",
    "    if not in_place:\n",
    "        ds = ds.copy()\n",
    "    for da_name, da in ds.items():\n",
    "        ds[da_name] = get_smoothed_da(da, smoothing_sigma, in_place)\n",
    "    return ds"
   ]
  },
  {
   "cell_type": "code",
   "execution_count": 8,
   "metadata": {
    "execution": {
     "iopub.execute_input": "2021-04-26T17:20:19.194495Z",
     "iopub.status.busy": "2021-04-26T17:20:19.194358Z",
     "iopub.status.idle": "2021-04-26T17:20:19.214125Z",
     "shell.execute_reply": "2021-04-26T17:20:19.213415Z",
     "shell.execute_reply.started": "2021-04-26T17:20:19.194478Z"
    }
   },
   "outputs": [],
   "source": [
    "from ecephys.scoring import get_timepoint_states\n",
    "\n",
    "def filter_states(ds, hypnogram, states):\n",
    "    timepoint_states = get_timepoint_states(hypnogram, ds.time)\n",
    "    return ds.where(np.isin(timepoint_states, states))"
   ]
  },
  {
   "cell_type": "code",
   "execution_count": 9,
   "metadata": {
    "execution": {
     "iopub.execute_input": "2021-04-26T17:20:19.450404Z",
     "iopub.status.busy": "2021-04-26T17:20:19.450261Z",
     "iopub.status.idle": "2021-04-26T17:20:19.468451Z",
     "shell.execute_reply": "2021-04-26T17:20:19.468117Z",
     "shell.execute_reply.started": "2021-04-26T17:20:19.450388Z"
    }
   },
   "outputs": [],
   "source": [
    "def load_condition_data(subject, experiment, condition, power_as_percentage_of=None):\n",
    "    hypnogram = load.load_hypnogram(subject, experiment, condition)    \n",
    "    spws = load.load_spws(subject, experiment, condition, condition_start_dt=hypnogram.start_time.min())\n",
    "    bp = load.load_bandpower(subject, experiment, condition)\n",
    "    if power_as_percentage_of:\n",
    "        bp = bp / power_as_percentage_of * 100\n",
    "    \n",
    "    bp = get_smoothed_ds(bp, smoothing_sigma=10, in_place=True)\n",
    "    \n",
    "    return hypnogram, spws, bp"
   ]
  },
  {
   "cell_type": "code",
   "execution_count": 10,
   "metadata": {
    "execution": {
     "iopub.execute_input": "2021-04-26T17:20:19.795067Z",
     "iopub.status.busy": "2021-04-26T17:20:19.794805Z",
     "iopub.status.idle": "2021-04-26T17:20:19.831620Z",
     "shell.execute_reply": "2021-04-26T17:20:19.830987Z",
     "shell.execute_reply.started": "2021-04-26T17:20:19.795033Z"
    }
   },
   "outputs": [],
   "source": [
    "def plot_condition(hypnogram, spws, power):\n",
    "\n",
    "    fig, (mpta_swa_ax, sr_swa_ax, density_ax, duration_ax, amplitude_ax, integral_ax) = plt.subplots(6, 1, figsize=(22,12))\n",
    "    xmargin=0\n",
    "    \n",
    "    mpta_swa_ylabel = 'CTX delta, WM ref'\n",
    "    sr_swa_ylabel = 'SR delta, WM ref'\n",
    "    mpta_swa_ylabel = mpta_swa_ylabel + ', \\n % BSL NREM mean'\n",
    "    sr_swa_ylabel = sr_swa_ylabel + ', \\n % BSL NREM mean'\n",
    "\n",
    "    # units = (uV^2/Hz)\n",
    "    sns.lineplot(x=power.time.values, y=power.mpta_delta_wm_ref.values, color='black', ax=mpta_swa_ax)\n",
    "    mpta_swa_ax.set(xlabel=None, ylabel=mpta_swa_ylabel, ylim=MPTA_SWA_LIM, xmargin=xmargin, xticks=[])\n",
    "\n",
    "    sns.lineplot(x=power.time.values, y=power.sr_delta_wm_ref.values, color='black', ax=sr_swa_ax)\n",
    "    sr_swa_ax.set(xlabel=None, ylabel=sr_swa_ylabel, ylim=SR_SWA_LIM, xmargin=xmargin, xticks=[])\n",
    "    \n",
    "    mpta_swa_ax.axhline(100, color='r', linestyle=':')\n",
    "    sr_swa_ax.axhline(100, color='r', linestyle=':')\n",
    "\n",
    "    binwidth = 10\n",
    "    nbins = np.int((spws.start_time.max() - spws.start_time.min()).total_seconds() / binwidth)\n",
    "    sns.histplot(data=spws, x='start_time', bins=nbins, color='black', ax=density_ax)\n",
    "    density_ax.set(xlabel=None, ylabel='Frequency (Hz)', ylim=DENSITY_LIM, xmargin=xmargin, xticks=[])\n",
    "\n",
    "    sns.scatterplot(data=spws, x=\"start_time\", y=\"duration\", s=2, ax=duration_ax)\n",
    "    duration_ax.set(xlabel=None, ylabel=\"Duration (s)\", ylim=DURATION_LIM, xmargin=xmargin, xticks=[])\n",
    "\n",
    "    sns.scatterplot(data=spws, x='start_time', y='sink_amplitude', s=2, ax=amplitude_ax)\n",
    "    amplitude_ax.set(xlabel=None, ylabel=\"Sink amplitude (mA/mm)\", ylim=AMPLITUDE_LIM, xmargin=xmargin, xticks=[])\n",
    "\n",
    "    sns.scatterplot(data=spws, x='start_time', y='sink_integral', s=2, ax=integral_ax)\n",
    "    integral_ax.set(xlabel=\"Event time (month-date hour)\", ylabel=\"Sink integral (mA * ms)\", ylim=INTEGRAL_LIM, xmargin=xmargin)\n",
    "\n",
    "    for ax in (mpta_swa_ax, sr_swa_ax, density_ax, duration_ax, amplitude_ax, integral_ax):\n",
    "        eplt.plot_hypnogram_overlay(hypnogram, ax=ax)\n",
    "\n",
    "    plt.tight_layout()"
   ]
  },
  {
   "cell_type": "code",
   "execution_count": 11,
   "metadata": {
    "execution": {
     "iopub.execute_input": "2021-04-26T17:20:20.403115Z",
     "iopub.status.busy": "2021-04-26T17:20:20.402909Z",
     "iopub.status.idle": "2021-04-26T17:20:20.445569Z",
     "shell.execute_reply": "2021-04-26T17:20:20.444936Z",
     "shell.execute_reply.started": "2021-04-26T17:20:20.403090Z"
    }
   },
   "outputs": [],
   "source": [
    "def plot_both_conditions(bsl_hypnogram, bsl_spws, bsl_power, exp_hypnogram, exp_spws, exp_power):\n",
    "\n",
    "    fig, (bsl_swa_ax, bsl_density_ax, bsl_amplitude_ax, exp_swa_ax, exp_density_ax, exp_amplitude_ax) = plt.subplots(6, 1, figsize=(22,12))\n",
    "\n",
    "    xmargin=0\n",
    "    \n",
    "    bsl_swa_ylabel = 'BSL CTX delta, WM ref'\n",
    "    exp_swa_ylabel = 'EXP CTX delta, WM ref'\n",
    "    bsl_swa_ylabel = bsl_swa_ylabel + ', \\n % BSL NREM mean'\n",
    "    exp_swa_ylabel = exp_swa_ylabel + ', \\n % BSL NREM mean'\n",
    "    \n",
    "    # Baseline\n",
    "    sns.lineplot(x=bsl_power.time.values, y=bsl_power.mpta_delta_wm_ref.values, color='black', ax=bsl_swa_ax)\n",
    "    bsl_swa_ax.set(xlabel=None, ylabel=bsl_swa_ylabel, ylim=MPTA_SWA_LIM, xmargin=xmargin, xticks=[])\n",
    "         \n",
    "    bsl_swa_ax.axhline(100, color='r', linestyle=':')\n",
    "\n",
    "    binwidth = 10\n",
    "    nbins = np.int((bsl_spws.start_time.max() - bsl_spws.start_time.min()).total_seconds() / binwidth)\n",
    "    sns.histplot(data=bsl_spws, x='start_time', bins=nbins, color='black', ax=bsl_density_ax)\n",
    "    bsl_density_ax.set(xlabel=None, ylabel='BSL Frequency (Hz)', ylim=DENSITY_LIM, xmargin=xmargin, xticks=[])\n",
    "    \n",
    "    sns.scatterplot(data=bsl_spws, x='start_time', y='sink_amplitude', s=2, ax=bsl_amplitude_ax)\n",
    "    bsl_amplitude_ax.set(xlabel=None, ylabel=\"BSL Sink amp. (mA/mm)\", ylim=AMPLITUDE_LIM, xmargin=xmargin, xticks=[])\n",
    "    \n",
    "    for ax in (bsl_swa_ax, bsl_density_ax, bsl_amplitude_ax):\n",
    "        eplt.plot_hypnogram_overlay(bsl_hypnogram, ax=ax)\n",
    "\n",
    "    # Experiment\n",
    "    sns.lineplot(x=exp_power.time.values, y=exp_power.mpta_delta_wm_ref.values, color='black', ax=exp_swa_ax)\n",
    "    exp_swa_ax.set(xlabel=None, ylabel=exp_swa_ylabel, ylim=MPTA_SWA_LIM, xmargin=xmargin, xticks=[])\n",
    "        \n",
    "    exp_swa_ax.axhline(100, color='r', linestyle=':')\n",
    "\n",
    "    binwidth = 10\n",
    "    nbins = np.int((exp_spws.start_time.max() - exp_spws.start_time.min()).total_seconds() / binwidth)\n",
    "    sns.histplot(data=exp_spws, x='start_time', bins=nbins, color='black', ax=exp_density_ax)\n",
    "    exp_density_ax.set(xlabel=None, ylabel='EXP Frequency (Hz)', ylim=DENSITY_LIM, xmargin=xmargin, xticks=[])\n",
    "    \n",
    "    sns.scatterplot(data=exp_spws, x='start_time', y='sink_amplitude', s=2, ax=exp_amplitude_ax)\n",
    "    exp_amplitude_ax.set(xlabel=None, ylabel=\"EXP Sink amp. (mA/mm)\", ylim=AMPLITUDE_LIM, xmargin=xmargin, xticks=[])\n",
    "        \n",
    "    for ax in (exp_swa_ax, exp_density_ax, exp_amplitude_ax):\n",
    "        eplt.plot_hypnogram_overlay(exp_hypnogram, ax=ax)\n",
    "\n",
    "    plt.tight_layout()"
   ]
  },
  {
   "cell_type": "code",
   "execution_count": 65,
   "metadata": {
    "execution": {
     "iopub.execute_input": "2021-04-26T16:44:23.668466Z",
     "iopub.status.busy": "2021-04-26T16:44:23.667950Z",
     "iopub.status.idle": "2021-04-26T16:44:23.723888Z",
     "shell.execute_reply": "2021-04-26T16:44:23.723232Z",
     "shell.execute_reply.started": "2021-04-26T16:44:23.668406Z"
    }
   },
   "outputs": [],
   "source": [
    "subject = \"Segundo\"\n",
    "experiment = \"sleep-homeostasis\"\n",
    "bsl_condition = \"light-period-circadian-match\"\n",
    "exp_condition = \"light-period\"\n",
    "\n",
    "# When plotting raw power\n",
    "MPTA_SWA_LIM = (0, 350000)\n",
    "SR_SWA_LIM = (0, 225000)\n",
    "\n",
    "DENSITY_LIM = (0, 20)\n",
    "DURATION_LIM = (0, 0.3)\n",
    "AMPLITUDE_LIM = (-0.18, -0.04)\n",
    "INTEGRAL_LIM = (-15, 0)"
   ]
  },
  {
   "cell_type": "code",
   "execution_count": 72,
   "metadata": {
    "execution": {
     "iopub.execute_input": "2021-04-26T16:56:20.890886Z",
     "iopub.status.busy": "2021-04-26T16:56:20.890327Z",
     "iopub.status.idle": "2021-04-26T16:56:20.917888Z",
     "shell.execute_reply": "2021-04-26T16:56:20.917027Z",
     "shell.execute_reply.started": "2021-04-26T16:56:20.890804Z"
    }
   },
   "outputs": [],
   "source": [
    "subject = \"Valentino\"\n",
    "experiment = \"sleep-homeostasis\"\n",
    "bsl_condition = \"light-period-circadian-match\"\n",
    "exp_condition = \"light-period\"\n",
    "\n",
    "# When plotting raw power\n",
    "MPTA_SWA_LIM = (0, 100000)\n",
    "SR_SWA_LIM = (0, 225000)\n",
    "\n",
    "DENSITY_LIM = (0, 20)\n",
    "DURATION_LIM = (0, 0.3)\n",
    "AMPLITUDE_LIM = (-0.098, -0.022)\n",
    "INTEGRAL_LIM = (-11, 0)"
   ]
  },
  {
   "cell_type": "code",
   "execution_count": 86,
   "metadata": {
    "execution": {
     "iopub.execute_input": "2021-04-26T17:02:56.853864Z",
     "iopub.status.busy": "2021-04-26T17:02:56.853366Z",
     "iopub.status.idle": "2021-04-26T17:02:57.008335Z",
     "shell.execute_reply": "2021-04-26T17:02:57.007356Z",
     "shell.execute_reply.started": "2021-04-26T17:02:56.853803Z"
    }
   },
   "outputs": [],
   "source": [
    "subject = \"Doppio\"\n",
    "experiment = \"sleep-homeostasis\"\n",
    "bsl_condition = \"light-period-circadian-match\"\n",
    "exp_condition = \"light-period\"\n",
    "\n",
    "# When plotting raw power\n",
    "MPTA_SWA_LIM = (0, 250000)\n",
    "SR_SWA_LIM = (0, 150000)\n",
    "\n",
    "DENSITY_LIM = (0, 20)\n",
    "DURATION_LIM = (0, 0.3)\n",
    "AMPLITUDE_LIM = (-0.13, -0.0275)\n",
    "INTEGRAL_LIM = (-13, 0)"
   ]
  },
  {
   "cell_type": "code",
   "execution_count": 93,
   "metadata": {
    "execution": {
     "iopub.execute_input": "2021-04-26T17:13:56.613003Z",
     "iopub.status.busy": "2021-04-26T17:13:56.612452Z",
     "iopub.status.idle": "2021-04-26T17:13:56.637632Z",
     "shell.execute_reply": "2021-04-26T17:13:56.636834Z",
     "shell.execute_reply.started": "2021-04-26T17:13:56.612922Z"
    }
   },
   "outputs": [],
   "source": [
    "subject = \"Alessandro\"\n",
    "experiment = \"sleep-homeostasis\"\n",
    "bsl_condition = \"light-period-circadian-match\"\n",
    "exp_condition = \"light-period\"\n",
    "\n",
    "# When plotting raw power\n",
    "MPTA_SWA_LIM = (0, 175000)\n",
    "SR_SWA_LIM = (0, 200000)\n",
    "\n",
    "DENSITY_LIM = (0, 20)\n",
    "DURATION_LIM = (0, 0.25)\n",
    "AMPLITUDE_LIM = (-0.22, -0.06)\n",
    "INTEGRAL_LIM = (-20, 0)"
   ]
  },
  {
   "cell_type": "code",
   "execution_count": 19,
   "metadata": {
    "execution": {
     "iopub.execute_input": "2021-04-26T20:44:50.913043Z",
     "iopub.status.busy": "2021-04-26T20:44:50.912543Z",
     "iopub.status.idle": "2021-04-26T20:44:50.935760Z",
     "shell.execute_reply": "2021-04-26T20:44:50.934954Z",
     "shell.execute_reply.started": "2021-04-26T20:44:50.912983Z"
    }
   },
   "outputs": [],
   "source": [
    "subject = \"Eugene\"\n",
    "experiment = \"sleep-homeostasis\"\n",
    "bsl_condition = \"light-period-circadian-match\"\n",
    "exp_condition = \"light-period\"\n",
    "\n",
    "# When plotting raw power\n",
    "MPTA_SWA_LIM = (0, 225000)\n",
    "SR_SWA_LIM = (0, 125000)\n",
    "\n",
    "DENSITY_LIM = (0, 20)\n",
    "DURATION_LIM = (0, 0.3)\n",
    "AMPLITUDE_LIM = (-0.08, -0.015)\n",
    "INTEGRAL_LIM = (-7, 0)"
   ]
  },
  {
   "cell_type": "code",
   "execution_count": 12,
   "metadata": {
    "execution": {
     "iopub.execute_input": "2021-04-26T17:20:24.576329Z",
     "iopub.status.busy": "2021-04-26T17:20:24.575857Z",
     "iopub.status.idle": "2021-04-26T17:20:24.597200Z",
     "shell.execute_reply": "2021-04-26T17:20:24.596513Z",
     "shell.execute_reply.started": "2021-04-26T17:20:24.576276Z"
    }
   },
   "outputs": [],
   "source": [
    "subject = \"Allan\"\n",
    "experiment = \"sleep-homeostasis\"\n",
    "bsl_condition = \"light-period-circadian-match\"\n",
    "exp_condition = \"light-period\"\n",
    "\n",
    "# When plotting raw power\n",
    "MPTA_SWA_LIM = (0, 350000)\n",
    "SR_SWA_LIM = (0, 150000)\n",
    "\n",
    "DENSITY_LIM = (0, 20)\n",
    "DURATION_LIM = (0, 0.25)\n",
    "AMPLITUDE_LIM = (-0.085, -0.022)\n",
    "INTEGRAL_LIM = (-8, 0)"
   ]
  },
  {
   "cell_type": "code",
   "execution_count": 20,
   "metadata": {
    "execution": {
     "iopub.execute_input": "2021-04-26T20:44:54.524232Z",
     "iopub.status.busy": "2021-04-26T20:44:54.523726Z",
     "iopub.status.idle": "2021-04-26T20:44:54.545508Z",
     "shell.execute_reply": "2021-04-26T20:44:54.544814Z",
     "shell.execute_reply.started": "2021-04-26T20:44:54.524170Z"
    }
   },
   "outputs": [],
   "source": [
    "# When plotting percent change\n",
    "MPTA_SWA_LIM = (0, 600)\n",
    "SR_SWA_LIM = (0, 300) "
   ]
  },
  {
   "cell_type": "code",
   "execution_count": 25,
   "metadata": {
    "execution": {
     "iopub.execute_input": "2021-04-26T20:49:47.927498Z",
     "iopub.status.busy": "2021-04-26T20:49:47.927235Z",
     "iopub.status.idle": "2021-04-26T20:49:49.179014Z",
     "shell.execute_reply": "2021-04-26T20:49:49.178217Z",
     "shell.execute_reply.started": "2021-04-26T20:49:47.927467Z"
    }
   },
   "outputs": [],
   "source": [
    "reference_bandpower = load.load_bandpower(subject, \"sleep-homeostasis\", \"light-period-circadian-match\")\n",
    "reference_hypnogram = load.load_hypnogram(subject, \"sleep-homeostasis\", \"light-period-circadian-match\")\n",
    "reference = filter_states(reference_bandpower, reference_hypnogram, [\"N1\", \"N2\"]).mean()"
   ]
  },
  {
   "cell_type": "code",
   "execution_count": 26,
   "metadata": {
    "execution": {
     "iopub.execute_input": "2021-04-26T20:49:51.134904Z",
     "iopub.status.busy": "2021-04-26T20:49:51.134436Z",
     "iopub.status.idle": "2021-04-26T20:50:09.540799Z",
     "shell.execute_reply": "2021-04-26T20:50:09.539774Z",
     "shell.execute_reply.started": "2021-04-26T20:49:51.134846Z"
    }
   },
   "outputs": [],
   "source": [
    "(bsl_hypnogram, bsl_spws, bsl_power) = load_condition_data(subject, experiment, bsl_condition, power_as_percentage_of=reference)\n",
    "(exp_hypnogram, exp_spws, exp_power) = load_condition_data(subject, experiment, exp_condition, power_as_percentage_of=reference)"
   ]
  },
  {
   "cell_type": "code",
   "execution_count": 27,
   "metadata": {
    "execution": {
     "iopub.execute_input": "2021-04-26T20:50:09.572409Z",
     "iopub.status.busy": "2021-04-26T20:50:09.572278Z",
     "iopub.status.idle": "2021-04-26T20:50:19.179538Z",
     "shell.execute_reply": "2021-04-26T20:50:19.178853Z",
     "shell.execute_reply.started": "2021-04-26T20:50:09.572393Z"
    }
   },
   "outputs": [
    {
     "data": {
      "application/vnd.jupyter.widget-view+json": {
       "model_id": "c89c7219c5764c6992211300dad2109b",
       "version_major": 2,
       "version_minor": 0
      },
      "text/plain": [
       "Canvas(toolbar=Toolbar(toolitems=[('Home', 'Reset original view', 'home', 'home'), ('Back', 'Back to previous …"
      ]
     },
     "metadata": {},
     "output_type": "display_data"
    }
   ],
   "source": [
    "plot_condition(bsl_hypnogram, bsl_spws, bsl_power)"
   ]
  },
  {
   "cell_type": "code",
   "execution_count": 28,
   "metadata": {
    "execution": {
     "iopub.execute_input": "2021-04-26T20:50:19.180645Z",
     "iopub.status.busy": "2021-04-26T20:50:19.180501Z",
     "iopub.status.idle": "2021-04-26T20:50:26.702598Z",
     "shell.execute_reply": "2021-04-26T20:50:26.701943Z",
     "shell.execute_reply.started": "2021-04-26T20:50:19.180628Z"
    }
   },
   "outputs": [
    {
     "data": {
      "application/vnd.jupyter.widget-view+json": {
       "model_id": "90c512f08e784918a03835339935f5ff",
       "version_major": 2,
       "version_minor": 0
      },
      "text/plain": [
       "Canvas(toolbar=Toolbar(toolitems=[('Home', 'Reset original view', 'home', 'home'), ('Back', 'Back to previous …"
      ]
     },
     "metadata": {},
     "output_type": "display_data"
    }
   ],
   "source": [
    "plot_condition(exp_hypnogram, exp_spws, exp_power)"
   ]
  },
  {
   "cell_type": "code",
   "execution_count": 29,
   "metadata": {
    "execution": {
     "iopub.execute_input": "2021-04-26T20:50:26.703508Z",
     "iopub.status.busy": "2021-04-26T20:50:26.703366Z",
     "iopub.status.idle": "2021-04-26T20:50:40.492065Z",
     "shell.execute_reply": "2021-04-26T20:50:40.491433Z",
     "shell.execute_reply.started": "2021-04-26T20:50:26.703490Z"
    }
   },
   "outputs": [
    {
     "data": {
      "application/vnd.jupyter.widget-view+json": {
       "model_id": "8adf7f1e530941bb9fded057157ecf2d",
       "version_major": 2,
       "version_minor": 0
      },
      "text/plain": [
       "Canvas(toolbar=Toolbar(toolitems=[('Home', 'Reset original view', 'home', 'home'), ('Back', 'Back to previous …"
      ]
     },
     "metadata": {},
     "output_type": "display_data"
    }
   ],
   "source": [
    "plot_both_conditions(bsl_hypnogram, bsl_spws, bsl_power, exp_hypnogram, exp_spws, exp_power)"
   ]
  },
  {
   "cell_type": "code",
   "execution_count": null,
   "metadata": {},
   "outputs": [],
   "source": []
  }
 ],
 "metadata": {
  "kernelspec": {
   "display_name": "Python 3",
   "language": "python",
   "name": "python3"
  },
  "language_info": {
   "codemirror_mode": {
    "name": "ipython",
    "version": 3
   },
   "file_extension": ".py",
   "mimetype": "text/x-python",
   "name": "python",
   "nbconvert_exporter": "python",
   "pygments_lexer": "ipython3",
   "version": "3.7.9"
  }
 },
 "nbformat": 4,
 "nbformat_minor": 4
}
