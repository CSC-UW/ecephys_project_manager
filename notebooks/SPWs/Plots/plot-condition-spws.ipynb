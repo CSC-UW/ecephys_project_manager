{
 "cells": [
  {
   "cell_type": "code",
   "execution_count": 1,
   "metadata": {
    "execution": {
     "iopub.execute_input": "2021-05-05T19:44:20.945259Z",
     "iopub.status.busy": "2021-05-05T19:44:20.944880Z",
     "iopub.status.idle": "2021-05-05T19:44:20.961031Z",
     "shell.execute_reply": "2021-05-05T19:44:20.960504Z",
     "shell.execute_reply.started": "2021-05-05T19:44:20.945214Z"
    }
   },
   "outputs": [],
   "source": [
    "%load_ext autoreload\n",
    "%autoreload 2"
   ]
  },
  {
   "cell_type": "code",
   "execution_count": 2,
   "metadata": {
    "execution": {
     "iopub.execute_input": "2021-05-05T19:44:21.493492Z",
     "iopub.status.busy": "2021-05-05T19:44:21.493038Z",
     "iopub.status.idle": "2021-05-05T19:44:21.865028Z",
     "shell.execute_reply": "2021-05-05T19:44:21.864586Z",
     "shell.execute_reply.started": "2021-05-05T19:44:21.493436Z"
    }
   },
   "outputs": [],
   "source": [
    "%matplotlib widget\n",
    "import matplotlib.pyplot as plt\n",
    "import seaborn as sns"
   ]
  },
  {
   "cell_type": "code",
   "execution_count": 3,
   "metadata": {
    "execution": {
     "iopub.execute_input": "2021-05-05T19:44:22.023009Z",
     "iopub.status.busy": "2021-05-05T19:44:22.022799Z",
     "iopub.status.idle": "2021-05-05T19:44:22.257856Z",
     "shell.execute_reply": "2021-05-05T19:44:22.257189Z",
     "shell.execute_reply.started": "2021-05-05T19:44:22.022983Z"
    }
   },
   "outputs": [],
   "source": [
    "import numpy as np\n",
    "import pandas as pd\n",
    "import xarray as xr"
   ]
  },
  {
   "cell_type": "code",
   "execution_count": 4,
   "metadata": {
    "execution": {
     "iopub.execute_input": "2021-05-05T19:44:22.757951Z",
     "iopub.status.busy": "2021-05-05T19:44:22.757549Z",
     "iopub.status.idle": "2021-05-05T19:44:22.778802Z",
     "shell.execute_reply": "2021-05-05T19:44:22.777898Z",
     "shell.execute_reply.started": "2021-05-05T19:44:22.757904Z"
    }
   },
   "outputs": [
    {
     "data": {
      "text/plain": [
       "<xarray.core.options.set_options at 0x7f8b0eac0b10>"
      ]
     },
     "execution_count": 4,
     "metadata": {},
     "output_type": "execute_result"
    }
   ],
   "source": [
    "xr.set_options(keep_attrs=True)"
   ]
  },
  {
   "cell_type": "code",
   "execution_count": 5,
   "metadata": {
    "execution": {
     "iopub.execute_input": "2021-05-05T19:44:23.317648Z",
     "iopub.status.busy": "2021-05-05T19:44:23.317189Z",
     "iopub.status.idle": "2021-05-05T19:44:23.413294Z",
     "shell.execute_reply": "2021-05-05T19:44:23.412606Z",
     "shell.execute_reply.started": "2021-05-05T19:44:23.317592Z"
    }
   },
   "outputs": [],
   "source": [
    "import ecephys_analyses as ea\n",
    "import ecephys.plot as eplt"
   ]
  },
  {
   "cell_type": "code",
   "execution_count": 6,
   "metadata": {
    "execution": {
     "iopub.execute_input": "2021-05-05T19:44:24.109272Z",
     "iopub.status.busy": "2021-05-05T19:44:24.108981Z",
     "iopub.status.idle": "2021-05-05T19:44:24.128768Z",
     "shell.execute_reply": "2021-05-05T19:44:24.128059Z",
     "shell.execute_reply.started": "2021-05-05T19:44:24.109238Z"
    }
   },
   "outputs": [],
   "source": [
    "from scipy.stats import mode\n",
    "\n",
    "def estimate_fs(da):\n",
    "    sample_period = mode(np.diff(da.time.values)).mode[0]\n",
    "    assert isinstance(sample_period, np.timedelta64)\n",
    "    sample_period = sample_period / pd.to_timedelta(1, 's')\n",
    "    return 1 / sample_period"
   ]
  },
  {
   "cell_type": "code",
   "execution_count": 7,
   "metadata": {
    "execution": {
     "iopub.execute_input": "2021-05-05T19:44:24.396339Z",
     "iopub.status.busy": "2021-05-05T19:44:24.396062Z",
     "iopub.status.idle": "2021-05-05T19:44:24.417217Z",
     "shell.execute_reply": "2021-05-05T19:44:24.416610Z",
     "shell.execute_reply.started": "2021-05-05T19:44:24.396305Z"
    }
   },
   "outputs": [],
   "source": [
    "from ripple_detection.core import gaussian_smooth\n",
    "\n",
    "def get_smoothed_da(da, smoothing_sigma=10, in_place=False):\n",
    "    if not in_place:\n",
    "        da = da.copy()\n",
    "    da.values = gaussian_smooth(da, smoothing_sigma, estimate_fs(da))\n",
    "    return da    \n",
    "\n",
    "def get_smoothed_ds(ds, smoothing_sigma=10, in_place=False):\n",
    "    if not in_place:\n",
    "        ds = ds.copy()\n",
    "    for da_name, da in ds.items():\n",
    "        ds[da_name] = get_smoothed_da(da, smoothing_sigma, in_place)\n",
    "    return ds"
   ]
  },
  {
   "cell_type": "code",
   "execution_count": 8,
   "metadata": {
    "execution": {
     "iopub.execute_input": "2021-05-05T19:44:25.069035Z",
     "iopub.status.busy": "2021-05-05T19:44:25.068753Z",
     "iopub.status.idle": "2021-05-05T19:44:25.087073Z",
     "shell.execute_reply": "2021-05-05T19:44:25.086330Z",
     "shell.execute_reply.started": "2021-05-05T19:44:25.069001Z"
    }
   },
   "outputs": [],
   "source": [
    "from ecephys.scoring import get_timepoint_states\n",
    "\n",
    "def filter_states(ds, hypnogram, states):\n",
    "    timepoint_states = get_timepoint_states(hypnogram, ds.time)\n",
    "    return ds.where(np.isin(timepoint_states, states))"
   ]
  },
  {
   "cell_type": "code",
   "execution_count": 63,
   "metadata": {
    "execution": {
     "iopub.execute_input": "2021-05-05T20:04:21.595220Z",
     "iopub.status.busy": "2021-05-05T20:04:21.594735Z",
     "iopub.status.idle": "2021-05-05T20:04:21.619230Z",
     "shell.execute_reply": "2021-05-05T20:04:21.618449Z",
     "shell.execute_reply.started": "2021-05-05T20:04:21.595160Z"
    }
   },
   "outputs": [],
   "source": [
    "def load_condition_data(subject, experiment, condition, power_as_percentage_of=None):\n",
    "    hypnogram = ea.load_hypnogram(subject, experiment, condition)    \n",
    "    spws = ea.load_spws(subject, experiment, condition, condition_start_dt=hypnogram.start_time.min())\n",
    "    bp = ea.load_bandpower(subject, experiment, condition)\n",
    "    if power_as_percentage_of:\n",
    "        bp = bp / power_as_percentage_of * 100\n",
    "    \n",
    "    bp = get_smoothed_ds(bp, smoothing_sigma=10, in_place=True)\n",
    "    \n",
    "    return hypnogram, spws, bp"
   ]
  },
  {
   "cell_type": "code",
   "execution_count": 102,
   "metadata": {
    "execution": {
     "iopub.execute_input": "2021-05-05T20:10:21.987647Z",
     "iopub.status.busy": "2021-05-05T20:10:21.987153Z",
     "iopub.status.idle": "2021-05-05T20:10:22.031036Z",
     "shell.execute_reply": "2021-05-05T20:10:22.030266Z",
     "shell.execute_reply.started": "2021-05-05T20:10:21.987588Z"
    }
   },
   "outputs": [],
   "source": [
    "def plot_condition(hypnogram, spws, power):\n",
    "\n",
    "    fig, (mpta_swa_ax, sr_swa_ax, density_ax, duration_ax, amplitude_ax, integral_ax) = plt.subplots(6, 1, figsize=(22,12))\n",
    "    xmargin=0\n",
    "    \n",
    "    mpta_swa_ylabel = 'CTX delta, WM ref'\n",
    "    sr_swa_ylabel = 'SR delta, WM ref'\n",
    "    mpta_swa_ylabel = mpta_swa_ylabel + ', \\n % BSL NREM mean'\n",
    "    sr_swa_ylabel = sr_swa_ylabel + ', \\n % BSL NREM mean'\n",
    "\n",
    "    # units = (uV^2/Hz)\n",
    "    sns.lineplot(x=power.time.values, y=power.mpta_delta_wm_ref.values, color='black', ax=mpta_swa_ax)\n",
    "    mpta_swa_ax.set(xlabel=None, ylabel=mpta_swa_ylabel, ylim=MPTA_SWA_LIM, xmargin=xmargin, xticks=[])\n",
    "\n",
    "    sns.lineplot(x=power.time.values, y=power.sr_delta_wm_ref.values, color='black', ax=sr_swa_ax)\n",
    "    sr_swa_ax.set(xlabel=None, ylabel=sr_swa_ylabel, ylim=SR_SWA_LIM, xmargin=xmargin, xticks=[])\n",
    "    \n",
    "    mpta_swa_ax.axhline(100, color='r', linestyle=':')\n",
    "    sr_swa_ax.axhline(100, color='r', linestyle=':')\n",
    "\n",
    "    binwidth = 10\n",
    "    nbins = np.int((spws.start_time.max() - spws.start_time.min()).total_seconds() / binwidth)\n",
    "    sns.histplot(data=spws, x='start_time', bins=nbins, color='black', ax=density_ax)\n",
    "    density_ax.set(xlabel=None, ylabel='Frequency (Hz)', ylim=DENSITY_LIM, xmargin=xmargin, xticks=[])\n",
    "\n",
    "    sns.scatterplot(data=spws, x=\"start_time\", y=\"duration\", s=2, ax=duration_ax)\n",
    "    duration_ax.set(xlabel=None, ylabel=\"Duration (s)\", ylim=DURATION_LIM, xmargin=xmargin, xticks=[])\n",
    "\n",
    "    sns.scatterplot(data=spws, x='start_time', y='sink_amplitude', s=2, ax=amplitude_ax)\n",
    "    amplitude_ax.set(xlabel=None, ylabel=\"Sink amplitude (mA/mm)\", ylim=AMPLITUDE_LIM, xmargin=xmargin, xticks=[])\n",
    "\n",
    "    sns.scatterplot(data=spws, x='start_time', y='sink_integral', s=2, ax=integral_ax)\n",
    "    integral_ax.set(xlabel=\"Event time (month-date hour)\", ylabel=\"Sink integral (mA * ms)\", ylim=INTEGRAL_LIM, xmargin=xmargin)\n",
    "\n",
    "    for ax in (mpta_swa_ax, sr_swa_ax, density_ax, duration_ax, amplitude_ax, integral_ax):\n",
    "        eplt.plot_hypnogram_overlay(hypnogram, ax=ax)\n",
    "\n",
    "    plt.tight_layout()"
   ]
  },
  {
   "cell_type": "code",
   "execution_count": 65,
   "metadata": {
    "execution": {
     "iopub.execute_input": "2021-05-05T20:04:23.279412Z",
     "iopub.status.busy": "2021-05-05T20:04:23.279009Z",
     "iopub.status.idle": "2021-05-05T20:04:23.299434Z",
     "shell.execute_reply": "2021-05-05T20:04:23.298831Z",
     "shell.execute_reply.started": "2021-05-05T20:04:23.279361Z"
    }
   },
   "outputs": [],
   "source": [
    "subject = \"Allan\"\n",
    "experiment = \"atropine\"\n",
    "condition = \"all\""
   ]
  },
  {
   "cell_type": "code",
   "execution_count": 69,
   "metadata": {
    "execution": {
     "iopub.execute_input": "2021-05-05T20:04:46.361361Z",
     "iopub.status.busy": "2021-05-05T20:04:46.360899Z",
     "iopub.status.idle": "2021-05-05T20:04:46.382158Z",
     "shell.execute_reply": "2021-05-05T20:04:46.381388Z",
     "shell.execute_reply.started": "2021-05-05T20:04:46.361303Z"
    }
   },
   "outputs": [],
   "source": [
    "subject = \"Allan\"\n",
    "experiment = \"dexmedetomidine\"\n",
    "condition = \"all\""
   ]
  },
  {
   "cell_type": "code",
   "execution_count": 57,
   "metadata": {
    "execution": {
     "iopub.execute_input": "2021-05-05T20:03:11.301034Z",
     "iopub.status.busy": "2021-05-05T20:03:11.300535Z",
     "iopub.status.idle": "2021-05-05T20:03:11.322916Z",
     "shell.execute_reply": "2021-05-05T20:03:11.322291Z",
     "shell.execute_reply.started": "2021-05-05T20:03:11.300974Z"
    }
   },
   "outputs": [],
   "source": [
    "subject = \"Doppio\"\n",
    "experiment = \"atropine-10mg\"\n",
    "condition = \"all\""
   ]
  },
  {
   "cell_type": "code",
   "execution_count": 54,
   "metadata": {
    "execution": {
     "iopub.execute_input": "2021-05-05T20:02:31.296177Z",
     "iopub.status.busy": "2021-05-05T20:02:31.295600Z",
     "iopub.status.idle": "2021-05-05T20:02:31.320823Z",
     "shell.execute_reply": "2021-05-05T20:02:31.320003Z",
     "shell.execute_reply.started": "2021-05-05T20:02:31.296069Z"
    }
   },
   "outputs": [],
   "source": [
    "subject = \"Doppio\"\n",
    "experiment = \"dexmedetomidine\"\n",
    "condition = \"all\""
   ]
  },
  {
   "cell_type": "code",
   "execution_count": 103,
   "metadata": {
    "execution": {
     "iopub.execute_input": "2021-05-05T20:10:27.195398Z",
     "iopub.status.busy": "2021-05-05T20:10:27.195002Z",
     "iopub.status.idle": "2021-05-05T20:10:27.218451Z",
     "shell.execute_reply": "2021-05-05T20:10:27.217861Z",
     "shell.execute_reply.started": "2021-05-05T20:10:27.195350Z"
    }
   },
   "outputs": [],
   "source": [
    "subject = \"Valentino\"\n",
    "experiment = \"atropine\"\n",
    "condition = \"all\""
   ]
  },
  {
   "cell_type": "code",
   "execution_count": 94,
   "metadata": {
    "execution": {
     "iopub.execute_input": "2021-05-05T20:08:41.551807Z",
     "iopub.status.busy": "2021-05-05T20:08:41.551297Z",
     "iopub.status.idle": "2021-05-05T20:08:41.575193Z",
     "shell.execute_reply": "2021-05-05T20:08:41.574410Z",
     "shell.execute_reply.started": "2021-05-05T20:08:41.551744Z"
    }
   },
   "outputs": [],
   "source": [
    "subject = \"Valentino\"\n",
    "experiment = \"sevo-dex\"\n",
    "condition = \"all\"\n",
    "state_colors = {'None': 'white', 'SevoDex': 'plum', 'Dex': 'thistle', 'Wake': 'palegreen', 'Art': 'crimson'}"
   ]
  },
  {
   "cell_type": "code",
   "execution_count": 104,
   "metadata": {
    "execution": {
     "iopub.execute_input": "2021-05-05T20:10:29.001789Z",
     "iopub.status.busy": "2021-05-05T20:10:29.001427Z",
     "iopub.status.idle": "2021-05-05T20:10:29.023391Z",
     "shell.execute_reply": "2021-05-05T20:10:29.022825Z",
     "shell.execute_reply.started": "2021-05-05T20:10:29.001746Z"
    }
   },
   "outputs": [],
   "source": [
    "MPTA_SWA_LIM = SR_SWA_LIM = DENSITY_LIM = DURATION_LIM = AMPLITUDE_LIM = INTEGRAL_LIM = (None, None)"
   ]
  },
  {
   "cell_type": "code",
   "execution_count": 105,
   "metadata": {
    "execution": {
     "iopub.execute_input": "2021-05-05T20:10:29.255723Z",
     "iopub.status.busy": "2021-05-05T20:10:29.255288Z",
     "iopub.status.idle": "2021-05-05T20:10:29.768181Z",
     "shell.execute_reply": "2021-05-05T20:10:29.767534Z",
     "shell.execute_reply.started": "2021-05-05T20:10:29.255666Z"
    }
   },
   "outputs": [],
   "source": [
    "(hypnogram, spws, power) = load_condition_data(subject, experiment, condition)"
   ]
  },
  {
   "cell_type": "code",
   "execution_count": 106,
   "metadata": {
    "execution": {
     "iopub.execute_input": "2021-05-05T20:10:29.790721Z",
     "iopub.status.busy": "2021-05-05T20:10:29.790594Z",
     "iopub.status.idle": "2021-05-05T20:10:31.188838Z",
     "shell.execute_reply": "2021-05-05T20:10:31.188417Z",
     "shell.execute_reply.started": "2021-05-05T20:10:29.790704Z"
    }
   },
   "outputs": [
    {
     "data": {
      "application/vnd.jupyter.widget-view+json": {
       "model_id": "5d3dce774eb241fba8b4f89b09179740",
       "version_major": 2,
       "version_minor": 0
      },
      "text/plain": [
       "Canvas(toolbar=Toolbar(toolitems=[('Home', 'Reset original view', 'home', 'home'), ('Back', 'Back to previous …"
      ]
     },
     "metadata": {},
     "output_type": "display_data"
    }
   ],
   "source": [
    "plot_condition(hypnogram, spws, power)"
   ]
  },
  {
   "cell_type": "code",
   "execution_count": null,
   "metadata": {},
   "outputs": [],
   "source": []
  }
 ],
 "metadata": {
  "kernelspec": {
   "display_name": "Python 3",
   "language": "python",
   "name": "python3"
  },
  "language_info": {
   "codemirror_mode": {
    "name": "ipython",
    "version": 3
   },
   "file_extension": ".py",
   "mimetype": "text/x-python",
   "name": "python",
   "nbconvert_exporter": "python",
   "pygments_lexer": "ipython3",
   "version": "3.7.9"
  }
 },
 "nbformat": 4,
 "nbformat_minor": 4
}
