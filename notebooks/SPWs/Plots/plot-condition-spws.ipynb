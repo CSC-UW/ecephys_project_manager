{
 "cells": [
  {
   "cell_type": "code",
   "execution_count": 1,
   "metadata": {
    "execution": {
     "iopub.execute_input": "2021-05-24T23:22:16.256729Z",
     "iopub.status.busy": "2021-05-24T23:22:16.256424Z",
     "iopub.status.idle": "2021-05-24T23:22:16.273580Z",
     "shell.execute_reply": "2021-05-24T23:22:16.272986Z",
     "shell.execute_reply.started": "2021-05-24T23:22:16.256691Z"
    }
   },
   "outputs": [],
   "source": [
    "%load_ext autoreload\n",
    "%autoreload 2"
   ]
  },
  {
   "cell_type": "code",
   "execution_count": 2,
   "metadata": {
    "execution": {
     "iopub.execute_input": "2021-05-24T23:22:16.892004Z",
     "iopub.status.busy": "2021-05-24T23:22:16.891602Z",
     "iopub.status.idle": "2021-05-24T23:22:17.243967Z",
     "shell.execute_reply": "2021-05-24T23:22:17.243287Z",
     "shell.execute_reply.started": "2021-05-24T23:22:16.891954Z"
    }
   },
   "outputs": [],
   "source": [
    "%matplotlib widget\n",
    "import matplotlib.pyplot as plt\n",
    "import seaborn as sns"
   ]
  },
  {
   "cell_type": "code",
   "execution_count": 3,
   "metadata": {
    "execution": {
     "iopub.execute_input": "2021-05-24T23:22:17.257813Z",
     "iopub.status.busy": "2021-05-24T23:22:17.257685Z",
     "iopub.status.idle": "2021-05-24T23:22:17.532069Z",
     "shell.execute_reply": "2021-05-24T23:22:17.531573Z",
     "shell.execute_reply.started": "2021-05-24T23:22:17.257797Z"
    }
   },
   "outputs": [],
   "source": [
    "import numpy as np\n",
    "import pandas as pd\n",
    "import xarray as xr"
   ]
  },
  {
   "cell_type": "code",
   "execution_count": 4,
   "metadata": {
    "execution": {
     "iopub.execute_input": "2021-05-24T23:22:17.545887Z",
     "iopub.status.busy": "2021-05-24T23:22:17.545758Z",
     "iopub.status.idle": "2021-05-24T23:22:17.557366Z",
     "shell.execute_reply": "2021-05-24T23:22:17.556876Z",
     "shell.execute_reply.started": "2021-05-24T23:22:17.545870Z"
    }
   },
   "outputs": [
    {
     "data": {
      "text/plain": [
       "<xarray.core.options.set_options at 0x7f43e1065e10>"
      ]
     },
     "execution_count": 4,
     "metadata": {},
     "output_type": "execute_result"
    }
   ],
   "source": [
    "xr.set_options(keep_attrs=True)"
   ]
  },
  {
   "cell_type": "code",
   "execution_count": 5,
   "metadata": {
    "execution": {
     "iopub.execute_input": "2021-05-24T23:22:17.620066Z",
     "iopub.status.busy": "2021-05-24T23:22:17.619769Z",
     "iopub.status.idle": "2021-05-24T23:22:17.672512Z",
     "shell.execute_reply": "2021-05-24T23:22:17.671703Z",
     "shell.execute_reply.started": "2021-05-24T23:22:17.620027Z"
    }
   },
   "outputs": [],
   "source": [
    "import ecephys_analyses as ea\n",
    "import ecephys.plot as eplt\n",
    "from ecephys.utils.xarray import get_smoothed_ds"
   ]
  },
  {
   "cell_type": "code",
   "execution_count": 6,
   "metadata": {
    "execution": {
     "iopub.execute_input": "2021-05-24T23:22:17.794600Z",
     "iopub.status.busy": "2021-05-24T23:22:17.794390Z",
     "iopub.status.idle": "2021-05-24T23:22:17.811869Z",
     "shell.execute_reply": "2021-05-24T23:22:17.811310Z",
     "shell.execute_reply.started": "2021-05-24T23:22:17.794574Z"
    }
   },
   "outputs": [],
   "source": [
    "from ecephys.scoring import get_timepoint_states\n",
    "\n",
    "def filter_states(ds, hypnogram, states):\n",
    "    timepoint_states = get_timepoint_states(hypnogram, ds.time)\n",
    "    return ds.where(np.isin(timepoint_states, states))"
   ]
  },
  {
   "cell_type": "code",
   "execution_count": 7,
   "metadata": {
    "execution": {
     "iopub.execute_input": "2021-05-24T23:22:17.954501Z",
     "iopub.status.busy": "2021-05-24T23:22:17.954290Z",
     "iopub.status.idle": "2021-05-24T23:22:17.974708Z",
     "shell.execute_reply": "2021-05-24T23:22:17.974099Z",
     "shell.execute_reply.started": "2021-05-24T23:22:17.954475Z"
    }
   },
   "outputs": [],
   "source": [
    "def load_condition_data(subject, experiment, condition, power_as_percentage_of=None):\n",
    "    hypnogram = ea.load_hypnogram(subject, experiment, condition)    \n",
    "    spws = ea.load_spws(subject, experiment, condition, condition_start_dt=hypnogram.start_time.min())\n",
    "    bp = ea.load_bandpower(subject, experiment, condition)\n",
    "    if power_as_percentage_of:\n",
    "        bp = bp / power_as_percentage_of * 100\n",
    "    \n",
    "    bp = get_smoothed_ds(bp, smoothing_sigma=10, in_place=True)\n",
    "    \n",
    "    return hypnogram, spws, bp"
   ]
  },
  {
   "cell_type": "code",
   "execution_count": 63,
   "metadata": {
    "execution": {
     "iopub.execute_input": "2021-05-24T23:39:47.650964Z",
     "iopub.status.busy": "2021-05-24T23:39:47.650480Z",
     "iopub.status.idle": "2021-05-24T23:39:47.700714Z",
     "shell.execute_reply": "2021-05-24T23:39:47.699909Z",
     "shell.execute_reply.started": "2021-05-24T23:39:47.650902Z"
    }
   },
   "outputs": [],
   "source": [
    "def plot_condition(hypnogram, spws, power):\n",
    "\n",
    "    fig, (mpta_swa_ax, sr_swa_ax, density_ax, duration_ax, amplitude_ax, integral_ax) = plt.subplots(6, 1, figsize=(22,12))\n",
    "    xmargin=0\n",
    "    \n",
    "    mpta_swa_ylabel = 'CTX delta, WM ref'\n",
    "    sr_swa_ylabel = 'SR delta, WM ref'\n",
    "    #mpta_swa_ylabel = mpta_swa_ylabel + ', \\n % BSL NREM mean'\n",
    "    #sr_swa_ylabel = sr_swa_ylabel + ', \\n % BSL NREM mean'\n",
    "\n",
    "    # units = (uV^2/Hz)\n",
    "    sns.lineplot(x=power.datetime.values, y=power.mpta_delta_wm_ref.values, color='black', ax=mpta_swa_ax)\n",
    "    mpta_swa_ax.set(xlabel=None, ylabel=mpta_swa_ylabel, ylim=MPTA_SWA_LIM, xmargin=xmargin, xticks=[])\n",
    "\n",
    "    sns.lineplot(x=power.datetime.values, y=power.sr_delta_wm_ref.values, color='black', ax=sr_swa_ax)\n",
    "    sr_swa_ax.set(xlabel=None, ylabel=sr_swa_ylabel, ylim=SR_SWA_LIM, xmargin=xmargin, xticks=[])\n",
    "    \n",
    "    mpta_swa_ax.axhline(100, color='r', linestyle=':')\n",
    "    sr_swa_ax.axhline(100, color='r', linestyle=':')\n",
    "\n",
    "    binwidth = 10\n",
    "    nbins = np.int((spws.start_time.max() - spws.start_time.min()).total_seconds() / binwidth)\n",
    "    sns.histplot(data=spws, x='start_time', bins=nbins, color='black', ax=density_ax)\n",
    "    density_ax.set(xlabel=None, ylabel='Frequency (Hz)', ylim=DENSITY_LIM, xmargin=xmargin, xticks=[])\n",
    "\n",
    "    sns.scatterplot(data=spws, x=\"start_time\", y=\"duration\", s=2, ax=duration_ax)\n",
    "    duration_ax.set(xlabel=None, ylabel=\"Duration (s)\", ylim=DURATION_LIM, xmargin=xmargin, xticks=[])\n",
    "\n",
    "    sns.scatterplot(data=spws, x='start_time', y='sink_amplitude', s=2, ax=amplitude_ax)\n",
    "    amplitude_ax.set(xlabel=None, ylabel=\"Sink amplitude (mA/mm)\", ylim=AMPLITUDE_LIM, xmargin=xmargin, xticks=[])\n",
    "\n",
    "    sns.scatterplot(data=spws, x='start_time', y='sink_integral', s=2, ax=integral_ax)\n",
    "    integral_ax.set(xlabel=\"Event time (month-date hour)\", ylabel=\"Sink integral (mA * ms)\", ylim=INTEGRAL_LIM, xmargin=xmargin)\n",
    "\n",
    "    for ax in (mpta_swa_ax, sr_swa_ax, density_ax, duration_ax, amplitude_ax, integral_ax):\n",
    "        eplt.plot_hypnogram_overlay(hypnogram, ax=ax)\n",
    "\n",
    "    plt.tight_layout()"
   ]
  },
  {
   "cell_type": "code",
   "execution_count": 9,
   "metadata": {
    "execution": {
     "iopub.execute_input": "2021-05-24T23:22:19.075371Z",
     "iopub.status.busy": "2021-05-24T23:22:19.075115Z",
     "iopub.status.idle": "2021-05-24T23:22:19.095571Z",
     "shell.execute_reply": "2021-05-24T23:22:19.094673Z",
     "shell.execute_reply.started": "2021-05-24T23:22:19.075341Z"
    }
   },
   "outputs": [],
   "source": [
    "subject = \"Doppio\"\n",
    "experiment = \"ketamine-120mg\"\n",
    "condition = \"all\""
   ]
  },
  {
   "cell_type": "code",
   "execution_count": 10,
   "metadata": {
    "execution": {
     "iopub.execute_input": "2021-05-24T23:22:19.274803Z",
     "iopub.status.busy": "2021-05-24T23:22:19.274600Z",
     "iopub.status.idle": "2021-05-24T23:22:19.293420Z",
     "shell.execute_reply": "2021-05-24T23:22:19.292659Z",
     "shell.execute_reply.started": "2021-05-24T23:22:19.274778Z"
    }
   },
   "outputs": [],
   "source": [
    "MPTA_SWA_LIM = SR_SWA_LIM = DENSITY_LIM = DURATION_LIM = AMPLITUDE_LIM = INTEGRAL_LIM = (None, None)"
   ]
  },
  {
   "cell_type": "code",
   "execution_count": null,
   "metadata": {
    "execution": {
     "iopub.execute_input": "2021-05-24T23:05:53.285884Z",
     "iopub.status.busy": "2021-05-24T23:05:53.285332Z"
    }
   },
   "outputs": [],
   "source": [
    "(hypnogram, spws, power) = load_condition_data(subject, experiment, condition)"
   ]
  },
  {
   "cell_type": "code",
   "execution_count": 64,
   "metadata": {
    "execution": {
     "iopub.execute_input": "2021-05-24T23:39:50.314393Z",
     "iopub.status.busy": "2021-05-24T23:39:50.313886Z",
     "iopub.status.idle": "2021-05-24T23:39:52.147078Z",
     "shell.execute_reply": "2021-05-24T23:39:52.146651Z",
     "shell.execute_reply.started": "2021-05-24T23:39:50.314330Z"
    }
   },
   "outputs": [
    {
     "data": {
      "application/vnd.jupyter.widget-view+json": {
       "model_id": "088f4b1c16a444f9be1b66cde7ba9d44",
       "version_major": 2,
       "version_minor": 0
      },
      "text/plain": [
       "Canvas(toolbar=Toolbar(toolitems=[('Home', 'Reset original view', 'home', 'home'), ('Back', 'Back to previous …"
      ]
     },
     "metadata": {},
     "output_type": "display_data"
    }
   ],
   "source": [
    "plot_condition(hypnogram, spws, power)"
   ]
  },
  {
   "cell_type": "code",
   "execution_count": null,
   "metadata": {},
   "outputs": [],
   "source": []
  },
  {
   "cell_type": "code",
   "execution_count": 11,
   "metadata": {
    "execution": {
     "iopub.execute_input": "2021-05-24T23:22:22.174593Z",
     "iopub.status.busy": "2021-05-24T23:22:22.174375Z",
     "iopub.status.idle": "2021-05-24T23:22:22.280627Z",
     "shell.execute_reply": "2021-05-24T23:22:22.279892Z",
     "shell.execute_reply.started": "2021-05-24T23:22:22.174569Z"
    }
   },
   "outputs": [],
   "source": [
    "hypnogram = ea.load_hypnogram(subject, experiment, condition)    "
   ]
  },
  {
   "cell_type": "code",
   "execution_count": 12,
   "metadata": {
    "execution": {
     "iopub.execute_input": "2021-05-24T23:22:22.588933Z",
     "iopub.status.busy": "2021-05-24T23:22:22.588516Z",
     "iopub.status.idle": "2021-05-24T23:22:22.849584Z",
     "shell.execute_reply": "2021-05-24T23:22:22.848893Z",
     "shell.execute_reply.started": "2021-05-24T23:22:22.588880Z"
    }
   },
   "outputs": [],
   "source": [
    "spws = ea.load_spws(subject, experiment, condition, condition_start_dt=hypnogram.start_time.min())"
   ]
  },
  {
   "cell_type": "code",
   "execution_count": 55,
   "metadata": {
    "execution": {
     "iopub.execute_input": "2021-05-24T23:37:29.747552Z",
     "iopub.status.busy": "2021-05-24T23:37:29.747110Z",
     "iopub.status.idle": "2021-05-24T23:37:29.883341Z",
     "shell.execute_reply": "2021-05-24T23:37:29.882688Z",
     "shell.execute_reply.started": "2021-05-24T23:37:29.747497Z"
    }
   },
   "outputs": [],
   "source": [
    "bp = ea.load_bandpower(subject, experiment, condition)"
   ]
  },
  {
   "cell_type": "code",
   "execution_count": 56,
   "metadata": {
    "execution": {
     "iopub.execute_input": "2021-05-24T23:37:29.964417Z",
     "iopub.status.busy": "2021-05-24T23:37:29.964284Z",
     "iopub.status.idle": "2021-05-24T23:37:29.978132Z",
     "shell.execute_reply": "2021-05-24T23:37:29.977525Z",
     "shell.execute_reply.started": "2021-05-24T23:37:29.964400Z"
    }
   },
   "outputs": [],
   "source": [
    "new_coords = bp.datetime.values.min() + pd.to_timedelta(np.arange(bp.time.size) * 3, 's')"
   ]
  },
  {
   "cell_type": "code",
   "execution_count": 57,
   "metadata": {
    "execution": {
     "iopub.execute_input": "2021-05-24T23:37:30.159092Z",
     "iopub.status.busy": "2021-05-24T23:37:30.158867Z",
     "iopub.status.idle": "2021-05-24T23:37:30.175810Z",
     "shell.execute_reply": "2021-05-24T23:37:30.175067Z",
     "shell.execute_reply.started": "2021-05-24T23:37:30.159064Z"
    }
   },
   "outputs": [],
   "source": [
    "bp = bp.assign_coords({\"datetime\": (\"time\", new_coords)})"
   ]
  },
  {
   "cell_type": "code",
   "execution_count": 61,
   "metadata": {
    "execution": {
     "iopub.execute_input": "2021-05-24T23:38:21.301825Z",
     "iopub.status.busy": "2021-05-24T23:38:21.301344Z",
     "iopub.status.idle": "2021-05-24T23:38:21.337461Z",
     "shell.execute_reply": "2021-05-24T23:38:21.336814Z",
     "shell.execute_reply.started": "2021-05-24T23:38:21.301763Z"
    }
   },
   "outputs": [],
   "source": [
    "power = get_smoothed_ds(bp, smoothing_sigma=10)"
   ]
  },
  {
   "cell_type": "code",
   "execution_count": null,
   "metadata": {},
   "outputs": [],
   "source": []
  }
 ],
 "metadata": {
  "kernelspec": {
   "display_name": "Python 3",
   "language": "python",
   "name": "python3"
  },
  "language_info": {
   "codemirror_mode": {
    "name": "ipython",
    "version": 3
   },
   "file_extension": ".py",
   "mimetype": "text/x-python",
   "name": "python",
   "nbconvert_exporter": "python",
   "pygments_lexer": "ipython3",
   "version": "3.7.9"
  }
 },
 "nbformat": 4,
 "nbformat_minor": 4
}
