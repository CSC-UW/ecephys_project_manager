{
 "cells": [
  {
   "cell_type": "code",
   "execution_count": 1,
   "metadata": {
    "execution": {
     "iopub.execute_input": "2021-05-12T22:19:49.934450Z",
     "iopub.status.busy": "2021-05-12T22:19:49.933974Z",
     "iopub.status.idle": "2021-05-12T22:19:49.952191Z",
     "shell.execute_reply": "2021-05-12T22:19:49.951506Z",
     "shell.execute_reply.started": "2021-05-12T22:19:49.934389Z"
    }
   },
   "outputs": [],
   "source": [
    "%load_ext autoreload\n",
    "%autoreload 2"
   ]
  },
  {
   "cell_type": "code",
   "execution_count": 2,
   "metadata": {
    "execution": {
     "iopub.execute_input": "2021-05-12T22:19:50.210939Z",
     "iopub.status.busy": "2021-05-12T22:19:50.210446Z",
     "iopub.status.idle": "2021-05-12T22:19:50.628564Z",
     "shell.execute_reply": "2021-05-12T22:19:50.627814Z",
     "shell.execute_reply.started": "2021-05-12T22:19:50.210880Z"
    }
   },
   "outputs": [],
   "source": [
    "%matplotlib widget\n",
    "import matplotlib.pyplot as plt\n",
    "import seaborn as sns"
   ]
  },
  {
   "cell_type": "code",
   "execution_count": 3,
   "metadata": {
    "execution": {
     "iopub.execute_input": "2021-05-12T22:19:50.642584Z",
     "iopub.status.busy": "2021-05-12T22:19:50.642447Z",
     "iopub.status.idle": "2021-05-12T22:19:50.906155Z",
     "shell.execute_reply": "2021-05-12T22:19:50.905427Z",
     "shell.execute_reply.started": "2021-05-12T22:19:50.642565Z"
    }
   },
   "outputs": [],
   "source": [
    "import numpy as np\n",
    "import pandas as pd\n",
    "import xarray as xr"
   ]
  },
  {
   "cell_type": "code",
   "execution_count": 4,
   "metadata": {
    "execution": {
     "iopub.execute_input": "2021-05-12T22:19:51.010900Z",
     "iopub.status.busy": "2021-05-12T22:19:51.010616Z",
     "iopub.status.idle": "2021-05-12T22:19:51.032679Z",
     "shell.execute_reply": "2021-05-12T22:19:51.032046Z",
     "shell.execute_reply.started": "2021-05-12T22:19:51.010863Z"
    }
   },
   "outputs": [
    {
     "data": {
      "text/plain": [
       "<xarray.core.options.set_options at 0x7fd5fd9fba90>"
      ]
     },
     "execution_count": 4,
     "metadata": {},
     "output_type": "execute_result"
    }
   ],
   "source": [
    "xr.set_options(keep_attrs=True)"
   ]
  },
  {
   "cell_type": "code",
   "execution_count": 19,
   "metadata": {
    "execution": {
     "iopub.execute_input": "2021-05-13T20:07:34.696145Z",
     "iopub.status.busy": "2021-05-13T20:07:34.695653Z",
     "iopub.status.idle": "2021-05-13T20:07:34.718621Z",
     "shell.execute_reply": "2021-05-13T20:07:34.717971Z",
     "shell.execute_reply.started": "2021-05-13T20:07:34.696084Z"
    }
   },
   "outputs": [],
   "source": [
    "import ecephys_analyses as ea\n",
    "import ecephys.plot as eplt\n",
    "from ecephys.utils.xarray import estimate_fs, get_smoothed_da, get_smoothed_ds"
   ]
  },
  {
   "cell_type": "code",
   "execution_count": 8,
   "metadata": {
    "execution": {
     "iopub.execute_input": "2021-05-12T22:19:55.010341Z",
     "iopub.status.busy": "2021-05-12T22:19:55.009860Z",
     "iopub.status.idle": "2021-05-12T22:19:55.036738Z",
     "shell.execute_reply": "2021-05-12T22:19:55.035662Z",
     "shell.execute_reply.started": "2021-05-12T22:19:55.010291Z"
    }
   },
   "outputs": [],
   "source": [
    "from ecephys.scoring import get_timepoint_states\n",
    "\n",
    "def filter_states(ds, hypnogram, states):\n",
    "    timepoint_states = get_timepoint_states(hypnogram, ds.time)\n",
    "    return ds.where(np.isin(timepoint_states, states))"
   ]
  },
  {
   "cell_type": "code",
   "execution_count": 9,
   "metadata": {
    "execution": {
     "iopub.execute_input": "2021-05-12T22:19:55.403172Z",
     "iopub.status.busy": "2021-05-12T22:19:55.402706Z",
     "iopub.status.idle": "2021-05-12T22:19:55.436743Z",
     "shell.execute_reply": "2021-05-12T22:19:55.435865Z",
     "shell.execute_reply.started": "2021-05-12T22:19:55.403118Z"
    }
   },
   "outputs": [],
   "source": [
    "def load_condition_data(subject, experiment, condition, power_as_percentage_of=None):\n",
    "    hypnogram = ea.load_hypnogram(subject, experiment, condition)    \n",
    "    spws = ea.load_spws(subject, experiment, condition, condition_start_dt=hypnogram.start_time.min())\n",
    "    bp = ea.load_bandpower(subject, experiment, condition)\n",
    "    if power_as_percentage_of:\n",
    "        bp = bp / power_as_percentage_of * 100\n",
    "    \n",
    "    bp = get_smoothed_ds(bp, smoothing_sigma=10, in_place=True)\n",
    "    \n",
    "    return hypnogram, spws, bp"
   ]
  },
  {
   "cell_type": "code",
   "execution_count": 10,
   "metadata": {
    "execution": {
     "iopub.execute_input": "2021-05-12T22:19:58.642720Z",
     "iopub.status.busy": "2021-05-12T22:19:58.642280Z",
     "iopub.status.idle": "2021-05-12T22:19:58.695356Z",
     "shell.execute_reply": "2021-05-12T22:19:58.694524Z",
     "shell.execute_reply.started": "2021-05-12T22:19:58.642671Z"
    }
   },
   "outputs": [],
   "source": [
    "def plot_condition(hypnogram, spws, power):\n",
    "\n",
    "    fig, (mpta_swa_ax, sr_swa_ax, density_ax, duration_ax, amplitude_ax, integral_ax) = plt.subplots(6, 1, figsize=(22,12))\n",
    "    xmargin=0\n",
    "    \n",
    "    mpta_swa_ylabel = 'CTX delta, WM ref'\n",
    "    sr_swa_ylabel = 'SR delta, WM ref'\n",
    "    #mpta_swa_ylabel = mpta_swa_ylabel + ', \\n % BSL NREM mean'\n",
    "    #sr_swa_ylabel = sr_swa_ylabel + ', \\n % BSL NREM mean'\n",
    "\n",
    "    # units = (uV^2/Hz)\n",
    "    sns.lineplot(x=power.time.values, y=power.mpta_delta_wm_ref.values, color='black', ax=mpta_swa_ax)\n",
    "    mpta_swa_ax.set(xlabel=None, ylabel=mpta_swa_ylabel, ylim=MPTA_SWA_LIM, xmargin=xmargin, xticks=[])\n",
    "\n",
    "    sns.lineplot(x=power.time.values, y=power.sr_delta_wm_ref.values, color='black', ax=sr_swa_ax)\n",
    "    sr_swa_ax.set(xlabel=None, ylabel=sr_swa_ylabel, ylim=SR_SWA_LIM, xmargin=xmargin, xticks=[])\n",
    "    \n",
    "    mpta_swa_ax.axhline(100, color='r', linestyle=':')\n",
    "    sr_swa_ax.axhline(100, color='r', linestyle=':')\n",
    "\n",
    "    binwidth = 10\n",
    "    nbins = np.int((spws.start_time.max() - spws.start_time.min()).total_seconds() / binwidth)\n",
    "    sns.histplot(data=spws, x='start_time', bins=nbins, color='black', ax=density_ax)\n",
    "    density_ax.set(xlabel=None, ylabel='Frequency (Hz)', ylim=DENSITY_LIM, xmargin=xmargin, xticks=[])\n",
    "\n",
    "    sns.scatterplot(data=spws, x=\"start_time\", y=\"duration\", s=2, ax=duration_ax)\n",
    "    duration_ax.set(xlabel=None, ylabel=\"Duration (s)\", ylim=DURATION_LIM, xmargin=xmargin, xticks=[])\n",
    "\n",
    "    sns.scatterplot(data=spws, x='start_time', y='sink_amplitude', s=2, ax=amplitude_ax)\n",
    "    amplitude_ax.set(xlabel=None, ylabel=\"Sink amplitude (mA/mm)\", ylim=AMPLITUDE_LIM, xmargin=xmargin, xticks=[])\n",
    "\n",
    "    sns.scatterplot(data=spws, x='start_time', y='sink_integral', s=2, ax=integral_ax)\n",
    "    integral_ax.set(xlabel=\"Event time (month-date hour)\", ylabel=\"Sink integral (mA * ms)\", ylim=INTEGRAL_LIM, xmargin=xmargin)\n",
    "\n",
    "    for ax in (mpta_swa_ax, sr_swa_ax, density_ax, duration_ax, amplitude_ax, integral_ax):\n",
    "        eplt.plot_hypnogram_overlay(hypnogram, ax=ax)\n",
    "\n",
    "    plt.tight_layout()"
   ]
  },
  {
   "cell_type": "code",
   "execution_count": 94,
   "metadata": {
    "execution": {
     "iopub.execute_input": "2021-05-05T20:08:41.551807Z",
     "iopub.status.busy": "2021-05-05T20:08:41.551297Z",
     "iopub.status.idle": "2021-05-05T20:08:41.575193Z",
     "shell.execute_reply": "2021-05-05T20:08:41.574410Z",
     "shell.execute_reply.started": "2021-05-05T20:08:41.551744Z"
    }
   },
   "outputs": [],
   "source": [
    "subject = \"Valentino\"\n",
    "experiment = \"sevo-dex\"\n",
    "condition = \"all\"\n",
    "state_colors = {'None': 'white', 'SevoDex': 'plum', 'Dex': 'thistle', 'Wake': 'palegreen', 'Art': 'crimson'}"
   ]
  },
  {
   "cell_type": "code",
   "execution_count": 56,
   "metadata": {
    "execution": {
     "iopub.execute_input": "2021-05-14T22:28:19.764260Z",
     "iopub.status.busy": "2021-05-14T22:28:19.763978Z",
     "iopub.status.idle": "2021-05-14T22:28:19.784566Z",
     "shell.execute_reply": "2021-05-14T22:28:19.783692Z",
     "shell.execute_reply.started": "2021-05-14T22:28:19.764226Z"
    }
   },
   "outputs": [],
   "source": [
    "subject = \"Allan\"\n",
    "experiment = \"ketamine\"\n",
    "condition = \"all\""
   ]
  },
  {
   "cell_type": "code",
   "execution_count": 57,
   "metadata": {
    "execution": {
     "iopub.execute_input": "2021-05-14T22:28:19.928020Z",
     "iopub.status.busy": "2021-05-14T22:28:19.927812Z",
     "iopub.status.idle": "2021-05-14T22:28:19.946013Z",
     "shell.execute_reply": "2021-05-14T22:28:19.945149Z",
     "shell.execute_reply.started": "2021-05-14T22:28:19.927995Z"
    }
   },
   "outputs": [],
   "source": [
    "MPTA_SWA_LIM = SR_SWA_LIM = DENSITY_LIM = DURATION_LIM = AMPLITUDE_LIM = INTEGRAL_LIM = (None, None)"
   ]
  },
  {
   "cell_type": "code",
   "execution_count": 58,
   "metadata": {
    "execution": {
     "iopub.execute_input": "2021-05-14T22:28:20.135910Z",
     "iopub.status.busy": "2021-05-14T22:28:20.135755Z",
     "iopub.status.idle": "2021-05-14T22:28:20.576206Z",
     "shell.execute_reply": "2021-05-14T22:28:20.575550Z",
     "shell.execute_reply.started": "2021-05-14T22:28:20.135891Z"
    }
   },
   "outputs": [],
   "source": [
    "(hypnogram, spws, power) = load_condition_data(subject, experiment, condition)"
   ]
  },
  {
   "cell_type": "code",
   "execution_count": 59,
   "metadata": {
    "execution": {
     "iopub.execute_input": "2021-05-14T22:28:20.597674Z",
     "iopub.status.busy": "2021-05-14T22:28:20.597550Z",
     "iopub.status.idle": "2021-05-14T22:28:25.550930Z",
     "shell.execute_reply": "2021-05-14T22:28:25.550231Z",
     "shell.execute_reply.started": "2021-05-14T22:28:20.597658Z"
    }
   },
   "outputs": [
    {
     "data": {
      "application/vnd.jupyter.widget-view+json": {
       "model_id": "cec8be8c6b5c47eeb2d028feca45ab27",
       "version_major": 2,
       "version_minor": 0
      },
      "text/plain": [
       "Canvas(toolbar=Toolbar(toolitems=[('Home', 'Reset original view', 'home', 'home'), ('Back', 'Back to previous …"
      ]
     },
     "metadata": {},
     "output_type": "display_data"
    }
   ],
   "source": [
    "plot_condition(hypnogram, spws, power)"
   ]
  },
  {
   "cell_type": "code",
   "execution_count": null,
   "metadata": {},
   "outputs": [],
   "source": []
  },
  {
   "cell_type": "code",
   "execution_count": null,
   "metadata": {},
   "outputs": [],
   "source": []
  }
 ],
 "metadata": {
  "kernelspec": {
   "display_name": "Python 3",
   "language": "python",
   "name": "python3"
  },
  "language_info": {
   "codemirror_mode": {
    "name": "ipython",
    "version": 3
   },
   "file_extension": ".py",
   "mimetype": "text/x-python",
   "name": "python",
   "nbconvert_exporter": "python",
   "pygments_lexer": "ipython3",
   "version": "3.7.9"
  }
 },
 "nbformat": 4,
 "nbformat_minor": 4
}
