{
 "cells": [
  {
   "cell_type": "code",
   "execution_count": 1,
   "metadata": {
    "execution": {
     "iopub.execute_input": "2021-04-07T18:09:26.441223Z",
     "iopub.status.busy": "2021-04-07T18:09:26.440939Z",
     "iopub.status.idle": "2021-04-07T18:09:26.457372Z",
     "shell.execute_reply": "2021-04-07T18:09:26.456723Z",
     "shell.execute_reply.started": "2021-04-07T18:09:26.441188Z"
    }
   },
   "outputs": [],
   "source": [
    "%load_ext autoreload\n",
    "%autoreload 2"
   ]
  },
  {
   "cell_type": "code",
   "execution_count": 2,
   "metadata": {
    "execution": {
     "iopub.execute_input": "2021-04-07T18:09:26.812094Z",
     "iopub.status.busy": "2021-04-07T18:09:26.811618Z",
     "iopub.status.idle": "2021-04-07T18:09:27.165386Z",
     "shell.execute_reply": "2021-04-07T18:09:27.164674Z",
     "shell.execute_reply.started": "2021-04-07T18:09:26.812034Z"
    }
   },
   "outputs": [],
   "source": [
    "%matplotlib widget\n",
    "import matplotlib.pyplot as plt\n",
    "import seaborn as sns"
   ]
  },
  {
   "cell_type": "code",
   "execution_count": 3,
   "metadata": {
    "execution": {
     "iopub.execute_input": "2021-04-07T18:09:27.178241Z",
     "iopub.status.busy": "2021-04-07T18:09:27.178116Z",
     "iopub.status.idle": "2021-04-07T18:09:27.404122Z",
     "shell.execute_reply": "2021-04-07T18:09:27.403471Z",
     "shell.execute_reply.started": "2021-04-07T18:09:27.178224Z"
    }
   },
   "outputs": [],
   "source": [
    "import numpy as np\n",
    "import pandas as pd\n",
    "import xarray as xr"
   ]
  },
  {
   "cell_type": "code",
   "execution_count": 4,
   "metadata": {
    "execution": {
     "iopub.execute_input": "2021-04-07T18:09:27.417736Z",
     "iopub.status.busy": "2021-04-07T18:09:27.417609Z",
     "iopub.status.idle": "2021-04-07T18:09:27.501810Z",
     "shell.execute_reply": "2021-04-07T18:09:27.501125Z",
     "shell.execute_reply.started": "2021-04-07T18:09:27.417720Z"
    }
   },
   "outputs": [],
   "source": [
    "from ecephys_analyses.data import paths\n",
    "from ecephys.scoring import load_datetime_hypnogram, filter_states\n",
    "from ecephys.utils import load_df_h5, replace_outliers\n",
    "from ecephys.signal.sharp_wave_ripples import get_events_in_interval\n",
    "import ecephys.plot as eplt\n",
    "from neurodsp.plts.time_series import plot_time_series"
   ]
  },
  {
   "cell_type": "code",
   "execution_count": 5,
   "metadata": {
    "execution": {
     "iopub.execute_input": "2021-04-07T18:09:27.731784Z",
     "iopub.status.busy": "2021-04-07T18:09:27.731329Z",
     "iopub.status.idle": "2021-04-07T18:09:27.750538Z",
     "shell.execute_reply": "2021-04-07T18:09:27.749844Z",
     "shell.execute_reply.started": "2021-04-07T18:09:27.731727Z"
    }
   },
   "outputs": [],
   "source": [
    "from ripple_detection.core import gaussian_smooth\n",
    "\n",
    "def my_gaussian_smooth(da, smoothing_sigma=10):\n",
    "    estimated_fs = 1 / np.diff(da.time.values).mean()\n",
    "    return gaussian_smooth(da, smoothing_sigma, estimated_fs)"
   ]
  },
  {
   "cell_type": "code",
   "execution_count": 6,
   "metadata": {
    "execution": {
     "iopub.execute_input": "2021-04-07T18:09:28.035531Z",
     "iopub.status.busy": "2021-04-07T18:09:28.035114Z",
     "iopub.status.idle": "2021-04-07T18:09:28.057022Z",
     "shell.execute_reply": "2021-04-07T18:09:28.056327Z",
     "shell.execute_reply.started": "2021-04-07T18:09:28.035480Z"
    }
   },
   "outputs": [],
   "source": [
    "def concatenate_power(bandpowers):\n",
    "    for i in range(1, len(bandpowers)):\n",
    "        bandpowers[i]['time'] = bandpowers[i].time + bandpowers[i-1].time.max()\n",
    "        \n",
    "    return xr.concat(bandpowers, dim=\"time\")"
   ]
  },
  {
   "cell_type": "code",
   "execution_count": 76,
   "metadata": {
    "execution": {
     "iopub.execute_input": "2021-04-07T20:57:29.287204Z",
     "iopub.status.busy": "2021-04-07T20:57:29.286749Z",
     "iopub.status.idle": "2021-04-07T20:57:29.309784Z",
     "shell.execute_reply": "2021-04-07T20:57:29.308984Z",
     "shell.execute_reply.started": "2021-04-07T20:57:29.287147Z"
    }
   },
   "outputs": [],
   "source": [
    "subject = \"Allan\"\n",
    "condition = \"dark-period-circadian-match\""
   ]
  },
  {
   "cell_type": "code",
   "execution_count": 77,
   "metadata": {
    "execution": {
     "iopub.execute_input": "2021-04-07T20:57:30.122259Z",
     "iopub.status.busy": "2021-04-07T20:57:30.121917Z",
     "iopub.status.idle": "2021-04-07T20:57:30.473093Z",
     "shell.execute_reply": "2021-04-07T20:57:30.472268Z",
     "shell.execute_reply.started": "2021-04-07T20:57:30.122216Z"
    }
   },
   "outputs": [
    {
     "ename": "FileNotFoundError",
     "evalue": "[Errno 2] No such file or directory: '/Volumes/neuropixel/Data/CNPIX8-Allan/3-1-2021/3-1-2021_D_g0/3-1-2021_D_g0_imec1/3-1-2021_D_g0_t0.imec1.hypnogram.tsv'",
     "output_type": "error",
     "traceback": [
      "\u001b[0;31m---------------------------------------------------------------------------\u001b[0m",
      "\u001b[0;31mFileNotFoundError\u001b[0m                         Traceback (most recent call last)",
      "\u001b[0;32m<ipython-input-77-d2f23e0b55bb>\u001b[0m in \u001b[0;36m<module>\u001b[0;34m()\u001b[0m\n\u001b[1;32m      1\u001b[0m \u001b[0mhypnogram_paths\u001b[0m \u001b[0;34m=\u001b[0m \u001b[0mpaths\u001b[0m\u001b[0;34m.\u001b[0m\u001b[0mget_sglx_style_datapaths\u001b[0m\u001b[0;34m(\u001b[0m\u001b[0msubject\u001b[0m\u001b[0;34m=\u001b[0m\u001b[0msubject\u001b[0m\u001b[0;34m,\u001b[0m \u001b[0mexperiment\u001b[0m\u001b[0;34m=\u001b[0m\u001b[0;34m\"sleep-homeostasis\"\u001b[0m\u001b[0;34m,\u001b[0m \u001b[0mcondition\u001b[0m\u001b[0;34m=\u001b[0m\u001b[0mcondition\u001b[0m\u001b[0;34m,\u001b[0m \u001b[0mext\u001b[0m\u001b[0;34m=\u001b[0m\u001b[0;34m\"hypnogram.tsv\"\u001b[0m\u001b[0;34m)\u001b[0m\u001b[0;34m\u001b[0m\u001b[0;34m\u001b[0m\u001b[0m\n\u001b[0;32m----> 2\u001b[0;31m \u001b[0mhypnograms\u001b[0m \u001b[0;34m=\u001b[0m \u001b[0;34m[\u001b[0m\u001b[0mload_datetime_hypnogram\u001b[0m\u001b[0;34m(\u001b[0m\u001b[0mpath\u001b[0m\u001b[0;34m)\u001b[0m \u001b[0;32mfor\u001b[0m \u001b[0mpath\u001b[0m \u001b[0;32min\u001b[0m \u001b[0mhypnogram_paths\u001b[0m\u001b[0;34m]\u001b[0m\u001b[0;34m\u001b[0m\u001b[0;34m\u001b[0m\u001b[0m\n\u001b[0m",
      "\u001b[0;32m<ipython-input-77-d2f23e0b55bb>\u001b[0m in \u001b[0;36m<listcomp>\u001b[0;34m(.0)\u001b[0m\n\u001b[1;32m      1\u001b[0m \u001b[0mhypnogram_paths\u001b[0m \u001b[0;34m=\u001b[0m \u001b[0mpaths\u001b[0m\u001b[0;34m.\u001b[0m\u001b[0mget_sglx_style_datapaths\u001b[0m\u001b[0;34m(\u001b[0m\u001b[0msubject\u001b[0m\u001b[0;34m=\u001b[0m\u001b[0msubject\u001b[0m\u001b[0;34m,\u001b[0m \u001b[0mexperiment\u001b[0m\u001b[0;34m=\u001b[0m\u001b[0;34m\"sleep-homeostasis\"\u001b[0m\u001b[0;34m,\u001b[0m \u001b[0mcondition\u001b[0m\u001b[0;34m=\u001b[0m\u001b[0mcondition\u001b[0m\u001b[0;34m,\u001b[0m \u001b[0mext\u001b[0m\u001b[0;34m=\u001b[0m\u001b[0;34m\"hypnogram.tsv\"\u001b[0m\u001b[0;34m)\u001b[0m\u001b[0;34m\u001b[0m\u001b[0;34m\u001b[0m\u001b[0m\n\u001b[0;32m----> 2\u001b[0;31m \u001b[0mhypnograms\u001b[0m \u001b[0;34m=\u001b[0m \u001b[0;34m[\u001b[0m\u001b[0mload_datetime_hypnogram\u001b[0m\u001b[0;34m(\u001b[0m\u001b[0mpath\u001b[0m\u001b[0;34m)\u001b[0m \u001b[0;32mfor\u001b[0m \u001b[0mpath\u001b[0m \u001b[0;32min\u001b[0m \u001b[0mhypnogram_paths\u001b[0m\u001b[0;34m]\u001b[0m\u001b[0;34m\u001b[0m\u001b[0;34m\u001b[0m\u001b[0m\n\u001b[0m",
      "\u001b[0;32m/home/gfindlay/Documents/ecephys/ecephys/scoring/hypnogram.py\u001b[0m in \u001b[0;36mload_datetime_hypnogram\u001b[0;34m(path)\u001b[0m\n\u001b[1;32m    192\u001b[0m \u001b[0;34m\u001b[0m\u001b[0m\n\u001b[1;32m    193\u001b[0m \u001b[0;32mdef\u001b[0m \u001b[0mload_datetime_hypnogram\u001b[0m\u001b[0;34m(\u001b[0m\u001b[0mpath\u001b[0m\u001b[0;34m)\u001b[0m\u001b[0;34m:\u001b[0m\u001b[0;34m\u001b[0m\u001b[0;34m\u001b[0m\u001b[0m\n\u001b[0;32m--> 194\u001b[0;31m     \u001b[0mH\u001b[0m \u001b[0;34m=\u001b[0m \u001b[0mpd\u001b[0m\u001b[0;34m.\u001b[0m\u001b[0mread_csv\u001b[0m\u001b[0;34m(\u001b[0m\u001b[0mpath\u001b[0m\u001b[0;34m,\u001b[0m \u001b[0msep\u001b[0m\u001b[0;34m=\u001b[0m\u001b[0;34m\"\\t\"\u001b[0m\u001b[0;34m)\u001b[0m\u001b[0;34m\u001b[0m\u001b[0;34m\u001b[0m\u001b[0m\n\u001b[0m\u001b[1;32m    195\u001b[0m     \u001b[0mH\u001b[0m\u001b[0;34m[\u001b[0m\u001b[0;34m\"start_time\"\u001b[0m\u001b[0;34m]\u001b[0m \u001b[0;34m=\u001b[0m \u001b[0mpd\u001b[0m\u001b[0;34m.\u001b[0m\u001b[0mto_datetime\u001b[0m\u001b[0;34m(\u001b[0m\u001b[0mH\u001b[0m\u001b[0;34m[\u001b[0m\u001b[0;34m\"start_time\"\u001b[0m\u001b[0;34m]\u001b[0m\u001b[0;34m)\u001b[0m\u001b[0;34m\u001b[0m\u001b[0;34m\u001b[0m\u001b[0m\n\u001b[1;32m    196\u001b[0m     \u001b[0mH\u001b[0m\u001b[0;34m[\u001b[0m\u001b[0;34m\"end_time\"\u001b[0m\u001b[0;34m]\u001b[0m \u001b[0;34m=\u001b[0m \u001b[0mpd\u001b[0m\u001b[0;34m.\u001b[0m\u001b[0mto_datetime\u001b[0m\u001b[0;34m(\u001b[0m\u001b[0mH\u001b[0m\u001b[0;34m[\u001b[0m\u001b[0;34m\"end_time\"\u001b[0m\u001b[0;34m]\u001b[0m\u001b[0;34m)\u001b[0m\u001b[0;34m\u001b[0m\u001b[0;34m\u001b[0m\u001b[0m\n",
      "\u001b[0;32m/home/gfindlay/miniconda3/envs/ecephys/lib/python3.7/site-packages/pandas/io/parsers.py\u001b[0m in \u001b[0;36mread_csv\u001b[0;34m(filepath_or_buffer, sep, delimiter, header, names, index_col, usecols, squeeze, prefix, mangle_dupe_cols, dtype, engine, converters, true_values, false_values, skipinitialspace, skiprows, skipfooter, nrows, na_values, keep_default_na, na_filter, verbose, skip_blank_lines, parse_dates, infer_datetime_format, keep_date_col, date_parser, dayfirst, cache_dates, iterator, chunksize, compression, thousands, decimal, lineterminator, quotechar, quoting, doublequote, escapechar, comment, encoding, dialect, error_bad_lines, warn_bad_lines, delim_whitespace, low_memory, memory_map, float_precision)\u001b[0m\n\u001b[1;32m    684\u001b[0m     )\n\u001b[1;32m    685\u001b[0m \u001b[0;34m\u001b[0m\u001b[0m\n\u001b[0;32m--> 686\u001b[0;31m     \u001b[0;32mreturn\u001b[0m \u001b[0m_read\u001b[0m\u001b[0;34m(\u001b[0m\u001b[0mfilepath_or_buffer\u001b[0m\u001b[0;34m,\u001b[0m \u001b[0mkwds\u001b[0m\u001b[0;34m)\u001b[0m\u001b[0;34m\u001b[0m\u001b[0;34m\u001b[0m\u001b[0m\n\u001b[0m\u001b[1;32m    687\u001b[0m \u001b[0;34m\u001b[0m\u001b[0m\n\u001b[1;32m    688\u001b[0m \u001b[0;34m\u001b[0m\u001b[0m\n",
      "\u001b[0;32m/home/gfindlay/miniconda3/envs/ecephys/lib/python3.7/site-packages/pandas/io/parsers.py\u001b[0m in \u001b[0;36m_read\u001b[0;34m(filepath_or_buffer, kwds)\u001b[0m\n\u001b[1;32m    450\u001b[0m \u001b[0;34m\u001b[0m\u001b[0m\n\u001b[1;32m    451\u001b[0m     \u001b[0;31m# Create the parser.\u001b[0m\u001b[0;34m\u001b[0m\u001b[0;34m\u001b[0m\u001b[0;34m\u001b[0m\u001b[0m\n\u001b[0;32m--> 452\u001b[0;31m     \u001b[0mparser\u001b[0m \u001b[0;34m=\u001b[0m \u001b[0mTextFileReader\u001b[0m\u001b[0;34m(\u001b[0m\u001b[0mfp_or_buf\u001b[0m\u001b[0;34m,\u001b[0m \u001b[0;34m**\u001b[0m\u001b[0mkwds\u001b[0m\u001b[0;34m)\u001b[0m\u001b[0;34m\u001b[0m\u001b[0;34m\u001b[0m\u001b[0m\n\u001b[0m\u001b[1;32m    453\u001b[0m \u001b[0;34m\u001b[0m\u001b[0m\n\u001b[1;32m    454\u001b[0m     \u001b[0;32mif\u001b[0m \u001b[0mchunksize\u001b[0m \u001b[0;32mor\u001b[0m \u001b[0miterator\u001b[0m\u001b[0;34m:\u001b[0m\u001b[0;34m\u001b[0m\u001b[0;34m\u001b[0m\u001b[0m\n",
      "\u001b[0;32m/home/gfindlay/miniconda3/envs/ecephys/lib/python3.7/site-packages/pandas/io/parsers.py\u001b[0m in \u001b[0;36m__init__\u001b[0;34m(self, f, engine, **kwds)\u001b[0m\n\u001b[1;32m    944\u001b[0m             \u001b[0mself\u001b[0m\u001b[0;34m.\u001b[0m\u001b[0moptions\u001b[0m\u001b[0;34m[\u001b[0m\u001b[0;34m\"has_index_names\"\u001b[0m\u001b[0;34m]\u001b[0m \u001b[0;34m=\u001b[0m \u001b[0mkwds\u001b[0m\u001b[0;34m[\u001b[0m\u001b[0;34m\"has_index_names\"\u001b[0m\u001b[0;34m]\u001b[0m\u001b[0;34m\u001b[0m\u001b[0;34m\u001b[0m\u001b[0m\n\u001b[1;32m    945\u001b[0m \u001b[0;34m\u001b[0m\u001b[0m\n\u001b[0;32m--> 946\u001b[0;31m         \u001b[0mself\u001b[0m\u001b[0;34m.\u001b[0m\u001b[0m_make_engine\u001b[0m\u001b[0;34m(\u001b[0m\u001b[0mself\u001b[0m\u001b[0;34m.\u001b[0m\u001b[0mengine\u001b[0m\u001b[0;34m)\u001b[0m\u001b[0;34m\u001b[0m\u001b[0;34m\u001b[0m\u001b[0m\n\u001b[0m\u001b[1;32m    947\u001b[0m \u001b[0;34m\u001b[0m\u001b[0m\n\u001b[1;32m    948\u001b[0m     \u001b[0;32mdef\u001b[0m \u001b[0mclose\u001b[0m\u001b[0;34m(\u001b[0m\u001b[0mself\u001b[0m\u001b[0;34m)\u001b[0m\u001b[0;34m:\u001b[0m\u001b[0;34m\u001b[0m\u001b[0;34m\u001b[0m\u001b[0m\n",
      "\u001b[0;32m/home/gfindlay/miniconda3/envs/ecephys/lib/python3.7/site-packages/pandas/io/parsers.py\u001b[0m in \u001b[0;36m_make_engine\u001b[0;34m(self, engine)\u001b[0m\n\u001b[1;32m   1176\u001b[0m     \u001b[0;32mdef\u001b[0m \u001b[0m_make_engine\u001b[0m\u001b[0;34m(\u001b[0m\u001b[0mself\u001b[0m\u001b[0;34m,\u001b[0m \u001b[0mengine\u001b[0m\u001b[0;34m=\u001b[0m\u001b[0;34m\"c\"\u001b[0m\u001b[0;34m)\u001b[0m\u001b[0;34m:\u001b[0m\u001b[0;34m\u001b[0m\u001b[0;34m\u001b[0m\u001b[0m\n\u001b[1;32m   1177\u001b[0m         \u001b[0;32mif\u001b[0m \u001b[0mengine\u001b[0m \u001b[0;34m==\u001b[0m \u001b[0;34m\"c\"\u001b[0m\u001b[0;34m:\u001b[0m\u001b[0;34m\u001b[0m\u001b[0;34m\u001b[0m\u001b[0m\n\u001b[0;32m-> 1178\u001b[0;31m             \u001b[0mself\u001b[0m\u001b[0;34m.\u001b[0m\u001b[0m_engine\u001b[0m \u001b[0;34m=\u001b[0m \u001b[0mCParserWrapper\u001b[0m\u001b[0;34m(\u001b[0m\u001b[0mself\u001b[0m\u001b[0;34m.\u001b[0m\u001b[0mf\u001b[0m\u001b[0;34m,\u001b[0m \u001b[0;34m**\u001b[0m\u001b[0mself\u001b[0m\u001b[0;34m.\u001b[0m\u001b[0moptions\u001b[0m\u001b[0;34m)\u001b[0m\u001b[0;34m\u001b[0m\u001b[0;34m\u001b[0m\u001b[0m\n\u001b[0m\u001b[1;32m   1179\u001b[0m         \u001b[0;32melse\u001b[0m\u001b[0;34m:\u001b[0m\u001b[0;34m\u001b[0m\u001b[0;34m\u001b[0m\u001b[0m\n\u001b[1;32m   1180\u001b[0m             \u001b[0;32mif\u001b[0m \u001b[0mengine\u001b[0m \u001b[0;34m==\u001b[0m \u001b[0;34m\"python\"\u001b[0m\u001b[0;34m:\u001b[0m\u001b[0;34m\u001b[0m\u001b[0;34m\u001b[0m\u001b[0m\n",
      "\u001b[0;32m/home/gfindlay/miniconda3/envs/ecephys/lib/python3.7/site-packages/pandas/io/parsers.py\u001b[0m in \u001b[0;36m__init__\u001b[0;34m(self, src, **kwds)\u001b[0m\n\u001b[1;32m   2006\u001b[0m         \u001b[0mkwds\u001b[0m\u001b[0;34m[\u001b[0m\u001b[0;34m\"usecols\"\u001b[0m\u001b[0;34m]\u001b[0m \u001b[0;34m=\u001b[0m \u001b[0mself\u001b[0m\u001b[0;34m.\u001b[0m\u001b[0musecols\u001b[0m\u001b[0;34m\u001b[0m\u001b[0;34m\u001b[0m\u001b[0m\n\u001b[1;32m   2007\u001b[0m \u001b[0;34m\u001b[0m\u001b[0m\n\u001b[0;32m-> 2008\u001b[0;31m         \u001b[0mself\u001b[0m\u001b[0;34m.\u001b[0m\u001b[0m_reader\u001b[0m \u001b[0;34m=\u001b[0m \u001b[0mparsers\u001b[0m\u001b[0;34m.\u001b[0m\u001b[0mTextReader\u001b[0m\u001b[0;34m(\u001b[0m\u001b[0msrc\u001b[0m\u001b[0;34m,\u001b[0m \u001b[0;34m**\u001b[0m\u001b[0mkwds\u001b[0m\u001b[0;34m)\u001b[0m\u001b[0;34m\u001b[0m\u001b[0;34m\u001b[0m\u001b[0m\n\u001b[0m\u001b[1;32m   2009\u001b[0m         \u001b[0mself\u001b[0m\u001b[0;34m.\u001b[0m\u001b[0munnamed_cols\u001b[0m \u001b[0;34m=\u001b[0m \u001b[0mself\u001b[0m\u001b[0;34m.\u001b[0m\u001b[0m_reader\u001b[0m\u001b[0;34m.\u001b[0m\u001b[0munnamed_cols\u001b[0m\u001b[0;34m\u001b[0m\u001b[0;34m\u001b[0m\u001b[0m\n\u001b[1;32m   2010\u001b[0m \u001b[0;34m\u001b[0m\u001b[0m\n",
      "\u001b[0;32mpandas/_libs/parsers.pyx\u001b[0m in \u001b[0;36mpandas._libs.parsers.TextReader.__cinit__\u001b[0;34m()\u001b[0m\n",
      "\u001b[0;32mpandas/_libs/parsers.pyx\u001b[0m in \u001b[0;36mpandas._libs.parsers.TextReader._setup_parser_source\u001b[0;34m()\u001b[0m\n",
      "\u001b[0;31mFileNotFoundError\u001b[0m: [Errno 2] No such file or directory: '/Volumes/neuropixel/Data/CNPIX8-Allan/3-1-2021/3-1-2021_D_g0/3-1-2021_D_g0_imec1/3-1-2021_D_g0_t0.imec1.hypnogram.tsv'"
     ]
    }
   ],
   "source": [
    "hypnogram_paths = paths.get_sglx_style_datapaths(subject=subject, experiment=\"sleep-homeostasis\", condition=condition, ext=\"hypnogram.tsv\")\n",
    "hypnograms = [load_datetime_hypnogram(path) for path in hypnogram_paths]"
   ]
  },
  {
   "cell_type": "code",
   "execution_count": 78,
   "metadata": {
    "execution": {
     "iopub.execute_input": "2021-04-07T20:57:30.576657Z",
     "iopub.status.busy": "2021-04-07T20:57:30.576221Z",
     "iopub.status.idle": "2021-04-07T20:57:30.596300Z",
     "shell.execute_reply": "2021-04-07T20:57:30.595685Z",
     "shell.execute_reply.started": "2021-04-07T20:57:30.576600Z"
    }
   },
   "outputs": [],
   "source": [
    "hypnogram = pd.concat(hypnograms).reset_index(drop=True)\n",
    "condition_start_dt = hypnogram['start_time'].iloc[0]"
   ]
  },
  {
   "cell_type": "code",
   "execution_count": 10,
   "metadata": {
    "execution": {
     "iopub.execute_input": "2021-04-07T18:09:33.337469Z",
     "iopub.status.busy": "2021-04-07T18:09:33.337342Z",
     "iopub.status.idle": "2021-04-07T18:09:42.223667Z",
     "shell.execute_reply": "2021-04-07T18:09:42.222164Z",
     "shell.execute_reply.started": "2021-04-07T18:09:33.337453Z"
    }
   },
   "outputs": [],
   "source": [
    "spw_paths = paths.get_sglx_style_datapaths(subject=subject, experiment=\"sleep-homeostasis\", condition=condition, ext=\"spws.h5\")\n",
    "spws = [load_df_h5(path) for path in spw_paths]"
   ]
  },
  {
   "cell_type": "code",
   "execution_count": 11,
   "metadata": {
    "execution": {
     "iopub.execute_input": "2021-04-07T18:09:42.226199Z",
     "iopub.status.busy": "2021-04-07T18:09:42.225751Z",
     "iopub.status.idle": "2021-04-07T18:09:42.253027Z",
     "shell.execute_reply": "2021-04-07T18:09:42.252420Z",
     "shell.execute_reply.started": "2021-04-07T18:09:42.226133Z"
    }
   },
   "outputs": [],
   "source": [
    "for _spws, _hypnogram in zip(spws, hypnograms):\n",
    "    file_start_dt = _hypnogram['start_time'].min()\n",
    "    if _spws.empty: \n",
    "        continue\n",
    "    _spws['start_time'] = file_start_dt + pd.to_timedelta(_spws['start_time'], 's')\n",
    "    _spws['end_time'] = file_start_dt + pd.to_timedelta(_spws['end_time'], 's')\n",
    "    _spws['midpoint'] = file_start_dt + pd.to_timedelta(_spws['midpoint'], 's')\n",
    "    #spws['duration'] = pd.to_timedelta(spws['duration'], 's')\n",
    "    _spws['time_from_condition_start'] = _spws['start_time'] - condition_start_dt\n",
    "    \n",
    "combined_spws = pd.concat(spws).reset_index(drop=True)\n",
    "combined_spws.index += 1\n",
    "combined_spws.index = combined_spws.index.rename('spw_number')\n",
    "spws = combined_spws"
   ]
  },
  {
   "cell_type": "code",
   "execution_count": 12,
   "metadata": {
    "execution": {
     "iopub.execute_input": "2021-04-07T18:09:42.253843Z",
     "iopub.status.busy": "2021-04-07T18:09:42.253717Z",
     "iopub.status.idle": "2021-04-07T18:09:54.172806Z",
     "shell.execute_reply": "2021-04-07T18:09:54.172125Z",
     "shell.execute_reply.started": "2021-04-07T18:09:42.253826Z"
    }
   },
   "outputs": [],
   "source": [
    "bandpower_paths = paths.get_sglx_style_datapaths(subject=subject, experiment=\"sleep-homeostasis\", condition=condition, ext=\"pow.nc\")\n",
    "bandpowers = [xr.open_dataset(path) for path in bandpower_paths]\n",
    "bandpower = concatenate_power(bandpowers)"
   ]
  },
  {
   "cell_type": "code",
   "execution_count": 68,
   "metadata": {
    "execution": {
     "iopub.execute_input": "2021-04-07T18:32:46.161262Z",
     "iopub.status.busy": "2021-04-07T18:32:46.160778Z",
     "iopub.status.idle": "2021-04-07T18:32:46.185680Z",
     "shell.execute_reply": "2021-04-07T18:32:46.184994Z",
     "shell.execute_reply.started": "2021-04-07T18:32:46.161202Z"
    }
   },
   "outputs": [
    {
     "name": "stderr",
     "output_type": "stream",
     "text": [
      "/home/gfindlay/miniconda3/envs/ecephys/lib/python3.7/site-packages/pandas/core/indexing.py:670: SettingWithCopyWarning: \n",
      "A value is trying to be set on a copy of a slice from a DataFrame\n",
      "\n",
      "See the caveats in the documentation: https://pandas.pydata.org/pandas-docs/stable/user_guide/indexing.html#returning-a-view-versus-a-copy\n",
      "  iloc._setitem_with_indexer(indexer, value)\n"
     ]
    }
   ],
   "source": [
    "hypnogram[\"end_time\"].iloc[-1] = spws[\"end_time\"].iloc[-1]\n",
    "mask = (hypnogram['start_time'].min() + pd.to_timedelta(bandpower.time.values, 's')) < spws[\"end_time\"].iloc[-1]\n",
    "bandpower = bandpower.isel(time=mask)"
   ]
  },
  {
   "cell_type": "code",
   "execution_count": 71,
   "metadata": {
    "execution": {
     "iopub.execute_input": "2021-04-07T18:33:16.808437Z",
     "iopub.status.busy": "2021-04-07T18:33:16.807901Z",
     "iopub.status.idle": "2021-04-07T18:33:16.838394Z",
     "shell.execute_reply": "2021-04-07T18:33:16.837675Z",
     "shell.execute_reply.started": "2021-04-07T18:33:16.808354Z"
    }
   },
   "outputs": [],
   "source": [
    "mpta_swa = my_gaussian_smooth(bandpower.mpta_delta, smoothing_sigma=10)\n",
    "mpta_swa_dt = pd.date_range(min(hypnogram.start_time), max(hypnogram.end_time), periods=len(mpta_swa))"
   ]
  },
  {
   "cell_type": "code",
   "execution_count": 72,
   "metadata": {
    "execution": {
     "iopub.execute_input": "2021-04-07T18:33:17.131183Z",
     "iopub.status.busy": "2021-04-07T18:33:17.130930Z",
     "iopub.status.idle": "2021-04-07T18:33:17.152636Z",
     "shell.execute_reply": "2021-04-07T18:33:17.152251Z",
     "shell.execute_reply.started": "2021-04-07T18:33:17.131144Z"
    }
   },
   "outputs": [],
   "source": [
    "sr_swa = my_gaussian_smooth(bandpower.sr_delta, smoothing_sigma=10)\n",
    "sr_swa_dt = pd.date_range(min(hypnogram.start_time), max(hypnogram.end_time), periods=len(sr_swa))"
   ]
  },
  {
   "cell_type": "code",
   "execution_count": 73,
   "metadata": {
    "execution": {
     "iopub.execute_input": "2021-04-07T18:33:17.658442Z",
     "iopub.status.busy": "2021-04-07T18:33:17.658221Z",
     "iopub.status.idle": "2021-04-07T18:33:17.675059Z",
     "shell.execute_reply": "2021-04-07T18:33:17.674474Z",
     "shell.execute_reply.started": "2021-04-07T18:33:17.658416Z"
    }
   },
   "outputs": [],
   "source": [
    "# density = spws.set_index('start_time').resample('10s').count().mean(axis=1).to_frame(name='frequency').reset_index()"
   ]
  },
  {
   "cell_type": "code",
   "execution_count": 74,
   "metadata": {
    "execution": {
     "iopub.execute_input": "2021-04-07T18:33:18.076386Z",
     "iopub.status.busy": "2021-04-07T18:33:18.076141Z",
     "iopub.status.idle": "2021-04-07T18:33:20.240353Z",
     "shell.execute_reply": "2021-04-07T18:33:20.239636Z",
     "shell.execute_reply.started": "2021-04-07T18:33:18.076354Z"
    }
   },
   "outputs": [
    {
     "data": {
      "application/vnd.jupyter.widget-view+json": {
       "model_id": "32c481f1216b463ebeae263a4167ee0a",
       "version_major": 2,
       "version_minor": 0
      },
      "text/plain": [
       "Canvas(toolbar=Toolbar(toolitems=[('Home', 'Reset original view', 'home', 'home'), ('Back', 'Back to previous …"
      ]
     },
     "metadata": {},
     "output_type": "display_data"
    }
   ],
   "source": [
    "fig, (mpta_swa_ax, sr_swa_ax, density_ax, duration_ax, amplitude_ax, integral_ax) = plt.subplots(6, 1, figsize=(22,12))\n",
    "\n",
    "xmargin=0\n",
    "\n",
    "sns.lineplot(x=mpta_swa_dt, y=mpta_swa, color='black', ax=mpta_swa_ax)\n",
    "mpta_swa_ax.set(xlabel=None, ylabel='CTX SWA (uV^2/Hz)', ylim=(0, 20000), xmargin=xmargin, xticks=[])\n",
    "\n",
    "sns.lineplot(x=sr_swa_dt, y=sr_swa, color='black', ax=sr_swa_ax)\n",
    "sr_swa_ax.set(xlabel=None, ylabel='HPC SWA (uV^2/Hz)', ylim=(0, 80000), xmargin=xmargin, xticks=[])\n",
    "\n",
    "binwidth = 10\n",
    "nbins = np.int((spws.start_time.max() - spws.start_time.min()).total_seconds() / binwidth)\n",
    "sns.histplot(data=spws, x='start_time', bins=nbins, color='black', ax=density_ax)\n",
    "density_ax.set(xlabel=None, ylabel='Frequency (Hz)', xmargin=xmargin, xticks=[])\n",
    "\n",
    "sns.scatterplot(data=spws, x=\"start_time\", y=\"duration\", s=2, ax=duration_ax)\n",
    "duration_ax.set(xlabel=None, ylabel=\"Duration (s)\", xmargin=xmargin, xticks=[])\n",
    "\n",
    "sns.scatterplot(data=spws, x='start_time', y='sink_amplitude', s=2, ax=amplitude_ax)\n",
    "amplitude_ax.set(xlabel=None, ylabel=\"Sink amplitude (mA/mm)\", xmargin=xmargin, xticks=[])\n",
    "\n",
    "sns.scatterplot(data=spws, x='start_time', y='sink_integral', s=2, ax=integral_ax)\n",
    "integral_ax.set(xlabel=\"Event time (month-date hour)\", ylabel=\"Sink integral (mA * ms)\", xmargin=xmargin)\n",
    "\n",
    "for ax in (mpta_swa_ax, sr_swa_ax, density_ax, duration_ax, amplitude_ax, integral_ax):\n",
    "    eplt.plot_hypnogram_overlay(hypnogram, ax=ax)\n",
    "\n",
    "plt.tight_layout()"
   ]
  },
  {
   "cell_type": "code",
   "execution_count": 95,
   "metadata": {
    "execution": {
     "iopub.execute_input": "2021-04-07T17:16:22.978821Z",
     "iopub.status.busy": "2021-04-07T17:16:22.978690Z",
     "iopub.status.idle": "2021-04-07T17:16:22.996332Z",
     "shell.execute_reply": "2021-04-07T17:16:22.995757Z",
     "shell.execute_reply.started": "2021-04-07T17:16:22.978804Z"
    }
   },
   "outputs": [],
   "source": [
    "def add_spw_properties_to_hypnogram(spws, hypnogram):\n",
    "    for i, bout in hypnogram.iterrows():\n",
    "        bout_events = get_events_in_interval(spws, bout.start_time, bout.end_time)\n",
    "        hypnogram.at[i, 'spw_density'] = len(bout_events) / bout.duration.total_seconds()\n",
    "        hypnogram.at[i, 'mean_duration'] = bout_events.duration.mean()\n",
    "        hypnogram.at[i, 'mean_sink_amplitude'] = bout_events.sink_amplitude.mean()\n",
    "        hypnogram.at[i, 'mean_sink_integral'] = bout_events.sink_integral.mean()\n",
    "    \n",
    "    hypnogram.spw_density.fillna(value=0, inplace=True)\n",
    "    hypnogram.mean_duration.fillna(value=0, inplace=True)\n",
    "    hypnogram.mean_sink_amplitude.fillna(value=0, inplace=True)\n",
    "    hypnogram.mean_sink_integral.fillna(value=0, inplace=True)"
   ]
  },
  {
   "cell_type": "code",
   "execution_count": 96,
   "metadata": {
    "execution": {
     "iopub.execute_input": "2021-04-07T17:16:22.997228Z",
     "iopub.status.busy": "2021-04-07T17:16:22.997106Z",
     "iopub.status.idle": "2021-04-07T17:16:23.021180Z",
     "shell.execute_reply": "2021-04-07T17:16:23.020522Z",
     "shell.execute_reply.started": "2021-04-07T17:16:22.997212Z"
    }
   },
   "outputs": [],
   "source": [
    "add_spw_properties_to_hypnogram(spws, hypnogram)"
   ]
  },
  {
   "cell_type": "code",
   "execution_count": 97,
   "metadata": {
    "execution": {
     "iopub.execute_input": "2021-04-07T17:16:23.021863Z",
     "iopub.status.busy": "2021-04-07T17:16:23.021739Z",
     "iopub.status.idle": "2021-04-07T17:16:23.033292Z",
     "shell.execute_reply": "2021-04-07T17:16:23.032557Z",
     "shell.execute_reply.started": "2021-04-07T17:16:23.021847Z"
    }
   },
   "outputs": [],
   "source": [
    "qwk = filter_states(hypnogram, ['qWk']).reset_index(drop=True)"
   ]
  },
  {
   "cell_type": "code",
   "execution_count": 45,
   "metadata": {
    "execution": {
     "iopub.execute_input": "2021-01-13T02:04:15.238556Z",
     "iopub.status.busy": "2021-01-13T02:04:15.238425Z",
     "iopub.status.idle": "2021-01-13T02:04:15.257733Z",
     "shell.execute_reply": "2021-01-13T02:04:15.257235Z",
     "shell.execute_reply.started": "2021-01-13T02:04:15.238539Z"
    }
   },
   "outputs": [],
   "source": [
    "def plot_spw_summary_by_bout_rank(hypnogram, figsize=(20, 8)):\n",
    "    fig, (density_ax, duration_ax, amplitude_ax, integral_ax) = plt.subplots(4, 1, figsize=figsize)\n",
    "    \n",
    "    hypnogram.plot.scatter(x='index', y='spw_density', ax=density_ax, title='SPW density (Hz)', s=1)\n",
    "    hypnogram.plot.scatter(x='index', y='mean_duration', ax=duration_ax, title='Event duration (s)', s=1)\n",
    "    hypnogram.plot.scatter(x='index', y='mean_sink_amplitude', ax=amplitude_ax, title='Sink amplitude (mA/mm)', s=1)\n",
    "    hypnogram.plot.scatter(x='index', y='mean_sink_integral', ax=integral_ax, title='Sink integral (mA * ms)', s=1)\n",
    "    for ax in (density_ax, duration_ax, amplitude_ax, integral_ax):\n",
    "        ax.set_xlabel('Bout rank')\n",
    "    plt.tight_layout()"
   ]
  },
  {
   "cell_type": "code",
   "execution_count": 46,
   "metadata": {
    "execution": {
     "iopub.execute_input": "2021-01-13T02:04:15.615416Z",
     "iopub.status.busy": "2021-01-13T02:04:15.615274Z",
     "iopub.status.idle": "2021-01-13T02:04:15.784732Z",
     "shell.execute_reply": "2021-01-13T02:04:15.784094Z",
     "shell.execute_reply.started": "2021-01-13T02:04:15.615400Z"
    }
   },
   "outputs": [
    {
     "data": {
      "application/vnd.jupyter.widget-view+json": {
       "model_id": "ddeecd1a2eca4de482f7a58484d7f3e3",
       "version_major": 2,
       "version_minor": 0
      },
      "text/plain": [
       "Canvas(toolbar=Toolbar(toolitems=[('Home', 'Reset original view', 'home', 'home'), ('Back', 'Back to previous …"
      ]
     },
     "metadata": {},
     "output_type": "display_data"
    }
   ],
   "source": [
    "plot_spw_summary_by_bout_rank(qwk.reset_index())"
   ]
  },
  {
   "cell_type": "code",
   "execution_count": 47,
   "metadata": {
    "execution": {
     "iopub.execute_input": "2021-01-13T02:04:17.111802Z",
     "iopub.status.busy": "2021-01-13T02:04:17.111372Z",
     "iopub.status.idle": "2021-01-13T02:04:17.133291Z",
     "shell.execute_reply": "2021-01-13T02:04:17.132480Z",
     "shell.execute_reply.started": "2021-01-13T02:04:17.111746Z"
    }
   },
   "outputs": [],
   "source": [
    "awk = filter_states(hypnogram, ['aWk']).reset_index(drop=True)"
   ]
  },
  {
   "cell_type": "code",
   "execution_count": 48,
   "metadata": {
    "execution": {
     "iopub.execute_input": "2021-01-13T02:04:17.727964Z",
     "iopub.status.busy": "2021-01-13T02:04:17.727809Z",
     "iopub.status.idle": "2021-01-13T02:04:17.890723Z",
     "shell.execute_reply": "2021-01-13T02:04:17.890133Z",
     "shell.execute_reply.started": "2021-01-13T02:04:17.727944Z"
    }
   },
   "outputs": [
    {
     "data": {
      "application/vnd.jupyter.widget-view+json": {
       "model_id": "674757260a394d54918075ec2d41045c",
       "version_major": 2,
       "version_minor": 0
      },
      "text/plain": [
       "Canvas(toolbar=Toolbar(toolitems=[('Home', 'Reset original view', 'home', 'home'), ('Back', 'Back to previous …"
      ]
     },
     "metadata": {},
     "output_type": "display_data"
    }
   ],
   "source": [
    "plot_spw_summary_by_bout_rank(awk.reset_index())"
   ]
  },
  {
   "cell_type": "code",
   "execution_count": null,
   "metadata": {},
   "outputs": [],
   "source": []
  }
 ],
 "metadata": {
  "kernelspec": {
   "display_name": "Python 3",
   "language": "python",
   "name": "python3"
  },
  "language_info": {
   "codemirror_mode": {
    "name": "ipython",
    "version": 3
   },
   "file_extension": ".py",
   "mimetype": "text/x-python",
   "name": "python",
   "nbconvert_exporter": "python",
   "pygments_lexer": "ipython3",
   "version": "3.7.9"
  }
 },
 "nbformat": 4,
 "nbformat_minor": 4
}
