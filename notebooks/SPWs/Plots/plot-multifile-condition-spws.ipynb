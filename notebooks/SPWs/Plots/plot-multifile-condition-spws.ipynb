{
 "cells": [
  {
   "cell_type": "code",
   "execution_count": 1,
   "metadata": {
    "execution": {
     "iopub.execute_input": "2021-05-05T19:32:29.825444Z",
     "iopub.status.busy": "2021-05-05T19:32:29.825015Z",
     "iopub.status.idle": "2021-05-05T19:32:29.841691Z",
     "shell.execute_reply": "2021-05-05T19:32:29.841087Z",
     "shell.execute_reply.started": "2021-05-05T19:32:29.825388Z"
    }
   },
   "outputs": [],
   "source": [
    "%load_ext autoreload\n",
    "%autoreload 2"
   ]
  },
  {
   "cell_type": "code",
   "execution_count": 2,
   "metadata": {
    "execution": {
     "iopub.execute_input": "2021-05-05T19:32:30.333381Z",
     "iopub.status.busy": "2021-05-05T19:32:30.333063Z",
     "iopub.status.idle": "2021-05-05T19:32:30.682188Z",
     "shell.execute_reply": "2021-05-05T19:32:30.681217Z",
     "shell.execute_reply.started": "2021-05-05T19:32:30.333347Z"
    }
   },
   "outputs": [],
   "source": [
    "%matplotlib widget\n",
    "import matplotlib.pyplot as plt\n",
    "import seaborn as sns"
   ]
  },
  {
   "cell_type": "code",
   "execution_count": 3,
   "metadata": {
    "execution": {
     "iopub.execute_input": "2021-05-05T19:32:31.045934Z",
     "iopub.status.busy": "2021-05-05T19:32:31.045482Z",
     "iopub.status.idle": "2021-05-05T19:32:31.396944Z",
     "shell.execute_reply": "2021-05-05T19:32:31.396343Z",
     "shell.execute_reply.started": "2021-05-05T19:32:31.045885Z"
    }
   },
   "outputs": [],
   "source": [
    "import numpy as np\n",
    "import pandas as pd\n",
    "import xarray as xr"
   ]
  },
  {
   "cell_type": "code",
   "execution_count": 4,
   "metadata": {
    "execution": {
     "iopub.execute_input": "2021-05-05T19:32:31.421292Z",
     "iopub.status.busy": "2021-05-05T19:32:31.421075Z",
     "iopub.status.idle": "2021-05-05T19:32:31.476816Z",
     "shell.execute_reply": "2021-05-05T19:32:31.476171Z",
     "shell.execute_reply.started": "2021-05-05T19:32:31.421266Z"
    }
   },
   "outputs": [],
   "source": [
    "import ecephys_analyses as ea\n",
    "from ecephys.scoring import load_datetime_hypnogram, filter_states\n",
    "from ecephys.utils import load_df_h5, replace_outliers\n",
    "from ecephys.signal.sharp_wave_ripples import get_events_in_interval\n",
    "import ecephys.plot as eplt\n",
    "from neurodsp.plts.time_series import plot_time_series"
   ]
  },
  {
   "cell_type": "code",
   "execution_count": 5,
   "metadata": {
    "execution": {
     "iopub.execute_input": "2021-05-05T19:32:31.748702Z",
     "iopub.status.busy": "2021-05-05T19:32:31.748251Z",
     "iopub.status.idle": "2021-05-05T19:32:31.769931Z",
     "shell.execute_reply": "2021-05-05T19:32:31.769177Z",
     "shell.execute_reply.started": "2021-05-05T19:32:31.748644Z"
    }
   },
   "outputs": [],
   "source": [
    "from ripple_detection.core import gaussian_smooth\n",
    "\n",
    "def my_gaussian_smooth(da, smoothing_sigma=10):\n",
    "    estimated_fs = 1 / np.diff(da.time.values).mean()\n",
    "    return gaussian_smooth(da, smoothing_sigma, estimated_fs)"
   ]
  },
  {
   "cell_type": "code",
   "execution_count": 6,
   "metadata": {
    "execution": {
     "iopub.execute_input": "2021-05-05T19:32:32.060976Z",
     "iopub.status.busy": "2021-05-05T19:32:32.060529Z",
     "iopub.status.idle": "2021-05-05T19:32:32.082287Z",
     "shell.execute_reply": "2021-05-05T19:32:32.081306Z",
     "shell.execute_reply.started": "2021-05-05T19:32:32.060923Z"
    }
   },
   "outputs": [],
   "source": [
    "def concatenate_power(bandpowers):\n",
    "    for i in range(1, len(bandpowers)):\n",
    "        bandpowers[i]['time'] = bandpowers[i].time + bandpowers[i-1].time.max()\n",
    "        \n",
    "    return xr.concat(bandpowers, dim=\"time\")"
   ]
  },
  {
   "cell_type": "code",
   "execution_count": 7,
   "metadata": {
    "execution": {
     "iopub.execute_input": "2021-05-05T19:32:32.380318Z",
     "iopub.status.busy": "2021-05-05T19:32:32.380062Z",
     "iopub.status.idle": "2021-05-05T19:32:32.399647Z",
     "shell.execute_reply": "2021-05-05T19:32:32.398871Z",
     "shell.execute_reply.started": "2021-05-05T19:32:32.380293Z"
    }
   },
   "outputs": [],
   "source": [
    "subject = \"Allan\"\n",
    "experiment = \"atropine\"\n",
    "condition = \"all\""
   ]
  },
  {
   "cell_type": "code",
   "execution_count": 8,
   "metadata": {
    "execution": {
     "iopub.execute_input": "2021-05-05T19:32:32.829637Z",
     "iopub.status.busy": "2021-05-05T19:32:32.829358Z",
     "iopub.status.idle": "2021-05-05T19:32:33.052312Z",
     "shell.execute_reply": "2021-05-05T19:32:33.051478Z",
     "shell.execute_reply.started": "2021-05-05T19:32:32.829606Z"
    }
   },
   "outputs": [],
   "source": [
    "hypnogram_paths = ea.get_sglx_style_datapaths(subject=subject, experiment=experiment, condition=condition, ext=\"hypnogram.tsv\")\n",
    "hypnograms = [load_datetime_hypnogram(path) for path in hypnogram_paths]"
   ]
  },
  {
   "cell_type": "code",
   "execution_count": 9,
   "metadata": {
    "execution": {
     "iopub.execute_input": "2021-05-05T19:32:33.325343Z",
     "iopub.status.busy": "2021-05-05T19:32:33.324953Z",
     "iopub.status.idle": "2021-05-05T19:32:33.348330Z",
     "shell.execute_reply": "2021-05-05T19:32:33.347543Z",
     "shell.execute_reply.started": "2021-05-05T19:32:33.325297Z"
    }
   },
   "outputs": [],
   "source": [
    "hypnogram = pd.concat(hypnograms).reset_index(drop=True)\n",
    "condition_start_dt = hypnogram['start_time'].iloc[0]"
   ]
  },
  {
   "cell_type": "code",
   "execution_count": 10,
   "metadata": {
    "execution": {
     "iopub.execute_input": "2021-05-05T19:32:33.812738Z",
     "iopub.status.busy": "2021-05-05T19:32:33.812359Z",
     "iopub.status.idle": "2021-05-05T19:32:34.712439Z",
     "shell.execute_reply": "2021-05-05T19:32:34.710899Z",
     "shell.execute_reply.started": "2021-05-05T19:32:33.812691Z"
    }
   },
   "outputs": [],
   "source": [
    "spw_paths = ea.get_sglx_style_datapaths(subject=subject, experiment=experiment, condition=condition, ext=\"spws.h5\")\n",
    "spws = [load_df_h5(path) for path in spw_paths]"
   ]
  },
  {
   "cell_type": "code",
   "execution_count": 11,
   "metadata": {
    "execution": {
     "iopub.execute_input": "2021-05-05T19:32:34.813780Z",
     "iopub.status.busy": "2021-05-05T19:32:34.813486Z",
     "iopub.status.idle": "2021-05-05T19:32:34.848310Z",
     "shell.execute_reply": "2021-05-05T19:32:34.847879Z",
     "shell.execute_reply.started": "2021-05-05T19:32:34.813740Z"
    }
   },
   "outputs": [],
   "source": [
    "for _spws, _hypnogram in zip(spws, hypnograms):\n",
    "    file_start_dt = _hypnogram['start_time'].min()\n",
    "    if _spws.empty: \n",
    "        continue\n",
    "    _spws['start_time'] = file_start_dt + pd.to_timedelta(_spws['start_time'], 's')\n",
    "    _spws['end_time'] = file_start_dt + pd.to_timedelta(_spws['end_time'], 's')\n",
    "    _spws['midpoint'] = file_start_dt + pd.to_timedelta(_spws['midpoint'], 's')\n",
    "    #spws['duration'] = pd.to_timedelta(spws['duration'], 's')\n",
    "    _spws['time_from_condition_start'] = _spws['start_time'] - condition_start_dt\n",
    "    \n",
    "combined_spws = pd.concat(spws).reset_index(drop=True)\n",
    "combined_spws.index += 1\n",
    "combined_spws.index = combined_spws.index.rename('spw_number')\n",
    "spws = combined_spws"
   ]
  },
  {
   "cell_type": "code",
   "execution_count": 12,
   "metadata": {
    "execution": {
     "iopub.execute_input": "2021-05-05T19:32:35.006602Z",
     "iopub.status.busy": "2021-05-05T19:32:35.006254Z",
     "iopub.status.idle": "2021-05-05T19:32:35.874893Z",
     "shell.execute_reply": "2021-05-05T19:32:35.874320Z",
     "shell.execute_reply.started": "2021-05-05T19:32:35.006557Z"
    }
   },
   "outputs": [],
   "source": [
    "bandpower_paths = ea.get_sglx_style_datapaths(subject=subject, experiment=experiment, condition=condition, ext=\"bandpower.nc\")\n",
    "bandpowers = [xr.open_dataset(path) for path in bandpower_paths]\n",
    "bandpower = concatenate_power(bandpowers)"
   ]
  },
  {
   "cell_type": "code",
   "execution_count": 13,
   "metadata": {
    "execution": {
     "iopub.execute_input": "2021-05-05T19:32:35.926456Z",
     "iopub.status.busy": "2021-05-05T19:32:35.926316Z",
     "iopub.status.idle": "2021-05-05T19:32:35.946995Z",
     "shell.execute_reply": "2021-05-05T19:32:35.946356Z",
     "shell.execute_reply.started": "2021-05-05T19:32:35.926438Z"
    }
   },
   "outputs": [
    {
     "name": "stderr",
     "output_type": "stream",
     "text": [
      "/home/gfindlay/miniconda3/envs/ecephys/lib/python3.7/site-packages/pandas/core/indexing.py:670: SettingWithCopyWarning: \n",
      "A value is trying to be set on a copy of a slice from a DataFrame\n",
      "\n",
      "See the caveats in the documentation: https://pandas.pydata.org/pandas-docs/stable/user_guide/indexing.html#returning-a-view-versus-a-copy\n",
      "  iloc._setitem_with_indexer(indexer, value)\n"
     ]
    }
   ],
   "source": [
    "hypnogram[\"end_time\"].iloc[-1] = spws[\"end_time\"].iloc[-1]\n",
    "mask = (hypnogram['start_time'].min() + pd.to_timedelta(bandpower.time.values, 's')) < spws[\"end_time\"].iloc[-1]\n",
    "bandpower = bandpower.isel(time=mask)"
   ]
  },
  {
   "cell_type": "code",
   "execution_count": 14,
   "metadata": {
    "execution": {
     "iopub.execute_input": "2021-05-05T19:32:36.347806Z",
     "iopub.status.busy": "2021-05-05T19:32:36.347652Z",
     "iopub.status.idle": "2021-05-05T19:32:36.368670Z",
     "shell.execute_reply": "2021-05-05T19:32:36.368140Z",
     "shell.execute_reply.started": "2021-05-05T19:32:36.347789Z"
    }
   },
   "outputs": [],
   "source": [
    "mpta_swa = my_gaussian_smooth(bandpower.mpta_delta_wm_ref, smoothing_sigma=10)\n",
    "mpta_swa_dt = pd.date_range(min(hypnogram.start_time), max(hypnogram.end_time), periods=len(mpta_swa))"
   ]
  },
  {
   "cell_type": "code",
   "execution_count": 15,
   "metadata": {
    "execution": {
     "iopub.execute_input": "2021-05-05T19:32:37.372557Z",
     "iopub.status.busy": "2021-05-05T19:32:37.372240Z",
     "iopub.status.idle": "2021-05-05T19:32:37.395578Z",
     "shell.execute_reply": "2021-05-05T19:32:37.394998Z",
     "shell.execute_reply.started": "2021-05-05T19:32:37.372521Z"
    }
   },
   "outputs": [],
   "source": [
    "sr_swa = my_gaussian_smooth(bandpower.sr_delta_wm_ref, smoothing_sigma=10)\n",
    "sr_swa_dt = pd.date_range(min(hypnogram.start_time), max(hypnogram.end_time), periods=len(sr_swa))"
   ]
  },
  {
   "cell_type": "code",
   "execution_count": 16,
   "metadata": {
    "execution": {
     "iopub.execute_input": "2021-05-05T19:32:38.397349Z",
     "iopub.status.busy": "2021-05-05T19:32:38.397025Z",
     "iopub.status.idle": "2021-05-05T19:32:38.416478Z",
     "shell.execute_reply": "2021-05-05T19:32:38.415676Z",
     "shell.execute_reply.started": "2021-05-05T19:32:38.397311Z"
    }
   },
   "outputs": [],
   "source": [
    "# density = spws.set_index('start_time').resample('10s').count().mean(axis=1).to_frame(name='frequency').reset_index()"
   ]
  },
  {
   "cell_type": "code",
   "execution_count": 18,
   "metadata": {
    "execution": {
     "iopub.execute_input": "2021-05-05T19:33:23.532441Z",
     "iopub.status.busy": "2021-05-05T19:33:23.531684Z",
     "iopub.status.idle": "2021-05-05T19:33:27.803272Z",
     "shell.execute_reply": "2021-05-05T19:33:27.802684Z",
     "shell.execute_reply.started": "2021-05-05T19:33:23.532314Z"
    }
   },
   "outputs": [
    {
     "data": {
      "application/vnd.jupyter.widget-view+json": {
       "model_id": "372c3325da9a401d8dd66dcca400c558",
       "version_major": 2,
       "version_minor": 0
      },
      "text/plain": [
       "Canvas(toolbar=Toolbar(toolitems=[('Home', 'Reset original view', 'home', 'home'), ('Back', 'Back to previous …"
      ]
     },
     "metadata": {},
     "output_type": "display_data"
    }
   ],
   "source": [
    "fig, (mpta_swa_ax, sr_swa_ax, density_ax, duration_ax, amplitude_ax, integral_ax) = plt.subplots(6, 1, figsize=(22,12))\n",
    "\n",
    "xmargin=0\n",
    "\n",
    "sns.lineplot(x=mpta_swa_dt, y=mpta_swa, color='black', ax=mpta_swa_ax)\n",
    "mpta_swa_ax.set(xlabel=None, ylabel='CTX Delta WM Ref (uV^2/Hz)', ylim=(0, 150000), xmargin=xmargin, xticks=[])\n",
    "\n",
    "sns.lineplot(x=sr_swa_dt, y=sr_swa, color='black', ax=sr_swa_ax)\n",
    "sr_swa_ax.set(xlabel=None, ylabel='HPC Delta WM Ref', ylim=(0, 100000), xmargin=xmargin, xticks=[])\n",
    "\n",
    "binwidth = 10\n",
    "nbins = np.int((spws.start_time.max() - spws.start_time.min()).total_seconds() / binwidth)\n",
    "sns.histplot(data=spws, x='start_time', bins=nbins, color='black', ax=density_ax)\n",
    "density_ax.set(xlabel=None, ylabel='Frequency (Hz)', xmargin=xmargin, xticks=[])\n",
    "\n",
    "sns.scatterplot(data=spws, x=\"start_time\", y=\"duration\", s=2, ax=duration_ax)\n",
    "duration_ax.set(xlabel=None, ylabel=\"Duration (s)\", xmargin=xmargin, xticks=[])\n",
    "\n",
    "sns.scatterplot(data=spws, x='start_time', y='sink_amplitude', s=2, ax=amplitude_ax)\n",
    "amplitude_ax.set(xlabel=None, ylabel=\"Sink amplitude (mA/mm)\", xmargin=xmargin, xticks=[])\n",
    "\n",
    "sns.scatterplot(data=spws, x='start_time', y='sink_integral', s=2, ax=integral_ax)\n",
    "integral_ax.set(xlabel=\"Event time (month-date hour)\", ylabel=\"Sink integral (mA * ms)\", xmargin=xmargin)\n",
    "\n",
    "for ax in (mpta_swa_ax, sr_swa_ax, density_ax, duration_ax, amplitude_ax, integral_ax):\n",
    "    eplt.plot_hypnogram_overlay(hypnogram, ax=ax)\n",
    "\n",
    "plt.tight_layout()"
   ]
  },
  {
   "cell_type": "raw",
   "metadata": {
    "execution": {
     "iopub.execute_input": "2021-04-07T17:16:22.978821Z",
     "iopub.status.busy": "2021-04-07T17:16:22.978690Z",
     "iopub.status.idle": "2021-04-07T17:16:22.996332Z",
     "shell.execute_reply": "2021-04-07T17:16:22.995757Z",
     "shell.execute_reply.started": "2021-04-07T17:16:22.978804Z"
    }
   },
   "source": [
    "def add_spw_properties_to_hypnogram(spws, hypnogram):\n",
    "    for i, bout in hypnogram.iterrows():\n",
    "        bout_events = get_events_in_interval(spws, bout.start_time, bout.end_time)\n",
    "        hypnogram.at[i, 'spw_density'] = len(bout_events) / bout.duration.total_seconds()\n",
    "        hypnogram.at[i, 'mean_duration'] = bout_events.duration.mean()\n",
    "        hypnogram.at[i, 'mean_sink_amplitude'] = bout_events.sink_amplitude.mean()\n",
    "        hypnogram.at[i, 'mean_sink_integral'] = bout_events.sink_integral.mean()\n",
    "    \n",
    "    hypnogram.spw_density.fillna(value=0, inplace=True)\n",
    "    hypnogram.mean_duration.fillna(value=0, inplace=True)\n",
    "    hypnogram.mean_sink_amplitude.fillna(value=0, inplace=True)\n",
    "    hypnogram.mean_sink_integral.fillna(value=0, inplace=True)"
   ]
  },
  {
   "cell_type": "raw",
   "metadata": {
    "execution": {
     "iopub.execute_input": "2021-04-07T17:16:22.997228Z",
     "iopub.status.busy": "2021-04-07T17:16:22.997106Z",
     "iopub.status.idle": "2021-04-07T17:16:23.021180Z",
     "shell.execute_reply": "2021-04-07T17:16:23.020522Z",
     "shell.execute_reply.started": "2021-04-07T17:16:22.997212Z"
    }
   },
   "source": [
    "add_spw_properties_to_hypnogram(spws, hypnogram)"
   ]
  },
  {
   "cell_type": "raw",
   "metadata": {
    "execution": {
     "iopub.execute_input": "2021-04-07T17:16:23.021863Z",
     "iopub.status.busy": "2021-04-07T17:16:23.021739Z",
     "iopub.status.idle": "2021-04-07T17:16:23.033292Z",
     "shell.execute_reply": "2021-04-07T17:16:23.032557Z",
     "shell.execute_reply.started": "2021-04-07T17:16:23.021847Z"
    }
   },
   "source": [
    "qwk = filter_states(hypnogram, ['qWk']).reset_index(drop=True)"
   ]
  },
  {
   "cell_type": "raw",
   "metadata": {
    "execution": {
     "iopub.execute_input": "2021-01-13T02:04:15.238556Z",
     "iopub.status.busy": "2021-01-13T02:04:15.238425Z",
     "iopub.status.idle": "2021-01-13T02:04:15.257733Z",
     "shell.execute_reply": "2021-01-13T02:04:15.257235Z",
     "shell.execute_reply.started": "2021-01-13T02:04:15.238539Z"
    }
   },
   "source": [
    "def plot_spw_summary_by_bout_rank(hypnogram, figsize=(20, 8)):\n",
    "    fig, (density_ax, duration_ax, amplitude_ax, integral_ax) = plt.subplots(4, 1, figsize=figsize)\n",
    "    \n",
    "    hypnogram.plot.scatter(x='index', y='spw_density', ax=density_ax, title='SPW density (Hz)', s=1)\n",
    "    hypnogram.plot.scatter(x='index', y='mean_duration', ax=duration_ax, title='Event duration (s)', s=1)\n",
    "    hypnogram.plot.scatter(x='index', y='mean_sink_amplitude', ax=amplitude_ax, title='Sink amplitude (mA/mm)', s=1)\n",
    "    hypnogram.plot.scatter(x='index', y='mean_sink_integral', ax=integral_ax, title='Sink integral (mA * ms)', s=1)\n",
    "    for ax in (density_ax, duration_ax, amplitude_ax, integral_ax):\n",
    "        ax.set_xlabel('Bout rank')\n",
    "    plt.tight_layout()"
   ]
  },
  {
   "cell_type": "raw",
   "metadata": {
    "execution": {
     "iopub.execute_input": "2021-01-13T02:04:15.615416Z",
     "iopub.status.busy": "2021-01-13T02:04:15.615274Z",
     "iopub.status.idle": "2021-01-13T02:04:15.784732Z",
     "shell.execute_reply": "2021-01-13T02:04:15.784094Z",
     "shell.execute_reply.started": "2021-01-13T02:04:15.615400Z"
    }
   },
   "source": [
    "plot_spw_summary_by_bout_rank(qwk.reset_index())"
   ]
  },
  {
   "cell_type": "raw",
   "metadata": {
    "execution": {
     "iopub.execute_input": "2021-01-13T02:04:17.111802Z",
     "iopub.status.busy": "2021-01-13T02:04:17.111372Z",
     "iopub.status.idle": "2021-01-13T02:04:17.133291Z",
     "shell.execute_reply": "2021-01-13T02:04:17.132480Z",
     "shell.execute_reply.started": "2021-01-13T02:04:17.111746Z"
    }
   },
   "source": [
    "awk = filter_states(hypnogram, ['aWk']).reset_index(drop=True)"
   ]
  },
  {
   "cell_type": "raw",
   "metadata": {
    "execution": {
     "iopub.execute_input": "2021-01-13T02:04:17.727964Z",
     "iopub.status.busy": "2021-01-13T02:04:17.727809Z",
     "iopub.status.idle": "2021-01-13T02:04:17.890723Z",
     "shell.execute_reply": "2021-01-13T02:04:17.890133Z",
     "shell.execute_reply.started": "2021-01-13T02:04:17.727944Z"
    }
   },
   "source": [
    "plot_spw_summary_by_bout_rank(awk.reset_index())"
   ]
  },
  {
   "cell_type": "code",
   "execution_count": null,
   "metadata": {},
   "outputs": [],
   "source": []
  }
 ],
 "metadata": {
  "kernelspec": {
   "display_name": "Python 3",
   "language": "python",
   "name": "python3"
  },
  "language_info": {
   "codemirror_mode": {
    "name": "ipython",
    "version": 3
   },
   "file_extension": ".py",
   "mimetype": "text/x-python",
   "name": "python",
   "nbconvert_exporter": "python",
   "pygments_lexer": "ipython3",
   "version": "3.7.9"
  }
 },
 "nbformat": 4,
 "nbformat_minor": 4
}
