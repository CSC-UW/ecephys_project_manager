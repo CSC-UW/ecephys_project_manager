{
 "cells": [
  {
   "cell_type": "code",
   "execution_count": 23,
   "metadata": {
    "execution": {
     "iopub.execute_input": "2021-04-12T23:42:18.539186Z",
     "iopub.status.busy": "2021-04-12T23:42:18.538789Z",
     "iopub.status.idle": "2021-04-12T23:42:18.563454Z",
     "shell.execute_reply": "2021-04-12T23:42:18.562789Z",
     "shell.execute_reply.started": "2021-04-12T23:42:18.539139Z"
    }
   },
   "outputs": [
    {
     "name": "stdout",
     "output_type": "stream",
     "text": [
      "The autoreload extension is already loaded. To reload it, use:\n",
      "  %reload_ext autoreload\n"
     ]
    }
   ],
   "source": [
    "%load_ext autoreload\n",
    "%autoreload 2"
   ]
  },
  {
   "cell_type": "code",
   "execution_count": 24,
   "metadata": {
    "execution": {
     "iopub.execute_input": "2021-04-12T23:42:18.717793Z",
     "iopub.status.busy": "2021-04-12T23:42:18.717546Z",
     "iopub.status.idle": "2021-04-12T23:42:18.801855Z",
     "shell.execute_reply": "2021-04-12T23:42:18.801014Z",
     "shell.execute_reply.started": "2021-04-12T23:42:18.717763Z"
    }
   },
   "outputs": [],
   "source": [
    "%matplotlib widget\n",
    "import matplotlib.pyplot as plt\n",
    "import seaborn as sns"
   ]
  },
  {
   "cell_type": "code",
   "execution_count": 25,
   "metadata": {
    "execution": {
     "iopub.execute_input": "2021-04-12T23:42:18.868759Z",
     "iopub.status.busy": "2021-04-12T23:42:18.868622Z",
     "iopub.status.idle": "2021-04-12T23:42:18.884977Z",
     "shell.execute_reply": "2021-04-12T23:42:18.884224Z",
     "shell.execute_reply.started": "2021-04-12T23:42:18.868742Z"
    }
   },
   "outputs": [],
   "source": [
    "import numpy as np\n",
    "import pandas as pd\n",
    "import xarray as xr"
   ]
  },
  {
   "cell_type": "code",
   "execution_count": 26,
   "metadata": {
    "execution": {
     "iopub.execute_input": "2021-04-12T23:42:19.036556Z",
     "iopub.status.busy": "2021-04-12T23:42:19.036422Z",
     "iopub.status.idle": "2021-04-12T23:42:19.052980Z",
     "shell.execute_reply": "2021-04-12T23:42:19.052228Z",
     "shell.execute_reply.started": "2021-04-12T23:42:19.036540Z"
    }
   },
   "outputs": [],
   "source": [
    "from ecephys_analyses.data import paths\n",
    "from ecephys.scoring import load_datetime_hypnogram, filter_states\n",
    "from ecephys.utils import load_df_h5, replace_outliers\n",
    "from ecephys.signal.sharp_wave_ripples import get_events_in_interval\n",
    "import ecephys.plot as eplt\n",
    "from neurodsp.plts.time_series import plot_time_series"
   ]
  },
  {
   "cell_type": "code",
   "execution_count": 27,
   "metadata": {
    "execution": {
     "iopub.execute_input": "2021-04-12T23:42:19.205609Z",
     "iopub.status.busy": "2021-04-12T23:42:19.205346Z",
     "iopub.status.idle": "2021-04-12T23:42:19.224641Z",
     "shell.execute_reply": "2021-04-12T23:42:19.223840Z",
     "shell.execute_reply.started": "2021-04-12T23:42:19.205581Z"
    }
   },
   "outputs": [],
   "source": [
    "from ripple_detection.core import gaussian_smooth\n",
    "\n",
    "def my_gaussian_smooth(da, smoothing_sigma=10):\n",
    "    estimated_fs = 1 / np.diff(da.time.values).mean()\n",
    "    return gaussian_smooth(da, smoothing_sigma, estimated_fs)"
   ]
  },
  {
   "cell_type": "code",
   "execution_count": 28,
   "metadata": {
    "execution": {
     "iopub.execute_input": "2021-04-12T23:42:19.364958Z",
     "iopub.status.busy": "2021-04-12T23:42:19.364817Z",
     "iopub.status.idle": "2021-04-12T23:42:19.382693Z",
     "shell.execute_reply": "2021-04-12T23:42:19.381904Z",
     "shell.execute_reply.started": "2021-04-12T23:42:19.364942Z"
    }
   },
   "outputs": [],
   "source": [
    "def concatenate_power(bandpowers):\n",
    "    for i in range(1, len(bandpowers)):\n",
    "        bandpowers[i]['time'] = bandpowers[i].time + bandpowers[i-1].time.max()\n",
    "        \n",
    "    return xr.concat(bandpowers, dim=\"time\")"
   ]
  },
  {
   "cell_type": "code",
   "execution_count": 29,
   "metadata": {
    "execution": {
     "iopub.execute_input": "2021-04-12T23:42:19.524782Z",
     "iopub.status.busy": "2021-04-12T23:42:19.524558Z",
     "iopub.status.idle": "2021-04-12T23:42:19.544071Z",
     "shell.execute_reply": "2021-04-12T23:42:19.543581Z",
     "shell.execute_reply.started": "2021-04-12T23:42:19.524755Z"
    }
   },
   "outputs": [],
   "source": [
    "subject = \"Doppio\"\n",
    "experiment = \"atropine\"\n",
    "condition = \"all\""
   ]
  },
  {
   "cell_type": "code",
   "execution_count": 30,
   "metadata": {
    "execution": {
     "iopub.execute_input": "2021-04-12T23:42:19.893021Z",
     "iopub.status.busy": "2021-04-12T23:42:19.892741Z",
     "iopub.status.idle": "2021-04-12T23:42:19.971817Z",
     "shell.execute_reply": "2021-04-12T23:42:19.971166Z",
     "shell.execute_reply.started": "2021-04-12T23:42:19.892986Z"
    }
   },
   "outputs": [],
   "source": [
    "hypnogram_paths = paths.get_sglx_style_datapaths(subject=subject, experiment=experiment, condition=condition, ext=\"hypnogram.tsv\")\n",
    "hypnograms = [load_datetime_hypnogram(path) for path in hypnogram_paths]"
   ]
  },
  {
   "cell_type": "code",
   "execution_count": 31,
   "metadata": {
    "execution": {
     "iopub.execute_input": "2021-04-12T23:42:20.149932Z",
     "iopub.status.busy": "2021-04-12T23:42:20.149497Z",
     "iopub.status.idle": "2021-04-12T23:42:20.171381Z",
     "shell.execute_reply": "2021-04-12T23:42:20.170636Z",
     "shell.execute_reply.started": "2021-04-12T23:42:20.149878Z"
    }
   },
   "outputs": [],
   "source": [
    "hypnogram = pd.concat(hypnograms).reset_index(drop=True)\n",
    "condition_start_dt = hypnogram['start_time'].iloc[0]"
   ]
  },
  {
   "cell_type": "code",
   "execution_count": 32,
   "metadata": {
    "execution": {
     "iopub.execute_input": "2021-04-12T23:42:20.582236Z",
     "iopub.status.busy": "2021-04-12T23:42:20.581784Z",
     "iopub.status.idle": "2021-04-12T23:42:20.719679Z",
     "shell.execute_reply": "2021-04-12T23:42:20.718961Z",
     "shell.execute_reply.started": "2021-04-12T23:42:20.582183Z"
    }
   },
   "outputs": [],
   "source": [
    "spw_paths = paths.get_sglx_style_datapaths(subject=subject, experiment=experiment, condition=condition, ext=\"spws.h5\")\n",
    "spws = [load_df_h5(path) for path in spw_paths]"
   ]
  },
  {
   "cell_type": "code",
   "execution_count": 33,
   "metadata": {
    "execution": {
     "iopub.execute_input": "2021-04-12T23:42:20.817355Z",
     "iopub.status.busy": "2021-04-12T23:42:20.817193Z",
     "iopub.status.idle": "2021-04-12T23:42:20.848133Z",
     "shell.execute_reply": "2021-04-12T23:42:20.847506Z",
     "shell.execute_reply.started": "2021-04-12T23:42:20.817321Z"
    }
   },
   "outputs": [],
   "source": [
    "for _spws, _hypnogram in zip(spws, hypnograms):\n",
    "    file_start_dt = _hypnogram['start_time'].min()\n",
    "    if _spws.empty: \n",
    "        continue\n",
    "    _spws['start_time'] = file_start_dt + pd.to_timedelta(_spws['start_time'], 's')\n",
    "    _spws['end_time'] = file_start_dt + pd.to_timedelta(_spws['end_time'], 's')\n",
    "    _spws['midpoint'] = file_start_dt + pd.to_timedelta(_spws['midpoint'], 's')\n",
    "    #spws['duration'] = pd.to_timedelta(spws['duration'], 's')\n",
    "    _spws['time_from_condition_start'] = _spws['start_time'] - condition_start_dt\n",
    "    \n",
    "combined_spws = pd.concat(spws).reset_index(drop=True)\n",
    "combined_spws.index += 1\n",
    "combined_spws.index = combined_spws.index.rename('spw_number')\n",
    "spws = combined_spws"
   ]
  },
  {
   "cell_type": "code",
   "execution_count": 34,
   "metadata": {
    "execution": {
     "iopub.execute_input": "2021-04-12T23:42:21.158097Z",
     "iopub.status.busy": "2021-04-12T23:42:21.157607Z",
     "iopub.status.idle": "2021-04-12T23:42:21.289639Z",
     "shell.execute_reply": "2021-04-12T23:42:21.288915Z",
     "shell.execute_reply.started": "2021-04-12T23:42:21.158038Z"
    }
   },
   "outputs": [],
   "source": [
    "bandpower_paths = paths.get_sglx_style_datapaths(subject=subject, experiment=experiment, condition=condition, ext=\"pow.nc\")\n",
    "bandpowers = [xr.open_dataset(path) for path in bandpower_paths]\n",
    "bandpower = concatenate_power(bandpowers)"
   ]
  },
  {
   "cell_type": "code",
   "execution_count": 35,
   "metadata": {
    "execution": {
     "iopub.execute_input": "2021-04-12T23:42:21.654804Z",
     "iopub.status.busy": "2021-04-12T23:42:21.654364Z",
     "iopub.status.idle": "2021-04-12T23:42:21.678060Z",
     "shell.execute_reply": "2021-04-12T23:42:21.677356Z",
     "shell.execute_reply.started": "2021-04-12T23:42:21.654748Z"
    }
   },
   "outputs": [
    {
     "name": "stderr",
     "output_type": "stream",
     "text": [
      "/home/gfindlay/miniconda3/envs/ecephys/lib/python3.7/site-packages/pandas/core/indexing.py:670: SettingWithCopyWarning: \n",
      "A value is trying to be set on a copy of a slice from a DataFrame\n",
      "\n",
      "See the caveats in the documentation: https://pandas.pydata.org/pandas-docs/stable/user_guide/indexing.html#returning-a-view-versus-a-copy\n",
      "  iloc._setitem_with_indexer(indexer, value)\n"
     ]
    }
   ],
   "source": [
    "hypnogram[\"end_time\"].iloc[-1] = spws[\"end_time\"].iloc[-1]\n",
    "mask = (hypnogram['start_time'].min() + pd.to_timedelta(bandpower.time.values, 's')) < spws[\"end_time\"].iloc[-1]\n",
    "bandpower = bandpower.isel(time=mask)"
   ]
  },
  {
   "cell_type": "code",
   "execution_count": 36,
   "metadata": {
    "execution": {
     "iopub.execute_input": "2021-04-12T23:42:21.869349Z",
     "iopub.status.busy": "2021-04-12T23:42:21.869022Z",
     "iopub.status.idle": "2021-04-12T23:42:21.890779Z",
     "shell.execute_reply": "2021-04-12T23:42:21.890178Z",
     "shell.execute_reply.started": "2021-04-12T23:42:21.869295Z"
    }
   },
   "outputs": [],
   "source": [
    "mpta_swa = my_gaussian_smooth(bandpower.mpta_delta_wm_ref, smoothing_sigma=10)\n",
    "mpta_swa_dt = pd.date_range(min(hypnogram.start_time), max(hypnogram.end_time), periods=len(mpta_swa))"
   ]
  },
  {
   "cell_type": "code",
   "execution_count": 37,
   "metadata": {
    "execution": {
     "iopub.execute_input": "2021-04-12T23:42:22.028235Z",
     "iopub.status.busy": "2021-04-12T23:42:22.028106Z",
     "iopub.status.idle": "2021-04-12T23:42:22.045852Z",
     "shell.execute_reply": "2021-04-12T23:42:22.045245Z",
     "shell.execute_reply.started": "2021-04-12T23:42:22.028219Z"
    }
   },
   "outputs": [],
   "source": [
    "sr_swa = my_gaussian_smooth(bandpower.sr_delta_wm_ref, smoothing_sigma=10)\n",
    "sr_swa_dt = pd.date_range(min(hypnogram.start_time), max(hypnogram.end_time), periods=len(sr_swa))"
   ]
  },
  {
   "cell_type": "code",
   "execution_count": 38,
   "metadata": {
    "execution": {
     "iopub.execute_input": "2021-04-12T23:42:22.436842Z",
     "iopub.status.busy": "2021-04-12T23:42:22.436646Z",
     "iopub.status.idle": "2021-04-12T23:42:22.454566Z",
     "shell.execute_reply": "2021-04-12T23:42:22.454019Z",
     "shell.execute_reply.started": "2021-04-12T23:42:22.436818Z"
    }
   },
   "outputs": [],
   "source": [
    "# density = spws.set_index('start_time').resample('10s').count().mean(axis=1).to_frame(name='frequency').reset_index()"
   ]
  },
  {
   "cell_type": "code",
   "execution_count": 42,
   "metadata": {
    "execution": {
     "iopub.execute_input": "2021-04-12T23:43:52.999967Z",
     "iopub.status.busy": "2021-04-12T23:43:52.999456Z",
     "iopub.status.idle": "2021-04-12T23:43:56.015302Z",
     "shell.execute_reply": "2021-04-12T23:43:56.014616Z",
     "shell.execute_reply.started": "2021-04-12T23:43:52.999898Z"
    }
   },
   "outputs": [
    {
     "data": {
      "application/vnd.jupyter.widget-view+json": {
       "model_id": "a2421f62fa5243418028edcec91fd106",
       "version_major": 2,
       "version_minor": 0
      },
      "text/plain": [
       "Canvas(toolbar=Toolbar(toolitems=[('Home', 'Reset original view', 'home', 'home'), ('Back', 'Back to previous …"
      ]
     },
     "metadata": {},
     "output_type": "display_data"
    }
   ],
   "source": [
    "fig, (mpta_swa_ax, sr_swa_ax, density_ax, duration_ax, amplitude_ax, integral_ax) = plt.subplots(6, 1, figsize=(22,12))\n",
    "\n",
    "xmargin=0\n",
    "\n",
    "sns.lineplot(x=mpta_swa_dt, y=mpta_swa, color='black', ax=mpta_swa_ax)\n",
    "mpta_swa_ax.set(xlabel=None, ylabel='CTX Delta WM Ref (uV^2/Hz)', ylim=(0, 300000), xmargin=xmargin, xticks=[])\n",
    "\n",
    "sns.lineplot(x=sr_swa_dt, y=sr_swa, color='black', ax=sr_swa_ax)\n",
    "sr_swa_ax.set(xlabel=None, ylabel='HPC Delta WM Ref', ylim=(0, 100000), xmargin=xmargin, xticks=[])\n",
    "\n",
    "binwidth = 10\n",
    "nbins = np.int((spws.start_time.max() - spws.start_time.min()).total_seconds() / binwidth)\n",
    "sns.histplot(data=spws, x='start_time', bins=nbins, color='black', ax=density_ax)\n",
    "density_ax.set(xlabel=None, ylabel='Frequency (Hz)', xmargin=xmargin, xticks=[])\n",
    "\n",
    "sns.scatterplot(data=spws, x=\"start_time\", y=\"duration\", s=2, ax=duration_ax)\n",
    "duration_ax.set(xlabel=None, ylabel=\"Duration (s)\", xmargin=xmargin, xticks=[])\n",
    "\n",
    "sns.scatterplot(data=spws, x='start_time', y='sink_amplitude', s=2, ax=amplitude_ax)\n",
    "amplitude_ax.set(xlabel=None, ylabel=\"Sink amplitude (mA/mm)\", xmargin=xmargin, xticks=[])\n",
    "\n",
    "sns.scatterplot(data=spws, x='start_time', y='sink_integral', s=2, ax=integral_ax)\n",
    "integral_ax.set(xlabel=\"Event time (month-date hour)\", ylabel=\"Sink integral (mA * ms)\", xmargin=xmargin)\n",
    "\n",
    "for ax in (mpta_swa_ax, sr_swa_ax, density_ax, duration_ax, amplitude_ax, integral_ax):\n",
    "    eplt.plot_hypnogram_overlay(hypnogram, ax=ax)\n",
    "\n",
    "plt.tight_layout()"
   ]
  },
  {
   "cell_type": "raw",
   "metadata": {
    "execution": {
     "iopub.execute_input": "2021-04-07T17:16:22.978821Z",
     "iopub.status.busy": "2021-04-07T17:16:22.978690Z",
     "iopub.status.idle": "2021-04-07T17:16:22.996332Z",
     "shell.execute_reply": "2021-04-07T17:16:22.995757Z",
     "shell.execute_reply.started": "2021-04-07T17:16:22.978804Z"
    }
   },
   "source": [
    "def add_spw_properties_to_hypnogram(spws, hypnogram):\n",
    "    for i, bout in hypnogram.iterrows():\n",
    "        bout_events = get_events_in_interval(spws, bout.start_time, bout.end_time)\n",
    "        hypnogram.at[i, 'spw_density'] = len(bout_events) / bout.duration.total_seconds()\n",
    "        hypnogram.at[i, 'mean_duration'] = bout_events.duration.mean()\n",
    "        hypnogram.at[i, 'mean_sink_amplitude'] = bout_events.sink_amplitude.mean()\n",
    "        hypnogram.at[i, 'mean_sink_integral'] = bout_events.sink_integral.mean()\n",
    "    \n",
    "    hypnogram.spw_density.fillna(value=0, inplace=True)\n",
    "    hypnogram.mean_duration.fillna(value=0, inplace=True)\n",
    "    hypnogram.mean_sink_amplitude.fillna(value=0, inplace=True)\n",
    "    hypnogram.mean_sink_integral.fillna(value=0, inplace=True)"
   ]
  },
  {
   "cell_type": "raw",
   "metadata": {
    "execution": {
     "iopub.execute_input": "2021-04-07T17:16:22.997228Z",
     "iopub.status.busy": "2021-04-07T17:16:22.997106Z",
     "iopub.status.idle": "2021-04-07T17:16:23.021180Z",
     "shell.execute_reply": "2021-04-07T17:16:23.020522Z",
     "shell.execute_reply.started": "2021-04-07T17:16:22.997212Z"
    }
   },
   "source": [
    "add_spw_properties_to_hypnogram(spws, hypnogram)"
   ]
  },
  {
   "cell_type": "raw",
   "metadata": {
    "execution": {
     "iopub.execute_input": "2021-04-07T17:16:23.021863Z",
     "iopub.status.busy": "2021-04-07T17:16:23.021739Z",
     "iopub.status.idle": "2021-04-07T17:16:23.033292Z",
     "shell.execute_reply": "2021-04-07T17:16:23.032557Z",
     "shell.execute_reply.started": "2021-04-07T17:16:23.021847Z"
    }
   },
   "source": [
    "qwk = filter_states(hypnogram, ['qWk']).reset_index(drop=True)"
   ]
  },
  {
   "cell_type": "raw",
   "metadata": {
    "execution": {
     "iopub.execute_input": "2021-01-13T02:04:15.238556Z",
     "iopub.status.busy": "2021-01-13T02:04:15.238425Z",
     "iopub.status.idle": "2021-01-13T02:04:15.257733Z",
     "shell.execute_reply": "2021-01-13T02:04:15.257235Z",
     "shell.execute_reply.started": "2021-01-13T02:04:15.238539Z"
    }
   },
   "source": [
    "def plot_spw_summary_by_bout_rank(hypnogram, figsize=(20, 8)):\n",
    "    fig, (density_ax, duration_ax, amplitude_ax, integral_ax) = plt.subplots(4, 1, figsize=figsize)\n",
    "    \n",
    "    hypnogram.plot.scatter(x='index', y='spw_density', ax=density_ax, title='SPW density (Hz)', s=1)\n",
    "    hypnogram.plot.scatter(x='index', y='mean_duration', ax=duration_ax, title='Event duration (s)', s=1)\n",
    "    hypnogram.plot.scatter(x='index', y='mean_sink_amplitude', ax=amplitude_ax, title='Sink amplitude (mA/mm)', s=1)\n",
    "    hypnogram.plot.scatter(x='index', y='mean_sink_integral', ax=integral_ax, title='Sink integral (mA * ms)', s=1)\n",
    "    for ax in (density_ax, duration_ax, amplitude_ax, integral_ax):\n",
    "        ax.set_xlabel('Bout rank')\n",
    "    plt.tight_layout()"
   ]
  },
  {
   "cell_type": "raw",
   "metadata": {
    "execution": {
     "iopub.execute_input": "2021-01-13T02:04:15.615416Z",
     "iopub.status.busy": "2021-01-13T02:04:15.615274Z",
     "iopub.status.idle": "2021-01-13T02:04:15.784732Z",
     "shell.execute_reply": "2021-01-13T02:04:15.784094Z",
     "shell.execute_reply.started": "2021-01-13T02:04:15.615400Z"
    }
   },
   "source": [
    "plot_spw_summary_by_bout_rank(qwk.reset_index())"
   ]
  },
  {
   "cell_type": "raw",
   "metadata": {
    "execution": {
     "iopub.execute_input": "2021-01-13T02:04:17.111802Z",
     "iopub.status.busy": "2021-01-13T02:04:17.111372Z",
     "iopub.status.idle": "2021-01-13T02:04:17.133291Z",
     "shell.execute_reply": "2021-01-13T02:04:17.132480Z",
     "shell.execute_reply.started": "2021-01-13T02:04:17.111746Z"
    }
   },
   "source": [
    "awk = filter_states(hypnogram, ['aWk']).reset_index(drop=True)"
   ]
  },
  {
   "cell_type": "raw",
   "metadata": {
    "execution": {
     "iopub.execute_input": "2021-01-13T02:04:17.727964Z",
     "iopub.status.busy": "2021-01-13T02:04:17.727809Z",
     "iopub.status.idle": "2021-01-13T02:04:17.890723Z",
     "shell.execute_reply": "2021-01-13T02:04:17.890133Z",
     "shell.execute_reply.started": "2021-01-13T02:04:17.727944Z"
    }
   },
   "source": [
    "plot_spw_summary_by_bout_rank(awk.reset_index())"
   ]
  },
  {
   "cell_type": "code",
   "execution_count": null,
   "metadata": {},
   "outputs": [],
   "source": []
  }
 ],
 "metadata": {
  "kernelspec": {
   "display_name": "Python 3",
   "language": "python",
   "name": "python3"
  },
  "language_info": {
   "codemirror_mode": {
    "name": "ipython",
    "version": 3
   },
   "file_extension": ".py",
   "mimetype": "text/x-python",
   "name": "python",
   "nbconvert_exporter": "python",
   "pygments_lexer": "ipython3",
   "version": "3.7.9"
  }
 },
 "nbformat": 4,
 "nbformat_minor": 4
}
