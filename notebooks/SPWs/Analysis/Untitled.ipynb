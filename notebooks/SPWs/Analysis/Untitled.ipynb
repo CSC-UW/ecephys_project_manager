{
 "cells": [
  {
   "cell_type": "code",
   "execution_count": 1,
   "metadata": {
    "execution": {
     "iopub.execute_input": "2021-07-14T17:09:22.336829Z",
     "iopub.status.busy": "2021-07-14T17:09:22.336416Z",
     "iopub.status.idle": "2021-07-14T17:09:22.354208Z",
     "shell.execute_reply": "2021-07-14T17:09:22.353573Z",
     "shell.execute_reply.started": "2021-07-14T17:09:22.336774Z"
    }
   },
   "outputs": [],
   "source": [
    "%load_ext autoreload\n",
    "%autoreload 2"
   ]
  },
  {
   "cell_type": "code",
   "execution_count": 2,
   "metadata": {
    "execution": {
     "iopub.execute_input": "2021-07-14T17:09:22.749569Z",
     "iopub.status.busy": "2021-07-14T17:09:22.749096Z",
     "iopub.status.idle": "2021-07-14T17:09:23.295895Z",
     "shell.execute_reply": "2021-07-14T17:09:23.295329Z",
     "shell.execute_reply.started": "2021-07-14T17:09:22.749511Z"
    }
   },
   "outputs": [],
   "source": [
    "import pandas as pd\n",
    "import ecephys_analyses as ea\n",
    "import seaborn as sns"
   ]
  },
  {
   "cell_type": "code",
   "execution_count": 3,
   "metadata": {
    "execution": {
     "iopub.execute_input": "2021-07-14T17:09:25.549624Z",
     "iopub.status.busy": "2021-07-14T17:09:25.549272Z",
     "iopub.status.idle": "2021-07-14T17:09:25.568580Z",
     "shell.execute_reply": "2021-07-14T17:09:25.567929Z",
     "shell.execute_reply.started": "2021-07-14T17:09:25.549583Z"
    }
   },
   "outputs": [],
   "source": [
    "def normalize(df):\n",
    "    df = df.copy()\n",
    "    levels = df.index.names\n",
    "    df = df / df.loc['baseline-light-period', 'NREM'] * 100\n",
    "    df = df.reorder_levels(levels).sort_index()\n",
    "    return df"
   ]
  },
  {
   "cell_type": "code",
   "execution_count": 4,
   "metadata": {
    "execution": {
     "iopub.execute_input": "2021-07-14T17:09:26.725743Z",
     "iopub.status.busy": "2021-07-14T17:09:26.725270Z",
     "iopub.status.idle": "2021-07-14T17:09:26.744481Z",
     "shell.execute_reply": "2021-07-14T17:09:26.743475Z",
     "shell.execute_reply.started": "2021-07-14T17:09:26.725685Z"
    }
   },
   "outputs": [],
   "source": [
    "keep_subjects = [\"Segundo\", \"Valentino\", \"Doppio\", \"Alessandro\", \"Allan\"]"
   ]
  },
  {
   "cell_type": "markdown",
   "metadata": {},
   "source": [
    "# SWA"
   ]
  },
  {
   "cell_type": "code",
   "execution_count": 5,
   "metadata": {
    "execution": {
     "iopub.execute_input": "2021-07-14T17:09:30.832312Z",
     "iopub.status.busy": "2021-07-14T17:09:30.831768Z",
     "iopub.status.idle": "2021-07-14T17:09:30.869671Z",
     "shell.execute_reply": "2021-07-14T17:09:30.869031Z",
     "shell.execute_reply.started": "2021-07-14T17:09:30.832252Z"
    }
   },
   "outputs": [
    {
     "data": {
      "text/html": [
       "<div>\n",
       "<style scoped>\n",
       "    .dataframe tbody tr th:only-of-type {\n",
       "        vertical-align: middle;\n",
       "    }\n",
       "\n",
       "    .dataframe tbody tr th {\n",
       "        vertical-align: top;\n",
       "    }\n",
       "\n",
       "    .dataframe thead th {\n",
       "        text-align: right;\n",
       "    }\n",
       "</style>\n",
       "<table border=\"1\" class=\"dataframe\">\n",
       "  <thead>\n",
       "    <tr style=\"text-align: right;\">\n",
       "      <th></th>\n",
       "      <th></th>\n",
       "      <th></th>\n",
       "      <th></th>\n",
       "      <th></th>\n",
       "      <th>power</th>\n",
       "    </tr>\n",
       "    <tr>\n",
       "      <th>condition</th>\n",
       "      <th>state</th>\n",
       "      <th>region</th>\n",
       "      <th>band</th>\n",
       "      <th>subject</th>\n",
       "      <th></th>\n",
       "    </tr>\n",
       "  </thead>\n",
       "  <tbody>\n",
       "    <tr>\n",
       "      <th rowspan=\"5\" valign=\"top\">baseline-light-period</th>\n",
       "      <th rowspan=\"5\" valign=\"top\">NREM</th>\n",
       "      <th rowspan=\"5\" valign=\"top\">mpta_wm_ref</th>\n",
       "      <th rowspan=\"5\" valign=\"top\">delta</th>\n",
       "      <th>Alessandro</th>\n",
       "      <td>208874.597587</td>\n",
       "    </tr>\n",
       "    <tr>\n",
       "      <th>Allan</th>\n",
       "      <td>328467.363411</td>\n",
       "    </tr>\n",
       "    <tr>\n",
       "      <th>Doppio</th>\n",
       "      <td>225727.755399</td>\n",
       "    </tr>\n",
       "    <tr>\n",
       "      <th>Eugene</th>\n",
       "      <td>257810.423571</td>\n",
       "    </tr>\n",
       "    <tr>\n",
       "      <th>Segundo</th>\n",
       "      <td>248743.670119</td>\n",
       "    </tr>\n",
       "    <tr>\n",
       "      <th>...</th>\n",
       "      <th>...</th>\n",
       "      <th>...</th>\n",
       "      <th>...</th>\n",
       "      <th>...</th>\n",
       "      <td>...</td>\n",
       "    </tr>\n",
       "    <tr>\n",
       "      <th rowspan=\"5\" valign=\"top\">recovery</th>\n",
       "      <th rowspan=\"5\" valign=\"top\">all-SPW-states</th>\n",
       "      <th rowspan=\"5\" valign=\"top\">sr_wm_ref</th>\n",
       "      <th rowspan=\"5\" valign=\"top\">theta</th>\n",
       "      <th>Allan</th>\n",
       "      <td>164334.485991</td>\n",
       "    </tr>\n",
       "    <tr>\n",
       "      <th>Doppio</th>\n",
       "      <td>210346.050331</td>\n",
       "    </tr>\n",
       "    <tr>\n",
       "      <th>Eugene</th>\n",
       "      <td>257641.290143</td>\n",
       "    </tr>\n",
       "    <tr>\n",
       "      <th>Segundo</th>\n",
       "      <td>324421.450582</td>\n",
       "    </tr>\n",
       "    <tr>\n",
       "      <th>Valentino</th>\n",
       "      <td>251716.216176</td>\n",
       "    </tr>\n",
       "  </tbody>\n",
       "</table>\n",
       "<p>864 rows × 1 columns</p>\n",
       "</div>"
      ],
      "text/plain": [
       "                                                                           power\n",
       "condition             state          region      band  subject                  \n",
       "baseline-light-period NREM           mpta_wm_ref delta Alessandro  208874.597587\n",
       "                                                       Allan       328467.363411\n",
       "                                                       Doppio      225727.755399\n",
       "                                                       Eugene      257810.423571\n",
       "                                                       Segundo     248743.670119\n",
       "...                                                                          ...\n",
       "recovery              all-SPW-states sr_wm_ref   theta Allan       164334.485991\n",
       "                                                       Doppio      210346.050331\n",
       "                                                       Eugene      257641.290143\n",
       "                                                       Segundo     324421.450582\n",
       "                                                       Valentino   251716.216176\n",
       "\n",
       "[864 rows x 1 columns]"
      ]
     },
     "execution_count": 5,
     "metadata": {},
     "output_type": "execute_result"
    }
   ],
   "source": [
    "pwr = pd.read_csv(ea.package_datapath('mean-bandpower.csv'))\n",
    "pwr = pwr.set_index(['condition', 'state', 'region', 'band', 'subject']).sort_index()\n",
    "pwr"
   ]
  },
  {
   "cell_type": "code",
   "execution_count": 6,
   "metadata": {
    "execution": {
     "iopub.execute_input": "2021-07-14T17:09:34.148666Z",
     "iopub.status.busy": "2021-07-14T17:09:34.148337Z",
     "iopub.status.idle": "2021-07-14T17:09:34.198049Z",
     "shell.execute_reply": "2021-07-14T17:09:34.197452Z",
     "shell.execute_reply.started": "2021-07-14T17:09:34.148620Z"
    }
   },
   "outputs": [
    {
     "data": {
      "text/html": [
       "<div>\n",
       "<style scoped>\n",
       "    .dataframe tbody tr th:only-of-type {\n",
       "        vertical-align: middle;\n",
       "    }\n",
       "\n",
       "    .dataframe tbody tr th {\n",
       "        vertical-align: top;\n",
       "    }\n",
       "\n",
       "    .dataframe thead th {\n",
       "        text-align: right;\n",
       "    }\n",
       "</style>\n",
       "<table border=\"1\" class=\"dataframe\">\n",
       "  <thead>\n",
       "    <tr style=\"text-align: right;\">\n",
       "      <th></th>\n",
       "      <th></th>\n",
       "      <th></th>\n",
       "      <th></th>\n",
       "      <th></th>\n",
       "      <th>power</th>\n",
       "    </tr>\n",
       "    <tr>\n",
       "      <th>condition</th>\n",
       "      <th>state</th>\n",
       "      <th>region</th>\n",
       "      <th>band</th>\n",
       "      <th>subject</th>\n",
       "      <th></th>\n",
       "    </tr>\n",
       "  </thead>\n",
       "  <tbody>\n",
       "    <tr>\n",
       "      <th rowspan=\"5\" valign=\"top\">baseline-light-period</th>\n",
       "      <th rowspan=\"5\" valign=\"top\">NREM</th>\n",
       "      <th rowspan=\"5\" valign=\"top\">mpta_wm_ref</th>\n",
       "      <th rowspan=\"5\" valign=\"top\">delta</th>\n",
       "      <th>Alessandro</th>\n",
       "      <td>100.000000</td>\n",
       "    </tr>\n",
       "    <tr>\n",
       "      <th>Allan</th>\n",
       "      <td>100.000000</td>\n",
       "    </tr>\n",
       "    <tr>\n",
       "      <th>Doppio</th>\n",
       "      <td>100.000000</td>\n",
       "    </tr>\n",
       "    <tr>\n",
       "      <th>Eugene</th>\n",
       "      <td>100.000000</td>\n",
       "    </tr>\n",
       "    <tr>\n",
       "      <th>Segundo</th>\n",
       "      <td>100.000000</td>\n",
       "    </tr>\n",
       "    <tr>\n",
       "      <th>...</th>\n",
       "      <th>...</th>\n",
       "      <th>...</th>\n",
       "      <th>...</th>\n",
       "      <th>...</th>\n",
       "      <td>...</td>\n",
       "    </tr>\n",
       "    <tr>\n",
       "      <th rowspan=\"5\" valign=\"top\">recovery</th>\n",
       "      <th rowspan=\"5\" valign=\"top\">all-SPW-states</th>\n",
       "      <th rowspan=\"5\" valign=\"top\">sr_wm_ref</th>\n",
       "      <th rowspan=\"5\" valign=\"top\">theta</th>\n",
       "      <th>Allan</th>\n",
       "      <td>97.323856</td>\n",
       "    </tr>\n",
       "    <tr>\n",
       "      <th>Doppio</th>\n",
       "      <td>101.892368</td>\n",
       "    </tr>\n",
       "    <tr>\n",
       "      <th>Eugene</th>\n",
       "      <td>109.602396</td>\n",
       "    </tr>\n",
       "    <tr>\n",
       "      <th>Segundo</th>\n",
       "      <td>103.784464</td>\n",
       "    </tr>\n",
       "    <tr>\n",
       "      <th>Valentino</th>\n",
       "      <td>103.946736</td>\n",
       "    </tr>\n",
       "  </tbody>\n",
       "</table>\n",
       "<p>864 rows × 1 columns</p>\n",
       "</div>"
      ],
      "text/plain": [
       "                                                                        power\n",
       "condition             state          region      band  subject               \n",
       "baseline-light-period NREM           mpta_wm_ref delta Alessandro  100.000000\n",
       "                                                       Allan       100.000000\n",
       "                                                       Doppio      100.000000\n",
       "                                                       Eugene      100.000000\n",
       "                                                       Segundo     100.000000\n",
       "...                                                                       ...\n",
       "recovery              all-SPW-states sr_wm_ref   theta Allan        97.323856\n",
       "                                                       Doppio      101.892368\n",
       "                                                       Eugene      109.602396\n",
       "                                                       Segundo     103.784464\n",
       "                                                       Valentino   103.946736\n",
       "\n",
       "[864 rows x 1 columns]"
      ]
     },
     "execution_count": 6,
     "metadata": {},
     "output_type": "execute_result"
    }
   ],
   "source": [
    "pwr = normalize(pwr)\n",
    "pwr"
   ]
  },
  {
   "cell_type": "code",
   "execution_count": 7,
   "metadata": {
    "execution": {
     "iopub.execute_input": "2021-07-14T17:10:40.472776Z",
     "iopub.status.busy": "2021-07-14T17:10:40.472450Z",
     "iopub.status.idle": "2021-07-14T17:10:40.497491Z",
     "shell.execute_reply": "2021-07-14T17:10:40.496975Z",
     "shell.execute_reply.started": "2021-07-14T17:10:40.472733Z"
    }
   },
   "outputs": [],
   "source": [
    "def get_swa_rebound_and_decline(pwr, state):\n",
    "    rebounds = pwr.loc['first2h-recovery'] - pwr.loc['first2h-recovery-match']\n",
    "    declines = pwr.loc['early-recovery'] - pwr.loc['late-recovery']\n",
    "\n",
    "    df = pd.concat(\n",
    "        [\n",
    "            rebounds.loc[state, \"mpta_wm_ref\", \"delta\"],\n",
    "            declines.loc[state, \"mpta_wm_ref\", \"delta\"],\n",
    "            rebounds.loc[state, \"sr_wm_ref\", \"delta\"],\n",
    "            declines.loc[state, \"sr_wm_ref\", \"delta\"],\n",
    "        ],\n",
    "        keys=[\"cx_rebound\", \"cx_decline\", \"hc_rebound\", \"hc_decline\"],\n",
    "        axis=1,\n",
    "    ).droplevel(1, axis=1)\n",
    "    return df\n",
    "\n",
    "swa_nrem = get_swa_rebound_and_decline(pwr, 'NREM').loc[keep_subjects]"
   ]
  },
  {
   "cell_type": "code",
   "execution_count": 8,
   "metadata": {
    "execution": {
     "iopub.execute_input": "2021-07-14T17:10:55.104004Z",
     "iopub.status.busy": "2021-07-14T17:10:55.103576Z",
     "iopub.status.idle": "2021-07-14T17:10:55.125984Z",
     "shell.execute_reply": "2021-07-14T17:10:55.125412Z",
     "shell.execute_reply.started": "2021-07-14T17:10:55.103950Z"
    }
   },
   "outputs": [
    {
     "data": {
      "text/html": [
       "<div>\n",
       "<style scoped>\n",
       "    .dataframe tbody tr th:only-of-type {\n",
       "        vertical-align: middle;\n",
       "    }\n",
       "\n",
       "    .dataframe tbody tr th {\n",
       "        vertical-align: top;\n",
       "    }\n",
       "\n",
       "    .dataframe thead th {\n",
       "        text-align: right;\n",
       "    }\n",
       "</style>\n",
       "<table border=\"1\" class=\"dataframe\">\n",
       "  <thead>\n",
       "    <tr style=\"text-align: right;\">\n",
       "      <th></th>\n",
       "      <th>cx_rebound</th>\n",
       "      <th>cx_decline</th>\n",
       "      <th>hc_rebound</th>\n",
       "      <th>hc_decline</th>\n",
       "    </tr>\n",
       "    <tr>\n",
       "      <th>subject</th>\n",
       "      <th></th>\n",
       "      <th></th>\n",
       "      <th></th>\n",
       "      <th></th>\n",
       "    </tr>\n",
       "  </thead>\n",
       "  <tbody>\n",
       "    <tr>\n",
       "      <th>Segundo</th>\n",
       "      <td>174.665864</td>\n",
       "      <td>126.744205</td>\n",
       "      <td>42.015040</td>\n",
       "      <td>36.053249</td>\n",
       "    </tr>\n",
       "    <tr>\n",
       "      <th>Valentino</th>\n",
       "      <td>103.253351</td>\n",
       "      <td>77.368286</td>\n",
       "      <td>35.941385</td>\n",
       "      <td>25.159800</td>\n",
       "    </tr>\n",
       "    <tr>\n",
       "      <th>Doppio</th>\n",
       "      <td>157.877901</td>\n",
       "      <td>99.269911</td>\n",
       "      <td>43.654388</td>\n",
       "      <td>39.583519</td>\n",
       "    </tr>\n",
       "    <tr>\n",
       "      <th>Alessandro</th>\n",
       "      <td>108.873443</td>\n",
       "      <td>66.366003</td>\n",
       "      <td>40.002798</td>\n",
       "      <td>49.034242</td>\n",
       "    </tr>\n",
       "    <tr>\n",
       "      <th>Allan</th>\n",
       "      <td>189.005556</td>\n",
       "      <td>166.388974</td>\n",
       "      <td>33.788480</td>\n",
       "      <td>35.245754</td>\n",
       "    </tr>\n",
       "  </tbody>\n",
       "</table>\n",
       "</div>"
      ],
      "text/plain": [
       "            cx_rebound  cx_decline  hc_rebound  hc_decline\n",
       "subject                                                   \n",
       "Segundo     174.665864  126.744205   42.015040   36.053249\n",
       "Valentino   103.253351   77.368286   35.941385   25.159800\n",
       "Doppio      157.877901   99.269911   43.654388   39.583519\n",
       "Alessandro  108.873443   66.366003   40.002798   49.034242\n",
       "Allan       189.005556  166.388974   33.788480   35.245754"
      ]
     },
     "execution_count": 8,
     "metadata": {},
     "output_type": "execute_result"
    }
   ],
   "source": [
    "swa_nrem"
   ]
  },
  {
   "cell_type": "code",
   "execution_count": null,
   "metadata": {},
   "outputs": [],
   "source": []
  }
 ],
 "metadata": {
  "kernelspec": {
   "display_name": "Python 3",
   "language": "python",
   "name": "python3"
  },
  "language_info": {
   "codemirror_mode": {
    "name": "ipython",
    "version": 3
   },
   "file_extension": ".py",
   "mimetype": "text/x-python",
   "name": "python",
   "nbconvert_exporter": "python",
   "pygments_lexer": "ipython3",
   "version": "3.7.9"
  }
 },
 "nbformat": 4,
 "nbformat_minor": 4
}
