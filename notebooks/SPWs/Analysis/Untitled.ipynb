{
 "cells": [
  {
   "cell_type": "code",
   "execution_count": 21,
   "metadata": {
    "execution": {
     "iopub.execute_input": "2021-07-09T16:39:30.789037Z",
     "iopub.status.busy": "2021-07-09T16:39:30.788586Z",
     "iopub.status.idle": "2021-07-09T16:39:30.820853Z",
     "shell.execute_reply": "2021-07-09T16:39:30.820204Z",
     "shell.execute_reply.started": "2021-07-09T16:39:30.788980Z"
    }
   },
   "outputs": [
    {
     "name": "stdout",
     "output_type": "stream",
     "text": [
      "The autoreload extension is already loaded. To reload it, use:\n",
      "  %reload_ext autoreload\n"
     ]
    }
   ],
   "source": [
    "%load_ext autoreload\n",
    "%autoreload 2\n",
    "# %matplotlib widget"
   ]
  },
  {
   "cell_type": "code",
   "execution_count": 22,
   "metadata": {
    "execution": {
     "iopub.execute_input": "2021-07-09T16:39:30.959821Z",
     "iopub.status.busy": "2021-07-09T16:39:30.959685Z",
     "iopub.status.idle": "2021-07-09T16:39:30.999480Z",
     "shell.execute_reply": "2021-07-09T16:39:30.998548Z",
     "shell.execute_reply.started": "2021-07-09T16:39:30.959804Z"
    }
   },
   "outputs": [],
   "source": [
    "import xarray as xr\n",
    "import numpy as np\n",
    "import pandas as pd\n",
    "\n",
    "import ecephys_analyses as ea \n",
    "\n",
    "import matplotlib.pyplot as plt\n",
    "import seaborn as sns\n",
    "sns.set_theme()"
   ]
  },
  {
   "cell_type": "code",
   "execution_count": 23,
   "metadata": {
    "execution": {
     "iopub.execute_input": "2021-07-09T16:39:31.137009Z",
     "iopub.status.busy": "2021-07-09T16:39:31.136674Z",
     "iopub.status.idle": "2021-07-09T16:39:31.158087Z",
     "shell.execute_reply": "2021-07-09T16:39:31.157379Z",
     "shell.execute_reply.started": "2021-07-09T16:39:31.136967Z"
    }
   },
   "outputs": [
    {
     "data": {
      "text/plain": [
       "<xarray.core.options.set_options at 0x7efd7fd5d810>"
      ]
     },
     "execution_count": 23,
     "metadata": {},
     "output_type": "execute_result"
    }
   ],
   "source": [
    "xr.set_options(keep_attrs=True)"
   ]
  },
  {
   "cell_type": "code",
   "execution_count": 44,
   "metadata": {
    "execution": {
     "iopub.execute_input": "2021-07-09T17:16:20.700313Z",
     "iopub.status.busy": "2021-07-09T17:16:20.699813Z",
     "iopub.status.idle": "2021-07-09T17:16:20.724765Z",
     "shell.execute_reply": "2021-07-09T17:16:20.724170Z",
     "shell.execute_reply.started": "2021-07-09T17:16:20.700254Z"
    }
   },
   "outputs": [
    {
     "data": {
      "text/plain": [
       "['N1', 'N2']"
      ]
     },
     "execution_count": 44,
     "metadata": {},
     "output_type": "execute_result"
    }
   ],
   "source": [
    "ea.NREM"
   ]
  },
  {
   "cell_type": "code",
   "execution_count": 19,
   "metadata": {
    "execution": {
     "iopub.execute_input": "2021-06-24T18:20:54.708143Z",
     "iopub.status.busy": "2021-06-24T18:20:54.707658Z",
     "iopub.status.idle": "2021-06-24T18:20:57.390572Z",
     "shell.execute_reply": "2021-06-24T18:20:57.389543Z",
     "shell.execute_reply.started": "2021-06-24T18:20:54.708083Z"
    }
   },
   "outputs": [],
   "source": [
    "subject = \"Segundo\"\n",
    "experiment = 'sleep-homeostasis'\n",
    "condition = 'light-period-circadian-match'\n",
    "subjects = [\"Segundo\", \"Valentino\", \"Doppio\", \"Alessandro\", \"Allan\"]\n",
    "durations = np.arange(15, 50, 5)\n",
    "subject_data = list()\n",
    "for subject in subjects:\n",
    "    hyp = ea.load_hypnogram(subject, experiment, condition)\n",
    "    #spws = ea.load_spws(subject, experiment, condition)\n",
    "    wake_hyp = hyp.keep_states(['Wake'])\n",
    "    n_bouts = dict(subject=subject)\n",
    "    for duration in durations:\n",
    "        bouts = wake_hyp[wake_hyp.duration > pd.to_timedelta(duration, 'm')]\n",
    "        n_bouts[duration] = len(bouts)\n",
    "    subject_data.append(n_bouts)\n",
    "\n",
    "df = pd.DataFrame.from_dict(subject_data)"
   ]
  },
  {
   "cell_type": "code",
   "execution_count": 20,
   "metadata": {
    "execution": {
     "iopub.execute_input": "2021-06-24T18:20:59.743052Z",
     "iopub.status.busy": "2021-06-24T18:20:59.742571Z",
     "iopub.status.idle": "2021-06-24T18:20:59.769693Z",
     "shell.execute_reply": "2021-06-24T18:20:59.769100Z",
     "shell.execute_reply.started": "2021-06-24T18:20:59.742994Z"
    }
   },
   "outputs": [
    {
     "data": {
      "text/html": [
       "<div>\n",
       "<style scoped>\n",
       "    .dataframe tbody tr th:only-of-type {\n",
       "        vertical-align: middle;\n",
       "    }\n",
       "\n",
       "    .dataframe tbody tr th {\n",
       "        vertical-align: top;\n",
       "    }\n",
       "\n",
       "    .dataframe thead th {\n",
       "        text-align: right;\n",
       "    }\n",
       "</style>\n",
       "<table border=\"1\" class=\"dataframe\">\n",
       "  <thead>\n",
       "    <tr style=\"text-align: right;\">\n",
       "      <th></th>\n",
       "      <th>subject</th>\n",
       "      <th>15</th>\n",
       "      <th>20</th>\n",
       "      <th>25</th>\n",
       "      <th>30</th>\n",
       "      <th>35</th>\n",
       "      <th>40</th>\n",
       "      <th>45</th>\n",
       "    </tr>\n",
       "  </thead>\n",
       "  <tbody>\n",
       "    <tr>\n",
       "      <th>0</th>\n",
       "      <td>Segundo</td>\n",
       "      <td>2</td>\n",
       "      <td>2</td>\n",
       "      <td>1</td>\n",
       "      <td>1</td>\n",
       "      <td>1</td>\n",
       "      <td>1</td>\n",
       "      <td>1</td>\n",
       "    </tr>\n",
       "    <tr>\n",
       "      <th>1</th>\n",
       "      <td>Valentino</td>\n",
       "      <td>3</td>\n",
       "      <td>2</td>\n",
       "      <td>2</td>\n",
       "      <td>1</td>\n",
       "      <td>0</td>\n",
       "      <td>0</td>\n",
       "      <td>0</td>\n",
       "    </tr>\n",
       "    <tr>\n",
       "      <th>2</th>\n",
       "      <td>Doppio</td>\n",
       "      <td>5</td>\n",
       "      <td>4</td>\n",
       "      <td>3</td>\n",
       "      <td>3</td>\n",
       "      <td>2</td>\n",
       "      <td>2</td>\n",
       "      <td>0</td>\n",
       "    </tr>\n",
       "    <tr>\n",
       "      <th>3</th>\n",
       "      <td>Alessandro</td>\n",
       "      <td>3</td>\n",
       "      <td>2</td>\n",
       "      <td>1</td>\n",
       "      <td>0</td>\n",
       "      <td>0</td>\n",
       "      <td>0</td>\n",
       "      <td>0</td>\n",
       "    </tr>\n",
       "    <tr>\n",
       "      <th>4</th>\n",
       "      <td>Allan</td>\n",
       "      <td>4</td>\n",
       "      <td>3</td>\n",
       "      <td>3</td>\n",
       "      <td>1</td>\n",
       "      <td>0</td>\n",
       "      <td>0</td>\n",
       "      <td>0</td>\n",
       "    </tr>\n",
       "  </tbody>\n",
       "</table>\n",
       "</div>"
      ],
      "text/plain": [
       "      subject  15  20  25  30  35  40  45\n",
       "0     Segundo   2   2   1   1   1   1   1\n",
       "1   Valentino   3   2   2   1   0   0   0\n",
       "2      Doppio   5   4   3   3   2   2   0\n",
       "3  Alessandro   3   2   1   0   0   0   0\n",
       "4       Allan   4   3   3   1   0   0   0"
      ]
     },
     "execution_count": 20,
     "metadata": {},
     "output_type": "execute_result"
    }
   ],
   "source": [
    "df"
   ]
  },
  {
   "cell_type": "code",
   "execution_count": null,
   "metadata": {},
   "outputs": [],
   "source": []
  }
 ],
 "metadata": {
  "kernelspec": {
   "display_name": "Python 3",
   "language": "python",
   "name": "python3"
  },
  "language_info": {
   "codemirror_mode": {
    "name": "ipython",
    "version": 3
   },
   "file_extension": ".py",
   "mimetype": "text/x-python",
   "name": "python",
   "nbconvert_exporter": "python",
   "pygments_lexer": "ipython3",
   "version": "3.7.9"
  }
 },
 "nbformat": 4,
 "nbformat_minor": 4
}
