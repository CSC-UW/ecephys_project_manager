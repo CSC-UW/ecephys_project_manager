{
 "cells": [
  {
   "cell_type": "code",
   "execution_count": 1,
   "metadata": {
    "execution": {
     "iopub.execute_input": "2021-05-31T22:06:31.181915Z",
     "iopub.status.busy": "2021-05-31T22:06:31.181498Z",
     "iopub.status.idle": "2021-05-31T22:06:31.198646Z",
     "shell.execute_reply": "2021-05-31T22:06:31.198021Z",
     "shell.execute_reply.started": "2021-05-31T22:06:31.181863Z"
    }
   },
   "outputs": [],
   "source": [
    "%load_ext autoreload\n",
    "%autoreload 2"
   ]
  },
  {
   "cell_type": "code",
   "execution_count": 2,
   "metadata": {
    "execution": {
     "iopub.execute_input": "2021-05-31T22:06:31.673890Z",
     "iopub.status.busy": "2021-05-31T22:06:31.673679Z",
     "iopub.status.idle": "2021-05-31T22:06:32.029234Z",
     "shell.execute_reply": "2021-05-31T22:06:32.028161Z",
     "shell.execute_reply.started": "2021-05-31T22:06:31.673865Z"
    }
   },
   "outputs": [],
   "source": [
    "%matplotlib widget\n",
    "import matplotlib.pyplot as plt\n",
    "import seaborn as sns"
   ]
  },
  {
   "cell_type": "code",
   "execution_count": 3,
   "metadata": {
    "execution": {
     "iopub.execute_input": "2021-05-31T22:06:32.161446Z",
     "iopub.status.busy": "2021-05-31T22:06:32.161242Z",
     "iopub.status.idle": "2021-05-31T22:06:32.399725Z",
     "shell.execute_reply": "2021-05-31T22:06:32.398575Z",
     "shell.execute_reply.started": "2021-05-31T22:06:32.161419Z"
    }
   },
   "outputs": [],
   "source": [
    "import xarray as xr\n",
    "import numpy as np\n",
    "import pandas as pd"
   ]
  },
  {
   "cell_type": "code",
   "execution_count": 4,
   "metadata": {
    "execution": {
     "iopub.execute_input": "2021-05-31T22:06:32.532562Z",
     "iopub.status.busy": "2021-05-31T22:06:32.532359Z",
     "iopub.status.idle": "2021-05-31T22:06:32.551010Z",
     "shell.execute_reply": "2021-05-31T22:06:32.550437Z",
     "shell.execute_reply.started": "2021-05-31T22:06:32.532537Z"
    }
   },
   "outputs": [
    {
     "data": {
      "text/plain": [
       "<xarray.core.options.set_options at 0x7f808f62f090>"
      ]
     },
     "execution_count": 4,
     "metadata": {},
     "output_type": "execute_result"
    }
   ],
   "source": [
    "xr.set_options(keep_attrs=True)"
   ]
  },
  {
   "cell_type": "code",
   "execution_count": 7,
   "metadata": {
    "execution": {
     "iopub.execute_input": "2021-05-31T22:06:38.312573Z",
     "iopub.status.busy": "2021-05-31T22:06:38.312079Z",
     "iopub.status.idle": "2021-05-31T22:06:38.333402Z",
     "shell.execute_reply": "2021-05-31T22:06:38.332573Z",
     "shell.execute_reply.started": "2021-05-31T22:06:38.312513Z"
    }
   },
   "outputs": [],
   "source": [
    "import ecephys_analyses as ea \n",
    "from ecephys import utils\n",
    "from ecephys.signal.xarray_utils import filter_dataset_by_hypnogram"
   ]
  },
  {
   "cell_type": "code",
   "execution_count": 8,
   "metadata": {
    "execution": {
     "iopub.execute_input": "2021-05-31T22:06:38.779254Z",
     "iopub.status.busy": "2021-05-31T22:06:38.778880Z",
     "iopub.status.idle": "2021-05-31T22:06:38.800539Z",
     "shell.execute_reply": "2021-05-31T22:06:38.799754Z",
     "shell.execute_reply.started": "2021-05-31T22:06:38.779208Z"
    }
   },
   "outputs": [],
   "source": [
    "def ds2df(ds):\n",
    "    s = ds.to_dataframe().stack()\n",
    "    s.index.names = s.index.names[:-1] + ['region']\n",
    "    return s.to_frame(name='power')"
   ]
  },
  {
   "cell_type": "code",
   "execution_count": 9,
   "metadata": {
    "execution": {
     "iopub.execute_input": "2021-05-31T22:06:39.009531Z",
     "iopub.status.busy": "2021-05-31T22:06:39.009396Z",
     "iopub.status.idle": "2021-05-31T22:06:39.025515Z",
     "shell.execute_reply": "2021-05-31T22:06:39.025181Z",
     "shell.execute_reply.started": "2021-05-31T22:06:39.009514Z"
    }
   },
   "outputs": [],
   "source": [
    "subject = \"Segundo\"\n",
    "experiment = \"sleep-homeostasis\"\n",
    "condition = \"recovery-sleep\"\n",
    "states = [\"N1\", \"N2\"]\n",
    "duration = '02:00:00'\n",
    "f_range = (0.5, 4)"
   ]
  },
  {
   "cell_type": "code",
   "execution_count": 13,
   "metadata": {
    "execution": {
     "iopub.execute_input": "2021-05-31T22:07:58.914285Z",
     "iopub.status.busy": "2021-05-31T22:07:58.913801Z",
     "iopub.status.idle": "2021-05-31T22:08:00.406823Z",
     "shell.execute_reply": "2021-05-31T22:08:00.406129Z",
     "shell.execute_reply.started": "2021-05-31T22:07:58.914225Z"
    }
   },
   "outputs": [],
   "source": [
    "hyp = ea.load_hypnogram(subject, experiment, condition)\n",
    "power = ea.load_power(subject, experiment, condition, \"spg.nc\").sel(frequency=slice(*f_range)).sum(dim='frequency')"
   ]
  },
  {
   "cell_type": "code",
   "execution_count": 14,
   "metadata": {
    "execution": {
     "iopub.execute_input": "2021-05-31T22:08:20.154736Z",
     "iopub.status.busy": "2021-05-31T22:08:20.154246Z",
     "iopub.status.idle": "2021-05-31T22:08:20.280015Z",
     "shell.execute_reply": "2021-05-31T22:08:20.279354Z",
     "shell.execute_reply.started": "2021-05-31T22:08:20.154674Z"
    }
   },
   "outputs": [],
   "source": [
    "early_hyp = hyp.keep_states(states).keep_first(duration)\n",
    "early_pow = filter_dataset_by_hypnogram(power, early_hyp).swap_dims({'time': 'datetime'}).drop_vars(['time', 'timedelta'])"
   ]
  },
  {
   "cell_type": "code",
   "execution_count": 15,
   "metadata": {
    "execution": {
     "iopub.execute_input": "2021-05-31T22:08:38.737493Z",
     "iopub.status.busy": "2021-05-31T22:08:38.737012Z",
     "iopub.status.idle": "2021-05-31T22:08:38.868324Z",
     "shell.execute_reply": "2021-05-31T22:08:38.867457Z",
     "shell.execute_reply.started": "2021-05-31T22:08:38.737433Z"
    }
   },
   "outputs": [],
   "source": [
    "late_hyp = hyp.keep_states(states).keep_last(duration)\n",
    "late_pow = filter_dataset_by_hypnogram(power, late_hyp).swap_dims({'time': 'datetime'}).drop_vars(['time', 'timedelta'])"
   ]
  },
  {
   "cell_type": "code",
   "execution_count": 16,
   "metadata": {
    "execution": {
     "iopub.execute_input": "2021-05-31T22:09:04.586388Z",
     "iopub.status.busy": "2021-05-31T22:09:04.585910Z",
     "iopub.status.idle": "2021-05-31T22:09:04.612140Z",
     "shell.execute_reply": "2021-05-31T22:09:04.611474Z",
     "shell.execute_reply.started": "2021-05-31T22:09:04.586328Z"
    }
   },
   "outputs": [],
   "source": [
    "nrem_pow = pd.concat([ds2df(early_pow).assign(condition=\"early\"), ds2df(late_pow).assign(condition=\"late\")])"
   ]
  },
  {
   "cell_type": "code",
   "execution_count": 17,
   "metadata": {
    "execution": {
     "iopub.execute_input": "2021-05-31T22:09:12.282945Z",
     "iopub.status.busy": "2021-05-31T22:09:12.282467Z",
     "iopub.status.idle": "2021-05-31T22:09:12.858783Z",
     "shell.execute_reply": "2021-05-31T22:09:12.857974Z",
     "shell.execute_reply.started": "2021-05-31T22:09:12.282885Z"
    }
   },
   "outputs": [
    {
     "data": {
      "application/vnd.jupyter.widget-view+json": {
       "model_id": "58861022767549bba8a39bfc41625138",
       "version_major": 2,
       "version_minor": 0
      },
      "text/plain": [
       "Canvas(toolbar=Toolbar(toolitems=[('Home', 'Reset original view', 'home', 'home'), ('Back', 'Back to previous …"
      ]
     },
     "metadata": {},
     "output_type": "display_data"
    }
   ],
   "source": [
    "g = sns.displot(data=nrem_pow, x='power', hue='condition', col='region', kind='hist')\n",
    "g.set(xlabel='Delta (0.5 - 4Hz) PSD (uV^2/Hz)')\n",
    "g.tight_layout()"
   ]
  },
  {
   "cell_type": "code",
   "execution_count": 18,
   "metadata": {
    "execution": {
     "iopub.execute_input": "2021-05-31T22:09:21.088843Z",
     "iopub.status.busy": "2021-05-31T22:09:21.088299Z",
     "iopub.status.idle": "2021-05-31T22:09:21.652458Z",
     "shell.execute_reply": "2021-05-31T22:09:21.651693Z",
     "shell.execute_reply.started": "2021-05-31T22:09:21.088779Z"
    }
   },
   "outputs": [
    {
     "data": {
      "application/vnd.jupyter.widget-view+json": {
       "model_id": "85c6519ddfc54e0b8c006bf5fe6c0cc9",
       "version_major": 2,
       "version_minor": 0
      },
      "text/plain": [
       "Canvas(toolbar=Toolbar(toolitems=[('Home', 'Reset original view', 'home', 'home'), ('Back', 'Back to previous …"
      ]
     },
     "metadata": {},
     "output_type": "display_data"
    }
   ],
   "source": [
    "nrem_pow_log = nrem_pow.copy()\n",
    "nrem_pow_log['power'] = np.log(nrem_pow.power)\n",
    "\n",
    "g = sns.displot(data=nrem_pow_log, x='power', hue='condition', col='region', kind='hist')\n",
    "g.set(xlabel='Delta (0.5 - 4Hz) PSD (uV^2/Hz)')\n",
    "g.tight_layout()"
   ]
  },
  {
   "cell_type": "code",
   "execution_count": 19,
   "metadata": {
    "execution": {
     "iopub.execute_input": "2021-05-31T22:09:22.608898Z",
     "iopub.status.busy": "2021-05-31T22:09:22.608365Z",
     "iopub.status.idle": "2021-05-31T22:09:23.262499Z",
     "shell.execute_reply": "2021-05-31T22:09:23.261721Z",
     "shell.execute_reply.started": "2021-05-31T22:09:22.608834Z"
    }
   },
   "outputs": [
    {
     "data": {
      "application/vnd.jupyter.widget-view+json": {
       "model_id": "f6cfcb3625a44a658627fefbaaf65197",
       "version_major": 2,
       "version_minor": 0
      },
      "text/plain": [
       "Canvas(toolbar=Toolbar(toolitems=[('Home', 'Reset original view', 'home', 'home'), ('Back', 'Back to previous …"
      ]
     },
     "metadata": {},
     "output_type": "display_data"
    }
   ],
   "source": [
    "nrem_pow_sqrt = nrem_pow.copy()\n",
    "nrem_pow_sqrt['power'] = np.sqrt(nrem_pow.power)\n",
    "\n",
    "g = sns.displot(data=nrem_pow_sqrt, x='power', hue='condition', col='region', kind='hist')\n",
    "g.set(xlabel='Delta (0.5 - 4Hz) PSD (uV^2/Hz)')\n",
    "g.tight_layout()"
   ]
  },
  {
   "cell_type": "code",
   "execution_count": 20,
   "metadata": {
    "execution": {
     "iopub.execute_input": "2021-05-31T22:19:42.392697Z",
     "iopub.status.busy": "2021-05-31T22:19:42.392163Z",
     "iopub.status.idle": "2021-05-31T22:19:42.414539Z",
     "shell.execute_reply": "2021-05-31T22:19:42.413712Z",
     "shell.execute_reply.started": "2021-05-31T22:19:42.392634Z"
    }
   },
   "outputs": [],
   "source": [
    "def difference_of_means(df):\n",
    "    means = df.groupby(['condition', 'region']).mean()\n",
    "    return means.xs('early') - means.xs('late')"
   ]
  },
  {
   "cell_type": "code",
   "execution_count": 21,
   "metadata": {
    "execution": {
     "iopub.execute_input": "2021-05-31T22:19:49.436734Z",
     "iopub.status.busy": "2021-05-31T22:19:49.436172Z",
     "iopub.status.idle": "2021-05-31T22:20:14.900471Z",
     "shell.execute_reply": "2021-05-31T22:20:14.899708Z",
     "shell.execute_reply.started": "2021-05-31T22:19:49.436669Z"
    }
   },
   "outputs": [],
   "source": [
    "observed = difference_of_means(nrem_pow)\n",
    "\n",
    "n_permutations = 10000\n",
    "permutations = list()\n",
    "permuted = nrem_pow.copy()\n",
    "for i in range(n_permutations):\n",
    "    np.random.shuffle(permuted.condition.values)\n",
    "    permutations.append(difference_of_means(permuted))\n",
    "    \n",
    "df = pd.concat(permutations)"
   ]
  },
  {
   "cell_type": "code",
   "execution_count": 22,
   "metadata": {
    "execution": {
     "iopub.execute_input": "2021-05-31T22:20:35.615697Z",
     "iopub.status.busy": "2021-05-31T22:20:35.615551Z",
     "iopub.status.idle": "2021-05-31T22:20:35.958686Z",
     "shell.execute_reply": "2021-05-31T22:20:35.958048Z",
     "shell.execute_reply.started": "2021-05-31T22:20:35.615678Z"
    }
   },
   "outputs": [
    {
     "data": {
      "application/vnd.jupyter.widget-view+json": {
       "model_id": "56be2145a01047c198c2b90f1a4cfc93",
       "version_major": 2,
       "version_minor": 0
      },
      "text/plain": [
       "Canvas(toolbar=Toolbar(toolitems=[('Home', 'Reset original view', 'home', 'home'), ('Back', 'Back to previous …"
      ]
     },
     "metadata": {},
     "output_type": "display_data"
    }
   ],
   "source": [
    "g = sns.displot(data=df, x='power', col='region', kind='hist')\n",
    "g.set(xlabel='Difference of means (Early - Late)')\n",
    "g.tight_layout()"
   ]
  },
  {
   "cell_type": "code",
   "execution_count": 23,
   "metadata": {
    "execution": {
     "iopub.execute_input": "2021-05-31T22:20:35.959703Z",
     "iopub.status.busy": "2021-05-31T22:20:35.959565Z",
     "iopub.status.idle": "2021-05-31T22:20:35.976956Z",
     "shell.execute_reply": "2021-05-31T22:20:35.976383Z",
     "shell.execute_reply.started": "2021-05-31T22:20:35.959686Z"
    }
   },
   "outputs": [],
   "source": [
    "cx = df.xs('mpta_wm_ref').sort_values('power')\n",
    "hc = df.xs('sr_wm_ref').sort_values('power')"
   ]
  },
  {
   "cell_type": "code",
   "execution_count": 24,
   "metadata": {
    "execution": {
     "iopub.execute_input": "2021-05-31T22:20:35.977752Z",
     "iopub.status.busy": "2021-05-31T22:20:35.977626Z",
     "iopub.status.idle": "2021-05-31T22:20:35.990057Z",
     "shell.execute_reply": "2021-05-31T22:20:35.989341Z",
     "shell.execute_reply.started": "2021-05-31T22:20:35.977735Z"
    }
   },
   "outputs": [],
   "source": [
    "pcx = np.sum(cx.power.values >= observed.xs('mpta_wm_ref').values)"
   ]
  },
  {
   "cell_type": "code",
   "execution_count": 25,
   "metadata": {
    "execution": {
     "iopub.execute_input": "2021-05-31T22:20:35.990800Z",
     "iopub.status.busy": "2021-05-31T22:20:35.990676Z",
     "iopub.status.idle": "2021-05-31T22:20:36.001292Z",
     "shell.execute_reply": "2021-05-31T22:20:36.000705Z",
     "shell.execute_reply.started": "2021-05-31T22:20:35.990784Z"
    }
   },
   "outputs": [],
   "source": [
    "phc = np.sum(hc.power.values >= observed.xs('sr_wm_ref').values)"
   ]
  },
  {
   "cell_type": "code",
   "execution_count": 26,
   "metadata": {
    "execution": {
     "iopub.execute_input": "2021-05-31T22:20:36.001995Z",
     "iopub.status.busy": "2021-05-31T22:20:36.001869Z",
     "iopub.status.idle": "2021-05-31T22:20:36.018098Z",
     "shell.execute_reply": "2021-05-31T22:20:36.017490Z",
     "shell.execute_reply.started": "2021-05-31T22:20:36.001979Z"
    }
   },
   "outputs": [
    {
     "name": "stdout",
     "output_type": "stream",
     "text": [
      "Subject: Segundo\n",
      "Observed differences, Mean Early - Mean Late:\n",
      "\n",
      "| region      |    power |\n",
      "|:------------|---------:|\n",
      "| mpta_wm_ref | 184050   |\n",
      "| sr_wm_ref   |  82041.2 |\n",
      "\n",
      "\n",
      "Shuffled differences >= observed:\n",
      "Cortex: 1 / 10000\n",
      "Hippocampus: 1 / 10000\n"
     ]
    }
   ],
   "source": [
    "print(f\"Subject: {subject}\")\n",
    "print('Observed differences, Mean Early - Mean Late:\\n')\n",
    "print(observed.to_markdown())\n",
    "print('\\n')\n",
    "print('Shuffled differences >= observed:')\n",
    "print(f\"Cortex: {1 + pcx} / {n_permutations}\")\n",
    "print(f\"Hippocampus: {1 + phc} / {n_permutations}\")"
   ]
  },
  {
   "cell_type": "code",
   "execution_count": null,
   "metadata": {},
   "outputs": [],
   "source": []
  }
 ],
 "metadata": {
  "kernelspec": {
   "display_name": "Python 3",
   "language": "python",
   "name": "python3"
  },
  "language_info": {
   "codemirror_mode": {
    "name": "ipython",
    "version": 3
   },
   "file_extension": ".py",
   "mimetype": "text/x-python",
   "name": "python",
   "nbconvert_exporter": "python",
   "pygments_lexer": "ipython3",
   "version": "3.7.9"
  }
 },
 "nbformat": 4,
 "nbformat_minor": 4
}
