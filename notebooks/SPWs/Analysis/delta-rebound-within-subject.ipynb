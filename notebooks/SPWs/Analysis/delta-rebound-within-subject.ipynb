{
 "cells": [
  {
   "cell_type": "code",
   "execution_count": 22,
   "metadata": {
    "execution": {
     "iopub.execute_input": "2021-05-31T22:12:12.098938Z",
     "iopub.status.busy": "2021-05-31T22:12:12.098807Z",
     "iopub.status.idle": "2021-05-31T22:12:12.116178Z",
     "shell.execute_reply": "2021-05-31T22:12:12.115430Z",
     "shell.execute_reply.started": "2021-05-31T22:12:12.098918Z"
    }
   },
   "outputs": [
    {
     "name": "stdout",
     "output_type": "stream",
     "text": [
      "The autoreload extension is already loaded. To reload it, use:\n",
      "  %reload_ext autoreload\n"
     ]
    }
   ],
   "source": [
    "%load_ext autoreload\n",
    "%autoreload 2"
   ]
  },
  {
   "cell_type": "code",
   "execution_count": 23,
   "metadata": {
    "execution": {
     "iopub.execute_input": "2021-05-31T22:12:12.117439Z",
     "iopub.status.busy": "2021-05-31T22:12:12.117300Z",
     "iopub.status.idle": "2021-05-31T22:12:12.131821Z",
     "shell.execute_reply": "2021-05-31T22:12:12.131161Z",
     "shell.execute_reply.started": "2021-05-31T22:12:12.117422Z"
    }
   },
   "outputs": [],
   "source": [
    "%matplotlib widget\n",
    "import matplotlib.pyplot as plt\n",
    "import seaborn as sns"
   ]
  },
  {
   "cell_type": "code",
   "execution_count": 24,
   "metadata": {
    "execution": {
     "iopub.execute_input": "2021-05-31T22:12:12.132735Z",
     "iopub.status.busy": "2021-05-31T22:12:12.132609Z",
     "iopub.status.idle": "2021-05-31T22:12:12.145406Z",
     "shell.execute_reply": "2021-05-31T22:12:12.144837Z",
     "shell.execute_reply.started": "2021-05-31T22:12:12.132719Z"
    }
   },
   "outputs": [],
   "source": [
    "import xarray as xr\n",
    "import numpy as np\n",
    "import pandas as pd"
   ]
  },
  {
   "cell_type": "code",
   "execution_count": 25,
   "metadata": {
    "execution": {
     "iopub.execute_input": "2021-05-31T22:12:12.146200Z",
     "iopub.status.busy": "2021-05-31T22:12:12.146057Z",
     "iopub.status.idle": "2021-05-31T22:12:12.156835Z",
     "shell.execute_reply": "2021-05-31T22:12:12.156375Z",
     "shell.execute_reply.started": "2021-05-31T22:12:12.146185Z"
    }
   },
   "outputs": [
    {
     "data": {
      "text/plain": [
       "<xarray.core.options.set_options at 0x7fbbe0df07d0>"
      ]
     },
     "execution_count": 25,
     "metadata": {},
     "output_type": "execute_result"
    }
   ],
   "source": [
    "xr.set_options(keep_attrs=True)"
   ]
  },
  {
   "cell_type": "code",
   "execution_count": 26,
   "metadata": {
    "execution": {
     "iopub.execute_input": "2021-05-31T22:12:12.157576Z",
     "iopub.status.busy": "2021-05-31T22:12:12.157442Z",
     "iopub.status.idle": "2021-05-31T22:12:12.168781Z",
     "shell.execute_reply": "2021-05-31T22:12:12.168198Z",
     "shell.execute_reply.started": "2021-05-31T22:12:12.157559Z"
    }
   },
   "outputs": [],
   "source": [
    "import ecephys_analyses as ea \n",
    "from ecephys import utils\n",
    "from ecephys.signal.xarray_utils import filter_dataset_by_hypnogram"
   ]
  },
  {
   "cell_type": "code",
   "execution_count": 27,
   "metadata": {
    "execution": {
     "iopub.execute_input": "2021-05-31T22:12:12.169515Z",
     "iopub.status.busy": "2021-05-31T22:12:12.169381Z",
     "iopub.status.idle": "2021-05-31T22:12:12.180403Z",
     "shell.execute_reply": "2021-05-31T22:12:12.179802Z",
     "shell.execute_reply.started": "2021-05-31T22:12:12.169499Z"
    }
   },
   "outputs": [],
   "source": [
    "def ds2df(ds):\n",
    "    s = ds.to_dataframe().stack()\n",
    "    s.index.names = s.index.names[:-1] + ['region']\n",
    "    return s.to_frame(name='power')"
   ]
  },
  {
   "cell_type": "code",
   "execution_count": 28,
   "metadata": {
    "execution": {
     "iopub.execute_input": "2021-05-31T22:12:12.181088Z",
     "iopub.status.busy": "2021-05-31T22:12:12.180926Z",
     "iopub.status.idle": "2021-05-31T22:12:12.193258Z",
     "shell.execute_reply": "2021-05-31T22:12:12.192535Z",
     "shell.execute_reply.started": "2021-05-31T22:12:12.181070Z"
    }
   },
   "outputs": [],
   "source": [
    "subject = \"Doppio\"\n",
    "experiment = \"sleep-homeostasis\"\n",
    "bsl_condition = \"recovery-sleep-circadian-match\"\n",
    "rec_condition = \"recovery-sleep\"\n",
    "states = [\"N1\", \"N2\"]\n",
    "duration = '02:00:00'\n",
    "f_range = (0.5, 4)"
   ]
  },
  {
   "cell_type": "code",
   "execution_count": 29,
   "metadata": {
    "execution": {
     "iopub.execute_input": "2021-05-31T22:12:12.194019Z",
     "iopub.status.busy": "2021-05-31T22:12:12.193881Z",
     "iopub.status.idle": "2021-05-31T22:12:13.779302Z",
     "shell.execute_reply": "2021-05-31T22:12:13.778181Z",
     "shell.execute_reply.started": "2021-05-31T22:12:12.194002Z"
    }
   },
   "outputs": [],
   "source": [
    "rec_hyp = ea.load_hypnogram(subject, experiment, rec_condition)\n",
    "rec_hyp = rec_hyp.keep_states(states).keep_first(duration)\n",
    "\n",
    "rec_pow = ea.load_power(subject, experiment, rec_condition, \"spg.nc\").sel(frequency=slice(*f_range)).sum(dim='frequency')\n",
    "rec_pow = filter_dataset_by_state(rec_pow, rec_hyp, states).swap_dims({'time': 'datetime'}).drop_vars(['time', 'timedelta'])"
   ]
  },
  {
   "cell_type": "code",
   "execution_count": 30,
   "metadata": {
    "execution": {
     "iopub.execute_input": "2021-05-31T22:12:13.780239Z",
     "iopub.status.busy": "2021-05-31T22:12:13.780098Z",
     "iopub.status.idle": "2021-05-31T22:12:15.529307Z",
     "shell.execute_reply": "2021-05-31T22:12:15.528549Z",
     "shell.execute_reply.started": "2021-05-31T22:12:13.780221Z"
    }
   },
   "outputs": [],
   "source": [
    "bsl_hyp = ea.load_hypnogram(subject, experiment, bsl_condition)\n",
    "bsl_hyp = bsl_hyp.keep_states(states).keep_between(rec_hyp.start_time.min().strftime(\"%H:%M:%S\"), rec_hyp.start_time.max().strftime(\"%H:%M:%S\"))\n",
    "\n",
    "bsl_pow = ea.load_power(subject, experiment, bsl_condition, \"spg.nc\").sel(frequency=slice(*f_range)).sum(dim='frequency')\n",
    "bsl_pow = filter_dataset_by_hypnogram(bsl_pow, bsl_hyp).swap_dims({'time': 'datetime'}).drop_vars(['time', 'timedelta'])"
   ]
  },
  {
   "cell_type": "code",
   "execution_count": 31,
   "metadata": {
    "execution": {
     "iopub.execute_input": "2021-05-31T22:12:15.530277Z",
     "iopub.status.busy": "2021-05-31T22:12:15.530124Z",
     "iopub.status.idle": "2021-05-31T22:12:15.549391Z",
     "shell.execute_reply": "2021-05-31T22:12:15.548770Z",
     "shell.execute_reply.started": "2021-05-31T22:12:15.530259Z"
    }
   },
   "outputs": [],
   "source": [
    "nrem_pow = pd.concat([ds2df(bsl_pow).assign(condition=\"baseline\"), ds2df(rec_pow).assign(condition=\"recovery\")])"
   ]
  },
  {
   "cell_type": "code",
   "execution_count": 32,
   "metadata": {
    "execution": {
     "iopub.execute_input": "2021-05-31T22:12:15.550194Z",
     "iopub.status.busy": "2021-05-31T22:12:15.550055Z",
     "iopub.status.idle": "2021-05-31T22:12:15.571367Z",
     "shell.execute_reply": "2021-05-31T22:12:15.570785Z",
     "shell.execute_reply.started": "2021-05-31T22:12:15.550179Z"
    }
   },
   "outputs": [
    {
     "data": {
      "text/html": [
       "<div>\n",
       "<style scoped>\n",
       "    .dataframe tbody tr th:only-of-type {\n",
       "        vertical-align: middle;\n",
       "    }\n",
       "\n",
       "    .dataframe tbody tr th {\n",
       "        vertical-align: top;\n",
       "    }\n",
       "\n",
       "    .dataframe thead th {\n",
       "        text-align: right;\n",
       "    }\n",
       "</style>\n",
       "<table border=\"1\" class=\"dataframe\">\n",
       "  <thead>\n",
       "    <tr style=\"text-align: right;\">\n",
       "      <th></th>\n",
       "      <th></th>\n",
       "      <th>power</th>\n",
       "      <th>condition</th>\n",
       "    </tr>\n",
       "    <tr>\n",
       "      <th>datetime</th>\n",
       "      <th>region</th>\n",
       "      <th></th>\n",
       "      <th></th>\n",
       "    </tr>\n",
       "  </thead>\n",
       "  <tbody>\n",
       "    <tr>\n",
       "      <th rowspan=\"2\" valign=\"top\">2020-03-17 15:11:43.999780779</th>\n",
       "      <th>mpta_wm_ref</th>\n",
       "      <td>49592.705167</td>\n",
       "      <td>baseline</td>\n",
       "    </tr>\n",
       "    <tr>\n",
       "      <th>sr_wm_ref</th>\n",
       "      <td>141458.991643</td>\n",
       "      <td>baseline</td>\n",
       "    </tr>\n",
       "    <tr>\n",
       "      <th rowspan=\"2\" valign=\"top\">2020-03-17 15:11:46.999777763</th>\n",
       "      <th>mpta_wm_ref</th>\n",
       "      <td>14850.050950</td>\n",
       "      <td>baseline</td>\n",
       "    </tr>\n",
       "    <tr>\n",
       "      <th>sr_wm_ref</th>\n",
       "      <td>213550.733996</td>\n",
       "      <td>baseline</td>\n",
       "    </tr>\n",
       "    <tr>\n",
       "      <th>2020-03-17 15:11:49.999774746</th>\n",
       "      <th>mpta_wm_ref</th>\n",
       "      <td>17457.199927</td>\n",
       "      <td>baseline</td>\n",
       "    </tr>\n",
       "    <tr>\n",
       "      <th>...</th>\n",
       "      <th>...</th>\n",
       "      <td>...</td>\n",
       "      <td>...</td>\n",
       "    </tr>\n",
       "    <tr>\n",
       "      <th>2020-03-18 17:57:45.996966108</th>\n",
       "      <th>sr_wm_ref</th>\n",
       "      <td>337275.270549</td>\n",
       "      <td>recovery</td>\n",
       "    </tr>\n",
       "    <tr>\n",
       "      <th rowspan=\"2\" valign=\"top\">2020-03-18 17:57:48.996963091</th>\n",
       "      <th>mpta_wm_ref</th>\n",
       "      <td>649284.535997</td>\n",
       "      <td>recovery</td>\n",
       "    </tr>\n",
       "    <tr>\n",
       "      <th>sr_wm_ref</th>\n",
       "      <td>257836.165434</td>\n",
       "      <td>recovery</td>\n",
       "    </tr>\n",
       "    <tr>\n",
       "      <th rowspan=\"2\" valign=\"top\">2020-03-18 17:57:51.996960074</th>\n",
       "      <th>mpta_wm_ref</th>\n",
       "      <td>381874.311244</td>\n",
       "      <td>recovery</td>\n",
       "    </tr>\n",
       "    <tr>\n",
       "      <th>sr_wm_ref</th>\n",
       "      <td>851230.021690</td>\n",
       "      <td>recovery</td>\n",
       "    </tr>\n",
       "  </tbody>\n",
       "</table>\n",
       "<p>8432 rows × 2 columns</p>\n",
       "</div>"
      ],
      "text/plain": [
       "                                                   power condition\n",
       "datetime                      region                              \n",
       "2020-03-17 15:11:43.999780779 mpta_wm_ref   49592.705167  baseline\n",
       "                              sr_wm_ref    141458.991643  baseline\n",
       "2020-03-17 15:11:46.999777763 mpta_wm_ref   14850.050950  baseline\n",
       "                              sr_wm_ref    213550.733996  baseline\n",
       "2020-03-17 15:11:49.999774746 mpta_wm_ref   17457.199927  baseline\n",
       "...                                                  ...       ...\n",
       "2020-03-18 17:57:45.996966108 sr_wm_ref    337275.270549  recovery\n",
       "2020-03-18 17:57:48.996963091 mpta_wm_ref  649284.535997  recovery\n",
       "                              sr_wm_ref    257836.165434  recovery\n",
       "2020-03-18 17:57:51.996960074 mpta_wm_ref  381874.311244  recovery\n",
       "                              sr_wm_ref    851230.021690  recovery\n",
       "\n",
       "[8432 rows x 2 columns]"
      ]
     },
     "execution_count": 32,
     "metadata": {},
     "output_type": "execute_result"
    }
   ],
   "source": [
    "nrem_pow"
   ]
  },
  {
   "cell_type": "code",
   "execution_count": 33,
   "metadata": {
    "execution": {
     "iopub.execute_input": "2021-05-31T22:16:06.088937Z",
     "iopub.status.busy": "2021-05-31T22:16:06.088782Z",
     "iopub.status.idle": "2021-05-31T22:16:06.687408Z",
     "shell.execute_reply": "2021-05-31T22:16:06.686979Z",
     "shell.execute_reply.started": "2021-05-31T22:16:06.088916Z"
    }
   },
   "outputs": [
    {
     "data": {
      "application/vnd.jupyter.widget-view+json": {
       "model_id": "d4a1ee36fc83452eab6cf9dbfe0e3fbe",
       "version_major": 2,
       "version_minor": 0
      },
      "text/plain": [
       "Canvas(toolbar=Toolbar(toolitems=[('Home', 'Reset original view', 'home', 'home'), ('Back', 'Back to previous …"
      ]
     },
     "metadata": {},
     "output_type": "display_data"
    }
   ],
   "source": [
    "g = sns.displot(data=nrem_pow, x='power', hue='condition', col='region', kind='hist')\n",
    "g.set(xlabel='Delta (0.5 - 4Hz) PSD (uV^2/Hz)')\n",
    "g.tight_layout()"
   ]
  },
  {
   "cell_type": "code",
   "execution_count": 34,
   "metadata": {
    "execution": {
     "iopub.execute_input": "2021-05-31T22:16:06.688378Z",
     "iopub.status.busy": "2021-05-31T22:16:06.688243Z",
     "iopub.status.idle": "2021-05-31T22:16:07.223395Z",
     "shell.execute_reply": "2021-05-31T22:16:07.222831Z",
     "shell.execute_reply.started": "2021-05-31T22:16:06.688361Z"
    }
   },
   "outputs": [
    {
     "data": {
      "application/vnd.jupyter.widget-view+json": {
       "model_id": "1cc0148ae59945c38a608ad1c35c0578",
       "version_major": 2,
       "version_minor": 0
      },
      "text/plain": [
       "Canvas(toolbar=Toolbar(toolitems=[('Home', 'Reset original view', 'home', 'home'), ('Back', 'Back to previous …"
      ]
     },
     "metadata": {},
     "output_type": "display_data"
    }
   ],
   "source": [
    "nrem_pow_log = nrem_pow.copy()\n",
    "nrem_pow_log['power'] = np.log(nrem_pow.power)\n",
    "\n",
    "g = sns.displot(data=nrem_pow_log, x='power', hue='condition', col='region', kind='hist')\n",
    "g.set(xlabel='Delta (0.5 - 4Hz) PSD (uV^2/Hz)')\n",
    "g.tight_layout()"
   ]
  },
  {
   "cell_type": "code",
   "execution_count": 35,
   "metadata": {
    "execution": {
     "iopub.execute_input": "2021-05-31T22:16:07.224192Z",
     "iopub.status.busy": "2021-05-31T22:16:07.224058Z",
     "iopub.status.idle": "2021-05-31T22:16:07.737017Z",
     "shell.execute_reply": "2021-05-31T22:16:07.736321Z",
     "shell.execute_reply.started": "2021-05-31T22:16:07.224174Z"
    }
   },
   "outputs": [
    {
     "data": {
      "application/vnd.jupyter.widget-view+json": {
       "model_id": "57433388fcbe467ab3f035dddb2f736c",
       "version_major": 2,
       "version_minor": 0
      },
      "text/plain": [
       "Canvas(toolbar=Toolbar(toolitems=[('Home', 'Reset original view', 'home', 'home'), ('Back', 'Back to previous …"
      ]
     },
     "metadata": {},
     "output_type": "display_data"
    }
   ],
   "source": [
    "nrem_pow_sqrt = nrem_pow.copy()\n",
    "nrem_pow_sqrt['power'] = np.sqrt(nrem_pow.power)\n",
    "\n",
    "g = sns.displot(data=nrem_pow_sqrt, x='power', hue='condition', col='region', kind='hist')\n",
    "g.set(xlabel='Delta (0.5 - 4Hz) PSD (uV^2/Hz)')\n",
    "g.tight_layout()"
   ]
  },
  {
   "cell_type": "code",
   "execution_count": 36,
   "metadata": {
    "execution": {
     "iopub.execute_input": "2021-05-31T22:16:07.737982Z",
     "iopub.status.busy": "2021-05-31T22:16:07.737826Z",
     "iopub.status.idle": "2021-05-31T22:16:07.752327Z",
     "shell.execute_reply": "2021-05-31T22:16:07.751548Z",
     "shell.execute_reply.started": "2021-05-31T22:16:07.737962Z"
    }
   },
   "outputs": [],
   "source": [
    "def difference_of_means(df):\n",
    "    means = df.groupby(['condition', 'region']).mean()\n",
    "    return means.xs('recovery') - means.xs('baseline')"
   ]
  },
  {
   "cell_type": "code",
   "execution_count": 37,
   "metadata": {
    "execution": {
     "iopub.execute_input": "2021-05-31T22:16:07.753130Z",
     "iopub.status.busy": "2021-05-31T22:16:07.752966Z",
     "iopub.status.idle": "2021-05-31T22:16:32.621541Z",
     "shell.execute_reply": "2021-05-31T22:16:32.620782Z",
     "shell.execute_reply.started": "2021-05-31T22:16:07.753111Z"
    }
   },
   "outputs": [],
   "source": [
    "observed = difference_of_means(nrem_pow)\n",
    "\n",
    "n_permutations = 10000\n",
    "permutations = list()\n",
    "permuted = nrem_pow.copy()\n",
    "for i in range(n_permutations):\n",
    "    np.random.shuffle(permuted.condition.values)\n",
    "    permutations.append(difference_of_means(permuted))\n",
    "    \n",
    "df = pd.concat(permutations)"
   ]
  },
  {
   "cell_type": "code",
   "execution_count": 38,
   "metadata": {
    "execution": {
     "iopub.execute_input": "2021-05-31T22:16:32.622578Z",
     "iopub.status.busy": "2021-05-31T22:16:32.622435Z",
     "iopub.status.idle": "2021-05-31T22:16:32.948867Z",
     "shell.execute_reply": "2021-05-31T22:16:32.948362Z",
     "shell.execute_reply.started": "2021-05-31T22:16:32.622559Z"
    }
   },
   "outputs": [
    {
     "data": {
      "application/vnd.jupyter.widget-view+json": {
       "model_id": "2229014842d34df58ccc602fd0013f4a",
       "version_major": 2,
       "version_minor": 0
      },
      "text/plain": [
       "Canvas(toolbar=Toolbar(toolitems=[('Home', 'Reset original view', 'home', 'home'), ('Back', 'Back to previous …"
      ]
     },
     "metadata": {},
     "output_type": "display_data"
    }
   ],
   "source": [
    "g = sns.displot(data=df, x='power', col='region', kind='hist')\n",
    "g.set(xlabel='Difference of means (SD - BL)')\n",
    "g.tight_layout()"
   ]
  },
  {
   "cell_type": "code",
   "execution_count": 39,
   "metadata": {
    "execution": {
     "iopub.execute_input": "2021-05-31T22:16:32.949733Z",
     "iopub.status.busy": "2021-05-31T22:16:32.949588Z",
     "iopub.status.idle": "2021-05-31T22:16:32.967611Z",
     "shell.execute_reply": "2021-05-31T22:16:32.967057Z",
     "shell.execute_reply.started": "2021-05-31T22:16:32.949715Z"
    }
   },
   "outputs": [],
   "source": [
    "cx = df.xs('mpta_wm_ref').sort_values('power')\n",
    "hc = df.xs('sr_wm_ref').sort_values('power')"
   ]
  },
  {
   "cell_type": "code",
   "execution_count": 40,
   "metadata": {
    "execution": {
     "iopub.execute_input": "2021-05-31T22:16:32.968396Z",
     "iopub.status.busy": "2021-05-31T22:16:32.968266Z",
     "iopub.status.idle": "2021-05-31T22:16:32.981580Z",
     "shell.execute_reply": "2021-05-31T22:16:32.980997Z",
     "shell.execute_reply.started": "2021-05-31T22:16:32.968379Z"
    }
   },
   "outputs": [],
   "source": [
    "pcx = np.sum(cx.power.values >= observed.xs('mpta_wm_ref').values)"
   ]
  },
  {
   "cell_type": "code",
   "execution_count": 41,
   "metadata": {
    "execution": {
     "iopub.execute_input": "2021-05-31T22:16:32.982494Z",
     "iopub.status.busy": "2021-05-31T22:16:32.982230Z",
     "iopub.status.idle": "2021-05-31T22:16:32.994112Z",
     "shell.execute_reply": "2021-05-31T22:16:32.993495Z",
     "shell.execute_reply.started": "2021-05-31T22:16:32.982477Z"
    }
   },
   "outputs": [],
   "source": [
    "phc = np.sum(hc.power.values >= observed.xs('sr_wm_ref').values)"
   ]
  },
  {
   "cell_type": "code",
   "execution_count": 42,
   "metadata": {
    "execution": {
     "iopub.execute_input": "2021-05-31T22:16:32.994827Z",
     "iopub.status.busy": "2021-05-31T22:16:32.994703Z",
     "iopub.status.idle": "2021-05-31T22:16:33.009111Z",
     "shell.execute_reply": "2021-05-31T22:16:33.008719Z",
     "shell.execute_reply.started": "2021-05-31T22:16:32.994812Z"
    }
   },
   "outputs": [
    {
     "name": "stdout",
     "output_type": "stream",
     "text": [
      "Subject: Doppio\n",
      "Observed differences, Mean SD - Mean BSL:\n",
      "\n",
      "| region      |    power |\n",
      "|:------------|---------:|\n",
      "| mpta_wm_ref | 346453   |\n",
      "| sr_wm_ref   |  99331.2 |\n",
      "\n",
      "\n",
      "Shuffled differences >= observed:\n",
      "Cortex: 1 / 10000\n",
      "Hippocampus: 1 / 10000\n"
     ]
    }
   ],
   "source": [
    "print(f\"Subject: {subject}\")\n",
    "print('Observed differences, Mean SD - Mean BSL:\\n')\n",
    "print(observed.to_markdown())\n",
    "print('\\n')\n",
    "print('Shuffled differences >= observed:')\n",
    "print(f\"Cortex: {1 + pcx} / {n_permutations}\")\n",
    "print(f\"Hippocampus: {1 + phc} / {n_permutations}\")"
   ]
  },
  {
   "cell_type": "code",
   "execution_count": null,
   "metadata": {},
   "outputs": [],
   "source": []
  }
 ],
 "metadata": {
  "kernelspec": {
   "display_name": "Python 3",
   "language": "python",
   "name": "python3"
  },
  "language_info": {
   "codemirror_mode": {
    "name": "ipython",
    "version": 3
   },
   "file_extension": ".py",
   "mimetype": "text/x-python",
   "name": "python",
   "nbconvert_exporter": "python",
   "pygments_lexer": "ipython3",
   "version": "3.7.9"
  }
 },
 "nbformat": 4,
 "nbformat_minor": 4
}
