{
 "cells": [
  {
   "cell_type": "code",
   "execution_count": 1,
   "metadata": {
    "execution": {
     "iopub.execute_input": "2021-06-11T15:20:42.710896Z",
     "iopub.status.busy": "2021-06-11T15:20:42.710415Z",
     "iopub.status.idle": "2021-06-11T15:20:42.731942Z",
     "shell.execute_reply": "2021-06-11T15:20:42.731010Z",
     "shell.execute_reply.started": "2021-06-11T15:20:42.710844Z"
    }
   },
   "outputs": [],
   "source": [
    "%load_ext autoreload\n",
    "%autoreload 2"
   ]
  },
  {
   "cell_type": "code",
   "execution_count": 2,
   "metadata": {
    "execution": {
     "iopub.execute_input": "2021-06-11T15:20:42.733802Z",
     "iopub.status.busy": "2021-06-11T15:20:42.733513Z",
     "iopub.status.idle": "2021-06-11T15:20:43.431692Z",
     "shell.execute_reply": "2021-06-11T15:20:43.430381Z",
     "shell.execute_reply.started": "2021-06-11T15:20:42.733762Z"
    }
   },
   "outputs": [],
   "source": [
    "# %matplotlib widget\n",
    "import matplotlib.pyplot as plt\n",
    "import seaborn as sns"
   ]
  },
  {
   "cell_type": "code",
   "execution_count": 3,
   "metadata": {
    "execution": {
     "iopub.execute_input": "2021-06-11T15:20:43.434544Z",
     "iopub.status.busy": "2021-06-11T15:20:43.434208Z",
     "iopub.status.idle": "2021-06-11T15:20:44.026448Z",
     "shell.execute_reply": "2021-06-11T15:20:44.025225Z",
     "shell.execute_reply.started": "2021-06-11T15:20:43.434498Z"
    }
   },
   "outputs": [],
   "source": [
    "import xarray as xr\n",
    "import numpy as np\n",
    "import pandas as pd"
   ]
  },
  {
   "cell_type": "code",
   "execution_count": 4,
   "metadata": {
    "execution": {
     "iopub.execute_input": "2021-06-11T15:20:44.028836Z",
     "iopub.status.busy": "2021-06-11T15:20:44.028521Z",
     "iopub.status.idle": "2021-06-11T15:20:44.058343Z",
     "shell.execute_reply": "2021-06-11T15:20:44.057295Z",
     "shell.execute_reply.started": "2021-06-11T15:20:44.028793Z"
    }
   },
   "outputs": [
    {
     "data": {
      "text/plain": [
       "<xarray.core.options.set_options at 0x7f9dd6ace190>"
      ]
     },
     "execution_count": 4,
     "metadata": {},
     "output_type": "execute_result"
    }
   ],
   "source": [
    "xr.set_options(keep_attrs=True)"
   ]
  },
  {
   "cell_type": "code",
   "execution_count": 5,
   "metadata": {
    "execution": {
     "iopub.execute_input": "2021-06-11T15:20:44.060172Z",
     "iopub.status.busy": "2021-06-11T15:20:44.059857Z",
     "iopub.status.idle": "2021-06-11T15:20:44.091522Z",
     "shell.execute_reply": "2021-06-11T15:20:44.090407Z",
     "shell.execute_reply.started": "2021-06-11T15:20:44.060131Z"
    }
   },
   "outputs": [],
   "source": [
    "import ecephys_analyses as ea \n",
    "from ecephys.signal.xarray_utils import filter_dataset_by_hypnogram"
   ]
  },
  {
   "cell_type": "code",
   "execution_count": 6,
   "metadata": {
    "execution": {
     "iopub.execute_input": "2021-06-11T15:20:44.093298Z",
     "iopub.status.busy": "2021-06-11T15:20:44.092977Z",
     "iopub.status.idle": "2021-06-11T15:20:44.124510Z",
     "shell.execute_reply": "2021-06-11T15:20:44.123440Z",
     "shell.execute_reply.started": "2021-06-11T15:20:44.093255Z"
    }
   },
   "outputs": [],
   "source": [
    "def ds2df(ds):\n",
    "    s = ds.to_dataframe().stack()\n",
    "    s.index.names = s.index.names[:-1] + ['region']\n",
    "    return s.to_frame(name='power')"
   ]
  },
  {
   "cell_type": "code",
   "execution_count": 7,
   "metadata": {
    "execution": {
     "iopub.execute_input": "2021-06-11T15:20:44.126401Z",
     "iopub.status.busy": "2021-06-11T15:20:44.126098Z",
     "iopub.status.idle": "2021-06-11T15:20:44.158894Z",
     "shell.execute_reply": "2021-06-11T15:20:44.157640Z",
     "shell.execute_reply.started": "2021-06-11T15:20:44.126360Z"
    }
   },
   "outputs": [],
   "source": [
    "subject = \"Valentino\"\n",
    "experiment = \"sleep-homeostasis\"\n",
    "norm_condition = \"light-period-circadian-match\"\n",
    "rec_condition = \"recovery-sleep\"\n",
    "states = [\"N1\", \"N2\"]\n",
    "duration = '01:00:00'\n",
    "light_period_start = '09:00:00'\n",
    "light_period_end = '21:00:00'\n",
    "f_range = (0.5, 4)"
   ]
  },
  {
   "cell_type": "code",
   "execution_count": 8,
   "metadata": {
    "execution": {
     "iopub.execute_input": "2021-06-11T15:20:44.160695Z",
     "iopub.status.busy": "2021-06-11T15:20:44.160392Z",
     "iopub.status.idle": "2021-06-11T15:20:50.857487Z",
     "shell.execute_reply": "2021-06-11T15:20:50.856596Z",
     "shell.execute_reply.started": "2021-06-11T15:20:44.160654Z"
    }
   },
   "outputs": [],
   "source": [
    "norm_hyp = ea.load_hypnogram(subject, experiment, norm_condition)\n",
    "norm_hyp = norm_hyp.keep_states(states).keep_between(light_period_start, light_period_end)\n",
    "\n",
    "norm_pow = ea.load_power(subject, experiment, norm_condition, \"spg.nc\").sel(frequency=slice(*f_range)).sum(dim=\"frequency\")\n",
    "norm_pow = filter_dataset_by_hypnogram(norm_pow, norm_hyp).swap_dims({'time': 'datetime'}).drop_vars(['time', 'timedelta'])"
   ]
  },
  {
   "cell_type": "code",
   "execution_count": 9,
   "metadata": {
    "execution": {
     "iopub.execute_input": "2021-06-11T15:20:50.859877Z",
     "iopub.status.busy": "2021-06-11T15:20:50.859677Z",
     "iopub.status.idle": "2021-06-11T15:20:53.716147Z",
     "shell.execute_reply": "2021-06-11T15:20:53.715139Z",
     "shell.execute_reply.started": "2021-06-11T15:20:50.859854Z"
    }
   },
   "outputs": [],
   "source": [
    "rec_hyp = ea.load_hypnogram(subject, experiment, rec_condition)\n",
    "rec_pow = ea.load_power(subject, experiment, rec_condition, \"spg.nc\").sel(frequency=slice(*f_range)).sum(dim='frequency')\n",
    "rec_pow = rec_pow / norm_pow.mean(dim=\"datetime\") * 100"
   ]
  },
  {
   "cell_type": "code",
   "execution_count": 10,
   "metadata": {
    "execution": {
     "iopub.execute_input": "2021-06-11T15:20:53.718583Z",
     "iopub.status.busy": "2021-06-11T15:20:53.718285Z",
     "iopub.status.idle": "2021-06-11T15:20:53.959384Z",
     "shell.execute_reply": "2021-06-11T15:20:53.958346Z",
     "shell.execute_reply.started": "2021-06-11T15:20:53.718541Z"
    }
   },
   "outputs": [],
   "source": [
    "early_hyp = rec_hyp.keep_states(states).keep_first(duration)\n",
    "early_pow = filter_dataset_by_hypnogram(rec_pow, early_hyp).swap_dims({'time': 'datetime'}).drop_vars(['time', 'timedelta'])"
   ]
  },
  {
   "cell_type": "code",
   "execution_count": 11,
   "metadata": {
    "execution": {
     "iopub.execute_input": "2021-06-11T15:20:53.961056Z",
     "iopub.status.busy": "2021-06-11T15:20:53.960762Z",
     "iopub.status.idle": "2021-06-11T15:20:54.123436Z",
     "shell.execute_reply": "2021-06-11T15:20:54.122422Z",
     "shell.execute_reply.started": "2021-06-11T15:20:53.961015Z"
    }
   },
   "outputs": [],
   "source": [
    "late_hyp = rec_hyp.keep_states(states).keep_last(duration)\n",
    "late_pow = filter_dataset_by_hypnogram(rec_pow, late_hyp).swap_dims({'time': 'datetime'}).drop_vars(['time', 'timedelta'])"
   ]
  },
  {
   "cell_type": "code",
   "execution_count": 12,
   "metadata": {
    "execution": {
     "iopub.execute_input": "2021-06-11T15:20:54.125130Z",
     "iopub.status.busy": "2021-06-11T15:20:54.124828Z",
     "iopub.status.idle": "2021-06-11T15:20:54.162834Z",
     "shell.execute_reply": "2021-06-11T15:20:54.161744Z",
     "shell.execute_reply.started": "2021-06-11T15:20:54.125077Z"
    }
   },
   "outputs": [],
   "source": [
    "nrem_pow = pd.concat([ds2df(early_pow).assign(condition=\"early\"), ds2df(late_pow).assign(condition=\"late\")])"
   ]
  },
  {
   "cell_type": "code",
   "execution_count": 13,
   "metadata": {
    "execution": {
     "iopub.execute_input": "2021-06-11T15:20:54.164604Z",
     "iopub.status.busy": "2021-06-11T15:20:54.164306Z",
     "iopub.status.idle": "2021-06-11T15:20:54.190361Z",
     "shell.execute_reply": "2021-06-11T15:20:54.189381Z",
     "shell.execute_reply.started": "2021-06-11T15:20:54.164564Z"
    }
   },
   "outputs": [],
   "source": [
    "def difference_of_means(df):\n",
    "    means = df.groupby(['condition', 'region']).mean()\n",
    "    return means.xs('early') - means.xs('late')"
   ]
  },
  {
   "cell_type": "code",
   "execution_count": 14,
   "metadata": {
    "execution": {
     "iopub.execute_input": "2021-06-11T15:20:54.191965Z",
     "iopub.status.busy": "2021-06-11T15:20:54.191665Z",
     "iopub.status.idle": "2021-06-11T15:20:54.216350Z",
     "shell.execute_reply": "2021-06-11T15:20:54.215436Z",
     "shell.execute_reply.started": "2021-06-11T15:20:54.191925Z"
    }
   },
   "outputs": [],
   "source": [
    "def cx_minus_hc(df):\n",
    "    dom = difference_of_means(df)\n",
    "    return dom.xs('mpta_wm_ref') - dom.xs('sr_wm_ref')"
   ]
  },
  {
   "cell_type": "code",
   "execution_count": 15,
   "metadata": {
    "execution": {
     "iopub.execute_input": "2021-06-11T15:20:54.217968Z",
     "iopub.status.busy": "2021-06-11T15:20:54.217672Z",
     "iopub.status.idle": "2021-06-11T15:20:54.245659Z",
     "shell.execute_reply": "2021-06-11T15:20:54.244670Z",
     "shell.execute_reply.started": "2021-06-11T15:20:54.217927Z"
    }
   },
   "outputs": [],
   "source": [
    "def shuffle_region_labels(df): \n",
    "    permuted = df.reset_index()\n",
    "    region_labels = permuted.region.values.reshape(-1, 2)\n",
    "    rng = np.random.default_rng()\n",
    "    rng.permuted(region_labels, axis=1, out=region_labels)\n",
    "    permuted.set_index(['datetime', 'region'], inplace=True)\n",
    "    return permuted"
   ]
  },
  {
   "cell_type": "code",
   "execution_count": 16,
   "metadata": {
    "execution": {
     "iopub.execute_input": "2021-06-11T15:20:54.247253Z",
     "iopub.status.busy": "2021-06-11T15:20:54.246958Z",
     "iopub.status.idle": "2021-06-11T15:22:19.415723Z",
     "shell.execute_reply": "2021-06-11T15:22:19.414411Z",
     "shell.execute_reply.started": "2021-06-11T15:20:54.247213Z"
    }
   },
   "outputs": [],
   "source": [
    "observed = cx_minus_hc(nrem_pow).power\n",
    "\n",
    "n_permutations = 10000\n",
    "permutations = list()\n",
    "for i in range(n_permutations):\n",
    "    permuted = shuffle_region_labels(nrem_pow)\n",
    "    permutations.append(cx_minus_hc(permuted))\n",
    "    \n",
    "df = pd.concat(permutations).to_frame(name='cx_minus_hc').reset_index(drop=True)"
   ]
  },
  {
   "cell_type": "code",
   "execution_count": 17,
   "metadata": {
    "execution": {
     "iopub.execute_input": "2021-06-11T15:22:19.417386Z",
     "iopub.status.busy": "2021-06-11T15:22:19.417180Z",
     "iopub.status.idle": "2021-06-11T15:22:20.053012Z",
     "shell.execute_reply": "2021-06-11T15:22:20.051644Z",
     "shell.execute_reply.started": "2021-06-11T15:22:19.417362Z"
    }
   },
   "outputs": [
    {
     "data": {
      "image/png": "[encoded data removed]",
      "text/plain": [
       "<Figure size 459.75x360 with 1 Axes>"
      ]
     },
     "metadata": {
      "needs_background": "light"
     },
     "output_type": "display_data"
    }
   ],
   "source": [
    "g = sns.displot(data=df, kind='hist')\n",
    "g.set(xlabel='Difference of decline (Cortex - Hippocampus)')\n",
    "g.tight_layout()"
   ]
  },
  {
   "cell_type": "code",
   "execution_count": 18,
   "metadata": {
    "execution": {
     "iopub.execute_input": "2021-06-11T15:22:20.055588Z",
     "iopub.status.busy": "2021-06-11T15:22:20.055138Z",
     "iopub.status.idle": "2021-06-11T15:22:20.081260Z",
     "shell.execute_reply": "2021-06-11T15:22:20.080164Z",
     "shell.execute_reply.started": "2021-06-11T15:22:20.055529Z"
    }
   },
   "outputs": [],
   "source": [
    "p = np.sum(df.cx_minus_hc.values >= observed)"
   ]
  },
  {
   "cell_type": "code",
   "execution_count": 19,
   "metadata": {
    "execution": {
     "iopub.execute_input": "2021-06-11T15:22:20.082819Z",
     "iopub.status.busy": "2021-06-11T15:22:20.082555Z",
     "iopub.status.idle": "2021-06-11T15:22:20.106929Z",
     "shell.execute_reply": "2021-06-11T15:22:20.105956Z",
     "shell.execute_reply.started": "2021-06-11T15:22:20.082782Z"
    }
   },
   "outputs": [
    {
     "name": "stdout",
     "output_type": "stream",
     "text": [
      "Subject: Valentino\n",
      "Observed difference, Cortex - Hippocampus:\n",
      "57.25108966484582\n",
      "\n",
      "Shuffled differences >= observed:\n",
      "Cortex: 1 / 10000\n"
     ]
    }
   ],
   "source": [
    "print(f\"Subject: {subject}\")\n",
    "print('Observed difference, Cortex - Hippocampus:')\n",
    "print(f'{observed}')\n",
    "print('')\n",
    "print('Shuffled differences >= observed:')\n",
    "print(f\"Cortex: {1 + p} / {n_permutations}\")"
   ]
  },
  {
   "cell_type": "code",
   "execution_count": null,
   "metadata": {},
   "outputs": [],
   "source": []
  }
 ],
 "metadata": {
  "kernelspec": {
   "display_name": "Python 3",
   "language": "python",
   "name": "python3"
  },
  "language_info": {
   "codemirror_mode": {
    "name": "ipython",
    "version": 3
   },
   "file_extension": ".py",
   "mimetype": "text/x-python",
   "name": "python",
   "nbconvert_exporter": "python",
   "pygments_lexer": "ipython3",
   "version": "3.7.9"
  }
 },
 "nbformat": 4,
 "nbformat_minor": 4
}
