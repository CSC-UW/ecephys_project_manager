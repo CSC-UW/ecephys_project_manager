{
 "cells": [
  {
   "cell_type": "code",
   "execution_count": 1,
   "metadata": {
    "execution": {
     "iopub.execute_input": "2021-06-11T15:14:59.936786Z",
     "iopub.status.busy": "2021-06-11T15:14:59.936522Z",
     "iopub.status.idle": "2021-06-11T15:14:59.951712Z",
     "shell.execute_reply": "2021-06-11T15:14:59.951174Z",
     "shell.execute_reply.started": "2021-06-11T15:14:59.936759Z"
    }
   },
   "outputs": [],
   "source": [
    "%load_ext autoreload\n",
    "%autoreload 2"
   ]
  },
  {
   "cell_type": "code",
   "execution_count": 2,
   "metadata": {
    "execution": {
     "iopub.execute_input": "2021-06-11T15:15:00.132642Z",
     "iopub.status.busy": "2021-06-11T15:15:00.132207Z",
     "iopub.status.idle": "2021-06-11T15:15:00.597980Z",
     "shell.execute_reply": "2021-06-11T15:15:00.597069Z",
     "shell.execute_reply.started": "2021-06-11T15:15:00.132579Z"
    }
   },
   "outputs": [],
   "source": [
    "# %matplotlib widget\n",
    "import matplotlib.pyplot as plt\n",
    "import seaborn as sns"
   ]
  },
  {
   "cell_type": "code",
   "execution_count": 3,
   "metadata": {
    "execution": {
     "iopub.execute_input": "2021-06-11T15:15:00.615101Z",
     "iopub.status.busy": "2021-06-11T15:15:00.614908Z",
     "iopub.status.idle": "2021-06-11T15:15:00.928327Z",
     "shell.execute_reply": "2021-06-11T15:15:00.927612Z",
     "shell.execute_reply.started": "2021-06-11T15:15:00.615079Z"
    }
   },
   "outputs": [],
   "source": [
    "import xarray as xr\n",
    "import numpy as np\n",
    "import pandas as pd"
   ]
  },
  {
   "cell_type": "code",
   "execution_count": 4,
   "metadata": {
    "execution": {
     "iopub.execute_input": "2021-06-11T15:15:00.929534Z",
     "iopub.status.busy": "2021-06-11T15:15:00.929348Z",
     "iopub.status.idle": "2021-06-11T15:15:00.945375Z",
     "shell.execute_reply": "2021-06-11T15:15:00.944719Z",
     "shell.execute_reply.started": "2021-06-11T15:15:00.929511Z"
    }
   },
   "outputs": [
    {
     "data": {
      "text/plain": [
       "<xarray.core.options.set_options at 0x7ff40997ac10>"
      ]
     },
     "execution_count": 4,
     "metadata": {},
     "output_type": "execute_result"
    }
   ],
   "source": [
    "xr.set_options(keep_attrs=True)"
   ]
  },
  {
   "cell_type": "code",
   "execution_count": 5,
   "metadata": {
    "execution": {
     "iopub.execute_input": "2021-06-11T15:15:00.946393Z",
     "iopub.status.busy": "2021-06-11T15:15:00.946211Z",
     "iopub.status.idle": "2021-06-11T15:15:00.964128Z",
     "shell.execute_reply": "2021-06-11T15:15:00.963515Z",
     "shell.execute_reply.started": "2021-06-11T15:15:00.946370Z"
    }
   },
   "outputs": [],
   "source": [
    "import ecephys_analyses as ea \n",
    "from ecephys.signal.xarray_utils import filter_dataset_by_hypnogram"
   ]
  },
  {
   "cell_type": "code",
   "execution_count": 6,
   "metadata": {
    "execution": {
     "iopub.execute_input": "2021-06-11T15:15:00.982136Z",
     "iopub.status.busy": "2021-06-11T15:15:00.981970Z",
     "iopub.status.idle": "2021-06-11T15:15:00.997404Z",
     "shell.execute_reply": "2021-06-11T15:15:00.996639Z",
     "shell.execute_reply.started": "2021-06-11T15:15:00.982115Z"
    }
   },
   "outputs": [],
   "source": [
    "def ds2df(ds):\n",
    "    s = ds.to_dataframe().stack()\n",
    "    s.index.names = s.index.names[:-1] + ['region']\n",
    "    return s.to_frame(name='power')"
   ]
  },
  {
   "cell_type": "code",
   "execution_count": 7,
   "metadata": {
    "execution": {
     "iopub.execute_input": "2021-06-11T15:15:00.998366Z",
     "iopub.status.busy": "2021-06-11T15:15:00.998201Z",
     "iopub.status.idle": "2021-06-11T15:15:01.013908Z",
     "shell.execute_reply": "2021-06-11T15:15:01.013292Z",
     "shell.execute_reply.started": "2021-06-11T15:15:00.998345Z"
    }
   },
   "outputs": [],
   "source": [
    "subject = \"Segundo\"\n",
    "experiment = \"sleep-homeostasis\"\n",
    "norm_condition = \"light-period-circadian-match\"\n",
    "rec_condition = \"recovery-sleep\"\n",
    "states = [\"N1\", \"N2\"]\n",
    "duration = '01:00:00'\n",
    "light_period_start = '09:00:00'\n",
    "light_period_end = '21:00:00'\n",
    "f_range = (0.5, 4)"
   ]
  },
  {
   "cell_type": "code",
   "execution_count": 8,
   "metadata": {
    "execution": {
     "iopub.execute_input": "2021-06-11T15:15:01.092249Z",
     "iopub.status.busy": "2021-06-11T15:15:01.092081Z",
     "iopub.status.idle": "2021-06-11T15:15:07.678034Z",
     "shell.execute_reply": "2021-06-11T15:15:07.677376Z",
     "shell.execute_reply.started": "2021-06-11T15:15:01.092227Z"
    }
   },
   "outputs": [],
   "source": [
    "norm_hyp = ea.load_hypnogram(subject, experiment, norm_condition)\n",
    "norm_hyp = norm_hyp.keep_states(states).keep_between(light_period_start, light_period_end)\n",
    "\n",
    "norm_pow = ea.load_power(subject, experiment, norm_condition, \"spg.nc\").sel(frequency=slice(*f_range)).sum(dim=\"frequency\")\n",
    "norm_pow = filter_dataset_by_hypnogram(norm_pow, norm_hyp).swap_dims({'time': 'datetime'}).drop_vars(['time', 'timedelta'])"
   ]
  },
  {
   "cell_type": "code",
   "execution_count": 9,
   "metadata": {
    "execution": {
     "iopub.execute_input": "2021-06-11T15:15:07.698960Z",
     "iopub.status.busy": "2021-06-11T15:15:07.698809Z",
     "iopub.status.idle": "2021-06-11T15:15:11.192526Z",
     "shell.execute_reply": "2021-06-11T15:15:11.191299Z",
     "shell.execute_reply.started": "2021-06-11T15:15:07.698941Z"
    }
   },
   "outputs": [],
   "source": [
    "rec_hyp = ea.load_hypnogram(subject, experiment, rec_condition)\n",
    "rec_pow = ea.load_power(subject, experiment, rec_condition, \"spg.nc\").sel(frequency=slice(*f_range)).sum(dim='frequency')\n",
    "rec_pow = rec_pow / norm_pow.mean(dim=\"datetime\") * 100"
   ]
  },
  {
   "cell_type": "code",
   "execution_count": 10,
   "metadata": {
    "execution": {
     "iopub.execute_input": "2021-06-11T15:15:11.194470Z",
     "iopub.status.busy": "2021-06-11T15:15:11.194200Z",
     "iopub.status.idle": "2021-06-11T15:15:11.311869Z",
     "shell.execute_reply": "2021-06-11T15:15:11.311133Z",
     "shell.execute_reply.started": "2021-06-11T15:15:11.194433Z"
    }
   },
   "outputs": [],
   "source": [
    "early_hyp = rec_hyp.keep_states(states).keep_first(duration)\n",
    "early_pow = filter_dataset_by_hypnogram(rec_pow, early_hyp).swap_dims({'time': 'datetime'}).drop_vars(['time', 'timedelta'])"
   ]
  },
  {
   "cell_type": "code",
   "execution_count": 11,
   "metadata": {
    "execution": {
     "iopub.execute_input": "2021-06-11T15:15:11.312919Z",
     "iopub.status.busy": "2021-06-11T15:15:11.312750Z",
     "iopub.status.idle": "2021-06-11T15:15:11.414459Z",
     "shell.execute_reply": "2021-06-11T15:15:11.413720Z",
     "shell.execute_reply.started": "2021-06-11T15:15:11.312899Z"
    }
   },
   "outputs": [],
   "source": [
    "late_hyp = rec_hyp.keep_states(states).keep_last(duration)\n",
    "late_pow = filter_dataset_by_hypnogram(rec_pow, late_hyp).swap_dims({'time': 'datetime'}).drop_vars(['time', 'timedelta'])"
   ]
  },
  {
   "cell_type": "code",
   "execution_count": 12,
   "metadata": {
    "execution": {
     "iopub.execute_input": "2021-06-11T15:15:11.415343Z",
     "iopub.status.busy": "2021-06-11T15:15:11.415191Z",
     "iopub.status.idle": "2021-06-11T15:15:11.436236Z",
     "shell.execute_reply": "2021-06-11T15:15:11.435593Z",
     "shell.execute_reply.started": "2021-06-11T15:15:11.415324Z"
    }
   },
   "outputs": [],
   "source": [
    "nrem_pow = pd.concat([ds2df(early_pow).assign(condition=\"early\"), ds2df(late_pow).assign(condition=\"late\")])"
   ]
  },
  {
   "cell_type": "code",
   "execution_count": 16,
   "metadata": {
    "execution": {
     "iopub.execute_input": "2021-06-11T15:15:14.277964Z",
     "iopub.status.busy": "2021-06-11T15:15:14.277813Z",
     "iopub.status.idle": "2021-06-11T15:15:14.292365Z",
     "shell.execute_reply": "2021-06-11T15:15:14.291882Z",
     "shell.execute_reply.started": "2021-06-11T15:15:14.277945Z"
    }
   },
   "outputs": [],
   "source": [
    "def difference_of_means(df):\n",
    "    means = df.groupby(['condition', 'region']).mean()\n",
    "    return means.xs('early') - means.xs('late')"
   ]
  },
  {
   "cell_type": "code",
   "execution_count": 17,
   "metadata": {
    "execution": {
     "iopub.execute_input": "2021-06-11T15:15:14.293217Z",
     "iopub.status.busy": "2021-06-11T15:15:14.293066Z",
     "iopub.status.idle": "2021-06-11T15:15:14.304214Z",
     "shell.execute_reply": "2021-06-11T15:15:14.303744Z",
     "shell.execute_reply.started": "2021-06-11T15:15:14.293199Z"
    }
   },
   "outputs": [],
   "source": [
    "def cx_minus_hc(df):\n",
    "    dom = difference_of_means(df)\n",
    "    return dom.xs('mpta_wm_ref') - dom.xs('sr_wm_ref')"
   ]
  },
  {
   "cell_type": "code",
   "execution_count": 18,
   "metadata": {
    "execution": {
     "iopub.execute_input": "2021-06-11T15:15:14.332156Z",
     "iopub.status.busy": "2021-06-11T15:15:14.331992Z",
     "iopub.status.idle": "2021-06-11T15:15:14.347304Z",
     "shell.execute_reply": "2021-06-11T15:15:14.346836Z",
     "shell.execute_reply.started": "2021-06-11T15:15:14.332138Z"
    }
   },
   "outputs": [],
   "source": [
    "def shuffle_region_labels(df): \n",
    "    permuted = df.reset_index()\n",
    "    region_labels = permuted.region.values.reshape(-1, 2)\n",
    "    rng = np.random.default_rng()\n",
    "    rng.permuted(region_labels, axis=1, out=region_labels)\n",
    "    permuted.set_index(['datetime', 'region'], inplace=True)\n",
    "    return permuted"
   ]
  },
  {
   "cell_type": "code",
   "execution_count": 19,
   "metadata": {
    "execution": {
     "iopub.execute_input": "2021-06-11T15:15:17.948563Z",
     "iopub.status.busy": "2021-06-11T15:15:17.948188Z",
     "iopub.status.idle": "2021-06-11T15:16:23.364350Z",
     "shell.execute_reply": "2021-06-11T15:16:23.363349Z",
     "shell.execute_reply.started": "2021-06-11T15:15:17.948503Z"
    }
   },
   "outputs": [],
   "source": [
    "observed = cx_minus_hc(nrem_pow).power\n",
    "\n",
    "n_permutations = 10000\n",
    "permutations = list()\n",
    "for i in range(n_permutations):\n",
    "    permuted = shuffle_region_labels(nrem_pow)\n",
    "    permutations.append(cx_minus_hc(permuted))\n",
    "    \n",
    "df = pd.concat(permutations).to_frame(name='cx_minus_hc').reset_index(drop=True)"
   ]
  },
  {
   "cell_type": "code",
   "execution_count": 22,
   "metadata": {
    "execution": {
     "iopub.execute_input": "2021-06-11T15:17:12.397088Z",
     "iopub.status.busy": "2021-06-11T15:17:12.396901Z",
     "iopub.status.idle": "2021-06-11T15:17:12.876561Z",
     "shell.execute_reply": "2021-06-11T15:17:12.875913Z",
     "shell.execute_reply.started": "2021-06-11T15:17:12.397064Z"
    }
   },
   "outputs": [
    {
     "data": {
      "image/png": "[encoded data removed]",
      "text/plain": [
       "<Figure size 459.75x360 with 1 Axes>"
      ]
     },
     "metadata": {
      "needs_background": "light"
     },
     "output_type": "display_data"
    }
   ],
   "source": [
    "g = sns.displot(data=df, kind='hist')\n",
    "g.set(xlabel='Difference of decline (Cortex - Hippocampus)')\n",
    "g.tight_layout()"
   ]
  },
  {
   "cell_type": "code",
   "execution_count": 23,
   "metadata": {
    "execution": {
     "iopub.execute_input": "2021-06-11T15:17:22.783697Z",
     "iopub.status.busy": "2021-06-11T15:17:22.783515Z",
     "iopub.status.idle": "2021-06-11T15:17:22.799229Z",
     "shell.execute_reply": "2021-06-11T15:17:22.798527Z",
     "shell.execute_reply.started": "2021-06-11T15:17:22.783675Z"
    }
   },
   "outputs": [],
   "source": [
    "p = np.sum(df.cx_minus_hc.values >= observed)"
   ]
  },
  {
   "cell_type": "code",
   "execution_count": 24,
   "metadata": {
    "execution": {
     "iopub.execute_input": "2021-06-11T15:17:22.800566Z",
     "iopub.status.busy": "2021-06-11T15:17:22.800380Z",
     "iopub.status.idle": "2021-06-11T15:17:22.819348Z",
     "shell.execute_reply": "2021-06-11T15:17:22.818571Z",
     "shell.execute_reply.started": "2021-06-11T15:17:22.800542Z"
    }
   },
   "outputs": [
    {
     "name": "stdout",
     "output_type": "stream",
     "text": [
      "Subject: Segundo\n",
      "Observed difference, Cortex - Hippocampus:\n",
      "92.18499650993124\n",
      "\n",
      "Shuffled differences >= observed:\n",
      "Cortex: 1 / 10000\n"
     ]
    }
   ],
   "source": [
    "print(f\"Subject: {subject}\")\n",
    "print('Observed difference, Cortex - Hippocampus:')\n",
    "print(f'{observed}')\n",
    "print('')\n",
    "print('Shuffled differences >= observed:')\n",
    "print(f\"Cortex: {1 + p} / {n_permutations}\")"
   ]
  },
  {
   "cell_type": "code",
   "execution_count": null,
   "metadata": {},
   "outputs": [],
   "source": []
  }
 ],
 "metadata": {
  "kernelspec": {
   "display_name": "Python 3",
   "language": "python",
   "name": "python3"
  },
  "language_info": {
   "codemirror_mode": {
    "name": "ipython",
    "version": 3
   },
   "file_extension": ".py",
   "mimetype": "text/x-python",
   "name": "python",
   "nbconvert_exporter": "python",
   "pygments_lexer": "ipython3",
   "version": "3.7.9"
  }
 },
 "nbformat": 4,
 "nbformat_minor": 4
}
