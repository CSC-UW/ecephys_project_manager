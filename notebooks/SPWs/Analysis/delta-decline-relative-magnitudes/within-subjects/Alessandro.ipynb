{
 "cells": [
  {
   "cell_type": "code",
   "execution_count": 1,
   "metadata": {
    "execution": {
     "iopub.execute_input": "2021-06-11T15:21:05.450408Z",
     "iopub.status.busy": "2021-06-11T15:21:05.449996Z",
     "iopub.status.idle": "2021-06-11T15:21:05.471500Z",
     "shell.execute_reply": "2021-06-11T15:21:05.470536Z",
     "shell.execute_reply.started": "2021-06-11T15:21:05.450359Z"
    }
   },
   "outputs": [],
   "source": [
    "%load_ext autoreload\n",
    "%autoreload 2"
   ]
  },
  {
   "cell_type": "code",
   "execution_count": 2,
   "metadata": {
    "execution": {
     "iopub.execute_input": "2021-06-11T15:21:05.473281Z",
     "iopub.status.busy": "2021-06-11T15:21:05.472971Z",
     "iopub.status.idle": "2021-06-11T15:21:06.437059Z",
     "shell.execute_reply": "2021-06-11T15:21:06.436022Z",
     "shell.execute_reply.started": "2021-06-11T15:21:05.473240Z"
    }
   },
   "outputs": [],
   "source": [
    "# %matplotlib widget\n",
    "import matplotlib.pyplot as plt\n",
    "import seaborn as sns"
   ]
  },
  {
   "cell_type": "code",
   "execution_count": 3,
   "metadata": {
    "execution": {
     "iopub.execute_input": "2021-06-11T15:21:06.439393Z",
     "iopub.status.busy": "2021-06-11T15:21:06.439085Z",
     "iopub.status.idle": "2021-06-11T15:21:07.030825Z",
     "shell.execute_reply": "2021-06-11T15:21:07.029828Z",
     "shell.execute_reply.started": "2021-06-11T15:21:06.439350Z"
    }
   },
   "outputs": [],
   "source": [
    "import xarray as xr\n",
    "import numpy as np\n",
    "import pandas as pd"
   ]
  },
  {
   "cell_type": "code",
   "execution_count": 4,
   "metadata": {
    "execution": {
     "iopub.execute_input": "2021-06-11T15:21:07.032965Z",
     "iopub.status.busy": "2021-06-11T15:21:07.032656Z",
     "iopub.status.idle": "2021-06-11T15:21:07.058374Z",
     "shell.execute_reply": "2021-06-11T15:21:07.057430Z",
     "shell.execute_reply.started": "2021-06-11T15:21:07.032921Z"
    }
   },
   "outputs": [
    {
     "data": {
      "text/plain": [
       "<xarray.core.options.set_options at 0x7f8b7e4f2a10>"
      ]
     },
     "execution_count": 4,
     "metadata": {},
     "output_type": "execute_result"
    }
   ],
   "source": [
    "xr.set_options(keep_attrs=True)"
   ]
  },
  {
   "cell_type": "code",
   "execution_count": 5,
   "metadata": {
    "execution": {
     "iopub.execute_input": "2021-06-11T15:21:07.059988Z",
     "iopub.status.busy": "2021-06-11T15:21:07.059687Z",
     "iopub.status.idle": "2021-06-11T15:21:07.088104Z",
     "shell.execute_reply": "2021-06-11T15:21:07.087191Z",
     "shell.execute_reply.started": "2021-06-11T15:21:07.059946Z"
    }
   },
   "outputs": [],
   "source": [
    "import ecephys_analyses as ea \n",
    "from ecephys.signal.xarray_utils import filter_dataset_by_hypnogram"
   ]
  },
  {
   "cell_type": "code",
   "execution_count": 6,
   "metadata": {
    "execution": {
     "iopub.execute_input": "2021-06-11T15:21:07.089799Z",
     "iopub.status.busy": "2021-06-11T15:21:07.089502Z",
     "iopub.status.idle": "2021-06-11T15:21:07.114191Z",
     "shell.execute_reply": "2021-06-11T15:21:07.113095Z",
     "shell.execute_reply.started": "2021-06-11T15:21:07.089758Z"
    }
   },
   "outputs": [],
   "source": [
    "def ds2df(ds):\n",
    "    s = ds.to_dataframe().stack()\n",
    "    s.index.names = s.index.names[:-1] + ['region']\n",
    "    return s.to_frame(name='power')"
   ]
  },
  {
   "cell_type": "code",
   "execution_count": 7,
   "metadata": {
    "execution": {
     "iopub.execute_input": "2021-06-11T15:21:07.115822Z",
     "iopub.status.busy": "2021-06-11T15:21:07.115507Z",
     "iopub.status.idle": "2021-06-11T15:21:07.143552Z",
     "shell.execute_reply": "2021-06-11T15:21:07.142600Z",
     "shell.execute_reply.started": "2021-06-11T15:21:07.115779Z"
    }
   },
   "outputs": [],
   "source": [
    "subject = \"Alessandro\"\n",
    "experiment = \"sleep-homeostasis\"\n",
    "norm_condition = \"light-period-circadian-match\"\n",
    "rec_condition = \"recovery-sleep\"\n",
    "states = [\"N1\", \"N2\"]\n",
    "duration = '01:00:00'\n",
    "light_period_start = '09:00:00'\n",
    "light_period_end = '21:00:00'\n",
    "f_range = (0.5, 4)"
   ]
  },
  {
   "cell_type": "code",
   "execution_count": 8,
   "metadata": {
    "execution": {
     "iopub.execute_input": "2021-06-11T15:21:07.146719Z",
     "iopub.status.busy": "2021-06-11T15:21:07.146409Z",
     "iopub.status.idle": "2021-06-11T15:21:16.060434Z",
     "shell.execute_reply": "2021-06-11T15:21:16.059289Z",
     "shell.execute_reply.started": "2021-06-11T15:21:07.146676Z"
    }
   },
   "outputs": [],
   "source": [
    "norm_hyp = ea.load_hypnogram(subject, experiment, norm_condition)\n",
    "norm_hyp = norm_hyp.keep_states(states).keep_between(light_period_start, light_period_end)\n",
    "\n",
    "norm_pow = ea.load_power(subject, experiment, norm_condition, \"spg.nc\").sel(frequency=slice(*f_range)).sum(dim=\"frequency\")\n",
    "norm_pow = filter_dataset_by_hypnogram(norm_pow, norm_hyp).swap_dims({'time': 'datetime'}).drop_vars(['time', 'timedelta'])"
   ]
  },
  {
   "cell_type": "code",
   "execution_count": 9,
   "metadata": {
    "execution": {
     "iopub.execute_input": "2021-06-11T15:21:16.063282Z",
     "iopub.status.busy": "2021-06-11T15:21:16.062731Z",
     "iopub.status.idle": "2021-06-11T15:21:20.511225Z",
     "shell.execute_reply": "2021-06-11T15:21:20.510005Z",
     "shell.execute_reply.started": "2021-06-11T15:21:16.063231Z"
    }
   },
   "outputs": [],
   "source": [
    "rec_hyp = ea.load_hypnogram(subject, experiment, rec_condition)\n",
    "rec_pow = ea.load_power(subject, experiment, rec_condition, \"spg.nc\").sel(frequency=slice(*f_range)).sum(dim='frequency')\n",
    "rec_pow = rec_pow / norm_pow.mean(dim=\"datetime\") * 100"
   ]
  },
  {
   "cell_type": "code",
   "execution_count": 10,
   "metadata": {
    "execution": {
     "iopub.execute_input": "2021-06-11T15:21:20.513059Z",
     "iopub.status.busy": "2021-06-11T15:21:20.512615Z",
     "iopub.status.idle": "2021-06-11T15:21:20.637316Z",
     "shell.execute_reply": "2021-06-11T15:21:20.635835Z",
     "shell.execute_reply.started": "2021-06-11T15:21:20.513014Z"
    }
   },
   "outputs": [],
   "source": [
    "early_hyp = rec_hyp.keep_states(states).keep_first(duration)\n",
    "early_pow = filter_dataset_by_hypnogram(rec_pow, early_hyp).swap_dims({'time': 'datetime'}).drop_vars(['time', 'timedelta'])"
   ]
  },
  {
   "cell_type": "code",
   "execution_count": 11,
   "metadata": {
    "execution": {
     "iopub.execute_input": "2021-06-11T15:21:20.646943Z",
     "iopub.status.busy": "2021-06-11T15:21:20.643718Z",
     "iopub.status.idle": "2021-06-11T15:21:20.871480Z",
     "shell.execute_reply": "2021-06-11T15:21:20.870256Z",
     "shell.execute_reply.started": "2021-06-11T15:21:20.646890Z"
    }
   },
   "outputs": [],
   "source": [
    "late_hyp = rec_hyp.keep_states(states).keep_last(duration)\n",
    "late_pow = filter_dataset_by_hypnogram(rec_pow, late_hyp).swap_dims({'time': 'datetime'}).drop_vars(['time', 'timedelta'])"
   ]
  },
  {
   "cell_type": "code",
   "execution_count": 12,
   "metadata": {
    "execution": {
     "iopub.execute_input": "2021-06-11T15:21:20.873539Z",
     "iopub.status.busy": "2021-06-11T15:21:20.873061Z",
     "iopub.status.idle": "2021-06-11T15:21:20.917832Z",
     "shell.execute_reply": "2021-06-11T15:21:20.916645Z",
     "shell.execute_reply.started": "2021-06-11T15:21:20.873493Z"
    }
   },
   "outputs": [],
   "source": [
    "nrem_pow = pd.concat([ds2df(early_pow).assign(condition=\"early\"), ds2df(late_pow).assign(condition=\"late\")])"
   ]
  },
  {
   "cell_type": "code",
   "execution_count": 13,
   "metadata": {
    "execution": {
     "iopub.execute_input": "2021-06-11T15:21:20.919784Z",
     "iopub.status.busy": "2021-06-11T15:21:20.919278Z",
     "iopub.status.idle": "2021-06-11T15:21:20.944902Z",
     "shell.execute_reply": "2021-06-11T15:21:20.943862Z",
     "shell.execute_reply.started": "2021-06-11T15:21:20.919737Z"
    }
   },
   "outputs": [],
   "source": [
    "def difference_of_means(df):\n",
    "    means = df.groupby(['condition', 'region']).mean()\n",
    "    return means.xs('early') - means.xs('late')"
   ]
  },
  {
   "cell_type": "code",
   "execution_count": 14,
   "metadata": {
    "execution": {
     "iopub.execute_input": "2021-06-11T15:21:20.946578Z",
     "iopub.status.busy": "2021-06-11T15:21:20.946135Z",
     "iopub.status.idle": "2021-06-11T15:21:20.970824Z",
     "shell.execute_reply": "2021-06-11T15:21:20.969783Z",
     "shell.execute_reply.started": "2021-06-11T15:21:20.946534Z"
    }
   },
   "outputs": [],
   "source": [
    "def cx_minus_hc(df):\n",
    "    dom = difference_of_means(df)\n",
    "    return dom.xs('mpta_wm_ref') - dom.xs('sr_wm_ref')"
   ]
  },
  {
   "cell_type": "code",
   "execution_count": 15,
   "metadata": {
    "execution": {
     "iopub.execute_input": "2021-06-11T15:21:20.972502Z",
     "iopub.status.busy": "2021-06-11T15:21:20.972066Z",
     "iopub.status.idle": "2021-06-11T15:21:21.000243Z",
     "shell.execute_reply": "2021-06-11T15:21:20.999151Z",
     "shell.execute_reply.started": "2021-06-11T15:21:20.972460Z"
    }
   },
   "outputs": [],
   "source": [
    "def shuffle_region_labels(df): \n",
    "    permuted = df.reset_index()\n",
    "    region_labels = permuted.region.values.reshape(-1, 2)\n",
    "    rng = np.random.default_rng()\n",
    "    rng.permuted(region_labels, axis=1, out=region_labels)\n",
    "    permuted.set_index(['datetime', 'region'], inplace=True)\n",
    "    return permuted"
   ]
  },
  {
   "cell_type": "code",
   "execution_count": 16,
   "metadata": {
    "execution": {
     "iopub.execute_input": "2021-06-11T15:21:21.002052Z",
     "iopub.status.busy": "2021-06-11T15:21:21.001741Z",
     "iopub.status.idle": "2021-06-11T15:22:56.954580Z",
     "shell.execute_reply": "2021-06-11T15:22:56.953360Z",
     "shell.execute_reply.started": "2021-06-11T15:21:21.002007Z"
    }
   },
   "outputs": [],
   "source": [
    "observed = cx_minus_hc(nrem_pow).power\n",
    "\n",
    "n_permutations = 10000\n",
    "permutations = list()\n",
    "for i in range(n_permutations):\n",
    "    permuted = shuffle_region_labels(nrem_pow)\n",
    "    permutations.append(cx_minus_hc(permuted))\n",
    "    \n",
    "df = pd.concat(permutations).to_frame(name='cx_minus_hc').reset_index(drop=True)"
   ]
  },
  {
   "cell_type": "code",
   "execution_count": 17,
   "metadata": {
    "execution": {
     "iopub.execute_input": "2021-06-11T15:22:56.956759Z",
     "iopub.status.busy": "2021-06-11T15:22:56.956264Z",
     "iopub.status.idle": "2021-06-11T15:22:58.594233Z",
     "shell.execute_reply": "2021-06-11T15:22:58.593238Z",
     "shell.execute_reply.started": "2021-06-11T15:22:56.956708Z"
    }
   },
   "outputs": [
    {
     "data": {
      "image/png": "[encoded data removed]",
      "text/plain": [
       "<Figure size 459.75x360 with 1 Axes>"
      ]
     },
     "metadata": {
      "needs_background": "light"
     },
     "output_type": "display_data"
    }
   ],
   "source": [
    "g = sns.displot(data=df, kind='hist')\n",
    "g.set(xlabel='Difference of decline (Cortex - Hippocampus)')\n",
    "g.tight_layout()"
   ]
  },
  {
   "cell_type": "code",
   "execution_count": 18,
   "metadata": {
    "execution": {
     "iopub.execute_input": "2021-06-11T15:22:58.596222Z",
     "iopub.status.busy": "2021-06-11T15:22:58.595706Z",
     "iopub.status.idle": "2021-06-11T15:22:58.635812Z",
     "shell.execute_reply": "2021-06-11T15:22:58.634917Z",
     "shell.execute_reply.started": "2021-06-11T15:22:58.596176Z"
    }
   },
   "outputs": [],
   "source": [
    "p = np.sum(df.cx_minus_hc.values >= observed)"
   ]
  },
  {
   "cell_type": "code",
   "execution_count": 19,
   "metadata": {
    "execution": {
     "iopub.execute_input": "2021-06-11T15:22:58.637244Z",
     "iopub.status.busy": "2021-06-11T15:22:58.636929Z",
     "iopub.status.idle": "2021-06-11T15:22:58.698849Z",
     "shell.execute_reply": "2021-06-11T15:22:58.697799Z",
     "shell.execute_reply.started": "2021-06-11T15:22:58.637201Z"
    }
   },
   "outputs": [
    {
     "name": "stdout",
     "output_type": "stream",
     "text": [
      "Subject: Alessandro\n",
      "Observed difference, Cortex - Hippocampus:\n",
      "21.881284437315017\n",
      "\n",
      "Shuffled differences >= observed:\n",
      "Cortex: 1 / 10000\n"
     ]
    }
   ],
   "source": [
    "print(f\"Subject: {subject}\")\n",
    "print('Observed difference, Cortex - Hippocampus:')\n",
    "print(f'{observed}')\n",
    "print('')\n",
    "print('Shuffled differences >= observed:')\n",
    "print(f\"Cortex: {1 + p} / {n_permutations}\")"
   ]
  },
  {
   "cell_type": "code",
   "execution_count": null,
   "metadata": {},
   "outputs": [],
   "source": []
  }
 ],
 "metadata": {
  "kernelspec": {
   "display_name": "Python 3",
   "language": "python",
   "name": "python3"
  },
  "language_info": {
   "codemirror_mode": {
    "name": "ipython",
    "version": 3
   },
   "file_extension": ".py",
   "mimetype": "text/x-python",
   "name": "python",
   "nbconvert_exporter": "python",
   "pygments_lexer": "ipython3",
   "version": "3.7.9"
  }
 },
 "nbformat": 4,
 "nbformat_minor": 4
}
