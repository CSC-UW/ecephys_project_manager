{
 "cells": [
  {
   "cell_type": "code",
   "execution_count": 1,
   "metadata": {
    "execution": {
     "iopub.execute_input": "2021-06-11T15:20:54.112885Z",
     "iopub.status.busy": "2021-06-11T15:20:54.112448Z",
     "iopub.status.idle": "2021-06-11T15:20:54.133146Z",
     "shell.execute_reply": "2021-06-11T15:20:54.132184Z",
     "shell.execute_reply.started": "2021-06-11T15:20:54.112837Z"
    }
   },
   "outputs": [],
   "source": [
    "%load_ext autoreload\n",
    "%autoreload 2"
   ]
  },
  {
   "cell_type": "code",
   "execution_count": 2,
   "metadata": {
    "execution": {
     "iopub.execute_input": "2021-06-11T15:20:54.134834Z",
     "iopub.status.busy": "2021-06-11T15:20:54.134592Z",
     "iopub.status.idle": "2021-06-11T15:20:54.670267Z",
     "shell.execute_reply": "2021-06-11T15:20:54.669331Z",
     "shell.execute_reply.started": "2021-06-11T15:20:54.134800Z"
    }
   },
   "outputs": [],
   "source": [
    "# %matplotlib widget\n",
    "import matplotlib.pyplot as plt\n",
    "import seaborn as sns"
   ]
  },
  {
   "cell_type": "code",
   "execution_count": 3,
   "metadata": {
    "execution": {
     "iopub.execute_input": "2021-06-11T15:20:54.671843Z",
     "iopub.status.busy": "2021-06-11T15:20:54.671667Z",
     "iopub.status.idle": "2021-06-11T15:20:54.997999Z",
     "shell.execute_reply": "2021-06-11T15:20:54.997182Z",
     "shell.execute_reply.started": "2021-06-11T15:20:54.671820Z"
    }
   },
   "outputs": [],
   "source": [
    "import xarray as xr\n",
    "import numpy as np\n",
    "import pandas as pd"
   ]
  },
  {
   "cell_type": "code",
   "execution_count": 4,
   "metadata": {
    "execution": {
     "iopub.execute_input": "2021-06-11T15:20:54.999357Z",
     "iopub.status.busy": "2021-06-11T15:20:54.999169Z",
     "iopub.status.idle": "2021-06-11T15:20:55.016568Z",
     "shell.execute_reply": "2021-06-11T15:20:55.015899Z",
     "shell.execute_reply.started": "2021-06-11T15:20:54.999331Z"
    }
   },
   "outputs": [
    {
     "data": {
      "text/plain": [
       "<xarray.core.options.set_options at 0x7f2869abb450>"
      ]
     },
     "execution_count": 4,
     "metadata": {},
     "output_type": "execute_result"
    }
   ],
   "source": [
    "xr.set_options(keep_attrs=True)"
   ]
  },
  {
   "cell_type": "code",
   "execution_count": 5,
   "metadata": {
    "execution": {
     "iopub.execute_input": "2021-06-11T15:20:55.017552Z",
     "iopub.status.busy": "2021-06-11T15:20:55.017372Z",
     "iopub.status.idle": "2021-06-11T15:20:55.036994Z",
     "shell.execute_reply": "2021-06-11T15:20:55.036287Z",
     "shell.execute_reply.started": "2021-06-11T15:20:55.017529Z"
    }
   },
   "outputs": [],
   "source": [
    "import ecephys_analyses as ea \n",
    "from ecephys.signal.xarray_utils import filter_dataset_by_hypnogram"
   ]
  },
  {
   "cell_type": "code",
   "execution_count": 6,
   "metadata": {
    "execution": {
     "iopub.execute_input": "2021-06-11T15:20:55.038049Z",
     "iopub.status.busy": "2021-06-11T15:20:55.037876Z",
     "iopub.status.idle": "2021-06-11T15:20:55.054542Z",
     "shell.execute_reply": "2021-06-11T15:20:55.053674Z",
     "shell.execute_reply.started": "2021-06-11T15:20:55.038027Z"
    }
   },
   "outputs": [],
   "source": [
    "def ds2df(ds):\n",
    "    s = ds.to_dataframe().stack()\n",
    "    s.index.names = s.index.names[:-1] + ['region']\n",
    "    return s.to_frame(name='power')"
   ]
  },
  {
   "cell_type": "code",
   "execution_count": 7,
   "metadata": {
    "execution": {
     "iopub.execute_input": "2021-06-11T15:20:55.055591Z",
     "iopub.status.busy": "2021-06-11T15:20:55.055420Z",
     "iopub.status.idle": "2021-06-11T15:20:55.072325Z",
     "shell.execute_reply": "2021-06-11T15:20:55.071593Z",
     "shell.execute_reply.started": "2021-06-11T15:20:55.055569Z"
    }
   },
   "outputs": [],
   "source": [
    "subject = \"Doppio\"\n",
    "experiment = \"sleep-homeostasis\"\n",
    "norm_condition = \"light-period-circadian-match\"\n",
    "rec_condition = \"recovery-sleep\"\n",
    "states = [\"N1\", \"N2\"]\n",
    "duration = '01:00:00'\n",
    "light_period_start = '09:00:00'\n",
    "light_period_end = '21:00:00'\n",
    "f_range = (0.5, 4)"
   ]
  },
  {
   "cell_type": "code",
   "execution_count": 8,
   "metadata": {
    "execution": {
     "iopub.execute_input": "2021-06-11T15:20:55.073334Z",
     "iopub.status.busy": "2021-06-11T15:20:55.073165Z",
     "iopub.status.idle": "2021-06-11T15:21:01.729055Z",
     "shell.execute_reply": "2021-06-11T15:21:01.727999Z",
     "shell.execute_reply.started": "2021-06-11T15:20:55.073313Z"
    }
   },
   "outputs": [],
   "source": [
    "norm_hyp = ea.load_hypnogram(subject, experiment, norm_condition)\n",
    "norm_hyp = norm_hyp.keep_states(states).keep_between(light_period_start, light_period_end)\n",
    "\n",
    "norm_pow = ea.load_power(subject, experiment, norm_condition, \"spg.nc\").sel(frequency=slice(*f_range)).sum(dim=\"frequency\")\n",
    "norm_pow = filter_dataset_by_hypnogram(norm_pow, norm_hyp).swap_dims({'time': 'datetime'}).drop_vars(['time', 'timedelta'])"
   ]
  },
  {
   "cell_type": "code",
   "execution_count": 9,
   "metadata": {
    "execution": {
     "iopub.execute_input": "2021-06-11T15:21:01.732548Z",
     "iopub.status.busy": "2021-06-11T15:21:01.732249Z",
     "iopub.status.idle": "2021-06-11T15:21:05.018677Z",
     "shell.execute_reply": "2021-06-11T15:21:05.017475Z",
     "shell.execute_reply.started": "2021-06-11T15:21:01.732507Z"
    }
   },
   "outputs": [],
   "source": [
    "rec_hyp = ea.load_hypnogram(subject, experiment, rec_condition)\n",
    "rec_pow = ea.load_power(subject, experiment, rec_condition, \"spg.nc\").sel(frequency=slice(*f_range)).sum(dim='frequency')\n",
    "rec_pow = rec_pow / norm_pow.mean(dim=\"datetime\") * 100"
   ]
  },
  {
   "cell_type": "code",
   "execution_count": 10,
   "metadata": {
    "execution": {
     "iopub.execute_input": "2021-06-11T15:21:05.021758Z",
     "iopub.status.busy": "2021-06-11T15:21:05.021374Z",
     "iopub.status.idle": "2021-06-11T15:21:05.247053Z",
     "shell.execute_reply": "2021-06-11T15:21:05.245062Z",
     "shell.execute_reply.started": "2021-06-11T15:21:05.021685Z"
    }
   },
   "outputs": [],
   "source": [
    "early_hyp = rec_hyp.keep_states(states).keep_first(duration)\n",
    "early_pow = filter_dataset_by_hypnogram(rec_pow, early_hyp).swap_dims({'time': 'datetime'}).drop_vars(['time', 'timedelta'])"
   ]
  },
  {
   "cell_type": "code",
   "execution_count": 11,
   "metadata": {
    "execution": {
     "iopub.execute_input": "2021-06-11T15:21:05.250019Z",
     "iopub.status.busy": "2021-06-11T15:21:05.249642Z",
     "iopub.status.idle": "2021-06-11T15:21:05.498624Z",
     "shell.execute_reply": "2021-06-11T15:21:05.497514Z",
     "shell.execute_reply.started": "2021-06-11T15:21:05.249960Z"
    }
   },
   "outputs": [],
   "source": [
    "late_hyp = rec_hyp.keep_states(states).keep_last(duration)\n",
    "late_pow = filter_dataset_by_hypnogram(rec_pow, late_hyp).swap_dims({'time': 'datetime'}).drop_vars(['time', 'timedelta'])"
   ]
  },
  {
   "cell_type": "code",
   "execution_count": 12,
   "metadata": {
    "execution": {
     "iopub.execute_input": "2021-06-11T15:21:05.500368Z",
     "iopub.status.busy": "2021-06-11T15:21:05.500086Z",
     "iopub.status.idle": "2021-06-11T15:21:05.548195Z",
     "shell.execute_reply": "2021-06-11T15:21:05.547241Z",
     "shell.execute_reply.started": "2021-06-11T15:21:05.500328Z"
    }
   },
   "outputs": [],
   "source": [
    "nrem_pow = pd.concat([ds2df(early_pow).assign(condition=\"early\"), ds2df(late_pow).assign(condition=\"late\")])"
   ]
  },
  {
   "cell_type": "code",
   "execution_count": 13,
   "metadata": {
    "execution": {
     "iopub.execute_input": "2021-06-11T15:21:05.552443Z",
     "iopub.status.busy": "2021-06-11T15:21:05.552020Z",
     "iopub.status.idle": "2021-06-11T15:21:05.578645Z",
     "shell.execute_reply": "2021-06-11T15:21:05.577611Z",
     "shell.execute_reply.started": "2021-06-11T15:21:05.552402Z"
    }
   },
   "outputs": [],
   "source": [
    "def difference_of_means(df):\n",
    "    means = df.groupby(['condition', 'region']).mean()\n",
    "    return means.xs('early') - means.xs('late')"
   ]
  },
  {
   "cell_type": "code",
   "execution_count": 14,
   "metadata": {
    "execution": {
     "iopub.execute_input": "2021-06-11T15:21:05.580315Z",
     "iopub.status.busy": "2021-06-11T15:21:05.580023Z",
     "iopub.status.idle": "2021-06-11T15:21:05.603461Z",
     "shell.execute_reply": "2021-06-11T15:21:05.602594Z",
     "shell.execute_reply.started": "2021-06-11T15:21:05.580275Z"
    }
   },
   "outputs": [],
   "source": [
    "def cx_minus_hc(df):\n",
    "    dom = difference_of_means(df)\n",
    "    return dom.xs('mpta_wm_ref') - dom.xs('sr_wm_ref')"
   ]
  },
  {
   "cell_type": "code",
   "execution_count": 15,
   "metadata": {
    "execution": {
     "iopub.execute_input": "2021-06-11T15:21:05.605030Z",
     "iopub.status.busy": "2021-06-11T15:21:05.604749Z",
     "iopub.status.idle": "2021-06-11T15:21:05.630027Z",
     "shell.execute_reply": "2021-06-11T15:21:05.629176Z",
     "shell.execute_reply.started": "2021-06-11T15:21:05.604991Z"
    }
   },
   "outputs": [],
   "source": [
    "def shuffle_region_labels(df): \n",
    "    permuted = df.reset_index()\n",
    "    region_labels = permuted.region.values.reshape(-1, 2)\n",
    "    rng = np.random.default_rng()\n",
    "    rng.permuted(region_labels, axis=1, out=region_labels)\n",
    "    permuted.set_index(['datetime', 'region'], inplace=True)\n",
    "    return permuted"
   ]
  },
  {
   "cell_type": "code",
   "execution_count": 16,
   "metadata": {
    "execution": {
     "iopub.execute_input": "2021-06-11T15:21:05.631540Z",
     "iopub.status.busy": "2021-06-11T15:21:05.631261Z",
     "iopub.status.idle": "2021-06-11T15:22:40.135656Z",
     "shell.execute_reply": "2021-06-11T15:22:40.134492Z",
     "shell.execute_reply.started": "2021-06-11T15:21:05.631501Z"
    }
   },
   "outputs": [],
   "source": [
    "observed = cx_minus_hc(nrem_pow).power\n",
    "\n",
    "n_permutations = 10000\n",
    "permutations = list()\n",
    "for i in range(n_permutations):\n",
    "    permuted = shuffle_region_labels(nrem_pow)\n",
    "    permutations.append(cx_minus_hc(permuted))\n",
    "    \n",
    "df = pd.concat(permutations).to_frame(name='cx_minus_hc').reset_index(drop=True)"
   ]
  },
  {
   "cell_type": "code",
   "execution_count": 17,
   "metadata": {
    "execution": {
     "iopub.execute_input": "2021-06-11T15:22:40.137459Z",
     "iopub.status.busy": "2021-06-11T15:22:40.137165Z",
     "iopub.status.idle": "2021-06-11T15:22:41.022985Z",
     "shell.execute_reply": "2021-06-11T15:22:41.021897Z",
     "shell.execute_reply.started": "2021-06-11T15:22:40.137419Z"
    }
   },
   "outputs": [
    {
     "data": {
      "image/png": "[encoded data removed]",
      "text/plain": [
       "<Figure size 459.75x360 with 1 Axes>"
      ]
     },
     "metadata": {
      "needs_background": "light"
     },
     "output_type": "display_data"
    }
   ],
   "source": [
    "g = sns.displot(data=df, kind='hist')\n",
    "g.set(xlabel='Difference of decline (Cortex - Hippocampus)')\n",
    "g.tight_layout()"
   ]
  },
  {
   "cell_type": "code",
   "execution_count": 18,
   "metadata": {
    "execution": {
     "iopub.execute_input": "2021-06-11T15:22:41.024813Z",
     "iopub.status.busy": "2021-06-11T15:22:41.024524Z",
     "iopub.status.idle": "2021-06-11T15:22:41.056126Z",
     "shell.execute_reply": "2021-06-11T15:22:41.055101Z",
     "shell.execute_reply.started": "2021-06-11T15:22:41.024775Z"
    }
   },
   "outputs": [],
   "source": [
    "p = np.sum(df.cx_minus_hc.values >= observed)"
   ]
  },
  {
   "cell_type": "code",
   "execution_count": 19,
   "metadata": {
    "execution": {
     "iopub.execute_input": "2021-06-11T15:22:41.058031Z",
     "iopub.status.busy": "2021-06-11T15:22:41.057716Z",
     "iopub.status.idle": "2021-06-11T15:22:41.093852Z",
     "shell.execute_reply": "2021-06-11T15:22:41.092654Z",
     "shell.execute_reply.started": "2021-06-11T15:22:41.057987Z"
    }
   },
   "outputs": [
    {
     "name": "stdout",
     "output_type": "stream",
     "text": [
      "Subject: Doppio\n",
      "Observed difference, Cortex - Hippocampus:\n",
      "60.58388628134966\n",
      "\n",
      "Shuffled differences >= observed:\n",
      "Cortex: 1 / 10000\n"
     ]
    }
   ],
   "source": [
    "print(f\"Subject: {subject}\")\n",
    "print('Observed difference, Cortex - Hippocampus:')\n",
    "print(f'{observed}')\n",
    "print('')\n",
    "print('Shuffled differences >= observed:')\n",
    "print(f\"Cortex: {1 + p} / {n_permutations}\")"
   ]
  },
  {
   "cell_type": "code",
   "execution_count": null,
   "metadata": {},
   "outputs": [],
   "source": []
  }
 ],
 "metadata": {
  "kernelspec": {
   "display_name": "Python 3",
   "language": "python",
   "name": "python3"
  },
  "language_info": {
   "codemirror_mode": {
    "name": "ipython",
    "version": 3
   },
   "file_extension": ".py",
   "mimetype": "text/x-python",
   "name": "python",
   "nbconvert_exporter": "python",
   "pygments_lexer": "ipython3",
   "version": "3.7.9"
  }
 },
 "nbformat": 4,
 "nbformat_minor": 4
}
