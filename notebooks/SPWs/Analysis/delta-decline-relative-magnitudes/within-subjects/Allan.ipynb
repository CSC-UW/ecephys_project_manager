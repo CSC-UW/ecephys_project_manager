{
 "cells": [
  {
   "cell_type": "code",
   "execution_count": 1,
   "metadata": {
    "execution": {
     "iopub.execute_input": "2021-06-11T15:21:13.510279Z",
     "iopub.status.busy": "2021-06-11T15:21:13.509772Z",
     "iopub.status.idle": "2021-06-11T15:21:13.563325Z",
     "shell.execute_reply": "2021-06-11T15:21:13.562195Z",
     "shell.execute_reply.started": "2021-06-11T15:21:13.510222Z"
    }
   },
   "outputs": [],
   "source": [
    "%load_ext autoreload\n",
    "%autoreload 2"
   ]
  },
  {
   "cell_type": "code",
   "execution_count": 2,
   "metadata": {
    "execution": {
     "iopub.execute_input": "2021-06-11T15:21:13.565561Z",
     "iopub.status.busy": "2021-06-11T15:21:13.565199Z",
     "iopub.status.idle": "2021-06-11T15:21:15.150420Z",
     "shell.execute_reply": "2021-06-11T15:21:15.149293Z",
     "shell.execute_reply.started": "2021-06-11T15:21:13.565513Z"
    }
   },
   "outputs": [],
   "source": [
    "# %matplotlib widget\n",
    "import matplotlib.pyplot as plt\n",
    "import seaborn as sns"
   ]
  },
  {
   "cell_type": "code",
   "execution_count": 3,
   "metadata": {
    "execution": {
     "iopub.execute_input": "2021-06-11T15:21:15.153136Z",
     "iopub.status.busy": "2021-06-11T15:21:15.152631Z",
     "iopub.status.idle": "2021-06-11T15:21:16.186262Z",
     "shell.execute_reply": "2021-06-11T15:21:16.185251Z",
     "shell.execute_reply.started": "2021-06-11T15:21:15.153078Z"
    }
   },
   "outputs": [],
   "source": [
    "import xarray as xr\n",
    "import numpy as np\n",
    "import pandas as pd"
   ]
  },
  {
   "cell_type": "code",
   "execution_count": 4,
   "metadata": {
    "execution": {
     "iopub.execute_input": "2021-06-11T15:21:16.188421Z",
     "iopub.status.busy": "2021-06-11T15:21:16.187979Z",
     "iopub.status.idle": "2021-06-11T15:21:16.229936Z",
     "shell.execute_reply": "2021-06-11T15:21:16.229151Z",
     "shell.execute_reply.started": "2021-06-11T15:21:16.188379Z"
    }
   },
   "outputs": [
    {
     "data": {
      "text/plain": [
       "<xarray.core.options.set_options at 0x7fedb42d6550>"
      ]
     },
     "execution_count": 4,
     "metadata": {},
     "output_type": "execute_result"
    }
   ],
   "source": [
    "xr.set_options(keep_attrs=True)"
   ]
  },
  {
   "cell_type": "code",
   "execution_count": 5,
   "metadata": {
    "execution": {
     "iopub.execute_input": "2021-06-11T15:21:16.231504Z",
     "iopub.status.busy": "2021-06-11T15:21:16.231076Z",
     "iopub.status.idle": "2021-06-11T15:21:16.288386Z",
     "shell.execute_reply": "2021-06-11T15:21:16.287554Z",
     "shell.execute_reply.started": "2021-06-11T15:21:16.231463Z"
    }
   },
   "outputs": [],
   "source": [
    "import ecephys_analyses as ea \n",
    "from ecephys.signal.xarray_utils import filter_dataset_by_hypnogram"
   ]
  },
  {
   "cell_type": "code",
   "execution_count": 6,
   "metadata": {
    "execution": {
     "iopub.execute_input": "2021-06-11T15:21:16.289977Z",
     "iopub.status.busy": "2021-06-11T15:21:16.289545Z",
     "iopub.status.idle": "2021-06-11T15:21:16.313385Z",
     "shell.execute_reply": "2021-06-11T15:21:16.312578Z",
     "shell.execute_reply.started": "2021-06-11T15:21:16.289937Z"
    }
   },
   "outputs": [],
   "source": [
    "def ds2df(ds):\n",
    "    s = ds.to_dataframe().stack()\n",
    "    s.index.names = s.index.names[:-1] + ['region']\n",
    "    return s.to_frame(name='power')"
   ]
  },
  {
   "cell_type": "code",
   "execution_count": 7,
   "metadata": {
    "execution": {
     "iopub.execute_input": "2021-06-11T15:21:16.314666Z",
     "iopub.status.busy": "2021-06-11T15:21:16.314384Z",
     "iopub.status.idle": "2021-06-11T15:21:16.347231Z",
     "shell.execute_reply": "2021-06-11T15:21:16.346450Z",
     "shell.execute_reply.started": "2021-06-11T15:21:16.314630Z"
    }
   },
   "outputs": [],
   "source": [
    "subject = \"Allan\"\n",
    "experiment = \"sleep-homeostasis\"\n",
    "norm_condition = \"light-period-circadian-match\"\n",
    "rec_condition = \"recovery-sleep\"\n",
    "states = [\"N1\", \"N2\"]\n",
    "duration = '01:00:00'\n",
    "light_period_start = '09:00:00'\n",
    "light_period_end = '21:00:00'\n",
    "f_range = (0.5, 4)"
   ]
  },
  {
   "cell_type": "code",
   "execution_count": 8,
   "metadata": {
    "execution": {
     "iopub.execute_input": "2021-06-11T15:21:16.348913Z",
     "iopub.status.busy": "2021-06-11T15:21:16.348425Z",
     "iopub.status.idle": "2021-06-11T15:21:26.222767Z",
     "shell.execute_reply": "2021-06-11T15:21:26.220825Z",
     "shell.execute_reply.started": "2021-06-11T15:21:16.348872Z"
    }
   },
   "outputs": [],
   "source": [
    "norm_hyp = ea.load_hypnogram(subject, experiment, norm_condition)\n",
    "norm_hyp = norm_hyp.keep_states(states).keep_between(light_period_start, light_period_end)\n",
    "\n",
    "norm_pow = ea.load_power(subject, experiment, norm_condition, \"spg.nc\").sel(frequency=slice(*f_range)).sum(dim=\"frequency\")\n",
    "norm_pow = filter_dataset_by_hypnogram(norm_pow, norm_hyp).swap_dims({'time': 'datetime'}).drop_vars(['time', 'timedelta'])"
   ]
  },
  {
   "cell_type": "code",
   "execution_count": 9,
   "metadata": {
    "execution": {
     "iopub.execute_input": "2021-06-11T15:21:26.228190Z",
     "iopub.status.busy": "2021-06-11T15:21:26.227803Z",
     "iopub.status.idle": "2021-06-11T15:21:29.510174Z",
     "shell.execute_reply": "2021-06-11T15:21:29.509073Z",
     "shell.execute_reply.started": "2021-06-11T15:21:26.228131Z"
    }
   },
   "outputs": [],
   "source": [
    "rec_hyp = ea.load_hypnogram(subject, experiment, rec_condition)\n",
    "rec_pow = ea.load_power(subject, experiment, rec_condition, \"spg.nc\").sel(frequency=slice(*f_range)).sum(dim='frequency')\n",
    "rec_pow = rec_pow / norm_pow.mean(dim=\"datetime\") * 100"
   ]
  },
  {
   "cell_type": "code",
   "execution_count": 10,
   "metadata": {
    "execution": {
     "iopub.execute_input": "2021-06-11T15:21:29.515594Z",
     "iopub.status.busy": "2021-06-11T15:21:29.515203Z",
     "iopub.status.idle": "2021-06-11T15:21:29.636609Z",
     "shell.execute_reply": "2021-06-11T15:21:29.635624Z",
     "shell.execute_reply.started": "2021-06-11T15:21:29.515546Z"
    }
   },
   "outputs": [],
   "source": [
    "early_hyp = rec_hyp.keep_states(states).keep_first(duration)\n",
    "early_pow = filter_dataset_by_hypnogram(rec_pow, early_hyp).swap_dims({'time': 'datetime'}).drop_vars(['time', 'timedelta'])"
   ]
  },
  {
   "cell_type": "code",
   "execution_count": 11,
   "metadata": {
    "execution": {
     "iopub.execute_input": "2021-06-11T15:21:29.638582Z",
     "iopub.status.busy": "2021-06-11T15:21:29.638132Z",
     "iopub.status.idle": "2021-06-11T15:21:29.815120Z",
     "shell.execute_reply": "2021-06-11T15:21:29.814170Z",
     "shell.execute_reply.started": "2021-06-11T15:21:29.638537Z"
    }
   },
   "outputs": [],
   "source": [
    "late_hyp = rec_hyp.keep_states(states).keep_last(duration)\n",
    "late_pow = filter_dataset_by_hypnogram(rec_pow, late_hyp).swap_dims({'time': 'datetime'}).drop_vars(['time', 'timedelta'])"
   ]
  },
  {
   "cell_type": "code",
   "execution_count": 12,
   "metadata": {
    "execution": {
     "iopub.execute_input": "2021-06-11T15:21:29.816835Z",
     "iopub.status.busy": "2021-06-11T15:21:29.816530Z",
     "iopub.status.idle": "2021-06-11T15:21:29.854409Z",
     "shell.execute_reply": "2021-06-11T15:21:29.853514Z",
     "shell.execute_reply.started": "2021-06-11T15:21:29.816792Z"
    }
   },
   "outputs": [],
   "source": [
    "nrem_pow = pd.concat([ds2df(early_pow).assign(condition=\"early\"), ds2df(late_pow).assign(condition=\"late\")])"
   ]
  },
  {
   "cell_type": "code",
   "execution_count": 13,
   "metadata": {
    "execution": {
     "iopub.execute_input": "2021-06-11T15:21:29.856075Z",
     "iopub.status.busy": "2021-06-11T15:21:29.855772Z",
     "iopub.status.idle": "2021-06-11T15:21:29.881619Z",
     "shell.execute_reply": "2021-06-11T15:21:29.880531Z",
     "shell.execute_reply.started": "2021-06-11T15:21:29.856035Z"
    }
   },
   "outputs": [],
   "source": [
    "def difference_of_means(df):\n",
    "    means = df.groupby(['condition', 'region']).mean()\n",
    "    return means.xs('early') - means.xs('late')"
   ]
  },
  {
   "cell_type": "code",
   "execution_count": 14,
   "metadata": {
    "execution": {
     "iopub.execute_input": "2021-06-11T15:21:29.883175Z",
     "iopub.status.busy": "2021-06-11T15:21:29.882891Z",
     "iopub.status.idle": "2021-06-11T15:21:29.907515Z",
     "shell.execute_reply": "2021-06-11T15:21:29.906520Z",
     "shell.execute_reply.started": "2021-06-11T15:21:29.883137Z"
    }
   },
   "outputs": [],
   "source": [
    "def cx_minus_hc(df):\n",
    "    dom = difference_of_means(df)\n",
    "    return dom.xs('mpta_wm_ref') - dom.xs('sr_wm_ref')"
   ]
  },
  {
   "cell_type": "code",
   "execution_count": 15,
   "metadata": {
    "execution": {
     "iopub.execute_input": "2021-06-11T15:21:29.909193Z",
     "iopub.status.busy": "2021-06-11T15:21:29.908879Z",
     "iopub.status.idle": "2021-06-11T15:21:29.935672Z",
     "shell.execute_reply": "2021-06-11T15:21:29.934634Z",
     "shell.execute_reply.started": "2021-06-11T15:21:29.909152Z"
    }
   },
   "outputs": [],
   "source": [
    "def shuffle_region_labels(df): \n",
    "    permuted = df.reset_index()\n",
    "    region_labels = permuted.region.values.reshape(-1, 2)\n",
    "    rng = np.random.default_rng()\n",
    "    rng.permuted(region_labels, axis=1, out=region_labels)\n",
    "    permuted.set_index(['datetime', 'region'], inplace=True)\n",
    "    return permuted"
   ]
  },
  {
   "cell_type": "code",
   "execution_count": 16,
   "metadata": {
    "execution": {
     "iopub.execute_input": "2021-06-11T15:21:29.937272Z",
     "iopub.status.busy": "2021-06-11T15:21:29.936966Z",
     "iopub.status.idle": "2021-06-11T15:23:21.309450Z",
     "shell.execute_reply": "2021-06-11T15:23:21.308227Z",
     "shell.execute_reply.started": "2021-06-11T15:21:29.937233Z"
    }
   },
   "outputs": [],
   "source": [
    "observed = cx_minus_hc(nrem_pow).power\n",
    "\n",
    "n_permutations = 10000\n",
    "permutations = list()\n",
    "for i in range(n_permutations):\n",
    "    permuted = shuffle_region_labels(nrem_pow)\n",
    "    permutations.append(cx_minus_hc(permuted))\n",
    "    \n",
    "df = pd.concat(permutations).to_frame(name='cx_minus_hc').reset_index(drop=True)"
   ]
  },
  {
   "cell_type": "code",
   "execution_count": 17,
   "metadata": {
    "execution": {
     "iopub.execute_input": "2021-06-11T15:23:21.311865Z",
     "iopub.status.busy": "2021-06-11T15:23:21.311349Z",
     "iopub.status.idle": "2021-06-11T15:23:22.360789Z",
     "shell.execute_reply": "2021-06-11T15:23:22.359925Z",
     "shell.execute_reply.started": "2021-06-11T15:23:21.311817Z"
    }
   },
   "outputs": [
    {
     "data": {
      "image/png": "[encoded data removed]",
      "text/plain": [
       "<Figure size 459.75x360 with 1 Axes>"
      ]
     },
     "metadata": {
      "needs_background": "light"
     },
     "output_type": "display_data"
    }
   ],
   "source": [
    "g = sns.displot(data=df, kind='hist')\n",
    "g.set(xlabel='Difference of decline (Cortex - Hippocampus)')\n",
    "g.tight_layout()"
   ]
  },
  {
   "cell_type": "code",
   "execution_count": 18,
   "metadata": {
    "execution": {
     "iopub.execute_input": "2021-06-11T15:23:22.362704Z",
     "iopub.status.busy": "2021-06-11T15:23:22.362182Z",
     "iopub.status.idle": "2021-06-11T15:23:22.388008Z",
     "shell.execute_reply": "2021-06-11T15:23:22.387185Z",
     "shell.execute_reply.started": "2021-06-11T15:23:22.362659Z"
    }
   },
   "outputs": [],
   "source": [
    "p = np.sum(df.cx_minus_hc.values >= observed)"
   ]
  },
  {
   "cell_type": "code",
   "execution_count": 19,
   "metadata": {
    "execution": {
     "iopub.execute_input": "2021-06-11T15:23:22.389944Z",
     "iopub.status.busy": "2021-06-11T15:23:22.389410Z",
     "iopub.status.idle": "2021-06-11T15:23:22.417836Z",
     "shell.execute_reply": "2021-06-11T15:23:22.416995Z",
     "shell.execute_reply.started": "2021-06-11T15:23:22.389899Z"
    }
   },
   "outputs": [
    {
     "name": "stdout",
     "output_type": "stream",
     "text": [
      "Subject: Allan\n",
      "Observed difference, Cortex - Hippocampus:\n",
      "132.45938996102936\n",
      "\n",
      "Shuffled differences >= observed:\n",
      "Cortex: 1 / 10000\n"
     ]
    }
   ],
   "source": [
    "print(f\"Subject: {subject}\")\n",
    "print('Observed difference, Cortex - Hippocampus:')\n",
    "print(f'{observed}')\n",
    "print('')\n",
    "print('Shuffled differences >= observed:')\n",
    "print(f\"Cortex: {1 + p} / {n_permutations}\")"
   ]
  },
  {
   "cell_type": "code",
   "execution_count": null,
   "metadata": {},
   "outputs": [],
   "source": []
  }
 ],
 "metadata": {
  "kernelspec": {
   "display_name": "Python 3",
   "language": "python",
   "name": "python3"
  },
  "language_info": {
   "codemirror_mode": {
    "name": "ipython",
    "version": 3
   },
   "file_extension": ".py",
   "mimetype": "text/x-python",
   "name": "python",
   "nbconvert_exporter": "python",
   "pygments_lexer": "ipython3",
   "version": "3.7.9"
  }
 },
 "nbformat": 4,
 "nbformat_minor": 4
}
