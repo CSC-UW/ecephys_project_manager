{
 "cells": [
  {
   "cell_type": "code",
   "execution_count": 1,
   "metadata": {
    "execution": {
     "iopub.execute_input": "2021-06-12T20:05:15.946630Z",
     "iopub.status.busy": "2021-06-12T20:05:15.946289Z",
     "iopub.status.idle": "2021-06-12T20:05:15.962663Z",
     "shell.execute_reply": "2021-06-12T20:05:15.962049Z",
     "shell.execute_reply.started": "2021-06-12T20:05:15.946535Z"
    }
   },
   "outputs": [],
   "source": [
    "%load_ext autoreload\n",
    "%autoreload 2"
   ]
  },
  {
   "cell_type": "code",
   "execution_count": 2,
   "metadata": {
    "execution": {
     "iopub.execute_input": "2021-06-12T20:05:15.963549Z",
     "iopub.status.busy": "2021-06-12T20:05:15.963425Z",
     "iopub.status.idle": "2021-06-12T20:05:16.579755Z",
     "shell.execute_reply": "2021-06-12T20:05:16.579248Z",
     "shell.execute_reply.started": "2021-06-12T20:05:15.963533Z"
    }
   },
   "outputs": [],
   "source": [
    "# %matplotlib widget\n",
    "import matplotlib.pyplot as plt\n",
    "import seaborn as sns"
   ]
  },
  {
   "cell_type": "code",
   "execution_count": 3,
   "metadata": {
    "execution": {
     "iopub.execute_input": "2021-06-12T20:05:16.580801Z",
     "iopub.status.busy": "2021-06-12T20:05:16.580666Z",
     "iopub.status.idle": "2021-06-12T20:05:16.859637Z",
     "shell.execute_reply": "2021-06-12T20:05:16.859059Z",
     "shell.execute_reply.started": "2021-06-12T20:05:16.580784Z"
    }
   },
   "outputs": [],
   "source": [
    "import xarray as xr\n",
    "import numpy as np\n",
    "import pandas as pd"
   ]
  },
  {
   "cell_type": "code",
   "execution_count": 4,
   "metadata": {
    "execution": {
     "iopub.execute_input": "2021-06-12T20:05:16.860661Z",
     "iopub.status.busy": "2021-06-12T20:05:16.860514Z",
     "iopub.status.idle": "2021-06-12T20:05:16.873726Z",
     "shell.execute_reply": "2021-06-12T20:05:16.873238Z",
     "shell.execute_reply.started": "2021-06-12T20:05:16.860643Z"
    }
   },
   "outputs": [
    {
     "data": {
      "text/plain": [
       "<xarray.core.options.set_options at 0x7fb4769eb110>"
      ]
     },
     "execution_count": 4,
     "metadata": {},
     "output_type": "execute_result"
    }
   ],
   "source": [
    "xr.set_options(keep_attrs=True)"
   ]
  },
  {
   "cell_type": "code",
   "execution_count": 5,
   "metadata": {
    "execution": {
     "iopub.execute_input": "2021-06-12T20:05:16.874430Z",
     "iopub.status.busy": "2021-06-12T20:05:16.874302Z",
     "iopub.status.idle": "2021-06-12T20:05:16.887545Z",
     "shell.execute_reply": "2021-06-12T20:05:16.887053Z",
     "shell.execute_reply.started": "2021-06-12T20:05:16.874414Z"
    }
   },
   "outputs": [],
   "source": [
    "import ecephys_analyses as ea \n",
    "from ecephys.signal.xarray_utils import filter_dataset_by_hypnogram"
   ]
  },
  {
   "cell_type": "code",
   "execution_count": 6,
   "metadata": {
    "execution": {
     "iopub.execute_input": "2021-06-12T20:05:16.888242Z",
     "iopub.status.busy": "2021-06-12T20:05:16.888118Z",
     "iopub.status.idle": "2021-06-12T20:05:16.901411Z",
     "shell.execute_reply": "2021-06-12T20:05:16.900868Z",
     "shell.execute_reply.started": "2021-06-12T20:05:16.888227Z"
    }
   },
   "outputs": [],
   "source": [
    "subject = \"Alessandro\"\n",
    "experiment = \"sleep-homeostasis\"\n",
    "norm_condition = \"light-period-circadian-match\"\n",
    "rec_condition = \"recovery-sleep\"\n",
    "states = [\"N1\", \"N2\"]\n",
    "duration = '01:00:00'\n",
    "light_period_start = '09:00:00'\n",
    "light_period_end = '21:00:00'\n",
    "f_range = (0.5, 4)"
   ]
  },
  {
   "cell_type": "code",
   "execution_count": 7,
   "metadata": {
    "execution": {
     "iopub.execute_input": "2021-06-12T20:05:16.902030Z",
     "iopub.status.busy": "2021-06-12T20:05:16.901909Z",
     "iopub.status.idle": "2021-06-12T20:05:21.304558Z",
     "shell.execute_reply": "2021-06-12T20:05:21.303433Z",
     "shell.execute_reply.started": "2021-06-12T20:05:16.902015Z"
    }
   },
   "outputs": [],
   "source": [
    "norm_hyp = ea.load_hypnogram(subject, experiment, norm_condition)\n",
    "norm_hyp = norm_hyp.keep_states(states).keep_between(light_period_start, light_period_end)\n",
    "\n",
    "norm_pow = ea.load_power(subject, experiment, norm_condition, \"spg.nc\").sel(frequency=slice(*f_range)).sum(dim=\"frequency\")\n",
    "norm_pow = filter_dataset_by_hypnogram(norm_pow, norm_hyp).swap_dims({'time': 'datetime'}).drop_vars(['time', 'timedelta'])"
   ]
  },
  {
   "cell_type": "code",
   "execution_count": 8,
   "metadata": {
    "execution": {
     "iopub.execute_input": "2021-06-12T20:05:21.306284Z",
     "iopub.status.busy": "2021-06-12T20:05:21.306105Z",
     "iopub.status.idle": "2021-06-12T20:05:24.280908Z",
     "shell.execute_reply": "2021-06-12T20:05:24.280132Z",
     "shell.execute_reply.started": "2021-06-12T20:05:21.306264Z"
    }
   },
   "outputs": [],
   "source": [
    "rec_hyp = ea.load_hypnogram(subject, experiment, rec_condition)\n",
    "rec_pow = ea.load_power(subject, experiment, rec_condition, \"spg.nc\").sel(frequency=slice(*f_range)).sum(dim='frequency')\n",
    "rec_pow = rec_pow / norm_pow.mean(dim=\"datetime\") * 100"
   ]
  },
  {
   "cell_type": "code",
   "execution_count": 9,
   "metadata": {
    "execution": {
     "iopub.execute_input": "2021-06-12T20:05:24.282673Z",
     "iopub.status.busy": "2021-06-12T20:05:24.282510Z",
     "iopub.status.idle": "2021-06-12T20:05:24.326659Z",
     "shell.execute_reply": "2021-06-12T20:05:24.326104Z",
     "shell.execute_reply.started": "2021-06-12T20:05:24.282654Z"
    }
   },
   "outputs": [],
   "source": [
    "early_hyp = rec_hyp.keep_states(states).keep_first(duration)\n",
    "early_pow = filter_dataset_by_hypnogram(rec_pow, early_hyp).swap_dims({'time': 'datetime'}).drop_vars(['time', 'timedelta'])"
   ]
  },
  {
   "cell_type": "code",
   "execution_count": 10,
   "metadata": {
    "execution": {
     "iopub.execute_input": "2021-06-12T20:05:24.327697Z",
     "iopub.status.busy": "2021-06-12T20:05:24.327571Z",
     "iopub.status.idle": "2021-06-12T20:05:24.398516Z",
     "shell.execute_reply": "2021-06-12T20:05:24.397947Z",
     "shell.execute_reply.started": "2021-06-12T20:05:24.327681Z"
    }
   },
   "outputs": [],
   "source": [
    "late_hyp = rec_hyp.keep_states(states).keep_last(duration)\n",
    "late_pow = filter_dataset_by_hypnogram(rec_pow, late_hyp).swap_dims({'time': 'datetime'}).drop_vars(['time', 'timedelta'])"
   ]
  },
  {
   "cell_type": "code",
   "execution_count": 11,
   "metadata": {
    "execution": {
     "iopub.execute_input": "2021-06-12T20:05:24.399325Z",
     "iopub.status.busy": "2021-06-12T20:05:24.399077Z",
     "iopub.status.idle": "2021-06-12T20:05:24.409116Z",
     "shell.execute_reply": "2021-06-12T20:05:24.408562Z",
     "shell.execute_reply.started": "2021-06-12T20:05:24.399309Z"
    }
   },
   "outputs": [],
   "source": [
    "def match_lengths(dataframes):\n",
    "    length = min(list(map(len, dataframes)))\n",
    "    return (df.iloc[:length] for df in dataframes)"
   ]
  },
  {
   "cell_type": "code",
   "execution_count": 12,
   "metadata": {
    "execution": {
     "iopub.execute_input": "2021-06-12T20:05:24.409807Z",
     "iopub.status.busy": "2021-06-12T20:05:24.409687Z",
     "iopub.status.idle": "2021-06-12T20:05:24.424536Z",
     "shell.execute_reply": "2021-06-12T20:05:24.423940Z",
     "shell.execute_reply.started": "2021-06-12T20:05:24.409793Z"
    }
   },
   "outputs": [],
   "source": [
    "early_df = early_pow.to_dataframe().reset_index(drop=True).rename_axis(index='pair', columns='region').stack().to_frame(name='early')\n",
    "late_df = late_pow.to_dataframe().reset_index(drop=True).rename_axis(index='pair', columns='region').stack().to_frame(name='late')\n",
    "early_df, late_df = match_lengths((early_df, late_df))\n",
    "df = early_df.join(late_df).rename_axis(columns='condition')"
   ]
  },
  {
   "cell_type": "code",
   "execution_count": 13,
   "metadata": {
    "execution": {
     "iopub.execute_input": "2021-06-12T20:05:24.425245Z",
     "iopub.status.busy": "2021-06-12T20:05:24.425123Z",
     "iopub.status.idle": "2021-06-12T20:05:24.437055Z",
     "shell.execute_reply": "2021-06-12T20:05:24.436457Z",
     "shell.execute_reply.started": "2021-06-12T20:05:24.425230Z"
    }
   },
   "outputs": [],
   "source": [
    "df_plot = df.stack().to_frame(name='power')\n",
    "df_plot['log_power'] = np.log(df_plot.power)\n",
    "df_plot['sqrt_power'] = np.sqrt(df_plot.power)"
   ]
  },
  {
   "cell_type": "code",
   "execution_count": 14,
   "metadata": {
    "execution": {
     "iopub.execute_input": "2021-06-12T20:05:24.437767Z",
     "iopub.status.busy": "2021-06-12T20:05:24.437647Z",
     "iopub.status.idle": "2021-06-12T20:05:25.278422Z",
     "shell.execute_reply": "2021-06-12T20:05:25.277762Z",
     "shell.execute_reply.started": "2021-06-12T20:05:24.437752Z"
    }
   },
   "outputs": [
    {
     "data": {
      "image/png": "[encoded data removed]",
      "text/plain": [
       "<Figure size 781.125x360 with 2 Axes>"
      ]
     },
     "metadata": {
      "needs_background": "light"
     },
     "output_type": "display_data"
    }
   ],
   "source": [
    "g = sns.displot(data=df_plot, x='power', hue='condition', col='region', kind='hist')\n",
    "g.set(xlabel='Delta (0.5 - 4Hz) PSD (uV^2/Hz)')\n",
    "g.tight_layout()"
   ]
  },
  {
   "cell_type": "code",
   "execution_count": 15,
   "metadata": {
    "execution": {
     "iopub.execute_input": "2021-06-12T20:05:25.279375Z",
     "iopub.status.busy": "2021-06-12T20:05:25.279217Z",
     "iopub.status.idle": "2021-06-12T20:05:26.004950Z",
     "shell.execute_reply": "2021-06-12T20:05:26.004367Z",
     "shell.execute_reply.started": "2021-06-12T20:05:25.279357Z"
    }
   },
   "outputs": [
    {
     "data": {
      "image/png": "[encoded data removed]",
      "text/plain": [
       "<Figure size 781.125x360 with 2 Axes>"
      ]
     },
     "metadata": {
      "needs_background": "light"
     },
     "output_type": "display_data"
    }
   ],
   "source": [
    "g = sns.displot(data=df_plot, x='log_power', hue='condition', col='region', kind='hist')\n",
    "g.set(xlabel='Delta (0.5 - 4Hz) PSD (uV^2/Hz)')\n",
    "g.tight_layout()"
   ]
  },
  {
   "cell_type": "code",
   "execution_count": 16,
   "metadata": {
    "execution": {
     "iopub.execute_input": "2021-06-12T20:05:26.005854Z",
     "iopub.status.busy": "2021-06-12T20:05:26.005710Z",
     "iopub.status.idle": "2021-06-12T20:05:26.710643Z",
     "shell.execute_reply": "2021-06-12T20:05:26.710015Z",
     "shell.execute_reply.started": "2021-06-12T20:05:26.005837Z"
    }
   },
   "outputs": [
    {
     "data": {
      "image/png": "[encoded data removed]",
      "text/plain": [
       "<Figure size 781.125x360 with 2 Axes>"
      ]
     },
     "metadata": {
      "needs_background": "light"
     },
     "output_type": "display_data"
    }
   ],
   "source": [
    "g = sns.displot(data=df_plot, x='sqrt_power', hue='condition', col='region', kind='hist')\n",
    "g.set(xlabel='Delta (0.5 - 4Hz) PSD (uV^2/Hz)')\n",
    "g.tight_layout()"
   ]
  },
  {
   "cell_type": "code",
   "execution_count": 17,
   "metadata": {
    "execution": {
     "iopub.execute_input": "2021-06-12T20:05:26.711542Z",
     "iopub.status.busy": "2021-06-12T20:05:26.711399Z",
     "iopub.status.idle": "2021-06-12T20:05:26.726048Z",
     "shell.execute_reply": "2021-06-12T20:05:26.725536Z",
     "shell.execute_reply.started": "2021-06-12T20:05:26.711526Z"
    }
   },
   "outputs": [],
   "source": [
    "def get_relative_decline(df):\n",
    "    means = df.groupby('region').mean()\n",
    "    declines = means.early - means.late\n",
    "    return declines.mpta_wm_ref - declines.sr_wm_ref"
   ]
  },
  {
   "cell_type": "code",
   "execution_count": 18,
   "metadata": {
    "execution": {
     "iopub.execute_input": "2021-06-12T20:05:26.726753Z",
     "iopub.status.busy": "2021-06-12T20:05:26.726624Z",
     "iopub.status.idle": "2021-06-12T20:05:26.740484Z",
     "shell.execute_reply": "2021-06-12T20:05:26.740043Z",
     "shell.execute_reply.started": "2021-06-12T20:05:26.726736Z"
    }
   },
   "outputs": [],
   "source": [
    "def shuffle(df, key): \n",
    "    _df = df.reset_index()\n",
    "    labels = _df[key].values.reshape(-1, 2)\n",
    "    rng = np.random.default_rng()\n",
    "    rng.permuted(labels, axis=1, out=labels)\n",
    "    _df.set_index(df.index.names, inplace=True)\n",
    "    return _df"
   ]
  },
  {
   "cell_type": "code",
   "execution_count": 19,
   "metadata": {
    "execution": {
     "iopub.execute_input": "2021-06-12T20:05:26.741192Z",
     "iopub.status.busy": "2021-06-12T20:05:26.741058Z",
     "iopub.status.idle": "2021-06-12T20:05:52.307927Z",
     "shell.execute_reply": "2021-06-12T20:05:52.306263Z",
     "shell.execute_reply.started": "2021-06-12T20:05:26.741176Z"
    }
   },
   "outputs": [],
   "source": [
    "observed = get_relative_decline(df)\n",
    "\n",
    "n_permutations = 10000\n",
    "permutations = list()\n",
    "for i in range(n_permutations):\n",
    "    permuted = shuffle(df, 'region')\n",
    "    permutations.append(get_relative_decline(permuted))"
   ]
  },
  {
   "cell_type": "code",
   "execution_count": 20,
   "metadata": {
    "execution": {
     "iopub.execute_input": "2021-06-12T20:05:52.309836Z",
     "iopub.status.busy": "2021-06-12T20:05:52.309633Z",
     "iopub.status.idle": "2021-06-12T20:05:52.331692Z",
     "shell.execute_reply": "2021-06-12T20:05:52.330375Z",
     "shell.execute_reply.started": "2021-06-12T20:05:52.309816Z"
    }
   },
   "outputs": [],
   "source": [
    "perms = pd.Series(permutations).rename_axis(index='permutation').to_frame(name='relative_decline')"
   ]
  },
  {
   "cell_type": "code",
   "execution_count": 21,
   "metadata": {
    "execution": {
     "iopub.execute_input": "2021-06-12T20:05:52.332606Z",
     "iopub.status.busy": "2021-06-12T20:05:52.332469Z",
     "iopub.status.idle": "2021-06-12T20:05:52.626515Z",
     "shell.execute_reply": "2021-06-12T20:05:52.625784Z",
     "shell.execute_reply.started": "2021-06-12T20:05:52.332591Z"
    }
   },
   "outputs": [
    {
     "data": {
      "image/png": "[encoded data removed]",
      "text/plain": [
       "<Figure size 360x360 with 1 Axes>"
      ]
     },
     "metadata": {
      "needs_background": "light"
     },
     "output_type": "display_data"
    }
   ],
   "source": [
    "g = sns.displot(data=perms, x='relative_decline', kind='hist')\n",
    "g.set(xlabel='Relative decline (CX - HC)')\n",
    "g.tight_layout()"
   ]
  },
  {
   "cell_type": "code",
   "execution_count": 22,
   "metadata": {
    "execution": {
     "iopub.execute_input": "2021-06-12T20:05:52.627369Z",
     "iopub.status.busy": "2021-06-12T20:05:52.627231Z",
     "iopub.status.idle": "2021-06-12T20:05:52.640229Z",
     "shell.execute_reply": "2021-06-12T20:05:52.639538Z",
     "shell.execute_reply.started": "2021-06-12T20:05:52.627353Z"
    }
   },
   "outputs": [],
   "source": [
    "p = np.sum(perms >= observed)"
   ]
  },
  {
   "cell_type": "code",
   "execution_count": 23,
   "metadata": {
    "execution": {
     "iopub.execute_input": "2021-06-12T20:05:52.640997Z",
     "iopub.status.busy": "2021-06-12T20:05:52.640869Z",
     "iopub.status.idle": "2021-06-12T20:05:52.654542Z",
     "shell.execute_reply": "2021-06-12T20:05:52.653806Z",
     "shell.execute_reply.started": "2021-06-12T20:05:52.640980Z"
    }
   },
   "outputs": [
    {
     "name": "stdout",
     "output_type": "stream",
     "text": [
      "Subject: Alessandro\n",
      "Observed relative decline (CX - HC):\n",
      "\t21.37034797698759\n",
      "Shuffled >= observed:\n",
      "\t1 / 10000\n"
     ]
    }
   ],
   "source": [
    "print(f\"Subject: {subject}\")\n",
    "print('Observed relative decline (CX - HC):')\n",
    "print(f'\\t{observed}')\n",
    "print('Shuffled >= observed:')\n",
    "print(f\"\\t{1 + p.squeeze()} / {n_permutations}\")"
   ]
  },
  {
   "cell_type": "code",
   "execution_count": null,
   "metadata": {},
   "outputs": [],
   "source": []
  }
 ],
 "metadata": {
  "kernelspec": {
   "display_name": "Python 3",
   "language": "python",
   "name": "python3"
  },
  "language_info": {
   "codemirror_mode": {
    "name": "ipython",
    "version": 3
   },
   "file_extension": ".py",
   "mimetype": "text/x-python",
   "name": "python",
   "nbconvert_exporter": "python",
   "pygments_lexer": "ipython3",
   "version": "3.7.9"
  }
 },
 "nbformat": 4,
 "nbformat_minor": 4
}
