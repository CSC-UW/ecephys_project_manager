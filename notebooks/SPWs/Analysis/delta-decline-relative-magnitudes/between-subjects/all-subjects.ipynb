{
 "cells": [
  {
   "cell_type": "code",
   "execution_count": 8,
   "metadata": {
    "execution": {
     "iopub.execute_input": "2021-06-11T15:09:48.656553Z",
     "iopub.status.busy": "2021-06-11T15:09:48.656078Z",
     "iopub.status.idle": "2021-06-11T15:09:48.674920Z",
     "shell.execute_reply": "2021-06-11T15:09:48.674284Z",
     "shell.execute_reply.started": "2021-06-11T15:09:48.656495Z"
    }
   },
   "outputs": [
    {
     "name": "stdout",
     "output_type": "stream",
     "text": [
      "The autoreload extension is already loaded. To reload it, use:\n",
      "  %reload_ext autoreload\n"
     ]
    }
   ],
   "source": [
    "%load_ext autoreload\n",
    "%autoreload 2"
   ]
  },
  {
   "cell_type": "code",
   "execution_count": 9,
   "metadata": {
    "execution": {
     "iopub.execute_input": "2021-06-11T15:09:48.940877Z",
     "iopub.status.busy": "2021-06-11T15:09:48.940574Z",
     "iopub.status.idle": "2021-06-11T15:09:48.955249Z",
     "shell.execute_reply": "2021-06-11T15:09:48.954752Z",
     "shell.execute_reply.started": "2021-06-11T15:09:48.940839Z"
    }
   },
   "outputs": [],
   "source": [
    "import pandas as pd\n",
    "from scipy import stats"
   ]
  },
  {
   "cell_type": "code",
   "execution_count": 10,
   "metadata": {
    "execution": {
     "iopub.execute_input": "2021-06-11T15:09:49.230495Z",
     "iopub.status.busy": "2021-06-11T15:09:49.230181Z",
     "iopub.status.idle": "2021-06-11T15:09:49.245899Z",
     "shell.execute_reply": "2021-06-11T15:09:49.245270Z",
     "shell.execute_reply.started": "2021-06-11T15:09:49.230454Z"
    }
   },
   "outputs": [
    {
     "data": {
      "text/plain": [
       "<xarray.core.options.set_options at 0x7ff364670510>"
      ]
     },
     "execution_count": 10,
     "metadata": {},
     "output_type": "execute_result"
    }
   ],
   "source": [
    "xr.set_options(keep_attrs=True)"
   ]
  },
  {
   "cell_type": "code",
   "execution_count": 11,
   "metadata": {
    "execution": {
     "iopub.execute_input": "2021-06-11T15:09:49.486541Z",
     "iopub.status.busy": "2021-06-11T15:09:49.486224Z",
     "iopub.status.idle": "2021-06-11T15:09:49.508485Z",
     "shell.execute_reply": "2021-06-11T15:09:49.507866Z",
     "shell.execute_reply.started": "2021-06-11T15:09:49.486500Z"
    }
   },
   "outputs": [
    {
     "name": "stdout",
     "output_type": "stream",
     "text": [
      "| subject    |   early_minus_late |\n",
      "|:-----------|-------------------:|\n",
      "| Segundo    |           129.62   |\n",
      "| Valentino  |            79.9561 |\n",
      "| Doppio     |           104.764  |\n",
      "| Alessandro |            71.854  |\n",
      "| Allan      |           170.554  |\n"
     ]
    }
   ],
   "source": [
    "cx = pd.DataFrame({'subject': ['Segundo', 'Valentino', 'Doppio', 'Alessandro', 'Allan'], 'early_minus_late': [129.62, 79.9561, 104.764, 71.854, 170.554]}).set_index('subject')\n",
    "print(cx.to_markdown())"
   ]
  },
  {
   "cell_type": "code",
   "execution_count": 12,
   "metadata": {
    "execution": {
     "iopub.execute_input": "2021-06-11T15:09:49.958821Z",
     "iopub.status.busy": "2021-06-11T15:09:49.958417Z",
     "iopub.status.idle": "2021-06-11T15:09:49.978273Z",
     "shell.execute_reply": "2021-06-11T15:09:49.977687Z",
     "shell.execute_reply.started": "2021-06-11T15:09:49.958770Z"
    }
   },
   "outputs": [
    {
     "data": {
      "text/plain": [
       "Ttest_1sampResult(statistic=array([6.21116119]), pvalue=array([0.00341904]))"
      ]
     },
     "execution_count": 12,
     "metadata": {},
     "output_type": "execute_result"
    }
   ],
   "source": [
    "stats.ttest_1samp(cx, 0)"
   ]
  },
  {
   "cell_type": "code",
   "execution_count": 13,
   "metadata": {
    "execution": {
     "iopub.execute_input": "2021-06-11T15:10:36.139946Z",
     "iopub.status.busy": "2021-06-11T15:10:36.139412Z",
     "iopub.status.idle": "2021-06-11T15:10:36.166251Z",
     "shell.execute_reply": "2021-06-11T15:10:36.165783Z",
     "shell.execute_reply.started": "2021-06-11T15:10:36.139910Z"
    }
   },
   "outputs": [
    {
     "name": "stdout",
     "output_type": "stream",
     "text": [
      "| subject    |   early_minus_late |\n",
      "|:-----------|-------------------:|\n",
      "| Segundo    |            37.4349 |\n",
      "| Valentino  |            22.705  |\n",
      "| Doppio     |            44.1803 |\n",
      "| Alessandro |            49.9727 |\n",
      "| Allan      |            38.0949 |\n"
     ]
    }
   ],
   "source": [
    "hc = pd.DataFrame({'subject': ['Segundo', 'Valentino', 'Doppio', 'Alessandro', 'Allan'], 'early_minus_late': [37.4349, 22.705, 44.1803, 49.9727, 38.0949]}).set_index('subject')\n",
    "print(hc.to_markdown())"
   ]
  },
  {
   "cell_type": "code",
   "execution_count": 14,
   "metadata": {
    "execution": {
     "iopub.execute_input": "2021-06-11T15:10:36.600461Z",
     "iopub.status.busy": "2021-06-11T15:10:36.600175Z",
     "iopub.status.idle": "2021-06-11T15:10:36.621338Z",
     "shell.execute_reply": "2021-06-11T15:10:36.620716Z",
     "shell.execute_reply.started": "2021-06-11T15:10:36.600427Z"
    }
   },
   "outputs": [
    {
     "data": {
      "text/plain": [
       "Ttest_1sampResult(statistic=array([8.4503158]), pvalue=array([0.00107439]))"
      ]
     },
     "execution_count": 14,
     "metadata": {},
     "output_type": "execute_result"
    }
   ],
   "source": [
    "stats.ttest_1samp(hc, 0)"
   ]
  },
  {
   "cell_type": "code",
   "execution_count": null,
   "metadata": {},
   "outputs": [],
   "source": []
  }
 ],
 "metadata": {
  "kernelspec": {
   "display_name": "Python 3",
   "language": "python",
   "name": "python3"
  },
  "language_info": {
   "codemirror_mode": {
    "name": "ipython",
    "version": 3
   },
   "file_extension": ".py",
   "mimetype": "text/x-python",
   "name": "python",
   "nbconvert_exporter": "python",
   "pygments_lexer": "ipython3",
   "version": "3.7.9"
  }
 },
 "nbformat": 4,
 "nbformat_minor": 4
}
