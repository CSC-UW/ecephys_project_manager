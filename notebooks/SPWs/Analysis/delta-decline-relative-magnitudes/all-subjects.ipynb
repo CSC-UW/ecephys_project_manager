{
 "cells": [
  {
   "cell_type": "code",
   "execution_count": 10,
   "metadata": {
    "execution": {
     "iopub.execute_input": "2021-06-14T19:12:27.263369Z",
     "iopub.status.busy": "2021-06-14T19:12:27.262935Z",
     "iopub.status.idle": "2021-06-14T19:12:27.282773Z",
     "shell.execute_reply": "2021-06-14T19:12:27.282294Z",
     "shell.execute_reply.started": "2021-06-14T19:12:27.263315Z"
    }
   },
   "outputs": [
    {
     "name": "stdout",
     "output_type": "stream",
     "text": [
      "The autoreload extension is already loaded. To reload it, use:\n",
      "  %reload_ext autoreload\n"
     ]
    }
   ],
   "source": [
    "%load_ext autoreload\n",
    "%autoreload 2"
   ]
  },
  {
   "cell_type": "code",
   "execution_count": 11,
   "metadata": {
    "execution": {
     "iopub.execute_input": "2021-06-14T19:12:27.474159Z",
     "iopub.status.busy": "2021-06-14T19:12:27.473964Z",
     "iopub.status.idle": "2021-06-14T19:12:27.488432Z",
     "shell.execute_reply": "2021-06-14T19:12:27.487893Z",
     "shell.execute_reply.started": "2021-06-14T19:12:27.474134Z"
    }
   },
   "outputs": [],
   "source": [
    "import pandas as pd\n",
    "from scipy import stats"
   ]
  },
  {
   "cell_type": "code",
   "execution_count": 12,
   "metadata": {
    "execution": {
     "iopub.execute_input": "2021-06-14T19:12:27.755539Z",
     "iopub.status.busy": "2021-06-14T19:12:27.755230Z",
     "iopub.status.idle": "2021-06-14T19:12:27.775054Z",
     "shell.execute_reply": "2021-06-14T19:12:27.774439Z",
     "shell.execute_reply.started": "2021-06-14T19:12:27.755503Z"
    }
   },
   "outputs": [
    {
     "name": "stdout",
     "output_type": "stream",
     "text": [
      "| subject    |   relative_decline |\n",
      "|:-----------|-------------------:|\n",
      "| Segundo    |             92.746 |\n",
      "| Valentino  |             57.251 |\n",
      "| Doppio     |             59.827 |\n",
      "| Alessandro |             21.37  |\n",
      "| Allan      |            141.173 |\n"
     ]
    }
   ],
   "source": [
    "df = pd.DataFrame({'subject': ['Segundo', 'Valentino', 'Doppio', 'Alessandro', 'Allan'], 'relative_decline': [92.746, 57.251, 59.827, 21.370, 141.173]}).set_index('subject')\n",
    "print(df.to_markdown())"
   ]
  },
  {
   "cell_type": "code",
   "execution_count": 13,
   "metadata": {
    "execution": {
     "iopub.execute_input": "2021-06-14T19:12:28.035663Z",
     "iopub.status.busy": "2021-06-14T19:12:28.035420Z",
     "iopub.status.idle": "2021-06-14T19:12:28.053864Z",
     "shell.execute_reply": "2021-06-14T19:12:28.053334Z",
     "shell.execute_reply.started": "2021-06-14T19:12:28.035632Z"
    }
   },
   "outputs": [
    {
     "data": {
      "text/plain": [
       "Ttest_1sampResult(statistic=array([3.69745924]), pvalue=array([0.02088182]))"
      ]
     },
     "execution_count": 13,
     "metadata": {},
     "output_type": "execute_result"
    }
   ],
   "source": [
    "stats.ttest_1samp(df, 0)"
   ]
  },
  {
   "cell_type": "code",
   "execution_count": 14,
   "metadata": {
    "execution": {
     "iopub.execute_input": "2021-06-14T19:12:28.316087Z",
     "iopub.status.busy": "2021-06-14T19:12:28.315658Z",
     "iopub.status.idle": "2021-06-14T19:12:28.539712Z",
     "shell.execute_reply": "2021-06-14T19:12:28.539057Z",
     "shell.execute_reply.started": "2021-06-14T19:12:28.316032Z"
    }
   },
   "outputs": [
    {
     "data": {
      "text/plain": [
       "<AxesSubplot:xlabel='group', ylabel='relative_decline'>"
      ]
     },
     "execution_count": 14,
     "metadata": {},
     "output_type": "execute_result"
    },
    {
     "data": {
      "image/png": "[encoded data removed]",
      "text/plain": [
       "<Figure size 432x576 with 1 Axes>"
      ]
     },
     "metadata": {
      "needs_background": "light"
     },
     "output_type": "display_data"
    }
   ],
   "source": [
    "import seaborn as sns\n",
    "import matplotlib.pyplot as plt\n",
    "\n",
    "fig, ax = plt.subplots(figsize=(6, 8))\n",
    "sns.boxplot(data=df.reset_index(), y='relative_decline', ax=ax)\n",
    "sns.swarmplot(data=df.assign(group='all_subjects').reset_index(), x='group', y='relative_decline', hue='subject', ax=ax)"
   ]
  },
  {
   "cell_type": "code",
   "execution_count": null,
   "metadata": {},
   "outputs": [],
   "source": []
  }
 ],
 "metadata": {
  "kernelspec": {
   "display_name": "Python 3",
   "language": "python",
   "name": "python3"
  },
  "language_info": {
   "codemirror_mode": {
    "name": "ipython",
    "version": 3
   },
   "file_extension": ".py",
   "mimetype": "text/x-python",
   "name": "python",
   "nbconvert_exporter": "python",
   "pygments_lexer": "ipython3",
   "version": "3.7.9"
  }
 },
 "nbformat": 4,
 "nbformat_minor": 4
}
