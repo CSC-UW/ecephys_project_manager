{
 "cells": [
  {
   "cell_type": "code",
   "execution_count": 1,
   "metadata": {
    "execution": {
     "iopub.execute_input": "2021-06-12T20:05:11.997071Z",
     "iopub.status.busy": "2021-06-12T20:05:11.996550Z",
     "iopub.status.idle": "2021-06-12T20:05:12.011367Z",
     "shell.execute_reply": "2021-06-12T20:05:12.010320Z",
     "shell.execute_reply.started": "2021-06-12T20:05:11.996920Z"
    }
   },
   "outputs": [],
   "source": [
    "%load_ext autoreload\n",
    "%autoreload 2"
   ]
  },
  {
   "cell_type": "code",
   "execution_count": 2,
   "metadata": {
    "execution": {
     "iopub.execute_input": "2021-06-12T20:05:12.012280Z",
     "iopub.status.busy": "2021-06-12T20:05:12.012151Z",
     "iopub.status.idle": "2021-06-12T20:05:12.564946Z",
     "shell.execute_reply": "2021-06-12T20:05:12.564492Z",
     "shell.execute_reply.started": "2021-06-12T20:05:12.012264Z"
    }
   },
   "outputs": [],
   "source": [
    "# %matplotlib widget\n",
    "import matplotlib.pyplot as plt\n",
    "import seaborn as sns"
   ]
  },
  {
   "cell_type": "code",
   "execution_count": 3,
   "metadata": {
    "execution": {
     "iopub.execute_input": "2021-06-12T20:05:12.566073Z",
     "iopub.status.busy": "2021-06-12T20:05:12.565928Z",
     "iopub.status.idle": "2021-06-12T20:05:12.840106Z",
     "shell.execute_reply": "2021-06-12T20:05:12.839577Z",
     "shell.execute_reply.started": "2021-06-12T20:05:12.566056Z"
    }
   },
   "outputs": [],
   "source": [
    "import xarray as xr\n",
    "import numpy as np\n",
    "import pandas as pd"
   ]
  },
  {
   "cell_type": "code",
   "execution_count": 4,
   "metadata": {
    "execution": {
     "iopub.execute_input": "2021-06-12T20:05:12.841174Z",
     "iopub.status.busy": "2021-06-12T20:05:12.841024Z",
     "iopub.status.idle": "2021-06-12T20:05:12.853984Z",
     "shell.execute_reply": "2021-06-12T20:05:12.853498Z",
     "shell.execute_reply.started": "2021-06-12T20:05:12.841157Z"
    }
   },
   "outputs": [
    {
     "data": {
      "text/plain": [
       "<xarray.core.options.set_options at 0x7f4868525290>"
      ]
     },
     "execution_count": 4,
     "metadata": {},
     "output_type": "execute_result"
    }
   ],
   "source": [
    "xr.set_options(keep_attrs=True)"
   ]
  },
  {
   "cell_type": "code",
   "execution_count": 5,
   "metadata": {
    "execution": {
     "iopub.execute_input": "2021-06-12T20:05:12.854756Z",
     "iopub.status.busy": "2021-06-12T20:05:12.854626Z",
     "iopub.status.idle": "2021-06-12T20:05:12.867144Z",
     "shell.execute_reply": "2021-06-12T20:05:12.866684Z",
     "shell.execute_reply.started": "2021-06-12T20:05:12.854740Z"
    }
   },
   "outputs": [],
   "source": [
    "import ecephys_analyses as ea \n",
    "from ecephys.signal.xarray_utils import filter_dataset_by_hypnogram"
   ]
  },
  {
   "cell_type": "code",
   "execution_count": 6,
   "metadata": {
    "execution": {
     "iopub.execute_input": "2021-06-12T20:05:12.867846Z",
     "iopub.status.busy": "2021-06-12T20:05:12.867723Z",
     "iopub.status.idle": "2021-06-12T20:05:12.878995Z",
     "shell.execute_reply": "2021-06-12T20:05:12.878443Z",
     "shell.execute_reply.started": "2021-06-12T20:05:12.867830Z"
    }
   },
   "outputs": [],
   "source": [
    "subject = \"Doppio\"\n",
    "experiment = \"novel_objects_deprivation\"\n",
    "norm_condition = \"light-period-circadian-match\"\n",
    "rec_condition = \"recovery-sleep\"\n",
    "states = [\"N1\", \"N2\"]\n",
    "duration = '01:00:00'\n",
    "light_period_start = '09:00:00'\n",
    "light_period_end = '21:00:00'\n",
    "f_range = (0.5, 4)"
   ]
  },
  {
   "cell_type": "code",
   "execution_count": 7,
   "metadata": {
    "execution": {
     "iopub.execute_input": "2021-06-12T20:05:12.879651Z",
     "iopub.status.busy": "2021-06-12T20:05:12.879532Z",
     "iopub.status.idle": "2021-06-12T20:05:16.513119Z",
     "shell.execute_reply": "2021-06-12T20:05:16.512583Z",
     "shell.execute_reply.started": "2021-06-12T20:05:12.879636Z"
    }
   },
   "outputs": [],
   "source": [
    "norm_hyp = ea.load_hypnogram(subject, experiment, norm_condition)\n",
    "norm_hyp = norm_hyp.keep_states(states).keep_between(light_period_start, light_period_end)\n",
    "\n",
    "norm_pow = ea.load_power(subject, experiment, norm_condition, \"spg.nc\").sel(frequency=slice(*f_range)).sum(dim=\"frequency\")\n",
    "norm_pow = filter_dataset_by_hypnogram(norm_pow, norm_hyp).swap_dims({'time': 'datetime'}).drop_vars(['time', 'timedelta'])"
   ]
  },
  {
   "cell_type": "code",
   "execution_count": 8,
   "metadata": {
    "execution": {
     "iopub.execute_input": "2021-06-12T20:05:16.514042Z",
     "iopub.status.busy": "2021-06-12T20:05:16.513894Z",
     "iopub.status.idle": "2021-06-12T20:05:17.976213Z",
     "shell.execute_reply": "2021-06-12T20:05:17.975664Z",
     "shell.execute_reply.started": "2021-06-12T20:05:16.514024Z"
    }
   },
   "outputs": [],
   "source": [
    "rec_hyp = ea.load_hypnogram(subject, experiment, rec_condition)\n",
    "rec_pow = ea.load_power(subject, experiment, rec_condition, \"spg.nc\").sel(frequency=slice(*f_range)).sum(dim='frequency')\n",
    "rec_pow = rec_pow / norm_pow.mean(dim=\"datetime\") * 100"
   ]
  },
  {
   "cell_type": "code",
   "execution_count": 9,
   "metadata": {
    "execution": {
     "iopub.execute_input": "2021-06-12T20:05:17.977802Z",
     "iopub.status.busy": "2021-06-12T20:05:17.977640Z",
     "iopub.status.idle": "2021-06-12T20:05:18.056708Z",
     "shell.execute_reply": "2021-06-12T20:05:18.056204Z",
     "shell.execute_reply.started": "2021-06-12T20:05:17.977784Z"
    }
   },
   "outputs": [],
   "source": [
    "early_hyp = rec_hyp.keep_states(states).keep_first(duration)\n",
    "early_pow = filter_dataset_by_hypnogram(rec_pow, early_hyp).swap_dims({'time': 'datetime'}).drop_vars(['time', 'timedelta'])"
   ]
  },
  {
   "cell_type": "code",
   "execution_count": 10,
   "metadata": {
    "execution": {
     "iopub.execute_input": "2021-06-12T20:05:18.057780Z",
     "iopub.status.busy": "2021-06-12T20:05:18.057649Z",
     "iopub.status.idle": "2021-06-12T20:05:18.154099Z",
     "shell.execute_reply": "2021-06-12T20:05:18.153545Z",
     "shell.execute_reply.started": "2021-06-12T20:05:18.057763Z"
    }
   },
   "outputs": [],
   "source": [
    "late_hyp = rec_hyp.keep_states(states).keep_last(duration)\n",
    "late_pow = filter_dataset_by_hypnogram(rec_pow, late_hyp).swap_dims({'time': 'datetime'}).drop_vars(['time', 'timedelta'])"
   ]
  },
  {
   "cell_type": "code",
   "execution_count": 11,
   "metadata": {
    "execution": {
     "iopub.execute_input": "2021-06-12T20:05:18.155039Z",
     "iopub.status.busy": "2021-06-12T20:05:18.154745Z",
     "iopub.status.idle": "2021-06-12T20:05:18.166142Z",
     "shell.execute_reply": "2021-06-12T20:05:18.165525Z",
     "shell.execute_reply.started": "2021-06-12T20:05:18.155013Z"
    }
   },
   "outputs": [],
   "source": [
    "def match_lengths(dataframes):\n",
    "    length = min(list(map(len, dataframes)))\n",
    "    return (df.iloc[:length] for df in dataframes)"
   ]
  },
  {
   "cell_type": "code",
   "execution_count": 12,
   "metadata": {
    "execution": {
     "iopub.execute_input": "2021-06-12T20:05:18.166886Z",
     "iopub.status.busy": "2021-06-12T20:05:18.166763Z",
     "iopub.status.idle": "2021-06-12T20:05:18.182613Z",
     "shell.execute_reply": "2021-06-12T20:05:18.182088Z",
     "shell.execute_reply.started": "2021-06-12T20:05:18.166871Z"
    }
   },
   "outputs": [],
   "source": [
    "early_df = early_pow.to_dataframe().reset_index(drop=True).rename_axis(index='pair', columns='region').stack().to_frame(name='early')\n",
    "late_df = late_pow.to_dataframe().reset_index(drop=True).rename_axis(index='pair', columns='region').stack().to_frame(name='late')\n",
    "early_df, late_df = match_lengths((early_df, late_df))\n",
    "df = early_df.join(late_df).rename_axis(columns='condition')"
   ]
  },
  {
   "cell_type": "code",
   "execution_count": 13,
   "metadata": {
    "execution": {
     "iopub.execute_input": "2021-06-12T20:05:18.183301Z",
     "iopub.status.busy": "2021-06-12T20:05:18.183178Z",
     "iopub.status.idle": "2021-06-12T20:05:18.196916Z",
     "shell.execute_reply": "2021-06-12T20:05:18.196525Z",
     "shell.execute_reply.started": "2021-06-12T20:05:18.183285Z"
    }
   },
   "outputs": [],
   "source": [
    "df_plot = df.stack().to_frame(name='power')\n",
    "df_plot['log_power'] = np.log(df_plot.power)\n",
    "df_plot['sqrt_power'] = np.sqrt(df_plot.power)"
   ]
  },
  {
   "cell_type": "code",
   "execution_count": 14,
   "metadata": {
    "execution": {
     "iopub.execute_input": "2021-06-12T20:05:18.197604Z",
     "iopub.status.busy": "2021-06-12T20:05:18.197480Z",
     "iopub.status.idle": "2021-06-12T20:05:19.074604Z",
     "shell.execute_reply": "2021-06-12T20:05:19.073858Z",
     "shell.execute_reply.started": "2021-06-12T20:05:18.197588Z"
    }
   },
   "outputs": [
    {
     "data": {
      "image/png": "[encoded data removed]",
      "text/plain": [
       "<Figure size 781.125x360 with 2 Axes>"
      ]
     },
     "metadata": {
      "needs_background": "light"
     },
     "output_type": "display_data"
    }
   ],
   "source": [
    "g = sns.displot(data=df_plot, x='power', hue='condition', col='region', kind='hist')\n",
    "g.set(xlabel='Delta (0.5 - 4Hz) PSD (uV^2/Hz)')\n",
    "g.tight_layout()"
   ]
  },
  {
   "cell_type": "code",
   "execution_count": 15,
   "metadata": {
    "execution": {
     "iopub.execute_input": "2021-06-12T20:05:19.075962Z",
     "iopub.status.busy": "2021-06-12T20:05:19.075727Z",
     "iopub.status.idle": "2021-06-12T20:05:19.816298Z",
     "shell.execute_reply": "2021-06-12T20:05:19.815745Z",
     "shell.execute_reply.started": "2021-06-12T20:05:19.075931Z"
    }
   },
   "outputs": [
    {
     "data": {
      "image/png": "[encoded data removed]",
      "text/plain": [
       "<Figure size 781.125x360 with 2 Axes>"
      ]
     },
     "metadata": {
      "needs_background": "light"
     },
     "output_type": "display_data"
    }
   ],
   "source": [
    "g = sns.displot(data=df_plot, x='log_power', hue='condition', col='region', kind='hist')\n",
    "g.set(xlabel='Delta (0.5 - 4Hz) PSD (uV^2/Hz)')\n",
    "g.tight_layout()"
   ]
  },
  {
   "cell_type": "code",
   "execution_count": 16,
   "metadata": {
    "execution": {
     "iopub.execute_input": "2021-06-12T20:05:19.817130Z",
     "iopub.status.busy": "2021-06-12T20:05:19.816985Z",
     "iopub.status.idle": "2021-06-12T20:05:20.689615Z",
     "shell.execute_reply": "2021-06-12T20:05:20.688804Z",
     "shell.execute_reply.started": "2021-06-12T20:05:19.817106Z"
    }
   },
   "outputs": [
    {
     "data": {
      "image/png": "[encoded data removed]",
      "text/plain": [
       "<Figure size 781.125x360 with 2 Axes>"
      ]
     },
     "metadata": {
      "needs_background": "light"
     },
     "output_type": "display_data"
    }
   ],
   "source": [
    "g = sns.displot(data=df_plot, x='sqrt_power', hue='condition', col='region', kind='hist')\n",
    "g.set(xlabel='Delta (0.5 - 4Hz) PSD (uV^2/Hz)')\n",
    "g.tight_layout()"
   ]
  },
  {
   "cell_type": "code",
   "execution_count": 17,
   "metadata": {
    "execution": {
     "iopub.execute_input": "2021-06-12T20:05:20.690700Z",
     "iopub.status.busy": "2021-06-12T20:05:20.690549Z",
     "iopub.status.idle": "2021-06-12T20:05:20.706357Z",
     "shell.execute_reply": "2021-06-12T20:05:20.705476Z",
     "shell.execute_reply.started": "2021-06-12T20:05:20.690681Z"
    }
   },
   "outputs": [],
   "source": [
    "def get_relative_decline(df):\n",
    "    means = df.groupby('region').mean()\n",
    "    declines = means.early - means.late\n",
    "    return declines.mpta_wm_ref - declines.sr_wm_ref"
   ]
  },
  {
   "cell_type": "code",
   "execution_count": 18,
   "metadata": {
    "execution": {
     "iopub.execute_input": "2021-06-12T20:05:20.707252Z",
     "iopub.status.busy": "2021-06-12T20:05:20.707125Z",
     "iopub.status.idle": "2021-06-12T20:05:20.719772Z",
     "shell.execute_reply": "2021-06-12T20:05:20.718824Z",
     "shell.execute_reply.started": "2021-06-12T20:05:20.707236Z"
    }
   },
   "outputs": [],
   "source": [
    "def shuffle(df, key): \n",
    "    _df = df.reset_index()\n",
    "    labels = _df[key].values.reshape(-1, 2)\n",
    "    rng = np.random.default_rng()\n",
    "    rng.permuted(labels, axis=1, out=labels)\n",
    "    _df.set_index(df.index.names, inplace=True)\n",
    "    return _df"
   ]
  },
  {
   "cell_type": "code",
   "execution_count": 19,
   "metadata": {
    "execution": {
     "iopub.execute_input": "2021-06-12T20:05:20.720532Z",
     "iopub.status.busy": "2021-06-12T20:05:20.720413Z",
     "iopub.status.idle": "2021-06-12T20:05:46.743245Z",
     "shell.execute_reply": "2021-06-12T20:05:46.741955Z",
     "shell.execute_reply.started": "2021-06-12T20:05:20.720517Z"
    }
   },
   "outputs": [],
   "source": [
    "observed = get_relative_decline(df)\n",
    "\n",
    "n_permutations = 10000\n",
    "permutations = list()\n",
    "for i in range(n_permutations):\n",
    "    permuted = shuffle(df, 'region')\n",
    "    permutations.append(get_relative_decline(permuted))"
   ]
  },
  {
   "cell_type": "code",
   "execution_count": 20,
   "metadata": {
    "execution": {
     "iopub.execute_input": "2021-06-12T20:05:46.744618Z",
     "iopub.status.busy": "2021-06-12T20:05:46.744436Z",
     "iopub.status.idle": "2021-06-12T20:05:46.762878Z",
     "shell.execute_reply": "2021-06-12T20:05:46.762079Z",
     "shell.execute_reply.started": "2021-06-12T20:05:46.744597Z"
    }
   },
   "outputs": [],
   "source": [
    "perms = pd.Series(permutations).rename_axis(index='permutation').to_frame(name='relative_decline')"
   ]
  },
  {
   "cell_type": "code",
   "execution_count": 21,
   "metadata": {
    "execution": {
     "iopub.execute_input": "2021-06-12T20:05:46.763706Z",
     "iopub.status.busy": "2021-06-12T20:05:46.763577Z",
     "iopub.status.idle": "2021-06-12T20:05:47.048936Z",
     "shell.execute_reply": "2021-06-12T20:05:47.048270Z",
     "shell.execute_reply.started": "2021-06-12T20:05:46.763690Z"
    }
   },
   "outputs": [
    {
     "data": {
      "image/png": "[encoded data removed]",
      "text/plain": [
       "<Figure size 360x360 with 1 Axes>"
      ]
     },
     "metadata": {
      "needs_background": "light"
     },
     "output_type": "display_data"
    }
   ],
   "source": [
    "g = sns.displot(data=perms, x='relative_decline', kind='hist')\n",
    "g.set(xlabel='Relative decline (CX - HC)')\n",
    "g.tight_layout()"
   ]
  },
  {
   "cell_type": "code",
   "execution_count": 22,
   "metadata": {
    "execution": {
     "iopub.execute_input": "2021-06-12T20:05:47.049718Z",
     "iopub.status.busy": "2021-06-12T20:05:47.049594Z",
     "iopub.status.idle": "2021-06-12T20:05:47.060532Z",
     "shell.execute_reply": "2021-06-12T20:05:47.059765Z",
     "shell.execute_reply.started": "2021-06-12T20:05:47.049702Z"
    }
   },
   "outputs": [],
   "source": [
    "p = np.sum(perms >= observed)"
   ]
  },
  {
   "cell_type": "code",
   "execution_count": 23,
   "metadata": {
    "execution": {
     "iopub.execute_input": "2021-06-12T20:05:47.061274Z",
     "iopub.status.busy": "2021-06-12T20:05:47.061148Z",
     "iopub.status.idle": "2021-06-12T20:05:47.074229Z",
     "shell.execute_reply": "2021-06-12T20:05:47.073241Z",
     "shell.execute_reply.started": "2021-06-12T20:05:47.061258Z"
    }
   },
   "outputs": [
    {
     "name": "stdout",
     "output_type": "stream",
     "text": [
      "Subject: Doppio\n",
      "Observed relative decline (CX - HC):\n",
      "\t59.8272464617703\n",
      "Shuffled >= observed:\n",
      "\t1 / 10000\n"
     ]
    }
   ],
   "source": [
    "print(f\"Subject: {subject}\")\n",
    "print('Observed relative decline (CX - HC):')\n",
    "print(f'\\t{observed}')\n",
    "print('Shuffled >= observed:')\n",
    "print(f\"\\t{1 + p.squeeze()} / {n_permutations}\")"
   ]
  },
  {
   "cell_type": "code",
   "execution_count": null,
   "metadata": {},
   "outputs": [],
   "source": []
  }
 ],
 "metadata": {
  "kernelspec": {
   "display_name": "Python 3",
   "language": "python",
   "name": "python3"
  },
  "language_info": {
   "codemirror_mode": {
    "name": "ipython",
    "version": 3
   },
   "file_extension": ".py",
   "mimetype": "text/x-python",
   "name": "python",
   "nbconvert_exporter": "python",
   "pygments_lexer": "ipython3",
   "version": "3.7.9"
  }
 },
 "nbformat": 4,
 "nbformat_minor": 4
}
