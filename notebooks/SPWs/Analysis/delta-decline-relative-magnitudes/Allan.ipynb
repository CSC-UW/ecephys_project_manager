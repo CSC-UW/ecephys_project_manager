{
 "cells": [
  {
   "cell_type": "code",
   "execution_count": 1,
   "metadata": {
    "execution": {
     "iopub.execute_input": "2021-06-12T20:05:19.254406Z",
     "iopub.status.busy": "2021-06-12T20:05:19.253862Z",
     "iopub.status.idle": "2021-06-12T20:05:19.267345Z",
     "shell.execute_reply": "2021-06-12T20:05:19.266697Z",
     "shell.execute_reply.started": "2021-06-12T20:05:19.254242Z"
    }
   },
   "outputs": [],
   "source": [
    "%load_ext autoreload\n",
    "%autoreload 2"
   ]
  },
  {
   "cell_type": "code",
   "execution_count": 2,
   "metadata": {
    "execution": {
     "iopub.execute_input": "2021-06-12T20:05:19.268326Z",
     "iopub.status.busy": "2021-06-12T20:05:19.268189Z",
     "iopub.status.idle": "2021-06-12T20:05:19.904812Z",
     "shell.execute_reply": "2021-06-12T20:05:19.904093Z",
     "shell.execute_reply.started": "2021-06-12T20:05:19.268308Z"
    }
   },
   "outputs": [],
   "source": [
    "# %matplotlib widget\n",
    "import matplotlib.pyplot as plt\n",
    "import seaborn as sns"
   ]
  },
  {
   "cell_type": "code",
   "execution_count": 3,
   "metadata": {
    "execution": {
     "iopub.execute_input": "2021-06-12T20:05:19.906016Z",
     "iopub.status.busy": "2021-06-12T20:05:19.905875Z",
     "iopub.status.idle": "2021-06-12T20:05:20.201526Z",
     "shell.execute_reply": "2021-06-12T20:05:20.200750Z",
     "shell.execute_reply.started": "2021-06-12T20:05:19.905999Z"
    }
   },
   "outputs": [],
   "source": [
    "import xarray as xr\n",
    "import numpy as np\n",
    "import pandas as pd"
   ]
  },
  {
   "cell_type": "code",
   "execution_count": 4,
   "metadata": {
    "execution": {
     "iopub.execute_input": "2021-06-12T20:05:20.202565Z",
     "iopub.status.busy": "2021-06-12T20:05:20.202427Z",
     "iopub.status.idle": "2021-06-12T20:05:20.216891Z",
     "shell.execute_reply": "2021-06-12T20:05:20.216257Z",
     "shell.execute_reply.started": "2021-06-12T20:05:20.202548Z"
    }
   },
   "outputs": [
    {
     "data": {
      "text/plain": [
       "<xarray.core.options.set_options at 0x7f012d2d4a10>"
      ]
     },
     "execution_count": 4,
     "metadata": {},
     "output_type": "execute_result"
    }
   ],
   "source": [
    "xr.set_options(keep_attrs=True)"
   ]
  },
  {
   "cell_type": "code",
   "execution_count": 5,
   "metadata": {
    "execution": {
     "iopub.execute_input": "2021-06-12T20:05:20.217658Z",
     "iopub.status.busy": "2021-06-12T20:05:20.217536Z",
     "iopub.status.idle": "2021-06-12T20:05:20.230017Z",
     "shell.execute_reply": "2021-06-12T20:05:20.229389Z",
     "shell.execute_reply.started": "2021-06-12T20:05:20.217642Z"
    }
   },
   "outputs": [],
   "source": [
    "import ecephys_analyses as ea \n",
    "from ecephys.signal.xarray_utils import filter_dataset_by_hypnogram"
   ]
  },
  {
   "cell_type": "code",
   "execution_count": 6,
   "metadata": {
    "execution": {
     "iopub.execute_input": "2021-06-12T20:05:20.230748Z",
     "iopub.status.busy": "2021-06-12T20:05:20.230629Z",
     "iopub.status.idle": "2021-06-12T20:05:20.241810Z",
     "shell.execute_reply": "2021-06-12T20:05:20.241160Z",
     "shell.execute_reply.started": "2021-06-12T20:05:20.230731Z"
    }
   },
   "outputs": [],
   "source": [
    "subject = \"Allan\"\n",
    "experiment = \"sleep-homeostasis\"\n",
    "norm_condition = \"light-period-circadian-match\"\n",
    "rec_condition = \"recovery-sleep\"\n",
    "states = [\"N1\", \"N2\"]\n",
    "duration = '01:00:00'\n",
    "light_period_start = '09:00:00'\n",
    "light_period_end = '21:00:00'\n",
    "f_range = (0.5, 4)"
   ]
  },
  {
   "cell_type": "code",
   "execution_count": 7,
   "metadata": {
    "execution": {
     "iopub.execute_input": "2021-06-12T20:05:20.242520Z",
     "iopub.status.busy": "2021-06-12T20:05:20.242397Z",
     "iopub.status.idle": "2021-06-12T20:05:25.075375Z",
     "shell.execute_reply": "2021-06-12T20:05:25.074116Z",
     "shell.execute_reply.started": "2021-06-12T20:05:20.242505Z"
    }
   },
   "outputs": [],
   "source": [
    "norm_hyp = ea.load_hypnogram(subject, experiment, norm_condition)\n",
    "norm_hyp = norm_hyp.keep_states(states).keep_between(light_period_start, light_period_end)\n",
    "\n",
    "norm_pow = ea.load_power(subject, experiment, norm_condition, \"spg.nc\").sel(frequency=slice(*f_range)).sum(dim=\"frequency\")\n",
    "norm_pow = filter_dataset_by_hypnogram(norm_pow, norm_hyp).swap_dims({'time': 'datetime'}).drop_vars(['time', 'timedelta'])"
   ]
  },
  {
   "cell_type": "code",
   "execution_count": 8,
   "metadata": {
    "execution": {
     "iopub.execute_input": "2021-06-12T20:05:25.077008Z",
     "iopub.status.busy": "2021-06-12T20:05:25.076833Z",
     "iopub.status.idle": "2021-06-12T20:05:26.474379Z",
     "shell.execute_reply": "2021-06-12T20:05:26.473512Z",
     "shell.execute_reply.started": "2021-06-12T20:05:25.076988Z"
    }
   },
   "outputs": [],
   "source": [
    "rec_hyp = ea.load_hypnogram(subject, experiment, rec_condition)\n",
    "rec_pow = ea.load_power(subject, experiment, rec_condition, \"spg.nc\").sel(frequency=slice(*f_range)).sum(dim='frequency')\n",
    "rec_pow = rec_pow / norm_pow.mean(dim=\"datetime\") * 100"
   ]
  },
  {
   "cell_type": "code",
   "execution_count": 9,
   "metadata": {
    "execution": {
     "iopub.execute_input": "2021-06-12T20:05:26.475506Z",
     "iopub.status.busy": "2021-06-12T20:05:26.475338Z",
     "iopub.status.idle": "2021-06-12T20:05:26.523568Z",
     "shell.execute_reply": "2021-06-12T20:05:26.522845Z",
     "shell.execute_reply.started": "2021-06-12T20:05:26.475485Z"
    }
   },
   "outputs": [],
   "source": [
    "early_hyp = rec_hyp.keep_states(states).keep_first(duration)\n",
    "early_pow = filter_dataset_by_hypnogram(rec_pow, early_hyp).swap_dims({'time': 'datetime'}).drop_vars(['time', 'timedelta'])"
   ]
  },
  {
   "cell_type": "code",
   "execution_count": 10,
   "metadata": {
    "execution": {
     "iopub.execute_input": "2021-06-12T20:05:26.525586Z",
     "iopub.status.busy": "2021-06-12T20:05:26.525427Z",
     "iopub.status.idle": "2021-06-12T20:05:26.595348Z",
     "shell.execute_reply": "2021-06-12T20:05:26.594670Z",
     "shell.execute_reply.started": "2021-06-12T20:05:26.525568Z"
    }
   },
   "outputs": [],
   "source": [
    "late_hyp = rec_hyp.keep_states(states).keep_last(duration)\n",
    "late_pow = filter_dataset_by_hypnogram(rec_pow, late_hyp).swap_dims({'time': 'datetime'}).drop_vars(['time', 'timedelta'])"
   ]
  },
  {
   "cell_type": "code",
   "execution_count": 11,
   "metadata": {
    "execution": {
     "iopub.execute_input": "2021-06-12T20:05:26.596474Z",
     "iopub.status.busy": "2021-06-12T20:05:26.596343Z",
     "iopub.status.idle": "2021-06-12T20:05:26.607138Z",
     "shell.execute_reply": "2021-06-12T20:05:26.606349Z",
     "shell.execute_reply.started": "2021-06-12T20:05:26.596458Z"
    }
   },
   "outputs": [],
   "source": [
    "def match_lengths(dataframes):\n",
    "    length = min(list(map(len, dataframes)))\n",
    "    return (df.iloc[:length] for df in dataframes)"
   ]
  },
  {
   "cell_type": "code",
   "execution_count": 12,
   "metadata": {
    "execution": {
     "iopub.execute_input": "2021-06-12T20:05:26.607906Z",
     "iopub.status.busy": "2021-06-12T20:05:26.607779Z",
     "iopub.status.idle": "2021-06-12T20:05:26.623614Z",
     "shell.execute_reply": "2021-06-12T20:05:26.622965Z",
     "shell.execute_reply.started": "2021-06-12T20:05:26.607890Z"
    }
   },
   "outputs": [],
   "source": [
    "early_df = early_pow.to_dataframe().reset_index(drop=True).rename_axis(index='pair', columns='region').stack().to_frame(name='early')\n",
    "late_df = late_pow.to_dataframe().reset_index(drop=True).rename_axis(index='pair', columns='region').stack().to_frame(name='late')\n",
    "early_df, late_df = match_lengths((early_df, late_df))\n",
    "df = early_df.join(late_df).rename_axis(columns='condition')"
   ]
  },
  {
   "cell_type": "code",
   "execution_count": 13,
   "metadata": {
    "execution": {
     "iopub.execute_input": "2021-06-12T20:05:26.624389Z",
     "iopub.status.busy": "2021-06-12T20:05:26.624263Z",
     "iopub.status.idle": "2021-06-12T20:05:26.636573Z",
     "shell.execute_reply": "2021-06-12T20:05:26.635931Z",
     "shell.execute_reply.started": "2021-06-12T20:05:26.624372Z"
    }
   },
   "outputs": [],
   "source": [
    "df_plot = df.stack().to_frame(name='power')\n",
    "df_plot['log_power'] = np.log(df_plot.power)\n",
    "df_plot['sqrt_power'] = np.sqrt(df_plot.power)"
   ]
  },
  {
   "cell_type": "code",
   "execution_count": 14,
   "metadata": {
    "execution": {
     "iopub.execute_input": "2021-06-12T20:05:26.637384Z",
     "iopub.status.busy": "2021-06-12T20:05:26.637256Z",
     "iopub.status.idle": "2021-06-12T20:05:27.471984Z",
     "shell.execute_reply": "2021-06-12T20:05:27.471057Z",
     "shell.execute_reply.started": "2021-06-12T20:05:26.637369Z"
    }
   },
   "outputs": [
    {
     "data": {
      "image/png": "[encoded data removed]",
      "text/plain": [
       "<Figure size 781.125x360 with 2 Axes>"
      ]
     },
     "metadata": {
      "needs_background": "light"
     },
     "output_type": "display_data"
    }
   ],
   "source": [
    "g = sns.displot(data=df_plot, x='power', hue='condition', col='region', kind='hist')\n",
    "g.set(xlabel='Delta (0.5 - 4Hz) PSD (uV^2/Hz)')\n",
    "g.tight_layout()"
   ]
  },
  {
   "cell_type": "code",
   "execution_count": 15,
   "metadata": {
    "execution": {
     "iopub.execute_input": "2021-06-12T20:05:27.473510Z",
     "iopub.status.busy": "2021-06-12T20:05:27.473320Z",
     "iopub.status.idle": "2021-06-12T20:05:28.151456Z",
     "shell.execute_reply": "2021-06-12T20:05:28.150772Z",
     "shell.execute_reply.started": "2021-06-12T20:05:27.473487Z"
    }
   },
   "outputs": [
    {
     "data": {
      "image/png": "[encoded data removed]",
      "text/plain": [
       "<Figure size 781.125x360 with 2 Axes>"
      ]
     },
     "metadata": {
      "needs_background": "light"
     },
     "output_type": "display_data"
    }
   ],
   "source": [
    "g = sns.displot(data=df_plot, x='log_power', hue='condition', col='region', kind='hist')\n",
    "g.set(xlabel='Delta (0.5 - 4Hz) PSD (uV^2/Hz)')\n",
    "g.tight_layout()"
   ]
  },
  {
   "cell_type": "code",
   "execution_count": 16,
   "metadata": {
    "execution": {
     "iopub.execute_input": "2021-06-12T20:05:28.152351Z",
     "iopub.status.busy": "2021-06-12T20:05:28.152222Z",
     "iopub.status.idle": "2021-06-12T20:05:28.837473Z",
     "shell.execute_reply": "2021-06-12T20:05:28.836706Z",
     "shell.execute_reply.started": "2021-06-12T20:05:28.152335Z"
    }
   },
   "outputs": [
    {
     "data": {
      "image/png": "[encoded data removed]",
      "text/plain": [
       "<Figure size 781.125x360 with 2 Axes>"
      ]
     },
     "metadata": {
      "needs_background": "light"
     },
     "output_type": "display_data"
    }
   ],
   "source": [
    "g = sns.displot(data=df_plot, x='sqrt_power', hue='condition', col='region', kind='hist')\n",
    "g.set(xlabel='Delta (0.5 - 4Hz) PSD (uV^2/Hz)')\n",
    "g.tight_layout()"
   ]
  },
  {
   "cell_type": "code",
   "execution_count": 17,
   "metadata": {
    "execution": {
     "iopub.execute_input": "2021-06-12T20:05:28.838348Z",
     "iopub.status.busy": "2021-06-12T20:05:28.838214Z",
     "iopub.status.idle": "2021-06-12T20:05:28.850961Z",
     "shell.execute_reply": "2021-06-12T20:05:28.850115Z",
     "shell.execute_reply.started": "2021-06-12T20:05:28.838331Z"
    }
   },
   "outputs": [],
   "source": [
    "def get_relative_decline(df):\n",
    "    means = df.groupby('region').mean()\n",
    "    declines = means.early - means.late\n",
    "    return declines.mpta_wm_ref - declines.sr_wm_ref"
   ]
  },
  {
   "cell_type": "code",
   "execution_count": 18,
   "metadata": {
    "execution": {
     "iopub.execute_input": "2021-06-12T20:05:28.851751Z",
     "iopub.status.busy": "2021-06-12T20:05:28.851626Z",
     "iopub.status.idle": "2021-06-12T20:05:28.863758Z",
     "shell.execute_reply": "2021-06-12T20:05:28.862952Z",
     "shell.execute_reply.started": "2021-06-12T20:05:28.851735Z"
    }
   },
   "outputs": [],
   "source": [
    "def shuffle(df, key): \n",
    "    _df = df.reset_index()\n",
    "    labels = _df[key].values.reshape(-1, 2)\n",
    "    rng = np.random.default_rng()\n",
    "    rng.permuted(labels, axis=1, out=labels)\n",
    "    _df.set_index(df.index.names, inplace=True)\n",
    "    return _df"
   ]
  },
  {
   "cell_type": "code",
   "execution_count": 19,
   "metadata": {
    "execution": {
     "iopub.execute_input": "2021-06-12T20:05:28.864553Z",
     "iopub.status.busy": "2021-06-12T20:05:28.864429Z",
     "iopub.status.idle": "2021-06-12T20:05:53.792968Z",
     "shell.execute_reply": "2021-06-12T20:05:53.791485Z",
     "shell.execute_reply.started": "2021-06-12T20:05:28.864537Z"
    }
   },
   "outputs": [],
   "source": [
    "observed = get_relative_decline(df)\n",
    "\n",
    "n_permutations = 10000\n",
    "permutations = list()\n",
    "for i in range(n_permutations):\n",
    "    permuted = shuffle(df, 'region')\n",
    "    permutations.append(get_relative_decline(permuted))"
   ]
  },
  {
   "cell_type": "code",
   "execution_count": 20,
   "metadata": {
    "execution": {
     "iopub.execute_input": "2021-06-12T20:05:53.794737Z",
     "iopub.status.busy": "2021-06-12T20:05:53.794536Z",
     "iopub.status.idle": "2021-06-12T20:05:53.822296Z",
     "shell.execute_reply": "2021-06-12T20:05:53.821194Z",
     "shell.execute_reply.started": "2021-06-12T20:05:53.794716Z"
    }
   },
   "outputs": [],
   "source": [
    "perms = pd.Series(permutations).rename_axis(index='permutation').to_frame(name='relative_decline')"
   ]
  },
  {
   "cell_type": "code",
   "execution_count": 21,
   "metadata": {
    "execution": {
     "iopub.execute_input": "2021-06-12T20:05:53.823099Z",
     "iopub.status.busy": "2021-06-12T20:05:53.822972Z",
     "iopub.status.idle": "2021-06-12T20:05:54.082105Z",
     "shell.execute_reply": "2021-06-12T20:05:54.081531Z",
     "shell.execute_reply.started": "2021-06-12T20:05:53.823083Z"
    }
   },
   "outputs": [
    {
     "data": {
      "image/png": "[encoded data removed]",
      "text/plain": [
       "<Figure size 360x360 with 1 Axes>"
      ]
     },
     "metadata": {
      "needs_background": "light"
     },
     "output_type": "display_data"
    }
   ],
   "source": [
    "g = sns.displot(data=perms, x='relative_decline', kind='hist')\n",
    "g.set(xlabel='Relative decline (CX - HC)')\n",
    "g.tight_layout()"
   ]
  },
  {
   "cell_type": "code",
   "execution_count": 22,
   "metadata": {
    "execution": {
     "iopub.execute_input": "2021-06-12T20:05:54.082839Z",
     "iopub.status.busy": "2021-06-12T20:05:54.082712Z",
     "iopub.status.idle": "2021-06-12T20:05:54.094017Z",
     "shell.execute_reply": "2021-06-12T20:05:54.093395Z",
     "shell.execute_reply.started": "2021-06-12T20:05:54.082823Z"
    }
   },
   "outputs": [],
   "source": [
    "p = np.sum(perms >= observed)"
   ]
  },
  {
   "cell_type": "code",
   "execution_count": 23,
   "metadata": {
    "execution": {
     "iopub.execute_input": "2021-06-12T20:05:54.094755Z",
     "iopub.status.busy": "2021-06-12T20:05:54.094637Z",
     "iopub.status.idle": "2021-06-12T20:05:54.107495Z",
     "shell.execute_reply": "2021-06-12T20:05:54.106849Z",
     "shell.execute_reply.started": "2021-06-12T20:05:54.094740Z"
    }
   },
   "outputs": [
    {
     "name": "stdout",
     "output_type": "stream",
     "text": [
      "Subject: Allan\n",
      "Observed relative decline (CX - HC):\n",
      "\t141.1731782696953\n",
      "Shuffled >= observed:\n",
      "\t1 / 10000\n"
     ]
    }
   ],
   "source": [
    "print(f\"Subject: {subject}\")\n",
    "print('Observed relative decline (CX - HC):')\n",
    "print(f'\\t{observed}')\n",
    "print('Shuffled >= observed:')\n",
    "print(f\"\\t{1 + p.squeeze()} / {n_permutations}\")"
   ]
  },
  {
   "cell_type": "code",
   "execution_count": null,
   "metadata": {},
   "outputs": [],
   "source": []
  }
 ],
 "metadata": {
  "kernelspec": {
   "display_name": "Python 3",
   "language": "python",
   "name": "python3"
  },
  "language_info": {
   "codemirror_mode": {
    "name": "ipython",
    "version": 3
   },
   "file_extension": ".py",
   "mimetype": "text/x-python",
   "name": "python",
   "nbconvert_exporter": "python",
   "pygments_lexer": "ipython3",
   "version": "3.7.9"
  }
 },
 "nbformat": 4,
 "nbformat_minor": 4
}
