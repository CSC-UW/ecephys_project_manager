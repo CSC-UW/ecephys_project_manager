{
 "cells": [
  {
   "cell_type": "code",
   "execution_count": 1,
   "metadata": {
    "execution": {
     "iopub.status.idle": "2021-06-12T20:01:53.855316Z",
     "shell.execute_reply": "2021-06-12T20:01:53.854745Z",
     "shell.execute_reply.started": "2021-06-12T20:01:53.841738Z"
    }
   },
   "outputs": [],
   "source": [
    "%load_ext autoreload\n",
    "%autoreload 2"
   ]
  },
  {
   "cell_type": "code",
   "execution_count": 2,
   "metadata": {
    "execution": {
     "iopub.execute_input": "2021-06-12T20:01:53.856431Z",
     "iopub.status.busy": "2021-06-12T20:01:53.856302Z",
     "iopub.status.idle": "2021-06-12T20:01:54.450073Z",
     "shell.execute_reply": "2021-06-12T20:01:54.449425Z",
     "shell.execute_reply.started": "2021-06-12T20:01:53.856415Z"
    }
   },
   "outputs": [],
   "source": [
    "# %matplotlib widget\n",
    "import matplotlib.pyplot as plt\n",
    "import seaborn as sns"
   ]
  },
  {
   "cell_type": "code",
   "execution_count": 3,
   "metadata": {
    "execution": {
     "iopub.execute_input": "2021-06-12T20:01:54.451007Z",
     "iopub.status.busy": "2021-06-12T20:01:54.450867Z",
     "iopub.status.idle": "2021-06-12T20:01:54.724844Z",
     "shell.execute_reply": "2021-06-12T20:01:54.724147Z",
     "shell.execute_reply.started": "2021-06-12T20:01:54.450990Z"
    }
   },
   "outputs": [],
   "source": [
    "import xarray as xr\n",
    "import numpy as np\n",
    "import pandas as pd"
   ]
  },
  {
   "cell_type": "code",
   "execution_count": 4,
   "metadata": {
    "execution": {
     "iopub.execute_input": "2021-06-12T20:01:54.725665Z",
     "iopub.status.busy": "2021-06-12T20:01:54.725524Z",
     "iopub.status.idle": "2021-06-12T20:01:54.738189Z",
     "shell.execute_reply": "2021-06-12T20:01:54.737627Z",
     "shell.execute_reply.started": "2021-06-12T20:01:54.725648Z"
    }
   },
   "outputs": [
    {
     "data": {
      "text/plain": [
       "<xarray.core.options.set_options at 0x7f4f32a58610>"
      ]
     },
     "execution_count": 4,
     "metadata": {},
     "output_type": "execute_result"
    }
   ],
   "source": [
    "xr.set_options(keep_attrs=True)"
   ]
  },
  {
   "cell_type": "code",
   "execution_count": 5,
   "metadata": {
    "execution": {
     "iopub.execute_input": "2021-06-12T20:01:54.738866Z",
     "iopub.status.busy": "2021-06-12T20:01:54.738742Z",
     "iopub.status.idle": "2021-06-12T20:01:54.751637Z",
     "shell.execute_reply": "2021-06-12T20:01:54.750814Z",
     "shell.execute_reply.started": "2021-06-12T20:01:54.738850Z"
    }
   },
   "outputs": [],
   "source": [
    "import ecephys_analyses as ea \n",
    "from ecephys.signal.xarray_utils import filter_dataset_by_hypnogram"
   ]
  },
  {
   "cell_type": "code",
   "execution_count": 6,
   "metadata": {
    "execution": {
     "iopub.execute_input": "2021-06-12T20:01:54.752311Z",
     "iopub.status.busy": "2021-06-12T20:01:54.752189Z",
     "iopub.status.idle": "2021-06-12T20:01:54.765005Z",
     "shell.execute_reply": "2021-06-12T20:01:54.764260Z",
     "shell.execute_reply.started": "2021-06-12T20:01:54.752295Z"
    }
   },
   "outputs": [],
   "source": [
    "subject = \"Segundo\"\n",
    "experiment = \"sleep-homeostasis\"\n",
    "norm_condition = \"light-period-circadian-match\"\n",
    "rec_condition = \"recovery-sleep\"\n",
    "states = [\"N1\", \"N2\"]\n",
    "duration = '01:00:00'\n",
    "light_period_start = '09:00:00'\n",
    "light_period_end = '21:00:00'\n",
    "f_range = (0.5, 4)"
   ]
  },
  {
   "cell_type": "code",
   "execution_count": 7,
   "metadata": {
    "execution": {
     "iopub.execute_input": "2021-06-12T20:01:54.765588Z",
     "iopub.status.busy": "2021-06-12T20:01:54.765466Z",
     "iopub.status.idle": "2021-06-12T20:01:58.103187Z",
     "shell.execute_reply": "2021-06-12T20:01:58.102668Z",
     "shell.execute_reply.started": "2021-06-12T20:01:54.765572Z"
    }
   },
   "outputs": [],
   "source": [
    "norm_hyp = ea.load_hypnogram(subject, experiment, norm_condition)\n",
    "norm_hyp = norm_hyp.keep_states(states).keep_between(light_period_start, light_period_end)\n",
    "\n",
    "norm_pow = ea.load_power(subject, experiment, norm_condition, \"spg.nc\").sel(frequency=slice(*f_range)).sum(dim=\"frequency\")\n",
    "norm_pow = filter_dataset_by_hypnogram(norm_pow, norm_hyp).swap_dims({'time': 'datetime'}).drop_vars(['time', 'timedelta'])"
   ]
  },
  {
   "cell_type": "code",
   "execution_count": 8,
   "metadata": {
    "execution": {
     "iopub.execute_input": "2021-06-12T20:01:58.104743Z",
     "iopub.status.busy": "2021-06-12T20:01:58.104602Z",
     "iopub.status.idle": "2021-06-12T20:01:59.581820Z",
     "shell.execute_reply": "2021-06-12T20:01:59.581178Z",
     "shell.execute_reply.started": "2021-06-12T20:01:58.104725Z"
    }
   },
   "outputs": [],
   "source": [
    "rec_hyp = ea.load_hypnogram(subject, experiment, rec_condition)\n",
    "rec_pow = ea.load_power(subject, experiment, rec_condition, \"spg.nc\").sel(frequency=slice(*f_range)).sum(dim='frequency')\n",
    "rec_pow = rec_pow / norm_pow.mean(dim=\"datetime\") * 100"
   ]
  },
  {
   "cell_type": "code",
   "execution_count": 9,
   "metadata": {
    "execution": {
     "iopub.execute_input": "2021-06-12T20:01:59.583022Z",
     "iopub.status.busy": "2021-06-12T20:01:59.582887Z",
     "iopub.status.idle": "2021-06-12T20:01:59.662946Z",
     "shell.execute_reply": "2021-06-12T20:01:59.662225Z",
     "shell.execute_reply.started": "2021-06-12T20:01:59.583004Z"
    }
   },
   "outputs": [],
   "source": [
    "early_hyp = rec_hyp.keep_states(states).keep_first(duration)\n",
    "early_pow = filter_dataset_by_hypnogram(rec_pow, early_hyp).swap_dims({'time': 'datetime'}).drop_vars(['time', 'timedelta'])"
   ]
  },
  {
   "cell_type": "code",
   "execution_count": 10,
   "metadata": {
    "execution": {
     "iopub.execute_input": "2021-06-12T20:01:59.663891Z",
     "iopub.status.busy": "2021-06-12T20:01:59.663749Z",
     "iopub.status.idle": "2021-06-12T20:01:59.750586Z",
     "shell.execute_reply": "2021-06-12T20:01:59.749818Z",
     "shell.execute_reply.started": "2021-06-12T20:01:59.663873Z"
    }
   },
   "outputs": [],
   "source": [
    "late_hyp = rec_hyp.keep_states(states).keep_last(duration)\n",
    "late_pow = filter_dataset_by_hypnogram(rec_pow, late_hyp).swap_dims({'time': 'datetime'}).drop_vars(['time', 'timedelta'])"
   ]
  },
  {
   "cell_type": "code",
   "execution_count": 11,
   "metadata": {
    "execution": {
     "iopub.execute_input": "2021-06-12T20:01:59.751652Z",
     "iopub.status.busy": "2021-06-12T20:01:59.751459Z",
     "iopub.status.idle": "2021-06-12T20:01:59.765531Z",
     "shell.execute_reply": "2021-06-12T20:01:59.764149Z",
     "shell.execute_reply.started": "2021-06-12T20:01:59.751635Z"
    }
   },
   "outputs": [],
   "source": [
    "def match_lengths(dataframes):\n",
    "    length = min(list(map(len, dataframes)))\n",
    "    return (df.iloc[:length] for df in dataframes)"
   ]
  },
  {
   "cell_type": "code",
   "execution_count": 12,
   "metadata": {
    "execution": {
     "iopub.execute_input": "2021-06-12T20:01:59.767023Z",
     "iopub.status.busy": "2021-06-12T20:01:59.766780Z",
     "iopub.status.idle": "2021-06-12T20:01:59.788153Z",
     "shell.execute_reply": "2021-06-12T20:01:59.787375Z",
     "shell.execute_reply.started": "2021-06-12T20:01:59.766990Z"
    }
   },
   "outputs": [],
   "source": [
    "early_df = early_pow.to_dataframe().reset_index(drop=True).rename_axis(index='pair', columns='region').stack().to_frame(name='early')\n",
    "late_df = late_pow.to_dataframe().reset_index(drop=True).rename_axis(index='pair', columns='region').stack().to_frame(name='late')\n",
    "early_df, late_df = match_lengths((early_df, late_df))\n",
    "df = early_df.join(late_df).rename_axis(columns='condition')"
   ]
  },
  {
   "cell_type": "code",
   "execution_count": 13,
   "metadata": {
    "execution": {
     "iopub.execute_input": "2021-06-12T20:01:59.788942Z",
     "iopub.status.busy": "2021-06-12T20:01:59.788824Z",
     "iopub.status.idle": "2021-06-12T20:01:59.801413Z",
     "shell.execute_reply": "2021-06-12T20:01:59.800578Z",
     "shell.execute_reply.started": "2021-06-12T20:01:59.788927Z"
    }
   },
   "outputs": [],
   "source": [
    "df_plot = df.stack().to_frame(name='power')\n",
    "df_plot['log_power'] = np.log(df_plot.power)\n",
    "df_plot['sqrt_power'] = np.sqrt(df_plot.power)"
   ]
  },
  {
   "cell_type": "code",
   "execution_count": 14,
   "metadata": {
    "execution": {
     "iopub.execute_input": "2021-06-12T20:01:59.802145Z",
     "iopub.status.busy": "2021-06-12T20:01:59.802030Z",
     "iopub.status.idle": "2021-06-12T20:02:00.726939Z",
     "shell.execute_reply": "2021-06-12T20:02:00.726123Z",
     "shell.execute_reply.started": "2021-06-12T20:01:59.802130Z"
    }
   },
   "outputs": [
    {
     "data": {
      "image/png": "[encoded data removed]",
      "text/plain": [
       "<Figure size 781.125x360 with 2 Axes>"
      ]
     },
     "metadata": {
      "needs_background": "light"
     },
     "output_type": "display_data"
    }
   ],
   "source": [
    "g = sns.displot(data=df_plot, x='power', hue='condition', col='region', kind='hist')\n",
    "g.set(xlabel='Delta (0.5 - 4Hz) PSD (uV^2/Hz)')\n",
    "g.tight_layout()"
   ]
  },
  {
   "cell_type": "code",
   "execution_count": 15,
   "metadata": {
    "execution": {
     "iopub.execute_input": "2021-06-12T20:02:00.727895Z",
     "iopub.status.busy": "2021-06-12T20:02:00.727760Z",
     "iopub.status.idle": "2021-06-12T20:02:01.394079Z",
     "shell.execute_reply": "2021-06-12T20:02:01.393300Z",
     "shell.execute_reply.started": "2021-06-12T20:02:00.727878Z"
    }
   },
   "outputs": [
    {
     "data": {
      "image/png": "[encoded data removed]",
      "text/plain": [
       "<Figure size 781.125x360 with 2 Axes>"
      ]
     },
     "metadata": {
      "needs_background": "light"
     },
     "output_type": "display_data"
    }
   ],
   "source": [
    "g = sns.displot(data=df_plot, x='log_power', hue='condition', col='region', kind='hist')\n",
    "g.set(xlabel='Delta (0.5 - 4Hz) PSD (uV^2/Hz)')\n",
    "g.tight_layout()"
   ]
  },
  {
   "cell_type": "code",
   "execution_count": 16,
   "metadata": {
    "execution": {
     "iopub.execute_input": "2021-06-12T20:02:01.396175Z",
     "iopub.status.busy": "2021-06-12T20:02:01.395827Z",
     "iopub.status.idle": "2021-06-12T20:02:02.170112Z",
     "shell.execute_reply": "2021-06-12T20:02:02.169431Z",
     "shell.execute_reply.started": "2021-06-12T20:02:01.396134Z"
    }
   },
   "outputs": [
    {
     "data": {
      "image/png": "[encoded data removed]",
      "text/plain": [
       "<Figure size 781.125x360 with 2 Axes>"
      ]
     },
     "metadata": {
      "needs_background": "light"
     },
     "output_type": "display_data"
    }
   ],
   "source": [
    "g = sns.displot(data=df_plot, x='sqrt_power', hue='condition', col='region', kind='hist')\n",
    "g.set(xlabel='Delta (0.5 - 4Hz) PSD (uV^2/Hz)')\n",
    "g.tight_layout()"
   ]
  },
  {
   "cell_type": "code",
   "execution_count": 17,
   "metadata": {
    "execution": {
     "iopub.execute_input": "2021-06-12T20:02:02.171094Z",
     "iopub.status.busy": "2021-06-12T20:02:02.170954Z",
     "iopub.status.idle": "2021-06-12T20:02:02.185497Z",
     "shell.execute_reply": "2021-06-12T20:02:02.184416Z",
     "shell.execute_reply.started": "2021-06-12T20:02:02.171075Z"
    }
   },
   "outputs": [],
   "source": [
    "def get_relative_decline(df):\n",
    "    means = df.groupby('region').mean()\n",
    "    declines = means.early - means.late\n",
    "    return declines.mpta_wm_ref - declines.sr_wm_ref"
   ]
  },
  {
   "cell_type": "code",
   "execution_count": 18,
   "metadata": {
    "execution": {
     "iopub.execute_input": "2021-06-12T20:02:02.186193Z",
     "iopub.status.busy": "2021-06-12T20:02:02.186067Z",
     "iopub.status.idle": "2021-06-12T20:02:02.198939Z",
     "shell.execute_reply": "2021-06-12T20:02:02.198075Z",
     "shell.execute_reply.started": "2021-06-12T20:02:02.186176Z"
    }
   },
   "outputs": [],
   "source": [
    "def shuffle(df, key): \n",
    "    _df = df.reset_index()\n",
    "    labels = _df[key].values.reshape(-1, 2)\n",
    "    rng = np.random.default_rng()\n",
    "    rng.permuted(labels, axis=1, out=labels)\n",
    "    _df.set_index(df.index.names, inplace=True)\n",
    "    return _df"
   ]
  },
  {
   "cell_type": "code",
   "execution_count": 19,
   "metadata": {
    "execution": {
     "iopub.execute_input": "2021-06-12T20:02:02.199736Z",
     "iopub.status.busy": "2021-06-12T20:02:02.199618Z",
     "iopub.status.idle": "2021-06-12T20:02:27.576774Z",
     "shell.execute_reply": "2021-06-12T20:02:27.575649Z",
     "shell.execute_reply.started": "2021-06-12T20:02:02.199722Z"
    }
   },
   "outputs": [],
   "source": [
    "observed = get_relative_decline(df)\n",
    "\n",
    "n_permutations = 10000\n",
    "permutations = list()\n",
    "for i in range(n_permutations):\n",
    "    permuted = shuffle(df, 'region')\n",
    "    permutations.append(get_relative_decline(permuted))"
   ]
  },
  {
   "cell_type": "code",
   "execution_count": 20,
   "metadata": {
    "execution": {
     "iopub.execute_input": "2021-06-12T20:02:27.578056Z",
     "iopub.status.busy": "2021-06-12T20:02:27.577906Z",
     "iopub.status.idle": "2021-06-12T20:02:27.596348Z",
     "shell.execute_reply": "2021-06-12T20:02:27.595589Z",
     "shell.execute_reply.started": "2021-06-12T20:02:27.578036Z"
    }
   },
   "outputs": [],
   "source": [
    "perms = pd.Series(permutations).rename_axis(index='permutation').to_frame(name='relative_decline')"
   ]
  },
  {
   "cell_type": "code",
   "execution_count": 21,
   "metadata": {
    "execution": {
     "iopub.execute_input": "2021-06-12T20:02:27.597121Z",
     "iopub.status.busy": "2021-06-12T20:02:27.596986Z",
     "iopub.status.idle": "2021-06-12T20:02:27.878210Z",
     "shell.execute_reply": "2021-06-12T20:02:27.877576Z",
     "shell.execute_reply.started": "2021-06-12T20:02:27.597098Z"
    }
   },
   "outputs": [
    {
     "data": {
      "image/png": "[encoded data removed]",
      "text/plain": [
       "<Figure size 360x360 with 1 Axes>"
      ]
     },
     "metadata": {
      "needs_background": "light"
     },
     "output_type": "display_data"
    }
   ],
   "source": [
    "g = sns.displot(data=perms, x='relative_decline', kind='hist')\n",
    "g.set(xlabel='Relative decline (CX - HC)')\n",
    "g.tight_layout()"
   ]
  },
  {
   "cell_type": "code",
   "execution_count": 22,
   "metadata": {
    "execution": {
     "iopub.execute_input": "2021-06-12T20:02:27.879089Z",
     "iopub.status.busy": "2021-06-12T20:02:27.878955Z",
     "iopub.status.idle": "2021-06-12T20:02:27.892301Z",
     "shell.execute_reply": "2021-06-12T20:02:27.891657Z",
     "shell.execute_reply.started": "2021-06-12T20:02:27.879073Z"
    }
   },
   "outputs": [],
   "source": [
    "p = np.sum(perms >= observed)"
   ]
  },
  {
   "cell_type": "code",
   "execution_count": 23,
   "metadata": {
    "execution": {
     "iopub.execute_input": "2021-06-12T20:02:27.893013Z",
     "iopub.status.busy": "2021-06-12T20:02:27.892891Z",
     "iopub.status.idle": "2021-06-12T20:02:27.906004Z",
     "shell.execute_reply": "2021-06-12T20:02:27.905500Z",
     "shell.execute_reply.started": "2021-06-12T20:02:27.892997Z"
    }
   },
   "outputs": [
    {
     "name": "stdout",
     "output_type": "stream",
     "text": [
      "Subject: Segundo\n",
      "Observed relative decline (CX - HC):\n",
      "\t92.74578327699143\n",
      "Shuffled >= observed:\n",
      "\t1 / 10000\n"
     ]
    }
   ],
   "source": [
    "print(f\"Subject: {subject}\")\n",
    "print('Observed relative decline (CX - HC):')\n",
    "print(f'\\t{observed}')\n",
    "print('Shuffled >= observed:')\n",
    "print(f\"\\t{1 + p.squeeze()} / {n_permutations}\")"
   ]
  },
  {
   "cell_type": "code",
   "execution_count": null,
   "metadata": {},
   "outputs": [],
   "source": []
  }
 ],
 "metadata": {
  "kernelspec": {
   "display_name": "Python 3",
   "language": "python",
   "name": "python3"
  },
  "language_info": {
   "codemirror_mode": {
    "name": "ipython",
    "version": 3
   },
   "file_extension": ".py",
   "mimetype": "text/x-python",
   "name": "python",
   "nbconvert_exporter": "python",
   "pygments_lexer": "ipython3",
   "version": "3.7.9"
  }
 },
 "nbformat": 4,
 "nbformat_minor": 4
}
