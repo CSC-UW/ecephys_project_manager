{
 "cells": [
  {
   "cell_type": "code",
   "execution_count": 1,
   "metadata": {
    "execution": {
     "iopub.execute_input": "2021-06-12T18:26:39.312680Z",
     "iopub.status.busy": "2021-06-12T18:26:39.312253Z",
     "iopub.status.idle": "2021-06-12T18:26:39.328341Z",
     "shell.execute_reply": "2021-06-12T18:26:39.327657Z",
     "shell.execute_reply.started": "2021-06-12T18:26:39.312632Z"
    }
   },
   "outputs": [],
   "source": [
    "%load_ext autoreload\n",
    "%autoreload 2"
   ]
  },
  {
   "cell_type": "code",
   "execution_count": 2,
   "metadata": {
    "execution": {
     "iopub.execute_input": "2021-06-12T18:26:39.329260Z",
     "iopub.status.busy": "2021-06-12T18:26:39.329136Z",
     "iopub.status.idle": "2021-06-12T18:26:39.721805Z",
     "shell.execute_reply": "2021-06-12T18:26:39.721068Z",
     "shell.execute_reply.started": "2021-06-12T18:26:39.329245Z"
    }
   },
   "outputs": [],
   "source": [
    "# %matplotlib widget\n",
    "import matplotlib.pyplot as plt\n",
    "import seaborn as sns"
   ]
  },
  {
   "cell_type": "code",
   "execution_count": 3,
   "metadata": {
    "execution": {
     "iopub.execute_input": "2021-06-12T18:26:39.722971Z",
     "iopub.status.busy": "2021-06-12T18:26:39.722830Z",
     "iopub.status.idle": "2021-06-12T18:26:39.948297Z",
     "shell.execute_reply": "2021-06-12T18:26:39.947660Z",
     "shell.execute_reply.started": "2021-06-12T18:26:39.722953Z"
    }
   },
   "outputs": [],
   "source": [
    "import xarray as xr\n",
    "import numpy as np\n",
    "import pandas as pd"
   ]
  },
  {
   "cell_type": "code",
   "execution_count": 4,
   "metadata": {
    "execution": {
     "iopub.execute_input": "2021-06-12T18:26:39.949358Z",
     "iopub.status.busy": "2021-06-12T18:26:39.949216Z",
     "iopub.status.idle": "2021-06-12T18:26:39.962309Z",
     "shell.execute_reply": "2021-06-12T18:26:39.961575Z",
     "shell.execute_reply.started": "2021-06-12T18:26:39.949341Z"
    }
   },
   "outputs": [
    {
     "data": {
      "text/plain": [
       "<xarray.core.options.set_options at 0x7fafa24f3310>"
      ]
     },
     "execution_count": 4,
     "metadata": {},
     "output_type": "execute_result"
    }
   ],
   "source": [
    "xr.set_options(keep_attrs=True)"
   ]
  },
  {
   "cell_type": "code",
   "execution_count": 5,
   "metadata": {
    "execution": {
     "iopub.execute_input": "2021-06-12T18:26:39.963017Z",
     "iopub.status.busy": "2021-06-12T18:26:39.962890Z",
     "iopub.status.idle": "2021-06-12T18:26:39.975681Z",
     "shell.execute_reply": "2021-06-12T18:26:39.975108Z",
     "shell.execute_reply.started": "2021-06-12T18:26:39.963001Z"
    }
   },
   "outputs": [],
   "source": [
    "import ecephys_analyses as ea \n",
    "from ecephys.signal.xarray_utils import filter_dataset_by_hypnogram"
   ]
  },
  {
   "cell_type": "code",
   "execution_count": 6,
   "metadata": {
    "execution": {
     "iopub.execute_input": "2021-06-12T18:26:39.976398Z",
     "iopub.status.busy": "2021-06-12T18:26:39.976277Z",
     "iopub.status.idle": "2021-06-12T18:26:39.987523Z",
     "shell.execute_reply": "2021-06-12T18:26:39.986799Z",
     "shell.execute_reply.started": "2021-06-12T18:26:39.976383Z"
    }
   },
   "outputs": [],
   "source": [
    "subject = \"Allan\"\n",
    "experiment = \"novel_objects_deprivation\"\n",
    "norm_condition = \"light-period-circadian-match\"\n",
    "rec_condition = \"recovery-sleep\"\n",
    "states = [\"N1\", \"N2\"]\n",
    "duration = '01:00:00'\n",
    "light_period_start = '09:00:00'\n",
    "light_period_end = '21:00:00'\n",
    "f_range = (0.5, 4)"
   ]
  },
  {
   "cell_type": "code",
   "execution_count": 7,
   "metadata": {
    "execution": {
     "iopub.execute_input": "2021-06-12T18:26:39.988209Z",
     "iopub.status.busy": "2021-06-12T18:26:39.988090Z",
     "iopub.status.idle": "2021-06-12T18:26:43.349979Z",
     "shell.execute_reply": "2021-06-12T18:26:43.349280Z",
     "shell.execute_reply.started": "2021-06-12T18:26:39.988194Z"
    }
   },
   "outputs": [],
   "source": [
    "norm_hyp = ea.load_hypnogram(subject, experiment, norm_condition)\n",
    "norm_hyp = norm_hyp.keep_states(states).keep_between(light_period_start, light_period_end)\n",
    "\n",
    "norm_pow = ea.load_power(subject, experiment, norm_condition, \"spg.nc\").sel(frequency=slice(*f_range)).sum(dim=\"frequency\")\n",
    "norm_pow = filter_dataset_by_hypnogram(norm_pow, norm_hyp).swap_dims({'time': 'datetime'}).drop_vars(['time', 'timedelta'])"
   ]
  },
  {
   "cell_type": "code",
   "execution_count": 8,
   "metadata": {
    "execution": {
     "iopub.execute_input": "2021-06-12T18:26:43.350872Z",
     "iopub.status.busy": "2021-06-12T18:26:43.350735Z",
     "iopub.status.idle": "2021-06-12T18:26:44.710925Z",
     "shell.execute_reply": "2021-06-12T18:26:44.710223Z",
     "shell.execute_reply.started": "2021-06-12T18:26:43.350855Z"
    }
   },
   "outputs": [],
   "source": [
    "rec_hyp = ea.load_hypnogram(subject, experiment, rec_condition)\n",
    "rec_pow = ea.load_power(subject, experiment, rec_condition, \"spg.nc\").sel(frequency=slice(*f_range)).sum(dim='frequency')\n",
    "rec_pow = rec_pow / norm_pow.mean(dim=\"datetime\") * 100"
   ]
  },
  {
   "cell_type": "code",
   "execution_count": 9,
   "metadata": {
    "execution": {
     "iopub.execute_input": "2021-06-12T18:26:44.712494Z",
     "iopub.status.busy": "2021-06-12T18:26:44.712353Z",
     "iopub.status.idle": "2021-06-12T18:26:44.759334Z",
     "shell.execute_reply": "2021-06-12T18:26:44.758740Z",
     "shell.execute_reply.started": "2021-06-12T18:26:44.712477Z"
    }
   },
   "outputs": [],
   "source": [
    "early_hyp = rec_hyp.keep_states(states).keep_first(duration)\n",
    "early_pow = filter_dataset_by_hypnogram(rec_pow, early_hyp).swap_dims({'time': 'datetime'}).drop_vars(['time', 'timedelta'])"
   ]
  },
  {
   "cell_type": "code",
   "execution_count": 10,
   "metadata": {
    "execution": {
     "iopub.execute_input": "2021-06-12T18:26:44.760334Z",
     "iopub.status.busy": "2021-06-12T18:26:44.760204Z",
     "iopub.status.idle": "2021-06-12T18:26:44.826962Z",
     "shell.execute_reply": "2021-06-12T18:26:44.826373Z",
     "shell.execute_reply.started": "2021-06-12T18:26:44.760318Z"
    }
   },
   "outputs": [],
   "source": [
    "late_hyp = rec_hyp.keep_states(states).keep_last(duration)\n",
    "late_pow = filter_dataset_by_hypnogram(rec_pow, late_hyp).swap_dims({'time': 'datetime'}).drop_vars(['time', 'timedelta'])"
   ]
  },
  {
   "cell_type": "code",
   "execution_count": 11,
   "metadata": {
    "execution": {
     "iopub.execute_input": "2021-06-12T18:26:44.827672Z",
     "iopub.status.busy": "2021-06-12T18:26:44.827552Z",
     "iopub.status.idle": "2021-06-12T18:26:44.839088Z",
     "shell.execute_reply": "2021-06-12T18:26:44.838525Z",
     "shell.execute_reply.started": "2021-06-12T18:26:44.827657Z"
    }
   },
   "outputs": [],
   "source": [
    "def match_lengths(dataframes):\n",
    "    length = min(list(map(len, dataframes)))\n",
    "    return (df.iloc[:length] for df in dataframes)"
   ]
  },
  {
   "cell_type": "code",
   "execution_count": 12,
   "metadata": {
    "execution": {
     "iopub.execute_input": "2021-06-12T18:26:44.839747Z",
     "iopub.status.busy": "2021-06-12T18:26:44.839626Z",
     "iopub.status.idle": "2021-06-12T18:26:44.859035Z",
     "shell.execute_reply": "2021-06-12T18:26:44.858703Z",
     "shell.execute_reply.started": "2021-06-12T18:26:44.839732Z"
    }
   },
   "outputs": [],
   "source": [
    "early_df = early_pow.to_dataframe().reset_index(drop=True).rename_axis(index='pair').assign(condition='early').set_index('condition', append=True)\n",
    "late_df = late_pow.to_dataframe().reset_index(drop=True).rename_axis(index='pair').assign(condition='late').set_index('condition', append=True)\n",
    "early_df, late_df = match_lengths((early_df, late_df))\n",
    "df = pd.concat([early_df, late_df]).sort_index()\n",
    "df.columns.name = 'region'"
   ]
  },
  {
   "cell_type": "code",
   "execution_count": 13,
   "metadata": {
    "execution": {
     "iopub.execute_input": "2021-06-12T18:26:44.859675Z",
     "iopub.status.busy": "2021-06-12T18:26:44.859553Z",
     "iopub.status.idle": "2021-06-12T18:26:44.870868Z",
     "shell.execute_reply": "2021-06-12T18:26:44.870453Z",
     "shell.execute_reply.started": "2021-06-12T18:26:44.859660Z"
    }
   },
   "outputs": [],
   "source": [
    "df_plot = df.stack().to_frame(name='power')\n",
    "df_plot['log_power'] = np.log(df_plot.power)\n",
    "df_plot['sqrt_power'] = np.sqrt(df_plot.power)"
   ]
  },
  {
   "cell_type": "code",
   "execution_count": 14,
   "metadata": {
    "execution": {
     "iopub.execute_input": "2021-06-12T18:26:44.871515Z",
     "iopub.status.busy": "2021-06-12T18:26:44.871394Z",
     "iopub.status.idle": "2021-06-12T18:26:45.663041Z",
     "shell.execute_reply": "2021-06-12T18:26:45.662449Z",
     "shell.execute_reply.started": "2021-06-12T18:26:44.871500Z"
    }
   },
   "outputs": [
    {
     "data": {
      "image/png": "[encoded data removed]",
      "text/plain": [
       "<Figure size 781.125x360 with 2 Axes>"
      ]
     },
     "metadata": {
      "needs_background": "light"
     },
     "output_type": "display_data"
    }
   ],
   "source": [
    "g = sns.displot(data=df_plot, x='power', hue='condition', col='region', kind='hist')\n",
    "g.set(xlabel='Delta (0.5 - 4Hz) PSD (uV^2/Hz)')\n",
    "g.tight_layout()"
   ]
  },
  {
   "cell_type": "code",
   "execution_count": 15,
   "metadata": {
    "execution": {
     "iopub.execute_input": "2021-06-12T18:26:45.663878Z",
     "iopub.status.busy": "2021-06-12T18:26:45.663743Z",
     "iopub.status.idle": "2021-06-12T18:26:46.304279Z",
     "shell.execute_reply": "2021-06-12T18:26:46.303675Z",
     "shell.execute_reply.started": "2021-06-12T18:26:45.663862Z"
    }
   },
   "outputs": [
    {
     "data": {
      "image/png": "[encoded data removed]",
      "text/plain": [
       "<Figure size 781.125x360 with 2 Axes>"
      ]
     },
     "metadata": {
      "needs_background": "light"
     },
     "output_type": "display_data"
    }
   ],
   "source": [
    "g = sns.displot(data=df_plot, x='log_power', hue='condition', col='region', kind='hist')\n",
    "g.set(xlabel='Delta (0.5 - 4Hz) PSD (uV^2/Hz)')\n",
    "g.tight_layout()"
   ]
  },
  {
   "cell_type": "code",
   "execution_count": 16,
   "metadata": {
    "execution": {
     "iopub.execute_input": "2021-06-12T18:26:46.305084Z",
     "iopub.status.busy": "2021-06-12T18:26:46.304951Z",
     "iopub.status.idle": "2021-06-12T18:26:47.040148Z",
     "shell.execute_reply": "2021-06-12T18:26:47.039528Z",
     "shell.execute_reply.started": "2021-06-12T18:26:46.305067Z"
    }
   },
   "outputs": [
    {
     "data": {
      "image/png": "[encoded data removed]",
      "text/plain": [
       "<Figure size 781.125x360 with 2 Axes>"
      ]
     },
     "metadata": {
      "needs_background": "light"
     },
     "output_type": "display_data"
    }
   ],
   "source": [
    "g = sns.displot(data=df_plot, x='sqrt_power', hue='condition', col='region', kind='hist')\n",
    "g.set(xlabel='Delta (0.5 - 4Hz) PSD (uV^2/Hz)')\n",
    "g.tight_layout()"
   ]
  },
  {
   "cell_type": "code",
   "execution_count": 17,
   "metadata": {
    "execution": {
     "iopub.execute_input": "2021-06-12T18:26:47.041084Z",
     "iopub.status.busy": "2021-06-12T18:26:47.040939Z",
     "iopub.status.idle": "2021-06-12T18:26:47.054162Z",
     "shell.execute_reply": "2021-06-12T18:26:47.053569Z",
     "shell.execute_reply.started": "2021-06-12T18:26:47.041064Z"
    }
   },
   "outputs": [],
   "source": [
    "def get_decline(df):\n",
    "    means = df.groupby('condition').mean()\n",
    "    return means.xs('early') - means.xs('late')"
   ]
  },
  {
   "cell_type": "code",
   "execution_count": 18,
   "metadata": {
    "execution": {
     "iopub.execute_input": "2021-06-12T18:26:47.054881Z",
     "iopub.status.busy": "2021-06-12T18:26:47.054757Z",
     "iopub.status.idle": "2021-06-12T18:26:47.067292Z",
     "shell.execute_reply": "2021-06-12T18:26:47.066668Z",
     "shell.execute_reply.started": "2021-06-12T18:26:47.054866Z"
    }
   },
   "outputs": [],
   "source": [
    "def shuffle(df, key): \n",
    "    _df = df.reset_index()\n",
    "    labels = _df[key].values.reshape(-1, 2)\n",
    "    rng = np.random.default_rng()\n",
    "    rng.permuted(labels, axis=1, out=labels)\n",
    "    _df.set_index(df.index.names, inplace=True)\n",
    "    return _df"
   ]
  },
  {
   "cell_type": "code",
   "execution_count": 19,
   "metadata": {
    "execution": {
     "iopub.execute_input": "2021-06-12T18:26:47.067960Z",
     "iopub.status.busy": "2021-06-12T18:26:47.067838Z",
     "iopub.status.idle": "2021-06-12T18:27:12.834684Z",
     "shell.execute_reply": "2021-06-12T18:27:12.833438Z",
     "shell.execute_reply.started": "2021-06-12T18:26:47.067945Z"
    }
   },
   "outputs": [],
   "source": [
    "observed = get_decline(df)\n",
    "\n",
    "n_permutations = 10000\n",
    "permutations = list()\n",
    "for i in range(n_permutations):\n",
    "    permuted = shuffle(df, 'condition')\n",
    "    permutations.append(get_decline(permuted))"
   ]
  },
  {
   "cell_type": "code",
   "execution_count": 20,
   "metadata": {
    "execution": {
     "iopub.execute_input": "2021-06-12T18:27:12.835973Z",
     "iopub.status.busy": "2021-06-12T18:27:12.835816Z",
     "iopub.status.idle": "2021-06-12T18:27:13.358079Z",
     "shell.execute_reply": "2021-06-12T18:27:13.357321Z",
     "shell.execute_reply.started": "2021-06-12T18:27:12.835953Z"
    }
   },
   "outputs": [],
   "source": [
    "perms = pd.concat(permutations, axis=1)\n",
    "perms.columns.name = 'permtuation'\n",
    "perms = perms.stack().to_frame(name='decline').reorder_levels([1, 0]).sort_index()"
   ]
  },
  {
   "cell_type": "code",
   "execution_count": 21,
   "metadata": {
    "execution": {
     "iopub.execute_input": "2021-06-12T18:27:13.358996Z",
     "iopub.status.busy": "2021-06-12T18:27:13.358858Z",
     "iopub.status.idle": "2021-06-12T18:27:14.103729Z",
     "shell.execute_reply": "2021-06-12T18:27:14.102990Z",
     "shell.execute_reply.started": "2021-06-12T18:27:13.358980Z"
    }
   },
   "outputs": [
    {
     "data": {
      "image/png": "[encoded data removed]",
      "text/plain": [
       "<Figure size 720x360 with 2 Axes>"
      ]
     },
     "metadata": {
      "needs_background": "light"
     },
     "output_type": "display_data"
    }
   ],
   "source": [
    "g = sns.displot(data=perms, x='decline', col='region', kind='hist')\n",
    "g.set(xlabel='Decline (Early - Late)')\n",
    "g.tight_layout()"
   ]
  },
  {
   "cell_type": "code",
   "execution_count": 22,
   "metadata": {
    "execution": {
     "iopub.execute_input": "2021-06-12T18:27:14.104612Z",
     "iopub.status.busy": "2021-06-12T18:27:14.104480Z",
     "iopub.status.idle": "2021-06-12T18:27:14.119301Z",
     "shell.execute_reply": "2021-06-12T18:27:14.118529Z",
     "shell.execute_reply.started": "2021-06-12T18:27:14.104595Z"
    }
   },
   "outputs": [],
   "source": [
    "cx = perms.xs('mpta_wm_ref', level='region')\n",
    "hc = perms.xs('sr_wm_ref', level='region')"
   ]
  },
  {
   "cell_type": "code",
   "execution_count": 23,
   "metadata": {
    "execution": {
     "iopub.execute_input": "2021-06-12T18:27:14.120032Z",
     "iopub.status.busy": "2021-06-12T18:27:14.119906Z",
     "iopub.status.idle": "2021-06-12T18:27:14.131787Z",
     "shell.execute_reply": "2021-06-12T18:27:14.130802Z",
     "shell.execute_reply.started": "2021-06-12T18:27:14.120016Z"
    }
   },
   "outputs": [],
   "source": [
    "pcx = np.sum(cx >= observed.xs('mpta_wm_ref'))"
   ]
  },
  {
   "cell_type": "code",
   "execution_count": 24,
   "metadata": {
    "execution": {
     "iopub.execute_input": "2021-06-12T18:27:14.132545Z",
     "iopub.status.busy": "2021-06-12T18:27:14.132422Z",
     "iopub.status.idle": "2021-06-12T18:27:14.143212Z",
     "shell.execute_reply": "2021-06-12T18:27:14.142379Z",
     "shell.execute_reply.started": "2021-06-12T18:27:14.132530Z"
    }
   },
   "outputs": [],
   "source": [
    "phc = np.sum(hc >= observed.xs('sr_wm_ref'))"
   ]
  },
  {
   "cell_type": "code",
   "execution_count": 25,
   "metadata": {
    "execution": {
     "iopub.execute_input": "2021-06-12T18:27:14.144011Z",
     "iopub.status.busy": "2021-06-12T18:27:14.143885Z",
     "iopub.status.idle": "2021-06-12T18:27:14.160601Z",
     "shell.execute_reply": "2021-06-12T18:27:14.159850Z",
     "shell.execute_reply.started": "2021-06-12T18:27:14.143996Z"
    }
   },
   "outputs": [
    {
     "name": "stdout",
     "output_type": "stream",
     "text": [
      "Subject: Allan\n",
      "Observed decline (Early - Late):\n",
      "\n",
      "| region      |       0 |\n",
      "|:------------|--------:|\n",
      "| mpta_wm_ref | 179.685 |\n",
      "| sr_wm_ref   |  38.512 |\n",
      "\n",
      "\n",
      "Shuffled >= observed:\n",
      "Cortex: 1 / 10000\n",
      "Hippocampus: 1 / 10000\n"
     ]
    }
   ],
   "source": [
    "print(f\"Subject: {subject}\")\n",
    "print('Observed decline (Early - Late):\\n')\n",
    "print(observed.to_markdown())\n",
    "print('\\n')\n",
    "print('Shuffled >= observed:')\n",
    "print(f\"Cortex: {1 + pcx.squeeze()} / {n_permutations}\")\n",
    "print(f\"Hippocampus: {1 + phc.squeeze()} / {n_permutations}\")"
   ]
  },
  {
   "cell_type": "code",
   "execution_count": null,
   "metadata": {},
   "outputs": [],
   "source": []
  }
 ],
 "metadata": {
  "kernelspec": {
   "display_name": "Python 3",
   "language": "python",
   "name": "python3"
  },
  "language_info": {
   "codemirror_mode": {
    "name": "ipython",
    "version": 3
   },
   "file_extension": ".py",
   "mimetype": "text/x-python",
   "name": "python",
   "nbconvert_exporter": "python",
   "pygments_lexer": "ipython3",
   "version": "3.7.9"
  }
 },
 "nbformat": 4,
 "nbformat_minor": 4
}
