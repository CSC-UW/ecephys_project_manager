{
 "cells": [
  {
   "cell_type": "code",
   "execution_count": null,
   "metadata": {},
   "outputs": [],
   "source": [
    "%load_ext autoreload\n",
    "%autoreload 2"
   ]
  },
  {
   "cell_type": "code",
   "execution_count": 2,
   "metadata": {
    "execution": {
     "iopub.status.idle": "2021-06-12T18:24:26.102132Z",
     "shell.execute_reply": "2021-06-12T18:24:26.101683Z",
     "shell.execute_reply.started": "2021-06-12T18:24:25.497624Z"
    }
   },
   "outputs": [],
   "source": [
    "# %matplotlib widget\n",
    "import matplotlib.pyplot as plt\n",
    "import seaborn as sns"
   ]
  },
  {
   "cell_type": "code",
   "execution_count": 3,
   "metadata": {
    "execution": {
     "iopub.execute_input": "2021-06-12T18:24:26.103160Z",
     "iopub.status.busy": "2021-06-12T18:24:26.103020Z",
     "iopub.status.idle": "2021-06-12T18:24:26.377922Z",
     "shell.execute_reply": "2021-06-12T18:24:26.376978Z",
     "shell.execute_reply.started": "2021-06-12T18:24:26.103143Z"
    }
   },
   "outputs": [],
   "source": [
    "import xarray as xr\n",
    "import numpy as np\n",
    "import pandas as pd"
   ]
  },
  {
   "cell_type": "code",
   "execution_count": 4,
   "metadata": {
    "execution": {
     "iopub.execute_input": "2021-06-12T18:24:26.380266Z",
     "iopub.status.busy": "2021-06-12T18:24:26.380139Z",
     "iopub.status.idle": "2021-06-12T18:24:26.393364Z",
     "shell.execute_reply": "2021-06-12T18:24:26.392812Z",
     "shell.execute_reply.started": "2021-06-12T18:24:26.380250Z"
    }
   },
   "outputs": [
    {
     "data": {
      "text/plain": [
       "<xarray.core.options.set_options at 0x7fe1a24b1610>"
      ]
     },
     "execution_count": 4,
     "metadata": {},
     "output_type": "execute_result"
    }
   ],
   "source": [
    "xr.set_options(keep_attrs=True)"
   ]
  },
  {
   "cell_type": "code",
   "execution_count": 5,
   "metadata": {
    "execution": {
     "iopub.execute_input": "2021-06-12T18:24:26.394001Z",
     "iopub.status.busy": "2021-06-12T18:24:26.393881Z",
     "iopub.status.idle": "2021-06-12T18:24:26.407941Z",
     "shell.execute_reply": "2021-06-12T18:24:26.407568Z",
     "shell.execute_reply.started": "2021-06-12T18:24:26.393986Z"
    }
   },
   "outputs": [],
   "source": [
    "import ecephys_analyses as ea \n",
    "from ecephys.signal.xarray_utils import filter_dataset_by_hypnogram"
   ]
  },
  {
   "cell_type": "code",
   "execution_count": 6,
   "metadata": {
    "execution": {
     "iopub.execute_input": "2021-06-12T18:24:26.408600Z",
     "iopub.status.busy": "2021-06-12T18:24:26.408475Z",
     "iopub.status.idle": "2021-06-12T18:24:26.419463Z",
     "shell.execute_reply": "2021-06-12T18:24:26.418849Z",
     "shell.execute_reply.started": "2021-06-12T18:24:26.408584Z"
    }
   },
   "outputs": [],
   "source": [
    "subject = \"Segundo\"\n",
    "experiment = \"novel_objects_deprivation\"\n",
    "norm_condition = \"light-period-circadian-match\"\n",
    "rec_condition = \"recovery-sleep\"\n",
    "states = [\"N1\", \"N2\"]\n",
    "duration = '01:00:00'\n",
    "light_period_start = '09:00:00'\n",
    "light_period_end = '21:00:00'\n",
    "f_range = (0.5, 4)"
   ]
  },
  {
   "cell_type": "code",
   "execution_count": 7,
   "metadata": {
    "execution": {
     "iopub.execute_input": "2021-06-12T18:24:26.420136Z",
     "iopub.status.busy": "2021-06-12T18:24:26.420013Z",
     "iopub.status.idle": "2021-06-12T18:24:29.737837Z",
     "shell.execute_reply": "2021-06-12T18:24:29.737367Z",
     "shell.execute_reply.started": "2021-06-12T18:24:26.420121Z"
    }
   },
   "outputs": [],
   "source": [
    "norm_hyp = ea.load_hypnogram(subject, experiment, norm_condition)\n",
    "norm_hyp = norm_hyp.keep_states(states).keep_between(light_period_start, light_period_end)\n",
    "\n",
    "norm_pow = ea.load_power(subject, experiment, norm_condition, \"spg.nc\").sel(frequency=slice(*f_range)).sum(dim=\"frequency\")\n",
    "norm_pow = filter_dataset_by_hypnogram(norm_pow, norm_hyp).swap_dims({'time': 'datetime'}).drop_vars(['time', 'timedelta'])"
   ]
  },
  {
   "cell_type": "code",
   "execution_count": 8,
   "metadata": {
    "execution": {
     "iopub.execute_input": "2021-06-12T18:24:29.739397Z",
     "iopub.status.busy": "2021-06-12T18:24:29.739257Z",
     "iopub.status.idle": "2021-06-12T18:24:31.201913Z",
     "shell.execute_reply": "2021-06-12T18:24:31.201354Z",
     "shell.execute_reply.started": "2021-06-12T18:24:29.739380Z"
    }
   },
   "outputs": [],
   "source": [
    "rec_hyp = ea.load_hypnogram(subject, experiment, rec_condition)\n",
    "rec_pow = ea.load_power(subject, experiment, rec_condition, \"spg.nc\").sel(frequency=slice(*f_range)).sum(dim='frequency')\n",
    "rec_pow = rec_pow / norm_pow.mean(dim=\"datetime\") * 100"
   ]
  },
  {
   "cell_type": "code",
   "execution_count": 9,
   "metadata": {
    "execution": {
     "iopub.execute_input": "2021-06-12T18:24:31.203090Z",
     "iopub.status.busy": "2021-06-12T18:24:31.202952Z",
     "iopub.status.idle": "2021-06-12T18:24:31.277297Z",
     "shell.execute_reply": "2021-06-12T18:24:31.276509Z",
     "shell.execute_reply.started": "2021-06-12T18:24:31.203072Z"
    }
   },
   "outputs": [],
   "source": [
    "early_hyp = rec_hyp.keep_states(states).keep_first(duration)\n",
    "early_pow = filter_dataset_by_hypnogram(rec_pow, early_hyp).swap_dims({'time': 'datetime'}).drop_vars(['time', 'timedelta'])"
   ]
  },
  {
   "cell_type": "code",
   "execution_count": 10,
   "metadata": {
    "execution": {
     "iopub.execute_input": "2021-06-12T18:24:31.278038Z",
     "iopub.status.busy": "2021-06-12T18:24:31.277914Z",
     "iopub.status.idle": "2021-06-12T18:24:31.352741Z",
     "shell.execute_reply": "2021-06-12T18:24:31.352146Z",
     "shell.execute_reply.started": "2021-06-12T18:24:31.278022Z"
    }
   },
   "outputs": [],
   "source": [
    "late_hyp = rec_hyp.keep_states(states).keep_last(duration)\n",
    "late_pow = filter_dataset_by_hypnogram(rec_pow, late_hyp).swap_dims({'time': 'datetime'}).drop_vars(['time', 'timedelta'])"
   ]
  },
  {
   "cell_type": "code",
   "execution_count": 11,
   "metadata": {
    "execution": {
     "iopub.execute_input": "2021-06-12T18:24:31.353482Z",
     "iopub.status.busy": "2021-06-12T18:24:31.353358Z",
     "iopub.status.idle": "2021-06-12T18:24:31.364244Z",
     "shell.execute_reply": "2021-06-12T18:24:31.363634Z",
     "shell.execute_reply.started": "2021-06-12T18:24:31.353467Z"
    }
   },
   "outputs": [],
   "source": [
    "def match_lengths(dataframes):\n",
    "    length = min(list(map(len, dataframes)))\n",
    "    return (df.iloc[:length] for df in dataframes)"
   ]
  },
  {
   "cell_type": "code",
   "execution_count": 12,
   "metadata": {
    "execution": {
     "iopub.execute_input": "2021-06-12T18:24:31.364928Z",
     "iopub.status.busy": "2021-06-12T18:24:31.364807Z",
     "iopub.status.idle": "2021-06-12T18:24:31.383296Z",
     "shell.execute_reply": "2021-06-12T18:24:31.382789Z",
     "shell.execute_reply.started": "2021-06-12T18:24:31.364913Z"
    }
   },
   "outputs": [],
   "source": [
    "early_df = early_pow.to_dataframe().reset_index(drop=True).rename_axis(index='pair').assign(condition='early').set_index('condition', append=True)\n",
    "late_df = late_pow.to_dataframe().reset_index(drop=True).rename_axis(index='pair').assign(condition='late').set_index('condition', append=True)\n",
    "early_df, late_df = match_lengths((early_df, late_df))\n",
    "df = pd.concat([early_df, late_df]).sort_index()\n",
    "df.columns.name = 'region'"
   ]
  },
  {
   "cell_type": "code",
   "execution_count": 13,
   "metadata": {
    "execution": {
     "iopub.execute_input": "2021-06-12T18:24:31.383961Z",
     "iopub.status.busy": "2021-06-12T18:24:31.383841Z",
     "iopub.status.idle": "2021-06-12T18:24:31.397704Z",
     "shell.execute_reply": "2021-06-12T18:24:31.397145Z",
     "shell.execute_reply.started": "2021-06-12T18:24:31.383946Z"
    }
   },
   "outputs": [],
   "source": [
    "df_plot = df.stack().to_frame(name='power')\n",
    "df_plot['log_power'] = np.log(df_plot.power)\n",
    "df_plot['sqrt_power'] = np.sqrt(df_plot.power)"
   ]
  },
  {
   "cell_type": "code",
   "execution_count": 14,
   "metadata": {
    "execution": {
     "iopub.execute_input": "2021-06-12T18:24:31.398453Z",
     "iopub.status.busy": "2021-06-12T18:24:31.398329Z",
     "iopub.status.idle": "2021-06-12T18:24:32.192358Z",
     "shell.execute_reply": "2021-06-12T18:24:32.191730Z",
     "shell.execute_reply.started": "2021-06-12T18:24:31.398437Z"
    }
   },
   "outputs": [
    {
     "data": {
      "image/png": "[encoded data removed]",
      "text/plain": [
       "<Figure size 781.125x360 with 2 Axes>"
      ]
     },
     "metadata": {
      "needs_background": "light"
     },
     "output_type": "display_data"
    }
   ],
   "source": [
    "g = sns.displot(data=df_plot, x='power', hue='condition', col='region', kind='hist')\n",
    "g.set(xlabel='Delta (0.5 - 4Hz) PSD (uV^2/Hz)')\n",
    "g.tight_layout()"
   ]
  },
  {
   "cell_type": "code",
   "execution_count": 15,
   "metadata": {
    "execution": {
     "iopub.execute_input": "2021-06-12T18:24:32.193271Z",
     "iopub.status.busy": "2021-06-12T18:24:32.193130Z",
     "iopub.status.idle": "2021-06-12T18:24:32.843941Z",
     "shell.execute_reply": "2021-06-12T18:24:32.843456Z",
     "shell.execute_reply.started": "2021-06-12T18:24:32.193254Z"
    }
   },
   "outputs": [
    {
     "data": {
      "image/png": "[encoded data removed]",
      "text/plain": [
       "<Figure size 781.125x360 with 2 Axes>"
      ]
     },
     "metadata": {
      "needs_background": "light"
     },
     "output_type": "display_data"
    }
   ],
   "source": [
    "g = sns.displot(data=df_plot, x='log_power', hue='condition', col='region', kind='hist')\n",
    "g.set(xlabel='Delta (0.5 - 4Hz) PSD (uV^2/Hz)')\n",
    "g.tight_layout()"
   ]
  },
  {
   "cell_type": "code",
   "execution_count": 16,
   "metadata": {
    "execution": {
     "iopub.execute_input": "2021-06-12T18:24:32.844671Z",
     "iopub.status.busy": "2021-06-12T18:24:32.844543Z",
     "iopub.status.idle": "2021-06-12T18:24:33.510831Z",
     "shell.execute_reply": "2021-06-12T18:24:33.510387Z",
     "shell.execute_reply.started": "2021-06-12T18:24:32.844655Z"
    }
   },
   "outputs": [
    {
     "data": {
      "image/png": "[encoded data removed]",
      "text/plain": [
       "<Figure size 781.125x360 with 2 Axes>"
      ]
     },
     "metadata": {
      "needs_background": "light"
     },
     "output_type": "display_data"
    }
   ],
   "source": [
    "g = sns.displot(data=df_plot, x='sqrt_power', hue='condition', col='region', kind='hist')\n",
    "g.set(xlabel='Delta (0.5 - 4Hz) PSD (uV^2/Hz)')\n",
    "g.tight_layout()"
   ]
  },
  {
   "cell_type": "code",
   "execution_count": 17,
   "metadata": {
    "execution": {
     "iopub.execute_input": "2021-06-12T18:24:33.511598Z",
     "iopub.status.busy": "2021-06-12T18:24:33.511466Z",
     "iopub.status.idle": "2021-06-12T18:24:33.522925Z",
     "shell.execute_reply": "2021-06-12T18:24:33.522447Z",
     "shell.execute_reply.started": "2021-06-12T18:24:33.511582Z"
    }
   },
   "outputs": [],
   "source": [
    "def get_decline(df):\n",
    "    means = df.groupby('condition').mean()\n",
    "    return means.xs('early') - means.xs('late')"
   ]
  },
  {
   "cell_type": "code",
   "execution_count": 18,
   "metadata": {
    "execution": {
     "iopub.execute_input": "2021-06-12T18:24:33.523652Z",
     "iopub.status.busy": "2021-06-12T18:24:33.523531Z",
     "iopub.status.idle": "2021-06-12T18:24:33.535597Z",
     "shell.execute_reply": "2021-06-12T18:24:33.534920Z",
     "shell.execute_reply.started": "2021-06-12T18:24:33.523637Z"
    }
   },
   "outputs": [],
   "source": [
    "def shuffle(df, key): \n",
    "    _df = df.reset_index()\n",
    "    labels = _df[key].values.reshape(-1, 2)\n",
    "    rng = np.random.default_rng()\n",
    "    rng.permuted(labels, axis=1, out=labels)\n",
    "    _df.set_index(df.index.names, inplace=True)\n",
    "    return _df"
   ]
  },
  {
   "cell_type": "code",
   "execution_count": 20,
   "metadata": {
    "execution": {
     "iopub.execute_input": "2021-06-12T18:24:47.674566Z",
     "iopub.status.busy": "2021-06-12T18:24:47.674103Z",
     "iopub.status.idle": "2021-06-12T18:25:12.975293Z",
     "shell.execute_reply": "2021-06-12T18:25:12.974436Z",
     "shell.execute_reply.started": "2021-06-12T18:24:47.674510Z"
    }
   },
   "outputs": [],
   "source": [
    "observed = get_decline(df)\n",
    "\n",
    "n_permutations = 10000\n",
    "permutations = list()\n",
    "for i in range(n_permutations):\n",
    "    permuted = shuffle(df, 'condition')\n",
    "    permutations.append(get_decline(permuted))"
   ]
  },
  {
   "cell_type": "code",
   "execution_count": 21,
   "metadata": {
    "execution": {
     "iopub.execute_input": "2021-06-12T18:25:12.996242Z",
     "iopub.status.busy": "2021-06-12T18:25:12.996116Z",
     "iopub.status.idle": "2021-06-12T18:25:13.504997Z",
     "shell.execute_reply": "2021-06-12T18:25:13.504110Z",
     "shell.execute_reply.started": "2021-06-12T18:25:12.996227Z"
    }
   },
   "outputs": [],
   "source": [
    "perms = pd.concat(permutations, axis=1)\n",
    "perms.columns.name = 'permtuation'\n",
    "perms = perms.stack().to_frame(name='decline').reorder_levels([1, 0]).sort_index()"
   ]
  },
  {
   "cell_type": "code",
   "execution_count": 22,
   "metadata": {
    "execution": {
     "iopub.execute_input": "2021-06-12T18:25:13.505960Z",
     "iopub.status.busy": "2021-06-12T18:25:13.505828Z",
     "iopub.status.idle": "2021-06-12T18:25:14.173694Z",
     "shell.execute_reply": "2021-06-12T18:25:14.173026Z",
     "shell.execute_reply.started": "2021-06-12T18:25:13.505943Z"
    }
   },
   "outputs": [
    {
     "data": {
      "image/png": "[encoded data removed]",
      "text/plain": [
       "<Figure size 720x360 with 2 Axes>"
      ]
     },
     "metadata": {
      "needs_background": "light"
     },
     "output_type": "display_data"
    }
   ],
   "source": [
    "g = sns.displot(data=perms, x='decline', col='region', kind='hist')\n",
    "g.set(xlabel='Decline (Early - Late)')\n",
    "g.tight_layout()"
   ]
  },
  {
   "cell_type": "code",
   "execution_count": 23,
   "metadata": {
    "execution": {
     "iopub.execute_input": "2021-06-12T18:25:14.174544Z",
     "iopub.status.busy": "2021-06-12T18:25:14.174406Z",
     "iopub.status.idle": "2021-06-12T18:25:14.188219Z",
     "shell.execute_reply": "2021-06-12T18:25:14.187623Z",
     "shell.execute_reply.started": "2021-06-12T18:25:14.174527Z"
    }
   },
   "outputs": [],
   "source": [
    "cx = perms.xs('mpta_wm_ref', level='region')\n",
    "hc = perms.xs('sr_wm_ref', level='region')"
   ]
  },
  {
   "cell_type": "code",
   "execution_count": 24,
   "metadata": {
    "execution": {
     "iopub.execute_input": "2021-06-12T18:25:14.188969Z",
     "iopub.status.busy": "2021-06-12T18:25:14.188849Z",
     "iopub.status.idle": "2021-06-12T18:25:14.201819Z",
     "shell.execute_reply": "2021-06-12T18:25:14.201196Z",
     "shell.execute_reply.started": "2021-06-12T18:25:14.188953Z"
    }
   },
   "outputs": [],
   "source": [
    "pcx = np.sum(cx >= observed.xs('mpta_wm_ref'))"
   ]
  },
  {
   "cell_type": "code",
   "execution_count": 25,
   "metadata": {
    "execution": {
     "iopub.execute_input": "2021-06-12T18:25:14.202528Z",
     "iopub.status.busy": "2021-06-12T18:25:14.202403Z",
     "iopub.status.idle": "2021-06-12T18:25:14.214510Z",
     "shell.execute_reply": "2021-06-12T18:25:14.213877Z",
     "shell.execute_reply.started": "2021-06-12T18:25:14.202512Z"
    }
   },
   "outputs": [],
   "source": [
    "phc = np.sum(hc >= observed.xs('sr_wm_ref'))"
   ]
  },
  {
   "cell_type": "code",
   "execution_count": 26,
   "metadata": {
    "execution": {
     "iopub.execute_input": "2021-06-12T18:25:14.215636Z",
     "iopub.status.busy": "2021-06-12T18:25:14.215511Z",
     "iopub.status.idle": "2021-06-12T18:25:14.229845Z",
     "shell.execute_reply": "2021-06-12T18:25:14.229367Z",
     "shell.execute_reply.started": "2021-06-12T18:25:14.215621Z"
    }
   },
   "outputs": [
    {
     "name": "stdout",
     "output_type": "stream",
     "text": [
      "Subject: Segundo\n",
      "Observed decline (Early - Late):\n",
      "\n",
      "| region      |        0 |\n",
      "|:------------|---------:|\n",
      "| mpta_wm_ref | 130.479  |\n",
      "| sr_wm_ref   |  37.7329 |\n",
      "\n",
      "\n",
      "Shuffled >= observed:\n",
      "Cortex: 1 / 10000\n",
      "Hippocampus: 1 / 10000\n"
     ]
    }
   ],
   "source": [
    "print(f\"Subject: {subject}\")\n",
    "print('Observed decline (Early - Late):\\n')\n",
    "print(observed.to_markdown())\n",
    "print('\\n')\n",
    "print('Shuffled >= observed:')\n",
    "print(f\"Cortex: {1 + pcx.squeeze()} / {n_permutations}\")\n",
    "print(f\"Hippocampus: {1 + phc.squeeze()} / {n_permutations}\")"
   ]
  },
  {
   "cell_type": "code",
   "execution_count": null,
   "metadata": {},
   "outputs": [],
   "source": []
  }
 ],
 "metadata": {
  "kernelspec": {
   "display_name": "Python 3",
   "language": "python",
   "name": "python3"
  },
  "language_info": {
   "codemirror_mode": {
    "name": "ipython",
    "version": 3
   },
   "file_extension": ".py",
   "mimetype": "text/x-python",
   "name": "python",
   "nbconvert_exporter": "python",
   "pygments_lexer": "ipython3",
   "version": "3.7.9"
  }
 },
 "nbformat": 4,
 "nbformat_minor": 4
}
