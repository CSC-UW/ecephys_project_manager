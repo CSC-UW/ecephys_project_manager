{
 "cells": [
  {
   "cell_type": "code",
   "execution_count": 1,
   "metadata": {
    "execution": {
     "iopub.execute_input": "2021-06-12T18:26:15.675562Z",
     "iopub.status.busy": "2021-06-12T18:26:15.675072Z",
     "iopub.status.idle": "2021-06-12T18:26:15.693765Z",
     "shell.execute_reply": "2021-06-12T18:26:15.693168Z",
     "shell.execute_reply.started": "2021-06-12T18:26:15.675503Z"
    }
   },
   "outputs": [],
   "source": [
    "%load_ext autoreload\n",
    "%autoreload 2"
   ]
  },
  {
   "cell_type": "code",
   "execution_count": 2,
   "metadata": {
    "execution": {
     "iopub.execute_input": "2021-06-12T18:26:15.694582Z",
     "iopub.status.busy": "2021-06-12T18:26:15.694459Z",
     "iopub.status.idle": "2021-06-12T18:26:16.086207Z",
     "shell.execute_reply": "2021-06-12T18:26:16.085123Z",
     "shell.execute_reply.started": "2021-06-12T18:26:15.694566Z"
    }
   },
   "outputs": [],
   "source": [
    "# %matplotlib widget\n",
    "import matplotlib.pyplot as plt\n",
    "import seaborn as sns"
   ]
  },
  {
   "cell_type": "code",
   "execution_count": 3,
   "metadata": {
    "execution": {
     "iopub.execute_input": "2021-06-12T18:26:16.087649Z",
     "iopub.status.busy": "2021-06-12T18:26:16.087483Z",
     "iopub.status.idle": "2021-06-12T18:26:16.308464Z",
     "shell.execute_reply": "2021-06-12T18:26:16.307563Z",
     "shell.execute_reply.started": "2021-06-12T18:26:16.087630Z"
    }
   },
   "outputs": [],
   "source": [
    "import xarray as xr\n",
    "import numpy as np\n",
    "import pandas as pd"
   ]
  },
  {
   "cell_type": "code",
   "execution_count": 4,
   "metadata": {
    "execution": {
     "iopub.execute_input": "2021-06-12T18:26:16.309701Z",
     "iopub.status.busy": "2021-06-12T18:26:16.309548Z",
     "iopub.status.idle": "2021-06-12T18:26:16.322455Z",
     "shell.execute_reply": "2021-06-12T18:26:16.321802Z",
     "shell.execute_reply.started": "2021-06-12T18:26:16.309683Z"
    }
   },
   "outputs": [
    {
     "data": {
      "text/plain": [
       "<xarray.core.options.set_options at 0x7f5731c11c10>"
      ]
     },
     "execution_count": 4,
     "metadata": {},
     "output_type": "execute_result"
    }
   ],
   "source": [
    "xr.set_options(keep_attrs=True)"
   ]
  },
  {
   "cell_type": "code",
   "execution_count": 5,
   "metadata": {
    "execution": {
     "iopub.execute_input": "2021-06-12T18:26:16.323205Z",
     "iopub.status.busy": "2021-06-12T18:26:16.323078Z",
     "iopub.status.idle": "2021-06-12T18:26:16.336119Z",
     "shell.execute_reply": "2021-06-12T18:26:16.335464Z",
     "shell.execute_reply.started": "2021-06-12T18:26:16.323188Z"
    }
   },
   "outputs": [],
   "source": [
    "import ecephys_analyses as ea \n",
    "from ecephys.signal.xarray_utils import filter_dataset_by_hypnogram"
   ]
  },
  {
   "cell_type": "code",
   "execution_count": 6,
   "metadata": {
    "execution": {
     "iopub.execute_input": "2021-06-12T18:26:16.337207Z",
     "iopub.status.busy": "2021-06-12T18:26:16.337074Z",
     "iopub.status.idle": "2021-06-12T18:26:16.348588Z",
     "shell.execute_reply": "2021-06-12T18:26:16.347686Z",
     "shell.execute_reply.started": "2021-06-12T18:26:16.337191Z"
    }
   },
   "outputs": [],
   "source": [
    "subject = \"Valentino\"\n",
    "experiment = \"sleep-homeostasis\"\n",
    "norm_condition = \"light-period-circadian-match\"\n",
    "rec_condition = \"recovery-sleep\"\n",
    "states = [\"N1\", \"N2\"]\n",
    "duration = '01:00:00'\n",
    "light_period_start = '09:00:00'\n",
    "light_period_end = '21:00:00'\n",
    "f_range = (0.5, 4)"
   ]
  },
  {
   "cell_type": "code",
   "execution_count": 7,
   "metadata": {
    "execution": {
     "iopub.execute_input": "2021-06-12T18:26:16.349297Z",
     "iopub.status.busy": "2021-06-12T18:26:16.349176Z",
     "iopub.status.idle": "2021-06-12T18:26:19.709410Z",
     "shell.execute_reply": "2021-06-12T18:26:19.708226Z",
     "shell.execute_reply.started": "2021-06-12T18:26:16.349281Z"
    }
   },
   "outputs": [],
   "source": [
    "norm_hyp = ea.load_hypnogram(subject, experiment, norm_condition)\n",
    "norm_hyp = norm_hyp.keep_states(states).keep_between(light_period_start, light_period_end)\n",
    "\n",
    "norm_pow = ea.load_power(subject, experiment, norm_condition, \"spg.nc\").sel(frequency=slice(*f_range)).sum(dim=\"frequency\")\n",
    "norm_pow = filter_dataset_by_hypnogram(norm_pow, norm_hyp).swap_dims({'time': 'datetime'}).drop_vars(['time', 'timedelta'])"
   ]
  },
  {
   "cell_type": "code",
   "execution_count": 8,
   "metadata": {
    "execution": {
     "iopub.execute_input": "2021-06-12T18:26:19.710481Z",
     "iopub.status.busy": "2021-06-12T18:26:19.710324Z",
     "iopub.status.idle": "2021-06-12T18:26:21.170918Z",
     "shell.execute_reply": "2021-06-12T18:26:21.170181Z",
     "shell.execute_reply.started": "2021-06-12T18:26:19.710461Z"
    }
   },
   "outputs": [],
   "source": [
    "rec_hyp = ea.load_hypnogram(subject, experiment, rec_condition)\n",
    "rec_pow = ea.load_power(subject, experiment, rec_condition, \"spg.nc\").sel(frequency=slice(*f_range)).sum(dim='frequency')\n",
    "rec_pow = rec_pow / norm_pow.mean(dim=\"datetime\") * 100"
   ]
  },
  {
   "cell_type": "code",
   "execution_count": 9,
   "metadata": {
    "execution": {
     "iopub.execute_input": "2021-06-12T18:26:21.172801Z",
     "iopub.status.busy": "2021-06-12T18:26:21.172628Z",
     "iopub.status.idle": "2021-06-12T18:26:21.268007Z",
     "shell.execute_reply": "2021-06-12T18:26:21.267273Z",
     "shell.execute_reply.started": "2021-06-12T18:26:21.172782Z"
    }
   },
   "outputs": [],
   "source": [
    "early_hyp = rec_hyp.keep_states(states).keep_first(duration)\n",
    "early_pow = filter_dataset_by_hypnogram(rec_pow, early_hyp).swap_dims({'time': 'datetime'}).drop_vars(['time', 'timedelta'])"
   ]
  },
  {
   "cell_type": "code",
   "execution_count": 10,
   "metadata": {
    "execution": {
     "iopub.execute_input": "2021-06-12T18:26:21.269075Z",
     "iopub.status.busy": "2021-06-12T18:26:21.268945Z",
     "iopub.status.idle": "2021-06-12T18:26:21.334692Z",
     "shell.execute_reply": "2021-06-12T18:26:21.333941Z",
     "shell.execute_reply.started": "2021-06-12T18:26:21.269059Z"
    }
   },
   "outputs": [],
   "source": [
    "late_hyp = rec_hyp.keep_states(states).keep_last(duration)\n",
    "late_pow = filter_dataset_by_hypnogram(rec_pow, late_hyp).swap_dims({'time': 'datetime'}).drop_vars(['time', 'timedelta'])"
   ]
  },
  {
   "cell_type": "code",
   "execution_count": 11,
   "metadata": {
    "execution": {
     "iopub.execute_input": "2021-06-12T18:26:21.335338Z",
     "iopub.status.busy": "2021-06-12T18:26:21.335219Z",
     "iopub.status.idle": "2021-06-12T18:26:21.346008Z",
     "shell.execute_reply": "2021-06-12T18:26:21.345154Z",
     "shell.execute_reply.started": "2021-06-12T18:26:21.335323Z"
    }
   },
   "outputs": [],
   "source": [
    "def match_lengths(dataframes):\n",
    "    length = min(list(map(len, dataframes)))\n",
    "    return (df.iloc[:length] for df in dataframes)"
   ]
  },
  {
   "cell_type": "code",
   "execution_count": 12,
   "metadata": {
    "execution": {
     "iopub.execute_input": "2021-06-12T18:26:21.346731Z",
     "iopub.status.busy": "2021-06-12T18:26:21.346610Z",
     "iopub.status.idle": "2021-06-12T18:26:21.364731Z",
     "shell.execute_reply": "2021-06-12T18:26:21.364073Z",
     "shell.execute_reply.started": "2021-06-12T18:26:21.346716Z"
    }
   },
   "outputs": [],
   "source": [
    "early_df = early_pow.to_dataframe().reset_index(drop=True).rename_axis(index='pair').assign(condition='early').set_index('condition', append=True)\n",
    "late_df = late_pow.to_dataframe().reset_index(drop=True).rename_axis(index='pair').assign(condition='late').set_index('condition', append=True)\n",
    "early_df, late_df = match_lengths((early_df, late_df))\n",
    "df = pd.concat([early_df, late_df]).sort_index()\n",
    "df.columns.name = 'region'"
   ]
  },
  {
   "cell_type": "code",
   "execution_count": 13,
   "metadata": {
    "execution": {
     "iopub.execute_input": "2021-06-12T18:26:21.365500Z",
     "iopub.status.busy": "2021-06-12T18:26:21.365377Z",
     "iopub.status.idle": "2021-06-12T18:26:21.377563Z",
     "shell.execute_reply": "2021-06-12T18:26:21.376839Z",
     "shell.execute_reply.started": "2021-06-12T18:26:21.365486Z"
    }
   },
   "outputs": [],
   "source": [
    "df_plot = df.stack().to_frame(name='power')\n",
    "df_plot['log_power'] = np.log(df_plot.power)\n",
    "df_plot['sqrt_power'] = np.sqrt(df_plot.power)"
   ]
  },
  {
   "cell_type": "code",
   "execution_count": 14,
   "metadata": {
    "execution": {
     "iopub.execute_input": "2021-06-12T18:26:21.378292Z",
     "iopub.status.busy": "2021-06-12T18:26:21.378160Z",
     "iopub.status.idle": "2021-06-12T18:26:22.386226Z",
     "shell.execute_reply": "2021-06-12T18:26:22.385402Z",
     "shell.execute_reply.started": "2021-06-12T18:26:21.378266Z"
    }
   },
   "outputs": [
    {
     "data": {
      "image/png": "[encoded data removed]",
      "text/plain": [
       "<Figure size 781.125x360 with 2 Axes>"
      ]
     },
     "metadata": {
      "needs_background": "light"
     },
     "output_type": "display_data"
    }
   ],
   "source": [
    "g = sns.displot(data=df_plot, x='power', hue='condition', col='region', kind='hist')\n",
    "g.set(xlabel='Delta (0.5 - 4Hz) PSD (uV^2/Hz)')\n",
    "g.tight_layout()"
   ]
  },
  {
   "cell_type": "code",
   "execution_count": 15,
   "metadata": {
    "execution": {
     "iopub.execute_input": "2021-06-12T18:26:22.387247Z",
     "iopub.status.busy": "2021-06-12T18:26:22.387094Z",
     "iopub.status.idle": "2021-06-12T18:26:23.082809Z",
     "shell.execute_reply": "2021-06-12T18:26:23.082311Z",
     "shell.execute_reply.started": "2021-06-12T18:26:22.387226Z"
    }
   },
   "outputs": [
    {
     "data": {
      "image/png": "[encoded data removed]",
      "text/plain": [
       "<Figure size 781.125x360 with 2 Axes>"
      ]
     },
     "metadata": {
      "needs_background": "light"
     },
     "output_type": "display_data"
    }
   ],
   "source": [
    "g = sns.displot(data=df_plot, x='log_power', hue='condition', col='region', kind='hist')\n",
    "g.set(xlabel='Delta (0.5 - 4Hz) PSD (uV^2/Hz)')\n",
    "g.tight_layout()"
   ]
  },
  {
   "cell_type": "code",
   "execution_count": 16,
   "metadata": {
    "execution": {
     "iopub.execute_input": "2021-06-12T18:26:23.083661Z",
     "iopub.status.busy": "2021-06-12T18:26:23.083522Z",
     "iopub.status.idle": "2021-06-12T18:26:23.882587Z",
     "shell.execute_reply": "2021-06-12T18:26:23.881322Z",
     "shell.execute_reply.started": "2021-06-12T18:26:23.083643Z"
    }
   },
   "outputs": [
    {
     "data": {
      "image/png": "[encoded data removed]",
      "text/plain": [
       "<Figure size 781.125x360 with 2 Axes>"
      ]
     },
     "metadata": {
      "needs_background": "light"
     },
     "output_type": "display_data"
    }
   ],
   "source": [
    "g = sns.displot(data=df_plot, x='sqrt_power', hue='condition', col='region', kind='hist')\n",
    "g.set(xlabel='Delta (0.5 - 4Hz) PSD (uV^2/Hz)')\n",
    "g.tight_layout()"
   ]
  },
  {
   "cell_type": "code",
   "execution_count": 17,
   "metadata": {
    "execution": {
     "iopub.execute_input": "2021-06-12T18:26:23.884118Z",
     "iopub.status.busy": "2021-06-12T18:26:23.883913Z",
     "iopub.status.idle": "2021-06-12T18:26:23.900104Z",
     "shell.execute_reply": "2021-06-12T18:26:23.899278Z",
     "shell.execute_reply.started": "2021-06-12T18:26:23.884079Z"
    }
   },
   "outputs": [],
   "source": [
    "def get_decline(df):\n",
    "    means = df.groupby('condition').mean()\n",
    "    return means.xs('early') - means.xs('late')"
   ]
  },
  {
   "cell_type": "code",
   "execution_count": 18,
   "metadata": {
    "execution": {
     "iopub.execute_input": "2021-06-12T18:26:23.900982Z",
     "iopub.status.busy": "2021-06-12T18:26:23.900852Z",
     "iopub.status.idle": "2021-06-12T18:26:23.913194Z",
     "shell.execute_reply": "2021-06-12T18:26:23.912338Z",
     "shell.execute_reply.started": "2021-06-12T18:26:23.900967Z"
    }
   },
   "outputs": [],
   "source": [
    "def shuffle(df, key): \n",
    "    _df = df.reset_index()\n",
    "    labels = _df[key].values.reshape(-1, 2)\n",
    "    rng = np.random.default_rng()\n",
    "    rng.permuted(labels, axis=1, out=labels)\n",
    "    _df.set_index(df.index.names, inplace=True)\n",
    "    return _df"
   ]
  },
  {
   "cell_type": "code",
   "execution_count": 19,
   "metadata": {
    "execution": {
     "iopub.execute_input": "2021-06-12T18:26:23.914093Z",
     "iopub.status.busy": "2021-06-12T18:26:23.913961Z",
     "iopub.status.idle": "2021-06-12T18:26:50.173411Z",
     "shell.execute_reply": "2021-06-12T18:26:50.172179Z",
     "shell.execute_reply.started": "2021-06-12T18:26:23.914078Z"
    }
   },
   "outputs": [],
   "source": [
    "observed = get_decline(df)\n",
    "\n",
    "n_permutations = 10000\n",
    "permutations = list()\n",
    "for i in range(n_permutations):\n",
    "    permuted = shuffle(df, 'condition')\n",
    "    permutations.append(get_decline(permuted))"
   ]
  },
  {
   "cell_type": "code",
   "execution_count": 20,
   "metadata": {
    "execution": {
     "iopub.execute_input": "2021-06-12T18:26:50.174610Z",
     "iopub.status.busy": "2021-06-12T18:26:50.174465Z",
     "iopub.status.idle": "2021-06-12T18:26:50.696353Z",
     "shell.execute_reply": "2021-06-12T18:26:50.695486Z",
     "shell.execute_reply.started": "2021-06-12T18:26:50.174591Z"
    }
   },
   "outputs": [],
   "source": [
    "perms = pd.concat(permutations, axis=1)\n",
    "perms.columns.name = 'permtuation'\n",
    "perms = perms.stack().to_frame(name='decline').reorder_levels([1, 0]).sort_index()"
   ]
  },
  {
   "cell_type": "code",
   "execution_count": 21,
   "metadata": {
    "execution": {
     "iopub.execute_input": "2021-06-12T18:26:50.697439Z",
     "iopub.status.busy": "2021-06-12T18:26:50.697295Z",
     "iopub.status.idle": "2021-06-12T18:26:51.245687Z",
     "shell.execute_reply": "2021-06-12T18:26:51.244908Z",
     "shell.execute_reply.started": "2021-06-12T18:26:50.697421Z"
    }
   },
   "outputs": [
    {
     "data": {
      "image/png": "[encoded data removed]",
      "text/plain": [
       "<Figure size 720x360 with 2 Axes>"
      ]
     },
     "metadata": {
      "needs_background": "light"
     },
     "output_type": "display_data"
    }
   ],
   "source": [
    "g = sns.displot(data=perms, x='decline', col='region', kind='hist')\n",
    "g.set(xlabel='Decline (Early - Late)')\n",
    "g.tight_layout()"
   ]
  },
  {
   "cell_type": "code",
   "execution_count": 22,
   "metadata": {
    "execution": {
     "iopub.execute_input": "2021-06-12T18:26:51.246745Z",
     "iopub.status.busy": "2021-06-12T18:26:51.246602Z",
     "iopub.status.idle": "2021-06-12T18:26:51.260880Z",
     "shell.execute_reply": "2021-06-12T18:26:51.260077Z",
     "shell.execute_reply.started": "2021-06-12T18:26:51.246728Z"
    }
   },
   "outputs": [],
   "source": [
    "cx = perms.xs('mpta_wm_ref', level='region')\n",
    "hc = perms.xs('sr_wm_ref', level='region')"
   ]
  },
  {
   "cell_type": "code",
   "execution_count": 23,
   "metadata": {
    "execution": {
     "iopub.execute_input": "2021-06-12T18:26:51.261743Z",
     "iopub.status.busy": "2021-06-12T18:26:51.261616Z",
     "iopub.status.idle": "2021-06-12T18:26:51.273916Z",
     "shell.execute_reply": "2021-06-12T18:26:51.272975Z",
     "shell.execute_reply.started": "2021-06-12T18:26:51.261727Z"
    }
   },
   "outputs": [],
   "source": [
    "pcx = np.sum(cx >= observed.xs('mpta_wm_ref'))"
   ]
  },
  {
   "cell_type": "code",
   "execution_count": 24,
   "metadata": {
    "execution": {
     "iopub.execute_input": "2021-06-12T18:26:51.274739Z",
     "iopub.status.busy": "2021-06-12T18:26:51.274613Z",
     "iopub.status.idle": "2021-06-12T18:26:51.286317Z",
     "shell.execute_reply": "2021-06-12T18:26:51.285406Z",
     "shell.execute_reply.started": "2021-06-12T18:26:51.274724Z"
    }
   },
   "outputs": [],
   "source": [
    "phc = np.sum(hc >= observed.xs('sr_wm_ref'))"
   ]
  },
  {
   "cell_type": "code",
   "execution_count": 25,
   "metadata": {
    "execution": {
     "iopub.execute_input": "2021-06-12T18:26:51.287389Z",
     "iopub.status.busy": "2021-06-12T18:26:51.287264Z",
     "iopub.status.idle": "2021-06-12T18:26:51.304428Z",
     "shell.execute_reply": "2021-06-12T18:26:51.303622Z",
     "shell.execute_reply.started": "2021-06-12T18:26:51.287374Z"
    }
   },
   "outputs": [
    {
     "name": "stdout",
     "output_type": "stream",
     "text": [
      "Subject: Valentino\n",
      "Observed decline (Early - Late):\n",
      "\n",
      "| region      |       0 |\n",
      "|:------------|--------:|\n",
      "| mpta_wm_ref | 79.9561 |\n",
      "| sr_wm_ref   | 22.705  |\n",
      "\n",
      "\n",
      "Shuffled >= observed:\n",
      "Cortex: 1 / 10000\n",
      "Hippocampus: 1 / 10000\n"
     ]
    }
   ],
   "source": [
    "print(f\"Subject: {subject}\")\n",
    "print('Observed decline (Early - Late):\\n')\n",
    "print(observed.to_markdown())\n",
    "print('\\n')\n",
    "print('Shuffled >= observed:')\n",
    "print(f\"Cortex: {1 + pcx.squeeze()} / {n_permutations}\")\n",
    "print(f\"Hippocampus: {1 + phc.squeeze()} / {n_permutations}\")"
   ]
  },
  {
   "cell_type": "code",
   "execution_count": null,
   "metadata": {},
   "outputs": [],
   "source": []
  }
 ],
 "metadata": {
  "kernelspec": {
   "display_name": "Python 3",
   "language": "python",
   "name": "python3"
  },
  "language_info": {
   "codemirror_mode": {
    "name": "ipython",
    "version": 3
   },
   "file_extension": ".py",
   "mimetype": "text/x-python",
   "name": "python",
   "nbconvert_exporter": "python",
   "pygments_lexer": "ipython3",
   "version": "3.7.9"
  }
 },
 "nbformat": 4,
 "nbformat_minor": 4
}
