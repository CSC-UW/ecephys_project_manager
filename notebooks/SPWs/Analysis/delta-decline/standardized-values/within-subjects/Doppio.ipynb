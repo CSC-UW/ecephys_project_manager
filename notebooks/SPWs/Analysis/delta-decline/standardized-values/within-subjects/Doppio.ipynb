{
 "cells": [
  {
   "cell_type": "code",
   "execution_count": 1,
   "metadata": {
    "execution": {
     "iopub.execute_input": "2021-06-11T15:02:21.674687Z",
     "iopub.status.busy": "2021-06-11T15:02:21.674237Z",
     "iopub.status.idle": "2021-06-11T15:02:21.691157Z",
     "shell.execute_reply": "2021-06-11T15:02:21.690568Z",
     "shell.execute_reply.started": "2021-06-11T15:02:21.674634Z"
    }
   },
   "outputs": [],
   "source": [
    "%load_ext autoreload\n",
    "%autoreload 2"
   ]
  },
  {
   "cell_type": "code",
   "execution_count": 2,
   "metadata": {
    "execution": {
     "iopub.execute_input": "2021-06-11T15:02:21.692070Z",
     "iopub.status.busy": "2021-06-11T15:02:21.691939Z",
     "iopub.status.idle": "2021-06-11T15:02:22.043554Z",
     "shell.execute_reply": "2021-06-11T15:02:22.042827Z",
     "shell.execute_reply.started": "2021-06-11T15:02:21.692054Z"
    }
   },
   "outputs": [],
   "source": [
    "# %matplotlib widget\n",
    "import matplotlib.pyplot as plt\n",
    "import seaborn as sns"
   ]
  },
  {
   "cell_type": "code",
   "execution_count": 3,
   "metadata": {
    "execution": {
     "iopub.execute_input": "2021-06-11T15:02:22.044723Z",
     "iopub.status.busy": "2021-06-11T15:02:22.044580Z",
     "iopub.status.idle": "2021-06-11T15:02:22.276647Z",
     "shell.execute_reply": "2021-06-11T15:02:22.275976Z",
     "shell.execute_reply.started": "2021-06-11T15:02:22.044706Z"
    }
   },
   "outputs": [],
   "source": [
    "import xarray as xr\n",
    "import numpy as np\n",
    "import pandas as pd"
   ]
  },
  {
   "cell_type": "code",
   "execution_count": 4,
   "metadata": {
    "execution": {
     "iopub.execute_input": "2021-06-11T15:02:22.277727Z",
     "iopub.status.busy": "2021-06-11T15:02:22.277585Z",
     "iopub.status.idle": "2021-06-11T15:02:22.290635Z",
     "shell.execute_reply": "2021-06-11T15:02:22.290063Z",
     "shell.execute_reply.started": "2021-06-11T15:02:22.277710Z"
    }
   },
   "outputs": [
    {
     "data": {
      "text/plain": [
       "<xarray.core.options.set_options at 0x7f8e0279e590>"
      ]
     },
     "execution_count": 4,
     "metadata": {},
     "output_type": "execute_result"
    }
   ],
   "source": [
    "xr.set_options(keep_attrs=True)"
   ]
  },
  {
   "cell_type": "code",
   "execution_count": 5,
   "metadata": {
    "execution": {
     "iopub.execute_input": "2021-06-11T15:02:22.291368Z",
     "iopub.status.busy": "2021-06-11T15:02:22.291241Z",
     "iopub.status.idle": "2021-06-11T15:02:22.304092Z",
     "shell.execute_reply": "2021-06-11T15:02:22.303520Z",
     "shell.execute_reply.started": "2021-06-11T15:02:22.291352Z"
    }
   },
   "outputs": [],
   "source": [
    "import ecephys_analyses as ea \n",
    "from ecephys.signal.xarray_utils import filter_dataset_by_hypnogram"
   ]
  },
  {
   "cell_type": "code",
   "execution_count": 6,
   "metadata": {
    "execution": {
     "iopub.execute_input": "2021-06-11T15:02:22.304790Z",
     "iopub.status.busy": "2021-06-11T15:02:22.304668Z",
     "iopub.status.idle": "2021-06-11T15:02:22.316230Z",
     "shell.execute_reply": "2021-06-11T15:02:22.315489Z",
     "shell.execute_reply.started": "2021-06-11T15:02:22.304775Z"
    }
   },
   "outputs": [],
   "source": [
    "def ds2df(ds):\n",
    "    s = ds.to_dataframe().stack()\n",
    "    s.index.names = s.index.names[:-1] + ['region']\n",
    "    return s.to_frame(name='power')"
   ]
  },
  {
   "cell_type": "code",
   "execution_count": 7,
   "metadata": {
    "execution": {
     "iopub.execute_input": "2021-06-11T15:02:22.316932Z",
     "iopub.status.busy": "2021-06-11T15:02:22.316810Z",
     "iopub.status.idle": "2021-06-11T15:02:22.328245Z",
     "shell.execute_reply": "2021-06-11T15:02:22.327607Z",
     "shell.execute_reply.started": "2021-06-11T15:02:22.316917Z"
    }
   },
   "outputs": [],
   "source": [
    "subject = \"Doppio\"\n",
    "experiment = \"sleep-homeostasis\"\n",
    "norm_condition = \"light-period-circadian-match\"\n",
    "rec_condition = \"recovery-sleep\"\n",
    "states = [\"N1\", \"N2\"]\n",
    "duration = '01:00:00'\n",
    "light_period_start = '09:00:00'\n",
    "light_period_end = '21:00:00'\n",
    "f_range = (0.5, 4)"
   ]
  },
  {
   "cell_type": "code",
   "execution_count": 8,
   "metadata": {
    "execution": {
     "iopub.execute_input": "2021-06-11T15:02:22.328890Z",
     "iopub.status.busy": "2021-06-11T15:02:22.328770Z",
     "iopub.status.idle": "2021-06-11T15:02:31.132562Z",
     "shell.execute_reply": "2021-06-11T15:02:31.132145Z",
     "shell.execute_reply.started": "2021-06-11T15:02:22.328874Z"
    }
   },
   "outputs": [],
   "source": [
    "norm_hyp = ea.load_hypnogram(subject, experiment, norm_condition)\n",
    "norm_hyp = norm_hyp.keep_states(states).keep_between(light_period_start, light_period_end)\n",
    "\n",
    "norm_pow = ea.load_power(subject, experiment, norm_condition, \"spg.nc\").sel(frequency=slice(*f_range)).sum(dim=\"frequency\")\n",
    "norm_pow = filter_dataset_by_hypnogram(norm_pow, norm_hyp).swap_dims({'time': 'datetime'}).drop_vars(['time', 'timedelta'])"
   ]
  },
  {
   "cell_type": "code",
   "execution_count": 9,
   "metadata": {
    "execution": {
     "iopub.execute_input": "2021-06-11T15:02:31.134009Z",
     "iopub.status.busy": "2021-06-11T15:02:31.133872Z",
     "iopub.status.idle": "2021-06-11T15:02:34.186068Z",
     "shell.execute_reply": "2021-06-11T15:02:34.185556Z",
     "shell.execute_reply.started": "2021-06-11T15:02:31.133993Z"
    }
   },
   "outputs": [],
   "source": [
    "rec_hyp = ea.load_hypnogram(subject, experiment, rec_condition)\n",
    "rec_pow = ea.load_power(subject, experiment, rec_condition, \"spg.nc\").sel(frequency=slice(*f_range)).sum(dim='frequency')\n",
    "rec_pow = rec_pow / norm_pow.mean(dim=\"datetime\") * 100"
   ]
  },
  {
   "cell_type": "code",
   "execution_count": 10,
   "metadata": {
    "execution": {
     "iopub.execute_input": "2021-06-11T15:02:34.187225Z",
     "iopub.status.busy": "2021-06-11T15:02:34.187079Z",
     "iopub.status.idle": "2021-06-11T15:02:34.269577Z",
     "shell.execute_reply": "2021-06-11T15:02:34.269151Z",
     "shell.execute_reply.started": "2021-06-11T15:02:34.187208Z"
    }
   },
   "outputs": [],
   "source": [
    "early_hyp = rec_hyp.keep_states(states).keep_first(duration)\n",
    "early_pow = filter_dataset_by_hypnogram(rec_pow, early_hyp).swap_dims({'time': 'datetime'}).drop_vars(['time', 'timedelta'])"
   ]
  },
  {
   "cell_type": "code",
   "execution_count": 11,
   "metadata": {
    "execution": {
     "iopub.execute_input": "2021-06-11T15:02:34.270253Z",
     "iopub.status.busy": "2021-06-11T15:02:34.270127Z",
     "iopub.status.idle": "2021-06-11T15:02:34.370903Z",
     "shell.execute_reply": "2021-06-11T15:02:34.370381Z",
     "shell.execute_reply.started": "2021-06-11T15:02:34.270237Z"
    }
   },
   "outputs": [],
   "source": [
    "late_hyp = rec_hyp.keep_states(states).keep_last(duration)\n",
    "late_pow = filter_dataset_by_hypnogram(rec_pow, late_hyp).swap_dims({'time': 'datetime'}).drop_vars(['time', 'timedelta'])"
   ]
  },
  {
   "cell_type": "code",
   "execution_count": 12,
   "metadata": {
    "execution": {
     "iopub.execute_input": "2021-06-11T15:02:34.371618Z",
     "iopub.status.busy": "2021-06-11T15:02:34.371492Z",
     "iopub.status.idle": "2021-06-11T15:02:34.387803Z",
     "shell.execute_reply": "2021-06-11T15:02:34.387239Z",
     "shell.execute_reply.started": "2021-06-11T15:02:34.371602Z"
    }
   },
   "outputs": [],
   "source": [
    "nrem_pow = pd.concat([ds2df(early_pow).assign(condition=\"early\"), ds2df(late_pow).assign(condition=\"late\")])"
   ]
  },
  {
   "cell_type": "code",
   "execution_count": 13,
   "metadata": {
    "execution": {
     "iopub.execute_input": "2021-06-11T15:02:34.388475Z",
     "iopub.status.busy": "2021-06-11T15:02:34.388352Z",
     "iopub.status.idle": "2021-06-11T15:02:35.378878Z",
     "shell.execute_reply": "2021-06-11T15:02:35.378367Z",
     "shell.execute_reply.started": "2021-06-11T15:02:34.388460Z"
    }
   },
   "outputs": [
    {
     "data": {
      "image/png": "[encoded data removed]",
      "text/plain": [
       "<Figure size 781.125x360 with 2 Axes>"
      ]
     },
     "metadata": {
      "needs_background": "light"
     },
     "output_type": "display_data"
    }
   ],
   "source": [
    "g = sns.displot(data=nrem_pow, x='power', hue='condition', col='region', kind='hist')\n",
    "g.set(xlabel='Delta (0.5 - 4Hz) PSD (uV^2/Hz)')\n",
    "g.tight_layout()"
   ]
  },
  {
   "cell_type": "code",
   "execution_count": 14,
   "metadata": {
    "execution": {
     "iopub.execute_input": "2021-06-11T15:02:35.379774Z",
     "iopub.status.busy": "2021-06-11T15:02:35.379616Z",
     "iopub.status.idle": "2021-06-11T15:02:36.109937Z",
     "shell.execute_reply": "2021-06-11T15:02:36.109419Z",
     "shell.execute_reply.started": "2021-06-11T15:02:35.379755Z"
    }
   },
   "outputs": [
    {
     "data": {
      "image/png": "[encoded data removed]",
      "text/plain": [
       "<Figure size 781.125x360 with 2 Axes>"
      ]
     },
     "metadata": {
      "needs_background": "light"
     },
     "output_type": "display_data"
    }
   ],
   "source": [
    "nrem_pow_log = nrem_pow.copy()\n",
    "nrem_pow_log['power'] = np.log(nrem_pow.power)\n",
    "\n",
    "g = sns.displot(data=nrem_pow_log, x='power', hue='condition', col='region', kind='hist')\n",
    "g.set(xlabel='Delta (0.5 - 4Hz) PSD (uV^2/Hz)')\n",
    "g.tight_layout()"
   ]
  },
  {
   "cell_type": "code",
   "execution_count": 15,
   "metadata": {
    "execution": {
     "iopub.execute_input": "2021-06-11T15:02:36.110748Z",
     "iopub.status.busy": "2021-06-11T15:02:36.110606Z",
     "iopub.status.idle": "2021-06-11T15:02:36.847718Z",
     "shell.execute_reply": "2021-06-11T15:02:36.847146Z",
     "shell.execute_reply.started": "2021-06-11T15:02:36.110731Z"
    }
   },
   "outputs": [
    {
     "data": {
      "image/png": "[encoded data removed]",
      "text/plain": [
       "<Figure size 781.125x360 with 2 Axes>"
      ]
     },
     "metadata": {
      "needs_background": "light"
     },
     "output_type": "display_data"
    }
   ],
   "source": [
    "nrem_pow_sqrt = nrem_pow.copy()\n",
    "nrem_pow_sqrt['power'] = np.sqrt(nrem_pow.power)\n",
    "\n",
    "g = sns.displot(data=nrem_pow_sqrt, x='power', hue='condition', col='region', kind='hist')\n",
    "g.set(xlabel='Delta (0.5 - 4Hz) PSD (uV^2/Hz)')\n",
    "g.tight_layout()"
   ]
  },
  {
   "cell_type": "code",
   "execution_count": 16,
   "metadata": {
    "execution": {
     "iopub.execute_input": "2021-06-11T15:02:36.848569Z",
     "iopub.status.busy": "2021-06-11T15:02:36.848429Z",
     "iopub.status.idle": "2021-06-11T15:02:36.861273Z",
     "shell.execute_reply": "2021-06-11T15:02:36.860535Z",
     "shell.execute_reply.started": "2021-06-11T15:02:36.848550Z"
    }
   },
   "outputs": [],
   "source": [
    "def difference_of_means(df):\n",
    "    means = df.groupby(['condition', 'region']).mean()\n",
    "    return means.xs('early') - means.xs('late')"
   ]
  },
  {
   "cell_type": "code",
   "execution_count": 17,
   "metadata": {
    "execution": {
     "iopub.execute_input": "2021-06-11T15:02:36.862070Z",
     "iopub.status.busy": "2021-06-11T15:02:36.861941Z",
     "iopub.status.idle": "2021-06-11T15:02:58.648255Z",
     "shell.execute_reply": "2021-06-11T15:02:58.646886Z",
     "shell.execute_reply.started": "2021-06-11T15:02:36.862055Z"
    }
   },
   "outputs": [],
   "source": [
    "observed = difference_of_means(nrem_pow)\n",
    "\n",
    "n_permutations = 10000\n",
    "permutations = list()\n",
    "permuted = nrem_pow.copy()\n",
    "for i in range(n_permutations):\n",
    "    np.random.shuffle(permuted.condition.values)\n",
    "    permutations.append(difference_of_means(permuted))\n",
    "    \n",
    "df = pd.concat(permutations)"
   ]
  },
  {
   "cell_type": "code",
   "execution_count": 18,
   "metadata": {
    "execution": {
     "iopub.execute_input": "2021-06-11T15:02:58.649856Z",
     "iopub.status.busy": "2021-06-11T15:02:58.649665Z",
     "iopub.status.idle": "2021-06-11T15:02:59.320053Z",
     "shell.execute_reply": "2021-06-11T15:02:59.319296Z",
     "shell.execute_reply.started": "2021-06-11T15:02:58.649835Z"
    }
   },
   "outputs": [
    {
     "data": {
      "image/png": "[encoded data removed]",
      "text/plain": [
       "<Figure size 720x360 with 2 Axes>"
      ]
     },
     "metadata": {
      "needs_background": "light"
     },
     "output_type": "display_data"
    }
   ],
   "source": [
    "g = sns.displot(data=df, x='power', col='region', kind='hist')\n",
    "g.set(xlabel='Difference of means (Early - Late)')\n",
    "g.tight_layout()"
   ]
  },
  {
   "cell_type": "code",
   "execution_count": 19,
   "metadata": {
    "execution": {
     "iopub.execute_input": "2021-06-11T15:02:59.321169Z",
     "iopub.status.busy": "2021-06-11T15:02:59.320990Z",
     "iopub.status.idle": "2021-06-11T15:02:59.339001Z",
     "shell.execute_reply": "2021-06-11T15:02:59.338341Z",
     "shell.execute_reply.started": "2021-06-11T15:02:59.321150Z"
    }
   },
   "outputs": [],
   "source": [
    "cx = df.xs('mpta_wm_ref').sort_values('power')\n",
    "hc = df.xs('sr_wm_ref').sort_values('power')"
   ]
  },
  {
   "cell_type": "code",
   "execution_count": 20,
   "metadata": {
    "execution": {
     "iopub.execute_input": "2021-06-11T15:02:59.339917Z",
     "iopub.status.busy": "2021-06-11T15:02:59.339784Z",
     "iopub.status.idle": "2021-06-11T15:02:59.352739Z",
     "shell.execute_reply": "2021-06-11T15:02:59.351979Z",
     "shell.execute_reply.started": "2021-06-11T15:02:59.339901Z"
    }
   },
   "outputs": [],
   "source": [
    "pcx = np.sum(cx.power.values >= observed.xs('mpta_wm_ref').values)"
   ]
  },
  {
   "cell_type": "code",
   "execution_count": 21,
   "metadata": {
    "execution": {
     "iopub.execute_input": "2021-06-11T15:02:59.353558Z",
     "iopub.status.busy": "2021-06-11T15:02:59.353432Z",
     "iopub.status.idle": "2021-06-11T15:02:59.363826Z",
     "shell.execute_reply": "2021-06-11T15:02:59.363072Z",
     "shell.execute_reply.started": "2021-06-11T15:02:59.353543Z"
    }
   },
   "outputs": [],
   "source": [
    "phc = np.sum(hc.power.values >= observed.xs('sr_wm_ref').values)"
   ]
  },
  {
   "cell_type": "code",
   "execution_count": 22,
   "metadata": {
    "execution": {
     "iopub.execute_input": "2021-06-11T15:02:59.364649Z",
     "iopub.status.busy": "2021-06-11T15:02:59.364524Z",
     "iopub.status.idle": "2021-06-11T15:02:59.380905Z",
     "shell.execute_reply": "2021-06-11T15:02:59.380113Z",
     "shell.execute_reply.started": "2021-06-11T15:02:59.364634Z"
    }
   },
   "outputs": [
    {
     "name": "stdout",
     "output_type": "stream",
     "text": [
      "Subject: Doppio\n",
      "Observed differences, Mean Early - Mean Late:\n",
      "\n",
      "| region      |    power |\n",
      "|:------------|---------:|\n",
      "| mpta_wm_ref | 104.764  |\n",
      "| sr_wm_ref   |  44.1803 |\n",
      "\n",
      "\n",
      "Shuffled differences >= observed:\n",
      "Cortex: 1 / 10000\n",
      "Hippocampus: 1 / 10000\n"
     ]
    }
   ],
   "source": [
    "print(f\"Subject: {subject}\")\n",
    "print('Observed differences, Mean Early - Mean Late:\\n')\n",
    "print(observed.to_markdown())\n",
    "print('\\n')\n",
    "print('Shuffled differences >= observed:')\n",
    "print(f\"Cortex: {1 + pcx} / {n_permutations}\")\n",
    "print(f\"Hippocampus: {1 + phc} / {n_permutations}\")"
   ]
  },
  {
   "cell_type": "code",
   "execution_count": 23,
   "metadata": {
    "execution": {
     "iopub.execute_input": "2021-06-11T15:02:59.381779Z",
     "iopub.status.busy": "2021-06-11T15:02:59.381652Z",
     "iopub.status.idle": "2021-06-11T15:02:59.393968Z",
     "shell.execute_reply": "2021-06-11T15:02:59.393337Z",
     "shell.execute_reply.started": "2021-06-11T15:02:59.381764Z"
    }
   },
   "outputs": [
    {
     "name": "stdout",
     "output_type": "stream",
     "text": [
      "Early condition end: 2020-03-18 16:31:36.990234375\n",
      "Late condition start: 2020-03-18 18:57:16.990234375\n"
     ]
    }
   ],
   "source": [
    "print(f\"Early condition end: {early_hyp.end_time.max()}\")\n",
    "print(f\"Late condition start: {late_hyp.start_time.min()}\")\n",
    "if early_hyp.end_time.max() > late_hyp.start_time.min():\n",
    "    print"
   ]
  },
  {
   "cell_type": "code",
   "execution_count": null,
   "metadata": {},
   "outputs": [],
   "source": []
  }
 ],
 "metadata": {
  "kernelspec": {
   "display_name": "Python 3",
   "language": "python",
   "name": "python3"
  },
  "language_info": {
   "codemirror_mode": {
    "name": "ipython",
    "version": 3
   },
   "file_extension": ".py",
   "mimetype": "text/x-python",
   "name": "python",
   "nbconvert_exporter": "python",
   "pygments_lexer": "ipython3",
   "version": "3.7.9"
  }
 },
 "nbformat": 4,
 "nbformat_minor": 4
}
