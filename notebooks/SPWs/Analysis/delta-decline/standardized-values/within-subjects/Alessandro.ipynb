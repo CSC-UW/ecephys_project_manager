{
 "cells": [
  {
   "cell_type": "code",
   "execution_count": 1,
   "metadata": {
    "execution": {
     "iopub.execute_input": "2021-06-11T15:02:29.976962Z",
     "iopub.status.busy": "2021-06-11T15:02:29.976553Z",
     "iopub.status.idle": "2021-06-11T15:02:29.994608Z",
     "shell.execute_reply": "2021-06-11T15:02:29.993993Z",
     "shell.execute_reply.started": "2021-06-11T15:02:29.976913Z"
    }
   },
   "outputs": [],
   "source": [
    "%load_ext autoreload\n",
    "%autoreload 2"
   ]
  },
  {
   "cell_type": "code",
   "execution_count": 2,
   "metadata": {
    "execution": {
     "iopub.execute_input": "2021-06-11T15:02:29.995458Z",
     "iopub.status.busy": "2021-06-11T15:02:29.995333Z",
     "iopub.status.idle": "2021-06-11T15:02:30.342542Z",
     "shell.execute_reply": "2021-06-11T15:02:30.341833Z",
     "shell.execute_reply.started": "2021-06-11T15:02:29.995442Z"
    }
   },
   "outputs": [],
   "source": [
    "# %matplotlib widget\n",
    "import matplotlib.pyplot as plt\n",
    "import seaborn as sns"
   ]
  },
  {
   "cell_type": "code",
   "execution_count": 3,
   "metadata": {
    "execution": {
     "iopub.execute_input": "2021-06-11T15:02:30.343687Z",
     "iopub.status.busy": "2021-06-11T15:02:30.343546Z",
     "iopub.status.idle": "2021-06-11T15:02:30.580034Z",
     "shell.execute_reply": "2021-06-11T15:02:30.579323Z",
     "shell.execute_reply.started": "2021-06-11T15:02:30.343670Z"
    }
   },
   "outputs": [],
   "source": [
    "import xarray as xr\n",
    "import numpy as np\n",
    "import pandas as pd"
   ]
  },
  {
   "cell_type": "code",
   "execution_count": 4,
   "metadata": {
    "execution": {
     "iopub.execute_input": "2021-06-11T15:02:30.581150Z",
     "iopub.status.busy": "2021-06-11T15:02:30.580995Z",
     "iopub.status.idle": "2021-06-11T15:02:30.594715Z",
     "shell.execute_reply": "2021-06-11T15:02:30.594114Z",
     "shell.execute_reply.started": "2021-06-11T15:02:30.581132Z"
    }
   },
   "outputs": [
    {
     "data": {
      "text/plain": [
       "<xarray.core.options.set_options at 0x7fbbfe24cf90>"
      ]
     },
     "execution_count": 4,
     "metadata": {},
     "output_type": "execute_result"
    }
   ],
   "source": [
    "xr.set_options(keep_attrs=True)"
   ]
  },
  {
   "cell_type": "code",
   "execution_count": 5,
   "metadata": {
    "execution": {
     "iopub.execute_input": "2021-06-11T15:02:30.595569Z",
     "iopub.status.busy": "2021-06-11T15:02:30.595429Z",
     "iopub.status.idle": "2021-06-11T15:02:30.610938Z",
     "shell.execute_reply": "2021-06-11T15:02:30.610355Z",
     "shell.execute_reply.started": "2021-06-11T15:02:30.595553Z"
    }
   },
   "outputs": [],
   "source": [
    "import ecephys_analyses as ea \n",
    "from ecephys.signal.xarray_utils import filter_dataset_by_hypnogram"
   ]
  },
  {
   "cell_type": "code",
   "execution_count": 6,
   "metadata": {
    "execution": {
     "iopub.execute_input": "2021-06-11T15:02:30.611749Z",
     "iopub.status.busy": "2021-06-11T15:02:30.611619Z",
     "iopub.status.idle": "2021-06-11T15:02:30.624516Z",
     "shell.execute_reply": "2021-06-11T15:02:30.623805Z",
     "shell.execute_reply.started": "2021-06-11T15:02:30.611733Z"
    }
   },
   "outputs": [],
   "source": [
    "def ds2df(ds):\n",
    "    s = ds.to_dataframe().stack()\n",
    "    s.index.names = s.index.names[:-1] + ['region']\n",
    "    return s.to_frame(name='power')"
   ]
  },
  {
   "cell_type": "code",
   "execution_count": 7,
   "metadata": {
    "execution": {
     "iopub.execute_input": "2021-06-11T15:02:30.625332Z",
     "iopub.status.busy": "2021-06-11T15:02:30.625203Z",
     "iopub.status.idle": "2021-06-11T15:02:30.638059Z",
     "shell.execute_reply": "2021-06-11T15:02:30.637321Z",
     "shell.execute_reply.started": "2021-06-11T15:02:30.625315Z"
    }
   },
   "outputs": [],
   "source": [
    "subject = \"Alessandro\"\n",
    "experiment = \"sleep-homeostasis\"\n",
    "norm_condition = \"light-period-circadian-match\"\n",
    "rec_condition = \"recovery-sleep\"\n",
    "states = [\"N1\", \"N2\"]\n",
    "duration = '01:00:00'\n",
    "light_period_start = '09:00:00'\n",
    "light_period_end = '21:00:00'\n",
    "f_range = (0.5, 4)"
   ]
  },
  {
   "cell_type": "code",
   "execution_count": 8,
   "metadata": {
    "execution": {
     "iopub.execute_input": "2021-06-11T15:02:30.638787Z",
     "iopub.status.busy": "2021-06-11T15:02:30.638666Z",
     "iopub.status.idle": "2021-06-11T15:02:39.318466Z",
     "shell.execute_reply": "2021-06-11T15:02:39.317551Z",
     "shell.execute_reply.started": "2021-06-11T15:02:30.638772Z"
    }
   },
   "outputs": [],
   "source": [
    "norm_hyp = ea.load_hypnogram(subject, experiment, norm_condition)\n",
    "norm_hyp = norm_hyp.keep_states(states).keep_between(light_period_start, light_period_end)\n",
    "\n",
    "norm_pow = ea.load_power(subject, experiment, norm_condition, \"spg.nc\").sel(frequency=slice(*f_range)).sum(dim=\"frequency\")\n",
    "norm_pow = filter_dataset_by_hypnogram(norm_pow, norm_hyp).swap_dims({'time': 'datetime'}).drop_vars(['time', 'timedelta'])"
   ]
  },
  {
   "cell_type": "code",
   "execution_count": 9,
   "metadata": {
    "execution": {
     "iopub.execute_input": "2021-06-11T15:02:39.320319Z",
     "iopub.status.busy": "2021-06-11T15:02:39.320150Z",
     "iopub.status.idle": "2021-06-11T15:02:42.420353Z",
     "shell.execute_reply": "2021-06-11T15:02:42.418919Z",
     "shell.execute_reply.started": "2021-06-11T15:02:39.320301Z"
    }
   },
   "outputs": [],
   "source": [
    "rec_hyp = ea.load_hypnogram(subject, experiment, rec_condition)\n",
    "rec_pow = ea.load_power(subject, experiment, rec_condition, \"spg.nc\").sel(frequency=slice(*f_range)).sum(dim='frequency')\n",
    "rec_pow = rec_pow / norm_pow.mean(dim=\"datetime\") * 100"
   ]
  },
  {
   "cell_type": "code",
   "execution_count": 10,
   "metadata": {
    "execution": {
     "iopub.execute_input": "2021-06-11T15:02:42.422619Z",
     "iopub.status.busy": "2021-06-11T15:02:42.422431Z",
     "iopub.status.idle": "2021-06-11T15:02:42.471191Z",
     "shell.execute_reply": "2021-06-11T15:02:42.470484Z",
     "shell.execute_reply.started": "2021-06-11T15:02:42.422589Z"
    }
   },
   "outputs": [],
   "source": [
    "early_hyp = rec_hyp.keep_states(states).keep_first(duration)\n",
    "early_pow = filter_dataset_by_hypnogram(rec_pow, early_hyp).swap_dims({'time': 'datetime'}).drop_vars(['time', 'timedelta'])"
   ]
  },
  {
   "cell_type": "code",
   "execution_count": 11,
   "metadata": {
    "execution": {
     "iopub.execute_input": "2021-06-11T15:02:42.472084Z",
     "iopub.status.busy": "2021-06-11T15:02:42.471954Z",
     "iopub.status.idle": "2021-06-11T15:02:42.540982Z",
     "shell.execute_reply": "2021-06-11T15:02:42.540236Z",
     "shell.execute_reply.started": "2021-06-11T15:02:42.472069Z"
    }
   },
   "outputs": [],
   "source": [
    "late_hyp = rec_hyp.keep_states(states).keep_last(duration)\n",
    "late_pow = filter_dataset_by_hypnogram(rec_pow, late_hyp).swap_dims({'time': 'datetime'}).drop_vars(['time', 'timedelta'])"
   ]
  },
  {
   "cell_type": "code",
   "execution_count": 12,
   "metadata": {
    "execution": {
     "iopub.execute_input": "2021-06-11T15:02:42.541880Z",
     "iopub.status.busy": "2021-06-11T15:02:42.541757Z",
     "iopub.status.idle": "2021-06-11T15:02:42.557900Z",
     "shell.execute_reply": "2021-06-11T15:02:42.557169Z",
     "shell.execute_reply.started": "2021-06-11T15:02:42.541866Z"
    }
   },
   "outputs": [],
   "source": [
    "nrem_pow = pd.concat([ds2df(early_pow).assign(condition=\"early\"), ds2df(late_pow).assign(condition=\"late\")])"
   ]
  },
  {
   "cell_type": "code",
   "execution_count": 13,
   "metadata": {
    "execution": {
     "iopub.execute_input": "2021-06-11T15:02:42.558590Z",
     "iopub.status.busy": "2021-06-11T15:02:42.558473Z",
     "iopub.status.idle": "2021-06-11T15:02:43.378002Z",
     "shell.execute_reply": "2021-06-11T15:02:43.376644Z",
     "shell.execute_reply.started": "2021-06-11T15:02:42.558575Z"
    }
   },
   "outputs": [
    {
     "data": {
      "image/png": "[encoded data removed]",
      "text/plain": [
       "<Figure size 781.125x360 with 2 Axes>"
      ]
     },
     "metadata": {
      "needs_background": "light"
     },
     "output_type": "display_data"
    }
   ],
   "source": [
    "g = sns.displot(data=nrem_pow, x='power', hue='condition', col='region', kind='hist')\n",
    "g.set(xlabel='Delta (0.5 - 4Hz) PSD (uV^2/Hz)')\n",
    "g.tight_layout()"
   ]
  },
  {
   "cell_type": "code",
   "execution_count": 14,
   "metadata": {
    "execution": {
     "iopub.execute_input": "2021-06-11T15:02:43.380820Z",
     "iopub.status.busy": "2021-06-11T15:02:43.380350Z",
     "iopub.status.idle": "2021-06-11T15:02:44.122820Z",
     "shell.execute_reply": "2021-06-11T15:02:44.122051Z",
     "shell.execute_reply.started": "2021-06-11T15:02:43.380756Z"
    }
   },
   "outputs": [
    {
     "data": {
      "image/png": "[encoded data removed]",
      "text/plain": [
       "<Figure size 781.125x360 with 2 Axes>"
      ]
     },
     "metadata": {
      "needs_background": "light"
     },
     "output_type": "display_data"
    }
   ],
   "source": [
    "nrem_pow_log = nrem_pow.copy()\n",
    "nrem_pow_log['power'] = np.log(nrem_pow.power)\n",
    "\n",
    "g = sns.displot(data=nrem_pow_log, x='power', hue='condition', col='region', kind='hist')\n",
    "g.set(xlabel='Delta (0.5 - 4Hz) PSD (uV^2/Hz)')\n",
    "g.tight_layout()"
   ]
  },
  {
   "cell_type": "code",
   "execution_count": 15,
   "metadata": {
    "execution": {
     "iopub.execute_input": "2021-06-11T15:02:44.123897Z",
     "iopub.status.busy": "2021-06-11T15:02:44.123753Z",
     "iopub.status.idle": "2021-06-11T15:02:44.857900Z",
     "shell.execute_reply": "2021-06-11T15:02:44.857106Z",
     "shell.execute_reply.started": "2021-06-11T15:02:44.123880Z"
    }
   },
   "outputs": [
    {
     "data": {
      "image/png": "[encoded data removed]",
      "text/plain": [
       "<Figure size 781.125x360 with 2 Axes>"
      ]
     },
     "metadata": {
      "needs_background": "light"
     },
     "output_type": "display_data"
    }
   ],
   "source": [
    "nrem_pow_sqrt = nrem_pow.copy()\n",
    "nrem_pow_sqrt['power'] = np.sqrt(nrem_pow.power)\n",
    "\n",
    "g = sns.displot(data=nrem_pow_sqrt, x='power', hue='condition', col='region', kind='hist')\n",
    "g.set(xlabel='Delta (0.5 - 4Hz) PSD (uV^2/Hz)')\n",
    "g.tight_layout()"
   ]
  },
  {
   "cell_type": "code",
   "execution_count": 16,
   "metadata": {
    "execution": {
     "iopub.execute_input": "2021-06-11T15:02:44.859702Z",
     "iopub.status.busy": "2021-06-11T15:02:44.859439Z",
     "iopub.status.idle": "2021-06-11T15:02:44.879868Z",
     "shell.execute_reply": "2021-06-11T15:02:44.878983Z",
     "shell.execute_reply.started": "2021-06-11T15:02:44.859678Z"
    }
   },
   "outputs": [],
   "source": [
    "def difference_of_means(df):\n",
    "    means = df.groupby(['condition', 'region']).mean()\n",
    "    return means.xs('early') - means.xs('late')"
   ]
  },
  {
   "cell_type": "code",
   "execution_count": 17,
   "metadata": {
    "execution": {
     "iopub.execute_input": "2021-06-11T15:02:44.880756Z",
     "iopub.status.busy": "2021-06-11T15:02:44.880628Z",
     "iopub.status.idle": "2021-06-11T15:03:05.654351Z",
     "shell.execute_reply": "2021-06-11T15:03:05.653136Z",
     "shell.execute_reply.started": "2021-06-11T15:02:44.880741Z"
    }
   },
   "outputs": [],
   "source": [
    "observed = difference_of_means(nrem_pow)\n",
    "\n",
    "n_permutations = 10000\n",
    "permutations = list()\n",
    "permuted = nrem_pow.copy()\n",
    "for i in range(n_permutations):\n",
    "    np.random.shuffle(permuted.condition.values)\n",
    "    permutations.append(difference_of_means(permuted))\n",
    "    \n",
    "df = pd.concat(permutations)"
   ]
  },
  {
   "cell_type": "code",
   "execution_count": 18,
   "metadata": {
    "execution": {
     "iopub.execute_input": "2021-06-11T15:03:05.655455Z",
     "iopub.status.busy": "2021-06-11T15:03:05.655315Z",
     "iopub.status.idle": "2021-06-11T15:03:06.246948Z",
     "shell.execute_reply": "2021-06-11T15:03:06.246221Z",
     "shell.execute_reply.started": "2021-06-11T15:03:05.655439Z"
    }
   },
   "outputs": [
    {
     "data": {
      "image/png": "[encoded data removed]",
      "text/plain": [
       "<Figure size 720x360 with 2 Axes>"
      ]
     },
     "metadata": {
      "needs_background": "light"
     },
     "output_type": "display_data"
    }
   ],
   "source": [
    "g = sns.displot(data=df, x='power', col='region', kind='hist')\n",
    "g.set(xlabel='Difference of means (Early - Late)')\n",
    "g.tight_layout()"
   ]
  },
  {
   "cell_type": "code",
   "execution_count": 19,
   "metadata": {
    "execution": {
     "iopub.execute_input": "2021-06-11T15:03:06.247947Z",
     "iopub.status.busy": "2021-06-11T15:03:06.247803Z",
     "iopub.status.idle": "2021-06-11T15:03:06.264295Z",
     "shell.execute_reply": "2021-06-11T15:03:06.263689Z",
     "shell.execute_reply.started": "2021-06-11T15:03:06.247931Z"
    }
   },
   "outputs": [],
   "source": [
    "cx = df.xs('mpta_wm_ref').sort_values('power')\n",
    "hc = df.xs('sr_wm_ref').sort_values('power')"
   ]
  },
  {
   "cell_type": "code",
   "execution_count": 20,
   "metadata": {
    "execution": {
     "iopub.execute_input": "2021-06-11T15:03:06.265142Z",
     "iopub.status.busy": "2021-06-11T15:03:06.265011Z",
     "iopub.status.idle": "2021-06-11T15:03:06.276261Z",
     "shell.execute_reply": "2021-06-11T15:03:06.275448Z",
     "shell.execute_reply.started": "2021-06-11T15:03:06.265126Z"
    }
   },
   "outputs": [],
   "source": [
    "pcx = np.sum(cx.power.values >= observed.xs('mpta_wm_ref').values)"
   ]
  },
  {
   "cell_type": "code",
   "execution_count": 21,
   "metadata": {
    "execution": {
     "iopub.execute_input": "2021-06-11T15:03:06.277035Z",
     "iopub.status.busy": "2021-06-11T15:03:06.276918Z",
     "iopub.status.idle": "2021-06-11T15:03:06.287252Z",
     "shell.execute_reply": "2021-06-11T15:03:06.286343Z",
     "shell.execute_reply.started": "2021-06-11T15:03:06.277021Z"
    }
   },
   "outputs": [],
   "source": [
    "phc = np.sum(hc.power.values >= observed.xs('sr_wm_ref').values)"
   ]
  },
  {
   "cell_type": "code",
   "execution_count": 22,
   "metadata": {
    "execution": {
     "iopub.execute_input": "2021-06-11T15:03:06.288005Z",
     "iopub.status.busy": "2021-06-11T15:03:06.287888Z",
     "iopub.status.idle": "2021-06-11T15:03:06.303837Z",
     "shell.execute_reply": "2021-06-11T15:03:06.303114Z",
     "shell.execute_reply.started": "2021-06-11T15:03:06.287991Z"
    }
   },
   "outputs": [
    {
     "name": "stdout",
     "output_type": "stream",
     "text": [
      "Subject: Alessandro\n",
      "Observed differences, Mean Early - Mean Late:\n",
      "\n",
      "| region      |   power |\n",
      "|:------------|--------:|\n",
      "| mpta_wm_ref | 71.854  |\n",
      "| sr_wm_ref   | 49.9727 |\n",
      "\n",
      "\n",
      "Shuffled differences >= observed:\n",
      "Cortex: 1 / 10000\n",
      "Hippocampus: 1 / 10000\n"
     ]
    }
   ],
   "source": [
    "print(f\"Subject: {subject}\")\n",
    "print('Observed differences, Mean Early - Mean Late:\\n')\n",
    "print(observed.to_markdown())\n",
    "print('\\n')\n",
    "print('Shuffled differences >= observed:')\n",
    "print(f\"Cortex: {1 + pcx} / {n_permutations}\")\n",
    "print(f\"Hippocampus: {1 + phc} / {n_permutations}\")"
   ]
  },
  {
   "cell_type": "code",
   "execution_count": 23,
   "metadata": {
    "execution": {
     "iopub.execute_input": "2021-06-11T15:03:06.304695Z",
     "iopub.status.busy": "2021-06-11T15:03:06.304572Z",
     "iopub.status.idle": "2021-06-11T15:03:06.316817Z",
     "shell.execute_reply": "2021-06-11T15:03:06.316240Z",
     "shell.execute_reply.started": "2021-06-11T15:03:06.304681Z"
    }
   },
   "outputs": [
    {
     "name": "stdout",
     "output_type": "stream",
     "text": [
      "Early condition end: 2020-08-25 16:12:11.989990234\n",
      "Late condition start: 2020-08-25 19:33:51.989990234\n"
     ]
    }
   ],
   "source": [
    "print(f\"Early condition end: {early_hyp.end_time.max()}\")\n",
    "print(f\"Late condition start: {late_hyp.start_time.min()}\")\n",
    "if early_hyp.end_time.max() > late_hyp.start_time.min():\n",
    "    print"
   ]
  },
  {
   "cell_type": "code",
   "execution_count": null,
   "metadata": {},
   "outputs": [],
   "source": []
  }
 ],
 "metadata": {
  "kernelspec": {
   "display_name": "Python 3",
   "language": "python",
   "name": "python3"
  },
  "language_info": {
   "codemirror_mode": {
    "name": "ipython",
    "version": 3
   },
   "file_extension": ".py",
   "mimetype": "text/x-python",
   "name": "python",
   "nbconvert_exporter": "python",
   "pygments_lexer": "ipython3",
   "version": "3.7.9"
  }
 },
 "nbformat": 4,
 "nbformat_minor": 4
}
