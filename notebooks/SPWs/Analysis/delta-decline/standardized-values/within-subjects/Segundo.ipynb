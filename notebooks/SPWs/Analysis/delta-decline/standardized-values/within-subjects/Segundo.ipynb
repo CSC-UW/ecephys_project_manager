{
 "cells": [
  {
   "cell_type": "code",
   "execution_count": 1,
   "metadata": {
    "execution": {
     "iopub.execute_input": "2021-06-11T14:52:03.553568Z",
     "iopub.status.busy": "2021-06-11T14:52:03.553175Z",
     "iopub.status.idle": "2021-06-11T14:52:03.570102Z",
     "shell.execute_reply": "2021-06-11T14:52:03.569537Z",
     "shell.execute_reply.started": "2021-06-11T14:52:03.553519Z"
    }
   },
   "outputs": [],
   "source": [
    "%load_ext autoreload\n",
    "%autoreload 2"
   ]
  },
  {
   "cell_type": "code",
   "execution_count": 2,
   "metadata": {
    "execution": {
     "iopub.execute_input": "2021-06-11T14:52:03.822387Z",
     "iopub.status.busy": "2021-06-11T14:52:03.821964Z",
     "iopub.status.idle": "2021-06-11T14:52:04.149087Z",
     "shell.execute_reply": "2021-06-11T14:52:04.148525Z",
     "shell.execute_reply.started": "2021-06-11T14:52:03.822332Z"
    }
   },
   "outputs": [],
   "source": [
    "# %matplotlib widget\n",
    "import matplotlib.pyplot as plt\n",
    "import seaborn as sns"
   ]
  },
  {
   "cell_type": "code",
   "execution_count": 3,
   "metadata": {
    "execution": {
     "iopub.execute_input": "2021-06-11T14:52:04.161190Z",
     "iopub.status.busy": "2021-06-11T14:52:04.161054Z",
     "iopub.status.idle": "2021-06-11T14:52:04.389532Z",
     "shell.execute_reply": "2021-06-11T14:52:04.388818Z",
     "shell.execute_reply.started": "2021-06-11T14:52:04.161173Z"
    }
   },
   "outputs": [],
   "source": [
    "import xarray as xr\n",
    "import numpy as np\n",
    "import pandas as pd"
   ]
  },
  {
   "cell_type": "code",
   "execution_count": 4,
   "metadata": {
    "execution": {
     "iopub.execute_input": "2021-06-11T14:52:04.390450Z",
     "iopub.status.busy": "2021-06-11T14:52:04.390318Z",
     "iopub.status.idle": "2021-06-11T14:52:04.403245Z",
     "shell.execute_reply": "2021-06-11T14:52:04.402663Z",
     "shell.execute_reply.started": "2021-06-11T14:52:04.390433Z"
    }
   },
   "outputs": [
    {
     "data": {
      "text/plain": [
       "<xarray.core.options.set_options at 0x7f6b3320d290>"
      ]
     },
     "execution_count": 4,
     "metadata": {},
     "output_type": "execute_result"
    }
   ],
   "source": [
    "xr.set_options(keep_attrs=True)"
   ]
  },
  {
   "cell_type": "code",
   "execution_count": 5,
   "metadata": {
    "execution": {
     "iopub.execute_input": "2021-06-11T14:52:04.416487Z",
     "iopub.status.busy": "2021-06-11T14:52:04.416367Z",
     "iopub.status.idle": "2021-06-11T14:52:04.466116Z",
     "shell.execute_reply": "2021-06-11T14:52:04.465361Z",
     "shell.execute_reply.started": "2021-06-11T14:52:04.416471Z"
    }
   },
   "outputs": [],
   "source": [
    "import ecephys_analyses as ea \n",
    "from ecephys.signal.xarray_utils import filter_dataset_by_hypnogram"
   ]
  },
  {
   "cell_type": "code",
   "execution_count": 6,
   "metadata": {
    "execution": {
     "iopub.execute_input": "2021-06-11T14:52:04.532938Z",
     "iopub.status.busy": "2021-06-11T14:52:04.532745Z",
     "iopub.status.idle": "2021-06-11T14:52:04.549987Z",
     "shell.execute_reply": "2021-06-11T14:52:04.549303Z",
     "shell.execute_reply.started": "2021-06-11T14:52:04.532913Z"
    }
   },
   "outputs": [],
   "source": [
    "def ds2df(ds):\n",
    "    s = ds.to_dataframe().stack()\n",
    "    s.index.names = s.index.names[:-1] + ['region']\n",
    "    return s.to_frame(name='power')"
   ]
  },
  {
   "cell_type": "code",
   "execution_count": 25,
   "metadata": {
    "execution": {
     "iopub.execute_input": "2021-06-11T14:57:39.651321Z",
     "iopub.status.busy": "2021-06-11T14:57:39.650824Z",
     "iopub.status.idle": "2021-06-11T14:57:39.674228Z",
     "shell.execute_reply": "2021-06-11T14:57:39.673490Z",
     "shell.execute_reply.started": "2021-06-11T14:57:39.651253Z"
    }
   },
   "outputs": [],
   "source": [
    "subject = \"Segundo\"\n",
    "experiment = \"sleep-homeostasis\"\n",
    "norm_condition = \"light-period-circadian-match\"\n",
    "rec_condition = \"recovery-sleep\"\n",
    "states = [\"N1\", \"N2\"]\n",
    "duration = '01:00:00'\n",
    "light_period_start = '09:00:00'\n",
    "light_period_end = '21:00:00'\n",
    "f_range = (0.5, 4)"
   ]
  },
  {
   "cell_type": "code",
   "execution_count": 26,
   "metadata": {
    "execution": {
     "iopub.execute_input": "2021-06-11T14:57:58.677084Z",
     "iopub.status.busy": "2021-06-11T14:57:58.676940Z",
     "iopub.status.idle": "2021-06-11T14:58:04.928292Z",
     "shell.execute_reply": "2021-06-11T14:58:04.927651Z",
     "shell.execute_reply.started": "2021-06-11T14:57:58.677064Z"
    }
   },
   "outputs": [],
   "source": [
    "norm_hyp = ea.load_hypnogram(subject, experiment, norm_condition)\n",
    "norm_hyp = norm_hyp.keep_states(states).keep_between(light_period_start, light_period_end)\n",
    "\n",
    "norm_pow = ea.load_power(subject, experiment, norm_condition, \"spg.nc\").sel(frequency=slice(*f_range)).sum(dim=\"frequency\")\n",
    "norm_pow = filter_dataset_by_hypnogram(norm_pow, norm_hyp).swap_dims({'time': 'datetime'}).drop_vars(['time', 'timedelta'])"
   ]
  },
  {
   "cell_type": "code",
   "execution_count": 27,
   "metadata": {
    "execution": {
     "iopub.execute_input": "2021-06-11T14:58:04.929572Z",
     "iopub.status.busy": "2021-06-11T14:58:04.929425Z",
     "iopub.status.idle": "2021-06-11T14:58:07.458394Z",
     "shell.execute_reply": "2021-06-11T14:58:07.457678Z",
     "shell.execute_reply.started": "2021-06-11T14:58:04.929555Z"
    }
   },
   "outputs": [],
   "source": [
    "rec_hyp = ea.load_hypnogram(subject, experiment, rec_condition)\n",
    "rec_pow = ea.load_power(subject, experiment, rec_condition, \"spg.nc\").sel(frequency=slice(*f_range)).sum(dim='frequency')\n",
    "rec_pow = rec_pow / norm_pow.mean(dim=\"datetime\") * 100"
   ]
  },
  {
   "cell_type": "code",
   "execution_count": 28,
   "metadata": {
    "execution": {
     "iopub.execute_input": "2021-06-11T14:58:07.459470Z",
     "iopub.status.busy": "2021-06-11T14:58:07.459325Z",
     "iopub.status.idle": "2021-06-11T14:58:07.539078Z",
     "shell.execute_reply": "2021-06-11T14:58:07.538366Z",
     "shell.execute_reply.started": "2021-06-11T14:58:07.459453Z"
    }
   },
   "outputs": [],
   "source": [
    "early_hyp = rec_hyp.keep_states(states).keep_first(duration)\n",
    "early_pow = filter_dataset_by_hypnogram(rec_pow, early_hyp).swap_dims({'time': 'datetime'}).drop_vars(['time', 'timedelta'])"
   ]
  },
  {
   "cell_type": "code",
   "execution_count": 29,
   "metadata": {
    "execution": {
     "iopub.execute_input": "2021-06-11T14:58:07.539835Z",
     "iopub.status.busy": "2021-06-11T14:58:07.539711Z",
     "iopub.status.idle": "2021-06-11T14:58:07.621188Z",
     "shell.execute_reply": "2021-06-11T14:58:07.620551Z",
     "shell.execute_reply.started": "2021-06-11T14:58:07.539819Z"
    }
   },
   "outputs": [],
   "source": [
    "late_hyp = rec_hyp.keep_states(states).keep_last(duration)\n",
    "late_pow = filter_dataset_by_hypnogram(rec_pow, late_hyp).swap_dims({'time': 'datetime'}).drop_vars(['time', 'timedelta'])"
   ]
  },
  {
   "cell_type": "code",
   "execution_count": 30,
   "metadata": {
    "execution": {
     "iopub.execute_input": "2021-06-11T14:58:07.621965Z",
     "iopub.status.busy": "2021-06-11T14:58:07.621840Z",
     "iopub.status.idle": "2021-06-11T14:58:07.638665Z",
     "shell.execute_reply": "2021-06-11T14:58:07.638183Z",
     "shell.execute_reply.started": "2021-06-11T14:58:07.621950Z"
    }
   },
   "outputs": [],
   "source": [
    "nrem_pow = pd.concat([ds2df(early_pow).assign(condition=\"early\"), ds2df(late_pow).assign(condition=\"late\")])"
   ]
  },
  {
   "cell_type": "code",
   "execution_count": 31,
   "metadata": {
    "execution": {
     "iopub.execute_input": "2021-06-11T14:58:07.639388Z",
     "iopub.status.busy": "2021-06-11T14:58:07.639260Z",
     "iopub.status.idle": "2021-06-11T14:58:08.493036Z",
     "shell.execute_reply": "2021-06-11T14:58:08.492386Z",
     "shell.execute_reply.started": "2021-06-11T14:58:07.639372Z"
    }
   },
   "outputs": [
    {
     "data": {
      "image/png": "[encoded data removed]",
      "text/plain": [
       "<Figure size 781.125x360 with 2 Axes>"
      ]
     },
     "metadata": {
      "needs_background": "light"
     },
     "output_type": "display_data"
    }
   ],
   "source": [
    "g = sns.displot(data=nrem_pow, x='power', hue='condition', col='region', kind='hist')\n",
    "g.set(xlabel='Delta (0.5 - 4Hz) PSD (uV^2/Hz)')\n",
    "g.tight_layout()"
   ]
  },
  {
   "cell_type": "code",
   "execution_count": 32,
   "metadata": {
    "execution": {
     "iopub.execute_input": "2021-06-11T14:58:08.494526Z",
     "iopub.status.busy": "2021-06-11T14:58:08.494389Z",
     "iopub.status.idle": "2021-06-11T14:58:09.194522Z",
     "shell.execute_reply": "2021-06-11T14:58:09.193905Z",
     "shell.execute_reply.started": "2021-06-11T14:58:08.494509Z"
    }
   },
   "outputs": [
    {
     "data": {
      "image/png": "[encoded data removed]",
      "text/plain": [
       "<Figure size 781.125x360 with 2 Axes>"
      ]
     },
     "metadata": {
      "needs_background": "light"
     },
     "output_type": "display_data"
    }
   ],
   "source": [
    "nrem_pow_log = nrem_pow.copy()\n",
    "nrem_pow_log['power'] = np.log(nrem_pow.power)\n",
    "\n",
    "g = sns.displot(data=nrem_pow_log, x='power', hue='condition', col='region', kind='hist')\n",
    "g.set(xlabel='Delta (0.5 - 4Hz) PSD (uV^2/Hz)')\n",
    "g.tight_layout()"
   ]
  },
  {
   "cell_type": "code",
   "execution_count": 33,
   "metadata": {
    "execution": {
     "iopub.execute_input": "2021-06-11T14:58:09.195640Z",
     "iopub.status.busy": "2021-06-11T14:58:09.195507Z",
     "iopub.status.idle": "2021-06-11T14:58:09.843686Z",
     "shell.execute_reply": "2021-06-11T14:58:09.843070Z",
     "shell.execute_reply.started": "2021-06-11T14:58:09.195623Z"
    }
   },
   "outputs": [
    {
     "data": {
      "image/png": "[encoded data removed]",
      "text/plain": [
       "<Figure size 781.125x360 with 2 Axes>"
      ]
     },
     "metadata": {
      "needs_background": "light"
     },
     "output_type": "display_data"
    }
   ],
   "source": [
    "nrem_pow_sqrt = nrem_pow.copy()\n",
    "nrem_pow_sqrt['power'] = np.sqrt(nrem_pow.power)\n",
    "\n",
    "g = sns.displot(data=nrem_pow_sqrt, x='power', hue='condition', col='region', kind='hist')\n",
    "g.set(xlabel='Delta (0.5 - 4Hz) PSD (uV^2/Hz)')\n",
    "g.tight_layout()"
   ]
  },
  {
   "cell_type": "code",
   "execution_count": 34,
   "metadata": {
    "execution": {
     "iopub.execute_input": "2021-06-11T14:58:09.844547Z",
     "iopub.status.busy": "2021-06-11T14:58:09.844414Z",
     "iopub.status.idle": "2021-06-11T14:58:09.857482Z",
     "shell.execute_reply": "2021-06-11T14:58:09.856858Z",
     "shell.execute_reply.started": "2021-06-11T14:58:09.844530Z"
    }
   },
   "outputs": [],
   "source": [
    "def difference_of_means(df):\n",
    "    means = df.groupby(['condition', 'region']).mean()\n",
    "    return means.xs('early') - means.xs('late')"
   ]
  },
  {
   "cell_type": "code",
   "execution_count": 35,
   "metadata": {
    "execution": {
     "iopub.execute_input": "2021-06-11T14:58:09.858419Z",
     "iopub.status.busy": "2021-06-11T14:58:09.858292Z",
     "iopub.status.idle": "2021-06-11T14:58:31.357644Z",
     "shell.execute_reply": "2021-06-11T14:58:31.356893Z",
     "shell.execute_reply.started": "2021-06-11T14:58:09.858403Z"
    }
   },
   "outputs": [],
   "source": [
    "observed = difference_of_means(nrem_pow)\n",
    "\n",
    "n_permutations = 10000\n",
    "permutations = list()\n",
    "permuted = nrem_pow.copy()\n",
    "for i in range(n_permutations):\n",
    "    np.random.shuffle(permuted.condition.values)\n",
    "    permutations.append(difference_of_means(permuted))\n",
    "    \n",
    "df = pd.concat(permutations)"
   ]
  },
  {
   "cell_type": "code",
   "execution_count": 36,
   "metadata": {
    "execution": {
     "iopub.execute_input": "2021-06-11T14:58:31.358530Z",
     "iopub.status.busy": "2021-06-11T14:58:31.358395Z",
     "iopub.status.idle": "2021-06-11T14:58:31.940864Z",
     "shell.execute_reply": "2021-06-11T14:58:31.940197Z",
     "shell.execute_reply.started": "2021-06-11T14:58:31.358512Z"
    }
   },
   "outputs": [
    {
     "data": {
      "image/png": "[encoded data removed]",
      "text/plain": [
       "<Figure size 720x360 with 2 Axes>"
      ]
     },
     "metadata": {
      "needs_background": "light"
     },
     "output_type": "display_data"
    }
   ],
   "source": [
    "g = sns.displot(data=df, x='power', col='region', kind='hist')\n",
    "g.set(xlabel='Difference of means (Early - Late)')\n",
    "g.tight_layout()"
   ]
  },
  {
   "cell_type": "code",
   "execution_count": 37,
   "metadata": {
    "execution": {
     "iopub.execute_input": "2021-06-11T14:58:31.941773Z",
     "iopub.status.busy": "2021-06-11T14:58:31.941636Z",
     "iopub.status.idle": "2021-06-11T14:58:31.958974Z",
     "shell.execute_reply": "2021-06-11T14:58:31.958124Z",
     "shell.execute_reply.started": "2021-06-11T14:58:31.941757Z"
    }
   },
   "outputs": [],
   "source": [
    "cx = df.xs('mpta_wm_ref').sort_values('power')\n",
    "hc = df.xs('sr_wm_ref').sort_values('power')"
   ]
  },
  {
   "cell_type": "code",
   "execution_count": 38,
   "metadata": {
    "execution": {
     "iopub.execute_input": "2021-06-11T14:58:31.959722Z",
     "iopub.status.busy": "2021-06-11T14:58:31.959598Z",
     "iopub.status.idle": "2021-06-11T14:58:31.971335Z",
     "shell.execute_reply": "2021-06-11T14:58:31.970681Z",
     "shell.execute_reply.started": "2021-06-11T14:58:31.959706Z"
    }
   },
   "outputs": [],
   "source": [
    "pcx = np.sum(cx.power.values >= observed.xs('mpta_wm_ref').values)"
   ]
  },
  {
   "cell_type": "code",
   "execution_count": 39,
   "metadata": {
    "execution": {
     "iopub.execute_input": "2021-06-11T14:58:31.972247Z",
     "iopub.status.busy": "2021-06-11T14:58:31.972097Z",
     "iopub.status.idle": "2021-06-11T14:58:31.985049Z",
     "shell.execute_reply": "2021-06-11T14:58:31.984551Z",
     "shell.execute_reply.started": "2021-06-11T14:58:31.972227Z"
    }
   },
   "outputs": [],
   "source": [
    "phc = np.sum(hc.power.values >= observed.xs('sr_wm_ref').values)"
   ]
  },
  {
   "cell_type": "code",
   "execution_count": 40,
   "metadata": {
    "execution": {
     "iopub.execute_input": "2021-06-11T14:58:31.985825Z",
     "iopub.status.busy": "2021-06-11T14:58:31.985700Z",
     "iopub.status.idle": "2021-06-11T14:58:31.999457Z",
     "shell.execute_reply": "2021-06-11T14:58:31.999088Z",
     "shell.execute_reply.started": "2021-06-11T14:58:31.985810Z"
    }
   },
   "outputs": [
    {
     "name": "stdout",
     "output_type": "stream",
     "text": [
      "Subject: Segundo\n",
      "Observed differences, Mean Early - Mean Late:\n",
      "\n",
      "| region      |    power |\n",
      "|:------------|---------:|\n",
      "| mpta_wm_ref | 129.62   |\n",
      "| sr_wm_ref   |  37.4349 |\n",
      "\n",
      "\n",
      "Shuffled differences >= observed:\n",
      "Cortex: 1 / 10000\n",
      "Hippocampus: 1 / 10000\n"
     ]
    }
   ],
   "source": [
    "print(f\"Subject: {subject}\")\n",
    "print('Observed differences, Mean Early - Mean Late:\\n')\n",
    "print(observed.to_markdown())\n",
    "print('\\n')\n",
    "print('Shuffled differences >= observed:')\n",
    "print(f\"Cortex: {1 + pcx} / {n_permutations}\")\n",
    "print(f\"Hippocampus: {1 + phc} / {n_permutations}\")"
   ]
  },
  {
   "cell_type": "code",
   "execution_count": 43,
   "metadata": {
    "execution": {
     "iopub.execute_input": "2021-06-11T15:03:54.834252Z",
     "iopub.status.busy": "2021-06-11T15:03:54.834114Z",
     "iopub.status.idle": "2021-06-11T15:03:54.848983Z",
     "shell.execute_reply": "2021-06-11T15:03:54.848134Z",
     "shell.execute_reply.started": "2021-06-11T15:03:54.834234Z"
    }
   },
   "outputs": [
    {
     "name": "stdout",
     "output_type": "stream",
     "text": [
      "Early condition end: 2020-01-23 16:49:14.990234375\n",
      "Late condition start: 2020-01-23 19:05:56.990234375\n"
     ]
    }
   ],
   "source": [
    "print(f\"Early condition end: {early_hyp.end_time.max()}\")\n",
    "print(f\"Late condition start: {late_hyp.start_time.min()}\")\n",
    "if early_hyp.end_time.max() > late_hyp.start_time.min():\n",
    "    print(\"Early and late conditions overlap\")"
   ]
  },
  {
   "cell_type": "code",
   "execution_count": null,
   "metadata": {},
   "outputs": [],
   "source": []
  }
 ],
 "metadata": {
  "kernelspec": {
   "display_name": "Python 3",
   "language": "python",
   "name": "python3"
  },
  "language_info": {
   "codemirror_mode": {
    "name": "ipython",
    "version": 3
   },
   "file_extension": ".py",
   "mimetype": "text/x-python",
   "name": "python",
   "nbconvert_exporter": "python",
   "pygments_lexer": "ipython3",
   "version": "3.7.9"
  }
 },
 "nbformat": 4,
 "nbformat_minor": 4
}
