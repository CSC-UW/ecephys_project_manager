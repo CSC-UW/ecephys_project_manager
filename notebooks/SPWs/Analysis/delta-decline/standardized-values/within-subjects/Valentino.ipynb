{
 "cells": [
  {
   "cell_type": "code",
   "execution_count": 1,
   "metadata": {
    "execution": {
     "iopub.execute_input": "2021-06-11T15:02:13.292103Z",
     "iopub.status.busy": "2021-06-11T15:02:13.291551Z",
     "iopub.status.idle": "2021-06-11T15:02:13.309334Z",
     "shell.execute_reply": "2021-06-11T15:02:13.308598Z",
     "shell.execute_reply.started": "2021-06-11T15:02:13.292038Z"
    }
   },
   "outputs": [],
   "source": [
    "%load_ext autoreload\n",
    "%autoreload 2"
   ]
  },
  {
   "cell_type": "code",
   "execution_count": 2,
   "metadata": {
    "execution": {
     "iopub.execute_input": "2021-06-11T15:02:13.310314Z",
     "iopub.status.busy": "2021-06-11T15:02:13.310180Z",
     "iopub.status.idle": "2021-06-11T15:02:13.718668Z",
     "shell.execute_reply": "2021-06-11T15:02:13.717399Z",
     "shell.execute_reply.started": "2021-06-11T15:02:13.310296Z"
    }
   },
   "outputs": [],
   "source": [
    "# %matplotlib widget\n",
    "import matplotlib.pyplot as plt\n",
    "import seaborn as sns"
   ]
  },
  {
   "cell_type": "code",
   "execution_count": 3,
   "metadata": {
    "execution": {
     "iopub.execute_input": "2021-06-11T15:02:13.720163Z",
     "iopub.status.busy": "2021-06-11T15:02:13.719997Z",
     "iopub.status.idle": "2021-06-11T15:02:13.986265Z",
     "shell.execute_reply": "2021-06-11T15:02:13.985247Z",
     "shell.execute_reply.started": "2021-06-11T15:02:13.720143Z"
    }
   },
   "outputs": [],
   "source": [
    "import xarray as xr\n",
    "import numpy as np\n",
    "import pandas as pd"
   ]
  },
  {
   "cell_type": "code",
   "execution_count": 4,
   "metadata": {
    "execution": {
     "iopub.execute_input": "2021-06-11T15:02:13.987453Z",
     "iopub.status.busy": "2021-06-11T15:02:13.987318Z",
     "iopub.status.idle": "2021-06-11T15:02:13.999984Z",
     "shell.execute_reply": "2021-06-11T15:02:13.999333Z",
     "shell.execute_reply.started": "2021-06-11T15:02:13.987435Z"
    }
   },
   "outputs": [
    {
     "data": {
      "text/plain": [
       "<xarray.core.options.set_options at 0x7f5661a4ab90>"
      ]
     },
     "execution_count": 4,
     "metadata": {},
     "output_type": "execute_result"
    }
   ],
   "source": [
    "xr.set_options(keep_attrs=True)"
   ]
  },
  {
   "cell_type": "code",
   "execution_count": 5,
   "metadata": {
    "execution": {
     "iopub.execute_input": "2021-06-11T15:02:14.000728Z",
     "iopub.status.busy": "2021-06-11T15:02:14.000606Z",
     "iopub.status.idle": "2021-06-11T15:02:14.012874Z",
     "shell.execute_reply": "2021-06-11T15:02:14.012254Z",
     "shell.execute_reply.started": "2021-06-11T15:02:14.000712Z"
    }
   },
   "outputs": [],
   "source": [
    "import ecephys_analyses as ea \n",
    "from ecephys.signal.xarray_utils import filter_dataset_by_hypnogram"
   ]
  },
  {
   "cell_type": "code",
   "execution_count": 6,
   "metadata": {
    "execution": {
     "iopub.execute_input": "2021-06-11T15:02:14.013551Z",
     "iopub.status.busy": "2021-06-11T15:02:14.013436Z",
     "iopub.status.idle": "2021-06-11T15:02:14.023760Z",
     "shell.execute_reply": "2021-06-11T15:02:14.022881Z",
     "shell.execute_reply.started": "2021-06-11T15:02:14.013536Z"
    }
   },
   "outputs": [],
   "source": [
    "def ds2df(ds):\n",
    "    s = ds.to_dataframe().stack()\n",
    "    s.index.names = s.index.names[:-1] + ['region']\n",
    "    return s.to_frame(name='power')"
   ]
  },
  {
   "cell_type": "code",
   "execution_count": 7,
   "metadata": {
    "execution": {
     "iopub.execute_input": "2021-06-11T15:02:14.024472Z",
     "iopub.status.busy": "2021-06-11T15:02:14.024360Z",
     "iopub.status.idle": "2021-06-11T15:02:14.035258Z",
     "shell.execute_reply": "2021-06-11T15:02:14.034242Z",
     "shell.execute_reply.started": "2021-06-11T15:02:14.024458Z"
    }
   },
   "outputs": [],
   "source": [
    "subject = \"Valentino\"\n",
    "experiment = \"sleep-homeostasis\"\n",
    "norm_condition = \"light-period-circadian-match\"\n",
    "rec_condition = \"recovery-sleep\"\n",
    "states = [\"N1\", \"N2\"]\n",
    "duration = '01:00:00'\n",
    "light_period_start = '09:00:00'\n",
    "light_period_end = '21:00:00'\n",
    "f_range = (0.5, 4)"
   ]
  },
  {
   "cell_type": "code",
   "execution_count": 8,
   "metadata": {
    "execution": {
     "iopub.execute_input": "2021-06-11T15:02:14.036007Z",
     "iopub.status.busy": "2021-06-11T15:02:14.035889Z",
     "iopub.status.idle": "2021-06-11T15:02:20.767861Z",
     "shell.execute_reply": "2021-06-11T15:02:20.767392Z",
     "shell.execute_reply.started": "2021-06-11T15:02:14.035993Z"
    }
   },
   "outputs": [],
   "source": [
    "norm_hyp = ea.load_hypnogram(subject, experiment, norm_condition)\n",
    "norm_hyp = norm_hyp.keep_states(states).keep_between(light_period_start, light_period_end)\n",
    "\n",
    "norm_pow = ea.load_power(subject, experiment, norm_condition, \"spg.nc\").sel(frequency=slice(*f_range)).sum(dim=\"frequency\")\n",
    "norm_pow = filter_dataset_by_hypnogram(norm_pow, norm_hyp).swap_dims({'time': 'datetime'}).drop_vars(['time', 'timedelta'])"
   ]
  },
  {
   "cell_type": "code",
   "execution_count": 9,
   "metadata": {
    "execution": {
     "iopub.execute_input": "2021-06-11T15:02:20.769376Z",
     "iopub.status.busy": "2021-06-11T15:02:20.769234Z",
     "iopub.status.idle": "2021-06-11T15:02:25.868302Z",
     "shell.execute_reply": "2021-06-11T15:02:25.867681Z",
     "shell.execute_reply.started": "2021-06-11T15:02:20.769358Z"
    }
   },
   "outputs": [],
   "source": [
    "rec_hyp = ea.load_hypnogram(subject, experiment, rec_condition)\n",
    "rec_pow = ea.load_power(subject, experiment, rec_condition, \"spg.nc\").sel(frequency=slice(*f_range)).sum(dim='frequency')\n",
    "rec_pow = rec_pow / norm_pow.mean(dim=\"datetime\") * 100"
   ]
  },
  {
   "cell_type": "code",
   "execution_count": 10,
   "metadata": {
    "execution": {
     "iopub.execute_input": "2021-06-11T15:02:25.869554Z",
     "iopub.status.busy": "2021-06-11T15:02:25.869405Z",
     "iopub.status.idle": "2021-06-11T15:02:25.971694Z",
     "shell.execute_reply": "2021-06-11T15:02:25.971170Z",
     "shell.execute_reply.started": "2021-06-11T15:02:25.869537Z"
    }
   },
   "outputs": [],
   "source": [
    "early_hyp = rec_hyp.keep_states(states).keep_first(duration)\n",
    "early_pow = filter_dataset_by_hypnogram(rec_pow, early_hyp).swap_dims({'time': 'datetime'}).drop_vars(['time', 'timedelta'])"
   ]
  },
  {
   "cell_type": "code",
   "execution_count": 11,
   "metadata": {
    "execution": {
     "iopub.execute_input": "2021-06-11T15:02:25.972461Z",
     "iopub.status.busy": "2021-06-11T15:02:25.972333Z",
     "iopub.status.idle": "2021-06-11T15:02:26.041078Z",
     "shell.execute_reply": "2021-06-11T15:02:26.040499Z",
     "shell.execute_reply.started": "2021-06-11T15:02:25.972445Z"
    }
   },
   "outputs": [],
   "source": [
    "late_hyp = rec_hyp.keep_states(states).keep_last(duration)\n",
    "late_pow = filter_dataset_by_hypnogram(rec_pow, late_hyp).swap_dims({'time': 'datetime'}).drop_vars(['time', 'timedelta'])"
   ]
  },
  {
   "cell_type": "code",
   "execution_count": 12,
   "metadata": {
    "execution": {
     "iopub.execute_input": "2021-06-11T15:02:26.041804Z",
     "iopub.status.busy": "2021-06-11T15:02:26.041679Z",
     "iopub.status.idle": "2021-06-11T15:02:26.058403Z",
     "shell.execute_reply": "2021-06-11T15:02:26.057804Z",
     "shell.execute_reply.started": "2021-06-11T15:02:26.041788Z"
    }
   },
   "outputs": [],
   "source": [
    "nrem_pow = pd.concat([ds2df(early_pow).assign(condition=\"early\"), ds2df(late_pow).assign(condition=\"late\")])"
   ]
  },
  {
   "cell_type": "code",
   "execution_count": 13,
   "metadata": {
    "execution": {
     "iopub.execute_input": "2021-06-11T15:02:26.059085Z",
     "iopub.status.busy": "2021-06-11T15:02:26.058964Z",
     "iopub.status.idle": "2021-06-11T15:02:27.158432Z",
     "shell.execute_reply": "2021-06-11T15:02:27.157932Z",
     "shell.execute_reply.started": "2021-06-11T15:02:26.059069Z"
    }
   },
   "outputs": [
    {
     "data": {
      "image/png": "[encoded data removed]",
      "text/plain": [
       "<Figure size 781.125x360 with 2 Axes>"
      ]
     },
     "metadata": {
      "needs_background": "light"
     },
     "output_type": "display_data"
    }
   ],
   "source": [
    "g = sns.displot(data=nrem_pow, x='power', hue='condition', col='region', kind='hist')\n",
    "g.set(xlabel='Delta (0.5 - 4Hz) PSD (uV^2/Hz)')\n",
    "g.tight_layout()"
   ]
  },
  {
   "cell_type": "code",
   "execution_count": 14,
   "metadata": {
    "execution": {
     "iopub.execute_input": "2021-06-11T15:02:27.159305Z",
     "iopub.status.busy": "2021-06-11T15:02:27.159165Z",
     "iopub.status.idle": "2021-06-11T15:02:27.945968Z",
     "shell.execute_reply": "2021-06-11T15:02:27.944865Z",
     "shell.execute_reply.started": "2021-06-11T15:02:27.159288Z"
    }
   },
   "outputs": [
    {
     "data": {
      "image/png": "[encoded data removed]",
      "text/plain": [
       "<Figure size 781.125x360 with 2 Axes>"
      ]
     },
     "metadata": {
      "needs_background": "light"
     },
     "output_type": "display_data"
    }
   ],
   "source": [
    "nrem_pow_log = nrem_pow.copy()\n",
    "nrem_pow_log['power'] = np.log(nrem_pow.power)\n",
    "\n",
    "g = sns.displot(data=nrem_pow_log, x='power', hue='condition', col='region', kind='hist')\n",
    "g.set(xlabel='Delta (0.5 - 4Hz) PSD (uV^2/Hz)')\n",
    "g.tight_layout()"
   ]
  },
  {
   "cell_type": "code",
   "execution_count": 15,
   "metadata": {
    "execution": {
     "iopub.execute_input": "2021-06-11T15:02:27.947742Z",
     "iopub.status.busy": "2021-06-11T15:02:27.947542Z",
     "iopub.status.idle": "2021-06-11T15:02:28.741914Z",
     "shell.execute_reply": "2021-06-11T15:02:28.741261Z",
     "shell.execute_reply.started": "2021-06-11T15:02:27.947713Z"
    }
   },
   "outputs": [
    {
     "data": {
      "image/png": "[encoded data removed]",
      "text/plain": [
       "<Figure size 781.125x360 with 2 Axes>"
      ]
     },
     "metadata": {
      "needs_background": "light"
     },
     "output_type": "display_data"
    }
   ],
   "source": [
    "nrem_pow_sqrt = nrem_pow.copy()\n",
    "nrem_pow_sqrt['power'] = np.sqrt(nrem_pow.power)\n",
    "\n",
    "g = sns.displot(data=nrem_pow_sqrt, x='power', hue='condition', col='region', kind='hist')\n",
    "g.set(xlabel='Delta (0.5 - 4Hz) PSD (uV^2/Hz)')\n",
    "g.tight_layout()"
   ]
  },
  {
   "cell_type": "code",
   "execution_count": 16,
   "metadata": {
    "execution": {
     "iopub.execute_input": "2021-06-11T15:02:28.742864Z",
     "iopub.status.busy": "2021-06-11T15:02:28.742726Z",
     "iopub.status.idle": "2021-06-11T15:02:28.755884Z",
     "shell.execute_reply": "2021-06-11T15:02:28.755086Z",
     "shell.execute_reply.started": "2021-06-11T15:02:28.742847Z"
    }
   },
   "outputs": [],
   "source": [
    "def difference_of_means(df):\n",
    "    means = df.groupby(['condition', 'region']).mean()\n",
    "    return means.xs('early') - means.xs('late')"
   ]
  },
  {
   "cell_type": "code",
   "execution_count": 17,
   "metadata": {
    "execution": {
     "iopub.execute_input": "2021-06-11T15:02:28.756738Z",
     "iopub.status.busy": "2021-06-11T15:02:28.756614Z",
     "iopub.status.idle": "2021-06-11T15:02:49.354433Z",
     "shell.execute_reply": "2021-06-11T15:02:49.353196Z",
     "shell.execute_reply.started": "2021-06-11T15:02:28.756722Z"
    }
   },
   "outputs": [],
   "source": [
    "observed = difference_of_means(nrem_pow)\n",
    "\n",
    "n_permutations = 10000\n",
    "permutations = list()\n",
    "permuted = nrem_pow.copy()\n",
    "for i in range(n_permutations):\n",
    "    np.random.shuffle(permuted.condition.values)\n",
    "    permutations.append(difference_of_means(permuted))\n",
    "    \n",
    "df = pd.concat(permutations)"
   ]
  },
  {
   "cell_type": "code",
   "execution_count": 18,
   "metadata": {
    "execution": {
     "iopub.execute_input": "2021-06-11T15:02:49.355573Z",
     "iopub.status.busy": "2021-06-11T15:02:49.355423Z",
     "iopub.status.idle": "2021-06-11T15:02:49.914958Z",
     "shell.execute_reply": "2021-06-11T15:02:49.914252Z",
     "shell.execute_reply.started": "2021-06-11T15:02:49.355556Z"
    }
   },
   "outputs": [
    {
     "data": {
      "image/png": "[encoded data removed]",
      "text/plain": [
       "<Figure size 720x360 with 2 Axes>"
      ]
     },
     "metadata": {
      "needs_background": "light"
     },
     "output_type": "display_data"
    }
   ],
   "source": [
    "g = sns.displot(data=df, x='power', col='region', kind='hist')\n",
    "g.set(xlabel='Difference of means (Early - Late)')\n",
    "g.tight_layout()"
   ]
  },
  {
   "cell_type": "code",
   "execution_count": 19,
   "metadata": {
    "execution": {
     "iopub.execute_input": "2021-06-11T15:02:49.915836Z",
     "iopub.status.busy": "2021-06-11T15:02:49.915706Z",
     "iopub.status.idle": "2021-06-11T15:02:49.931961Z",
     "shell.execute_reply": "2021-06-11T15:02:49.931179Z",
     "shell.execute_reply.started": "2021-06-11T15:02:49.915820Z"
    }
   },
   "outputs": [],
   "source": [
    "cx = df.xs('mpta_wm_ref').sort_values('power')\n",
    "hc = df.xs('sr_wm_ref').sort_values('power')"
   ]
  },
  {
   "cell_type": "code",
   "execution_count": 20,
   "metadata": {
    "execution": {
     "iopub.execute_input": "2021-06-11T15:02:49.932738Z",
     "iopub.status.busy": "2021-06-11T15:02:49.932619Z",
     "iopub.status.idle": "2021-06-11T15:02:49.943827Z",
     "shell.execute_reply": "2021-06-11T15:02:49.942979Z",
     "shell.execute_reply.started": "2021-06-11T15:02:49.932723Z"
    }
   },
   "outputs": [],
   "source": [
    "pcx = np.sum(cx.power.values >= observed.xs('mpta_wm_ref').values)"
   ]
  },
  {
   "cell_type": "code",
   "execution_count": 21,
   "metadata": {
    "execution": {
     "iopub.execute_input": "2021-06-11T15:02:49.944578Z",
     "iopub.status.busy": "2021-06-11T15:02:49.944460Z",
     "iopub.status.idle": "2021-06-11T15:02:49.954733Z",
     "shell.execute_reply": "2021-06-11T15:02:49.953821Z",
     "shell.execute_reply.started": "2021-06-11T15:02:49.944563Z"
    }
   },
   "outputs": [],
   "source": [
    "phc = np.sum(hc.power.values >= observed.xs('sr_wm_ref').values)"
   ]
  },
  {
   "cell_type": "code",
   "execution_count": 22,
   "metadata": {
    "execution": {
     "iopub.execute_input": "2021-06-11T15:02:49.955538Z",
     "iopub.status.busy": "2021-06-11T15:02:49.955408Z",
     "iopub.status.idle": "2021-06-11T15:02:49.970970Z",
     "shell.execute_reply": "2021-06-11T15:02:49.970243Z",
     "shell.execute_reply.started": "2021-06-11T15:02:49.955523Z"
    }
   },
   "outputs": [
    {
     "name": "stdout",
     "output_type": "stream",
     "text": [
      "Subject: Valentino\n",
      "Observed differences, Mean Early - Mean Late:\n",
      "\n",
      "| region      |   power |\n",
      "|:------------|--------:|\n",
      "| mpta_wm_ref | 79.9561 |\n",
      "| sr_wm_ref   | 22.705  |\n",
      "\n",
      "\n",
      "Shuffled differences >= observed:\n",
      "Cortex: 1 / 10000\n",
      "Hippocampus: 1 / 10000\n"
     ]
    }
   ],
   "source": [
    "print(f\"Subject: {subject}\")\n",
    "print('Observed differences, Mean Early - Mean Late:\\n')\n",
    "print(observed.to_markdown())\n",
    "print('\\n')\n",
    "print('Shuffled differences >= observed:')\n",
    "print(f\"Cortex: {1 + pcx} / {n_permutations}\")\n",
    "print(f\"Hippocampus: {1 + phc} / {n_permutations}\")"
   ]
  },
  {
   "cell_type": "code",
   "execution_count": 23,
   "metadata": {
    "execution": {
     "iopub.execute_input": "2021-06-11T15:02:49.971838Z",
     "iopub.status.busy": "2021-06-11T15:02:49.971713Z",
     "iopub.status.idle": "2021-06-11T15:02:49.984346Z",
     "shell.execute_reply": "2021-06-11T15:02:49.983680Z",
     "shell.execute_reply.started": "2021-06-11T15:02:49.971822Z"
    }
   },
   "outputs": [
    {
     "name": "stdout",
     "output_type": "stream",
     "text": [
      "Early condition end: 2020-02-20 16:33:43.990234375\n",
      "Late condition start: 2020-02-20 19:07:31.989999771\n"
     ]
    }
   ],
   "source": [
    "print(f\"Early condition end: {early_hyp.end_time.max()}\")\n",
    "print(f\"Late condition start: {late_hyp.start_time.min()}\")\n",
    "if early_hyp.end_time.max() > late_hyp.start_time.min():\n",
    "    print"
   ]
  },
  {
   "cell_type": "code",
   "execution_count": null,
   "metadata": {},
   "outputs": [],
   "source": []
  }
 ],
 "metadata": {
  "kernelspec": {
   "display_name": "Python 3",
   "language": "python",
   "name": "python3"
  },
  "language_info": {
   "codemirror_mode": {
    "name": "ipython",
    "version": 3
   },
   "file_extension": ".py",
   "mimetype": "text/x-python",
   "name": "python",
   "nbconvert_exporter": "python",
   "pygments_lexer": "ipython3",
   "version": "3.7.9"
  }
 },
 "nbformat": 4,
 "nbformat_minor": 4
}
