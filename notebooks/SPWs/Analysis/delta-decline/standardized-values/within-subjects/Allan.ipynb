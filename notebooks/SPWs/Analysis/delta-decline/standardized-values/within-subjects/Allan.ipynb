{
 "cells": [
  {
   "cell_type": "code",
   "execution_count": 2,
   "metadata": {
    "execution": {
     "iopub.execute_input": "2021-06-11T15:02:41.463515Z",
     "iopub.status.busy": "2021-06-11T15:02:41.463036Z",
     "iopub.status.idle": "2021-06-11T15:02:41.482214Z",
     "shell.execute_reply": "2021-06-11T15:02:41.481573Z",
     "shell.execute_reply.started": "2021-06-11T15:02:41.463458Z"
    }
   },
   "outputs": [],
   "source": [
    "%load_ext autoreload\n",
    "%autoreload 2"
   ]
  },
  {
   "cell_type": "code",
   "execution_count": 3,
   "metadata": {
    "execution": {
     "iopub.execute_input": "2021-06-11T15:02:41.483055Z",
     "iopub.status.busy": "2021-06-11T15:02:41.482925Z",
     "iopub.status.idle": "2021-06-11T15:02:41.830719Z",
     "shell.execute_reply": "2021-06-11T15:02:41.830023Z",
     "shell.execute_reply.started": "2021-06-11T15:02:41.483039Z"
    }
   },
   "outputs": [],
   "source": [
    "# %matplotlib widget\n",
    "import matplotlib.pyplot as plt\n",
    "import seaborn as sns"
   ]
  },
  {
   "cell_type": "code",
   "execution_count": 4,
   "metadata": {
    "execution": {
     "iopub.execute_input": "2021-06-11T15:02:41.831888Z",
     "iopub.status.busy": "2021-06-11T15:02:41.831750Z",
     "iopub.status.idle": "2021-06-11T15:02:42.063853Z",
     "shell.execute_reply": "2021-06-11T15:02:42.063190Z",
     "shell.execute_reply.started": "2021-06-11T15:02:41.831871Z"
    }
   },
   "outputs": [],
   "source": [
    "import xarray as xr\n",
    "import numpy as np\n",
    "import pandas as pd"
   ]
  },
  {
   "cell_type": "code",
   "execution_count": 5,
   "metadata": {
    "execution": {
     "iopub.execute_input": "2021-06-11T15:02:42.064880Z",
     "iopub.status.busy": "2021-06-11T15:02:42.064742Z",
     "iopub.status.idle": "2021-06-11T15:02:42.077568Z",
     "shell.execute_reply": "2021-06-11T15:02:42.077011Z",
     "shell.execute_reply.started": "2021-06-11T15:02:42.064863Z"
    }
   },
   "outputs": [
    {
     "data": {
      "text/plain": [
       "<xarray.core.options.set_options at 0x7fc58b61e450>"
      ]
     },
     "execution_count": 5,
     "metadata": {},
     "output_type": "execute_result"
    }
   ],
   "source": [
    "xr.set_options(keep_attrs=True)"
   ]
  },
  {
   "cell_type": "code",
   "execution_count": 6,
   "metadata": {
    "execution": {
     "iopub.execute_input": "2021-06-11T15:02:42.078246Z",
     "iopub.status.busy": "2021-06-11T15:02:42.078118Z",
     "iopub.status.idle": "2021-06-11T15:02:42.091624Z",
     "shell.execute_reply": "2021-06-11T15:02:42.091052Z",
     "shell.execute_reply.started": "2021-06-11T15:02:42.078230Z"
    }
   },
   "outputs": [],
   "source": [
    "import ecephys_analyses as ea \n",
    "from ecephys.signal.xarray_utils import filter_dataset_by_hypnogram"
   ]
  },
  {
   "cell_type": "code",
   "execution_count": 7,
   "metadata": {
    "execution": {
     "iopub.execute_input": "2021-06-11T15:02:42.092268Z",
     "iopub.status.busy": "2021-06-11T15:02:42.092145Z",
     "iopub.status.idle": "2021-06-11T15:02:42.104356Z",
     "shell.execute_reply": "2021-06-11T15:02:42.103840Z",
     "shell.execute_reply.started": "2021-06-11T15:02:42.092252Z"
    }
   },
   "outputs": [],
   "source": [
    "def ds2df(ds):\n",
    "    s = ds.to_dataframe().stack()\n",
    "    s.index.names = s.index.names[:-1] + ['region']\n",
    "    return s.to_frame(name='power')"
   ]
  },
  {
   "cell_type": "code",
   "execution_count": 8,
   "metadata": {
    "execution": {
     "iopub.execute_input": "2021-06-11T15:02:42.104976Z",
     "iopub.status.busy": "2021-06-11T15:02:42.104854Z",
     "iopub.status.idle": "2021-06-11T15:02:42.115430Z",
     "shell.execute_reply": "2021-06-11T15:02:42.114936Z",
     "shell.execute_reply.started": "2021-06-11T15:02:42.104960Z"
    }
   },
   "outputs": [],
   "source": [
    "subject = \"Allan\"\n",
    "experiment = \"sleep-homeostasis\"\n",
    "norm_condition = \"light-period-circadian-match\"\n",
    "rec_condition = \"recovery-sleep\"\n",
    "states = [\"N1\", \"N2\"]\n",
    "duration = '01:00:00'\n",
    "light_period_start = '09:00:00'\n",
    "light_period_end = '21:00:00'\n",
    "f_range = (0.5, 4)"
   ]
  },
  {
   "cell_type": "code",
   "execution_count": 9,
   "metadata": {
    "execution": {
     "iopub.execute_input": "2021-06-11T15:02:42.116047Z",
     "iopub.status.busy": "2021-06-11T15:02:42.115926Z",
     "iopub.status.idle": "2021-06-11T15:02:49.793817Z",
     "shell.execute_reply": "2021-06-11T15:02:49.792946Z",
     "shell.execute_reply.started": "2021-06-11T15:02:42.116032Z"
    }
   },
   "outputs": [],
   "source": [
    "norm_hyp = ea.load_hypnogram(subject, experiment, norm_condition)\n",
    "norm_hyp = norm_hyp.keep_states(states).keep_between(light_period_start, light_period_end)\n",
    "\n",
    "norm_pow = ea.load_power(subject, experiment, norm_condition, \"spg.nc\").sel(frequency=slice(*f_range)).sum(dim=\"frequency\")\n",
    "norm_pow = filter_dataset_by_hypnogram(norm_pow, norm_hyp).swap_dims({'time': 'datetime'}).drop_vars(['time', 'timedelta'])"
   ]
  },
  {
   "cell_type": "code",
   "execution_count": 10,
   "metadata": {
    "execution": {
     "iopub.execute_input": "2021-06-11T15:02:49.795738Z",
     "iopub.status.busy": "2021-06-11T15:02:49.795579Z",
     "iopub.status.idle": "2021-06-11T15:02:52.788002Z",
     "shell.execute_reply": "2021-06-11T15:02:52.787103Z",
     "shell.execute_reply.started": "2021-06-11T15:02:49.795718Z"
    }
   },
   "outputs": [],
   "source": [
    "rec_hyp = ea.load_hypnogram(subject, experiment, rec_condition)\n",
    "rec_pow = ea.load_power(subject, experiment, rec_condition, \"spg.nc\").sel(frequency=slice(*f_range)).sum(dim='frequency')\n",
    "rec_pow = rec_pow / norm_pow.mean(dim=\"datetime\") * 100"
   ]
  },
  {
   "cell_type": "code",
   "execution_count": 11,
   "metadata": {
    "execution": {
     "iopub.execute_input": "2021-06-11T15:02:52.789599Z",
     "iopub.status.busy": "2021-06-11T15:02:52.789411Z",
     "iopub.status.idle": "2021-06-11T15:02:52.847212Z",
     "shell.execute_reply": "2021-06-11T15:02:52.846493Z",
     "shell.execute_reply.started": "2021-06-11T15:02:52.789578Z"
    }
   },
   "outputs": [],
   "source": [
    "early_hyp = rec_hyp.keep_states(states).keep_first(duration)\n",
    "early_pow = filter_dataset_by_hypnogram(rec_pow, early_hyp).swap_dims({'time': 'datetime'}).drop_vars(['time', 'timedelta'])"
   ]
  },
  {
   "cell_type": "code",
   "execution_count": 12,
   "metadata": {
    "execution": {
     "iopub.execute_input": "2021-06-11T15:02:52.848223Z",
     "iopub.status.busy": "2021-06-11T15:02:52.848078Z",
     "iopub.status.idle": "2021-06-11T15:02:52.921365Z",
     "shell.execute_reply": "2021-06-11T15:02:52.920752Z",
     "shell.execute_reply.started": "2021-06-11T15:02:52.848205Z"
    }
   },
   "outputs": [],
   "source": [
    "late_hyp = rec_hyp.keep_states(states).keep_last(duration)\n",
    "late_pow = filter_dataset_by_hypnogram(rec_pow, late_hyp).swap_dims({'time': 'datetime'}).drop_vars(['time', 'timedelta'])"
   ]
  },
  {
   "cell_type": "code",
   "execution_count": 13,
   "metadata": {
    "execution": {
     "iopub.execute_input": "2021-06-11T15:02:52.922101Z",
     "iopub.status.busy": "2021-06-11T15:02:52.921974Z",
     "iopub.status.idle": "2021-06-11T15:02:52.940581Z",
     "shell.execute_reply": "2021-06-11T15:02:52.940170Z",
     "shell.execute_reply.started": "2021-06-11T15:02:52.922085Z"
    }
   },
   "outputs": [],
   "source": [
    "nrem_pow = pd.concat([ds2df(early_pow).assign(condition=\"early\"), ds2df(late_pow).assign(condition=\"late\")])"
   ]
  },
  {
   "cell_type": "code",
   "execution_count": 14,
   "metadata": {
    "execution": {
     "iopub.execute_input": "2021-06-11T15:02:52.941230Z",
     "iopub.status.busy": "2021-06-11T15:02:52.941098Z",
     "iopub.status.idle": "2021-06-11T15:02:53.762995Z",
     "shell.execute_reply": "2021-06-11T15:02:53.762477Z",
     "shell.execute_reply.started": "2021-06-11T15:02:52.941213Z"
    }
   },
   "outputs": [
    {
     "data": {
      "image/png": "[encoded data removed]",
      "text/plain": [
       "<Figure size 781.125x360 with 2 Axes>"
      ]
     },
     "metadata": {
      "needs_background": "light"
     },
     "output_type": "display_data"
    }
   ],
   "source": [
    "g = sns.displot(data=nrem_pow, x='power', hue='condition', col='region', kind='hist')\n",
    "g.set(xlabel='Delta (0.5 - 4Hz) PSD (uV^2/Hz)')\n",
    "g.tight_layout()"
   ]
  },
  {
   "cell_type": "code",
   "execution_count": 15,
   "metadata": {
    "execution": {
     "iopub.execute_input": "2021-06-11T15:02:53.763927Z",
     "iopub.status.busy": "2021-06-11T15:02:53.763784Z",
     "iopub.status.idle": "2021-06-11T15:02:54.448156Z",
     "shell.execute_reply": "2021-06-11T15:02:54.447642Z",
     "shell.execute_reply.started": "2021-06-11T15:02:53.763907Z"
    }
   },
   "outputs": [
    {
     "data": {
      "image/png": "[encoded data removed]",
      "text/plain": [
       "<Figure size 781.125x360 with 2 Axes>"
      ]
     },
     "metadata": {
      "needs_background": "light"
     },
     "output_type": "display_data"
    }
   ],
   "source": [
    "nrem_pow_log = nrem_pow.copy()\n",
    "nrem_pow_log['power'] = np.log(nrem_pow.power)\n",
    "\n",
    "g = sns.displot(data=nrem_pow_log, x='power', hue='condition', col='region', kind='hist')\n",
    "g.set(xlabel='Delta (0.5 - 4Hz) PSD (uV^2/Hz)')\n",
    "g.tight_layout()"
   ]
  },
  {
   "cell_type": "code",
   "execution_count": 16,
   "metadata": {
    "execution": {
     "iopub.execute_input": "2021-06-11T15:02:54.448977Z",
     "iopub.status.busy": "2021-06-11T15:02:54.448843Z",
     "iopub.status.idle": "2021-06-11T15:02:55.122574Z",
     "shell.execute_reply": "2021-06-11T15:02:55.122123Z",
     "shell.execute_reply.started": "2021-06-11T15:02:54.448960Z"
    }
   },
   "outputs": [
    {
     "data": {
      "image/png": "[encoded data removed]",
      "text/plain": [
       "<Figure size 781.125x360 with 2 Axes>"
      ]
     },
     "metadata": {
      "needs_background": "light"
     },
     "output_type": "display_data"
    }
   ],
   "source": [
    "nrem_pow_sqrt = nrem_pow.copy()\n",
    "nrem_pow_sqrt['power'] = np.sqrt(nrem_pow.power)\n",
    "\n",
    "g = sns.displot(data=nrem_pow_sqrt, x='power', hue='condition', col='region', kind='hist')\n",
    "g.set(xlabel='Delta (0.5 - 4Hz) PSD (uV^2/Hz)')\n",
    "g.tight_layout()"
   ]
  },
  {
   "cell_type": "code",
   "execution_count": 17,
   "metadata": {
    "execution": {
     "iopub.execute_input": "2021-06-11T15:02:55.123359Z",
     "iopub.status.busy": "2021-06-11T15:02:55.123224Z",
     "iopub.status.idle": "2021-06-11T15:02:55.135378Z",
     "shell.execute_reply": "2021-06-11T15:02:55.134746Z",
     "shell.execute_reply.started": "2021-06-11T15:02:55.123342Z"
    }
   },
   "outputs": [],
   "source": [
    "def difference_of_means(df):\n",
    "    means = df.groupby(['condition', 'region']).mean()\n",
    "    return means.xs('early') - means.xs('late')"
   ]
  },
  {
   "cell_type": "code",
   "execution_count": 18,
   "metadata": {
    "execution": {
     "iopub.execute_input": "2021-06-11T15:02:55.136105Z",
     "iopub.status.busy": "2021-06-11T15:02:55.135978Z",
     "iopub.status.idle": "2021-06-11T15:03:16.349500Z",
     "shell.execute_reply": "2021-06-11T15:03:16.348767Z",
     "shell.execute_reply.started": "2021-06-11T15:02:55.136088Z"
    }
   },
   "outputs": [],
   "source": [
    "observed = difference_of_means(nrem_pow)\n",
    "\n",
    "n_permutations = 10000\n",
    "permutations = list()\n",
    "permuted = nrem_pow.copy()\n",
    "for i in range(n_permutations):\n",
    "    np.random.shuffle(permuted.condition.values)\n",
    "    permutations.append(difference_of_means(permuted))\n",
    "    \n",
    "df = pd.concat(permutations)"
   ]
  },
  {
   "cell_type": "code",
   "execution_count": 19,
   "metadata": {
    "execution": {
     "iopub.execute_input": "2021-06-11T15:03:16.350453Z",
     "iopub.status.busy": "2021-06-11T15:03:16.350307Z",
     "iopub.status.idle": "2021-06-11T15:03:16.981624Z",
     "shell.execute_reply": "2021-06-11T15:03:16.981152Z",
     "shell.execute_reply.started": "2021-06-11T15:03:16.350435Z"
    }
   },
   "outputs": [
    {
     "data": {
      "image/png": "[encoded data removed]",
      "text/plain": [
       "<Figure size 720x360 with 2 Axes>"
      ]
     },
     "metadata": {
      "needs_background": "light"
     },
     "output_type": "display_data"
    }
   ],
   "source": [
    "g = sns.displot(data=df, x='power', col='region', kind='hist')\n",
    "g.set(xlabel='Difference of means (Early - Late)')\n",
    "g.tight_layout()"
   ]
  },
  {
   "cell_type": "code",
   "execution_count": 20,
   "metadata": {
    "execution": {
     "iopub.execute_input": "2021-06-11T15:03:16.982395Z",
     "iopub.status.busy": "2021-06-11T15:03:16.982262Z",
     "iopub.status.idle": "2021-06-11T15:03:16.998023Z",
     "shell.execute_reply": "2021-06-11T15:03:16.997549Z",
     "shell.execute_reply.started": "2021-06-11T15:03:16.982378Z"
    }
   },
   "outputs": [],
   "source": [
    "cx = df.xs('mpta_wm_ref').sort_values('power')\n",
    "hc = df.xs('sr_wm_ref').sort_values('power')"
   ]
  },
  {
   "cell_type": "code",
   "execution_count": 21,
   "metadata": {
    "execution": {
     "iopub.execute_input": "2021-06-11T15:03:16.998767Z",
     "iopub.status.busy": "2021-06-11T15:03:16.998639Z",
     "iopub.status.idle": "2021-06-11T15:03:17.009977Z",
     "shell.execute_reply": "2021-06-11T15:03:17.009475Z",
     "shell.execute_reply.started": "2021-06-11T15:03:16.998750Z"
    }
   },
   "outputs": [],
   "source": [
    "pcx = np.sum(cx.power.values >= observed.xs('mpta_wm_ref').values)"
   ]
  },
  {
   "cell_type": "code",
   "execution_count": 22,
   "metadata": {
    "execution": {
     "iopub.execute_input": "2021-06-11T15:03:17.010711Z",
     "iopub.status.busy": "2021-06-11T15:03:17.010585Z",
     "iopub.status.idle": "2021-06-11T15:03:17.021476Z",
     "shell.execute_reply": "2021-06-11T15:03:17.020830Z",
     "shell.execute_reply.started": "2021-06-11T15:03:17.010695Z"
    }
   },
   "outputs": [],
   "source": [
    "phc = np.sum(hc.power.values >= observed.xs('sr_wm_ref').values)"
   ]
  },
  {
   "cell_type": "code",
   "execution_count": 23,
   "metadata": {
    "execution": {
     "iopub.execute_input": "2021-06-11T15:03:17.022228Z",
     "iopub.status.busy": "2021-06-11T15:03:17.022097Z",
     "iopub.status.idle": "2021-06-11T15:03:17.038408Z",
     "shell.execute_reply": "2021-06-11T15:03:17.038047Z",
     "shell.execute_reply.started": "2021-06-11T15:03:17.022212Z"
    }
   },
   "outputs": [
    {
     "name": "stdout",
     "output_type": "stream",
     "text": [
      "Subject: Allan\n",
      "Observed differences, Mean Early - Mean Late:\n",
      "\n",
      "| region      |    power |\n",
      "|:------------|---------:|\n",
      "| mpta_wm_ref | 170.554  |\n",
      "| sr_wm_ref   |  38.0949 |\n",
      "\n",
      "\n",
      "Shuffled differences >= observed:\n",
      "Cortex: 1 / 10000\n",
      "Hippocampus: 1 / 10000\n"
     ]
    }
   ],
   "source": [
    "print(f\"Subject: {subject}\")\n",
    "print('Observed differences, Mean Early - Mean Late:\\n')\n",
    "print(observed.to_markdown())\n",
    "print('\\n')\n",
    "print('Shuffled differences >= observed:')\n",
    "print(f\"Cortex: {1 + pcx} / {n_permutations}\")\n",
    "print(f\"Hippocampus: {1 + phc} / {n_permutations}\")"
   ]
  },
  {
   "cell_type": "code",
   "execution_count": 24,
   "metadata": {
    "execution": {
     "iopub.execute_input": "2021-06-11T15:03:17.039073Z",
     "iopub.status.busy": "2021-06-11T15:03:17.038949Z",
     "iopub.status.idle": "2021-06-11T15:03:17.049758Z",
     "shell.execute_reply": "2021-06-11T15:03:17.049224Z",
     "shell.execute_reply.started": "2021-06-11T15:03:17.039058Z"
    }
   },
   "outputs": [
    {
     "name": "stdout",
     "output_type": "stream",
     "text": [
      "Early condition end: 2021-03-02 16:34:54.989990234\n",
      "Late condition start: 2021-03-02 18:50:05.989990234\n"
     ]
    }
   ],
   "source": [
    "print(f\"Early condition end: {early_hyp.end_time.max()}\")\n",
    "print(f\"Late condition start: {late_hyp.start_time.min()}\")\n",
    "if early_hyp.end_time.max() > late_hyp.start_time.min():\n",
    "    print"
   ]
  },
  {
   "cell_type": "code",
   "execution_count": null,
   "metadata": {},
   "outputs": [],
   "source": []
  }
 ],
 "metadata": {
  "kernelspec": {
   "display_name": "Python 3",
   "language": "python",
   "name": "python3"
  },
  "language_info": {
   "codemirror_mode": {
    "name": "ipython",
    "version": 3
   },
   "file_extension": ".py",
   "mimetype": "text/x-python",
   "name": "python",
   "nbconvert_exporter": "python",
   "pygments_lexer": "ipython3",
   "version": "3.7.9"
  }
 },
 "nbformat": 4,
 "nbformat_minor": 4
}
