{
 "cells": [
  {
   "cell_type": "code",
   "execution_count": 1,
   "metadata": {
    "execution": {
     "iopub.execute_input": "2021-06-12T18:31:27.729257Z",
     "iopub.status.busy": "2021-06-12T18:31:27.728909Z",
     "iopub.status.idle": "2021-06-12T18:31:27.746698Z",
     "shell.execute_reply": "2021-06-12T18:31:27.745981Z",
     "shell.execute_reply.started": "2021-06-12T18:31:27.729216Z"
    }
   },
   "outputs": [],
   "source": [
    "%load_ext autoreload\n",
    "%autoreload 2"
   ]
  },
  {
   "cell_type": "code",
   "execution_count": 2,
   "metadata": {
    "execution": {
     "iopub.execute_input": "2021-06-12T18:31:27.988778Z",
     "iopub.status.busy": "2021-06-12T18:31:27.988441Z",
     "iopub.status.idle": "2021-06-12T18:31:28.142960Z",
     "shell.execute_reply": "2021-06-12T18:31:28.141827Z",
     "shell.execute_reply.started": "2021-06-12T18:31:27.988735Z"
    }
   },
   "outputs": [],
   "source": [
    "import pandas as pd\n",
    "from scipy import stats"
   ]
  },
  {
   "cell_type": "code",
   "execution_count": 3,
   "metadata": {
    "execution": {
     "iopub.execute_input": "2021-06-12T18:31:28.317625Z",
     "iopub.status.busy": "2021-06-12T18:31:28.317276Z",
     "iopub.status.idle": "2021-06-12T18:31:28.337424Z",
     "shell.execute_reply": "2021-06-12T18:31:28.336873Z",
     "shell.execute_reply.started": "2021-06-12T18:31:28.317577Z"
    }
   },
   "outputs": [
    {
     "name": "stdout",
     "output_type": "stream",
     "text": [
      "| subject    |   early_minus_late |\n",
      "|:-----------|-------------------:|\n",
      "| Segundo    |           130.479  |\n",
      "| Valentino  |            79.9561 |\n",
      "| Doppio     |           103.725  |\n",
      "| Alessandro |            71.8083 |\n",
      "| Allan      |           179.685  |\n"
     ]
    }
   ],
   "source": [
    "cx = pd.DataFrame({'subject': ['Segundo', 'Valentino', 'Doppio', 'Alessandro', 'Allan'], 'early_minus_late': [130.479, 79.9561, 103.725, 71.8083, 179.685]}).set_index('subject')\n",
    "print(cx.to_markdown())"
   ]
  },
  {
   "cell_type": "code",
   "execution_count": 4,
   "metadata": {
    "execution": {
     "iopub.execute_input": "2021-06-12T18:31:28.669569Z",
     "iopub.status.busy": "2021-06-12T18:31:28.669272Z",
     "iopub.status.idle": "2021-06-12T18:31:28.685692Z",
     "shell.execute_reply": "2021-06-12T18:31:28.685148Z",
     "shell.execute_reply.started": "2021-06-12T18:31:28.669528Z"
    }
   },
   "outputs": [
    {
     "data": {
      "text/plain": [
       "Ttest_1sampResult(statistic=array([5.79319986]), pvalue=array([0.00441349]))"
      ]
     },
     "execution_count": 4,
     "metadata": {},
     "output_type": "execute_result"
    }
   ],
   "source": [
    "stats.ttest_1samp(cx, 0)"
   ]
  },
  {
   "cell_type": "code",
   "execution_count": 5,
   "metadata": {
    "execution": {
     "iopub.execute_input": "2021-06-12T18:31:29.005933Z",
     "iopub.status.busy": "2021-06-12T18:31:29.005563Z",
     "iopub.status.idle": "2021-06-12T18:31:29.023776Z",
     "shell.execute_reply": "2021-06-12T18:31:29.023150Z",
     "shell.execute_reply.started": "2021-06-12T18:31:29.005882Z"
    }
   },
   "outputs": [
    {
     "name": "stdout",
     "output_type": "stream",
     "text": [
      "| subject    |   early_minus_late |\n",
      "|:-----------|-------------------:|\n",
      "| Segundo    |            37.7329 |\n",
      "| Valentino  |            22.705  |\n",
      "| Doppio     |            43.8976 |\n",
      "| Alessandro |            50.438  |\n",
      "| Allan      |            38.512  |\n"
     ]
    }
   ],
   "source": [
    "hc = pd.DataFrame({'subject': ['Segundo', 'Valentino', 'Doppio', 'Alessandro', 'Allan'], 'early_minus_late': [37.7329, 22.705, 43.8976, 50.438, 38.512]}).set_index('subject')\n",
    "print(hc.to_markdown())"
   ]
  },
  {
   "cell_type": "code",
   "execution_count": 6,
   "metadata": {
    "execution": {
     "iopub.execute_input": "2021-06-12T18:31:29.333462Z",
     "iopub.status.busy": "2021-06-12T18:31:29.333169Z",
     "iopub.status.idle": "2021-06-12T18:31:29.350330Z",
     "shell.execute_reply": "2021-06-12T18:31:29.349887Z",
     "shell.execute_reply.started": "2021-06-12T18:31:29.333425Z"
    }
   },
   "outputs": [
    {
     "data": {
      "text/plain": [
       "Ttest_1sampResult(statistic=array([8.41967719]), pvalue=array([0.00108941]))"
      ]
     },
     "execution_count": 6,
     "metadata": {},
     "output_type": "execute_result"
    }
   ],
   "source": [
    "stats.ttest_1samp(hc, 0)"
   ]
  },
  {
   "cell_type": "code",
   "execution_count": null,
   "metadata": {},
   "outputs": [],
   "source": []
  }
 ],
 "metadata": {
  "kernelspec": {
   "display_name": "Python 3",
   "language": "python",
   "name": "python3"
  },
  "language_info": {
   "codemirror_mode": {
    "name": "ipython",
    "version": 3
   },
   "file_extension": ".py",
   "mimetype": "text/x-python",
   "name": "python",
   "nbconvert_exporter": "python",
   "pygments_lexer": "ipython3",
   "version": "3.7.9"
  }
 },
 "nbformat": 4,
 "nbformat_minor": 4
}
