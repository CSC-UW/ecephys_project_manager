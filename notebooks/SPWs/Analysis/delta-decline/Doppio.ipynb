{
 "cells": [
  {
   "cell_type": "code",
   "execution_count": 1,
   "metadata": {
    "execution": {
     "iopub.execute_input": "2021-06-12T18:26:22.296038Z",
     "iopub.status.busy": "2021-06-12T18:26:22.295482Z",
     "iopub.status.idle": "2021-06-12T18:26:22.312198Z",
     "shell.execute_reply": "2021-06-12T18:26:22.311643Z",
     "shell.execute_reply.started": "2021-06-12T18:26:22.295975Z"
    }
   },
   "outputs": [],
   "source": [
    "%load_ext autoreload\n",
    "%autoreload 2"
   ]
  },
  {
   "cell_type": "code",
   "execution_count": 2,
   "metadata": {
    "execution": {
     "iopub.execute_input": "2021-06-12T18:26:22.313077Z",
     "iopub.status.busy": "2021-06-12T18:26:22.312944Z",
     "iopub.status.idle": "2021-06-12T18:26:22.711865Z",
     "shell.execute_reply": "2021-06-12T18:26:22.710849Z",
     "shell.execute_reply.started": "2021-06-12T18:26:22.313061Z"
    }
   },
   "outputs": [],
   "source": [
    "# %matplotlib widget\n",
    "import matplotlib.pyplot as plt\n",
    "import seaborn as sns"
   ]
  },
  {
   "cell_type": "code",
   "execution_count": 3,
   "metadata": {
    "execution": {
     "iopub.execute_input": "2021-06-12T18:26:22.713283Z",
     "iopub.status.busy": "2021-06-12T18:26:22.713132Z",
     "iopub.status.idle": "2021-06-12T18:26:22.978630Z",
     "shell.execute_reply": "2021-06-12T18:26:22.977761Z",
     "shell.execute_reply.started": "2021-06-12T18:26:22.713265Z"
    }
   },
   "outputs": [],
   "source": [
    "import xarray as xr\n",
    "import numpy as np\n",
    "import pandas as pd"
   ]
  },
  {
   "cell_type": "code",
   "execution_count": 4,
   "metadata": {
    "execution": {
     "iopub.execute_input": "2021-06-12T18:26:22.979725Z",
     "iopub.status.busy": "2021-06-12T18:26:22.979590Z",
     "iopub.status.idle": "2021-06-12T18:26:22.991867Z",
     "shell.execute_reply": "2021-06-12T18:26:22.991149Z",
     "shell.execute_reply.started": "2021-06-12T18:26:22.979709Z"
    }
   },
   "outputs": [
    {
     "data": {
      "text/plain": [
       "<xarray.core.options.set_options at 0x7f18d2c44090>"
      ]
     },
     "execution_count": 4,
     "metadata": {},
     "output_type": "execute_result"
    }
   ],
   "source": [
    "xr.set_options(keep_attrs=True)"
   ]
  },
  {
   "cell_type": "code",
   "execution_count": 5,
   "metadata": {
    "execution": {
     "iopub.execute_input": "2021-06-12T18:26:22.992578Z",
     "iopub.status.busy": "2021-06-12T18:26:22.992459Z",
     "iopub.status.idle": "2021-06-12T18:26:23.004537Z",
     "shell.execute_reply": "2021-06-12T18:26:23.003878Z",
     "shell.execute_reply.started": "2021-06-12T18:26:22.992564Z"
    }
   },
   "outputs": [],
   "source": [
    "import ecephys_analyses as ea \n",
    "from ecephys.signal.xarray_utils import filter_dataset_by_hypnogram"
   ]
  },
  {
   "cell_type": "code",
   "execution_count": 6,
   "metadata": {
    "execution": {
     "iopub.execute_input": "2021-06-12T18:26:23.005212Z",
     "iopub.status.busy": "2021-06-12T18:26:23.005089Z",
     "iopub.status.idle": "2021-06-12T18:26:23.016094Z",
     "shell.execute_reply": "2021-06-12T18:26:23.015247Z",
     "shell.execute_reply.started": "2021-06-12T18:26:23.005198Z"
    }
   },
   "outputs": [],
   "source": [
    "subject = \"Doppio\"\n",
    "experiment = \"novel_objects_deprivation\"\n",
    "norm_condition = \"light-period-circadian-match\"\n",
    "rec_condition = \"recovery-sleep\"\n",
    "states = [\"N1\", \"N2\"]\n",
    "duration = '01:00:00'\n",
    "light_period_start = '09:00:00'\n",
    "light_period_end = '21:00:00'\n",
    "f_range = (0.5, 4)"
   ]
  },
  {
   "cell_type": "code",
   "execution_count": 7,
   "metadata": {
    "execution": {
     "iopub.execute_input": "2021-06-12T18:26:23.016767Z",
     "iopub.status.busy": "2021-06-12T18:26:23.016655Z",
     "iopub.status.idle": "2021-06-12T18:26:26.444391Z",
     "shell.execute_reply": "2021-06-12T18:26:26.443530Z",
     "shell.execute_reply.started": "2021-06-12T18:26:23.016753Z"
    }
   },
   "outputs": [],
   "source": [
    "norm_hyp = ea.load_hypnogram(subject, experiment, norm_condition)\n",
    "norm_hyp = norm_hyp.keep_states(states).keep_between(light_period_start, light_period_end)\n",
    "\n",
    "norm_pow = ea.load_power(subject, experiment, norm_condition, \"spg.nc\").sel(frequency=slice(*f_range)).sum(dim=\"frequency\")\n",
    "norm_pow = filter_dataset_by_hypnogram(norm_pow, norm_hyp).swap_dims({'time': 'datetime'}).drop_vars(['time', 'timedelta'])"
   ]
  },
  {
   "cell_type": "code",
   "execution_count": 8,
   "metadata": {
    "execution": {
     "iopub.execute_input": "2021-06-12T18:26:26.445419Z",
     "iopub.status.busy": "2021-06-12T18:26:26.445271Z",
     "iopub.status.idle": "2021-06-12T18:26:27.902535Z",
     "shell.execute_reply": "2021-06-12T18:26:27.901873Z",
     "shell.execute_reply.started": "2021-06-12T18:26:26.445401Z"
    }
   },
   "outputs": [],
   "source": [
    "rec_hyp = ea.load_hypnogram(subject, experiment, rec_condition)\n",
    "rec_pow = ea.load_power(subject, experiment, rec_condition, \"spg.nc\").sel(frequency=slice(*f_range)).sum(dim='frequency')\n",
    "rec_pow = rec_pow / norm_pow.mean(dim=\"datetime\") * 100"
   ]
  },
  {
   "cell_type": "code",
   "execution_count": 9,
   "metadata": {
    "execution": {
     "iopub.execute_input": "2021-06-12T18:26:27.904182Z",
     "iopub.status.busy": "2021-06-12T18:26:27.904036Z",
     "iopub.status.idle": "2021-06-12T18:26:27.985608Z",
     "shell.execute_reply": "2021-06-12T18:26:27.985004Z",
     "shell.execute_reply.started": "2021-06-12T18:26:27.904164Z"
    }
   },
   "outputs": [],
   "source": [
    "early_hyp = rec_hyp.keep_states(states).keep_first(duration)\n",
    "early_pow = filter_dataset_by_hypnogram(rec_pow, early_hyp).swap_dims({'time': 'datetime'}).drop_vars(['time', 'timedelta'])"
   ]
  },
  {
   "cell_type": "code",
   "execution_count": 10,
   "metadata": {
    "execution": {
     "iopub.execute_input": "2021-06-12T18:26:27.986687Z",
     "iopub.status.busy": "2021-06-12T18:26:27.986558Z",
     "iopub.status.idle": "2021-06-12T18:26:28.083596Z",
     "shell.execute_reply": "2021-06-12T18:26:28.083008Z",
     "shell.execute_reply.started": "2021-06-12T18:26:27.986672Z"
    }
   },
   "outputs": [],
   "source": [
    "late_hyp = rec_hyp.keep_states(states).keep_last(duration)\n",
    "late_pow = filter_dataset_by_hypnogram(rec_pow, late_hyp).swap_dims({'time': 'datetime'}).drop_vars(['time', 'timedelta'])"
   ]
  },
  {
   "cell_type": "code",
   "execution_count": 11,
   "metadata": {
    "execution": {
     "iopub.execute_input": "2021-06-12T18:26:28.084334Z",
     "iopub.status.busy": "2021-06-12T18:26:28.084210Z",
     "iopub.status.idle": "2021-06-12T18:26:28.094493Z",
     "shell.execute_reply": "2021-06-12T18:26:28.093727Z",
     "shell.execute_reply.started": "2021-06-12T18:26:28.084318Z"
    }
   },
   "outputs": [],
   "source": [
    "def match_lengths(dataframes):\n",
    "    length = min(list(map(len, dataframes)))\n",
    "    return (df.iloc[:length] for df in dataframes)"
   ]
  },
  {
   "cell_type": "code",
   "execution_count": 12,
   "metadata": {
    "execution": {
     "iopub.execute_input": "2021-06-12T18:26:28.095293Z",
     "iopub.status.busy": "2021-06-12T18:26:28.095171Z",
     "iopub.status.idle": "2021-06-12T18:26:28.113409Z",
     "shell.execute_reply": "2021-06-12T18:26:28.112818Z",
     "shell.execute_reply.started": "2021-06-12T18:26:28.095279Z"
    }
   },
   "outputs": [],
   "source": [
    "early_df = early_pow.to_dataframe().reset_index(drop=True).rename_axis(index='pair').assign(condition='early').set_index('condition', append=True)\n",
    "late_df = late_pow.to_dataframe().reset_index(drop=True).rename_axis(index='pair').assign(condition='late').set_index('condition', append=True)\n",
    "early_df, late_df = match_lengths((early_df, late_df))\n",
    "df = pd.concat([early_df, late_df]).sort_index()\n",
    "df.columns.name = 'region'"
   ]
  },
  {
   "cell_type": "code",
   "execution_count": 13,
   "metadata": {
    "execution": {
     "iopub.execute_input": "2021-06-12T18:26:28.114153Z",
     "iopub.status.busy": "2021-06-12T18:26:28.114028Z",
     "iopub.status.idle": "2021-06-12T18:26:28.126142Z",
     "shell.execute_reply": "2021-06-12T18:26:28.125569Z",
     "shell.execute_reply.started": "2021-06-12T18:26:28.114138Z"
    }
   },
   "outputs": [],
   "source": [
    "df_plot = df.stack().to_frame(name='power')\n",
    "df_plot['log_power'] = np.log(df_plot.power)\n",
    "df_plot['sqrt_power'] = np.sqrt(df_plot.power)"
   ]
  },
  {
   "cell_type": "code",
   "execution_count": 14,
   "metadata": {
    "execution": {
     "iopub.execute_input": "2021-06-12T18:26:28.126851Z",
     "iopub.status.busy": "2021-06-12T18:26:28.126733Z",
     "iopub.status.idle": "2021-06-12T18:26:28.988562Z",
     "shell.execute_reply": "2021-06-12T18:26:28.987067Z",
     "shell.execute_reply.started": "2021-06-12T18:26:28.126836Z"
    }
   },
   "outputs": [
    {
     "data": {
      "image/png": "[encoded data removed]",
      "text/plain": [
       "<Figure size 781.125x360 with 2 Axes>"
      ]
     },
     "metadata": {
      "needs_background": "light"
     },
     "output_type": "display_data"
    }
   ],
   "source": [
    "g = sns.displot(data=df_plot, x='power', hue='condition', col='region', kind='hist')\n",
    "g.set(xlabel='Delta (0.5 - 4Hz) PSD (uV^2/Hz)')\n",
    "g.tight_layout()"
   ]
  },
  {
   "cell_type": "code",
   "execution_count": 15,
   "metadata": {
    "execution": {
     "iopub.execute_input": "2021-06-12T18:26:28.990209Z",
     "iopub.status.busy": "2021-06-12T18:26:28.990040Z",
     "iopub.status.idle": "2021-06-12T18:26:29.666616Z",
     "shell.execute_reply": "2021-06-12T18:26:29.665596Z",
     "shell.execute_reply.started": "2021-06-12T18:26:28.990190Z"
    }
   },
   "outputs": [
    {
     "data": {
      "image/png": "[encoded data removed]",
      "text/plain": [
       "<Figure size 781.125x360 with 2 Axes>"
      ]
     },
     "metadata": {
      "needs_background": "light"
     },
     "output_type": "display_data"
    }
   ],
   "source": [
    "g = sns.displot(data=df_plot, x='log_power', hue='condition', col='region', kind='hist')\n",
    "g.set(xlabel='Delta (0.5 - 4Hz) PSD (uV^2/Hz)')\n",
    "g.tight_layout()"
   ]
  },
  {
   "cell_type": "code",
   "execution_count": 16,
   "metadata": {
    "execution": {
     "iopub.execute_input": "2021-06-12T18:26:29.667946Z",
     "iopub.status.busy": "2021-06-12T18:26:29.667809Z",
     "iopub.status.idle": "2021-06-12T18:26:30.386250Z",
     "shell.execute_reply": "2021-06-12T18:26:30.385462Z",
     "shell.execute_reply.started": "2021-06-12T18:26:29.667931Z"
    }
   },
   "outputs": [
    {
     "data": {
      "image/png": "[encoded data removed]",
      "text/plain": [
       "<Figure size 781.125x360 with 2 Axes>"
      ]
     },
     "metadata": {
      "needs_background": "light"
     },
     "output_type": "display_data"
    }
   ],
   "source": [
    "g = sns.displot(data=df_plot, x='sqrt_power', hue='condition', col='region', kind='hist')\n",
    "g.set(xlabel='Delta (0.5 - 4Hz) PSD (uV^2/Hz)')\n",
    "g.tight_layout()"
   ]
  },
  {
   "cell_type": "code",
   "execution_count": 17,
   "metadata": {
    "execution": {
     "iopub.execute_input": "2021-06-12T18:26:30.387156Z",
     "iopub.status.busy": "2021-06-12T18:26:30.387024Z",
     "iopub.status.idle": "2021-06-12T18:26:30.399629Z",
     "shell.execute_reply": "2021-06-12T18:26:30.398540Z",
     "shell.execute_reply.started": "2021-06-12T18:26:30.387141Z"
    }
   },
   "outputs": [],
   "source": [
    "def get_decline(df):\n",
    "    means = df.groupby('condition').mean()\n",
    "    return means.xs('early') - means.xs('late')"
   ]
  },
  {
   "cell_type": "code",
   "execution_count": 18,
   "metadata": {
    "execution": {
     "iopub.execute_input": "2021-06-12T18:26:30.400518Z",
     "iopub.status.busy": "2021-06-12T18:26:30.400395Z",
     "iopub.status.idle": "2021-06-12T18:26:30.412829Z",
     "shell.execute_reply": "2021-06-12T18:26:30.411867Z",
     "shell.execute_reply.started": "2021-06-12T18:26:30.400504Z"
    }
   },
   "outputs": [],
   "source": [
    "def shuffle(df, key): \n",
    "    _df = df.reset_index()\n",
    "    labels = _df[key].values.reshape(-1, 2)\n",
    "    rng = np.random.default_rng()\n",
    "    rng.permuted(labels, axis=1, out=labels)\n",
    "    _df.set_index(df.index.names, inplace=True)\n",
    "    return _df"
   ]
  },
  {
   "cell_type": "code",
   "execution_count": 19,
   "metadata": {
    "execution": {
     "iopub.execute_input": "2021-06-12T18:26:30.413687Z",
     "iopub.status.busy": "2021-06-12T18:26:30.413566Z",
     "iopub.status.idle": "2021-06-12T18:26:55.750243Z",
     "shell.execute_reply": "2021-06-12T18:26:55.748910Z",
     "shell.execute_reply.started": "2021-06-12T18:26:30.413673Z"
    }
   },
   "outputs": [],
   "source": [
    "observed = get_decline(df)\n",
    "\n",
    "n_permutations = 10000\n",
    "permutations = list()\n",
    "for i in range(n_permutations):\n",
    "    permuted = shuffle(df, 'condition')\n",
    "    permutations.append(get_decline(permuted))"
   ]
  },
  {
   "cell_type": "code",
   "execution_count": 20,
   "metadata": {
    "execution": {
     "iopub.execute_input": "2021-06-12T18:26:55.751602Z",
     "iopub.status.busy": "2021-06-12T18:26:55.751452Z",
     "iopub.status.idle": "2021-06-12T18:26:56.296018Z",
     "shell.execute_reply": "2021-06-12T18:26:56.295152Z",
     "shell.execute_reply.started": "2021-06-12T18:26:55.751583Z"
    }
   },
   "outputs": [],
   "source": [
    "perms = pd.concat(permutations, axis=1)\n",
    "perms.columns.name = 'permtuation'\n",
    "perms = perms.stack().to_frame(name='decline').reorder_levels([1, 0]).sort_index()"
   ]
  },
  {
   "cell_type": "code",
   "execution_count": 21,
   "metadata": {
    "execution": {
     "iopub.execute_input": "2021-06-12T18:26:56.296967Z",
     "iopub.status.busy": "2021-06-12T18:26:56.296824Z",
     "iopub.status.idle": "2021-06-12T18:26:56.894592Z",
     "shell.execute_reply": "2021-06-12T18:26:56.893895Z",
     "shell.execute_reply.started": "2021-06-12T18:26:56.296950Z"
    }
   },
   "outputs": [
    {
     "data": {
      "image/png": "[encoded data removed]",
      "text/plain": [
       "<Figure size 720x360 with 2 Axes>"
      ]
     },
     "metadata": {
      "needs_background": "light"
     },
     "output_type": "display_data"
    }
   ],
   "source": [
    "g = sns.displot(data=perms, x='decline', col='region', kind='hist')\n",
    "g.set(xlabel='Decline (Early - Late)')\n",
    "g.tight_layout()"
   ]
  },
  {
   "cell_type": "code",
   "execution_count": 22,
   "metadata": {
    "execution": {
     "iopub.execute_input": "2021-06-12T18:26:56.895471Z",
     "iopub.status.busy": "2021-06-12T18:26:56.895334Z",
     "iopub.status.idle": "2021-06-12T18:26:56.909519Z",
     "shell.execute_reply": "2021-06-12T18:26:56.908621Z",
     "shell.execute_reply.started": "2021-06-12T18:26:56.895455Z"
    }
   },
   "outputs": [],
   "source": [
    "cx = perms.xs('mpta_wm_ref', level='region')\n",
    "hc = perms.xs('sr_wm_ref', level='region')"
   ]
  },
  {
   "cell_type": "code",
   "execution_count": 23,
   "metadata": {
    "execution": {
     "iopub.execute_input": "2021-06-12T18:26:56.910406Z",
     "iopub.status.busy": "2021-06-12T18:26:56.910273Z",
     "iopub.status.idle": "2021-06-12T18:26:56.922041Z",
     "shell.execute_reply": "2021-06-12T18:26:56.921184Z",
     "shell.execute_reply.started": "2021-06-12T18:26:56.910391Z"
    }
   },
   "outputs": [],
   "source": [
    "pcx = np.sum(cx >= observed.xs('mpta_wm_ref'))"
   ]
  },
  {
   "cell_type": "code",
   "execution_count": 24,
   "metadata": {
    "execution": {
     "iopub.execute_input": "2021-06-12T18:26:56.922930Z",
     "iopub.status.busy": "2021-06-12T18:26:56.922802Z",
     "iopub.status.idle": "2021-06-12T18:26:56.933754Z",
     "shell.execute_reply": "2021-06-12T18:26:56.932779Z",
     "shell.execute_reply.started": "2021-06-12T18:26:56.922916Z"
    }
   },
   "outputs": [],
   "source": [
    "phc = np.sum(hc >= observed.xs('sr_wm_ref'))"
   ]
  },
  {
   "cell_type": "code",
   "execution_count": 25,
   "metadata": {
    "execution": {
     "iopub.execute_input": "2021-06-12T18:26:56.934605Z",
     "iopub.status.busy": "2021-06-12T18:26:56.934479Z",
     "iopub.status.idle": "2021-06-12T18:26:56.951688Z",
     "shell.execute_reply": "2021-06-12T18:26:56.950475Z",
     "shell.execute_reply.started": "2021-06-12T18:26:56.934591Z"
    }
   },
   "outputs": [
    {
     "name": "stdout",
     "output_type": "stream",
     "text": [
      "Subject: Doppio\n",
      "Observed decline (Early - Late):\n",
      "\n",
      "| region      |        0 |\n",
      "|:------------|---------:|\n",
      "| mpta_wm_ref | 103.725  |\n",
      "| sr_wm_ref   |  43.8976 |\n",
      "\n",
      "\n",
      "Shuffled >= observed:\n",
      "Cortex: 1 / 10000\n",
      "Hippocampus: 1 / 10000\n"
     ]
    }
   ],
   "source": [
    "print(f\"Subject: {subject}\")\n",
    "print('Observed decline (Early - Late):\\n')\n",
    "print(observed.to_markdown())\n",
    "print('\\n')\n",
    "print('Shuffled >= observed:')\n",
    "print(f\"Cortex: {1 + pcx.squeeze()} / {n_permutations}\")\n",
    "print(f\"Hippocampus: {1 + phc.squeeze()} / {n_permutations}\")"
   ]
  },
  {
   "cell_type": "code",
   "execution_count": null,
   "metadata": {},
   "outputs": [],
   "source": []
  }
 ],
 "metadata": {
  "kernelspec": {
   "display_name": "Python 3",
   "language": "python",
   "name": "python3"
  },
  "language_info": {
   "codemirror_mode": {
    "name": "ipython",
    "version": 3
   },
   "file_extension": ".py",
   "mimetype": "text/x-python",
   "name": "python",
   "nbconvert_exporter": "python",
   "pygments_lexer": "ipython3",
   "version": "3.7.9"
  }
 },
 "nbformat": 4,
 "nbformat_minor": 4
}
