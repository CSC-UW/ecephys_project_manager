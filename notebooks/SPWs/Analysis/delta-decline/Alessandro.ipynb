{
 "cells": [
  {
   "cell_type": "code",
   "execution_count": 1,
   "metadata": {
    "execution": {
     "iopub.execute_input": "2021-06-12T18:26:32.291110Z",
     "iopub.status.busy": "2021-06-12T18:26:32.290750Z",
     "iopub.status.idle": "2021-06-12T18:26:32.307313Z",
     "shell.execute_reply": "2021-06-12T18:26:32.306380Z",
     "shell.execute_reply.started": "2021-06-12T18:26:32.291075Z"
    }
   },
   "outputs": [],
   "source": [
    "%load_ext autoreload\n",
    "%autoreload 2"
   ]
  },
  {
   "cell_type": "code",
   "execution_count": 2,
   "metadata": {
    "execution": {
     "iopub.execute_input": "2021-06-12T18:26:32.308269Z",
     "iopub.status.busy": "2021-06-12T18:26:32.308142Z",
     "iopub.status.idle": "2021-06-12T18:26:32.712159Z",
     "shell.execute_reply": "2021-06-12T18:26:32.711285Z",
     "shell.execute_reply.started": "2021-06-12T18:26:32.308253Z"
    }
   },
   "outputs": [],
   "source": [
    "# %matplotlib widget\n",
    "import matplotlib.pyplot as plt\n",
    "import seaborn as sns"
   ]
  },
  {
   "cell_type": "code",
   "execution_count": 3,
   "metadata": {
    "execution": {
     "iopub.execute_input": "2021-06-12T18:26:32.713608Z",
     "iopub.status.busy": "2021-06-12T18:26:32.713446Z",
     "iopub.status.idle": "2021-06-12T18:26:32.968476Z",
     "shell.execute_reply": "2021-06-12T18:26:32.967619Z",
     "shell.execute_reply.started": "2021-06-12T18:26:32.713588Z"
    }
   },
   "outputs": [],
   "source": [
    "import xarray as xr\n",
    "import numpy as np\n",
    "import pandas as pd"
   ]
  },
  {
   "cell_type": "code",
   "execution_count": 4,
   "metadata": {
    "execution": {
     "iopub.execute_input": "2021-06-12T18:26:32.969639Z",
     "iopub.status.busy": "2021-06-12T18:26:32.969495Z",
     "iopub.status.idle": "2021-06-12T18:26:32.985276Z",
     "shell.execute_reply": "2021-06-12T18:26:32.983946Z",
     "shell.execute_reply.started": "2021-06-12T18:26:32.969621Z"
    }
   },
   "outputs": [
    {
     "data": {
      "text/plain": [
       "<xarray.core.options.set_options at 0x7f82a41ceb50>"
      ]
     },
     "execution_count": 4,
     "metadata": {},
     "output_type": "execute_result"
    }
   ],
   "source": [
    "xr.set_options(keep_attrs=True)"
   ]
  },
  {
   "cell_type": "code",
   "execution_count": 5,
   "metadata": {
    "execution": {
     "iopub.execute_input": "2021-06-12T18:26:32.987540Z",
     "iopub.status.busy": "2021-06-12T18:26:32.987109Z",
     "iopub.status.idle": "2021-06-12T18:26:33.003909Z",
     "shell.execute_reply": "2021-06-12T18:26:33.003326Z",
     "shell.execute_reply.started": "2021-06-12T18:26:32.987484Z"
    }
   },
   "outputs": [],
   "source": [
    "import ecephys_analyses as ea \n",
    "from ecephys.signal.xarray_utils import filter_dataset_by_hypnogram"
   ]
  },
  {
   "cell_type": "code",
   "execution_count": 6,
   "metadata": {
    "execution": {
     "iopub.execute_input": "2021-06-12T18:26:33.004579Z",
     "iopub.status.busy": "2021-06-12T18:26:33.004465Z",
     "iopub.status.idle": "2021-06-12T18:26:33.015399Z",
     "shell.execute_reply": "2021-06-12T18:26:33.014623Z",
     "shell.execute_reply.started": "2021-06-12T18:26:33.004565Z"
    }
   },
   "outputs": [],
   "source": [
    "subject = \"Alessandro\"\n",
    "experiment = \"novel_objects_deprivation\"\n",
    "norm_condition = \"light-period-circadian-match\"\n",
    "rec_condition = \"recovery-sleep\"\n",
    "states = [\"N1\", \"N2\"]\n",
    "duration = '01:00:00'\n",
    "light_period_start = '09:00:00'\n",
    "light_period_end = '21:00:00'\n",
    "f_range = (0.5, 4)"
   ]
  },
  {
   "cell_type": "code",
   "execution_count": 7,
   "metadata": {
    "execution": {
     "iopub.execute_input": "2021-06-12T18:26:33.016310Z",
     "iopub.status.busy": "2021-06-12T18:26:33.016197Z",
     "iopub.status.idle": "2021-06-12T18:26:36.584003Z",
     "shell.execute_reply": "2021-06-12T18:26:36.583463Z",
     "shell.execute_reply.started": "2021-06-12T18:26:33.016296Z"
    }
   },
   "outputs": [],
   "source": [
    "norm_hyp = ea.load_hypnogram(subject, experiment, norm_condition)\n",
    "norm_hyp = norm_hyp.keep_states(states).keep_between(light_period_start, light_period_end)\n",
    "\n",
    "norm_pow = ea.load_power(subject, experiment, norm_condition, \"spg.nc\").sel(frequency=slice(*f_range)).sum(dim=\"frequency\")\n",
    "norm_pow = filter_dataset_by_hypnogram(norm_pow, norm_hyp).swap_dims({'time': 'datetime'}).drop_vars(['time', 'timedelta'])"
   ]
  },
  {
   "cell_type": "code",
   "execution_count": 8,
   "metadata": {
    "execution": {
     "iopub.execute_input": "2021-06-12T18:26:36.584891Z",
     "iopub.status.busy": "2021-06-12T18:26:36.584749Z",
     "iopub.status.idle": "2021-06-12T18:26:38.103751Z",
     "shell.execute_reply": "2021-06-12T18:26:38.103218Z",
     "shell.execute_reply.started": "2021-06-12T18:26:36.584874Z"
    }
   },
   "outputs": [],
   "source": [
    "rec_hyp = ea.load_hypnogram(subject, experiment, rec_condition)\n",
    "rec_pow = ea.load_power(subject, experiment, rec_condition, \"spg.nc\").sel(frequency=slice(*f_range)).sum(dim='frequency')\n",
    "rec_pow = rec_pow / norm_pow.mean(dim=\"datetime\") * 100"
   ]
  },
  {
   "cell_type": "code",
   "execution_count": 9,
   "metadata": {
    "execution": {
     "iopub.execute_input": "2021-06-12T18:26:38.105329Z",
     "iopub.status.busy": "2021-06-12T18:26:38.105182Z",
     "iopub.status.idle": "2021-06-12T18:26:38.149583Z",
     "shell.execute_reply": "2021-06-12T18:26:38.149051Z",
     "shell.execute_reply.started": "2021-06-12T18:26:38.105311Z"
    }
   },
   "outputs": [],
   "source": [
    "early_hyp = rec_hyp.keep_states(states).keep_first(duration)\n",
    "early_pow = filter_dataset_by_hypnogram(rec_pow, early_hyp).swap_dims({'time': 'datetime'}).drop_vars(['time', 'timedelta'])"
   ]
  },
  {
   "cell_type": "code",
   "execution_count": 10,
   "metadata": {
    "execution": {
     "iopub.execute_input": "2021-06-12T18:26:38.150554Z",
     "iopub.status.busy": "2021-06-12T18:26:38.150428Z",
     "iopub.status.idle": "2021-06-12T18:26:38.221875Z",
     "shell.execute_reply": "2021-06-12T18:26:38.221343Z",
     "shell.execute_reply.started": "2021-06-12T18:26:38.150538Z"
    }
   },
   "outputs": [],
   "source": [
    "late_hyp = rec_hyp.keep_states(states).keep_last(duration)\n",
    "late_pow = filter_dataset_by_hypnogram(rec_pow, late_hyp).swap_dims({'time': 'datetime'}).drop_vars(['time', 'timedelta'])"
   ]
  },
  {
   "cell_type": "code",
   "execution_count": 11,
   "metadata": {
    "execution": {
     "iopub.execute_input": "2021-06-12T18:26:38.222566Z",
     "iopub.status.busy": "2021-06-12T18:26:38.222446Z",
     "iopub.status.idle": "2021-06-12T18:26:38.233368Z",
     "shell.execute_reply": "2021-06-12T18:26:38.232727Z",
     "shell.execute_reply.started": "2021-06-12T18:26:38.222551Z"
    }
   },
   "outputs": [],
   "source": [
    "def match_lengths(dataframes):\n",
    "    length = min(list(map(len, dataframes)))\n",
    "    return (df.iloc[:length] for df in dataframes)"
   ]
  },
  {
   "cell_type": "code",
   "execution_count": 12,
   "metadata": {
    "execution": {
     "iopub.execute_input": "2021-06-12T18:26:38.234027Z",
     "iopub.status.busy": "2021-06-12T18:26:38.233909Z",
     "iopub.status.idle": "2021-06-12T18:26:38.254626Z",
     "shell.execute_reply": "2021-06-12T18:26:38.254279Z",
     "shell.execute_reply.started": "2021-06-12T18:26:38.234012Z"
    }
   },
   "outputs": [],
   "source": [
    "early_df = early_pow.to_dataframe().reset_index(drop=True).rename_axis(index='pair').assign(condition='early').set_index('condition', append=True)\n",
    "late_df = late_pow.to_dataframe().reset_index(drop=True).rename_axis(index='pair').assign(condition='late').set_index('condition', append=True)\n",
    "early_df, late_df = match_lengths((early_df, late_df))\n",
    "df = pd.concat([early_df, late_df]).sort_index()\n",
    "df.columns.name = 'region'"
   ]
  },
  {
   "cell_type": "code",
   "execution_count": 13,
   "metadata": {
    "execution": {
     "iopub.execute_input": "2021-06-12T18:26:38.255283Z",
     "iopub.status.busy": "2021-06-12T18:26:38.255159Z",
     "iopub.status.idle": "2021-06-12T18:26:38.266475Z",
     "shell.execute_reply": "2021-06-12T18:26:38.266053Z",
     "shell.execute_reply.started": "2021-06-12T18:26:38.255268Z"
    }
   },
   "outputs": [],
   "source": [
    "df_plot = df.stack().to_frame(name='power')\n",
    "df_plot['log_power'] = np.log(df_plot.power)\n",
    "df_plot['sqrt_power'] = np.sqrt(df_plot.power)"
   ]
  },
  {
   "cell_type": "code",
   "execution_count": 14,
   "metadata": {
    "execution": {
     "iopub.execute_input": "2021-06-12T18:26:38.267185Z",
     "iopub.status.busy": "2021-06-12T18:26:38.267057Z",
     "iopub.status.idle": "2021-06-12T18:26:39.090116Z",
     "shell.execute_reply": "2021-06-12T18:26:39.088922Z",
     "shell.execute_reply.started": "2021-06-12T18:26:38.267169Z"
    }
   },
   "outputs": [
    {
     "data": {
      "image/png": "[encoded data removed]",
      "text/plain": [
       "<Figure size 781.125x360 with 2 Axes>"
      ]
     },
     "metadata": {
      "needs_background": "light"
     },
     "output_type": "display_data"
    }
   ],
   "source": [
    "g = sns.displot(data=df_plot, x='power', hue='condition', col='region', kind='hist')\n",
    "g.set(xlabel='Delta (0.5 - 4Hz) PSD (uV^2/Hz)')\n",
    "g.tight_layout()"
   ]
  },
  {
   "cell_type": "code",
   "execution_count": 15,
   "metadata": {
    "execution": {
     "iopub.execute_input": "2021-06-12T18:26:39.091651Z",
     "iopub.status.busy": "2021-06-12T18:26:39.091473Z",
     "iopub.status.idle": "2021-06-12T18:26:39.806328Z",
     "shell.execute_reply": "2021-06-12T18:26:39.805615Z",
     "shell.execute_reply.started": "2021-06-12T18:26:39.091627Z"
    }
   },
   "outputs": [
    {
     "data": {
      "image/png": "[encoded data removed]",
      "text/plain": [
       "<Figure size 781.125x360 with 2 Axes>"
      ]
     },
     "metadata": {
      "needs_background": "light"
     },
     "output_type": "display_data"
    }
   ],
   "source": [
    "g = sns.displot(data=df_plot, x='log_power', hue='condition', col='region', kind='hist')\n",
    "g.set(xlabel='Delta (0.5 - 4Hz) PSD (uV^2/Hz)')\n",
    "g.tight_layout()"
   ]
  },
  {
   "cell_type": "code",
   "execution_count": 16,
   "metadata": {
    "execution": {
     "iopub.execute_input": "2021-06-12T18:26:39.807241Z",
     "iopub.status.busy": "2021-06-12T18:26:39.807117Z",
     "iopub.status.idle": "2021-06-12T18:26:40.500633Z",
     "shell.execute_reply": "2021-06-12T18:26:40.499894Z",
     "shell.execute_reply.started": "2021-06-12T18:26:39.807227Z"
    }
   },
   "outputs": [
    {
     "data": {
      "image/png": "[encoded data removed]",
      "text/plain": [
       "<Figure size 781.125x360 with 2 Axes>"
      ]
     },
     "metadata": {
      "needs_background": "light"
     },
     "output_type": "display_data"
    }
   ],
   "source": [
    "g = sns.displot(data=df_plot, x='sqrt_power', hue='condition', col='region', kind='hist')\n",
    "g.set(xlabel='Delta (0.5 - 4Hz) PSD (uV^2/Hz)')\n",
    "g.tight_layout()"
   ]
  },
  {
   "cell_type": "code",
   "execution_count": 17,
   "metadata": {
    "execution": {
     "iopub.execute_input": "2021-06-12T18:26:40.501737Z",
     "iopub.status.busy": "2021-06-12T18:26:40.501605Z",
     "iopub.status.idle": "2021-06-12T18:26:40.514102Z",
     "shell.execute_reply": "2021-06-12T18:26:40.513242Z",
     "shell.execute_reply.started": "2021-06-12T18:26:40.501721Z"
    }
   },
   "outputs": [],
   "source": [
    "def get_decline(df):\n",
    "    means = df.groupby('condition').mean()\n",
    "    return means.xs('early') - means.xs('late')"
   ]
  },
  {
   "cell_type": "code",
   "execution_count": 18,
   "metadata": {
    "execution": {
     "iopub.execute_input": "2021-06-12T18:26:40.514873Z",
     "iopub.status.busy": "2021-06-12T18:26:40.514754Z",
     "iopub.status.idle": "2021-06-12T18:26:40.526921Z",
     "shell.execute_reply": "2021-06-12T18:26:40.525919Z",
     "shell.execute_reply.started": "2021-06-12T18:26:40.514858Z"
    }
   },
   "outputs": [],
   "source": [
    "def shuffle(df, key): \n",
    "    _df = df.reset_index()\n",
    "    labels = _df[key].values.reshape(-1, 2)\n",
    "    rng = np.random.default_rng()\n",
    "    rng.permuted(labels, axis=1, out=labels)\n",
    "    _df.set_index(df.index.names, inplace=True)\n",
    "    return _df"
   ]
  },
  {
   "cell_type": "code",
   "execution_count": 19,
   "metadata": {
    "execution": {
     "iopub.execute_input": "2021-06-12T18:26:40.527698Z",
     "iopub.status.busy": "2021-06-12T18:26:40.527580Z",
     "iopub.status.idle": "2021-06-12T18:27:05.675425Z",
     "shell.execute_reply": "2021-06-12T18:27:05.674235Z",
     "shell.execute_reply.started": "2021-06-12T18:26:40.527684Z"
    }
   },
   "outputs": [],
   "source": [
    "observed = get_decline(df)\n",
    "\n",
    "n_permutations = 10000\n",
    "permutations = list()\n",
    "for i in range(n_permutations):\n",
    "    permuted = shuffle(df, 'condition')\n",
    "    permutations.append(get_decline(permuted))"
   ]
  },
  {
   "cell_type": "code",
   "execution_count": 20,
   "metadata": {
    "execution": {
     "iopub.execute_input": "2021-06-12T18:27:05.676634Z",
     "iopub.status.busy": "2021-06-12T18:27:05.676478Z",
     "iopub.status.idle": "2021-06-12T18:27:06.178852Z",
     "shell.execute_reply": "2021-06-12T18:27:06.177655Z",
     "shell.execute_reply.started": "2021-06-12T18:27:05.676615Z"
    }
   },
   "outputs": [],
   "source": [
    "perms = pd.concat(permutations, axis=1)\n",
    "perms.columns.name = 'permtuation'\n",
    "perms = perms.stack().to_frame(name='decline').reorder_levels([1, 0]).sort_index()"
   ]
  },
  {
   "cell_type": "code",
   "execution_count": 21,
   "metadata": {
    "execution": {
     "iopub.execute_input": "2021-06-12T18:27:06.179711Z",
     "iopub.status.busy": "2021-06-12T18:27:06.179581Z",
     "iopub.status.idle": "2021-06-12T18:27:06.718768Z",
     "shell.execute_reply": "2021-06-12T18:27:06.717593Z",
     "shell.execute_reply.started": "2021-06-12T18:27:06.179696Z"
    }
   },
   "outputs": [
    {
     "data": {
      "image/png": "[encoded data removed]",
      "text/plain": [
       "<Figure size 720x360 with 2 Axes>"
      ]
     },
     "metadata": {
      "needs_background": "light"
     },
     "output_type": "display_data"
    }
   ],
   "source": [
    "g = sns.displot(data=perms, x='decline', col='region', kind='hist')\n",
    "g.set(xlabel='Decline (Early - Late)')\n",
    "g.tight_layout()"
   ]
  },
  {
   "cell_type": "code",
   "execution_count": 22,
   "metadata": {
    "execution": {
     "iopub.execute_input": "2021-06-12T18:27:06.719676Z",
     "iopub.status.busy": "2021-06-12T18:27:06.719545Z",
     "iopub.status.idle": "2021-06-12T18:27:06.733008Z",
     "shell.execute_reply": "2021-06-12T18:27:06.732150Z",
     "shell.execute_reply.started": "2021-06-12T18:27:06.719661Z"
    }
   },
   "outputs": [],
   "source": [
    "cx = perms.xs('mpta_wm_ref', level='region')\n",
    "hc = perms.xs('sr_wm_ref', level='region')"
   ]
  },
  {
   "cell_type": "code",
   "execution_count": 23,
   "metadata": {
    "execution": {
     "iopub.execute_input": "2021-06-12T18:27:06.733866Z",
     "iopub.status.busy": "2021-06-12T18:27:06.733743Z",
     "iopub.status.idle": "2021-06-12T18:27:06.745159Z",
     "shell.execute_reply": "2021-06-12T18:27:06.744114Z",
     "shell.execute_reply.started": "2021-06-12T18:27:06.733852Z"
    }
   },
   "outputs": [],
   "source": [
    "pcx = np.sum(cx >= observed.xs('mpta_wm_ref'))"
   ]
  },
  {
   "cell_type": "code",
   "execution_count": 24,
   "metadata": {
    "execution": {
     "iopub.execute_input": "2021-06-12T18:27:06.745853Z",
     "iopub.status.busy": "2021-06-12T18:27:06.745739Z",
     "iopub.status.idle": "2021-06-12T18:27:06.756152Z",
     "shell.execute_reply": "2021-06-12T18:27:06.755139Z",
     "shell.execute_reply.started": "2021-06-12T18:27:06.745839Z"
    }
   },
   "outputs": [],
   "source": [
    "phc = np.sum(hc >= observed.xs('sr_wm_ref'))"
   ]
  },
  {
   "cell_type": "code",
   "execution_count": 25,
   "metadata": {
    "execution": {
     "iopub.execute_input": "2021-06-12T18:27:06.757000Z",
     "iopub.status.busy": "2021-06-12T18:27:06.756879Z",
     "iopub.status.idle": "2021-06-12T18:27:06.772303Z",
     "shell.execute_reply": "2021-06-12T18:27:06.771556Z",
     "shell.execute_reply.started": "2021-06-12T18:27:06.756986Z"
    }
   },
   "outputs": [
    {
     "name": "stdout",
     "output_type": "stream",
     "text": [
      "Subject: Alessandro\n",
      "Observed decline (Early - Late):\n",
      "\n",
      "| region      |       0 |\n",
      "|:------------|--------:|\n",
      "| mpta_wm_ref | 71.8083 |\n",
      "| sr_wm_ref   | 50.438  |\n",
      "\n",
      "\n",
      "Shuffled >= observed:\n",
      "Cortex: 1 / 10000\n",
      "Hippocampus: 1 / 10000\n"
     ]
    }
   ],
   "source": [
    "print(f\"Subject: {subject}\")\n",
    "print('Observed decline (Early - Late):\\n')\n",
    "print(observed.to_markdown())\n",
    "print('\\n')\n",
    "print('Shuffled >= observed:')\n",
    "print(f\"Cortex: {1 + pcx.squeeze()} / {n_permutations}\")\n",
    "print(f\"Hippocampus: {1 + phc.squeeze()} / {n_permutations}\")"
   ]
  },
  {
   "cell_type": "code",
   "execution_count": null,
   "metadata": {},
   "outputs": [],
   "source": []
  }
 ],
 "metadata": {
  "kernelspec": {
   "display_name": "Python 3",
   "language": "python",
   "name": "python3"
  },
  "language_info": {
   "codemirror_mode": {
    "name": "ipython",
    "version": 3
   },
   "file_extension": ".py",
   "mimetype": "text/x-python",
   "name": "python",
   "nbconvert_exporter": "python",
   "pygments_lexer": "ipython3",
   "version": "3.7.9"
  }
 },
 "nbformat": 4,
 "nbformat_minor": 4
}
