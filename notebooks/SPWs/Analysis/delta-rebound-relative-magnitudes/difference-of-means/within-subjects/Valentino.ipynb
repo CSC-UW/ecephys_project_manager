{
 "cells": [
  {
   "cell_type": "code",
   "execution_count": 1,
   "metadata": {
    "execution": {
     "iopub.execute_input": "2021-06-11T00:20:35.443003Z",
     "iopub.status.busy": "2021-06-11T00:20:35.442801Z",
     "iopub.status.idle": "2021-06-11T00:20:35.452087Z",
     "shell.execute_reply": "2021-06-11T00:20:35.451453Z",
     "shell.execute_reply.started": "2021-06-11T00:20:35.442967Z"
    }
   },
   "outputs": [],
   "source": [
    "%load_ext autoreload\n",
    "%autoreload 2"
   ]
  },
  {
   "cell_type": "code",
   "execution_count": 2,
   "metadata": {
    "execution": {
     "iopub.execute_input": "2021-06-11T00:20:35.453010Z",
     "iopub.status.busy": "2021-06-11T00:20:35.452880Z",
     "iopub.status.idle": "2021-06-11T00:20:36.050448Z",
     "shell.execute_reply": "2021-06-11T00:20:36.049888Z",
     "shell.execute_reply.started": "2021-06-11T00:20:35.452994Z"
    }
   },
   "outputs": [],
   "source": [
    "# %matplotlib widget\n",
    "import matplotlib.pyplot as plt\n",
    "import seaborn as sns"
   ]
  },
  {
   "cell_type": "code",
   "execution_count": 3,
   "metadata": {
    "execution": {
     "iopub.execute_input": "2021-06-11T00:20:36.051585Z",
     "iopub.status.busy": "2021-06-11T00:20:36.051437Z",
     "iopub.status.idle": "2021-06-11T00:20:36.336774Z",
     "shell.execute_reply": "2021-06-11T00:20:36.336087Z",
     "shell.execute_reply.started": "2021-06-11T00:20:36.051567Z"
    }
   },
   "outputs": [],
   "source": [
    "import xarray as xr\n",
    "import numpy as np\n",
    "import pandas as pd"
   ]
  },
  {
   "cell_type": "code",
   "execution_count": 4,
   "metadata": {
    "execution": {
     "iopub.execute_input": "2021-06-11T00:20:36.339393Z",
     "iopub.status.busy": "2021-06-11T00:20:36.339269Z",
     "iopub.status.idle": "2021-06-11T00:20:36.353325Z",
     "shell.execute_reply": "2021-06-11T00:20:36.352735Z",
     "shell.execute_reply.started": "2021-06-11T00:20:36.339376Z"
    }
   },
   "outputs": [
    {
     "data": {
      "text/plain": [
       "<xarray.core.options.set_options at 0x7fcefbf1ead0>"
      ]
     },
     "execution_count": 4,
     "metadata": {},
     "output_type": "execute_result"
    }
   ],
   "source": [
    "xr.set_options(keep_attrs=True)"
   ]
  },
  {
   "cell_type": "code",
   "execution_count": 5,
   "metadata": {
    "execution": {
     "iopub.execute_input": "2021-06-11T00:20:36.354035Z",
     "iopub.status.busy": "2021-06-11T00:20:36.353913Z",
     "iopub.status.idle": "2021-06-11T00:20:36.367445Z",
     "shell.execute_reply": "2021-06-11T00:20:36.366958Z",
     "shell.execute_reply.started": "2021-06-11T00:20:36.354019Z"
    }
   },
   "outputs": [],
   "source": [
    "import ecephys_analyses as ea \n",
    "from ecephys import utils\n",
    "from ecephys.signal.xarray_utils import filter_dataset_by_hypnogram"
   ]
  },
  {
   "cell_type": "code",
   "execution_count": 6,
   "metadata": {
    "execution": {
     "iopub.execute_input": "2021-06-11T00:20:36.368144Z",
     "iopub.status.busy": "2021-06-11T00:20:36.368020Z",
     "iopub.status.idle": "2021-06-11T00:20:36.380789Z",
     "shell.execute_reply": "2021-06-11T00:20:36.380352Z",
     "shell.execute_reply.started": "2021-06-11T00:20:36.368128Z"
    }
   },
   "outputs": [],
   "source": [
    "def ds2df(ds):\n",
    "    s = ds.to_dataframe().stack()\n",
    "    s.index.names = s.index.names[:-1] + ['region']\n",
    "    return s.to_frame(name='power')"
   ]
  },
  {
   "cell_type": "code",
   "execution_count": 7,
   "metadata": {
    "execution": {
     "iopub.execute_input": "2021-06-11T00:20:36.381440Z",
     "iopub.status.busy": "2021-06-11T00:20:36.381315Z",
     "iopub.status.idle": "2021-06-11T00:20:36.391591Z",
     "shell.execute_reply": "2021-06-11T00:20:36.391152Z",
     "shell.execute_reply.started": "2021-06-11T00:20:36.381424Z"
    }
   },
   "outputs": [],
   "source": [
    "subject = \"Valentino\"\n",
    "experiment = \"sleep-homeostasis\"\n",
    "norm_condition = \"light-period-circadian-match\"\n",
    "bsl_condition = \"recovery-sleep-circadian-match\"\n",
    "rec_condition = \"recovery-sleep\"\n",
    "states = [\"N1\", \"N2\"]\n",
    "duration = '02:00:00'\n",
    "light_period_start = '09:00:00'\n",
    "light_period_end = '21:00:00'\n",
    "f_range = (0.5, 4)"
   ]
  },
  {
   "cell_type": "code",
   "execution_count": 8,
   "metadata": {
    "execution": {
     "iopub.execute_input": "2021-06-11T00:20:36.392239Z",
     "iopub.status.busy": "2021-06-11T00:20:36.392119Z",
     "iopub.status.idle": "2021-06-11T00:20:39.808291Z",
     "shell.execute_reply": "2021-06-11T00:20:39.807673Z",
     "shell.execute_reply.started": "2021-06-11T00:20:36.392224Z"
    }
   },
   "outputs": [],
   "source": [
    "norm_hyp = ea.load_hypnogram(subject, experiment, norm_condition)\n",
    "norm_hyp = norm_hyp.keep_states(states).keep_between(light_period_start, light_period_end)\n",
    "\n",
    "norm_pow = ea.load_power(subject, experiment, norm_condition, \"spg.nc\").sel(frequency=slice(*f_range)).sum(dim=\"frequency\")\n",
    "norm_pow = filter_dataset_by_hypnogram(norm_pow, norm_hyp).swap_dims({'time': 'datetime'}).drop_vars(['time', 'timedelta'])"
   ]
  },
  {
   "cell_type": "code",
   "execution_count": 9,
   "metadata": {
    "execution": {
     "iopub.execute_input": "2021-06-11T00:20:39.810078Z",
     "iopub.status.busy": "2021-06-11T00:20:39.809931Z",
     "iopub.status.idle": "2021-06-11T00:20:41.416017Z",
     "shell.execute_reply": "2021-06-11T00:20:41.415335Z",
     "shell.execute_reply.started": "2021-06-11T00:20:39.810060Z"
    }
   },
   "outputs": [],
   "source": [
    "rec_hyp = ea.load_hypnogram(subject, experiment, rec_condition)\n",
    "rec_hyp = rec_hyp.keep_states(states).keep_first(duration)\n",
    "\n",
    "rec_pow = ea.load_power(subject, experiment, rec_condition, \"spg.nc\").sel(frequency=slice(*f_range)).sum(dim='frequency')\n",
    "rec_pow = filter_dataset_by_hypnogram(rec_pow, rec_hyp).swap_dims({'time': 'datetime'}).drop_vars(['time', 'timedelta'])\n",
    "rec_pow = rec_pow / norm_pow.mean(dim=\"datetime\") * 100"
   ]
  },
  {
   "cell_type": "code",
   "execution_count": 10,
   "metadata": {
    "execution": {
     "iopub.execute_input": "2021-06-11T00:20:41.417308Z",
     "iopub.status.busy": "2021-06-11T00:20:41.417160Z",
     "iopub.status.idle": "2021-06-11T00:20:43.072853Z",
     "shell.execute_reply": "2021-06-11T00:20:43.072128Z",
     "shell.execute_reply.started": "2021-06-11T00:20:41.417290Z"
    }
   },
   "outputs": [],
   "source": [
    "bsl_hyp = ea.load_hypnogram(subject, experiment, bsl_condition)\n",
    "bsl_hyp = bsl_hyp.keep_states(states).keep_between(rec_hyp.start_time.min().strftime(\"%H:%M:%S\"), light_period_end).keep_first(duration)\n",
    "\n",
    "bsl_pow = ea.load_power(subject, experiment, bsl_condition, \"spg.nc\").sel(frequency=slice(*f_range)).sum(dim='frequency')\n",
    "bsl_pow = filter_dataset_by_hypnogram(bsl_pow, bsl_hyp).swap_dims({'time': 'datetime'}).drop_vars(['time', 'timedelta'])\n",
    "bsl_pow = bsl_pow / norm_pow.mean(dim=\"datetime\") * 100"
   ]
  },
  {
   "cell_type": "code",
   "execution_count": 11,
   "metadata": {
    "execution": {
     "iopub.execute_input": "2021-06-11T00:20:43.073748Z",
     "iopub.status.busy": "2021-06-11T00:20:43.073585Z",
     "iopub.status.idle": "2021-06-11T00:20:43.092266Z",
     "shell.execute_reply": "2021-06-11T00:20:43.091638Z",
     "shell.execute_reply.started": "2021-06-11T00:20:43.073730Z"
    }
   },
   "outputs": [],
   "source": [
    "nrem_pow = pd.concat([ds2df(bsl_pow).assign(condition=\"baseline\"), ds2df(rec_pow).assign(condition=\"recovery\")])"
   ]
  },
  {
   "cell_type": "code",
   "execution_count": 12,
   "metadata": {
    "execution": {
     "iopub.execute_input": "2021-06-11T00:20:43.092946Z",
     "iopub.status.busy": "2021-06-11T00:20:43.092822Z",
     "iopub.status.idle": "2021-06-11T00:20:43.113114Z",
     "shell.execute_reply": "2021-06-11T00:20:43.112527Z",
     "shell.execute_reply.started": "2021-06-11T00:20:43.092930Z"
    }
   },
   "outputs": [
    {
     "data": {
      "text/html": [
       "<div>\n",
       "<style scoped>\n",
       "    .dataframe tbody tr th:only-of-type {\n",
       "        vertical-align: middle;\n",
       "    }\n",
       "\n",
       "    .dataframe tbody tr th {\n",
       "        vertical-align: top;\n",
       "    }\n",
       "\n",
       "    .dataframe thead th {\n",
       "        text-align: right;\n",
       "    }\n",
       "</style>\n",
       "<table border=\"1\" class=\"dataframe\">\n",
       "  <thead>\n",
       "    <tr style=\"text-align: right;\">\n",
       "      <th></th>\n",
       "      <th></th>\n",
       "      <th>power</th>\n",
       "      <th>condition</th>\n",
       "    </tr>\n",
       "    <tr>\n",
       "      <th>datetime</th>\n",
       "      <th>region</th>\n",
       "      <th></th>\n",
       "      <th></th>\n",
       "    </tr>\n",
       "  </thead>\n",
       "  <tbody>\n",
       "    <tr>\n",
       "      <th rowspan=\"2\" valign=\"top\">2020-02-19 15:08:05</th>\n",
       "      <th>mpta_wm_ref</th>\n",
       "      <td>8.322469</td>\n",
       "      <td>baseline</td>\n",
       "    </tr>\n",
       "    <tr>\n",
       "      <th>sr_wm_ref</th>\n",
       "      <td>23.606334</td>\n",
       "      <td>baseline</td>\n",
       "    </tr>\n",
       "    <tr>\n",
       "      <th rowspan=\"2\" valign=\"top\">2020-02-19 15:08:08</th>\n",
       "      <th>mpta_wm_ref</th>\n",
       "      <td>12.742594</td>\n",
       "      <td>baseline</td>\n",
       "    </tr>\n",
       "    <tr>\n",
       "      <th>sr_wm_ref</th>\n",
       "      <td>20.952554</td>\n",
       "      <td>baseline</td>\n",
       "    </tr>\n",
       "    <tr>\n",
       "      <th>2020-02-19 15:08:11</th>\n",
       "      <th>mpta_wm_ref</th>\n",
       "      <td>8.731218</td>\n",
       "      <td>baseline</td>\n",
       "    </tr>\n",
       "    <tr>\n",
       "      <th>...</th>\n",
       "      <th>...</th>\n",
       "      <td>...</td>\n",
       "      <td>...</td>\n",
       "    </tr>\n",
       "    <tr>\n",
       "      <th>2020-02-20 17:49:31</th>\n",
       "      <th>sr_wm_ref</th>\n",
       "      <td>474.259289</td>\n",
       "      <td>recovery</td>\n",
       "    </tr>\n",
       "    <tr>\n",
       "      <th rowspan=\"2\" valign=\"top\">2020-02-20 17:49:34</th>\n",
       "      <th>mpta_wm_ref</th>\n",
       "      <td>138.753466</td>\n",
       "      <td>recovery</td>\n",
       "    </tr>\n",
       "    <tr>\n",
       "      <th>sr_wm_ref</th>\n",
       "      <td>84.241144</td>\n",
       "      <td>recovery</td>\n",
       "    </tr>\n",
       "    <tr>\n",
       "      <th rowspan=\"2\" valign=\"top\">2020-02-20 17:49:37</th>\n",
       "      <th>mpta_wm_ref</th>\n",
       "      <td>164.824322</td>\n",
       "      <td>recovery</td>\n",
       "    </tr>\n",
       "    <tr>\n",
       "      <th>sr_wm_ref</th>\n",
       "      <td>135.922204</td>\n",
       "      <td>recovery</td>\n",
       "    </tr>\n",
       "  </tbody>\n",
       "</table>\n",
       "<p>9578 rows × 2 columns</p>\n",
       "</div>"
      ],
      "text/plain": [
       "                                      power condition\n",
       "datetime            region                           \n",
       "2020-02-19 15:08:05 mpta_wm_ref    8.322469  baseline\n",
       "                    sr_wm_ref     23.606334  baseline\n",
       "2020-02-19 15:08:08 mpta_wm_ref   12.742594  baseline\n",
       "                    sr_wm_ref     20.952554  baseline\n",
       "2020-02-19 15:08:11 mpta_wm_ref    8.731218  baseline\n",
       "...                                     ...       ...\n",
       "2020-02-20 17:49:31 sr_wm_ref    474.259289  recovery\n",
       "2020-02-20 17:49:34 mpta_wm_ref  138.753466  recovery\n",
       "                    sr_wm_ref     84.241144  recovery\n",
       "2020-02-20 17:49:37 mpta_wm_ref  164.824322  recovery\n",
       "                    sr_wm_ref    135.922204  recovery\n",
       "\n",
       "[9578 rows x 2 columns]"
      ]
     },
     "execution_count": 12,
     "metadata": {},
     "output_type": "execute_result"
    }
   ],
   "source": [
    "nrem_pow"
   ]
  },
  {
   "cell_type": "code",
   "execution_count": 13,
   "metadata": {
    "execution": {
     "iopub.execute_input": "2021-06-11T00:20:43.113831Z",
     "iopub.status.busy": "2021-06-11T00:20:43.113708Z",
     "iopub.status.idle": "2021-06-11T00:20:43.124218Z",
     "shell.execute_reply": "2021-06-11T00:20:43.123471Z",
     "shell.execute_reply.started": "2021-06-11T00:20:43.113815Z"
    }
   },
   "outputs": [],
   "source": [
    "def difference_of_condition_means(df):\n",
    "    means = df.groupby(['condition', 'region']).mean()\n",
    "    return means.xs('recovery') - means.xs('baseline')"
   ]
  },
  {
   "cell_type": "code",
   "execution_count": 14,
   "metadata": {
    "execution": {
     "iopub.execute_input": "2021-06-11T00:20:43.124927Z",
     "iopub.status.busy": "2021-06-11T00:20:43.124804Z",
     "iopub.status.idle": "2021-06-11T00:20:43.136787Z",
     "shell.execute_reply": "2021-06-11T00:20:43.136208Z",
     "shell.execute_reply.started": "2021-06-11T00:20:43.124911Z"
    }
   },
   "outputs": [],
   "source": [
    "def cx_minus_hc(df):\n",
    "    dom = difference_of_condition_means(df)\n",
    "    return dom.xs('mpta_wm_ref') - dom.xs('sr_wm_ref')"
   ]
  },
  {
   "cell_type": "code",
   "execution_count": 15,
   "metadata": {
    "execution": {
     "iopub.execute_input": "2021-06-11T00:20:43.137487Z",
     "iopub.status.busy": "2021-06-11T00:20:43.137359Z",
     "iopub.status.idle": "2021-06-11T00:20:43.151133Z",
     "shell.execute_reply": "2021-06-11T00:20:43.150535Z",
     "shell.execute_reply.started": "2021-06-11T00:20:43.137471Z"
    }
   },
   "outputs": [],
   "source": [
    "def shuffle_region_labels(df): \n",
    "    df = nrem_pow.reset_index()\n",
    "    region_labels = df.region.values.reshape(-1, 2)\n",
    "    rng = np.random.default_rng()\n",
    "    rng.permuted(region_labels, axis=1, out=region_labels)\n",
    "    df.set_index(['datetime', 'region'], inplace=True)\n",
    "    return df"
   ]
  },
  {
   "cell_type": "code",
   "execution_count": 16,
   "metadata": {
    "execution": {
     "iopub.execute_input": "2021-06-11T00:20:43.151835Z",
     "iopub.status.busy": "2021-06-11T00:20:43.151708Z",
     "iopub.status.idle": "2021-06-11T00:21:38.675644Z",
     "shell.execute_reply": "2021-06-11T00:21:38.674835Z",
     "shell.execute_reply.started": "2021-06-11T00:20:43.151819Z"
    }
   },
   "outputs": [],
   "source": [
    "observed = cx_minus_hc(nrem_pow).power\n",
    "\n",
    "n_permutations = 10000\n",
    "permutations = list()\n",
    "for i in range(n_permutations):\n",
    "    permuted = shuffle_region_labels(nrem_pow)\n",
    "    permutations.append(cx_minus_hc(permuted))\n",
    "    \n",
    "df = pd.concat(permutations).to_frame(name='cx_minus_hc').reset_index(drop=True)"
   ]
  },
  {
   "cell_type": "code",
   "execution_count": 17,
   "metadata": {
    "execution": {
     "iopub.execute_input": "2021-06-11T00:21:38.676918Z",
     "iopub.status.busy": "2021-06-11T00:21:38.676739Z",
     "iopub.status.idle": "2021-06-11T00:21:39.339733Z",
     "shell.execute_reply": "2021-06-11T00:21:39.339245Z",
     "shell.execute_reply.started": "2021-06-11T00:21:38.676896Z"
    }
   },
   "outputs": [
    {
     "data": {
      "image/png": "[encoded data removed]",
      "text/plain": [
       "<Figure size 459.75x360 with 1 Axes>"
      ]
     },
     "metadata": {
      "needs_background": "light"
     },
     "output_type": "display_data"
    }
   ],
   "source": [
    "g = sns.displot(data=df, kind='hist')\n",
    "g.set(xlabel='Difference of means (Cortex - Hippocampus)')\n",
    "g.tight_layout()"
   ]
  },
  {
   "cell_type": "code",
   "execution_count": 18,
   "metadata": {
    "execution": {
     "iopub.execute_input": "2021-06-11T00:21:39.340549Z",
     "iopub.status.busy": "2021-06-11T00:21:39.340405Z",
     "iopub.status.idle": "2021-06-11T00:21:39.353362Z",
     "shell.execute_reply": "2021-06-11T00:21:39.352778Z",
     "shell.execute_reply.started": "2021-06-11T00:21:39.340530Z"
    }
   },
   "outputs": [],
   "source": [
    "p = np.sum(df.cx_minus_hc.values >= observed)"
   ]
  },
  {
   "cell_type": "code",
   "execution_count": 19,
   "metadata": {
    "execution": {
     "iopub.execute_input": "2021-06-11T00:21:39.354230Z",
     "iopub.status.busy": "2021-06-11T00:21:39.354082Z",
     "iopub.status.idle": "2021-06-11T00:21:39.368527Z",
     "shell.execute_reply": "2021-06-11T00:21:39.367978Z",
     "shell.execute_reply.started": "2021-06-11T00:21:39.354211Z"
    }
   },
   "outputs": [
    {
     "name": "stdout",
     "output_type": "stream",
     "text": [
      "Subject: Valentino\n",
      "Observed difference, Cortex - Hippocampus:\n",
      "67.31196640566021\n",
      "\n",
      "Shuffled differences >= observed:\n",
      "Cortex: 1 / 10000\n"
     ]
    }
   ],
   "source": [
    "print(f\"Subject: {subject}\")\n",
    "print('Observed difference, Cortex - Hippocampus:')\n",
    "print(f'{observed}')\n",
    "print('')\n",
    "print('Shuffled differences >= observed:')\n",
    "print(f\"Cortex: {1 + p} / {n_permutations}\")"
   ]
  },
  {
   "cell_type": "code",
   "execution_count": null,
   "metadata": {},
   "outputs": [],
   "source": []
  }
 ],
 "metadata": {
  "kernelspec": {
   "display_name": "Python 3",
   "language": "python",
   "name": "python3"
  },
  "language_info": {
   "codemirror_mode": {
    "name": "ipython",
    "version": 3
   },
   "file_extension": ".py",
   "mimetype": "text/x-python",
   "name": "python",
   "nbconvert_exporter": "python",
   "pygments_lexer": "ipython3",
   "version": "3.7.9"
  }
 },
 "nbformat": 4,
 "nbformat_minor": 4
}
