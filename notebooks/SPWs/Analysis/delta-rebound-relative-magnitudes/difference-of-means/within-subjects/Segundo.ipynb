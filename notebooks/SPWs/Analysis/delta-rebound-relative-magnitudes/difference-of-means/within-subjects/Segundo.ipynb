{
 "cells": [
  {
   "cell_type": "code",
   "execution_count": 1,
   "metadata": {
    "execution": {
     "iopub.execute_input": "2021-06-10T23:27:11.179818Z",
     "iopub.status.busy": "2021-06-10T23:27:11.179692Z",
     "iopub.status.idle": "2021-06-10T23:27:11.186735Z",
     "shell.execute_reply": "2021-06-10T23:27:11.186167Z",
     "shell.execute_reply.started": "2021-06-10T23:27:11.179802Z"
    }
   },
   "outputs": [],
   "source": [
    "%load_ext autoreload\n",
    "%autoreload 2"
   ]
  },
  {
   "cell_type": "code",
   "execution_count": 2,
   "metadata": {
    "execution": {
     "iopub.execute_input": "2021-06-10T23:27:11.189361Z",
     "iopub.status.busy": "2021-06-10T23:27:11.189235Z",
     "iopub.status.idle": "2021-06-10T23:27:11.769921Z",
     "shell.execute_reply": "2021-06-10T23:27:11.769299Z",
     "shell.execute_reply.started": "2021-06-10T23:27:11.189345Z"
    }
   },
   "outputs": [],
   "source": [
    "# %matplotlib widget\n",
    "import matplotlib.pyplot as plt\n",
    "import seaborn as sns"
   ]
  },
  {
   "cell_type": "code",
   "execution_count": 3,
   "metadata": {
    "execution": {
     "iopub.execute_input": "2021-06-10T23:27:11.770715Z",
     "iopub.status.busy": "2021-06-10T23:27:11.770585Z",
     "iopub.status.idle": "2021-06-10T23:27:12.059129Z",
     "shell.execute_reply": "2021-06-10T23:27:12.058388Z",
     "shell.execute_reply.started": "2021-06-10T23:27:11.770698Z"
    }
   },
   "outputs": [],
   "source": [
    "import xarray as xr\n",
    "import numpy as np\n",
    "import pandas as pd"
   ]
  },
  {
   "cell_type": "code",
   "execution_count": 4,
   "metadata": {
    "execution": {
     "iopub.execute_input": "2021-06-10T23:27:12.060293Z",
     "iopub.status.busy": "2021-06-10T23:27:12.060155Z",
     "iopub.status.idle": "2021-06-10T23:27:12.074743Z",
     "shell.execute_reply": "2021-06-10T23:27:12.073914Z",
     "shell.execute_reply.started": "2021-06-10T23:27:12.060276Z"
    }
   },
   "outputs": [
    {
     "data": {
      "text/plain": [
       "<xarray.core.options.set_options at 0x7fb3c7c44ed0>"
      ]
     },
     "execution_count": 4,
     "metadata": {},
     "output_type": "execute_result"
    }
   ],
   "source": [
    "xr.set_options(keep_attrs=True)"
   ]
  },
  {
   "cell_type": "code",
   "execution_count": 5,
   "metadata": {
    "execution": {
     "iopub.execute_input": "2021-06-10T23:27:12.075468Z",
     "iopub.status.busy": "2021-06-10T23:27:12.075350Z",
     "iopub.status.idle": "2021-06-10T23:27:12.088849Z",
     "shell.execute_reply": "2021-06-10T23:27:12.087960Z",
     "shell.execute_reply.started": "2021-06-10T23:27:12.075453Z"
    }
   },
   "outputs": [],
   "source": [
    "import ecephys_analyses as ea \n",
    "from ecephys import utils\n",
    "from ecephys.signal.xarray_utils import filter_dataset_by_hypnogram"
   ]
  },
  {
   "cell_type": "code",
   "execution_count": 6,
   "metadata": {
    "execution": {
     "iopub.execute_input": "2021-06-10T23:27:12.089577Z",
     "iopub.status.busy": "2021-06-10T23:27:12.089453Z",
     "iopub.status.idle": "2021-06-10T23:27:12.100484Z",
     "shell.execute_reply": "2021-06-10T23:27:12.099538Z",
     "shell.execute_reply.started": "2021-06-10T23:27:12.089562Z"
    }
   },
   "outputs": [],
   "source": [
    "def ds2df(ds):\n",
    "    s = ds.to_dataframe().stack()\n",
    "    s.index.names = s.index.names[:-1] + ['region']\n",
    "    return s.to_frame(name='power')"
   ]
  },
  {
   "cell_type": "code",
   "execution_count": 7,
   "metadata": {
    "execution": {
     "iopub.execute_input": "2021-06-10T23:27:12.102151Z",
     "iopub.status.busy": "2021-06-10T23:27:12.102014Z",
     "iopub.status.idle": "2021-06-10T23:27:12.113757Z",
     "shell.execute_reply": "2021-06-10T23:27:12.112674Z",
     "shell.execute_reply.started": "2021-06-10T23:27:12.102134Z"
    }
   },
   "outputs": [],
   "source": [
    "subject = \"Segundo\"\n",
    "experiment = \"sleep-homeostasis\"\n",
    "norm_condition = \"light-period-circadian-match\"\n",
    "bsl_condition = \"recovery-sleep-circadian-match\"\n",
    "rec_condition = \"recovery-sleep\"\n",
    "states = [\"N1\", \"N2\"]\n",
    "duration = '02:00:00'\n",
    "light_period_start = '09:00:00'\n",
    "light_period_end = '21:00:00'\n",
    "f_range = (0.5, 4)"
   ]
  },
  {
   "cell_type": "code",
   "execution_count": 8,
   "metadata": {
    "execution": {
     "iopub.execute_input": "2021-06-10T23:27:12.114789Z",
     "iopub.status.busy": "2021-06-10T23:27:12.114657Z",
     "iopub.status.idle": "2021-06-10T23:27:15.490783Z",
     "shell.execute_reply": "2021-06-10T23:27:15.489609Z",
     "shell.execute_reply.started": "2021-06-10T23:27:12.114774Z"
    }
   },
   "outputs": [],
   "source": [
    "norm_hyp = ea.load_hypnogram(subject, experiment, norm_condition)\n",
    "norm_hyp = norm_hyp.keep_states(states).keep_between(light_period_start, light_period_end)\n",
    "\n",
    "norm_pow = ea.load_power(subject, experiment, norm_condition, \"spg.nc\").sel(frequency=slice(*f_range)).sum(dim=\"frequency\")\n",
    "norm_pow = filter_dataset_by_hypnogram(norm_pow, norm_hyp).swap_dims({'time': 'datetime'}).drop_vars(['time', 'timedelta'])"
   ]
  },
  {
   "cell_type": "code",
   "execution_count": 9,
   "metadata": {
    "execution": {
     "iopub.execute_input": "2021-06-10T23:27:15.492041Z",
     "iopub.status.busy": "2021-06-10T23:27:15.491892Z",
     "iopub.status.idle": "2021-06-10T23:27:18.678741Z",
     "shell.execute_reply": "2021-06-10T23:27:18.677773Z",
     "shell.execute_reply.started": "2021-06-10T23:27:15.492022Z"
    }
   },
   "outputs": [],
   "source": [
    "rec_hyp = ea.load_hypnogram(subject, experiment, rec_condition)\n",
    "rec_hyp = rec_hyp.keep_states(states).keep_first(duration)\n",
    "\n",
    "rec_pow = ea.load_power(subject, experiment, rec_condition, \"spg.nc\").sel(frequency=slice(*f_range)).sum(dim='frequency')\n",
    "rec_pow = filter_dataset_by_hypnogram(rec_pow, rec_hyp).swap_dims({'time': 'datetime'}).drop_vars(['time', 'timedelta'])\n",
    "rec_pow = rec_pow / norm_pow.mean(dim=\"datetime\") * 100"
   ]
  },
  {
   "cell_type": "code",
   "execution_count": 10,
   "metadata": {
    "execution": {
     "iopub.execute_input": "2021-06-10T23:27:18.679817Z",
     "iopub.status.busy": "2021-06-10T23:27:18.679658Z",
     "iopub.status.idle": "2021-06-10T23:27:22.918441Z",
     "shell.execute_reply": "2021-06-10T23:27:22.917621Z",
     "shell.execute_reply.started": "2021-06-10T23:27:18.679798Z"
    }
   },
   "outputs": [],
   "source": [
    "bsl_hyp = ea.load_hypnogram(subject, experiment, bsl_condition)\n",
    "bsl_hyp = bsl_hyp.keep_states(states).keep_between(rec_hyp.start_time.min().strftime(\"%H:%M:%S\"), light_period_end).keep_first(duration)\n",
    "\n",
    "bsl_pow = ea.load_power(subject, experiment, bsl_condition, \"spg.nc\").sel(frequency=slice(*f_range)).sum(dim='frequency')\n",
    "bsl_pow = filter_dataset_by_hypnogram(bsl_pow, bsl_hyp).swap_dims({'time': 'datetime'}).drop_vars(['time', 'timedelta'])\n",
    "bsl_pow = bsl_pow / norm_pow.mean(dim=\"datetime\") * 100"
   ]
  },
  {
   "cell_type": "code",
   "execution_count": 11,
   "metadata": {
    "execution": {
     "iopub.execute_input": "2021-06-10T23:27:22.919439Z",
     "iopub.status.busy": "2021-06-10T23:27:22.919295Z",
     "iopub.status.idle": "2021-06-10T23:27:22.939610Z",
     "shell.execute_reply": "2021-06-10T23:27:22.938405Z",
     "shell.execute_reply.started": "2021-06-10T23:27:22.919420Z"
    }
   },
   "outputs": [],
   "source": [
    "nrem_pow = pd.concat([ds2df(bsl_pow).assign(condition=\"baseline\"), ds2df(rec_pow).assign(condition=\"recovery\")])"
   ]
  },
  {
   "cell_type": "code",
   "execution_count": 12,
   "metadata": {
    "execution": {
     "iopub.execute_input": "2021-06-10T23:27:22.940559Z",
     "iopub.status.busy": "2021-06-10T23:27:22.940435Z",
     "iopub.status.idle": "2021-06-10T23:27:22.960593Z",
     "shell.execute_reply": "2021-06-10T23:27:22.959956Z",
     "shell.execute_reply.started": "2021-06-10T23:27:22.940543Z"
    }
   },
   "outputs": [
    {
     "data": {
      "text/html": [
       "<div>\n",
       "<style scoped>\n",
       "    .dataframe tbody tr th:only-of-type {\n",
       "        vertical-align: middle;\n",
       "    }\n",
       "\n",
       "    .dataframe tbody tr th {\n",
       "        vertical-align: top;\n",
       "    }\n",
       "\n",
       "    .dataframe thead th {\n",
       "        text-align: right;\n",
       "    }\n",
       "</style>\n",
       "<table border=\"1\" class=\"dataframe\">\n",
       "  <thead>\n",
       "    <tr style=\"text-align: right;\">\n",
       "      <th></th>\n",
       "      <th></th>\n",
       "      <th>power</th>\n",
       "      <th>condition</th>\n",
       "    </tr>\n",
       "    <tr>\n",
       "      <th>datetime</th>\n",
       "      <th>region</th>\n",
       "      <th></th>\n",
       "      <th></th>\n",
       "    </tr>\n",
       "  </thead>\n",
       "  <tbody>\n",
       "    <tr>\n",
       "      <th rowspan=\"2\" valign=\"top\">2020-01-22 15:17:53</th>\n",
       "      <th>mpta_wm_ref</th>\n",
       "      <td>11.042340</td>\n",
       "      <td>baseline</td>\n",
       "    </tr>\n",
       "    <tr>\n",
       "      <th>sr_wm_ref</th>\n",
       "      <td>35.280193</td>\n",
       "      <td>baseline</td>\n",
       "    </tr>\n",
       "    <tr>\n",
       "      <th rowspan=\"2\" valign=\"top\">2020-01-22 15:17:56</th>\n",
       "      <th>mpta_wm_ref</th>\n",
       "      <td>5.083761</td>\n",
       "      <td>baseline</td>\n",
       "    </tr>\n",
       "    <tr>\n",
       "      <th>sr_wm_ref</th>\n",
       "      <td>21.049922</td>\n",
       "      <td>baseline</td>\n",
       "    </tr>\n",
       "    <tr>\n",
       "      <th>2020-01-22 15:18:14</th>\n",
       "      <th>mpta_wm_ref</th>\n",
       "      <td>4.539901</td>\n",
       "      <td>baseline</td>\n",
       "    </tr>\n",
       "    <tr>\n",
       "      <th>...</th>\n",
       "      <th>...</th>\n",
       "      <td>...</td>\n",
       "      <td>...</td>\n",
       "    </tr>\n",
       "    <tr>\n",
       "      <th>2020-01-23 18:41:38</th>\n",
       "      <th>sr_wm_ref</th>\n",
       "      <td>85.321279</td>\n",
       "      <td>recovery</td>\n",
       "    </tr>\n",
       "    <tr>\n",
       "      <th rowspan=\"2\" valign=\"top\">2020-01-23 18:41:41</th>\n",
       "      <th>mpta_wm_ref</th>\n",
       "      <td>113.484671</td>\n",
       "      <td>recovery</td>\n",
       "    </tr>\n",
       "    <tr>\n",
       "      <th>sr_wm_ref</th>\n",
       "      <td>110.291088</td>\n",
       "      <td>recovery</td>\n",
       "    </tr>\n",
       "    <tr>\n",
       "      <th rowspan=\"2\" valign=\"top\">2020-01-23 18:41:44</th>\n",
       "      <th>mpta_wm_ref</th>\n",
       "      <td>85.995982</td>\n",
       "      <td>recovery</td>\n",
       "    </tr>\n",
       "    <tr>\n",
       "      <th>sr_wm_ref</th>\n",
       "      <td>176.382399</td>\n",
       "      <td>recovery</td>\n",
       "    </tr>\n",
       "  </tbody>\n",
       "</table>\n",
       "<p>9436 rows × 2 columns</p>\n",
       "</div>"
      ],
      "text/plain": [
       "                                      power condition\n",
       "datetime            region                           \n",
       "2020-01-22 15:17:53 mpta_wm_ref   11.042340  baseline\n",
       "                    sr_wm_ref     35.280193  baseline\n",
       "2020-01-22 15:17:56 mpta_wm_ref    5.083761  baseline\n",
       "                    sr_wm_ref     21.049922  baseline\n",
       "2020-01-22 15:18:14 mpta_wm_ref    4.539901  baseline\n",
       "...                                     ...       ...\n",
       "2020-01-23 18:41:38 sr_wm_ref     85.321279  recovery\n",
       "2020-01-23 18:41:41 mpta_wm_ref  113.484671  recovery\n",
       "                    sr_wm_ref    110.291088  recovery\n",
       "2020-01-23 18:41:44 mpta_wm_ref   85.995982  recovery\n",
       "                    sr_wm_ref    176.382399  recovery\n",
       "\n",
       "[9436 rows x 2 columns]"
      ]
     },
     "execution_count": 12,
     "metadata": {},
     "output_type": "execute_result"
    }
   ],
   "source": [
    "nrem_pow"
   ]
  },
  {
   "cell_type": "code",
   "execution_count": 13,
   "metadata": {
    "execution": {
     "iopub.execute_input": "2021-06-10T23:27:22.961384Z",
     "iopub.status.busy": "2021-06-10T23:27:22.961257Z",
     "iopub.status.idle": "2021-06-10T23:27:22.972194Z",
     "shell.execute_reply": "2021-06-10T23:27:22.971494Z",
     "shell.execute_reply.started": "2021-06-10T23:27:22.961368Z"
    }
   },
   "outputs": [],
   "source": [
    "def difference_of_condition_means(df):\n",
    "    means = df.groupby(['condition', 'region']).mean()\n",
    "    return means.xs('recovery') - means.xs('baseline')"
   ]
  },
  {
   "cell_type": "code",
   "execution_count": 14,
   "metadata": {
    "execution": {
     "iopub.execute_input": "2021-06-10T23:27:22.972900Z",
     "iopub.status.busy": "2021-06-10T23:27:22.972777Z",
     "iopub.status.idle": "2021-06-10T23:27:22.983275Z",
     "shell.execute_reply": "2021-06-10T23:27:22.982429Z",
     "shell.execute_reply.started": "2021-06-10T23:27:22.972885Z"
    }
   },
   "outputs": [],
   "source": [
    "def cx_minus_hc(df):\n",
    "    dom = difference_of_condition_means(df)\n",
    "    return dom.xs('mpta_wm_ref') - dom.xs('sr_wm_ref')"
   ]
  },
  {
   "cell_type": "code",
   "execution_count": 20,
   "metadata": {
    "execution": {
     "iopub.execute_input": "2021-06-11T00:19:31.620596Z",
     "iopub.status.busy": "2021-06-11T00:19:31.619994Z",
     "iopub.status.idle": "2021-06-11T00:19:31.653364Z",
     "shell.execute_reply": "2021-06-11T00:19:31.652466Z",
     "shell.execute_reply.started": "2021-06-11T00:19:31.620515Z"
    }
   },
   "outputs": [],
   "source": [
    "def shuffle_region_labels(df): \n",
    "    permuted = df.reset_index()\n",
    "    region_labels = permuted.region.values.reshape(-1, 2)\n",
    "    rng = np.random.default_rng()\n",
    "    rng.permuted(region_labels, axis=1, out=region_labels)\n",
    "    permuted.set_index(['datetime', 'region'], inplace=True)\n",
    "    return permuted"
   ]
  },
  {
   "cell_type": "code",
   "execution_count": 21,
   "metadata": {
    "execution": {
     "iopub.execute_input": "2021-06-11T00:19:38.881620Z",
     "iopub.status.busy": "2021-06-11T00:19:38.881466Z",
     "iopub.status.idle": "2021-06-11T00:20:33.708645Z",
     "shell.execute_reply": "2021-06-11T00:20:33.708195Z",
     "shell.execute_reply.started": "2021-06-11T00:19:38.881600Z"
    }
   },
   "outputs": [],
   "source": [
    "observed = cx_minus_hc(nrem_pow).power\n",
    "\n",
    "n_permutations = 10000\n",
    "permutations = list()\n",
    "for i in range(n_permutations):\n",
    "    permuted = shuffle_region_labels(nrem_pow)\n",
    "    permutations.append(cx_minus_hc(permuted))\n",
    "    \n",
    "df = pd.concat(permutations).to_frame(name='cx_minus_hc').reset_index(drop=True)"
   ]
  },
  {
   "cell_type": "code",
   "execution_count": 22,
   "metadata": {
    "execution": {
     "iopub.execute_input": "2021-06-11T00:20:33.709853Z",
     "iopub.status.busy": "2021-06-11T00:20:33.709707Z",
     "iopub.status.idle": "2021-06-11T00:20:34.054244Z",
     "shell.execute_reply": "2021-06-11T00:20:34.053531Z",
     "shell.execute_reply.started": "2021-06-11T00:20:33.709835Z"
    }
   },
   "outputs": [
    {
     "data": {
      "image/png": "[encoded data removed]",
      "text/plain": [
       "<Figure size 459.75x360 with 1 Axes>"
      ]
     },
     "metadata": {
      "needs_background": "light"
     },
     "output_type": "display_data"
    }
   ],
   "source": [
    "g = sns.displot(data=df, kind='hist')\n",
    "g.set(xlabel='Difference of means (Cortex - Hippocampus)')\n",
    "g.tight_layout()"
   ]
  },
  {
   "cell_type": "code",
   "execution_count": 23,
   "metadata": {
    "execution": {
     "iopub.execute_input": "2021-06-11T00:20:34.055218Z",
     "iopub.status.busy": "2021-06-11T00:20:34.055088Z",
     "iopub.status.idle": "2021-06-11T00:20:34.067804Z",
     "shell.execute_reply": "2021-06-11T00:20:34.067168Z",
     "shell.execute_reply.started": "2021-06-11T00:20:34.055201Z"
    }
   },
   "outputs": [],
   "source": [
    "p = np.sum(df.cx_minus_hc.values >= observed)"
   ]
  },
  {
   "cell_type": "code",
   "execution_count": 24,
   "metadata": {
    "execution": {
     "iopub.execute_input": "2021-06-11T00:20:34.068535Z",
     "iopub.status.busy": "2021-06-11T00:20:34.068408Z",
     "iopub.status.idle": "2021-06-11T00:20:34.080559Z",
     "shell.execute_reply": "2021-06-11T00:20:34.079964Z",
     "shell.execute_reply.started": "2021-06-11T00:20:34.068518Z"
    }
   },
   "outputs": [
    {
     "name": "stdout",
     "output_type": "stream",
     "text": [
      "Subject: Segundo\n",
      "Observed difference, Cortex - Hippocampus:\n",
      "132.65082463250351\n",
      "\n",
      "Shuffled differences >= observed:\n",
      "Cortex: 1 / 10000\n"
     ]
    }
   ],
   "source": [
    "print(f\"Subject: {subject}\")\n",
    "print('Observed difference, Cortex - Hippocampus:')\n",
    "print(f'{observed}')\n",
    "print('')\n",
    "print('Shuffled differences >= observed:')\n",
    "print(f\"Cortex: {1 + p} / {n_permutations}\")"
   ]
  },
  {
   "cell_type": "code",
   "execution_count": null,
   "metadata": {},
   "outputs": [],
   "source": []
  }
 ],
 "metadata": {
  "kernelspec": {
   "display_name": "Python 3",
   "language": "python",
   "name": "python3"
  },
  "language_info": {
   "codemirror_mode": {
    "name": "ipython",
    "version": 3
   },
   "file_extension": ".py",
   "mimetype": "text/x-python",
   "name": "python",
   "nbconvert_exporter": "python",
   "pygments_lexer": "ipython3",
   "version": "3.7.9"
  }
 },
 "nbformat": 4,
 "nbformat_minor": 4
}
