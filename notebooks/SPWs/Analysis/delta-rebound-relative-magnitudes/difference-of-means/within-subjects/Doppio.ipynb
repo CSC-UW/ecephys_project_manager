{
 "cells": [
  {
   "cell_type": "code",
   "execution_count": 1,
   "metadata": {
    "execution": {
     "iopub.execute_input": "2021-06-11T00:20:44.025984Z",
     "iopub.status.busy": "2021-06-11T00:20:44.025642Z",
     "iopub.status.idle": "2021-06-11T00:20:44.039848Z",
     "shell.execute_reply": "2021-06-11T00:20:44.039263Z",
     "shell.execute_reply.started": "2021-06-11T00:20:44.025892Z"
    }
   },
   "outputs": [],
   "source": [
    "%load_ext autoreload\n",
    "%autoreload 2"
   ]
  },
  {
   "cell_type": "code",
   "execution_count": 2,
   "metadata": {
    "execution": {
     "iopub.execute_input": "2021-06-11T00:20:44.040706Z",
     "iopub.status.busy": "2021-06-11T00:20:44.040576Z",
     "iopub.status.idle": "2021-06-11T00:20:44.673847Z",
     "shell.execute_reply": "2021-06-11T00:20:44.673106Z",
     "shell.execute_reply.started": "2021-06-11T00:20:44.040690Z"
    }
   },
   "outputs": [],
   "source": [
    "# %matplotlib widget\n",
    "import matplotlib.pyplot as plt\n",
    "import seaborn as sns"
   ]
  },
  {
   "cell_type": "code",
   "execution_count": 3,
   "metadata": {
    "execution": {
     "iopub.execute_input": "2021-06-11T00:20:44.675245Z",
     "iopub.status.busy": "2021-06-11T00:20:44.675070Z",
     "iopub.status.idle": "2021-06-11T00:20:44.963722Z",
     "shell.execute_reply": "2021-06-11T00:20:44.963044Z",
     "shell.execute_reply.started": "2021-06-11T00:20:44.675227Z"
    }
   },
   "outputs": [],
   "source": [
    "import xarray as xr\n",
    "import numpy as np\n",
    "import pandas as pd"
   ]
  },
  {
   "cell_type": "code",
   "execution_count": 4,
   "metadata": {
    "execution": {
     "iopub.execute_input": "2021-06-11T00:20:44.964970Z",
     "iopub.status.busy": "2021-06-11T00:20:44.964810Z",
     "iopub.status.idle": "2021-06-11T00:20:44.980812Z",
     "shell.execute_reply": "2021-06-11T00:20:44.980381Z",
     "shell.execute_reply.started": "2021-06-11T00:20:44.964951Z"
    }
   },
   "outputs": [
    {
     "data": {
      "text/plain": [
       "<xarray.core.options.set_options at 0x7febbf81bcd0>"
      ]
     },
     "execution_count": 4,
     "metadata": {},
     "output_type": "execute_result"
    }
   ],
   "source": [
    "xr.set_options(keep_attrs=True)"
   ]
  },
  {
   "cell_type": "code",
   "execution_count": 5,
   "metadata": {
    "execution": {
     "iopub.execute_input": "2021-06-11T00:20:44.981570Z",
     "iopub.status.busy": "2021-06-11T00:20:44.981442Z",
     "iopub.status.idle": "2021-06-11T00:20:44.995653Z",
     "shell.execute_reply": "2021-06-11T00:20:44.995184Z",
     "shell.execute_reply.started": "2021-06-11T00:20:44.981553Z"
    }
   },
   "outputs": [],
   "source": [
    "import ecephys_analyses as ea \n",
    "from ecephys import utils\n",
    "from ecephys.signal.xarray_utils import filter_dataset_by_hypnogram"
   ]
  },
  {
   "cell_type": "code",
   "execution_count": 6,
   "metadata": {
    "execution": {
     "iopub.execute_input": "2021-06-11T00:20:44.996331Z",
     "iopub.status.busy": "2021-06-11T00:20:44.996212Z",
     "iopub.status.idle": "2021-06-11T00:20:45.006323Z",
     "shell.execute_reply": "2021-06-11T00:20:45.005793Z",
     "shell.execute_reply.started": "2021-06-11T00:20:44.996316Z"
    }
   },
   "outputs": [],
   "source": [
    "def ds2df(ds):\n",
    "    s = ds.to_dataframe().stack()\n",
    "    s.index.names = s.index.names[:-1] + ['region']\n",
    "    return s.to_frame(name='power')"
   ]
  },
  {
   "cell_type": "code",
   "execution_count": 7,
   "metadata": {
    "execution": {
     "iopub.execute_input": "2021-06-11T00:20:45.006998Z",
     "iopub.status.busy": "2021-06-11T00:20:45.006879Z",
     "iopub.status.idle": "2021-06-11T00:20:45.017726Z",
     "shell.execute_reply": "2021-06-11T00:20:45.016854Z",
     "shell.execute_reply.started": "2021-06-11T00:20:45.006983Z"
    }
   },
   "outputs": [],
   "source": [
    "subject = \"Doppio\"\n",
    "experiment = \"sleep-homeostasis\"\n",
    "norm_condition = \"light-period-circadian-match\"\n",
    "bsl_condition = \"recovery-sleep-circadian-match\"\n",
    "rec_condition = \"recovery-sleep\"\n",
    "states = [\"N1\", \"N2\"]\n",
    "duration = '02:00:00'\n",
    "light_period_start = '09:00:00'\n",
    "light_period_end = '21:00:00'\n",
    "f_range = (0.5, 4)"
   ]
  },
  {
   "cell_type": "code",
   "execution_count": 8,
   "metadata": {
    "execution": {
     "iopub.execute_input": "2021-06-11T00:20:45.018466Z",
     "iopub.status.busy": "2021-06-11T00:20:45.018345Z",
     "iopub.status.idle": "2021-06-11T00:20:48.423403Z",
     "shell.execute_reply": "2021-06-11T00:20:48.422708Z",
     "shell.execute_reply.started": "2021-06-11T00:20:45.018451Z"
    }
   },
   "outputs": [],
   "source": [
    "norm_hyp = ea.load_hypnogram(subject, experiment, norm_condition)\n",
    "norm_hyp = norm_hyp.keep_states(states).keep_between(light_period_start, light_period_end)\n",
    "\n",
    "norm_pow = ea.load_power(subject, experiment, norm_condition, \"spg.nc\").sel(frequency=slice(*f_range)).sum(dim=\"frequency\")\n",
    "norm_pow = filter_dataset_by_hypnogram(norm_pow, norm_hyp).swap_dims({'time': 'datetime'}).drop_vars(['time', 'timedelta'])"
   ]
  },
  {
   "cell_type": "code",
   "execution_count": 9,
   "metadata": {
    "execution": {
     "iopub.execute_input": "2021-06-11T00:20:48.425967Z",
     "iopub.status.busy": "2021-06-11T00:20:48.425799Z",
     "iopub.status.idle": "2021-06-11T00:20:50.030758Z",
     "shell.execute_reply": "2021-06-11T00:20:50.030079Z",
     "shell.execute_reply.started": "2021-06-11T00:20:48.425948Z"
    }
   },
   "outputs": [],
   "source": [
    "rec_hyp = ea.load_hypnogram(subject, experiment, rec_condition)\n",
    "rec_hyp = rec_hyp.keep_states(states).keep_first(duration)\n",
    "\n",
    "rec_pow = ea.load_power(subject, experiment, rec_condition, \"spg.nc\").sel(frequency=slice(*f_range)).sum(dim='frequency')\n",
    "rec_pow = filter_dataset_by_hypnogram(rec_pow, rec_hyp).swap_dims({'time': 'datetime'}).drop_vars(['time', 'timedelta'])\n",
    "rec_pow = rec_pow / norm_pow.mean(dim=\"datetime\") * 100"
   ]
  },
  {
   "cell_type": "code",
   "execution_count": 10,
   "metadata": {
    "execution": {
     "iopub.execute_input": "2021-06-11T00:20:50.032242Z",
     "iopub.status.busy": "2021-06-11T00:20:50.032028Z",
     "iopub.status.idle": "2021-06-11T00:20:51.714390Z",
     "shell.execute_reply": "2021-06-11T00:20:51.713666Z",
     "shell.execute_reply.started": "2021-06-11T00:20:50.032214Z"
    }
   },
   "outputs": [],
   "source": [
    "bsl_hyp = ea.load_hypnogram(subject, experiment, bsl_condition)\n",
    "bsl_hyp = bsl_hyp.keep_states(states).keep_between(rec_hyp.start_time.min().strftime(\"%H:%M:%S\"), light_period_end).keep_first(duration)\n",
    "\n",
    "bsl_pow = ea.load_power(subject, experiment, bsl_condition, \"spg.nc\").sel(frequency=slice(*f_range)).sum(dim='frequency')\n",
    "bsl_pow = filter_dataset_by_hypnogram(bsl_pow, bsl_hyp).swap_dims({'time': 'datetime'}).drop_vars(['time', 'timedelta'])\n",
    "bsl_pow = bsl_pow / norm_pow.mean(dim=\"datetime\") * 100"
   ]
  },
  {
   "cell_type": "code",
   "execution_count": 11,
   "metadata": {
    "execution": {
     "iopub.execute_input": "2021-06-11T00:20:51.715455Z",
     "iopub.status.busy": "2021-06-11T00:20:51.715242Z",
     "iopub.status.idle": "2021-06-11T00:20:51.734241Z",
     "shell.execute_reply": "2021-06-11T00:20:51.733644Z",
     "shell.execute_reply.started": "2021-06-11T00:20:51.715428Z"
    }
   },
   "outputs": [],
   "source": [
    "nrem_pow = pd.concat([ds2df(bsl_pow).assign(condition=\"baseline\"), ds2df(rec_pow).assign(condition=\"recovery\")])"
   ]
  },
  {
   "cell_type": "code",
   "execution_count": 12,
   "metadata": {
    "execution": {
     "iopub.execute_input": "2021-06-11T00:20:51.735051Z",
     "iopub.status.busy": "2021-06-11T00:20:51.734866Z",
     "iopub.status.idle": "2021-06-11T00:20:51.755727Z",
     "shell.execute_reply": "2021-06-11T00:20:51.755228Z",
     "shell.execute_reply.started": "2021-06-11T00:20:51.735026Z"
    }
   },
   "outputs": [
    {
     "data": {
      "text/html": [
       "<div>\n",
       "<style scoped>\n",
       "    .dataframe tbody tr th:only-of-type {\n",
       "        vertical-align: middle;\n",
       "    }\n",
       "\n",
       "    .dataframe tbody tr th {\n",
       "        vertical-align: top;\n",
       "    }\n",
       "\n",
       "    .dataframe thead th {\n",
       "        text-align: right;\n",
       "    }\n",
       "</style>\n",
       "<table border=\"1\" class=\"dataframe\">\n",
       "  <thead>\n",
       "    <tr style=\"text-align: right;\">\n",
       "      <th></th>\n",
       "      <th></th>\n",
       "      <th>power</th>\n",
       "      <th>condition</th>\n",
       "    </tr>\n",
       "    <tr>\n",
       "      <th>datetime</th>\n",
       "      <th>region</th>\n",
       "      <th></th>\n",
       "      <th></th>\n",
       "    </tr>\n",
       "  </thead>\n",
       "  <tbody>\n",
       "    <tr>\n",
       "      <th rowspan=\"2\" valign=\"top\">2020-03-17 15:11:43.999780779</th>\n",
       "      <th>mpta_wm_ref</th>\n",
       "      <td>21.970141</td>\n",
       "      <td>baseline</td>\n",
       "    </tr>\n",
       "    <tr>\n",
       "      <th>sr_wm_ref</th>\n",
       "      <td>54.223170</td>\n",
       "      <td>baseline</td>\n",
       "    </tr>\n",
       "    <tr>\n",
       "      <th rowspan=\"2\" valign=\"top\">2020-03-17 15:11:46.999777763</th>\n",
       "      <th>mpta_wm_ref</th>\n",
       "      <td>6.578744</td>\n",
       "      <td>baseline</td>\n",
       "    </tr>\n",
       "    <tr>\n",
       "      <th>sr_wm_ref</th>\n",
       "      <td>81.856922</td>\n",
       "      <td>baseline</td>\n",
       "    </tr>\n",
       "    <tr>\n",
       "      <th>2020-03-17 15:11:49.999774746</th>\n",
       "      <th>mpta_wm_ref</th>\n",
       "      <td>7.733741</td>\n",
       "      <td>baseline</td>\n",
       "    </tr>\n",
       "    <tr>\n",
       "      <th>...</th>\n",
       "      <th>...</th>\n",
       "      <td>...</td>\n",
       "      <td>...</td>\n",
       "    </tr>\n",
       "    <tr>\n",
       "      <th>2020-03-18 17:57:45.996966108</th>\n",
       "      <th>sr_wm_ref</th>\n",
       "      <td>129.282232</td>\n",
       "      <td>recovery</td>\n",
       "    </tr>\n",
       "    <tr>\n",
       "      <th rowspan=\"2\" valign=\"top\">2020-03-18 17:57:48.996963091</th>\n",
       "      <th>mpta_wm_ref</th>\n",
       "      <td>287.640541</td>\n",
       "      <td>recovery</td>\n",
       "    </tr>\n",
       "    <tr>\n",
       "      <th>sr_wm_ref</th>\n",
       "      <td>98.832135</td>\n",
       "      <td>recovery</td>\n",
       "    </tr>\n",
       "    <tr>\n",
       "      <th rowspan=\"2\" valign=\"top\">2020-03-18 17:57:51.996960074</th>\n",
       "      <th>mpta_wm_ref</th>\n",
       "      <td>169.174726</td>\n",
       "      <td>recovery</td>\n",
       "    </tr>\n",
       "    <tr>\n",
       "      <th>sr_wm_ref</th>\n",
       "      <td>326.288130</td>\n",
       "      <td>recovery</td>\n",
       "    </tr>\n",
       "  </tbody>\n",
       "</table>\n",
       "<p>9536 rows × 2 columns</p>\n",
       "</div>"
      ],
      "text/plain": [
       "                                                power condition\n",
       "datetime                      region                           \n",
       "2020-03-17 15:11:43.999780779 mpta_wm_ref   21.970141  baseline\n",
       "                              sr_wm_ref     54.223170  baseline\n",
       "2020-03-17 15:11:46.999777763 mpta_wm_ref    6.578744  baseline\n",
       "                              sr_wm_ref     81.856922  baseline\n",
       "2020-03-17 15:11:49.999774746 mpta_wm_ref    7.733741  baseline\n",
       "...                                               ...       ...\n",
       "2020-03-18 17:57:45.996966108 sr_wm_ref    129.282232  recovery\n",
       "2020-03-18 17:57:48.996963091 mpta_wm_ref  287.640541  recovery\n",
       "                              sr_wm_ref     98.832135  recovery\n",
       "2020-03-18 17:57:51.996960074 mpta_wm_ref  169.174726  recovery\n",
       "                              sr_wm_ref    326.288130  recovery\n",
       "\n",
       "[9536 rows x 2 columns]"
      ]
     },
     "execution_count": 12,
     "metadata": {},
     "output_type": "execute_result"
    }
   ],
   "source": [
    "nrem_pow"
   ]
  },
  {
   "cell_type": "code",
   "execution_count": 13,
   "metadata": {
    "execution": {
     "iopub.execute_input": "2021-06-11T00:20:51.756606Z",
     "iopub.status.busy": "2021-06-11T00:20:51.756412Z",
     "iopub.status.idle": "2021-06-11T00:20:51.767415Z",
     "shell.execute_reply": "2021-06-11T00:20:51.766996Z",
     "shell.execute_reply.started": "2021-06-11T00:20:51.756581Z"
    }
   },
   "outputs": [],
   "source": [
    "def difference_of_condition_means(df):\n",
    "    means = df.groupby(['condition', 'region']).mean()\n",
    "    return means.xs('recovery') - means.xs('baseline')"
   ]
  },
  {
   "cell_type": "code",
   "execution_count": 14,
   "metadata": {
    "execution": {
     "iopub.execute_input": "2021-06-11T00:20:51.768236Z",
     "iopub.status.busy": "2021-06-11T00:20:51.768047Z",
     "iopub.status.idle": "2021-06-11T00:20:51.779449Z",
     "shell.execute_reply": "2021-06-11T00:20:51.778978Z",
     "shell.execute_reply.started": "2021-06-11T00:20:51.768211Z"
    }
   },
   "outputs": [],
   "source": [
    "def cx_minus_hc(df):\n",
    "    dom = difference_of_condition_means(df)\n",
    "    return dom.xs('mpta_wm_ref') - dom.xs('sr_wm_ref')"
   ]
  },
  {
   "cell_type": "code",
   "execution_count": 15,
   "metadata": {
    "execution": {
     "iopub.execute_input": "2021-06-11T00:20:51.780307Z",
     "iopub.status.busy": "2021-06-11T00:20:51.780113Z",
     "iopub.status.idle": "2021-06-11T00:20:51.793115Z",
     "shell.execute_reply": "2021-06-11T00:20:51.792511Z",
     "shell.execute_reply.started": "2021-06-11T00:20:51.780282Z"
    }
   },
   "outputs": [],
   "source": [
    "def shuffle_region_labels(df): \n",
    "    df = nrem_pow.reset_index()\n",
    "    region_labels = df.region.values.reshape(-1, 2)\n",
    "    rng = np.random.default_rng()\n",
    "    rng.permuted(region_labels, axis=1, out=region_labels)\n",
    "    df.set_index(['datetime', 'region'], inplace=True)\n",
    "    return df"
   ]
  },
  {
   "cell_type": "code",
   "execution_count": 16,
   "metadata": {
    "execution": {
     "iopub.execute_input": "2021-06-11T00:20:51.793988Z",
     "iopub.status.busy": "2021-06-11T00:20:51.793796Z",
     "iopub.status.idle": "2021-06-11T00:21:52.725146Z",
     "shell.execute_reply": "2021-06-11T00:21:52.723858Z",
     "shell.execute_reply.started": "2021-06-11T00:20:51.793963Z"
    }
   },
   "outputs": [],
   "source": [
    "observed = cx_minus_hc(nrem_pow).power\n",
    "\n",
    "n_permutations = 10000\n",
    "permutations = list()\n",
    "for i in range(n_permutations):\n",
    "    permuted = shuffle_region_labels(nrem_pow)\n",
    "    permutations.append(cx_minus_hc(permuted))\n",
    "    \n",
    "df = pd.concat(permutations).to_frame(name='cx_minus_hc').reset_index(drop=True)"
   ]
  },
  {
   "cell_type": "code",
   "execution_count": 17,
   "metadata": {
    "execution": {
     "iopub.execute_input": "2021-06-11T00:21:52.727026Z",
     "iopub.status.busy": "2021-06-11T00:21:52.726809Z",
     "iopub.status.idle": "2021-06-11T00:21:53.513317Z",
     "shell.execute_reply": "2021-06-11T00:21:53.512129Z",
     "shell.execute_reply.started": "2021-06-11T00:21:52.727000Z"
    }
   },
   "outputs": [
    {
     "data": {
      "image/png": "[encoded data removed]",
      "text/plain": [
       "<Figure size 459.75x360 with 1 Axes>"
      ]
     },
     "metadata": {
      "needs_background": "light"
     },
     "output_type": "display_data"
    }
   ],
   "source": [
    "g = sns.displot(data=df, kind='hist')\n",
    "g.set(xlabel='Difference of means (Cortex - Hippocampus)')\n",
    "g.tight_layout()"
   ]
  },
  {
   "cell_type": "code",
   "execution_count": 18,
   "metadata": {
    "execution": {
     "iopub.execute_input": "2021-06-11T00:21:53.515062Z",
     "iopub.status.busy": "2021-06-11T00:21:53.514752Z",
     "iopub.status.idle": "2021-06-11T00:21:53.541861Z",
     "shell.execute_reply": "2021-06-11T00:21:53.540963Z",
     "shell.execute_reply.started": "2021-06-11T00:21:53.515020Z"
    }
   },
   "outputs": [],
   "source": [
    "p = np.sum(df.cx_minus_hc.values >= observed)"
   ]
  },
  {
   "cell_type": "code",
   "execution_count": 19,
   "metadata": {
    "execution": {
     "iopub.execute_input": "2021-06-11T00:21:53.543478Z",
     "iopub.status.busy": "2021-06-11T00:21:53.543196Z",
     "iopub.status.idle": "2021-06-11T00:21:53.568578Z",
     "shell.execute_reply": "2021-06-11T00:21:53.567478Z",
     "shell.execute_reply.started": "2021-06-11T00:21:53.543440Z"
    }
   },
   "outputs": [
    {
     "name": "stdout",
     "output_type": "stream",
     "text": [
      "Subject: Doppio\n",
      "Observed difference, Cortex - Hippocampus:\n",
      "114.2235128339945\n",
      "\n",
      "Shuffled differences >= observed:\n",
      "Cortex: 1 / 10000\n"
     ]
    }
   ],
   "source": [
    "print(f\"Subject: {subject}\")\n",
    "print('Observed difference, Cortex - Hippocampus:')\n",
    "print(f'{observed}')\n",
    "print('')\n",
    "print('Shuffled differences >= observed:')\n",
    "print(f\"Cortex: {1 + p} / {n_permutations}\")"
   ]
  },
  {
   "cell_type": "code",
   "execution_count": null,
   "metadata": {},
   "outputs": [],
   "source": []
  }
 ],
 "metadata": {
  "kernelspec": {
   "display_name": "Python 3",
   "language": "python",
   "name": "python3"
  },
  "language_info": {
   "codemirror_mode": {
    "name": "ipython",
    "version": 3
   },
   "file_extension": ".py",
   "mimetype": "text/x-python",
   "name": "python",
   "nbconvert_exporter": "python",
   "pygments_lexer": "ipython3",
   "version": "3.7.9"
  }
 },
 "nbformat": 4,
 "nbformat_minor": 4
}
