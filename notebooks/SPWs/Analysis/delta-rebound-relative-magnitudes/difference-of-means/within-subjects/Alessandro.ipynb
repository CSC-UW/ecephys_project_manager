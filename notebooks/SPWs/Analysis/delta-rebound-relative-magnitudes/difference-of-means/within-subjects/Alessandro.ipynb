{
 "cells": [
  {
   "cell_type": "code",
   "execution_count": 1,
   "metadata": {
    "execution": {
     "iopub.execute_input": "2021-06-11T00:20:53.283550Z",
     "iopub.status.busy": "2021-06-11T00:20:53.283090Z",
     "iopub.status.idle": "2021-06-11T00:20:53.300640Z",
     "shell.execute_reply": "2021-06-11T00:20:53.300036Z",
     "shell.execute_reply.started": "2021-06-11T00:20:53.283420Z"
    }
   },
   "outputs": [],
   "source": [
    "%load_ext autoreload\n",
    "%autoreload 2"
   ]
  },
  {
   "cell_type": "code",
   "execution_count": 2,
   "metadata": {
    "execution": {
     "iopub.execute_input": "2021-06-11T00:20:53.301511Z",
     "iopub.status.busy": "2021-06-11T00:20:53.301383Z",
     "iopub.status.idle": "2021-06-11T00:20:53.918576Z",
     "shell.execute_reply": "2021-06-11T00:20:53.918152Z",
     "shell.execute_reply.started": "2021-06-11T00:20:53.301495Z"
    }
   },
   "outputs": [],
   "source": [
    "# %matplotlib widget\n",
    "import matplotlib.pyplot as plt\n",
    "import seaborn as sns"
   ]
  },
  {
   "cell_type": "code",
   "execution_count": 3,
   "metadata": {
    "execution": {
     "iopub.execute_input": "2021-06-11T00:20:53.919619Z",
     "iopub.status.busy": "2021-06-11T00:20:53.919473Z",
     "iopub.status.idle": "2021-06-11T00:20:54.212006Z",
     "shell.execute_reply": "2021-06-11T00:20:54.211383Z",
     "shell.execute_reply.started": "2021-06-11T00:20:53.919602Z"
    }
   },
   "outputs": [],
   "source": [
    "import xarray as xr\n",
    "import numpy as np\n",
    "import pandas as pd"
   ]
  },
  {
   "cell_type": "code",
   "execution_count": 4,
   "metadata": {
    "execution": {
     "iopub.execute_input": "2021-06-11T00:20:54.212977Z",
     "iopub.status.busy": "2021-06-11T00:20:54.212829Z",
     "iopub.status.idle": "2021-06-11T00:20:54.226581Z",
     "shell.execute_reply": "2021-06-11T00:20:54.226144Z",
     "shell.execute_reply.started": "2021-06-11T00:20:54.212959Z"
    }
   },
   "outputs": [
    {
     "data": {
      "text/plain": [
       "<xarray.core.options.set_options at 0x7f71899b8ad0>"
      ]
     },
     "execution_count": 4,
     "metadata": {},
     "output_type": "execute_result"
    }
   ],
   "source": [
    "xr.set_options(keep_attrs=True)"
   ]
  },
  {
   "cell_type": "code",
   "execution_count": 5,
   "metadata": {
    "execution": {
     "iopub.execute_input": "2021-06-11T00:20:54.227313Z",
     "iopub.status.busy": "2021-06-11T00:20:54.227181Z",
     "iopub.status.idle": "2021-06-11T00:20:54.240075Z",
     "shell.execute_reply": "2021-06-11T00:20:54.239638Z",
     "shell.execute_reply.started": "2021-06-11T00:20:54.227295Z"
    }
   },
   "outputs": [],
   "source": [
    "import ecephys_analyses as ea \n",
    "from ecephys import utils\n",
    "from ecephys.signal.xarray_utils import filter_dataset_by_hypnogram"
   ]
  },
  {
   "cell_type": "code",
   "execution_count": 6,
   "metadata": {
    "execution": {
     "iopub.execute_input": "2021-06-11T00:20:54.240782Z",
     "iopub.status.busy": "2021-06-11T00:20:54.240652Z",
     "iopub.status.idle": "2021-06-11T00:20:54.254602Z",
     "shell.execute_reply": "2021-06-11T00:20:54.254126Z",
     "shell.execute_reply.started": "2021-06-11T00:20:54.240765Z"
    }
   },
   "outputs": [],
   "source": [
    "def ds2df(ds):\n",
    "    s = ds.to_dataframe().stack()\n",
    "    s.index.names = s.index.names[:-1] + ['region']\n",
    "    return s.to_frame(name='power')"
   ]
  },
  {
   "cell_type": "code",
   "execution_count": 7,
   "metadata": {
    "execution": {
     "iopub.execute_input": "2021-06-11T00:20:54.255242Z",
     "iopub.status.busy": "2021-06-11T00:20:54.255119Z",
     "iopub.status.idle": "2021-06-11T00:20:54.266176Z",
     "shell.execute_reply": "2021-06-11T00:20:54.265693Z",
     "shell.execute_reply.started": "2021-06-11T00:20:54.255226Z"
    }
   },
   "outputs": [],
   "source": [
    "subject = \"Alessandro\"\n",
    "experiment = \"sleep-homeostasis\"\n",
    "norm_condition = \"light-period-circadian-match\"\n",
    "bsl_condition = \"recovery-sleep-circadian-match\"\n",
    "rec_condition = \"recovery-sleep\"\n",
    "states = [\"N1\", \"N2\"]\n",
    "duration = '02:00:00'\n",
    "light_period_start = '09:00:00'\n",
    "light_period_end = '21:00:00'\n",
    "f_range = (0.5, 4)"
   ]
  },
  {
   "cell_type": "code",
   "execution_count": 8,
   "metadata": {
    "execution": {
     "iopub.execute_input": "2021-06-11T00:20:54.266809Z",
     "iopub.status.busy": "2021-06-11T00:20:54.266685Z",
     "iopub.status.idle": "2021-06-11T00:20:57.887489Z",
     "shell.execute_reply": "2021-06-11T00:20:57.886766Z",
     "shell.execute_reply.started": "2021-06-11T00:20:54.266794Z"
    }
   },
   "outputs": [],
   "source": [
    "norm_hyp = ea.load_hypnogram(subject, experiment, norm_condition)\n",
    "norm_hyp = norm_hyp.keep_states(states).keep_between(light_period_start, light_period_end)\n",
    "\n",
    "norm_pow = ea.load_power(subject, experiment, norm_condition, \"spg.nc\").sel(frequency=slice(*f_range)).sum(dim=\"frequency\")\n",
    "norm_pow = filter_dataset_by_hypnogram(norm_pow, norm_hyp).swap_dims({'time': 'datetime'}).drop_vars(['time', 'timedelta'])"
   ]
  },
  {
   "cell_type": "code",
   "execution_count": 9,
   "metadata": {
    "execution": {
     "iopub.execute_input": "2021-06-11T00:20:57.889197Z",
     "iopub.status.busy": "2021-06-11T00:20:57.889033Z",
     "iopub.status.idle": "2021-06-11T00:20:59.490996Z",
     "shell.execute_reply": "2021-06-11T00:20:59.490064Z",
     "shell.execute_reply.started": "2021-06-11T00:20:57.889168Z"
    }
   },
   "outputs": [],
   "source": [
    "rec_hyp = ea.load_hypnogram(subject, experiment, rec_condition)\n",
    "rec_hyp = rec_hyp.keep_states(states).keep_first(duration)\n",
    "\n",
    "rec_pow = ea.load_power(subject, experiment, rec_condition, \"spg.nc\").sel(frequency=slice(*f_range)).sum(dim='frequency')\n",
    "rec_pow = filter_dataset_by_hypnogram(rec_pow, rec_hyp).swap_dims({'time': 'datetime'}).drop_vars(['time', 'timedelta'])\n",
    "rec_pow = rec_pow / norm_pow.mean(dim=\"datetime\") * 100"
   ]
  },
  {
   "cell_type": "code",
   "execution_count": 10,
   "metadata": {
    "execution": {
     "iopub.execute_input": "2021-06-11T00:20:59.492345Z",
     "iopub.status.busy": "2021-06-11T00:20:59.492200Z",
     "iopub.status.idle": "2021-06-11T00:21:01.249261Z",
     "shell.execute_reply": "2021-06-11T00:21:01.248761Z",
     "shell.execute_reply.started": "2021-06-11T00:20:59.492327Z"
    }
   },
   "outputs": [],
   "source": [
    "bsl_hyp = ea.load_hypnogram(subject, experiment, bsl_condition)\n",
    "bsl_hyp = bsl_hyp.keep_states(states).keep_between(rec_hyp.start_time.min().strftime(\"%H:%M:%S\"), light_period_end).keep_first(duration)\n",
    "\n",
    "bsl_pow = ea.load_power(subject, experiment, bsl_condition, \"spg.nc\").sel(frequency=slice(*f_range)).sum(dim='frequency')\n",
    "bsl_pow = filter_dataset_by_hypnogram(bsl_pow, bsl_hyp).swap_dims({'time': 'datetime'}).drop_vars(['time', 'timedelta'])\n",
    "bsl_pow = bsl_pow / norm_pow.mean(dim=\"datetime\") * 100"
   ]
  },
  {
   "cell_type": "code",
   "execution_count": 11,
   "metadata": {
    "execution": {
     "iopub.execute_input": "2021-06-11T00:21:01.250125Z",
     "iopub.status.busy": "2021-06-11T00:21:01.249909Z",
     "iopub.status.idle": "2021-06-11T00:21:01.267454Z",
     "shell.execute_reply": "2021-06-11T00:21:01.267050Z",
     "shell.execute_reply.started": "2021-06-11T00:21:01.250106Z"
    }
   },
   "outputs": [],
   "source": [
    "nrem_pow = pd.concat([ds2df(bsl_pow).assign(condition=\"baseline\"), ds2df(rec_pow).assign(condition=\"recovery\")])"
   ]
  },
  {
   "cell_type": "code",
   "execution_count": 12,
   "metadata": {
    "execution": {
     "iopub.execute_input": "2021-06-11T00:21:01.268108Z",
     "iopub.status.busy": "2021-06-11T00:21:01.267985Z",
     "iopub.status.idle": "2021-06-11T00:21:01.286848Z",
     "shell.execute_reply": "2021-06-11T00:21:01.286424Z",
     "shell.execute_reply.started": "2021-06-11T00:21:01.268092Z"
    }
   },
   "outputs": [
    {
     "data": {
      "text/html": [
       "<div>\n",
       "<style scoped>\n",
       "    .dataframe tbody tr th:only-of-type {\n",
       "        vertical-align: middle;\n",
       "    }\n",
       "\n",
       "    .dataframe tbody tr th {\n",
       "        vertical-align: top;\n",
       "    }\n",
       "\n",
       "    .dataframe thead th {\n",
       "        text-align: right;\n",
       "    }\n",
       "</style>\n",
       "<table border=\"1\" class=\"dataframe\">\n",
       "  <thead>\n",
       "    <tr style=\"text-align: right;\">\n",
       "      <th></th>\n",
       "      <th></th>\n",
       "      <th>power</th>\n",
       "      <th>condition</th>\n",
       "    </tr>\n",
       "    <tr>\n",
       "      <th>datetime</th>\n",
       "      <th>region</th>\n",
       "      <th></th>\n",
       "      <th></th>\n",
       "    </tr>\n",
       "  </thead>\n",
       "  <tbody>\n",
       "    <tr>\n",
       "      <th rowspan=\"2\" valign=\"top\">2020-08-24 15:07:40.999106578</th>\n",
       "      <th>mpta_wm_ref</th>\n",
       "      <td>20.516475</td>\n",
       "      <td>baseline</td>\n",
       "    </tr>\n",
       "    <tr>\n",
       "      <th>sr_wm_ref</th>\n",
       "      <td>300.596963</td>\n",
       "      <td>baseline</td>\n",
       "    </tr>\n",
       "    <tr>\n",
       "      <th rowspan=\"2\" valign=\"top\">2020-08-24 15:07:43.999089615</th>\n",
       "      <th>mpta_wm_ref</th>\n",
       "      <td>38.642198</td>\n",
       "      <td>baseline</td>\n",
       "    </tr>\n",
       "    <tr>\n",
       "      <th>sr_wm_ref</th>\n",
       "      <td>181.652578</td>\n",
       "      <td>baseline</td>\n",
       "    </tr>\n",
       "    <tr>\n",
       "      <th>2020-08-24 15:07:46.999072651</th>\n",
       "      <th>mpta_wm_ref</th>\n",
       "      <td>13.370830</td>\n",
       "      <td>baseline</td>\n",
       "    </tr>\n",
       "    <tr>\n",
       "      <th>...</th>\n",
       "      <th>...</th>\n",
       "      <td>...</td>\n",
       "      <td>...</td>\n",
       "    </tr>\n",
       "    <tr>\n",
       "      <th>2020-08-25 17:25:20.993796939</th>\n",
       "      <th>sr_wm_ref</th>\n",
       "      <td>68.782805</td>\n",
       "      <td>recovery</td>\n",
       "    </tr>\n",
       "    <tr>\n",
       "      <th rowspan=\"2\" valign=\"top\">2020-08-25 17:25:23.993779975</th>\n",
       "      <th>mpta_wm_ref</th>\n",
       "      <td>91.188490</td>\n",
       "      <td>recovery</td>\n",
       "    </tr>\n",
       "    <tr>\n",
       "      <th>sr_wm_ref</th>\n",
       "      <td>305.821715</td>\n",
       "      <td>recovery</td>\n",
       "    </tr>\n",
       "    <tr>\n",
       "      <th rowspan=\"2\" valign=\"top\">2020-08-25 17:25:26.993763011</th>\n",
       "      <th>mpta_wm_ref</th>\n",
       "      <td>185.543051</td>\n",
       "      <td>recovery</td>\n",
       "    </tr>\n",
       "    <tr>\n",
       "      <th>sr_wm_ref</th>\n",
       "      <td>56.345501</td>\n",
       "      <td>recovery</td>\n",
       "    </tr>\n",
       "  </tbody>\n",
       "</table>\n",
       "<p>9358 rows × 2 columns</p>\n",
       "</div>"
      ],
      "text/plain": [
       "                                                power condition\n",
       "datetime                      region                           \n",
       "2020-08-24 15:07:40.999106578 mpta_wm_ref   20.516475  baseline\n",
       "                              sr_wm_ref    300.596963  baseline\n",
       "2020-08-24 15:07:43.999089615 mpta_wm_ref   38.642198  baseline\n",
       "                              sr_wm_ref    181.652578  baseline\n",
       "2020-08-24 15:07:46.999072651 mpta_wm_ref   13.370830  baseline\n",
       "...                                               ...       ...\n",
       "2020-08-25 17:25:20.993796939 sr_wm_ref     68.782805  recovery\n",
       "2020-08-25 17:25:23.993779975 mpta_wm_ref   91.188490  recovery\n",
       "                              sr_wm_ref    305.821715  recovery\n",
       "2020-08-25 17:25:26.993763011 mpta_wm_ref  185.543051  recovery\n",
       "                              sr_wm_ref     56.345501  recovery\n",
       "\n",
       "[9358 rows x 2 columns]"
      ]
     },
     "execution_count": 12,
     "metadata": {},
     "output_type": "execute_result"
    }
   ],
   "source": [
    "nrem_pow"
   ]
  },
  {
   "cell_type": "code",
   "execution_count": 13,
   "metadata": {
    "execution": {
     "iopub.execute_input": "2021-06-11T00:21:01.287467Z",
     "iopub.status.busy": "2021-06-11T00:21:01.287346Z",
     "iopub.status.idle": "2021-06-11T00:21:01.299844Z",
     "shell.execute_reply": "2021-06-11T00:21:01.299500Z",
     "shell.execute_reply.started": "2021-06-11T00:21:01.287451Z"
    }
   },
   "outputs": [],
   "source": [
    "def difference_of_condition_means(df):\n",
    "    means = df.groupby(['condition', 'region']).mean()\n",
    "    return means.xs('recovery') - means.xs('baseline')"
   ]
  },
  {
   "cell_type": "code",
   "execution_count": 14,
   "metadata": {
    "execution": {
     "iopub.execute_input": "2021-06-11T00:21:01.300465Z",
     "iopub.status.busy": "2021-06-11T00:21:01.300341Z",
     "iopub.status.idle": "2021-06-11T00:21:01.309909Z",
     "shell.execute_reply": "2021-06-11T00:21:01.309566Z",
     "shell.execute_reply.started": "2021-06-11T00:21:01.300450Z"
    }
   },
   "outputs": [],
   "source": [
    "def cx_minus_hc(df):\n",
    "    dom = difference_of_condition_means(df)\n",
    "    return dom.xs('mpta_wm_ref') - dom.xs('sr_wm_ref')"
   ]
  },
  {
   "cell_type": "code",
   "execution_count": 15,
   "metadata": {
    "execution": {
     "iopub.execute_input": "2021-06-11T00:21:01.310511Z",
     "iopub.status.busy": "2021-06-11T00:21:01.310390Z",
     "iopub.status.idle": "2021-06-11T00:21:01.321503Z",
     "shell.execute_reply": "2021-06-11T00:21:01.321085Z",
     "shell.execute_reply.started": "2021-06-11T00:21:01.310496Z"
    }
   },
   "outputs": [],
   "source": [
    "def shuffle_region_labels(df): \n",
    "    df = nrem_pow.reset_index()\n",
    "    region_labels = df.region.values.reshape(-1, 2)\n",
    "    rng = np.random.default_rng()\n",
    "    rng.permuted(region_labels, axis=1, out=region_labels)\n",
    "    df.set_index(['datetime', 'region'], inplace=True)\n",
    "    return df"
   ]
  },
  {
   "cell_type": "code",
   "execution_count": 16,
   "metadata": {
    "execution": {
     "iopub.execute_input": "2021-06-11T00:21:01.322138Z",
     "iopub.status.busy": "2021-06-11T00:21:01.322017Z",
     "iopub.status.idle": "2021-06-11T00:22:00.471913Z",
     "shell.execute_reply": "2021-06-11T00:22:00.471172Z",
     "shell.execute_reply.started": "2021-06-11T00:21:01.322123Z"
    }
   },
   "outputs": [],
   "source": [
    "observed = cx_minus_hc(nrem_pow).power\n",
    "\n",
    "n_permutations = 10000\n",
    "permutations = list()\n",
    "for i in range(n_permutations):\n",
    "    permuted = shuffle_region_labels(nrem_pow)\n",
    "    permutations.append(cx_minus_hc(permuted))\n",
    "    \n",
    "df = pd.concat(permutations).to_frame(name='cx_minus_hc').reset_index(drop=True)"
   ]
  },
  {
   "cell_type": "code",
   "execution_count": 17,
   "metadata": {
    "execution": {
     "iopub.execute_input": "2021-06-11T00:22:00.473060Z",
     "iopub.status.busy": "2021-06-11T00:22:00.472887Z",
     "iopub.status.idle": "2021-06-11T00:22:01.112622Z",
     "shell.execute_reply": "2021-06-11T00:22:01.111993Z",
     "shell.execute_reply.started": "2021-06-11T00:22:00.473039Z"
    }
   },
   "outputs": [
    {
     "data": {
      "image/png": "[encoded data removed]",
      "text/plain": [
       "<Figure size 459.75x360 with 1 Axes>"
      ]
     },
     "metadata": {
      "needs_background": "light"
     },
     "output_type": "display_data"
    }
   ],
   "source": [
    "g = sns.displot(data=df, kind='hist')\n",
    "g.set(xlabel='Difference of means (Cortex - Hippocampus)')\n",
    "g.tight_layout()"
   ]
  },
  {
   "cell_type": "code",
   "execution_count": 18,
   "metadata": {
    "execution": {
     "iopub.execute_input": "2021-06-11T00:22:01.113580Z",
     "iopub.status.busy": "2021-06-11T00:22:01.113416Z",
     "iopub.status.idle": "2021-06-11T00:22:01.127589Z",
     "shell.execute_reply": "2021-06-11T00:22:01.126984Z",
     "shell.execute_reply.started": "2021-06-11T00:22:01.113561Z"
    }
   },
   "outputs": [],
   "source": [
    "p = np.sum(df.cx_minus_hc.values >= observed)"
   ]
  },
  {
   "cell_type": "code",
   "execution_count": 19,
   "metadata": {
    "execution": {
     "iopub.execute_input": "2021-06-11T00:22:01.128447Z",
     "iopub.status.busy": "2021-06-11T00:22:01.128296Z",
     "iopub.status.idle": "2021-06-11T00:22:01.143834Z",
     "shell.execute_reply": "2021-06-11T00:22:01.143251Z",
     "shell.execute_reply.started": "2021-06-11T00:22:01.128427Z"
    }
   },
   "outputs": [
    {
     "name": "stdout",
     "output_type": "stream",
     "text": [
      "Subject: Alessandro\n",
      "Observed difference, Cortex - Hippocampus:\n",
      "68.87064404955376\n",
      "\n",
      "Shuffled differences >= observed:\n",
      "Cortex: 1 / 10000\n"
     ]
    }
   ],
   "source": [
    "print(f\"Subject: {subject}\")\n",
    "print('Observed difference, Cortex - Hippocampus:')\n",
    "print(f'{observed}')\n",
    "print('')\n",
    "print('Shuffled differences >= observed:')\n",
    "print(f\"Cortex: {1 + p} / {n_permutations}\")"
   ]
  },
  {
   "cell_type": "code",
   "execution_count": null,
   "metadata": {},
   "outputs": [],
   "source": []
  }
 ],
 "metadata": {
  "kernelspec": {
   "display_name": "Python 3",
   "language": "python",
   "name": "python3"
  },
  "language_info": {
   "codemirror_mode": {
    "name": "ipython",
    "version": 3
   },
   "file_extension": ".py",
   "mimetype": "text/x-python",
   "name": "python",
   "nbconvert_exporter": "python",
   "pygments_lexer": "ipython3",
   "version": "3.7.9"
  }
 },
 "nbformat": 4,
 "nbformat_minor": 4
}
