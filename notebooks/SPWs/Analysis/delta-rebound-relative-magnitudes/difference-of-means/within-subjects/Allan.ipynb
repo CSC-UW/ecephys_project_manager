{
 "cells": [
  {
   "cell_type": "code",
   "execution_count": 1,
   "metadata": {
    "execution": {
     "iopub.status.idle": "2021-06-11T00:21:00.786354Z",
     "shell.execute_reply": "2021-06-11T00:21:00.785811Z",
     "shell.execute_reply.started": "2021-06-11T00:21:00.777177Z"
    }
   },
   "outputs": [],
   "source": [
    "%load_ext autoreload\n",
    "%autoreload 2"
   ]
  },
  {
   "cell_type": "code",
   "execution_count": 2,
   "metadata": {
    "execution": {
     "iopub.execute_input": "2021-06-11T00:21:00.787174Z",
     "iopub.status.busy": "2021-06-11T00:21:00.787049Z",
     "iopub.status.idle": "2021-06-11T00:21:01.425403Z",
     "shell.execute_reply": "2021-06-11T00:21:01.424359Z",
     "shell.execute_reply.started": "2021-06-11T00:21:00.787158Z"
    }
   },
   "outputs": [],
   "source": [
    "# %matplotlib widget\n",
    "import matplotlib.pyplot as plt\n",
    "import seaborn as sns"
   ]
  },
  {
   "cell_type": "code",
   "execution_count": 3,
   "metadata": {
    "execution": {
     "iopub.execute_input": "2021-06-11T00:21:01.426759Z",
     "iopub.status.busy": "2021-06-11T00:21:01.426600Z",
     "iopub.status.idle": "2021-06-11T00:21:01.703529Z",
     "shell.execute_reply": "2021-06-11T00:21:01.702725Z",
     "shell.execute_reply.started": "2021-06-11T00:21:01.426740Z"
    }
   },
   "outputs": [],
   "source": [
    "import xarray as xr\n",
    "import numpy as np\n",
    "import pandas as pd"
   ]
  },
  {
   "cell_type": "code",
   "execution_count": 4,
   "metadata": {
    "execution": {
     "iopub.execute_input": "2021-06-11T00:21:01.706331Z",
     "iopub.status.busy": "2021-06-11T00:21:01.706206Z",
     "iopub.status.idle": "2021-06-11T00:21:01.720528Z",
     "shell.execute_reply": "2021-06-11T00:21:01.719893Z",
     "shell.execute_reply.started": "2021-06-11T00:21:01.706313Z"
    }
   },
   "outputs": [
    {
     "data": {
      "text/plain": [
       "<xarray.core.options.set_options at 0x7fd20429d6d0>"
      ]
     },
     "execution_count": 4,
     "metadata": {},
     "output_type": "execute_result"
    }
   ],
   "source": [
    "xr.set_options(keep_attrs=True)"
   ]
  },
  {
   "cell_type": "code",
   "execution_count": 5,
   "metadata": {
    "execution": {
     "iopub.execute_input": "2021-06-11T00:21:01.721393Z",
     "iopub.status.busy": "2021-06-11T00:21:01.721272Z",
     "iopub.status.idle": "2021-06-11T00:21:01.734107Z",
     "shell.execute_reply": "2021-06-11T00:21:01.733450Z",
     "shell.execute_reply.started": "2021-06-11T00:21:01.721377Z"
    }
   },
   "outputs": [],
   "source": [
    "import ecephys_analyses as ea \n",
    "from ecephys import utils\n",
    "from ecephys.signal.xarray_utils import filter_dataset_by_hypnogram"
   ]
  },
  {
   "cell_type": "code",
   "execution_count": 6,
   "metadata": {
    "execution": {
     "iopub.execute_input": "2021-06-11T00:21:01.734810Z",
     "iopub.status.busy": "2021-06-11T00:21:01.734690Z",
     "iopub.status.idle": "2021-06-11T00:21:01.745077Z",
     "shell.execute_reply": "2021-06-11T00:21:01.744271Z",
     "shell.execute_reply.started": "2021-06-11T00:21:01.734796Z"
    }
   },
   "outputs": [],
   "source": [
    "def ds2df(ds):\n",
    "    s = ds.to_dataframe().stack()\n",
    "    s.index.names = s.index.names[:-1] + ['region']\n",
    "    return s.to_frame(name='power')"
   ]
  },
  {
   "cell_type": "code",
   "execution_count": 7,
   "metadata": {
    "execution": {
     "iopub.execute_input": "2021-06-11T00:21:01.745857Z",
     "iopub.status.busy": "2021-06-11T00:21:01.745739Z",
     "iopub.status.idle": "2021-06-11T00:21:01.756720Z",
     "shell.execute_reply": "2021-06-11T00:21:01.755894Z",
     "shell.execute_reply.started": "2021-06-11T00:21:01.745842Z"
    }
   },
   "outputs": [],
   "source": [
    "subject = \"Allan\"\n",
    "experiment = \"sleep-homeostasis\"\n",
    "norm_condition = \"light-period-circadian-match\"\n",
    "bsl_condition = \"recovery-sleep-circadian-match\"\n",
    "rec_condition = \"recovery-sleep\"\n",
    "states = [\"N1\", \"N2\"]\n",
    "duration = '02:00:00'\n",
    "light_period_start = '09:00:00'\n",
    "light_period_end = '21:00:00'\n",
    "f_range = (0.5, 4)"
   ]
  },
  {
   "cell_type": "code",
   "execution_count": 8,
   "metadata": {
    "execution": {
     "iopub.execute_input": "2021-06-11T00:21:01.758429Z",
     "iopub.status.busy": "2021-06-11T00:21:01.758292Z",
     "iopub.status.idle": "2021-06-11T00:21:05.171228Z",
     "shell.execute_reply": "2021-06-11T00:21:05.170038Z",
     "shell.execute_reply.started": "2021-06-11T00:21:01.758415Z"
    }
   },
   "outputs": [],
   "source": [
    "norm_hyp = ea.load_hypnogram(subject, experiment, norm_condition)\n",
    "norm_hyp = norm_hyp.keep_states(states).keep_between(light_period_start, light_period_end)\n",
    "\n",
    "norm_pow = ea.load_power(subject, experiment, norm_condition, \"spg.nc\").sel(frequency=slice(*f_range)).sum(dim=\"frequency\")\n",
    "norm_pow = filter_dataset_by_hypnogram(norm_pow, norm_hyp).swap_dims({'time': 'datetime'}).drop_vars(['time', 'timedelta'])"
   ]
  },
  {
   "cell_type": "code",
   "execution_count": 9,
   "metadata": {
    "execution": {
     "iopub.execute_input": "2021-06-11T00:21:05.173388Z",
     "iopub.status.busy": "2021-06-11T00:21:05.173202Z",
     "iopub.status.idle": "2021-06-11T00:21:06.648363Z",
     "shell.execute_reply": "2021-06-11T00:21:06.647632Z",
     "shell.execute_reply.started": "2021-06-11T00:21:05.173368Z"
    }
   },
   "outputs": [],
   "source": [
    "rec_hyp = ea.load_hypnogram(subject, experiment, rec_condition)\n",
    "rec_hyp = rec_hyp.keep_states(states).keep_first(duration)\n",
    "\n",
    "rec_pow = ea.load_power(subject, experiment, rec_condition, \"spg.nc\").sel(frequency=slice(*f_range)).sum(dim='frequency')\n",
    "rec_pow = filter_dataset_by_hypnogram(rec_pow, rec_hyp).swap_dims({'time': 'datetime'}).drop_vars(['time', 'timedelta'])\n",
    "rec_pow = rec_pow / norm_pow.mean(dim=\"datetime\") * 100"
   ]
  },
  {
   "cell_type": "code",
   "execution_count": 10,
   "metadata": {
    "execution": {
     "iopub.execute_input": "2021-06-11T00:21:06.649360Z",
     "iopub.status.busy": "2021-06-11T00:21:06.649210Z",
     "iopub.status.idle": "2021-06-11T00:21:08.485621Z",
     "shell.execute_reply": "2021-06-11T00:21:08.484987Z",
     "shell.execute_reply.started": "2021-06-11T00:21:06.649341Z"
    }
   },
   "outputs": [],
   "source": [
    "bsl_hyp = ea.load_hypnogram(subject, experiment, bsl_condition)\n",
    "bsl_hyp = bsl_hyp.keep_states(states).keep_between(rec_hyp.start_time.min().strftime(\"%H:%M:%S\"), light_period_end).keep_first(duration)\n",
    "\n",
    "bsl_pow = ea.load_power(subject, experiment, bsl_condition, \"spg.nc\").sel(frequency=slice(*f_range)).sum(dim='frequency')\n",
    "bsl_pow = filter_dataset_by_hypnogram(bsl_pow, bsl_hyp).swap_dims({'time': 'datetime'}).drop_vars(['time', 'timedelta'])\n",
    "bsl_pow = bsl_pow / norm_pow.mean(dim=\"datetime\") * 100"
   ]
  },
  {
   "cell_type": "code",
   "execution_count": 11,
   "metadata": {
    "execution": {
     "iopub.execute_input": "2021-06-11T00:21:08.486554Z",
     "iopub.status.busy": "2021-06-11T00:21:08.486406Z",
     "iopub.status.idle": "2021-06-11T00:21:08.508053Z",
     "shell.execute_reply": "2021-06-11T00:21:08.507454Z",
     "shell.execute_reply.started": "2021-06-11T00:21:08.486536Z"
    }
   },
   "outputs": [],
   "source": [
    "nrem_pow = pd.concat([ds2df(bsl_pow).assign(condition=\"baseline\"), ds2df(rec_pow).assign(condition=\"recovery\")])"
   ]
  },
  {
   "cell_type": "code",
   "execution_count": 12,
   "metadata": {
    "execution": {
     "iopub.execute_input": "2021-06-11T00:21:08.508880Z",
     "iopub.status.busy": "2021-06-11T00:21:08.508748Z",
     "iopub.status.idle": "2021-06-11T00:21:08.534052Z",
     "shell.execute_reply": "2021-06-11T00:21:08.533562Z",
     "shell.execute_reply.started": "2021-06-11T00:21:08.508863Z"
    }
   },
   "outputs": [
    {
     "data": {
      "text/html": [
       "<div>\n",
       "<style scoped>\n",
       "    .dataframe tbody tr th:only-of-type {\n",
       "        vertical-align: middle;\n",
       "    }\n",
       "\n",
       "    .dataframe tbody tr th {\n",
       "        vertical-align: top;\n",
       "    }\n",
       "\n",
       "    .dataframe thead th {\n",
       "        text-align: right;\n",
       "    }\n",
       "</style>\n",
       "<table border=\"1\" class=\"dataframe\">\n",
       "  <thead>\n",
       "    <tr style=\"text-align: right;\">\n",
       "      <th></th>\n",
       "      <th></th>\n",
       "      <th>power</th>\n",
       "      <th>condition</th>\n",
       "    </tr>\n",
       "    <tr>\n",
       "      <th>datetime</th>\n",
       "      <th>region</th>\n",
       "      <th></th>\n",
       "      <th></th>\n",
       "    </tr>\n",
       "  </thead>\n",
       "  <tbody>\n",
       "    <tr>\n",
       "      <th rowspan=\"2\" valign=\"top\">2021-03-01 15:01:46.000138841</th>\n",
       "      <th>mpta_wm_ref</th>\n",
       "      <td>48.137691</td>\n",
       "      <td>baseline</td>\n",
       "    </tr>\n",
       "    <tr>\n",
       "      <th>sr_wm_ref</th>\n",
       "      <td>93.659193</td>\n",
       "      <td>baseline</td>\n",
       "    </tr>\n",
       "    <tr>\n",
       "      <th rowspan=\"2\" valign=\"top\">2021-03-01 15:01:49.000139731</th>\n",
       "      <th>mpta_wm_ref</th>\n",
       "      <td>97.065576</td>\n",
       "      <td>baseline</td>\n",
       "    </tr>\n",
       "    <tr>\n",
       "      <th>sr_wm_ref</th>\n",
       "      <td>83.565417</td>\n",
       "      <td>baseline</td>\n",
       "    </tr>\n",
       "    <tr>\n",
       "      <th>2021-03-01 15:01:52.000140621</th>\n",
       "      <th>mpta_wm_ref</th>\n",
       "      <td>104.384563</td>\n",
       "      <td>baseline</td>\n",
       "    </tr>\n",
       "    <tr>\n",
       "      <th>...</th>\n",
       "      <th>...</th>\n",
       "      <td>...</td>\n",
       "      <td>...</td>\n",
       "    </tr>\n",
       "    <tr>\n",
       "      <th>2021-03-02 18:09:16.999961706</th>\n",
       "      <th>sr_wm_ref</th>\n",
       "      <td>193.096412</td>\n",
       "      <td>recovery</td>\n",
       "    </tr>\n",
       "    <tr>\n",
       "      <th rowspan=\"2\" valign=\"top\">2021-03-02 18:09:37.999967937</th>\n",
       "      <th>mpta_wm_ref</th>\n",
       "      <td>85.517224</td>\n",
       "      <td>recovery</td>\n",
       "    </tr>\n",
       "    <tr>\n",
       "      <th>sr_wm_ref</th>\n",
       "      <td>138.732316</td>\n",
       "      <td>recovery</td>\n",
       "    </tr>\n",
       "    <tr>\n",
       "      <th rowspan=\"2\" valign=\"top\">2021-03-02 18:09:40.999968827</th>\n",
       "      <th>mpta_wm_ref</th>\n",
       "      <td>119.167848</td>\n",
       "      <td>recovery</td>\n",
       "    </tr>\n",
       "    <tr>\n",
       "      <th>sr_wm_ref</th>\n",
       "      <td>168.662658</td>\n",
       "      <td>recovery</td>\n",
       "    </tr>\n",
       "  </tbody>\n",
       "</table>\n",
       "<p>9550 rows × 2 columns</p>\n",
       "</div>"
      ],
      "text/plain": [
       "                                                power condition\n",
       "datetime                      region                           \n",
       "2021-03-01 15:01:46.000138841 mpta_wm_ref   48.137691  baseline\n",
       "                              sr_wm_ref     93.659193  baseline\n",
       "2021-03-01 15:01:49.000139731 mpta_wm_ref   97.065576  baseline\n",
       "                              sr_wm_ref     83.565417  baseline\n",
       "2021-03-01 15:01:52.000140621 mpta_wm_ref  104.384563  baseline\n",
       "...                                               ...       ...\n",
       "2021-03-02 18:09:16.999961706 sr_wm_ref    193.096412  recovery\n",
       "2021-03-02 18:09:37.999967937 mpta_wm_ref   85.517224  recovery\n",
       "                              sr_wm_ref    138.732316  recovery\n",
       "2021-03-02 18:09:40.999968827 mpta_wm_ref  119.167848  recovery\n",
       "                              sr_wm_ref    168.662658  recovery\n",
       "\n",
       "[9550 rows x 2 columns]"
      ]
     },
     "execution_count": 12,
     "metadata": {},
     "output_type": "execute_result"
    }
   ],
   "source": [
    "nrem_pow"
   ]
  },
  {
   "cell_type": "code",
   "execution_count": 13,
   "metadata": {
    "execution": {
     "iopub.execute_input": "2021-06-11T00:21:08.534820Z",
     "iopub.status.busy": "2021-06-11T00:21:08.534692Z",
     "iopub.status.idle": "2021-06-11T00:21:08.546922Z",
     "shell.execute_reply": "2021-06-11T00:21:08.546261Z",
     "shell.execute_reply.started": "2021-06-11T00:21:08.534804Z"
    }
   },
   "outputs": [],
   "source": [
    "def difference_of_condition_means(df):\n",
    "    means = df.groupby(['condition', 'region']).mean()\n",
    "    return means.xs('recovery') - means.xs('baseline')"
   ]
  },
  {
   "cell_type": "code",
   "execution_count": 14,
   "metadata": {
    "execution": {
     "iopub.execute_input": "2021-06-11T00:21:08.547655Z",
     "iopub.status.busy": "2021-06-11T00:21:08.547530Z",
     "iopub.status.idle": "2021-06-11T00:21:08.559290Z",
     "shell.execute_reply": "2021-06-11T00:21:08.558668Z",
     "shell.execute_reply.started": "2021-06-11T00:21:08.547640Z"
    }
   },
   "outputs": [],
   "source": [
    "def cx_minus_hc(df):\n",
    "    dom = difference_of_condition_means(df)\n",
    "    return dom.xs('mpta_wm_ref') - dom.xs('sr_wm_ref')"
   ]
  },
  {
   "cell_type": "code",
   "execution_count": 15,
   "metadata": {
    "execution": {
     "iopub.execute_input": "2021-06-11T00:21:08.560037Z",
     "iopub.status.busy": "2021-06-11T00:21:08.559910Z",
     "iopub.status.idle": "2021-06-11T00:21:08.573482Z",
     "shell.execute_reply": "2021-06-11T00:21:08.573134Z",
     "shell.execute_reply.started": "2021-06-11T00:21:08.560021Z"
    }
   },
   "outputs": [],
   "source": [
    "def shuffle_region_labels(df): \n",
    "    df = nrem_pow.reset_index()\n",
    "    region_labels = df.region.values.reshape(-1, 2)\n",
    "    rng = np.random.default_rng()\n",
    "    rng.permuted(region_labels, axis=1, out=region_labels)\n",
    "    df.set_index(['datetime', 'region'], inplace=True)\n",
    "    return df"
   ]
  },
  {
   "cell_type": "code",
   "execution_count": 16,
   "metadata": {
    "execution": {
     "iopub.execute_input": "2021-06-11T00:21:08.574318Z",
     "iopub.status.busy": "2021-06-11T00:21:08.574190Z",
     "iopub.status.idle": "2021-06-11T00:22:09.346003Z",
     "shell.execute_reply": "2021-06-11T00:22:09.345018Z",
     "shell.execute_reply.started": "2021-06-11T00:21:08.574302Z"
    }
   },
   "outputs": [],
   "source": [
    "observed = cx_minus_hc(nrem_pow).power\n",
    "\n",
    "n_permutations = 10000\n",
    "permutations = list()\n",
    "for i in range(n_permutations):\n",
    "    permuted = shuffle_region_labels(nrem_pow)\n",
    "    permutations.append(cx_minus_hc(permuted))\n",
    "    \n",
    "df = pd.concat(permutations).to_frame(name='cx_minus_hc').reset_index(drop=True)"
   ]
  },
  {
   "cell_type": "code",
   "execution_count": 17,
   "metadata": {
    "execution": {
     "iopub.execute_input": "2021-06-11T00:22:09.347409Z",
     "iopub.status.busy": "2021-06-11T00:22:09.347252Z",
     "iopub.status.idle": "2021-06-11T00:22:09.880252Z",
     "shell.execute_reply": "2021-06-11T00:22:09.879841Z",
     "shell.execute_reply.started": "2021-06-11T00:22:09.347390Z"
    }
   },
   "outputs": [
    {
     "data": {
      "image/png": "[encoded data removed]",
      "text/plain": [
       "<Figure size 459.75x360 with 1 Axes>"
      ]
     },
     "metadata": {
      "needs_background": "light"
     },
     "output_type": "display_data"
    }
   ],
   "source": [
    "g = sns.displot(data=df, kind='hist')\n",
    "g.set(xlabel='Difference of means (Cortex - Hippocampus)')\n",
    "g.tight_layout()"
   ]
  },
  {
   "cell_type": "code",
   "execution_count": 18,
   "metadata": {
    "execution": {
     "iopub.execute_input": "2021-06-11T00:22:09.881012Z",
     "iopub.status.busy": "2021-06-11T00:22:09.880873Z",
     "iopub.status.idle": "2021-06-11T00:22:09.892937Z",
     "shell.execute_reply": "2021-06-11T00:22:09.892486Z",
     "shell.execute_reply.started": "2021-06-11T00:22:09.880995Z"
    }
   },
   "outputs": [],
   "source": [
    "p = np.sum(df.cx_minus_hc.values >= observed)"
   ]
  },
  {
   "cell_type": "code",
   "execution_count": 19,
   "metadata": {
    "execution": {
     "iopub.execute_input": "2021-06-11T00:22:09.893731Z",
     "iopub.status.busy": "2021-06-11T00:22:09.893602Z",
     "iopub.status.idle": "2021-06-11T00:22:09.906461Z",
     "shell.execute_reply": "2021-06-11T00:22:09.905896Z",
     "shell.execute_reply.started": "2021-06-11T00:22:09.893715Z"
    }
   },
   "outputs": [
    {
     "name": "stdout",
     "output_type": "stream",
     "text": [
      "Subject: Allan\n",
      "Observed difference, Cortex - Hippocampus:\n",
      "155.21707546990163\n",
      "\n",
      "Shuffled differences >= observed:\n",
      "Cortex: 1 / 10000\n"
     ]
    }
   ],
   "source": [
    "print(f\"Subject: {subject}\")\n",
    "print('Observed difference, Cortex - Hippocampus:')\n",
    "print(f'{observed}')\n",
    "print('')\n",
    "print('Shuffled differences >= observed:')\n",
    "print(f\"Cortex: {1 + p} / {n_permutations}\")"
   ]
  },
  {
   "cell_type": "code",
   "execution_count": null,
   "metadata": {},
   "outputs": [],
   "source": []
  }
 ],
 "metadata": {
  "kernelspec": {
   "display_name": "Python 3",
   "language": "python",
   "name": "python3"
  },
  "language_info": {
   "codemirror_mode": {
    "name": "ipython",
    "version": 3
   },
   "file_extension": ".py",
   "mimetype": "text/x-python",
   "name": "python",
   "nbconvert_exporter": "python",
   "pygments_lexer": "ipython3",
   "version": "3.7.9"
  }
 },
 "nbformat": 4,
 "nbformat_minor": 4
}
