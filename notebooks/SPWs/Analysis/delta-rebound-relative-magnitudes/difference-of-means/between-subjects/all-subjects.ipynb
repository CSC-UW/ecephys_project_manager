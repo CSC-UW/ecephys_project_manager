{
 "cells": [
  {
   "cell_type": "code",
   "execution_count": 1,
   "metadata": {
    "execution": {
     "iopub.execute_input": "2021-06-11T01:04:34.872717Z",
     "iopub.status.busy": "2021-06-11T01:04:34.872331Z",
     "iopub.status.idle": "2021-06-11T01:04:34.891514Z",
     "shell.execute_reply": "2021-06-11T01:04:34.890638Z",
     "shell.execute_reply.started": "2021-06-11T01:04:34.872674Z"
    }
   },
   "outputs": [],
   "source": [
    "%load_ext autoreload\n",
    "%autoreload 2"
   ]
  },
  {
   "cell_type": "code",
   "execution_count": 2,
   "metadata": {
    "execution": {
     "iopub.execute_input": "2021-06-11T01:04:35.072511Z",
     "iopub.status.busy": "2021-06-11T01:04:35.072195Z",
     "iopub.status.idle": "2021-06-11T01:04:35.579541Z",
     "shell.execute_reply": "2021-06-11T01:04:35.578829Z",
     "shell.execute_reply.started": "2021-06-11T01:04:35.072475Z"
    }
   },
   "outputs": [],
   "source": [
    "# %matplotlib widget\n",
    "import matplotlib.pyplot as plt\n",
    "import seaborn as sns"
   ]
  },
  {
   "cell_type": "code",
   "execution_count": 3,
   "metadata": {
    "execution": {
     "iopub.execute_input": "2021-06-11T01:04:35.597326Z",
     "iopub.status.busy": "2021-06-11T01:04:35.597056Z",
     "iopub.status.idle": "2021-06-11T01:04:35.921052Z",
     "shell.execute_reply": "2021-06-11T01:04:35.920306Z",
     "shell.execute_reply.started": "2021-06-11T01:04:35.597292Z"
    }
   },
   "outputs": [],
   "source": [
    "import xarray as xr\n",
    "import numpy as np\n",
    "import pandas as pd\n",
    "from scipy import stats\n",
    "\n",
    "import ecephys_analyses as ea \n",
    "from ecephys.signal.xarray_utils import filter_dataset_by_hypnogram"
   ]
  },
  {
   "cell_type": "code",
   "execution_count": 4,
   "metadata": {
    "execution": {
     "iopub.execute_input": "2021-06-11T01:04:35.922595Z",
     "iopub.status.busy": "2021-06-11T01:04:35.922333Z",
     "iopub.status.idle": "2021-06-11T01:04:35.939634Z",
     "shell.execute_reply": "2021-06-11T01:04:35.939008Z",
     "shell.execute_reply.started": "2021-06-11T01:04:35.922559Z"
    }
   },
   "outputs": [
    {
     "data": {
      "text/plain": [
       "<xarray.core.options.set_options at 0x7f8d4065bc90>"
      ]
     },
     "execution_count": 4,
     "metadata": {},
     "output_type": "execute_result"
    }
   ],
   "source": [
    "xr.set_options(keep_attrs=True)"
   ]
  },
  {
   "cell_type": "code",
   "execution_count": 11,
   "metadata": {
    "execution": {
     "iopub.execute_input": "2021-06-11T01:06:06.974612Z",
     "iopub.status.busy": "2021-06-11T01:06:06.974169Z",
     "iopub.status.idle": "2021-06-11T01:06:07.021768Z",
     "shell.execute_reply": "2021-06-11T01:06:07.006280Z",
     "shell.execute_reply.started": "2021-06-11T01:06:06.974560Z"
    }
   },
   "outputs": [
    {
     "name": "stdout",
     "output_type": "stream",
     "text": [
      "| subject    |   cx_minus_hc |\n",
      "|:-----------|--------------:|\n",
      "| Segundo    |      132.651  |\n",
      "| Valentino  |       67.312  |\n",
      "| Doppio     |      114.224  |\n",
      "| Alessandro |       68.8706 |\n",
      "| Allan      |      155.217  |\n"
     ]
    }
   ],
   "source": [
    "df = pd.DataFrame({'subject': ['Segundo', 'Valentino', 'Doppio', 'Alessandro', 'Allan'], 'cx_minus_hc': [132.65082463250351, 67.31196640566021, 114.2235128339945, 68.87064404955376, 155.21707546990163]}).set_index('subject')\n",
    "print(df.to_markdown())"
   ]
  },
  {
   "cell_type": "code",
   "execution_count": 8,
   "metadata": {
    "execution": {
     "iopub.execute_input": "2021-06-11T01:05:08.061133Z",
     "iopub.status.busy": "2021-06-11T01:05:08.060750Z",
     "iopub.status.idle": "2021-06-11T01:05:08.102576Z",
     "shell.execute_reply": "2021-06-11T01:05:08.101786Z",
     "shell.execute_reply.started": "2021-06-11T01:05:08.061074Z"
    }
   },
   "outputs": [
    {
     "data": {
      "text/plain": [
       "Ttest_1sampResult(statistic=array([6.18365076]), pvalue=array([0.00347542]))"
      ]
     },
     "execution_count": 8,
     "metadata": {},
     "output_type": "execute_result"
    }
   ],
   "source": [
    "stats.ttest_1samp(df, 0)"
   ]
  },
  {
   "cell_type": "code",
   "execution_count": null,
   "metadata": {},
   "outputs": [],
   "source": []
  }
 ],
 "metadata": {
  "kernelspec": {
   "display_name": "Python 3",
   "language": "python",
   "name": "python3"
  },
  "language_info": {
   "codemirror_mode": {
    "name": "ipython",
    "version": 3
   },
   "file_extension": ".py",
   "mimetype": "text/x-python",
   "name": "python",
   "nbconvert_exporter": "python",
   "pygments_lexer": "ipython3",
   "version": "3.7.9"
  }
 },
 "nbformat": 4,
 "nbformat_minor": 4
}
