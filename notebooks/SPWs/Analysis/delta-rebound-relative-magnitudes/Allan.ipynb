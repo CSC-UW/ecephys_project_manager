{
 "cells": [
  {
   "cell_type": "code",
   "execution_count": 1,
   "metadata": {
    "execution": {
     "iopub.execute_input": "2021-06-12T19:47:32.034874Z",
     "iopub.status.busy": "2021-06-12T19:47:32.034361Z",
     "iopub.status.idle": "2021-06-12T19:47:32.051395Z",
     "shell.execute_reply": "2021-06-12T19:47:32.050764Z",
     "shell.execute_reply.started": "2021-06-12T19:47:32.034813Z"
    }
   },
   "outputs": [],
   "source": [
    "%load_ext autoreload\n",
    "%autoreload 2"
   ]
  },
  {
   "cell_type": "code",
   "execution_count": 2,
   "metadata": {
    "execution": {
     "iopub.execute_input": "2021-06-12T19:47:32.052319Z",
     "iopub.status.busy": "2021-06-12T19:47:32.052192Z",
     "iopub.status.idle": "2021-06-12T19:47:32.397614Z",
     "shell.execute_reply": "2021-06-12T19:47:32.396708Z",
     "shell.execute_reply.started": "2021-06-12T19:47:32.052304Z"
    }
   },
   "outputs": [],
   "source": [
    "# %matplotlib widget\n",
    "import matplotlib.pyplot as plt\n",
    "import seaborn as sns"
   ]
  },
  {
   "cell_type": "code",
   "execution_count": 3,
   "metadata": {
    "execution": {
     "iopub.execute_input": "2021-06-12T19:47:32.398772Z",
     "iopub.status.busy": "2021-06-12T19:47:32.398630Z",
     "iopub.status.idle": "2021-06-12T19:47:32.617604Z",
     "shell.execute_reply": "2021-06-12T19:47:32.616936Z",
     "shell.execute_reply.started": "2021-06-12T19:47:32.398755Z"
    }
   },
   "outputs": [],
   "source": [
    "import xarray as xr\n",
    "import numpy as np\n",
    "import pandas as pd"
   ]
  },
  {
   "cell_type": "code",
   "execution_count": 4,
   "metadata": {
    "execution": {
     "iopub.execute_input": "2021-06-12T19:47:32.618622Z",
     "iopub.status.busy": "2021-06-12T19:47:32.618479Z",
     "iopub.status.idle": "2021-06-12T19:47:32.631125Z",
     "shell.execute_reply": "2021-06-12T19:47:32.630515Z",
     "shell.execute_reply.started": "2021-06-12T19:47:32.618604Z"
    }
   },
   "outputs": [
    {
     "data": {
      "text/plain": [
       "<xarray.core.options.set_options at 0x7f8735088710>"
      ]
     },
     "execution_count": 4,
     "metadata": {},
     "output_type": "execute_result"
    }
   ],
   "source": [
    "xr.set_options(keep_attrs=True)"
   ]
  },
  {
   "cell_type": "code",
   "execution_count": 5,
   "metadata": {
    "execution": {
     "iopub.execute_input": "2021-06-12T19:47:32.631935Z",
     "iopub.status.busy": "2021-06-12T19:47:32.631706Z",
     "iopub.status.idle": "2021-06-12T19:47:32.644905Z",
     "shell.execute_reply": "2021-06-12T19:47:32.644419Z",
     "shell.execute_reply.started": "2021-06-12T19:47:32.631918Z"
    }
   },
   "outputs": [],
   "source": [
    "import ecephys_analyses as ea \n",
    "from ecephys import utils\n",
    "from ecephys.signal.xarray_utils import filter_dataset_by_hypnogram"
   ]
  },
  {
   "cell_type": "code",
   "execution_count": 6,
   "metadata": {
    "execution": {
     "iopub.execute_input": "2021-06-12T19:47:32.645610Z",
     "iopub.status.busy": "2021-06-12T19:47:32.645485Z",
     "iopub.status.idle": "2021-06-12T19:47:32.657121Z",
     "shell.execute_reply": "2021-06-12T19:47:32.656492Z",
     "shell.execute_reply.started": "2021-06-12T19:47:32.645594Z"
    }
   },
   "outputs": [],
   "source": [
    "subject = \"Allan\"\n",
    "experiment = \"sleep-homeostasis\"\n",
    "norm_condition = \"light-period-circadian-match\"\n",
    "bsl_condition = \"recovery-sleep-circadian-match\"\n",
    "rec_condition = \"recovery-sleep\"\n",
    "states = [\"N1\", \"N2\"]\n",
    "duration = '02:00:00'\n",
    "light_period_start = '09:00:00'\n",
    "light_period_end = '21:00:00'\n",
    "f_range = (0.5, 4)"
   ]
  },
  {
   "cell_type": "code",
   "execution_count": 7,
   "metadata": {
    "execution": {
     "iopub.execute_input": "2021-06-12T19:47:32.657872Z",
     "iopub.status.busy": "2021-06-12T19:47:32.657748Z",
     "iopub.status.idle": "2021-06-12T19:47:36.050097Z",
     "shell.execute_reply": "2021-06-12T19:47:36.049472Z",
     "shell.execute_reply.started": "2021-06-12T19:47:32.657857Z"
    }
   },
   "outputs": [],
   "source": [
    "norm_hyp = ea.load_hypnogram(subject, experiment, norm_condition)\n",
    "norm_hyp = norm_hyp.keep_states(states).keep_between(light_period_start, light_period_end)\n",
    "\n",
    "norm_pow = ea.load_power(subject, experiment, norm_condition, \"spg.nc\").sel(frequency=slice(*f_range)).sum(dim=\"frequency\")\n",
    "norm_pow = filter_dataset_by_hypnogram(norm_pow, norm_hyp).swap_dims({'time': 'datetime'}).drop_vars(['time', 'timedelta'])"
   ]
  },
  {
   "cell_type": "code",
   "execution_count": 8,
   "metadata": {
    "execution": {
     "iopub.execute_input": "2021-06-12T19:47:36.051598Z",
     "iopub.status.busy": "2021-06-12T19:47:36.051448Z",
     "iopub.status.idle": "2021-06-12T19:47:37.493453Z",
     "shell.execute_reply": "2021-06-12T19:47:37.492729Z",
     "shell.execute_reply.started": "2021-06-12T19:47:36.051580Z"
    }
   },
   "outputs": [],
   "source": [
    "rec_hyp = ea.load_hypnogram(subject, experiment, rec_condition)\n",
    "rec_hyp = rec_hyp.keep_states(states).keep_first(duration)\n",
    "\n",
    "rec_pow = ea.load_power(subject, experiment, rec_condition, \"spg.nc\").sel(frequency=slice(*f_range)).sum(dim='frequency')\n",
    "rec_pow = filter_dataset_by_hypnogram(rec_pow, rec_hyp).swap_dims({'time': 'datetime'}).drop_vars(['time', 'timedelta'])\n",
    "rec_pow = rec_pow / norm_pow.mean(dim=\"datetime\") * 100"
   ]
  },
  {
   "cell_type": "code",
   "execution_count": 9,
   "metadata": {
    "execution": {
     "iopub.execute_input": "2021-06-12T19:47:37.494650Z",
     "iopub.status.busy": "2021-06-12T19:47:37.494507Z",
     "iopub.status.idle": "2021-06-12T19:47:39.303312Z",
     "shell.execute_reply": "2021-06-12T19:47:39.302624Z",
     "shell.execute_reply.started": "2021-06-12T19:47:37.494632Z"
    }
   },
   "outputs": [],
   "source": [
    "bsl_hyp = ea.load_hypnogram(subject, experiment, bsl_condition)\n",
    "bsl_hyp = bsl_hyp.keep_states(states).keep_between(rec_hyp.start_time.min().strftime(\"%H:%M:%S\"), light_period_end).keep_first(duration)\n",
    "\n",
    "bsl_pow = ea.load_power(subject, experiment, bsl_condition, \"spg.nc\").sel(frequency=slice(*f_range)).sum(dim='frequency')\n",
    "bsl_pow = filter_dataset_by_hypnogram(bsl_pow, bsl_hyp).swap_dims({'time': 'datetime'}).drop_vars(['time', 'timedelta'])\n",
    "bsl_pow = bsl_pow / norm_pow.mean(dim=\"datetime\") * 100"
   ]
  },
  {
   "cell_type": "code",
   "execution_count": 10,
   "metadata": {
    "execution": {
     "iopub.execute_input": "2021-06-12T19:47:39.304245Z",
     "iopub.status.busy": "2021-06-12T19:47:39.304104Z",
     "iopub.status.idle": "2021-06-12T19:47:39.316817Z",
     "shell.execute_reply": "2021-06-12T19:47:39.316090Z",
     "shell.execute_reply.started": "2021-06-12T19:47:39.304227Z"
    }
   },
   "outputs": [],
   "source": [
    "def match_lengths(dataframes):\n",
    "    length = min(list(map(len, dataframes)))\n",
    "    return (df.iloc[:length] for df in dataframes)"
   ]
  },
  {
   "cell_type": "code",
   "execution_count": 11,
   "metadata": {
    "execution": {
     "iopub.execute_input": "2021-06-12T19:47:39.317554Z",
     "iopub.status.busy": "2021-06-12T19:47:39.317428Z",
     "iopub.status.idle": "2021-06-12T19:47:39.335243Z",
     "shell.execute_reply": "2021-06-12T19:47:39.334800Z",
     "shell.execute_reply.started": "2021-06-12T19:47:39.317537Z"
    }
   },
   "outputs": [],
   "source": [
    "bsl_df = bsl_pow.to_dataframe().reset_index(drop=True).rename_axis(index='pair', columns='region').stack().to_frame(name='baseline')\n",
    "rec_df = rec_pow.to_dataframe().reset_index(drop=True).rename_axis(index='pair', columns='region').stack().to_frame(name='recovery')\n",
    "bsl_df, rec_df = match_lengths((bsl_df, rec_df))\n",
    "df = bsl_df.join(rec_df).rename_axis(columns='condition')"
   ]
  },
  {
   "cell_type": "code",
   "execution_count": 12,
   "metadata": {
    "execution": {
     "iopub.execute_input": "2021-06-12T19:47:39.335928Z",
     "iopub.status.busy": "2021-06-12T19:47:39.335806Z",
     "iopub.status.idle": "2021-06-12T19:47:39.349843Z",
     "shell.execute_reply": "2021-06-12T19:47:39.349516Z",
     "shell.execute_reply.started": "2021-06-12T19:47:39.335913Z"
    }
   },
   "outputs": [],
   "source": [
    "df_plot = df.stack().to_frame(name='power')\n",
    "df_plot['log_power'] = np.log(df_plot.power)\n",
    "df_plot['sqrt_power'] = np.sqrt(df_plot.power)"
   ]
  },
  {
   "cell_type": "code",
   "execution_count": 13,
   "metadata": {
    "execution": {
     "iopub.execute_input": "2021-06-12T19:47:39.350471Z",
     "iopub.status.busy": "2021-06-12T19:47:39.350345Z",
     "iopub.status.idle": "2021-06-12T19:47:40.232056Z",
     "shell.execute_reply": "2021-06-12T19:47:40.231529Z",
     "shell.execute_reply.started": "2021-06-12T19:47:39.350455Z"
    }
   },
   "outputs": [
    {
     "data": {
      "image/png": "[encoded data removed]",
      "text/plain": [
       "<Figure size 799.5x360 with 2 Axes>"
      ]
     },
     "metadata": {
      "needs_background": "light"
     },
     "output_type": "display_data"
    }
   ],
   "source": [
    "g = sns.displot(data=df_plot, x='power', hue='condition', col='region', kind='hist')\n",
    "g.set(xlabel='Delta (0.5 - 4Hz) PSD (uV^2/Hz)')\n",
    "g.tight_layout()"
   ]
  },
  {
   "cell_type": "code",
   "execution_count": 14,
   "metadata": {
    "execution": {
     "iopub.execute_input": "2021-06-12T19:47:40.232957Z",
     "iopub.status.busy": "2021-06-12T19:47:40.232814Z",
     "iopub.status.idle": "2021-06-12T19:47:41.001930Z",
     "shell.execute_reply": "2021-06-12T19:47:41.001421Z",
     "shell.execute_reply.started": "2021-06-12T19:47:40.232938Z"
    }
   },
   "outputs": [
    {
     "data": {
      "image/png": "[encoded data removed]",
      "text/plain": [
       "<Figure size 799.5x360 with 2 Axes>"
      ]
     },
     "metadata": {
      "needs_background": "light"
     },
     "output_type": "display_data"
    }
   ],
   "source": [
    "g = sns.displot(data=df_plot, x='log_power', hue='condition', col='region', kind='hist')\n",
    "g.set(xlabel='Delta (0.5 - 4Hz) PSD (uV^2/Hz)')\n",
    "g.tight_layout()"
   ]
  },
  {
   "cell_type": "code",
   "execution_count": 15,
   "metadata": {
    "execution": {
     "iopub.execute_input": "2021-06-12T19:47:41.002710Z",
     "iopub.status.busy": "2021-06-12T19:47:41.002578Z",
     "iopub.status.idle": "2021-06-12T19:47:41.779162Z",
     "shell.execute_reply": "2021-06-12T19:47:41.778708Z",
     "shell.execute_reply.started": "2021-06-12T19:47:41.002694Z"
    }
   },
   "outputs": [
    {
     "data": {
      "image/png": "[encoded data removed]",
      "text/plain": [
       "<Figure size 799.5x360 with 2 Axes>"
      ]
     },
     "metadata": {
      "needs_background": "light"
     },
     "output_type": "display_data"
    }
   ],
   "source": [
    "g = sns.displot(data=df_plot, x='sqrt_power', hue='condition', col='region', kind='hist')\n",
    "g.set(xlabel='Delta (0.5 - 4Hz) PSD (uV^2/Hz)')\n",
    "g.tight_layout()"
   ]
  },
  {
   "cell_type": "code",
   "execution_count": 16,
   "metadata": {
    "execution": {
     "iopub.execute_input": "2021-06-12T19:47:41.779910Z",
     "iopub.status.busy": "2021-06-12T19:47:41.779777Z",
     "iopub.status.idle": "2021-06-12T19:47:41.791154Z",
     "shell.execute_reply": "2021-06-12T19:47:41.790604Z",
     "shell.execute_reply.started": "2021-06-12T19:47:41.779892Z"
    }
   },
   "outputs": [],
   "source": [
    "def get_relative_rebound(df):\n",
    "    means = df.groupby('region').mean()\n",
    "    rebounds = means.recovery - means.baseline\n",
    "    return rebounds.mpta_wm_ref - rebounds.sr_wm_ref"
   ]
  },
  {
   "cell_type": "code",
   "execution_count": 17,
   "metadata": {
    "execution": {
     "iopub.execute_input": "2021-06-12T19:47:41.791872Z",
     "iopub.status.busy": "2021-06-12T19:47:41.791750Z",
     "iopub.status.idle": "2021-06-12T19:47:41.803973Z",
     "shell.execute_reply": "2021-06-12T19:47:41.803364Z",
     "shell.execute_reply.started": "2021-06-12T19:47:41.791856Z"
    }
   },
   "outputs": [],
   "source": [
    "def shuffle(df, key): \n",
    "    _df = df.reset_index()\n",
    "    labels = _df[key].values.reshape(-1, 2)\n",
    "    rng = np.random.default_rng()\n",
    "    rng.permuted(labels, axis=1, out=labels)\n",
    "    _df.set_index(df.index.names, inplace=True)\n",
    "    return _df"
   ]
  },
  {
   "cell_type": "code",
   "execution_count": 18,
   "metadata": {
    "execution": {
     "iopub.execute_input": "2021-06-12T19:47:41.804680Z",
     "iopub.status.busy": "2021-06-12T19:47:41.804557Z",
     "iopub.status.idle": "2021-06-12T19:48:09.840197Z",
     "shell.execute_reply": "2021-06-12T19:48:09.839442Z",
     "shell.execute_reply.started": "2021-06-12T19:47:41.804665Z"
    }
   },
   "outputs": [],
   "source": [
    "observed = get_relative_rebound(df)\n",
    "\n",
    "n_permutations = 10000\n",
    "permutations = list()\n",
    "for i in range(n_permutations):\n",
    "    permuted = shuffle(df, 'region')\n",
    "    permutations.append(get_relative_rebound(permuted))"
   ]
  },
  {
   "cell_type": "code",
   "execution_count": 19,
   "metadata": {
    "execution": {
     "iopub.execute_input": "2021-06-12T19:48:09.841220Z",
     "iopub.status.busy": "2021-06-12T19:48:09.841043Z",
     "iopub.status.idle": "2021-06-12T19:48:09.856675Z",
     "shell.execute_reply": "2021-06-12T19:48:09.856196Z",
     "shell.execute_reply.started": "2021-06-12T19:48:09.841200Z"
    }
   },
   "outputs": [],
   "source": [
    "perms = pd.Series(permutations).rename_axis(index='permutation').to_frame(name='relative_rebound')"
   ]
  },
  {
   "cell_type": "code",
   "execution_count": 20,
   "metadata": {
    "execution": {
     "iopub.execute_input": "2021-06-12T19:48:09.857435Z",
     "iopub.status.busy": "2021-06-12T19:48:09.857309Z",
     "iopub.status.idle": "2021-06-12T19:48:10.145947Z",
     "shell.execute_reply": "2021-06-12T19:48:10.145545Z",
     "shell.execute_reply.started": "2021-06-12T19:48:09.857419Z"
    }
   },
   "outputs": [
    {
     "data": {
      "image/png": "[encoded data removed]",
      "text/plain": [
       "<Figure size 360x360 with 1 Axes>"
      ]
     },
     "metadata": {
      "needs_background": "light"
     },
     "output_type": "display_data"
    }
   ],
   "source": [
    "g = sns.displot(data=perms, x='relative_rebound', kind='hist')\n",
    "g.set(xlabel='Relative rebound (CX - HC)')\n",
    "g.tight_layout()"
   ]
  },
  {
   "cell_type": "code",
   "execution_count": 21,
   "metadata": {
    "execution": {
     "iopub.execute_input": "2021-06-12T19:48:10.146620Z",
     "iopub.status.busy": "2021-06-12T19:48:10.146499Z",
     "iopub.status.idle": "2021-06-12T19:48:10.156458Z",
     "shell.execute_reply": "2021-06-12T19:48:10.155971Z",
     "shell.execute_reply.started": "2021-06-12T19:48:10.146605Z"
    }
   },
   "outputs": [],
   "source": [
    "p = np.sum(perms >= observed)"
   ]
  },
  {
   "cell_type": "code",
   "execution_count": 22,
   "metadata": {
    "execution": {
     "iopub.execute_input": "2021-06-12T19:48:10.157188Z",
     "iopub.status.busy": "2021-06-12T19:48:10.157057Z",
     "iopub.status.idle": "2021-06-12T19:48:10.170297Z",
     "shell.execute_reply": "2021-06-12T19:48:10.169817Z",
     "shell.execute_reply.started": "2021-06-12T19:48:10.157172Z"
    }
   },
   "outputs": [
    {
     "name": "stdout",
     "output_type": "stream",
     "text": [
      "Subject: Allan\n",
      "Observed relative rebound (CX - HC):\n",
      "\t155.14075637793516\n",
      "Shuffled >= observed:\n",
      "\t1 / 10000\n"
     ]
    }
   ],
   "source": [
    "print(f\"Subject: {subject}\")\n",
    "print('Observed relative rebound (CX - HC):')\n",
    "print(f'\\t{observed}')\n",
    "print('Shuffled >= observed:')\n",
    "print(f\"\\t{1 + p.squeeze()} / {n_permutations}\")"
   ]
  }
 ],
 "metadata": {
  "kernelspec": {
   "display_name": "Python 3",
   "language": "python",
   "name": "python3"
  },
  "language_info": {
   "codemirror_mode": {
    "name": "ipython",
    "version": 3
   },
   "file_extension": ".py",
   "mimetype": "text/x-python",
   "name": "python",
   "nbconvert_exporter": "python",
   "pygments_lexer": "ipython3",
   "version": "3.7.9"
  }
 },
 "nbformat": 4,
 "nbformat_minor": 4
}
