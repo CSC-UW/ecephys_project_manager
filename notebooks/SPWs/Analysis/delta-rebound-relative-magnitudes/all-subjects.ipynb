{
 "cells": [
  {
   "cell_type": "code",
   "execution_count": 7,
   "metadata": {
    "execution": {
     "iopub.execute_input": "2021-06-14T19:00:22.982779Z",
     "iopub.status.busy": "2021-06-14T19:00:22.982296Z",
     "iopub.status.idle": "2021-06-14T19:00:23.001069Z",
     "shell.execute_reply": "2021-06-14T19:00:23.000411Z",
     "shell.execute_reply.started": "2021-06-14T19:00:22.982719Z"
    }
   },
   "outputs": [
    {
     "name": "stdout",
     "output_type": "stream",
     "text": [
      "The autoreload extension is already loaded. To reload it, use:\n",
      "  %reload_ext autoreload\n"
     ]
    }
   ],
   "source": [
    "%load_ext autoreload\n",
    "%autoreload 2"
   ]
  },
  {
   "cell_type": "code",
   "execution_count": 8,
   "metadata": {
    "execution": {
     "iopub.execute_input": "2021-06-14T19:00:23.258122Z",
     "iopub.status.busy": "2021-06-14T19:00:23.257861Z",
     "iopub.status.idle": "2021-06-14T19:00:23.273834Z",
     "shell.execute_reply": "2021-06-14T19:00:23.273332Z",
     "shell.execute_reply.started": "2021-06-14T19:00:23.258089Z"
    }
   },
   "outputs": [],
   "source": [
    "import pandas as pd\n",
    "from scipy import stats"
   ]
  },
  {
   "cell_type": "code",
   "execution_count": 15,
   "metadata": {
    "execution": {
     "iopub.execute_input": "2021-06-14T19:01:20.409542Z",
     "iopub.status.busy": "2021-06-14T19:01:20.409035Z",
     "iopub.status.idle": "2021-06-14T19:01:20.430234Z",
     "shell.execute_reply": "2021-06-14T19:01:20.429460Z",
     "shell.execute_reply.started": "2021-06-14T19:01:20.409481Z"
    }
   },
   "outputs": [
    {
     "name": "stdout",
     "output_type": "stream",
     "text": [
      "| subject    |   relative_rebound |\n",
      "|:-----------|-------------------:|\n",
      "| Segundo    |            132.475 |\n",
      "| Valentino  |             67.238 |\n",
      "| Doppio     |            114.292 |\n",
      "| Alessandro |             67.14  |\n",
      "| Allan      |            155.141 |\n"
     ]
    }
   ],
   "source": [
    "df = pd.DataFrame({'subject': ['Segundo', 'Valentino', 'Doppio', 'Alessandro', 'Allan'], 'relative_rebound': [132.475, 67.238, 114.292, 67.140, 155.141]}).set_index('subject')\n",
    "print(df.to_markdown())"
   ]
  },
  {
   "cell_type": "code",
   "execution_count": 16,
   "metadata": {
    "execution": {
     "iopub.execute_input": "2021-06-14T19:01:21.517055Z",
     "iopub.status.busy": "2021-06-14T19:01:21.516851Z",
     "iopub.status.idle": "2021-06-14T19:01:21.534128Z",
     "shell.execute_reply": "2021-06-14T19:01:21.533522Z",
     "shell.execute_reply.started": "2021-06-14T19:01:21.517032Z"
    }
   },
   "outputs": [
    {
     "data": {
      "text/plain": [
       "Ttest_1sampResult(statistic=array([6.09710726]), pvalue=array([0.00366038]))"
      ]
     },
     "execution_count": 16,
     "metadata": {},
     "output_type": "execute_result"
    }
   ],
   "source": [
    "stats.ttest_1samp(df, 0)"
   ]
  },
  {
   "cell_type": "code",
   "execution_count": 44,
   "metadata": {
    "execution": {
     "iopub.execute_input": "2021-06-14T19:06:43.003297Z",
     "iopub.status.busy": "2021-06-14T19:06:43.002851Z",
     "iopub.status.idle": "2021-06-14T19:06:43.217785Z",
     "shell.execute_reply": "2021-06-14T19:06:43.217152Z",
     "shell.execute_reply.started": "2021-06-14T19:06:43.003243Z"
    }
   },
   "outputs": [
    {
     "data": {
      "text/plain": [
       "<AxesSubplot:xlabel='group', ylabel='relative_rebound'>"
      ]
     },
     "execution_count": 44,
     "metadata": {},
     "output_type": "execute_result"
    },
    {
     "data": {
      "image/png": "[encoded data removed]",
      "text/plain": [
       "<Figure size 432x576 with 1 Axes>"
      ]
     },
     "metadata": {
      "needs_background": "light"
     },
     "output_type": "display_data"
    }
   ],
   "source": [
    "import seaborn as sns\n",
    "import matplotlib.pyplot as plt\n",
    "\n",
    "fig, ax = plt.subplots(figsize=(6, 8))\n",
    "sns.boxplot(data=df.reset_index(), y='relative_rebound', ax=ax)\n",
    "sns.swarmplot(data=df.assign(group='all_subjects').reset_index(), x='group', y='relative_rebound', hue='subject', ax=ax)"
   ]
  },
  {
   "cell_type": "code",
   "execution_count": null,
   "metadata": {},
   "outputs": [],
   "source": []
  }
 ],
 "metadata": {
  "kernelspec": {
   "display_name": "Python 3",
   "language": "python",
   "name": "python3"
  },
  "language_info": {
   "codemirror_mode": {
    "name": "ipython",
    "version": 3
   },
   "file_extension": ".py",
   "mimetype": "text/x-python",
   "name": "python",
   "nbconvert_exporter": "python",
   "pygments_lexer": "ipython3",
   "version": "3.7.9"
  }
 },
 "nbformat": 4,
 "nbformat_minor": 4
}
