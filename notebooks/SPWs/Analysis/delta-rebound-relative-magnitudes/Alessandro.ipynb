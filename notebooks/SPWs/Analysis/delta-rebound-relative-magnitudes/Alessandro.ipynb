{
 "cells": [
  {
   "cell_type": "code",
   "execution_count": 1,
   "metadata": {
    "execution": {
     "iopub.execute_input": "2021-06-12T19:47:24.263777Z",
     "iopub.status.busy": "2021-06-12T19:47:24.263299Z",
     "iopub.status.idle": "2021-06-12T19:47:24.281860Z",
     "shell.execute_reply": "2021-06-12T19:47:24.281371Z",
     "shell.execute_reply.started": "2021-06-12T19:47:24.263720Z"
    }
   },
   "outputs": [],
   "source": [
    "%load_ext autoreload\n",
    "%autoreload 2"
   ]
  },
  {
   "cell_type": "code",
   "execution_count": 2,
   "metadata": {
    "execution": {
     "iopub.execute_input": "2021-06-12T19:47:24.282628Z",
     "iopub.status.busy": "2021-06-12T19:47:24.282506Z",
     "iopub.status.idle": "2021-06-12T19:47:24.617917Z",
     "shell.execute_reply": "2021-06-12T19:47:24.617243Z",
     "shell.execute_reply.started": "2021-06-12T19:47:24.282612Z"
    }
   },
   "outputs": [],
   "source": [
    "# %matplotlib widget\n",
    "import matplotlib.pyplot as plt\n",
    "import seaborn as sns"
   ]
  },
  {
   "cell_type": "code",
   "execution_count": 3,
   "metadata": {
    "execution": {
     "iopub.execute_input": "2021-06-12T19:47:24.619057Z",
     "iopub.status.busy": "2021-06-12T19:47:24.618920Z",
     "iopub.status.idle": "2021-06-12T19:47:24.840589Z",
     "shell.execute_reply": "2021-06-12T19:47:24.839925Z",
     "shell.execute_reply.started": "2021-06-12T19:47:24.619041Z"
    }
   },
   "outputs": [],
   "source": [
    "import xarray as xr\n",
    "import numpy as np\n",
    "import pandas as pd"
   ]
  },
  {
   "cell_type": "code",
   "execution_count": 4,
   "metadata": {
    "execution": {
     "iopub.execute_input": "2021-06-12T19:47:24.841639Z",
     "iopub.status.busy": "2021-06-12T19:47:24.841496Z",
     "iopub.status.idle": "2021-06-12T19:47:24.854537Z",
     "shell.execute_reply": "2021-06-12T19:47:24.853818Z",
     "shell.execute_reply.started": "2021-06-12T19:47:24.841622Z"
    }
   },
   "outputs": [
    {
     "data": {
      "text/plain": [
       "<xarray.core.options.set_options at 0x7f9d21ee88d0>"
      ]
     },
     "execution_count": 4,
     "metadata": {},
     "output_type": "execute_result"
    }
   ],
   "source": [
    "xr.set_options(keep_attrs=True)"
   ]
  },
  {
   "cell_type": "code",
   "execution_count": 5,
   "metadata": {
    "execution": {
     "iopub.execute_input": "2021-06-12T19:47:24.855266Z",
     "iopub.status.busy": "2021-06-12T19:47:24.855140Z",
     "iopub.status.idle": "2021-06-12T19:47:24.868930Z",
     "shell.execute_reply": "2021-06-12T19:47:24.868456Z",
     "shell.execute_reply.started": "2021-06-12T19:47:24.855250Z"
    }
   },
   "outputs": [],
   "source": [
    "import ecephys_analyses as ea \n",
    "from ecephys import utils\n",
    "from ecephys.signal.xarray_utils import filter_dataset_by_hypnogram"
   ]
  },
  {
   "cell_type": "code",
   "execution_count": 6,
   "metadata": {
    "execution": {
     "iopub.execute_input": "2021-06-12T19:47:24.869605Z",
     "iopub.status.busy": "2021-06-12T19:47:24.869485Z",
     "iopub.status.idle": "2021-06-12T19:47:24.882525Z",
     "shell.execute_reply": "2021-06-12T19:47:24.881996Z",
     "shell.execute_reply.started": "2021-06-12T19:47:24.869590Z"
    }
   },
   "outputs": [],
   "source": [
    "subject = \"Alessandro\"\n",
    "experiment = \"novel_objects_deprivation\"\n",
    "norm_condition = \"light-period-circadian-match\"\n",
    "bsl_condition = \"recovery-sleep-circadian-match\"\n",
    "rec_condition = \"recovery-sleep\"\n",
    "states = [\"N1\", \"N2\"]\n",
    "duration = '02:00:00'\n",
    "light_period_start = '09:00:00'\n",
    "light_period_end = '21:00:00'\n",
    "f_range = (0.5, 4)"
   ]
  },
  {
   "cell_type": "code",
   "execution_count": 7,
   "metadata": {
    "execution": {
     "iopub.execute_input": "2021-06-12T19:47:24.883138Z",
     "iopub.status.busy": "2021-06-12T19:47:24.883020Z",
     "iopub.status.idle": "2021-06-12T19:47:28.454714Z",
     "shell.execute_reply": "2021-06-12T19:47:28.453953Z",
     "shell.execute_reply.started": "2021-06-12T19:47:24.883123Z"
    }
   },
   "outputs": [],
   "source": [
    "norm_hyp = ea.load_hypnogram(subject, experiment, norm_condition)\n",
    "norm_hyp = norm_hyp.keep_states(states).keep_between(light_period_start, light_period_end)\n",
    "\n",
    "norm_pow = ea.load_power(subject, experiment, norm_condition, \"spg.nc\").sel(frequency=slice(*f_range)).sum(dim=\"frequency\")\n",
    "norm_pow = filter_dataset_by_hypnogram(norm_pow, norm_hyp).swap_dims({'time': 'datetime'}).drop_vars(['time', 'timedelta'])"
   ]
  },
  {
   "cell_type": "code",
   "execution_count": 8,
   "metadata": {
    "execution": {
     "iopub.execute_input": "2021-06-12T19:47:28.456437Z",
     "iopub.status.busy": "2021-06-12T19:47:28.456257Z",
     "iopub.status.idle": "2021-06-12T19:47:30.049077Z",
     "shell.execute_reply": "2021-06-12T19:47:30.047884Z",
     "shell.execute_reply.started": "2021-06-12T19:47:28.456418Z"
    }
   },
   "outputs": [],
   "source": [
    "rec_hyp = ea.load_hypnogram(subject, experiment, rec_condition)\n",
    "rec_hyp = rec_hyp.keep_states(states).keep_first(duration)\n",
    "\n",
    "rec_pow = ea.load_power(subject, experiment, rec_condition, \"spg.nc\").sel(frequency=slice(*f_range)).sum(dim='frequency')\n",
    "rec_pow = filter_dataset_by_hypnogram(rec_pow, rec_hyp).swap_dims({'time': 'datetime'}).drop_vars(['time', 'timedelta'])\n",
    "rec_pow = rec_pow / norm_pow.mean(dim=\"datetime\") * 100"
   ]
  },
  {
   "cell_type": "code",
   "execution_count": 9,
   "metadata": {
    "execution": {
     "iopub.execute_input": "2021-06-12T19:47:30.050634Z",
     "iopub.status.busy": "2021-06-12T19:47:30.050468Z",
     "iopub.status.idle": "2021-06-12T19:47:31.771134Z",
     "shell.execute_reply": "2021-06-12T19:47:31.770245Z",
     "shell.execute_reply.started": "2021-06-12T19:47:30.050615Z"
    }
   },
   "outputs": [],
   "source": [
    "bsl_hyp = ea.load_hypnogram(subject, experiment, bsl_condition)\n",
    "bsl_hyp = bsl_hyp.keep_states(states).keep_between(rec_hyp.start_time.min().strftime(\"%H:%M:%S\"), light_period_end).keep_first(duration)\n",
    "\n",
    "bsl_pow = ea.load_power(subject, experiment, bsl_condition, \"spg.nc\").sel(frequency=slice(*f_range)).sum(dim='frequency')\n",
    "bsl_pow = filter_dataset_by_hypnogram(bsl_pow, bsl_hyp).swap_dims({'time': 'datetime'}).drop_vars(['time', 'timedelta'])\n",
    "bsl_pow = bsl_pow / norm_pow.mean(dim=\"datetime\") * 100"
   ]
  },
  {
   "cell_type": "code",
   "execution_count": 10,
   "metadata": {
    "execution": {
     "iopub.execute_input": "2021-06-12T19:47:31.772264Z",
     "iopub.status.busy": "2021-06-12T19:47:31.772094Z",
     "iopub.status.idle": "2021-06-12T19:47:31.790669Z",
     "shell.execute_reply": "2021-06-12T19:47:31.789166Z",
     "shell.execute_reply.started": "2021-06-12T19:47:31.772245Z"
    }
   },
   "outputs": [],
   "source": [
    "def match_lengths(dataframes):\n",
    "    length = min(list(map(len, dataframes)))\n",
    "    return (df.iloc[:length] for df in dataframes)"
   ]
  },
  {
   "cell_type": "code",
   "execution_count": 11,
   "metadata": {
    "execution": {
     "iopub.execute_input": "2021-06-12T19:47:31.792616Z",
     "iopub.status.busy": "2021-06-12T19:47:31.792284Z",
     "iopub.status.idle": "2021-06-12T19:47:31.819027Z",
     "shell.execute_reply": "2021-06-12T19:47:31.818226Z",
     "shell.execute_reply.started": "2021-06-12T19:47:31.792571Z"
    }
   },
   "outputs": [],
   "source": [
    "bsl_df = bsl_pow.to_dataframe().reset_index(drop=True).rename_axis(index='pair', columns='region').stack().to_frame(name='baseline')\n",
    "rec_df = rec_pow.to_dataframe().reset_index(drop=True).rename_axis(index='pair', columns='region').stack().to_frame(name='recovery')\n",
    "bsl_df, rec_df = match_lengths((bsl_df, rec_df))\n",
    "df = bsl_df.join(rec_df).rename_axis(columns='condition')"
   ]
  },
  {
   "cell_type": "code",
   "execution_count": 12,
   "metadata": {
    "execution": {
     "iopub.execute_input": "2021-06-12T19:47:31.820340Z",
     "iopub.status.busy": "2021-06-12T19:47:31.820121Z",
     "iopub.status.idle": "2021-06-12T19:47:31.841562Z",
     "shell.execute_reply": "2021-06-12T19:47:31.841120Z",
     "shell.execute_reply.started": "2021-06-12T19:47:31.820311Z"
    }
   },
   "outputs": [],
   "source": [
    "df_plot = df.stack().to_frame(name='power')\n",
    "df_plot['log_power'] = np.log(df_plot.power)\n",
    "df_plot['sqrt_power'] = np.sqrt(df_plot.power)"
   ]
  },
  {
   "cell_type": "code",
   "execution_count": 13,
   "metadata": {
    "execution": {
     "iopub.execute_input": "2021-06-12T19:47:31.842260Z",
     "iopub.status.busy": "2021-06-12T19:47:31.842140Z",
     "iopub.status.idle": "2021-06-12T19:47:32.756787Z",
     "shell.execute_reply": "2021-06-12T19:47:32.755557Z",
     "shell.execute_reply.started": "2021-06-12T19:47:31.842245Z"
    }
   },
   "outputs": [
    {
     "data": {
      "image/png": "[encoded data removed]",
      "text/plain": [
       "<Figure size 799.5x360 with 2 Axes>"
      ]
     },
     "metadata": {
      "needs_background": "light"
     },
     "output_type": "display_data"
    }
   ],
   "source": [
    "g = sns.displot(data=df_plot, x='power', hue='condition', col='region', kind='hist')\n",
    "g.set(xlabel='Delta (0.5 - 4Hz) PSD (uV^2/Hz)')\n",
    "g.tight_layout()"
   ]
  },
  {
   "cell_type": "code",
   "execution_count": 14,
   "metadata": {
    "execution": {
     "iopub.execute_input": "2021-06-12T19:47:32.758336Z",
     "iopub.status.busy": "2021-06-12T19:47:32.758150Z",
     "iopub.status.idle": "2021-06-12T19:47:33.530055Z",
     "shell.execute_reply": "2021-06-12T19:47:33.529366Z",
     "shell.execute_reply.started": "2021-06-12T19:47:32.758310Z"
    }
   },
   "outputs": [
    {
     "data": {
      "image/png": "[encoded data removed]",
      "text/plain": [
       "<Figure size 799.5x360 with 2 Axes>"
      ]
     },
     "metadata": {
      "needs_background": "light"
     },
     "output_type": "display_data"
    }
   ],
   "source": [
    "g = sns.displot(data=df_plot, x='log_power', hue='condition', col='region', kind='hist')\n",
    "g.set(xlabel='Delta (0.5 - 4Hz) PSD (uV^2/Hz)')\n",
    "g.tight_layout()"
   ]
  },
  {
   "cell_type": "code",
   "execution_count": 15,
   "metadata": {
    "execution": {
     "iopub.execute_input": "2021-06-12T19:47:33.531029Z",
     "iopub.status.busy": "2021-06-12T19:47:33.530885Z",
     "iopub.status.idle": "2021-06-12T19:47:34.203961Z",
     "shell.execute_reply": "2021-06-12T19:47:34.203277Z",
     "shell.execute_reply.started": "2021-06-12T19:47:33.531010Z"
    }
   },
   "outputs": [
    {
     "data": {
      "image/png": "[encoded data removed]",
      "text/plain": [
       "<Figure size 799.5x360 with 2 Axes>"
      ]
     },
     "metadata": {
      "needs_background": "light"
     },
     "output_type": "display_data"
    }
   ],
   "source": [
    "g = sns.displot(data=df_plot, x='sqrt_power', hue='condition', col='region', kind='hist')\n",
    "g.set(xlabel='Delta (0.5 - 4Hz) PSD (uV^2/Hz)')\n",
    "g.tight_layout()"
   ]
  },
  {
   "cell_type": "code",
   "execution_count": 16,
   "metadata": {
    "execution": {
     "iopub.execute_input": "2021-06-12T19:47:34.204940Z",
     "iopub.status.busy": "2021-06-12T19:47:34.204788Z",
     "iopub.status.idle": "2021-06-12T19:47:34.219808Z",
     "shell.execute_reply": "2021-06-12T19:47:34.219283Z",
     "shell.execute_reply.started": "2021-06-12T19:47:34.204920Z"
    }
   },
   "outputs": [],
   "source": [
    "def get_relative_rebound(df):\n",
    "    means = df.groupby('region').mean()\n",
    "    rebounds = means.recovery - means.baseline\n",
    "    return rebounds.mpta_wm_ref - rebounds.sr_wm_ref"
   ]
  },
  {
   "cell_type": "code",
   "execution_count": 17,
   "metadata": {
    "execution": {
     "iopub.execute_input": "2021-06-12T19:47:34.220533Z",
     "iopub.status.busy": "2021-06-12T19:47:34.220405Z",
     "iopub.status.idle": "2021-06-12T19:47:34.232619Z",
     "shell.execute_reply": "2021-06-12T19:47:34.232071Z",
     "shell.execute_reply.started": "2021-06-12T19:47:34.220516Z"
    }
   },
   "outputs": [],
   "source": [
    "def shuffle(df, key): \n",
    "    _df = df.reset_index()\n",
    "    labels = _df[key].values.reshape(-1, 2)\n",
    "    rng = np.random.default_rng()\n",
    "    rng.permuted(labels, axis=1, out=labels)\n",
    "    _df.set_index(df.index.names, inplace=True)\n",
    "    return _df"
   ]
  },
  {
   "cell_type": "code",
   "execution_count": 18,
   "metadata": {
    "execution": {
     "iopub.execute_input": "2021-06-12T19:47:34.233331Z",
     "iopub.status.busy": "2021-06-12T19:47:34.233204Z",
     "iopub.status.idle": "2021-06-12T19:48:02.222003Z",
     "shell.execute_reply": "2021-06-12T19:48:02.220357Z",
     "shell.execute_reply.started": "2021-06-12T19:47:34.233315Z"
    }
   },
   "outputs": [],
   "source": [
    "observed = get_relative_rebound(df)\n",
    "\n",
    "n_permutations = 10000\n",
    "permutations = list()\n",
    "for i in range(n_permutations):\n",
    "    permuted = shuffle(df, 'region')\n",
    "    permutations.append(get_relative_rebound(permuted))"
   ]
  },
  {
   "cell_type": "code",
   "execution_count": 19,
   "metadata": {
    "execution": {
     "iopub.execute_input": "2021-06-12T19:48:02.223997Z",
     "iopub.status.busy": "2021-06-12T19:48:02.223794Z",
     "iopub.status.idle": "2021-06-12T19:48:02.252028Z",
     "shell.execute_reply": "2021-06-12T19:48:02.251179Z",
     "shell.execute_reply.started": "2021-06-12T19:48:02.223968Z"
    }
   },
   "outputs": [],
   "source": [
    "perms = pd.Series(permutations).rename_axis(index='permutation').to_frame(name='relative_rebound')"
   ]
  },
  {
   "cell_type": "code",
   "execution_count": 20,
   "metadata": {
    "execution": {
     "iopub.execute_input": "2021-06-12T19:48:02.253038Z",
     "iopub.status.busy": "2021-06-12T19:48:02.252900Z",
     "iopub.status.idle": "2021-06-12T19:48:02.541327Z",
     "shell.execute_reply": "2021-06-12T19:48:02.540580Z",
     "shell.execute_reply.started": "2021-06-12T19:48:02.253022Z"
    }
   },
   "outputs": [
    {
     "data": {
      "image/png": "[encoded data removed]",
      "text/plain": [
       "<Figure size 360x360 with 1 Axes>"
      ]
     },
     "metadata": {
      "needs_background": "light"
     },
     "output_type": "display_data"
    }
   ],
   "source": [
    "g = sns.displot(data=perms, x='relative_rebound', kind='hist')\n",
    "g.set(xlabel='Relative rebound (CX - HC)')\n",
    "g.tight_layout()"
   ]
  },
  {
   "cell_type": "code",
   "execution_count": 21,
   "metadata": {
    "execution": {
     "iopub.execute_input": "2021-06-12T19:48:02.542174Z",
     "iopub.status.busy": "2021-06-12T19:48:02.542048Z",
     "iopub.status.idle": "2021-06-12T19:48:02.553477Z",
     "shell.execute_reply": "2021-06-12T19:48:02.552563Z",
     "shell.execute_reply.started": "2021-06-12T19:48:02.542159Z"
    }
   },
   "outputs": [],
   "source": [
    "p = np.sum(perms >= observed)"
   ]
  },
  {
   "cell_type": "code",
   "execution_count": 22,
   "metadata": {
    "execution": {
     "iopub.execute_input": "2021-06-12T19:48:02.554290Z",
     "iopub.status.busy": "2021-06-12T19:48:02.554165Z",
     "iopub.status.idle": "2021-06-12T19:48:02.567590Z",
     "shell.execute_reply": "2021-06-12T19:48:02.566651Z",
     "shell.execute_reply.started": "2021-06-12T19:48:02.554275Z"
    }
   },
   "outputs": [
    {
     "name": "stdout",
     "output_type": "stream",
     "text": [
      "Subject: Alessandro\n",
      "Observed relative rebound (CX - HC):\n",
      "\t67.14031727778406\n",
      "Shuffled >= observed:\n",
      "\t1 / 10000\n"
     ]
    }
   ],
   "source": [
    "print(f\"Subject: {subject}\")\n",
    "print('Observed relative rebound (CX - HC):')\n",
    "print(f'\\t{observed}')\n",
    "print('Shuffled >= observed:')\n",
    "print(f\"\\t{1 + p.squeeze()} / {n_permutations}\")"
   ]
  }
 ],
 "metadata": {
  "kernelspec": {
   "display_name": "Python 3",
   "language": "python",
   "name": "python3"
  },
  "language_info": {
   "codemirror_mode": {
    "name": "ipython",
    "version": 3
   },
   "file_extension": ".py",
   "mimetype": "text/x-python",
   "name": "python",
   "nbconvert_exporter": "python",
   "pygments_lexer": "ipython3",
   "version": "3.7.9"
  }
 },
 "nbformat": 4,
 "nbformat_minor": 4
}
