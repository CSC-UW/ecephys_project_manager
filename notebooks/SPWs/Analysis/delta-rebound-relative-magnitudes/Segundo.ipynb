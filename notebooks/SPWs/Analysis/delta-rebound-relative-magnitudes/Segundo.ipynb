{
 "cells": [
  {
   "cell_type": "code",
   "execution_count": 180,
   "metadata": {
    "execution": {
     "iopub.execute_input": "2021-06-14T19:27:28.100837Z",
     "iopub.status.busy": "2021-06-14T19:27:28.100356Z",
     "iopub.status.idle": "2021-06-14T19:27:28.122460Z",
     "shell.execute_reply": "2021-06-14T19:27:28.121768Z",
     "shell.execute_reply.started": "2021-06-14T19:27:28.100778Z"
    }
   },
   "outputs": [
    {
     "name": "stdout",
     "output_type": "stream",
     "text": [
      "The autoreload extension is already loaded. To reload it, use:\n",
      "  %reload_ext autoreload\n"
     ]
    }
   ],
   "source": [
    "%load_ext autoreload\n",
    "%autoreload 2"
   ]
  },
  {
   "cell_type": "code",
   "execution_count": 181,
   "metadata": {
    "execution": {
     "iopub.execute_input": "2021-06-14T19:27:28.334376Z",
     "iopub.status.busy": "2021-06-14T19:27:28.334128Z",
     "iopub.status.idle": "2021-06-14T19:27:28.351586Z",
     "shell.execute_reply": "2021-06-14T19:27:28.350833Z",
     "shell.execute_reply.started": "2021-06-14T19:27:28.334343Z"
    }
   },
   "outputs": [],
   "source": [
    "# %matplotlib widget\n",
    "import matplotlib.pyplot as plt\n",
    "import seaborn as sns"
   ]
  },
  {
   "cell_type": "code",
   "execution_count": 182,
   "metadata": {
    "execution": {
     "iopub.execute_input": "2021-06-14T19:27:28.542545Z",
     "iopub.status.busy": "2021-06-14T19:27:28.542396Z",
     "iopub.status.idle": "2021-06-14T19:27:28.559101Z",
     "shell.execute_reply": "2021-06-14T19:27:28.558102Z",
     "shell.execute_reply.started": "2021-06-14T19:27:28.542526Z"
    }
   },
   "outputs": [],
   "source": [
    "import xarray as xr\n",
    "import numpy as np\n",
    "import pandas as pd"
   ]
  },
  {
   "cell_type": "code",
   "execution_count": 183,
   "metadata": {
    "execution": {
     "iopub.execute_input": "2021-06-14T19:27:28.735821Z",
     "iopub.status.busy": "2021-06-14T19:27:28.735534Z",
     "iopub.status.idle": "2021-06-14T19:27:28.755429Z",
     "shell.execute_reply": "2021-06-14T19:27:28.754801Z",
     "shell.execute_reply.started": "2021-06-14T19:27:28.735787Z"
    }
   },
   "outputs": [
    {
     "data": {
      "text/plain": [
       "<xarray.core.options.set_options at 0x7fc7f3c84d10>"
      ]
     },
     "execution_count": 183,
     "metadata": {},
     "output_type": "execute_result"
    }
   ],
   "source": [
    "xr.set_options(keep_attrs=True)"
   ]
  },
  {
   "cell_type": "code",
   "execution_count": 184,
   "metadata": {
    "execution": {
     "iopub.execute_input": "2021-06-14T19:27:28.942769Z",
     "iopub.status.busy": "2021-06-14T19:27:28.942402Z",
     "iopub.status.idle": "2021-06-14T19:27:28.963164Z",
     "shell.execute_reply": "2021-06-14T19:27:28.962277Z",
     "shell.execute_reply.started": "2021-06-14T19:27:28.942721Z"
    }
   },
   "outputs": [],
   "source": [
    "import ecephys_analyses as ea \n",
    "from ecephys import utils\n",
    "from ecephys.signal.xarray_utils import filter_dataset_by_hypnogram"
   ]
  },
  {
   "cell_type": "code",
   "execution_count": 185,
   "metadata": {
    "execution": {
     "iopub.execute_input": "2021-06-14T19:27:29.237806Z",
     "iopub.status.busy": "2021-06-14T19:27:29.237635Z",
     "iopub.status.idle": "2021-06-14T19:27:29.255574Z",
     "shell.execute_reply": "2021-06-14T19:27:29.255064Z",
     "shell.execute_reply.started": "2021-06-14T19:27:29.237785Z"
    }
   },
   "outputs": [],
   "source": [
    "subject = \"Segundo\"\n",
    "experiment = \"sleep-homeostasis\"\n",
    "norm_condition = \"light-period-circadian-match\"\n",
    "bsl_condition = \"recovery-sleep-circadian-match\"\n",
    "rec_condition = \"recovery-sleep\"\n",
    "states = [\"N1\", \"N2\"]\n",
    "duration = '02:00:00'\n",
    "light_period_start = '09:00:00'\n",
    "light_period_end = '21:00:00'\n",
    "f_range = (0.5, 4)"
   ]
  },
  {
   "cell_type": "code",
   "execution_count": 186,
   "metadata": {
    "execution": {
     "iopub.execute_input": "2021-06-14T19:27:29.526115Z",
     "iopub.status.busy": "2021-06-14T19:27:29.525868Z",
     "iopub.status.idle": "2021-06-14T19:27:36.746090Z",
     "shell.execute_reply": "2021-06-14T19:27:36.745360Z",
     "shell.execute_reply.started": "2021-06-14T19:27:29.526083Z"
    }
   },
   "outputs": [],
   "source": [
    "norm_hyp = ea.load_hypnogram(subject, experiment, norm_condition)\n",
    "norm_hyp = norm_hyp.keep_states(states).keep_between(light_period_start, light_period_end)\n",
    "\n",
    "norm_pow = ea.load_power(subject, experiment, norm_condition, \"spg.nc\").sel(frequency=slice(*f_range)).sum(dim=\"frequency\")\n",
    "norm_pow = filter_dataset_by_hypnogram(norm_pow, norm_hyp).swap_dims({'time': 'datetime'}).drop_vars(['time', 'timedelta'])"
   ]
  },
  {
   "cell_type": "code",
   "execution_count": 187,
   "metadata": {
    "execution": {
     "iopub.execute_input": "2021-06-14T19:27:36.789620Z",
     "iopub.status.busy": "2021-06-14T19:27:36.789491Z",
     "iopub.status.idle": "2021-06-14T19:27:40.603393Z",
     "shell.execute_reply": "2021-06-14T19:27:40.602672Z",
     "shell.execute_reply.started": "2021-06-14T19:27:36.789604Z"
    }
   },
   "outputs": [],
   "source": [
    "rec_hyp = ea.load_hypnogram(subject, experiment, rec_condition)\n",
    "rec_hyp = rec_hyp.keep_states(states).keep_first(duration)\n",
    "\n",
    "rec_pow = ea.load_power(subject, experiment, rec_condition, \"spg.nc\").sel(frequency=slice(*f_range)).sum(dim='frequency')\n",
    "rec_pow = filter_dataset_by_hypnogram(rec_pow, rec_hyp).swap_dims({'time': 'datetime'}).drop_vars(['time', 'timedelta'])\n",
    "rec_pow = rec_pow / norm_pow.mean(dim=\"datetime\") * 100"
   ]
  },
  {
   "cell_type": "code",
   "execution_count": 188,
   "metadata": {
    "execution": {
     "iopub.execute_input": "2021-06-14T19:27:40.604510Z",
     "iopub.status.busy": "2021-06-14T19:27:40.604355Z",
     "iopub.status.idle": "2021-06-14T19:27:42.241709Z",
     "shell.execute_reply": "2021-06-14T19:27:42.240883Z",
     "shell.execute_reply.started": "2021-06-14T19:27:40.604491Z"
    }
   },
   "outputs": [],
   "source": [
    "bsl_hyp = ea.load_hypnogram(subject, experiment, bsl_condition)\n",
    "bsl_hyp = bsl_hyp.keep_states(states).keep_between(rec_hyp.start_time.min().strftime(\"%H:%M:%S\"), light_period_end).keep_first(duration)\n",
    "\n",
    "bsl_pow = ea.load_power(subject, experiment, bsl_condition, \"spg.nc\").sel(frequency=slice(*f_range)).sum(dim='frequency')\n",
    "bsl_pow = filter_dataset_by_hypnogram(bsl_pow, bsl_hyp).swap_dims({'time': 'datetime'}).drop_vars(['time', 'timedelta'])\n",
    "bsl_pow = bsl_pow / norm_pow.mean(dim=\"datetime\") * 100"
   ]
  },
  {
   "cell_type": "code",
   "execution_count": 189,
   "metadata": {
    "execution": {
     "iopub.execute_input": "2021-06-14T19:27:42.242574Z",
     "iopub.status.busy": "2021-06-14T19:27:42.242434Z",
     "iopub.status.idle": "2021-06-14T19:27:42.255595Z",
     "shell.execute_reply": "2021-06-14T19:27:42.254782Z",
     "shell.execute_reply.started": "2021-06-14T19:27:42.242556Z"
    }
   },
   "outputs": [],
   "source": [
    "def match_lengths(dataframes):\n",
    "    length = min(list(map(len, dataframes)))\n",
    "    return (df.iloc[:length] for df in dataframes)"
   ]
  },
  {
   "cell_type": "code",
   "execution_count": 190,
   "metadata": {
    "execution": {
     "iopub.execute_input": "2021-06-14T19:27:42.256327Z",
     "iopub.status.busy": "2021-06-14T19:27:42.256201Z",
     "iopub.status.idle": "2021-06-14T19:27:42.275335Z",
     "shell.execute_reply": "2021-06-14T19:27:42.274997Z",
     "shell.execute_reply.started": "2021-06-14T19:27:42.256310Z"
    }
   },
   "outputs": [],
   "source": [
    "bsl_df = bsl_pow.to_dataframe().reset_index(drop=True).rename_axis(index='pair', columns='region').stack().to_frame(name='baseline')\n",
    "rec_df = rec_pow.to_dataframe().reset_index(drop=True).rename_axis(index='pair', columns='region').stack().to_frame(name='recovery')\n",
    "bsl_df, rec_df = match_lengths((bsl_df, rec_df))\n",
    "df = bsl_df.join(rec_df).rename_axis(columns='condition')"
   ]
  },
  {
   "cell_type": "code",
   "execution_count": 191,
   "metadata": {
    "execution": {
     "iopub.execute_input": "2021-06-14T19:27:42.276003Z",
     "iopub.status.busy": "2021-06-14T19:27:42.275878Z",
     "iopub.status.idle": "2021-06-14T19:27:42.287702Z",
     "shell.execute_reply": "2021-06-14T19:27:42.287362Z",
     "shell.execute_reply.started": "2021-06-14T19:27:42.275988Z"
    }
   },
   "outputs": [],
   "source": [
    "df_plot = df.stack().to_frame(name='power')\n",
    "df_plot['log_power'] = np.log(df_plot.power)\n",
    "df_plot['sqrt_power'] = np.sqrt(df_plot.power)"
   ]
  },
  {
   "cell_type": "code",
   "execution_count": 192,
   "metadata": {
    "execution": {
     "iopub.execute_input": "2021-06-14T19:27:42.288813Z",
     "iopub.status.busy": "2021-06-14T19:27:42.288684Z",
     "iopub.status.idle": "2021-06-14T19:27:43.066137Z",
     "shell.execute_reply": "2021-06-14T19:27:43.065615Z",
     "shell.execute_reply.started": "2021-06-14T19:27:42.288797Z"
    }
   },
   "outputs": [
    {
     "data": {
      "image/png": "[encoded data removed]",
      "text/plain": [
       "<Figure size 799.5x360 with 2 Axes>"
      ]
     },
     "metadata": {
      "needs_background": "light"
     },
     "output_type": "display_data"
    }
   ],
   "source": [
    "g = sns.displot(data=df_plot, x='power', hue='condition', col='region', kind='hist')\n",
    "g.set(xlabel='Delta (0.5 - 4Hz) PSD (uV^2/Hz)')\n",
    "g.tight_layout()"
   ]
  },
  {
   "cell_type": "code",
   "execution_count": 193,
   "metadata": {
    "execution": {
     "iopub.execute_input": "2021-06-14T19:27:43.067118Z",
     "iopub.status.busy": "2021-06-14T19:27:43.066983Z",
     "iopub.status.idle": "2021-06-14T19:27:43.733080Z",
     "shell.execute_reply": "2021-06-14T19:27:43.732485Z",
     "shell.execute_reply.started": "2021-06-14T19:27:43.067101Z"
    }
   },
   "outputs": [
    {
     "data": {
      "image/png": "[encoded data removed]",
      "text/plain": [
       "<Figure size 799.5x360 with 2 Axes>"
      ]
     },
     "metadata": {
      "needs_background": "light"
     },
     "output_type": "display_data"
    }
   ],
   "source": [
    "g = sns.displot(data=df_plot, x='log_power', hue='condition', col='region', kind='hist')\n",
    "g.set(xlabel='Delta (0.5 - 4Hz) PSD (uV^2/Hz)')\n",
    "g.tight_layout()"
   ]
  },
  {
   "cell_type": "code",
   "execution_count": 194,
   "metadata": {
    "execution": {
     "iopub.execute_input": "2021-06-14T19:27:43.733886Z",
     "iopub.status.busy": "2021-06-14T19:27:43.733755Z",
     "iopub.status.idle": "2021-06-14T19:27:44.461918Z",
     "shell.execute_reply": "2021-06-14T19:27:44.461244Z",
     "shell.execute_reply.started": "2021-06-14T19:27:43.733869Z"
    }
   },
   "outputs": [
    {
     "data": {
      "image/png": "[encoded data removed]",
      "text/plain": [
       "<Figure size 799.5x360 with 2 Axes>"
      ]
     },
     "metadata": {
      "needs_background": "light"
     },
     "output_type": "display_data"
    }
   ],
   "source": [
    "g = sns.displot(data=df_plot, x='sqrt_power', hue='condition', col='region', kind='hist')\n",
    "g.set(xlabel='Delta (0.5 - 4Hz) PSD (uV^2/Hz)')\n",
    "g.tight_layout()"
   ]
  },
  {
   "cell_type": "code",
   "execution_count": 195,
   "metadata": {
    "execution": {
     "iopub.execute_input": "2021-06-14T19:27:44.462766Z",
     "iopub.status.busy": "2021-06-14T19:27:44.462626Z",
     "iopub.status.idle": "2021-06-14T19:27:44.476410Z",
     "shell.execute_reply": "2021-06-14T19:27:44.475516Z",
     "shell.execute_reply.started": "2021-06-14T19:27:44.462748Z"
    }
   },
   "outputs": [],
   "source": [
    "def get_relative_rebound(df):\n",
    "    means = df.groupby('region').mean()\n",
    "    rebounds = means.recovery - means.baseline\n",
    "    return rebounds.mpta_wm_ref - rebounds.sr_wm_ref"
   ]
  },
  {
   "cell_type": "code",
   "execution_count": 196,
   "metadata": {
    "execution": {
     "iopub.execute_input": "2021-06-14T19:27:44.519353Z",
     "iopub.status.busy": "2021-06-14T19:27:44.519233Z",
     "iopub.status.idle": "2021-06-14T19:27:44.530463Z",
     "shell.execute_reply": "2021-06-14T19:27:44.529638Z",
     "shell.execute_reply.started": "2021-06-14T19:27:44.519338Z"
    }
   },
   "outputs": [],
   "source": [
    "def shuffle(df, key): \n",
    "    _df = df.reset_index()\n",
    "    labels = _df[key].values.reshape(-1, 2)\n",
    "    rng = np.random.default_rng()\n",
    "    rng.permuted(labels, axis=1, out=labels)\n",
    "    _df.set_index(df.index.names, inplace=True)\n",
    "    return _df"
   ]
  },
  {
   "cell_type": "code",
   "execution_count": 197,
   "metadata": {
    "execution": {
     "iopub.execute_input": "2021-06-14T19:27:44.736150Z",
     "iopub.status.busy": "2021-06-14T19:27:44.736029Z",
     "iopub.status.idle": "2021-06-14T19:27:44.753049Z",
     "shell.execute_reply": "2021-06-14T19:27:44.752449Z",
     "shell.execute_reply.started": "2021-06-14T19:27:44.736135Z"
    }
   },
   "outputs": [
    {
     "data": {
      "text/html": [
       "<div>\n",
       "<style scoped>\n",
       "    .dataframe tbody tr th:only-of-type {\n",
       "        vertical-align: middle;\n",
       "    }\n",
       "\n",
       "    .dataframe tbody tr th {\n",
       "        vertical-align: top;\n",
       "    }\n",
       "\n",
       "    .dataframe thead th {\n",
       "        text-align: right;\n",
       "    }\n",
       "</style>\n",
       "<table border=\"1\" class=\"dataframe\">\n",
       "  <thead>\n",
       "    <tr style=\"text-align: right;\">\n",
       "      <th></th>\n",
       "      <th>condition</th>\n",
       "      <th>baseline</th>\n",
       "      <th>recovery</th>\n",
       "    </tr>\n",
       "    <tr>\n",
       "      <th>pair</th>\n",
       "      <th>region</th>\n",
       "      <th></th>\n",
       "      <th></th>\n",
       "    </tr>\n",
       "  </thead>\n",
       "  <tbody>\n",
       "    <tr>\n",
       "      <th rowspan=\"2\" valign=\"top\">0</th>\n",
       "      <th>mpta_wm_ref</th>\n",
       "      <td>11.042340</td>\n",
       "      <td>50.342931</td>\n",
       "    </tr>\n",
       "    <tr>\n",
       "      <th>sr_wm_ref</th>\n",
       "      <td>35.280193</td>\n",
       "      <td>45.982267</td>\n",
       "    </tr>\n",
       "    <tr>\n",
       "      <th rowspan=\"2\" valign=\"top\">1</th>\n",
       "      <th>mpta_wm_ref</th>\n",
       "      <td>5.083761</td>\n",
       "      <td>72.824220</td>\n",
       "    </tr>\n",
       "    <tr>\n",
       "      <th>sr_wm_ref</th>\n",
       "      <td>21.049922</td>\n",
       "      <td>27.231133</td>\n",
       "    </tr>\n",
       "    <tr>\n",
       "      <th>2</th>\n",
       "      <th>mpta_wm_ref</th>\n",
       "      <td>4.539901</td>\n",
       "      <td>8.242042</td>\n",
       "    </tr>\n",
       "    <tr>\n",
       "      <th>...</th>\n",
       "      <th>...</th>\n",
       "      <td>...</td>\n",
       "      <td>...</td>\n",
       "    </tr>\n",
       "    <tr>\n",
       "      <th>2352</th>\n",
       "      <th>sr_wm_ref</th>\n",
       "      <td>250.058352</td>\n",
       "      <td>85.321279</td>\n",
       "    </tr>\n",
       "    <tr>\n",
       "      <th rowspan=\"2\" valign=\"top\">2353</th>\n",
       "      <th>mpta_wm_ref</th>\n",
       "      <td>9.052443</td>\n",
       "      <td>113.484671</td>\n",
       "    </tr>\n",
       "    <tr>\n",
       "      <th>sr_wm_ref</th>\n",
       "      <td>116.025518</td>\n",
       "      <td>110.291088</td>\n",
       "    </tr>\n",
       "    <tr>\n",
       "      <th rowspan=\"2\" valign=\"top\">2354</th>\n",
       "      <th>mpta_wm_ref</th>\n",
       "      <td>24.729004</td>\n",
       "      <td>85.995982</td>\n",
       "    </tr>\n",
       "    <tr>\n",
       "      <th>sr_wm_ref</th>\n",
       "      <td>110.103826</td>\n",
       "      <td>176.382399</td>\n",
       "    </tr>\n",
       "  </tbody>\n",
       "</table>\n",
       "<p>4710 rows × 2 columns</p>\n",
       "</div>"
      ],
      "text/plain": [
       "condition           baseline    recovery\n",
       "pair region                             \n",
       "0    mpta_wm_ref   11.042340   50.342931\n",
       "     sr_wm_ref     35.280193   45.982267\n",
       "1    mpta_wm_ref    5.083761   72.824220\n",
       "     sr_wm_ref     21.049922   27.231133\n",
       "2    mpta_wm_ref    4.539901    8.242042\n",
       "...                      ...         ...\n",
       "2352 sr_wm_ref    250.058352   85.321279\n",
       "2353 mpta_wm_ref    9.052443  113.484671\n",
       "     sr_wm_ref    116.025518  110.291088\n",
       "2354 mpta_wm_ref   24.729004   85.995982\n",
       "     sr_wm_ref    110.103826  176.382399\n",
       "\n",
       "[4710 rows x 2 columns]"
      ]
     },
     "execution_count": 197,
     "metadata": {},
     "output_type": "execute_result"
    }
   ],
   "source": [
    "df"
   ]
  },
  {
   "cell_type": "code",
   "execution_count": 198,
   "metadata": {
    "execution": {
     "iopub.execute_input": "2021-06-14T19:27:51.553258Z",
     "iopub.status.busy": "2021-06-14T19:27:51.552790Z",
     "iopub.status.idle": "2021-06-14T19:27:51.582743Z",
     "shell.execute_reply": "2021-06-14T19:27:51.581914Z",
     "shell.execute_reply.started": "2021-06-14T19:27:51.553205Z"
    }
   },
   "outputs": [
    {
     "data": {
      "text/html": [
       "<div>\n",
       "<style scoped>\n",
       "    .dataframe tbody tr th:only-of-type {\n",
       "        vertical-align: middle;\n",
       "    }\n",
       "\n",
       "    .dataframe tbody tr th {\n",
       "        vertical-align: top;\n",
       "    }\n",
       "\n",
       "    .dataframe thead th {\n",
       "        text-align: right;\n",
       "    }\n",
       "</style>\n",
       "<table border=\"1\" class=\"dataframe\">\n",
       "  <thead>\n",
       "    <tr style=\"text-align: right;\">\n",
       "      <th></th>\n",
       "      <th>condition</th>\n",
       "      <th>baseline</th>\n",
       "      <th>recovery</th>\n",
       "    </tr>\n",
       "    <tr>\n",
       "      <th>pair</th>\n",
       "      <th>region</th>\n",
       "      <th></th>\n",
       "      <th></th>\n",
       "    </tr>\n",
       "  </thead>\n",
       "  <tbody>\n",
       "    <tr>\n",
       "      <th rowspan=\"2\" valign=\"top\">0</th>\n",
       "      <th>mpta_wm_ref</th>\n",
       "      <td>11.042340</td>\n",
       "      <td>50.342931</td>\n",
       "    </tr>\n",
       "    <tr>\n",
       "      <th>sr_wm_ref</th>\n",
       "      <td>35.280193</td>\n",
       "      <td>45.982267</td>\n",
       "    </tr>\n",
       "    <tr>\n",
       "      <th rowspan=\"2\" valign=\"top\">1</th>\n",
       "      <th>sr_wm_ref</th>\n",
       "      <td>5.083761</td>\n",
       "      <td>72.824220</td>\n",
       "    </tr>\n",
       "    <tr>\n",
       "      <th>mpta_wm_ref</th>\n",
       "      <td>21.049922</td>\n",
       "      <td>27.231133</td>\n",
       "    </tr>\n",
       "    <tr>\n",
       "      <th>2</th>\n",
       "      <th>sr_wm_ref</th>\n",
       "      <td>4.539901</td>\n",
       "      <td>8.242042</td>\n",
       "    </tr>\n",
       "    <tr>\n",
       "      <th>...</th>\n",
       "      <th>...</th>\n",
       "      <td>...</td>\n",
       "      <td>...</td>\n",
       "    </tr>\n",
       "    <tr>\n",
       "      <th>2352</th>\n",
       "      <th>mpta_wm_ref</th>\n",
       "      <td>250.058352</td>\n",
       "      <td>85.321279</td>\n",
       "    </tr>\n",
       "    <tr>\n",
       "      <th rowspan=\"2\" valign=\"top\">2353</th>\n",
       "      <th>mpta_wm_ref</th>\n",
       "      <td>9.052443</td>\n",
       "      <td>113.484671</td>\n",
       "    </tr>\n",
       "    <tr>\n",
       "      <th>sr_wm_ref</th>\n",
       "      <td>116.025518</td>\n",
       "      <td>110.291088</td>\n",
       "    </tr>\n",
       "    <tr>\n",
       "      <th rowspan=\"2\" valign=\"top\">2354</th>\n",
       "      <th>sr_wm_ref</th>\n",
       "      <td>24.729004</td>\n",
       "      <td>85.995982</td>\n",
       "    </tr>\n",
       "    <tr>\n",
       "      <th>mpta_wm_ref</th>\n",
       "      <td>110.103826</td>\n",
       "      <td>176.382399</td>\n",
       "    </tr>\n",
       "  </tbody>\n",
       "</table>\n",
       "<p>4710 rows × 2 columns</p>\n",
       "</div>"
      ],
      "text/plain": [
       "condition           baseline    recovery\n",
       "pair region                             \n",
       "0    mpta_wm_ref   11.042340   50.342931\n",
       "     sr_wm_ref     35.280193   45.982267\n",
       "1    sr_wm_ref      5.083761   72.824220\n",
       "     mpta_wm_ref   21.049922   27.231133\n",
       "2    sr_wm_ref      4.539901    8.242042\n",
       "...                      ...         ...\n",
       "2352 mpta_wm_ref  250.058352   85.321279\n",
       "2353 mpta_wm_ref    9.052443  113.484671\n",
       "     sr_wm_ref    116.025518  110.291088\n",
       "2354 sr_wm_ref     24.729004   85.995982\n",
       "     mpta_wm_ref  110.103826  176.382399\n",
       "\n",
       "[4710 rows x 2 columns]"
      ]
     },
     "execution_count": 198,
     "metadata": {},
     "output_type": "execute_result"
    }
   ],
   "source": [
    "shuffle(df, 'region')"
   ]
  },
  {
   "cell_type": "code",
   "execution_count": 154,
   "metadata": {
    "execution": {
     "iopub.execute_input": "2021-06-12T19:39:25.634211Z",
     "iopub.status.busy": "2021-06-12T19:39:25.633778Z",
     "iopub.status.idle": "2021-06-12T19:39:53.267541Z",
     "shell.execute_reply": "2021-06-12T19:39:53.266425Z",
     "shell.execute_reply.started": "2021-06-12T19:39:25.634155Z"
    }
   },
   "outputs": [],
   "source": [
    "observed = get_relative_rebound(df)\n",
    "\n",
    "n_permutations = 10000\n",
    "permutations = list()\n",
    "for i in range(n_permutations):\n",
    "    permuted = shuffle(df, 'region')\n",
    "    permutations.append(get_relative_rebound(permuted))"
   ]
  },
  {
   "cell_type": "code",
   "execution_count": 163,
   "metadata": {
    "execution": {
     "iopub.execute_input": "2021-06-12T19:41:27.227921Z",
     "iopub.status.busy": "2021-06-12T19:41:27.227413Z",
     "iopub.status.idle": "2021-06-12T19:41:27.250450Z",
     "shell.execute_reply": "2021-06-12T19:41:27.249629Z",
     "shell.execute_reply.started": "2021-06-12T19:41:27.227860Z"
    }
   },
   "outputs": [],
   "source": [
    "perms = pd.Series(permutations).rename_axis(index='permutation').to_frame(name='relative_rebound')"
   ]
  },
  {
   "cell_type": "code",
   "execution_count": 166,
   "metadata": {
    "execution": {
     "iopub.execute_input": "2021-06-12T19:42:12.797102Z",
     "iopub.status.busy": "2021-06-12T19:42:12.796614Z",
     "iopub.status.idle": "2021-06-12T19:42:13.041908Z",
     "shell.execute_reply": "2021-06-12T19:42:13.041227Z",
     "shell.execute_reply.started": "2021-06-12T19:42:12.797040Z"
    }
   },
   "outputs": [
    {
     "data": {
      "image/png": "[encoded data removed]",
      "text/plain": [
       "<Figure size 360x360 with 1 Axes>"
      ]
     },
     "metadata": {
      "needs_background": "light"
     },
     "output_type": "display_data"
    }
   ],
   "source": [
    "g = sns.displot(data=perms, x='relative_rebound', kind='hist')\n",
    "g.set(xlabel='Relative rebound (CX - HC)')\n",
    "g.tight_layout()"
   ]
  },
  {
   "cell_type": "code",
   "execution_count": 170,
   "metadata": {
    "execution": {
     "iopub.execute_input": "2021-06-12T19:43:21.307953Z",
     "iopub.status.busy": "2021-06-12T19:43:21.307452Z",
     "iopub.status.idle": "2021-06-12T19:43:21.329785Z",
     "shell.execute_reply": "2021-06-12T19:43:21.328606Z",
     "shell.execute_reply.started": "2021-06-12T19:43:21.307892Z"
    }
   },
   "outputs": [],
   "source": [
    "p = np.sum(perms >= observed)"
   ]
  },
  {
   "cell_type": "code",
   "execution_count": 178,
   "metadata": {
    "execution": {
     "iopub.execute_input": "2021-06-12T19:45:38.770356Z",
     "iopub.status.busy": "2021-06-12T19:45:38.770042Z",
     "iopub.status.idle": "2021-06-12T19:45:38.789086Z",
     "shell.execute_reply": "2021-06-12T19:45:38.788450Z",
     "shell.execute_reply.started": "2021-06-12T19:45:38.770319Z"
    }
   },
   "outputs": [
    {
     "name": "stdout",
     "output_type": "stream",
     "text": [
      "Subject: Segundo\n",
      "Observed relative rebound (CX - HC):\n",
      "\t132.47463643580204\n",
      "Shuffled >= observed:\n",
      "\t1 / 10000\n"
     ]
    }
   ],
   "source": [
    "print(f\"Subject: {subject}\")\n",
    "print('Observed relative rebound (CX - HC):')\n",
    "print(f'\\t{observed}')\n",
    "print('Shuffled >= observed:')\n",
    "print(f\"\\t{1 + p.squeeze()} / {n_permutations}\")"
   ]
  }
 ],
 "metadata": {
  "kernelspec": {
   "display_name": "Python 3",
   "language": "python",
   "name": "python3"
  },
  "language_info": {
   "codemirror_mode": {
    "name": "ipython",
    "version": 3
   },
   "file_extension": ".py",
   "mimetype": "text/x-python",
   "name": "python",
   "nbconvert_exporter": "python",
   "pygments_lexer": "ipython3",
   "version": "3.7.9"
  }
 },
 "nbformat": 4,
 "nbformat_minor": 4
}
