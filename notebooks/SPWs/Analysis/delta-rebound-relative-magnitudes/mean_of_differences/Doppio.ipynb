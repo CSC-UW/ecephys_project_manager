{
 "cells": [
  {
   "cell_type": "code",
   "execution_count": 1,
   "metadata": {
    "execution": {
     "iopub.execute_input": "2021-06-11T00:51:06.455286Z",
     "iopub.status.busy": "2021-06-11T00:51:06.454839Z",
     "iopub.status.idle": "2021-06-11T00:51:06.470827Z",
     "shell.execute_reply": "2021-06-11T00:51:06.469986Z",
     "shell.execute_reply.started": "2021-06-11T00:51:06.455147Z"
    }
   },
   "outputs": [],
   "source": [
    "%load_ext autoreload\n",
    "%autoreload 2"
   ]
  },
  {
   "cell_type": "code",
   "execution_count": 2,
   "metadata": {
    "execution": {
     "iopub.execute_input": "2021-06-11T00:51:06.472544Z",
     "iopub.status.busy": "2021-06-11T00:51:06.472261Z",
     "iopub.status.idle": "2021-06-11T00:51:07.754180Z",
     "shell.execute_reply": "2021-06-11T00:51:07.753132Z",
     "shell.execute_reply.started": "2021-06-11T00:51:06.472506Z"
    }
   },
   "outputs": [],
   "source": [
    "# %matplotlib widget\n",
    "import matplotlib.pyplot as plt\n",
    "import seaborn as sns"
   ]
  },
  {
   "cell_type": "code",
   "execution_count": 3,
   "metadata": {
    "execution": {
     "iopub.execute_input": "2021-06-11T00:51:07.756439Z",
     "iopub.status.busy": "2021-06-11T00:51:07.756147Z",
     "iopub.status.idle": "2021-06-11T00:51:08.470150Z",
     "shell.execute_reply": "2021-06-11T00:51:08.469123Z",
     "shell.execute_reply.started": "2021-06-11T00:51:07.756398Z"
    }
   },
   "outputs": [],
   "source": [
    "import xarray as xr\n",
    "import numpy as np\n",
    "import pandas as pd"
   ]
  },
  {
   "cell_type": "code",
   "execution_count": 4,
   "metadata": {
    "execution": {
     "iopub.execute_input": "2021-06-11T00:51:08.472180Z",
     "iopub.status.busy": "2021-06-11T00:51:08.471891Z",
     "iopub.status.idle": "2021-06-11T00:51:08.500928Z",
     "shell.execute_reply": "2021-06-11T00:51:08.500114Z",
     "shell.execute_reply.started": "2021-06-11T00:51:08.472142Z"
    }
   },
   "outputs": [
    {
     "data": {
      "text/plain": [
       "<xarray.core.options.set_options at 0x7f1da489c750>"
      ]
     },
     "execution_count": 4,
     "metadata": {},
     "output_type": "execute_result"
    }
   ],
   "source": [
    "xr.set_options(keep_attrs=True)"
   ]
  },
  {
   "cell_type": "code",
   "execution_count": 5,
   "metadata": {
    "execution": {
     "iopub.execute_input": "2021-06-11T00:51:08.502400Z",
     "iopub.status.busy": "2021-06-11T00:51:08.502133Z",
     "iopub.status.idle": "2021-06-11T00:51:08.528032Z",
     "shell.execute_reply": "2021-06-11T00:51:08.527194Z",
     "shell.execute_reply.started": "2021-06-11T00:51:08.502364Z"
    }
   },
   "outputs": [],
   "source": [
    "import ecephys_analyses as ea \n",
    "from ecephys import utils\n",
    "from ecephys.signal.xarray_utils import filter_dataset_by_hypnogram"
   ]
  },
  {
   "cell_type": "code",
   "execution_count": 6,
   "metadata": {
    "execution": {
     "iopub.execute_input": "2021-06-11T00:51:08.529505Z",
     "iopub.status.busy": "2021-06-11T00:51:08.529224Z",
     "iopub.status.idle": "2021-06-11T00:51:08.551056Z",
     "shell.execute_reply": "2021-06-11T00:51:08.550193Z",
     "shell.execute_reply.started": "2021-06-11T00:51:08.529469Z"
    }
   },
   "outputs": [],
   "source": [
    "def ds2df(ds):\n",
    "    s = ds.to_dataframe().stack()\n",
    "    s.index.names = s.index.names[:-1] + ['region']\n",
    "    return s.to_frame(name='power')"
   ]
  },
  {
   "cell_type": "code",
   "execution_count": 7,
   "metadata": {
    "execution": {
     "iopub.execute_input": "2021-06-11T00:51:08.552560Z",
     "iopub.status.busy": "2021-06-11T00:51:08.552288Z",
     "iopub.status.idle": "2021-06-11T00:51:08.575765Z",
     "shell.execute_reply": "2021-06-11T00:51:08.574878Z",
     "shell.execute_reply.started": "2021-06-11T00:51:08.552524Z"
    }
   },
   "outputs": [],
   "source": [
    "subject = \"Doppio\"\n",
    "experiment = \"sleep-homeostasis\"\n",
    "norm_condition = \"light-period-circadian-match\"\n",
    "bsl_condition = \"recovery-sleep-circadian-match\"\n",
    "rec_condition = \"recovery-sleep\"\n",
    "states = [\"N1\", \"N2\"]\n",
    "duration = '02:00:00'\n",
    "light_period_start = '09:00:00'\n",
    "light_period_end = '21:00:00'\n",
    "f_range = (0.5, 4)"
   ]
  },
  {
   "cell_type": "code",
   "execution_count": 8,
   "metadata": {
    "execution": {
     "iopub.execute_input": "2021-06-11T00:51:08.577253Z",
     "iopub.status.busy": "2021-06-11T00:51:08.576966Z",
     "iopub.status.idle": "2021-06-11T00:51:12.606975Z",
     "shell.execute_reply": "2021-06-11T00:51:12.606226Z",
     "shell.execute_reply.started": "2021-06-11T00:51:08.577216Z"
    }
   },
   "outputs": [],
   "source": [
    "norm_hyp = ea.load_hypnogram(subject, experiment, norm_condition)\n",
    "norm_hyp = norm_hyp.keep_states(states).keep_between(light_period_start, light_period_end)\n",
    "\n",
    "norm_pow = ea.load_power(subject, experiment, norm_condition, \"spg.nc\").sel(frequency=slice(*f_range)).sum(dim=\"frequency\")\n",
    "norm_pow = filter_dataset_by_hypnogram(norm_pow, norm_hyp).swap_dims({'time': 'datetime'}).drop_vars(['time', 'timedelta'])"
   ]
  },
  {
   "cell_type": "code",
   "execution_count": 9,
   "metadata": {
    "execution": {
     "iopub.execute_input": "2021-06-11T00:51:12.608947Z",
     "iopub.status.busy": "2021-06-11T00:51:12.608755Z",
     "iopub.status.idle": "2021-06-11T00:51:14.477219Z",
     "shell.execute_reply": "2021-06-11T00:51:14.476254Z",
     "shell.execute_reply.started": "2021-06-11T00:51:12.608911Z"
    }
   },
   "outputs": [],
   "source": [
    "rec_hyp = ea.load_hypnogram(subject, experiment, rec_condition)\n",
    "rec_hyp = rec_hyp.keep_states(states).keep_first(duration)\n",
    "\n",
    "rec_pow = ea.load_power(subject, experiment, rec_condition, \"spg.nc\").sel(frequency=slice(*f_range)).sum(dim='frequency')\n",
    "rec_pow = filter_dataset_by_hypnogram(rec_pow, rec_hyp).swap_dims({'time': 'datetime'}).drop_vars(['time', 'timedelta'])\n",
    "rec_pow = rec_pow / norm_pow.mean(dim=\"datetime\") * 100"
   ]
  },
  {
   "cell_type": "code",
   "execution_count": 10,
   "metadata": {
    "execution": {
     "iopub.execute_input": "2021-06-11T00:51:14.479604Z",
     "iopub.status.busy": "2021-06-11T00:51:14.479309Z",
     "iopub.status.idle": "2021-06-11T00:51:16.543149Z",
     "shell.execute_reply": "2021-06-11T00:51:16.542191Z",
     "shell.execute_reply.started": "2021-06-11T00:51:14.479564Z"
    }
   },
   "outputs": [],
   "source": [
    "bsl_hyp = ea.load_hypnogram(subject, experiment, bsl_condition)\n",
    "bsl_hyp = bsl_hyp.keep_states(states).keep_between(rec_hyp.start_time.min().strftime(\"%H:%M:%S\"), light_period_end).keep_first(duration)\n",
    "\n",
    "bsl_pow = ea.load_power(subject, experiment, bsl_condition, \"spg.nc\").sel(frequency=slice(*f_range)).sum(dim='frequency')\n",
    "bsl_pow = filter_dataset_by_hypnogram(bsl_pow, bsl_hyp).swap_dims({'time': 'datetime'}).drop_vars(['time', 'timedelta'])\n",
    "bsl_pow = bsl_pow / norm_pow.mean(dim=\"datetime\") * 100"
   ]
  },
  {
   "cell_type": "code",
   "execution_count": 11,
   "metadata": {
    "execution": {
     "iopub.execute_input": "2021-06-11T00:51:16.544787Z",
     "iopub.status.busy": "2021-06-11T00:51:16.544492Z",
     "iopub.status.idle": "2021-06-11T00:51:16.579994Z",
     "shell.execute_reply": "2021-06-11T00:51:16.579107Z",
     "shell.execute_reply.started": "2021-06-11T00:51:16.544747Z"
    }
   },
   "outputs": [],
   "source": [
    "nrem_pow = pd.concat([ds2df(bsl_pow).assign(condition=\"baseline\"), ds2df(rec_pow).assign(condition=\"recovery\")])"
   ]
  },
  {
   "cell_type": "code",
   "execution_count": 12,
   "metadata": {
    "execution": {
     "iopub.execute_input": "2021-06-11T00:51:16.581557Z",
     "iopub.status.busy": "2021-06-11T00:51:16.581272Z",
     "iopub.status.idle": "2021-06-11T00:51:16.621890Z",
     "shell.execute_reply": "2021-06-11T00:51:16.621019Z",
     "shell.execute_reply.started": "2021-06-11T00:51:16.581519Z"
    }
   },
   "outputs": [
    {
     "data": {
      "text/html": [
       "<div>\n",
       "<style scoped>\n",
       "    .dataframe tbody tr th:only-of-type {\n",
       "        vertical-align: middle;\n",
       "    }\n",
       "\n",
       "    .dataframe tbody tr th {\n",
       "        vertical-align: top;\n",
       "    }\n",
       "\n",
       "    .dataframe thead th {\n",
       "        text-align: right;\n",
       "    }\n",
       "</style>\n",
       "<table border=\"1\" class=\"dataframe\">\n",
       "  <thead>\n",
       "    <tr style=\"text-align: right;\">\n",
       "      <th></th>\n",
       "      <th></th>\n",
       "      <th>power</th>\n",
       "      <th>condition</th>\n",
       "    </tr>\n",
       "    <tr>\n",
       "      <th>datetime</th>\n",
       "      <th>region</th>\n",
       "      <th></th>\n",
       "      <th></th>\n",
       "    </tr>\n",
       "  </thead>\n",
       "  <tbody>\n",
       "    <tr>\n",
       "      <th rowspan=\"2\" valign=\"top\">2020-03-17 15:11:43.999780779</th>\n",
       "      <th>mpta_wm_ref</th>\n",
       "      <td>21.970141</td>\n",
       "      <td>baseline</td>\n",
       "    </tr>\n",
       "    <tr>\n",
       "      <th>sr_wm_ref</th>\n",
       "      <td>54.223170</td>\n",
       "      <td>baseline</td>\n",
       "    </tr>\n",
       "    <tr>\n",
       "      <th rowspan=\"2\" valign=\"top\">2020-03-17 15:11:46.999777763</th>\n",
       "      <th>mpta_wm_ref</th>\n",
       "      <td>6.578744</td>\n",
       "      <td>baseline</td>\n",
       "    </tr>\n",
       "    <tr>\n",
       "      <th>sr_wm_ref</th>\n",
       "      <td>81.856922</td>\n",
       "      <td>baseline</td>\n",
       "    </tr>\n",
       "    <tr>\n",
       "      <th>2020-03-17 15:11:49.999774746</th>\n",
       "      <th>mpta_wm_ref</th>\n",
       "      <td>7.733741</td>\n",
       "      <td>baseline</td>\n",
       "    </tr>\n",
       "    <tr>\n",
       "      <th>...</th>\n",
       "      <th>...</th>\n",
       "      <td>...</td>\n",
       "      <td>...</td>\n",
       "    </tr>\n",
       "    <tr>\n",
       "      <th>2020-03-18 17:57:45.996966108</th>\n",
       "      <th>sr_wm_ref</th>\n",
       "      <td>129.282232</td>\n",
       "      <td>recovery</td>\n",
       "    </tr>\n",
       "    <tr>\n",
       "      <th rowspan=\"2\" valign=\"top\">2020-03-18 17:57:48.996963091</th>\n",
       "      <th>mpta_wm_ref</th>\n",
       "      <td>287.640541</td>\n",
       "      <td>recovery</td>\n",
       "    </tr>\n",
       "    <tr>\n",
       "      <th>sr_wm_ref</th>\n",
       "      <td>98.832135</td>\n",
       "      <td>recovery</td>\n",
       "    </tr>\n",
       "    <tr>\n",
       "      <th rowspan=\"2\" valign=\"top\">2020-03-18 17:57:51.996960074</th>\n",
       "      <th>mpta_wm_ref</th>\n",
       "      <td>169.174726</td>\n",
       "      <td>recovery</td>\n",
       "    </tr>\n",
       "    <tr>\n",
       "      <th>sr_wm_ref</th>\n",
       "      <td>326.288130</td>\n",
       "      <td>recovery</td>\n",
       "    </tr>\n",
       "  </tbody>\n",
       "</table>\n",
       "<p>9536 rows × 2 columns</p>\n",
       "</div>"
      ],
      "text/plain": [
       "                                                power condition\n",
       "datetime                      region                           \n",
       "2020-03-17 15:11:43.999780779 mpta_wm_ref   21.970141  baseline\n",
       "                              sr_wm_ref     54.223170  baseline\n",
       "2020-03-17 15:11:46.999777763 mpta_wm_ref    6.578744  baseline\n",
       "                              sr_wm_ref     81.856922  baseline\n",
       "2020-03-17 15:11:49.999774746 mpta_wm_ref    7.733741  baseline\n",
       "...                                               ...       ...\n",
       "2020-03-18 17:57:45.996966108 sr_wm_ref    129.282232  recovery\n",
       "2020-03-18 17:57:48.996963091 mpta_wm_ref  287.640541  recovery\n",
       "                              sr_wm_ref     98.832135  recovery\n",
       "2020-03-18 17:57:51.996960074 mpta_wm_ref  169.174726  recovery\n",
       "                              sr_wm_ref    326.288130  recovery\n",
       "\n",
       "[9536 rows x 2 columns]"
      ]
     },
     "execution_count": 12,
     "metadata": {},
     "output_type": "execute_result"
    }
   ],
   "source": [
    "nrem_pow"
   ]
  },
  {
   "cell_type": "code",
   "execution_count": 13,
   "metadata": {
    "execution": {
     "iopub.execute_input": "2021-06-11T00:51:16.623418Z",
     "iopub.status.busy": "2021-06-11T00:51:16.623135Z",
     "iopub.status.idle": "2021-06-11T00:51:16.650700Z",
     "shell.execute_reply": "2021-06-11T00:51:16.649609Z",
     "shell.execute_reply.started": "2021-06-11T00:51:16.623380Z"
    }
   },
   "outputs": [],
   "source": [
    "def mean_of_differences(df):\n",
    "    region_differences = df.power.loc[(slice(None), 'mpta_wm_ref')] - df.power.loc[(slice(None), 'sr_wm_ref')]\n",
    "    conditions = df.condition.loc[(slice(None), 'mpta_wm_ref')]\n",
    "    return pd.concat([region_differences, conditions], axis=1).groupby(['condition']).mean()"
   ]
  },
  {
   "cell_type": "code",
   "execution_count": 14,
   "metadata": {
    "execution": {
     "iopub.execute_input": "2021-06-11T00:51:16.652398Z",
     "iopub.status.busy": "2021-06-11T00:51:16.652106Z",
     "iopub.status.idle": "2021-06-11T00:51:16.674845Z",
     "shell.execute_reply": "2021-06-11T00:51:16.673982Z",
     "shell.execute_reply.started": "2021-06-11T00:51:16.652357Z"
    }
   },
   "outputs": [],
   "source": [
    "def recovery_minus_baseline(df):\n",
    "    return df.xs('recovery') - df.xs('baseline')"
   ]
  },
  {
   "cell_type": "code",
   "execution_count": 15,
   "metadata": {
    "execution": {
     "iopub.execute_input": "2021-06-11T00:51:16.676345Z",
     "iopub.status.busy": "2021-06-11T00:51:16.676069Z",
     "iopub.status.idle": "2021-06-11T00:51:16.700653Z",
     "shell.execute_reply": "2021-06-11T00:51:16.699815Z",
     "shell.execute_reply.started": "2021-06-11T00:51:16.676306Z"
    }
   },
   "outputs": [],
   "source": [
    "def shuffle_region_labels(df): \n",
    "    permuted = df.reset_index()\n",
    "    region_labels = permuted.region.values.reshape(-1, 2)\n",
    "    rng = np.random.default_rng()\n",
    "    rng.permuted(region_labels, axis=1, out=region_labels)\n",
    "    permuted.set_index(['datetime', 'region'], inplace=True)\n",
    "    return permuted"
   ]
  },
  {
   "cell_type": "code",
   "execution_count": 16,
   "metadata": {
    "execution": {
     "iopub.execute_input": "2021-06-11T00:51:16.702126Z",
     "iopub.status.busy": "2021-06-11T00:51:16.701860Z",
     "iopub.status.idle": "2021-06-11T00:53:44.961584Z",
     "shell.execute_reply": "2021-06-11T00:53:44.960441Z",
     "shell.execute_reply.started": "2021-06-11T00:51:16.702089Z"
    }
   },
   "outputs": [],
   "source": [
    "observed = recovery_minus_baseline(mean_of_differences(nrem_pow))\n",
    "\n",
    "n_permutations = 10000\n",
    "permutations = list()\n",
    "for i in range(n_permutations):\n",
    "    permuted = shuffle_region_labels(nrem_pow)\n",
    "    permutations.append(recovery_minus_baseline(mean_of_differences((permuted))))\n",
    "    \n",
    "df = pd.concat(permutations).to_frame(name='rec_minus_bsl').reset_index(drop=True)"
   ]
  },
  {
   "cell_type": "code",
   "execution_count": 17,
   "metadata": {
    "execution": {
     "iopub.execute_input": "2021-06-11T00:53:44.963574Z",
     "iopub.status.busy": "2021-06-11T00:53:44.963124Z",
     "iopub.status.idle": "2021-06-11T00:53:46.119743Z",
     "shell.execute_reply": "2021-06-11T00:53:46.118848Z",
     "shell.execute_reply.started": "2021-06-11T00:53:44.963531Z"
    }
   },
   "outputs": [
    {
     "data": {
      "image/png": "[encoded data removed]",
      "text/plain": [
       "<Figure size 466.375x360 with 1 Axes>"
      ]
     },
     "metadata": {
      "needs_background": "light"
     },
     "output_type": "display_data"
    }
   ],
   "source": [
    "g = sns.displot(data=df, kind='hist')\n",
    "g.set(xlabel='Mean of differences (Cortex - Hippocampus)')\n",
    "g.tight_layout()"
   ]
  },
  {
   "cell_type": "code",
   "execution_count": 18,
   "metadata": {
    "execution": {
     "iopub.execute_input": "2021-06-11T00:53:46.121361Z",
     "iopub.status.busy": "2021-06-11T00:53:46.121057Z",
     "iopub.status.idle": "2021-06-11T00:53:46.145423Z",
     "shell.execute_reply": "2021-06-11T00:53:46.144516Z",
     "shell.execute_reply.started": "2021-06-11T00:53:46.121321Z"
    }
   },
   "outputs": [],
   "source": [
    "p = np.sum(df.rec_minus_bsl.values >= observed.power)"
   ]
  },
  {
   "cell_type": "code",
   "execution_count": 19,
   "metadata": {
    "execution": {
     "iopub.execute_input": "2021-06-11T00:53:46.146936Z",
     "iopub.status.busy": "2021-06-11T00:53:46.146652Z",
     "iopub.status.idle": "2021-06-11T00:53:46.173293Z",
     "shell.execute_reply": "2021-06-11T00:53:46.172417Z",
     "shell.execute_reply.started": "2021-06-11T00:53:46.146896Z"
    }
   },
   "outputs": [
    {
     "name": "stdout",
     "output_type": "stream",
     "text": [
      "Subject: Doppio\n",
      "Observed difference, Cortex - Hippocampus:\n",
      "power    114.223513\n",
      "dtype: float64\n",
      "\n",
      "Shuffled differences >= observed:\n",
      "Cortex: 1 / 10000\n"
     ]
    }
   ],
   "source": [
    "print(f\"Subject: {subject}\")\n",
    "print('Observed difference, Cortex - Hippocampus:')\n",
    "print(f'{observed}')\n",
    "print('')\n",
    "print('Shuffled differences >= observed:')\n",
    "print(f\"Cortex: {1 + p} / {n_permutations}\")"
   ]
  },
  {
   "cell_type": "code",
   "execution_count": null,
   "metadata": {},
   "outputs": [],
   "source": []
  }
 ],
 "metadata": {
  "kernelspec": {
   "display_name": "Python 3",
   "language": "python",
   "name": "python3"
  },
  "language_info": {
   "codemirror_mode": {
    "name": "ipython",
    "version": 3
   },
   "file_extension": ".py",
   "mimetype": "text/x-python",
   "name": "python",
   "nbconvert_exporter": "python",
   "pygments_lexer": "ipython3",
   "version": "3.7.9"
  }
 },
 "nbformat": 4,
 "nbformat_minor": 4
}
