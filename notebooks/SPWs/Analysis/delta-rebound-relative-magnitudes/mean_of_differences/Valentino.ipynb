{
 "cells": [
  {
   "cell_type": "code",
   "execution_count": 1,
   "metadata": {
    "execution": {
     "iopub.execute_input": "2021-06-11T00:50:56.970455Z",
     "iopub.status.busy": "2021-06-11T00:50:56.970006Z",
     "iopub.status.idle": "2021-06-11T00:50:56.986875Z",
     "shell.execute_reply": "2021-06-11T00:50:56.985925Z",
     "shell.execute_reply.started": "2021-06-11T00:50:56.970327Z"
    }
   },
   "outputs": [],
   "source": [
    "%load_ext autoreload\n",
    "%autoreload 2"
   ]
  },
  {
   "cell_type": "code",
   "execution_count": 2,
   "metadata": {
    "execution": {
     "iopub.execute_input": "2021-06-11T00:50:56.988666Z",
     "iopub.status.busy": "2021-06-11T00:50:56.988371Z",
     "iopub.status.idle": "2021-06-11T00:50:58.347747Z",
     "shell.execute_reply": "2021-06-11T00:50:58.346768Z",
     "shell.execute_reply.started": "2021-06-11T00:50:56.988626Z"
    }
   },
   "outputs": [],
   "source": [
    "# %matplotlib widget\n",
    "import matplotlib.pyplot as plt\n",
    "import seaborn as sns"
   ]
  },
  {
   "cell_type": "code",
   "execution_count": 3,
   "metadata": {
    "execution": {
     "iopub.execute_input": "2021-06-11T00:50:58.350209Z",
     "iopub.status.busy": "2021-06-11T00:50:58.349883Z",
     "iopub.status.idle": "2021-06-11T00:50:59.103766Z",
     "shell.execute_reply": "2021-06-11T00:50:59.102600Z",
     "shell.execute_reply.started": "2021-06-11T00:50:58.350164Z"
    }
   },
   "outputs": [],
   "source": [
    "import xarray as xr\n",
    "import numpy as np\n",
    "import pandas as pd"
   ]
  },
  {
   "cell_type": "code",
   "execution_count": 4,
   "metadata": {
    "execution": {
     "iopub.execute_input": "2021-06-11T00:50:59.106134Z",
     "iopub.status.busy": "2021-06-11T00:50:59.105826Z",
     "iopub.status.idle": "2021-06-11T00:50:59.142964Z",
     "shell.execute_reply": "2021-06-11T00:50:59.142141Z",
     "shell.execute_reply.started": "2021-06-11T00:50:59.106091Z"
    }
   },
   "outputs": [
    {
     "data": {
      "text/plain": [
       "<xarray.core.options.set_options at 0x7fef1570b310>"
      ]
     },
     "execution_count": 4,
     "metadata": {},
     "output_type": "execute_result"
    }
   ],
   "source": [
    "xr.set_options(keep_attrs=True)"
   ]
  },
  {
   "cell_type": "code",
   "execution_count": 5,
   "metadata": {
    "execution": {
     "iopub.execute_input": "2021-06-11T00:50:59.144588Z",
     "iopub.status.busy": "2021-06-11T00:50:59.144300Z",
     "iopub.status.idle": "2021-06-11T00:50:59.171014Z",
     "shell.execute_reply": "2021-06-11T00:50:59.170177Z",
     "shell.execute_reply.started": "2021-06-11T00:50:59.144549Z"
    }
   },
   "outputs": [],
   "source": [
    "import ecephys_analyses as ea \n",
    "from ecephys import utils\n",
    "from ecephys.signal.xarray_utils import filter_dataset_by_hypnogram"
   ]
  },
  {
   "cell_type": "code",
   "execution_count": 6,
   "metadata": {
    "execution": {
     "iopub.execute_input": "2021-06-11T00:50:59.172526Z",
     "iopub.status.busy": "2021-06-11T00:50:59.172247Z",
     "iopub.status.idle": "2021-06-11T00:50:59.194387Z",
     "shell.execute_reply": "2021-06-11T00:50:59.193555Z",
     "shell.execute_reply.started": "2021-06-11T00:50:59.172488Z"
    }
   },
   "outputs": [],
   "source": [
    "def ds2df(ds):\n",
    "    s = ds.to_dataframe().stack()\n",
    "    s.index.names = s.index.names[:-1] + ['region']\n",
    "    return s.to_frame(name='power')"
   ]
  },
  {
   "cell_type": "code",
   "execution_count": 7,
   "metadata": {
    "execution": {
     "iopub.execute_input": "2021-06-11T00:50:59.195853Z",
     "iopub.status.busy": "2021-06-11T00:50:59.195576Z",
     "iopub.status.idle": "2021-06-11T00:50:59.219165Z",
     "shell.execute_reply": "2021-06-11T00:50:59.218342Z",
     "shell.execute_reply.started": "2021-06-11T00:50:59.195814Z"
    }
   },
   "outputs": [],
   "source": [
    "subject = \"Valentino\"\n",
    "experiment = \"sleep-homeostasis\"\n",
    "norm_condition = \"light-period-circadian-match\"\n",
    "bsl_condition = \"recovery-sleep-circadian-match\"\n",
    "rec_condition = \"recovery-sleep\"\n",
    "states = [\"N1\", \"N2\"]\n",
    "duration = '02:00:00'\n",
    "light_period_start = '09:00:00'\n",
    "light_period_end = '21:00:00'\n",
    "f_range = (0.5, 4)"
   ]
  },
  {
   "cell_type": "code",
   "execution_count": 8,
   "metadata": {
    "execution": {
     "iopub.execute_input": "2021-06-11T00:50:59.220616Z",
     "iopub.status.busy": "2021-06-11T00:50:59.220340Z",
     "iopub.status.idle": "2021-06-11T00:51:03.667572Z",
     "shell.execute_reply": "2021-06-11T00:51:03.666476Z",
     "shell.execute_reply.started": "2021-06-11T00:50:59.220578Z"
    }
   },
   "outputs": [],
   "source": [
    "norm_hyp = ea.load_hypnogram(subject, experiment, norm_condition)\n",
    "norm_hyp = norm_hyp.keep_states(states).keep_between(light_period_start, light_period_end)\n",
    "\n",
    "norm_pow = ea.load_power(subject, experiment, norm_condition, \"spg.nc\").sel(frequency=slice(*f_range)).sum(dim=\"frequency\")\n",
    "norm_pow = filter_dataset_by_hypnogram(norm_pow, norm_hyp).swap_dims({'time': 'datetime'}).drop_vars(['time', 'timedelta'])"
   ]
  },
  {
   "cell_type": "code",
   "execution_count": 9,
   "metadata": {
    "execution": {
     "iopub.execute_input": "2021-06-11T00:51:03.671101Z",
     "iopub.status.busy": "2021-06-11T00:51:03.670788Z",
     "iopub.status.idle": "2021-06-11T00:51:05.684370Z",
     "shell.execute_reply": "2021-06-11T00:51:05.683297Z",
     "shell.execute_reply.started": "2021-06-11T00:51:03.671058Z"
    }
   },
   "outputs": [],
   "source": [
    "rec_hyp = ea.load_hypnogram(subject, experiment, rec_condition)\n",
    "rec_hyp = rec_hyp.keep_states(states).keep_first(duration)\n",
    "\n",
    "rec_pow = ea.load_power(subject, experiment, rec_condition, \"spg.nc\").sel(frequency=slice(*f_range)).sum(dim='frequency')\n",
    "rec_pow = filter_dataset_by_hypnogram(rec_pow, rec_hyp).swap_dims({'time': 'datetime'}).drop_vars(['time', 'timedelta'])\n",
    "rec_pow = rec_pow / norm_pow.mean(dim=\"datetime\") * 100"
   ]
  },
  {
   "cell_type": "code",
   "execution_count": 10,
   "metadata": {
    "execution": {
     "iopub.execute_input": "2021-06-11T00:51:05.686939Z",
     "iopub.status.busy": "2021-06-11T00:51:05.686628Z",
     "iopub.status.idle": "2021-06-11T00:51:07.860161Z",
     "shell.execute_reply": "2021-06-11T00:51:07.858632Z",
     "shell.execute_reply.started": "2021-06-11T00:51:05.686894Z"
    }
   },
   "outputs": [],
   "source": [
    "bsl_hyp = ea.load_hypnogram(subject, experiment, bsl_condition)\n",
    "bsl_hyp = bsl_hyp.keep_states(states).keep_between(rec_hyp.start_time.min().strftime(\"%H:%M:%S\"), light_period_end).keep_first(duration)\n",
    "\n",
    "bsl_pow = ea.load_power(subject, experiment, bsl_condition, \"spg.nc\").sel(frequency=slice(*f_range)).sum(dim='frequency')\n",
    "bsl_pow = filter_dataset_by_hypnogram(bsl_pow, bsl_hyp).swap_dims({'time': 'datetime'}).drop_vars(['time', 'timedelta'])\n",
    "bsl_pow = bsl_pow / norm_pow.mean(dim=\"datetime\") * 100"
   ]
  },
  {
   "cell_type": "code",
   "execution_count": 11,
   "metadata": {
    "execution": {
     "iopub.execute_input": "2021-06-11T00:51:07.862465Z",
     "iopub.status.busy": "2021-06-11T00:51:07.862125Z",
     "iopub.status.idle": "2021-06-11T00:51:07.901360Z",
     "shell.execute_reply": "2021-06-11T00:51:07.900464Z",
     "shell.execute_reply.started": "2021-06-11T00:51:07.862427Z"
    }
   },
   "outputs": [],
   "source": [
    "nrem_pow = pd.concat([ds2df(bsl_pow).assign(condition=\"baseline\"), ds2df(rec_pow).assign(condition=\"recovery\")])"
   ]
  },
  {
   "cell_type": "code",
   "execution_count": 12,
   "metadata": {
    "execution": {
     "iopub.execute_input": "2021-06-11T00:51:07.902907Z",
     "iopub.status.busy": "2021-06-11T00:51:07.902629Z",
     "iopub.status.idle": "2021-06-11T00:51:07.945714Z",
     "shell.execute_reply": "2021-06-11T00:51:07.944920Z",
     "shell.execute_reply.started": "2021-06-11T00:51:07.902869Z"
    }
   },
   "outputs": [
    {
     "data": {
      "text/html": [
       "<div>\n",
       "<style scoped>\n",
       "    .dataframe tbody tr th:only-of-type {\n",
       "        vertical-align: middle;\n",
       "    }\n",
       "\n",
       "    .dataframe tbody tr th {\n",
       "        vertical-align: top;\n",
       "    }\n",
       "\n",
       "    .dataframe thead th {\n",
       "        text-align: right;\n",
       "    }\n",
       "</style>\n",
       "<table border=\"1\" class=\"dataframe\">\n",
       "  <thead>\n",
       "    <tr style=\"text-align: right;\">\n",
       "      <th></th>\n",
       "      <th></th>\n",
       "      <th>power</th>\n",
       "      <th>condition</th>\n",
       "    </tr>\n",
       "    <tr>\n",
       "      <th>datetime</th>\n",
       "      <th>region</th>\n",
       "      <th></th>\n",
       "      <th></th>\n",
       "    </tr>\n",
       "  </thead>\n",
       "  <tbody>\n",
       "    <tr>\n",
       "      <th rowspan=\"2\" valign=\"top\">2020-02-19 15:08:05</th>\n",
       "      <th>mpta_wm_ref</th>\n",
       "      <td>8.322469</td>\n",
       "      <td>baseline</td>\n",
       "    </tr>\n",
       "    <tr>\n",
       "      <th>sr_wm_ref</th>\n",
       "      <td>23.606334</td>\n",
       "      <td>baseline</td>\n",
       "    </tr>\n",
       "    <tr>\n",
       "      <th rowspan=\"2\" valign=\"top\">2020-02-19 15:08:08</th>\n",
       "      <th>mpta_wm_ref</th>\n",
       "      <td>12.742594</td>\n",
       "      <td>baseline</td>\n",
       "    </tr>\n",
       "    <tr>\n",
       "      <th>sr_wm_ref</th>\n",
       "      <td>20.952554</td>\n",
       "      <td>baseline</td>\n",
       "    </tr>\n",
       "    <tr>\n",
       "      <th>2020-02-19 15:08:11</th>\n",
       "      <th>mpta_wm_ref</th>\n",
       "      <td>8.731218</td>\n",
       "      <td>baseline</td>\n",
       "    </tr>\n",
       "    <tr>\n",
       "      <th>...</th>\n",
       "      <th>...</th>\n",
       "      <td>...</td>\n",
       "      <td>...</td>\n",
       "    </tr>\n",
       "    <tr>\n",
       "      <th>2020-02-20 17:49:31</th>\n",
       "      <th>sr_wm_ref</th>\n",
       "      <td>474.259289</td>\n",
       "      <td>recovery</td>\n",
       "    </tr>\n",
       "    <tr>\n",
       "      <th rowspan=\"2\" valign=\"top\">2020-02-20 17:49:34</th>\n",
       "      <th>mpta_wm_ref</th>\n",
       "      <td>138.753466</td>\n",
       "      <td>recovery</td>\n",
       "    </tr>\n",
       "    <tr>\n",
       "      <th>sr_wm_ref</th>\n",
       "      <td>84.241144</td>\n",
       "      <td>recovery</td>\n",
       "    </tr>\n",
       "    <tr>\n",
       "      <th rowspan=\"2\" valign=\"top\">2020-02-20 17:49:37</th>\n",
       "      <th>mpta_wm_ref</th>\n",
       "      <td>164.824322</td>\n",
       "      <td>recovery</td>\n",
       "    </tr>\n",
       "    <tr>\n",
       "      <th>sr_wm_ref</th>\n",
       "      <td>135.922204</td>\n",
       "      <td>recovery</td>\n",
       "    </tr>\n",
       "  </tbody>\n",
       "</table>\n",
       "<p>9578 rows × 2 columns</p>\n",
       "</div>"
      ],
      "text/plain": [
       "                                      power condition\n",
       "datetime            region                           \n",
       "2020-02-19 15:08:05 mpta_wm_ref    8.322469  baseline\n",
       "                    sr_wm_ref     23.606334  baseline\n",
       "2020-02-19 15:08:08 mpta_wm_ref   12.742594  baseline\n",
       "                    sr_wm_ref     20.952554  baseline\n",
       "2020-02-19 15:08:11 mpta_wm_ref    8.731218  baseline\n",
       "...                                     ...       ...\n",
       "2020-02-20 17:49:31 sr_wm_ref    474.259289  recovery\n",
       "2020-02-20 17:49:34 mpta_wm_ref  138.753466  recovery\n",
       "                    sr_wm_ref     84.241144  recovery\n",
       "2020-02-20 17:49:37 mpta_wm_ref  164.824322  recovery\n",
       "                    sr_wm_ref    135.922204  recovery\n",
       "\n",
       "[9578 rows x 2 columns]"
      ]
     },
     "execution_count": 12,
     "metadata": {},
     "output_type": "execute_result"
    }
   ],
   "source": [
    "nrem_pow"
   ]
  },
  {
   "cell_type": "code",
   "execution_count": 13,
   "metadata": {
    "execution": {
     "iopub.execute_input": "2021-06-11T00:51:07.951566Z",
     "iopub.status.busy": "2021-06-11T00:51:07.949688Z",
     "iopub.status.idle": "2021-06-11T00:51:07.978684Z",
     "shell.execute_reply": "2021-06-11T00:51:07.977859Z",
     "shell.execute_reply.started": "2021-06-11T00:51:07.951523Z"
    }
   },
   "outputs": [],
   "source": [
    "def mean_of_differences(df):\n",
    "    region_differences = df.power.loc[(slice(None), 'mpta_wm_ref')] - df.power.loc[(slice(None), 'sr_wm_ref')]\n",
    "    conditions = df.condition.loc[(slice(None), 'mpta_wm_ref')]\n",
    "    return pd.concat([region_differences, conditions], axis=1).groupby(['condition']).mean()"
   ]
  },
  {
   "cell_type": "code",
   "execution_count": 14,
   "metadata": {
    "execution": {
     "iopub.execute_input": "2021-06-11T00:51:07.980537Z",
     "iopub.status.busy": "2021-06-11T00:51:07.980035Z",
     "iopub.status.idle": "2021-06-11T00:51:08.002672Z",
     "shell.execute_reply": "2021-06-11T00:51:08.001910Z",
     "shell.execute_reply.started": "2021-06-11T00:51:07.980495Z"
    }
   },
   "outputs": [],
   "source": [
    "def recovery_minus_baseline(df):\n",
    "    return df.xs('recovery') - df.xs('baseline')"
   ]
  },
  {
   "cell_type": "code",
   "execution_count": 15,
   "metadata": {
    "execution": {
     "iopub.execute_input": "2021-06-11T00:51:08.004426Z",
     "iopub.status.busy": "2021-06-11T00:51:08.003932Z",
     "iopub.status.idle": "2021-06-11T00:51:08.028952Z",
     "shell.execute_reply": "2021-06-11T00:51:08.028180Z",
     "shell.execute_reply.started": "2021-06-11T00:51:08.004384Z"
    }
   },
   "outputs": [],
   "source": [
    "def shuffle_region_labels(df): \n",
    "    permuted = df.reset_index()\n",
    "    region_labels = permuted.region.values.reshape(-1, 2)\n",
    "    rng = np.random.default_rng()\n",
    "    rng.permuted(region_labels, axis=1, out=region_labels)\n",
    "    permuted.set_index(['datetime', 'region'], inplace=True)\n",
    "    return permuted"
   ]
  },
  {
   "cell_type": "code",
   "execution_count": 16,
   "metadata": {
    "execution": {
     "iopub.execute_input": "2021-06-11T00:51:08.030725Z",
     "iopub.status.busy": "2021-06-11T00:51:08.030237Z",
     "iopub.status.idle": "2021-06-11T00:53:33.896918Z",
     "shell.execute_reply": "2021-06-11T00:53:33.895722Z",
     "shell.execute_reply.started": "2021-06-11T00:51:08.030683Z"
    }
   },
   "outputs": [],
   "source": [
    "observed = recovery_minus_baseline(mean_of_differences(nrem_pow))\n",
    "\n",
    "n_permutations = 10000\n",
    "permutations = list()\n",
    "for i in range(n_permutations):\n",
    "    permuted = shuffle_region_labels(nrem_pow)\n",
    "    permutations.append(recovery_minus_baseline(mean_of_differences((permuted))))\n",
    "    \n",
    "df = pd.concat(permutations).to_frame(name='rec_minus_bsl').reset_index(drop=True)"
   ]
  },
  {
   "cell_type": "code",
   "execution_count": 17,
   "metadata": {
    "execution": {
     "iopub.execute_input": "2021-06-11T00:53:33.899047Z",
     "iopub.status.busy": "2021-06-11T00:53:33.898729Z",
     "iopub.status.idle": "2021-06-11T00:53:34.782280Z",
     "shell.execute_reply": "2021-06-11T00:53:34.781341Z",
     "shell.execute_reply.started": "2021-06-11T00:53:33.899005Z"
    }
   },
   "outputs": [
    {
     "data": {
      "image/png": "[encoded data removed]",
      "text/plain": [
       "<Figure size 466.375x360 with 1 Axes>"
      ]
     },
     "metadata": {
      "needs_background": "light"
     },
     "output_type": "display_data"
    }
   ],
   "source": [
    "g = sns.displot(data=df, kind='hist')\n",
    "g.set(xlabel='Mean of differences (Cortex - Hippocampus)')\n",
    "g.tight_layout()"
   ]
  },
  {
   "cell_type": "code",
   "execution_count": 18,
   "metadata": {
    "execution": {
     "iopub.execute_input": "2021-06-11T00:53:34.783983Z",
     "iopub.status.busy": "2021-06-11T00:53:34.783696Z",
     "iopub.status.idle": "2021-06-11T00:53:34.809291Z",
     "shell.execute_reply": "2021-06-11T00:53:34.808553Z",
     "shell.execute_reply.started": "2021-06-11T00:53:34.783944Z"
    }
   },
   "outputs": [],
   "source": [
    "p = np.sum(df.rec_minus_bsl.values >= observed.power)"
   ]
  },
  {
   "cell_type": "code",
   "execution_count": 19,
   "metadata": {
    "execution": {
     "iopub.execute_input": "2021-06-11T00:53:34.810711Z",
     "iopub.status.busy": "2021-06-11T00:53:34.810438Z",
     "iopub.status.idle": "2021-06-11T00:53:34.836594Z",
     "shell.execute_reply": "2021-06-11T00:53:34.835550Z",
     "shell.execute_reply.started": "2021-06-11T00:53:34.810675Z"
    }
   },
   "outputs": [
    {
     "name": "stdout",
     "output_type": "stream",
     "text": [
      "Subject: Valentino\n",
      "Observed difference, Cortex - Hippocampus:\n",
      "power    67.311966\n",
      "dtype: float64\n",
      "\n",
      "Shuffled differences >= observed:\n",
      "Cortex: 1 / 10000\n"
     ]
    }
   ],
   "source": [
    "print(f\"Subject: {subject}\")\n",
    "print('Observed difference, Cortex - Hippocampus:')\n",
    "print(f'{observed}')\n",
    "print('')\n",
    "print('Shuffled differences >= observed:')\n",
    "print(f\"Cortex: {1 + p} / {n_permutations}\")"
   ]
  },
  {
   "cell_type": "code",
   "execution_count": null,
   "metadata": {},
   "outputs": [],
   "source": []
  }
 ],
 "metadata": {
  "kernelspec": {
   "display_name": "Python 3",
   "language": "python",
   "name": "python3"
  },
  "language_info": {
   "codemirror_mode": {
    "name": "ipython",
    "version": 3
   },
   "file_extension": ".py",
   "mimetype": "text/x-python",
   "name": "python",
   "nbconvert_exporter": "python",
   "pygments_lexer": "ipython3",
   "version": "3.7.9"
  }
 },
 "nbformat": 4,
 "nbformat_minor": 4
}
