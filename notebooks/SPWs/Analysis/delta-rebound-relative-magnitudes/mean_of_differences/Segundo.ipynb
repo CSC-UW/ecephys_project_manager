{
 "cells": [
  {
   "cell_type": "code",
   "execution_count": 1,
   "metadata": {
    "execution": {
     "iopub.execute_input": "2021-06-11T00:33:09.224225Z",
     "iopub.status.busy": "2021-06-11T00:33:09.223927Z",
     "iopub.status.idle": "2021-06-11T00:33:09.243774Z",
     "shell.execute_reply": "2021-06-11T00:33:09.243020Z",
     "shell.execute_reply.started": "2021-06-11T00:33:09.224185Z"
    }
   },
   "outputs": [],
   "source": [
    "%load_ext autoreload\n",
    "%autoreload 2"
   ]
  },
  {
   "cell_type": "code",
   "execution_count": 2,
   "metadata": {
    "execution": {
     "iopub.execute_input": "2021-06-11T00:33:09.245617Z",
     "iopub.status.busy": "2021-06-11T00:33:09.245062Z",
     "iopub.status.idle": "2021-06-11T00:33:10.111271Z",
     "shell.execute_reply": "2021-06-11T00:33:10.109899Z",
     "shell.execute_reply.started": "2021-06-11T00:33:09.245573Z"
    }
   },
   "outputs": [],
   "source": [
    "# %matplotlib widget\n",
    "import matplotlib.pyplot as plt\n",
    "import seaborn as sns"
   ]
  },
  {
   "cell_type": "code",
   "execution_count": 3,
   "metadata": {
    "execution": {
     "iopub.execute_input": "2021-06-11T00:33:10.112902Z",
     "iopub.status.busy": "2021-06-11T00:33:10.112582Z",
     "iopub.status.idle": "2021-06-11T00:33:10.730457Z",
     "shell.execute_reply": "2021-06-11T00:33:10.729270Z",
     "shell.execute_reply.started": "2021-06-11T00:33:10.112842Z"
    }
   },
   "outputs": [],
   "source": [
    "import xarray as xr\n",
    "import numpy as np\n",
    "import pandas as pd"
   ]
  },
  {
   "cell_type": "code",
   "execution_count": 4,
   "metadata": {
    "execution": {
     "iopub.execute_input": "2021-06-11T00:33:10.838269Z",
     "iopub.status.busy": "2021-06-11T00:33:10.837958Z",
     "iopub.status.idle": "2021-06-11T00:33:10.889984Z",
     "shell.execute_reply": "2021-06-11T00:33:10.888747Z",
     "shell.execute_reply.started": "2021-06-11T00:33:10.838226Z"
    }
   },
   "outputs": [
    {
     "data": {
      "text/plain": [
       "<xarray.core.options.set_options at 0x7fd4747f8390>"
      ]
     },
     "execution_count": 4,
     "metadata": {},
     "output_type": "execute_result"
    }
   ],
   "source": [
    "xr.set_options(keep_attrs=True)"
   ]
  },
  {
   "cell_type": "code",
   "execution_count": 5,
   "metadata": {
    "execution": {
     "iopub.execute_input": "2021-06-11T00:33:10.891850Z",
     "iopub.status.busy": "2021-06-11T00:33:10.891541Z",
     "iopub.status.idle": "2021-06-11T00:33:10.955469Z",
     "shell.execute_reply": "2021-06-11T00:33:10.954262Z",
     "shell.execute_reply.started": "2021-06-11T00:33:10.891807Z"
    }
   },
   "outputs": [],
   "source": [
    "import ecephys_analyses as ea \n",
    "from ecephys import utils\n",
    "from ecephys.signal.xarray_utils import filter_dataset_by_hypnogram"
   ]
  },
  {
   "cell_type": "code",
   "execution_count": 6,
   "metadata": {
    "execution": {
     "iopub.execute_input": "2021-06-11T00:33:10.957211Z",
     "iopub.status.busy": "2021-06-11T00:33:10.956905Z",
     "iopub.status.idle": "2021-06-11T00:33:11.003625Z",
     "shell.execute_reply": "2021-06-11T00:33:11.002471Z",
     "shell.execute_reply.started": "2021-06-11T00:33:10.957169Z"
    }
   },
   "outputs": [],
   "source": [
    "def ds2df(ds):\n",
    "    s = ds.to_dataframe().stack()\n",
    "    s.index.names = s.index.names[:-1] + ['region']\n",
    "    return s.to_frame(name='power')"
   ]
  },
  {
   "cell_type": "code",
   "execution_count": 7,
   "metadata": {
    "execution": {
     "iopub.execute_input": "2021-06-11T00:33:11.005356Z",
     "iopub.status.busy": "2021-06-11T00:33:11.005046Z",
     "iopub.status.idle": "2021-06-11T00:33:11.059421Z",
     "shell.execute_reply": "2021-06-11T00:33:11.058435Z",
     "shell.execute_reply.started": "2021-06-11T00:33:11.005313Z"
    }
   },
   "outputs": [],
   "source": [
    "subject = \"Segundo\"\n",
    "experiment = \"sleep-homeostasis\"\n",
    "norm_condition = \"light-period-circadian-match\"\n",
    "bsl_condition = \"recovery-sleep-circadian-match\"\n",
    "rec_condition = \"recovery-sleep\"\n",
    "states = [\"N1\", \"N2\"]\n",
    "duration = '02:00:00'\n",
    "light_period_start = '09:00:00'\n",
    "light_period_end = '21:00:00'\n",
    "f_range = (0.5, 4)"
   ]
  },
  {
   "cell_type": "code",
   "execution_count": 8,
   "metadata": {
    "execution": {
     "iopub.execute_input": "2021-06-11T00:33:11.060950Z",
     "iopub.status.busy": "2021-06-11T00:33:11.060623Z",
     "iopub.status.idle": "2021-06-11T00:33:15.698679Z",
     "shell.execute_reply": "2021-06-11T00:33:15.696769Z",
     "shell.execute_reply.started": "2021-06-11T00:33:11.060906Z"
    }
   },
   "outputs": [],
   "source": [
    "norm_hyp = ea.load_hypnogram(subject, experiment, norm_condition)\n",
    "norm_hyp = norm_hyp.keep_states(states).keep_between(light_period_start, light_period_end)\n",
    "\n",
    "norm_pow = ea.load_power(subject, experiment, norm_condition, \"spg.nc\").sel(frequency=slice(*f_range)).sum(dim=\"frequency\")\n",
    "norm_pow = filter_dataset_by_hypnogram(norm_pow, norm_hyp).swap_dims({'time': 'datetime'}).drop_vars(['time', 'timedelta'])"
   ]
  },
  {
   "cell_type": "code",
   "execution_count": 9,
   "metadata": {
    "execution": {
     "iopub.execute_input": "2021-06-11T00:33:15.749160Z",
     "iopub.status.busy": "2021-06-11T00:33:15.748850Z",
     "iopub.status.idle": "2021-06-11T00:33:17.693593Z",
     "shell.execute_reply": "2021-06-11T00:33:17.692604Z",
     "shell.execute_reply.started": "2021-06-11T00:33:15.749120Z"
    }
   },
   "outputs": [],
   "source": [
    "rec_hyp = ea.load_hypnogram(subject, experiment, rec_condition)\n",
    "rec_hyp = rec_hyp.keep_states(states).keep_first(duration)\n",
    "\n",
    "rec_pow = ea.load_power(subject, experiment, rec_condition, \"spg.nc\").sel(frequency=slice(*f_range)).sum(dim='frequency')\n",
    "rec_pow = filter_dataset_by_hypnogram(rec_pow, rec_hyp).swap_dims({'time': 'datetime'}).drop_vars(['time', 'timedelta'])\n",
    "rec_pow = rec_pow / norm_pow.mean(dim=\"datetime\") * 100"
   ]
  },
  {
   "cell_type": "code",
   "execution_count": 10,
   "metadata": {
    "execution": {
     "iopub.execute_input": "2021-06-11T00:33:17.854340Z",
     "iopub.status.busy": "2021-06-11T00:33:17.854050Z",
     "iopub.status.idle": "2021-06-11T00:33:20.023261Z",
     "shell.execute_reply": "2021-06-11T00:33:20.022095Z",
     "shell.execute_reply.started": "2021-06-11T00:33:17.854300Z"
    }
   },
   "outputs": [],
   "source": [
    "bsl_hyp = ea.load_hypnogram(subject, experiment, bsl_condition)\n",
    "bsl_hyp = bsl_hyp.keep_states(states).keep_between(rec_hyp.start_time.min().strftime(\"%H:%M:%S\"), light_period_end).keep_first(duration)\n",
    "\n",
    "bsl_pow = ea.load_power(subject, experiment, bsl_condition, \"spg.nc\").sel(frequency=slice(*f_range)).sum(dim='frequency')\n",
    "bsl_pow = filter_dataset_by_hypnogram(bsl_pow, bsl_hyp).swap_dims({'time': 'datetime'}).drop_vars(['time', 'timedelta'])\n",
    "bsl_pow = bsl_pow / norm_pow.mean(dim=\"datetime\") * 100"
   ]
  },
  {
   "cell_type": "code",
   "execution_count": 11,
   "metadata": {
    "execution": {
     "iopub.execute_input": "2021-06-11T00:33:20.076117Z",
     "iopub.status.busy": "2021-06-11T00:33:20.075819Z",
     "iopub.status.idle": "2021-06-11T00:33:20.116664Z",
     "shell.execute_reply": "2021-06-11T00:33:20.115578Z",
     "shell.execute_reply.started": "2021-06-11T00:33:20.076077Z"
    }
   },
   "outputs": [],
   "source": [
    "nrem_pow = pd.concat([ds2df(bsl_pow).assign(condition=\"baseline\"), ds2df(rec_pow).assign(condition=\"recovery\")])"
   ]
  },
  {
   "cell_type": "code",
   "execution_count": 12,
   "metadata": {
    "execution": {
     "iopub.execute_input": "2021-06-11T00:33:20.118393Z",
     "iopub.status.busy": "2021-06-11T00:33:20.118099Z",
     "iopub.status.idle": "2021-06-11T00:33:20.164560Z",
     "shell.execute_reply": "2021-06-11T00:33:20.163569Z",
     "shell.execute_reply.started": "2021-06-11T00:33:20.118353Z"
    }
   },
   "outputs": [
    {
     "data": {
      "text/html": [
       "<div>\n",
       "<style scoped>\n",
       "    .dataframe tbody tr th:only-of-type {\n",
       "        vertical-align: middle;\n",
       "    }\n",
       "\n",
       "    .dataframe tbody tr th {\n",
       "        vertical-align: top;\n",
       "    }\n",
       "\n",
       "    .dataframe thead th {\n",
       "        text-align: right;\n",
       "    }\n",
       "</style>\n",
       "<table border=\"1\" class=\"dataframe\">\n",
       "  <thead>\n",
       "    <tr style=\"text-align: right;\">\n",
       "      <th></th>\n",
       "      <th></th>\n",
       "      <th>power</th>\n",
       "      <th>condition</th>\n",
       "    </tr>\n",
       "    <tr>\n",
       "      <th>datetime</th>\n",
       "      <th>region</th>\n",
       "      <th></th>\n",
       "      <th></th>\n",
       "    </tr>\n",
       "  </thead>\n",
       "  <tbody>\n",
       "    <tr>\n",
       "      <th rowspan=\"2\" valign=\"top\">2020-01-22 15:17:53</th>\n",
       "      <th>mpta_wm_ref</th>\n",
       "      <td>11.042340</td>\n",
       "      <td>baseline</td>\n",
       "    </tr>\n",
       "    <tr>\n",
       "      <th>sr_wm_ref</th>\n",
       "      <td>35.280193</td>\n",
       "      <td>baseline</td>\n",
       "    </tr>\n",
       "    <tr>\n",
       "      <th rowspan=\"2\" valign=\"top\">2020-01-22 15:17:56</th>\n",
       "      <th>mpta_wm_ref</th>\n",
       "      <td>5.083761</td>\n",
       "      <td>baseline</td>\n",
       "    </tr>\n",
       "    <tr>\n",
       "      <th>sr_wm_ref</th>\n",
       "      <td>21.049922</td>\n",
       "      <td>baseline</td>\n",
       "    </tr>\n",
       "    <tr>\n",
       "      <th>2020-01-22 15:18:14</th>\n",
       "      <th>mpta_wm_ref</th>\n",
       "      <td>4.539901</td>\n",
       "      <td>baseline</td>\n",
       "    </tr>\n",
       "    <tr>\n",
       "      <th>...</th>\n",
       "      <th>...</th>\n",
       "      <td>...</td>\n",
       "      <td>...</td>\n",
       "    </tr>\n",
       "    <tr>\n",
       "      <th>2020-01-23 18:41:38</th>\n",
       "      <th>sr_wm_ref</th>\n",
       "      <td>85.321279</td>\n",
       "      <td>recovery</td>\n",
       "    </tr>\n",
       "    <tr>\n",
       "      <th rowspan=\"2\" valign=\"top\">2020-01-23 18:41:41</th>\n",
       "      <th>mpta_wm_ref</th>\n",
       "      <td>113.484671</td>\n",
       "      <td>recovery</td>\n",
       "    </tr>\n",
       "    <tr>\n",
       "      <th>sr_wm_ref</th>\n",
       "      <td>110.291088</td>\n",
       "      <td>recovery</td>\n",
       "    </tr>\n",
       "    <tr>\n",
       "      <th rowspan=\"2\" valign=\"top\">2020-01-23 18:41:44</th>\n",
       "      <th>mpta_wm_ref</th>\n",
       "      <td>85.995982</td>\n",
       "      <td>recovery</td>\n",
       "    </tr>\n",
       "    <tr>\n",
       "      <th>sr_wm_ref</th>\n",
       "      <td>176.382399</td>\n",
       "      <td>recovery</td>\n",
       "    </tr>\n",
       "  </tbody>\n",
       "</table>\n",
       "<p>9436 rows × 2 columns</p>\n",
       "</div>"
      ],
      "text/plain": [
       "                                      power condition\n",
       "datetime            region                           \n",
       "2020-01-22 15:17:53 mpta_wm_ref   11.042340  baseline\n",
       "                    sr_wm_ref     35.280193  baseline\n",
       "2020-01-22 15:17:56 mpta_wm_ref    5.083761  baseline\n",
       "                    sr_wm_ref     21.049922  baseline\n",
       "2020-01-22 15:18:14 mpta_wm_ref    4.539901  baseline\n",
       "...                                     ...       ...\n",
       "2020-01-23 18:41:38 sr_wm_ref     85.321279  recovery\n",
       "2020-01-23 18:41:41 mpta_wm_ref  113.484671  recovery\n",
       "                    sr_wm_ref    110.291088  recovery\n",
       "2020-01-23 18:41:44 mpta_wm_ref   85.995982  recovery\n",
       "                    sr_wm_ref    176.382399  recovery\n",
       "\n",
       "[9436 rows x 2 columns]"
      ]
     },
     "execution_count": 12,
     "metadata": {},
     "output_type": "execute_result"
    }
   ],
   "source": [
    "nrem_pow"
   ]
  },
  {
   "cell_type": "code",
   "execution_count": 43,
   "metadata": {
    "execution": {
     "iopub.execute_input": "2021-06-11T00:43:39.052065Z",
     "iopub.status.busy": "2021-06-11T00:43:39.051671Z",
     "iopub.status.idle": "2021-06-11T00:43:39.082780Z",
     "shell.execute_reply": "2021-06-11T00:43:39.076821Z",
     "shell.execute_reply.started": "2021-06-11T00:43:39.052020Z"
    }
   },
   "outputs": [],
   "source": [
    "def mean_of_differences(df):\n",
    "    region_differences = df.power.loc[(slice(None), 'mpta_wm_ref')] - df.power.loc[(slice(None), 'sr_wm_ref')]\n",
    "    conditions = df.condition.loc[(slice(None), 'mpta_wm_ref')]\n",
    "    return pd.concat([region_differences, conditions], axis=1).groupby(['condition']).mean()"
   ]
  },
  {
   "cell_type": "code",
   "execution_count": 44,
   "metadata": {
    "execution": {
     "iopub.execute_input": "2021-06-11T00:43:39.214805Z",
     "iopub.status.busy": "2021-06-11T00:43:39.214451Z",
     "iopub.status.idle": "2021-06-11T00:43:39.238080Z",
     "shell.execute_reply": "2021-06-11T00:43:39.237039Z",
     "shell.execute_reply.started": "2021-06-11T00:43:39.214762Z"
    }
   },
   "outputs": [],
   "source": [
    "def recovery_minus_baseline(df):\n",
    "    return df.xs('recovery') - df.xs('baseline')"
   ]
  },
  {
   "cell_type": "code",
   "execution_count": 45,
   "metadata": {
    "execution": {
     "iopub.execute_input": "2021-06-11T00:43:39.390808Z",
     "iopub.status.busy": "2021-06-11T00:43:39.390436Z",
     "iopub.status.idle": "2021-06-11T00:43:39.417758Z",
     "shell.execute_reply": "2021-06-11T00:43:39.416639Z",
     "shell.execute_reply.started": "2021-06-11T00:43:39.390766Z"
    }
   },
   "outputs": [],
   "source": [
    "def shuffle_region_labels(df): \n",
    "    permuted = df.reset_index()\n",
    "    region_labels = permuted.region.values.reshape(-1, 2)\n",
    "    rng = np.random.default_rng()\n",
    "    rng.permuted(region_labels, axis=1, out=region_labels)\n",
    "    permuted.set_index(['datetime', 'region'], inplace=True)\n",
    "    return permuted"
   ]
  },
  {
   "cell_type": "code",
   "execution_count": 46,
   "metadata": {
    "execution": {
     "iopub.execute_input": "2021-06-11T00:43:39.846667Z",
     "iopub.status.busy": "2021-06-11T00:43:39.846298Z",
     "iopub.status.idle": "2021-06-11T00:45:45.108275Z",
     "shell.execute_reply": "2021-06-11T00:45:45.107362Z",
     "shell.execute_reply.started": "2021-06-11T00:43:39.846621Z"
    }
   },
   "outputs": [],
   "source": [
    "observed = recovery_minus_baseline(mean_of_differences(nrem_pow))\n",
    "\n",
    "n_permutations = 10000\n",
    "permutations = list()\n",
    "for i in range(n_permutations):\n",
    "    permuted = shuffle_region_labels(nrem_pow)\n",
    "    permutations.append(recovery_minus_baseline(mean_of_differences((permuted))))\n",
    "    \n",
    "df = pd.concat(permutations).to_frame(name='rec_minus_bsl').reset_index(drop=True)"
   ]
  },
  {
   "cell_type": "code",
   "execution_count": 50,
   "metadata": {
    "execution": {
     "iopub.execute_input": "2021-06-11T00:48:05.828887Z",
     "iopub.status.busy": "2021-06-11T00:48:05.828499Z",
     "iopub.status.idle": "2021-06-11T00:48:06.770596Z",
     "shell.execute_reply": "2021-06-11T00:48:06.769679Z",
     "shell.execute_reply.started": "2021-06-11T00:48:05.828838Z"
    }
   },
   "outputs": [
    {
     "data": {
      "image/png": "[encoded data removed]",
      "text/plain": [
       "<Figure size 466.375x360 with 1 Axes>"
      ]
     },
     "metadata": {
      "needs_background": "light"
     },
     "output_type": "display_data"
    }
   ],
   "source": [
    "g = sns.displot(data=df, kind='hist')\n",
    "g.set(xlabel='Mean of differences (Cortex - Hippocampus)')\n",
    "g.tight_layout()"
   ]
  },
  {
   "cell_type": "code",
   "execution_count": 52,
   "metadata": {
    "execution": {
     "iopub.execute_input": "2021-06-11T00:48:43.250315Z",
     "iopub.status.busy": "2021-06-11T00:48:43.249872Z",
     "iopub.status.idle": "2021-06-11T00:48:43.276269Z",
     "shell.execute_reply": "2021-06-11T00:48:43.275399Z",
     "shell.execute_reply.started": "2021-06-11T00:48:43.250272Z"
    }
   },
   "outputs": [],
   "source": [
    "p = np.sum(df.rec_minus_bsl.values >= observed.power)"
   ]
  },
  {
   "cell_type": "code",
   "execution_count": 54,
   "metadata": {
    "execution": {
     "iopub.execute_input": "2021-06-11T00:49:02.490065Z",
     "iopub.status.busy": "2021-06-11T00:49:02.489729Z",
     "iopub.status.idle": "2021-06-11T00:49:02.521409Z",
     "shell.execute_reply": "2021-06-11T00:49:02.520527Z",
     "shell.execute_reply.started": "2021-06-11T00:49:02.490021Z"
    }
   },
   "outputs": [
    {
     "name": "stdout",
     "output_type": "stream",
     "text": [
      "Subject: Segundo\n",
      "Observed difference, Cortex - Hippocampus:\n",
      "power    132.650825\n",
      "dtype: float64\n",
      "\n",
      "Shuffled differences >= observed:\n",
      "Cortex: 1 / 10000\n"
     ]
    }
   ],
   "source": [
    "print(f\"Subject: {subject}\")\n",
    "print('Observed difference, Cortex - Hippocampus:')\n",
    "print(f'{observed}')\n",
    "print('')\n",
    "print('Shuffled differences >= observed:')\n",
    "print(f\"Cortex: {1 + p} / {n_permutations}\")"
   ]
  },
  {
   "cell_type": "code",
   "execution_count": null,
   "metadata": {},
   "outputs": [],
   "source": []
  }
 ],
 "metadata": {
  "kernelspec": {
   "display_name": "Python 3",
   "language": "python",
   "name": "python3"
  },
  "language_info": {
   "codemirror_mode": {
    "name": "ipython",
    "version": 3
   },
   "file_extension": ".py",
   "mimetype": "text/x-python",
   "name": "python",
   "nbconvert_exporter": "python",
   "pygments_lexer": "ipython3",
   "version": "3.7.9"
  }
 },
 "nbformat": 4,
 "nbformat_minor": 4
}
