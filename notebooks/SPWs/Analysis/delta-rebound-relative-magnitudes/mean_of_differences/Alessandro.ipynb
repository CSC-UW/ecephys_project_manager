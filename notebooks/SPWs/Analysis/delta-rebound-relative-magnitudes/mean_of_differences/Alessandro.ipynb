{
 "cells": [
  {
   "cell_type": "code",
   "execution_count": 1,
   "metadata": {
    "execution": {
     "iopub.execute_input": "2021-06-11T00:51:13.919376Z",
     "iopub.status.busy": "2021-06-11T00:51:13.918979Z",
     "iopub.status.idle": "2021-06-11T00:51:13.934908Z",
     "shell.execute_reply": "2021-06-11T00:51:13.934116Z",
     "shell.execute_reply.started": "2021-06-11T00:51:13.919254Z"
    }
   },
   "outputs": [],
   "source": [
    "%load_ext autoreload\n",
    "%autoreload 2"
   ]
  },
  {
   "cell_type": "code",
   "execution_count": 2,
   "metadata": {
    "execution": {
     "iopub.execute_input": "2021-06-11T00:51:13.936383Z",
     "iopub.status.busy": "2021-06-11T00:51:13.936145Z",
     "iopub.status.idle": "2021-06-11T00:51:15.159273Z",
     "shell.execute_reply": "2021-06-11T00:51:15.158303Z",
     "shell.execute_reply.started": "2021-06-11T00:51:13.936354Z"
    }
   },
   "outputs": [],
   "source": [
    "# %matplotlib widget\n",
    "import matplotlib.pyplot as plt\n",
    "import seaborn as sns"
   ]
  },
  {
   "cell_type": "code",
   "execution_count": 3,
   "metadata": {
    "execution": {
     "iopub.execute_input": "2021-06-11T00:51:15.161644Z",
     "iopub.status.busy": "2021-06-11T00:51:15.161331Z",
     "iopub.status.idle": "2021-06-11T00:51:15.942214Z",
     "shell.execute_reply": "2021-06-11T00:51:15.940998Z",
     "shell.execute_reply.started": "2021-06-11T00:51:15.161603Z"
    }
   },
   "outputs": [],
   "source": [
    "import xarray as xr\n",
    "import numpy as np\n",
    "import pandas as pd"
   ]
  },
  {
   "cell_type": "code",
   "execution_count": 4,
   "metadata": {
    "execution": {
     "iopub.execute_input": "2021-06-11T00:51:15.944888Z",
     "iopub.status.busy": "2021-06-11T00:51:15.944564Z",
     "iopub.status.idle": "2021-06-11T00:51:15.985241Z",
     "shell.execute_reply": "2021-06-11T00:51:15.984213Z",
     "shell.execute_reply.started": "2021-06-11T00:51:15.944843Z"
    }
   },
   "outputs": [
    {
     "data": {
      "text/plain": [
       "<xarray.core.options.set_options at 0x7f53fac3f150>"
      ]
     },
     "execution_count": 4,
     "metadata": {},
     "output_type": "execute_result"
    }
   ],
   "source": [
    "xr.set_options(keep_attrs=True)"
   ]
  },
  {
   "cell_type": "code",
   "execution_count": 5,
   "metadata": {
    "execution": {
     "iopub.execute_input": "2021-06-11T00:51:15.987089Z",
     "iopub.status.busy": "2021-06-11T00:51:15.986769Z",
     "iopub.status.idle": "2021-06-11T00:51:16.016838Z",
     "shell.execute_reply": "2021-06-11T00:51:16.015797Z",
     "shell.execute_reply.started": "2021-06-11T00:51:15.987045Z"
    }
   },
   "outputs": [],
   "source": [
    "import ecephys_analyses as ea \n",
    "from ecephys import utils\n",
    "from ecephys.signal.xarray_utils import filter_dataset_by_hypnogram"
   ]
  },
  {
   "cell_type": "code",
   "execution_count": 6,
   "metadata": {
    "execution": {
     "iopub.execute_input": "2021-06-11T00:51:16.018679Z",
     "iopub.status.busy": "2021-06-11T00:51:16.018369Z",
     "iopub.status.idle": "2021-06-11T00:51:16.044333Z",
     "shell.execute_reply": "2021-06-11T00:51:16.043082Z",
     "shell.execute_reply.started": "2021-06-11T00:51:16.018635Z"
    }
   },
   "outputs": [],
   "source": [
    "def ds2df(ds):\n",
    "    s = ds.to_dataframe().stack()\n",
    "    s.index.names = s.index.names[:-1] + ['region']\n",
    "    return s.to_frame(name='power')"
   ]
  },
  {
   "cell_type": "code",
   "execution_count": 7,
   "metadata": {
    "execution": {
     "iopub.execute_input": "2021-06-11T00:51:16.046248Z",
     "iopub.status.busy": "2021-06-11T00:51:16.045914Z",
     "iopub.status.idle": "2021-06-11T00:51:16.074018Z",
     "shell.execute_reply": "2021-06-11T00:51:16.072738Z",
     "shell.execute_reply.started": "2021-06-11T00:51:16.046204Z"
    }
   },
   "outputs": [],
   "source": [
    "subject = \"Alessandro\"\n",
    "experiment = \"sleep-homeostasis\"\n",
    "norm_condition = \"light-period-circadian-match\"\n",
    "bsl_condition = \"recovery-sleep-circadian-match\"\n",
    "rec_condition = \"recovery-sleep\"\n",
    "states = [\"N1\", \"N2\"]\n",
    "duration = '02:00:00'\n",
    "light_period_start = '09:00:00'\n",
    "light_period_end = '21:00:00'\n",
    "f_range = (0.5, 4)"
   ]
  },
  {
   "cell_type": "code",
   "execution_count": 8,
   "metadata": {
    "execution": {
     "iopub.execute_input": "2021-06-11T00:51:16.075853Z",
     "iopub.status.busy": "2021-06-11T00:51:16.075537Z",
     "iopub.status.idle": "2021-06-11T00:51:20.798905Z",
     "shell.execute_reply": "2021-06-11T00:51:20.798054Z",
     "shell.execute_reply.started": "2021-06-11T00:51:16.075809Z"
    }
   },
   "outputs": [],
   "source": [
    "norm_hyp = ea.load_hypnogram(subject, experiment, norm_condition)\n",
    "norm_hyp = norm_hyp.keep_states(states).keep_between(light_period_start, light_period_end)\n",
    "\n",
    "norm_pow = ea.load_power(subject, experiment, norm_condition, \"spg.nc\").sel(frequency=slice(*f_range)).sum(dim=\"frequency\")\n",
    "norm_pow = filter_dataset_by_hypnogram(norm_pow, norm_hyp).swap_dims({'time': 'datetime'}).drop_vars(['time', 'timedelta'])"
   ]
  },
  {
   "cell_type": "code",
   "execution_count": 9,
   "metadata": {
    "execution": {
     "iopub.execute_input": "2021-06-11T00:51:20.800981Z",
     "iopub.status.busy": "2021-06-11T00:51:20.800792Z",
     "iopub.status.idle": "2021-06-11T00:51:22.584169Z",
     "shell.execute_reply": "2021-06-11T00:51:22.583111Z",
     "shell.execute_reply.started": "2021-06-11T00:51:20.800956Z"
    }
   },
   "outputs": [],
   "source": [
    "rec_hyp = ea.load_hypnogram(subject, experiment, rec_condition)\n",
    "rec_hyp = rec_hyp.keep_states(states).keep_first(duration)\n",
    "\n",
    "rec_pow = ea.load_power(subject, experiment, rec_condition, \"spg.nc\").sel(frequency=slice(*f_range)).sum(dim='frequency')\n",
    "rec_pow = filter_dataset_by_hypnogram(rec_pow, rec_hyp).swap_dims({'time': 'datetime'}).drop_vars(['time', 'timedelta'])\n",
    "rec_pow = rec_pow / norm_pow.mean(dim=\"datetime\") * 100"
   ]
  },
  {
   "cell_type": "code",
   "execution_count": 10,
   "metadata": {
    "execution": {
     "iopub.execute_input": "2021-06-11T00:51:22.586654Z",
     "iopub.status.busy": "2021-06-11T00:51:22.586351Z",
     "iopub.status.idle": "2021-06-11T00:51:24.849561Z",
     "shell.execute_reply": "2021-06-11T00:51:24.837525Z",
     "shell.execute_reply.started": "2021-06-11T00:51:22.586612Z"
    }
   },
   "outputs": [],
   "source": [
    "bsl_hyp = ea.load_hypnogram(subject, experiment, bsl_condition)\n",
    "bsl_hyp = bsl_hyp.keep_states(states).keep_between(rec_hyp.start_time.min().strftime(\"%H:%M:%S\"), light_period_end).keep_first(duration)\n",
    "\n",
    "bsl_pow = ea.load_power(subject, experiment, bsl_condition, \"spg.nc\").sel(frequency=slice(*f_range)).sum(dim='frequency')\n",
    "bsl_pow = filter_dataset_by_hypnogram(bsl_pow, bsl_hyp).swap_dims({'time': 'datetime'}).drop_vars(['time', 'timedelta'])\n",
    "bsl_pow = bsl_pow / norm_pow.mean(dim=\"datetime\") * 100"
   ]
  },
  {
   "cell_type": "code",
   "execution_count": 11,
   "metadata": {
    "execution": {
     "iopub.execute_input": "2021-06-11T00:51:24.852250Z",
     "iopub.status.busy": "2021-06-11T00:51:24.851892Z",
     "iopub.status.idle": "2021-06-11T00:51:24.911506Z",
     "shell.execute_reply": "2021-06-11T00:51:24.910564Z",
     "shell.execute_reply.started": "2021-06-11T00:51:24.852210Z"
    }
   },
   "outputs": [],
   "source": [
    "nrem_pow = pd.concat([ds2df(bsl_pow).assign(condition=\"baseline\"), ds2df(rec_pow).assign(condition=\"recovery\")])"
   ]
  },
  {
   "cell_type": "code",
   "execution_count": 12,
   "metadata": {
    "execution": {
     "iopub.execute_input": "2021-06-11T00:51:24.913014Z",
     "iopub.status.busy": "2021-06-11T00:51:24.912735Z",
     "iopub.status.idle": "2021-06-11T00:51:24.956565Z",
     "shell.execute_reply": "2021-06-11T00:51:24.955774Z",
     "shell.execute_reply.started": "2021-06-11T00:51:24.912978Z"
    }
   },
   "outputs": [
    {
     "data": {
      "text/html": [
       "<div>\n",
       "<style scoped>\n",
       "    .dataframe tbody tr th:only-of-type {\n",
       "        vertical-align: middle;\n",
       "    }\n",
       "\n",
       "    .dataframe tbody tr th {\n",
       "        vertical-align: top;\n",
       "    }\n",
       "\n",
       "    .dataframe thead th {\n",
       "        text-align: right;\n",
       "    }\n",
       "</style>\n",
       "<table border=\"1\" class=\"dataframe\">\n",
       "  <thead>\n",
       "    <tr style=\"text-align: right;\">\n",
       "      <th></th>\n",
       "      <th></th>\n",
       "      <th>power</th>\n",
       "      <th>condition</th>\n",
       "    </tr>\n",
       "    <tr>\n",
       "      <th>datetime</th>\n",
       "      <th>region</th>\n",
       "      <th></th>\n",
       "      <th></th>\n",
       "    </tr>\n",
       "  </thead>\n",
       "  <tbody>\n",
       "    <tr>\n",
       "      <th rowspan=\"2\" valign=\"top\">2020-08-24 15:07:40.999106578</th>\n",
       "      <th>mpta_wm_ref</th>\n",
       "      <td>20.516475</td>\n",
       "      <td>baseline</td>\n",
       "    </tr>\n",
       "    <tr>\n",
       "      <th>sr_wm_ref</th>\n",
       "      <td>300.596963</td>\n",
       "      <td>baseline</td>\n",
       "    </tr>\n",
       "    <tr>\n",
       "      <th rowspan=\"2\" valign=\"top\">2020-08-24 15:07:43.999089615</th>\n",
       "      <th>mpta_wm_ref</th>\n",
       "      <td>38.642198</td>\n",
       "      <td>baseline</td>\n",
       "    </tr>\n",
       "    <tr>\n",
       "      <th>sr_wm_ref</th>\n",
       "      <td>181.652578</td>\n",
       "      <td>baseline</td>\n",
       "    </tr>\n",
       "    <tr>\n",
       "      <th>2020-08-24 15:07:46.999072651</th>\n",
       "      <th>mpta_wm_ref</th>\n",
       "      <td>13.370830</td>\n",
       "      <td>baseline</td>\n",
       "    </tr>\n",
       "    <tr>\n",
       "      <th>...</th>\n",
       "      <th>...</th>\n",
       "      <td>...</td>\n",
       "      <td>...</td>\n",
       "    </tr>\n",
       "    <tr>\n",
       "      <th>2020-08-25 17:25:20.993796939</th>\n",
       "      <th>sr_wm_ref</th>\n",
       "      <td>68.782805</td>\n",
       "      <td>recovery</td>\n",
       "    </tr>\n",
       "    <tr>\n",
       "      <th rowspan=\"2\" valign=\"top\">2020-08-25 17:25:23.993779975</th>\n",
       "      <th>mpta_wm_ref</th>\n",
       "      <td>91.188490</td>\n",
       "      <td>recovery</td>\n",
       "    </tr>\n",
       "    <tr>\n",
       "      <th>sr_wm_ref</th>\n",
       "      <td>305.821715</td>\n",
       "      <td>recovery</td>\n",
       "    </tr>\n",
       "    <tr>\n",
       "      <th rowspan=\"2\" valign=\"top\">2020-08-25 17:25:26.993763011</th>\n",
       "      <th>mpta_wm_ref</th>\n",
       "      <td>185.543051</td>\n",
       "      <td>recovery</td>\n",
       "    </tr>\n",
       "    <tr>\n",
       "      <th>sr_wm_ref</th>\n",
       "      <td>56.345501</td>\n",
       "      <td>recovery</td>\n",
       "    </tr>\n",
       "  </tbody>\n",
       "</table>\n",
       "<p>9358 rows × 2 columns</p>\n",
       "</div>"
      ],
      "text/plain": [
       "                                                power condition\n",
       "datetime                      region                           \n",
       "2020-08-24 15:07:40.999106578 mpta_wm_ref   20.516475  baseline\n",
       "                              sr_wm_ref    300.596963  baseline\n",
       "2020-08-24 15:07:43.999089615 mpta_wm_ref   38.642198  baseline\n",
       "                              sr_wm_ref    181.652578  baseline\n",
       "2020-08-24 15:07:46.999072651 mpta_wm_ref   13.370830  baseline\n",
       "...                                               ...       ...\n",
       "2020-08-25 17:25:20.993796939 sr_wm_ref     68.782805  recovery\n",
       "2020-08-25 17:25:23.993779975 mpta_wm_ref   91.188490  recovery\n",
       "                              sr_wm_ref    305.821715  recovery\n",
       "2020-08-25 17:25:26.993763011 mpta_wm_ref  185.543051  recovery\n",
       "                              sr_wm_ref     56.345501  recovery\n",
       "\n",
       "[9358 rows x 2 columns]"
      ]
     },
     "execution_count": 12,
     "metadata": {},
     "output_type": "execute_result"
    }
   ],
   "source": [
    "nrem_pow"
   ]
  },
  {
   "cell_type": "code",
   "execution_count": 13,
   "metadata": {
    "execution": {
     "iopub.execute_input": "2021-06-11T00:51:24.958248Z",
     "iopub.status.busy": "2021-06-11T00:51:24.957766Z",
     "iopub.status.idle": "2021-06-11T00:51:24.982585Z",
     "shell.execute_reply": "2021-06-11T00:51:24.981778Z",
     "shell.execute_reply.started": "2021-06-11T00:51:24.958206Z"
    }
   },
   "outputs": [],
   "source": [
    "def mean_of_differences(df):\n",
    "    region_differences = df.power.loc[(slice(None), 'mpta_wm_ref')] - df.power.loc[(slice(None), 'sr_wm_ref')]\n",
    "    conditions = df.condition.loc[(slice(None), 'mpta_wm_ref')]\n",
    "    return pd.concat([region_differences, conditions], axis=1).groupby(['condition']).mean()"
   ]
  },
  {
   "cell_type": "code",
   "execution_count": 14,
   "metadata": {
    "execution": {
     "iopub.execute_input": "2021-06-11T00:51:24.984311Z",
     "iopub.status.busy": "2021-06-11T00:51:24.983827Z",
     "iopub.status.idle": "2021-06-11T00:51:25.006624Z",
     "shell.execute_reply": "2021-06-11T00:51:25.005789Z",
     "shell.execute_reply.started": "2021-06-11T00:51:24.984269Z"
    }
   },
   "outputs": [],
   "source": [
    "def recovery_minus_baseline(df):\n",
    "    return df.xs('recovery') - df.xs('baseline')"
   ]
  },
  {
   "cell_type": "code",
   "execution_count": 15,
   "metadata": {
    "execution": {
     "iopub.execute_input": "2021-06-11T00:51:25.008473Z",
     "iopub.status.busy": "2021-06-11T00:51:25.007964Z",
     "iopub.status.idle": "2021-06-11T00:51:25.035857Z",
     "shell.execute_reply": "2021-06-11T00:51:25.034923Z",
     "shell.execute_reply.started": "2021-06-11T00:51:25.008431Z"
    }
   },
   "outputs": [],
   "source": [
    "def shuffle_region_labels(df): \n",
    "    permuted = df.reset_index()\n",
    "    region_labels = permuted.region.values.reshape(-1, 2)\n",
    "    rng = np.random.default_rng()\n",
    "    rng.permuted(region_labels, axis=1, out=region_labels)\n",
    "    permuted.set_index(['datetime', 'region'], inplace=True)\n",
    "    return permuted"
   ]
  },
  {
   "cell_type": "code",
   "execution_count": 16,
   "metadata": {
    "execution": {
     "iopub.execute_input": "2021-06-11T00:51:25.041660Z",
     "iopub.status.busy": "2021-06-11T00:51:25.037216Z",
     "iopub.status.idle": "2021-06-11T00:53:54.478513Z",
     "shell.execute_reply": "2021-06-11T00:53:54.477321Z",
     "shell.execute_reply.started": "2021-06-11T00:51:25.041616Z"
    }
   },
   "outputs": [],
   "source": [
    "observed = recovery_minus_baseline(mean_of_differences(nrem_pow))\n",
    "\n",
    "n_permutations = 10000\n",
    "permutations = list()\n",
    "for i in range(n_permutations):\n",
    "    permuted = shuffle_region_labels(nrem_pow)\n",
    "    permutations.append(recovery_minus_baseline(mean_of_differences((permuted))))\n",
    "    \n",
    "df = pd.concat(permutations).to_frame(name='rec_minus_bsl').reset_index(drop=True)"
   ]
  },
  {
   "cell_type": "code",
   "execution_count": 17,
   "metadata": {
    "execution": {
     "iopub.execute_input": "2021-06-11T00:53:54.480586Z",
     "iopub.status.busy": "2021-06-11T00:53:54.480115Z",
     "iopub.status.idle": "2021-06-11T00:53:56.342058Z",
     "shell.execute_reply": "2021-06-11T00:53:56.341218Z",
     "shell.execute_reply.started": "2021-06-11T00:53:54.480541Z"
    }
   },
   "outputs": [
    {
     "data": {
      "image/png": "[encoded data removed]",
      "text/plain": [
       "<Figure size 466.375x360 with 1 Axes>"
      ]
     },
     "metadata": {
      "needs_background": "light"
     },
     "output_type": "display_data"
    }
   ],
   "source": [
    "g = sns.displot(data=df, kind='hist')\n",
    "g.set(xlabel='Mean of differences (Cortex - Hippocampus)')\n",
    "g.tight_layout()"
   ]
  },
  {
   "cell_type": "code",
   "execution_count": 18,
   "metadata": {
    "execution": {
     "iopub.execute_input": "2021-06-11T00:53:56.343775Z",
     "iopub.status.busy": "2021-06-11T00:53:56.343335Z",
     "iopub.status.idle": "2021-06-11T00:53:56.402074Z",
     "shell.execute_reply": "2021-06-11T00:53:56.401244Z",
     "shell.execute_reply.started": "2021-06-11T00:53:56.343734Z"
    }
   },
   "outputs": [],
   "source": [
    "p = np.sum(df.rec_minus_bsl.values >= observed.power)"
   ]
  },
  {
   "cell_type": "code",
   "execution_count": 19,
   "metadata": {
    "execution": {
     "iopub.execute_input": "2021-06-11T00:53:56.403724Z",
     "iopub.status.busy": "2021-06-11T00:53:56.403264Z",
     "iopub.status.idle": "2021-06-11T00:53:56.447372Z",
     "shell.execute_reply": "2021-06-11T00:53:56.446568Z",
     "shell.execute_reply.started": "2021-06-11T00:53:56.403684Z"
    }
   },
   "outputs": [
    {
     "name": "stdout",
     "output_type": "stream",
     "text": [
      "Subject: Alessandro\n",
      "Observed difference, Cortex - Hippocampus:\n",
      "power    68.870644\n",
      "dtype: float64\n",
      "\n",
      "Shuffled differences >= observed:\n",
      "Cortex: 1 / 10000\n"
     ]
    }
   ],
   "source": [
    "print(f\"Subject: {subject}\")\n",
    "print('Observed difference, Cortex - Hippocampus:')\n",
    "print(f'{observed}')\n",
    "print('')\n",
    "print('Shuffled differences >= observed:')\n",
    "print(f\"Cortex: {1 + p} / {n_permutations}\")"
   ]
  },
  {
   "cell_type": "code",
   "execution_count": null,
   "metadata": {},
   "outputs": [],
   "source": []
  }
 ],
 "metadata": {
  "kernelspec": {
   "display_name": "Python 3",
   "language": "python",
   "name": "python3"
  },
  "language_info": {
   "codemirror_mode": {
    "name": "ipython",
    "version": 3
   },
   "file_extension": ".py",
   "mimetype": "text/x-python",
   "name": "python",
   "nbconvert_exporter": "python",
   "pygments_lexer": "ipython3",
   "version": "3.7.9"
  }
 },
 "nbformat": 4,
 "nbformat_minor": 4
}
