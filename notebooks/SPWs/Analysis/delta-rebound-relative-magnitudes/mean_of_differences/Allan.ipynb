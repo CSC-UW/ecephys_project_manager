{
 "cells": [
  {
   "cell_type": "code",
   "execution_count": null,
   "metadata": {},
   "outputs": [],
   "source": [
    "%load_ext autoreload\n",
    "%autoreload 2"
   ]
  },
  {
   "cell_type": "code",
   "execution_count": null,
   "metadata": {},
   "outputs": [],
   "source": [
    "# %matplotlib widget\n",
    "import matplotlib.pyplot as plt\n",
    "import seaborn as sns"
   ]
  },
  {
   "cell_type": "code",
   "execution_count": null,
   "metadata": {},
   "outputs": [],
   "source": [
    "import xarray as xr\n",
    "import numpy as np\n",
    "import pandas as pd"
   ]
  },
  {
   "cell_type": "code",
   "execution_count": null,
   "metadata": {},
   "outputs": [],
   "source": [
    "xr.set_options(keep_attrs=True)"
   ]
  },
  {
   "cell_type": "code",
   "execution_count": null,
   "metadata": {},
   "outputs": [],
   "source": [
    "import ecephys_analyses as ea \n",
    "from ecephys import utils\n",
    "from ecephys.signal.xarray_utils import filter_dataset_by_hypnogram"
   ]
  },
  {
   "cell_type": "code",
   "execution_count": 6,
   "metadata": {
    "execution": {
     "iopub.execute_input": "2021-06-11T00:54:14.798132Z",
     "iopub.status.busy": "2021-06-11T00:54:14.797838Z",
     "iopub.status.idle": "2021-06-11T00:54:14.826470Z",
     "shell.execute_reply": "2021-06-11T00:54:14.825503Z",
     "shell.execute_reply.started": "2021-06-11T00:54:14.798090Z"
    }
   },
   "outputs": [],
   "source": [
    "def ds2df(ds):\n",
    "    s = ds.to_dataframe().stack()\n",
    "    s.index.names = s.index.names[:-1] + ['region']\n",
    "    return s.to_frame(name='power')"
   ]
  },
  {
   "cell_type": "code",
   "execution_count": 7,
   "metadata": {
    "execution": {
     "iopub.execute_input": "2021-06-11T00:54:14.828082Z",
     "iopub.status.busy": "2021-06-11T00:54:14.827796Z",
     "iopub.status.idle": "2021-06-11T00:54:14.857692Z",
     "shell.execute_reply": "2021-06-11T00:54:14.856715Z",
     "shell.execute_reply.started": "2021-06-11T00:54:14.828042Z"
    }
   },
   "outputs": [],
   "source": [
    "subject = \"Allan\"\n",
    "experiment = \"sleep-homeostasis\"\n",
    "norm_condition = \"light-period-circadian-match\"\n",
    "bsl_condition = \"recovery-sleep-circadian-match\"\n",
    "rec_condition = \"recovery-sleep\"\n",
    "states = [\"N1\", \"N2\"]\n",
    "duration = '02:00:00'\n",
    "light_period_start = '09:00:00'\n",
    "light_period_end = '21:00:00'\n",
    "f_range = (0.5, 4)"
   ]
  },
  {
   "cell_type": "code",
   "execution_count": 8,
   "metadata": {
    "execution": {
     "iopub.execute_input": "2021-06-11T00:54:14.859356Z",
     "iopub.status.busy": "2021-06-11T00:54:14.859070Z",
     "iopub.status.idle": "2021-06-11T00:54:19.036955Z",
     "shell.execute_reply": "2021-06-11T00:54:19.035738Z",
     "shell.execute_reply.started": "2021-06-11T00:54:14.859316Z"
    }
   },
   "outputs": [],
   "source": [
    "norm_hyp = ea.load_hypnogram(subject, experiment, norm_condition)\n",
    "norm_hyp = norm_hyp.keep_states(states).keep_between(light_period_start, light_period_end)\n",
    "\n",
    "norm_pow = ea.load_power(subject, experiment, norm_condition, \"spg.nc\").sel(frequency=slice(*f_range)).sum(dim=\"frequency\")\n",
    "norm_pow = filter_dataset_by_hypnogram(norm_pow, norm_hyp).swap_dims({'time': 'datetime'}).drop_vars(['time', 'timedelta'])"
   ]
  },
  {
   "cell_type": "code",
   "execution_count": 9,
   "metadata": {
    "execution": {
     "iopub.execute_input": "2021-06-11T00:54:19.040732Z",
     "iopub.status.busy": "2021-06-11T00:54:19.040395Z",
     "iopub.status.idle": "2021-06-11T00:54:20.808644Z",
     "shell.execute_reply": "2021-06-11T00:54:20.807433Z",
     "shell.execute_reply.started": "2021-06-11T00:54:19.040686Z"
    }
   },
   "outputs": [],
   "source": [
    "rec_hyp = ea.load_hypnogram(subject, experiment, rec_condition)\n",
    "rec_hyp = rec_hyp.keep_states(states).keep_first(duration)\n",
    "\n",
    "rec_pow = ea.load_power(subject, experiment, rec_condition, \"spg.nc\").sel(frequency=slice(*f_range)).sum(dim='frequency')\n",
    "rec_pow = filter_dataset_by_hypnogram(rec_pow, rec_hyp).swap_dims({'time': 'datetime'}).drop_vars(['time', 'timedelta'])\n",
    "rec_pow = rec_pow / norm_pow.mean(dim=\"datetime\") * 100"
   ]
  },
  {
   "cell_type": "code",
   "execution_count": 10,
   "metadata": {
    "execution": {
     "iopub.execute_input": "2021-06-11T00:54:20.811433Z",
     "iopub.status.busy": "2021-06-11T00:54:20.811122Z",
     "iopub.status.idle": "2021-06-11T00:54:23.031002Z",
     "shell.execute_reply": "2021-06-11T00:54:23.029075Z",
     "shell.execute_reply.started": "2021-06-11T00:54:20.811389Z"
    }
   },
   "outputs": [],
   "source": [
    "bsl_hyp = ea.load_hypnogram(subject, experiment, bsl_condition)\n",
    "bsl_hyp = bsl_hyp.keep_states(states).keep_between(rec_hyp.start_time.min().strftime(\"%H:%M:%S\"), light_period_end).keep_first(duration)\n",
    "\n",
    "bsl_pow = ea.load_power(subject, experiment, bsl_condition, \"spg.nc\").sel(frequency=slice(*f_range)).sum(dim='frequency')\n",
    "bsl_pow = filter_dataset_by_hypnogram(bsl_pow, bsl_hyp).swap_dims({'time': 'datetime'}).drop_vars(['time', 'timedelta'])\n",
    "bsl_pow = bsl_pow / norm_pow.mean(dim=\"datetime\") * 100"
   ]
  },
  {
   "cell_type": "code",
   "execution_count": 11,
   "metadata": {
    "execution": {
     "iopub.execute_input": "2021-06-11T00:54:23.033928Z",
     "iopub.status.busy": "2021-06-11T00:54:23.033320Z",
     "iopub.status.idle": "2021-06-11T00:54:23.080697Z",
     "shell.execute_reply": "2021-06-11T00:54:23.079700Z",
     "shell.execute_reply.started": "2021-06-11T00:54:23.033871Z"
    }
   },
   "outputs": [],
   "source": [
    "nrem_pow = pd.concat([ds2df(bsl_pow).assign(condition=\"baseline\"), ds2df(rec_pow).assign(condition=\"recovery\")])"
   ]
  },
  {
   "cell_type": "code",
   "execution_count": 12,
   "metadata": {
    "execution": {
     "iopub.execute_input": "2021-06-11T00:54:23.082271Z",
     "iopub.status.busy": "2021-06-11T00:54:23.081968Z",
     "iopub.status.idle": "2021-06-11T00:54:23.126223Z",
     "shell.execute_reply": "2021-06-11T00:54:23.125272Z",
     "shell.execute_reply.started": "2021-06-11T00:54:23.082231Z"
    }
   },
   "outputs": [
    {
     "data": {
      "text/html": [
       "<div>\n",
       "<style scoped>\n",
       "    .dataframe tbody tr th:only-of-type {\n",
       "        vertical-align: middle;\n",
       "    }\n",
       "\n",
       "    .dataframe tbody tr th {\n",
       "        vertical-align: top;\n",
       "    }\n",
       "\n",
       "    .dataframe thead th {\n",
       "        text-align: right;\n",
       "    }\n",
       "</style>\n",
       "<table border=\"1\" class=\"dataframe\">\n",
       "  <thead>\n",
       "    <tr style=\"text-align: right;\">\n",
       "      <th></th>\n",
       "      <th></th>\n",
       "      <th>power</th>\n",
       "      <th>condition</th>\n",
       "    </tr>\n",
       "    <tr>\n",
       "      <th>datetime</th>\n",
       "      <th>region</th>\n",
       "      <th></th>\n",
       "      <th></th>\n",
       "    </tr>\n",
       "  </thead>\n",
       "  <tbody>\n",
       "    <tr>\n",
       "      <th rowspan=\"2\" valign=\"top\">2021-03-01 15:01:46.000138841</th>\n",
       "      <th>mpta_wm_ref</th>\n",
       "      <td>48.137691</td>\n",
       "      <td>baseline</td>\n",
       "    </tr>\n",
       "    <tr>\n",
       "      <th>sr_wm_ref</th>\n",
       "      <td>93.659193</td>\n",
       "      <td>baseline</td>\n",
       "    </tr>\n",
       "    <tr>\n",
       "      <th rowspan=\"2\" valign=\"top\">2021-03-01 15:01:49.000139731</th>\n",
       "      <th>mpta_wm_ref</th>\n",
       "      <td>97.065576</td>\n",
       "      <td>baseline</td>\n",
       "    </tr>\n",
       "    <tr>\n",
       "      <th>sr_wm_ref</th>\n",
       "      <td>83.565417</td>\n",
       "      <td>baseline</td>\n",
       "    </tr>\n",
       "    <tr>\n",
       "      <th>2021-03-01 15:01:52.000140621</th>\n",
       "      <th>mpta_wm_ref</th>\n",
       "      <td>104.384563</td>\n",
       "      <td>baseline</td>\n",
       "    </tr>\n",
       "    <tr>\n",
       "      <th>...</th>\n",
       "      <th>...</th>\n",
       "      <td>...</td>\n",
       "      <td>...</td>\n",
       "    </tr>\n",
       "    <tr>\n",
       "      <th>2021-03-02 18:09:16.999961706</th>\n",
       "      <th>sr_wm_ref</th>\n",
       "      <td>193.096412</td>\n",
       "      <td>recovery</td>\n",
       "    </tr>\n",
       "    <tr>\n",
       "      <th rowspan=\"2\" valign=\"top\">2021-03-02 18:09:37.999967937</th>\n",
       "      <th>mpta_wm_ref</th>\n",
       "      <td>85.517224</td>\n",
       "      <td>recovery</td>\n",
       "    </tr>\n",
       "    <tr>\n",
       "      <th>sr_wm_ref</th>\n",
       "      <td>138.732316</td>\n",
       "      <td>recovery</td>\n",
       "    </tr>\n",
       "    <tr>\n",
       "      <th rowspan=\"2\" valign=\"top\">2021-03-02 18:09:40.999968827</th>\n",
       "      <th>mpta_wm_ref</th>\n",
       "      <td>119.167848</td>\n",
       "      <td>recovery</td>\n",
       "    </tr>\n",
       "    <tr>\n",
       "      <th>sr_wm_ref</th>\n",
       "      <td>168.662658</td>\n",
       "      <td>recovery</td>\n",
       "    </tr>\n",
       "  </tbody>\n",
       "</table>\n",
       "<p>9550 rows × 2 columns</p>\n",
       "</div>"
      ],
      "text/plain": [
       "                                                power condition\n",
       "datetime                      region                           \n",
       "2021-03-01 15:01:46.000138841 mpta_wm_ref   48.137691  baseline\n",
       "                              sr_wm_ref     93.659193  baseline\n",
       "2021-03-01 15:01:49.000139731 mpta_wm_ref   97.065576  baseline\n",
       "                              sr_wm_ref     83.565417  baseline\n",
       "2021-03-01 15:01:52.000140621 mpta_wm_ref  104.384563  baseline\n",
       "...                                               ...       ...\n",
       "2021-03-02 18:09:16.999961706 sr_wm_ref    193.096412  recovery\n",
       "2021-03-02 18:09:37.999967937 mpta_wm_ref   85.517224  recovery\n",
       "                              sr_wm_ref    138.732316  recovery\n",
       "2021-03-02 18:09:40.999968827 mpta_wm_ref  119.167848  recovery\n",
       "                              sr_wm_ref    168.662658  recovery\n",
       "\n",
       "[9550 rows x 2 columns]"
      ]
     },
     "execution_count": 12,
     "metadata": {},
     "output_type": "execute_result"
    }
   ],
   "source": [
    "nrem_pow"
   ]
  },
  {
   "cell_type": "code",
   "execution_count": 13,
   "metadata": {
    "execution": {
     "iopub.execute_input": "2021-06-11T00:54:23.127730Z",
     "iopub.status.busy": "2021-06-11T00:54:23.127447Z",
     "iopub.status.idle": "2021-06-11T00:54:23.157065Z",
     "shell.execute_reply": "2021-06-11T00:54:23.155954Z",
     "shell.execute_reply.started": "2021-06-11T00:54:23.127690Z"
    }
   },
   "outputs": [],
   "source": [
    "def mean_of_differences(df):\n",
    "    region_differences = df.power.loc[(slice(None), 'mpta_wm_ref')] - df.power.loc[(slice(None), 'sr_wm_ref')]\n",
    "    conditions = df.condition.loc[(slice(None), 'mpta_wm_ref')]\n",
    "    return pd.concat([region_differences, conditions], axis=1).groupby(['condition']).mean()"
   ]
  },
  {
   "cell_type": "code",
   "execution_count": 14,
   "metadata": {
    "execution": {
     "iopub.execute_input": "2021-06-11T00:54:23.158648Z",
     "iopub.status.busy": "2021-06-11T00:54:23.158371Z",
     "iopub.status.idle": "2021-06-11T00:54:23.185206Z",
     "shell.execute_reply": "2021-06-11T00:54:23.184174Z",
     "shell.execute_reply.started": "2021-06-11T00:54:23.158609Z"
    }
   },
   "outputs": [],
   "source": [
    "def recovery_minus_baseline(df):\n",
    "    return df.xs('recovery') - df.xs('baseline')"
   ]
  },
  {
   "cell_type": "code",
   "execution_count": 15,
   "metadata": {
    "execution": {
     "iopub.execute_input": "2021-06-11T00:54:23.186795Z",
     "iopub.status.busy": "2021-06-11T00:54:23.186507Z",
     "iopub.status.idle": "2021-06-11T00:54:23.217723Z",
     "shell.execute_reply": "2021-06-11T00:54:23.216566Z",
     "shell.execute_reply.started": "2021-06-11T00:54:23.186755Z"
    }
   },
   "outputs": [],
   "source": [
    "def shuffle_region_labels(df): \n",
    "    permuted = df.reset_index()\n",
    "    region_labels = permuted.region.values.reshape(-1, 2)\n",
    "    rng = np.random.default_rng()\n",
    "    rng.permuted(region_labels, axis=1, out=region_labels)\n",
    "    permuted.set_index(['datetime', 'region'], inplace=True)\n",
    "    return permuted"
   ]
  },
  {
   "cell_type": "code",
   "execution_count": 16,
   "metadata": {
    "execution": {
     "iopub.execute_input": "2021-06-11T00:54:23.219265Z",
     "iopub.status.busy": "2021-06-11T00:54:23.218989Z",
     "iopub.status.idle": "2021-06-11T00:56:45.626426Z",
     "shell.execute_reply": "2021-06-11T00:56:45.625060Z",
     "shell.execute_reply.started": "2021-06-11T00:54:23.219226Z"
    }
   },
   "outputs": [],
   "source": [
    "observed = recovery_minus_baseline(mean_of_differences(nrem_pow))\n",
    "\n",
    "n_permutations = 10000\n",
    "permutations = list()\n",
    "for i in range(n_permutations):\n",
    "    permuted = shuffle_region_labels(nrem_pow)\n",
    "    permutations.append(recovery_minus_baseline(mean_of_differences((permuted))))\n",
    "    \n",
    "df = pd.concat(permutations).to_frame(name='rec_minus_bsl').reset_index(drop=True)"
   ]
  },
  {
   "cell_type": "code",
   "execution_count": 17,
   "metadata": {
    "execution": {
     "iopub.execute_input": "2021-06-11T00:56:45.628427Z",
     "iopub.status.busy": "2021-06-11T00:56:45.628088Z",
     "iopub.status.idle": "2021-06-11T00:56:46.555423Z",
     "shell.execute_reply": "2021-06-11T00:56:46.554335Z",
     "shell.execute_reply.started": "2021-06-11T00:56:45.628383Z"
    }
   },
   "outputs": [
    {
     "data": {
      "image/png": "[encoded data removed]",
      "text/plain": [
       "<Figure size 466.375x360 with 1 Axes>"
      ]
     },
     "metadata": {
      "needs_background": "light"
     },
     "output_type": "display_data"
    }
   ],
   "source": [
    "g = sns.displot(data=df, kind='hist')\n",
    "g.set(xlabel='Mean of differences (Cortex - Hippocampus)')\n",
    "g.tight_layout()"
   ]
  },
  {
   "cell_type": "code",
   "execution_count": 18,
   "metadata": {
    "execution": {
     "iopub.execute_input": "2021-06-11T00:56:46.557291Z",
     "iopub.status.busy": "2021-06-11T00:56:46.556950Z",
     "iopub.status.idle": "2021-06-11T00:56:46.582420Z",
     "shell.execute_reply": "2021-06-11T00:56:46.581560Z",
     "shell.execute_reply.started": "2021-06-11T00:56:46.557247Z"
    }
   },
   "outputs": [],
   "source": [
    "p = np.sum(df.rec_minus_bsl.values >= observed.power)"
   ]
  },
  {
   "cell_type": "code",
   "execution_count": 19,
   "metadata": {
    "execution": {
     "iopub.execute_input": "2021-06-11T00:56:46.584028Z",
     "iopub.status.busy": "2021-06-11T00:56:46.583721Z",
     "iopub.status.idle": "2021-06-11T00:56:46.610762Z",
     "shell.execute_reply": "2021-06-11T00:56:46.609955Z",
     "shell.execute_reply.started": "2021-06-11T00:56:46.583990Z"
    }
   },
   "outputs": [
    {
     "name": "stdout",
     "output_type": "stream",
     "text": [
      "Subject: Allan\n",
      "Observed difference, Cortex - Hippocampus:\n",
      "power    155.217075\n",
      "dtype: float64\n",
      "\n",
      "Shuffled differences >= observed:\n",
      "Cortex: 1 / 10000\n"
     ]
    }
   ],
   "source": [
    "print(f\"Subject: {subject}\")\n",
    "print('Observed difference, Cortex - Hippocampus:')\n",
    "print(f'{observed}')\n",
    "print('')\n",
    "print('Shuffled differences >= observed:')\n",
    "print(f\"Cortex: {1 + p} / {n_permutations}\")"
   ]
  },
  {
   "cell_type": "code",
   "execution_count": null,
   "metadata": {},
   "outputs": [],
   "source": []
  }
 ],
 "metadata": {
  "kernelspec": {
   "display_name": "Python 3",
   "language": "python",
   "name": "python3"
  },
  "language_info": {
   "codemirror_mode": {
    "name": "ipython",
    "version": 3
   },
   "file_extension": ".py",
   "mimetype": "text/x-python",
   "name": "python",
   "nbconvert_exporter": "python",
   "pygments_lexer": "ipython3",
   "version": "3.7.9"
  }
 },
 "nbformat": 4,
 "nbformat_minor": 4
}
