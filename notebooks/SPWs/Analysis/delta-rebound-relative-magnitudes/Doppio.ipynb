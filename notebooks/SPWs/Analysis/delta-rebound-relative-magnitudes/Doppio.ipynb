{
 "cells": [
  {
   "cell_type": "code",
   "execution_count": 1,
   "metadata": {
    "execution": {
     "iopub.execute_input": "2021-06-12T19:47:15.287635Z",
     "iopub.status.busy": "2021-06-12T19:47:15.287447Z",
     "iopub.status.idle": "2021-06-12T19:47:15.299976Z",
     "shell.execute_reply": "2021-06-12T19:47:15.299522Z",
     "shell.execute_reply.started": "2021-06-12T19:47:15.287616Z"
    }
   },
   "outputs": [],
   "source": [
    "%load_ext autoreload\n",
    "%autoreload 2"
   ]
  },
  {
   "cell_type": "code",
   "execution_count": 2,
   "metadata": {
    "execution": {
     "iopub.execute_input": "2021-06-12T19:47:15.300747Z",
     "iopub.status.busy": "2021-06-12T19:47:15.300621Z",
     "iopub.status.idle": "2021-06-12T19:47:15.639341Z",
     "shell.execute_reply": "2021-06-12T19:47:15.638846Z",
     "shell.execute_reply.started": "2021-06-12T19:47:15.300730Z"
    }
   },
   "outputs": [],
   "source": [
    "# %matplotlib widget\n",
    "import matplotlib.pyplot as plt\n",
    "import seaborn as sns"
   ]
  },
  {
   "cell_type": "code",
   "execution_count": 3,
   "metadata": {
    "execution": {
     "iopub.execute_input": "2021-06-12T19:47:15.640350Z",
     "iopub.status.busy": "2021-06-12T19:47:15.640215Z",
     "iopub.status.idle": "2021-06-12T19:47:15.868104Z",
     "shell.execute_reply": "2021-06-12T19:47:15.867526Z",
     "shell.execute_reply.started": "2021-06-12T19:47:15.640333Z"
    }
   },
   "outputs": [],
   "source": [
    "import xarray as xr\n",
    "import numpy as np\n",
    "import pandas as pd"
   ]
  },
  {
   "cell_type": "code",
   "execution_count": 4,
   "metadata": {
    "execution": {
     "iopub.execute_input": "2021-06-12T19:47:15.869105Z",
     "iopub.status.busy": "2021-06-12T19:47:15.868969Z",
     "iopub.status.idle": "2021-06-12T19:47:15.880889Z",
     "shell.execute_reply": "2021-06-12T19:47:15.880392Z",
     "shell.execute_reply.started": "2021-06-12T19:47:15.869088Z"
    }
   },
   "outputs": [
    {
     "data": {
      "text/plain": [
       "<xarray.core.options.set_options at 0x7f67aaa66750>"
      ]
     },
     "execution_count": 4,
     "metadata": {},
     "output_type": "execute_result"
    }
   ],
   "source": [
    "xr.set_options(keep_attrs=True)"
   ]
  },
  {
   "cell_type": "code",
   "execution_count": 5,
   "metadata": {
    "execution": {
     "iopub.execute_input": "2021-06-12T19:47:15.881590Z",
     "iopub.status.busy": "2021-06-12T19:47:15.881460Z",
     "iopub.status.idle": "2021-06-12T19:47:15.894091Z",
     "shell.execute_reply": "2021-06-12T19:47:15.893583Z",
     "shell.execute_reply.started": "2021-06-12T19:47:15.881573Z"
    }
   },
   "outputs": [],
   "source": [
    "import ecephys_analyses as ea \n",
    "from ecephys import utils\n",
    "from ecephys.signal.xarray_utils import filter_dataset_by_hypnogram"
   ]
  },
  {
   "cell_type": "code",
   "execution_count": 6,
   "metadata": {
    "execution": {
     "iopub.execute_input": "2021-06-12T19:47:15.894728Z",
     "iopub.status.busy": "2021-06-12T19:47:15.894608Z",
     "iopub.status.idle": "2021-06-12T19:47:15.905785Z",
     "shell.execute_reply": "2021-06-12T19:47:15.905195Z",
     "shell.execute_reply.started": "2021-06-12T19:47:15.894713Z"
    }
   },
   "outputs": [],
   "source": [
    "subject = \"Doppio\"\n",
    "experiment = \"novel_objects_deprivation\"\n",
    "norm_condition = \"light-period-circadian-match\"\n",
    "bsl_condition = \"recovery-sleep-circadian-match\"\n",
    "rec_condition = \"recovery-sleep\"\n",
    "states = [\"N1\", \"N2\"]\n",
    "duration = '02:00:00'\n",
    "light_period_start = '09:00:00'\n",
    "light_period_end = '21:00:00'\n",
    "f_range = (0.5, 4)"
   ]
  },
  {
   "cell_type": "code",
   "execution_count": 7,
   "metadata": {
    "execution": {
     "iopub.execute_input": "2021-06-12T19:47:15.906416Z",
     "iopub.status.busy": "2021-06-12T19:47:15.906298Z",
     "iopub.status.idle": "2021-06-12T19:47:19.366027Z",
     "shell.execute_reply": "2021-06-12T19:47:19.365600Z",
     "shell.execute_reply.started": "2021-06-12T19:47:15.906401Z"
    }
   },
   "outputs": [],
   "source": [
    "norm_hyp = ea.load_hypnogram(subject, experiment, norm_condition)\n",
    "norm_hyp = norm_hyp.keep_states(states).keep_between(light_period_start, light_period_end)\n",
    "\n",
    "norm_pow = ea.load_power(subject, experiment, norm_condition, \"spg.nc\").sel(frequency=slice(*f_range)).sum(dim=\"frequency\")\n",
    "norm_pow = filter_dataset_by_hypnogram(norm_pow, norm_hyp).swap_dims({'time': 'datetime'}).drop_vars(['time', 'timedelta'])"
   ]
  },
  {
   "cell_type": "code",
   "execution_count": 8,
   "metadata": {
    "execution": {
     "iopub.execute_input": "2021-06-12T19:47:19.367348Z",
     "iopub.status.busy": "2021-06-12T19:47:19.367209Z",
     "iopub.status.idle": "2021-06-12T19:47:20.971694Z",
     "shell.execute_reply": "2021-06-12T19:47:20.970977Z",
     "shell.execute_reply.started": "2021-06-12T19:47:19.367331Z"
    }
   },
   "outputs": [],
   "source": [
    "rec_hyp = ea.load_hypnogram(subject, experiment, rec_condition)\n",
    "rec_hyp = rec_hyp.keep_states(states).keep_first(duration)\n",
    "\n",
    "rec_pow = ea.load_power(subject, experiment, rec_condition, \"spg.nc\").sel(frequency=slice(*f_range)).sum(dim='frequency')\n",
    "rec_pow = filter_dataset_by_hypnogram(rec_pow, rec_hyp).swap_dims({'time': 'datetime'}).drop_vars(['time', 'timedelta'])\n",
    "rec_pow = rec_pow / norm_pow.mean(dim=\"datetime\") * 100"
   ]
  },
  {
   "cell_type": "code",
   "execution_count": 9,
   "metadata": {
    "execution": {
     "iopub.execute_input": "2021-06-12T19:47:20.973082Z",
     "iopub.status.busy": "2021-06-12T19:47:20.972910Z",
     "iopub.status.idle": "2021-06-12T19:47:22.600893Z",
     "shell.execute_reply": "2021-06-12T19:47:22.599888Z",
     "shell.execute_reply.started": "2021-06-12T19:47:20.973064Z"
    }
   },
   "outputs": [],
   "source": [
    "bsl_hyp = ea.load_hypnogram(subject, experiment, bsl_condition)\n",
    "bsl_hyp = bsl_hyp.keep_states(states).keep_between(rec_hyp.start_time.min().strftime(\"%H:%M:%S\"), light_period_end).keep_first(duration)\n",
    "\n",
    "bsl_pow = ea.load_power(subject, experiment, bsl_condition, \"spg.nc\").sel(frequency=slice(*f_range)).sum(dim='frequency')\n",
    "bsl_pow = filter_dataset_by_hypnogram(bsl_pow, bsl_hyp).swap_dims({'time': 'datetime'}).drop_vars(['time', 'timedelta'])\n",
    "bsl_pow = bsl_pow / norm_pow.mean(dim=\"datetime\") * 100"
   ]
  },
  {
   "cell_type": "code",
   "execution_count": 10,
   "metadata": {
    "execution": {
     "iopub.execute_input": "2021-06-12T19:47:22.602023Z",
     "iopub.status.busy": "2021-06-12T19:47:22.601858Z",
     "iopub.status.idle": "2021-06-12T19:47:22.619810Z",
     "shell.execute_reply": "2021-06-12T19:47:22.618350Z",
     "shell.execute_reply.started": "2021-06-12T19:47:22.602003Z"
    }
   },
   "outputs": [],
   "source": [
    "def match_lengths(dataframes):\n",
    "    length = min(list(map(len, dataframes)))\n",
    "    return (df.iloc[:length] for df in dataframes)"
   ]
  },
  {
   "cell_type": "code",
   "execution_count": 11,
   "metadata": {
    "execution": {
     "iopub.execute_input": "2021-06-12T19:47:22.622225Z",
     "iopub.status.busy": "2021-06-12T19:47:22.621795Z",
     "iopub.status.idle": "2021-06-12T19:47:22.646340Z",
     "shell.execute_reply": "2021-06-12T19:47:22.645713Z",
     "shell.execute_reply.started": "2021-06-12T19:47:22.622167Z"
    }
   },
   "outputs": [],
   "source": [
    "bsl_df = bsl_pow.to_dataframe().reset_index(drop=True).rename_axis(index='pair', columns='region').stack().to_frame(name='baseline')\n",
    "rec_df = rec_pow.to_dataframe().reset_index(drop=True).rename_axis(index='pair', columns='region').stack().to_frame(name='recovery')\n",
    "bsl_df, rec_df = match_lengths((bsl_df, rec_df))\n",
    "df = bsl_df.join(rec_df).rename_axis(columns='condition')"
   ]
  },
  {
   "cell_type": "code",
   "execution_count": 12,
   "metadata": {
    "execution": {
     "iopub.execute_input": "2021-06-12T19:47:22.647102Z",
     "iopub.status.busy": "2021-06-12T19:47:22.646982Z",
     "iopub.status.idle": "2021-06-12T19:47:22.660348Z",
     "shell.execute_reply": "2021-06-12T19:47:22.659690Z",
     "shell.execute_reply.started": "2021-06-12T19:47:22.647087Z"
    }
   },
   "outputs": [],
   "source": [
    "df_plot = df.stack().to_frame(name='power')\n",
    "df_plot['log_power'] = np.log(df_plot.power)\n",
    "df_plot['sqrt_power'] = np.sqrt(df_plot.power)"
   ]
  },
  {
   "cell_type": "code",
   "execution_count": 13,
   "metadata": {
    "execution": {
     "iopub.execute_input": "2021-06-12T19:47:22.661018Z",
     "iopub.status.busy": "2021-06-12T19:47:22.660903Z",
     "iopub.status.idle": "2021-06-12T19:47:23.676816Z",
     "shell.execute_reply": "2021-06-12T19:47:23.675943Z",
     "shell.execute_reply.started": "2021-06-12T19:47:22.661003Z"
    }
   },
   "outputs": [
    {
     "data": {
      "image/png": "[encoded data removed]",
      "text/plain": [
       "<Figure size 799.5x360 with 2 Axes>"
      ]
     },
     "metadata": {
      "needs_background": "light"
     },
     "output_type": "display_data"
    }
   ],
   "source": [
    "g = sns.displot(data=df_plot, x='power', hue='condition', col='region', kind='hist')\n",
    "g.set(xlabel='Delta (0.5 - 4Hz) PSD (uV^2/Hz)')\n",
    "g.tight_layout()"
   ]
  },
  {
   "cell_type": "code",
   "execution_count": 14,
   "metadata": {
    "execution": {
     "iopub.execute_input": "2021-06-12T19:47:23.678258Z",
     "iopub.status.busy": "2021-06-12T19:47:23.678107Z",
     "iopub.status.idle": "2021-06-12T19:47:24.506917Z",
     "shell.execute_reply": "2021-06-12T19:47:24.505499Z",
     "shell.execute_reply.started": "2021-06-12T19:47:23.678237Z"
    }
   },
   "outputs": [
    {
     "data": {
      "image/png": "[encoded data removed]",
      "text/plain": [
       "<Figure size 799.5x360 with 2 Axes>"
      ]
     },
     "metadata": {
      "needs_background": "light"
     },
     "output_type": "display_data"
    }
   ],
   "source": [
    "g = sns.displot(data=df_plot, x='log_power', hue='condition', col='region', kind='hist')\n",
    "g.set(xlabel='Delta (0.5 - 4Hz) PSD (uV^2/Hz)')\n",
    "g.tight_layout()"
   ]
  },
  {
   "cell_type": "code",
   "execution_count": 15,
   "metadata": {
    "execution": {
     "iopub.execute_input": "2021-06-12T19:47:24.508620Z",
     "iopub.status.busy": "2021-06-12T19:47:24.508432Z",
     "iopub.status.idle": "2021-06-12T19:47:25.170248Z",
     "shell.execute_reply": "2021-06-12T19:47:25.169324Z",
     "shell.execute_reply.started": "2021-06-12T19:47:24.508588Z"
    }
   },
   "outputs": [
    {
     "data": {
      "image/png": "[encoded data removed]",
      "text/plain": [
       "<Figure size 799.5x360 with 2 Axes>"
      ]
     },
     "metadata": {
      "needs_background": "light"
     },
     "output_type": "display_data"
    }
   ],
   "source": [
    "g = sns.displot(data=df_plot, x='sqrt_power', hue='condition', col='region', kind='hist')\n",
    "g.set(xlabel='Delta (0.5 - 4Hz) PSD (uV^2/Hz)')\n",
    "g.tight_layout()"
   ]
  },
  {
   "cell_type": "code",
   "execution_count": 16,
   "metadata": {
    "execution": {
     "iopub.execute_input": "2021-06-12T19:47:25.171065Z",
     "iopub.status.busy": "2021-06-12T19:47:25.170942Z",
     "iopub.status.idle": "2021-06-12T19:47:25.184021Z",
     "shell.execute_reply": "2021-06-12T19:47:25.183196Z",
     "shell.execute_reply.started": "2021-06-12T19:47:25.171050Z"
    }
   },
   "outputs": [],
   "source": [
    "def get_relative_rebound(df):\n",
    "    means = df.groupby('region').mean()\n",
    "    rebounds = means.recovery - means.baseline\n",
    "    return rebounds.mpta_wm_ref - rebounds.sr_wm_ref"
   ]
  },
  {
   "cell_type": "code",
   "execution_count": 17,
   "metadata": {
    "execution": {
     "iopub.execute_input": "2021-06-12T19:47:25.184949Z",
     "iopub.status.busy": "2021-06-12T19:47:25.184821Z",
     "iopub.status.idle": "2021-06-12T19:47:25.197518Z",
     "shell.execute_reply": "2021-06-12T19:47:25.196630Z",
     "shell.execute_reply.started": "2021-06-12T19:47:25.184934Z"
    }
   },
   "outputs": [],
   "source": [
    "def shuffle(df, key): \n",
    "    _df = df.reset_index()\n",
    "    labels = _df[key].values.reshape(-1, 2)\n",
    "    rng = np.random.default_rng()\n",
    "    rng.permuted(labels, axis=1, out=labels)\n",
    "    _df.set_index(df.index.names, inplace=True)\n",
    "    return _df"
   ]
  },
  {
   "cell_type": "code",
   "execution_count": 18,
   "metadata": {
    "execution": {
     "iopub.execute_input": "2021-06-12T19:47:25.198368Z",
     "iopub.status.busy": "2021-06-12T19:47:25.198248Z",
     "iopub.status.idle": "2021-06-12T19:47:52.895194Z",
     "shell.execute_reply": "2021-06-12T19:47:52.893749Z",
     "shell.execute_reply.started": "2021-06-12T19:47:25.198354Z"
    }
   },
   "outputs": [],
   "source": [
    "observed = get_relative_rebound(df)\n",
    "\n",
    "n_permutations = 10000\n",
    "permutations = list()\n",
    "for i in range(n_permutations):\n",
    "    permuted = shuffle(df, 'region')\n",
    "    permutations.append(get_relative_rebound(permuted))"
   ]
  },
  {
   "cell_type": "code",
   "execution_count": 19,
   "metadata": {
    "execution": {
     "iopub.execute_input": "2021-06-12T19:47:52.896776Z",
     "iopub.status.busy": "2021-06-12T19:47:52.896612Z",
     "iopub.status.idle": "2021-06-12T19:47:52.923376Z",
     "shell.execute_reply": "2021-06-12T19:47:52.922608Z",
     "shell.execute_reply.started": "2021-06-12T19:47:52.896755Z"
    }
   },
   "outputs": [],
   "source": [
    "perms = pd.Series(permutations).rename_axis(index='permutation').to_frame(name='relative_rebound')"
   ]
  },
  {
   "cell_type": "code",
   "execution_count": 20,
   "metadata": {
    "execution": {
     "iopub.execute_input": "2021-06-12T19:47:52.924290Z",
     "iopub.status.busy": "2021-06-12T19:47:52.924158Z",
     "iopub.status.idle": "2021-06-12T19:47:53.168660Z",
     "shell.execute_reply": "2021-06-12T19:47:53.168165Z",
     "shell.execute_reply.started": "2021-06-12T19:47:52.924274Z"
    }
   },
   "outputs": [
    {
     "data": {
      "image/png": "[encoded data removed]",
      "text/plain": [
       "<Figure size 360x360 with 1 Axes>"
      ]
     },
     "metadata": {
      "needs_background": "light"
     },
     "output_type": "display_data"
    }
   ],
   "source": [
    "g = sns.displot(data=perms, x='relative_rebound', kind='hist')\n",
    "g.set(xlabel='Relative rebound (CX - HC)')\n",
    "g.tight_layout()"
   ]
  },
  {
   "cell_type": "code",
   "execution_count": 21,
   "metadata": {
    "execution": {
     "iopub.execute_input": "2021-06-12T19:47:53.169487Z",
     "iopub.status.busy": "2021-06-12T19:47:53.169359Z",
     "iopub.status.idle": "2021-06-12T19:47:53.181660Z",
     "shell.execute_reply": "2021-06-12T19:47:53.181067Z",
     "shell.execute_reply.started": "2021-06-12T19:47:53.169472Z"
    }
   },
   "outputs": [],
   "source": [
    "p = np.sum(perms >= observed)"
   ]
  },
  {
   "cell_type": "code",
   "execution_count": 22,
   "metadata": {
    "execution": {
     "iopub.execute_input": "2021-06-12T19:47:53.182367Z",
     "iopub.status.busy": "2021-06-12T19:47:53.182248Z",
     "iopub.status.idle": "2021-06-12T19:47:53.194207Z",
     "shell.execute_reply": "2021-06-12T19:47:53.193561Z",
     "shell.execute_reply.started": "2021-06-12T19:47:53.182352Z"
    }
   },
   "outputs": [
    {
     "name": "stdout",
     "output_type": "stream",
     "text": [
      "Subject: Doppio\n",
      "Observed relative rebound (CX - HC):\n",
      "\t114.2916326621085\n",
      "Shuffled >= observed:\n",
      "\t1 / 10000\n"
     ]
    }
   ],
   "source": [
    "print(f\"Subject: {subject}\")\n",
    "print('Observed relative rebound (CX - HC):')\n",
    "print(f'\\t{observed}')\n",
    "print('Shuffled >= observed:')\n",
    "print(f\"\\t{1 + p.squeeze()} / {n_permutations}\")"
   ]
  }
 ],
 "metadata": {
  "kernelspec": {
   "display_name": "Python 3",
   "language": "python",
   "name": "python3"
  },
  "language_info": {
   "codemirror_mode": {
    "name": "ipython",
    "version": 3
   },
   "file_extension": ".py",
   "mimetype": "text/x-python",
   "name": "python",
   "nbconvert_exporter": "python",
   "pygments_lexer": "ipython3",
   "version": "3.7.9"
  }
 },
 "nbformat": 4,
 "nbformat_minor": 4
}
