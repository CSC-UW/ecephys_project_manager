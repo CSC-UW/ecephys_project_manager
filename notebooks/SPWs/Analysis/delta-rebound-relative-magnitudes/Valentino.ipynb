{
 "cells": [
  {
   "cell_type": "code",
   "execution_count": 1,
   "metadata": {
    "execution": {
     "iopub.execute_input": "2021-06-12T19:47:06.778699Z",
     "iopub.status.busy": "2021-06-12T19:47:06.778198Z",
     "iopub.status.idle": "2021-06-12T19:47:06.795695Z",
     "shell.execute_reply": "2021-06-12T19:47:06.795047Z",
     "shell.execute_reply.started": "2021-06-12T19:47:06.778637Z"
    }
   },
   "outputs": [],
   "source": [
    "%load_ext autoreload\n",
    "%autoreload 2"
   ]
  },
  {
   "cell_type": "code",
   "execution_count": 2,
   "metadata": {
    "execution": {
     "iopub.execute_input": "2021-06-12T19:47:06.796570Z",
     "iopub.status.busy": "2021-06-12T19:47:06.796441Z",
     "iopub.status.idle": "2021-06-12T19:47:07.131382Z",
     "shell.execute_reply": "2021-06-12T19:47:07.130602Z",
     "shell.execute_reply.started": "2021-06-12T19:47:06.796554Z"
    }
   },
   "outputs": [],
   "source": [
    "# %matplotlib widget\n",
    "import matplotlib.pyplot as plt\n",
    "import seaborn as sns"
   ]
  },
  {
   "cell_type": "code",
   "execution_count": 3,
   "metadata": {
    "execution": {
     "iopub.execute_input": "2021-06-12T19:47:07.132557Z",
     "iopub.status.busy": "2021-06-12T19:47:07.132406Z",
     "iopub.status.idle": "2021-06-12T19:47:07.354883Z",
     "shell.execute_reply": "2021-06-12T19:47:07.354202Z",
     "shell.execute_reply.started": "2021-06-12T19:47:07.132539Z"
    }
   },
   "outputs": [],
   "source": [
    "import xarray as xr\n",
    "import numpy as np\n",
    "import pandas as pd"
   ]
  },
  {
   "cell_type": "code",
   "execution_count": 4,
   "metadata": {
    "execution": {
     "iopub.execute_input": "2021-06-12T19:47:07.355932Z",
     "iopub.status.busy": "2021-06-12T19:47:07.355784Z",
     "iopub.status.idle": "2021-06-12T19:47:07.367932Z",
     "shell.execute_reply": "2021-06-12T19:47:07.367364Z",
     "shell.execute_reply.started": "2021-06-12T19:47:07.355914Z"
    }
   },
   "outputs": [
    {
     "data": {
      "text/plain": [
       "<xarray.core.options.set_options at 0x7fc9862aaf50>"
      ]
     },
     "execution_count": 4,
     "metadata": {},
     "output_type": "execute_result"
    }
   ],
   "source": [
    "xr.set_options(keep_attrs=True)"
   ]
  },
  {
   "cell_type": "code",
   "execution_count": 5,
   "metadata": {
    "execution": {
     "iopub.execute_input": "2021-06-12T19:47:07.368702Z",
     "iopub.status.busy": "2021-06-12T19:47:07.368568Z",
     "iopub.status.idle": "2021-06-12T19:47:07.381386Z",
     "shell.execute_reply": "2021-06-12T19:47:07.380702Z",
     "shell.execute_reply.started": "2021-06-12T19:47:07.368685Z"
    }
   },
   "outputs": [],
   "source": [
    "import ecephys_analyses as ea \n",
    "from ecephys import utils\n",
    "from ecephys.signal.xarray_utils import filter_dataset_by_hypnogram"
   ]
  },
  {
   "cell_type": "code",
   "execution_count": 6,
   "metadata": {
    "execution": {
     "iopub.execute_input": "2021-06-12T19:47:07.382136Z",
     "iopub.status.busy": "2021-06-12T19:47:07.382009Z",
     "iopub.status.idle": "2021-06-12T19:47:07.393390Z",
     "shell.execute_reply": "2021-06-12T19:47:07.392584Z",
     "shell.execute_reply.started": "2021-06-12T19:47:07.382120Z"
    }
   },
   "outputs": [],
   "source": [
    "subject = \"Valentino\"\n",
    "experiment = \"sleep-homeostasis\"\n",
    "norm_condition = \"light-period-circadian-match\"\n",
    "bsl_condition = \"recovery-sleep-circadian-match\"\n",
    "rec_condition = \"recovery-sleep\"\n",
    "states = [\"N1\", \"N2\"]\n",
    "duration = '02:00:00'\n",
    "light_period_start = '09:00:00'\n",
    "light_period_end = '21:00:00'\n",
    "f_range = (0.5, 4)"
   ]
  },
  {
   "cell_type": "code",
   "execution_count": 7,
   "metadata": {
    "execution": {
     "iopub.execute_input": "2021-06-12T19:47:07.394079Z",
     "iopub.status.busy": "2021-06-12T19:47:07.393955Z",
     "iopub.status.idle": "2021-06-12T19:47:10.797573Z",
     "shell.execute_reply": "2021-06-12T19:47:10.796927Z",
     "shell.execute_reply.started": "2021-06-12T19:47:07.394063Z"
    }
   },
   "outputs": [],
   "source": [
    "norm_hyp = ea.load_hypnogram(subject, experiment, norm_condition)\n",
    "norm_hyp = norm_hyp.keep_states(states).keep_between(light_period_start, light_period_end)\n",
    "\n",
    "norm_pow = ea.load_power(subject, experiment, norm_condition, \"spg.nc\").sel(frequency=slice(*f_range)).sum(dim=\"frequency\")\n",
    "norm_pow = filter_dataset_by_hypnogram(norm_pow, norm_hyp).swap_dims({'time': 'datetime'}).drop_vars(['time', 'timedelta'])"
   ]
  },
  {
   "cell_type": "code",
   "execution_count": 8,
   "metadata": {
    "execution": {
     "iopub.execute_input": "2021-06-12T19:47:10.799056Z",
     "iopub.status.busy": "2021-06-12T19:47:10.798905Z",
     "iopub.status.idle": "2021-06-12T19:47:12.418176Z",
     "shell.execute_reply": "2021-06-12T19:47:12.417296Z",
     "shell.execute_reply.started": "2021-06-12T19:47:10.799038Z"
    }
   },
   "outputs": [],
   "source": [
    "rec_hyp = ea.load_hypnogram(subject, experiment, rec_condition)\n",
    "rec_hyp = rec_hyp.keep_states(states).keep_first(duration)\n",
    "\n",
    "rec_pow = ea.load_power(subject, experiment, rec_condition, \"spg.nc\").sel(frequency=slice(*f_range)).sum(dim='frequency')\n",
    "rec_pow = filter_dataset_by_hypnogram(rec_pow, rec_hyp).swap_dims({'time': 'datetime'}).drop_vars(['time', 'timedelta'])\n",
    "rec_pow = rec_pow / norm_pow.mean(dim=\"datetime\") * 100"
   ]
  },
  {
   "cell_type": "code",
   "execution_count": 9,
   "metadata": {
    "execution": {
     "iopub.execute_input": "2021-06-12T19:47:12.419438Z",
     "iopub.status.busy": "2021-06-12T19:47:12.419283Z",
     "iopub.status.idle": "2021-06-12T19:47:14.075101Z",
     "shell.execute_reply": "2021-06-12T19:47:14.074390Z",
     "shell.execute_reply.started": "2021-06-12T19:47:12.419419Z"
    }
   },
   "outputs": [],
   "source": [
    "bsl_hyp = ea.load_hypnogram(subject, experiment, bsl_condition)\n",
    "bsl_hyp = bsl_hyp.keep_states(states).keep_between(rec_hyp.start_time.min().strftime(\"%H:%M:%S\"), light_period_end).keep_first(duration)\n",
    "\n",
    "bsl_pow = ea.load_power(subject, experiment, bsl_condition, \"spg.nc\").sel(frequency=slice(*f_range)).sum(dim='frequency')\n",
    "bsl_pow = filter_dataset_by_hypnogram(bsl_pow, bsl_hyp).swap_dims({'time': 'datetime'}).drop_vars(['time', 'timedelta'])\n",
    "bsl_pow = bsl_pow / norm_pow.mean(dim=\"datetime\") * 100"
   ]
  },
  {
   "cell_type": "code",
   "execution_count": 10,
   "metadata": {
    "execution": {
     "iopub.execute_input": "2021-06-12T19:47:14.076050Z",
     "iopub.status.busy": "2021-06-12T19:47:14.075904Z",
     "iopub.status.idle": "2021-06-12T19:47:14.090543Z",
     "shell.execute_reply": "2021-06-12T19:47:14.090042Z",
     "shell.execute_reply.started": "2021-06-12T19:47:14.076032Z"
    }
   },
   "outputs": [],
   "source": [
    "def match_lengths(dataframes):\n",
    "    length = min(list(map(len, dataframes)))\n",
    "    return (df.iloc[:length] for df in dataframes)"
   ]
  },
  {
   "cell_type": "code",
   "execution_count": 11,
   "metadata": {
    "execution": {
     "iopub.execute_input": "2021-06-12T19:47:14.091249Z",
     "iopub.status.busy": "2021-06-12T19:47:14.091121Z",
     "iopub.status.idle": "2021-06-12T19:47:14.106691Z",
     "shell.execute_reply": "2021-06-12T19:47:14.106338Z",
     "shell.execute_reply.started": "2021-06-12T19:47:14.091232Z"
    }
   },
   "outputs": [],
   "source": [
    "bsl_df = bsl_pow.to_dataframe().reset_index(drop=True).rename_axis(index='pair', columns='region').stack().to_frame(name='baseline')\n",
    "rec_df = rec_pow.to_dataframe().reset_index(drop=True).rename_axis(index='pair', columns='region').stack().to_frame(name='recovery')\n",
    "bsl_df, rec_df = match_lengths((bsl_df, rec_df))\n",
    "df = bsl_df.join(rec_df).rename_axis(columns='condition')"
   ]
  },
  {
   "cell_type": "code",
   "execution_count": 12,
   "metadata": {
    "execution": {
     "iopub.execute_input": "2021-06-12T19:47:14.107343Z",
     "iopub.status.busy": "2021-06-12T19:47:14.107215Z",
     "iopub.status.idle": "2021-06-12T19:47:14.119140Z",
     "shell.execute_reply": "2021-06-12T19:47:14.118713Z",
     "shell.execute_reply.started": "2021-06-12T19:47:14.107327Z"
    }
   },
   "outputs": [],
   "source": [
    "df_plot = df.stack().to_frame(name='power')\n",
    "df_plot['log_power'] = np.log(df_plot.power)\n",
    "df_plot['sqrt_power'] = np.sqrt(df_plot.power)"
   ]
  },
  {
   "cell_type": "code",
   "execution_count": 13,
   "metadata": {
    "execution": {
     "iopub.execute_input": "2021-06-12T19:47:14.119803Z",
     "iopub.status.busy": "2021-06-12T19:47:14.119679Z",
     "iopub.status.idle": "2021-06-12T19:47:15.218501Z",
     "shell.execute_reply": "2021-06-12T19:47:15.217882Z",
     "shell.execute_reply.started": "2021-06-12T19:47:14.119788Z"
    }
   },
   "outputs": [
    {
     "data": {
      "image/png": "[encoded data removed]",
      "text/plain": [
       "<Figure size 799.5x360 with 2 Axes>"
      ]
     },
     "metadata": {
      "needs_background": "light"
     },
     "output_type": "display_data"
    }
   ],
   "source": [
    "g = sns.displot(data=df_plot, x='power', hue='condition', col='region', kind='hist')\n",
    "g.set(xlabel='Delta (0.5 - 4Hz) PSD (uV^2/Hz)')\n",
    "g.tight_layout()"
   ]
  },
  {
   "cell_type": "code",
   "execution_count": 14,
   "metadata": {
    "execution": {
     "iopub.execute_input": "2021-06-12T19:47:15.219430Z",
     "iopub.status.busy": "2021-06-12T19:47:15.219285Z",
     "iopub.status.idle": "2021-06-12T19:47:16.035624Z",
     "shell.execute_reply": "2021-06-12T19:47:16.034955Z",
     "shell.execute_reply.started": "2021-06-12T19:47:15.219411Z"
    }
   },
   "outputs": [
    {
     "data": {
      "image/png": "[encoded data removed]",
      "text/plain": [
       "<Figure size 799.5x360 with 2 Axes>"
      ]
     },
     "metadata": {
      "needs_background": "light"
     },
     "output_type": "display_data"
    }
   ],
   "source": [
    "g = sns.displot(data=df_plot, x='log_power', hue='condition', col='region', kind='hist')\n",
    "g.set(xlabel='Delta (0.5 - 4Hz) PSD (uV^2/Hz)')\n",
    "g.tight_layout()"
   ]
  },
  {
   "cell_type": "code",
   "execution_count": 15,
   "metadata": {
    "execution": {
     "iopub.execute_input": "2021-06-12T19:47:16.036533Z",
     "iopub.status.busy": "2021-06-12T19:47:16.036393Z",
     "iopub.status.idle": "2021-06-12T19:47:16.802507Z",
     "shell.execute_reply": "2021-06-12T19:47:16.801831Z",
     "shell.execute_reply.started": "2021-06-12T19:47:16.036516Z"
    }
   },
   "outputs": [
    {
     "data": {
      "image/png": "[encoded data removed]",
      "text/plain": [
       "<Figure size 799.5x360 with 2 Axes>"
      ]
     },
     "metadata": {
      "needs_background": "light"
     },
     "output_type": "display_data"
    }
   ],
   "source": [
    "g = sns.displot(data=df_plot, x='sqrt_power', hue='condition', col='region', kind='hist')\n",
    "g.set(xlabel='Delta (0.5 - 4Hz) PSD (uV^2/Hz)')\n",
    "g.tight_layout()"
   ]
  },
  {
   "cell_type": "code",
   "execution_count": 16,
   "metadata": {
    "execution": {
     "iopub.execute_input": "2021-06-12T19:47:16.803407Z",
     "iopub.status.busy": "2021-06-12T19:47:16.803266Z",
     "iopub.status.idle": "2021-06-12T19:47:16.817046Z",
     "shell.execute_reply": "2021-06-12T19:47:16.816440Z",
     "shell.execute_reply.started": "2021-06-12T19:47:16.803389Z"
    }
   },
   "outputs": [],
   "source": [
    "def get_relative_rebound(df):\n",
    "    means = df.groupby('region').mean()\n",
    "    rebounds = means.recovery - means.baseline\n",
    "    return rebounds.mpta_wm_ref - rebounds.sr_wm_ref"
   ]
  },
  {
   "cell_type": "code",
   "execution_count": 17,
   "metadata": {
    "execution": {
     "iopub.execute_input": "2021-06-12T19:47:16.817792Z",
     "iopub.status.busy": "2021-06-12T19:47:16.817661Z",
     "iopub.status.idle": "2021-06-12T19:47:16.829889Z",
     "shell.execute_reply": "2021-06-12T19:47:16.829260Z",
     "shell.execute_reply.started": "2021-06-12T19:47:16.817775Z"
    }
   },
   "outputs": [],
   "source": [
    "def shuffle(df, key): \n",
    "    _df = df.reset_index()\n",
    "    labels = _df[key].values.reshape(-1, 2)\n",
    "    rng = np.random.default_rng()\n",
    "    rng.permuted(labels, axis=1, out=labels)\n",
    "    _df.set_index(df.index.names, inplace=True)\n",
    "    return _df"
   ]
  },
  {
   "cell_type": "code",
   "execution_count": 18,
   "metadata": {
    "execution": {
     "iopub.execute_input": "2021-06-12T19:47:16.830610Z",
     "iopub.status.busy": "2021-06-12T19:47:16.830483Z",
     "iopub.status.idle": "2021-06-12T19:47:45.860010Z",
     "shell.execute_reply": "2021-06-12T19:47:45.859196Z",
     "shell.execute_reply.started": "2021-06-12T19:47:16.830594Z"
    }
   },
   "outputs": [],
   "source": [
    "observed = get_relative_rebound(df)\n",
    "\n",
    "n_permutations = 10000\n",
    "permutations = list()\n",
    "for i in range(n_permutations):\n",
    "    permuted = shuffle(df, 'region')\n",
    "    permutations.append(get_relative_rebound(permuted))"
   ]
  },
  {
   "cell_type": "code",
   "execution_count": 19,
   "metadata": {
    "execution": {
     "iopub.execute_input": "2021-06-12T19:47:45.861023Z",
     "iopub.status.busy": "2021-06-12T19:47:45.860878Z",
     "iopub.status.idle": "2021-06-12T19:47:45.877563Z",
     "shell.execute_reply": "2021-06-12T19:47:45.877200Z",
     "shell.execute_reply.started": "2021-06-12T19:47:45.861003Z"
    }
   },
   "outputs": [],
   "source": [
    "perms = pd.Series(permutations).rename_axis(index='permutation').to_frame(name='relative_rebound')"
   ]
  },
  {
   "cell_type": "code",
   "execution_count": 20,
   "metadata": {
    "execution": {
     "iopub.execute_input": "2021-06-12T19:47:45.878200Z",
     "iopub.status.busy": "2021-06-12T19:47:45.878061Z",
     "iopub.status.idle": "2021-06-12T19:47:46.144415Z",
     "shell.execute_reply": "2021-06-12T19:47:46.143898Z",
     "shell.execute_reply.started": "2021-06-12T19:47:45.878184Z"
    }
   },
   "outputs": [
    {
     "data": {
      "image/png": "[encoded data removed]",
      "text/plain": [
       "<Figure size 360x360 with 1 Axes>"
      ]
     },
     "metadata": {
      "needs_background": "light"
     },
     "output_type": "display_data"
    }
   ],
   "source": [
    "g = sns.displot(data=perms, x='relative_rebound', kind='hist')\n",
    "g.set(xlabel='Relative rebound (CX - HC)')\n",
    "g.tight_layout()"
   ]
  },
  {
   "cell_type": "code",
   "execution_count": 21,
   "metadata": {
    "execution": {
     "iopub.execute_input": "2021-06-12T19:47:46.145165Z",
     "iopub.status.busy": "2021-06-12T19:47:46.145032Z",
     "iopub.status.idle": "2021-06-12T19:47:46.156189Z",
     "shell.execute_reply": "2021-06-12T19:47:46.155625Z",
     "shell.execute_reply.started": "2021-06-12T19:47:46.145149Z"
    }
   },
   "outputs": [],
   "source": [
    "p = np.sum(perms >= observed)"
   ]
  },
  {
   "cell_type": "code",
   "execution_count": 22,
   "metadata": {
    "execution": {
     "iopub.execute_input": "2021-06-12T19:47:46.156892Z",
     "iopub.status.busy": "2021-06-12T19:47:46.156768Z",
     "iopub.status.idle": "2021-06-12T19:47:46.168425Z",
     "shell.execute_reply": "2021-06-12T19:47:46.167765Z",
     "shell.execute_reply.started": "2021-06-12T19:47:46.156876Z"
    }
   },
   "outputs": [
    {
     "name": "stdout",
     "output_type": "stream",
     "text": [
      "Subject: Valentino\n",
      "Observed relative rebound (CX - HC):\n",
      "\t67.23794311874892\n",
      "Shuffled >= observed:\n",
      "\t1 / 10000\n"
     ]
    }
   ],
   "source": [
    "print(f\"Subject: {subject}\")\n",
    "print('Observed relative rebound (CX - HC):')\n",
    "print(f'\\t{observed}')\n",
    "print('Shuffled >= observed:')\n",
    "print(f\"\\t{1 + p.squeeze()} / {n_permutations}\")"
   ]
  }
 ],
 "metadata": {
  "kernelspec": {
   "display_name": "Python 3",
   "language": "python",
   "name": "python3"
  },
  "language_info": {
   "codemirror_mode": {
    "name": "ipython",
    "version": 3
   },
   "file_extension": ".py",
   "mimetype": "text/x-python",
   "name": "python",
   "nbconvert_exporter": "python",
   "pygments_lexer": "ipython3",
   "version": "3.7.9"
  }
 },
 "nbformat": 4,
 "nbformat_minor": 4
}
