{
 "cells": [
  {
   "cell_type": "code",
   "execution_count": 1,
   "metadata": {
    "execution": {
     "iopub.execute_input": "2021-05-31T23:24:22.290854Z",
     "iopub.status.busy": "2021-05-31T23:24:22.290367Z",
     "iopub.status.idle": "2021-05-31T23:24:22.307159Z",
     "shell.execute_reply": "2021-05-31T23:24:22.306529Z",
     "shell.execute_reply.started": "2021-05-31T23:24:22.290794Z"
    }
   },
   "outputs": [],
   "source": [
    "%load_ext autoreload\n",
    "%autoreload 2"
   ]
  },
  {
   "cell_type": "code",
   "execution_count": 2,
   "metadata": {
    "execution": {
     "iopub.execute_input": "2021-05-31T23:24:22.846005Z",
     "iopub.status.busy": "2021-05-31T23:24:22.845779Z",
     "iopub.status.idle": "2021-05-31T23:24:23.210473Z",
     "shell.execute_reply": "2021-05-31T23:24:23.209745Z",
     "shell.execute_reply.started": "2021-05-31T23:24:22.845980Z"
    }
   },
   "outputs": [],
   "source": [
    "%matplotlib widget\n",
    "import matplotlib.pyplot as plt\n",
    "import seaborn as sns"
   ]
  },
  {
   "cell_type": "code",
   "execution_count": 3,
   "metadata": {
    "execution": {
     "iopub.execute_input": "2021-05-31T23:24:23.558709Z",
     "iopub.status.busy": "2021-05-31T23:24:23.558233Z",
     "iopub.status.idle": "2021-05-31T23:24:23.804592Z",
     "shell.execute_reply": "2021-05-31T23:24:23.803893Z",
     "shell.execute_reply.started": "2021-05-31T23:24:23.558652Z"
    }
   },
   "outputs": [],
   "source": [
    "import xarray as xr\n",
    "import numpy as np\n",
    "import pandas as pd\n",
    "from scipy import stats\n",
    "\n",
    "import ecephys_analyses as ea \n",
    "from ecephys.signal.xarray_utils import filter_dataset_by_hypnogram"
   ]
  },
  {
   "cell_type": "code",
   "execution_count": 4,
   "metadata": {
    "execution": {
     "iopub.execute_input": "2021-05-31T23:24:24.119507Z",
     "iopub.status.busy": "2021-05-31T23:24:24.119243Z",
     "iopub.status.idle": "2021-05-31T23:24:24.140090Z",
     "shell.execute_reply": "2021-05-31T23:24:24.139479Z",
     "shell.execute_reply.started": "2021-05-31T23:24:24.119477Z"
    }
   },
   "outputs": [
    {
     "data": {
      "text/plain": [
       "<xarray.core.options.set_options at 0x7f4568563f10>"
      ]
     },
     "execution_count": 4,
     "metadata": {},
     "output_type": "execute_result"
    }
   ],
   "source": [
    "xr.set_options(keep_attrs=True)"
   ]
  },
  {
   "cell_type": "code",
   "execution_count": 5,
   "metadata": {
    "execution": {
     "iopub.execute_input": "2021-05-31T23:24:34.497945Z",
     "iopub.status.busy": "2021-05-31T23:24:34.497528Z",
     "iopub.status.idle": "2021-05-31T23:24:34.517984Z",
     "shell.execute_reply": "2021-05-31T23:24:34.517116Z",
     "shell.execute_reply.started": "2021-05-31T23:24:34.497894Z"
    }
   },
   "outputs": [],
   "source": [
    "subjects = [\"Segundo\", \"Valentino\", \"Doppio\", \"Alessandro\", \"Allan\"]\n",
    "experiment = \"sleep-homeostasis\"\n",
    "bsl_condition = \"extended-wake-circadian-match\"\n",
    "rec_condition = \"recovery-sleep\"\n",
    "states = [\"N1\", \"N2\"]\n",
    "duration = '02:00:00'\n",
    "f_range = (0.5, 4)"
   ]
  },
  {
   "cell_type": "code",
   "execution_count": 6,
   "metadata": {
    "execution": {
     "iopub.execute_input": "2021-05-31T23:25:01.067933Z",
     "iopub.status.busy": "2021-05-31T23:25:01.067442Z",
     "iopub.status.idle": "2021-05-31T23:25:01.101658Z",
     "shell.execute_reply": "2021-05-31T23:25:01.100894Z",
     "shell.execute_reply.started": "2021-05-31T23:25:01.067872Z"
    }
   },
   "outputs": [],
   "source": [
    "def get_subject_data(\n",
    "    subject, experiment, bsl_condition, rec_condition, states, duration, f_range\n",
    "):\n",
    "    rec_hyp = ea.load_hypnogram(subject, experiment, rec_condition)\n",
    "    rec_hyp = rec_hyp.keep_states(states).keep_first(duration)\n",
    "\n",
    "    rec_pow = (\n",
    "        ea.load_power(subject, experiment, rec_condition, \"spg.nc\")\n",
    "        .sel(frequency=slice(*f_range))\n",
    "        .sum(dim=\"frequency\")\n",
    "    )\n",
    "    rec_pow = (\n",
    "        filter_dataset_by_hypnogram(rec_pow, rec_hyp)\n",
    "        .swap_dims({\"time\": \"datetime\"})\n",
    "        .drop_vars([\"time\", \"timedelta\"])\n",
    "    )\n",
    "\n",
    "    bsl_hyp = ea.load_hypnogram(subject, experiment, bsl_condition)\n",
    "    bsl_hyp = bsl_hyp.keep_states(states).keep_first(duration)\n",
    "\n",
    "    bsl_pow = (\n",
    "        ea.load_power(subject, experiment, bsl_condition, \"spg.nc\")\n",
    "        .sel(frequency=slice(*f_range))\n",
    "        .sum(dim=\"frequency\")\n",
    "    )\n",
    "    bsl_pow = (\n",
    "        filter_dataset_by_hypnogram(bsl_pow, bsl_hyp)\n",
    "        .swap_dims({\"time\": \"datetime\"})\n",
    "        .drop_vars([\"time\", \"timedelta\"])\n",
    "    )\n",
    "\n",
    "    diff_means = rec_pow.mean() - bsl_pow.mean()\n",
    "    diff_means_std = diff_means / bsl_pow.mean()\n",
    "    diff_meds = rec_pow.median() - bsl_pow.median()\n",
    "    diff_meds_std = diff_meds / bsl_pow.median()\n",
    "\n",
    "    index = pd.MultiIndex.from_product(\n",
    "        [[subject], [\"cortex\", \"hippocampus\"]], names=[\"subject\", \"region\"]\n",
    "    )\n",
    "    data = np.asarray(\n",
    "        [\n",
    "            [\n",
    "                diff_means.mpta_wm_ref,\n",
    "                diff_means_std.mpta_wm_ref,\n",
    "                diff_meds.mpta_wm_ref,\n",
    "                diff_meds_std.mpta_wm_ref,\n",
    "            ],\n",
    "            [\n",
    "                diff_means.sr_wm_ref,\n",
    "                diff_means_std.sr_wm_ref,\n",
    "                diff_meds.sr_wm_ref,\n",
    "                diff_meds_std.sr_wm_ref,\n",
    "            ],\n",
    "        ]\n",
    "    )\n",
    "    return pd.DataFrame(\n",
    "        data,\n",
    "        columns=[\"diff_means\", \"diff_means_std\", \"diff_meds\", \"diff_meds_std\"],\n",
    "        index=index,\n",
    "    )"
   ]
  },
  {
   "cell_type": "code",
   "execution_count": 7,
   "metadata": {
    "execution": {
     "iopub.execute_input": "2021-05-31T23:25:02.823707Z",
     "iopub.status.busy": "2021-05-31T23:25:02.823285Z",
     "iopub.status.idle": "2021-05-31T23:25:31.556114Z",
     "shell.execute_reply": "2021-05-31T23:25:31.555234Z",
     "shell.execute_reply.started": "2021-05-31T23:25:02.823656Z"
    }
   },
   "outputs": [],
   "source": [
    "subj_data = list()\n",
    "for subject in subjects:\n",
    "    subj_data.append(get_subject_data(subject, experiment, bsl_condition, rec_condition, states, duration, f_range))\n",
    "df = pd.concat(subj_data)"
   ]
  },
  {
   "cell_type": "code",
   "execution_count": 8,
   "metadata": {
    "execution": {
     "iopub.execute_input": "2021-05-31T23:25:31.599501Z",
     "iopub.status.busy": "2021-05-31T23:25:31.599359Z",
     "iopub.status.idle": "2021-05-31T23:25:31.616691Z",
     "shell.execute_reply": "2021-05-31T23:25:31.615951Z",
     "shell.execute_reply.started": "2021-05-31T23:25:31.599483Z"
    }
   },
   "outputs": [
    {
     "name": "stdout",
     "output_type": "stream",
     "text": [
      "|                               |   diff_means |   diff_means_std |   diff_meds |   diff_meds_std |\n",
      "|:------------------------------|-------------:|-----------------:|------------:|----------------:|\n",
      "| ('Segundo', 'cortex')         |    171860    |        0.425483  |    193588   |        0.56492  |\n",
      "| ('Segundo', 'hippocampus')    |     54153.9  |        0.119158  |     67816.6 |        0.174819 |\n",
      "| ('Valentino', 'cortex')       |      4025.44 |        0.0261369 |     17600.1 |        0.170911 |\n",
      "| ('Valentino', 'hippocampus')  |    120573    |        0.266149  |    135406   |        0.437357 |\n",
      "| ('Doppio', 'cortex')          |    224659    |        0.708642  |    226019   |        0.902028 |\n",
      "| ('Doppio', 'hippocampus')     |     99462    |        0.363665  |     87372.9 |        0.426615 |\n",
      "| ('Alessandro', 'cortex')      |     59471.5  |        0.191313  |     85864.1 |        0.311886 |\n",
      "| ('Alessandro', 'hippocampus') |     65512.9  |        0.131654  |    113784   |        0.294561 |\n",
      "| ('Allan', 'cortex')           |    418147    |        0.958471  |    427546   |        1.17827  |\n",
      "| ('Allan', 'hippocampus')      |     69438.8  |        0.231016  |     49537.7 |        0.208108 |\n"
     ]
    }
   ],
   "source": [
    "print(df.to_markdown())"
   ]
  },
  {
   "cell_type": "code",
   "execution_count": 9,
   "metadata": {
    "execution": {
     "iopub.execute_input": "2021-05-31T23:25:31.617714Z",
     "iopub.status.busy": "2021-05-31T23:25:31.617556Z",
     "iopub.status.idle": "2021-05-31T23:25:31.629772Z",
     "shell.execute_reply": "2021-05-31T23:25:31.628874Z",
     "shell.execute_reply.started": "2021-05-31T23:25:31.617695Z"
    }
   },
   "outputs": [],
   "source": [
    "cx = df.xs('cortex', level=1, drop_level=False)\n",
    "hc = df.xs('hippocampus', level=1, drop_level=False)"
   ]
  },
  {
   "cell_type": "code",
   "execution_count": 10,
   "metadata": {
    "execution": {
     "iopub.execute_input": "2021-05-31T23:25:31.630671Z",
     "iopub.status.busy": "2021-05-31T23:25:31.630542Z",
     "iopub.status.idle": "2021-05-31T23:25:31.643234Z",
     "shell.execute_reply": "2021-05-31T23:25:31.642561Z",
     "shell.execute_reply.started": "2021-05-31T23:25:31.630656Z"
    }
   },
   "outputs": [
    {
     "data": {
      "text/plain": [
       "Ttest_1sampResult(statistic=array([2.43355484, 2.73216446, 2.71184491, 3.36643541]), pvalue=array([0.07170525, 0.0523261 , 0.05343524, 0.02813647]))"
      ]
     },
     "execution_count": 10,
     "metadata": {},
     "output_type": "execute_result"
    }
   ],
   "source": [
    "stats.ttest_1samp(cx, 0)"
   ]
  },
  {
   "cell_type": "code",
   "execution_count": 11,
   "metadata": {
    "execution": {
     "iopub.execute_input": "2021-05-31T23:25:31.643991Z",
     "iopub.status.busy": "2021-05-31T23:25:31.643865Z",
     "iopub.status.idle": "2021-05-31T23:25:31.656282Z",
     "shell.execute_reply": "2021-05-31T23:25:31.655644Z",
     "shell.execute_reply.started": "2021-05-31T23:25:31.643975Z"
    }
   },
   "outputs": [
    {
     "data": {
      "text/plain": [
       "Ttest_1sampResult(statistic=array([6.6838557 , 4.92015637, 5.8842767 , 5.69066301]), pvalue=array([0.00260532, 0.00792851, 0.00416933, 0.0047097 ]))"
      ]
     },
     "execution_count": 11,
     "metadata": {},
     "output_type": "execute_result"
    }
   ],
   "source": [
    "stats.ttest_1samp(hc, 0)"
   ]
  },
  {
   "cell_type": "code",
   "execution_count": null,
   "metadata": {},
   "outputs": [],
   "source": []
  }
 ],
 "metadata": {
  "kernelspec": {
   "display_name": "Python 3",
   "language": "python",
   "name": "python3"
  },
  "language_info": {
   "codemirror_mode": {
    "name": "ipython",
    "version": 3
   },
   "file_extension": ".py",
   "mimetype": "text/x-python",
   "name": "python",
   "nbconvert_exporter": "python",
   "pygments_lexer": "ipython3",
   "version": "3.7.9"
  }
 },
 "nbformat": 4,
 "nbformat_minor": 4
}
