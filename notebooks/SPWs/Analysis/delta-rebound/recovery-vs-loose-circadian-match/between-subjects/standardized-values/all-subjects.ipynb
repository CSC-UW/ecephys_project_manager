{
 "cells": [
  {
   "cell_type": "code",
   "execution_count": 1,
   "metadata": {
    "execution": {
     "iopub.execute_input": "2021-06-10T20:12:02.962475Z",
     "iopub.status.busy": "2021-06-10T20:12:02.961924Z",
     "iopub.status.idle": "2021-06-10T20:12:02.980796Z",
     "shell.execute_reply": "2021-06-10T20:12:02.980066Z",
     "shell.execute_reply.started": "2021-06-10T20:12:02.962408Z"
    }
   },
   "outputs": [],
   "source": [
    "%load_ext autoreload\n",
    "%autoreload 2"
   ]
  },
  {
   "cell_type": "code",
   "execution_count": 2,
   "metadata": {
    "execution": {
     "iopub.execute_input": "2021-06-10T20:12:03.268831Z",
     "iopub.status.busy": "2021-06-10T20:12:03.268521Z",
     "iopub.status.idle": "2021-06-10T20:12:03.678190Z",
     "shell.execute_reply": "2021-06-10T20:12:03.676999Z",
     "shell.execute_reply.started": "2021-06-10T20:12:03.268794Z"
    }
   },
   "outputs": [],
   "source": [
    "# %matplotlib widget\n",
    "import matplotlib.pyplot as plt\n",
    "import seaborn as sns"
   ]
  },
  {
   "cell_type": "code",
   "execution_count": 3,
   "metadata": {
    "execution": {
     "iopub.execute_input": "2021-06-10T20:12:03.691755Z",
     "iopub.status.busy": "2021-06-10T20:12:03.691635Z",
     "iopub.status.idle": "2021-06-10T20:12:03.949964Z",
     "shell.execute_reply": "2021-06-10T20:12:03.949075Z",
     "shell.execute_reply.started": "2021-06-10T20:12:03.691741Z"
    }
   },
   "outputs": [],
   "source": [
    "import xarray as xr\n",
    "import numpy as np\n",
    "import pandas as pd\n",
    "from scipy import stats\n",
    "\n",
    "import ecephys_analyses as ea \n",
    "from ecephys.signal.xarray_utils import filter_dataset_by_hypnogram"
   ]
  },
  {
   "cell_type": "code",
   "execution_count": 4,
   "metadata": {
    "execution": {
     "iopub.execute_input": "2021-06-10T20:12:03.965397Z",
     "iopub.status.busy": "2021-06-10T20:12:03.965275Z",
     "iopub.status.idle": "2021-06-10T20:12:03.976943Z",
     "shell.execute_reply": "2021-06-10T20:12:03.976297Z",
     "shell.execute_reply.started": "2021-06-10T20:12:03.965382Z"
    }
   },
   "outputs": [
    {
     "data": {
      "text/plain": [
       "<xarray.core.options.set_options at 0x7f5b81fd1bd0>"
      ]
     },
     "execution_count": 4,
     "metadata": {},
     "output_type": "execute_result"
    }
   ],
   "source": [
    "xr.set_options(keep_attrs=True)"
   ]
  },
  {
   "cell_type": "code",
   "execution_count": 5,
   "metadata": {
    "execution": {
     "iopub.execute_input": "2021-06-10T20:12:04.252414Z",
     "iopub.status.busy": "2021-06-10T20:12:04.252291Z",
     "iopub.status.idle": "2021-06-10T20:12:04.270523Z",
     "shell.execute_reply": "2021-06-10T20:12:04.268992Z",
     "shell.execute_reply.started": "2021-06-10T20:12:04.252400Z"
    }
   },
   "outputs": [],
   "source": [
    "subjects = [\"Segundo\", \"Valentino\", \"Doppio\", \"Alessandro\", \"Allan\"]\n",
    "experiment = \"sleep-homeostasis\"\n",
    "norm_condition = \"light-period-circadian-match\"\n",
    "bsl_condition = \"recovery-sleep-circadian-match\"\n",
    "rec_condition = \"recovery-sleep\"\n",
    "states = [\"N1\", \"N2\"]\n",
    "duration = '02:00:00'\n",
    "light_period_start = '09:00:00'\n",
    "light_period_end = '21:00:00'\n",
    "f_range = (0.5, 4)"
   ]
  },
  {
   "cell_type": "code",
   "execution_count": 24,
   "metadata": {
    "execution": {
     "iopub.execute_input": "2021-06-10T20:21:02.749098Z",
     "iopub.status.busy": "2021-06-10T20:21:02.748600Z",
     "iopub.status.idle": "2021-06-10T20:21:02.784831Z",
     "shell.execute_reply": "2021-06-10T20:21:02.783923Z",
     "shell.execute_reply.started": "2021-06-10T20:21:02.749038Z"
    }
   },
   "outputs": [],
   "source": [
    "def get_subject_data(\n",
    "    subject,\n",
    "    experiment,\n",
    "    norm_condition,\n",
    "    bsl_condition,\n",
    "    rec_condition,\n",
    "    states,\n",
    "    duration,\n",
    "    f_range,\n",
    "    light_period_start,\n",
    "    light_period_end,\n",
    "):\n",
    "\n",
    "    norm_hyp = ea.load_hypnogram(subject, experiment, norm_condition)\n",
    "    norm_hyp = norm_hyp.keep_states(states).keep_between(\n",
    "        light_period_start, light_period_end\n",
    "    )\n",
    "\n",
    "    norm_pow = (\n",
    "        ea.load_power(subject, experiment, norm_condition, \"spg.nc\")\n",
    "        .sel(frequency=slice(*f_range))\n",
    "        .sum(dim=\"frequency\")\n",
    "    )\n",
    "    norm_pow = (\n",
    "        filter_dataset_by_hypnogram(norm_pow, norm_hyp)\n",
    "        .swap_dims({\"time\": \"datetime\"})\n",
    "        .drop_vars([\"time\", \"timedelta\"])\n",
    "    )\n",
    "\n",
    "    rec_hyp = ea.load_hypnogram(subject, experiment, rec_condition)\n",
    "    rec_hyp = rec_hyp.keep_states(states).keep_first(duration)\n",
    "\n",
    "    rec_pow = (\n",
    "        ea.load_power(subject, experiment, rec_condition, \"spg.nc\")\n",
    "        .sel(frequency=slice(*f_range))\n",
    "        .sum(dim=\"frequency\")\n",
    "    )\n",
    "    rec_pow = (\n",
    "        filter_dataset_by_hypnogram(rec_pow, rec_hyp)\n",
    "        .swap_dims({\"time\": \"datetime\"})\n",
    "        .drop_vars([\"time\", \"timedelta\"])\n",
    "    )\n",
    "    rec_pow = rec_pow / norm_pow.mean(dim=\"datetime\") * 100\n",
    "\n",
    "    bsl_hyp = ea.load_hypnogram(subject, experiment, bsl_condition)\n",
    "    bsl_hyp = (\n",
    "        bsl_hyp.keep_states(states)\n",
    "        .keep_between(rec_hyp.start_time.min().strftime(\"%H:%M:%S\"), light_period_end)\n",
    "        .keep_first(duration)\n",
    "    )\n",
    "\n",
    "    bsl_pow = (\n",
    "        ea.load_power(subject, experiment, bsl_condition, \"spg.nc\")\n",
    "        .sel(frequency=slice(*f_range))\n",
    "        .sum(dim=\"frequency\")\n",
    "    )\n",
    "    bsl_pow = (\n",
    "        filter_dataset_by_hypnogram(bsl_pow, bsl_hyp)\n",
    "        .swap_dims({\"time\": \"datetime\"})\n",
    "        .drop_vars([\"time\", \"timedelta\"])\n",
    "    )\n",
    "    bsl_pow = bsl_pow / norm_pow.mean(dim=\"datetime\") * 100\n",
    "\n",
    "    diff_means = rec_pow.mean() - bsl_pow.mean()\n",
    "    diff_meds = rec_pow.median() - bsl_pow.median()\n",
    "\n",
    "    index = pd.MultiIndex.from_product(\n",
    "        [[subject], [\"cortex\", \"hippocampus\"]], names=[\"subject\", \"region\"]\n",
    "    )\n",
    "    data = np.asarray(\n",
    "        [\n",
    "            [\n",
    "                diff_means.mpta_wm_ref,\n",
    "                diff_meds.mpta_wm_ref,\n",
    "            ],\n",
    "            [\n",
    "                diff_means.sr_wm_ref,\n",
    "                diff_meds.sr_wm_ref,\n",
    "            ],\n",
    "        ]\n",
    "    )\n",
    "    return pd.DataFrame(\n",
    "        data,\n",
    "        columns=[\"diff_means\", \"diff_meds\"],\n",
    "        index=index,\n",
    "    )"
   ]
  },
  {
   "cell_type": "code",
   "execution_count": 25,
   "metadata": {
    "execution": {
     "iopub.execute_input": "2021-06-10T20:21:03.800613Z",
     "iopub.status.busy": "2021-06-10T20:21:03.800379Z",
     "iopub.status.idle": "2021-06-10T20:21:36.337981Z",
     "shell.execute_reply": "2021-06-10T20:21:36.336664Z",
     "shell.execute_reply.started": "2021-06-10T20:21:03.800587Z"
    }
   },
   "outputs": [],
   "source": [
    "subj_data = list()\n",
    "for subject in subjects:\n",
    "    subj_data.append(get_subject_data(subject, experiment, norm_condition, bsl_condition, rec_condition, states, duration, f_range, light_period_start, light_period_end))\n",
    "df = pd.concat(subj_data)"
   ]
  },
  {
   "cell_type": "code",
   "execution_count": 26,
   "metadata": {
    "execution": {
     "iopub.execute_input": "2021-06-10T20:21:36.379362Z",
     "iopub.status.busy": "2021-06-10T20:21:36.379231Z",
     "iopub.status.idle": "2021-06-10T20:21:36.391462Z",
     "shell.execute_reply": "2021-06-10T20:21:36.390947Z",
     "shell.execute_reply.started": "2021-06-10T20:21:36.379345Z"
    }
   },
   "outputs": [
    {
     "name": "stdout",
     "output_type": "stream",
     "text": [
      "|                               |   diff_means |   diff_meds |\n",
      "|:------------------------------|-------------:|------------:|\n",
      "| ('Segundo', 'cortex')         |     174.666  |    175.633  |\n",
      "| ('Segundo', 'hippocampus')    |      42.015  |     46.0376 |\n",
      "| ('Valentino', 'cortex')       |     103.253  |     85.2942 |\n",
      "| ('Valentino', 'hippocampus')  |      35.9414 |     39.6776 |\n",
      "| ('Doppio', 'cortex')          |     157.878  |    156.224  |\n",
      "| ('Doppio', 'hippocampus')     |      43.6544 |     40.87   |\n",
      "| ('Alessandro', 'cortex')      |     108.873  |    124.296  |\n",
      "| ('Alessandro', 'hippocampus') |      40.0028 |     52.5756 |\n",
      "| ('Allan', 'cortex')           |     189.006  |    190.341  |\n",
      "| ('Allan', 'hippocampus')      |      33.7885 |     31.3412 |\n"
     ]
    }
   ],
   "source": [
    "print(df.to_markdown())"
   ]
  },
  {
   "cell_type": "code",
   "execution_count": 27,
   "metadata": {
    "execution": {
     "iopub.execute_input": "2021-06-10T20:21:36.392214Z",
     "iopub.status.busy": "2021-06-10T20:21:36.392091Z",
     "iopub.status.idle": "2021-06-10T20:21:36.404607Z",
     "shell.execute_reply": "2021-06-10T20:21:36.404087Z",
     "shell.execute_reply.started": "2021-06-10T20:21:36.392199Z"
    }
   },
   "outputs": [],
   "source": [
    "cx = df.xs('cortex', level=1, drop_level=False)\n",
    "hc = df.xs('hippocampus', level=1, drop_level=False)"
   ]
  },
  {
   "cell_type": "code",
   "execution_count": 28,
   "metadata": {
    "execution": {
     "iopub.execute_input": "2021-06-10T20:21:36.405284Z",
     "iopub.status.busy": "2021-06-10T20:21:36.405160Z",
     "iopub.status.idle": "2021-06-10T20:21:36.416134Z",
     "shell.execute_reply": "2021-06-10T20:21:36.415717Z",
     "shell.execute_reply.started": "2021-06-10T20:21:36.405268Z"
    }
   },
   "outputs": [
    {
     "data": {
      "text/plain": [
       "Ttest_1sampResult(statistic=array([8.46101728, 7.76543915]), pvalue=array([0.00106921, 0.0014823 ]))"
      ]
     },
     "execution_count": 28,
     "metadata": {},
     "output_type": "execute_result"
    }
   ],
   "source": [
    "stats.ttest_1samp(cx, 0)"
   ]
  },
  {
   "cell_type": "code",
   "execution_count": 29,
   "metadata": {
    "execution": {
     "iopub.execute_input": "2021-06-10T20:21:36.416825Z",
     "iopub.status.busy": "2021-06-10T20:21:36.416691Z",
     "iopub.status.idle": "2021-06-10T20:21:36.427403Z",
     "shell.execute_reply": "2021-06-10T20:21:36.426915Z",
     "shell.execute_reply.started": "2021-06-10T20:21:36.416810Z"
    }
   },
   "outputs": [
    {
     "data": {
      "text/plain": [
       "Ttest_1sampResult(statistic=array([21.15670024, 11.94664386]), pvalue=array([2.95065648e-05, 2.81286504e-04]))"
      ]
     },
     "execution_count": 29,
     "metadata": {},
     "output_type": "execute_result"
    }
   ],
   "source": [
    "stats.ttest_1samp(hc, 0)"
   ]
  },
  {
   "cell_type": "code",
   "execution_count": null,
   "metadata": {},
   "outputs": [],
   "source": []
  }
 ],
 "metadata": {
  "kernelspec": {
   "display_name": "Python 3",
   "language": "python",
   "name": "python3"
  },
  "language_info": {
   "codemirror_mode": {
    "name": "ipython",
    "version": 3
   },
   "file_extension": ".py",
   "mimetype": "text/x-python",
   "name": "python",
   "nbconvert_exporter": "python",
   "pygments_lexer": "ipython3",
   "version": "3.7.9"
  }
 },
 "nbformat": 4,
 "nbformat_minor": 4
}
