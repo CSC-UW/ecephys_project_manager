{
 "cells": [
  {
   "cell_type": "code",
   "execution_count": 1,
   "metadata": {
    "execution": {
     "iopub.execute_input": "2021-06-11T23:47:37.804655Z",
     "iopub.status.busy": "2021-06-11T23:47:37.804170Z",
     "iopub.status.idle": "2021-06-11T23:47:37.822430Z",
     "shell.execute_reply": "2021-06-11T23:47:37.821857Z",
     "shell.execute_reply.started": "2021-06-11T23:47:37.804595Z"
    }
   },
   "outputs": [],
   "source": [
    "%load_ext autoreload\n",
    "%autoreload 2"
   ]
  },
  {
   "cell_type": "code",
   "execution_count": 2,
   "metadata": {
    "execution": {
     "iopub.execute_input": "2021-06-11T23:47:37.823315Z",
     "iopub.status.busy": "2021-06-11T23:47:37.823181Z",
     "iopub.status.idle": "2021-06-11T23:47:38.260347Z",
     "shell.execute_reply": "2021-06-11T23:47:38.259733Z",
     "shell.execute_reply.started": "2021-06-11T23:47:37.823298Z"
    }
   },
   "outputs": [],
   "source": [
    "# %matplotlib widget\n",
    "import matplotlib.pyplot as plt\n",
    "import seaborn as sns"
   ]
  },
  {
   "cell_type": "code",
   "execution_count": 3,
   "metadata": {
    "execution": {
     "iopub.execute_input": "2021-06-11T23:47:38.261443Z",
     "iopub.status.busy": "2021-06-11T23:47:38.261300Z",
     "iopub.status.idle": "2021-06-11T23:47:38.496192Z",
     "shell.execute_reply": "2021-06-11T23:47:38.495513Z",
     "shell.execute_reply.started": "2021-06-11T23:47:38.261426Z"
    }
   },
   "outputs": [],
   "source": [
    "import xarray as xr\n",
    "import numpy as np\n",
    "import pandas as pd"
   ]
  },
  {
   "cell_type": "code",
   "execution_count": 4,
   "metadata": {
    "execution": {
     "iopub.execute_input": "2021-06-11T23:47:38.497241Z",
     "iopub.status.busy": "2021-06-11T23:47:38.497089Z",
     "iopub.status.idle": "2021-06-11T23:47:38.510034Z",
     "shell.execute_reply": "2021-06-11T23:47:38.509478Z",
     "shell.execute_reply.started": "2021-06-11T23:47:38.497223Z"
    }
   },
   "outputs": [
    {
     "data": {
      "text/plain": [
       "<xarray.core.options.set_options at 0x7f0602ae1090>"
      ]
     },
     "execution_count": 4,
     "metadata": {},
     "output_type": "execute_result"
    }
   ],
   "source": [
    "xr.set_options(keep_attrs=True)"
   ]
  },
  {
   "cell_type": "code",
   "execution_count": 5,
   "metadata": {
    "execution": {
     "iopub.execute_input": "2021-06-11T23:47:38.510763Z",
     "iopub.status.busy": "2021-06-11T23:47:38.510636Z",
     "iopub.status.idle": "2021-06-11T23:47:38.524282Z",
     "shell.execute_reply": "2021-06-11T23:47:38.523723Z",
     "shell.execute_reply.started": "2021-06-11T23:47:38.510746Z"
    }
   },
   "outputs": [],
   "source": [
    "import ecephys_analyses as ea \n",
    "from ecephys import utils\n",
    "from ecephys.signal.xarray_utils import filter_dataset_by_hypnogram"
   ]
  },
  {
   "cell_type": "code",
   "execution_count": 6,
   "metadata": {
    "execution": {
     "iopub.execute_input": "2021-06-11T23:47:38.524987Z",
     "iopub.status.busy": "2021-06-11T23:47:38.524858Z",
     "iopub.status.idle": "2021-06-11T23:47:38.536604Z",
     "shell.execute_reply": "2021-06-11T23:47:38.535930Z",
     "shell.execute_reply.started": "2021-06-11T23:47:38.524972Z"
    }
   },
   "outputs": [],
   "source": [
    "subject = \"Valentino\"\n",
    "experiment = \"sleep-homeostasis\"\n",
    "norm_condition = \"light-period-circadian-match\"\n",
    "bsl_condition = \"recovery-sleep-circadian-match\"\n",
    "rec_condition = \"recovery-sleep\"\n",
    "states = [\"N1\", \"N2\"]\n",
    "duration = '02:00:00'\n",
    "light_period_start = '09:00:00'\n",
    "light_period_end = '21:00:00'\n",
    "f_range = (0.5, 4)"
   ]
  },
  {
   "cell_type": "code",
   "execution_count": 7,
   "metadata": {
    "execution": {
     "iopub.execute_input": "2021-06-11T23:47:38.537318Z",
     "iopub.status.busy": "2021-06-11T23:47:38.537195Z",
     "iopub.status.idle": "2021-06-11T23:47:44.015784Z",
     "shell.execute_reply": "2021-06-11T23:47:44.015318Z",
     "shell.execute_reply.started": "2021-06-11T23:47:38.537303Z"
    }
   },
   "outputs": [],
   "source": [
    "norm_hyp = ea.load_hypnogram(subject, experiment, norm_condition)\n",
    "norm_hyp = norm_hyp.keep_states(states).keep_between(light_period_start, light_period_end)\n",
    "\n",
    "norm_pow = ea.load_power(subject, experiment, norm_condition, \"spg.nc\").sel(frequency=slice(*f_range)).sum(dim=\"frequency\")\n",
    "norm_pow = filter_dataset_by_hypnogram(norm_pow, norm_hyp).swap_dims({'time': 'datetime'}).drop_vars(['time', 'timedelta'])"
   ]
  },
  {
   "cell_type": "code",
   "execution_count": 8,
   "metadata": {
    "execution": {
     "iopub.execute_input": "2021-06-11T23:47:44.016576Z",
     "iopub.status.busy": "2021-06-11T23:47:44.016439Z",
     "iopub.status.idle": "2021-06-11T23:47:46.279140Z",
     "shell.execute_reply": "2021-06-11T23:47:46.278703Z",
     "shell.execute_reply.started": "2021-06-11T23:47:44.016558Z"
    }
   },
   "outputs": [],
   "source": [
    "rec_hyp = ea.load_hypnogram(subject, experiment, rec_condition)\n",
    "rec_hyp = rec_hyp.keep_states(states).keep_first(duration)\n",
    "\n",
    "rec_pow = ea.load_power(subject, experiment, rec_condition, \"spg.nc\").sel(frequency=slice(*f_range)).sum(dim='frequency')\n",
    "rec_pow = filter_dataset_by_hypnogram(rec_pow, rec_hyp).swap_dims({'time': 'datetime'}).drop_vars(['time', 'timedelta'])\n",
    "rec_pow = rec_pow / norm_pow.mean(dim=\"datetime\") * 100"
   ]
  },
  {
   "cell_type": "code",
   "execution_count": 9,
   "metadata": {
    "execution": {
     "iopub.execute_input": "2021-06-11T23:47:46.280604Z",
     "iopub.status.busy": "2021-06-11T23:47:46.280453Z",
     "iopub.status.idle": "2021-06-11T23:47:47.931595Z",
     "shell.execute_reply": "2021-06-11T23:47:47.931164Z",
     "shell.execute_reply.started": "2021-06-11T23:47:46.280586Z"
    }
   },
   "outputs": [],
   "source": [
    "bsl_hyp = ea.load_hypnogram(subject, experiment, bsl_condition)\n",
    "bsl_hyp = bsl_hyp.keep_states(states).keep_between(rec_hyp.start_time.min().strftime(\"%H:%M:%S\"), light_period_end).keep_first(duration)\n",
    "\n",
    "bsl_pow = ea.load_power(subject, experiment, bsl_condition, \"spg.nc\").sel(frequency=slice(*f_range)).sum(dim='frequency')\n",
    "bsl_pow = filter_dataset_by_hypnogram(bsl_pow, bsl_hyp).swap_dims({'time': 'datetime'}).drop_vars(['time', 'timedelta'])\n",
    "bsl_pow = bsl_pow / norm_pow.mean(dim=\"datetime\") * 100"
   ]
  },
  {
   "cell_type": "code",
   "execution_count": 10,
   "metadata": {
    "execution": {
     "iopub.execute_input": "2021-06-11T23:47:47.932657Z",
     "iopub.status.busy": "2021-06-11T23:47:47.932516Z",
     "iopub.status.idle": "2021-06-11T23:47:47.944155Z",
     "shell.execute_reply": "2021-06-11T23:47:47.943664Z",
     "shell.execute_reply.started": "2021-06-11T23:47:47.932639Z"
    }
   },
   "outputs": [],
   "source": [
    "def match_lengths(dataframes):\n",
    "    length = min(list(map(len, dataframes)))\n",
    "    return (df.iloc[:length] for df in dataframes)"
   ]
  },
  {
   "cell_type": "code",
   "execution_count": 11,
   "metadata": {
    "execution": {
     "iopub.execute_input": "2021-06-11T23:47:47.944814Z",
     "iopub.status.busy": "2021-06-11T23:47:47.944687Z",
     "iopub.status.idle": "2021-06-11T23:47:47.964630Z",
     "shell.execute_reply": "2021-06-11T23:47:47.964134Z",
     "shell.execute_reply.started": "2021-06-11T23:47:47.944798Z"
    }
   },
   "outputs": [],
   "source": [
    "bsl_df = bsl_pow.to_dataframe().reset_index(drop=True).rename_axis(index='pair').assign(condition='baseline').set_index('condition', append=True)\n",
    "rec_df = rec_pow.to_dataframe().reset_index(drop=True).rename_axis(index='pair').assign(condition='recovery').set_index('condition', append=True)\n",
    "bsl_df, rec_df = match_lengths((bsl_df, rec_df))\n",
    "df = pd.concat([bsl_df, rec_df]).sort_index()\n",
    "df.columns.name = 'region'"
   ]
  },
  {
   "cell_type": "code",
   "execution_count": 12,
   "metadata": {
    "execution": {
     "iopub.execute_input": "2021-06-11T23:47:47.965424Z",
     "iopub.status.busy": "2021-06-11T23:47:47.965291Z",
     "iopub.status.idle": "2021-06-11T23:47:47.978693Z",
     "shell.execute_reply": "2021-06-11T23:47:47.978155Z",
     "shell.execute_reply.started": "2021-06-11T23:47:47.965408Z"
    }
   },
   "outputs": [],
   "source": [
    "df_plot = df.stack().to_frame(name='power')\n",
    "df_plot['log_power'] = np.log(df_plot.power)\n",
    "df_plot['sqrt_power'] = np.sqrt(df_plot.power)"
   ]
  },
  {
   "cell_type": "code",
   "execution_count": 13,
   "metadata": {
    "execution": {
     "iopub.execute_input": "2021-06-11T23:47:47.979423Z",
     "iopub.status.busy": "2021-06-11T23:47:47.979296Z",
     "iopub.status.idle": "2021-06-11T23:47:49.160695Z",
     "shell.execute_reply": "2021-06-11T23:47:49.160076Z",
     "shell.execute_reply.started": "2021-06-11T23:47:47.979406Z"
    }
   },
   "outputs": [
    {
     "data": {
      "image/png": "[encoded data removed]",
      "text/plain": [
       "<Figure size 799.5x360 with 2 Axes>"
      ]
     },
     "metadata": {
      "needs_background": "light"
     },
     "output_type": "display_data"
    }
   ],
   "source": [
    "g = sns.displot(data=df_plot, x='power', hue='condition', col='region', kind='hist')\n",
    "g.set(xlabel='Delta (0.5 - 4Hz) PSD (uV^2/Hz)')\n",
    "g.tight_layout()"
   ]
  },
  {
   "cell_type": "code",
   "execution_count": 14,
   "metadata": {
    "execution": {
     "iopub.execute_input": "2021-06-11T23:47:49.161623Z",
     "iopub.status.busy": "2021-06-11T23:47:49.161474Z",
     "iopub.status.idle": "2021-06-11T23:47:49.940142Z",
     "shell.execute_reply": "2021-06-11T23:47:49.939682Z",
     "shell.execute_reply.started": "2021-06-11T23:47:49.161604Z"
    }
   },
   "outputs": [
    {
     "data": {
      "image/png": "[encoded data removed]",
      "text/plain": [
       "<Figure size 799.5x360 with 2 Axes>"
      ]
     },
     "metadata": {
      "needs_background": "light"
     },
     "output_type": "display_data"
    }
   ],
   "source": [
    "g = sns.displot(data=df_plot, x='log_power', hue='condition', col='region', kind='hist')\n",
    "g.set(xlabel='Delta (0.5 - 4Hz) PSD (uV^2/Hz)')\n",
    "g.tight_layout()"
   ]
  },
  {
   "cell_type": "code",
   "execution_count": 15,
   "metadata": {
    "execution": {
     "iopub.execute_input": "2021-06-11T23:47:49.940936Z",
     "iopub.status.busy": "2021-06-11T23:47:49.940799Z",
     "iopub.status.idle": "2021-06-11T23:47:50.690265Z",
     "shell.execute_reply": "2021-06-11T23:47:50.689816Z",
     "shell.execute_reply.started": "2021-06-11T23:47:49.940919Z"
    }
   },
   "outputs": [
    {
     "data": {
      "image/png": "[encoded data removed]",
      "text/plain": [
       "<Figure size 799.5x360 with 2 Axes>"
      ]
     },
     "metadata": {
      "needs_background": "light"
     },
     "output_type": "display_data"
    }
   ],
   "source": [
    "g = sns.displot(data=df_plot, x='sqrt_power', hue='condition', col='region', kind='hist')\n",
    "g.set(xlabel='Delta (0.5 - 4Hz) PSD (uV^2/Hz)')\n",
    "g.tight_layout()"
   ]
  },
  {
   "cell_type": "code",
   "execution_count": 16,
   "metadata": {
    "execution": {
     "iopub.execute_input": "2021-06-11T23:47:50.691144Z",
     "iopub.status.busy": "2021-06-11T23:47:50.690996Z",
     "iopub.status.idle": "2021-06-11T23:47:50.704103Z",
     "shell.execute_reply": "2021-06-11T23:47:50.703542Z",
     "shell.execute_reply.started": "2021-06-11T23:47:50.691124Z"
    }
   },
   "outputs": [],
   "source": [
    "def get_rebound(df):\n",
    "    means = df.groupby('condition').mean()\n",
    "    return means.xs('recovery') - means.xs('baseline')"
   ]
  },
  {
   "cell_type": "code",
   "execution_count": 17,
   "metadata": {
    "execution": {
     "iopub.execute_input": "2021-06-11T23:47:50.704837Z",
     "iopub.status.busy": "2021-06-11T23:47:50.704708Z",
     "iopub.status.idle": "2021-06-11T23:47:50.716935Z",
     "shell.execute_reply": "2021-06-11T23:47:50.716404Z",
     "shell.execute_reply.started": "2021-06-11T23:47:50.704821Z"
    }
   },
   "outputs": [],
   "source": [
    "def shuffle(df, key): \n",
    "    _df = df.reset_index()\n",
    "    labels = _df[key].values.reshape(-1, 2)\n",
    "    rng = np.random.default_rng()\n",
    "    rng.permuted(labels, axis=1, out=labels)\n",
    "    _df.set_index(df.index.names, inplace=True)\n",
    "    return _df"
   ]
  },
  {
   "cell_type": "code",
   "execution_count": 18,
   "metadata": {
    "execution": {
     "iopub.execute_input": "2021-06-11T23:47:50.717644Z",
     "iopub.status.busy": "2021-06-11T23:47:50.717519Z",
     "iopub.status.idle": "2021-06-11T23:48:19.020570Z",
     "shell.execute_reply": "2021-06-11T23:48:19.019376Z",
     "shell.execute_reply.started": "2021-06-11T23:47:50.717629Z"
    }
   },
   "outputs": [],
   "source": [
    "observed = get_rebound(df)\n",
    "\n",
    "n_permutations = 10000\n",
    "permutations = list()\n",
    "for i in range(n_permutations):\n",
    "    permuted = shuffle(df, 'condition')\n",
    "    permutations.append(get_rebound(permuted))"
   ]
  },
  {
   "cell_type": "code",
   "execution_count": 19,
   "metadata": {
    "execution": {
     "iopub.execute_input": "2021-06-11T23:48:19.021708Z",
     "iopub.status.busy": "2021-06-11T23:48:19.021555Z",
     "iopub.status.idle": "2021-06-11T23:48:19.546972Z",
     "shell.execute_reply": "2021-06-11T23:48:19.545952Z",
     "shell.execute_reply.started": "2021-06-11T23:48:19.021691Z"
    }
   },
   "outputs": [],
   "source": [
    "perms = pd.concat(permutations, axis=1)\n",
    "perms.columns.name = 'permtuation'\n",
    "perms = perms.stack().to_frame(name='rebound').reorder_levels([1, 0]).sort_index()"
   ]
  },
  {
   "cell_type": "code",
   "execution_count": 20,
   "metadata": {
    "execution": {
     "iopub.execute_input": "2021-06-11T23:48:19.547971Z",
     "iopub.status.busy": "2021-06-11T23:48:19.547821Z",
     "iopub.status.idle": "2021-06-11T23:48:20.042165Z",
     "shell.execute_reply": "2021-06-11T23:48:20.041641Z",
     "shell.execute_reply.started": "2021-06-11T23:48:19.547954Z"
    }
   },
   "outputs": [
    {
     "data": {
      "image/png": "[encoded data removed]",
      "text/plain": [
       "<Figure size 720x360 with 2 Axes>"
      ]
     },
     "metadata": {
      "needs_background": "light"
     },
     "output_type": "display_data"
    }
   ],
   "source": [
    "g = sns.displot(data=perms, x='rebound', col='region', kind='hist')\n",
    "g.set(xlabel='Rebound (SD - BL)')\n",
    "g.tight_layout()"
   ]
  },
  {
   "cell_type": "code",
   "execution_count": 21,
   "metadata": {
    "execution": {
     "iopub.execute_input": "2021-06-11T23:48:20.042989Z",
     "iopub.status.busy": "2021-06-11T23:48:20.042860Z",
     "iopub.status.idle": "2021-06-11T23:48:20.057648Z",
     "shell.execute_reply": "2021-06-11T23:48:20.057219Z",
     "shell.execute_reply.started": "2021-06-11T23:48:20.042972Z"
    }
   },
   "outputs": [],
   "source": [
    "cx = perms.xs('mpta_wm_ref', level='region')\n",
    "hc = perms.xs('sr_wm_ref', level='region')"
   ]
  },
  {
   "cell_type": "code",
   "execution_count": 22,
   "metadata": {
    "execution": {
     "iopub.execute_input": "2021-06-11T23:48:20.058424Z",
     "iopub.status.busy": "2021-06-11T23:48:20.058295Z",
     "iopub.status.idle": "2021-06-11T23:48:20.070613Z",
     "shell.execute_reply": "2021-06-11T23:48:20.069961Z",
     "shell.execute_reply.started": "2021-06-11T23:48:20.058408Z"
    }
   },
   "outputs": [],
   "source": [
    "pcx = np.sum(cx >= observed.xs('mpta_wm_ref'))"
   ]
  },
  {
   "cell_type": "code",
   "execution_count": 23,
   "metadata": {
    "execution": {
     "iopub.execute_input": "2021-06-11T23:48:20.071396Z",
     "iopub.status.busy": "2021-06-11T23:48:20.071276Z",
     "iopub.status.idle": "2021-06-11T23:48:20.081343Z",
     "shell.execute_reply": "2021-06-11T23:48:20.080487Z",
     "shell.execute_reply.started": "2021-06-11T23:48:20.071382Z"
    }
   },
   "outputs": [],
   "source": [
    "phc = np.sum(hc >= observed.xs('sr_wm_ref'))"
   ]
  },
  {
   "cell_type": "code",
   "execution_count": 24,
   "metadata": {
    "execution": {
     "iopub.execute_input": "2021-06-11T23:48:20.082152Z",
     "iopub.status.busy": "2021-06-11T23:48:20.082027Z",
     "iopub.status.idle": "2021-06-11T23:48:20.097395Z",
     "shell.execute_reply": "2021-06-11T23:48:20.096657Z",
     "shell.execute_reply.started": "2021-06-11T23:48:20.082137Z"
    }
   },
   "outputs": [
    {
     "name": "stdout",
     "output_type": "stream",
     "text": [
      "Subject: Valentino\n",
      "Observed rebound (BL - SD):\n",
      "\n",
      "| region      |       0 |\n",
      "|:------------|--------:|\n",
      "| mpta_wm_ref | 103.316 |\n",
      "| sr_wm_ref   |  36.078 |\n",
      "\n",
      "\n",
      "Shuffled >= observed:\n",
      "Cortex: 1 / 10000\n",
      "Hippocampus: 1 / 10000\n"
     ]
    }
   ],
   "source": [
    "print(f\"Subject: {subject}\")\n",
    "print('Observed rebound (BL - SD):\\n')\n",
    "print(observed.to_markdown())\n",
    "print('\\n')\n",
    "print('Shuffled >= observed:')\n",
    "print(f\"Cortex: {1 + pcx.squeeze()} / {n_permutations}\")\n",
    "print(f\"Hippocampus: {1 + phc.squeeze()} / {n_permutations}\")"
   ]
  },
  {
   "cell_type": "code",
   "execution_count": null,
   "metadata": {},
   "outputs": [],
   "source": []
  }
 ],
 "metadata": {
  "kernelspec": {
   "display_name": "Python 3",
   "language": "python",
   "name": "python3"
  },
  "language_info": {
   "codemirror_mode": {
    "name": "ipython",
    "version": 3
   },
   "file_extension": ".py",
   "mimetype": "text/x-python",
   "name": "python",
   "nbconvert_exporter": "python",
   "pygments_lexer": "ipython3",
   "version": "3.7.9"
  }
 },
 "nbformat": 4,
 "nbformat_minor": 4
}
