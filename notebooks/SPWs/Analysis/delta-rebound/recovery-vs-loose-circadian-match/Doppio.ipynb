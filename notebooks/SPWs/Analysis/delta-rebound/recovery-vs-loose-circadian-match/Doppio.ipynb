{
 "cells": [
  {
   "cell_type": "code",
   "execution_count": 1,
   "metadata": {
    "execution": {
     "iopub.execute_input": "2021-06-11T23:47:47.909290Z",
     "iopub.status.busy": "2021-06-11T23:47:47.908854Z",
     "iopub.status.idle": "2021-06-11T23:47:47.926649Z",
     "shell.execute_reply": "2021-06-11T23:47:47.926017Z",
     "shell.execute_reply.started": "2021-06-11T23:47:47.909237Z"
    }
   },
   "outputs": [],
   "source": [
    "%load_ext autoreload\n",
    "%autoreload 2"
   ]
  },
  {
   "cell_type": "code",
   "execution_count": 2,
   "metadata": {
    "execution": {
     "iopub.execute_input": "2021-06-11T23:47:47.927554Z",
     "iopub.status.busy": "2021-06-11T23:47:47.927426Z",
     "iopub.status.idle": "2021-06-11T23:47:48.282072Z",
     "shell.execute_reply": "2021-06-11T23:47:48.281340Z",
     "shell.execute_reply.started": "2021-06-11T23:47:47.927538Z"
    }
   },
   "outputs": [],
   "source": [
    "# %matplotlib widget\n",
    "import matplotlib.pyplot as plt\n",
    "import seaborn as sns"
   ]
  },
  {
   "cell_type": "code",
   "execution_count": 3,
   "metadata": {
    "execution": {
     "iopub.execute_input": "2021-06-11T23:47:48.283200Z",
     "iopub.status.busy": "2021-06-11T23:47:48.283054Z",
     "iopub.status.idle": "2021-06-11T23:47:48.551181Z",
     "shell.execute_reply": "2021-06-11T23:47:48.550502Z",
     "shell.execute_reply.started": "2021-06-11T23:47:48.283182Z"
    }
   },
   "outputs": [],
   "source": [
    "import xarray as xr\n",
    "import numpy as np\n",
    "import pandas as pd"
   ]
  },
  {
   "cell_type": "code",
   "execution_count": 4,
   "metadata": {
    "execution": {
     "iopub.execute_input": "2021-06-11T23:47:48.552790Z",
     "iopub.status.busy": "2021-06-11T23:47:48.552441Z",
     "iopub.status.idle": "2021-06-11T23:47:48.573700Z",
     "shell.execute_reply": "2021-06-11T23:47:48.573154Z",
     "shell.execute_reply.started": "2021-06-11T23:47:48.552756Z"
    }
   },
   "outputs": [
    {
     "data": {
      "text/plain": [
       "<xarray.core.options.set_options at 0x7f71f4c67a90>"
      ]
     },
     "execution_count": 4,
     "metadata": {},
     "output_type": "execute_result"
    }
   ],
   "source": [
    "xr.set_options(keep_attrs=True)"
   ]
  },
  {
   "cell_type": "code",
   "execution_count": 5,
   "metadata": {
    "execution": {
     "iopub.execute_input": "2021-06-11T23:47:48.574874Z",
     "iopub.status.busy": "2021-06-11T23:47:48.574552Z",
     "iopub.status.idle": "2021-06-11T23:47:48.597454Z",
     "shell.execute_reply": "2021-06-11T23:47:48.596897Z",
     "shell.execute_reply.started": "2021-06-11T23:47:48.574842Z"
    }
   },
   "outputs": [],
   "source": [
    "import ecephys_analyses as ea \n",
    "from ecephys import utils\n",
    "from ecephys.signal.xarray_utils import filter_dataset_by_hypnogram"
   ]
  },
  {
   "cell_type": "code",
   "execution_count": 6,
   "metadata": {
    "execution": {
     "iopub.execute_input": "2021-06-11T23:47:48.598645Z",
     "iopub.status.busy": "2021-06-11T23:47:48.598314Z",
     "iopub.status.idle": "2021-06-11T23:47:48.624688Z",
     "shell.execute_reply": "2021-06-11T23:47:48.624261Z",
     "shell.execute_reply.started": "2021-06-11T23:47:48.598612Z"
    }
   },
   "outputs": [],
   "source": [
    "subject = \"Doppio\"\n",
    "experiment = \"sleep-homeostasis\"\n",
    "norm_condition = \"light-period-circadian-match\"\n",
    "bsl_condition = \"recovery-sleep-circadian-match\"\n",
    "rec_condition = \"recovery-sleep\"\n",
    "states = [\"N1\", \"N2\"]\n",
    "duration = '02:00:00'\n",
    "light_period_start = '09:00:00'\n",
    "light_period_end = '21:00:00'\n",
    "f_range = (0.5, 4)"
   ]
  },
  {
   "cell_type": "code",
   "execution_count": 7,
   "metadata": {
    "execution": {
     "iopub.execute_input": "2021-06-11T23:47:48.625453Z",
     "iopub.status.busy": "2021-06-11T23:47:48.625309Z",
     "iopub.status.idle": "2021-06-11T23:47:54.678658Z",
     "shell.execute_reply": "2021-06-11T23:47:54.677957Z",
     "shell.execute_reply.started": "2021-06-11T23:47:48.625434Z"
    }
   },
   "outputs": [],
   "source": [
    "norm_hyp = ea.load_hypnogram(subject, experiment, norm_condition)\n",
    "norm_hyp = norm_hyp.keep_states(states).keep_between(light_period_start, light_period_end)\n",
    "\n",
    "norm_pow = ea.load_power(subject, experiment, norm_condition, \"spg.nc\").sel(frequency=slice(*f_range)).sum(dim=\"frequency\")\n",
    "norm_pow = filter_dataset_by_hypnogram(norm_pow, norm_hyp).swap_dims({'time': 'datetime'}).drop_vars(['time', 'timedelta'])"
   ]
  },
  {
   "cell_type": "code",
   "execution_count": 8,
   "metadata": {
    "execution": {
     "iopub.execute_input": "2021-06-11T23:47:54.680196Z",
     "iopub.status.busy": "2021-06-11T23:47:54.680040Z",
     "iopub.status.idle": "2021-06-11T23:47:58.397829Z",
     "shell.execute_reply": "2021-06-11T23:47:58.397071Z",
     "shell.execute_reply.started": "2021-06-11T23:47:54.680177Z"
    }
   },
   "outputs": [],
   "source": [
    "rec_hyp = ea.load_hypnogram(subject, experiment, rec_condition)\n",
    "rec_hyp = rec_hyp.keep_states(states).keep_first(duration)\n",
    "\n",
    "rec_pow = ea.load_power(subject, experiment, rec_condition, \"spg.nc\").sel(frequency=slice(*f_range)).sum(dim='frequency')\n",
    "rec_pow = filter_dataset_by_hypnogram(rec_pow, rec_hyp).swap_dims({'time': 'datetime'}).drop_vars(['time', 'timedelta'])\n",
    "rec_pow = rec_pow / norm_pow.mean(dim=\"datetime\") * 100"
   ]
  },
  {
   "cell_type": "code",
   "execution_count": 9,
   "metadata": {
    "execution": {
     "iopub.execute_input": "2021-06-11T23:47:58.399160Z",
     "iopub.status.busy": "2021-06-11T23:47:58.399001Z",
     "iopub.status.idle": "2021-06-11T23:48:01.028398Z",
     "shell.execute_reply": "2021-06-11T23:48:01.027661Z",
     "shell.execute_reply.started": "2021-06-11T23:47:58.399141Z"
    }
   },
   "outputs": [],
   "source": [
    "bsl_hyp = ea.load_hypnogram(subject, experiment, bsl_condition)\n",
    "bsl_hyp = bsl_hyp.keep_states(states).keep_between(rec_hyp.start_time.min().strftime(\"%H:%M:%S\"), light_period_end).keep_first(duration)\n",
    "\n",
    "bsl_pow = ea.load_power(subject, experiment, bsl_condition, \"spg.nc\").sel(frequency=slice(*f_range)).sum(dim='frequency')\n",
    "bsl_pow = filter_dataset_by_hypnogram(bsl_pow, bsl_hyp).swap_dims({'time': 'datetime'}).drop_vars(['time', 'timedelta'])\n",
    "bsl_pow = bsl_pow / norm_pow.mean(dim=\"datetime\") * 100"
   ]
  },
  {
   "cell_type": "code",
   "execution_count": 10,
   "metadata": {
    "execution": {
     "iopub.execute_input": "2021-06-11T23:48:01.029754Z",
     "iopub.status.busy": "2021-06-11T23:48:01.029522Z",
     "iopub.status.idle": "2021-06-11T23:48:01.044349Z",
     "shell.execute_reply": "2021-06-11T23:48:01.043622Z",
     "shell.execute_reply.started": "2021-06-11T23:48:01.029723Z"
    }
   },
   "outputs": [],
   "source": [
    "def match_lengths(dataframes):\n",
    "    length = min(list(map(len, dataframes)))\n",
    "    return (df.iloc[:length] for df in dataframes)"
   ]
  },
  {
   "cell_type": "code",
   "execution_count": 11,
   "metadata": {
    "execution": {
     "iopub.execute_input": "2021-06-11T23:48:01.045161Z",
     "iopub.status.busy": "2021-06-11T23:48:01.045027Z",
     "iopub.status.idle": "2021-06-11T23:48:01.065396Z",
     "shell.execute_reply": "2021-06-11T23:48:01.064918Z",
     "shell.execute_reply.started": "2021-06-11T23:48:01.045144Z"
    }
   },
   "outputs": [],
   "source": [
    "bsl_df = bsl_pow.to_dataframe().reset_index(drop=True).rename_axis(index='pair').assign(condition='baseline').set_index('condition', append=True)\n",
    "rec_df = rec_pow.to_dataframe().reset_index(drop=True).rename_axis(index='pair').assign(condition='recovery').set_index('condition', append=True)\n",
    "bsl_df, rec_df = match_lengths((bsl_df, rec_df))\n",
    "df = pd.concat([bsl_df, rec_df]).sort_index()\n",
    "df.columns.name = 'region'"
   ]
  },
  {
   "cell_type": "code",
   "execution_count": 12,
   "metadata": {
    "execution": {
     "iopub.execute_input": "2021-06-11T23:48:01.066115Z",
     "iopub.status.busy": "2021-06-11T23:48:01.065993Z",
     "iopub.status.idle": "2021-06-11T23:48:01.078208Z",
     "shell.execute_reply": "2021-06-11T23:48:01.077638Z",
     "shell.execute_reply.started": "2021-06-11T23:48:01.066099Z"
    }
   },
   "outputs": [],
   "source": [
    "df_plot = df.stack().to_frame(name='power')\n",
    "df_plot['log_power'] = np.log(df_plot.power)\n",
    "df_plot['sqrt_power'] = np.sqrt(df_plot.power)"
   ]
  },
  {
   "cell_type": "code",
   "execution_count": 13,
   "metadata": {
    "execution": {
     "iopub.execute_input": "2021-06-11T23:48:01.078912Z",
     "iopub.status.busy": "2021-06-11T23:48:01.078792Z",
     "iopub.status.idle": "2021-06-11T23:48:02.107031Z",
     "shell.execute_reply": "2021-06-11T23:48:02.106497Z",
     "shell.execute_reply.started": "2021-06-11T23:48:01.078896Z"
    }
   },
   "outputs": [
    {
     "data": {
      "image/png": "[encoded data removed]",
      "text/plain": [
       "<Figure size 799.5x360 with 2 Axes>"
      ]
     },
     "metadata": {
      "needs_background": "light"
     },
     "output_type": "display_data"
    }
   ],
   "source": [
    "g = sns.displot(data=df_plot, x='power', hue='condition', col='region', kind='hist')\n",
    "g.set(xlabel='Delta (0.5 - 4Hz) PSD (uV^2/Hz)')\n",
    "g.tight_layout()"
   ]
  },
  {
   "cell_type": "code",
   "execution_count": 14,
   "metadata": {
    "execution": {
     "iopub.execute_input": "2021-06-11T23:48:02.107901Z",
     "iopub.status.busy": "2021-06-11T23:48:02.107756Z",
     "iopub.status.idle": "2021-06-11T23:48:02.967774Z",
     "shell.execute_reply": "2021-06-11T23:48:02.967026Z",
     "shell.execute_reply.started": "2021-06-11T23:48:02.107882Z"
    }
   },
   "outputs": [
    {
     "data": {
      "image/png": "[encoded data removed]",
      "text/plain": [
       "<Figure size 799.5x360 with 2 Axes>"
      ]
     },
     "metadata": {
      "needs_background": "light"
     },
     "output_type": "display_data"
    }
   ],
   "source": [
    "g = sns.displot(data=df_plot, x='log_power', hue='condition', col='region', kind='hist')\n",
    "g.set(xlabel='Delta (0.5 - 4Hz) PSD (uV^2/Hz)')\n",
    "g.tight_layout()"
   ]
  },
  {
   "cell_type": "code",
   "execution_count": 15,
   "metadata": {
    "execution": {
     "iopub.execute_input": "2021-06-11T23:48:02.968835Z",
     "iopub.status.busy": "2021-06-11T23:48:02.968670Z",
     "iopub.status.idle": "2021-06-11T23:48:03.678796Z",
     "shell.execute_reply": "2021-06-11T23:48:03.677990Z",
     "shell.execute_reply.started": "2021-06-11T23:48:02.968816Z"
    }
   },
   "outputs": [
    {
     "data": {
      "image/png": "[encoded data removed]",
      "text/plain": [
       "<Figure size 799.5x360 with 2 Axes>"
      ]
     },
     "metadata": {
      "needs_background": "light"
     },
     "output_type": "display_data"
    }
   ],
   "source": [
    "g = sns.displot(data=df_plot, x='sqrt_power', hue='condition', col='region', kind='hist')\n",
    "g.set(xlabel='Delta (0.5 - 4Hz) PSD (uV^2/Hz)')\n",
    "g.tight_layout()"
   ]
  },
  {
   "cell_type": "code",
   "execution_count": 16,
   "metadata": {
    "execution": {
     "iopub.execute_input": "2021-06-11T23:48:03.679924Z",
     "iopub.status.busy": "2021-06-11T23:48:03.679759Z",
     "iopub.status.idle": "2021-06-11T23:48:03.694807Z",
     "shell.execute_reply": "2021-06-11T23:48:03.693895Z",
     "shell.execute_reply.started": "2021-06-11T23:48:03.679906Z"
    }
   },
   "outputs": [],
   "source": [
    "def get_rebound(df):\n",
    "    means = df.groupby('condition').mean()\n",
    "    return means.xs('recovery') - means.xs('baseline')"
   ]
  },
  {
   "cell_type": "code",
   "execution_count": 17,
   "metadata": {
    "execution": {
     "iopub.execute_input": "2021-06-11T23:48:03.695707Z",
     "iopub.status.busy": "2021-06-11T23:48:03.695573Z",
     "iopub.status.idle": "2021-06-11T23:48:03.709552Z",
     "shell.execute_reply": "2021-06-11T23:48:03.708560Z",
     "shell.execute_reply.started": "2021-06-11T23:48:03.695689Z"
    }
   },
   "outputs": [],
   "source": [
    "def shuffle(df, key): \n",
    "    _df = df.reset_index()\n",
    "    labels = _df[key].values.reshape(-1, 2)\n",
    "    rng = np.random.default_rng()\n",
    "    rng.permuted(labels, axis=1, out=labels)\n",
    "    _df.set_index(df.index.names, inplace=True)\n",
    "    return _df"
   ]
  },
  {
   "cell_type": "code",
   "execution_count": 18,
   "metadata": {
    "execution": {
     "iopub.execute_input": "2021-06-11T23:48:03.710399Z",
     "iopub.status.busy": "2021-06-11T23:48:03.710272Z",
     "iopub.status.idle": "2021-06-11T23:48:33.254785Z",
     "shell.execute_reply": "2021-06-11T23:48:33.253405Z",
     "shell.execute_reply.started": "2021-06-11T23:48:03.710383Z"
    }
   },
   "outputs": [],
   "source": [
    "observed = get_rebound(df)\n",
    "\n",
    "n_permutations = 10000\n",
    "permutations = list()\n",
    "for i in range(n_permutations):\n",
    "    permuted = shuffle(df, 'condition')\n",
    "    permutations.append(get_rebound(permuted))"
   ]
  },
  {
   "cell_type": "code",
   "execution_count": 19,
   "metadata": {
    "execution": {
     "iopub.execute_input": "2021-06-11T23:48:33.256347Z",
     "iopub.status.busy": "2021-06-11T23:48:33.256167Z",
     "iopub.status.idle": "2021-06-11T23:48:33.921934Z",
     "shell.execute_reply": "2021-06-11T23:48:33.920736Z",
     "shell.execute_reply.started": "2021-06-11T23:48:33.256325Z"
    }
   },
   "outputs": [],
   "source": [
    "perms = pd.concat(permutations, axis=1)\n",
    "perms.columns.name = 'permtuation'\n",
    "perms = perms.stack().to_frame(name='rebound').reorder_levels([1, 0]).sort_index()"
   ]
  },
  {
   "cell_type": "code",
   "execution_count": 20,
   "metadata": {
    "execution": {
     "iopub.execute_input": "2021-06-11T23:48:33.923309Z",
     "iopub.status.busy": "2021-06-11T23:48:33.922904Z",
     "iopub.status.idle": "2021-06-11T23:48:34.492808Z",
     "shell.execute_reply": "2021-06-11T23:48:34.492053Z",
     "shell.execute_reply.started": "2021-06-11T23:48:33.923284Z"
    }
   },
   "outputs": [
    {
     "data": {
      "image/png": "[encoded data removed]",
      "text/plain": [
       "<Figure size 720x360 with 2 Axes>"
      ]
     },
     "metadata": {
      "needs_background": "light"
     },
     "output_type": "display_data"
    }
   ],
   "source": [
    "g = sns.displot(data=perms, x='rebound', col='region', kind='hist')\n",
    "g.set(xlabel='Rebound (SD - BL)')\n",
    "g.tight_layout()"
   ]
  },
  {
   "cell_type": "code",
   "execution_count": 21,
   "metadata": {
    "execution": {
     "iopub.execute_input": "2021-06-11T23:48:34.493907Z",
     "iopub.status.busy": "2021-06-11T23:48:34.493758Z",
     "iopub.status.idle": "2021-06-11T23:48:34.509276Z",
     "shell.execute_reply": "2021-06-11T23:48:34.508556Z",
     "shell.execute_reply.started": "2021-06-11T23:48:34.493889Z"
    }
   },
   "outputs": [],
   "source": [
    "cx = perms.xs('mpta_wm_ref', level='region')\n",
    "hc = perms.xs('sr_wm_ref', level='region')"
   ]
  },
  {
   "cell_type": "code",
   "execution_count": 22,
   "metadata": {
    "execution": {
     "iopub.execute_input": "2021-06-11T23:48:34.510157Z",
     "iopub.status.busy": "2021-06-11T23:48:34.510031Z",
     "iopub.status.idle": "2021-06-11T23:48:34.522511Z",
     "shell.execute_reply": "2021-06-11T23:48:34.521573Z",
     "shell.execute_reply.started": "2021-06-11T23:48:34.510141Z"
    }
   },
   "outputs": [],
   "source": [
    "pcx = np.sum(cx >= observed.xs('mpta_wm_ref'))"
   ]
  },
  {
   "cell_type": "code",
   "execution_count": 23,
   "metadata": {
    "execution": {
     "iopub.execute_input": "2021-06-11T23:48:34.524788Z",
     "iopub.status.busy": "2021-06-11T23:48:34.524662Z",
     "iopub.status.idle": "2021-06-11T23:48:34.535578Z",
     "shell.execute_reply": "2021-06-11T23:48:34.534721Z",
     "shell.execute_reply.started": "2021-06-11T23:48:34.524773Z"
    }
   },
   "outputs": [],
   "source": [
    "phc = np.sum(hc >= observed.xs('sr_wm_ref'))"
   ]
  },
  {
   "cell_type": "code",
   "execution_count": 24,
   "metadata": {
    "execution": {
     "iopub.execute_input": "2021-06-11T23:48:34.536851Z",
     "iopub.status.busy": "2021-06-11T23:48:34.536726Z",
     "iopub.status.idle": "2021-06-11T23:48:34.553404Z",
     "shell.execute_reply": "2021-06-11T23:48:34.552490Z",
     "shell.execute_reply.started": "2021-06-11T23:48:34.536836Z"
    }
   },
   "outputs": [
    {
     "name": "stdout",
     "output_type": "stream",
     "text": [
      "Subject: Doppio\n",
      "Observed rebound (BL - SD):\n",
      "\n",
      "| region      |       0 |\n",
      "|:------------|--------:|\n",
      "| mpta_wm_ref | 157.888 |\n",
      "| sr_wm_ref   |  43.596 |\n",
      "\n",
      "\n",
      "Shuffled >= observed:\n",
      "Cortex: 1 / 10000\n",
      "Hippocampus: 1 / 10000\n"
     ]
    }
   ],
   "source": [
    "print(f\"Subject: {subject}\")\n",
    "print('Observed rebound (BL - SD):\\n')\n",
    "print(observed.to_markdown())\n",
    "print('\\n')\n",
    "print('Shuffled >= observed:')\n",
    "print(f\"Cortex: {1 + pcx.squeeze()} / {n_permutations}\")\n",
    "print(f\"Hippocampus: {1 + phc.squeeze()} / {n_permutations}\")"
   ]
  },
  {
   "cell_type": "code",
   "execution_count": null,
   "metadata": {},
   "outputs": [],
   "source": []
  }
 ],
 "metadata": {
  "kernelspec": {
   "display_name": "Python 3",
   "language": "python",
   "name": "python3"
  },
  "language_info": {
   "codemirror_mode": {
    "name": "ipython",
    "version": 3
   },
   "file_extension": ".py",
   "mimetype": "text/x-python",
   "name": "python",
   "nbconvert_exporter": "python",
   "pygments_lexer": "ipython3",
   "version": "3.7.9"
  }
 },
 "nbformat": 4,
 "nbformat_minor": 4
}
