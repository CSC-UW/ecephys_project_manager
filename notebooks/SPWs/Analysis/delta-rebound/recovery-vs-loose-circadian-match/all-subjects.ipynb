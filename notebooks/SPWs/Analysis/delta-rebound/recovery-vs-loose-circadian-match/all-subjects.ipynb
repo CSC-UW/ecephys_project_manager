{
 "cells": [
  {
   "cell_type": "code",
   "execution_count": 6,
   "metadata": {
    "execution": {
     "iopub.execute_input": "2021-06-12T18:00:24.058283Z",
     "iopub.status.busy": "2021-06-12T18:00:24.057794Z",
     "iopub.status.idle": "2021-06-12T18:00:24.076575Z",
     "shell.execute_reply": "2021-06-12T18:00:24.075789Z",
     "shell.execute_reply.started": "2021-06-12T18:00:24.058225Z"
    }
   },
   "outputs": [
    {
     "name": "stdout",
     "output_type": "stream",
     "text": [
      "The autoreload extension is already loaded. To reload it, use:\n",
      "  %reload_ext autoreload\n"
     ]
    }
   ],
   "source": [
    "%load_ext autoreload\n",
    "%autoreload 2"
   ]
  },
  {
   "cell_type": "code",
   "execution_count": 7,
   "metadata": {
    "execution": {
     "iopub.execute_input": "2021-06-12T18:00:24.292789Z",
     "iopub.status.busy": "2021-06-12T18:00:24.292648Z",
     "iopub.status.idle": "2021-06-12T18:00:24.304355Z",
     "shell.execute_reply": "2021-06-12T18:00:24.303528Z",
     "shell.execute_reply.started": "2021-06-12T18:00:24.292758Z"
    }
   },
   "outputs": [],
   "source": [
    "import pandas as pd\n",
    "from scipy import stats"
   ]
  },
  {
   "cell_type": "code",
   "execution_count": 8,
   "metadata": {
    "execution": {
     "iopub.execute_input": "2021-06-12T18:00:24.526607Z",
     "iopub.status.busy": "2021-06-12T18:00:24.526180Z",
     "iopub.status.idle": "2021-06-12T18:00:24.547065Z",
     "shell.execute_reply": "2021-06-12T18:00:24.546446Z",
     "shell.execute_reply.started": "2021-06-12T18:00:24.526553Z"
    }
   },
   "outputs": [
    {
     "name": "stdout",
     "output_type": "stream",
     "text": [
      "| subject    |   rebound |\n",
      "|:-----------|----------:|\n",
      "| Segundo    |   174.701 |\n",
      "| Valentino  |   103.316 |\n",
      "| Doppio     |   157.888 |\n",
      "| Alessandro |   108.193 |\n",
      "| Allan      |   188.973 |\n"
     ]
    }
   ],
   "source": [
    "cx = pd.DataFrame({'subject': ['Segundo', 'Valentino', 'Doppio', 'Alessandro', 'Allan'], 'rebound': [174.701, 103.316, 157.888, 108.193, 188.973]}).set_index('subject')\n",
    "print(cx.to_markdown())"
   ]
  },
  {
   "cell_type": "code",
   "execution_count": 9,
   "metadata": {
    "execution": {
     "iopub.execute_input": "2021-06-12T18:00:24.846577Z",
     "iopub.status.busy": "2021-06-12T18:00:24.846151Z",
     "iopub.status.idle": "2021-06-12T18:00:24.863423Z",
     "shell.execute_reply": "2021-06-12T18:00:24.862876Z",
     "shell.execute_reply.started": "2021-06-12T18:00:24.846522Z"
    }
   },
   "outputs": [
    {
     "data": {
      "text/plain": [
       "Ttest_1sampResult(statistic=array([8.42196138]), pvalue=array([0.00108829]))"
      ]
     },
     "execution_count": 9,
     "metadata": {},
     "output_type": "execute_result"
    }
   ],
   "source": [
    "stats.ttest_1samp(cx, 0)"
   ]
  },
  {
   "cell_type": "code",
   "execution_count": 10,
   "metadata": {
    "execution": {
     "iopub.execute_input": "2021-06-12T18:00:25.253799Z",
     "iopub.status.busy": "2021-06-12T18:00:25.253556Z",
     "iopub.status.idle": "2021-06-12T18:00:25.270170Z",
     "shell.execute_reply": "2021-06-12T18:00:25.269626Z",
     "shell.execute_reply.started": "2021-06-12T18:00:25.253768Z"
    }
   },
   "outputs": [
    {
     "name": "stdout",
     "output_type": "stream",
     "text": [
      "| subject    |   rebound |\n",
      "|:-----------|----------:|\n",
      "| Segundo    |   42.2262 |\n",
      "| Valentino  |   36.078  |\n",
      "| Doppio     |   43.596  |\n",
      "| Alessandro |   41.0528 |\n",
      "| Allan      |   33.8323 |\n"
     ]
    }
   ],
   "source": [
    "hc = pd.DataFrame({'subject': ['Segundo', 'Valentino', 'Doppio', 'Alessandro', 'Allan'], 'rebound': [42.2262, 36.078, 43.596, 41.0528, 33.8323]}).set_index('subject')\n",
    "print(hc.to_markdown())"
   ]
  },
  {
   "cell_type": "code",
   "execution_count": 11,
   "metadata": {
    "execution": {
     "iopub.execute_input": "2021-06-12T18:00:25.766716Z",
     "iopub.status.busy": "2021-06-12T18:00:25.766263Z",
     "iopub.status.idle": "2021-06-12T18:00:25.784145Z",
     "shell.execute_reply": "2021-06-12T18:00:25.783562Z",
     "shell.execute_reply.started": "2021-06-12T18:00:25.766661Z"
    }
   },
   "outputs": [
    {
     "data": {
      "text/plain": [
       "Ttest_1sampResult(statistic=array([20.98464017]), pvalue=array([3.04788573e-05]))"
      ]
     },
     "execution_count": 11,
     "metadata": {},
     "output_type": "execute_result"
    }
   ],
   "source": [
    "stats.ttest_1samp(hc, 0)"
   ]
  },
  {
   "cell_type": "code",
   "execution_count": null,
   "metadata": {},
   "outputs": [],
   "source": []
  }
 ],
 "metadata": {
  "kernelspec": {
   "display_name": "Python 3",
   "language": "python",
   "name": "python3"
  },
  "language_info": {
   "codemirror_mode": {
    "name": "ipython",
    "version": 3
   },
   "file_extension": ".py",
   "mimetype": "text/x-python",
   "name": "python",
   "nbconvert_exporter": "python",
   "pygments_lexer": "ipython3",
   "version": "3.7.9"
  }
 },
 "nbformat": 4,
 "nbformat_minor": 4
}
