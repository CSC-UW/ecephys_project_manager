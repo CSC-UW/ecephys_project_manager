{
 "cells": [
  {
   "cell_type": "code",
   "execution_count": 1,
   "metadata": {
    "execution": {
     "iopub.execute_input": "2021-06-11T23:47:56.301072Z",
     "iopub.status.busy": "2021-06-11T23:47:56.300505Z",
     "iopub.status.idle": "2021-06-11T23:47:56.317802Z",
     "shell.execute_reply": "2021-06-11T23:47:56.317062Z",
     "shell.execute_reply.started": "2021-06-11T23:47:56.301000Z"
    }
   },
   "outputs": [],
   "source": [
    "%load_ext autoreload\n",
    "%autoreload 2"
   ]
  },
  {
   "cell_type": "code",
   "execution_count": 2,
   "metadata": {
    "execution": {
     "iopub.execute_input": "2021-06-11T23:47:56.318883Z",
     "iopub.status.busy": "2021-06-11T23:47:56.318750Z",
     "iopub.status.idle": "2021-06-11T23:47:56.712357Z",
     "shell.execute_reply": "2021-06-11T23:47:56.711646Z",
     "shell.execute_reply.started": "2021-06-11T23:47:56.318865Z"
    }
   },
   "outputs": [],
   "source": [
    "# %matplotlib widget\n",
    "import matplotlib.pyplot as plt\n",
    "import seaborn as sns"
   ]
  },
  {
   "cell_type": "code",
   "execution_count": 3,
   "metadata": {
    "execution": {
     "iopub.execute_input": "2021-06-11T23:47:56.713544Z",
     "iopub.status.busy": "2021-06-11T23:47:56.713397Z",
     "iopub.status.idle": "2021-06-11T23:47:56.948028Z",
     "shell.execute_reply": "2021-06-11T23:47:56.947351Z",
     "shell.execute_reply.started": "2021-06-11T23:47:56.713525Z"
    }
   },
   "outputs": [],
   "source": [
    "import xarray as xr\n",
    "import numpy as np\n",
    "import pandas as pd"
   ]
  },
  {
   "cell_type": "code",
   "execution_count": 4,
   "metadata": {
    "execution": {
     "iopub.execute_input": "2021-06-11T23:47:56.949136Z",
     "iopub.status.busy": "2021-06-11T23:47:56.948985Z",
     "iopub.status.idle": "2021-06-11T23:47:56.962191Z",
     "shell.execute_reply": "2021-06-11T23:47:56.961615Z",
     "shell.execute_reply.started": "2021-06-11T23:47:56.949117Z"
    }
   },
   "outputs": [
    {
     "data": {
      "text/plain": [
       "<xarray.core.options.set_options at 0x7ff308dbdb90>"
      ]
     },
     "execution_count": 4,
     "metadata": {},
     "output_type": "execute_result"
    }
   ],
   "source": [
    "xr.set_options(keep_attrs=True)"
   ]
  },
  {
   "cell_type": "code",
   "execution_count": 5,
   "metadata": {
    "execution": {
     "iopub.execute_input": "2021-06-11T23:47:56.962970Z",
     "iopub.status.busy": "2021-06-11T23:47:56.962840Z",
     "iopub.status.idle": "2021-06-11T23:47:56.976417Z",
     "shell.execute_reply": "2021-06-11T23:47:56.975827Z",
     "shell.execute_reply.started": "2021-06-11T23:47:56.962953Z"
    }
   },
   "outputs": [],
   "source": [
    "import ecephys_analyses as ea \n",
    "from ecephys import utils\n",
    "from ecephys.signal.xarray_utils import filter_dataset_by_hypnogram"
   ]
  },
  {
   "cell_type": "code",
   "execution_count": 6,
   "metadata": {
    "execution": {
     "iopub.execute_input": "2021-06-11T23:47:56.977144Z",
     "iopub.status.busy": "2021-06-11T23:47:56.977017Z",
     "iopub.status.idle": "2021-06-11T23:47:56.989075Z",
     "shell.execute_reply": "2021-06-11T23:47:56.988389Z",
     "shell.execute_reply.started": "2021-06-11T23:47:56.977128Z"
    }
   },
   "outputs": [],
   "source": [
    "subject = \"Alessandro\"\n",
    "experiment = \"sleep-homeostasis\"\n",
    "norm_condition = \"light-period-circadian-match\"\n",
    "bsl_condition = \"recovery-sleep-circadian-match\"\n",
    "rec_condition = \"recovery-sleep\"\n",
    "states = [\"N1\", \"N2\"]\n",
    "duration = '02:00:00'\n",
    "light_period_start = '09:00:00'\n",
    "light_period_end = '21:00:00'\n",
    "f_range = (0.5, 4)"
   ]
  },
  {
   "cell_type": "code",
   "execution_count": 7,
   "metadata": {
    "execution": {
     "iopub.execute_input": "2021-06-11T23:47:56.989802Z",
     "iopub.status.busy": "2021-06-11T23:47:56.989683Z",
     "iopub.status.idle": "2021-06-11T23:48:02.444028Z",
     "shell.execute_reply": "2021-06-11T23:48:02.443352Z",
     "shell.execute_reply.started": "2021-06-11T23:47:56.989787Z"
    }
   },
   "outputs": [],
   "source": [
    "norm_hyp = ea.load_hypnogram(subject, experiment, norm_condition)\n",
    "norm_hyp = norm_hyp.keep_states(states).keep_between(light_period_start, light_period_end)\n",
    "\n",
    "norm_pow = ea.load_power(subject, experiment, norm_condition, \"spg.nc\").sel(frequency=slice(*f_range)).sum(dim=\"frequency\")\n",
    "norm_pow = filter_dataset_by_hypnogram(norm_pow, norm_hyp).swap_dims({'time': 'datetime'}).drop_vars(['time', 'timedelta'])"
   ]
  },
  {
   "cell_type": "code",
   "execution_count": 8,
   "metadata": {
    "execution": {
     "iopub.execute_input": "2021-06-11T23:48:02.444886Z",
     "iopub.status.busy": "2021-06-11T23:48:02.444746Z",
     "iopub.status.idle": "2021-06-11T23:48:04.187438Z",
     "shell.execute_reply": "2021-06-11T23:48:04.186754Z",
     "shell.execute_reply.started": "2021-06-11T23:48:02.444868Z"
    }
   },
   "outputs": [],
   "source": [
    "rec_hyp = ea.load_hypnogram(subject, experiment, rec_condition)\n",
    "rec_hyp = rec_hyp.keep_states(states).keep_first(duration)\n",
    "\n",
    "rec_pow = ea.load_power(subject, experiment, rec_condition, \"spg.nc\").sel(frequency=slice(*f_range)).sum(dim='frequency')\n",
    "rec_pow = filter_dataset_by_hypnogram(rec_pow, rec_hyp).swap_dims({'time': 'datetime'}).drop_vars(['time', 'timedelta'])\n",
    "rec_pow = rec_pow / norm_pow.mean(dim=\"datetime\") * 100"
   ]
  },
  {
   "cell_type": "code",
   "execution_count": 9,
   "metadata": {
    "execution": {
     "iopub.execute_input": "2021-06-11T23:48:04.189044Z",
     "iopub.status.busy": "2021-06-11T23:48:04.188901Z",
     "iopub.status.idle": "2021-06-11T23:48:05.909963Z",
     "shell.execute_reply": "2021-06-11T23:48:05.909275Z",
     "shell.execute_reply.started": "2021-06-11T23:48:04.189026Z"
    }
   },
   "outputs": [],
   "source": [
    "bsl_hyp = ea.load_hypnogram(subject, experiment, bsl_condition)\n",
    "bsl_hyp = bsl_hyp.keep_states(states).keep_between(rec_hyp.start_time.min().strftime(\"%H:%M:%S\"), light_period_end).keep_first(duration)\n",
    "\n",
    "bsl_pow = ea.load_power(subject, experiment, bsl_condition, \"spg.nc\").sel(frequency=slice(*f_range)).sum(dim='frequency')\n",
    "bsl_pow = filter_dataset_by_hypnogram(bsl_pow, bsl_hyp).swap_dims({'time': 'datetime'}).drop_vars(['time', 'timedelta'])\n",
    "bsl_pow = bsl_pow / norm_pow.mean(dim=\"datetime\") * 100"
   ]
  },
  {
   "cell_type": "code",
   "execution_count": 10,
   "metadata": {
    "execution": {
     "iopub.execute_input": "2021-06-11T23:48:05.911103Z",
     "iopub.status.busy": "2021-06-11T23:48:05.910965Z",
     "iopub.status.idle": "2021-06-11T23:48:05.923870Z",
     "shell.execute_reply": "2021-06-11T23:48:05.923311Z",
     "shell.execute_reply.started": "2021-06-11T23:48:05.911085Z"
    }
   },
   "outputs": [],
   "source": [
    "def match_lengths(dataframes):\n",
    "    length = min(list(map(len, dataframes)))\n",
    "    return (df.iloc[:length] for df in dataframes)"
   ]
  },
  {
   "cell_type": "code",
   "execution_count": 11,
   "metadata": {
    "execution": {
     "iopub.execute_input": "2021-06-11T23:48:05.924526Z",
     "iopub.status.busy": "2021-06-11T23:48:05.924403Z",
     "iopub.status.idle": "2021-06-11T23:48:05.944437Z",
     "shell.execute_reply": "2021-06-11T23:48:05.943935Z",
     "shell.execute_reply.started": "2021-06-11T23:48:05.924510Z"
    }
   },
   "outputs": [],
   "source": [
    "bsl_df = bsl_pow.to_dataframe().reset_index(drop=True).rename_axis(index='pair').assign(condition='baseline').set_index('condition', append=True)\n",
    "rec_df = rec_pow.to_dataframe().reset_index(drop=True).rename_axis(index='pair').assign(condition='recovery').set_index('condition', append=True)\n",
    "bsl_df, rec_df = match_lengths((bsl_df, rec_df))\n",
    "df = pd.concat([bsl_df, rec_df]).sort_index()\n",
    "df.columns.name = 'region'"
   ]
  },
  {
   "cell_type": "code",
   "execution_count": 12,
   "metadata": {
    "execution": {
     "iopub.execute_input": "2021-06-11T23:48:05.945099Z",
     "iopub.status.busy": "2021-06-11T23:48:05.944979Z",
     "iopub.status.idle": "2021-06-11T23:48:05.959354Z",
     "shell.execute_reply": "2021-06-11T23:48:05.958995Z",
     "shell.execute_reply.started": "2021-06-11T23:48:05.945084Z"
    }
   },
   "outputs": [],
   "source": [
    "df_plot = df.stack().to_frame(name='power')\n",
    "df_plot['log_power'] = np.log(df_plot.power)\n",
    "df_plot['sqrt_power'] = np.sqrt(df_plot.power)"
   ]
  },
  {
   "cell_type": "code",
   "execution_count": 13,
   "metadata": {
    "execution": {
     "iopub.execute_input": "2021-06-11T23:48:05.960033Z",
     "iopub.status.busy": "2021-06-11T23:48:05.959909Z",
     "iopub.status.idle": "2021-06-11T23:48:06.919390Z",
     "shell.execute_reply": "2021-06-11T23:48:06.918842Z",
     "shell.execute_reply.started": "2021-06-11T23:48:05.960017Z"
    }
   },
   "outputs": [
    {
     "data": {
      "image/png": "[encoded data removed]",
      "text/plain": [
       "<Figure size 799.5x360 with 2 Axes>"
      ]
     },
     "metadata": {
      "needs_background": "light"
     },
     "output_type": "display_data"
    }
   ],
   "source": [
    "g = sns.displot(data=df_plot, x='power', hue='condition', col='region', kind='hist')\n",
    "g.set(xlabel='Delta (0.5 - 4Hz) PSD (uV^2/Hz)')\n",
    "g.tight_layout()"
   ]
  },
  {
   "cell_type": "code",
   "execution_count": 14,
   "metadata": {
    "execution": {
     "iopub.execute_input": "2021-06-11T23:48:06.920310Z",
     "iopub.status.busy": "2021-06-11T23:48:06.920167Z",
     "iopub.status.idle": "2021-06-11T23:48:07.720829Z",
     "shell.execute_reply": "2021-06-11T23:48:07.720239Z",
     "shell.execute_reply.started": "2021-06-11T23:48:06.920291Z"
    }
   },
   "outputs": [
    {
     "data": {
      "image/png": "[encoded data removed]",
      "text/plain": [
       "<Figure size 799.5x360 with 2 Axes>"
      ]
     },
     "metadata": {
      "needs_background": "light"
     },
     "output_type": "display_data"
    }
   ],
   "source": [
    "g = sns.displot(data=df_plot, x='log_power', hue='condition', col='region', kind='hist')\n",
    "g.set(xlabel='Delta (0.5 - 4Hz) PSD (uV^2/Hz)')\n",
    "g.tight_layout()"
   ]
  },
  {
   "cell_type": "code",
   "execution_count": 15,
   "metadata": {
    "execution": {
     "iopub.execute_input": "2021-06-11T23:48:07.721689Z",
     "iopub.status.busy": "2021-06-11T23:48:07.721550Z",
     "iopub.status.idle": "2021-06-11T23:48:08.411551Z",
     "shell.execute_reply": "2021-06-11T23:48:08.410975Z",
     "shell.execute_reply.started": "2021-06-11T23:48:07.721671Z"
    }
   },
   "outputs": [
    {
     "data": {
      "image/png": "[encoded data removed]",
      "text/plain": [
       "<Figure size 799.5x360 with 2 Axes>"
      ]
     },
     "metadata": {
      "needs_background": "light"
     },
     "output_type": "display_data"
    }
   ],
   "source": [
    "g = sns.displot(data=df_plot, x='sqrt_power', hue='condition', col='region', kind='hist')\n",
    "g.set(xlabel='Delta (0.5 - 4Hz) PSD (uV^2/Hz)')\n",
    "g.tight_layout()"
   ]
  },
  {
   "cell_type": "code",
   "execution_count": 16,
   "metadata": {
    "execution": {
     "iopub.execute_input": "2021-06-11T23:48:08.412398Z",
     "iopub.status.busy": "2021-06-11T23:48:08.412263Z",
     "iopub.status.idle": "2021-06-11T23:48:08.425351Z",
     "shell.execute_reply": "2021-06-11T23:48:08.424744Z",
     "shell.execute_reply.started": "2021-06-11T23:48:08.412381Z"
    }
   },
   "outputs": [],
   "source": [
    "def get_rebound(df):\n",
    "    means = df.groupby('condition').mean()\n",
    "    return means.xs('recovery') - means.xs('baseline')"
   ]
  },
  {
   "cell_type": "code",
   "execution_count": 17,
   "metadata": {
    "execution": {
     "iopub.execute_input": "2021-06-11T23:48:08.426261Z",
     "iopub.status.busy": "2021-06-11T23:48:08.426136Z",
     "iopub.status.idle": "2021-06-11T23:48:08.440051Z",
     "shell.execute_reply": "2021-06-11T23:48:08.439477Z",
     "shell.execute_reply.started": "2021-06-11T23:48:08.426244Z"
    }
   },
   "outputs": [],
   "source": [
    "def shuffle(df, key): \n",
    "    _df = df.reset_index()\n",
    "    labels = _df[key].values.reshape(-1, 2)\n",
    "    rng = np.random.default_rng()\n",
    "    rng.permuted(labels, axis=1, out=labels)\n",
    "    _df.set_index(df.index.names, inplace=True)\n",
    "    return _df"
   ]
  },
  {
   "cell_type": "code",
   "execution_count": 18,
   "metadata": {
    "execution": {
     "iopub.execute_input": "2021-06-11T23:48:08.440733Z",
     "iopub.status.busy": "2021-06-11T23:48:08.440608Z",
     "iopub.status.idle": "2021-06-11T23:48:37.957306Z",
     "shell.execute_reply": "2021-06-11T23:48:37.956403Z",
     "shell.execute_reply.started": "2021-06-11T23:48:08.440717Z"
    }
   },
   "outputs": [],
   "source": [
    "observed = get_rebound(df)\n",
    "\n",
    "n_permutations = 10000\n",
    "permutations = list()\n",
    "for i in range(n_permutations):\n",
    "    permuted = shuffle(df, 'condition')\n",
    "    permutations.append(get_rebound(permuted))"
   ]
  },
  {
   "cell_type": "code",
   "execution_count": 19,
   "metadata": {
    "execution": {
     "iopub.execute_input": "2021-06-11T23:48:37.958380Z",
     "iopub.status.busy": "2021-06-11T23:48:37.958225Z",
     "iopub.status.idle": "2021-06-11T23:48:38.581608Z",
     "shell.execute_reply": "2021-06-11T23:48:38.580988Z",
     "shell.execute_reply.started": "2021-06-11T23:48:37.958358Z"
    }
   },
   "outputs": [],
   "source": [
    "perms = pd.concat(permutations, axis=1)\n",
    "perms.columns.name = 'permtuation'\n",
    "perms = perms.stack().to_frame(name='rebound').reorder_levels([1, 0]).sort_index()"
   ]
  },
  {
   "cell_type": "code",
   "execution_count": 20,
   "metadata": {
    "execution": {
     "iopub.execute_input": "2021-06-11T23:48:38.582479Z",
     "iopub.status.busy": "2021-06-11T23:48:38.582340Z",
     "iopub.status.idle": "2021-06-11T23:48:39.083973Z",
     "shell.execute_reply": "2021-06-11T23:48:39.083360Z",
     "shell.execute_reply.started": "2021-06-11T23:48:38.582462Z"
    }
   },
   "outputs": [
    {
     "data": {
      "image/png": "[encoded data removed]",
      "text/plain": [
       "<Figure size 720x360 with 2 Axes>"
      ]
     },
     "metadata": {
      "needs_background": "light"
     },
     "output_type": "display_data"
    }
   ],
   "source": [
    "g = sns.displot(data=perms, x='rebound', col='region', kind='hist')\n",
    "g.set(xlabel='Rebound (SD - BL)')\n",
    "g.tight_layout()"
   ]
  },
  {
   "cell_type": "code",
   "execution_count": 21,
   "metadata": {
    "execution": {
     "iopub.execute_input": "2021-06-11T23:48:39.084811Z",
     "iopub.status.busy": "2021-06-11T23:48:39.084676Z",
     "iopub.status.idle": "2021-06-11T23:48:39.099551Z",
     "shell.execute_reply": "2021-06-11T23:48:39.098953Z",
     "shell.execute_reply.started": "2021-06-11T23:48:39.084793Z"
    }
   },
   "outputs": [],
   "source": [
    "cx = perms.xs('mpta_wm_ref', level='region')\n",
    "hc = perms.xs('sr_wm_ref', level='region')"
   ]
  },
  {
   "cell_type": "code",
   "execution_count": 22,
   "metadata": {
    "execution": {
     "iopub.execute_input": "2021-06-11T23:48:39.100348Z",
     "iopub.status.busy": "2021-06-11T23:48:39.100220Z",
     "iopub.status.idle": "2021-06-11T23:48:39.112030Z",
     "shell.execute_reply": "2021-06-11T23:48:39.111371Z",
     "shell.execute_reply.started": "2021-06-11T23:48:39.100331Z"
    }
   },
   "outputs": [],
   "source": [
    "pcx = np.sum(cx >= observed.xs('mpta_wm_ref'))"
   ]
  },
  {
   "cell_type": "code",
   "execution_count": 23,
   "metadata": {
    "execution": {
     "iopub.execute_input": "2021-06-11T23:48:39.112771Z",
     "iopub.status.busy": "2021-06-11T23:48:39.112647Z",
     "iopub.status.idle": "2021-06-11T23:48:39.124558Z",
     "shell.execute_reply": "2021-06-11T23:48:39.123971Z",
     "shell.execute_reply.started": "2021-06-11T23:48:39.112755Z"
    }
   },
   "outputs": [],
   "source": [
    "phc = np.sum(hc >= observed.xs('sr_wm_ref'))"
   ]
  },
  {
   "cell_type": "code",
   "execution_count": 24,
   "metadata": {
    "execution": {
     "iopub.execute_input": "2021-06-11T23:48:39.125246Z",
     "iopub.status.busy": "2021-06-11T23:48:39.125122Z",
     "iopub.status.idle": "2021-06-11T23:48:39.141283Z",
     "shell.execute_reply": "2021-06-11T23:48:39.140923Z",
     "shell.execute_reply.started": "2021-06-11T23:48:39.125230Z"
    }
   },
   "outputs": [
    {
     "name": "stdout",
     "output_type": "stream",
     "text": [
      "Subject: Alessandro\n",
      "Observed rebound (BL - SD):\n",
      "\n",
      "| region      |        0 |\n",
      "|:------------|---------:|\n",
      "| mpta_wm_ref | 108.193  |\n",
      "| sr_wm_ref   |  41.0528 |\n",
      "\n",
      "\n",
      "Shuffled >= observed:\n",
      "Cortex: 1 / 10000\n",
      "Hippocampus: 1 / 10000\n"
     ]
    }
   ],
   "source": [
    "print(f\"Subject: {subject}\")\n",
    "print('Observed rebound (BL - SD):\\n')\n",
    "print(observed.to_markdown())\n",
    "print('\\n')\n",
    "print('Shuffled >= observed:')\n",
    "print(f\"Cortex: {1 + pcx.squeeze()} / {n_permutations}\")\n",
    "print(f\"Hippocampus: {1 + phc.squeeze()} / {n_permutations}\")"
   ]
  },
  {
   "cell_type": "code",
   "execution_count": null,
   "metadata": {},
   "outputs": [],
   "source": []
  }
 ],
 "metadata": {
  "kernelspec": {
   "display_name": "Python 3",
   "language": "python",
   "name": "python3"
  },
  "language_info": {
   "codemirror_mode": {
    "name": "ipython",
    "version": 3
   },
   "file_extension": ".py",
   "mimetype": "text/x-python",
   "name": "python",
   "nbconvert_exporter": "python",
   "pygments_lexer": "ipython3",
   "version": "3.7.9"
  }
 },
 "nbformat": 4,
 "nbformat_minor": 4
}
