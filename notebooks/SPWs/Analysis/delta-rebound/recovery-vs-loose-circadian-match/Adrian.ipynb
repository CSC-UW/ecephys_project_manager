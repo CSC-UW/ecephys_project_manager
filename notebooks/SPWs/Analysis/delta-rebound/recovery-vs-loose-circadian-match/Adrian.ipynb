{
 "cells": [
  {
   "cell_type": "code",
   "execution_count": 1,
   "metadata": {
    "execution": {
     "iopub.execute_input": "2021-06-11T23:48:05.128572Z",
     "iopub.status.busy": "2021-06-11T23:48:05.128275Z",
     "iopub.status.idle": "2021-06-11T23:48:05.145488Z",
     "shell.execute_reply": "2021-06-11T23:48:05.144745Z",
     "shell.execute_reply.started": "2021-06-11T23:48:05.128537Z"
    }
   },
   "outputs": [],
   "source": [
    "%load_ext autoreload\n",
    "%autoreload 2"
   ]
  },
  {
   "cell_type": "code",
   "execution_count": 2,
   "metadata": {
    "execution": {
     "iopub.execute_input": "2021-06-11T23:48:05.146460Z",
     "iopub.status.busy": "2021-06-11T23:48:05.146326Z",
     "iopub.status.idle": "2021-06-11T23:48:05.500434Z",
     "shell.execute_reply": "2021-06-11T23:48:05.499733Z",
     "shell.execute_reply.started": "2021-06-11T23:48:05.146444Z"
    }
   },
   "outputs": [],
   "source": [
    "# %matplotlib widget\n",
    "import matplotlib.pyplot as plt\n",
    "import seaborn as sns"
   ]
  },
  {
   "cell_type": "code",
   "execution_count": 3,
   "metadata": {
    "execution": {
     "iopub.execute_input": "2021-06-11T23:48:05.501567Z",
     "iopub.status.busy": "2021-06-11T23:48:05.501422Z",
     "iopub.status.idle": "2021-06-11T23:48:05.738102Z",
     "shell.execute_reply": "2021-06-11T23:48:05.737394Z",
     "shell.execute_reply.started": "2021-06-11T23:48:05.501549Z"
    }
   },
   "outputs": [],
   "source": [
    "import xarray as xr\n",
    "import numpy as np\n",
    "import pandas as pd"
   ]
  },
  {
   "cell_type": "code",
   "execution_count": 4,
   "metadata": {
    "execution": {
     "iopub.execute_input": "2021-06-11T23:48:05.739147Z",
     "iopub.status.busy": "2021-06-11T23:48:05.739006Z",
     "iopub.status.idle": "2021-06-11T23:48:05.752152Z",
     "shell.execute_reply": "2021-06-11T23:48:05.751659Z",
     "shell.execute_reply.started": "2021-06-11T23:48:05.739130Z"
    }
   },
   "outputs": [
    {
     "data": {
      "text/plain": [
       "<xarray.core.options.set_options at 0x7f5abddb6b90>"
      ]
     },
     "execution_count": 4,
     "metadata": {},
     "output_type": "execute_result"
    }
   ],
   "source": [
    "xr.set_options(keep_attrs=True)"
   ]
  },
  {
   "cell_type": "code",
   "execution_count": 5,
   "metadata": {
    "execution": {
     "iopub.execute_input": "2021-06-11T23:48:05.752867Z",
     "iopub.status.busy": "2021-06-11T23:48:05.752744Z",
     "iopub.status.idle": "2021-06-11T23:48:05.767040Z",
     "shell.execute_reply": "2021-06-11T23:48:05.766717Z",
     "shell.execute_reply.started": "2021-06-11T23:48:05.752852Z"
    }
   },
   "outputs": [],
   "source": [
    "import ecephys_analyses as ea \n",
    "from ecephys import utils\n",
    "from ecephys.signal.xarray_utils import filter_dataset_by_hypnogram"
   ]
  },
  {
   "cell_type": "code",
   "execution_count": 6,
   "metadata": {
    "execution": {
     "iopub.execute_input": "2021-06-11T23:48:05.767678Z",
     "iopub.status.busy": "2021-06-11T23:48:05.767556Z",
     "iopub.status.idle": "2021-06-11T23:48:05.778092Z",
     "shell.execute_reply": "2021-06-11T23:48:05.777693Z",
     "shell.execute_reply.started": "2021-06-11T23:48:05.767662Z"
    }
   },
   "outputs": [],
   "source": [
    "subject = \"Allan\"\n",
    "experiment = \"novel_objects_deprivation\"\n",
    "norm_condition = \"light-period-circadian-match\"\n",
    "bsl_condition = \"recovery-sleep-circadian-match\"\n",
    "rec_condition = \"recovery-sleep\"\n",
    "states = [\"N1\", \"N2\"]\n",
    "duration = '02:00:00'\n",
    "light_period_start = '09:00:00'\n",
    "light_period_end = '21:00:00'\n",
    "f_range = (0.5, 4)"
   ]
  },
  {
   "cell_type": "code",
   "execution_count": 7,
   "metadata": {
    "execution": {
     "iopub.execute_input": "2021-06-11T23:48:05.778708Z",
     "iopub.status.busy": "2021-06-11T23:48:05.778591Z",
     "iopub.status.idle": "2021-06-11T23:48:09.501195Z",
     "shell.execute_reply": "2021-06-11T23:48:09.500525Z",
     "shell.execute_reply.started": "2021-06-11T23:48:05.778693Z"
    }
   },
   "outputs": [],
   "source": [
    "norm_hyp = ea.load_hypnogram(subject, experiment, norm_condition)\n",
    "norm_hyp = norm_hyp.keep_states(states).keep_between(light_period_start, light_period_end)\n",
    "\n",
    "norm_pow = ea.load_power(subject, experiment, norm_condition, \"spg.nc\").sel(frequency=slice(*f_range)).sum(dim=\"frequency\")\n",
    "norm_pow = filter_dataset_by_hypnogram(norm_pow, norm_hyp).swap_dims({'time': 'datetime'}).drop_vars(['time', 'timedelta'])"
   ]
  },
  {
   "cell_type": "code",
   "execution_count": 8,
   "metadata": {
    "execution": {
     "iopub.execute_input": "2021-06-11T23:48:09.502784Z",
     "iopub.status.busy": "2021-06-11T23:48:09.502643Z",
     "iopub.status.idle": "2021-06-11T23:48:11.122621Z",
     "shell.execute_reply": "2021-06-11T23:48:11.121928Z",
     "shell.execute_reply.started": "2021-06-11T23:48:09.502766Z"
    }
   },
   "outputs": [],
   "source": [
    "rec_hyp = ea.load_hypnogram(subject, experiment, rec_condition)\n",
    "rec_hyp = rec_hyp.keep_states(states).keep_first(duration)\n",
    "\n",
    "rec_pow = ea.load_power(subject, experiment, rec_condition, \"spg.nc\").sel(frequency=slice(*f_range)).sum(dim='frequency')\n",
    "rec_pow = filter_dataset_by_hypnogram(rec_pow, rec_hyp).swap_dims({'time': 'datetime'}).drop_vars(['time', 'timedelta'])\n",
    "rec_pow = rec_pow / norm_pow.mean(dim=\"datetime\") * 100"
   ]
  },
  {
   "cell_type": "code",
   "execution_count": 9,
   "metadata": {
    "execution": {
     "iopub.execute_input": "2021-06-11T23:48:11.123835Z",
     "iopub.status.busy": "2021-06-11T23:48:11.123695Z",
     "iopub.status.idle": "2021-06-11T23:48:12.945805Z",
     "shell.execute_reply": "2021-06-11T23:48:12.945086Z",
     "shell.execute_reply.started": "2021-06-11T23:48:11.123818Z"
    }
   },
   "outputs": [],
   "source": [
    "bsl_hyp = ea.load_hypnogram(subject, experiment, bsl_condition)\n",
    "bsl_hyp = bsl_hyp.keep_states(states).keep_between(rec_hyp.start_time.min().strftime(\"%H:%M:%S\"), light_period_end).keep_first(duration)\n",
    "\n",
    "bsl_pow = ea.load_power(subject, experiment, bsl_condition, \"spg.nc\").sel(frequency=slice(*f_range)).sum(dim='frequency')\n",
    "bsl_pow = filter_dataset_by_hypnogram(bsl_pow, bsl_hyp).swap_dims({'time': 'datetime'}).drop_vars(['time', 'timedelta'])\n",
    "bsl_pow = bsl_pow / norm_pow.mean(dim=\"datetime\") * 100"
   ]
  },
  {
   "cell_type": "code",
   "execution_count": 10,
   "metadata": {
    "execution": {
     "iopub.execute_input": "2021-06-11T23:48:12.946731Z",
     "iopub.status.busy": "2021-06-11T23:48:12.946589Z",
     "iopub.status.idle": "2021-06-11T23:48:12.959787Z",
     "shell.execute_reply": "2021-06-11T23:48:12.959089Z",
     "shell.execute_reply.started": "2021-06-11T23:48:12.946713Z"
    }
   },
   "outputs": [],
   "source": [
    "def match_lengths(dataframes):\n",
    "    length = min(list(map(len, dataframes)))\n",
    "    return (df.iloc[:length] for df in dataframes)"
   ]
  },
  {
   "cell_type": "code",
   "execution_count": 11,
   "metadata": {
    "execution": {
     "iopub.execute_input": "2021-06-11T23:48:12.960518Z",
     "iopub.status.busy": "2021-06-11T23:48:12.960393Z",
     "iopub.status.idle": "2021-06-11T23:48:12.979889Z",
     "shell.execute_reply": "2021-06-11T23:48:12.979296Z",
     "shell.execute_reply.started": "2021-06-11T23:48:12.960502Z"
    }
   },
   "outputs": [],
   "source": [
    "bsl_df = bsl_pow.to_dataframe().reset_index(drop=True).rename_axis(index='pair').assign(condition='baseline').set_index('condition', append=True)\n",
    "rec_df = rec_pow.to_dataframe().reset_index(drop=True).rename_axis(index='pair').assign(condition='recovery').set_index('condition', append=True)\n",
    "bsl_df, rec_df = match_lengths((bsl_df, rec_df))\n",
    "df = pd.concat([bsl_df, rec_df]).sort_index()\n",
    "df.columns.name = 'region'"
   ]
  },
  {
   "cell_type": "code",
   "execution_count": 12,
   "metadata": {
    "execution": {
     "iopub.execute_input": "2021-06-11T23:48:12.980591Z",
     "iopub.status.busy": "2021-06-11T23:48:12.980469Z",
     "iopub.status.idle": "2021-06-11T23:48:12.994365Z",
     "shell.execute_reply": "2021-06-11T23:48:12.993938Z",
     "shell.execute_reply.started": "2021-06-11T23:48:12.980576Z"
    }
   },
   "outputs": [],
   "source": [
    "df_plot = df.stack().to_frame(name='power')\n",
    "df_plot['log_power'] = np.log(df_plot.power)\n",
    "df_plot['sqrt_power'] = np.sqrt(df_plot.power)"
   ]
  },
  {
   "cell_type": "code",
   "execution_count": 13,
   "metadata": {
    "execution": {
     "iopub.execute_input": "2021-06-11T23:48:12.995057Z",
     "iopub.status.busy": "2021-06-11T23:48:12.994934Z",
     "iopub.status.idle": "2021-06-11T23:48:13.894920Z",
     "shell.execute_reply": "2021-06-11T23:48:13.894438Z",
     "shell.execute_reply.started": "2021-06-11T23:48:12.995042Z"
    }
   },
   "outputs": [
    {
     "data": {
      "image/png": "[encoded data removed]",
      "text/plain": [
       "<Figure size 799.5x360 with 2 Axes>"
      ]
     },
     "metadata": {
      "needs_background": "light"
     },
     "output_type": "display_data"
    }
   ],
   "source": [
    "g = sns.displot(data=df_plot, x='power', hue='condition', col='region', kind='hist')\n",
    "g.set(xlabel='Delta (0.5 - 4Hz) PSD (uV^2/Hz)')\n",
    "g.tight_layout()"
   ]
  },
  {
   "cell_type": "code",
   "execution_count": 14,
   "metadata": {
    "execution": {
     "iopub.execute_input": "2021-06-11T23:48:13.895834Z",
     "iopub.status.busy": "2021-06-11T23:48:13.895687Z",
     "iopub.status.idle": "2021-06-11T23:48:14.582531Z",
     "shell.execute_reply": "2021-06-11T23:48:14.581901Z",
     "shell.execute_reply.started": "2021-06-11T23:48:13.895815Z"
    }
   },
   "outputs": [
    {
     "data": {
      "image/png": "[encoded data removed]",
      "text/plain": [
       "<Figure size 799.5x360 with 2 Axes>"
      ]
     },
     "metadata": {
      "needs_background": "light"
     },
     "output_type": "display_data"
    }
   ],
   "source": [
    "g = sns.displot(data=df_plot, x='log_power', hue='condition', col='region', kind='hist')\n",
    "g.set(xlabel='Delta (0.5 - 4Hz) PSD (uV^2/Hz)')\n",
    "g.tight_layout()"
   ]
  },
  {
   "cell_type": "code",
   "execution_count": 15,
   "metadata": {
    "execution": {
     "iopub.execute_input": "2021-06-11T23:48:14.583377Z",
     "iopub.status.busy": "2021-06-11T23:48:14.583244Z",
     "iopub.status.idle": "2021-06-11T23:48:15.336008Z",
     "shell.execute_reply": "2021-06-11T23:48:15.335220Z",
     "shell.execute_reply.started": "2021-06-11T23:48:14.583359Z"
    }
   },
   "outputs": [
    {
     "data": {
      "image/png": "[encoded data removed]",
      "text/plain": [
       "<Figure size 799.5x360 with 2 Axes>"
      ]
     },
     "metadata": {
      "needs_background": "light"
     },
     "output_type": "display_data"
    }
   ],
   "source": [
    "g = sns.displot(data=df_plot, x='sqrt_power', hue='condition', col='region', kind='hist')\n",
    "g.set(xlabel='Delta (0.5 - 4Hz) PSD (uV^2/Hz)')\n",
    "g.tight_layout()"
   ]
  },
  {
   "cell_type": "code",
   "execution_count": 16,
   "metadata": {
    "execution": {
     "iopub.execute_input": "2021-06-11T23:48:15.337089Z",
     "iopub.status.busy": "2021-06-11T23:48:15.336929Z",
     "iopub.status.idle": "2021-06-11T23:48:15.351131Z",
     "shell.execute_reply": "2021-06-11T23:48:15.350308Z",
     "shell.execute_reply.started": "2021-06-11T23:48:15.337071Z"
    }
   },
   "outputs": [],
   "source": [
    "def get_rebound(df):\n",
    "    means = df.groupby('condition').mean()\n",
    "    return means.xs('recovery') - means.xs('baseline')"
   ]
  },
  {
   "cell_type": "code",
   "execution_count": 17,
   "metadata": {
    "execution": {
     "iopub.execute_input": "2021-06-11T23:48:15.351998Z",
     "iopub.status.busy": "2021-06-11T23:48:15.351862Z",
     "iopub.status.idle": "2021-06-11T23:48:15.365379Z",
     "shell.execute_reply": "2021-06-11T23:48:15.364526Z",
     "shell.execute_reply.started": "2021-06-11T23:48:15.351981Z"
    }
   },
   "outputs": [],
   "source": [
    "def shuffle(df, key): \n",
    "    _df = df.reset_index()\n",
    "    labels = _df[key].values.reshape(-1, 2)\n",
    "    rng = np.random.default_rng()\n",
    "    rng.permuted(labels, axis=1, out=labels)\n",
    "    _df.set_index(df.index.names, inplace=True)\n",
    "    return _df"
   ]
  },
  {
   "cell_type": "code",
   "execution_count": 18,
   "metadata": {
    "execution": {
     "iopub.execute_input": "2021-06-11T23:48:15.367544Z",
     "iopub.status.busy": "2021-06-11T23:48:15.367099Z",
     "iopub.status.idle": "2021-06-11T23:48:44.685562Z",
     "shell.execute_reply": "2021-06-11T23:48:44.684097Z",
     "shell.execute_reply.started": "2021-06-11T23:48:15.367494Z"
    }
   },
   "outputs": [],
   "source": [
    "observed = get_rebound(df)\n",
    "\n",
    "n_permutations = 10000\n",
    "permutations = list()\n",
    "for i in range(n_permutations):\n",
    "    permuted = shuffle(df, 'condition')\n",
    "    permutations.append(get_rebound(permuted))"
   ]
  },
  {
   "cell_type": "code",
   "execution_count": 19,
   "metadata": {
    "execution": {
     "iopub.execute_input": "2021-06-11T23:48:44.687044Z",
     "iopub.status.busy": "2021-06-11T23:48:44.686875Z",
     "iopub.status.idle": "2021-06-11T23:48:45.335458Z",
     "shell.execute_reply": "2021-06-11T23:48:45.334607Z",
     "shell.execute_reply.started": "2021-06-11T23:48:44.687022Z"
    }
   },
   "outputs": [],
   "source": [
    "perms = pd.concat(permutations, axis=1)\n",
    "perms.columns.name = 'permtuation'\n",
    "perms = perms.stack().to_frame(name='rebound').reorder_levels([1, 0]).sort_index()"
   ]
  },
  {
   "cell_type": "code",
   "execution_count": 20,
   "metadata": {
    "execution": {
     "iopub.execute_input": "2021-06-11T23:48:45.336554Z",
     "iopub.status.busy": "2021-06-11T23:48:45.336401Z",
     "iopub.status.idle": "2021-06-11T23:48:45.922254Z",
     "shell.execute_reply": "2021-06-11T23:48:45.921515Z",
     "shell.execute_reply.started": "2021-06-11T23:48:45.336535Z"
    }
   },
   "outputs": [
    {
     "data": {
      "image/png": "[encoded data removed]",
      "text/plain": [
       "<Figure size 720x360 with 2 Axes>"
      ]
     },
     "metadata": {
      "needs_background": "light"
     },
     "output_type": "display_data"
    }
   ],
   "source": [
    "g = sns.displot(data=perms, x='rebound', col='region', kind='hist')\n",
    "g.set(xlabel='Rebound (SD - BL)')\n",
    "g.tight_layout()"
   ]
  },
  {
   "cell_type": "code",
   "execution_count": 21,
   "metadata": {
    "execution": {
     "iopub.execute_input": "2021-06-11T23:48:45.923285Z",
     "iopub.status.busy": "2021-06-11T23:48:45.923139Z",
     "iopub.status.idle": "2021-06-11T23:48:45.937743Z",
     "shell.execute_reply": "2021-06-11T23:48:45.936885Z",
     "shell.execute_reply.started": "2021-06-11T23:48:45.923267Z"
    }
   },
   "outputs": [],
   "source": [
    "cx = perms.xs('mpta_wm_ref', level='region')\n",
    "hc = perms.xs('sr_wm_ref', level='region')"
   ]
  },
  {
   "cell_type": "code",
   "execution_count": 22,
   "metadata": {
    "execution": {
     "iopub.execute_input": "2021-06-11T23:48:45.938534Z",
     "iopub.status.busy": "2021-06-11T23:48:45.938409Z",
     "iopub.status.idle": "2021-06-11T23:48:45.950718Z",
     "shell.execute_reply": "2021-06-11T23:48:45.949803Z",
     "shell.execute_reply.started": "2021-06-11T23:48:45.938517Z"
    }
   },
   "outputs": [],
   "source": [
    "pcx = np.sum(cx >= observed.xs('mpta_wm_ref'))"
   ]
  },
  {
   "cell_type": "code",
   "execution_count": 23,
   "metadata": {
    "execution": {
     "iopub.execute_input": "2021-06-11T23:48:45.952973Z",
     "iopub.status.busy": "2021-06-11T23:48:45.952843Z",
     "iopub.status.idle": "2021-06-11T23:48:45.963244Z",
     "shell.execute_reply": "2021-06-11T23:48:45.962594Z",
     "shell.execute_reply.started": "2021-06-11T23:48:45.952957Z"
    }
   },
   "outputs": [],
   "source": [
    "phc = np.sum(hc >= observed.xs('sr_wm_ref'))"
   ]
  },
  {
   "cell_type": "code",
   "execution_count": 24,
   "metadata": {
    "execution": {
     "iopub.execute_input": "2021-06-11T23:48:45.964422Z",
     "iopub.status.busy": "2021-06-11T23:48:45.964298Z",
     "iopub.status.idle": "2021-06-11T23:48:45.980914Z",
     "shell.execute_reply": "2021-06-11T23:48:45.980117Z",
     "shell.execute_reply.started": "2021-06-11T23:48:45.964407Z"
    }
   },
   "outputs": [
    {
     "name": "stdout",
     "output_type": "stream",
     "text": [
      "Subject: Allan\n",
      "Observed rebound (BL - SD):\n",
      "\n",
      "| region      |        0 |\n",
      "|:------------|---------:|\n",
      "| mpta_wm_ref | 188.973  |\n",
      "| sr_wm_ref   |  33.8323 |\n",
      "\n",
      "\n",
      "Shuffled >= observed:\n",
      "Cortex: 1 / 10000\n",
      "Hippocampus: 1 / 10000\n"
     ]
    }
   ],
   "source": [
    "print(f\"Subject: {subject}\")\n",
    "print('Observed rebound (BL - SD):\\n')\n",
    "print(observed.to_markdown())\n",
    "print('\\n')\n",
    "print('Shuffled >= observed:')\n",
    "print(f\"Cortex: {1 + pcx.squeeze()} / {n_permutations}\")\n",
    "print(f\"Hippocampus: {1 + phc.squeeze()} / {n_permutations}\")"
   ]
  },
  {
   "cell_type": "code",
   "execution_count": null,
   "metadata": {},
   "outputs": [],
   "source": []
  }
 ],
 "metadata": {
  "kernelspec": {
   "display_name": "Python 3",
   "language": "python",
   "name": "python3"
  },
  "language_info": {
   "codemirror_mode": {
    "name": "ipython",
    "version": 3
   },
   "file_extension": ".py",
   "mimetype": "text/x-python",
   "name": "python",
   "nbconvert_exporter": "python",
   "pygments_lexer": "ipython3",
   "version": "3.7.9"
  }
 },
 "nbformat": 4,
 "nbformat_minor": 4
}
