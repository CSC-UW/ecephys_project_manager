{
 "cells": [
  {
   "cell_type": "code",
   "execution_count": 1,
   "metadata": {
    "execution": {
     "iopub.execute_input": "2021-07-09T18:31:38.008927Z",
     "iopub.status.busy": "2021-07-09T18:31:38.008683Z",
     "iopub.status.idle": "2021-07-09T18:31:38.024321Z",
     "shell.execute_reply": "2021-07-09T18:31:38.023842Z",
     "shell.execute_reply.started": "2021-07-09T18:31:38.008896Z"
    }
   },
   "outputs": [],
   "source": [
    "%load_ext autoreload\n",
    "%autoreload 2"
   ]
  },
  {
   "cell_type": "code",
   "execution_count": 2,
   "metadata": {
    "execution": {
     "iopub.execute_input": "2021-07-09T18:31:38.567075Z",
     "iopub.status.busy": "2021-07-09T18:31:38.566649Z",
     "iopub.status.idle": "2021-07-09T18:31:38.985902Z",
     "shell.execute_reply": "2021-07-09T18:31:38.985196Z",
     "shell.execute_reply.started": "2021-07-09T18:31:38.567020Z"
    }
   },
   "outputs": [],
   "source": [
    "import ecephys_analyses as ea"
   ]
  },
  {
   "cell_type": "code",
   "execution_count": 6,
   "metadata": {
    "execution": {
     "iopub.execute_input": "2021-07-09T18:32:24.077755Z",
     "iopub.status.busy": "2021-07-09T18:32:24.077270Z",
     "iopub.status.idle": "2021-07-09T18:32:24.439230Z",
     "shell.execute_reply": "2021-07-09T18:32:24.438536Z",
     "shell.execute_reply.started": "2021-07-09T18:32:24.077696Z"
    }
   },
   "outputs": [
    {
     "data": {
      "text/html": [
       "<div>\n",
       "<style scoped>\n",
       "    .dataframe tbody tr th:only-of-type {\n",
       "        vertical-align: middle;\n",
       "    }\n",
       "\n",
       "    .dataframe tbody tr th {\n",
       "        vertical-align: top;\n",
       "    }\n",
       "\n",
       "    .dataframe thead th {\n",
       "        text-align: right;\n",
       "    }\n",
       "</style>\n",
       "<table border=\"1\" class=\"dataframe\">\n",
       "  <thead>\n",
       "    <tr style=\"text-align: right;\">\n",
       "      <th></th>\n",
       "      <th>state</th>\n",
       "      <th>start_time</th>\n",
       "      <th>end_time</th>\n",
       "      <th>duration</th>\n",
       "    </tr>\n",
       "  </thead>\n",
       "  <tbody>\n",
       "    <tr>\n",
       "      <th>0</th>\n",
       "      <td>REM</td>\n",
       "      <td>2020-01-22 09:17:33.000000000</td>\n",
       "      <td>2020-01-22 09:19:02.989997864</td>\n",
       "      <td>0 days 00:01:29.989997864</td>\n",
       "    </tr>\n",
       "    <tr>\n",
       "      <th>1</th>\n",
       "      <td>Wake</td>\n",
       "      <td>2020-01-22 09:19:02.989997864</td>\n",
       "      <td>2020-01-22 09:19:20.989997864</td>\n",
       "      <td>0 days 00:00:18</td>\n",
       "    </tr>\n",
       "    <tr>\n",
       "      <th>2</th>\n",
       "      <td>N1</td>\n",
       "      <td>2020-01-22 09:19:20.989997864</td>\n",
       "      <td>2020-01-22 09:19:26.989997864</td>\n",
       "      <td>0 days 00:00:06</td>\n",
       "    </tr>\n",
       "    <tr>\n",
       "      <th>3</th>\n",
       "      <td>N2</td>\n",
       "      <td>2020-01-22 09:19:26.989997864</td>\n",
       "      <td>2020-01-22 09:24:38.989990234</td>\n",
       "      <td>0 days 00:05:11.999992371</td>\n",
       "    </tr>\n",
       "    <tr>\n",
       "      <th>4</th>\n",
       "      <td>N1</td>\n",
       "      <td>2020-01-22 09:24:38.989990234</td>\n",
       "      <td>2020-01-22 09:24:44.989990234</td>\n",
       "      <td>0 days 00:00:06</td>\n",
       "    </tr>\n",
       "    <tr>\n",
       "      <th>...</th>\n",
       "      <td>...</td>\n",
       "      <td>...</td>\n",
       "      <td>...</td>\n",
       "      <td>...</td>\n",
       "    </tr>\n",
       "    <tr>\n",
       "      <th>947</th>\n",
       "      <td>N2</td>\n",
       "      <td>2020-01-22 21:09:28.990234375</td>\n",
       "      <td>2020-01-22 21:10:36.990234375</td>\n",
       "      <td>0 days 00:01:08</td>\n",
       "    </tr>\n",
       "    <tr>\n",
       "      <th>948</th>\n",
       "      <td>N1</td>\n",
       "      <td>2020-01-22 21:10:36.990234375</td>\n",
       "      <td>2020-01-22 21:10:52.990234375</td>\n",
       "      <td>0 days 00:00:16</td>\n",
       "    </tr>\n",
       "    <tr>\n",
       "      <th>949</th>\n",
       "      <td>REM</td>\n",
       "      <td>2020-01-22 21:10:52.990234375</td>\n",
       "      <td>2020-01-22 21:11:24.990234375</td>\n",
       "      <td>0 days 00:00:32</td>\n",
       "    </tr>\n",
       "    <tr>\n",
       "      <th>950</th>\n",
       "      <td>Wake</td>\n",
       "      <td>2020-01-22 21:11:24.990234375</td>\n",
       "      <td>2020-01-22 21:17:32.979980469</td>\n",
       "      <td>0 days 00:06:07.989746094</td>\n",
       "    </tr>\n",
       "    <tr>\n",
       "      <th>951</th>\n",
       "      <td>Art</td>\n",
       "      <td>2020-01-22 21:17:32.979980469</td>\n",
       "      <td>2020-01-22 21:17:32.990234375</td>\n",
       "      <td>0 days 00:00:00.010253906</td>\n",
       "    </tr>\n",
       "  </tbody>\n",
       "</table>\n",
       "<p>952 rows × 4 columns</p>\n",
       "</div>"
      ],
      "text/plain": [
       "    state                    start_time                      end_time  \\\n",
       "0     REM 2020-01-22 09:17:33.000000000 2020-01-22 09:19:02.989997864   \n",
       "1    Wake 2020-01-22 09:19:02.989997864 2020-01-22 09:19:20.989997864   \n",
       "2      N1 2020-01-22 09:19:20.989997864 2020-01-22 09:19:26.989997864   \n",
       "3      N2 2020-01-22 09:19:26.989997864 2020-01-22 09:24:38.989990234   \n",
       "4      N1 2020-01-22 09:24:38.989990234 2020-01-22 09:24:44.989990234   \n",
       "..    ...                           ...                           ...   \n",
       "947    N2 2020-01-22 21:09:28.990234375 2020-01-22 21:10:36.990234375   \n",
       "948    N1 2020-01-22 21:10:36.990234375 2020-01-22 21:10:52.990234375   \n",
       "949   REM 2020-01-22 21:10:52.990234375 2020-01-22 21:11:24.990234375   \n",
       "950  Wake 2020-01-22 21:11:24.990234375 2020-01-22 21:17:32.979980469   \n",
       "951   Art 2020-01-22 21:17:32.979980469 2020-01-22 21:17:32.990234375   \n",
       "\n",
       "                     duration  \n",
       "0   0 days 00:01:29.989997864  \n",
       "1             0 days 00:00:18  \n",
       "2             0 days 00:00:06  \n",
       "3   0 days 00:05:11.999992371  \n",
       "4             0 days 00:00:06  \n",
       "..                        ...  \n",
       "947           0 days 00:01:08  \n",
       "948           0 days 00:00:16  \n",
       "949           0 days 00:00:32  \n",
       "950 0 days 00:06:07.989746094  \n",
       "951 0 days 00:00:00.010253906  \n",
       "\n",
       "[952 rows x 4 columns]"
      ]
     },
     "execution_count": 6,
     "metadata": {},
     "output_type": "execute_result"
    }
   ],
   "source": [
    "ea.load.load_hypnogram(\"Segundo\", \"sleep-homeostasis\", \"light-period-circadian-match\")"
   ]
  },
  {
   "cell_type": "code",
   "execution_count": null,
   "metadata": {},
   "outputs": [],
   "source": []
  },
  {
   "cell_type": "code",
   "execution_count": 2,
   "metadata": {
    "execution": {
     "iopub.execute_input": "2021-07-09T18:24:53.643930Z",
     "iopub.status.busy": "2021-07-09T18:24:53.643661Z",
     "iopub.status.idle": "2021-07-09T18:24:53.965964Z",
     "shell.execute_reply": "2021-07-09T18:24:53.965429Z",
     "shell.execute_reply.started": "2021-07-09T18:24:53.643897Z"
    }
   },
   "outputs": [],
   "source": [
    "# %matplotlib widget\n",
    "import matplotlib.pyplot as plt\n",
    "import seaborn as sns"
   ]
  },
  {
   "cell_type": "code",
   "execution_count": 3,
   "metadata": {
    "execution": {
     "iopub.execute_input": "2021-07-09T18:24:54.019855Z",
     "iopub.status.busy": "2021-07-09T18:24:54.019427Z",
     "iopub.status.idle": "2021-07-09T18:24:54.242318Z",
     "shell.execute_reply": "2021-07-09T18:24:54.241841Z",
     "shell.execute_reply.started": "2021-07-09T18:24:54.019800Z"
    }
   },
   "outputs": [],
   "source": [
    "import xarray as xr\n",
    "import numpy as np\n",
    "import pandas as pd"
   ]
  },
  {
   "cell_type": "code",
   "execution_count": 4,
   "metadata": {
    "execution": {
     "iopub.execute_input": "2021-07-09T18:24:54.460948Z",
     "iopub.status.busy": "2021-07-09T18:24:54.460690Z",
     "iopub.status.idle": "2021-07-09T18:24:54.478732Z",
     "shell.execute_reply": "2021-07-09T18:24:54.478249Z",
     "shell.execute_reply.started": "2021-07-09T18:24:54.460916Z"
    }
   },
   "outputs": [
    {
     "data": {
      "text/plain": [
       "<xarray.core.options.set_options at 0x7fe8d3e5ee90>"
      ]
     },
     "execution_count": 4,
     "metadata": {},
     "output_type": "execute_result"
    }
   ],
   "source": [
    "xr.set_options(keep_attrs=True)"
   ]
  },
  {
   "cell_type": "code",
   "execution_count": 5,
   "metadata": {
    "execution": {
     "iopub.execute_input": "2021-07-09T18:24:54.868008Z",
     "iopub.status.busy": "2021-07-09T18:24:54.867651Z",
     "iopub.status.idle": "2021-07-09T18:24:54.923090Z",
     "shell.execute_reply": "2021-07-09T18:24:54.922475Z",
     "shell.execute_reply.started": "2021-07-09T18:24:54.867964Z"
    }
   },
   "outputs": [],
   "source": [
    "import ecephys_analyses as ea \n",
    "from ecephys import utils\n",
    "from ecephys.signal.xarray_utils import filter_dataset_by_hypnogram"
   ]
  },
  {
   "cell_type": "code",
   "execution_count": 6,
   "metadata": {
    "execution": {
     "iopub.execute_input": "2021-07-09T17:48:14.924895Z",
     "iopub.status.busy": "2021-07-09T17:48:14.924454Z",
     "iopub.status.idle": "2021-07-09T17:48:14.944920Z",
     "shell.execute_reply": "2021-07-09T17:48:14.944123Z",
     "shell.execute_reply.started": "2021-07-09T17:48:14.924838Z"
    }
   },
   "outputs": [],
   "source": [
    "subject = \"Segundo\"\n",
    "experiment = \"sleep-homeostasis\"\n",
    "norm_condition = \"light-period-circadian-match\"\n",
    "bsl_condition = \"recovery-sleep-circadian-match\"\n",
    "rec_condition = \"recovery-sleep\"\n",
    "states = [\"N1\", \"N2\"]\n",
    "duration = '02:00:00'\n",
    "light_period_start = '09:00:00'\n",
    "light_period_end = '21:00:00'\n",
    "f_range = (0.5, 4)"
   ]
  },
  {
   "cell_type": "code",
   "execution_count": 7,
   "metadata": {
    "execution": {
     "iopub.execute_input": "2021-06-12T22:21:06.672215Z",
     "iopub.status.busy": "2021-06-12T22:21:06.671790Z",
     "iopub.status.idle": "2021-06-12T22:21:09.959769Z",
     "shell.execute_reply": "2021-06-12T22:21:09.958975Z",
     "shell.execute_reply.started": "2021-06-12T22:21:06.672160Z"
    }
   },
   "outputs": [],
   "source": [
    "norm_hyp = ea.load_hypnogram(subject, experiment, norm_condition)\n",
    "norm_hyp = norm_hyp.keep_states(states).keep_between(light_period_start, light_period_end)\n",
    "\n",
    "norm_pow = ea.load_power(subject, experiment, norm_condition, \"spg.nc\").sel(frequency=slice(*f_range)).sum(dim=\"frequency\")\n",
    "norm_pow = filter_dataset_by_hypnogram(norm_pow, norm_hyp).swap_dims({'time': 'datetime'}).drop_vars(['time', 'timedelta'])"
   ]
  },
  {
   "cell_type": "code",
   "execution_count": 8,
   "metadata": {
    "execution": {
     "iopub.execute_input": "2021-06-12T22:21:09.979275Z",
     "iopub.status.busy": "2021-06-12T22:21:09.979146Z",
     "iopub.status.idle": "2021-06-12T22:21:11.539751Z",
     "shell.execute_reply": "2021-06-12T22:21:11.538950Z",
     "shell.execute_reply.started": "2021-06-12T22:21:09.979258Z"
    }
   },
   "outputs": [],
   "source": [
    "rec_hyp = ea.load_hypnogram(subject, experiment, rec_condition)\n",
    "rec_hyp = rec_hyp.keep_states(states).keep_first(duration)\n",
    "\n",
    "rec_pow = ea.load_power(subject, experiment, rec_condition, \"spg.nc\").sel(frequency=slice(*f_range)).sum(dim='frequency')\n",
    "rec_pow = filter_dataset_by_hypnogram(rec_pow, rec_hyp).swap_dims({'time': 'datetime'}).drop_vars(['time', 'timedelta'])\n",
    "rec_pow = rec_pow / norm_pow.mean(dim=\"datetime\") * 100"
   ]
  },
  {
   "cell_type": "code",
   "execution_count": 9,
   "metadata": {
    "execution": {
     "iopub.execute_input": "2021-06-12T22:21:11.540877Z",
     "iopub.status.busy": "2021-06-12T22:21:11.540727Z",
     "iopub.status.idle": "2021-06-12T22:21:13.172875Z",
     "shell.execute_reply": "2021-06-12T22:21:13.172050Z",
     "shell.execute_reply.started": "2021-06-12T22:21:11.540860Z"
    }
   },
   "outputs": [],
   "source": [
    "bsl_hyp = ea.load_hypnogram(subject, experiment, bsl_condition)\n",
    "bsl_hyp = bsl_hyp.keep_states(states).keep_between(rec_hyp.start_time.min().strftime(\"%H:%M:%S\"), light_period_end).keep_first(duration)\n",
    "\n",
    "bsl_pow = ea.load_power(subject, experiment, bsl_condition, \"spg.nc\").sel(frequency=slice(*f_range)).sum(dim='frequency')\n",
    "bsl_pow = filter_dataset_by_hypnogram(bsl_pow, bsl_hyp).swap_dims({'time': 'datetime'}).drop_vars(['time', 'timedelta'])\n",
    "bsl_pow = bsl_pow / norm_pow.mean(dim=\"datetime\") * 100"
   ]
  },
  {
   "cell_type": "code",
   "execution_count": 10,
   "metadata": {
    "execution": {
     "iopub.execute_input": "2021-06-12T22:21:13.173715Z",
     "iopub.status.busy": "2021-06-12T22:21:13.173580Z",
     "iopub.status.idle": "2021-06-12T22:21:13.187010Z",
     "shell.execute_reply": "2021-06-12T22:21:13.186176Z",
     "shell.execute_reply.started": "2021-06-12T22:21:13.173698Z"
    }
   },
   "outputs": [],
   "source": [
    "def match_lengths(dataframes):\n",
    "    length = min(list(map(len, dataframes)))\n",
    "    return (df.iloc[:length] for df in dataframes)"
   ]
  },
  {
   "cell_type": "code",
   "execution_count": 11,
   "metadata": {
    "execution": {
     "iopub.execute_input": "2021-06-11T23:47:45.100810Z",
     "iopub.status.busy": "2021-06-11T23:47:45.100683Z",
     "iopub.status.idle": "2021-06-11T23:47:45.122434Z",
     "shell.execute_reply": "2021-06-11T23:47:45.121820Z",
     "shell.execute_reply.started": "2021-06-11T23:47:45.100794Z"
    }
   },
   "outputs": [],
   "source": [
    "bsl_df = bsl_pow.to_dataframe().reset_index(drop=True).rename_axis(index='pair').assign(condition='baseline').set_index('condition', append=True)\n",
    "rec_df = rec_pow.to_dataframe().reset_index(drop=True).rename_axis(index='pair').assign(condition='recovery').set_index('condition', append=True)\n",
    "bsl_df, rec_df = match_lengths((bsl_df, rec_df))\n",
    "df = pd.concat([bsl_df, rec_df]).sort_index()\n",
    "df.columns.name = 'region'"
   ]
  },
  {
   "cell_type": "code",
   "execution_count": 12,
   "metadata": {
    "execution": {
     "iopub.execute_input": "2021-06-11T23:47:45.123142Z",
     "iopub.status.busy": "2021-06-11T23:47:45.123018Z",
     "iopub.status.idle": "2021-06-11T23:47:45.135662Z",
     "shell.execute_reply": "2021-06-11T23:47:45.135072Z",
     "shell.execute_reply.started": "2021-06-11T23:47:45.123126Z"
    }
   },
   "outputs": [],
   "source": [
    "df_plot = df.stack().to_frame(name='power')\n",
    "df_plot['log_power'] = np.log(df_plot.power)\n",
    "df_plot['sqrt_power'] = np.sqrt(df_plot.power)"
   ]
  },
  {
   "cell_type": "code",
   "execution_count": 13,
   "metadata": {
    "execution": {
     "iopub.execute_input": "2021-06-11T23:47:45.136386Z",
     "iopub.status.busy": "2021-06-11T23:47:45.136263Z",
     "iopub.status.idle": "2021-06-11T23:47:46.083754Z",
     "shell.execute_reply": "2021-06-11T23:47:46.083207Z",
     "shell.execute_reply.started": "2021-06-11T23:47:45.136371Z"
    }
   },
   "outputs": [
    {
     "data": {
      "image/png": "[encoded data removed]",
      "text/plain": [
       "<Figure size 799.5x360 with 2 Axes>"
      ]
     },
     "metadata": {
      "needs_background": "light"
     },
     "output_type": "display_data"
    }
   ],
   "source": [
    "g = sns.displot(data=df_plot, x='power', hue='condition', col='region', kind='hist')\n",
    "g.set(xlabel='Delta (0.5 - 4Hz) PSD (uV^2/Hz)')\n",
    "g.tight_layout()"
   ]
  },
  {
   "cell_type": "code",
   "execution_count": 14,
   "metadata": {
    "execution": {
     "iopub.execute_input": "2021-06-11T23:47:46.084664Z",
     "iopub.status.busy": "2021-06-11T23:47:46.084516Z",
     "iopub.status.idle": "2021-06-11T23:47:46.793411Z",
     "shell.execute_reply": "2021-06-11T23:47:46.792743Z",
     "shell.execute_reply.started": "2021-06-11T23:47:46.084643Z"
    }
   },
   "outputs": [
    {
     "data": {
      "image/png": "[encoded data removed]",
      "text/plain": [
       "<Figure size 799.5x360 with 2 Axes>"
      ]
     },
     "metadata": {
      "needs_background": "light"
     },
     "output_type": "display_data"
    }
   ],
   "source": [
    "g = sns.displot(data=df_plot, x='log_power', hue='condition', col='region', kind='hist')\n",
    "g.set(xlabel='Delta (0.5 - 4Hz) PSD (uV^2/Hz)')\n",
    "g.tight_layout()"
   ]
  },
  {
   "cell_type": "code",
   "execution_count": 15,
   "metadata": {
    "execution": {
     "iopub.execute_input": "2021-06-11T23:47:46.794305Z",
     "iopub.status.busy": "2021-06-11T23:47:46.794159Z",
     "iopub.status.idle": "2021-06-11T23:47:47.542056Z",
     "shell.execute_reply": "2021-06-11T23:47:47.541401Z",
     "shell.execute_reply.started": "2021-06-11T23:47:46.794288Z"
    }
   },
   "outputs": [
    {
     "data": {
      "image/png": "[encoded data removed]",
      "text/plain": [
       "<Figure size 799.5x360 with 2 Axes>"
      ]
     },
     "metadata": {
      "needs_background": "light"
     },
     "output_type": "display_data"
    }
   ],
   "source": [
    "g = sns.displot(data=df_plot, x='sqrt_power', hue='condition', col='region', kind='hist')\n",
    "g.set(xlabel='Delta (0.5 - 4Hz) PSD (uV^2/Hz)')\n",
    "g.tight_layout()"
   ]
  },
  {
   "cell_type": "code",
   "execution_count": 16,
   "metadata": {
    "execution": {
     "iopub.execute_input": "2021-06-11T23:47:47.542962Z",
     "iopub.status.busy": "2021-06-11T23:47:47.542817Z",
     "iopub.status.idle": "2021-06-11T23:47:47.556120Z",
     "shell.execute_reply": "2021-06-11T23:47:47.555378Z",
     "shell.execute_reply.started": "2021-06-11T23:47:47.542944Z"
    }
   },
   "outputs": [],
   "source": [
    "def get_rebound(df):\n",
    "    means = df.groupby('condition').mean()\n",
    "    return means.xs('recovery') - means.xs('baseline')"
   ]
  },
  {
   "cell_type": "code",
   "execution_count": 17,
   "metadata": {
    "execution": {
     "iopub.execute_input": "2021-06-11T23:47:47.557076Z",
     "iopub.status.busy": "2021-06-11T23:47:47.556946Z",
     "iopub.status.idle": "2021-06-11T23:47:47.569828Z",
     "shell.execute_reply": "2021-06-11T23:47:47.569076Z",
     "shell.execute_reply.started": "2021-06-11T23:47:47.557058Z"
    }
   },
   "outputs": [],
   "source": [
    "def shuffle(df, key): \n",
    "    _df = df.reset_index()\n",
    "    labels = _df[key].values.reshape(-1, 2)\n",
    "    rng = np.random.default_rng()\n",
    "    rng.permuted(labels, axis=1, out=labels)\n",
    "    _df.set_index(df.index.names, inplace=True)\n",
    "    return _df"
   ]
  },
  {
   "cell_type": "code",
   "execution_count": 18,
   "metadata": {
    "execution": {
     "iopub.execute_input": "2021-06-11T23:47:47.570542Z",
     "iopub.status.busy": "2021-06-11T23:47:47.570416Z",
     "iopub.status.idle": "2021-06-11T23:48:17.245440Z",
     "shell.execute_reply": "2021-06-11T23:48:17.244616Z",
     "shell.execute_reply.started": "2021-06-11T23:47:47.570526Z"
    }
   },
   "outputs": [],
   "source": [
    "observed = get_rebound(df)\n",
    "\n",
    "n_permutations = 10000\n",
    "permutations = list()\n",
    "for i in range(n_permutations):\n",
    "    permuted = shuffle(df, 'condition')\n",
    "    permutations.append(get_rebound(permuted))"
   ]
  },
  {
   "cell_type": "code",
   "execution_count": 19,
   "metadata": {
    "execution": {
     "iopub.execute_input": "2021-06-11T23:48:17.246548Z",
     "iopub.status.busy": "2021-06-11T23:48:17.246387Z",
     "iopub.status.idle": "2021-06-11T23:48:17.853564Z",
     "shell.execute_reply": "2021-06-11T23:48:17.852898Z",
     "shell.execute_reply.started": "2021-06-11T23:48:17.246526Z"
    }
   },
   "outputs": [],
   "source": [
    "perms = pd.concat(permutations, axis=1)\n",
    "perms.columns.name = 'permtuation'\n",
    "perms = perms.stack().to_frame(name='rebound').reorder_levels([1, 0]).sort_index()"
   ]
  },
  {
   "cell_type": "code",
   "execution_count": 20,
   "metadata": {
    "execution": {
     "iopub.execute_input": "2021-06-11T23:48:17.854469Z",
     "iopub.status.busy": "2021-06-11T23:48:17.854324Z",
     "iopub.status.idle": "2021-06-11T23:48:18.466540Z",
     "shell.execute_reply": "2021-06-11T23:48:18.465908Z",
     "shell.execute_reply.started": "2021-06-11T23:48:17.854452Z"
    }
   },
   "outputs": [
    {
     "data": {
      "image/png": "[encoded data removed]",
      "text/plain": [
       "<Figure size 720x360 with 2 Axes>"
      ]
     },
     "metadata": {
      "needs_background": "light"
     },
     "output_type": "display_data"
    }
   ],
   "source": [
    "g = sns.displot(data=perms, x='rebound', col='region', kind='hist')\n",
    "g.set(xlabel='Rebound (SD - BL)')\n",
    "g.tight_layout()"
   ]
  },
  {
   "cell_type": "code",
   "execution_count": 21,
   "metadata": {
    "execution": {
     "iopub.execute_input": "2021-06-11T23:48:18.467320Z",
     "iopub.status.busy": "2021-06-11T23:48:18.467189Z",
     "iopub.status.idle": "2021-06-11T23:48:18.481070Z",
     "shell.execute_reply": "2021-06-11T23:48:18.480463Z",
     "shell.execute_reply.started": "2021-06-11T23:48:18.467304Z"
    }
   },
   "outputs": [],
   "source": [
    "cx = perms.xs('mpta_wm_ref', level='region')\n",
    "hc = perms.xs('sr_wm_ref', level='region')"
   ]
  },
  {
   "cell_type": "code",
   "execution_count": 22,
   "metadata": {
    "execution": {
     "iopub.execute_input": "2021-06-11T23:48:18.481900Z",
     "iopub.status.busy": "2021-06-11T23:48:18.481772Z",
     "iopub.status.idle": "2021-06-11T23:48:18.493956Z",
     "shell.execute_reply": "2021-06-11T23:48:18.493128Z",
     "shell.execute_reply.started": "2021-06-11T23:48:18.481883Z"
    }
   },
   "outputs": [],
   "source": [
    "pcx = np.sum(cx >= observed.xs('mpta_wm_ref'))"
   ]
  },
  {
   "cell_type": "code",
   "execution_count": 23,
   "metadata": {
    "execution": {
     "iopub.execute_input": "2021-06-11T23:48:18.494732Z",
     "iopub.status.busy": "2021-06-11T23:48:18.494605Z",
     "iopub.status.idle": "2021-06-11T23:48:18.505654Z",
     "shell.execute_reply": "2021-06-11T23:48:18.504715Z",
     "shell.execute_reply.started": "2021-06-11T23:48:18.494716Z"
    }
   },
   "outputs": [],
   "source": [
    "phc = np.sum(hc >= observed.xs('sr_wm_ref'))"
   ]
  },
  {
   "cell_type": "code",
   "execution_count": 24,
   "metadata": {
    "execution": {
     "iopub.execute_input": "2021-06-11T23:48:18.506445Z",
     "iopub.status.busy": "2021-06-11T23:48:18.506319Z",
     "iopub.status.idle": "2021-06-11T23:48:18.522196Z",
     "shell.execute_reply": "2021-06-11T23:48:18.521577Z",
     "shell.execute_reply.started": "2021-06-11T23:48:18.506429Z"
    }
   },
   "outputs": [
    {
     "name": "stdout",
     "output_type": "stream",
     "text": [
      "Subject: Segundo\n",
      "Observed rebound (BL - SD):\n",
      "\n",
      "| region      |        0 |\n",
      "|:------------|---------:|\n",
      "| mpta_wm_ref | 174.701  |\n",
      "| sr_wm_ref   |  42.2262 |\n",
      "\n",
      "\n",
      "Shuffled >= observed:\n",
      "Cortex: 1 / 10000\n",
      "Hippocampus: 1 / 10000\n"
     ]
    }
   ],
   "source": [
    "print(f\"Subject: {subject}\")\n",
    "print('Observed rebound (BL - SD):\\n')\n",
    "print(observed.to_markdown())\n",
    "print('\\n')\n",
    "print('Shuffled >= observed:')\n",
    "print(f\"Cortex: {1 + pcx.squeeze()} / {n_permutations}\")\n",
    "print(f\"Hippocampus: {1 + phc.squeeze()} / {n_permutations}\")"
   ]
  },
  {
   "cell_type": "code",
   "execution_count": null,
   "metadata": {},
   "outputs": [],
   "source": []
  }
 ],
 "metadata": {
  "kernelspec": {
   "display_name": "Python 3",
   "language": "python",
   "name": "python3"
  },
  "language_info": {
   "codemirror_mode": {
    "name": "ipython",
    "version": 3
   },
   "file_extension": ".py",
   "mimetype": "text/x-python",
   "name": "python",
   "nbconvert_exporter": "python",
   "pygments_lexer": "ipython3",
   "version": "3.7.9"
  }
 },
 "nbformat": 4,
 "nbformat_minor": 4
}
