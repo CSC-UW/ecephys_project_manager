{
 "cells": [
  {
   "cell_type": "code",
   "execution_count": 1,
   "metadata": {
    "execution": {
     "iopub.execute_input": "2021-06-10T19:54:24.474980Z",
     "iopub.status.busy": "2021-06-10T19:54:24.474677Z",
     "iopub.status.idle": "2021-06-10T19:54:24.487838Z",
     "shell.execute_reply": "2021-06-10T19:54:24.487253Z",
     "shell.execute_reply.started": "2021-06-10T19:54:24.474894Z"
    }
   },
   "outputs": [],
   "source": [
    "%load_ext autoreload\n",
    "%autoreload 2"
   ]
  },
  {
   "cell_type": "code",
   "execution_count": 2,
   "metadata": {
    "execution": {
     "iopub.execute_input": "2021-06-10T19:54:24.488978Z",
     "iopub.status.busy": "2021-06-10T19:54:24.488853Z",
     "iopub.status.idle": "2021-06-10T19:54:25.080344Z",
     "shell.execute_reply": "2021-06-10T19:54:25.079925Z",
     "shell.execute_reply.started": "2021-06-10T19:54:24.488963Z"
    }
   },
   "outputs": [],
   "source": [
    "# %matplotlib widget\n",
    "import matplotlib.pyplot as plt\n",
    "import seaborn as sns"
   ]
  },
  {
   "cell_type": "code",
   "execution_count": 3,
   "metadata": {
    "execution": {
     "iopub.execute_input": "2021-06-10T19:54:25.081263Z",
     "iopub.status.busy": "2021-06-10T19:54:25.081126Z",
     "iopub.status.idle": "2021-06-10T19:54:25.377021Z",
     "shell.execute_reply": "2021-06-10T19:54:25.376302Z",
     "shell.execute_reply.started": "2021-06-10T19:54:25.081247Z"
    }
   },
   "outputs": [],
   "source": [
    "import xarray as xr\n",
    "import numpy as np\n",
    "import pandas as pd"
   ]
  },
  {
   "cell_type": "code",
   "execution_count": 4,
   "metadata": {
    "execution": {
     "iopub.execute_input": "2021-06-10T19:54:25.378082Z",
     "iopub.status.busy": "2021-06-10T19:54:25.377916Z",
     "iopub.status.idle": "2021-06-10T19:54:25.393367Z",
     "shell.execute_reply": "2021-06-10T19:54:25.392693Z",
     "shell.execute_reply.started": "2021-06-10T19:54:25.378064Z"
    }
   },
   "outputs": [
    {
     "data": {
      "text/plain": [
       "<xarray.core.options.set_options at 0x7efe5c07b750>"
      ]
     },
     "execution_count": 4,
     "metadata": {},
     "output_type": "execute_result"
    }
   ],
   "source": [
    "xr.set_options(keep_attrs=True)"
   ]
  },
  {
   "cell_type": "code",
   "execution_count": 5,
   "metadata": {
    "execution": {
     "iopub.execute_input": "2021-06-10T19:54:25.394157Z",
     "iopub.status.busy": "2021-06-10T19:54:25.394028Z",
     "iopub.status.idle": "2021-06-10T19:54:25.409226Z",
     "shell.execute_reply": "2021-06-10T19:54:25.408702Z",
     "shell.execute_reply.started": "2021-06-10T19:54:25.394139Z"
    }
   },
   "outputs": [],
   "source": [
    "import ecephys_analyses as ea \n",
    "from ecephys import utils\n",
    "from ecephys.signal.xarray_utils import filter_dataset_by_hypnogram"
   ]
  },
  {
   "cell_type": "code",
   "execution_count": 6,
   "metadata": {
    "execution": {
     "iopub.execute_input": "2021-06-10T19:54:25.409930Z",
     "iopub.status.busy": "2021-06-10T19:54:25.409807Z",
     "iopub.status.idle": "2021-06-10T19:54:25.420035Z",
     "shell.execute_reply": "2021-06-10T19:54:25.419416Z",
     "shell.execute_reply.started": "2021-06-10T19:54:25.409914Z"
    }
   },
   "outputs": [],
   "source": [
    "def ds2df(ds):\n",
    "    s = ds.to_dataframe().stack()\n",
    "    s.index.names = s.index.names[:-1] + ['region']\n",
    "    return s.to_frame(name='power')"
   ]
  },
  {
   "cell_type": "code",
   "execution_count": 7,
   "metadata": {
    "execution": {
     "iopub.execute_input": "2021-06-10T19:54:25.420771Z",
     "iopub.status.busy": "2021-06-10T19:54:25.420651Z",
     "iopub.status.idle": "2021-06-10T19:54:25.431227Z",
     "shell.execute_reply": "2021-06-10T19:54:25.430626Z",
     "shell.execute_reply.started": "2021-06-10T19:54:25.420756Z"
    }
   },
   "outputs": [],
   "source": [
    "subject = \"Alessandro\"\n",
    "experiment = \"sleep-homeostasis\"\n",
    "norm_condition = \"light-period-circadian-match\"\n",
    "bsl_condition = \"recovery-sleep-circadian-match\"\n",
    "rec_condition = \"recovery-sleep\"\n",
    "states = [\"N1\", \"N2\"]\n",
    "duration = '02:00:00'\n",
    "light_period_start = '09:00:00'\n",
    "light_period_end = '21:00:00'\n",
    "f_range = (0.5, 4)"
   ]
  },
  {
   "cell_type": "code",
   "execution_count": 8,
   "metadata": {
    "execution": {
     "iopub.execute_input": "2021-06-10T19:54:25.432727Z",
     "iopub.status.busy": "2021-06-10T19:54:25.432586Z",
     "iopub.status.idle": "2021-06-10T19:54:31.233172Z",
     "shell.execute_reply": "2021-06-10T19:54:31.232129Z",
     "shell.execute_reply.started": "2021-06-10T19:54:25.432696Z"
    }
   },
   "outputs": [],
   "source": [
    "norm_hyp = ea.load_hypnogram(subject, experiment, norm_condition)\n",
    "norm_hyp = norm_hyp.keep_states(states).keep_between(light_period_start, light_period_end)\n",
    "\n",
    "norm_pow = ea.load_power(subject, experiment, norm_condition, \"spg.nc\").sel(frequency=slice(*f_range)).sum(dim=\"frequency\")\n",
    "norm_pow = filter_dataset_by_hypnogram(norm_pow, norm_hyp).swap_dims({'time': 'datetime'}).drop_vars(['time', 'timedelta'])"
   ]
  },
  {
   "cell_type": "code",
   "execution_count": 9,
   "metadata": {
    "execution": {
     "iopub.execute_input": "2021-06-10T19:54:31.234603Z",
     "iopub.status.busy": "2021-06-10T19:54:31.234457Z",
     "iopub.status.idle": "2021-06-10T19:54:32.816724Z",
     "shell.execute_reply": "2021-06-10T19:54:32.816053Z",
     "shell.execute_reply.started": "2021-06-10T19:54:31.234584Z"
    }
   },
   "outputs": [],
   "source": [
    "rec_hyp = ea.load_hypnogram(subject, experiment, rec_condition)\n",
    "rec_hyp = rec_hyp.keep_states(states).keep_first(duration)\n",
    "\n",
    "rec_pow = ea.load_power(subject, experiment, rec_condition, \"spg.nc\").sel(frequency=slice(*f_range)).sum(dim='frequency')\n",
    "rec_pow = filter_dataset_by_hypnogram(rec_pow, rec_hyp).swap_dims({'time': 'datetime'}).drop_vars(['time', 'timedelta'])\n",
    "rec_pow = rec_pow / norm_pow.mean(dim=\"datetime\") * 100"
   ]
  },
  {
   "cell_type": "code",
   "execution_count": 10,
   "metadata": {
    "execution": {
     "iopub.execute_input": "2021-06-10T19:54:32.817648Z",
     "iopub.status.busy": "2021-06-10T19:54:32.817500Z",
     "iopub.status.idle": "2021-06-10T19:54:34.528623Z",
     "shell.execute_reply": "2021-06-10T19:54:34.527513Z",
     "shell.execute_reply.started": "2021-06-10T19:54:32.817632Z"
    }
   },
   "outputs": [],
   "source": [
    "bsl_hyp = ea.load_hypnogram(subject, experiment, bsl_condition)\n",
    "bsl_hyp = bsl_hyp.keep_states(states).keep_between(rec_hyp.start_time.min().strftime(\"%H:%M:%S\"), light_period_end).keep_first(duration)\n",
    "\n",
    "bsl_pow = ea.load_power(subject, experiment, bsl_condition, \"spg.nc\").sel(frequency=slice(*f_range)).sum(dim='frequency')\n",
    "bsl_pow = filter_dataset_by_hypnogram(bsl_pow, bsl_hyp).swap_dims({'time': 'datetime'}).drop_vars(['time', 'timedelta'])\n",
    "bsl_pow = bsl_pow / norm_pow.mean(dim=\"datetime\") * 100"
   ]
  },
  {
   "cell_type": "code",
   "execution_count": 11,
   "metadata": {
    "execution": {
     "iopub.execute_input": "2021-06-10T19:54:34.529584Z",
     "iopub.status.busy": "2021-06-10T19:54:34.529434Z",
     "iopub.status.idle": "2021-06-10T19:54:34.550157Z",
     "shell.execute_reply": "2021-06-10T19:54:34.549566Z",
     "shell.execute_reply.started": "2021-06-10T19:54:34.529567Z"
    }
   },
   "outputs": [],
   "source": [
    "nrem_pow = pd.concat([ds2df(bsl_pow).assign(condition=\"baseline\"), ds2df(rec_pow).assign(condition=\"recovery\")])"
   ]
  },
  {
   "cell_type": "code",
   "execution_count": 12,
   "metadata": {
    "execution": {
     "iopub.execute_input": "2021-06-10T19:54:34.550860Z",
     "iopub.status.busy": "2021-06-10T19:54:34.550736Z",
     "iopub.status.idle": "2021-06-10T19:54:34.571967Z",
     "shell.execute_reply": "2021-06-10T19:54:34.571614Z",
     "shell.execute_reply.started": "2021-06-10T19:54:34.550844Z"
    }
   },
   "outputs": [
    {
     "data": {
      "text/html": [
       "<div>\n",
       "<style scoped>\n",
       "    .dataframe tbody tr th:only-of-type {\n",
       "        vertical-align: middle;\n",
       "    }\n",
       "\n",
       "    .dataframe tbody tr th {\n",
       "        vertical-align: top;\n",
       "    }\n",
       "\n",
       "    .dataframe thead th {\n",
       "        text-align: right;\n",
       "    }\n",
       "</style>\n",
       "<table border=\"1\" class=\"dataframe\">\n",
       "  <thead>\n",
       "    <tr style=\"text-align: right;\">\n",
       "      <th></th>\n",
       "      <th></th>\n",
       "      <th>power</th>\n",
       "      <th>condition</th>\n",
       "    </tr>\n",
       "    <tr>\n",
       "      <th>datetime</th>\n",
       "      <th>region</th>\n",
       "      <th></th>\n",
       "      <th></th>\n",
       "    </tr>\n",
       "  </thead>\n",
       "  <tbody>\n",
       "    <tr>\n",
       "      <th rowspan=\"2\" valign=\"top\">2020-08-24 15:07:40.999106578</th>\n",
       "      <th>mpta_wm_ref</th>\n",
       "      <td>20.516475</td>\n",
       "      <td>baseline</td>\n",
       "    </tr>\n",
       "    <tr>\n",
       "      <th>sr_wm_ref</th>\n",
       "      <td>300.596963</td>\n",
       "      <td>baseline</td>\n",
       "    </tr>\n",
       "    <tr>\n",
       "      <th rowspan=\"2\" valign=\"top\">2020-08-24 15:07:43.999089615</th>\n",
       "      <th>mpta_wm_ref</th>\n",
       "      <td>38.642198</td>\n",
       "      <td>baseline</td>\n",
       "    </tr>\n",
       "    <tr>\n",
       "      <th>sr_wm_ref</th>\n",
       "      <td>181.652578</td>\n",
       "      <td>baseline</td>\n",
       "    </tr>\n",
       "    <tr>\n",
       "      <th>2020-08-24 15:07:46.999072651</th>\n",
       "      <th>mpta_wm_ref</th>\n",
       "      <td>13.370830</td>\n",
       "      <td>baseline</td>\n",
       "    </tr>\n",
       "    <tr>\n",
       "      <th>...</th>\n",
       "      <th>...</th>\n",
       "      <td>...</td>\n",
       "      <td>...</td>\n",
       "    </tr>\n",
       "    <tr>\n",
       "      <th>2020-08-25 17:25:20.993796939</th>\n",
       "      <th>sr_wm_ref</th>\n",
       "      <td>68.782805</td>\n",
       "      <td>recovery</td>\n",
       "    </tr>\n",
       "    <tr>\n",
       "      <th rowspan=\"2\" valign=\"top\">2020-08-25 17:25:23.993779975</th>\n",
       "      <th>mpta_wm_ref</th>\n",
       "      <td>91.188490</td>\n",
       "      <td>recovery</td>\n",
       "    </tr>\n",
       "    <tr>\n",
       "      <th>sr_wm_ref</th>\n",
       "      <td>305.821715</td>\n",
       "      <td>recovery</td>\n",
       "    </tr>\n",
       "    <tr>\n",
       "      <th rowspan=\"2\" valign=\"top\">2020-08-25 17:25:26.993763011</th>\n",
       "      <th>mpta_wm_ref</th>\n",
       "      <td>185.543051</td>\n",
       "      <td>recovery</td>\n",
       "    </tr>\n",
       "    <tr>\n",
       "      <th>sr_wm_ref</th>\n",
       "      <td>56.345501</td>\n",
       "      <td>recovery</td>\n",
       "    </tr>\n",
       "  </tbody>\n",
       "</table>\n",
       "<p>9358 rows × 2 columns</p>\n",
       "</div>"
      ],
      "text/plain": [
       "                                                power condition\n",
       "datetime                      region                           \n",
       "2020-08-24 15:07:40.999106578 mpta_wm_ref   20.516475  baseline\n",
       "                              sr_wm_ref    300.596963  baseline\n",
       "2020-08-24 15:07:43.999089615 mpta_wm_ref   38.642198  baseline\n",
       "                              sr_wm_ref    181.652578  baseline\n",
       "2020-08-24 15:07:46.999072651 mpta_wm_ref   13.370830  baseline\n",
       "...                                               ...       ...\n",
       "2020-08-25 17:25:20.993796939 sr_wm_ref     68.782805  recovery\n",
       "2020-08-25 17:25:23.993779975 mpta_wm_ref   91.188490  recovery\n",
       "                              sr_wm_ref    305.821715  recovery\n",
       "2020-08-25 17:25:26.993763011 mpta_wm_ref  185.543051  recovery\n",
       "                              sr_wm_ref     56.345501  recovery\n",
       "\n",
       "[9358 rows x 2 columns]"
      ]
     },
     "execution_count": 12,
     "metadata": {},
     "output_type": "execute_result"
    }
   ],
   "source": [
    "nrem_pow"
   ]
  },
  {
   "cell_type": "code",
   "execution_count": 13,
   "metadata": {
    "execution": {
     "iopub.execute_input": "2021-06-10T19:54:34.572629Z",
     "iopub.status.busy": "2021-06-10T19:54:34.572508Z",
     "iopub.status.idle": "2021-06-10T19:54:35.518421Z",
     "shell.execute_reply": "2021-06-10T19:54:35.517905Z",
     "shell.execute_reply.started": "2021-06-10T19:54:34.572614Z"
    }
   },
   "outputs": [
    {
     "data": {
      "image/png": "[encoded data removed]",
      "text/plain": [
       "<Figure size 799.5x360 with 2 Axes>"
      ]
     },
     "metadata": {
      "needs_background": "light"
     },
     "output_type": "display_data"
    }
   ],
   "source": [
    "g = sns.displot(data=nrem_pow, x='power', hue='condition', col='region', kind='hist')\n",
    "g.set(xlabel='Delta (0.5 - 4Hz) PSD (uV^2/Hz)')\n",
    "g.tight_layout()"
   ]
  },
  {
   "cell_type": "code",
   "execution_count": 14,
   "metadata": {
    "execution": {
     "iopub.execute_input": "2021-06-10T19:54:35.519355Z",
     "iopub.status.busy": "2021-06-10T19:54:35.519203Z",
     "iopub.status.idle": "2021-06-10T19:54:36.317907Z",
     "shell.execute_reply": "2021-06-10T19:54:36.317408Z",
     "shell.execute_reply.started": "2021-06-10T19:54:35.519336Z"
    }
   },
   "outputs": [
    {
     "data": {
      "image/png": "[encoded data removed]",
      "text/plain": [
       "<Figure size 799.5x360 with 2 Axes>"
      ]
     },
     "metadata": {
      "needs_background": "light"
     },
     "output_type": "display_data"
    }
   ],
   "source": [
    "nrem_pow_log = nrem_pow.copy()\n",
    "nrem_pow_log['power'] = np.log(nrem_pow.power)\n",
    "\n",
    "g = sns.displot(data=nrem_pow_log, x='power', hue='condition', col='region', kind='hist')\n",
    "g.set(xlabel='Delta (0.5 - 4Hz) PSD (uV^2/Hz)')\n",
    "g.tight_layout()"
   ]
  },
  {
   "cell_type": "code",
   "execution_count": 15,
   "metadata": {
    "execution": {
     "iopub.execute_input": "2021-06-10T19:54:36.318653Z",
     "iopub.status.busy": "2021-06-10T19:54:36.318523Z",
     "iopub.status.idle": "2021-06-10T19:54:36.998530Z",
     "shell.execute_reply": "2021-06-10T19:54:36.998024Z",
     "shell.execute_reply.started": "2021-06-10T19:54:36.318637Z"
    }
   },
   "outputs": [
    {
     "data": {
      "image/png": "[encoded data removed]",
      "text/plain": [
       "<Figure size 799.5x360 with 2 Axes>"
      ]
     },
     "metadata": {
      "needs_background": "light"
     },
     "output_type": "display_data"
    }
   ],
   "source": [
    "nrem_pow_sqrt = nrem_pow.copy()\n",
    "nrem_pow_sqrt['power'] = np.sqrt(nrem_pow.power)\n",
    "\n",
    "g = sns.displot(data=nrem_pow_sqrt, x='power', hue='condition', col='region', kind='hist')\n",
    "g.set(xlabel='Delta (0.5 - 4Hz) PSD (uV^2/Hz)')\n",
    "g.tight_layout()"
   ]
  },
  {
   "cell_type": "code",
   "execution_count": 16,
   "metadata": {
    "execution": {
     "iopub.execute_input": "2021-06-10T19:54:36.999308Z",
     "iopub.status.busy": "2021-06-10T19:54:36.999174Z",
     "iopub.status.idle": "2021-06-10T19:54:37.010803Z",
     "shell.execute_reply": "2021-06-10T19:54:37.010275Z",
     "shell.execute_reply.started": "2021-06-10T19:54:36.999291Z"
    }
   },
   "outputs": [],
   "source": [
    "def difference_of_means(df):\n",
    "    means = df.groupby(['condition', 'region']).mean()\n",
    "    return means.xs('recovery') - means.xs('baseline')"
   ]
  },
  {
   "cell_type": "code",
   "execution_count": 17,
   "metadata": {
    "execution": {
     "iopub.execute_input": "2021-06-10T19:54:37.011662Z",
     "iopub.status.busy": "2021-06-10T19:54:37.011537Z",
     "iopub.status.idle": "2021-06-10T19:55:00.451691Z",
     "shell.execute_reply": "2021-06-10T19:55:00.451161Z",
     "shell.execute_reply.started": "2021-06-10T19:54:37.011647Z"
    }
   },
   "outputs": [],
   "source": [
    "observed = difference_of_means(nrem_pow)\n",
    "\n",
    "n_permutations = 10000\n",
    "permutations = list()\n",
    "permuted = nrem_pow.copy()\n",
    "for i in range(n_permutations):\n",
    "    np.random.shuffle(permuted.condition.values)\n",
    "    permutations.append(difference_of_means(permuted))\n",
    "    \n",
    "df = pd.concat(permutations)"
   ]
  },
  {
   "cell_type": "code",
   "execution_count": 18,
   "metadata": {
    "execution": {
     "iopub.execute_input": "2021-06-10T19:55:00.452559Z",
     "iopub.status.busy": "2021-06-10T19:55:00.452416Z",
     "iopub.status.idle": "2021-06-10T19:55:00.938268Z",
     "shell.execute_reply": "2021-06-10T19:55:00.937743Z",
     "shell.execute_reply.started": "2021-06-10T19:55:00.452542Z"
    }
   },
   "outputs": [
    {
     "data": {
      "image/png": "[encoded data removed]",
      "text/plain": [
       "<Figure size 720x360 with 2 Axes>"
      ]
     },
     "metadata": {
      "needs_background": "light"
     },
     "output_type": "display_data"
    }
   ],
   "source": [
    "g = sns.displot(data=df, x='power', col='region', kind='hist')\n",
    "g.set(xlabel='Difference of means (SD - BL)')\n",
    "g.tight_layout()"
   ]
  },
  {
   "cell_type": "code",
   "execution_count": 19,
   "metadata": {
    "execution": {
     "iopub.execute_input": "2021-06-10T19:55:00.939080Z",
     "iopub.status.busy": "2021-06-10T19:55:00.938944Z",
     "iopub.status.idle": "2021-06-10T19:55:00.953978Z",
     "shell.execute_reply": "2021-06-10T19:55:00.953464Z",
     "shell.execute_reply.started": "2021-06-10T19:55:00.939063Z"
    }
   },
   "outputs": [],
   "source": [
    "cx = df.xs('mpta_wm_ref').sort_values('power')\n",
    "hc = df.xs('sr_wm_ref').sort_values('power')"
   ]
  },
  {
   "cell_type": "code",
   "execution_count": 20,
   "metadata": {
    "execution": {
     "iopub.execute_input": "2021-06-10T19:55:00.954731Z",
     "iopub.status.busy": "2021-06-10T19:55:00.954606Z",
     "iopub.status.idle": "2021-06-10T19:55:00.966420Z",
     "shell.execute_reply": "2021-06-10T19:55:00.965837Z",
     "shell.execute_reply.started": "2021-06-10T19:55:00.954716Z"
    }
   },
   "outputs": [],
   "source": [
    "pcx = np.sum(cx.power.values >= observed.xs('mpta_wm_ref').values)"
   ]
  },
  {
   "cell_type": "code",
   "execution_count": 21,
   "metadata": {
    "execution": {
     "iopub.execute_input": "2021-06-10T19:55:00.967102Z",
     "iopub.status.busy": "2021-06-10T19:55:00.966979Z",
     "iopub.status.idle": "2021-06-10T19:55:00.977503Z",
     "shell.execute_reply": "2021-06-10T19:55:00.976940Z",
     "shell.execute_reply.started": "2021-06-10T19:55:00.967087Z"
    }
   },
   "outputs": [],
   "source": [
    "phc = np.sum(hc.power.values >= observed.xs('sr_wm_ref').values)"
   ]
  },
  {
   "cell_type": "code",
   "execution_count": 22,
   "metadata": {
    "execution": {
     "iopub.execute_input": "2021-06-10T19:55:00.978206Z",
     "iopub.status.busy": "2021-06-10T19:55:00.978084Z",
     "iopub.status.idle": "2021-06-10T19:55:00.994172Z",
     "shell.execute_reply": "2021-06-10T19:55:00.993817Z",
     "shell.execute_reply.started": "2021-06-10T19:55:00.978191Z"
    }
   },
   "outputs": [
    {
     "name": "stdout",
     "output_type": "stream",
     "text": [
      "Subject: Alessandro\n",
      "Observed differences, Mean SD - Mean BSL:\n",
      "\n",
      "| region      |    power |\n",
      "|:------------|---------:|\n",
      "| mpta_wm_ref | 108.873  |\n",
      "| sr_wm_ref   |  40.0028 |\n",
      "\n",
      "\n",
      "Shuffled differences >= observed:\n",
      "Cortex: 1 / 10000\n",
      "Hippocampus: 1 / 10000\n"
     ]
    }
   ],
   "source": [
    "print(f\"Subject: {subject}\")\n",
    "print('Observed differences, Mean SD - Mean BSL:\\n')\n",
    "print(observed.to_markdown())\n",
    "print('\\n')\n",
    "print('Shuffled differences >= observed:')\n",
    "print(f\"Cortex: {1 + pcx} / {n_permutations}\")\n",
    "print(f\"Hippocampus: {1 + phc} / {n_permutations}\")"
   ]
  },
  {
   "cell_type": "code",
   "execution_count": null,
   "metadata": {},
   "outputs": [],
   "source": []
  }
 ],
 "metadata": {
  "kernelspec": {
   "display_name": "Python 3",
   "language": "python",
   "name": "python3"
  },
  "language_info": {
   "codemirror_mode": {
    "name": "ipython",
    "version": 3
   },
   "file_extension": ".py",
   "mimetype": "text/x-python",
   "name": "python",
   "nbconvert_exporter": "python",
   "pygments_lexer": "ipython3",
   "version": "3.7.9"
  }
 },
 "nbformat": 4,
 "nbformat_minor": 4
}
