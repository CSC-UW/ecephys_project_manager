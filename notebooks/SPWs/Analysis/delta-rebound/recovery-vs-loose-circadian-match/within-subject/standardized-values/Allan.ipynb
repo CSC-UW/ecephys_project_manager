{
 "cells": [
  {
   "cell_type": "code",
   "execution_count": 1,
   "metadata": {
    "execution": {
     "iopub.execute_input": "2021-06-10T19:54:32.992006Z",
     "iopub.status.busy": "2021-06-10T19:54:32.991491Z",
     "iopub.status.idle": "2021-06-10T19:54:33.010668Z",
     "shell.execute_reply": "2021-06-10T19:54:33.010054Z",
     "shell.execute_reply.started": "2021-06-10T19:54:32.991944Z"
    }
   },
   "outputs": [],
   "source": [
    "%load_ext autoreload\n",
    "%autoreload 2"
   ]
  },
  {
   "cell_type": "code",
   "execution_count": 2,
   "metadata": {
    "execution": {
     "iopub.execute_input": "2021-06-10T19:54:33.011574Z",
     "iopub.status.busy": "2021-06-10T19:54:33.011448Z",
     "iopub.status.idle": "2021-06-10T19:54:33.418258Z",
     "shell.execute_reply": "2021-06-10T19:54:33.417002Z",
     "shell.execute_reply.started": "2021-06-10T19:54:33.011558Z"
    }
   },
   "outputs": [],
   "source": [
    "# %matplotlib widget\n",
    "import matplotlib.pyplot as plt\n",
    "import seaborn as sns"
   ]
  },
  {
   "cell_type": "code",
   "execution_count": 3,
   "metadata": {
    "execution": {
     "iopub.execute_input": "2021-06-10T19:54:33.419873Z",
     "iopub.status.busy": "2021-06-10T19:54:33.419707Z",
     "iopub.status.idle": "2021-06-10T19:54:33.660044Z",
     "shell.execute_reply": "2021-06-10T19:54:33.659201Z",
     "shell.execute_reply.started": "2021-06-10T19:54:33.419852Z"
    }
   },
   "outputs": [],
   "source": [
    "import xarray as xr\n",
    "import numpy as np\n",
    "import pandas as pd"
   ]
  },
  {
   "cell_type": "code",
   "execution_count": 4,
   "metadata": {
    "execution": {
     "iopub.execute_input": "2021-06-10T19:54:33.661462Z",
     "iopub.status.busy": "2021-06-10T19:54:33.661277Z",
     "iopub.status.idle": "2021-06-10T19:54:33.675307Z",
     "shell.execute_reply": "2021-06-10T19:54:33.674649Z",
     "shell.execute_reply.started": "2021-06-10T19:54:33.661439Z"
    }
   },
   "outputs": [
    {
     "data": {
      "text/plain": [
       "<xarray.core.options.set_options at 0x7f90b9111910>"
      ]
     },
     "execution_count": 4,
     "metadata": {},
     "output_type": "execute_result"
    }
   ],
   "source": [
    "xr.set_options(keep_attrs=True)"
   ]
  },
  {
   "cell_type": "code",
   "execution_count": 5,
   "metadata": {
    "execution": {
     "iopub.execute_input": "2021-06-10T19:54:33.676224Z",
     "iopub.status.busy": "2021-06-10T19:54:33.676083Z",
     "iopub.status.idle": "2021-06-10T19:54:33.690418Z",
     "shell.execute_reply": "2021-06-10T19:54:33.689688Z",
     "shell.execute_reply.started": "2021-06-10T19:54:33.676206Z"
    }
   },
   "outputs": [],
   "source": [
    "import ecephys_analyses as ea \n",
    "from ecephys import utils\n",
    "from ecephys.signal.xarray_utils import filter_dataset_by_hypnogram"
   ]
  },
  {
   "cell_type": "code",
   "execution_count": 6,
   "metadata": {
    "execution": {
     "iopub.execute_input": "2021-06-10T19:54:33.691200Z",
     "iopub.status.busy": "2021-06-10T19:54:33.691062Z",
     "iopub.status.idle": "2021-06-10T19:54:33.702544Z",
     "shell.execute_reply": "2021-06-10T19:54:33.701622Z",
     "shell.execute_reply.started": "2021-06-10T19:54:33.691184Z"
    }
   },
   "outputs": [],
   "source": [
    "def ds2df(ds):\n",
    "    s = ds.to_dataframe().stack()\n",
    "    s.index.names = s.index.names[:-1] + ['region']\n",
    "    return s.to_frame(name='power')"
   ]
  },
  {
   "cell_type": "code",
   "execution_count": 7,
   "metadata": {
    "execution": {
     "iopub.execute_input": "2021-06-10T19:54:33.703397Z",
     "iopub.status.busy": "2021-06-10T19:54:33.703274Z",
     "iopub.status.idle": "2021-06-10T19:54:33.714687Z",
     "shell.execute_reply": "2021-06-10T19:54:33.713765Z",
     "shell.execute_reply.started": "2021-06-10T19:54:33.703382Z"
    }
   },
   "outputs": [],
   "source": [
    "subject = \"Allan\"\n",
    "experiment = \"sleep-homeostasis\"\n",
    "norm_condition = \"light-period-circadian-match\"\n",
    "bsl_condition = \"recovery-sleep-circadian-match\"\n",
    "rec_condition = \"recovery-sleep\"\n",
    "states = [\"N1\", \"N2\"]\n",
    "duration = '02:00:00'\n",
    "light_period_start = '09:00:00'\n",
    "light_period_end = '21:00:00'\n",
    "f_range = (0.5, 4)"
   ]
  },
  {
   "cell_type": "code",
   "execution_count": 8,
   "metadata": {
    "execution": {
     "iopub.execute_input": "2021-06-10T19:54:33.715445Z",
     "iopub.status.busy": "2021-06-10T19:54:33.715315Z",
     "iopub.status.idle": "2021-06-10T19:54:40.528151Z",
     "shell.execute_reply": "2021-06-10T19:54:40.527284Z",
     "shell.execute_reply.started": "2021-06-10T19:54:33.715429Z"
    }
   },
   "outputs": [],
   "source": [
    "norm_hyp = ea.load_hypnogram(subject, experiment, norm_condition)\n",
    "norm_hyp = norm_hyp.keep_states(states).keep_between(light_period_start, light_period_end)\n",
    "\n",
    "norm_pow = ea.load_power(subject, experiment, norm_condition, \"spg.nc\").sel(frequency=slice(*f_range)).sum(dim=\"frequency\")\n",
    "norm_pow = filter_dataset_by_hypnogram(norm_pow, norm_hyp).swap_dims({'time': 'datetime'}).drop_vars(['time', 'timedelta'])"
   ]
  },
  {
   "cell_type": "code",
   "execution_count": 9,
   "metadata": {
    "execution": {
     "iopub.execute_input": "2021-06-10T19:54:40.530106Z",
     "iopub.status.busy": "2021-06-10T19:54:40.529935Z",
     "iopub.status.idle": "2021-06-10T19:54:41.987659Z",
     "shell.execute_reply": "2021-06-10T19:54:41.986830Z",
     "shell.execute_reply.started": "2021-06-10T19:54:40.530085Z"
    }
   },
   "outputs": [],
   "source": [
    "rec_hyp = ea.load_hypnogram(subject, experiment, rec_condition)\n",
    "rec_hyp = rec_hyp.keep_states(states).keep_first(duration)\n",
    "\n",
    "rec_pow = ea.load_power(subject, experiment, rec_condition, \"spg.nc\").sel(frequency=slice(*f_range)).sum(dim='frequency')\n",
    "rec_pow = filter_dataset_by_hypnogram(rec_pow, rec_hyp).swap_dims({'time': 'datetime'}).drop_vars(['time', 'timedelta'])\n",
    "rec_pow = rec_pow / norm_pow.mean(dim=\"datetime\") * 100"
   ]
  },
  {
   "cell_type": "code",
   "execution_count": 10,
   "metadata": {
    "execution": {
     "iopub.execute_input": "2021-06-10T19:54:41.989102Z",
     "iopub.status.busy": "2021-06-10T19:54:41.988954Z",
     "iopub.status.idle": "2021-06-10T19:54:43.809738Z",
     "shell.execute_reply": "2021-06-10T19:54:43.808603Z",
     "shell.execute_reply.started": "2021-06-10T19:54:41.989082Z"
    }
   },
   "outputs": [],
   "source": [
    "bsl_hyp = ea.load_hypnogram(subject, experiment, bsl_condition)\n",
    "bsl_hyp = bsl_hyp.keep_states(states).keep_between(rec_hyp.start_time.min().strftime(\"%H:%M:%S\"), light_period_end).keep_first(duration)\n",
    "\n",
    "bsl_pow = ea.load_power(subject, experiment, bsl_condition, \"spg.nc\").sel(frequency=slice(*f_range)).sum(dim='frequency')\n",
    "bsl_pow = filter_dataset_by_hypnogram(bsl_pow, bsl_hyp).swap_dims({'time': 'datetime'}).drop_vars(['time', 'timedelta'])\n",
    "bsl_pow = bsl_pow / norm_pow.mean(dim=\"datetime\") * 100"
   ]
  },
  {
   "cell_type": "code",
   "execution_count": 11,
   "metadata": {
    "execution": {
     "iopub.execute_input": "2021-06-10T19:54:43.811301Z",
     "iopub.status.busy": "2021-06-10T19:54:43.811110Z",
     "iopub.status.idle": "2021-06-10T19:54:43.832781Z",
     "shell.execute_reply": "2021-06-10T19:54:43.832116Z",
     "shell.execute_reply.started": "2021-06-10T19:54:43.811279Z"
    }
   },
   "outputs": [],
   "source": [
    "nrem_pow = pd.concat([ds2df(bsl_pow).assign(condition=\"baseline\"), ds2df(rec_pow).assign(condition=\"recovery\")])"
   ]
  },
  {
   "cell_type": "code",
   "execution_count": 12,
   "metadata": {
    "execution": {
     "iopub.execute_input": "2021-06-10T19:54:43.833740Z",
     "iopub.status.busy": "2021-06-10T19:54:43.833610Z",
     "iopub.status.idle": "2021-06-10T19:54:43.853280Z",
     "shell.execute_reply": "2021-06-10T19:54:43.852630Z",
     "shell.execute_reply.started": "2021-06-10T19:54:43.833725Z"
    }
   },
   "outputs": [
    {
     "data": {
      "text/html": [
       "<div>\n",
       "<style scoped>\n",
       "    .dataframe tbody tr th:only-of-type {\n",
       "        vertical-align: middle;\n",
       "    }\n",
       "\n",
       "    .dataframe tbody tr th {\n",
       "        vertical-align: top;\n",
       "    }\n",
       "\n",
       "    .dataframe thead th {\n",
       "        text-align: right;\n",
       "    }\n",
       "</style>\n",
       "<table border=\"1\" class=\"dataframe\">\n",
       "  <thead>\n",
       "    <tr style=\"text-align: right;\">\n",
       "      <th></th>\n",
       "      <th></th>\n",
       "      <th>power</th>\n",
       "      <th>condition</th>\n",
       "    </tr>\n",
       "    <tr>\n",
       "      <th>datetime</th>\n",
       "      <th>region</th>\n",
       "      <th></th>\n",
       "      <th></th>\n",
       "    </tr>\n",
       "  </thead>\n",
       "  <tbody>\n",
       "    <tr>\n",
       "      <th rowspan=\"2\" valign=\"top\">2021-03-01 15:01:46.000138841</th>\n",
       "      <th>mpta_wm_ref</th>\n",
       "      <td>48.137691</td>\n",
       "      <td>baseline</td>\n",
       "    </tr>\n",
       "    <tr>\n",
       "      <th>sr_wm_ref</th>\n",
       "      <td>93.659193</td>\n",
       "      <td>baseline</td>\n",
       "    </tr>\n",
       "    <tr>\n",
       "      <th rowspan=\"2\" valign=\"top\">2021-03-01 15:01:49.000139731</th>\n",
       "      <th>mpta_wm_ref</th>\n",
       "      <td>97.065576</td>\n",
       "      <td>baseline</td>\n",
       "    </tr>\n",
       "    <tr>\n",
       "      <th>sr_wm_ref</th>\n",
       "      <td>83.565417</td>\n",
       "      <td>baseline</td>\n",
       "    </tr>\n",
       "    <tr>\n",
       "      <th>2021-03-01 15:01:52.000140621</th>\n",
       "      <th>mpta_wm_ref</th>\n",
       "      <td>104.384563</td>\n",
       "      <td>baseline</td>\n",
       "    </tr>\n",
       "    <tr>\n",
       "      <th>...</th>\n",
       "      <th>...</th>\n",
       "      <td>...</td>\n",
       "      <td>...</td>\n",
       "    </tr>\n",
       "    <tr>\n",
       "      <th>2021-03-02 18:09:16.999961706</th>\n",
       "      <th>sr_wm_ref</th>\n",
       "      <td>193.096412</td>\n",
       "      <td>recovery</td>\n",
       "    </tr>\n",
       "    <tr>\n",
       "      <th rowspan=\"2\" valign=\"top\">2021-03-02 18:09:37.999967937</th>\n",
       "      <th>mpta_wm_ref</th>\n",
       "      <td>85.517224</td>\n",
       "      <td>recovery</td>\n",
       "    </tr>\n",
       "    <tr>\n",
       "      <th>sr_wm_ref</th>\n",
       "      <td>138.732316</td>\n",
       "      <td>recovery</td>\n",
       "    </tr>\n",
       "    <tr>\n",
       "      <th rowspan=\"2\" valign=\"top\">2021-03-02 18:09:40.999968827</th>\n",
       "      <th>mpta_wm_ref</th>\n",
       "      <td>119.167848</td>\n",
       "      <td>recovery</td>\n",
       "    </tr>\n",
       "    <tr>\n",
       "      <th>sr_wm_ref</th>\n",
       "      <td>168.662658</td>\n",
       "      <td>recovery</td>\n",
       "    </tr>\n",
       "  </tbody>\n",
       "</table>\n",
       "<p>9550 rows × 2 columns</p>\n",
       "</div>"
      ],
      "text/plain": [
       "                                                power condition\n",
       "datetime                      region                           \n",
       "2021-03-01 15:01:46.000138841 mpta_wm_ref   48.137691  baseline\n",
       "                              sr_wm_ref     93.659193  baseline\n",
       "2021-03-01 15:01:49.000139731 mpta_wm_ref   97.065576  baseline\n",
       "                              sr_wm_ref     83.565417  baseline\n",
       "2021-03-01 15:01:52.000140621 mpta_wm_ref  104.384563  baseline\n",
       "...                                               ...       ...\n",
       "2021-03-02 18:09:16.999961706 sr_wm_ref    193.096412  recovery\n",
       "2021-03-02 18:09:37.999967937 mpta_wm_ref   85.517224  recovery\n",
       "                              sr_wm_ref    138.732316  recovery\n",
       "2021-03-02 18:09:40.999968827 mpta_wm_ref  119.167848  recovery\n",
       "                              sr_wm_ref    168.662658  recovery\n",
       "\n",
       "[9550 rows x 2 columns]"
      ]
     },
     "execution_count": 12,
     "metadata": {},
     "output_type": "execute_result"
    }
   ],
   "source": [
    "nrem_pow"
   ]
  },
  {
   "cell_type": "code",
   "execution_count": 13,
   "metadata": {
    "execution": {
     "iopub.execute_input": "2021-06-10T19:54:43.854075Z",
     "iopub.status.busy": "2021-06-10T19:54:43.853952Z",
     "iopub.status.idle": "2021-06-10T19:54:44.774921Z",
     "shell.execute_reply": "2021-06-10T19:54:44.774343Z",
     "shell.execute_reply.started": "2021-06-10T19:54:43.854060Z"
    }
   },
   "outputs": [
    {
     "data": {
      "image/png": "[encoded data removed]",
      "text/plain": [
       "<Figure size 799.5x360 with 2 Axes>"
      ]
     },
     "metadata": {
      "needs_background": "light"
     },
     "output_type": "display_data"
    }
   ],
   "source": [
    "g = sns.displot(data=nrem_pow, x='power', hue='condition', col='region', kind='hist')\n",
    "g.set(xlabel='Delta (0.5 - 4Hz) PSD (uV^2/Hz)')\n",
    "g.tight_layout()"
   ]
  },
  {
   "cell_type": "code",
   "execution_count": 14,
   "metadata": {
    "execution": {
     "iopub.execute_input": "2021-06-10T19:54:44.775855Z",
     "iopub.status.busy": "2021-06-10T19:54:44.775713Z",
     "iopub.status.idle": "2021-06-10T19:54:45.493308Z",
     "shell.execute_reply": "2021-06-10T19:54:45.492499Z",
     "shell.execute_reply.started": "2021-06-10T19:54:44.775838Z"
    }
   },
   "outputs": [
    {
     "data": {
      "image/png": "[encoded data removed]",
      "text/plain": [
       "<Figure size 799.5x360 with 2 Axes>"
      ]
     },
     "metadata": {
      "needs_background": "light"
     },
     "output_type": "display_data"
    }
   ],
   "source": [
    "nrem_pow_log = nrem_pow.copy()\n",
    "nrem_pow_log['power'] = np.log(nrem_pow.power)\n",
    "\n",
    "g = sns.displot(data=nrem_pow_log, x='power', hue='condition', col='region', kind='hist')\n",
    "g.set(xlabel='Delta (0.5 - 4Hz) PSD (uV^2/Hz)')\n",
    "g.tight_layout()"
   ]
  },
  {
   "cell_type": "code",
   "execution_count": 15,
   "metadata": {
    "execution": {
     "iopub.execute_input": "2021-06-10T19:54:45.495818Z",
     "iopub.status.busy": "2021-06-10T19:54:45.495381Z",
     "iopub.status.idle": "2021-06-10T19:54:46.263833Z",
     "shell.execute_reply": "2021-06-10T19:54:46.263097Z",
     "shell.execute_reply.started": "2021-06-10T19:54:45.495762Z"
    }
   },
   "outputs": [
    {
     "data": {
      "image/png": "[encoded data removed]",
      "text/plain": [
       "<Figure size 799.5x360 with 2 Axes>"
      ]
     },
     "metadata": {
      "needs_background": "light"
     },
     "output_type": "display_data"
    }
   ],
   "source": [
    "nrem_pow_sqrt = nrem_pow.copy()\n",
    "nrem_pow_sqrt['power'] = np.sqrt(nrem_pow.power)\n",
    "\n",
    "g = sns.displot(data=nrem_pow_sqrt, x='power', hue='condition', col='region', kind='hist')\n",
    "g.set(xlabel='Delta (0.5 - 4Hz) PSD (uV^2/Hz)')\n",
    "g.tight_layout()"
   ]
  },
  {
   "cell_type": "code",
   "execution_count": 16,
   "metadata": {
    "execution": {
     "iopub.execute_input": "2021-06-10T19:54:46.264906Z",
     "iopub.status.busy": "2021-06-10T19:54:46.264757Z",
     "iopub.status.idle": "2021-06-10T19:54:46.279404Z",
     "shell.execute_reply": "2021-06-10T19:54:46.278551Z",
     "shell.execute_reply.started": "2021-06-10T19:54:46.264888Z"
    }
   },
   "outputs": [],
   "source": [
    "def difference_of_means(df):\n",
    "    means = df.groupby(['condition', 'region']).mean()\n",
    "    return means.xs('recovery') - means.xs('baseline')"
   ]
  },
  {
   "cell_type": "code",
   "execution_count": 17,
   "metadata": {
    "execution": {
     "iopub.execute_input": "2021-06-10T19:54:46.280298Z",
     "iopub.status.busy": "2021-06-10T19:54:46.280168Z",
     "iopub.status.idle": "2021-06-10T19:55:10.250752Z",
     "shell.execute_reply": "2021-06-10T19:55:10.249721Z",
     "shell.execute_reply.started": "2021-06-10T19:54:46.280281Z"
    }
   },
   "outputs": [],
   "source": [
    "observed = difference_of_means(nrem_pow)\n",
    "\n",
    "n_permutations = 10000\n",
    "permutations = list()\n",
    "permuted = nrem_pow.copy()\n",
    "for i in range(n_permutations):\n",
    "    np.random.shuffle(permuted.condition.values)\n",
    "    permutations.append(difference_of_means(permuted))\n",
    "    \n",
    "df = pd.concat(permutations)"
   ]
  },
  {
   "cell_type": "code",
   "execution_count": 18,
   "metadata": {
    "execution": {
     "iopub.execute_input": "2021-06-10T19:55:10.252000Z",
     "iopub.status.busy": "2021-06-10T19:55:10.251835Z",
     "iopub.status.idle": "2021-06-10T19:55:10.801281Z",
     "shell.execute_reply": "2021-06-10T19:55:10.800724Z",
     "shell.execute_reply.started": "2021-06-10T19:55:10.251982Z"
    }
   },
   "outputs": [
    {
     "data": {
      "image/png": "[encoded data removed]",
      "text/plain": [
       "<Figure size 720x360 with 2 Axes>"
      ]
     },
     "metadata": {
      "needs_background": "light"
     },
     "output_type": "display_data"
    }
   ],
   "source": [
    "g = sns.displot(data=df, x='power', col='region', kind='hist')\n",
    "g.set(xlabel='Difference of means (SD - BL)')\n",
    "g.tight_layout()"
   ]
  },
  {
   "cell_type": "code",
   "execution_count": 19,
   "metadata": {
    "execution": {
     "iopub.execute_input": "2021-06-10T19:55:10.802062Z",
     "iopub.status.busy": "2021-06-10T19:55:10.801924Z",
     "iopub.status.idle": "2021-06-10T19:55:10.821495Z",
     "shell.execute_reply": "2021-06-10T19:55:10.821005Z",
     "shell.execute_reply.started": "2021-06-10T19:55:10.802045Z"
    }
   },
   "outputs": [],
   "source": [
    "cx = df.xs('mpta_wm_ref').sort_values('power')\n",
    "hc = df.xs('sr_wm_ref').sort_values('power')"
   ]
  },
  {
   "cell_type": "code",
   "execution_count": 20,
   "metadata": {
    "execution": {
     "iopub.execute_input": "2021-06-10T19:55:10.822300Z",
     "iopub.status.busy": "2021-06-10T19:55:10.822166Z",
     "iopub.status.idle": "2021-06-10T19:55:10.835067Z",
     "shell.execute_reply": "2021-06-10T19:55:10.834441Z",
     "shell.execute_reply.started": "2021-06-10T19:55:10.822284Z"
    }
   },
   "outputs": [],
   "source": [
    "pcx = np.sum(cx.power.values >= observed.xs('mpta_wm_ref').values)"
   ]
  },
  {
   "cell_type": "code",
   "execution_count": 21,
   "metadata": {
    "execution": {
     "iopub.execute_input": "2021-06-10T19:55:10.835847Z",
     "iopub.status.busy": "2021-06-10T19:55:10.835718Z",
     "iopub.status.idle": "2021-06-10T19:55:10.846152Z",
     "shell.execute_reply": "2021-06-10T19:55:10.845502Z",
     "shell.execute_reply.started": "2021-06-10T19:55:10.835832Z"
    }
   },
   "outputs": [],
   "source": [
    "phc = np.sum(hc.power.values >= observed.xs('sr_wm_ref').values)"
   ]
  },
  {
   "cell_type": "code",
   "execution_count": 22,
   "metadata": {
    "execution": {
     "iopub.execute_input": "2021-06-10T19:55:10.846865Z",
     "iopub.status.busy": "2021-06-10T19:55:10.846742Z",
     "iopub.status.idle": "2021-06-10T19:55:10.862125Z",
     "shell.execute_reply": "2021-06-10T19:55:10.861445Z",
     "shell.execute_reply.started": "2021-06-10T19:55:10.846850Z"
    }
   },
   "outputs": [
    {
     "name": "stdout",
     "output_type": "stream",
     "text": [
      "Subject: Allan\n",
      "Observed differences, Mean SD - Mean BSL:\n",
      "\n",
      "| region      |    power |\n",
      "|:------------|---------:|\n",
      "| mpta_wm_ref | 189.006  |\n",
      "| sr_wm_ref   |  33.7885 |\n",
      "\n",
      "\n",
      "Shuffled differences >= observed:\n",
      "Cortex: 1 / 10000\n",
      "Hippocampus: 1 / 10000\n"
     ]
    }
   ],
   "source": [
    "print(f\"Subject: {subject}\")\n",
    "print('Observed differences, Mean SD - Mean BSL:\\n')\n",
    "print(observed.to_markdown())\n",
    "print('\\n')\n",
    "print('Shuffled differences >= observed:')\n",
    "print(f\"Cortex: {1 + pcx} / {n_permutations}\")\n",
    "print(f\"Hippocampus: {1 + phc} / {n_permutations}\")"
   ]
  },
  {
   "cell_type": "code",
   "execution_count": null,
   "metadata": {},
   "outputs": [],
   "source": []
  }
 ],
 "metadata": {
  "kernelspec": {
   "display_name": "Python 3",
   "language": "python",
   "name": "python3"
  },
  "language_info": {
   "codemirror_mode": {
    "name": "ipython",
    "version": 3
   },
   "file_extension": ".py",
   "mimetype": "text/x-python",
   "name": "python",
   "nbconvert_exporter": "python",
   "pygments_lexer": "ipython3",
   "version": "3.7.9"
  }
 },
 "nbformat": 4,
 "nbformat_minor": 4
}
