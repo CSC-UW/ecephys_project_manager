{
 "cells": [
  {
   "cell_type": "code",
   "execution_count": null,
   "metadata": {},
   "outputs": [],
   "source": [
    "%load_ext autoreload\n",
    "%autoreload 2"
   ]
  },
  {
   "cell_type": "code",
   "execution_count": 2,
   "metadata": {
    "execution": {
     "iopub.status.idle": "2021-06-10T19:58:31.384711Z",
     "shell.execute_reply": "2021-06-10T19:58:31.384195Z",
     "shell.execute_reply.started": "2021-06-10T19:58:30.737655Z"
    }
   },
   "outputs": [],
   "source": [
    "# %matplotlib widget\n",
    "import matplotlib.pyplot as plt\n",
    "import seaborn as sns"
   ]
  },
  {
   "cell_type": "code",
   "execution_count": 3,
   "metadata": {
    "execution": {
     "iopub.execute_input": "2021-06-10T19:58:31.387387Z",
     "iopub.status.busy": "2021-06-10T19:58:31.387253Z",
     "iopub.status.idle": "2021-06-10T19:58:31.672984Z",
     "shell.execute_reply": "2021-06-10T19:58:31.672366Z",
     "shell.execute_reply.started": "2021-06-10T19:58:31.387370Z"
    }
   },
   "outputs": [],
   "source": [
    "import xarray as xr\n",
    "import numpy as np\n",
    "import pandas as pd"
   ]
  },
  {
   "cell_type": "code",
   "execution_count": 4,
   "metadata": {
    "execution": {
     "iopub.execute_input": "2021-06-10T19:58:31.673791Z",
     "iopub.status.busy": "2021-06-10T19:58:31.673660Z",
     "iopub.status.idle": "2021-06-10T19:58:31.686908Z",
     "shell.execute_reply": "2021-06-10T19:58:31.686368Z",
     "shell.execute_reply.started": "2021-06-10T19:58:31.673774Z"
    }
   },
   "outputs": [
    {
     "data": {
      "text/plain": [
       "<xarray.core.options.set_options at 0x7f55b63ee510>"
      ]
     },
     "execution_count": 4,
     "metadata": {},
     "output_type": "execute_result"
    }
   ],
   "source": [
    "xr.set_options(keep_attrs=True)"
   ]
  },
  {
   "cell_type": "code",
   "execution_count": 5,
   "metadata": {
    "execution": {
     "iopub.execute_input": "2021-06-10T19:58:31.687572Z",
     "iopub.status.busy": "2021-06-10T19:58:31.687444Z",
     "iopub.status.idle": "2021-06-10T19:58:31.701776Z",
     "shell.execute_reply": "2021-06-10T19:58:31.701363Z",
     "shell.execute_reply.started": "2021-06-10T19:58:31.687556Z"
    }
   },
   "outputs": [],
   "source": [
    "import ecephys_analyses as ea \n",
    "from ecephys import utils\n",
    "from ecephys.signal.xarray_utils import filter_dataset_by_hypnogram"
   ]
  },
  {
   "cell_type": "code",
   "execution_count": 6,
   "metadata": {
    "execution": {
     "iopub.execute_input": "2021-06-10T19:58:31.702421Z",
     "iopub.status.busy": "2021-06-10T19:58:31.702291Z",
     "iopub.status.idle": "2021-06-10T19:58:31.715217Z",
     "shell.execute_reply": "2021-06-10T19:58:31.714755Z",
     "shell.execute_reply.started": "2021-06-10T19:58:31.702405Z"
    }
   },
   "outputs": [],
   "source": [
    "def ds2df(ds):\n",
    "    s = ds.to_dataframe().stack()\n",
    "    s.index.names = s.index.names[:-1] + ['region']\n",
    "    return s.to_frame(name='power')"
   ]
  },
  {
   "cell_type": "code",
   "execution_count": 7,
   "metadata": {
    "execution": {
     "iopub.execute_input": "2021-06-10T19:58:31.715863Z",
     "iopub.status.busy": "2021-06-10T19:58:31.715739Z",
     "iopub.status.idle": "2021-06-10T19:58:31.726479Z",
     "shell.execute_reply": "2021-06-10T19:58:31.725919Z",
     "shell.execute_reply.started": "2021-06-10T19:58:31.715848Z"
    }
   },
   "outputs": [],
   "source": [
    "subject = \"Segundo\"\n",
    "experiment = \"sleep-homeostasis\"\n",
    "norm_condition = \"light-period-circadian-match\"\n",
    "bsl_condition = \"recovery-sleep-circadian-match\"\n",
    "rec_condition = \"recovery-sleep\"\n",
    "states = [\"N1\", \"N2\"]\n",
    "duration = '02:00:00'\n",
    "light_period_start = '09:00:00'\n",
    "light_period_end = '21:00:00'\n",
    "f_range = (0.5, 4)"
   ]
  },
  {
   "cell_type": "code",
   "execution_count": 8,
   "metadata": {
    "execution": {
     "iopub.execute_input": "2021-06-10T19:58:31.728021Z",
     "iopub.status.busy": "2021-06-10T19:58:31.727888Z",
     "iopub.status.idle": "2021-06-10T19:58:35.069126Z",
     "shell.execute_reply": "2021-06-10T19:58:35.068382Z",
     "shell.execute_reply.started": "2021-06-10T19:58:31.728005Z"
    }
   },
   "outputs": [],
   "source": [
    "norm_hyp = ea.load_hypnogram(subject, experiment, norm_condition)\n",
    "norm_hyp = norm_hyp.keep_states(states).keep_between(light_period_start, light_period_end)\n",
    "\n",
    "norm_pow = ea.load_power(subject, experiment, norm_condition, \"spg.nc\").sel(frequency=slice(*f_range)).sum(dim=\"frequency\")\n",
    "norm_pow = filter_dataset_by_hypnogram(norm_pow, norm_hyp).swap_dims({'time': 'datetime'}).drop_vars(['time', 'timedelta'])"
   ]
  },
  {
   "cell_type": "code",
   "execution_count": 9,
   "metadata": {
    "execution": {
     "iopub.execute_input": "2021-06-10T19:58:35.070476Z",
     "iopub.status.busy": "2021-06-10T19:58:35.070323Z",
     "iopub.status.idle": "2021-06-10T19:58:36.642160Z",
     "shell.execute_reply": "2021-06-10T19:58:36.641571Z",
     "shell.execute_reply.started": "2021-06-10T19:58:35.070458Z"
    }
   },
   "outputs": [],
   "source": [
    "rec_hyp = ea.load_hypnogram(subject, experiment, rec_condition)\n",
    "rec_hyp = rec_hyp.keep_states(states).keep_first(duration)\n",
    "\n",
    "rec_pow = ea.load_power(subject, experiment, rec_condition, \"spg.nc\").sel(frequency=slice(*f_range)).sum(dim='frequency')\n",
    "rec_pow = filter_dataset_by_hypnogram(rec_pow, rec_hyp).swap_dims({'time': 'datetime'}).drop_vars(['time', 'timedelta'])\n",
    "rec_pow = rec_pow / norm_pow.mean(dim=\"datetime\") * 100"
   ]
  },
  {
   "cell_type": "code",
   "execution_count": 10,
   "metadata": {
    "execution": {
     "iopub.execute_input": "2021-06-10T19:58:36.643038Z",
     "iopub.status.busy": "2021-06-10T19:58:36.642892Z",
     "iopub.status.idle": "2021-06-10T19:58:38.284593Z",
     "shell.execute_reply": "2021-06-10T19:58:38.283888Z",
     "shell.execute_reply.started": "2021-06-10T19:58:36.643021Z"
    }
   },
   "outputs": [],
   "source": [
    "bsl_hyp = ea.load_hypnogram(subject, experiment, bsl_condition)\n",
    "bsl_hyp = bsl_hyp.keep_states(states).keep_between(rec_hyp.start_time.min().strftime(\"%H:%M:%S\"), light_period_end).keep_first(duration)\n",
    "\n",
    "bsl_pow = ea.load_power(subject, experiment, bsl_condition, \"spg.nc\").sel(frequency=slice(*f_range)).sum(dim='frequency')\n",
    "bsl_pow = filter_dataset_by_hypnogram(bsl_pow, bsl_hyp).swap_dims({'time': 'datetime'}).drop_vars(['time', 'timedelta'])\n",
    "bsl_pow = bsl_pow / norm_pow.mean(dim=\"datetime\") * 100"
   ]
  },
  {
   "cell_type": "code",
   "execution_count": 11,
   "metadata": {
    "execution": {
     "iopub.execute_input": "2021-06-10T19:58:38.285472Z",
     "iopub.status.busy": "2021-06-10T19:58:38.285330Z",
     "iopub.status.idle": "2021-06-10T19:58:38.303437Z",
     "shell.execute_reply": "2021-06-10T19:58:38.302816Z",
     "shell.execute_reply.started": "2021-06-10T19:58:38.285454Z"
    }
   },
   "outputs": [],
   "source": [
    "nrem_pow = pd.concat([ds2df(bsl_pow).assign(condition=\"baseline\"), ds2df(rec_pow).assign(condition=\"recovery\")])"
   ]
  },
  {
   "cell_type": "code",
   "execution_count": 12,
   "metadata": {
    "execution": {
     "iopub.execute_input": "2021-06-10T19:58:38.304202Z",
     "iopub.status.busy": "2021-06-10T19:58:38.304073Z",
     "iopub.status.idle": "2021-06-10T19:58:38.325841Z",
     "shell.execute_reply": "2021-06-10T19:58:38.325425Z",
     "shell.execute_reply.started": "2021-06-10T19:58:38.304186Z"
    }
   },
   "outputs": [
    {
     "data": {
      "text/html": [
       "<div>\n",
       "<style scoped>\n",
       "    .dataframe tbody tr th:only-of-type {\n",
       "        vertical-align: middle;\n",
       "    }\n",
       "\n",
       "    .dataframe tbody tr th {\n",
       "        vertical-align: top;\n",
       "    }\n",
       "\n",
       "    .dataframe thead th {\n",
       "        text-align: right;\n",
       "    }\n",
       "</style>\n",
       "<table border=\"1\" class=\"dataframe\">\n",
       "  <thead>\n",
       "    <tr style=\"text-align: right;\">\n",
       "      <th></th>\n",
       "      <th></th>\n",
       "      <th>power</th>\n",
       "      <th>condition</th>\n",
       "    </tr>\n",
       "    <tr>\n",
       "      <th>datetime</th>\n",
       "      <th>region</th>\n",
       "      <th></th>\n",
       "      <th></th>\n",
       "    </tr>\n",
       "  </thead>\n",
       "  <tbody>\n",
       "    <tr>\n",
       "      <th rowspan=\"2\" valign=\"top\">2020-01-22 15:17:53</th>\n",
       "      <th>mpta_wm_ref</th>\n",
       "      <td>11.042340</td>\n",
       "      <td>baseline</td>\n",
       "    </tr>\n",
       "    <tr>\n",
       "      <th>sr_wm_ref</th>\n",
       "      <td>35.280193</td>\n",
       "      <td>baseline</td>\n",
       "    </tr>\n",
       "    <tr>\n",
       "      <th rowspan=\"2\" valign=\"top\">2020-01-22 15:17:56</th>\n",
       "      <th>mpta_wm_ref</th>\n",
       "      <td>5.083761</td>\n",
       "      <td>baseline</td>\n",
       "    </tr>\n",
       "    <tr>\n",
       "      <th>sr_wm_ref</th>\n",
       "      <td>21.049922</td>\n",
       "      <td>baseline</td>\n",
       "    </tr>\n",
       "    <tr>\n",
       "      <th>2020-01-22 15:18:14</th>\n",
       "      <th>mpta_wm_ref</th>\n",
       "      <td>4.539901</td>\n",
       "      <td>baseline</td>\n",
       "    </tr>\n",
       "    <tr>\n",
       "      <th>...</th>\n",
       "      <th>...</th>\n",
       "      <td>...</td>\n",
       "      <td>...</td>\n",
       "    </tr>\n",
       "    <tr>\n",
       "      <th>2020-01-23 18:41:38</th>\n",
       "      <th>sr_wm_ref</th>\n",
       "      <td>85.321279</td>\n",
       "      <td>recovery</td>\n",
       "    </tr>\n",
       "    <tr>\n",
       "      <th rowspan=\"2\" valign=\"top\">2020-01-23 18:41:41</th>\n",
       "      <th>mpta_wm_ref</th>\n",
       "      <td>113.484671</td>\n",
       "      <td>recovery</td>\n",
       "    </tr>\n",
       "    <tr>\n",
       "      <th>sr_wm_ref</th>\n",
       "      <td>110.291088</td>\n",
       "      <td>recovery</td>\n",
       "    </tr>\n",
       "    <tr>\n",
       "      <th rowspan=\"2\" valign=\"top\">2020-01-23 18:41:44</th>\n",
       "      <th>mpta_wm_ref</th>\n",
       "      <td>85.995982</td>\n",
       "      <td>recovery</td>\n",
       "    </tr>\n",
       "    <tr>\n",
       "      <th>sr_wm_ref</th>\n",
       "      <td>176.382399</td>\n",
       "      <td>recovery</td>\n",
       "    </tr>\n",
       "  </tbody>\n",
       "</table>\n",
       "<p>9436 rows × 2 columns</p>\n",
       "</div>"
      ],
      "text/plain": [
       "                                      power condition\n",
       "datetime            region                           \n",
       "2020-01-22 15:17:53 mpta_wm_ref   11.042340  baseline\n",
       "                    sr_wm_ref     35.280193  baseline\n",
       "2020-01-22 15:17:56 mpta_wm_ref    5.083761  baseline\n",
       "                    sr_wm_ref     21.049922  baseline\n",
       "2020-01-22 15:18:14 mpta_wm_ref    4.539901  baseline\n",
       "...                                     ...       ...\n",
       "2020-01-23 18:41:38 sr_wm_ref     85.321279  recovery\n",
       "2020-01-23 18:41:41 mpta_wm_ref  113.484671  recovery\n",
       "                    sr_wm_ref    110.291088  recovery\n",
       "2020-01-23 18:41:44 mpta_wm_ref   85.995982  recovery\n",
       "                    sr_wm_ref    176.382399  recovery\n",
       "\n",
       "[9436 rows x 2 columns]"
      ]
     },
     "execution_count": 12,
     "metadata": {},
     "output_type": "execute_result"
    }
   ],
   "source": [
    "nrem_pow"
   ]
  },
  {
   "cell_type": "code",
   "execution_count": 13,
   "metadata": {
    "execution": {
     "iopub.execute_input": "2021-06-10T19:58:38.326472Z",
     "iopub.status.busy": "2021-06-10T19:58:38.326348Z",
     "iopub.status.idle": "2021-06-10T19:58:39.368449Z",
     "shell.execute_reply": "2021-06-10T19:58:39.367749Z",
     "shell.execute_reply.started": "2021-06-10T19:58:38.326457Z"
    }
   },
   "outputs": [
    {
     "data": {
      "image/png": "[encoded data removed]",
      "text/plain": [
       "<Figure size 799.5x360 with 2 Axes>"
      ]
     },
     "metadata": {
      "needs_background": "light"
     },
     "output_type": "display_data"
    }
   ],
   "source": [
    "g = sns.displot(data=nrem_pow, x='power', hue='condition', col='region', kind='hist')\n",
    "g.set(xlabel='Delta (0.5 - 4Hz) PSD (uV^2/Hz)')\n",
    "g.tight_layout()"
   ]
  },
  {
   "cell_type": "code",
   "execution_count": 14,
   "metadata": {
    "execution": {
     "iopub.execute_input": "2021-06-10T19:58:39.369742Z",
     "iopub.status.busy": "2021-06-10T19:58:39.369518Z",
     "iopub.status.idle": "2021-06-10T19:58:40.165046Z",
     "shell.execute_reply": "2021-06-10T19:58:40.164607Z",
     "shell.execute_reply.started": "2021-06-10T19:58:39.369714Z"
    }
   },
   "outputs": [
    {
     "data": {
      "image/png": "[encoded data removed]",
      "text/plain": [
       "<Figure size 799.5x360 with 2 Axes>"
      ]
     },
     "metadata": {
      "needs_background": "light"
     },
     "output_type": "display_data"
    }
   ],
   "source": [
    "nrem_pow_log = nrem_pow.copy()\n",
    "nrem_pow_log['power'] = np.log(nrem_pow.power)\n",
    "\n",
    "g = sns.displot(data=nrem_pow_log, x='power', hue='condition', col='region', kind='hist')\n",
    "g.set(xlabel='Delta (0.5 - 4Hz) PSD (uV^2/Hz)')\n",
    "g.tight_layout()"
   ]
  },
  {
   "cell_type": "code",
   "execution_count": 15,
   "metadata": {
    "execution": {
     "iopub.execute_input": "2021-06-10T19:58:40.165830Z",
     "iopub.status.busy": "2021-06-10T19:58:40.165693Z",
     "iopub.status.idle": "2021-06-10T19:58:40.987755Z",
     "shell.execute_reply": "2021-06-10T19:58:40.987219Z",
     "shell.execute_reply.started": "2021-06-10T19:58:40.165813Z"
    }
   },
   "outputs": [
    {
     "data": {
      "image/png": "[encoded data removed]",
      "text/plain": [
       "<Figure size 799.5x360 with 2 Axes>"
      ]
     },
     "metadata": {
      "needs_background": "light"
     },
     "output_type": "display_data"
    }
   ],
   "source": [
    "nrem_pow_sqrt = nrem_pow.copy()\n",
    "nrem_pow_sqrt['power'] = np.sqrt(nrem_pow.power)\n",
    "\n",
    "g = sns.displot(data=nrem_pow_sqrt, x='power', hue='condition', col='region', kind='hist')\n",
    "g.set(xlabel='Delta (0.5 - 4Hz) PSD (uV^2/Hz)')\n",
    "g.tight_layout()"
   ]
  },
  {
   "cell_type": "code",
   "execution_count": 16,
   "metadata": {
    "execution": {
     "iopub.execute_input": "2021-06-10T19:58:40.988573Z",
     "iopub.status.busy": "2021-06-10T19:58:40.988435Z",
     "iopub.status.idle": "2021-06-10T19:58:41.001308Z",
     "shell.execute_reply": "2021-06-10T19:58:41.000779Z",
     "shell.execute_reply.started": "2021-06-10T19:58:40.988556Z"
    }
   },
   "outputs": [],
   "source": [
    "def difference_of_means(df):\n",
    "    means = df.groupby(['condition', 'region']).mean()\n",
    "    return means.xs('recovery') - means.xs('baseline')"
   ]
  },
  {
   "cell_type": "code",
   "execution_count": 17,
   "metadata": {
    "execution": {
     "iopub.execute_input": "2021-06-10T19:58:41.002259Z",
     "iopub.status.busy": "2021-06-10T19:58:41.002124Z",
     "iopub.status.idle": "2021-06-10T19:59:06.273856Z",
     "shell.execute_reply": "2021-06-10T19:59:06.273084Z",
     "shell.execute_reply.started": "2021-06-10T19:58:41.002242Z"
    }
   },
   "outputs": [],
   "source": [
    "observed = difference_of_means(nrem_pow)\n",
    "\n",
    "n_permutations = 10000\n",
    "permutations = list()\n",
    "permuted = nrem_pow.copy()\n",
    "for i in range(n_permutations):\n",
    "    np.random.shuffle(permuted.condition.values)\n",
    "    permutations.append(difference_of_means(permuted))\n",
    "    \n",
    "df = pd.concat(permutations)"
   ]
  },
  {
   "cell_type": "code",
   "execution_count": 18,
   "metadata": {
    "execution": {
     "iopub.execute_input": "2021-06-10T19:59:06.274777Z",
     "iopub.status.busy": "2021-06-10T19:59:06.274628Z",
     "iopub.status.idle": "2021-06-10T19:59:06.935342Z",
     "shell.execute_reply": "2021-06-10T19:59:06.934394Z",
     "shell.execute_reply.started": "2021-06-10T19:59:06.274759Z"
    }
   },
   "outputs": [
    {
     "data": {
      "image/png": "[encoded data removed]",
      "text/plain": [
       "<Figure size 720x360 with 2 Axes>"
      ]
     },
     "metadata": {
      "needs_background": "light"
     },
     "output_type": "display_data"
    }
   ],
   "source": [
    "g = sns.displot(data=df, x='power', col='region', kind='hist')\n",
    "g.set(xlabel='Difference of means (SD - BL)')\n",
    "g.tight_layout()"
   ]
  },
  {
   "cell_type": "code",
   "execution_count": 19,
   "metadata": {
    "execution": {
     "iopub.execute_input": "2021-06-10T19:59:06.936226Z",
     "iopub.status.busy": "2021-06-10T19:59:06.936085Z",
     "iopub.status.idle": "2021-06-10T19:59:06.952774Z",
     "shell.execute_reply": "2021-06-10T19:59:06.952134Z",
     "shell.execute_reply.started": "2021-06-10T19:59:06.936209Z"
    }
   },
   "outputs": [],
   "source": [
    "cx = df.xs('mpta_wm_ref').sort_values('power')\n",
    "hc = df.xs('sr_wm_ref').sort_values('power')"
   ]
  },
  {
   "cell_type": "code",
   "execution_count": 20,
   "metadata": {
    "execution": {
     "iopub.execute_input": "2021-06-10T19:59:06.953566Z",
     "iopub.status.busy": "2021-06-10T19:59:06.953435Z",
     "iopub.status.idle": "2021-06-10T19:59:06.965102Z",
     "shell.execute_reply": "2021-06-10T19:59:06.964339Z",
     "shell.execute_reply.started": "2021-06-10T19:59:06.953550Z"
    }
   },
   "outputs": [],
   "source": [
    "pcx = np.sum(cx.power.values >= observed.xs('mpta_wm_ref').values)"
   ]
  },
  {
   "cell_type": "code",
   "execution_count": 21,
   "metadata": {
    "execution": {
     "iopub.execute_input": "2021-06-10T19:59:06.965786Z",
     "iopub.status.busy": "2021-06-10T19:59:06.965655Z",
     "iopub.status.idle": "2021-06-10T19:59:06.976113Z",
     "shell.execute_reply": "2021-06-10T19:59:06.975417Z",
     "shell.execute_reply.started": "2021-06-10T19:59:06.965766Z"
    }
   },
   "outputs": [],
   "source": [
    "phc = np.sum(hc.power.values >= observed.xs('sr_wm_ref').values)"
   ]
  },
  {
   "cell_type": "code",
   "execution_count": 22,
   "metadata": {
    "execution": {
     "iopub.execute_input": "2021-06-10T19:59:06.976844Z",
     "iopub.status.busy": "2021-06-10T19:59:06.976718Z",
     "iopub.status.idle": "2021-06-10T19:59:06.993641Z",
     "shell.execute_reply": "2021-06-10T19:59:06.993088Z",
     "shell.execute_reply.started": "2021-06-10T19:59:06.976829Z"
    }
   },
   "outputs": [
    {
     "name": "stdout",
     "output_type": "stream",
     "text": [
      "Subject: Segundo\n",
      "Observed differences, Mean SD - Mean BSL:\n",
      "\n",
      "| region      |   power |\n",
      "|:------------|--------:|\n",
      "| mpta_wm_ref | 174.666 |\n",
      "| sr_wm_ref   |  42.015 |\n",
      "\n",
      "\n",
      "Shuffled differences >= observed:\n",
      "Cortex: 1 / 10000\n",
      "Hippocampus: 1 / 10000\n"
     ]
    }
   ],
   "source": [
    "print(f\"Subject: {subject}\")\n",
    "print('Observed differences, Mean SD - Mean BSL:\\n')\n",
    "print(observed.to_markdown())\n",
    "print('\\n')\n",
    "print('Shuffled differences >= observed:')\n",
    "print(f\"Cortex: {1 + pcx} / {n_permutations}\")\n",
    "print(f\"Hippocampus: {1 + phc} / {n_permutations}\")"
   ]
  },
  {
   "cell_type": "code",
   "execution_count": null,
   "metadata": {},
   "outputs": [],
   "source": []
  }
 ],
 "metadata": {
  "kernelspec": {
   "display_name": "Python 3",
   "language": "python",
   "name": "python3"
  },
  "language_info": {
   "codemirror_mode": {
    "name": "ipython",
    "version": 3
   },
   "file_extension": ".py",
   "mimetype": "text/x-python",
   "name": "python",
   "nbconvert_exporter": "python",
   "pygments_lexer": "ipython3",
   "version": "3.7.9"
  }
 },
 "nbformat": 4,
 "nbformat_minor": 4
}
