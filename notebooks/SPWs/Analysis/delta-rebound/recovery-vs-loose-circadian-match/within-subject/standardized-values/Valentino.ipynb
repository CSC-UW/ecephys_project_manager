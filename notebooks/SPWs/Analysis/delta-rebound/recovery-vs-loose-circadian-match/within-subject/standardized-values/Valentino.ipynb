{
 "cells": [
  {
   "cell_type": "code",
   "execution_count": 1,
   "metadata": {
    "execution": {
     "iopub.execute_input": "2021-06-10T19:53:55.358061Z",
     "iopub.status.busy": "2021-06-10T19:53:55.357523Z",
     "iopub.status.idle": "2021-06-10T19:53:55.373371Z",
     "shell.execute_reply": "2021-06-10T19:53:55.372766Z",
     "shell.execute_reply.started": "2021-06-10T19:53:55.357908Z"
    }
   },
   "outputs": [],
   "source": [
    "%load_ext autoreload\n",
    "%autoreload 2"
   ]
  },
  {
   "cell_type": "code",
   "execution_count": 2,
   "metadata": {
    "execution": {
     "iopub.execute_input": "2021-06-10T19:53:55.374243Z",
     "iopub.status.busy": "2021-06-10T19:53:55.374114Z",
     "iopub.status.idle": "2021-06-10T19:53:55.959235Z",
     "shell.execute_reply": "2021-06-10T19:53:55.958732Z",
     "shell.execute_reply.started": "2021-06-10T19:53:55.374227Z"
    }
   },
   "outputs": [],
   "source": [
    "# %matplotlib widget\n",
    "import matplotlib.pyplot as plt\n",
    "import seaborn as sns"
   ]
  },
  {
   "cell_type": "code",
   "execution_count": 3,
   "metadata": {
    "execution": {
     "iopub.execute_input": "2021-06-10T19:53:55.960233Z",
     "iopub.status.busy": "2021-06-10T19:53:55.960101Z",
     "iopub.status.idle": "2021-06-10T19:53:56.248449Z",
     "shell.execute_reply": "2021-06-10T19:53:56.247729Z",
     "shell.execute_reply.started": "2021-06-10T19:53:55.960217Z"
    }
   },
   "outputs": [],
   "source": [
    "import xarray as xr\n",
    "import numpy as np\n",
    "import pandas as pd"
   ]
  },
  {
   "cell_type": "code",
   "execution_count": 4,
   "metadata": {
    "execution": {
     "iopub.execute_input": "2021-06-10T19:53:56.249529Z",
     "iopub.status.busy": "2021-06-10T19:53:56.249379Z",
     "iopub.status.idle": "2021-06-10T19:53:56.264388Z",
     "shell.execute_reply": "2021-06-10T19:53:56.263659Z",
     "shell.execute_reply.started": "2021-06-10T19:53:56.249511Z"
    }
   },
   "outputs": [
    {
     "data": {
      "text/plain": [
       "<xarray.core.options.set_options at 0x7f835a49b4d0>"
      ]
     },
     "execution_count": 4,
     "metadata": {},
     "output_type": "execute_result"
    }
   ],
   "source": [
    "xr.set_options(keep_attrs=True)"
   ]
  },
  {
   "cell_type": "code",
   "execution_count": 5,
   "metadata": {
    "execution": {
     "iopub.execute_input": "2021-06-10T19:53:56.265137Z",
     "iopub.status.busy": "2021-06-10T19:53:56.264997Z",
     "iopub.status.idle": "2021-06-10T19:53:56.277936Z",
     "shell.execute_reply": "2021-06-10T19:53:56.277170Z",
     "shell.execute_reply.started": "2021-06-10T19:53:56.265119Z"
    }
   },
   "outputs": [],
   "source": [
    "import ecephys_analyses as ea \n",
    "from ecephys import utils\n",
    "from ecephys.signal.xarray_utils import filter_dataset_by_hypnogram"
   ]
  },
  {
   "cell_type": "code",
   "execution_count": 6,
   "metadata": {
    "execution": {
     "iopub.execute_input": "2021-06-10T19:53:56.278642Z",
     "iopub.status.busy": "2021-06-10T19:53:56.278523Z",
     "iopub.status.idle": "2021-06-10T19:53:56.289399Z",
     "shell.execute_reply": "2021-06-10T19:53:56.288493Z",
     "shell.execute_reply.started": "2021-06-10T19:53:56.278626Z"
    }
   },
   "outputs": [],
   "source": [
    "def ds2df(ds):\n",
    "    s = ds.to_dataframe().stack()\n",
    "    s.index.names = s.index.names[:-1] + ['region']\n",
    "    return s.to_frame(name='power')"
   ]
  },
  {
   "cell_type": "code",
   "execution_count": 7,
   "metadata": {
    "execution": {
     "iopub.execute_input": "2021-06-10T19:53:56.290109Z",
     "iopub.status.busy": "2021-06-10T19:53:56.289992Z",
     "iopub.status.idle": "2021-06-10T19:53:56.301374Z",
     "shell.execute_reply": "2021-06-10T19:53:56.300428Z",
     "shell.execute_reply.started": "2021-06-10T19:53:56.290094Z"
    }
   },
   "outputs": [],
   "source": [
    "subject = \"Valentino\"\n",
    "experiment = \"sleep-homeostasis\"\n",
    "norm_condition = \"light-period-circadian-match\"\n",
    "bsl_condition = \"recovery-sleep-circadian-match\"\n",
    "rec_condition = \"recovery-sleep\"\n",
    "states = [\"N1\", \"N2\"]\n",
    "duration = '02:00:00'\n",
    "light_period_start = '09:00:00'\n",
    "light_period_end = '21:00:00'\n",
    "f_range = (0.5, 4)"
   ]
  },
  {
   "cell_type": "code",
   "execution_count": 8,
   "metadata": {
    "execution": {
     "iopub.execute_input": "2021-06-10T19:53:56.302072Z",
     "iopub.status.busy": "2021-06-10T19:53:56.301952Z",
     "iopub.status.idle": "2021-06-10T19:54:02.695098Z",
     "shell.execute_reply": "2021-06-10T19:54:02.694030Z",
     "shell.execute_reply.started": "2021-06-10T19:53:56.302056Z"
    }
   },
   "outputs": [],
   "source": [
    "norm_hyp = ea.load_hypnogram(subject, experiment, norm_condition)\n",
    "norm_hyp = norm_hyp.keep_states(states).keep_between(light_period_start, light_period_end)\n",
    "\n",
    "norm_pow = ea.load_power(subject, experiment, norm_condition, \"spg.nc\").sel(frequency=slice(*f_range)).sum(dim=\"frequency\")\n",
    "norm_pow = filter_dataset_by_hypnogram(norm_pow, norm_hyp).swap_dims({'time': 'datetime'}).drop_vars(['time', 'timedelta'])"
   ]
  },
  {
   "cell_type": "code",
   "execution_count": 9,
   "metadata": {
    "execution": {
     "iopub.execute_input": "2021-06-10T19:54:02.696998Z",
     "iopub.status.busy": "2021-06-10T19:54:02.696829Z",
     "iopub.status.idle": "2021-06-10T19:54:04.314247Z",
     "shell.execute_reply": "2021-06-10T19:54:04.313107Z",
     "shell.execute_reply.started": "2021-06-10T19:54:02.696979Z"
    }
   },
   "outputs": [],
   "source": [
    "rec_hyp = ea.load_hypnogram(subject, experiment, rec_condition)\n",
    "rec_hyp = rec_hyp.keep_states(states).keep_first(duration)\n",
    "\n",
    "rec_pow = ea.load_power(subject, experiment, rec_condition, \"spg.nc\").sel(frequency=slice(*f_range)).sum(dim='frequency')\n",
    "rec_pow = filter_dataset_by_hypnogram(rec_pow, rec_hyp).swap_dims({'time': 'datetime'}).drop_vars(['time', 'timedelta'])\n",
    "rec_pow = rec_pow / norm_pow.mean(dim=\"datetime\") * 100"
   ]
  },
  {
   "cell_type": "code",
   "execution_count": 10,
   "metadata": {
    "execution": {
     "iopub.execute_input": "2021-06-10T19:54:04.315459Z",
     "iopub.status.busy": "2021-06-10T19:54:04.315320Z",
     "iopub.status.idle": "2021-06-10T19:54:05.970281Z",
     "shell.execute_reply": "2021-06-10T19:54:05.969576Z",
     "shell.execute_reply.started": "2021-06-10T19:54:04.315442Z"
    }
   },
   "outputs": [],
   "source": [
    "bsl_hyp = ea.load_hypnogram(subject, experiment, bsl_condition)\n",
    "bsl_hyp = bsl_hyp.keep_states(states).keep_between(rec_hyp.start_time.min().strftime(\"%H:%M:%S\"), light_period_end).keep_first(duration)\n",
    "\n",
    "bsl_pow = ea.load_power(subject, experiment, bsl_condition, \"spg.nc\").sel(frequency=slice(*f_range)).sum(dim='frequency')\n",
    "bsl_pow = filter_dataset_by_hypnogram(bsl_pow, bsl_hyp).swap_dims({'time': 'datetime'}).drop_vars(['time', 'timedelta'])\n",
    "bsl_pow = bsl_pow / norm_pow.mean(dim=\"datetime\") * 100"
   ]
  },
  {
   "cell_type": "code",
   "execution_count": 11,
   "metadata": {
    "execution": {
     "iopub.execute_input": "2021-06-10T19:54:05.971167Z",
     "iopub.status.busy": "2021-06-10T19:54:05.971032Z",
     "iopub.status.idle": "2021-06-10T19:54:05.989201Z",
     "shell.execute_reply": "2021-06-10T19:54:05.988427Z",
     "shell.execute_reply.started": "2021-06-10T19:54:05.971150Z"
    }
   },
   "outputs": [],
   "source": [
    "nrem_pow = pd.concat([ds2df(bsl_pow).assign(condition=\"baseline\"), ds2df(rec_pow).assign(condition=\"recovery\")])"
   ]
  },
  {
   "cell_type": "code",
   "execution_count": 12,
   "metadata": {
    "execution": {
     "iopub.execute_input": "2021-06-10T19:54:05.989920Z",
     "iopub.status.busy": "2021-06-10T19:54:05.989797Z",
     "iopub.status.idle": "2021-06-10T19:54:06.009732Z",
     "shell.execute_reply": "2021-06-10T19:54:06.009147Z",
     "shell.execute_reply.started": "2021-06-10T19:54:05.989904Z"
    }
   },
   "outputs": [
    {
     "data": {
      "text/html": [
       "<div>\n",
       "<style scoped>\n",
       "    .dataframe tbody tr th:only-of-type {\n",
       "        vertical-align: middle;\n",
       "    }\n",
       "\n",
       "    .dataframe tbody tr th {\n",
       "        vertical-align: top;\n",
       "    }\n",
       "\n",
       "    .dataframe thead th {\n",
       "        text-align: right;\n",
       "    }\n",
       "</style>\n",
       "<table border=\"1\" class=\"dataframe\">\n",
       "  <thead>\n",
       "    <tr style=\"text-align: right;\">\n",
       "      <th></th>\n",
       "      <th></th>\n",
       "      <th>power</th>\n",
       "      <th>condition</th>\n",
       "    </tr>\n",
       "    <tr>\n",
       "      <th>datetime</th>\n",
       "      <th>region</th>\n",
       "      <th></th>\n",
       "      <th></th>\n",
       "    </tr>\n",
       "  </thead>\n",
       "  <tbody>\n",
       "    <tr>\n",
       "      <th rowspan=\"2\" valign=\"top\">2020-02-19 15:08:05</th>\n",
       "      <th>mpta_wm_ref</th>\n",
       "      <td>8.322469</td>\n",
       "      <td>baseline</td>\n",
       "    </tr>\n",
       "    <tr>\n",
       "      <th>sr_wm_ref</th>\n",
       "      <td>23.606334</td>\n",
       "      <td>baseline</td>\n",
       "    </tr>\n",
       "    <tr>\n",
       "      <th rowspan=\"2\" valign=\"top\">2020-02-19 15:08:08</th>\n",
       "      <th>mpta_wm_ref</th>\n",
       "      <td>12.742594</td>\n",
       "      <td>baseline</td>\n",
       "    </tr>\n",
       "    <tr>\n",
       "      <th>sr_wm_ref</th>\n",
       "      <td>20.952554</td>\n",
       "      <td>baseline</td>\n",
       "    </tr>\n",
       "    <tr>\n",
       "      <th>2020-02-19 15:08:11</th>\n",
       "      <th>mpta_wm_ref</th>\n",
       "      <td>8.731218</td>\n",
       "      <td>baseline</td>\n",
       "    </tr>\n",
       "    <tr>\n",
       "      <th>...</th>\n",
       "      <th>...</th>\n",
       "      <td>...</td>\n",
       "      <td>...</td>\n",
       "    </tr>\n",
       "    <tr>\n",
       "      <th>2020-02-20 17:49:31</th>\n",
       "      <th>sr_wm_ref</th>\n",
       "      <td>474.259289</td>\n",
       "      <td>recovery</td>\n",
       "    </tr>\n",
       "    <tr>\n",
       "      <th rowspan=\"2\" valign=\"top\">2020-02-20 17:49:34</th>\n",
       "      <th>mpta_wm_ref</th>\n",
       "      <td>138.753466</td>\n",
       "      <td>recovery</td>\n",
       "    </tr>\n",
       "    <tr>\n",
       "      <th>sr_wm_ref</th>\n",
       "      <td>84.241144</td>\n",
       "      <td>recovery</td>\n",
       "    </tr>\n",
       "    <tr>\n",
       "      <th rowspan=\"2\" valign=\"top\">2020-02-20 17:49:37</th>\n",
       "      <th>mpta_wm_ref</th>\n",
       "      <td>164.824322</td>\n",
       "      <td>recovery</td>\n",
       "    </tr>\n",
       "    <tr>\n",
       "      <th>sr_wm_ref</th>\n",
       "      <td>135.922204</td>\n",
       "      <td>recovery</td>\n",
       "    </tr>\n",
       "  </tbody>\n",
       "</table>\n",
       "<p>9578 rows × 2 columns</p>\n",
       "</div>"
      ],
      "text/plain": [
       "                                      power condition\n",
       "datetime            region                           \n",
       "2020-02-19 15:08:05 mpta_wm_ref    8.322469  baseline\n",
       "                    sr_wm_ref     23.606334  baseline\n",
       "2020-02-19 15:08:08 mpta_wm_ref   12.742594  baseline\n",
       "                    sr_wm_ref     20.952554  baseline\n",
       "2020-02-19 15:08:11 mpta_wm_ref    8.731218  baseline\n",
       "...                                     ...       ...\n",
       "2020-02-20 17:49:31 sr_wm_ref    474.259289  recovery\n",
       "2020-02-20 17:49:34 mpta_wm_ref  138.753466  recovery\n",
       "                    sr_wm_ref     84.241144  recovery\n",
       "2020-02-20 17:49:37 mpta_wm_ref  164.824322  recovery\n",
       "                    sr_wm_ref    135.922204  recovery\n",
       "\n",
       "[9578 rows x 2 columns]"
      ]
     },
     "execution_count": 12,
     "metadata": {},
     "output_type": "execute_result"
    }
   ],
   "source": [
    "nrem_pow"
   ]
  },
  {
   "cell_type": "code",
   "execution_count": 13,
   "metadata": {
    "execution": {
     "iopub.execute_input": "2021-06-10T19:54:06.010424Z",
     "iopub.status.busy": "2021-06-10T19:54:06.010302Z",
     "iopub.status.idle": "2021-06-10T19:54:07.118225Z",
     "shell.execute_reply": "2021-06-10T19:54:07.117774Z",
     "shell.execute_reply.started": "2021-06-10T19:54:06.010409Z"
    }
   },
   "outputs": [
    {
     "data": {
      "image/png": "[encoded data removed]",
      "text/plain": [
       "<Figure size 799.5x360 with 2 Axes>"
      ]
     },
     "metadata": {
      "needs_background": "light"
     },
     "output_type": "display_data"
    }
   ],
   "source": [
    "g = sns.displot(data=nrem_pow, x='power', hue='condition', col='region', kind='hist')\n",
    "g.set(xlabel='Delta (0.5 - 4Hz) PSD (uV^2/Hz)')\n",
    "g.tight_layout()"
   ]
  },
  {
   "cell_type": "code",
   "execution_count": 14,
   "metadata": {
    "execution": {
     "iopub.execute_input": "2021-06-10T19:54:07.119032Z",
     "iopub.status.busy": "2021-06-10T19:54:07.118893Z",
     "iopub.status.idle": "2021-06-10T19:54:08.018253Z",
     "shell.execute_reply": "2021-06-10T19:54:08.017733Z",
     "shell.execute_reply.started": "2021-06-10T19:54:07.119014Z"
    }
   },
   "outputs": [
    {
     "data": {
      "image/png": "[encoded data removed]",
      "text/plain": [
       "<Figure size 799.5x360 with 2 Axes>"
      ]
     },
     "metadata": {
      "needs_background": "light"
     },
     "output_type": "display_data"
    }
   ],
   "source": [
    "nrem_pow_log = nrem_pow.copy()\n",
    "nrem_pow_log['power'] = np.log(nrem_pow.power)\n",
    "\n",
    "g = sns.displot(data=nrem_pow_log, x='power', hue='condition', col='region', kind='hist')\n",
    "g.set(xlabel='Delta (0.5 - 4Hz) PSD (uV^2/Hz)')\n",
    "g.tight_layout()"
   ]
  },
  {
   "cell_type": "code",
   "execution_count": 15,
   "metadata": {
    "execution": {
     "iopub.execute_input": "2021-06-10T19:54:08.019077Z",
     "iopub.status.busy": "2021-06-10T19:54:08.018942Z",
     "iopub.status.idle": "2021-06-10T19:54:08.780648Z",
     "shell.execute_reply": "2021-06-10T19:54:08.779989Z",
     "shell.execute_reply.started": "2021-06-10T19:54:08.019059Z"
    }
   },
   "outputs": [
    {
     "data": {
      "image/png": "[encoded data removed]",
      "text/plain": [
       "<Figure size 799.5x360 with 2 Axes>"
      ]
     },
     "metadata": {
      "needs_background": "light"
     },
     "output_type": "display_data"
    }
   ],
   "source": [
    "nrem_pow_sqrt = nrem_pow.copy()\n",
    "nrem_pow_sqrt['power'] = np.sqrt(nrem_pow.power)\n",
    "\n",
    "g = sns.displot(data=nrem_pow_sqrt, x='power', hue='condition', col='region', kind='hist')\n",
    "g.set(xlabel='Delta (0.5 - 4Hz) PSD (uV^2/Hz)')\n",
    "g.tight_layout()"
   ]
  },
  {
   "cell_type": "code",
   "execution_count": 16,
   "metadata": {
    "execution": {
     "iopub.execute_input": "2021-06-10T19:54:08.781628Z",
     "iopub.status.busy": "2021-06-10T19:54:08.781485Z",
     "iopub.status.idle": "2021-06-10T19:54:08.793940Z",
     "shell.execute_reply": "2021-06-10T19:54:08.793491Z",
     "shell.execute_reply.started": "2021-06-10T19:54:08.781609Z"
    }
   },
   "outputs": [],
   "source": [
    "def difference_of_means(df):\n",
    "    means = df.groupby(['condition', 'region']).mean()\n",
    "    return means.xs('recovery') - means.xs('baseline')"
   ]
  },
  {
   "cell_type": "code",
   "execution_count": 17,
   "metadata": {
    "execution": {
     "iopub.execute_input": "2021-06-10T19:54:08.794786Z",
     "iopub.status.busy": "2021-06-10T19:54:08.794663Z",
     "iopub.status.idle": "2021-06-10T19:54:32.712808Z",
     "shell.execute_reply": "2021-06-10T19:54:32.711730Z",
     "shell.execute_reply.started": "2021-06-10T19:54:08.794770Z"
    }
   },
   "outputs": [],
   "source": [
    "observed = difference_of_means(nrem_pow)\n",
    "\n",
    "n_permutations = 10000\n",
    "permutations = list()\n",
    "permuted = nrem_pow.copy()\n",
    "for i in range(n_permutations):\n",
    "    np.random.shuffle(permuted.condition.values)\n",
    "    permutations.append(difference_of_means(permuted))\n",
    "    \n",
    "df = pd.concat(permutations)"
   ]
  },
  {
   "cell_type": "code",
   "execution_count": 18,
   "metadata": {
    "execution": {
     "iopub.execute_input": "2021-06-10T19:54:32.713957Z",
     "iopub.status.busy": "2021-06-10T19:54:32.713788Z",
     "iopub.status.idle": "2021-06-10T19:54:33.236814Z",
     "shell.execute_reply": "2021-06-10T19:54:33.236073Z",
     "shell.execute_reply.started": "2021-06-10T19:54:32.713938Z"
    }
   },
   "outputs": [
    {
     "data": {
      "image/png": "[encoded data removed]",
      "text/plain": [
       "<Figure size 720x360 with 2 Axes>"
      ]
     },
     "metadata": {
      "needs_background": "light"
     },
     "output_type": "display_data"
    }
   ],
   "source": [
    "g = sns.displot(data=df, x='power', col='region', kind='hist')\n",
    "g.set(xlabel='Difference of means (SD - BL)')\n",
    "g.tight_layout()"
   ]
  },
  {
   "cell_type": "code",
   "execution_count": 19,
   "metadata": {
    "execution": {
     "iopub.execute_input": "2021-06-10T19:54:33.237823Z",
     "iopub.status.busy": "2021-06-10T19:54:33.237677Z",
     "iopub.status.idle": "2021-06-10T19:54:33.255913Z",
     "shell.execute_reply": "2021-06-10T19:54:33.255220Z",
     "shell.execute_reply.started": "2021-06-10T19:54:33.237806Z"
    }
   },
   "outputs": [],
   "source": [
    "cx = df.xs('mpta_wm_ref').sort_values('power')\n",
    "hc = df.xs('sr_wm_ref').sort_values('power')"
   ]
  },
  {
   "cell_type": "code",
   "execution_count": 20,
   "metadata": {
    "execution": {
     "iopub.execute_input": "2021-06-10T19:54:33.256716Z",
     "iopub.status.busy": "2021-06-10T19:54:33.256591Z",
     "iopub.status.idle": "2021-06-10T19:54:33.268906Z",
     "shell.execute_reply": "2021-06-10T19:54:33.268224Z",
     "shell.execute_reply.started": "2021-06-10T19:54:33.256700Z"
    }
   },
   "outputs": [],
   "source": [
    "pcx = np.sum(cx.power.values >= observed.xs('mpta_wm_ref').values)"
   ]
  },
  {
   "cell_type": "code",
   "execution_count": 21,
   "metadata": {
    "execution": {
     "iopub.execute_input": "2021-06-10T19:54:33.269612Z",
     "iopub.status.busy": "2021-06-10T19:54:33.269489Z",
     "iopub.status.idle": "2021-06-10T19:54:33.279865Z",
     "shell.execute_reply": "2021-06-10T19:54:33.278938Z",
     "shell.execute_reply.started": "2021-06-10T19:54:33.269592Z"
    }
   },
   "outputs": [],
   "source": [
    "phc = np.sum(hc.power.values >= observed.xs('sr_wm_ref').values)"
   ]
  },
  {
   "cell_type": "code",
   "execution_count": 22,
   "metadata": {
    "execution": {
     "iopub.execute_input": "2021-06-10T19:54:33.280665Z",
     "iopub.status.busy": "2021-06-10T19:54:33.280546Z",
     "iopub.status.idle": "2021-06-10T19:54:33.296147Z",
     "shell.execute_reply": "2021-06-10T19:54:33.295444Z",
     "shell.execute_reply.started": "2021-06-10T19:54:33.280651Z"
    }
   },
   "outputs": [
    {
     "name": "stdout",
     "output_type": "stream",
     "text": [
      "Subject: Valentino\n",
      "Observed differences, Mean SD - Mean BSL:\n",
      "\n",
      "| region      |    power |\n",
      "|:------------|---------:|\n",
      "| mpta_wm_ref | 103.253  |\n",
      "| sr_wm_ref   |  35.9414 |\n",
      "\n",
      "\n",
      "Shuffled differences >= observed:\n",
      "Cortex: 1 / 10000\n",
      "Hippocampus: 1 / 10000\n"
     ]
    }
   ],
   "source": [
    "print(f\"Subject: {subject}\")\n",
    "print('Observed differences, Mean SD - Mean BSL:\\n')\n",
    "print(observed.to_markdown())\n",
    "print('\\n')\n",
    "print('Shuffled differences >= observed:')\n",
    "print(f\"Cortex: {1 + pcx} / {n_permutations}\")\n",
    "print(f\"Hippocampus: {1 + phc} / {n_permutations}\")"
   ]
  },
  {
   "cell_type": "code",
   "execution_count": null,
   "metadata": {},
   "outputs": [],
   "source": []
  }
 ],
 "metadata": {
  "kernelspec": {
   "display_name": "Python 3",
   "language": "python",
   "name": "python3"
  },
  "language_info": {
   "codemirror_mode": {
    "name": "ipython",
    "version": 3
   },
   "file_extension": ".py",
   "mimetype": "text/x-python",
   "name": "python",
   "nbconvert_exporter": "python",
   "pygments_lexer": "ipython3",
   "version": "3.7.9"
  }
 },
 "nbformat": 4,
 "nbformat_minor": 4
}
