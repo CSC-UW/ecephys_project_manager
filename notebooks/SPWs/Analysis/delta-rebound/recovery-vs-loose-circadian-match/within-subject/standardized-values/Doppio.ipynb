{
 "cells": [
  {
   "cell_type": "code",
   "execution_count": 1,
   "metadata": {
    "execution": {
     "iopub.execute_input": "2021-06-10T19:54:07.673095Z",
     "iopub.status.busy": "2021-06-10T19:54:07.672899Z",
     "iopub.status.idle": "2021-06-10T19:54:07.683701Z",
     "shell.execute_reply": "2021-06-10T19:54:07.683039Z",
     "shell.execute_reply.started": "2021-06-10T19:54:07.673059Z"
    }
   },
   "outputs": [],
   "source": [
    "%load_ext autoreload\n",
    "%autoreload 2"
   ]
  },
  {
   "cell_type": "code",
   "execution_count": 2,
   "metadata": {
    "execution": {
     "iopub.execute_input": "2021-06-10T19:54:07.684810Z",
     "iopub.status.busy": "2021-06-10T19:54:07.684633Z",
     "iopub.status.idle": "2021-06-10T19:54:08.284706Z",
     "shell.execute_reply": "2021-06-10T19:54:08.284284Z",
     "shell.execute_reply.started": "2021-06-10T19:54:07.684788Z"
    }
   },
   "outputs": [],
   "source": [
    "# %matplotlib widget\n",
    "import matplotlib.pyplot as plt\n",
    "import seaborn as sns"
   ]
  },
  {
   "cell_type": "code",
   "execution_count": 3,
   "metadata": {
    "execution": {
     "iopub.execute_input": "2021-06-10T19:54:08.285740Z",
     "iopub.status.busy": "2021-06-10T19:54:08.285599Z",
     "iopub.status.idle": "2021-06-10T19:54:08.565455Z",
     "shell.execute_reply": "2021-06-10T19:54:08.564924Z",
     "shell.execute_reply.started": "2021-06-10T19:54:08.285723Z"
    }
   },
   "outputs": [],
   "source": [
    "import xarray as xr\n",
    "import numpy as np\n",
    "import pandas as pd"
   ]
  },
  {
   "cell_type": "code",
   "execution_count": 4,
   "metadata": {
    "execution": {
     "iopub.execute_input": "2021-06-10T19:54:08.567686Z",
     "iopub.status.busy": "2021-06-10T19:54:08.567557Z",
     "iopub.status.idle": "2021-06-10T19:54:08.587036Z",
     "shell.execute_reply": "2021-06-10T19:54:08.586140Z",
     "shell.execute_reply.started": "2021-06-10T19:54:08.567669Z"
    }
   },
   "outputs": [
    {
     "data": {
      "text/plain": [
       "<xarray.core.options.set_options at 0x7fc8946fe810>"
      ]
     },
     "execution_count": 4,
     "metadata": {},
     "output_type": "execute_result"
    }
   ],
   "source": [
    "xr.set_options(keep_attrs=True)"
   ]
  },
  {
   "cell_type": "code",
   "execution_count": 5,
   "metadata": {
    "execution": {
     "iopub.execute_input": "2021-06-10T19:54:08.587900Z",
     "iopub.status.busy": "2021-06-10T19:54:08.587755Z",
     "iopub.status.idle": "2021-06-10T19:54:08.602005Z",
     "shell.execute_reply": "2021-06-10T19:54:08.601370Z",
     "shell.execute_reply.started": "2021-06-10T19:54:08.587883Z"
    }
   },
   "outputs": [],
   "source": [
    "import ecephys_analyses as ea \n",
    "from ecephys import utils\n",
    "from ecephys.signal.xarray_utils import filter_dataset_by_hypnogram"
   ]
  },
  {
   "cell_type": "code",
   "execution_count": 6,
   "metadata": {
    "execution": {
     "iopub.execute_input": "2021-06-10T19:54:08.602813Z",
     "iopub.status.busy": "2021-06-10T19:54:08.602675Z",
     "iopub.status.idle": "2021-06-10T19:54:08.613324Z",
     "shell.execute_reply": "2021-06-10T19:54:08.612539Z",
     "shell.execute_reply.started": "2021-06-10T19:54:08.602798Z"
    }
   },
   "outputs": [],
   "source": [
    "def ds2df(ds):\n",
    "    s = ds.to_dataframe().stack()\n",
    "    s.index.names = s.index.names[:-1] + ['region']\n",
    "    return s.to_frame(name='power')"
   ]
  },
  {
   "cell_type": "code",
   "execution_count": 7,
   "metadata": {
    "execution": {
     "iopub.execute_input": "2021-06-10T19:54:08.614104Z",
     "iopub.status.busy": "2021-06-10T19:54:08.613979Z",
     "iopub.status.idle": "2021-06-10T19:54:08.625001Z",
     "shell.execute_reply": "2021-06-10T19:54:08.624080Z",
     "shell.execute_reply.started": "2021-06-10T19:54:08.614089Z"
    }
   },
   "outputs": [],
   "source": [
    "subject = \"Doppio\"\n",
    "experiment = \"sleep-homeostasis\"\n",
    "norm_condition = \"light-period-circadian-match\"\n",
    "bsl_condition = \"recovery-sleep-circadian-match\"\n",
    "rec_condition = \"recovery-sleep\"\n",
    "states = [\"N1\", \"N2\"]\n",
    "duration = '02:00:00'\n",
    "light_period_start = '09:00:00'\n",
    "light_period_end = '21:00:00'\n",
    "f_range = (0.5, 4)"
   ]
  },
  {
   "cell_type": "code",
   "execution_count": 8,
   "metadata": {
    "execution": {
     "iopub.execute_input": "2021-06-10T19:54:08.626518Z",
     "iopub.status.busy": "2021-06-10T19:54:08.626391Z",
     "iopub.status.idle": "2021-06-10T19:54:14.075619Z",
     "shell.execute_reply": "2021-06-10T19:54:14.074540Z",
     "shell.execute_reply.started": "2021-06-10T19:54:08.626503Z"
    }
   },
   "outputs": [],
   "source": [
    "norm_hyp = ea.load_hypnogram(subject, experiment, norm_condition)\n",
    "norm_hyp = norm_hyp.keep_states(states).keep_between(light_period_start, light_period_end)\n",
    "\n",
    "norm_pow = ea.load_power(subject, experiment, norm_condition, \"spg.nc\").sel(frequency=slice(*f_range)).sum(dim=\"frequency\")\n",
    "norm_pow = filter_dataset_by_hypnogram(norm_pow, norm_hyp).swap_dims({'time': 'datetime'}).drop_vars(['time', 'timedelta'])"
   ]
  },
  {
   "cell_type": "code",
   "execution_count": 9,
   "metadata": {
    "execution": {
     "iopub.execute_input": "2021-06-10T19:54:14.077481Z",
     "iopub.status.busy": "2021-06-10T19:54:14.077318Z",
     "iopub.status.idle": "2021-06-10T19:54:15.696675Z",
     "shell.execute_reply": "2021-06-10T19:54:15.696143Z",
     "shell.execute_reply.started": "2021-06-10T19:54:14.077462Z"
    }
   },
   "outputs": [],
   "source": [
    "rec_hyp = ea.load_hypnogram(subject, experiment, rec_condition)\n",
    "rec_hyp = rec_hyp.keep_states(states).keep_first(duration)\n",
    "\n",
    "rec_pow = ea.load_power(subject, experiment, rec_condition, \"spg.nc\").sel(frequency=slice(*f_range)).sum(dim='frequency')\n",
    "rec_pow = filter_dataset_by_hypnogram(rec_pow, rec_hyp).swap_dims({'time': 'datetime'}).drop_vars(['time', 'timedelta'])\n",
    "rec_pow = rec_pow / norm_pow.mean(dim=\"datetime\") * 100"
   ]
  },
  {
   "cell_type": "code",
   "execution_count": 10,
   "metadata": {
    "execution": {
     "iopub.execute_input": "2021-06-10T19:54:15.697580Z",
     "iopub.status.busy": "2021-06-10T19:54:15.697435Z",
     "iopub.status.idle": "2021-06-10T19:54:17.302463Z",
     "shell.execute_reply": "2021-06-10T19:54:17.301908Z",
     "shell.execute_reply.started": "2021-06-10T19:54:15.697562Z"
    }
   },
   "outputs": [],
   "source": [
    "bsl_hyp = ea.load_hypnogram(subject, experiment, bsl_condition)\n",
    "bsl_hyp = bsl_hyp.keep_states(states).keep_between(rec_hyp.start_time.min().strftime(\"%H:%M:%S\"), light_period_end).keep_first(duration)\n",
    "\n",
    "bsl_pow = ea.load_power(subject, experiment, bsl_condition, \"spg.nc\").sel(frequency=slice(*f_range)).sum(dim='frequency')\n",
    "bsl_pow = filter_dataset_by_hypnogram(bsl_pow, bsl_hyp).swap_dims({'time': 'datetime'}).drop_vars(['time', 'timedelta'])\n",
    "bsl_pow = bsl_pow / norm_pow.mean(dim=\"datetime\") * 100"
   ]
  },
  {
   "cell_type": "code",
   "execution_count": 11,
   "metadata": {
    "execution": {
     "iopub.execute_input": "2021-06-10T19:54:17.303365Z",
     "iopub.status.busy": "2021-06-10T19:54:17.303212Z",
     "iopub.status.idle": "2021-06-10T19:54:17.322849Z",
     "shell.execute_reply": "2021-06-10T19:54:17.322345Z",
     "shell.execute_reply.started": "2021-06-10T19:54:17.303347Z"
    }
   },
   "outputs": [],
   "source": [
    "nrem_pow = pd.concat([ds2df(bsl_pow).assign(condition=\"baseline\"), ds2df(rec_pow).assign(condition=\"recovery\")])"
   ]
  },
  {
   "cell_type": "code",
   "execution_count": 12,
   "metadata": {
    "execution": {
     "iopub.execute_input": "2021-06-10T19:54:17.323533Z",
     "iopub.status.busy": "2021-06-10T19:54:17.323412Z",
     "iopub.status.idle": "2021-06-10T19:54:17.346471Z",
     "shell.execute_reply": "2021-06-10T19:54:17.346013Z",
     "shell.execute_reply.started": "2021-06-10T19:54:17.323518Z"
    }
   },
   "outputs": [
    {
     "data": {
      "text/html": [
       "<div>\n",
       "<style scoped>\n",
       "    .dataframe tbody tr th:only-of-type {\n",
       "        vertical-align: middle;\n",
       "    }\n",
       "\n",
       "    .dataframe tbody tr th {\n",
       "        vertical-align: top;\n",
       "    }\n",
       "\n",
       "    .dataframe thead th {\n",
       "        text-align: right;\n",
       "    }\n",
       "</style>\n",
       "<table border=\"1\" class=\"dataframe\">\n",
       "  <thead>\n",
       "    <tr style=\"text-align: right;\">\n",
       "      <th></th>\n",
       "      <th></th>\n",
       "      <th>power</th>\n",
       "      <th>condition</th>\n",
       "    </tr>\n",
       "    <tr>\n",
       "      <th>datetime</th>\n",
       "      <th>region</th>\n",
       "      <th></th>\n",
       "      <th></th>\n",
       "    </tr>\n",
       "  </thead>\n",
       "  <tbody>\n",
       "    <tr>\n",
       "      <th rowspan=\"2\" valign=\"top\">2020-03-17 15:11:43.999780779</th>\n",
       "      <th>mpta_wm_ref</th>\n",
       "      <td>21.970141</td>\n",
       "      <td>baseline</td>\n",
       "    </tr>\n",
       "    <tr>\n",
       "      <th>sr_wm_ref</th>\n",
       "      <td>54.223170</td>\n",
       "      <td>baseline</td>\n",
       "    </tr>\n",
       "    <tr>\n",
       "      <th rowspan=\"2\" valign=\"top\">2020-03-17 15:11:46.999777763</th>\n",
       "      <th>mpta_wm_ref</th>\n",
       "      <td>6.578744</td>\n",
       "      <td>baseline</td>\n",
       "    </tr>\n",
       "    <tr>\n",
       "      <th>sr_wm_ref</th>\n",
       "      <td>81.856922</td>\n",
       "      <td>baseline</td>\n",
       "    </tr>\n",
       "    <tr>\n",
       "      <th>2020-03-17 15:11:49.999774746</th>\n",
       "      <th>mpta_wm_ref</th>\n",
       "      <td>7.733741</td>\n",
       "      <td>baseline</td>\n",
       "    </tr>\n",
       "    <tr>\n",
       "      <th>...</th>\n",
       "      <th>...</th>\n",
       "      <td>...</td>\n",
       "      <td>...</td>\n",
       "    </tr>\n",
       "    <tr>\n",
       "      <th>2020-03-18 17:57:45.996966108</th>\n",
       "      <th>sr_wm_ref</th>\n",
       "      <td>129.282232</td>\n",
       "      <td>recovery</td>\n",
       "    </tr>\n",
       "    <tr>\n",
       "      <th rowspan=\"2\" valign=\"top\">2020-03-18 17:57:48.996963091</th>\n",
       "      <th>mpta_wm_ref</th>\n",
       "      <td>287.640541</td>\n",
       "      <td>recovery</td>\n",
       "    </tr>\n",
       "    <tr>\n",
       "      <th>sr_wm_ref</th>\n",
       "      <td>98.832135</td>\n",
       "      <td>recovery</td>\n",
       "    </tr>\n",
       "    <tr>\n",
       "      <th rowspan=\"2\" valign=\"top\">2020-03-18 17:57:51.996960074</th>\n",
       "      <th>mpta_wm_ref</th>\n",
       "      <td>169.174726</td>\n",
       "      <td>recovery</td>\n",
       "    </tr>\n",
       "    <tr>\n",
       "      <th>sr_wm_ref</th>\n",
       "      <td>326.288130</td>\n",
       "      <td>recovery</td>\n",
       "    </tr>\n",
       "  </tbody>\n",
       "</table>\n",
       "<p>9536 rows × 2 columns</p>\n",
       "</div>"
      ],
      "text/plain": [
       "                                                power condition\n",
       "datetime                      region                           \n",
       "2020-03-17 15:11:43.999780779 mpta_wm_ref   21.970141  baseline\n",
       "                              sr_wm_ref     54.223170  baseline\n",
       "2020-03-17 15:11:46.999777763 mpta_wm_ref    6.578744  baseline\n",
       "                              sr_wm_ref     81.856922  baseline\n",
       "2020-03-17 15:11:49.999774746 mpta_wm_ref    7.733741  baseline\n",
       "...                                               ...       ...\n",
       "2020-03-18 17:57:45.996966108 sr_wm_ref    129.282232  recovery\n",
       "2020-03-18 17:57:48.996963091 mpta_wm_ref  287.640541  recovery\n",
       "                              sr_wm_ref     98.832135  recovery\n",
       "2020-03-18 17:57:51.996960074 mpta_wm_ref  169.174726  recovery\n",
       "                              sr_wm_ref    326.288130  recovery\n",
       "\n",
       "[9536 rows x 2 columns]"
      ]
     },
     "execution_count": 12,
     "metadata": {},
     "output_type": "execute_result"
    }
   ],
   "source": [
    "nrem_pow"
   ]
  },
  {
   "cell_type": "code",
   "execution_count": 13,
   "metadata": {
    "execution": {
     "iopub.execute_input": "2021-06-10T19:54:17.347117Z",
     "iopub.status.busy": "2021-06-10T19:54:17.346998Z",
     "iopub.status.idle": "2021-06-10T19:54:18.312489Z",
     "shell.execute_reply": "2021-06-10T19:54:18.312092Z",
     "shell.execute_reply.started": "2021-06-10T19:54:17.347102Z"
    }
   },
   "outputs": [
    {
     "data": {
      "image/png": "[encoded data removed]",
      "text/plain": [
       "<Figure size 799.5x360 with 2 Axes>"
      ]
     },
     "metadata": {
      "needs_background": "light"
     },
     "output_type": "display_data"
    }
   ],
   "source": [
    "g = sns.displot(data=nrem_pow, x='power', hue='condition', col='region', kind='hist')\n",
    "g.set(xlabel='Delta (0.5 - 4Hz) PSD (uV^2/Hz)')\n",
    "g.tight_layout()"
   ]
  },
  {
   "cell_type": "code",
   "execution_count": 14,
   "metadata": {
    "execution": {
     "iopub.execute_input": "2021-06-10T19:54:18.313255Z",
     "iopub.status.busy": "2021-06-10T19:54:18.313122Z",
     "iopub.status.idle": "2021-06-10T19:54:19.120496Z",
     "shell.execute_reply": "2021-06-10T19:54:19.119971Z",
     "shell.execute_reply.started": "2021-06-10T19:54:18.313239Z"
    }
   },
   "outputs": [
    {
     "data": {
      "image/png": "[encoded data removed]",
      "text/plain": [
       "<Figure size 799.5x360 with 2 Axes>"
      ]
     },
     "metadata": {
      "needs_background": "light"
     },
     "output_type": "display_data"
    }
   ],
   "source": [
    "nrem_pow_log = nrem_pow.copy()\n",
    "nrem_pow_log['power'] = np.log(nrem_pow.power)\n",
    "\n",
    "g = sns.displot(data=nrem_pow_log, x='power', hue='condition', col='region', kind='hist')\n",
    "g.set(xlabel='Delta (0.5 - 4Hz) PSD (uV^2/Hz)')\n",
    "g.tight_layout()"
   ]
  },
  {
   "cell_type": "code",
   "execution_count": 15,
   "metadata": {
    "execution": {
     "iopub.execute_input": "2021-06-10T19:54:19.121288Z",
     "iopub.status.busy": "2021-06-10T19:54:19.121153Z",
     "iopub.status.idle": "2021-06-10T19:54:19.807366Z",
     "shell.execute_reply": "2021-06-10T19:54:19.806774Z",
     "shell.execute_reply.started": "2021-06-10T19:54:19.121272Z"
    }
   },
   "outputs": [
    {
     "data": {
      "image/png": "[encoded data removed]",
      "text/plain": [
       "<Figure size 799.5x360 with 2 Axes>"
      ]
     },
     "metadata": {
      "needs_background": "light"
     },
     "output_type": "display_data"
    }
   ],
   "source": [
    "nrem_pow_sqrt = nrem_pow.copy()\n",
    "nrem_pow_sqrt['power'] = np.sqrt(nrem_pow.power)\n",
    "\n",
    "g = sns.displot(data=nrem_pow_sqrt, x='power', hue='condition', col='region', kind='hist')\n",
    "g.set(xlabel='Delta (0.5 - 4Hz) PSD (uV^2/Hz)')\n",
    "g.tight_layout()"
   ]
  },
  {
   "cell_type": "code",
   "execution_count": 16,
   "metadata": {
    "execution": {
     "iopub.execute_input": "2021-06-10T19:54:19.808230Z",
     "iopub.status.busy": "2021-06-10T19:54:19.808095Z",
     "iopub.status.idle": "2021-06-10T19:54:19.822823Z",
     "shell.execute_reply": "2021-06-10T19:54:19.822419Z",
     "shell.execute_reply.started": "2021-06-10T19:54:19.808214Z"
    }
   },
   "outputs": [],
   "source": [
    "def difference_of_means(df):\n",
    "    means = df.groupby(['condition', 'region']).mean()\n",
    "    return means.xs('recovery') - means.xs('baseline')"
   ]
  },
  {
   "cell_type": "code",
   "execution_count": 17,
   "metadata": {
    "execution": {
     "iopub.execute_input": "2021-06-10T19:54:19.823480Z",
     "iopub.status.busy": "2021-06-10T19:54:19.823357Z",
     "iopub.status.idle": "2021-06-10T19:54:43.650155Z",
     "shell.execute_reply": "2021-06-10T19:54:43.649288Z",
     "shell.execute_reply.started": "2021-06-10T19:54:19.823464Z"
    }
   },
   "outputs": [],
   "source": [
    "observed = difference_of_means(nrem_pow)\n",
    "\n",
    "n_permutations = 10000\n",
    "permutations = list()\n",
    "permuted = nrem_pow.copy()\n",
    "for i in range(n_permutations):\n",
    "    np.random.shuffle(permuted.condition.values)\n",
    "    permutations.append(difference_of_means(permuted))\n",
    "    \n",
    "df = pd.concat(permutations)"
   ]
  },
  {
   "cell_type": "code",
   "execution_count": 18,
   "metadata": {
    "execution": {
     "iopub.execute_input": "2021-06-10T19:54:43.651451Z",
     "iopub.status.busy": "2021-06-10T19:54:43.651298Z",
     "iopub.status.idle": "2021-06-10T19:54:44.215392Z",
     "shell.execute_reply": "2021-06-10T19:54:44.214719Z",
     "shell.execute_reply.started": "2021-06-10T19:54:43.651433Z"
    }
   },
   "outputs": [
    {
     "data": {
      "image/png": "[encoded data removed]",
      "text/plain": [
       "<Figure size 720x360 with 2 Axes>"
      ]
     },
     "metadata": {
      "needs_background": "light"
     },
     "output_type": "display_data"
    }
   ],
   "source": [
    "g = sns.displot(data=df, x='power', col='region', kind='hist')\n",
    "g.set(xlabel='Difference of means (SD - BL)')\n",
    "g.tight_layout()"
   ]
  },
  {
   "cell_type": "code",
   "execution_count": 19,
   "metadata": {
    "execution": {
     "iopub.execute_input": "2021-06-10T19:54:44.216323Z",
     "iopub.status.busy": "2021-06-10T19:54:44.216186Z",
     "iopub.status.idle": "2021-06-10T19:54:44.232147Z",
     "shell.execute_reply": "2021-06-10T19:54:44.231563Z",
     "shell.execute_reply.started": "2021-06-10T19:54:44.216306Z"
    }
   },
   "outputs": [],
   "source": [
    "cx = df.xs('mpta_wm_ref').sort_values('power')\n",
    "hc = df.xs('sr_wm_ref').sort_values('power')"
   ]
  },
  {
   "cell_type": "code",
   "execution_count": 20,
   "metadata": {
    "execution": {
     "iopub.execute_input": "2021-06-10T19:54:44.232913Z",
     "iopub.status.busy": "2021-06-10T19:54:44.232793Z",
     "iopub.status.idle": "2021-06-10T19:54:44.244390Z",
     "shell.execute_reply": "2021-06-10T19:54:44.243546Z",
     "shell.execute_reply.started": "2021-06-10T19:54:44.232898Z"
    }
   },
   "outputs": [],
   "source": [
    "pcx = np.sum(cx.power.values >= observed.xs('mpta_wm_ref').values)"
   ]
  },
  {
   "cell_type": "code",
   "execution_count": 21,
   "metadata": {
    "execution": {
     "iopub.execute_input": "2021-06-10T19:54:44.245016Z",
     "iopub.status.busy": "2021-06-10T19:54:44.244902Z",
     "iopub.status.idle": "2021-06-10T19:54:44.255151Z",
     "shell.execute_reply": "2021-06-10T19:54:44.254346Z",
     "shell.execute_reply.started": "2021-06-10T19:54:44.245002Z"
    }
   },
   "outputs": [],
   "source": [
    "phc = np.sum(hc.power.values >= observed.xs('sr_wm_ref').values)"
   ]
  },
  {
   "cell_type": "code",
   "execution_count": 22,
   "metadata": {
    "execution": {
     "iopub.execute_input": "2021-06-10T19:54:44.255965Z",
     "iopub.status.busy": "2021-06-10T19:54:44.255844Z",
     "iopub.status.idle": "2021-06-10T19:54:44.272541Z",
     "shell.execute_reply": "2021-06-10T19:54:44.271636Z",
     "shell.execute_reply.started": "2021-06-10T19:54:44.255951Z"
    }
   },
   "outputs": [
    {
     "name": "stdout",
     "output_type": "stream",
     "text": [
      "Subject: Doppio\n",
      "Observed differences, Mean SD - Mean BSL:\n",
      "\n",
      "| region      |    power |\n",
      "|:------------|---------:|\n",
      "| mpta_wm_ref | 157.878  |\n",
      "| sr_wm_ref   |  43.6544 |\n",
      "\n",
      "\n",
      "Shuffled differences >= observed:\n",
      "Cortex: 1 / 10000\n",
      "Hippocampus: 1 / 10000\n"
     ]
    }
   ],
   "source": [
    "print(f\"Subject: {subject}\")\n",
    "print('Observed differences, Mean SD - Mean BSL:\\n')\n",
    "print(observed.to_markdown())\n",
    "print('\\n')\n",
    "print('Shuffled differences >= observed:')\n",
    "print(f\"Cortex: {1 + pcx} / {n_permutations}\")\n",
    "print(f\"Hippocampus: {1 + phc} / {n_permutations}\")"
   ]
  },
  {
   "cell_type": "code",
   "execution_count": null,
   "metadata": {},
   "outputs": [],
   "source": []
  }
 ],
 "metadata": {
  "kernelspec": {
   "display_name": "Python 3",
   "language": "python",
   "name": "python3"
  },
  "language_info": {
   "codemirror_mode": {
    "name": "ipython",
    "version": 3
   },
   "file_extension": ".py",
   "mimetype": "text/x-python",
   "name": "python",
   "nbconvert_exporter": "python",
   "pygments_lexer": "ipython3",
   "version": "3.7.9"
  }
 },
 "nbformat": 4,
 "nbformat_minor": 4
}
