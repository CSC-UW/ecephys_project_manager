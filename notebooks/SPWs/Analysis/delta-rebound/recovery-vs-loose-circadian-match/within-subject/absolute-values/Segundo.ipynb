{
 "cells": [
  {
   "cell_type": "code",
   "execution_count": 1,
   "metadata": {
    "execution": {
     "iopub.execute_input": "2021-06-10T19:24:50.201008Z",
     "iopub.status.busy": "2021-06-10T19:24:50.200511Z",
     "iopub.status.idle": "2021-06-10T19:24:50.218821Z",
     "shell.execute_reply": "2021-06-10T19:24:50.218191Z",
     "shell.execute_reply.started": "2021-06-10T19:24:50.200950Z"
    }
   },
   "outputs": [],
   "source": [
    "%load_ext autoreload\n",
    "%autoreload 2"
   ]
  },
  {
   "cell_type": "code",
   "execution_count": 2,
   "metadata": {
    "execution": {
     "iopub.execute_input": "2021-06-10T19:24:50.219703Z",
     "iopub.status.busy": "2021-06-10T19:24:50.219577Z",
     "iopub.status.idle": "2021-06-10T19:24:50.555491Z",
     "shell.execute_reply": "2021-06-10T19:24:50.554801Z",
     "shell.execute_reply.started": "2021-06-10T19:24:50.219687Z"
    }
   },
   "outputs": [],
   "source": [
    "%matplotlib widget\n",
    "import matplotlib.pyplot as plt\n",
    "import seaborn as sns"
   ]
  },
  {
   "cell_type": "code",
   "execution_count": 3,
   "metadata": {
    "execution": {
     "iopub.execute_input": "2021-06-10T19:24:50.556675Z",
     "iopub.status.busy": "2021-06-10T19:24:50.556525Z",
     "iopub.status.idle": "2021-06-10T19:24:50.777612Z",
     "shell.execute_reply": "2021-06-10T19:24:50.776875Z",
     "shell.execute_reply.started": "2021-06-10T19:24:50.556659Z"
    }
   },
   "outputs": [],
   "source": [
    "import xarray as xr\n",
    "import numpy as np\n",
    "import pandas as pd"
   ]
  },
  {
   "cell_type": "code",
   "execution_count": 4,
   "metadata": {
    "execution": {
     "iopub.execute_input": "2021-06-10T19:24:50.778610Z",
     "iopub.status.busy": "2021-06-10T19:24:50.778467Z",
     "iopub.status.idle": "2021-06-10T19:24:50.791646Z",
     "shell.execute_reply": "2021-06-10T19:24:50.790988Z",
     "shell.execute_reply.started": "2021-06-10T19:24:50.778594Z"
    }
   },
   "outputs": [
    {
     "data": {
      "text/plain": [
       "<xarray.core.options.set_options at 0x7fac26ac4f10>"
      ]
     },
     "execution_count": 4,
     "metadata": {},
     "output_type": "execute_result"
    }
   ],
   "source": [
    "xr.set_options(keep_attrs=True)"
   ]
  },
  {
   "cell_type": "code",
   "execution_count": 5,
   "metadata": {
    "execution": {
     "iopub.execute_input": "2021-06-10T19:24:50.792461Z",
     "iopub.status.busy": "2021-06-10T19:24:50.792324Z",
     "iopub.status.idle": "2021-06-10T19:24:50.806328Z",
     "shell.execute_reply": "2021-06-10T19:24:50.805728Z",
     "shell.execute_reply.started": "2021-06-10T19:24:50.792445Z"
    }
   },
   "outputs": [],
   "source": [
    "import ecephys_analyses as ea \n",
    "from ecephys import utils\n",
    "from ecephys.signal.xarray_utils import filter_dataset_by_hypnogram"
   ]
  },
  {
   "cell_type": "code",
   "execution_count": 6,
   "metadata": {
    "execution": {
     "iopub.execute_input": "2021-06-10T19:24:50.807126Z",
     "iopub.status.busy": "2021-06-10T19:24:50.806997Z",
     "iopub.status.idle": "2021-06-10T19:24:50.819164Z",
     "shell.execute_reply": "2021-06-10T19:24:50.818502Z",
     "shell.execute_reply.started": "2021-06-10T19:24:50.807110Z"
    }
   },
   "outputs": [],
   "source": [
    "def ds2df(ds):\n",
    "    s = ds.to_dataframe().stack()\n",
    "    s.index.names = s.index.names[:-1] + ['region']\n",
    "    return s.to_frame(name='power')"
   ]
  },
  {
   "cell_type": "code",
   "execution_count": 7,
   "metadata": {
    "execution": {
     "iopub.execute_input": "2021-06-10T19:24:50.819827Z",
     "iopub.status.busy": "2021-06-10T19:24:50.819704Z",
     "iopub.status.idle": "2021-06-10T19:24:50.831202Z",
     "shell.execute_reply": "2021-06-10T19:24:50.830553Z",
     "shell.execute_reply.started": "2021-06-10T19:24:50.819812Z"
    }
   },
   "outputs": [],
   "source": [
    "subject = \"Segundo\"\n",
    "experiment = \"sleep-homeostasis\"\n",
    "bsl_condition = \"recovery-sleep-circadian-match\"\n",
    "rec_condition = \"recovery-sleep\"\n",
    "states = [\"N1\", \"N2\"]\n",
    "duration = '02:00:00'\n",
    "light_period_end = '21:00:00'\n",
    "f_range = (0.5, 4)"
   ]
  },
  {
   "cell_type": "code",
   "execution_count": 8,
   "metadata": {
    "execution": {
     "iopub.execute_input": "2021-06-10T19:24:50.831895Z",
     "iopub.status.busy": "2021-06-10T19:24:50.831774Z",
     "iopub.status.idle": "2021-06-10T19:24:52.498730Z",
     "shell.execute_reply": "2021-06-10T19:24:52.497906Z",
     "shell.execute_reply.started": "2021-06-10T19:24:50.831880Z"
    }
   },
   "outputs": [],
   "source": [
    "rec_hyp = ea.load_hypnogram(subject, experiment, rec_condition)\n",
    "rec_hyp = rec_hyp.keep_states(states).keep_first(duration)\n",
    "\n",
    "rec_pow = ea.load_power(subject, experiment, rec_condition, \"spg.nc\").sel(frequency=slice(*f_range)).sum(dim='frequency')\n",
    "rec_pow = filter_dataset_by_hypnogram(rec_pow, rec_hyp,).swap_dims({'time': 'datetime'}).drop_vars(['time', 'timedelta'])"
   ]
  },
  {
   "cell_type": "code",
   "execution_count": 9,
   "metadata": {
    "execution": {
     "iopub.execute_input": "2021-06-10T19:24:52.500569Z",
     "iopub.status.busy": "2021-06-10T19:24:52.500404Z",
     "iopub.status.idle": "2021-06-10T19:24:54.144817Z",
     "shell.execute_reply": "2021-06-10T19:24:54.143996Z",
     "shell.execute_reply.started": "2021-06-10T19:24:52.500551Z"
    }
   },
   "outputs": [],
   "source": [
    "bsl_hyp = ea.load_hypnogram(subject, experiment, bsl_condition)\n",
    "bsl_hyp = bsl_hyp.keep_states(states).keep_between(rec_hyp.start_time.min().strftime(\"%H:%M:%S\"), light_period_end).keep_first(duration)\n",
    "\n",
    "bsl_pow = ea.load_power(subject, experiment, bsl_condition, \"spg.nc\").sel(frequency=slice(*f_range)).sum(dim='frequency')\n",
    "bsl_pow = filter_dataset_by_hypnogram(bsl_pow, bsl_hyp).swap_dims({'time': 'datetime'}).drop_vars(['time', 'timedelta'])"
   ]
  },
  {
   "cell_type": "code",
   "execution_count": 10,
   "metadata": {
    "execution": {
     "iopub.execute_input": "2021-06-10T19:24:54.146283Z",
     "iopub.status.busy": "2021-06-10T19:24:54.146121Z",
     "iopub.status.idle": "2021-06-10T19:24:54.166631Z",
     "shell.execute_reply": "2021-06-10T19:24:54.165965Z",
     "shell.execute_reply.started": "2021-06-10T19:24:54.146264Z"
    }
   },
   "outputs": [],
   "source": [
    "nrem_pow = pd.concat([ds2df(bsl_pow).assign(condition=\"baseline\"), ds2df(rec_pow).assign(condition=\"recovery\")])"
   ]
  },
  {
   "cell_type": "code",
   "execution_count": 11,
   "metadata": {
    "execution": {
     "iopub.execute_input": "2021-06-10T19:24:54.167385Z",
     "iopub.status.busy": "2021-06-10T19:24:54.167261Z",
     "iopub.status.idle": "2021-06-10T19:24:54.188174Z",
     "shell.execute_reply": "2021-06-10T19:24:54.187541Z",
     "shell.execute_reply.started": "2021-06-10T19:24:54.167369Z"
    }
   },
   "outputs": [
    {
     "data": {
      "text/html": [
       "<div>\n",
       "<style scoped>\n",
       "    .dataframe tbody tr th:only-of-type {\n",
       "        vertical-align: middle;\n",
       "    }\n",
       "\n",
       "    .dataframe tbody tr th {\n",
       "        vertical-align: top;\n",
       "    }\n",
       "\n",
       "    .dataframe thead th {\n",
       "        text-align: right;\n",
       "    }\n",
       "</style>\n",
       "<table border=\"1\" class=\"dataframe\">\n",
       "  <thead>\n",
       "    <tr style=\"text-align: right;\">\n",
       "      <th></th>\n",
       "      <th></th>\n",
       "      <th>power</th>\n",
       "      <th>condition</th>\n",
       "    </tr>\n",
       "    <tr>\n",
       "      <th>datetime</th>\n",
       "      <th>region</th>\n",
       "      <th></th>\n",
       "      <th></th>\n",
       "    </tr>\n",
       "  </thead>\n",
       "  <tbody>\n",
       "    <tr>\n",
       "      <th rowspan=\"2\" valign=\"top\">2020-01-22 15:17:53</th>\n",
       "      <th>mpta_wm_ref</th>\n",
       "      <td>27467.121943</td>\n",
       "      <td>baseline</td>\n",
       "    </tr>\n",
       "    <tr>\n",
       "      <th>sr_wm_ref</th>\n",
       "      <td>136514.622943</td>\n",
       "      <td>baseline</td>\n",
       "    </tr>\n",
       "    <tr>\n",
       "      <th rowspan=\"2\" valign=\"top\">2020-01-22 15:17:56</th>\n",
       "      <th>mpta_wm_ref</th>\n",
       "      <td>12645.534150</td>\n",
       "      <td>baseline</td>\n",
       "    </tr>\n",
       "    <tr>\n",
       "      <th>sr_wm_ref</th>\n",
       "      <td>81451.431148</td>\n",
       "      <td>baseline</td>\n",
       "    </tr>\n",
       "    <tr>\n",
       "      <th>2020-01-22 15:18:14</th>\n",
       "      <th>mpta_wm_ref</th>\n",
       "      <td>11292.715964</td>\n",
       "      <td>baseline</td>\n",
       "    </tr>\n",
       "    <tr>\n",
       "      <th>...</th>\n",
       "      <th>...</th>\n",
       "      <td>...</td>\n",
       "      <td>...</td>\n",
       "    </tr>\n",
       "    <tr>\n",
       "      <th>2020-01-23 18:41:38</th>\n",
       "      <th>sr_wm_ref</th>\n",
       "      <td>330145.653329</td>\n",
       "      <td>recovery</td>\n",
       "    </tr>\n",
       "    <tr>\n",
       "      <th rowspan=\"2\" valign=\"top\">2020-01-23 18:41:41</th>\n",
       "      <th>mpta_wm_ref</th>\n",
       "      <td>282285.935529</td>\n",
       "      <td>recovery</td>\n",
       "    </tr>\n",
       "    <tr>\n",
       "      <th>sr_wm_ref</th>\n",
       "      <td>426764.856925</td>\n",
       "      <td>recovery</td>\n",
       "    </tr>\n",
       "    <tr>\n",
       "      <th rowspan=\"2\" valign=\"top\">2020-01-23 18:41:44</th>\n",
       "      <th>mpta_wm_ref</th>\n",
       "      <td>213909.561948</td>\n",
       "      <td>recovery</td>\n",
       "    </tr>\n",
       "    <tr>\n",
       "      <th>sr_wm_ref</th>\n",
       "      <td>682501.283256</td>\n",
       "      <td>recovery</td>\n",
       "    </tr>\n",
       "  </tbody>\n",
       "</table>\n",
       "<p>9436 rows × 2 columns</p>\n",
       "</div>"
      ],
      "text/plain": [
       "                                         power condition\n",
       "datetime            region                              \n",
       "2020-01-22 15:17:53 mpta_wm_ref   27467.121943  baseline\n",
       "                    sr_wm_ref    136514.622943  baseline\n",
       "2020-01-22 15:17:56 mpta_wm_ref   12645.534150  baseline\n",
       "                    sr_wm_ref     81451.431148  baseline\n",
       "2020-01-22 15:18:14 mpta_wm_ref   11292.715964  baseline\n",
       "...                                        ...       ...\n",
       "2020-01-23 18:41:38 sr_wm_ref    330145.653329  recovery\n",
       "2020-01-23 18:41:41 mpta_wm_ref  282285.935529  recovery\n",
       "                    sr_wm_ref    426764.856925  recovery\n",
       "2020-01-23 18:41:44 mpta_wm_ref  213909.561948  recovery\n",
       "                    sr_wm_ref    682501.283256  recovery\n",
       "\n",
       "[9436 rows x 2 columns]"
      ]
     },
     "execution_count": 11,
     "metadata": {},
     "output_type": "execute_result"
    }
   ],
   "source": [
    "nrem_pow"
   ]
  },
  {
   "cell_type": "code",
   "execution_count": 12,
   "metadata": {
    "execution": {
     "iopub.execute_input": "2021-06-10T19:24:54.188757Z",
     "iopub.status.busy": "2021-06-10T19:24:54.188642Z",
     "iopub.status.idle": "2021-06-10T19:24:54.766820Z",
     "shell.execute_reply": "2021-06-10T19:24:54.766079Z",
     "shell.execute_reply.started": "2021-06-10T19:24:54.188743Z"
    }
   },
   "outputs": [
    {
     "data": {
      "application/vnd.jupyter.widget-view+json": {
       "model_id": "5d46856bda9d4bce8f2a4f7d6cbbabf0",
       "version_major": 2,
       "version_minor": 0
      },
      "text/plain": [
       "Canvas(toolbar=Toolbar(toolitems=[('Home', 'Reset original view', 'home', 'home'), ('Back', 'Back to previous …"
      ]
     },
     "metadata": {},
     "output_type": "display_data"
    }
   ],
   "source": [
    "g = sns.displot(data=nrem_pow, x='power', hue='condition', col='region', kind='hist')\n",
    "g.set(xlabel='Delta (0.5 - 4Hz) PSD (uV^2/Hz)')\n",
    "g.tight_layout()"
   ]
  },
  {
   "cell_type": "code",
   "execution_count": 13,
   "metadata": {
    "execution": {
     "iopub.execute_input": "2021-06-10T19:24:54.767878Z",
     "iopub.status.busy": "2021-06-10T19:24:54.767728Z",
     "iopub.status.idle": "2021-06-10T19:24:55.208196Z",
     "shell.execute_reply": "2021-06-10T19:24:55.207467Z",
     "shell.execute_reply.started": "2021-06-10T19:24:54.767860Z"
    }
   },
   "outputs": [
    {
     "data": {
      "application/vnd.jupyter.widget-view+json": {
       "model_id": "8fab06eade7e422a883bab3f5acfe19e",
       "version_major": 2,
       "version_minor": 0
      },
      "text/plain": [
       "Canvas(toolbar=Toolbar(toolitems=[('Home', 'Reset original view', 'home', 'home'), ('Back', 'Back to previous …"
      ]
     },
     "metadata": {},
     "output_type": "display_data"
    }
   ],
   "source": [
    "nrem_pow_log = nrem_pow.copy()\n",
    "nrem_pow_log['power'] = np.log(nrem_pow.power)\n",
    "\n",
    "g = sns.displot(data=nrem_pow_log, x='power', hue='condition', col='region', kind='hist')\n",
    "g.set(xlabel='Delta (0.5 - 4Hz) PSD (uV^2/Hz)')\n",
    "g.tight_layout()"
   ]
  },
  {
   "cell_type": "code",
   "execution_count": 14,
   "metadata": {
    "execution": {
     "iopub.execute_input": "2021-06-10T19:24:55.209274Z",
     "iopub.status.busy": "2021-06-10T19:24:55.209119Z",
     "iopub.status.idle": "2021-06-10T19:24:55.649243Z",
     "shell.execute_reply": "2021-06-10T19:24:55.648366Z",
     "shell.execute_reply.started": "2021-06-10T19:24:55.209255Z"
    }
   },
   "outputs": [
    {
     "data": {
      "application/vnd.jupyter.widget-view+json": {
       "model_id": "c17271ec13ae4ebaa2cd596488eaed30",
       "version_major": 2,
       "version_minor": 0
      },
      "text/plain": [
       "Canvas(toolbar=Toolbar(toolitems=[('Home', 'Reset original view', 'home', 'home'), ('Back', 'Back to previous …"
      ]
     },
     "metadata": {},
     "output_type": "display_data"
    }
   ],
   "source": [
    "nrem_pow_sqrt = nrem_pow.copy()\n",
    "nrem_pow_sqrt['power'] = np.sqrt(nrem_pow.power)\n",
    "\n",
    "g = sns.displot(data=nrem_pow_sqrt, x='power', hue='condition', col='region', kind='hist')\n",
    "g.set(xlabel='Delta (0.5 - 4Hz) PSD (uV^2/Hz)')\n",
    "g.tight_layout()"
   ]
  },
  {
   "cell_type": "code",
   "execution_count": 15,
   "metadata": {
    "execution": {
     "iopub.execute_input": "2021-06-10T19:24:55.650483Z",
     "iopub.status.busy": "2021-06-10T19:24:55.650326Z",
     "iopub.status.idle": "2021-06-10T19:24:55.668367Z",
     "shell.execute_reply": "2021-06-10T19:24:55.667616Z",
     "shell.execute_reply.started": "2021-06-10T19:24:55.650463Z"
    }
   },
   "outputs": [],
   "source": [
    "def difference_of_means(df):\n",
    "    means = df.groupby(['condition', 'region']).mean()\n",
    "    return means.xs('recovery') - means.xs('baseline')"
   ]
  },
  {
   "cell_type": "code",
   "execution_count": 16,
   "metadata": {
    "execution": {
     "iopub.execute_input": "2021-06-10T19:24:55.669211Z",
     "iopub.status.busy": "2021-06-10T19:24:55.669059Z",
     "iopub.status.idle": "2021-06-10T19:25:19.723201Z",
     "shell.execute_reply": "2021-06-10T19:25:19.722526Z",
     "shell.execute_reply.started": "2021-06-10T19:24:55.669195Z"
    }
   },
   "outputs": [],
   "source": [
    "observed = difference_of_means(nrem_pow)\n",
    "\n",
    "n_permutations = 10000\n",
    "permutations = list()\n",
    "permuted = nrem_pow.copy()\n",
    "for i in range(n_permutations):\n",
    "    np.random.shuffle(permuted.condition.values)\n",
    "    permutations.append(difference_of_means(permuted))\n",
    "    \n",
    "df = pd.concat(permutations)"
   ]
  },
  {
   "cell_type": "code",
   "execution_count": 17,
   "metadata": {
    "execution": {
     "iopub.execute_input": "2021-06-10T19:25:19.724176Z",
     "iopub.status.busy": "2021-06-10T19:25:19.724036Z",
     "iopub.status.idle": "2021-06-10T19:25:20.018877Z",
     "shell.execute_reply": "2021-06-10T19:25:20.018266Z",
     "shell.execute_reply.started": "2021-06-10T19:25:19.724160Z"
    }
   },
   "outputs": [
    {
     "data": {
      "application/vnd.jupyter.widget-view+json": {
       "model_id": "9bd1d8569e3a43deb36546c0b5216bb2",
       "version_major": 2,
       "version_minor": 0
      },
      "text/plain": [
       "Canvas(toolbar=Toolbar(toolitems=[('Home', 'Reset original view', 'home', 'home'), ('Back', 'Back to previous …"
      ]
     },
     "metadata": {},
     "output_type": "display_data"
    }
   ],
   "source": [
    "g = sns.displot(data=df, x='power', col='region', kind='hist')\n",
    "g.set(xlabel='Difference of means (SD - BL)')\n",
    "g.tight_layout()"
   ]
  },
  {
   "cell_type": "code",
   "execution_count": 18,
   "metadata": {
    "execution": {
     "iopub.execute_input": "2021-06-10T19:25:20.019652Z",
     "iopub.status.busy": "2021-06-10T19:25:20.019527Z",
     "iopub.status.idle": "2021-06-10T19:25:20.038054Z",
     "shell.execute_reply": "2021-06-10T19:25:20.037661Z",
     "shell.execute_reply.started": "2021-06-10T19:25:20.019636Z"
    }
   },
   "outputs": [],
   "source": [
    "cx = df.xs('mpta_wm_ref').sort_values('power')\n",
    "hc = df.xs('sr_wm_ref').sort_values('power')"
   ]
  },
  {
   "cell_type": "code",
   "execution_count": 19,
   "metadata": {
    "execution": {
     "iopub.execute_input": "2021-06-10T19:25:20.038797Z",
     "iopub.status.busy": "2021-06-10T19:25:20.038646Z",
     "iopub.status.idle": "2021-06-10T19:25:20.050194Z",
     "shell.execute_reply": "2021-06-10T19:25:20.049576Z",
     "shell.execute_reply.started": "2021-06-10T19:25:20.038782Z"
    }
   },
   "outputs": [],
   "source": [
    "pcx = np.sum(cx.power.values >= observed.xs('mpta_wm_ref').values)"
   ]
  },
  {
   "cell_type": "code",
   "execution_count": 20,
   "metadata": {
    "execution": {
     "iopub.execute_input": "2021-06-10T19:25:20.050911Z",
     "iopub.status.busy": "2021-06-10T19:25:20.050791Z",
     "iopub.status.idle": "2021-06-10T19:25:20.064109Z",
     "shell.execute_reply": "2021-06-10T19:25:20.063642Z",
     "shell.execute_reply.started": "2021-06-10T19:25:20.050896Z"
    }
   },
   "outputs": [],
   "source": [
    "phc = np.sum(hc.power.values >= observed.xs('sr_wm_ref').values)"
   ]
  },
  {
   "cell_type": "code",
   "execution_count": 21,
   "metadata": {
    "execution": {
     "iopub.execute_input": "2021-06-10T19:25:20.064748Z",
     "iopub.status.busy": "2021-06-10T19:25:20.064625Z",
     "iopub.status.idle": "2021-06-10T19:25:20.079240Z",
     "shell.execute_reply": "2021-06-10T19:25:20.078834Z",
     "shell.execute_reply.started": "2021-06-10T19:25:20.064733Z"
    }
   },
   "outputs": [
    {
     "name": "stdout",
     "output_type": "stream",
     "text": [
      "Subject: Segundo\n",
      "Observed differences, Mean SD - Mean BSL:\n",
      "\n",
      "| region      |   power |\n",
      "|:------------|--------:|\n",
      "| mpta_wm_ref |  434470 |\n",
      "| sr_wm_ref   |  162575 |\n",
      "\n",
      "\n",
      "Shuffled differences >= observed:\n",
      "Cortex: 1 / 10000\n",
      "Hippocampus: 1 / 10000\n"
     ]
    }
   ],
   "source": [
    "print(f\"Subject: {subject}\")\n",
    "print('Observed differences, Mean SD - Mean BSL:\\n')\n",
    "print(observed.to_markdown())\n",
    "print('\\n')\n",
    "print('Shuffled differences >= observed:')\n",
    "print(f\"Cortex: {1 + pcx} / {n_permutations}\")\n",
    "print(f\"Hippocampus: {1 + phc} / {n_permutations}\")"
   ]
  },
  {
   "cell_type": "code",
   "execution_count": null,
   "metadata": {},
   "outputs": [],
   "source": []
  }
 ],
 "metadata": {
  "kernelspec": {
   "display_name": "Python 3",
   "language": "python",
   "name": "python3"
  },
  "language_info": {
   "codemirror_mode": {
    "name": "ipython",
    "version": 3
   },
   "file_extension": ".py",
   "mimetype": "text/x-python",
   "name": "python",
   "nbconvert_exporter": "python",
   "pygments_lexer": "ipython3",
   "version": "3.7.9"
  }
 },
 "nbformat": 4,
 "nbformat_minor": 4
}
