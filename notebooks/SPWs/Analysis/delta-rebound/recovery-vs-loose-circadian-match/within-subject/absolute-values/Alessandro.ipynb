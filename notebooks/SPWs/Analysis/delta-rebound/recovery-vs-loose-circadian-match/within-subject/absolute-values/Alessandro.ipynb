{
 "cells": [
  {
   "cell_type": "code",
   "execution_count": 1,
   "metadata": {
    "execution": {
     "iopub.execute_input": "2021-06-10T19:24:24.724216Z",
     "iopub.status.busy": "2021-06-10T19:24:24.723870Z",
     "iopub.status.idle": "2021-06-10T19:24:24.741255Z",
     "shell.execute_reply": "2021-06-10T19:24:24.740658Z",
     "shell.execute_reply.started": "2021-06-10T19:24:24.724174Z"
    }
   },
   "outputs": [],
   "source": [
    "%load_ext autoreload\n",
    "%autoreload 2"
   ]
  },
  {
   "cell_type": "code",
   "execution_count": 2,
   "metadata": {
    "execution": {
     "iopub.execute_input": "2021-06-10T19:24:24.742149Z",
     "iopub.status.busy": "2021-06-10T19:24:24.742020Z",
     "iopub.status.idle": "2021-06-10T19:24:25.068388Z",
     "shell.execute_reply": "2021-06-10T19:24:25.067887Z",
     "shell.execute_reply.started": "2021-06-10T19:24:24.742132Z"
    }
   },
   "outputs": [],
   "source": [
    "%matplotlib widget\n",
    "import matplotlib.pyplot as plt\n",
    "import seaborn as sns"
   ]
  },
  {
   "cell_type": "code",
   "execution_count": 3,
   "metadata": {
    "execution": {
     "iopub.execute_input": "2021-06-10T19:24:25.069498Z",
     "iopub.status.busy": "2021-06-10T19:24:25.069353Z",
     "iopub.status.idle": "2021-06-10T19:24:25.287206Z",
     "shell.execute_reply": "2021-06-10T19:24:25.286705Z",
     "shell.execute_reply.started": "2021-06-10T19:24:25.069480Z"
    }
   },
   "outputs": [],
   "source": [
    "import xarray as xr\n",
    "import numpy as np\n",
    "import pandas as pd"
   ]
  },
  {
   "cell_type": "code",
   "execution_count": 4,
   "metadata": {
    "execution": {
     "iopub.execute_input": "2021-06-10T19:24:25.288141Z",
     "iopub.status.busy": "2021-06-10T19:24:25.288006Z",
     "iopub.status.idle": "2021-06-10T19:24:25.299583Z",
     "shell.execute_reply": "2021-06-10T19:24:25.299089Z",
     "shell.execute_reply.started": "2021-06-10T19:24:25.288124Z"
    }
   },
   "outputs": [
    {
     "data": {
      "text/plain": [
       "<xarray.core.options.set_options at 0x7ff199c23090>"
      ]
     },
     "execution_count": 4,
     "metadata": {},
     "output_type": "execute_result"
    }
   ],
   "source": [
    "xr.set_options(keep_attrs=True)"
   ]
  },
  {
   "cell_type": "code",
   "execution_count": 5,
   "metadata": {
    "execution": {
     "iopub.execute_input": "2021-06-10T19:24:25.300226Z",
     "iopub.status.busy": "2021-06-10T19:24:25.300101Z",
     "iopub.status.idle": "2021-06-10T19:24:25.312671Z",
     "shell.execute_reply": "2021-06-10T19:24:25.312145Z",
     "shell.execute_reply.started": "2021-06-10T19:24:25.300210Z"
    }
   },
   "outputs": [],
   "source": [
    "import ecephys_analyses as ea \n",
    "from ecephys import utils\n",
    "from ecephys.signal.xarray_utils import filter_dataset_by_hypnogram"
   ]
  },
  {
   "cell_type": "code",
   "execution_count": 6,
   "metadata": {
    "execution": {
     "iopub.execute_input": "2021-06-10T19:24:25.313328Z",
     "iopub.status.busy": "2021-06-10T19:24:25.313203Z",
     "iopub.status.idle": "2021-06-10T19:24:25.325016Z",
     "shell.execute_reply": "2021-06-10T19:24:25.324354Z",
     "shell.execute_reply.started": "2021-06-10T19:24:25.313312Z"
    }
   },
   "outputs": [],
   "source": [
    "def ds2df(ds):\n",
    "    s = ds.to_dataframe().stack()\n",
    "    s.index.names = s.index.names[:-1] + ['region']\n",
    "    return s.to_frame(name='power')"
   ]
  },
  {
   "cell_type": "code",
   "execution_count": 7,
   "metadata": {
    "execution": {
     "iopub.execute_input": "2021-06-10T19:24:25.325658Z",
     "iopub.status.busy": "2021-06-10T19:24:25.325536Z",
     "iopub.status.idle": "2021-06-10T19:24:25.337838Z",
     "shell.execute_reply": "2021-06-10T19:24:25.337284Z",
     "shell.execute_reply.started": "2021-06-10T19:24:25.325639Z"
    }
   },
   "outputs": [],
   "source": [
    "subject = \"Alessandro\"\n",
    "experiment = \"sleep-homeostasis\"\n",
    "bsl_condition = \"recovery-sleep-circadian-match\"\n",
    "rec_condition = \"recovery-sleep\"\n",
    "states = [\"N1\", \"N2\"]\n",
    "duration = '02:00:00'\n",
    "light_period_end = '21:00:00'\n",
    "f_range = (0.5, 4)"
   ]
  },
  {
   "cell_type": "code",
   "execution_count": 8,
   "metadata": {
    "execution": {
     "iopub.execute_input": "2021-06-10T19:24:25.338493Z",
     "iopub.status.busy": "2021-06-10T19:24:25.338373Z",
     "iopub.status.idle": "2021-06-10T19:24:27.069212Z",
     "shell.execute_reply": "2021-06-10T19:24:27.068682Z",
     "shell.execute_reply.started": "2021-06-10T19:24:25.338477Z"
    }
   },
   "outputs": [],
   "source": [
    "rec_hyp = ea.load_hypnogram(subject, experiment, rec_condition)\n",
    "rec_hyp = rec_hyp.keep_states(states).keep_first(duration)\n",
    "\n",
    "rec_pow = ea.load_power(subject, experiment, rec_condition, \"spg.nc\").sel(frequency=slice(*f_range)).sum(dim='frequency')\n",
    "rec_pow = filter_dataset_by_hypnogram(rec_pow, rec_hyp,).swap_dims({'time': 'datetime'}).drop_vars(['time', 'timedelta'])"
   ]
  },
  {
   "cell_type": "code",
   "execution_count": 9,
   "metadata": {
    "execution": {
     "iopub.execute_input": "2021-06-10T19:24:27.070775Z",
     "iopub.status.busy": "2021-06-10T19:24:27.070634Z",
     "iopub.status.idle": "2021-06-10T19:24:28.973751Z",
     "shell.execute_reply": "2021-06-10T19:24:28.973321Z",
     "shell.execute_reply.started": "2021-06-10T19:24:27.070757Z"
    }
   },
   "outputs": [],
   "source": [
    "bsl_hyp = ea.load_hypnogram(subject, experiment, bsl_condition)\n",
    "bsl_hyp = bsl_hyp.keep_states(states).keep_between(rec_hyp.start_time.min().strftime(\"%H:%M:%S\"), light_period_end).keep_first(duration)\n",
    "\n",
    "bsl_pow = ea.load_power(subject, experiment, bsl_condition, \"spg.nc\").sel(frequency=slice(*f_range)).sum(dim='frequency')\n",
    "bsl_pow = filter_dataset_by_hypnogram(bsl_pow, bsl_hyp).swap_dims({'time': 'datetime'}).drop_vars(['time', 'timedelta'])"
   ]
  },
  {
   "cell_type": "code",
   "execution_count": 10,
   "metadata": {
    "execution": {
     "iopub.execute_input": "2021-06-10T19:24:28.974835Z",
     "iopub.status.busy": "2021-06-10T19:24:28.974693Z",
     "iopub.status.idle": "2021-06-10T19:24:28.991801Z",
     "shell.execute_reply": "2021-06-10T19:24:28.991365Z",
     "shell.execute_reply.started": "2021-06-10T19:24:28.974817Z"
    }
   },
   "outputs": [],
   "source": [
    "nrem_pow = pd.concat([ds2df(bsl_pow).assign(condition=\"baseline\"), ds2df(rec_pow).assign(condition=\"recovery\")])"
   ]
  },
  {
   "cell_type": "code",
   "execution_count": 11,
   "metadata": {
    "execution": {
     "iopub.execute_input": "2021-06-10T19:24:28.992477Z",
     "iopub.status.busy": "2021-06-10T19:24:28.992354Z",
     "iopub.status.idle": "2021-06-10T19:24:29.011106Z",
     "shell.execute_reply": "2021-06-10T19:24:29.010647Z",
     "shell.execute_reply.started": "2021-06-10T19:24:28.992461Z"
    }
   },
   "outputs": [
    {
     "data": {
      "text/html": [
       "<div>\n",
       "<style scoped>\n",
       "    .dataframe tbody tr th:only-of-type {\n",
       "        vertical-align: middle;\n",
       "    }\n",
       "\n",
       "    .dataframe tbody tr th {\n",
       "        vertical-align: top;\n",
       "    }\n",
       "\n",
       "    .dataframe thead th {\n",
       "        text-align: right;\n",
       "    }\n",
       "</style>\n",
       "<table border=\"1\" class=\"dataframe\">\n",
       "  <thead>\n",
       "    <tr style=\"text-align: right;\">\n",
       "      <th></th>\n",
       "      <th></th>\n",
       "      <th>power</th>\n",
       "      <th>condition</th>\n",
       "    </tr>\n",
       "    <tr>\n",
       "      <th>datetime</th>\n",
       "      <th>region</th>\n",
       "      <th></th>\n",
       "      <th></th>\n",
       "    </tr>\n",
       "  </thead>\n",
       "  <tbody>\n",
       "    <tr>\n",
       "      <th rowspan=\"2\" valign=\"top\">2020-08-24 15:07:40.999106578</th>\n",
       "      <th>mpta_wm_ref</th>\n",
       "      <td>4.285370e+04</td>\n",
       "      <td>baseline</td>\n",
       "    </tr>\n",
       "    <tr>\n",
       "      <th>sr_wm_ref</th>\n",
       "      <td>1.285505e+06</td>\n",
       "      <td>baseline</td>\n",
       "    </tr>\n",
       "    <tr>\n",
       "      <th rowspan=\"2\" valign=\"top\">2020-08-24 15:07:43.999089615</th>\n",
       "      <th>mpta_wm_ref</th>\n",
       "      <td>8.071374e+04</td>\n",
       "      <td>baseline</td>\n",
       "    </tr>\n",
       "    <tr>\n",
       "      <th>sr_wm_ref</th>\n",
       "      <td>7.768382e+05</td>\n",
       "      <td>baseline</td>\n",
       "    </tr>\n",
       "    <tr>\n",
       "      <th>2020-08-24 15:07:46.999072651</th>\n",
       "      <th>mpta_wm_ref</th>\n",
       "      <td>2.792827e+04</td>\n",
       "      <td>baseline</td>\n",
       "    </tr>\n",
       "    <tr>\n",
       "      <th>...</th>\n",
       "      <th>...</th>\n",
       "      <td>...</td>\n",
       "      <td>...</td>\n",
       "    </tr>\n",
       "    <tr>\n",
       "      <th>2020-08-25 17:25:20.993796939</th>\n",
       "      <th>sr_wm_ref</th>\n",
       "      <td>2.941500e+05</td>\n",
       "      <td>recovery</td>\n",
       "    </tr>\n",
       "    <tr>\n",
       "      <th rowspan=\"2\" valign=\"top\">2020-08-25 17:25:23.993779975</th>\n",
       "      <th>mpta_wm_ref</th>\n",
       "      <td>1.904696e+05</td>\n",
       "      <td>recovery</td>\n",
       "    </tr>\n",
       "    <tr>\n",
       "      <th>sr_wm_ref</th>\n",
       "      <td>1.307848e+06</td>\n",
       "      <td>recovery</td>\n",
       "    </tr>\n",
       "    <tr>\n",
       "      <th rowspan=\"2\" valign=\"top\">2020-08-25 17:25:26.993763011</th>\n",
       "      <th>mpta_wm_ref</th>\n",
       "      <td>3.875523e+05</td>\n",
       "      <td>recovery</td>\n",
       "    </tr>\n",
       "    <tr>\n",
       "      <th>sr_wm_ref</th>\n",
       "      <td>2.409618e+05</td>\n",
       "      <td>recovery</td>\n",
       "    </tr>\n",
       "  </tbody>\n",
       "</table>\n",
       "<p>9358 rows × 2 columns</p>\n",
       "</div>"
      ],
      "text/plain": [
       "                                                  power condition\n",
       "datetime                      region                             \n",
       "2020-08-24 15:07:40.999106578 mpta_wm_ref  4.285370e+04  baseline\n",
       "                              sr_wm_ref    1.285505e+06  baseline\n",
       "2020-08-24 15:07:43.999089615 mpta_wm_ref  8.071374e+04  baseline\n",
       "                              sr_wm_ref    7.768382e+05  baseline\n",
       "2020-08-24 15:07:46.999072651 mpta_wm_ref  2.792827e+04  baseline\n",
       "...                                                 ...       ...\n",
       "2020-08-25 17:25:20.993796939 sr_wm_ref    2.941500e+05  recovery\n",
       "2020-08-25 17:25:23.993779975 mpta_wm_ref  1.904696e+05  recovery\n",
       "                              sr_wm_ref    1.307848e+06  recovery\n",
       "2020-08-25 17:25:26.993763011 mpta_wm_ref  3.875523e+05  recovery\n",
       "                              sr_wm_ref    2.409618e+05  recovery\n",
       "\n",
       "[9358 rows x 2 columns]"
      ]
     },
     "execution_count": 11,
     "metadata": {},
     "output_type": "execute_result"
    }
   ],
   "source": [
    "nrem_pow"
   ]
  },
  {
   "cell_type": "code",
   "execution_count": 12,
   "metadata": {
    "execution": {
     "iopub.execute_input": "2021-06-10T19:24:29.011786Z",
     "iopub.status.busy": "2021-06-10T19:24:29.011663Z",
     "iopub.status.idle": "2021-06-10T19:24:29.728383Z",
     "shell.execute_reply": "2021-06-10T19:24:29.727974Z",
     "shell.execute_reply.started": "2021-06-10T19:24:29.011771Z"
    }
   },
   "outputs": [
    {
     "data": {
      "application/vnd.jupyter.widget-view+json": {
       "model_id": "a7a2e316f10e456ca7464a9f41ac5a6f",
       "version_major": 2,
       "version_minor": 0
      },
      "text/plain": [
       "Canvas(toolbar=Toolbar(toolitems=[('Home', 'Reset original view', 'home', 'home'), ('Back', 'Back to previous …"
      ]
     },
     "metadata": {},
     "output_type": "display_data"
    }
   ],
   "source": [
    "g = sns.displot(data=nrem_pow, x='power', hue='condition', col='region', kind='hist')\n",
    "g.set(xlabel='Delta (0.5 - 4Hz) PSD (uV^2/Hz)')\n",
    "g.tight_layout()"
   ]
  },
  {
   "cell_type": "code",
   "execution_count": 13,
   "metadata": {
    "execution": {
     "iopub.execute_input": "2021-06-10T19:24:29.729224Z",
     "iopub.status.busy": "2021-06-10T19:24:29.729078Z",
     "iopub.status.idle": "2021-06-10T19:24:30.232967Z",
     "shell.execute_reply": "2021-06-10T19:24:30.232374Z",
     "shell.execute_reply.started": "2021-06-10T19:24:29.729205Z"
    }
   },
   "outputs": [
    {
     "data": {
      "application/vnd.jupyter.widget-view+json": {
       "model_id": "6e1b2147767c49b5a55004485099b6b1",
       "version_major": 2,
       "version_minor": 0
      },
      "text/plain": [
       "Canvas(toolbar=Toolbar(toolitems=[('Home', 'Reset original view', 'home', 'home'), ('Back', 'Back to previous …"
      ]
     },
     "metadata": {},
     "output_type": "display_data"
    }
   ],
   "source": [
    "nrem_pow_log = nrem_pow.copy()\n",
    "nrem_pow_log['power'] = np.log(nrem_pow.power)\n",
    "\n",
    "g = sns.displot(data=nrem_pow_log, x='power', hue='condition', col='region', kind='hist')\n",
    "g.set(xlabel='Delta (0.5 - 4Hz) PSD (uV^2/Hz)')\n",
    "g.tight_layout()"
   ]
  },
  {
   "cell_type": "code",
   "execution_count": 14,
   "metadata": {
    "execution": {
     "iopub.execute_input": "2021-06-10T19:24:30.233754Z",
     "iopub.status.busy": "2021-06-10T19:24:30.233624Z",
     "iopub.status.idle": "2021-06-10T19:24:31.051234Z",
     "shell.execute_reply": "2021-06-10T19:24:31.050567Z",
     "shell.execute_reply.started": "2021-06-10T19:24:30.233736Z"
    }
   },
   "outputs": [
    {
     "data": {
      "application/vnd.jupyter.widget-view+json": {
       "model_id": "941ecd22f2a74f2a9b4a96b6a9baf670",
       "version_major": 2,
       "version_minor": 0
      },
      "text/plain": [
       "Canvas(toolbar=Toolbar(toolitems=[('Home', 'Reset original view', 'home', 'home'), ('Back', 'Back to previous …"
      ]
     },
     "metadata": {},
     "output_type": "display_data"
    }
   ],
   "source": [
    "nrem_pow_sqrt = nrem_pow.copy()\n",
    "nrem_pow_sqrt['power'] = np.sqrt(nrem_pow.power)\n",
    "\n",
    "g = sns.displot(data=nrem_pow_sqrt, x='power', hue='condition', col='region', kind='hist')\n",
    "g.set(xlabel='Delta (0.5 - 4Hz) PSD (uV^2/Hz)')\n",
    "g.tight_layout()"
   ]
  },
  {
   "cell_type": "code",
   "execution_count": 15,
   "metadata": {
    "execution": {
     "iopub.execute_input": "2021-06-10T19:24:31.052549Z",
     "iopub.status.busy": "2021-06-10T19:24:31.052297Z",
     "iopub.status.idle": "2021-06-10T19:24:31.074989Z",
     "shell.execute_reply": "2021-06-10T19:24:31.074289Z",
     "shell.execute_reply.started": "2021-06-10T19:24:31.052515Z"
    }
   },
   "outputs": [],
   "source": [
    "def difference_of_means(df):\n",
    "    means = df.groupby(['condition', 'region']).mean()\n",
    "    return means.xs('recovery') - means.xs('baseline')"
   ]
  },
  {
   "cell_type": "code",
   "execution_count": 16,
   "metadata": {
    "execution": {
     "iopub.execute_input": "2021-06-10T19:24:31.076232Z",
     "iopub.status.busy": "2021-06-10T19:24:31.075990Z",
     "iopub.status.idle": "2021-06-10T19:24:55.783433Z",
     "shell.execute_reply": "2021-06-10T19:24:55.782750Z",
     "shell.execute_reply.started": "2021-06-10T19:24:31.076188Z"
    }
   },
   "outputs": [],
   "source": [
    "observed = difference_of_means(nrem_pow)\n",
    "\n",
    "n_permutations = 10000\n",
    "permutations = list()\n",
    "permuted = nrem_pow.copy()\n",
    "for i in range(n_permutations):\n",
    "    np.random.shuffle(permuted.condition.values)\n",
    "    permutations.append(difference_of_means(permuted))\n",
    "    \n",
    "df = pd.concat(permutations)"
   ]
  },
  {
   "cell_type": "code",
   "execution_count": 17,
   "metadata": {
    "execution": {
     "iopub.execute_input": "2021-06-10T19:24:55.784519Z",
     "iopub.status.busy": "2021-06-10T19:24:55.784359Z",
     "iopub.status.idle": "2021-06-10T19:24:56.213618Z",
     "shell.execute_reply": "2021-06-10T19:24:56.212909Z",
     "shell.execute_reply.started": "2021-06-10T19:24:55.784501Z"
    }
   },
   "outputs": [
    {
     "data": {
      "application/vnd.jupyter.widget-view+json": {
       "model_id": "889be7a9201d4cfda2d7edea284eb737",
       "version_major": 2,
       "version_minor": 0
      },
      "text/plain": [
       "Canvas(toolbar=Toolbar(toolitems=[('Home', 'Reset original view', 'home', 'home'), ('Back', 'Back to previous …"
      ]
     },
     "metadata": {},
     "output_type": "display_data"
    }
   ],
   "source": [
    "g = sns.displot(data=df, x='power', col='region', kind='hist')\n",
    "g.set(xlabel='Difference of means (SD - BL)')\n",
    "g.tight_layout()"
   ]
  },
  {
   "cell_type": "code",
   "execution_count": 18,
   "metadata": {
    "execution": {
     "iopub.execute_input": "2021-06-10T19:24:56.214567Z",
     "iopub.status.busy": "2021-06-10T19:24:56.214429Z",
     "iopub.status.idle": "2021-06-10T19:24:56.231313Z",
     "shell.execute_reply": "2021-06-10T19:24:56.230713Z",
     "shell.execute_reply.started": "2021-06-10T19:24:56.214550Z"
    }
   },
   "outputs": [],
   "source": [
    "cx = df.xs('mpta_wm_ref').sort_values('power')\n",
    "hc = df.xs('sr_wm_ref').sort_values('power')"
   ]
  },
  {
   "cell_type": "code",
   "execution_count": 19,
   "metadata": {
    "execution": {
     "iopub.execute_input": "2021-06-10T19:24:56.232115Z",
     "iopub.status.busy": "2021-06-10T19:24:56.231994Z",
     "iopub.status.idle": "2021-06-10T19:24:56.244587Z",
     "shell.execute_reply": "2021-06-10T19:24:56.243575Z",
     "shell.execute_reply.started": "2021-06-10T19:24:56.232100Z"
    }
   },
   "outputs": [],
   "source": [
    "pcx = np.sum(cx.power.values >= observed.xs('mpta_wm_ref').values)"
   ]
  },
  {
   "cell_type": "code",
   "execution_count": 20,
   "metadata": {
    "execution": {
     "iopub.execute_input": "2021-06-10T19:24:56.245275Z",
     "iopub.status.busy": "2021-06-10T19:24:56.245159Z",
     "iopub.status.idle": "2021-06-10T19:24:56.256408Z",
     "shell.execute_reply": "2021-06-10T19:24:56.255684Z",
     "shell.execute_reply.started": "2021-06-10T19:24:56.245260Z"
    }
   },
   "outputs": [],
   "source": [
    "phc = np.sum(hc.power.values >= observed.xs('sr_wm_ref').values)"
   ]
  },
  {
   "cell_type": "code",
   "execution_count": 21,
   "metadata": {
    "execution": {
     "iopub.execute_input": "2021-06-10T19:24:56.257156Z",
     "iopub.status.busy": "2021-06-10T19:24:56.257030Z",
     "iopub.status.idle": "2021-06-10T19:24:56.273215Z",
     "shell.execute_reply": "2021-06-10T19:24:56.272489Z",
     "shell.execute_reply.started": "2021-06-10T19:24:56.257141Z"
    }
   },
   "outputs": [
    {
     "name": "stdout",
     "output_type": "stream",
     "text": [
      "Subject: Alessandro\n",
      "Observed differences, Mean SD - Mean BSL:\n",
      "\n",
      "| region      |   power |\n",
      "|:------------|--------:|\n",
      "| mpta_wm_ref |  227409 |\n",
      "| sr_wm_ref   |  171072 |\n",
      "\n",
      "\n",
      "Shuffled differences >= observed:\n",
      "Cortex: 1 / 10000\n",
      "Hippocampus: 1 / 10000\n"
     ]
    }
   ],
   "source": [
    "print(f\"Subject: {subject}\")\n",
    "print('Observed differences, Mean SD - Mean BSL:\\n')\n",
    "print(observed.to_markdown())\n",
    "print('\\n')\n",
    "print('Shuffled differences >= observed:')\n",
    "print(f\"Cortex: {1 + pcx} / {n_permutations}\")\n",
    "print(f\"Hippocampus: {1 + phc} / {n_permutations}\")"
   ]
  },
  {
   "cell_type": "code",
   "execution_count": null,
   "metadata": {},
   "outputs": [],
   "source": []
  }
 ],
 "metadata": {
  "kernelspec": {
   "display_name": "Python 3",
   "language": "python",
   "name": "python3"
  },
  "language_info": {
   "codemirror_mode": {
    "name": "ipython",
    "version": 3
   },
   "file_extension": ".py",
   "mimetype": "text/x-python",
   "name": "python",
   "nbconvert_exporter": "python",
   "pygments_lexer": "ipython3",
   "version": "3.7.9"
  }
 },
 "nbformat": 4,
 "nbformat_minor": 4
}
