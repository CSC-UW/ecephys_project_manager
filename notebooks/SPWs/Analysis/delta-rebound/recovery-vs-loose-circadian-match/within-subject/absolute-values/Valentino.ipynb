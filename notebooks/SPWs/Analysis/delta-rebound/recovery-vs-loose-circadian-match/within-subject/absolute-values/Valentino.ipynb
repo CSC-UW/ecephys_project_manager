{
 "cells": [
  {
   "cell_type": "code",
   "execution_count": 1,
   "metadata": {
    "execution": {
     "iopub.execute_input": "2021-06-10T19:23:38.745405Z",
     "iopub.status.busy": "2021-06-10T19:23:38.745168Z",
     "iopub.status.idle": "2021-06-10T19:23:38.760688Z",
     "shell.execute_reply": "2021-06-10T19:23:38.759971Z",
     "shell.execute_reply.started": "2021-06-10T19:23:38.745376Z"
    }
   },
   "outputs": [],
   "source": [
    "%load_ext autoreload\n",
    "%autoreload 2"
   ]
  },
  {
   "cell_type": "code",
   "execution_count": 2,
   "metadata": {
    "execution": {
     "iopub.execute_input": "2021-06-10T19:23:38.964072Z",
     "iopub.status.busy": "2021-06-10T19:23:38.963857Z",
     "iopub.status.idle": "2021-06-10T19:23:39.268003Z",
     "shell.execute_reply": "2021-06-10T19:23:39.267402Z",
     "shell.execute_reply.started": "2021-06-10T19:23:38.964045Z"
    }
   },
   "outputs": [],
   "source": [
    "%matplotlib widget\n",
    "import matplotlib.pyplot as plt\n",
    "import seaborn as sns"
   ]
  },
  {
   "cell_type": "code",
   "execution_count": 3,
   "metadata": {
    "execution": {
     "iopub.execute_input": "2021-06-10T19:23:39.280011Z",
     "iopub.status.busy": "2021-06-10T19:23:39.279884Z",
     "iopub.status.idle": "2021-06-10T19:23:39.539866Z",
     "shell.execute_reply": "2021-06-10T19:23:39.539268Z",
     "shell.execute_reply.started": "2021-06-10T19:23:39.279995Z"
    }
   },
   "outputs": [],
   "source": [
    "import xarray as xr\n",
    "import numpy as np\n",
    "import pandas as pd"
   ]
  },
  {
   "cell_type": "code",
   "execution_count": 4,
   "metadata": {
    "execution": {
     "iopub.execute_input": "2021-06-10T19:23:39.552483Z",
     "iopub.status.busy": "2021-06-10T19:23:39.552357Z",
     "iopub.status.idle": "2021-06-10T19:23:39.562730Z",
     "shell.execute_reply": "2021-06-10T19:23:39.562127Z",
     "shell.execute_reply.started": "2021-06-10T19:23:39.552467Z"
    }
   },
   "outputs": [
    {
     "data": {
      "text/plain": [
       "<xarray.core.options.set_options at 0x7f1569b2ee90>"
      ]
     },
     "execution_count": 4,
     "metadata": {},
     "output_type": "execute_result"
    }
   ],
   "source": [
    "xr.set_options(keep_attrs=True)"
   ]
  },
  {
   "cell_type": "code",
   "execution_count": 5,
   "metadata": {
    "execution": {
     "iopub.execute_input": "2021-06-10T19:23:39.634767Z",
     "iopub.status.busy": "2021-06-10T19:23:39.634543Z",
     "iopub.status.idle": "2021-06-10T19:23:39.651965Z",
     "shell.execute_reply": "2021-06-10T19:23:39.651581Z",
     "shell.execute_reply.started": "2021-06-10T19:23:39.634739Z"
    }
   },
   "outputs": [],
   "source": [
    "import ecephys_analyses as ea \n",
    "from ecephys import utils\n",
    "from ecephys.signal.xarray_utils import filter_dataset_by_hypnogram"
   ]
  },
  {
   "cell_type": "code",
   "execution_count": 6,
   "metadata": {
    "execution": {
     "iopub.execute_input": "2021-06-10T19:23:39.906130Z",
     "iopub.status.busy": "2021-06-10T19:23:39.905924Z",
     "iopub.status.idle": "2021-06-10T19:23:39.922088Z",
     "shell.execute_reply": "2021-06-10T19:23:39.921516Z",
     "shell.execute_reply.started": "2021-06-10T19:23:39.906104Z"
    }
   },
   "outputs": [],
   "source": [
    "def ds2df(ds):\n",
    "    s = ds.to_dataframe().stack()\n",
    "    s.index.names = s.index.names[:-1] + ['region']\n",
    "    return s.to_frame(name='power')"
   ]
  },
  {
   "cell_type": "code",
   "execution_count": 7,
   "metadata": {
    "execution": {
     "iopub.execute_input": "2021-06-10T19:23:40.242350Z",
     "iopub.status.busy": "2021-06-10T19:23:40.242181Z",
     "iopub.status.idle": "2021-06-10T19:23:40.257777Z",
     "shell.execute_reply": "2021-06-10T19:23:40.257119Z",
     "shell.execute_reply.started": "2021-06-10T19:23:40.242333Z"
    }
   },
   "outputs": [],
   "source": [
    "subject = \"Valentino\"\n",
    "experiment = \"sleep-homeostasis\"\n",
    "bsl_condition = \"recovery-sleep-circadian-match\"\n",
    "rec_condition = \"recovery-sleep\"\n",
    "states = [\"N1\", \"N2\"]\n",
    "duration = '02:00:00'\n",
    "light_period_end = '21:00:00'\n",
    "f_range = (0.5, 4)"
   ]
  },
  {
   "cell_type": "code",
   "execution_count": 8,
   "metadata": {
    "execution": {
     "iopub.execute_input": "2021-06-10T19:23:40.674373Z",
     "iopub.status.busy": "2021-06-10T19:23:40.674114Z",
     "iopub.status.idle": "2021-06-10T19:23:42.402323Z",
     "shell.execute_reply": "2021-06-10T19:23:42.401813Z",
     "shell.execute_reply.started": "2021-06-10T19:23:40.674339Z"
    }
   },
   "outputs": [],
   "source": [
    "rec_hyp = ea.load_hypnogram(subject, experiment, rec_condition)\n",
    "rec_hyp = rec_hyp.keep_states(states).keep_first(duration)\n",
    "\n",
    "rec_pow = ea.load_power(subject, experiment, rec_condition, \"spg.nc\").sel(frequency=slice(*f_range)).sum(dim='frequency')\n",
    "rec_pow = filter_dataset_by_hypnogram(rec_pow, rec_hyp).swap_dims({'time': 'datetime'}).drop_vars(['time', 'timedelta'])"
   ]
  },
  {
   "cell_type": "code",
   "execution_count": 9,
   "metadata": {
    "execution": {
     "iopub.execute_input": "2021-06-10T19:23:42.418962Z",
     "iopub.status.busy": "2021-06-10T19:23:42.418835Z",
     "iopub.status.idle": "2021-06-10T19:23:44.057502Z",
     "shell.execute_reply": "2021-06-10T19:23:44.056823Z",
     "shell.execute_reply.started": "2021-06-10T19:23:42.418946Z"
    }
   },
   "outputs": [],
   "source": [
    "bsl_hyp = ea.load_hypnogram(subject, experiment, bsl_condition)\n",
    "bsl_hyp = bsl_hyp.keep_states(states).keep_between(rec_hyp.start_time.min().strftime(\"%H:%M:%S\"), light_period_end).keep_first(duration)\n",
    "\n",
    "bsl_pow = ea.load_power(subject, experiment, bsl_condition, \"spg.nc\").sel(frequency=slice(*f_range)).sum(dim='frequency')\n",
    "bsl_pow = filter_dataset_by_hypnogram(bsl_pow, bsl_hyp).swap_dims({'time': 'datetime'}).drop_vars(['time', 'timedelta'])"
   ]
  },
  {
   "cell_type": "code",
   "execution_count": 10,
   "metadata": {
    "execution": {
     "iopub.execute_input": "2021-06-10T19:23:44.058477Z",
     "iopub.status.busy": "2021-06-10T19:23:44.058335Z",
     "iopub.status.idle": "2021-06-10T19:23:44.075641Z",
     "shell.execute_reply": "2021-06-10T19:23:44.074690Z",
     "shell.execute_reply.started": "2021-06-10T19:23:44.058460Z"
    }
   },
   "outputs": [],
   "source": [
    "nrem_pow = pd.concat([ds2df(bsl_pow).assign(condition=\"baseline\"), ds2df(rec_pow).assign(condition=\"recovery\")])"
   ]
  },
  {
   "cell_type": "code",
   "execution_count": 11,
   "metadata": {
    "execution": {
     "iopub.execute_input": "2021-06-10T19:23:44.076307Z",
     "iopub.status.busy": "2021-06-10T19:23:44.076183Z",
     "iopub.status.idle": "2021-06-10T19:23:44.094909Z",
     "shell.execute_reply": "2021-06-10T19:23:44.094432Z",
     "shell.execute_reply.started": "2021-06-10T19:23:44.076290Z"
    }
   },
   "outputs": [
    {
     "data": {
      "text/html": [
       "<div>\n",
       "<style scoped>\n",
       "    .dataframe tbody tr th:only-of-type {\n",
       "        vertical-align: middle;\n",
       "    }\n",
       "\n",
       "    .dataframe tbody tr th {\n",
       "        vertical-align: top;\n",
       "    }\n",
       "\n",
       "    .dataframe thead th {\n",
       "        text-align: right;\n",
       "    }\n",
       "</style>\n",
       "<table border=\"1\" class=\"dataframe\">\n",
       "  <thead>\n",
       "    <tr style=\"text-align: right;\">\n",
       "      <th></th>\n",
       "      <th></th>\n",
       "      <th>power</th>\n",
       "      <th>condition</th>\n",
       "    </tr>\n",
       "    <tr>\n",
       "      <th>datetime</th>\n",
       "      <th>region</th>\n",
       "      <th></th>\n",
       "      <th></th>\n",
       "    </tr>\n",
       "  </thead>\n",
       "  <tbody>\n",
       "    <tr>\n",
       "      <th rowspan=\"2\" valign=\"top\">2020-02-19 15:08:05</th>\n",
       "      <th>mpta_wm_ref</th>\n",
       "      <td>7.731762e+03</td>\n",
       "      <td>baseline</td>\n",
       "    </tr>\n",
       "    <tr>\n",
       "      <th>sr_wm_ref</th>\n",
       "      <td>1.000737e+05</td>\n",
       "      <td>baseline</td>\n",
       "    </tr>\n",
       "    <tr>\n",
       "      <th rowspan=\"2\" valign=\"top\">2020-02-19 15:08:08</th>\n",
       "      <th>mpta_wm_ref</th>\n",
       "      <td>1.183816e+04</td>\n",
       "      <td>baseline</td>\n",
       "    </tr>\n",
       "    <tr>\n",
       "      <th>sr_wm_ref</th>\n",
       "      <td>8.882362e+04</td>\n",
       "      <td>baseline</td>\n",
       "    </tr>\n",
       "    <tr>\n",
       "      <th>2020-02-19 15:08:11</th>\n",
       "      <th>mpta_wm_ref</th>\n",
       "      <td>8.111499e+03</td>\n",
       "      <td>baseline</td>\n",
       "    </tr>\n",
       "    <tr>\n",
       "      <th>...</th>\n",
       "      <th>...</th>\n",
       "      <td>...</td>\n",
       "      <td>...</td>\n",
       "    </tr>\n",
       "    <tr>\n",
       "      <th>2020-02-20 17:49:31</th>\n",
       "      <th>sr_wm_ref</th>\n",
       "      <td>2.010515e+06</td>\n",
       "      <td>recovery</td>\n",
       "    </tr>\n",
       "    <tr>\n",
       "      <th rowspan=\"2\" valign=\"top\">2020-02-20 17:49:34</th>\n",
       "      <th>mpta_wm_ref</th>\n",
       "      <td>1.289051e+05</td>\n",
       "      <td>recovery</td>\n",
       "    </tr>\n",
       "    <tr>\n",
       "      <th>sr_wm_ref</th>\n",
       "      <td>3.571213e+05</td>\n",
       "      <td>recovery</td>\n",
       "    </tr>\n",
       "    <tr>\n",
       "      <th rowspan=\"2\" valign=\"top\">2020-02-20 17:49:37</th>\n",
       "      <th>mpta_wm_ref</th>\n",
       "      <td>1.531255e+05</td>\n",
       "      <td>recovery</td>\n",
       "    </tr>\n",
       "    <tr>\n",
       "      <th>sr_wm_ref</th>\n",
       "      <td>5.762115e+05</td>\n",
       "      <td>recovery</td>\n",
       "    </tr>\n",
       "  </tbody>\n",
       "</table>\n",
       "<p>9578 rows × 2 columns</p>\n",
       "</div>"
      ],
      "text/plain": [
       "                                        power condition\n",
       "datetime            region                             \n",
       "2020-02-19 15:08:05 mpta_wm_ref  7.731762e+03  baseline\n",
       "                    sr_wm_ref    1.000737e+05  baseline\n",
       "2020-02-19 15:08:08 mpta_wm_ref  1.183816e+04  baseline\n",
       "                    sr_wm_ref    8.882362e+04  baseline\n",
       "2020-02-19 15:08:11 mpta_wm_ref  8.111499e+03  baseline\n",
       "...                                       ...       ...\n",
       "2020-02-20 17:49:31 sr_wm_ref    2.010515e+06  recovery\n",
       "2020-02-20 17:49:34 mpta_wm_ref  1.289051e+05  recovery\n",
       "                    sr_wm_ref    3.571213e+05  recovery\n",
       "2020-02-20 17:49:37 mpta_wm_ref  1.531255e+05  recovery\n",
       "                    sr_wm_ref    5.762115e+05  recovery\n",
       "\n",
       "[9578 rows x 2 columns]"
      ]
     },
     "execution_count": 11,
     "metadata": {},
     "output_type": "execute_result"
    }
   ],
   "source": [
    "nrem_pow"
   ]
  },
  {
   "cell_type": "code",
   "execution_count": 12,
   "metadata": {
    "execution": {
     "iopub.execute_input": "2021-06-10T19:23:44.095571Z",
     "iopub.status.busy": "2021-06-10T19:23:44.095450Z",
     "iopub.status.idle": "2021-06-10T19:23:45.294648Z",
     "shell.execute_reply": "2021-06-10T19:23:45.294139Z",
     "shell.execute_reply.started": "2021-06-10T19:23:44.095555Z"
    }
   },
   "outputs": [
    {
     "data": {
      "application/vnd.jupyter.widget-view+json": {
       "model_id": "66b8d54beea443119f87ad47ffc5e2e8",
       "version_major": 2,
       "version_minor": 0
      },
      "text/plain": [
       "Canvas(toolbar=Toolbar(toolitems=[('Home', 'Reset original view', 'home', 'home'), ('Back', 'Back to previous …"
      ]
     },
     "metadata": {},
     "output_type": "display_data"
    }
   ],
   "source": [
    "g = sns.displot(data=nrem_pow, x='power', hue='condition', col='region', kind='hist')\n",
    "g.set(xlabel='Delta (0.5 - 4Hz) PSD (uV^2/Hz)')\n",
    "g.tight_layout()"
   ]
  },
  {
   "cell_type": "code",
   "execution_count": 13,
   "metadata": {
    "execution": {
     "iopub.execute_input": "2021-06-10T19:23:45.316589Z",
     "iopub.status.busy": "2021-06-10T19:23:45.316462Z",
     "iopub.status.idle": "2021-06-10T19:23:45.820664Z",
     "shell.execute_reply": "2021-06-10T19:23:45.820243Z",
     "shell.execute_reply.started": "2021-06-10T19:23:45.316572Z"
    }
   },
   "outputs": [
    {
     "data": {
      "application/vnd.jupyter.widget-view+json": {
       "model_id": "643a60ad0c614d77811c9f6212da35b2",
       "version_major": 2,
       "version_minor": 0
      },
      "text/plain": [
       "Canvas(toolbar=Toolbar(toolitems=[('Home', 'Reset original view', 'home', 'home'), ('Back', 'Back to previous …"
      ]
     },
     "metadata": {},
     "output_type": "display_data"
    }
   ],
   "source": [
    "nrem_pow_log = nrem_pow.copy()\n",
    "nrem_pow_log['power'] = np.log(nrem_pow.power)\n",
    "\n",
    "g = sns.displot(data=nrem_pow_log, x='power', hue='condition', col='region', kind='hist')\n",
    "g.set(xlabel='Delta (0.5 - 4Hz) PSD (uV^2/Hz)')\n",
    "g.tight_layout()"
   ]
  },
  {
   "cell_type": "code",
   "execution_count": 14,
   "metadata": {
    "execution": {
     "iopub.execute_input": "2021-06-10T19:23:45.821399Z",
     "iopub.status.busy": "2021-06-10T19:23:45.821267Z",
     "iopub.status.idle": "2021-06-10T19:23:46.327239Z",
     "shell.execute_reply": "2021-06-10T19:23:46.326638Z",
     "shell.execute_reply.started": "2021-06-10T19:23:45.821383Z"
    }
   },
   "outputs": [
    {
     "data": {
      "application/vnd.jupyter.widget-view+json": {
       "model_id": "dd2f6b8c64e14046b99d255a27237506",
       "version_major": 2,
       "version_minor": 0
      },
      "text/plain": [
       "Canvas(toolbar=Toolbar(toolitems=[('Home', 'Reset original view', 'home', 'home'), ('Back', 'Back to previous …"
      ]
     },
     "metadata": {},
     "output_type": "display_data"
    }
   ],
   "source": [
    "nrem_pow_sqrt = nrem_pow.copy()\n",
    "nrem_pow_sqrt['power'] = np.sqrt(nrem_pow.power)\n",
    "\n",
    "g = sns.displot(data=nrem_pow_sqrt, x='power', hue='condition', col='region', kind='hist')\n",
    "g.set(xlabel='Delta (0.5 - 4Hz) PSD (uV^2/Hz)')\n",
    "g.tight_layout()"
   ]
  },
  {
   "cell_type": "code",
   "execution_count": 15,
   "metadata": {
    "execution": {
     "iopub.execute_input": "2021-06-10T19:23:46.328028Z",
     "iopub.status.busy": "2021-06-10T19:23:46.327898Z",
     "iopub.status.idle": "2021-06-10T19:23:46.340237Z",
     "shell.execute_reply": "2021-06-10T19:23:46.339608Z",
     "shell.execute_reply.started": "2021-06-10T19:23:46.328011Z"
    }
   },
   "outputs": [],
   "source": [
    "def difference_of_means(df):\n",
    "    means = df.groupby(['condition', 'region']).mean()\n",
    "    return means.xs('recovery') - means.xs('baseline')"
   ]
  },
  {
   "cell_type": "code",
   "execution_count": 16,
   "metadata": {
    "execution": {
     "iopub.execute_input": "2021-06-10T19:23:46.341008Z",
     "iopub.status.busy": "2021-06-10T19:23:46.340881Z",
     "iopub.status.idle": "2021-06-10T19:24:11.760799Z",
     "shell.execute_reply": "2021-06-10T19:24:11.760406Z",
     "shell.execute_reply.started": "2021-06-10T19:23:46.340992Z"
    }
   },
   "outputs": [],
   "source": [
    "observed = difference_of_means(nrem_pow)\n",
    "\n",
    "n_permutations = 10000\n",
    "permutations = list()\n",
    "permuted = nrem_pow.copy()\n",
    "for i in range(n_permutations):\n",
    "    np.random.shuffle(permuted.condition.values)\n",
    "    permutations.append(difference_of_means(permuted))\n",
    "    \n",
    "df = pd.concat(permutations)"
   ]
  },
  {
   "cell_type": "code",
   "execution_count": 17,
   "metadata": {
    "execution": {
     "iopub.execute_input": "2021-06-10T19:24:11.761628Z",
     "iopub.status.busy": "2021-06-10T19:24:11.761480Z",
     "iopub.status.idle": "2021-06-10T19:24:12.194904Z",
     "shell.execute_reply": "2021-06-10T19:24:12.194269Z",
     "shell.execute_reply.started": "2021-06-10T19:24:11.761610Z"
    }
   },
   "outputs": [
    {
     "data": {
      "application/vnd.jupyter.widget-view+json": {
       "model_id": "8b396834dee840529f47197cf10ddbef",
       "version_major": 2,
       "version_minor": 0
      },
      "text/plain": [
       "Canvas(toolbar=Toolbar(toolitems=[('Home', 'Reset original view', 'home', 'home'), ('Back', 'Back to previous …"
      ]
     },
     "metadata": {},
     "output_type": "display_data"
    }
   ],
   "source": [
    "g = sns.displot(data=df, x='power', col='region', kind='hist')\n",
    "g.set(xlabel='Difference of means (SD - BL)')\n",
    "g.tight_layout()"
   ]
  },
  {
   "cell_type": "code",
   "execution_count": 18,
   "metadata": {
    "execution": {
     "iopub.execute_input": "2021-06-10T19:24:12.195794Z",
     "iopub.status.busy": "2021-06-10T19:24:12.195656Z",
     "iopub.status.idle": "2021-06-10T19:24:12.213077Z",
     "shell.execute_reply": "2021-06-10T19:24:12.212555Z",
     "shell.execute_reply.started": "2021-06-10T19:24:12.195776Z"
    }
   },
   "outputs": [],
   "source": [
    "cx = df.xs('mpta_wm_ref').sort_values('power')\n",
    "hc = df.xs('sr_wm_ref').sort_values('power')"
   ]
  },
  {
   "cell_type": "code",
   "execution_count": 19,
   "metadata": {
    "execution": {
     "iopub.execute_input": "2021-06-10T19:24:12.213844Z",
     "iopub.status.busy": "2021-06-10T19:24:12.213717Z",
     "iopub.status.idle": "2021-06-10T19:24:12.226053Z",
     "shell.execute_reply": "2021-06-10T19:24:12.225473Z",
     "shell.execute_reply.started": "2021-06-10T19:24:12.213828Z"
    }
   },
   "outputs": [],
   "source": [
    "pcx = np.sum(cx.power.values >= observed.xs('mpta_wm_ref').values)"
   ]
  },
  {
   "cell_type": "code",
   "execution_count": 20,
   "metadata": {
    "execution": {
     "iopub.execute_input": "2021-06-10T19:25:13.783368Z",
     "iopub.status.busy": "2021-06-10T19:25:13.783227Z",
     "iopub.status.idle": "2021-06-10T19:25:13.798704Z",
     "shell.execute_reply": "2021-06-10T19:25:13.798185Z",
     "shell.execute_reply.started": "2021-06-10T19:25:13.783347Z"
    }
   },
   "outputs": [],
   "source": [
    "phc = np.sum(hc.power.values >= observed.xs('sr_wm_ref').values)"
   ]
  },
  {
   "cell_type": "code",
   "execution_count": 21,
   "metadata": {
    "execution": {
     "iopub.execute_input": "2021-06-10T19:25:13.799459Z",
     "iopub.status.busy": "2021-06-10T19:25:13.799330Z",
     "iopub.status.idle": "2021-06-10T19:25:13.818450Z",
     "shell.execute_reply": "2021-06-10T19:25:13.817914Z",
     "shell.execute_reply.started": "2021-06-10T19:25:13.799443Z"
    }
   },
   "outputs": [
    {
     "name": "stdout",
     "output_type": "stream",
     "text": [
      "Subject: Valentino\n",
      "Observed differences, Mean SD - Mean BSL:\n",
      "\n",
      "| region      |    power |\n",
      "|:------------|---------:|\n",
      "| mpta_wm_ref |  95924.7 |\n",
      "| sr_wm_ref   | 152365   |\n",
      "\n",
      "\n",
      "Shuffled differences >= observed:\n",
      "Cortex: 1 / 10000\n",
      "Hippocampus: 1 / 10000\n"
     ]
    }
   ],
   "source": [
    "print(f\"Subject: {subject}\")\n",
    "print('Observed differences, Mean SD - Mean BSL:\\n')\n",
    "print(observed.to_markdown())\n",
    "print('\\n')\n",
    "print('Shuffled differences >= observed:')\n",
    "print(f\"Cortex: {1 + pcx} / {n_permutations}\")\n",
    "print(f\"Hippocampus: {1 + phc} / {n_permutations}\")"
   ]
  },
  {
   "cell_type": "code",
   "execution_count": null,
   "metadata": {},
   "outputs": [],
   "source": []
  }
 ],
 "metadata": {
  "kernelspec": {
   "display_name": "Python 3",
   "language": "python",
   "name": "python3"
  },
  "language_info": {
   "codemirror_mode": {
    "name": "ipython",
    "version": 3
   },
   "file_extension": ".py",
   "mimetype": "text/x-python",
   "name": "python",
   "nbconvert_exporter": "python",
   "pygments_lexer": "ipython3",
   "version": "3.7.9"
  }
 },
 "nbformat": 4,
 "nbformat_minor": 4
}
