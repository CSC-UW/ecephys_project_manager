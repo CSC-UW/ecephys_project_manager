{
 "cells": [
  {
   "cell_type": "code",
   "execution_count": 1,
   "metadata": {
    "execution": {
     "iopub.execute_input": "2021-06-10T19:24:58.943819Z",
     "iopub.status.busy": "2021-06-10T19:24:58.943465Z",
     "iopub.status.idle": "2021-06-10T19:24:58.957832Z",
     "shell.execute_reply": "2021-06-10T19:24:58.957136Z",
     "shell.execute_reply.started": "2021-06-10T19:24:58.943784Z"
    }
   },
   "outputs": [],
   "source": [
    "%load_ext autoreload\n",
    "%autoreload 2"
   ]
  },
  {
   "cell_type": "code",
   "execution_count": 2,
   "metadata": {
    "execution": {
     "iopub.execute_input": "2021-06-10T19:24:58.958801Z",
     "iopub.status.busy": "2021-06-10T19:24:58.958658Z",
     "iopub.status.idle": "2021-06-10T19:24:59.362223Z",
     "shell.execute_reply": "2021-06-10T19:24:59.361402Z",
     "shell.execute_reply.started": "2021-06-10T19:24:58.958783Z"
    }
   },
   "outputs": [],
   "source": [
    "%matplotlib widget\n",
    "import matplotlib.pyplot as plt\n",
    "import seaborn as sns"
   ]
  },
  {
   "cell_type": "code",
   "execution_count": 3,
   "metadata": {
    "execution": {
     "iopub.execute_input": "2021-06-10T19:24:59.363588Z",
     "iopub.status.busy": "2021-06-10T19:24:59.363436Z",
     "iopub.status.idle": "2021-06-10T19:24:59.590510Z",
     "shell.execute_reply": "2021-06-10T19:24:59.589769Z",
     "shell.execute_reply.started": "2021-06-10T19:24:59.363570Z"
    }
   },
   "outputs": [],
   "source": [
    "import xarray as xr\n",
    "import numpy as np\n",
    "import pandas as pd"
   ]
  },
  {
   "cell_type": "code",
   "execution_count": 4,
   "metadata": {
    "execution": {
     "iopub.execute_input": "2021-06-10T19:24:59.591575Z",
     "iopub.status.busy": "2021-06-10T19:24:59.591427Z",
     "iopub.status.idle": "2021-06-10T19:24:59.603900Z",
     "shell.execute_reply": "2021-06-10T19:24:59.603253Z",
     "shell.execute_reply.started": "2021-06-10T19:24:59.591557Z"
    }
   },
   "outputs": [
    {
     "data": {
      "text/plain": [
       "<xarray.core.options.set_options at 0x7fc6342f0810>"
      ]
     },
     "execution_count": 4,
     "metadata": {},
     "output_type": "execute_result"
    }
   ],
   "source": [
    "xr.set_options(keep_attrs=True)"
   ]
  },
  {
   "cell_type": "code",
   "execution_count": 5,
   "metadata": {
    "execution": {
     "iopub.execute_input": "2021-06-10T19:24:59.604778Z",
     "iopub.status.busy": "2021-06-10T19:24:59.604648Z",
     "iopub.status.idle": "2021-06-10T19:24:59.617445Z",
     "shell.execute_reply": "2021-06-10T19:24:59.616764Z",
     "shell.execute_reply.started": "2021-06-10T19:24:59.604761Z"
    }
   },
   "outputs": [],
   "source": [
    "import ecephys_analyses as ea \n",
    "from ecephys import utils\n",
    "from ecephys.signal.xarray_utils import filter_dataset_by_hypnogram"
   ]
  },
  {
   "cell_type": "code",
   "execution_count": 6,
   "metadata": {
    "execution": {
     "iopub.execute_input": "2021-06-10T19:24:59.618165Z",
     "iopub.status.busy": "2021-06-10T19:24:59.618041Z",
     "iopub.status.idle": "2021-06-10T19:24:59.628742Z",
     "shell.execute_reply": "2021-06-10T19:24:59.627985Z",
     "shell.execute_reply.started": "2021-06-10T19:24:59.618150Z"
    }
   },
   "outputs": [],
   "source": [
    "def ds2df(ds):\n",
    "    s = ds.to_dataframe().stack()\n",
    "    s.index.names = s.index.names[:-1] + ['region']\n",
    "    return s.to_frame(name='power')"
   ]
  },
  {
   "cell_type": "code",
   "execution_count": 7,
   "metadata": {
    "execution": {
     "iopub.execute_input": "2021-06-10T19:24:59.629471Z",
     "iopub.status.busy": "2021-06-10T19:24:59.629348Z",
     "iopub.status.idle": "2021-06-10T19:24:59.640374Z",
     "shell.execute_reply": "2021-06-10T19:24:59.639616Z",
     "shell.execute_reply.started": "2021-06-10T19:24:59.629455Z"
    }
   },
   "outputs": [],
   "source": [
    "subject = \"Doppio\"\n",
    "experiment = \"sleep-homeostasis\"\n",
    "bsl_condition = \"recovery-sleep-circadian-match\"\n",
    "rec_condition = \"recovery-sleep\"\n",
    "states = [\"N1\", \"N2\"]\n",
    "duration = '02:00:00'\n",
    "light_period_end = '21:00:00'\n",
    "f_range = (0.5, 4)"
   ]
  },
  {
   "cell_type": "code",
   "execution_count": 8,
   "metadata": {
    "execution": {
     "iopub.execute_input": "2021-06-10T19:24:59.641083Z",
     "iopub.status.busy": "2021-06-10T19:24:59.640961Z",
     "iopub.status.idle": "2021-06-10T19:25:01.916924Z",
     "shell.execute_reply": "2021-06-10T19:25:01.916191Z",
     "shell.execute_reply.started": "2021-06-10T19:24:59.641067Z"
    }
   },
   "outputs": [],
   "source": [
    "rec_hyp = ea.load_hypnogram(subject, experiment, rec_condition)\n",
    "rec_hyp = rec_hyp.keep_states(states).keep_first(duration)\n",
    "\n",
    "rec_pow = ea.load_power(subject, experiment, rec_condition, \"spg.nc\").sel(frequency=slice(*f_range)).sum(dim='frequency')\n",
    "rec_pow = filter_dataset_by_hypnogram(rec_pow, rec_hyp,).swap_dims({'time': 'datetime'}).drop_vars(['time', 'timedelta'])"
   ]
  },
  {
   "cell_type": "code",
   "execution_count": 9,
   "metadata": {
    "execution": {
     "iopub.execute_input": "2021-06-10T19:25:01.918707Z",
     "iopub.status.busy": "2021-06-10T19:25:01.918549Z",
     "iopub.status.idle": "2021-06-10T19:25:04.123181Z",
     "shell.execute_reply": "2021-06-10T19:25:04.122401Z",
     "shell.execute_reply.started": "2021-06-10T19:25:01.918688Z"
    }
   },
   "outputs": [],
   "source": [
    "bsl_hyp = ea.load_hypnogram(subject, experiment, bsl_condition)\n",
    "bsl_hyp = bsl_hyp.keep_states(states).keep_between(rec_hyp.start_time.min().strftime(\"%H:%M:%S\"), light_period_end).keep_first(duration)\n",
    "\n",
    "bsl_pow = ea.load_power(subject, experiment, bsl_condition, \"spg.nc\").sel(frequency=slice(*f_range)).sum(dim='frequency')\n",
    "bsl_pow = filter_dataset_by_hypnogram(bsl_pow, bsl_hyp).swap_dims({'time': 'datetime'}).drop_vars(['time', 'timedelta'])"
   ]
  },
  {
   "cell_type": "code",
   "execution_count": 10,
   "metadata": {
    "execution": {
     "iopub.execute_input": "2021-06-10T19:25:04.124496Z",
     "iopub.status.busy": "2021-06-10T19:25:04.124339Z",
     "iopub.status.idle": "2021-06-10T19:25:04.142566Z",
     "shell.execute_reply": "2021-06-10T19:25:04.141918Z",
     "shell.execute_reply.started": "2021-06-10T19:25:04.124477Z"
    }
   },
   "outputs": [],
   "source": [
    "nrem_pow = pd.concat([ds2df(bsl_pow).assign(condition=\"baseline\"), ds2df(rec_pow).assign(condition=\"recovery\")])"
   ]
  },
  {
   "cell_type": "code",
   "execution_count": 11,
   "metadata": {
    "execution": {
     "iopub.execute_input": "2021-06-10T19:25:04.143298Z",
     "iopub.status.busy": "2021-06-10T19:25:04.143174Z",
     "iopub.status.idle": "2021-06-10T19:25:04.162795Z",
     "shell.execute_reply": "2021-06-10T19:25:04.162149Z",
     "shell.execute_reply.started": "2021-06-10T19:25:04.143282Z"
    }
   },
   "outputs": [
    {
     "data": {
      "text/html": [
       "<div>\n",
       "<style scoped>\n",
       "    .dataframe tbody tr th:only-of-type {\n",
       "        vertical-align: middle;\n",
       "    }\n",
       "\n",
       "    .dataframe tbody tr th {\n",
       "        vertical-align: top;\n",
       "    }\n",
       "\n",
       "    .dataframe thead th {\n",
       "        text-align: right;\n",
       "    }\n",
       "</style>\n",
       "<table border=\"1\" class=\"dataframe\">\n",
       "  <thead>\n",
       "    <tr style=\"text-align: right;\">\n",
       "      <th></th>\n",
       "      <th></th>\n",
       "      <th>power</th>\n",
       "      <th>condition</th>\n",
       "    </tr>\n",
       "    <tr>\n",
       "      <th>datetime</th>\n",
       "      <th>region</th>\n",
       "      <th></th>\n",
       "      <th></th>\n",
       "    </tr>\n",
       "  </thead>\n",
       "  <tbody>\n",
       "    <tr>\n",
       "      <th rowspan=\"2\" valign=\"top\">2020-03-17 15:11:43.999780779</th>\n",
       "      <th>mpta_wm_ref</th>\n",
       "      <td>49592.705167</td>\n",
       "      <td>baseline</td>\n",
       "    </tr>\n",
       "    <tr>\n",
       "      <th>sr_wm_ref</th>\n",
       "      <td>141458.991643</td>\n",
       "      <td>baseline</td>\n",
       "    </tr>\n",
       "    <tr>\n",
       "      <th rowspan=\"2\" valign=\"top\">2020-03-17 15:11:46.999777763</th>\n",
       "      <th>mpta_wm_ref</th>\n",
       "      <td>14850.050950</td>\n",
       "      <td>baseline</td>\n",
       "    </tr>\n",
       "    <tr>\n",
       "      <th>sr_wm_ref</th>\n",
       "      <td>213550.733996</td>\n",
       "      <td>baseline</td>\n",
       "    </tr>\n",
       "    <tr>\n",
       "      <th>2020-03-17 15:11:49.999774746</th>\n",
       "      <th>mpta_wm_ref</th>\n",
       "      <td>17457.199927</td>\n",
       "      <td>baseline</td>\n",
       "    </tr>\n",
       "    <tr>\n",
       "      <th>...</th>\n",
       "      <th>...</th>\n",
       "      <td>...</td>\n",
       "      <td>...</td>\n",
       "    </tr>\n",
       "    <tr>\n",
       "      <th>2020-03-18 17:57:45.996966108</th>\n",
       "      <th>sr_wm_ref</th>\n",
       "      <td>337275.270549</td>\n",
       "      <td>recovery</td>\n",
       "    </tr>\n",
       "    <tr>\n",
       "      <th rowspan=\"2\" valign=\"top\">2020-03-18 17:57:48.996963091</th>\n",
       "      <th>mpta_wm_ref</th>\n",
       "      <td>649284.535997</td>\n",
       "      <td>recovery</td>\n",
       "    </tr>\n",
       "    <tr>\n",
       "      <th>sr_wm_ref</th>\n",
       "      <td>257836.165434</td>\n",
       "      <td>recovery</td>\n",
       "    </tr>\n",
       "    <tr>\n",
       "      <th rowspan=\"2\" valign=\"top\">2020-03-18 17:57:51.996960074</th>\n",
       "      <th>mpta_wm_ref</th>\n",
       "      <td>381874.311244</td>\n",
       "      <td>recovery</td>\n",
       "    </tr>\n",
       "    <tr>\n",
       "      <th>sr_wm_ref</th>\n",
       "      <td>851230.021690</td>\n",
       "      <td>recovery</td>\n",
       "    </tr>\n",
       "  </tbody>\n",
       "</table>\n",
       "<p>9536 rows × 2 columns</p>\n",
       "</div>"
      ],
      "text/plain": [
       "                                                   power condition\n",
       "datetime                      region                              \n",
       "2020-03-17 15:11:43.999780779 mpta_wm_ref   49592.705167  baseline\n",
       "                              sr_wm_ref    141458.991643  baseline\n",
       "2020-03-17 15:11:46.999777763 mpta_wm_ref   14850.050950  baseline\n",
       "                              sr_wm_ref    213550.733996  baseline\n",
       "2020-03-17 15:11:49.999774746 mpta_wm_ref   17457.199927  baseline\n",
       "...                                                  ...       ...\n",
       "2020-03-18 17:57:45.996966108 sr_wm_ref    337275.270549  recovery\n",
       "2020-03-18 17:57:48.996963091 mpta_wm_ref  649284.535997  recovery\n",
       "                              sr_wm_ref    257836.165434  recovery\n",
       "2020-03-18 17:57:51.996960074 mpta_wm_ref  381874.311244  recovery\n",
       "                              sr_wm_ref    851230.021690  recovery\n",
       "\n",
       "[9536 rows x 2 columns]"
      ]
     },
     "execution_count": 11,
     "metadata": {},
     "output_type": "execute_result"
    }
   ],
   "source": [
    "nrem_pow"
   ]
  },
  {
   "cell_type": "code",
   "execution_count": 12,
   "metadata": {
    "execution": {
     "iopub.execute_input": "2021-06-10T19:25:04.163579Z",
     "iopub.status.busy": "2021-06-10T19:25:04.163458Z",
     "iopub.status.idle": "2021-06-10T19:25:04.860677Z",
     "shell.execute_reply": "2021-06-10T19:25:04.859907Z",
     "shell.execute_reply.started": "2021-06-10T19:25:04.163563Z"
    }
   },
   "outputs": [
    {
     "data": {
      "application/vnd.jupyter.widget-view+json": {
       "model_id": "7fc46956975449e789c07c80ad145795",
       "version_major": 2,
       "version_minor": 0
      },
      "text/plain": [
       "Canvas(toolbar=Toolbar(toolitems=[('Home', 'Reset original view', 'home', 'home'), ('Back', 'Back to previous …"
      ]
     },
     "metadata": {},
     "output_type": "display_data"
    }
   ],
   "source": [
    "g = sns.displot(data=nrem_pow, x='power', hue='condition', col='region', kind='hist')\n",
    "g.set(xlabel='Delta (0.5 - 4Hz) PSD (uV^2/Hz)')\n",
    "g.tight_layout()"
   ]
  },
  {
   "cell_type": "code",
   "execution_count": 13,
   "metadata": {
    "execution": {
     "iopub.execute_input": "2021-06-10T19:25:04.861778Z",
     "iopub.status.busy": "2021-06-10T19:25:04.861620Z",
     "iopub.status.idle": "2021-06-10T19:25:05.372118Z",
     "shell.execute_reply": "2021-06-10T19:25:05.371403Z",
     "shell.execute_reply.started": "2021-06-10T19:25:04.861758Z"
    }
   },
   "outputs": [
    {
     "data": {
      "application/vnd.jupyter.widget-view+json": {
       "model_id": "625dabf920a0464d8229b64b4b20d4a9",
       "version_major": 2,
       "version_minor": 0
      },
      "text/plain": [
       "Canvas(toolbar=Toolbar(toolitems=[('Home', 'Reset original view', 'home', 'home'), ('Back', 'Back to previous …"
      ]
     },
     "metadata": {},
     "output_type": "display_data"
    }
   ],
   "source": [
    "nrem_pow_log = nrem_pow.copy()\n",
    "nrem_pow_log['power'] = np.log(nrem_pow.power)\n",
    "\n",
    "g = sns.displot(data=nrem_pow_log, x='power', hue='condition', col='region', kind='hist')\n",
    "g.set(xlabel='Delta (0.5 - 4Hz) PSD (uV^2/Hz)')\n",
    "g.tight_layout()"
   ]
  },
  {
   "cell_type": "code",
   "execution_count": 14,
   "metadata": {
    "execution": {
     "iopub.execute_input": "2021-06-10T19:25:05.373123Z",
     "iopub.status.busy": "2021-06-10T19:25:05.372963Z",
     "iopub.status.idle": "2021-06-10T19:25:05.929605Z",
     "shell.execute_reply": "2021-06-10T19:25:05.928888Z",
     "shell.execute_reply.started": "2021-06-10T19:25:05.373097Z"
    }
   },
   "outputs": [
    {
     "data": {
      "application/vnd.jupyter.widget-view+json": {
       "model_id": "9695ffaeeb88448fafce587a7f00f04d",
       "version_major": 2,
       "version_minor": 0
      },
      "text/plain": [
       "Canvas(toolbar=Toolbar(toolitems=[('Home', 'Reset original view', 'home', 'home'), ('Back', 'Back to previous …"
      ]
     },
     "metadata": {},
     "output_type": "display_data"
    }
   ],
   "source": [
    "nrem_pow_sqrt = nrem_pow.copy()\n",
    "nrem_pow_sqrt['power'] = np.sqrt(nrem_pow.power)\n",
    "\n",
    "g = sns.displot(data=nrem_pow_sqrt, x='power', hue='condition', col='region', kind='hist')\n",
    "g.set(xlabel='Delta (0.5 - 4Hz) PSD (uV^2/Hz)')\n",
    "g.tight_layout()"
   ]
  },
  {
   "cell_type": "code",
   "execution_count": 15,
   "metadata": {
    "execution": {
     "iopub.execute_input": "2021-06-10T19:25:05.930543Z",
     "iopub.status.busy": "2021-06-10T19:25:05.930400Z",
     "iopub.status.idle": "2021-06-10T19:25:05.943599Z",
     "shell.execute_reply": "2021-06-10T19:25:05.942748Z",
     "shell.execute_reply.started": "2021-06-10T19:25:05.930525Z"
    }
   },
   "outputs": [],
   "source": [
    "def difference_of_means(df):\n",
    "    means = df.groupby(['condition', 'region']).mean()\n",
    "    return means.xs('recovery') - means.xs('baseline')"
   ]
  },
  {
   "cell_type": "code",
   "execution_count": 16,
   "metadata": {
    "execution": {
     "iopub.execute_input": "2021-06-10T19:25:05.944365Z",
     "iopub.status.busy": "2021-06-10T19:25:05.944238Z",
     "iopub.status.idle": "2021-06-10T19:25:30.700957Z",
     "shell.execute_reply": "2021-06-10T19:25:30.700169Z",
     "shell.execute_reply.started": "2021-06-10T19:25:05.944349Z"
    }
   },
   "outputs": [],
   "source": [
    "observed = difference_of_means(nrem_pow)\n",
    "\n",
    "n_permutations = 10000\n",
    "permutations = list()\n",
    "permuted = nrem_pow.copy()\n",
    "for i in range(n_permutations):\n",
    "    np.random.shuffle(permuted.condition.values)\n",
    "    permutations.append(difference_of_means(permuted))\n",
    "    \n",
    "df = pd.concat(permutations)"
   ]
  },
  {
   "cell_type": "code",
   "execution_count": 17,
   "metadata": {
    "execution": {
     "iopub.execute_input": "2021-06-10T19:25:30.702079Z",
     "iopub.status.busy": "2021-06-10T19:25:30.701929Z",
     "iopub.status.idle": "2021-06-10T19:25:31.102479Z",
     "shell.execute_reply": "2021-06-10T19:25:31.101773Z",
     "shell.execute_reply.started": "2021-06-10T19:25:30.702062Z"
    }
   },
   "outputs": [
    {
     "data": {
      "application/vnd.jupyter.widget-view+json": {
       "model_id": "f5381372d7d149138ee75dad35d4f47b",
       "version_major": 2,
       "version_minor": 0
      },
      "text/plain": [
       "Canvas(toolbar=Toolbar(toolitems=[('Home', 'Reset original view', 'home', 'home'), ('Back', 'Back to previous …"
      ]
     },
     "metadata": {},
     "output_type": "display_data"
    }
   ],
   "source": [
    "g = sns.displot(data=df, x='power', col='region', kind='hist')\n",
    "g.set(xlabel='Difference of means (SD - BL)')\n",
    "g.tight_layout()"
   ]
  },
  {
   "cell_type": "code",
   "execution_count": 18,
   "metadata": {
    "execution": {
     "iopub.execute_input": "2021-06-10T19:25:31.103438Z",
     "iopub.status.busy": "2021-06-10T19:25:31.103295Z",
     "iopub.status.idle": "2021-06-10T19:25:31.120208Z",
     "shell.execute_reply": "2021-06-10T19:25:31.119556Z",
     "shell.execute_reply.started": "2021-06-10T19:25:31.103422Z"
    }
   },
   "outputs": [],
   "source": [
    "cx = df.xs('mpta_wm_ref').sort_values('power')\n",
    "hc = df.xs('sr_wm_ref').sort_values('power')"
   ]
  },
  {
   "cell_type": "code",
   "execution_count": 19,
   "metadata": {
    "execution": {
     "iopub.execute_input": "2021-06-10T19:25:31.121081Z",
     "iopub.status.busy": "2021-06-10T19:25:31.120950Z",
     "iopub.status.idle": "2021-06-10T19:25:31.133059Z",
     "shell.execute_reply": "2021-06-10T19:25:31.132293Z",
     "shell.execute_reply.started": "2021-06-10T19:25:31.121065Z"
    }
   },
   "outputs": [],
   "source": [
    "pcx = np.sum(cx.power.values >= observed.xs('mpta_wm_ref').values)"
   ]
  },
  {
   "cell_type": "code",
   "execution_count": 20,
   "metadata": {
    "execution": {
     "iopub.execute_input": "2021-06-10T19:25:31.133925Z",
     "iopub.status.busy": "2021-06-10T19:25:31.133793Z",
     "iopub.status.idle": "2021-06-10T19:25:31.145127Z",
     "shell.execute_reply": "2021-06-10T19:25:31.144361Z",
     "shell.execute_reply.started": "2021-06-10T19:25:31.133909Z"
    }
   },
   "outputs": [],
   "source": [
    "phc = np.sum(hc.power.values >= observed.xs('sr_wm_ref').values)"
   ]
  },
  {
   "cell_type": "code",
   "execution_count": 21,
   "metadata": {
    "execution": {
     "iopub.execute_input": "2021-06-10T19:25:31.145915Z",
     "iopub.status.busy": "2021-06-10T19:25:31.145791Z",
     "iopub.status.idle": "2021-06-10T19:25:31.162580Z",
     "shell.execute_reply": "2021-06-10T19:25:31.161847Z",
     "shell.execute_reply.started": "2021-06-10T19:25:31.145900Z"
    }
   },
   "outputs": [
    {
     "name": "stdout",
     "output_type": "stream",
     "text": [
      "Subject: Doppio\n",
      "Observed differences, Mean SD - Mean BSL:\n",
      "\n",
      "| region      |   power |\n",
      "|:------------|--------:|\n",
      "| mpta_wm_ref |  356374 |\n",
      "| sr_wm_ref   |  113887 |\n",
      "\n",
      "\n",
      "Shuffled differences >= observed:\n",
      "Cortex: 1 / 10000\n",
      "Hippocampus: 1 / 10000\n"
     ]
    }
   ],
   "source": [
    "print(f\"Subject: {subject}\")\n",
    "print('Observed differences, Mean SD - Mean BSL:\\n')\n",
    "print(observed.to_markdown())\n",
    "print('\\n')\n",
    "print('Shuffled differences >= observed:')\n",
    "print(f\"Cortex: {1 + pcx} / {n_permutations}\")\n",
    "print(f\"Hippocampus: {1 + phc} / {n_permutations}\")"
   ]
  },
  {
   "cell_type": "code",
   "execution_count": null,
   "metadata": {},
   "outputs": [],
   "source": []
  }
 ],
 "metadata": {
  "kernelspec": {
   "display_name": "Python 3",
   "language": "python",
   "name": "python3"
  },
  "language_info": {
   "codemirror_mode": {
    "name": "ipython",
    "version": 3
   },
   "file_extension": ".py",
   "mimetype": "text/x-python",
   "name": "python",
   "nbconvert_exporter": "python",
   "pygments_lexer": "ipython3",
   "version": "3.7.9"
  }
 },
 "nbformat": 4,
 "nbformat_minor": 4
}
