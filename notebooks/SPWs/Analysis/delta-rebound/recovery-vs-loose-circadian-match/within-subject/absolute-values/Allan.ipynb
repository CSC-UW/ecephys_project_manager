{
 "cells": [
  {
   "cell_type": "code",
   "execution_count": 1,
   "metadata": {
    "execution": {
     "iopub.execute_input": "2021-06-10T19:24:34.490072Z",
     "iopub.status.busy": "2021-06-10T19:24:34.489789Z",
     "iopub.status.idle": "2021-06-10T19:24:34.503485Z",
     "shell.execute_reply": "2021-06-10T19:24:34.503020Z",
     "shell.execute_reply.started": "2021-06-10T19:24:34.490040Z"
    }
   },
   "outputs": [],
   "source": [
    "%load_ext autoreload\n",
    "%autoreload 2"
   ]
  },
  {
   "cell_type": "code",
   "execution_count": 2,
   "metadata": {
    "execution": {
     "iopub.execute_input": "2021-06-10T19:24:34.504291Z",
     "iopub.status.busy": "2021-06-10T19:24:34.504160Z",
     "iopub.status.idle": "2021-06-10T19:24:34.999392Z",
     "shell.execute_reply": "2021-06-10T19:24:34.998718Z",
     "shell.execute_reply.started": "2021-06-10T19:24:34.504275Z"
    }
   },
   "outputs": [],
   "source": [
    "%matplotlib widget\n",
    "import matplotlib.pyplot as plt\n",
    "import seaborn as sns"
   ]
  },
  {
   "cell_type": "code",
   "execution_count": 3,
   "metadata": {
    "execution": {
     "iopub.execute_input": "2021-06-10T19:24:35.001313Z",
     "iopub.status.busy": "2021-06-10T19:24:35.000933Z",
     "iopub.status.idle": "2021-06-10T19:24:35.465836Z",
     "shell.execute_reply": "2021-06-10T19:24:35.465198Z",
     "shell.execute_reply.started": "2021-06-10T19:24:35.001281Z"
    }
   },
   "outputs": [],
   "source": [
    "import xarray as xr\n",
    "import numpy as np\n",
    "import pandas as pd"
   ]
  },
  {
   "cell_type": "code",
   "execution_count": 4,
   "metadata": {
    "execution": {
     "iopub.execute_input": "2021-06-10T19:24:35.467328Z",
     "iopub.status.busy": "2021-06-10T19:24:35.466988Z",
     "iopub.status.idle": "2021-06-10T19:24:35.486588Z",
     "shell.execute_reply": "2021-06-10T19:24:35.486021Z",
     "shell.execute_reply.started": "2021-06-10T19:24:35.467295Z"
    }
   },
   "outputs": [
    {
     "data": {
      "text/plain": [
       "<xarray.core.options.set_options at 0x7f164fc76e10>"
      ]
     },
     "execution_count": 4,
     "metadata": {},
     "output_type": "execute_result"
    }
   ],
   "source": [
    "xr.set_options(keep_attrs=True)"
   ]
  },
  {
   "cell_type": "code",
   "execution_count": 5,
   "metadata": {
    "execution": {
     "iopub.execute_input": "2021-06-10T19:24:35.487664Z",
     "iopub.status.busy": "2021-06-10T19:24:35.487462Z",
     "iopub.status.idle": "2021-06-10T19:24:35.508783Z",
     "shell.execute_reply": "2021-06-10T19:24:35.508234Z",
     "shell.execute_reply.started": "2021-06-10T19:24:35.487636Z"
    }
   },
   "outputs": [],
   "source": [
    "import ecephys_analyses as ea \n",
    "from ecephys import utils\n",
    "from ecephys.signal.xarray_utils import filter_dataset_by_hypnogram"
   ]
  },
  {
   "cell_type": "code",
   "execution_count": 6,
   "metadata": {
    "execution": {
     "iopub.execute_input": "2021-06-10T19:24:35.509899Z",
     "iopub.status.busy": "2021-06-10T19:24:35.509682Z",
     "iopub.status.idle": "2021-06-10T19:24:35.527610Z",
     "shell.execute_reply": "2021-06-10T19:24:35.527056Z",
     "shell.execute_reply.started": "2021-06-10T19:24:35.509870Z"
    }
   },
   "outputs": [],
   "source": [
    "def ds2df(ds):\n",
    "    s = ds.to_dataframe().stack()\n",
    "    s.index.names = s.index.names[:-1] + ['region']\n",
    "    return s.to_frame(name='power')"
   ]
  },
  {
   "cell_type": "code",
   "execution_count": 7,
   "metadata": {
    "execution": {
     "iopub.execute_input": "2021-06-10T19:24:35.528665Z",
     "iopub.status.busy": "2021-06-10T19:24:35.528461Z",
     "iopub.status.idle": "2021-06-10T19:24:35.547210Z",
     "shell.execute_reply": "2021-06-10T19:24:35.546632Z",
     "shell.execute_reply.started": "2021-06-10T19:24:35.528638Z"
    }
   },
   "outputs": [],
   "source": [
    "subject = \"Allan\"\n",
    "experiment = \"sleep-homeostasis\"\n",
    "bsl_condition = \"recovery-sleep-circadian-match\"\n",
    "rec_condition = \"recovery-sleep\"\n",
    "states = [\"N1\", \"N2\"]\n",
    "duration = '02:00:00'\n",
    "light_period_end = '21:00:00'\n",
    "f_range = (0.5, 4)"
   ]
  },
  {
   "cell_type": "code",
   "execution_count": 8,
   "metadata": {
    "execution": {
     "iopub.execute_input": "2021-06-10T19:24:35.548297Z",
     "iopub.status.busy": "2021-06-10T19:24:35.548095Z",
     "iopub.status.idle": "2021-06-10T19:24:37.028744Z",
     "shell.execute_reply": "2021-06-10T19:24:37.028150Z",
     "shell.execute_reply.started": "2021-06-10T19:24:35.548270Z"
    }
   },
   "outputs": [],
   "source": [
    "rec_hyp = ea.load_hypnogram(subject, experiment, rec_condition)\n",
    "rec_hyp = rec_hyp.keep_states(states).keep_first(duration)\n",
    "\n",
    "rec_pow = ea.load_power(subject, experiment, rec_condition, \"spg.nc\").sel(frequency=slice(*f_range)).sum(dim='frequency')\n",
    "rec_pow = filter_dataset_by_hypnogram(rec_pow, rec_hyp,).swap_dims({'time': 'datetime'}).drop_vars(['time', 'timedelta'])"
   ]
  },
  {
   "cell_type": "code",
   "execution_count": 9,
   "metadata": {
    "execution": {
     "iopub.execute_input": "2021-06-10T19:24:37.030257Z",
     "iopub.status.busy": "2021-06-10T19:24:37.030116Z",
     "iopub.status.idle": "2021-06-10T19:24:39.065493Z",
     "shell.execute_reply": "2021-06-10T19:24:39.064721Z",
     "shell.execute_reply.started": "2021-06-10T19:24:37.030240Z"
    }
   },
   "outputs": [],
   "source": [
    "bsl_hyp = ea.load_hypnogram(subject, experiment, bsl_condition)\n",
    "bsl_hyp = bsl_hyp.keep_states(states).keep_between(rec_hyp.start_time.min().strftime(\"%H:%M:%S\"), light_period_end).keep_first(duration)\n",
    "\n",
    "bsl_pow = ea.load_power(subject, experiment, bsl_condition, \"spg.nc\").sel(frequency=slice(*f_range)).sum(dim='frequency')\n",
    "bsl_pow = filter_dataset_by_hypnogram(bsl_pow, bsl_hyp).swap_dims({'time': 'datetime'}).drop_vars(['time', 'timedelta'])"
   ]
  },
  {
   "cell_type": "code",
   "execution_count": 10,
   "metadata": {
    "execution": {
     "iopub.execute_input": "2021-06-10T19:24:39.067446Z",
     "iopub.status.busy": "2021-06-10T19:24:39.067175Z",
     "iopub.status.idle": "2021-06-10T19:24:39.098639Z",
     "shell.execute_reply": "2021-06-10T19:24:39.097963Z",
     "shell.execute_reply.started": "2021-06-10T19:24:39.067411Z"
    }
   },
   "outputs": [],
   "source": [
    "nrem_pow = pd.concat([ds2df(bsl_pow).assign(condition=\"baseline\"), ds2df(rec_pow).assign(condition=\"recovery\")])"
   ]
  },
  {
   "cell_type": "code",
   "execution_count": 11,
   "metadata": {
    "execution": {
     "iopub.execute_input": "2021-06-10T19:24:39.099786Z",
     "iopub.status.busy": "2021-06-10T19:24:39.099575Z",
     "iopub.status.idle": "2021-06-10T19:24:39.132395Z",
     "shell.execute_reply": "2021-06-10T19:24:39.131697Z",
     "shell.execute_reply.started": "2021-06-10T19:24:39.099759Z"
    }
   },
   "outputs": [
    {
     "data": {
      "text/html": [
       "<div>\n",
       "<style scoped>\n",
       "    .dataframe tbody tr th:only-of-type {\n",
       "        vertical-align: middle;\n",
       "    }\n",
       "\n",
       "    .dataframe tbody tr th {\n",
       "        vertical-align: top;\n",
       "    }\n",
       "\n",
       "    .dataframe thead th {\n",
       "        text-align: right;\n",
       "    }\n",
       "</style>\n",
       "<table border=\"1\" class=\"dataframe\">\n",
       "  <thead>\n",
       "    <tr style=\"text-align: right;\">\n",
       "      <th></th>\n",
       "      <th></th>\n",
       "      <th>power</th>\n",
       "      <th>condition</th>\n",
       "    </tr>\n",
       "    <tr>\n",
       "      <th>datetime</th>\n",
       "      <th>region</th>\n",
       "      <th></th>\n",
       "      <th></th>\n",
       "    </tr>\n",
       "  </thead>\n",
       "  <tbody>\n",
       "    <tr>\n",
       "      <th rowspan=\"2\" valign=\"top\">2021-03-01 15:01:46.000138841</th>\n",
       "      <th>mpta_wm_ref</th>\n",
       "      <td>158116.604710</td>\n",
       "      <td>baseline</td>\n",
       "    </tr>\n",
       "    <tr>\n",
       "      <th>sr_wm_ref</th>\n",
       "      <td>268833.530966</td>\n",
       "      <td>baseline</td>\n",
       "    </tr>\n",
       "    <tr>\n",
       "      <th rowspan=\"2\" valign=\"top\">2021-03-01 15:01:49.000139731</th>\n",
       "      <th>mpta_wm_ref</th>\n",
       "      <td>318828.737459</td>\n",
       "      <td>baseline</td>\n",
       "    </tr>\n",
       "    <tr>\n",
       "      <th>sr_wm_ref</th>\n",
       "      <td>239860.983292</td>\n",
       "      <td>baseline</td>\n",
       "    </tr>\n",
       "    <tr>\n",
       "      <th>2021-03-01 15:01:52.000140621</th>\n",
       "      <th>mpta_wm_ref</th>\n",
       "      <td>342869.221709</td>\n",
       "      <td>baseline</td>\n",
       "    </tr>\n",
       "    <tr>\n",
       "      <th>...</th>\n",
       "      <th>...</th>\n",
       "      <td>...</td>\n",
       "      <td>...</td>\n",
       "    </tr>\n",
       "    <tr>\n",
       "      <th>2021-03-02 18:09:16.999961706</th>\n",
       "      <th>sr_wm_ref</th>\n",
       "      <td>554251.950719</td>\n",
       "      <td>recovery</td>\n",
       "    </tr>\n",
       "    <tr>\n",
       "      <th rowspan=\"2\" valign=\"top\">2021-03-02 18:09:37.999967937</th>\n",
       "      <th>mpta_wm_ref</th>\n",
       "      <td>280896.170848</td>\n",
       "      <td>recovery</td>\n",
       "    </tr>\n",
       "    <tr>\n",
       "      <th>sr_wm_ref</th>\n",
       "      <td>398208.624081</td>\n",
       "      <td>recovery</td>\n",
       "    </tr>\n",
       "    <tr>\n",
       "      <th rowspan=\"2\" valign=\"top\">2021-03-02 18:09:40.999968827</th>\n",
       "      <th>mpta_wm_ref</th>\n",
       "      <td>391427.489301</td>\n",
       "      <td>recovery</td>\n",
       "    </tr>\n",
       "    <tr>\n",
       "      <th>sr_wm_ref</th>\n",
       "      <td>484118.821511</td>\n",
       "      <td>recovery</td>\n",
       "    </tr>\n",
       "  </tbody>\n",
       "</table>\n",
       "<p>9550 rows × 2 columns</p>\n",
       "</div>"
      ],
      "text/plain": [
       "                                                   power condition\n",
       "datetime                      region                              \n",
       "2021-03-01 15:01:46.000138841 mpta_wm_ref  158116.604710  baseline\n",
       "                              sr_wm_ref    268833.530966  baseline\n",
       "2021-03-01 15:01:49.000139731 mpta_wm_ref  318828.737459  baseline\n",
       "                              sr_wm_ref    239860.983292  baseline\n",
       "2021-03-01 15:01:52.000140621 mpta_wm_ref  342869.221709  baseline\n",
       "...                                                  ...       ...\n",
       "2021-03-02 18:09:16.999961706 sr_wm_ref    554251.950719  recovery\n",
       "2021-03-02 18:09:37.999967937 mpta_wm_ref  280896.170848  recovery\n",
       "                              sr_wm_ref    398208.624081  recovery\n",
       "2021-03-02 18:09:40.999968827 mpta_wm_ref  391427.489301  recovery\n",
       "                              sr_wm_ref    484118.821511  recovery\n",
       "\n",
       "[9550 rows x 2 columns]"
      ]
     },
     "execution_count": 11,
     "metadata": {},
     "output_type": "execute_result"
    }
   ],
   "source": [
    "nrem_pow"
   ]
  },
  {
   "cell_type": "code",
   "execution_count": 12,
   "metadata": {
    "execution": {
     "iopub.execute_input": "2021-06-10T19:24:39.133560Z",
     "iopub.status.busy": "2021-06-10T19:24:39.133345Z",
     "iopub.status.idle": "2021-06-10T19:24:39.840590Z",
     "shell.execute_reply": "2021-06-10T19:24:39.839855Z",
     "shell.execute_reply.started": "2021-06-10T19:24:39.133531Z"
    }
   },
   "outputs": [
    {
     "data": {
      "application/vnd.jupyter.widget-view+json": {
       "model_id": "38ff7ce5f23d44328984ad75c74ef431",
       "version_major": 2,
       "version_minor": 0
      },
      "text/plain": [
       "Canvas(toolbar=Toolbar(toolitems=[('Home', 'Reset original view', 'home', 'home'), ('Back', 'Back to previous …"
      ]
     },
     "metadata": {},
     "output_type": "display_data"
    }
   ],
   "source": [
    "g = sns.displot(data=nrem_pow, x='power', hue='condition', col='region', kind='hist')\n",
    "g.set(xlabel='Delta (0.5 - 4Hz) PSD (uV^2/Hz)')\n",
    "g.tight_layout()"
   ]
  },
  {
   "cell_type": "code",
   "execution_count": 13,
   "metadata": {
    "execution": {
     "iopub.execute_input": "2021-06-10T19:24:39.841494Z",
     "iopub.status.busy": "2021-06-10T19:24:39.841351Z",
     "iopub.status.idle": "2021-06-10T19:24:40.293854Z",
     "shell.execute_reply": "2021-06-10T19:24:40.293154Z",
     "shell.execute_reply.started": "2021-06-10T19:24:39.841476Z"
    }
   },
   "outputs": [
    {
     "data": {
      "application/vnd.jupyter.widget-view+json": {
       "model_id": "8799a7a9d57d4cce908894148bf5ab64",
       "version_major": 2,
       "version_minor": 0
      },
      "text/plain": [
       "Canvas(toolbar=Toolbar(toolitems=[('Home', 'Reset original view', 'home', 'home'), ('Back', 'Back to previous …"
      ]
     },
     "metadata": {},
     "output_type": "display_data"
    }
   ],
   "source": [
    "nrem_pow_log = nrem_pow.copy()\n",
    "nrem_pow_log['power'] = np.log(nrem_pow.power)\n",
    "\n",
    "g = sns.displot(data=nrem_pow_log, x='power', hue='condition', col='region', kind='hist')\n",
    "g.set(xlabel='Delta (0.5 - 4Hz) PSD (uV^2/Hz)')\n",
    "g.tight_layout()"
   ]
  },
  {
   "cell_type": "code",
   "execution_count": 14,
   "metadata": {
    "execution": {
     "iopub.execute_input": "2021-06-10T19:24:40.294630Z",
     "iopub.status.busy": "2021-06-10T19:24:40.294499Z",
     "iopub.status.idle": "2021-06-10T19:24:40.829927Z",
     "shell.execute_reply": "2021-06-10T19:24:40.829113Z",
     "shell.execute_reply.started": "2021-06-10T19:24:40.294612Z"
    }
   },
   "outputs": [
    {
     "data": {
      "application/vnd.jupyter.widget-view+json": {
       "model_id": "6fae019b5f1948faa6f8d535f6a3434f",
       "version_major": 2,
       "version_minor": 0
      },
      "text/plain": [
       "Canvas(toolbar=Toolbar(toolitems=[('Home', 'Reset original view', 'home', 'home'), ('Back', 'Back to previous …"
      ]
     },
     "metadata": {},
     "output_type": "display_data"
    }
   ],
   "source": [
    "nrem_pow_sqrt = nrem_pow.copy()\n",
    "nrem_pow_sqrt['power'] = np.sqrt(nrem_pow.power)\n",
    "\n",
    "g = sns.displot(data=nrem_pow_sqrt, x='power', hue='condition', col='region', kind='hist')\n",
    "g.set(xlabel='Delta (0.5 - 4Hz) PSD (uV^2/Hz)')\n",
    "g.tight_layout()"
   ]
  },
  {
   "cell_type": "code",
   "execution_count": 15,
   "metadata": {
    "execution": {
     "iopub.execute_input": "2021-06-10T19:24:40.831003Z",
     "iopub.status.busy": "2021-06-10T19:24:40.830846Z",
     "iopub.status.idle": "2021-06-10T19:24:40.846318Z",
     "shell.execute_reply": "2021-06-10T19:24:40.845281Z",
     "shell.execute_reply.started": "2021-06-10T19:24:40.830985Z"
    }
   },
   "outputs": [],
   "source": [
    "def difference_of_means(df):\n",
    "    means = df.groupby(['condition', 'region']).mean()\n",
    "    return means.xs('recovery') - means.xs('baseline')"
   ]
  },
  {
   "cell_type": "code",
   "execution_count": 16,
   "metadata": {
    "execution": {
     "iopub.execute_input": "2021-06-10T19:24:40.847117Z",
     "iopub.status.busy": "2021-06-10T19:24:40.846988Z",
     "iopub.status.idle": "2021-06-10T19:25:05.291619Z",
     "shell.execute_reply": "2021-06-10T19:25:05.290964Z",
     "shell.execute_reply.started": "2021-06-10T19:24:40.847101Z"
    }
   },
   "outputs": [],
   "source": [
    "observed = difference_of_means(nrem_pow)\n",
    "\n",
    "n_permutations = 10000\n",
    "permutations = list()\n",
    "permuted = nrem_pow.copy()\n",
    "for i in range(n_permutations):\n",
    "    np.random.shuffle(permuted.condition.values)\n",
    "    permutations.append(difference_of_means(permuted))\n",
    "    \n",
    "df = pd.concat(permutations)"
   ]
  },
  {
   "cell_type": "code",
   "execution_count": 17,
   "metadata": {
    "execution": {
     "iopub.execute_input": "2021-06-10T19:25:05.293001Z",
     "iopub.status.busy": "2021-06-10T19:25:05.292787Z",
     "iopub.status.idle": "2021-06-10T19:25:05.730791Z",
     "shell.execute_reply": "2021-06-10T19:25:05.730109Z",
     "shell.execute_reply.started": "2021-06-10T19:25:05.292971Z"
    }
   },
   "outputs": [
    {
     "data": {
      "application/vnd.jupyter.widget-view+json": {
       "model_id": "5383fc72f73842dc83bf56c7590f955d",
       "version_major": 2,
       "version_minor": 0
      },
      "text/plain": [
       "Canvas(toolbar=Toolbar(toolitems=[('Home', 'Reset original view', 'home', 'home'), ('Back', 'Back to previous …"
      ]
     },
     "metadata": {},
     "output_type": "display_data"
    }
   ],
   "source": [
    "g = sns.displot(data=df, x='power', col='region', kind='hist')\n",
    "g.set(xlabel='Difference of means (SD - BL)')\n",
    "g.tight_layout()"
   ]
  },
  {
   "cell_type": "code",
   "execution_count": 18,
   "metadata": {
    "execution": {
     "iopub.execute_input": "2021-06-10T19:25:05.731703Z",
     "iopub.status.busy": "2021-06-10T19:25:05.731555Z",
     "iopub.status.idle": "2021-06-10T19:25:05.749389Z",
     "shell.execute_reply": "2021-06-10T19:25:05.748749Z",
     "shell.execute_reply.started": "2021-06-10T19:25:05.731684Z"
    }
   },
   "outputs": [],
   "source": [
    "cx = df.xs('mpta_wm_ref').sort_values('power')\n",
    "hc = df.xs('sr_wm_ref').sort_values('power')"
   ]
  },
  {
   "cell_type": "code",
   "execution_count": 19,
   "metadata": {
    "execution": {
     "iopub.execute_input": "2021-06-10T19:25:05.750206Z",
     "iopub.status.busy": "2021-06-10T19:25:05.750074Z",
     "iopub.status.idle": "2021-06-10T19:25:05.764246Z",
     "shell.execute_reply": "2021-06-10T19:25:05.763891Z",
     "shell.execute_reply.started": "2021-06-10T19:25:05.750189Z"
    }
   },
   "outputs": [],
   "source": [
    "pcx = np.sum(cx.power.values >= observed.xs('mpta_wm_ref').values)"
   ]
  },
  {
   "cell_type": "code",
   "execution_count": 20,
   "metadata": {
    "execution": {
     "iopub.execute_input": "2021-06-10T19:25:05.764912Z",
     "iopub.status.busy": "2021-06-10T19:25:05.764780Z",
     "iopub.status.idle": "2021-06-10T19:25:05.775401Z",
     "shell.execute_reply": "2021-06-10T19:25:05.774984Z",
     "shell.execute_reply.started": "2021-06-10T19:25:05.764896Z"
    }
   },
   "outputs": [],
   "source": [
    "phc = np.sum(hc.power.values >= observed.xs('sr_wm_ref').values)"
   ]
  },
  {
   "cell_type": "code",
   "execution_count": 21,
   "metadata": {
    "execution": {
     "iopub.execute_input": "2021-06-10T19:25:05.776093Z",
     "iopub.status.busy": "2021-06-10T19:25:05.775965Z",
     "iopub.status.idle": "2021-06-10T19:25:05.792429Z",
     "shell.execute_reply": "2021-06-10T19:25:05.792015Z",
     "shell.execute_reply.started": "2021-06-10T19:25:05.776077Z"
    }
   },
   "outputs": [
    {
     "name": "stdout",
     "output_type": "stream",
     "text": [
      "Subject: Allan\n",
      "Observed differences, Mean SD - Mean BSL:\n",
      "\n",
      "| region      |    power |\n",
      "|:------------|---------:|\n",
      "| mpta_wm_ref | 620822   |\n",
      "| sr_wm_ref   |  96984.4 |\n",
      "\n",
      "\n",
      "Shuffled differences >= observed:\n",
      "Cortex: 1 / 10000\n",
      "Hippocampus: 1 / 10000\n"
     ]
    }
   ],
   "source": [
    "print(f\"Subject: {subject}\")\n",
    "print('Observed differences, Mean SD - Mean BSL:\\n')\n",
    "print(observed.to_markdown())\n",
    "print('\\n')\n",
    "print('Shuffled differences >= observed:')\n",
    "print(f\"Cortex: {1 + pcx} / {n_permutations}\")\n",
    "print(f\"Hippocampus: {1 + phc} / {n_permutations}\")"
   ]
  },
  {
   "cell_type": "code",
   "execution_count": null,
   "metadata": {},
   "outputs": [],
   "source": []
  }
 ],
 "metadata": {
  "kernelspec": {
   "display_name": "Python 3",
   "language": "python",
   "name": "python3"
  },
  "language_info": {
   "codemirror_mode": {
    "name": "ipython",
    "version": 3
   },
   "file_extension": ".py",
   "mimetype": "text/x-python",
   "name": "python",
   "nbconvert_exporter": "python",
   "pygments_lexer": "ipython3",
   "version": "3.7.9"
  }
 },
 "nbformat": 4,
 "nbformat_minor": 4
}
