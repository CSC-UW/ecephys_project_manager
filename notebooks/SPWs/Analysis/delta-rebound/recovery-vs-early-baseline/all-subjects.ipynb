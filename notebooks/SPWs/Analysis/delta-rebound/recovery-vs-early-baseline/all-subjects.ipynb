{
 "cells": [
  {
   "cell_type": "code",
   "execution_count": 4,
   "metadata": {
    "execution": {
     "iopub.execute_input": "2021-06-14T18:00:54.352788Z",
     "iopub.status.busy": "2021-06-14T18:00:54.352355Z",
     "iopub.status.idle": "2021-06-14T18:00:54.372572Z",
     "shell.execute_reply": "2021-06-14T18:00:54.371744Z",
     "shell.execute_reply.started": "2021-06-14T18:00:54.352734Z"
    }
   },
   "outputs": [
    {
     "name": "stdout",
     "output_type": "stream",
     "text": [
      "The autoreload extension is already loaded. To reload it, use:\n",
      "  %reload_ext autoreload\n"
     ]
    }
   ],
   "source": [
    "%load_ext autoreload\n",
    "%autoreload 2"
   ]
  },
  {
   "cell_type": "code",
   "execution_count": 5,
   "metadata": {
    "execution": {
     "iopub.execute_input": "2021-06-14T18:00:54.652133Z",
     "iopub.status.busy": "2021-06-14T18:00:54.651862Z",
     "iopub.status.idle": "2021-06-14T18:00:54.670585Z",
     "shell.execute_reply": "2021-06-14T18:00:54.670031Z",
     "shell.execute_reply.started": "2021-06-14T18:00:54.652097Z"
    }
   },
   "outputs": [],
   "source": [
    "import pandas as pd\n",
    "from scipy import stats"
   ]
  },
  {
   "cell_type": "code",
   "execution_count": 6,
   "metadata": {
    "execution": {
     "iopub.execute_input": "2021-06-14T18:00:54.934545Z",
     "iopub.status.busy": "2021-06-14T18:00:54.934197Z",
     "iopub.status.idle": "2021-06-14T18:00:54.954681Z",
     "shell.execute_reply": "2021-06-14T18:00:54.954133Z",
     "shell.execute_reply.started": "2021-06-14T18:00:54.934499Z"
    }
   },
   "outputs": [
    {
     "name": "stdout",
     "output_type": "stream",
     "text": [
      "| subject    |   rebound |\n",
      "|:-----------|----------:|\n",
      "| Segundo    |  67.7669  |\n",
      "| Valentino  |   4.33299 |\n",
      "| Doppio     |  99.5362  |\n",
      "| Alessandro |  29.2643  |\n",
      "| Allan      | 128.16    |\n"
     ]
    }
   ],
   "source": [
    "cx = pd.DataFrame({'subject': ['Segundo', 'Valentino', 'Doppio', 'Alessandro', 'Allan'], 'rebound': [67.7669, 4.33299, 99.5362, 29.2643, 128.16]}).set_index('subject')\n",
    "print(cx.to_markdown())"
   ]
  },
  {
   "cell_type": "code",
   "execution_count": 7,
   "metadata": {
    "execution": {
     "iopub.execute_input": "2021-06-14T18:00:55.164872Z",
     "iopub.status.busy": "2021-06-14T18:00:55.164669Z",
     "iopub.status.idle": "2021-06-14T18:00:55.181739Z",
     "shell.execute_reply": "2021-06-14T18:00:55.181228Z",
     "shell.execute_reply.started": "2021-06-14T18:00:55.164846Z"
    }
   },
   "outputs": [
    {
     "data": {
      "text/plain": [
       "Ttest_1sampResult(statistic=array([2.92226668]), pvalue=array([0.04314564]))"
      ]
     },
     "execution_count": 7,
     "metadata": {},
     "output_type": "execute_result"
    }
   ],
   "source": [
    "stats.ttest_1samp(cx, 0)"
   ]
  },
  {
   "cell_type": "code",
   "execution_count": 8,
   "metadata": {
    "execution": {
     "iopub.execute_input": "2021-06-14T18:00:55.365218Z",
     "iopub.status.busy": "2021-06-14T18:00:55.364935Z",
     "iopub.status.idle": "2021-06-14T18:00:55.383338Z",
     "shell.execute_reply": "2021-06-14T18:00:55.382543Z",
     "shell.execute_reply.started": "2021-06-14T18:00:55.365182Z"
    }
   },
   "outputs": [
    {
     "name": "stdout",
     "output_type": "stream",
     "text": [
      "| subject    |   rebound |\n",
      "|:-----------|----------:|\n",
      "| Segundo    |   13.5786 |\n",
      "| Valentino  |   28.4419 |\n",
      "| Doppio     |   38.0667 |\n",
      "| Alessandro |   15.6392 |\n",
      "| Allan      |   24.4538 |\n"
     ]
    }
   ],
   "source": [
    "hc = pd.DataFrame({'subject': ['Segundo', 'Valentino', 'Doppio', 'Alessandro', 'Allan'], 'rebound': [13.5786, 28.4419, 38.0667, 15.6392, 24.4538]}).set_index('subject')\n",
    "print(hc.to_markdown())"
   ]
  },
  {
   "cell_type": "code",
   "execution_count": 9,
   "metadata": {
    "execution": {
     "iopub.execute_input": "2021-06-14T18:00:55.591301Z",
     "iopub.status.busy": "2021-06-14T18:00:55.591112Z",
     "iopub.status.idle": "2021-06-14T18:00:55.608724Z",
     "shell.execute_reply": "2021-06-14T18:00:55.608130Z",
     "shell.execute_reply.started": "2021-06-14T18:00:55.591280Z"
    }
   },
   "outputs": [
    {
     "data": {
      "text/plain": [
       "Ttest_1sampResult(statistic=array([5.39958169]), pvalue=array([0.00569379]))"
      ]
     },
     "execution_count": 9,
     "metadata": {},
     "output_type": "execute_result"
    }
   ],
   "source": [
    "stats.ttest_1samp(hc, 0)"
   ]
  },
  {
   "cell_type": "code",
   "execution_count": 12,
   "metadata": {
    "collapsed": true,
    "execution": {
     "iopub.execute_input": "2021-06-14T18:01:31.797093Z",
     "iopub.status.busy": "2021-06-14T18:01:31.796593Z",
     "iopub.status.idle": "2021-06-14T18:01:32.082682Z",
     "shell.execute_reply": "2021-06-14T18:01:32.082031Z",
     "shell.execute_reply.started": "2021-06-14T18:01:31.797031Z"
    },
    "jupyter": {
     "outputs_hidden": true
    }
   },
   "outputs": [
    {
     "data": {
      "image/png": "[encoded data removed]",
      "text/plain": [
       "<Figure size 576x576 with 1 Axes>"
      ]
     },
     "metadata": {
      "needs_background": "light"
     },
     "output_type": "display_data"
    }
   ],
   "source": [
    "import numpy as np\n",
    "import seaborn as sns\n",
    "import matplotlib.pyplot as plt\n",
    "\n",
    "def join_swarm_points(df, ax, x_variable):\n",
    "    left_key, right_key = df.index.get_level_values(x_variable).unique()\n",
    "\n",
    "    left_pts = ax.get_children()[0].get_offsets()\n",
    "    right_pts = ax.get_children()[1].get_offsets()\n",
    "\n",
    "    for subject_name in df.index.get_level_values('subject').unique():\n",
    "        left_val = df.xs((left_key, subject_name))\n",
    "        right_val = df.xs((right_key, subject_name))\n",
    "        left_pt_idx = np.argwhere(np.isclose(left_pts, left_val)).squeeze()[0]\n",
    "        right_pt_idx = np.argwhere(np.isclose(right_pts, right_val)).squeeze()[0]\n",
    "        x = [left_pts[left_pt_idx, 0], right_pts[right_pt_idx, 0]]\n",
    "        y = [left_pts[left_pt_idx, 1], right_pts[right_pt_idx, 1]]\n",
    "        ax.plot(x, y, color='black', alpha=0.1)\n",
    "        \n",
    "df = pd.concat([cx, hc], keys=['cortex', 'hippocampus'], names=['region', 'subject'])\n",
    "\n",
    "fig, ax = plt.subplots(figsize=(8, 8))\n",
    "sns.boxplot(data=df.reset_index(), x='region', y='rebound', ax=ax)\n",
    "sns.swarmplot(data=df.reset_index(), x='region', y='rebound', hue='subject', ax=ax)\n",
    "join_swarm_points(df, ax, 'region')"
   ]
  }
 ],
 "metadata": {
  "kernelspec": {
   "display_name": "Python 3",
   "language": "python",
   "name": "python3"
  },
  "language_info": {
   "codemirror_mode": {
    "name": "ipython",
    "version": 3
   },
   "file_extension": ".py",
   "mimetype": "text/x-python",
   "name": "python",
   "nbconvert_exporter": "python",
   "pygments_lexer": "ipython3",
   "version": "3.7.9"
  }
 },
 "nbformat": 4,
 "nbformat_minor": 4
}
