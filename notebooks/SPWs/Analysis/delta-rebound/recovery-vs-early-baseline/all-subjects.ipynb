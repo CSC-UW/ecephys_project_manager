{
 "cells": [
  {
   "cell_type": "code",
   "execution_count": 1,
   "metadata": {
    "execution": {
     "iopub.execute_input": "2021-06-12T18:12:44.269537Z",
     "iopub.status.busy": "2021-06-12T18:12:44.269006Z",
     "iopub.status.idle": "2021-06-12T18:12:44.287327Z",
     "shell.execute_reply": "2021-06-12T18:12:44.286684Z",
     "shell.execute_reply.started": "2021-06-12T18:12:44.269473Z"
    }
   },
   "outputs": [],
   "source": [
    "%load_ext autoreload\n",
    "%autoreload 2"
   ]
  },
  {
   "cell_type": "code",
   "execution_count": 2,
   "metadata": {
    "execution": {
     "iopub.execute_input": "2021-06-12T18:12:44.534060Z",
     "iopub.status.busy": "2021-06-12T18:12:44.533611Z",
     "iopub.status.idle": "2021-06-12T18:12:44.728792Z",
     "shell.execute_reply": "2021-06-12T18:12:44.727636Z",
     "shell.execute_reply.started": "2021-06-12T18:12:44.534003Z"
    }
   },
   "outputs": [],
   "source": [
    "import pandas as pd\n",
    "from scipy import stats"
   ]
  },
  {
   "cell_type": "code",
   "execution_count": 3,
   "metadata": {
    "execution": {
     "iopub.execute_input": "2021-06-12T18:12:44.791185Z",
     "iopub.status.busy": "2021-06-12T18:12:44.790783Z",
     "iopub.status.idle": "2021-06-12T18:12:44.813335Z",
     "shell.execute_reply": "2021-06-12T18:12:44.812570Z",
     "shell.execute_reply.started": "2021-06-12T18:12:44.791131Z"
    }
   },
   "outputs": [
    {
     "name": "stdout",
     "output_type": "stream",
     "text": [
      "| subject    |   rebound |\n",
      "|:-----------|----------:|\n",
      "| Segundo    |  67.7669  |\n",
      "| Valentino  |   4.33299 |\n",
      "| Doppio     |  99.5362  |\n",
      "| Alessandro |  29.2643  |\n",
      "| Allan      | 128.16    |\n"
     ]
    }
   ],
   "source": [
    "cx = pd.DataFrame({'subject': ['Segundo', 'Valentino', 'Doppio', 'Alessandro', 'Allan'], 'rebound': [67.7669, 4.33299, 99.5362, 29.2643, 128.16]}).set_index('subject')\n",
    "print(cx.to_markdown())"
   ]
  },
  {
   "cell_type": "code",
   "execution_count": 4,
   "metadata": {
    "execution": {
     "iopub.execute_input": "2021-06-12T18:12:45.039428Z",
     "iopub.status.busy": "2021-06-12T18:12:45.038994Z",
     "iopub.status.idle": "2021-06-12T18:12:45.056025Z",
     "shell.execute_reply": "2021-06-12T18:12:45.055568Z",
     "shell.execute_reply.started": "2021-06-12T18:12:45.039371Z"
    }
   },
   "outputs": [
    {
     "data": {
      "text/plain": [
       "Ttest_1sampResult(statistic=array([2.92226668]), pvalue=array([0.04314564]))"
      ]
     },
     "execution_count": 4,
     "metadata": {},
     "output_type": "execute_result"
    }
   ],
   "source": [
    "stats.ttest_1samp(cx, 0)"
   ]
  },
  {
   "cell_type": "code",
   "execution_count": 5,
   "metadata": {
    "execution": {
     "iopub.execute_input": "2021-06-12T18:12:45.294927Z",
     "iopub.status.busy": "2021-06-12T18:12:45.294638Z",
     "iopub.status.idle": "2021-06-12T18:12:45.311440Z",
     "shell.execute_reply": "2021-06-12T18:12:45.310842Z",
     "shell.execute_reply.started": "2021-06-12T18:12:45.294890Z"
    }
   },
   "outputs": [
    {
     "name": "stdout",
     "output_type": "stream",
     "text": [
      "| subject    |   rebound |\n",
      "|:-----------|----------:|\n",
      "| Segundo    |   13.5786 |\n",
      "| Valentino  |   28.4419 |\n",
      "| Doppio     |   38.0667 |\n",
      "| Alessandro |   15.6392 |\n",
      "| Allan      |   24.4538 |\n"
     ]
    }
   ],
   "source": [
    "hc = pd.DataFrame({'subject': ['Segundo', 'Valentino', 'Doppio', 'Alessandro', 'Allan'], 'rebound': [13.5786, 28.4419, 38.0667, 15.6392, 24.4538]}).set_index('subject')\n",
    "print(hc.to_markdown())"
   ]
  },
  {
   "cell_type": "code",
   "execution_count": 6,
   "metadata": {
    "execution": {
     "iopub.execute_input": "2021-06-12T18:12:45.543044Z",
     "iopub.status.busy": "2021-06-12T18:12:45.542709Z",
     "iopub.status.idle": "2021-06-12T18:12:45.558639Z",
     "shell.execute_reply": "2021-06-12T18:12:45.558228Z",
     "shell.execute_reply.started": "2021-06-12T18:12:45.543000Z"
    }
   },
   "outputs": [
    {
     "data": {
      "text/plain": [
       "Ttest_1sampResult(statistic=array([5.39958169]), pvalue=array([0.00569379]))"
      ]
     },
     "execution_count": 6,
     "metadata": {},
     "output_type": "execute_result"
    }
   ],
   "source": [
    "stats.ttest_1samp(hc, 0)"
   ]
  },
  {
   "cell_type": "code",
   "execution_count": null,
   "metadata": {},
   "outputs": [],
   "source": []
  }
 ],
 "metadata": {
  "kernelspec": {
   "display_name": "Python 3",
   "language": "python",
   "name": "python3"
  },
  "language_info": {
   "codemirror_mode": {
    "name": "ipython",
    "version": 3
   },
   "file_extension": ".py",
   "mimetype": "text/x-python",
   "name": "python",
   "nbconvert_exporter": "python",
   "pygments_lexer": "ipython3",
   "version": "3.7.9"
  }
 },
 "nbformat": 4,
 "nbformat_minor": 4
}
