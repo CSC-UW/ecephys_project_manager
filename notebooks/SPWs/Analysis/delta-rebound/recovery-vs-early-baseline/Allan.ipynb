{
 "cells": [
  {
   "cell_type": "code",
   "execution_count": 1,
   "metadata": {
    "execution": {
     "iopub.execute_input": "2021-06-12T18:07:43.743323Z",
     "iopub.status.busy": "2021-06-12T18:07:43.742935Z",
     "iopub.status.idle": "2021-06-12T18:07:43.759786Z",
     "shell.execute_reply": "2021-06-12T18:07:43.759212Z",
     "shell.execute_reply.started": "2021-06-12T18:07:43.743282Z"
    }
   },
   "outputs": [],
   "source": [
    "%load_ext autoreload\n",
    "%autoreload 2"
   ]
  },
  {
   "cell_type": "code",
   "execution_count": 2,
   "metadata": {
    "execution": {
     "iopub.execute_input": "2021-06-12T18:07:43.760679Z",
     "iopub.status.busy": "2021-06-12T18:07:43.760551Z",
     "iopub.status.idle": "2021-06-12T18:07:44.144928Z",
     "shell.execute_reply": "2021-06-12T18:07:44.144286Z",
     "shell.execute_reply.started": "2021-06-12T18:07:43.760663Z"
    }
   },
   "outputs": [],
   "source": [
    "# %matplotlib widget\n",
    "import matplotlib.pyplot as plt\n",
    "import seaborn as sns"
   ]
  },
  {
   "cell_type": "code",
   "execution_count": 3,
   "metadata": {
    "execution": {
     "iopub.execute_input": "2021-06-12T18:07:44.146106Z",
     "iopub.status.busy": "2021-06-12T18:07:44.145958Z",
     "iopub.status.idle": "2021-06-12T18:07:44.374150Z",
     "shell.execute_reply": "2021-06-12T18:07:44.373540Z",
     "shell.execute_reply.started": "2021-06-12T18:07:44.146089Z"
    }
   },
   "outputs": [],
   "source": [
    "import xarray as xr\n",
    "import numpy as np\n",
    "import pandas as pd"
   ]
  },
  {
   "cell_type": "code",
   "execution_count": 4,
   "metadata": {
    "execution": {
     "iopub.execute_input": "2021-06-12T18:07:44.375152Z",
     "iopub.status.busy": "2021-06-12T18:07:44.375019Z",
     "iopub.status.idle": "2021-06-12T18:07:44.387725Z",
     "shell.execute_reply": "2021-06-12T18:07:44.387176Z",
     "shell.execute_reply.started": "2021-06-12T18:07:44.375135Z"
    }
   },
   "outputs": [
    {
     "data": {
      "text/plain": [
       "<xarray.core.options.set_options at 0x7f0558000b90>"
      ]
     },
     "execution_count": 4,
     "metadata": {},
     "output_type": "execute_result"
    }
   ],
   "source": [
    "xr.set_options(keep_attrs=True)"
   ]
  },
  {
   "cell_type": "code",
   "execution_count": 5,
   "metadata": {
    "execution": {
     "iopub.execute_input": "2021-06-12T18:07:44.388393Z",
     "iopub.status.busy": "2021-06-12T18:07:44.388269Z",
     "iopub.status.idle": "2021-06-12T18:07:44.402838Z",
     "shell.execute_reply": "2021-06-12T18:07:44.402420Z",
     "shell.execute_reply.started": "2021-06-12T18:07:44.388376Z"
    }
   },
   "outputs": [],
   "source": [
    "import ecephys_analyses as ea \n",
    "from ecephys import utils\n",
    "from ecephys.signal.xarray_utils import filter_dataset_by_hypnogram"
   ]
  },
  {
   "cell_type": "code",
   "execution_count": 6,
   "metadata": {
    "execution": {
     "iopub.execute_input": "2021-06-12T18:07:44.403541Z",
     "iopub.status.busy": "2021-06-12T18:07:44.403415Z",
     "iopub.status.idle": "2021-06-12T18:07:44.414790Z",
     "shell.execute_reply": "2021-06-12T18:07:44.414235Z",
     "shell.execute_reply.started": "2021-06-12T18:07:44.403525Z"
    }
   },
   "outputs": [],
   "source": [
    "subject = \"Allan\"\n",
    "experiment = \"novel_objects_deprivation\"\n",
    "norm_condition = \"light-period-circadian-match\"\n",
    "bsl_condition = \"extended-wake-circadian-match\"\n",
    "rec_condition = \"recovery-sleep\"\n",
    "states = [\"N1\", \"N2\"]\n",
    "duration = '02:00:00'\n",
    "light_period_start = '09:00:00'\n",
    "light_period_end = '21:00:00'\n",
    "f_range = (0.5, 4)"
   ]
  },
  {
   "cell_type": "code",
   "execution_count": 7,
   "metadata": {
    "execution": {
     "iopub.execute_input": "2021-06-12T18:07:44.415437Z",
     "iopub.status.busy": "2021-06-12T18:07:44.415315Z",
     "iopub.status.idle": "2021-06-12T18:07:55.383671Z",
     "shell.execute_reply": "2021-06-12T18:07:55.382974Z",
     "shell.execute_reply.started": "2021-06-12T18:07:44.415421Z"
    }
   },
   "outputs": [],
   "source": [
    "norm_hyp = ea.load_hypnogram(subject, experiment, norm_condition)\n",
    "norm_hyp = norm_hyp.keep_states(states).keep_between(light_period_start, light_period_end)\n",
    "\n",
    "norm_pow = ea.load_power(subject, experiment, norm_condition, \"spg.nc\").sel(frequency=slice(*f_range)).sum(dim=\"frequency\")\n",
    "norm_pow = filter_dataset_by_hypnogram(norm_pow, norm_hyp).swap_dims({'time': 'datetime'}).drop_vars(['time', 'timedelta'])"
   ]
  },
  {
   "cell_type": "code",
   "execution_count": 8,
   "metadata": {
    "execution": {
     "iopub.execute_input": "2021-06-12T18:07:55.384543Z",
     "iopub.status.busy": "2021-06-12T18:07:55.384405Z",
     "iopub.status.idle": "2021-06-12T18:08:00.230171Z",
     "shell.execute_reply": "2021-06-12T18:08:00.229471Z",
     "shell.execute_reply.started": "2021-06-12T18:07:55.384526Z"
    }
   },
   "outputs": [],
   "source": [
    "rec_hyp = ea.load_hypnogram(subject, experiment, rec_condition)\n",
    "rec_hyp = rec_hyp.keep_states(states).keep_first(duration)\n",
    "\n",
    "rec_pow = ea.load_power(subject, experiment, rec_condition, \"spg.nc\").sel(frequency=slice(*f_range)).sum(dim='frequency')\n",
    "rec_pow = filter_dataset_by_hypnogram(rec_pow, rec_hyp).swap_dims({'time': 'datetime'}).drop_vars(['time', 'timedelta'])\n",
    "rec_pow = rec_pow / norm_pow.mean(dim=\"datetime\") * 100"
   ]
  },
  {
   "cell_type": "code",
   "execution_count": 9,
   "metadata": {
    "execution": {
     "iopub.execute_input": "2021-06-12T18:08:00.231779Z",
     "iopub.status.busy": "2021-06-12T18:08:00.231635Z",
     "iopub.status.idle": "2021-06-12T18:08:01.762635Z",
     "shell.execute_reply": "2021-06-12T18:08:01.761937Z",
     "shell.execute_reply.started": "2021-06-12T18:08:00.231761Z"
    }
   },
   "outputs": [],
   "source": [
    "bsl_hyp = ea.load_hypnogram(subject, experiment, bsl_condition)\n",
    "bsl_hyp = bsl_hyp.keep_states(states).keep_between(light_period_start, light_period_end).keep_first(duration)\n",
    "\n",
    "bsl_pow = ea.load_power(subject, experiment, bsl_condition, \"spg.nc\").sel(frequency=slice(*f_range)).sum(dim='frequency')\n",
    "bsl_pow = filter_dataset_by_hypnogram(bsl_pow, bsl_hyp).swap_dims({'time': 'datetime'}).drop_vars(['time', 'timedelta'])\n",
    "bsl_pow = bsl_pow / norm_pow.mean(dim=\"datetime\") * 100"
   ]
  },
  {
   "cell_type": "code",
   "execution_count": 10,
   "metadata": {
    "execution": {
     "iopub.execute_input": "2021-06-12T18:08:01.763790Z",
     "iopub.status.busy": "2021-06-12T18:08:01.763649Z",
     "iopub.status.idle": "2021-06-12T18:08:01.776973Z",
     "shell.execute_reply": "2021-06-12T18:08:01.776190Z",
     "shell.execute_reply.started": "2021-06-12T18:08:01.763772Z"
    }
   },
   "outputs": [],
   "source": [
    "def match_lengths(dataframes):\n",
    "    length = min(list(map(len, dataframes)))\n",
    "    return (df.iloc[:length] for df in dataframes)"
   ]
  },
  {
   "cell_type": "code",
   "execution_count": 11,
   "metadata": {
    "execution": {
     "iopub.execute_input": "2021-06-12T18:08:01.777708Z",
     "iopub.status.busy": "2021-06-12T18:08:01.777585Z",
     "iopub.status.idle": "2021-06-12T18:08:01.797144Z",
     "shell.execute_reply": "2021-06-12T18:08:01.796538Z",
     "shell.execute_reply.started": "2021-06-12T18:08:01.777692Z"
    }
   },
   "outputs": [],
   "source": [
    "bsl_df = bsl_pow.to_dataframe().reset_index(drop=True).rename_axis(index='pair').assign(condition='baseline').set_index('condition', append=True)\n",
    "rec_df = rec_pow.to_dataframe().reset_index(drop=True).rename_axis(index='pair').assign(condition='recovery').set_index('condition', append=True)\n",
    "bsl_df, rec_df = match_lengths((bsl_df, rec_df))\n",
    "df = pd.concat([bsl_df, rec_df]).sort_index()\n",
    "df.columns.name = 'region'"
   ]
  },
  {
   "cell_type": "code",
   "execution_count": 12,
   "metadata": {
    "execution": {
     "iopub.execute_input": "2021-06-12T18:08:01.797850Z",
     "iopub.status.busy": "2021-06-12T18:08:01.797728Z",
     "iopub.status.idle": "2021-06-12T18:08:01.809834Z",
     "shell.execute_reply": "2021-06-12T18:08:01.809247Z",
     "shell.execute_reply.started": "2021-06-12T18:08:01.797835Z"
    }
   },
   "outputs": [],
   "source": [
    "df_plot = df.stack().to_frame(name='power')\n",
    "df_plot['log_power'] = np.log(df_plot.power)\n",
    "df_plot['sqrt_power'] = np.sqrt(df_plot.power)"
   ]
  },
  {
   "cell_type": "code",
   "execution_count": 13,
   "metadata": {
    "execution": {
     "iopub.execute_input": "2021-06-12T18:08:01.810538Z",
     "iopub.status.busy": "2021-06-12T18:08:01.810417Z",
     "iopub.status.idle": "2021-06-12T18:08:02.688604Z",
     "shell.execute_reply": "2021-06-12T18:08:02.688211Z",
     "shell.execute_reply.started": "2021-06-12T18:08:01.810522Z"
    }
   },
   "outputs": [
    {
     "data": {
      "image/png": "[encoded data removed]",
      "text/plain": [
       "<Figure size 799.5x360 with 2 Axes>"
      ]
     },
     "metadata": {
      "needs_background": "light"
     },
     "output_type": "display_data"
    }
   ],
   "source": [
    "g = sns.displot(data=df_plot, x='power', hue='condition', col='region', kind='hist')\n",
    "g.set(xlabel='Delta (0.5 - 4Hz) PSD (uV^2/Hz)')\n",
    "g.tight_layout()"
   ]
  },
  {
   "cell_type": "code",
   "execution_count": 14,
   "metadata": {
    "execution": {
     "iopub.execute_input": "2021-06-12T18:08:02.689399Z",
     "iopub.status.busy": "2021-06-12T18:08:02.689260Z",
     "iopub.status.idle": "2021-06-12T18:08:03.433924Z",
     "shell.execute_reply": "2021-06-12T18:08:03.433233Z",
     "shell.execute_reply.started": "2021-06-12T18:08:02.689381Z"
    }
   },
   "outputs": [
    {
     "data": {
      "image/png": "[encoded data removed]",
      "text/plain": [
       "<Figure size 799.5x360 with 2 Axes>"
      ]
     },
     "metadata": {
      "needs_background": "light"
     },
     "output_type": "display_data"
    }
   ],
   "source": [
    "g = sns.displot(data=df_plot, x='log_power', hue='condition', col='region', kind='hist')\n",
    "g.set(xlabel='Delta (0.5 - 4Hz) PSD (uV^2/Hz)')\n",
    "g.tight_layout()"
   ]
  },
  {
   "cell_type": "code",
   "execution_count": 15,
   "metadata": {
    "execution": {
     "iopub.execute_input": "2021-06-12T18:08:03.434902Z",
     "iopub.status.busy": "2021-06-12T18:08:03.434754Z",
     "iopub.status.idle": "2021-06-12T18:08:04.174600Z",
     "shell.execute_reply": "2021-06-12T18:08:04.173972Z",
     "shell.execute_reply.started": "2021-06-12T18:08:03.434883Z"
    }
   },
   "outputs": [
    {
     "data": {
      "image/png": "[encoded data removed]",
      "text/plain": [
       "<Figure size 799.5x360 with 2 Axes>"
      ]
     },
     "metadata": {
      "needs_background": "light"
     },
     "output_type": "display_data"
    }
   ],
   "source": [
    "g = sns.displot(data=df_plot, x='sqrt_power', hue='condition', col='region', kind='hist')\n",
    "g.set(xlabel='Delta (0.5 - 4Hz) PSD (uV^2/Hz)')\n",
    "g.tight_layout()"
   ]
  },
  {
   "cell_type": "code",
   "execution_count": 16,
   "metadata": {
    "execution": {
     "iopub.execute_input": "2021-06-12T18:08:04.175456Z",
     "iopub.status.busy": "2021-06-12T18:08:04.175319Z",
     "iopub.status.idle": "2021-06-12T18:08:04.188002Z",
     "shell.execute_reply": "2021-06-12T18:08:04.187199Z",
     "shell.execute_reply.started": "2021-06-12T18:08:04.175438Z"
    }
   },
   "outputs": [],
   "source": [
    "def get_rebound(df):\n",
    "    means = df.groupby('condition').mean()\n",
    "    return means.xs('recovery') - means.xs('baseline')"
   ]
  },
  {
   "cell_type": "code",
   "execution_count": 17,
   "metadata": {
    "execution": {
     "iopub.execute_input": "2021-06-12T18:08:04.188738Z",
     "iopub.status.busy": "2021-06-12T18:08:04.188615Z",
     "iopub.status.idle": "2021-06-12T18:08:04.201267Z",
     "shell.execute_reply": "2021-06-12T18:08:04.200488Z",
     "shell.execute_reply.started": "2021-06-12T18:08:04.188722Z"
    }
   },
   "outputs": [],
   "source": [
    "def shuffle(df, key): \n",
    "    _df = df.reset_index()\n",
    "    labels = _df[key].values.reshape(-1, 2)\n",
    "    rng = np.random.default_rng()\n",
    "    rng.permuted(labels, axis=1, out=labels)\n",
    "    _df.set_index(df.index.names, inplace=True)\n",
    "    return _df"
   ]
  },
  {
   "cell_type": "code",
   "execution_count": 18,
   "metadata": {
    "execution": {
     "iopub.execute_input": "2021-06-12T18:08:04.202052Z",
     "iopub.status.busy": "2021-06-12T18:08:04.201926Z",
     "iopub.status.idle": "2021-06-12T18:08:33.210818Z",
     "shell.execute_reply": "2021-06-12T18:08:33.209972Z",
     "shell.execute_reply.started": "2021-06-12T18:08:04.202036Z"
    }
   },
   "outputs": [],
   "source": [
    "observed = get_rebound(df)\n",
    "\n",
    "n_permutations = 10000\n",
    "permutations = list()\n",
    "for i in range(n_permutations):\n",
    "    permuted = shuffle(df, 'condition')\n",
    "    permutations.append(get_rebound(permuted))"
   ]
  },
  {
   "cell_type": "code",
   "execution_count": 19,
   "metadata": {
    "execution": {
     "iopub.execute_input": "2021-06-12T18:08:33.211926Z",
     "iopub.status.busy": "2021-06-12T18:08:33.211771Z",
     "iopub.status.idle": "2021-06-12T18:08:33.835299Z",
     "shell.execute_reply": "2021-06-12T18:08:33.834616Z",
     "shell.execute_reply.started": "2021-06-12T18:08:33.211906Z"
    }
   },
   "outputs": [],
   "source": [
    "perms = pd.concat(permutations, axis=1)\n",
    "perms.columns.name = 'permtuation'\n",
    "perms = perms.stack().to_frame(name='rebound').reorder_levels([1, 0]).sort_index()"
   ]
  },
  {
   "cell_type": "code",
   "execution_count": 20,
   "metadata": {
    "execution": {
     "iopub.execute_input": "2021-06-12T18:08:33.836141Z",
     "iopub.status.busy": "2021-06-12T18:08:33.836003Z",
     "iopub.status.idle": "2021-06-12T18:08:34.413158Z",
     "shell.execute_reply": "2021-06-12T18:08:34.412593Z",
     "shell.execute_reply.started": "2021-06-12T18:08:33.836124Z"
    }
   },
   "outputs": [
    {
     "data": {
      "image/png": "[encoded data removed]",
      "text/plain": [
       "<Figure size 720x360 with 2 Axes>"
      ]
     },
     "metadata": {
      "needs_background": "light"
     },
     "output_type": "display_data"
    }
   ],
   "source": [
    "g = sns.displot(data=perms, x='rebound', col='region', kind='hist')\n",
    "g.set(xlabel='Rebound (SD - BL)')\n",
    "g.tight_layout()"
   ]
  },
  {
   "cell_type": "code",
   "execution_count": 21,
   "metadata": {
    "execution": {
     "iopub.execute_input": "2021-06-12T18:08:34.413905Z",
     "iopub.status.busy": "2021-06-12T18:08:34.413774Z",
     "iopub.status.idle": "2021-06-12T18:08:34.429214Z",
     "shell.execute_reply": "2021-06-12T18:08:34.428795Z",
     "shell.execute_reply.started": "2021-06-12T18:08:34.413888Z"
    }
   },
   "outputs": [],
   "source": [
    "cx = perms.xs('mpta_wm_ref', level='region')\n",
    "hc = perms.xs('sr_wm_ref', level='region')"
   ]
  },
  {
   "cell_type": "code",
   "execution_count": 22,
   "metadata": {
    "execution": {
     "iopub.execute_input": "2021-06-12T18:08:34.429873Z",
     "iopub.status.busy": "2021-06-12T18:08:34.429748Z",
     "iopub.status.idle": "2021-06-12T18:08:34.440880Z",
     "shell.execute_reply": "2021-06-12T18:08:34.440224Z",
     "shell.execute_reply.started": "2021-06-12T18:08:34.429857Z"
    }
   },
   "outputs": [],
   "source": [
    "pcx = np.sum(cx >= observed.xs('mpta_wm_ref'))"
   ]
  },
  {
   "cell_type": "code",
   "execution_count": 23,
   "metadata": {
    "execution": {
     "iopub.execute_input": "2021-06-12T18:08:34.441565Z",
     "iopub.status.busy": "2021-06-12T18:08:34.441441Z",
     "iopub.status.idle": "2021-06-12T18:08:34.453825Z",
     "shell.execute_reply": "2021-06-12T18:08:34.453311Z",
     "shell.execute_reply.started": "2021-06-12T18:08:34.441549Z"
    }
   },
   "outputs": [],
   "source": [
    "phc = np.sum(hc >= observed.xs('sr_wm_ref'))"
   ]
  },
  {
   "cell_type": "code",
   "execution_count": 24,
   "metadata": {
    "execution": {
     "iopub.execute_input": "2021-06-12T18:08:34.454438Z",
     "iopub.status.busy": "2021-06-12T18:08:34.454316Z",
     "iopub.status.idle": "2021-06-12T18:08:34.468182Z",
     "shell.execute_reply": "2021-06-12T18:08:34.467742Z",
     "shell.execute_reply.started": "2021-06-12T18:08:34.454422Z"
    }
   },
   "outputs": [
    {
     "name": "stdout",
     "output_type": "stream",
     "text": [
      "Subject: Allan\n",
      "Observed rebound (BL - SD):\n",
      "\n",
      "| region      |        0 |\n",
      "|:------------|---------:|\n",
      "| mpta_wm_ref | 128.16   |\n",
      "| sr_wm_ref   |  24.4538 |\n",
      "\n",
      "\n",
      "Shuffled >= observed:\n",
      "Cortex: 1 / 10000\n",
      "Hippocampus: 1 / 10000\n"
     ]
    }
   ],
   "source": [
    "print(f\"Subject: {subject}\")\n",
    "print('Observed rebound (BL - SD):\\n')\n",
    "print(observed.to_markdown())\n",
    "print('\\n')\n",
    "print('Shuffled >= observed:')\n",
    "print(f\"Cortex: {1 + pcx.squeeze()} / {n_permutations}\")\n",
    "print(f\"Hippocampus: {1 + phc.squeeze()} / {n_permutations}\")"
   ]
  },
  {
   "cell_type": "code",
   "execution_count": null,
   "metadata": {},
   "outputs": [],
   "source": []
  }
 ],
 "metadata": {
  "kernelspec": {
   "display_name": "Python 3",
   "language": "python",
   "name": "python3"
  },
  "language_info": {
   "codemirror_mode": {
    "name": "ipython",
    "version": 3
   },
   "file_extension": ".py",
   "mimetype": "text/x-python",
   "name": "python",
   "nbconvert_exporter": "python",
   "pygments_lexer": "ipython3",
   "version": "3.7.9"
  }
 },
 "nbformat": 4,
 "nbformat_minor": 4
}
