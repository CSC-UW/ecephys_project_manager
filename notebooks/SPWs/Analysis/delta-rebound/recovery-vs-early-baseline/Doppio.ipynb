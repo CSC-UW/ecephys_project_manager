{
 "cells": [
  {
   "cell_type": "code",
   "execution_count": 1,
   "metadata": {
    "execution": {
     "iopub.execute_input": "2021-06-12T18:07:25.887973Z",
     "iopub.status.busy": "2021-06-12T18:07:25.887487Z",
     "iopub.status.idle": "2021-06-12T18:07:25.906986Z",
     "shell.execute_reply": "2021-06-12T18:07:25.906182Z",
     "shell.execute_reply.started": "2021-06-12T18:07:25.887913Z"
    }
   },
   "outputs": [],
   "source": [
    "%load_ext autoreload\n",
    "%autoreload 2"
   ]
  },
  {
   "cell_type": "code",
   "execution_count": 2,
   "metadata": {
    "execution": {
     "iopub.execute_input": "2021-06-12T18:07:25.907860Z",
     "iopub.status.busy": "2021-06-12T18:07:25.907735Z",
     "iopub.status.idle": "2021-06-12T18:07:26.249974Z",
     "shell.execute_reply": "2021-06-12T18:07:26.249214Z",
     "shell.execute_reply.started": "2021-06-12T18:07:25.907845Z"
    }
   },
   "outputs": [],
   "source": [
    "# %matplotlib widget\n",
    "import matplotlib.pyplot as plt\n",
    "import seaborn as sns"
   ]
  },
  {
   "cell_type": "code",
   "execution_count": 3,
   "metadata": {
    "execution": {
     "iopub.execute_input": "2021-06-12T18:07:26.251142Z",
     "iopub.status.busy": "2021-06-12T18:07:26.251002Z",
     "iopub.status.idle": "2021-06-12T18:07:26.480025Z",
     "shell.execute_reply": "2021-06-12T18:07:26.479302Z",
     "shell.execute_reply.started": "2021-06-12T18:07:26.251125Z"
    }
   },
   "outputs": [],
   "source": [
    "import xarray as xr\n",
    "import numpy as np\n",
    "import pandas as pd"
   ]
  },
  {
   "cell_type": "code",
   "execution_count": 4,
   "metadata": {
    "execution": {
     "iopub.execute_input": "2021-06-12T18:07:26.481101Z",
     "iopub.status.busy": "2021-06-12T18:07:26.480958Z",
     "iopub.status.idle": "2021-06-12T18:07:26.494311Z",
     "shell.execute_reply": "2021-06-12T18:07:26.493755Z",
     "shell.execute_reply.started": "2021-06-12T18:07:26.481084Z"
    }
   },
   "outputs": [
    {
     "data": {
      "text/plain": [
       "<xarray.core.options.set_options at 0x7f3d73694bd0>"
      ]
     },
     "execution_count": 4,
     "metadata": {},
     "output_type": "execute_result"
    }
   ],
   "source": [
    "xr.set_options(keep_attrs=True)"
   ]
  },
  {
   "cell_type": "code",
   "execution_count": 5,
   "metadata": {
    "execution": {
     "iopub.execute_input": "2021-06-12T18:07:26.494982Z",
     "iopub.status.busy": "2021-06-12T18:07:26.494861Z",
     "iopub.status.idle": "2021-06-12T18:07:26.509518Z",
     "shell.execute_reply": "2021-06-12T18:07:26.509065Z",
     "shell.execute_reply.started": "2021-06-12T18:07:26.494967Z"
    }
   },
   "outputs": [],
   "source": [
    "import ecephys_analyses as ea \n",
    "from ecephys import utils\n",
    "from ecephys.signal.xarray_utils import filter_dataset_by_hypnogram"
   ]
  },
  {
   "cell_type": "code",
   "execution_count": 6,
   "metadata": {
    "execution": {
     "iopub.execute_input": "2021-06-12T18:07:26.510178Z",
     "iopub.status.busy": "2021-06-12T18:07:26.510052Z",
     "iopub.status.idle": "2021-06-12T18:07:26.521686Z",
     "shell.execute_reply": "2021-06-12T18:07:26.521286Z",
     "shell.execute_reply.started": "2021-06-12T18:07:26.510163Z"
    }
   },
   "outputs": [],
   "source": [
    "subject = \"Doppio\"\n",
    "experiment = \"novel_objects_deprivation\"\n",
    "norm_condition = \"light-period-circadian-match\"\n",
    "bsl_condition = \"extended-wake-circadian-match\"\n",
    "rec_condition = \"recovery-sleep\"\n",
    "states = [\"N1\", \"N2\"]\n",
    "duration = '02:00:00'\n",
    "light_period_start = '09:00:00'\n",
    "light_period_end = '21:00:00'\n",
    "f_range = (0.5, 4)"
   ]
  },
  {
   "cell_type": "code",
   "execution_count": 7,
   "metadata": {
    "execution": {
     "iopub.execute_input": "2021-06-12T18:07:26.522517Z",
     "iopub.status.busy": "2021-06-12T18:07:26.522397Z",
     "iopub.status.idle": "2021-06-12T18:07:34.900955Z",
     "shell.execute_reply": "2021-06-12T18:07:34.900479Z",
     "shell.execute_reply.started": "2021-06-12T18:07:26.522501Z"
    }
   },
   "outputs": [],
   "source": [
    "norm_hyp = ea.load_hypnogram(subject, experiment, norm_condition)\n",
    "norm_hyp = norm_hyp.keep_states(states).keep_between(light_period_start, light_period_end)\n",
    "\n",
    "norm_pow = ea.load_power(subject, experiment, norm_condition, \"spg.nc\").sel(frequency=slice(*f_range)).sum(dim=\"frequency\")\n",
    "norm_pow = filter_dataset_by_hypnogram(norm_pow, norm_hyp).swap_dims({'time': 'datetime'}).drop_vars(['time', 'timedelta'])"
   ]
  },
  {
   "cell_type": "code",
   "execution_count": 8,
   "metadata": {
    "execution": {
     "iopub.execute_input": "2021-06-12T18:07:34.901773Z",
     "iopub.status.busy": "2021-06-12T18:07:34.901633Z",
     "iopub.status.idle": "2021-06-12T18:07:37.287145Z",
     "shell.execute_reply": "2021-06-12T18:07:37.286536Z",
     "shell.execute_reply.started": "2021-06-12T18:07:34.901755Z"
    }
   },
   "outputs": [],
   "source": [
    "rec_hyp = ea.load_hypnogram(subject, experiment, rec_condition)\n",
    "rec_hyp = rec_hyp.keep_states(states).keep_first(duration)\n",
    "\n",
    "rec_pow = ea.load_power(subject, experiment, rec_condition, \"spg.nc\").sel(frequency=slice(*f_range)).sum(dim='frequency')\n",
    "rec_pow = filter_dataset_by_hypnogram(rec_pow, rec_hyp).swap_dims({'time': 'datetime'}).drop_vars(['time', 'timedelta'])\n",
    "rec_pow = rec_pow / norm_pow.mean(dim=\"datetime\") * 100"
   ]
  },
  {
   "cell_type": "code",
   "execution_count": 9,
   "metadata": {
    "execution": {
     "iopub.execute_input": "2021-06-12T18:07:37.288693Z",
     "iopub.status.busy": "2021-06-12T18:07:37.288546Z",
     "iopub.status.idle": "2021-06-12T18:07:39.646176Z",
     "shell.execute_reply": "2021-06-12T18:07:39.645456Z",
     "shell.execute_reply.started": "2021-06-12T18:07:37.288676Z"
    }
   },
   "outputs": [],
   "source": [
    "bsl_hyp = ea.load_hypnogram(subject, experiment, bsl_condition)\n",
    "bsl_hyp = bsl_hyp.keep_states(states).keep_between(light_period_start, light_period_end).keep_first(duration)\n",
    "\n",
    "bsl_pow = ea.load_power(subject, experiment, bsl_condition, \"spg.nc\").sel(frequency=slice(*f_range)).sum(dim='frequency')\n",
    "bsl_pow = filter_dataset_by_hypnogram(bsl_pow, bsl_hyp).swap_dims({'time': 'datetime'}).drop_vars(['time', 'timedelta'])\n",
    "bsl_pow = bsl_pow / norm_pow.mean(dim=\"datetime\") * 100"
   ]
  },
  {
   "cell_type": "code",
   "execution_count": 10,
   "metadata": {
    "execution": {
     "iopub.execute_input": "2021-06-12T18:07:39.647328Z",
     "iopub.status.busy": "2021-06-12T18:07:39.647185Z",
     "iopub.status.idle": "2021-06-12T18:07:39.660831Z",
     "shell.execute_reply": "2021-06-12T18:07:39.660125Z",
     "shell.execute_reply.started": "2021-06-12T18:07:39.647310Z"
    }
   },
   "outputs": [],
   "source": [
    "def match_lengths(dataframes):\n",
    "    length = min(list(map(len, dataframes)))\n",
    "    return (df.iloc[:length] for df in dataframes)"
   ]
  },
  {
   "cell_type": "code",
   "execution_count": 11,
   "metadata": {
    "execution": {
     "iopub.execute_input": "2021-06-12T18:07:39.661540Z",
     "iopub.status.busy": "2021-06-12T18:07:39.661417Z",
     "iopub.status.idle": "2021-06-12T18:07:39.682083Z",
     "shell.execute_reply": "2021-06-12T18:07:39.681566Z",
     "shell.execute_reply.started": "2021-06-12T18:07:39.661525Z"
    }
   },
   "outputs": [],
   "source": [
    "bsl_df = bsl_pow.to_dataframe().reset_index(drop=True).rename_axis(index='pair').assign(condition='baseline').set_index('condition', append=True)\n",
    "rec_df = rec_pow.to_dataframe().reset_index(drop=True).rename_axis(index='pair').assign(condition='recovery').set_index('condition', append=True)\n",
    "bsl_df, rec_df = match_lengths((bsl_df, rec_df))\n",
    "df = pd.concat([bsl_df, rec_df]).sort_index()\n",
    "df.columns.name = 'region'"
   ]
  },
  {
   "cell_type": "code",
   "execution_count": 12,
   "metadata": {
    "execution": {
     "iopub.execute_input": "2021-06-12T18:07:39.682751Z",
     "iopub.status.busy": "2021-06-12T18:07:39.682631Z",
     "iopub.status.idle": "2021-06-12T18:07:39.695303Z",
     "shell.execute_reply": "2021-06-12T18:07:39.694815Z",
     "shell.execute_reply.started": "2021-06-12T18:07:39.682736Z"
    }
   },
   "outputs": [],
   "source": [
    "df_plot = df.stack().to_frame(name='power')\n",
    "df_plot['log_power'] = np.log(df_plot.power)\n",
    "df_plot['sqrt_power'] = np.sqrt(df_plot.power)"
   ]
  },
  {
   "cell_type": "code",
   "execution_count": 13,
   "metadata": {
    "execution": {
     "iopub.execute_input": "2021-06-12T18:07:39.695948Z",
     "iopub.status.busy": "2021-06-12T18:07:39.695828Z",
     "iopub.status.idle": "2021-06-12T18:07:40.613458Z",
     "shell.execute_reply": "2021-06-12T18:07:40.612907Z",
     "shell.execute_reply.started": "2021-06-12T18:07:39.695933Z"
    }
   },
   "outputs": [
    {
     "data": {
      "image/png": "[encoded data removed]",
      "text/plain": [
       "<Figure size 799.5x360 with 2 Axes>"
      ]
     },
     "metadata": {
      "needs_background": "light"
     },
     "output_type": "display_data"
    }
   ],
   "source": [
    "g = sns.displot(data=df_plot, x='power', hue='condition', col='region', kind='hist')\n",
    "g.set(xlabel='Delta (0.5 - 4Hz) PSD (uV^2/Hz)')\n",
    "g.tight_layout()"
   ]
  },
  {
   "cell_type": "code",
   "execution_count": 14,
   "metadata": {
    "execution": {
     "iopub.execute_input": "2021-06-12T18:07:40.614334Z",
     "iopub.status.busy": "2021-06-12T18:07:40.614188Z",
     "iopub.status.idle": "2021-06-12T18:07:41.456104Z",
     "shell.execute_reply": "2021-06-12T18:07:41.455458Z",
     "shell.execute_reply.started": "2021-06-12T18:07:40.614315Z"
    }
   },
   "outputs": [
    {
     "data": {
      "image/png": "[encoded data removed]",
      "text/plain": [
       "<Figure size 799.5x360 with 2 Axes>"
      ]
     },
     "metadata": {
      "needs_background": "light"
     },
     "output_type": "display_data"
    }
   ],
   "source": [
    "g = sns.displot(data=df_plot, x='log_power', hue='condition', col='region', kind='hist')\n",
    "g.set(xlabel='Delta (0.5 - 4Hz) PSD (uV^2/Hz)')\n",
    "g.tight_layout()"
   ]
  },
  {
   "cell_type": "code",
   "execution_count": 15,
   "metadata": {
    "execution": {
     "iopub.execute_input": "2021-06-12T18:07:41.456955Z",
     "iopub.status.busy": "2021-06-12T18:07:41.456820Z",
     "iopub.status.idle": "2021-06-12T18:07:42.156968Z",
     "shell.execute_reply": "2021-06-12T18:07:42.156319Z",
     "shell.execute_reply.started": "2021-06-12T18:07:41.456938Z"
    }
   },
   "outputs": [
    {
     "data": {
      "image/png": "[encoded data removed]",
      "text/plain": [
       "<Figure size 799.5x360 with 2 Axes>"
      ]
     },
     "metadata": {
      "needs_background": "light"
     },
     "output_type": "display_data"
    }
   ],
   "source": [
    "g = sns.displot(data=df_plot, x='sqrt_power', hue='condition', col='region', kind='hist')\n",
    "g.set(xlabel='Delta (0.5 - 4Hz) PSD (uV^2/Hz)')\n",
    "g.tight_layout()"
   ]
  },
  {
   "cell_type": "code",
   "execution_count": 16,
   "metadata": {
    "execution": {
     "iopub.execute_input": "2021-06-12T18:07:42.157850Z",
     "iopub.status.busy": "2021-06-12T18:07:42.157714Z",
     "iopub.status.idle": "2021-06-12T18:07:42.170874Z",
     "shell.execute_reply": "2021-06-12T18:07:42.170049Z",
     "shell.execute_reply.started": "2021-06-12T18:07:42.157833Z"
    }
   },
   "outputs": [],
   "source": [
    "def get_rebound(df):\n",
    "    means = df.groupby('condition').mean()\n",
    "    return means.xs('recovery') - means.xs('baseline')"
   ]
  },
  {
   "cell_type": "code",
   "execution_count": 17,
   "metadata": {
    "execution": {
     "iopub.execute_input": "2021-06-12T18:07:42.171650Z",
     "iopub.status.busy": "2021-06-12T18:07:42.171526Z",
     "iopub.status.idle": "2021-06-12T18:07:42.184003Z",
     "shell.execute_reply": "2021-06-12T18:07:42.183222Z",
     "shell.execute_reply.started": "2021-06-12T18:07:42.171633Z"
    }
   },
   "outputs": [],
   "source": [
    "def shuffle(df, key): \n",
    "    _df = df.reset_index()\n",
    "    labels = _df[key].values.reshape(-1, 2)\n",
    "    rng = np.random.default_rng()\n",
    "    rng.permuted(labels, axis=1, out=labels)\n",
    "    _df.set_index(df.index.names, inplace=True)\n",
    "    return _df"
   ]
  },
  {
   "cell_type": "code",
   "execution_count": 18,
   "metadata": {
    "execution": {
     "iopub.execute_input": "2021-06-12T18:07:42.184774Z",
     "iopub.status.busy": "2021-06-12T18:07:42.184651Z",
     "iopub.status.idle": "2021-06-12T18:08:10.589264Z",
     "shell.execute_reply": "2021-06-12T18:08:10.587810Z",
     "shell.execute_reply.started": "2021-06-12T18:07:42.184759Z"
    }
   },
   "outputs": [],
   "source": [
    "observed = get_rebound(df)\n",
    "\n",
    "n_permutations = 10000\n",
    "permutations = list()\n",
    "for i in range(n_permutations):\n",
    "    permuted = shuffle(df, 'condition')\n",
    "    permutations.append(get_rebound(permuted))"
   ]
  },
  {
   "cell_type": "code",
   "execution_count": 19,
   "metadata": {
    "execution": {
     "iopub.execute_input": "2021-06-12T18:08:10.590772Z",
     "iopub.status.busy": "2021-06-12T18:08:10.590594Z",
     "iopub.status.idle": "2021-06-12T18:08:11.252060Z",
     "shell.execute_reply": "2021-06-12T18:08:11.251067Z",
     "shell.execute_reply.started": "2021-06-12T18:08:10.590750Z"
    }
   },
   "outputs": [],
   "source": [
    "perms = pd.concat(permutations, axis=1)\n",
    "perms.columns.name = 'permtuation'\n",
    "perms = perms.stack().to_frame(name='rebound').reorder_levels([1, 0]).sort_index()"
   ]
  },
  {
   "cell_type": "code",
   "execution_count": 20,
   "metadata": {
    "execution": {
     "iopub.execute_input": "2021-06-12T18:08:11.253396Z",
     "iopub.status.busy": "2021-06-12T18:08:11.253229Z",
     "iopub.status.idle": "2021-06-12T18:08:11.795868Z",
     "shell.execute_reply": "2021-06-12T18:08:11.795093Z",
     "shell.execute_reply.started": "2021-06-12T18:08:11.253377Z"
    }
   },
   "outputs": [
    {
     "data": {
      "image/png": "[encoded data removed]",
      "text/plain": [
       "<Figure size 720x360 with 2 Axes>"
      ]
     },
     "metadata": {
      "needs_background": "light"
     },
     "output_type": "display_data"
    }
   ],
   "source": [
    "g = sns.displot(data=perms, x='rebound', col='region', kind='hist')\n",
    "g.set(xlabel='Rebound (SD - BL)')\n",
    "g.tight_layout()"
   ]
  },
  {
   "cell_type": "code",
   "execution_count": 21,
   "metadata": {
    "execution": {
     "iopub.execute_input": "2021-06-12T18:08:11.796877Z",
     "iopub.status.busy": "2021-06-12T18:08:11.796721Z",
     "iopub.status.idle": "2021-06-12T18:08:11.812705Z",
     "shell.execute_reply": "2021-06-12T18:08:11.812033Z",
     "shell.execute_reply.started": "2021-06-12T18:08:11.796857Z"
    }
   },
   "outputs": [],
   "source": [
    "cx = perms.xs('mpta_wm_ref', level='region')\n",
    "hc = perms.xs('sr_wm_ref', level='region')"
   ]
  },
  {
   "cell_type": "code",
   "execution_count": 22,
   "metadata": {
    "execution": {
     "iopub.execute_input": "2021-06-12T18:08:11.813532Z",
     "iopub.status.busy": "2021-06-12T18:08:11.813403Z",
     "iopub.status.idle": "2021-06-12T18:08:11.826481Z",
     "shell.execute_reply": "2021-06-12T18:08:11.825539Z",
     "shell.execute_reply.started": "2021-06-12T18:08:11.813515Z"
    }
   },
   "outputs": [],
   "source": [
    "pcx = np.sum(cx >= observed.xs('mpta_wm_ref'))"
   ]
  },
  {
   "cell_type": "code",
   "execution_count": 23,
   "metadata": {
    "execution": {
     "iopub.execute_input": "2021-06-12T18:08:11.827328Z",
     "iopub.status.busy": "2021-06-12T18:08:11.827206Z",
     "iopub.status.idle": "2021-06-12T18:08:11.837679Z",
     "shell.execute_reply": "2021-06-12T18:08:11.836647Z",
     "shell.execute_reply.started": "2021-06-12T18:08:11.827314Z"
    }
   },
   "outputs": [],
   "source": [
    "phc = np.sum(hc >= observed.xs('sr_wm_ref'))"
   ]
  },
  {
   "cell_type": "code",
   "execution_count": 24,
   "metadata": {
    "execution": {
     "iopub.execute_input": "2021-06-12T18:08:11.838489Z",
     "iopub.status.busy": "2021-06-12T18:08:11.838369Z",
     "iopub.status.idle": "2021-06-12T18:08:11.855129Z",
     "shell.execute_reply": "2021-06-12T18:08:11.854195Z",
     "shell.execute_reply.started": "2021-06-12T18:08:11.838475Z"
    }
   },
   "outputs": [
    {
     "name": "stdout",
     "output_type": "stream",
     "text": [
      "Subject: Doppio\n",
      "Observed rebound (BL - SD):\n",
      "\n",
      "| region      |       0 |\n",
      "|:------------|--------:|\n",
      "| mpta_wm_ref | 99.5362 |\n",
      "| sr_wm_ref   | 38.0667 |\n",
      "\n",
      "\n",
      "Shuffled >= observed:\n",
      "Cortex: 1 / 10000\n",
      "Hippocampus: 1 / 10000\n"
     ]
    }
   ],
   "source": [
    "print(f\"Subject: {subject}\")\n",
    "print('Observed rebound (BL - SD):\\n')\n",
    "print(observed.to_markdown())\n",
    "print('\\n')\n",
    "print('Shuffled >= observed:')\n",
    "print(f\"Cortex: {1 + pcx.squeeze()} / {n_permutations}\")\n",
    "print(f\"Hippocampus: {1 + phc.squeeze()} / {n_permutations}\")"
   ]
  },
  {
   "cell_type": "code",
   "execution_count": null,
   "metadata": {},
   "outputs": [],
   "source": []
  }
 ],
 "metadata": {
  "kernelspec": {
   "display_name": "Python 3",
   "language": "python",
   "name": "python3"
  },
  "language_info": {
   "codemirror_mode": {
    "name": "ipython",
    "version": 3
   },
   "file_extension": ".py",
   "mimetype": "text/x-python",
   "name": "python",
   "nbconvert_exporter": "python",
   "pygments_lexer": "ipython3",
   "version": "3.7.9"
  }
 },
 "nbformat": 4,
 "nbformat_minor": 4
}
