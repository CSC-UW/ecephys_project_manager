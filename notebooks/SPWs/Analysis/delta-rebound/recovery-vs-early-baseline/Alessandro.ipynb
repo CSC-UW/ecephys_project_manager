{
 "cells": [
  {
   "cell_type": "code",
   "execution_count": 1,
   "metadata": {
    "execution": {
     "iopub.execute_input": "2021-06-12T18:07:34.730480Z",
     "iopub.status.busy": "2021-06-12T18:07:34.730001Z",
     "iopub.status.idle": "2021-06-12T18:07:34.746978Z",
     "shell.execute_reply": "2021-06-12T18:07:34.746380Z",
     "shell.execute_reply.started": "2021-06-12T18:07:34.730422Z"
    }
   },
   "outputs": [],
   "source": [
    "%load_ext autoreload\n",
    "%autoreload 2"
   ]
  },
  {
   "cell_type": "code",
   "execution_count": 2,
   "metadata": {
    "execution": {
     "iopub.execute_input": "2021-06-12T18:07:34.747882Z",
     "iopub.status.busy": "2021-06-12T18:07:34.747752Z",
     "iopub.status.idle": "2021-06-12T18:07:35.201894Z",
     "shell.execute_reply": "2021-06-12T18:07:35.201350Z",
     "shell.execute_reply.started": "2021-06-12T18:07:34.747866Z"
    }
   },
   "outputs": [],
   "source": [
    "# %matplotlib widget\n",
    "import matplotlib.pyplot as plt\n",
    "import seaborn as sns"
   ]
  },
  {
   "cell_type": "code",
   "execution_count": 3,
   "metadata": {
    "execution": {
     "iopub.execute_input": "2021-06-12T18:07:35.203016Z",
     "iopub.status.busy": "2021-06-12T18:07:35.202869Z",
     "iopub.status.idle": "2021-06-12T18:07:35.431486Z",
     "shell.execute_reply": "2021-06-12T18:07:35.430705Z",
     "shell.execute_reply.started": "2021-06-12T18:07:35.202998Z"
    }
   },
   "outputs": [],
   "source": [
    "import xarray as xr\n",
    "import numpy as np\n",
    "import pandas as pd"
   ]
  },
  {
   "cell_type": "code",
   "execution_count": 4,
   "metadata": {
    "execution": {
     "iopub.execute_input": "2021-06-12T18:07:35.432539Z",
     "iopub.status.busy": "2021-06-12T18:07:35.432395Z",
     "iopub.status.idle": "2021-06-12T18:07:35.445293Z",
     "shell.execute_reply": "2021-06-12T18:07:35.444674Z",
     "shell.execute_reply.started": "2021-06-12T18:07:35.432521Z"
    }
   },
   "outputs": [
    {
     "data": {
      "text/plain": [
       "<xarray.core.options.set_options at 0x7f4101588c50>"
      ]
     },
     "execution_count": 4,
     "metadata": {},
     "output_type": "execute_result"
    }
   ],
   "source": [
    "xr.set_options(keep_attrs=True)"
   ]
  },
  {
   "cell_type": "code",
   "execution_count": 5,
   "metadata": {
    "execution": {
     "iopub.execute_input": "2021-06-12T18:07:35.446060Z",
     "iopub.status.busy": "2021-06-12T18:07:35.445931Z",
     "iopub.status.idle": "2021-06-12T18:07:35.459677Z",
     "shell.execute_reply": "2021-06-12T18:07:35.459289Z",
     "shell.execute_reply.started": "2021-06-12T18:07:35.446044Z"
    }
   },
   "outputs": [],
   "source": [
    "import ecephys_analyses as ea \n",
    "from ecephys import utils\n",
    "from ecephys.signal.xarray_utils import filter_dataset_by_hypnogram"
   ]
  },
  {
   "cell_type": "code",
   "execution_count": 6,
   "metadata": {
    "execution": {
     "iopub.execute_input": "2021-06-12T18:07:35.460412Z",
     "iopub.status.busy": "2021-06-12T18:07:35.460220Z",
     "iopub.status.idle": "2021-06-12T18:07:35.471440Z",
     "shell.execute_reply": "2021-06-12T18:07:35.470823Z",
     "shell.execute_reply.started": "2021-06-12T18:07:35.460395Z"
    }
   },
   "outputs": [],
   "source": [
    "subject = \"Alessandro\"\n",
    "experiment = \"novel_objects_deprivation\"\n",
    "norm_condition = \"light-period-circadian-match\"\n",
    "bsl_condition = \"extended-wake-circadian-match\"\n",
    "rec_condition = \"recovery-sleep\"\n",
    "states = [\"N1\", \"N2\"]\n",
    "duration = '02:00:00'\n",
    "light_period_start = '09:00:00'\n",
    "light_period_end = '21:00:00'\n",
    "f_range = (0.5, 4)"
   ]
  },
  {
   "cell_type": "code",
   "execution_count": 7,
   "metadata": {
    "execution": {
     "iopub.execute_input": "2021-06-12T18:07:35.472119Z",
     "iopub.status.busy": "2021-06-12T18:07:35.471993Z",
     "iopub.status.idle": "2021-06-12T18:07:45.677960Z",
     "shell.execute_reply": "2021-06-12T18:07:45.677185Z",
     "shell.execute_reply.started": "2021-06-12T18:07:35.472103Z"
    }
   },
   "outputs": [],
   "source": [
    "norm_hyp = ea.load_hypnogram(subject, experiment, norm_condition)\n",
    "norm_hyp = norm_hyp.keep_states(states).keep_between(light_period_start, light_period_end)\n",
    "\n",
    "norm_pow = ea.load_power(subject, experiment, norm_condition, \"spg.nc\").sel(frequency=slice(*f_range)).sum(dim=\"frequency\")\n",
    "norm_pow = filter_dataset_by_hypnogram(norm_pow, norm_hyp).swap_dims({'time': 'datetime'}).drop_vars(['time', 'timedelta'])"
   ]
  },
  {
   "cell_type": "code",
   "execution_count": 8,
   "metadata": {
    "execution": {
     "iopub.execute_input": "2021-06-12T18:07:45.679008Z",
     "iopub.status.busy": "2021-06-12T18:07:45.678845Z",
     "iopub.status.idle": "2021-06-12T18:07:50.634994Z",
     "shell.execute_reply": "2021-06-12T18:07:50.634069Z",
     "shell.execute_reply.started": "2021-06-12T18:07:45.678990Z"
    }
   },
   "outputs": [],
   "source": [
    "rec_hyp = ea.load_hypnogram(subject, experiment, rec_condition)\n",
    "rec_hyp = rec_hyp.keep_states(states).keep_first(duration)\n",
    "\n",
    "rec_pow = ea.load_power(subject, experiment, rec_condition, \"spg.nc\").sel(frequency=slice(*f_range)).sum(dim='frequency')\n",
    "rec_pow = filter_dataset_by_hypnogram(rec_pow, rec_hyp).swap_dims({'time': 'datetime'}).drop_vars(['time', 'timedelta'])\n",
    "rec_pow = rec_pow / norm_pow.mean(dim=\"datetime\") * 100"
   ]
  },
  {
   "cell_type": "code",
   "execution_count": 9,
   "metadata": {
    "execution": {
     "iopub.execute_input": "2021-06-12T18:07:50.636962Z",
     "iopub.status.busy": "2021-06-12T18:07:50.636775Z",
     "iopub.status.idle": "2021-06-12T18:07:54.091596Z",
     "shell.execute_reply": "2021-06-12T18:07:54.090338Z",
     "shell.execute_reply.started": "2021-06-12T18:07:50.636941Z"
    }
   },
   "outputs": [],
   "source": [
    "bsl_hyp = ea.load_hypnogram(subject, experiment, bsl_condition)\n",
    "bsl_hyp = bsl_hyp.keep_states(states).keep_between(light_period_start, light_period_end).keep_first(duration)\n",
    "\n",
    "bsl_pow = ea.load_power(subject, experiment, bsl_condition, \"spg.nc\").sel(frequency=slice(*f_range)).sum(dim='frequency')\n",
    "bsl_pow = filter_dataset_by_hypnogram(bsl_pow, bsl_hyp).swap_dims({'time': 'datetime'}).drop_vars(['time', 'timedelta'])\n",
    "bsl_pow = bsl_pow / norm_pow.mean(dim=\"datetime\") * 100"
   ]
  },
  {
   "cell_type": "code",
   "execution_count": 10,
   "metadata": {
    "execution": {
     "iopub.execute_input": "2021-06-12T18:07:54.093243Z",
     "iopub.status.busy": "2021-06-12T18:07:54.093056Z",
     "iopub.status.idle": "2021-06-12T18:07:54.111486Z",
     "shell.execute_reply": "2021-06-12T18:07:54.110004Z",
     "shell.execute_reply.started": "2021-06-12T18:07:54.093222Z"
    }
   },
   "outputs": [],
   "source": [
    "def match_lengths(dataframes):\n",
    "    length = min(list(map(len, dataframes)))\n",
    "    return (df.iloc[:length] for df in dataframes)"
   ]
  },
  {
   "cell_type": "code",
   "execution_count": 11,
   "metadata": {
    "execution": {
     "iopub.execute_input": "2021-06-12T18:07:54.113901Z",
     "iopub.status.busy": "2021-06-12T18:07:54.113457Z",
     "iopub.status.idle": "2021-06-12T18:07:54.141959Z",
     "shell.execute_reply": "2021-06-12T18:07:54.141198Z",
     "shell.execute_reply.started": "2021-06-12T18:07:54.113843Z"
    }
   },
   "outputs": [],
   "source": [
    "bsl_df = bsl_pow.to_dataframe().reset_index(drop=True).rename_axis(index='pair').assign(condition='baseline').set_index('condition', append=True)\n",
    "rec_df = rec_pow.to_dataframe().reset_index(drop=True).rename_axis(index='pair').assign(condition='recovery').set_index('condition', append=True)\n",
    "bsl_df, rec_df = match_lengths((bsl_df, rec_df))\n",
    "df = pd.concat([bsl_df, rec_df]).sort_index()\n",
    "df.columns.name = 'region'"
   ]
  },
  {
   "cell_type": "code",
   "execution_count": 12,
   "metadata": {
    "execution": {
     "iopub.execute_input": "2021-06-12T18:07:54.142714Z",
     "iopub.status.busy": "2021-06-12T18:07:54.142595Z",
     "iopub.status.idle": "2021-06-12T18:07:54.155985Z",
     "shell.execute_reply": "2021-06-12T18:07:54.155261Z",
     "shell.execute_reply.started": "2021-06-12T18:07:54.142699Z"
    }
   },
   "outputs": [],
   "source": [
    "df_plot = df.stack().to_frame(name='power')\n",
    "df_plot['log_power'] = np.log(df_plot.power)\n",
    "df_plot['sqrt_power'] = np.sqrt(df_plot.power)"
   ]
  },
  {
   "cell_type": "code",
   "execution_count": 13,
   "metadata": {
    "execution": {
     "iopub.execute_input": "2021-06-12T18:07:54.156687Z",
     "iopub.status.busy": "2021-06-12T18:07:54.156570Z",
     "iopub.status.idle": "2021-06-12T18:07:54.946415Z",
     "shell.execute_reply": "2021-06-12T18:07:54.945681Z",
     "shell.execute_reply.started": "2021-06-12T18:07:54.156672Z"
    }
   },
   "outputs": [
    {
     "data": {
      "image/png": "[encoded data removed]",
      "text/plain": [
       "<Figure size 799.5x360 with 2 Axes>"
      ]
     },
     "metadata": {
      "needs_background": "light"
     },
     "output_type": "display_data"
    }
   ],
   "source": [
    "g = sns.displot(data=df_plot, x='power', hue='condition', col='region', kind='hist')\n",
    "g.set(xlabel='Delta (0.5 - 4Hz) PSD (uV^2/Hz)')\n",
    "g.tight_layout()"
   ]
  },
  {
   "cell_type": "code",
   "execution_count": 14,
   "metadata": {
    "execution": {
     "iopub.execute_input": "2021-06-12T18:07:54.947533Z",
     "iopub.status.busy": "2021-06-12T18:07:54.947373Z",
     "iopub.status.idle": "2021-06-12T18:07:55.776009Z",
     "shell.execute_reply": "2021-06-12T18:07:55.775364Z",
     "shell.execute_reply.started": "2021-06-12T18:07:54.947511Z"
    }
   },
   "outputs": [
    {
     "data": {
      "image/png": "[encoded data removed]",
      "text/plain": [
       "<Figure size 799.5x360 with 2 Axes>"
      ]
     },
     "metadata": {
      "needs_background": "light"
     },
     "output_type": "display_data"
    }
   ],
   "source": [
    "g = sns.displot(data=df_plot, x='log_power', hue='condition', col='region', kind='hist')\n",
    "g.set(xlabel='Delta (0.5 - 4Hz) PSD (uV^2/Hz)')\n",
    "g.tight_layout()"
   ]
  },
  {
   "cell_type": "code",
   "execution_count": 15,
   "metadata": {
    "execution": {
     "iopub.execute_input": "2021-06-12T18:07:55.776855Z",
     "iopub.status.busy": "2021-06-12T18:07:55.776713Z",
     "iopub.status.idle": "2021-06-12T18:07:56.490844Z",
     "shell.execute_reply": "2021-06-12T18:07:56.490175Z",
     "shell.execute_reply.started": "2021-06-12T18:07:55.776838Z"
    }
   },
   "outputs": [
    {
     "data": {
      "image/png": "[encoded data removed]",
      "text/plain": [
       "<Figure size 799.5x360 with 2 Axes>"
      ]
     },
     "metadata": {
      "needs_background": "light"
     },
     "output_type": "display_data"
    }
   ],
   "source": [
    "g = sns.displot(data=df_plot, x='sqrt_power', hue='condition', col='region', kind='hist')\n",
    "g.set(xlabel='Delta (0.5 - 4Hz) PSD (uV^2/Hz)')\n",
    "g.tight_layout()"
   ]
  },
  {
   "cell_type": "code",
   "execution_count": 16,
   "metadata": {
    "execution": {
     "iopub.execute_input": "2021-06-12T18:07:56.491752Z",
     "iopub.status.busy": "2021-06-12T18:07:56.491603Z",
     "iopub.status.idle": "2021-06-12T18:07:56.505448Z",
     "shell.execute_reply": "2021-06-12T18:07:56.504817Z",
     "shell.execute_reply.started": "2021-06-12T18:07:56.491735Z"
    }
   },
   "outputs": [],
   "source": [
    "def get_rebound(df):\n",
    "    means = df.groupby('condition').mean()\n",
    "    return means.xs('recovery') - means.xs('baseline')"
   ]
  },
  {
   "cell_type": "code",
   "execution_count": 17,
   "metadata": {
    "execution": {
     "iopub.execute_input": "2021-06-12T18:07:56.506182Z",
     "iopub.status.busy": "2021-06-12T18:07:56.506055Z",
     "iopub.status.idle": "2021-06-12T18:07:56.518251Z",
     "shell.execute_reply": "2021-06-12T18:07:56.517553Z",
     "shell.execute_reply.started": "2021-06-12T18:07:56.506166Z"
    }
   },
   "outputs": [],
   "source": [
    "def shuffle(df, key): \n",
    "    _df = df.reset_index()\n",
    "    labels = _df[key].values.reshape(-1, 2)\n",
    "    rng = np.random.default_rng()\n",
    "    rng.permuted(labels, axis=1, out=labels)\n",
    "    _df.set_index(df.index.names, inplace=True)\n",
    "    return _df"
   ]
  },
  {
   "cell_type": "code",
   "execution_count": 18,
   "metadata": {
    "execution": {
     "iopub.execute_input": "2021-06-12T18:07:56.519038Z",
     "iopub.status.busy": "2021-06-12T18:07:56.518913Z",
     "iopub.status.idle": "2021-06-12T18:08:25.533529Z",
     "shell.execute_reply": "2021-06-12T18:08:25.532659Z",
     "shell.execute_reply.started": "2021-06-12T18:07:56.519023Z"
    }
   },
   "outputs": [],
   "source": [
    "observed = get_rebound(df)\n",
    "\n",
    "n_permutations = 10000\n",
    "permutations = list()\n",
    "for i in range(n_permutations):\n",
    "    permuted = shuffle(df, 'condition')\n",
    "    permutations.append(get_rebound(permuted))"
   ]
  },
  {
   "cell_type": "code",
   "execution_count": 19,
   "metadata": {
    "execution": {
     "iopub.execute_input": "2021-06-12T18:08:25.534648Z",
     "iopub.status.busy": "2021-06-12T18:08:25.534496Z",
     "iopub.status.idle": "2021-06-12T18:08:26.164583Z",
     "shell.execute_reply": "2021-06-12T18:08:26.163907Z",
     "shell.execute_reply.started": "2021-06-12T18:08:25.534629Z"
    }
   },
   "outputs": [],
   "source": [
    "perms = pd.concat(permutations, axis=1)\n",
    "perms.columns.name = 'permtuation'\n",
    "perms = perms.stack().to_frame(name='rebound').reorder_levels([1, 0]).sort_index()"
   ]
  },
  {
   "cell_type": "code",
   "execution_count": 20,
   "metadata": {
    "execution": {
     "iopub.execute_input": "2021-06-12T18:08:26.165490Z",
     "iopub.status.busy": "2021-06-12T18:08:26.165352Z",
     "iopub.status.idle": "2021-06-12T18:08:26.665557Z",
     "shell.execute_reply": "2021-06-12T18:08:26.664946Z",
     "shell.execute_reply.started": "2021-06-12T18:08:26.165472Z"
    }
   },
   "outputs": [
    {
     "data": {
      "image/png": "[encoded data removed]",
      "text/plain": [
       "<Figure size 720x360 with 2 Axes>"
      ]
     },
     "metadata": {
      "needs_background": "light"
     },
     "output_type": "display_data"
    }
   ],
   "source": [
    "g = sns.displot(data=perms, x='rebound', col='region', kind='hist')\n",
    "g.set(xlabel='Rebound (SD - BL)')\n",
    "g.tight_layout()"
   ]
  },
  {
   "cell_type": "code",
   "execution_count": 21,
   "metadata": {
    "execution": {
     "iopub.execute_input": "2021-06-12T18:08:26.666398Z",
     "iopub.status.busy": "2021-06-12T18:08:26.666264Z",
     "iopub.status.idle": "2021-06-12T18:08:26.680550Z",
     "shell.execute_reply": "2021-06-12T18:08:26.680027Z",
     "shell.execute_reply.started": "2021-06-12T18:08:26.666381Z"
    }
   },
   "outputs": [],
   "source": [
    "cx = perms.xs('mpta_wm_ref', level='region')\n",
    "hc = perms.xs('sr_wm_ref', level='region')"
   ]
  },
  {
   "cell_type": "code",
   "execution_count": 22,
   "metadata": {
    "execution": {
     "iopub.execute_input": "2021-06-12T18:08:26.681306Z",
     "iopub.status.busy": "2021-06-12T18:08:26.681177Z",
     "iopub.status.idle": "2021-06-12T18:08:26.693580Z",
     "shell.execute_reply": "2021-06-12T18:08:26.692970Z",
     "shell.execute_reply.started": "2021-06-12T18:08:26.681289Z"
    }
   },
   "outputs": [],
   "source": [
    "pcx = np.sum(cx >= observed.xs('mpta_wm_ref'))"
   ]
  },
  {
   "cell_type": "code",
   "execution_count": 23,
   "metadata": {
    "execution": {
     "iopub.execute_input": "2021-06-12T18:08:26.694275Z",
     "iopub.status.busy": "2021-06-12T18:08:26.694150Z",
     "iopub.status.idle": "2021-06-12T18:08:26.705170Z",
     "shell.execute_reply": "2021-06-12T18:08:26.704519Z",
     "shell.execute_reply.started": "2021-06-12T18:08:26.694259Z"
    }
   },
   "outputs": [],
   "source": [
    "phc = np.sum(hc >= observed.xs('sr_wm_ref'))"
   ]
  },
  {
   "cell_type": "code",
   "execution_count": 24,
   "metadata": {
    "execution": {
     "iopub.execute_input": "2021-06-12T18:08:26.705882Z",
     "iopub.status.busy": "2021-06-12T18:08:26.705758Z",
     "iopub.status.idle": "2021-06-12T18:08:26.721807Z",
     "shell.execute_reply": "2021-06-12T18:08:26.721435Z",
     "shell.execute_reply.started": "2021-06-12T18:08:26.705866Z"
    }
   },
   "outputs": [
    {
     "name": "stdout",
     "output_type": "stream",
     "text": [
      "Subject: Alessandro\n",
      "Observed rebound (BL - SD):\n",
      "\n",
      "| region      |       0 |\n",
      "|:------------|--------:|\n",
      "| mpta_wm_ref | 29.2643 |\n",
      "| sr_wm_ref   | 15.6392 |\n",
      "\n",
      "\n",
      "Shuffled >= observed:\n",
      "Cortex: 1 / 10000\n",
      "Hippocampus: 1 / 10000\n"
     ]
    }
   ],
   "source": [
    "print(f\"Subject: {subject}\")\n",
    "print('Observed rebound (BL - SD):\\n')\n",
    "print(observed.to_markdown())\n",
    "print('\\n')\n",
    "print('Shuffled >= observed:')\n",
    "print(f\"Cortex: {1 + pcx.squeeze()} / {n_permutations}\")\n",
    "print(f\"Hippocampus: {1 + phc.squeeze()} / {n_permutations}\")"
   ]
  },
  {
   "cell_type": "code",
   "execution_count": null,
   "metadata": {},
   "outputs": [],
   "source": []
  }
 ],
 "metadata": {
  "kernelspec": {
   "display_name": "Python 3",
   "language": "python",
   "name": "python3"
  },
  "language_info": {
   "codemirror_mode": {
    "name": "ipython",
    "version": 3
   },
   "file_extension": ".py",
   "mimetype": "text/x-python",
   "name": "python",
   "nbconvert_exporter": "python",
   "pygments_lexer": "ipython3",
   "version": "3.7.9"
  }
 },
 "nbformat": 4,
 "nbformat_minor": 4
}
