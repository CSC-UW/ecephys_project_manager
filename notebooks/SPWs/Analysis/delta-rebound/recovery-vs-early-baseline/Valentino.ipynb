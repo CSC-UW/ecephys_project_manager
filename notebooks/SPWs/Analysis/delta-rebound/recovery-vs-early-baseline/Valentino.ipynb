{
 "cells": [
  {
   "cell_type": "code",
   "execution_count": 1,
   "metadata": {
    "execution": {
     "iopub.execute_input": "2021-06-12T18:07:18.223338Z",
     "iopub.status.busy": "2021-06-12T18:07:18.222855Z",
     "iopub.status.idle": "2021-06-12T18:07:18.242535Z",
     "shell.execute_reply": "2021-06-12T18:07:18.241920Z",
     "shell.execute_reply.started": "2021-06-12T18:07:18.223280Z"
    }
   },
   "outputs": [],
   "source": [
    "%load_ext autoreload\n",
    "%autoreload 2"
   ]
  },
  {
   "cell_type": "code",
   "execution_count": 2,
   "metadata": {
    "execution": {
     "iopub.execute_input": "2021-06-12T18:07:18.243466Z",
     "iopub.status.busy": "2021-06-12T18:07:18.243339Z",
     "iopub.status.idle": "2021-06-12T18:07:18.572200Z",
     "shell.execute_reply": "2021-06-12T18:07:18.571513Z",
     "shell.execute_reply.started": "2021-06-12T18:07:18.243450Z"
    }
   },
   "outputs": [],
   "source": [
    "# %matplotlib widget\n",
    "import matplotlib.pyplot as plt\n",
    "import seaborn as sns"
   ]
  },
  {
   "cell_type": "code",
   "execution_count": 3,
   "metadata": {
    "execution": {
     "iopub.execute_input": "2021-06-12T18:07:18.573365Z",
     "iopub.status.busy": "2021-06-12T18:07:18.573224Z",
     "iopub.status.idle": "2021-06-12T18:07:18.799918Z",
     "shell.execute_reply": "2021-06-12T18:07:18.799194Z",
     "shell.execute_reply.started": "2021-06-12T18:07:18.573348Z"
    }
   },
   "outputs": [],
   "source": [
    "import xarray as xr\n",
    "import numpy as np\n",
    "import pandas as pd"
   ]
  },
  {
   "cell_type": "code",
   "execution_count": 4,
   "metadata": {
    "execution": {
     "iopub.execute_input": "2021-06-12T18:07:18.800914Z",
     "iopub.status.busy": "2021-06-12T18:07:18.800775Z",
     "iopub.status.idle": "2021-06-12T18:07:18.813310Z",
     "shell.execute_reply": "2021-06-12T18:07:18.812571Z",
     "shell.execute_reply.started": "2021-06-12T18:07:18.800897Z"
    }
   },
   "outputs": [
    {
     "data": {
      "text/plain": [
       "<xarray.core.options.set_options at 0x7f535f0c5590>"
      ]
     },
     "execution_count": 4,
     "metadata": {},
     "output_type": "execute_result"
    }
   ],
   "source": [
    "xr.set_options(keep_attrs=True)"
   ]
  },
  {
   "cell_type": "code",
   "execution_count": 5,
   "metadata": {
    "execution": {
     "iopub.execute_input": "2021-06-12T18:07:18.813980Z",
     "iopub.status.busy": "2021-06-12T18:07:18.813857Z",
     "iopub.status.idle": "2021-06-12T18:07:18.826831Z",
     "shell.execute_reply": "2021-06-12T18:07:18.826223Z",
     "shell.execute_reply.started": "2021-06-12T18:07:18.813965Z"
    }
   },
   "outputs": [],
   "source": [
    "import ecephys_analyses as ea \n",
    "from ecephys import utils\n",
    "from ecephys.signal.xarray_utils import filter_dataset_by_hypnogram"
   ]
  },
  {
   "cell_type": "code",
   "execution_count": 6,
   "metadata": {
    "execution": {
     "iopub.execute_input": "2021-06-12T18:07:18.827566Z",
     "iopub.status.busy": "2021-06-12T18:07:18.827444Z",
     "iopub.status.idle": "2021-06-12T18:07:18.838823Z",
     "shell.execute_reply": "2021-06-12T18:07:18.838022Z",
     "shell.execute_reply.started": "2021-06-12T18:07:18.827550Z"
    }
   },
   "outputs": [],
   "source": [
    "subject = \"Valentino\"\n",
    "experiment = \"sleep-homeostasis\"\n",
    "norm_condition = \"light-period-circadian-match\"\n",
    "bsl_condition = \"extended-wake-circadian-match\"\n",
    "rec_condition = \"recovery-sleep\"\n",
    "states = [\"N1\", \"N2\"]\n",
    "duration = '02:00:00'\n",
    "light_period_start = '09:00:00'\n",
    "light_period_end = '21:00:00'\n",
    "f_range = (0.5, 4)"
   ]
  },
  {
   "cell_type": "code",
   "execution_count": 7,
   "metadata": {
    "execution": {
     "iopub.execute_input": "2021-06-12T18:07:18.839547Z",
     "iopub.status.busy": "2021-06-12T18:07:18.839428Z",
     "iopub.status.idle": "2021-06-12T18:07:27.021466Z",
     "shell.execute_reply": "2021-06-12T18:07:27.020611Z",
     "shell.execute_reply.started": "2021-06-12T18:07:18.839533Z"
    }
   },
   "outputs": [],
   "source": [
    "norm_hyp = ea.load_hypnogram(subject, experiment, norm_condition)\n",
    "norm_hyp = norm_hyp.keep_states(states).keep_between(light_period_start, light_period_end)\n",
    "\n",
    "norm_pow = ea.load_power(subject, experiment, norm_condition, \"spg.nc\").sel(frequency=slice(*f_range)).sum(dim=\"frequency\")\n",
    "norm_pow = filter_dataset_by_hypnogram(norm_pow, norm_hyp).swap_dims({'time': 'datetime'}).drop_vars(['time', 'timedelta'])"
   ]
  },
  {
   "cell_type": "code",
   "execution_count": 8,
   "metadata": {
    "execution": {
     "iopub.execute_input": "2021-06-12T18:07:27.022566Z",
     "iopub.status.busy": "2021-06-12T18:07:27.022408Z",
     "iopub.status.idle": "2021-06-12T18:07:31.861587Z",
     "shell.execute_reply": "2021-06-12T18:07:31.860735Z",
     "shell.execute_reply.started": "2021-06-12T18:07:27.022548Z"
    }
   },
   "outputs": [],
   "source": [
    "rec_hyp = ea.load_hypnogram(subject, experiment, rec_condition)\n",
    "rec_hyp = rec_hyp.keep_states(states).keep_first(duration)\n",
    "\n",
    "rec_pow = ea.load_power(subject, experiment, rec_condition, \"spg.nc\").sel(frequency=slice(*f_range)).sum(dim='frequency')\n",
    "rec_pow = filter_dataset_by_hypnogram(rec_pow, rec_hyp).swap_dims({'time': 'datetime'}).drop_vars(['time', 'timedelta'])\n",
    "rec_pow = rec_pow / norm_pow.mean(dim=\"datetime\") * 100"
   ]
  },
  {
   "cell_type": "code",
   "execution_count": 9,
   "metadata": {
    "execution": {
     "iopub.execute_input": "2021-06-12T18:07:31.863432Z",
     "iopub.status.busy": "2021-06-12T18:07:31.863263Z",
     "iopub.status.idle": "2021-06-12T18:07:34.427333Z",
     "shell.execute_reply": "2021-06-12T18:07:34.426657Z",
     "shell.execute_reply.started": "2021-06-12T18:07:31.863414Z"
    }
   },
   "outputs": [],
   "source": [
    "bsl_hyp = ea.load_hypnogram(subject, experiment, bsl_condition)\n",
    "bsl_hyp = bsl_hyp.keep_states(states).keep_between(light_period_start, light_period_end).keep_first(duration)\n",
    "\n",
    "bsl_pow = ea.load_power(subject, experiment, bsl_condition, \"spg.nc\").sel(frequency=slice(*f_range)).sum(dim='frequency')\n",
    "bsl_pow = filter_dataset_by_hypnogram(bsl_pow, bsl_hyp).swap_dims({'time': 'datetime'}).drop_vars(['time', 'timedelta'])\n",
    "bsl_pow = bsl_pow / norm_pow.mean(dim=\"datetime\") * 100"
   ]
  },
  {
   "cell_type": "code",
   "execution_count": 10,
   "metadata": {
    "execution": {
     "iopub.execute_input": "2021-06-12T18:07:34.428750Z",
     "iopub.status.busy": "2021-06-12T18:07:34.428592Z",
     "iopub.status.idle": "2021-06-12T18:07:34.443477Z",
     "shell.execute_reply": "2021-06-12T18:07:34.442679Z",
     "shell.execute_reply.started": "2021-06-12T18:07:34.428729Z"
    }
   },
   "outputs": [],
   "source": [
    "def match_lengths(dataframes):\n",
    "    length = min(list(map(len, dataframes)))\n",
    "    return (df.iloc[:length] for df in dataframes)"
   ]
  },
  {
   "cell_type": "code",
   "execution_count": 11,
   "metadata": {
    "execution": {
     "iopub.execute_input": "2021-06-12T18:07:34.444651Z",
     "iopub.status.busy": "2021-06-12T18:07:34.444425Z",
     "iopub.status.idle": "2021-06-12T18:07:34.468017Z",
     "shell.execute_reply": "2021-06-12T18:07:34.467577Z",
     "shell.execute_reply.started": "2021-06-12T18:07:34.444622Z"
    }
   },
   "outputs": [],
   "source": [
    "bsl_df = bsl_pow.to_dataframe().reset_index(drop=True).rename_axis(index='pair').assign(condition='baseline').set_index('condition', append=True)\n",
    "rec_df = rec_pow.to_dataframe().reset_index(drop=True).rename_axis(index='pair').assign(condition='recovery').set_index('condition', append=True)\n",
    "bsl_df, rec_df = match_lengths((bsl_df, rec_df))\n",
    "df = pd.concat([bsl_df, rec_df]).sort_index()\n",
    "df.columns.name = 'region'"
   ]
  },
  {
   "cell_type": "code",
   "execution_count": 12,
   "metadata": {
    "execution": {
     "iopub.execute_input": "2021-06-12T18:07:34.468739Z",
     "iopub.status.busy": "2021-06-12T18:07:34.468613Z",
     "iopub.status.idle": "2021-06-12T18:07:34.481479Z",
     "shell.execute_reply": "2021-06-12T18:07:34.480965Z",
     "shell.execute_reply.started": "2021-06-12T18:07:34.468724Z"
    }
   },
   "outputs": [],
   "source": [
    "df_plot = df.stack().to_frame(name='power')\n",
    "df_plot['log_power'] = np.log(df_plot.power)\n",
    "df_plot['sqrt_power'] = np.sqrt(df_plot.power)"
   ]
  },
  {
   "cell_type": "code",
   "execution_count": 13,
   "metadata": {
    "execution": {
     "iopub.execute_input": "2021-06-12T18:07:34.482164Z",
     "iopub.status.busy": "2021-06-12T18:07:34.482039Z",
     "iopub.status.idle": "2021-06-12T18:07:35.765489Z",
     "shell.execute_reply": "2021-06-12T18:07:35.764796Z",
     "shell.execute_reply.started": "2021-06-12T18:07:34.482148Z"
    }
   },
   "outputs": [
    {
     "data": {
      "image/png": "[encoded data removed]",
      "text/plain": [
       "<Figure size 799.5x360 with 2 Axes>"
      ]
     },
     "metadata": {
      "needs_background": "light"
     },
     "output_type": "display_data"
    }
   ],
   "source": [
    "g = sns.displot(data=df_plot, x='power', hue='condition', col='region', kind='hist')\n",
    "g.set(xlabel='Delta (0.5 - 4Hz) PSD (uV^2/Hz)')\n",
    "g.tight_layout()"
   ]
  },
  {
   "cell_type": "code",
   "execution_count": 14,
   "metadata": {
    "execution": {
     "iopub.execute_input": "2021-06-12T18:07:35.766508Z",
     "iopub.status.busy": "2021-06-12T18:07:35.766358Z",
     "iopub.status.idle": "2021-06-12T18:07:36.631681Z",
     "shell.execute_reply": "2021-06-12T18:07:36.630921Z",
     "shell.execute_reply.started": "2021-06-12T18:07:35.766490Z"
    }
   },
   "outputs": [
    {
     "data": {
      "image/png": "[encoded data removed]",
      "text/plain": [
       "<Figure size 799.5x360 with 2 Axes>"
      ]
     },
     "metadata": {
      "needs_background": "light"
     },
     "output_type": "display_data"
    }
   ],
   "source": [
    "g = sns.displot(data=df_plot, x='log_power', hue='condition', col='region', kind='hist')\n",
    "g.set(xlabel='Delta (0.5 - 4Hz) PSD (uV^2/Hz)')\n",
    "g.tight_layout()"
   ]
  },
  {
   "cell_type": "code",
   "execution_count": 15,
   "metadata": {
    "execution": {
     "iopub.execute_input": "2021-06-12T18:07:36.632542Z",
     "iopub.status.busy": "2021-06-12T18:07:36.632388Z",
     "iopub.status.idle": "2021-06-12T18:07:37.478574Z",
     "shell.execute_reply": "2021-06-12T18:07:37.478009Z",
     "shell.execute_reply.started": "2021-06-12T18:07:36.632524Z"
    }
   },
   "outputs": [
    {
     "data": {
      "image/png": "[encoded data removed]",
      "text/plain": [
       "<Figure size 799.5x360 with 2 Axes>"
      ]
     },
     "metadata": {
      "needs_background": "light"
     },
     "output_type": "display_data"
    }
   ],
   "source": [
    "g = sns.displot(data=df_plot, x='sqrt_power', hue='condition', col='region', kind='hist')\n",
    "g.set(xlabel='Delta (0.5 - 4Hz) PSD (uV^2/Hz)')\n",
    "g.tight_layout()"
   ]
  },
  {
   "cell_type": "code",
   "execution_count": 16,
   "metadata": {
    "execution": {
     "iopub.execute_input": "2021-06-12T18:07:37.479544Z",
     "iopub.status.busy": "2021-06-12T18:07:37.479400Z",
     "iopub.status.idle": "2021-06-12T18:07:37.495558Z",
     "shell.execute_reply": "2021-06-12T18:07:37.494945Z",
     "shell.execute_reply.started": "2021-06-12T18:07:37.479526Z"
    }
   },
   "outputs": [],
   "source": [
    "def get_rebound(df):\n",
    "    means = df.groupby('condition').mean()\n",
    "    return means.xs('recovery') - means.xs('baseline')"
   ]
  },
  {
   "cell_type": "code",
   "execution_count": 17,
   "metadata": {
    "execution": {
     "iopub.execute_input": "2021-06-12T18:07:37.496307Z",
     "iopub.status.busy": "2021-06-12T18:07:37.496181Z",
     "iopub.status.idle": "2021-06-12T18:07:37.508765Z",
     "shell.execute_reply": "2021-06-12T18:07:37.508075Z",
     "shell.execute_reply.started": "2021-06-12T18:07:37.496292Z"
    }
   },
   "outputs": [],
   "source": [
    "def shuffle(df, key): \n",
    "    _df = df.reset_index()\n",
    "    labels = _df[key].values.reshape(-1, 2)\n",
    "    rng = np.random.default_rng()\n",
    "    rng.permuted(labels, axis=1, out=labels)\n",
    "    _df.set_index(df.index.names, inplace=True)\n",
    "    return _df"
   ]
  },
  {
   "cell_type": "code",
   "execution_count": 18,
   "metadata": {
    "execution": {
     "iopub.execute_input": "2021-06-12T18:07:37.509507Z",
     "iopub.status.busy": "2021-06-12T18:07:37.509384Z",
     "iopub.status.idle": "2021-06-12T18:08:05.617960Z",
     "shell.execute_reply": "2021-06-12T18:08:05.616986Z",
     "shell.execute_reply.started": "2021-06-12T18:07:37.509492Z"
    }
   },
   "outputs": [],
   "source": [
    "observed = get_rebound(df)\n",
    "\n",
    "n_permutations = 10000\n",
    "permutations = list()\n",
    "for i in range(n_permutations):\n",
    "    permuted = shuffle(df, 'condition')\n",
    "    permutations.append(get_rebound(permuted))"
   ]
  },
  {
   "cell_type": "code",
   "execution_count": 19,
   "metadata": {
    "execution": {
     "iopub.execute_input": "2021-06-12T18:08:05.618975Z",
     "iopub.status.busy": "2021-06-12T18:08:05.618830Z",
     "iopub.status.idle": "2021-06-12T18:08:06.128251Z",
     "shell.execute_reply": "2021-06-12T18:08:06.127590Z",
     "shell.execute_reply.started": "2021-06-12T18:08:05.618958Z"
    }
   },
   "outputs": [],
   "source": [
    "perms = pd.concat(permutations, axis=1)\n",
    "perms.columns.name = 'permtuation'\n",
    "perms = perms.stack().to_frame(name='rebound').reorder_levels([1, 0]).sort_index()"
   ]
  },
  {
   "cell_type": "code",
   "execution_count": 20,
   "metadata": {
    "execution": {
     "iopub.execute_input": "2021-06-12T18:08:06.129118Z",
     "iopub.status.busy": "2021-06-12T18:08:06.128980Z",
     "iopub.status.idle": "2021-06-12T18:08:06.631756Z",
     "shell.execute_reply": "2021-06-12T18:08:06.630991Z",
     "shell.execute_reply.started": "2021-06-12T18:08:06.129095Z"
    }
   },
   "outputs": [
    {
     "data": {
      "image/png": "[encoded data removed]",
      "text/plain": [
       "<Figure size 720x360 with 2 Axes>"
      ]
     },
     "metadata": {
      "needs_background": "light"
     },
     "output_type": "display_data"
    }
   ],
   "source": [
    "g = sns.displot(data=perms, x='rebound', col='region', kind='hist')\n",
    "g.set(xlabel='Rebound (SD - BL)')\n",
    "g.tight_layout()"
   ]
  },
  {
   "cell_type": "code",
   "execution_count": 21,
   "metadata": {
    "execution": {
     "iopub.execute_input": "2021-06-12T18:08:06.632569Z",
     "iopub.status.busy": "2021-06-12T18:08:06.632445Z",
     "iopub.status.idle": "2021-06-12T18:08:06.645485Z",
     "shell.execute_reply": "2021-06-12T18:08:06.644720Z",
     "shell.execute_reply.started": "2021-06-12T18:08:06.632554Z"
    }
   },
   "outputs": [],
   "source": [
    "cx = perms.xs('mpta_wm_ref', level='region')\n",
    "hc = perms.xs('sr_wm_ref', level='region')"
   ]
  },
  {
   "cell_type": "code",
   "execution_count": 22,
   "metadata": {
    "execution": {
     "iopub.execute_input": "2021-06-12T18:08:06.646306Z",
     "iopub.status.busy": "2021-06-12T18:08:06.646185Z",
     "iopub.status.idle": "2021-06-12T18:08:06.657776Z",
     "shell.execute_reply": "2021-06-12T18:08:06.656745Z",
     "shell.execute_reply.started": "2021-06-12T18:08:06.646291Z"
    }
   },
   "outputs": [],
   "source": [
    "pcx = np.sum(cx >= observed.xs('mpta_wm_ref'))"
   ]
  },
  {
   "cell_type": "code",
   "execution_count": 23,
   "metadata": {
    "execution": {
     "iopub.execute_input": "2021-06-12T18:08:06.658592Z",
     "iopub.status.busy": "2021-06-12T18:08:06.658470Z",
     "iopub.status.idle": "2021-06-12T18:08:06.669030Z",
     "shell.execute_reply": "2021-06-12T18:08:06.668118Z",
     "shell.execute_reply.started": "2021-06-12T18:08:06.658578Z"
    }
   },
   "outputs": [],
   "source": [
    "phc = np.sum(hc >= observed.xs('sr_wm_ref'))"
   ]
  },
  {
   "cell_type": "code",
   "execution_count": 24,
   "metadata": {
    "execution": {
     "iopub.execute_input": "2021-06-12T18:08:06.670032Z",
     "iopub.status.busy": "2021-06-12T18:08:06.669913Z",
     "iopub.status.idle": "2021-06-12T18:08:06.685996Z",
     "shell.execute_reply": "2021-06-12T18:08:06.685242Z",
     "shell.execute_reply.started": "2021-06-12T18:08:06.670018Z"
    }
   },
   "outputs": [
    {
     "name": "stdout",
     "output_type": "stream",
     "text": [
      "Subject: Valentino\n",
      "Observed rebound (BL - SD):\n",
      "\n",
      "| region      |        0 |\n",
      "|:------------|---------:|\n",
      "| mpta_wm_ref |  4.33299 |\n",
      "| sr_wm_ref   | 28.4419  |\n",
      "\n",
      "\n",
      "Shuffled >= observed:\n",
      "Cortex: 1594 / 10000\n",
      "Hippocampus: 1 / 10000\n"
     ]
    }
   ],
   "source": [
    "print(f\"Subject: {subject}\")\n",
    "print('Observed rebound (BL - SD):\\n')\n",
    "print(observed.to_markdown())\n",
    "print('\\n')\n",
    "print('Shuffled >= observed:')\n",
    "print(f\"Cortex: {1 + pcx.squeeze()} / {n_permutations}\")\n",
    "print(f\"Hippocampus: {1 + phc.squeeze()} / {n_permutations}\")"
   ]
  },
  {
   "cell_type": "code",
   "execution_count": null,
   "metadata": {},
   "outputs": [],
   "source": []
  }
 ],
 "metadata": {
  "kernelspec": {
   "display_name": "Python 3",
   "language": "python",
   "name": "python3"
  },
  "language_info": {
   "codemirror_mode": {
    "name": "ipython",
    "version": 3
   },
   "file_extension": ".py",
   "mimetype": "text/x-python",
   "name": "python",
   "nbconvert_exporter": "python",
   "pygments_lexer": "ipython3",
   "version": "3.7.9"
  }
 },
 "nbformat": 4,
 "nbformat_minor": 4
}
