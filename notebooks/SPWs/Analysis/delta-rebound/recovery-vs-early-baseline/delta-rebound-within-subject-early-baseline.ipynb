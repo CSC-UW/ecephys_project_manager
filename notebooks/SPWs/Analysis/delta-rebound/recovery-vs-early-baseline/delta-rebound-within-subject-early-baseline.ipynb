{
 "cells": [
  {
   "cell_type": "code",
   "execution_count": 1,
   "metadata": {
    "execution": {
     "iopub.execute_input": "2021-05-31T23:09:30.688612Z",
     "iopub.status.busy": "2021-05-31T23:09:30.688035Z",
     "iopub.status.idle": "2021-05-31T23:09:30.705943Z",
     "shell.execute_reply": "2021-05-31T23:09:30.705154Z",
     "shell.execute_reply.started": "2021-05-31T23:09:30.688545Z"
    }
   },
   "outputs": [],
   "source": [
    "%load_ext autoreload\n",
    "%autoreload 2"
   ]
  },
  {
   "cell_type": "code",
   "execution_count": 2,
   "metadata": {
    "execution": {
     "iopub.execute_input": "2021-05-31T23:09:31.236888Z",
     "iopub.status.busy": "2021-05-31T23:09:31.236454Z",
     "iopub.status.idle": "2021-05-31T23:09:31.630766Z",
     "shell.execute_reply": "2021-05-31T23:09:31.629824Z",
     "shell.execute_reply.started": "2021-05-31T23:09:31.236836Z"
    }
   },
   "outputs": [],
   "source": [
    "%matplotlib widget\n",
    "import matplotlib.pyplot as plt\n",
    "import seaborn as sns"
   ]
  },
  {
   "cell_type": "code",
   "execution_count": 3,
   "metadata": {
    "execution": {
     "iopub.execute_input": "2021-05-31T23:09:31.659368Z",
     "iopub.status.busy": "2021-05-31T23:09:31.659157Z",
     "iopub.status.idle": "2021-05-31T23:09:31.912788Z",
     "shell.execute_reply": "2021-05-31T23:09:31.911898Z",
     "shell.execute_reply.started": "2021-05-31T23:09:31.659341Z"
    }
   },
   "outputs": [],
   "source": [
    "import xarray as xr\n",
    "import numpy as np\n",
    "import pandas as pd"
   ]
  },
  {
   "cell_type": "code",
   "execution_count": 4,
   "metadata": {
    "execution": {
     "iopub.execute_input": "2021-05-31T23:09:32.101311Z",
     "iopub.status.busy": "2021-05-31T23:09:32.100879Z",
     "iopub.status.idle": "2021-05-31T23:09:32.120539Z",
     "shell.execute_reply": "2021-05-31T23:09:32.120070Z",
     "shell.execute_reply.started": "2021-05-31T23:09:32.101259Z"
    }
   },
   "outputs": [
    {
     "data": {
      "text/plain": [
       "<xarray.core.options.set_options at 0x7f0a7b26c190>"
      ]
     },
     "execution_count": 4,
     "metadata": {},
     "output_type": "execute_result"
    }
   ],
   "source": [
    "xr.set_options(keep_attrs=True)"
   ]
  },
  {
   "cell_type": "code",
   "execution_count": 5,
   "metadata": {
    "execution": {
     "iopub.execute_input": "2021-05-31T23:09:32.420674Z",
     "iopub.status.busy": "2021-05-31T23:09:32.420117Z",
     "iopub.status.idle": "2021-05-31T23:09:32.442913Z",
     "shell.execute_reply": "2021-05-31T23:09:32.442088Z",
     "shell.execute_reply.started": "2021-05-31T23:09:32.420608Z"
    }
   },
   "outputs": [],
   "source": [
    "import ecephys_analyses as ea \n",
    "from ecephys import utils\n",
    "from ecephys.signal.xarray_utils import filter_dataset_by_hypnogram"
   ]
  },
  {
   "cell_type": "code",
   "execution_count": 6,
   "metadata": {
    "execution": {
     "iopub.execute_input": "2021-05-31T23:09:32.699377Z",
     "iopub.status.busy": "2021-05-31T23:09:32.699092Z",
     "iopub.status.idle": "2021-05-31T23:09:32.716531Z",
     "shell.execute_reply": "2021-05-31T23:09:32.715647Z",
     "shell.execute_reply.started": "2021-05-31T23:09:32.699342Z"
    }
   },
   "outputs": [],
   "source": [
    "def ds2df(ds):\n",
    "    s = ds.to_dataframe().stack()\n",
    "    s.index.names = s.index.names[:-1] + ['region']\n",
    "    return s.to_frame(name='power')"
   ]
  },
  {
   "cell_type": "code",
   "execution_count": 7,
   "metadata": {
    "execution": {
     "iopub.execute_input": "2021-05-31T23:09:32.939127Z",
     "iopub.status.busy": "2021-05-31T23:09:32.938749Z",
     "iopub.status.idle": "2021-05-31T23:09:32.959126Z",
     "shell.execute_reply": "2021-05-31T23:09:32.958500Z",
     "shell.execute_reply.started": "2021-05-31T23:09:32.939080Z"
    }
   },
   "outputs": [],
   "source": [
    "subject = \"Segundo\"\n",
    "experiment = \"sleep-homeostasis\"\n",
    "bsl_condition = \"extended-wake-circadian-match\"\n",
    "rec_condition = \"recovery-sleep\"\n",
    "states = [\"N1\", \"N2\"]\n",
    "duration = '02:00:00'\n",
    "f_range = (0.5, 4)"
   ]
  },
  {
   "cell_type": "code",
   "execution_count": 8,
   "metadata": {
    "execution": {
     "iopub.execute_input": "2021-05-31T23:09:33.195229Z",
     "iopub.status.busy": "2021-05-31T23:09:33.194938Z",
     "iopub.status.idle": "2021-05-31T23:09:36.040095Z",
     "shell.execute_reply": "2021-05-31T23:09:36.038841Z",
     "shell.execute_reply.started": "2021-05-31T23:09:33.195195Z"
    }
   },
   "outputs": [],
   "source": [
    "rec_hyp = ea.load_hypnogram(subject, experiment, rec_condition)\n",
    "rec_hyp = rec_hyp.keep_states(states).keep_first(duration)\n",
    "\n",
    "rec_pow = ea.load_power(subject, experiment, rec_condition, \"spg.nc\").sel(frequency=slice(*f_range)).sum(dim='frequency')\n",
    "rec_pow = filter_dataset_by_hypnogram(rec_pow, rec_hyp).swap_dims({'time': 'datetime'}).drop_vars(['time', 'timedelta'])"
   ]
  },
  {
   "cell_type": "code",
   "execution_count": 9,
   "metadata": {
    "execution": {
     "iopub.execute_input": "2021-05-31T23:09:36.063789Z",
     "iopub.status.busy": "2021-05-31T23:09:36.063653Z",
     "iopub.status.idle": "2021-05-31T23:09:38.811892Z",
     "shell.execute_reply": "2021-05-31T23:09:38.810985Z",
     "shell.execute_reply.started": "2021-05-31T23:09:36.063772Z"
    }
   },
   "outputs": [],
   "source": [
    "bsl_hyp = ea.load_hypnogram(subject, experiment, bsl_condition)\n",
    "bsl_hyp = bsl_hyp.keep_states(states).keep_first(duration)\n",
    "\n",
    "bsl_pow = ea.load_power(subject, experiment, bsl_condition, \"spg.nc\").sel(frequency=slice(*f_range)).sum(dim='frequency')\n",
    "bsl_pow = filter_dataset_by_hypnogram(bsl_pow, bsl_hyp).swap_dims({'time': 'datetime'}).drop_vars(['time', 'timedelta'])"
   ]
  },
  {
   "cell_type": "code",
   "execution_count": 10,
   "metadata": {
    "execution": {
     "iopub.execute_input": "2021-05-31T23:09:38.813242Z",
     "iopub.status.busy": "2021-05-31T23:09:38.813071Z",
     "iopub.status.idle": "2021-05-31T23:09:38.832902Z",
     "shell.execute_reply": "2021-05-31T23:09:38.832213Z",
     "shell.execute_reply.started": "2021-05-31T23:09:38.813220Z"
    }
   },
   "outputs": [],
   "source": [
    "nrem_pow = pd.concat([ds2df(bsl_pow).assign(condition=\"baseline\"), ds2df(rec_pow).assign(condition=\"recovery\")])"
   ]
  },
  {
   "cell_type": "code",
   "execution_count": 11,
   "metadata": {
    "execution": {
     "iopub.execute_input": "2021-05-31T23:09:38.853786Z",
     "iopub.status.busy": "2021-05-31T23:09:38.853655Z",
     "iopub.status.idle": "2021-05-31T23:09:38.873629Z",
     "shell.execute_reply": "2021-05-31T23:09:38.872927Z",
     "shell.execute_reply.started": "2021-05-31T23:09:38.853770Z"
    }
   },
   "outputs": [
    {
     "data": {
      "text/html": [
       "<div>\n",
       "<style scoped>\n",
       "    .dataframe tbody tr th:only-of-type {\n",
       "        vertical-align: middle;\n",
       "    }\n",
       "\n",
       "    .dataframe tbody tr th {\n",
       "        vertical-align: top;\n",
       "    }\n",
       "\n",
       "    .dataframe thead th {\n",
       "        text-align: right;\n",
       "    }\n",
       "</style>\n",
       "<table border=\"1\" class=\"dataframe\">\n",
       "  <thead>\n",
       "    <tr style=\"text-align: right;\">\n",
       "      <th></th>\n",
       "      <th></th>\n",
       "      <th>power</th>\n",
       "      <th>condition</th>\n",
       "    </tr>\n",
       "    <tr>\n",
       "      <th>datetime</th>\n",
       "      <th>region</th>\n",
       "      <th></th>\n",
       "      <th></th>\n",
       "    </tr>\n",
       "  </thead>\n",
       "  <tbody>\n",
       "    <tr>\n",
       "      <th rowspan=\"2\" valign=\"top\">2020-01-22 09:19:23</th>\n",
       "      <th>mpta_wm_ref</th>\n",
       "      <td>109858.317380</td>\n",
       "      <td>baseline</td>\n",
       "    </tr>\n",
       "    <tr>\n",
       "      <th>sr_wm_ref</th>\n",
       "      <td>448588.379836</td>\n",
       "      <td>baseline</td>\n",
       "    </tr>\n",
       "    <tr>\n",
       "      <th rowspan=\"2\" valign=\"top\">2020-01-22 09:19:26</th>\n",
       "      <th>mpta_wm_ref</th>\n",
       "      <td>640508.336292</td>\n",
       "      <td>baseline</td>\n",
       "    </tr>\n",
       "    <tr>\n",
       "      <th>sr_wm_ref</th>\n",
       "      <td>452017.522658</td>\n",
       "      <td>baseline</td>\n",
       "    </tr>\n",
       "    <tr>\n",
       "      <th>2020-01-22 09:19:29</th>\n",
       "      <th>mpta_wm_ref</th>\n",
       "      <td>189452.541182</td>\n",
       "      <td>baseline</td>\n",
       "    </tr>\n",
       "    <tr>\n",
       "      <th>...</th>\n",
       "      <th>...</th>\n",
       "      <td>...</td>\n",
       "      <td>...</td>\n",
       "    </tr>\n",
       "    <tr>\n",
       "      <th>2020-01-23 18:41:38</th>\n",
       "      <th>sr_wm_ref</th>\n",
       "      <td>330145.653329</td>\n",
       "      <td>recovery</td>\n",
       "    </tr>\n",
       "    <tr>\n",
       "      <th rowspan=\"2\" valign=\"top\">2020-01-23 18:41:41</th>\n",
       "      <th>mpta_wm_ref</th>\n",
       "      <td>282285.935529</td>\n",
       "      <td>recovery</td>\n",
       "    </tr>\n",
       "    <tr>\n",
       "      <th>sr_wm_ref</th>\n",
       "      <td>426764.856925</td>\n",
       "      <td>recovery</td>\n",
       "    </tr>\n",
       "    <tr>\n",
       "      <th rowspan=\"2\" valign=\"top\">2020-01-23 18:41:44</th>\n",
       "      <th>mpta_wm_ref</th>\n",
       "      <td>213909.561948</td>\n",
       "      <td>recovery</td>\n",
       "    </tr>\n",
       "    <tr>\n",
       "      <th>sr_wm_ref</th>\n",
       "      <td>682501.283256</td>\n",
       "      <td>recovery</td>\n",
       "    </tr>\n",
       "  </tbody>\n",
       "</table>\n",
       "<p>9508 rows × 2 columns</p>\n",
       "</div>"
      ],
      "text/plain": [
       "                                         power condition\n",
       "datetime            region                              \n",
       "2020-01-22 09:19:23 mpta_wm_ref  109858.317380  baseline\n",
       "                    sr_wm_ref    448588.379836  baseline\n",
       "2020-01-22 09:19:26 mpta_wm_ref  640508.336292  baseline\n",
       "                    sr_wm_ref    452017.522658  baseline\n",
       "2020-01-22 09:19:29 mpta_wm_ref  189452.541182  baseline\n",
       "...                                        ...       ...\n",
       "2020-01-23 18:41:38 sr_wm_ref    330145.653329  recovery\n",
       "2020-01-23 18:41:41 mpta_wm_ref  282285.935529  recovery\n",
       "                    sr_wm_ref    426764.856925  recovery\n",
       "2020-01-23 18:41:44 mpta_wm_ref  213909.561948  recovery\n",
       "                    sr_wm_ref    682501.283256  recovery\n",
       "\n",
       "[9508 rows x 2 columns]"
      ]
     },
     "execution_count": 11,
     "metadata": {},
     "output_type": "execute_result"
    }
   ],
   "source": [
    "nrem_pow"
   ]
  },
  {
   "cell_type": "code",
   "execution_count": 12,
   "metadata": {
    "execution": {
     "iopub.execute_input": "2021-05-31T23:09:38.874462Z",
     "iopub.status.busy": "2021-05-31T23:09:38.874336Z",
     "iopub.status.idle": "2021-05-31T23:09:39.478587Z",
     "shell.execute_reply": "2021-05-31T23:09:39.477337Z",
     "shell.execute_reply.started": "2021-05-31T23:09:38.874446Z"
    }
   },
   "outputs": [
    {
     "data": {
      "application/vnd.jupyter.widget-view+json": {
       "model_id": "c75528e837c94e21a01cffed562e49e7",
       "version_major": 2,
       "version_minor": 0
      },
      "text/plain": [
       "Canvas(toolbar=Toolbar(toolitems=[('Home', 'Reset original view', 'home', 'home'), ('Back', 'Back to previous …"
      ]
     },
     "metadata": {},
     "output_type": "display_data"
    }
   ],
   "source": [
    "g = sns.displot(data=nrem_pow, x='power', hue='condition', col='region', kind='hist')\n",
    "g.set(xlabel='Delta (0.5 - 4Hz) PSD (uV^2/Hz)')\n",
    "g.tight_layout()"
   ]
  },
  {
   "cell_type": "code",
   "execution_count": 13,
   "metadata": {
    "execution": {
     "iopub.execute_input": "2021-05-31T23:09:39.645910Z",
     "iopub.status.busy": "2021-05-31T23:09:39.645774Z",
     "iopub.status.idle": "2021-05-31T23:09:40.200819Z",
     "shell.execute_reply": "2021-05-31T23:09:40.200070Z",
     "shell.execute_reply.started": "2021-05-31T23:09:39.645893Z"
    }
   },
   "outputs": [
    {
     "data": {
      "application/vnd.jupyter.widget-view+json": {
       "model_id": "94de26fb9ff5474ca73deccbf7a8f548",
       "version_major": 2,
       "version_minor": 0
      },
      "text/plain": [
       "Canvas(toolbar=Toolbar(toolitems=[('Home', 'Reset original view', 'home', 'home'), ('Back', 'Back to previous …"
      ]
     },
     "metadata": {},
     "output_type": "display_data"
    }
   ],
   "source": [
    "nrem_pow_log = nrem_pow.copy()\n",
    "nrem_pow_log['power'] = np.log(nrem_pow.power)\n",
    "\n",
    "g = sns.displot(data=nrem_pow_log, x='power', hue='condition', col='region', kind='hist')\n",
    "g.set(xlabel='Delta (0.5 - 4Hz) PSD (uV^2/Hz)')\n",
    "g.tight_layout()"
   ]
  },
  {
   "cell_type": "code",
   "execution_count": 14,
   "metadata": {
    "execution": {
     "iopub.execute_input": "2021-05-31T23:09:40.208621Z",
     "iopub.status.busy": "2021-05-31T23:09:40.208325Z",
     "iopub.status.idle": "2021-05-31T23:09:40.816013Z",
     "shell.execute_reply": "2021-05-31T23:09:40.815233Z",
     "shell.execute_reply.started": "2021-05-31T23:09:40.208598Z"
    }
   },
   "outputs": [
    {
     "data": {
      "application/vnd.jupyter.widget-view+json": {
       "model_id": "d135b377db4e433fb1714965de1df17d",
       "version_major": 2,
       "version_minor": 0
      },
      "text/plain": [
       "Canvas(toolbar=Toolbar(toolitems=[('Home', 'Reset original view', 'home', 'home'), ('Back', 'Back to previous …"
      ]
     },
     "metadata": {},
     "output_type": "display_data"
    }
   ],
   "source": [
    "nrem_pow_sqrt = nrem_pow.copy()\n",
    "nrem_pow_sqrt['power'] = np.sqrt(nrem_pow.power)\n",
    "\n",
    "g = sns.displot(data=nrem_pow_sqrt, x='power', hue='condition', col='region', kind='hist')\n",
    "g.set(xlabel='Delta (0.5 - 4Hz) PSD (uV^2/Hz)')\n",
    "g.tight_layout()"
   ]
  },
  {
   "cell_type": "code",
   "execution_count": 15,
   "metadata": {
    "execution": {
     "iopub.execute_input": "2021-05-31T23:09:43.101825Z",
     "iopub.status.busy": "2021-05-31T23:09:43.101279Z",
     "iopub.status.idle": "2021-05-31T23:09:43.123122Z",
     "shell.execute_reply": "2021-05-31T23:09:43.122260Z",
     "shell.execute_reply.started": "2021-05-31T23:09:43.101761Z"
    }
   },
   "outputs": [],
   "source": [
    "def difference_of_means(df):\n",
    "    means = df.groupby(['condition', 'region']).mean()\n",
    "    return means.xs('recovery') - means.xs('baseline')"
   ]
  },
  {
   "cell_type": "code",
   "execution_count": 16,
   "metadata": {
    "execution": {
     "iopub.execute_input": "2021-05-31T23:09:43.420491Z",
     "iopub.status.busy": "2021-05-31T23:09:43.420112Z",
     "iopub.status.idle": "2021-05-31T23:10:10.295989Z",
     "shell.execute_reply": "2021-05-31T23:10:10.294968Z",
     "shell.execute_reply.started": "2021-05-31T23:09:43.420442Z"
    }
   },
   "outputs": [],
   "source": [
    "observed = difference_of_means(nrem_pow)\n",
    "\n",
    "n_permutations = 10000\n",
    "permutations = list()\n",
    "permuted = nrem_pow.copy()\n",
    "for i in range(n_permutations):\n",
    "    np.random.shuffle(permuted.condition.values)\n",
    "    permutations.append(difference_of_means(permuted))\n",
    "    \n",
    "df = pd.concat(permutations)"
   ]
  },
  {
   "cell_type": "code",
   "execution_count": 17,
   "metadata": {
    "execution": {
     "iopub.execute_input": "2021-05-31T23:10:33.399293Z",
     "iopub.status.busy": "2021-05-31T23:10:33.399143Z",
     "iopub.status.idle": "2021-05-31T23:10:33.744353Z",
     "shell.execute_reply": "2021-05-31T23:10:33.743626Z",
     "shell.execute_reply.started": "2021-05-31T23:10:33.399275Z"
    }
   },
   "outputs": [
    {
     "data": {
      "application/vnd.jupyter.widget-view+json": {
       "model_id": "d0b8dba4a7e3437fa44239aa75421ec3",
       "version_major": 2,
       "version_minor": 0
      },
      "text/plain": [
       "Canvas(toolbar=Toolbar(toolitems=[('Home', 'Reset original view', 'home', 'home'), ('Back', 'Back to previous …"
      ]
     },
     "metadata": {},
     "output_type": "display_data"
    }
   ],
   "source": [
    "g = sns.displot(data=df, x='power', col='region', kind='hist')\n",
    "g.set(xlabel='Difference of means (SD - BL)')\n",
    "g.tight_layout()"
   ]
  },
  {
   "cell_type": "code",
   "execution_count": 18,
   "metadata": {
    "execution": {
     "iopub.execute_input": "2021-05-31T23:10:33.745590Z",
     "iopub.status.busy": "2021-05-31T23:10:33.745431Z",
     "iopub.status.idle": "2021-05-31T23:10:33.762910Z",
     "shell.execute_reply": "2021-05-31T23:10:33.762234Z",
     "shell.execute_reply.started": "2021-05-31T23:10:33.745571Z"
    }
   },
   "outputs": [],
   "source": [
    "cx = df.xs('mpta_wm_ref').sort_values('power')\n",
    "hc = df.xs('sr_wm_ref').sort_values('power')"
   ]
  },
  {
   "cell_type": "code",
   "execution_count": 19,
   "metadata": {
    "execution": {
     "iopub.execute_input": "2021-05-31T23:10:33.763765Z",
     "iopub.status.busy": "2021-05-31T23:10:33.763624Z",
     "iopub.status.idle": "2021-05-31T23:10:33.776339Z",
     "shell.execute_reply": "2021-05-31T23:10:33.775646Z",
     "shell.execute_reply.started": "2021-05-31T23:10:33.763742Z"
    }
   },
   "outputs": [],
   "source": [
    "pcx = np.sum(cx.power.values >= observed.xs('mpta_wm_ref').values)"
   ]
  },
  {
   "cell_type": "code",
   "execution_count": 20,
   "metadata": {
    "execution": {
     "iopub.execute_input": "2021-05-31T23:10:33.777324Z",
     "iopub.status.busy": "2021-05-31T23:10:33.777165Z",
     "iopub.status.idle": "2021-05-31T23:10:33.788275Z",
     "shell.execute_reply": "2021-05-31T23:10:33.787614Z",
     "shell.execute_reply.started": "2021-05-31T23:10:33.777306Z"
    }
   },
   "outputs": [],
   "source": [
    "phc = np.sum(hc.power.values >= observed.xs('sr_wm_ref').values)"
   ]
  },
  {
   "cell_type": "code",
   "execution_count": 21,
   "metadata": {
    "execution": {
     "iopub.execute_input": "2021-05-31T23:10:33.789209Z",
     "iopub.status.busy": "2021-05-31T23:10:33.789043Z",
     "iopub.status.idle": "2021-05-31T23:10:33.805982Z",
     "shell.execute_reply": "2021-05-31T23:10:33.805214Z",
     "shell.execute_reply.started": "2021-05-31T23:10:33.789192Z"
    }
   },
   "outputs": [
    {
     "name": "stdout",
     "output_type": "stream",
     "text": [
      "Subject: Segundo\n",
      "Observed differences, Mean SD - Mean BSL:\n",
      "\n",
      "| region      |    power |\n",
      "|:------------|---------:|\n",
      "| mpta_wm_ref | 171860   |\n",
      "| sr_wm_ref   |  54153.9 |\n",
      "\n",
      "\n",
      "Shuffled differences >= observed:\n",
      "Cortex: 1 / 10000\n",
      "Hippocampus: 1 / 10000\n"
     ]
    }
   ],
   "source": [
    "print(f\"Subject: {subject}\")\n",
    "print('Observed differences, Mean SD - Mean BSL:\\n')\n",
    "print(observed.to_markdown())\n",
    "print('\\n')\n",
    "print('Shuffled differences >= observed:')\n",
    "print(f\"Cortex: {1 + pcx} / {n_permutations}\")\n",
    "print(f\"Hippocampus: {1 + phc} / {n_permutations}\")"
   ]
  },
  {
   "cell_type": "code",
   "execution_count": null,
   "metadata": {},
   "outputs": [],
   "source": []
  }
 ],
 "metadata": {
  "kernelspec": {
   "display_name": "Python 3",
   "language": "python",
   "name": "python3"
  },
  "language_info": {
   "codemirror_mode": {
    "name": "ipython",
    "version": 3
   },
   "file_extension": ".py",
   "mimetype": "text/x-python",
   "name": "python",
   "nbconvert_exporter": "python",
   "pygments_lexer": "ipython3",
   "version": "3.7.9"
  }
 },
 "nbformat": 4,
 "nbformat_minor": 4
}
