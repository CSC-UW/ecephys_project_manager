{
 "cells": [
  {
   "cell_type": "code",
   "execution_count": 1,
   "metadata": {
    "execution": {
     "iopub.execute_input": "2021-07-12T02:10:15.924285Z",
     "iopub.status.busy": "2021-07-12T02:10:15.924132Z",
     "iopub.status.idle": "2021-07-12T02:10:16.621490Z",
     "shell.execute_reply": "2021-07-12T02:10:16.620694Z",
     "shell.execute_reply.started": "2021-07-12T02:10:15.924266Z"
    }
   },
   "outputs": [
    {
     "data": {
      "text/plain": [
       "<xarray.core.options.set_options at 0x7f7d98dfa450>"
      ]
     },
     "execution_count": 1,
     "metadata": {},
     "output_type": "execute_result"
    }
   ],
   "source": [
    "import xarray as xr\n",
    "import numpy as np\n",
    "import pandas as pd\n",
    "\n",
    "from ecephys_analyses import load as ea\n",
    "from ecephys.signal.xarray_utils import filter_dataset_by_hypnogram\n",
    "\n",
    "import matplotlib.pyplot as plt\n",
    "import seaborn as sns\n",
    "\n",
    "xr.set_options(keep_attrs=True)"
   ]
  },
  {
   "cell_type": "code",
   "execution_count": 2,
   "metadata": {
    "execution": {
     "iopub.execute_input": "2021-07-12T02:10:16.627735Z",
     "iopub.status.busy": "2021-07-12T02:10:16.627577Z",
     "iopub.status.idle": "2021-07-12T02:10:16.632026Z",
     "shell.execute_reply": "2021-07-12T02:10:16.631352Z",
     "shell.execute_reply.started": "2021-07-12T02:10:16.627715Z"
    }
   },
   "outputs": [],
   "source": [
    "subject = \"Segundo\"\n",
    "experiment = \"sleep-homeostasis\"\n",
    "norm_condition = \"light-period-circadian-match\"\n",
    "bsl_condition = \"extended-wake-circadian-match\"\n",
    "rec_condition = \"recovery-sleep\"\n",
    "states = [\"N1\", \"N2\"]\n",
    "duration = '02:00:00'\n",
    "light_period_start = '09:00:00'\n",
    "light_period_end = '21:00:00'\n",
    "f_range = (0.5, 4)"
   ]
  },
  {
   "cell_type": "code",
   "execution_count": 3,
   "metadata": {
    "execution": {
     "iopub.execute_input": "2021-07-12T02:10:16.677840Z",
     "iopub.status.busy": "2021-07-12T02:10:16.677419Z",
     "iopub.status.idle": "2021-07-12T02:10:20.045896Z",
     "shell.execute_reply": "2021-07-12T02:10:20.045074Z",
     "shell.execute_reply.started": "2021-07-12T02:10:16.677790Z"
    }
   },
   "outputs": [],
   "source": [
    "norm_hyp = ea.load_hypnogram(subject, experiment, norm_condition)\n",
    "norm_hyp = norm_hyp.keep_states(states).keep_between(light_period_start, light_period_end)\n",
    "\n",
    "norm_pow = ea.load_power(subject, experiment, norm_condition, \"spg.nc\").sel(frequency=slice(*f_range)).sum(dim=\"frequency\")\n",
    "norm_pow = filter_dataset_by_hypnogram(norm_pow, norm_hyp).swap_dims({'time': 'datetime'}).drop_vars(['time', 'timedelta'])"
   ]
  },
  {
   "cell_type": "code",
   "execution_count": 4,
   "metadata": {
    "execution": {
     "iopub.execute_input": "2021-07-12T02:10:20.057188Z",
     "iopub.status.busy": "2021-07-12T02:10:20.057016Z",
     "iopub.status.idle": "2021-07-12T02:10:21.648602Z",
     "shell.execute_reply": "2021-07-12T02:10:21.647797Z",
     "shell.execute_reply.started": "2021-07-12T02:10:20.057167Z"
    }
   },
   "outputs": [],
   "source": [
    "rec_hyp = ea.load_hypnogram(subject, experiment, rec_condition)\n",
    "rec_hyp = rec_hyp.keep_states(states).keep_first(duration)\n",
    "\n",
    "rec_pow = ea.load_power(subject, experiment, rec_condition, \"spg.nc\").sel(frequency=slice(*f_range)).sum(dim='frequency')\n",
    "rec_pow = filter_dataset_by_hypnogram(rec_pow, rec_hyp).swap_dims({'time': 'datetime'}).drop_vars(['time', 'timedelta'])\n",
    "rec_pow = rec_pow / norm_pow.mean(dim=\"datetime\") * 100"
   ]
  },
  {
   "cell_type": "code",
   "execution_count": 5,
   "metadata": {
    "execution": {
     "iopub.execute_input": "2021-07-12T02:10:21.649851Z",
     "iopub.status.busy": "2021-07-12T02:10:21.649679Z",
     "iopub.status.idle": "2021-07-12T02:10:23.219709Z",
     "shell.execute_reply": "2021-07-12T02:10:23.218952Z",
     "shell.execute_reply.started": "2021-07-12T02:10:21.649830Z"
    }
   },
   "outputs": [],
   "source": [
    "bsl_hyp = ea.load_hypnogram(subject, experiment, bsl_condition)\n",
    "bsl_hyp = bsl_hyp.keep_states(states).keep_between(light_period_start, light_period_end).keep_first(duration)\n",
    "\n",
    "bsl_pow = ea.load_power(subject, experiment, bsl_condition, \"spg.nc\").sel(frequency=slice(*f_range)).sum(dim='frequency')\n",
    "bsl_pow = filter_dataset_by_hypnogram(bsl_pow, bsl_hyp).swap_dims({'time': 'datetime'}).drop_vars(['time', 'timedelta'])\n",
    "bsl_pow = bsl_pow / norm_pow.mean(dim=\"datetime\") * 100"
   ]
  },
  {
   "cell_type": "code",
   "execution_count": 6,
   "metadata": {
    "execution": {
     "iopub.execute_input": "2021-07-12T02:10:23.220703Z",
     "iopub.status.busy": "2021-07-12T02:10:23.220541Z",
     "iopub.status.idle": "2021-07-12T02:10:23.224372Z",
     "shell.execute_reply": "2021-07-12T02:10:23.223590Z",
     "shell.execute_reply.started": "2021-07-12T02:10:23.220682Z"
    }
   },
   "outputs": [],
   "source": [
    "def match_lengths(dataframes):\n",
    "    length = min(list(map(len, dataframes)))\n",
    "    return (df.iloc[:length] for df in dataframes)"
   ]
  },
  {
   "cell_type": "code",
   "execution_count": 7,
   "metadata": {
    "execution": {
     "iopub.execute_input": "2021-07-12T02:10:23.225198Z",
     "iopub.status.busy": "2021-07-12T02:10:23.225041Z",
     "iopub.status.idle": "2021-07-12T02:10:23.239071Z",
     "shell.execute_reply": "2021-07-12T02:10:23.238397Z",
     "shell.execute_reply.started": "2021-07-12T02:10:23.225178Z"
    }
   },
   "outputs": [],
   "source": [
    "bsl_df = bsl_pow.to_dataframe().reset_index(drop=True).rename_axis(index='pair').assign(condition='baseline').set_index('condition', append=True)\n",
    "rec_df = rec_pow.to_dataframe().reset_index(drop=True).rename_axis(index='pair').assign(condition='recovery').set_index('condition', append=True)\n",
    "bsl_df, rec_df = match_lengths((bsl_df, rec_df))\n",
    "df = pd.concat([bsl_df, rec_df]).sort_index()\n",
    "df.columns.name = 'region'"
   ]
  },
  {
   "cell_type": "code",
   "execution_count": 8,
   "metadata": {
    "execution": {
     "iopub.execute_input": "2021-07-12T02:10:23.239953Z",
     "iopub.status.busy": "2021-07-12T02:10:23.239801Z",
     "iopub.status.idle": "2021-07-12T02:10:23.245621Z",
     "shell.execute_reply": "2021-07-12T02:10:23.244978Z",
     "shell.execute_reply.started": "2021-07-12T02:10:23.239933Z"
    }
   },
   "outputs": [],
   "source": [
    "df_plot = df.stack().to_frame(name='power')\n",
    "df_plot['log_power'] = np.log(df_plot.power)\n",
    "df_plot['sqrt_power'] = np.sqrt(df_plot.power)"
   ]
  },
  {
   "cell_type": "code",
   "execution_count": 9,
   "metadata": {
    "execution": {
     "iopub.execute_input": "2021-07-12T02:10:23.246979Z",
     "iopub.status.busy": "2021-07-12T02:10:23.246826Z",
     "iopub.status.idle": "2021-07-12T02:10:24.342789Z",
     "shell.execute_reply": "2021-07-12T02:10:24.341979Z",
     "shell.execute_reply.started": "2021-07-12T02:10:23.246960Z"
    }
   },
   "outputs": [
    {
     "data": {
      "image/png": "[encoded data removed]",
      "text/plain": [
       "<Figure size 799.5x360 with 2 Axes>"
      ]
     },
     "metadata": {
      "needs_background": "light"
     },
     "output_type": "display_data"
    }
   ],
   "source": [
    "g = sns.displot(data=df_plot, x='power', hue='condition', col='region', kind='hist')\n",
    "g.set(xlabel='Delta (0.5 - 4Hz) PSD (uV^2/Hz)')\n",
    "g.tight_layout()"
   ]
  },
  {
   "cell_type": "code",
   "execution_count": 14,
   "metadata": {
    "execution": {
     "iopub.execute_input": "2021-06-12T18:04:49.008295Z",
     "iopub.status.busy": "2021-06-12T18:04:49.008149Z",
     "iopub.status.idle": "2021-06-12T18:04:49.754115Z",
     "shell.execute_reply": "2021-06-12T18:04:49.753567Z",
     "shell.execute_reply.started": "2021-06-12T18:04:49.008277Z"
    }
   },
   "outputs": [
    {
     "data": {
      "image/png": "[encoded data removed]",
      "text/plain": [
       "<Figure size 799.5x360 with 2 Axes>"
      ]
     },
     "metadata": {
      "needs_background": "light"
     },
     "output_type": "display_data"
    }
   ],
   "source": [
    "g = sns.displot(data=df_plot, x='log_power', hue='condition', col='region', kind='hist')\n",
    "g.set(xlabel='Delta (0.5 - 4Hz) PSD (uV^2/Hz)')\n",
    "g.tight_layout()"
   ]
  },
  {
   "cell_type": "code",
   "execution_count": 15,
   "metadata": {
    "execution": {
     "iopub.execute_input": "2021-06-12T18:04:49.754921Z",
     "iopub.status.busy": "2021-06-12T18:04:49.754783Z",
     "iopub.status.idle": "2021-06-12T18:04:50.477567Z",
     "shell.execute_reply": "2021-06-12T18:04:50.477019Z",
     "shell.execute_reply.started": "2021-06-12T18:04:49.754904Z"
    }
   },
   "outputs": [
    {
     "data": {
      "image/png": "[encoded data removed]",
      "text/plain": [
       "<Figure size 799.5x360 with 2 Axes>"
      ]
     },
     "metadata": {
      "needs_background": "light"
     },
     "output_type": "display_data"
    }
   ],
   "source": [
    "g = sns.displot(data=df_plot, x='sqrt_power', hue='condition', col='region', kind='hist')\n",
    "g.set(xlabel='Delta (0.5 - 4Hz) PSD (uV^2/Hz)')\n",
    "g.tight_layout()"
   ]
  },
  {
   "cell_type": "code",
   "execution_count": 16,
   "metadata": {
    "execution": {
     "iopub.execute_input": "2021-06-12T18:04:50.502924Z",
     "iopub.status.busy": "2021-06-12T18:04:50.502801Z",
     "iopub.status.idle": "2021-06-12T18:04:50.514251Z",
     "shell.execute_reply": "2021-06-12T18:04:50.513493Z",
     "shell.execute_reply.started": "2021-06-12T18:04:50.502908Z"
    }
   },
   "outputs": [],
   "source": [
    "def get_rebound(df):\n",
    "    means = df.groupby('condition').mean()\n",
    "    return means.xs('recovery') - means.xs('baseline')"
   ]
  },
  {
   "cell_type": "code",
   "execution_count": 17,
   "metadata": {
    "execution": {
     "iopub.execute_input": "2021-06-12T18:04:50.515048Z",
     "iopub.status.busy": "2021-06-12T18:04:50.514925Z",
     "iopub.status.idle": "2021-06-12T18:04:50.526228Z",
     "shell.execute_reply": "2021-06-12T18:04:50.525460Z",
     "shell.execute_reply.started": "2021-06-12T18:04:50.515033Z"
    }
   },
   "outputs": [],
   "source": [
    "def shuffle(df, key): \n",
    "    _df = df.reset_index()\n",
    "    labels = _df[key].values.reshape(-1, 2)\n",
    "    rng = np.random.default_rng()\n",
    "    rng.permuted(labels, axis=1, out=labels)\n",
    "    _df.set_index(df.index.names, inplace=True)\n",
    "    return _df"
   ]
  },
  {
   "cell_type": "code",
   "execution_count": 18,
   "metadata": {
    "execution": {
     "iopub.execute_input": "2021-06-12T18:04:50.526983Z",
     "iopub.status.busy": "2021-06-12T18:04:50.526861Z",
     "iopub.status.idle": "2021-06-12T18:05:18.213689Z",
     "shell.execute_reply": "2021-06-12T18:05:18.212880Z",
     "shell.execute_reply.started": "2021-06-12T18:04:50.526968Z"
    }
   },
   "outputs": [],
   "source": [
    "observed = get_rebound(df)\n",
    "\n",
    "n_permutations = 10000\n",
    "permutations = list()\n",
    "for i in range(n_permutations):\n",
    "    permuted = shuffle(df, 'condition')\n",
    "    permutations.append(get_rebound(permuted))"
   ]
  },
  {
   "cell_type": "code",
   "execution_count": 19,
   "metadata": {
    "execution": {
     "iopub.execute_input": "2021-06-12T18:05:25.471174Z",
     "iopub.status.busy": "2021-06-12T18:05:25.471030Z",
     "iopub.status.idle": "2021-06-12T18:05:26.061269Z",
     "shell.execute_reply": "2021-06-12T18:05:26.060664Z",
     "shell.execute_reply.started": "2021-06-12T18:05:25.471155Z"
    }
   },
   "outputs": [],
   "source": [
    "perms = pd.concat(permutations, axis=1)\n",
    "perms.columns.name = 'permtuation'\n",
    "perms = perms.stack().to_frame(name='rebound').reorder_levels([1, 0]).sort_index()"
   ]
  },
  {
   "cell_type": "code",
   "execution_count": 20,
   "metadata": {
    "execution": {
     "iopub.execute_input": "2021-06-12T18:05:26.062153Z",
     "iopub.status.busy": "2021-06-12T18:05:26.062015Z",
     "iopub.status.idle": "2021-06-12T18:05:26.634736Z",
     "shell.execute_reply": "2021-06-12T18:05:26.634125Z",
     "shell.execute_reply.started": "2021-06-12T18:05:26.062136Z"
    }
   },
   "outputs": [
    {
     "data": {
      "image/png": "[encoded data removed]",
      "text/plain": [
       "<Figure size 720x360 with 2 Axes>"
      ]
     },
     "metadata": {
      "needs_background": "light"
     },
     "output_type": "display_data"
    }
   ],
   "source": [
    "g = sns.displot(data=perms, x='rebound', col='region', kind='hist')\n",
    "g.set(xlabel='Rebound (SD - BL)')\n",
    "g.tight_layout()"
   ]
  },
  {
   "cell_type": "code",
   "execution_count": 21,
   "metadata": {
    "execution": {
     "iopub.execute_input": "2021-06-12T18:05:55.652156Z",
     "iopub.status.busy": "2021-06-12T18:05:55.652007Z",
     "iopub.status.idle": "2021-06-12T18:05:55.669295Z",
     "shell.execute_reply": "2021-06-12T18:05:55.668746Z",
     "shell.execute_reply.started": "2021-06-12T18:05:55.652138Z"
    }
   },
   "outputs": [],
   "source": [
    "cx = perms.xs('mpta_wm_ref', level='region')\n",
    "hc = perms.xs('sr_wm_ref', level='region')"
   ]
  },
  {
   "cell_type": "code",
   "execution_count": 22,
   "metadata": {
    "execution": {
     "iopub.execute_input": "2021-06-12T18:06:10.250122Z",
     "iopub.status.busy": "2021-06-12T18:06:10.249984Z",
     "iopub.status.idle": "2021-06-12T18:06:10.263635Z",
     "shell.execute_reply": "2021-06-12T18:06:10.263043Z",
     "shell.execute_reply.started": "2021-06-12T18:06:10.250104Z"
    }
   },
   "outputs": [],
   "source": [
    "pcx = np.sum(cx >= observed.xs('mpta_wm_ref'))"
   ]
  },
  {
   "cell_type": "code",
   "execution_count": 23,
   "metadata": {
    "execution": {
     "iopub.execute_input": "2021-06-12T18:06:32.115529Z",
     "iopub.status.busy": "2021-06-12T18:06:32.115381Z",
     "iopub.status.idle": "2021-06-12T18:06:32.131480Z",
     "shell.execute_reply": "2021-06-12T18:06:32.130827Z",
     "shell.execute_reply.started": "2021-06-12T18:06:32.115510Z"
    }
   },
   "outputs": [],
   "source": [
    "phc = np.sum(hc >= observed.xs('sr_wm_ref'))"
   ]
  },
  {
   "cell_type": "code",
   "execution_count": 24,
   "metadata": {
    "execution": {
     "iopub.execute_input": "2021-06-12T18:06:32.132209Z",
     "iopub.status.busy": "2021-06-12T18:06:32.132082Z",
     "iopub.status.idle": "2021-06-12T18:06:32.149735Z",
     "shell.execute_reply": "2021-06-12T18:06:32.149100Z",
     "shell.execute_reply.started": "2021-06-12T18:06:32.132193Z"
    }
   },
   "outputs": [
    {
     "name": "stdout",
     "output_type": "stream",
     "text": [
      "Subject: Segundo\n",
      "Observed rebound (BL - SD):\n",
      "\n",
      "| region      |       0 |\n",
      "|:------------|--------:|\n",
      "| mpta_wm_ref | 67.7669 |\n",
      "| sr_wm_ref   | 13.5786 |\n",
      "\n",
      "\n",
      "Shuffled >= observed:\n",
      "Cortex: 1 / 10000\n",
      "Hippocampus: 1 / 10000\n"
     ]
    }
   ],
   "source": [
    "print(f\"Subject: {subject}\")\n",
    "print('Observed rebound (BL - SD):\\n')\n",
    "print(observed.to_markdown())\n",
    "print('\\n')\n",
    "print('Shuffled >= observed:')\n",
    "print(f\"Cortex: {1 + pcx.squeeze()} / {n_permutations}\")\n",
    "print(f\"Hippocampus: {1 + phc.squeeze()} / {n_permutations}\")"
   ]
  },
  {
   "cell_type": "code",
   "execution_count": null,
   "metadata": {},
   "outputs": [],
   "source": []
  }
 ],
 "metadata": {
  "kernelspec": {
   "display_name": "Python 3",
   "language": "python",
   "name": "python3"
  },
  "language_info": {
   "codemirror_mode": {
    "name": "ipython",
    "version": 3
   },
   "file_extension": ".py",
   "mimetype": "text/x-python",
   "name": "python",
   "nbconvert_exporter": "python",
   "pygments_lexer": "ipython3",
   "version": "3.7.9"
  }
 },
 "nbformat": 4,
 "nbformat_minor": 4
}
