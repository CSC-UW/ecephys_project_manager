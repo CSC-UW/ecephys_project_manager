{
 "cells": [
  {
   "cell_type": "code",
   "execution_count": 1,
   "metadata": {
    "execution": {
     "iopub.execute_input": "2021-05-31T22:03:54.620786Z",
     "iopub.status.busy": "2021-05-31T22:03:54.620300Z",
     "iopub.status.idle": "2021-05-31T22:03:54.635891Z",
     "shell.execute_reply": "2021-05-31T22:03:54.635192Z",
     "shell.execute_reply.started": "2021-05-31T22:03:54.620725Z"
    }
   },
   "outputs": [],
   "source": [
    "%load_ext autoreload\n",
    "%autoreload 2"
   ]
  },
  {
   "cell_type": "code",
   "execution_count": 2,
   "metadata": {
    "execution": {
     "iopub.execute_input": "2021-05-31T22:03:55.224552Z",
     "iopub.status.busy": "2021-05-31T22:03:55.224110Z",
     "iopub.status.idle": "2021-05-31T22:03:55.586583Z",
     "shell.execute_reply": "2021-05-31T22:03:55.586043Z",
     "shell.execute_reply.started": "2021-05-31T22:03:55.224497Z"
    }
   },
   "outputs": [],
   "source": [
    "%matplotlib widget\n",
    "import matplotlib.pyplot as plt\n",
    "import seaborn as sns"
   ]
  },
  {
   "cell_type": "code",
   "execution_count": 3,
   "metadata": {
    "execution": {
     "iopub.execute_input": "2021-05-31T22:04:09.364394Z",
     "iopub.status.busy": "2021-05-31T22:04:09.363911Z",
     "iopub.status.idle": "2021-05-31T22:04:09.609146Z",
     "shell.execute_reply": "2021-05-31T22:04:09.608438Z",
     "shell.execute_reply.started": "2021-05-31T22:04:09.364337Z"
    }
   },
   "outputs": [],
   "source": [
    "import xarray as xr\n",
    "import numpy as np\n",
    "import pandas as pd\n",
    "from scipy import stats\n",
    "\n",
    "import ecephys_analyses as ea \n",
    "from ecephys.signal.xarray_utils import filter_dataset_by_hypnogram"
   ]
  },
  {
   "cell_type": "code",
   "execution_count": 4,
   "metadata": {
    "execution": {
     "iopub.execute_input": "2021-05-31T22:04:09.712999Z",
     "iopub.status.busy": "2021-05-31T22:04:09.712542Z",
     "iopub.status.idle": "2021-05-31T22:04:09.730759Z",
     "shell.execute_reply": "2021-05-31T22:04:09.730187Z",
     "shell.execute_reply.started": "2021-05-31T22:04:09.712918Z"
    }
   },
   "outputs": [
    {
     "data": {
      "text/plain": [
       "<xarray.core.options.set_options at 0x7f4d9f8ffed0>"
      ]
     },
     "execution_count": 4,
     "metadata": {},
     "output_type": "execute_result"
    }
   ],
   "source": [
    "xr.set_options(keep_attrs=True)"
   ]
  },
  {
   "cell_type": "code",
   "execution_count": 5,
   "metadata": {
    "execution": {
     "iopub.execute_input": "2021-05-31T22:04:10.449896Z",
     "iopub.status.busy": "2021-05-31T22:04:10.449208Z",
     "iopub.status.idle": "2021-05-31T22:04:10.473092Z",
     "shell.execute_reply": "2021-05-31T22:04:10.472109Z",
     "shell.execute_reply.started": "2021-05-31T22:04:10.449821Z"
    }
   },
   "outputs": [],
   "source": [
    "subjects = [\"Segundo\", \"Valentino\", \"Doppio\", \"Alessandro\", \"Allan\"]\n",
    "experiment = \"sleep-homeostasis\"\n",
    "bsl_condition = \"recovery-sleep-circadian-match\"\n",
    "rec_condition = \"recovery-sleep\"\n",
    "states = [\"N1\", \"N2\"]\n",
    "duration = '02:00:00'\n",
    "f_range = (0.5, 4)"
   ]
  },
  {
   "cell_type": "code",
   "execution_count": 6,
   "metadata": {
    "execution": {
     "iopub.execute_input": "2021-05-31T22:05:10.294894Z",
     "iopub.status.busy": "2021-05-31T22:05:10.294343Z",
     "iopub.status.idle": "2021-05-31T22:05:10.329623Z",
     "shell.execute_reply": "2021-05-31T22:05:10.328723Z",
     "shell.execute_reply.started": "2021-05-31T22:05:10.294829Z"
    }
   },
   "outputs": [],
   "source": [
    "def get_subject_data(\n",
    "    subject, experiment, bsl_condition, rec_condition, states, duration, f_range\n",
    "):\n",
    "    rec_hyp = ea.load_hypnogram(subject, experiment, rec_condition)\n",
    "    rec_hyp = rec_hyp.keep_states(states).keep_first(duration)\n",
    "\n",
    "    rec_pow = (\n",
    "        ea.load_power(subject, experiment, rec_condition, \"spg.nc\")\n",
    "        .sel(frequency=slice(*f_range))\n",
    "        .sum(dim=\"frequency\")\n",
    "    )\n",
    "    rec_pow = (\n",
    "        filter_dataset_by_hypnogram(rec_pow, rec_hyp)\n",
    "        .swap_dims({\"time\": \"datetime\"})\n",
    "        .drop_vars([\"time\", \"timedelta\"])\n",
    "    )\n",
    "\n",
    "    bsl_hyp = ea.load_hypnogram(subject, experiment, bsl_condition)\n",
    "    bsl_hyp = bsl_hyp.keep_states(states).keep_between(\n",
    "        rec_hyp.start_time.min().strftime(\"%H:%M:%S\"),\n",
    "        rec_hyp.start_time.max().strftime(\"%H:%M:%S\"),\n",
    "    )\n",
    "\n",
    "    bsl_pow = (\n",
    "        ea.load_power(subject, experiment, bsl_condition, \"spg.nc\")\n",
    "        .sel(frequency=slice(*f_range))\n",
    "        .sum(dim=\"frequency\")\n",
    "    )\n",
    "    bsl_pow = (\n",
    "        filter_dataset_by_hypnogram(bsl_pow, bsl_hyp)\n",
    "        .swap_dims({\"time\": \"datetime\"})\n",
    "        .drop_vars([\"time\", \"timedelta\"])\n",
    "    )\n",
    "\n",
    "    diff_means = rec_pow.mean() - bsl_pow.mean()\n",
    "    diff_means_std = diff_means / bsl_pow.mean()\n",
    "    diff_meds = rec_pow.median() - bsl_pow.median()\n",
    "    diff_meds_std = diff_meds / bsl_pow.median()\n",
    "\n",
    "    index = pd.MultiIndex.from_product(\n",
    "        [[subject], [\"cortex\", \"hippocampus\"]], names=[\"subject\", \"region\"]\n",
    "    )\n",
    "    data = np.asarray(\n",
    "        [\n",
    "            [\n",
    "                diff_means.mpta_wm_ref,\n",
    "                diff_means_std.mpta_wm_ref,\n",
    "                diff_meds.mpta_wm_ref,\n",
    "                diff_meds_std.mpta_wm_ref,\n",
    "            ],\n",
    "            [\n",
    "                diff_means.sr_wm_ref,\n",
    "                diff_means_std.sr_wm_ref,\n",
    "                diff_meds.sr_wm_ref,\n",
    "                diff_meds_std.sr_wm_ref,\n",
    "            ],\n",
    "        ]\n",
    "    )\n",
    "    return pd.DataFrame(\n",
    "        data,\n",
    "        columns=[\"diff_means\", \"diff_means_std\", \"diff_meds\", \"diff_meds_std\"],\n",
    "        index=index,\n",
    "    )"
   ]
  },
  {
   "cell_type": "code",
   "execution_count": 7,
   "metadata": {
    "execution": {
     "iopub.execute_input": "2021-05-31T22:05:10.906637Z",
     "iopub.status.busy": "2021-05-31T22:05:10.906180Z",
     "iopub.status.idle": "2021-05-31T22:05:32.692295Z",
     "shell.execute_reply": "2021-05-31T22:05:32.691466Z",
     "shell.execute_reply.started": "2021-05-31T22:05:10.906579Z"
    }
   },
   "outputs": [],
   "source": [
    "subj_data = list()\n",
    "for subject in subjects:\n",
    "    subj_data.append(get_subject_data(subject, experiment, bsl_condition, rec_condition, states, duration, f_range))\n",
    "df = pd.concat(subj_data)"
   ]
  },
  {
   "cell_type": "code",
   "execution_count": 8,
   "metadata": {
    "execution": {
     "iopub.execute_input": "2021-05-31T22:05:32.735336Z",
     "iopub.status.busy": "2021-05-31T22:05:32.735209Z",
     "iopub.status.idle": "2021-05-31T22:05:32.752240Z",
     "shell.execute_reply": "2021-05-31T22:05:32.751719Z",
     "shell.execute_reply.started": "2021-05-31T22:05:32.735321Z"
    }
   },
   "outputs": [
    {
     "name": "stdout",
     "output_type": "stream",
     "text": [
      "|                               |   diff_means |   diff_means_std |   diff_meds |   diff_meds_std |\n",
      "|:------------------------------|-------------:|-----------------:|------------:|----------------:|\n",
      "| ('Segundo', 'cortex')         |     432114   |         3.00784  |    433506   |        4.21843  |\n",
      "| ('Segundo', 'hippocampus')    |     171061   |         0.506753 |    183623   |        0.67479  |\n",
      "| ('Valentino', 'cortex')       |      96756.3 |         1.57885  |     81744.9 |        2.10501  |\n",
      "| ('Valentino', 'hippocampus')  |     163190   |         0.397626 |    176105   |        0.654904 |\n",
      "| ('Doppio', 'cortex')          |     346453   |         1.77456  |    344962   |        2.6208   |\n",
      "| ('Doppio', 'hippocampus')     |      99331.2 |         0.363013 |     95301.1 |        0.484065 |\n",
      "| ('Alessandro', 'cortex')      |     219293   |         1.45191  |    250380   |        2.25997  |\n",
      "| ('Alessandro', 'hippocampus') |     175011   |         0.450926 |    227451   |        0.834318 |\n",
      "| ('Allan', 'cortex')           |     599847   |         2.35635  |    607240   |        3.31528  |\n",
      "| ('Allan', 'hippocampus')      |      89514.3 |         0.319119 |     78798.6 |        0.37743  |\n"
     ]
    }
   ],
   "source": [
    "print(df.to_markdown())"
   ]
  },
  {
   "cell_type": "code",
   "execution_count": 9,
   "metadata": {
    "execution": {
     "iopub.execute_input": "2021-05-31T22:05:32.752933Z",
     "iopub.status.busy": "2021-05-31T22:05:32.752810Z",
     "iopub.status.idle": "2021-05-31T22:05:32.763875Z",
     "shell.execute_reply": "2021-05-31T22:05:32.763298Z",
     "shell.execute_reply.started": "2021-05-31T22:05:32.752917Z"
    }
   },
   "outputs": [],
   "source": [
    "cx = df.xs('cortex', level=1, drop_level=False)\n",
    "hc = df.xs('hippocampus', level=1, drop_level=False)"
   ]
  },
  {
   "cell_type": "code",
   "execution_count": 10,
   "metadata": {
    "execution": {
     "iopub.execute_input": "2021-05-31T22:05:32.764557Z",
     "iopub.status.busy": "2021-05-31T22:05:32.764434Z",
     "iopub.status.idle": "2021-05-31T22:05:32.775582Z",
     "shell.execute_reply": "2021-05-31T22:05:32.775088Z",
     "shell.execute_reply.started": "2021-05-31T22:05:32.764542Z"
    }
   },
   "outputs": [
    {
     "data": {
      "text/plain": [
       "Ttest_1sampResult(statistic=array([3.91608817, 7.04797227, 3.90455726, 7.46034048]), pvalue=array([0.01730468, 0.00213671, 0.017474  , 0.00172507]))"
      ]
     },
     "execution_count": 10,
     "metadata": {},
     "output_type": "execute_result"
    }
   ],
   "source": [
    "stats.ttest_1samp(cx, 0)"
   ]
  },
  {
   "cell_type": "code",
   "execution_count": 11,
   "metadata": {
    "execution": {
     "iopub.execute_input": "2021-05-31T22:05:32.776272Z",
     "iopub.status.busy": "2021-05-31T22:05:32.776150Z",
     "iopub.status.idle": "2021-05-31T22:05:32.787685Z",
     "shell.execute_reply": "2021-05-31T22:05:32.787145Z",
     "shell.execute_reply.started": "2021-05-31T22:05:32.776257Z"
    }
   },
   "outputs": [
    {
     "data": {
      "text/plain": [
       "Ttest_1sampResult(statistic=array([ 7.50046292, 12.39237772,  5.40901545,  7.61265726]), pvalue=array([0.00169048, 0.00024373, 0.00565816, 0.00159819]))"
      ]
     },
     "execution_count": 11,
     "metadata": {},
     "output_type": "execute_result"
    }
   ],
   "source": [
    "stats.ttest_1samp(hc, 0)"
   ]
  },
  {
   "cell_type": "code",
   "execution_count": null,
   "metadata": {},
   "outputs": [],
   "source": []
  }
 ],
 "metadata": {
  "kernelspec": {
   "display_name": "Python 3",
   "language": "python",
   "name": "python3"
  },
  "language_info": {
   "codemirror_mode": {
    "name": "ipython",
    "version": 3
   },
   "file_extension": ".py",
   "mimetype": "text/x-python",
   "name": "python",
   "nbconvert_exporter": "python",
   "pygments_lexer": "ipython3",
   "version": "3.7.9"
  }
 },
 "nbformat": 4,
 "nbformat_minor": 4
}
