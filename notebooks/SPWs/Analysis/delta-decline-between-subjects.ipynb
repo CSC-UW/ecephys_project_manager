{
 "cells": [
  {
   "cell_type": "code",
   "execution_count": 1,
   "metadata": {
    "execution": {
     "iopub.execute_input": "2021-05-31T22:57:07.287535Z",
     "iopub.status.busy": "2021-05-31T22:57:07.287167Z",
     "iopub.status.idle": "2021-05-31T22:57:07.308811Z",
     "shell.execute_reply": "2021-05-31T22:57:07.308165Z",
     "shell.execute_reply.started": "2021-05-31T22:57:07.287489Z"
    }
   },
   "outputs": [],
   "source": [
    "%load_ext autoreload\n",
    "%autoreload 2"
   ]
  },
  {
   "cell_type": "code",
   "execution_count": 2,
   "metadata": {
    "execution": {
     "iopub.execute_input": "2021-05-31T22:57:07.522347Z",
     "iopub.status.busy": "2021-05-31T22:57:07.522046Z",
     "iopub.status.idle": "2021-05-31T22:57:07.881934Z",
     "shell.execute_reply": "2021-05-31T22:57:07.881144Z",
     "shell.execute_reply.started": "2021-05-31T22:57:07.522310Z"
    }
   },
   "outputs": [],
   "source": [
    "%matplotlib widget\n",
    "import matplotlib.pyplot as plt\n",
    "import seaborn as sns"
   ]
  },
  {
   "cell_type": "code",
   "execution_count": 3,
   "metadata": {
    "execution": {
     "iopub.execute_input": "2021-05-31T22:57:10.939526Z",
     "iopub.status.busy": "2021-05-31T22:57:10.939049Z",
     "iopub.status.idle": "2021-05-31T22:57:11.185552Z",
     "shell.execute_reply": "2021-05-31T22:57:11.184634Z",
     "shell.execute_reply.started": "2021-05-31T22:57:10.939466Z"
    }
   },
   "outputs": [],
   "source": [
    "import xarray as xr\n",
    "import numpy as np\n",
    "import pandas as pd\n",
    "from scipy import stats\n",
    "\n",
    "import ecephys_analyses as ea \n",
    "from ecephys.signal.xarray_utils import filter_dataset_by_hypnogram"
   ]
  },
  {
   "cell_type": "code",
   "execution_count": 4,
   "metadata": {
    "execution": {
     "iopub.execute_input": "2021-05-31T22:57:11.508275Z",
     "iopub.status.busy": "2021-05-31T22:57:11.507949Z",
     "iopub.status.idle": "2021-05-31T22:57:11.528514Z",
     "shell.execute_reply": "2021-05-31T22:57:11.527943Z",
     "shell.execute_reply.started": "2021-05-31T22:57:11.508234Z"
    }
   },
   "outputs": [
    {
     "data": {
      "text/plain": [
       "<xarray.core.options.set_options at 0x7f3d023421d0>"
      ]
     },
     "execution_count": 4,
     "metadata": {},
     "output_type": "execute_result"
    }
   ],
   "source": [
    "xr.set_options(keep_attrs=True)"
   ]
  },
  {
   "cell_type": "code",
   "execution_count": 5,
   "metadata": {
    "execution": {
     "iopub.execute_input": "2021-05-31T22:57:25.142602Z",
     "iopub.status.busy": "2021-05-31T22:57:25.142135Z",
     "iopub.status.idle": "2021-05-31T22:57:25.162901Z",
     "shell.execute_reply": "2021-05-31T22:57:25.162072Z",
     "shell.execute_reply.started": "2021-05-31T22:57:25.142527Z"
    }
   },
   "outputs": [],
   "source": [
    "subjects = [\"Segundo\", \"Valentino\", \"Doppio\", \"Alessandro\", \"Allan\"]\n",
    "experiment = \"sleep-homeostasis\"\n",
    "condition = \"recovery-sleep\"\n",
    "states = [\"N1\", \"N2\"]\n",
    "duration = '02:00:00'\n",
    "f_range = (0.5, 4)"
   ]
  },
  {
   "cell_type": "code",
   "execution_count": 6,
   "metadata": {
    "execution": {
     "iopub.execute_input": "2021-05-31T23:00:53.541674Z",
     "iopub.status.busy": "2021-05-31T23:00:53.541184Z",
     "iopub.status.idle": "2021-05-31T23:00:53.570922Z",
     "shell.execute_reply": "2021-05-31T23:00:53.570122Z",
     "shell.execute_reply.started": "2021-05-31T23:00:53.541615Z"
    }
   },
   "outputs": [],
   "source": [
    "def get_subject_data(\n",
    "    subject, experiment, condition, states, duration, f_range\n",
    "):\n",
    "    hyp = ea.load_hypnogram(subject, experiment, condition)\n",
    "    power = ea.load_power(subject, experiment, condition, \"spg.nc\").sel(frequency=slice(*f_range)).sum(dim='frequency')\n",
    "    \n",
    "    early_hyp = hyp.keep_states(states).keep_first(duration)\n",
    "    early_pow = filter_dataset_by_hypnogram(power, early_hyp).swap_dims({'time': 'datetime'}).drop_vars(['time', 'timedelta'])\n",
    "\n",
    "    late_hyp = hyp.keep_states(states).keep_last(duration)\n",
    "    late_pow = filter_dataset_by_hypnogram(power, late_hyp).swap_dims({'time': 'datetime'}).drop_vars(['time', 'timedelta'])\n",
    "\n",
    "    diff_means = early_pow.mean() - late_pow.mean()\n",
    "    diff_means_std = diff_means / late_pow.mean()\n",
    "    diff_meds = early_pow.median() - late_pow.median()\n",
    "    diff_meds_std = diff_meds / late_pow.median()\n",
    "\n",
    "    index = pd.MultiIndex.from_product(\n",
    "        [[subject], [\"cortex\", \"hippocampus\"]], names=[\"subject\", \"region\"]\n",
    "    )\n",
    "    data = np.asarray(\n",
    "        [\n",
    "            [\n",
    "                diff_means.mpta_wm_ref,\n",
    "                diff_means_std.mpta_wm_ref,\n",
    "                diff_meds.mpta_wm_ref,\n",
    "                diff_meds_std.mpta_wm_ref,\n",
    "            ],\n",
    "            [\n",
    "                diff_means.sr_wm_ref,\n",
    "                diff_means_std.sr_wm_ref,\n",
    "                diff_meds.sr_wm_ref,\n",
    "                diff_meds_std.sr_wm_ref,\n",
    "            ],\n",
    "        ]\n",
    "    )\n",
    "    return pd.DataFrame(\n",
    "        data,\n",
    "        columns=[\"diff_means\", \"diff_means_std\", \"diff_meds\", \"diff_meds_std\"],\n",
    "        index=index,\n",
    "    )"
   ]
  },
  {
   "cell_type": "code",
   "execution_count": 7,
   "metadata": {
    "execution": {
     "iopub.execute_input": "2021-05-31T23:00:57.101405Z",
     "iopub.status.busy": "2021-05-31T23:00:57.100888Z",
     "iopub.status.idle": "2021-05-31T23:01:05.613139Z",
     "shell.execute_reply": "2021-05-31T23:01:05.612371Z",
     "shell.execute_reply.started": "2021-05-31T23:00:57.101344Z"
    }
   },
   "outputs": [],
   "source": [
    "subj_data = list()\n",
    "for subject in subjects:\n",
    "    subj_data.append(get_subject_data(subject, experiment, condition, states, duration, f_range))\n",
    "df = pd.concat(subj_data)"
   ]
  },
  {
   "cell_type": "code",
   "execution_count": 8,
   "metadata": {
    "execution": {
     "iopub.execute_input": "2021-05-31T23:01:05.655235Z",
     "iopub.status.busy": "2021-05-31T23:01:05.655104Z",
     "iopub.status.idle": "2021-05-31T23:01:05.672299Z",
     "shell.execute_reply": "2021-05-31T23:01:05.671670Z",
     "shell.execute_reply.started": "2021-05-31T23:01:05.655219Z"
    }
   },
   "outputs": [
    {
     "name": "stdout",
     "output_type": "stream",
     "text": [
      "|                               |   diff_means |   diff_means_std |   diff_meds |   diff_meds_std |\n",
      "|:------------------------------|-------------:|-----------------:|------------:|----------------:|\n",
      "| ('Segundo', 'cortex')         |     184050   |         0.469843 |    216467   |        0.676873 |\n",
      "| ('Segundo', 'hippocampus')    |      82041.2 |         0.192321 |     85454   |        0.230777 |\n",
      "| ('Valentino', 'cortex')       |      58629.3 |         0.589774 |     49505.3 |        0.696541 |\n",
      "| ('Valentino', 'hippocampus')  |      77991.6 |         0.157365 |     96414.5 |        0.276582 |\n",
      "| ('Doppio', 'cortex')          |     169282   |         0.454567 |    159759   |        0.504246 |\n",
      "| ('Doppio', 'hippocampus')     |      61441.2 |         0.197231 |     55584   |        0.234934 |\n",
      "| ('Alessandro', 'cortex')      |     124200   |         0.504609 |    146674   |        0.683805 |\n",
      "| ('Alessandro', 'hippocampus') |     141682   |         0.336182 |    171404   |        0.521517 |\n",
      "| ('Allan', 'cortex')           |     305829   |         0.557487 |    327522   |        0.70757  |\n",
      "| ('Allan', 'hippocampus')      |      56404.1 |         0.179851 |     56233.8 |        0.243077 |\n"
     ]
    }
   ],
   "source": [
    "print(df.to_markdown())"
   ]
  },
  {
   "cell_type": "code",
   "execution_count": 9,
   "metadata": {
    "execution": {
     "iopub.execute_input": "2021-05-31T23:01:05.673144Z",
     "iopub.status.busy": "2021-05-31T23:01:05.673017Z",
     "iopub.status.idle": "2021-05-31T23:01:05.684924Z",
     "shell.execute_reply": "2021-05-31T23:01:05.684156Z",
     "shell.execute_reply.started": "2021-05-31T23:01:05.673128Z"
    }
   },
   "outputs": [],
   "source": [
    "cx = df.xs('cortex', level=1, drop_level=False)\n",
    "hc = df.xs('hippocampus', level=1, drop_level=False)"
   ]
  },
  {
   "cell_type": "code",
   "execution_count": 10,
   "metadata": {
    "execution": {
     "iopub.execute_input": "2021-05-31T23:01:05.685638Z",
     "iopub.status.busy": "2021-05-31T23:01:05.685516Z",
     "iopub.status.idle": "2021-05-31T23:01:05.698575Z",
     "shell.execute_reply": "2021-05-31T23:01:05.698190Z",
     "shell.execute_reply.started": "2021-05-31T23:01:05.685622Z"
    }
   },
   "outputs": [
    {
     "data": {
      "text/plain": [
       "Ttest_1sampResult(statistic=array([ 4.1371808 , 20.05991872,  3.94446014, 17.3145766 ]), pvalue=array([1.44094971e-02, 3.64479880e-05, 1.68963764e-02, 6.52991239e-05]))"
      ]
     },
     "execution_count": 10,
     "metadata": {},
     "output_type": "execute_result"
    }
   ],
   "source": [
    "stats.ttest_1samp(cx, 0)"
   ]
  },
  {
   "cell_type": "code",
   "execution_count": 11,
   "metadata": {
    "execution": {
     "iopub.execute_input": "2021-05-31T23:01:05.699227Z",
     "iopub.status.busy": "2021-05-31T23:01:05.699104Z",
     "iopub.status.idle": "2021-05-31T23:01:05.710897Z",
     "shell.execute_reply": "2021-05-31T23:01:05.710396Z",
     "shell.execute_reply.started": "2021-05-31T23:01:05.699212Z"
    }
   },
   "outputs": [
    {
     "data": {
      "text/plain": [
       "Ttest_1sampResult(statistic=array([5.51054499, 6.71541183, 4.39284184, 5.41839367]), pvalue=array([0.00529142, 0.00255999, 0.01175654, 0.00562301]))"
      ]
     },
     "execution_count": 11,
     "metadata": {},
     "output_type": "execute_result"
    }
   ],
   "source": [
    "stats.ttest_1samp(hc, 0)"
   ]
  },
  {
   "cell_type": "code",
   "execution_count": null,
   "metadata": {},
   "outputs": [],
   "source": []
  }
 ],
 "metadata": {
  "kernelspec": {
   "display_name": "Python 3",
   "language": "python",
   "name": "python3"
  },
  "language_info": {
   "codemirror_mode": {
    "name": "ipython",
    "version": 3
   },
   "file_extension": ".py",
   "mimetype": "text/x-python",
   "name": "python",
   "nbconvert_exporter": "python",
   "pygments_lexer": "ipython3",
   "version": "3.7.9"
  }
 },
 "nbformat": 4,
 "nbformat_minor": 4
}
