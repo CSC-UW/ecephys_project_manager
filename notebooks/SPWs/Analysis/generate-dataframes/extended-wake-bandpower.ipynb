{
 "cells": [
  {
   "cell_type": "code",
   "execution_count": 1,
   "metadata": {
    "execution": {
     "iopub.execute_input": "2021-06-24T23:48:14.202018Z",
     "iopub.status.busy": "2021-06-24T23:48:14.201895Z",
     "iopub.status.idle": "2021-06-24T23:48:14.210691Z",
     "shell.execute_reply": "2021-06-24T23:48:14.210222Z",
     "shell.execute_reply.started": "2021-06-24T23:48:14.202002Z"
    }
   },
   "outputs": [],
   "source": [
    "%load_ext autoreload\n",
    "%autoreload 2"
   ]
  },
  {
   "cell_type": "code",
   "execution_count": 2,
   "metadata": {
    "execution": {
     "iopub.execute_input": "2021-06-24T23:48:14.623642Z",
     "iopub.status.busy": "2021-06-24T23:48:14.623201Z",
     "iopub.status.idle": "2021-06-24T23:48:14.963984Z",
     "shell.execute_reply": "2021-06-24T23:48:14.963356Z",
     "shell.execute_reply.started": "2021-06-24T23:48:14.623587Z"
    }
   },
   "outputs": [],
   "source": [
    "# %matplotlib widget\n",
    "import matplotlib.pyplot as plt\n",
    "import seaborn as sns"
   ]
  },
  {
   "cell_type": "code",
   "execution_count": 3,
   "metadata": {
    "execution": {
     "iopub.execute_input": "2021-06-24T23:48:14.975948Z",
     "iopub.status.busy": "2021-06-24T23:48:14.975812Z",
     "iopub.status.idle": "2021-06-24T23:48:15.202110Z",
     "shell.execute_reply": "2021-06-24T23:48:15.201225Z",
     "shell.execute_reply.started": "2021-06-24T23:48:14.975931Z"
    }
   },
   "outputs": [],
   "source": [
    "import xarray as xr\n",
    "import numpy as np\n",
    "import pandas as pd"
   ]
  },
  {
   "cell_type": "code",
   "execution_count": 4,
   "metadata": {
    "execution": {
     "iopub.execute_input": "2021-06-24T23:48:15.268970Z",
     "iopub.status.busy": "2021-06-24T23:48:15.268569Z",
     "iopub.status.idle": "2021-06-24T23:48:15.288240Z",
     "shell.execute_reply": "2021-06-24T23:48:15.287718Z",
     "shell.execute_reply.started": "2021-06-24T23:48:15.268919Z"
    }
   },
   "outputs": [
    {
     "data": {
      "text/plain": [
       "<xarray.core.options.set_options at 0x7fb731929a90>"
      ]
     },
     "execution_count": 4,
     "metadata": {},
     "output_type": "execute_result"
    }
   ],
   "source": [
    "xr.set_options(keep_attrs=True)"
   ]
  },
  {
   "cell_type": "code",
   "execution_count": 5,
   "metadata": {
    "execution": {
     "iopub.execute_input": "2021-06-24T23:48:15.289043Z",
     "iopub.status.busy": "2021-06-24T23:48:15.288915Z",
     "iopub.status.idle": "2021-06-24T23:48:15.338432Z",
     "shell.execute_reply": "2021-06-24T23:48:15.337869Z",
     "shell.execute_reply.started": "2021-06-24T23:48:15.289027Z"
    }
   },
   "outputs": [],
   "source": [
    "import ecephys_analyses as ea \n",
    "from ecephys import utils\n",
    "from ecephys.signal.xarray_utils import filter_dataset_by_hypnogram"
   ]
  },
  {
   "cell_type": "code",
   "execution_count": 15,
   "metadata": {
    "execution": {
     "iopub.execute_input": "2021-06-25T17:00:07.364043Z",
     "iopub.status.busy": "2021-06-25T17:00:07.363564Z",
     "iopub.status.idle": "2021-06-25T17:00:07.386584Z",
     "shell.execute_reply": "2021-06-25T17:00:07.385803Z",
     "shell.execute_reply.started": "2021-06-25T17:00:07.363984Z"
    }
   },
   "outputs": [],
   "source": [
    "subjects = [\"Segundo\", \"Valentino\", \"Doppio\", \"Alessandro\", \"Allan\"]\n",
    "experiment = \"sleep-homeostasis\"\n",
    "\n",
    "norm_condition = \"light-period-circadian-match\"\n",
    "light_period_start = '09:00:00'\n",
    "light_period_end = '21:00:00'\n",
    "norm_states = [\"N1\", \"N2\"]\n",
    "\n",
    "condition = \"extended-wake\"\n",
    "states = [\"aWk\", \"qWk\"]"
   ]
  },
  {
   "cell_type": "code",
   "execution_count": 16,
   "metadata": {
    "execution": {
     "iopub.execute_input": "2021-06-25T17:00:07.536015Z",
     "iopub.status.busy": "2021-06-25T17:00:07.535760Z",
     "iopub.status.idle": "2021-06-25T17:00:07.566318Z",
     "shell.execute_reply": "2021-06-25T17:00:07.565549Z",
     "shell.execute_reply.started": "2021-06-25T17:00:07.535984Z"
    }
   },
   "outputs": [],
   "source": [
    "def get_power_summary(f_range, band_name, normalize=True):\n",
    "    mean_power = dict()\n",
    "    total_power = dict()\n",
    "\n",
    "    for subject in subjects:\n",
    "        if normalize:\n",
    "            norm_hyp = ea.load_hypnogram(subject, experiment, norm_condition)\n",
    "            norm_hyp = norm_hyp.keep_states(norm_states).keep_between(light_period_start, light_period_end)\n",
    "\n",
    "            norm_pwr = ea.load_power(subject, experiment, norm_condition, \"spg.nc\").sel(frequency=slice(*f_range)).sum(dim=\"frequency\")\n",
    "            norm_pwr = filter_dataset_by_hypnogram(norm_pwr, norm_hyp).swap_dims({'time': 'datetime'}).drop_vars(['time', 'timedelta'])\n",
    "\n",
    "        hyp = ea.load_hypnogram(subject, experiment, condition)\n",
    "        hyp = hyp.keep_states(states)\n",
    "\n",
    "        pwr = ea.load_power(subject, experiment, condition, \"spg.nc\").sel(frequency=slice(*f_range)).sum(dim='frequency')\n",
    "        pwr = filter_dataset_by_hypnogram(pwr, hyp).swap_dims({'time': 'datetime'}).drop_vars(['time', 'timedelta'])\n",
    "        \n",
    "        if normalize:\n",
    "            pwr = pwr / norm_pwr.mean(dim=\"datetime\") * 100\n",
    "\n",
    "        mean_power[subject] = pwr.to_dataframe().mean()\n",
    "        total_power[subject] = pwr.to_dataframe().sum()\n",
    "\n",
    "    mean_power_df = pd.concat(mean_power, names=['subject', 'region']).to_frame(name=f'mean_{band_name}')\n",
    "    total_power_df = pd.concat(total_power, names=['subject', 'region']).to_frame(name=f'total_{band_name}')\n",
    "    df = mean_power_df.join(total_power_df)\n",
    "    \n",
    "    return df"
   ]
  },
  {
   "cell_type": "code",
   "execution_count": 13,
   "metadata": {
    "execution": {
     "iopub.execute_input": "2021-06-24T23:50:10.501897Z",
     "iopub.status.busy": "2021-06-24T23:50:10.501770Z",
     "iopub.status.idle": "2021-06-24T23:50:10.515572Z",
     "shell.execute_reply": "2021-06-24T23:50:10.515041Z",
     "shell.execute_reply.started": "2021-06-24T23:50:10.501881Z"
    }
   },
   "outputs": [],
   "source": [
    "low_delta_df = get_power_summary((0, 1), 'low_delta')\n",
    "delta_df = get_power_summary((0.5, 4), 'delta')\n",
    "theta_df = get_power_summary((5, 10), 'theta')\n",
    "fast_gamma_df = get_power_summary((60, 120), 'fast_gamma')\n",
    "df = pd.concat([low_delta_df, delta_df, theta_df, fast_gamma_df], axis=1).assign(condition='extended-wake')\n",
    "df.to_csv('extended-wake-bandpower.csv')"
   ]
  },
  {
   "cell_type": "code",
   "execution_count": 17,
   "metadata": {
    "execution": {
     "iopub.execute_input": "2021-06-25T17:00:10.240810Z",
     "iopub.status.busy": "2021-06-25T17:00:10.240330Z",
     "iopub.status.idle": "2021-06-25T17:00:54.302722Z",
     "shell.execute_reply": "2021-06-25T17:00:54.301957Z",
     "shell.execute_reply.started": "2021-06-25T17:00:10.240750Z"
    }
   },
   "outputs": [],
   "source": [
    "low_delta_df = get_power_summary((0, 1), 'low_delta', False)\n",
    "delta_df = get_power_summary((0.5, 4), 'delta', False)\n",
    "theta_df = get_power_summary((5, 10), 'theta', False)\n",
    "fast_gamma_df = get_power_summary((60, 120), 'fast_gamma', False)\n",
    "df = pd.concat([low_delta_df, delta_df, theta_df, fast_gamma_df], axis=1).assign(condition='extended-wake')\n",
    "df.to_csv('extended-wake-bandpower-unnormalized.csv')"
   ]
  },
  {
   "cell_type": "code",
   "execution_count": null,
   "metadata": {},
   "outputs": [],
   "source": []
  }
 ],
 "metadata": {
  "kernelspec": {
   "display_name": "Python 3",
   "language": "python",
   "name": "python3"
  },
  "language_info": {
   "codemirror_mode": {
    "name": "ipython",
    "version": 3
   },
   "file_extension": ".py",
   "mimetype": "text/x-python",
   "name": "python",
   "nbconvert_exporter": "python",
   "pygments_lexer": "ipython3",
   "version": "3.7.9"
  }
 },
 "nbformat": 4,
 "nbformat_minor": 4
}
