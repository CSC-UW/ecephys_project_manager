{
 "cells": [
  {
   "cell_type": "code",
   "execution_count": 1,
   "metadata": {
    "execution": {
     "iopub.execute_input": "2021-06-24T23:46:07.239763Z",
     "iopub.status.busy": "2021-06-24T23:46:07.239279Z",
     "iopub.status.idle": "2021-06-24T23:46:07.258724Z",
     "shell.execute_reply": "2021-06-24T23:46:07.258095Z",
     "shell.execute_reply.started": "2021-06-24T23:46:07.239702Z"
    }
   },
   "outputs": [],
   "source": [
    "%load_ext autoreload\n",
    "%autoreload 2"
   ]
  },
  {
   "cell_type": "code",
   "execution_count": 2,
   "metadata": {
    "execution": {
     "iopub.execute_input": "2021-06-24T23:46:07.684925Z",
     "iopub.status.busy": "2021-06-24T23:46:07.684447Z",
     "iopub.status.idle": "2021-06-24T23:46:08.031292Z",
     "shell.execute_reply": "2021-06-24T23:46:08.030539Z",
     "shell.execute_reply.started": "2021-06-24T23:46:07.684868Z"
    }
   },
   "outputs": [],
   "source": [
    "# %matplotlib widget\n",
    "import matplotlib.pyplot as plt\n",
    "import seaborn as sns"
   ]
  },
  {
   "cell_type": "code",
   "execution_count": 3,
   "metadata": {
    "execution": {
     "iopub.execute_input": "2021-06-24T23:46:08.075122Z",
     "iopub.status.busy": "2021-06-24T23:46:08.074690Z",
     "iopub.status.idle": "2021-06-24T23:46:08.309179Z",
     "shell.execute_reply": "2021-06-24T23:46:08.308370Z",
     "shell.execute_reply.started": "2021-06-24T23:46:08.075065Z"
    }
   },
   "outputs": [],
   "source": [
    "import xarray as xr\n",
    "import numpy as np\n",
    "import pandas as pd"
   ]
  },
  {
   "cell_type": "code",
   "execution_count": 4,
   "metadata": {
    "execution": {
     "iopub.execute_input": "2021-06-24T23:46:08.444839Z",
     "iopub.status.busy": "2021-06-24T23:46:08.444402Z",
     "iopub.status.idle": "2021-06-24T23:46:08.461692Z",
     "shell.execute_reply": "2021-06-24T23:46:08.461126Z",
     "shell.execute_reply.started": "2021-06-24T23:46:08.444783Z"
    }
   },
   "outputs": [
    {
     "data": {
      "text/plain": [
       "<xarray.core.options.set_options at 0x7f2de14c5c50>"
      ]
     },
     "execution_count": 4,
     "metadata": {},
     "output_type": "execute_result"
    }
   ],
   "source": [
    "xr.set_options(keep_attrs=True)"
   ]
  },
  {
   "cell_type": "code",
   "execution_count": 5,
   "metadata": {
    "execution": {
     "iopub.execute_input": "2021-06-24T23:46:09.067672Z",
     "iopub.status.busy": "2021-06-24T23:46:09.067380Z",
     "iopub.status.idle": "2021-06-24T23:46:09.089267Z",
     "shell.execute_reply": "2021-06-24T23:46:09.088669Z",
     "shell.execute_reply.started": "2021-06-24T23:46:09.067638Z"
    }
   },
   "outputs": [],
   "source": [
    "import ecephys_analyses as ea \n",
    "from ecephys import utils\n",
    "from ecephys.signal.xarray_utils import filter_dataset_by_hypnogram"
   ]
  },
  {
   "cell_type": "code",
   "execution_count": 6,
   "metadata": {
    "execution": {
     "iopub.execute_input": "2021-06-24T23:46:10.573616Z",
     "iopub.status.busy": "2021-06-24T23:46:10.573172Z",
     "iopub.status.idle": "2021-06-24T23:46:10.593840Z",
     "shell.execute_reply": "2021-06-24T23:46:10.592767Z",
     "shell.execute_reply.started": "2021-06-24T23:46:10.573560Z"
    }
   },
   "outputs": [],
   "source": [
    "subjects = [\"Segundo\", \"Valentino\", \"Doppio\", \"Alessandro\", \"Allan\"]\n",
    "experiment = \"sleep-homeostasis\"\n",
    "\n",
    "norm_condition = \"light-period-circadian-match\"\n",
    "light_period_start = '09:00:00'\n",
    "light_period_end = '21:00:00'\n",
    "norm_states = [\"N1\", \"N2\"]\n",
    "\n",
    "condition = \"recovery-sleep\"\n",
    "states = [\"N1\", \"N2\"]\n",
    "duration = '02:00:00'"
   ]
  },
  {
   "cell_type": "code",
   "execution_count": 14,
   "metadata": {
    "execution": {
     "iopub.execute_input": "2021-06-25T17:00:50.181937Z",
     "iopub.status.busy": "2021-06-25T17:00:50.181427Z",
     "iopub.status.idle": "2021-06-25T17:00:50.213069Z",
     "shell.execute_reply": "2021-06-25T17:00:50.212630Z",
     "shell.execute_reply.started": "2021-06-25T17:00:50.181875Z"
    }
   },
   "outputs": [],
   "source": [
    "def get_power_summary(f_range, band_name, normalize=True):\n",
    "    mean_power = dict()\n",
    "    total_power = dict()\n",
    "\n",
    "    for subject in subjects:\n",
    "        if normalize:\n",
    "            norm_hyp = ea.load_hypnogram(subject, experiment, norm_condition)\n",
    "            norm_hyp = norm_hyp.keep_states(norm_states).keep_between(light_period_start, light_period_end)\n",
    "\n",
    "            norm_pwr = ea.load_power(subject, experiment, norm_condition, \"spg.nc\").sel(frequency=slice(*f_range)).sum(dim=\"frequency\")\n",
    "            norm_pwr = filter_dataset_by_hypnogram(norm_pwr, norm_hyp).swap_dims({'time': 'datetime'}).drop_vars(['time', 'timedelta'])\n",
    "\n",
    "        hyp = ea.load_hypnogram(subject, experiment, condition)\n",
    "        hyp = hyp.keep_states(states).keep_first(duration)\n",
    "\n",
    "        pwr = ea.load_power(subject, experiment, condition, \"spg.nc\").sel(frequency=slice(*f_range)).sum(dim='frequency')\n",
    "        pwr = filter_dataset_by_hypnogram(pwr, hyp).swap_dims({'time': 'datetime'}).drop_vars(['time', 'timedelta'])\n",
    "        if normalize:\n",
    "            pwr = pwr / norm_pwr.mean(dim=\"datetime\") * 100\n",
    "\n",
    "        mean_power[subject] = pwr.to_dataframe().mean()\n",
    "        total_power[subject] = pwr.to_dataframe().sum()\n",
    "\n",
    "    mean_power_df = pd.concat(mean_power, names=['subject', 'region']).to_frame(name=f'mean_{band_name}')\n",
    "    total_power_df = pd.concat(total_power, names=['subject', 'region']).to_frame(name=f'total_{band_name}')\n",
    "    df = mean_power_df.join(total_power_df)\n",
    "    \n",
    "    return df"
   ]
  },
  {
   "cell_type": "code",
   "execution_count": 8,
   "metadata": {
    "execution": {
     "iopub.execute_input": "2021-06-24T23:46:12.441870Z",
     "iopub.status.busy": "2021-06-24T23:46:12.441499Z",
     "iopub.status.idle": "2021-06-24T23:46:51.730169Z",
     "shell.execute_reply": "2021-06-24T23:46:51.729127Z",
     "shell.execute_reply.started": "2021-06-24T23:46:12.441822Z"
    }
   },
   "outputs": [],
   "source": [
    "low_delta_df = get_power_summary((0, 1), 'low_delta')\n",
    "delta_df = get_power_summary((0.5, 4), 'delta')\n",
    "theta_df = get_power_summary((5, 10), 'theta')\n",
    "fast_gamma_df = get_power_summary((60, 120), 'fast_gamma')\n",
    "df = pd.concat([low_delta_df, delta_df, theta_df, fast_gamma_df], axis=1).assign(condition='recovery-sleep-first2h')\n",
    "df.to_csv('recovery-sleep-first2h-bandpower.csv')"
   ]
  },
  {
   "cell_type": "code",
   "execution_count": 15,
   "metadata": {
    "execution": {
     "iopub.execute_input": "2021-06-25T17:01:35.355569Z",
     "iopub.status.busy": "2021-06-25T17:01:35.355060Z",
     "iopub.status.idle": "2021-06-25T17:02:19.660457Z",
     "shell.execute_reply": "2021-06-25T17:02:19.659648Z",
     "shell.execute_reply.started": "2021-06-25T17:01:35.355508Z"
    }
   },
   "outputs": [],
   "source": [
    "low_delta_df = get_power_summary((0, 1), 'low_delta', False)\n",
    "delta_df = get_power_summary((0.5, 4), 'delta', False)\n",
    "theta_df = get_power_summary((5, 10), 'theta', False)\n",
    "fast_gamma_df = get_power_summary((60, 120), 'fast_gamma', False)\n",
    "df = pd.concat([low_delta_df, delta_df, theta_df, fast_gamma_df], axis=1).assign(condition='recovery-sleep-first2h')\n",
    "df.to_csv('recovery-sleep-first2h-bandpower-unnormalized.csv')"
   ]
  },
  {
   "cell_type": "code",
   "execution_count": null,
   "metadata": {},
   "outputs": [],
   "source": []
  }
 ],
 "metadata": {
  "kernelspec": {
   "display_name": "Python 3",
   "language": "python",
   "name": "python3"
  },
  "language_info": {
   "codemirror_mode": {
    "name": "ipython",
    "version": 3
   },
   "file_extension": ".py",
   "mimetype": "text/x-python",
   "name": "python",
   "nbconvert_exporter": "python",
   "pygments_lexer": "ipython3",
   "version": "3.7.9"
  }
 },
 "nbformat": 4,
 "nbformat_minor": 4
}
