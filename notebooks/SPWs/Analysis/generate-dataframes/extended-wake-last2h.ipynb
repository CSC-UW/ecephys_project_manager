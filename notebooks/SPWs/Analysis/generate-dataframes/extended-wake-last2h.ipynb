{
 "cells": [
  {
   "cell_type": "code",
   "execution_count": 59,
   "metadata": {
    "execution": {
     "iopub.execute_input": "2021-06-16T17:25:44.912650Z",
     "iopub.status.busy": "2021-06-16T17:25:44.912156Z",
     "iopub.status.idle": "2021-06-16T17:25:44.934600Z",
     "shell.execute_reply": "2021-06-16T17:25:44.933926Z",
     "shell.execute_reply.started": "2021-06-16T17:25:44.912590Z"
    }
   },
   "outputs": [
    {
     "name": "stdout",
     "output_type": "stream",
     "text": [
      "The autoreload extension is already loaded. To reload it, use:\n",
      "  %reload_ext autoreload\n"
     ]
    }
   ],
   "source": [
    "%load_ext autoreload\n",
    "%autoreload 2"
   ]
  },
  {
   "cell_type": "code",
   "execution_count": 60,
   "metadata": {
    "execution": {
     "iopub.execute_input": "2021-06-16T17:25:45.284408Z",
     "iopub.status.busy": "2021-06-16T17:25:45.284247Z",
     "iopub.status.idle": "2021-06-16T17:25:45.299907Z",
     "shell.execute_reply": "2021-06-16T17:25:45.299180Z",
     "shell.execute_reply.started": "2021-06-16T17:25:45.284391Z"
    }
   },
   "outputs": [],
   "source": [
    "# %matplotlib widget\n",
    "import matplotlib.pyplot as plt\n",
    "import seaborn as sns"
   ]
  },
  {
   "cell_type": "code",
   "execution_count": 61,
   "metadata": {
    "execution": {
     "iopub.execute_input": "2021-06-16T17:25:45.604108Z",
     "iopub.status.busy": "2021-06-16T17:25:45.603967Z",
     "iopub.status.idle": "2021-06-16T17:25:45.619657Z",
     "shell.execute_reply": "2021-06-16T17:25:45.618937Z",
     "shell.execute_reply.started": "2021-06-16T17:25:45.604091Z"
    }
   },
   "outputs": [],
   "source": [
    "import xarray as xr\n",
    "import numpy as np\n",
    "import pandas as pd"
   ]
  },
  {
   "cell_type": "code",
   "execution_count": 62,
   "metadata": {
    "execution": {
     "iopub.execute_input": "2021-06-16T17:25:46.342762Z",
     "iopub.status.busy": "2021-06-16T17:25:46.342409Z",
     "iopub.status.idle": "2021-06-16T17:25:46.360708Z",
     "shell.execute_reply": "2021-06-16T17:25:46.360138Z",
     "shell.execute_reply.started": "2021-06-16T17:25:46.342717Z"
    }
   },
   "outputs": [
    {
     "data": {
      "text/plain": [
       "<xarray.core.options.set_options at 0x7ff6fe3e1dd0>"
      ]
     },
     "execution_count": 62,
     "metadata": {},
     "output_type": "execute_result"
    }
   ],
   "source": [
    "xr.set_options(keep_attrs=True)"
   ]
  },
  {
   "cell_type": "code",
   "execution_count": 63,
   "metadata": {
    "execution": {
     "iopub.execute_input": "2021-06-16T17:25:46.725157Z",
     "iopub.status.busy": "2021-06-16T17:25:46.724952Z",
     "iopub.status.idle": "2021-06-16T17:25:46.741221Z",
     "shell.execute_reply": "2021-06-16T17:25:46.740449Z",
     "shell.execute_reply.started": "2021-06-16T17:25:46.725135Z"
    }
   },
   "outputs": [],
   "source": [
    "import ecephys_analyses as ea \n",
    "from ecephys import utils\n",
    "from ecephys.signal.xarray_utils import filter_dataset_by_hypnogram"
   ]
  },
  {
   "cell_type": "code",
   "execution_count": 6,
   "metadata": {
    "execution": {
     "iopub.execute_input": "2021-06-16T17:02:41.472109Z",
     "iopub.status.busy": "2021-06-16T17:02:41.471705Z",
     "iopub.status.idle": "2021-06-16T17:02:41.492175Z",
     "shell.execute_reply": "2021-06-16T17:02:41.491543Z",
     "shell.execute_reply.started": "2021-06-16T17:02:41.472058Z"
    }
   },
   "outputs": [],
   "source": [
    "subjects = [\"Segundo\", \"Valentino\", \"Doppio\", \"Alessandro\", \"Allan\"]\n",
    "experiment = \"sleep-homeostasis\"\n",
    "\n",
    "norm_condition = \"light-period-circadian-match\"\n",
    "light_period_start = '09:00:00'\n",
    "light_period_end = '21:00:00'\n",
    "norm_states = [\"N1\", \"N2\"]\n",
    "\n",
    "condition = \"extended-wake\"\n",
    "states = [\"aWk\", \"qWk\"]\n",
    "duration = '02:00:00'"
   ]
  },
  {
   "cell_type": "code",
   "execution_count": 86,
   "metadata": {
    "execution": {
     "iopub.execute_input": "2021-06-16T17:57:11.906508Z",
     "iopub.status.busy": "2021-06-16T17:57:11.906009Z",
     "iopub.status.idle": "2021-06-16T17:57:11.936310Z",
     "shell.execute_reply": "2021-06-16T17:57:11.935452Z",
     "shell.execute_reply.started": "2021-06-16T17:57:11.906447Z"
    }
   },
   "outputs": [],
   "source": [
    "def get_power_summary(f_range, band_name):\n",
    "    mean_power = dict()\n",
    "    total_power = dict()\n",
    "\n",
    "    for subject in subjects:\n",
    "        norm_hyp = ea.load_hypnogram(subject, experiment, norm_condition)\n",
    "        norm_hyp = norm_hyp.keep_states(norm_states).keep_between(light_period_start, light_period_end)\n",
    "\n",
    "        norm_pwr = ea.load_power(subject, experiment, norm_condition, \"spg.nc\").sel(frequency=slice(*f_range)).sum(dim=\"frequency\")\n",
    "        norm_pwr = filter_dataset_by_hypnogram(norm_pwr, norm_hyp).swap_dims({'time': 'datetime'}).drop_vars(['time', 'timedelta'])\n",
    "\n",
    "        hyp = ea.load_hypnogram(subject, experiment, condition)\n",
    "        hyp = hyp.keep_states(states).keep_last(duration)\n",
    "\n",
    "        pwr = ea.load_power(subject, experiment, condition, \"spg.nc\").sel(frequency=slice(*f_range)).sum(dim='frequency')\n",
    "        pwr = filter_dataset_by_hypnogram(pwr, hyp).swap_dims({'time': 'datetime'}).drop_vars(['time', 'timedelta'])\n",
    "        pwr = pwr / norm_pwr.mean(dim=\"datetime\") * 100\n",
    "\n",
    "        mean_power[subject] = pwr.to_dataframe().mean()\n",
    "        total_power[subject] = pwr.to_dataframe().sum()\n",
    "\n",
    "    mean_power_df = pd.concat(mean_power, names=['subject', 'region']).to_frame(name=f'mean_{band_name}')\n",
    "    total_power_df = pd.concat(total_power, names=['subject', 'region']).to_frame(name=f'total_{band_name}')\n",
    "    df = mean_power_df.join(total_power_df)\n",
    "    \n",
    "    return df"
   ]
  },
  {
   "cell_type": "code",
   "execution_count": 87,
   "metadata": {
    "execution": {
     "iopub.execute_input": "2021-06-16T17:57:12.607041Z",
     "iopub.status.busy": "2021-06-16T17:57:12.606604Z",
     "iopub.status.idle": "2021-06-16T17:57:58.372364Z",
     "shell.execute_reply": "2021-06-16T17:57:58.371527Z",
     "shell.execute_reply.started": "2021-06-16T17:57:12.606986Z"
    }
   },
   "outputs": [],
   "source": [
    "delta_df = get_power_summary((0.5, 4), 'delta')"
   ]
  },
  {
   "cell_type": "code",
   "execution_count": 89,
   "metadata": {
    "execution": {
     "iopub.execute_input": "2021-06-16T17:58:40.915923Z",
     "iopub.status.busy": "2021-06-16T17:58:40.915714Z",
     "iopub.status.idle": "2021-06-16T17:59:29.910186Z",
     "shell.execute_reply": "2021-06-16T17:59:29.909446Z",
     "shell.execute_reply.started": "2021-06-16T17:58:40.915902Z"
    }
   },
   "outputs": [],
   "source": [
    "theta_df = get_power_summary((5, 10), 'theta')"
   ]
  },
  {
   "cell_type": "code",
   "execution_count": 90,
   "metadata": {
    "execution": {
     "iopub.execute_input": "2021-06-16T17:59:29.953096Z",
     "iopub.status.busy": "2021-06-16T17:59:29.952966Z",
     "iopub.status.idle": "2021-06-16T18:00:18.405270Z",
     "shell.execute_reply": "2021-06-16T18:00:18.404175Z",
     "shell.execute_reply.started": "2021-06-16T17:59:29.953079Z"
    }
   },
   "outputs": [],
   "source": [
    "fast_gamma_df = get_power_summary((60, 120), 'fast_gamma')"
   ]
  },
  {
   "cell_type": "code",
   "execution_count": 93,
   "metadata": {
    "execution": {
     "iopub.execute_input": "2021-06-16T18:00:43.854713Z",
     "iopub.status.busy": "2021-06-16T18:00:43.854221Z",
     "iopub.status.idle": "2021-06-16T18:00:43.877981Z",
     "shell.execute_reply": "2021-06-16T18:00:43.877250Z",
     "shell.execute_reply.started": "2021-06-16T18:00:43.854653Z"
    }
   },
   "outputs": [],
   "source": [
    "df = pd.concat([delta_df, theta_df, fast_gamma_df], axis=1).assign(condition='extended-wake-last2h')"
   ]
  },
  {
   "cell_type": "code",
   "execution_count": 95,
   "metadata": {
    "execution": {
     "iopub.execute_input": "2021-06-16T18:01:16.222646Z",
     "iopub.status.busy": "2021-06-16T18:01:16.222150Z",
     "iopub.status.idle": "2021-06-16T18:01:16.242947Z",
     "shell.execute_reply": "2021-06-16T18:01:16.242307Z",
     "shell.execute_reply.started": "2021-06-16T18:01:16.222587Z"
    }
   },
   "outputs": [],
   "source": [
    "df.to_csv('extended-wake-last2h.csv')"
   ]
  }
 ],
 "metadata": {
  "kernelspec": {
   "display_name": "Python 3",
   "language": "python",
   "name": "python3"
  },
  "language_info": {
   "codemirror_mode": {
    "name": "ipython",
    "version": 3
   },
   "file_extension": ".py",
   "mimetype": "text/x-python",
   "name": "python",
   "nbconvert_exporter": "python",
   "pygments_lexer": "ipython3",
   "version": "3.7.9"
  }
 },
 "nbformat": 4,
 "nbformat_minor": 4
}
