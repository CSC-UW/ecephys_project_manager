{
 "cells": [
  {
   "cell_type": "code",
   "execution_count": 1,
   "metadata": {
    "execution": {
     "iopub.execute_input": "2021-07-06T18:39:27.316161Z",
     "iopub.status.busy": "2021-07-06T18:39:27.315671Z",
     "iopub.status.idle": "2021-07-06T18:39:27.334949Z",
     "shell.execute_reply": "2021-07-06T18:39:27.334312Z",
     "shell.execute_reply.started": "2021-07-06T18:39:27.316099Z"
    }
   },
   "outputs": [],
   "source": [
    "%load_ext autoreload\n",
    "%autoreload 2\n",
    "# %matplotlib widget"
   ]
  },
  {
   "cell_type": "code",
   "execution_count": 2,
   "metadata": {
    "execution": {
     "iopub.execute_input": "2021-07-06T18:39:27.576859Z",
     "iopub.status.busy": "2021-07-06T18:39:27.576517Z",
     "iopub.status.idle": "2021-07-06T18:39:28.114394Z",
     "shell.execute_reply": "2021-07-06T18:39:28.113694Z",
     "shell.execute_reply.started": "2021-07-06T18:39:27.576815Z"
    }
   },
   "outputs": [],
   "source": [
    "import xarray as xr\n",
    "import numpy as np\n",
    "import pandas as pd\n",
    "\n",
    "import ecephys_analyses as ea \n",
    "\n",
    "import matplotlib.pyplot as plt\n",
    "import seaborn as sns"
   ]
  },
  {
   "cell_type": "code",
   "execution_count": 3,
   "metadata": {
    "execution": {
     "iopub.execute_input": "2021-07-06T18:39:28.129551Z",
     "iopub.status.busy": "2021-07-06T18:39:28.129420Z",
     "iopub.status.idle": "2021-07-06T18:39:28.140682Z",
     "shell.execute_reply": "2021-07-06T18:39:28.140169Z",
     "shell.execute_reply.started": "2021-07-06T18:39:28.129534Z"
    }
   },
   "outputs": [
    {
     "data": {
      "text/plain": [
       "<xarray.core.options.set_options at 0x7f3fd5da8290>"
      ]
     },
     "execution_count": 3,
     "metadata": {},
     "output_type": "execute_result"
    }
   ],
   "source": [
    "xr.set_options(keep_attrs=True)"
   ]
  },
  {
   "cell_type": "code",
   "execution_count": 4,
   "metadata": {
    "execution": {
     "iopub.execute_input": "2021-07-06T18:39:28.255982Z",
     "iopub.status.busy": "2021-07-06T18:39:28.255841Z",
     "iopub.status.idle": "2021-07-06T18:39:28.270600Z",
     "shell.execute_reply": "2021-07-06T18:39:28.270079Z",
     "shell.execute_reply.started": "2021-07-06T18:39:28.255966Z"
    }
   },
   "outputs": [],
   "source": [
    "def summarize(subject, condition, hyp, spws):\n",
    "    count = len(spws)\n",
    "    duration = hyp.duration.cumsum().max() / pd.to_timedelta(1, 's')\n",
    "    rate = count / duration\n",
    "    return dict(subject=subject, condition=condition, count=count, duration_secs=duration, rate_hz=rate)"
   ]
  },
  {
   "cell_type": "code",
   "execution_count": 7,
   "metadata": {
    "execution": {
     "iopub.execute_input": "2021-07-06T20:31:29.392923Z",
     "iopub.status.busy": "2021-07-06T20:31:29.392435Z",
     "iopub.status.idle": "2021-07-06T20:31:54.671897Z",
     "shell.execute_reply": "2021-07-06T20:31:54.671068Z",
     "shell.execute_reply.started": "2021-07-06T20:31:29.392862Z"
    }
   },
   "outputs": [],
   "source": [
    "subjects = [\"Segundo\", \"Valentino\", \"Doppio\", \"Alessandro\", \"Eugene\", \"Allan\"]\n",
    "\n",
    "subj_dfs = list()\n",
    "for subject in subjects:\n",
    "    norm_hyp, norm_spws = ea.load_baseline_light_period_nrem(subject)\n",
    "    dep_hyp, dep_spws = ea.load_deprivation(subject)\n",
    "    early_dep_hyp, early_dep_spws = ea.load_early_deprivation(subject)\n",
    "    late_dep_hyp, late_dep_spws = ea.load_late_deprivation(subject)\n",
    "    early_dep_aWk_hyp, early_dep_aWk_spws = ea.load_early_deprivation(subject, states=['aWk'])\n",
    "    late_dep_aWk_hyp, late_dep_aWk_spws = ea.load_late_deprivation(subject, states=['aWk'])\n",
    "    early_dep_qWk_hyp, early_dep_qWk_spws = ea.load_early_deprivation(subject, states=['qWk'])\n",
    "    late_dep_qWk_hyp, late_dep_qWk_spws = ea.load_late_deprivation(subject, states=['qWk'])\n",
    "    early_rec_hyp, early_rec_spws = ea.load_early_recovery_nrem(subject)\n",
    "    late_rec_hyp, late_rec_spws = ea.load_late_recovery_nrem(subject)\n",
    "    rec_2h_hyp, rec_2h_spws = ea.load_first2h_recovery_nrem(subject)\n",
    "    rec_6h_hyp, rec_6h_spws = ea.load_recovery_nrem(subject)\n",
    "    bsl_2h_hyp, bsl_2h_spws = ea.load_first2h_recovery_match_nrem(subject, rec_2h_hyp)\n",
    "\n",
    "    subj_dfs.append(\n",
    "        pd.DataFrame.from_dict(\n",
    "            [\n",
    "                summarize(subject, \"baseline-light-period-nrem\", norm_hyp, norm_spws),\n",
    "                summarize(subject, \"recovery-first2h-match\", bsl_2h_hyp, bsl_2h_spws),\n",
    "                summarize(subject, \"recovery-first2h\", rec_2h_hyp, rec_2h_spws),\n",
    "                summarize(subject, \"recovery-first1h\", early_rec_hyp, early_rec_spws),\n",
    "                summarize(subject, \"recovery-last1h\", late_rec_hyp, late_rec_spws),\n",
    "                summarize(subject, \"recovery-full\", rec_6h_hyp, rec_6h_spws),\n",
    "                summarize(subject, \"deprivation\", dep_hyp, dep_spws),\n",
    "                summarize(subject, \"deprivation-first1h\", early_dep_hyp, early_dep_spws),\n",
    "                summarize(subject, \"deprivation-last1h\", late_dep_hyp, late_dep_spws),\n",
    "                summarize(subject, \"deprivation-first1h-aWk\", early_dep_aWk_hyp, early_dep_aWk_spws),\n",
    "                summarize(subject, \"deprivation-last1h-aWk\", late_dep_aWk_hyp, late_dep_aWk_spws),\n",
    "                summarize(subject, \"deprivation-first1h-qWk\", early_dep_qWk_hyp, early_dep_qWk_spws),\n",
    "                summarize(subject, \"deprivation-last1h-qWk\", late_dep_qWk_hyp, late_dep_qWk_spws)\n",
    "            ]\n",
    "        )\n",
    "    )\n",
    "    \n",
    "df = pd.concat(subj_dfs)"
   ]
  },
  {
   "cell_type": "code",
   "execution_count": 8,
   "metadata": {
    "execution": {
     "iopub.execute_input": "2021-07-06T20:31:54.744191Z",
     "iopub.status.busy": "2021-07-06T20:31:54.744054Z",
     "iopub.status.idle": "2021-07-06T20:31:54.758618Z",
     "shell.execute_reply": "2021-07-06T20:31:54.758160Z",
     "shell.execute_reply.started": "2021-07-06T20:31:54.744174Z"
    }
   },
   "outputs": [],
   "source": [
    "df.to_csv('spw-incidence.csv', index=False)"
   ]
  },
  {
   "cell_type": "code",
   "execution_count": null,
   "metadata": {},
   "outputs": [],
   "source": []
  }
 ],
 "metadata": {
  "kernelspec": {
   "display_name": "Python 3",
   "language": "python",
   "name": "python3"
  },
  "language_info": {
   "codemirror_mode": {
    "name": "ipython",
    "version": 3
   },
   "file_extension": ".py",
   "mimetype": "text/x-python",
   "name": "python",
   "nbconvert_exporter": "python",
   "pygments_lexer": "ipython3",
   "version": "3.7.9"
  }
 },
 "nbformat": 4,
 "nbformat_minor": 4
}
