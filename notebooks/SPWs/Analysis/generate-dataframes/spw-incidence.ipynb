{
 "cells": [
  {
   "cell_type": "code",
   "execution_count": 1,
   "metadata": {
    "execution": {
     "iopub.execute_input": "2021-06-17T23:30:38.917635Z",
     "iopub.status.busy": "2021-06-17T23:30:38.917163Z",
     "iopub.status.idle": "2021-06-17T23:30:38.935437Z",
     "shell.execute_reply": "2021-06-17T23:30:38.934796Z",
     "shell.execute_reply.started": "2021-06-17T23:30:38.917573Z"
    }
   },
   "outputs": [],
   "source": [
    "%load_ext autoreload\n",
    "%autoreload 2\n",
    "# %matplotlib widget"
   ]
  },
  {
   "cell_type": "code",
   "execution_count": 2,
   "metadata": {
    "execution": {
     "iopub.execute_input": "2021-06-17T23:30:39.851124Z",
     "iopub.status.busy": "2021-06-17T23:30:39.850865Z",
     "iopub.status.idle": "2021-06-17T23:30:40.411218Z",
     "shell.execute_reply": "2021-06-17T23:30:40.410401Z",
     "shell.execute_reply.started": "2021-06-17T23:30:39.851094Z"
    }
   },
   "outputs": [],
   "source": [
    "import xarray as xr\n",
    "import numpy as np\n",
    "import pandas as pd\n",
    "\n",
    "import ecephys_analyses as ea \n",
    "\n",
    "import matplotlib.pyplot as plt\n",
    "import seaborn as sns"
   ]
  },
  {
   "cell_type": "code",
   "execution_count": 3,
   "metadata": {
    "execution": {
     "iopub.execute_input": "2021-06-17T23:30:40.878320Z",
     "iopub.status.busy": "2021-06-17T23:30:40.878053Z",
     "iopub.status.idle": "2021-06-17T23:30:40.895987Z",
     "shell.execute_reply": "2021-06-17T23:30:40.895420Z",
     "shell.execute_reply.started": "2021-06-17T23:30:40.878286Z"
    }
   },
   "outputs": [
    {
     "data": {
      "text/plain": [
       "<xarray.core.options.set_options at 0x7fe858f2ec50>"
      ]
     },
     "execution_count": 3,
     "metadata": {},
     "output_type": "execute_result"
    }
   ],
   "source": [
    "xr.set_options(keep_attrs=True)"
   ]
  },
  {
   "cell_type": "code",
   "execution_count": 4,
   "metadata": {
    "execution": {
     "iopub.execute_input": "2021-06-17T23:30:41.241999Z",
     "iopub.status.busy": "2021-06-17T23:30:41.241605Z",
     "iopub.status.idle": "2021-06-17T23:30:41.284192Z",
     "shell.execute_reply": "2021-06-17T23:30:41.283567Z",
     "shell.execute_reply.started": "2021-06-17T23:30:41.241948Z"
    }
   },
   "outputs": [],
   "source": [
    "experiment = \"sleep-homeostasis\"\n",
    "nrem = [\"N1\", \"N2\"]\n",
    "light_period_start = \"09:00:00\"\n",
    "light_period_end = \"21:00:00\"\n",
    "\n",
    "\n",
    "def load_baseline_light_period_nrem(subject):\n",
    "    condition = \"light-period-circadian-match\"\n",
    "    hyp = ea.load_hypnogram(subject, experiment, condition)\n",
    "    hyp = hyp.keep_states(nrem).keep_between(light_period_start, light_period_end)\n",
    "    spws = ea.load_spws(subject, experiment, condition)\n",
    "    spws = spws[hyp.covers_time(spws.start_time)]\n",
    "    return hyp, spws\n",
    "\n",
    "\n",
    "def load_early_recovery_nrem(subject):\n",
    "    condition = \"recovery-sleep\"\n",
    "    duration = \"01:00:00\"\n",
    "    hyp = ea.load_hypnogram(subject, experiment, condition)\n",
    "    hyp = hyp.keep_states(nrem).keep_first(duration)\n",
    "    spws = ea.load_spws(subject, experiment, condition)\n",
    "    spws = spws[hyp.covers_time(spws.start_time)]\n",
    "    return hyp, spws\n",
    "\n",
    "\n",
    "def load_late_recovery_nrem(subject):\n",
    "    condition = \"recovery-sleep\"\n",
    "    duration = \"01:00:00\"\n",
    "    hyp = ea.load_hypnogram(subject, experiment, condition)\n",
    "    hyp = hyp.keep_states(nrem).keep_last(duration)\n",
    "    spws = ea.load_spws(subject, experiment, condition)\n",
    "    spws = spws[hyp.covers_time(spws.start_time)]\n",
    "    return hyp, spws\n",
    "\n",
    "\n",
    "def load_first2h_recovery_nrem(subject):\n",
    "    condition = \"recovery-sleep\"\n",
    "    duration = \"02:00:00\"\n",
    "    hyp = ea.load_hypnogram(subject, experiment, condition)\n",
    "    hyp = hyp.keep_states(nrem).keep_first(duration)\n",
    "    spws = ea.load_spws(subject, experiment, condition)\n",
    "    spws = spws[hyp.covers_time(spws.start_time)]\n",
    "    return hyp, spws\n",
    "\n",
    "\n",
    "def load_first2h_recovery_match_nrem(subject, rec_hyp):\n",
    "    condition = \"recovery-sleep-circadian-match\"\n",
    "    duration = \"02:00:00\"\n",
    "    hyp = ea.load_hypnogram(subject, experiment, condition)\n",
    "    hyp = (\n",
    "        hyp.keep_states(nrem)\n",
    "        .keep_between(rec_hyp.start_time.min().strftime(\"%H:%M:%S\"), light_period_end)\n",
    "        .keep_first(duration)\n",
    "    )\n",
    "    spws = ea.load_spws(subject, experiment, condition)\n",
    "    spws = spws[hyp.covers_time(spws.start_time)]\n",
    "    return hyp, spws"
   ]
  },
  {
   "cell_type": "code",
   "execution_count": 5,
   "metadata": {
    "execution": {
     "iopub.execute_input": "2021-06-17T23:30:41.689279Z",
     "iopub.status.busy": "2021-06-17T23:30:41.688960Z",
     "iopub.status.idle": "2021-06-17T23:30:41.708735Z",
     "shell.execute_reply": "2021-06-17T23:30:41.707950Z",
     "shell.execute_reply.started": "2021-06-17T23:30:41.689242Z"
    }
   },
   "outputs": [],
   "source": [
    "def summarize(subject, condition, hyp, spws):\n",
    "    count = len(spws)\n",
    "    duration = hyp.duration.cumsum().max() / pd.to_timedelta(1, 's')\n",
    "    rate = count / duration\n",
    "    return dict(subject=subject, condition=condition, count=count, duration_secs=duration, rate_hz=rate)"
   ]
  },
  {
   "cell_type": "code",
   "execution_count": 6,
   "metadata": {
    "execution": {
     "iopub.execute_input": "2021-06-17T23:30:42.113043Z",
     "iopub.status.busy": "2021-06-17T23:30:42.112630Z",
     "iopub.status.idle": "2021-06-17T23:30:49.868455Z",
     "shell.execute_reply": "2021-06-17T23:30:49.867630Z",
     "shell.execute_reply.started": "2021-06-17T23:30:42.112992Z"
    }
   },
   "outputs": [],
   "source": [
    "subjects = [\"Segundo\", \"Valentino\", \"Doppio\", \"Alessandro\", \"Allan\"]\n",
    "\n",
    "subj_dfs = list()\n",
    "for subject in subjects:\n",
    "    norm_hyp, norm_spws = load_baseline_light_period_nrem(subject)\n",
    "    early_hyp, early_spws = load_early_recovery_nrem(subject)\n",
    "    late_hyp, late_spws = load_late_recovery_nrem(subject)\n",
    "    rec_hyp, rec_spws = load_first2h_recovery_nrem(subject)\n",
    "    bsl_hyp, bsl_spws = load_first2h_recovery_match_nrem(subject, rec_hyp)\n",
    "\n",
    "    subj_dfs.append(\n",
    "        pd.DataFrame.from_dict(\n",
    "            [\n",
    "                summarize(subject, \"baseline-light-period-nrem\", norm_hyp, norm_spws),\n",
    "                summarize(subject, \"recovery-first2h-match\", bsl_hyp, bsl_spws),\n",
    "                summarize(subject, \"recovery-first2h\", rec_hyp, rec_spws),\n",
    "                summarize(subject, \"recovery-first1h\", early_hyp, early_spws),\n",
    "                summarize(subject, \"recovery-last1h\", late_hyp, late_spws),\n",
    "            ]\n",
    "        )\n",
    "    )\n",
    "    \n",
    "df = pd.concat(subj_dfs)"
   ]
  },
  {
   "cell_type": "code",
   "execution_count": 10,
   "metadata": {
    "execution": {
     "iopub.execute_input": "2021-06-17T23:33:40.135377Z",
     "iopub.status.busy": "2021-06-17T23:33:40.134922Z",
     "iopub.status.idle": "2021-06-17T23:33:40.158351Z",
     "shell.execute_reply": "2021-06-17T23:33:40.157698Z",
     "shell.execute_reply.started": "2021-06-17T23:33:40.135321Z"
    }
   },
   "outputs": [],
   "source": [
    "df.to_csv('spw-incidence.csv', index=False)"
   ]
  },
  {
   "cell_type": "code",
   "execution_count": null,
   "metadata": {},
   "outputs": [],
   "source": []
  }
 ],
 "metadata": {
  "kernelspec": {
   "display_name": "Python 3",
   "language": "python",
   "name": "python3"
  },
  "language_info": {
   "codemirror_mode": {
    "name": "ipython",
    "version": 3
   },
   "file_extension": ".py",
   "mimetype": "text/x-python",
   "name": "python",
   "nbconvert_exporter": "python",
   "pygments_lexer": "ipython3",
   "version": "3.7.9"
  }
 },
 "nbformat": 4,
 "nbformat_minor": 4
}
