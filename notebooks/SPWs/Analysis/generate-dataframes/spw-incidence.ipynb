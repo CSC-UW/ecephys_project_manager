{
 "cells": [
  {
   "cell_type": "code",
   "execution_count": 1,
   "metadata": {
    "execution": {
     "iopub.execute_input": "2021-06-22T22:11:17.787413Z",
     "iopub.status.busy": "2021-06-22T22:11:17.787287Z",
     "iopub.status.idle": "2021-06-22T22:11:17.796196Z",
     "shell.execute_reply": "2021-06-22T22:11:17.795749Z",
     "shell.execute_reply.started": "2021-06-22T22:11:17.787398Z"
    }
   },
   "outputs": [],
   "source": [
    "%load_ext autoreload\n",
    "%autoreload 2\n",
    "# %matplotlib widget"
   ]
  },
  {
   "cell_type": "code",
   "execution_count": 2,
   "metadata": {
    "execution": {
     "iopub.execute_input": "2021-06-22T22:11:17.796891Z",
     "iopub.status.busy": "2021-06-22T22:11:17.796769Z",
     "iopub.status.idle": "2021-06-22T22:11:18.346540Z",
     "shell.execute_reply": "2021-06-22T22:11:18.345927Z",
     "shell.execute_reply.started": "2021-06-22T22:11:17.796875Z"
    }
   },
   "outputs": [],
   "source": [
    "import xarray as xr\n",
    "import numpy as np\n",
    "import pandas as pd\n",
    "\n",
    "import ecephys_analyses as ea \n",
    "\n",
    "import matplotlib.pyplot as plt\n",
    "import seaborn as sns"
   ]
  },
  {
   "cell_type": "code",
   "execution_count": 3,
   "metadata": {
    "execution": {
     "iopub.execute_input": "2021-06-22T22:11:18.372057Z",
     "iopub.status.busy": "2021-06-22T22:11:18.371934Z",
     "iopub.status.idle": "2021-06-22T22:11:18.385954Z",
     "shell.execute_reply": "2021-06-22T22:11:18.385546Z",
     "shell.execute_reply.started": "2021-06-22T22:11:18.372041Z"
    }
   },
   "outputs": [
    {
     "data": {
      "text/plain": [
       "<xarray.core.options.set_options at 0x7f83b74032d0>"
      ]
     },
     "execution_count": 3,
     "metadata": {},
     "output_type": "execute_result"
    }
   ],
   "source": [
    "xr.set_options(keep_attrs=True)"
   ]
  },
  {
   "cell_type": "code",
   "execution_count": 4,
   "metadata": {
    "execution": {
     "iopub.execute_input": "2021-06-22T22:11:18.386584Z",
     "iopub.status.busy": "2021-06-22T22:11:18.386459Z",
     "iopub.status.idle": "2021-06-22T22:11:18.396237Z",
     "shell.execute_reply": "2021-06-22T22:11:18.395832Z",
     "shell.execute_reply.started": "2021-06-22T22:11:18.386569Z"
    }
   },
   "outputs": [],
   "source": [
    "def summarize(subject, condition, hyp, spws):\n",
    "    count = len(spws)\n",
    "    duration = hyp.duration.cumsum().max() / pd.to_timedelta(1, 's')\n",
    "    rate = count / duration\n",
    "    return dict(subject=subject, condition=condition, count=count, duration_secs=duration, rate_hz=rate)"
   ]
  },
  {
   "cell_type": "code",
   "execution_count": 7,
   "metadata": {
    "execution": {
     "iopub.execute_input": "2021-06-22T22:17:18.389786Z",
     "iopub.status.busy": "2021-06-22T22:17:18.389274Z",
     "iopub.status.idle": "2021-06-22T22:18:58.693128Z",
     "shell.execute_reply": "2021-06-22T22:18:58.692286Z",
     "shell.execute_reply.started": "2021-06-22T22:17:18.389724Z"
    }
   },
   "outputs": [],
   "source": [
    "subjects = [\"Segundo\", \"Valentino\", \"Doppio\", \"Alessandro\", \"Allan\"]\n",
    "\n",
    "subj_dfs = list()\n",
    "for subject in subjects:\n",
    "    norm_hyp, norm_spws = ea.load_baseline_light_period_nrem(subject)\n",
    "    dep_hyp, dep_spws = ea.load_deprivation(subject)\n",
    "    early_hyp, early_spws = ea.load_early_recovery_nrem(subject)\n",
    "    late_hyp, late_spws = ea.load_late_recovery_nrem(subject)\n",
    "    rec_2h_hyp, rec_2h_spws = ea.load_first2h_recovery_nrem(subject)\n",
    "    rec_6h_hyp, rec_6h_spws = ea.load_recovery_nrem(subject)\n",
    "    bsl_2h_hyp, bsl_2h_spws = ea.load_first2h_recovery_match_nrem(subject, rec_2h_hyp)\n",
    "\n",
    "    subj_dfs.append(\n",
    "        pd.DataFrame.from_dict(\n",
    "            [\n",
    "                summarize(subject, \"baseline-light-period-nrem\", norm_hyp, norm_spws),\n",
    "                summarize(subject, \"recovery-first2h-match\", bsl_2h_hyp, bsl_2h_spws),\n",
    "                summarize(subject, \"recovery-first2h\", rec_2h_hyp, rec_2h_spws),\n",
    "                summarize(subject, \"recovery-first1h\", early_hyp, early_spws),\n",
    "                summarize(subject, \"recovery-last1h\", late_hyp, late_spws),\n",
    "                summarize(subject, \"recovery-full\", rec_6h_hyp, rec_6h_spws),\n",
    "                summarize(subject, \"deprivation\", dep_hyp, dep_spws)\n",
    "            ]\n",
    "        )\n",
    "    )\n",
    "    \n",
    "df = pd.concat(subj_dfs)"
   ]
  },
  {
   "cell_type": "code",
   "execution_count": 8,
   "metadata": {
    "execution": {
     "iopub.execute_input": "2021-06-22T22:18:58.750550Z",
     "iopub.status.busy": "2021-06-22T22:18:58.750421Z",
     "iopub.status.idle": "2021-06-22T22:18:58.763858Z",
     "shell.execute_reply": "2021-06-22T22:18:58.763411Z",
     "shell.execute_reply.started": "2021-06-22T22:18:58.750532Z"
    }
   },
   "outputs": [],
   "source": [
    "df.to_csv('spw-incidence.csv', index=False)"
   ]
  },
  {
   "cell_type": "code",
   "execution_count": null,
   "metadata": {},
   "outputs": [],
   "source": []
  }
 ],
 "metadata": {
  "kernelspec": {
   "display_name": "Python 3",
   "language": "python",
   "name": "python3"
  },
  "language_info": {
   "codemirror_mode": {
    "name": "ipython",
    "version": 3
   },
   "file_extension": ".py",
   "mimetype": "text/x-python",
   "name": "python",
   "nbconvert_exporter": "python",
   "pygments_lexer": "ipython3",
   "version": "3.7.9"
  }
 },
 "nbformat": 4,
 "nbformat_minor": 4
}
