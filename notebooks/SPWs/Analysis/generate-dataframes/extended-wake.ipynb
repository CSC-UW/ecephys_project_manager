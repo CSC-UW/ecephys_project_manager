{
 "cells": [
  {
   "cell_type": "code",
   "execution_count": 1,
   "metadata": {
    "execution": {
     "iopub.execute_input": "2021-06-16T18:05:05.253654Z",
     "iopub.status.busy": "2021-06-16T18:05:05.253166Z",
     "iopub.status.idle": "2021-06-16T18:05:05.271377Z",
     "shell.execute_reply": "2021-06-16T18:05:05.270706Z",
     "shell.execute_reply.started": "2021-06-16T18:05:05.253596Z"
    }
   },
   "outputs": [],
   "source": [
    "%load_ext autoreload\n",
    "%autoreload 2"
   ]
  },
  {
   "cell_type": "code",
   "execution_count": 2,
   "metadata": {
    "execution": {
     "iopub.execute_input": "2021-06-16T18:05:05.552353Z",
     "iopub.status.busy": "2021-06-16T18:05:05.552010Z",
     "iopub.status.idle": "2021-06-16T18:05:05.896976Z",
     "shell.execute_reply": "2021-06-16T18:05:05.896215Z",
     "shell.execute_reply.started": "2021-06-16T18:05:05.552313Z"
    }
   },
   "outputs": [],
   "source": [
    "# %matplotlib widget\n",
    "import matplotlib.pyplot as plt\n",
    "import seaborn as sns"
   ]
  },
  {
   "cell_type": "code",
   "execution_count": 3,
   "metadata": {
    "execution": {
     "iopub.execute_input": "2021-06-16T18:05:05.909719Z",
     "iopub.status.busy": "2021-06-16T18:05:05.909588Z",
     "iopub.status.idle": "2021-06-16T18:05:06.129406Z",
     "shell.execute_reply": "2021-06-16T18:05:06.128255Z",
     "shell.execute_reply.started": "2021-06-16T18:05:05.909703Z"
    }
   },
   "outputs": [],
   "source": [
    "import xarray as xr\n",
    "import numpy as np\n",
    "import pandas as pd"
   ]
  },
  {
   "cell_type": "code",
   "execution_count": 4,
   "metadata": {
    "execution": {
     "iopub.execute_input": "2021-06-16T18:05:06.241986Z",
     "iopub.status.busy": "2021-06-16T18:05:06.241616Z",
     "iopub.status.idle": "2021-06-16T18:05:06.260652Z",
     "shell.execute_reply": "2021-06-16T18:05:06.260072Z",
     "shell.execute_reply.started": "2021-06-16T18:05:06.241935Z"
    }
   },
   "outputs": [
    {
     "data": {
      "text/plain": [
       "<xarray.core.options.set_options at 0x7fec34138c90>"
      ]
     },
     "execution_count": 4,
     "metadata": {},
     "output_type": "execute_result"
    }
   ],
   "source": [
    "xr.set_options(keep_attrs=True)"
   ]
  },
  {
   "cell_type": "code",
   "execution_count": 5,
   "metadata": {
    "execution": {
     "iopub.execute_input": "2021-06-16T18:05:06.785794Z",
     "iopub.status.busy": "2021-06-16T18:05:06.785383Z",
     "iopub.status.idle": "2021-06-16T18:05:06.805827Z",
     "shell.execute_reply": "2021-06-16T18:05:06.805268Z",
     "shell.execute_reply.started": "2021-06-16T18:05:06.785745Z"
    }
   },
   "outputs": [],
   "source": [
    "import ecephys_analyses as ea \n",
    "from ecephys import utils\n",
    "from ecephys.signal.xarray_utils import filter_dataset_by_hypnogram"
   ]
  },
  {
   "cell_type": "code",
   "execution_count": 6,
   "metadata": {
    "execution": {
     "iopub.execute_input": "2021-06-16T18:05:21.789411Z",
     "iopub.status.busy": "2021-06-16T18:05:21.788900Z",
     "iopub.status.idle": "2021-06-16T18:05:21.810417Z",
     "shell.execute_reply": "2021-06-16T18:05:21.809638Z",
     "shell.execute_reply.started": "2021-06-16T18:05:21.789351Z"
    }
   },
   "outputs": [],
   "source": [
    "subjects = [\"Segundo\", \"Valentino\", \"Doppio\", \"Alessandro\", \"Allan\"]\n",
    "experiment = \"sleep-homeostasis\"\n",
    "\n",
    "norm_condition = \"light-period-circadian-match\"\n",
    "light_period_start = '09:00:00'\n",
    "light_period_end = '21:00:00'\n",
    "norm_states = [\"N1\", \"N2\"]\n",
    "\n",
    "condition = \"extended-wake\"\n",
    "states = [\"aWk\", \"qWk\"]"
   ]
  },
  {
   "cell_type": "code",
   "execution_count": 7,
   "metadata": {
    "execution": {
     "iopub.execute_input": "2021-06-16T18:05:49.750064Z",
     "iopub.status.busy": "2021-06-16T18:05:49.749578Z",
     "iopub.status.idle": "2021-06-16T18:05:49.780054Z",
     "shell.execute_reply": "2021-06-16T18:05:49.779433Z",
     "shell.execute_reply.started": "2021-06-16T18:05:49.750005Z"
    }
   },
   "outputs": [],
   "source": [
    "def get_power_summary(f_range, band_name):\n",
    "    mean_power = dict()\n",
    "    total_power = dict()\n",
    "\n",
    "    for subject in subjects:\n",
    "        norm_hyp = ea.load_hypnogram(subject, experiment, norm_condition)\n",
    "        norm_hyp = norm_hyp.keep_states(norm_states).keep_between(light_period_start, light_period_end)\n",
    "\n",
    "        norm_pwr = ea.load_power(subject, experiment, norm_condition, \"spg.nc\").sel(frequency=slice(*f_range)).sum(dim=\"frequency\")\n",
    "        norm_pwr = filter_dataset_by_hypnogram(norm_pwr, norm_hyp).swap_dims({'time': 'datetime'}).drop_vars(['time', 'timedelta'])\n",
    "\n",
    "        hyp = ea.load_hypnogram(subject, experiment, condition)\n",
    "        hyp = hyp.keep_states(states)\n",
    "\n",
    "        pwr = ea.load_power(subject, experiment, condition, \"spg.nc\").sel(frequency=slice(*f_range)).sum(dim='frequency')\n",
    "        pwr = filter_dataset_by_hypnogram(pwr, hyp).swap_dims({'time': 'datetime'}).drop_vars(['time', 'timedelta'])\n",
    "        pwr = pwr / norm_pwr.mean(dim=\"datetime\") * 100\n",
    "\n",
    "        mean_power[subject] = pwr.to_dataframe().mean()\n",
    "        total_power[subject] = pwr.to_dataframe().sum()\n",
    "\n",
    "    mean_power_df = pd.concat(mean_power, names=['subject', 'region']).to_frame(name=f'mean_{band_name}')\n",
    "    total_power_df = pd.concat(total_power, names=['subject', 'region']).to_frame(name=f'total_{band_name}')\n",
    "    df = mean_power_df.join(total_power_df)\n",
    "    \n",
    "    return df"
   ]
  },
  {
   "cell_type": "code",
   "execution_count": 8,
   "metadata": {
    "execution": {
     "iopub.execute_input": "2021-06-16T18:05:50.593952Z",
     "iopub.status.busy": "2021-06-16T18:05:50.593512Z",
     "iopub.status.idle": "2021-06-16T18:06:42.192037Z",
     "shell.execute_reply": "2021-06-16T18:06:42.191036Z",
     "shell.execute_reply.started": "2021-06-16T18:05:50.593898Z"
    }
   },
   "outputs": [],
   "source": [
    "delta_df = get_power_summary((0.5, 4), 'delta')"
   ]
  },
  {
   "cell_type": "code",
   "execution_count": 9,
   "metadata": {
    "execution": {
     "iopub.execute_input": "2021-06-16T18:06:42.211349Z",
     "iopub.status.busy": "2021-06-16T18:06:42.211218Z",
     "iopub.status.idle": "2021-06-16T18:07:30.999229Z",
     "shell.execute_reply": "2021-06-16T18:07:30.998552Z",
     "shell.execute_reply.started": "2021-06-16T18:06:42.211333Z"
    }
   },
   "outputs": [],
   "source": [
    "theta_df = get_power_summary((5, 10), 'theta')"
   ]
  },
  {
   "cell_type": "code",
   "execution_count": 10,
   "metadata": {
    "execution": {
     "iopub.execute_input": "2021-06-16T18:07:31.000398Z",
     "iopub.status.busy": "2021-06-16T18:07:31.000255Z",
     "iopub.status.idle": "2021-06-16T18:08:20.495230Z",
     "shell.execute_reply": "2021-06-16T18:08:20.494404Z",
     "shell.execute_reply.started": "2021-06-16T18:07:31.000381Z"
    }
   },
   "outputs": [],
   "source": [
    "fast_gamma_df = get_power_summary((60, 120), 'fast_gamma')"
   ]
  },
  {
   "cell_type": "code",
   "execution_count": 11,
   "metadata": {
    "execution": {
     "iopub.execute_input": "2021-06-16T18:08:20.496277Z",
     "iopub.status.busy": "2021-06-16T18:08:20.496124Z",
     "iopub.status.idle": "2021-06-16T18:08:20.512862Z",
     "shell.execute_reply": "2021-06-16T18:08:20.512091Z",
     "shell.execute_reply.started": "2021-06-16T18:08:20.496259Z"
    }
   },
   "outputs": [],
   "source": [
    "df = pd.concat([delta_df, theta_df, fast_gamma_df], axis=1).assign(condition='extended-wake')"
   ]
  },
  {
   "cell_type": "code",
   "execution_count": 12,
   "metadata": {
    "execution": {
     "iopub.execute_input": "2021-06-16T18:08:20.513700Z",
     "iopub.status.busy": "2021-06-16T18:08:20.513570Z",
     "iopub.status.idle": "2021-06-16T18:08:20.527026Z",
     "shell.execute_reply": "2021-06-16T18:08:20.526434Z",
     "shell.execute_reply.started": "2021-06-16T18:08:20.513684Z"
    }
   },
   "outputs": [],
   "source": [
    "df.to_csv('extended-wake.csv')"
   ]
  },
  {
   "cell_type": "code",
   "execution_count": null,
   "metadata": {},
   "outputs": [],
   "source": []
  }
 ],
 "metadata": {
  "kernelspec": {
   "display_name": "Python 3",
   "language": "python",
   "name": "python3"
  },
  "language_info": {
   "codemirror_mode": {
    "name": "ipython",
    "version": 3
   },
   "file_extension": ".py",
   "mimetype": "text/x-python",
   "name": "python",
   "nbconvert_exporter": "python",
   "pygments_lexer": "ipython3",
   "version": "3.7.9"
  }
 },
 "nbformat": 4,
 "nbformat_minor": 4
}
