{
 "cells": [
  {
   "cell_type": "code",
   "execution_count": 1,
   "metadata": {
    "execution": {
     "iopub.execute_input": "2021-06-16T18:02:18.761651Z",
     "iopub.status.busy": "2021-06-16T18:02:18.761054Z",
     "iopub.status.idle": "2021-06-16T18:02:18.778315Z",
     "shell.execute_reply": "2021-06-16T18:02:18.777529Z",
     "shell.execute_reply.started": "2021-06-16T18:02:18.761585Z"
    }
   },
   "outputs": [],
   "source": [
    "%load_ext autoreload\n",
    "%autoreload 2"
   ]
  },
  {
   "cell_type": "code",
   "execution_count": 2,
   "metadata": {
    "execution": {
     "iopub.execute_input": "2021-06-16T18:02:19.085467Z",
     "iopub.status.busy": "2021-06-16T18:02:19.084917Z",
     "iopub.status.idle": "2021-06-16T18:02:19.480078Z",
     "shell.execute_reply": "2021-06-16T18:02:19.479442Z",
     "shell.execute_reply.started": "2021-06-16T18:02:19.085405Z"
    }
   },
   "outputs": [],
   "source": [
    "# %matplotlib widget\n",
    "import matplotlib.pyplot as plt\n",
    "import seaborn as sns"
   ]
  },
  {
   "cell_type": "code",
   "execution_count": 3,
   "metadata": {
    "execution": {
     "iopub.execute_input": "2021-06-16T18:02:19.492277Z",
     "iopub.status.busy": "2021-06-16T18:02:19.492147Z",
     "iopub.status.idle": "2021-06-16T18:02:19.710194Z",
     "shell.execute_reply": "2021-06-16T18:02:19.709568Z",
     "shell.execute_reply.started": "2021-06-16T18:02:19.492261Z"
    }
   },
   "outputs": [],
   "source": [
    "import xarray as xr\n",
    "import numpy as np\n",
    "import pandas as pd"
   ]
  },
  {
   "cell_type": "code",
   "execution_count": 4,
   "metadata": {
    "execution": {
     "iopub.execute_input": "2021-06-16T18:02:19.723823Z",
     "iopub.status.busy": "2021-06-16T18:02:19.723697Z",
     "iopub.status.idle": "2021-06-16T18:02:19.734626Z",
     "shell.execute_reply": "2021-06-16T18:02:19.734075Z",
     "shell.execute_reply.started": "2021-06-16T18:02:19.723807Z"
    }
   },
   "outputs": [
    {
     "data": {
      "text/plain": [
       "<xarray.core.options.set_options at 0x7fe8d5472a90>"
      ]
     },
     "execution_count": 4,
     "metadata": {},
     "output_type": "execute_result"
    }
   ],
   "source": [
    "xr.set_options(keep_attrs=True)"
   ]
  },
  {
   "cell_type": "code",
   "execution_count": 5,
   "metadata": {
    "execution": {
     "iopub.execute_input": "2021-06-16T18:02:20.036201Z",
     "iopub.status.busy": "2021-06-16T18:02:20.035866Z",
     "iopub.status.idle": "2021-06-16T18:02:20.056622Z",
     "shell.execute_reply": "2021-06-16T18:02:20.055991Z",
     "shell.execute_reply.started": "2021-06-16T18:02:20.036157Z"
    }
   },
   "outputs": [],
   "source": [
    "import ecephys_analyses as ea \n",
    "from ecephys import utils\n",
    "from ecephys.signal.xarray_utils import filter_dataset_by_hypnogram"
   ]
  },
  {
   "cell_type": "code",
   "execution_count": 6,
   "metadata": {
    "execution": {
     "iopub.execute_input": "2021-06-16T18:02:21.501758Z",
     "iopub.status.busy": "2021-06-16T18:02:21.501273Z",
     "iopub.status.idle": "2021-06-16T18:02:21.522376Z",
     "shell.execute_reply": "2021-06-16T18:02:21.521582Z",
     "shell.execute_reply.started": "2021-06-16T18:02:21.501700Z"
    }
   },
   "outputs": [],
   "source": [
    "subjects = [\"Segundo\", \"Valentino\", \"Doppio\", \"Alessandro\", \"Allan\"]\n",
    "experiment = \"sleep-homeostasis\"\n",
    "\n",
    "norm_condition = \"light-period-circadian-match\"\n",
    "light_period_start = '09:00:00'\n",
    "light_period_end = '21:00:00'\n",
    "norm_states = [\"N1\", \"N2\"]\n",
    "\n",
    "condition = \"recovery-sleep\"\n",
    "states = [\"N1\", \"N2\"]\n",
    "duration = '02:00:00'"
   ]
  },
  {
   "cell_type": "code",
   "execution_count": 7,
   "metadata": {
    "execution": {
     "iopub.execute_input": "2021-06-16T18:03:00.706357Z",
     "iopub.status.busy": "2021-06-16T18:03:00.705871Z",
     "iopub.status.idle": "2021-06-16T18:03:00.736810Z",
     "shell.execute_reply": "2021-06-16T18:03:00.736004Z",
     "shell.execute_reply.started": "2021-06-16T18:03:00.706298Z"
    }
   },
   "outputs": [],
   "source": [
    "def get_power_summary(f_range, band_name):\n",
    "    mean_power = dict()\n",
    "    total_power = dict()\n",
    "\n",
    "    for subject in subjects:\n",
    "        norm_hyp = ea.load_hypnogram(subject, experiment, norm_condition)\n",
    "        norm_hyp = norm_hyp.keep_states(norm_states).keep_between(light_period_start, light_period_end)\n",
    "\n",
    "        norm_pwr = ea.load_power(subject, experiment, norm_condition, \"spg.nc\").sel(frequency=slice(*f_range)).sum(dim=\"frequency\")\n",
    "        norm_pwr = filter_dataset_by_hypnogram(norm_pwr, norm_hyp).swap_dims({'time': 'datetime'}).drop_vars(['time', 'timedelta'])\n",
    "\n",
    "        hyp = ea.load_hypnogram(subject, experiment, condition)\n",
    "        hyp = hyp.keep_states(states).keep_first(duration)\n",
    "\n",
    "        pwr = ea.load_power(subject, experiment, condition, \"spg.nc\").sel(frequency=slice(*f_range)).sum(dim='frequency')\n",
    "        pwr = filter_dataset_by_hypnogram(pwr, hyp).swap_dims({'time': 'datetime'}).drop_vars(['time', 'timedelta'])\n",
    "        pwr = pwr / norm_pwr.mean(dim=\"datetime\") * 100\n",
    "\n",
    "        mean_power[subject] = pwr.to_dataframe().mean()\n",
    "        total_power[subject] = pwr.to_dataframe().sum()\n",
    "\n",
    "    mean_power_df = pd.concat(mean_power, names=['subject', 'region']).to_frame(name=f'mean_{band_name}')\n",
    "    total_power_df = pd.concat(total_power, names=['subject', 'region']).to_frame(name=f'total_{band_name}')\n",
    "    df = mean_power_df.join(total_power_df)\n",
    "    \n",
    "    return df"
   ]
  },
  {
   "cell_type": "code",
   "execution_count": 8,
   "metadata": {
    "execution": {
     "iopub.execute_input": "2021-06-16T18:03:02.262570Z",
     "iopub.status.busy": "2021-06-16T18:03:02.262102Z",
     "iopub.status.idle": "2021-06-16T18:04:07.122392Z",
     "shell.execute_reply": "2021-06-16T18:04:07.121581Z",
     "shell.execute_reply.started": "2021-06-16T18:03:02.262512Z"
    }
   },
   "outputs": [],
   "source": [
    "delta_df = get_power_summary((0.5, 4), 'delta')"
   ]
  },
  {
   "cell_type": "code",
   "execution_count": 9,
   "metadata": {
    "execution": {
     "iopub.execute_input": "2021-06-16T18:04:07.141781Z",
     "iopub.status.busy": "2021-06-16T18:04:07.141649Z",
     "iopub.status.idle": "2021-06-16T18:04:54.724991Z",
     "shell.execute_reply": "2021-06-16T18:04:54.724194Z",
     "shell.execute_reply.started": "2021-06-16T18:04:07.141764Z"
    }
   },
   "outputs": [],
   "source": [
    "theta_df = get_power_summary((5, 10), 'theta')"
   ]
  },
  {
   "cell_type": "code",
   "execution_count": 10,
   "metadata": {
    "execution": {
     "iopub.execute_input": "2021-06-16T18:04:54.726058Z",
     "iopub.status.busy": "2021-06-16T18:04:54.725916Z",
     "iopub.status.idle": "2021-06-16T18:05:41.047010Z",
     "shell.execute_reply": "2021-06-16T18:05:41.046220Z",
     "shell.execute_reply.started": "2021-06-16T18:04:54.726039Z"
    }
   },
   "outputs": [],
   "source": [
    "fast_gamma_df = get_power_summary((60, 120), 'fast_gamma')"
   ]
  },
  {
   "cell_type": "code",
   "execution_count": 11,
   "metadata": {
    "execution": {
     "iopub.execute_input": "2021-06-16T18:05:41.048076Z",
     "iopub.status.busy": "2021-06-16T18:05:41.047921Z",
     "iopub.status.idle": "2021-06-16T18:05:41.064533Z",
     "shell.execute_reply": "2021-06-16T18:05:41.063708Z",
     "shell.execute_reply.started": "2021-06-16T18:05:41.048057Z"
    }
   },
   "outputs": [],
   "source": [
    "df = pd.concat([delta_df, theta_df, fast_gamma_df], axis=1).assign(condition='recovery-sleep-first2h')"
   ]
  },
  {
   "cell_type": "code",
   "execution_count": 12,
   "metadata": {
    "execution": {
     "iopub.execute_input": "2021-06-16T18:05:41.065243Z",
     "iopub.status.busy": "2021-06-16T18:05:41.065116Z",
     "iopub.status.idle": "2021-06-16T18:05:41.079475Z",
     "shell.execute_reply": "2021-06-16T18:05:41.079042Z",
     "shell.execute_reply.started": "2021-06-16T18:05:41.065228Z"
    }
   },
   "outputs": [],
   "source": [
    "df.to_csv('recovery-sleep-first2h.csv')"
   ]
  },
  {
   "cell_type": "code",
   "execution_count": null,
   "metadata": {},
   "outputs": [],
   "source": []
  }
 ],
 "metadata": {
  "kernelspec": {
   "display_name": "Python 3",
   "language": "python",
   "name": "python3"
  },
  "language_info": {
   "codemirror_mode": {
    "name": "ipython",
    "version": 3
   },
   "file_extension": ".py",
   "mimetype": "text/x-python",
   "name": "python",
   "nbconvert_exporter": "python",
   "pygments_lexer": "ipython3",
   "version": "3.7.9"
  }
 },
 "nbformat": 4,
 "nbformat_minor": 4
}
