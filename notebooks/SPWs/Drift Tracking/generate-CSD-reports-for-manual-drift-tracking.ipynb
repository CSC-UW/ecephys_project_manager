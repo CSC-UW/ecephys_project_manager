{
 "cells": [
  {
   "cell_type": "code",
   "execution_count": 1,
   "metadata": {
    "execution": {
     "iopub.execute_input": "2021-05-05T18:17:19.364619Z",
     "iopub.status.busy": "2021-05-05T18:17:19.364363Z",
     "iopub.status.idle": "2021-05-05T18:17:19.378827Z",
     "shell.execute_reply": "2021-05-05T18:17:19.378196Z",
     "shell.execute_reply.started": "2021-05-05T18:17:19.364589Z"
    }
   },
   "outputs": [],
   "source": [
    "%load_ext autoreload\n",
    "%autoreload 2"
   ]
  },
  {
   "cell_type": "code",
   "execution_count": 2,
   "metadata": {
    "execution": {
     "iopub.execute_input": "2021-05-05T18:17:19.850133Z",
     "iopub.status.busy": "2021-05-05T18:17:19.849792Z",
     "iopub.status.idle": "2021-05-05T18:17:20.477803Z",
     "shell.execute_reply": "2021-05-05T18:17:20.477067Z",
     "shell.execute_reply.started": "2021-05-05T18:17:19.850075Z"
    }
   },
   "outputs": [],
   "source": [
    "from ecephys.sglx_utils import load_timeseries\n",
    "from ecephys.signal.csd import get_kcsd\n",
    "from ecephys.utils import find_nearest\n",
    "import ecephys_analyses as ea"
   ]
  },
  {
   "cell_type": "code",
   "execution_count": 3,
   "metadata": {
    "execution": {
     "iopub.execute_input": "2021-05-05T18:17:20.493280Z",
     "iopub.status.busy": "2021-05-05T18:17:20.493136Z",
     "iopub.status.idle": "2021-05-05T18:17:20.574755Z",
     "shell.execute_reply": "2021-05-05T18:17:20.574093Z",
     "shell.execute_reply.started": "2021-05-05T18:17:20.493263Z"
    }
   },
   "outputs": [],
   "source": [
    "import numpy as np\n",
    "import pandas as pd\n",
    "import seaborn as sns\n",
    "from kcsd import KCSD1D\n",
    "from scipy.signal import find_peaks\n",
    "import xarray as xr\n",
    "import matplotlib.pyplot as plt\n",
    "from matplotlib.backends.backend_pdf import PdfPages\n",
    "from datetime import datetime"
   ]
  },
  {
   "cell_type": "code",
   "execution_count": 4,
   "metadata": {
    "execution": {
     "iopub.execute_input": "2021-05-05T18:17:21.058418Z",
     "iopub.status.busy": "2021-05-05T18:17:21.058101Z",
     "iopub.status.idle": "2021-05-05T18:17:21.080366Z",
     "shell.execute_reply": "2021-05-05T18:17:21.079536Z",
     "shell.execute_reply.started": "2021-05-05T18:17:21.058380Z"
    }
   },
   "outputs": [],
   "source": [
    "def get_csd(sig, params):\n",
    "    k = get_kcsd(\n",
    "        sig.values,\n",
    "        intersite_distance=params[\"intersite_distance\"],\n",
    "        gdx=params[\"gdx\"],\n",
    "        lambd=params[\"lambd\"],\n",
    "        R_init=params[\"R\"],\n",
    "        do_lcurve=False,\n",
    "    )\n",
    "    est_csd = k.values('CSD')\n",
    "    \n",
    "    return xr.DataArray(\n",
    "        est_csd,\n",
    "        dims=(\"channel\", \"time\"),\n",
    "        coords={\"channel\": sig.channel.values, \"time\": sig.time.values},\n",
    "        attrs={'units': \"nA/mm\", 'fs': sig.fs}\n",
    "    )"
   ]
  },
  {
   "cell_type": "code",
   "execution_count": 5,
   "metadata": {
    "execution": {
     "iopub.execute_input": "2021-05-05T18:17:21.986519Z",
     "iopub.status.busy": "2021-05-05T18:17:21.986138Z",
     "iopub.status.idle": "2021-05-05T18:17:22.006324Z",
     "shell.execute_reply": "2021-05-05T18:17:22.005498Z",
     "shell.execute_reply.started": "2021-05-05T18:17:21.986477Z"
    }
   },
   "outputs": [],
   "source": [
    "def plot_epoched_profile(da, figsize=(36, 8)):\n",
    "    fig, ax = plt.subplots(figsize=figsize)\n",
    "    sns.heatmap(da, xticklabels=da.time.values.round(), yticklabels=da.channel.values, cbar=False)\n",
    "    ax.set(xticks=ax.get_xticks()[::2], yticks=ax.get_yticks()[::4], xlabel='Epoch center time (s)', ylabel='Channel')"
   ]
  },
  {
   "cell_type": "code",
   "execution_count": 6,
   "metadata": {
    "execution": {
     "iopub.execute_input": "2021-05-05T18:17:22.546992Z",
     "iopub.status.busy": "2021-05-05T18:17:22.546624Z",
     "iopub.status.idle": "2021-05-05T18:17:22.569259Z",
     "shell.execute_reply": "2021-05-05T18:17:22.568400Z",
     "shell.execute_reply.started": "2021-05-05T18:17:22.546951Z"
    }
   },
   "outputs": [],
   "source": [
    "def plot_profile(da, figsize=(36, 5), ylabel=None, negative_peaks=False):\n",
    "    fig, ax = plt.subplots(figsize=figsize)\n",
    "    channel_indices = np.arange(len(da.channel))\n",
    "    sns.barplot(x=channel_indices, y=da, color='steelblue', ax=ax)\n",
    "    ax.set(xlabel=\"Channel\", ylabel=ylabel)\n",
    "    ax.set_xticks(channel_indices);\n",
    "    ax.set_xticklabels(da.channel.values, rotation=90);\n",
    "    \n",
    "    if negative_peaks:\n",
    "        peaks, _ = find_peaks(-da.values, prominence=1000, distance=10)\n",
    "    else:\n",
    "        peaks, _ = find_peaks(da.values, prominence=1000, distance=10)\n",
    "    sns.scatterplot(x=peaks, y=da.values[peaks], marker='x', color='red', ax=ax)"
   ]
  },
  {
   "cell_type": "code",
   "execution_count": 7,
   "metadata": {
    "execution": {
     "iopub.execute_input": "2021-05-05T18:17:22.834082Z",
     "iopub.status.busy": "2021-05-05T18:17:22.833773Z",
     "iopub.status.idle": "2021-05-05T18:17:22.868312Z",
     "shell.execute_reply": "2021-05-05T18:17:22.867495Z",
     "shell.execute_reply.started": "2021-05-05T18:17:22.834044Z"
    }
   },
   "outputs": [],
   "source": [
    "def write_file_report(csd, epoch_length, pdf_path):\n",
    "    \n",
    "    if csd.time.values.max() < epoch_length:\n",
    "        return\n",
    "    \n",
    "    epoched_csd_nadirs = csd.coarsen(time=int(csd.fs *epoch_length), boundary='trim', coord_func={\"time\": \"min\"}).min()\n",
    "    epoched_csd_variance = csd.coarsen(time=int(csd.fs *epoch_length), boundary='trim', coord_func={\"time\": \"min\"}).var()\n",
    "    \n",
    "    pdf_path = pdf_path.parent / (pdf_path.stem + f'-{epoch_length}s' + pdf_path.suffix)\n",
    "    with PdfPages(pdf_path) as pdf:\n",
    "        plot_epoched_profile(epoched_csd_variance)\n",
    "        plt.title(f'CSD variance, {epoch_length}s epochs')\n",
    "        pdf.savefig()\n",
    "        plt.close()\n",
    "        \n",
    "        plot_epoched_profile(-epoched_csd_nadirs)\n",
    "        plt.title(f'CSD nadirs, {epoch_length}s epochs')\n",
    "        pdf.savefig()\n",
    "        plt.close()\n",
    "\n",
    "        for epoch in range(epoched_csd_nadirs.shape[1]):\n",
    "            plot_profile(epoched_csd_variance[:, epoch], ylabel=\"CSD variance\")\n",
    "            plt.title(f'CSD variance, epoch: {epoch}, time: {epoched_csd_nadirs.time.values[epoch]}s')\n",
    "            pdf.savefig()\n",
    "            plt.close()\n",
    "            \n",
    "            plot_profile(epoched_csd_nadirs[:, epoch], ylabel=\"Deepest CSD sink (mA/mm)\", negative_peaks=True)\n",
    "            plt.title(f'CSD nadirs, epoch: {epoch}, time: {epoched_csd_nadirs.time.values[epoch]}s')\n",
    "            pdf.savefig()\n",
    "            plt.close()\n",
    "\n",
    "        d = pdf.infodict()\n",
    "        d['Title'] = f'{pdf_path.stem}'\n",
    "        d['Author'] = 'Graham Findlay'\n",
    "        d['Subject'] = 'CSD nadir profiles for tracking CA1 drift'\n",
    "        d['CreationDate'] = datetime.now()"
   ]
  },
  {
   "cell_type": "code",
   "execution_count": 8,
   "metadata": {
    "execution": {
     "iopub.execute_input": "2021-05-05T18:17:23.322618Z",
     "iopub.status.busy": "2021-05-05T18:17:23.322276Z",
     "iopub.status.idle": "2021-05-05T18:17:23.343933Z",
     "shell.execute_reply": "2021-05-05T18:17:23.343105Z",
     "shell.execute_reply.started": "2021-05-05T18:17:23.322579Z"
    }
   },
   "outputs": [],
   "source": [
    "def write_file_reports(bin_path, pdf_path, chans, csd_params):\n",
    "    sig = load_timeseries(bin_path, chans)\n",
    "    csd = get_csd(sig, csd_params)\n",
    "    \n",
    "    write_file_report(csd, 600, pdf_path)\n",
    "    write_file_report(csd, 300, pdf_path)\n",
    "    write_file_report(csd, 60, pdf_path)"
   ]
  },
  {
   "cell_type": "code",
   "execution_count": 9,
   "metadata": {
    "execution": {
     "iopub.execute_input": "2021-05-05T18:17:23.641622Z",
     "iopub.status.busy": "2021-05-05T18:17:23.641317Z",
     "iopub.status.idle": "2021-05-05T18:17:23.662981Z",
     "shell.execute_reply": "2021-05-05T18:17:23.662156Z",
     "shell.execute_reply.started": "2021-05-05T18:17:23.641586Z"
    }
   },
   "outputs": [],
   "source": [
    "def write_condition_reports(subject, experiment, condition, probe):\n",
    "    drift_tracking_chans = ea.get_channels(subject, experiment, probe, \"drift_tracking\")\n",
    "    csd_params_path = ea.get_datapath(\"sharp_wave_detection_params.json\", subject, experiment)\n",
    "    with open(csd_params_path) as csd_params_file:\n",
    "        csd_params = json.load(csd_params_file)\n",
    "\n",
    "    bin_paths = ea.get_sglx_style_datapaths(subject, experiment, condition, ext=\"lf.bin\")\n",
    "    pdf_paths = ea.get_sglx_style_datapaths(subject, experiment, condition, ext=\"CSD_SR_markers.pdf\")\n",
    "\n",
    "    for bin_path, pdf_path in zip(bin_paths, pdf_paths):\n",
    "        write_file_reports(bin_path, pdf_path, drift_tracking_chans, csd_params)\n",
    "        current_time = datetime.now().strftime(\"%H:%M:%S\")\n",
    "        print(f\"{current_time}: Finished {str(bin_path)}\")"
   ]
  },
  {
   "cell_type": "code",
   "execution_count": 10,
   "metadata": {
    "execution": {
     "iopub.execute_input": "2021-05-05T18:17:24.341700Z",
     "iopub.status.busy": "2021-05-05T18:17:24.341114Z",
     "iopub.status.idle": "2021-05-05T18:52:02.708725Z",
     "shell.execute_reply": "2021-05-05T18:52:02.707935Z",
     "shell.execute_reply.started": "2021-05-05T18:17:24.341638Z"
    }
   },
   "outputs": [
    {
     "name": "stdout",
     "output_type": "stream",
     "text": [
      "nChan: 385, nFileSamp: 17644049\n",
      "13:27:52: Finished /Volumes/neuropixel_archive/Data/chronic/CNPIX8-Allan/4-16-2021/4.16.2021_g0/4.16.2021_g0_imec0/4.16.2021_g0_t0.imec0.lf.bin\n",
      "nChan: 385, nFileSamp: 17999996\n",
      "13:38:54: Finished /Volumes/neuropixel_archive/Data/chronic/CNPIX8-Allan/4-16-2021/4.16.2021_g1/4.16.2021_g1_imec0/4.16.2021_g1_t0.imec0.lf.bin\n",
      "nChan: 385, nFileSamp: 17999996\n",
      "13:48:53: Finished /Volumes/neuropixel_archive/Data/chronic/CNPIX8-Allan/4-16-2021/4.16.2021_g1/4.16.2021_g1_imec0/4.16.2021_g1_t1.imec0.lf.bin\n",
      "nChan: 385, nFileSamp: 6268558\n",
      "13:52:02: Finished /Volumes/neuropixel_archive/Data/chronic/CNPIX8-Allan/4-16-2021/4.16.2021_g1/4.16.2021_g1_imec0/4.16.2021_g1_t2.imec0.lf.bin\n"
     ]
    }
   ],
   "source": [
    "write_condition_reports(\"Allan\", \"atropine\", \"all\", \"imec0\")"
   ]
  },
  {
   "cell_type": "code",
   "execution_count": null,
   "metadata": {},
   "outputs": [],
   "source": []
  }
 ],
 "metadata": {
  "kernelspec": {
   "display_name": "Python 3",
   "language": "python",
   "name": "python3"
  },
  "language_info": {
   "codemirror_mode": {
    "name": "ipython",
    "version": 3
   },
   "file_extension": ".py",
   "mimetype": "text/x-python",
   "name": "python",
   "nbconvert_exporter": "python",
   "pygments_lexer": "ipython3",
   "version": "3.7.9"
  }
 },
 "nbformat": 4,
 "nbformat_minor": 4
}
