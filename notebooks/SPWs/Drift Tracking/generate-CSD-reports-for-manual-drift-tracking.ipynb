{
 "cells": [
  {
   "cell_type": "code",
   "execution_count": 37,
   "metadata": {
    "execution": {
     "iopub.execute_input": "2021-04-12T22:23:35.396670Z",
     "iopub.status.busy": "2021-04-12T22:23:35.396175Z",
     "iopub.status.idle": "2021-04-12T22:23:35.417699Z",
     "shell.execute_reply": "2021-04-12T22:23:35.416766Z",
     "shell.execute_reply.started": "2021-04-12T22:23:35.396609Z"
    }
   },
   "outputs": [
    {
     "name": "stdout",
     "output_type": "stream",
     "text": [
      "The autoreload extension is already loaded. To reload it, use:\n",
      "  %reload_ext autoreload\n"
     ]
    }
   ],
   "source": [
    "%load_ext autoreload\n",
    "%autoreload 2"
   ]
  },
  {
   "cell_type": "code",
   "execution_count": 38,
   "metadata": {
    "execution": {
     "iopub.execute_input": "2021-04-12T22:23:35.914297Z",
     "iopub.status.busy": "2021-04-12T22:23:35.913813Z",
     "iopub.status.idle": "2021-04-12T22:23:35.934642Z",
     "shell.execute_reply": "2021-04-12T22:23:35.933814Z",
     "shell.execute_reply.started": "2021-04-12T22:23:35.914238Z"
    }
   },
   "outputs": [],
   "source": [
    "from ecephys.sglx_utils import load_timeseries\n",
    "from ecephys.signal.csd import get_kcsd\n",
    "from ecephys.utils import find_nearest\n",
    "from ecephys_analyses.data import channel_groups, paths"
   ]
  },
  {
   "cell_type": "code",
   "execution_count": 39,
   "metadata": {
    "execution": {
     "iopub.execute_input": "2021-04-12T22:23:36.768913Z",
     "iopub.status.busy": "2021-04-12T22:23:36.768425Z",
     "iopub.status.idle": "2021-04-12T22:23:36.790686Z",
     "shell.execute_reply": "2021-04-12T22:23:36.789816Z",
     "shell.execute_reply.started": "2021-04-12T22:23:36.768853Z"
    }
   },
   "outputs": [],
   "source": [
    "import numpy as np\n",
    "import pandas as pd\n",
    "import seaborn as sns\n",
    "from kcsd import KCSD1D\n",
    "from scipy.signal import find_peaks\n",
    "import xarray as xr\n",
    "import matplotlib.pyplot as plt\n",
    "from matplotlib.backends.backend_pdf import PdfPages\n",
    "from datetime import datetime"
   ]
  },
  {
   "cell_type": "code",
   "execution_count": 40,
   "metadata": {
    "execution": {
     "iopub.execute_input": "2021-04-12T22:23:37.008568Z",
     "iopub.status.busy": "2021-04-12T22:23:37.008117Z",
     "iopub.status.idle": "2021-04-12T22:23:37.028595Z",
     "shell.execute_reply": "2021-04-12T22:23:37.027761Z",
     "shell.execute_reply.started": "2021-04-12T22:23:37.008511Z"
    }
   },
   "outputs": [],
   "source": [
    "def get_csd(sig, params):\n",
    "    k = get_kcsd(\n",
    "        sig.values,\n",
    "        intersite_distance=params[\"intersite_distance\"],\n",
    "        gdx=params[\"gdx\"],\n",
    "        lambd=params[\"lambd\"],\n",
    "        R_init=params[\"R\"],\n",
    "        do_lcurve=False,\n",
    "    )\n",
    "    est_csd = k.values('CSD')\n",
    "    \n",
    "    return xr.DataArray(\n",
    "        est_csd,\n",
    "        dims=(\"channel\", \"time\"),\n",
    "        coords={\"channel\": sig.channel.values, \"time\": sig.time.values},\n",
    "        attrs={'units': \"nA/mm\", 'fs': sig.fs}\n",
    "    )"
   ]
  },
  {
   "cell_type": "code",
   "execution_count": 41,
   "metadata": {
    "execution": {
     "iopub.execute_input": "2021-04-12T22:23:37.248068Z",
     "iopub.status.busy": "2021-04-12T22:23:37.247615Z",
     "iopub.status.idle": "2021-04-12T22:23:37.269155Z",
     "shell.execute_reply": "2021-04-12T22:23:37.268353Z",
     "shell.execute_reply.started": "2021-04-12T22:23:37.248009Z"
    }
   },
   "outputs": [],
   "source": [
    "def plot_epoched_profile(da, figsize=(36, 8)):\n",
    "    fig, ax = plt.subplots(figsize=figsize)\n",
    "    sns.heatmap(da, xticklabels=da.time.values.round(), yticklabels=da.channel.values, cbar=False)\n",
    "    ax.set(xticks=ax.get_xticks()[::2], yticks=ax.get_yticks()[::4], xlabel='Epoch center time (s)', ylabel='Channel')"
   ]
  },
  {
   "cell_type": "code",
   "execution_count": 42,
   "metadata": {
    "execution": {
     "iopub.execute_input": "2021-04-12T22:23:37.608613Z",
     "iopub.status.busy": "2021-04-12T22:23:37.608134Z",
     "iopub.status.idle": "2021-04-12T22:23:37.632750Z",
     "shell.execute_reply": "2021-04-12T22:23:37.631979Z",
     "shell.execute_reply.started": "2021-04-12T22:23:37.608555Z"
    }
   },
   "outputs": [],
   "source": [
    "def plot_profile(da, figsize=(36, 5), ylabel=None, negative_peaks=False):\n",
    "    fig, ax = plt.subplots(figsize=figsize)\n",
    "    channel_indices = np.arange(len(da.channel))\n",
    "    sns.barplot(x=channel_indices, y=da, color='steelblue', ax=ax)\n",
    "    ax.set(xlabel=\"Channel\", ylabel=ylabel)\n",
    "    ax.set_xticks(channel_indices);\n",
    "    ax.set_xticklabels(da.channel.values, rotation=90);\n",
    "    \n",
    "    if negative_peaks:\n",
    "        peaks, _ = find_peaks(-da.values, prominence=1000, distance=10)\n",
    "    else:\n",
    "        peaks, _ = find_peaks(da.values, prominence=1000, distance=10)\n",
    "    sns.scatterplot(x=peaks, y=da.values[peaks], marker='x', color='red', ax=ax)"
   ]
  },
  {
   "cell_type": "code",
   "execution_count": 43,
   "metadata": {
    "execution": {
     "iopub.execute_input": "2021-04-12T22:23:38.200562Z",
     "iopub.status.busy": "2021-04-12T22:23:38.200089Z",
     "iopub.status.idle": "2021-04-12T22:23:38.237152Z",
     "shell.execute_reply": "2021-04-12T22:23:38.236351Z",
     "shell.execute_reply.started": "2021-04-12T22:23:38.200502Z"
    }
   },
   "outputs": [],
   "source": [
    "def write_file_report(csd, epoch_length, pdf_path):\n",
    "    \n",
    "    if csd.time.values.max() < epoch_length:\n",
    "        return\n",
    "    \n",
    "    epoched_csd_nadirs = csd.coarsen(time=int(csd.fs *epoch_length), boundary='trim', coord_func={\"time\": \"min\"}).min()\n",
    "    epoched_csd_variance = csd.coarsen(time=int(csd.fs *epoch_length), boundary='trim', coord_func={\"time\": \"min\"}).var()\n",
    "    \n",
    "    pdf_path = pdf_path.parent / (pdf_path.stem + f'-{epoch_length}s' + pdf_path.suffix)\n",
    "    with PdfPages(pdf_path) as pdf:\n",
    "        plot_epoched_profile(epoched_csd_variance)\n",
    "        plt.title(f'CSD variance, {epoch_length}s epochs')\n",
    "        pdf.savefig()\n",
    "        plt.close()\n",
    "        \n",
    "        plot_epoched_profile(-epoched_csd_nadirs)\n",
    "        plt.title(f'CSD nadirs, {epoch_length}s epochs')\n",
    "        pdf.savefig()\n",
    "        plt.close()\n",
    "\n",
    "        for epoch in range(epoched_csd_nadirs.shape[1]):\n",
    "            plot_profile(epoched_csd_variance[:, epoch], ylabel=\"CSD variance\")\n",
    "            plt.title(f'CSD variance, epoch: {epoch}, time: {epoched_csd_nadirs.time.values[epoch]}s')\n",
    "            pdf.savefig()\n",
    "            plt.close()\n",
    "            \n",
    "            plot_profile(epoched_csd_nadirs[:, epoch], ylabel=\"Deepest CSD sink (mA/mm)\", negative_peaks=True)\n",
    "            plt.title(f'CSD nadirs, epoch: {epoch}, time: {epoched_csd_nadirs.time.values[epoch]}s')\n",
    "            pdf.savefig()\n",
    "            plt.close()\n",
    "\n",
    "        d = pdf.infodict()\n",
    "        d['Title'] = f'{pdf_path.stem}'\n",
    "        d['Author'] = 'Graham Findlay'\n",
    "        d['Subject'] = 'CSD nadir profiles for tracking CA1 drift'\n",
    "        d['CreationDate'] = datetime.now()"
   ]
  },
  {
   "cell_type": "code",
   "execution_count": 44,
   "metadata": {
    "execution": {
     "iopub.execute_input": "2021-04-12T22:23:38.728421Z",
     "iopub.status.busy": "2021-04-12T22:23:38.727951Z",
     "iopub.status.idle": "2021-04-12T22:23:38.750332Z",
     "shell.execute_reply": "2021-04-12T22:23:38.749467Z",
     "shell.execute_reply.started": "2021-04-12T22:23:38.728362Z"
    }
   },
   "outputs": [],
   "source": [
    "def write_file_reports(bin_path, pdf_path, chans, csd_params):\n",
    "    sig = load_timeseries(bin_path, chans)\n",
    "    csd = get_csd(sig, csd_params)\n",
    "    \n",
    "    write_file_report(csd, 600, pdf_path)\n",
    "    write_file_report(csd, 300, pdf_path)\n",
    "    write_file_report(csd, 60, pdf_path)"
   ]
  },
  {
   "cell_type": "code",
   "execution_count": 45,
   "metadata": {
    "execution": {
     "iopub.execute_input": "2021-04-12T22:23:39.000612Z",
     "iopub.status.busy": "2021-04-12T22:23:39.000157Z",
     "iopub.status.idle": "2021-04-12T22:23:39.020990Z",
     "shell.execute_reply": "2021-04-12T22:23:39.020593Z",
     "shell.execute_reply.started": "2021-04-12T22:23:39.000556Z"
    }
   },
   "outputs": [],
   "source": [
    "def write_condition_reports(subject, experiment, condition):\n",
    "    drift_tracking_chans = channel_groups.drift_tracking[subject]\n",
    "    csd_params_path = paths.get_datapath(\"sharp_wave_detection_params.json\", subject, experiment)\n",
    "    with open(csd_params_path) as csd_params_file:\n",
    "        csd_params = json.load(csd_params_file)\n",
    "\n",
    "    bin_paths = paths.get_sglx_style_datapaths(subject, experiment, condition, ext=\"lf.bin\")\n",
    "    pdf_paths = paths.get_sglx_style_datapaths(subject, experiment, condition, ext=\"CSD_SR_markers.pdf\")\n",
    "\n",
    "    for bin_path, pdf_path in zip(bin_paths, pdf_paths):\n",
    "        write_file_reports(bin_path, pdf_path, drift_tracking_chans, csd_params)\n",
    "        current_time = datetime.now().strftime(\"%H:%M:%S\")\n",
    "        print(f\"{current_time}: Finished {str(bin_path)}\")"
   ]
  },
  {
   "cell_type": "code",
   "execution_count": 47,
   "metadata": {
    "execution": {
     "iopub.execute_input": "2021-04-12T22:24:19.737361Z",
     "iopub.status.busy": "2021-04-12T22:24:19.736838Z",
     "iopub.status.idle": "2021-04-12T22:48:35.997560Z",
     "shell.execute_reply": "2021-04-12T22:48:35.996872Z",
     "shell.execute_reply.started": "2021-04-12T22:24:19.737275Z"
    }
   },
   "outputs": [
    {
     "name": "stdout",
     "output_type": "stream",
     "text": [
      "nChan: 385, nFileSamp: 1802362\n",
      "17:25:55: Finished /Volumes/neuropixel_archive/Data/chronic/CNPIX4-Doppio/3-26-2020/3-26-2020_g0/3-26-2020_g0_imec0/3-26-2020_g0_t0.imec0.lf.bin\n",
      "nChan: 385, nFileSamp: 4977007\n",
      "17:29:31: Finished /Volumes/neuropixel_archive/Data/chronic/CNPIX4-Doppio/3-26-2020/3-26-2020_2_g0/3-26-2020_2_g0_imec0/3-26-2020_2_g0_t0.imec0.lf.bin\n",
      "nChan: 385, nFileSamp: 18000039\n",
      "17:42:53: Finished /Volumes/neuropixel_archive/Data/chronic/CNPIX4-Doppio/3-26-2020/3-26-2020_3_g0/3-26-2020_3_g0_imec0/3-26-2020_3_g0_t0.imec0.lf.bin\n",
      "nChan: 385, nFileSamp: 8553813\n",
      "17:48:35: Finished /Volumes/neuropixel_archive/Data/chronic/CNPIX4-Doppio/3-26-2020/3-26-2020_3_g0/3-26-2020_3_g0_imec0/3-26-2020_3_g0_t1.imec0.lf.bin\n"
     ]
    }
   ],
   "source": [
    "write_condition_reports(\"Doppio\", \"atropine\", \"all\")"
   ]
  },
  {
   "cell_type": "code",
   "execution_count": null,
   "metadata": {},
   "outputs": [],
   "source": []
  }
 ],
 "metadata": {
  "kernelspec": {
   "display_name": "Python 3",
   "language": "python",
   "name": "python3"
  },
  "language_info": {
   "codemirror_mode": {
    "name": "ipython",
    "version": 3
   },
   "file_extension": ".py",
   "mimetype": "text/x-python",
   "name": "python",
   "nbconvert_exporter": "python",
   "pygments_lexer": "ipython3",
   "version": "3.7.9"
  }
 },
 "nbformat": 4,
 "nbformat_minor": 4
}
