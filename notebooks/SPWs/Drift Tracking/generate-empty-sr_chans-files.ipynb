{
 "cells": [
  {
   "cell_type": "code",
   "execution_count": 1,
   "metadata": {
    "execution": {
     "iopub.execute_input": "2021-03-21T22:45:17.711854Z",
     "iopub.status.busy": "2021-03-21T22:45:17.711302Z",
     "iopub.status.idle": "2021-03-21T22:45:17.730098Z",
     "shell.execute_reply": "2021-03-21T22:45:17.729375Z",
     "shell.execute_reply.started": "2021-03-21T22:45:17.711788Z"
    }
   },
   "outputs": [],
   "source": [
    "%load_ext autoreload\n",
    "%autoreload 2"
   ]
  },
  {
   "cell_type": "code",
   "execution_count": 2,
   "metadata": {
    "execution": {
     "iopub.execute_input": "2021-03-21T22:45:18.139824Z",
     "iopub.status.busy": "2021-03-21T22:45:18.139377Z",
     "iopub.status.idle": "2021-03-21T22:45:18.897079Z",
     "shell.execute_reply": "2021-03-21T22:45:18.895740Z",
     "shell.execute_reply.started": "2021-03-21T22:45:18.139768Z"
    }
   },
   "outputs": [],
   "source": [
    "import pandas as pd\n",
    "import numpy as np\n",
    "from datetime import datetime\n",
    "\n",
    "from ecephys.sglx_utils import load_timestamps\n",
    "from ecephys_analyses.data import paths"
   ]
  },
  {
   "cell_type": "code",
   "execution_count": 23,
   "metadata": {
    "execution": {
     "iopub.execute_input": "2021-03-23T15:31:56.701233Z",
     "iopub.status.busy": "2021-03-23T15:31:56.700703Z",
     "iopub.status.idle": "2021-03-23T15:31:56.725678Z",
     "shell.execute_reply": "2021-03-23T15:31:56.724725Z",
     "shell.execute_reply.started": "2021-03-23T15:31:56.701169Z"
    }
   },
   "outputs": [],
   "source": [
    "def write_empty_sr_chans_file(bin_path, sr_chans_path):\n",
    "    time = load_timestamps(bin_path)\n",
    "    sr_chans = pd.DataFrame({'start_time': [time[0]], 'end_time': [time[-1]], 'sr_chans': [np.NaN]})\n",
    "    sr_chans.to_csv(sr_chans_path, index=False, mode='x')"
   ]
  },
  {
   "cell_type": "code",
   "execution_count": 21,
   "metadata": {
    "execution": {
     "iopub.execute_input": "2021-03-23T15:31:45.921087Z",
     "iopub.status.busy": "2021-03-23T15:31:45.920613Z",
     "iopub.status.idle": "2021-03-23T15:31:45.941252Z",
     "shell.execute_reply": "2021-03-23T15:31:45.940474Z",
     "shell.execute_reply.started": "2021-03-23T15:31:45.921027Z"
    }
   },
   "outputs": [],
   "source": [
    "subject = \"Eugene\"\n",
    "condition = \"all\"\n",
    "\n",
    "bin_paths = paths.get_sglx_style_datapaths(subject=subject, condition=condition, ext=\"lf.bin\")\n",
    "sr_chans_paths = paths.get_sglx_style_datapaths(subject=subject, condition=condition, ext=\"sr_chans.csv\")"
   ]
  },
  {
   "cell_type": "code",
   "execution_count": 17,
   "metadata": {
    "execution": {
     "iopub.execute_input": "2021-03-23T15:31:03.769443Z",
     "iopub.status.busy": "2021-03-23T15:31:03.768926Z",
     "iopub.status.idle": "2021-03-23T15:31:04.173818Z",
     "shell.execute_reply": "2021-03-23T15:31:04.172525Z",
     "shell.execute_reply.started": "2021-03-23T15:31:03.769381Z"
    }
   },
   "outputs": [],
   "source": [
    "for sr_chans_path in sr_chans_paths:\n",
    "    sr_chans_path.parent.mkdir(parents=True, exist_ok=True)"
   ]
  },
  {
   "cell_type": "code",
   "execution_count": 22,
   "metadata": {
    "execution": {
     "iopub.execute_input": "2021-03-23T15:31:47.603566Z",
     "iopub.status.busy": "2021-03-23T15:31:47.603084Z",
     "iopub.status.idle": "2021-03-23T15:31:51.590485Z",
     "shell.execute_reply": "2021-03-23T15:31:51.589439Z",
     "shell.execute_reply.started": "2021-03-23T15:31:47.603508Z"
    }
   },
   "outputs": [
    {
     "name": "stdout",
     "output_type": "stream",
     "text": [
      "10:31:47: Finished /Volumes/neuropixel_archive/Data/chronic/CNPIX6-Eugene/9-24-2020/9.24.2020_BL_24hs_g0/9.24.2020_BL_24hs_g0_imec0/9.24.2020_BL_24hs_g0_t0.imec0.lf.bin\n",
      "10:31:47: Finished /Volumes/neuropixel_archive/Data/chronic/CNPIX6-Eugene/9-24-2020/9.24.2020_BL_24hs2_g0/9.24.2020_BL_24hs2_g0_imec0/9.24.2020_BL_24hs2_g0_t0.imec0.lf.bin\n",
      "10:31:47: Finished /Volumes/neuropixel_archive/Data/chronic/CNPIX6-Eugene/9-24-2020/9.24.2020_BL_24hs2_g0/9.24.2020_BL_24hs2_g0_imec0/9.24.2020_BL_24hs2_g0_t1.imec0.lf.bin\n",
      "10:31:48: Finished /Volumes/neuropixel_archive/Data/chronic/CNPIX6-Eugene/9-24-2020/9.24.2020_BL_24hs2_g0/9.24.2020_BL_24hs2_g0_imec0/9.24.2020_BL_24hs2_g0_t2.imec0.lf.bin\n",
      "10:31:48: Finished /Volumes/neuropixel_archive/Data/chronic/CNPIX6-Eugene/9-24-2020/9.24.2020_BL_24hs2_g0/9.24.2020_BL_24hs2_g0_imec0/9.24.2020_BL_24hs2_g0_t3.imec0.lf.bin\n",
      "10:31:48: Finished /Volumes/neuropixel_archive/Data/chronic/CNPIX6-Eugene/9-24-2020/9.24.2020_BL_24hs2_g0/9.24.2020_BL_24hs2_g0_imec0/9.24.2020_BL_24hs2_g0_t4.imec0.lf.bin\n",
      "10:31:48: Finished /Volumes/neuropixel_archive/Data/chronic/CNPIX6-Eugene/9-24-2020/9.24.2020_BL_24hs2_g0/9.24.2020_BL_24hs2_g0_imec0/9.24.2020_BL_24hs2_g0_t5.imec0.lf.bin\n",
      "10:31:48: Finished /Volumes/neuropixel_archive/Data/chronic/CNPIX6-Eugene/9-24-2020/9.24.2020_BL_24hs2_g0/9.24.2020_BL_24hs2_g0_imec0/9.24.2020_BL_24hs2_g0_t6.imec0.lf.bin\n",
      "10:31:48: Finished /Volumes/neuropixel_archive/Data/chronic/CNPIX6-Eugene/9-24-2020/9.24.2020_BL_24hs3_g0/9.24.2020_BL_24hs3_g0_imec0/9.24.2020_BL_24hs3_g0_t0.imec0.lf.bin\n",
      "10:31:48: Finished /Volumes/neuropixel_archive/Data/chronic/CNPIX6-Eugene/9-24-2020/9.24.2020_BL_24hs3_g0/9.24.2020_BL_24hs3_g0_imec0/9.24.2020_BL_24hs3_g0_t1.imec0.lf.bin\n",
      "10:31:48: Finished /Volumes/neuropixel_archive/Data/chronic/CNPIX6-Eugene/9-24-2020/9.24.2020_BL_24hs5_g0/9.24.2020_BL_24hs5_g0_imec0/9.24.2020_BL_24hs5_g0_t0.imec0.lf.bin\n",
      "10:31:48: Finished /Volumes/neuropixel_archive/Data/chronic/CNPIX6-Eugene/9-24-2020/9.24.2020_BL_24hs7_g0/9.24.2020_BL_24hs7_g0_imec0/9.24.2020_BL_24hs7_g0_t0.imec0.lf.bin\n",
      "10:31:48: Finished /Volumes/neuropixel_archive/Data/chronic/CNPIX6-Eugene/9-24-2020/9.24.2020_BL_24hs8_g0/9.24.2020_BL_24hs8_g0_imec0/9.24.2020_BL_24hs8_g0_t0.imec0.lf.bin\n",
      "10:31:48: Finished /Volumes/neuropixel_archive/Data/chronic/CNPIX6-Eugene/9-24-2020/9.24.2020_BL_24hs8_g0/9.24.2020_BL_24hs8_g0_imec0/9.24.2020_BL_24hs8_g0_t1.imec0.lf.bin\n",
      "10:31:49: Finished /Volumes/neuropixel_archive/Data/chronic/CNPIX6-Eugene/9-24-2020/9.24.2020_BL_24hs8_g0/9.24.2020_BL_24hs8_g0_imec0/9.24.2020_BL_24hs8_g0_t2.imec0.lf.bin\n",
      "10:31:49: Finished /Volumes/neuropixel_archive/Data/chronic/CNPIX6-Eugene/9-24-2020/9.24.2020_BL_24hs8_g0/9.24.2020_BL_24hs8_g0_imec0/9.24.2020_BL_24hs8_g0_t3.imec0.lf.bin\n",
      "10:31:49: Finished /Volumes/neuropixel_archive/Data/chronic/CNPIX6-Eugene/9-24-2020/9.24.2020_BL_24hs10_g0/9.24.2020_BL_24hs10_g0_imec0/9.24.2020_BL_24hs10_g0_t0.imec0.lf.bin\n",
      "10:31:49: Finished /Volumes/neuropixel_archive/Data/chronic/CNPIX6-Eugene/9-24-2020/9.24.2020_BL_24hs11_g0/9.24.2020_BL_24hs11_g0_imec0/9.24.2020_BL_24hs11_g0_t0.imec0.lf.bin\n",
      "10:31:49: Finished /Volumes/neuropixel_archive/Data/chronic/CNPIX6-Eugene/9-24-2020/9.24.2020_SD_24hs_g0/9.24.2020_SD_24hs_g0_imec0/9.24.2020_SD_24hs_g0_t0.imec0.lf.bin\n",
      "10:31:49: Finished /Volumes/neuropixel_archive/Data/chronic/CNPIX6-Eugene/9-24-2020/9.24.2020_SD_24hs1_g0/9.24.2020_SD_24hs1_g0_imec0/9.24.2020_SD_24hs1_g0_t0.imec0.lf.bin\n",
      "10:31:49: Finished /Volumes/neuropixel_archive/Data/chronic/CNPIX6-Eugene/9-24-2020/9.24.2020_SD_24hs2_g0/9.24.2020_SD_24hs2_g0_imec0/9.24.2020_SD_24hs2_g0_t0.imec0.lf.bin\n",
      "10:31:49: Finished /Volumes/neuropixel_archive/Data/chronic/CNPIX6-Eugene/9-24-2020/9.24.2020_SD_24hs3_g0/9.24.2020_SD_24hs3_g0_imec0/9.24.2020_SD_24hs3_g0_t0.imec0.lf.bin\n",
      "10:31:49: Finished /Volumes/neuropixel_archive/Data/chronic/CNPIX6-Eugene/9-24-2020/9.24.2020_SD_24hs3_g1/9.24.2020_SD_24hs3_g1_imec0/9.24.2020_SD_24hs3_g1_t0.imec0.lf.bin\n",
      "10:31:49: Finished /Volumes/neuropixel_archive/Data/chronic/CNPIX6-Eugene/9-24-2020/9.24.2020_SD_24hs3_g1/9.24.2020_SD_24hs3_g1_imec0/9.24.2020_SD_24hs3_g1_t1.imec0.lf.bin\n",
      "10:31:49: Finished /Volumes/neuropixel_archive/Data/chronic/CNPIX6-Eugene/9-24-2020/9.24.2020_SD_24hs4_g0/9.24.2020_SD_24hs4_g0_imec0/9.24.2020_SD_24hs4_g0_t0.imec0.lf.bin\n",
      "10:31:49: Finished /Volumes/neuropixel_archive/Data/chronic/CNPIX6-Eugene/9-24-2020/9.24.2020_SD_24hs5_g0/9.24.2020_SD_24hs5_g0_imec0/9.24.2020_SD_24hs5_g0_t0.imec0.lf.bin\n",
      "10:31:49: Finished /Volumes/neuropixel_archive/Data/chronic/CNPIX6-Eugene/9-24-2020/9.24.2020_SD_24hs7_g0/9.24.2020_SD_24hs7_g0_imec0/9.24.2020_SD_24hs7_g0_t0.imec0.lf.bin\n",
      "10:31:50: Finished /Volumes/neuropixel_archive/Data/chronic/CNPIX6-Eugene/9-24-2020/9.24.2020_SD_24hs8_g0/9.24.2020_SD_24hs8_g0_imec0/9.24.2020_SD_24hs8_g0_t0.imec0.lf.bin\n",
      "10:31:50: Finished /Volumes/neuropixel_archive/Data/chronic/CNPIX6-Eugene/9-24-2020/9.24.2020_SD_24hs8_g0/9.24.2020_SD_24hs8_g0_imec0/9.24.2020_SD_24hs8_g0_t1.imec0.lf.bin\n",
      "10:31:50: Finished /Volumes/neuropixel_archive/Data/chronic/CNPIX6-Eugene/9-24-2020/9.24.2020_SR_24hs_g0/9.24.2020_SR_24hs_g0_imec0/9.24.2020_SR_24hs_g0_t0.imec0.lf.bin\n",
      "10:31:50: Finished /Volumes/neuropixel_archive/Data/chronic/CNPIX6-Eugene/9-24-2020/9.24.2020_SR_24hs_g0/9.24.2020_SR_24hs_g0_imec0/9.24.2020_SR_24hs_g0_t1.imec0.lf.bin\n",
      "10:31:50: Finished /Volumes/neuropixel_archive/Data/chronic/CNPIX6-Eugene/9-24-2020/9.24.2020_SR_24hs_g0/9.24.2020_SR_24hs_g0_imec0/9.24.2020_SR_24hs_g0_t2.imec0.lf.bin\n",
      "10:31:50: Finished /Volumes/neuropixel_archive/Data/chronic/CNPIX6-Eugene/9-24-2020/9.24.2020_SR_24hs_g0/9.24.2020_SR_24hs_g0_imec0/9.24.2020_SR_24hs_g0_t3.imec0.lf.bin\n",
      "10:31:50: Finished /Volumes/neuropixel_archive/Data/chronic/CNPIX6-Eugene/9-24-2020/9.24.2020_SR_24hs_g0/9.24.2020_SR_24hs_g0_imec0/9.24.2020_SR_24hs_g0_t4.imec0.lf.bin\n",
      "10:31:50: Finished /Volumes/neuropixel_archive/Data/chronic/CNPIX6-Eugene/9-24-2020/9.24.2020_SR_24hs_g0/9.24.2020_SR_24hs_g0_imec0/9.24.2020_SR_24hs_g0_t5.imec0.lf.bin\n",
      "10:31:51: Finished /Volumes/neuropixel_archive/Data/chronic/CNPIX6-Eugene/9-24-2020/9.24.2020_SR_24hs1_g0/9.24.2020_SR_24hs1_g0_imec0/9.24.2020_SR_24hs1_g0_t0.imec0.lf.bin\n",
      "10:31:51: Finished /Volumes/neuropixel_archive/Data/chronic/CNPIX6-Eugene/9-24-2020/9.24.2020_SR_24hs3_g0/9.24.2020_SR_24hs3_g0_imec0/9.24.2020_SR_24hs3_g0_t0.imec0.lf.bin\n",
      "10:31:51: Finished /Volumes/neuropixel_archive/Data/chronic/CNPIX6-Eugene/9-24-2020/9.24.2020_SR_24hs4_g0/9.24.2020_SR_24hs4_g0_imec0/9.24.2020_SR_24hs4_g0_t0.imec0.lf.bin\n",
      "10:31:51: Finished /Volumes/neuropixel_archive/Data/chronic/CNPIX6-Eugene/9-24-2020/9.24.2020_SR_24hs5_g0/9.24.2020_SR_24hs5_g0_imec0/9.24.2020_SR_24hs5_g0_t0.imec0.lf.bin\n",
      "10:31:51: Finished /Volumes/neuropixel_archive/Data/chronic/CNPIX6-Eugene/9-24-2020/9.24.2020_SR_24hs5_g0/9.24.2020_SR_24hs5_g0_imec0/9.24.2020_SR_24hs5_g0_t1.imec0.lf.bin\n",
      "10:31:51: Finished /Volumes/neuropixel_archive/Data/chronic/CNPIX6-Eugene/9-24-2020/9.24.2020_SR_24hs5_g0/9.24.2020_SR_24hs5_g0_imec0/9.24.2020_SR_24hs5_g0_t2.imec0.lf.bin\n"
     ]
    }
   ],
   "source": [
    "for bin_path, sr_chans_path in zip(bin_paths, sr_chans_paths):\n",
    "    write_empty_sr_chans_file(bin_path, sr_chans_path)\n",
    "    current_time = datetime.now().strftime(\"%H:%M:%S\")\n",
    "    print(f\"{current_time}: Finished {str(bin_path)}\")"
   ]
  },
  {
   "cell_type": "code",
   "execution_count": null,
   "metadata": {},
   "outputs": [],
   "source": []
  }
 ],
 "metadata": {
  "kernelspec": {
   "display_name": "Python 3",
   "language": "python",
   "name": "python3"
  },
  "language_info": {
   "codemirror_mode": {
    "name": "ipython",
    "version": 3
   },
   "file_extension": ".py",
   "mimetype": "text/x-python",
   "name": "python",
   "nbconvert_exporter": "python",
   "pygments_lexer": "ipython3",
   "version": "3.7.9"
  }
 },
 "nbformat": 4,
 "nbformat_minor": 4
}
