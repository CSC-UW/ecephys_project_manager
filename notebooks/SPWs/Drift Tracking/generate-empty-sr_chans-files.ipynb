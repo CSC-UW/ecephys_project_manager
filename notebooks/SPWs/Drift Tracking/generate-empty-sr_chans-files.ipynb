{
 "cells": [
  {
   "cell_type": "code",
   "execution_count": 1,
   "metadata": {
    "execution": {
     "iopub.execute_input": "2021-04-14T19:27:19.852166Z",
     "iopub.status.busy": "2021-04-14T19:27:19.851625Z",
     "iopub.status.idle": "2021-04-14T19:27:19.870309Z",
     "shell.execute_reply": "2021-04-14T19:27:19.869514Z",
     "shell.execute_reply.started": "2021-04-14T19:27:19.852063Z"
    }
   },
   "outputs": [],
   "source": [
    "%load_ext autoreload\n",
    "%autoreload 2"
   ]
  },
  {
   "cell_type": "code",
   "execution_count": 2,
   "metadata": {
    "execution": {
     "iopub.execute_input": "2021-04-14T19:27:20.272124Z",
     "iopub.status.busy": "2021-04-14T19:27:20.271675Z",
     "iopub.status.idle": "2021-04-14T19:27:20.864280Z",
     "shell.execute_reply": "2021-04-14T19:27:20.863382Z",
     "shell.execute_reply.started": "2021-04-14T19:27:20.272048Z"
    }
   },
   "outputs": [],
   "source": [
    "import pandas as pd\n",
    "import numpy as np\n",
    "from datetime import datetime\n",
    "\n",
    "from ecephys.sglx_utils import load_timestamps\n",
    "from ecephys_analyses.data import paths"
   ]
  },
  {
   "cell_type": "code",
   "execution_count": 3,
   "metadata": {
    "execution": {
     "iopub.execute_input": "2021-04-14T19:27:20.878612Z",
     "iopub.status.busy": "2021-04-14T19:27:20.878486Z",
     "iopub.status.idle": "2021-04-14T19:27:20.890695Z",
     "shell.execute_reply": "2021-04-14T19:27:20.890312Z",
     "shell.execute_reply.started": "2021-04-14T19:27:20.878596Z"
    }
   },
   "outputs": [],
   "source": [
    "def write_empty_sr_chans_file(bin_path, sr_chans_path):\n",
    "    time = load_timestamps(bin_path)\n",
    "    sr_chans = pd.DataFrame({'start_time': [time[0]], 'end_time': [time[-1]], 'sr_chans': [np.NaN]})\n",
    "    sr_chans.to_csv(sr_chans_path, index=False, mode='x')"
   ]
  },
  {
   "cell_type": "code",
   "execution_count": 4,
   "metadata": {
    "execution": {
     "iopub.execute_input": "2021-04-14T19:27:22.041050Z",
     "iopub.status.busy": "2021-04-14T19:27:22.040609Z",
     "iopub.status.idle": "2021-04-14T19:27:22.061920Z",
     "shell.execute_reply": "2021-04-14T19:27:22.061197Z",
     "shell.execute_reply.started": "2021-04-14T19:27:22.040996Z"
    }
   },
   "outputs": [],
   "source": [
    "def write_condition(subject, experiment, condition):\n",
    "    bin_paths = paths.get_sglx_style_datapaths(subject, experiment, condition, \"lf.bin\")\n",
    "    sr_chans_paths = paths.get_sglx_style_datapaths(subject, experiment, condition, \"sr_chans.csv\")\n",
    "    \n",
    "    for sr_chans_path in sr_chans_paths:\n",
    "        sr_chans_path.parent.mkdir(parents=True, exist_ok=True)\n",
    "        \n",
    "    for bin_path, sr_chans_path in zip(bin_paths, sr_chans_paths):\n",
    "        write_empty_sr_chans_file(bin_path, sr_chans_path)\n",
    "        current_time = datetime.now().strftime(\"%H:%M:%S\")\n",
    "        print(f\"{current_time}: Finished {str(bin_path)}\")"
   ]
  },
  {
   "cell_type": "code",
   "execution_count": 5,
   "metadata": {
    "execution": {
     "iopub.execute_input": "2021-04-14T19:27:26.003404Z",
     "iopub.status.busy": "2021-04-14T19:27:26.003150Z",
     "iopub.status.idle": "2021-04-14T19:27:38.563777Z",
     "shell.execute_reply": "2021-04-14T19:27:38.562538Z",
     "shell.execute_reply.started": "2021-04-14T19:27:26.003374Z"
    }
   },
   "outputs": [
    {
     "name": "stdout",
     "output_type": "stream",
     "text": [
      "14:27:29: Finished /Volumes/neuropixel_archive/Data/chronic/CNPIX4-Doppio/3-28-2020/3-28-2020_g0/3-28-2020_g0_imec0/3-28-2020_g0_t0.imec0.lf.bin\n",
      "14:27:31: Finished /Volumes/neuropixel_archive/Data/chronic/CNPIX4-Doppio/3-28-2020/3-28-2020_2_g0/3-28-2020_2_g0_imec0/3-28-2020_2_g0_t0.imec0.lf.bin\n",
      "14:27:32: Finished /Volumes/neuropixel_archive/Data/chronic/CNPIX4-Doppio/3-28-2020/3-28-2020_3_g0/3-28-2020_3_g0_imec0/3-28-2020_3_g0_t0.imec0.lf.bin\n",
      "14:27:33: Finished /Volumes/neuropixel_archive/Data/chronic/CNPIX4-Doppio/3-28-2020/3-28-2020_4_g0/3-28-2020_4_g0_imec0/3-28-2020_4_g0_t0.imec0.lf.bin\n",
      "14:27:35: Finished /Volumes/neuropixel_archive/Data/chronic/CNPIX4-Doppio/3-28-2020/3-28-2020_4_g0/3-28-2020_4_g0_imec0/3-28-2020_4_g0_t1.imec0.lf.bin\n",
      "14:27:36: Finished /Volumes/neuropixel_archive/Data/chronic/CNPIX4-Doppio/3-28-2020/3-28-2020_4_g0/3-28-2020_4_g0_imec0/3-28-2020_4_g0_t2.imec0.lf.bin\n",
      "14:27:38: Finished /Volumes/neuropixel_archive/Data/chronic/CNPIX4-Doppio/3-28-2020/3-28-2020_4_g0/3-28-2020_4_g0_imec0/3-28-2020_4_g0_t3.imec0.lf.bin\n"
     ]
    }
   ],
   "source": [
    "write_condition(\"Doppio\", \"atropine-50mg\", \"all\")"
   ]
  },
  {
   "cell_type": "code",
   "execution_count": null,
   "metadata": {},
   "outputs": [],
   "source": []
  }
 ],
 "metadata": {
  "kernelspec": {
   "display_name": "Python 3",
   "language": "python",
   "name": "python3"
  },
  "language_info": {
   "codemirror_mode": {
    "name": "ipython",
    "version": 3
   },
   "file_extension": ".py",
   "mimetype": "text/x-python",
   "name": "python",
   "nbconvert_exporter": "python",
   "pygments_lexer": "ipython3",
   "version": "3.7.9"
  }
 },
 "nbformat": 4,
 "nbformat_minor": 4
}
