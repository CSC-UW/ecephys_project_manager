{
 "cells": [
  {
   "cell_type": "code",
   "execution_count": 1,
   "metadata": {
    "execution": {
     "iopub.execute_input": "2021-05-05T17:40:26.155104Z",
     "iopub.status.busy": "2021-05-05T17:40:26.154910Z",
     "iopub.status.idle": "2021-05-05T17:40:26.170325Z",
     "shell.execute_reply": "2021-05-05T17:40:26.169859Z",
     "shell.execute_reply.started": "2021-05-05T17:40:26.155080Z"
    }
   },
   "outputs": [],
   "source": [
    "%load_ext autoreload\n",
    "%autoreload 2"
   ]
  },
  {
   "cell_type": "code",
   "execution_count": 2,
   "metadata": {
    "execution": {
     "iopub.execute_input": "2021-05-05T17:40:26.612513Z",
     "iopub.status.busy": "2021-05-05T17:40:26.612166Z",
     "iopub.status.idle": "2021-05-05T17:40:27.207276Z",
     "shell.execute_reply": "2021-05-05T17:40:27.206567Z",
     "shell.execute_reply.started": "2021-05-05T17:40:26.612469Z"
    }
   },
   "outputs": [],
   "source": [
    "import pandas as pd\n",
    "import numpy as np\n",
    "from datetime import datetime\n",
    "\n",
    "from ecephys.sglx_utils import load_timestamps\n",
    "import ecephys_analyses as ea"
   ]
  },
  {
   "cell_type": "code",
   "execution_count": 3,
   "metadata": {
    "execution": {
     "iopub.execute_input": "2021-05-05T17:40:27.223490Z",
     "iopub.status.busy": "2021-05-05T17:40:27.223356Z",
     "iopub.status.idle": "2021-05-05T17:40:27.235103Z",
     "shell.execute_reply": "2021-05-05T17:40:27.234486Z",
     "shell.execute_reply.started": "2021-05-05T17:40:27.223473Z"
    }
   },
   "outputs": [],
   "source": [
    "def write_empty_sr_chans_file(bin_path, sr_chans_path):\n",
    "    time = load_timestamps(bin_path)\n",
    "    sr_chans = pd.DataFrame({'start_time': [time[0]], 'end_time': [time[-1]], 'sr_chans': [np.NaN]})\n",
    "    sr_chans.to_csv(sr_chans_path, index=False, mode='x')"
   ]
  },
  {
   "cell_type": "code",
   "execution_count": 4,
   "metadata": {
    "execution": {
     "iopub.execute_input": "2021-05-05T17:40:27.589295Z",
     "iopub.status.busy": "2021-05-05T17:40:27.588944Z",
     "iopub.status.idle": "2021-05-05T17:40:27.609962Z",
     "shell.execute_reply": "2021-05-05T17:40:27.609442Z",
     "shell.execute_reply.started": "2021-05-05T17:40:27.589255Z"
    }
   },
   "outputs": [],
   "source": [
    "def write_condition(subject, experiment, condition):\n",
    "    bin_paths = ea.get_sglx_style_datapaths(subject, experiment, condition, \"lf.bin\")\n",
    "    sr_chans_paths = ea.get_sglx_style_datapaths(subject, experiment, condition, \"sr_chans.csv\")\n",
    "    \n",
    "    for sr_chans_path in sr_chans_paths:\n",
    "        sr_chans_path.parent.mkdir(parents=True, exist_ok=True)\n",
    "        \n",
    "    for bin_path, sr_chans_path in zip(bin_paths, sr_chans_paths):\n",
    "        write_empty_sr_chans_file(bin_path, sr_chans_path)\n",
    "        current_time = datetime.now().strftime(\"%H:%M:%S\")\n",
    "        print(f\"{current_time}: Finished {str(bin_path)}\")"
   ]
  },
  {
   "cell_type": "code",
   "execution_count": 5,
   "metadata": {
    "execution": {
     "iopub.execute_input": "2021-05-05T17:40:33.447634Z",
     "iopub.status.busy": "2021-05-05T17:40:33.447351Z",
     "iopub.status.idle": "2021-05-05T17:40:38.013250Z",
     "shell.execute_reply": "2021-05-05T17:40:38.011741Z",
     "shell.execute_reply.started": "2021-05-05T17:40:33.447602Z"
    }
   },
   "outputs": [
    {
     "name": "stdout",
     "output_type": "stream",
     "text": [
      "12:40:35: Finished /Volumes/neuropixel_archive/Data/chronic/CNPIX8-Allan/4-16-2021/4.16.2021_g0/4.16.2021_g0_imec0/4.16.2021_g0_t0.imec0.lf.bin\n",
      "12:40:36: Finished /Volumes/neuropixel_archive/Data/chronic/CNPIX8-Allan/4-16-2021/4.16.2021_g1/4.16.2021_g1_imec0/4.16.2021_g1_t0.imec0.lf.bin\n",
      "12:40:36: Finished /Volumes/neuropixel_archive/Data/chronic/CNPIX8-Allan/4-16-2021/4.16.2021_g1/4.16.2021_g1_imec0/4.16.2021_g1_t1.imec0.lf.bin\n",
      "12:40:38: Finished /Volumes/neuropixel_archive/Data/chronic/CNPIX8-Allan/4-16-2021/4.16.2021_g1/4.16.2021_g1_imec0/4.16.2021_g1_t2.imec0.lf.bin\n"
     ]
    }
   ],
   "source": [
    "write_condition(\"Allan\", \"atropine\", \"all\")"
   ]
  },
  {
   "cell_type": "code",
   "execution_count": null,
   "metadata": {},
   "outputs": [],
   "source": []
  }
 ],
 "metadata": {
  "kernelspec": {
   "display_name": "Python 3",
   "language": "python",
   "name": "python3"
  },
  "language_info": {
   "codemirror_mode": {
    "name": "ipython",
    "version": 3
   },
   "file_extension": ".py",
   "mimetype": "text/x-python",
   "name": "python",
   "nbconvert_exporter": "python",
   "pygments_lexer": "ipython3",
   "version": "3.7.9"
  }
 },
 "nbformat": 4,
 "nbformat_minor": 4
}
