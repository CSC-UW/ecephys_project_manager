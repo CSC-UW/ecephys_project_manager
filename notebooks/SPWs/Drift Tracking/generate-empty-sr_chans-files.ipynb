{
 "cells": [
  {
   "cell_type": "code",
   "execution_count": 1,
   "metadata": {
    "execution": {
     "iopub.execute_input": "2021-04-02T00:58:32.400562Z",
     "iopub.status.busy": "2021-04-02T00:58:32.400050Z",
     "iopub.status.idle": "2021-04-02T00:58:32.417531Z",
     "shell.execute_reply": "2021-04-02T00:58:32.416879Z",
     "shell.execute_reply.started": "2021-04-02T00:58:32.400504Z"
    }
   },
   "outputs": [],
   "source": [
    "%load_ext autoreload\n",
    "%autoreload 2"
   ]
  },
  {
   "cell_type": "code",
   "execution_count": 2,
   "metadata": {
    "execution": {
     "iopub.execute_input": "2021-04-02T00:58:33.238626Z",
     "iopub.status.busy": "2021-04-02T00:58:33.238139Z",
     "iopub.status.idle": "2021-04-02T00:58:33.851604Z",
     "shell.execute_reply": "2021-04-02T00:58:33.850876Z",
     "shell.execute_reply.started": "2021-04-02T00:58:33.238568Z"
    }
   },
   "outputs": [],
   "source": [
    "import pandas as pd\n",
    "import numpy as np\n",
    "from datetime import datetime\n",
    "\n",
    "from ecephys.sglx_utils import load_timestamps\n",
    "from ecephys_analyses.data import paths"
   ]
  },
  {
   "cell_type": "code",
   "execution_count": 3,
   "metadata": {
    "execution": {
     "iopub.execute_input": "2021-04-02T00:58:39.174866Z",
     "iopub.status.busy": "2021-04-02T00:58:39.174364Z",
     "iopub.status.idle": "2021-04-02T00:58:39.195710Z",
     "shell.execute_reply": "2021-04-02T00:58:39.194895Z",
     "shell.execute_reply.started": "2021-04-02T00:58:39.174808Z"
    }
   },
   "outputs": [],
   "source": [
    "def write_empty_sr_chans_file(bin_path, sr_chans_path):\n",
    "    time = load_timestamps(bin_path)\n",
    "    sr_chans = pd.DataFrame({'start_time': [time[0]], 'end_time': [time[-1]], 'sr_chans': [np.NaN]})\n",
    "    sr_chans.to_csv(sr_chans_path, index=False, mode='x')"
   ]
  },
  {
   "cell_type": "code",
   "execution_count": 5,
   "metadata": {
    "execution": {
     "iopub.execute_input": "2021-04-02T00:59:50.124103Z",
     "iopub.status.busy": "2021-04-02T00:59:50.123616Z",
     "iopub.status.idle": "2021-04-02T00:59:50.259240Z",
     "shell.execute_reply": "2021-04-02T00:59:50.258495Z",
     "shell.execute_reply.started": "2021-04-02T00:59:50.124045Z"
    }
   },
   "outputs": [],
   "source": [
    "subject=\"Allan\"\n",
    "\n",
    "bin_paths = paths.get_sglx_style_datapaths(subject=subject, experiment=\"sleep-homeostasis\", condition=\"all\", ext=\"lf.bin\")\n",
    "sr_chans_paths = paths.get_sglx_style_datapaths(subject=subject, experiment=\"sleep-homeostasis\", condition=\"all\", ext=\"sr_chans.csv\")"
   ]
  },
  {
   "cell_type": "code",
   "execution_count": 6,
   "metadata": {
    "execution": {
     "iopub.execute_input": "2021-04-02T00:59:52.737060Z",
     "iopub.status.busy": "2021-04-02T00:59:52.736580Z",
     "iopub.status.idle": "2021-04-02T00:59:52.815154Z",
     "shell.execute_reply": "2021-04-02T00:59:52.813985Z",
     "shell.execute_reply.started": "2021-04-02T00:59:52.737003Z"
    }
   },
   "outputs": [],
   "source": [
    "for sr_chans_path in sr_chans_paths:\n",
    "    sr_chans_path.parent.mkdir(parents=True, exist_ok=True)"
   ]
  },
  {
   "cell_type": "code",
   "execution_count": 7,
   "metadata": {
    "execution": {
     "iopub.execute_input": "2021-04-02T00:59:57.138282Z",
     "iopub.status.busy": "2021-04-02T00:59:57.137797Z",
     "iopub.status.idle": "2021-04-02T01:00:00.475436Z",
     "shell.execute_reply": "2021-04-02T01:00:00.474659Z",
     "shell.execute_reply.started": "2021-04-02T00:59:57.138225Z"
    }
   },
   "outputs": [
    {
     "name": "stdout",
     "output_type": "stream",
     "text": [
      "19:59:57: Finished /Volumes/neuropixel_archive/Data/chronic/CNPIX8-Allan/3-1-2021/3-1-2021_g0/3-1-2021_g0_imec1/3-1-2021_g0_t0.imec1.lf.bin\n",
      "19:59:57: Finished /Volumes/neuropixel_archive/Data/chronic/CNPIX8-Allan/3-1-2021/3-1-2021-a_g0/3-1-2021-a_g0_imec1/3-1-2021-a_g0_t0.imec1.lf.bin\n",
      "19:59:57: Finished /Volumes/neuropixel_archive/Data/chronic/CNPIX8-Allan/3-1-2021/3-1-2021_A_g0/3-1-2021_A_g0_imec1/3-1-2021_A_g0_t0.imec1.lf.bin\n",
      "19:59:57: Finished /Volumes/neuropixel_archive/Data/chronic/CNPIX8-Allan/3-1-2021/3-1-2021_A_g1/3-1-2021_A_g1_imec1/3-1-2021_A_g1_t0.imec1.lf.bin\n",
      "19:59:57: Finished /Volumes/neuropixel_archive/Data/chronic/CNPIX8-Allan/3-1-2021/3-1-2021_A_g1/3-1-2021_A_g1_imec1/3-1-2021_A_g1_t1.imec1.lf.bin\n",
      "19:59:57: Finished /Volumes/neuropixel_archive/Data/chronic/CNPIX8-Allan/3-1-2021/3-1-2021_B_g0/3-1-2021_B_g0_imec1/3-1-2021_B_g0_t0.imec1.lf.bin\n",
      "19:59:57: Finished /Volumes/neuropixel_archive/Data/chronic/CNPIX8-Allan/3-1-2021/3-1-2021_C_g0/3-1-2021_C_g0_imec1/3-1-2021_C_g0_t0.imec1.lf.bin\n",
      "19:59:57: Finished /Volumes/neuropixel_archive/Data/chronic/CNPIX8-Allan/3-1-2021/3-1-2021_C_g0/3-1-2021_C_g0_imec1/3-1-2021_C_g0_t1.imec1.lf.bin\n",
      "19:59:57: Finished /Volumes/neuropixel_archive/Data/chronic/CNPIX8-Allan/3-1-2021/3-1-2021_C_g0/3-1-2021_C_g0_imec1/3-1-2021_C_g0_t2.imec1.lf.bin\n",
      "19:59:57: Finished /Volumes/neuropixel_archive/Data/chronic/CNPIX8-Allan/3-1-2021/3-1-2021_C_g0/3-1-2021_C_g0_imec1/3-1-2021_C_g0_t3.imec1.lf.bin\n",
      "19:59:57: Finished /Volumes/neuropixel_archive/Data/chronic/CNPIX8-Allan/3-1-2021/3-1-2021_C_g0/3-1-2021_C_g0_imec1/3-1-2021_C_g0_t4.imec1.lf.bin\n",
      "19:59:57: Finished /Volumes/neuropixel_archive/Data/chronic/CNPIX8-Allan/3-1-2021/3-1-2021_C_g0/3-1-2021_C_g0_imec1/3-1-2021_C_g0_t5.imec1.lf.bin\n",
      "19:59:58: Finished /Volumes/neuropixel_archive/Data/chronic/CNPIX8-Allan/3-1-2021/3-1-2021_C_g0/3-1-2021_C_g0_imec1/3-1-2021_C_g0_t6.imec1.lf.bin\n",
      "19:59:58: Finished /Volumes/neuropixel_archive/Data/chronic/CNPIX8-Allan/3-1-2021/3-1-2021_C_g0/3-1-2021_C_g0_imec1/3-1-2021_C_g0_t7.imec1.lf.bin\n",
      "19:59:58: Finished /Volumes/neuropixel_archive/Data/chronic/CNPIX8-Allan/3-1-2021/3-1-2021_C_g0/3-1-2021_C_g0_imec1/3-1-2021_C_g0_t8.imec1.lf.bin\n",
      "19:59:58: Finished /Volumes/neuropixel_archive/Data/chronic/CNPIX8-Allan/3-1-2021/3-1-2021_D_g0/3-1-2021_D_g0_imec1/3-1-2021_D_g0_t0.imec1.lf.bin\n",
      "19:59:58: Finished /Volumes/neuropixel_archive/Data/chronic/CNPIX8-Allan/3-1-2021/3-1-2021_D_g0/3-1-2021_D_g0_imec1/3-1-2021_D_g0_t1.imec1.lf.bin\n",
      "19:59:58: Finished /Volumes/neuropixel_archive/Data/chronic/CNPIX8-Allan/3-1-2021/3-1-2021_D_g0/3-1-2021_D_g0_imec1/3-1-2021_D_g0_t2.imec1.lf.bin\n",
      "19:59:58: Finished /Volumes/neuropixel_archive/Data/chronic/CNPIX8-Allan/3-1-2021/3-1-2021_E_g0/3-1-2021_E_g0_imec1/3-1-2021_E_g0_t0.imec1.lf.bin\n",
      "19:59:58: Finished /Volumes/neuropixel_archive/Data/chronic/CNPIX8-Allan/3-1-2021/3-1-2021_E_g0/3-1-2021_E_g0_imec1/3-1-2021_E_g0_t1.imec1.lf.bin\n",
      "19:59:58: Finished /Volumes/neuropixel_archive/Data/chronic/CNPIX8-Allan/3-1-2021/3-1-2021_G_g0/3-1-2021_G_g0_imec1/3-1-2021_G_g0_t0.imec1.lf.bin\n",
      "19:59:58: Finished /Volumes/neuropixel_archive/Data/chronic/CNPIX8-Allan/3-1-2021/3-1-2021_G_g0/3-1-2021_G_g0_imec1/3-1-2021_G_g0_t1.imec1.lf.bin\n",
      "19:59:58: Finished /Volumes/neuropixel_archive/Data/chronic/CNPIX8-Allan/3-1-2021/3-1-2021_H_g0/3-1-2021_H_g0_imec1/3-1-2021_H_g0_t0.imec1.lf.bin\n",
      "19:59:58: Finished /Volumes/neuropixel_archive/Data/chronic/CNPIX8-Allan/3-1-2021/3-1-2021_H_g0/3-1-2021_H_g0_imec1/3-1-2021_H_g0_t1.imec1.lf.bin\n",
      "19:59:58: Finished /Volumes/neuropixel_archive/Data/chronic/CNPIX8-Allan/3-1-2021/3-1-2021_H_g0/3-1-2021_H_g0_imec1/3-1-2021_H_g0_t2.imec1.lf.bin\n",
      "19:59:58: Finished /Volumes/neuropixel_archive/Data/chronic/CNPIX8-Allan/3-1-2021/3-1-2021_J_g0/3-1-2021_J_g0_imec1/3-1-2021_J_g0_t0.imec1.lf.bin\n",
      "19:59:58: Finished /Volumes/neuropixel_archive/Data/chronic/CNPIX8-Allan/3-1-2021/3-2-2021_A_g0/3-2-2021_A_g0_imec1/3-2-2021_A_g0_t0.imec1.lf.bin\n",
      "19:59:59: Finished /Volumes/neuropixel_archive/Data/chronic/CNPIX8-Allan/3-1-2021/3-2-2021_B_g0/3-2-2021_B_g0_imec1/3-2-2021_B_g0_t0.imec1.lf.bin\n",
      "19:59:59: Finished /Volumes/neuropixel_archive/Data/chronic/CNPIX8-Allan/3-1-2021/3-2-2021_B_g0/3-2-2021_B_g0_imec1/3-2-2021_B_g0_t1.imec1.lf.bin\n",
      "19:59:59: Finished /Volumes/neuropixel_archive/Data/chronic/CNPIX8-Allan/3-1-2021/3-2-2021_C_g0/3-2-2021_C_g0_imec1/3-2-2021_C_g0_t0.imec1.lf.bin\n",
      "19:59:59: Finished /Volumes/neuropixel_archive/Data/chronic/CNPIX8-Allan/3-1-2021/3-2-2021_D_g0/3-2-2021_D_g0_imec1/3-2-2021_D_g0_t0.imec1.lf.bin\n",
      "19:59:59: Finished /Volumes/neuropixel_archive/Data/chronic/CNPIX8-Allan/3-1-2021/3-2-2021_D_g0/3-2-2021_D_g0_imec1/3-2-2021_D_g0_t1.imec1.lf.bin\n",
      "19:59:59: Finished /Volumes/neuropixel_archive/Data/chronic/CNPIX8-Allan/3-1-2021/3-2-2021_D_g0/3-2-2021_D_g0_imec1/3-2-2021_D_g0_t2.imec1.lf.bin\n",
      "19:59:59: Finished /Volumes/neuropixel_archive/Data/chronic/CNPIX8-Allan/3-1-2021/3-2-2021_E_g0/3-2-2021_E_g0_imec1/3-2-2021_E_g0_t0.imec1.lf.bin\n",
      "19:59:59: Finished /Volumes/neuropixel_archive/Data/chronic/CNPIX8-Allan/3-1-2021/3-2-2021_F_g0/3-2-2021_F_g0_imec1/3-2-2021_F_g0_t0.imec1.lf.bin\n",
      "19:59:59: Finished /Volumes/neuropixel_archive/Data/chronic/CNPIX8-Allan/3-1-2021/3-2-2021_F_g0/3-2-2021_F_g0_imec1/3-2-2021_F_g0_t1.imec1.lf.bin\n",
      "19:59:59: Finished /Volumes/neuropixel_archive/Data/chronic/CNPIX8-Allan/3-1-2021/3-2-2021_F_g0/3-2-2021_F_g0_imec1/3-2-2021_F_g0_t2.imec1.lf.bin\n",
      "19:59:59: Finished /Volumes/neuropixel_archive/Data/chronic/CNPIX8-Allan/3-1-2021/3-2-2021_F_g0/3-2-2021_F_g0_imec1/3-2-2021_F_g0_t3.imec1.lf.bin\n",
      "19:59:59: Finished /Volumes/neuropixel_archive/Data/chronic/CNPIX8-Allan/3-1-2021/3-2-2021_F_g0/3-2-2021_F_g0_imec1/3-2-2021_F_g0_t4.imec1.lf.bin\n",
      "19:59:59: Finished /Volumes/neuropixel_archive/Data/chronic/CNPIX8-Allan/3-1-2021/3-2-2021_G_g0/3-2-2021_G_g0_imec1/3-2-2021_G_g0_t0.imec1.lf.bin\n",
      "19:59:59: Finished /Volumes/neuropixel_archive/Data/chronic/CNPIX8-Allan/3-1-2021/3-2-2021_G_g0/3-2-2021_G_g0_imec1/3-2-2021_G_g0_t1.imec1.lf.bin\n",
      "19:59:59: Finished /Volumes/neuropixel_archive/Data/chronic/CNPIX8-Allan/3-1-2021/3-2-2021_H_g0/3-2-2021_H_g0_imec1/3-2-2021_H_g0_t0.imec1.lf.bin\n",
      "19:59:59: Finished /Volumes/neuropixel_archive/Data/chronic/CNPIX8-Allan/3-1-2021/3-2-2021_I_g0/3-2-2021_I_g0_imec1/3-2-2021_I_g0_t0.imec1.lf.bin\n",
      "19:59:59: Finished /Volumes/neuropixel_archive/Data/chronic/CNPIX8-Allan/3-1-2021/3-2-2021_I_g0/3-2-2021_I_g0_imec1/3-2-2021_I_g0_t1.imec1.lf.bin\n",
      "20:00:00: Finished /Volumes/neuropixel_archive/Data/chronic/CNPIX8-Allan/3-1-2021/3-2-2021_J_g0/3-2-2021_J_g0_imec1/3-2-2021_J_g0_t0.imec1.lf.bin\n",
      "20:00:00: Finished /Volumes/neuropixel_archive/Data/chronic/CNPIX8-Allan/3-1-2021/3-2-2021_J_g0/3-2-2021_J_g0_imec1/3-2-2021_J_g0_t1.imec1.lf.bin\n",
      "20:00:00: Finished /Volumes/neuropixel_archive/Data/chronic/CNPIX8-Allan/3-1-2021/3-2-2021_K_g0/3-2-2021_K_g0_imec1/3-2-2021_K_g0_t0.imec1.lf.bin\n",
      "20:00:00: Finished /Volumes/neuropixel_archive/Data/chronic/CNPIX8-Allan/3-1-2021/3-2-2021_L_g0/3-2-2021_L_g0_imec1/3-2-2021_L_g0_t0.imec1.lf.bin\n",
      "20:00:00: Finished /Volumes/neuropixel_archive/Data/chronic/CNPIX8-Allan/3-1-2021/3-2-2021_M_g0/3-2-2021_M_g0_imec1/3-2-2021_M_g0_t0.imec1.lf.bin\n",
      "20:00:00: Finished /Volumes/neuropixel_archive/Data/chronic/CNPIX8-Allan/3-1-2021/3-2-2021_N_g0/3-2-2021_N_g0_imec1/3-2-2021_N_g0_t0.imec1.lf.bin\n",
      "20:00:00: Finished /Volumes/neuropixel_archive/Data/chronic/CNPIX8-Allan/3-1-2021/3-2-2021_O_g0/3-2-2021_O_g0_imec1/3-2-2021_O_g0_t0.imec1.lf.bin\n"
     ]
    }
   ],
   "source": [
    "for bin_path, sr_chans_path in zip(bin_paths, sr_chans_paths):\n",
    "    write_empty_sr_chans_file(bin_path, sr_chans_path)\n",
    "    current_time = datetime.now().strftime(\"%H:%M:%S\")\n",
    "    print(f\"{current_time}: Finished {str(bin_path)}\")"
   ]
  },
  {
   "cell_type": "code",
   "execution_count": null,
   "metadata": {},
   "outputs": [],
   "source": []
  }
 ],
 "metadata": {
  "kernelspec": {
   "display_name": "Python 3",
   "language": "python",
   "name": "python3"
  },
  "language_info": {
   "codemirror_mode": {
    "name": "ipython",
    "version": 3
   },
   "file_extension": ".py",
   "mimetype": "text/x-python",
   "name": "python",
   "nbconvert_exporter": "python",
   "pygments_lexer": "ipython3",
   "version": "3.7.9"
  }
 },
 "nbformat": 4,
 "nbformat_minor": 4
}
