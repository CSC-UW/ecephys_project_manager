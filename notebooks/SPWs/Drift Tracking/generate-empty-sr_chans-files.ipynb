{
 "cells": [
  {
   "cell_type": "code",
   "execution_count": 6,
   "metadata": {
    "execution": {
     "iopub.execute_input": "2021-04-12T22:23:12.321891Z",
     "iopub.status.busy": "2021-04-12T22:23:12.321585Z",
     "iopub.status.idle": "2021-04-12T22:23:12.345221Z",
     "shell.execute_reply": "2021-04-12T22:23:12.344388Z",
     "shell.execute_reply.started": "2021-04-12T22:23:12.321855Z"
    }
   },
   "outputs": [
    {
     "name": "stdout",
     "output_type": "stream",
     "text": [
      "The autoreload extension is already loaded. To reload it, use:\n",
      "  %reload_ext autoreload\n"
     ]
    }
   ],
   "source": [
    "%load_ext autoreload\n",
    "%autoreload 2"
   ]
  },
  {
   "cell_type": "code",
   "execution_count": 7,
   "metadata": {
    "execution": {
     "iopub.execute_input": "2021-04-12T22:23:12.736038Z",
     "iopub.status.busy": "2021-04-12T22:23:12.735747Z",
     "iopub.status.idle": "2021-04-12T22:23:12.758840Z",
     "shell.execute_reply": "2021-04-12T22:23:12.758145Z",
     "shell.execute_reply.started": "2021-04-12T22:23:12.736002Z"
    }
   },
   "outputs": [],
   "source": [
    "import pandas as pd\n",
    "import numpy as np\n",
    "from datetime import datetime\n",
    "\n",
    "from ecephys.sglx_utils import load_timestamps\n",
    "from ecephys_analyses.data import paths"
   ]
  },
  {
   "cell_type": "code",
   "execution_count": 8,
   "metadata": {
    "execution": {
     "iopub.execute_input": "2021-04-12T22:23:13.319413Z",
     "iopub.status.busy": "2021-04-12T22:23:13.319127Z",
     "iopub.status.idle": "2021-04-12T22:23:13.342883Z",
     "shell.execute_reply": "2021-04-12T22:23:13.342138Z",
     "shell.execute_reply.started": "2021-04-12T22:23:13.319378Z"
    }
   },
   "outputs": [],
   "source": [
    "def write_empty_sr_chans_file(bin_path, sr_chans_path):\n",
    "    time = load_timestamps(bin_path)\n",
    "    sr_chans = pd.DataFrame({'start_time': [time[0]], 'end_time': [time[-1]], 'sr_chans': [np.NaN]})\n",
    "    sr_chans.to_csv(sr_chans_path, index=False, mode='x')"
   ]
  },
  {
   "cell_type": "code",
   "execution_count": 9,
   "metadata": {
    "execution": {
     "iopub.execute_input": "2021-04-12T22:23:13.823262Z",
     "iopub.status.busy": "2021-04-12T22:23:13.822979Z",
     "iopub.status.idle": "2021-04-12T22:23:13.851811Z",
     "shell.execute_reply": "2021-04-12T22:23:13.850953Z",
     "shell.execute_reply.started": "2021-04-12T22:23:13.823227Z"
    }
   },
   "outputs": [],
   "source": [
    "def write_condition(subject, experiment, condition):\n",
    "    bin_paths = paths.get_sglx_style_datapaths(subject, experiment, condition, \"lf.bin\")\n",
    "    sr_chans_paths = paths.get_sglx_style_datapaths(subject, experiment, condition, \"sr_chans.csv\")\n",
    "    \n",
    "    for sr_chans_path in sr_chans_paths:\n",
    "        sr_chans_path.parent.mkdir(parents=True, exist_ok=True)\n",
    "        \n",
    "    for bin_path, sr_chans_path in zip(bin_paths, sr_chans_paths):\n",
    "        write_empty_sr_chans_file(bin_path, sr_chans_path)\n",
    "        current_time = datetime.now().strftime(\"%H:%M:%S\")\n",
    "        print(f\"{current_time}: Finished {str(bin_path)}\")"
   ]
  },
  {
   "cell_type": "code",
   "execution_count": 10,
   "metadata": {
    "execution": {
     "iopub.execute_input": "2021-04-12T22:23:20.790008Z",
     "iopub.status.busy": "2021-04-12T22:23:20.789689Z",
     "iopub.status.idle": "2021-04-12T22:23:22.785614Z",
     "shell.execute_reply": "2021-04-12T22:23:22.784713Z",
     "shell.execute_reply.started": "2021-04-12T22:23:20.789971Z"
    }
   },
   "outputs": [
    {
     "name": "stdout",
     "output_type": "stream",
     "text": [
      "17:23:21: Finished /Volumes/neuropixel_archive/Data/chronic/CNPIX4-Doppio/3-26-2020/3-26-2020_g0/3-26-2020_g0_imec0/3-26-2020_g0_t0.imec0.lf.bin\n",
      "17:23:21: Finished /Volumes/neuropixel_archive/Data/chronic/CNPIX4-Doppio/3-26-2020/3-26-2020_2_g0/3-26-2020_2_g0_imec0/3-26-2020_2_g0_t0.imec0.lf.bin\n",
      "17:23:22: Finished /Volumes/neuropixel_archive/Data/chronic/CNPIX4-Doppio/3-26-2020/3-26-2020_3_g0/3-26-2020_3_g0_imec0/3-26-2020_3_g0_t0.imec0.lf.bin\n",
      "17:23:22: Finished /Volumes/neuropixel_archive/Data/chronic/CNPIX4-Doppio/3-26-2020/3-26-2020_3_g0/3-26-2020_3_g0_imec0/3-26-2020_3_g0_t1.imec0.lf.bin\n"
     ]
    }
   ],
   "source": [
    "write_condition(\"Doppio\", \"atropine\", \"all\")"
   ]
  },
  {
   "cell_type": "code",
   "execution_count": null,
   "metadata": {},
   "outputs": [],
   "source": []
  }
 ],
 "metadata": {
  "kernelspec": {
   "display_name": "Python 3",
   "language": "python",
   "name": "python3"
  },
  "language_info": {
   "codemirror_mode": {
    "name": "ipython",
    "version": 3
   },
   "file_extension": ".py",
   "mimetype": "text/x-python",
   "name": "python",
   "nbconvert_exporter": "python",
   "pygments_lexer": "ipython3",
   "version": "3.7.9"
  }
 },
 "nbformat": 4,
 "nbformat_minor": 4
}
