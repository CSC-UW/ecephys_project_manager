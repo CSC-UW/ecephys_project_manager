{
 "cells": [
  {
   "cell_type": "code",
   "execution_count": 65,
   "metadata": {
    "execution": {
     "iopub.execute_input": "2021-04-12T23:07:37.564667Z",
     "iopub.status.busy": "2021-04-12T23:07:37.564450Z",
     "iopub.status.idle": "2021-04-12T23:07:37.583803Z",
     "shell.execute_reply": "2021-04-12T23:07:37.583070Z",
     "shell.execute_reply.started": "2021-04-12T23:07:37.564641Z"
    }
   },
   "outputs": [
    {
     "name": "stdout",
     "output_type": "stream",
     "text": [
      "The autoreload extension is already loaded. To reload it, use:\n",
      "  %reload_ext autoreload\n"
     ]
    }
   ],
   "source": [
    "%load_ext autoreload\n",
    "%autoreload 2"
   ]
  },
  {
   "cell_type": "code",
   "execution_count": 66,
   "metadata": {
    "execution": {
     "iopub.execute_input": "2021-04-12T23:07:37.736396Z",
     "iopub.status.busy": "2021-04-12T23:07:37.736267Z",
     "iopub.status.idle": "2021-04-12T23:07:37.753011Z",
     "shell.execute_reply": "2021-04-12T23:07:37.752527Z",
     "shell.execute_reply.started": "2021-04-12T23:07:37.736380Z"
    }
   },
   "outputs": [],
   "source": [
    "import pandas as pd\n",
    "from ast import literal_eval\n",
    "from pathlib import Path"
   ]
  },
  {
   "cell_type": "code",
   "execution_count": 67,
   "metadata": {
    "execution": {
     "iopub.execute_input": "2021-04-12T23:07:37.912627Z",
     "iopub.status.busy": "2021-04-12T23:07:37.912413Z",
     "iopub.status.idle": "2021-04-12T23:07:37.929720Z",
     "shell.execute_reply": "2021-04-12T23:07:37.929111Z",
     "shell.execute_reply.started": "2021-04-12T23:07:37.912599Z"
    }
   },
   "outputs": [],
   "source": [
    "from ecephys.scoring import visbrain_hypnogram_to_datetime, write_datetime_hypnogram\n",
    "from ecephys_analyses.data import paths\n",
    "from ecephys.sglx_utils import load_timeseries"
   ]
  },
  {
   "cell_type": "code",
   "execution_count": 68,
   "metadata": {
    "execution": {
     "iopub.execute_input": "2021-04-12T23:07:38.096926Z",
     "iopub.status.busy": "2021-04-12T23:07:38.096636Z",
     "iopub.status.idle": "2021-04-12T23:07:38.115874Z",
     "shell.execute_reply": "2021-04-12T23:07:38.115293Z",
     "shell.execute_reply.started": "2021-04-12T23:07:38.096889Z"
    }
   },
   "outputs": [],
   "source": [
    "def load_sr_chans(sr_chans_path):\n",
    "    df = pd.read_csv(sr_chans_path)\n",
    "    df.sr_chans = df.sr_chans.apply(lambda x: [] if pd.isnull(x) else list(literal_eval(x)))\n",
    "    df[\"duration\"] = df.apply(lambda row: row.end_time - row.start_time, axis=1)\n",
    "    \n",
    "    return df"
   ]
  },
  {
   "cell_type": "code",
   "execution_count": 69,
   "metadata": {
    "execution": {
     "iopub.execute_input": "2021-04-12T23:07:38.264375Z",
     "iopub.status.busy": "2021-04-12T23:07:38.264179Z",
     "iopub.status.idle": "2021-04-12T23:07:38.282649Z",
     "shell.execute_reply": "2021-04-12T23:07:38.282178Z",
     "shell.execute_reply.started": "2021-04-12T23:07:38.264350Z"
    }
   },
   "outputs": [],
   "source": [
    "def write_datetime_format(sr_chans_dt, path):\n",
    "    Path(path).parent.mkdir(parents=True, exist_ok=True)\n",
    "    sr_chans_dt.to_csv(\n",
    "        path,\n",
    "        columns=[\"sr_chans\", \"start_time\", \"end_time\", \"duration\"],\n",
    "        sep=\"\\t\",\n",
    "        index=False\n",
    "    )"
   ]
  },
  {
   "cell_type": "code",
   "execution_count": 70,
   "metadata": {
    "execution": {
     "iopub.execute_input": "2021-04-12T23:07:38.432361Z",
     "iopub.status.busy": "2021-04-12T23:07:38.432165Z",
     "iopub.status.idle": "2021-04-12T23:07:38.452807Z",
     "shell.execute_reply": "2021-04-12T23:07:38.452201Z",
     "shell.execute_reply.started": "2021-04-12T23:07:38.432336Z"
    }
   },
   "outputs": [],
   "source": [
    "def write_experiment(subject, experiment):\n",
    "    bin_paths = paths.get_sglx_style_datapaths(subject, experiment, \"all\", ext=\"lf.bin\")\n",
    "    sr_chans_paths = paths.get_sglx_style_datapaths(subject, experiment, \"all\", ext=\"sr_chans.csv\")\n",
    "    sr_chans_dt_paths = paths.get_sglx_style_datapaths(subject, experiment, \"all\", ext=\"sr_chans.tsv\")\n",
    "    \n",
    "    all_sr_chans = [load_sr_chans(path) for path in sr_chans_paths]\n",
    "    sigs = [load_timeseries(path, chans=[0], start_time=0, end_time=1) for path in bin_paths]\n",
    "        \n",
    "    for sig, sr_chans, sr_chans_dt_path in zip(sigs, all_sr_chans, sr_chans_dt_paths):\n",
    "        file_start_dt = pd.to_datetime(sig.fileCreateTime)\n",
    "        sr_chans_dt = visbrain_hypnogram_to_datetime(sr_chans, file_start_dt)\n",
    "        write_datetime_format(sr_chans_dt, sr_chans_dt_path)"
   ]
  },
  {
   "cell_type": "code",
   "execution_count": 71,
   "metadata": {
    "execution": {
     "iopub.execute_input": "2021-04-12T23:07:49.494384Z",
     "iopub.status.busy": "2021-04-12T23:07:49.493951Z",
     "iopub.status.idle": "2021-04-12T23:08:00.167579Z",
     "shell.execute_reply": "2021-04-12T23:08:00.166217Z",
     "shell.execute_reply.started": "2021-04-12T23:07:49.494333Z"
    }
   },
   "outputs": [
    {
     "name": "stdout",
     "output_type": "stream",
     "text": [
      "nChan: 385, nFileSamp: 1802362\n",
      "nChan: 385, nFileSamp: 4977007\n",
      "nChan: 385, nFileSamp: 18000039\n",
      "nChan: 385, nFileSamp: 8553813\n"
     ]
    }
   ],
   "source": [
    "write_experiment(subject=\"Doppio\", experiment=\"atropine\")"
   ]
  },
  {
   "cell_type": "code",
   "execution_count": null,
   "metadata": {},
   "outputs": [],
   "source": []
  }
 ],
 "metadata": {
  "kernelspec": {
   "display_name": "Python 3",
   "language": "python",
   "name": "python3"
  },
  "language_info": {
   "codemirror_mode": {
    "name": "ipython",
    "version": 3
   },
   "file_extension": ".py",
   "mimetype": "text/x-python",
   "name": "python",
   "nbconvert_exporter": "python",
   "pygments_lexer": "ipython3",
   "version": "3.7.9"
  }
 },
 "nbformat": 4,
 "nbformat_minor": 4
}
