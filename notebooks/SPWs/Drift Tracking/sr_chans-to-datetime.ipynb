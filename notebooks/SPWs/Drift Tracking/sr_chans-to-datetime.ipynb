{
 "cells": [
  {
   "cell_type": "code",
   "execution_count": 1,
   "metadata": {
    "execution": {
     "iopub.execute_input": "2021-04-14T21:55:59.306416Z",
     "iopub.status.busy": "2021-04-14T21:55:59.306152Z",
     "iopub.status.idle": "2021-04-14T21:55:59.320492Z",
     "shell.execute_reply": "2021-04-14T21:55:59.319844Z",
     "shell.execute_reply.started": "2021-04-14T21:55:59.306380Z"
    }
   },
   "outputs": [],
   "source": [
    "%load_ext autoreload\n",
    "%autoreload 2"
   ]
  },
  {
   "cell_type": "code",
   "execution_count": 2,
   "metadata": {
    "execution": {
     "iopub.execute_input": "2021-04-14T21:55:59.493608Z",
     "iopub.status.busy": "2021-04-14T21:55:59.493138Z",
     "iopub.status.idle": "2021-04-14T21:55:59.508482Z",
     "shell.execute_reply": "2021-04-14T21:55:59.507872Z",
     "shell.execute_reply.started": "2021-04-14T21:55:59.493550Z"
    }
   },
   "outputs": [],
   "source": [
    "import pandas as pd\n",
    "from ast import literal_eval\n",
    "from pathlib import Path"
   ]
  },
  {
   "cell_type": "code",
   "execution_count": 3,
   "metadata": {
    "execution": {
     "iopub.execute_input": "2021-04-14T21:55:59.677323Z",
     "iopub.status.busy": "2021-04-14T21:55:59.676928Z",
     "iopub.status.idle": "2021-04-14T21:56:00.311423Z",
     "shell.execute_reply": "2021-04-14T21:56:00.310596Z",
     "shell.execute_reply.started": "2021-04-14T21:55:59.677272Z"
    }
   },
   "outputs": [],
   "source": [
    "from ecephys.scoring import visbrain_hypnogram_to_datetime, write_datetime_hypnogram\n",
    "from ecephys_analyses.data import paths\n",
    "from ecephys.sglx_utils import load_timeseries"
   ]
  },
  {
   "cell_type": "code",
   "execution_count": 4,
   "metadata": {
    "execution": {
     "iopub.execute_input": "2021-04-14T21:56:00.327373Z",
     "iopub.status.busy": "2021-04-14T21:56:00.327240Z",
     "iopub.status.idle": "2021-04-14T21:56:00.339308Z",
     "shell.execute_reply": "2021-04-14T21:56:00.338662Z",
     "shell.execute_reply.started": "2021-04-14T21:56:00.327356Z"
    }
   },
   "outputs": [],
   "source": [
    "def load_sr_chans(sr_chans_path):\n",
    "    df = pd.read_csv(sr_chans_path)\n",
    "    df.sr_chans = df.sr_chans.apply(lambda x: [] if pd.isnull(x) else list(literal_eval(x)))\n",
    "    df[\"duration\"] = df.apply(lambda row: row.end_time - row.start_time, axis=1)\n",
    "    \n",
    "    return df"
   ]
  },
  {
   "cell_type": "code",
   "execution_count": 5,
   "metadata": {
    "execution": {
     "iopub.execute_input": "2021-04-14T21:56:00.340196Z",
     "iopub.status.busy": "2021-04-14T21:56:00.340044Z",
     "iopub.status.idle": "2021-04-14T21:56:00.350961Z",
     "shell.execute_reply": "2021-04-14T21:56:00.350257Z",
     "shell.execute_reply.started": "2021-04-14T21:56:00.340179Z"
    }
   },
   "outputs": [],
   "source": [
    "def write_datetime_format(sr_chans_dt, path):\n",
    "    Path(path).parent.mkdir(parents=True, exist_ok=True)\n",
    "    sr_chans_dt.to_csv(\n",
    "        path,\n",
    "        columns=[\"sr_chans\", \"start_time\", \"end_time\", \"duration\"],\n",
    "        sep=\"\\t\",\n",
    "        index=False\n",
    "    )"
   ]
  },
  {
   "cell_type": "code",
   "execution_count": 6,
   "metadata": {
    "execution": {
     "iopub.execute_input": "2021-04-14T21:56:00.351667Z",
     "iopub.status.busy": "2021-04-14T21:56:00.351532Z",
     "iopub.status.idle": "2021-04-14T21:56:00.365930Z",
     "shell.execute_reply": "2021-04-14T21:56:00.365136Z",
     "shell.execute_reply.started": "2021-04-14T21:56:00.351650Z"
    }
   },
   "outputs": [],
   "source": [
    "def write_experiment(subject, experiment):\n",
    "    bin_paths = paths.get_sglx_style_datapaths(subject, experiment, \"all\", ext=\"lf.bin\")\n",
    "    sr_chans_paths = paths.get_sglx_style_datapaths(subject, experiment, \"all\", ext=\"sr_chans.csv\")\n",
    "    sr_chans_dt_paths = paths.get_sglx_style_datapaths(subject, experiment, \"all\", ext=\"sr_chans.tsv\")\n",
    "    \n",
    "    all_sr_chans = [load_sr_chans(path) for path in sr_chans_paths]\n",
    "    sigs = [load_timeseries(path, chans=[0], start_time=0, end_time=1) for path in bin_paths]\n",
    "        \n",
    "    for sig, sr_chans, sr_chans_dt_path in zip(sigs, all_sr_chans, sr_chans_dt_paths):\n",
    "        file_start_dt = pd.to_datetime(sig.fileCreateTime)\n",
    "        sr_chans_dt = visbrain_hypnogram_to_datetime(sr_chans, file_start_dt)\n",
    "        write_datetime_format(sr_chans_dt, sr_chans_dt_path)"
   ]
  },
  {
   "cell_type": "code",
   "execution_count": 7,
   "metadata": {
    "execution": {
     "iopub.execute_input": "2021-04-14T21:56:04.913469Z",
     "iopub.status.busy": "2021-04-14T21:56:04.913088Z",
     "iopub.status.idle": "2021-04-14T21:56:24.069560Z",
     "shell.execute_reply": "2021-04-14T21:56:24.068192Z",
     "shell.execute_reply.started": "2021-04-14T21:56:04.913426Z"
    }
   },
   "outputs": [
    {
     "name": "stdout",
     "output_type": "stream",
     "text": [
      "nChan: 385, nFileSamp: 4018192\n",
      "nChan: 385, nFileSamp: 5683927\n",
      "nChan: 385, nFileSamp: 2349682\n",
      "nChan: 385, nFileSamp: 9000017\n",
      "nChan: 385, nFileSamp: 9000017\n",
      "nChan: 385, nFileSamp: 9000017\n",
      "nChan: 385, nFileSamp: 4553746\n"
     ]
    }
   ],
   "source": [
    "write_experiment(subject=\"Doppio\", experiment=\"atropine-50mg\")"
   ]
  },
  {
   "cell_type": "code",
   "execution_count": null,
   "metadata": {},
   "outputs": [],
   "source": []
  }
 ],
 "metadata": {
  "kernelspec": {
   "display_name": "Python 3",
   "language": "python",
   "name": "python3"
  },
  "language_info": {
   "codemirror_mode": {
    "name": "ipython",
    "version": 3
   },
   "file_extension": ".py",
   "mimetype": "text/x-python",
   "name": "python",
   "nbconvert_exporter": "python",
   "pygments_lexer": "ipython3",
   "version": "3.7.9"
  }
 },
 "nbformat": 4,
 "nbformat_minor": 4
}
