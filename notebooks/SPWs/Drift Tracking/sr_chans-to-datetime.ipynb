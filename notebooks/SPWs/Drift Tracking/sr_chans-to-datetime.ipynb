{
 "cells": [
  {
   "cell_type": "code",
   "execution_count": 1,
   "metadata": {
    "execution": {
     "iopub.execute_input": "2021-05-05T18:16:21.157345Z",
     "iopub.status.busy": "2021-05-05T18:16:21.156855Z",
     "iopub.status.idle": "2021-05-05T18:16:21.174015Z",
     "shell.execute_reply": "2021-05-05T18:16:21.173434Z",
     "shell.execute_reply.started": "2021-05-05T18:16:21.157287Z"
    }
   },
   "outputs": [],
   "source": [
    "%load_ext autoreload\n",
    "%autoreload 2"
   ]
  },
  {
   "cell_type": "code",
   "execution_count": 2,
   "metadata": {
    "execution": {
     "iopub.execute_input": "2021-05-05T18:16:22.138575Z",
     "iopub.status.busy": "2021-05-05T18:16:22.137893Z",
     "iopub.status.idle": "2021-05-05T18:16:22.154680Z",
     "shell.execute_reply": "2021-05-05T18:16:22.153368Z",
     "shell.execute_reply.started": "2021-05-05T18:16:22.138507Z"
    }
   },
   "outputs": [],
   "source": [
    "import pandas as pd\n",
    "from ast import literal_eval\n",
    "from pathlib import Path"
   ]
  },
  {
   "cell_type": "code",
   "execution_count": 3,
   "metadata": {
    "execution": {
     "iopub.execute_input": "2021-05-05T18:16:22.769582Z",
     "iopub.status.busy": "2021-05-05T18:16:22.769220Z",
     "iopub.status.idle": "2021-05-05T18:16:23.340578Z",
     "shell.execute_reply": "2021-05-05T18:16:23.339727Z",
     "shell.execute_reply.started": "2021-05-05T18:16:22.769546Z"
    }
   },
   "outputs": [],
   "source": [
    "from ecephys.scoring import visbrain_hypnogram_to_datetime, write_datetime_hypnogram\n",
    "from ecephys.sglx_utils import load_timeseries\n",
    "import ecephys_analyses as ea"
   ]
  },
  {
   "cell_type": "code",
   "execution_count": 4,
   "metadata": {
    "execution": {
     "iopub.execute_input": "2021-05-05T18:16:23.384330Z",
     "iopub.status.busy": "2021-05-05T18:16:23.383993Z",
     "iopub.status.idle": "2021-05-05T18:16:23.403955Z",
     "shell.execute_reply": "2021-05-05T18:16:23.403269Z",
     "shell.execute_reply.started": "2021-05-05T18:16:23.384288Z"
    }
   },
   "outputs": [],
   "source": [
    "def load_sr_chans(sr_chans_path):\n",
    "    df = pd.read_csv(sr_chans_path)\n",
    "    df.sr_chans = df.sr_chans.apply(lambda x: [] if pd.isnull(x) else list(literal_eval(x)))\n",
    "    df[\"duration\"] = df.apply(lambda row: row.end_time - row.start_time, axis=1)\n",
    "    \n",
    "    return df"
   ]
  },
  {
   "cell_type": "code",
   "execution_count": 5,
   "metadata": {
    "execution": {
     "iopub.execute_input": "2021-05-05T18:16:23.545346Z",
     "iopub.status.busy": "2021-05-05T18:16:23.544939Z",
     "iopub.status.idle": "2021-05-05T18:16:23.563512Z",
     "shell.execute_reply": "2021-05-05T18:16:23.562961Z",
     "shell.execute_reply.started": "2021-05-05T18:16:23.545297Z"
    }
   },
   "outputs": [],
   "source": [
    "def write_datetime_format(sr_chans_dt, path):\n",
    "    Path(path).parent.mkdir(parents=True, exist_ok=True)\n",
    "    sr_chans_dt.to_csv(\n",
    "        path,\n",
    "        columns=[\"sr_chans\", \"start_time\", \"end_time\", \"duration\"],\n",
    "        sep=\"\\t\",\n",
    "        index=False\n",
    "    )"
   ]
  },
  {
   "cell_type": "code",
   "execution_count": 6,
   "metadata": {
    "execution": {
     "iopub.execute_input": "2021-05-05T18:16:23.897090Z",
     "iopub.status.busy": "2021-05-05T18:16:23.896686Z",
     "iopub.status.idle": "2021-05-05T18:16:23.918342Z",
     "shell.execute_reply": "2021-05-05T18:16:23.917755Z",
     "shell.execute_reply.started": "2021-05-05T18:16:23.897046Z"
    }
   },
   "outputs": [],
   "source": [
    "def write_experiment(subject, experiment):\n",
    "    bin_paths = ea.get_sglx_style_datapaths(subject, experiment, \"all\", ext=\"lf.bin\")\n",
    "    sr_chans_paths = ea.get_sglx_style_datapaths(subject, experiment, \"all\", ext=\"sr_chans.csv\")\n",
    "    sr_chans_dt_paths = ea.get_sglx_style_datapaths(subject, experiment, \"all\", ext=\"sr_chans.tsv\")\n",
    "    \n",
    "    all_sr_chans = [load_sr_chans(path) for path in sr_chans_paths]\n",
    "    sigs = [load_timeseries(path, chans=[0], start_time=0, end_time=1) for path in bin_paths]\n",
    "        \n",
    "    for sig, sr_chans, sr_chans_dt_path in zip(sigs, all_sr_chans, sr_chans_dt_paths):\n",
    "        file_start_dt = pd.to_datetime(sig.fileCreateTime)\n",
    "        sr_chans_dt = visbrain_hypnogram_to_datetime(sr_chans, file_start_dt)\n",
    "        write_datetime_format(sr_chans_dt, sr_chans_dt_path)"
   ]
  },
  {
   "cell_type": "code",
   "execution_count": 7,
   "metadata": {
    "execution": {
     "iopub.execute_input": "2021-05-05T18:16:29.174798Z",
     "iopub.status.busy": "2021-05-05T18:16:29.174230Z",
     "iopub.status.idle": "2021-05-05T18:16:32.050311Z",
     "shell.execute_reply": "2021-05-05T18:16:32.049403Z",
     "shell.execute_reply.started": "2021-05-05T18:16:29.174734Z"
    }
   },
   "outputs": [
    {
     "name": "stdout",
     "output_type": "stream",
     "text": [
      "nChan: 385, nFileSamp: 17644049\n",
      "nChan: 385, nFileSamp: 17999996\n",
      "nChan: 385, nFileSamp: 17999996\n",
      "nChan: 385, nFileSamp: 6268558\n"
     ]
    }
   ],
   "source": [
    "write_experiment(\"Allan\", \"atropine\")"
   ]
  },
  {
   "cell_type": "code",
   "execution_count": null,
   "metadata": {},
   "outputs": [],
   "source": []
  }
 ],
 "metadata": {
  "kernelspec": {
   "display_name": "Python 3",
   "language": "python",
   "name": "python3"
  },
  "language_info": {
   "codemirror_mode": {
    "name": "ipython",
    "version": 3
   },
   "file_extension": ".py",
   "mimetype": "text/x-python",
   "name": "python",
   "nbconvert_exporter": "python",
   "pygments_lexer": "ipython3",
   "version": "3.7.9"
  }
 },
 "nbformat": 4,
 "nbformat_minor": 4
}
