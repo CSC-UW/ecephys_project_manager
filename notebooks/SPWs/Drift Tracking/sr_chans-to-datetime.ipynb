{
 "cells": [
  {
   "cell_type": "code",
   "execution_count": 47,
   "metadata": {
    "execution": {
     "iopub.execute_input": "2021-04-02T19:05:36.925226Z",
     "iopub.status.busy": "2021-04-02T19:05:36.924706Z",
     "iopub.status.idle": "2021-04-02T19:05:36.950603Z",
     "shell.execute_reply": "2021-04-02T19:05:36.949895Z",
     "shell.execute_reply.started": "2021-04-02T19:05:36.925163Z"
    }
   },
   "outputs": [
    {
     "name": "stdout",
     "output_type": "stream",
     "text": [
      "The autoreload extension is already loaded. To reload it, use:\n",
      "  %reload_ext autoreload\n"
     ]
    }
   ],
   "source": [
    "%load_ext autoreload\n",
    "%autoreload 2"
   ]
  },
  {
   "cell_type": "code",
   "execution_count": 48,
   "metadata": {
    "execution": {
     "iopub.execute_input": "2021-04-02T19:06:15.813437Z",
     "iopub.status.busy": "2021-04-02T19:06:15.812868Z",
     "iopub.status.idle": "2021-04-02T19:06:15.833018Z",
     "shell.execute_reply": "2021-04-02T19:06:15.832129Z",
     "shell.execute_reply.started": "2021-04-02T19:06:15.813370Z"
    }
   },
   "outputs": [],
   "source": [
    "import pandas as pd\n",
    "from ast import literal_eval\n",
    "from pathlib import Path"
   ]
  },
  {
   "cell_type": "code",
   "execution_count": 49,
   "metadata": {
    "execution": {
     "iopub.execute_input": "2021-04-02T19:06:16.219250Z",
     "iopub.status.busy": "2021-04-02T19:06:16.218776Z",
     "iopub.status.idle": "2021-04-02T19:06:16.235725Z",
     "shell.execute_reply": "2021-04-02T19:06:16.234896Z",
     "shell.execute_reply.started": "2021-04-02T19:06:16.219191Z"
    }
   },
   "outputs": [],
   "source": [
    "from ecephys.scoring import visbrain_hypnogram_to_datetime, write_datetime_hypnogram\n",
    "from ecephys_analyses.data import paths\n",
    "from ecephys.sglx_utils import load_timeseries"
   ]
  },
  {
   "cell_type": "code",
   "execution_count": 50,
   "metadata": {
    "execution": {
     "iopub.execute_input": "2021-04-02T19:06:16.795017Z",
     "iopub.status.busy": "2021-04-02T19:06:16.794550Z",
     "iopub.status.idle": "2021-04-02T19:06:16.815706Z",
     "shell.execute_reply": "2021-04-02T19:06:16.814828Z",
     "shell.execute_reply.started": "2021-04-02T19:06:16.794958Z"
    }
   },
   "outputs": [],
   "source": [
    "def load_sr_chans(sr_chans_path):\n",
    "    df = pd.read_csv(sr_chans_path)\n",
    "    df.sr_chans = df.sr_chans.apply(lambda x: [] if pd.isnull(x) else list(literal_eval(x)))\n",
    "    df[\"duration\"] = df.apply(lambda row: row.end_time - row.start_time, axis=1)\n",
    "    \n",
    "    return df"
   ]
  },
  {
   "cell_type": "code",
   "execution_count": 55,
   "metadata": {
    "execution": {
     "iopub.execute_input": "2021-04-02T19:16:50.955634Z",
     "iopub.status.busy": "2021-04-02T19:16:50.955110Z",
     "iopub.status.idle": "2021-04-02T19:16:50.975351Z",
     "shell.execute_reply": "2021-04-02T19:16:50.974465Z",
     "shell.execute_reply.started": "2021-04-02T19:16:50.955572Z"
    }
   },
   "outputs": [],
   "source": [
    "def write_datetime_format(sr_chans_dt, path):\n",
    "    Path(path).parent.mkdir(parents=True, exist_ok=True)\n",
    "    sr_chans_dt.to_csv(\n",
    "        path,\n",
    "        columns=[\"sr_chans\", \"start_time\", \"end_time\", \"duration\"],\n",
    "        sep=\"\\t\",\n",
    "        index=False\n",
    "    )"
   ]
  },
  {
   "cell_type": "code",
   "execution_count": 56,
   "metadata": {
    "execution": {
     "iopub.execute_input": "2021-04-02T19:16:51.865322Z",
     "iopub.status.busy": "2021-04-02T19:16:51.864825Z",
     "iopub.status.idle": "2021-04-02T19:16:51.890719Z",
     "shell.execute_reply": "2021-04-02T19:16:51.889866Z",
     "shell.execute_reply.started": "2021-04-02T19:16:51.865240Z"
    }
   },
   "outputs": [],
   "source": [
    "def write_experiment(subject, experiment):\n",
    "    bin_paths = paths.get_sglx_style_datapaths(subject, experiment, \"all\", ext=\"lf.bin\")\n",
    "    sr_chans_paths = paths.get_sglx_style_datapaths(subject, experiment, \"all\", ext=\"sr_chans.csv\")\n",
    "    sr_chans_dt_paths = paths.get_sglx_style_datapaths(subject, experiment, \"all\", ext=\"sr_chans.tsv\")\n",
    "    \n",
    "    all_sr_chans = [load_sr_chans(path) for path in sr_chans_paths]\n",
    "    sigs = [load_timeseries(path, chans=[0], start_time=0, end_time=1) for path in bin_paths]\n",
    "        \n",
    "    for sig, sr_chans, sr_chans_dt_path in zip(sigs, all_sr_chans, sr_chans_dt_paths):\n",
    "        file_start_dt = pd.to_datetime(sig.fileCreateTime)\n",
    "        sr_chans_dt = visbrain_hypnogram_to_datetime(sr_chans, file_start_dt)\n",
    "        write_datetime_format(sr_chans_dt, sr_chans_dt_path)"
   ]
  },
  {
   "cell_type": "code",
   "execution_count": 57,
   "metadata": {
    "execution": {
     "iopub.execute_input": "2021-04-02T19:16:52.258096Z",
     "iopub.status.busy": "2021-04-02T19:16:52.257655Z",
     "iopub.status.idle": "2021-04-02T19:16:57.516801Z",
     "shell.execute_reply": "2021-04-02T19:16:57.515992Z",
     "shell.execute_reply.started": "2021-04-02T19:16:52.258040Z"
    }
   },
   "outputs": [
    {
     "name": "stdout",
     "output_type": "stream",
     "text": [
      "nChan: 385, nFileSamp: 4242731\n",
      "nChan: 385, nFileSamp: 361262\n",
      "nChan: 385, nFileSamp: 3863847\n",
      "nChan: 385, nFileSamp: 8999998\n",
      "nChan: 385, nFileSamp: 8999998\n",
      "nChan: 385, nFileSamp: 4274822\n",
      "nChan: 385, nFileSamp: 8999998\n",
      "nChan: 385, nFileSamp: 8999998\n",
      "nChan: 385, nFileSamp: 8999998\n",
      "nChan: 385, nFileSamp: 8999998\n",
      "nChan: 385, nFileSamp: 8999998\n",
      "nChan: 385, nFileSamp: 8999998\n",
      "nChan: 385, nFileSamp: 8999998\n",
      "nChan: 385, nFileSamp: 8999998\n",
      "nChan: 385, nFileSamp: 6626338\n",
      "nChan: 385, nFileSamp: 8999999\n",
      "nChan: 385, nFileSamp: 8999998\n",
      "nChan: 385, nFileSamp: 1747894\n",
      "nChan: 385, nFileSamp: 8999998\n",
      "nChan: 385, nFileSamp: 8998952\n",
      "nChan: 385, nFileSamp: 8999999\n",
      "nChan: 385, nFileSamp: 6172746\n",
      "nChan: 385, nFileSamp: 8999998\n",
      "nChan: 385, nFileSamp: 8999998\n",
      "nChan: 385, nFileSamp: 3449805\n",
      "nChan: 385, nFileSamp: 4577439\n",
      "nChan: 385, nFileSamp: 3682820\n",
      "nChan: 385, nFileSamp: 8999998\n",
      "nChan: 385, nFileSamp: 4821759\n",
      "nChan: 385, nFileSamp: 7183437\n",
      "nChan: 385, nFileSamp: 8999999\n",
      "nChan: 385, nFileSamp: 8999998\n",
      "nChan: 385, nFileSamp: 4053617\n",
      "nChan: 385, nFileSamp: 2128585\n",
      "nChan: 385, nFileSamp: 8999998\n",
      "nChan: 385, nFileSamp: 8999998\n",
      "nChan: 385, nFileSamp: 8999998\n",
      "nChan: 385, nFileSamp: 8999998\n",
      "nChan: 385, nFileSamp: 8999999\n",
      "nChan: 385, nFileSamp: 8999999\n",
      "nChan: 385, nFileSamp: 787423\n",
      "nChan: 385, nFileSamp: 4193453\n",
      "nChan: 385, nFileSamp: 8999998\n",
      "nChan: 385, nFileSamp: 8223829\n",
      "nChan: 385, nFileSamp: 8999999\n",
      "nChan: 385, nFileSamp: 8999998\n",
      "nChan: 385, nFileSamp: 8999998\n",
      "nChan: 385, nFileSamp: 8999999\n",
      "nChan: 385, nFileSamp: 7934693\n",
      "nChan: 385, nFileSamp: 5289645\n",
      "nChan: 385, nFileSamp: 5093264\n"
     ]
    }
   ],
   "source": [
    "write_experiment(subject=\"Allan\", experiment=\"sleep-homeostasis\")"
   ]
  },
  {
   "cell_type": "code",
   "execution_count": null,
   "metadata": {},
   "outputs": [],
   "source": []
  }
 ],
 "metadata": {
  "kernelspec": {
   "display_name": "Python 3",
   "language": "python",
   "name": "python3"
  },
  "language_info": {
   "codemirror_mode": {
    "name": "ipython",
    "version": 3
   },
   "file_extension": ".py",
   "mimetype": "text/x-python",
   "name": "python",
   "nbconvert_exporter": "python",
   "pygments_lexer": "ipython3",
   "version": "3.7.9"
  }
 },
 "nbformat": 4,
 "nbformat_minor": 4
}
