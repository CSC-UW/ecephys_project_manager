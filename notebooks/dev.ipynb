{
 "cells": [
  {
   "cell_type": "code",
   "execution_count": 1,
   "metadata": {
    "execution": {
     "iopub.execute_input": "2021-07-22T21:18:52.028931Z",
     "iopub.status.busy": "2021-07-22T21:18:52.028475Z",
     "iopub.status.idle": "2021-07-22T21:18:52.043407Z",
     "shell.execute_reply": "2021-07-22T21:18:52.042762Z",
     "shell.execute_reply.started": "2021-07-22T21:18:52.028875Z"
    }
   },
   "outputs": [],
   "source": [
    "%load_ext autoreload\n",
    "%autoreload 2"
   ]
  },
  {
   "cell_type": "code",
   "execution_count": 2,
   "metadata": {
    "execution": {
     "iopub.execute_input": "2021-07-22T21:18:52.906841Z",
     "iopub.status.busy": "2021-07-22T21:18:52.906325Z",
     "iopub.status.idle": "2021-07-22T21:18:53.262029Z",
     "shell.execute_reply": "2021-07-22T21:18:53.261250Z",
     "shell.execute_reply.started": "2021-07-22T21:18:52.906781Z"
    }
   },
   "outputs": [],
   "source": [
    "import xarray as xr\n",
    "import numpy as np"
   ]
  },
  {
   "cell_type": "code",
   "execution_count": 3,
   "metadata": {
    "execution": {
     "iopub.execute_input": "2021-07-22T21:18:54.340094Z",
     "iopub.status.busy": "2021-07-22T21:18:54.339495Z",
     "iopub.status.idle": "2021-07-22T21:18:54.359913Z",
     "shell.execute_reply": "2021-07-22T21:18:54.359174Z",
     "shell.execute_reply.started": "2021-07-22T21:18:54.339987Z"
    }
   },
   "outputs": [],
   "source": [
    "data = xr.DataArray(np.random.randn(10), dims=(\"x\"), coords={\"x\": np.arange(10)})"
   ]
  },
  {
   "cell_type": "code",
   "execution_count": 4,
   "metadata": {
    "execution": {
     "iopub.execute_input": "2021-07-22T21:18:55.611440Z",
     "iopub.status.busy": "2021-07-22T21:18:55.611111Z",
     "iopub.status.idle": "2021-07-22T21:18:55.630566Z",
     "shell.execute_reply": "2021-07-22T21:18:55.629729Z",
     "shell.execute_reply.started": "2021-07-22T21:18:55.611406Z"
    }
   },
   "outputs": [
    {
     "data": {
      "text/plain": [
       "array([-0.35480058,  0.19496304,  0.51669105,  2.14386058, -0.31984387,\n",
       "        1.1358948 ,  1.57491172,  1.06621785,  0.16105768,  0.21019378])"
      ]
     },
     "execution_count": 4,
     "metadata": {},
     "output_type": "execute_result"
    }
   ],
   "source": [
    "data.values"
   ]
  },
  {
   "cell_type": "code",
   "execution_count": null,
   "metadata": {},
   "outputs": [],
   "source": []
  }
 ],
 "metadata": {
  "kernelspec": {
   "display_name": "Python 3",
   "language": "python",
   "name": "python3"
  },
  "language_info": {
   "codemirror_mode": {
    "name": "ipython",
    "version": 3
   },
   "file_extension": ".py",
   "mimetype": "text/x-python",
   "name": "python",
   "nbconvert_exporter": "python",
   "pygments_lexer": "ipython3",
   "version": "3.7.9"
  }
 },
 "nbformat": 4,
 "nbformat_minor": 4
}
