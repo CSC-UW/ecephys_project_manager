{
 "cells": [
  {
   "cell_type": "code",
   "execution_count": 1,
   "metadata": {
    "execution": {
     "iopub.execute_input": "2021-08-25T19:02:27.437543Z",
     "iopub.status.busy": "2021-08-25T19:02:27.436970Z",
     "iopub.status.idle": "2021-08-25T19:02:27.444091Z",
     "shell.execute_reply": "2021-08-25T19:02:27.443072Z",
     "shell.execute_reply.started": "2021-08-25T19:02:27.437384Z"
    },
    "tags": []
   },
   "outputs": [],
   "source": [
    "# TODOS:\n",
    "# Add warnings if expected directory or files do not exist\n",
    "# Comment heavily"
   ]
  },
  {
   "cell_type": "code",
   "execution_count": 2,
   "metadata": {
    "execution": {
     "iopub.execute_input": "2021-08-25T19:02:27.681755Z",
     "iopub.status.busy": "2021-08-25T19:02:27.681037Z",
     "iopub.status.idle": "2021-08-25T19:02:27.701808Z",
     "shell.execute_reply": "2021-08-25T19:02:27.701245Z",
     "shell.execute_reply.started": "2021-08-25T19:02:27.681712Z"
    },
    "tags": []
   },
   "outputs": [],
   "source": [
    "%load_ext autoreload\n",
    "%autoreload 2"
   ]
  },
  {
   "cell_type": "code",
   "execution_count": 3,
   "metadata": {
    "execution": {
     "iopub.execute_input": "2021-08-25T19:02:28.056577Z",
     "iopub.status.busy": "2021-08-25T19:02:28.056168Z",
     "iopub.status.idle": "2021-08-25T19:02:29.075222Z",
     "shell.execute_reply": "2021-08-25T19:02:29.074589Z",
     "shell.execute_reply.started": "2021-08-25T19:02:28.056537Z"
    },
    "tags": []
   },
   "outputs": [
    {
     "data": {
      "text/plain": [
       "array([346, 348, 350, 352, 354, 356, 358, 360, 362, 364, 366, 368, 370,\n",
       "       372, 374, 376, 378, 380, 382,   1,   3,   5,   7,   9,  11,  13,\n",
       "        15,  17,  19,  21,  23,  25,  27,  29,  31,  33,  35,  37,  39,\n",
       "        41,  43,  45,  47,  49,  51,  53,  55,  57,  59,  61,  63,  65,\n",
       "        67,  69,  71,  73,  75,  77,  79,  81,  83,  85,  87,  89,  91,\n",
       "        93,  95,  97,  99, 101, 103, 105, 107, 109, 111, 113, 115, 117,\n",
       "       119, 121, 123, 125, 127, 129, 131, 133, 135, 137, 139, 141, 143,\n",
       "       145, 147, 149, 151, 153, 155, 157, 159, 161, 163, 165, 167, 169,\n",
       "       171, 173, 175, 177, 179, 181, 183, 185, 187, 189])"
      ]
     },
     "execution_count": 3,
     "metadata": {},
     "output_type": "execute_result"
    }
   ],
   "source": [
    "import ecephys_analyses as ea\n",
    "\n",
    "ea.get_channels(\"CNPIX12-Santiago\", \"novel_objects_deprivation\", \"imec1\", \"hippocampus\")"
   ]
  },
  {
   "cell_type": "code",
   "execution_count": 4,
   "metadata": {
    "execution": {
     "iopub.execute_input": "2021-08-25T23:07:05.778499Z",
     "iopub.status.busy": "2021-08-25T23:07:05.777855Z",
     "iopub.status.idle": "2021-08-25T23:07:06.305084Z",
     "shell.execute_reply": "2021-08-25T23:07:06.304236Z",
     "shell.execute_reply.started": "2021-08-25T23:07:05.778440Z"
    },
    "tags": []
   },
   "outputs": [
    {
     "name": "stdout",
     "output_type": "stream",
     "text": [
      "[PosixPath('/Volumes/neuropixel_archive/Data/chronic/CNPIX12-Santiago/11-1-2021/SpikeGLX/11-1-2021_g1/11-1-2021_g1_imec1/11-1-2021_g1_t0.imec1.lf.bin')\n",
      " PosixPath('/Volumes/neuropixel_archive/Data/chronic/CNPIX12-Santiago/11-1-2021/SpikeGLX/11-1-2021_g1/11-1-2021_g1_imec1/11-1-2021_g1_t1.imec1.lf.bin')\n",
      " PosixPath('/Volumes/neuropixel_archive/Data/chronic/CNPIX12-Santiago/11-1-2021/SpikeGLX/11-1-2021_g1/11-1-2021_g1_imec1/11-1-2021_g1_t2.imec1.lf.bin')]\n"
     ]
    }
   ],
   "source": [
    "paths = ea.get_lfp_bin_paths(\"CNPIX12-Santiago\", \"novel_objects_deprivation\", alias=\"recovery_sleep\", probe=\"imec1\")\n",
    "print(paths)"
   ]
  },
  {
   "cell_type": "code",
   "execution_count": 11,
   "metadata": {},
   "outputs": [
    {
     "data": {
      "text/plain": [
       "[PosixPath('/Volumes/neuropixel_analysis/Data/SPWRs/CNPIX12-Santiago/11-1-2021/SpikeGLX/11-1-2021_g1/11-1-2021_g1_imec1/11-1-2021_g1_t0.imec1.spg.nc'),\n",
       " PosixPath('/Volumes/neuropixel_analysis/Data/SPWRs/CNPIX12-Santiago/11-1-2021/SpikeGLX/11-1-2021_g1/11-1-2021_g1_imec1/11-1-2021_g1_t1.imec1.spg.nc'),\n",
       " PosixPath('/Volumes/neuropixel_analysis/Data/SPWRs/CNPIX12-Santiago/11-1-2021/SpikeGLX/11-1-2021_g1/11-1-2021_g1_imec1/11-1-2021_g1_t2.imec1.spg.nc')]"
      ]
     },
     "execution_count": 11,
     "metadata": {},
     "output_type": "execute_result"
    }
   ],
   "source": [
    "ea.get_project_counterparts(\"SPWRs\", \"CNPIX12-Santiago\", paths, \"spg.nc\")"
   ]
  },
  {
   "cell_type": "markdown",
   "metadata": {},
   "source": [
    "# Under development"
   ]
  },
  {
   "cell_type": "code",
   "execution_count": 313,
   "metadata": {
    "execution": {
     "iopub.execute_input": "2021-08-26T01:21:51.433221Z",
     "iopub.status.busy": "2021-08-26T01:21:51.432753Z",
     "iopub.status.idle": "2021-08-26T01:21:51.458682Z",
     "shell.execute_reply": "2021-08-26T01:21:51.458105Z",
     "shell.execute_reply.started": "2021-08-26T01:21:51.433167Z"
    },
    "tags": []
   },
   "outputs": [],
   "source": [
    "# TODO\n",
    "# Now write functions to get analysis paths, replacing existing path parts and inserting at various points along the hierarchy. \n",
    "# Analysis directory should not be specified in raw data yamlspec file. \n",
    "# Perhaps analysis directory hierarchy should not mirror SGLX hierarchy. Perhaps most files should just be saved in session folders. Have a session column in the analysis drive manifest. \n",
    "# One group of analysis file management functions should get a single subject, experiment, or alias file with an arbitrary name. Another should get a group of SGLX-style named analysis files from a session folder. \n",
    "# Later, we can improve on what \"SGLX style nameing\" means. \n",
    "# Add time+datetime support to aliases\n",
    "# Change files to paths where appropriate\n",
    "# Or maybe, sessions should just be explicit lists of absolute file paths, and aliases as well. Easy to generate this kind of a file, given the code you've already written. \n",
    "# There should be a config.py file for setting analysis/raw data mount points. \n",
    "# Functions for analysis file management and for raw data management should be completely separate, even if it results in redundancy. \n",
    "\n",
    "\n",
    "# DONE\n",
    "# Could remove run ordering from yamlspec file entirely. Then ordering is lost for analysis files, and you must have a manifest with file order in the analysis drive. No big deal. \n",
    "# Analysis folders (e.g. \"spw-analysis\") should be above subject folders in the hierarchy. \n",
    "# Just get a drop-in replacement working for now. Cut your losses. \n"
   ]
  },
  {
   "cell_type": "code",
   "execution_count": 5,
   "metadata": {
    "execution": {
     "iopub.execute_input": "2021-10-07T18:54:17.289212Z",
     "iopub.status.busy": "2021-10-07T18:54:17.288250Z",
     "iopub.status.idle": "2021-10-07T18:54:17.302388Z",
     "shell.execute_reply": "2021-10-07T18:54:17.301327Z",
     "shell.execute_reply.started": "2021-10-07T18:54:17.289100Z"
    },
    "tags": []
   },
   "outputs": [],
   "source": [
    "import ecephys_analyses as ea\n",
    "foo = ea.get_subject_analysis_dir('Adrian')"
   ]
  },
  {
   "cell_type": "code",
   "execution_count": 309,
   "metadata": {
    "execution": {
     "iopub.execute_input": "2021-08-26T00:17:58.883907Z",
     "iopub.status.busy": "2021-08-26T00:17:58.883434Z",
     "iopub.status.idle": "2021-08-26T00:18:02.003355Z",
     "shell.execute_reply": "2021-08-26T00:18:02.002610Z",
     "shell.execute_reply.started": "2021-08-26T00:17:58.883851Z"
    },
    "tags": []
   },
   "outputs": [],
   "source": [
    "df = sou.get_files(docs, 'Allan', 'novel_objects_deprivation', alias='light-period-circadian-match', probe='imec0', stream='lf', ftype='bin');"
   ]
  },
  {
   "cell_type": "code",
   "execution_count": 310,
   "metadata": {
    "execution": {
     "iopub.execute_input": "2021-08-26T00:18:02.004522Z",
     "iopub.status.busy": "2021-08-26T00:18:02.004321Z",
     "iopub.status.idle": "2021-08-26T00:18:02.022774Z",
     "shell.execute_reply": "2021-08-26T00:18:02.022075Z",
     "shell.execute_reply.started": "2021-08-26T00:18:02.004504Z"
    },
    "tags": []
   },
   "outputs": [],
   "source": [
    "def validate_sglx_path(path):\n",
    "    (run, gate, trigger, probe, stream, ftype) = fmgmt.parse_sglx_fname(path.name) \n",
    "    probe_dir = path.parent\n",
    "    gate_dir = probe_dir.parent\n",
    "    assert probe_dir.name == f\"{run}_{gate}_{probe}\"\n",
    "    assert gate_dir.name == f\"{run}_{gate}\"\n",
    "    return gate_dir, probe_dir.name, path.name\n",
    "    \n",
    "def _get_path_parts(path):\n",
    "    gate_dir, probe_dirname, fname = validate_sglx_path(path)\n",
    "    session_dir = gate_dir.parent\n",
    "    subject_dir = session_dir.parent    \n",
    "    return subject_dir, session_dir.name, gate_dir.name, probe_dir.name, fname\n",
    "\n",
    "def get_analysis_counterpart(path, extension, analysis_subject_dir):\n",
    "    subject_dir, session_dirname, gate_dirname, probe_dirname, fname = _get_path_parts(path)\n",
    "    (run, gate, trigger, probe, stream, ftype) = fmgmt.parse_sglx_fname(fname)\n",
    "    new_fname = f\"{run}_{gate}.{probe}.{extension}\"\n",
    "    return analysis_subject_dir / session_dirname / gate_dirname / probe_dirname / new_fname\n",
    "\n",
    "def get_analysis_counterparts(paths, extension, analysis_subject_dir):\n",
    "    counterparts = [get_analysis_counterpart(p, extension, analysis_subject_dir) for p in paths]\n",
    "    return list(dict.fromkeys(counterparts))\n",
    "\n",
    "def get_path_parts(df):\n",
    "    return pd.DataFrame.from_records(map(_get_path_parts, df.path.values), columns=['subject_dir', 'session_dirname', 'gate_dirname', 'probe_dirname', 'fname'])\n",
    "    \n",
    "def add_path_parts(df):\n",
    "    return pd.concat([df, get_path_parts(df)], axis=1)"
   ]
  },
  {
   "cell_type": "code",
   "execution_count": 311,
   "metadata": {
    "execution": {
     "iopub.execute_input": "2021-08-26T00:18:02.023753Z",
     "iopub.status.busy": "2021-08-26T00:18:02.023557Z",
     "iopub.status.idle": "2021-08-26T00:18:02.040452Z",
     "shell.execute_reply": "2021-08-26T00:18:02.039956Z",
     "shell.execute_reply.started": "2021-08-26T00:18:02.023737Z"
    },
    "tags": []
   },
   "outputs": [],
   "source": [
    "analysis_subject_dir = Path('/Volumes/neuropixel_analysis/Data/chronic/CNPIX8-Allan/')"
   ]
  },
  {
   "cell_type": "code",
   "execution_count": 312,
   "metadata": {
    "execution": {
     "iopub.execute_input": "2021-08-26T00:18:02.041295Z",
     "iopub.status.busy": "2021-08-26T00:18:02.041147Z",
     "iopub.status.idle": "2021-08-26T00:18:02.054712Z",
     "shell.execute_reply": "2021-08-26T00:18:02.054309Z",
     "shell.execute_reply.started": "2021-08-26T00:18:02.041280Z"
    },
    "tags": []
   },
   "outputs": [
    {
     "data": {
      "text/plain": [
       "[PosixPath('/Volumes/neuropixel_analysis/Data/chronic/CNPIX8-Allan/3-1-2021/3-1-2021_g0/3-1-2021_A_g1_imec0/3-1-2021_g0.imec0.spg.nc'),\n",
       " PosixPath('/Volumes/neuropixel_analysis/Data/chronic/CNPIX8-Allan/3-1-2021/3-1-2021-a_g0/3-1-2021_A_g1_imec0/3-1-2021-a_g0.imec0.spg.nc'),\n",
       " PosixPath('/Volumes/neuropixel_analysis/Data/chronic/CNPIX8-Allan/3-1-2021/3-1-2021_A_g0/3-1-2021_A_g1_imec0/3-1-2021_A_g0.imec0.spg.nc'),\n",
       " PosixPath('/Volumes/neuropixel_analysis/Data/chronic/CNPIX8-Allan/3-1-2021/3-1-2021_A_g1/3-1-2021_A_g1_imec0/3-1-2021_A_g1.imec0.spg.nc'),\n",
       " PosixPath('/Volumes/neuropixel_analysis/Data/chronic/CNPIX8-Allan/3-1-2021/3-1-2021_B_g0/3-1-2021_A_g1_imec0/3-1-2021_B_g0.imec0.spg.nc'),\n",
       " PosixPath('/Volumes/neuropixel_analysis/Data/chronic/CNPIX8-Allan/3-1-2021/3-1-2021_C_g0/3-1-2021_A_g1_imec0/3-1-2021_C_g0.imec0.spg.nc')]"
      ]
     },
     "execution_count": 312,
     "metadata": {},
     "output_type": "execute_result"
    }
   ],
   "source": [
    "get_analysis_counterparts(df.path.values, 'spg.nc', analysis_subject_dir)"
   ]
  },
  {
   "cell_type": "code",
   "execution_count": null,
   "metadata": {},
   "outputs": [],
   "source": []
  }
 ],
 "metadata": {
  "kernelspec": {
   "display_name": "Python 3 (ipykernel)",
   "language": "python",
   "name": "python3"
  },
  "language_info": {
   "codemirror_mode": {
    "name": "ipython",
    "version": 3
   },
   "file_extension": ".py",
   "mimetype": "text/x-python",
   "name": "python",
   "nbconvert_exporter": "python",
   "pygments_lexer": "ipython3",
   "version": "3.10.0"
  }
 },
 "nbformat": 4,
 "nbformat_minor": 4
}
