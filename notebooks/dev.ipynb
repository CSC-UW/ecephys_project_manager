{
 "cells": [
  {
   "cell_type": "code",
   "execution_count": 7,
   "metadata": {
    "execution": {
     "iopub.execute_input": "2021-04-08T22:14:38.977353Z",
     "iopub.status.busy": "2021-04-08T22:14:38.976898Z",
     "iopub.status.idle": "2021-04-08T22:14:39.000664Z",
     "shell.execute_reply": "2021-04-08T22:14:39.000070Z",
     "shell.execute_reply.started": "2021-04-08T22:14:38.977276Z"
    }
   },
   "outputs": [],
   "source": [
    "%load_ext autoreload\n",
    "%autoreload 2\n",
    "from IPython.core.debugger import set_trace"
   ]
  },
  {
   "cell_type": "code",
   "execution_count": 8,
   "metadata": {
    "execution": {
     "iopub.execute_input": "2021-04-08T22:14:40.431993Z",
     "iopub.status.busy": "2021-04-08T22:14:40.431544Z",
     "iopub.status.idle": "2021-04-08T22:14:40.449722Z",
     "shell.execute_reply": "2021-04-08T22:14:40.448974Z",
     "shell.execute_reply.started": "2021-04-08T22:14:40.431936Z"
    }
   },
   "outputs": [],
   "source": [
    "from ecephys_analyses.data import paths, channel_groups"
   ]
  },
  {
   "cell_type": "code",
   "execution_count": 9,
   "metadata": {
    "execution": {
     "iopub.execute_input": "2021-04-08T22:14:58.408956Z",
     "iopub.status.busy": "2021-04-08T22:14:58.408495Z",
     "iopub.status.idle": "2021-04-08T22:14:58.427706Z",
     "shell.execute_reply": "2021-04-08T22:14:58.427121Z",
     "shell.execute_reply.started": "2021-04-08T22:14:58.408900Z"
    }
   },
   "outputs": [
    {
     "data": {
      "text/plain": [
       "array([380, 383,   1,   2,   5,   6,   9,  10,  13,  14,  17,  18,  21,\n",
       "        22,  25,  26,  29,  30,  33,  34,  37,  38,  41,  42,  45,  46,\n",
       "        49,  50,  53,  54,  57,  58,  61,  62,  65,  66,  69,  70,  73,\n",
       "        74,  77,  78,  81,  82,  85,  86,  89,  90,  93,  94,  97,  98,\n",
       "       101, 102, 105, 106, 109, 110, 113, 114, 117, 118, 121, 122, 125,\n",
       "       126, 129, 130, 133, 134, 137, 138, 141, 142, 145, 146, 149, 150,\n",
       "       153, 154, 157, 158, 161, 162, 165, 166, 169, 170, 173, 174, 177,\n",
       "       178, 181, 182, 185, 186, 189, 190, 193, 194, 197])"
      ]
     },
     "execution_count": 9,
     "metadata": {},
     "output_type": "execute_result"
    }
   ],
   "source": [
    "channel_groups.hippocampus[\"Doppio\"]"
   ]
  },
  {
   "cell_type": "code",
   "execution_count": null,
   "metadata": {},
   "outputs": [],
   "source": []
  },
  {
   "cell_type": "code",
   "execution_count": 116,
   "metadata": {
    "execution": {
     "iopub.execute_input": "2021-04-09T19:30:03.391472Z",
     "iopub.status.busy": "2021-04-09T19:30:03.391007Z",
     "iopub.status.idle": "2021-04-09T19:30:03.417318Z",
     "shell.execute_reply": "2021-04-09T19:30:03.416684Z",
     "shell.execute_reply.started": "2021-04-09T19:30:03.391415Z"
    }
   },
   "outputs": [],
   "source": [
    "%matplotlib widget"
   ]
  },
  {
   "cell_type": "code",
   "execution_count": 117,
   "metadata": {
    "execution": {
     "iopub.execute_input": "2021-04-09T19:30:04.572329Z",
     "iopub.status.busy": "2021-04-09T19:30:04.571833Z",
     "iopub.status.idle": "2021-04-09T19:30:06.914837Z",
     "shell.execute_reply": "2021-04-09T19:30:06.914226Z",
     "shell.execute_reply.started": "2021-04-09T19:30:04.572267Z"
    }
   },
   "outputs": [
    {
     "data": {
      "application/vnd.jupyter.widget-view+json": {
       "model_id": "",
       "version_major": 2,
       "version_minor": 0
      },
      "text/plain": [
       "Canvas(toolbar=Toolbar(toolitems=[('Home', 'Reset original view', 'home', 'home'), ('Back', 'Back to previous …"
      ]
     },
     "metadata": {},
     "output_type": "display_data"
    },
    {
     "data": {
      "text/plain": [
       "[Text(0.5, 0, ''), Text(0, 0.5, ''), Text(0.5, 1.0, 'SR Theta WM Ref')]"
      ]
     },
     "execution_count": 117,
     "metadata": {},
     "output_type": "execute_result"
    }
   ],
   "source": [
    "import seaborn as sns\n",
    "import matplotlib.pyplot as plt\n",
    "\n",
    "fig, axes = plt.subplots(8, 1, figsize=(32, 16))\n",
    "sns.lineplot(x=power.time.values, y=power.mpta_delta_cbm_ref.values, color='black', ax=axes[0])\n",
    "axes[0].set(xlabel=None, ylabel=None, title=\"CTX Delta Cbm Ref\")\n",
    "sns.lineplot(x=power.time.values, y=power.mpta_delta_wm_ref.values, color='black', ax=axes[1])\n",
    "axes[1].set(xlabel=None, ylabel=None, title=\"CTX Delta WM Ref\")\n",
    "\n",
    "sns.lineplot(x=power.time.values, y=power.sr_delta_cbm_ref.values, color='black', ax=axes[2])\n",
    "axes[2].set(xlabel=None, ylabel=None, title=\"SR Delta Cbm Ref\")\n",
    "sns.lineplot(x=power.time.values, y=power.sr_delta_wm_ref.values, color='black', ax=axes[3])\n",
    "axes[3].set(xlabel=None, ylabel=None, title=\"SR Delta WM Ref\")\n",
    "\n",
    "sns.lineplot(x=power.time.values, y=power.mpta_theta_cbm_ref.values, color='black', ax=axes[4])\n",
    "axes[4].set(xlabel=None, ylabel=None, title=\"CTX Theta Cbm Ref\")\n",
    "sns.lineplot(x=power.time.values, y=power.mpta_theta_wm_ref.values, color='black', ax=axes[5])\n",
    "axes[5].set(xlabel=None, ylabel=None, title=\"CTX Theta WM Ref\")\n",
    "\n",
    "sns.lineplot(x=power.time.values, y=power.sr_theta_cbm_ref.values, color='black', ax=axes[6])\n",
    "axes[6].set(xlabel=None, ylabel=None, title=\"SR Theta Cbm Ref\")\n",
    "sns.lineplot(x=power.time.values, y=power.sr_theta_wm_ref.values, color='black', ax=axes[7])\n",
    "axes[7].set(xlabel=None, ylabel=None, title=\"SR Theta WM Ref\")"
   ]
  }
 ],
 "metadata": {
  "kernelspec": {
   "display_name": "Python 3",
   "language": "python",
   "name": "python3"
  },
  "language_info": {
   "codemirror_mode": {
    "name": "ipython",
    "version": 3
   },
   "file_extension": ".py",
   "mimetype": "text/x-python",
   "name": "python",
   "nbconvert_exporter": "python",
   "pygments_lexer": "ipython3",
   "version": "3.7.9"
  }
 },
 "nbformat": 4,
 "nbformat_minor": 4
}
