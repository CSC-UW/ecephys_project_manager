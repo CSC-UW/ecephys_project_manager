{
 "cells": [
  {
   "cell_type": "code",
   "execution_count": 1,
   "metadata": {
    "execution": {
     "iopub.execute_input": "2021-08-24T04:38:57.729261Z",
     "iopub.status.busy": "2021-08-24T04:38:57.728973Z",
     "iopub.status.idle": "2021-08-24T04:38:57.733781Z",
     "shell.execute_reply": "2021-08-24T04:38:57.733301Z",
     "shell.execute_reply.started": "2021-08-24T04:38:57.729204Z"
    },
    "tags": []
   },
   "outputs": [],
   "source": [
    "# TODOS:\n",
    "# Add warnings if expected directory or files do not exist\n",
    "# Comment heavily"
   ]
  },
  {
   "cell_type": "code",
   "execution_count": 2,
   "metadata": {
    "execution": {
     "iopub.execute_input": "2021-08-24T04:38:57.734857Z",
     "iopub.status.busy": "2021-08-24T04:38:57.734705Z",
     "iopub.status.idle": "2021-08-24T04:38:57.747623Z",
     "shell.execute_reply": "2021-08-24T04:38:57.746927Z",
     "shell.execute_reply.started": "2021-08-24T04:38:57.734838Z"
    },
    "tags": []
   },
   "outputs": [],
   "source": [
    "%load_ext autoreload\n",
    "%autoreload 2"
   ]
  },
  {
   "cell_type": "code",
   "execution_count": 4,
   "metadata": {
    "execution": {
     "iopub.execute_input": "2021-08-24T04:40:02.845854Z",
     "iopub.status.busy": "2021-08-24T04:40:02.845335Z",
     "iopub.status.idle": "2021-08-24T04:40:03.801195Z",
     "shell.execute_reply": "2021-08-24T04:40:03.800528Z",
     "shell.execute_reply.started": "2021-08-24T04:40:02.845800Z"
    },
    "tags": []
   },
   "outputs": [],
   "source": [
    "import ecephys_analyses as ea\n",
    "\n",
    "yaml_path = ea.package_datapath('example_org_spec.yaml')"
   ]
  },
  {
   "cell_type": "code",
   "execution_count": 5,
   "metadata": {
    "execution": {
     "iopub.execute_input": "2021-08-24T04:40:20.374349Z",
     "iopub.status.busy": "2021-08-24T04:40:20.373762Z",
     "iopub.status.idle": "2021-08-24T04:40:20.400450Z",
     "shell.execute_reply": "2021-08-24T04:40:20.399664Z",
     "shell.execute_reply.started": "2021-08-24T04:40:20.374291Z"
    },
    "tags": []
   },
   "outputs": [],
   "source": [
    "import yaml\n",
    "\n",
    "with open(yaml_path) as fp:\n",
    "    yaml_data = yaml.safe_load(fp)\n",
    "doc = yaml_data"
   ]
  },
  {
   "cell_type": "code",
   "execution_count": 110,
   "metadata": {
    "execution": {
     "iopub.execute_input": "2021-08-24T06:45:52.943173Z",
     "iopub.status.busy": "2021-08-24T06:45:52.942700Z",
     "iopub.status.idle": "2021-08-24T06:45:52.965677Z",
     "shell.execute_reply": "2021-08-24T06:45:52.964913Z",
     "shell.execute_reply.started": "2021-08-24T06:45:52.943115Z"
    },
    "tags": []
   },
   "outputs": [],
   "source": [
    "from pathlib import Path\n",
    "\n",
    "session = doc['recording-sessions'][0]\n",
    "run = '3-1-2021_A'\n",
    "gate = 'g1'\n",
    "probe = 'imec0'\n",
    "fname = '3-1-2021_A_g1_t0.imec0.lf.meta'\n",
    "root_dir = Path(doc['raw-data-root'])\n",
    "session_dir = root_dir / session['directory']\n",
    "gate_dir = session_dir / f\"{run}_{gate}\"\n",
    "probe_dir = Path(doc['raw-data-root'], session['directory'], f\"{run}_{gate}\", f\"{run}_{gate}_{probe}\")"
   ]
  },
  {
   "cell_type": "markdown",
   "metadata": {
    "jp-MarkdownHeadingCollapsed": true,
    "tags": []
   },
   "source": [
    "# Test ecephys.sglx.paths"
   ]
  },
  {
   "cell_type": "code",
   "execution_count": 109,
   "metadata": {
    "execution": {
     "iopub.execute_input": "2021-08-24T06:45:37.447927Z",
     "iopub.status.busy": "2021-08-24T06:45:37.447451Z",
     "iopub.status.idle": "2021-08-24T06:45:37.469761Z",
     "shell.execute_reply": "2021-08-24T06:45:37.468987Z",
     "shell.execute_reply.started": "2021-08-24T06:45:37.447868Z"
    }
   },
   "outputs": [],
   "source": [
    "import ecephys.sglx.paths as sglx_paths"
   ]
  },
  {
   "cell_type": "code",
   "execution_count": 19,
   "metadata": {
    "execution": {
     "iopub.execute_input": "2021-08-24T04:45:26.387223Z",
     "iopub.status.busy": "2021-08-24T04:45:26.386689Z",
     "iopub.status.idle": "2021-08-24T04:45:26.406885Z",
     "shell.execute_reply": "2021-08-24T04:45:26.406312Z",
     "shell.execute_reply.started": "2021-08-24T04:45:26.387169Z"
    },
    "tags": []
   },
   "outputs": [
    {
     "data": {
      "text/plain": [
       "('3-1-2021_A', 'g1', 't0', 'imec0', 'lf', 'meta')"
      ]
     },
     "execution_count": 19,
     "metadata": {},
     "output_type": "execute_result"
    }
   ],
   "source": [
    "sglx_paths.parse_sglx_fname(fname)"
   ]
  },
  {
   "cell_type": "code",
   "execution_count": 20,
   "metadata": {
    "execution": {
     "iopub.execute_input": "2021-08-24T04:45:29.508564Z",
     "iopub.status.busy": "2021-08-24T04:45:29.508316Z",
     "iopub.status.idle": "2021-08-24T04:45:29.531996Z",
     "shell.execute_reply": "2021-08-24T04:45:29.531593Z",
     "shell.execute_reply.started": "2021-08-24T04:45:29.508545Z"
    },
    "tags": []
   },
   "outputs": [
    {
     "data": {
      "text/plain": [
       "[PosixPath('/Volumes/neuropixel_archive/Data/chronic/CNPIX8-Allan/3-1-2021/3-1-2021_A_g1/3-1-2021_A_g1_imec0/3-1-2021_A_g1_t0.imec0.ap.bin'),\n",
       " PosixPath('/Volumes/neuropixel_archive/Data/chronic/CNPIX8-Allan/3-1-2021/3-1-2021_A_g1/3-1-2021_A_g1_imec0/3-1-2021_A_g1_t0.imec0.ap.meta'),\n",
       " PosixPath('/Volumes/neuropixel_archive/Data/chronic/CNPIX8-Allan/3-1-2021/3-1-2021_A_g1/3-1-2021_A_g1_imec0/3-1-2021_A_g1_t0.imec0.lf.bin'),\n",
       " PosixPath('/Volumes/neuropixel_archive/Data/chronic/CNPIX8-Allan/3-1-2021/3-1-2021_A_g1/3-1-2021_A_g1_imec0/3-1-2021_A_g1_t0.imec0.lf.meta'),\n",
       " PosixPath('/Volumes/neuropixel_archive/Data/chronic/CNPIX8-Allan/3-1-2021/3-1-2021_A_g1/3-1-2021_A_g1_imec0/3-1-2021_A_g1_t1.imec0.ap.bin'),\n",
       " PosixPath('/Volumes/neuropixel_archive/Data/chronic/CNPIX8-Allan/3-1-2021/3-1-2021_A_g1/3-1-2021_A_g1_imec0/3-1-2021_A_g1_t1.imec0.ap.meta'),\n",
       " PosixPath('/Volumes/neuropixel_archive/Data/chronic/CNPIX8-Allan/3-1-2021/3-1-2021_A_g1/3-1-2021_A_g1_imec0/3-1-2021_A_g1_t1.imec0.lf.bin'),\n",
       " PosixPath('/Volumes/neuropixel_archive/Data/chronic/CNPIX8-Allan/3-1-2021/3-1-2021_A_g1/3-1-2021_A_g1_imec0/3-1-2021_A_g1_t1.imec0.lf.meta')]"
      ]
     },
     "execution_count": 20,
     "metadata": {},
     "output_type": "execute_result"
    }
   ],
   "source": [
    "sglx_paths.get_trigger_files(probe_dir)"
   ]
  },
  {
   "cell_type": "code",
   "execution_count": 21,
   "metadata": {
    "execution": {
     "iopub.execute_input": "2021-08-24T04:45:32.182892Z",
     "iopub.status.busy": "2021-08-24T04:45:32.182355Z",
     "iopub.status.idle": "2021-08-24T04:45:32.208268Z",
     "shell.execute_reply": "2021-08-24T04:45:32.207708Z",
     "shell.execute_reply.started": "2021-08-24T04:45:32.182838Z"
    },
    "tags": []
   },
   "outputs": [
    {
     "data": {
      "text/plain": [
       "['3-1-2021_A_g1_t0', '3-1-2021_A_g1_t1']"
      ]
     },
     "execution_count": 21,
     "metadata": {},
     "output_type": "execute_result"
    }
   ],
   "source": [
    "sglx_paths.get_unique_trigger_stems(probe_dir)"
   ]
  },
  {
   "cell_type": "code",
   "execution_count": 22,
   "metadata": {
    "execution": {
     "iopub.execute_input": "2021-08-24T04:45:55.076574Z",
     "iopub.status.busy": "2021-08-24T04:45:55.076041Z",
     "iopub.status.idle": "2021-08-24T04:45:55.101750Z",
     "shell.execute_reply": "2021-08-24T04:45:55.101196Z",
     "shell.execute_reply.started": "2021-08-24T04:45:55.076520Z"
    }
   },
   "outputs": [
    {
     "data": {
      "text/plain": [
       "[PosixPath('/Volumes/neuropixel_archive/Data/chronic/CNPIX8-Allan/3-1-2021/3-1-2021_A_g1/3-1-2021_A_g1_imec0'),\n",
       " PosixPath('/Volumes/neuropixel_archive/Data/chronic/CNPIX8-Allan/3-1-2021/3-1-2021_A_g1/3-1-2021_A_g1_imec1')]"
      ]
     },
     "execution_count": 22,
     "metadata": {},
     "output_type": "execute_result"
    }
   ],
   "source": [
    "sglx_paths.get_probe_directories(gate_dir)"
   ]
  },
  {
   "cell_type": "code",
   "execution_count": 23,
   "metadata": {
    "execution": {
     "iopub.execute_input": "2021-08-24T04:46:13.528938Z",
     "iopub.status.busy": "2021-08-24T04:46:13.528406Z",
     "iopub.status.idle": "2021-08-24T04:46:13.555245Z",
     "shell.execute_reply": "2021-08-24T04:46:13.554658Z",
     "shell.execute_reply.started": "2021-08-24T04:46:13.528883Z"
    }
   },
   "outputs": [
    {
     "data": {
      "text/plain": [
       "[PosixPath('/Volumes/neuropixel_archive/Data/chronic/CNPIX8-Allan/3-1-2021/3-1-2021_A_g1/3-1-2021_A_g1_imec0')]"
      ]
     },
     "execution_count": 23,
     "metadata": {},
     "output_type": "execute_result"
    }
   ],
   "source": [
    "sglx_paths.get_probe_directories(gate_dir, probe_regex=\"imec0\")"
   ]
  },
  {
   "cell_type": "code",
   "execution_count": 24,
   "metadata": {
    "execution": {
     "iopub.execute_input": "2021-08-24T04:46:31.321179Z",
     "iopub.status.busy": "2021-08-24T04:46:31.320650Z",
     "iopub.status.idle": "2021-08-24T04:46:31.351388Z",
     "shell.execute_reply": "2021-08-24T04:46:31.350803Z",
     "shell.execute_reply.started": "2021-08-24T04:46:31.321126Z"
    }
   },
   "outputs": [
    {
     "data": {
      "text/plain": [
       "[PosixPath('/Volumes/neuropixel_archive/Data/chronic/CNPIX8-Allan/3-1-2021/3-1-2021_A_g1/3-1-2021_A_g1_imec0/3-1-2021_A_g1_t0.imec0.ap.bin'),\n",
       " PosixPath('/Volumes/neuropixel_archive/Data/chronic/CNPIX8-Allan/3-1-2021/3-1-2021_A_g1/3-1-2021_A_g1_imec0/3-1-2021_A_g1_t0.imec0.ap.meta'),\n",
       " PosixPath('/Volumes/neuropixel_archive/Data/chronic/CNPIX8-Allan/3-1-2021/3-1-2021_A_g1/3-1-2021_A_g1_imec0/3-1-2021_A_g1_t0.imec0.lf.bin'),\n",
       " PosixPath('/Volumes/neuropixel_archive/Data/chronic/CNPIX8-Allan/3-1-2021/3-1-2021_A_g1/3-1-2021_A_g1_imec0/3-1-2021_A_g1_t0.imec0.lf.meta'),\n",
       " PosixPath('/Volumes/neuropixel_archive/Data/chronic/CNPIX8-Allan/3-1-2021/3-1-2021_A_g1/3-1-2021_A_g1_imec0/3-1-2021_A_g1_t1.imec0.ap.bin'),\n",
       " PosixPath('/Volumes/neuropixel_archive/Data/chronic/CNPIX8-Allan/3-1-2021/3-1-2021_A_g1/3-1-2021_A_g1_imec0/3-1-2021_A_g1_t1.imec0.ap.meta'),\n",
       " PosixPath('/Volumes/neuropixel_archive/Data/chronic/CNPIX8-Allan/3-1-2021/3-1-2021_A_g1/3-1-2021_A_g1_imec0/3-1-2021_A_g1_t1.imec0.lf.bin'),\n",
       " PosixPath('/Volumes/neuropixel_archive/Data/chronic/CNPIX8-Allan/3-1-2021/3-1-2021_A_g1/3-1-2021_A_g1_imec0/3-1-2021_A_g1_t1.imec0.lf.meta'),\n",
       " PosixPath('/Volumes/neuropixel_archive/Data/chronic/CNPIX8-Allan/3-1-2021/3-1-2021_A_g1/3-1-2021_A_g1_imec1/3-1-2021_A_g1_t0.imec1.ap.bin'),\n",
       " PosixPath('/Volumes/neuropixel_archive/Data/chronic/CNPIX8-Allan/3-1-2021/3-1-2021_A_g1/3-1-2021_A_g1_imec1/3-1-2021_A_g1_t0.imec1.ap.meta'),\n",
       " PosixPath('/Volumes/neuropixel_archive/Data/chronic/CNPIX8-Allan/3-1-2021/3-1-2021_A_g1/3-1-2021_A_g1_imec1/3-1-2021_A_g1_t0.imec1.lf.bin'),\n",
       " PosixPath('/Volumes/neuropixel_archive/Data/chronic/CNPIX8-Allan/3-1-2021/3-1-2021_A_g1/3-1-2021_A_g1_imec1/3-1-2021_A_g1_t0.imec1.lf.meta'),\n",
       " PosixPath('/Volumes/neuropixel_archive/Data/chronic/CNPIX8-Allan/3-1-2021/3-1-2021_A_g1/3-1-2021_A_g1_imec1/3-1-2021_A_g1_t1.imec1.ap.bin'),\n",
       " PosixPath('/Volumes/neuropixel_archive/Data/chronic/CNPIX8-Allan/3-1-2021/3-1-2021_A_g1/3-1-2021_A_g1_imec1/3-1-2021_A_g1_t1.imec1.ap.meta'),\n",
       " PosixPath('/Volumes/neuropixel_archive/Data/chronic/CNPIX8-Allan/3-1-2021/3-1-2021_A_g1/3-1-2021_A_g1_imec1/3-1-2021_A_g1_t1.imec1.lf.bin'),\n",
       " PosixPath('/Volumes/neuropixel_archive/Data/chronic/CNPIX8-Allan/3-1-2021/3-1-2021_A_g1/3-1-2021_A_g1_imec1/3-1-2021_A_g1_t1.imec1.lf.meta')]"
      ]
     },
     "execution_count": 24,
     "metadata": {},
     "output_type": "execute_result"
    }
   ],
   "source": [
    "sglx_paths.get_gate_files(gate_dir)"
   ]
  },
  {
   "cell_type": "code",
   "execution_count": 25,
   "metadata": {
    "execution": {
     "iopub.execute_input": "2021-08-24T04:48:53.066052Z",
     "iopub.status.busy": "2021-08-24T04:48:53.065494Z",
     "iopub.status.idle": "2021-08-24T04:48:53.094217Z",
     "shell.execute_reply": "2021-08-24T04:48:53.093639Z",
     "shell.execute_reply.started": "2021-08-24T04:48:53.065998Z"
    }
   },
   "outputs": [
    {
     "data": {
      "text/plain": [
       "[PosixPath('/Volumes/neuropixel_archive/Data/chronic/CNPIX8-Allan/3-1-2021/3-1-2021_A_g1/3-1-2021_A_g1_imec0/3-1-2021_A_g1_t0.imec0.lf.bin'),\n",
       " PosixPath('/Volumes/neuropixel_archive/Data/chronic/CNPIX8-Allan/3-1-2021/3-1-2021_A_g1/3-1-2021_A_g1_imec0/3-1-2021_A_g1_t1.imec0.lf.bin')]"
      ]
     },
     "execution_count": 25,
     "metadata": {},
     "output_type": "execute_result"
    }
   ],
   "source": [
    "sglx_paths.filter_files(sglx_paths.get_gate_files(gate_dir), probe='imec0', stream='lf', ftype='bin')"
   ]
  },
  {
   "cell_type": "code",
   "execution_count": 26,
   "metadata": {
    "execution": {
     "iopub.execute_input": "2021-08-24T04:50:20.840818Z",
     "iopub.status.busy": "2021-08-24T04:50:20.840284Z",
     "iopub.status.idle": "2021-08-24T04:50:20.870503Z",
     "shell.execute_reply": "2021-08-24T04:50:20.869908Z",
     "shell.execute_reply.started": "2021-08-24T04:50:20.840764Z"
    }
   },
   "outputs": [
    {
     "data": {
      "text/plain": [
       "[PosixPath('/Volumes/neuropixel_archive/Data/chronic/CNPIX8-Allan/3-1-2021/3-1-2021_A_g1/3-1-2021_A_g1_imec0/3-1-2021_A_g1_t0'),\n",
       " PosixPath('/Volumes/neuropixel_archive/Data/chronic/CNPIX8-Allan/3-1-2021/3-1-2021_A_g1/3-1-2021_A_g1_imec0/3-1-2021_A_g1_t1'),\n",
       " PosixPath('/Volumes/neuropixel_archive/Data/chronic/CNPIX8-Allan/3-1-2021/3-1-2021_A_g1/3-1-2021_A_g1_imec1/3-1-2021_A_g1_t0'),\n",
       " PosixPath('/Volumes/neuropixel_archive/Data/chronic/CNPIX8-Allan/3-1-2021/3-1-2021_A_g1/3-1-2021_A_g1_imec1/3-1-2021_A_g1_t1')]"
      ]
     },
     "execution_count": 26,
     "metadata": {},
     "output_type": "execute_result"
    }
   ],
   "source": [
    "sglx_paths.remove_suffixes(sglx_paths.get_gate_files(gate_dir))"
   ]
  },
  {
   "cell_type": "code",
   "execution_count": 27,
   "metadata": {
    "execution": {
     "iopub.execute_input": "2021-08-24T04:51:16.739340Z",
     "iopub.status.busy": "2021-08-24T04:51:16.738805Z",
     "iopub.status.idle": "2021-08-24T04:51:16.767801Z",
     "shell.execute_reply": "2021-08-24T04:51:16.767236Z",
     "shell.execute_reply.started": "2021-08-24T04:51:16.739286Z"
    }
   },
   "outputs": [
    {
     "data": {
      "text/plain": [
       "{'imec0': [PosixPath('/Volumes/neuropixel_archive/Data/chronic/CNPIX8-Allan/3-1-2021/3-1-2021_A_g1/3-1-2021_A_g1_imec0/3-1-2021_A_g1_t0.imec0.ap.bin'),\n",
       "  PosixPath('/Volumes/neuropixel_archive/Data/chronic/CNPIX8-Allan/3-1-2021/3-1-2021_A_g1/3-1-2021_A_g1_imec0/3-1-2021_A_g1_t0.imec0.ap.meta'),\n",
       "  PosixPath('/Volumes/neuropixel_archive/Data/chronic/CNPIX8-Allan/3-1-2021/3-1-2021_A_g1/3-1-2021_A_g1_imec0/3-1-2021_A_g1_t0.imec0.lf.bin'),\n",
       "  PosixPath('/Volumes/neuropixel_archive/Data/chronic/CNPIX8-Allan/3-1-2021/3-1-2021_A_g1/3-1-2021_A_g1_imec0/3-1-2021_A_g1_t0.imec0.lf.meta'),\n",
       "  PosixPath('/Volumes/neuropixel_archive/Data/chronic/CNPIX8-Allan/3-1-2021/3-1-2021_A_g1/3-1-2021_A_g1_imec0/3-1-2021_A_g1_t1.imec0.ap.bin'),\n",
       "  PosixPath('/Volumes/neuropixel_archive/Data/chronic/CNPIX8-Allan/3-1-2021/3-1-2021_A_g1/3-1-2021_A_g1_imec0/3-1-2021_A_g1_t1.imec0.ap.meta'),\n",
       "  PosixPath('/Volumes/neuropixel_archive/Data/chronic/CNPIX8-Allan/3-1-2021/3-1-2021_A_g1/3-1-2021_A_g1_imec0/3-1-2021_A_g1_t1.imec0.lf.bin'),\n",
       "  PosixPath('/Volumes/neuropixel_archive/Data/chronic/CNPIX8-Allan/3-1-2021/3-1-2021_A_g1/3-1-2021_A_g1_imec0/3-1-2021_A_g1_t1.imec0.lf.meta')],\n",
       " 'imec1': [PosixPath('/Volumes/neuropixel_archive/Data/chronic/CNPIX8-Allan/3-1-2021/3-1-2021_A_g1/3-1-2021_A_g1_imec1/3-1-2021_A_g1_t0.imec1.ap.bin'),\n",
       "  PosixPath('/Volumes/neuropixel_archive/Data/chronic/CNPIX8-Allan/3-1-2021/3-1-2021_A_g1/3-1-2021_A_g1_imec1/3-1-2021_A_g1_t0.imec1.ap.meta'),\n",
       "  PosixPath('/Volumes/neuropixel_archive/Data/chronic/CNPIX8-Allan/3-1-2021/3-1-2021_A_g1/3-1-2021_A_g1_imec1/3-1-2021_A_g1_t0.imec1.lf.bin'),\n",
       "  PosixPath('/Volumes/neuropixel_archive/Data/chronic/CNPIX8-Allan/3-1-2021/3-1-2021_A_g1/3-1-2021_A_g1_imec1/3-1-2021_A_g1_t0.imec1.lf.meta'),\n",
       "  PosixPath('/Volumes/neuropixel_archive/Data/chronic/CNPIX8-Allan/3-1-2021/3-1-2021_A_g1/3-1-2021_A_g1_imec1/3-1-2021_A_g1_t1.imec1.ap.bin'),\n",
       "  PosixPath('/Volumes/neuropixel_archive/Data/chronic/CNPIX8-Allan/3-1-2021/3-1-2021_A_g1/3-1-2021_A_g1_imec1/3-1-2021_A_g1_t1.imec1.ap.meta'),\n",
       "  PosixPath('/Volumes/neuropixel_archive/Data/chronic/CNPIX8-Allan/3-1-2021/3-1-2021_A_g1/3-1-2021_A_g1_imec1/3-1-2021_A_g1_t1.imec1.lf.bin'),\n",
       "  PosixPath('/Volumes/neuropixel_archive/Data/chronic/CNPIX8-Allan/3-1-2021/3-1-2021_A_g1/3-1-2021_A_g1_imec1/3-1-2021_A_g1_t1.imec1.lf.meta')]}"
      ]
     },
     "execution_count": 27,
     "metadata": {},
     "output_type": "execute_result"
    }
   ],
   "source": [
    "sglx_paths.separate_files_by_probe(sglx_paths.get_gate_files(gate_dir))"
   ]
  },
  {
   "cell_type": "markdown",
   "metadata": {
    "jp-MarkdownHeadingCollapsed": true,
    "tags": []
   },
   "source": [
    "# Test ecephys.sglx.file_selection"
   ]
  },
  {
   "cell_type": "code",
   "execution_count": 68,
   "metadata": {
    "execution": {
     "iopub.execute_input": "2021-08-24T05:53:02.625015Z",
     "iopub.status.busy": "2021-08-24T05:53:02.624419Z",
     "iopub.status.idle": "2021-08-24T05:53:02.647990Z",
     "shell.execute_reply": "2021-08-24T05:53:02.647391Z",
     "shell.execute_reply.started": "2021-08-24T05:53:02.624957Z"
    }
   },
   "outputs": [],
   "source": [
    "import ecephys.sglx.file_selection as mgmt"
   ]
  },
  {
   "cell_type": "code",
   "execution_count": 87,
   "metadata": {
    "execution": {
     "iopub.execute_input": "2021-08-24T06:23:19.052989Z",
     "iopub.status.busy": "2021-08-24T06:23:19.052434Z",
     "iopub.status.idle": "2021-08-24T06:23:19.080283Z",
     "shell.execute_reply": "2021-08-24T06:23:19.079681Z",
     "shell.execute_reply.started": "2021-08-24T06:23:19.052932Z"
    },
    "tags": []
   },
   "outputs": [],
   "source": [
    "mgmt._get_gate_directories(session_dir, run);"
   ]
  },
  {
   "cell_type": "code",
   "execution_count": 82,
   "metadata": {
    "execution": {
     "iopub.execute_input": "2021-08-24T06:23:04.538117Z",
     "iopub.status.busy": "2021-08-24T06:23:04.537571Z",
     "iopub.status.idle": "2021-08-24T06:23:04.583309Z",
     "shell.execute_reply": "2021-08-24T06:23:04.582476Z",
     "shell.execute_reply.started": "2021-08-24T06:23:04.538062Z"
    },
    "tags": []
   },
   "outputs": [],
   "source": [
    "mgmt._get_run_files(session_dir, run);"
   ]
  },
  {
   "cell_type": "code",
   "execution_count": 83,
   "metadata": {
    "execution": {
     "iopub.execute_input": "2021-08-24T06:23:10.355988Z",
     "iopub.status.busy": "2021-08-24T06:23:10.355426Z",
     "iopub.status.idle": "2021-08-24T06:23:10.557557Z",
     "shell.execute_reply": "2021-08-24T06:23:10.556135Z",
     "shell.execute_reply.started": "2021-08-24T06:23:10.355933Z"
    },
    "tags": []
   },
   "outputs": [],
   "source": [
    "mgmt._get_session_files(root_dir, session);"
   ]
  },
  {
   "cell_type": "code",
   "execution_count": 86,
   "metadata": {
    "execution": {
     "iopub.execute_input": "2021-08-24T06:23:16.597064Z",
     "iopub.status.busy": "2021-08-24T06:23:16.596554Z",
     "iopub.status.idle": "2021-08-24T06:23:16.755671Z",
     "shell.execute_reply": "2021-08-24T06:23:16.754653Z",
     "shell.execute_reply.started": "2021-08-24T06:23:16.597014Z"
    },
    "tags": []
   },
   "outputs": [],
   "source": [
    "mgmt._get_document_files(doc);"
   ]
  },
  {
   "cell_type": "code",
   "execution_count": 93,
   "metadata": {
    "execution": {
     "iopub.execute_input": "2021-08-24T06:25:52.261308Z",
     "iopub.status.busy": "2021-08-24T06:25:52.260749Z",
     "iopub.status.idle": "2021-08-24T06:25:52.309852Z",
     "shell.execute_reply": "2021-08-24T06:25:52.309221Z",
     "shell.execute_reply.started": "2021-08-24T06:25:52.261251Z"
    },
    "tags": []
   },
   "outputs": [],
   "source": [
    "mgmt.get_run_files(session_dir, run);"
   ]
  },
  {
   "cell_type": "code",
   "execution_count": 95,
   "metadata": {
    "execution": {
     "iopub.execute_input": "2021-08-24T06:26:11.840201Z",
     "iopub.status.busy": "2021-08-24T06:26:11.839649Z",
     "iopub.status.idle": "2021-08-24T06:26:11.972578Z",
     "shell.execute_reply": "2021-08-24T06:26:11.971955Z",
     "shell.execute_reply.started": "2021-08-24T06:26:11.840146Z"
    },
    "tags": []
   },
   "outputs": [],
   "source": [
    "mgmt.get_session_files(root_dir, session);"
   ]
  },
  {
   "cell_type": "code",
   "execution_count": 97,
   "metadata": {
    "execution": {
     "iopub.execute_input": "2021-08-24T06:26:18.183623Z",
     "iopub.status.busy": "2021-08-24T06:26:18.183179Z",
     "iopub.status.idle": "2021-08-24T06:26:18.353981Z",
     "shell.execute_reply": "2021-08-24T06:26:18.353363Z",
     "shell.execute_reply.started": "2021-08-24T06:26:18.183582Z"
    },
    "tags": []
   },
   "outputs": [],
   "source": [
    "mgmt.get_document_files(doc);"
   ]
  },
  {
   "cell_type": "code",
   "execution_count": 101,
   "metadata": {
    "execution": {
     "iopub.execute_input": "2021-08-24T06:31:32.953590Z",
     "iopub.status.busy": "2021-08-24T06:31:32.952980Z",
     "iopub.status.idle": "2021-08-24T06:31:33.089133Z",
     "shell.execute_reply": "2021-08-24T06:31:33.088105Z",
     "shell.execute_reply.started": "2021-08-24T06:31:32.953532Z"
    },
    "tags": []
   },
   "outputs": [],
   "source": [
    "mgmt._get_experiment_files(doc, 'sleep-homeostasis');"
   ]
  },
  {
   "cell_type": "code",
   "execution_count": 104,
   "metadata": {
    "execution": {
     "iopub.execute_input": "2021-08-24T06:31:43.090921Z",
     "iopub.status.busy": "2021-08-24T06:31:43.090315Z",
     "iopub.status.idle": "2021-08-24T06:31:43.310313Z",
     "shell.execute_reply": "2021-08-24T06:31:43.309538Z",
     "shell.execute_reply.started": "2021-08-24T06:31:43.090862Z"
    },
    "tags": []
   },
   "outputs": [],
   "source": [
    "mgmt.get_experiment_files(doc, 'sleep-homeostasis');"
   ]
  },
  {
   "cell_type": "code",
   "execution_count": 107,
   "metadata": {
    "execution": {
     "iopub.execute_input": "2021-08-24T06:40:08.992615Z",
     "iopub.status.busy": "2021-08-24T06:40:08.991996Z",
     "iopub.status.idle": "2021-08-24T06:40:09.142800Z",
     "shell.execute_reply": "2021-08-24T06:40:09.142129Z",
     "shell.execute_reply.started": "2021-08-24T06:40:08.992556Z"
    },
    "tags": []
   },
   "outputs": [],
   "source": [
    "mgmt.get_alias_files(doc, 'sleep-homeostasis', 'light-period-circadian-match');"
   ]
  },
  {
   "cell_type": "markdown",
   "metadata": {},
   "source": [
    "# Under development"
   ]
  },
  {
   "cell_type": "code",
   "execution_count": null,
   "metadata": {},
   "outputs": [],
   "source": [
    "#SGLX schema + agnostic files should be in their own file, probably in sglx_utils\n",
    "#Functions that extend SGLX schema should be in a separate file, in ecephys_analyses, and should return dataframes"
   ]
  }
 ],
 "metadata": {
  "kernelspec": {
   "display_name": "Python 3 (ipykernel)",
   "language": "python",
   "name": "python3"
  },
  "language_info": {
   "codemirror_mode": {
    "name": "ipython",
    "version": 3
   },
   "file_extension": ".py",
   "mimetype": "text/x-python",
   "name": "python",
   "nbconvert_exporter": "python",
   "pygments_lexer": "ipython3",
   "version": "3.7.10"
  }
 },
 "nbformat": 4,
 "nbformat_minor": 4
}
