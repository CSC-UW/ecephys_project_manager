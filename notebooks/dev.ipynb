{
 "cells": [
  {
   "cell_type": "code",
   "execution_count": 1,
   "metadata": {
    "execution": {
     "iopub.execute_input": "2021-08-24T04:38:57.729261Z",
     "iopub.status.busy": "2021-08-24T04:38:57.728973Z",
     "iopub.status.idle": "2021-08-24T04:38:57.733781Z",
     "shell.execute_reply": "2021-08-24T04:38:57.733301Z",
     "shell.execute_reply.started": "2021-08-24T04:38:57.729204Z"
    },
    "tags": []
   },
   "outputs": [],
   "source": [
    "# TODOS:\n",
    "# Add warnings if expected directory or files do not exist\n",
    "# Comment heavily"
   ]
  },
  {
   "cell_type": "code",
   "execution_count": 2,
   "metadata": {
    "execution": {
     "iopub.execute_input": "2021-08-24T04:38:57.734857Z",
     "iopub.status.busy": "2021-08-24T04:38:57.734705Z",
     "iopub.status.idle": "2021-08-24T04:38:57.747623Z",
     "shell.execute_reply": "2021-08-24T04:38:57.746927Z",
     "shell.execute_reply.started": "2021-08-24T04:38:57.734838Z"
    },
    "tags": []
   },
   "outputs": [],
   "source": [
    "%load_ext autoreload\n",
    "%autoreload 2"
   ]
  },
  {
   "cell_type": "code",
   "execution_count": 3,
   "metadata": {
    "execution": {
     "iopub.execute_input": "2021-08-24T04:39:32.921404Z",
     "iopub.status.busy": "2021-08-24T04:39:32.920882Z",
     "iopub.status.idle": "2021-08-24T04:39:32.938028Z",
     "shell.execute_reply": "2021-08-24T04:39:32.937440Z",
     "shell.execute_reply.started": "2021-08-24T04:39:32.921350Z"
    }
   },
   "outputs": [],
   "source": [
    "import ecephys.sglx.paths as sglx_paths"
   ]
  },
  {
   "cell_type": "code",
   "execution_count": 2,
   "metadata": {
    "execution": {
     "iopub.execute_input": "2021-08-21T02:23:48.824736Z",
     "iopub.status.busy": "2021-08-21T02:23:48.824559Z",
     "iopub.status.idle": "2021-08-21T02:23:49.800862Z",
     "shell.execute_reply": "2021-08-21T02:23:49.800132Z",
     "shell.execute_reply.started": "2021-08-21T02:23:48.824719Z"
    },
    "tags": []
   },
   "outputs": [],
   "source": [
    "#from pathlib import Path\n",
    "#import ecephys.data_mgmt.paths as mgmt\n",
    "#from itertools import chain\n",
    "#import re\n",
    "#import os"
   ]
  },
  {
   "cell_type": "code",
   "execution_count": 4,
   "metadata": {
    "execution": {
     "iopub.execute_input": "2021-08-24T04:40:02.845854Z",
     "iopub.status.busy": "2021-08-24T04:40:02.845335Z",
     "iopub.status.idle": "2021-08-24T04:40:03.801195Z",
     "shell.execute_reply": "2021-08-24T04:40:03.800528Z",
     "shell.execute_reply.started": "2021-08-24T04:40:02.845800Z"
    },
    "tags": []
   },
   "outputs": [],
   "source": [
    "import ecephys_analyses as ea\n",
    "\n",
    "yaml_path = ea.package_datapath('example_org_spec.yaml')"
   ]
  },
  {
   "cell_type": "code",
   "execution_count": 5,
   "metadata": {
    "execution": {
     "iopub.execute_input": "2021-08-24T04:40:20.374349Z",
     "iopub.status.busy": "2021-08-24T04:40:20.373762Z",
     "iopub.status.idle": "2021-08-24T04:40:20.400450Z",
     "shell.execute_reply": "2021-08-24T04:40:20.399664Z",
     "shell.execute_reply.started": "2021-08-24T04:40:20.374291Z"
    },
    "tags": []
   },
   "outputs": [],
   "source": [
    "import yaml\n",
    "\n",
    "with open(yaml_path) as fp:\n",
    "    yaml_data = yaml.safe_load(fp)\n",
    "doc = yaml_data"
   ]
  },
  {
   "cell_type": "code",
   "execution_count": 6,
   "metadata": {
    "execution": {
     "iopub.execute_input": "2021-08-24T04:40:22.904371Z",
     "iopub.status.busy": "2021-08-24T04:40:22.903871Z",
     "iopub.status.idle": "2021-08-24T04:40:22.925658Z",
     "shell.execute_reply": "2021-08-24T04:40:22.924942Z",
     "shell.execute_reply.started": "2021-08-24T04:40:22.904320Z"
    },
    "tags": []
   },
   "outputs": [],
   "source": [
    "session = doc['recording-sessions'][0]\n",
    "run = session['SpikeGLX-runs'][2]\n",
    "gate = 'g1'\n",
    "probe = 'imec0'"
   ]
  },
  {
   "cell_type": "markdown",
   "metadata": {},
   "source": [
    "# Getting and parsing files"
   ]
  },
  {
   "cell_type": "code",
   "execution_count": 428,
   "metadata": {
    "execution": {
     "iopub.execute_input": "2021-08-23T19:23:33.999240Z",
     "iopub.status.busy": "2021-08-23T19:23:33.998867Z",
     "iopub.status.idle": "2021-08-23T19:23:34.019703Z",
     "shell.execute_reply": "2021-08-23T19:23:34.019074Z",
     "shell.execute_reply.started": "2021-08-23T19:23:33.999207Z"
    },
    "tags": []
   },
   "outputs": [],
   "source": [
    "def parse_sglx_fname(fname):\n",
    "    \"\"\"Parse recording identifiers from a SpikeGLX style filename stem.\n",
    "\n",
    "    Paramters\n",
    "    ---------\n",
    "    fname: str\n",
    "        The filename to parse, e.g. \"my-run-name_g0_t1.imec2.lf.bin\"\n",
    "\n",
    "    Returns\n",
    "    -------\n",
    "    run: str\n",
    "        The run name, e.g. \"my-run-name\".\n",
    "    gate: str\n",
    "        The gate identifier, e.g. \"g0\".\n",
    "    trigger: str\n",
    "        The trigger identifier, e.g. \"t1\".\n",
    "    probe: str\n",
    "        The probe identifier, e.g. \"imec2\"\n",
    "    stream: str\n",
    "        The data type identifier, \"lf\" or \"ap\"\n",
    "    ftype: str\n",
    "        The file type identifier, \"bin\" or \"meta\"\n",
    "    \"\"\"\n",
    "    x = re.search(r\"_g\\d+_t\\d+\\.imec\\d+.(ap|lf).(bin|meta)\\Z\", fname)  # \\Z forces match at string end.\n",
    "    run = fname[: x.span()[0]]  # The run name is everything before the match\n",
    "    gate = re.search(r\"g\\d+\", x.group()).group()\n",
    "    trigger = re.search(r\"t\\d+\", x.group()).group()\n",
    "    probe = re.search(r\"imec\\d+\", x.group()).group()\n",
    "    stream = re.search(r\"(ap|lf)\", x.group()).group()\n",
    "    ftype = re.search(r\"(bin|meta)\", x.group()).group()\n",
    "\n",
    "    return (run, gate, trigger, probe, stream, ftype)"
   ]
  },
  {
   "cell_type": "code",
   "execution_count": 429,
   "metadata": {
    "execution": {
     "iopub.execute_input": "2021-08-23T19:23:34.504332Z",
     "iopub.status.busy": "2021-08-23T19:23:34.504083Z",
     "iopub.status.idle": "2021-08-23T19:23:34.524107Z",
     "shell.execute_reply": "2021-08-23T19:23:34.523737Z",
     "shell.execute_reply.started": "2021-08-23T19:23:34.504315Z"
    },
    "tags": []
   },
   "outputs": [
    {
     "data": {
      "text/plain": [
       "('3-1-2021_A', 'g1', 't0', 'imec0', 'lf', 'meta')"
      ]
     },
     "execution_count": 429,
     "metadata": {},
     "output_type": "execute_result"
    }
   ],
   "source": [
    "fname = '3-1-2021_A_g1_t0.imec0.lf.meta'\n",
    "parse_sglx_fname(fname)"
   ]
  },
  {
   "cell_type": "code",
   "execution_count": 431,
   "metadata": {
    "execution": {
     "iopub.execute_input": "2021-08-23T19:23:39.342401Z",
     "iopub.status.busy": "2021-08-23T19:23:39.341835Z",
     "iopub.status.idle": "2021-08-23T19:23:39.363008Z",
     "shell.execute_reply": "2021-08-23T19:23:39.362434Z",
     "shell.execute_reply.started": "2021-08-23T19:23:39.342346Z"
    },
    "tags": []
   },
   "outputs": [
    {
     "data": {
      "text/plain": [
       "PosixPath('/Volumes/neuropixel_archive/Data/chronic/CNPIX8-Allan/3-1-2021/3-1-2021_A_g1/3-1-2021_A_g1_imec0')"
      ]
     },
     "execution_count": 431,
     "metadata": {},
     "output_type": "execute_result"
    }
   ],
   "source": [
    "probe_dir = Path(doc['raw-data-root'], session['directory'], f\"{run}_{gate}\", f\"{run}_{gate}_{probe}\")\n",
    "probe_dir"
   ]
  },
  {
   "cell_type": "code",
   "execution_count": 433,
   "metadata": {
    "execution": {
     "iopub.execute_input": "2021-08-23T19:34:42.327636Z",
     "iopub.status.busy": "2021-08-23T19:34:42.327171Z",
     "iopub.status.idle": "2021-08-23T19:34:42.355322Z",
     "shell.execute_reply": "2021-08-23T19:34:42.354725Z",
     "shell.execute_reply.started": "2021-08-23T19:34:42.327598Z"
    },
    "tags": []
   },
   "outputs": [
    {
     "data": {
      "text/plain": [
       "[PosixPath('/Volumes/neuropixel_archive/Data/chronic/CNPIX8-Allan/3-1-2021/3-1-2021_A_g1/3-1-2021_A_g1_imec0/3-1-2021_A_g1_t0.imec0.ap.bin'),\n",
       " PosixPath('/Volumes/neuropixel_archive/Data/chronic/CNPIX8-Allan/3-1-2021/3-1-2021_A_g1/3-1-2021_A_g1_imec0/3-1-2021_A_g1_t0.imec0.ap.meta'),\n",
       " PosixPath('/Volumes/neuropixel_archive/Data/chronic/CNPIX8-Allan/3-1-2021/3-1-2021_A_g1/3-1-2021_A_g1_imec0/3-1-2021_A_g1_t0.imec0.lf.bin'),\n",
       " PosixPath('/Volumes/neuropixel_archive/Data/chronic/CNPIX8-Allan/3-1-2021/3-1-2021_A_g1/3-1-2021_A_g1_imec0/3-1-2021_A_g1_t0.imec0.lf.meta'),\n",
       " PosixPath('/Volumes/neuropixel_archive/Data/chronic/CNPIX8-Allan/3-1-2021/3-1-2021_A_g1/3-1-2021_A_g1_imec0/3-1-2021_A_g1_t1.imec0.ap.bin'),\n",
       " PosixPath('/Volumes/neuropixel_archive/Data/chronic/CNPIX8-Allan/3-1-2021/3-1-2021_A_g1/3-1-2021_A_g1_imec0/3-1-2021_A_g1_t1.imec0.ap.meta'),\n",
       " PosixPath('/Volumes/neuropixel_archive/Data/chronic/CNPIX8-Allan/3-1-2021/3-1-2021_A_g1/3-1-2021_A_g1_imec0/3-1-2021_A_g1_t1.imec0.lf.bin'),\n",
       " PosixPath('/Volumes/neuropixel_archive/Data/chronic/CNPIX8-Allan/3-1-2021/3-1-2021_A_g1/3-1-2021_A_g1_imec0/3-1-2021_A_g1_t1.imec0.lf.meta')]"
      ]
     },
     "execution_count": 433,
     "metadata": {},
     "output_type": "execute_result"
    }
   ],
   "source": [
    "def get_trigger_files(probe_dir):\n",
    "    matches = [p for p in probe_dir.glob(\"*_g*_t*.imec[0-9].*.*\") if (p.is_file() and re.search(r\"_g\\d+_t\\d+\\.imec\\d+.(ap|lf).(bin|meta)\\Z\", p.name))]\n",
    "    return sorted(matches)\n",
    "\n",
    "get_trigger_files(probe_dir)"
   ]
  },
  {
   "cell_type": "code",
   "execution_count": 434,
   "metadata": {
    "execution": {
     "iopub.execute_input": "2021-08-23T19:34:42.808775Z",
     "iopub.status.busy": "2021-08-23T19:34:42.808299Z",
     "iopub.status.idle": "2021-08-23T19:34:42.836549Z",
     "shell.execute_reply": "2021-08-23T19:34:42.835903Z",
     "shell.execute_reply.started": "2021-08-23T19:34:42.808718Z"
    },
    "tags": []
   },
   "outputs": [
    {
     "name": "stdout",
     "output_type": "stream",
     "text": [
      "['3-1-2021_A_g1_t0', '3-1-2021_A_g1_t1']\n",
      "['3-1-2021_A_g1_t0.imec0', '3-1-2021_A_g1_t1.imec0']\n"
     ]
    }
   ],
   "source": [
    "# This function is probably unneccessary\n",
    "\n",
    "def get_unique_trigger_stems(probe_dir, with_probe=False):\n",
    "    parses = [parse_sglx_fname(f.name) for f in get_trigger_files(probe_dir)]\n",
    "    if with_probe:\n",
    "        stems = [f\"{run}_{gate}_{trigger}.{probe}\" for run, gate, trigger, probe, stream, ftype in parses]\n",
    "    else:\n",
    "        stems = [f\"{run}_{gate}_{trigger}\" for run, gate, trigger, probe, stream, ftype in parses]\n",
    "    return sorted(dict.fromkeys(stems))\n",
    "\n",
    "\n",
    "print(get_unique_trigger_stems(probe_dir))\n",
    "print(get_unique_trigger_stems(probe_dir, with_probe=True))"
   ]
  },
  {
   "cell_type": "code",
   "execution_count": 435,
   "metadata": {
    "execution": {
     "iopub.execute_input": "2021-08-23T19:34:43.567987Z",
     "iopub.status.busy": "2021-08-23T19:34:43.567436Z",
     "iopub.status.idle": "2021-08-23T19:34:43.587089Z",
     "shell.execute_reply": "2021-08-23T19:34:43.586402Z",
     "shell.execute_reply.started": "2021-08-23T19:34:43.567932Z"
    },
    "tags": []
   },
   "outputs": [],
   "source": [
    "session_dir = Path(doc['raw-data-root'], session['directory'])"
   ]
  },
  {
   "cell_type": "code",
   "execution_count": 436,
   "metadata": {
    "execution": {
     "iopub.execute_input": "2021-08-23T19:34:43.775402Z",
     "iopub.status.busy": "2021-08-23T19:34:43.774855Z",
     "iopub.status.idle": "2021-08-23T19:34:43.794352Z",
     "shell.execute_reply": "2021-08-23T19:34:43.793608Z",
     "shell.execute_reply.started": "2021-08-23T19:34:43.775348Z"
    },
    "tags": []
   },
   "outputs": [],
   "source": [
    "gate_dir = session_dir / f\"{run}_{gate}\""
   ]
  },
  {
   "cell_type": "markdown",
   "metadata": {},
   "source": [
    "### The following functions assume folder-per-probe organization"
   ]
  },
  {
   "cell_type": "code",
   "execution_count": 440,
   "metadata": {
    "execution": {
     "iopub.execute_input": "2021-08-23T19:38:07.618484Z",
     "iopub.status.busy": "2021-08-23T19:38:07.617492Z",
     "iopub.status.idle": "2021-08-23T19:38:07.644395Z",
     "shell.execute_reply": "2021-08-23T19:38:07.643840Z",
     "shell.execute_reply.started": "2021-08-23T19:38:07.618427Z"
    },
    "tags": []
   },
   "outputs": [
    {
     "data": {
      "text/plain": [
       "[PosixPath('/Volumes/neuropixel_archive/Data/chronic/CNPIX8-Allan/3-1-2021/3-1-2021_A_g1/3-1-2021_A_g1_imec0'),\n",
       " PosixPath('/Volumes/neuropixel_archive/Data/chronic/CNPIX8-Allan/3-1-2021/3-1-2021_A_g1/3-1-2021_A_g1_imec1')]"
      ]
     },
     "execution_count": 440,
     "metadata": {},
     "output_type": "execute_result"
    }
   ],
   "source": [
    "def get_probe_directories(gate_dir, probe_regex=r\"imec\\d+\"): \n",
    "    search_string = r\"_g\\d+_\" + probe_regex + r\"\\Z\"\n",
    "    matches = [p for p in gate_dir.glob(f\"{gate_dir.name}_imec[0-9]\") if (p.is_dir() and re.search(search_string, p.name))]\n",
    "    return sorted(matches)\n",
    "\n",
    "get_probe_directories(gate_dir)"
   ]
  },
  {
   "cell_type": "code",
   "execution_count": 441,
   "metadata": {
    "execution": {
     "iopub.execute_input": "2021-08-23T19:38:07.855119Z",
     "iopub.status.busy": "2021-08-23T19:38:07.854580Z",
     "iopub.status.idle": "2021-08-23T19:38:07.878862Z",
     "shell.execute_reply": "2021-08-23T19:38:07.878307Z",
     "shell.execute_reply.started": "2021-08-23T19:38:07.855065Z"
    }
   },
   "outputs": [
    {
     "data": {
      "text/plain": [
       "[PosixPath('/Volumes/neuropixel_archive/Data/chronic/CNPIX8-Allan/3-1-2021/3-1-2021_A_g1/3-1-2021_A_g1_imec0')]"
      ]
     },
     "execution_count": 441,
     "metadata": {},
     "output_type": "execute_result"
    }
   ],
   "source": [
    "get_probe_directories(gate_dir, probe_regex=\"imec0\")"
   ]
  },
  {
   "cell_type": "code",
   "execution_count": 442,
   "metadata": {
    "execution": {
     "iopub.execute_input": "2021-08-23T19:42:24.107114Z",
     "iopub.status.busy": "2021-08-23T19:42:24.106635Z",
     "iopub.status.idle": "2021-08-23T19:42:24.202854Z",
     "shell.execute_reply": "2021-08-23T19:42:24.202161Z",
     "shell.execute_reply.started": "2021-08-23T19:42:24.107057Z"
    },
    "tags": []
   },
   "outputs": [
    {
     "data": {
      "text/plain": [
       "[PosixPath('/Volumes/neuropixel_archive/Data/chronic/CNPIX8-Allan/3-1-2021/3-1-2021_A_g1/3-1-2021_A_g1_imec0/3-1-2021_A_g1_t0.imec0.ap.bin'),\n",
       " PosixPath('/Volumes/neuropixel_archive/Data/chronic/CNPIX8-Allan/3-1-2021/3-1-2021_A_g1/3-1-2021_A_g1_imec0/3-1-2021_A_g1_t0.imec0.ap.meta'),\n",
       " PosixPath('/Volumes/neuropixel_archive/Data/chronic/CNPIX8-Allan/3-1-2021/3-1-2021_A_g1/3-1-2021_A_g1_imec0/3-1-2021_A_g1_t0.imec0.lf.bin'),\n",
       " PosixPath('/Volumes/neuropixel_archive/Data/chronic/CNPIX8-Allan/3-1-2021/3-1-2021_A_g1/3-1-2021_A_g1_imec0/3-1-2021_A_g1_t0.imec0.lf.meta'),\n",
       " PosixPath('/Volumes/neuropixel_archive/Data/chronic/CNPIX8-Allan/3-1-2021/3-1-2021_A_g1/3-1-2021_A_g1_imec0/3-1-2021_A_g1_t1.imec0.ap.bin'),\n",
       " PosixPath('/Volumes/neuropixel_archive/Data/chronic/CNPIX8-Allan/3-1-2021/3-1-2021_A_g1/3-1-2021_A_g1_imec0/3-1-2021_A_g1_t1.imec0.ap.meta'),\n",
       " PosixPath('/Volumes/neuropixel_archive/Data/chronic/CNPIX8-Allan/3-1-2021/3-1-2021_A_g1/3-1-2021_A_g1_imec0/3-1-2021_A_g1_t1.imec0.lf.bin'),\n",
       " PosixPath('/Volumes/neuropixel_archive/Data/chronic/CNPIX8-Allan/3-1-2021/3-1-2021_A_g1/3-1-2021_A_g1_imec0/3-1-2021_A_g1_t1.imec0.lf.meta'),\n",
       " PosixPath('/Volumes/neuropixel_archive/Data/chronic/CNPIX8-Allan/3-1-2021/3-1-2021_A_g1/3-1-2021_A_g1_imec1/3-1-2021_A_g1_t0.imec1.ap.bin'),\n",
       " PosixPath('/Volumes/neuropixel_archive/Data/chronic/CNPIX8-Allan/3-1-2021/3-1-2021_A_g1/3-1-2021_A_g1_imec1/3-1-2021_A_g1_t0.imec1.ap.meta'),\n",
       " PosixPath('/Volumes/neuropixel_archive/Data/chronic/CNPIX8-Allan/3-1-2021/3-1-2021_A_g1/3-1-2021_A_g1_imec1/3-1-2021_A_g1_t0.imec1.lf.bin'),\n",
       " PosixPath('/Volumes/neuropixel_archive/Data/chronic/CNPIX8-Allan/3-1-2021/3-1-2021_A_g1/3-1-2021_A_g1_imec1/3-1-2021_A_g1_t0.imec1.lf.meta'),\n",
       " PosixPath('/Volumes/neuropixel_archive/Data/chronic/CNPIX8-Allan/3-1-2021/3-1-2021_A_g1/3-1-2021_A_g1_imec1/3-1-2021_A_g1_t1.imec1.ap.bin'),\n",
       " PosixPath('/Volumes/neuropixel_archive/Data/chronic/CNPIX8-Allan/3-1-2021/3-1-2021_A_g1/3-1-2021_A_g1_imec1/3-1-2021_A_g1_t1.imec1.ap.meta'),\n",
       " PosixPath('/Volumes/neuropixel_archive/Data/chronic/CNPIX8-Allan/3-1-2021/3-1-2021_A_g1/3-1-2021_A_g1_imec1/3-1-2021_A_g1_t1.imec1.lf.bin'),\n",
       " PosixPath('/Volumes/neuropixel_archive/Data/chronic/CNPIX8-Allan/3-1-2021/3-1-2021_A_g1/3-1-2021_A_g1_imec1/3-1-2021_A_g1_t1.imec1.lf.meta')]"
      ]
     },
     "execution_count": 442,
     "metadata": {},
     "output_type": "execute_result"
    }
   ],
   "source": [
    "def get_gate_files(gate_dir):\n",
    "    return list(\n",
    "        chain.from_iterable(\n",
    "            get_trigger_files(probe_dir)\n",
    "            for probe_dir in get_probe_directories(gate_dir)\n",
    "        )\n",
    "    )\n",
    "    \n",
    "get_gate_files(gate_dir)"
   ]
  },
  {
   "cell_type": "markdown",
   "metadata": {},
   "source": [
    "### Functions that extend the SpikeGLX schema"
   ]
  },
  {
   "cell_type": "code",
   "execution_count": 463,
   "metadata": {
    "execution": {
     "iopub.execute_input": "2021-08-23T19:51:24.852264Z",
     "iopub.status.busy": "2021-08-23T19:51:24.851655Z",
     "iopub.status.idle": "2021-08-23T19:51:24.883166Z",
     "shell.execute_reply": "2021-08-23T19:51:24.882586Z",
     "shell.execute_reply.started": "2021-08-23T19:51:24.852207Z"
    },
    "tags": []
   },
   "outputs": [
    {
     "data": {
      "text/plain": [
       "[PosixPath('/Volumes/neuropixel_archive/Data/chronic/CNPIX8-Allan/3-1-2021/3-1-2021_A_g0'),\n",
       " PosixPath('/Volumes/neuropixel_archive/Data/chronic/CNPIX8-Allan/3-1-2021/3-1-2021_A_g1')]"
      ]
     },
     "execution_count": 463,
     "metadata": {},
     "output_type": "execute_result"
    }
   ],
   "source": [
    "def get_gate_directories(session_dir, run):\n",
    "    matches = [p for p in session_dir.glob(f\"{run}_g*\") if (p.is_dir() and re.search(r\"_g\\d+\\Z\", p.name))]\n",
    "    return sorted(matches)\n",
    "\n",
    "get_gate_directories(session_dir, run)"
   ]
  },
  {
   "cell_type": "code",
   "execution_count": 464,
   "metadata": {
    "execution": {
     "iopub.execute_input": "2021-08-23T19:51:25.343566Z",
     "iopub.status.busy": "2021-08-23T19:51:25.343020Z",
     "iopub.status.idle": "2021-08-23T19:51:25.377046Z",
     "shell.execute_reply": "2021-08-23T19:51:25.376386Z",
     "shell.execute_reply.started": "2021-08-23T19:51:25.343512Z"
    },
    "tags": []
   },
   "outputs": [
    {
     "data": {
      "text/plain": [
       "[PosixPath('/Volumes/neuropixel_archive/Data/chronic/CNPIX8-Allan/3-1-2021/3-1-2021_A_g0/3-1-2021_A_g0_imec0/3-1-2021_A_g0_t0.imec0.ap.bin'),\n",
       " PosixPath('/Volumes/neuropixel_archive/Data/chronic/CNPIX8-Allan/3-1-2021/3-1-2021_A_g0/3-1-2021_A_g0_imec0/3-1-2021_A_g0_t0.imec0.ap.meta'),\n",
       " PosixPath('/Volumes/neuropixel_archive/Data/chronic/CNPIX8-Allan/3-1-2021/3-1-2021_A_g0/3-1-2021_A_g0_imec0/3-1-2021_A_g0_t0.imec0.lf.bin'),\n",
       " PosixPath('/Volumes/neuropixel_archive/Data/chronic/CNPIX8-Allan/3-1-2021/3-1-2021_A_g0/3-1-2021_A_g0_imec0/3-1-2021_A_g0_t0.imec0.lf.meta'),\n",
       " PosixPath('/Volumes/neuropixel_archive/Data/chronic/CNPIX8-Allan/3-1-2021/3-1-2021_A_g0/3-1-2021_A_g0_imec1/3-1-2021_A_g0_t0.imec1.ap.bin'),\n",
       " PosixPath('/Volumes/neuropixel_archive/Data/chronic/CNPIX8-Allan/3-1-2021/3-1-2021_A_g0/3-1-2021_A_g0_imec1/3-1-2021_A_g0_t0.imec1.ap.meta'),\n",
       " PosixPath('/Volumes/neuropixel_archive/Data/chronic/CNPIX8-Allan/3-1-2021/3-1-2021_A_g0/3-1-2021_A_g0_imec1/3-1-2021_A_g0_t0.imec1.lf.bin'),\n",
       " PosixPath('/Volumes/neuropixel_archive/Data/chronic/CNPIX8-Allan/3-1-2021/3-1-2021_A_g0/3-1-2021_A_g0_imec1/3-1-2021_A_g0_t0.imec1.lf.meta'),\n",
       " PosixPath('/Volumes/neuropixel_archive/Data/chronic/CNPIX8-Allan/3-1-2021/3-1-2021_A_g1/3-1-2021_A_g1_imec0/3-1-2021_A_g1_t0.imec0.ap.bin'),\n",
       " PosixPath('/Volumes/neuropixel_archive/Data/chronic/CNPIX8-Allan/3-1-2021/3-1-2021_A_g1/3-1-2021_A_g1_imec0/3-1-2021_A_g1_t0.imec0.ap.meta'),\n",
       " PosixPath('/Volumes/neuropixel_archive/Data/chronic/CNPIX8-Allan/3-1-2021/3-1-2021_A_g1/3-1-2021_A_g1_imec0/3-1-2021_A_g1_t0.imec0.lf.bin'),\n",
       " PosixPath('/Volumes/neuropixel_archive/Data/chronic/CNPIX8-Allan/3-1-2021/3-1-2021_A_g1/3-1-2021_A_g1_imec0/3-1-2021_A_g1_t0.imec0.lf.meta'),\n",
       " PosixPath('/Volumes/neuropixel_archive/Data/chronic/CNPIX8-Allan/3-1-2021/3-1-2021_A_g1/3-1-2021_A_g1_imec0/3-1-2021_A_g1_t1.imec0.ap.bin'),\n",
       " PosixPath('/Volumes/neuropixel_archive/Data/chronic/CNPIX8-Allan/3-1-2021/3-1-2021_A_g1/3-1-2021_A_g1_imec0/3-1-2021_A_g1_t1.imec0.ap.meta'),\n",
       " PosixPath('/Volumes/neuropixel_archive/Data/chronic/CNPIX8-Allan/3-1-2021/3-1-2021_A_g1/3-1-2021_A_g1_imec0/3-1-2021_A_g1_t1.imec0.lf.bin'),\n",
       " PosixPath('/Volumes/neuropixel_archive/Data/chronic/CNPIX8-Allan/3-1-2021/3-1-2021_A_g1/3-1-2021_A_g1_imec0/3-1-2021_A_g1_t1.imec0.lf.meta'),\n",
       " PosixPath('/Volumes/neuropixel_archive/Data/chronic/CNPIX8-Allan/3-1-2021/3-1-2021_A_g1/3-1-2021_A_g1_imec1/3-1-2021_A_g1_t0.imec1.ap.bin'),\n",
       " PosixPath('/Volumes/neuropixel_archive/Data/chronic/CNPIX8-Allan/3-1-2021/3-1-2021_A_g1/3-1-2021_A_g1_imec1/3-1-2021_A_g1_t0.imec1.ap.meta'),\n",
       " PosixPath('/Volumes/neuropixel_archive/Data/chronic/CNPIX8-Allan/3-1-2021/3-1-2021_A_g1/3-1-2021_A_g1_imec1/3-1-2021_A_g1_t0.imec1.lf.bin'),\n",
       " PosixPath('/Volumes/neuropixel_archive/Data/chronic/CNPIX8-Allan/3-1-2021/3-1-2021_A_g1/3-1-2021_A_g1_imec1/3-1-2021_A_g1_t0.imec1.lf.meta'),\n",
       " PosixPath('/Volumes/neuropixel_archive/Data/chronic/CNPIX8-Allan/3-1-2021/3-1-2021_A_g1/3-1-2021_A_g1_imec1/3-1-2021_A_g1_t1.imec1.ap.bin'),\n",
       " PosixPath('/Volumes/neuropixel_archive/Data/chronic/CNPIX8-Allan/3-1-2021/3-1-2021_A_g1/3-1-2021_A_g1_imec1/3-1-2021_A_g1_t1.imec1.ap.meta'),\n",
       " PosixPath('/Volumes/neuropixel_archive/Data/chronic/CNPIX8-Allan/3-1-2021/3-1-2021_A_g1/3-1-2021_A_g1_imec1/3-1-2021_A_g1_t1.imec1.lf.bin'),\n",
       " PosixPath('/Volumes/neuropixel_archive/Data/chronic/CNPIX8-Allan/3-1-2021/3-1-2021_A_g1/3-1-2021_A_g1_imec1/3-1-2021_A_g1_t1.imec1.lf.meta')]"
      ]
     },
     "execution_count": 464,
     "metadata": {},
     "output_type": "execute_result"
    }
   ],
   "source": [
    "def get_run_files(session_dir, run):\n",
    "    return list(\n",
    "        chain.from_iterable(\n",
    "            get_gate_files(gate_dir)\n",
    "            for gate_dir in get_gate_directories(session_dir, run)\n",
    "        )\n",
    "    )\n",
    "\n",
    "get_run_files(session_dir, run)"
   ]
  },
  {
   "cell_type": "code",
   "execution_count": 28,
   "metadata": {
    "execution": {
     "iopub.execute_input": "2021-08-23T02:18:15.195804Z",
     "iopub.status.busy": "2021-08-23T02:18:15.195264Z",
     "iopub.status.idle": "2021-08-23T02:18:15.310902Z",
     "shell.execute_reply": "2021-08-23T02:18:15.309854Z",
     "shell.execute_reply.started": "2021-08-23T02:18:15.195750Z"
    },
    "tags": []
   },
   "outputs": [],
   "source": [
    "def get_session_files(session_dir, runs):\n",
    "    return list(\n",
    "        chain.from_iterable(get_run_files(session_dir, run) for run in runs)\n",
    "    )\n",
    "\n",
    "get_session_files(session_dir, session[\"SpikeGLX-runs\"]);"
   ]
  },
  {
   "cell_type": "code",
   "execution_count": 50,
   "metadata": {
    "execution": {
     "iopub.execute_input": "2021-08-23T02:42:44.678027Z",
     "iopub.status.busy": "2021-08-23T02:42:44.677462Z",
     "iopub.status.idle": "2021-08-23T02:42:44.835473Z",
     "shell.execute_reply": "2021-08-23T02:42:44.834244Z",
     "shell.execute_reply.started": "2021-08-23T02:42:44.677972Z"
    },
    "tags": []
   },
   "outputs": [],
   "source": [
    "# This is probably not a useful function, and mostly exists for completeness. \n",
    "def get_document_files(doc):\n",
    "    return list(\n",
    "        chain.from_iterable(\n",
    "            get_session_files(\n",
    "                Path(doc[\"raw-data-root\"]) / session[\"directory\"],\n",
    "                session[\"SpikeGLX-runs\"]\n",
    "            )\n",
    "            for session in doc[\"recording-sessions\"]\n",
    "        )\n",
    "    )\n",
    "\n",
    "\n",
    "get_document_files(doc);"
   ]
  },
  {
   "cell_type": "markdown",
   "metadata": {},
   "source": [
    "### Getting experiment files"
   ]
  },
  {
   "cell_type": "code",
   "execution_count": 372,
   "metadata": {
    "execution": {
     "iopub.execute_input": "2021-08-23T17:40:09.582999Z",
     "iopub.status.busy": "2021-08-23T17:40:09.582429Z",
     "iopub.status.idle": "2021-08-23T17:40:09.718766Z",
     "shell.execute_reply": "2021-08-23T17:40:09.717697Z",
     "shell.execute_reply.started": "2021-08-23T17:40:09.582944Z"
    },
    "tags": []
   },
   "outputs": [],
   "source": [
    "def get_experiment_files(doc, experiment_name):\n",
    "    return list(\n",
    "        chain.from_iterable(\n",
    "            get_session_files(\n",
    "                Path(doc[\"raw-data-root\"]) / session[\"directory\"],\n",
    "                session[\"SpikeGLX-runs\"],\n",
    "            )\n",
    "            for session in doc[\"experiments\"][experiment_name]['recording-sessions']\n",
    "        )\n",
    "    )\n",
    "\n",
    "get_experiment_files(doc, 'sleep-homeostasis');"
   ]
  },
  {
   "cell_type": "code",
   "execution_count": 162,
   "metadata": {
    "execution": {
     "iopub.execute_input": "2021-08-23T04:54:03.648115Z",
     "iopub.status.busy": "2021-08-23T04:54:03.647556Z",
     "iopub.status.idle": "2021-08-23T04:54:03.811405Z",
     "shell.execute_reply": "2021-08-23T04:54:03.810340Z",
     "shell.execute_reply.started": "2021-08-23T04:54:03.648059Z"
    },
    "tags": []
   },
   "outputs": [],
   "source": [
    "import pandas as pd\n",
    "\n",
    "def _slice_files_by_name(files, start, end):\n",
    "    \"\"\"Files must be sorted BY STEM (e.g. separated by probe) before using this function,\n",
    "    else pd.Index.slice_locs will correctly raise an error.\"\"\"\n",
    "    parses = [parse_sglx_fname(f.name) for f in files]\n",
    "    stems = [\n",
    "        f\"{run}_{gate}_{trigger}\" for run, gate, trigger, probe, stream, ftype in parses\n",
    "    ]\n",
    "    (start, end) = pd.Index(stems).slice_locs(start, end)\n",
    "    return files[start:end]\n",
    "\n",
    "\n",
    "def get_alias_files(doc, experiment_name, alias_name):\n",
    "    alias = doc[\"experiments\"][experiment_name][\"aliases\"][alias_name]\n",
    "    experiment_files = get_experiment_files(doc, experiment_name)\n",
    "    alias_files_by_probe = {\n",
    "        probe: _slice_files_by_name(files, alias[\"start_file\"], alias[\"end_file\"])\n",
    "        for probe, files in separate_files_by_probe(experiment_files).items()\n",
    "    }\n",
    "    return [f for f in experiment_files if f in list(chain.from_iterable(alias_files_by_probe.values()))]\n",
    "\n",
    "\n",
    "get_alias_files(doc, \"sleep-homeostasis\", \"light-period-circadian-match\");"
   ]
  },
  {
   "cell_type": "markdown",
   "metadata": {
    "execution": {
     "iopub.execute_input": "2021-08-23T14:47:45.260476Z",
     "iopub.status.busy": "2021-08-23T14:47:45.260183Z",
     "iopub.status.idle": "2021-08-23T14:47:45.279785Z",
     "shell.execute_reply": "2021-08-23T14:47:45.279025Z",
     "shell.execute_reply.started": "2021-08-23T14:47:45.260451Z"
    },
    "tags": []
   },
   "source": [
    "# Manipulating non-dataframe file lists"
   ]
  },
  {
   "cell_type": "code",
   "execution_count": 19,
   "metadata": {
    "execution": {
     "iopub.execute_input": "2021-08-21T02:23:50.795497Z",
     "iopub.status.busy": "2021-08-21T02:23:50.795251Z",
     "iopub.status.idle": "2021-08-21T02:23:50.811519Z",
     "shell.execute_reply": "2021-08-21T02:23:50.811017Z",
     "shell.execute_reply.started": "2021-08-21T02:23:50.795481Z"
    },
    "tags": []
   },
   "outputs": [],
   "source": [
    "def filter_files(files, run=None, gate=None, trigger=None, probe=None, stream=None, ftype=None):\n",
    "    desired = (run, gate, trigger, probe, stream, ftype)\n",
    "    def keep_file(fname):\n",
    "        actual = parse_sglx_fname(fname)\n",
    "        keep = map(lambda x, y: x is None or x == y, desired, actual)\n",
    "        return all(keep)\n",
    "\n",
    "    return [f for f in files if keep_file(f.name)]"
   ]
  },
  {
   "cell_type": "code",
   "execution_count": 465,
   "metadata": {
    "execution": {
     "iopub.execute_input": "2021-08-23T20:08:09.350872Z",
     "iopub.status.busy": "2021-08-23T20:08:09.350397Z",
     "iopub.status.idle": "2021-08-23T20:08:09.804988Z",
     "shell.execute_reply": "2021-08-23T20:08:09.804424Z",
     "shell.execute_reply.started": "2021-08-23T20:08:09.350816Z"
    },
    "tags": []
   },
   "outputs": [
    {
     "data": {
      "text/plain": [
       "[PosixPath('/Volumes/neuropixel_archive/Data/chronic/CNPIX8-Allan/3-1-2021/3-1-2021_g0/3-1-2021_g0_imec0/3-1-2021_g0_t0.imec0.lf.bin'),\n",
       " PosixPath('/Volumes/neuropixel_archive/Data/chronic/CNPIX8-Allan/3-1-2021/3-1-2021-a_g0/3-1-2021-a_g0_imec0/3-1-2021-a_g0_t0.imec0.lf.bin'),\n",
       " PosixPath('/Volumes/neuropixel_archive/Data/chronic/CNPIX8-Allan/3-1-2021/3-1-2021_A_g0/3-1-2021_A_g0_imec0/3-1-2021_A_g0_t0.imec0.lf.bin'),\n",
       " PosixPath('/Volumes/neuropixel_archive/Data/chronic/CNPIX8-Allan/3-1-2021/3-1-2021_A_g1/3-1-2021_A_g1_imec0/3-1-2021_A_g1_t0.imec0.lf.bin'),\n",
       " PosixPath('/Volumes/neuropixel_archive/Data/chronic/CNPIX8-Allan/3-1-2021/3-1-2021_A_g1/3-1-2021_A_g1_imec0/3-1-2021_A_g1_t1.imec0.lf.bin'),\n",
       " PosixPath('/Volumes/neuropixel_archive/Data/chronic/CNPIX8-Allan/3-1-2021/3-1-2021_B_g0/3-1-2021_B_g0_imec0/3-1-2021_B_g0_t0.imec0.lf.bin'),\n",
       " PosixPath('/Volumes/neuropixel_archive/Data/chronic/CNPIX8-Allan/3-1-2021/3-1-2021_C_g0/3-1-2021_C_g0_imec0/3-1-2021_C_g0_t0.imec0.lf.bin'),\n",
       " PosixPath('/Volumes/neuropixel_archive/Data/chronic/CNPIX8-Allan/3-1-2021/3-1-2021_C_g0/3-1-2021_C_g0_imec0/3-1-2021_C_g0_t1.imec0.lf.bin'),\n",
       " PosixPath('/Volumes/neuropixel_archive/Data/chronic/CNPIX8-Allan/3-1-2021/3-1-2021_C_g0/3-1-2021_C_g0_imec0/3-1-2021_C_g0_t2.imec0.lf.bin'),\n",
       " PosixPath('/Volumes/neuropixel_archive/Data/chronic/CNPIX8-Allan/3-1-2021/3-1-2021_C_g0/3-1-2021_C_g0_imec0/3-1-2021_C_g0_t3.imec0.lf.bin'),\n",
       " PosixPath('/Volumes/neuropixel_archive/Data/chronic/CNPIX8-Allan/3-1-2021/3-1-2021_C_g0/3-1-2021_C_g0_imec0/3-1-2021_C_g0_t4.imec0.lf.bin'),\n",
       " PosixPath('/Volumes/neuropixel_archive/Data/chronic/CNPIX8-Allan/3-1-2021/3-1-2021_C_g0/3-1-2021_C_g0_imec0/3-1-2021_C_g0_t5.imec0.lf.bin'),\n",
       " PosixPath('/Volumes/neuropixel_archive/Data/chronic/CNPIX8-Allan/3-1-2021/3-1-2021_C_g0/3-1-2021_C_g0_imec0/3-1-2021_C_g0_t6.imec0.lf.bin'),\n",
       " PosixPath('/Volumes/neuropixel_archive/Data/chronic/CNPIX8-Allan/3-1-2021/3-1-2021_C_g0/3-1-2021_C_g0_imec0/3-1-2021_C_g0_t7.imec0.lf.bin'),\n",
       " PosixPath('/Volumes/neuropixel_archive/Data/chronic/CNPIX8-Allan/3-1-2021/3-1-2021_C_g0/3-1-2021_C_g0_imec0/3-1-2021_C_g0_t8.imec0.lf.bin'),\n",
       " PosixPath('/Volumes/neuropixel_archive/Data/chronic/CNPIX8-Allan/3-1-2021/3-1-2021_D_g0/3-1-2021_D_g0_imec0/3-1-2021_D_g0_t0.imec0.lf.bin'),\n",
       " PosixPath('/Volumes/neuropixel_archive/Data/chronic/CNPIX8-Allan/3-1-2021/3-1-2021_D_g0/3-1-2021_D_g0_imec0/3-1-2021_D_g0_t1.imec0.lf.bin'),\n",
       " PosixPath('/Volumes/neuropixel_archive/Data/chronic/CNPIX8-Allan/3-1-2021/3-1-2021_D_g0/3-1-2021_D_g0_imec0/3-1-2021_D_g0_t2.imec0.lf.bin'),\n",
       " PosixPath('/Volumes/neuropixel_archive/Data/chronic/CNPIX8-Allan/3-1-2021/3-1-2021_E_g0/3-1-2021_E_g0_imec0/3-1-2021_E_g0_t0.imec0.lf.bin'),\n",
       " PosixPath('/Volumes/neuropixel_archive/Data/chronic/CNPIX8-Allan/3-1-2021/3-1-2021_E_g0/3-1-2021_E_g0_imec0/3-1-2021_E_g0_t1.imec0.lf.bin'),\n",
       " PosixPath('/Volumes/neuropixel_archive/Data/chronic/CNPIX8-Allan/3-1-2021/3-1-2021_G_g0/3-1-2021_G_g0_imec0/3-1-2021_G_g0_t0.imec0.lf.bin'),\n",
       " PosixPath('/Volumes/neuropixel_archive/Data/chronic/CNPIX8-Allan/3-1-2021/3-1-2021_G_g0/3-1-2021_G_g0_imec0/3-1-2021_G_g0_t1.imec0.lf.bin'),\n",
       " PosixPath('/Volumes/neuropixel_archive/Data/chronic/CNPIX8-Allan/3-1-2021/3-1-2021_H_g0/3-1-2021_H_g0_imec0/3-1-2021_H_g0_t0.imec0.lf.bin'),\n",
       " PosixPath('/Volumes/neuropixel_archive/Data/chronic/CNPIX8-Allan/3-1-2021/3-1-2021_H_g0/3-1-2021_H_g0_imec0/3-1-2021_H_g0_t1.imec0.lf.bin'),\n",
       " PosixPath('/Volumes/neuropixel_archive/Data/chronic/CNPIX8-Allan/3-1-2021/3-1-2021_H_g0/3-1-2021_H_g0_imec0/3-1-2021_H_g0_t2.imec0.lf.bin'),\n",
       " PosixPath('/Volumes/neuropixel_archive/Data/chronic/CNPIX8-Allan/3-1-2021/3-1-2021_J_g0/3-1-2021_J_g0_imec0/3-1-2021_J_g0_t0.imec0.lf.bin'),\n",
       " PosixPath('/Volumes/neuropixel_archive/Data/chronic/CNPIX8-Allan/4-13-2021/4.13.2021_g0/4.13.2021_g0_imec0/4.13.2021_g0_t0.imec0.lf.bin'),\n",
       " PosixPath('/Volumes/neuropixel_archive/Data/chronic/CNPIX8-Allan/4-13-2021/4.13.2021_g0/4.13.2021_g0_imec0/4.13.2021_g0_t1.imec0.lf.bin'),\n",
       " PosixPath('/Volumes/neuropixel_archive/Data/chronic/CNPIX8-Allan/4-13-2021/4.13.2021_g1/4.13.2021_g1_imec0/4.13.2021_g1_t0.imec0.lf.bin'),\n",
       " PosixPath('/Volumes/neuropixel_archive/Data/chronic/CNPIX8-Allan/4-13-2021/4.13.2021_g1/4.13.2021_g1_imec0/4.13.2021_g1_t1.imec0.lf.bin'),\n",
       " PosixPath('/Volumes/neuropixel_archive/Data/chronic/CNPIX8-Allan/4-16-2021/4.16.2021_g0/4.16.2021_g0_imec0/4.16.2021_g0_t0.imec0.lf.bin'),\n",
       " PosixPath('/Volumes/neuropixel_archive/Data/chronic/CNPIX8-Allan/4-16-2021/4.16.2021_g1/4.16.2021_g1_imec0/4.16.2021_g1_t0.imec0.lf.bin'),\n",
       " PosixPath('/Volumes/neuropixel_archive/Data/chronic/CNPIX8-Allan/4-16-2021/4.16.2021_g1/4.16.2021_g1_imec0/4.16.2021_g1_t1.imec0.lf.bin'),\n",
       " PosixPath('/Volumes/neuropixel_archive/Data/chronic/CNPIX8-Allan/4-16-2021/4.16.2021_g1/4.16.2021_g1_imec0/4.16.2021_g1_t2.imec0.lf.bin'),\n",
       " PosixPath('/Volumes/neuropixel_archive/Data/chronic/CNPIX8-Allan/4-20-2021/4.20.2021_g0/4.20.2021_g0_imec0/4.20.2021_g0_t0.imec0.lf.bin'),\n",
       " PosixPath('/Volumes/neuropixel_archive/Data/chronic/CNPIX8-Allan/4-20-2021/4.20.2021_g1/4.20.2021_g1_imec0/4.20.2021_g1_t0.imec0.lf.bin'),\n",
       " PosixPath('/Volumes/neuropixel_archive/Data/chronic/CNPIX8-Allan/4-20-2021/4.20.2021_g1/4.20.2021_g1_imec0/4.20.2021_g1_t1.imec0.lf.bin'),\n",
       " PosixPath('/Volumes/neuropixel_archive/Data/chronic/CNPIX8-Allan/4-20-2021/4.20.2021_g1/4.20.2021_g1_imec0/4.20.2021_g1_t2.imec0.lf.bin')]"
      ]
     },
     "execution_count": 465,
     "metadata": {},
     "output_type": "execute_result"
    }
   ],
   "source": [
    "filter_files(get_document_files(doc), probe='imec0', stream='lf', ftype='bin')"
   ]
  },
  {
   "cell_type": "code",
   "execution_count": 466,
   "metadata": {
    "execution": {
     "iopub.execute_input": "2021-08-23T20:08:12.833927Z",
     "iopub.status.busy": "2021-08-23T20:08:12.833372Z",
     "iopub.status.idle": "2021-08-23T20:08:13.003557Z",
     "shell.execute_reply": "2021-08-23T20:08:13.002990Z",
     "shell.execute_reply.started": "2021-08-23T20:08:12.833856Z"
    },
    "tags": []
   },
   "outputs": [
    {
     "data": {
      "text/plain": [
       "[PosixPath('/Volumes/neuropixel_archive/Data/chronic/CNPIX8-Allan/3-1-2021/3-1-2021_g0/3-1-2021_g0_imec0/3-1-2021_g0_t0'),\n",
       " PosixPath('/Volumes/neuropixel_archive/Data/chronic/CNPIX8-Allan/3-1-2021/3-1-2021_g0/3-1-2021_g0_imec0/3-1-2021_g0_t0'),\n",
       " PosixPath('/Volumes/neuropixel_archive/Data/chronic/CNPIX8-Allan/3-1-2021/3-1-2021_g0/3-1-2021_g0_imec0/3-1-2021_g0_t0'),\n",
       " PosixPath('/Volumes/neuropixel_archive/Data/chronic/CNPIX8-Allan/3-1-2021/3-1-2021_g0/3-1-2021_g0_imec0/3-1-2021_g0_t0'),\n",
       " PosixPath('/Volumes/neuropixel_archive/Data/chronic/CNPIX8-Allan/3-1-2021/3-1-2021_g0/3-1-2021_g0_imec1/3-1-2021_g0_t0'),\n",
       " PosixPath('/Volumes/neuropixel_archive/Data/chronic/CNPIX8-Allan/3-1-2021/3-1-2021_g0/3-1-2021_g0_imec1/3-1-2021_g0_t0'),\n",
       " PosixPath('/Volumes/neuropixel_archive/Data/chronic/CNPIX8-Allan/3-1-2021/3-1-2021_g0/3-1-2021_g0_imec1/3-1-2021_g0_t0'),\n",
       " PosixPath('/Volumes/neuropixel_archive/Data/chronic/CNPIX8-Allan/3-1-2021/3-1-2021_g0/3-1-2021_g0_imec1/3-1-2021_g0_t0'),\n",
       " PosixPath('/Volumes/neuropixel_archive/Data/chronic/CNPIX8-Allan/3-1-2021/3-1-2021-a_g0/3-1-2021-a_g0_imec0/3-1-2021-a_g0_t0'),\n",
       " PosixPath('/Volumes/neuropixel_archive/Data/chronic/CNPIX8-Allan/3-1-2021/3-1-2021-a_g0/3-1-2021-a_g0_imec0/3-1-2021-a_g0_t0'),\n",
       " PosixPath('/Volumes/neuropixel_archive/Data/chronic/CNPIX8-Allan/3-1-2021/3-1-2021-a_g0/3-1-2021-a_g0_imec0/3-1-2021-a_g0_t0'),\n",
       " PosixPath('/Volumes/neuropixel_archive/Data/chronic/CNPIX8-Allan/3-1-2021/3-1-2021-a_g0/3-1-2021-a_g0_imec0/3-1-2021-a_g0_t0'),\n",
       " PosixPath('/Volumes/neuropixel_archive/Data/chronic/CNPIX8-Allan/3-1-2021/3-1-2021-a_g0/3-1-2021-a_g0_imec1/3-1-2021-a_g0_t0'),\n",
       " PosixPath('/Volumes/neuropixel_archive/Data/chronic/CNPIX8-Allan/3-1-2021/3-1-2021-a_g0/3-1-2021-a_g0_imec1/3-1-2021-a_g0_t0'),\n",
       " PosixPath('/Volumes/neuropixel_archive/Data/chronic/CNPIX8-Allan/3-1-2021/3-1-2021-a_g0/3-1-2021-a_g0_imec1/3-1-2021-a_g0_t0'),\n",
       " PosixPath('/Volumes/neuropixel_archive/Data/chronic/CNPIX8-Allan/3-1-2021/3-1-2021-a_g0/3-1-2021-a_g0_imec1/3-1-2021-a_g0_t0'),\n",
       " PosixPath('/Volumes/neuropixel_archive/Data/chronic/CNPIX8-Allan/3-1-2021/3-1-2021_A_g0/3-1-2021_A_g0_imec0/3-1-2021_A_g0_t0'),\n",
       " PosixPath('/Volumes/neuropixel_archive/Data/chronic/CNPIX8-Allan/3-1-2021/3-1-2021_A_g0/3-1-2021_A_g0_imec0/3-1-2021_A_g0_t0'),\n",
       " PosixPath('/Volumes/neuropixel_archive/Data/chronic/CNPIX8-Allan/3-1-2021/3-1-2021_A_g0/3-1-2021_A_g0_imec0/3-1-2021_A_g0_t0'),\n",
       " PosixPath('/Volumes/neuropixel_archive/Data/chronic/CNPIX8-Allan/3-1-2021/3-1-2021_A_g0/3-1-2021_A_g0_imec0/3-1-2021_A_g0_t0'),\n",
       " PosixPath('/Volumes/neuropixel_archive/Data/chronic/CNPIX8-Allan/3-1-2021/3-1-2021_A_g0/3-1-2021_A_g0_imec1/3-1-2021_A_g0_t0'),\n",
       " PosixPath('/Volumes/neuropixel_archive/Data/chronic/CNPIX8-Allan/3-1-2021/3-1-2021_A_g0/3-1-2021_A_g0_imec1/3-1-2021_A_g0_t0'),\n",
       " PosixPath('/Volumes/neuropixel_archive/Data/chronic/CNPIX8-Allan/3-1-2021/3-1-2021_A_g0/3-1-2021_A_g0_imec1/3-1-2021_A_g0_t0'),\n",
       " PosixPath('/Volumes/neuropixel_archive/Data/chronic/CNPIX8-Allan/3-1-2021/3-1-2021_A_g0/3-1-2021_A_g0_imec1/3-1-2021_A_g0_t0'),\n",
       " PosixPath('/Volumes/neuropixel_archive/Data/chronic/CNPIX8-Allan/3-1-2021/3-1-2021_A_g1/3-1-2021_A_g1_imec0/3-1-2021_A_g1_t0'),\n",
       " PosixPath('/Volumes/neuropixel_archive/Data/chronic/CNPIX8-Allan/3-1-2021/3-1-2021_A_g1/3-1-2021_A_g1_imec0/3-1-2021_A_g1_t0'),\n",
       " PosixPath('/Volumes/neuropixel_archive/Data/chronic/CNPIX8-Allan/3-1-2021/3-1-2021_A_g1/3-1-2021_A_g1_imec0/3-1-2021_A_g1_t0'),\n",
       " PosixPath('/Volumes/neuropixel_archive/Data/chronic/CNPIX8-Allan/3-1-2021/3-1-2021_A_g1/3-1-2021_A_g1_imec0/3-1-2021_A_g1_t0'),\n",
       " PosixPath('/Volumes/neuropixel_archive/Data/chronic/CNPIX8-Allan/3-1-2021/3-1-2021_A_g1/3-1-2021_A_g1_imec0/3-1-2021_A_g1_t1'),\n",
       " PosixPath('/Volumes/neuropixel_archive/Data/chronic/CNPIX8-Allan/3-1-2021/3-1-2021_A_g1/3-1-2021_A_g1_imec0/3-1-2021_A_g1_t1'),\n",
       " PosixPath('/Volumes/neuropixel_archive/Data/chronic/CNPIX8-Allan/3-1-2021/3-1-2021_A_g1/3-1-2021_A_g1_imec0/3-1-2021_A_g1_t1'),\n",
       " PosixPath('/Volumes/neuropixel_archive/Data/chronic/CNPIX8-Allan/3-1-2021/3-1-2021_A_g1/3-1-2021_A_g1_imec0/3-1-2021_A_g1_t1'),\n",
       " PosixPath('/Volumes/neuropixel_archive/Data/chronic/CNPIX8-Allan/3-1-2021/3-1-2021_A_g1/3-1-2021_A_g1_imec1/3-1-2021_A_g1_t0'),\n",
       " PosixPath('/Volumes/neuropixel_archive/Data/chronic/CNPIX8-Allan/3-1-2021/3-1-2021_A_g1/3-1-2021_A_g1_imec1/3-1-2021_A_g1_t0'),\n",
       " PosixPath('/Volumes/neuropixel_archive/Data/chronic/CNPIX8-Allan/3-1-2021/3-1-2021_A_g1/3-1-2021_A_g1_imec1/3-1-2021_A_g1_t0'),\n",
       " PosixPath('/Volumes/neuropixel_archive/Data/chronic/CNPIX8-Allan/3-1-2021/3-1-2021_A_g1/3-1-2021_A_g1_imec1/3-1-2021_A_g1_t0'),\n",
       " PosixPath('/Volumes/neuropixel_archive/Data/chronic/CNPIX8-Allan/3-1-2021/3-1-2021_A_g1/3-1-2021_A_g1_imec1/3-1-2021_A_g1_t1'),\n",
       " PosixPath('/Volumes/neuropixel_archive/Data/chronic/CNPIX8-Allan/3-1-2021/3-1-2021_A_g1/3-1-2021_A_g1_imec1/3-1-2021_A_g1_t1'),\n",
       " PosixPath('/Volumes/neuropixel_archive/Data/chronic/CNPIX8-Allan/3-1-2021/3-1-2021_A_g1/3-1-2021_A_g1_imec1/3-1-2021_A_g1_t1'),\n",
       " PosixPath('/Volumes/neuropixel_archive/Data/chronic/CNPIX8-Allan/3-1-2021/3-1-2021_A_g1/3-1-2021_A_g1_imec1/3-1-2021_A_g1_t1'),\n",
       " PosixPath('/Volumes/neuropixel_archive/Data/chronic/CNPIX8-Allan/3-1-2021/3-1-2021_B_g0/3-1-2021_B_g0_imec0/3-1-2021_B_g0_t0'),\n",
       " PosixPath('/Volumes/neuropixel_archive/Data/chronic/CNPIX8-Allan/3-1-2021/3-1-2021_B_g0/3-1-2021_B_g0_imec0/3-1-2021_B_g0_t0'),\n",
       " PosixPath('/Volumes/neuropixel_archive/Data/chronic/CNPIX8-Allan/3-1-2021/3-1-2021_B_g0/3-1-2021_B_g0_imec0/3-1-2021_B_g0_t0'),\n",
       " PosixPath('/Volumes/neuropixel_archive/Data/chronic/CNPIX8-Allan/3-1-2021/3-1-2021_B_g0/3-1-2021_B_g0_imec0/3-1-2021_B_g0_t0'),\n",
       " PosixPath('/Volumes/neuropixel_archive/Data/chronic/CNPIX8-Allan/3-1-2021/3-1-2021_B_g0/3-1-2021_B_g0_imec1/3-1-2021_B_g0_t0'),\n",
       " PosixPath('/Volumes/neuropixel_archive/Data/chronic/CNPIX8-Allan/3-1-2021/3-1-2021_B_g0/3-1-2021_B_g0_imec1/3-1-2021_B_g0_t0'),\n",
       " PosixPath('/Volumes/neuropixel_archive/Data/chronic/CNPIX8-Allan/3-1-2021/3-1-2021_B_g0/3-1-2021_B_g0_imec1/3-1-2021_B_g0_t0'),\n",
       " PosixPath('/Volumes/neuropixel_archive/Data/chronic/CNPIX8-Allan/3-1-2021/3-1-2021_B_g0/3-1-2021_B_g0_imec1/3-1-2021_B_g0_t0'),\n",
       " PosixPath('/Volumes/neuropixel_archive/Data/chronic/CNPIX8-Allan/3-1-2021/3-1-2021_C_g0/3-1-2021_C_g0_imec0/3-1-2021_C_g0_t0'),\n",
       " PosixPath('/Volumes/neuropixel_archive/Data/chronic/CNPIX8-Allan/3-1-2021/3-1-2021_C_g0/3-1-2021_C_g0_imec0/3-1-2021_C_g0_t0'),\n",
       " PosixPath('/Volumes/neuropixel_archive/Data/chronic/CNPIX8-Allan/3-1-2021/3-1-2021_C_g0/3-1-2021_C_g0_imec0/3-1-2021_C_g0_t0'),\n",
       " PosixPath('/Volumes/neuropixel_archive/Data/chronic/CNPIX8-Allan/3-1-2021/3-1-2021_C_g0/3-1-2021_C_g0_imec0/3-1-2021_C_g0_t0'),\n",
       " PosixPath('/Volumes/neuropixel_archive/Data/chronic/CNPIX8-Allan/3-1-2021/3-1-2021_C_g0/3-1-2021_C_g0_imec0/3-1-2021_C_g0_t1'),\n",
       " PosixPath('/Volumes/neuropixel_archive/Data/chronic/CNPIX8-Allan/3-1-2021/3-1-2021_C_g0/3-1-2021_C_g0_imec0/3-1-2021_C_g0_t1'),\n",
       " PosixPath('/Volumes/neuropixel_archive/Data/chronic/CNPIX8-Allan/3-1-2021/3-1-2021_C_g0/3-1-2021_C_g0_imec0/3-1-2021_C_g0_t1'),\n",
       " PosixPath('/Volumes/neuropixel_archive/Data/chronic/CNPIX8-Allan/3-1-2021/3-1-2021_C_g0/3-1-2021_C_g0_imec0/3-1-2021_C_g0_t1'),\n",
       " PosixPath('/Volumes/neuropixel_archive/Data/chronic/CNPIX8-Allan/3-1-2021/3-1-2021_C_g0/3-1-2021_C_g0_imec0/3-1-2021_C_g0_t2'),\n",
       " PosixPath('/Volumes/neuropixel_archive/Data/chronic/CNPIX8-Allan/3-1-2021/3-1-2021_C_g0/3-1-2021_C_g0_imec0/3-1-2021_C_g0_t2'),\n",
       " PosixPath('/Volumes/neuropixel_archive/Data/chronic/CNPIX8-Allan/3-1-2021/3-1-2021_C_g0/3-1-2021_C_g0_imec0/3-1-2021_C_g0_t2'),\n",
       " PosixPath('/Volumes/neuropixel_archive/Data/chronic/CNPIX8-Allan/3-1-2021/3-1-2021_C_g0/3-1-2021_C_g0_imec0/3-1-2021_C_g0_t2'),\n",
       " PosixPath('/Volumes/neuropixel_archive/Data/chronic/CNPIX8-Allan/3-1-2021/3-1-2021_C_g0/3-1-2021_C_g0_imec0/3-1-2021_C_g0_t3'),\n",
       " PosixPath('/Volumes/neuropixel_archive/Data/chronic/CNPIX8-Allan/3-1-2021/3-1-2021_C_g0/3-1-2021_C_g0_imec0/3-1-2021_C_g0_t3'),\n",
       " PosixPath('/Volumes/neuropixel_archive/Data/chronic/CNPIX8-Allan/3-1-2021/3-1-2021_C_g0/3-1-2021_C_g0_imec0/3-1-2021_C_g0_t3'),\n",
       " PosixPath('/Volumes/neuropixel_archive/Data/chronic/CNPIX8-Allan/3-1-2021/3-1-2021_C_g0/3-1-2021_C_g0_imec0/3-1-2021_C_g0_t3'),\n",
       " PosixPath('/Volumes/neuropixel_archive/Data/chronic/CNPIX8-Allan/3-1-2021/3-1-2021_C_g0/3-1-2021_C_g0_imec0/3-1-2021_C_g0_t4'),\n",
       " PosixPath('/Volumes/neuropixel_archive/Data/chronic/CNPIX8-Allan/3-1-2021/3-1-2021_C_g0/3-1-2021_C_g0_imec0/3-1-2021_C_g0_t4'),\n",
       " PosixPath('/Volumes/neuropixel_archive/Data/chronic/CNPIX8-Allan/3-1-2021/3-1-2021_C_g0/3-1-2021_C_g0_imec0/3-1-2021_C_g0_t4'),\n",
       " PosixPath('/Volumes/neuropixel_archive/Data/chronic/CNPIX8-Allan/3-1-2021/3-1-2021_C_g0/3-1-2021_C_g0_imec0/3-1-2021_C_g0_t4'),\n",
       " PosixPath('/Volumes/neuropixel_archive/Data/chronic/CNPIX8-Allan/3-1-2021/3-1-2021_C_g0/3-1-2021_C_g0_imec0/3-1-2021_C_g0_t5'),\n",
       " PosixPath('/Volumes/neuropixel_archive/Data/chronic/CNPIX8-Allan/3-1-2021/3-1-2021_C_g0/3-1-2021_C_g0_imec0/3-1-2021_C_g0_t5'),\n",
       " PosixPath('/Volumes/neuropixel_archive/Data/chronic/CNPIX8-Allan/3-1-2021/3-1-2021_C_g0/3-1-2021_C_g0_imec0/3-1-2021_C_g0_t5'),\n",
       " PosixPath('/Volumes/neuropixel_archive/Data/chronic/CNPIX8-Allan/3-1-2021/3-1-2021_C_g0/3-1-2021_C_g0_imec0/3-1-2021_C_g0_t5'),\n",
       " PosixPath('/Volumes/neuropixel_archive/Data/chronic/CNPIX8-Allan/3-1-2021/3-1-2021_C_g0/3-1-2021_C_g0_imec0/3-1-2021_C_g0_t6'),\n",
       " PosixPath('/Volumes/neuropixel_archive/Data/chronic/CNPIX8-Allan/3-1-2021/3-1-2021_C_g0/3-1-2021_C_g0_imec0/3-1-2021_C_g0_t6'),\n",
       " PosixPath('/Volumes/neuropixel_archive/Data/chronic/CNPIX8-Allan/3-1-2021/3-1-2021_C_g0/3-1-2021_C_g0_imec0/3-1-2021_C_g0_t6'),\n",
       " PosixPath('/Volumes/neuropixel_archive/Data/chronic/CNPIX8-Allan/3-1-2021/3-1-2021_C_g0/3-1-2021_C_g0_imec0/3-1-2021_C_g0_t6'),\n",
       " PosixPath('/Volumes/neuropixel_archive/Data/chronic/CNPIX8-Allan/3-1-2021/3-1-2021_C_g0/3-1-2021_C_g0_imec0/3-1-2021_C_g0_t7'),\n",
       " PosixPath('/Volumes/neuropixel_archive/Data/chronic/CNPIX8-Allan/3-1-2021/3-1-2021_C_g0/3-1-2021_C_g0_imec0/3-1-2021_C_g0_t7'),\n",
       " PosixPath('/Volumes/neuropixel_archive/Data/chronic/CNPIX8-Allan/3-1-2021/3-1-2021_C_g0/3-1-2021_C_g0_imec0/3-1-2021_C_g0_t7'),\n",
       " PosixPath('/Volumes/neuropixel_archive/Data/chronic/CNPIX8-Allan/3-1-2021/3-1-2021_C_g0/3-1-2021_C_g0_imec0/3-1-2021_C_g0_t7'),\n",
       " PosixPath('/Volumes/neuropixel_archive/Data/chronic/CNPIX8-Allan/3-1-2021/3-1-2021_C_g0/3-1-2021_C_g0_imec0/3-1-2021_C_g0_t8'),\n",
       " PosixPath('/Volumes/neuropixel_archive/Data/chronic/CNPIX8-Allan/3-1-2021/3-1-2021_C_g0/3-1-2021_C_g0_imec0/3-1-2021_C_g0_t8'),\n",
       " PosixPath('/Volumes/neuropixel_archive/Data/chronic/CNPIX8-Allan/3-1-2021/3-1-2021_C_g0/3-1-2021_C_g0_imec0/3-1-2021_C_g0_t8'),\n",
       " PosixPath('/Volumes/neuropixel_archive/Data/chronic/CNPIX8-Allan/3-1-2021/3-1-2021_C_g0/3-1-2021_C_g0_imec0/3-1-2021_C_g0_t8'),\n",
       " PosixPath('/Volumes/neuropixel_archive/Data/chronic/CNPIX8-Allan/3-1-2021/3-1-2021_C_g0/3-1-2021_C_g0_imec1/3-1-2021_C_g0_t0'),\n",
       " PosixPath('/Volumes/neuropixel_archive/Data/chronic/CNPIX8-Allan/3-1-2021/3-1-2021_C_g0/3-1-2021_C_g0_imec1/3-1-2021_C_g0_t0'),\n",
       " PosixPath('/Volumes/neuropixel_archive/Data/chronic/CNPIX8-Allan/3-1-2021/3-1-2021_C_g0/3-1-2021_C_g0_imec1/3-1-2021_C_g0_t0'),\n",
       " PosixPath('/Volumes/neuropixel_archive/Data/chronic/CNPIX8-Allan/3-1-2021/3-1-2021_C_g0/3-1-2021_C_g0_imec1/3-1-2021_C_g0_t0'),\n",
       " PosixPath('/Volumes/neuropixel_archive/Data/chronic/CNPIX8-Allan/3-1-2021/3-1-2021_C_g0/3-1-2021_C_g0_imec1/3-1-2021_C_g0_t1'),\n",
       " PosixPath('/Volumes/neuropixel_archive/Data/chronic/CNPIX8-Allan/3-1-2021/3-1-2021_C_g0/3-1-2021_C_g0_imec1/3-1-2021_C_g0_t1'),\n",
       " PosixPath('/Volumes/neuropixel_archive/Data/chronic/CNPIX8-Allan/3-1-2021/3-1-2021_C_g0/3-1-2021_C_g0_imec1/3-1-2021_C_g0_t1'),\n",
       " PosixPath('/Volumes/neuropixel_archive/Data/chronic/CNPIX8-Allan/3-1-2021/3-1-2021_C_g0/3-1-2021_C_g0_imec1/3-1-2021_C_g0_t1'),\n",
       " PosixPath('/Volumes/neuropixel_archive/Data/chronic/CNPIX8-Allan/3-1-2021/3-1-2021_C_g0/3-1-2021_C_g0_imec1/3-1-2021_C_g0_t2'),\n",
       " PosixPath('/Volumes/neuropixel_archive/Data/chronic/CNPIX8-Allan/3-1-2021/3-1-2021_C_g0/3-1-2021_C_g0_imec1/3-1-2021_C_g0_t2'),\n",
       " PosixPath('/Volumes/neuropixel_archive/Data/chronic/CNPIX8-Allan/3-1-2021/3-1-2021_C_g0/3-1-2021_C_g0_imec1/3-1-2021_C_g0_t2'),\n",
       " PosixPath('/Volumes/neuropixel_archive/Data/chronic/CNPIX8-Allan/3-1-2021/3-1-2021_C_g0/3-1-2021_C_g0_imec1/3-1-2021_C_g0_t2'),\n",
       " PosixPath('/Volumes/neuropixel_archive/Data/chronic/CNPIX8-Allan/3-1-2021/3-1-2021_C_g0/3-1-2021_C_g0_imec1/3-1-2021_C_g0_t3'),\n",
       " PosixPath('/Volumes/neuropixel_archive/Data/chronic/CNPIX8-Allan/3-1-2021/3-1-2021_C_g0/3-1-2021_C_g0_imec1/3-1-2021_C_g0_t3'),\n",
       " PosixPath('/Volumes/neuropixel_archive/Data/chronic/CNPIX8-Allan/3-1-2021/3-1-2021_C_g0/3-1-2021_C_g0_imec1/3-1-2021_C_g0_t3'),\n",
       " PosixPath('/Volumes/neuropixel_archive/Data/chronic/CNPIX8-Allan/3-1-2021/3-1-2021_C_g0/3-1-2021_C_g0_imec1/3-1-2021_C_g0_t3'),\n",
       " PosixPath('/Volumes/neuropixel_archive/Data/chronic/CNPIX8-Allan/3-1-2021/3-1-2021_C_g0/3-1-2021_C_g0_imec1/3-1-2021_C_g0_t4'),\n",
       " PosixPath('/Volumes/neuropixel_archive/Data/chronic/CNPIX8-Allan/3-1-2021/3-1-2021_C_g0/3-1-2021_C_g0_imec1/3-1-2021_C_g0_t4'),\n",
       " PosixPath('/Volumes/neuropixel_archive/Data/chronic/CNPIX8-Allan/3-1-2021/3-1-2021_C_g0/3-1-2021_C_g0_imec1/3-1-2021_C_g0_t4'),\n",
       " PosixPath('/Volumes/neuropixel_archive/Data/chronic/CNPIX8-Allan/3-1-2021/3-1-2021_C_g0/3-1-2021_C_g0_imec1/3-1-2021_C_g0_t4'),\n",
       " PosixPath('/Volumes/neuropixel_archive/Data/chronic/CNPIX8-Allan/3-1-2021/3-1-2021_C_g0/3-1-2021_C_g0_imec1/3-1-2021_C_g0_t5'),\n",
       " PosixPath('/Volumes/neuropixel_archive/Data/chronic/CNPIX8-Allan/3-1-2021/3-1-2021_C_g0/3-1-2021_C_g0_imec1/3-1-2021_C_g0_t5'),\n",
       " PosixPath('/Volumes/neuropixel_archive/Data/chronic/CNPIX8-Allan/3-1-2021/3-1-2021_C_g0/3-1-2021_C_g0_imec1/3-1-2021_C_g0_t5'),\n",
       " PosixPath('/Volumes/neuropixel_archive/Data/chronic/CNPIX8-Allan/3-1-2021/3-1-2021_C_g0/3-1-2021_C_g0_imec1/3-1-2021_C_g0_t5'),\n",
       " PosixPath('/Volumes/neuropixel_archive/Data/chronic/CNPIX8-Allan/3-1-2021/3-1-2021_C_g0/3-1-2021_C_g0_imec1/3-1-2021_C_g0_t6'),\n",
       " PosixPath('/Volumes/neuropixel_archive/Data/chronic/CNPIX8-Allan/3-1-2021/3-1-2021_C_g0/3-1-2021_C_g0_imec1/3-1-2021_C_g0_t6'),\n",
       " PosixPath('/Volumes/neuropixel_archive/Data/chronic/CNPIX8-Allan/3-1-2021/3-1-2021_C_g0/3-1-2021_C_g0_imec1/3-1-2021_C_g0_t6'),\n",
       " PosixPath('/Volumes/neuropixel_archive/Data/chronic/CNPIX8-Allan/3-1-2021/3-1-2021_C_g0/3-1-2021_C_g0_imec1/3-1-2021_C_g0_t6'),\n",
       " PosixPath('/Volumes/neuropixel_archive/Data/chronic/CNPIX8-Allan/3-1-2021/3-1-2021_C_g0/3-1-2021_C_g0_imec1/3-1-2021_C_g0_t7'),\n",
       " PosixPath('/Volumes/neuropixel_archive/Data/chronic/CNPIX8-Allan/3-1-2021/3-1-2021_C_g0/3-1-2021_C_g0_imec1/3-1-2021_C_g0_t7'),\n",
       " PosixPath('/Volumes/neuropixel_archive/Data/chronic/CNPIX8-Allan/3-1-2021/3-1-2021_C_g0/3-1-2021_C_g0_imec1/3-1-2021_C_g0_t7'),\n",
       " PosixPath('/Volumes/neuropixel_archive/Data/chronic/CNPIX8-Allan/3-1-2021/3-1-2021_C_g0/3-1-2021_C_g0_imec1/3-1-2021_C_g0_t7'),\n",
       " PosixPath('/Volumes/neuropixel_archive/Data/chronic/CNPIX8-Allan/3-1-2021/3-1-2021_C_g0/3-1-2021_C_g0_imec1/3-1-2021_C_g0_t8'),\n",
       " PosixPath('/Volumes/neuropixel_archive/Data/chronic/CNPIX8-Allan/3-1-2021/3-1-2021_C_g0/3-1-2021_C_g0_imec1/3-1-2021_C_g0_t8'),\n",
       " PosixPath('/Volumes/neuropixel_archive/Data/chronic/CNPIX8-Allan/3-1-2021/3-1-2021_C_g0/3-1-2021_C_g0_imec1/3-1-2021_C_g0_t8'),\n",
       " PosixPath('/Volumes/neuropixel_archive/Data/chronic/CNPIX8-Allan/3-1-2021/3-1-2021_C_g0/3-1-2021_C_g0_imec1/3-1-2021_C_g0_t8'),\n",
       " PosixPath('/Volumes/neuropixel_archive/Data/chronic/CNPIX8-Allan/3-1-2021/3-1-2021_D_g0/3-1-2021_D_g0_imec0/3-1-2021_D_g0_t0'),\n",
       " PosixPath('/Volumes/neuropixel_archive/Data/chronic/CNPIX8-Allan/3-1-2021/3-1-2021_D_g0/3-1-2021_D_g0_imec0/3-1-2021_D_g0_t0'),\n",
       " PosixPath('/Volumes/neuropixel_archive/Data/chronic/CNPIX8-Allan/3-1-2021/3-1-2021_D_g0/3-1-2021_D_g0_imec0/3-1-2021_D_g0_t0'),\n",
       " PosixPath('/Volumes/neuropixel_archive/Data/chronic/CNPIX8-Allan/3-1-2021/3-1-2021_D_g0/3-1-2021_D_g0_imec0/3-1-2021_D_g0_t0'),\n",
       " PosixPath('/Volumes/neuropixel_archive/Data/chronic/CNPIX8-Allan/3-1-2021/3-1-2021_D_g0/3-1-2021_D_g0_imec0/3-1-2021_D_g0_t1'),\n",
       " PosixPath('/Volumes/neuropixel_archive/Data/chronic/CNPIX8-Allan/3-1-2021/3-1-2021_D_g0/3-1-2021_D_g0_imec0/3-1-2021_D_g0_t1'),\n",
       " PosixPath('/Volumes/neuropixel_archive/Data/chronic/CNPIX8-Allan/3-1-2021/3-1-2021_D_g0/3-1-2021_D_g0_imec0/3-1-2021_D_g0_t1'),\n",
       " PosixPath('/Volumes/neuropixel_archive/Data/chronic/CNPIX8-Allan/3-1-2021/3-1-2021_D_g0/3-1-2021_D_g0_imec0/3-1-2021_D_g0_t1'),\n",
       " PosixPath('/Volumes/neuropixel_archive/Data/chronic/CNPIX8-Allan/3-1-2021/3-1-2021_D_g0/3-1-2021_D_g0_imec0/3-1-2021_D_g0_t2'),\n",
       " PosixPath('/Volumes/neuropixel_archive/Data/chronic/CNPIX8-Allan/3-1-2021/3-1-2021_D_g0/3-1-2021_D_g0_imec0/3-1-2021_D_g0_t2'),\n",
       " PosixPath('/Volumes/neuropixel_archive/Data/chronic/CNPIX8-Allan/3-1-2021/3-1-2021_D_g0/3-1-2021_D_g0_imec0/3-1-2021_D_g0_t2'),\n",
       " PosixPath('/Volumes/neuropixel_archive/Data/chronic/CNPIX8-Allan/3-1-2021/3-1-2021_D_g0/3-1-2021_D_g0_imec0/3-1-2021_D_g0_t2'),\n",
       " PosixPath('/Volumes/neuropixel_archive/Data/chronic/CNPIX8-Allan/3-1-2021/3-1-2021_D_g0/3-1-2021_D_g0_imec1/3-1-2021_D_g0_t0'),\n",
       " PosixPath('/Volumes/neuropixel_archive/Data/chronic/CNPIX8-Allan/3-1-2021/3-1-2021_D_g0/3-1-2021_D_g0_imec1/3-1-2021_D_g0_t0'),\n",
       " PosixPath('/Volumes/neuropixel_archive/Data/chronic/CNPIX8-Allan/3-1-2021/3-1-2021_D_g0/3-1-2021_D_g0_imec1/3-1-2021_D_g0_t0'),\n",
       " PosixPath('/Volumes/neuropixel_archive/Data/chronic/CNPIX8-Allan/3-1-2021/3-1-2021_D_g0/3-1-2021_D_g0_imec1/3-1-2021_D_g0_t0'),\n",
       " PosixPath('/Volumes/neuropixel_archive/Data/chronic/CNPIX8-Allan/3-1-2021/3-1-2021_D_g0/3-1-2021_D_g0_imec1/3-1-2021_D_g0_t1'),\n",
       " PosixPath('/Volumes/neuropixel_archive/Data/chronic/CNPIX8-Allan/3-1-2021/3-1-2021_D_g0/3-1-2021_D_g0_imec1/3-1-2021_D_g0_t1'),\n",
       " PosixPath('/Volumes/neuropixel_archive/Data/chronic/CNPIX8-Allan/3-1-2021/3-1-2021_D_g0/3-1-2021_D_g0_imec1/3-1-2021_D_g0_t1'),\n",
       " PosixPath('/Volumes/neuropixel_archive/Data/chronic/CNPIX8-Allan/3-1-2021/3-1-2021_D_g0/3-1-2021_D_g0_imec1/3-1-2021_D_g0_t1'),\n",
       " PosixPath('/Volumes/neuropixel_archive/Data/chronic/CNPIX8-Allan/3-1-2021/3-1-2021_D_g0/3-1-2021_D_g0_imec1/3-1-2021_D_g0_t2'),\n",
       " PosixPath('/Volumes/neuropixel_archive/Data/chronic/CNPIX8-Allan/3-1-2021/3-1-2021_D_g0/3-1-2021_D_g0_imec1/3-1-2021_D_g0_t2'),\n",
       " PosixPath('/Volumes/neuropixel_archive/Data/chronic/CNPIX8-Allan/3-1-2021/3-1-2021_D_g0/3-1-2021_D_g0_imec1/3-1-2021_D_g0_t2'),\n",
       " PosixPath('/Volumes/neuropixel_archive/Data/chronic/CNPIX8-Allan/3-1-2021/3-1-2021_D_g0/3-1-2021_D_g0_imec1/3-1-2021_D_g0_t2'),\n",
       " PosixPath('/Volumes/neuropixel_archive/Data/chronic/CNPIX8-Allan/3-1-2021/3-1-2021_E_g0/3-1-2021_E_g0_imec0/3-1-2021_E_g0_t0'),\n",
       " PosixPath('/Volumes/neuropixel_archive/Data/chronic/CNPIX8-Allan/3-1-2021/3-1-2021_E_g0/3-1-2021_E_g0_imec0/3-1-2021_E_g0_t0'),\n",
       " PosixPath('/Volumes/neuropixel_archive/Data/chronic/CNPIX8-Allan/3-1-2021/3-1-2021_E_g0/3-1-2021_E_g0_imec0/3-1-2021_E_g0_t0'),\n",
       " PosixPath('/Volumes/neuropixel_archive/Data/chronic/CNPIX8-Allan/3-1-2021/3-1-2021_E_g0/3-1-2021_E_g0_imec0/3-1-2021_E_g0_t0'),\n",
       " PosixPath('/Volumes/neuropixel_archive/Data/chronic/CNPIX8-Allan/3-1-2021/3-1-2021_E_g0/3-1-2021_E_g0_imec0/3-1-2021_E_g0_t1'),\n",
       " PosixPath('/Volumes/neuropixel_archive/Data/chronic/CNPIX8-Allan/3-1-2021/3-1-2021_E_g0/3-1-2021_E_g0_imec0/3-1-2021_E_g0_t1'),\n",
       " PosixPath('/Volumes/neuropixel_archive/Data/chronic/CNPIX8-Allan/3-1-2021/3-1-2021_E_g0/3-1-2021_E_g0_imec0/3-1-2021_E_g0_t1'),\n",
       " PosixPath('/Volumes/neuropixel_archive/Data/chronic/CNPIX8-Allan/3-1-2021/3-1-2021_E_g0/3-1-2021_E_g0_imec0/3-1-2021_E_g0_t1'),\n",
       " PosixPath('/Volumes/neuropixel_archive/Data/chronic/CNPIX8-Allan/3-1-2021/3-1-2021_E_g0/3-1-2021_E_g0_imec1/3-1-2021_E_g0_t0'),\n",
       " PosixPath('/Volumes/neuropixel_archive/Data/chronic/CNPIX8-Allan/3-1-2021/3-1-2021_E_g0/3-1-2021_E_g0_imec1/3-1-2021_E_g0_t0'),\n",
       " PosixPath('/Volumes/neuropixel_archive/Data/chronic/CNPIX8-Allan/3-1-2021/3-1-2021_E_g0/3-1-2021_E_g0_imec1/3-1-2021_E_g0_t0'),\n",
       " PosixPath('/Volumes/neuropixel_archive/Data/chronic/CNPIX8-Allan/3-1-2021/3-1-2021_E_g0/3-1-2021_E_g0_imec1/3-1-2021_E_g0_t0'),\n",
       " PosixPath('/Volumes/neuropixel_archive/Data/chronic/CNPIX8-Allan/3-1-2021/3-1-2021_E_g0/3-1-2021_E_g0_imec1/3-1-2021_E_g0_t1'),\n",
       " PosixPath('/Volumes/neuropixel_archive/Data/chronic/CNPIX8-Allan/3-1-2021/3-1-2021_E_g0/3-1-2021_E_g0_imec1/3-1-2021_E_g0_t1'),\n",
       " PosixPath('/Volumes/neuropixel_archive/Data/chronic/CNPIX8-Allan/3-1-2021/3-1-2021_E_g0/3-1-2021_E_g0_imec1/3-1-2021_E_g0_t1'),\n",
       " PosixPath('/Volumes/neuropixel_archive/Data/chronic/CNPIX8-Allan/3-1-2021/3-1-2021_E_g0/3-1-2021_E_g0_imec1/3-1-2021_E_g0_t1'),\n",
       " PosixPath('/Volumes/neuropixel_archive/Data/chronic/CNPIX8-Allan/3-1-2021/3-1-2021_G_g0/3-1-2021_G_g0_imec0/3-1-2021_G_g0_t0'),\n",
       " PosixPath('/Volumes/neuropixel_archive/Data/chronic/CNPIX8-Allan/3-1-2021/3-1-2021_G_g0/3-1-2021_G_g0_imec0/3-1-2021_G_g0_t0'),\n",
       " PosixPath('/Volumes/neuropixel_archive/Data/chronic/CNPIX8-Allan/3-1-2021/3-1-2021_G_g0/3-1-2021_G_g0_imec0/3-1-2021_G_g0_t0'),\n",
       " PosixPath('/Volumes/neuropixel_archive/Data/chronic/CNPIX8-Allan/3-1-2021/3-1-2021_G_g0/3-1-2021_G_g0_imec0/3-1-2021_G_g0_t0'),\n",
       " PosixPath('/Volumes/neuropixel_archive/Data/chronic/CNPIX8-Allan/3-1-2021/3-1-2021_G_g0/3-1-2021_G_g0_imec0/3-1-2021_G_g0_t1'),\n",
       " PosixPath('/Volumes/neuropixel_archive/Data/chronic/CNPIX8-Allan/3-1-2021/3-1-2021_G_g0/3-1-2021_G_g0_imec0/3-1-2021_G_g0_t1'),\n",
       " PosixPath('/Volumes/neuropixel_archive/Data/chronic/CNPIX8-Allan/3-1-2021/3-1-2021_G_g0/3-1-2021_G_g0_imec0/3-1-2021_G_g0_t1'),\n",
       " PosixPath('/Volumes/neuropixel_archive/Data/chronic/CNPIX8-Allan/3-1-2021/3-1-2021_G_g0/3-1-2021_G_g0_imec0/3-1-2021_G_g0_t1'),\n",
       " PosixPath('/Volumes/neuropixel_archive/Data/chronic/CNPIX8-Allan/3-1-2021/3-1-2021_G_g0/3-1-2021_G_g0_imec1/3-1-2021_G_g0_t0'),\n",
       " PosixPath('/Volumes/neuropixel_archive/Data/chronic/CNPIX8-Allan/3-1-2021/3-1-2021_G_g0/3-1-2021_G_g0_imec1/3-1-2021_G_g0_t0'),\n",
       " PosixPath('/Volumes/neuropixel_archive/Data/chronic/CNPIX8-Allan/3-1-2021/3-1-2021_G_g0/3-1-2021_G_g0_imec1/3-1-2021_G_g0_t0'),\n",
       " PosixPath('/Volumes/neuropixel_archive/Data/chronic/CNPIX8-Allan/3-1-2021/3-1-2021_G_g0/3-1-2021_G_g0_imec1/3-1-2021_G_g0_t0'),\n",
       " PosixPath('/Volumes/neuropixel_archive/Data/chronic/CNPIX8-Allan/3-1-2021/3-1-2021_G_g0/3-1-2021_G_g0_imec1/3-1-2021_G_g0_t1'),\n",
       " PosixPath('/Volumes/neuropixel_archive/Data/chronic/CNPIX8-Allan/3-1-2021/3-1-2021_G_g0/3-1-2021_G_g0_imec1/3-1-2021_G_g0_t1'),\n",
       " PosixPath('/Volumes/neuropixel_archive/Data/chronic/CNPIX8-Allan/3-1-2021/3-1-2021_G_g0/3-1-2021_G_g0_imec1/3-1-2021_G_g0_t1'),\n",
       " PosixPath('/Volumes/neuropixel_archive/Data/chronic/CNPIX8-Allan/3-1-2021/3-1-2021_G_g0/3-1-2021_G_g0_imec1/3-1-2021_G_g0_t1'),\n",
       " PosixPath('/Volumes/neuropixel_archive/Data/chronic/CNPIX8-Allan/3-1-2021/3-1-2021_H_g0/3-1-2021_H_g0_imec0/3-1-2021_H_g0_t0'),\n",
       " PosixPath('/Volumes/neuropixel_archive/Data/chronic/CNPIX8-Allan/3-1-2021/3-1-2021_H_g0/3-1-2021_H_g0_imec0/3-1-2021_H_g0_t0'),\n",
       " PosixPath('/Volumes/neuropixel_archive/Data/chronic/CNPIX8-Allan/3-1-2021/3-1-2021_H_g0/3-1-2021_H_g0_imec0/3-1-2021_H_g0_t0'),\n",
       " PosixPath('/Volumes/neuropixel_archive/Data/chronic/CNPIX8-Allan/3-1-2021/3-1-2021_H_g0/3-1-2021_H_g0_imec0/3-1-2021_H_g0_t0'),\n",
       " PosixPath('/Volumes/neuropixel_archive/Data/chronic/CNPIX8-Allan/3-1-2021/3-1-2021_H_g0/3-1-2021_H_g0_imec0/3-1-2021_H_g0_t1'),\n",
       " PosixPath('/Volumes/neuropixel_archive/Data/chronic/CNPIX8-Allan/3-1-2021/3-1-2021_H_g0/3-1-2021_H_g0_imec0/3-1-2021_H_g0_t1'),\n",
       " PosixPath('/Volumes/neuropixel_archive/Data/chronic/CNPIX8-Allan/3-1-2021/3-1-2021_H_g0/3-1-2021_H_g0_imec0/3-1-2021_H_g0_t1'),\n",
       " PosixPath('/Volumes/neuropixel_archive/Data/chronic/CNPIX8-Allan/3-1-2021/3-1-2021_H_g0/3-1-2021_H_g0_imec0/3-1-2021_H_g0_t1'),\n",
       " PosixPath('/Volumes/neuropixel_archive/Data/chronic/CNPIX8-Allan/3-1-2021/3-1-2021_H_g0/3-1-2021_H_g0_imec0/3-1-2021_H_g0_t2'),\n",
       " PosixPath('/Volumes/neuropixel_archive/Data/chronic/CNPIX8-Allan/3-1-2021/3-1-2021_H_g0/3-1-2021_H_g0_imec0/3-1-2021_H_g0_t2'),\n",
       " PosixPath('/Volumes/neuropixel_archive/Data/chronic/CNPIX8-Allan/3-1-2021/3-1-2021_H_g0/3-1-2021_H_g0_imec0/3-1-2021_H_g0_t2'),\n",
       " PosixPath('/Volumes/neuropixel_archive/Data/chronic/CNPIX8-Allan/3-1-2021/3-1-2021_H_g0/3-1-2021_H_g0_imec0/3-1-2021_H_g0_t2'),\n",
       " PosixPath('/Volumes/neuropixel_archive/Data/chronic/CNPIX8-Allan/3-1-2021/3-1-2021_H_g0/3-1-2021_H_g0_imec1/3-1-2021_H_g0_t0'),\n",
       " PosixPath('/Volumes/neuropixel_archive/Data/chronic/CNPIX8-Allan/3-1-2021/3-1-2021_H_g0/3-1-2021_H_g0_imec1/3-1-2021_H_g0_t0'),\n",
       " PosixPath('/Volumes/neuropixel_archive/Data/chronic/CNPIX8-Allan/3-1-2021/3-1-2021_H_g0/3-1-2021_H_g0_imec1/3-1-2021_H_g0_t0'),\n",
       " PosixPath('/Volumes/neuropixel_archive/Data/chronic/CNPIX8-Allan/3-1-2021/3-1-2021_H_g0/3-1-2021_H_g0_imec1/3-1-2021_H_g0_t0'),\n",
       " PosixPath('/Volumes/neuropixel_archive/Data/chronic/CNPIX8-Allan/3-1-2021/3-1-2021_H_g0/3-1-2021_H_g0_imec1/3-1-2021_H_g0_t1'),\n",
       " PosixPath('/Volumes/neuropixel_archive/Data/chronic/CNPIX8-Allan/3-1-2021/3-1-2021_H_g0/3-1-2021_H_g0_imec1/3-1-2021_H_g0_t1'),\n",
       " PosixPath('/Volumes/neuropixel_archive/Data/chronic/CNPIX8-Allan/3-1-2021/3-1-2021_H_g0/3-1-2021_H_g0_imec1/3-1-2021_H_g0_t1'),\n",
       " PosixPath('/Volumes/neuropixel_archive/Data/chronic/CNPIX8-Allan/3-1-2021/3-1-2021_H_g0/3-1-2021_H_g0_imec1/3-1-2021_H_g0_t1'),\n",
       " PosixPath('/Volumes/neuropixel_archive/Data/chronic/CNPIX8-Allan/3-1-2021/3-1-2021_H_g0/3-1-2021_H_g0_imec1/3-1-2021_H_g0_t2'),\n",
       " PosixPath('/Volumes/neuropixel_archive/Data/chronic/CNPIX8-Allan/3-1-2021/3-1-2021_H_g0/3-1-2021_H_g0_imec1/3-1-2021_H_g0_t2'),\n",
       " PosixPath('/Volumes/neuropixel_archive/Data/chronic/CNPIX8-Allan/3-1-2021/3-1-2021_H_g0/3-1-2021_H_g0_imec1/3-1-2021_H_g0_t2'),\n",
       " PosixPath('/Volumes/neuropixel_archive/Data/chronic/CNPIX8-Allan/3-1-2021/3-1-2021_H_g0/3-1-2021_H_g0_imec1/3-1-2021_H_g0_t2'),\n",
       " PosixPath('/Volumes/neuropixel_archive/Data/chronic/CNPIX8-Allan/3-1-2021/3-1-2021_J_g0/3-1-2021_J_g0_imec0/3-1-2021_J_g0_t0'),\n",
       " PosixPath('/Volumes/neuropixel_archive/Data/chronic/CNPIX8-Allan/3-1-2021/3-1-2021_J_g0/3-1-2021_J_g0_imec0/3-1-2021_J_g0_t0'),\n",
       " PosixPath('/Volumes/neuropixel_archive/Data/chronic/CNPIX8-Allan/3-1-2021/3-1-2021_J_g0/3-1-2021_J_g0_imec0/3-1-2021_J_g0_t0'),\n",
       " PosixPath('/Volumes/neuropixel_archive/Data/chronic/CNPIX8-Allan/3-1-2021/3-1-2021_J_g0/3-1-2021_J_g0_imec0/3-1-2021_J_g0_t0'),\n",
       " PosixPath('/Volumes/neuropixel_archive/Data/chronic/CNPIX8-Allan/3-1-2021/3-1-2021_J_g0/3-1-2021_J_g0_imec1/3-1-2021_J_g0_t0'),\n",
       " PosixPath('/Volumes/neuropixel_archive/Data/chronic/CNPIX8-Allan/3-1-2021/3-1-2021_J_g0/3-1-2021_J_g0_imec1/3-1-2021_J_g0_t0'),\n",
       " PosixPath('/Volumes/neuropixel_archive/Data/chronic/CNPIX8-Allan/3-1-2021/3-1-2021_J_g0/3-1-2021_J_g0_imec1/3-1-2021_J_g0_t0'),\n",
       " PosixPath('/Volumes/neuropixel_archive/Data/chronic/CNPIX8-Allan/3-1-2021/3-1-2021_J_g0/3-1-2021_J_g0_imec1/3-1-2021_J_g0_t0'),\n",
       " PosixPath('/Volumes/neuropixel_archive/Data/chronic/CNPIX8-Allan/4-13-2021/4.13.2021_g0/4.13.2021_g0_imec0/4.13.2021_g0_t0'),\n",
       " PosixPath('/Volumes/neuropixel_archive/Data/chronic/CNPIX8-Allan/4-13-2021/4.13.2021_g0/4.13.2021_g0_imec0/4.13.2021_g0_t0'),\n",
       " PosixPath('/Volumes/neuropixel_archive/Data/chronic/CNPIX8-Allan/4-13-2021/4.13.2021_g0/4.13.2021_g0_imec0/4.13.2021_g0_t0'),\n",
       " PosixPath('/Volumes/neuropixel_archive/Data/chronic/CNPIX8-Allan/4-13-2021/4.13.2021_g0/4.13.2021_g0_imec0/4.13.2021_g0_t0'),\n",
       " PosixPath('/Volumes/neuropixel_archive/Data/chronic/CNPIX8-Allan/4-13-2021/4.13.2021_g0/4.13.2021_g0_imec0/4.13.2021_g0_t1'),\n",
       " PosixPath('/Volumes/neuropixel_archive/Data/chronic/CNPIX8-Allan/4-13-2021/4.13.2021_g0/4.13.2021_g0_imec0/4.13.2021_g0_t1'),\n",
       " PosixPath('/Volumes/neuropixel_archive/Data/chronic/CNPIX8-Allan/4-13-2021/4.13.2021_g0/4.13.2021_g0_imec0/4.13.2021_g0_t1'),\n",
       " PosixPath('/Volumes/neuropixel_archive/Data/chronic/CNPIX8-Allan/4-13-2021/4.13.2021_g0/4.13.2021_g0_imec0/4.13.2021_g0_t1'),\n",
       " PosixPath('/Volumes/neuropixel_archive/Data/chronic/CNPIX8-Allan/4-13-2021/4.13.2021_g1/4.13.2021_g1_imec0/4.13.2021_g1_t0'),\n",
       " PosixPath('/Volumes/neuropixel_archive/Data/chronic/CNPIX8-Allan/4-13-2021/4.13.2021_g1/4.13.2021_g1_imec0/4.13.2021_g1_t0'),\n",
       " PosixPath('/Volumes/neuropixel_archive/Data/chronic/CNPIX8-Allan/4-13-2021/4.13.2021_g1/4.13.2021_g1_imec0/4.13.2021_g1_t0'),\n",
       " PosixPath('/Volumes/neuropixel_archive/Data/chronic/CNPIX8-Allan/4-13-2021/4.13.2021_g1/4.13.2021_g1_imec0/4.13.2021_g1_t0'),\n",
       " PosixPath('/Volumes/neuropixel_archive/Data/chronic/CNPIX8-Allan/4-13-2021/4.13.2021_g1/4.13.2021_g1_imec0/4.13.2021_g1_t1'),\n",
       " PosixPath('/Volumes/neuropixel_archive/Data/chronic/CNPIX8-Allan/4-13-2021/4.13.2021_g1/4.13.2021_g1_imec0/4.13.2021_g1_t1'),\n",
       " PosixPath('/Volumes/neuropixel_archive/Data/chronic/CNPIX8-Allan/4-13-2021/4.13.2021_g1/4.13.2021_g1_imec0/4.13.2021_g1_t1'),\n",
       " PosixPath('/Volumes/neuropixel_archive/Data/chronic/CNPIX8-Allan/4-13-2021/4.13.2021_g1/4.13.2021_g1_imec0/4.13.2021_g1_t1'),\n",
       " PosixPath('/Volumes/neuropixel_archive/Data/chronic/CNPIX8-Allan/4-16-2021/4.16.2021_g0/4.16.2021_g0_imec0/4.16.2021_g0_t0'),\n",
       " PosixPath('/Volumes/neuropixel_archive/Data/chronic/CNPIX8-Allan/4-16-2021/4.16.2021_g0/4.16.2021_g0_imec0/4.16.2021_g0_t0'),\n",
       " PosixPath('/Volumes/neuropixel_archive/Data/chronic/CNPIX8-Allan/4-16-2021/4.16.2021_g0/4.16.2021_g0_imec0/4.16.2021_g0_t0'),\n",
       " PosixPath('/Volumes/neuropixel_archive/Data/chronic/CNPIX8-Allan/4-16-2021/4.16.2021_g0/4.16.2021_g0_imec0/4.16.2021_g0_t0'),\n",
       " PosixPath('/Volumes/neuropixel_archive/Data/chronic/CNPIX8-Allan/4-16-2021/4.16.2021_g1/4.16.2021_g1_imec0/4.16.2021_g1_t0'),\n",
       " PosixPath('/Volumes/neuropixel_archive/Data/chronic/CNPIX8-Allan/4-16-2021/4.16.2021_g1/4.16.2021_g1_imec0/4.16.2021_g1_t0'),\n",
       " PosixPath('/Volumes/neuropixel_archive/Data/chronic/CNPIX8-Allan/4-16-2021/4.16.2021_g1/4.16.2021_g1_imec0/4.16.2021_g1_t0'),\n",
       " PosixPath('/Volumes/neuropixel_archive/Data/chronic/CNPIX8-Allan/4-16-2021/4.16.2021_g1/4.16.2021_g1_imec0/4.16.2021_g1_t0'),\n",
       " PosixPath('/Volumes/neuropixel_archive/Data/chronic/CNPIX8-Allan/4-16-2021/4.16.2021_g1/4.16.2021_g1_imec0/4.16.2021_g1_t1'),\n",
       " PosixPath('/Volumes/neuropixel_archive/Data/chronic/CNPIX8-Allan/4-16-2021/4.16.2021_g1/4.16.2021_g1_imec0/4.16.2021_g1_t1'),\n",
       " PosixPath('/Volumes/neuropixel_archive/Data/chronic/CNPIX8-Allan/4-16-2021/4.16.2021_g1/4.16.2021_g1_imec0/4.16.2021_g1_t1'),\n",
       " PosixPath('/Volumes/neuropixel_archive/Data/chronic/CNPIX8-Allan/4-16-2021/4.16.2021_g1/4.16.2021_g1_imec0/4.16.2021_g1_t1'),\n",
       " PosixPath('/Volumes/neuropixel_archive/Data/chronic/CNPIX8-Allan/4-16-2021/4.16.2021_g1/4.16.2021_g1_imec0/4.16.2021_g1_t2'),\n",
       " PosixPath('/Volumes/neuropixel_archive/Data/chronic/CNPIX8-Allan/4-16-2021/4.16.2021_g1/4.16.2021_g1_imec0/4.16.2021_g1_t2'),\n",
       " PosixPath('/Volumes/neuropixel_archive/Data/chronic/CNPIX8-Allan/4-16-2021/4.16.2021_g1/4.16.2021_g1_imec0/4.16.2021_g1_t2'),\n",
       " PosixPath('/Volumes/neuropixel_archive/Data/chronic/CNPIX8-Allan/4-16-2021/4.16.2021_g1/4.16.2021_g1_imec0/4.16.2021_g1_t2'),\n",
       " PosixPath('/Volumes/neuropixel_archive/Data/chronic/CNPIX8-Allan/4-20-2021/4.20.2021_g0/4.20.2021_g0_imec0/4.20.2021_g0_t0'),\n",
       " PosixPath('/Volumes/neuropixel_archive/Data/chronic/CNPIX8-Allan/4-20-2021/4.20.2021_g0/4.20.2021_g0_imec0/4.20.2021_g0_t0'),\n",
       " PosixPath('/Volumes/neuropixel_archive/Data/chronic/CNPIX8-Allan/4-20-2021/4.20.2021_g0/4.20.2021_g0_imec0/4.20.2021_g0_t0'),\n",
       " PosixPath('/Volumes/neuropixel_archive/Data/chronic/CNPIX8-Allan/4-20-2021/4.20.2021_g0/4.20.2021_g0_imec0/4.20.2021_g0_t0'),\n",
       " PosixPath('/Volumes/neuropixel_archive/Data/chronic/CNPIX8-Allan/4-20-2021/4.20.2021_g1/4.20.2021_g1_imec0/4.20.2021_g1_t0'),\n",
       " PosixPath('/Volumes/neuropixel_archive/Data/chronic/CNPIX8-Allan/4-20-2021/4.20.2021_g1/4.20.2021_g1_imec0/4.20.2021_g1_t0'),\n",
       " PosixPath('/Volumes/neuropixel_archive/Data/chronic/CNPIX8-Allan/4-20-2021/4.20.2021_g1/4.20.2021_g1_imec0/4.20.2021_g1_t0'),\n",
       " PosixPath('/Volumes/neuropixel_archive/Data/chronic/CNPIX8-Allan/4-20-2021/4.20.2021_g1/4.20.2021_g1_imec0/4.20.2021_g1_t0'),\n",
       " PosixPath('/Volumes/neuropixel_archive/Data/chronic/CNPIX8-Allan/4-20-2021/4.20.2021_g1/4.20.2021_g1_imec0/4.20.2021_g1_t1'),\n",
       " PosixPath('/Volumes/neuropixel_archive/Data/chronic/CNPIX8-Allan/4-20-2021/4.20.2021_g1/4.20.2021_g1_imec0/4.20.2021_g1_t1'),\n",
       " PosixPath('/Volumes/neuropixel_archive/Data/chronic/CNPIX8-Allan/4-20-2021/4.20.2021_g1/4.20.2021_g1_imec0/4.20.2021_g1_t1'),\n",
       " PosixPath('/Volumes/neuropixel_archive/Data/chronic/CNPIX8-Allan/4-20-2021/4.20.2021_g1/4.20.2021_g1_imec0/4.20.2021_g1_t1'),\n",
       " PosixPath('/Volumes/neuropixel_archive/Data/chronic/CNPIX8-Allan/4-20-2021/4.20.2021_g1/4.20.2021_g1_imec0/4.20.2021_g1_t2'),\n",
       " PosixPath('/Volumes/neuropixel_archive/Data/chronic/CNPIX8-Allan/4-20-2021/4.20.2021_g1/4.20.2021_g1_imec0/4.20.2021_g1_t2'),\n",
       " PosixPath('/Volumes/neuropixel_archive/Data/chronic/CNPIX8-Allan/4-20-2021/4.20.2021_g1/4.20.2021_g1_imec0/4.20.2021_g1_t2'),\n",
       " PosixPath('/Volumes/neuropixel_archive/Data/chronic/CNPIX8-Allan/4-20-2021/4.20.2021_g1/4.20.2021_g1_imec0/4.20.2021_g1_t2')]"
      ]
     },
     "execution_count": 466,
     "metadata": {},
     "output_type": "execute_result"
    }
   ],
   "source": [
    "def remove_suffixes(files, regex=r\"\\.imec\\d+\\.(lf|ap)\\.(bin|meta)\"):\n",
    "    return [f.parent / re.sub(regex, '', f.name) for f in files]\n",
    "\n",
    "remove_suffixes(get_document_files(doc))"
   ]
  },
  {
   "cell_type": "code",
   "execution_count": 352,
   "metadata": {
    "execution": {
     "iopub.execute_input": "2021-08-23T16:37:59.016657Z",
     "iopub.status.busy": "2021-08-23T16:37:59.016192Z",
     "iopub.status.idle": "2021-08-23T16:37:59.233412Z",
     "shell.execute_reply": "2021-08-23T16:37:59.232740Z",
     "shell.execute_reply.started": "2021-08-23T16:37:59.016601Z"
    },
    "tags": []
   },
   "outputs": [],
   "source": [
    "# This function isn't really for files, it's just generic, and can probably be gotten rid of\n",
    "def remove_duplicates(files):\n",
    "    return list(dict.fromkeys(files))\n",
    "\n",
    "remove_duplicates(remove_suffixes(filter_files(get_document_files(doc), probe='imec0', stream='lf', ftype='bin')));"
   ]
  },
  {
   "cell_type": "code",
   "execution_count": 195,
   "metadata": {
    "execution": {
     "iopub.execute_input": "2021-08-23T14:49:46.224738Z",
     "iopub.status.busy": "2021-08-23T14:49:46.223888Z",
     "iopub.status.idle": "2021-08-23T14:49:46.385419Z",
     "shell.execute_reply": "2021-08-23T14:49:46.384453Z",
     "shell.execute_reply.started": "2021-08-23T14:49:46.224682Z"
    },
    "tags": []
   },
   "outputs": [],
   "source": [
    "def separate_files_by_probe(files):\n",
    "    parses = [parse_sglx_fname(f.name) for f in files]\n",
    "    probes = [probe for run, gate, trigger, probe, stream, ftype in parses]\n",
    "    unique_probes = sorted(dict.fromkeys(probes))\n",
    "    return {probe: [f for f, p in zip(files, probes) if p == probe] for probe in unique_probes}\n",
    "\n",
    "separate_files_by_probe(get_document_files(doc));"
   ]
  },
  {
   "cell_type": "markdown",
   "metadata": {},
   "source": [
    "# Manipulating files with dataframes"
   ]
  },
  {
   "cell_type": "code",
   "execution_count": 346,
   "metadata": {
    "execution": {
     "iopub.execute_input": "2021-08-23T16:35:35.371843Z",
     "iopub.status.busy": "2021-08-23T16:35:35.371248Z",
     "iopub.status.idle": "2021-08-23T16:35:35.391611Z",
     "shell.execute_reply": "2021-08-23T16:35:35.390855Z",
     "shell.execute_reply.started": "2021-08-23T16:35:35.371787Z"
    },
    "tags": []
   },
   "outputs": [],
   "source": [
    "def files_to_frame(files):\n",
    "    runs, gates, triggers, probes, streams, ftypes = zip(\n",
    "        *[parse_sglx_fname(f.name) for f in files]\n",
    "    )\n",
    "    return pd.DataFrame(\n",
    "        {\n",
    "            \"run\": runs,\n",
    "            \"gate\": gates,\n",
    "            \"trigger\": triggers,\n",
    "            \"probe\": probes,\n",
    "            \"stream\": streams,\n",
    "            \"ftype\": ftypes,\n",
    "            \"path\": files,\n",
    "        }\n",
    "    )"
   ]
  },
  {
   "cell_type": "code",
   "execution_count": 347,
   "metadata": {
    "execution": {
     "iopub.execute_input": "2021-08-23T16:35:35.559094Z",
     "iopub.status.busy": "2021-08-23T16:35:35.558734Z",
     "iopub.status.idle": "2021-08-23T16:35:35.698950Z",
     "shell.execute_reply": "2021-08-23T16:35:35.698349Z",
     "shell.execute_reply.started": "2021-08-23T16:35:35.559060Z"
    },
    "tags": []
   },
   "outputs": [],
   "source": [
    "files_to_frame(get_experiment_files(doc, 'sleep-homeostasis'));"
   ]
  },
  {
   "cell_type": "code",
   "execution_count": 389,
   "metadata": {
    "execution": {
     "iopub.execute_input": "2021-08-23T17:46:19.763570Z",
     "iopub.status.busy": "2021-08-23T17:46:19.763027Z",
     "iopub.status.idle": "2021-08-23T17:46:19.920781Z",
     "shell.execute_reply": "2021-08-23T17:46:19.920096Z",
     "shell.execute_reply.started": "2021-08-23T17:46:19.763514Z"
    },
    "tags": []
   },
   "outputs": [],
   "source": [
    "from pandas.api.types import CategoricalDtype\n",
    "\n",
    "\n",
    "def sort_strings_by_integer_suffix(strings):\n",
    "    return sorted(strings, key=lambda string: int(re.split(r\"(^[^\\d]+)\", string)[-1]))\n",
    "\n",
    "\n",
    "def make_categorical(df, run_order=\"infer\"):\n",
    "\n",
    "    if run_order == \"infer\":\n",
    "        run_dtype = CategoricalDtype(df[\"run\"].unique(), ordered=True)\n",
    "    elif run_order:\n",
    "        run_dtype = CategoricalDtype(run_order, ordered=True)\n",
    "    else:\n",
    "        run_dtype = CategoricalDtype(df[\"run\"].unique(), ordered=False)\n",
    "\n",
    "    df[\"run\"] = df[\"run\"].astype(run_dtype)\n",
    "    df[\"stream\"] = df[\"stream\"].astype(\n",
    "        CategoricalDtype(df[\"stream\"].unique(), ordered=False)\n",
    "    )\n",
    "    for x in [\"gate\", \"trigger\", \"probe\"]:\n",
    "        df[x] = df[x].astype(\n",
    "            CategoricalDtype(\n",
    "                sort_strings_by_integer_suffix(df[x].unique()), ordered=True\n",
    "            )\n",
    "        )\n",
    "\n",
    "    return df.set_index([\"run\", \"gate\", \"trigger\", \"probe\", \"stream\", \"ftype\"])\n",
    "\n",
    "\n",
    "make_categorical(files_to_frame(get_experiment_files(doc, \"sleep-homeostasis\")));"
   ]
  },
  {
   "cell_type": "code",
   "execution_count": 390,
   "metadata": {
    "execution": {
     "iopub.execute_input": "2021-08-23T17:46:20.710880Z",
     "iopub.status.busy": "2021-08-23T17:46:20.710373Z",
     "iopub.status.idle": "2021-08-23T17:46:20.730052Z",
     "shell.execute_reply": "2021-08-23T17:46:20.729306Z",
     "shell.execute_reply.started": "2021-08-23T17:46:20.710831Z"
    },
    "tags": []
   },
   "outputs": [],
   "source": [
    "def get_experiment_files_as_sorted_frame(doc, experiment):\n",
    "    return make_categorical(files_to_frame(get_experiment_files(doc, \"sleep-homeostasis\"))).sort_index()"
   ]
  },
  {
   "cell_type": "code",
   "execution_count": 416,
   "metadata": {
    "execution": {
     "iopub.execute_input": "2021-08-23T17:55:14.110965Z",
     "iopub.status.busy": "2021-08-23T17:55:14.110482Z",
     "iopub.status.idle": "2021-08-23T17:55:14.256230Z",
     "shell.execute_reply": "2021-08-23T17:55:14.255607Z",
     "shell.execute_reply.started": "2021-08-23T17:55:14.110909Z"
    },
    "tags": []
   },
   "outputs": [],
   "source": [
    "def parse_trigger_stem(stem):\n",
    "    x = re.search(r\"_g\\d+_t\\d+\\Z\", stem)  # \\Z forces match at string end.\n",
    "    run = stem[: x.span()[0]]  # The run name is everything before the match\n",
    "    gate = re.search(r\"g\\d+\", x.group()).group()\n",
    "    trigger = re.search(r\"t\\d+\", x.group()).group()\n",
    "\n",
    "    return (run, gate, trigger)\n",
    "\n",
    "def get_alias_files_as_sorted_frame(doc, experiment_name, alias_name):\n",
    "    alias = doc[\"experiments\"][experiment_name][\"aliases\"][alias_name]\n",
    "    df = get_experiment_files_as_sorted_frame(doc, experiment_name)\n",
    "    return df[parse_trigger_stem(alias['start_file']) : parse_trigger_stem(alias['end_file'])]\n",
    "\n",
    "get_alias_files_as_sorted_frame(doc, 'sleep-homeostasis', 'light-period-circadian-match');"
   ]
  },
  {
   "cell_type": "code",
   "execution_count": null,
   "metadata": {},
   "outputs": [],
   "source": [
    "#Create new branch\n",
    "#SGLX schema + agnostic files should be in their own file, probably in sglx_utils\n",
    "#Functions that extend SGLX schema should be in a separate file, in ecephys_analyses, and should return dataframes"
   ]
  }
 ],
 "metadata": {
  "kernelspec": {
   "display_name": "Python 3 (ipykernel)",
   "language": "python",
   "name": "python3"
  },
  "language_info": {
   "codemirror_mode": {
    "name": "ipython",
    "version": 3
   },
   "file_extension": ".py",
   "mimetype": "text/x-python",
   "name": "python",
   "nbconvert_exporter": "python",
   "pygments_lexer": "ipython3",
   "version": "3.7.10"
  }
 },
 "nbformat": 4,
 "nbformat_minor": 4
}
