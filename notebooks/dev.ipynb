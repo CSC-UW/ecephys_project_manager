{
 "cells": [
  {
   "cell_type": "code",
   "execution_count": 1,
   "metadata": {
    "execution": {
     "iopub.execute_input": "2021-08-24T04:38:57.729261Z",
     "iopub.status.busy": "2021-08-24T04:38:57.728973Z",
     "iopub.status.idle": "2021-08-24T04:38:57.733781Z",
     "shell.execute_reply": "2021-08-24T04:38:57.733301Z",
     "shell.execute_reply.started": "2021-08-24T04:38:57.729204Z"
    },
    "tags": []
   },
   "outputs": [],
   "source": [
    "# TODOS:\n",
    "# Add warnings if expected directory or files do not exist\n",
    "# Comment heavily"
   ]
  },
  {
   "cell_type": "code",
   "execution_count": 2,
   "metadata": {
    "execution": {
     "iopub.execute_input": "2021-08-24T04:38:57.734857Z",
     "iopub.status.busy": "2021-08-24T04:38:57.734705Z",
     "iopub.status.idle": "2021-08-24T04:38:57.747623Z",
     "shell.execute_reply": "2021-08-24T04:38:57.746927Z",
     "shell.execute_reply.started": "2021-08-24T04:38:57.734838Z"
    },
    "tags": []
   },
   "outputs": [],
   "source": [
    "%load_ext autoreload\n",
    "%autoreload 2"
   ]
  },
  {
   "cell_type": "code",
   "execution_count": 8,
   "metadata": {
    "execution": {
     "iopub.execute_input": "2021-08-24T04:42:06.006775Z",
     "iopub.status.busy": "2021-08-24T04:42:06.006243Z",
     "iopub.status.idle": "2021-08-24T04:42:06.025762Z",
     "shell.execute_reply": "2021-08-24T04:42:06.024976Z",
     "shell.execute_reply.started": "2021-08-24T04:42:06.006721Z"
    },
    "tags": []
   },
   "outputs": [],
   "source": [
    "import ecephys.sglx.paths as sglx_paths\n",
    "from pathlib import Path"
   ]
  },
  {
   "cell_type": "code",
   "execution_count": 4,
   "metadata": {
    "execution": {
     "iopub.execute_input": "2021-08-24T04:40:02.845854Z",
     "iopub.status.busy": "2021-08-24T04:40:02.845335Z",
     "iopub.status.idle": "2021-08-24T04:40:03.801195Z",
     "shell.execute_reply": "2021-08-24T04:40:03.800528Z",
     "shell.execute_reply.started": "2021-08-24T04:40:02.845800Z"
    },
    "tags": []
   },
   "outputs": [],
   "source": [
    "import ecephys_analyses as ea\n",
    "\n",
    "yaml_path = ea.package_datapath('example_org_spec.yaml')"
   ]
  },
  {
   "cell_type": "code",
   "execution_count": 5,
   "metadata": {
    "execution": {
     "iopub.execute_input": "2021-08-24T04:40:20.374349Z",
     "iopub.status.busy": "2021-08-24T04:40:20.373762Z",
     "iopub.status.idle": "2021-08-24T04:40:20.400450Z",
     "shell.execute_reply": "2021-08-24T04:40:20.399664Z",
     "shell.execute_reply.started": "2021-08-24T04:40:20.374291Z"
    },
    "tags": []
   },
   "outputs": [],
   "source": [
    "import yaml\n",
    "\n",
    "with open(yaml_path) as fp:\n",
    "    yaml_data = yaml.safe_load(fp)\n",
    "doc = yaml_data"
   ]
  },
  {
   "cell_type": "code",
   "execution_count": 18,
   "metadata": {
    "execution": {
     "iopub.execute_input": "2021-08-24T04:45:25.278501Z",
     "iopub.status.busy": "2021-08-24T04:45:25.278031Z",
     "iopub.status.idle": "2021-08-24T04:45:25.298145Z",
     "shell.execute_reply": "2021-08-24T04:45:25.297416Z",
     "shell.execute_reply.started": "2021-08-24T04:45:25.278455Z"
    },
    "tags": []
   },
   "outputs": [],
   "source": [
    "session = doc['recording-sessions'][0]\n",
    "run = '3-1-2021_A'\n",
    "gate = 'g1'\n",
    "probe = 'imec0'\n",
    "fname = '3-1-2021_A_g1_t0.imec0.lf.meta'\n",
    "session_dir = Path(doc['raw-data-root'], session['directory'])\n",
    "gate_dir = session_dir / f\"{run}_{gate}\"\n",
    "probe_dir = Path(doc['raw-data-root'], session['directory'], f\"{run}_{gate}\", f\"{run}_{gate}_{probe}\")"
   ]
  },
  {
   "cell_type": "markdown",
   "metadata": {
    "jp-MarkdownHeadingCollapsed": true,
    "tags": []
   },
   "source": [
    "# Test ecephys.sglx.paths"
   ]
  },
  {
   "cell_type": "code",
   "execution_count": 19,
   "metadata": {
    "execution": {
     "iopub.execute_input": "2021-08-24T04:45:26.387223Z",
     "iopub.status.busy": "2021-08-24T04:45:26.386689Z",
     "iopub.status.idle": "2021-08-24T04:45:26.406885Z",
     "shell.execute_reply": "2021-08-24T04:45:26.406312Z",
     "shell.execute_reply.started": "2021-08-24T04:45:26.387169Z"
    },
    "tags": []
   },
   "outputs": [
    {
     "data": {
      "text/plain": [
       "('3-1-2021_A', 'g1', 't0', 'imec0', 'lf', 'meta')"
      ]
     },
     "execution_count": 19,
     "metadata": {},
     "output_type": "execute_result"
    }
   ],
   "source": [
    "sglx_paths.parse_sglx_fname(fname)"
   ]
  },
  {
   "cell_type": "code",
   "execution_count": 20,
   "metadata": {
    "execution": {
     "iopub.execute_input": "2021-08-24T04:45:29.508564Z",
     "iopub.status.busy": "2021-08-24T04:45:29.508316Z",
     "iopub.status.idle": "2021-08-24T04:45:29.531996Z",
     "shell.execute_reply": "2021-08-24T04:45:29.531593Z",
     "shell.execute_reply.started": "2021-08-24T04:45:29.508545Z"
    },
    "tags": []
   },
   "outputs": [
    {
     "data": {
      "text/plain": [
       "[PosixPath('/Volumes/neuropixel_archive/Data/chronic/CNPIX8-Allan/3-1-2021/3-1-2021_A_g1/3-1-2021_A_g1_imec0/3-1-2021_A_g1_t0.imec0.ap.bin'),\n",
       " PosixPath('/Volumes/neuropixel_archive/Data/chronic/CNPIX8-Allan/3-1-2021/3-1-2021_A_g1/3-1-2021_A_g1_imec0/3-1-2021_A_g1_t0.imec0.ap.meta'),\n",
       " PosixPath('/Volumes/neuropixel_archive/Data/chronic/CNPIX8-Allan/3-1-2021/3-1-2021_A_g1/3-1-2021_A_g1_imec0/3-1-2021_A_g1_t0.imec0.lf.bin'),\n",
       " PosixPath('/Volumes/neuropixel_archive/Data/chronic/CNPIX8-Allan/3-1-2021/3-1-2021_A_g1/3-1-2021_A_g1_imec0/3-1-2021_A_g1_t0.imec0.lf.meta'),\n",
       " PosixPath('/Volumes/neuropixel_archive/Data/chronic/CNPIX8-Allan/3-1-2021/3-1-2021_A_g1/3-1-2021_A_g1_imec0/3-1-2021_A_g1_t1.imec0.ap.bin'),\n",
       " PosixPath('/Volumes/neuropixel_archive/Data/chronic/CNPIX8-Allan/3-1-2021/3-1-2021_A_g1/3-1-2021_A_g1_imec0/3-1-2021_A_g1_t1.imec0.ap.meta'),\n",
       " PosixPath('/Volumes/neuropixel_archive/Data/chronic/CNPIX8-Allan/3-1-2021/3-1-2021_A_g1/3-1-2021_A_g1_imec0/3-1-2021_A_g1_t1.imec0.lf.bin'),\n",
       " PosixPath('/Volumes/neuropixel_archive/Data/chronic/CNPIX8-Allan/3-1-2021/3-1-2021_A_g1/3-1-2021_A_g1_imec0/3-1-2021_A_g1_t1.imec0.lf.meta')]"
      ]
     },
     "execution_count": 20,
     "metadata": {},
     "output_type": "execute_result"
    }
   ],
   "source": [
    "sglx_paths.get_trigger_files(probe_dir)"
   ]
  },
  {
   "cell_type": "code",
   "execution_count": 21,
   "metadata": {
    "execution": {
     "iopub.execute_input": "2021-08-24T04:45:32.182892Z",
     "iopub.status.busy": "2021-08-24T04:45:32.182355Z",
     "iopub.status.idle": "2021-08-24T04:45:32.208268Z",
     "shell.execute_reply": "2021-08-24T04:45:32.207708Z",
     "shell.execute_reply.started": "2021-08-24T04:45:32.182838Z"
    },
    "tags": []
   },
   "outputs": [
    {
     "data": {
      "text/plain": [
       "['3-1-2021_A_g1_t0', '3-1-2021_A_g1_t1']"
      ]
     },
     "execution_count": 21,
     "metadata": {},
     "output_type": "execute_result"
    }
   ],
   "source": [
    "sglx_paths.get_unique_trigger_stems(probe_dir)"
   ]
  },
  {
   "cell_type": "code",
   "execution_count": 22,
   "metadata": {
    "execution": {
     "iopub.execute_input": "2021-08-24T04:45:55.076574Z",
     "iopub.status.busy": "2021-08-24T04:45:55.076041Z",
     "iopub.status.idle": "2021-08-24T04:45:55.101750Z",
     "shell.execute_reply": "2021-08-24T04:45:55.101196Z",
     "shell.execute_reply.started": "2021-08-24T04:45:55.076520Z"
    }
   },
   "outputs": [
    {
     "data": {
      "text/plain": [
       "[PosixPath('/Volumes/neuropixel_archive/Data/chronic/CNPIX8-Allan/3-1-2021/3-1-2021_A_g1/3-1-2021_A_g1_imec0'),\n",
       " PosixPath('/Volumes/neuropixel_archive/Data/chronic/CNPIX8-Allan/3-1-2021/3-1-2021_A_g1/3-1-2021_A_g1_imec1')]"
      ]
     },
     "execution_count": 22,
     "metadata": {},
     "output_type": "execute_result"
    }
   ],
   "source": [
    "sglx_paths.get_probe_directories(gate_dir)"
   ]
  },
  {
   "cell_type": "code",
   "execution_count": 23,
   "metadata": {
    "execution": {
     "iopub.execute_input": "2021-08-24T04:46:13.528938Z",
     "iopub.status.busy": "2021-08-24T04:46:13.528406Z",
     "iopub.status.idle": "2021-08-24T04:46:13.555245Z",
     "shell.execute_reply": "2021-08-24T04:46:13.554658Z",
     "shell.execute_reply.started": "2021-08-24T04:46:13.528883Z"
    }
   },
   "outputs": [
    {
     "data": {
      "text/plain": [
       "[PosixPath('/Volumes/neuropixel_archive/Data/chronic/CNPIX8-Allan/3-1-2021/3-1-2021_A_g1/3-1-2021_A_g1_imec0')]"
      ]
     },
     "execution_count": 23,
     "metadata": {},
     "output_type": "execute_result"
    }
   ],
   "source": [
    "sglx_paths.get_probe_directories(gate_dir, probe_regex=\"imec0\")"
   ]
  },
  {
   "cell_type": "code",
   "execution_count": 24,
   "metadata": {
    "execution": {
     "iopub.execute_input": "2021-08-24T04:46:31.321179Z",
     "iopub.status.busy": "2021-08-24T04:46:31.320650Z",
     "iopub.status.idle": "2021-08-24T04:46:31.351388Z",
     "shell.execute_reply": "2021-08-24T04:46:31.350803Z",
     "shell.execute_reply.started": "2021-08-24T04:46:31.321126Z"
    }
   },
   "outputs": [
    {
     "data": {
      "text/plain": [
       "[PosixPath('/Volumes/neuropixel_archive/Data/chronic/CNPIX8-Allan/3-1-2021/3-1-2021_A_g1/3-1-2021_A_g1_imec0/3-1-2021_A_g1_t0.imec0.ap.bin'),\n",
       " PosixPath('/Volumes/neuropixel_archive/Data/chronic/CNPIX8-Allan/3-1-2021/3-1-2021_A_g1/3-1-2021_A_g1_imec0/3-1-2021_A_g1_t0.imec0.ap.meta'),\n",
       " PosixPath('/Volumes/neuropixel_archive/Data/chronic/CNPIX8-Allan/3-1-2021/3-1-2021_A_g1/3-1-2021_A_g1_imec0/3-1-2021_A_g1_t0.imec0.lf.bin'),\n",
       " PosixPath('/Volumes/neuropixel_archive/Data/chronic/CNPIX8-Allan/3-1-2021/3-1-2021_A_g1/3-1-2021_A_g1_imec0/3-1-2021_A_g1_t0.imec0.lf.meta'),\n",
       " PosixPath('/Volumes/neuropixel_archive/Data/chronic/CNPIX8-Allan/3-1-2021/3-1-2021_A_g1/3-1-2021_A_g1_imec0/3-1-2021_A_g1_t1.imec0.ap.bin'),\n",
       " PosixPath('/Volumes/neuropixel_archive/Data/chronic/CNPIX8-Allan/3-1-2021/3-1-2021_A_g1/3-1-2021_A_g1_imec0/3-1-2021_A_g1_t1.imec0.ap.meta'),\n",
       " PosixPath('/Volumes/neuropixel_archive/Data/chronic/CNPIX8-Allan/3-1-2021/3-1-2021_A_g1/3-1-2021_A_g1_imec0/3-1-2021_A_g1_t1.imec0.lf.bin'),\n",
       " PosixPath('/Volumes/neuropixel_archive/Data/chronic/CNPIX8-Allan/3-1-2021/3-1-2021_A_g1/3-1-2021_A_g1_imec0/3-1-2021_A_g1_t1.imec0.lf.meta'),\n",
       " PosixPath('/Volumes/neuropixel_archive/Data/chronic/CNPIX8-Allan/3-1-2021/3-1-2021_A_g1/3-1-2021_A_g1_imec1/3-1-2021_A_g1_t0.imec1.ap.bin'),\n",
       " PosixPath('/Volumes/neuropixel_archive/Data/chronic/CNPIX8-Allan/3-1-2021/3-1-2021_A_g1/3-1-2021_A_g1_imec1/3-1-2021_A_g1_t0.imec1.ap.meta'),\n",
       " PosixPath('/Volumes/neuropixel_archive/Data/chronic/CNPIX8-Allan/3-1-2021/3-1-2021_A_g1/3-1-2021_A_g1_imec1/3-1-2021_A_g1_t0.imec1.lf.bin'),\n",
       " PosixPath('/Volumes/neuropixel_archive/Data/chronic/CNPIX8-Allan/3-1-2021/3-1-2021_A_g1/3-1-2021_A_g1_imec1/3-1-2021_A_g1_t0.imec1.lf.meta'),\n",
       " PosixPath('/Volumes/neuropixel_archive/Data/chronic/CNPIX8-Allan/3-1-2021/3-1-2021_A_g1/3-1-2021_A_g1_imec1/3-1-2021_A_g1_t1.imec1.ap.bin'),\n",
       " PosixPath('/Volumes/neuropixel_archive/Data/chronic/CNPIX8-Allan/3-1-2021/3-1-2021_A_g1/3-1-2021_A_g1_imec1/3-1-2021_A_g1_t1.imec1.ap.meta'),\n",
       " PosixPath('/Volumes/neuropixel_archive/Data/chronic/CNPIX8-Allan/3-1-2021/3-1-2021_A_g1/3-1-2021_A_g1_imec1/3-1-2021_A_g1_t1.imec1.lf.bin'),\n",
       " PosixPath('/Volumes/neuropixel_archive/Data/chronic/CNPIX8-Allan/3-1-2021/3-1-2021_A_g1/3-1-2021_A_g1_imec1/3-1-2021_A_g1_t1.imec1.lf.meta')]"
      ]
     },
     "execution_count": 24,
     "metadata": {},
     "output_type": "execute_result"
    }
   ],
   "source": [
    "sglx_paths.get_gate_files(gate_dir)"
   ]
  },
  {
   "cell_type": "code",
   "execution_count": 25,
   "metadata": {
    "execution": {
     "iopub.execute_input": "2021-08-24T04:48:53.066052Z",
     "iopub.status.busy": "2021-08-24T04:48:53.065494Z",
     "iopub.status.idle": "2021-08-24T04:48:53.094217Z",
     "shell.execute_reply": "2021-08-24T04:48:53.093639Z",
     "shell.execute_reply.started": "2021-08-24T04:48:53.065998Z"
    }
   },
   "outputs": [
    {
     "data": {
      "text/plain": [
       "[PosixPath('/Volumes/neuropixel_archive/Data/chronic/CNPIX8-Allan/3-1-2021/3-1-2021_A_g1/3-1-2021_A_g1_imec0/3-1-2021_A_g1_t0.imec0.lf.bin'),\n",
       " PosixPath('/Volumes/neuropixel_archive/Data/chronic/CNPIX8-Allan/3-1-2021/3-1-2021_A_g1/3-1-2021_A_g1_imec0/3-1-2021_A_g1_t1.imec0.lf.bin')]"
      ]
     },
     "execution_count": 25,
     "metadata": {},
     "output_type": "execute_result"
    }
   ],
   "source": [
    "sglx_paths.filter_files(sglx_paths.get_gate_files(gate_dir), probe='imec0', stream='lf', ftype='bin')"
   ]
  },
  {
   "cell_type": "code",
   "execution_count": 26,
   "metadata": {
    "execution": {
     "iopub.execute_input": "2021-08-24T04:50:20.840818Z",
     "iopub.status.busy": "2021-08-24T04:50:20.840284Z",
     "iopub.status.idle": "2021-08-24T04:50:20.870503Z",
     "shell.execute_reply": "2021-08-24T04:50:20.869908Z",
     "shell.execute_reply.started": "2021-08-24T04:50:20.840764Z"
    }
   },
   "outputs": [
    {
     "data": {
      "text/plain": [
       "[PosixPath('/Volumes/neuropixel_archive/Data/chronic/CNPIX8-Allan/3-1-2021/3-1-2021_A_g1/3-1-2021_A_g1_imec0/3-1-2021_A_g1_t0'),\n",
       " PosixPath('/Volumes/neuropixel_archive/Data/chronic/CNPIX8-Allan/3-1-2021/3-1-2021_A_g1/3-1-2021_A_g1_imec0/3-1-2021_A_g1_t1'),\n",
       " PosixPath('/Volumes/neuropixel_archive/Data/chronic/CNPIX8-Allan/3-1-2021/3-1-2021_A_g1/3-1-2021_A_g1_imec1/3-1-2021_A_g1_t0'),\n",
       " PosixPath('/Volumes/neuropixel_archive/Data/chronic/CNPIX8-Allan/3-1-2021/3-1-2021_A_g1/3-1-2021_A_g1_imec1/3-1-2021_A_g1_t1')]"
      ]
     },
     "execution_count": 26,
     "metadata": {},
     "output_type": "execute_result"
    }
   ],
   "source": [
    "sglx_paths.remove_suffixes(sglx_paths.get_gate_files(gate_dir))"
   ]
  },
  {
   "cell_type": "code",
   "execution_count": 27,
   "metadata": {
    "execution": {
     "iopub.execute_input": "2021-08-24T04:51:16.739340Z",
     "iopub.status.busy": "2021-08-24T04:51:16.738805Z",
     "iopub.status.idle": "2021-08-24T04:51:16.767801Z",
     "shell.execute_reply": "2021-08-24T04:51:16.767236Z",
     "shell.execute_reply.started": "2021-08-24T04:51:16.739286Z"
    }
   },
   "outputs": [
    {
     "data": {
      "text/plain": [
       "{'imec0': [PosixPath('/Volumes/neuropixel_archive/Data/chronic/CNPIX8-Allan/3-1-2021/3-1-2021_A_g1/3-1-2021_A_g1_imec0/3-1-2021_A_g1_t0.imec0.ap.bin'),\n",
       "  PosixPath('/Volumes/neuropixel_archive/Data/chronic/CNPIX8-Allan/3-1-2021/3-1-2021_A_g1/3-1-2021_A_g1_imec0/3-1-2021_A_g1_t0.imec0.ap.meta'),\n",
       "  PosixPath('/Volumes/neuropixel_archive/Data/chronic/CNPIX8-Allan/3-1-2021/3-1-2021_A_g1/3-1-2021_A_g1_imec0/3-1-2021_A_g1_t0.imec0.lf.bin'),\n",
       "  PosixPath('/Volumes/neuropixel_archive/Data/chronic/CNPIX8-Allan/3-1-2021/3-1-2021_A_g1/3-1-2021_A_g1_imec0/3-1-2021_A_g1_t0.imec0.lf.meta'),\n",
       "  PosixPath('/Volumes/neuropixel_archive/Data/chronic/CNPIX8-Allan/3-1-2021/3-1-2021_A_g1/3-1-2021_A_g1_imec0/3-1-2021_A_g1_t1.imec0.ap.bin'),\n",
       "  PosixPath('/Volumes/neuropixel_archive/Data/chronic/CNPIX8-Allan/3-1-2021/3-1-2021_A_g1/3-1-2021_A_g1_imec0/3-1-2021_A_g1_t1.imec0.ap.meta'),\n",
       "  PosixPath('/Volumes/neuropixel_archive/Data/chronic/CNPIX8-Allan/3-1-2021/3-1-2021_A_g1/3-1-2021_A_g1_imec0/3-1-2021_A_g1_t1.imec0.lf.bin'),\n",
       "  PosixPath('/Volumes/neuropixel_archive/Data/chronic/CNPIX8-Allan/3-1-2021/3-1-2021_A_g1/3-1-2021_A_g1_imec0/3-1-2021_A_g1_t1.imec0.lf.meta')],\n",
       " 'imec1': [PosixPath('/Volumes/neuropixel_archive/Data/chronic/CNPIX8-Allan/3-1-2021/3-1-2021_A_g1/3-1-2021_A_g1_imec1/3-1-2021_A_g1_t0.imec1.ap.bin'),\n",
       "  PosixPath('/Volumes/neuropixel_archive/Data/chronic/CNPIX8-Allan/3-1-2021/3-1-2021_A_g1/3-1-2021_A_g1_imec1/3-1-2021_A_g1_t0.imec1.ap.meta'),\n",
       "  PosixPath('/Volumes/neuropixel_archive/Data/chronic/CNPIX8-Allan/3-1-2021/3-1-2021_A_g1/3-1-2021_A_g1_imec1/3-1-2021_A_g1_t0.imec1.lf.bin'),\n",
       "  PosixPath('/Volumes/neuropixel_archive/Data/chronic/CNPIX8-Allan/3-1-2021/3-1-2021_A_g1/3-1-2021_A_g1_imec1/3-1-2021_A_g1_t0.imec1.lf.meta'),\n",
       "  PosixPath('/Volumes/neuropixel_archive/Data/chronic/CNPIX8-Allan/3-1-2021/3-1-2021_A_g1/3-1-2021_A_g1_imec1/3-1-2021_A_g1_t1.imec1.ap.bin'),\n",
       "  PosixPath('/Volumes/neuropixel_archive/Data/chronic/CNPIX8-Allan/3-1-2021/3-1-2021_A_g1/3-1-2021_A_g1_imec1/3-1-2021_A_g1_t1.imec1.ap.meta'),\n",
       "  PosixPath('/Volumes/neuropixel_archive/Data/chronic/CNPIX8-Allan/3-1-2021/3-1-2021_A_g1/3-1-2021_A_g1_imec1/3-1-2021_A_g1_t1.imec1.lf.bin'),\n",
       "  PosixPath('/Volumes/neuropixel_archive/Data/chronic/CNPIX8-Allan/3-1-2021/3-1-2021_A_g1/3-1-2021_A_g1_imec1/3-1-2021_A_g1_t1.imec1.lf.meta')]}"
      ]
     },
     "execution_count": 27,
     "metadata": {},
     "output_type": "execute_result"
    }
   ],
   "source": [
    "sglx_paths.separate_files_by_probe(sglx_paths.get_gate_files(gate_dir))"
   ]
  },
  {
   "cell_type": "markdown",
   "metadata": {
    "tags": []
   },
   "source": [
    "# Functions that extend the SpikeGLX schema"
   ]
  },
  {
   "cell_type": "code",
   "execution_count": 36,
   "metadata": {
    "execution": {
     "iopub.execute_input": "2021-08-24T04:58:08.653389Z",
     "iopub.status.busy": "2021-08-24T04:58:08.652860Z",
     "iopub.status.idle": "2021-08-24T04:58:08.673301Z",
     "shell.execute_reply": "2021-08-24T04:58:08.672570Z",
     "shell.execute_reply.started": "2021-08-24T04:58:08.653335Z"
    }
   },
   "outputs": [],
   "source": [
    "import re"
   ]
  },
  {
   "cell_type": "code",
   "execution_count": 37,
   "metadata": {
    "execution": {
     "iopub.execute_input": "2021-08-24T04:58:09.051883Z",
     "iopub.status.busy": "2021-08-24T04:58:09.051627Z",
     "iopub.status.idle": "2021-08-24T04:58:09.076185Z",
     "shell.execute_reply": "2021-08-24T04:58:09.075755Z",
     "shell.execute_reply.started": "2021-08-24T04:58:09.051864Z"
    },
    "tags": []
   },
   "outputs": [
    {
     "data": {
      "text/plain": [
       "[PosixPath('/Volumes/neuropixel_archive/Data/chronic/CNPIX8-Allan/3-1-2021/3-1-2021_A_g0'),\n",
       " PosixPath('/Volumes/neuropixel_archive/Data/chronic/CNPIX8-Allan/3-1-2021/3-1-2021_A_g1')]"
      ]
     },
     "execution_count": 37,
     "metadata": {},
     "output_type": "execute_result"
    }
   ],
   "source": [
    "def get_gate_directories(session_dir, run):\n",
    "    matches = [p for p in session_dir.glob(f\"{run}_g*\") if (p.is_dir() and re.search(r\"_g\\d+\\Z\", p.name))]\n",
    "    return sorted(matches)\n",
    "\n",
    "get_gate_directories(session_dir, run)"
   ]
  },
  {
   "cell_type": "code",
   "execution_count": 41,
   "metadata": {
    "execution": {
     "iopub.execute_input": "2021-08-24T04:58:46.412261Z",
     "iopub.status.busy": "2021-08-24T04:58:46.411728Z",
     "iopub.status.idle": "2021-08-24T04:58:46.446727Z",
     "shell.execute_reply": "2021-08-24T04:58:46.445945Z",
     "shell.execute_reply.started": "2021-08-24T04:58:46.412208Z"
    },
    "tags": []
   },
   "outputs": [],
   "source": [
    "from itertools import chain \n",
    "\n",
    "def get_run_files(session_dir, run):\n",
    "    return list(\n",
    "        chain.from_iterable(\n",
    "            sglx_paths.get_gate_files(gate_dir)\n",
    "            for gate_dir in get_gate_directories(session_dir, run)\n",
    "        )\n",
    "    )\n",
    "\n",
    "get_run_files(session_dir, run);"
   ]
  },
  {
   "cell_type": "code",
   "execution_count": 40,
   "metadata": {
    "execution": {
     "iopub.execute_input": "2021-08-24T04:58:41.087264Z",
     "iopub.status.busy": "2021-08-24T04:58:41.086730Z",
     "iopub.status.idle": "2021-08-24T04:58:41.337259Z",
     "shell.execute_reply": "2021-08-24T04:58:41.336044Z",
     "shell.execute_reply.started": "2021-08-24T04:58:41.087209Z"
    },
    "tags": []
   },
   "outputs": [],
   "source": [
    "def get_session_files(session_dir, runs):\n",
    "    return list(\n",
    "        chain.from_iterable(get_run_files(session_dir, run) for run in runs)\n",
    "    )\n",
    "\n",
    "get_session_files(session_dir, session[\"SpikeGLX-runs\"]);"
   ]
  },
  {
   "cell_type": "code",
   "execution_count": 50,
   "metadata": {
    "execution": {
     "iopub.execute_input": "2021-08-23T02:42:44.678027Z",
     "iopub.status.busy": "2021-08-23T02:42:44.677462Z",
     "iopub.status.idle": "2021-08-23T02:42:44.835473Z",
     "shell.execute_reply": "2021-08-23T02:42:44.834244Z",
     "shell.execute_reply.started": "2021-08-23T02:42:44.677972Z"
    },
    "tags": []
   },
   "outputs": [],
   "source": [
    "# This is probably not a useful function, and mostly exists for completeness. \n",
    "def get_document_files(doc):\n",
    "    return list(\n",
    "        chain.from_iterable(\n",
    "            get_session_files(\n",
    "                Path(doc[\"raw-data-root\"]) / session[\"directory\"],\n",
    "                session[\"SpikeGLX-runs\"]\n",
    "            )\n",
    "            for session in doc[\"recording-sessions\"]\n",
    "        )\n",
    "    )\n",
    "\n",
    "\n",
    "get_document_files(doc);"
   ]
  },
  {
   "cell_type": "markdown",
   "metadata": {},
   "source": [
    "### Getting experiment files"
   ]
  },
  {
   "cell_type": "code",
   "execution_count": 372,
   "metadata": {
    "execution": {
     "iopub.execute_input": "2021-08-23T17:40:09.582999Z",
     "iopub.status.busy": "2021-08-23T17:40:09.582429Z",
     "iopub.status.idle": "2021-08-23T17:40:09.718766Z",
     "shell.execute_reply": "2021-08-23T17:40:09.717697Z",
     "shell.execute_reply.started": "2021-08-23T17:40:09.582944Z"
    },
    "tags": []
   },
   "outputs": [],
   "source": [
    "def get_experiment_files(doc, experiment_name):\n",
    "    return list(\n",
    "        chain.from_iterable(\n",
    "            get_session_files(\n",
    "                Path(doc[\"raw-data-root\"]) / session[\"directory\"],\n",
    "                session[\"SpikeGLX-runs\"],\n",
    "            )\n",
    "            for session in doc[\"experiments\"][experiment_name]['recording-sessions']\n",
    "        )\n",
    "    )\n",
    "\n",
    "get_experiment_files(doc, 'sleep-homeostasis');"
   ]
  },
  {
   "cell_type": "code",
   "execution_count": 162,
   "metadata": {
    "execution": {
     "iopub.execute_input": "2021-08-23T04:54:03.648115Z",
     "iopub.status.busy": "2021-08-23T04:54:03.647556Z",
     "iopub.status.idle": "2021-08-23T04:54:03.811405Z",
     "shell.execute_reply": "2021-08-23T04:54:03.810340Z",
     "shell.execute_reply.started": "2021-08-23T04:54:03.648059Z"
    },
    "tags": []
   },
   "outputs": [],
   "source": [
    "import pandas as pd\n",
    "\n",
    "def _slice_files_by_name(files, start, end):\n",
    "    \"\"\"Files must be sorted BY STEM (e.g. separated by probe) before using this function,\n",
    "    else pd.Index.slice_locs will correctly raise an error.\"\"\"\n",
    "    parses = [parse_sglx_fname(f.name) for f in files]\n",
    "    stems = [\n",
    "        f\"{run}_{gate}_{trigger}\" for run, gate, trigger, probe, stream, ftype in parses\n",
    "    ]\n",
    "    (start, end) = pd.Index(stems).slice_locs(start, end)\n",
    "    return files[start:end]\n",
    "\n",
    "\n",
    "def get_alias_files(doc, experiment_name, alias_name):\n",
    "    alias = doc[\"experiments\"][experiment_name][\"aliases\"][alias_name]\n",
    "    experiment_files = get_experiment_files(doc, experiment_name)\n",
    "    alias_files_by_probe = {\n",
    "        probe: _slice_files_by_name(files, alias[\"start_file\"], alias[\"end_file\"])\n",
    "        for probe, files in separate_files_by_probe(experiment_files).items()\n",
    "    }\n",
    "    return [f for f in experiment_files if f in list(chain.from_iterable(alias_files_by_probe.values()))]\n",
    "\n",
    "\n",
    "get_alias_files(doc, \"sleep-homeostasis\", \"light-period-circadian-match\");"
   ]
  },
  {
   "cell_type": "markdown",
   "metadata": {},
   "source": [
    "# Manipulating files with dataframes"
   ]
  },
  {
   "cell_type": "code",
   "execution_count": 33,
   "metadata": {
    "execution": {
     "iopub.execute_input": "2021-08-24T04:57:13.952842Z",
     "iopub.status.busy": "2021-08-24T04:57:13.952261Z",
     "iopub.status.idle": "2021-08-24T04:57:13.974767Z",
     "shell.execute_reply": "2021-08-24T04:57:13.973755Z",
     "shell.execute_reply.started": "2021-08-24T04:57:13.952785Z"
    },
    "tags": []
   },
   "outputs": [],
   "source": [
    "def files_to_frame(files):\n",
    "    runs, gates, triggers, probes, streams, ftypes = zip(\n",
    "        *[sglx_paths.parse_sglx_fname(f.name) for f in files]\n",
    "    )\n",
    "    return pd.DataFrame(\n",
    "        {\n",
    "            \"run\": runs,\n",
    "            \"gate\": gates,\n",
    "            \"trigger\": triggers,\n",
    "            \"probe\": probes,\n",
    "            \"stream\": streams,\n",
    "            \"ftype\": ftypes,\n",
    "            \"path\": files,\n",
    "        }\n",
    "    )"
   ]
  },
  {
   "cell_type": "code",
   "execution_count": 34,
   "metadata": {
    "execution": {
     "iopub.execute_input": "2021-08-24T04:57:14.320350Z",
     "iopub.status.busy": "2021-08-24T04:57:14.320041Z",
     "iopub.status.idle": "2021-08-24T04:57:14.343098Z",
     "shell.execute_reply": "2021-08-24T04:57:14.342441Z",
     "shell.execute_reply.started": "2021-08-24T04:57:14.320325Z"
    },
    "tags": []
   },
   "outputs": [
    {
     "ename": "NameError",
     "evalue": "name 'get_experiment_files' is not defined",
     "output_type": "error",
     "traceback": [
      "\u001b[0;31m---------------------------------------------------------------------------\u001b[0m",
      "\u001b[0;31mNameError\u001b[0m                                 Traceback (most recent call last)",
      "\u001b[0;32m/tmp/ipykernel_223675/3633011497.py\u001b[0m in \u001b[0;36m<module>\u001b[0;34m\u001b[0m\n\u001b[0;32m----> 1\u001b[0;31m \u001b[0mfiles_to_frame\u001b[0m\u001b[0;34m(\u001b[0m\u001b[0mget_experiment_files\u001b[0m\u001b[0;34m(\u001b[0m\u001b[0mdoc\u001b[0m\u001b[0;34m,\u001b[0m \u001b[0;34m'sleep-homeostasis'\u001b[0m\u001b[0;34m)\u001b[0m\u001b[0;34m)\u001b[0m\u001b[0;34m.\u001b[0m\u001b[0mdtypes\u001b[0m\u001b[0;34m\u001b[0m\u001b[0;34m\u001b[0m\u001b[0m\n\u001b[0m",
      "\u001b[0;31mNameError\u001b[0m: name 'get_experiment_files' is not defined"
     ]
    }
   ],
   "source": [
    "files_to_frame(get_experiment_files(doc, 'sleep-homeostasis')).dtypes"
   ]
  },
  {
   "cell_type": "code",
   "execution_count": 389,
   "metadata": {
    "execution": {
     "iopub.execute_input": "2021-08-23T17:46:19.763570Z",
     "iopub.status.busy": "2021-08-23T17:46:19.763027Z",
     "iopub.status.idle": "2021-08-23T17:46:19.920781Z",
     "shell.execute_reply": "2021-08-23T17:46:19.920096Z",
     "shell.execute_reply.started": "2021-08-23T17:46:19.763514Z"
    },
    "tags": []
   },
   "outputs": [],
   "source": [
    "from pandas.api.types import CategoricalDtype\n",
    "\n",
    "\n",
    "def sort_strings_by_integer_suffix(strings):\n",
    "    return sorted(strings, key=lambda string: int(re.split(r\"(^[^\\d]+)\", string)[-1]))\n",
    "\n",
    "\n",
    "def make_categorical(df, run_order=\"infer\"):\n",
    "\n",
    "    if run_order == \"infer\":\n",
    "        run_dtype = CategoricalDtype(df[\"run\"].unique(), ordered=True)\n",
    "    elif run_order:\n",
    "        run_dtype = CategoricalDtype(run_order, ordered=True)\n",
    "    else:\n",
    "        run_dtype = CategoricalDtype(df[\"run\"].unique(), ordered=False)\n",
    "\n",
    "    df[\"run\"] = df[\"run\"].astype(run_dtype)\n",
    "    df[\"stream\"] = df[\"stream\"].astype(\n",
    "        CategoricalDtype(df[\"stream\"].unique(), ordered=False)\n",
    "    )\n",
    "    for x in [\"gate\", \"trigger\", \"probe\"]:\n",
    "        df[x] = df[x].astype(\n",
    "            CategoricalDtype(\n",
    "                sort_strings_by_integer_suffix(df[x].unique()), ordered=True\n",
    "            )\n",
    "        )\n",
    "\n",
    "    return df.set_index([\"run\", \"gate\", \"trigger\", \"probe\", \"stream\", \"ftype\"])\n",
    "\n",
    "\n",
    "make_categorical(files_to_frame(get_experiment_files(doc, \"sleep-homeostasis\")));"
   ]
  },
  {
   "cell_type": "code",
   "execution_count": 390,
   "metadata": {
    "execution": {
     "iopub.execute_input": "2021-08-23T17:46:20.710880Z",
     "iopub.status.busy": "2021-08-23T17:46:20.710373Z",
     "iopub.status.idle": "2021-08-23T17:46:20.730052Z",
     "shell.execute_reply": "2021-08-23T17:46:20.729306Z",
     "shell.execute_reply.started": "2021-08-23T17:46:20.710831Z"
    },
    "tags": []
   },
   "outputs": [],
   "source": [
    "def get_experiment_files_as_sorted_frame(doc, experiment):\n",
    "    return make_categorical(files_to_frame(get_experiment_files(doc, \"sleep-homeostasis\"))).sort_index()"
   ]
  },
  {
   "cell_type": "code",
   "execution_count": 416,
   "metadata": {
    "execution": {
     "iopub.execute_input": "2021-08-23T17:55:14.110965Z",
     "iopub.status.busy": "2021-08-23T17:55:14.110482Z",
     "iopub.status.idle": "2021-08-23T17:55:14.256230Z",
     "shell.execute_reply": "2021-08-23T17:55:14.255607Z",
     "shell.execute_reply.started": "2021-08-23T17:55:14.110909Z"
    },
    "tags": []
   },
   "outputs": [],
   "source": [
    "def parse_trigger_stem(stem):\n",
    "    x = re.search(r\"_g\\d+_t\\d+\\Z\", stem)  # \\Z forces match at string end.\n",
    "    run = stem[: x.span()[0]]  # The run name is everything before the match\n",
    "    gate = re.search(r\"g\\d+\", x.group()).group()\n",
    "    trigger = re.search(r\"t\\d+\", x.group()).group()\n",
    "\n",
    "    return (run, gate, trigger)\n",
    "\n",
    "def get_alias_files_as_sorted_frame(doc, experiment_name, alias_name):\n",
    "    alias = doc[\"experiments\"][experiment_name][\"aliases\"][alias_name]\n",
    "    df = get_experiment_files_as_sorted_frame(doc, experiment_name)\n",
    "    return df[parse_trigger_stem(alias['start_file']) : parse_trigger_stem(alias['end_file'])]\n",
    "\n",
    "get_alias_files_as_sorted_frame(doc, 'sleep-homeostasis', 'light-period-circadian-match');"
   ]
  },
  {
   "cell_type": "code",
   "execution_count": null,
   "metadata": {},
   "outputs": [],
   "source": [
    "#Create new branch\n",
    "#SGLX schema + agnostic files should be in their own file, probably in sglx_utils\n",
    "#Functions that extend SGLX schema should be in a separate file, in ecephys_analyses, and should return dataframes"
   ]
  }
 ],
 "metadata": {
  "kernelspec": {
   "display_name": "Python 3 (ipykernel)",
   "language": "python",
   "name": "python3"
  },
  "language_info": {
   "codemirror_mode": {
    "name": "ipython",
    "version": 3
   },
   "file_extension": ".py",
   "mimetype": "text/x-python",
   "name": "python",
   "nbconvert_exporter": "python",
   "pygments_lexer": "ipython3",
   "version": "3.7.10"
  }
 },
 "nbformat": 4,
 "nbformat_minor": 4
}
