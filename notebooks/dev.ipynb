{
 "cells": [
  {
   "cell_type": "code",
   "execution_count": 1,
   "metadata": {
    "execution": {
     "iopub.execute_input": "2021-05-03T22:55:40.543374Z",
     "iopub.status.busy": "2021-05-03T22:55:40.542835Z",
     "iopub.status.idle": "2021-05-03T22:55:40.560267Z",
     "shell.execute_reply": "2021-05-03T22:55:40.559427Z",
     "shell.execute_reply.started": "2021-05-03T22:55:40.543307Z"
    }
   },
   "outputs": [],
   "source": [
    "%load_ext autoreload\n",
    "%autoreload 2\n",
    "from IPython.core.debugger import set_trace"
   ]
  },
  {
   "cell_type": "code",
   "execution_count": 3,
   "metadata": {
    "execution": {
     "iopub.execute_input": "2021-05-03T22:55:59.482130Z",
     "iopub.status.busy": "2021-05-03T22:55:59.481560Z",
     "iopub.status.idle": "2021-05-03T22:55:59.701518Z",
     "shell.execute_reply": "2021-05-03T22:55:59.700709Z",
     "shell.execute_reply.started": "2021-05-03T22:55:59.482065Z"
    }
   },
   "outputs": [],
   "source": [
    "import ecephys_analyses as ea"
   ]
  },
  {
   "cell_type": "code",
   "execution_count": 20,
   "metadata": {
    "execution": {
     "iopub.execute_input": "2021-05-03T22:58:23.089807Z",
     "iopub.status.busy": "2021-05-03T22:58:23.089590Z",
     "iopub.status.idle": "2021-05-03T22:58:23.218047Z",
     "shell.execute_reply": "2021-05-03T22:58:23.217601Z",
     "shell.execute_reply.started": "2021-05-03T22:58:23.089780Z"
    }
   },
   "outputs": [
    {
     "data": {
      "text/plain": [
       "array([  2,   5,   6,   9,  10,  13,  14,  17,  18,  21,  22,  25,  26,\n",
       "        29,  30,  33,  34,  37,  38,  41,  42,  45,  46,  49,  50,  53,\n",
       "        54,  57,  58,  61,  62,  65,  66,  69,  70,  73,  74,  77,  78,\n",
       "        81,  82,  85,  86,  89,  90,  93,  94,  97,  98, 101, 102, 105,\n",
       "       106, 109, 110, 113, 114, 117, 118, 121, 122, 125, 126, 129, 130,\n",
       "       133, 134, 137, 138, 141, 142, 145, 146, 149, 150, 153, 154, 157,\n",
       "       158, 161, 162, 165, 166, 169, 170, 173, 174, 177, 178, 181, 182,\n",
       "       185, 186, 189, 190, 193, 194, 197, 198, 201, 202, 205, 206, 209,\n",
       "       210, 213, 214, 217, 218, 221, 222, 225, 226, 229, 230])"
      ]
     },
     "execution_count": 20,
     "metadata": {},
     "output_type": "execute_result"
    }
   ],
   "source": [
    "ea.get_channels(\"Valentino\", \"sevo-dex\", \"imec0\", \"all\")[193:308]"
   ]
  },
  {
   "cell_type": "code",
   "execution_count": null,
   "metadata": {},
   "outputs": [],
   "source": []
  }
 ],
 "metadata": {
  "kernelspec": {
   "display_name": "Python 3",
   "language": "python",
   "name": "python3"
  },
  "language_info": {
   "codemirror_mode": {
    "name": "ipython",
    "version": 3
   },
   "file_extension": ".py",
   "mimetype": "text/x-python",
   "name": "python",
   "nbconvert_exporter": "python",
   "pygments_lexer": "ipython3",
   "version": "3.7.9"
  }
 },
 "nbformat": 4,
 "nbformat_minor": 4
}
