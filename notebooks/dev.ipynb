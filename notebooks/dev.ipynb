{
 "cells": [
  {
   "cell_type": "code",
   "execution_count": 1,
   "metadata": {
    "execution": {
     "iopub.execute_input": "2021-07-09T17:32:50.187340Z",
     "iopub.status.busy": "2021-07-09T17:32:50.187046Z",
     "iopub.status.idle": "2021-07-09T17:32:50.204614Z",
     "shell.execute_reply": "2021-07-09T17:32:50.204034Z",
     "shell.execute_reply.started": "2021-07-09T17:32:50.187306Z"
    }
   },
   "outputs": [],
   "source": [
    "%load_ext autoreload\n",
    "%autoreload 2"
   ]
  },
  {
   "cell_type": "code",
   "execution_count": 4,
   "metadata": {
    "execution": {
     "iopub.execute_input": "2021-07-20T20:41:39.799711Z",
     "iopub.status.busy": "2021-07-20T20:41:39.799399Z",
     "iopub.status.idle": "2021-07-20T20:41:39.803277Z",
     "shell.execute_reply": "2021-07-20T20:41:39.802544Z",
     "shell.execute_reply.started": "2021-07-20T20:41:39.799675Z"
    }
   },
   "outputs": [],
   "source": [
    "import xarray as xr\n",
    "import numpy as np"
   ]
  },
  {
   "cell_type": "code",
   "execution_count": 16,
   "metadata": {
    "execution": {
     "iopub.execute_input": "2021-07-20T21:15:54.569579Z",
     "iopub.status.busy": "2021-07-20T21:15:54.569231Z",
     "iopub.status.idle": "2021-07-20T21:15:54.575297Z",
     "shell.execute_reply": "2021-07-20T21:15:54.574160Z",
     "shell.execute_reply.started": "2021-07-20T21:15:54.569537Z"
    }
   },
   "outputs": [],
   "source": [
    "data = xr.DataArray(np.random.randn(10), dims=(\"x\"), coords={\"x\": np.arange(10)})"
   ]
  },
  {
   "cell_type": "code",
   "execution_count": 20,
   "metadata": {
    "execution": {
     "iopub.execute_input": "2021-07-20T21:16:05.280384Z",
     "iopub.status.busy": "2021-07-20T21:16:05.279878Z",
     "iopub.status.idle": "2021-07-20T21:16:05.287834Z",
     "shell.execute_reply": "2021-07-20T21:16:05.286757Z",
     "shell.execute_reply.started": "2021-07-20T21:16:05.280323Z"
    }
   },
   "outputs": [
    {
     "data": {
      "text/plain": [
       "array([-0.73675757, -0.64201974, -0.70003928,  0.59195098,  0.02750936,\n",
       "       -0.24321775, -0.07676518, -0.42603707,  0.20764745, -0.36070899])"
      ]
     },
     "execution_count": 20,
     "metadata": {},
     "output_type": "execute_result"
    }
   ],
   "source": [
    "data.values"
   ]
  },
  {
   "cell_type": "code",
   "execution_count": null,
   "metadata": {},
   "outputs": [],
   "source": []
  }
 ],
 "metadata": {
  "kernelspec": {
   "display_name": "Python 3",
   "language": "python",
   "name": "python3"
  },
  "language_info": {
   "codemirror_mode": {
    "name": "ipython",
    "version": 3
   },
   "file_extension": ".py",
   "mimetype": "text/x-python",
   "name": "python",
   "nbconvert_exporter": "python",
   "pygments_lexer": "ipython3",
   "version": "3.7.9"
  }
 },
 "nbformat": 4,
 "nbformat_minor": 4
}
