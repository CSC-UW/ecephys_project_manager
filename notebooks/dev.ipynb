{
 "cells": [
  {
   "cell_type": "code",
   "execution_count": 1,
   "metadata": {
    "execution": {
     "iopub.execute_input": "2021-08-25T19:02:27.437543Z",
     "iopub.status.busy": "2021-08-25T19:02:27.436970Z",
     "iopub.status.idle": "2021-08-25T19:02:27.444091Z",
     "shell.execute_reply": "2021-08-25T19:02:27.443072Z",
     "shell.execute_reply.started": "2021-08-25T19:02:27.437384Z"
    },
    "tags": []
   },
   "outputs": [],
   "source": [
    "# TODOS:\n",
    "# Add warnings if expected directory or files do not exist\n",
    "# Comment heavily"
   ]
  },
  {
   "cell_type": "code",
   "execution_count": 2,
   "metadata": {
    "execution": {
     "iopub.execute_input": "2021-08-25T19:02:27.681755Z",
     "iopub.status.busy": "2021-08-25T19:02:27.681037Z",
     "iopub.status.idle": "2021-08-25T19:02:27.701808Z",
     "shell.execute_reply": "2021-08-25T19:02:27.701245Z",
     "shell.execute_reply.started": "2021-08-25T19:02:27.681712Z"
    },
    "tags": []
   },
   "outputs": [],
   "source": [
    "%load_ext autoreload\n",
    "%autoreload 2"
   ]
  },
  {
   "cell_type": "code",
   "execution_count": 3,
   "metadata": {
    "execution": {
     "iopub.execute_input": "2021-08-25T19:02:28.056577Z",
     "iopub.status.busy": "2021-08-25T19:02:28.056168Z",
     "iopub.status.idle": "2021-08-25T19:02:29.075222Z",
     "shell.execute_reply": "2021-08-25T19:02:29.074589Z",
     "shell.execute_reply.started": "2021-08-25T19:02:28.056537Z"
    },
    "tags": []
   },
   "outputs": [],
   "source": [
    "import ecephys_analyses as ea\n",
    "\n",
    "yaml_path = ea.package_datapath('example_org_spec.yaml')"
   ]
  },
  {
   "cell_type": "code",
   "execution_count": 4,
   "metadata": {
    "execution": {
     "iopub.execute_input": "2021-08-25T19:02:29.076437Z",
     "iopub.status.busy": "2021-08-25T19:02:29.076182Z",
     "iopub.status.idle": "2021-08-25T19:02:29.101838Z",
     "shell.execute_reply": "2021-08-25T19:02:29.101098Z",
     "shell.execute_reply.started": "2021-08-25T19:02:29.076419Z"
    },
    "tags": []
   },
   "outputs": [],
   "source": [
    "import yaml\n",
    "\n",
    "with open(yaml_path) as fp:\n",
    "    yaml_data = list(yaml.safe_load_all(fp))\n",
    "docs = yaml_data"
   ]
  },
  {
   "cell_type": "code",
   "execution_count": 5,
   "metadata": {
    "execution": {
     "iopub.execute_input": "2021-08-25T19:02:29.990982Z",
     "iopub.status.busy": "2021-08-25T19:02:29.990542Z",
     "iopub.status.idle": "2021-08-25T19:02:30.012034Z",
     "shell.execute_reply": "2021-08-25T19:02:30.011454Z",
     "shell.execute_reply.started": "2021-08-25T19:02:29.990940Z"
    },
    "tags": []
   },
   "outputs": [],
   "source": [
    "from pathlib import Path\n",
    "\n",
    "doc = docs[0]\n",
    "session = doc['recording-sessions'][0]\n",
    "run = '3-1-2021_A'\n",
    "gate = 'g1'\n",
    "probe = 'imec0'\n",
    "fname = '3-1-2021_A_g1_t0.imec0.lf.meta'\n",
    "root_dir = Path(doc['raw-data-root'])\n",
    "session_dir = root_dir / session['directory']\n",
    "gate_dir = session_dir / f\"{run}_{gate}\"\n",
    "probe_dir = Path(doc['raw-data-root'], session['directory'], f\"{run}_{gate}\", f\"{run}_{gate}_{probe}\")"
   ]
  },
  {
   "cell_type": "markdown",
   "metadata": {
    "tags": []
   },
   "source": [
    "# Test ecephys.sglx.paths"
   ]
  },
  {
   "cell_type": "code",
   "execution_count": 6,
   "metadata": {
    "execution": {
     "iopub.execute_input": "2021-08-25T19:02:47.955226Z",
     "iopub.status.busy": "2021-08-25T19:02:47.954764Z",
     "iopub.status.idle": "2021-08-25T19:02:47.976452Z",
     "shell.execute_reply": "2021-08-25T19:02:47.975848Z",
     "shell.execute_reply.started": "2021-08-25T19:02:47.955170Z"
    },
    "tags": []
   },
   "outputs": [],
   "source": [
    "import ecephys.sglx.file_mgmt as fmgmt"
   ]
  },
  {
   "cell_type": "code",
   "execution_count": 16,
   "metadata": {
    "execution": {
     "iopub.execute_input": "2021-08-25T19:03:20.595701Z",
     "iopub.status.busy": "2021-08-25T19:03:20.595105Z",
     "iopub.status.idle": "2021-08-25T19:03:20.617074Z",
     "shell.execute_reply": "2021-08-25T19:03:20.616314Z",
     "shell.execute_reply.started": "2021-08-25T19:03:20.595645Z"
    },
    "tags": []
   },
   "outputs": [],
   "source": [
    "fmgmt.parse_sglx_fname(fname);"
   ]
  },
  {
   "cell_type": "code",
   "execution_count": 17,
   "metadata": {
    "execution": {
     "iopub.execute_input": "2021-08-25T19:03:20.776961Z",
     "iopub.status.busy": "2021-08-25T19:03:20.776620Z",
     "iopub.status.idle": "2021-08-25T19:03:20.802669Z",
     "shell.execute_reply": "2021-08-25T19:03:20.802076Z",
     "shell.execute_reply.started": "2021-08-25T19:03:20.776932Z"
    },
    "tags": []
   },
   "outputs": [],
   "source": [
    "fmgmt.get_trigger_files(probe_dir);"
   ]
  },
  {
   "cell_type": "code",
   "execution_count": 18,
   "metadata": {
    "execution": {
     "iopub.execute_input": "2021-08-25T19:03:20.952190Z",
     "iopub.status.busy": "2021-08-25T19:03:20.951372Z",
     "iopub.status.idle": "2021-08-25T19:03:20.973666Z",
     "shell.execute_reply": "2021-08-25T19:03:20.973107Z",
     "shell.execute_reply.started": "2021-08-25T19:03:20.952134Z"
    },
    "tags": []
   },
   "outputs": [],
   "source": [
    "fmgmt.get_unique_trigger_stems(probe_dir);"
   ]
  },
  {
   "cell_type": "code",
   "execution_count": 19,
   "metadata": {
    "execution": {
     "iopub.execute_input": "2021-08-25T19:03:21.136420Z",
     "iopub.status.busy": "2021-08-25T19:03:21.135598Z",
     "iopub.status.idle": "2021-08-25T19:03:21.156464Z",
     "shell.execute_reply": "2021-08-25T19:03:21.155683Z",
     "shell.execute_reply.started": "2021-08-25T19:03:21.136364Z"
    },
    "tags": []
   },
   "outputs": [],
   "source": [
    "fmgmt.get_probe_directories(gate_dir);"
   ]
  },
  {
   "cell_type": "code",
   "execution_count": 20,
   "metadata": {
    "execution": {
     "iopub.execute_input": "2021-08-25T19:03:21.319583Z",
     "iopub.status.busy": "2021-08-25T19:03:21.319122Z",
     "iopub.status.idle": "2021-08-25T19:03:21.341068Z",
     "shell.execute_reply": "2021-08-25T19:03:21.340478Z",
     "shell.execute_reply.started": "2021-08-25T19:03:21.319537Z"
    },
    "tags": []
   },
   "outputs": [],
   "source": [
    "fmgmt.get_probe_directories(gate_dir, probe_regex=\"imec0\");"
   ]
  },
  {
   "cell_type": "code",
   "execution_count": 21,
   "metadata": {
    "execution": {
     "iopub.execute_input": "2021-08-25T19:03:21.737437Z",
     "iopub.status.busy": "2021-08-25T19:03:21.736501Z",
     "iopub.status.idle": "2021-08-25T19:03:21.768161Z",
     "shell.execute_reply": "2021-08-25T19:03:21.767543Z",
     "shell.execute_reply.started": "2021-08-25T19:03:21.737378Z"
    },
    "tags": []
   },
   "outputs": [],
   "source": [
    "fmgmt.get_gate_files(gate_dir);"
   ]
  },
  {
   "cell_type": "code",
   "execution_count": 22,
   "metadata": {
    "execution": {
     "iopub.execute_input": "2021-08-25T19:03:22.136345Z",
     "iopub.status.busy": "2021-08-25T19:03:22.135787Z",
     "iopub.status.idle": "2021-08-25T19:03:22.169616Z",
     "shell.execute_reply": "2021-08-25T19:03:22.168866Z",
     "shell.execute_reply.started": "2021-08-25T19:03:22.136288Z"
    },
    "tags": []
   },
   "outputs": [],
   "source": [
    "fmgmt.filter_files(fmgmt.get_gate_files(gate_dir), probe='imec0', stream='lf', ftype='bin');"
   ]
  },
  {
   "cell_type": "code",
   "execution_count": 23,
   "metadata": {
    "execution": {
     "iopub.execute_input": "2021-08-25T19:03:22.440631Z",
     "iopub.status.busy": "2021-08-25T19:03:22.440083Z",
     "iopub.status.idle": "2021-08-25T19:03:22.471842Z",
     "shell.execute_reply": "2021-08-25T19:03:22.471157Z",
     "shell.execute_reply.started": "2021-08-25T19:03:22.440575Z"
    },
    "tags": []
   },
   "outputs": [],
   "source": [
    "fmgmt.remove_suffixes(fmgmt.get_gate_files(gate_dir));"
   ]
  },
  {
   "cell_type": "code",
   "execution_count": 24,
   "metadata": {
    "execution": {
     "iopub.execute_input": "2021-08-25T19:03:22.872205Z",
     "iopub.status.busy": "2021-08-25T19:03:22.871647Z",
     "iopub.status.idle": "2021-08-25T19:03:22.900839Z",
     "shell.execute_reply": "2021-08-25T19:03:22.900246Z",
     "shell.execute_reply.started": "2021-08-25T19:03:22.872148Z"
    },
    "tags": []
   },
   "outputs": [],
   "source": [
    "fmgmt.separate_files_by_probe(fmgmt.get_gate_files(gate_dir));"
   ]
  },
  {
   "cell_type": "code",
   "execution_count": 62,
   "metadata": {
    "execution": {
     "iopub.execute_input": "2021-08-25T19:09:09.135261Z",
     "iopub.status.busy": "2021-08-25T19:09:09.134790Z",
     "iopub.status.idle": "2021-08-25T19:09:09.174323Z",
     "shell.execute_reply": "2021-08-25T19:09:09.173570Z",
     "shell.execute_reply.started": "2021-08-25T19:09:09.135206Z"
    },
    "tags": []
   },
   "outputs": [],
   "source": [
    "df1 = fmgmt.filelist_to_frame(fmgmt.get_gate_files(gate_dir));"
   ]
  },
  {
   "cell_type": "code",
   "execution_count": 190,
   "metadata": {
    "execution": {
     "iopub.execute_input": "2021-08-25T22:25:21.552522Z",
     "iopub.status.busy": "2021-08-25T22:25:21.551971Z",
     "iopub.status.idle": "2021-08-25T22:25:21.618894Z",
     "shell.execute_reply": "2021-08-25T22:25:21.618317Z",
     "shell.execute_reply.started": "2021-08-25T22:25:21.552466Z"
    },
    "tags": []
   },
   "outputs": [],
   "source": [
    "fmgmt.read_metadata(df1.path.values);"
   ]
  },
  {
   "cell_type": "code",
   "execution_count": 194,
   "metadata": {
    "execution": {
     "iopub.execute_input": "2021-08-25T22:26:06.041726Z",
     "iopub.status.busy": "2021-08-25T22:26:06.041266Z",
     "iopub.status.idle": "2021-08-25T22:26:06.117295Z",
     "shell.execute_reply": "2021-08-25T22:26:06.116673Z",
     "shell.execute_reply.started": "2021-08-25T22:26:06.041668Z"
    },
    "tags": []
   },
   "outputs": [],
   "source": [
    "fmgmt.filelist_to_frame(df1.path.values);"
   ]
  },
  {
   "cell_type": "markdown",
   "metadata": {
    "tags": []
   },
   "source": [
    "# Test ecephys.sglx.file_selection"
   ]
  },
  {
   "cell_type": "code",
   "execution_count": 25,
   "metadata": {
    "execution": {
     "iopub.execute_input": "2021-08-25T19:03:37.843597Z",
     "iopub.status.busy": "2021-08-25T19:03:37.843003Z",
     "iopub.status.idle": "2021-08-25T19:03:37.865826Z",
     "shell.execute_reply": "2021-08-25T19:03:37.865223Z",
     "shell.execute_reply.started": "2021-08-25T19:03:37.843540Z"
    },
    "tags": []
   },
   "outputs": [],
   "source": [
    "import ecephys.sglx.session_org_utils as sou"
   ]
  },
  {
   "cell_type": "code",
   "execution_count": 26,
   "metadata": {
    "execution": {
     "iopub.execute_input": "2021-08-25T19:04:07.452855Z",
     "iopub.status.busy": "2021-08-25T19:04:07.452252Z",
     "iopub.status.idle": "2021-08-25T19:04:07.484734Z",
     "shell.execute_reply": "2021-08-25T19:04:07.484138Z",
     "shell.execute_reply.started": "2021-08-25T19:04:07.452797Z"
    },
    "tags": []
   },
   "outputs": [],
   "source": [
    "sou._get_gate_directories(session_dir, run);"
   ]
  },
  {
   "cell_type": "code",
   "execution_count": 27,
   "metadata": {
    "execution": {
     "iopub.execute_input": "2021-08-25T19:04:07.777605Z",
     "iopub.status.busy": "2021-08-25T19:04:07.777143Z",
     "iopub.status.idle": "2021-08-25T19:04:07.822608Z",
     "shell.execute_reply": "2021-08-25T19:04:07.821908Z",
     "shell.execute_reply.started": "2021-08-25T19:04:07.777550Z"
    },
    "tags": []
   },
   "outputs": [],
   "source": [
    "sou._get_run_files(session_dir, run);"
   ]
  },
  {
   "cell_type": "code",
   "execution_count": 28,
   "metadata": {
    "execution": {
     "iopub.execute_input": "2021-08-25T19:04:08.081025Z",
     "iopub.status.busy": "2021-08-25T19:04:08.080469Z",
     "iopub.status.idle": "2021-08-25T19:04:08.279491Z",
     "shell.execute_reply": "2021-08-25T19:04:08.278442Z",
     "shell.execute_reply.started": "2021-08-25T19:04:08.080968Z"
    },
    "tags": []
   },
   "outputs": [],
   "source": [
    "sou._get_session_files(root_dir, session);"
   ]
  },
  {
   "cell_type": "code",
   "execution_count": 29,
   "metadata": {
    "execution": {
     "iopub.execute_input": "2021-08-25T19:04:08.369509Z",
     "iopub.status.busy": "2021-08-25T19:04:08.368954Z",
     "iopub.status.idle": "2021-08-25T19:04:08.657345Z",
     "shell.execute_reply": "2021-08-25T19:04:08.656289Z",
     "shell.execute_reply.started": "2021-08-25T19:04:08.369452Z"
    },
    "tags": []
   },
   "outputs": [],
   "source": [
    "sou._get_document_files(doc);"
   ]
  },
  {
   "cell_type": "code",
   "execution_count": 30,
   "metadata": {
    "execution": {
     "iopub.execute_input": "2021-08-25T19:04:08.664717Z",
     "iopub.status.busy": "2021-08-25T19:04:08.664192Z",
     "iopub.status.idle": "2021-08-25T19:04:08.720421Z",
     "shell.execute_reply": "2021-08-25T19:04:08.719756Z",
     "shell.execute_reply.started": "2021-08-25T19:04:08.664664Z"
    },
    "tags": []
   },
   "outputs": [],
   "source": [
    "sou.get_run_files(session_dir, run);"
   ]
  },
  {
   "cell_type": "code",
   "execution_count": 31,
   "metadata": {
    "execution": {
     "iopub.execute_input": "2021-08-25T19:04:08.993231Z",
     "iopub.status.busy": "2021-08-25T19:04:08.992790Z",
     "iopub.status.idle": "2021-08-25T19:04:09.194419Z",
     "shell.execute_reply": "2021-08-25T19:04:09.193745Z",
     "shell.execute_reply.started": "2021-08-25T19:04:08.993192Z"
    },
    "tags": []
   },
   "outputs": [],
   "source": [
    "sou.get_session_files(root_dir, session);"
   ]
  },
  {
   "cell_type": "code",
   "execution_count": 32,
   "metadata": {
    "execution": {
     "iopub.execute_input": "2021-08-25T19:04:09.312557Z",
     "iopub.status.busy": "2021-08-25T19:04:09.312171Z",
     "iopub.status.idle": "2021-08-25T19:04:09.606219Z",
     "shell.execute_reply": "2021-08-25T19:04:09.605544Z",
     "shell.execute_reply.started": "2021-08-25T19:04:09.312526Z"
    },
    "tags": []
   },
   "outputs": [],
   "source": [
    "sou.get_document_files(doc);"
   ]
  },
  {
   "cell_type": "code",
   "execution_count": 33,
   "metadata": {
    "execution": {
     "iopub.execute_input": "2021-08-25T19:04:09.627407Z",
     "iopub.status.busy": "2021-08-25T19:04:09.627092Z",
     "iopub.status.idle": "2021-08-25T19:04:09.844990Z",
     "shell.execute_reply": "2021-08-25T19:04:09.843763Z",
     "shell.execute_reply.started": "2021-08-25T19:04:09.627380Z"
    },
    "tags": []
   },
   "outputs": [],
   "source": [
    "sou._get_experiment_files(doc, 'sleep-homeostasis');"
   ]
  },
  {
   "cell_type": "code",
   "execution_count": 34,
   "metadata": {
    "execution": {
     "iopub.execute_input": "2021-08-25T19:04:09.944781Z",
     "iopub.status.busy": "2021-08-25T19:04:09.944269Z",
     "iopub.status.idle": "2021-08-25T19:04:10.082945Z",
     "shell.execute_reply": "2021-08-25T19:04:10.082229Z",
     "shell.execute_reply.started": "2021-08-25T19:04:09.944729Z"
    },
    "tags": []
   },
   "outputs": [],
   "source": [
    "sou.get_experiment_files(doc, 'sleep-homeostasis');"
   ]
  },
  {
   "cell_type": "code",
   "execution_count": 35,
   "metadata": {
    "execution": {
     "iopub.execute_input": "2021-08-25T19:04:10.264668Z",
     "iopub.status.busy": "2021-08-25T19:04:10.264380Z",
     "iopub.status.idle": "2021-08-25T19:04:10.434555Z",
     "shell.execute_reply": "2021-08-25T19:04:10.433735Z",
     "shell.execute_reply.started": "2021-08-25T19:04:10.264645Z"
    },
    "tags": []
   },
   "outputs": [],
   "source": [
    "sou.get_alias_files(doc, 'sleep-homeostasis', 'light-period-circadian-match');"
   ]
  },
  {
   "cell_type": "code",
   "execution_count": 36,
   "metadata": {
    "execution": {
     "iopub.execute_input": "2021-08-25T19:04:10.632382Z",
     "iopub.status.busy": "2021-08-25T19:04:10.632010Z",
     "iopub.status.idle": "2021-08-25T19:04:11.115536Z",
     "shell.execute_reply": "2021-08-25T19:04:11.114267Z",
     "shell.execute_reply.started": "2021-08-25T19:04:10.632338Z"
    },
    "tags": []
   },
   "outputs": [],
   "source": [
    "sou._get_yamlstream_files(docs);"
   ]
  },
  {
   "cell_type": "code",
   "execution_count": 49,
   "metadata": {
    "execution": {
     "iopub.execute_input": "2021-08-25T19:06:23.718365Z",
     "iopub.status.busy": "2021-08-25T19:06:23.717737Z",
     "iopub.status.idle": "2021-08-25T19:06:24.038373Z",
     "shell.execute_reply": "2021-08-25T19:06:24.037656Z",
     "shell.execute_reply.started": "2021-08-25T19:06:23.718308Z"
    },
    "tags": []
   },
   "outputs": [],
   "source": [
    "df2 = sou.get_yamlstream_files(docs);"
   ]
  },
  {
   "cell_type": "code",
   "execution_count": 50,
   "metadata": {
    "execution": {
     "iopub.execute_input": "2021-08-25T19:06:26.203154Z",
     "iopub.status.busy": "2021-08-25T19:06:26.202588Z",
     "iopub.status.idle": "2021-08-25T19:06:26.356288Z",
     "shell.execute_reply": "2021-08-25T19:06:26.355466Z",
     "shell.execute_reply.started": "2021-08-25T19:06:26.203098Z"
    },
    "tags": []
   },
   "outputs": [],
   "source": [
    "sou.get_files(docs, 'Allan', 'sleep-homeostasis', probe='imec0', stream='lf', ftype='bin');"
   ]
  },
  {
   "cell_type": "code",
   "execution_count": 227,
   "metadata": {
    "execution": {
     "iopub.execute_input": "2021-08-25T23:07:05.778499Z",
     "iopub.status.busy": "2021-08-25T23:07:05.777855Z",
     "iopub.status.idle": "2021-08-25T23:07:06.305084Z",
     "shell.execute_reply": "2021-08-25T23:07:06.304236Z",
     "shell.execute_reply.started": "2021-08-25T23:07:05.778440Z"
    },
    "tags": []
   },
   "outputs": [],
   "source": [
    "df3 = sou.get_files(docs, 'Allan', 'sleep-homeostasis', alias='light-period-circadian-match', probe='imec0', stream='lf', ftype='bin');"
   ]
  },
  {
   "cell_type": "markdown",
   "metadata": {},
   "source": [
    "# Under development"
   ]
  },
  {
   "cell_type": "code",
   "execution_count": 313,
   "metadata": {
    "execution": {
     "iopub.execute_input": "2021-08-26T01:21:51.433221Z",
     "iopub.status.busy": "2021-08-26T01:21:51.432753Z",
     "iopub.status.idle": "2021-08-26T01:21:51.458682Z",
     "shell.execute_reply": "2021-08-26T01:21:51.458105Z",
     "shell.execute_reply.started": "2021-08-26T01:21:51.433167Z"
    },
    "tags": []
   },
   "outputs": [],
   "source": [
    "# Now write functions to get analysis paths, replacing existing path parts and inserting at various points along the hierarchy. \n",
    "# Could remove run ordering from yamlspec file entirely. Then ordering is lost for analysis files, and you must have a manifest with file order in the analysis drive. No big deal. \n",
    "# Functions for analysis file management and for raw data management should be completely separate, even if it results in redundancy. \n",
    "# Analysis directory should not be specified in raw data yamlspec file. \n",
    "# Perhaps analysis directory hierarchy should not mirror SGLX hierarchy. Perhaps most files should just be saved in session folders. Have a session column in the analysis drive manifest. \n",
    "# One group of analysis file management functions should get a single subject, experiment, or alias file with an arbitrary name. Another should get a group of SGLX-style named analysis files from a session folder. \n",
    "# Later, we can improve on what \"SGLX style nameing\" means. \n",
    "# Analysis folders (e.g. \"spw-analysis\") should be above subject folders in the hierarchy. \n",
    "# Add time+datetime support to aliases\n",
    "# Just get a drop-in replacement working for now. Cut your losses. \n",
    "# Change files to paths where appropriate\n",
    "# Or maybe, sessions should just be explicit lists of absolute file paths, and aliases as well. Easy to generate this kind of a file, given the code you've already written. \n",
    "# There should be a config.py file for setting analysis/raw data mount points. "
   ]
  },
  {
   "cell_type": "code",
   "execution_count": 309,
   "metadata": {
    "execution": {
     "iopub.execute_input": "2021-08-26T00:17:58.883907Z",
     "iopub.status.busy": "2021-08-26T00:17:58.883434Z",
     "iopub.status.idle": "2021-08-26T00:18:02.003355Z",
     "shell.execute_reply": "2021-08-26T00:18:02.002610Z",
     "shell.execute_reply.started": "2021-08-26T00:17:58.883851Z"
    },
    "tags": []
   },
   "outputs": [],
   "source": [
    "df = sou.get_files(docs, 'Allan', 'sleep-homeostasis', alias='light-period-circadian-match', probe='imec0', stream='lf', ftype='bin');"
   ]
  },
  {
   "cell_type": "code",
   "execution_count": 310,
   "metadata": {
    "execution": {
     "iopub.execute_input": "2021-08-26T00:18:02.004522Z",
     "iopub.status.busy": "2021-08-26T00:18:02.004321Z",
     "iopub.status.idle": "2021-08-26T00:18:02.022774Z",
     "shell.execute_reply": "2021-08-26T00:18:02.022075Z",
     "shell.execute_reply.started": "2021-08-26T00:18:02.004504Z"
    },
    "tags": []
   },
   "outputs": [],
   "source": [
    "def validate_sglx_path(path):\n",
    "    (run, gate, trigger, probe, stream, ftype) = fmgmt.parse_sglx_fname(path.name) \n",
    "    probe_dir = path.parent\n",
    "    gate_dir = probe_dir.parent\n",
    "    assert probe_dir.name == f\"{run}_{gate}_{probe}\"\n",
    "    assert gate_dir.name == f\"{run}_{gate}\"\n",
    "    return gate_dir, probe_dir.name, path.name\n",
    "    \n",
    "def _get_path_parts(path):\n",
    "    gate_dir, probe_dirname, fname = validate_sglx_path(path)\n",
    "    session_dir = gate_dir.parent\n",
    "    subject_dir = session_dir.parent    \n",
    "    return subject_dir, session_dir.name, gate_dir.name, probe_dir.name, fname\n",
    "\n",
    "def get_analysis_counterpart(path, extension, analysis_subject_dir):\n",
    "    subject_dir, session_dirname, gate_dirname, probe_dirname, fname = _get_path_parts(path)\n",
    "    (run, gate, trigger, probe, stream, ftype) = fmgmt.parse_sglx_fname(fname)\n",
    "    new_fname = f\"{run}_{gate}.{probe}.{extension}\"\n",
    "    return analysis_subject_dir / session_dirname / gate_dirname / probe_dirname / new_fname\n",
    "\n",
    "def get_analysis_counterparts(paths, extension, analysis_subject_dir):\n",
    "    counterparts = [get_analysis_counterpart(p, extension, analysis_subject_dir) for p in paths]\n",
    "    return list(dict.fromkeys(counterparts))\n",
    "\n",
    "def get_path_parts(df):\n",
    "    return pd.DataFrame.from_records(map(_get_path_parts, df.path.values), columns=['subject_dir', 'session_dirname', 'gate_dirname', 'probe_dirname', 'fname'])\n",
    "    \n",
    "def add_path_parts(df):\n",
    "    return pd.concat([df, get_path_parts(df)], axis=1)"
   ]
  },
  {
   "cell_type": "code",
   "execution_count": 311,
   "metadata": {
    "execution": {
     "iopub.execute_input": "2021-08-26T00:18:02.023753Z",
     "iopub.status.busy": "2021-08-26T00:18:02.023557Z",
     "iopub.status.idle": "2021-08-26T00:18:02.040452Z",
     "shell.execute_reply": "2021-08-26T00:18:02.039956Z",
     "shell.execute_reply.started": "2021-08-26T00:18:02.023737Z"
    },
    "tags": []
   },
   "outputs": [],
   "source": [
    "analysis_subject_dir = Path('/Volumes/neuropixel_analysis/Data/chronic/CNPIX8-Allan/')"
   ]
  },
  {
   "cell_type": "code",
   "execution_count": 312,
   "metadata": {
    "execution": {
     "iopub.execute_input": "2021-08-26T00:18:02.041295Z",
     "iopub.status.busy": "2021-08-26T00:18:02.041147Z",
     "iopub.status.idle": "2021-08-26T00:18:02.054712Z",
     "shell.execute_reply": "2021-08-26T00:18:02.054309Z",
     "shell.execute_reply.started": "2021-08-26T00:18:02.041280Z"
    },
    "tags": []
   },
   "outputs": [
    {
     "data": {
      "text/plain": [
       "[PosixPath('/Volumes/neuropixel_analysis/Data/chronic/CNPIX8-Allan/3-1-2021/3-1-2021_g0/3-1-2021_A_g1_imec0/3-1-2021_g0.imec0.spg.nc'),\n",
       " PosixPath('/Volumes/neuropixel_analysis/Data/chronic/CNPIX8-Allan/3-1-2021/3-1-2021-a_g0/3-1-2021_A_g1_imec0/3-1-2021-a_g0.imec0.spg.nc'),\n",
       " PosixPath('/Volumes/neuropixel_analysis/Data/chronic/CNPIX8-Allan/3-1-2021/3-1-2021_A_g0/3-1-2021_A_g1_imec0/3-1-2021_A_g0.imec0.spg.nc'),\n",
       " PosixPath('/Volumes/neuropixel_analysis/Data/chronic/CNPIX8-Allan/3-1-2021/3-1-2021_A_g1/3-1-2021_A_g1_imec0/3-1-2021_A_g1.imec0.spg.nc'),\n",
       " PosixPath('/Volumes/neuropixel_analysis/Data/chronic/CNPIX8-Allan/3-1-2021/3-1-2021_B_g0/3-1-2021_A_g1_imec0/3-1-2021_B_g0.imec0.spg.nc'),\n",
       " PosixPath('/Volumes/neuropixel_analysis/Data/chronic/CNPIX8-Allan/3-1-2021/3-1-2021_C_g0/3-1-2021_A_g1_imec0/3-1-2021_C_g0.imec0.spg.nc')]"
      ]
     },
     "execution_count": 312,
     "metadata": {},
     "output_type": "execute_result"
    }
   ],
   "source": [
    "get_analysis_counterparts(df.path.values, 'spg.nc', analysis_subject_dir)"
   ]
  },
  {
   "cell_type": "code",
   "execution_count": null,
   "metadata": {},
   "outputs": [],
   "source": []
  }
 ],
 "metadata": {
  "kernelspec": {
   "display_name": "Python 3 (ipykernel)",
   "language": "python",
   "name": "python3"
  },
  "language_info": {
   "codemirror_mode": {
    "name": "ipython",
    "version": 3
   },
   "file_extension": ".py",
   "mimetype": "text/x-python",
   "name": "python",
   "nbconvert_exporter": "python",
   "pygments_lexer": "ipython3",
   "version": "3.7.10"
  }
 },
 "nbformat": 4,
 "nbformat_minor": 4
}
