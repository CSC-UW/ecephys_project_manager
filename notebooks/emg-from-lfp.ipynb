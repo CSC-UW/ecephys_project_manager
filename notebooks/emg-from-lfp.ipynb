{
 "cells": [
  {
   "cell_type": "code",
   "execution_count": null,
   "metadata": {},
   "outputs": [],
   "source": [
    "%load_ext autoreload\n",
    "%autoreload 2"
   ]
  },
  {
   "cell_type": "markdown",
   "metadata": {},
   "source": [
    "# Imports and definitions"
   ]
  },
  {
   "cell_type": "code",
   "execution_count": null,
   "metadata": {},
   "outputs": [],
   "source": [
    "from pathlib import Path\n",
    "import numpy as np\n",
    "import pandas as pd\n",
    "from datetime import datetime\n",
    "import xarray as xr"
   ]
  },
  {
   "cell_type": "code",
   "execution_count": null,
   "metadata": {},
   "outputs": [],
   "source": [
    "from emg_from_lfp import compute_emg\n",
    "from ecephys_analyses.data import channel_groups, paths\n",
    "from ecephys.sglx_utils import load_timeseries"
   ]
  },
  {
   "cell_type": "code",
   "execution_count": null,
   "metadata": {},
   "outputs": [],
   "source": [
    "EMG_OPTS = dict(target_sf=20, window_size=25.0, wp=[300, 600], ws=[275, 625], gpass=1, gstop=60, ftype='butter')"
   ]
  },
  {
   "cell_type": "code",
   "execution_count": null,
   "metadata": {},
   "outputs": [],
   "source": [
    "def run_emg_pipeline_on_file(bin_path, emg_path, emg_chans):\n",
    "    emg_sig = load_timeseries(bin_path, emg_chans)\n",
    "    emg_values = compute_emg(emg_sig.values.T, emg_sig.fs, **EMG_OPTS).T\n",
    "    emg_times = np.linspace(np.min(emg_sig.time), np.max(emg_sig.time), len(emg_values))\n",
    "    emg = xr.DataArray(emg_values.flatten(), dims=\"time\", coords={\"time\": emg_times})\n",
    "    emg.attrs['long_name'] = 'EMG'\n",
    "    emg.attrs['units'] = 'zero-lag correlation'\n",
    "    emg.attrs['file_start'] = emg_sig.file_create_time \n",
    "    for key in EMG_OPTS:\n",
    "        emg.attrs[key] = EMG_OPTS[key]\n",
    "    emg.to_netcdf(emg_path)\n",
    "    emg.close()"
   ]
  },
  {
   "cell_type": "code",
   "execution_count": null,
   "metadata": {},
   "outputs": [],
   "source": [
    "def run_emg_pipeline_on_condition(subject, condition):\n",
    "    emg_chans = channel_groups.emg[subject]\n",
    "    \n",
    "    bin_paths = paths.get_sglx_style_datapaths(subject=subject, condition=condition, ext=\"lf.bin\")\n",
    "    emg_paths = paths.get_sglx_style_datapaths(subject=subject, condition=condition, ext=\"emg.nc\")\n",
    "\n",
    "    for bin_path, emg_path in zip(bin_paths, emg_paths):\n",
    "        run_emg_pipeline_on_file(bin_path, emg_path, emg_chans)\n",
    "        current_time = datetime.now().strftime(\"%H:%M:%S\")\n",
    "        print(f\"{current_time}: Finished {str(bin_path)}\")"
   ]
  },
  {
   "cell_type": "markdown",
   "metadata": {},
   "source": [
    "# Run automated pipeline"
   ]
  },
  {
   "cell_type": "markdown",
   "metadata": {},
   "source": [
    "### Valentino"
   ]
  },
  {
   "cell_type": "code",
   "execution_count": null,
   "metadata": {},
   "outputs": [],
   "source": [
    "run_emg_pipeline_on_condition(subject=\"Segundo\", condition=\"recovery-sleep-6h\")"
   ]
  },
  {
   "cell_type": "markdown",
   "metadata": {},
   "source": [
    "### Valentino"
   ]
  },
  {
   "cell_type": "code",
   "execution_count": null,
   "metadata": {},
   "outputs": [],
   "source": [
    "run_emg_pipeline_on_condition(subject=\"Valentino\", condition=\"recovery-sleep-6h\")"
   ]
  },
  {
   "cell_type": "markdown",
   "metadata": {},
   "source": [
    "### Doppio"
   ]
  },
  {
   "cell_type": "code",
   "execution_count": null,
   "metadata": {
    "execution": {
     "iopub.execute_input": "2021-01-26T22:29:43.201724Z",
     "iopub.status.busy": "2021-01-26T22:29:43.201242Z"
    }
   },
   "outputs": [
    {
     "name": "stdout",
     "output_type": "stream",
     "text": [
      "nChan: 385, nFileSamp: 18000019\n"
     ]
    }
   ],
   "source": [
    "run_emg_pipeline_on_condition(subject=\"Doppio\", condition=\"sleep-deprivation-12h-circadian-match\")"
   ]
  },
  {
   "cell_type": "code",
   "execution_count": null,
   "metadata": {},
   "outputs": [],
   "source": [
    "run_emg_pipeline_on_condition(subject=\"Doppio\", condition=\"recovery-sleep-6h\")"
   ]
  },
  {
   "cell_type": "markdown",
   "metadata": {},
   "source": [
    "### Alessandro"
   ]
  },
  {
   "cell_type": "code",
   "execution_count": null,
   "metadata": {},
   "outputs": [],
   "source": [
    "run_emg_pipeline_on_condition(subject=\"Alessandro\", condition=\"extended-wake\")"
   ]
  },
  {
   "cell_type": "code",
   "execution_count": null,
   "metadata": {},
   "outputs": [],
   "source": [
    "run_emg_pipeline_on_condition(subject=\"Alessandro\", condition=\"recovery-sleep-6h\")"
   ]
  },
  {
   "cell_type": "markdown",
   "metadata": {},
   "source": [
    "### Eugene"
   ]
  },
  {
   "cell_type": "code",
   "execution_count": null,
   "metadata": {},
   "outputs": [],
   "source": [
    "run_emg_pipeline_on_condition(subject=\"Eugene\", condition=\"extended-wake\")"
   ]
  },
  {
   "cell_type": "code",
   "execution_count": null,
   "metadata": {},
   "outputs": [],
   "source": [
    "run_emg_pipeline_on_condition(subject=\"Eugene\", condition=\"recovery-sleep-6h\")"
   ]
  },
  {
   "cell_type": "markdown",
   "metadata": {
    "collapsed": "true"
   },
   "source": [
    "# Run pipeline piecemeal"
   ]
  },
  {
   "cell_type": "code",
   "execution_count": null,
   "metadata": {},
   "outputs": [],
   "source": [
    "import matplotlib.pyplot as plt\n",
    "from neurodsp.plts.time_series import plot_time_series\n",
    "from ecephys.scoring import load_visbrain_hypnogram\n",
    "from ecephys.plot import plot_hypnogram_overlay"
   ]
  },
  {
   "cell_type": "code",
   "execution_count": null,
   "metadata": {},
   "outputs": [],
   "source": [
    "SUBJECT = \"Segundo\"\n",
    "CONDITION = \"REC-2-0\"\n",
    "START_TIME = 0\n",
    "END_TIME = None\n",
    "bin_path = paths.get_datapath(subject=SUBJECT, condition=CONDITION, data=\"lf.bin\")"
   ]
  },
  {
   "cell_type": "code",
   "execution_count": null,
   "metadata": {},
   "outputs": [],
   "source": [
    "emg_chans = channel_groups.emg[SUBJECT]\n",
    "emg_sig = load_timeseries(bin_path, emg_chans, start_time=START_TIME, end_time=END_TIME, xarray=True)"
   ]
  },
  {
   "cell_type": "code",
   "execution_count": null,
   "metadata": {},
   "outputs": [],
   "source": [
    "emg_opts = dict(target_sf=20, window_size=25.0, wp=[300, 600], ws=[275, 625], gpass=1, gstop=60, ftype='butter')\n",
    "emg_values = compute_EMG(emg_sig.values.T, emg_sig.fs, **emg_opts).T"
   ]
  },
  {
   "cell_type": "code",
   "execution_count": null,
   "metadata": {},
   "outputs": [],
   "source": [
    "emg_times = np.linspace(np.min(emg_sig.time), np.max(emg_sig.time), len(emg_values)) + START_TIME"
   ]
  },
  {
   "cell_type": "code",
   "execution_count": null,
   "metadata": {},
   "outputs": [],
   "source": [
    "emg = xr.DataArray(emg_values.flatten(), dims=\"time\", coords={\"time\": emg_times})\n",
    "emg.attrs['long_name'] = 'EMG'\n",
    "emg.attrs['units'] = 'zero-lag correlation'\n",
    "for key in emg_opts:\n",
    "    emg.attrs[key] = emg_opts[key]"
   ]
  },
  {
   "cell_type": "code",
   "execution_count": null,
   "metadata": {},
   "outputs": [],
   "source": [
    "_, ax = plt.subplots(figsize=(24, 3))\n",
    "plot_time_series(emg.time.values, emg.values, ax=ax)\n",
    "#plot_hypnogram_overlay(hypno, ax=ax)"
   ]
  },
  {
   "cell_type": "markdown",
   "metadata": {},
   "source": [
    "### Save"
   ]
  },
  {
   "cell_type": "code",
   "execution_count": null,
   "metadata": {},
   "outputs": [],
   "source": [
    "emg_ds = xr.Dataset({\"emg\": emg})"
   ]
  },
  {
   "cell_type": "code",
   "execution_count": null,
   "metadata": {},
   "outputs": [],
   "source": [
    "emg_ds.to_netcdf(paths.get_datapath(subject=SUBJECT, condition=CONDITION, data=\"emg.nc\"))"
   ]
  },
  {
   "cell_type": "code",
   "execution_count": null,
   "metadata": {},
   "outputs": [],
   "source": [
    "emg_ds.close()"
   ]
  },
  {
   "cell_type": "code",
   "execution_count": null,
   "metadata": {},
   "outputs": [],
   "source": []
  }
 ],
 "metadata": {
  "kernelspec": {
   "display_name": "Python 3",
   "language": "python",
   "name": "python3"
  },
  "language_info": {
   "codemirror_mode": {
    "name": "ipython",
    "version": 3
   },
   "file_extension": ".py",
   "mimetype": "text/x-python",
   "name": "python",
   "nbconvert_exporter": "python",
   "pygments_lexer": "ipython3",
   "version": "3.7.9"
  }
 },
 "nbformat": 4,
 "nbformat_minor": 4
}
