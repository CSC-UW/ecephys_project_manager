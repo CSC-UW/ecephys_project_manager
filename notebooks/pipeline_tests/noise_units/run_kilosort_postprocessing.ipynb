{
 "cells": [
  {
   "cell_type": "code",
   "execution_count": 25,
   "metadata": {
    "execution": {
     "iopub.execute_input": "2020-12-31T20:00:58.806552Z",
     "iopub.status.busy": "2020-12-31T20:00:58.806111Z",
     "iopub.status.idle": "2020-12-31T20:00:58.823039Z",
     "shell.execute_reply": "2020-12-31T20:00:58.821897Z",
     "shell.execute_reply.started": "2020-12-31T20:00:58.806495Z"
    }
   },
   "outputs": [
    {
     "name": "stdout",
     "output_type": "stream",
     "text": [
      "The autoreload extension is already loaded. To reload it, use:\n",
      "  %reload_ext autoreload\n"
     ]
    }
   ],
   "source": [
    "%load_ext autoreload\n",
    "%autoreload 2"
   ]
  },
  {
   "cell_type": "code",
   "execution_count": 53,
   "metadata": {},
   "outputs": [],
   "source": [
    "from ecephys_analyses.sorting.postprocessing import run_postprocessing"
   ]
  },
  {
   "cell_type": "code",
   "execution_count": 54,
   "metadata": {},
   "outputs": [],
   "source": [
    "## USER\n",
    "\n",
    "ks_sorting_condition = 'ks2_5_catgt_df'\n",
    "postprocessing_condition = 'postprocess_df'\n",
    "postprocessing_condition = 'postpro_1'\n",
    "\n",
    "# Subject, condition, catgt data\n",
    "data_conditions = [\n",
    "#     ('Eugene', '10-9-2020_NREM_depth1.2_imec0', True),\n",
    "#     ('Eugene', '10-9-2020_NREM_depth0.9_imec0', True),\n",
    "]\n",
    "\n",
    "n_jobs = 1  # Don't parallelize (possibly messed up tmp directories?)\n",
    "assert n_jobs == 1\n",
    "\n",
    "## end USER"
   ]
  },
  {
   "cell_type": "code",
   "execution_count": 52,
   "metadata": {},
   "outputs": [
    {
     "name": "stdout",
     "output_type": "stream",
     "text": [
      "Eugene 10-9-2020_NREM_depth0.9_imec0 True ks2_5_catgt_df postpro_1\n",
      "catGT preprocessed data: /Volumes/neuropixel/Data/tom/catgt/CNPIX6-Eugene/10-9-2020-B/catgt_10.9.2020StimDepN_g5/10.9.2020StimDepN_g5_imec0/10.9.2020StimDepN_g5_tcat.imec0.ap.bin\n",
      "\n",
      "Kilosort input results dir: /Volumes/neuropixel/Data/tom/catgt/CNPIX6-Eugene/10-9-2020_NREM_depth0.9_imec0/ks2_5_catgt_df\n",
      "\n",
      "Removing ks dir at /Volumes/neuropixel/Data/tom/catgt/CNPIX6-Eugene/10-9-2020_NREM_depth0.9_imec0/ks2_5_catgt_df_postpro_1..\n",
      "Copying original ks dir to /Volumes/neuropixel/Data/tom/catgt/CNPIX6-Eugene/10-9-2020_NREM_depth0.9_imec0/ks2_5_catgt_df_postpro_1\n",
      "\n",
      "SpikeGLX params read from meta\n",
      "probe type: NP1, sample_rate: 30000.08301, num_channels: 385, uVPerBit: 2.3438\n",
      "kilosort output directory: /Volumes/neuropixel/Data/tom/catgt/CNPIX6-Eugene/10-9-2020_NREM_depth0.9_imec0/ks2_5_catgt_df_postpro_1\n",
      "{'use_random_forest': False, 'min_spread_threshold': 2, 'mid_spread_threshold': 16, 'max_spread_threshold': 25, 'min_wavelet_peak_height': 0.0, 'min_wavelet_peak_loc': 0, 'max_wavelet_peak_loc': 50, 'min_temporal_peak_location': 2, 'max_temporal_peak_location': 50, 'peak_locs_std_thresh': 20}\n",
      "running\n",
      "Running command `python -W ignore -m ecephys_spike_sorting.modules.noise_templates --input_json /Volumes/neuropixel/Data/tom/catgt/CNPIX6-Eugene/10-9-2020_NREM_depth0.9_imec0/ks2_5_catgt_df_postpro_1/postprocessing-input.json --output_json /Volumes/neuropixel/Data/tom/catgt/CNPIX6-Eugene/10-9-2020_NREM_depth0.9_imec0/ks2_5_catgt_df_postpro_1/noise_templates-output.json`\n",
      "08:04:43: Finished Eugene, 10-9-2020_NREM_depth0.9_imec0, ks2_5_catgt_df.\n",
      "Run time = 0:00:21.844632\n",
      "\n"
     ]
    }
   ],
   "source": [
    "for (subject, condition, catgt_data) in data_conditions:\n",
    "    print(subject, condition, catgt_data, ks_sorting_condition, postprocessing_condition)\n",
    "    assert catgt_data\n",
    "    run_postprocessing(\n",
    "        subject,\n",
    "        condition,\n",
    "        ks_sorting_condition,\n",
    "        postprocessing_condition,\n",
    "        catgt_data=True,\n",
    "        rerun_existing=False,\n",
    "    )"
   ]
  }
 ],
 "metadata": {
  "kernelspec": {
   "display_name": "Python 3",
   "language": "python",
   "name": "python3"
  },
  "language_info": {
   "codemirror_mode": {
    "name": "ipython",
    "version": 3
   },
   "file_extension": ".py",
   "mimetype": "text/x-python",
   "name": "python",
   "nbconvert_exporter": "python",
   "pygments_lexer": "ipython3",
   "version": "3.7.7"
  }
 },
 "nbformat": 4,
 "nbformat_minor": 4
}
