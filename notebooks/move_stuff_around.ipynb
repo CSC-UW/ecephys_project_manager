{
 "cells": [
  {
   "cell_type": "code",
   "execution_count": null,
   "metadata": {},
   "outputs": [],
   "source": [
    "%load_ext autoreload\n",
    "%autoreload 2"
   ]
  },
  {
   "cell_type": "code",
   "execution_count": null,
   "metadata": {},
   "outputs": [],
   "source": [
    "from pathlib import Path\n",
    "import pandas as pd\n",
    "from ecephys_analyses.data import paths\n",
    "\n",
    "from ecephys import sglx_utils\n"
   ]
  },
  {
   "cell_type": "markdown",
   "metadata": {},
   "source": [
    "# Stim_times.txt"
   ]
  },
  {
   "cell_type": "code",
   "execution_count": null,
   "metadata": {},
   "outputs": [],
   "source": [
    "### Allan"
   ]
  },
  {
   "cell_type": "code",
   "execution_count": null,
   "metadata": {},
   "outputs": [],
   "source": [
    "# simple conditions"
   ]
  },
  {
   "cell_type": "code",
   "execution_count": null,
   "metadata": {},
   "outputs": [],
   "source": [
    "conditions =  [\n",
    "#     '3-5-2021_g0_imec0',\n",
    "#     '3-5-2021_g0_imec1',\n",
    "    '3-5-2021_g2_imec0',\n",
    "    '3-5-2021_g2_imec1',\n",
    "    '3-5-2021_g3_imec0',\n",
    "    '3-5-2021_g3_imec1',\n",
    "#     '3-5-2021_g4_imec0',\n",
    "#     '3-5-2021_g4_imec1',\n",
    "#     '3-5-2021_g5_imec0',\n",
    "#     '3-5-2021_g5_imec1',\n",
    "#     '3-5-2021_g6_imec0',\n",
    "#     '3-5-2021_g6_imec1',\n",
    "]\n",
    "print(conditions)\n"
   ]
  },
  {
   "cell_type": "code",
   "execution_count": null,
   "metadata": {},
   "outputs": [],
   "source": [
    "for cond in conditions:\n",
    "    path = paths.get_datapath('Allan', cond, 'dummy')\n",
    "    print(path.parent)\n",
    "    path.parent.mkdir()"
   ]
  },
  {
   "cell_type": "code",
   "execution_count": null,
   "metadata": {},
   "outputs": [],
   "source": [
    "# Combined"
   ]
  },
  {
   "cell_type": "code",
   "execution_count": null,
   "metadata": {},
   "outputs": [],
   "source": [
    "combined_cond = '3-5-2021_g2-3_imec1'\n",
    "conditions =  paths.load_datapath_yaml()['Allan'][combined_cond]\n",
    "print(conditions)\n"
   ]
  },
  {
   "cell_type": "code",
   "execution_count": null,
   "metadata": {},
   "outputs": [],
   "source": [
    "dfs = []\n",
    "start_time = 0\n",
    "for cond in conditions:\n",
    "    print(cond, 'start time', start_time)\n",
    "    path = paths.get_datapath('Allan', cond, 'stim_times.csv')\n",
    "    df = pd.read_csv(path)\n",
    "    df['sglx_stim_time'] = df['sglx_stim_time'] + start_time\n",
    "    dfs.append(df)\n",
    "    binpaths = paths.get_sglx_style_datapaths('Allan', cond, 'ap.bin', catgt_data=True)\n",
    "    assert len(binpaths) == 1\n",
    "    start_time = float(sglx_utils.get_meta(binpaths[0])['fileTimeSecs'])\n",
    "df_combined = pd.concat(dfs)\n",
    "    \n",
    "#     end_time \n",
    "#     df\n",
    "#     print(path.exists())\n",
    "#     print(path)\n",
    "    "
   ]
  },
  {
   "cell_type": "code",
   "execution_count": null,
   "metadata": {},
   "outputs": [],
   "source": [
    "save_path = paths.get_datapath('Allan', combined_cond, 'stim_times.csv')\n",
    "save_path"
   ]
  },
  {
   "cell_type": "code",
   "execution_count": null,
   "metadata": {},
   "outputs": [],
   "source": [
    "df_combined.to_csv(save_path, index=False)"
   ]
  },
  {
   "cell_type": "code",
   "execution_count": null,
   "metadata": {},
   "outputs": [],
   "source": [
    "### EUGENE"
   ]
  },
  {
   "cell_type": "code",
   "execution_count": null,
   "metadata": {},
   "outputs": [],
   "source": [
    "eugene = pd.read_excel('Eugene.xlsx', engine='openpyxl')"
   ]
  },
  {
   "cell_type": "code",
   "execution_count": null,
   "metadata": {},
   "outputs": [],
   "source": [
    "eugene.columns"
   ]
  },
  {
   "cell_type": "code",
   "execution_count": null,
   "metadata": {},
   "outputs": [],
   "source": [
    "eugene.columns = 'datapath', 'state', 'depth', 'stimpath', 'N_trials', 'trials_reordered_BL'"
   ]
  },
  {
   "cell_type": "code",
   "execution_count": null,
   "metadata": {},
   "outputs": [],
   "source": [
    "eugene['datapath'][0:1].values"
   ]
  },
  {
   "cell_type": "code",
   "execution_count": null,
   "metadata": {},
   "outputs": [],
   "source": [
    "conditions = paths.get_conditions('Eugene', 'eStim')"
   ]
  },
  {
   "cell_type": "code",
   "execution_count": null,
   "metadata": {},
   "outputs": [],
   "source": [
    "eugene[0:10]"
   ]
  },
  {
   "cell_type": "code",
   "execution_count": null,
   "metadata": {},
   "outputs": [],
   "source": [
    "# add condition dir to run path\n",
    "\n",
    "for cond in conditions: \n",
    "    pathname = paths.get_sglx_style_datapaths('Eugene', cond, 'ap.bin')[0]\n",
    "    rundir = pathname.parents[1]\n",
    "    run = rundir.name\n",
    "    for i, row in eugene.iterrows():\n",
    "        path = row['datapath']\n",
    "        assert rundir not in eugene.columns or eugene.iloc[i, 'rundir'] is None \n",
    "        if run in path:\n",
    "            eugene.loc[i, 'rundir'] = rundir\n",
    "            eugene.loc[i, 'condition'] = cond.split('_imec')[0]"
   ]
  },
  {
   "cell_type": "code",
   "execution_count": null,
   "metadata": {},
   "outputs": [],
   "source": [
    "eugene['condition']"
   ]
  },
  {
   "cell_type": "code",
   "execution_count": null,
   "metadata": {},
   "outputs": [],
   "source": [
    "import numpy as np\n",
    "\n",
    "# for i, row in eugene.iterrows():\n",
    "for cond in conditions:\n",
    "    for i, row in eugene.iterrows():\n",
    "        if row['condition'] not in cond:\n",
    "            continue\n",
    "        stimpath = row['stimpath'].split('CNPIX6-Eugene')[1].replace('\\\\', '/').replace(\"'\", '')\n",
    "\n",
    "        stimpath = Path('/Volumes/neuropixel/Data/CNPIX6-Eugene' + stimpath)\n",
    "    #     print(stimpath, stimpath.exists())\n",
    "\n",
    "        stim_times = pd.read_csv(stimpath, header=None)\n",
    "\n",
    "        df = pd.DataFrame({'sglx_stim_time': np.concatenate(stim_times.values), 'stim_state': row['state']})\n",
    "        print(df[0:5])\n",
    "\n",
    "    #     dfpath = path.get_filename()\n",
    "        df_path = paths.get_datapath('Eugene', cond, 'stim_times.csv')\n",
    "        print(df_path)\n",
    "\n",
    "        df.to_csv(df_path, index=False)\n",
    "\n",
    "    #     if i > 3:\n",
    "    #         break\n",
    "    #     stimtimes = "
   ]
  },
  {
   "cell_type": "code",
   "execution_count": null,
   "metadata": {},
   "outputs": [],
   "source": [
    "### Alessandro"
   ]
  },
  {
   "cell_type": "code",
   "execution_count": null,
   "metadata": {},
   "outputs": [],
   "source": [
    "aless = pd.read_excel('Alessandro stim location.xlsx', engine='openpyxl')"
   ]
  },
  {
   "cell_type": "code",
   "execution_count": null,
   "metadata": {},
   "outputs": [],
   "source": [
    "aless.columns"
   ]
  },
  {
   "cell_type": "code",
   "execution_count": null,
   "metadata": {},
   "outputs": [],
   "source": [
    "aless.columns = 'datapath', 'state', 'depth', 'stimpath', 'N_trials', 'trials_reordered_BL'"
   ]
  },
  {
   "cell_type": "code",
   "execution_count": null,
   "metadata": {},
   "outputs": [],
   "source": [
    "aless['datapath'][0:1].values"
   ]
  },
  {
   "cell_type": "code",
   "execution_count": null,
   "metadata": {},
   "outputs": [],
   "source": [
    "conditions = paths.get_conditions('Alessandro', 'eStim')"
   ]
  },
  {
   "cell_type": "code",
   "execution_count": null,
   "metadata": {},
   "outputs": [],
   "source": [
    "aless[0:10]"
   ]
  },
  {
   "cell_type": "code",
   "execution_count": null,
   "metadata": {},
   "outputs": [],
   "source": [
    "# add condition dir to run path\n",
    "\n",
    "for cond in conditions: \n",
    "    pathname = paths.get_sglx_style_datapaths('Alessandro', cond, 'ap.bin')[0]\n",
    "    rundir = pathname.parents[1]\n",
    "    run = rundir.name\n",
    "    for i, row in aless.iterrows():\n",
    "        path = row['datapath']\n",
    "        assert rundir not in aless.columns or aless.iloc[i, 'rundir'] is None \n",
    "        if run in path:\n",
    "            aless.loc[i, 'rundir'] = rundir\n",
    "            aless.loc[i, 'condition'] = cond"
   ]
  },
  {
   "cell_type": "code",
   "execution_count": null,
   "metadata": {},
   "outputs": [],
   "source": [
    "aless"
   ]
  },
  {
   "cell_type": "code",
   "execution_count": null,
   "metadata": {},
   "outputs": [],
   "source": [
    "aless['condition']"
   ]
  },
  {
   "cell_type": "code",
   "execution_count": null,
   "metadata": {},
   "outputs": [],
   "source": [
    "aless['rundir'][0]"
   ]
  },
  {
   "cell_type": "code",
   "execution_count": null,
   "metadata": {},
   "outputs": [],
   "source": [
    "aless['stimpath'][0]"
   ]
  },
  {
   "cell_type": "code",
   "execution_count": null,
   "metadata": {},
   "outputs": [],
   "source": [
    "import numpy as np\n",
    "\n",
    "# for i, row in eugene.iterrows():\n",
    "for cond in conditions:\n",
    "    for i, row in aless.iterrows():\n",
    "        if row['condition'] not in cond:\n",
    "            continue\n",
    "        stimpath = row['stimpath'].split('CNPIX5-Alessandro')[1].replace('\\\\', '/').replace(\"'\", '')\n",
    "\n",
    "        stimpath = Path('/Volumes/neuropixel/Data/CNPIX5-Alessandro' + stimpath)\n",
    "        print(stimpath, stimpath.exists())\n",
    "\n",
    "        stim_times = pd.read_csv(stimpath, header=None)\n",
    "\n",
    "        df = pd.DataFrame({'sglx_stim_time': np.concatenate(stim_times.values), 'stim_state': row['state']})\n",
    "        print(df[0:5])\n",
    "\n",
    "    #     dfpath = path.get_filename()\n",
    "        df_path = paths.get_datapath('Alessandro', cond, 'stim_times.csv')\n",
    "        print(df_path)\n",
    "\n",
    "        df_path.parent.mkdir()\n",
    "        df.to_csv(df_path, index=False)\n",
    "\n",
    "    #     if i > 3:\n",
    "    #         break\n",
    "    #     stimtimes = "
   ]
  },
  {
   "cell_type": "code",
   "execution_count": null,
   "metadata": {},
   "outputs": [],
   "source": [
    "# Giuseppe Combined"
   ]
  },
  {
   "cell_type": "code",
   "execution_count": null,
   "metadata": {},
   "outputs": [],
   "source": [
    "combined_cond = '8-31-2020_REMmerged_imec0'\n",
    "conditions =  paths.load_datapath_yaml()['Alessandro'][combined_cond]\n",
    "# conds = paths.get_sglx_style_datapaths('Giuseppe', '12-27-2020_Wake_NREM_REM_depth1.5_imec0', 'dummy')\n",
    "print(conditions)"
   ]
  },
  {
   "cell_type": "code",
   "execution_count": null,
   "metadata": {},
   "outputs": [],
   "source": [
    "# dfs = []\n",
    "# start_time = 0\n",
    "# for cond in conditions:\n",
    "#     path = (paths.get_datapath('Alessandro', cond, 'stim_times.csv'))\n",
    "#     df = pd.read_csv(path)\n",
    "#     df['sglx_stim_time'] = df['sglx_stim_time'] + start_time\n",
    "#     dfs.append(df)\n",
    "# #     binpaths = paths.get_sglx_style_datapaths('Giuseppe', cond, 'ap.bin', catgt_data=True)\n",
    "#     assert len(binpaths) == 1\n",
    "#     start_time = float(sglx_utils.get_meta(binpaths[0])['fileTimeSecs'])\n",
    "# df_combined = pd.concat(dfs)\n",
    "# df_combined\n",
    "    \n",
    "# #     end_time \n",
    "# #     df\n",
    "# #     print(path.exists())\n",
    "# #     print(path)\n",
    "    "
   ]
  },
  {
   "cell_type": "code",
   "execution_count": null,
   "metadata": {},
   "outputs": [],
   "source": [
    "# Giuseppe"
   ]
  },
  {
   "cell_type": "code",
   "execution_count": null,
   "metadata": {},
   "outputs": [],
   "source": [
    "# Combined"
   ]
  },
  {
   "cell_type": "code",
   "execution_count": null,
   "metadata": {},
   "outputs": [],
   "source": [
    "combined_cond = '12-27-2020_Wake_NREM_REM_depth1.5_imec0'\n",
    "conditions =  paths.load_datapath_yaml()['Giuseppe'][combined_cond]\n",
    "# conds = paths.get_sglx_style_datapaths('Giuseppe', '12-27-2020_Wake_NREM_REM_depth1.5_imec0', 'dummy')\n",
    "# conds"
   ]
  },
  {
   "cell_type": "code",
   "execution_count": null,
   "metadata": {},
   "outputs": [],
   "source": [
    "dfs = []\n",
    "start_time = 0\n",
    "for cond in conditions:\n",
    "    path = (paths.get_sglx_style_datapaths('Giuseppe', cond, 'dummy', catgt_data=True)[0].parents[1])/'stim_times.csv'\n",
    "    df = pd.read_csv(path)\n",
    "    df['sglx_stim_time'] = df['sglx_stim_time'] + start_time\n",
    "    dfs.append(df)\n",
    "    binpaths = paths.get_sglx_style_datapaths('Giuseppe', cond, 'ap.bin', catgt_data=True)\n",
    "    assert len(binpaths) == 1\n",
    "    start_time = float(sglx_utils.get_meta(binpaths[0])['fileTimeSecs'])\n",
    "df_combined = pd.concat(dfs)\n",
    "    \n",
    "#     end_time \n",
    "#     df\n",
    "#     print(path.exists())\n",
    "#     print(path)\n",
    "    "
   ]
  },
  {
   "cell_type": "code",
   "execution_count": null,
   "metadata": {},
   "outputs": [],
   "source": [
    "save_path = paths.get_datapath('Giuseppe', combined_cond, 'stim_times.csv')\n",
    "save_path"
   ]
  },
  {
   "cell_type": "code",
   "execution_count": null,
   "metadata": {},
   "outputs": [],
   "source": [
    "df_combined.to_csv(save_path, index=False)"
   ]
  },
  {
   "cell_type": "markdown",
   "metadata": {},
   "source": [
    "# Channel depths"
   ]
  },
  {
   "cell_type": "code",
   "execution_count": null,
   "metadata": {},
   "outputs": [],
   "source": [
    "# metapath = Path('/Volumes/scratch/neuropixels/data/tom/catgt/CNPIX4-Doppio/3-17-2020/catgt_3-17-2020_g0/3-17-2020_g0_imec0/3-17-2020_g0_tcat.imec0.ap.meta')\n",
    "metapath = Path('/Volumes/scratch/neuropixels/data/tom/catgt/CNPIX8-Allan/3-1-2021/catgt_3-1-2021_C_g0/3-1-2021_C_g0_imec1/3-1-2021_C_g0_tcat.imec1.ap.meta')"
   ]
  },
  {
   "cell_type": "code",
   "execution_count": null,
   "metadata": {},
   "outputs": [],
   "source": [
    "from ecephys_analyses.data.utils import depth_from_channel\n",
    "\n",
    "depth_from_channel(metapath, [287, 176, 291])\n",
    "# (array([286]),)\n",
    "# (array([175]),)\n",
    "# (array([290]"
   ]
  },
  {
   "cell_type": "markdown",
   "metadata": {},
   "source": [
    "# Copy concatenated hypnograms to condition dir"
   ]
  },
  {
   "cell_type": "code",
   "execution_count": null,
   "metadata": {},
   "outputs": [],
   "source": [
    "from pathlib import Path\n",
    "import pandas as pd\n",
    "from ecephys_analyses.data import paths\n",
    "from ecephys import scoring\n"
   ]
  },
  {
   "cell_type": "code",
   "execution_count": null,
   "metadata": {},
   "outputs": [],
   "source": [
    "condition_groups = [\n",
    "#     ('Doppio', 'SD'),\n",
    "#     ('Allan', 'SD'),\n",
    "#     ('Luigi', 'SD'),\n",
    "    \n",
    "]\n",
    "\n",
    "data_conditions = []\n",
    "for subject, condition_group in condition_groups:\n",
    "    data_conditions += [\n",
    "        (subject, cond)\n",
    "        for cond in paths.get_conditions(subject, condition_group)\n",
    "    ]\n",
    "print(f'Data condition N={len(data_conditions)} (Looks good?): {data_conditions}')"
   ]
  },
  {
   "cell_type": "code",
   "execution_count": null,
   "metadata": {
    "tags": []
   },
   "outputs": [],
   "source": [
    "for subject, condition in data_conditions:\n",
    "    hyp_paths = paths.get_hypno_datapaths(subject, condition)\n",
    "    print(subject, condition)\n",
    "    for prb in ['imec0', 'imec1']:\n",
    "        try:\n",
    "            print(f'Try loading hyp saved for {prb}...', end='')\n",
    "            imec_hyp_paths = [\n",
    "                Path(str(p).replace('imec0', 'imec1').replace('imec1', prb))\n",
    "                for p in hyp_paths\n",
    "            ]\n",
    "            print(imec_hyp_path)\n",
    "            hyp = scoring.load_consecutive_visbrain_hypnograms(\n",
    "                imec_hyp_paths\n",
    "            )\n",
    "            found=True\n",
    "            print('Found it!')\n",
    "            break\n",
    "        except FileNotFoundError:\n",
    "            print('not found')\n",
    "            found=False\n",
    "            continue\n",
    "    if not found:\n",
    "        continue\n",
    "    print(\"Save in condition dir\")\n",
    "    savepath = paths.get_datapath(subject, condition, 'hypnogram.csv')\n",
    "    savepath.parent.mkdir(exist_ok=True)\n",
    "    print(savepath)\n",
    "    hyp.to_csv(savepath, index=False)\n",
    "    print(\"Done\")\n",
    "    print('\\n\\n')\n",
    "        "
   ]
  },
  {
   "cell_type": "code",
   "execution_count": null,
   "metadata": {},
   "outputs": [],
   "source": [
    "hyp = scoring.load_consecutive_visbrain_hypnograms(\n",
    "    paths.get_hypno_datapaths('Allan', 'baseline-sleep-2h-circadian-match_imec1')\n",
    ")"
   ]
  },
  {
   "cell_type": "code",
   "execution_count": null,
   "metadata": {},
   "outputs": [],
   "source": [
    "hyp"
   ]
  },
  {
   "cell_type": "markdown",
   "metadata": {},
   "source": [
    "# Change format of hypnogram  (hypnogram.txt to hypnogram.csv in same dir)"
   ]
  },
  {
   "cell_type": "code",
   "execution_count": null,
   "metadata": {},
   "outputs": [],
   "source": [
    "root = Path('/Volumes/scratch/neuropixels/data/tom/catgt/CNPIX10-Charles/recovery-sleep-2h_imec0/')\n",
    "src_filename = 'hypnogram.txt'\n",
    "tgt_filename = 'hypnogram.csv'\n",
    "\n",
    "hyp = scoring.load_visbrain_hypnogram(root/src_filename)\n",
    "hyp.to_csv(root/tgt_filename, index=False)\n",
    "\n",
    "\n"
   ]
  },
  {
   "cell_type": "markdown",
   "metadata": {},
   "source": [
    "# Copy concatenated hypnograms to \"multiple\" condition dir"
   ]
  },
  {
   "cell_type": "code",
   "execution_count": null,
   "metadata": {},
   "outputs": [],
   "source": [
    "from pathlib import Path\n",
    "import pandas as pd\n",
    "from ecephys_analyses.data import paths\n",
    "from ecephys import scoring\n"
   ]
  },
  {
   "cell_type": "code",
   "execution_count": null,
   "metadata": {},
   "outputs": [],
   "source": [
    "condition_groups = [\n",
    "#     ('Doppio', 'SD'),\n",
    "#     ('Allan', 'SD'),\n",
    "#     ('Luigi', 'SD'),\n",
    "    ('Charles', 'SD'),\n",
    "]\n",
    "\n",
    "root_key = 'sleep-homeostasis'\n",
    "\n",
    "data_conditions = []\n",
    "for subject, condition_group in condition_groups:\n",
    "    data_conditions += [\n",
    "        (subject, cond)\n",
    "        for cond in paths.get_conditions(subject, condition_group)\n",
    "    ]\n",
    "print(f'Data condition N={len(data_conditions)} (Looks good?): {data_conditions}')"
   ]
  },
  {
   "cell_type": "code",
   "execution_count": null,
   "metadata": {},
   "outputs": [],
   "source": [
    "from ecephys_analyses.data.paths import get_subconditions, is_combined_condition\n",
    "from ecephys.scoring import load_consecutive_csv_hypnograms\n",
    "\n",
    "for subject, condition in data_conditions:\n",
    "\n",
    "    if is_combined_condition(subject, condition):\n",
    "        subconditions = get_subconditions(subject, condition)\n",
    "        hyp = load_consecutive_csv_hypnograms(\n",
    "            [\n",
    "                paths.get_datapath(subject, subcondition, 'hypnogram.csv', root_key=root_key)\n",
    "                 for subcondition in subconditions\n",
    "            ],\n",
    "            conditions = subconditions,\n",
    "        )\n",
    "        print(\"Save in condition dir\")\n",
    "        savepath = paths.get_datapath(subject, condition, 'hypnogram.csv', root_key=root_key)\n",
    "        savepath.parent.mkdir(exist_ok=True)\n",
    "        print(savepath)\n",
    "        hyp.to_csv(savepath, index=False)\n",
    "        print(\"Done\")\n",
    "        \n",
    "    # subconditions = get_subconditions('Doppio', 'baseline-sleep-2h-circadian-match_imec1')\n",
    "    else:\n",
    "        print(f\"Pass {subject} {condition}: Not 'combined' condition\")\n"
   ]
  },
  {
   "cell_type": "code",
   "execution_count": null,
   "metadata": {},
   "outputs": [],
   "source": [
    "hyp"
   ]
  },
  {
   "cell_type": "code",
   "execution_count": null,
   "metadata": {},
   "outputs": [],
   "source": []
  }
 ],
 "metadata": {
  "kernelspec": {
   "display_name": "Python 3",
   "language": "python",
   "name": "python3"
  },
  "language_info": {
   "codemirror_mode": {
    "name": "ipython",
    "version": 3
   },
   "file_extension": ".py",
   "mimetype": "text/x-python",
   "name": "python",
   "nbconvert_exporter": "python",
   "pygments_lexer": "ipython3",
   "version": "3.7.7"
  }
 },
 "nbformat": 4,
 "nbformat_minor": 4
}
