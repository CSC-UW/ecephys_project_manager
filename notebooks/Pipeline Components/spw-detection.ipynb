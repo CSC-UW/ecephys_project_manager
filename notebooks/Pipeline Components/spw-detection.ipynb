{
 "cells": [
  {
   "cell_type": "markdown",
   "metadata": {},
   "source": [
    "- TODO: Parallelize sharp wave property computation"
   ]
  },
  {
   "cell_type": "markdown",
   "metadata": {
    "execution": {
     "iopub.execute_input": "2020-11-30T16:00:22.289233Z",
     "iopub.status.busy": "2020-11-30T16:00:22.288802Z",
     "iopub.status.idle": "2020-11-30T16:00:22.305803Z",
     "shell.execute_reply": "2020-11-30T16:00:22.305354Z",
     "shell.execute_reply.started": "2020-11-30T16:00:22.289179Z"
    }
   },
   "source": [
    "# Imports and definitions"
   ]
  },
  {
   "cell_type": "code",
   "execution_count": 1,
   "metadata": {
    "execution": {
     "iopub.execute_input": "2021-03-19T23:40:47.373107Z",
     "iopub.status.busy": "2021-03-19T23:40:47.372978Z",
     "iopub.status.idle": "2021-03-19T23:40:47.381059Z",
     "shell.execute_reply": "2021-03-19T23:40:47.380539Z",
     "shell.execute_reply.started": "2021-03-19T23:40:47.373090Z"
    }
   },
   "outputs": [],
   "source": [
    "%load_ext autoreload\n",
    "%autoreload 2"
   ]
  },
  {
   "cell_type": "code",
   "execution_count": 2,
   "metadata": {
    "execution": {
     "iopub.execute_input": "2021-03-19T23:40:47.770665Z",
     "iopub.status.busy": "2021-03-19T23:40:47.770312Z",
     "iopub.status.idle": "2021-03-19T23:40:47.950762Z",
     "shell.execute_reply": "2021-03-19T23:40:47.949844Z",
     "shell.execute_reply.started": "2021-03-19T23:40:47.770624Z"
    }
   },
   "outputs": [],
   "source": [
    "%matplotlib widget\n",
    "import matplotlib.pyplot as plt"
   ]
  },
  {
   "cell_type": "code",
   "execution_count": 3,
   "metadata": {
    "execution": {
     "iopub.execute_input": "2021-03-19T23:40:48.108785Z",
     "iopub.status.busy": "2021-03-19T23:40:48.108335Z",
     "iopub.status.idle": "2021-03-19T23:40:48.430720Z",
     "shell.execute_reply": "2021-03-19T23:40:48.429772Z",
     "shell.execute_reply.started": "2021-03-19T23:40:48.108728Z"
    }
   },
   "outputs": [],
   "source": [
    "import numpy as np\n",
    "import pandas as pd\n",
    "import xarray as xr\n",
    "import json\n",
    "from datetime import datetime\n",
    "from ast import literal_eval"
   ]
  },
  {
   "cell_type": "code",
   "execution_count": 4,
   "metadata": {
    "execution": {
     "iopub.execute_input": "2021-03-19T23:40:48.446315Z",
     "iopub.status.busy": "2021-03-19T23:40:48.446161Z",
     "iopub.status.idle": "2021-03-19T23:40:48.709966Z",
     "shell.execute_reply": "2021-03-19T23:40:48.709026Z",
     "shell.execute_reply.started": "2021-03-19T23:40:48.446295Z"
    }
   },
   "outputs": [],
   "source": [
    "from ecephys_analyses.data import paths, channel_groups\n",
    "from ecephys.sglx_utils import load_timeseries, load_multifile_timeseries\n",
    "from ecephys.signal.csd import get_kcsd\n",
    "from ecephys.signal.sharp_wave_ripples import detect_sharp_waves_by_value, detect_sharp_waves_by_zscore, get_durations, get_midpoints, get_sink_amplitudes, get_sink_integrals\n",
    "from ecephys.utils import load_df_h5, store_df_h5, zscore_to_value\n",
    "import ecephys.plot as eplt"
   ]
  },
  {
   "cell_type": "markdown",
   "metadata": {
    "collapsed": "true"
   },
   "source": [
    "## Old, static channel based method"
   ]
  },
  {
   "cell_type": "code",
   "execution_count": 5,
   "metadata": {
    "execution": {
     "iopub.execute_input": "2021-02-09T23:37:58.478363Z",
     "iopub.status.busy": "2021-02-09T23:37:58.478203Z",
     "iopub.status.idle": "2021-02-09T23:37:58.509648Z",
     "shell.execute_reply": "2021-02-09T23:37:58.508876Z",
     "shell.execute_reply.started": "2021-02-09T23:37:58.478342Z"
    }
   },
   "outputs": [],
   "source": [
    "def get_spw_detection_parameters(subject, detection_threshold_zscore=2.5, boundary_threshold_zscore=1):\n",
    "    sr_chans = channel_groups.stratum_radiatum_140um_to_200um[subject]\n",
    "    hpc_chans = channel_groups.hippocampus[subject]\n",
    "    \n",
    "    bin_paths = paths.get_sglx_style_datapaths(subject=subject, condition=\"recovery-sleep-2h\", ext=\"lf.bin\")\n",
    "    params_path = paths.get_datapath(subject=subject, condition=\"sleep-homeostasis\", file=\"sharp_wave_detection_params.json\")\n",
    "    \n",
    "    if len(bin_paths) > 1:\n",
    "        (time, hpc_lfps, fs) = load_multifile_timeseries(bin_paths, hpc_chans)\n",
    "    else:\n",
    "        (time, hpc_lfps, fs) = load_timeseries(bin_paths[0], hpc_chans)\n",
    "    \n",
    "    gdx = intersite_distance = 0.020\n",
    "    k = get_kcsd(\n",
    "        hpc_lfps, intersite_distance=intersite_distance, gdx=gdx, do_lcurve=True\n",
    "    )\n",
    "    \n",
    "    hpc_csd = k.values(\"CSD\")\n",
    "    sr_csd = hpc_csd[np.isin(hpc_chans, sr_chans)]\n",
    "    combined_csd = np.sum(-sr_csd.T, axis=1)\n",
    "\n",
    "    detection_threshold = zscore_to_value(combined_csd, detection_threshold_zscore)\n",
    "    boundary_threshold = zscore_to_value(combined_csd, boundary_threshold_zscore)\n",
    "    \n",
    "    metadata = dict(\n",
    "        csd_chans=hpc_chans.tolist(),\n",
    "        detection_chans=sr_chans,\n",
    "        electrode_positions=k.ele_pos.tolist(),\n",
    "        intersite_distance=intersite_distance,\n",
    "        gdx=k.gdx,\n",
    "        lambd=k.lambd,\n",
    "        R=k.R,\n",
    "        detect_states=[\"all\"],\n",
    "        detection_threshold_zscore=detection_threshold_zscore,\n",
    "        boundary_threshold_zscore=boundary_threshold_zscore,\n",
    "        detection_threshold=detection_threshold,\n",
    "        boundary_threshold=boundary_threshold,\n",
    "        minimum_duration=0.005,\n",
    "        params_source_files=[str(path) for path in bin_paths] \n",
    "    )\n",
    "    \n",
    "    params_path.parent.mkdir(parents=True, exist_ok=True)\n",
    "    with open(params_path, \"x\") as params_file:\n",
    "        json.dump(metadata, params_file, indent=4)"
   ]
  },
  {
   "cell_type": "code",
   "execution_count": 6,
   "metadata": {
    "execution": {
     "iopub.execute_input": "2021-02-09T23:37:58.510714Z",
     "iopub.status.busy": "2021-02-09T23:37:58.510562Z",
     "iopub.status.idle": "2021-02-09T23:37:58.536910Z",
     "shell.execute_reply": "2021-02-09T23:37:58.536178Z",
     "shell.execute_reply.started": "2021-02-09T23:37:58.510695Z"
    }
   },
   "outputs": [],
   "source": [
    "def run_spw_detection_pipeline_on_file(\n",
    "    bin_path, spw_path, params_path, sr_chans, hpc_chans\n",
    "):\n",
    "    hpc_lfps = load_timeseries(bin_path, hpc_chans)\n",
    "    (time, fs) = (hpc_lfps.time.values, hpc_lfps.fs)\n",
    "\n",
    "    with open(params_path) as params_file:\n",
    "        params = json.load(params_file)\n",
    "\n",
    "    intersite_distance = params[\"intersite_distance\"]\n",
    "    k = get_kcsd(\n",
    "        hpc_lfps.values,\n",
    "        intersite_distance=params[\"intersite_distance\"],\n",
    "        gdx=params[\"gdx\"],\n",
    "        lambd=params[\"lambd\"],\n",
    "        R_init=params[\"R\"],\n",
    "        do_lcurve=False,\n",
    "    )\n",
    "\n",
    "    hpc_csd = k.values(\"CSD\")\n",
    "    sr_csd = hpc_csd[np.isin(hpc_chans, sr_chans)]\n",
    "\n",
    "    spws = detect_sharp_waves_by_value(\n",
    "        time,\n",
    "        sr_csd,\n",
    "        params[\"detection_threshold\"],\n",
    "        params[\"boundary_threshold\"],\n",
    "        params[\"minimum_duration\"],\n",
    "    )\n",
    "\n",
    "    spws[\"duration\"] = get_durations(spws)\n",
    "    spws[\"midpoint\"] = get_midpoints(spws)\n",
    "    spws[\"sink_amplitude\"] = get_sink_amplitudes(spws, time, sr_csd) * (\n",
    "        1e-6\n",
    "    )  # Scale to mA/mm\n",
    "    spws[\"sink_integral\"] = (\n",
    "        get_sink_integrals(spws, time, fs, sr_csd) * (1e-6) * (1e3)\n",
    "    )  # Scale to mA * ms\n",
    "\n",
    "    metadata = dict(\n",
    "        csd_chans=hpc_chans,\n",
    "        detection_chans=sr_chans,\n",
    "        electrode_positions=k.ele_pos,\n",
    "        intersite_distance=intersite_distance,\n",
    "        gdx=k.gdx,\n",
    "        lambd=k.lambd,\n",
    "        R=k.R,\n",
    "        detect_states=[\"all\"],\n",
    "        file_start=hpc_lfps.fileCreateTime,\n",
    "    )\n",
    "    metadata.update(spws.attrs)\n",
    "\n",
    "    store_df_h5(spw_path, spws, **metadata)"
   ]
  },
  {
   "cell_type": "code",
   "execution_count": 7,
   "metadata": {
    "execution": {
     "iopub.execute_input": "2021-02-09T23:37:59.156008Z",
     "iopub.status.busy": "2021-02-09T23:37:59.155651Z",
     "iopub.status.idle": "2021-02-09T23:37:59.189329Z",
     "shell.execute_reply": "2021-02-09T23:37:59.188467Z",
     "shell.execute_reply.started": "2021-02-09T23:37:59.155967Z"
    }
   },
   "outputs": [],
   "source": [
    "def run_spw_detection_pipeline_on_condition(subject, condition):\n",
    "    sr_chans = channel_groups.stratum_radiatum_140um_to_200um[subject]\n",
    "    hpc_chans = channel_groups.hippocampus[subject]\n",
    "    \n",
    "    bin_paths = paths.get_sglx_style_datapaths(subject=subject, condition=condition, ext=\"lf.bin\")\n",
    "    spw_paths = paths.get_sglx_style_datapaths(subject=subject, condition=condition, ext=\"spws.h5\")\n",
    "    params_path = paths.get_datapath(subject=subject, condition=\"sleep-homeostasis\", file=\"sharp_wave_detection_params.json\")\n",
    "\n",
    "    for bin_path, spw_path in zip(bin_paths, spw_paths):\n",
    "        run_spw_detection_pipeline_on_file(bin_path, spw_path, params_path, sr_chans, hpc_chans)\n",
    "        current_time = datetime.now().strftime(\"%H:%M:%S\")\n",
    "        print(f\"{current_time}: Finished {str(bin_path)}\")"
   ]
  },
  {
   "cell_type": "markdown",
   "metadata": {},
   "source": [
    "## New, drift method"
   ]
  },
  {
   "cell_type": "code",
   "execution_count": 32,
   "metadata": {
    "execution": {
     "iopub.execute_input": "2021-03-20T00:08:00.380244Z",
     "iopub.status.busy": "2021-03-20T00:08:00.379720Z",
     "iopub.status.idle": "2021-03-20T00:08:00.406151Z",
     "shell.execute_reply": "2021-03-20T00:08:00.405142Z",
     "shell.execute_reply.started": "2021-03-20T00:08:00.380181Z"
    }
   },
   "outputs": [],
   "source": [
    "def get_epoch_spws(hpc_csd, params, epoch_start, epoch_end, sr_chans):\n",
    "    sr_csd = hpc_csd.sel(time=slice(epoch_start, epoch_end), channel=sr_chans)\n",
    "    \n",
    "    spws = detect_sharp_waves_by_value(\n",
    "        sr_csd.time.values,\n",
    "        sr_csd.values,\n",
    "        params[\"detection_threshold\"],\n",
    "        params[\"boundary_threshold\"],\n",
    "        params[\"minimum_duration\"],\n",
    "    )\n",
    "\n",
    "    spws[\"duration\"] = get_durations(spws)\n",
    "    spws[\"midpoint\"] = get_midpoints(spws)\n",
    "    spws[\"sink_amplitude\"] = get_sink_amplitudes(spws, sr_csd.time.values, sr_csd.values) * (\n",
    "        1e-6\n",
    "    )  # Scale to mA/mm\n",
    "    spws[\"sink_integral\"] = (\n",
    "        get_sink_integrals(spws, sr_csd.time.values, sr_csd.fs, sr_csd.values) * (1e-6) * (1e3)\n",
    "    )  # Scale to mA * ms\n",
    "    \n",
    "    spws[\"sr_chans\"] = [sr_chans] * len(spws)\n",
    "    \n",
    "    return spws"
   ]
  },
  {
   "cell_type": "code",
   "execution_count": 33,
   "metadata": {
    "execution": {
     "iopub.execute_input": "2021-03-20T00:08:03.248024Z",
     "iopub.status.busy": "2021-03-20T00:08:03.247477Z",
     "iopub.status.idle": "2021-03-20T00:08:03.282597Z",
     "shell.execute_reply": "2021-03-20T00:08:03.281736Z",
     "shell.execute_reply.started": "2021-03-20T00:08:03.247936Z"
    }
   },
   "outputs": [],
   "source": [
    "def get_file_spws(bin_path, sr_chans_path, spw_path, params_path, hpc_chans):\n",
    "    hpc_lfps = load_timeseries(bin_path, hpc_chans)\n",
    "\n",
    "    with open(params_path) as params_file:\n",
    "        params = json.load(params_file)\n",
    "\n",
    "    intersite_distance = params[\"intersite_distance\"]\n",
    "    k = get_kcsd(\n",
    "        hpc_lfps.values,\n",
    "        intersite_distance=params[\"intersite_distance\"],\n",
    "        gdx=params[\"gdx\"],\n",
    "        lambd=params[\"lambd\"],\n",
    "        R_init=params[\"R\"],\n",
    "        do_lcurve=False,\n",
    "    )\n",
    "    \n",
    "    hpc_csd = xr.DataArray(\n",
    "        k.values(\"CSD\"),\n",
    "        dims=(\"channel\", \"time\"),\n",
    "        coords={\"channel\": hpc_lfps.channel.values, \"time\": hpc_lfps.time.values},\n",
    "        attrs={'units': \"nA/mm\", 'fs': hpc_lfps.fs}\n",
    "    ) \n",
    "\n",
    "    spws_by_epoch = list()\n",
    "    sr_chans_df = pd.read_csv(sr_chans_path, converters={\"sr_chans\": literal_eval})\n",
    "    sr_chans_df.sr_chans = sr_chans_df.sr_chans.apply(list)\n",
    "    for epoch in sr_chans_df.itertuples():\n",
    "        spws_by_epoch.append(get_epoch_spws(hpc_csd, params, epoch.start_time, epoch.end_time, epoch.sr_chans))\n",
    "    \n",
    "    spws = pd.concat(spws_by_epoch)\n",
    "    metadata = dict(\n",
    "        csd_chans=hpc_chans,\n",
    "        electrode_positions=k.ele_pos,\n",
    "        intersite_distance=intersite_distance,\n",
    "        gdx=k.gdx,\n",
    "        lambd=k.lambd,\n",
    "        R=k.R,\n",
    "        detect_states=[\"all\"],\n",
    "        file_start=hpc_lfps.fileCreateTime,\n",
    "    )\n",
    "    metadata.update(spws.attrs)\n",
    "\n",
    "    store_df_h5(spw_path, spws, **metadata)"
   ]
  },
  {
   "cell_type": "code",
   "execution_count": 34,
   "metadata": {
    "execution": {
     "iopub.execute_input": "2021-03-20T00:08:03.390790Z",
     "iopub.status.busy": "2021-03-20T00:08:03.390349Z",
     "iopub.status.idle": "2021-03-20T00:08:03.413335Z",
     "shell.execute_reply": "2021-03-20T00:08:03.412441Z",
     "shell.execute_reply.started": "2021-03-20T00:08:03.390734Z"
    }
   },
   "outputs": [],
   "source": [
    "def get_condition_spws(subject, condition):\n",
    "    hpc_chans = channel_groups.hippocampus[subject]\n",
    "    \n",
    "    bin_paths = paths.get_sglx_style_datapaths(subject=subject, condition=condition, ext=\"lf.bin\")\n",
    "    sr_chans_paths = paths.get_sglx_style_datapaths(subject=subject, condition=condition, ext=\"sr_chans.csv\")\n",
    "    spw_paths = paths.get_sglx_style_datapaths(subject=subject, condition=condition, ext=\"spws.h5\")\n",
    "    params_path = paths.get_datapath(subject=subject, condition=\"sleep-homeostasis\", file=\"sharp_wave_detection_params.json\")\n",
    "\n",
    "    for bin_path, sr_chans_path, spw_path in zip(bin_paths, sr_chans_paths, spw_paths):\n",
    "        get_file_spws(bin_path, sr_chans_path, spw_path, params_path, hpc_chans)\n",
    "        current_time = datetime.now().strftime(\"%H:%M:%S\")\n",
    "        print(f\"{current_time}: Finished {str(bin_path)}\")"
   ]
  },
  {
   "cell_type": "markdown",
   "metadata": {},
   "source": [
    "# Run automated pipeline"
   ]
  },
  {
   "cell_type": "markdown",
   "metadata": {},
   "source": [
    "### Segundo"
   ]
  },
  {
   "cell_type": "code",
   "execution_count": 16,
   "metadata": {
    "collapsed": true,
    "execution": {
     "iopub.execute_input": "2021-01-08T00:15:57.529245Z",
     "iopub.status.busy": "2021-01-08T00:15:57.528742Z",
     "iopub.status.idle": "2021-01-08T00:36:44.224106Z",
     "shell.execute_reply": "2021-01-08T00:36:44.222975Z",
     "shell.execute_reply.started": "2021-01-08T00:15:57.529187Z"
    },
    "jupyter": {
     "outputs_hidden": true
    }
   },
   "outputs": [
    {
     "name": "stdout",
     "output_type": "stream",
     "text": [
      "nChan: 385, nFileSamp: 18000001\n",
      "Performing L-curve parameter estimation...\n",
      "No lambda given, using defaults\n",
      "min lambda 1e-11\n",
      "max lambda 0.0133\n",
      "min lambda 1e-11\n",
      "max lambda 0.0133\n",
      "l-curve (all lambda):  0.23\n",
      "Best lambda and R =  0.00013089207687291224 ,  0.23\n"
     ]
    }
   ],
   "source": [
    "get_spw_detection_parameters(subject=\"Segundo\", detection_threshold_zscore=2.5, boundary_threshold_zscore=1)"
   ]
  },
  {
   "cell_type": "code",
   "execution_count": 17,
   "metadata": {
    "collapsed": true,
    "execution": {
     "iopub.execute_input": "2021-02-02T17:13:02.409355Z",
     "iopub.status.busy": "2021-02-02T17:13:02.408846Z",
     "iopub.status.idle": "2021-02-02T18:16:12.988321Z",
     "shell.execute_reply": "2021-02-02T18:16:12.987274Z",
     "shell.execute_reply.started": "2021-02-02T17:13:02.409296Z"
    },
    "jupyter": {
     "outputs_hidden": true
    }
   },
   "outputs": [
    {
     "name": "stdout",
     "output_type": "stream",
     "text": [
      "nChan: 385, nFileSamp: 18000000\n",
      "11:26:20: Finished /Volumes/neuropixel_archive/Data/chronic/CNPIX2-Segundo/raw/1-21-2020_g0/1-21-2020_g0_imec0/1-21-2020_g0_t8.imec0.lf.bin\n",
      "nChan: 385, nFileSamp: 18000000\n",
      "11:35:25: Finished /Volumes/neuropixel_archive/Data/chronic/CNPIX2-Segundo/raw/1-21-2020_g0/1-21-2020_g0_imec0/1-21-2020_g0_t9.imec0.lf.bin\n",
      "nChan: 385, nFileSamp: 18000000\n",
      "11:51:12: Finished /Volumes/neuropixel_archive/Data/chronic/CNPIX2-Segundo/raw/1-21-2020_g0/1-21-2020_g0_imec0/1-21-2020_g0_t10.imec0.lf.bin\n",
      "nChan: 385, nFileSamp: 18000000\n",
      "11:59:14: Finished /Volumes/neuropixel_archive/Data/chronic/CNPIX2-Segundo/raw/1-21-2020_g0/1-21-2020_g0_imec0/1-21-2020_g0_t11.imec0.lf.bin\n",
      "nChan: 385, nFileSamp: 18000000\n",
      "12:06:24: Finished /Volumes/neuropixel_archive/Data/chronic/CNPIX2-Segundo/raw/1-21-2020_g0/1-21-2020_g0_imec0/1-21-2020_g0_t12.imec0.lf.bin\n",
      "nChan: 385, nFileSamp: 18000000\n",
      "12:16:12: Finished /Volumes/neuropixel_archive/Data/chronic/CNPIX2-Segundo/raw/1-21-2020_g0/1-21-2020_g0_imec0/1-21-2020_g0_t13.imec0.lf.bin\n"
     ]
    }
   ],
   "source": [
    "run_spw_detection_pipeline_on_condition(subject=\"Segundo\", condition=\"sleep-deprivation-12h-circadian-match\")"
   ]
  },
  {
   "cell_type": "code",
   "execution_count": null,
   "metadata": {},
   "outputs": [],
   "source": [
    "run_spw_detection_pipeline_on_condition(subject=\"Segundo\", condition=\"extended-wake\")"
   ]
  },
  {
   "cell_type": "code",
   "execution_count": 12,
   "metadata": {
    "collapsed": true,
    "execution": {
     "iopub.execute_input": "2021-01-21T23:43:30.549681Z",
     "iopub.status.busy": "2021-01-21T23:43:30.549297Z",
     "iopub.status.idle": "2021-01-22T00:34:52.696332Z",
     "shell.execute_reply": "2021-01-22T00:34:52.694956Z",
     "shell.execute_reply.started": "2021-01-21T23:43:30.549643Z"
    },
    "jupyter": {
     "outputs_hidden": true
    }
   },
   "outputs": [
    {
     "name": "stdout",
     "output_type": "stream",
     "text": [
      "nChan: 385, nFileSamp: 18000001\n",
      "18:03:52: Finished /Volumes/neuropixel_archive/Data/chronic/CNPIX2-Segundo/raw/1-21-2020_g0/1-21-2020_g0_imec0/1-21-2020_g0_t23.imec0.lf.bin\n",
      "nChan: 385, nFileSamp: 18000001\n",
      "18:19:47: Finished /Volumes/neuropixel_archive/Data/chronic/CNPIX2-Segundo/raw/1-21-2020_g0/1-21-2020_g0_imec0/1-21-2020_g0_t24.imec0.lf.bin\n",
      "nChan: 385, nFileSamp: 18000001\n",
      "18:34:52: Finished /Volumes/neuropixel_archive/Data/chronic/CNPIX2-Segundo/raw/1-21-2020_g0/1-21-2020_g0_imec0/1-21-2020_g0_t25.imec0.lf.bin\n"
     ]
    }
   ],
   "source": [
    "run_spw_detection_pipeline_on_condition(subject=\"Segundo\", condition=\"recovery-sleep-6h\")"
   ]
  },
  {
   "cell_type": "markdown",
   "metadata": {},
   "source": [
    "### Valentino"
   ]
  },
  {
   "cell_type": "code",
   "execution_count": 19,
   "metadata": {
    "collapsed": true,
    "execution": {
     "iopub.execute_input": "2021-01-08T00:55:33.814777Z",
     "iopub.status.busy": "2021-01-08T00:55:33.814655Z",
     "iopub.status.idle": "2021-01-08T01:23:44.591780Z",
     "shell.execute_reply": "2021-01-08T01:23:44.590919Z",
     "shell.execute_reply.started": "2021-01-08T00:55:33.814762Z"
    },
    "jupyter": {
     "outputs_hidden": true
    }
   },
   "outputs": [
    {
     "name": "stdout",
     "output_type": "stream",
     "text": [
      "nChan: 385, nFileSamp: 18000000\n",
      "Performing L-curve parameter estimation...\n",
      "No lambda given, using defaults\n",
      "min lambda 1e-12\n",
      "max lambda 0.0119\n",
      "min lambda 1e-12\n",
      "max lambda 0.0119\n",
      "l-curve (all lambda):  0.23\n",
      "Best lambda and R =  0.00105886675336374 ,  0.23\n"
     ]
    }
   ],
   "source": [
    "get_spw_detection_parameters(subject=\"Valentino\", detection_threshold_zscore=2.5, boundary_threshold_zscore=1)"
   ]
  },
  {
   "cell_type": "code",
   "execution_count": 35,
   "metadata": {
    "execution": {
     "iopub.execute_input": "2021-03-20T00:08:06.188581Z",
     "iopub.status.busy": "2021-03-20T00:08:06.188297Z",
     "iopub.status.idle": "2021-03-20T02:44:45.749908Z",
     "shell.execute_reply": "2021-03-20T02:44:45.749250Z",
     "shell.execute_reply.started": "2021-03-20T00:08:06.188557Z"
    }
   },
   "outputs": [
    {
     "name": "stdout",
     "output_type": "stream",
     "text": [
      "nChan: 385, nFileSamp: 18000000\n"
     ]
    },
    {
     "name": "stderr",
     "output_type": "stream",
     "text": [
      "/home/gfindlay/miniconda3/envs/ecephys/lib/python3.7/site-packages/ipykernel_launcher.py:10: PerformanceWarning: \n",
      "your performance may suffer as PyTables will pickle object types that it cannot\n",
      "map directly to c-types [inferred_type->mixed,key->block1_values] [items->Index(['sr_chans'], dtype='object')]\n",
      "\n",
      "  # Remove the CWD from sys.path while we load stuff.\n"
     ]
    },
    {
     "name": "stdout",
     "output_type": "stream",
     "text": [
      "19:14:40: Finished /Volumes/neuropixel_archive/Data/chronic/CNPIX3-Valentino/2-19-2020/2-19-2020_g1/2-19-2020_g1_imec0/2-19-2020_g1_t0.imec0.lf.bin\n",
      "nChan: 385, nFileSamp: 18000000\n",
      "19:18:55: Finished /Volumes/neuropixel_archive/Data/chronic/CNPIX3-Valentino/2-19-2020/2-19-2020_g1/2-19-2020_g1_imec0/2-19-2020_g1_t1.imec0.lf.bin\n",
      "nChan: 385, nFileSamp: 18000000\n",
      "19:25:07: Finished /Volumes/neuropixel_archive/Data/chronic/CNPIX3-Valentino/2-19-2020/2-19-2020_g1/2-19-2020_g1_imec0/2-19-2020_g1_t2.imec0.lf.bin\n",
      "nChan: 385, nFileSamp: 18000000\n",
      "19:31:21: Finished /Volumes/neuropixel_archive/Data/chronic/CNPIX3-Valentino/2-19-2020/2-19-2020_g1/2-19-2020_g1_imec0/2-19-2020_g1_t3.imec0.lf.bin\n",
      "nChan: 385, nFileSamp: 18000000\n",
      "19:36:24: Finished /Volumes/neuropixel_archive/Data/chronic/CNPIX3-Valentino/2-19-2020/2-19-2020_g1/2-19-2020_g1_imec0/2-19-2020_g1_t4.imec0.lf.bin\n",
      "nChan: 385, nFileSamp: 18000000\n",
      "19:43:01: Finished /Volumes/neuropixel_archive/Data/chronic/CNPIX3-Valentino/2-19-2020/2-19-2020_g1/2-19-2020_g1_imec0/2-19-2020_g1_t5.imec0.lf.bin\n",
      "nChan: 385, nFileSamp: 18000000\n",
      "19:52:18: Finished /Volumes/neuropixel_archive/Data/chronic/CNPIX3-Valentino/2-19-2020/2-19-2020_g1/2-19-2020_g1_imec0/2-19-2020_g1_t6.imec0.lf.bin\n",
      "nChan: 385, nFileSamp: 18000000\n",
      "19:57:21: Finished /Volumes/neuropixel_archive/Data/chronic/CNPIX3-Valentino/2-19-2020/2-19-2020_g1/2-19-2020_g1_imec0/2-19-2020_g1_t7.imec0.lf.bin\n",
      "nChan: 385, nFileSamp: 18000000\n",
      "20:03:26: Finished /Volumes/neuropixel_archive/Data/chronic/CNPIX3-Valentino/2-19-2020/2-19-2020_g1/2-19-2020_g1_imec0/2-19-2020_g1_t8.imec0.lf.bin\n",
      "nChan: 385, nFileSamp: 18000000\n",
      "20:08:02: Finished /Volumes/neuropixel_archive/Data/chronic/CNPIX3-Valentino/2-19-2020/2-19-2020_g1/2-19-2020_g1_imec0/2-19-2020_g1_t9.imec0.lf.bin\n",
      "nChan: 385, nFileSamp: 18000000\n",
      "20:14:23: Finished /Volumes/neuropixel_archive/Data/chronic/CNPIX3-Valentino/2-19-2020/2-19-2020_g1/2-19-2020_g1_imec0/2-19-2020_g1_t10.imec0.lf.bin\n",
      "nChan: 385, nFileSamp: 18000000\n",
      "20:20:40: Finished /Volumes/neuropixel_archive/Data/chronic/CNPIX3-Valentino/2-19-2020/2-19-2020_g1/2-19-2020_g1_imec0/2-19-2020_g1_t11.imec0.lf.bin\n",
      "nChan: 385, nFileSamp: 18000000\n",
      "20:26:24: Finished /Volumes/neuropixel_archive/Data/chronic/CNPIX3-Valentino/2-19-2020/2-20-2020_g0/2-20-2020_g0_imec0/2-20-2020_g0_t0.imec0.lf.bin\n",
      "nChan: 385, nFileSamp: 18000000\n",
      "20:31:38: Finished /Volumes/neuropixel_archive/Data/chronic/CNPIX3-Valentino/2-19-2020/2-20-2020_g0/2-20-2020_g0_imec0/2-20-2020_g0_t1.imec0.lf.bin\n",
      "nChan: 385, nFileSamp: 18000000\n",
      "20:41:00: Finished /Volumes/neuropixel_archive/Data/chronic/CNPIX3-Valentino/2-19-2020/2-20-2020_g0/2-20-2020_g0_imec0/2-20-2020_g0_t2.imec0.lf.bin\n",
      "nChan: 385, nFileSamp: 18000000\n",
      "20:47:42: Finished /Volumes/neuropixel_archive/Data/chronic/CNPIX3-Valentino/2-19-2020/2-20-2020_g0/2-20-2020_g0_imec0/2-20-2020_g0_t3.imec0.lf.bin\n",
      "nChan: 385, nFileSamp: 18000000\n",
      "20:55:21: Finished /Volumes/neuropixel_archive/Data/chronic/CNPIX3-Valentino/2-19-2020/2-20-2020_g0/2-20-2020_g0_imec0/2-20-2020_g0_t4.imec0.lf.bin\n",
      "nChan: 385, nFileSamp: 18000000\n",
      "21:02:15: Finished /Volumes/neuropixel_archive/Data/chronic/CNPIX3-Valentino/2-19-2020/2-20-2020_g0/2-20-2020_g0_imec0/2-20-2020_g0_t5.imec0.lf.bin\n",
      "nChan: 385, nFileSamp: 18000000\n",
      "21:09:19: Finished /Volumes/neuropixel_archive/Data/chronic/CNPIX3-Valentino/2-19-2020/2-20-2020_g0/2-20-2020_g0_imec0/2-20-2020_g0_t6.imec0.lf.bin\n",
      "nChan: 385, nFileSamp: 18000000\n",
      "21:14:24: Finished /Volumes/neuropixel_archive/Data/chronic/CNPIX3-Valentino/2-19-2020/2-20-2020_g0/2-20-2020_g0_imec0/2-20-2020_g0_t7.imec0.lf.bin\n",
      "nChan: 385, nFileSamp: 18000000\n",
      "21:21:57: Finished /Volumes/neuropixel_archive/Data/chronic/CNPIX3-Valentino/2-19-2020/2-20-2020_g0/2-20-2020_g0_imec0/2-20-2020_g0_t8.imec0.lf.bin\n",
      "nChan: 385, nFileSamp: 18000000\n",
      "21:28:48: Finished /Volumes/neuropixel_archive/Data/chronic/CNPIX3-Valentino/2-19-2020/2-20-2020_g0/2-20-2020_g0_imec0/2-20-2020_g0_t9.imec0.lf.bin\n",
      "nChan: 385, nFileSamp: 18000000\n",
      "21:39:08: Finished /Volumes/neuropixel_archive/Data/chronic/CNPIX3-Valentino/2-19-2020/2-20-2020_g0/2-20-2020_g0_imec0/2-20-2020_g0_t10.imec0.lf.bin\n",
      "nChan: 385, nFileSamp: 18000000\n",
      "21:44:45: Finished /Volumes/neuropixel_archive/Data/chronic/CNPIX3-Valentino/2-19-2020/2-20-2020_g0/2-20-2020_g0_imec0/2-20-2020_g0_t11.imec0.lf.bin\n"
     ]
    }
   ],
   "source": [
    "get_condition_spws(subject=\"Valentino\", condition=\"all\")"
   ]
  },
  {
   "cell_type": "markdown",
   "metadata": {},
   "source": [
    "### Doppio"
   ]
  },
  {
   "cell_type": "code",
   "execution_count": null,
   "metadata": {},
   "outputs": [],
   "source": [
    "get_spw_detection_parameters(subject=\"Doppio\", detection_threshold_zscore=2.5, boundary_threshold_zscore=1)"
   ]
  },
  {
   "cell_type": "code",
   "execution_count": 11,
   "metadata": {
    "collapsed": true,
    "execution": {
     "iopub.execute_input": "2021-01-29T21:55:24.181234Z",
     "iopub.status.busy": "2021-01-29T21:55:24.180791Z",
     "iopub.status.idle": "2021-01-29T22:23:25.608511Z",
     "shell.execute_reply": "2021-01-29T22:23:25.607662Z",
     "shell.execute_reply.started": "2021-01-29T21:55:24.181178Z"
    },
    "jupyter": {
     "outputs_hidden": true
    }
   },
   "outputs": [
    {
     "name": "stdout",
     "output_type": "stream",
     "text": [
      "nChan: 385, nFileSamp: 18000019\n",
      "16:05:21: Finished /Volumes/neuropixel_archive/Data/chronic/CNPIX4-Doppio/raw/3-17-2020_g0/3-17-2020_g0_imec0/3-17-2020_g0_t0.imec0.lf.bin\n",
      "nChan: 385, nFileSamp: 18000019\n",
      "16:15:37: Finished /Volumes/neuropixel_archive/Data/chronic/CNPIX4-Doppio/raw/3-17-2020_g0/3-17-2020_g0_imec0/3-17-2020_g0_t1.imec0.lf.bin\n",
      "nChan: 385, nFileSamp: 18000019\n",
      "16:23:25: Finished /Volumes/neuropixel_archive/Data/chronic/CNPIX4-Doppio/raw/3-17-2020_g0/3-17-2020_g0_imec0/3-17-2020_g0_t2.imec0.lf.bin\n"
     ]
    }
   ],
   "source": [
    "run_spw_detection_pipeline_on_condition(subject=\"Doppio\", condition=\"extended-wake-6h-circadian-match\")"
   ]
  },
  {
   "cell_type": "code",
   "execution_count": 12,
   "metadata": {
    "collapsed": true,
    "execution": {
     "iopub.execute_input": "2021-01-29T22:23:25.630215Z",
     "iopub.status.busy": "2021-01-29T22:23:25.630091Z",
     "iopub.status.idle": "2021-01-29T22:53:24.870100Z",
     "shell.execute_reply": "2021-01-29T22:53:24.868920Z",
     "shell.execute_reply.started": "2021-01-29T22:23:25.630200Z"
    },
    "jupyter": {
     "outputs_hidden": true
    }
   },
   "outputs": [
    {
     "name": "stdout",
     "output_type": "stream",
     "text": [
      "nChan: 385, nFileSamp: 18000019\n",
      "16:34:35: Finished /Volumes/neuropixel_archive/Data/chronic/CNPIX4-Doppio/raw/3-17-2020_g0/3-17-2020_g0_imec0/3-17-2020_g0_t3.imec0.lf.bin\n",
      "nChan: 385, nFileSamp: 18000019\n",
      "16:44:52: Finished /Volumes/neuropixel_archive/Data/chronic/CNPIX4-Doppio/raw/3-17-2020_g0/3-17-2020_g0_imec0/3-17-2020_g0_t4.imec0.lf.bin\n",
      "nChan: 385, nFileSamp: 18000019\n",
      "16:53:24: Finished /Volumes/neuropixel_archive/Data/chronic/CNPIX4-Doppio/raw/3-17-2020_g0/3-17-2020_g0_imec0/3-17-2020_g0_t5.imec0.lf.bin\n"
     ]
    }
   ],
   "source": [
    "run_spw_detection_pipeline_on_condition(subject=\"Doppio\", condition=\"recovery-sleep-6h-circadian-match\")"
   ]
  },
  {
   "cell_type": "code",
   "execution_count": null,
   "metadata": {},
   "outputs": [],
   "source": [
    "run_spw_detection_pipeline_on_condition(subject=\"Doppio\", condition=\"extended-wake-6h\")"
   ]
  },
  {
   "cell_type": "code",
   "execution_count": 10,
   "metadata": {
    "collapsed": true,
    "execution": {
     "iopub.execute_input": "2021-01-19T23:16:43.832020Z",
     "iopub.status.busy": "2021-01-19T23:16:43.831723Z",
     "iopub.status.idle": "2021-01-19T23:47:35.804106Z",
     "shell.execute_reply": "2021-01-19T23:47:35.802981Z",
     "shell.execute_reply.started": "2021-01-19T23:16:43.831984Z"
    },
    "jupyter": {
     "outputs_hidden": true
    }
   },
   "outputs": [
    {
     "name": "stdout",
     "output_type": "stream",
     "text": [
      "nChan: 385, nFileSamp: 18000019\n",
      "17:29:26: Finished /Volumes/neuropixel_archive/Data/chronic/CNPIX4-Doppio/raw/3-18-2020_g0/3-18-2020_g0_imec0/3-18-2020_g0_t3.imec0.lf.bin\n",
      "nChan: 385, nFileSamp: 18000019\n",
      "17:38:31: Finished /Volumes/neuropixel_archive/Data/chronic/CNPIX4-Doppio/raw/3-18-2020_g0/3-18-2020_g0_imec0/3-18-2020_g0_t4.imec0.lf.bin\n",
      "nChan: 385, nFileSamp: 18000019\n",
      "17:47:35: Finished /Volumes/neuropixel_archive/Data/chronic/CNPIX4-Doppio/raw/3-18-2020_g0/3-18-2020_g0_imec0/3-18-2020_g0_t5.imec0.lf.bin\n"
     ]
    }
   ],
   "source": [
    "run_spw_detection_pipeline_on_condition(subject=\"Doppio\", condition=\"recovery-sleep-6h\")"
   ]
  },
  {
   "cell_type": "markdown",
   "metadata": {},
   "source": [
    "### Alessandro"
   ]
  },
  {
   "cell_type": "code",
   "execution_count": 18,
   "metadata": {
    "collapsed": true,
    "execution": {
     "iopub.execute_input": "2021-01-11T21:58:48.819726Z",
     "iopub.status.busy": "2021-01-11T21:58:48.819236Z",
     "iopub.status.idle": "2021-01-11T22:10:50.685546Z",
     "shell.execute_reply": "2021-01-11T22:10:50.684512Z",
     "shell.execute_reply.started": "2021-01-11T21:58:48.819665Z"
    },
    "jupyter": {
     "outputs_hidden": true
    }
   },
   "outputs": [
    {
     "name": "stdout",
     "output_type": "stream",
     "text": [
      "nChan: 385, nFileSamp: 9000052\n",
      "nChan: 385, nFileSamp: 9000052\n",
      "You are loading multifile SGLX data without xarray.\n",
      " Are you sure you want to do this? Please see documentation.\n",
      "Performing L-curve parameter estimation...\n",
      "No lambda given, using defaults\n",
      "min lambda 1e-12\n",
      "max lambda 0.0126\n",
      "min lambda 1e-12\n",
      "max lambda 0.0126\n",
      "l-curve (all lambda):  0.23\n",
      "Best lambda and R =  3.711471263028718e-05 ,  0.23\n"
     ]
    }
   ],
   "source": [
    "get_spw_detection_parameters(subject=\"Alessandro\", detection_threshold_zscore=2.5, boundary_threshold_zscore=1)"
   ]
  },
  {
   "cell_type": "code",
   "execution_count": null,
   "metadata": {
    "execution": {
     "iopub.execute_input": "2021-02-02T21:52:13.582570Z",
     "iopub.status.busy": "2021-02-02T21:52:13.582066Z"
    }
   },
   "outputs": [
    {
     "name": "stdout",
     "output_type": "stream",
     "text": [
      "nChan: 385, nFileSamp: 9000051\n",
      "15:54:54: Finished /Volumes/neuropixel_archive/Data/chronic/CNPIX5-Alessandro/raw/8-24-2020_g0/8-24-2020_g0_imec0/8-24-2020_g0_t0.imec0.lf.bin\n",
      "nChan: 385, nFileSamp: 9000052\n",
      "15:57:03: Finished /Volumes/neuropixel_archive/Data/chronic/CNPIX5-Alessandro/raw/8-24-2020_g0/8-24-2020_g0_imec0/8-24-2020_g0_t1.imec0.lf.bin\n",
      "nChan: 385, nFileSamp: 9000052\n",
      "16:00:06: Finished /Volumes/neuropixel_archive/Data/chronic/CNPIX5-Alessandro/raw/8-24-2020_g0/8-24-2020_g0_imec0/8-24-2020_g0_t2.imec0.lf.bin\n",
      "nChan: 385, nFileSamp: 9000052\n",
      "16:02:33: Finished /Volumes/neuropixel_archive/Data/chronic/CNPIX5-Alessandro/raw/8-24-2020_g0/8-24-2020_g0_imec0/8-24-2020_g0_t3.imec0.lf.bin\n",
      "nChan: 385, nFileSamp: 9000051\n",
      "16:04:29: Finished /Volumes/neuropixel_archive/Data/chronic/CNPIX5-Alessandro/raw/8-24-2020_g0/8-24-2020_g0_imec0/8-24-2020_g0_t4.imec0.lf.bin\n",
      "nChan: 385, nFileSamp: 9000051\n",
      "16:06:57: Finished /Volumes/neuropixel_archive/Data/chronic/CNPIX5-Alessandro/raw/8-24-2020_g0/8-24-2020_g0_imec0/8-24-2020_g0_t5.imec0.lf.bin\n",
      "nChan: 385, nFileSamp: 9000052\n",
      "16:10:34: Finished /Volumes/neuropixel_archive/Data/chronic/CNPIX5-Alessandro/raw/8-24-2020_g0/8-24-2020_g0_imec0/8-24-2020_g0_t6.imec0.lf.bin\n",
      "nChan: 385, nFileSamp: 9000052\n",
      "16:13:00: Finished /Volumes/neuropixel_archive/Data/chronic/CNPIX5-Alessandro/raw/8-24-2020_g0/8-24-2020_g0_imec0/8-24-2020_g0_t7.imec0.lf.bin\n",
      "nChan: 385, nFileSamp: 9000052\n",
      "16:15:14: Finished /Volumes/neuropixel_archive/Data/chronic/CNPIX5-Alessandro/raw/8-24-2020_g0/8-24-2020_g0_imec0/8-24-2020_g0_t8.imec0.lf.bin\n",
      "nChan: 385, nFileSamp: 9000052\n",
      "16:17:11: Finished /Volumes/neuropixel_archive/Data/chronic/CNPIX5-Alessandro/raw/8-24-2020_g0/8-24-2020_g0_imec0/8-24-2020_g0_t9.imec0.lf.bin\n",
      "nChan: 385, nFileSamp: 9000051\n",
      "16:19:13: Finished /Volumes/neuropixel_archive/Data/chronic/CNPIX5-Alessandro/raw/8-24-2020_g0/8-24-2020_g0_imec0/8-24-2020_g0_t10.imec0.lf.bin\n",
      "nChan: 385, nFileSamp: 9000052\n"
     ]
    }
   ],
   "source": [
    "run_spw_detection_pipeline_on_condition(subject=\"Alessandro\", condition=\"sleep-deprivation-12h-circadian-match\")"
   ]
  },
  {
   "cell_type": "code",
   "execution_count": 31,
   "metadata": {
    "collapsed": true,
    "execution": {
     "iopub.execute_input": "2021-01-11T22:14:48.479765Z",
     "iopub.status.busy": "2021-01-11T22:14:48.479282Z",
     "iopub.status.idle": "2021-01-11T22:31:12.827927Z",
     "shell.execute_reply": "2021-01-11T22:31:12.826920Z",
     "shell.execute_reply.started": "2021-01-11T22:14:48.479707Z"
    },
    "jupyter": {
     "outputs_hidden": true
    }
   },
   "outputs": [
    {
     "name": "stdout",
     "output_type": "stream",
     "text": [
      "nChan: 385, nFileSamp: 9000051\n",
      "16:17:22: Finished /Volumes/neuropixel_archive/Data/chronic/CNPIX5-Alessandro/raw/8-25-2020_SD_g0/8-25-2020_SD_g0_imec0/8-25-2020_SD_g0_t0.imec0.lf.bin\n",
      "nChan: 385, nFileSamp: 9000052\n",
      "16:20:02: Finished /Volumes/neuropixel_archive/Data/chronic/CNPIX5-Alessandro/raw/8-25-2020_SD_g0/8-25-2020_SD_g0_imec0/8-25-2020_SD_g0_t1.imec0.lf.bin\n",
      "nChan: 385, nFileSamp: 8127109\n",
      "16:22:28: Finished /Volumes/neuropixel_archive/Data/chronic/CNPIX5-Alessandro/raw/8-25-2020_SD_g0/8-25-2020_SD_g0_imec0/8-25-2020_SD_g0_t2.imec0.lf.bin\n",
      "nChan: 385, nFileSamp: 8277840\n",
      "16:24:52: Finished /Volumes/neuropixel_archive/Data/chronic/CNPIX5-Alessandro/raw/8-25-2020_SD2_g0/8-25-2020_SD2_g0_imec0/8-25-2020_SD2_g0_t0.imec0.lf.bin\n",
      "nChan: 385, nFileSamp: 9000052\n",
      "16:27:55: Finished /Volumes/neuropixel_archive/Data/chronic/CNPIX5-Alessandro/raw/8-25-2020_g0/8-25-2020_g0_imec0/8-25-2020_g0_t0.imec0.lf.bin\n",
      "nChan: 385, nFileSamp: 9000052\n",
      "16:31:12: Finished /Volumes/neuropixel_archive/Data/chronic/CNPIX5-Alessandro/raw/8-25-2020_g0/8-25-2020_g0_imec0/8-25-2020_g0_t1.imec0.lf.bin\n"
     ]
    }
   ],
   "source": [
    "run_spw_detection_pipeline_on_condition(subject=\"Alessandro\", condition=\"extended-wake\")"
   ]
  },
  {
   "cell_type": "code",
   "execution_count": 13,
   "metadata": {
    "collapsed": true,
    "execution": {
     "iopub.execute_input": "2021-01-22T18:30:21.371047Z",
     "iopub.status.busy": "2021-01-22T18:30:21.370544Z",
     "iopub.status.idle": "2021-01-22T18:55:58.834360Z",
     "shell.execute_reply": "2021-01-22T18:55:58.833807Z",
     "shell.execute_reply.started": "2021-01-22T18:30:21.370984Z"
    },
    "jupyter": {
     "outputs_hidden": true
    }
   },
   "outputs": [
    {
     "name": "stdout",
     "output_type": "stream",
     "text": [
      "nChan: 385, nFileSamp: 9000052\n",
      "12:34:40: Finished /Volumes/neuropixel_archive/Data/chronic/CNPIX5-Alessandro/raw/8-25-2020_g0/8-25-2020_g0_imec0/8-25-2020_g0_t2.imec0.lf.bin\n",
      "nChan: 385, nFileSamp: 9000052\n",
      "12:41:25: Finished /Volumes/neuropixel_archive/Data/chronic/CNPIX5-Alessandro/raw/8-25-2020_g0/8-25-2020_g0_imec0/8-25-2020_g0_t3.imec0.lf.bin\n",
      "nChan: 385, nFileSamp: 9000051\n",
      "12:46:54: Finished /Volumes/neuropixel_archive/Data/chronic/CNPIX5-Alessandro/raw/8-25-2020_g0/8-25-2020_g0_imec0/8-25-2020_g0_t4.imec0.lf.bin\n",
      "nChan: 385, nFileSamp: 9000052\n",
      "12:50:03: Finished /Volumes/neuropixel_archive/Data/chronic/CNPIX5-Alessandro/raw/8-25-2020_g0/8-25-2020_g0_imec0/8-25-2020_g0_t5.imec0.lf.bin\n",
      "nChan: 385, nFileSamp: 9000052\n",
      "12:53:13: Finished /Volumes/neuropixel_archive/Data/chronic/CNPIX5-Alessandro/raw/8-25-2020_g0/8-25-2020_g0_imec0/8-25-2020_g0_t6.imec0.lf.bin\n",
      "nChan: 385, nFileSamp: 9000052\n",
      "12:55:58: Finished /Volumes/neuropixel_archive/Data/chronic/CNPIX5-Alessandro/raw/8-25-2020_g0/8-25-2020_g0_imec0/8-25-2020_g0_t7.imec0.lf.bin\n"
     ]
    }
   ],
   "source": [
    "run_spw_detection_pipeline_on_condition(subject=\"Alessandro\", condition=\"recovery-sleep-6h\")"
   ]
  },
  {
   "cell_type": "markdown",
   "metadata": {},
   "source": [
    "### Eugene"
   ]
  },
  {
   "cell_type": "code",
   "execution_count": 34,
   "metadata": {
    "collapsed": true,
    "execution": {
     "iopub.execute_input": "2021-01-11T22:42:52.302612Z",
     "iopub.status.busy": "2021-01-11T22:42:52.302040Z",
     "iopub.status.idle": "2021-01-11T22:53:25.997541Z",
     "shell.execute_reply": "2021-01-11T22:53:25.996959Z",
     "shell.execute_reply.started": "2021-01-11T22:42:52.302545Z"
    },
    "jupyter": {
     "outputs_hidden": true
    }
   },
   "outputs": [
    {
     "name": "stdout",
     "output_type": "stream",
     "text": [
      "nChan: 385, nFileSamp: 9000026\n",
      "nChan: 385, nFileSamp: 9000026\n",
      "You are loading multifile SGLX data without xarray.\n",
      " Are you sure you want to do this? Please see documentation.\n",
      "Performing L-curve parameter estimation...\n",
      "No lambda given, using defaults\n",
      "min lambda 1e-11\n",
      "max lambda 0.0140\n",
      "min lambda 1e-11\n",
      "max lambda 0.0140\n",
      "l-curve (all lambda):  0.23\n",
      "Best lambda and R =  0.001404472887665455 ,  0.23\n"
     ]
    }
   ],
   "source": [
    "get_spw_detection_parameters(subject=\"Eugene\", detection_threshold_zscore=2.5, boundary_threshold_zscore=1)"
   ]
  },
  {
   "cell_type": "code",
   "execution_count": 8,
   "metadata": {
    "execution": {
     "iopub.execute_input": "2021-02-09T23:39:06.845836Z",
     "iopub.status.busy": "2021-02-09T23:39:06.845477Z",
     "iopub.status.idle": "2021-02-10T00:16:08.349629Z",
     "shell.execute_reply": "2021-02-10T00:16:08.348880Z",
     "shell.execute_reply.started": "2021-02-09T23:39:06.845797Z"
    }
   },
   "outputs": [
    {
     "name": "stdout",
     "output_type": "stream",
     "text": [
      "nChan: 385, nFileSamp: 9000025\n",
      "17:43:47: Finished /Volumes/neuropixel_archive/Data/chronic/CNPIX6-Eugene/raw/9.24.2020_BL_24hs_g0/9.24.2020_BL_24hs_g0_imec0/9.24.2020_BL_24hs_g0_t0.imec0.lf.bin\n",
      "nChan: 385, nFileSamp: 9000025\n",
      "17:49:02: Finished /Volumes/neuropixel_archive/Data/chronic/CNPIX6-Eugene/raw/9.24.2020_BL_24hs2_g0/9.24.2020_BL_24hs2_g0_imec0/9.24.2020_BL_24hs2_g0_t0.imec0.lf.bin\n",
      "nChan: 385, nFileSamp: 9000026\n",
      "17:53:14: Finished /Volumes/neuropixel_archive/Data/chronic/CNPIX6-Eugene/raw/9.24.2020_BL_24hs2_g0/9.24.2020_BL_24hs2_g0_imec0/9.24.2020_BL_24hs2_g0_t1.imec0.lf.bin\n",
      "nChan: 385, nFileSamp: 9000026\n",
      "17:57:40: Finished /Volumes/neuropixel_archive/Data/chronic/CNPIX6-Eugene/raw/9.24.2020_BL_24hs2_g0/9.24.2020_BL_24hs2_g0_imec0/9.24.2020_BL_24hs2_g0_t2.imec0.lf.bin\n",
      "nChan: 385, nFileSamp: 9000026\n",
      "18:02:12: Finished /Volumes/neuropixel_archive/Data/chronic/CNPIX6-Eugene/raw/9.24.2020_BL_24hs2_g0/9.24.2020_BL_24hs2_g0_imec0/9.24.2020_BL_24hs2_g0_t3.imec0.lf.bin\n",
      "nChan: 385, nFileSamp: 9000026\n",
      "18:06:31: Finished /Volumes/neuropixel_archive/Data/chronic/CNPIX6-Eugene/raw/9.24.2020_BL_24hs2_g0/9.24.2020_BL_24hs2_g0_imec0/9.24.2020_BL_24hs2_g0_t4.imec0.lf.bin\n",
      "nChan: 385, nFileSamp: 9000025\n",
      "18:08:57: Finished /Volumes/neuropixel_archive/Data/chronic/CNPIX6-Eugene/raw/9.24.2020_BL_24hs2_g0/9.24.2020_BL_24hs2_g0_imec0/9.24.2020_BL_24hs2_g0_t5.imec0.lf.bin\n",
      "nChan: 385, nFileSamp: 6003650\n",
      "18:09:52: Finished /Volumes/neuropixel_archive/Data/chronic/CNPIX6-Eugene/raw/9.24.2020_BL_24hs2_g0/9.24.2020_BL_24hs2_g0_imec0/9.24.2020_BL_24hs2_g0_t6.imec0.lf.bin\n",
      "nChan: 385, nFileSamp: 9000026\n",
      "18:12:47: Finished /Volumes/neuropixel_archive/Data/chronic/CNPIX6-Eugene/raw/9.24.2020_BL_24hs3_g0/9.24.2020_BL_24hs3_g0_imec0/9.24.2020_BL_24hs3_g0_t0.imec0.lf.bin\n",
      "nChan: 385, nFileSamp: 7633369\n",
      "18:14:25: Finished /Volumes/neuropixel_archive/Data/chronic/CNPIX6-Eugene/raw/9.24.2020_BL_24hs3_g0/9.24.2020_BL_24hs3_g0_imec0/9.24.2020_BL_24hs3_g0_t1.imec0.lf.bin\n",
      "nChan: 385, nFileSamp: 5834484\n",
      "18:16:08: Finished /Volumes/neuropixel_archive/Data/chronic/CNPIX6-Eugene/raw/9.24.2020_BL_24hs5_g0/9.24.2020_BL_24hs5_g0_imec0/9.24.2020_BL_24hs5_g0_t0.imec0.lf.bin\n"
     ]
    }
   ],
   "source": [
    "run_spw_detection_pipeline_on_condition(subject=\"Eugene\", condition=\"sleep-deprivation-12h-circadian-match\")"
   ]
  },
  {
   "cell_type": "code",
   "execution_count": 35,
   "metadata": {
    "collapsed": true,
    "execution": {
     "iopub.execute_input": "2021-01-11T22:55:46.217733Z",
     "iopub.status.busy": "2021-01-11T22:55:46.217252Z",
     "iopub.status.idle": "2021-01-11T23:08:50.149821Z",
     "shell.execute_reply": "2021-01-11T23:08:50.149127Z",
     "shell.execute_reply.started": "2021-01-11T22:55:46.217673Z"
    },
    "jupyter": {
     "outputs_hidden": true
    }
   },
   "outputs": [
    {
     "name": "stdout",
     "output_type": "stream",
     "text": [
      "nChan: 385, nFileSamp: 800217\n",
      "16:55:56: Finished /Volumes/neuropixel_archive/Data/chronic/CNPIX6-Eugene/raw/9.24.2020_SD_24hs_g0/9.24.2020_SD_24hs_g0_imec0/9.24.2020_SD_24hs_g0_t0.imec0.lf.bin\n",
      "nChan: 385, nFileSamp: 2877424\n",
      "16:56:28: Finished /Volumes/neuropixel_archive/Data/chronic/CNPIX6-Eugene/raw/9.24.2020_SD_24hs1_g0/9.24.2020_SD_24hs1_g0_imec0/9.24.2020_SD_24hs1_g0_t0.imec0.lf.bin\n",
      "nChan: 385, nFileSamp: 2430722\n",
      "16:56:59: Finished /Volumes/neuropixel_archive/Data/chronic/CNPIX6-Eugene/raw/9.24.2020_SD_24hs2_g0/9.24.2020_SD_24hs2_g0_imec0/9.24.2020_SD_24hs2_g0_t0.imec0.lf.bin\n",
      "nChan: 385, nFileSamp: 5735230\n",
      "16:58:16: Finished /Volumes/neuropixel_archive/Data/chronic/CNPIX6-Eugene/raw/9.24.2020_SD_24hs3_g0/9.24.2020_SD_24hs3_g0_imec0/9.24.2020_SD_24hs3_g0_t0.imec0.lf.bin\n",
      "nChan: 385, nFileSamp: 9000025\n",
      "17:01:55: Finished /Volumes/neuropixel_archive/Data/chronic/CNPIX6-Eugene/raw/9.24.2020_SD_24hs3_g1/9.24.2020_SD_24hs3_g1_imec0/9.24.2020_SD_24hs3_g1_t0.imec0.lf.bin\n",
      "nChan: 385, nFileSamp: 5608943\n",
      "17:03:22: Finished /Volumes/neuropixel_archive/Data/chronic/CNPIX6-Eugene/raw/9.24.2020_SD_24hs3_g1/9.24.2020_SD_24hs3_g1_imec0/9.24.2020_SD_24hs3_g1_t1.imec0.lf.bin\n",
      "nChan: 385, nFileSamp: 2417612\n",
      "17:03:52: Finished /Volumes/neuropixel_archive/Data/chronic/CNPIX6-Eugene/raw/9.24.2020_SD_24hs4_g0/9.24.2020_SD_24hs4_g0_imec0/9.24.2020_SD_24hs4_g0_t0.imec0.lf.bin\n",
      "nChan: 385, nFileSamp: 3435368\n",
      "17:04:40: Finished /Volumes/neuropixel_archive/Data/chronic/CNPIX6-Eugene/raw/9.24.2020_SD_24hs5_g0/9.24.2020_SD_24hs5_g0_imec0/9.24.2020_SD_24hs5_g0_t0.imec0.lf.bin\n",
      "nChan: 385, nFileSamp: 1369314\n",
      "17:04:59: Finished /Volumes/neuropixel_archive/Data/chronic/CNPIX6-Eugene/raw/9.24.2020_SD_24hs7_g0/9.24.2020_SD_24hs7_g0_imec0/9.24.2020_SD_24hs7_g0_t0.imec0.lf.bin\n",
      "nChan: 385, nFileSamp: 9000025\n",
      "17:08:14: Finished /Volumes/neuropixel_archive/Data/chronic/CNPIX6-Eugene/raw/9.24.2020_SD_24hs8_g0/9.24.2020_SD_24hs8_g0_imec0/9.24.2020_SD_24hs8_g0_t0.imec0.lf.bin\n",
      "nChan: 385, nFileSamp: 2946948\n",
      "17:08:50: Finished /Volumes/neuropixel_archive/Data/chronic/CNPIX6-Eugene/raw/9.24.2020_SD_24hs8_g0/9.24.2020_SD_24hs8_g0_imec0/9.24.2020_SD_24hs8_g0_t1.imec0.lf.bin\n"
     ]
    }
   ],
   "source": [
    "run_spw_detection_pipeline_on_condition(subject=\"Eugene\", condition=\"extended-wake\")"
   ]
  },
  {
   "cell_type": "code",
   "execution_count": null,
   "metadata": {},
   "outputs": [],
   "source": [
    "run_spw_detection_pipeline_on_condition(subject=\"Eugene\", condition=\"recovery-sleep-6h\")"
   ]
  },
  {
   "cell_type": "code",
   "execution_count": 13,
   "metadata": {
    "execution": {
     "iopub.execute_input": "2021-01-29T22:53:24.906111Z",
     "iopub.status.busy": "2021-01-29T22:53:24.905991Z",
     "iopub.status.idle": "2021-01-29T22:55:20.584270Z",
     "shell.execute_reply": "2021-01-29T22:55:20.583661Z",
     "shell.execute_reply.started": "2021-01-29T22:53:24.906096Z"
    }
   },
   "outputs": [
    {
     "name": "stdout",
     "output_type": "stream",
     "text": [
      "nChan: 385, nFileSamp: 510366\n",
      "16:53:33: Finished /Volumes/neuropixel_archive/Data/chronic/CNPIX6-Eugene/raw/9.24.2020_SR_24hs_g0/9.24.2020_SR_24hs_g0_imec0/9.24.2020_SR_24hs_g0_t5.imec0.lf.bin\n",
      "nChan: 385, nFileSamp: 5341730\n",
      "16:55:20: Finished /Volumes/neuropixel_archive/Data/chronic/CNPIX6-Eugene/raw/9.24.2020_SR_24hs1_g0/9.24.2020_SR_24hs1_g0_imec0/9.24.2020_SR_24hs1_g0_t0.imec0.lf.bin\n"
     ]
    }
   ],
   "source": [
    "run_spw_detection_pipeline_on_condition(subject=\"Eugene\", condition=\"recovery-sleep-patch\")"
   ]
  },
  {
   "cell_type": "markdown",
   "metadata": {},
   "source": [
    "# Run pipeline piecemeal"
   ]
  },
  {
   "cell_type": "code",
   "execution_count": 19,
   "metadata": {
    "execution": {
     "iopub.execute_input": "2021-03-19T23:28:05.388589Z",
     "iopub.status.busy": "2021-03-19T23:28:05.387999Z",
     "iopub.status.idle": "2021-03-19T23:28:05.411336Z",
     "shell.execute_reply": "2021-03-19T23:28:05.410301Z",
     "shell.execute_reply.started": "2021-03-19T23:28:05.388524Z"
    }
   },
   "outputs": [],
   "source": [
    "subject = \"Valentino\"\n",
    "condition = \"recovery-sleep-2h\""
   ]
  },
  {
   "cell_type": "markdown",
   "metadata": {},
   "source": [
    "## Load the data"
   ]
  },
  {
   "cell_type": "code",
   "execution_count": 21,
   "metadata": {
    "execution": {
     "iopub.execute_input": "2021-03-19T23:28:15.906680Z",
     "iopub.status.busy": "2021-03-19T23:28:15.906124Z",
     "iopub.status.idle": "2021-03-19T23:28:15.971786Z",
     "shell.execute_reply": "2021-03-19T23:28:15.971000Z",
     "shell.execute_reply.started": "2021-03-19T23:28:15.906616Z"
    }
   },
   "outputs": [],
   "source": [
    "sr_chans = channel_groups.stratum_radiatum_140um_to_200um[subject]\n",
    "hpc_chans = channel_groups.hippocampus[subject]\n",
    "bin_paths = paths.get_sglx_style_datapaths(subject=subject, condition=\"recovery-sleep-2h\", ext=\"lf.bin\")\n",
    "bin_path = bin_paths[0]\n",
    "params_path = paths.get_datapath(subject=subject, condition=\"sleep-homeostasis\", file=\"sharp_wave_detection_params.json\")"
   ]
  },
  {
   "cell_type": "code",
   "execution_count": 22,
   "metadata": {
    "execution": {
     "iopub.execute_input": "2021-03-19T23:28:17.576828Z",
     "iopub.status.busy": "2021-03-19T23:28:17.576283Z",
     "iopub.status.idle": "2021-03-19T23:28:17.614002Z",
     "shell.execute_reply": "2021-03-19T23:28:17.600687Z",
     "shell.execute_reply.started": "2021-03-19T23:28:17.576762Z"
    }
   },
   "outputs": [],
   "source": [
    "sr_chans = channel_groups.stratum_radiatum_140um_to_200um[subject]"
   ]
  },
  {
   "cell_type": "code",
   "execution_count": 23,
   "metadata": {
    "execution": {
     "iopub.execute_input": "2021-03-19T23:28:17.908380Z",
     "iopub.status.busy": "2021-03-19T23:28:17.907775Z",
     "iopub.status.idle": "2021-03-19T23:28:37.704819Z",
     "shell.execute_reply": "2021-03-19T23:28:37.703858Z",
     "shell.execute_reply.started": "2021-03-19T23:28:17.908315Z"
    }
   },
   "outputs": [
    {
     "name": "stdout",
     "output_type": "stream",
     "text": [
      "nChan: 385, nFileSamp: 18000000\n"
     ]
    }
   ],
   "source": [
    "hpc_lfps = load_timeseries(bin_path, hpc_chans, start_time=0, end_time=600)\n",
    "(time, fs) = (hpc_lfps.time.values, hpc_lfps.fs)"
   ]
  },
  {
   "cell_type": "code",
   "execution_count": 92,
   "metadata": {
    "execution": {
     "iopub.execute_input": "2021-03-17T21:59:58.297179Z",
     "iopub.status.busy": "2021-03-17T21:59:58.296624Z",
     "iopub.status.idle": "2021-03-17T21:59:58.318510Z",
     "shell.execute_reply": "2021-03-17T21:59:58.317802Z",
     "shell.execute_reply.started": "2021-03-17T21:59:58.297117Z"
    }
   },
   "outputs": [],
   "source": [
    "#df = pd.DataFrame({'start_time': [0.0, 30.0, 60.0, 100.0, 500.0], 'end_time': [30.0, 60.0, 100.0, 500.0, 600.0], 'sr_chans': [[165, 166, 169, 170], [165, 166, 169, 170], [165, 166, 169, 170], [165, 166, 169, 170], [165, 166, 169, 170]]})\n",
    "\n",
    "#df.to_csv('/Volumes/neuropixel/Data/foo.csv')\n",
    "#from ast import literal_eval\n",
    "#df2 = pd.read_csv('/Volumes/neuropixel/Data/foo.csv', converters={\"sr_chans\": literal_eval})\n",
    "\n",
    "#df.sr_chans = df.sr_chans.apply(list)\n",
    "\n",
    "#row = 0\n",
    "#hpc_lfps.sel(time=slice(df.start_time[row], df.end_time[row]), channel=df.sr_chans[row])"
   ]
  },
  {
   "cell_type": "markdown",
   "metadata": {},
   "source": [
    "### Explore LFPs (optional)"
   ]
  },
  {
   "cell_type": "code",
   "execution_count": null,
   "metadata": {},
   "outputs": [],
   "source": [
    "eplt.lfp_explorer(time, hpc_lfps, chan_labels=hpc_chans)"
   ]
  },
  {
   "cell_type": "markdown",
   "metadata": {},
   "source": [
    "## Detect sharp waves"
   ]
  },
  {
   "cell_type": "markdown",
   "metadata": {},
   "source": [
    "### If we need to determine detection parameters"
   ]
  },
  {
   "cell_type": "code",
   "execution_count": 8,
   "metadata": {
    "execution": {
     "iopub.execute_input": "2021-01-04T00:26:38.945022Z",
     "iopub.status.busy": "2021-01-04T00:26:38.944541Z",
     "iopub.status.idle": "2021-01-04T00:35:20.793274Z",
     "shell.execute_reply": "2021-01-04T00:35:20.791877Z",
     "shell.execute_reply.started": "2021-01-04T00:26:38.944964Z"
    }
   },
   "outputs": [
    {
     "name": "stdout",
     "output_type": "stream",
     "text": [
      "Performing L-curve parameter estimation...\n",
      "No lambda given, using defaults\n",
      "min lambda 1e-12\n",
      "max lambda 0.0126\n",
      "min lambda 1e-12\n",
      "max lambda 0.0126\n",
      "l-curve (all lambda):  0.23\n",
      "Best lambda and R =  0.0003822395851068327 ,  0.23\n"
     ]
    }
   ],
   "source": [
    "intersite_distance = 0.020\n",
    "k = get_kcsd(hpc_lfps, intersite_distance=intersite_distance, gdx=0.020, do_lcurve=True)\n",
    "hpc_csd = k.values('CSD')\n",
    "sr_csd = hpc_csd[np.isin(hpc_chans, sr_chans)]"
   ]
  },
  {
   "cell_type": "code",
   "execution_count": 32,
   "metadata": {
    "execution": {
     "iopub.execute_input": "2021-01-04T03:02:30.851252Z",
     "iopub.status.busy": "2021-01-04T03:02:30.850790Z",
     "iopub.status.idle": "2021-01-04T03:04:05.222403Z",
     "shell.execute_reply": "2021-01-04T03:04:05.221712Z",
     "shell.execute_reply.started": "2021-01-04T03:02:30.851191Z"
    }
   },
   "outputs": [],
   "source": [
    "spws = detect_sharp_waves_by_zscore(time, sr_csd)"
   ]
  },
  {
   "cell_type": "markdown",
   "metadata": {},
   "source": [
    "### If we are using detection parameters obtained elsewhere"
   ]
  },
  {
   "cell_type": "code",
   "execution_count": 24,
   "metadata": {
    "execution": {
     "iopub.execute_input": "2021-03-19T23:28:37.730365Z",
     "iopub.status.busy": "2021-03-19T23:28:37.730208Z",
     "iopub.status.idle": "2021-03-19T23:28:37.757236Z",
     "shell.execute_reply": "2021-03-19T23:28:37.756473Z",
     "shell.execute_reply.started": "2021-03-19T23:28:37.730344Z"
    }
   },
   "outputs": [],
   "source": [
    "with open(params_path) as params_file:\n",
    "    params = json.load(params_file)\n",
    "intersite_distance = params['intersite_distance']"
   ]
  },
  {
   "cell_type": "code",
   "execution_count": 25,
   "metadata": {
    "execution": {
     "iopub.execute_input": "2021-03-19T23:28:37.758427Z",
     "iopub.status.busy": "2021-03-19T23:28:37.758231Z",
     "iopub.status.idle": "2021-03-19T23:28:39.001924Z",
     "shell.execute_reply": "2021-03-19T23:28:39.000805Z",
     "shell.execute_reply.started": "2021-03-19T23:28:37.758401Z"
    }
   },
   "outputs": [],
   "source": [
    "k = get_kcsd(hpc_lfps.values, intersite_distance=params['intersite_distance'], gdx=params['gdx'], lambd=params['lambd'], R_init=params['R'], do_lcurve=False)\n",
    "hpc_csd = k.values('CSD')\n",
    "sr_csd = hpc_csd[np.isin(hpc_chans, sr_chans)]"
   ]
  },
  {
   "cell_type": "code",
   "execution_count": 29,
   "metadata": {
    "execution": {
     "iopub.execute_input": "2021-03-19T23:29:40.611237Z",
     "iopub.status.busy": "2021-03-19T23:29:40.610741Z",
     "iopub.status.idle": "2021-03-19T23:29:40.636195Z",
     "shell.execute_reply": "2021-03-19T23:29:40.635440Z",
     "shell.execute_reply.started": "2021-03-19T23:29:40.611176Z"
    }
   },
   "outputs": [],
   "source": [
    "time_mask = np.logical_and(time >= 6, time <= 78)\n",
    "chan_mask = np.isin(hpc_chans, sr_chans)\n",
    "#sr_csd = hpc_csd[chan_mask, time_mask]"
   ]
  },
  {
   "cell_type": "code",
   "execution_count": 44,
   "metadata": {
    "execution": {
     "iopub.execute_input": "2021-03-19T23:33:46.584937Z",
     "iopub.status.busy": "2021-03-19T23:33:46.584437Z",
     "iopub.status.idle": "2021-03-19T23:33:46.632124Z",
     "shell.execute_reply": "2021-03-19T23:33:46.631464Z",
     "shell.execute_reply.started": "2021-03-19T23:33:46.584877Z"
    }
   },
   "outputs": [
    {
     "data": {
      "text/plain": [
       "array([[-17887.42669554, -18414.29974266, -18407.8830503 , ...,\n",
       "          3689.77681678,   3531.04687352,   3311.70395006],\n",
       "       [-17447.7442046 , -17867.06168193, -17898.46261739, ...,\n",
       "          5132.57043659,   4818.28779426,   4509.65873559],\n",
       "       [-16657.17328571, -16985.48824587, -17078.41235388, ...,\n",
       "          6265.83833846,   5815.91040485,   5433.05196922],\n",
       "       [-15475.82032251, -15731.49664498, -15904.60754366, ...,\n",
       "          7051.9042419 ,   6489.53637675,   6048.8042175 ]])"
      ]
     },
     "execution_count": 44,
     "metadata": {},
     "output_type": "execute_result"
    }
   ],
   "source": [
    "hpc_csd[chan_mask][:, time_mask]"
   ]
  },
  {
   "cell_type": "code",
   "execution_count": 12,
   "metadata": {
    "execution": {
     "iopub.execute_input": "2021-01-05T19:57:00.904113Z",
     "iopub.status.busy": "2021-01-05T19:57:00.903974Z",
     "iopub.status.idle": "2021-01-05T19:58:09.727859Z",
     "shell.execute_reply": "2021-01-05T19:58:09.726607Z",
     "shell.execute_reply.started": "2021-01-05T19:57:00.904096Z"
    }
   },
   "outputs": [],
   "source": [
    "spws = detect_sharp_waves_by_value(time, sr_csd, params['detection_threshold'], params['boundary_threshold'], params['minimum_duration'])"
   ]
  },
  {
   "cell_type": "markdown",
   "metadata": {},
   "source": [
    "## Compute SPW properties"
   ]
  },
  {
   "cell_type": "code",
   "execution_count": 13,
   "metadata": {
    "execution": {
     "iopub.execute_input": "2021-01-05T19:58:09.729183Z",
     "iopub.status.busy": "2021-01-05T19:58:09.729006Z",
     "iopub.status.idle": "2021-01-05T19:58:09.840161Z",
     "shell.execute_reply": "2021-01-05T19:58:09.839355Z",
     "shell.execute_reply.started": "2021-01-05T19:58:09.729163Z"
    }
   },
   "outputs": [],
   "source": [
    "spws[\"duration\"] = get_durations(spws)\n",
    "spws[\"midpoint\"] = get_midpoints(spws)"
   ]
  },
  {
   "cell_type": "code",
   "execution_count": 14,
   "metadata": {
    "execution": {
     "iopub.execute_input": "2021-01-05T19:58:09.841038Z",
     "iopub.status.busy": "2021-01-05T19:58:09.840914Z",
     "iopub.status.idle": "2021-01-05T20:01:08.682979Z",
     "shell.execute_reply": "2021-01-05T20:01:08.681903Z",
     "shell.execute_reply.started": "2021-01-05T19:58:09.841023Z"
    }
   },
   "outputs": [],
   "source": [
    "spws[\"sink_amplitude\"] = get_sink_amplitudes(spws, time, sr_csd) * (1e-6) # Scale to mA/mm"
   ]
  },
  {
   "cell_type": "code",
   "execution_count": 15,
   "metadata": {
    "execution": {
     "iopub.execute_input": "2021-01-05T20:01:08.685898Z",
     "iopub.status.busy": "2021-01-05T20:01:08.685637Z",
     "iopub.status.idle": "2021-01-05T20:04:09.993683Z",
     "shell.execute_reply": "2021-01-05T20:04:09.992590Z",
     "shell.execute_reply.started": "2021-01-05T20:01:08.685865Z"
    }
   },
   "outputs": [],
   "source": [
    "spws[\"sink_integral\"] = get_sink_integrals(spws, time, fs, sr_csd) * (1e-6) * (1e3) # Scale to mA * ms"
   ]
  },
  {
   "cell_type": "markdown",
   "metadata": {
    "execution": {
     "iopub.execute_input": "2020-12-01T00:20:18.941774Z",
     "iopub.status.busy": "2020-12-01T00:20:18.941278Z",
     "iopub.status.idle": "2020-12-01T00:20:18.960114Z",
     "shell.execute_reply": "2020-12-01T00:20:18.959367Z",
     "shell.execute_reply.started": "2020-12-01T00:20:18.941715Z"
    }
   },
   "source": [
    "## Export results"
   ]
  },
  {
   "cell_type": "code",
   "execution_count": 16,
   "metadata": {
    "execution": {
     "iopub.execute_input": "2021-01-05T20:04:09.995051Z",
     "iopub.status.busy": "2021-01-05T20:04:09.994903Z",
     "iopub.status.idle": "2021-01-05T20:04:10.050666Z",
     "shell.execute_reply": "2021-01-05T20:04:10.049955Z",
     "shell.execute_reply.started": "2021-01-05T20:04:09.995033Z"
    }
   },
   "outputs": [],
   "source": [
    "metadata = dict(\n",
    "    csd_chans=hpc_chans,\n",
    "    detection_chans=sr_chans,\n",
    "    electrode_positions=k.ele_pos, \n",
    "    intersite_distance=intersite_distance,\n",
    "    gdx=k.gdx,\n",
    "    lambd = k.lambd,\n",
    "    R = k.R,\n",
    "    detect_states=[\"all\"],\n",
    ")\n",
    "metadata.update(spws.attrs)\n",
    "spws_path = paths.get_datapath(subject=SUBJECT, condition=CONDITION, data=\"sharp_waves.h5\")\n",
    "store_df_h5(spws_path, spws, **metadata)"
   ]
  },
  {
   "cell_type": "markdown",
   "metadata": {},
   "source": [
    "## If necessary, create params file"
   ]
  },
  {
   "cell_type": "code",
   "execution_count": 85,
   "metadata": {
    "execution": {
     "iopub.execute_input": "2021-01-04T04:49:13.834943Z",
     "iopub.status.busy": "2021-01-04T04:49:13.834475Z",
     "iopub.status.idle": "2021-01-04T04:49:13.859881Z",
     "shell.execute_reply": "2021-01-04T04:49:13.859209Z",
     "shell.execute_reply.started": "2021-01-04T04:49:13.834885Z"
    }
   },
   "outputs": [],
   "source": [
    "metadata.update({'params_source_file': str(bin_path)})\n",
    "metadata['csd_chans'] = metadata['csd_chans'].tolist()\n",
    "metadata['electrode_positions'] = metadata['electrode_positions'].tolist()\n",
    "with open(params_path, 'x') as params_file:\n",
    "    json.dump(metadata, params_file, indent=4)"
   ]
  },
  {
   "cell_type": "code",
   "execution_count": 23,
   "metadata": {
    "execution": {
     "iopub.execute_input": "2021-03-20T00:05:57.505442Z",
     "iopub.status.busy": "2021-03-20T00:05:57.504943Z",
     "iopub.status.idle": "2021-03-20T00:05:57.540267Z",
     "shell.execute_reply": "2021-03-20T00:05:57.539705Z",
     "shell.execute_reply.started": "2021-03-20T00:05:57.505382Z"
    }
   },
   "outputs": [],
   "source": [
    "df = pd.DataFrame()"
   ]
  },
  {
   "cell_type": "code",
   "execution_count": 24,
   "metadata": {
    "execution": {
     "iopub.execute_input": "2021-03-20T00:05:57.693801Z",
     "iopub.status.busy": "2021-03-20T00:05:57.693372Z",
     "iopub.status.idle": "2021-03-20T00:05:57.713944Z",
     "shell.execute_reply": "2021-03-20T00:05:57.713457Z",
     "shell.execute_reply.started": "2021-03-20T00:05:57.693747Z"
    }
   },
   "outputs": [],
   "source": [
    "df[\"foo\"] = np.arange(100)"
   ]
  },
  {
   "cell_type": "code",
   "execution_count": 26,
   "metadata": {
    "execution": {
     "iopub.execute_input": "2021-03-20T00:06:13.809350Z",
     "iopub.status.busy": "2021-03-20T00:06:13.808835Z",
     "iopub.status.idle": "2021-03-20T00:06:13.829327Z",
     "shell.execute_reply": "2021-03-20T00:06:13.828475Z",
     "shell.execute_reply.started": "2021-03-20T00:06:13.809260Z"
    }
   },
   "outputs": [],
   "source": [
    "bar = [1, 2, 3]"
   ]
  },
  {
   "cell_type": "code",
   "execution_count": 30,
   "metadata": {
    "execution": {
     "iopub.execute_input": "2021-03-20T00:07:20.356611Z",
     "iopub.status.busy": "2021-03-20T00:07:20.356147Z",
     "iopub.status.idle": "2021-03-20T00:07:20.378572Z",
     "shell.execute_reply": "2021-03-20T00:07:20.378023Z",
     "shell.execute_reply.started": "2021-03-20T00:07:20.356556Z"
    }
   },
   "outputs": [],
   "source": [
    "df[\"bar\"] = [bar] * len(df)"
   ]
  },
  {
   "cell_type": "code",
   "execution_count": 31,
   "metadata": {
    "execution": {
     "iopub.execute_input": "2021-03-20T00:07:22.183261Z",
     "iopub.status.busy": "2021-03-20T00:07:22.182769Z",
     "iopub.status.idle": "2021-03-20T00:07:22.219166Z",
     "shell.execute_reply": "2021-03-20T00:07:22.218385Z",
     "shell.execute_reply.started": "2021-03-20T00:07:22.183203Z"
    }
   },
   "outputs": [
    {
     "data": {
      "text/html": [
       "<div>\n",
       "<style scoped>\n",
       "    .dataframe tbody tr th:only-of-type {\n",
       "        vertical-align: middle;\n",
       "    }\n",
       "\n",
       "    .dataframe tbody tr th {\n",
       "        vertical-align: top;\n",
       "    }\n",
       "\n",
       "    .dataframe thead th {\n",
       "        text-align: right;\n",
       "    }\n",
       "</style>\n",
       "<table border=\"1\" class=\"dataframe\">\n",
       "  <thead>\n",
       "    <tr style=\"text-align: right;\">\n",
       "      <th></th>\n",
       "      <th>foo</th>\n",
       "      <th>bar</th>\n",
       "    </tr>\n",
       "  </thead>\n",
       "  <tbody>\n",
       "    <tr>\n",
       "      <th>0</th>\n",
       "      <td>0</td>\n",
       "      <td>[1, 2, 3]</td>\n",
       "    </tr>\n",
       "    <tr>\n",
       "      <th>1</th>\n",
       "      <td>1</td>\n",
       "      <td>[1, 2, 3]</td>\n",
       "    </tr>\n",
       "    <tr>\n",
       "      <th>2</th>\n",
       "      <td>2</td>\n",
       "      <td>[1, 2, 3]</td>\n",
       "    </tr>\n",
       "    <tr>\n",
       "      <th>3</th>\n",
       "      <td>3</td>\n",
       "      <td>[1, 2, 3]</td>\n",
       "    </tr>\n",
       "    <tr>\n",
       "      <th>4</th>\n",
       "      <td>4</td>\n",
       "      <td>[1, 2, 3]</td>\n",
       "    </tr>\n",
       "    <tr>\n",
       "      <th>...</th>\n",
       "      <td>...</td>\n",
       "      <td>...</td>\n",
       "    </tr>\n",
       "    <tr>\n",
       "      <th>95</th>\n",
       "      <td>95</td>\n",
       "      <td>[1, 2, 3]</td>\n",
       "    </tr>\n",
       "    <tr>\n",
       "      <th>96</th>\n",
       "      <td>96</td>\n",
       "      <td>[1, 2, 3]</td>\n",
       "    </tr>\n",
       "    <tr>\n",
       "      <th>97</th>\n",
       "      <td>97</td>\n",
       "      <td>[1, 2, 3]</td>\n",
       "    </tr>\n",
       "    <tr>\n",
       "      <th>98</th>\n",
       "      <td>98</td>\n",
       "      <td>[1, 2, 3]</td>\n",
       "    </tr>\n",
       "    <tr>\n",
       "      <th>99</th>\n",
       "      <td>99</td>\n",
       "      <td>[1, 2, 3]</td>\n",
       "    </tr>\n",
       "  </tbody>\n",
       "</table>\n",
       "<p>100 rows × 2 columns</p>\n",
       "</div>"
      ],
      "text/plain": [
       "    foo        bar\n",
       "0     0  [1, 2, 3]\n",
       "1     1  [1, 2, 3]\n",
       "2     2  [1, 2, 3]\n",
       "3     3  [1, 2, 3]\n",
       "4     4  [1, 2, 3]\n",
       "..  ...        ...\n",
       "95   95  [1, 2, 3]\n",
       "96   96  [1, 2, 3]\n",
       "97   97  [1, 2, 3]\n",
       "98   98  [1, 2, 3]\n",
       "99   99  [1, 2, 3]\n",
       "\n",
       "[100 rows x 2 columns]"
      ]
     },
     "execution_count": 31,
     "metadata": {},
     "output_type": "execute_result"
    }
   ],
   "source": [
    "df"
   ]
  },
  {
   "cell_type": "code",
   "execution_count": null,
   "metadata": {},
   "outputs": [],
   "source": []
  }
 ],
 "metadata": {
  "kernelspec": {
   "display_name": "Python 3",
   "language": "python",
   "name": "python3"
  },
  "language_info": {
   "codemirror_mode": {
    "name": "ipython",
    "version": 3
   },
   "file_extension": ".py",
   "mimetype": "text/x-python",
   "name": "python",
   "nbconvert_exporter": "python",
   "pygments_lexer": "ipython3",
   "version": "3.7.9"
  }
 },
 "nbformat": 4,
 "nbformat_minor": 4
}
