{
 "cells": [
  {
   "cell_type": "code",
   "execution_count": 2,
   "metadata": {
    "execution": {
     "iopub.execute_input": "2021-02-12T01:29:23.659102Z",
     "iopub.status.busy": "2021-02-12T01:29:23.658611Z",
     "iopub.status.idle": "2021-02-12T01:29:23.677453Z",
     "shell.execute_reply": "2021-02-12T01:29:23.676813Z",
     "shell.execute_reply.started": "2021-02-12T01:29:23.659042Z"
    }
   },
   "outputs": [],
   "source": [
    "%load_ext autoreload\n",
    "%autoreload 2"
   ]
  },
  {
   "cell_type": "code",
   "execution_count": 3,
   "metadata": {
    "execution": {
     "iopub.execute_input": "2021-02-12T01:29:23.862096Z",
     "iopub.status.busy": "2021-02-12T01:29:23.861826Z",
     "iopub.status.idle": "2021-02-12T01:29:23.875116Z",
     "shell.execute_reply": "2021-02-12T01:29:23.874636Z",
     "shell.execute_reply.started": "2021-02-12T01:29:23.862056Z"
    }
   },
   "outputs": [],
   "source": [
    "import pandas as pd"
   ]
  },
  {
   "cell_type": "code",
   "execution_count": 4,
   "metadata": {
    "execution": {
     "iopub.execute_input": "2021-02-12T01:29:24.222657Z",
     "iopub.status.busy": "2021-02-12T01:29:24.222200Z",
     "iopub.status.idle": "2021-02-12T01:29:24.638048Z",
     "shell.execute_reply": "2021-02-12T01:29:24.637396Z",
     "shell.execute_reply.started": "2021-02-12T01:29:24.222602Z"
    }
   },
   "outputs": [],
   "source": [
    "from ecephys.scoring import load_visbrain_hypnogram, visbrain_hypnogram_to_datetime, write_datetime_hypnogram\n",
    "from ecephys_analyses.data import paths\n",
    "from ecephys.sglx_utils import load_timeseries"
   ]
  },
  {
   "cell_type": "code",
   "execution_count": 5,
   "metadata": {
    "execution": {
     "iopub.execute_input": "2021-02-12T01:29:24.650650Z",
     "iopub.status.busy": "2021-02-12T01:29:24.650525Z",
     "iopub.status.idle": "2021-02-12T01:29:24.665238Z",
     "shell.execute_reply": "2021-02-12T01:29:24.664906Z",
     "shell.execute_reply.started": "2021-02-12T01:29:24.650635Z"
    }
   },
   "outputs": [],
   "source": [
    "def run_conversion_pipeline_on_condition(subject, condition):\n",
    "    hypnogram_paths = paths.get_sglx_style_datapaths(subject=subject, condition=condition, ext=\"hypnogram.txt\")\n",
    "    bin_paths = paths.get_sglx_style_datapaths(subject=subject, condition=condition, ext=\"lf.bin\")\n",
    "    hypnogram_dt_paths = paths.get_sglx_style_datapaths(subject=subject, condition=condition, ext=\"hypnogram.tsv\")\n",
    "    \n",
    "    hypnograms = [load_visbrain_hypnogram(path) for path in hypnogram_paths]\n",
    "    sigs = [load_timeseries(path, chans=[0], start_time=0, end_time=1) for path in bin_paths]\n",
    "    \n",
    "    for sig, hypnogram, hypnogram_dt_path in zip(sigs, hypnograms, hypnogram_dt_paths):\n",
    "        file_start_dt = pd.to_datetime(sig.fileCreateTime)\n",
    "        hypnogram_dt = visbrain_hypnogram_to_datetime(hypnogram, file_start_dt)\n",
    "        write_datetime_hypnogram(hypnogram_dt, hypnogram_dt_path)"
   ]
  },
  {
   "cell_type": "code",
   "execution_count": 7,
   "metadata": {
    "execution": {
     "iopub.execute_input": "2021-02-12T01:30:17.368660Z",
     "iopub.status.busy": "2021-02-12T01:30:17.368113Z",
     "iopub.status.idle": "2021-02-12T01:30:22.626730Z",
     "shell.execute_reply": "2021-02-12T01:30:22.626025Z",
     "shell.execute_reply.started": "2021-02-12T01:30:17.368600Z"
    }
   },
   "outputs": [
    {
     "name": "stdout",
     "output_type": "stream",
     "text": [
      "nChan: 385, nFileSamp: 800217\n",
      "nChan: 385, nFileSamp: 2877424\n",
      "nChan: 385, nFileSamp: 2430722\n",
      "nChan: 385, nFileSamp: 5735230\n",
      "nChan: 385, nFileSamp: 9000025\n",
      "nChan: 385, nFileSamp: 5608943\n",
      "nChan: 385, nFileSamp: 2417612\n",
      "nChan: 385, nFileSamp: 3435368\n",
      "nChan: 385, nFileSamp: 1369314\n",
      "nChan: 385, nFileSamp: 9000025\n",
      "nChan: 385, nFileSamp: 2946948\n",
      "nChan: 385, nFileSamp: 9000026\n",
      "nChan: 385, nFileSamp: 9000026\n",
      "nChan: 385, nFileSamp: 9000026\n",
      "nChan: 385, nFileSamp: 9000026\n",
      "nChan: 385, nFileSamp: 9000025\n",
      "nChan: 385, nFileSamp: 510366\n",
      "nChan: 385, nFileSamp: 5341730\n"
     ]
    }
   ],
   "source": [
    "run_conversion_pipeline_on_condition(subject=\"Eugene\", condition=\"sleep-deprivation-12h\")"
   ]
  },
  {
   "cell_type": "code",
   "execution_count": null,
   "metadata": {},
   "outputs": [],
   "source": []
  }
 ],
 "metadata": {
  "kernelspec": {
   "display_name": "Python 3",
   "language": "python",
   "name": "python3"
  },
  "language_info": {
   "codemirror_mode": {
    "name": "ipython",
    "version": 3
   },
   "file_extension": ".py",
   "mimetype": "text/x-python",
   "name": "python",
   "nbconvert_exporter": "python",
   "pygments_lexer": "ipython3",
   "version": "3.7.9"
  }
 },
 "nbformat": 4,
 "nbformat_minor": 4
}
