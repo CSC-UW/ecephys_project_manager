{
 "cells": [
  {
   "cell_type": "code",
   "execution_count": 2,
   "metadata": {
    "execution": {
     "iopub.execute_input": "2021-02-01T18:02:51.671532Z",
     "iopub.status.busy": "2021-02-01T18:02:51.671041Z",
     "iopub.status.idle": "2021-02-01T18:02:51.689430Z",
     "shell.execute_reply": "2021-02-01T18:02:51.688808Z",
     "shell.execute_reply.started": "2021-02-01T18:02:51.671473Z"
    }
   },
   "outputs": [],
   "source": [
    "%load_ext autoreload\n",
    "%autoreload 2"
   ]
  },
  {
   "cell_type": "code",
   "execution_count": 10,
   "metadata": {
    "execution": {
     "iopub.execute_input": "2021-02-01T18:05:33.648854Z",
     "iopub.status.busy": "2021-02-01T18:05:33.648323Z",
     "iopub.status.idle": "2021-02-01T18:05:33.667631Z",
     "shell.execute_reply": "2021-02-01T18:05:33.666833Z",
     "shell.execute_reply.started": "2021-02-01T18:05:33.648789Z"
    }
   },
   "outputs": [],
   "source": [
    "import pandas as pd"
   ]
  },
  {
   "cell_type": "code",
   "execution_count": 11,
   "metadata": {
    "execution": {
     "iopub.execute_input": "2021-02-01T18:05:34.881237Z",
     "iopub.status.busy": "2021-02-01T18:05:34.880780Z",
     "iopub.status.idle": "2021-02-01T18:05:34.898997Z",
     "shell.execute_reply": "2021-02-01T18:05:34.898103Z",
     "shell.execute_reply.started": "2021-02-01T18:05:34.881182Z"
    }
   },
   "outputs": [],
   "source": [
    "from ecephys.scoring import load_visbrain_hypnogram, visbrain_hypnogram_to_datetime, write_datetime_hypnogram\n",
    "from ecephys_analyses.data import paths\n",
    "from ecephys.sglx_utils import load_timeseries"
   ]
  },
  {
   "cell_type": "code",
   "execution_count": 12,
   "metadata": {
    "execution": {
     "iopub.execute_input": "2021-02-01T18:05:35.423989Z",
     "iopub.status.busy": "2021-02-01T18:05:35.423626Z",
     "iopub.status.idle": "2021-02-01T18:05:35.444279Z",
     "shell.execute_reply": "2021-02-01T18:05:35.443640Z",
     "shell.execute_reply.started": "2021-02-01T18:05:35.423944Z"
    }
   },
   "outputs": [],
   "source": [
    "def run_conversion_pipeline_on_condition(subject, condition):\n",
    "    hypnogram_paths = paths.get_sglx_style_datapaths(subject=subject, condition=condition, ext=\"hypnogram.txt\")\n",
    "    bin_paths = paths.get_sglx_style_datapaths(subject=subject, condition=condition, ext=\"lf.bin\")\n",
    "    hypnogram_dt_paths = paths.get_sglx_style_datapaths(subject=subject, condition=condition, ext=\"hypnogram.tsv\")\n",
    "    \n",
    "    hypnograms = [load_visbrain_hypnogram(path) for path in hypnogram_paths]\n",
    "    sigs = [load_timeseries(path, chans=[0], start_time=0, end_time=1) for path in bin_paths]\n",
    "    \n",
    "    for sig, hypnogram, hypnogram_dt_path in zip(sigs, hypnograms, hypnogram_dt_paths):\n",
    "        file_start_dt = pd.to_datetime(sig.fileCreateTime)\n",
    "        hypnogram_dt = visbrain_hypnogram_to_datetime(hypnogram, file_start_dt)\n",
    "        write_datetime_hypnogram(hypnogram_dt, hypnogram_dt_path)"
   ]
  },
  {
   "cell_type": "code",
   "execution_count": 15,
   "metadata": {
    "execution": {
     "iopub.execute_input": "2021-02-02T20:31:29.112494Z",
     "iopub.status.busy": "2021-02-02T20:31:29.111940Z",
     "iopub.status.idle": "2021-02-02T20:31:34.100538Z",
     "shell.execute_reply": "2021-02-02T20:31:34.099647Z",
     "shell.execute_reply.started": "2021-02-02T20:31:29.112431Z"
    }
   },
   "outputs": [
    {
     "name": "stdout",
     "output_type": "stream",
     "text": [
      "nChan: 385, nFileSamp: 18000000\n",
      "nChan: 385, nFileSamp: 18000000\n",
      "nChan: 385, nFileSamp: 18000000\n",
      "nChan: 385, nFileSamp: 18000000\n",
      "nChan: 385, nFileSamp: 18000000\n",
      "nChan: 385, nFileSamp: 18000000\n"
     ]
    }
   ],
   "source": [
    "run_conversion_pipeline_on_condition(subject=\"Segundo\", condition=\"sleep-deprivation-12h-circadian-match\")"
   ]
  },
  {
   "cell_type": "code",
   "execution_count": 16,
   "metadata": {
    "execution": {
     "iopub.execute_input": "2021-02-02T21:06:56.984503Z",
     "iopub.status.busy": "2021-02-02T21:06:56.983974Z",
     "iopub.status.idle": "2021-02-02T21:07:04.252262Z",
     "shell.execute_reply": "2021-02-02T21:07:04.251366Z",
     "shell.execute_reply.started": "2021-02-02T21:06:56.984441Z"
    }
   },
   "outputs": [
    {
     "name": "stdout",
     "output_type": "stream",
     "text": [
      "nChan: 385, nFileSamp: 18000001\n",
      "nChan: 385, nFileSamp: 18000001\n",
      "nChan: 385, nFileSamp: 18000001\n",
      "nChan: 385, nFileSamp: 18000001\n",
      "nChan: 385, nFileSamp: 18000001\n",
      "nChan: 385, nFileSamp: 18000001\n"
     ]
    }
   ],
   "source": [
    "run_conversion_pipeline_on_condition(subject=\"Segundo\", condition=\"sleep-deprivation-12h\")"
   ]
  },
  {
   "cell_type": "code",
   "execution_count": 14,
   "metadata": {
    "execution": {
     "iopub.execute_input": "2021-02-01T23:11:27.400082Z",
     "iopub.status.busy": "2021-02-01T23:11:27.399574Z",
     "iopub.status.idle": "2021-02-01T23:11:31.969763Z",
     "shell.execute_reply": "2021-02-01T23:11:31.968588Z",
     "shell.execute_reply.started": "2021-02-01T23:11:27.400020Z"
    }
   },
   "outputs": [
    {
     "name": "stdout",
     "output_type": "stream",
     "text": [
      "nChan: 385, nFileSamp: 18000000\n",
      "nChan: 385, nFileSamp: 18000000\n",
      "nChan: 385, nFileSamp: 18000000\n",
      "nChan: 385, nFileSamp: 18000000\n",
      "nChan: 385, nFileSamp: 18000000\n",
      "nChan: 385, nFileSamp: 18000000\n"
     ]
    }
   ],
   "source": [
    "run_conversion_pipeline_on_condition(subject=\"Valentino\", condition=\"sleep-deprivation-12h-circadian-match\")"
   ]
  },
  {
   "cell_type": "code",
   "execution_count": 8,
   "metadata": {
    "execution": {
     "iopub.execute_input": "2021-01-21T00:00:17.980905Z",
     "iopub.status.busy": "2021-01-21T00:00:17.980354Z",
     "iopub.status.idle": "2021-01-21T00:00:18.763680Z",
     "shell.execute_reply": "2021-01-21T00:00:18.762901Z",
     "shell.execute_reply.started": "2021-01-21T00:00:17.980835Z"
    }
   },
   "outputs": [
    {
     "name": "stdout",
     "output_type": "stream",
     "text": [
      "nChan: 385, nFileSamp: 18000000\n",
      "nChan: 385, nFileSamp: 18000000\n",
      "nChan: 385, nFileSamp: 18000000\n"
     ]
    }
   ],
   "source": [
    "run_conversion_pipeline_on_condition(subject=\"Valentino\", condition=\"extended-wake-6h\")"
   ]
  },
  {
   "cell_type": "code",
   "execution_count": 7,
   "metadata": {
    "execution": {
     "iopub.execute_input": "2021-01-20T23:01:20.485486Z",
     "iopub.status.busy": "2021-01-20T23:01:20.484994Z",
     "iopub.status.idle": "2021-01-20T23:01:22.516917Z",
     "shell.execute_reply": "2021-01-20T23:01:22.515666Z",
     "shell.execute_reply.started": "2021-01-20T23:01:20.485426Z"
    }
   },
   "outputs": [
    {
     "name": "stdout",
     "output_type": "stream",
     "text": [
      "nChan: 385, nFileSamp: 18000000\n",
      "nChan: 385, nFileSamp: 18000000\n",
      "nChan: 385, nFileSamp: 18000000\n"
     ]
    }
   ],
   "source": [
    "run_conversion_pipeline_on_condition(subject=\"Valentino\", condition=\"recovery-sleep-6h\")"
   ]
  },
  {
   "cell_type": "code",
   "execution_count": 13,
   "metadata": {
    "execution": {
     "iopub.execute_input": "2021-02-01T18:05:38.743598Z",
     "iopub.status.busy": "2021-02-01T18:05:38.743082Z",
     "iopub.status.idle": "2021-02-01T18:05:39.287345Z",
     "shell.execute_reply": "2021-02-01T18:05:39.285975Z",
     "shell.execute_reply.started": "2021-02-01T18:05:38.743535Z"
    }
   },
   "outputs": [
    {
     "name": "stdout",
     "output_type": "stream",
     "text": [
      "nChan: 385, nFileSamp: 18000019\n",
      "nChan: 385, nFileSamp: 18000019\n",
      "nChan: 385, nFileSamp: 18000019\n",
      "nChan: 385, nFileSamp: 18000019\n",
      "nChan: 385, nFileSamp: 18000019\n",
      "nChan: 385, nFileSamp: 18000019\n"
     ]
    }
   ],
   "source": [
    "run_conversion_pipeline_on_condition(subject=\"Doppio\", condition=\"sleep-deprivation-12h-circadian-match\")"
   ]
  },
  {
   "cell_type": "code",
   "execution_count": 6,
   "metadata": {
    "execution": {
     "iopub.execute_input": "2021-01-20T00:04:42.786728Z",
     "iopub.status.busy": "2021-01-20T00:04:42.786255Z",
     "iopub.status.idle": "2021-01-20T00:04:43.472858Z",
     "shell.execute_reply": "2021-01-20T00:04:43.471532Z",
     "shell.execute_reply.started": "2021-01-20T00:04:42.786676Z"
    }
   },
   "outputs": [
    {
     "name": "stdout",
     "output_type": "stream",
     "text": [
      "nChan: 385, nFileSamp: 18000019\n",
      "nChan: 385, nFileSamp: 18000019\n",
      "nChan: 385, nFileSamp: 18000019\n"
     ]
    }
   ],
   "source": [
    "run_conversion_pipeline_on_condition(subject=\"Doppio\", condition=\"extended-wake-6h\")"
   ]
  },
  {
   "cell_type": "code",
   "execution_count": 5,
   "metadata": {
    "execution": {
     "iopub.execute_input": "2021-01-19T23:27:38.762073Z",
     "iopub.status.busy": "2021-01-19T23:27:38.761737Z",
     "iopub.status.idle": "2021-01-19T23:27:41.843160Z",
     "shell.execute_reply": "2021-01-19T23:27:41.842370Z",
     "shell.execute_reply.started": "2021-01-19T23:27:38.762034Z"
    }
   },
   "outputs": [
    {
     "name": "stdout",
     "output_type": "stream",
     "text": [
      "nChan: 385, nFileSamp: 18000019\n",
      "nChan: 385, nFileSamp: 18000019\n",
      "nChan: 385, nFileSamp: 18000019\n"
     ]
    }
   ],
   "source": [
    "run_conversion_pipeline_on_condition(subject=\"Doppio\", condition=\"recovery-sleep-6h\")"
   ]
  },
  {
   "cell_type": "code",
   "execution_count": 18,
   "metadata": {
    "execution": {
     "iopub.execute_input": "2021-02-04T23:44:54.713700Z",
     "iopub.status.busy": "2021-02-04T23:44:54.713202Z",
     "iopub.status.idle": "2021-02-04T23:44:58.244665Z",
     "shell.execute_reply": "2021-02-04T23:44:58.243890Z",
     "shell.execute_reply.started": "2021-02-04T23:44:54.713640Z"
    }
   },
   "outputs": [
    {
     "name": "stdout",
     "output_type": "stream",
     "text": [
      "nChan: 385, nFileSamp: 9000051\n",
      "nChan: 385, nFileSamp: 9000052\n",
      "nChan: 385, nFileSamp: 9000052\n",
      "nChan: 385, nFileSamp: 9000052\n",
      "nChan: 385, nFileSamp: 9000051\n",
      "nChan: 385, nFileSamp: 9000051\n",
      "nChan: 385, nFileSamp: 9000052\n",
      "nChan: 385, nFileSamp: 9000052\n",
      "nChan: 385, nFileSamp: 9000052\n",
      "nChan: 385, nFileSamp: 9000052\n",
      "nChan: 385, nFileSamp: 9000051\n",
      "nChan: 385, nFileSamp: 9000052\n"
     ]
    }
   ],
   "source": [
    "run_conversion_pipeline_on_condition(subject=\"Alessandro\", condition=\"sleep-deprivation-12h-circadian-match\")"
   ]
  },
  {
   "cell_type": "code",
   "execution_count": 8,
   "metadata": {
    "execution": {
     "iopub.execute_input": "2021-01-12T20:43:06.618628Z",
     "iopub.status.busy": "2021-01-12T20:43:06.618090Z",
     "iopub.status.idle": "2021-01-12T20:43:07.097717Z",
     "shell.execute_reply": "2021-01-12T20:43:07.096874Z",
     "shell.execute_reply.started": "2021-01-12T20:43:06.618561Z"
    }
   },
   "outputs": [
    {
     "name": "stdout",
     "output_type": "stream",
     "text": [
      "nChan: 385, nFileSamp: 9000051\n",
      "nChan: 385, nFileSamp: 9000052\n",
      "nChan: 385, nFileSamp: 8127109\n",
      "nChan: 385, nFileSamp: 8277840\n",
      "nChan: 385, nFileSamp: 9000052\n",
      "nChan: 385, nFileSamp: 9000052\n"
     ]
    }
   ],
   "source": [
    "run_conversion_pipeline_on_condition(subject=\"Alessandro\", condition=\"extended-wake\")"
   ]
  },
  {
   "cell_type": "code",
   "execution_count": 12,
   "metadata": {
    "execution": {
     "iopub.execute_input": "2021-01-22T21:45:34.313149Z",
     "iopub.status.busy": "2021-01-22T21:45:34.312640Z",
     "iopub.status.idle": "2021-01-22T21:45:35.013800Z",
     "shell.execute_reply": "2021-01-22T21:45:35.013236Z",
     "shell.execute_reply.started": "2021-01-22T21:45:34.313086Z"
    }
   },
   "outputs": [
    {
     "name": "stdout",
     "output_type": "stream",
     "text": [
      "nChan: 385, nFileSamp: 9000052\n",
      "nChan: 385, nFileSamp: 9000052\n",
      "nChan: 385, nFileSamp: 9000051\n",
      "nChan: 385, nFileSamp: 9000052\n",
      "nChan: 385, nFileSamp: 9000052\n",
      "nChan: 385, nFileSamp: 9000052\n"
     ]
    }
   ],
   "source": [
    "run_conversion_pipeline_on_condition(subject=\"Alessandro\", condition=\"recovery-sleep-6h\")"
   ]
  },
  {
   "cell_type": "code",
   "execution_count": 9,
   "metadata": {
    "execution": {
     "iopub.execute_input": "2021-01-12T20:43:14.602562Z",
     "iopub.status.busy": "2021-01-12T20:43:14.602051Z",
     "iopub.status.idle": "2021-01-12T20:43:17.755209Z",
     "shell.execute_reply": "2021-01-12T20:43:17.754334Z",
     "shell.execute_reply.started": "2021-01-12T20:43:14.602495Z"
    }
   },
   "outputs": [
    {
     "name": "stdout",
     "output_type": "stream",
     "text": [
      "nChan: 385, nFileSamp: 800217\n",
      "nChan: 385, nFileSamp: 2877424\n",
      "nChan: 385, nFileSamp: 2430722\n",
      "nChan: 385, nFileSamp: 5735230\n",
      "nChan: 385, nFileSamp: 9000025\n",
      "nChan: 385, nFileSamp: 5608943\n",
      "nChan: 385, nFileSamp: 2417612\n",
      "nChan: 385, nFileSamp: 3435368\n",
      "nChan: 385, nFileSamp: 1369314\n",
      "nChan: 385, nFileSamp: 9000025\n",
      "nChan: 385, nFileSamp: 2946948\n"
     ]
    }
   ],
   "source": [
    "run_conversion_pipeline_on_condition(subject=\"Eugene\", condition=\"extended-wake\")"
   ]
  },
  {
   "cell_type": "code",
   "execution_count": 14,
   "metadata": {
    "execution": {
     "iopub.execute_input": "2021-01-22T23:23:45.007535Z",
     "iopub.status.busy": "2021-01-22T23:23:45.007086Z",
     "iopub.status.idle": "2021-01-22T23:23:45.436065Z",
     "shell.execute_reply": "2021-01-22T23:23:45.435225Z",
     "shell.execute_reply.started": "2021-01-22T23:23:45.007477Z"
    }
   },
   "outputs": [
    {
     "name": "stdout",
     "output_type": "stream",
     "text": [
      "nChan: 385, nFileSamp: 9000026\n",
      "nChan: 385, nFileSamp: 9000026\n",
      "nChan: 385, nFileSamp: 9000026\n",
      "nChan: 385, nFileSamp: 9000026\n",
      "nChan: 385, nFileSamp: 9000025\n"
     ]
    }
   ],
   "source": [
    "run_conversion_pipeline_on_condition(subject=\"Eugene\", condition=\"recovery-sleep-6h\")"
   ]
  },
  {
   "cell_type": "code",
   "execution_count": 11,
   "metadata": {
    "execution": {
     "iopub.execute_input": "2021-01-12T21:20:07.290218Z",
     "iopub.status.busy": "2021-01-12T21:20:07.289695Z",
     "iopub.status.idle": "2021-01-12T21:20:07.312054Z",
     "shell.execute_reply": "2021-01-12T21:20:07.311198Z",
     "shell.execute_reply.started": "2021-01-12T21:20:07.290154Z"
    }
   },
   "outputs": [
    {
     "data": {
      "text/plain": [
       "state                  object\n",
       "end_time       datetime64[ns]\n",
       "start_time     datetime64[ns]\n",
       "duration      timedelta64[ns]\n",
       "dtype: object"
      ]
     },
     "execution_count": 11,
     "metadata": {},
     "output_type": "execute_result"
    }
   ],
   "source": [
    "hypnogram_dt.dtypes"
   ]
  },
  {
   "cell_type": "code",
   "execution_count": null,
   "metadata": {},
   "outputs": [],
   "source": []
  }
 ],
 "metadata": {
  "kernelspec": {
   "display_name": "Python 3",
   "language": "python",
   "name": "python3"
  },
  "language_info": {
   "codemirror_mode": {
    "name": "ipython",
    "version": 3
   },
   "file_extension": ".py",
   "mimetype": "text/x-python",
   "name": "python",
   "nbconvert_exporter": "python",
   "pygments_lexer": "ipython3",
   "version": "3.7.9"
  }
 },
 "nbformat": 4,
 "nbformat_minor": 4
}
