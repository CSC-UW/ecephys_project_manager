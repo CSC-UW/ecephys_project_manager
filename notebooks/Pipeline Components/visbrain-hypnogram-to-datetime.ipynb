{
 "cells": [
  {
   "cell_type": "code",
   "execution_count": 2,
   "metadata": {
    "execution": {
     "iopub.execute_input": "2021-03-23T15:35:50.361495Z",
     "iopub.status.busy": "2021-03-23T15:35:50.360942Z",
     "iopub.status.idle": "2021-03-23T15:35:50.377384Z",
     "shell.execute_reply": "2021-03-23T15:35:50.376616Z",
     "shell.execute_reply.started": "2021-03-23T15:35:50.361430Z"
    }
   },
   "outputs": [],
   "source": [
    "%load_ext autoreload\n",
    "%autoreload 2"
   ]
  },
  {
   "cell_type": "code",
   "execution_count": 3,
   "metadata": {
    "execution": {
     "iopub.execute_input": "2021-03-23T15:35:50.686379Z",
     "iopub.status.busy": "2021-03-23T15:35:50.685802Z",
     "iopub.status.idle": "2021-03-23T15:35:50.700020Z",
     "shell.execute_reply": "2021-03-23T15:35:50.699193Z",
     "shell.execute_reply.started": "2021-03-23T15:35:50.686309Z"
    }
   },
   "outputs": [],
   "source": [
    "import pandas as pd"
   ]
  },
  {
   "cell_type": "code",
   "execution_count": 4,
   "metadata": {
    "execution": {
     "iopub.execute_input": "2021-03-23T15:35:51.038658Z",
     "iopub.status.busy": "2021-03-23T15:35:51.038135Z",
     "iopub.status.idle": "2021-03-23T15:35:51.748860Z",
     "shell.execute_reply": "2021-03-23T15:35:51.748029Z",
     "shell.execute_reply.started": "2021-03-23T15:35:51.038596Z"
    }
   },
   "outputs": [],
   "source": [
    "from ecephys.scoring import load_visbrain_hypnogram, visbrain_hypnogram_to_datetime, write_datetime_hypnogram\n",
    "from ecephys_analyses.data import paths\n",
    "from ecephys.sglx_utils import load_timeseries"
   ]
  },
  {
   "cell_type": "code",
   "execution_count": 5,
   "metadata": {
    "execution": {
     "iopub.execute_input": "2021-03-23T15:35:51.767103Z",
     "iopub.status.busy": "2021-03-23T15:35:51.766939Z",
     "iopub.status.idle": "2021-03-23T15:35:51.784430Z",
     "shell.execute_reply": "2021-03-23T15:35:51.783808Z",
     "shell.execute_reply.started": "2021-03-23T15:35:51.767084Z"
    }
   },
   "outputs": [],
   "source": [
    "def run_conversion_pipeline_on_condition(subject, condition):\n",
    "    hypnogram_paths = paths.get_sglx_style_datapaths(subject=subject, condition=condition, ext=\"hypnogram.txt\")\n",
    "    bin_paths = paths.get_sglx_style_datapaths(subject=subject, condition=condition, ext=\"lf.bin\")\n",
    "    hypnogram_dt_paths = paths.get_sglx_style_datapaths(subject=subject, condition=condition, ext=\"hypnogram.tsv\")\n",
    "    \n",
    "    hypnograms = [load_visbrain_hypnogram(path) for path in hypnogram_paths]\n",
    "    sigs = [load_timeseries(path, chans=[0], start_time=0, end_time=1) for path in bin_paths]\n",
    "    \n",
    "    for sig, hypnogram, hypnogram_dt_path in zip(sigs, hypnograms, hypnogram_dt_paths):\n",
    "        file_start_dt = pd.to_datetime(sig.fileCreateTime)\n",
    "        hypnogram_dt = visbrain_hypnogram_to_datetime(hypnogram, file_start_dt)\n",
    "        write_datetime_hypnogram(hypnogram_dt, hypnogram_dt_path)"
   ]
  },
  {
   "cell_type": "code",
   "execution_count": 7,
   "metadata": {
    "execution": {
     "iopub.execute_input": "2021-03-23T15:36:09.650486Z",
     "iopub.status.busy": "2021-03-23T15:36:09.649983Z",
     "iopub.status.idle": "2021-03-23T15:36:19.513489Z",
     "shell.execute_reply": "2021-03-23T15:36:19.512751Z",
     "shell.execute_reply.started": "2021-03-23T15:36:09.650426Z"
    }
   },
   "outputs": [
    {
     "name": "stdout",
     "output_type": "stream",
     "text": [
      "nChan: 385, nFileSamp: 9000051\n",
      "nChan: 385, nFileSamp: 9000052\n",
      "nChan: 385, nFileSamp: 9000052\n",
      "nChan: 385, nFileSamp: 9000052\n",
      "nChan: 385, nFileSamp: 9000051\n",
      "nChan: 385, nFileSamp: 9000051\n",
      "nChan: 385, nFileSamp: 9000052\n",
      "nChan: 385, nFileSamp: 9000052\n",
      "nChan: 385, nFileSamp: 9000052\n",
      "nChan: 385, nFileSamp: 9000052\n",
      "nChan: 385, nFileSamp: 9000051\n",
      "nChan: 385, nFileSamp: 9000052\n"
     ]
    }
   ],
   "source": [
    "run_conversion_pipeline_on_condition(subject=\"Alessandro\", condition=\"light-period-circadian-match\")"
   ]
  },
  {
   "cell_type": "code",
   "execution_count": null,
   "metadata": {},
   "outputs": [],
   "source": []
  }
 ],
 "metadata": {
  "kernelspec": {
   "display_name": "Python 3",
   "language": "python",
   "name": "python3"
  },
  "language_info": {
   "codemirror_mode": {
    "name": "ipython",
    "version": 3
   },
   "file_extension": ".py",
   "mimetype": "text/x-python",
   "name": "python",
   "nbconvert_exporter": "python",
   "pygments_lexer": "ipython3",
   "version": "3.7.9"
  }
 },
 "nbformat": 4,
 "nbformat_minor": 4
}
