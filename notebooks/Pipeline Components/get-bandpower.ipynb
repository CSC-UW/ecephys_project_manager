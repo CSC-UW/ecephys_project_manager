{
 "cells": [
  {
   "cell_type": "code",
   "execution_count": 1,
   "metadata": {
    "execution": {
     "iopub.execute_input": "2021-01-27T01:01:49.413966Z",
     "iopub.status.busy": "2021-01-27T01:01:49.413434Z",
     "iopub.status.idle": "2021-01-27T01:01:49.430800Z",
     "shell.execute_reply": "2021-01-27T01:01:49.430100Z",
     "shell.execute_reply.started": "2021-01-27T01:01:49.413904Z"
    }
   },
   "outputs": [],
   "source": [
    "%load_ext autoreload\n",
    "%autoreload 2"
   ]
  },
  {
   "cell_type": "markdown",
   "metadata": {},
   "source": [
    "# Imports and definitions"
   ]
  },
  {
   "cell_type": "code",
   "execution_count": 26,
   "metadata": {
    "execution": {
     "iopub.execute_input": "2021-01-29T22:28:03.216971Z",
     "iopub.status.busy": "2021-01-29T22:28:03.216647Z",
     "iopub.status.idle": "2021-01-29T22:28:03.246534Z",
     "shell.execute_reply": "2021-01-29T22:28:03.245295Z",
     "shell.execute_reply.started": "2021-01-29T22:28:03.216935Z"
    }
   },
   "outputs": [],
   "source": [
    "import numpy as np\n",
    "import pandas as pd\n",
    "from datetime import datetime\n",
    "import xarray as xr\n",
    "from pathlib import Path"
   ]
  },
  {
   "cell_type": "code",
   "execution_count": 3,
   "metadata": {
    "execution": {
     "iopub.execute_input": "2021-01-27T01:01:50.888650Z",
     "iopub.status.busy": "2021-01-27T01:01:50.888287Z",
     "iopub.status.idle": "2021-01-27T01:01:51.220079Z",
     "shell.execute_reply": "2021-01-27T01:01:51.219464Z",
     "shell.execute_reply.started": "2021-01-27T01:01:50.888603Z"
    }
   },
   "outputs": [],
   "source": [
    "from ecephys_analyses.data import channel_groups, paths\n",
    "from ecephys.sglx_utils import load_timeseries\n",
    "import ecephys.signal.timefrequency as tfr"
   ]
  },
  {
   "cell_type": "code",
   "execution_count": 4,
   "metadata": {
    "execution": {
     "iopub.execute_input": "2021-01-27T01:01:51.369596Z",
     "iopub.status.busy": "2021-01-27T01:01:51.369450Z",
     "iopub.status.idle": "2021-01-27T01:01:51.384648Z",
     "shell.execute_reply": "2021-01-27T01:01:51.384069Z",
     "shell.execute_reply.started": "2021-01-27T01:01:51.369563Z"
    }
   },
   "outputs": [
    {
     "data": {
      "text/plain": [
       "<xarray.core.options.set_options at 0x7fcb940f4f10>"
      ]
     },
     "execution_count": 4,
     "metadata": {},
     "output_type": "execute_result"
    }
   ],
   "source": [
    "xr.set_options(keep_attrs=True)"
   ]
  },
  {
   "cell_type": "code",
   "execution_count": 5,
   "metadata": {
    "execution": {
     "iopub.execute_input": "2021-01-27T01:01:52.238538Z",
     "iopub.status.busy": "2021-01-27T01:01:52.238292Z",
     "iopub.status.idle": "2021-01-27T01:01:52.256937Z",
     "shell.execute_reply": "2021-01-27T01:01:52.256596Z",
     "shell.execute_reply.started": "2021-01-27T01:01:52.238506Z"
    }
   },
   "outputs": [],
   "source": [
    "DELTA_RANGE = (0.5, 4)\n",
    "THETA_RANGE = (5, 10)"
   ]
  },
  {
   "cell_type": "code",
   "execution_count": 6,
   "metadata": {
    "execution": {
     "iopub.execute_input": "2021-01-27T01:01:52.702824Z",
     "iopub.status.busy": "2021-01-27T01:01:52.702530Z",
     "iopub.status.idle": "2021-01-27T01:01:52.720776Z",
     "shell.execute_reply": "2021-01-27T01:01:52.720432Z",
     "shell.execute_reply.started": "2021-01-27T01:01:52.702786Z"
    }
   },
   "outputs": [],
   "source": [
    "def parallel_spectrogram_welch(sig, **kwargs):\n",
    "    freqs, spg_times, spg = tfr.parallel_spectrogram_welch(sig.values, sig.fs, **kwargs)\n",
    "    spg_times = spg_times + sig.time.values.min()\n",
    "    return xr.DataArray(\n",
    "        spg,\n",
    "        dims=(\"frequency\", \"time\", \"channel\"),\n",
    "        coords={\"frequency\": freqs, \"time\": spg_times, \"channel\": sig.channel.values},\n",
    "        attrs={'units': f\"{sig.units}^2/Hz\", 'file_start': sig.fileCreateTime}\n",
    "    )"
   ]
  },
  {
   "cell_type": "code",
   "execution_count": 7,
   "metadata": {
    "execution": {
     "iopub.execute_input": "2021-01-27T01:01:53.214214Z",
     "iopub.status.busy": "2021-01-27T01:01:53.214072Z",
     "iopub.status.idle": "2021-01-27T01:01:53.231903Z",
     "shell.execute_reply": "2021-01-27T01:01:53.231424Z",
     "shell.execute_reply.started": "2021-01-27T01:01:53.214198Z"
    }
   },
   "outputs": [],
   "source": [
    "def get_bandpower(spg, f_range, chans):\n",
    "    bandpower = spg.sel(frequency=slice(*f_range)).sum(\n",
    "        dim=\"frequency\"\n",
    "    )\n",
    "    bandpower.attrs[\"freq_range\"] = f_range\n",
    "    bandpower.attrs['chans'] = chans\n",
    "\n",
    "    return bandpower"
   ]
  },
  {
   "cell_type": "code",
   "execution_count": 27,
   "metadata": {
    "execution": {
     "iopub.execute_input": "2021-01-29T22:28:11.259000Z",
     "iopub.status.busy": "2021-01-29T22:28:11.258658Z",
     "iopub.status.idle": "2021-01-29T22:28:11.293078Z",
     "shell.execute_reply": "2021-01-29T22:28:11.292216Z",
     "shell.execute_reply.started": "2021-01-29T22:28:11.258964Z"
    }
   },
   "outputs": [],
   "source": [
    "def run_bandpower_pipeline_on_file(bin_path, bandpower_path, cx_chans, sr_chans):\n",
    "    cx_sig = load_timeseries(bin_path, cx_chans)\n",
    "    cx_spg = parallel_spectrogram_welch(cx_sig).median(dim=\"channel\")\n",
    "    cx_theta = get_bandpower(cx_spg, THETA_RANGE, cx_chans)\n",
    "    cx_delta = get_bandpower(cx_spg, DELTA_RANGE, cx_chans)\n",
    "    \n",
    "    sr_sig = load_timeseries(bin_path, sr_chans)\n",
    "    sr_spg = parallel_spectrogram_welch(sr_sig).median(dim=\"channel\")\n",
    "    sr_theta = get_bandpower(sr_spg, THETA_RANGE, sr_chans)\n",
    "    sr_delta = get_bandpower(sr_spg, DELTA_RANGE, sr_chans)\n",
    "    \n",
    "    bandpower = xr.Dataset({'mpta_delta': cx_delta, 'mpta_theta': cx_theta, 'sr_delta': sr_delta, 'sr_theta': sr_theta})\n",
    "    \n",
    "    # Create parent directories if they do not already exist.\n",
    "    Path(bandpower_path).parent.mkdir(parents=True, exist_ok=True)\n",
    "    \n",
    "    bandpower.to_netcdf(bandpower_path)\n",
    "    bandpower.close()"
   ]
  },
  {
   "cell_type": "code",
   "execution_count": 9,
   "metadata": {
    "execution": {
     "iopub.execute_input": "2021-01-27T01:01:54.566067Z",
     "iopub.status.busy": "2021-01-27T01:01:54.565808Z",
     "iopub.status.idle": "2021-01-27T01:01:54.587060Z",
     "shell.execute_reply": "2021-01-27T01:01:54.586330Z",
     "shell.execute_reply.started": "2021-01-27T01:01:54.566033Z"
    }
   },
   "outputs": [],
   "source": [
    "def run_bandpower_pipeline_on_condition(subject, condition):\n",
    "    cx_chans = channel_groups.superficial_ctx[subject]\n",
    "    sr_chans = channel_groups.stratum_radiatum_140um_to_200um[subject]\n",
    "    \n",
    "    bin_paths = paths.get_sglx_style_datapaths(subject=subject, condition=condition, ext=\"lf.bin\")\n",
    "    pow_paths = paths.get_sglx_style_datapaths(subject=subject, condition=condition, ext=\"pow.nc\")\n",
    "\n",
    "    for bin_path, pow_path in zip(bin_paths, pow_paths):\n",
    "        run_bandpower_pipeline_on_file(bin_path, pow_path, cx_chans, sr_chans)\n",
    "        current_time = datetime.now().strftime(\"%H:%M:%S\")\n",
    "        print(f\"{current_time}: Finished {str(bin_path)}\")"
   ]
  },
  {
   "cell_type": "markdown",
   "metadata": {},
   "source": [
    "# Run automated pipeline"
   ]
  },
  {
   "cell_type": "markdown",
   "metadata": {
    "collapsed": "true"
   },
   "source": [
    "### Segundo"
   ]
  },
  {
   "cell_type": "code",
   "execution_count": 33,
   "metadata": {
    "collapsed": true,
    "execution": {
     "iopub.execute_input": "2021-02-02T17:12:23.167655Z",
     "iopub.status.busy": "2021-02-02T17:12:23.167310Z",
     "iopub.status.idle": "2021-02-02T17:43:12.053847Z",
     "shell.execute_reply": "2021-02-02T17:43:12.053020Z",
     "shell.execute_reply.started": "2021-02-02T17:12:23.167611Z"
    },
    "jupyter": {
     "outputs_hidden": true
    }
   },
   "outputs": [
    {
     "name": "stdout",
     "output_type": "stream",
     "text": [
      "nChan: 385, nFileSamp: 18000000\n",
      "nChan: 385, nFileSamp: 18000000\n",
      "11:16:38: Finished /Volumes/neuropixel_archive/Data/chronic/CNPIX2-Segundo/raw/1-21-2020_g0/1-21-2020_g0_imec0/1-21-2020_g0_t8.imec0.lf.bin\n",
      "nChan: 385, nFileSamp: 18000000\n",
      "nChan: 385, nFileSamp: 18000000\n",
      "11:21:45: Finished /Volumes/neuropixel_archive/Data/chronic/CNPIX2-Segundo/raw/1-21-2020_g0/1-21-2020_g0_imec0/1-21-2020_g0_t9.imec0.lf.bin\n",
      "nChan: 385, nFileSamp: 18000000\n",
      "nChan: 385, nFileSamp: 18000000\n",
      "11:27:49: Finished /Volumes/neuropixel_archive/Data/chronic/CNPIX2-Segundo/raw/1-21-2020_g0/1-21-2020_g0_imec0/1-21-2020_g0_t10.imec0.lf.bin\n",
      "nChan: 385, nFileSamp: 18000000\n",
      "nChan: 385, nFileSamp: 18000000\n",
      "11:32:21: Finished /Volumes/neuropixel_archive/Data/chronic/CNPIX2-Segundo/raw/1-21-2020_g0/1-21-2020_g0_imec0/1-21-2020_g0_t11.imec0.lf.bin\n",
      "nChan: 385, nFileSamp: 18000000\n",
      "nChan: 385, nFileSamp: 18000000\n",
      "11:37:17: Finished /Volumes/neuropixel_archive/Data/chronic/CNPIX2-Segundo/raw/1-21-2020_g0/1-21-2020_g0_imec0/1-21-2020_g0_t12.imec0.lf.bin\n",
      "nChan: 385, nFileSamp: 18000000\n",
      "nChan: 385, nFileSamp: 18000000\n",
      "11:43:12: Finished /Volumes/neuropixel_archive/Data/chronic/CNPIX2-Segundo/raw/1-21-2020_g0/1-21-2020_g0_imec0/1-21-2020_g0_t13.imec0.lf.bin\n"
     ]
    }
   ],
   "source": [
    "run_bandpower_pipeline_on_condition(subject=\"Segundo\", condition=\"sleep-deprivation-12h-circadian-match\")"
   ]
  },
  {
   "cell_type": "code",
   "execution_count": 34,
   "metadata": {
    "execution": {
     "iopub.execute_input": "2021-02-02T21:13:28.687808Z",
     "iopub.status.busy": "2021-02-02T21:13:28.687556Z",
     "iopub.status.idle": "2021-02-02T21:18:09.756496Z",
     "shell.execute_reply": "2021-02-02T21:18:09.755477Z",
     "shell.execute_reply.started": "2021-02-02T21:13:28.687775Z"
    }
   },
   "outputs": [
    {
     "name": "stdout",
     "output_type": "stream",
     "text": [
      "nChan: 385, nFileSamp: 18000001\n",
      "nChan: 385, nFileSamp: 18000001\n",
      "15:18:09: Finished /Volumes/neuropixel_archive/Data/chronic/CNPIX2-Segundo/raw/1-21-2020_g0/1-21-2020_g0_imec0/1-21-2020_g0_t19.imec0.lf.bin\n"
     ]
    }
   ],
   "source": [
    "run_bandpower_pipeline_on_condition(subject=\"Segundo\", condition=\"dark-period-last-2h\")"
   ]
  },
  {
   "cell_type": "code",
   "execution_count": 21,
   "metadata": {
    "collapsed": true,
    "execution": {
     "iopub.execute_input": "2021-01-27T03:44:51.165967Z",
     "iopub.status.busy": "2021-01-27T03:44:51.165748Z",
     "iopub.status.idle": "2021-01-27T04:00:32.288001Z",
     "shell.execute_reply": "2021-01-27T04:00:32.286712Z",
     "shell.execute_reply.started": "2021-01-27T03:44:51.165932Z"
    },
    "jupyter": {
     "outputs_hidden": true
    }
   },
   "outputs": [
    {
     "name": "stdout",
     "output_type": "stream",
     "text": [
      "nChan: 385, nFileSamp: 18000001\n",
      "nChan: 385, nFileSamp: 18000001\n",
      "21:49:57: Finished /Volumes/neuropixel_archive/Data/chronic/CNPIX2-Segundo/raw/1-21-2020_g0/1-21-2020_g0_imec0/1-21-2020_g0_t20.imec0.lf.bin\n",
      "nChan: 385, nFileSamp: 18000001\n",
      "nChan: 385, nFileSamp: 18000001\n",
      "21:55:11: Finished /Volumes/neuropixel_archive/Data/chronic/CNPIX2-Segundo/raw/1-21-2020_g0/1-21-2020_g0_imec0/1-21-2020_g0_t21.imec0.lf.bin\n",
      "nChan: 385, nFileSamp: 18000001\n",
      "nChan: 385, nFileSamp: 18000001\n",
      "22:00:32: Finished /Volumes/neuropixel_archive/Data/chronic/CNPIX2-Segundo/raw/1-21-2020_g0/1-21-2020_g0_imec0/1-21-2020_g0_t22.imec0.lf.bin\n"
     ]
    }
   ],
   "source": [
    "run_bandpower_pipeline_on_condition(subject=\"Segundo\", condition=\"extended-wake-6h\")"
   ]
  },
  {
   "cell_type": "code",
   "execution_count": 22,
   "metadata": {
    "collapsed": true,
    "execution": {
     "iopub.execute_input": "2021-01-27T04:00:32.289652Z",
     "iopub.status.busy": "2021-01-27T04:00:32.289448Z",
     "iopub.status.idle": "2021-01-27T04:17:15.890557Z",
     "shell.execute_reply": "2021-01-27T04:17:15.889633Z",
     "shell.execute_reply.started": "2021-01-27T04:00:32.289621Z"
    },
    "jupyter": {
     "outputs_hidden": true
    }
   },
   "outputs": [
    {
     "name": "stdout",
     "output_type": "stream",
     "text": [
      "nChan: 385, nFileSamp: 18000001\n",
      "nChan: 385, nFileSamp: 18000001\n",
      "22:05:49: Finished /Volumes/neuropixel_archive/Data/chronic/CNPIX2-Segundo/raw/1-21-2020_g0/1-21-2020_g0_imec0/1-21-2020_g0_t23.imec0.lf.bin\n",
      "nChan: 385, nFileSamp: 18000001\n",
      "nChan: 385, nFileSamp: 18000001\n",
      "22:11:20: Finished /Volumes/neuropixel_archive/Data/chronic/CNPIX2-Segundo/raw/1-21-2020_g0/1-21-2020_g0_imec0/1-21-2020_g0_t24.imec0.lf.bin\n",
      "nChan: 385, nFileSamp: 18000001\n",
      "nChan: 385, nFileSamp: 18000001\n",
      "22:17:15: Finished /Volumes/neuropixel_archive/Data/chronic/CNPIX2-Segundo/raw/1-21-2020_g0/1-21-2020_g0_imec0/1-21-2020_g0_t25.imec0.lf.bin\n"
     ]
    }
   ],
   "source": [
    "run_bandpower_pipeline_on_condition(subject=\"Segundo\", condition=\"recovery-sleep-6h\")"
   ]
  },
  {
   "cell_type": "markdown",
   "metadata": {
    "collapsed": "true"
   },
   "source": [
    "### Valentino"
   ]
  },
  {
   "cell_type": "code",
   "execution_count": 30,
   "metadata": {
    "execution": {
     "iopub.execute_input": "2021-01-29T22:36:06.505959Z",
     "iopub.status.busy": "2021-01-29T22:36:06.505539Z",
     "iopub.status.idle": "2021-01-29T22:53:22.991111Z",
     "shell.execute_reply": "2021-01-29T22:53:22.990387Z",
     "shell.execute_reply.started": "2021-01-29T22:36:06.505915Z"
    }
   },
   "outputs": [
    {
     "name": "stdout",
     "output_type": "stream",
     "text": [
      "nChan: 385, nFileSamp: 18000000\n",
      "nChan: 385, nFileSamp: 18000000\n",
      "16:41:33: Finished /Volumes/neuropixel_archive/Data/chronic/CNPIX3-Valentino/raw/2-19-2020_g1/2-19-2020_g1_imec0/2-19-2020_g1_t0.imec0.lf.bin\n",
      "nChan: 385, nFileSamp: 18000000\n",
      "nChan: 385, nFileSamp: 18000000\n",
      "16:48:39: Finished /Volumes/neuropixel_archive/Data/chronic/CNPIX3-Valentino/raw/2-19-2020_g1/2-19-2020_g1_imec0/2-19-2020_g1_t1.imec0.lf.bin\n",
      "nChan: 385, nFileSamp: 18000000\n",
      "nChan: 385, nFileSamp: 18000000\n",
      "16:53:22: Finished /Volumes/neuropixel_archive/Data/chronic/CNPIX3-Valentino/raw/2-19-2020_g1/2-19-2020_g1_imec0/2-19-2020_g1_t2.imec0.lf.bin\n"
     ]
    }
   ],
   "source": [
    "run_bandpower_pipeline_on_condition(subject=\"Valentino\", condition=\"extended-wake-6h-circadian-match\")"
   ]
  },
  {
   "cell_type": "code",
   "execution_count": 31,
   "metadata": {
    "execution": {
     "iopub.execute_input": "2021-01-29T22:53:23.013649Z",
     "iopub.status.busy": "2021-01-29T22:53:23.013497Z",
     "iopub.status.idle": "2021-01-29T23:19:23.725123Z",
     "shell.execute_reply": "2021-01-29T23:19:23.723970Z",
     "shell.execute_reply.started": "2021-01-29T22:53:23.013629Z"
    }
   },
   "outputs": [
    {
     "name": "stdout",
     "output_type": "stream",
     "text": [
      "nChan: 385, nFileSamp: 18000000\n",
      "nChan: 385, nFileSamp: 18000000\n",
      "17:02:17: Finished /Volumes/neuropixel_archive/Data/chronic/CNPIX3-Valentino/raw/2-19-2020_g1/2-19-2020_g1_imec0/2-19-2020_g1_t3.imec0.lf.bin\n",
      "nChan: 385, nFileSamp: 18000000\n",
      "nChan: 385, nFileSamp: 18000000\n",
      "17:10:50: Finished /Volumes/neuropixel_archive/Data/chronic/CNPIX3-Valentino/raw/2-19-2020_g1/2-19-2020_g1_imec0/2-19-2020_g1_t4.imec0.lf.bin\n",
      "nChan: 385, nFileSamp: 18000000\n",
      "nChan: 385, nFileSamp: 18000000\n",
      "17:19:23: Finished /Volumes/neuropixel_archive/Data/chronic/CNPIX3-Valentino/raw/2-19-2020_g1/2-19-2020_g1_imec0/2-19-2020_g1_t5.imec0.lf.bin\n"
     ]
    }
   ],
   "source": [
    "run_bandpower_pipeline_on_condition(subject=\"Valentino\", condition=\"recovery-sleep-6h-circadian-match\")"
   ]
  },
  {
   "cell_type": "code",
   "execution_count": 32,
   "metadata": {
    "execution": {
     "iopub.execute_input": "2021-01-29T23:19:23.775048Z",
     "iopub.status.busy": "2021-01-29T23:19:23.774895Z",
     "iopub.status.idle": "2021-01-29T23:28:20.563968Z",
     "shell.execute_reply": "2021-01-29T23:28:20.563108Z",
     "shell.execute_reply.started": "2021-01-29T23:19:23.775029Z"
    }
   },
   "outputs": [
    {
     "name": "stdout",
     "output_type": "stream",
     "text": [
      "nChan: 385, nFileSamp: 18000000\n",
      "nChan: 385, nFileSamp: 18000000\n",
      "17:28:20: Finished /Volumes/neuropixel_archive/Data/chronic/CNPIX3-Valentino/raw/2-19-2020_g1/2-19-2020_g1_imec0/2-19-2020_g1_t11.imec0.lf.bin\n"
     ]
    }
   ],
   "source": [
    "run_bandpower_pipeline_on_condition(subject=\"Valentino\", condition=\"dark-period-last-2h\")"
   ]
  },
  {
   "cell_type": "code",
   "execution_count": 19,
   "metadata": {
    "collapsed": true,
    "execution": {
     "iopub.execute_input": "2021-01-27T03:11:06.548424Z",
     "iopub.status.busy": "2021-01-27T03:11:06.548267Z",
     "iopub.status.idle": "2021-01-27T03:28:29.164433Z",
     "shell.execute_reply": "2021-01-27T03:28:29.163510Z",
     "shell.execute_reply.started": "2021-01-27T03:11:06.548401Z"
    },
    "jupyter": {
     "outputs_hidden": true
    }
   },
   "outputs": [
    {
     "name": "stdout",
     "output_type": "stream",
     "text": [
      "nChan: 385, nFileSamp: 18000000\n",
      "nChan: 385, nFileSamp: 18000000\n",
      "21:16:29: Finished /Volumes/neuropixel_archive/Data/chronic/CNPIX3-Valentino/raw/2-20-2020_g0/2-20-2020_g0_imec0/2-20-2020_g0_t0.imec0.lf.bin\n",
      "nChan: 385, nFileSamp: 18000000\n",
      "nChan: 385, nFileSamp: 18000000\n",
      "21:22:16: Finished /Volumes/neuropixel_archive/Data/chronic/CNPIX3-Valentino/raw/2-20-2020_g0/2-20-2020_g0_imec0/2-20-2020_g0_t1.imec0.lf.bin\n",
      "nChan: 385, nFileSamp: 18000000\n",
      "nChan: 385, nFileSamp: 18000000\n",
      "21:28:29: Finished /Volumes/neuropixel_archive/Data/chronic/CNPIX3-Valentino/raw/2-20-2020_g0/2-20-2020_g0_imec0/2-20-2020_g0_t2.imec0.lf.bin\n"
     ]
    }
   ],
   "source": [
    "run_bandpower_pipeline_on_condition(subject=\"Valentino\", condition=\"extended-wake-6h\")"
   ]
  },
  {
   "cell_type": "code",
   "execution_count": 20,
   "metadata": {
    "collapsed": true,
    "execution": {
     "iopub.execute_input": "2021-01-27T03:28:29.166214Z",
     "iopub.status.busy": "2021-01-27T03:28:29.165926Z",
     "iopub.status.idle": "2021-01-27T03:44:51.164205Z",
     "shell.execute_reply": "2021-01-27T03:44:51.162796Z",
     "shell.execute_reply.started": "2021-01-27T03:28:29.166171Z"
    },
    "jupyter": {
     "outputs_hidden": true
    }
   },
   "outputs": [
    {
     "name": "stdout",
     "output_type": "stream",
     "text": [
      "nChan: 385, nFileSamp: 18000000\n",
      "nChan: 385, nFileSamp: 18000000\n",
      "21:33:48: Finished /Volumes/neuropixel_archive/Data/chronic/CNPIX3-Valentino/raw/2-20-2020_g0/2-20-2020_g0_imec0/2-20-2020_g0_t3.imec0.lf.bin\n",
      "nChan: 385, nFileSamp: 18000000\n",
      "nChan: 385, nFileSamp: 18000000\n",
      "21:40:02: Finished /Volumes/neuropixel_archive/Data/chronic/CNPIX3-Valentino/raw/2-20-2020_g0/2-20-2020_g0_imec0/2-20-2020_g0_t4.imec0.lf.bin\n",
      "nChan: 385, nFileSamp: 18000000\n",
      "nChan: 385, nFileSamp: 18000000\n",
      "21:44:51: Finished /Volumes/neuropixel_archive/Data/chronic/CNPIX3-Valentino/raw/2-20-2020_g0/2-20-2020_g0_imec0/2-20-2020_g0_t5.imec0.lf.bin\n"
     ]
    }
   ],
   "source": [
    "run_bandpower_pipeline_on_condition(subject=\"Valentino\", condition=\"recovery-sleep-6h\")"
   ]
  },
  {
   "cell_type": "markdown",
   "metadata": {
    "collapsed": "true"
   },
   "source": [
    "### Doppio"
   ]
  },
  {
   "cell_type": "code",
   "execution_count": 14,
   "metadata": {
    "collapsed": true,
    "execution": {
     "iopub.execute_input": "2021-01-27T01:51:58.486777Z",
     "iopub.status.busy": "2021-01-27T01:51:58.486620Z",
     "iopub.status.idle": "2021-01-27T02:09:20.484250Z",
     "shell.execute_reply": "2021-01-27T02:09:20.483525Z",
     "shell.execute_reply.started": "2021-01-27T01:51:58.486754Z"
    },
    "jupyter": {
     "outputs_hidden": true
    }
   },
   "outputs": [
    {
     "name": "stdout",
     "output_type": "stream",
     "text": [
      "nChan: 385, nFileSamp: 18000019\n",
      "nChan: 385, nFileSamp: 18000019\n",
      "19:58:05: Finished /Volumes/neuropixel_archive/Data/chronic/CNPIX4-Doppio/raw/3-17-2020_g0/3-17-2020_g0_imec0/3-17-2020_g0_t0.imec0.lf.bin\n",
      "nChan: 385, nFileSamp: 18000019\n",
      "nChan: 385, nFileSamp: 18000019\n",
      "20:03:59: Finished /Volumes/neuropixel_archive/Data/chronic/CNPIX4-Doppio/raw/3-17-2020_g0/3-17-2020_g0_imec0/3-17-2020_g0_t1.imec0.lf.bin\n",
      "nChan: 385, nFileSamp: 18000019\n",
      "nChan: 385, nFileSamp: 18000019\n",
      "20:09:20: Finished /Volumes/neuropixel_archive/Data/chronic/CNPIX4-Doppio/raw/3-17-2020_g0/3-17-2020_g0_imec0/3-17-2020_g0_t2.imec0.lf.bin\n"
     ]
    }
   ],
   "source": [
    "run_bandpower_pipeline_on_condition(subject=\"Doppio\", condition=\"extended-wake-6h-circadian-match\")"
   ]
  },
  {
   "cell_type": "code",
   "execution_count": null,
   "metadata": {},
   "outputs": [],
   "source": [
    "run_bandpower_pipeline_on_condition(subject=\"Doppio\", condition=\"recovery-sleep-6h-circadian-match\")"
   ]
  },
  {
   "cell_type": "code",
   "execution_count": 28,
   "metadata": {
    "execution": {
     "iopub.execute_input": "2021-01-29T22:28:14.237473Z",
     "iopub.status.busy": "2021-01-29T22:28:14.237176Z",
     "iopub.status.idle": "2021-01-29T22:28:28.103818Z",
     "shell.execute_reply": "2021-01-29T22:28:28.103116Z",
     "shell.execute_reply.started": "2021-01-29T22:28:14.237440Z"
    }
   },
   "outputs": [
    {
     "name": "stdout",
     "output_type": "stream",
     "text": [
      "nChan: 385, nFileSamp: 17715805\n",
      "nChan: 385, nFileSamp: 17715805\n",
      "16:28:28: Finished /Volumes/neuropixel_archive/Data/chronic/CNPIX4-Doppio/raw/3-17-2020_g0/3-17-2020_g0_imec0/3-17-2020_g0_t11.imec0.lf.bin\n"
     ]
    }
   ],
   "source": [
    "run_bandpower_pipeline_on_condition(subject=\"Doppio\", condition=\"dark-period-last-2h\")"
   ]
  },
  {
   "cell_type": "code",
   "execution_count": 13,
   "metadata": {
    "collapsed": true,
    "execution": {
     "iopub.execute_input": "2021-01-27T01:37:01.238669Z",
     "iopub.status.busy": "2021-01-27T01:37:01.238516Z",
     "iopub.status.idle": "2021-01-27T01:51:58.485465Z",
     "shell.execute_reply": "2021-01-27T01:51:58.484689Z",
     "shell.execute_reply.started": "2021-01-27T01:37:01.238650Z"
    },
    "jupyter": {
     "outputs_hidden": true
    }
   },
   "outputs": [
    {
     "name": "stdout",
     "output_type": "stream",
     "text": [
      "nChan: 385, nFileSamp: 18000019\n",
      "nChan: 385, nFileSamp: 18000019\n",
      "19:41:23: Finished /Volumes/neuropixel_archive/Data/chronic/CNPIX4-Doppio/raw/3-18-2020_g0/3-18-2020_g0_imec0/3-18-2020_g0_t0.imec0.lf.bin\n",
      "nChan: 385, nFileSamp: 18000019\n",
      "nChan: 385, nFileSamp: 18000019\n",
      "19:47:31: Finished /Volumes/neuropixel_archive/Data/chronic/CNPIX4-Doppio/raw/3-18-2020_g0/3-18-2020_g0_imec0/3-18-2020_g0_t1.imec0.lf.bin\n",
      "nChan: 385, nFileSamp: 18000019\n",
      "nChan: 385, nFileSamp: 18000019\n",
      "19:51:58: Finished /Volumes/neuropixel_archive/Data/chronic/CNPIX4-Doppio/raw/3-18-2020_g0/3-18-2020_g0_imec0/3-18-2020_g0_t2.imec0.lf.bin\n"
     ]
    }
   ],
   "source": [
    "run_bandpower_pipeline_on_condition(subject=\"Doppio\", condition=\"extended-wake-6h\")"
   ]
  },
  {
   "cell_type": "code",
   "execution_count": 12,
   "metadata": {
    "collapsed": true,
    "execution": {
     "iopub.execute_input": "2021-01-27T01:21:01.944199Z",
     "iopub.status.busy": "2021-01-27T01:21:01.943722Z",
     "iopub.status.idle": "2021-01-27T01:37:01.215360Z",
     "shell.execute_reply": "2021-01-27T01:37:01.214532Z",
     "shell.execute_reply.started": "2021-01-27T01:21:01.944121Z"
    },
    "jupyter": {
     "outputs_hidden": true
    }
   },
   "outputs": [
    {
     "name": "stdout",
     "output_type": "stream",
     "text": [
      "nChan: 385, nFileSamp: 18000019\n",
      "nChan: 385, nFileSamp: 18000019\n",
      "19:26:06: Finished /Volumes/neuropixel_archive/Data/chronic/CNPIX4-Doppio/raw/3-18-2020_g0/3-18-2020_g0_imec0/3-18-2020_g0_t3.imec0.lf.bin\n",
      "nChan: 385, nFileSamp: 18000019\n",
      "nChan: 385, nFileSamp: 18000019\n",
      "19:30:47: Finished /Volumes/neuropixel_archive/Data/chronic/CNPIX4-Doppio/raw/3-18-2020_g0/3-18-2020_g0_imec0/3-18-2020_g0_t4.imec0.lf.bin\n",
      "nChan: 385, nFileSamp: 18000019\n",
      "nChan: 385, nFileSamp: 18000019\n",
      "19:37:01: Finished /Volumes/neuropixel_archive/Data/chronic/CNPIX4-Doppio/raw/3-18-2020_g0/3-18-2020_g0_imec0/3-18-2020_g0_t5.imec0.lf.bin\n"
     ]
    }
   ],
   "source": [
    "run_bandpower_pipeline_on_condition(subject=\"Doppio\", condition=\"recovery-sleep-6h\")"
   ]
  },
  {
   "cell_type": "markdown",
   "metadata": {},
   "source": [
    "### Alessandro"
   ]
  },
  {
   "cell_type": "code",
   "execution_count": 35,
   "metadata": {
    "execution": {
     "iopub.execute_input": "2021-02-02T21:51:50.973481Z",
     "iopub.status.busy": "2021-02-02T21:51:50.973274Z",
     "iopub.status.idle": "2021-02-02T22:20:15.702942Z",
     "shell.execute_reply": "2021-02-02T22:20:15.702183Z",
     "shell.execute_reply.started": "2021-02-02T21:51:50.973457Z"
    }
   },
   "outputs": [
    {
     "name": "stdout",
     "output_type": "stream",
     "text": [
      "nChan: 385, nFileSamp: 9000051\n",
      "nChan: 385, nFileSamp: 9000051\n",
      "15:52:52: Finished /Volumes/neuropixel_archive/Data/chronic/CNPIX5-Alessandro/raw/8-24-2020_g0/8-24-2020_g0_imec0/8-24-2020_g0_t0.imec0.lf.bin\n",
      "nChan: 385, nFileSamp: 9000052\n",
      "nChan: 385, nFileSamp: 9000052\n",
      "15:55:11: Finished /Volumes/neuropixel_archive/Data/chronic/CNPIX5-Alessandro/raw/8-24-2020_g0/8-24-2020_g0_imec0/8-24-2020_g0_t1.imec0.lf.bin\n",
      "nChan: 385, nFileSamp: 9000052\n",
      "nChan: 385, nFileSamp: 9000052\n",
      "15:58:35: Finished /Volumes/neuropixel_archive/Data/chronic/CNPIX5-Alessandro/raw/8-24-2020_g0/8-24-2020_g0_imec0/8-24-2020_g0_t2.imec0.lf.bin\n",
      "nChan: 385, nFileSamp: 9000052\n",
      "nChan: 385, nFileSamp: 9000052\n",
      "16:00:56: Finished /Volumes/neuropixel_archive/Data/chronic/CNPIX5-Alessandro/raw/8-24-2020_g0/8-24-2020_g0_imec0/8-24-2020_g0_t3.imec0.lf.bin\n",
      "nChan: 385, nFileSamp: 9000051\n",
      "nChan: 385, nFileSamp: 9000051\n",
      "16:03:04: Finished /Volumes/neuropixel_archive/Data/chronic/CNPIX5-Alessandro/raw/8-24-2020_g0/8-24-2020_g0_imec0/8-24-2020_g0_t4.imec0.lf.bin\n",
      "nChan: 385, nFileSamp: 9000051\n",
      "nChan: 385, nFileSamp: 9000051\n",
      "16:05:25: Finished /Volumes/neuropixel_archive/Data/chronic/CNPIX5-Alessandro/raw/8-24-2020_g0/8-24-2020_g0_imec0/8-24-2020_g0_t5.imec0.lf.bin\n",
      "nChan: 385, nFileSamp: 9000052\n",
      "nChan: 385, nFileSamp: 9000052\n",
      "16:08:59: Finished /Volumes/neuropixel_archive/Data/chronic/CNPIX5-Alessandro/raw/8-24-2020_g0/8-24-2020_g0_imec0/8-24-2020_g0_t6.imec0.lf.bin\n",
      "nChan: 385, nFileSamp: 9000052\n",
      "nChan: 385, nFileSamp: 9000052\n",
      "16:11:35: Finished /Volumes/neuropixel_archive/Data/chronic/CNPIX5-Alessandro/raw/8-24-2020_g0/8-24-2020_g0_imec0/8-24-2020_g0_t7.imec0.lf.bin\n",
      "nChan: 385, nFileSamp: 9000052\n",
      "nChan: 385, nFileSamp: 9000052\n",
      "16:13:40: Finished /Volumes/neuropixel_archive/Data/chronic/CNPIX5-Alessandro/raw/8-24-2020_g0/8-24-2020_g0_imec0/8-24-2020_g0_t8.imec0.lf.bin\n",
      "nChan: 385, nFileSamp: 9000052\n",
      "nChan: 385, nFileSamp: 9000052\n",
      "16:15:58: Finished /Volumes/neuropixel_archive/Data/chronic/CNPIX5-Alessandro/raw/8-24-2020_g0/8-24-2020_g0_imec0/8-24-2020_g0_t9.imec0.lf.bin\n",
      "nChan: 385, nFileSamp: 9000051\n",
      "nChan: 385, nFileSamp: 9000051\n",
      "16:17:30: Finished /Volumes/neuropixel_archive/Data/chronic/CNPIX5-Alessandro/raw/8-24-2020_g0/8-24-2020_g0_imec0/8-24-2020_g0_t10.imec0.lf.bin\n",
      "nChan: 385, nFileSamp: 9000052\n",
      "nChan: 385, nFileSamp: 9000052\n",
      "16:20:15: Finished /Volumes/neuropixel_archive/Data/chronic/CNPIX5-Alessandro/raw/8-24-2020_g0/8-24-2020_g0_imec0/8-24-2020_g0_t11.imec0.lf.bin\n"
     ]
    }
   ],
   "source": [
    "run_bandpower_pipeline_on_condition(subject=\"Alessandro\", condition=\"sleep-deprivation-12h-circadian-match\")"
   ]
  },
  {
   "cell_type": "code",
   "execution_count": 15,
   "metadata": {
    "collapsed": true,
    "execution": {
     "iopub.execute_input": "2021-01-27T02:09:20.485542Z",
     "iopub.status.busy": "2021-01-27T02:09:20.485347Z",
     "iopub.status.idle": "2021-01-27T02:25:45.234676Z",
     "shell.execute_reply": "2021-01-27T02:25:45.233982Z",
     "shell.execute_reply.started": "2021-01-27T02:09:20.485513Z"
    },
    "jupyter": {
     "outputs_hidden": true
    }
   },
   "outputs": [
    {
     "name": "stdout",
     "output_type": "stream",
     "text": [
      "nChan: 385, nFileSamp: 9000051\n",
      "nChan: 385, nFileSamp: 9000051\n",
      "20:12:58: Finished /Volumes/neuropixel_archive/Data/chronic/CNPIX5-Alessandro/raw/8-25-2020_SD_g0/8-25-2020_SD_g0_imec0/8-25-2020_SD_g0_t0.imec0.lf.bin\n",
      "nChan: 385, nFileSamp: 9000052\n",
      "nChan: 385, nFileSamp: 9000052\n",
      "20:16:09: Finished /Volumes/neuropixel_archive/Data/chronic/CNPIX5-Alessandro/raw/8-25-2020_SD_g0/8-25-2020_SD_g0_imec0/8-25-2020_SD_g0_t1.imec0.lf.bin\n",
      "nChan: 385, nFileSamp: 8127109\n",
      "nChan: 385, nFileSamp: 8127109\n",
      "20:18:16: Finished /Volumes/neuropixel_archive/Data/chronic/CNPIX5-Alessandro/raw/8-25-2020_SD_g0/8-25-2020_SD_g0_imec0/8-25-2020_SD_g0_t2.imec0.lf.bin\n",
      "nChan: 385, nFileSamp: 8277840\n",
      "nChan: 385, nFileSamp: 8277840\n",
      "20:20:20: Finished /Volumes/neuropixel_archive/Data/chronic/CNPIX5-Alessandro/raw/8-25-2020_SD2_g0/8-25-2020_SD2_g0_imec0/8-25-2020_SD2_g0_t0.imec0.lf.bin\n",
      "nChan: 385, nFileSamp: 9000052\n",
      "nChan: 385, nFileSamp: 9000052\n",
      "20:23:28: Finished /Volumes/neuropixel_archive/Data/chronic/CNPIX5-Alessandro/raw/8-25-2020_g0/8-25-2020_g0_imec0/8-25-2020_g0_t0.imec0.lf.bin\n",
      "nChan: 385, nFileSamp: 9000052\n",
      "nChan: 385, nFileSamp: 9000052\n",
      "20:25:45: Finished /Volumes/neuropixel_archive/Data/chronic/CNPIX5-Alessandro/raw/8-25-2020_g0/8-25-2020_g0_imec0/8-25-2020_g0_t1.imec0.lf.bin\n"
     ]
    }
   ],
   "source": [
    "run_bandpower_pipeline_on_condition(subject=\"Alessandro\", condition=\"extended-wake-6h\")"
   ]
  },
  {
   "cell_type": "code",
   "execution_count": 16,
   "metadata": {
    "collapsed": true,
    "execution": {
     "iopub.execute_input": "2021-01-27T02:25:45.236001Z",
     "iopub.status.busy": "2021-01-27T02:25:45.235790Z",
     "iopub.status.idle": "2021-01-27T02:42:37.151015Z",
     "shell.execute_reply": "2021-01-27T02:42:37.150392Z",
     "shell.execute_reply.started": "2021-01-27T02:25:45.235971Z"
    },
    "jupyter": {
     "outputs_hidden": true
    }
   },
   "outputs": [
    {
     "name": "stdout",
     "output_type": "stream",
     "text": [
      "nChan: 385, nFileSamp: 9000052\n",
      "nChan: 385, nFileSamp: 9000052\n",
      "20:28:49: Finished /Volumes/neuropixel_archive/Data/chronic/CNPIX5-Alessandro/raw/8-25-2020_g0/8-25-2020_g0_imec0/8-25-2020_g0_t2.imec0.lf.bin\n",
      "nChan: 385, nFileSamp: 9000052\n",
      "nChan: 385, nFileSamp: 9000052\n",
      "20:31:28: Finished /Volumes/neuropixel_archive/Data/chronic/CNPIX5-Alessandro/raw/8-25-2020_g0/8-25-2020_g0_imec0/8-25-2020_g0_t3.imec0.lf.bin\n",
      "nChan: 385, nFileSamp: 9000051\n",
      "nChan: 385, nFileSamp: 9000051\n",
      "20:34:09: Finished /Volumes/neuropixel_archive/Data/chronic/CNPIX5-Alessandro/raw/8-25-2020_g0/8-25-2020_g0_imec0/8-25-2020_g0_t4.imec0.lf.bin\n",
      "nChan: 385, nFileSamp: 9000052\n",
      "nChan: 385, nFileSamp: 9000052\n",
      "20:37:17: Finished /Volumes/neuropixel_archive/Data/chronic/CNPIX5-Alessandro/raw/8-25-2020_g0/8-25-2020_g0_imec0/8-25-2020_g0_t5.imec0.lf.bin\n",
      "nChan: 385, nFileSamp: 9000052\n",
      "nChan: 385, nFileSamp: 9000052\n",
      "20:39:33: Finished /Volumes/neuropixel_archive/Data/chronic/CNPIX5-Alessandro/raw/8-25-2020_g0/8-25-2020_g0_imec0/8-25-2020_g0_t6.imec0.lf.bin\n",
      "nChan: 385, nFileSamp: 9000052\n",
      "nChan: 385, nFileSamp: 9000052\n",
      "20:42:37: Finished /Volumes/neuropixel_archive/Data/chronic/CNPIX5-Alessandro/raw/8-25-2020_g0/8-25-2020_g0_imec0/8-25-2020_g0_t7.imec0.lf.bin\n"
     ]
    }
   ],
   "source": [
    "run_bandpower_pipeline_on_condition(subject=\"Alessandro\", condition=\"recovery-sleep-6h\")"
   ]
  },
  {
   "cell_type": "markdown",
   "metadata": {
    "collapsed": "true"
   },
   "source": [
    "### Eugene"
   ]
  },
  {
   "cell_type": "code",
   "execution_count": 17,
   "metadata": {
    "collapsed": true,
    "execution": {
     "iopub.execute_input": "2021-01-27T02:42:37.152160Z",
     "iopub.status.busy": "2021-01-27T02:42:37.151977Z",
     "iopub.status.idle": "2021-01-27T02:57:20.824454Z",
     "shell.execute_reply": "2021-01-27T02:57:20.823588Z",
     "shell.execute_reply.started": "2021-01-27T02:42:37.152134Z"
    },
    "jupyter": {
     "outputs_hidden": true
    }
   },
   "outputs": [
    {
     "name": "stdout",
     "output_type": "stream",
     "text": [
      "nChan: 385, nFileSamp: 800217\n",
      "nChan: 385, nFileSamp: 800217\n",
      "20:42:54: Finished /Volumes/neuropixel_archive/Data/chronic/CNPIX6-Eugene/raw/9.24.2020_SD_24hs_g0/9.24.2020_SD_24hs_g0_imec0/9.24.2020_SD_24hs_g0_t0.imec0.lf.bin\n",
      "nChan: 385, nFileSamp: 2877424\n",
      "nChan: 385, nFileSamp: 2877424\n",
      "20:43:41: Finished /Volumes/neuropixel_archive/Data/chronic/CNPIX6-Eugene/raw/9.24.2020_SD_24hs1_g0/9.24.2020_SD_24hs1_g0_imec0/9.24.2020_SD_24hs1_g0_t0.imec0.lf.bin\n",
      "nChan: 385, nFileSamp: 2430722\n",
      "nChan: 385, nFileSamp: 2430722\n",
      "20:44:23: Finished /Volumes/neuropixel_archive/Data/chronic/CNPIX6-Eugene/raw/9.24.2020_SD_24hs2_g0/9.24.2020_SD_24hs2_g0_imec0/9.24.2020_SD_24hs2_g0_t0.imec0.lf.bin\n",
      "nChan: 385, nFileSamp: 5735230\n",
      "nChan: 385, nFileSamp: 5735230\n",
      "20:46:41: Finished /Volumes/neuropixel_archive/Data/chronic/CNPIX6-Eugene/raw/9.24.2020_SD_24hs3_g0/9.24.2020_SD_24hs3_g0_imec0/9.24.2020_SD_24hs3_g0_t0.imec0.lf.bin\n",
      "nChan: 385, nFileSamp: 9000025\n",
      "nChan: 385, nFileSamp: 9000025\n",
      "20:49:05: Finished /Volumes/neuropixel_archive/Data/chronic/CNPIX6-Eugene/raw/9.24.2020_SD_24hs3_g1/9.24.2020_SD_24hs3_g1_imec0/9.24.2020_SD_24hs3_g1_t0.imec0.lf.bin\n",
      "nChan: 385, nFileSamp: 5608943\n",
      "nChan: 385, nFileSamp: 5608943\n",
      "20:51:25: Finished /Volumes/neuropixel_archive/Data/chronic/CNPIX6-Eugene/raw/9.24.2020_SD_24hs3_g1/9.24.2020_SD_24hs3_g1_imec0/9.24.2020_SD_24hs3_g1_t1.imec0.lf.bin\n",
      "nChan: 385, nFileSamp: 2417612\n",
      "nChan: 385, nFileSamp: 2417612\n",
      "20:52:10: Finished /Volumes/neuropixel_archive/Data/chronic/CNPIX6-Eugene/raw/9.24.2020_SD_24hs4_g0/9.24.2020_SD_24hs4_g0_imec0/9.24.2020_SD_24hs4_g0_t0.imec0.lf.bin\n",
      "nChan: 385, nFileSamp: 3435368\n",
      "nChan: 385, nFileSamp: 3435368\n",
      "20:53:05: Finished /Volumes/neuropixel_archive/Data/chronic/CNPIX6-Eugene/raw/9.24.2020_SD_24hs5_g0/9.24.2020_SD_24hs5_g0_imec0/9.24.2020_SD_24hs5_g0_t0.imec0.lf.bin\n",
      "nChan: 385, nFileSamp: 1369314\n",
      "nChan: 385, nFileSamp: 1369314\n",
      "20:53:27: Finished /Volumes/neuropixel_archive/Data/chronic/CNPIX6-Eugene/raw/9.24.2020_SD_24hs7_g0/9.24.2020_SD_24hs7_g0_imec0/9.24.2020_SD_24hs7_g0_t0.imec0.lf.bin\n",
      "nChan: 385, nFileSamp: 9000025\n",
      "nChan: 385, nFileSamp: 9000025\n",
      "20:56:34: Finished /Volumes/neuropixel_archive/Data/chronic/CNPIX6-Eugene/raw/9.24.2020_SD_24hs8_g0/9.24.2020_SD_24hs8_g0_imec0/9.24.2020_SD_24hs8_g0_t0.imec0.lf.bin\n",
      "nChan: 385, nFileSamp: 2946948\n",
      "nChan: 385, nFileSamp: 2946948\n",
      "20:57:20: Finished /Volumes/neuropixel_archive/Data/chronic/CNPIX6-Eugene/raw/9.24.2020_SD_24hs8_g0/9.24.2020_SD_24hs8_g0_imec0/9.24.2020_SD_24hs8_g0_t1.imec0.lf.bin\n"
     ]
    }
   ],
   "source": [
    "run_bandpower_pipeline_on_condition(subject=\"Eugene\", condition=\"extended-wake-6h\")"
   ]
  },
  {
   "cell_type": "code",
   "execution_count": 18,
   "metadata": {
    "collapsed": true,
    "execution": {
     "iopub.execute_input": "2021-01-27T02:57:20.827457Z",
     "iopub.status.busy": "2021-01-27T02:57:20.827173Z",
     "iopub.status.idle": "2021-01-27T03:11:06.547027Z",
     "shell.execute_reply": "2021-01-27T03:11:06.546237Z",
     "shell.execute_reply.started": "2021-01-27T02:57:20.827414Z"
    },
    "jupyter": {
     "outputs_hidden": true
    }
   },
   "outputs": [
    {
     "name": "stdout",
     "output_type": "stream",
     "text": [
      "nChan: 385, nFileSamp: 9000026\n",
      "nChan: 385, nFileSamp: 9000026\n",
      "21:00:02: Finished /Volumes/neuropixel_archive/Data/chronic/CNPIX6-Eugene/raw/9.24.2020_SR_24hs_g0/9.24.2020_SR_24hs_g0_imec0/9.24.2020_SR_24hs_g0_t0.imec0.lf.bin\n",
      "nChan: 385, nFileSamp: 9000026\n",
      "nChan: 385, nFileSamp: 9000026\n",
      "21:02:35: Finished /Volumes/neuropixel_archive/Data/chronic/CNPIX6-Eugene/raw/9.24.2020_SR_24hs_g0/9.24.2020_SR_24hs_g0_imec0/9.24.2020_SR_24hs_g0_t1.imec0.lf.bin\n",
      "nChan: 385, nFileSamp: 9000026\n",
      "nChan: 385, nFileSamp: 9000026\n",
      "21:05:12: Finished /Volumes/neuropixel_archive/Data/chronic/CNPIX6-Eugene/raw/9.24.2020_SR_24hs_g0/9.24.2020_SR_24hs_g0_imec0/9.24.2020_SR_24hs_g0_t2.imec0.lf.bin\n",
      "nChan: 385, nFileSamp: 9000026\n",
      "nChan: 385, nFileSamp: 9000026\n",
      "21:07:52: Finished /Volumes/neuropixel_archive/Data/chronic/CNPIX6-Eugene/raw/9.24.2020_SR_24hs_g0/9.24.2020_SR_24hs_g0_imec0/9.24.2020_SR_24hs_g0_t3.imec0.lf.bin\n",
      "nChan: 385, nFileSamp: 9000025\n",
      "nChan: 385, nFileSamp: 9000025\n",
      "21:11:06: Finished /Volumes/neuropixel_archive/Data/chronic/CNPIX6-Eugene/raw/9.24.2020_SR_24hs_g0/9.24.2020_SR_24hs_g0_imec0/9.24.2020_SR_24hs_g0_t4.imec0.lf.bin\n"
     ]
    }
   ],
   "source": [
    "run_bandpower_pipeline_on_condition(subject=\"Eugene\", condition=\"recovery-sleep-6h\")"
   ]
  },
  {
   "cell_type": "code",
   "execution_count": 29,
   "metadata": {
    "collapsed": true,
    "execution": {
     "iopub.execute_input": "2021-01-29T22:28:28.125860Z",
     "iopub.status.busy": "2021-01-29T22:28:28.125710Z",
     "iopub.status.idle": "2021-01-29T22:29:58.173645Z",
     "shell.execute_reply": "2021-01-29T22:29:58.172964Z",
     "shell.execute_reply.started": "2021-01-29T22:28:28.125841Z"
    },
    "jupyter": {
     "outputs_hidden": true
    }
   },
   "outputs": [
    {
     "name": "stdout",
     "output_type": "stream",
     "text": [
      "nChan: 385, nFileSamp: 510366\n",
      "nChan: 385, nFileSamp: 510366\n",
      "16:28:37: Finished /Volumes/neuropixel_archive/Data/chronic/CNPIX6-Eugene/raw/9.24.2020_SR_24hs_g0/9.24.2020_SR_24hs_g0_imec0/9.24.2020_SR_24hs_g0_t5.imec0.lf.bin\n",
      "nChan: 385, nFileSamp: 5341730\n",
      "nChan: 385, nFileSamp: 5341730\n",
      "16:29:58: Finished /Volumes/neuropixel_archive/Data/chronic/CNPIX6-Eugene/raw/9.24.2020_SR_24hs1_g0/9.24.2020_SR_24hs1_g0_imec0/9.24.2020_SR_24hs1_g0_t0.imec0.lf.bin\n"
     ]
    }
   ],
   "source": [
    "run_bandpower_pipeline_on_condition(subject=\"Eugene\", condition=\"recovery-sleep-patch\")"
   ]
  },
  {
   "cell_type": "markdown",
   "metadata": {
    "collapsed": "true"
   },
   "source": [
    "# Run pipeline piecemeal"
   ]
  },
  {
   "cell_type": "code",
   "execution_count": 11,
   "metadata": {
    "execution": {
     "iopub.execute_input": "2021-01-12T18:31:21.582529Z",
     "iopub.status.busy": "2021-01-12T18:31:21.582153Z",
     "iopub.status.idle": "2021-01-12T18:31:21.603071Z",
     "shell.execute_reply": "2021-01-12T18:31:21.602449Z",
     "shell.execute_reply.started": "2021-01-12T18:31:21.582483Z"
    }
   },
   "outputs": [],
   "source": [
    "%matplotlib widget"
   ]
  },
  {
   "cell_type": "code",
   "execution_count": 12,
   "metadata": {
    "execution": {
     "iopub.execute_input": "2021-01-12T18:31:21.903784Z",
     "iopub.status.busy": "2021-01-12T18:31:21.903489Z",
     "iopub.status.idle": "2021-01-12T18:31:21.953067Z",
     "shell.execute_reply": "2021-01-12T18:31:21.952481Z",
     "shell.execute_reply.started": "2021-01-12T18:31:21.903746Z"
    }
   },
   "outputs": [],
   "source": [
    "import matplotlib.pyplot as plt\n",
    "from ecephys.plot import plot_spectrogram, plot_hypnogram_overlay\n",
    "from ecephys.scoring import load_visbrain_hypnogram\n",
    "from neurodsp.plts.time_series import plot_time_series\n",
    "from ripple_detection.core import gaussian_smooth\n",
    "smoothing_sigma = 2 # seconds"
   ]
  },
  {
   "cell_type": "code",
   "execution_count": 13,
   "metadata": {
    "execution": {
     "iopub.execute_input": "2021-01-12T18:31:22.751849Z",
     "iopub.status.busy": "2021-01-12T18:31:22.751529Z",
     "iopub.status.idle": "2021-01-12T18:31:22.775787Z",
     "shell.execute_reply": "2021-01-12T18:31:22.775171Z",
     "shell.execute_reply.started": "2021-01-12T18:31:22.751811Z"
    }
   },
   "outputs": [],
   "source": [
    "SUBJECT=\"Segundo\"\n",
    "CONDITION=\"REC-2-0\"\n",
    "START_TIME = 0\n",
    "END_TIME = 60\n",
    "bin_path = paths.get_datapath_from_csv(subject=SUBJECT, condition=CONDITION, data=\"lf.bin\")"
   ]
  },
  {
   "cell_type": "markdown",
   "metadata": {},
   "source": [
    "## Cortex"
   ]
  },
  {
   "cell_type": "code",
   "execution_count": 14,
   "metadata": {
    "execution": {
     "iopub.execute_input": "2021-01-12T18:31:25.473423Z",
     "iopub.status.busy": "2021-01-12T18:31:25.473172Z",
     "iopub.status.idle": "2021-01-12T18:31:26.754676Z",
     "shell.execute_reply": "2021-01-12T18:31:26.753971Z",
     "shell.execute_reply.started": "2021-01-12T18:31:25.473375Z"
    }
   },
   "outputs": [
    {
     "name": "stdout",
     "output_type": "stream",
     "text": [
      "nChan: 385, nFileSamp: 18000001\n"
     ]
    }
   ],
   "source": [
    "cx_chans = channel_groups.superficial_ctx[SUBJECT]\n",
    "cx_sig = load_timeseries(bin_path, cx_chans, start_time=START_TIME, end_time=END_TIME, xarray=True)"
   ]
  },
  {
   "cell_type": "code",
   "execution_count": 104,
   "metadata": {
    "execution": {
     "iopub.execute_input": "2021-01-08T18:11:06.837571Z",
     "iopub.status.busy": "2021-01-08T18:11:06.837415Z",
     "iopub.status.idle": "2021-01-08T18:11:11.092521Z",
     "shell.execute_reply": "2021-01-08T18:11:11.092001Z",
     "shell.execute_reply.started": "2021-01-08T18:11:06.837552Z"
    }
   },
   "outputs": [],
   "source": [
    "cx_spg = get_spectrogram(cx_sig)"
   ]
  },
  {
   "cell_type": "code",
   "execution_count": 105,
   "metadata": {
    "execution": {
     "iopub.execute_input": "2021-01-08T18:11:11.093840Z",
     "iopub.status.busy": "2021-01-08T18:11:11.093651Z",
     "iopub.status.idle": "2021-01-08T18:11:11.113693Z",
     "shell.execute_reply": "2021-01-08T18:11:11.113214Z",
     "shell.execute_reply.started": "2021-01-08T18:11:11.093818Z"
    }
   },
   "outputs": [],
   "source": [
    "cx_theta = _get_bandpower(cx_spg, THETA_RANGE, cx_chans)\n",
    "cx_delta = _get_bandpower(cx_spg, DELTA_RANGE, cx_chans)"
   ]
  },
  {
   "cell_type": "markdown",
   "metadata": {},
   "source": [
    "### Plot"
   ]
  },
  {
   "cell_type": "code",
   "execution_count": 36,
   "metadata": {
    "execution": {
     "iopub.execute_input": "2021-01-08T02:24:07.665988Z",
     "iopub.status.busy": "2021-01-08T02:24:07.665863Z",
     "iopub.status.idle": "2021-01-08T02:24:08.502144Z",
     "shell.execute_reply": "2021-01-08T02:24:08.501519Z",
     "shell.execute_reply.started": "2021-01-08T02:24:07.665972Z"
    }
   },
   "outputs": [
    {
     "data": {
      "application/vnd.jupyter.widget-view+json": {
       "model_id": "ec0767009f78481a8706619c012bf87f",
       "version_major": 2,
       "version_minor": 0
      },
      "text/plain": [
       "Canvas(toolbar=Toolbar(toolitems=[('Home', 'Reset original view', 'home', 'home'), ('Back', 'Back to previous …"
      ]
     },
     "metadata": {},
     "output_type": "display_data"
    }
   ],
   "source": [
    "plot_spectrogram(cx_spg.frequency, cx_spg.time, cx_spg, yscale='log')"
   ]
  },
  {
   "cell_type": "code",
   "execution_count": 37,
   "metadata": {
    "execution": {
     "iopub.execute_input": "2021-01-08T02:24:08.503045Z",
     "iopub.status.busy": "2021-01-08T02:24:08.502902Z",
     "iopub.status.idle": "2021-01-08T02:24:08.672851Z",
     "shell.execute_reply": "2021-01-08T02:24:08.672302Z",
     "shell.execute_reply.started": "2021-01-08T02:24:08.503027Z"
    }
   },
   "outputs": [
    {
     "data": {
      "application/vnd.jupyter.widget-view+json": {
       "model_id": "2b5a6a7a6c034180a9a3f0e0ae594f3a",
       "version_major": 2,
       "version_minor": 0
      },
      "text/plain": [
       "Canvas(toolbar=Toolbar(toolitems=[('Home', 'Reset original view', 'home', 'home'), ('Back', 'Back to previous …"
      ]
     },
     "metadata": {},
     "output_type": "display_data"
    }
   ],
   "source": [
    "_, ax = plt.subplots(figsize=(24, 3))\n",
    "plot_time_series(cx_spg.time.values, cx_delta.values, ax=ax, title=\"Cortical Delta\", ylabel=\"Power\")\n",
    "#plot_hypnogram_overlay(hypno, ax=ax)"
   ]
  },
  {
   "cell_type": "code",
   "execution_count": 38,
   "metadata": {
    "execution": {
     "iopub.execute_input": "2021-01-08T02:24:08.674221Z",
     "iopub.status.busy": "2021-01-08T02:24:08.673855Z",
     "iopub.status.idle": "2021-01-08T02:24:08.804156Z",
     "shell.execute_reply": "2021-01-08T02:24:08.803774Z",
     "shell.execute_reply.started": "2021-01-08T02:24:08.674190Z"
    }
   },
   "outputs": [
    {
     "data": {
      "application/vnd.jupyter.widget-view+json": {
       "model_id": "9fec1e21649f4c93b35e046b2ddcf684",
       "version_major": 2,
       "version_minor": 0
      },
      "text/plain": [
       "Canvas(toolbar=Toolbar(toolitems=[('Home', 'Reset original view', 'home', 'home'), ('Back', 'Back to previous …"
      ]
     },
     "metadata": {},
     "output_type": "display_data"
    }
   ],
   "source": [
    "_, ax = plt.subplots(figsize=(24, 3))\n",
    "plot_time_series(cx_spg.time.values, cx_theta.values, ax=ax, title=\"Cortical Theta\", ylabel=\"Power\")\n",
    "#plot_hypnogram_overlay(hypno, ax=ax)"
   ]
  },
  {
   "cell_type": "code",
   "execution_count": 39,
   "metadata": {
    "execution": {
     "iopub.execute_input": "2021-01-08T02:24:08.805438Z",
     "iopub.status.busy": "2021-01-08T02:24:08.805306Z",
     "iopub.status.idle": "2021-01-08T02:24:08.867648Z",
     "shell.execute_reply": "2021-01-08T02:24:08.867136Z",
     "shell.execute_reply.started": "2021-01-08T02:24:08.805422Z"
    }
   },
   "outputs": [
    {
     "data": {
      "application/vnd.jupyter.widget-view+json": {
       "model_id": "a8ee12ad47f4418a81c59dfc0d0ed22a",
       "version_major": 2,
       "version_minor": 0
      },
      "text/plain": [
       "Canvas(toolbar=Toolbar(toolitems=[('Home', 'Reset original view', 'home', 'home'), ('Back', 'Back to previous …"
      ]
     },
     "metadata": {},
     "output_type": "display_data"
    }
   ],
   "source": [
    "_, ax = plt.subplots(figsize=(24, 3))\n",
    "plot_time_series(cx_spg.time.values, cx_theta.values / cx_delta.values, title=\"Cortical theta/delta ratio\", ylabel=\"Ratio\", ax=ax)\n",
    "#plot_hypnogram_overlay(hypno, ax=ax)"
   ]
  },
  {
   "cell_type": "markdown",
   "metadata": {},
   "source": [
    "## Theta"
   ]
  },
  {
   "cell_type": "code",
   "execution_count": 106,
   "metadata": {
    "execution": {
     "iopub.execute_input": "2021-01-08T18:11:11.114530Z",
     "iopub.status.busy": "2021-01-08T18:11:11.114377Z",
     "iopub.status.idle": "2021-01-08T18:13:15.734667Z",
     "shell.execute_reply": "2021-01-08T18:13:15.733874Z",
     "shell.execute_reply.started": "2021-01-08T18:11:11.114513Z"
    }
   },
   "outputs": [
    {
     "name": "stdout",
     "output_type": "stream",
     "text": [
      "nChan: 385, nFileSamp: 18000001\n"
     ]
    }
   ],
   "source": [
    "sr_chans = channel_groups.stratum_radiatum_140um_to_200um[SUBJECT]\n",
    "sr_sig = load_timeseries(bin_path, sr_chans, start_time=START_TIME, end_time=END_TIME, xarray=True)"
   ]
  },
  {
   "cell_type": "code",
   "execution_count": 107,
   "metadata": {
    "execution": {
     "iopub.execute_input": "2021-01-08T18:13:15.735896Z",
     "iopub.status.busy": "2021-01-08T18:13:15.735722Z",
     "iopub.status.idle": "2021-01-08T18:13:19.074964Z",
     "shell.execute_reply": "2021-01-08T18:13:19.074307Z",
     "shell.execute_reply.started": "2021-01-08T18:13:15.735876Z"
    }
   },
   "outputs": [],
   "source": [
    "sr_spg = get_spectrogram(sr_sig)"
   ]
  },
  {
   "cell_type": "code",
   "execution_count": 108,
   "metadata": {
    "execution": {
     "iopub.execute_input": "2021-01-08T18:13:19.076014Z",
     "iopub.status.busy": "2021-01-08T18:13:19.075852Z",
     "iopub.status.idle": "2021-01-08T18:13:19.095895Z",
     "shell.execute_reply": "2021-01-08T18:13:19.095432Z",
     "shell.execute_reply.started": "2021-01-08T18:13:19.075995Z"
    }
   },
   "outputs": [],
   "source": [
    "sr_theta = _get_bandpower(sr_spg, THETA_RANGE, sr_chans)\n",
    "sr_delta = _get_bandpower(sr_spg, DELTA_RANGE, sr_chans)"
   ]
  },
  {
   "cell_type": "markdown",
   "metadata": {},
   "source": [
    "### Plot"
   ]
  },
  {
   "cell_type": "code",
   "execution_count": 43,
   "metadata": {
    "execution": {
     "iopub.execute_input": "2021-01-08T02:26:19.293683Z",
     "iopub.status.busy": "2021-01-08T02:26:19.293522Z",
     "iopub.status.idle": "2021-01-08T02:26:20.376744Z",
     "shell.execute_reply": "2021-01-08T02:26:20.375998Z",
     "shell.execute_reply.started": "2021-01-08T02:26:19.293663Z"
    }
   },
   "outputs": [
    {
     "data": {
      "application/vnd.jupyter.widget-view+json": {
       "model_id": "758871ca2d784ee49ae363d2404638f8",
       "version_major": 2,
       "version_minor": 0
      },
      "text/plain": [
       "Canvas(toolbar=Toolbar(toolitems=[('Home', 'Reset original view', 'home', 'home'), ('Back', 'Back to previous …"
      ]
     },
     "metadata": {},
     "output_type": "display_data"
    }
   ],
   "source": [
    "plot_spectrogram(sr_spg.frequency, sr_spg.time, sr_spg, yscale='log')"
   ]
  },
  {
   "cell_type": "code",
   "execution_count": 44,
   "metadata": {
    "execution": {
     "iopub.execute_input": "2021-01-08T02:26:20.377992Z",
     "iopub.status.busy": "2021-01-08T02:26:20.377818Z",
     "iopub.status.idle": "2021-01-08T02:26:20.468660Z",
     "shell.execute_reply": "2021-01-08T02:26:20.468134Z",
     "shell.execute_reply.started": "2021-01-08T02:26:20.377970Z"
    }
   },
   "outputs": [
    {
     "data": {
      "application/vnd.jupyter.widget-view+json": {
       "model_id": "fd5d5e41365c42458540b83c20874f31",
       "version_major": 2,
       "version_minor": 0
      },
      "text/plain": [
       "Canvas(toolbar=Toolbar(toolitems=[('Home', 'Reset original view', 'home', 'home'), ('Back', 'Back to previous …"
      ]
     },
     "metadata": {},
     "output_type": "display_data"
    }
   ],
   "source": [
    "_, ax = plt.subplots(figsize=(20, 3))\n",
    "plot_time_series(sr_spg.time.values, sr_delta.values, title=\"SR Delta\", ylabel=\"Power\", ax=ax)\n",
    "#plot_hypnogram_overlay(hypno, ax=ax)"
   ]
  },
  {
   "cell_type": "code",
   "execution_count": 45,
   "metadata": {
    "execution": {
     "iopub.execute_input": "2021-01-08T02:26:20.469964Z",
     "iopub.status.busy": "2021-01-08T02:26:20.469616Z",
     "iopub.status.idle": "2021-01-08T02:26:20.635752Z",
     "shell.execute_reply": "2021-01-08T02:26:20.635176Z",
     "shell.execute_reply.started": "2021-01-08T02:26:20.469934Z"
    }
   },
   "outputs": [
    {
     "data": {
      "application/vnd.jupyter.widget-view+json": {
       "model_id": "bd2de522c04a4439b0562cefca34f048",
       "version_major": 2,
       "version_minor": 0
      },
      "text/plain": [
       "Canvas(toolbar=Toolbar(toolitems=[('Home', 'Reset original view', 'home', 'home'), ('Back', 'Back to previous …"
      ]
     },
     "metadata": {},
     "output_type": "display_data"
    }
   ],
   "source": [
    "_, ax = plt.subplots(figsize=(20, 3))\n",
    "plot_time_series(sr_spg.time.values, sr_theta.values, title=\"SR Theta\", ylabel=\"Power\", ax=ax)\n",
    "#plot_hypnogram_overlay(hypno, ax=ax)"
   ]
  },
  {
   "cell_type": "code",
   "execution_count": 46,
   "metadata": {
    "execution": {
     "iopub.execute_input": "2021-01-08T02:26:20.636863Z",
     "iopub.status.busy": "2021-01-08T02:26:20.636651Z",
     "iopub.status.idle": "2021-01-08T02:26:20.740903Z",
     "shell.execute_reply": "2021-01-08T02:26:20.740431Z",
     "shell.execute_reply.started": "2021-01-08T02:26:20.636836Z"
    }
   },
   "outputs": [
    {
     "data": {
      "application/vnd.jupyter.widget-view+json": {
       "model_id": "af2009fdc533433bb5e00c6cb04fcb0d",
       "version_major": 2,
       "version_minor": 0
      },
      "text/plain": [
       "Canvas(toolbar=Toolbar(toolitems=[('Home', 'Reset original view', 'home', 'home'), ('Back', 'Back to previous …"
      ]
     },
     "metadata": {},
     "output_type": "display_data"
    }
   ],
   "source": [
    "_, ax = plt.subplots(figsize=(20, 3))\n",
    "plot_time_series(sr_spg.time.values, sr_theta.values / sr_delta.values, title=\"SR theta/delta ratio\", ylabel=\"Ratio\", ax=ax)\n",
    "#plot_hypnogram_overlay(hypno, ax=ax)"
   ]
  },
  {
   "cell_type": "code",
   "execution_count": 47,
   "metadata": {
    "execution": {
     "iopub.execute_input": "2021-01-08T02:26:20.741642Z",
     "iopub.status.busy": "2021-01-08T02:26:20.741510Z",
     "iopub.status.idle": "2021-01-08T02:26:20.814366Z",
     "shell.execute_reply": "2021-01-08T02:26:20.813823Z",
     "shell.execute_reply.started": "2021-01-08T02:26:20.741626Z"
    }
   },
   "outputs": [
    {
     "data": {
      "application/vnd.jupyter.widget-view+json": {
       "model_id": "b3012422f585413cb68cfb0447fc60f1",
       "version_major": 2,
       "version_minor": 0
      },
      "text/plain": [
       "Canvas(toolbar=Toolbar(toolitems=[('Home', 'Reset original view', 'home', 'home'), ('Back', 'Back to previous …"
      ]
     },
     "metadata": {},
     "output_type": "display_data"
    }
   ],
   "source": [
    "_, ax = plt.subplots(figsize=(20, 3))\n",
    "plot_time_series(sr_spg.time.values, np.log10(sr_theta.values) / np.log10(sr_delta.values), title=\"SR log(theta)/log(delta) ratio\", ylabel=\"Ratio\", ax=ax)\n",
    "#plot_hypnogram_overlay(hypno, ax=ax)"
   ]
  },
  {
   "cell_type": "code",
   "execution_count": 48,
   "metadata": {
    "execution": {
     "iopub.execute_input": "2021-01-08T02:26:20.815124Z",
     "iopub.status.busy": "2021-01-08T02:26:20.814992Z",
     "iopub.status.idle": "2021-01-08T02:26:20.890092Z",
     "shell.execute_reply": "2021-01-08T02:26:20.889565Z",
     "shell.execute_reply.started": "2021-01-08T02:26:20.815108Z"
    }
   },
   "outputs": [
    {
     "name": "stderr",
     "output_type": "stream",
     "text": [
      "/home/gfindlay/miniconda3/envs/ecephys/lib/python3.7/site-packages/ipykernel_launcher.py:1: RuntimeWarning: More than 20 figures have been opened. Figures created through the pyplot interface (`matplotlib.pyplot.figure`) are retained until explicitly closed and may consume too much memory. (To control this warning, see the rcParam `figure.max_open_warning`).\n",
      "  \"\"\"Entry point for launching an IPython kernel.\n"
     ]
    },
    {
     "data": {
      "application/vnd.jupyter.widget-view+json": {
       "model_id": "73bbc2f19f8f44c1a534b38e56739623",
       "version_major": 2,
       "version_minor": 0
      },
      "text/plain": [
       "Canvas(toolbar=Toolbar(toolitems=[('Home', 'Reset original view', 'home', 'home'), ('Back', 'Back to previous …"
      ]
     },
     "metadata": {},
     "output_type": "display_data"
    }
   ],
   "source": [
    "_, ax = plt.subplots(figsize=(24, 3))\n",
    "plot_time_series(sr_spg.time.values, gaussian_smooth(sr_theta.values / sr_delta.values, smoothing_sigma, 1 / np.diff(sr_spg.time.values).mean()), title=\"Smoothed SR theta/delta ratio\", ylabel=\"Ratio\", ax=ax)\n",
    "#plot_hypnogram_overlay(hypno, ax=ax)"
   ]
  },
  {
   "cell_type": "markdown",
   "metadata": {},
   "source": [
    "## Save"
   ]
  },
  {
   "cell_type": "code",
   "execution_count": 109,
   "metadata": {
    "execution": {
     "iopub.execute_input": "2021-01-08T18:13:19.097304Z",
     "iopub.status.busy": "2021-01-08T18:13:19.097161Z",
     "iopub.status.idle": "2021-01-08T18:13:19.113977Z",
     "shell.execute_reply": "2021-01-08T18:13:19.113593Z",
     "shell.execute_reply.started": "2021-01-08T18:13:19.097287Z"
    }
   },
   "outputs": [],
   "source": [
    "bandpower = xr.Dataset({'mpta_delta': cx_delta, 'mpta_theta': cx_theta, 'sr_delta': sr_delta, 'sr_theta': sr_theta})"
   ]
  },
  {
   "cell_type": "code",
   "execution_count": 110,
   "metadata": {
    "execution": {
     "iopub.execute_input": "2021-01-08T18:13:19.114845Z",
     "iopub.status.busy": "2021-01-08T18:13:19.114717Z",
     "iopub.status.idle": "2021-01-08T18:13:19.146696Z",
     "shell.execute_reply": "2021-01-08T18:13:19.146127Z",
     "shell.execute_reply.started": "2021-01-08T18:13:19.114830Z"
    }
   },
   "outputs": [],
   "source": [
    "bandpower.to_netcdf(paths.get_datapath(subject=SUBJECT, condition=CONDITION, data=\"lfp_bandpower.nc\"))"
   ]
  },
  {
   "cell_type": "code",
   "execution_count": 111,
   "metadata": {
    "execution": {
     "iopub.execute_input": "2021-01-08T18:13:19.147632Z",
     "iopub.status.busy": "2021-01-08T18:13:19.147464Z",
     "iopub.status.idle": "2021-01-08T18:13:19.163670Z",
     "shell.execute_reply": "2021-01-08T18:13:19.163254Z",
     "shell.execute_reply.started": "2021-01-08T18:13:19.147611Z"
    }
   },
   "outputs": [],
   "source": [
    "bandpower.close()"
   ]
  },
  {
   "cell_type": "code",
   "execution_count": null,
   "metadata": {},
   "outputs": [],
   "source": []
  }
 ],
 "metadata": {
  "kernelspec": {
   "display_name": "Python 3",
   "language": "python",
   "name": "python3"
  },
  "language_info": {
   "codemirror_mode": {
    "name": "ipython",
    "version": 3
   },
   "file_extension": ".py",
   "mimetype": "text/x-python",
   "name": "python",
   "nbconvert_exporter": "python",
   "pygments_lexer": "ipython3",
   "version": "3.7.9"
  }
 },
 "nbformat": 4,
 "nbformat_minor": 4
}
