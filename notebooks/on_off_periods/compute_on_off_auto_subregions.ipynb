{
 "cells": [
  {
   "cell_type": "code",
   "execution_count": null,
   "metadata": {},
   "outputs": [],
   "source": [
    "%load_ext autoreload\n",
    "%autoreload 2"
   ]
  },
  {
   "cell_type": "code",
   "execution_count": null,
   "metadata": {},
   "outputs": [],
   "source": [
    "from ecephys_analyses.on_off import run_on_off_detection, get_subregions\n",
    "\n",
    "from joblib import Parallel, delayed"
   ]
  },
  {
   "cell_type": "code",
   "execution_count": null,
   "metadata": {},
   "outputs": [],
   "source": [
    "condition_groups = [\n",
    "    ('Allan', 'SD'),\n",
    "]\n",
    "\n",
    "data_conditions = [\n",
    "    ('Doppio', 'sleep-homeostasis-2h_imec1', 'ks2_5_catgt_Th=12-10_lam=50_8s-batches_postpro_1', 'cortex')\n",
    "#     ('Doppio', 'sleep-homeostasis-2h_imec0'),\n",
    "]\n",
    "# subject = 'Doppio'\n",
    "# condition = 'sleep-homeostasis-2h_imec1'\n",
    "\n",
    "subregions_params = {\n",
    "    'binsize': 20,  # um\n",
    "    'smoothing_sd': 3, # units of binsize\n",
    "    'prominence': 0.0, # Percent of maximal peak\n",
    "}\n",
    "\n",
    "good_only = False\n",
    "\n",
    "pool = True\n",
    "\n",
    "state = 'N2'\n",
    "\n",
    "detection_condition = 'on_off_threshold_1'\n",
    "\n",
    "n_jobs = 1"
   ]
  },
  {
   "cell_type": "code",
   "execution_count": null,
   "metadata": {},
   "outputs": [],
   "source": [
    "all_args = []\n",
    "for (\n",
    "    subject, condition, sorting_condition, region,\n",
    ") in data_conditions:\n",
    "    subregions = get_subregions(\n",
    "        subject,\n",
    "        condition,\n",
    "        sorting_condition,\n",
    "        region,\n",
    "        subregions_params,\n",
    "    )\n",
    "\n",
    "    for i, (subregion_name, subregion_depths) in enumerate(subregions.items()):\n",
    "        all_args.append((subject, condition, sorting_condition, subregion_name, subregion_depths))\n",
    "print(all_args)"
   ]
  },
  {
   "cell_type": "code",
   "execution_count": null,
   "metadata": {},
   "outputs": [],
   "source": [
    "if n_jobs == 1:\n",
    "    for (\n",
    "        subject, condition, sorting_condition, subregion_name, subregion_depths\n",
    "    ) in all_args:\n",
    "\n",
    "        print(subject, condition, sorting_condition, subregion_name, subregion_depths)\n",
    "        \n",
    "        on_off_df = run_on_off_detection(\n",
    "            subject,\n",
    "            condition,\n",
    "            detection_condition,\n",
    "            sorting_condition=sorting_condition,\n",
    "            region=None,\n",
    "            region_name=subregion_name,\n",
    "            depth_interval=subregion_depths,\n",
    "            state=state,\n",
    "            good_only=good_only,\n",
    "            pool=pool,\n",
    "        )\n",
    "else:\n",
    "    \n",
    "    parallel = Parallel(\n",
    "        n_jobs=n_jobs,\n",
    "        backend='multiprocessing',\n",
    "    )(\n",
    "        delayed(run_on_off_detection)(\n",
    "            subject,\n",
    "            condition,\n",
    "            detection_condition,\n",
    "            sorting_condition=sorting_condition,\n",
    "            region=None,\n",
    "            region_name=subregion_name,\n",
    "            depth_interval=subregion_depths,\n",
    "            state=state,\n",
    "            good_only=good_only,\n",
    "            pool=pool,\n",
    "        ) for (\n",
    "            subject, condition, sorting_condition, subregion_name, subregion_depths\n",
    "        ) in all_args\n",
    "    )"
   ]
  },
  {
   "cell_type": "code",
   "execution_count": null,
   "metadata": {},
   "outputs": [],
   "source": []
  }
 ],
 "metadata": {
  "kernelspec": {
   "display_name": "Python 3",
   "language": "python",
   "name": "python3"
  },
  "language_info": {
   "codemirror_mode": {
    "name": "ipython",
    "version": 3
   },
   "file_extension": ".py",
   "mimetype": "text/x-python",
   "name": "python",
   "nbconvert_exporter": "python",
   "pygments_lexer": "ipython3",
   "version": "3.7.7"
  }
 },
 "nbformat": 4,
 "nbformat_minor": 4
}
