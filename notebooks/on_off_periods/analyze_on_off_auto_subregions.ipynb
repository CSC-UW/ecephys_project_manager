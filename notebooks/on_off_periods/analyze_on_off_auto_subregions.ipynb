{
 "cells": [
  {
   "cell_type": "code",
   "execution_count": null,
   "metadata": {},
   "outputs": [],
   "source": [
    "%load_ext autoreload\n",
    "%autoreload 2"
   ]
  },
  {
   "cell_type": "code",
   "execution_count": null,
   "metadata": {},
   "outputs": [],
   "source": [
    "from ecephys_analyses.on_off import run_on_off_detection, get_on_off_df_filename\n",
    "from ecephys_analyses.data.paths import get_datapath\n",
    "import pandas as pd\n",
    "\n",
    "from ecephys_analyses.data.channel_groups import region_depths\n",
    "from ecephys_analyses.data import paths\n",
    "import ecephys.io.load\n",
    "\n",
    "from joblib import Parallel, delayed"
   ]
  },
  {
   "cell_type": "code",
   "execution_count": null,
   "metadata": {},
   "outputs": [],
   "source": [
    "import altair as alt\n",
    "\n",
    "alt.data_transformers.disable_max_rows()"
   ]
  },
  {
   "cell_type": "code",
   "execution_count": null,
   "metadata": {},
   "outputs": [],
   "source": [
    "condition_groups = [\n",
    "    ('Allan', 'SD'),\n",
    "]\n",
    "\n",
    "data_conditions = [\n",
    "    ('Allan', 'baseline-sleep-2h-circadian-match_imec1'),\n",
    "    ('Allan', 'recovery-sleep-2h_imec1'),\n",
    "#     ('Doppio', 'baseline-sleep-2h-circadian-match_imec1'),\n",
    "#     ('Doppio', 'recovery-sleep-2h_imec1'),\n",
    "]\n",
    "\n",
    "good_only = True\n",
    "pooled = True\n",
    "\n",
    "state = 'N2'\n",
    "\n",
    "detection_condition = 'on_off_threshold_1'"
   ]
  },
  {
   "cell_type": "code",
   "execution_count": null,
   "metadata": {},
   "outputs": [],
   "source": [
    "def get_subregions(subject, condition, sorting_condition, region, good_only):\n",
    "    \n",
    "    ks_dir = paths.get_datapath(subject, condition, sorting_condition)\n",
    "\n",
    "   # Get clusters\n",
    "    if region == 'all':\n",
    "        depth_interval = None\n",
    "    else:\n",
    "        depth_interval = region_depths[subject][condition][region]\n",
    "    info_all =  ecephys.io.load.get_cluster_info(ks_dir)\n",
    "    info = info_all[info_all['depth'].isin(depth_interval)]\n",
    "    \n",
    "    info['depth'].hist()"
   ]
  },
  {
   "cell_type": "code",
   "execution_count": null,
   "metadata": {},
   "outputs": [],
   "source": [
    "get_subregions('Doppio', 'sleep-homeostasis-2h_imec1', 'cortex', False)"
   ]
  },
  {
   "cell_type": "code",
   "execution_count": null,
   "metadata": {},
   "outputs": [],
   "source": [
    "get_subregionsr (\n",
    "    (region, good_only, pool),\n",
    "    (subject, condition),\n",
    ") in itertools.product(cluster_conditions, data_conditions):\n",
    "    try:\n",
    "        filename = get_on_off_df_filename(region, good_only, pool) + '.csv'\n",
    "        df = pd.read_csv(\n",
    "            get_datapath(\n",
    "                subject,\n",
    "                condition,\n",
    "                detection_condition,\n",
    "            )/filename\n",
    "        )\n",
    "    except (FileNotFoundError, pd.errors.EmptyDataError):\n",
    "        print(f'Cant find {subject}, {condition}, {region}: pass')\n",
    "        continue\n",
    "    df['subject'] = subject\n",
    "    df['condition'] = condition\n",
    "    df['region'] = region\n",
    "    df['good_only'] = good_only\n",
    "    df['pool'] = pool\n",
    "    dfs.append(df)\n",
    "\n",
    "data_df = pd.concat(dfs)"
   ]
  },
  {
   "cell_type": "code",
   "execution_count": null,
   "metadata": {},
   "outputs": [],
   "source": [
    "alt.Chart(data_df[0:100]).transform_density(\n",
    "    'duration',\n",
    "    as_=['duration', 'density'],\n",
    ").mark_area().encode(\n",
    "    x=\"duration:Q\",\n",
    "    y='density:Q',\n",
    ")"
   ]
  },
  {
   "cell_type": "code",
   "execution_count": null,
   "metadata": {},
   "outputs": [],
   "source": [
    "chart = alt.Chart(data_df).transform_density(\n",
    "    'duration',\n",
    "    as_=['duration', 'density'],\n",
    "    groupby=['subject', 'condition', 'region', 'pool', 'good_only'],\n",
    ").mark_area(\n",
    "    opacity=0.5,\n",
    "    interpolate='step',\n",
    ").encode(\n",
    "    x = alt.X('duration:Q',\n",
    "#               axis=alt.Axis(title='Off duration (s)'),\n",
    "#               scale=alt.Scale(zero=True),\n",
    "#               bin=alt.Bin(maxbins=50),\n",
    "    ),\n",
    "    y = alt.Y('density:Q', stack=None),\n",
    "    color=alt.Color('condition:N'),\n",
    "    row='subject',\n",
    ")\n",
    "\n",
    "alt.ConcatChart(\n",
    "    concat=[\n",
    "      chart.transform_filter(\n",
    "          alt.datum.region == region\n",
    "      ).properties(title=region)\n",
    "      for region in sorted(data_df.region.unique())\n",
    "#       for region in ['cortex']\n",
    "    ],\n",
    "#     columns=4\n",
    ").configure_title(\n",
    "    fontSize=20,\n",
    "#     font='Courier',\n",
    "#     anchor='middle',\n",
    "#     color='gray',\n",
    "#     align='left'\n",
    ").resolve_axis(\n",
    "    x='independent',\n",
    "    y='independent'\n",
    ").resolve_scale(\n",
    "    x='independent', \n",
    "    y='independent'\n",
    ")"
   ]
  },
  {
   "cell_type": "code",
   "execution_count": null,
   "metadata": {},
   "outputs": [],
   "source": [
    "alt.Chart(data_df[0:1000]).transform_density(\n",
    "    'duration',\n",
    "    as_=['duration', 'density'],\n",
    "    groupby=['subject', 'region', 'pool', 'good_only']\n",
    ").mark_area(\n",
    "    opacity=0.3,\n",
    "    interpolate='step',\n",
    ").encode(\n",
    "    alt.X('duration:Q', bin=alt.Bin(maxbins=50)),\n",
    "    alt.Y('density:Q', stack=None),\n",
    "    alt.Color('condition:N'),\n",
    "    row='subject',\n",
    "    column='region',\n",
    ").resolve_scale(\n",
    "    y='independent',\n",
    "    x='independent',\n",
    ")"
   ]
  },
  {
   "cell_type": "code",
   "execution_count": null,
   "metadata": {},
   "outputs": [],
   "source": [
    "data_df"
   ]
  },
  {
   "cell_type": "code",
   "execution_count": null,
   "metadata": {},
   "outputs": [],
   "source": [
    "# data_df[(data_df['region'] == 'cortex_2') & data_df['start_time'].isin((30, 60))]\n",
    "pd.set_option('display.max_rows', None)\n",
    "\n",
    "data_df[(data_df['region'] == 'cortex_2')]"
   ]
  },
  {
   "cell_type": "code",
   "execution_count": null,
   "metadata": {},
   "outputs": [],
   "source": []
  }
 ],
 "metadata": {
  "kernelspec": {
   "display_name": "Python 3",
   "language": "python",
   "name": "python3"
  },
  "language_info": {
   "codemirror_mode": {
    "name": "ipython",
    "version": 3
   },
   "file_extension": ".py",
   "mimetype": "text/x-python",
   "name": "python",
   "nbconvert_exporter": "python",
   "pygments_lexer": "ipython3",
   "version": "3.7.7"
  }
 },
 "nbformat": 4,
 "nbformat_minor": 4
}
