{
 "cells": [
  {
   "cell_type": "code",
   "execution_count": null,
   "metadata": {},
   "outputs": [],
   "source": [
    "%load_ext autoreload\n",
    "%autoreload 2"
   ]
  },
  {
   "cell_type": "code",
   "execution_count": null,
   "metadata": {},
   "outputs": [],
   "source": [
    "from ecephys_analyses.on_off import run_on_off_detection\n",
    "\n",
    "from joblib import Parallel, delayed"
   ]
  },
  {
   "cell_type": "code",
   "execution_count": null,
   "metadata": {},
   "outputs": [],
   "source": [
    "condition_groups = [\n",
    "    ('Allan', 'SD'),\n",
    "]\n",
    "\n",
    "data_conditions = [\n",
    "    ('Doppio', 'sleep-homeostasis_imec1'),\n",
    "#     ('Allan', 'recovery-sleep-2h_imec1'),\n",
    "#     ('Allan', 'baseline-sleep-2h-circadian-match_imec1'),\n",
    "]\n",
    "\n",
    "# Region, good_only, pooled\n",
    "cluster_conditions = [\n",
    "    ('cortex', True, True),\n",
    "    ('cortex_1', True, True),\n",
    "    ('cortex_2', True, True),\n",
    "    ('cortex_3', True, True),\n",
    "    ('cortex_4', True, True),\n",
    "    ('cortex_5', True, True),\n",
    "    ('cortex_6', True, True),\n",
    "    ('cortex_7', True, True),\n",
    "    ('cortex_8', True, True),\n",
    "    ('cortex_9', True, True),\n",
    "    ('cortex_10', True, True),\n",
    "    ('cortex_11', True, True),\n",
    "]\n",
    "\n",
    "state = 'N2'\n",
    "\n",
    "detection_condition = 'on_off_threshold_1'"
   ]
  },
  {
   "cell_type": "code",
   "execution_count": null,
   "metadata": {},
   "outputs": [],
   "source": [
    "n_jobs = 11\n",
    "# n_jobs = 1\n",
    "print(n_jobs)"
   ]
  },
  {
   "cell_type": "code",
   "execution_count": null,
   "metadata": {},
   "outputs": [],
   "source": [
    "if n_jobs == 1:\n",
    "    for (\n",
    "        (region, good_only, pool),\n",
    "        (subject, condition),\n",
    "    ) in itertools.product(cluster_conditions, data_conditions):\n",
    "        run_on_off_detection(\n",
    "            subject,\n",
    "            condition,\n",
    "            detection_condition,\n",
    "            region=region,\n",
    "            state=state,\n",
    "            good_only=good_only,\n",
    "            pool=pool,\n",
    "        )\n",
    "else:\n",
    "    \n",
    "    parallel = Parallel(\n",
    "        n_jobs=n_jobs,\n",
    "        backend='multiprocessing',\n",
    "    )(\n",
    "        delayed(run_on_off_detection)(\n",
    "            subject,\n",
    "            condition,\n",
    "            detection_condition,\n",
    "            region=region,\n",
    "            state=state,\n",
    "            good_only=good_only,\n",
    "            pool=pool,\n",
    "        ) for (\n",
    "            (region, good_only, pool),\n",
    "            (subject, condition),\n",
    "        ) in itertools.product(cluster_conditions, data_conditions)\n",
    "    )"
   ]
  },
  {
   "cell_type": "code",
   "execution_count": null,
   "metadata": {},
   "outputs": [],
   "source": [
    "subject, condition, detection_condition = 'Allan', 'baseline-sleep-2h-circadian-match_imec1', 'on_off_threshold_1'\n",
    "\n",
    "region = 'cortex'\n",
    "region = 'cortex_1'\n",
    "state = 'N2'\n",
    "good_only = True\n",
    "pool = True"
   ]
  },
  {
   "cell_type": "code",
   "execution_count": null,
   "metadata": {},
   "outputs": [],
   "source": [
    "run_on_off_detection(\n",
    "    subject, condition, detection_condition,\n",
    "    region=region, good_only=good_only, pool=pool,\n",
    ")"
   ]
  },
  {
   "cell_type": "code",
   "execution_count": null,
   "metadata": {},
   "outputs": [],
   "source": [
    "run_on_off_detection(\n",
    "    subject, condition, detection_condition,\n",
    "    region=region, state=state, good_only=good_only, pool=pool,\n",
    ")"
   ]
  },
  {
   "cell_type": "code",
   "execution_count": null,
   "metadata": {},
   "outputs": [],
   "source": []
  }
 ],
 "metadata": {
  "kernelspec": {
   "display_name": "Python 3",
   "language": "python",
   "name": "python3"
  },
  "language_info": {
   "codemirror_mode": {
    "name": "ipython",
    "version": 3
   },
   "file_extension": ".py",
   "mimetype": "text/x-python",
   "name": "python",
   "nbconvert_exporter": "python",
   "pygments_lexer": "ipython3",
   "version": "3.7.7"
  }
 },
 "nbformat": 4,
 "nbformat_minor": 4
}
