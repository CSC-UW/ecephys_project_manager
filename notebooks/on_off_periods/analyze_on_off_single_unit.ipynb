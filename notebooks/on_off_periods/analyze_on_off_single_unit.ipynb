{
 "cells": [
  {
   "cell_type": "code",
   "execution_count": null,
   "metadata": {},
   "outputs": [],
   "source": [
    "%load_ext autoreload\n",
    "%autoreload 2"
   ]
  },
  {
   "cell_type": "code",
   "execution_count": null,
   "metadata": {},
   "outputs": [],
   "source": [
    "from ecephys_analyses.on_off import run_on_off_detection, get_on_off_df_filename\n",
    "from ecephys_analyses.data.paths import get_datapath\n",
    "import pandas as pd\n",
    "\n",
    "from ecephys_analyses.data.channel_groups import region_depths\n",
    "from ecephys_analyses.data import paths\n",
    "import ecephys.io.load\n",
    "\n",
    "from joblib import Parallel, delayed"
   ]
  },
  {
   "cell_type": "code",
   "execution_count": null,
   "metadata": {},
   "outputs": [],
   "source": [
    "import altair as alt\n",
    "\n",
    "alt.data_transformers.disable_max_rows()"
   ]
  },
  {
   "cell_type": "code",
   "execution_count": null,
   "metadata": {},
   "outputs": [],
   "source": []
  },
  {
   "cell_type": "code",
   "execution_count": null,
   "metadata": {},
   "outputs": [],
   "source": [
    "data_conditions = [\n",
    "    (\n",
    "        'Doppio',\n",
    "        'sleep-homeostasis-2h_imec1',\n",
    "        'ks2_5_catgt_Th=12-10_lam=50_8s-batches_postpro_1',\n",
    "        'cortex'\n",
    "    ),\n",
    "]\n",
    "# subject = 'Doppio'\n",
    "# condition = 'sleep-homeostasis-2h_imec1'\n",
    "\n",
    "FR_interval = (0.5, 5) # Hz\n",
    "\n",
    "good_only = True\n",
    "\n",
    "pool = False\n",
    "\n",
    "state = 'N2'\n",
    "\n",
    "detection_condition = 'on_off_threshold_single_unit_1'\n",
    "\n",
    "n_jobs = 1"
   ]
  },
  {
   "cell_type": "code",
   "execution_count": null,
   "metadata": {},
   "outputs": [],
   "source": [
    "assert not pool"
   ]
  },
  {
   "cell_type": "code",
   "execution_count": null,
   "metadata": {},
   "outputs": [],
   "source": [
    "\n",
    "dfs = []\n",
    "for (\n",
    "    subject, condition, sorting_condition, region\n",
    ") in data_conditions:\n",
    "\n",
    "    filename = get_on_off_df_filename(region, good_only, pool) + '.csv'\n",
    "    df = pd.read_csv(\n",
    "        get_datapath(\n",
    "            subject,\n",
    "            condition,\n",
    "            detection_condition,\n",
    "        )/filename\n",
    "    )\n",
    "    df['subject'] = subject\n",
    "    df['orig_condition'] = condition\n",
    "    df['region'] = region\n",
    "    df['good_only'] = good_only\n",
    "    df['pool'] = pool\n",
    "    dfs.append(df)\n",
    "\n",
    "data = pd.concat(dfs)\n",
    "\n",
    "off_dat = data[\n",
    "    (data['state'] == 'off')\n",
    "    & (data['condition'] != 'interbout')\n",
    "]\n",
    "cluster_ids = sorted(data.cluster_id.unique())\n",
    "\n",
    "\n",
    "\n",
    "\n",
    "assert len(off_dat.subject.unique()) == 1"
   ]
  },
  {
   "cell_type": "code",
   "execution_count": null,
   "metadata": {},
   "outputs": [],
   "source": [
    "# Rename conditions\n",
    "for cond in off_dat.condition.unique():\n",
    "    if 'baseline' in cond:\n",
    "        off_dat.replace(cond, 'baseline', inplace=True)\n",
    "    if 'recovery' in cond:\n",
    "        off_dat.replace(cond, 'recovery', inplace=True)\n",
    "\n",
    "off_dat.condition.unique()"
   ]
  },
  {
   "cell_type": "code",
   "execution_count": null,
   "metadata": {},
   "outputs": [],
   "source": [
    "N_clust = 40\n",
    "\n",
    "np.random.seed(0)\n",
    "cluster_ids = sorted(data.cluster_id.unique())\n",
    "np.random.shuffle(cluster_ids)\n",
    "cluster_select = cluster_ids[40:40+N_clust]\n",
    "\n",
    "off_dat = off_dat[off_dat['cluster_id'].isin(cluster_select)]\n",
    "\n"
   ]
  },
  {
   "cell_type": "code",
   "execution_count": null,
   "metadata": {},
   "outputs": [],
   "source": [
    "# Facetted chart order and title\n",
    "off_dat['unit'] = off_dat.apply(\n",
    "    lambda row: f\"cluster_id={row['cluster_id']}, FR={round(row['cumFR'], 2)}Hz\",\n",
    "    axis=1\n",
    ")\n",
    "# Sort by FR\n",
    "off_dat = off_dat.sort_values(by='cumFR')"
   ]
  },
  {
   "cell_type": "code",
   "execution_count": null,
   "metadata": {},
   "outputs": [],
   "source": [
    "# DENSITY OF OFF PERIODS DURATIONS"
   ]
  },
  {
   "cell_type": "code",
   "execution_count": null,
   "metadata": {},
   "outputs": [],
   "source": [
    "\n",
    "duration_density = alt.Chart(\n",
    "    off_dat\n",
    ").transform_density(\n",
    "    'duration',\n",
    "    as_=['duration', 'density'],\n",
    "    groupby=['subject', 'condition', 'unit']\n",
    ").mark_area(\n",
    "    opacity=0.3,\n",
    "#     interpolate='step'\n",
    ").encode(\n",
    "    x=\"duration:Q\",\n",
    "    y='density:Q',\n",
    "    color='condition:N',\n",
    ").properties(\n",
    "    width=150,\n",
    "    height=100,\n",
    ").facet(\n",
    "    facet=alt.Facet(\n",
    "        'unit:N',\n",
    "#         sort=unit_order,\n",
    "    ),\n",
    "    columns=5,\n",
    ").resolve_scale(\n",
    "    x='independent',\n",
    "    y='independent',\n",
    ")\n",
    "\n",
    "duration_density"
   ]
  },
  {
   "cell_type": "code",
   "execution_count": null,
   "metadata": {},
   "outputs": [],
   "source": [
    "# FREQUENCY OF OFF PERIODS DURATIONS"
   ]
  },
  {
   "cell_type": "code",
   "execution_count": null,
   "metadata": {},
   "outputs": [],
   "source": [
    "binwidth = 0.25\n",
    "bins = np.arange(\n",
    "    off_dat.duration.min(),\n",
    "#     off_dat.duration.max() + binwidth,\n",
    "    10 + binwidth,\n",
    "    binwidth,\n",
    ")"
   ]
  },
  {
   "cell_type": "code",
   "execution_count": null,
   "metadata": {},
   "outputs": [],
   "source": [
    "# Count in each bin\n",
    "\n",
    "binned_durations = off_dat.groupby(\n",
    "    [\n",
    "        'unit',\n",
    "        'condition',\n",
    "         pd.cut(off_dat.duration, bins=bins)\n",
    "    ]\n",
    ").count().loc[:,'state'].reset_index()\n",
    "binned_durations['duration_count'] = binned_durations['state']\n",
    "binned_durations['bin_min'] = binned_durations.apply(lambda row: row['duration'].left, axis=1)\n",
    "binned_durations['bin_max'] = binned_durations.apply(lambda row: row['duration'].right, axis=1)\n",
    "binned_durations['bin_center'] = (binned_durations['bin_min'] + binned_durations['bin_max']) / 2\n",
    "\n",
    "# Normalize by condition duration\n",
    "cond_durations = {\n",
    "    cond: off_dat[off_dat.condition == cond].condition_state_time.unique()[0]\n",
    "    for cond in off_dat.condition.unique()\n",
    "}\n",
    "binned_durations['frequency'] = binned_durations.apply(\n",
    "    lambda row: 60 * row['duration_count'] / cond_durations[row['condition']],\n",
    "    axis=1\n",
    ")\n"
   ]
  },
  {
   "cell_type": "code",
   "execution_count": null,
   "metadata": {},
   "outputs": [],
   "source": [
    "binned_durations[0:5]"
   ]
  },
  {
   "cell_type": "code",
   "execution_count": null,
   "metadata": {},
   "outputs": [],
   "source": [
    "\n",
    "duration_frequency = alt.Chart(\n",
    "   binned_durations.drop(columns='duration')\n",
    ").mark_bar(\n",
    "    opacity=0.3,\n",
    ").encode(\n",
    "    x=alt.X('bin_min:Q'),\n",
    "    x2=alt.X2('bin_max:Q'),\n",
    "    y=alt.Y(\n",
    "        'frequency:Q',\n",
    "        axis=alt.Axis(\n",
    "            title=\"Occurrence (per min)\"\n",
    "        ),\n",
    "    ),\n",
    "    color='condition:N',\n",
    ").properties(\n",
    "    width=150,\n",
    "    height=100,\n",
    ").facet(\n",
    "    facet=alt.Facet(\n",
    "        'unit:N',\n",
    "#         sort=unit_order,\n",
    "    ),\n",
    "    columns=5,\n",
    ").resolve_scale(\n",
    "    x='independent',\n",
    "    y='independent',\n",
    ")\n",
    "\n",
    "duration_frequency"
   ]
  },
  {
   "cell_type": "code",
   "execution_count": null,
   "metadata": {},
   "outputs": [],
   "source": [
    "# Statistics"
   ]
  },
  {
   "cell_type": "code",
   "execution_count": null,
   "metadata": {},
   "outputs": [],
   "source": [
    "funcs = ['mean', 'median', 'sum', 'skew']\n",
    "\n",
    "stats_df = off_dat.groupby(\n",
    "    ['subject', 'condition', 'cluster_id']\n",
    ").agg({\n",
    "    'duration': funcs,\n",
    "})['duration'].reset_index()\n",
    "\n",
    "stats_df[0:5]"
   ]
  },
  {
   "cell_type": "code",
   "execution_count": null,
   "metadata": {},
   "outputs": [],
   "source": [
    "alt.Chart(stats_df).transform_fold(\n",
    "    fold=funcs,\n",
    ").mark_boxplot(\n",
    "    color='black',\n",
    "    extent=0,\n",
    ").encode(\n",
    "    x=alt.X(\n",
    "        'condition:N',\n",
    "    ),\n",
    "    y=alt.Y(\n",
    "        'value:Q',\n",
    "        axis=alt.Axis(\n",
    "            title='Value',\n",
    "        ),\n",
    "        scale=alt.Scale(\n",
    "            zero=False,\n",
    "        ),\n",
    "    ),\n",
    "    column=alt.Column(\n",
    "        'key:N',\n",
    "        header=alt.Header(\n",
    "            title='Measure'\n",
    "        ),\n",
    "    ),\n",
    "    color=alt.Color('condition:N')\n",
    ").properties(\n",
    "    width=50,\n",
    "    height=300\n",
    ").resolve_scale(\n",
    "    y='independent'\n",
    ")"
   ]
  },
  {
   "cell_type": "code",
   "execution_count": null,
   "metadata": {},
   "outputs": [],
   "source": [
    "import scipy.stats\n",
    "\n",
    "scipy.stats.ttest_rel(\n",
    "    stats_df[stats_df['condition'] == 'baseline'].sort_values(by='cluster_id')['skew'],\n",
    "    stats_df[stats_df['condition'] == 'recovery'].sort_values(by='cluster_id')['skew'],\n",
    "    axis=0)"
   ]
  },
  {
   "cell_type": "code",
   "execution_count": null,
   "metadata": {},
   "outputs": [],
   "source": [
    "scipy.stats.ttest_rel(\n",
    "    stats_df[stats_df['condition'] == 'baseline'].sort_values(by='cluster_id')['mean'],\n",
    "    stats_df[stats_df['condition'] == 'recovery'].sort_values(by='cluster_id')['mean'],\n",
    "    axis=0)"
   ]
  },
  {
   "cell_type": "code",
   "execution_count": null,
   "metadata": {},
   "outputs": [],
   "source": []
  },
  {
   "cell_type": "code",
   "execution_count": null,
   "metadata": {},
   "outputs": [],
   "source": []
  }
 ],
 "metadata": {
  "kernelspec": {
   "display_name": "Python 3",
   "language": "python",
   "name": "python3"
  },
  "language_info": {
   "codemirror_mode": {
    "name": "ipython",
    "version": 3
   },
   "file_extension": ".py",
   "mimetype": "text/x-python",
   "name": "python",
   "nbconvert_exporter": "python",
   "pygments_lexer": "ipython3",
   "version": "3.7.7"
  }
 },
 "nbformat": 4,
 "nbformat_minor": 4
}
