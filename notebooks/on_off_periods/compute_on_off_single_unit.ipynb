{
 "cells": [
  {
   "cell_type": "code",
   "execution_count": null,
   "metadata": {},
   "outputs": [],
   "source": [
    "import itertools\n",
    "\n",
    "import ecephys_project_manager.on_off as on_off"
   ]
  },
  {
   "cell_type": "code",
   "execution_count": null,
   "metadata": {},
   "outputs": [],
   "source": [
    "data_conditions = [\n",
    "    # (\n",
    "    #     'Luigi',\n",
    "    #     'sleep-homeostasis-2h_imec0',\n",
    "    #     'ks2_5_catgt_Th=12-10_lam=50_8s-batches_postpro_2_metrics_all_isi',\n",
    "    # ),\n",
    "]\n",
    "\n",
    "region = 'all'\n",
    "\n",
    "selection_intervals = {\n",
    "    'fr': (0.0, float('Inf')),\n",
    "}\n",
    "\n",
    "selected_groups = ['good', 'mua', 'noise_contam']\n",
    "\n",
    "pool = False\n",
    "\n",
    "states = ['N2']\n",
    "\n",
    "detection_condition = 'on_off_threshold_single_unit_2'\n",
    "\n",
    "root_key = 'sleep-homeostasis'\n",
    "\n",
    "n_jobs = 120\n"
   ]
  },
  {
   "cell_type": "code",
   "execution_count": null,
   "metadata": {},
   "outputs": [],
   "source": [
    "for (\n",
    "    (subject, condition, sorting_condition), (state)\n",
    ") in itertools.product(data_conditions, states):\n",
    "\n",
    "    print(subject, condition, sorting_condition, region, state)\n",
    "\n",
    "    on_off_df = on_off.run_on_off_detection(\n",
    "        subject,\n",
    "        condition,\n",
    "        detection_condition,\n",
    "        sorting_condition=sorting_condition,\n",
    "        region=region,\n",
    "        selection_intervals=selection_intervals,\n",
    "        state=state,\n",
    "        selected_groups=selected_groups,\n",
    "        pool=pool,\n",
    "        n_jobs=n_jobs,\n",
    "        root_key=root_key,\n",
    "    )\n"
   ]
  }
 ],
 "metadata": {
  "interpreter": {
   "hash": "97774d1211bf46f9345e50473d1a02d2902be94cc3bf23c7cd9d5f9ac383e674"
  },
  "kernelspec": {
   "display_name": "Python 3.7.7 64-bit ('neuropix': conda)",
   "name": "python3"
  },
  "language_info": {
   "codemirror_mode": {
    "name": "ipython",
    "version": 3
   },
   "file_extension": ".py",
   "mimetype": "text/x-python",
   "name": "python",
   "nbconvert_exporter": "python",
   "pygments_lexer": "ipython3",
   "version": "3.7.7"
  }
 },
 "nbformat": 4,
 "nbformat_minor": 4
}
