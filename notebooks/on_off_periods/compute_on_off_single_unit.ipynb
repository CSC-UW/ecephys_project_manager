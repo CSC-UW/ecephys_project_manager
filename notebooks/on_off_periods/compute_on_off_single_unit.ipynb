{
 "cells": [
  {
   "cell_type": "code",
   "execution_count": null,
   "metadata": {},
   "outputs": [],
   "source": [
    "import ecephys_analyses.on_off as on_off\n",
    "\n",
    "from joblib import Parallel, delayed"
   ]
  },
  {
   "cell_type": "code",
   "execution_count": null,
   "metadata": {},
   "outputs": [],
   "source": [
    "data_conditions = [\n",
    "    (\n",
    "        'Doppio',\n",
    "        'sleep-homeostasis-2h_imec1',\n",
    "        'ks2_5_catgt_Th=12-10_lam=50_8s-batches_postpro_1',\n",
    "        'cortex'\n",
    "    ),\n",
    "]\n",
    "# subject = 'Doppio'\n",
    "# condition = 'sleep-homeostasis-2h_imec1'\n",
    "\n",
    "FR_interval = (0.5, 5) # Hz\n",
    "\n",
    "good_only = True\n",
    "\n",
    "pool = False\n",
    "\n",
    "state = 'N2'\n",
    "\n",
    "detection_condition = 'on_off_threshold_single_unit_1'\n",
    "\n",
    "n_jobs = 102"
   ]
  },
  {
   "cell_type": "code",
   "execution_count": null,
   "metadata": {},
   "outputs": [],
   "source": [
    "for (\n",
    "    subject, condition, sorting_condition, region\n",
    ") in data_conditions:\n",
    "\n",
    "    print(subject, condition, sorting_condition, region)\n",
    "\n",
    "    on_off_df = on_off.run_on_off_detection(\n",
    "        subject,\n",
    "        condition,\n",
    "        detection_condition,\n",
    "        sorting_condition=sorting_condition,\n",
    "        region=region,\n",
    "        region_name=None,\n",
    "        depth_interval=None,\n",
    "        FR_interval=FR_interval,\n",
    "        state=state,\n",
    "        good_only=good_only,\n",
    "        pool=pool,\n",
    "        n_jobs=n_jobs,\n",
    "    )"
   ]
  },
  {
   "cell_type": "code",
   "execution_count": null,
   "metadata": {},
   "outputs": [],
   "source": []
  }
 ],
 "metadata": {
  "kernelspec": {
   "display_name": "Python 3",
   "language": "python",
   "name": "python3"
  },
  "language_info": {
   "codemirror_mode": {
    "name": "ipython",
    "version": 3
   },
   "file_extension": ".py",
   "mimetype": "text/x-python",
   "name": "python",
   "nbconvert_exporter": "python",
   "pygments_lexer": "ipython3",
   "version": "3.7.7"
  }
 },
 "nbformat": 4,
 "nbformat_minor": 4
}
